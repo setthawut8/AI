{
  "nbformat": 4,
  "nbformat_minor": 0,
  "metadata": {
    "colab": {
      "name": "[TH2EN  EML CNN] Banking Data.ipynb",
      "provenance": [],
      "machine_shape": "hm",
      "collapsed_sections": [],
      "toc_visible": true,
      "authorship_tag": "ABX9TyNXtIRH0b2nr2KmelB9IAGU",
      "include_colab_link": true
    },
    "kernelspec": {
      "name": "python3",
      "display_name": "Python 3"
    },
    "language_info": {
      "name": "python"
    },
    "accelerator": "GPU",
    "gpuClass": "standard"
  },
  "cells": [
    {
      "cell_type": "markdown",
      "metadata": {
        "id": "view-in-github",
        "colab_type": "text"
      },
      "source": [
        "<a href=\"https://colab.research.google.com/github/setthawut8/ai/blob/main/%5BTH2EN_EML_CNN%5D_Banking_Data.ipynb\" target=\"_parent\"><img src=\"https://colab.research.google.com/assets/colab-badge.svg\" alt=\"Open In Colab\"/></a>"
      ]
    },
    {
      "cell_type": "markdown",
      "source": [
        "#Download Data and Library Installation"
      ],
      "metadata": {
        "id": "DKZejA_uh9kv"
      }
    },
    {
      "cell_type": "code",
      "execution_count": null,
      "metadata": {
        "id": "rY0gVkg8ahbS"
      },
      "outputs": [],
      "source": [
        "#download data\n",
        "#raw\n",
        "!gdown --id 1-avUDygRCGvAiPplmc6MundS_PpnohRv \n",
        "!gdown --id 106OVRPIQQBppganRnCZigxQh6-Zyvqit\n",
        "#raw with translated\n",
        "!gdown --id 1hdmLmyVp_-MOmHBKWs4OukuxoyUFxW8X\n",
        "!gdown --id 1Cq3FttnnzZa-RK7vlu94bJTRj8YD6vA5\n",
        "\n",
        "!pip install flair \n",
        "!pip install fairseq\n",
        "!pip install pythainlp\n",
        "!pip install transformers\n",
        "!pip install sacremoses sentencepiece"
      ]
    },
    {
      "cell_type": "code",
      "source": [
        "#libraby \n",
        "import numpy as np\n",
        "import pandas as pd\n",
        "import seaborn as sns\n",
        "import matplotlib.pyplot as plt\n",
        "\n",
        "import string\n",
        "import os, os.path\n",
        "import pandas as pd\n",
        "import seaborn as sns\n",
        "\n",
        "import nltk\n",
        "nltk.download('stopwords')\n",
        "from nltk.corpus import stopwords\n",
        "\n",
        "from string import punctuation\n",
        "from os import listdir\n",
        "from collections import Counter\n",
        "from nltk.corpus import stopwords\n",
        "\n",
        "from keras.preprocessing.text import Tokenizer\n",
        "from keras_preprocessing.sequence import pad_sequences\n",
        "\n",
        "from keras.layers import Dense\n",
        "from keras.layers import Flatten\n",
        "from keras.layers import Embedding\n",
        "from keras.models import Sequential\n",
        "from keras.layers.convolutional import Conv1D\n",
        "from keras.layers.convolutional import MaxPooling1D"
      ],
      "metadata": {
        "id": "cgMb7j8pbNQj",
        "colab": {
          "base_uri": "https://localhost:8080/"
        },
        "outputId": "cfa74dfd-30b9-4b91-f373-2155cd401675"
      },
      "execution_count": 20,
      "outputs": [
        {
          "output_type": "stream",
          "name": "stderr",
          "text": [
            "[nltk_data] Downloading package stopwords to /root/nltk_data...\n",
            "[nltk_data]   Package stopwords is already up-to-date!\n"
          ]
        }
      ]
    },
    {
      "cell_type": "code",
      "source": [
        "train = pd.read_csv('/content/train_translated banking data.csv')\n",
        "test = pd.read_csv('/content/test_translated banking data.csv')"
      ],
      "metadata": {
        "id": "ITJldeRSbbc6"
      },
      "execution_count": 3,
      "outputs": []
    },
    {
      "cell_type": "code",
      "source": [
        "train.head(5)"
      ],
      "metadata": {
        "colab": {
          "base_uri": "https://localhost:8080/",
          "height": 583
        },
        "id": "sMuRAAX0b2mv",
        "outputId": "9e490550-a7eb-496e-d57e-e334d15b2484"
      },
      "execution_count": 4,
      "outputs": [
        {
          "output_type": "execute_result",
          "data": {
            "text/plain": [
              "   Unnamed: 0  Unnamed: 0.1  \\\n",
              "0           0             0   \n",
              "1           1             1   \n",
              "2           2             2   \n",
              "3           3             3   \n",
              "4           4             4   \n",
              "\n",
              "                                        TagFile_Path  \\\n",
              "0  SocialFSI_ZE-KTB-Feb-Apr2022_Sampling2244_2022...   \n",
              "1  SocialFSI_v4_0_mutiple_train_sampling8203_2021...   \n",
              "2  SocialFSI_ZE-KTB-Feb-Apr2022_Sampling2244_2022...   \n",
              "3  SocialFSI_v4_0_mutiple_train_sampling8203_2021...   \n",
              "4  SocialFSI_v4_0_mutiple_train_sampling8203_2021...   \n",
              "\n",
              "                                             TagFile SV_CustomerName  \\\n",
              "0  SocialFSI_ZE-KTB-Feb-Apr2022_Sampling1400_2022...  Krungthai_NEXT   \n",
              "1  SocialFSI_TrainDataV4_RetagCLS-12_Sampling53_P...             NaN   \n",
              "2  SocialFSI_ZE-KTB-Feb-Apr2022_Sampling1200_2022...  Krungthai_NEXT   \n",
              "3  SocialFSI_TrainSCB-SocialFilterV2_Sampling2750...             NaN   \n",
              "4  SocialFSI_TrainSCB-SocialFilterV2_Sampling2750...             NaN   \n",
              "\n",
              "                                        Main keyword      Channel SubChannel  \\\n",
              "0  mobile banking+กสิกร,mobile banking+ธนาคารกสิก...  SocialMedia      forum   \n",
              "1                                                NaN  SocialMedia    Twitter   \n",
              "2                                          krungthai  SocialMedia   facebook   \n",
              "3                                                NaN  SocialMedia    Twitter   \n",
              "4                                                NaN  SocialMedia    Twitter   \n",
              "\n",
              "                                 lfdn   verbatim_id     sentence_id  \\\n",
              "0           pantip.com_topic_41249919    Q2207_1549    Q2207_1549_1   \n",
              "1            5fffc6bcb08b583a24679d59  Q202106_5805  Q202106_5805_1   \n",
              "2  10161808181448916_1330115550790924     Q2207_636     Q2207_636_1   \n",
              "3                            27634345   Q202106_961   Q202106_961_1   \n",
              "4                            28297653  Q202106_2021  Q202106_2021_1   \n",
              "\n",
              "                                       Text_original  \\\n",
              "0  สอบถามเรื่องการอายัดบัตรเดบิตของกสิกรค่ะ พอดีว...   \n",
              "1  ปกติจะไม่ชอบlog in ใดๆในคอมคนอื่นหรือสำนักงานใ...   \n",
              "2  Krungthai Care ณ. ตอนนี้ยอดก็ยังไม่เข้าค่ะ ถ้า...   \n",
              "3  @scb_thailand เรียน scb ขอเบอร?ตืดต่อเพราะคุย ...   \n",
              "4  ไอเลิ้บ TMB All Free มาก แต่ช่วยพัฒนาแอพให้สเถ...   \n",
              "\n",
              "                                                Text  \\\n",
              "0  สอบถามเรื่องการอายัดบัตรเดบิตของกสิกรค่ะ พอดีว...   \n",
              "1  ปกติจะไม่ชอบlog in ใดๆในคอมคนอื่นหรือสำนักงานใ...   \n",
              "2  Krungthai Care ณ. ตอนนี้ยอดก็ยังไม่เข้าค่ะ ถ้า...   \n",
              "3  @scb_thailand เรียน scb ขอเบอร?ตืดต่อเพราะคุย ...   \n",
              "4                          ไอเลิ้บ TMB All Free มาก    \n",
              "\n",
              "                             Human_Category  Human_CategoryID Human_Sentiment  \\\n",
              "0  Product and Service, Usage and Condition                 8         neutral   \n",
              "1                                  Security                12         neutral   \n",
              "2               Product and Service, System                 7        negative   \n",
              "3                             Staff Quality                 4        negative   \n",
              "4  Product and Service, Usage and Condition                 8        positive   \n",
              "\n",
              "  Human_SentimentID                                      Text_ws_local  \\\n",
              "0                 o  สอบถาม|เรื่อง|การ|อายัด|บัตรเดบิต|ของ|kbank|ค่...   \n",
              "1                 o  ปกติ|จะ|ไม่ชอบ| |log| |in| |ใดๆ| |ใน|ค|อม|คนอื...   \n",
              "2                 n  ktb| |care| |ณ|.| |ตอนนี้|ยอด|ก็|ยัง|ไม่|เข้า|...   \n",
              "3                 n  scb_thailand| |เรียน| |scb| |ขอ|เบอร| |ตืด|ต่อ...   \n",
              "4                 p                    ไอ|เลิ้บ| |tmb_all_free| |มาก|    \n",
              "\n",
              "                                          translated  \n",
              "0  I've been asking about the debit card holders....  \n",
              "1  Usually don't like logins on any other compute...  \n",
              "2  Krungthai Care as of right now, it's not the t...  \n",
              "3                         @scb_thailand studied scb.  \n",
              "4  Ib TMB All Free. But it helps to improve apps....  "
            ],
            "text/html": [
              "\n",
              "  <div id=\"df-301160b4-fe61-4283-9207-c95a00ee8a49\">\n",
              "    <div class=\"colab-df-container\">\n",
              "      <div>\n",
              "<style scoped>\n",
              "    .dataframe tbody tr th:only-of-type {\n",
              "        vertical-align: middle;\n",
              "    }\n",
              "\n",
              "    .dataframe tbody tr th {\n",
              "        vertical-align: top;\n",
              "    }\n",
              "\n",
              "    .dataframe thead th {\n",
              "        text-align: right;\n",
              "    }\n",
              "</style>\n",
              "<table border=\"1\" class=\"dataframe\">\n",
              "  <thead>\n",
              "    <tr style=\"text-align: right;\">\n",
              "      <th></th>\n",
              "      <th>Unnamed: 0</th>\n",
              "      <th>Unnamed: 0.1</th>\n",
              "      <th>TagFile_Path</th>\n",
              "      <th>TagFile</th>\n",
              "      <th>SV_CustomerName</th>\n",
              "      <th>Main keyword</th>\n",
              "      <th>Channel</th>\n",
              "      <th>SubChannel</th>\n",
              "      <th>lfdn</th>\n",
              "      <th>verbatim_id</th>\n",
              "      <th>sentence_id</th>\n",
              "      <th>Text_original</th>\n",
              "      <th>Text</th>\n",
              "      <th>Human_Category</th>\n",
              "      <th>Human_CategoryID</th>\n",
              "      <th>Human_Sentiment</th>\n",
              "      <th>Human_SentimentID</th>\n",
              "      <th>Text_ws_local</th>\n",
              "      <th>translated</th>\n",
              "    </tr>\n",
              "  </thead>\n",
              "  <tbody>\n",
              "    <tr>\n",
              "      <th>0</th>\n",
              "      <td>0</td>\n",
              "      <td>0</td>\n",
              "      <td>SocialFSI_ZE-KTB-Feb-Apr2022_Sampling2244_2022...</td>\n",
              "      <td>SocialFSI_ZE-KTB-Feb-Apr2022_Sampling1400_2022...</td>\n",
              "      <td>Krungthai_NEXT</td>\n",
              "      <td>mobile banking+กสิกร,mobile banking+ธนาคารกสิก...</td>\n",
              "      <td>SocialMedia</td>\n",
              "      <td>forum</td>\n",
              "      <td>pantip.com_topic_41249919</td>\n",
              "      <td>Q2207_1549</td>\n",
              "      <td>Q2207_1549_1</td>\n",
              "      <td>สอบถามเรื่องการอายัดบัตรเดบิตของกสิกรค่ะ พอดีว...</td>\n",
              "      <td>สอบถามเรื่องการอายัดบัตรเดบิตของกสิกรค่ะ พอดีว...</td>\n",
              "      <td>Product and Service, Usage and Condition</td>\n",
              "      <td>8</td>\n",
              "      <td>neutral</td>\n",
              "      <td>o</td>\n",
              "      <td>สอบถาม|เรื่อง|การ|อายัด|บัตรเดบิต|ของ|kbank|ค่...</td>\n",
              "      <td>I've been asking about the debit card holders....</td>\n",
              "    </tr>\n",
              "    <tr>\n",
              "      <th>1</th>\n",
              "      <td>1</td>\n",
              "      <td>1</td>\n",
              "      <td>SocialFSI_v4_0_mutiple_train_sampling8203_2021...</td>\n",
              "      <td>SocialFSI_TrainDataV4_RetagCLS-12_Sampling53_P...</td>\n",
              "      <td>NaN</td>\n",
              "      <td>NaN</td>\n",
              "      <td>SocialMedia</td>\n",
              "      <td>Twitter</td>\n",
              "      <td>5fffc6bcb08b583a24679d59</td>\n",
              "      <td>Q202106_5805</td>\n",
              "      <td>Q202106_5805_1</td>\n",
              "      <td>ปกติจะไม่ชอบlog in ใดๆในคอมคนอื่นหรือสำนักงานใ...</td>\n",
              "      <td>ปกติจะไม่ชอบlog in ใดๆในคอมคนอื่นหรือสำนักงานใ...</td>\n",
              "      <td>Security</td>\n",
              "      <td>12</td>\n",
              "      <td>neutral</td>\n",
              "      <td>o</td>\n",
              "      <td>ปกติ|จะ|ไม่ชอบ| |log| |in| |ใดๆ| |ใน|ค|อม|คนอื...</td>\n",
              "      <td>Usually don't like logins on any other compute...</td>\n",
              "    </tr>\n",
              "    <tr>\n",
              "      <th>2</th>\n",
              "      <td>2</td>\n",
              "      <td>2</td>\n",
              "      <td>SocialFSI_ZE-KTB-Feb-Apr2022_Sampling2244_2022...</td>\n",
              "      <td>SocialFSI_ZE-KTB-Feb-Apr2022_Sampling1200_2022...</td>\n",
              "      <td>Krungthai_NEXT</td>\n",
              "      <td>krungthai</td>\n",
              "      <td>SocialMedia</td>\n",
              "      <td>facebook</td>\n",
              "      <td>10161808181448916_1330115550790924</td>\n",
              "      <td>Q2207_636</td>\n",
              "      <td>Q2207_636_1</td>\n",
              "      <td>Krungthai Care ณ. ตอนนี้ยอดก็ยังไม่เข้าค่ะ ถ้า...</td>\n",
              "      <td>Krungthai Care ณ. ตอนนี้ยอดก็ยังไม่เข้าค่ะ ถ้า...</td>\n",
              "      <td>Product and Service, System</td>\n",
              "      <td>7</td>\n",
              "      <td>negative</td>\n",
              "      <td>n</td>\n",
              "      <td>ktb| |care| |ณ|.| |ตอนนี้|ยอด|ก็|ยัง|ไม่|เข้า|...</td>\n",
              "      <td>Krungthai Care as of right now, it's not the t...</td>\n",
              "    </tr>\n",
              "    <tr>\n",
              "      <th>3</th>\n",
              "      <td>3</td>\n",
              "      <td>3</td>\n",
              "      <td>SocialFSI_v4_0_mutiple_train_sampling8203_2021...</td>\n",
              "      <td>SocialFSI_TrainSCB-SocialFilterV2_Sampling2750...</td>\n",
              "      <td>NaN</td>\n",
              "      <td>NaN</td>\n",
              "      <td>SocialMedia</td>\n",
              "      <td>Twitter</td>\n",
              "      <td>27634345</td>\n",
              "      <td>Q202106_961</td>\n",
              "      <td>Q202106_961_1</td>\n",
              "      <td>@scb_thailand เรียน scb ขอเบอร?ตืดต่อเพราะคุย ...</td>\n",
              "      <td>@scb_thailand เรียน scb ขอเบอร?ตืดต่อเพราะคุย ...</td>\n",
              "      <td>Staff Quality</td>\n",
              "      <td>4</td>\n",
              "      <td>negative</td>\n",
              "      <td>n</td>\n",
              "      <td>scb_thailand| |เรียน| |scb| |ขอ|เบอร| |ตืด|ต่อ...</td>\n",
              "      <td>@scb_thailand studied scb.</td>\n",
              "    </tr>\n",
              "    <tr>\n",
              "      <th>4</th>\n",
              "      <td>4</td>\n",
              "      <td>4</td>\n",
              "      <td>SocialFSI_v4_0_mutiple_train_sampling8203_2021...</td>\n",
              "      <td>SocialFSI_TrainSCB-SocialFilterV2_Sampling2750...</td>\n",
              "      <td>NaN</td>\n",
              "      <td>NaN</td>\n",
              "      <td>SocialMedia</td>\n",
              "      <td>Twitter</td>\n",
              "      <td>28297653</td>\n",
              "      <td>Q202106_2021</td>\n",
              "      <td>Q202106_2021_1</td>\n",
              "      <td>ไอเลิ้บ TMB All Free มาก แต่ช่วยพัฒนาแอพให้สเถ...</td>\n",
              "      <td>ไอเลิ้บ TMB All Free มาก</td>\n",
              "      <td>Product and Service, Usage and Condition</td>\n",
              "      <td>8</td>\n",
              "      <td>positive</td>\n",
              "      <td>p</td>\n",
              "      <td>ไอ|เลิ้บ| |tmb_all_free| |มาก|</td>\n",
              "      <td>Ib TMB All Free. But it helps to improve apps....</td>\n",
              "    </tr>\n",
              "  </tbody>\n",
              "</table>\n",
              "</div>\n",
              "      <button class=\"colab-df-convert\" onclick=\"convertToInteractive('df-301160b4-fe61-4283-9207-c95a00ee8a49')\"\n",
              "              title=\"Convert this dataframe to an interactive table.\"\n",
              "              style=\"display:none;\">\n",
              "        \n",
              "  <svg xmlns=\"http://www.w3.org/2000/svg\" height=\"24px\"viewBox=\"0 0 24 24\"\n",
              "       width=\"24px\">\n",
              "    <path d=\"M0 0h24v24H0V0z\" fill=\"none\"/>\n",
              "    <path d=\"M18.56 5.44l.94 2.06.94-2.06 2.06-.94-2.06-.94-.94-2.06-.94 2.06-2.06.94zm-11 1L8.5 8.5l.94-2.06 2.06-.94-2.06-.94L8.5 2.5l-.94 2.06-2.06.94zm10 10l.94 2.06.94-2.06 2.06-.94-2.06-.94-.94-2.06-.94 2.06-2.06.94z\"/><path d=\"M17.41 7.96l-1.37-1.37c-.4-.4-.92-.59-1.43-.59-.52 0-1.04.2-1.43.59L10.3 9.45l-7.72 7.72c-.78.78-.78 2.05 0 2.83L4 21.41c.39.39.9.59 1.41.59.51 0 1.02-.2 1.41-.59l7.78-7.78 2.81-2.81c.8-.78.8-2.07 0-2.86zM5.41 20L4 18.59l7.72-7.72 1.47 1.35L5.41 20z\"/>\n",
              "  </svg>\n",
              "      </button>\n",
              "      \n",
              "  <style>\n",
              "    .colab-df-container {\n",
              "      display:flex;\n",
              "      flex-wrap:wrap;\n",
              "      gap: 12px;\n",
              "    }\n",
              "\n",
              "    .colab-df-convert {\n",
              "      background-color: #E8F0FE;\n",
              "      border: none;\n",
              "      border-radius: 50%;\n",
              "      cursor: pointer;\n",
              "      display: none;\n",
              "      fill: #1967D2;\n",
              "      height: 32px;\n",
              "      padding: 0 0 0 0;\n",
              "      width: 32px;\n",
              "    }\n",
              "\n",
              "    .colab-df-convert:hover {\n",
              "      background-color: #E2EBFA;\n",
              "      box-shadow: 0px 1px 2px rgba(60, 64, 67, 0.3), 0px 1px 3px 1px rgba(60, 64, 67, 0.15);\n",
              "      fill: #174EA6;\n",
              "    }\n",
              "\n",
              "    [theme=dark] .colab-df-convert {\n",
              "      background-color: #3B4455;\n",
              "      fill: #D2E3FC;\n",
              "    }\n",
              "\n",
              "    [theme=dark] .colab-df-convert:hover {\n",
              "      background-color: #434B5C;\n",
              "      box-shadow: 0px 1px 3px 1px rgba(0, 0, 0, 0.15);\n",
              "      filter: drop-shadow(0px 1px 2px rgba(0, 0, 0, 0.3));\n",
              "      fill: #FFFFFF;\n",
              "    }\n",
              "  </style>\n",
              "\n",
              "      <script>\n",
              "        const buttonEl =\n",
              "          document.querySelector('#df-301160b4-fe61-4283-9207-c95a00ee8a49 button.colab-df-convert');\n",
              "        buttonEl.style.display =\n",
              "          google.colab.kernel.accessAllowed ? 'block' : 'none';\n",
              "\n",
              "        async function convertToInteractive(key) {\n",
              "          const element = document.querySelector('#df-301160b4-fe61-4283-9207-c95a00ee8a49');\n",
              "          const dataTable =\n",
              "            await google.colab.kernel.invokeFunction('convertToInteractive',\n",
              "                                                     [key], {});\n",
              "          if (!dataTable) return;\n",
              "\n",
              "          const docLinkHtml = 'Like what you see? Visit the ' +\n",
              "            '<a target=\"_blank\" href=https://colab.research.google.com/notebooks/data_table.ipynb>data table notebook</a>'\n",
              "            + ' to learn more about interactive tables.';\n",
              "          element.innerHTML = '';\n",
              "          dataTable['output_type'] = 'display_data';\n",
              "          await google.colab.output.renderOutput(dataTable, element);\n",
              "          const docLink = document.createElement('div');\n",
              "          docLink.innerHTML = docLinkHtml;\n",
              "          element.appendChild(docLink);\n",
              "        }\n",
              "      </script>\n",
              "    </div>\n",
              "  </div>\n",
              "  "
            ]
          },
          "metadata": {},
          "execution_count": 4
        }
      ]
    },
    {
      "cell_type": "code",
      "source": [
        "train['Human_CategoryID'].value_counts().sort_index(ascending=True)"
      ],
      "metadata": {
        "colab": {
          "base_uri": "https://localhost:8080/"
        },
        "id": "HA6bOeakDu5L",
        "outputId": "94521859-5d73-4255-a637-3529eb498335"
      },
      "execution_count": 5,
      "outputs": [
        {
          "output_type": "execute_result",
          "data": {
            "text/plain": [
              "1      185\n",
              "2       16\n",
              "3      377\n",
              "4      522\n",
              "5     1163\n",
              "6     1109\n",
              "7     3275\n",
              "8     2454\n",
              "9      153\n",
              "10     379\n",
              "11     232\n",
              "12     152\n",
              "13    2133\n",
              "Name: Human_CategoryID, dtype: int64"
            ]
          },
          "metadata": {},
          "execution_count": 5
        }
      ]
    },
    {
      "cell_type": "markdown",
      "source": [
        "#Translation"
      ],
      "metadata": {
        "id": "-Hi7_QknsJKg"
      }
    },
    {
      "cell_type": "code",
      "source": [
        "from pythainlp.translate import Translate\n",
        "th2en = Translate('th', 'en')"
      ],
      "metadata": {
        "colab": {
          "base_uri": "https://localhost:8080/"
        },
        "id": "N29J9c5W6UcK",
        "outputId": "5bbe1665-f880-448f-bbc7-587c82949d29"
      },
      "execution_count": null,
      "outputs": [
        {
          "output_type": "stream",
          "name": "stderr",
          "text": [
            "2022-07-07 03:43:27 | INFO | fairseq.tasks.text_to_speech | Please install tensorboardX: pip install tensorboardX\n"
          ]
        },
        {
          "output_type": "stream",
          "name": "stdout",
          "text": [
            "Corpus: scb_1m_th-en_spm\n",
            "- Downloading: scb_1m_th-en_spm 1.0\n"
          ]
        },
        {
          "output_type": "stream",
          "name": "stderr",
          "text": [
            "100%|██████████| 703780432/703780432 [01:03<00:00, 11087412.02it/s]\n",
            "2022-07-07 03:44:40 | INFO | fairseq.file_utils | loading archive file /root/pythainlp-data/scb_1m_th-en_spm/SCB_1M-MT_OPUS+TBASE_th-en_spm-spm_32000-joined_v1.0/models\n",
            "2022-07-07 03:44:40 | INFO | fairseq.file_utils | loading archive file /root/pythainlp-data/scb_1m_th-en_spm/SCB_1M-MT_OPUS+TBASE_th-en_spm-spm_32000-joined_v1.0/vocab\n",
            "2022-07-07 03:44:44 | INFO | fairseq.tasks.translation | [th] dictionary: 29720 types\n",
            "2022-07-07 03:44:44 | INFO | fairseq.tasks.translation | [en] dictionary: 29720 types\n",
            "2022-07-07 03:44:45 | INFO | fairseq.models.fairseq_model | {'_name': None, 'common': {'_name': None, 'no_progress_bar': False, 'log_interval': 100, 'log_format': None, 'log_file': None, 'aim_repo': None, 'aim_run_hash': None, 'tensorboard_logdir': './checkpoints/1m-scb+mt-opus_27.5.2020/th-en/spm-spm/32000-joined/log', 'wandb_project': None, 'azureml_logging': False, 'seed': 1, 'cpu': False, 'tpu': False, 'bf16': False, 'memory_efficient_bf16': False, 'fp16': True, 'memory_efficient_fp16': False, 'fp16_no_flatten_grads': False, 'fp16_init_scale': 128, 'fp16_scale_window': None, 'fp16_scale_tolerance': 0.0, 'on_cpu_convert_precision': False, 'min_loss_scale': 0.0001, 'threshold_loss_scale': None, 'amp': False, 'amp_batch_retries': 2, 'amp_init_scale': 128, 'amp_scale_window': None, 'user_dir': None, 'empty_cache_freq': 0, 'all_gather_list_size': 16384, 'model_parallel_size': 1, 'quantization_config_path': None, 'profile': False, 'reset_logging': False, 'suppress_crashes': False, 'use_plasma_view': False, 'plasma_path': '/tmp/plasma'}, 'common_eval': {'_name': None, 'path': None, 'post_process': None, 'quiet': False, 'model_overrides': '{}', 'results_path': None}, 'distributed_training': {'_name': None, 'distributed_world_size': 1, 'distributed_num_procs': 1, 'distributed_rank': 0, 'distributed_backend': 'nccl', 'distributed_init_method': None, 'distributed_port': -1, 'device_id': 0, 'distributed_no_spawn': False, 'ddp_backend': 'c10d', 'ddp_comm_hook': 'none', 'bucket_cap_mb': 25, 'fix_batches_to_gpus': False, 'find_unused_parameters': False, 'gradient_as_bucket_view': False, 'fast_stat_sync': False, 'heartbeat_timeout': -1, 'broadcast_buffers': False, 'slowmo_momentum': None, 'slowmo_base_algorithm': 'localsgd', 'localsgd_frequency': 3, 'nprocs_per_node': 1, 'pipeline_model_parallel': False, 'pipeline_balance': None, 'pipeline_devices': None, 'pipeline_chunks': 0, 'pipeline_encoder_balance': None, 'pipeline_encoder_devices': None, 'pipeline_decoder_balance': None, 'pipeline_decoder_devices': None, 'pipeline_checkpoint': 'never', 'zero_sharding': 'none', 'fp16': True, 'memory_efficient_fp16': False, 'tpu': True, 'no_reshard_after_forward': False, 'fp32_reduce_scatter': False, 'cpu_offload': False, 'use_sharded_state': False, 'not_fsdp_flatten_parameters': False}, 'dataset': {'_name': None, 'num_workers': 1, 'skip_invalid_size_inputs_valid_test': True, 'max_tokens': 9750, 'batch_size': None, 'required_batch_size_multiple': 8, 'required_seq_len_multiple': 1, 'dataset_impl': None, 'data_buffer_size': 10, 'train_subset': 'train', 'valid_subset': 'valid', 'combine_valid_subsets': None, 'ignore_unused_valid_subsets': False, 'validate_interval': 1, 'validate_interval_updates': 0, 'validate_after_updates': 0, 'fixed_validation_seed': None, 'disable_validation': False, 'max_tokens_valid': 9750, 'batch_size_valid': None, 'max_valid_steps': None, 'curriculum': 0, 'gen_subset': 'test', 'num_shards': 1, 'shard_id': 0, 'grouped_shuffling': False, 'update_epoch_batch_itr': True, 'update_ordered_indices_seed': False}, 'optimization': {'_name': None, 'max_epoch': 150, 'max_update': 0, 'stop_time_hours': 0.0, 'clip_norm': 0.0, 'sentence_avg': False, 'update_freq': [16], 'lr': [0.0005], 'stop_min_lr': -1.0, 'use_bmuf': False, 'skip_remainder_batch': False}, 'checkpoint': {'_name': None, 'save_dir': './checkpoints/1m-scb+mt-opus_27.5.2020/th-en/spm-spm/32000-joined', 'restore_file': 'checkpoint_last.pt', 'continue_once': None, 'finetune_from_model': None, 'reset_dataloader': False, 'reset_lr_scheduler': False, 'reset_meters': False, 'reset_optimizer': False, 'optimizer_overrides': '{}', 'save_interval': 1, 'save_interval_updates': 0, 'keep_interval_updates': -1, 'keep_interval_updates_pattern': -1, 'keep_last_epochs': 25, 'keep_best_checkpoints': -1, 'no_save': False, 'no_epoch_checkpoints': False, 'no_last_checkpoints': False, 'no_save_optimizer_state': False, 'best_checkpoint_metric': 'loss', 'maximize_best_checkpoint_metric': False, 'patience': -1, 'checkpoint_suffix': '', 'checkpoint_shard_count': 1, 'load_checkpoint_on_all_dp_ranks': False, 'write_checkpoints_asynchronously': False, 'model_parallel_size': 1}, 'bmuf': {'_name': None, 'block_lr': 1.0, 'block_momentum': 0.875, 'global_sync_iter': 50, 'warmup_iterations': 500, 'use_nbm': False, 'average_sync': False, 'distributed_world_size': 1}, 'generation': {'_name': None, 'beam': 5, 'nbest': 1, 'max_len_a': 0.0, 'max_len_b': 200, 'min_len': 1, 'match_source_len': False, 'unnormalized': False, 'no_early_stop': False, 'no_beamable_mm': False, 'lenpen': 1.0, 'unkpen': 0.0, 'replace_unk': None, 'sacrebleu': False, 'score_reference': False, 'prefix_size': 0, 'no_repeat_ngram_size': 0, 'sampling': False, 'sampling_topk': -1, 'sampling_topp': -1.0, 'constraints': None, 'temperature': 1.0, 'diverse_beam_groups': -1, 'diverse_beam_strength': 0.5, 'diversity_rate': -1.0, 'print_alignment': None, 'print_step': False, 'lm_path': None, 'lm_weight': 0.0, 'iter_decode_eos_penalty': 0.0, 'iter_decode_max_iter': 10, 'iter_decode_force_max_iter': False, 'iter_decode_with_beam': 1, 'iter_decode_with_external_reranker': False, 'retain_iter_history': False, 'retain_dropout': False, 'retain_dropout_modules': None, 'decoding_format': None, 'no_seed_provided': False, 'eos_token': None}, 'eval_lm': {'_name': None, 'output_word_probs': False, 'output_word_stats': False, 'context_window': 0, 'softmax_batch': 9223372036854775807}, 'interactive': {'_name': None, 'buffer_size': 0, 'input': '-'}, 'model': Namespace(_name='transformer', activation_dropout=0.0, activation_fn='relu', adam_betas='(0.9, 0.98)', adam_eps=1e-08, adaptive_input=False, adaptive_softmax_cutoff=None, adaptive_softmax_dropout=0, all_gather_list_size=16384, arch='transformer', attention_dropout=0.0, best_checkpoint_metric='loss', bpe='sentencepiece', broadcast_buffers=False, bucket_cap_mb=25, checkpoint_activations=False, checkpoint_suffix='', clip_norm=0.0, cpu=False, criterion='label_smoothed_cross_entropy', cross_self_attention=False, curriculum=0, data='/root/pythainlp-data/scb_1m_th-en_spm/SCB_1M-MT_OPUS+TBASE_th-en_spm-spm_32000-joined_v1.0/vocab', dataset_impl=None, ddp_backend='c10d', decoder_attention_heads=8, decoder_embed_dim=512, decoder_embed_path=None, decoder_ffn_embed_dim=2048, decoder_input_dim=512, decoder_layerdrop=0, decoder_layers=6, decoder_layers_to_keep=None, decoder_learned_pos=False, decoder_normalize_before=False, decoder_output_dim=512, device_id=0, disable_validation=False, distributed_backend='nccl', distributed_init_method=None, distributed_no_spawn=False, distributed_port=-1, distributed_rank=0, distributed_world_size=1, distributed_wrapper='DDP', dropout=0.3, empty_cache_freq=0, encoder_attention_heads=8, encoder_embed_dim=512, encoder_embed_path=None, encoder_ffn_embed_dim=2048, encoder_layerdrop=0, encoder_layers=6, encoder_layers_to_keep=None, encoder_learned_pos=False, encoder_normalize_before=False, eval_bleu=False, eval_bleu_args=None, eval_bleu_detok='space', eval_bleu_detok_args=None, eval_bleu_print_samples=False, eval_bleu_remove_bpe=None, eval_tokenized_bleu=False, fast_stat_sync=False, find_unused_parameters=False, fix_batches_to_gpus=False, fixed_validation_seed=None, fp16=True, fp16_init_scale=128, fp16_no_flatten_grads=False, fp16_scale_tolerance=0.0, fp16_scale_window=None, keep_best_checkpoints=-1, keep_interval_updates=-1, keep_last_epochs=25, label_smoothing=0.1, layer_wise_attention=False, layernorm_embedding=False, left_pad_source=True, left_pad_target=False, load_alignments=False, localsgd_frequency=3, log_format=None, log_interval=100, lr=[0.0005], lr_scheduler='inverse_sqrt', max_epoch=150, max_sentences=None, max_sentences_valid=None, max_source_positions=1024, max_target_positions=1024, max_tokens=9750, max_tokens_valid=9750, max_update=0, maximize_best_checkpoint_metric=False, memory_efficient_fp16=False, min_loss_scale=0.0001, min_params_to_wrap=100000000, model_parallel_size=1, no_cross_attention=False, no_epoch_checkpoints=False, no_last_checkpoints=False, no_progress_bar=False, no_save=False, no_save_optimizer_state=False, no_scale_embedding=False, no_token_positional_embeddings=False, nprocs_per_node=1, num_workers=1, offload_activations=False, optimizer='adam', optimizer_overrides='{}', patience=-1, quant_noise_pq=0, quant_noise_pq_block_size=8, quant_noise_scalar=0, quantization_config_path=None, required_batch_size_multiple=8, reset_dataloader=False, reset_lr_scheduler=False, reset_meters=False, reset_optimizer=False, restore_file='checkpoint_last.pt', save_dir='./checkpoints/1m-scb+mt-opus_27.5.2020/th-en/spm-spm/32000-joined', save_interval=1, save_interval_updates=0, seed=1, sentence_avg=False, sentencepiece_model='/root/pythainlp-data/scb_1m_th-en_spm/SCB_1M-MT_OPUS+TBASE_th-en_spm-spm_32000-joined_v1.0/bpe/spm.th.model', share_all_embeddings=False, share_decoder_input_output_embed=True, skip_invalid_size_inputs_valid_test=True, slowmo_algorithm='LocalSGD', slowmo_momentum=None, source_lang='th', stop_min_lr=-1, target_lang='en', task='translation', tensorboard_logdir='./checkpoints/1m-scb+mt-opus_27.5.2020/th-en/spm-spm/32000-joined/log', threshold_loss_scale=None, tie_adaptive_weights=False, tokenizer=None, train_subset='train', truncate_source=False, update_freq=[16], upsample_primary=1, use_bmuf=False, use_old_adam=False, user_dir=None, valid_subset='valid', validate_interval=1, warmup_init_lr=1e-07, warmup_updates=4000, weight_decay=0.0), 'task': {'_name': 'translation', 'data': '/root/pythainlp-data/scb_1m_th-en_spm/SCB_1M-MT_OPUS+TBASE_th-en_spm-spm_32000-joined_v1.0/vocab', 'source_lang': 'th', 'target_lang': 'en', 'load_alignments': False, 'left_pad_source': True, 'left_pad_target': False, 'max_source_positions': 1024, 'max_target_positions': 1024, 'upsample_primary': 1, 'truncate_source': False, 'num_batch_buckets': 0, 'train_subset': 'train', 'dataset_impl': None, 'required_seq_len_multiple': 1, 'eval_bleu': False, 'eval_bleu_args': None, 'eval_bleu_detok': 'space', 'eval_bleu_detok_args': None, 'eval_tokenized_bleu': False, 'eval_bleu_remove_bpe': None, 'eval_bleu_print_samples': False}, 'criterion': {'_name': 'label_smoothed_cross_entropy', 'label_smoothing': 0.1, 'report_accuracy': False, 'ignore_prefix_size': 0, 'sentence_avg': False}, 'optimizer': {'_name': 'adam', 'adam_betas': '(0.9, 0.98)', 'adam_eps': 1e-08, 'weight_decay': 0.0, 'use_old_adam': False, 'fp16_adam_stats': False, 'tpu': True, 'lr': [0.0005]}, 'lr_scheduler': {'_name': 'inverse_sqrt', 'warmup_updates': 4000, 'warmup_init_lr': 1e-07, 'lr': [0.0005]}, 'scoring': None, 'bpe': {'_name': 'sentencepiece', 'sentencepiece_model': '/root/pythainlp-data/scb_1m_th-en_spm/SCB_1M-MT_OPUS+TBASE_th-en_spm-spm_32000-joined_v1.0/bpe/spm.th.model', 'sentencepiece_enable_sampling': False, 'sentencepiece_alpha': None}, 'tokenizer': None, 'ema': {'_name': None, 'store_ema': False, 'ema_decay': 0.9999, 'ema_start_update': 0, 'ema_seed_model': None, 'ema_update_freq': 1, 'ema_fp32': False}}\n"
          ]
        }
      ]
    },
    {
      "cell_type": "code",
      "source": [
        "#processing for 4 hours\n",
        "train['translated'] = train['Text_original'].apply(lambda x: th2en.translate(x))"
      ],
      "metadata": {
        "id": "o77MiHOf68qS"
      },
      "execution_count": null,
      "outputs": []
    },
    {
      "cell_type": "code",
      "source": [
        "train.head(5)"
      ],
      "metadata": {
        "id": "5fR8T_4N8eep",
        "colab": {
          "base_uri": "https://localhost:8080/",
          "height": 583
        },
        "outputId": "37b80cb6-2fac-4d8b-8c4a-69b6e2711f40"
      },
      "execution_count": null,
      "outputs": [
        {
          "output_type": "execute_result",
          "data": {
            "text/plain": [
              "   Unnamed: 0                                       TagFile_Path  \\\n",
              "0           0  SocialFSI_ZE-KTB-Feb-Apr2022_Sampling2244_2022...   \n",
              "1           1  SocialFSI_v4_0_mutiple_train_sampling8203_2021...   \n",
              "2           2  SocialFSI_ZE-KTB-Feb-Apr2022_Sampling2244_2022...   \n",
              "3           3  SocialFSI_v4_0_mutiple_train_sampling8203_2021...   \n",
              "4           4  SocialFSI_v4_0_mutiple_train_sampling8203_2021...   \n",
              "\n",
              "                                             TagFile SV_CustomerName  \\\n",
              "0  SocialFSI_ZE-KTB-Feb-Apr2022_Sampling1400_2022...  Krungthai_NEXT   \n",
              "1  SocialFSI_TrainDataV4_RetagCLS-12_Sampling53_P...             NaN   \n",
              "2  SocialFSI_ZE-KTB-Feb-Apr2022_Sampling1200_2022...  Krungthai_NEXT   \n",
              "3  SocialFSI_TrainSCB-SocialFilterV2_Sampling2750...             NaN   \n",
              "4  SocialFSI_TrainSCB-SocialFilterV2_Sampling2750...             NaN   \n",
              "\n",
              "                                        Main keyword      Channel SubChannel  \\\n",
              "0  mobile banking+กสิกร,mobile banking+ธนาคารกสิก...  SocialMedia      forum   \n",
              "1                                                NaN  SocialMedia    Twitter   \n",
              "2                                          krungthai  SocialMedia   facebook   \n",
              "3                                                NaN  SocialMedia    Twitter   \n",
              "4                                                NaN  SocialMedia    Twitter   \n",
              "\n",
              "                                 lfdn   verbatim_id     sentence_id  \\\n",
              "0           pantip.com_topic_41249919    Q2207_1549    Q2207_1549_1   \n",
              "1            5fffc6bcb08b583a24679d59  Q202106_5805  Q202106_5805_1   \n",
              "2  10161808181448916_1330115550790924     Q2207_636     Q2207_636_1   \n",
              "3                            27634345   Q202106_961   Q202106_961_1   \n",
              "4                            28297653  Q202106_2021  Q202106_2021_1   \n",
              "\n",
              "                                       Text_original  \\\n",
              "0  สอบถามเรื่องการอายัดบัตรเดบิตของกสิกรค่ะ พอดีว...   \n",
              "1  ปกติจะไม่ชอบlog in ใดๆในคอมคนอื่นหรือสำนักงานใ...   \n",
              "2  Krungthai Care ณ. ตอนนี้ยอดก็ยังไม่เข้าค่ะ ถ้า...   \n",
              "3  @scb_thailand เรียน scb ขอเบอร?ตืดต่อเพราะคุย ...   \n",
              "4  ไอเลิ้บ TMB All Free มาก แต่ช่วยพัฒนาแอพให้สเถ...   \n",
              "\n",
              "                                                Text  \\\n",
              "0  สอบถามเรื่องการอายัดบัตรเดบิตของกสิกรค่ะ พอดีว...   \n",
              "1  ปกติจะไม่ชอบlog in ใดๆในคอมคนอื่นหรือสำนักงานใ...   \n",
              "2  Krungthai Care ณ. ตอนนี้ยอดก็ยังไม่เข้าค่ะ ถ้า...   \n",
              "3  @scb_thailand เรียน scb ขอเบอร?ตืดต่อเพราะคุย ...   \n",
              "4                          ไอเลิ้บ TMB All Free มาก    \n",
              "\n",
              "                             Human_Category  Human_CategoryID Human_Sentiment  \\\n",
              "0  Product and Service, Usage and Condition                 8         neutral   \n",
              "1                                  Security                12         neutral   \n",
              "2               Product and Service, System                 7        negative   \n",
              "3                             Staff Quality                 4        negative   \n",
              "4  Product and Service, Usage and Condition                 8        positive   \n",
              "\n",
              "  Human_SentimentID                                      Text_ws_local  \\\n",
              "0                 o  สอบถาม|เรื่อง|การ|อายัด|บัตรเดบิต|ของ|kbank|ค่...   \n",
              "1                 o  ปกติ|จะ|ไม่ชอบ| |log| |in| |ใดๆ| |ใน|ค|อม|คนอื...   \n",
              "2                 n  ktb| |care| |ณ|.| |ตอนนี้|ยอด|ก็|ยัง|ไม่|เข้า|...   \n",
              "3                 n  scb_thailand| |เรียน| |scb| |ขอ|เบอร| |ตืด|ต่อ...   \n",
              "4                 p                    ไอ|เลิ้บ| |tmb_all_free| |มาก|    \n",
              "\n",
              "                                          translated  \n",
              "0  I've been asking about the debit card holders....  \n",
              "1  Usually don't like logins on any other compute...  \n",
              "2  Krungthai Care as of right now, it's not the t...  \n",
              "3                         @scb_thailand studied scb.  \n",
              "4  Ib TMB All Free. But it helps to improve apps....  "
            ],
            "text/html": [
              "\n",
              "  <div id=\"df-19b97f3c-7330-4147-a55d-4427f36c704d\">\n",
              "    <div class=\"colab-df-container\">\n",
              "      <div>\n",
              "<style scoped>\n",
              "    .dataframe tbody tr th:only-of-type {\n",
              "        vertical-align: middle;\n",
              "    }\n",
              "\n",
              "    .dataframe tbody tr th {\n",
              "        vertical-align: top;\n",
              "    }\n",
              "\n",
              "    .dataframe thead th {\n",
              "        text-align: right;\n",
              "    }\n",
              "</style>\n",
              "<table border=\"1\" class=\"dataframe\">\n",
              "  <thead>\n",
              "    <tr style=\"text-align: right;\">\n",
              "      <th></th>\n",
              "      <th>Unnamed: 0</th>\n",
              "      <th>TagFile_Path</th>\n",
              "      <th>TagFile</th>\n",
              "      <th>SV_CustomerName</th>\n",
              "      <th>Main keyword</th>\n",
              "      <th>Channel</th>\n",
              "      <th>SubChannel</th>\n",
              "      <th>lfdn</th>\n",
              "      <th>verbatim_id</th>\n",
              "      <th>sentence_id</th>\n",
              "      <th>Text_original</th>\n",
              "      <th>Text</th>\n",
              "      <th>Human_Category</th>\n",
              "      <th>Human_CategoryID</th>\n",
              "      <th>Human_Sentiment</th>\n",
              "      <th>Human_SentimentID</th>\n",
              "      <th>Text_ws_local</th>\n",
              "      <th>translated</th>\n",
              "    </tr>\n",
              "  </thead>\n",
              "  <tbody>\n",
              "    <tr>\n",
              "      <th>0</th>\n",
              "      <td>0</td>\n",
              "      <td>SocialFSI_ZE-KTB-Feb-Apr2022_Sampling2244_2022...</td>\n",
              "      <td>SocialFSI_ZE-KTB-Feb-Apr2022_Sampling1400_2022...</td>\n",
              "      <td>Krungthai_NEXT</td>\n",
              "      <td>mobile banking+กสิกร,mobile banking+ธนาคารกสิก...</td>\n",
              "      <td>SocialMedia</td>\n",
              "      <td>forum</td>\n",
              "      <td>pantip.com_topic_41249919</td>\n",
              "      <td>Q2207_1549</td>\n",
              "      <td>Q2207_1549_1</td>\n",
              "      <td>สอบถามเรื่องการอายัดบัตรเดบิตของกสิกรค่ะ พอดีว...</td>\n",
              "      <td>สอบถามเรื่องการอายัดบัตรเดบิตของกสิกรค่ะ พอดีว...</td>\n",
              "      <td>Product and Service, Usage and Condition</td>\n",
              "      <td>8</td>\n",
              "      <td>neutral</td>\n",
              "      <td>o</td>\n",
              "      <td>สอบถาม|เรื่อง|การ|อายัด|บัตรเดบิต|ของ|kbank|ค่...</td>\n",
              "      <td>I've been asking about the debit card holders....</td>\n",
              "    </tr>\n",
              "    <tr>\n",
              "      <th>1</th>\n",
              "      <td>1</td>\n",
              "      <td>SocialFSI_v4_0_mutiple_train_sampling8203_2021...</td>\n",
              "      <td>SocialFSI_TrainDataV4_RetagCLS-12_Sampling53_P...</td>\n",
              "      <td>NaN</td>\n",
              "      <td>NaN</td>\n",
              "      <td>SocialMedia</td>\n",
              "      <td>Twitter</td>\n",
              "      <td>5fffc6bcb08b583a24679d59</td>\n",
              "      <td>Q202106_5805</td>\n",
              "      <td>Q202106_5805_1</td>\n",
              "      <td>ปกติจะไม่ชอบlog in ใดๆในคอมคนอื่นหรือสำนักงานใ...</td>\n",
              "      <td>ปกติจะไม่ชอบlog in ใดๆในคอมคนอื่นหรือสำนักงานใ...</td>\n",
              "      <td>Security</td>\n",
              "      <td>12</td>\n",
              "      <td>neutral</td>\n",
              "      <td>o</td>\n",
              "      <td>ปกติ|จะ|ไม่ชอบ| |log| |in| |ใดๆ| |ใน|ค|อม|คนอื...</td>\n",
              "      <td>Usually don't like logins on any other compute...</td>\n",
              "    </tr>\n",
              "    <tr>\n",
              "      <th>2</th>\n",
              "      <td>2</td>\n",
              "      <td>SocialFSI_ZE-KTB-Feb-Apr2022_Sampling2244_2022...</td>\n",
              "      <td>SocialFSI_ZE-KTB-Feb-Apr2022_Sampling1200_2022...</td>\n",
              "      <td>Krungthai_NEXT</td>\n",
              "      <td>krungthai</td>\n",
              "      <td>SocialMedia</td>\n",
              "      <td>facebook</td>\n",
              "      <td>10161808181448916_1330115550790924</td>\n",
              "      <td>Q2207_636</td>\n",
              "      <td>Q2207_636_1</td>\n",
              "      <td>Krungthai Care ณ. ตอนนี้ยอดก็ยังไม่เข้าค่ะ ถ้า...</td>\n",
              "      <td>Krungthai Care ณ. ตอนนี้ยอดก็ยังไม่เข้าค่ะ ถ้า...</td>\n",
              "      <td>Product and Service, System</td>\n",
              "      <td>7</td>\n",
              "      <td>negative</td>\n",
              "      <td>n</td>\n",
              "      <td>ktb| |care| |ณ|.| |ตอนนี้|ยอด|ก็|ยัง|ไม่|เข้า|...</td>\n",
              "      <td>Krungthai Care as of right now, it's not the t...</td>\n",
              "    </tr>\n",
              "    <tr>\n",
              "      <th>3</th>\n",
              "      <td>3</td>\n",
              "      <td>SocialFSI_v4_0_mutiple_train_sampling8203_2021...</td>\n",
              "      <td>SocialFSI_TrainSCB-SocialFilterV2_Sampling2750...</td>\n",
              "      <td>NaN</td>\n",
              "      <td>NaN</td>\n",
              "      <td>SocialMedia</td>\n",
              "      <td>Twitter</td>\n",
              "      <td>27634345</td>\n",
              "      <td>Q202106_961</td>\n",
              "      <td>Q202106_961_1</td>\n",
              "      <td>@scb_thailand เรียน scb ขอเบอร?ตืดต่อเพราะคุย ...</td>\n",
              "      <td>@scb_thailand เรียน scb ขอเบอร?ตืดต่อเพราะคุย ...</td>\n",
              "      <td>Staff Quality</td>\n",
              "      <td>4</td>\n",
              "      <td>negative</td>\n",
              "      <td>n</td>\n",
              "      <td>scb_thailand| |เรียน| |scb| |ขอ|เบอร| |ตืด|ต่อ...</td>\n",
              "      <td>@scb_thailand studied scb.</td>\n",
              "    </tr>\n",
              "    <tr>\n",
              "      <th>4</th>\n",
              "      <td>4</td>\n",
              "      <td>SocialFSI_v4_0_mutiple_train_sampling8203_2021...</td>\n",
              "      <td>SocialFSI_TrainSCB-SocialFilterV2_Sampling2750...</td>\n",
              "      <td>NaN</td>\n",
              "      <td>NaN</td>\n",
              "      <td>SocialMedia</td>\n",
              "      <td>Twitter</td>\n",
              "      <td>28297653</td>\n",
              "      <td>Q202106_2021</td>\n",
              "      <td>Q202106_2021_1</td>\n",
              "      <td>ไอเลิ้บ TMB All Free มาก แต่ช่วยพัฒนาแอพให้สเถ...</td>\n",
              "      <td>ไอเลิ้บ TMB All Free มาก</td>\n",
              "      <td>Product and Service, Usage and Condition</td>\n",
              "      <td>8</td>\n",
              "      <td>positive</td>\n",
              "      <td>p</td>\n",
              "      <td>ไอ|เลิ้บ| |tmb_all_free| |มาก|</td>\n",
              "      <td>Ib TMB All Free. But it helps to improve apps....</td>\n",
              "    </tr>\n",
              "  </tbody>\n",
              "</table>\n",
              "</div>\n",
              "      <button class=\"colab-df-convert\" onclick=\"convertToInteractive('df-19b97f3c-7330-4147-a55d-4427f36c704d')\"\n",
              "              title=\"Convert this dataframe to an interactive table.\"\n",
              "              style=\"display:none;\">\n",
              "        \n",
              "  <svg xmlns=\"http://www.w3.org/2000/svg\" height=\"24px\"viewBox=\"0 0 24 24\"\n",
              "       width=\"24px\">\n",
              "    <path d=\"M0 0h24v24H0V0z\" fill=\"none\"/>\n",
              "    <path d=\"M18.56 5.44l.94 2.06.94-2.06 2.06-.94-2.06-.94-.94-2.06-.94 2.06-2.06.94zm-11 1L8.5 8.5l.94-2.06 2.06-.94-2.06-.94L8.5 2.5l-.94 2.06-2.06.94zm10 10l.94 2.06.94-2.06 2.06-.94-2.06-.94-.94-2.06-.94 2.06-2.06.94z\"/><path d=\"M17.41 7.96l-1.37-1.37c-.4-.4-.92-.59-1.43-.59-.52 0-1.04.2-1.43.59L10.3 9.45l-7.72 7.72c-.78.78-.78 2.05 0 2.83L4 21.41c.39.39.9.59 1.41.59.51 0 1.02-.2 1.41-.59l7.78-7.78 2.81-2.81c.8-.78.8-2.07 0-2.86zM5.41 20L4 18.59l7.72-7.72 1.47 1.35L5.41 20z\"/>\n",
              "  </svg>\n",
              "      </button>\n",
              "      \n",
              "  <style>\n",
              "    .colab-df-container {\n",
              "      display:flex;\n",
              "      flex-wrap:wrap;\n",
              "      gap: 12px;\n",
              "    }\n",
              "\n",
              "    .colab-df-convert {\n",
              "      background-color: #E8F0FE;\n",
              "      border: none;\n",
              "      border-radius: 50%;\n",
              "      cursor: pointer;\n",
              "      display: none;\n",
              "      fill: #1967D2;\n",
              "      height: 32px;\n",
              "      padding: 0 0 0 0;\n",
              "      width: 32px;\n",
              "    }\n",
              "\n",
              "    .colab-df-convert:hover {\n",
              "      background-color: #E2EBFA;\n",
              "      box-shadow: 0px 1px 2px rgba(60, 64, 67, 0.3), 0px 1px 3px 1px rgba(60, 64, 67, 0.15);\n",
              "      fill: #174EA6;\n",
              "    }\n",
              "\n",
              "    [theme=dark] .colab-df-convert {\n",
              "      background-color: #3B4455;\n",
              "      fill: #D2E3FC;\n",
              "    }\n",
              "\n",
              "    [theme=dark] .colab-df-convert:hover {\n",
              "      background-color: #434B5C;\n",
              "      box-shadow: 0px 1px 3px 1px rgba(0, 0, 0, 0.15);\n",
              "      filter: drop-shadow(0px 1px 2px rgba(0, 0, 0, 0.3));\n",
              "      fill: #FFFFFF;\n",
              "    }\n",
              "  </style>\n",
              "\n",
              "      <script>\n",
              "        const buttonEl =\n",
              "          document.querySelector('#df-19b97f3c-7330-4147-a55d-4427f36c704d button.colab-df-convert');\n",
              "        buttonEl.style.display =\n",
              "          google.colab.kernel.accessAllowed ? 'block' : 'none';\n",
              "\n",
              "        async function convertToInteractive(key) {\n",
              "          const element = document.querySelector('#df-19b97f3c-7330-4147-a55d-4427f36c704d');\n",
              "          const dataTable =\n",
              "            await google.colab.kernel.invokeFunction('convertToInteractive',\n",
              "                                                     [key], {});\n",
              "          if (!dataTable) return;\n",
              "\n",
              "          const docLinkHtml = 'Like what you see? Visit the ' +\n",
              "            '<a target=\"_blank\" href=https://colab.research.google.com/notebooks/data_table.ipynb>data table notebook</a>'\n",
              "            + ' to learn more about interactive tables.';\n",
              "          element.innerHTML = '';\n",
              "          dataTable['output_type'] = 'display_data';\n",
              "          await google.colab.output.renderOutput(dataTable, element);\n",
              "          const docLink = document.createElement('div');\n",
              "          docLink.innerHTML = docLinkHtml;\n",
              "          element.appendChild(docLink);\n",
              "        }\n",
              "      </script>\n",
              "    </div>\n",
              "  </div>\n",
              "  "
            ]
          },
          "metadata": {},
          "execution_count": 8
        }
      ]
    },
    {
      "cell_type": "code",
      "source": [
        "train.to_csv('train_translated banking data.csv')"
      ],
      "metadata": {
        "id": "QWoIaW-orWvu"
      },
      "execution_count": null,
      "outputs": []
    },
    {
      "cell_type": "code",
      "source": [
        "#processing for 4 hours\n",
        "test['translated'] = test['Text_original'].apply(lambda x: th2en.translate(x))"
      ],
      "metadata": {
        "id": "p3NK1PIzrqpl"
      },
      "execution_count": null,
      "outputs": []
    },
    {
      "cell_type": "code",
      "source": [
        "test.head(5)"
      ],
      "metadata": {
        "colab": {
          "base_uri": "https://localhost:8080/",
          "height": 617
        },
        "id": "GBR5IGl3r2SQ",
        "outputId": "7deebbe3-ed08-4f21-82de-944d547dabb8"
      },
      "execution_count": null,
      "outputs": [
        {
          "output_type": "execute_result",
          "data": {
            "text/plain": [
              "   Unnamed: 0                                       TagFile_Path  \\\n",
              "0           0  SocialFSI_v4_0_mutiple_train_sampling8203_2021...   \n",
              "1           1  SocialFSI_v4_0_mutiple_train_sampling8203_2021...   \n",
              "2           2  SocialFSI_v4_0_mutiple_train_sampling8203_2021...   \n",
              "3           3  SocialFSI_ZE-KTB-Feb-Apr2022_Sampling2244_2022...   \n",
              "4           4  SocialFSI_v4_0_mutiple_train_sampling8203_2021...   \n",
              "\n",
              "                                             TagFile SV_CustomerName  \\\n",
              "0  SocialFSI_SV-FSI-20201101-29-20201201-25_Sampl...             NaN   \n",
              "1  Social_ZE-KTB-Branch-20210209-20210509_Samplin...             NaN   \n",
              "2  SocialFSI_ZE-SCBKBankKTB-20210326-20210402_Sam...             NaN   \n",
              "3  SocialFSI_ZE-KTB-Feb-Apr2022_Sampling1200_2022...  Krungthai_NEXT   \n",
              "4  Social_ZE-KTB-Branch-20210209-20210509_Samplin...             NaN   \n",
              "\n",
              "  Main keyword      Channel SubChannel                               lfdn  \\\n",
              "0          NaN  SocialMedia     Pantip           5fdb2543b08b582c303ceba3   \n",
              "1          NaN  SocialMedia   facebook  4467792086582887_1097694587341414   \n",
              "2          NaN  SocialMedia    twitter                1377643104560242695   \n",
              "3      ล่ม+scb  SocialMedia    twitter                1504381445288382464   \n",
              "4          NaN  SocialMedia    twitter                1374904185276178438   \n",
              "\n",
              "    verbatim_id     sentence_id  \\\n",
              "0  Q202106_4598  Q202106_4598_1   \n",
              "1  Q202106_8356  Q202106_8356_1   \n",
              "2  Q202106_7413  Q202106_7413_1   \n",
              "3     Q2207_484     Q2207_484_1   \n",
              "4  Q202106_8056  Q202106_8056_1   \n",
              "\n",
              "                                       Text_original  \\\n",
              "0  ในอนาคตธนาคารเกียรตินาคินภัทรจะมีบัตรเครดิตไหม...   \n",
              "1  ไม่มีเป๋าตังต้องทำไงคะต้องไปทำที่ธนาคารไหมคะต้...   \n",
              "2  @gitattributes หนุบวกหนุจะเปิด NDID ไว้สมัครธน...   \n",
              "3                          อี SCB ล่มอีกละ อิควัย!!!   \n",
              "4  เปิดบัญชีครั้งแรกในชีปิ้ดที่ธ.สีชมพูช่วงนั้นฝา...   \n",
              "\n",
              "                                                Text  \\\n",
              "0  ในอนาคตธนาคารเกียรตินาคินภัทรจะมีบัตรเครดิตไหม...   \n",
              "1  ไม่มีเป๋าตังต้องทำไงคะต้องไปทำที่ธนาคารไหมคะต้...   \n",
              "2  @gitattributes หนุบวกหนุจะเปิด NDID ไว้สมัครธน...   \n",
              "3                          อี SCB ล่มอีกละ อิควัย!!!   \n",
              "4  เปิดบัญชีครั้งแรกในชีปิ้ดที่ธ.สีชมพูช่วงนั้นฝา...   \n",
              "\n",
              "                             Human_Category  Human_CategoryID Human_Sentiment  \\\n",
              "0              Product and Service, Variety                10         neutral   \n",
              "1  Product and Service, Usage and Condition                 8         neutral   \n",
              "2               Product and Service, System                 7        negative   \n",
              "3               Product and Service, System                 7        negative   \n",
              "4  Product and Service, Usage and Condition                 8        negative   \n",
              "\n",
              "  Human_SentimentID                                      Text_ws_local  \\\n",
              "0                 o  ในอนาคต|ธนาคาร|kk|ภัทร|จะ|มี|บัตรเครดิต|ไหม|คร...   \n",
              "1                 o  ไม่มี|เป๋า|ตัง|ต้อง|ทำไง|คะ|ต้อง|ไป|ทำ|ที่ธนาค...   \n",
              "2                 n   |friendtag| |หนุบ|ว|กห|นุ|จะ|เปิด| |ndid| |ไว...   \n",
              "3                 n                  อี| |scb| |ล่ม|อีก|ละ| |อิค|วัย|    \n",
              "4                 n  เปิดบัญชี|ครั้งแรก|ใน|ชี|ปิ้ด|ที่|ธนาคารออมสิน...   \n",
              "\n",
              "                                          translated  \n",
              "0  Is there a credit card in the future for honor...  \n",
              "1  What do I have to do without my dad? Do I need...  \n",
              "2  @gittributes plus i can't get an NDID to sign ...  \n",
              "3                        ESCB's down again, Igyou!!!  \n",
              "4  First opened in the pink sheeping period, it w...  "
            ],
            "text/html": [
              "\n",
              "  <div id=\"df-9134079a-ac03-470d-adc3-d0dcc1b3aada\">\n",
              "    <div class=\"colab-df-container\">\n",
              "      <div>\n",
              "<style scoped>\n",
              "    .dataframe tbody tr th:only-of-type {\n",
              "        vertical-align: middle;\n",
              "    }\n",
              "\n",
              "    .dataframe tbody tr th {\n",
              "        vertical-align: top;\n",
              "    }\n",
              "\n",
              "    .dataframe thead th {\n",
              "        text-align: right;\n",
              "    }\n",
              "</style>\n",
              "<table border=\"1\" class=\"dataframe\">\n",
              "  <thead>\n",
              "    <tr style=\"text-align: right;\">\n",
              "      <th></th>\n",
              "      <th>Unnamed: 0</th>\n",
              "      <th>TagFile_Path</th>\n",
              "      <th>TagFile</th>\n",
              "      <th>SV_CustomerName</th>\n",
              "      <th>Main keyword</th>\n",
              "      <th>Channel</th>\n",
              "      <th>SubChannel</th>\n",
              "      <th>lfdn</th>\n",
              "      <th>verbatim_id</th>\n",
              "      <th>sentence_id</th>\n",
              "      <th>Text_original</th>\n",
              "      <th>Text</th>\n",
              "      <th>Human_Category</th>\n",
              "      <th>Human_CategoryID</th>\n",
              "      <th>Human_Sentiment</th>\n",
              "      <th>Human_SentimentID</th>\n",
              "      <th>Text_ws_local</th>\n",
              "      <th>translated</th>\n",
              "    </tr>\n",
              "  </thead>\n",
              "  <tbody>\n",
              "    <tr>\n",
              "      <th>0</th>\n",
              "      <td>0</td>\n",
              "      <td>SocialFSI_v4_0_mutiple_train_sampling8203_2021...</td>\n",
              "      <td>SocialFSI_SV-FSI-20201101-29-20201201-25_Sampl...</td>\n",
              "      <td>NaN</td>\n",
              "      <td>NaN</td>\n",
              "      <td>SocialMedia</td>\n",
              "      <td>Pantip</td>\n",
              "      <td>5fdb2543b08b582c303ceba3</td>\n",
              "      <td>Q202106_4598</td>\n",
              "      <td>Q202106_4598_1</td>\n",
              "      <td>ในอนาคตธนาคารเกียรตินาคินภัทรจะมีบัตรเครดิตไหม...</td>\n",
              "      <td>ในอนาคตธนาคารเกียรตินาคินภัทรจะมีบัตรเครดิตไหม...</td>\n",
              "      <td>Product and Service, Variety</td>\n",
              "      <td>10</td>\n",
              "      <td>neutral</td>\n",
              "      <td>o</td>\n",
              "      <td>ในอนาคต|ธนาคาร|kk|ภัทร|จะ|มี|บัตรเครดิต|ไหม|คร...</td>\n",
              "      <td>Is there a credit card in the future for honor...</td>\n",
              "    </tr>\n",
              "    <tr>\n",
              "      <th>1</th>\n",
              "      <td>1</td>\n",
              "      <td>SocialFSI_v4_0_mutiple_train_sampling8203_2021...</td>\n",
              "      <td>Social_ZE-KTB-Branch-20210209-20210509_Samplin...</td>\n",
              "      <td>NaN</td>\n",
              "      <td>NaN</td>\n",
              "      <td>SocialMedia</td>\n",
              "      <td>facebook</td>\n",
              "      <td>4467792086582887_1097694587341414</td>\n",
              "      <td>Q202106_8356</td>\n",
              "      <td>Q202106_8356_1</td>\n",
              "      <td>ไม่มีเป๋าตังต้องทำไงคะต้องไปทำที่ธนาคารไหมคะต้...</td>\n",
              "      <td>ไม่มีเป๋าตังต้องทำไงคะต้องไปทำที่ธนาคารไหมคะต้...</td>\n",
              "      <td>Product and Service, Usage and Condition</td>\n",
              "      <td>8</td>\n",
              "      <td>neutral</td>\n",
              "      <td>o</td>\n",
              "      <td>ไม่มี|เป๋า|ตัง|ต้อง|ทำไง|คะ|ต้อง|ไป|ทำ|ที่ธนาค...</td>\n",
              "      <td>What do I have to do without my dad? Do I need...</td>\n",
              "    </tr>\n",
              "    <tr>\n",
              "      <th>2</th>\n",
              "      <td>2</td>\n",
              "      <td>SocialFSI_v4_0_mutiple_train_sampling8203_2021...</td>\n",
              "      <td>SocialFSI_ZE-SCBKBankKTB-20210326-20210402_Sam...</td>\n",
              "      <td>NaN</td>\n",
              "      <td>NaN</td>\n",
              "      <td>SocialMedia</td>\n",
              "      <td>twitter</td>\n",
              "      <td>1377643104560242695</td>\n",
              "      <td>Q202106_7413</td>\n",
              "      <td>Q202106_7413_1</td>\n",
              "      <td>@gitattributes หนุบวกหนุจะเปิด NDID ไว้สมัครธน...</td>\n",
              "      <td>@gitattributes หนุบวกหนุจะเปิด NDID ไว้สมัครธน...</td>\n",
              "      <td>Product and Service, System</td>\n",
              "      <td>7</td>\n",
              "      <td>negative</td>\n",
              "      <td>n</td>\n",
              "      <td>|friendtag| |หนุบ|ว|กห|นุ|จะ|เปิด| |ndid| |ไว...</td>\n",
              "      <td>@gittributes plus i can't get an NDID to sign ...</td>\n",
              "    </tr>\n",
              "    <tr>\n",
              "      <th>3</th>\n",
              "      <td>3</td>\n",
              "      <td>SocialFSI_ZE-KTB-Feb-Apr2022_Sampling2244_2022...</td>\n",
              "      <td>SocialFSI_ZE-KTB-Feb-Apr2022_Sampling1200_2022...</td>\n",
              "      <td>Krungthai_NEXT</td>\n",
              "      <td>ล่ม+scb</td>\n",
              "      <td>SocialMedia</td>\n",
              "      <td>twitter</td>\n",
              "      <td>1504381445288382464</td>\n",
              "      <td>Q2207_484</td>\n",
              "      <td>Q2207_484_1</td>\n",
              "      <td>อี SCB ล่มอีกละ อิควัย!!!</td>\n",
              "      <td>อี SCB ล่มอีกละ อิควัย!!!</td>\n",
              "      <td>Product and Service, System</td>\n",
              "      <td>7</td>\n",
              "      <td>negative</td>\n",
              "      <td>n</td>\n",
              "      <td>อี| |scb| |ล่ม|อีก|ละ| |อิค|วัย|</td>\n",
              "      <td>ESCB's down again, Igyou!!!</td>\n",
              "    </tr>\n",
              "    <tr>\n",
              "      <th>4</th>\n",
              "      <td>4</td>\n",
              "      <td>SocialFSI_v4_0_mutiple_train_sampling8203_2021...</td>\n",
              "      <td>Social_ZE-KTB-Branch-20210209-20210509_Samplin...</td>\n",
              "      <td>NaN</td>\n",
              "      <td>NaN</td>\n",
              "      <td>SocialMedia</td>\n",
              "      <td>twitter</td>\n",
              "      <td>1374904185276178438</td>\n",
              "      <td>Q202106_8056</td>\n",
              "      <td>Q202106_8056_1</td>\n",
              "      <td>เปิดบัญชีครั้งแรกในชีปิ้ดที่ธ.สีชมพูช่วงนั้นฝา...</td>\n",
              "      <td>เปิดบัญชีครั้งแรกในชีปิ้ดที่ธ.สีชมพูช่วงนั้นฝา...</td>\n",
              "      <td>Product and Service, Usage and Condition</td>\n",
              "      <td>8</td>\n",
              "      <td>negative</td>\n",
              "      <td>n</td>\n",
              "      <td>เปิดบัญชี|ครั้งแรก|ใน|ชี|ปิ้ด|ที่|ธนาคารออมสิน...</td>\n",
              "      <td>First opened in the pink sheeping period, it w...</td>\n",
              "    </tr>\n",
              "  </tbody>\n",
              "</table>\n",
              "</div>\n",
              "      <button class=\"colab-df-convert\" onclick=\"convertToInteractive('df-9134079a-ac03-470d-adc3-d0dcc1b3aada')\"\n",
              "              title=\"Convert this dataframe to an interactive table.\"\n",
              "              style=\"display:none;\">\n",
              "        \n",
              "  <svg xmlns=\"http://www.w3.org/2000/svg\" height=\"24px\"viewBox=\"0 0 24 24\"\n",
              "       width=\"24px\">\n",
              "    <path d=\"M0 0h24v24H0V0z\" fill=\"none\"/>\n",
              "    <path d=\"M18.56 5.44l.94 2.06.94-2.06 2.06-.94-2.06-.94-.94-2.06-.94 2.06-2.06.94zm-11 1L8.5 8.5l.94-2.06 2.06-.94-2.06-.94L8.5 2.5l-.94 2.06-2.06.94zm10 10l.94 2.06.94-2.06 2.06-.94-2.06-.94-.94-2.06-.94 2.06-2.06.94z\"/><path d=\"M17.41 7.96l-1.37-1.37c-.4-.4-.92-.59-1.43-.59-.52 0-1.04.2-1.43.59L10.3 9.45l-7.72 7.72c-.78.78-.78 2.05 0 2.83L4 21.41c.39.39.9.59 1.41.59.51 0 1.02-.2 1.41-.59l7.78-7.78 2.81-2.81c.8-.78.8-2.07 0-2.86zM5.41 20L4 18.59l7.72-7.72 1.47 1.35L5.41 20z\"/>\n",
              "  </svg>\n",
              "      </button>\n",
              "      \n",
              "  <style>\n",
              "    .colab-df-container {\n",
              "      display:flex;\n",
              "      flex-wrap:wrap;\n",
              "      gap: 12px;\n",
              "    }\n",
              "\n",
              "    .colab-df-convert {\n",
              "      background-color: #E8F0FE;\n",
              "      border: none;\n",
              "      border-radius: 50%;\n",
              "      cursor: pointer;\n",
              "      display: none;\n",
              "      fill: #1967D2;\n",
              "      height: 32px;\n",
              "      padding: 0 0 0 0;\n",
              "      width: 32px;\n",
              "    }\n",
              "\n",
              "    .colab-df-convert:hover {\n",
              "      background-color: #E2EBFA;\n",
              "      box-shadow: 0px 1px 2px rgba(60, 64, 67, 0.3), 0px 1px 3px 1px rgba(60, 64, 67, 0.15);\n",
              "      fill: #174EA6;\n",
              "    }\n",
              "\n",
              "    [theme=dark] .colab-df-convert {\n",
              "      background-color: #3B4455;\n",
              "      fill: #D2E3FC;\n",
              "    }\n",
              "\n",
              "    [theme=dark] .colab-df-convert:hover {\n",
              "      background-color: #434B5C;\n",
              "      box-shadow: 0px 1px 3px 1px rgba(0, 0, 0, 0.15);\n",
              "      filter: drop-shadow(0px 1px 2px rgba(0, 0, 0, 0.3));\n",
              "      fill: #FFFFFF;\n",
              "    }\n",
              "  </style>\n",
              "\n",
              "      <script>\n",
              "        const buttonEl =\n",
              "          document.querySelector('#df-9134079a-ac03-470d-adc3-d0dcc1b3aada button.colab-df-convert');\n",
              "        buttonEl.style.display =\n",
              "          google.colab.kernel.accessAllowed ? 'block' : 'none';\n",
              "\n",
              "        async function convertToInteractive(key) {\n",
              "          const element = document.querySelector('#df-9134079a-ac03-470d-adc3-d0dcc1b3aada');\n",
              "          const dataTable =\n",
              "            await google.colab.kernel.invokeFunction('convertToInteractive',\n",
              "                                                     [key], {});\n",
              "          if (!dataTable) return;\n",
              "\n",
              "          const docLinkHtml = 'Like what you see? Visit the ' +\n",
              "            '<a target=\"_blank\" href=https://colab.research.google.com/notebooks/data_table.ipynb>data table notebook</a>'\n",
              "            + ' to learn more about interactive tables.';\n",
              "          element.innerHTML = '';\n",
              "          dataTable['output_type'] = 'display_data';\n",
              "          await google.colab.output.renderOutput(dataTable, element);\n",
              "          const docLink = document.createElement('div');\n",
              "          docLink.innerHTML = docLinkHtml;\n",
              "          element.appendChild(docLink);\n",
              "        }\n",
              "      </script>\n",
              "    </div>\n",
              "  </div>\n",
              "  "
            ]
          },
          "metadata": {},
          "execution_count": 11
        }
      ]
    },
    {
      "cell_type": "code",
      "source": [
        "train.to_csv('test_translated banking data.csv')"
      ],
      "metadata": {
        "id": "QYj8i0mRr3Nh"
      },
      "execution_count": null,
      "outputs": []
    },
    {
      "cell_type": "markdown",
      "source": [
        "#Create a Vocab"
      ],
      "metadata": {
        "id": "SF_gw2udAQY3"
      }
    },
    {
      "cell_type": "code",
      "source": [
        "vocab = Counter()\n",
        "def data_to_vocab(df):\n",
        "  for verbatim in df['translated']:\n",
        "    tokens = verbatim.split()\n",
        "    table = str.maketrans(\"\",\"\",string.punctuation)\n",
        "    tokens = [w.translate(table) for w in tokens]\n",
        "    tokens = [word for word in tokens if word.isalpha()]\n",
        "    stop_words = set(stopwords.words('english'))\n",
        "    tokens = [w for w in tokens if not w in stop_words]\n",
        "    tokens = [word for word in tokens if len(word)>1]\n",
        "    tokens = [word for word in tokens if len(tokens) > 4] #at first = 1, CNN GMP is better with >4 for ~2%\n",
        "    vocab.update(tokens)\n",
        "\n",
        "data_to_vocab(train)\n",
        "\n",
        "print(len(vocab))\n",
        "vocab.most_common(10)"
      ],
      "metadata": {
        "colab": {
          "base_uri": "https://localhost:8080/"
        },
        "id": "dbqj4fz4AhHB",
        "outputId": "56f8a482-6041-4d61-9da9-e3ce7be3d0df"
      },
      "execution_count": 16,
      "outputs": [
        {
          "output_type": "stream",
          "name": "stdout",
          "text": [
            "12205\n"
          ]
        },
        {
          "output_type": "execute_result",
          "data": {
            "text/plain": [
              "[('bank', 3867),\n",
              " ('money', 3366),\n",
              " ('card', 3103),\n",
              " ('Im', 2734),\n",
              " ('account', 2696),\n",
              " ('cant', 2170),\n",
              " ('app', 2129),\n",
              " ('The', 2129),\n",
              " ('Thailand', 2024),\n",
              " ('going', 1861)]"
            ]
          },
          "metadata": {},
          "execution_count": 16
        }
      ]
    },
    {
      "cell_type": "code",
      "source": [
        "min_occurence = 2\n",
        "tokens = [k for k, c in vocab.items() if c >= min_occurence]"
      ],
      "metadata": {
        "id": "lgt5YpKwA4OV"
      },
      "execution_count": 17,
      "outputs": []
    },
    {
      "cell_type": "code",
      "source": [
        "def save_list(lines, filename):\n",
        "  data = '\\n'.join(lines)\n",
        "  file = open(filename, 'w')\n",
        "  file.write(data)\n",
        "  file.close()\n",
        "  \n",
        "save_list(tokens, 'vocab.txt')"
      ],
      "metadata": {
        "id": "6WRSPUDvBSTK"
      },
      "execution_count": 18,
      "outputs": []
    },
    {
      "cell_type": "markdown",
      "source": [
        "#Train Embedding Layer"
      ],
      "metadata": {
        "id": "1U9_3A4GB3fV"
      }
    },
    {
      "cell_type": "code",
      "source": [
        "train_docs = train['translated']\n",
        "test_docs = test['translated']"
      ],
      "metadata": {
        "id": "uHLExRvJDxcL"
      },
      "execution_count": 27,
      "outputs": []
    },
    {
      "cell_type": "code",
      "source": [
        "def load_doc(filename):\n",
        "  file = open(filename, 'r')\n",
        "  text = file.read()\n",
        "  file.close()\n",
        "  return text\n",
        "\n",
        "vocab_filename = 'vocab.txt'\n",
        "vocab = load_doc(vocab_filename)\n",
        "vocab = vocab.split()\n",
        "vocab = set(vocab)\n",
        "print(vocab)"
      ],
      "metadata": {
        "colab": {
          "base_uri": "https://localhost:8080/"
        },
        "id": "xH_CcW6OB6BF",
        "outputId": "169ff144-d264-43ea-a62a-4d9d990cb670"
      },
      "execution_count": 36,
      "outputs": [
        {
          "output_type": "stream",
          "name": "stdout",
          "text": [
            "{'emoji', 'Promotion', 'Check', 'type', 'password', 'mart', 'intrusion', 'stupid', 'banking', 'eat', 'KCyber', 'heard', 'As', 'fills', 'freelance', 'charge', 'character', 'Called', 'person', 'management', 'overpayed', 'disappointed', 'compare', 'report', 'power', 'twenty', 'loaner', 'Mondays', 'eaten', 'phoneID', 'playing', 'fucking', 'daddy', 'margin', 'brain', 'interface', 'happiness', 'Patriot', 'read', 'KBankWhy', 'finish', 'asap', 'recommendations', 'limited', 'necessity', 'Sea', 'cancel', 'bringing', 'past', 'clean', 'comfort', 'Drag', 'mix', 'bond', 'interested', 'Clearly', 'ancient', 'mother', 'Leave', 'whose', 'divide', 'Receipt', 'Patz', 'gen', 'caps', 'model', 'GSB', 'Siam', 'tag', 'tea', 'whole', 'choose', 'AF', 'enabled', 'Cute', 'bankIts', 'lack', 'escaping', 'areas', 'float', 'siwiam', 'remembers', 'walletpost', 'barely', 'Conglosha', 'Jiggy', 'engine', 'treating', 'mg', 'near', 'Please', 'search', 'numbers', 'Tell', 'event', 'fool', 'size', 'halfproject', 'gross', 'Payed', 'pwittaya', 'AOT', 'interest', 'additional', 'modernity', 'Personally', 'XX', 'AirPay', 'rewards', 'called', 'state', 'canal', 'someone', 'handed', 'legal', 'contract', 'vision', 'Box', 'asked', 'performance', 'iPad', 'SCBM', 'Thailand', 'Burirum', 'assume', 'circulate', 'VISA', 'break', 'rmf', 'appointment', 'station', 'free', 'fixing', 'header', 'receives', 'live', 'goohaha', 'limit', 'six', 'Panda', 'Therefore', 'frustrated', 'stays', 'Isas', 'Yu', 'cardutrip', 'highinterest', 'True', 'YouTrip', 'counter', 'User', 'easier', 'nonstrengthening', 'critical', 'WHA', 'Lose', 'PTT', 'Islamic', 'touchso', 'Walking', 'emptyhanded', 'fee', 'course', 'Thoms', 'publish', 'Select', 'Seoi', 'empty', 'capability', 'United', 'specified', 'destroyed', 'ppnnpp', 'Financial', 'Gray', 'accountOurs', 'ALL', 'Friday', 'phone', 'fixed', 'pair', 'replyKrungthaiThaiKrungthaiCarre', 'messages', 'bite', 'forgive', 'bitch', 'books', 'GWalletnbspnbsp', 'lock', 'Used', 'abroad', 'guarantees', 'defective', 'mouth', 'spouse', 'response', 'advertising', 'based', 'Tanchanok', 'rains', 'Chief', 'vialine', 'companies', 'Post', 'Indy', 'blacklisted', 'explain', 'Thugs', 'title', 'acct', 'teachers', 'damaged', 'Wellness', 'complain', 'MobileK', 'procedure', 'stockholder', 'lowclass', 'swirling', 'Small', 'rated', 'waited', 'qualifications', 'deal', 'Freaky', 'feasible', 'Marhahaha', 'KBANK', 'bedinthebrain', 'sharing', 'Nike', 'proclinics', 'Superrich', 'Expires', 'passesIts', 'Airpay', 'flowers', 'Agency', 'nowI', 'ahold', 'cool', 'number', 'traveling', 'Reply', 'Ferris', 'Passed', 'IPO', 'sincerely', 'Failure', 'Squad', 'Perfect', 'af', 'wifi', 'frogs', 'could', 'bmta', 'passwords', 'guts', 'KFC', 'Industrial', 'weekday', 'illegal', 'guy', 'covit', 'executives', 'retina', 'Army', 'intake', 'Opening', 'odd', 'believe', 'Dadadada', 'drink', 'Wongsiwat', 'tricky', 'UI', 'whos', 'Anyway', 'villagers', 'sale', 'enterprise', 'repurchase', 'Banks', 'curves', 'missingappless', 'BCs', 'tucall', 'Pros', 'guards', 'retransfered', 'office', 'inside', 'grownup', 'ended', 'plugged', 'tip', 'scores', 'alreadydefined', 'borrowed', 'sympathize', 'cycles', 'Until', 'Premium', 'relock', 'cabinet', 'Product', 'SQ', 'Kowi', 'GHB', 'cardsbillsmonths', 'expire', 'gold', 'cutoff', 'pdf', 'JourneyBut', 'paperwork', 'desperate', 'experience', 'Blah', 'youve', 'kidney', 'recipient', 'Day', 'Identify', 'prior', 'Deductor', 'begs', 'contactless', 'stuffing', 'Meat', 'didnt', 'zerobahtscb', 'lately', 'postal', 'Front', 'CC', 'fuss', 'regularly', 'Payy', 'Wheres', 'stabuck', 'krungsri', 'wirojlak', 'coding', 'Callcenter', 'aeon', 'become', 'gourmet', 'Peoples', 'entry', 'retrieval', 'banknotes', 'crowded', 'httpstcoEQqLRvzJOR', 'appointments', 'insecure', 'GBP', 'spoken', 'Neg', 'ICBC', 'repeating', 'overall', 'Festival', 'freemir', 'Hurry', 'liquidity', 'annoyed', 'daily', 'Cos', 'starters', 'service', 'handle', 'scbpic', 'Trues', 'minutesThank', 'conducting', 'Ah', 'reading', 'sum', 'preferred', 'offices', 'backs', 'Mint', 'weird', 'receive', 'Tian', 'FarSiDistantY', 'TeddyKung', 'Thursday', 'Planet', 'grade', 'jaymart', 'hows', 'fancy', 'jpremier', 'cross', 'ios', 'ipo', 'career', 'sbbtmf', 'invested', 'hurts', 'lotteries', 'wrestling', 'problems', 'central', 'bean', 'ARKK', 'finance', 'distance', 'Luang', 'problemsother', 'cui', 'youre', 'Harbor', 'peoplenbspnbsp', 'manually', 'police', 'putting', 'tick', 'Confirm', 'reimbursed', 'Bill', 'site', 'Easter', 'upsetting', 'crew', 'checkpoints', 'uses', 'adjustment', 'relief', 'Taxi', 'debitcredit', 'authorization', 'England', 'Parents', 'Sales', 'SHOCK', 'depriving', 'Ib', 'avoiding', 'renting', 'GSCIMB', 'Pocket', 'depositing', 'Cashback', 'discredited', 'verify', 'reinstitutes', 'Dec', 'CARD', 'EOMSIN', 'Manny', 'Ume', 'matching', 'organized', 'That', 'happen', 'recruiter', 'Acumkom', 'Teenagers', 'interestingplanet', 'camps', 'Ive', 'exceeded', 'otherwise', 'AirAsia', 'Ng', 'INTERNET', 'Government', 'mass', 'converted', 'delivered', 'color', 'CALL', 'Preferred', 'shes', 'scary', 'public', 'INOX', 'scam', 'launch', 'higherbuyer', 'COVIDs', 'Almost', 'blah', 'thanks', 'Delivery', 'Cheng', 'wheel', 'lotteriesBut', 'KPlus', 'executive', 'privately', 'buysales', 'Sarana', 'airport', 'evaluate', 'change', 'restructure', 'ltgt', 'Departments', 'completed', 'businessmans', 'downloaded', 'Free', 'learn', 'digital', 'license', 'essay', 'fifteen', 'Srisawat', 'taxes', 'Easy', 'Review', 'paragon', 'nbspnbsp', 'membership', 'seemed', 'centers', 'Melconfim', 'Takashimaya', 'relieve', 'feel', 'Russias', 'Robin', 'walk', 'none', 'era', 'requests', 'Chats', 'preliminary', 'camera', 'secretly', 'ATM', 'function', 'Oct', 'servant', 'allowance', 'button', 'slides', 'httpskmyinvestkasikornbankcom', 'blackeyed', 'guarantee', 'reject', 'Eiebe', 'We', 'respectively', 'memorized', 'revenues', 'skull', 'Sari', 'yesterday', 'pod', 'Gvalle', 'OneSiam', 'tying', 'definitely', 'Bankurl', 'crashed', 'direct', 'Prime', 'Left', 'Beyond', 'Why', 'Account', 'Plat', 'auction', 'Thani', 'side', 'KTC', 'Lanka', 'thieves', 'Option', 'available', 'staring', 'Hmmm', 'Third', 'Too', 'Seedy', 'hear', 'trunk', 'massacre', 'cane', 'rewarded', 'Then', 'bothering', 'Solitaire', 'usual', 'Easypass', 'enterprises', 'fryer', 'Sundays', 'paper', 'hardly', 'fits', 'avtm', 'shops', 'notifying', 'relevant', 'kma', 'reads', 'better', 'clarified', 'Practice', 'provinces', 'inandout', 'monthlyyear', 'Kang', 'housewarming', 'apic', 'Kowit', 'ceiling', 'scbam', 'Inbox', 'pulled', 'Commerce', 'improves', 'instant', 'Thon', 'faces', 'friends', 'flatinum', 'SA', 'pawn', 'Confounded', 'chance', 'authorities', 'flows', 'requires', 'assurance', 'split', 'CallCenter', 'ghosts', 'avoid', 'Luckily', 'regression', 'found', 'secondhand', 'saw', 'deposits', 'withdraw', 'average', 'Ordered', 'ipad', 'charging', 'origin', 'panel', 'Meek', 'trapped', 'low', 'platforms', 'uninstall', 'features', 'reinstall', 'Home', 'Heavy', 'Really', 'machines', 'Tc', 'Guilty', 'suspicious', 'EASY', 'Using', 'homework', 'Charged', 'MYMO', 'scan', 'prosecution', 'reporting', 'unsubs', 'recheck', 'collection', 'brother', 'Have', 'seconds', 'sailors', 'final', 'rested', 'pull', 'lockin', 'UOBs', 'mean', 'wrinkled', 'descriptive', 'nuns', 'shopping', 'responsehow', 'AEONTS', 'Whos', 'minutes', 'duty', 'option', 'cheating', 'Management', 'thaipanis', 'Signature', 'leaves', 'blue', 'swords', 'valid', 'easiest', 'Information', 'guzen', 'SCb', 'salvage', 'Invalid', 'And', 'anyones', 'shouldnt', 'Ministers', 'tickets', 'Panisha', 'reduced', 'inefficient', 'mobile', 'settings', 'Should', 'documentary', 'Ouch', 'need', 'hedge', 'The', 'everyone', 'howispsg', 'ends', 'Trade', 'hacked', 'bars', 'Zeng', 'Izd', 'decree', 'Registrar', 'harder', 'OPDs', 'finishing', 'fish', 'Except', 'Tuctic', 'Whoevers', 'make', 'yet', 'sitting', 'flow', 'Burrows', 'decorator', 'Bangna', 'LTF', 'hijacking', 'streaming', 'laugh', 'SEB', 'roughly', 'originally', 'sit', 'tmb', 'burglary', 'almost', 'restart', 'blocks', 'Margin', 'accordance', 'kill', 'canceled', 'help', 'KTM', 'bike', 'switched', 'Excited', 'Ling', 'stores', 'offbook', 'Samut', 'logged', 'What', 'Registered', 'pt', 'informed', 'novel', 'Spotify', 'fault', 'focus', 'comparable', 'green', 'blackpink', 'searching', 'student', 'ah', 'notebook', 'also', 'After', 'Closed', 'halfway', 'take', 'workkma', 'currently', 'knowledge', 'Louis', 'adjusted', 'bangs', 'trips', 'open', 'Corcenter', 'dessert', 'PAYROLL', 'Fuck', 'Look', 'tossing', 'Apple', 'source', 'thsnbsp', 'loss', 'pm', 'Trumanny', 'Eon', 'contact', 'sort', 'criteria', 'hearing', 'mani', 'Requesting', 'attractive', 'Main', 'getting', 'DA', 'taste', 'luxury', 'JSecure', 'worth', 'uptight', 'discuss', 'smiles', 'splanet', 'dormitory', 'Question', 'pawns', 'enters', 'Patt', 'Mostly', 'Kjourney', 'Lastly', 'KrungsriSimpleKrungthaiCarre', 'MRT', 'replied', 'economy', 'BAAC', 'krungthai', 'Boss', 'different', 'Miracle', 'disappear', 'confidence', 'sharp', 'hacker', 'Hour', 'vacation', 'profit', 'Bache', 'slobbering', 'KMA', 'dog', 'says', 'Bread', 'weeks', 'risks', 'detailed', 'stunned', 'clarify', 'one', 'eppanng', 'mistaken', 'providers', 'buttercrimes', 'Keep', 'algorithms', 'shoots', 'occurred', 'amortization', 'popping', 'Retired', 'Boom', 'Repel', 'demanding', 'awful', 'barracks', 'kexpress', 'applynbspnbsp', 'speech', 'block', 'Syria', 'shortterm', 'allDoing', 'Sietongkum', 'bankrupt', 'fill', 'drama', 'boro', 'Cause', 'House', 'Mathos', 'If', 'Update', 'Consumers', 'towed', 'city', 'using', 'clearer', 'wasteful', 'freenasus', 'warning', 'concession', 'sadboyoxygen', 'kyc', 'umbrella', 'temporary', 'werent', 'agoda', 'speak', 'insurances', 'BangkokDental', 'PayPay', 'Password', 'Somphon', 'teaches', 'Sirets', 'complaining', 'Transferwise', 'line', 'pattern', 'Bun', 'Krungthai', 'prefix', 'roundI', 'reader', 'crown', 'parent', 'Chi', 'functions', 'millionyear', 'brings', 'Wave', 'infuses', 'ccTLD', 'contents', 'Yearly', 'notified', 'upgraded', 'facebook', 'citibank', 'soldiers', 'engrave', 'went', 'confirming', 'cover', 'mules', 'Seven', 'meeting', 'ORDER', 'Ban', 'prints', 'Thox', 'unlock', 'Nt', 'advise', 'Investment', 'decision', 'Not', 'steam', 'hi', 'forged', 'certificates', 'Patriots', 'EMERGENCY', 'tonbspnbsp', 'ep', 'boyzana', 'mom', 'affiliated', 'Destinations', 'practice', 'route', 'Uobs', 'Dolfin', 'canned', 'multiple', 'Smart', 'Admin', 'TTB', 'Absolute', 'Note', 'blocked', 'In', 'special', 'activities', 'sent', 'Revenue', 'Ibanking', 'wars', 'Thainex', 'Girls', 'Thongchat', 'Say', 'presssumm', 'Lets', 'Phuket', 'Doi', 'eyes', 'stuffed', 'child', 'lifestyle', 'Very', 'Limousine', 'schools', 'Push', 'recommend', 'payments', 'bubble', 'continues', 'MRR', 'right', 'borrower', 'protection', 'Must', 'reviews', 'sharks', 'Resolved', 'investor', 'grad', 'oilfree', 'paint', 'visiting', 'Songkran', 'SMSSCB', 'Yeah', 'displayed', 'gives', 'CoffeeMateZTwinkleproud', 'Ttb', 'totaling', 'excuses', 'holidaysThis', 'countrys', 'dogs', 'Thonshat', 'authenticates', 'family', 'CDM', 'lot', 'repayment', 'Kcash', 'oil', 'raisin', 'father', 'increased', 'wired', 'plantscb', 'TMBALLFREE', 'customers', 'contacted', 'locations', 'etc', 'February', 'puzzles', 'Octnbspnbsp', 'Chang', 'dca', 'opportunities', 'Eva', 'Internet', 'Flow', 'blunt', 'Most', 'Black', 'extra', 'rear', 'foster', 'gave', 'curse', 'kinds', 'asking', 'dies', 'Bang', 'word', 'Ad', 'curve', 'blow', 'understood', 'Ampquot', 'Purple', 'agree', 'rescheduled', 'Article', 'ago', 'cardnbspnbsp', 'wellcare', 'CAD', 'answering', 'formula', 'volumes', 'lives', 'jars', 'Jan', 'bankers', 'Apples', 'mental', 'Ram', 'bhWhen', 'Transfer', 'today', 'cry', 'classic', 'pictwittercomRqYUEIQrZJ', 'rounds', 'callin', 'admit', 'paid', 'ampnbspnbsp', 'German', 'drag', 'Europe', 'fifth', 'weve', 'Czechburo', 'highly', 'delay', 'crash', 'unsub', 'logging', 'Sahapat', 'countries', 'Aeon', 'accessed', 'click', 'products', 'operating', 'coex', 'itd', 'internet', 'organizations', 'addresses', 'edc', 'Last', 'wasting', 'consort', 'Robinhood', 'gift', 'tips', 'longdistance', 'add', 'UK', 'benefits', 'rich', 'older', 'Driving', 'Apps', 'asshole', 'friendly', 'karma', 'OM', 'considered', 'Safe', 'unremoved', 'exchanged', 'identities', 'againAll', 'discussed', 'Scary', 'CCSCB', 'programs', 'training', 'separate', 'nationality', 'bankI', 'ideology', 'Work', 'broken', 'CITIES', 'owe', 'conclusion', 'TMBs', 'reloaded', 'salary', 'Extract', 'Family', 'seem', 'Tisco', 'delete', 'question', 'unregistered', 'TT', 'unmanned', 'WOW', 'motherbaton', 'sometime', 'Rai', 'Exclusive', 'rotated', 'avoided', 'overlight', 'somewhere', 'lol', 'identifiers', 'bloody', 'pages', 'join', 'sucking', 'costs', 'extends', 'years', 'November', 'muchThe', 'expensive', 'Cardless', 'indifferent', 'tradition', 'restructuring', 'Airways', 'Kerrys', 'oneI', 'cardsnbspnbsp', 'Asking', 'Scbs', 'Samutprakarn', 'thatI', 'tend', 'KW', 'advice', 'share', 'named', 'finances', 'table', 'clothes', 'Afscb', 'hurry', 'imfai', 'recent', 'switching', 'ET', 'messenger', 'removed', 'blank', 'highlighting', 'offering', 'balance', 'files', 'West', 'PromptPay', 'agency', 'enough', 'picked', 'Grand', 'outside', 'Scb', 'true', 'schedule', 'overseas', 'applicants', 'month', 'visa', 'trmb', 'losing', 'openers', 'Ions', 'overpaying', 'deduct', 'citi', 'groups', 'Locke', 'transferees', 'Bay', 'iPhones', 'Pink', 'refund', 'existing', 'doors', 'refresh', 'professional', 'filming', 'advantageous', 'lowpriced', 'Focus', 'tight', 'else', 'administrators', 'canals', 'calls', 'Boo', 'ampnbsp', 'blame', 'ports', 'rhinoz', 'ATMCurrent', 'Bua', 'awesome', 'broke', 'expired', 'compilation', 'Amymo', 'within', 'media', 'colors', 'pushes', 'itI', 'vpn', 'MBK', 'periods', 'sweet', 'splitting', 'known', 'badit', 'prestigeROP', 'pictwittercomBWqGfGyAVn', 'Mei', 'kept', 'KClass', 'Users', 'Move', 'KTEF', 'mymo', 'How', 'zh', 'big', 'Tablet', 'baht', 'disappears', 'Isus', 'strip', 'Charge', 'use', 'compirmation', 'circulating', 'jams', 'divided', 'cooperatives', 'Security', 'ow', 'first', 'required', 'childrens', 'sounds', 'Pym', 'foreclosure', 'personal', 'UOB', 'broker', 'photo', 'Shares', 'Ma', 'Sms', 'Filled', 'Fun', 'systems', 'andKBANK', 'total', 'banksnbsp', 'anything', 'Equy', 'filed', 'cycle', 'floor', 'Banking', 'Jing', 'Imy', 'Reason', 'Has', 'rop', 'best', 'kmy', 'DCA', 'shopee', 'well', 'truemoney', 'Eins', 'modern', 'concluded', 'carnbspnbsp', 'bags', 'Kung', 'including', 'Feb', 'BDMS', 'technologyregistration', 'Mission', 'verifiedampnbspnbsp', 'classify', 'card', 'immediately', 'downloading', 'BlackPink', 'itemSMS', 'copies', 'Deuty', 'practical', 'INVEST', 'theplanet', 'pile', 'thsnbspnbsp', 'Park', 'Janyu', 'paypal', 'starting', 'simple', 'logs', 'demand', 'autograph', 'arent', 'Paragon', 'advanced', 'brew', 'graduating', 'memory', 'rule', 'behaved', 'problemOtan', 'worried', 'SMs', 'Premier', 'Mines', 'notsend', 'mine', 'yeah', 'SCBS', 'surprise', 'bus', 'Choppy', 'clerk', 'ktc', 'Guinea', 'argue', 'index', 'KbankLive', 'arh', 'Ill', 'UChoose', 'Friends', 'recharge', 'reapplying', 'matched', 'Youtrip', 'notification', 'unit', 'threemonth', 'incorrectly', 'cheater', 'bettervery', 'informs', 'operate', 'Step', 'foreigners', 'unemployed', 'fell', 'mind', 'receipt', 'blur', 'Nurse', 'horrible', 'Mould', 'butterflyuxu', 'approveable', 'much', 'worlds', 'Thai', 'asia', 'scbsonlinecom', 'aTM', 'GrabPay', 'Fs', 'Settings', 'determine', 'TMB', 'visits', 'many', 'bots', 'shake', 'walks', 'Srees', 'Se', 'itso', 'Major', 'shipment', 'FWD', 'unapproved', 'Master', 'Binging', 'Generalis', 'covered', 'Ha', 'coin', 'Bou', 'correct', 'lasts', 'Simple', 'matchI', 'mBanking', 'robbers', 'claiming', 'texts', 'Fortunately', 'Mao', 'Latest', 'Burmese', 'reinterest', 'Krungsri', 'pictured', 'covering', 'editing', 'stood', 'combine', 'great', 'forced', 'extremely', 'FIRST', 'Ost', 'depends', 'dtac', 'sucks', 'lower', 'AIS', 'cons', 'reach', 'axa', 'bugger', 'Savingsin', 'wav', 'Where', 'restaurant', 'Refunds', 'Thailands', 'unusable', 'Seil', 'reconsider', 'sims', 'NZ', 'ThaiPay', 'walking', 'Wallace', 'express', 'budget', 'Coordinates', 'SCB', 'various', 'statement', 'experienced', 'Tellesel', 'Chai', 'claims', 'extend', 'Apapa', 'head', 'Monday', 'weigh', 'unless', 'fighting', 'Uh', 'Chat', 'pray', 'Pakistan', 'Me', 'cancelling', 'aiming', 'semester', 'running', 'GapThananat', 'truck', 'ignore', 'SCBampnbspnbsp', 'assuming', 'answer', 'firstshoe', 'sadly', 'Fast', 'creditors', 'Canceled', 'copying', 'transfers', 'itstaets', 'Ratchaburi', 'delayed', 'values', 'pressure', 'transferers', 'Dolfinampnbspnbsp', 'announce', 'morningIm', 'transfering', 'taxpayers', 'range', 'icon', 'IDd', 'tomorrows', 'FUN', 'States', 'secure', 'BsHyuk', 'fair', 'spready', 'Right', 'Jmart', 'Lottery', 'Finance', 'Thnakac', 'seized', 'difficult', 'Peak', 'hall', 'Kaya', 'Add', 'deals', 'thief', 'lifestyles', 'tuition', 'drops', 'Chanathamakhon', 'transferd', 'krungthaiNext', 'cryptographic', 'locals', 'handing', 'orders', 'allnbspnbsp', 'province', 'fellow', 'Drawstring', 'feared', 'noncarding', 'Center', 'iBanking', 'Amanny', 'birthday', 'letters', 'lets', 'discounts', 'remove', 'fivemonth', 'business', 'machine', 'condominium', 'patents', 'end', 'Change', 'DEBIT', 'okay', 'locked', 'evaluated', 'Sreedy', 'brand', 'nisit', 'ice', 'Customers', 'lottery', 'JTp', 'promote', 'collapse', 'biggest', 'submit', 'failure', 'bummer', 'shows', 'merger', 'DC', 'Automatically', 'Broke', 'Nothing', 'selecting', 'pretty', 'urgently', 'checking', 'Sen', 'urgent', 'hand', 'Buy', 'humans', 'Yuan', 'EVERYDAY', 'Blue', 'everywhere', 'jerk', 'wallpaper', 'laterIm', 'Unusable', 'telling', 'mic', 'upK', 'IM', 'antibiotics', 'lowbuyer', 'Less', 'painful', 'Load', 'writing', 'Deduct', 'epayment', 'Inter', 'hard', 'alerted', 'Many', 'Seeing', 'concert', 'platform', 'Prapaipit', 'infinix', 'though', 'website', 'Clearing', 'Exchange', 'anywhere', 'todayweek', 'Trumov', 'Received', 'CPALL', 'create', 'taxed', 'Intreovert', 'sisters', 'includes', 'blurred', 'Peys', 'Monthsnbsp', 'Overall', 'mess', 'Ampnbspnbsp', 'beat', 'Appointment', 'peopleIm', 'Some', 'Lisa', 'ktcs', 'ground', 'intends', 'correctly', 'tones', 'agents', 'app', 'saying', 'reserved', 'berryzbii', 'brighter', 'Dunno', 'Metropolitan', 'bass', 'eightandahalf', 'Back', 'salaries', 'paycheck', 'Wish', 'slip', 'box', 'notices', 'exceed', 'SME', 'Ems', 'battalion', 'Love', 'falling', 'Lock', 'coded', 'Planets', 'slowest', 'country', 'Av', 'mortgage', 'October', 'Sree', 'Town', 'Unnis', 'whatever', 'transport', 'dealing', 'Buro', 'From', 'contractor', 'merchant', 'walkie', 'ghost', 'leaveofthehour', 'Records', 'Up', 'staff', 'Axa', 'deep', 'accepting', 'debitnbspnbsp', 'signed', 'Class', 'Still', 'think', 'App', 'Hold', 'residence', 'Dadada', 'comfortable', 'Administration', 'safest', 'Srifurs', 'hosts', 'bounce', 'Ton', 'except', 'websites', 'passport', 'theatre', 'keeping', 'series', 'accessing', 'trip', 'ADM', 'tiring', 'mymonbspnbsp', 'Man', 'channels', 'wiped', 'two', 'shynbsp', 'KContact', 'approve', 'Ktb', 'Pic', 'patient', 'overnbsp', 'billing', 'registry', 'THAI', 'registered', 'witness', 'suspension', 'Over', 'Satisfaction', 'spelled', 'Cameras', 'edit', 'inconvenient', 'backup', 'Saturdayweek', 'ate', 'provincial', 'Bring', 'Dealer', 'homepro', 'Suphakit', 'usage', 'iphone', 'hundreds', 'Were', 'million', 'acquaintance', 'insufficient', 'philanthropy', 'put', 'patience', 'Lost', 'Shanghai', 'abalonenbspnbsp', 'detect', 'Shake', 'clutter', 'Bronx', 'done', 'TU', 'companys', 'continue', 'device', 'bonds', 'ride', 'bye', 'fix', 'recommending', 'Since', 'negotiating', 'invite', 'omesin', 'Thainecks', 'Tao', 'usedrnane', 'linking', 'privilege', 'Gastor', 'fuck', 'threads', 'Swift', 'yell', 'situation', 'Asset', 'issue', 'opinion', 'SMS', 'capitals', 'mechanic', 'removing', 'enjoy', 'City', 'develops', 'issues', 'Speeddy', 'Saving', 'District', 'Ubonrat', 'crosssection', 'Filling', 'irresponsible', 'Choice', 'Itll', 'lapisdotlazuli', 'MasterCard', 'regress', 'Chon', 'bats', 'Bureau', 'cashiers', 'mrt', 'ran', 'tagging', 'VAT', 'overpayment', 'Pays', 'BEA', 'law', 'atmdebit', 'rebate', 'review', 'doesnt', 'Asked', 'girl', 'got', 'Sympathetic', 'refill', 'consent', 'No', 'Agent', 'bestIve', 'ads', 'username', 'crossbank', 'Version', 'meonK', 'fashion', 'pop', 'caused', 'deceived', 'sudden', 'base', 'Precious', 'bugo', 'reviewing', 'play', 'worked', 'rings', 'nbspnsp', 'Blackpink', 'offers', 'finally', 'deducts', 'entertained', 'describe', 'bank', 'senior', 'Estimated', 'headquarters', 'bribe', 'booker', 'USA', 'evidence', 'build', 'WDP', 'school', 'tootheturtle', 'touch', 'invest', 'Pass', 'dads', 'Sianz', 'Hey', 'Which', 'TrueWallet', 'moon', 'backups', 'hells', 'bloom', 'longer', 'Usually', 'bribes', 'client', 'Demeanor', 'typically', 'buses', 'building', 'projects', 'slot', 'Normal', 'loyalty', 'Visastyle', 'language', 'Real', 'easytocontact', 'frequently', 'DEA', 'factor', 'sedans', 'compartment', 'backwards', 'apologize', 'lost', 'abalone', 'written', 'PayPal', 'NooLekMeekPooH', 'Sis', 'able', 'Reverend', 'Kenzles', 'Lisas', 'burrow', 'Snoopyprinted', 'twoyear', 'idea', 'Abbey', 'Child', 'mymos', 'outofthebox', 'Mrs', 'unknown', 'wheres', 'call', 'things', 'brok', 'Stm', 'silent', 'Takma', 'convenient', 'KSCBCim', 'Mother', 'latenight', 'clarification', 'Fen', 'Several', 'refinan', 'hacking', 'packages', 'Chantburi', 'Done', 'Mom', 'subscribe', 'collaboration', 'wake', 'ac', 'spears', 'husband', 'willing', 'fooled', 'Feels', 'Show', 'level', 'Amex', 'system', 'debitscb', 'drive', 'Bitcoin', 'proof', 'taught', 'tech', 'transferor', 'Services', 'leader', 'Transport', 'Nan', 'Theres', 'kaya', 'forgotten', 'movie', 'CBACQBUALUANG', 'authentication', 'cases', 'China', 'Who', 'admin', 'Pike', 'complaint', 'item', 'documentation', 'damn', 'section', 'oncredit', 'consultation', 'electric', 'trying', 'Thorn', 'cannot', 'paychecks', 'Ratchapat', 'fucker', 'style', 'initially', 'midnight', 'boyfriend', 'expiration', 'Need', 'Miss', 'net', 'prestige', 'Authorities', 'admire', 'Covit', 'Kino', 'uid', 'Request', 'KEPT', 'vs', 'message', 'kid', 'technologically', 'theres', 'Promo', 'Personal', 'LCB', 'millionmonth', 'meets', 'notifications', 'refinancing', 'homes', 'domestic', 'signing', 'nbspnbspk', 'Even', 'pressed', 'MP', 'Wow', 'insurance', 'place', 'Umay', 'recognized', 'SCBRMGHC', 'worldfamous', 'Embassy', 'LETT', 'Agoda', 'glitch', 'creditor', 'good', 'Grow', 'Reference', 'korean', 'reregister', 'Chase', 'Visa', 'snacks', 'swings', 'spinning', 'openings', 'extension', 'Doing', 'Kanchanaburi', 'snack', 'EasyIve', 'accidentally', 'autonomous', 'luckily', 'listed', 'actual', 'Hes', 'Ready', 'turning', 'going', 'old', 'thos', 'realm', 'Ports', 'receiver', 'burning', 'eruptions', 'include', 'payphone', 'car', 'lightly', 'logins', 'smile', 'network', 'gps', 'Royal', 'Dr', 'barcode', 'information', 'buy', 'muzzle', 'Toss', 'Forget', 'refilled', 'lame', 'arrow', 'documented', 'located', 'clicks', 'spay', 'Shoppee', 'confusion', 'sessions', 'Cupp', 'survive', 'Fixed', 'aim', 'adjust', 'japan', 'lawsuit', 'Soldiers', 'depositremoved', 'corrections', 'Prestige', 'Whens', 'cheaper', 'funds', 'Kplus', 'Debit', 'Omsin', 'authorize', 'hospital', 'Citi', 'failing', 'foundation', 'provide', 'brought', 'Remember', 'rootenergy', 'already', 'wanting', 'steps', 'gotten', 'text', 'American', 'brothers', 'Kbizcontactcenterkasikornbankcom', 'itThai', 'bankingmobile', 'Booked', 'Thos', 'letter', 'embarrassed', 'Android', 'QARCOCH', 'kcl', 'year', 'Business', 'sugar', 'parents', 'Dad', 'Land', 'APP', 'Before', 'permission', 'listing', 'depending', 'Rabbit', 'huge', 'antibank', 'recipients', 'Card', 'Confirmed', 'roast', 'fb', 'wont', 'esaving', 'atmquest', 'askif', 'Volet', 'younbsp', 'Bullshit', 'standard', 'present', 'inquiring', 'appbased', 'lady', 'wallet', 'official', 'Justice', 'cutout', 'prevent', 'quickest', 'KMy', 'barn', 'queueing', 'ratingThe', 'Interest', 'mines', 'kind', 'besides', 'burdensnbspnbsp', 'worker', 'load', 'depend', 'Your', 'responsible', 'Cigna', 'nakin', 'izei', 'Sass', 'trustworthy', 'request', 'Taiwans', 'portfolio', 'Thomps', 'depressing', 'disable', 'National', 'MOU', 'zwingzet', 'renewed', 'Its', 'boat', 'exchanges', 'Deducted', 'Just', 'design', 'satisfactory', 'Sunday', 'wfh', 'failed', 'leverage', 'thought', 'PM', 'arrange', 'wasnt', 'President', 'Karen', 'dark', 'Student', 'description', 'headache', 'noe', 'unexcited', 'Cap', 'youtrip', 'Amortization', 'Thailandneck', 'exam', 'advantages', 'notes', 'nbsp', 'Menu', 'customer', 'town', 'cashbacks', 'pin', 'rejected', 'Tshirts', 'sums', 'morning', 'booked', 'server', 'BBL', 'missed', 'ndid', 'please', 'throw', 'pickup', 'renovations', 'reopen', 'whichever', 'crashing', 'purchasesales', 'dated', 'Substitute', 'close', 'downtown', 'lie', 'Bass', 'leave', 'authors', 'rude', 'It', 'Recently', 'PLANET', 'buyer', 'Paying', 'Chiang', 'debitATM', 'httpstcoCBDHqKhdp', 'common', 'Kcyber', 'crisis', 'grandmothers', 'troublesome', 'involved', 'Tong', 'YouTube', 'unscanned', 'blog', 'understands', 'selfconsciousness', 'replace', 'Call', 'sbbscustomersservicescbcoth', 'Tips', 'LIVE', 'hate', 'improvement', 'balances', 'offered', 'Recommended', 'stops', 'stalkers', 'records', 'Website', 'scb', 'current', 'effective', 'Trust', 'mediated', 'Yes', 'overtake', 'rushed', 'BBLs', 'OT', 'KUSXNDQAA', 'ibanking', 'piece', 'Express', 'realize', 'printed', 'Marvins', 'warranty', 'unloaded', 'village', 'Chet', 'aba', 'Thanaca', 'RangsitNakkor', 'condition', 'identify', 'states', 'Travelling', 'around', 'Lek', 'Difficult', 'transferee', 'adjustable', 'pink', 'Campaign', 'Wah', 'Payne', 'reason', 'closest', 'Keptby', 'misinformation', 'adjusting', 'Shit', 'orbuyer', 'illness', 'aunt', 'responding', 'Cares', 'due', 'IP', 'situations', 'worst', 'Yongmus', 'Hmm', 'shit', 'lote', 'Cao', 'BL', 'SO', 'Successful', 'identification', 'Nae', 'install', 'digit', 'rather', 'luck', 'YOLO', 'moneys', 'fax', 'used', 'hire', 'hair', 'fingers', 'Someone', 'suitcase', 'nbspampnbsp', 'businesses', 'OR', 'subscription', 'seat', 'lotus', 'Deposits', 'prodigy', 'Dental', 'Stop', 'account', 'division', 'Banscb', 'specify', 'tells', 'Kong', 'attached', 'voting', 'authenticate', 'analysis', 'bitcoin', 'aert', 'deletes', 'Foodpanda', 'home', 'itll', 'recording', 'forth', 'Manage', 'spin', 'left', 'sme', 'updatingIve', 'neck', 'bar', 'towing', 'Khon', 'ts', 'zeng', 'Good', 'recover', 'SPEEDY', 'kiosk', 'Sept', 'jail', 'magnetic', 'helpful', 'tries', 'Yen', 'Lush', 'ahjumma', 'ODs', 'Taxfree', 'makes', 'Bank', 'bro', 'Inquiry', 'Dan', 'dial', 'alone', 'backtoback', 'KBank', 'tc', 'Payi', 'thai', 'ignoring', 'townhouse', 'snopnat', 'vending', 'passable', 'Sukhothai', 'promoted', 'Convert', 'driver', 'atomorbot', 'primary', 'learning', 'Junsompong', 'capital', 'pasted', 'street', 'countIm', 'hes', 'try', 'Ck', 'deceiving', 'measure', 'Manton', 'Bathong', 'XDs', 'PA', 'gym', 'Experience', 'contacting', 'noon', 'every', 'Jobs', 'target', 'httpstcocMIspvUkx', 'Village', 'EOM', 'sue', 'either', 'amampnbspampnbspnbsp', 'Kowid', 'bahtyear', 'wave', 'Six', 'order', 'Kaakura', 'Coin', 'unionpay', 'publicity', 'Office', 'Rela', 'Srithe', 'compensation', 'TEL', 'seal', 'Prapa', 'bucks', 'quickly', 'deliver', 'crying', 'Company', 'would', 'Mainly', 'selection', 'paying', 'Click', 'crutches', 'About', 'Global', 'Data', 'important', 'obtained', 'Borrowed', 'Eomsin', 'unusually', 'parentheses', 'roaming', 'bugged', 'Bangkhkbankcom', 'party', 'Facebook', 'hit', 'adding', 'permanently', 'Thks', 'member', 'repair', 'picking', 'western', 'gets', 'twoday', 'Pimp', 'victim', 'genus', 'realized', 'rice', 'nine', 'dying', 'ThaiOmsin', 'Department', 'fear', 'nano', 'Kept', 'prepared', 'appnbspnbsp', 'slower', 'shoes', 'insteadIt', 'busy', 'Customer', 'atms', 'bunch', 'Ave', 'Based', 'usedampnbspampnbsp', 'Jkt', 'filing', 'Care', 'serveampnbspampnbsp', 'Srihomepro', 'crews', 'Read', 'confirmed', 'restructured', 'durable', 'coworkers', 'Send', 'deduction', 'angry', 'grand', 'however', 'Ya', 'Pantip', 'retie', 'Year', 'ridiculous', 'compromise', 'jobs', 'cells', 'seeing', 'hardtoconnect', 'affected', 'Power', 'chopper', 'Walletpost', 'Let', 'counting', 'charged', 'helped', 'maximum', 'Joe', 'SC', 'wealth', 'This', 'gonna', 'Mastercard', 'making', 'Pin', 'whereI', 'counts', 'Phetchaburi', 'Bigc', 'loaned', 'accused', 'trusted', 'thats', 'recommendation', 'gtlt', 'half', 'According', 'Here', 'presses', 'scbeasy', 'Stupid', 'rightquot', 'Everyone', 'conclude', 'Report', 'form', 'creditburo', 'Iservis', 'working', 'ThailandOmsin', 'disease', 'allfree', 'filler', 'Transferd', 'Chan', 'Email', 'unique', 'knows', 'inaccessible', 'recorded', 'press', 'Both', 'Equil', 'third', 'life', 'smooth', 'bail', 'Tevez', 'Press', 'cheated', 'Beau', 'overwhelmed', 'set', 'Life', 'measures', 'scanned', 'Thaks', 'Like', 'merge', 'Number', 'Reward', 'released', 'Thorough', 'cares', 'Thanshat', 'nearby', 'boyfriends', 'improving', 'included', 'January', 'rights', 'chunk', 'NL', 'Commission', 'bluenbspnbsp', 'seller', 'get', 'Would', 'disabled', 'updates', 'stamps', 'Rungruang', 'investing', 'prove', 'loophole', 'candle', 'Kowig', 'Mess', 'hung', 'awaiting', 'kicked', 'Do', 'calculation', 'Potify', 'seven', 'surcharge', 'campaign', 'proud', 'BTC', 'Paotang', 'book', 'dialed', 'submits', 'Custommer', 'list', 'Teampnbspampnbspnot', 'Section', 'owed', 'thousand', 'doubt', 'dick', 'Complaint', 'ur', 'VIP', 'fined', 'Taiwan', 'MAKE', 'Buying', 'deposited', 'Platinum', 'among', 'coffee', 'burro', 'Youre', 'rescue', 'screaming', 'fever', 'smartphone', 'DeliciousRendezvous', 'CPF', 'belongs', 'sorry', 'pay', 'confuse', 'supposed', 'needs', 'canter', 'searched', 'suggestion', 'mortgaged', 'usable', 'false', 'calendar', 'board', 'Line', 'method', 'BRs', 'relentless', 'reward', 'peachizen', 'coth', 'KKP', 'random', 'resolved', 'retrieved', 'Amen', 'advance', 'unreachable', 'rid', 'Accounting', 'Chubb', 'sixdigit', 'whether', 'space', 'punched', 'Vvo', 'outbreak', 'Demean', 'gateway', 'lying', 'midOctober', 'described', 'detained', 'belts', 'nomination', 'Japan', 'holiday', 'worry', 'problemshut', 'brokers', 'Find', 'delays', 'autodeposit', 'pantsnbsp', 'less', 'expressway', 'developer', 'Caps', 'mortgageInquiring', 'conceivedAnd', 'brutal', 'Days', 'procedures', 'FREE', 'Rewards', 'Money', 'anxious', 'scbthailand', 'Tuesday', 'apt', 'Save', 'PORT', 'Virtual', 'coupon', 'daddys', 'Lazada', 'toyota', 'weight', 'picky', 'relatives', 'Symnet', 'Journey', 'Pro', 'ARK', 'saturday', 'motorbike', 'Short', 'During', 'lifethreatening', 'robots', 'unable', 'Lppbh', 'repay', 'Citis', 'BO', 'PASSBOOK', 'Ticket', 'arranged', 'filetypes', 'trading', 'consideration', 'pmnbspnbsp', 'rehashed', 'private', 'km', 'Nonbook', 'Condonanda', 'Port', 'NVDR', 'titanium', 'constraint', 'valuable', 'Klangsenna', 'late', 'permanent', 'resign', 'debtor', 'university', 'raise', 'Plus', 'ordered', 'income', 'destination', 'disagree', 'suspicion', 'short', 'tradeIll', 'Reloaded', 'allow', 'ownership', 'period', 'Osaka', 'covid', 'Germany', 'Ourleeedixxx', 'unreasonable', 'gone', 'More', 'crumbs', 'Vat', 'Minister', 'Remind', 'throughnbspnbsp', 'TRADE', 'enrolling', 'noti', 'NAV', 'vicviickiexz', 'units', 'affiliate', 'linked', 'Mani', 'Prepare', 'residual', 'rebtel', 'Tel', 'Social', 'given', 'abalones', 'allKTC', 'tracking', 'announcement', 'needing', 'God', 'lowest', 'consider', 'Fine', 'early', 'userfriendly', 'Transfered', 'Take', 'Autobots', 'Wrong', 'thisIm', 'mydaotown', 'However', 'sms', 'exist', 'Group', 'clearing', 'paynbspnbsp', 'refuses', 'KBang', 'concern', 'hope', 'somnobless', 'SWIFT', 'Sorry', 'invoices', 'insured', 'death', 'Employees', 'fortune', 'TOPSCENTRAL', 'matter', 'clams', 'refer', 'May', 'Rueantan', 'Japanese', 'Sending', 'depositor', 'booth', 'bonus', 'Air', 'bankholder', 'society', 'incremental', 'Arumati', 'behind', 'clearly', 'Suvarnabhumi', 'forest', 'co', 'Always', 'ordering', 'mega', 'BaSss', 'Round', 'acceptance', 'invalid', 'receipts', 'inquiries', 'Years', 'minute', 'supports', 'often', 'qr', 'Want', 'citybank', 'clears', 'centerThe', 'bunshee', 'thursday', 'independence', 'prefer', 'Trumans', 'allocated', 'ap', 'Dismiss', 'never', 'refused', 'insert', 'silvers', 'thrilled', 'ofnbspnbsp', 'theyll', 'contains', 'Date', 'Clear', 'Citibanks', 'Answer', 'processing', 'Superich', 'Flexi', 'topnotch', 'constituents', 'institution', 'partner', 'connection', 'Saris', 'bird', 'sexy', 'Service', 'want', 'An', 'said', 'plugs', 'None', 'chased', 'PLATINUM', 'centre', 'Crazy', 'suspend', 'primer', 'PS', 'taxpayer', 'financial', 'longest', 'AIRBNB', 'terms', 'Ask', 'cuts', 'wanted', 'Heres', 'suspended', 'imported', 'gather', 'Syre', 'price', 'cutting', 'upnbspnbsp', 'redund', 'interesting', 'Ayad', 'reservations', 'really', 'Ours', 'bases', 'threw', 'cheat', 'chances', 'facilitate', 'Petchbun', 'Wait', 'payin', 'Sriyutthayas', 'hackers', 'Sneaked', 'router', 'bung', 'lazada', 'favor', 'Panishan', 'ptts', 'Web', 'shot', 'annoyances', 'September', 'hires', 'Buntoshi', 'Gwallet', 'Dear', 'sat', 'Shes', 'attention', 'confiscated', 'institutions', 'taxis', 'bilwmecom', 'commercial', 'scbnbspnbsp', 'distributed', 'fees', 'shy', 'Spoil', 'frame', 'mainstream', 'Venice', 'metaphor', 'repaid', 'intend', 'lose', 'floating', 'rural', 'DOC', 'delighted', 'wash', 'malfunctioning', 'android', 'TOT', 'cabinets', 'Bbl', 'Identity', 'BEM', 'user', 'reopened', 'ume', 'apologized', 'editor', 'Shot', 'airpay', 'fe', 'fines', 'prices', 'pressing', 'These', 'complained', 'Homicide', 'HiaKoe', 'stickers', 'Khmers', 'woken', 'Decree', 'believed', 'gwallet', 'holders', 'sales', 'Deedy', 'airAsias', 'raised', 'Opened', 'Secondly', 'simplest', 'justiceRescue', 'editorial', 'met', 'agent', 'imagine', 'Accredited', 'inspection', 'freezes', 'JLPT', 'played', 'till', 'ThailandKrungthaiCare', 'talked', 'Panishi', 'Srima', 'bookbank', 'switch', 'oldest', 'ree', 'Court', 'showing', 'inmoney', 'road', 'bot', 'document', 'Zhong', 'suck', 'kerry', 'mediumsized', 'BLACKPINKFANMEETING', 'registering', 'mistakes', 'page', 'bbbexitt', 'Protection', 'hello', 'importantly', 'minimum', 'themIve', 'gain', 'download', 'shoe', 'worse', 'erm', 'pity', 'directors', 'cue', 'Later', 'NEXT', 'coach', 'Pangani', 'mornings', 'dress', 'queuer', 'Rate', 'cities', 'IDs', 'yes', 'Ads', 'lik', 'cassava', 'mbanking', 'arrived', 'Nomuranbsp', 'improved', 'Somebody', 'Thailandnbspnbsp', 'point', 'endings', 'misinformed', 'Assuming', 'bay', 'Code', 'channel', 'poison', 'indicates', 'debit', 'lockI', 'Trumooves', 'transactions', 'inquire', 'fire', 'Robo', 'Prairie', 'AHHHHHHGHT', 'Noloyi', 'resigned', 'Cloud', 'shuts', 'See', 'tfx', 'reduction', 'push', 'bruised', 'Vietnam', 'water', 'return', 'ATMDebit', 'inquiry', 'fooling', 'promotions', 'DEO', 'winning', 'suit', 'ktb', 'deleted', 'speaks', 'mostly', 'Jernies', 'Projects', 'flat', 'Twitter', 'Secon', 'Wechat', 'toiletnbspnbsp', 'insists', 'scbthailandloveWithBBH', 'throughout', 'Time', 'AP', 'housing', 'remedy', 'Besides', 'galaxy', 'expense', 'loans', 'inflation', 'scbsonline', 'Maneerung', 'transaction', 'cashfree', 'stimulates', 'Mount', 'heavy', 'sound', 'bookbanks', 'Oil', 'renew', 'women', 'military', 'Next', 'aunts', 'gtgt', 'scared', 'kb', 'spare', 'Phraya', 'pantip', 'To', 'charges', 'Theyll', 'Anyone', 'participate', 'bending', 'Hi', 'figure', 'earlier', 'First', 'dropping', 'costume', 'Byebye', 'tightened', 'ticket', 'dude', 'Application', 'swipe', 'yordyings', 'Found', 'grow', 'TIP', 'shortened', 'denial', 'spins', 'shift', 'motorcycle', 'viewed', 'Bought', 'South', 'Higher', 'maids', 'talking', 'alli', 'made', 'sixmonth', 'followed', 'Sit', 'yelled', 'smartphones', 'stick', 'watch', 'presentAmaknae', 'BAY', 'hospitals', 'latest', 'fans', 'improve', 'calculations', 'store', 'erase', 'Importantly', 'gmarket', 'cancels', 'ref', 'succeeded', 'Slip', 'specials', 'coordinate', 'die', 'cleared', 'girlfriend', 'impossible', 'KYDog', 'Solves', 'unfortunately', 'Cuwesa', 'Tanshats', 'Union', 'viu', 'stole', 'grey', 'mothers', 'sqhsn', 'DTAC', 'gambling', 'Be', 'deliveries', 'Station', 'Mobile', 'LEC', 'deposition', 'kmekluvyw', 'TG', 'Bangkokbank', 'ok', 'Suwankhun', 'daughters', 'returns', 'hospot', 'happy', 'While', 'pong', 'locks', 'risky', 'sell', 'Drive', 'basis', 'sim', 'Ipad', 'Help', 'daytoday', 'large', 'edited', 'ba', 'ampnbspampnbsp', 'ROP', 'allows', 'convenience', 'sky', 'differently', 'recurrence', 'mainly', 'convert', 'wed', 'ofnbsp', 'code', 'TBANK', 'Ieves', 'commercials', 'FF', 'aliay', 'payout', 'reference', 'unlimited', 'couple', 'quite', 'synchronized', 'rough', 'sym', 'Sometimes', 'tmbs', 'NDID', 'credit', 'forget', 'August', 'Stingy', 'deeds', 'shared', 'tens', 'nonbsp', 'built', 'baby', 'houses', 'blooms', 'slight', 'burden', 'Infinite', 'Alipay', 'lighter', 'Bahtnbspnbsp', 'Yume', 'second', 'subsidiary', 'sink', 'Aah', 'profits', 'Header', 'unavailable', 'Another', 'journal', 'degree', 'rushing', 'twoquarter', 'joys', 'Haha', 'tired', 'overpay', 'Hot', 'originator', 'Platimun', 'AXA', 'profile', 'next', 'cupboard', 'outpost', 'ACCOUNT', 'Starbucks', 'sued', 'plan', 'tags', 'stabbed', 'new', 'parked', 'possible', 'row', 'Sixers', 'yanks', 'overflowing', 'Retention', 'feature', 'Bgrade', 'dropped', 'withdrawals', 'throwing', 'slightly', 'unusual', 'suspending', 'moonbackp', 'heading', 'Siriro', 'applicated', 'kbank', 'threeyear', 'khunpinto', 'Renovated', 'lounge', 'Rush', 'submitted', 'KYC', 'cardscredit', 'Recommend', 'handout', 'Don', 'announced', 'lunch', 'communication', 'black', 'Bung', 'BEC', 'understanding', 'follows', 'accordingly', 'Yesterday', 'literarydinsor', 'Wisdom', 'forward', 'Bosch', 'discount', 'tell', 'quality', 'start', 'Transferring', 'Quality', 'tree', 'TheChlxxx', 'decided', 'Finanzian', 'restaurants', 'percent', 'group', 'provider', 'wait', 'actually', 'TOP', 'rising', 'carrying', 'refuel', 'plane', 'presseduse', 'matches', 'time', 'noted', 'offthesite', 'Siietongkum', 'entrepreneur', 'content', 'Introducing', 'last', 'BLACKPINK', 'cannbsp', 'Chap', 'guys', 'refinanced', 'Month', 'loosens', 'debited', 'addicts', 'troubled', 'June', 'refuse', 'Ayutthaya', 'keys', 'Thongsepee', 'Frog', 'decisions', 'resigning', 'track', 'responsibility', 'Mai', 'SPOTIFY', 'voice', 'trade', 'Hello', 'Happy', 'KrungthaiCarre', 'calm', 'case', 'held', 'oh', 'officer', 'dorm', 'tapping', 'differences', 'kesavings', 'Everything', 'EZ', 'apply', 'homeinterest', 'Does', 'familiar', 'transfer', 'seating', 'With', 'waste', 'poor', 'shop', 'expected', 'socket', 'encrypted', 'withdrew', 'donation', 'Hopefully', 'Wise', 'jcb', 'unstable', 'poured', 'Thank', 'Esavings', 'rabbit', 'Pick', 'closes', 'slipon', 'CITI', 'Weve', 'elsewhere', 'later', 'land', 'Well', 'Bangkoks', 'stopped', 'ThaiUnited', 'cheered', 'httpstcocphyywd', 'Missing', 'handicapped', 'stable', 'ATMdebit', 'Tevin', 'Goat', 'dangerous', 'housewives', 'ad', 'successfully', 'Mina', 'condo', 'opening', 'theyre', 'Otherwise', 'name', 'sits', 'zimzalabimjStonenayouung', 'chill', 'NPL', 'restoring', 'Aliexpress', 'always', 'sparey', 'specialist', 'kicking', 'minor', 'booking', 'Powerbuy', 'Aom', 'appraisal', 'Will', 'lag', 'monthly', 'misplaced', 'straight', 'bang', 'SCBSETE', 'npl', 'Ryla', 'celebrate', 'authentic', 'checkin', 'blacklist', 'chat', 'Dmudo', 'Zealand', 'OK', 'gt', 'immediate', 'popcorn', 'documents', 'explains', 'although', 'Incoming', 'omsin', 'rescan', 'cost', 'substitutions', 'Approximately', 'excluded', 'My', 'compared', 'woke', 'netbank', 'principle', 'auto', 'cause', 'goodbye', 'mosi', 'sleep', 'directly', 'commenting', 'reboot', 'Colcenter', 'flash', 'protect', 'unpacked', 'httpstcouCVeFjaKHt', 'KTBs', 'Terikyu', 'midmonth', 'mission', 'cancellation', 'shipping', 'organization', 'ZIP', 'Pong', 'incompetent', 'honor', 'door', 'Ten', 'Alert', 'appreciate', 'Dont', 'thinking', 'pisapim', 'ununuchisa', 'ITMX', 'red', 'attachment', 'opens', 'transition', 'dry', 'afford', 'Ps', 'refills', 'suggested', 'disappointing', 'nvr', 'script', 'basically', 'ahead', 'uobs', 'misunderstanding', 'appears', 'Panish', 'mango', 'eye', 'solutions', 'manual', 'Pearl', 'Wipada', 'paypaypal', 'So', 'Only', 'passengers', 'tmbbankcomcardscreditcardstmbsosmartcardhtmlhtml', 'messy', 'term', 'Half', 'enforced', 'suddenly', 'bk', 'limitA', 'printing', 'bad', 'dozens', 'dollar', 'meet', 'passing', 'Without', 'compatible', 'Gmarket', 'stock', 'systemautomatic', 'addition', 'GSBSociety', 'fall', 'Grusrik', 'costing', 'commented', 'input', 'candidate', 'limits', 'friend', 'Earlier', 'speedy', 'erupted', 'abbreviation', 'fails', 'Purchased', 'Ewang', 'vote', 'carry', 'ever', 'shares', 'cars', 'richer', 'wouldnt', 'Ickckckckckckck', 'select', 'favorite', 'Prachinburi', 'graduate', 'hell', 'lowkey', 'tricks', 'hopes', 'Honor', 'wins', 'showed', 'Notification', 'Kbanks', 'calculated', 'millions', 'Scbeasyapp', 'moved', 'follow', 'union', 'Lucky', 'bind', 'Wiganda', 'Chanoknan', 'Mine', 'works', 'activate', 'pele', 'troops', 'estatement', 'recently', 'requesting', 'tsk', 'parts', 'felt', 'Bahtnbsp', 'Error', 'fourth', 'Toyota', 'saving', 'pick', 'Autobot', 'promotional', 'Thought', 'Mind', 'certificate', 'King', 'terminal', 'goes', 'trend', 'stored', 'KeSaving', 'entire', 'toxic', 'Preliminary', 'wife', 'closer', 'ending', 'plug', 'transferors', 'passregistration', 'lonely', 'package', 'wire', 'plastic', 'secret', 'defaults', 'tomorrow', 'conceived', 'Alienz', 'IRS', 'draft', 'adjusts', 'release', 'loanor', 'Adisak', 'Elephant', 'cimb', 'intended', 'login', 'Now', 'send', 'marketers', 'electricity', 'continuous', 'Or', 'maintain', 'Suitable', 'reducing', 'Because', 'Dreamsaving', 'Aww', 'twoweek', 'costeffective', 'suitable', 'key', 'trick', 'checklist', 'Gee', 'Buayan', 'tow', 'Didnt', 'jammed', 'ave', 'fan', 'dispute', 'Tuatm', 'Baht', 'Whether', 'usually', 'talk', 'embassy', 'adults', 'scheduled', 'Walk', 'extending', 'Songkain', 'stay', 'LINE', 'Amp', 'clips', 'diamonds', 'guaranteed', 'unlocked', 'brogue', 'batteries', 'nearest', 'Jack', 'Share', 'lazy', 'cheering', 'fly', 'lend', 'Messenger', 'avs', 'Samsung', 'Instead', 'pays', 'OD', 'Crawl', 'smart', 'platinumlevel', 'voila', 'loading', 'glad', 'protected', 'results', 'Si', 'useless', 'comedy', 'Signed', 'pledging', 'prepare', 'outdated', 'manager', 'afternoon', 'percentage', 'morss', 'Thoroughly', 'Login', 'signup', 'Basically', 'reminder', 'studying', 'Treasury', 'Seng', 'depositdeposit', 'Honda', 'area', 'unpunished', 'conscious', 'STATEMENT', 'lifetime', 'waterfilled', 'Lott', 'Hong', 'something', 'upset', 'totals', 'default', 'Morgaged', 'reviewers', 'needed', 'entering', 'scbtailand', 'Huh', 'moms', 'stadium', 'treatment', 'Jasmio', 'valued', 'borrowing', 'Fei', 'Wang', 'must', 'notice', 'July', 'moneykplus', 'GWallet', 'tasting', 'bumper', 'Tucchats', 'Tess', 'pushing', 'menus', 'local', 'occurs', 'abbreviated', 'database', 'probably', 'Tmb', 'agencies', 'gotta', 'ChoicenbspKTC', 'delivery', 'Did', 'overhead', 'three', 'eating', 'holidays', 'inconsistent', 'places', 'mad', 'seats', 'embezzlement', 'Destination', 'PEC', 'dots', 'bbl', 'news', 'finds', 'Bag', 'pttgc', 'rating', 'choosing', 'murder', 'safer', 'warm', 'deed', 'Backup', 'Talk', 'log', 'nok', 'Advertising', 'rep', 'Refinance', 'zipper', 'High', 'know', 'waits', 'wasted', 'PepoHimma', 'Kitisak', 'currency', 'retirement', 'margins', 'rema', 'full', 'Nbspnbsp', 'statements', 'runs', 'Ava', 'LH', 'fast', 'bills', 'court', 'billed', 'pros', 'approvals', 'reentered', 'forcing', 'tour', 'band', 'citys', 'updating', 'concept', 'matters', 'www', 'thousands', 'Dolphin', 'tied', 'takes', 'yellow', 'far', 'Tsk', 'seen', 'helps', 'chosen', 'luggage', 'emails', 'deposit', 'Xpress', 'moments', 'neighborhood', 'lucky', 'expo', 'feels', 'pigs', 'coins', 'randomly', 'postponed', 'port', 'coverage', 'parties', 'turned', 'approval', 'dizzy', 'Looks', 'royal', 'Commissioner', 'catches', 'fivebaht', 'invitation', 'ais', 'movies', 'walker', 'rejecting', 'electronic', 'Three', 'BBLsubstantial', 'appsEasku', 'work', 'Go', 'web', 'theplanetIve', 'conditions', 'specifically', 'expires', 'extras', 'Swish', 'marriage', 'dead', 'AIAs', 'reviewsIm', 'applying', 'restarting', 'Bualuang', 'Colonel', 'international', 'tesco', 'trees', 'Doraemon', 'Staff', 'Waves', 'accounting', 'bblam', 'freeze', 'intention', 'wonder', 'bikes', 'brave', 'opened', 'ratings', 'higher', 'Verified', 'phonenbspnbsp', 'highest', 'general', 'mm', 'straightC', 'toampnbspampnbspUpdate', 'Confirming', 'Run', 'Mel', 'handling', 'Unyong', 'GMarket', 'Sri', 'amazing', 'Locked', 'phonenet', 'similar', 'hits', 'BE', 'Sin', 'prefers', 'Senlad', 'purpose', 'rules', 'cord', 'confident', 'troubles', 'Unlike', 'intending', 'barbucks', 'Securities', 'messiness', 'process', 'along', 'company', 'quit', 'burdens', 'giving', 'days', 'sold', 'automatically', 'dispenser', 'Af', 'explanation', 'shown', 'someones', 'timeMy', 'graduated', 'State', 'refinance', 'pending', 'Taiampnbspnbspnot', 'reenter', 'agriculture', 'xpress', 'ampquot', 'Any', 'acquaintances', 'difference', 'Today', 'unscrewed', 'bend', 'av', 'Accumulating', 'tmrw', 'Speedy', 'approved', 'sincerity', 'Repository', 'everything', 'pro', 'Yuckyy', 'Macrow', 'checkout', 'At', 'solve', 'Gru', 'ishallu', 'expenditure', 'reschedule', 'incorrect', 'options', 'krypto', 'Close', 'means', 'dayThis', 'System', 'go', 'Youve', 'ThaiNet', 'Shopee', 'Wednesday', 'Tipyas', 'banner', 'debtors', 'Citigold', 'household', 'added', 'countryside', 'Watching', 'Calculate', 'exception', 'SAVINGS', 'entered', 'asset', 'summed', 'stateowned', 'checks', 'bugs', 'Tep', 'Sluggage', 'according', 'Cant', 'Ivra', 'admiring', 'divrari', 'Verify', 'amends', 'annoying', 'fresh', 'auntie', 'foreign', 'particular', 'joke', 'CP', 'marketing', 'overdo', 'Nakhon', 'Loans', 'Im', 'center', 'AIA', 'Diamond', 'turn', 'bonuses', 'people', 'Poong', 'took', 'assessments', 'Nonstop', 'deny', 'proceed', 'clients', 'canceling', 'reimbursement', 'even', 'bankthe', 'wish', 'accidents', 'itIve', 'nation', 'ltltlt', 'PEA', 'pops', 'midsecret', 'shorter', 'abalonement', 'post', 'stressed', 'Nush', 'stuff', 'refunded', 'hero', 'oclock', 'credits', 'English', 'fathers', 'cards', 'dealer', 'fuzzy', 'questioning', 'Namtip', 'clinic', 'tone', 'responses', 'tripled', 'Amazon', 'purchase', 'Channel', 'approves', 'accountants', 'bedding', 'spends', 'papal', 'xx', 'Search', 'owners', 'Ratsaenmueang', 'allowed', 'alternative', 'host', 'hiring', 'pictures', 'misunderstood', 'heart', 'Innie', 'Point', 'confirms', 'come', 'theyd', 'Officials', 'nbspnbspnbsp', 'PeDPiPU', 'Confirmation', 'Checked', 'bothers', 'Truewallet', 'fine', 'fastest', 'payroll', 'motherfucker', 'FREECIMB', 'lift', 'answers', 'Also', 'Complete', 'timeapps', 'Street', 'Banker', 'peaks', 'Immediate', 'Crisis', 'small', 'warned', 'Choi', 'Waste', 'evaluation', 'TIRIGA', 'Dropshipping', 'chips', 'bag', 'systemI', 'persons', 'Contactless', 'falls', 'saved', 'reentry', 'offshore', 'welfare', 'Damn', 'starter', 'bitIm', 'HR', 'served', 'installment', 'passes', 'prime', 'guide', 'Manager', 'Insti', 'wad', 'Edog', 'automation', 'crosscountry', 'moyaya', 'died', 'Reboot', 'thread', 'peoples', 'approvalBut', 'Fix', 'highflowered', 'scans', 'Convenient', 'Zenem', 'mflow', 'salvaged', 'least', 'robinhood', 'yesterdays', 'drawing', 'collapsed', 'waived', 'identity', 'cineplex', 'plant', 'Klem', 'mutual', 'speaking', 'Steaming', 'min', 'swipes', 'ID', 'carranty', 'Grab', 'Ravel', 'confusedI', 'rental', 'flights', 'Ubon', 'theyve', 'hide', 'raising', 'TwittercomxxBXtFRFW', 'apple', 'sites', 'Market', 'Lt', 'Ladys', 'SCBAM', 'posting', 'owns', 'address', 'orange', 'Kaen', 'SEC', 'topic', 'banker', 'They', 'teach', 'Months', 'Xin', 'Chonburi', 'Spend', 'Rijing', 'eventually', 'Unionpay', 'luxe', 'otp', 'refilling', 'December', 'noncard', 'manners', 'high', 'counters', 'assistant', 'rejection', 'correlate', 'Hard', 'editors', 'Rejected', 'unresolved', 'wheels', 'CENTER', 'closing', 'Oppo', 'hacks', 'Store', 'Travel', 'Finest', 'received', 'another', 'modify', 'asks', 'department', 'hassle', 'unsuccessful', 'accident', 'Week', 'Imperial', 'atm', 'Although', 'nights', 'students', 'sector', 'ids', 'managers', 'smoothly', 'petition', 'psychiatrist', 'sure', 'appear', 'cashback', 'html', 'JASIF', 'Future', 'withdrawing', 'phoenix', 'Klocenter', 'loose', 'farming', 'Wdf', 'NZD', 'Remedy', 'confiscation', 'WiFi', 'Finish', 'Ae', 'Finally', 'finished', 'upload', 'Touch', 'messageIt', 'corrected', 'reset', 'tablet', 'assets', 'oldfashioned', 'accepted', 'light', 'itua', 'trust', 'Waiting', 'French', 'loaners', 'normal', 'ass', 'window', 'human', 'Arts', 'bill', 'sorted', 'twitter', 'spend', 'kabang', 'doubted', 'isnt', 'super', 'deductive', 'journey', 'noticed', 'standing', 'lends', 'sympathized', 'Generali', 'Project', 'accountant', 'estate', 'yearlyIf', 'Prawich', 'provides', 'Nate', 'beautiful', 'alert', 'loaded', 'disconnect', 'subsidy', 'scbx', 'Notify', 'air', 'exempted', 'But', 'twice', 'accounts', 'Book', 'com', 'There', 'sympathetic', 'Zhaprad', 'parking', 'serious', 'reapply', 'yaoutrip', 'attendant', 'mention', 'payable', 'highend', 'pic', 'satisfaction', 'Open', 'Faster', 'onwards', 'maps', 'fucked', 'Torrong', 'noonzaramjamksp', 'cryptograph', 'regional', 'analyze', 'officebank', 'AM', 'Claucenter', 'constraints', 'He', 'JCB', 'carries', 'secondsnbspnbsp', 'behavior', 'advised', 'requestsAnd', 'Live', 'requested', 'balancing', 'Remove', 'plate', 'planet', 'heal', 'Admins', 'collecting', 'thing', 'addin', 'prepaid', 'USD', 'KrungthaiAXA', 'across', 'Paypal', 'reception', 'cute', 'safety', 'shiv', 'basics', 'Gold', 'Sale', 'Nmax', 'wrote', 'facial', 'Invest', 'secondary', 'step', 'ease', 'stand', 'browser', 'Ann', 'ready', 'Sign', 'pass', 'transferable', 'Bad', 'Wuhan', 'Suck', 'caretaker', 'irritating', 'Come', 'Checking', 'Connect', 'SRIs', 'scanning', 'Gkivtec', 'buyers', 'plain', 'care', 'boarding', 'Sriyutthaya', 'verified', 'rabbbit', 'Gosh', 'Second', 'qa', 'comfortableIm', 'SD', 'incredibly', 'retailexport', 'background', 'quote', 'affiliates', 'freefeeing', 'confirmation', 'Protect', 'filled', 'TE', 'away', 'completes', 'appSCB', 'SIM', 'redme', 'Credit', 'withdraws', 'apps', 'movement', 'transferred', 'East', 'scanner', 'Paul', 'taken', 'hotel', 'Privilege', 'wants', 'earned', 'connected', 'seems', 'Saturdays', 'AC', 'longawaited', 'check', 'tough', 'development', 'Unfortunately', 'connect', 'ion', 'ps', 'bounced', 'expands', 'shark', 'Nepo', 'malls', 'distribution', 'nod', 'Mega', 'yelling', 'queue', 'negative', 'safari', 'misdirected', 'glowing', 'likely', 'ATMs', 'dream', 'comparenbspnbspLH', 'increase', 'supportive', 'faster', 'soon', 'selling', 'Nov', 'Summary', 'dualuang', 'Ugh', 'allocation', 'PVD', 'governments', 'sleeper', 'KRW', 'cousin', 'disconnected', 'types', 'reinstated', 'DM', 'Capital', 'reimburst', 'GP', 'pearl', 'Topup', 'disappeared', 'solution', 'bug', 'Lots', 'speaker', 'suggestions', 'finding', 'overcharge', 'owes', 'registration', 'salesman', 'Assistance', 'rubber', 'Kon', 'wallets', 'serve', 'stuck', 'codes', 'knocking', 'obligations', 'Spedylond', 'Telephone', 'cheapest', 'departmental', 'properly', 'leading', 'Nowadays', 'rise', 'oppo', 'Saturday', 'Maybe', 'unspecified', 'People', 'Suddenly', 'longterm', 'farmers', 'Advisor', 'wheeled', 'courage', 'nice', 'Use', 'quiet', 'End', 'behalf', 'young', 'value', 'mood', 'Currently', 'frankly', 'rate', 'Initially', 'warn', 'inserted', 'TWD', 'Nvr', 'execute', 'servers', 'Czech', 'Todays', 'legs', 'directions', 'anyway', 'useful', 'Moneys', 'Fundclick', 'Our', 'id', 'Signa', 'Savings', 'juz', 'Shop', 'exams', 'whove', 'commissioner', 'Euro', 'backed', 'Tomorrow', 'warrant', 'plumbing', 'unlike', 'overwhelming', 'todays', 'kc', 'EUR', 'strong', 'planned', 'skeptical', 'Macondo', 'bualuang', 'Airport', 'Tmbs', 'anymore', 'Play', 'back', 'oooo', 'speed', 'con', 'washed', 'others', 'estimated', 'Tickets', 'itnbspnbsp', 'entitled', 'Windy', 'RatchaSun', 'surprised', 'endofthetown', 'cocapitalists', 'Guarantee', 'amonnys', 'Klus', 'children', 'symbol', 'bada', 'inbox', 'cat', 'Thoks', 'waive', 'sir', 'hoursI', 'fc', 'screwed', 'infected', 'Green', 'episodes', 'ConsRefill', 'couldnt', 'SCBs', 'MyMo', 'dates', 'golden', 'coming', 'seedy', 'serviced', 'Scbplanet', 'inquiryer', 'Atm', 'improvements', 'sloppy', 'ordinary', 'representative', 'Cancel', 'middle', 'oonbs', 'date', 'Put', 'Father', 'minority', 'VCI', 'eveningnbsp', 'ttb', 'reminds', 'Sheikh', 'offer', 'love', 'Unconditional', 'spell', 'helping', 'miles', 'Cut', 'purchased', 'keeps', 'Wisdoms', 'changing', 'auditors', 'Oruma', 'securities', 'confused', 'overpriced', 'employees', 'Farrook', 'certain', 'EMAIL', 'numerous', 'bound', 'withdrawal', 'Sure', 'moving', 'impressed', 'taxfree', 'Face', 'main', 'sleepy', 'adPaid', 'slips', 'indicated', 'comes', 'Never', 'Tail', 'Nonthaburi', 'Rede', 'find', 'confirm', 'Payment', 'Isnt', 'run', 'emergencies', 'thrown', 'applications', 'brogues', 'respect', 'perform', 'chose', 'government', 'real', 'dun', 'choice', 'hassles', 'Omini', 'hack', 'rely', 'Updating', 'painter', 'TMRW', 'Australia', 'together', 'complicated', 'ringing', 'cried', 'reaches', 'programmer', 'constantly', 'Luxe', 'mooring', 'decline', 'successful', 'outlets', 'reliable', 'notIts', 'scratched', 'satisfied', 'lots', 'onh', 'college', 'Sim', 'arties', 'rates', 'Tour', 'reimbursing', 'cell', 'Definitely', 'spending', 'redeeming', 'delayedtalk', 'sees', 'Excess', 'investment', 'eg', 'Ktc', 'areaRating', 'inconvenience', 'Ministry', 'Mike', 'game', 'growing', 'mask', 'mall', 'havent', 'Going', 'unpaid', 'erased', 'barf', 'paste', 'swinging', 'Kebank', 'camp', 'Every', 'chairs', 'Ep', 'entrance', 'KTCs', 'Actually', 'jitta', 'reachI', 'deducted', 'touched', 'Commercial', 'category', 'rented', 'Try', 'Pa', 'zero', 'emailed', 'gas', 'Valet', 'round', 'Strange', 'thick', 'dragged', 'venture', 'dont', 'Speaking', 'chasing', 'apart', 'focused', 'Lounge', 'connecting', 'excuse', 'Building', 'friday', 'slider', 'Coinsnbspnbsp', 'Oh', 'cupboards', 'potential', 'gsb', 'job', 'burns', 'Canal', 'httpstcomRxNaBngxn', 'Freelance', 'PhD', 'organizer', 'Long', 'postpone', 'former', 'Sris', 'competitive', 'see', 'dumber', 'product', 'class', 'computer', 'Booking', 'redemption', 'birth', 'Howd', 'Macro', 'chinese', 'bother', 'chain', 'UCHOOSE', 'Max', 'Thors', 'informing', 'Exchanging', 'neednbspnbsp', 'ten', 'adobe', 'causing', 'thinks', 'proscons', 'joint', 'task', 'compete', 'Scanning', 'mc', 'quick', 'Shinpan', 'MewtyBear', 'cumbersome', 'convince', 'us', 'venting', 'annoyance', 'Embanking', 'Noninterrupted', 'cyber', 'count', 'eligible', 'juurney', 'NuneNoonieyy', 'recommended', 'bedridden', 'basic', 'strength', 'hours', 'commitment', 'medical', 'SALE', 'names', 'Applying', 'necessary', 'bouncing', 'Can', 'checker', 'suction', 'words', 'Rescue', 'holding', 'Better', 'detac', 'pissed', 'listen', 'Siri', 'major', 'tire', 'Buri', 'grab', 'Details', 'premier', 'sooner', 'structure', 'drivers', 'Bush', 'men', 'dinner', 'guidance', 'health', 'Lone', 'wind', 'easy', 'cancellations', 'fake', 'remaining', 'busmen', 'planning', 'complaints', 'risen', 'Steam', 'introduce', 'stocks', 'pump', 'identical', 'accept', 'habits', 'five', 'Netbank', 'via', 'renovation', 'initial', 'force', 'reread', 'simplicity', 'anyone', 'king', 'slide', 'destinations', 'excited', 'trouble', 'forever', 'Gateway', 'Remote', 'March', 'Health', 'disqualified', 'Contacted', 'clubs', 'httpswww', 'Tbank', 'Chumsiri', 'residents', 'irregularity', 'ha', 'personally', 'disturb', 'EDC', 'Start', 'Hows', 'may', 'uhhuh', 'meantime', 'placed', 'Bummer', 'Jesus', 'Bye', 'replacement', 'shareholders', 'farmer', 'hour', 'officials', 'wedge', 'Write', 'Ow', 'neutral', 'advertised', 'wisdom', 'Identification', 'topup', 'elses', 'Give', 'sbb', 'Rajohin', 'display', 'changed', 'national', 'email', 'uncle', 'kplus', 'subscribed', 'waiting', 'told', 'combined', 'Sitting', 'enrolled', 'PBV', 'issued', 'farm', 'officers', 'Got', 'expecting', 'famous', 'progress', 'Lotus', 'sister', 'application', 'huh', 'DService', 'nonincome', 'brokes', 'outbreaks', 'Auto', 'New', 'hostess', 'cheque', 'trash', 'loop', 'sre', 'ocean', 'ruined', 'Theyre', 'hoping', 'Thaipae', 'bongtao', 'branches', 'yen', 'sleeps', 'generated', 'related', 'Declaration', 'selected', 'sri', 'uh', 'infinite', 'virus', 'amount', 'debts', 'Paye', 'authenticating', 'inform', 'followup', 'KBankLive', 'star', 'exactly', 'Turns', 'Car', 'SR', 'scbs', 'cardscb', 'travel', 'yearly', 'tie', 'effect', 'Connext', 'ppl', 'Changing', 'forgets', 'Trumoove', 'BC', 'ones', 'robber', 'Udon', 'looked', 'version', 'still', 'write', 'Livenbspnbsp', 'cloud', 'Tha', 'casual', 'kjourney', 'brocli', 'several', 'responsibilities', 'Dip', 'Suggested', 'Kid', 'Tech', 'bucketapple', 'flight', 'holder', 'advisable', 'mynxo', 'youll', 'Westgate', 'extended', 'His', 'Gerror', 'match', 'blogs', 'cardsHuh', 'taking', 'impact', 'problem', 'Korean', 'repeat', 'geneyan', 'signature', 'dividends', 'annual', 'Are', 'Plangpleng', 'When', 'Big', 'flower', 'shed', 'Apache', 'Angkid', 'Grey', 'KBANKs', 'appscb', 'move', 'oathth', 'itIll', 'callcenter', 'QR', 'La', 'quot', 'rarely', 'easily', 'BTS', 'scale', 'disputegroupktb', 'redelete', 'supported', 'Aw', 'enter', 'mysterious', 'Amobile', 'tool', 'Fund', 'voluntary', 'retransmitted', 'suited', 'certified', 'strange', 'ThaiNex', 'hidden', 'shitty', 'shrimp', 'stm', 'Quick', 'Pinchuo', 'buying', 'services', 'requirements', 'bankslower', 'Mar', 'appCard', 'replaced', 'posts', 'inverted', 'spite', 'damage', 'Bridge', 'Benefit', 'Bitkub', 'peace', 'Four', 'managerampnbspampnbsp', 'accepts', 'Addmin', 'view', 'field', 'activated', 'BK', 'four', 'Apply', 'butI', 'aia', 'amp', 'Clinic', 'fraud', 'Mail', 'mi', 'puzzlesWhy', 'image', 'stressful', 'rest', 'damned', 'Amezon', 'Agriculture', 'Make', 'ruthless', 'like', 'sbbs', 'oo', 'white', 'paved', 'crashes', 'save', 'Coordinating', 'cardSCB', 'KSI', 'shoot', 'cancelled', 'usdampnbspnbspnbsp', 'Working', 'photos', 'exchanging', 'amounts', 'test', 'untruthful', 'automatic', 'spent', 'lungs', 'sign', 'Alerts', 'tall', 'httpstconpogaGZbCd', 'dreamed', 'items', 'receiving', 'Deek', 'closet', 'grown', 'Goo', 'Cr', 'comaFjApKPmtg', 'Gim', 'safe', 'since', 'ask', 'Tru', 'Trick', 'sirotek', 'reloads', 'algorithm', 'Askscbthailand', 'contacts', 'clicked', 'Cards', 'thawisupcom', 'Changed', 'eats', 'Questions', 'personnel', 'hungary', 'wits', 'fingerprints', 'flexi', 'concerned', 'authorized', 'Calling', 'mnptwt', 'weeps', 'part', 'fund', 'divorced', 'Angry', 'theme', 'KTz', 'tweet', 'Ok', 'Thost', 'rock', 'reservation', 'consulting', 'minds', 'tmbbank', 'httpsmoneykapookcomview', 'World', 'savings', 'Thais', 'sree', 'scbktb', 'Rama', 'market', 'COVID', 'combines', 'SMSEmail', 'turns', 'Investing', 'meal', 'Get', 'Hokkaido', 'months', 'connects', 'stop', 'weekend', 'nuts', 'audio', 'den', 'juristic', 'scratch', 'attm', 'Kyoto', 'directs', 'sucksx', 'loved', 'reporter', 'Repair', 'sides', 'Easynet', 'holds', 'Loan', 'nearly', 'Fighting', 'MAKEUPS', 'previously', 'DTag', 'pardon', 'single', 'minus', 'sucker', 'fully', 'encountered', 'privileges', 'Counter', 'counted', 'curious', 'Anybody', 'ridges', 'creditdebit', 'Cups', 'stolen', 'operation', 'consists', 'responds', 'Sbito', 'retransfer', 'Mon', 'format', 'visas', 'incomplete', 'installed', 'httpswwwcimbthaicomthpersonalproductscardsdebitchipcardsDebitvisaDigitalSaving', 'snoopy', 'Thainext', 'survived', 'duress', 'Theyve', 'cut', 'mybspnbsp', 'cos', 'penny', 'nervous', 'timeout', 'summarize', 'Whoever', 'users', 'posted', 'loses', 'typical', 'superspecial', 'evening', 'links', 'Rangsit', 'settle', 'binding', 'changes', 'Refund', 'Hell', 'leaving', 'reserve', 'spread', 'music', 'taxing', 'Suckless', 'dare', 'timetable', 'principal', 'briven', 'dedication', 'theater', 'credited', 'interests', 'self', 'tourpass', 'score', 'summarized', 'sleeping', 'transfered', 'Havent', 'plus', 'Thoknbspnbsp', 'loads', 'admirable', 'Wall', 'tab', 'banks', 'updated', 'Beach', 'obsolete', 'appThis', 'completely', 'netflix', 'BKampnbspnbsp', 'secondhands', 'parallel', 'trader', 'Tak', 'precious', 'register', 'Amannys', 'itIm', 'PeckPalitchoke', 'Updated', 'haniying', 'Om', 'methods', 'logic', 'LoveReview', 'untied', 'everyones', 'Overlight', 'Institutional', 'jewelry', 'University', 'bosss', 'AUD', 'win', 'noticing', 'Muang', 'Corona', 'badass', 'complete', 'wondering', 'frequent', 'Emquatier', 'Jaymart', 'Silver', 'breakfast', 'uob', 'money', 'Sirilak', 'KMyInvest', 'Naparat', 'claimed', 'Thammarat', 'threatening', 'alerts', 'solo', 'solved', 'fact', 'screen', 'keep', 'TC', 'hesitant', 'processed', 'Division', 'bailout', 'Jcb', 'decades', 'Whats', 'SRI', 'update', 'PTTEP', 'httpstcoVDJArfSmph', 'DIFFERENT', 'digits', 'hands', 'cold', 'insisted', 'credibility', 'tastes', 'remember', 'figured', 'instead', 'Ayun', 'Something', 'backing', 'Affirmation', 'savior', 'aware', 'Cape', 'Won', 'cc', 'midday', 'Chalida', 'elderly', 'medium', 'piles', 'Could', 'curry', 'begging', 'urlOmsin', 'adline', 'youd', 'Improved', 'AA', 'expect', 'expenses', 'sucked', 'Surin', 'hardworking', 'feelings', 'mama', 'Yong', 'Fundflow', 'skip', 'settlement', 'Omsins', 'root', 'peak', 'knowing', 'menu', 'forgot', 'payer', 'hang', 'sword', 'invoice', 'plans', 'shut', 'clear', 'Simply', 'For', 'Price', 'realme', 'doublebook', 'look', 'stalking', 'fowwang', 'Scan', 'jumarn', 'Chanel', 'BUG', 'show', 'ScB', 'shutting', 'status', 'Evan', 'Deputy', 'hot', 'loan', 'tried', 'Airasia', 'outstanding', 'PRICE', 'Of', 'comment', 'Colzts', 'Busy', 'points', 'came', 'cents', 'bored', 'jar', 'CASH', 'missing', 'Closing', 'ewallet', 'errands', 'acccount', 'might', 'contracts', 'pawning', 'night', 'ontop', 'MuMilk', 'weekends', 'Ion', 'dividend', 'claim', 'example', 'envelope', 'goal', 'workers', 'error', 'doubts', 'ang', 'kkp', 'remembered', 'Is', 'papers', 'Interfer', 'factory', 'premium', 'salt', 'hundred', 'reloading', 'SCBampnbspampnbsp', 'Among', 'commerce', 'focusing', 'LHnbspnbsp', 'normally', 'toss', 'Keplus', 'assistance', 'Pey', 'especially', 'SSF', 'emailpass', 'assessment', 'Kbank', 'shocking', 'politics', 'pulls', 'details', 'front', 'Selling', 'Impressive', 'advisors', 'give', 'littlebearntck', 'Wei', 'Aeons', 'scolded', 'NUMber', 'Fleshie', 'gang', 'Candel', 'watching', 'borrow', 'overcharged', 'Pathom', 'Two', 'germs', 'answered', 'hull', 'google', 'AI', 'Bum', 'ballet', 'flying', 'Reset', 'members', 'Ktcs', 'Thnshat', 'feed', 'mermorandum', 'Between', 'claming', 'messed', 'po', 'rent', 'TISCO', 'homeloan', 'believes', 'rang', 'Tanshat', 'receptionist', 'Stand', 'develop', 'LUXE', 'truth', 'decade', 'comments', 'spotify', 'security', 'honest', 'spot', 'secured', 'Refinancing', 'mail', 'filling', 'Net', 'puts', 'recommends', 'Id', 'CIMB', 'rush', 'ways', 'Set', 'Tried', 'success', 'hunch', 'stepped', 'promotion', 'refunds', 'mommy', 'checked', 'Maladkrabang', 'MRTR', 'bring', 'Sch', 'reached', 'Same', 'You', 'double', 'wondered', 'iPhone', 'Thaineck', 'Mars', 'Normally', 'Kbiz', 'Due', 'Thax', 'nagoya', 'banksubstantial', 'installments', 'alarm', 'redundant', 'promptcardMasterCard', 'benefit', 'Officer', 'nothing', 'Kev', 'wearing', 'Transfering', 'EP', 'hanging', 'reputation', 'doctor', 'Seriously', 'Unable', 'Onerek', 'kbizcontactcentermirrorkasikornbankcom', 'earnings', 'nations', 'phase', 'Streaming', 'SCBampnbspnbspAmex', 'support', 'cousins', 'Robinson', 'deducting', 'returning', 'accounted', 'Kbankx', 'neededIve', 'lt', 'understand', 'Borrow', 'opportunity', 'day', 'location', 'little', 'Bangkok', 'agreement', 'Pronet', 'record', 'son', 'acting', 'downside', 'Accounts', 'overdose', 'likes', 'yous', 'SCBnbspnbsp', 'prize', 'teeth', 'horse', 'food', 'sells', 'sterilization', 'Choose', 'feeling', 'conflict', 'wood', 'Pay', 'drop', 'badly', 'Youll', 'following', 'Pump', 'Weply', 'Netflix', 'sending', 'taetewyn', 'goose', 'reported', 'Berutinomati', 'Ibank', 'applied', 'times', 'modernize', 'Mymo', 'multipurpose', 'Scbam', 'enormous', 'policy', 'troublemaker', 'equal', 'appliedIm', 'On', 'aftersales', 'property', 'manages', 'slow', 'estimate', 'counsel', 'instructions', 'eSAVINGS', 'kids', 'designs', 'rotting', 'Turn', 'Expire', 'httpstco', 'Wash', 'debt', 'chromosomes', 'ideas', 'lighten', 'gray', 'âa', 'lines', 'buyandyear', 'Wont', 'reduce', 'risk', 'Foreign', 'transferer', 'Scbeasy', 'rookie', 'adjustments', 'httpstcopDMUFkgREN', 'sad', 'lamer', 'Gum', 'windowsd', 'Thanks', 'chip', 'walked', 'project', 'districts', 'Ais', 'Deposit', 'picture', 'andor', 'crazy', 'April', 'hierarchy', 'yuan', 'airline', 'remains', 'laa', 'Wed', 'All', 'born', 'Tip', 'long', 'itch', 'CreditnbspnbspSin', 'reload', 'Asia', 'confusing', 'study', 'Sell', 'cantnbsp', 'investments', 'equipment', 'retention', 'affect', 'Comico', 'breaks', 'KrungthaiCare', 'without', 'wrongly', 'collects', 'BANK', 'notify', 'texting', 'endtoend', 'slap', 'sick', 'lowincome', 'coownership', 'rotten', 'Fill', 'vineyards', 'arrive', 'cooperative', 'PLUS', 'exclude', 'skbank', 'Once', 'sends', 'sometimes', 'remind', 'Again', 'cash', 'Noquotgtgt', 'Nbsp', 'corporate', 'buys', 'Mall', 'redoing', 'dollars', 'pulling', 'typed', 'fun', 'constant', 'technology', 'wiser', 'Society', 'hasnt', 'unspeakable', 'Citibank', 'PIN', 'idiot', 'Subscribe', 'director', 'Bangkapi', 'branch', 'certification', 'Appreciate', 'Hall', 'Allow', 'refillable', 'Addin', 'confusedly', 'toyubomm', 'technique', 'von', 'girlfriends', 'Bankers', 'investors', 'Laos', 'Sent', 'lotthog', 'guess', 'let', 'Mr', 'setting', 'developed', 'Okay', 'respond', 'pension', 'hundreddollar', 'staying', 'circulation', 'Running', 'trunks', 'Chapter', 'restoration', 'Nations', 'hasslefree', 'airasia', 'Connectics', 'fight', 'wow', 'war', 'BECs', 'cryptographer', 'global', 'Nikecom', 'loosened', 'payrolls', 'roads', 'loosen', 'krw', 'frustrating', 'stacks', 'suggest', 'way', 'calling', 'cant', 'Been', 'highvalue', 'addicted', 'puzzling', 'KSME', 'driving', 'Longer', 'top', 'Food', 'Covid', 'Yats', 'world', 'fruitful', 'Subsidiaries', 'Western', 'print', 'copy', 'questions', 'incident', 'program', 'dm', 'httpstcoIHvWenBHUB', 'history', 'applicant', 'Expired', 'itThe', 'associated', 'affects', 'RMF', 'weply', 'story', 'storage', 'thank', 'alongIve', 'cashed', 'Gigoi', 'billion', 'spoke', 'wealthy', 'careful', 'boring', 'pocket', 'refueling', 'provided', 'advisornbspnbsp', 'Payrolls', 'authenticated', 'Tonight', 'autostatement', 'district', 'position', 'waiver', 'beginning', 'Enter', 'Sicorn', 'Plug', 'stress', 'callslinephase', 'queues', 'summary', 'DB', 'Buuluang', 'Top', 'commission', 'hed', 'STM', 'mortgages', 'Tesco', 'BlC', 'declined', 'happened', 'tops', 'happens', 'Professor', 'phones', 'crap', 'decide', 'meat', 'nationals', 'caller', 'bounces', 'BOI', 'UD', 'IPZPAYCOM', 'suggests', 'insist', 'voices', 'per', 'kcyber', 'battle', 'shitscrew', 'retail', 'silver', 'Contact', 'preservation', 'Cash', 'doctors', 'Phase', 'VPN', 'online', 'happening', 'Having', 'Stable', 'payment', 'crossing', 'uncomfortable', 'One', 'act', 'IT', 'inexpensive', 'outsourcing', 'mile', 'looks', 'labeled', 'Ap', 'inquired', 'funded', 'citbank', 'KtcPrivilege', 'moment', 'age', 'nbspUnionPayTPN', 'Dx', 'link', 'LC', 'baffling', 'standards', 'Understand', 'active', 'kebank', 'pins', 'THB', 'termite', 'meafter', 'say', 'Bitch', 'room', 'clip', 'continued', 'afraid', 'smoothies', 'US', 'tofu', 'picks', 'connext', 'Fleet', 'Hood', 'scratching', 'Nomuras', 'Registration', 'consult', 'maybe', 'result', 'Insurance', 'Banshee', 'stands', 'Online', 'non', 'Thong', 'feestaxes', 'Eaaw', 'living', 'usingampnbspampnbsp', 'Billing', 'Busayarat', 'FCMG', 'CB', 'TonsTweetings', 'fit', 'bankslowly', 'access', 'purple', 'latter', 'saves', 'everyday', 'crammed', 'Each', 'bed', 'passed', 'team', 'Download', 'unused', 'shocked', 'Chinese', 'emergency', 'seriously', 'cap', 'Abalone', 'amplified', 'incoming', 'indicating', 'registers', 'replacements', 'dad', 'Benk', 'platinum', 'lane', 'KTB', 'sellers', 'week', 'subbanks', 'stalling', 'master', 'miss', 'whats', 'scbscbscbscbscbscbscbscbscbsc', 'Barcode', 'cutter', 'man', 'conversations', 'buro', 'alcohol', 'tap', 'Nex', 'Nawang', 'knew', 'pig', 'reply', 'boxes', 'control', 'Jakarin', 'diligent', 'collect', 'edition', 'automated', 'allI', 'categories', 'quietly', 'Cp', 'hungry', 'finallyEasy', 'wrong', 'social', 'swiped', 'Central', 'screens', 'thugs', 'traded', 'minichanchii', 'Thats', 'TK', 'hold', 'stream', 'reasons', 'require', 'covital', 'KUSAAD', 'beyond', 'Nates', 'Korea', 'Netherlands', 'bit', 'funny', 'criminals', 'II', 'transferring', 'She', 'AMEX', 'EU', 'mistake', 'house', 'responded', 'Fear', 'Starting', 'estimates', 'Transferred', 'sirampnbspnbsp', 'cable', 'PTTGC', 'ATS', 'data', 'walletnbspnbsp', 'face', 'blaming', 'Welcome', 'Sodax', 'ThailandThailand', 'puzzled', 'agreed', 'overdue', 'buttons', 'tonight', 'Plan', 'Outpost', 'recovering', 'funeral', 'popular', 'owner', 'manage', 'busyI', 'OTP', 'Bangkokkaya', 'Leasing', 'offline', 'Client', 'looking', 'Other', 'disturbed', 'callnbspnbsp', 'Paki', 'starts', 'traveled', 'condos', 'bahtnbspnbspfor', 'EOMS', 'cbcream', 'Rum', 'tax', 'lash', 'swear', 'detected', 'carefully', 'closed', 'cashier', 'reductions', 'SIN', 'subpoena', 'Negotiate', 'mlive', 'monk', 'tricked', 'tower', 'conjunction', 'Callnbspnbspcenter', 'Tanachart', 'Statement', 'slots', 'SCBplanet', 'catch', 'ability', 'exchange', 'Headquarters', 'file', 'providing', 'devices', 'popnidcha', 'Page', 'exceeds', 'regular', 'younbspnbsp', 'Wallet', 'temporarily', 'By', 'HttpstcoYCjslQvbHO', 'cheap', 'Orange', 'original', 'signal', 'hardest', 'started', 'summation', 'Takdam', 'eapp', 'kbanks', 'KPLUS', 'preorder', 'Skull', 'anyways', 'scbplanet', 'employee', 'amendment', 'upgrade', 'SheStrong', 'America', 'terrible', 'succumb', 'frozen', 'note', 'wear', 'assessed', 'thanking', 'Great', 'affecting', 'withdrawn', 'Think', 'Charter', 'Woody', 'considering', 'ME', 'Military', 'Google', 'Seaboard', 'towards', 'redo', 'owned', 'future', 'ranking', 'Reading', 'previous', 'perfect', 'daughter', 'airAsia', 'bought', 'advantage', 'sense', 'releases', 'returned'}\n"
          ]
        }
      ]
    },
    {
      "cell_type": "code",
      "source": [
        "#Encode each document as a sequence of integers\n",
        "tokenizer = Tokenizer()\n",
        "tokenizer.fit_on_texts(train_docs)\n",
        "encoded_docs = tokenizer.texts_to_sequences(train_docs)"
      ],
      "metadata": {
        "id": "N5FTbC2XC1DL"
      },
      "execution_count": 37,
      "outputs": []
    },
    {
      "cell_type": "code",
      "source": [
        "#as each sentences contain different length of words, we need padding to make the sequences the same length before\n",
        "#putting into the embedding layer\n",
        "max_length = max([len(s.split()) for s in train_docs])\n",
        "Xtrain = pad_sequences(encoded_docs, maxlen=max_length, padding='post')\n",
        "ytrain = np.array(train['Human_CategoryID'].tolist())"
      ],
      "metadata": {
        "id": "3YeDCItHEHYY"
      },
      "execution_count": 38,
      "outputs": []
    },
    {
      "cell_type": "code",
      "source": [
        "#do the same as train above for test\n",
        "encoded_docs = tokenizer.texts_to_sequences(test_docs)\n",
        "Xtest = pad_sequences(encoded_docs, maxlen=max_length, padding='post')\n",
        "ytest = np.array(test['Human_CategoryID'].tolist())"
      ],
      "metadata": {
        "id": "AJnuTHopELNp"
      },
      "execution_count": 39,
      "outputs": []
    },
    {
      "cell_type": "code",
      "source": [
        "#defind vocabulary size\n",
        "vocab_size = len(tokenizer.word_index) + 1"
      ],
      "metadata": {
        "id": "fCrq8FIoEk2o"
      },
      "execution_count": 40,
      "outputs": []
    },
    {
      "cell_type": "code",
      "source": [
        "#Count unique classes\n",
        "print(train['Human_CategoryID'].nunique(), test['Human_CategoryID'].nunique())"
      ],
      "metadata": {
        "colab": {
          "base_uri": "https://localhost:8080/"
        },
        "id": "7XZgjKsuEk9C",
        "outputId": "27421f88-2ae5-41ac-c9ad-3d8d61e4a088"
      },
      "execution_count": 41,
      "outputs": [
        {
          "output_type": "stream",
          "name": "stdout",
          "text": [
            "13 13\n"
          ]
        }
      ]
    },
    {
      "cell_type": "code",
      "source": [
        "#Count unique classes\n",
        "num_classes = max(train['Human_CategoryID'].nunique(), test['Human_CategoryID'].nunique())\n",
        "print(num_classes)"
      ],
      "metadata": {
        "colab": {
          "base_uri": "https://localhost:8080/"
        },
        "id": "km56RgrQE0nR",
        "outputId": "0ac06693-69fa-4eff-f879-7985827ed93d"
      },
      "execution_count": 42,
      "outputs": [
        {
          "output_type": "stream",
          "name": "stdout",
          "text": [
            "13\n"
          ]
        }
      ]
    },
    {
      "cell_type": "code",
      "source": [
        "from tensorflow.keras.utils import to_categorical\n",
        "\n",
        "#Multi class problems need one-hot encoding on y\n",
        "#why - 1 on ytrain and ytest? can follow the linke below\n",
        "#https://stackoverflow.com/questions/56204731/the-method-np-utils-to-categorical-give-me-an-error/59002957#59002957\n",
        "ytrain =  to_categorical(ytrain-1, num_classes=num_classes)\n",
        "ytest = to_categorical(ytest-1, num_classes=num_classes)"
      ],
      "metadata": {
        "id": "5AkwsOvEE0uS"
      },
      "execution_count": 43,
      "outputs": []
    },
    {
      "cell_type": "code",
      "source": [
        "vocab_size = len(tokenizer.word_index)+1"
      ],
      "metadata": {
        "id": "kxUHJzkyE2Cw"
      },
      "execution_count": 44,
      "outputs": []
    },
    {
      "cell_type": "markdown",
      "source": [
        "#Model"
      ],
      "metadata": {
        "id": "2Wcr5KxLE8W3"
      }
    },
    {
      "cell_type": "markdown",
      "source": [
        "##CNN LSTM GMP1D D13: 62"
      ],
      "metadata": {
        "id": "hVA-lL4TGJLB"
      }
    },
    {
      "cell_type": "code",
      "source": [
        "import tensorflow as tf\n",
        "from keras.models import Sequential\n",
        "from keras.layers.convolutional import Conv1D, MaxPooling1D\n",
        "from keras.layers.pooling import GlobalMaxPooling1D, AveragePooling1D, GlobalAveragePooling1D\n",
        "from keras.layers import Dense, Flatten, Embedding, BatchNormalization, Dropout, LSTM, Bidirectional, TimeDistributed"
      ],
      "metadata": {
        "id": "br4WQmIrG1S3"
      },
      "execution_count": 52,
      "outputs": []
    },
    {
      "cell_type": "code",
      "source": [
        "#Define our model\n",
        "model = Sequential()\n",
        "\n",
        "model.add(Embedding(vocab_size, 100, input_length=max_length, trainable=True))\n",
        "model.add(Conv1D(filters=32, kernel_size=3, activation='relu'))\n",
        "model.add(LSTM(50, return_sequences=True))\n",
        "\n",
        "model.add(GlobalMaxPooling1D())\n",
        "model.add(Flatten())\n",
        "\n",
        "model.add(Dense(num_classes, activation='softmax'))\n",
        "print(model.summary())"
      ],
      "metadata": {
        "colab": {
          "base_uri": "https://localhost:8080/"
        },
        "id": "qBvFAsX4GNXL",
        "outputId": "1945edc8-8a56-43d5-e6a7-0f514b2361dd"
      },
      "execution_count": 53,
      "outputs": [
        {
          "output_type": "stream",
          "name": "stdout",
          "text": [
            "Model: \"sequential_1\"\n",
            "_________________________________________________________________\n",
            " Layer (type)                Output Shape              Param #   \n",
            "=================================================================\n",
            " embedding_1 (Embedding)     (None, 190, 100)          1153600   \n",
            "                                                                 \n",
            " conv1d_1 (Conv1D)           (None, 188, 32)           9632      \n",
            "                                                                 \n",
            " lstm (LSTM)                 (None, 188, 50)           16600     \n",
            "                                                                 \n",
            " global_max_pooling1d_1 (Glo  (None, 50)               0         \n",
            " balMaxPooling1D)                                                \n",
            "                                                                 \n",
            " flatten (Flatten)           (None, 50)                0         \n",
            "                                                                 \n",
            " dense_1 (Dense)             (None, 13)                663       \n",
            "                                                                 \n",
            "=================================================================\n",
            "Total params: 1,180,495\n",
            "Trainable params: 1,180,495\n",
            "Non-trainable params: 0\n",
            "_________________________________________________________________\n",
            "None\n"
          ]
        }
      ]
    },
    {
      "cell_type": "code",
      "source": [
        "from tensorflow.keras.callbacks import EarlyStopping\n",
        "\n",
        "#put early stopping\n",
        "early_stopping = EarlyStopping(monitor='val_loss', patience=1, mode='min')\n",
        "\n",
        "#Your choices of activation='softmax' in the last layer and compile choice of loss='categorical_crossentropy' \n",
        "#are good for a model to predict multiple mutually-exclusive classes.\n",
        "\n",
        "model.compile(loss='categorical_crossentropy',\n",
        "              optimizer='adam', \n",
        "              metrics=['acc'],)"
      ],
      "metadata": {
        "id": "6h7dkVHjG7CD"
      },
      "execution_count": 54,
      "outputs": []
    },
    {
      "cell_type": "code",
      "source": [
        "#Try classweight from this https://datascience.stackexchange.com/questions/13490/how-to-set-class-weights-for-imbalanced-classes-in-keras\n",
        "\n",
        "history = model.fit(Xtrain, ytrain, \n",
        "                    epochs=10, batch_size=32, \n",
        "                    validation_split=0.2,\n",
        "                    callbacks=[early_stopping])"
      ],
      "metadata": {
        "colab": {
          "base_uri": "https://localhost:8080/"
        },
        "id": "ONM10HAYG9Ho",
        "outputId": "c5ed7c78-0d9b-41ce-fc06-12f9f6270dd4"
      },
      "execution_count": 55,
      "outputs": [
        {
          "output_type": "stream",
          "name": "stdout",
          "text": [
            "Epoch 1/10\n",
            "304/304 [==============================] - 8s 14ms/step - loss: 1.9772 - acc: 0.3299 - val_loss: 1.8009 - val_acc: 0.4210\n",
            "Epoch 2/10\n",
            "304/304 [==============================] - 3s 10ms/step - loss: 1.6991 - acc: 0.4467 - val_loss: 1.6414 - val_acc: 0.4708\n",
            "Epoch 3/10\n",
            "304/304 [==============================] - 3s 10ms/step - loss: 1.4770 - acc: 0.5288 - val_loss: 1.5878 - val_acc: 0.4889\n",
            "Epoch 4/10\n",
            "304/304 [==============================] - 3s 10ms/step - loss: 1.2674 - acc: 0.6035 - val_loss: 1.6035 - val_acc: 0.4984\n"
          ]
        }
      ]
    },
    {
      "cell_type": "code",
      "source": [
        "loss, acc = model.evaluate(Xtest, ytest)\n",
        "print('Test Accuracy: %f' % (acc*100))"
      ],
      "metadata": {
        "colab": {
          "base_uri": "https://localhost:8080/"
        },
        "id": "C_4BpU86HCl5",
        "outputId": "36017f68-27c0-4af5-91b6-778206866a9e"
      },
      "execution_count": 56,
      "outputs": [
        {
          "output_type": "stream",
          "name": "stdout",
          "text": [
            "380/380 [==============================] - 2s 5ms/step - loss: 1.2150 - acc: 0.6286\n",
            "Test Accuracy: 62.855965\n"
          ]
        }
      ]
    },
    {
      "cell_type": "code",
      "source": [
        "history_frame = pd.DataFrame(history.history)\n",
        "history_frame.loc[:, ['loss', 'val_loss']].plot()"
      ],
      "metadata": {
        "colab": {
          "base_uri": "https://localhost:8080/",
          "height": 283
        },
        "id": "frfxlm4bG_H1",
        "outputId": "d1595b7a-5bae-468f-bdff-fd46e0816519"
      },
      "execution_count": 57,
      "outputs": [
        {
          "output_type": "execute_result",
          "data": {
            "text/plain": [
              "<matplotlib.axes._subplots.AxesSubplot at 0x7fa9ce503650>"
            ]
          },
          "metadata": {},
          "execution_count": 57
        },
        {
          "output_type": "display_data",
          "data": {
            "text/plain": [
              "<Figure size 432x288 with 1 Axes>"
            ],
            "image/png": "[encoded data removed]"
          },
          "metadata": {
            "needs_background": "light"
          }
        }
      ]
    },
    {
      "cell_type": "code",
      "source": [
        "history_frame.loc[:, ['acc', 'val_acc']].plot()"
      ],
      "metadata": {
        "colab": {
          "base_uri": "https://localhost:8080/",
          "height": 282
        },
        "id": "BAjnmQlaHAM3",
        "outputId": "0e4fc7e0-2306-43ac-ad62-e83e11c67a86"
      },
      "execution_count": 58,
      "outputs": [
        {
          "output_type": "execute_result",
          "data": {
            "text/plain": [
              "<matplotlib.axes._subplots.AxesSubplot at 0x7fa9de7b6f90>"
            ]
          },
          "metadata": {},
          "execution_count": 58
        },
        {
          "output_type": "display_data",
          "data": {
            "text/plain": [
              "<Figure size 432x288 with 1 Axes>"
            ],
            "image/png": "[encoded data removed]"
          },
          "metadata": {
            "needs_background": "light"
          }
        }
      ]
    },
    {
      "cell_type": "code",
      "source": [
        ""
      ],
      "metadata": {
        "id": "zg8XeyeMHDlx"
      },
      "execution_count": null,
      "outputs": []
    },
    {
      "cell_type": "markdown",
      "source": [
        "## CNN1 GMP1D D13: 78\n"
      ],
      "metadata": {
        "id": "BX_XQj67E_b6"
      }
    },
    {
      "cell_type": "code",
      "source": [
        "from keras.layers import Dense, Flatten, Embedding, BatchNormalization, Dropout, LSTM, Bidirectional, TimeDistributed\n",
        "from keras.models import Sequential\n",
        "from keras.layers.convolutional import Conv1D, MaxPooling1D\n",
        "from keras.layers.pooling import GlobalMaxPooling1D, AveragePooling1D, GlobalAveragePooling1D\n",
        "import tensorflow as tf"
      ],
      "metadata": {
        "id": "CR-HCnzPFDoe"
      },
      "execution_count": 45,
      "outputs": []
    },
    {
      "cell_type": "code",
      "source": [
        "from keras.layers.pooling import GlobalMaxPooling1D\n",
        "#Define our model\n",
        "model = Sequential()\n",
        "\n",
        "model.add(Embedding(vocab_size, 1000, input_length=max_length, trainable=True))\n",
        "model.add(Conv1D(128, 5 , activation='relu'))\n",
        "#Among filters=[64,128,256], 128 is the best. \n",
        "#activation selu, tanh, relu, elu got similar results\n",
        "model.add(GlobalMaxPooling1D()) #Among pooliing, GMP1D is the best.\n",
        "\n",
        "model.add(Dense(num_classes, activation='softmax')) #1 Dense better than 2 Denses\n",
        "print(model.summary())"
      ],
      "metadata": {
        "colab": {
          "base_uri": "https://localhost:8080/"
        },
        "id": "nddmIhdNFICP",
        "outputId": "833207a0-6c84-4508-b577-e02d1a33770d"
      },
      "execution_count": 46,
      "outputs": [
        {
          "output_type": "stream",
          "name": "stdout",
          "text": [
            "Model: \"sequential\"\n",
            "_________________________________________________________________\n",
            " Layer (type)                Output Shape              Param #   \n",
            "=================================================================\n",
            " embedding (Embedding)       (None, 190, 1000)         11536000  \n",
            "                                                                 \n",
            " conv1d (Conv1D)             (None, 186, 128)          640128    \n",
            "                                                                 \n",
            " global_max_pooling1d (Globa  (None, 128)              0         \n",
            " lMaxPooling1D)                                                  \n",
            "                                                                 \n",
            " dense (Dense)               (None, 13)                1677      \n",
            "                                                                 \n",
            "=================================================================\n",
            "Total params: 12,177,805\n",
            "Trainable params: 12,177,805\n",
            "Non-trainable params: 0\n",
            "_________________________________________________________________\n",
            "None\n"
          ]
        }
      ]
    },
    {
      "cell_type": "code",
      "source": [
        "from tensorflow.keras.callbacks import EarlyStopping\n",
        "\n",
        "#put early stopping\n",
        "early_stopping = EarlyStopping(monitor='val_loss', patience=1, mode='min')\n",
        "\n",
        "#Your choices of activation='softmax' in the last layer and compile choice of loss='categorical_crossentropy' \n",
        "#are good for a model to predict multiple mutually-exclusive classes.\n",
        "\n",
        "model.compile(loss='categorical_crossentropy',\n",
        "              optimizer='adam', \n",
        "              metrics=['acc'],)"
      ],
      "metadata": {
        "id": "Q9yeE8-iFJcL"
      },
      "execution_count": 47,
      "outputs": []
    },
    {
      "cell_type": "code",
      "source": [
        "#Try classweight from this https://datascience.stackexchange.com/questions/13490/how-to-set-class-weights-for-imbalanced-classes-in-keras\n",
        "#Get the similar results\n",
        "\n",
        "history = model.fit(Xtrain, ytrain, \n",
        "                    epochs=10, batch_size=32, #32, 128 > 8 (worse), 16, 64, 256\n",
        "                    validation_split=0.2,\n",
        "                    callbacks=[early_stopping])"
      ],
      "metadata": {
        "colab": {
          "base_uri": "https://localhost:8080/"
        },
        "id": "7pCGbab1FMKr",
        "outputId": "fda724c8-3861-4173-ba6a-954d31c2c451"
      },
      "execution_count": 48,
      "outputs": [
        {
          "output_type": "stream",
          "name": "stdout",
          "text": [
            "Epoch 1/10\n",
            "304/304 [==============================] - 17s 17ms/step - loss: 1.7200 - acc: 0.4345 - val_loss: 1.4994 - val_acc: 0.5148\n",
            "Epoch 2/10\n",
            "304/304 [==============================] - 5s 15ms/step - loss: 1.2213 - acc: 0.5989 - val_loss: 1.4454 - val_acc: 0.5346\n",
            "Epoch 3/10\n",
            "304/304 [==============================] - 5s 15ms/step - loss: 0.8309 - acc: 0.7374 - val_loss: 1.5230 - val_acc: 0.5066\n"
          ]
        }
      ]
    },
    {
      "cell_type": "code",
      "source": [
        "loss, acc = model.evaluate(Xtest, ytest)\n",
        "print('Test Accuracy: %f' % (acc*100))"
      ],
      "metadata": {
        "colab": {
          "base_uri": "https://localhost:8080/"
        },
        "id": "fhmvQ1gcFNxb",
        "outputId": "fc3703aa-2920-4e6d-c5df-4f66b158e255"
      },
      "execution_count": 49,
      "outputs": [
        {
          "output_type": "stream",
          "name": "stdout",
          "text": [
            "380/380 [==============================] - 1s 4ms/step - loss: 0.7056 - acc: 0.7804\n",
            "Test Accuracy: 78.041154\n"
          ]
        }
      ]
    },
    {
      "cell_type": "code",
      "source": [
        "history_frame = pd.DataFrame(history.history)\n",
        "history_frame.loc[:, ['loss', 'val_loss']].plot()"
      ],
      "metadata": {
        "colab": {
          "base_uri": "https://localhost:8080/",
          "height": 282
        },
        "id": "hl6XE30MFQpK",
        "outputId": "b9b51069-7f25-4d68-9206-f8aed807618b"
      },
      "execution_count": 50,
      "outputs": [
        {
          "output_type": "execute_result",
          "data": {
            "text/plain": [
              "<matplotlib.axes._subplots.AxesSubplot at 0x7faa615d8d10>"
            ]
          },
          "metadata": {},
          "execution_count": 50
        },
        {
          "output_type": "display_data",
          "data": {
            "text/plain": [
              "<Figure size 432x288 with 1 Axes>"
            ],
            "image/png": "[encoded data removed]"
          },
          "metadata": {
            "needs_background": "light"
          }
        }
      ]
    },
    {
      "cell_type": "code",
      "source": [
        "history_frame.loc[:, ['acc', 'val_acc']].plot()"
      ],
      "metadata": {
        "colab": {
          "base_uri": "https://localhost:8080/",
          "height": 285
        },
        "id": "lkhNX8asFRwi",
        "outputId": "2181d047-7b7a-4ee6-b1e6-3e6c90c8b6a8"
      },
      "execution_count": 51,
      "outputs": [
        {
          "output_type": "execute_result",
          "data": {
            "text/plain": [
              "<matplotlib.axes._subplots.AxesSubplot at 0x7fa9e451c810>"
            ]
          },
          "metadata": {},
          "execution_count": 51
        },
        {
          "output_type": "display_data",
          "data": {
            "text/plain": [
              "<Figure size 432x288 with 1 Axes>"
            ],
            "image/png": "[encoded data removed]"
          },
          "metadata": {
            "needs_background": "light"
          }
        }
      ]
    }
  ]
}