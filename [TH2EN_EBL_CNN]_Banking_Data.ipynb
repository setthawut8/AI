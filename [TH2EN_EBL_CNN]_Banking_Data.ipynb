{
  "nbformat": 4,
  "nbformat_minor": 0,
  "metadata": {
    "colab": {
      "name": "[TH2EN  EBL CNN] Banking Data.ipynb",
      "provenance": [],
      "machine_shape": "hm",
      "collapsed_sections": [],
      "toc_visible": true,
      "authorship_tag": "ABX9TyO60S0mAjWkFzzjqTXTej7L",
      "include_colab_link": true
    },
    "kernelspec": {
      "name": "python3",
      "display_name": "Python 3"
    },
    "language_info": {
      "name": "python"
    },
    "accelerator": "GPU",
    "gpuClass": "standard"
  },
  "cells": [
    {
      "cell_type": "markdown",
      "metadata": {
        "id": "view-in-github",
        "colab_type": "text"
      },
      "source": [
        "<a href=\"https://colab.research.google.com/github/setthawut8/ai/blob/main/%5BTH2EN_EBL_CNN%5D_Banking_Data.ipynb\" target=\"_parent\"><img src=\"https://colab.research.google.com/assets/colab-badge.svg\" alt=\"Open In Colab\"/></a>"
      ]
    },
    {
      "cell_type": "markdown",
      "source": [
        "#Download Data and Library Installation"
      ],
      "metadata": {
        "id": "DKZejA_uh9kv"
      }
    },
    {
      "cell_type": "code",
      "execution_count": 1,
      "metadata": {
        "id": "rY0gVkg8ahbS",
        "colab": {
          "base_uri": "https://localhost:8080/"
        },
        "outputId": "6ae00bdb-8322-4f2c-c822-c94294b1d015"
      },
      "outputs": [
        {
          "output_type": "stream",
          "name": "stdout",
          "text": [
            "/usr/local/lib/python3.7/dist-packages/gdown/cli.py:131: FutureWarning: Option `--id` was deprecated in version 4.3.1 and will be removed in 5.0. You don't need to pass it anymore to use a file ID.\n",
            "  category=FutureWarning,\n",
            "Downloading...\n",
            "From: https://drive.google.com/uc?id=1-avUDygRCGvAiPplmc6MundS_PpnohRv\n",
            "To: /content/preprocessed_v1_socialfsi_single_train_sampling12150_20220701.xlsx\n",
            "100% 3.87M/3.87M [00:00<00:00, 191MB/s]\n",
            "/usr/local/lib/python3.7/dist-packages/gdown/cli.py:131: FutureWarning: Option `--id` was deprecated in version 4.3.1 and will be removed in 5.0. You don't need to pass it anymore to use a file ID.\n",
            "  category=FutureWarning,\n",
            "Downloading...\n",
            "From: https://drive.google.com/uc?id=106OVRPIQQBppganRnCZigxQh6-Zyvqit\n",
            "To: /content/preprocessed_v1_socialfsi_single_test_sampling389_20220701.xlsx\n",
            "100% 141k/141k [00:00<00:00, 79.0MB/s]\n",
            "/usr/local/lib/python3.7/dist-packages/gdown/cli.py:131: FutureWarning: Option `--id` was deprecated in version 4.3.1 and will be removed in 5.0. You don't need to pass it anymore to use a file ID.\n",
            "  category=FutureWarning,\n",
            "Downloading...\n",
            "From: https://drive.google.com/uc?id=1hdmLmyVp_-MOmHBKWs4OukuxoyUFxW8X\n",
            "To: /content/train_translated banking data.csv\n",
            "100% 18.7M/18.7M [00:00<00:00, 117MB/s] \n",
            "/usr/local/lib/python3.7/dist-packages/gdown/cli.py:131: FutureWarning: Option `--id` was deprecated in version 4.3.1 and will be removed in 5.0. You don't need to pass it anymore to use a file ID.\n",
            "  category=FutureWarning,\n",
            "Downloading...\n",
            "From: https://drive.google.com/uc?id=1Cq3FttnnzZa-RK7vlu94bJTRj8YD6vA5\n",
            "To: /content/test_translated banking data.csv\n",
            "100% 18.7M/18.7M [00:00<00:00, 340MB/s]\n",
            "Looking in indexes: https://pypi.org/simple, https://us-python.pkg.dev/colab-wheels/public/simple/\n",
            "Collecting flair\n",
            "  Downloading flair-0.11.3-py3-none-any.whl (401 kB)\n",
            "\u001b[K     |████████████████████████████████| 401 kB 5.2 MB/s \n",
            "\u001b[?25hCollecting sentencepiece==0.1.95\n",
            "  Downloading sentencepiece-0.1.95-cp37-cp37m-manylinux2014_x86_64.whl (1.2 MB)\n",
            "\u001b[K     |████████████████████████████████| 1.2 MB 80.7 MB/s \n",
            "\u001b[?25hCollecting wikipedia-api\n",
            "  Downloading Wikipedia-API-0.5.4.tar.gz (18 kB)\n",
            "Requirement already satisfied: regex in /usr/local/lib/python3.7/dist-packages (from flair) (2022.6.2)\n",
            "Collecting segtok>=1.5.7\n",
            "  Downloading segtok-1.5.11-py3-none-any.whl (24 kB)\n",
            "Requirement already satisfied: tabulate in /usr/local/lib/python3.7/dist-packages (from flair) (0.8.9)\n",
            "Collecting pptree\n",
            "  Downloading pptree-3.1.tar.gz (3.0 kB)\n",
            "Collecting huggingface-hub\n",
            "  Downloading huggingface_hub-0.8.1-py3-none-any.whl (101 kB)\n",
            "\u001b[K     |████████████████████████████████| 101 kB 12.5 MB/s \n",
            "\u001b[?25hRequirement already satisfied: torch!=1.8,>=1.5.0 in /usr/local/lib/python3.7/dist-packages (from flair) (1.11.0+cu113)\n",
            "Requirement already satisfied: scikit-learn>=0.21.3 in /usr/local/lib/python3.7/dist-packages (from flair) (1.0.2)\n",
            "Requirement already satisfied: tqdm>=4.26.0 in /usr/local/lib/python3.7/dist-packages (from flair) (4.64.0)\n",
            "Collecting transformers>=4.0.0\n",
            "  Downloading transformers-4.20.1-py3-none-any.whl (4.4 MB)\n",
            "\u001b[K     |████████████████████████████████| 4.4 MB 58.2 MB/s \n",
            "\u001b[?25hCollecting janome\n",
            "  Downloading Janome-0.4.2-py2.py3-none-any.whl (19.7 MB)\n",
            "\u001b[K     |████████████████████████████████| 19.7 MB 136 kB/s \n",
            "\u001b[?25hRequirement already satisfied: matplotlib>=2.2.3 in /usr/local/lib/python3.7/dist-packages (from flair) (3.2.2)\n",
            "Collecting conllu>=4.0\n",
            "  Downloading conllu-4.4.2-py2.py3-none-any.whl (15 kB)\n",
            "Requirement already satisfied: python-dateutil>=2.6.1 in /usr/local/lib/python3.7/dist-packages (from flair) (2.8.2)\n",
            "Collecting konoha<5.0.0,>=4.0.0\n",
            "  Downloading konoha-4.6.5-py3-none-any.whl (20 kB)\n",
            "Requirement already satisfied: gdown==4.4.0 in /usr/local/lib/python3.7/dist-packages (from flair) (4.4.0)\n",
            "Collecting langdetect\n",
            "  Downloading langdetect-1.0.9.tar.gz (981 kB)\n",
            "\u001b[K     |████████████████████████████████| 981 kB 73.1 MB/s \n",
            "\u001b[?25hRequirement already satisfied: gensim>=3.4.0 in /usr/local/lib/python3.7/dist-packages (from flair) (3.6.0)\n",
            "Collecting deprecated>=1.2.4\n",
            "  Downloading Deprecated-1.2.13-py2.py3-none-any.whl (9.6 kB)\n",
            "Collecting hyperopt>=0.2.7\n",
            "  Downloading hyperopt-0.2.7-py2.py3-none-any.whl (1.6 MB)\n",
            "\u001b[K     |████████████████████████████████| 1.6 MB 57.1 MB/s \n",
            "\u001b[?25hCollecting mpld3==0.3\n",
            "  Downloading mpld3-0.3.tar.gz (788 kB)\n",
            "\u001b[K     |████████████████████████████████| 788 kB 78.8 MB/s \n",
            "\u001b[?25hCollecting bpemb>=0.3.2\n",
            "  Downloading bpemb-0.3.3-py3-none-any.whl (19 kB)\n",
            "Collecting ftfy\n",
            "  Downloading ftfy-6.1.1-py3-none-any.whl (53 kB)\n",
            "\u001b[K     |████████████████████████████████| 53 kB 1.6 MB/s \n",
            "\u001b[?25hRequirement already satisfied: more-itertools in /usr/local/lib/python3.7/dist-packages (from flair) (8.13.0)\n",
            "Collecting sqlitedict>=1.6.0\n",
            "  Downloading sqlitedict-2.0.0.tar.gz (46 kB)\n",
            "\u001b[K     |████████████████████████████████| 46 kB 4.2 MB/s \n",
            "\u001b[?25hRequirement already satisfied: lxml in /usr/local/lib/python3.7/dist-packages (from flair) (4.2.6)\n",
            "Requirement already satisfied: beautifulsoup4 in /usr/local/lib/python3.7/dist-packages (from gdown==4.4.0->flair) (4.6.3)\n",
            "Requirement already satisfied: filelock in /usr/local/lib/python3.7/dist-packages (from gdown==4.4.0->flair) (3.7.1)\n",
            "Requirement already satisfied: six in /usr/local/lib/python3.7/dist-packages (from gdown==4.4.0->flair) (1.15.0)\n",
            "Requirement already satisfied: requests[socks] in /usr/local/lib/python3.7/dist-packages (from gdown==4.4.0->flair) (2.23.0)\n",
            "Requirement already satisfied: numpy in /usr/local/lib/python3.7/dist-packages (from bpemb>=0.3.2->flair) (1.21.6)\n",
            "Requirement already satisfied: wrapt<2,>=1.10 in /usr/local/lib/python3.7/dist-packages (from deprecated>=1.2.4->flair) (1.14.1)\n",
            "Requirement already satisfied: scipy>=0.18.1 in /usr/local/lib/python3.7/dist-packages (from gensim>=3.4.0->flair) (1.4.1)\n",
            "Requirement already satisfied: smart-open>=1.2.1 in /usr/local/lib/python3.7/dist-packages (from gensim>=3.4.0->flair) (5.2.1)\n",
            "Collecting py4j\n",
            "  Downloading py4j-0.10.9.5-py2.py3-none-any.whl (199 kB)\n",
            "\u001b[K     |████████████████████████████████| 199 kB 76.7 MB/s \n",
            "\u001b[?25hRequirement already satisfied: networkx>=2.2 in /usr/local/lib/python3.7/dist-packages (from hyperopt>=0.2.7->flair) (2.6.3)\n",
            "Requirement already satisfied: cloudpickle in /usr/local/lib/python3.7/dist-packages (from hyperopt>=0.2.7->flair) (1.3.0)\n",
            "Requirement already satisfied: future in /usr/local/lib/python3.7/dist-packages (from hyperopt>=0.2.7->flair) (0.16.0)\n",
            "Collecting importlib-metadata<4.0.0,>=3.7.0\n",
            "  Downloading importlib_metadata-3.10.1-py3-none-any.whl (14 kB)\n",
            "Collecting overrides<4.0.0,>=3.0.0\n",
            "  Downloading overrides-3.1.0.tar.gz (11 kB)\n",
            "Collecting requests\n",
            "  Downloading requests-2.28.1-py3-none-any.whl (62 kB)\n",
            "\u001b[K     |████████████████████████████████| 62 kB 1.6 MB/s \n",
            "\u001b[?25hRequirement already satisfied: typing-extensions>=3.6.4 in /usr/local/lib/python3.7/dist-packages (from importlib-metadata<4.0.0,>=3.7.0->konoha<5.0.0,>=4.0.0->flair) (4.1.1)\n",
            "Requirement already satisfied: zipp>=0.5 in /usr/local/lib/python3.7/dist-packages (from importlib-metadata<4.0.0,>=3.7.0->konoha<5.0.0,>=4.0.0->flair) (3.8.0)\n",
            "Requirement already satisfied: kiwisolver>=1.0.1 in /usr/local/lib/python3.7/dist-packages (from matplotlib>=2.2.3->flair) (1.4.3)\n",
            "Requirement already satisfied: pyparsing!=2.0.4,!=2.1.2,!=2.1.6,>=2.0.1 in /usr/local/lib/python3.7/dist-packages (from matplotlib>=2.2.3->flair) (3.0.9)\n",
            "Requirement already satisfied: cycler>=0.10 in /usr/local/lib/python3.7/dist-packages (from matplotlib>=2.2.3->flair) (0.11.0)\n",
            "Requirement already satisfied: certifi>=2017.4.17 in /usr/local/lib/python3.7/dist-packages (from requests->bpemb>=0.3.2->flair) (2022.6.15)\n",
            "Requirement already satisfied: urllib3<1.27,>=1.21.1 in /usr/local/lib/python3.7/dist-packages (from requests->bpemb>=0.3.2->flair) (1.24.3)\n",
            "Requirement already satisfied: idna<4,>=2.5 in /usr/local/lib/python3.7/dist-packages (from requests->bpemb>=0.3.2->flair) (2.10)\n",
            "Requirement already satisfied: charset-normalizer<3,>=2 in /usr/local/lib/python3.7/dist-packages (from requests->bpemb>=0.3.2->flair) (2.0.12)\n",
            "Requirement already satisfied: joblib>=0.11 in /usr/local/lib/python3.7/dist-packages (from scikit-learn>=0.21.3->flair) (1.1.0)\n",
            "Requirement already satisfied: threadpoolctl>=2.0.0 in /usr/local/lib/python3.7/dist-packages (from scikit-learn>=0.21.3->flair) (3.1.0)\n",
            "Collecting tokenizers!=0.11.3,<0.13,>=0.11.1\n",
            "  Downloading tokenizers-0.12.1-cp37-cp37m-manylinux_2_12_x86_64.manylinux2010_x86_64.whl (6.6 MB)\n",
            "\u001b[K     |████████████████████████████████| 6.6 MB 76.8 MB/s \n",
            "\u001b[?25hRequirement already satisfied: packaging>=20.0 in /usr/local/lib/python3.7/dist-packages (from transformers>=4.0.0->flair) (21.3)\n",
            "Collecting pyyaml>=5.1\n",
            "  Downloading PyYAML-6.0-cp37-cp37m-manylinux_2_5_x86_64.manylinux1_x86_64.manylinux_2_12_x86_64.manylinux2010_x86_64.whl (596 kB)\n",
            "\u001b[K     |████████████████████████████████| 596 kB 84.5 MB/s \n",
            "\u001b[?25hRequirement already satisfied: wcwidth>=0.2.5 in /usr/local/lib/python3.7/dist-packages (from ftfy->flair) (0.2.5)\n",
            "Requirement already satisfied: PySocks!=1.5.7,>=1.5.6 in /usr/local/lib/python3.7/dist-packages (from requests->bpemb>=0.3.2->flair) (1.7.1)\n",
            "Building wheels for collected packages: mpld3, overrides, sqlitedict, langdetect, pptree, wikipedia-api\n",
            "  Building wheel for mpld3 (setup.py) ... \u001b[?25l\u001b[?25hdone\n",
            "  Created wheel for mpld3: filename=mpld3-0.3-py3-none-any.whl size=116702 sha256=c8f159fcb38a7cff416282176f434ef0df38636c88f25f94c4a653faaf3a8465\n",
            "  Stored in directory: /root/.cache/pip/wheels/26/70/6a/1c79e59951a41b4045497da187b2724f5659ca64033cf4548e\n",
            "  Building wheel for overrides (setup.py) ... \u001b[?25l\u001b[?25hdone\n",
            "  Created wheel for overrides: filename=overrides-3.1.0-py3-none-any.whl size=10187 sha256=0412dbe2c0df19fcbaa0a0ecb9c6b04838e28745a3dc3661a6f8cdaf3cdc5087\n",
            "  Stored in directory: /root/.cache/pip/wheels/3a/0d/38/01a9bc6e20dcfaf0a6a7b552d03137558ba1c38aea47644682\n",
            "  Building wheel for sqlitedict (setup.py) ... \u001b[?25l\u001b[?25hdone\n",
            "  Created wheel for sqlitedict: filename=sqlitedict-2.0.0-py3-none-any.whl size=15736 sha256=2e1803e7e160b966e28a0aa9c1ac59cdc240fc3b3a68a92d42d6fe79430d953e\n",
            "  Stored in directory: /root/.cache/pip/wheels/96/dd/2e/0ed4a25cb73fc30c7ea8d10b50acb7226175736067e40a7ea3\n",
            "  Building wheel for langdetect (setup.py) ... \u001b[?25l\u001b[?25hdone\n",
            "  Created wheel for langdetect: filename=langdetect-1.0.9-py3-none-any.whl size=993242 sha256=40c1d6be9b095a0b5a87c804a6e1aa04f20d6dc364a68b0de4754a255c087b37\n",
            "  Stored in directory: /root/.cache/pip/wheels/c5/96/8a/f90c59ed25d75e50a8c10a1b1c2d4c402e4dacfa87f3aff36a\n",
            "  Building wheel for pptree (setup.py) ... \u001b[?25l\u001b[?25hdone\n",
            "  Created wheel for pptree: filename=pptree-3.1-py3-none-any.whl size=4629 sha256=2c11f382d4352e2f60fe897cb14ad4d757362102f5f34957d330879c13f8a106\n",
            "  Stored in directory: /root/.cache/pip/wheels/9e/e8/7d/a9c3c19b4722608a0d8b05a38c36bc3f230c43becd2a46794b\n",
            "  Building wheel for wikipedia-api (setup.py) ... \u001b[?25l\u001b[?25hdone\n",
            "  Created wheel for wikipedia-api: filename=Wikipedia_API-0.5.4-py3-none-any.whl size=13477 sha256=eb85e01c02174a67e70a2c0d17ac2da15c673426b31bec4a8b193a09b6f24e8d\n",
            "  Stored in directory: /root/.cache/pip/wheels/d3/24/56/58ba93cf78be162451144e7a9889603f437976ef1ae7013d04\n",
            "Successfully built mpld3 overrides sqlitedict langdetect pptree wikipedia-api\n",
            "Installing collected packages: requests, pyyaml, importlib-metadata, tokenizers, sentencepiece, py4j, overrides, huggingface-hub, wikipedia-api, transformers, sqlitedict, segtok, pptree, mpld3, langdetect, konoha, janome, hyperopt, ftfy, deprecated, conllu, bpemb, flair\n",
            "  Attempting uninstall: requests\n",
            "    Found existing installation: requests 2.23.0\n",
            "    Uninstalling requests-2.23.0:\n",
            "      Successfully uninstalled requests-2.23.0\n",
            "  Attempting uninstall: pyyaml\n",
            "    Found existing installation: PyYAML 3.13\n",
            "    Uninstalling PyYAML-3.13:\n",
            "      Successfully uninstalled PyYAML-3.13\n",
            "  Attempting uninstall: importlib-metadata\n",
            "    Found existing installation: importlib-metadata 4.11.4\n",
            "    Uninstalling importlib-metadata-4.11.4:\n",
            "      Successfully uninstalled importlib-metadata-4.11.4\n",
            "  Attempting uninstall: hyperopt\n",
            "    Found existing installation: hyperopt 0.1.2\n",
            "    Uninstalling hyperopt-0.1.2:\n",
            "      Successfully uninstalled hyperopt-0.1.2\n",
            "\u001b[31mERROR: pip's dependency resolver does not currently take into account all the packages that are installed. This behaviour is the source of the following dependency conflicts.\n",
            "markdown 3.3.7 requires importlib-metadata>=4.4; python_version < \"3.10\", but you have importlib-metadata 3.10.1 which is incompatible.\n",
            "google-colab 1.0.0 requires requests~=2.23.0, but you have requests 2.28.1 which is incompatible.\n",
            "datascience 0.10.6 requires folium==0.2.1, but you have folium 0.8.3 which is incompatible.\u001b[0m\n",
            "Successfully installed bpemb-0.3.3 conllu-4.4.2 deprecated-1.2.13 flair-0.11.3 ftfy-6.1.1 huggingface-hub-0.8.1 hyperopt-0.2.7 importlib-metadata-3.10.1 janome-0.4.2 konoha-4.6.5 langdetect-1.0.9 mpld3-0.3 overrides-3.1.0 pptree-3.1 py4j-0.10.9.5 pyyaml-6.0 requests-2.28.1 segtok-1.5.11 sentencepiece-0.1.95 sqlitedict-2.0.0 tokenizers-0.12.1 transformers-4.20.1 wikipedia-api-0.5.4\n",
            "Looking in indexes: https://pypi.org/simple, https://us-python.pkg.dev/colab-wheels/public/simple/\n",
            "Collecting fairseq\n",
            "  Downloading fairseq-0.12.2-cp37-cp37m-manylinux_2_5_x86_64.manylinux1_x86_64.whl (11.0 MB)\n",
            "\u001b[K     |████████████████████████████████| 11.0 MB 4.6 MB/s \n",
            "\u001b[?25hRequirement already satisfied: cffi in /usr/local/lib/python3.7/dist-packages (from fairseq) (1.15.0)\n",
            "Collecting bitarray\n",
            "  Downloading bitarray-2.5.1-cp37-cp37m-manylinux_2_17_x86_64.manylinux2014_x86_64.whl (236 kB)\n",
            "\u001b[K     |████████████████████████████████| 236 kB 98.6 MB/s \n",
            "\u001b[?25hRequirement already satisfied: regex in /usr/local/lib/python3.7/dist-packages (from fairseq) (2022.6.2)\n",
            "Requirement already satisfied: tqdm in /usr/local/lib/python3.7/dist-packages (from fairseq) (4.64.0)\n",
            "Collecting hydra-core<1.1,>=1.0.7\n",
            "  Downloading hydra_core-1.0.7-py3-none-any.whl (123 kB)\n",
            "\u001b[K     |████████████████████████████████| 123 kB 64.5 MB/s \n",
            "\u001b[?25hCollecting omegaconf<2.1\n",
            "  Downloading omegaconf-2.0.6-py3-none-any.whl (36 kB)\n",
            "Requirement already satisfied: cython in /usr/local/lib/python3.7/dist-packages (from fairseq) (0.29.30)\n",
            "Requirement already satisfied: torchaudio>=0.8.0 in /usr/local/lib/python3.7/dist-packages (from fairseq) (0.11.0+cu113)\n",
            "Collecting sacrebleu>=1.4.12\n",
            "  Downloading sacrebleu-2.1.0-py3-none-any.whl (92 kB)\n",
            "\u001b[K     |████████████████████████████████| 92 kB 11.3 MB/s \n",
            "\u001b[?25hRequirement already satisfied: torch in /usr/local/lib/python3.7/dist-packages (from fairseq) (1.11.0+cu113)\n",
            "Requirement already satisfied: numpy in /usr/local/lib/python3.7/dist-packages (from fairseq) (1.21.6)\n",
            "Collecting antlr4-python3-runtime==4.8\n",
            "  Downloading antlr4-python3-runtime-4.8.tar.gz (112 kB)\n",
            "\u001b[K     |████████████████████████████████| 112 kB 95.6 MB/s \n",
            "\u001b[?25hRequirement already satisfied: importlib-resources in /usr/local/lib/python3.7/dist-packages (from hydra-core<1.1,>=1.0.7->fairseq) (5.7.1)\n",
            "Requirement already satisfied: typing-extensions in /usr/local/lib/python3.7/dist-packages (from omegaconf<2.1->fairseq) (4.1.1)\n",
            "Requirement already satisfied: PyYAML>=5.1.* in /usr/local/lib/python3.7/dist-packages (from omegaconf<2.1->fairseq) (6.0)\n",
            "Collecting portalocker\n",
            "  Downloading portalocker-2.4.0-py2.py3-none-any.whl (16 kB)\n",
            "Requirement already satisfied: tabulate>=0.8.9 in /usr/local/lib/python3.7/dist-packages (from sacrebleu>=1.4.12->fairseq) (0.8.9)\n",
            "Collecting colorama\n",
            "  Downloading colorama-0.4.5-py2.py3-none-any.whl (16 kB)\n",
            "Requirement already satisfied: pycparser in /usr/local/lib/python3.7/dist-packages (from cffi->fairseq) (2.21)\n",
            "Requirement already satisfied: zipp>=3.1.0 in /usr/local/lib/python3.7/dist-packages (from importlib-resources->hydra-core<1.1,>=1.0.7->fairseq) (3.8.0)\n",
            "Building wheels for collected packages: antlr4-python3-runtime\n",
            "  Building wheel for antlr4-python3-runtime (setup.py) ... \u001b[?25l\u001b[?25hdone\n",
            "  Created wheel for antlr4-python3-runtime: filename=antlr4_python3_runtime-4.8-py3-none-any.whl size=141230 sha256=2382f4a474cff031332e35a3e93c6be4a9d0052c9d0071d40bdb0dd075ea93b8\n",
            "  Stored in directory: /root/.cache/pip/wheels/ca/33/b7/336836125fc9bb4ceaa4376d8abca10ca8bc84ddc824baea6c\n",
            "Successfully built antlr4-python3-runtime\n",
            "Installing collected packages: portalocker, omegaconf, colorama, antlr4-python3-runtime, sacrebleu, hydra-core, bitarray, fairseq\n",
            "Successfully installed antlr4-python3-runtime-4.8 bitarray-2.5.1 colorama-0.4.5 fairseq-0.12.2 hydra-core-1.0.7 omegaconf-2.0.6 portalocker-2.4.0 sacrebleu-2.1.0\n",
            "Looking in indexes: https://pypi.org/simple, https://us-python.pkg.dev/colab-wheels/public/simple/\n",
            "Collecting pythainlp\n",
            "  Downloading pythainlp-3.0.8-py3-none-any.whl (11.5 MB)\n",
            "\u001b[K     |████████████████████████████████| 11.5 MB 5.1 MB/s \n",
            "\u001b[?25hCollecting tinydb>=3.0\n",
            "  Downloading tinydb-4.7.0-py3-none-any.whl (24 kB)\n",
            "Requirement already satisfied: requests>=2.22.0 in /usr/local/lib/python3.7/dist-packages (from pythainlp) (2.28.1)\n",
            "Requirement already satisfied: urllib3<1.27,>=1.21.1 in /usr/local/lib/python3.7/dist-packages (from requests>=2.22.0->pythainlp) (1.24.3)\n",
            "Requirement already satisfied: certifi>=2017.4.17 in /usr/local/lib/python3.7/dist-packages (from requests>=2.22.0->pythainlp) (2022.6.15)\n",
            "Requirement already satisfied: idna<4,>=2.5 in /usr/local/lib/python3.7/dist-packages (from requests>=2.22.0->pythainlp) (2.10)\n",
            "Requirement already satisfied: charset-normalizer<3,>=2 in /usr/local/lib/python3.7/dist-packages (from requests>=2.22.0->pythainlp) (2.0.12)\n",
            "Requirement already satisfied: typing-extensions<5.0.0,>=3.10.0 in /usr/local/lib/python3.7/dist-packages (from tinydb>=3.0->pythainlp) (4.1.1)\n",
            "Installing collected packages: tinydb, pythainlp\n",
            "Successfully installed pythainlp-3.0.8 tinydb-4.7.0\n",
            "Looking in indexes: https://pypi.org/simple, https://us-python.pkg.dev/colab-wheels/public/simple/\n",
            "Requirement already satisfied: transformers in /usr/local/lib/python3.7/dist-packages (4.20.1)\n",
            "Requirement already satisfied: tokenizers!=0.11.3,<0.13,>=0.11.1 in /usr/local/lib/python3.7/dist-packages (from transformers) (0.12.1)\n",
            "Requirement already satisfied: pyyaml>=5.1 in /usr/local/lib/python3.7/dist-packages (from transformers) (6.0)\n",
            "Requirement already satisfied: packaging>=20.0 in /usr/local/lib/python3.7/dist-packages (from transformers) (21.3)\n",
            "Requirement already satisfied: regex!=2019.12.17 in /usr/local/lib/python3.7/dist-packages (from transformers) (2022.6.2)\n",
            "Requirement already satisfied: requests in /usr/local/lib/python3.7/dist-packages (from transformers) (2.28.1)\n",
            "Requirement already satisfied: filelock in /usr/local/lib/python3.7/dist-packages (from transformers) (3.7.1)\n",
            "Requirement already satisfied: importlib-metadata in /usr/local/lib/python3.7/dist-packages (from transformers) (3.10.1)\n",
            "Requirement already satisfied: numpy>=1.17 in /usr/local/lib/python3.7/dist-packages (from transformers) (1.21.6)\n",
            "Requirement already satisfied: tqdm>=4.27 in /usr/local/lib/python3.7/dist-packages (from transformers) (4.64.0)\n",
            "Requirement already satisfied: huggingface-hub<1.0,>=0.1.0 in /usr/local/lib/python3.7/dist-packages (from transformers) (0.8.1)\n",
            "Requirement already satisfied: typing-extensions>=3.7.4.3 in /usr/local/lib/python3.7/dist-packages (from huggingface-hub<1.0,>=0.1.0->transformers) (4.1.1)\n",
            "Requirement already satisfied: pyparsing!=3.0.5,>=2.0.2 in /usr/local/lib/python3.7/dist-packages (from packaging>=20.0->transformers) (3.0.9)\n",
            "Requirement already satisfied: zipp>=0.5 in /usr/local/lib/python3.7/dist-packages (from importlib-metadata->transformers) (3.8.0)\n",
            "Requirement already satisfied: idna<4,>=2.5 in /usr/local/lib/python3.7/dist-packages (from requests->transformers) (2.10)\n",
            "Requirement already satisfied: charset-normalizer<3,>=2 in /usr/local/lib/python3.7/dist-packages (from requests->transformers) (2.0.12)\n",
            "Requirement already satisfied: certifi>=2017.4.17 in /usr/local/lib/python3.7/dist-packages (from requests->transformers) (2022.6.15)\n",
            "Requirement already satisfied: urllib3<1.27,>=1.21.1 in /usr/local/lib/python3.7/dist-packages (from requests->transformers) (1.24.3)\n",
            "Looking in indexes: https://pypi.org/simple, https://us-python.pkg.dev/colab-wheels/public/simple/\n",
            "Collecting sacremoses\n",
            "  Downloading sacremoses-0.0.53.tar.gz (880 kB)\n",
            "\u001b[K     |████████████████████████████████| 880 kB 5.1 MB/s \n",
            "\u001b[?25hRequirement already satisfied: sentencepiece in /usr/local/lib/python3.7/dist-packages (0.1.95)\n",
            "Requirement already satisfied: regex in /usr/local/lib/python3.7/dist-packages (from sacremoses) (2022.6.2)\n",
            "Requirement already satisfied: six in /usr/local/lib/python3.7/dist-packages (from sacremoses) (1.15.0)\n",
            "Requirement already satisfied: click in /usr/local/lib/python3.7/dist-packages (from sacremoses) (7.1.2)\n",
            "Requirement already satisfied: joblib in /usr/local/lib/python3.7/dist-packages (from sacremoses) (1.1.0)\n",
            "Requirement already satisfied: tqdm in /usr/local/lib/python3.7/dist-packages (from sacremoses) (4.64.0)\n",
            "Building wheels for collected packages: sacremoses\n",
            "  Building wheel for sacremoses (setup.py) ... \u001b[?25l\u001b[?25hdone\n",
            "  Created wheel for sacremoses: filename=sacremoses-0.0.53-py3-none-any.whl size=895260 sha256=cdfd272b42e4986568f3be4396da813b391de48ae6a77129b2f1393b31516d87\n",
            "  Stored in directory: /root/.cache/pip/wheels/87/39/dd/a83eeef36d0bf98e7a4d1933a4ad2d660295a40613079bafc9\n",
            "Successfully built sacremoses\n",
            "Installing collected packages: sacremoses\n",
            "Successfully installed sacremoses-0.0.53\n"
          ]
        }
      ],
      "source": [
        "#download data\n",
        "#raw\n",
        "!gdown --id 1-avUDygRCGvAiPplmc6MundS_PpnohRv \n",
        "!gdown --id 106OVRPIQQBppganRnCZigxQh6-Zyvqit\n",
        "#raw with translated\n",
        "!gdown --id 1hdmLmyVp_-MOmHBKWs4OukuxoyUFxW8X\n",
        "!gdown --id 1Cq3FttnnzZa-RK7vlu94bJTRj8YD6vA5\n",
        "\n",
        "!pip install flair \n",
        "!pip install fairseq\n",
        "!pip install pythainlp\n",
        "!pip install transformers\n",
        "!pip install sacremoses sentencepiece"
      ]
    },
    {
      "cell_type": "code",
      "source": [
        "#libraby \n",
        "import numpy as np\n",
        "import pandas as pd\n",
        "import seaborn as sns\n",
        "import matplotlib.pyplot as plt\n",
        "\n",
        "import string\n",
        "import os, os.path\n",
        "import pandas as pd\n",
        "import seaborn as sns\n",
        "\n",
        "import nltk\n",
        "nltk.download('stopwords')\n",
        "from nltk.corpus import stopwords\n",
        "\n",
        "from string import punctuation\n",
        "from os import listdir\n",
        "from collections import Counter\n",
        "from nltk.corpus import stopwords\n",
        "\n",
        "from keras.preprocessing.text import Tokenizer\n",
        "from keras_preprocessing.sequence import pad_sequences\n",
        "\n",
        "from keras.layers import Dense\n",
        "from keras.layers import Flatten\n",
        "from keras.layers import Embedding\n",
        "from keras.models import Sequential\n",
        "from keras.layers.convolutional import Conv1D\n",
        "from keras.layers.convolutional import MaxPooling1D"
      ],
      "metadata": {
        "id": "cgMb7j8pbNQj",
        "colab": {
          "base_uri": "https://localhost:8080/"
        },
        "outputId": "4f23230b-e07d-4ef8-feff-de5d5f825f8f"
      },
      "execution_count": 2,
      "outputs": [
        {
          "output_type": "stream",
          "name": "stderr",
          "text": [
            "[nltk_data] Downloading package stopwords to /root/nltk_data...\n",
            "[nltk_data]   Unzipping corpora/stopwords.zip.\n"
          ]
        }
      ]
    },
    {
      "cell_type": "code",
      "source": [
        "train = pd.read_csv('/content/train_translated banking data.csv')\n",
        "test = pd.read_csv('/content/test_translated banking data.csv')"
      ],
      "metadata": {
        "id": "ITJldeRSbbc6"
      },
      "execution_count": 3,
      "outputs": []
    },
    {
      "cell_type": "code",
      "source": [
        "train.head(5)"
      ],
      "metadata": {
        "colab": {
          "base_uri": "https://localhost:8080/",
          "height": 0
        },
        "id": "sMuRAAX0b2mv",
        "outputId": "4dc7db3d-9e07-4e17-d1f8-ec77adeb255c"
      },
      "execution_count": 4,
      "outputs": [
        {
          "output_type": "execute_result",
          "data": {
            "text/plain": [
              "   Unnamed: 0  Unnamed: 0.1  \\\n",
              "0           0             0   \n",
              "1           1             1   \n",
              "2           2             2   \n",
              "3           3             3   \n",
              "4           4             4   \n",
              "\n",
              "                                        TagFile_Path  \\\n",
              "0  SocialFSI_ZE-KTB-Feb-Apr2022_Sampling2244_2022...   \n",
              "1  SocialFSI_v4_0_mutiple_train_sampling8203_2021...   \n",
              "2  SocialFSI_ZE-KTB-Feb-Apr2022_Sampling2244_2022...   \n",
              "3  SocialFSI_v4_0_mutiple_train_sampling8203_2021...   \n",
              "4  SocialFSI_v4_0_mutiple_train_sampling8203_2021...   \n",
              "\n",
              "                                             TagFile SV_CustomerName  \\\n",
              "0  SocialFSI_ZE-KTB-Feb-Apr2022_Sampling1400_2022...  Krungthai_NEXT   \n",
              "1  SocialFSI_TrainDataV4_RetagCLS-12_Sampling53_P...             NaN   \n",
              "2  SocialFSI_ZE-KTB-Feb-Apr2022_Sampling1200_2022...  Krungthai_NEXT   \n",
              "3  SocialFSI_TrainSCB-SocialFilterV2_Sampling2750...             NaN   \n",
              "4  SocialFSI_TrainSCB-SocialFilterV2_Sampling2750...             NaN   \n",
              "\n",
              "                                        Main keyword      Channel SubChannel  \\\n",
              "0  mobile banking+กสิกร,mobile banking+ธนาคารกสิก...  SocialMedia      forum   \n",
              "1                                                NaN  SocialMedia    Twitter   \n",
              "2                                          krungthai  SocialMedia   facebook   \n",
              "3                                                NaN  SocialMedia    Twitter   \n",
              "4                                                NaN  SocialMedia    Twitter   \n",
              "\n",
              "                                 lfdn   verbatim_id     sentence_id  \\\n",
              "0           pantip.com_topic_41249919    Q2207_1549    Q2207_1549_1   \n",
              "1            5fffc6bcb08b583a24679d59  Q202106_5805  Q202106_5805_1   \n",
              "2  10161808181448916_1330115550790924     Q2207_636     Q2207_636_1   \n",
              "3                            27634345   Q202106_961   Q202106_961_1   \n",
              "4                            28297653  Q202106_2021  Q202106_2021_1   \n",
              "\n",
              "                                       Text_original  \\\n",
              "0  สอบถามเรื่องการอายัดบัตรเดบิตของกสิกรค่ะ พอดีว...   \n",
              "1  ปกติจะไม่ชอบlog in ใดๆในคอมคนอื่นหรือสำนักงานใ...   \n",
              "2  Krungthai Care ณ. ตอนนี้ยอดก็ยังไม่เข้าค่ะ ถ้า...   \n",
              "3  @scb_thailand เรียน scb ขอเบอร?ตืดต่อเพราะคุย ...   \n",
              "4  ไอเลิ้บ TMB All Free มาก แต่ช่วยพัฒนาแอพให้สเถ...   \n",
              "\n",
              "                                                Text  \\\n",
              "0  สอบถามเรื่องการอายัดบัตรเดบิตของกสิกรค่ะ พอดีว...   \n",
              "1  ปกติจะไม่ชอบlog in ใดๆในคอมคนอื่นหรือสำนักงานใ...   \n",
              "2  Krungthai Care ณ. ตอนนี้ยอดก็ยังไม่เข้าค่ะ ถ้า...   \n",
              "3  @scb_thailand เรียน scb ขอเบอร?ตืดต่อเพราะคุย ...   \n",
              "4                          ไอเลิ้บ TMB All Free มาก    \n",
              "\n",
              "                             Human_Category  Human_CategoryID Human_Sentiment  \\\n",
              "0  Product and Service, Usage and Condition                 8         neutral   \n",
              "1                                  Security                12         neutral   \n",
              "2               Product and Service, System                 7        negative   \n",
              "3                             Staff Quality                 4        negative   \n",
              "4  Product and Service, Usage and Condition                 8        positive   \n",
              "\n",
              "  Human_SentimentID                                      Text_ws_local  \\\n",
              "0                 o  สอบถาม|เรื่อง|การ|อายัด|บัตรเดบิต|ของ|kbank|ค่...   \n",
              "1                 o  ปกติ|จะ|ไม่ชอบ| |log| |in| |ใดๆ| |ใน|ค|อม|คนอื...   \n",
              "2                 n  ktb| |care| |ณ|.| |ตอนนี้|ยอด|ก็|ยัง|ไม่|เข้า|...   \n",
              "3                 n  scb_thailand| |เรียน| |scb| |ขอ|เบอร| |ตืด|ต่อ...   \n",
              "4                 p                    ไอ|เลิ้บ| |tmb_all_free| |มาก|    \n",
              "\n",
              "                                          translated  \n",
              "0  I've been asking about the debit card holders....  \n",
              "1  Usually don't like logins on any other compute...  \n",
              "2  Krungthai Care as of right now, it's not the t...  \n",
              "3                         @scb_thailand studied scb.  \n",
              "4  Ib TMB All Free. But it helps to improve apps....  "
            ],
            "text/html": [
              "\n",
              "  <div id=\"df-8cca7640-f84d-40a0-86b2-311650c3b54b\">\n",
              "    <div class=\"colab-df-container\">\n",
              "      <div>\n",
              "<style scoped>\n",
              "    .dataframe tbody tr th:only-of-type {\n",
              "        vertical-align: middle;\n",
              "    }\n",
              "\n",
              "    .dataframe tbody tr th {\n",
              "        vertical-align: top;\n",
              "    }\n",
              "\n",
              "    .dataframe thead th {\n",
              "        text-align: right;\n",
              "    }\n",
              "</style>\n",
              "<table border=\"1\" class=\"dataframe\">\n",
              "  <thead>\n",
              "    <tr style=\"text-align: right;\">\n",
              "      <th></th>\n",
              "      <th>Unnamed: 0</th>\n",
              "      <th>Unnamed: 0.1</th>\n",
              "      <th>TagFile_Path</th>\n",
              "      <th>TagFile</th>\n",
              "      <th>SV_CustomerName</th>\n",
              "      <th>Main keyword</th>\n",
              "      <th>Channel</th>\n",
              "      <th>SubChannel</th>\n",
              "      <th>lfdn</th>\n",
              "      <th>verbatim_id</th>\n",
              "      <th>sentence_id</th>\n",
              "      <th>Text_original</th>\n",
              "      <th>Text</th>\n",
              "      <th>Human_Category</th>\n",
              "      <th>Human_CategoryID</th>\n",
              "      <th>Human_Sentiment</th>\n",
              "      <th>Human_SentimentID</th>\n",
              "      <th>Text_ws_local</th>\n",
              "      <th>translated</th>\n",
              "    </tr>\n",
              "  </thead>\n",
              "  <tbody>\n",
              "    <tr>\n",
              "      <th>0</th>\n",
              "      <td>0</td>\n",
              "      <td>0</td>\n",
              "      <td>SocialFSI_ZE-KTB-Feb-Apr2022_Sampling2244_2022...</td>\n",
              "      <td>SocialFSI_ZE-KTB-Feb-Apr2022_Sampling1400_2022...</td>\n",
              "      <td>Krungthai_NEXT</td>\n",
              "      <td>mobile banking+กสิกร,mobile banking+ธนาคารกสิก...</td>\n",
              "      <td>SocialMedia</td>\n",
              "      <td>forum</td>\n",
              "      <td>pantip.com_topic_41249919</td>\n",
              "      <td>Q2207_1549</td>\n",
              "      <td>Q2207_1549_1</td>\n",
              "      <td>สอบถามเรื่องการอายัดบัตรเดบิตของกสิกรค่ะ พอดีว...</td>\n",
              "      <td>สอบถามเรื่องการอายัดบัตรเดบิตของกสิกรค่ะ พอดีว...</td>\n",
              "      <td>Product and Service, Usage and Condition</td>\n",
              "      <td>8</td>\n",
              "      <td>neutral</td>\n",
              "      <td>o</td>\n",
              "      <td>สอบถาม|เรื่อง|การ|อายัด|บัตรเดบิต|ของ|kbank|ค่...</td>\n",
              "      <td>I've been asking about the debit card holders....</td>\n",
              "    </tr>\n",
              "    <tr>\n",
              "      <th>1</th>\n",
              "      <td>1</td>\n",
              "      <td>1</td>\n",
              "      <td>SocialFSI_v4_0_mutiple_train_sampling8203_2021...</td>\n",
              "      <td>SocialFSI_TrainDataV4_RetagCLS-12_Sampling53_P...</td>\n",
              "      <td>NaN</td>\n",
              "      <td>NaN</td>\n",
              "      <td>SocialMedia</td>\n",
              "      <td>Twitter</td>\n",
              "      <td>5fffc6bcb08b583a24679d59</td>\n",
              "      <td>Q202106_5805</td>\n",
              "      <td>Q202106_5805_1</td>\n",
              "      <td>ปกติจะไม่ชอบlog in ใดๆในคอมคนอื่นหรือสำนักงานใ...</td>\n",
              "      <td>ปกติจะไม่ชอบlog in ใดๆในคอมคนอื่นหรือสำนักงานใ...</td>\n",
              "      <td>Security</td>\n",
              "      <td>12</td>\n",
              "      <td>neutral</td>\n",
              "      <td>o</td>\n",
              "      <td>ปกติ|จะ|ไม่ชอบ| |log| |in| |ใดๆ| |ใน|ค|อม|คนอื...</td>\n",
              "      <td>Usually don't like logins on any other compute...</td>\n",
              "    </tr>\n",
              "    <tr>\n",
              "      <th>2</th>\n",
              "      <td>2</td>\n",
              "      <td>2</td>\n",
              "      <td>SocialFSI_ZE-KTB-Feb-Apr2022_Sampling2244_2022...</td>\n",
              "      <td>SocialFSI_ZE-KTB-Feb-Apr2022_Sampling1200_2022...</td>\n",
              "      <td>Krungthai_NEXT</td>\n",
              "      <td>krungthai</td>\n",
              "      <td>SocialMedia</td>\n",
              "      <td>facebook</td>\n",
              "      <td>10161808181448916_1330115550790924</td>\n",
              "      <td>Q2207_636</td>\n",
              "      <td>Q2207_636_1</td>\n",
              "      <td>Krungthai Care ณ. ตอนนี้ยอดก็ยังไม่เข้าค่ะ ถ้า...</td>\n",
              "      <td>Krungthai Care ณ. ตอนนี้ยอดก็ยังไม่เข้าค่ะ ถ้า...</td>\n",
              "      <td>Product and Service, System</td>\n",
              "      <td>7</td>\n",
              "      <td>negative</td>\n",
              "      <td>n</td>\n",
              "      <td>ktb| |care| |ณ|.| |ตอนนี้|ยอด|ก็|ยัง|ไม่|เข้า|...</td>\n",
              "      <td>Krungthai Care as of right now, it's not the t...</td>\n",
              "    </tr>\n",
              "    <tr>\n",
              "      <th>3</th>\n",
              "      <td>3</td>\n",
              "      <td>3</td>\n",
              "      <td>SocialFSI_v4_0_mutiple_train_sampling8203_2021...</td>\n",
              "      <td>SocialFSI_TrainSCB-SocialFilterV2_Sampling2750...</td>\n",
              "      <td>NaN</td>\n",
              "      <td>NaN</td>\n",
              "      <td>SocialMedia</td>\n",
              "      <td>Twitter</td>\n",
              "      <td>27634345</td>\n",
              "      <td>Q202106_961</td>\n",
              "      <td>Q202106_961_1</td>\n",
              "      <td>@scb_thailand เรียน scb ขอเบอร?ตืดต่อเพราะคุย ...</td>\n",
              "      <td>@scb_thailand เรียน scb ขอเบอร?ตืดต่อเพราะคุย ...</td>\n",
              "      <td>Staff Quality</td>\n",
              "      <td>4</td>\n",
              "      <td>negative</td>\n",
              "      <td>n</td>\n",
              "      <td>scb_thailand| |เรียน| |scb| |ขอ|เบอร| |ตืด|ต่อ...</td>\n",
              "      <td>@scb_thailand studied scb.</td>\n",
              "    </tr>\n",
              "    <tr>\n",
              "      <th>4</th>\n",
              "      <td>4</td>\n",
              "      <td>4</td>\n",
              "      <td>SocialFSI_v4_0_mutiple_train_sampling8203_2021...</td>\n",
              "      <td>SocialFSI_TrainSCB-SocialFilterV2_Sampling2750...</td>\n",
              "      <td>NaN</td>\n",
              "      <td>NaN</td>\n",
              "      <td>SocialMedia</td>\n",
              "      <td>Twitter</td>\n",
              "      <td>28297653</td>\n",
              "      <td>Q202106_2021</td>\n",
              "      <td>Q202106_2021_1</td>\n",
              "      <td>ไอเลิ้บ TMB All Free มาก แต่ช่วยพัฒนาแอพให้สเถ...</td>\n",
              "      <td>ไอเลิ้บ TMB All Free มาก</td>\n",
              "      <td>Product and Service, Usage and Condition</td>\n",
              "      <td>8</td>\n",
              "      <td>positive</td>\n",
              "      <td>p</td>\n",
              "      <td>ไอ|เลิ้บ| |tmb_all_free| |มาก|</td>\n",
              "      <td>Ib TMB All Free. But it helps to improve apps....</td>\n",
              "    </tr>\n",
              "  </tbody>\n",
              "</table>\n",
              "</div>\n",
              "      <button class=\"colab-df-convert\" onclick=\"convertToInteractive('df-8cca7640-f84d-40a0-86b2-311650c3b54b')\"\n",
              "              title=\"Convert this dataframe to an interactive table.\"\n",
              "              style=\"display:none;\">\n",
              "        \n",
              "  <svg xmlns=\"http://www.w3.org/2000/svg\" height=\"24px\"viewBox=\"0 0 24 24\"\n",
              "       width=\"24px\">\n",
              "    <path d=\"M0 0h24v24H0V0z\" fill=\"none\"/>\n",
              "    <path d=\"M18.56 5.44l.94 2.06.94-2.06 2.06-.94-2.06-.94-.94-2.06-.94 2.06-2.06.94zm-11 1L8.5 8.5l.94-2.06 2.06-.94-2.06-.94L8.5 2.5l-.94 2.06-2.06.94zm10 10l.94 2.06.94-2.06 2.06-.94-2.06-.94-.94-2.06-.94 2.06-2.06.94z\"/><path d=\"M17.41 7.96l-1.37-1.37c-.4-.4-.92-.59-1.43-.59-.52 0-1.04.2-1.43.59L10.3 9.45l-7.72 7.72c-.78.78-.78 2.05 0 2.83L4 21.41c.39.39.9.59 1.41.59.51 0 1.02-.2 1.41-.59l7.78-7.78 2.81-2.81c.8-.78.8-2.07 0-2.86zM5.41 20L4 18.59l7.72-7.72 1.47 1.35L5.41 20z\"/>\n",
              "  </svg>\n",
              "      </button>\n",
              "      \n",
              "  <style>\n",
              "    .colab-df-container {\n",
              "      display:flex;\n",
              "      flex-wrap:wrap;\n",
              "      gap: 12px;\n",
              "    }\n",
              "\n",
              "    .colab-df-convert {\n",
              "      background-color: #E8F0FE;\n",
              "      border: none;\n",
              "      border-radius: 50%;\n",
              "      cursor: pointer;\n",
              "      display: none;\n",
              "      fill: #1967D2;\n",
              "      height: 32px;\n",
              "      padding: 0 0 0 0;\n",
              "      width: 32px;\n",
              "    }\n",
              "\n",
              "    .colab-df-convert:hover {\n",
              "      background-color: #E2EBFA;\n",
              "      box-shadow: 0px 1px 2px rgba(60, 64, 67, 0.3), 0px 1px 3px 1px rgba(60, 64, 67, 0.15);\n",
              "      fill: #174EA6;\n",
              "    }\n",
              "\n",
              "    [theme=dark] .colab-df-convert {\n",
              "      background-color: #3B4455;\n",
              "      fill: #D2E3FC;\n",
              "    }\n",
              "\n",
              "    [theme=dark] .colab-df-convert:hover {\n",
              "      background-color: #434B5C;\n",
              "      box-shadow: 0px 1px 3px 1px rgba(0, 0, 0, 0.15);\n",
              "      filter: drop-shadow(0px 1px 2px rgba(0, 0, 0, 0.3));\n",
              "      fill: #FFFFFF;\n",
              "    }\n",
              "  </style>\n",
              "\n",
              "      <script>\n",
              "        const buttonEl =\n",
              "          document.querySelector('#df-8cca7640-f84d-40a0-86b2-311650c3b54b button.colab-df-convert');\n",
              "        buttonEl.style.display =\n",
              "          google.colab.kernel.accessAllowed ? 'block' : 'none';\n",
              "\n",
              "        async function convertToInteractive(key) {\n",
              "          const element = document.querySelector('#df-8cca7640-f84d-40a0-86b2-311650c3b54b');\n",
              "          const dataTable =\n",
              "            await google.colab.kernel.invokeFunction('convertToInteractive',\n",
              "                                                     [key], {});\n",
              "          if (!dataTable) return;\n",
              "\n",
              "          const docLinkHtml = 'Like what you see? Visit the ' +\n",
              "            '<a target=\"_blank\" href=https://colab.research.google.com/notebooks/data_table.ipynb>data table notebook</a>'\n",
              "            + ' to learn more about interactive tables.';\n",
              "          element.innerHTML = '';\n",
              "          dataTable['output_type'] = 'display_data';\n",
              "          await google.colab.output.renderOutput(dataTable, element);\n",
              "          const docLink = document.createElement('div');\n",
              "          docLink.innerHTML = docLinkHtml;\n",
              "          element.appendChild(docLink);\n",
              "        }\n",
              "      </script>\n",
              "    </div>\n",
              "  </div>\n",
              "  "
            ]
          },
          "metadata": {},
          "execution_count": 4
        }
      ]
    },
    {
      "cell_type": "code",
      "source": [
        "train['Human_CategoryID'].value_counts().sort_index(ascending=True)"
      ],
      "metadata": {
        "colab": {
          "base_uri": "https://localhost:8080/"
        },
        "id": "HA6bOeakDu5L",
        "outputId": "ce3d5731-3a7f-426a-83b2-fe77bf0337d0"
      },
      "execution_count": 5,
      "outputs": [
        {
          "output_type": "execute_result",
          "data": {
            "text/plain": [
              "1      185\n",
              "2       16\n",
              "3      377\n",
              "4      522\n",
              "5     1163\n",
              "6     1109\n",
              "7     3275\n",
              "8     2454\n",
              "9      153\n",
              "10     379\n",
              "11     232\n",
              "12     152\n",
              "13    2133\n",
              "Name: Human_CategoryID, dtype: int64"
            ]
          },
          "metadata": {},
          "execution_count": 5
        }
      ]
    },
    {
      "cell_type": "markdown",
      "source": [
        "#Translation"
      ],
      "metadata": {
        "id": "-Hi7_QknsJKg"
      }
    },
    {
      "cell_type": "code",
      "source": [
        "from pythainlp.translate import Translate\n",
        "th2en = Translate('th', 'en')"
      ],
      "metadata": {
        "colab": {
          "base_uri": "https://localhost:8080/",
          "height": 418
        },
        "id": "N29J9c5W6UcK",
        "outputId": "8ca40156-d8b0-4513-d21e-3fb1438cc291"
      },
      "execution_count": null,
      "outputs": [
        {
          "output_type": "stream",
          "name": "stderr",
          "text": [
            "2022-07-07 10:18:45 | INFO | fairseq.tasks.text_to_speech | Please install tensorboardX: pip install tensorboardX\n"
          ]
        },
        {
          "output_type": "stream",
          "name": "stdout",
          "text": [
            "Corpus: scb_1m_th-en_spm\n",
            "- Downloading: scb_1m_th-en_spm 1.0\n"
          ]
        },
        {
          "output_type": "stream",
          "name": "stderr",
          "text": [
            " 26%|██▌       | 180813824/703780432 [00:30<01:52, 4637889.74it/s]"
          ]
        },
        {
          "output_type": "error",
          "ename": "KeyboardInterrupt",
          "evalue": "ignored",
          "traceback": [
            "\u001b[0;31m---------------------------------------------------------------------------\u001b[0m",
            "\u001b[0;31mKeyboardInterrupt\u001b[0m                         Traceback (most recent call last)",
            "\u001b[0;32m<ipython-input-6-e9c916a5f08f>\u001b[0m in \u001b[0;36m<module>\u001b[0;34m()\u001b[0m\n\u001b[1;32m      1\u001b[0m \u001b[0;32mfrom\u001b[0m \u001b[0mpythainlp\u001b[0m\u001b[0;34m.\u001b[0m\u001b[0mtranslate\u001b[0m \u001b[0;32mimport\u001b[0m \u001b[0mTranslate\u001b[0m\u001b[0;34m\u001b[0m\u001b[0;34m\u001b[0m\u001b[0m\n\u001b[0;32m----> 2\u001b[0;31m \u001b[0mth2en\u001b[0m \u001b[0;34m=\u001b[0m \u001b[0mTranslate\u001b[0m\u001b[0;34m(\u001b[0m\u001b[0;34m'th'\u001b[0m\u001b[0;34m,\u001b[0m \u001b[0;34m'en'\u001b[0m\u001b[0;34m)\u001b[0m\u001b[0;34m\u001b[0m\u001b[0;34m\u001b[0m\u001b[0m\n\u001b[0m",
            "\u001b[0;32m/usr/local/lib/python3.7/dist-packages/pythainlp/translate/core.py\u001b[0m in \u001b[0;36m__init__\u001b[0;34m(self, src_lang, target_lang)\u001b[0m\n\u001b[1;32m     49\u001b[0m         \"\"\"\n\u001b[1;32m     50\u001b[0m         \u001b[0mself\u001b[0m\u001b[0;34m.\u001b[0m\u001b[0mmodel\u001b[0m \u001b[0;34m=\u001b[0m \u001b[0;32mNone\u001b[0m\u001b[0;34m\u001b[0m\u001b[0;34m\u001b[0m\u001b[0m\n\u001b[0;32m---> 51\u001b[0;31m         \u001b[0mself\u001b[0m\u001b[0;34m.\u001b[0m\u001b[0mload_model\u001b[0m\u001b[0;34m(\u001b[0m\u001b[0msrc_lang\u001b[0m\u001b[0;34m,\u001b[0m \u001b[0mtarget_lang\u001b[0m\u001b[0;34m)\u001b[0m\u001b[0;34m\u001b[0m\u001b[0;34m\u001b[0m\u001b[0m\n\u001b[0m\u001b[1;32m     52\u001b[0m \u001b[0;34m\u001b[0m\u001b[0m\n\u001b[1;32m     53\u001b[0m     \u001b[0;32mdef\u001b[0m \u001b[0mload_model\u001b[0m\u001b[0;34m(\u001b[0m\u001b[0mself\u001b[0m\u001b[0;34m,\u001b[0m \u001b[0msrc_lang\u001b[0m\u001b[0;34m:\u001b[0m \u001b[0mstr\u001b[0m\u001b[0;34m,\u001b[0m \u001b[0mtarget_lang\u001b[0m\u001b[0;34m:\u001b[0m \u001b[0mstr\u001b[0m\u001b[0;34m)\u001b[0m\u001b[0;34m:\u001b[0m\u001b[0;34m\u001b[0m\u001b[0;34m\u001b[0m\u001b[0m\n",
            "\u001b[0;32m/usr/local/lib/python3.7/dist-packages/pythainlp/translate/core.py\u001b[0m in \u001b[0;36mload_model\u001b[0;34m(self, src_lang, target_lang)\u001b[0m\n\u001b[1;32m     54\u001b[0m         \u001b[0;32mif\u001b[0m \u001b[0msrc_lang\u001b[0m \u001b[0;34m==\u001b[0m \u001b[0;34m\"th\"\u001b[0m \u001b[0;32mand\u001b[0m \u001b[0mtarget_lang\u001b[0m \u001b[0;34m==\u001b[0m \u001b[0;34m\"en\"\u001b[0m\u001b[0;34m:\u001b[0m\u001b[0;34m\u001b[0m\u001b[0;34m\u001b[0m\u001b[0m\n\u001b[1;32m     55\u001b[0m             \u001b[0;32mfrom\u001b[0m \u001b[0mpythainlp\u001b[0m\u001b[0;34m.\u001b[0m\u001b[0mtranslate\u001b[0m\u001b[0;34m.\u001b[0m\u001b[0men_th\u001b[0m \u001b[0;32mimport\u001b[0m \u001b[0mThEnTranslator\u001b[0m\u001b[0;34m\u001b[0m\u001b[0;34m\u001b[0m\u001b[0m\n\u001b[0;32m---> 56\u001b[0;31m             \u001b[0mself\u001b[0m\u001b[0;34m.\u001b[0m\u001b[0mmodel\u001b[0m \u001b[0;34m=\u001b[0m \u001b[0mThEnTranslator\u001b[0m\u001b[0;34m(\u001b[0m\u001b[0;34m)\u001b[0m\u001b[0;34m\u001b[0m\u001b[0;34m\u001b[0m\u001b[0m\n\u001b[0m\u001b[1;32m     57\u001b[0m         \u001b[0;32melif\u001b[0m \u001b[0msrc_lang\u001b[0m \u001b[0;34m==\u001b[0m \u001b[0;34m\"en\"\u001b[0m \u001b[0;32mand\u001b[0m \u001b[0mtarget_lang\u001b[0m \u001b[0;34m==\u001b[0m \u001b[0;34m\"th\"\u001b[0m\u001b[0;34m:\u001b[0m\u001b[0;34m\u001b[0m\u001b[0;34m\u001b[0m\u001b[0m\n\u001b[1;32m     58\u001b[0m             \u001b[0;32mfrom\u001b[0m \u001b[0mpythainlp\u001b[0m\u001b[0;34m.\u001b[0m\u001b[0mtranslate\u001b[0m\u001b[0;34m.\u001b[0m\u001b[0men_th\u001b[0m \u001b[0;32mimport\u001b[0m \u001b[0mEnThTranslator\u001b[0m\u001b[0;34m\u001b[0m\u001b[0;34m\u001b[0m\u001b[0m\n",
            "\u001b[0;32m/usr/local/lib/python3.7/dist-packages/pythainlp/translate/en_th.py\u001b[0m in \u001b[0;36m__init__\u001b[0;34m(self)\u001b[0m\n\u001b[1;32m    115\u001b[0m         \u001b[0mself\u001b[0m\u001b[0;34m.\u001b[0m\u001b[0m_model_name\u001b[0m \u001b[0;34m=\u001b[0m \u001b[0m_TH_EN_MODEL_NAME\u001b[0m\u001b[0;34m\u001b[0m\u001b[0;34m\u001b[0m\u001b[0m\n\u001b[1;32m    116\u001b[0m \u001b[0;34m\u001b[0m\u001b[0m\n\u001b[0;32m--> 117\u001b[0;31m         \u001b[0m_download_install\u001b[0m\u001b[0;34m(\u001b[0m\u001b[0mself\u001b[0m\u001b[0;34m.\u001b[0m\u001b[0m_model_name\u001b[0m\u001b[0;34m)\u001b[0m\u001b[0;34m\u001b[0m\u001b[0;34m\u001b[0m\u001b[0m\n\u001b[0m\u001b[1;32m    118\u001b[0m         self._model = TransformerModel.from_pretrained(\n\u001b[1;32m    119\u001b[0m             model_name_or_path=_get_translate_path(\n",
            "\u001b[0;32m/usr/local/lib/python3.7/dist-packages/pythainlp/translate/en_th.py\u001b[0m in \u001b[0;36m_download_install\u001b[0;34m(name)\u001b[0m\n\u001b[1;32m     32\u001b[0m \u001b[0;34m\u001b[0m\u001b[0m\n\u001b[1;32m     33\u001b[0m \u001b[0;32mdef\u001b[0m \u001b[0m_download_install\u001b[0m\u001b[0;34m(\u001b[0m\u001b[0mname\u001b[0m\u001b[0;34m:\u001b[0m \u001b[0mstr\u001b[0m\u001b[0;34m)\u001b[0m \u001b[0;34m->\u001b[0m \u001b[0;32mNone\u001b[0m\u001b[0;34m:\u001b[0m\u001b[0;34m\u001b[0m\u001b[0;34m\u001b[0m\u001b[0m\n\u001b[0;32m---> 34\u001b[0;31m     \u001b[0;32mif\u001b[0m \u001b[0mget_corpus_path\u001b[0m\u001b[0;34m(\u001b[0m\u001b[0mname\u001b[0m\u001b[0;34m)\u001b[0m \u001b[0;32mis\u001b[0m \u001b[0;32mNone\u001b[0m\u001b[0;34m:\u001b[0m\u001b[0;34m\u001b[0m\u001b[0;34m\u001b[0m\u001b[0m\n\u001b[0m\u001b[1;32m     35\u001b[0m         \u001b[0mdownload\u001b[0m\u001b[0;34m(\u001b[0m\u001b[0mname\u001b[0m\u001b[0;34m,\u001b[0m \u001b[0mforce\u001b[0m\u001b[0;34m=\u001b[0m\u001b[0;32mTrue\u001b[0m\u001b[0;34m,\u001b[0m \u001b[0mversion\u001b[0m\u001b[0;34m=\u001b[0m\u001b[0;34m\"1.0\"\u001b[0m\u001b[0;34m)\u001b[0m\u001b[0;34m\u001b[0m\u001b[0;34m\u001b[0m\u001b[0m\n\u001b[1;32m     36\u001b[0m         \u001b[0mtar\u001b[0m \u001b[0;34m=\u001b[0m \u001b[0mtarfile\u001b[0m\u001b[0;34m.\u001b[0m\u001b[0mopen\u001b[0m\u001b[0;34m(\u001b[0m\u001b[0mget_corpus_path\u001b[0m\u001b[0;34m(\u001b[0m\u001b[0mname\u001b[0m\u001b[0;34m)\u001b[0m\u001b[0;34m,\u001b[0m \u001b[0;34m\"r:gz\"\u001b[0m\u001b[0;34m)\u001b[0m\u001b[0;34m\u001b[0m\u001b[0;34m\u001b[0m\u001b[0m\n",
            "\u001b[0;32m/usr/local/lib/python3.7/dist-packages/pythainlp/corpus/core.py\u001b[0m in \u001b[0;36mget_corpus_path\u001b[0;34m(name, version)\u001b[0m\n\u001b[1;32m    203\u001b[0m \u001b[0;34m\u001b[0m\u001b[0m\n\u001b[1;32m    204\u001b[0m     \u001b[0;32mif\u001b[0m \u001b[0;32mnot\u001b[0m \u001b[0mcorpus_db_detail\u001b[0m \u001b[0;32mor\u001b[0m \u001b[0;32mnot\u001b[0m \u001b[0mcorpus_db_detail\u001b[0m\u001b[0;34m.\u001b[0m\u001b[0mget\u001b[0m\u001b[0;34m(\u001b[0m\u001b[0;34m\"filename\"\u001b[0m\u001b[0;34m)\u001b[0m\u001b[0;34m:\u001b[0m\u001b[0;34m\u001b[0m\u001b[0;34m\u001b[0m\u001b[0m\n\u001b[0;32m--> 205\u001b[0;31m         \u001b[0mdownload\u001b[0m\u001b[0;34m(\u001b[0m\u001b[0mname\u001b[0m\u001b[0;34m,\u001b[0m  \u001b[0mversion\u001b[0m \u001b[0;34m=\u001b[0m  \u001b[0mversion\u001b[0m\u001b[0;34m)\u001b[0m\u001b[0;34m\u001b[0m\u001b[0;34m\u001b[0m\u001b[0m\n\u001b[0m\u001b[1;32m    206\u001b[0m         \u001b[0mcorpus_db_detail\u001b[0m \u001b[0;34m=\u001b[0m \u001b[0mget_corpus_db_detail\u001b[0m\u001b[0;34m(\u001b[0m\u001b[0mname\u001b[0m\u001b[0;34m)\u001b[0m\u001b[0;34m\u001b[0m\u001b[0;34m\u001b[0m\u001b[0m\n\u001b[1;32m    207\u001b[0m \u001b[0;34m\u001b[0m\u001b[0m\n",
            "\u001b[0;32m/usr/local/lib/python3.7/dist-packages/pythainlp/corpus/core.py\u001b[0m in \u001b[0;36mdownload\u001b[0;34m(name, force, url, version)\u001b[0m\n\u001b[1;32m    406\u001b[0m             \u001b[0mprint\u001b[0m\u001b[0;34m(\u001b[0m\u001b[0;34mf\"- Downloading: {name} {version}\"\u001b[0m\u001b[0;34m)\u001b[0m\u001b[0;34m\u001b[0m\u001b[0;34m\u001b[0m\u001b[0m\n\u001b[1;32m    407\u001b[0m             _download(\n\u001b[0;32m--> 408\u001b[0;31m                 \u001b[0mcorpus_versions\u001b[0m\u001b[0;34m[\u001b[0m\u001b[0;34m\"download_url\"\u001b[0m\u001b[0;34m]\u001b[0m\u001b[0;34m,\u001b[0m \u001b[0mfile_name\u001b[0m\u001b[0;34m,\u001b[0m\u001b[0;34m\u001b[0m\u001b[0;34m\u001b[0m\u001b[0m\n\u001b[0m\u001b[1;32m    409\u001b[0m             )\n\u001b[1;32m    410\u001b[0m             _check_hash(\n",
            "\u001b[0;32m/usr/local/lib/python3.7/dist-packages/pythainlp/corpus/core.py\u001b[0m in \u001b[0;36m_download\u001b[0;34m(url, dst)\u001b[0m\n\u001b[1;32m    238\u001b[0m             \u001b[0mpbar\u001b[0m \u001b[0;34m=\u001b[0m \u001b[0;32mNone\u001b[0m\u001b[0;34m\u001b[0m\u001b[0;34m\u001b[0m\u001b[0m\n\u001b[1;32m    239\u001b[0m \u001b[0;34m\u001b[0m\u001b[0m\n\u001b[0;32m--> 240\u001b[0;31m         \u001b[0;32mfor\u001b[0m \u001b[0mchunk\u001b[0m \u001b[0;32min\u001b[0m \u001b[0mr\u001b[0m\u001b[0;34m.\u001b[0m\u001b[0miter_content\u001b[0m\u001b[0;34m(\u001b[0m\u001b[0mchunk_size\u001b[0m\u001b[0;34m=\u001b[0m\u001b[0m_CHUNK_SIZE\u001b[0m\u001b[0;34m)\u001b[0m\u001b[0;34m:\u001b[0m\u001b[0;34m\u001b[0m\u001b[0;34m\u001b[0m\u001b[0m\n\u001b[0m\u001b[1;32m    241\u001b[0m             \u001b[0;32mif\u001b[0m \u001b[0mchunk\u001b[0m\u001b[0;34m:\u001b[0m\u001b[0;34m\u001b[0m\u001b[0;34m\u001b[0m\u001b[0m\n\u001b[1;32m    242\u001b[0m                 \u001b[0mf\u001b[0m\u001b[0;34m.\u001b[0m\u001b[0mwrite\u001b[0m\u001b[0;34m(\u001b[0m\u001b[0mchunk\u001b[0m\u001b[0;34m)\u001b[0m\u001b[0;34m\u001b[0m\u001b[0;34m\u001b[0m\u001b[0m\n",
            "\u001b[0;32m/usr/local/lib/python3.7/dist-packages/requests/models.py\u001b[0m in \u001b[0;36mgenerate\u001b[0;34m()\u001b[0m\n\u001b[1;32m    814\u001b[0m             \u001b[0;32mif\u001b[0m \u001b[0mhasattr\u001b[0m\u001b[0;34m(\u001b[0m\u001b[0mself\u001b[0m\u001b[0;34m.\u001b[0m\u001b[0mraw\u001b[0m\u001b[0;34m,\u001b[0m \u001b[0;34m\"stream\"\u001b[0m\u001b[0;34m)\u001b[0m\u001b[0;34m:\u001b[0m\u001b[0;34m\u001b[0m\u001b[0;34m\u001b[0m\u001b[0m\n\u001b[1;32m    815\u001b[0m                 \u001b[0;32mtry\u001b[0m\u001b[0;34m:\u001b[0m\u001b[0;34m\u001b[0m\u001b[0;34m\u001b[0m\u001b[0m\n\u001b[0;32m--> 816\u001b[0;31m                     \u001b[0;32myield\u001b[0m \u001b[0;32mfrom\u001b[0m \u001b[0mself\u001b[0m\u001b[0;34m.\u001b[0m\u001b[0mraw\u001b[0m\u001b[0;34m.\u001b[0m\u001b[0mstream\u001b[0m\u001b[0;34m(\u001b[0m\u001b[0mchunk_size\u001b[0m\u001b[0;34m,\u001b[0m \u001b[0mdecode_content\u001b[0m\u001b[0;34m=\u001b[0m\u001b[0;32mTrue\u001b[0m\u001b[0;34m)\u001b[0m\u001b[0;34m\u001b[0m\u001b[0;34m\u001b[0m\u001b[0m\n\u001b[0m\u001b[1;32m    817\u001b[0m                 \u001b[0;32mexcept\u001b[0m \u001b[0mProtocolError\u001b[0m \u001b[0;32mas\u001b[0m \u001b[0me\u001b[0m\u001b[0;34m:\u001b[0m\u001b[0;34m\u001b[0m\u001b[0;34m\u001b[0m\u001b[0m\n\u001b[1;32m    818\u001b[0m                     \u001b[0;32mraise\u001b[0m \u001b[0mChunkedEncodingError\u001b[0m\u001b[0;34m(\u001b[0m\u001b[0me\u001b[0m\u001b[0;34m)\u001b[0m\u001b[0;34m\u001b[0m\u001b[0;34m\u001b[0m\u001b[0m\n",
            "\u001b[0;32m/usr/local/lib/python3.7/dist-packages/urllib3/response.py\u001b[0m in \u001b[0;36mstream\u001b[0;34m(self, amt, decode_content)\u001b[0m\n\u001b[1;32m    494\u001b[0m         \u001b[0;32melse\u001b[0m\u001b[0;34m:\u001b[0m\u001b[0;34m\u001b[0m\u001b[0;34m\u001b[0m\u001b[0m\n\u001b[1;32m    495\u001b[0m             \u001b[0;32mwhile\u001b[0m \u001b[0;32mnot\u001b[0m \u001b[0mis_fp_closed\u001b[0m\u001b[0;34m(\u001b[0m\u001b[0mself\u001b[0m\u001b[0;34m.\u001b[0m\u001b[0m_fp\u001b[0m\u001b[0;34m)\u001b[0m\u001b[0;34m:\u001b[0m\u001b[0;34m\u001b[0m\u001b[0;34m\u001b[0m\u001b[0m\n\u001b[0;32m--> 496\u001b[0;31m                 \u001b[0mdata\u001b[0m \u001b[0;34m=\u001b[0m \u001b[0mself\u001b[0m\u001b[0;34m.\u001b[0m\u001b[0mread\u001b[0m\u001b[0;34m(\u001b[0m\u001b[0mamt\u001b[0m\u001b[0;34m=\u001b[0m\u001b[0mamt\u001b[0m\u001b[0;34m,\u001b[0m \u001b[0mdecode_content\u001b[0m\u001b[0;34m=\u001b[0m\u001b[0mdecode_content\u001b[0m\u001b[0;34m)\u001b[0m\u001b[0;34m\u001b[0m\u001b[0;34m\u001b[0m\u001b[0m\n\u001b[0m\u001b[1;32m    497\u001b[0m \u001b[0;34m\u001b[0m\u001b[0m\n\u001b[1;32m    498\u001b[0m                 \u001b[0;32mif\u001b[0m \u001b[0mdata\u001b[0m\u001b[0;34m:\u001b[0m\u001b[0;34m\u001b[0m\u001b[0;34m\u001b[0m\u001b[0m\n",
            "\u001b[0;32m/usr/local/lib/python3.7/dist-packages/urllib3/response.py\u001b[0m in \u001b[0;36mread\u001b[0;34m(self, amt, decode_content, cache_content)\u001b[0m\n\u001b[1;32m    442\u001b[0m             \u001b[0;32melse\u001b[0m\u001b[0;34m:\u001b[0m\u001b[0;34m\u001b[0m\u001b[0;34m\u001b[0m\u001b[0m\n\u001b[1;32m    443\u001b[0m                 \u001b[0mcache_content\u001b[0m \u001b[0;34m=\u001b[0m \u001b[0;32mFalse\u001b[0m\u001b[0;34m\u001b[0m\u001b[0;34m\u001b[0m\u001b[0m\n\u001b[0;32m--> 444\u001b[0;31m                 \u001b[0mdata\u001b[0m \u001b[0;34m=\u001b[0m \u001b[0mself\u001b[0m\u001b[0;34m.\u001b[0m\u001b[0m_fp\u001b[0m\u001b[0;34m.\u001b[0m\u001b[0mread\u001b[0m\u001b[0;34m(\u001b[0m\u001b[0mamt\u001b[0m\u001b[0;34m)\u001b[0m\u001b[0;34m\u001b[0m\u001b[0;34m\u001b[0m\u001b[0m\n\u001b[0m\u001b[1;32m    445\u001b[0m                 \u001b[0;32mif\u001b[0m \u001b[0mamt\u001b[0m \u001b[0;34m!=\u001b[0m \u001b[0;36m0\u001b[0m \u001b[0;32mand\u001b[0m \u001b[0;32mnot\u001b[0m \u001b[0mdata\u001b[0m\u001b[0;34m:\u001b[0m  \u001b[0;31m# Platform-specific: Buggy versions of Python.\u001b[0m\u001b[0;34m\u001b[0m\u001b[0;34m\u001b[0m\u001b[0m\n\u001b[1;32m    446\u001b[0m                     \u001b[0;31m# Close the connection when no data is returned\u001b[0m\u001b[0;34m\u001b[0m\u001b[0;34m\u001b[0m\u001b[0;34m\u001b[0m\u001b[0m\n",
            "\u001b[0;32m/usr/lib/python3.7/http/client.py\u001b[0m in \u001b[0;36mread\u001b[0;34m(self, amt)\u001b[0m\n\u001b[1;32m    463\u001b[0m             \u001b[0;31m# Amount is given, implement using readinto\u001b[0m\u001b[0;34m\u001b[0m\u001b[0;34m\u001b[0m\u001b[0;34m\u001b[0m\u001b[0m\n\u001b[1;32m    464\u001b[0m             \u001b[0mb\u001b[0m \u001b[0;34m=\u001b[0m \u001b[0mbytearray\u001b[0m\u001b[0;34m(\u001b[0m\u001b[0mamt\u001b[0m\u001b[0;34m)\u001b[0m\u001b[0;34m\u001b[0m\u001b[0;34m\u001b[0m\u001b[0m\n\u001b[0;32m--> 465\u001b[0;31m             \u001b[0mn\u001b[0m \u001b[0;34m=\u001b[0m \u001b[0mself\u001b[0m\u001b[0;34m.\u001b[0m\u001b[0mreadinto\u001b[0m\u001b[0;34m(\u001b[0m\u001b[0mb\u001b[0m\u001b[0;34m)\u001b[0m\u001b[0;34m\u001b[0m\u001b[0;34m\u001b[0m\u001b[0m\n\u001b[0m\u001b[1;32m    466\u001b[0m             \u001b[0;32mreturn\u001b[0m \u001b[0mmemoryview\u001b[0m\u001b[0;34m(\u001b[0m\u001b[0mb\u001b[0m\u001b[0;34m)\u001b[0m\u001b[0;34m[\u001b[0m\u001b[0;34m:\u001b[0m\u001b[0mn\u001b[0m\u001b[0;34m]\u001b[0m\u001b[0;34m.\u001b[0m\u001b[0mtobytes\u001b[0m\u001b[0;34m(\u001b[0m\u001b[0;34m)\u001b[0m\u001b[0;34m\u001b[0m\u001b[0;34m\u001b[0m\u001b[0m\n\u001b[1;32m    467\u001b[0m         \u001b[0;32melse\u001b[0m\u001b[0;34m:\u001b[0m\u001b[0;34m\u001b[0m\u001b[0;34m\u001b[0m\u001b[0m\n",
            "\u001b[0;32m/usr/lib/python3.7/http/client.py\u001b[0m in \u001b[0;36mreadinto\u001b[0;34m(self, b)\u001b[0m\n\u001b[1;32m    507\u001b[0m         \u001b[0;31m# connection, and the user is reading more bytes than will be provided\u001b[0m\u001b[0;34m\u001b[0m\u001b[0;34m\u001b[0m\u001b[0;34m\u001b[0m\u001b[0m\n\u001b[1;32m    508\u001b[0m         \u001b[0;31m# (for example, reading in 1k chunks)\u001b[0m\u001b[0;34m\u001b[0m\u001b[0;34m\u001b[0m\u001b[0;34m\u001b[0m\u001b[0m\n\u001b[0;32m--> 509\u001b[0;31m         \u001b[0mn\u001b[0m \u001b[0;34m=\u001b[0m \u001b[0mself\u001b[0m\u001b[0;34m.\u001b[0m\u001b[0mfp\u001b[0m\u001b[0;34m.\u001b[0m\u001b[0mreadinto\u001b[0m\u001b[0;34m(\u001b[0m\u001b[0mb\u001b[0m\u001b[0;34m)\u001b[0m\u001b[0;34m\u001b[0m\u001b[0;34m\u001b[0m\u001b[0m\n\u001b[0m\u001b[1;32m    510\u001b[0m         \u001b[0;32mif\u001b[0m \u001b[0;32mnot\u001b[0m \u001b[0mn\u001b[0m \u001b[0;32mand\u001b[0m \u001b[0mb\u001b[0m\u001b[0;34m:\u001b[0m\u001b[0;34m\u001b[0m\u001b[0;34m\u001b[0m\u001b[0m\n\u001b[1;32m    511\u001b[0m             \u001b[0;31m# Ideally, we would raise IncompleteRead if the content-length\u001b[0m\u001b[0;34m\u001b[0m\u001b[0;34m\u001b[0m\u001b[0;34m\u001b[0m\u001b[0m\n",
            "\u001b[0;32m/usr/lib/python3.7/socket.py\u001b[0m in \u001b[0;36mreadinto\u001b[0;34m(self, b)\u001b[0m\n\u001b[1;32m    587\u001b[0m         \u001b[0;32mwhile\u001b[0m \u001b[0;32mTrue\u001b[0m\u001b[0;34m:\u001b[0m\u001b[0;34m\u001b[0m\u001b[0;34m\u001b[0m\u001b[0m\n\u001b[1;32m    588\u001b[0m             \u001b[0;32mtry\u001b[0m\u001b[0;34m:\u001b[0m\u001b[0;34m\u001b[0m\u001b[0;34m\u001b[0m\u001b[0m\n\u001b[0;32m--> 589\u001b[0;31m                 \u001b[0;32mreturn\u001b[0m \u001b[0mself\u001b[0m\u001b[0;34m.\u001b[0m\u001b[0m_sock\u001b[0m\u001b[0;34m.\u001b[0m\u001b[0mrecv_into\u001b[0m\u001b[0;34m(\u001b[0m\u001b[0mb\u001b[0m\u001b[0;34m)\u001b[0m\u001b[0;34m\u001b[0m\u001b[0;34m\u001b[0m\u001b[0m\n\u001b[0m\u001b[1;32m    590\u001b[0m             \u001b[0;32mexcept\u001b[0m \u001b[0mtimeout\u001b[0m\u001b[0;34m:\u001b[0m\u001b[0;34m\u001b[0m\u001b[0;34m\u001b[0m\u001b[0m\n\u001b[1;32m    591\u001b[0m                 \u001b[0mself\u001b[0m\u001b[0;34m.\u001b[0m\u001b[0m_timeout_occurred\u001b[0m \u001b[0;34m=\u001b[0m \u001b[0;32mTrue\u001b[0m\u001b[0;34m\u001b[0m\u001b[0;34m\u001b[0m\u001b[0m\n",
            "\u001b[0;32m/usr/lib/python3.7/ssl.py\u001b[0m in \u001b[0;36mrecv_into\u001b[0;34m(self, buffer, nbytes, flags)\u001b[0m\n\u001b[1;32m   1069\u001b[0m                   \u001b[0;34m\"non-zero flags not allowed in calls to recv_into() on %s\"\u001b[0m \u001b[0;34m%\u001b[0m\u001b[0;34m\u001b[0m\u001b[0;34m\u001b[0m\u001b[0m\n\u001b[1;32m   1070\u001b[0m                   self.__class__)\n\u001b[0;32m-> 1071\u001b[0;31m             \u001b[0;32mreturn\u001b[0m \u001b[0mself\u001b[0m\u001b[0;34m.\u001b[0m\u001b[0mread\u001b[0m\u001b[0;34m(\u001b[0m\u001b[0mnbytes\u001b[0m\u001b[0;34m,\u001b[0m \u001b[0mbuffer\u001b[0m\u001b[0;34m)\u001b[0m\u001b[0;34m\u001b[0m\u001b[0;34m\u001b[0m\u001b[0m\n\u001b[0m\u001b[1;32m   1072\u001b[0m         \u001b[0;32melse\u001b[0m\u001b[0;34m:\u001b[0m\u001b[0;34m\u001b[0m\u001b[0;34m\u001b[0m\u001b[0m\n\u001b[1;32m   1073\u001b[0m             \u001b[0;32mreturn\u001b[0m \u001b[0msuper\u001b[0m\u001b[0;34m(\u001b[0m\u001b[0;34m)\u001b[0m\u001b[0;34m.\u001b[0m\u001b[0mrecv_into\u001b[0m\u001b[0;34m(\u001b[0m\u001b[0mbuffer\u001b[0m\u001b[0;34m,\u001b[0m \u001b[0mnbytes\u001b[0m\u001b[0;34m,\u001b[0m \u001b[0mflags\u001b[0m\u001b[0;34m)\u001b[0m\u001b[0;34m\u001b[0m\u001b[0;34m\u001b[0m\u001b[0m\n",
            "\u001b[0;32m/usr/lib/python3.7/ssl.py\u001b[0m in \u001b[0;36mread\u001b[0;34m(self, len, buffer)\u001b[0m\n\u001b[1;32m    927\u001b[0m         \u001b[0;32mtry\u001b[0m\u001b[0;34m:\u001b[0m\u001b[0;34m\u001b[0m\u001b[0;34m\u001b[0m\u001b[0m\n\u001b[1;32m    928\u001b[0m             \u001b[0;32mif\u001b[0m \u001b[0mbuffer\u001b[0m \u001b[0;32mis\u001b[0m \u001b[0;32mnot\u001b[0m \u001b[0;32mNone\u001b[0m\u001b[0;34m:\u001b[0m\u001b[0;34m\u001b[0m\u001b[0;34m\u001b[0m\u001b[0m\n\u001b[0;32m--> 929\u001b[0;31m                 \u001b[0;32mreturn\u001b[0m \u001b[0mself\u001b[0m\u001b[0;34m.\u001b[0m\u001b[0m_sslobj\u001b[0m\u001b[0;34m.\u001b[0m\u001b[0mread\u001b[0m\u001b[0;34m(\u001b[0m\u001b[0mlen\u001b[0m\u001b[0;34m,\u001b[0m \u001b[0mbuffer\u001b[0m\u001b[0;34m)\u001b[0m\u001b[0;34m\u001b[0m\u001b[0;34m\u001b[0m\u001b[0m\n\u001b[0m\u001b[1;32m    930\u001b[0m             \u001b[0;32melse\u001b[0m\u001b[0;34m:\u001b[0m\u001b[0;34m\u001b[0m\u001b[0;34m\u001b[0m\u001b[0m\n\u001b[1;32m    931\u001b[0m                 \u001b[0;32mreturn\u001b[0m \u001b[0mself\u001b[0m\u001b[0;34m.\u001b[0m\u001b[0m_sslobj\u001b[0m\u001b[0;34m.\u001b[0m\u001b[0mread\u001b[0m\u001b[0;34m(\u001b[0m\u001b[0mlen\u001b[0m\u001b[0;34m)\u001b[0m\u001b[0;34m\u001b[0m\u001b[0;34m\u001b[0m\u001b[0m\n",
            "\u001b[0;31mKeyboardInterrupt\u001b[0m: "
          ]
        }
      ]
    },
    {
      "cell_type": "code",
      "source": [
        "#processing for 4 hours\n",
        "train['translated'] = train['Text_original'].apply(lambda x: th2en.translate(x))"
      ],
      "metadata": {
        "id": "o77MiHOf68qS"
      },
      "execution_count": null,
      "outputs": []
    },
    {
      "cell_type": "code",
      "source": [
        "train.head(5)"
      ],
      "metadata": {
        "id": "5fR8T_4N8eep"
      },
      "execution_count": null,
      "outputs": []
    },
    {
      "cell_type": "code",
      "source": [
        "train.to_csv('train_translated banking data.csv')"
      ],
      "metadata": {
        "id": "QWoIaW-orWvu"
      },
      "execution_count": null,
      "outputs": []
    },
    {
      "cell_type": "code",
      "source": [
        "#processing for 4 hours\n",
        "test['translated'] = test['Text_original'].apply(lambda x: th2en.translate(x))"
      ],
      "metadata": {
        "id": "p3NK1PIzrqpl"
      },
      "execution_count": null,
      "outputs": []
    },
    {
      "cell_type": "code",
      "source": [
        "test.head(5)"
      ],
      "metadata": {
        "id": "GBR5IGl3r2SQ"
      },
      "execution_count": null,
      "outputs": []
    },
    {
      "cell_type": "code",
      "source": [
        "train.to_csv('test_translated banking data.csv')"
      ],
      "metadata": {
        "id": "QYj8i0mRr3Nh"
      },
      "execution_count": null,
      "outputs": []
    },
    {
      "cell_type": "markdown",
      "source": [
        "#Create a Vocab"
      ],
      "metadata": {
        "id": "SF_gw2udAQY3"
      }
    },
    {
      "cell_type": "code",
      "source": [
        "vocab = Counter()\n",
        "def data_to_vocab(df):\n",
        "  for verbatim in df['translated']:\n",
        "    tokens = verbatim.split()\n",
        "    table = str.maketrans(\"\",\"\",string.punctuation)\n",
        "    tokens = [w.translate(table) for w in tokens]\n",
        "    tokens = [word for word in tokens if word.isalpha()]\n",
        "    stop_words = set(stopwords.words('english'))\n",
        "    tokens = [w for w in tokens if not w in stop_words]\n",
        "    tokens = [word for word in tokens if len(word)>1]\n",
        "    tokens = [word for word in tokens if len(tokens) > 4] #for EN, 1 or 4 gets similar results. 8 is better for 1%\n",
        "    vocab.update(tokens)\n",
        "\n",
        "data_to_vocab(train)\n",
        "\n",
        "print(len(vocab))\n",
        "vocab.most_common(10)"
      ],
      "metadata": {
        "id": "dbqj4fz4AhHB",
        "colab": {
          "base_uri": "https://localhost:8080/"
        },
        "outputId": "480158a1-1c4e-47a2-c80e-9bdd4a680891"
      },
      "execution_count": 33,
      "outputs": [
        {
          "output_type": "stream",
          "name": "stdout",
          "text": [
            "12205\n"
          ]
        },
        {
          "output_type": "execute_result",
          "data": {
            "text/plain": [
              "[('bank', 3867),\n",
              " ('money', 3366),\n",
              " ('card', 3103),\n",
              " ('Im', 2734),\n",
              " ('account', 2696),\n",
              " ('cant', 2170),\n",
              " ('app', 2129),\n",
              " ('The', 2129),\n",
              " ('Thailand', 2024),\n",
              " ('going', 1861)]"
            ]
          },
          "metadata": {},
          "execution_count": 33
        }
      ]
    },
    {
      "cell_type": "code",
      "source": [
        "min_occurence = 2\n",
        "tokens = [k for k, c in vocab.items() if c >= min_occurence]"
      ],
      "metadata": {
        "id": "lgt5YpKwA4OV"
      },
      "execution_count": 7,
      "outputs": []
    },
    {
      "cell_type": "code",
      "source": [
        "def save_list(lines, filename):\n",
        "  data = '\\n'.join(lines)\n",
        "  file = open(filename, 'w')\n",
        "  file.write(data)\n",
        "  file.close()\n",
        "  \n",
        "save_list(tokens, 'vocab.txt')"
      ],
      "metadata": {
        "id": "6WRSPUDvBSTK"
      },
      "execution_count": 8,
      "outputs": []
    },
    {
      "cell_type": "markdown",
      "source": [
        "#Train Embedding Layer"
      ],
      "metadata": {
        "id": "1U9_3A4GB3fV"
      }
    },
    {
      "cell_type": "code",
      "source": [
        "train_docs = train['translated']\n",
        "test_docs = test['translated']"
      ],
      "metadata": {
        "id": "uHLExRvJDxcL"
      },
      "execution_count": 9,
      "outputs": []
    },
    {
      "cell_type": "code",
      "source": [
        "def load_doc(filename):\n",
        "  file = open(filename, 'r')\n",
        "  text = file.read()\n",
        "  file.close()\n",
        "  return text\n",
        "\n",
        "vocab_filename = 'vocab.txt'\n",
        "vocab = load_doc(vocab_filename)\n",
        "vocab = vocab.split()\n",
        "vocab = set(vocab)\n",
        "print(vocab)"
      ],
      "metadata": {
        "id": "xH_CcW6OB6BF",
        "colab": {
          "base_uri": "https://localhost:8080/"
        },
        "outputId": "0bb0d0d3-e227-4902-e671-bac94731bbd1"
      },
      "execution_count": 10,
      "outputs": [
        {
          "output_type": "stream",
          "name": "stdout",
          "text": [
            "{'million', 'KSCBCim', 'mommy', 'Bring', 'cc', 'angry', 'weekend', 'mysterious', 'Chumsiri', 'solved', 'Money', 'village', 'bk', 'comment', 'Fs', 'TMRW', 'Srisawat', 'taxfree', 'approveable', 'ahead', 'lame', 'explanation', 'Patriots', 'dry', 'assistant', 'decisions', 'District', 'minichanchii', 'extremely', 'shot', 'strong', 'offices', 'loosen', 'luck', 'overall', 'pressing', 'Callnbspnbspcenter', 'loading', 'word', 'refresh', 'outpost', 'China', 'entering', 'location', 'spite', 'Short', 'dm', 'PBV', 'Naparat', 'Focus', 'shopee', 'Remedy', 'farm', 'Website', 'funny', 'default', 'setting', 'IRS', 'scan', 'ume', 'split', 'kyc', 'SCBplanet', 'ways', 'whether', 'shed', 'aTM', 'accused', 'Chanel', 'restructuring', 'securities', 'barf', 'cashfree', 'Mainly', 'PeckPalitchoke', 'backwards', 'basic', 'bugo', 'hackers', 'Taxi', 'lamer', 'punched', 'asked', 'prime', 'Initially', 'constituents', 'Any', 'AI', 'engine', 'constraints', 'specified', 'built', 'emergency', 'Wallace', 'human', 'street', 'KPLUS', 'effect', 'confusedI', 'cold', 'Declaration', 'unusable', 'hardest', 'wasted', 'MobileK', 'alert', 'overpayed', 'warrant', 'mediumsized', 'retransfered', 'kind', 'Bun', 'broker', 'conflict', 'slide', 'steps', 'Home', 'Plus', 'factor', 'Resolved', 'read', 'bangs', 'Bangkokkaya', 'dropping', 'boyfriends', 'amplified', 'prints', 'copying', 'Prapa', 'revenues', 'Wuhan', 'forth', 'helped', 'wad', 'Tried', 'abalones', 'kmy', 'reimbursing', 'affects', 'enormous', 'Speedy', 'burns', 'conceived', 'reached', 'picky', 'kidney', 'waterfilled', 'random', 'Great', 'overhead', 'offers', 'misunderstood', 'sudden', 'usedrnane', 'host', 'without', 'Wrong', 'Citibanks', 'hoping', 'compatible', 'apic', 'goes', 'knocking', 'Paragon', 'rate', 'running', 'Ieves', 'crazy', 'Each', 'Thailands', 'beautiful', 'platforms', 'hijacking', 'stay', 'Sign', 'unreachable', 'inquiry', 'KTEF', 'symbol', 'nearly', 'Bum', 'Nomuras', 'TOP', 'National', 'Amanny', 'Wiganda', 'brighter', 'ccTLD', 'situations', 'man', 'Suvarnabhumi', 'travel', 'invoice', 'bus', 'Precious', 'nuts', 'Commercial', 'pile', 'Scbeasyapp', 'MOU', 'Germany', 'bugger', 'Something', 'leader', 'plugged', 'Normally', 'electric', 'ATMCurrent', 'parents', 'quick', 'included', 'tens', 'accidentally', 'gourmet', 'hunch', 'jobs', 'Telephone', 'reader', 'Less', 'Update', 'homework', 'shiv', 'Outpost', 'calendar', 'blogs', 'conclusion', 'Walking', 'capital', 'America', 'paint', 'Confounded', 'answers', 'searched', 'Shares', 'windowsd', 'Need', 'fucker', 'front', 'iBanking', 'muchThe', 'changes', 'ate', 'Notification', 'butterflyuxu', 'nearest', 'cons', 'questions', 'Accredited', 'kbizcontactcentermirrorkasikornbankcom', 'Easy', 'offering', 'wait', 'Mastercard', 'Phase', 'lower', 'Going', 'couple', 'solo', 'license', 'end', 'irresponsible', 'Manton', 'bloody', 'Jack', 'surprise', 'logs', 'court', 'authorize', 'delayedtalk', 'divorced', 'mic', 'phonenbspnbsp', 'Bahtnbspnbsp', 'days', 'site', 'reenter', 'matters', 'Rangsit', 'Zhong', 'filled', 'transferd', 'correlate', 'Chubb', 'proscons', 'enters', 'checks', 'sim', 'section', 'breaks', 'ratings', 'Tipyas', 'Departments', 'teachers', 'adults', 'rightquot', 'overpaying', 'western', 'commercials', 'durable', 'proceed', 'Sass', 'wheres', 'stable', 'tree', 'highest', 'reading', 'crosscountry', 'meeting', 'wirojlak', 'Travelling', 'dying', 'KUSAAD', 'ltltlt', 'pops', 'Khon', 'Bache', 'Sirilak', 'evaluate', 'krungsri', 'Sree', 'unit', 'Unable', 'Page', 'ais', 'Gru', 'activities', 'jar', 'developed', 'satisfactory', 'flights', 'uptight', 'addresses', 'confidence', 'bookbanks', 'appnbspnbsp', 'keep', 'Refinance', 'overnbsp', 'removing', 'Foodpanda', 'request', 'Thaks', 'whos', 'auto', 'slider', 'Locked', 'bahtnbspnbspfor', 'WiFi', 'How', 'Mall', 'incompetent', 'Xin', 'Everyone', 'badit', 'hundreddollar', 'sits', 'atomorbot', 'correctly', 'Big', 'emptyhanded', 'Hokkaido', 'Trade', 'messageIt', 'anymore', 'Cigna', 'rental', 'Solitaire', 'AIS', 'mobile', 'Father', 'Yearly', 'salvaged', 'Eiebe', 'recovering', 'Tucchats', 'covital', 'coordinate', 'methods', 'Tian', 'BAAC', 'bars', 'preservation', 'offline', 'excluded', 'He', 'Closed', 'countryside', 'worried', 'biggest', 'Over', 'safari', 'You', 'Lppbh', 'guidance', 'Siam', 'If', 'At', 'Retired', 'Promo', 'vacation', 'intention', 'slots', 'advise', 'wants', 'erase', 'Preliminary', 'suddenly', 'balances', 'debt', 'loose', 'seen', 'reported', 'sword', 'required', 'dispenser', 'stabuck', 'Bush', 'introduce', 'meat', 'Robin', 'apologize', 'face', 'close', 'Payi', 'curry', 'worry', 'Taiampnbspnbspnot', 'cabinets', 'customer', 'might', 'CoffeeMateZTwinkleproud', 'limits', 'Barcode', 'selection', 'bunshee', 'paying', 'quiet', 'Nations', 'avoid', 'Checked', 'housing', 'self', 'Very', 'backtoback', 'none', 'openings', 'embarrassed', 'upset', 'rounds', 'TwittercomxxBXtFRFW', 'kids', 'amampnbspampnbspnbsp', 'bro', 'refills', 'second', 'whats', 'deduct', 'twice', 'obsolete', 'lockI', 'Guarantee', 'everyones', 'halfway', 'sure', 'restaurants', 'shows', 'dollars', 'transferers', 'PLANET', 'barn', 'Lotus', 'make', 'midnight', 'auditors', 'sue', 'happening', 'Oruma', 'wfh', 'lives', 'Master', 'prices', 'unapproved', 'skull', 'never', 'nok', 'Tesco', 'rule', 'FCMG', 'spelled', 'cord', 'deposition', 'depositdeposit', 'publicity', 'deliver', 'Blah', 'trash', 'begs', 'free', 'tapping', 'found', 'payable', 'yen', 'thanking', 'forward', 'Tell', 'queue', 'Uobs', 'years', 'Coordinating', 'mymo', 'Soldiers', 'finally', 'assessments', 'preliminary', 'offer', 'pm', 'Gerror', 'temporarily', 'lock', 'BCs', 'kebank', 'unlike', 'theme', 'large', 'mymonbspnbsp', 'Steaming', 'Ep', 'boat', 'control', 'accordingly', 'luxury', 'behavior', 'Sale', 'national', 'Klocenter', 'Embassy', 'ac', 'real', 'incident', 'borrower', 'warm', 'XDs', 'zipper', 'well', 'timetable', 'Ya', 'costs', 'spare', 'acceptance', 'Agent', 'situation', 'prefix', 'extending', 'doctors', 'name', 'Aw', 'deeds', 'Benefit', 'returns', 'Laos', 'MRT', 'Jiggy', 'improved', 'key', 'execute', 'wish', 'release', 'Sluggage', 'orders', 'terminal', 'quot', 'consultation', 'flowers', 'invest', 'crew', 'pin', 'ridges', 'Miracle', 'Safe', 'elses', 'edc', 'PEA', 'reread', 'offered', 'data', 'Registrar', 'INOX', 'scared', 'opens', 'Nonbook', 'Tail', 'Goat', 'technology', 'rural', 'incorrect', 'cloud', 'DM', 'carrying', 'Tak', 'suction', 'clarification', 'yearly', 'Thongsepee', 'shops', 'bluenbspnbsp', 'poured', 'compirmation', 'unlimited', 'putting', 'hospital', 'fool', 'unsubs', 'todayweek', 'confirm', 'flexi', 'Expire', 'recommendations', 'hasnt', 'thieves', 'elderly', 'Will', 'Who', 'Shop', 'gang', 'Hes', 'Stand', 'SCBSETE', 'kill', 'typically', 'Estimated', 'Waiting', 'Market', 'fun', 'turned', 'farmer', 'Tuesday', 'wav', 'Were', 'Payy', 'Recently', 'Chanoknan', 'comfort', 'protected', 'hang', 'ptts', 'Company', 'Unconditional', 'Demean', 'compilation', 'investors', 'speaks', 'Accounting', 'aftersales', 'initially', 'Wipada', 'moneys', 'class', 'desperate', 'Ubon', 'Harbor', 'short', 'Destination', 'company', 'credit', 'hungry', 'shown', 'boyfriend', 'Ask', 'considered', 'reset', 'starts', 'BANK', 'papers', 'bettervery', 'knowing', 'schools', 'incorrectly', 'Stm', 'question', 'scb', 'Trumans', 'hed', 'warned', 'fixing', 'divrari', 'Net', 'Howd', 'Omsins', 'detac', 'Arumati', 'spoken', 'principle', 'Application', 'wondered', 'starting', 'callcenter', 'sick', 'blog', 'Must', 'love', 'earned', 'ref', 'audio', 'Dolfinampnbspnbsp', 'payer', 'Klangsenna', 'PTT', 'paperwork', 'Thanshat', 'hacker', 'update', 'korean', 'itstaets', 'Love', 'Two', 'Registered', 'Asia', 'promotion', 'paynbspnbsp', 'red', 'walletnbspnbsp', 'amp', 'irritating', 'ofnbspnbsp', 'DB', 'highflowered', 'meets', 'ALL', 'game', 'Identification', 'calls', 'confuse', 'announcement', 'often', 'Immediate', 'Visa', 'Remind', 'Morgaged', 'hacking', 'Drive', 'brokes', 'Syre', 'algorithms', 'GSB', 'using', 'payout', 'corrected', 'LHnbspnbsp', 'An', 'owe', 'linked', 'replaced', 'IP', 'tells', 'ADM', 'twoday', 'rising', 'infected', 'Sales', 'zeng', 'overpriced', 'payin', 'owes', 'timeout', 'Beau', 'mBanking', 'groups', 'Paying', 'Bualuang', 'Ayutthaya', 'Saturdayweek', 'ConsRefill', 'expensive', 'agreed', 'selected', 'forest', 'applynbspnbsp', 'Years', 'bonuses', 'building', 'resigned', 'trend', 'theyre', 'Version', 'hide', 'Major', 'invoices', 'reminds', 'Kaen', 'staring', 'His', 'Mike', 'deposit', 'Fundclick', 'hopes', 'thousand', 'PVD', 'Gim', 'succumb', 'Kong', 'February', 'Dismiss', 'net', 'types', 'itI', 'saw', 'invalid', 'chopper', 'basis', 'Peak', 'Cardless', 'Rewards', 'countIm', 'Pong', 'UChoose', 'Google', 'suggested', 'agency', 'requesting', 'spot', 'employees', 'burden', 'names', 'Macondo', 'Ravel', 'sailors', 'Tonight', 'Filled', 'handing', 'sat', 'asset', 'nod', 'tootheturtle', 'shipping', 'websites', 'worked', 'reduction', 'PepoHimma', 'verify', 'notified', 'long', 'governments', 'Confirmation', 'Bummer', 'completes', 'hair', 'non', 'pocket', 'Hour', 'Deek', 'ideology', 'grade', 'geneyan', 'Theyve', 'besides', 'Mine', 'dreamed', 'us', 'reentry', 'flows', 'Purple', 'Which', 'reservations', 'generated', 'deep', 'Sitting', 'withdrew', 'reinstall', 'guaranteed', 'NAV', 'brocli', 'dare', 'value', 'Aliexpress', 'Applying', 'addition', 'blacklist', 'Passed', 'course', 'aeon', 'suited', 'sleepy', 'platinumlevel', 'thanks', 'busy', 'sleeping', 'Password', 'kaya', 'Backup', 'truck', 'bang', 'KEPT', 'institution', 'twitter', 'kicking', 'brave', 'nbsp', 'KClass', 'loads', 'programs', 'yelled', 'thursday', 'work', 'suspending', 'investor', 'Savingsin', 'jcb', 'topup', 'Walk', 'collects', 'breakfast', 'Klus', 'lane', 'relieve', 'agencies', 'shake', 'prefer', 'dispute', 'alerted', 'install', 'ThailandThailand', 'saved', 'applying', 'recover', 'counted', 'reinstitutes', 'involved', 'pair', 'KTBs', 'instead', 'callslinephase', 'affiliated', 'infuses', 'Account', 'ago', 'carry', 'hi', 'fits', 'pattern', 'closet', 'messages', 'BBL', 'assessed', 'permission', 'Card', 'GHB', 'stockholder', 'BBLsubstantial', 'reference', 'Cao', 'burglary', 'countries', 'buses', 'safe', 'bots', 'cos', 'usdampnbspnbspnbsp', 'userfriendly', 'superspecial', 'understand', 'learning', 'dogs', 'scam', 'tried', 'mortgaged', 'indicated', 'behaved', 'Dan', 'reachI', 'note', 'progress', 'secondhand', 'Business', 'insured', 'rejecting', 'Union', 'satisfaction', 'Teenagers', 'Bbl', 'Open', 'scbktb', 'drawing', 'badass', 'exceeded', 'Make', 'secret', 'Colcenter', 'yelling', 'disputegroupktb', 'ur', 'voice', 'throw', 'antibank', 'Fortunately', 'Lock', 'holds', 'CASH', 'tmbs', 'Bang', 'Premium', 'thatI', 'unable', 'Bangkapi', 'AMEX', 'Option', 'Inbox', 'refilled', 'cutter', 'realize', 'Borrow', 'Tuatm', 'Clearly', 'Angry', 'careful', 'Samsung', 'locked', 'turning', 'Kenzles', 'Call', 'retrieved', 'troublesome', 'Charged', 'Cp', 'BaSss', 'longawaited', 'condos', 'download', 'select', 'zerobahtscb', 'loyalty', 'brand', 'men', 'based', 'Euro', 'subscribe', 'deduction', 'return', 'Fundflow', 'Run', 'go', 'KContact', 'Received', 'looked', 'uobs', 'appliedIm', 'Intreovert', 'Generali', 'student', 'tow', 'yesterday', 'GapThananat', 'jars', 'AIAs', 'honest', 'convenience', 'longdistance', 'deny', 'Booking', 'organization', 'toampnbspampnbspUpdate', 'witness', 'membership', 'Seeing', 'weeps', 'April', 'allowance', 'unused', 'Enter', 'cutoff', 'reconsider', 'CENTER', 'dialed', 'received', 'saturday', 'swings', 'plane', 'save', 'affiliate', 'Set', 'semester', 'take', 'Substitute', 'suggests', 'completely', 'Whoever', 'cashed', 'chosen', 'Panish', 'sorry', 'SCBampnbspnbsp', 'NDID', 'snacks', 'clothes', 'connecting', 'staff', 'homes', 'wins', 'sitting', 'menu', 'scratching', 'smile', 'Bad', 'tfx', 'try', 'distribution', 'Read', 'deliveries', 'walking', 'understanding', 'Fast', 'nano', 'Paul', 'separate', 'news', 'independence', 'curious', 'belts', 'aliay', 'specials', 'By', 'respect', 'Recommend', 'improving', 'metaphor', 'designs', 'cashier', 'feasible', 'agree', 'Rungruang', 'workkma', 'pretty', 'recording', 'ordering', 'coupon', 'Student', 'criteria', 'donation', 'boyzana', 'getting', 'tour', 'restaurant', 'loss', 'accountOurs', 'edition', 'forever', 'Government', 'Czech', 'clarify', 'Project', 'Assistance', 'official', 'busmen', 'Mar', 'enrolling', 'Tmbs', 'funeral', 'BlC', 'tiring', 'block', 'loop', 'misinformed', 'aiming', 'BE', 'unscanned', 'rebate', 'gross', 'Busy', 'burdens', 'swinging', 'Af', 'rights', 'They', 'size', 'claims', 'tie', 'Kbankx', 'ads', 'approves', 'freefeeing', 'dinner', 'cooperatives', 'towing', 'Back', 'Robinson', 'TMBALLFREE', 'dualuang', 'HttpstcoYCjslQvbHO', 'Grusrik', 'omsin', 'Khmers', 'Subsidiaries', 'paragon', 'delayed', 'portfolio', 'empty', 'reputation', 'present', 'reduced', 'offbook', 'PTTGC', 'havent', 'ARK', 'shipment', 'future', 'Revenue', 'enforced', 'canter', 'Cap', 'nine', 'cells', 'scbnbspnbsp', 'SCBAM', 'repeating', 'orange', 'handling', 'Tickets', 'Kowi', 'mc', 'BOI', 'Prepare', 'wanting', 'assuming', 'collapsed', 'Book', 'Choose', 'shit', 'shorter', 'chased', 'color', 'Messenger', 'Play', 'PLUS', 'editors', 'doctor', 'KBankWhy', 'Octnbspnbsp', 'Investing', 'Stop', 'Isas', 'normal', 'Abalone', 'January', 'Other', 'KCyber', 'discredited', 'Ive', 'suitable', 'autodeposit', 'cash', 'may', 'clients', 'Peoples', 'mine', 'Amen', 'high', 'Clinic', 'bills', 'labeled', 'verifiedampnbspnbsp', 'On', 'group', 'asap', 'Now', 'notice', 'minutes', 'cycles', 'logging', 'development', 'cancellations', 'Czechburo', 'threeyear', 'replyKrungthaiThaiKrungthaiCarre', 'see', 'signed', 'sometimes', 'starters', 'parts', 'Bankers', 'youd', 'damned', 'fathers', 'Agoda', 'maids', 'briven', 'PTTEP', 'public', 'Fund', 'Quick', 'contacted', 'inconvenience', 'When', 'blackpink', 'AirAsia', 'existing', 'Dadada', 'tricked', 'Me', 'acquaintance', 'prodigy', 'manual', 'blocked', 'Registration', 'Before', 'yanks', 'popping', 'blackeyed', 'Fixed', 'rookie', 'mybspnbsp', 'From', 'volumes', 'annoyances', 'pod', 'outbreak', 'active', 'SMS', 'sooner', 'inefficient', 'Tao', 'Ampquot', 'sales', 'neck', 'Its', 'Ions', 'divide', 'shouldnt', 'withdraw', 'Bua', 'birth', 'exceeds', 'House', 'Claucenter', 'open', 'normally', 'Choppy', 'rewards', 'agreement', 'ready', 'continued', 'clip', 'roast', 'term', 'Kitisak', 'new', 'Scan', 'fault', 'dangerous', 'Abbey', 'Lone', 'Generalis', 'Because', 'Suitable', 'withdrawn', 'KFC', 'Cr', 'Osaka', 'sleeps', 'American', 'FREE', 'sqhsn', 'Powerbuy', 'professional', 'extend', 'ride', 'MP', 'city', 'Paye', 'Anyone', 'OT', 'wealth', 'needing', 'loophole', 'attachment', 'Four', 'played', 'taxes', 'admit', 'secondsnbspnbsp', 'unloaded', 'downloading', 'unusually', 'clarified', 'yesterdays', 'Ads', 'booking', 'Chalida', 'curve', 'inbox', 'questioning', 'retransfer', 'Every', 'Kev', 'krungthaiNext', 'surprised', 'cutout', 'midOctober', 'mrt', 'clearing', 'taken', 'tips', 'Right', 'ids', 'takes', 'Thais', 'overdo', 'mbanking', 'Counter', 'JourneyBut', 'airport', 'com', 'thsnbsp', 'XX', 'decade', 'central', 'Amannys', 'State', 'expired', 'reviewsIm', 'KUSXNDQAA', 'TheChlxxx', 'fight', 'Allow', 'voting', 'blow', 'God', 'Prapaipit', 'private', 'since', 'backing', 'jewelry', 'Id', 'outside', 'regularly', 'Land', 'She', 'Marvins', 'serviced', 'guzen', 'Zeng', 'hung', 'met', 'caused', 'stream', 'CAD', 'believe', 'Financial', 'tap', 'sites', 'refueling', 'reach', 'responds', 'debit', 'problem', 'delays', 'lotus', 'manually', 'lifethreatening', 'falling', 'Pocket', 'burro', 'candidate', 'Whether', 'planet', 'youre', 'minds', 'Lazada', 'SCBRMGHC', 'coownership', 'SMs', 'huh', 'pink', 'international', 'fish', 'obligations', 'expo', 'Confirm', 'eyes', 'tesco', 'lying', 'Chon', 'Srithe', 'Thost', 'Station', 'inquiries', 'monthly', 'mix', 'suspension', 'KrungsriSimpleKrungthaiCarre', 'jumarn', 'checking', 'lotteriesBut', 'bounce', 'outlets', 'calculations', 'nbspUnionPayTPN', 'uob', 'Sms', 'market', 'eventually', 'following', 'japan', 'tired', 'inform', 'relentless', 'bookbank', 'www', 'great', 'Ib', 'comfortableIm', 'Having', 'tags', 'recruiter', 'commenting', 'courage', 'bounces', 'lie', 'Opening', 'longer', 'chasing', 'threads', 'root', 'pass', 'rescue', 'Dadadada', 'sms', 'Plan', 'transferer', 'ceiling', 'stops', 'eating', 'except', 'rhinoz', 'imagine', 'relock', 'CC', 'stand', 'ThaiPay', 'accountants', 'sometime', 'recommending', 'package', 'ktcs', 'starter', 'Class', 'bike', 'tick', 'visas', 'spears', 'Always', 'fully', 'prepaid', 'otp', 'Simple', 'codes', 'percentage', 'illegal', 'Port', 'algorithm', 'CallCenter', 'treatment', 'cashbacks', 'Cos', 'wallet', 'nagoya', 'senior', 'board', 'touchso', 'Bitcoin', 'answering', 'trader', 'Point', 'proclinics', 'sounds', 'receptionist', 'dealer', 'Booked', 'outdated', 'Indy', 'accepted', 'chips', 'midday', 'months', 'Rijing', 'Mars', 'Ministry', 'Songkain', 'oncredit', 'screaming', 'mermorandum', 'foundation', 'inexpensive', 'kicked', 'Cards', 'denial', 'commerce', 'leaveofthehour', 'includes', 'quit', 'lotteries', 'Chi', 'rely', 'instant', 'start', 'completed', 'upK', 'bending', 'bblam', 'requirements', 'land', 'entertained', 'Accounts', 'Thailandneck', 'inconvenient', 'behalf', 'Rueantan', 'express', 'Turns', 'Kyoto', 'Gray', 'Tuctic', 'Berutinomati', 'bass', 'sky', 'uncle', 'Records', 'dealing', 'splanet', 'fails', 'quality', 'roughly', 'Maladkrabang', 'advertised', 'unusual', 'rotten', 'SO', 'aba', 'Cause', 'km', 'father', 'af', 'coded', 'PM', 'Express', 'recurrence', 'June', 'supposed', 'venting', 'Deuty', 'ATS', 'discounts', 'lost', 'closed', 'claiming', 'decades', 'grad', 'Didnt', 'pdf', 'pele', 'weigh', 'loosened', 'Grey', 'ibanking', 'disturb', 'About', 'plantscb', 'coth', 'unfortunately', 'admire', 'Oct', 'studying', 'digits', 'taking', 'Adisak', 'banksubstantial', 'swords', 'condition', 'Whos', 'mechanic', 'scbsonline', 'Thought', 'Hall', 'Change', 'matched', 'Projects', 'allDoing', 'arrived', 'fast', 'lack', 'Office', 'downtown', 'yearlyIf', 'robbers', 'ChoicenbspKTC', 'loaners', 'missingappless', 'pictured', 'relevant', 'Ttb', 'along', 'damaged', 'clutter', 'Payment', 'prepared', 'Identity', 'evaluated', 'Bass', 'thing', 'page', 'Terikyu', 'Main', 'savings', 'Pinchuo', 'cashiers', 'thrilled', 'Banshee', 'Seven', 'across', 'reserved', 'AXA', 'parties', 'guarantees', 'Contacted', 'lottery', 'endings', 'clams', 'IDs', 'Shopee', 'TRADE', 'afford', 'person', 'Burirum', 'menus', 'screen', 'cui', 'viu', 'cancellation', 'others', 'Show', 'sharp', 'appointments', 'inverted', 'pawning', 'arrange', 'Chapter', 'require', 'style', 'agents', 'taetewyn', 'boxes', 'Importantly', 'Europe', 'voila', 'white', 'surcharge', 'ha', 'Round', 'Clearing', 'Sending', 'couldnt', 'moments', 'unless', 'checklist', 'unresolved', 'UI', 'Mess', 'Bangkok', 'offshore', 'review', 'approve', 'manners', 'informs', 'erm', 'girl', 'amazing', 'shift', 'tough', 'netbank', 'teach', 'differences', 'cocapitalists', 'school', 'vote', 'taxing', 'Lost', 'sound', 'problemOtan', 'Delivery', 'tops', 'tricky', 'reloads', 'Blue', 'ORDER', 'morningIm', 'Deposit', 'unpunished', 'told', 'commission', 'Skull', 'Ems', 'feels', 'trouble', 'cable', 'Takma', 'sir', 'iPhones', 'patient', 'SPOTIFY', 'graduate', 'consort', 'backup', 'recheck', 'eSAVINGS', 'approved', 'fans', 'OneSiam', 'Umay', 'hour', 'secondhands', 'reasons', 'dated', 'bats', 'Stable', 'rush', 'seemed', 'inquire', 'shoes', 'Justice', 'simplicity', 'five', 'crumbs', 'postal', 'kbank', 'count', 'nuns', 'httpstcoVDJArfSmph', 'alarm', 'PEC', 'Thanaca', 'dca', 'salaries', 'Ok', 'attached', 'atm', 'sbbs', 'Homicide', 'broke', 'KPlus', 'Pink', 'scale', 'guess', 'sleeper', 'failure', 'username', 'NPL', 'mostly', 'Amex', 'Jobs', 'Twitter', 'SSF', 'balancing', 'adjusted', 'broken', 'Chase', 'chose', 'stop', 'Signa', 'conducting', 'trunks', 'Kino', 'collecting', 'ignore', 'rent', 'AEONTS', 'lazy', 'within', 'burrow', 'Dunno', 'service', 'cashback', 'Keplus', 'making', 'Izd', 'horse', 'Guinea', 'odd', 'ideas', 'pictwittercomBWqGfGyAVn', 'confusedly', 'bot', 'develop', 'Select', 'ownership', 'wind', 'mom', 'Imy', 'Lanka', 'unavailable', 'keeps', 'nowI', 'Citi', 'itThai', 'pins', 'sree', 'disconnect', 'patience', 'division', 'Aww', 'floor', 'fraud', 'figure', 'dad', 'lik', 'showed', 'Payed', 'multiple', 'admiring', 'Om', 'instructions', 'Kbanks', 'entrepreneur', 'Thongchat', 'respond', 'lifestyle', 'demanding', 'coins', 'rootenergy', 'Zenem', 'ruthless', 'areas', 'move', 'confiscation', 'min', 'damage', 'tries', 'bag', 'nice', 'LEC', 'bubble', 'lawsuit', 'Kcash', 'baby', 'extra', 'hes', 'true', 'bbbexitt', 'returning', 'serveampnbspampnbsp', 'format', 'estimates', 'True', 'Livenbspnbsp', 'KrungthaiAXA', 'trees', 'bankIts', 'design', 'responded', 'certain', 'ones', 'mention', 'indicates', 'untruthful', 'waited', 'Unusable', 'pulling', 'people', 'track', 'sharks', 'focus', 'ktc', 'Prachinburi', 'contactless', 'reload', 'experience', 'thawisupcom', 'Gee', 'happens', 'Reverend', 'Ladys', 'payphone', 'canned', 'interesting', 'Ferris', 'rise', 'frame', 'interest', 'sit', 'early', 'store', 'Paypal', 'crosssection', 'Yes', 'rescheduled', 'bad', 'fingerprints', 'useful', 'charged', 'shopping', 'arranged', 'gray', 'Addmin', 'cities', 'build', 'behind', 'extension', 'retrieval', 'tofu', 'Week', 'Emquatier', 'insurance', 'reserve', 'Tevin', 'typical', 'voices', 'bankI', 'time', 'loaner', 'preferred', 'Wait', 'cancel', 'user', 'backed', 'lotthog', 'settle', 'truth', 'conscious', 'giving', 'wheeled', 'Think', 'robots', 'houses', 'Pump', 'Korea', 'recent', 'tastes', 'reads', 'fucked', 'Still', 'presses', 'TonsTweetings', 'profits', 'plant', 'confirmation', 'Sreedy', 'press', 'transferred', 'Atm', 'reimbursement', 'Baht', 'Ost', 'router', 'wash', 'curse', 'chances', 'bay', 'Chonburi', 'enterprises', 'Tel', 'My', 'Yu', 'planning', 'stalking', 'Charge', 'Windy', 'allfree', 'KTCs', 'test', 'etc', 'province', 'Ubonrat', 'escaping', 'promoted', 'VISA', 'Nan', 'including', 'summarized', 'break', 'borrowed', 'Tomorrow', 'fighting', 'detected', 'ID', 'shes', 'poison', 'Mould', 'servant', 'hesitant', 'CDM', 'emergencies', 'overflowing', 'karma', 'always', 'different', 'Scb', 'commercial', 'exception', 'applicated', 'smoothly', 'shareholders', 'Left', 'STATEMENT', 'summary', 'fourth', 'Privilege', 'Asked', 'Simply', 'banker', 'phonenet', 'weeks', 'Secondly', 'oh', 'displayed', 'concession', 'morning', 'Professor', 'duress', 'Saturdays', 'booker', 'Huh', 'decide', 'look', 'Tanshat', 'pardon', 'directs', 'margin', 'uses', 'Some', 'Verify', 'moonbackp', 'Jasmio', 'Citibank', 'airpay', 'Green', 'Personal', 'RangsitNakkor', 'shoe', 'mlive', 'ratingThe', 'domestic', 'Yeah', 'ice', 'badly', 'Theyre', 'MRTR', 'notify', 'theplanetIve', 'divided', 'thos', 'insisted', 'willing', 'Ticket', 'Sheikh', 'bugs', 'Tha', 'measures', 'counter', 'httpskmyinvestkasikornbankcom', 'Security', 'taught', 'silent', 'back', 'cryptographic', 'Lush', 'noncarding', 'Covit', 'database', 'recharge', 'didnt', 'skeptical', 'moving', 'Tour', 'owner', 'Contact', 'wave', 'conjunction', 'BDMS', 'Sept', 'KTz', 'brings', 'movies', 'correct', 'play', 'enabled', 'printed', 'nbspampnbsp', 'Ayun', 'goodbye', 'JTp', 'mother', 'Samut', 'AIRBNB', 'Currently', 'Agriculture', 'guys', 'Got', 'workers', 'Never', 'Eins', 'withdrawal', 'lash', 'currently', 'PS', 'citi', 'NL', 'Limousine', 'perfect', 'fines', 'added', 'idea', 'freelance', 'blur', 'activate', 'die', 'applicant', 'storage', 'KMyInvest', 'homeloan', 'Kowig', 'Check', 'connects', 'answer', 'thsnbspnbsp', 'Banker', 'woke', 'measure', 'submit', 'Fun', 'KSI', 'tend', 'hardly', 'ahjumma', 'opened', 'sme', 'seeing', 'shark', 'speaking', 'gmarket', 'submits', 'death', 'DService', 'addicts', 'Login', 'twoyear', 'Coordinates', 'limitA', 'Netherlands', 'bail', 'Askscbthailand', 'Angkid', 'Sch', 'Talk', 'party', 'advantage', 'sterilization', 'options', 'popcorn', 'officebank', 'Bangkokbank', 'gather', 'Jan', 'boro', 'trustworthy', 'embezzlement', 'requestsAnd', 'DC', 'Lets', 'lote', 'overtake', 'continues', 'missing', 'script', 'stamps', 'Cute', 'cyber', 'catch', 'earnings', 'Facebook', 'district', 'wiped', 'Ton', 'Amp', 'offthesite', 'cane', 'TOT', 'Tevez', 'informed', 'Payrolls', 'corporate', 'BTC', 'gtgt', 'States', 'Overall', 'bed', 'seats', 'gift', 'properly', 'Ume', 'Securities', 'training', 'SPEEDY', 'nights', 'representative', 'Gvalle', 'though', 'month', 'made', 'SCBS', 'straight', 'discuss', 'Get', 'occurred', 'id', 'helps', 'consists', 'water', 'recipients', 'recommends', 'functions', 'Manage', 'everyday', 'Seaboard', 'updates', 'IM', 'exempted', 'laugh', 'seems', 'Leave', 'Nates', 'Good', 'tell', 'keys', 'frequently', 'hire', 'Several', 'xpress', 'La', 'job', 'bilwmecom', 'mules', 'organized', 'TMB', 'platinum', 'politics', 'KMy', 'process', 'lifetime', 'kabang', 'police', 'ROP', 'Silver', 'Life', 'lighten', 'Pakistan', 'Time', 'drivers', 'Thos', 'bloom', 'Si', 'sense', 'immediate', 'investments', 'Ours', 'feel', 'philanthropy', 'finances', 'orbuyer', 'students', 'GP', 'Flow', 'credibility', 'mflow', 'day', 'ps', 'Six', 'facilitate', 'Sietongkum', 'habits', 'robinhood', 'confiscated', 'detained', 'resolved', 'appsEasku', 'necessity', 'bought', 'laterIm', 'presssumm', 'theplanet', 'Metropolitan', 'failing', 'rmf', 'thief', 'phones', 'launch', 'character', 'rebtel', 'Fleet', 'BBLs', 'times', 'would', 'annual', 'affect', 'Isus', 'reimburst', 'program', 'payrolls', 'borrowing', 'replied', 'Monthsnbsp', 'teeth', 'Day', 'alone', 'scbeasy', 'much', 'mortgages', 'followed', 'Tru', 'concerned', 'power', 'restoration', 'Noninterrupted', 'tmrw', 'memorized', 'Ave', 'Press', 'owed', 'elsewhere', 'Solves', 'Among', 'pulls', 'operation', 'httpsmoneykapookcomview', 'trying', 'Invalid', 'Admin', 'Nikecom', 'MasterCard', 'Wash', 'bummer', 'worlds', 'took', 'scratched', 'doublebook', 'Jaymart', 'structure', 'dividend', 'airAsias', 'score', 'interested', 'USD', 'Review', 'barbucks', 'reporter', 'opening', 'refund', 'totaling', 'SHOCK', 'Help', 'candle', 'endtoend', 'range', 'August', 'Yuckyy', 'consulting', 'exchanges', 'Friday', 'invested', 'detect', 'responsibility', 'Amortization', 'Seil', 'genus', 'Thnshat', 'hoursI', 'NuneNoonieyy', 'jpremier', 'retirement', 'seedy', 'MuMilk', 'Marhahaha', 'stacks', 'restructure', 'applications', 'prize', 'chromosomes', 'leaving', 'bmta', 'httpstcomRxNaBngxn', 'cue', 'walletpost', 'detailed', 'brought', 'coffee', 'Box', 'Fill', 'townhouse', 'Email', 'covered', 'handle', 'ampnbspnbsp', 'editor', 'redo', 'advertising', 'whereI', 'Complete', 'Mao', 'join', 'changing', 'knows', 'Takashimaya', 'preorder', 'swipes', 'lightly', 'Deductor', 'For', 'httpstcoCBDHqKhdp', 'fivebaht', 'DEBIT', 'primary', 'conversations', 'parent', 'Missing', 'law', 'regional', 'budget', 'filling', 'expenses', 'resign', 'case', 'gives', 'pray', 'issue', 'Ugh', 'collaboration', 'richer', 'Wallet', 'av', 'Thainext', 'pantsnbsp', 'advised', 'Callcenter', 'Macrow', 'poor', 'contents', 'buy', 'waiting', 'Load', 'refunds', 'scbpic', 'Bankurl', 'assurance', 'benefits', 'liquidity', 'converted', 'sued', 'As', 'removed', 'Otherwise', 'Transfered', 'Shot', 'records', 'yell', 'tax', 'Use', 'send', 'Amymo', 'Coin', 'WDP', 'mouth', 'replace', 'NUMber', 'issued', 'Ma', 'UD', 'Ministers', 'troubled', 'Nmax', 'content', 'Korean', 'ordinary', 'smartphones', 'honor', 'claming', 'doesnt', 'trunk', 'Bangkhkbankcom', 'Sirets', 'original', 'World', 'threemonth', 'creditors', 'SIM', 'systems', 'aia', 'Kbiz', 'peak', 'Somebody', 'life', 'bbl', 'begging', 'flow', 'steam', 'sympathetic', 'charge', 'career', 'thought', 'Social', 'Grow', 'passwords', 'hidden', 'tower', 'SMSEmail', 'spins', 'image', 'bite', 'staying', 'ppnnpp', 'allocated', 'vialine', 'kb', 'cleared', 'wed', 'enter', 'tmbbank', 'booth', 'Plangpleng', 'capitals', 'plugs', 'managers', 'either', 'httpstconpogaGZbCd', 'Dolphin', 'KYDog', 'reduce', 'childrens', 'intended', 'But', 'related', 'spoke', 'SA', 'Im', 'passes', 'handicapped', 'suck', 'Kanchanaburi', 'Sit', 'dream', 'Store', 'risks', 'scanner', 'motorcycle', 'Inter', 'httpstcopDMUFkgREN', 'appointment', 'encrypted', 'salt', 'citbank', 'payment', 'BKampnbspnbsp', 'Food', 'batteries', 'notebook', 'airAsia', 'Embanking', 'Complaint', 'fire', 'onh', 'refunded', 'slip', 'left', 'Unlike', 'qr', 'two', 'Have', 'loanor', 'Tanchanok', 'equipment', 'Prawich', 'Easter', 'wouldnt', 'show', 'terms', 'minutesThank', 'parentheses', 'SQ', 'Successful', 'Decree', 'Buy', 'taxed', 'forgotten', 'Sianz', 'model', 'ended', 'morss', 'everything', 'housewives', 'contracts', 'theyve', 'Pike', 'Yen', 'foreclosure', 'small', 'header', 'acting', 'plus', 'cards', 'Internet', 'hall', 'hurts', 'berryzbii', 'coin', 'cheating', 'drag', 'tmbbankcomcardscreditcardstmbsosmartcardhtmlhtml', 'throughout', 'Cancel', 'Cupp', 'Fear', 'sums', 'UOB', 'Updating', 'Girls', 'Maneerung', 'closest', 'IT', 'successful', 'Won', 'zh', 'Commissioner', 'sincerely', 'avs', 'Dr', 'youtrip', 'royal', 'conceivedAnd', 'finds', 'journal', 'android', 'daddy', 'smart', 'Lots', 'City', 'unmanned', 'Share', 'stabbed', 'internet', 'PORT', 'secondary', 'confused', 'came', 'commitment', 'least', 'compensation', 'GBP', 'applied', 'decided', 'four', 'accepts', 'drink', 'Nate', 'Whoevers', 'cannot', 'Imperial', 'tag', 'past', 'However', 'Take', 'walks', 'hires', 'create', 'together', 'Aeons', 'Save', 'year', 'works', 'Deduct', 'reporting', 'bankholder', 'disabled', 'transfered', 'checkout', 'oathth', 'run', 'door', 'Beach', 'vineyards', 'screwed', 'yellow', 'probably', 'Purchased', 'Lucky', 'cant', 'pasted', 'receives', 'serve', 'aert', 'ahold', 'choice', 'Bay', 'Work', 'Karen', 'Gmarket', 'Chinese', 'associated', 'usingampnbspampnbsp', 'position', 'magnetic', 'medium', 'settlement', 'texts', 'Uh', 'Section', 'Only', 'skip', 'Mines', 'Campaign', 'tone', 'requested', 'alternative', 'peoplenbspnbsp', 'permanently', 'servers', 'Oh', 'Banking', 'Grab', 'extends', 'twoweek', 'concept', 'standards', 'husband', 'COVID', 'trmb', 'Paotang', 'Crisis', 'Black', 'route', 'restart', 'post', 'hell', 'ticket', 'fix', 'assistance', 'set', 'logged', 'retie', 'Impressive', 'slowest', 'stolen', 'Broke', 'twenty', 'plate', 'words', 'No', 'bedinthebrain', 'accepting', 'IPO', 'fly', 'dads', 'rejection', 'provides', 'University', 'spell', 'remove', 'bailout', 'spouse', 'DOC', 'youll', 'Refinancing', 'precious', 'PA', 'prior', 'directors', 'CITI', 'brokers', 'amount', 'factory', 'mutual', 'truemoney', 'Omsin', 'Staff', 'Bangna', 'Satisfaction', 'followup', 'happen', 'sexy', 'Coinsnbspnbsp', 'Center', 'listing', 'patents', 'Corcenter', 'coming', 'filming', 'repaid', 'descriptive', 'wear', 'Online', 'Like', 'freenasus', 'allowed', 'wellcare', 'modernize', 'popular', 'Mostly', 'nation', 'Global', 'study', 'Pro', 'colors', 'Aeon', 'doors', 'queues', 'six', 'checkin', 'pressure', 'Not', 'Tmb', 'transfers', 'posting', 'Well', 'grown', 'cimb', 'credited', 'touch', 'categories', 'disqualified', 'otherwise', 'cineplex', 'Until', 'humans', 'entered', 'sym', 'moyaya', 'playing', 'issues', 'spend', 'Condonanda', 'streaming', 'dress', 'FWD', 'prestige', 'asking', 'Itll', 'anyones', 'BL', 'cases', 'Sundays', 'latenight', 'AC', 'GrabPay', 'Besides', 'Jmart', 'slap', 'Nowadays', 'Ktb', 'announce', 'lowest', 'bird', 'locals', 'Sbito', 'essay', 'Free', 'comaFjApKPmtg', 'Miss', 'documented', 'watching', 'extras', 'drive', 'ununuchisa', 'EOMS', 'nbspnbspnbsp', 'dick', 'going', 'excuses', 'secured', 'recently', 'scores', 'executive', 'Both', 'someones', 'protect', 'Hmmm', 'banner', 'adline', 'refillable', 'Conglosha', 'Error', 'Mother', 'changed', 'Three', 'double', 'expiration', 'choosing', 'sellers', 'tossing', 'recipient', 'saving', 'againAll', 'spending', 'During', 'forget', 'demand', 'Bridge', 'According', 'TeddyKung', 'VIP', 'destroyed', 'Chantburi', 'recommendation', 'overpayment', 'level', 'mediated', 'tracking', 'Candel', 'Wdf', 'Superich', 'bound', 'Crazy', 'Notify', 'cat', 'percent', 'TT', 'stalkers', 'Boo', 'pushes', 'flash', 'Louis', 'Too', 'affected', 'Mail', 'Child', 'moon', 'got', 'difference', 'known', 'ltgt', 'depressing', 'advisable', 'amounts', 'hundred', 'Transfer', 'wont', 'Fix', 'Finally', 'paypal', 'concert', 'reviewing', 'Transferring', 'phoenix', 'connected', 'showing', 'transfer', 'crews', 'mood', 'Hood', 'accept', 'Ampnbspnbsp', 'lift', 'installment', 'imfai', 'password', 'Transferd', 'welfare', 'immediately', 'cardnbspnbsp', 'devices', 'served', 'cheated', 'And', 'Front', 'complaints', 'finding', 'kept', 'fined', 'afraid', 'Personally', 'condominium', 'camps', 'Mina', 'provider', 'condo', 'cheap', 'deposits', 'valuable', 'Using', 'rented', 'Somphon', 'residents', 'authentication', 'lucky', 'millionyear', 'suspended', 'lighter', 'star', 'accordance', 'firstshoe', 'luxe', 'tones', 'conclude', 'continuous', 'rarely', 'Ordered', 'Approximately', 'Pays', 'full', 'Bosch', 'hate', 'Small', 'savior', 'let', 'withdraws', 'browser', 'kkp', 'headquarters', 'disappeared', 'combines', 'Better', 'sucking', 'Dmudo', 'massacre', 'messiness', 'comes', 'highly', 'advisors', 'misdirected', 'rings', 'con', 'Give', 'Hot', 'automatic', 'stepped', 'Japanese', 'points', 'series', 'pic', 'von', 'attm', 'English', 'Ktcs', 'web', 'passregistration', 'print', 'figured', 'doubt', 'income', 'arh', 'Wah', 'YOLO', 'barely', 'TISCO', 'Buntoshi', 'Cloud', 'SRIs', 'Bou', 'ATM', 'refinanced', 'Ram', 'redundant', 'SMSSCB', 'Whens', 'field', 'Theyll', 'logic', 'werent', 'Guilty', 'Tech', 'ports', 'Face', 'Scbplanet', 'copy', 'Prairie', 'accountant', 'Looks', 'throughnbspnbsp', 'Step', 'rabbit', 'SAVINGS', 'crashes', 'matches', 'Thoroughly', 'traded', 'concern', 'leading', 'Why', 'busyI', 'Ps', 'jail', 'goal', 'Wise', 'LC', 'SC', 'wood', 'beat', 'Ill', 'Kaya', 'understands', 'state', 'keeping', 'ThailandOmsin', 'Higher', 'ends', 'fall', 'emailpass', 'qualifications', 'paste', 'Torrong', 'period', 'want', 'nearby', 'Deposits', 'neednbspnbsp', 'redemption', 'said', 'auction', 'sister', 'Tbank', 'holidays', 'price', 'Village', 'documentation', 'fixed', 'refuel', 'operating', 'Lose', 'schedule', 'flatinum', 'wrote', 'EASY', 'originator', 'stm', 'sbbscustomersservicescbcoth', 'cardutrip', 'Spoil', 'ontop', 'unspeakable', 'appCard', 'Thai', 'dumber', 'dividends', 'periods', 'recorded', 'transfering', 'headache', 'System', 'unspecified', 'bored', 'anyways', 'andor', 'Namtip', 'Wisdoms', 'whatever', 'kesavings', 'TEL', 'yet', 'think', 'SCBs', 'general', 'claim', 'Should', 'tall', 'Srifurs', 'Petchbun', 'Is', 'ofnbsp', 'Heavy', 'Shake', 'coex', 'Reboot', 'raise', 'necessary', 'appear', 'battle', 'quickly', 'Kept', 'authorities', 'peachizen', 'deducts', 'piece', 'Wei', 'could', 'Swish', 'refinancing', 'annoying', 'Ewang', 'Accumulating', 'provide', 'throwing', 'renovation', 'scheduled', 'bringing', 'hard', 'runs', 'Remote', 'benefit', 'Extract', 'Sen', 'Tong', 'critical', 'limited', 'certificate', 'hosts', 'murder', 'fill', 'clear', 'coding', 'point', 'success', 'station', 'synchronized', 'prestigeROP', 'filing', 'Bitch', 'watch', 'Seoi', 'cool', 'Klem', 'analysis', 'LETT', 'TBANK', 'urgently', 'Taiwans', 'amonnys', 'simple', 'PayPal', 'Connext', 'EU', 'collect', 'cooperative', 'urgent', 'Statement', 'excuse', 'After', 'driving', 'slides', 'Do', 'coverage', 'mornings', 'airline', 'refuse', 'Siietongkum', 'Wheres', 'presseduse', 'profit', 'aim', 'heard', 'participate', 'Thailand', 'black', 'pwittaya', 'switched', 'ringing', 'forged', 'reminder', 'Details', 'transferable', 'graduating', 'cheapest', 'papal', 'calculated', 'programmer', 'longterm', 'tab', 'minimum', 'minus', 'Mymo', 'Evan', 'helpful', 'rop', 'inserted', 'sweet', 'forgets', 'It', 'Repair', 'weird', 'logins', 'Dad', 'warning', 'remaining', 'httpstcouCVeFjaKHt', 'useless', 'Due', 'Buuluang', 'OK', 'awesome', 'sharing', 'Apapa', 'SEB', 'GSCIMB', 'printing', 'Infinite', 'chunk', 'outofthebox', 'younbspnbsp', 'ad', 'less', 'Instead', 'companies', 'ndid', 'Songkran', 'notification', 'treating', 'anyone', 'feeling', 'puzzling', 'come', 'plans', 'help', 'fresh', 'buys', 'cardsHuh', 'Innie', 'Rush', 'Mon', 'Deputy', 'Commerce', 'Don', 'sisters', 'virus', 'task', 'kmekluvyw', 'imported', 'Last', 'bonus', 'Banscb', 'Starbucks', 'replacements', 'Panishan', 'housewarming', 'management', 'movement', 'Seriously', 'submitted', 'deletes', 'crowded', 'Hold', 'journey', 'erupted', 'started', 'SCb', 'DTag', 'appbased', 'TOPSCENTRAL', 'Kbank', 'safest', 'bestIve', 'adobe', 'iphone', 'dormitory', 'mission', 'importantly', 'choose', 'matching', 'favorite', 'sincerity', 'tightened', 'later', 'Mr', 'vending', 'Touch', 'features', 'Ports', 'moment', 'wifi', 'cardSCB', 'returned', 'Sure', 'network', 'purple', 'oo', 'theres', 'avoiding', 'deal', 'Srees', 'remind', 'loaned', 'Automatically', 'wasting', 'officials', 'approval', 'appscb', 'principal', 'linking', 'stock', 'delete', 'worth', 'httpstcoEQqLRvzJOR', 'oooo', 'tool', 'Saturday', 'shynbsp', 'competitive', 'cry', 'Phetchaburi', 'depending', 'moneykplus', 'resigning', 'Kaakura', 'stressed', 'understood', 'fowwang', 'secretly', 'contains', 'actually', 'rep', 'merger', 'HiaKoe', 'Max', 'lowpriced', 'New', 'Repel', 'messy', 'Thats', 'bankingmobile', 'retention', 'Caps', 'thats', 'ion', 'Wont', 'painter', 'ran', 'Patt', 'makes', 'retransmitted', 'wired', 'letters', 'pledging', 'inquiryer', 'single', 'infinite', 'highlighting', 'Nothing', 'Header', 'LINE', 'reboot', 'important', 'matchI', 'neighborhood', 'Running', 'sixdigit', 'promotional', 'EMAIL', 'Journey', 'loaded', 'kc', 'OR', 'shutting', 'Diamond', 'crashed', 'httpswwwcimbthaicomthpersonalproductscardsdebitchipcardsDebitvisaDigitalSaving', 'BC', 'holding', 'manage', 'petition', 'Look', 'Commission', 'solutions', 'mi', 'receive', 'ThaiOmsin', 'Scanning', 'Mrs', 'evaluation', 'Syria', 'barracks', 'buro', 'Thani', 'passed', 'reductions', 'gen', 'One', 'sending', 'improvement', 'differently', 'counting', 'holder', 'Nbspnbsp', 'messed', 'MAKE', 'grow', 'insecure', 'Assuming', 'strength', 'reliable', 'Arts', 'itemSMS', 'actual', 'deposited', 'money', 'trusted', 'howispsg', 'growing', 'meonK', 'ask', 'passing', 'crammed', 'Earlier', 'Ouch', 'heavy', 'clips', 'intake', 'credits', 'mistake', 'blurred', 'away', 'First', 'sell', 'encountered', 'selecting', 'documents', 'hassle', 'soldiers', 'Could', 'global', 'mile', 'branch', 'abalone', 'KKP', 'hierarchy', 'LH', 'hiring', 'oil', 'states', 'today', 'Normal', 'Search', 'Division', 'NVDR', 'twoquarter', 'Your', 'Chat', 'YouTrip', 'documentary', 'hanging', 'Sis', 'kbanks', 'burning', 'abbreviated', 'Questions', 'Refunds', 'dizzy', 'view', 'taxpayers', 'Spotify', 'upgraded', 'Army', 'Surin', 'With', 'malls', 'merge', 'named', 'advance', 'load', 'ep', 'ipad', 'allI', 'appears', 'rejected', 'Planet', 'certified', 'covid', 'TG', 'disappears', 'taste', 'finallyEasy', 'bikes', 'really', 'apply', 'unsub', 'needed', 'chip', 'stuff', 'paycheck', 'shoots', 'Farrook', 'Trust', 'Summary', 'reopen', 'depriving', 'hedge', 'unlock', 'Really', 'mynxo', 'seem', 'walk', 'dollar', 'likely', 'shut', 'Krungsri', 'COVIDs', 'juristic', 'arent', 'mistaken', 'defective', 'PIN', 'bond', 'fivemonth', 'deed', 'Toss', 'upgrade', 'crash', 'misunderstanding', 'drama', 'Crawl', 'centers', 'THB', 'Then', 'atms', 'crossing', 'hear', 'alcohol', 'lonely', 'Buri', 'investment', 'military', 'Spedylond', 'supported', 'current', 'minute', 'CBACQBUALUANG', 'None', 'buysales', 'fees', 'brogue', 'Youre', 'Easypass', 'ground', 'fryer', 'restarting', 'overdue', 'scbx', 'Manager', 'receipts', 'That', 'German', 'evidence', 'opportunity', 'Health', 'Thorn', 'businesses', 'acct', 'head', 'depositing', 'everywhere', 'reschedule', 'disappointing', 'hit', 'numbers', 'decorator', 'easiest', 'safety', 'purchase', 'Citis', 'DA', 'Ipad', 'services', 'convince', 'Thks', 'give', 'errands', 'overwhelming', 'slipon', 'shy', 'attention', 'old', 'friendly', 'ttb', 'US', 'doubted', 'Calculate', 'meafter', 'wondering', 'buyer', 'operate', 'Gwallet', 'alreadydefined', 'knew', 'noon', 'VPN', 'Industrial', 'Poong', 'screens', 'VCI', 'ba', 'BK', 'step', 'Inquiry', 'Tc', 'Tanshats', 'member', 'category', 'agoda', 'Convert', 'exchanged', 'Rejected', 'picks', 'mothers', 'banks', 'ranking', 'Australia', 'carefully', 'fastest', 'leverage', 'threatening', 'Nepo', 'prove', 'regression', 'cares', 'Thoknbspnbsp', 'unlocked', 'solution', 'loan', 'Airport', 'frozen', 'Thon', 'overdose', 'JLPT', 'tradeIll', 'else', 'interests', 'higherbuyer', 'KSME', 'iPad', 'Except', 'kplus', 'itd', 'carranty', 'KYC', 'happiness', 'managerampnbspampnbsp', 'kma', 'Shinpan', 'socket', 'electronic', 'Bangkoks', 'holders', 'Sris', 'rates', 'CPALL', 'postponed', 'SD', 'unregistered', 'estate', 'age', 'bahtyear', 'improve', 'debitcredit', 'Incoming', 'places', 'esaving', 'USA', 'strip', 'daughters', 'Tisco', 'Gold', 'overcharge', 'panel', 'goohaha', 'Subscribe', 'child', 'costume', 'Luxe', 'Billing', 'fact', 'stores', 'enough', 'More', 'depend', 'ghosts', 'anywhere', 'Officer', 'Apache', 'Wave', 'debtors', 'reapplying', 'Pay', 'notIts', 'rushed', 'enrolled', 'puts', 'nationals', 'carries', 'September', 'buttercrimes', 'stalling', 'Ava', 'suit', 'Platimun', 'destination', 'likes', 'total', 'fe', 'delivered', 'Boss', 'Amobile', 'germs', 'AHHHHHHGHT', 'responses', 'Dip', 'frogs', 'cuts', 'CPF', 'dozens', 'far', 'spent', 'App', 'Same', 'KMA', 'cell', 'Nonstop', 'moved', 'PLATINUM', 'evening', 'automation', 'dots', 'Just', 'zero', 'pong', 'seriously', 'Noquotgtgt', 'repayment', 'sloppy', 'Platinum', 'accidents', 'repair', 'snopnat', 'Seedy', 'tonbspnbsp', 'smartphone', 'provinces', 'Mount', 'TE', 'annoyance', 'ThailandKrungthaiCare', 'successfully', 'cardscredit', 'cents', 'remembers', 'Elephant', 'remember', 'organizations', 'Samutprakarn', 'Banks', 'idiot', 'registry', 'bugged', 'systemautomatic', 'Pey', 'government', 'paper', 'NZD', 'repurchase', 'prefers', 'Amazon', 'top', 'ACCOUNT', 'Trumoove', 'falls', 'Latest', 'Jakarin', 'Question', 'Gum', 'FUN', 'Are', 'asshole', 'heart', 'wiser', 'cost', 'businessmans', 'birthday', 'estatement', 'callin', 'sold', 'lapisdotlazuli', 'itIll', 'Minister', 'Teampnbspampnbspnot', 'nonstrengthening', 'speaker', 'Axa', 'Once', 'Nov', 'crisis', 'promptcardMasterCard', 'regress', 'transferring', 'lately', 'itll', 'focusing', 'Driving', 'sleep', 'green', 'slips', 'chance', 'cycle', 'feed', 'Insurance', 'Kcyber', 'Ourleeedixxx', 'NEXT', 'Speaking', 'younbsp', 'directly', 'andKBANK', 'pissed', 'battalion', 'Lott', 'mega', 'Canceled', 'authorization', 'longest', 'lockin', 'stupid', 'Eomsin', 'canceling', 'Kowid', 'selfconsciousness', 'salary', 'Convenient', 'connext', 'classify', 'impact', 'apt', 'happened', 'Bigc', 'BAY', 'locations', 'arties', 'finish', 'dead', 'needs', 'cancelled', 'ZIP', 'stressful', 'survived', 'Melconfim', 'Taiwan', 'foreigners', 'speedy', 'document', 'oldest', 'signal', 'Move', 'pt', 'Yuan', 'identification', 'Toyota', 'realized', 'lowkey', 'troublemaker', 'theatre', 'analyze', 'ah', 'phone', 'plain', 'Japan', 'unremoved', 'adPaid', 'ppl', 'eats', 'match', 'contractor', 'Admins', 'fingers', 'Theres', 'account', 'automated', 'bar', 'negotiating', 'Monday', 'freezes', 'missed', 'afternoon', 'Tshirts', 'residence', 'Overlight', 'occurs', 'AA', 'Reward', 'canal', 'bothering', 'Society', 'Lisas', 'type', 'pension', 'certification', 'hope', 'adjustable', 'Nush', 'sum', 'center', 'enjoy', 'call', 'window', 'commented', 'Menu', 'acquaintances', 'awful', 'Yats', 'ending', 'disappointed', 'failed', 'Buayan', 'Keptby', 'merchant', 'stress', 'Netbank', 'invitation', 'Drag', 'isnt', 'noticing', 'copies', 'supports', 'EUR', 'transferee', 'Can', 'girlfriends', 'Dreamsaving', 'parked', 'living', 'qa', 'worldfamous', 'restoring', 'EMERGENCY', 'randomly', 'Long', 'traveled', 'snack', 'trade', 'scanned', 'Mathos', 'follow', 'boarding', 'Doraemon', 'suggestions', 'These', 'Friends', 'Thorough', 'ET', 'estimated', 'reason', 'shop', 'bung', 'toss', 'INTERNET', 'mess', 'mean', 'peace', 'arrow', 'rehashed', 'parallel', 'described', 'gain', 'speech', 'error', 'Send', 'venture', 'Remember', 'ignoring', 'hands', 'Frog', 'freeze', 'Without', 'topic', 'signature', 'dog', 'notes', 'Thoks', 'gotta', 'lots', 'neutral', 'billed', 'fb', 'passesIts', 'good', 'plumbing', 'Sukhothai', 'comedy', 'Definitely', 'wedge', 'like', 'dtac', 'pressed', 'whichever', 'determine', 'hot', 'Clear', 'Longer', 'Therefore', 'books', 'hungary', 'Leasing', 'Beyond', 'Group', 'Bye', 'Pathom', 'PromptPay', 'Improved', 'Premier', 'primer', 'Bullshit', 'went', 'faster', 'retina', 'fine', 'drop', 'Our', 'Gastor', 'STM', 'verified', 'cumbersome', 'Sent', 'closing', 'also', 'repeat', 'believes', 'weekends', 'perform', 'method', 'pull', 'Customer', 'October', 'fuzzy', 'wasnt', 'quote', 'Information', 'wheel', 'sucksx', 'adjusts', 'brother', 'Sicorn', 'bada', 'cheaper', 'repay', 'Yume', 'Udon', 'Patz', 'clicked', 'number', 'rest', 'OD', 'kinds', 'dates', 'sign', 'blacklisted', 'approvals', 'warranty', 'Auto', 'PhD', 'drops', 'standard', 'air', 'crashing', 'Pangani', 'financial', 'Mega', 'helping', 'talk', 'push', 'deducting', 'Finish', 'hows', 'Updated', 'expect', 'inside', 'canceled', 'CreditnbspnbspSin', 'tucall', 'relatives', 'Travel', 'BUG', 'Fighting', 'November', 'registers', 'hull', 'Months', 'blooms', 'Credit', 'Code', 'closes', 'downside', 'calculation', 'authentic', 'stored', 'Line', 'glitch', 'goose', 'website', 'spends', 'Unyong', 'UK', 'mind', 'hearing', 'Covid', 'pity', 'transactions', 'office', 'considering', 'sad', 'Ayad', 'pages', 'Wellness', 'payments', 'society', 'stimulates', 'theyd', 'identities', 'maximum', 'spready', 'Many', 'secure', 'JCB', 'Usually', 'CITIES', 'titanium', 'Kowit', 'signing', 'silvers', 'visiting', 'carnbspnbsp', 'Date', 'overseas', 'booked', 'eveningnbsp', 'fund', 'computer', 'concluded', 'Bathong', 'Retention', 'sends', 'authenticate', 'hells', 'Kplus', 'redund', 'DIFFERENT', 'chill', 'amendment', 'Omini', 'This', 'personnel', 'fooling', 'admin', 'adjusting', 'dropped', 'Equy', 'false', 'major', 'reloaded', 'comfortable', 'mymos', 'bribe', 'picture', 'highinterest', 'restructured', 'ever', 'usable', 'EP', 'Anyway', 'remembered', 'KTM', 'Investment', 'specifically', 'Custommer', 'GWalletnbspnbsp', 'impossible', 'Honda', 'Nae', 'turns', 'succeeded', 'scbsonlinecom', 'entrance', 'Kjourney', 'huge', 'Burmese', 'whole', 'Ann', 'buyandyear', 'allows', 'registering', 'refused', 'reception', 'attendant', 'multipurpose', 'Hell', 'backups', 'need', 'values', 'permanent', 'clean', 'walkie', 'Payne', 'guarantee', 'atmdebit', 'peaks', 'Festival', 'residual', 'Town', 'pisapim', 'employee', 'lot', 'worker', 'pays', 'favor', 'Rabbit', 'Sin', 'suspend', 'Smart', 'tech', 'LCB', 'Tep', 'administrators', 'direct', 'Wechat', 'Bureau', 'TWD', 'saying', 'pulled', 'earlier', 'citybank', 'technologically', 'confirming', 'music', 'easily', 'lungs', 'Selling', 'seating', 'depositremoved', 'focused', 'Westgate', 'emoji', 'searching', 'Choice', 'ang', 'noticed', 'Opened', 'transition', 'Again', 'mydaotown', 'walked', 'teaches', 'Streaming', 'Chanathamakhon', 'locks', 'answered', 'sixmonth', 'Mai', 'disease', 'mortgageInquiring', 'awaiting', 'fills', 'UCHOOSE', 'Ratchapat', 'fashion', 'covering', 'AM', 'Park', 'hits', 'Keep', 'tablet', 'Chiang', 'source', 'strange', 'Exchange', 'date', 'social', 'complain', 'Yesterday', 'almost', 'Report', 'Citigold', 'yaoutrip', 'Zealand', 'higher', 'matter', 'Spend', 'addin', 'extended', 'slobbering', 'till', 'serious', 'meantime', 'intrusion', 'compare', 'cause', 'losing', 'Fen', 'car', 'given', 'ODs', 'Signature', 'applicants', 'realme', 'MyMo', 'stick', 'display', 'sugar', 'Kang', 'Filling', 'posts', 'Identify', 'Put', 'put', 'Fleshie', 'main', 'skbank', 'SCBnbspnbsp', 'FIRST', 'story', 'Manny', 'whose', 'banknotes', 'vicviickiexz', 'overpay', 'Article', 'classic', 'Nike', 'event', 'redme', 'responsible', 'chain', 'Youve', 'summed', 'Sim', 'TK', 'however', 'caller', 'Today', 'system', 'wrongly', 'coach', 'option', 'lend', 'miles', 'identify', 'force', 'renew', 'abalonement', 'special', 'Protect', 'Everything', 'March', 'shoot', 'reservation', 'Thugs', 'Equil', 'See', 'bitIm', 'opportunities', 'Reason', 'usually', 'link', 'ATMdebit', 'Se', 'personally', 'refilling', 'Eva', 'chinese', 'Waste', 'ass', 'Appreciate', 'seconds', 'sbbtmf', 'Welcome', 'Wow', 'born', 'Protection', 'assessment', 'Rum', 'Ibanking', 'The', 'Promotion', 'beyond', 'bongtao', 'December', 'reopened', 'bumper', 'Sneaked', 'theyll', 'noti', 'PeDPiPU', 'performance', 'rescan', 'shocked', 'BRs', 'hand', 'Drawstring', 'conditions', 'Virtual', 'Chet', 'Esavings', 'nbspnbsp', 'entry', 'Push', 'practical', 'roundI', 'hello', 'Luckily', 'po', 'Feels', 'valid', 'bonds', 'holiday', 'Basically', 'Buying', 'problemsother', 'Stingy', 'farming', 'timeapps', 'daily', 'insists', 'compete', 'round', 'Cups', 'engrave', 'complained', 'Contactless', 'Todays', 'Sunday', 'Rai', 'SR', 'privately', 'pop', 'bean', 'cousins', 'BECs', 'Snoopyprinted', 'charging', 'apologized', 'via', 'response', 'foster', 'transferors', 'authenticating', 'Haha', 'tonight', 'indicating', 'band', 'calm', 'various', 'bedding', 'retailexport', 'Interest', 'advantages', 'costeffective', 'grab', 'overlight', 'Choi', 'Youll', 'ruined', 'Ion', 'Channel', 'Dental', 'shuts', 'literarydinsor', 'Affirmation', 'Thnakac', 'intending', 'rested', 'brothers', 'Noloyi', 'MAKEUPS', 'expire', 'ICBC', 'writing', 'limit', 'cars', 'sirotek', 'slot', 'Users', 'unpacked', 'row', 'terrible', 'httpstco', 'SALE', 'Unnis', 'especially', 'write', 'use', 'banking', 'constant', 'Negotiate', 'support', 'tight', 'specialist', 'EZ', 'raising', 'renewed', 'meet', 'privileges', 'invite', 'describe', 'kid', 'waits', 'transferor', 'KrungthaiCare', 'Future', 'rich', 'mosi', 'server', 'recommend', 'KbankLive', 'Settings', 'Sari', 'brew', 'balance', 'ThaiUnited', 'upload', 'appraisal', 'Robo', 'updatingIve', 'place', 'justiceRescue', 'waiver', 'Actually', 'homepro', 'pictwittercomRqYUEIQrZJ', 'opinion', 'Headquarters', 'basically', 'monthlyyear', 'hold', 'intend', 'house', 'sessions', 'billion', 'uncomfortable', 'disconnected', 'register', 'comparable', 'Understand', 'umbrella', 'Nawang', 'troubles', 'Mondays', 'Checking', 'looking', 'Reset', 'Havent', 'Suckless', 'listed', 'typed', 'coworkers', 'dial', 'puzzles', 'Symnet', 'catches', 'every', 'Air', 'loosens', 'unpaid', 'officers', 'httpstcoIHvWenBHUB', 'KBANK', 'deleted', 'Employees', 'woken', 'Blackpink', 'online', 'Trumov', 'Chan', 'frustrated', 'another', 'Start', 'taxpayer', 'Hello', 'roads', 'painful', 'centerThe', 'legal', 'pawns', 'several', 'director', 'facial', 'installments', 'zwingzet', 'stopped', 'meal', 'Savings', 'VAT', 'depends', 'pearl', 'talking', 'fancy', 'available', 'finishing', 'notices', 'investing', 'contacts', 'lounge', 'statement', 'Power', 'form', 'defaults', 'asia', 'wrinkled', 'bye', 'Potify', 'costing', 'still', 'released', 'gets', 'Sorry', 'table', 'Easynet', 'pushing', 'pttgc', 'QARCOCH', 'misinformation', 'ITMX', 'little', 'talked', 'itIve', 'Loan', 'interface', 'visa', 'insert', 'speed', 'improvements', 'Thainex', 'low', 'picked', 'Ban', 'Thainecks', 'died', 'monk', 'unknown', 'Consumers', 'Planets', 'Top', 'clicks', 'Experience', 'Although', 'Street', 'waste', 'Service', 'university', 'declined', 'partner', 'units', 'transaction', 'property', 'cheering', 'SCBM', 'presentAmaknae', 'proud', 'suspicion', 'Thaipae', 'Thoms', 'INVEST', 'registration', 'trip', 'specify', 'customers', 'toyubomm', 'loses', 'already', 'explains', 'safer', 'payroll', 'systemI', 'omesin', 'boring', 'line', 'Agency', 'damn', 'Mint', 'untied', 'children', 'facebook', 'refer', 'worst', 'Demeanor', 'base', 'Institutional', 'cbcream', 'something', 'means', 'cheater', 'world', 'tasting', 'forgive', 'experienced', 'Try', 'khunpinto', 'Afscb', 'Boom', 'receipt', 'calling', 'vpn', 'substitutions', 'airasia', 'Freelance', 'contacting', 'confusion', 'Lastly', 'raised', 'voluntary', 'midmonth', 'cancelling', 'clearly', 'thank', 'owners', 'Advisor', 'PASSBOOK', 'unionpay', 'haniying', 'advanced', 'People', 'Thox', 'lasts', 'So', 'EDC', 'usual', 'Meek', 'Reading', 'confusing', 'Orange', 'women', 'noted', 'piles', 'stuffed', 'inaccessible', 'room', 'Honor', 'items', 'weve', 'shortened', 'Western', 'areaRating', 'assume', 'releases', 'history', 'emailed', 'touched', 'transport', 'notifying', 'GWallet', 'DTAC', 'usage', 'subpoena', 'Amezon', 'Buro', 'complicated', 'learn', 'Apple', 'abroad', 'Mei', 'AF', 'food', 'sides', 'Man', 'itIm', 'forced', 'seven', 'TC', 'Almost', 'TIRIGA', 'degree', 'Sympathetic', 'inconsistent', 'fellow', 'cheque', 'latest', 'rubber', 'Confirmed', 'cassava', 'Hurry', 'blaming', 'belongs', 'anxious', 'tmb', 'BLACKPINK', 'annoyed', 'minor', 'NZ', 'itnbspnbsp', 'Slip', 'JSecure', 'Panda', 'KrungthaiCarre', 'Trumanny', 'withdrawals', 'side', 'google', 'glowing', 'Truewallet', 'purchased', 'digit', 'midsecret', 'Yongmus', 'particular', 'effective', 'sadboyoxygen', 'Ais', 'allow', 'fortune', 'pros', 'lifestyles', 'procedures', 'jerk', 'Siriro', 'cover', 'toiletnbspnbsp', 'tomorrows', 'Debit', 'even', 'comments', 'home', 'function', 'TMBs', 'Remove', 'Click', 'ampnbsp', 'Expired', 'soon', 'OPDs', 'trick', 'discussed', 'Thank', 'parking', 'familiar', 'complaining', 'Damn', 'Faster', 'final', 'girlfriend', 'erased', 'listen', 'AOT', 'information', 'tea', 'confirms', 'In', 'rotated', 'Ryla', 'CP', 'rock', 'Shanghai', 'owns', 'commissioner', 'flower', 'sale', 'sorted', 'developer', 'recognized', 'Lounge', 'GSBSociety', 'Alerts', 'exclude', 'yes', 'done', 'nations', 'AirPay', 'Netflix', 'Based', 'friday', 'anything', 'causing', 'smoothies', 'Department', 'Renovated', 'upnbspnbsp', 'DEO', 'officer', 'Alert', 'DeliciousRendezvous', 'flight', 'waived', 'claimed', 'Rama', 'media', 'scanning', 'GMarket', 'ATMDebit', 'hero', 'estimate', 'WHA', 'wearing', 'sims', 'ARKK', 'Chai', 'seller', 'Pin', 'buyers', 'negative', 'delighted', 'paypaypal', 'swiped', 'AUD', 'care', 'Shoppee', 'bit', 'fever', 'pantip', 'scbthailand', 'SCB', 'sees', 'combined', 'splitting', 'bounced', 'feature', 'arrive', 'mail', 'updated', 'Oppo', 'Rajohin', 'currency', 'CIMB', 'Apples', 'Ng', 'wrong', 'proof', 'sbb', 'raisin', 'Jcb', 'mooring', 'holidaysThis', 'Ivra', 'Finance', 'tomorrow', 'slower', 'results', 'upsetting', 'stickers', 'find', 'itThe', 'hacked', 'Suphakit', 'insist', 'late', 'ME', 'cutting', 'language', 'tying', 'Apply', 'device', 'guards', 'Excess', 'Shes', 'Half', 'addicted', 'Confirming', 'Pearl', 'tweet', 'KRW', 'fit', 'LUXE', 'promote', 'space', 'near', 'Topup', 'sri', 'Kid', 'suggest', 'gas', 'lose', 'Ck', 'chairs', 'oonbs', 'vs', 'week', 'code', 'crossbank', 'debitnbspnbsp', 'Panishi', 'ree', 'enterprise', 'outbreaks', 'things', 'fee', 'capability', 'must', 'follows', 'persons', 'harder', 'krw', 'Nomuranbsp', 'app', 'third', 'say', 'mama', 'insteadIt', 'Requesting', 'Ibank', 'TTB', 'notifications', 'Ten', 'hack', 'shitty', 'redelete', 'gtlt', 'Come', 'formula', 'friend', 'next', 'PAYROLL', 'Tellesel', 'EOMSIN', 'economy', 'thinks', 'Hong', 'amends', 'Request', 'fell', 'best', 'Luang', 'Days', 'Plug', 'maintain', 'towed', 'âa', 'Onerek', 'blue', 'identical', 'caretaker', 'Introducing', 'heal', 'creditor', 'Most', 'increase', 'middle', 'target', 'cute', 'traveling', 'adjust', 'Next', 'nbspnbspk', 'fifteen', 'themIve', 'puzzled', 'Tips', 'sympathized', 'bucks', 'victim', 'eg', 'problems', 'registered', 'ATMs', 'distance', 'deductive', 'fax', 'whove', 'someone', 'cancels', 'Does', 'Connect', 'Whats', 'Nakhon', 'emails', 'fan', 'malfunctioning', 'sucker', 'icon', 'risk', 'bribes', 'reward', 'loans', 'policy', 'User', 'yuan', 'easier', 'suggestion', 'ordered', 'dorm', 'Heres', 'uh', 'Asset', 'trust', 'frequent', 'departmental', 'Care', 'Or', 'motherbaton', 'cheered', 'super', 'float', 'exchange', 'maybe', 'fifth', 'summation', 'stadium', 'famous', 'SRI', 'requires', 'ktb', 'queueing', 'unique', 'Grand', 'Rescue', 'eligible', 'inquiring', 'users', 'spinning', 'subsidiary', 'httpstcocMIspvUkx', 'heading', 'cut', 'borrow', 'DEA', 'Lisa', 'Difficult', 'doubts', 'cupboards', 'relief', 'security', 'scbplanet', 'selling', 'forcing', 'Customers', 'bags', 'IPZPAYCOM', 'apart', 'troops', 'right', 'rushing', 'Android', 'connection', 'paved', 'connect', 'reapply', 'brogues', 'Hard', 'plug', 'blame', 'family', 'bank', 'responsibilities', 'Cameras', 'respectively', 'check', 'solve', 'filler', 'Colonel', 'yeah', 'lowclass', 'aware', 'Exchanging', 'closer', 'written', 'guide', 'subscription', 'suitcase', 'reducing', 'feared', 'decline', 'Recommended', 'maps', 'reviewers', 'wasteful', 'millionmonth', 'Someone', 'renovations', 'pick', 'Add', 'tuition', 'grownup', 'Alienz', 'worse', 'funded', 'clubs', 'Dealer', 'KTC', 'co', 'hurry', 'unexcited', 'KBANKs', 'country', 'crown', 'farmers', 'flat', 'circulation', 'cross', 'settings', 'SIN', 'although', 'advantageous', 'Robinhood', 'AIA', 'installed', 'YouTube', 'kerry', 'Interfer', 'Krungthai', 'remains', 'Invest', 'TU', 'postpone', 'apple', 'paid', 'originally', 'Dolfin', 'Shit', 'nervous', 'Hmm', 'approvalBut', 'edit', 'mainly', 'trips', 'sympathize', 'accessed', 'Working', 'billing', 'act', 'finished', 'identifiers', 'Finest', 'charges', 'creditdebit', 'Reply', 'irregularity', 'Bahtnbsp', 'Pick', 'scbam', 'Live', 'record', 'purpose', 'Dx', 'Saris', 'publish', 'bother', 'Want', 'believed', 'Authorities', 'Vvo', 'acccount', 'SME', 'Charter', 'promotions', 'Vietnam', 'ok', 'many', 'improves', 'similar', 'equal', 'example', 'details', 'clears', 'Rate', 'smooth', 'switch', 'oilfree', 'avtm', 'exams', 'krungthai', 'todays', 'Feb', 'onwards', 'apps', 'swear', 'plan', 'eye', 'local', 'possible', 'Margin', 'jitta', 'okay', 'legs', 'sent', 'practice', 'decree', 'dont', 'debtor', 'difficult', 'minority', 'announced', 'photos', 'Prime', 'mad', 'Advertising', 'allocation', 'kexpress', 'checked', 'gwallet', 'ThaiNet', 'anyway', 'Secon', 'butI', 'guts', 'client', 'Quality', 'jammed', 'technologyregistration', 'subsidy', 'Pa', 'search', 'Answer', 'edited', 'Meat', 'Nvr', 'protection', 'constraint', 'cupboard', 'MYMO', 'theater', 'phoneID', 'Kung', 'BLACKPINKFANMEETING', 'daughter', 'Sell', 'cheat', 'become', 'askif', 'standing', 'fooled', 'EVERYDAY', 'appThis', 'straightC', 'reregister', 'lowincome', 'Thaineck', 'Starting', 'requests', 'planned', 'advisornbspnbsp', 'frustrating', 'fuck', 'prepare', 'Venice', 'Kerrys', 'All', 'regular', 'telling', 'gold', 'debitATM', 'rear', 'inspection', 'entire', 'binding', 'platform', 'ability', 'puzzlesWhy', 'input', 'cardsnbspnbsp', 'guy', 'centre', 'notsend', 'bruised', 'pro', 'recommended', 'Officials', 'Would', 'Did', 'Refund', 'gone', 'due', 'Strange', 'nonincome', 'Wednesday', 'episodes', 'better', 'Family', 'appreciate', 'town', 'scratch', 'iPhone', 'camera', 'districts', 'Gateway', 'margins', 'Has', 'Colzts', 'half', 'KBankLive', 'marketing', 'ampquot', 'continue', 'department', 'indifferent', 'KBang', 'Av', 'origin', 'Mobile', 'technique', 'rice', 'Military', 'Of', 'totals', 'impressed', 'Paki', 'HR', 'Thursday', 'Iservis', 'krypto', 'log', 'horrible', 'CALL', 'Central', 'develops', 'stocks', 'Mission', 'stateowned', 'survive', 'Close', 'Royal', 'stood', 'prevent', 'Lt', 'Number', 'Find', 'era', 'premium', 'crap', 'asks', 'KTB', 'easy', 'swipe', 'gave', 'Scary', 'Prestige', 'Ratchaburi', 'Thailandnbspnbsp', 'Trick', 'Closing', 'delivery', 'Edog', 'sort', 'definitely', 'Wisdom', 'held', 'team', 'sadly', 'penny', 'aunt', 'bill', 'Ktc', 'gt', 'Zhaprad', 'contact', 'Transferwise', 'funds', 'ancient', 'Steam', 'lets', 'Here', 'Freaky', 'graduated', 'Goo', 'rough', 'add', 'Hopefully', 'Up', 'BTS', 'Sometimes', 'tradition', 'fake', 'brain', 'fruitful', 'loved', 'Perfect', 'says', 'Verified', 'wire', 'responding', 'Thong', 'lol', 'confirmed', 'Doing', 'crying', 'explain', 'Phuket', 'Visastyle', 'allnbspnbsp', 'medical', 'adding', 'Signed', 'atmquest', 'Chap', 'quietly', 'Suck', 'letter', 'APP', 'companys', 'Post', 'visits', 'eat', 'saves', 'sparey', 'circulating', 'projects', 'Benk', 'bind', 'moms', 'wife', 'per', 'outstanding', 'rema', 'ten', 'bases', 'Taxfree', 'Go', 'unemployed', 'responsehow', 'used', 'scbtailand', 'avoided', 'expecting', 'uninstall', 'Thors', 'homeinterest', 'epayment', 'Web', 'mani', 'tied', 'deducted', 'Where', 'BEA', 'Sriyutthayas', 'weekday', 'email', 'passengers', 'frankly', 'informing', 'directions', 'Okay', 'know', 'silver', 'simplest', 'alongIve', 'tickets', 'Unfortunately', 'mass', 'son', 'LTF', 'itua', 'Saving', 'delay', 'AP', 'banksnbsp', 'quite', 'feelings', 'Between', 'stuck', 'villagers', 'comparenbspnbspLH', 'additional', 'II', 'machine', 'CB', 'phase', 'hasslefree', 'discount', 'autograph', 'rains', 'TrueWallet', 'consideration', 'Absolute', 'Wongsiwat', 'galaxy', 'gps', 'Chief', 'accident', 'prosecution', 'admirable', 'premier', 'SCBampnbspampnbsp', 'statements', 'Byebye', 'pictures', 'backs', 'floating', 'England', 'port', 'deals', 'neededIve', 'box', 'pending', 'uid', 'access', 'wanted', 'alerts', 'Pros', 'memory', 'disturbed', 'easytocontact', 'placed', 'basics', 'trapped', 'Hi', 'Nt', 'Rede', 'QR', 'called', 'live', 'signup', 'gsb', 'Pimp', 'thaipanis', 'hundreds', 'owned', 'ave', 'High', 'threw', 'Pass', 'pump', 'RMF', 'BangkokDental', 'sector', 'muzzle', 'renting', 'Waves', 'hotel', 'exam', 'Cut', 'picking', 'scans', 'updating', 'business', 'shocking', 'refinance', 'lunch', 'highvalue', 'constantly', 'combine', 'caps', 'Foreign', 'Stupid', 'Say', 'health', 'debited', 'numerous', 'purchasesales', 'login', 'disagree', 'Deedy', 'oclock', 'ridiculous', 'Muang', 'towards', 'Patriot', 'sre', 'Write', 'modern', 'channel', 'Wall', 'thick', 'End', 'Ha', 'initial', 'gym', 'please', 'Practice', 'eaten', 'deceived', 'kiosk', 'road', 'jams', 'mall', 'message', 'index', 'Ratsaenmueang', 'seat', 'confident', 'Autobot', 'Fuck', 'argue', 'Reference', 'den', 'one', 'covit', 'rang', 'ghost', 'Second', 'KeSaving', 'Pantip', 'gonna', 'accounting', 'peopleIm', 'Used', 'title', 'expected', 'order', 'Nex', 'taxis', 'knowledge', 'first', 'according', 'fear', 'messenger', 'mortgage', 'West', 'interestingplanet', 'salesman', 'convenient', 'Deducted', 'duty', 'blah', 'nationality', 'pawn', 'Sri', 'Kbizcontactcenterkasikornbankcom', 'Maybe', 'get', 'accounts', 'hardworking', 'Fine', 'pigs', 'transferees', 'Management', 'Let', 'antibiotics', 'Treasury', 'seal', 'packages', 'Bung', 'pmnbspnbsp', 'Please', 'eppanng', 'version', 'expands', 'There', 'kjourney', 'electricity', 'luggage', 'Cash', 'refill', 'bitch', 'aunts', 'crutches', 'insufficient', 'Sahapat', 'latter', 'automatically', 'filed', 'Sea', 'psychiatrist', 'summarize', 'nonbsp', 'Busayarat', 'reaches', 'driver', 'UOBs', 'file', 'ocean', 'reviews', 'Insti', 'wits', 'Scbeasy', 'foreign', 'Excited', 'mistakes', 'unscrewed', 'autostatement', 'button', 'Nonthaburi', 'big', 'tagging', 'hours', 'cousin', 'golden', 'waive', 'Jing', 'wars', 'beginning', 'Be', 'Bread', 'blank', 'deceiving', 'wonder', 'cardscb', 'forgot', 'infinix', 'Since', 'wow', 'finance', 'happy', 'complete', 'callnbspnbsp', 'kcyber', 'unstable', 'xx', 'night', 'laa', 'TIP', 'Thonshat', 'product', 'common', 'Done', 'slight', 'hassles', 'Hey', 'SEC', 'dessert', 'sells', 'previous', 'switching', 'BEM', 'Ap', 'termite', 'Transport', 'Cant', 'Cashback', 'Islamic', 'motorbike', 'way', 'cap', 'Ickckckckckckck', 'grandmothers', 'Airasia', 'jaymart', 'destinations', 'temporary', 'Repository', 'compromise', 'report', 'pickup', 'Dont', 'contract', 'remedy', 'chat', 'Bank', 'withdrawing', 'appSCB', 'envelope', 'eightandahalf', 'Siri', 'Airways', 'Also', 'Corona', 'Car', 'dayThis', 'working', 'yous', 'thrown', 'DCA', 'EasyIve', 'activated', 'Scbam', 'ampnbspampnbsp', 'three', 'Vat', 'shares', 'toxic', 'weight', 'overcharged', 'spay', 'somewhere', 'We', 'netflix', 'mask', 'urlOmsin', 'Trues', 'photo', 'authorized', 'rules', 'May', 'baht', 'daytoday', 'highend', 'THAI', 'glad', 'compared', 'everyone', 'previously', 'Expires', 'Administration', 'debts', 'fuss', 'faces', 'To', 'Superrich', 'leave', 'Transferred', 'clerk', 'Bgrade', 'Phraya', 'EOM', 'wallets', 'identity', 'result', 'tip', 'Capital', 'Swift', 'Finanzian', 'wrestling', 'SCBampnbspnbspAmex', 'average', 'Thammarat', 'Note', 'Unionpay', 'South', 'providers', 'hacks', 'OTP', 'members', 'MBK', 'Russias', 'Price', 'reject', 'lowbuyer', 'inandout', 'Preferred', 'mnptwt', 'Hows', 'youve', 'Another', 'background', 'include', 'rating', 'BEC', 'KBank', 'bend', 'seized', 'bhWhen', 'handed', 'insurances', 'expense', 'pay', 'Bought', 'Sarana', 'Thomps', 'Even', 'thugs', 'Client', 'Gigoi', 'provided', 'barcode', 'union', 'Addin', 'nvr', 'products', 'ballet', 'depositor', 'college', 'winning', 'advice', 'thai', 'reimbursed', 'Found', 'problemshut', 'Wang', 'campaign', 'PRICE', 'decision', 'While', 'checker', 'part', 'thinking', 'Called', 'Cuwesa', 'Junsompong', 'able', 'tripled', 'accounted', 'Ready', 'fucking', 'Ad', 'Gosh', 'Walletpost', 'nothing', 'valued', 'Pronet', 'text', 'counters', 'Product', 'checkpoints', 'shared', 'East', 'expires', 'peoples', 'Been', 'washed', 'LoveReview', 'complaint', 'Borrowed', 'weply', 'stuffing', 'feestaxes', 'buying', 'Calling', 'Rela', 'accessing', 'millions', 'paychecks', 'status', 'tourpass', 'friends', 'slow', 'disable', 'convert', 'nbspnsp', 'misplaced', 'KtcPrivilege', 'rather', 'rabbbit', 'gambling', 'Janyu', 'modify', 'passport', 'share', 'trading', 'authenticated', 'book', 'lends', 'refinan', 'hospot', 'July', 'Burrows', 'nisit', 'speak', 'change', 'smiles', 'unreasonable', 'usedampnbspampnbsp', 'incomplete', 'older', 'counts', 'entitled', 'light', 'freemir', 'stays', 'consult', 'sucks', 'felt', 'Plat', 'list', 'turn', 'tsk', 'brok', 'realm', 'thread', 'Download', 'ts', 'compartment', 'shortterm', 'master', 'httpstcocphyywd', 'address', 'exceed', 'Seng', 'lt', 'Suddenly', 'outsourcing', 'slightly', 'receiver', 'provincial', 'thousands', 'Thanks', 'Court', 'item', 'cardsbillsmonths', 'Dear', 'tc', 'KW', 'machines', 'pig', 'Scbs', 'canals', 'Dropshipping', 'scbs', 'FF', 'marketers', 'unsuccessful', 'Kebank', 'stunned', 'certificates', 'Services', 'clinic', 'Loans', 'roaming', 'Cape', 'embassy', 'Apps', 'handout', 'affecting', 'sedans', 'Wed', 'risky', 'around', 'Flexi', 'httpswww', 'last', 'bring', 'Lottery', 'exactly', 'card', 'procedure', 'siwiam', 'rude', 'retail', 'yordyings', 'bunch', 'branches', 'Parents', 'Doi', 'inflation', 'looks', 'President', 'tricks', 'SWIFT', 'Dec', 'digital', 'lag', 'Tsk', 'queuer', 'Alipay', 'win', 'fair', 'MRR', 'consent', 'Peys', 'Exclusive', 'replacement', 'potential', 'household', 'profile', 'incoming', 'mg', 'lazada', 'consider', 'What', 'timeMy', 'Later', 'mart', 'citibank', 'ios', 'movie', 'United', 'project', 'juurney', 'Happy', 'Weve', 'cabinet', 'overwhelmed', 'miss', 'subscribed', 'BO', 'html', 'agent', 'mainstream', 'Suwankhun', 'bankthe', 'refuses', 'curves', 'gotten', 'joys', 'Bill', 'sirampnbspnbsp', 'former', 'flying', 'dragged', 'Asking', 'eruptions', 'reply', 'reloading', 'Cheng', 'Panisha', 'Tess', 'personal', 'joint', 'risen', 'grand', 'manager', 'Mom', 'marriage', 'lines', 'Gkivtec', 'Ah', 'circulate', 'Real', 'Mind', 'channels', 'Tip', 'institutions', 'downloaded', 'Jkt', 'bedridden', 'Srihomepro', 'authors', 'dies', 'area', 'bankers', 'filetypes', 'stands', 'receiving', 'camp', 'increased', 'Binging', 'application', 'expenditure', 'sucked', 'cried', 'Chang', 'rated', 'fc', 'creditburo', 'satisfied', 'noncard', 'ipo', 'click'}\n"
          ]
        }
      ]
    },
    {
      "cell_type": "code",
      "source": [
        "#Encode each document as a sequence of integers\n",
        "tokenizer = Tokenizer()\n",
        "tokenizer.fit_on_texts(train_docs)\n",
        "encoded_docs = tokenizer.texts_to_sequences(train_docs)"
      ],
      "metadata": {
        "id": "N5FTbC2XC1DL"
      },
      "execution_count": 11,
      "outputs": []
    },
    {
      "cell_type": "code",
      "source": [
        "#as each sentences contain different length of words, we need padding to make the sequences the same length before\n",
        "#putting into the embedding layer\n",
        "max_length = max([len(s.split()) for s in train_docs])\n",
        "Xtrain = pad_sequences(encoded_docs, maxlen=max_length, padding='post')\n",
        "ytrain = np.array(train['Human_CategoryID'].tolist())"
      ],
      "metadata": {
        "id": "3YeDCItHEHYY"
      },
      "execution_count": 12,
      "outputs": []
    },
    {
      "cell_type": "code",
      "source": [
        "#do the same as train above for test\n",
        "encoded_docs = tokenizer.texts_to_sequences(test_docs)\n",
        "Xtest = pad_sequences(encoded_docs, maxlen=max_length, padding='post')\n",
        "ytest = np.array(test['Human_CategoryID'].tolist())"
      ],
      "metadata": {
        "id": "AJnuTHopELNp"
      },
      "execution_count": 13,
      "outputs": []
    },
    {
      "cell_type": "code",
      "source": [
        "#defind vocabulary size\n",
        "vocab_size = len(tokenizer.word_index) + 1"
      ],
      "metadata": {
        "id": "fCrq8FIoEk2o"
      },
      "execution_count": 14,
      "outputs": []
    },
    {
      "cell_type": "code",
      "source": [
        "#Count unique classes\n",
        "print(train['Human_CategoryID'].nunique(), test['Human_CategoryID'].nunique())"
      ],
      "metadata": {
        "id": "7XZgjKsuEk9C",
        "colab": {
          "base_uri": "https://localhost:8080/"
        },
        "outputId": "73571de9-049d-4b3c-fe56-d85f77642e89"
      },
      "execution_count": 15,
      "outputs": [
        {
          "output_type": "stream",
          "name": "stdout",
          "text": [
            "13 13\n"
          ]
        }
      ]
    },
    {
      "cell_type": "code",
      "source": [
        "#Count unique classes\n",
        "num_classes = max(train['Human_CategoryID'].nunique(), test['Human_CategoryID'].nunique())\n",
        "print(num_classes)"
      ],
      "metadata": {
        "id": "km56RgrQE0nR",
        "colab": {
          "base_uri": "https://localhost:8080/"
        },
        "outputId": "0b5e3bad-bef9-4e0b-dec2-46e32ac5f86b"
      },
      "execution_count": 16,
      "outputs": [
        {
          "output_type": "stream",
          "name": "stdout",
          "text": [
            "13\n"
          ]
        }
      ]
    },
    {
      "cell_type": "code",
      "source": [
        "from tensorflow.keras.utils import to_categorical\n",
        "\n",
        "#Multi class problems need one-hot encoding on y\n",
        "#why - 1 on ytrain and ytest? can follow the linke below\n",
        "#https://stackoverflow.com/questions/56204731/the-method-np-utils-to-categorical-give-me-an-error/59002957#59002957\n",
        "ytrain =  to_categorical(ytrain-1, num_classes=num_classes)\n",
        "ytest = to_categorical(ytest-1, num_classes=num_classes)"
      ],
      "metadata": {
        "id": "5AkwsOvEE0uS"
      },
      "execution_count": 17,
      "outputs": []
    },
    {
      "cell_type": "code",
      "source": [
        "vocab_size = len(tokenizer.word_index)+1"
      ],
      "metadata": {
        "id": "kxUHJzkyE2Cw"
      },
      "execution_count": 18,
      "outputs": []
    },
    {
      "cell_type": "markdown",
      "source": [
        "#Model"
      ],
      "metadata": {
        "id": "2Wcr5KxLE8W3"
      }
    },
    {
      "cell_type": "markdown",
      "source": [
        "##CNN LSTM GMP1D D13: 62"
      ],
      "metadata": {
        "id": "hVA-lL4TGJLB"
      }
    },
    {
      "cell_type": "code",
      "source": [
        "import tensorflow as tf\n",
        "from keras.models import Sequential\n",
        "from keras.layers.convolutional import Conv1D, MaxPooling1D\n",
        "from keras.layers.pooling import GlobalMaxPooling1D, AveragePooling1D, GlobalAveragePooling1D\n",
        "from keras.layers import Dense, Flatten, Embedding, BatchNormalization, Dropout, LSTM, Bidirectional, TimeDistributed"
      ],
      "metadata": {
        "id": "br4WQmIrG1S3"
      },
      "execution_count": 19,
      "outputs": []
    },
    {
      "cell_type": "code",
      "source": [
        "#Define our model\n",
        "model = Sequential()\n",
        "\n",
        "model.add(Embedding(vocab_size, 100, input_length=max_length, trainable=True))\n",
        "model.add(Conv1D(filters=32, kernel_size=3, activation='relu'))\n",
        "model.add(LSTM(50, return_sequences=True))\n",
        "\n",
        "model.add(GlobalMaxPooling1D())\n",
        "model.add(Flatten())\n",
        "\n",
        "model.add(Dense(num_classes, activation='softmax'))\n",
        "print(model.summary())"
      ],
      "metadata": {
        "id": "qBvFAsX4GNXL",
        "colab": {
          "base_uri": "https://localhost:8080/"
        },
        "outputId": "2de7c6a8-c551-4886-b048-23dd6556f36c"
      },
      "execution_count": 20,
      "outputs": [
        {
          "output_type": "stream",
          "name": "stdout",
          "text": [
            "Model: \"sequential\"\n",
            "_________________________________________________________________\n",
            " Layer (type)                Output Shape              Param #   \n",
            "=================================================================\n",
            " embedding (Embedding)       (None, 190, 100)          1153600   \n",
            "                                                                 \n",
            " conv1d (Conv1D)             (None, 188, 32)           9632      \n",
            "                                                                 \n",
            " lstm (LSTM)                 (None, 188, 50)           16600     \n",
            "                                                                 \n",
            " global_max_pooling1d (Globa  (None, 50)               0         \n",
            " lMaxPooling1D)                                                  \n",
            "                                                                 \n",
            " flatten (Flatten)           (None, 50)                0         \n",
            "                                                                 \n",
            " dense (Dense)               (None, 13)                663       \n",
            "                                                                 \n",
            "=================================================================\n",
            "Total params: 1,180,495\n",
            "Trainable params: 1,180,495\n",
            "Non-trainable params: 0\n",
            "_________________________________________________________________\n",
            "None\n"
          ]
        }
      ]
    },
    {
      "cell_type": "code",
      "source": [
        "from tensorflow.keras.callbacks import EarlyStopping\n",
        "\n",
        "#put early stopping\n",
        "early_stopping = EarlyStopping(monitor='val_loss', patience=1, mode='min')\n",
        "\n",
        "#Your choices of activation='softmax' in the last layer and compile choice of loss='categorical_crossentropy' \n",
        "#are good for a model to predict multiple mutually-exclusive classes.\n",
        "\n",
        "model.compile(loss='categorical_crossentropy',\n",
        "              optimizer='adam', \n",
        "              metrics=['acc'],)"
      ],
      "metadata": {
        "id": "6h7dkVHjG7CD"
      },
      "execution_count": 21,
      "outputs": []
    },
    {
      "cell_type": "code",
      "source": [
        "#Try classweight from this https://datascience.stackexchange.com/questions/13490/how-to-set-class-weights-for-imbalanced-classes-in-keras\n",
        "\n",
        "history = model.fit(Xtrain, ytrain, \n",
        "                    epochs=10, batch_size=32, \n",
        "                    validation_split=0.2,\n",
        "                    callbacks=[early_stopping])"
      ],
      "metadata": {
        "id": "ONM10HAYG9Ho",
        "colab": {
          "base_uri": "https://localhost:8080/"
        },
        "outputId": "4e38bc7e-f5b4-4716-ef21-551f6c9610e7"
      },
      "execution_count": 22,
      "outputs": [
        {
          "output_type": "stream",
          "name": "stdout",
          "text": [
            "Epoch 1/10\n",
            "304/304 [==============================] - 19s 13ms/step - loss: 1.9636 - acc: 0.3442 - val_loss: 1.7720 - val_acc: 0.4276\n",
            "Epoch 2/10\n",
            "304/304 [==============================] - 3s 10ms/step - loss: 1.7085 - acc: 0.4520 - val_loss: 1.6945 - val_acc: 0.4588\n",
            "Epoch 3/10\n",
            "304/304 [==============================] - 3s 11ms/step - loss: 1.5387 - acc: 0.5245 - val_loss: 1.6434 - val_acc: 0.4934\n",
            "Epoch 4/10\n",
            "304/304 [==============================] - 3s 11ms/step - loss: 1.3857 - acc: 0.5803 - val_loss: 1.6477 - val_acc: 0.4844\n"
          ]
        }
      ]
    },
    {
      "cell_type": "code",
      "source": [
        "loss, acc = model.evaluate(Xtest, ytest)\n",
        "print('Test Accuracy: %f' % (acc*100))"
      ],
      "metadata": {
        "id": "C_4BpU86HCl5",
        "colab": {
          "base_uri": "https://localhost:8080/"
        },
        "outputId": "e39bbddf-d6dc-46c8-c2a4-ba392aef9431"
      },
      "execution_count": 23,
      "outputs": [
        {
          "output_type": "stream",
          "name": "stdout",
          "text": [
            "380/380 [==============================] - 2s 5ms/step - loss: 1.2977 - acc: 0.6121\n",
            "Test Accuracy: 61.209875\n"
          ]
        }
      ]
    },
    {
      "cell_type": "code",
      "source": [
        "history_frame = pd.DataFrame(history.history)\n",
        "history_frame.loc[:, ['loss', 'val_loss']].plot()"
      ],
      "metadata": {
        "id": "frfxlm4bG_H1",
        "colab": {
          "base_uri": "https://localhost:8080/",
          "height": 282
        },
        "outputId": "762bd7dd-bed8-4a6f-af41-179b738cb3e6"
      },
      "execution_count": 24,
      "outputs": [
        {
          "output_type": "execute_result",
          "data": {
            "text/plain": [
              "<matplotlib.axes._subplots.AxesSubplot at 0x7f52d4659510>"
            ]
          },
          "metadata": {},
          "execution_count": 24
        },
        {
          "output_type": "display_data",
          "data": {
            "text/plain": [
              "<Figure size 432x288 with 1 Axes>"
            ],
            "image/png": "[encoded data removed]"
          },
          "metadata": {
            "needs_background": "light"
          }
        }
      ]
    },
    {
      "cell_type": "code",
      "source": [
        "history_frame.loc[:, ['acc', 'val_acc']].plot()"
      ],
      "metadata": {
        "id": "BAjnmQlaHAM3",
        "colab": {
          "base_uri": "https://localhost:8080/",
          "height": 282
        },
        "outputId": "b222e2f7-d3ce-40c4-a848-17b672a6c888"
      },
      "execution_count": 25,
      "outputs": [
        {
          "output_type": "execute_result",
          "data": {
            "text/plain": [
              "<matplotlib.axes._subplots.AxesSubplot at 0x7f52d40f1b10>"
            ]
          },
          "metadata": {},
          "execution_count": 25
        },
        {
          "output_type": "display_data",
          "data": {
            "text/plain": [
              "<Figure size 432x288 with 1 Axes>"
            ],
            "image/png": "[encoded data removed]"
          },
          "metadata": {
            "needs_background": "light"
          }
        }
      ]
    },
    {
      "cell_type": "code",
      "source": [
        ""
      ],
      "metadata": {
        "id": "zg8XeyeMHDlx"
      },
      "execution_count": 25,
      "outputs": []
    },
    {
      "cell_type": "markdown",
      "source": [
        "## CNN1 GMP1D D13: 79\n"
      ],
      "metadata": {
        "id": "BX_XQj67E_b6"
      }
    },
    {
      "cell_type": "code",
      "source": [
        "from keras.layers import Dense, Flatten, Embedding, BatchNormalization, Dropout, LSTM, Bidirectional, TimeDistributed\n",
        "from keras.models import Sequential\n",
        "from keras.layers.convolutional import Conv1D, MaxPooling1D\n",
        "from keras.layers.pooling import GlobalMaxPooling1D, AveragePooling1D, GlobalAveragePooling1D\n",
        "import tensorflow as tf"
      ],
      "metadata": {
        "id": "CR-HCnzPFDoe"
      },
      "execution_count": 26,
      "outputs": []
    },
    {
      "cell_type": "code",
      "source": [
        "from keras.layers.pooling import GlobalMaxPooling1D\n",
        "#Define our model\n",
        "model = Sequential()\n",
        "\n",
        "model.add(Embedding(vocab_size, 1000, input_length=max_length, trainable=True))\n",
        "model.add(Conv1D(128, 5 , activation='relu'))\n",
        "#Among filters=[64,128,256], 128 is the best. \n",
        "#activation selu, tanh, relu, elu got similar results\n",
        "model.add(GlobalMaxPooling1D()) #Among pooliing, GMP1D is the best.\n",
        "\n",
        "model.add(Dense(num_classes, activation='softmax')) #1 Dense better than 2 Denses\n",
        "print(model.summary())"
      ],
      "metadata": {
        "id": "nddmIhdNFICP",
        "colab": {
          "base_uri": "https://localhost:8080/"
        },
        "outputId": "f32041e8-812c-48be-8ce0-9c9c3e77c47c"
      },
      "execution_count": 27,
      "outputs": [
        {
          "output_type": "stream",
          "name": "stdout",
          "text": [
            "Model: \"sequential_1\"\n",
            "_________________________________________________________________\n",
            " Layer (type)                Output Shape              Param #   \n",
            "=================================================================\n",
            " embedding_1 (Embedding)     (None, 190, 1000)         11536000  \n",
            "                                                                 \n",
            " conv1d_1 (Conv1D)           (None, 186, 128)          640128    \n",
            "                                                                 \n",
            " global_max_pooling1d_1 (Glo  (None, 128)              0         \n",
            " balMaxPooling1D)                                                \n",
            "                                                                 \n",
            " dense_1 (Dense)             (None, 13)                1677      \n",
            "                                                                 \n",
            "=================================================================\n",
            "Total params: 12,177,805\n",
            "Trainable params: 12,177,805\n",
            "Non-trainable params: 0\n",
            "_________________________________________________________________\n",
            "None\n"
          ]
        }
      ]
    },
    {
      "cell_type": "code",
      "source": [
        "from tensorflow.keras.callbacks import EarlyStopping\n",
        "\n",
        "#put early stopping\n",
        "early_stopping = EarlyStopping(monitor='val_loss', patience=1, mode='min')\n",
        "\n",
        "#Your choices of activation='softmax' in the last layer and compile choice of loss='categorical_crossentropy' \n",
        "#are good for a model to predict multiple mutually-exclusive classes.\n",
        "\n",
        "model.compile(loss='categorical_crossentropy',\n",
        "              optimizer='adam', \n",
        "              metrics=['acc'],)"
      ],
      "metadata": {
        "id": "Q9yeE8-iFJcL"
      },
      "execution_count": 28,
      "outputs": []
    },
    {
      "cell_type": "code",
      "source": [
        "#Try classweight from this https://datascience.stackexchange.com/questions/13490/how-to-set-class-weights-for-imbalanced-classes-in-keras\n",
        "#Get the similar results\n",
        "\n",
        "history = model.fit(Xtrain, ytrain, \n",
        "                    epochs=10, batch_size=32, #32, 128 > 8 (worse), 16, 64, 256\n",
        "                    validation_split=0.2,\n",
        "                    callbacks=[early_stopping])"
      ],
      "metadata": {
        "id": "7pCGbab1FMKr",
        "colab": {
          "base_uri": "https://localhost:8080/"
        },
        "outputId": "4e54bd23-ad84-483d-89c5-66d1175ed426"
      },
      "execution_count": 29,
      "outputs": [
        {
          "output_type": "stream",
          "name": "stdout",
          "text": [
            "Epoch 1/10\n",
            "304/304 [==============================] - 6s 17ms/step - loss: 1.7150 - acc: 0.4353 - val_loss: 1.4883 - val_acc: 0.5095\n",
            "Epoch 2/10\n",
            "304/304 [==============================] - 5s 16ms/step - loss: 1.2134 - acc: 0.6051 - val_loss: 1.4630 - val_acc: 0.5103\n",
            "Epoch 3/10\n",
            "304/304 [==============================] - 5s 16ms/step - loss: 0.8292 - acc: 0.7330 - val_loss: 1.4932 - val_acc: 0.5198\n"
          ]
        }
      ]
    },
    {
      "cell_type": "code",
      "source": [
        "loss, acc = model.evaluate(Xtest, ytest)\n",
        "print('Test Accuracy: %f' % (acc*100))"
      ],
      "metadata": {
        "id": "fhmvQ1gcFNxb",
        "colab": {
          "base_uri": "https://localhost:8080/"
        },
        "outputId": "7bd302c0-9834-4598-eb4b-60ecdbb128f5"
      },
      "execution_count": 30,
      "outputs": [
        {
          "output_type": "stream",
          "name": "stdout",
          "text": [
            "380/380 [==============================] - 1s 4ms/step - loss: 0.7033 - acc: 0.7901\n",
            "Test Accuracy: 79.012346\n"
          ]
        }
      ]
    },
    {
      "cell_type": "code",
      "source": [
        "history_frame = pd.DataFrame(history.history)\n",
        "history_frame.loc[:, ['loss', 'val_loss']].plot()"
      ],
      "metadata": {
        "id": "hl6XE30MFQpK",
        "colab": {
          "base_uri": "https://localhost:8080/",
          "height": 282
        },
        "outputId": "7cb3e2aa-2b28-4448-eb08-d93b24adde8b"
      },
      "execution_count": 31,
      "outputs": [
        {
          "output_type": "execute_result",
          "data": {
            "text/plain": [
              "<matplotlib.axes._subplots.AxesSubplot at 0x7f52d409f610>"
            ]
          },
          "metadata": {},
          "execution_count": 31
        },
        {
          "output_type": "display_data",
          "data": {
            "text/plain": [
              "<Figure size 432x288 with 1 Axes>"
            ],
            "image/png": "[encoded data removed]"
          },
          "metadata": {
            "needs_background": "light"
          }
        }
      ]
    },
    {
      "cell_type": "code",
      "source": [
        "history_frame.loc[:, ['acc', 'val_acc']].plot()"
      ],
      "metadata": {
        "id": "lkhNX8asFRwi",
        "colab": {
          "base_uri": "https://localhost:8080/",
          "height": 282
        },
        "outputId": "88d854f5-aeef-434f-8af4-4d5c59188412"
      },
      "execution_count": 32,
      "outputs": [
        {
          "output_type": "execute_result",
          "data": {
            "text/plain": [
              "<matplotlib.axes._subplots.AxesSubplot at 0x7f52d4fb7f10>"
            ]
          },
          "metadata": {},
          "execution_count": 32
        },
        {
          "output_type": "display_data",
          "data": {
            "text/plain": [
              "<Figure size 432x288 with 1 Axes>"
            ],
            "image/png": "[encoded data removed]"
          },
          "metadata": {
            "needs_background": "light"
          }
        }
      ]
    }
  ]
}