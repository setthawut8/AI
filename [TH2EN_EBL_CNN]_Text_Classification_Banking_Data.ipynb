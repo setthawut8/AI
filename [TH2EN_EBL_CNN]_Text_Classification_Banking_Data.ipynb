{
  "nbformat": 4,
  "nbformat_minor": 0,
  "metadata": {
    "colab": {
      "name": "[TH2EN  EBL CNN] Text Classification_Banking_Data.ipynb",
      "provenance": [],
      "machine_shape": "hm",
      "collapsed_sections": [
        "SF_gw2udAQY3",
        "1U9_3A4GB3fV"
      ],
      "toc_visible": true,
      "authorship_tag": "ABX9TyMoEaZYAZrdj3UR9GhZ2E8R",
      "include_colab_link": true
    },
    "kernelspec": {
      "name": "python3",
      "display_name": "Python 3"
    },
    "language_info": {
      "name": "python"
    },
    "accelerator": "GPU",
    "gpuClass": "standard"
  },
  "cells": [
    {
      "cell_type": "markdown",
      "metadata": {
        "id": "view-in-github",
        "colab_type": "text"
      },
      "source": [
        "<a href=\"https://colab.research.google.com/github/setthawut8/ai/blob/main/%5BTH2EN_EBL_CNN%5D_Text_Classification_Banking_Data.ipynb\" target=\"_parent\"><img src=\"https://colab.research.google.com/assets/colab-badge.svg\" alt=\"Open In Colab\"/></a>"
      ]
    },
    {
      "cell_type": "markdown",
      "source": [
        "#Download Data and Library Installation"
      ],
      "metadata": {
        "id": "DKZejA_uh9kv"
      }
    },
    {
      "cell_type": "code",
      "execution_count": 1,
      "metadata": {
        "id": "rY0gVkg8ahbS",
        "colab": {
          "base_uri": "https://localhost:8080/"
        },
        "outputId": "62cf038c-e92b-40ce-fb97-8831afef9d32"
      },
      "outputs": [
        {
          "output_type": "stream",
          "name": "stdout",
          "text": [
            "/usr/local/lib/python3.7/dist-packages/gdown/cli.py:131: FutureWarning: Option `--id` was deprecated in version 4.3.1 and will be removed in 5.0. You don't need to pass it anymore to use a file ID.\n",
            "  category=FutureWarning,\n",
            "Downloading...\n",
            "From: https://drive.google.com/uc?id=1-avUDygRCGvAiPplmc6MundS_PpnohRv\n",
            "To: /content/preprocessed_v1_socialfsi_single_train_sampling12150_20220701.xlsx\n",
            "100% 3.87M/3.87M [00:00<00:00, 201MB/s]\n",
            "/usr/local/lib/python3.7/dist-packages/gdown/cli.py:131: FutureWarning: Option `--id` was deprecated in version 4.3.1 and will be removed in 5.0. You don't need to pass it anymore to use a file ID.\n",
            "  category=FutureWarning,\n",
            "Downloading...\n",
            "From: https://drive.google.com/uc?id=106OVRPIQQBppganRnCZigxQh6-Zyvqit\n",
            "To: /content/preprocessed_v1_socialfsi_single_test_sampling389_20220701.xlsx\n",
            "100% 141k/141k [00:00<00:00, 81.5MB/s]\n",
            "/usr/local/lib/python3.7/dist-packages/gdown/cli.py:131: FutureWarning: Option `--id` was deprecated in version 4.3.1 and will be removed in 5.0. You don't need to pass it anymore to use a file ID.\n",
            "  category=FutureWarning,\n",
            "Downloading...\n",
            "From: https://drive.google.com/uc?id=1hdmLmyVp_-MOmHBKWs4OukuxoyUFxW8X\n",
            "To: /content/train_translated banking data.csv\n",
            "100% 18.7M/18.7M [00:00<00:00, 183MB/s]\n",
            "/usr/local/lib/python3.7/dist-packages/gdown/cli.py:131: FutureWarning: Option `--id` was deprecated in version 4.3.1 and will be removed in 5.0. You don't need to pass it anymore to use a file ID.\n",
            "  category=FutureWarning,\n",
            "Downloading...\n",
            "From: https://drive.google.com/uc?id=1Cq3FttnnzZa-RK7vlu94bJTRj8YD6vA5\n",
            "To: /content/test_translated banking data.csv\n",
            "100% 18.7M/18.7M [00:00<00:00, 205MB/s]\n",
            "Looking in indexes: https://pypi.org/simple, https://us-python.pkg.dev/colab-wheels/public/simple/\n",
            "Collecting flair\n",
            "  Downloading flair-0.11.3-py3-none-any.whl (401 kB)\n",
            "\u001b[K     |████████████████████████████████| 401 kB 9.5 MB/s \n",
            "\u001b[?25hRequirement already satisfied: torch!=1.8,>=1.5.0 in /usr/local/lib/python3.7/dist-packages (from flair) (1.11.0+cu113)\n",
            "Collecting conllu>=4.0\n",
            "  Downloading conllu-4.4.2-py2.py3-none-any.whl (15 kB)\n",
            "Collecting wikipedia-api\n",
            "  Downloading Wikipedia-API-0.5.4.tar.gz (18 kB)\n",
            "Requirement already satisfied: more-itertools in /usr/local/lib/python3.7/dist-packages (from flair) (8.13.0)\n",
            "Collecting konoha<5.0.0,>=4.0.0\n",
            "  Downloading konoha-4.6.5-py3-none-any.whl (20 kB)\n",
            "Requirement already satisfied: scikit-learn>=0.21.3 in /usr/local/lib/python3.7/dist-packages (from flair) (1.0.2)\n",
            "Requirement already satisfied: gensim>=3.4.0 in /usr/local/lib/python3.7/dist-packages (from flair) (3.6.0)\n",
            "Collecting ftfy\n",
            "  Downloading ftfy-6.1.1-py3-none-any.whl (53 kB)\n",
            "\u001b[K     |████████████████████████████████| 53 kB 1.6 MB/s \n",
            "\u001b[?25hCollecting langdetect\n",
            "  Downloading langdetect-1.0.9.tar.gz (981 kB)\n",
            "\u001b[K     |████████████████████████████████| 981 kB 53.3 MB/s \n",
            "\u001b[?25hCollecting segtok>=1.5.7\n",
            "  Downloading segtok-1.5.11-py3-none-any.whl (24 kB)\n",
            "Requirement already satisfied: python-dateutil>=2.6.1 in /usr/local/lib/python3.7/dist-packages (from flair) (2.8.2)\n",
            "Collecting hyperopt>=0.2.7\n",
            "  Downloading hyperopt-0.2.7-py2.py3-none-any.whl (1.6 MB)\n",
            "\u001b[K     |████████████████████████████████| 1.6 MB 42.4 MB/s \n",
            "\u001b[?25hCollecting pptree\n",
            "  Downloading pptree-3.1.tar.gz (3.0 kB)\n",
            "Collecting transformers>=4.0.0\n",
            "  Downloading transformers-4.20.1-py3-none-any.whl (4.4 MB)\n",
            "\u001b[K     |████████████████████████████████| 4.4 MB 37.9 MB/s \n",
            "\u001b[?25hCollecting huggingface-hub\n",
            "  Downloading huggingface_hub-0.8.1-py3-none-any.whl (101 kB)\n",
            "\u001b[K     |████████████████████████████████| 101 kB 8.8 MB/s \n",
            "\u001b[?25hCollecting bpemb>=0.3.2\n",
            "  Downloading bpemb-0.3.3-py3-none-any.whl (19 kB)\n",
            "Collecting mpld3==0.3\n",
            "  Downloading mpld3-0.3.tar.gz (788 kB)\n",
            "\u001b[K     |████████████████████████████████| 788 kB 39.7 MB/s \n",
            "\u001b[?25hRequirement already satisfied: tabulate in /usr/local/lib/python3.7/dist-packages (from flair) (0.8.9)\n",
            "Collecting deprecated>=1.2.4\n",
            "  Downloading Deprecated-1.2.13-py2.py3-none-any.whl (9.6 kB)\n",
            "Requirement already satisfied: regex in /usr/local/lib/python3.7/dist-packages (from flair) (2022.6.2)\n",
            "Requirement already satisfied: gdown==4.4.0 in /usr/local/lib/python3.7/dist-packages (from flair) (4.4.0)\n",
            "Collecting sqlitedict>=1.6.0\n",
            "  Downloading sqlitedict-2.0.0.tar.gz (46 kB)\n",
            "\u001b[K     |████████████████████████████████| 46 kB 3.6 MB/s \n",
            "\u001b[?25hRequirement already satisfied: matplotlib>=2.2.3 in /usr/local/lib/python3.7/dist-packages (from flair) (3.2.2)\n",
            "Requirement already satisfied: lxml in /usr/local/lib/python3.7/dist-packages (from flair) (4.2.6)\n",
            "Requirement already satisfied: tqdm>=4.26.0 in /usr/local/lib/python3.7/dist-packages (from flair) (4.64.0)\n",
            "Collecting janome\n",
            "  Downloading Janome-0.4.2-py2.py3-none-any.whl (19.7 MB)\n",
            "\u001b[K     |████████████████████████████████| 19.7 MB 78.0 MB/s \n",
            "\u001b[?25hCollecting sentencepiece==0.1.95\n",
            "  Downloading sentencepiece-0.1.95-cp37-cp37m-manylinux2014_x86_64.whl (1.2 MB)\n",
            "\u001b[K     |████████████████████████████████| 1.2 MB 43.8 MB/s \n",
            "\u001b[?25hRequirement already satisfied: six in /usr/local/lib/python3.7/dist-packages (from gdown==4.4.0->flair) (1.15.0)\n",
            "Requirement already satisfied: requests[socks] in /usr/local/lib/python3.7/dist-packages (from gdown==4.4.0->flair) (2.23.0)\n",
            "Requirement already satisfied: beautifulsoup4 in /usr/local/lib/python3.7/dist-packages (from gdown==4.4.0->flair) (4.6.3)\n",
            "Requirement already satisfied: filelock in /usr/local/lib/python3.7/dist-packages (from gdown==4.4.0->flair) (3.7.1)\n",
            "Requirement already satisfied: numpy in /usr/local/lib/python3.7/dist-packages (from bpemb>=0.3.2->flair) (1.21.6)\n",
            "Requirement already satisfied: wrapt<2,>=1.10 in /usr/local/lib/python3.7/dist-packages (from deprecated>=1.2.4->flair) (1.14.1)\n",
            "Requirement already satisfied: scipy>=0.18.1 in /usr/local/lib/python3.7/dist-packages (from gensim>=3.4.0->flair) (1.4.1)\n",
            "Requirement already satisfied: smart-open>=1.2.1 in /usr/local/lib/python3.7/dist-packages (from gensim>=3.4.0->flair) (5.2.1)\n",
            "Collecting py4j\n",
            "  Downloading py4j-0.10.9.5-py2.py3-none-any.whl (199 kB)\n",
            "\u001b[K     |████████████████████████████████| 199 kB 49.1 MB/s \n",
            "\u001b[?25hRequirement already satisfied: cloudpickle in /usr/local/lib/python3.7/dist-packages (from hyperopt>=0.2.7->flair) (1.3.0)\n",
            "Requirement already satisfied: networkx>=2.2 in /usr/local/lib/python3.7/dist-packages (from hyperopt>=0.2.7->flair) (2.6.3)\n",
            "Requirement already satisfied: future in /usr/local/lib/python3.7/dist-packages (from hyperopt>=0.2.7->flair) (0.16.0)\n",
            "Collecting overrides<4.0.0,>=3.0.0\n",
            "  Downloading overrides-3.1.0.tar.gz (11 kB)\n",
            "Collecting importlib-metadata<4.0.0,>=3.7.0\n",
            "  Downloading importlib_metadata-3.10.1-py3-none-any.whl (14 kB)\n",
            "Collecting requests\n",
            "  Downloading requests-2.28.1-py3-none-any.whl (62 kB)\n",
            "\u001b[K     |████████████████████████████████| 62 kB 1.4 MB/s \n",
            "\u001b[?25hRequirement already satisfied: typing-extensions>=3.6.4 in /usr/local/lib/python3.7/dist-packages (from importlib-metadata<4.0.0,>=3.7.0->konoha<5.0.0,>=4.0.0->flair) (4.1.1)\n",
            "Requirement already satisfied: zipp>=0.5 in /usr/local/lib/python3.7/dist-packages (from importlib-metadata<4.0.0,>=3.7.0->konoha<5.0.0,>=4.0.0->flair) (3.8.0)\n",
            "Requirement already satisfied: cycler>=0.10 in /usr/local/lib/python3.7/dist-packages (from matplotlib>=2.2.3->flair) (0.11.0)\n",
            "Requirement already satisfied: pyparsing!=2.0.4,!=2.1.2,!=2.1.6,>=2.0.1 in /usr/local/lib/python3.7/dist-packages (from matplotlib>=2.2.3->flair) (3.0.9)\n",
            "Requirement already satisfied: kiwisolver>=1.0.1 in /usr/local/lib/python3.7/dist-packages (from matplotlib>=2.2.3->flair) (1.4.3)\n",
            "Requirement already satisfied: charset-normalizer<3,>=2 in /usr/local/lib/python3.7/dist-packages (from requests->bpemb>=0.3.2->flair) (2.1.0)\n",
            "Requirement already satisfied: certifi>=2017.4.17 in /usr/local/lib/python3.7/dist-packages (from requests->bpemb>=0.3.2->flair) (2022.6.15)\n",
            "Requirement already satisfied: urllib3<1.27,>=1.21.1 in /usr/local/lib/python3.7/dist-packages (from requests->bpemb>=0.3.2->flair) (1.24.3)\n",
            "Requirement already satisfied: idna<4,>=2.5 in /usr/local/lib/python3.7/dist-packages (from requests->bpemb>=0.3.2->flair) (2.10)\n",
            "Requirement already satisfied: threadpoolctl>=2.0.0 in /usr/local/lib/python3.7/dist-packages (from scikit-learn>=0.21.3->flair) (3.1.0)\n",
            "Requirement already satisfied: joblib>=0.11 in /usr/local/lib/python3.7/dist-packages (from scikit-learn>=0.21.3->flair) (1.1.0)\n",
            "Collecting tokenizers!=0.11.3,<0.13,>=0.11.1\n",
            "  Downloading tokenizers-0.12.1-cp37-cp37m-manylinux_2_12_x86_64.manylinux2010_x86_64.whl (6.6 MB)\n",
            "\u001b[K     |████████████████████████████████| 6.6 MB 42.4 MB/s \n",
            "\u001b[?25hCollecting pyyaml>=5.1\n",
            "  Downloading PyYAML-6.0-cp37-cp37m-manylinux_2_5_x86_64.manylinux1_x86_64.manylinux_2_12_x86_64.manylinux2010_x86_64.whl (596 kB)\n",
            "\u001b[K     |████████████████████████████████| 596 kB 50.0 MB/s \n",
            "\u001b[?25hRequirement already satisfied: packaging>=20.0 in /usr/local/lib/python3.7/dist-packages (from transformers>=4.0.0->flair) (21.3)\n",
            "Requirement already satisfied: wcwidth>=0.2.5 in /usr/local/lib/python3.7/dist-packages (from ftfy->flair) (0.2.5)\n",
            "Requirement already satisfied: PySocks!=1.5.7,>=1.5.6 in /usr/local/lib/python3.7/dist-packages (from requests->bpemb>=0.3.2->flair) (1.7.1)\n",
            "Building wheels for collected packages: mpld3, overrides, sqlitedict, langdetect, pptree, wikipedia-api\n",
            "  Building wheel for mpld3 (setup.py) ... \u001b[?25l\u001b[?25hdone\n",
            "  Created wheel for mpld3: filename=mpld3-0.3-py3-none-any.whl size=116702 sha256=fe98810e1ab45b8c6e4822d4e337985f148131d62f79697f7b4936b6b344e0d1\n",
            "  Stored in directory: /root/.cache/pip/wheels/26/70/6a/1c79e59951a41b4045497da187b2724f5659ca64033cf4548e\n",
            "  Building wheel for overrides (setup.py) ... \u001b[?25l\u001b[?25hdone\n",
            "  Created wheel for overrides: filename=overrides-3.1.0-py3-none-any.whl size=10187 sha256=76b8bd596c9236fa5fb4d0c83fdaac697fdae8fb229fbd92f2d7cd476e9f45e7\n",
            "  Stored in directory: /root/.cache/pip/wheels/3a/0d/38/01a9bc6e20dcfaf0a6a7b552d03137558ba1c38aea47644682\n",
            "  Building wheel for sqlitedict (setup.py) ... \u001b[?25l\u001b[?25hdone\n",
            "  Created wheel for sqlitedict: filename=sqlitedict-2.0.0-py3-none-any.whl size=15736 sha256=4f424dad2352bc759a07c4937038a5c6ba420cc19c124116b51f13042b5667f0\n",
            "  Stored in directory: /root/.cache/pip/wheels/96/dd/2e/0ed4a25cb73fc30c7ea8d10b50acb7226175736067e40a7ea3\n",
            "  Building wheel for langdetect (setup.py) ... \u001b[?25l\u001b[?25hdone\n",
            "  Created wheel for langdetect: filename=langdetect-1.0.9-py3-none-any.whl size=993242 sha256=91cc709d2c3c4c4c59de5e19f2bf684e3a3c0fdf930cc0bfdb79ead099c27313\n",
            "  Stored in directory: /root/.cache/pip/wheels/c5/96/8a/f90c59ed25d75e50a8c10a1b1c2d4c402e4dacfa87f3aff36a\n",
            "  Building wheel for pptree (setup.py) ... \u001b[?25l\u001b[?25hdone\n",
            "  Created wheel for pptree: filename=pptree-3.1-py3-none-any.whl size=4629 sha256=44ca2e49a127753fa492a443d8cbb889ec7cfb316bf9b12b93bcaa33f83b7541\n",
            "  Stored in directory: /root/.cache/pip/wheels/9e/e8/7d/a9c3c19b4722608a0d8b05a38c36bc3f230c43becd2a46794b\n",
            "  Building wheel for wikipedia-api (setup.py) ... \u001b[?25l\u001b[?25hdone\n",
            "  Created wheel for wikipedia-api: filename=Wikipedia_API-0.5.4-py3-none-any.whl size=13477 sha256=35df14e83b6a9984bb342ee9b7b967f0aeb8bb2ff86d741c66d9f9ab24ccee60\n",
            "  Stored in directory: /root/.cache/pip/wheels/d3/24/56/58ba93cf78be162451144e7a9889603f437976ef1ae7013d04\n",
            "Successfully built mpld3 overrides sqlitedict langdetect pptree wikipedia-api\n",
            "Installing collected packages: requests, pyyaml, importlib-metadata, tokenizers, sentencepiece, py4j, overrides, huggingface-hub, wikipedia-api, transformers, sqlitedict, segtok, pptree, mpld3, langdetect, konoha, janome, hyperopt, ftfy, deprecated, conllu, bpemb, flair\n",
            "  Attempting uninstall: requests\n",
            "    Found existing installation: requests 2.23.0\n",
            "    Uninstalling requests-2.23.0:\n",
            "      Successfully uninstalled requests-2.23.0\n",
            "  Attempting uninstall: pyyaml\n",
            "    Found existing installation: PyYAML 3.13\n",
            "    Uninstalling PyYAML-3.13:\n",
            "      Successfully uninstalled PyYAML-3.13\n",
            "  Attempting uninstall: importlib-metadata\n",
            "    Found existing installation: importlib-metadata 4.11.4\n",
            "    Uninstalling importlib-metadata-4.11.4:\n",
            "      Successfully uninstalled importlib-metadata-4.11.4\n",
            "  Attempting uninstall: hyperopt\n",
            "    Found existing installation: hyperopt 0.1.2\n",
            "    Uninstalling hyperopt-0.1.2:\n",
            "      Successfully uninstalled hyperopt-0.1.2\n",
            "\u001b[31mERROR: pip's dependency resolver does not currently take into account all the packages that are installed. This behaviour is the source of the following dependency conflicts.\n",
            "markdown 3.3.7 requires importlib-metadata>=4.4; python_version < \"3.10\", but you have importlib-metadata 3.10.1 which is incompatible.\n",
            "google-colab 1.0.0 requires requests~=2.23.0, but you have requests 2.28.1 which is incompatible.\n",
            "datascience 0.10.6 requires folium==0.2.1, but you have folium 0.8.3 which is incompatible.\u001b[0m\n",
            "Successfully installed bpemb-0.3.3 conllu-4.4.2 deprecated-1.2.13 flair-0.11.3 ftfy-6.1.1 huggingface-hub-0.8.1 hyperopt-0.2.7 importlib-metadata-3.10.1 janome-0.4.2 konoha-4.6.5 langdetect-1.0.9 mpld3-0.3 overrides-3.1.0 pptree-3.1 py4j-0.10.9.5 pyyaml-6.0 requests-2.28.1 segtok-1.5.11 sentencepiece-0.1.95 sqlitedict-2.0.0 tokenizers-0.12.1 transformers-4.20.1 wikipedia-api-0.5.4\n",
            "Looking in indexes: https://pypi.org/simple, https://us-python.pkg.dev/colab-wheels/public/simple/\n",
            "Collecting fairseq\n",
            "  Downloading fairseq-0.12.2-cp37-cp37m-manylinux_2_5_x86_64.manylinux1_x86_64.whl (11.0 MB)\n",
            "\u001b[K     |████████████████████████████████| 11.0 MB 6.1 MB/s \n",
            "\u001b[?25hRequirement already satisfied: torchaudio>=0.8.0 in /usr/local/lib/python3.7/dist-packages (from fairseq) (0.11.0+cu113)\n",
            "Requirement already satisfied: numpy in /usr/local/lib/python3.7/dist-packages (from fairseq) (1.21.6)\n",
            "Collecting bitarray\n",
            "  Downloading bitarray-2.5.1-cp37-cp37m-manylinux_2_17_x86_64.manylinux2014_x86_64.whl (236 kB)\n",
            "\u001b[K     |████████████████████████████████| 236 kB 55.6 MB/s \n",
            "\u001b[?25hCollecting sacrebleu>=1.4.12\n",
            "  Downloading sacrebleu-2.1.0-py3-none-any.whl (92 kB)\n",
            "\u001b[K     |████████████████████████████████| 92 kB 8.3 MB/s \n",
            "\u001b[?25hRequirement already satisfied: tqdm in /usr/local/lib/python3.7/dist-packages (from fairseq) (4.64.0)\n",
            "Collecting omegaconf<2.1\n",
            "  Downloading omegaconf-2.0.6-py3-none-any.whl (36 kB)\n",
            "Collecting hydra-core<1.1,>=1.0.7\n",
            "  Downloading hydra_core-1.0.7-py3-none-any.whl (123 kB)\n",
            "\u001b[K     |████████████████████████████████| 123 kB 58.4 MB/s \n",
            "\u001b[?25hRequirement already satisfied: cython in /usr/local/lib/python3.7/dist-packages (from fairseq) (0.29.30)\n",
            "Requirement already satisfied: cffi in /usr/local/lib/python3.7/dist-packages (from fairseq) (1.15.0)\n",
            "Requirement already satisfied: regex in /usr/local/lib/python3.7/dist-packages (from fairseq) (2022.6.2)\n",
            "Requirement already satisfied: torch in /usr/local/lib/python3.7/dist-packages (from fairseq) (1.11.0+cu113)\n",
            "Collecting antlr4-python3-runtime==4.8\n",
            "  Downloading antlr4-python3-runtime-4.8.tar.gz (112 kB)\n",
            "\u001b[K     |████████████████████████████████| 112 kB 38.0 MB/s \n",
            "\u001b[?25hRequirement already satisfied: importlib-resources in /usr/local/lib/python3.7/dist-packages (from hydra-core<1.1,>=1.0.7->fairseq) (5.7.1)\n",
            "Requirement already satisfied: typing-extensions in /usr/local/lib/python3.7/dist-packages (from omegaconf<2.1->fairseq) (4.1.1)\n",
            "Requirement already satisfied: PyYAML>=5.1.* in /usr/local/lib/python3.7/dist-packages (from omegaconf<2.1->fairseq) (6.0)\n",
            "Requirement already satisfied: tabulate>=0.8.9 in /usr/local/lib/python3.7/dist-packages (from sacrebleu>=1.4.12->fairseq) (0.8.9)\n",
            "Collecting portalocker\n",
            "  Downloading portalocker-2.4.0-py2.py3-none-any.whl (16 kB)\n",
            "Collecting colorama\n",
            "  Downloading colorama-0.4.5-py2.py3-none-any.whl (16 kB)\n",
            "Requirement already satisfied: pycparser in /usr/local/lib/python3.7/dist-packages (from cffi->fairseq) (2.21)\n",
            "Requirement already satisfied: zipp>=3.1.0 in /usr/local/lib/python3.7/dist-packages (from importlib-resources->hydra-core<1.1,>=1.0.7->fairseq) (3.8.0)\n",
            "Building wheels for collected packages: antlr4-python3-runtime\n",
            "  Building wheel for antlr4-python3-runtime (setup.py) ... \u001b[?25l\u001b[?25hdone\n",
            "  Created wheel for antlr4-python3-runtime: filename=antlr4_python3_runtime-4.8-py3-none-any.whl size=141230 sha256=a09397fb020a055fe461e2b0c355b31f2ecc1a74a7e5dc9e822cbe45dda9f850\n",
            "  Stored in directory: /root/.cache/pip/wheels/ca/33/b7/336836125fc9bb4ceaa4376d8abca10ca8bc84ddc824baea6c\n",
            "Successfully built antlr4-python3-runtime\n",
            "Installing collected packages: portalocker, omegaconf, colorama, antlr4-python3-runtime, sacrebleu, hydra-core, bitarray, fairseq\n",
            "Successfully installed antlr4-python3-runtime-4.8 bitarray-2.5.1 colorama-0.4.5 fairseq-0.12.2 hydra-core-1.0.7 omegaconf-2.0.6 portalocker-2.4.0 sacrebleu-2.1.0\n",
            "Looking in indexes: https://pypi.org/simple, https://us-python.pkg.dev/colab-wheels/public/simple/\n",
            "Collecting pythainlp\n",
            "  Downloading pythainlp-3.0.8-py3-none-any.whl (11.5 MB)\n",
            "\u001b[K     |████████████████████████████████| 11.5 MB 5.9 MB/s \n",
            "\u001b[?25hRequirement already satisfied: requests>=2.22.0 in /usr/local/lib/python3.7/dist-packages (from pythainlp) (2.28.1)\n",
            "Collecting tinydb>=3.0\n",
            "  Downloading tinydb-4.7.0-py3-none-any.whl (24 kB)\n",
            "Requirement already satisfied: charset-normalizer<3,>=2 in /usr/local/lib/python3.7/dist-packages (from requests>=2.22.0->pythainlp) (2.1.0)\n",
            "Requirement already satisfied: idna<4,>=2.5 in /usr/local/lib/python3.7/dist-packages (from requests>=2.22.0->pythainlp) (2.10)\n",
            "Requirement already satisfied: urllib3<1.27,>=1.21.1 in /usr/local/lib/python3.7/dist-packages (from requests>=2.22.0->pythainlp) (1.24.3)\n",
            "Requirement already satisfied: certifi>=2017.4.17 in /usr/local/lib/python3.7/dist-packages (from requests>=2.22.0->pythainlp) (2022.6.15)\n",
            "Requirement already satisfied: typing-extensions<5.0.0,>=3.10.0 in /usr/local/lib/python3.7/dist-packages (from tinydb>=3.0->pythainlp) (4.1.1)\n",
            "Installing collected packages: tinydb, pythainlp\n",
            "Successfully installed pythainlp-3.0.8 tinydb-4.7.0\n",
            "Looking in indexes: https://pypi.org/simple, https://us-python.pkg.dev/colab-wheels/public/simple/\n",
            "Requirement already satisfied: transformers in /usr/local/lib/python3.7/dist-packages (4.20.1)\n",
            "Requirement already satisfied: tokenizers!=0.11.3,<0.13,>=0.11.1 in /usr/local/lib/python3.7/dist-packages (from transformers) (0.12.1)\n",
            "Requirement already satisfied: tqdm>=4.27 in /usr/local/lib/python3.7/dist-packages (from transformers) (4.64.0)\n",
            "Requirement already satisfied: numpy>=1.17 in /usr/local/lib/python3.7/dist-packages (from transformers) (1.21.6)\n",
            "Requirement already satisfied: huggingface-hub<1.0,>=0.1.0 in /usr/local/lib/python3.7/dist-packages (from transformers) (0.8.1)\n",
            "Requirement already satisfied: pyyaml>=5.1 in /usr/local/lib/python3.7/dist-packages (from transformers) (6.0)\n",
            "Requirement already satisfied: importlib-metadata in /usr/local/lib/python3.7/dist-packages (from transformers) (3.10.1)\n",
            "Requirement already satisfied: requests in /usr/local/lib/python3.7/dist-packages (from transformers) (2.28.1)\n",
            "Requirement already satisfied: packaging>=20.0 in /usr/local/lib/python3.7/dist-packages (from transformers) (21.3)\n",
            "Requirement already satisfied: regex!=2019.12.17 in /usr/local/lib/python3.7/dist-packages (from transformers) (2022.6.2)\n",
            "Requirement already satisfied: filelock in /usr/local/lib/python3.7/dist-packages (from transformers) (3.7.1)\n",
            "Requirement already satisfied: typing-extensions>=3.7.4.3 in /usr/local/lib/python3.7/dist-packages (from huggingface-hub<1.0,>=0.1.0->transformers) (4.1.1)\n",
            "Requirement already satisfied: pyparsing!=3.0.5,>=2.0.2 in /usr/local/lib/python3.7/dist-packages (from packaging>=20.0->transformers) (3.0.9)\n",
            "Requirement already satisfied: zipp>=0.5 in /usr/local/lib/python3.7/dist-packages (from importlib-metadata->transformers) (3.8.0)\n",
            "Requirement already satisfied: idna<4,>=2.5 in /usr/local/lib/python3.7/dist-packages (from requests->transformers) (2.10)\n",
            "Requirement already satisfied: certifi>=2017.4.17 in /usr/local/lib/python3.7/dist-packages (from requests->transformers) (2022.6.15)\n",
            "Requirement already satisfied: charset-normalizer<3,>=2 in /usr/local/lib/python3.7/dist-packages (from requests->transformers) (2.1.0)\n",
            "Requirement already satisfied: urllib3<1.27,>=1.21.1 in /usr/local/lib/python3.7/dist-packages (from requests->transformers) (1.24.3)\n",
            "Looking in indexes: https://pypi.org/simple, https://us-python.pkg.dev/colab-wheels/public/simple/\n",
            "Collecting sacremoses\n",
            "  Downloading sacremoses-0.0.53.tar.gz (880 kB)\n",
            "\u001b[K     |████████████████████████████████| 880 kB 7.0 MB/s \n",
            "\u001b[?25hRequirement already satisfied: sentencepiece in /usr/local/lib/python3.7/dist-packages (0.1.95)\n",
            "Requirement already satisfied: regex in /usr/local/lib/python3.7/dist-packages (from sacremoses) (2022.6.2)\n",
            "Requirement already satisfied: six in /usr/local/lib/python3.7/dist-packages (from sacremoses) (1.15.0)\n",
            "Requirement already satisfied: click in /usr/local/lib/python3.7/dist-packages (from sacremoses) (7.1.2)\n",
            "Requirement already satisfied: joblib in /usr/local/lib/python3.7/dist-packages (from sacremoses) (1.1.0)\n",
            "Requirement already satisfied: tqdm in /usr/local/lib/python3.7/dist-packages (from sacremoses) (4.64.0)\n",
            "Building wheels for collected packages: sacremoses\n",
            "  Building wheel for sacremoses (setup.py) ... \u001b[?25l\u001b[?25hdone\n",
            "  Created wheel for sacremoses: filename=sacremoses-0.0.53-py3-none-any.whl size=895260 sha256=c9be7cdc705820129f51f7d25128ef50165c1277d3f237838571221615da2b1f\n",
            "  Stored in directory: /root/.cache/pip/wheels/87/39/dd/a83eeef36d0bf98e7a4d1933a4ad2d660295a40613079bafc9\n",
            "Successfully built sacremoses\n",
            "Installing collected packages: sacremoses\n",
            "Successfully installed sacremoses-0.0.53\n"
          ]
        }
      ],
      "source": [
        "#download data\n",
        "#raw\n",
        "!gdown --id 1-avUDygRCGvAiPplmc6MundS_PpnohRv \n",
        "!gdown --id 106OVRPIQQBppganRnCZigxQh6-Zyvqit\n",
        "#raw with translated\n",
        "!gdown --id 1hdmLmyVp_-MOmHBKWs4OukuxoyUFxW8X\n",
        "!gdown --id 1Cq3FttnnzZa-RK7vlu94bJTRj8YD6vA5\n",
        "\n",
        "!pip install flair \n",
        "!pip install fairseq\n",
        "!pip install pythainlp\n",
        "!pip install transformers\n",
        "!pip install sacremoses sentencepiece"
      ]
    },
    {
      "cell_type": "code",
      "source": [
        "#libraby \n",
        "import numpy as np\n",
        "import pandas as pd\n",
        "import seaborn as sns\n",
        "import matplotlib.pyplot as plt\n",
        "\n",
        "import string\n",
        "import os, os.path\n",
        "import pandas as pd\n",
        "import seaborn as sns\n",
        "\n",
        "import nltk\n",
        "nltk.download('stopwords')\n",
        "from nltk.corpus import stopwords\n",
        "\n",
        "from string import punctuation\n",
        "from os import listdir\n",
        "from collections import Counter\n",
        "from nltk.corpus import stopwords\n",
        "\n",
        "from keras.preprocessing.text import Tokenizer\n",
        "from keras_preprocessing.sequence import pad_sequences\n",
        "\n",
        "from keras.layers import Dense\n",
        "from keras.layers import Flatten\n",
        "from keras.layers import Embedding\n",
        "from keras.models import Sequential\n",
        "from keras.layers.convolutional import Conv1D\n",
        "from keras.layers.convolutional import MaxPooling1D"
      ],
      "metadata": {
        "id": "cgMb7j8pbNQj",
        "colab": {
          "base_uri": "https://localhost:8080/"
        },
        "outputId": "c8fd6041-069d-4dad-99bb-66ba069b676d"
      },
      "execution_count": 2,
      "outputs": [
        {
          "output_type": "stream",
          "name": "stderr",
          "text": [
            "[nltk_data] Downloading package stopwords to /root/nltk_data...\n",
            "[nltk_data]   Unzipping corpora/stopwords.zip.\n"
          ]
        }
      ]
    },
    {
      "cell_type": "code",
      "source": [
        "train = pd.read_csv('/content/train_translated banking data.csv')\n",
        "test = pd.read_csv('/content/test_translated banking data.csv')"
      ],
      "metadata": {
        "id": "ITJldeRSbbc6"
      },
      "execution_count": 3,
      "outputs": []
    },
    {
      "cell_type": "code",
      "source": [
        "train.head(5)"
      ],
      "metadata": {
        "colab": {
          "base_uri": "https://localhost:8080/",
          "height": 582
        },
        "id": "sMuRAAX0b2mv",
        "outputId": "a6002a53-55ce-4472-ba4a-bec596aa5c7d"
      },
      "execution_count": 4,
      "outputs": [
        {
          "output_type": "execute_result",
          "data": {
            "text/plain": [
              "   Unnamed: 0  Unnamed: 0.1  \\\n",
              "0           0             0   \n",
              "1           1             1   \n",
              "2           2             2   \n",
              "3           3             3   \n",
              "4           4             4   \n",
              "\n",
              "                                        TagFile_Path  \\\n",
              "0  SocialFSI_ZE-KTB-Feb-Apr2022_Sampling2244_2022...   \n",
              "1  SocialFSI_v4_0_mutiple_train_sampling8203_2021...   \n",
              "2  SocialFSI_ZE-KTB-Feb-Apr2022_Sampling2244_2022...   \n",
              "3  SocialFSI_v4_0_mutiple_train_sampling8203_2021...   \n",
              "4  SocialFSI_v4_0_mutiple_train_sampling8203_2021...   \n",
              "\n",
              "                                             TagFile SV_CustomerName  \\\n",
              "0  SocialFSI_ZE-KTB-Feb-Apr2022_Sampling1400_2022...  Krungthai_NEXT   \n",
              "1  SocialFSI_TrainDataV4_RetagCLS-12_Sampling53_P...             NaN   \n",
              "2  SocialFSI_ZE-KTB-Feb-Apr2022_Sampling1200_2022...  Krungthai_NEXT   \n",
              "3  SocialFSI_TrainSCB-SocialFilterV2_Sampling2750...             NaN   \n",
              "4  SocialFSI_TrainSCB-SocialFilterV2_Sampling2750...             NaN   \n",
              "\n",
              "                                        Main keyword      Channel SubChannel  \\\n",
              "0  mobile banking+กสิกร,mobile banking+ธนาคารกสิก...  SocialMedia      forum   \n",
              "1                                                NaN  SocialMedia    Twitter   \n",
              "2                                          krungthai  SocialMedia   facebook   \n",
              "3                                                NaN  SocialMedia    Twitter   \n",
              "4                                                NaN  SocialMedia    Twitter   \n",
              "\n",
              "                                 lfdn   verbatim_id     sentence_id  \\\n",
              "0           pantip.com_topic_41249919    Q2207_1549    Q2207_1549_1   \n",
              "1            5fffc6bcb08b583a24679d59  Q202106_5805  Q202106_5805_1   \n",
              "2  10161808181448916_1330115550790924     Q2207_636     Q2207_636_1   \n",
              "3                            27634345   Q202106_961   Q202106_961_1   \n",
              "4                            28297653  Q202106_2021  Q202106_2021_1   \n",
              "\n",
              "                                       Text_original  \\\n",
              "0  สอบถามเรื่องการอายัดบัตรเดบิตของกสิกรค่ะ พอดีว...   \n",
              "1  ปกติจะไม่ชอบlog in ใดๆในคอมคนอื่นหรือสำนักงานใ...   \n",
              "2  Krungthai Care ณ. ตอนนี้ยอดก็ยังไม่เข้าค่ะ ถ้า...   \n",
              "3  @scb_thailand เรียน scb ขอเบอร?ตืดต่อเพราะคุย ...   \n",
              "4  ไอเลิ้บ TMB All Free มาก แต่ช่วยพัฒนาแอพให้สเถ...   \n",
              "\n",
              "                                                Text  \\\n",
              "0  สอบถามเรื่องการอายัดบัตรเดบิตของกสิกรค่ะ พอดีว...   \n",
              "1  ปกติจะไม่ชอบlog in ใดๆในคอมคนอื่นหรือสำนักงานใ...   \n",
              "2  Krungthai Care ณ. ตอนนี้ยอดก็ยังไม่เข้าค่ะ ถ้า...   \n",
              "3  @scb_thailand เรียน scb ขอเบอร?ตืดต่อเพราะคุย ...   \n",
              "4                          ไอเลิ้บ TMB All Free มาก    \n",
              "\n",
              "                             Human_Category  Human_CategoryID Human_Sentiment  \\\n",
              "0  Product and Service, Usage and Condition                 8         neutral   \n",
              "1                                  Security                12         neutral   \n",
              "2               Product and Service, System                 7        negative   \n",
              "3                             Staff Quality                 4        negative   \n",
              "4  Product and Service, Usage and Condition                 8        positive   \n",
              "\n",
              "  Human_SentimentID                                      Text_ws_local  \\\n",
              "0                 o  สอบถาม|เรื่อง|การ|อายัด|บัตรเดบิต|ของ|kbank|ค่...   \n",
              "1                 o  ปกติ|จะ|ไม่ชอบ| |log| |in| |ใดๆ| |ใน|ค|อม|คนอื...   \n",
              "2                 n  ktb| |care| |ณ|.| |ตอนนี้|ยอด|ก็|ยัง|ไม่|เข้า|...   \n",
              "3                 n  scb_thailand| |เรียน| |scb| |ขอ|เบอร| |ตืด|ต่อ...   \n",
              "4                 p                    ไอ|เลิ้บ| |tmb_all_free| |มาก|    \n",
              "\n",
              "                                          translated  \n",
              "0  I've been asking about the debit card holders....  \n",
              "1  Usually don't like logins on any other compute...  \n",
              "2  Krungthai Care as of right now, it's not the t...  \n",
              "3                         @scb_thailand studied scb.  \n",
              "4  Ib TMB All Free. But it helps to improve apps....  "
            ],
            "text/html": [
              "\n",
              "  <div id=\"df-f4c0859b-4ff5-4a3a-b535-6e059c818c38\">\n",
              "    <div class=\"colab-df-container\">\n",
              "      <div>\n",
              "<style scoped>\n",
              "    .dataframe tbody tr th:only-of-type {\n",
              "        vertical-align: middle;\n",
              "    }\n",
              "\n",
              "    .dataframe tbody tr th {\n",
              "        vertical-align: top;\n",
              "    }\n",
              "\n",
              "    .dataframe thead th {\n",
              "        text-align: right;\n",
              "    }\n",
              "</style>\n",
              "<table border=\"1\" class=\"dataframe\">\n",
              "  <thead>\n",
              "    <tr style=\"text-align: right;\">\n",
              "      <th></th>\n",
              "      <th>Unnamed: 0</th>\n",
              "      <th>Unnamed: 0.1</th>\n",
              "      <th>TagFile_Path</th>\n",
              "      <th>TagFile</th>\n",
              "      <th>SV_CustomerName</th>\n",
              "      <th>Main keyword</th>\n",
              "      <th>Channel</th>\n",
              "      <th>SubChannel</th>\n",
              "      <th>lfdn</th>\n",
              "      <th>verbatim_id</th>\n",
              "      <th>sentence_id</th>\n",
              "      <th>Text_original</th>\n",
              "      <th>Text</th>\n",
              "      <th>Human_Category</th>\n",
              "      <th>Human_CategoryID</th>\n",
              "      <th>Human_Sentiment</th>\n",
              "      <th>Human_SentimentID</th>\n",
              "      <th>Text_ws_local</th>\n",
              "      <th>translated</th>\n",
              "    </tr>\n",
              "  </thead>\n",
              "  <tbody>\n",
              "    <tr>\n",
              "      <th>0</th>\n",
              "      <td>0</td>\n",
              "      <td>0</td>\n",
              "      <td>SocialFSI_ZE-KTB-Feb-Apr2022_Sampling2244_2022...</td>\n",
              "      <td>SocialFSI_ZE-KTB-Feb-Apr2022_Sampling1400_2022...</td>\n",
              "      <td>Krungthai_NEXT</td>\n",
              "      <td>mobile banking+กสิกร,mobile banking+ธนาคารกสิก...</td>\n",
              "      <td>SocialMedia</td>\n",
              "      <td>forum</td>\n",
              "      <td>pantip.com_topic_41249919</td>\n",
              "      <td>Q2207_1549</td>\n",
              "      <td>Q2207_1549_1</td>\n",
              "      <td>สอบถามเรื่องการอายัดบัตรเดบิตของกสิกรค่ะ พอดีว...</td>\n",
              "      <td>สอบถามเรื่องการอายัดบัตรเดบิตของกสิกรค่ะ พอดีว...</td>\n",
              "      <td>Product and Service, Usage and Condition</td>\n",
              "      <td>8</td>\n",
              "      <td>neutral</td>\n",
              "      <td>o</td>\n",
              "      <td>สอบถาม|เรื่อง|การ|อายัด|บัตรเดบิต|ของ|kbank|ค่...</td>\n",
              "      <td>I've been asking about the debit card holders....</td>\n",
              "    </tr>\n",
              "    <tr>\n",
              "      <th>1</th>\n",
              "      <td>1</td>\n",
              "      <td>1</td>\n",
              "      <td>SocialFSI_v4_0_mutiple_train_sampling8203_2021...</td>\n",
              "      <td>SocialFSI_TrainDataV4_RetagCLS-12_Sampling53_P...</td>\n",
              "      <td>NaN</td>\n",
              "      <td>NaN</td>\n",
              "      <td>SocialMedia</td>\n",
              "      <td>Twitter</td>\n",
              "      <td>5fffc6bcb08b583a24679d59</td>\n",
              "      <td>Q202106_5805</td>\n",
              "      <td>Q202106_5805_1</td>\n",
              "      <td>ปกติจะไม่ชอบlog in ใดๆในคอมคนอื่นหรือสำนักงานใ...</td>\n",
              "      <td>ปกติจะไม่ชอบlog in ใดๆในคอมคนอื่นหรือสำนักงานใ...</td>\n",
              "      <td>Security</td>\n",
              "      <td>12</td>\n",
              "      <td>neutral</td>\n",
              "      <td>o</td>\n",
              "      <td>ปกติ|จะ|ไม่ชอบ| |log| |in| |ใดๆ| |ใน|ค|อม|คนอื...</td>\n",
              "      <td>Usually don't like logins on any other compute...</td>\n",
              "    </tr>\n",
              "    <tr>\n",
              "      <th>2</th>\n",
              "      <td>2</td>\n",
              "      <td>2</td>\n",
              "      <td>SocialFSI_ZE-KTB-Feb-Apr2022_Sampling2244_2022...</td>\n",
              "      <td>SocialFSI_ZE-KTB-Feb-Apr2022_Sampling1200_2022...</td>\n",
              "      <td>Krungthai_NEXT</td>\n",
              "      <td>krungthai</td>\n",
              "      <td>SocialMedia</td>\n",
              "      <td>facebook</td>\n",
              "      <td>10161808181448916_1330115550790924</td>\n",
              "      <td>Q2207_636</td>\n",
              "      <td>Q2207_636_1</td>\n",
              "      <td>Krungthai Care ณ. ตอนนี้ยอดก็ยังไม่เข้าค่ะ ถ้า...</td>\n",
              "      <td>Krungthai Care ณ. ตอนนี้ยอดก็ยังไม่เข้าค่ะ ถ้า...</td>\n",
              "      <td>Product and Service, System</td>\n",
              "      <td>7</td>\n",
              "      <td>negative</td>\n",
              "      <td>n</td>\n",
              "      <td>ktb| |care| |ณ|.| |ตอนนี้|ยอด|ก็|ยัง|ไม่|เข้า|...</td>\n",
              "      <td>Krungthai Care as of right now, it's not the t...</td>\n",
              "    </tr>\n",
              "    <tr>\n",
              "      <th>3</th>\n",
              "      <td>3</td>\n",
              "      <td>3</td>\n",
              "      <td>SocialFSI_v4_0_mutiple_train_sampling8203_2021...</td>\n",
              "      <td>SocialFSI_TrainSCB-SocialFilterV2_Sampling2750...</td>\n",
              "      <td>NaN</td>\n",
              "      <td>NaN</td>\n",
              "      <td>SocialMedia</td>\n",
              "      <td>Twitter</td>\n",
              "      <td>27634345</td>\n",
              "      <td>Q202106_961</td>\n",
              "      <td>Q202106_961_1</td>\n",
              "      <td>@scb_thailand เรียน scb ขอเบอร?ตืดต่อเพราะคุย ...</td>\n",
              "      <td>@scb_thailand เรียน scb ขอเบอร?ตืดต่อเพราะคุย ...</td>\n",
              "      <td>Staff Quality</td>\n",
              "      <td>4</td>\n",
              "      <td>negative</td>\n",
              "      <td>n</td>\n",
              "      <td>scb_thailand| |เรียน| |scb| |ขอ|เบอร| |ตืด|ต่อ...</td>\n",
              "      <td>@scb_thailand studied scb.</td>\n",
              "    </tr>\n",
              "    <tr>\n",
              "      <th>4</th>\n",
              "      <td>4</td>\n",
              "      <td>4</td>\n",
              "      <td>SocialFSI_v4_0_mutiple_train_sampling8203_2021...</td>\n",
              "      <td>SocialFSI_TrainSCB-SocialFilterV2_Sampling2750...</td>\n",
              "      <td>NaN</td>\n",
              "      <td>NaN</td>\n",
              "      <td>SocialMedia</td>\n",
              "      <td>Twitter</td>\n",
              "      <td>28297653</td>\n",
              "      <td>Q202106_2021</td>\n",
              "      <td>Q202106_2021_1</td>\n",
              "      <td>ไอเลิ้บ TMB All Free มาก แต่ช่วยพัฒนาแอพให้สเถ...</td>\n",
              "      <td>ไอเลิ้บ TMB All Free มาก</td>\n",
              "      <td>Product and Service, Usage and Condition</td>\n",
              "      <td>8</td>\n",
              "      <td>positive</td>\n",
              "      <td>p</td>\n",
              "      <td>ไอ|เลิ้บ| |tmb_all_free| |มาก|</td>\n",
              "      <td>Ib TMB All Free. But it helps to improve apps....</td>\n",
              "    </tr>\n",
              "  </tbody>\n",
              "</table>\n",
              "</div>\n",
              "      <button class=\"colab-df-convert\" onclick=\"convertToInteractive('df-f4c0859b-4ff5-4a3a-b535-6e059c818c38')\"\n",
              "              title=\"Convert this dataframe to an interactive table.\"\n",
              "              style=\"display:none;\">\n",
              "        \n",
              "  <svg xmlns=\"http://www.w3.org/2000/svg\" height=\"24px\"viewBox=\"0 0 24 24\"\n",
              "       width=\"24px\">\n",
              "    <path d=\"M0 0h24v24H0V0z\" fill=\"none\"/>\n",
              "    <path d=\"M18.56 5.44l.94 2.06.94-2.06 2.06-.94-2.06-.94-.94-2.06-.94 2.06-2.06.94zm-11 1L8.5 8.5l.94-2.06 2.06-.94-2.06-.94L8.5 2.5l-.94 2.06-2.06.94zm10 10l.94 2.06.94-2.06 2.06-.94-2.06-.94-.94-2.06-.94 2.06-2.06.94z\"/><path d=\"M17.41 7.96l-1.37-1.37c-.4-.4-.92-.59-1.43-.59-.52 0-1.04.2-1.43.59L10.3 9.45l-7.72 7.72c-.78.78-.78 2.05 0 2.83L4 21.41c.39.39.9.59 1.41.59.51 0 1.02-.2 1.41-.59l7.78-7.78 2.81-2.81c.8-.78.8-2.07 0-2.86zM5.41 20L4 18.59l7.72-7.72 1.47 1.35L5.41 20z\"/>\n",
              "  </svg>\n",
              "      </button>\n",
              "      \n",
              "  <style>\n",
              "    .colab-df-container {\n",
              "      display:flex;\n",
              "      flex-wrap:wrap;\n",
              "      gap: 12px;\n",
              "    }\n",
              "\n",
              "    .colab-df-convert {\n",
              "      background-color: #E8F0FE;\n",
              "      border: none;\n",
              "      border-radius: 50%;\n",
              "      cursor: pointer;\n",
              "      display: none;\n",
              "      fill: #1967D2;\n",
              "      height: 32px;\n",
              "      padding: 0 0 0 0;\n",
              "      width: 32px;\n",
              "    }\n",
              "\n",
              "    .colab-df-convert:hover {\n",
              "      background-color: #E2EBFA;\n",
              "      box-shadow: 0px 1px 2px rgba(60, 64, 67, 0.3), 0px 1px 3px 1px rgba(60, 64, 67, 0.15);\n",
              "      fill: #174EA6;\n",
              "    }\n",
              "\n",
              "    [theme=dark] .colab-df-convert {\n",
              "      background-color: #3B4455;\n",
              "      fill: #D2E3FC;\n",
              "    }\n",
              "\n",
              "    [theme=dark] .colab-df-convert:hover {\n",
              "      background-color: #434B5C;\n",
              "      box-shadow: 0px 1px 3px 1px rgba(0, 0, 0, 0.15);\n",
              "      filter: drop-shadow(0px 1px 2px rgba(0, 0, 0, 0.3));\n",
              "      fill: #FFFFFF;\n",
              "    }\n",
              "  </style>\n",
              "\n",
              "      <script>\n",
              "        const buttonEl =\n",
              "          document.querySelector('#df-f4c0859b-4ff5-4a3a-b535-6e059c818c38 button.colab-df-convert');\n",
              "        buttonEl.style.display =\n",
              "          google.colab.kernel.accessAllowed ? 'block' : 'none';\n",
              "\n",
              "        async function convertToInteractive(key) {\n",
              "          const element = document.querySelector('#df-f4c0859b-4ff5-4a3a-b535-6e059c818c38');\n",
              "          const dataTable =\n",
              "            await google.colab.kernel.invokeFunction('convertToInteractive',\n",
              "                                                     [key], {});\n",
              "          if (!dataTable) return;\n",
              "\n",
              "          const docLinkHtml = 'Like what you see? Visit the ' +\n",
              "            '<a target=\"_blank\" href=https://colab.research.google.com/notebooks/data_table.ipynb>data table notebook</a>'\n",
              "            + ' to learn more about interactive tables.';\n",
              "          element.innerHTML = '';\n",
              "          dataTable['output_type'] = 'display_data';\n",
              "          await google.colab.output.renderOutput(dataTable, element);\n",
              "          const docLink = document.createElement('div');\n",
              "          docLink.innerHTML = docLinkHtml;\n",
              "          element.appendChild(docLink);\n",
              "        }\n",
              "      </script>\n",
              "    </div>\n",
              "  </div>\n",
              "  "
            ]
          },
          "metadata": {},
          "execution_count": 4
        }
      ]
    },
    {
      "cell_type": "code",
      "source": [
        "train['Human_CategoryID'].value_counts().sort_index(ascending=True)"
      ],
      "metadata": {
        "colab": {
          "base_uri": "https://localhost:8080/"
        },
        "id": "HA6bOeakDu5L",
        "outputId": "17d3cefe-22db-4f29-c816-8e2dccd08db9"
      },
      "execution_count": 5,
      "outputs": [
        {
          "output_type": "execute_result",
          "data": {
            "text/plain": [
              "1      185\n",
              "2       16\n",
              "3      377\n",
              "4      522\n",
              "5     1163\n",
              "6     1109\n",
              "7     3275\n",
              "8     2454\n",
              "9      153\n",
              "10     379\n",
              "11     232\n",
              "12     152\n",
              "13    2133\n",
              "Name: Human_CategoryID, dtype: int64"
            ]
          },
          "metadata": {},
          "execution_count": 5
        }
      ]
    },
    {
      "cell_type": "markdown",
      "source": [
        "#Translation"
      ],
      "metadata": {
        "id": "-Hi7_QknsJKg"
      }
    },
    {
      "cell_type": "code",
      "source": [
        "from pythainlp.translate import Translate\n",
        "th2en = Translate('th', 'en')"
      ],
      "metadata": {
        "id": "N29J9c5W6UcK"
      },
      "execution_count": null,
      "outputs": []
    },
    {
      "cell_type": "code",
      "source": [
        "#processing for 4 hours\n",
        "train['translated'] = train['Text_original'].apply(lambda x: th2en.translate(x))"
      ],
      "metadata": {
        "id": "o77MiHOf68qS"
      },
      "execution_count": null,
      "outputs": []
    },
    {
      "cell_type": "code",
      "source": [
        "train.head(5)"
      ],
      "metadata": {
        "id": "5fR8T_4N8eep"
      },
      "execution_count": null,
      "outputs": []
    },
    {
      "cell_type": "code",
      "source": [
        "train.to_csv('train_translated banking data.csv')"
      ],
      "metadata": {
        "id": "QWoIaW-orWvu"
      },
      "execution_count": null,
      "outputs": []
    },
    {
      "cell_type": "code",
      "source": [
        "#processing for 4 hours\n",
        "test['translated'] = test['Text_original'].apply(lambda x: th2en.translate(x))"
      ],
      "metadata": {
        "id": "p3NK1PIzrqpl"
      },
      "execution_count": null,
      "outputs": []
    },
    {
      "cell_type": "code",
      "source": [
        "test.head(5)"
      ],
      "metadata": {
        "id": "GBR5IGl3r2SQ"
      },
      "execution_count": null,
      "outputs": []
    },
    {
      "cell_type": "code",
      "source": [
        "train.to_csv('test_translated banking data.csv')"
      ],
      "metadata": {
        "id": "QYj8i0mRr3Nh"
      },
      "execution_count": null,
      "outputs": []
    },
    {
      "cell_type": "markdown",
      "source": [
        "#Create a Vocab"
      ],
      "metadata": {
        "id": "SF_gw2udAQY3"
      }
    },
    {
      "cell_type": "code",
      "source": [
        "vocab = Counter()\n",
        "def data_to_vocab(df):\n",
        "  for verbatim in df['translated']:\n",
        "    tokens = verbatim.split()\n",
        "    table = str.maketrans(\"\",\"\",string.punctuation)\n",
        "    tokens = [w.translate(table) for w in tokens]\n",
        "    tokens = [word for word in tokens if word.isalpha()]\n",
        "    stop_words = set(stopwords.words('english'))\n",
        "    tokens = [w for w in tokens if not w in stop_words]\n",
        "    tokens = [word for word in tokens if len(word)>1]\n",
        "    tokens = [word for word in tokens if len(tokens) > 4] \n",
        "    #for EN, 1 or 4 gets similar results. 8 is better for ~ 1%.\n",
        "    vocab.update(tokens)\n",
        "\n",
        "data_to_vocab(train)\n",
        "\n",
        "print(len(vocab))\n",
        "vocab.most_common(10)"
      ],
      "metadata": {
        "id": "dbqj4fz4AhHB",
        "colab": {
          "base_uri": "https://localhost:8080/"
        },
        "outputId": "236fff78-54d9-4a3e-c5af-953818c30772"
      },
      "execution_count": 6,
      "outputs": [
        {
          "output_type": "stream",
          "name": "stdout",
          "text": [
            "12205\n"
          ]
        },
        {
          "output_type": "execute_result",
          "data": {
            "text/plain": [
              "[('bank', 3867),\n",
              " ('money', 3366),\n",
              " ('card', 3103),\n",
              " ('Im', 2734),\n",
              " ('account', 2696),\n",
              " ('cant', 2170),\n",
              " ('app', 2129),\n",
              " ('The', 2129),\n",
              " ('Thailand', 2024),\n",
              " ('going', 1861)]"
            ]
          },
          "metadata": {},
          "execution_count": 6
        }
      ]
    },
    {
      "cell_type": "code",
      "source": [
        "min_occurence = 2\n",
        "tokens = [k for k, c in vocab.items() if c >= min_occurence]"
      ],
      "metadata": {
        "id": "lgt5YpKwA4OV"
      },
      "execution_count": 7,
      "outputs": []
    },
    {
      "cell_type": "code",
      "source": [
        "def save_list(lines, filename):\n",
        "  data = '\\n'.join(lines)\n",
        "  file = open(filename, 'w')\n",
        "  file.write(data)\n",
        "  file.close()\n",
        "  \n",
        "save_list(tokens, 'vocab.txt')"
      ],
      "metadata": {
        "id": "6WRSPUDvBSTK"
      },
      "execution_count": 8,
      "outputs": []
    },
    {
      "cell_type": "markdown",
      "source": [
        "#Train Embedding Layer"
      ],
      "metadata": {
        "id": "1U9_3A4GB3fV"
      }
    },
    {
      "cell_type": "code",
      "source": [
        "train_docs = train['translated']\n",
        "test_docs = test['translated']"
      ],
      "metadata": {
        "id": "uHLExRvJDxcL"
      },
      "execution_count": 9,
      "outputs": []
    },
    {
      "cell_type": "code",
      "source": [
        "def load_doc(filename):\n",
        "  file = open(filename, 'r')\n",
        "  text = file.read()\n",
        "  file.close()\n",
        "  return text\n",
        "\n",
        "vocab_filename = 'vocab.txt'\n",
        "vocab = load_doc(vocab_filename)\n",
        "vocab = vocab.split()\n",
        "vocab = set(vocab)\n",
        "print(vocab)"
      ],
      "metadata": {
        "id": "xH_CcW6OB6BF",
        "colab": {
          "base_uri": "https://localhost:8080/"
        },
        "outputId": "7f4023c0-ec5d-42e2-f778-4198c22cc180"
      },
      "execution_count": 10,
      "outputs": [
        {
          "output_type": "stream",
          "name": "stdout",
          "text": [
            "{'serious', 'housewives', 'sadboyoxygen', 'start', 'kkp', 'dropped', 'AI', 'purchasesales', 'verifiedampnbspnbsp', 'going', 'gtgt', 'conclude', 'falling', 'enjoy', 'donation', 'Yong', 'load', 'voice', 'charging', 'trapped', 'checks', 'splanet', 'pwittaya', 'Verify', 'Instead', 'inefficient', 'Imperial', 'Nonthaburi', 'millionmonth', 'Rajohin', 'iPhones', 'inquiryer', 'Fixed', 'criminals', 'walking', 'transport', 'Buntoshi', 'crossbank', 'delivered', 'create', 'exist', 'pending', 'ontop', 'Wed', 'away', 'DB', 'cutoff', 'counsel', 'confusing', 'principal', 'relieve', 'someone', 'lounge', 'Mastercard', 'clubs', 'thrilled', 'Srihomepro', 'union', 'boro', 'margins', 'offers', 'appreciate', 'calm', 'hierarchy', 'zerobahtscb', 'Siriro', 'depending', 'ground', 'Wrong', 'stores', 'withdrew', 'hand', 'YOLO', 'kma', 'Av', 'booking', 'Nates', 'UK', 'Banking', 'For', 'unemployed', 'ThaiNet', 'True', 'mymos', 'responsibilities', 'tech', 'Foodpanda', 'Itll', 'chosen', 'Ladys', 'birthday', 'eightandahalf', 'regress', 'restaurants', 'Signature', 'Negotiate', 'stopped', 'practice', 'insured', 'threatening', 'inexpensive', 'future', 'installments', 'States', 'ltgt', 'Krungsri', 'Bronx', 'advantageous', 'servers', 'include', 'agreement', 'mix', 'catch', 'Latest', 'siwiam', 'Lek', 'needing', 'Max', 'TMB', 'Fuck', 'unmanned', 'unit', 'SR', 'ow', 'Id', 'Fill', 'swirling', 'platinumlevel', 'refunds', 'begs', 'fixed', 'release', 'members', 'Contactless', 'Deek', 'unlocked', 'Sea', 'Songkran', 'University', 'transferees', 'Travel', 'JCB', 'acting', 'jerk', 'Arumati', 'pull', 'peak', 'considered', 'moved', 'nowI', 'rule', 'inconvenient', 'KSI', 'compartment', 'touchso', 'Mar', 'Covit', 'elsewhere', 'request', 'Mathos', 'United', 'response', 'Thox', 'screaming', 'Drawstring', 'bite', 'ipo', 'Identification', 'organized', 'Remedy', 'Noquotgtgt', 'paynbspnbsp', 'commissioner', 'Askscbthailand', 'Twitter', 'Tips', 'cashback', 'bankIts', 'systemautomatic', 'send', 'fits', 'important', 'reviewers', 'forgot', 'collects', 'rehashed', 'motherbaton', 'guarantees', 'Used', 'Panda', 'disagree', 'ais', 'Both', 'lotthog', 'harder', 'Month', 'menus', 'Sahapat', 'timetable', 'MewtyBear', 'Ave', 'rushed', 'develop', 'sudden', 'technologically', 'describe', 'Cheng', 'Czechburo', 'tightened', 'attm', 'Practice', 'stressful', 'clearer', 'retrieved', 'nations', 'Next', 'mad', 'Error', 'creditburo', 'shitty', 'score', 'Mobile', 'Read', 'Pink', 'creditors', 'algorithm', 'copies', 'whove', 'log', 'interest', 'OD', 'restructuring', 'fight', 'glowing', 'officials', 'channel', 'Ais', 'buyer', 'spears', 'KSCBCim', 'Intreovert', 'ampquot', 'sounds', 'minutesThank', 'friends', 'rebate', 'lose', 'require', 'sim', 'cineplex', 'Comico', 'words', 'Remind', 'update', 'salvaged', 'may', 'tasting', 'indicates', 'false', 'factory', 'Izd', 'Bualuang', 'Second', 'peoples', 'outofthebox', 'Planet', 'village', 'MobileK', 'costeffective', 'addicts', 'THB', 'oonbs', 'Om', 'restoring', 'anything', 'minimum', 'brother', 'receiver', 'applicated', 'Bgrade', 'mynxo', 'law', 'kid', 'sees', 'entry', 'Evan', 'advised', 'noncard', 'consider', 'cyber', 'tradeIll', 'corrections', 'assessment', 'Hey', 'bag', 'else', 'avs', 'receipts', 'phones', 'Really', 'corrected', 'journal', 'rude', 'Code', 'contactless', 'defective', 'latter', 'fool', 'Payrolls', 'programmer', 'workers', 'Superrich', 'quot', 'state', 'logging', 'lighter', 'crashes', 'collapsed', 'suspicion', 'smartphone', 'rear', 'ice', 'modify', 'copying', 'March', 'Thoms', 'millionyear', 'middle', 'tool', 'wait', 'Jobs', 'completely', 'join', 'excited', 'patient', 'Somphon', 'Wang', 'cardSCB', 'Currently', 'signed', 'step', 'overhead', 'Steam', 'particular', 'deductive', 'plantscb', 'seeing', 'atomorbot', 'desperate', 'Man', 'Then', 'Just', 'joke', 'luxury', 'platform', 'stocks', 'Beach', 'Good', 'Shop', 'finally', 'Transferd', 'Western', 'loading', 'clean', 'approve', 'Normally', 'Front', 'eventually', 'taxing', 'Me', 'Chief', 'delay', 'reduction', 'heard', 'insert', 'Cant', 'raise', 'Byebye', 'single', 'Ratchapat', 'preliminary', 'withdrawals', 'Sure', 'program', 'apps', 'redo', 'hires', 'sirotek', 'nights', 'New', 'rebtel', 'see', 'pray', 'stood', 'Almost', 'tootheturtle', 'nbspampnbsp', 'reminder', 'negative', 'Food', 'remembered', 'wrongly', 'person', 'Equy', 'homepro', 'blank', 'tend', 'oldfashioned', 'Kcash', 'invite', 'passengers', 'dispenser', 'Charter', 'Tanachart', 'started', 'Pays', 'thick', 'sort', 'Difficult', 'embarrassed', 'Another', 'throw', 'England', 'restaurant', 'permission', 'Klangsenna', 'cooperative', 'insteadIt', 'Days', 'Management', 'always', 'citybank', 'resigned', 'Wisdoms', 'email', 'men', 'scores', 'allDoing', 'sold', 'lowpriced', 'removed', 'activities', 'replace', 'Speeddy', 'warrant', 'Panish', 'ChoicenbspKTC', 'leader', 'complain', 'AM', 'Calling', 'Backup', 'Bun', 'infuses', 'All', 'trash', 'bugged', 'silver', 'risky', 'counter', 'student', 'An', 'potential', 'consulting', 'CALL', 'touched', 'upload', 'certification', 'BAY', 'owned', 'feature', 'sme', 'tofu', 'normally', 'metaphor', 'drag', 'connect', 'PTTGC', 'spare', 'ktc', 'tell', 'reload', 'frustrating', 'Angkid', 'provides', 'loaner', 'stops', 'twitter', 'ending', 'Airport', 'US', 'completed', 'AIS', 'interests', 'Swift', 'Army', 'wondered', 'conditions', 'Phetchaburi', 'TK', 'overwhelmed', 'process', 'name', 'Keptby', 'dialed', 'believe', 'expires', 'brogue', 'somnobless', 'identities', 'That', 'copy', 'contains', 'couldnt', 'investor', 'shot', 'Asia', 'fucker', 'salt', 'mama', 'Tong', 'many', 'September', 'sincerity', 'rounds', 'PepoHimma', 'built', 'commission', 'Bill', 'Feb', 'daughter', 'deducted', 'holders', 'exceeds', 'twoquarter', 'Years', 'hull', 'Farrook', 'scans', 'bestIve', 'prestige', 'Poong', 'passesIts', 'nearby', 'plugs', 'Tevin', 'rented', 'Bad', 'Senlad', 'paychecks', 'Amymo', 'requestsAnd', 'Lets', 'Payment', 'tops', 'weird', 'redoing', 'farming', 'sales', 'win', 'ofnbsp', 'reachI', 'reached', 'used', 'Kenzles', 'Laos', 'level', 'busyI', 'Kept', 'mutual', 'satisfactory', 'tax', 'Remember', 'Definitely', 'Drag', 'bringing', 'Bangna', 'bk', 'Pinchuo', 'delivery', 'insisted', 'confirming', 'afraid', 'costing', 'Initially', 'boring', 'lowest', 'crew', 'scolded', 'rescan', 'browser', 'allnbspnbsp', 'midday', 'summary', 'distance', 'impressed', 'nbspnsp', 'KClass', 'carries', 'Call', 'Wongsiwat', 'calendar', 'party', 'Ayad', 'Chinese', 'nbsp', 'Send', 'exactly', 'ahold', 'kabang', 'km', 'originator', 'Goat', 'worth', 'unlock', 'Expired', 'explain', 'mosi', 'receptionist', 'itnbspnbsp', 'responsibility', 'Precious', 'esaving', 'February', 'secured', 'happy', 'Chet', 'Car', 'Khmers', 'ghost', 'pages', 'live', 'unscrewed', 'philanthropy', 'trend', 'due', 'funds', 'pic', 'really', 'AC', 'Sch', 'turn', 'appThis', 'rental', 'Is', 'global', 'Symnet', 'Also', 'WHA', 'Anybody', 'Report', 'Sit', 'systemI', 'Lt', 'wallpaper', 'overall', 'restart', 'Bangkoks', 'pmnbspnbsp', 'rewards', 'third', 'terms', 'dont', 'backs', 'sre', 'waited', 'Sreedy', 'badit', 'ceiling', 'Solitaire', 'lapisdotlazuli', 'Hold', 'excuses', 'brand', 'Taxi', 'renovation', 'Download', 'asks', 'forest', 'collect', 'Ttb', 'hardest', 'Telephone', 'Omsin', 'Superich', 'Version', 'technologyregistration', 'ree', 'MOU', 'starters', 'Between', 'lotus', 'Citibanks', 'Meek', 'October', 'Normal', 'backed', 'types', 'often', 'Nothing', 'lie', 'cutter', 'semester', 'dividends', 'Lisas', 'skull', 'stockholder', 'Booked', 'floating', 'concern', 'cheat', 'inspection', 'strong', 'meal', 'etc', 'lame', 'usual', 'poured', 'Suphakit', 'design', 'appCard', 'wedge', 'moneys', 'hurry', 'dies', 'cc', 'statements', 'skeptical', 'ordering', 'tour', 'Appreciate', 'Ourleeedixxx', 'Expire', 'standard', 'payable', 'httpsmoneykapookcomview', 'presentAmaknae', 'might', 'interesting', 'commercial', 'privately', 'hunch', 'fathers', 'pasted', 'unusually', 'transferring', 'pantsnbsp', 'documentary', 'let', 'isnt', 'gas', 'settle', 'certificates', 'Woody', 'bbl', 'cap', 'Soldiers', 'bankslower', 'scanned', 'CBACQBUALUANG', 'adjust', 'avoiding', 'certified', 'surprise', 'float', 'series', 'parentheses', 'crumbs', 'classic', 'organizations', 'faces', 'server', 'income', 'httpswwwcimbthaicomthpersonalproductscardsdebitchipcardsDebitvisaDigitalSaving', 'persons', 'insecure', 'La', 'Nbspnbsp', 'Livenbspnbsp', 'view', 'Metropolitan', 'yesterday', 'intended', 'Signed', 'Has', 'Samsung', 'cardscredit', 'fifteen', 'properly', 'message', 'Abalone', 'Updated', 'catches', 'break', 'saying', 'sympathize', 'Thats', 'leaves', 'journey', 'place', 'idea', 'gsb', 'seating', 'push', 'authenticate', 'smoothies', 'walkie', 'repayment', 'Ib', 'fair', 'complained', 'countryside', 'nod', 'Settings', 'overdue', 'mymonbspnbsp', 'acct', 'httpstconpogaGZbCd', 'alli', 'Admin', 'SMSEmail', 'selecting', 'Convert', 'jcb', 'candidate', 'pops', 'gmarket', 'clients', 'Business', 'Gateway', 'System', 'Only', 'institution', 'plus', 'fuss', 'alerted', 'State', 'CreditnbspnbspSin', 'Mina', 'operate', 'relief', 'Love', 'especially', 'Interest', 'limited', 'received', 'stress', 'Check', 'Never', 'tastes', 'pawns', 'Tmb', 'More', 'repeating', 'sexy', 'Click', 'depend', 'kc', 'Set', 'butterflyuxu', 'Arts', 'Premier', 'pictured', 'history', 'Counter', 'Ion', 'Credit', 'scbpic', 'Cashback', 'Dr', 'whatever', 'TOT', 'Miss', 'scbs', 'restructure', 'network', 'knocking', 'accepts', 'works', 'expected', 'Later', 'Amannys', 'menu', 'You', 'turning', 'fall', 'typically', 'invoice', 'banksubstantial', 'charges', 'Lost', 'notices', 'directions', 'imfai', 'Bangkhkbankcom', 'AUD', 'Details', 'remind', 'BRs', 'child', 'administrators', 'documentation', 'Thanshat', 'kidney', 'mortgages', 'confirmation', 'Lott', 'bases', 'color', 'Accumulating', 'comparable', 'provided', 'Atm', 'movement', 'Angry', 'ads', 'WOW', 'pantip', 'Change', 'security', 'banksnbsp', 'regional', 'day', 'rested', 'target', 'transferer', 'Siri', 'Even', 'Great', 'Klocenter', 'loaners', 'Class', 'Tail', 'INVEST', 'goohaha', 'Lanka', 'cancelled', 'Theyve', 'callnbspnbsp', 'comfort', 'Scbeasy', 'tight', 'redundant', 'noonzaramjamksp', 'venting', 'highinterest', 'coordinate', 'pass', 'Resolved', 'lawsuit', 'Wednesday', 'owners', 'wouldnt', 'Wow', 'popnidcha', 'lol', 'anyway', 'unfortunately', 'Thaineck', 'excuse', 'unlimited', 'crosscountry', 'couple', 'hed', 'manners', 'openings', 'original', 'indicated', 'programs', 'latest', 'allowed', 'rising', 'estimates', 'yearlyIf', 'disappointed', 'children', 'Fighting', 'toss', 'Welcome', 'computer', 'truth', 'Yearly', 'Khon', 'clarified', 'INOX', 'seems', 'Requesting', 'goose', 'senior', 'vending', 'Short', 'BUG', 'halfway', 'symbol', 'set', 'Monday', 'Quality', 'andor', 'EZ', 'ThailandThailand', 'bugo', 'Wave', 'Beau', 'times', 'device', 'poison', 'terminal', 'Store', 'arranged', 'youll', 'directs', 'overpriced', 'Stand', 'together', 'hospitals', 'expensive', 'bailout', 'Panishan', 'products', 'primary', 'Caps', 'random', 'girlfriend', 'indicating', 'dropping', 'Today', 'people', 'Phraya', 'BE', 'penny', 'login', 'tens', 'DA', 'reimbursing', 'mainly', 'spot', 'Amobile', 'pattern', 'parts', 'Seriously', 'behavior', 'counted', 'section', 'pickup', 'tomorrow', 'cassava', 'informed', 'Shake', 'mistaken', 'modernize', 'Pym', 'refer', 'Meat', 'yell', 'lag', 'others', 'factor', 'Hot', 'chairs', 'Ton', 'homes', 'massacre', 'reserved', 'voting', 'primer', 'cycles', 'opens', 'realize', 'Youll', 'cheater', 'Nowadays', 'Buayan', 'transferors', 'meonK', 'involved', 'Tc', 'Morgaged', 'practical', 'KBANK', 'Srifurs', 'stuffing', 'evaluate', 'Cares', 'comaFjApKPmtg', 'marketing', 'Scan', 'expiration', 'automation', 'already', 'feelings', 'cheaper', 'horrible', 'Buuluang', 'answering', 'Taiampnbspnbspnot', 'Corcenter', 'Power', 'car', 'auction', 'toxic', 'Although', 'Fine', 'tricks', 'appsEasku', 'soldiers', 'major', 'Doraemon', 'spay', 'weeps', 'voluntary', 'glad', 'mental', 'quality', 'reservations', 'unpacked', 'Left', 'coworkers', 'NAV', 'cashbacks', 'around', 'wheel', 'plug', 'Gru', 'Dmudo', 'annoying', 'citbank', 'identity', 'hardly', 'blurred', 'assistance', 'adobe', 'Crisis', 'dun', 'eaten', 'Sim', 'rep', 'GWallet', 'Appointment', 'condos', 'rent', 'arrived', 'holidays', 'cool', 'secondary', 'answer', 'insists', 'finds', 'overlight', 'postal', 'AIRBNB', 'afternoon', 'left', 'China', 'stickers', 'Forget', 'okay', 'voila', 'Approximately', 'facial', 'Russias', 'wonder', 'TOPSCENTRAL', 'develops', 'eat', 'officer', 'showing', 'Chan', 'Accounting', 'Ep', 'airpay', 'learning', 'misdirected', 'estate', 'Siietongkum', 'slower', 'fowwang', 'housing', 'dream', 'mass', 'psychiatrist', 'certain', 'Suvarnabhumi', 'returning', 'SMS', 'Monthsnbsp', 'incorrectly', 'clear', 'Close', 'cities', 'standards', 'sms', 'confusion', 'mortgageInquiring', 'begging', 'hassle', 'convenient', 'Wdf', 'ahjumma', 'bunch', 'limitA', 'kind', 'barn', 'Expires', 'freefeeing', 'Boo', 'rates', 'districts', 'entered', 'fourth', 'pictwittercomBWqGfGyAVn', 'methods', 'divided', 'ADM', 'living', 'Tucchats', 'whose', 'university', 'Fear', 'pulls', 'extension', 'costume', 'ion', 'picking', 'interested', 'Pass', 'Oct', 'Line', 'condominium', 'serveampnbspampnbsp', 'LEC', 'changes', 'addition', 'sit', 'counters', 'whole', 'Without', 'recommended', 'threemonth', 'inquire', 'Nepo', 'refilling', 'Alipay', 'aTM', 'problemOtan', 'pump', 'Promotion', 'trying', 'Aah', 'career', 'Say', 'shoots', 'divide', 'Infinite', 'year', 'sue', 'ibanking', 'chips', 'stuck', 'secondhands', 'Trade', 'spotify', 'National', 'dizzy', 'COVID', 'impossible', 'alreadydefined', 'Colzts', 'Inter', 'Prairie', 'earned', 'bounces', 'restoration', 'KBankWhy', 'FUN', 'Bahtnbsp', 'codes', 'bike', 'face', 'choosing', 'TOP', 'BLACKPINK', 'uninstall', 'results', 'crossing', 'barracks', 'muchThe', 'claiming', 'po', 'ConsRefill', 'rhinoz', 'urlOmsin', 'lucky', 'link', 'stressed', 'korean', 'TG', 'lazy', 'calls', 'City', 'statement', 'center', 'Care', 'unpaid', 'Accounts', 'editor', 'word', 'Dont', 'tuition', 'Conglosha', 'admin', 'How', 'ask', 'airport', 'claming', 'argue', 'crowded', 'emailpass', 'America', 'hide', 'Mars', 'close', 'accessed', 'Clearing', 'Protect', 'On', 'flowers', 'minor', 'Margin', 'Eins', 'Guilty', 'ampnbspnbsp', 'Borrowed', 'bada', 'arrow', 'apologize', 'Step', 'fresh', 'pissed', 'fake', 'bung', 'KUSXNDQAA', 'ba', 'discounts', 'feed', 'gold', 'row', 'didnt', 'LH', 'luggage', 'shoes', 'ready', 'Get', 'Thnshat', 'surprised', 'Your', 'ratingThe', 'Passed', 'low', 'iPhone', 'bro', 'digits', 'prize', 'Thai', 'mess', 'Move', 'course', 'callslinephase', 'Premium', 'Finance', 'SEB', 'router', 'discussed', 'affiliated', 'tsk', 'Nex', 'son', 'httpstco', 'upset', 'Aeons', 'identification', 'affected', 'fix', 'slap', 'Ayutthaya', 'nakin', 'speed', 'lets', 'indifferent', 'recommendation', 'fault', 'province', 'solved', 'TISCO', 'locked', 'reliable', 'Walletpost', 'remains', 'simple', 'elderly', 'noticed', 'succeeded', 'dial', 'case', 'doubted', 'acceptance', 'badass', 'abalones', 'percent', 'critical', 'toyota', 'refinance', 'human', 'Customers', 'neck', 'signal', 'take', 'lack', 'troublesome', 'option', 'payments', 'falls', 'best', 'SCBampnbspampnbsp', 'Freelance', 'read', 'advisors', 'SCBRMGHC', 'Teenagers', 'locations', 'BEM', 'tagging', 'difficult', 'ease', 'Kcyber', 'advertising', 'secret', 'rich', 'world', 'infinix', 'depends', 'realm', 'havent', 'summed', 'EVERYDAY', 'prime', 'Chat', 'Rate', 'doubt', 'zeng', 'Opening', 'recommends', 'processed', 'compromise', 'pod', 'background', 'Streaming', 'lives', 'KTB', 'Station', 'Autobot', 'gps', 'Paying', 'least', 'morning', 'explanation', 'scratch', 'concert', 'bilwmecom', 'Sms', 'Topup', 'grad', 'Sis', 'Signa', 'citys', 'Android', 'reimbursement', 'worst', 'seats', 'license', 'confirmed', 'white', 'Of', 'hungry', 'detected', 'court', 'pink', 'BK', 'thursday', 'reset', 'temporarily', 'think', 'Leave', 'loose', 'seen', 'Siam', 'Zenem', 'Venice', 'wheeled', 'necessary', 'thisIm', 'curve', 'Union', 'phone', 'SME', 'Thors', 'Refinancing', 'SMSSCB', 'Charge', 'circulating', 'socket', 'Excess', 'compare', 'kexpress', 'ET', 'Hows', 'moment', 'pay', 'Udon', 'hardworking', 'clip', 'unused', 'pm', 'Rai', 'Option', 'net', 'Powerbuy', 'kerry', 'nomination', 'regression', 'NEXT', 'BangkokDental', 'unreasonable', 'acquaintances', 'MRR', 'offering', 'seal', 'letter', 'minutes', 'Thoknbspnbsp', 'Tao', 'hedge', 'scale', 'online', 'users', 'Everything', 'thinks', 'replacement', 'formula', 'recent', 'LC', 'appliedIm', 'sitting', 'demand', 'erased', 'delayed', 'gray', 'Please', 'jars', 'happens', 'domestic', 'scbktb', 'Zhong', 'theme', 'pension', 'blur', 'Tru', 'Edog', 'risen', 'picks', 'crying', 'paypaypal', 'suspicious', 'reviews', 'MP', 'complaint', 'wirojlak', 'advance', 'cimb', 'allow', 'destination', 'display', 'suspended', 'sent', 'society', 'SCb', 'Lounge', 'novel', 'kbizcontactcentermirrorkasikornbankcom', 'like', 'event', 'resolved', 'passes', 'BBL', 'Assuming', 'loosened', 'saving', 'apologized', 'goodbye', 'shoot', 'Give', 'useful', 'seven', 'flows', 'forth', 'large', 'fit', 'titanium', 'Commissioner', 'reach', 'curious', 'payin', 'ununuchisa', 'solve', 'Fix', 'Transport', 'bribes', 'give', 'areaRating', 'reinterest', 'ticket', 'Go', 'Charged', 'lend', 'Changed', 'permanent', 'mega', 'Lush', 'cross', 'Ministry', 'prepared', 'Choppy', 'overdo', 'SSF', 'Very', 'EasyIve', 'passable', 'yearly', 'mg', 'hero', 'Think', 'say', 'websites', 'Benefit', 'ocean', 'Apple', 'accountants', 'Office', 'warning', 'urgent', 'firstshoe', 'maps', 'LIVE', 'Complete', 'amount', 'says', 'famous', 'clears', 'matchI', 'go', 'values', 'bit', 'queueing', 'Se', 'beautiful', 'purple', 'story', 'AA', 'early', 'circulation', 'grow', 'document', 'Dx', 'understood', 'comparenbspnbspLH', 'depositremoved', 'sparey', 'untruthful', 'Perfect', 'insist', 'quite', 'international', 'bars', 'Aeon', 'haniying', 'crashed', 'highlighting', 'numerous', 'Thailands', 'searching', 'Thonshat', 'mi', 'mymo', 'war', 'room', 'trunks', 'German', 'project', 'Moneys', 'MuMilk', 'ignore', 'based', 'disconnected', 'Justice', 'Hmm', 'sims', 'loaded', 'heavy', 'willing', 'aunt', 'uob', 'cover', 'removing', 'reimburst', 'charged', 'allowance', 'Many', 'Festival', 'Grab', 'suitcase', 'Website', 'shift', 'sadly', 'infinite', 'Account', 'affects', 'Vat', 'light', 'agoda', 'except', 'origin', 'Prapaipit', 'dads', 'investors', 'two', 'Bosch', 'Journey', 'CP', 'deeds', 'policy', 'walletpost', 'It', 'taxed', 'GapThananat', 'sector', 'refilled', 'although', 'multipurpose', 'Must', 'hanging', 'ride', 'presseduse', 'informs', 'refillable', 'handle', 'retailexport', 'equipment', 'prefer', 'messageIt', 'Todays', 'replacements', 'business', 'approved', 'Thanks', 'TE', 'Ow', 'recorded', 'baffling', 'passregistration', 'forgets', 'linked', 'dispute', 'failure', 'sellers', 'Assistance', 'Kyoto', 'graduated', 'recruiter', 'months', 'finance', 'Gmarket', 'spinning', 'pdf', 'Google', 'believes', 'airline', 'Shot', 'solo', 'inverted', 'editors', 'certificate', 'selected', 'Using', 'Less', 'loosen', 'butI', 'collection', 'institutions', 'loses', 'condo', 'abbreviation', 'higherbuyer', 'late', 'Several', 'chance', 'Thursday', 'muzzle', 'GMarket', 'SheStrong', 'Chonburi', 'hasnt', 'Over', 'commerce', 'Rijing', 'taxis', 'concept', 'hoursI', 'Opened', 'kplus', 'bitch', 'noon', 'Kaya', 'Zhaprad', 'refueling', 'bang', 'unapproved', 'Health', 'Stingy', 'useless', 'expenditure', 'wad', 'loanor', 'bankholder', 'misinformation', 'allKTC', 'bahtnbspnbspfor', 'planet', 'Hopefully', 'solution', 'parent', 'period', 'Impressive', 'wake', 'DEBIT', 'breaks', 'Interfer', 'DEA', 'strip', 'payrolls', 'names', 'Number', 'calculated', 'Bangkokkaya', 'drivers', 'unscanned', 'Dadada', 'Until', 'wondering', 'slipon', 'Updating', 'help', 'monthlyyear', 'neededIve', 'acquaintance', 'Starting', 'facilitate', 'Havent', 'interface', 'Karen', 'declined', 'redund', 'area', 'requesting', 'Pangani', 'KrungthaiCare', 'roughly', 'code', 'authenticating', 'grey', 'increased', 'extend', 'PLANET', 'SCBs', 'grab', 'banner', 'deliver', 'exceeded', 'rootenergy', 'ha', 'responding', 'backing', 'Trick', 'ports', 'bird', 'dualuang', 'Section', 'recording', 'merchant', 'httpstcocMIspvUkx', 'Hour', 'covital', 'CCSCB', 'cancelling', 'college', 'Lazada', 'VIP', 'KContact', 'SC', 'TonsTweetings', 'strength', 'quickly', 'schedule', 'canceled', 'Something', 'foster', 'aim', 'Deputy', 'NDID', 'EMERGENCY', 'walletnbspnbsp', 'confiscated', 'mrt', 'centerThe', 'Jiggy', 'Banshee', 'constraints', 'spin', 'guys', 'Phase', 'long', 'berryzbii', 'shortterm', 'sad', 'ass', 'userfriendly', 'Thorough', 'cryptographer', 'stand', 'basis', 'Looks', 'guarantee', 'depositor', 'kicked', 'sued', 'Bathong', 'access', 'allocation', 'report', 'gen', 'Frog', 'reading', 'irregularity', 'reimbursed', 'Sree', 'Snoopyprinted', 'feestaxes', 'property', 'bedding', 'HttpstcoYCjslQvbHO', 'funeral', 'gateway', 'Cards', 'paycheck', 'depressing', 'multiple', 'Box', 'figure', 'smile', 'winning', 'threw', 'crammed', 'homeinterest', 'wins', 'filing', 'degree', 'fans', 'Samut', 'order', 'Chon', 'Dear', 'icon', 'circulate', 'Agent', 'Dad', 'questioning', 'clams', 'whereI', 'method', 'immediate', 'PA', 'II', 'merge', 'scratching', 'carnbspnbsp', 'patents', 'enterprise', 'legs', 'funny', 'axa', 'fully', 'offshore', 'dry', 'confusedly', 'lockI', 'spelled', 'manual', 'convert', 'Prepare', 'taking', 'Did', 'Hi', 'suck', 'Kbankx', 'warm', 'incoming', 'saves', 'rough', 'aunts', 'one', 'Repository', 'curse', 'Mega', 'FIRST', 'delays', 'obsolete', 'weekend', 'first', 'treating', 'cares', 'clearly', 'comfortable', 'pop', 'rewarded', 'nbspnbspk', 'flights', 'Identity', 'dangerous', 'compete', 'links', 'frame', 'belts', 'SD', 'tone', 'MYMO', 'burdensnbspnbsp', 'Korean', 'misunderstood', 'Thailand', 'PTT', 'todays', 'During', 'Grusrik', 'Cap', 'install', 'active', 'clarify', 'ang', 'deal', 'Service', 'recommend', 'typical', 'coverage', 'follows', 'hosts', 'yen', 'everyday', 'approveable', 'Longer', 'sell', 'Central', 'accounts', 'workkma', 'overpay', 'Thongsepee', 'Failure', 'Ae', 'Point', 'April', 'fund', 'Sent', 'warn', 'coins', 'premium', 'visas', 'Kaakura', 'holder', 'entire', 'collapse', 'sharp', 'food', 'NPL', 'account', 'phoenix', 'clearing', 'KTBs', 'hassles', 'lungs', 'locals', 'UOB', 'expense', 'theres', 'everyone', 'upsetting', 'Tanchanok', 'exceed', 'JTp', 'Need', 'signing', 'customers', 'CPALL', 'verify', 'parallel', 'cane', 'improvement', 'wave', 'seriously', 'Summary', 'PASSBOOK', 'capitals', 'Airpay', 'applicant', 'bugger', 'tag', 'inquiry', 'allfree', 'trustworthy', 'sites', 'lowbuyer', 'maids', 'Staff', 'gourmet', 'queue', 'Date', 'present', 'peachizen', 'Yats', 'FarSiDistantY', 'Ubonrat', 'Booking', 'arrive', 'Secon', 'sucking', 'lowkey', 'commercials', 'blaming', 'applicants', 'Bummer', 'Kowit', 'GBP', 'co', 'We', 'compilation', 'cards', 'mango', 'loans', 'total', 'depositing', 'airAsia', 'com', 'Importantly', 'scbx', 'days', 'appSCB', 'frogs', 'privilege', 'BAAC', 'reloading', 'suspending', 'meantime', 'finallyEasy', 'simplicity', 'Dadadada', 'blogs', 'bug', 'downside', 'list', 'Trumanny', 'uobs', 'Payi', 'wind', 'lately', 'frankly', 'parked', 'sending', 'totals', 'unusable', 'WiFi', 'marketers', 'bookbank', 'Experience', 'Play', 'negotiating', 'PTTEP', 'noe', 'prodigy', 'illegal', 'timeapps', 'mermorandum', 'Jkt', 'Focus', 'Green', 'sleeper', 'spite', 'Ram', 'guy', 'need', 'Pro', 'askif', 'make', 'Asking', 'Weve', 'puzzled', 'Absolute', 'cell', 'telling', 'Nov', 'equal', 'selfconsciousness', 'jaymart', 'Thaks', 'withdrawal', 'Callcenter', 'risk', 'refresh', 'maybe', 'backups', 'promote', 'Day', 'renting', 'Vvo', 'tying', 'Xin', 'MRT', 'somewhere', 'retention', 'Got', 'cells', 'January', 'analyze', 'awaiting', 'Watching', 'Unionpay', 'Wah', 'whether', 'Are', 'Kang', 'suspension', 'Most', 'minichanchii', 'household', 'careful', 'purchased', 'hopes', 'normal', 'past', 'Jernies', 'ordinary', 'End', 'Kitisak', 'briven', 'Krungthai', 'Retired', 'JLPT', 'Locked', 'Running', 'refuses', 'Easy', 'still', 'DIFFERENT', 'BlackPink', 'youd', 'boyfriend', 'well', 'self', 'audio', 'daddys', 'Srisawat', 'without', 'ideology', 'paint', 'wheres', 'embassy', 'speaking', 'buying', 'thaipanis', 'awful', 'protect', 'caused', 'Departments', 'detect', 'Will', 'incompetent', 'basic', 'rice', 'assistant', 'Boom', 'detailed', 'ends', 'slides', 'bounced', 'supportive', 'dormitory', 'kill', 'reporter', 'midnight', 'foreigners', 'costs', 'identify', 'since', 'Request', 'taxfree', 'organizer', 'kmy', 'trips', 'Amanny', 'page', 'banker', 'support', 'Advertising', 'died', 'fc', 'Colonel', 'fast', 'dates', 'ended', 'Tickets', 'dude', 'IDd', 'barbucks', 'EOMS', 'centers', 'comment', 'booked', 'bbbexitt', 'burning', 'thing', 'related', 'aba', 'anymore', 'Seedy', 'errands', 'Colcenter', 'thai', 'bikes', 'faster', 'motorcycle', 'Therefore', 'towing', 'teachers', 'wanting', 'Chanoknan', 'irresponsible', 'taxpayer', 'busy', 'reputation', 'Peoples', 'happiness', 'ttb', 'Terikyu', 'Preliminary', 'accidents', 'head', 'exchanged', 'book', 'usingampnbspampnbsp', 'usedampnbspampnbsp', 'ZIP', 'epayment', 'crazy', 'reapply', 'enforced', 'slot', 'Put', 'unspeakable', 'instead', 'organization', 'enterprises', 'reopen', 'owe', 'registering', 'Reverend', 'task', 'cannbsp', 'pulling', 'rejecting', 'find', 'NooLekMeekPooH', 'happen', 'function', 'Dental', 'waiting', 'located', 'SEC', 'Pick', 'providers', 'sessions', 'Trumov', 'Toss', 'budget', 'Aw', 'Pa', 'Cape', 'Saturdays', 'switched', 'chasing', 'Inbox', 'cost', 'updating', 'Every', 'rate', 'Blah', 'Suck', 'appbased', 'breakfast', 'farmers', 'finish', 'pile', 'Aom', 'matter', 'Post', 'waived', 'maximum', 'fire', 'platinum', 'French', 'space', 'Jaymart', 'Busayarat', 'reschedule', 'There', 'woke', 'untied', 'scheduled', 'Tha', 'GSCIMB', 'forgive', 'enter', 'returns', 'Reference', 'uid', 'grown', 'renovations', 'cancel', 'KBankLive', 'COVIDs', 'QARCOCH', 'updatingIve', 'heal', 'genus', 'USD', 'cars', 'evaluation', 'Srima', 'Decree', 'glitch', 'cousins', 'game', 'specials', 'Plan', 'foreign', 'Bass', 'OT', 'honor', 'Starbucks', 'flash', 'Royal', 'fines', 'privileges', 'Ktcs', 'precious', 'nonbsp', 'shipment', 'Lose', 'Treasury', 'KMA', 'messages', 'Each', 'reentered', 'Look', 'life', 'KrungsriSimpleKrungthaiCarre', 'site', 'asking', 'blow', 'PhD', 'announce', 'attached', 'numbers', 'scratched', 'Repair', 'Gold', 'local', 'sum', 'joint', 'awesome', 'Immediate', 'hell', 'Usually', 'fun', 'moneykplus', 'Transferred', 'signup', 'crosssection', 'Cigna', 'share', 'TEL', 'roaming', 'friday', 'comfortableIm', 'incomplete', 'miss', 'doublebook', 'meets', 'reads', 'KtcPrivilege', 'companys', 'diamonds', 'yesterdays', 'lends', 'Administration', 'wav', 'Trues', 'wood', 'KYC', 'Klem', 'deposit', 'accepting', 'Muang', 'payphone', 'King', 'vineyards', 'Kbank', 'Inquiry', 'ran', 'foreclosure', 'Cos', 'Tried', 'sri', 'plane', 'Registration', 'Password', 'track', 'tea', 'To', 'Turn', 'lotteries', 'hospital', 'marriage', 'Grand', 'bothers', 'photo', 'friendly', 'Youtrip', 'Unlike', 'finding', 'bummer', 'mc', 'blocks', 'Takma', 'freenasus', 'Kbanks', 'ThaiPay', 'Chang', 'walked', 'cardsnbspnbsp', 'sooner', 'picture', 'brokes', 'personally', 'Pong', 'write', 'BsHyuk', 'rushing', 'Verified', 'Banker', 'sale', 'VISA', 'pledging', 'balance', 'deliveries', 'paid', 'leading', 'KRW', 'synchronized', 'wallet', 'teach', 'developer', 'inserted', 'trusted', 'Trumans', 'durable', 'bend', 'snopnat', 'Buying', 'andKBANK', 'Thainext', 'effect', 'borrower', 'minute', 'Bitkub', 'Gim', 'offbook', 'Connectics', 'satisfaction', 'movie', 'Billing', 'secondsnbspnbsp', 'changed', 'devices', 'fashion', 'ltltlt', 'ones', 'Going', 'MRTR', 'system', 'note', 'everywhere', 'spending', 'geneyan', 'passing', 'They', 'leave', 'ten', 'reserve', 'pin', 'done', 'KBANKs', 'stays', 'Lottery', 'KBang', 'problemshut', 'reviewsIm', 'bot', 'Shares', 'skbank', 'worlds', 'super', 'edited', 'Barcode', 'Destinations', 'With', 'lonely', 'deleted', 'sword', 'Srithe', 'KPLUS', 'earnings', 'situations', 'kcyber', 'Oil', 'Transferwise', 'pro', 'Guarantee', 'women', 'either', 'takes', 'Busy', 'distributed', 'responses', 'Dismiss', 'solutions', 'withdraw', 'IRS', 'Beyond', 'Canceled', 'rise', 'prices', 'wasnt', 'Scbeasyapp', 'Netbank', 'ignoring', 'officebank', 'feels', 'bye', 'mic', 'Scb', 'Paragon', 'constantly', 'plugged', 'vacation', 'credited', 'evening', 'messenger', 'annoyed', 'tick', 'tower', 'insufficient', 'galaxy', 'itstaets', 'correlate', 'closet', 'TMRW', 'bonuses', 'retransfered', 'timeout', 'deposits', 'loved', 'avoided', 'logged', 'creditor', 'Sirets', 'PS', 'Reading', 'RangsitNakkor', 'tradition', 'pros', 'including', 'cant', 'endings', 'afford', 'Its', 'systems', 'SHOCK', 'ac', 'editorial', 'BEA', 'mornings', 'Addin', 'Thorn', 'kjourney', 'nice', 'antibiotics', 'extended', 'whos', 'ofnbspnbsp', 'blah', 'worse', 'tonight', 'Amazon', 'great', 'wrong', 'wisdom', 'tab', 'Gee', 'proclinics', 'approvalBut', 'bond', 'dress', 'turns', 'Grey', 'employee', 'matched', 'auntie', 'Called', 'den', 'arties', 'Reply', 'Whens', 'DTAC', 'commenting', 'control', 'prepaid', 'remaining', 'Ivra', 'Dolfin', 'Wiganda', 'otherwise', 'dorm', 'Back', 'cardsHuh', 'motherfucker', 'Question', 'Safe', 'itIve', 'Lone', 'inbox', 'freemir', 'yanks', 'mules', 'tablet', 'anyways', 'Netflix', 'reinstitutes', 'Agriculture', 'deny', 'caretaker', 'nisit', 'Or', 'OneSiam', 'opened', 'week', 'guidance', 'Wechat', 'headquarters', 'snacks', 'writing', 'Take', 'Projects', 'Nikecom', 'adjustments', 'Pathom', 'Bua', 'tesco', 'admiring', 'PORT', 'Does', 'Choice', 'someones', 'boyzana', 'silvers', 'registry', 'Sarana', 'posted', 'Friday', 'parties', 'httpstcoEQqLRvzJOR', 'Bank', 'illness', 'dots', 'Sris', 'Omsins', 'Family', 'prefix', 'build', 'stalking', 'opportunities', 'counts', 'media', 'look', 'Commission', 'supports', 'Yongmus', 'Oruma', 'Truewallet', 'recharge', 'July', 'Virtual', 'reaches', 'expect', 'inconvenience', 'Scbs', 'handicapped', 'Agency', 'GHB', 'Junsompong', 'finished', 'Where', 'increase', 'nbspUnionPayTPN', 'affiliate', 'refuse', 'toampnbspampnbspUpdate', 'stadium', 'Volet', 'curry', 'pearl', 'BKampnbspnbsp', 'matches', 'spent', 'electric', 'structure', 'PEA', 'Wont', 'krungsri', 'form', 'Canal', 'Social', 'lying', 'postpone', 'reloaded', 'Wallace', 'pins', 'destroyed', 'complicated', 'performance', 'contacted', 'check', 'thanking', 'Tuesday', 'Subscribe', 'bankrupt', 'binding', 'Boss', 'requested', 'raisin', 'Unable', 'notified', 'homework', 'publicity', 'getting', 'mood', 'Sicorn', 'venture', 'monk', 'Excited', 'eruptions', 'entrance', 'YouTube', 'UCHOOSE', 'Identify', 'BBLsubstantial', 'Loans', 'LCB', 'dozens', 'get', 'repair', 'Wuhan', 'KTM', 'hits', 'quote', 'medium', 'plate', 'AMEX', 'cardscb', 'Eomsin', 'older', 'street', 'tmb', 'favorite', 'sister', 'hacks', 'Have', 'Patt', 'inmoney', 'wrote', 'excluded', 'execute', 'KTC', 'theater', 'intend', 'broker', 'cheap', 'disappointing', 'crap', 'smoothly', 'playing', 'hackers', 'pttgc', 'Ayun', 'banking', 'Robin', 'bedinthebrain', 'ITMX', 'recipients', 'uptight', 'shares', 'Goo', 'stm', 'toyubomm', 'imagine', 'closed', 'worldfamous', 'buses', 'clicks', 'terrible', 'contract', 'met', 'deduct', 'consists', 'Honda', 'unsubs', 'Paul', 'Due', 'Driving', 'theatre', 'unavailable', 'splitting', 'starts', 'though', 'web', 'Xpress', 'iBanking', 'ACCOUNT', 'drama', 'Chanathamakhon', 'mani', 'mostly', 'format', 'nonstrengthening', 'lady', 'Accredited', 'ThaiUnited', 'known', 'loan', 'warranty', 'blacklisted', 'closing', 'lunch', 'sqhsn', 'Student', 'knows', 'Court', 'messiness', 'Mon', 'midmonth', 'Japanese', 'CC', 'Pearl', 'cupboards', 'subscribed', 'allows', 'aftersales', 'EDC', 'slightly', 'categories', 'God', 'traveled', 'followup', 'probably', 'Equil', 'Isas', 'morningIm', 'howispsg', 'lottery', 'Didnt', 'usedrnane', 'nbspnbsp', 'Paki', 'Customer', 'Kowig', 'rmf', 'shoe', 'tmbs', 'ipad', 'cable', 'Huh', 'toiletnbspnbsp', 'hacked', 'itemSMS', 'notice', 'topup', 'mind', 'remedy', 'autonomous', 'clicked', 'put', 'callcenter', 'peopleIm', 'man', 'Search', 'Planets', 'UChoose', 'Nakhon', 'TeddyKung', 'eats', 'helps', 'fuck', 'shared', 'lifetime', 'Deposits', 'agencies', 'bubble', 'Article', 'safety', 'amazing', 'cue', 'feel', 'fb', 'ancient', 'EOM', 'apic', 'team', 'Windy', 'extending', 'In', 'slider', 'krw', 'laterIm', 'AP', 'credibility', 'Hmmm', 'These', 'uses', 'rop', 'speak', 'fraud', 'alarm', 'Refinance', 'traded', 'ampnbsp', 'GWalletnbspnbsp', 'refuel', 'OR', 'Checked', 'master', 'million', 'bucketapple', 'withdrawing', 'Guinea', 'deals', 'Ampnbspnbsp', 'thief', 'Personal', 'nbspnbspnbsp', 'SPOTIFY', 'mm', 'cat', 'waste', 'Orange', 'fined', 'twenty', 'Mission', 'payroll', 'Embassy', 'agree', 'Tanshat', 'clips', 'amounts', 'fellow', 'review', 'suddenly', 'crews', 'hotel', 'way', 'rabbit', 'loosens', 'TwittercomxxBXtFRFW', 'rights', 'taxes', 'lower', 'respond', 'From', 'phase', 'Petchbun', 'addicted', 'uh', 'barely', 'registers', 'expired', 'split', 'emails', 'Whoever', 'bosss', 'Samutprakarn', 'graduating', 'AirAsia', 'Euro', 'recover', 'tracking', 'prints', 'database', 'debitcredit', 'carefully', 'shynbsp', 'unsuccessful', 'easytocontact', 'Stupid', 'SIN', 'Estimated', 'building', 'drive', 'tied', 'unknown', 'Wise', 'filler', 'defaults', 'Nush', 'Plangpleng', 'Osaka', 'Facebook', 'inaccessible', 'provinces', 'Project', 'money', 'IT', 'Admins', 'premier', 'Bbl', 'cashier', 'handed', 'worried', 'Robo', 'number', 'Blackpink', 'run', 'paperwork', 'bring', 'staring', 'inquired', 'ratings', 'DService', 'combine', 'tips', 'character', 'Maybe', 'Ad', 'Silver', 'prefers', 'viu', 'vision', 'BO', 'ts', 'mediated', 'bind', 'LHnbspnbsp', 'edit', 'EP', 'printed', 'button', 'ScB', 'checker', 'next', 'error', 'buyandyear', 'reduced', 'visits', 'liquidity', 'guzen', 'straightC', 'oncredit', 'eating', 'Ugh', 'trick', 'arrange', 'fly', 'post', 'Nurse', 'Panisha', 'conjunction', 'cut', 'improved', 'stacks', 'cbcream', 'peace', 'damned', 'reported', 'familiar', 'dogs', 'personal', 'traveling', 'commented', 'quiet', 'photos', 'prepare', 'MAKEUPS', 'shocked', 'hurts', 'Introducing', 'cuts', 'izei', 'Theres', 'vs', 'beyond', 'fuzzy', 'Seoi', 'Sbito', 'kb', 'date', 'ARK', 'reader', 'window', 'using', 'inandout', 'sterilization', 'sympathized', 'highly', 'rema', 'closest', 'Spend', 'spins', 'provincial', 'handling', 'townhouse', 'helped', 'Ibank', 'Coordinating', 'UOBs', 'selling', 'successful', 'advisornbspnbsp', 'cousin', 'jams', 'suitable', 'full', 'oppo', 'data', 'installed', 'figured', 'Ma', 'advanced', 'Strange', 'rely', 'bblam', 'refunded', 'Kid', 'Seeing', 'boarding', 'Consumers', 'CITIES', 'debited', 'Kanchanaburi', 'constraint', 'cos', 'forgotten', 'conceivedAnd', 'pt', 'expire', 'bending', 'Rescue', 'sucker', 'storage', 'comments', 'Touch', 'executive', 'againAll', 'tired', 'hospot', 'Cut', 'debtor', 'got', 'investing', 'Locke', 'Netherlands', 'discredited', 'dumber', 'six', 'Chase', 'addresses', 'instant', 'misplaced', 'bots', 'Selling', 'Thank', 'address', 'even', 'overpayment', 'trade', 'Tonight', 'reminds', 'following', 'dealer', 'mission', 'waits', 'red', 'World', 'confirm', 'Jack', 'hijacking', 'tip', 'STM', 'good', 'jammed', 'Freaky', 'Condonanda', 'When', 'Suggested', 'fastest', 'upnbspnbsp', 'apple', 'Suitable', 'conceived', 'fails', 'requirements', 'amonnys', 'placed', 'coex', 'technique', 'moonbackp', 'shy', 'passwords', 'reregister', 'approval', 'returned', 'Satisfaction', 'work', 'profit', 'connects', 'Father', 'user', 'demanding', 'enrolling', 'supported', 'stalkers', 'makes', 'Im', 'sixmonth', 'FF', 'Tipyas', 'last', 'Data', 'percentage', 'Dealer', 'Airways', 'recipient', 'companies', 'sells', 'shutting', 'deposition', 'said', 'Notify', 'Cr', 'algorithms', 'Ck', 'counting', 'ruined', 'Spoil', 'hall', 'Walking', 'seconds', 'applications', 'redemption', 'behind', 'TU', 'Tisco', 'reward', 'holidaysThis', 'kinds', 'gotta', 'easily', 'SPEEDY', 'five', 'product', 'assume', 'ThailandOmsin', 'anyones', 'Prawich', 'itso', 'played', 'queuer', 'MAKE', 'sick', 'Gastor', 'Ordered', 'Mymo', 'bonds', 'board', 'refund', 'coffee', 'Smart', 'Unfortunately', 'Wellness', 'DOC', 'throwing', 'suggestions', 'Macrow', 'bankI', 'opening', 'safari', 'repay', 'Military', 'extras', 'Saturdayweek', 'insurance', 'play', 'transition', 'invest', 'Klus', 'salaries', 'profits', 'Rangsit', 'focused', 'closer', 'root', 'adults', 'countIm', 'LUXE', 'appointments', 'expecting', 'wfh', 'stunned', 'ideas', 'classify', 'MBK', 'Takashimaya', 'Ktb', 'Filling', 'interestingplanet', 'Mall', 'wear', 'BLACKPINKFANMEETING', 'Sometimes', 'currency', 'Pimp', 'exams', 'girl', 'httpstcocphyywd', 'TMBALLFREE', 'Luang', 'strange', 'Some', 'Leasing', 'clothes', 'relock', 'wearing', 'Ratchaburi', 'retie', 'cry', 'CENTER', 'scared', 'SALE', 'adding', 'Adisak', 'robber', 'payment', 'downloading', 'alert', 'annual', 'hands', 'tweet', 'weekends', 'Sriyutthayas', 'membership', 'secondhand', 'reinstall', 'quit', 'December', 'several', 'air', 'application', 'nano', 'contracts', 'Marvins', 'Commerce', 'nagoya', 'ownership', 'public', 'among', 'mainstream', 'currently', 'double', 'jumarn', 'Sympathetic', 'brokers', 'thugs', 'Talk', 'cons', 'helpful', 'Patriots', 'differences', 'app', 'addin', 'itll', 'Hong', 'Tip', 'consort', 'spoke', 'bar', 'Remote', 'emptyhanded', 'Unyong', 'bought', 'cardutrip', 'ability', 'Kbizcontactcenterkasikornbankcom', 'ptts', 'orders', 'safe', 'offline', 'continues', 'While', 'green', 'SCBampnbspnbsp', 'birth', 'Sale', 'Sixers', 'SCBAM', 'correct', 'thawisupcom', 'childrens', 'transferers', 'Cute', 'wars', 'petition', 'Privilege', 'So', 'improvements', 'decision', 'comes', 'department', 'Why', 'confused', 'sugar', 'chased', 'burns', 'DM', 'content', 'Candel', 'savior', 'connection', 'high', 'added', 'outstanding', 'Octnbspnbsp', 'colors', 'digital', 'STATEMENT', 'residents', 'proof', 'bribe', 'onh', 'transfers', 'cash', 'VCI', 'promptcardMasterCard', 'shut', 'loop', 'Yesterday', 'era', 'Doi', 'PayPay', 'spouse', 'reboot', 'Actually', 'click', 'picked', 'realized', 'seem', 'queues', 'relevant', 'engrave', 'Money', 'heart', 'cantnbsp', 'listen', 'covid', 'convince', 'Other', 'Retention', 'arent', 'sleep', 'transfered', 'rescheduled', 'status', 'showed', 'taste', 'sbbscustomersservicescbcoth', 'avoid', 'Autobots', 'Choi', 'Stm', 'Fs', 'passport', 'brocli', 'callin', 'company', 'bean', 'Changing', 'Agoda', 'hi', 'Secondly', 'Center', 'black', 'sides', 'Debit', 'Friends', 'unless', 'Cameras', 'aert', 'save', 'coownership', 'ktcs', 'bankingmobile', 'baby', 'allocated', 'safer', 'HiaKoe', 'previous', 'town', 'CASH', 'tfx', 'Subsidiaries', 'logins', 'Card', 'Youre', 'pawning', 'unusual', 'Apps', 'Once', 'beat', 'Now', 'approvals', 'Our', 'sometimes', 'procedures', 'importantly', 'zero', 'Big', 'drawing', 'ate', 'Homicide', 'move', 'hesitant', 'EU', 'Chai', 'Reason', 'Child', 'legal', 'cui', 'moon', 'Sept', 'constant', 'Unconditional', 'billed', 'simplest', 'deduction', 'Sukhothai', 'Thong', 'SCBampnbspnbspAmex', 'slots', 'West', 'please', 'machine', 'asia', 'painful', 'giving', 'Tablet', 'collecting', 'USA', 'digit', 'fish', 'ORDER', 'Product', 'supposed', 'emergencies', 'celebrate', 'medical', 'analysis', 'providing', 'httpstcoCBDHqKhdp', 'gives', 'chopper', 'Group', 'puzzling', 'chose', 'planned', 'troops', 'KTz', 'throughout', 'die', 'itIm', 'KPlus', 'neutral', 'Elephant', 'Europe', 'watch', 'CPF', 'ATS', 'BaSss', 'previously', 'enters', 'frequently', 'unspecified', 'Department', 'af', 'Recommend', 'papal', 'Registrar', 'screen', 'country', 'lazada', 'delete', 'RatchaSun', 'mbanking', 'filling', 'outbreak', 'pays', 'Lisa', 'valued', 'younbsp', 'freezes', 'capital', 'affecting', 'deed', 'cycle', 'APP', 'another', 'Gwallet', 'thieves', 'chromosomes', 'aeon', 'satisfied', 'covering', 'Generalis', 'according', 'cheating', 'villagers', 'behalf', 'stimulates', 'wealthy', 'Foreign', 'higher', 'gambling', 'thinking', 'suggests', 'Amp', 'transferee', 'Theyre', 'Rela', 'Prime', 'ways', 'canned', 'Westgate', 'Dolfinampnbspnbsp', 'Minister', 'badly', 'Paypal', 'Cancel', 'sloppy', 'Ibanking', 'exception', 'ios', 'Banscb', 'DCA', 'incremental', 'reentry', 'Keep', 'sink', 'principle', 'style', 'Update', 'meat', 'cabinet', 'member', 'FWD', 'minority', 'technology', 'group', 'debtors', 'exclude', 'username', 'SA', 'definitely', 'Refunds', 'Mostly', 'estimated', 'scbtailand', 'far', 'proceed', 'waterfilled', 'TIRIGA', 'easy', 'rather', 'Alienz', 'determine', 'threeyear', 'Real', 'Bitcoin', 'summarized', 'PAYROLL', 'stay', 'wed', 'ballet', 'Berutinomati', 'causing', 'looked', 'scan', 'intending', 'blackeyed', 'almost', 'SO', 'Price', 'flying', 'running', 'weight', 'lifestyle', 'exempted', 'thats', 'driver', 'house', 'accidentally', 'crutches', 'IPO', 'google', 'differently', 'stupid', 'cancellations', 'Nate', 'Coordinates', 'apart', 'cases', 'growing', 'Suddenly', 'loyalty', 'Melconfim', 'stream', 'countrys', 'preferred', 'Platinum', 'Incoming', 'Recommended', 'hire', 'honest', 'authenticated', 'Rede', 'theyre', 'generated', 'example', 'decade', 'outlets', 'Two', 'Luckily', 'fivemonth', 'Borrow', 'divorced', 'dm', 'Thailandnbspnbsp', 'cause', 'sbb', 'Robinhood', 'html', 'subscription', 'flat', 'hundred', 'restarting', 'suggestion', 'Web', 'bualuang', 'ep', 'switching', 'funded', 'protection', 'answered', 'annoyances', 'Apache', 'Top', 'banknotes', 'seemed', 'labeled', 'mines', 'confident', 'abalone', 'If', 'places', 'boyfriends', 'Taiwan', 'creditdebit', 'time', 'apt', 'easiest', 'nvr', 'disputegroupktb', 'informing', 'bad', 'Sheikh', 'driving', 'Ume', 'agents', 'studying', 'Campaign', 'sucksx', 'Manager', 'sharing', 'submits', 'lots', 'bats', 'escaping', 'succumb', 'ghosts', 'authentic', 'initially', 'Apply', 'Bring', 'Pronet', 'burdens', 'aia', 'estimate', 'checkpoints', 'Oh', 'Loan', 'fear', 'moms', 'applied', 'atmquest', 'tripled', 'Bye', 'converted', 'Kev', 'slight', 'Chumsiri', 'posting', 'phoneID', 'sharks', 'CIMB', 'dealing', 'Mike', 'waive', 'Maladkrabang', 'nonincome', 'Same', 'trmb', 'nuts', 'use', 'assessments', 'Omini', 'She', 'morss', 'continuous', 'Week', 'officers', 'bhWhen', 'sends', 'Remove', 'Better', 'Yuckyy', 'EMAIL', 'Book', 'August', 'endofthetown', 'hung', 'Baht', 'Users', 'Bitch', 'deceived', 'Last', 'SCBSETE', 'Chapter', 'password', 'rejected', 'ndid', 'Cao', 'rating', 'engine', 'eSAVINGS', 'SMs', 'Thost', 'itIll', 'wire', 'commitment', 'teeth', 'items', 'services', 'receive', 'People', 'sometime', 'count', 'jewelry', 'Try', 'Cupp', 'Chantburi', 'Quick', 'deep', 'TRADE', 'protected', 'itd', 'wasted', 'booth', 'alcohol', 'authorities', 'specifically', 'Stop', 'screwed', 'streaming', 'youve', 'owed', 'service', 'aliay', 'Right', 'stuff', 'deducting', 'Chats', 'inflation', 'Sluggage', 'sbbs', 'blame', 'Jasmio', 'UI', 'doubts', 'halfproject', 'malls', 'stick', 'dessert', 'redelete', 'Af', 'overseas', 'reopened', 'Onerek', 'daughters', 'buttons', 'contacts', 'hundreds', 'ATMCurrent', 'UD', 'today', 'overcharge', 'Innie', 'caller', 'western', 'Online', 'displayed', 'plain', 'Don', 'randomly', 'tow', 'overflowing', 'Crazy', 'Bay', 'Skull', 'groups', 'reduce', 'Missing', 'Overlight', 'debt', 'Notification', 'juristic', 'sir', 'Yume', 'letters', 'politics', 'adjusts', 'servant', 'fortune', 'compensation', 'admit', 'Thon', 'Savings', 'BTS', 'cheapest', 'issued', 'taken', 'suited', 'entitled', 'Slip', 'Jan', 'mothers', 'messed', 'Citi', 'nothing', 'bitcoin', 'Ravel', 'wealth', 'YouTrip', 'motorbike', 'decline', 'Rueantan', 'Broke', 'Home', 'swinging', 'KMyInvest', 'Shoppee', 'neednbspnbsp', 'misinformed', 'reapplying', 'Acumkom', 'May', 'curves', 'fivebaht', 'bothering', 'Deuty', 'suspend', 'Done', 'Make', 'repaid', 'cashfree', 'mydaotown', 'SIM', 'government', 'amends', 'Seng', 'DC', 'cupboard', 'chain', 'KEPT', 'unremoved', 'refused', 'tiring', 'signature', 'germs', 'Pic', 'burden', 'pity', 'District', 'Solves', 'three', 'police', 'Demean', 'launch', 'troubled', 'serviced', 'smartphones', 'capability', 'reject', 'Prachinburi', 'ROP', 'lash', 'PVD', 'collaboration', 'relatives', 'kesavings', 'suggest', 'mortgage', 'Seaboard', 'offered', 'rookie', 'force', 'booker', 'mean', 'httpstcomRxNaBngxn', 'unlike', 'music', 'TrueWallet', 'House', 'reservation', 'Ipad', 'OTP', 'disease', 'theyd', 'fingerprints', 'My', 'THAI', 'swords', 'everything', 'renewed', 'openers', 'Maneerung', 'per', 'inquiries', 'consult', 'mine', 'Custommer', 'books', 'abbreviated', 'LETT', 'mouth', 'filed', 'kids', 'missed', 'modernity', 'closes', 'invitation', 'listed', 'searched', 'announcement', 'downtown', 'blackpink', 'laa', 'Binging', 'hold', 'Rejected', 'overcharged', 'adjusted', 'match', 'announced', 'add', 'waiver', 'parking', 'envelope', 'buyers', 'lifestyles', 'spell', 'bus', 'unsub', 'Ratsaenmueang', 'Because', 'appear', 'postponed', 'Been', 'meeting', 'Ryla', 'insurances', 'Up', 'Transfer', 'drop', 'ordered', 'compared', 'arh', 'thsnbsp', 'loophole', 'barcode', 'activate', 'fell', 'smart', 'expressway', 'Preferred', 'identical', 'Travelling', 'Deposit', 'dragged', 'Sundays', 'japan', 'scbplanet', 'flow', 'thrown', 'permanently', 'texts', 'taught', 'kyc', 'Kbiz', 'smooth', 'Keplus', 'current', 'Headquarters', 'means', 'walker', 'Internet', 'Commercial', 'base', 'Visa', 'Syria', 'Vietnam', 'businesses', 'pressed', 'However', 'walks', 'Unusable', 'station', 'Mrs', 'EUR', 'emergency', 'youre', 'obligations', 'line', 'resign', 'connext', 'Again', 'CoffeeMateZTwinkleproud', 'rescue', 'refinanced', 'Tellesel', 'fe', 'plant', 'Delivery', 'Someone', 'erupted', 'real', 'patience', 'Fortunately', 'bugs', 'Trumooves', 'entrepreneur', 'feared', 'reception', 'chip', 'ATMdebit', 'Email', 'Won', 'ap', 'exchange', 'GSBSociety', 'auditors', 'bills', 'brain', 'described', 'PRICE', 'back', 'longdistance', 'graduate', 'replyKrungthaiThaiKrungthaiCarre', 'Ready', 'limit', 'operation', 'rarely', 'bluenbspnbsp', 'subbanks', 'store', 'debit', 'soon', 'quickest', 'hearing', 'dick', 'fooled', 'Purchased', 'dark', 'Bankers', 'leverage', 'bed', 'remember', 'rotated', 'bloom', 'canals', 'consultation', 'reconsider', 'noncarding', 'director', 'Mother', 'affiliates', 'blacklist', 'khunpinto', 'Bought', 'SCBplanet', 'Gray', 'Mail', 'something', 'fighting', 'Pros', 'belongs', 'within', 'abroad', 'PromptPay', 'ishallu', 'Main', 'maintain', 'deceiving', 'scanning', 'Convenient', 'true', 'November', 'orange', 'concerned', 'Finish', 'None', 'mflow', 'piece', 'call', 'seedy', 'old', 'documented', 'roundI', 'blog', 'follow', 'registration', 'Industrial', 'plastic', 'installment', 'forever', 'scbnbspnbsp', 'IP', 'Asset', 'Corona', 'Mould', 'field', 'But', 'problem', 'stabuck', 'vialine', 'bedridden', 'delighted', 'worker', 'Ampquot', 'decisions', 'blooms', 'hasslefree', 'incident', 'initial', 'dca', 'Imy', 'served', 'platforms', 'Bache', 'Free', 'website', 'Park', 'dtac', 'ad', 'specified', 'reply', 'slobbering', 'Hell', 'elses', 'What', 'Confirming', 'discuss', 'promotion', 'conclusion', 'accordance', 'neighborhood', 'tourpass', 'Buy', 'family', 'anyone', 'recommendations', 'Ubon', 'Everyone', 'swear', 'Tian', 'Sorry', 'purpose', 'talk', 'bloody', 'messy', 'economy', 'personnel', 'spread', 'Hokkaido', 'Mondays', 'putting', 'asked', 'puzzles', 'bonus', 'barf', 'Limousine', 'offices', 'qa', 'Ban', 'sits', 'Platimun', 'Sriyutthaya', 'separate', 'ridiculous', 'likes', 'sailors', 'responded', 'transaction', 'Wall', 'gang', 'yelled', 'Cuwesa', 'According', 'visa', 'transactions', 'Diamond', 'road', 'tough', 'Thani', 'youtrip', 'fryer', 'exchanging', 'tries', 'sbbtmf', 'confuse', 'Kebank', 'Ferris', 'ur', 'speedy', 'brogues', 'NUMber', 'manages', 'Blue', 'charge', 'Sunday', 'prevent', 'phonenbspnbsp', 'balances', 'reasons', 'housewarming', 'imported', 'Black', 'gt', 'itThe', 'lamer', 'unpunished', 'Improved', 'Professor', 'Gigoi', 'pardon', 'picky', 'location', 'As', 'npl', 'job', 'correctly', 'water', 'Nonbook', 'highend', 'version', 'scbscbscbscbscbscbscbscbscbsc', 'hungary', 'Honor', 'Isnt', 'risks', 'Spotify', 'Time', 'Use', 'receiving', 'itI', 'chat', 'KMy', 'Exchange', 'grade', 'orbuyer', 'businessmans', 'Checking', 'atmdebit', 'Feels', 'Half', 'uncle', 'canter', 'Mine', 'introduce', 'gwallet', 'confiscation', 'affect', 'Pike', 'mom', 'Crawl', 'Thammarat', 'spready', 'chunk', 'ave', 'Wei', 'Higher', 'tmbbank', 'saturday', 'SCBnbspnbsp', 'kbank', 'Bread', 'painter', 'details', 'Page', 'debitATM', 'told', 'suggested', 'chances', 'Fleshie', 'thousand', 'Czech', 'band', 'Islamic', 'qualifications', 'forged', 'rubber', 'doesnt', 'pawn', 'ALL', 'mysterious', 'steam', 'bettervery', 'division', 'Net', 'Emquatier', 'After', 'transferable', 'silent', 'httpstcoVDJArfSmph', 'applynbspnbsp', 'usdampnbspnbspnbsp', 'less', 'kebank', 'husband', 'lighten', 'dinner', 'gift', 'reductions', 'Chiang', 'owner', 'paying', 'keeping', 'upK', 'available', 'whichever', 'different', 'ruthless', 'AirPay', 'every', 'Somebody', 'continue', 'shes', 'sixdigit', 'FREE', 'latenight', 'Connect', 'settings', 'Macondo', 'notes', 'downloaded', 'complaints', 'Cups', 'qr', 'clarification', 'recurrence', 'crown', 'Anyway', 'hot', 'night', 'Major', 'subpoena', 'annoyance', 'Yuan', 'usable', 'Oppo', 'accident', 'promotions', 'slide', 'near', 'tree', 'Bag', 'coded', 'abalonenbspnbsp', 'type', 'vpn', 'Building', 'Registered', 'considering', 'substitutions', 'Abbey', 'Security', 'Hood', 'pigs', 'SRI', 'Eon', 'Air', 'fingers', 'Girls', 'across', 'buro', 'Third', 'Tech', 'See', 'selection', 'Ann', 'younbspnbsp', 'Sirilak', 'luxe', 'parents', 'making', 'trading', 'Come', 'East', 'ref', 'basically', 'ranking', 'basics', 'Tuatm', 'Airasia', 'angry', 'weeks', 'young', 'special', 'allI', 'Embanking', 'secure', 'refinan', 'notIts', 'shrimp', 'salvage', 'uncomfortable', 'Rungruang', 'register', 'ThailandKrungthaiCare', 'Seil', 'losing', 'forget', 'survived', 'door', 'Four', 'welfare', 'Ps', 'netbank', 'Clinic', 'points', 'submit', 'conflict', 'cumbersome', 'Covid', 'Let', 'shopee', 'Which', 'gonna', 'attachment', 'retail', 'cardsbillsmonths', 'Mr', 'wife', 'Could', 'Bush', 'consent', 'lifethreatening', 'Iservis', 'Asked', 'agent', 'xx', 'free', 'Zeng', 'profile', 'financial', 'backup', 'years', 'onwards', 'knew', 'borrow', 'Reward', 'inconsistent', 'Tevez', 'reloads', 'text', 'advantages', 'price', 'district', 'hard', 'Master', 'President', 'Life', 'survive', 'accounting', 'Thaipae', 'Thax', 'chill', 'oil', 'Mani', 'additional', 'new', 'processing', 'AIA', 'directly', 'sign', 'recognized', 'Citis', 'replaced', 'bitIm', 'DTag', 'ringing', 'training', 'opinion', 'Open', 'Client', 'machines', 'missing', 'Parents', 'big', 'biggest', 'remembers', 'redeeming', 'OK', 'hours', 'KKP', 'language', 'Three', 'clutter', 'thatI', 'retirement', 'inform', 'Easter', 'overdose', 'hear', 'nearly', 'Push', 'lane', 'amplified', 'Eiebe', 'term', 'houses', 'usage', 'notification', 'wired', 'themIve', 'ATMs', 'dad', 'required', 'become', 'littlebearntck', 'Automatically', 'notifications', 'bay', 'invoices', 'passed', 'drops', 'stamps', 'farm', 'gave', 'American', 'burrow', 'homeloan', 'Investment', 'tags', 'popping', 'Hall', 'canal', 'regular', 'ME', 'spends', 'speech', 'holiday', 'SCB', 'flower', 'replied', 'measure', 'confirms', 'Here', 'KBank', 'come', 'complaining', 'sweet', 'consideration', 'JourneyBut', 'No', 'nuns', 'finances', 'Sen', 'nationals', 'Confirmed', 'encrypted', 'transfer', 'Taiwans', 'Saturday', 'wasting', 'cloud', 'debitscb', 'miles', 'krungthaiNext', 'found', 'fooling', 'Insurance', 'Share', 'wheels', 'managers', 'httpskmyinvestkasikornbankcom', 'Would', 'Yeah', 'us', 'advertised', 'Ems', 'frozen', 'Invalid', 'Six', 'SRIs', 'standing', 'behaved', 'golden', 'shareholders', 'ewallet', 'promoted', 'authentication', 'preservation', 'adline', 'wanted', 'slips', 'PIN', 'contact', 'pictwittercomRqYUEIQrZJ', 'merger', 'Kino', 'DeliciousRendezvous', 'half', 'Surin', 'carranty', 'Ng', 'EASY', 'Tmbs', 'study', 'Clear', 'calculation', 'assuming', 'rid', 'taxpayers', 'piles', 'entertained', 'Sales', 'vote', 'official', 'farmer', 'test', 'end', 'airAsias', 'Cardless', 'notifying', 'yes', 'sky', 'retransfer', 'suction', 'scbam', 'proud', 'idiot', 'intends', 'BDMS', 'minds', 'released', 'deposited', 'Tesco', 'Easynet', 'projects', 'hit', 'valuable', 'tc', 'eyes', 'av', 'Basically', 'PLATINUM', 'concluded', 'admirable', 'reviewing', 'Lock', 'estatement', 'notebook', 'retina', 'jar', 'monthly', 'descriptive', 'shuts', 'incredibly', 'Bum', 'disappear', 'Nomuras', 'death', 'mommy', 'TBANK', 'ppnnpp', 'Ten', 'SCBM', 'Nbsp', 'Uobs', 'tall', 'scbsonline', 'ICBC', 'krypto', 'JSecure', 'private', 'intention', 'bahtyear', 'ThaiNex', 'mediumsized', 'mooring', 'ARKK', 'cheering', 'Addmin', 'Wallet', 'Contact', 'kcl', 'camera', 'Mess', 'Australia', 'payout', 'valid', 'Mind', 'developed', 'front', 'Run', 'detac', 'none', 'hope', 'Shanghai', 'sorted', 'highflowered', 'registered', 'thanks', 'mobile', 'detained', 'agriculture', 'specify', 'woken', 'rotten', 'Yes', 'Future', 'NuneNoonieyy', 'Rush', 'Mint', 'item', 'managerampnbspampnbsp', 'saved', 'Cash', 'requests', 'endtoend', 'Walk', 'lik', 'Fast', 'empty', 'trust', 'shopping', 'home', 'FREECIMB', 'RMF', 'looks', 'enabled', 'This', 'destinations', 'justiceRescue', 'dedication', 'Finest', 'market', 'id', 'complete', 'Scbplanet', 'overpaying', 'enrolled', 'habits', 'Records', 'concession', 'logs', 'Bang', 'emailed', 'Nvr', 'Ill', 'helping', 'pair', 'Overall', 'lost', 'paste', 'mybspnbsp', 'expo', 'successfully', 'advisable', 'jitta', 'leaving', 'NVDR', 'erm', 'loaned', 'lowincome', 'Among', 'Thainecks', 'given', 'noti', 'procedure', 'contractor', 'Dip', 'rabbbit', 'odd', 'depriving', 'called', 'problemsother', 'rang', 'discount', 'thought', 'prior', 'PeckPalitchoke', 'Payy', 'automatic', 'Bureau', 'topnotch', 'Earlier', 'Youve', 'bankers', 'clerk', 'Ours', 'Select', 'Janyu', 'coin', 'Header', 'star', 'His', 'mBanking', 'Paotang', 'richer', 'presses', 'Mao', 'download', 'hes', 'backwards', 'CAD', 'working', 'theyve', 'Dunno', 'rural', 'washed', 'central', 'trader', 'murder', 'typed', 'Apapa', 'Savingsin', 'Shopee', 'seller', 'freeze', 'pictures', 'instructions', 'Allow', 'iPad', 'matching', 'responsehow', 'bucks', 'Noloyi', 'urgently', 'Ost', 'camp', 'Burrows', 'courage', 'scbeasy', 'avtm', 'Scbam', 'options', 'Kerrys', 'Hello', 'goes', 'investment', 'Aww', 'cancels', 'claim', 'One', 'roads', 'outdated', 'INTERNET', 'pressing', 'App', 'uhhuh', 'Market', 'Jing', 'xpress', 'benefit', 'Pey', 'advise', 'index', 'Sin', 'want', 'lightly', 'Axa', 'transferd', 'finishing', 'failing', 'record', 'Information', 'meet', 'fee', 'duress', 'assessed', 'hang', 'Exclusive', 'Society', 'KFC', 'Capital', 'towards', 'filming', 'wish', 'Officials', 'Buro', 'Clearly', 'KUSAAD', 'daytoday', 'fixing', 'ATMDebit', 'Spedylond', 'Simply', 'Jcb', 'longawaited', 'outbreaks', 'oilfree', 'TheChlxxx', 'Reloaded', 'cleared', 'Takdam', 'Citigold', 'stolen', 'mail', 'sisters', 'setting', 'Bangkapi', 'rock', 'act', 'credits', 'BANK', 'Naparat', 'jail', 'employees', 'goal', 'rejection', 'huh', 'know', 'cord', 'Repel', 'asshole', 'Benk', 'purchase', 'improves', 'cocapitalists', 'would', 'tickets', 'immediately', 'scary', 'Like', 'starting', 'Village', 'canceling', 'progress', 'connecting', 'jobs', 'swings', 'revenues', 'trouble', 'Manton', 'Deedy', 'Securities', 'bankslowly', 'fruitful', 'auto', 'Ah', 'acccount', 'withdraws', 'Tuctic', 'bank', 'comedy', 'credit', 'baht', 'measures', 'Japan', 'PBV', 'Dolphin', 'Institutional', 'Aliexpress', 'land', 'learn', 'autograph', 'conscious', 'intake', 'safest', 'Fundflow', 'part', 'Except', 'DEO', 'lote', 'todayweek', 'care', 'Exchanging', 'noticing', 'Confirmation', 'clinic', 'sleeping', 'documents', 'Burirum', 'condition', 'understand', 'TT', 'Taxfree', 'accessing', 'Promo', 'freelance', 'Trust', 'Hard', 'Drive', 'preorder', 'scb', 'OPDs', 'KSME', 'Renovated', 'Calculate', 'Happy', 'questions', 'states', 'shake', 'Tomorrow', 'bankthe', 'carry', 'Mai', 'shark', 'Joe', 'thank', 'repurchase', 'Sending', 'improve', 'respectively', 'First', 'borrowing', 'Saris', 'episodes', 'battalion', 'features', 'worked', 'model', 'records', 'notsend', 'brought', 'leaveofthehour', 'Invest', 'debts', 'plan', 'Steaming', 'Tess', 'drink', 'mistake', 'brok', 'Wisdom', 'oneI', 'claims', 'autodeposit', 'seat', 'zh', 'encountered', 'Division', 'Transfered', 'alerts', 'wifi', 'Dan', 'VPN', 'staff', 'Lppbh', 'matters', 'Sri', 'GSB', 'changing', 'Dreamsaving', 'sat', 'appraisal', 'crash', 'Whos', 'NZ', 'much', 'antibank', 'written', 'dead', 'attractive', 'Transfering', 'Prapa', 'min', 'Amex', 'try', 'lotteriesBut', 'school', 'title', 'cardnbspnbsp', 'accepted', 'Scanning', 'NZD', 'httpstcouCVeFjaKHt', 'citi', 'mortgaged', 'understands', 'ago', 'automatically', 'itThai', 'lasts', 'kmekluvyw', 'cannot', 'FCMG', 'hour', 'Thanaca', 'voices', 'military', 'Gosh', 'boat', 'feeling', 'exam', 'nervous', 'edition', 'trip', 'Company', 'Should', 'vicviickiexz', 'cents', 'competitive', 'checking', 'areas', 'doctors', 'agreed', 'refill', 'lot', 'extremely', 'Ling', 'Macro', 'fever', 'English', 'Weply', 'mlive', 'Bankurl', 'Citibank', 'GrabPay', 'side', 'power', 'accordingly', 'Plat', 'thousands', 'Who', 'Pay', 'host', 'highvalue', 'humans', 'quick', 'shitscrew', 'Plug', 'minus', 'worry', 'entering', 'Complaint', 'packages', 'wants', 'MasterCard', 'Syre', 'cute', 'Purple', 'Faster', 'Saving', 'covit', 'general', 'lines', 'jpremier', 'failed', 'luckily', 'holding', 'associated', 'Apples', 'BEC', 'floor', 'kaya', 'needed', 'point', 'swiped', 'Rama', 'paved', 'incorrect', 'Tak', 'executives', 'highest', 'speaks', 'CARD', 'BBLs', 'press', 'hidden', 'savings', 'fine', 'settlement', 'rules', 'subsidiary', 'IM', 'zwingzet', 'Anyone', 'Ads', 'cooperatives', 'juz', 'wrinkled', 'batteries', 'Found', 'tucall', 'provider', 'June', 'krungthai', 'decades', 'anywhere', 'retransmitted', 'Destination', 'Besides', 'open', 'whats', 'wiser', 'eligible', 'yaoutrip', 'boxes', 'rated', 'category', 'coding', 'JASIF', 'modern', 'serve', 'tap', 'realme', 'sleepy', 'Tell', 'Swish', 'doctor', 'Confirm', 'authorized', 'filled', 'Hes', 'alone', 'stepped', 'electronic', 'fancy', 'bags', 'quietly', 'diligent', 'everyones', 'KrungthaiCarre', 'Wait', 'popcorn', 'Heres', 'Kung', 'Waste', 'decorator', 'popular', 'responds', 'Squad', 'sirampnbspnbsp', 'partner', 'gross', 'rotting', 'stock', 'similar', 'Review', 'Gkivtec', 'effective', 'broke', 'caps', 'spoken', 'Nawang', 'Songkain', 'unstable', 'included', 'connected', 'oo', 'result', 'mnptwt', 'specialist', 'Port', 'answers', 'Pantip', 'Before', 'ppl', 'residual', 'Closing', 'Lotus', 'treatment', 'updates', 'disturbed', 'handout', 'aware', 'operating', 'card', 'stable', 'Thainex', 'Eva', 'Cause', 'bounce', 'Ask', 'steps', 'KTCs', 'verified', 'asset', 'printing', 'karma', 'windowsd', 'Payne', 'Flexi', 'Mei', 'thread', 'receives', 'mile', 'shipping', 'applying', 'Finanzian', 'Chanel', 'swipe', 'owns', 'adPaid', 'buysales', 'functions', 'Too', 'script', 'Confounded', 'disturb', 'SQ', 'taetewyn', 'pushing', 'Alerts', 'atm', 'regularly', 'dying', 'infected', 'erase', 'also', 'adjustable', 'BCs', 'Having', 'twoweek', 'attendant', 'Questions', 'Zealand', 'upgraded', 'BTC', 'ids', 'brew', 'pushes', 'distribution', 'guards', 'runs', 'unreachable', 'Wipada', 'actual', 'tricky', 'departmental', 'choose', 'must', 'twice', 'focusing', 'presssumm', 'grownup', 'wallets', 'Namtip', 'Months', 'Claucenter', 'Thought', 'yeah', 'cashiers', 'Thais', 'damage', 'unregistered', 'Speaking', 'screens', 'king', 'backtoback', 'mechanic', 'Harbor', 'fees', 'HR', 'stands', 'bangs', 'weigh', 'tells', 'Thks', 'CallCenter', 'moyaya', 'phonenet', 'reenter', 'candle', 'periods', 'Heavy', 'Round', 'Can', 'guaranteed', 'proscons', 'crisis', 'asap', 'focus', 'sree', 'Chap', 'owes', 'mart', 'Note', 'PeDPiPU', 'Si', 'Valet', 'scanner', 'LoveReview', 'redme', 'things', 'pressure', 'MyMo', 'payer', 'Nan', 'Ewang', 'authenticates', 'surcharge', 'Small', 'completes', 'Kong', 'Year', 'Enter', 'Callnbspnbspcenter', 'cutout', 'ps', 'roast', 'Nt', 'month', 'bruised', 'Always', 'TTB', 'assurance', 'draft', 'Amezon', 'wits', 'eveningnbsp', 'chinese', 'shocking', 'Suwankhun', 'visiting', 'weve', 'unionpay', 'swipes', 'Statement', 'advantage', 'gather', 'stole', 'Buri', 'adjustment', 'Grow', 'carrying', 'relentless', 'eg', 'literarydinsor', 'releases', 'governments', 'Work', 'travel', 'Thnakac', 'Whats', 'designs', 'Bullshit', 'aiming', 'Thomps', 'ThaiOmsin', 'manually', 'dayThis', 'itch', 'panel', 'Chubb', 'disconnect', 'Turns', 'Mines', 'main', 'recently', 'mall', 'truemoney', 'Town', 'love', 'LTF', 'Peak', 'totaling', 'criteria', 'Jakarin', 'Sari', 'reread', 'electricity', 'fill', 'blocked', 'GP', 'Dropshipping', 'easier', 'national', 'reducing', 'units', 'possible', 'hoping', 'extends', 'KrungthaiAXA', 'flatinum', 'Be', 'appnbspnbsp', 'Fund', 'alternative', 'Bridge', 'bmta', 'Coinsnbspnbsp', 'port', 'Based', 'Gum', 'outside', 'WDP', 'wrestling', 'brave', 'editing', 'ume', 'approves', 'robbers', 'keep', 'via', 'bail', 'smiles', 'wash', 'KTEF', 'client', 'Eaaw', 'overwhelming', 'AIAs', 'Uh', 'banks', 'hostess', 'tie', 'expenses', 'pong', 'reference', 'pele', 'continued', 'contacting', 'Nae', 'appscb', 'shit', 'Peys', 'coth', 'campaign', 'upgrade', 'Toyota', 'paypal', 'Waiting', 'Since', 'knowing', 'yordyings', 'existing', 'raised', 'Demeanor', 'blue', 'needs', 'recheck', 'Amortization', 'httpstcopDMUFkgREN', 'httpstcoIHvWenBHUB', 'Thailandneck', 'blunt', 'Ava', 'Find', 'ATM', 'occurs', 'files', 'Cp', 'deletes', 'Whoevers', 'fifth', 'Speedy', 'Ickckckckckckck', 'Sell', 'Officer', 'theyll', 'class', 'autostatement', 'speaker', 'schools', 'decree', 'ever', 'Tel', 'cabinets', 'slowest', 'claimed', 'sedans', 'TC', 'topic', 'Channel', 'Mainly', 'coach', 'kiosk', 'Bou', 'stuffed', 'joys', 'Successful', 'knowledge', 'talking', 'âa', 'customer', 'Ha', 'zimzalabimjStonenayouung', 'outsourcing', 'assets', 'dated', 'sound', 'eye', 'BL', 'size', 'umbrella', 'Pakistan', 'Live', 'Nomuranbsp', 'disable', 'Ministers', 'originally', 'Flow', 'bother', 'Understand', 'Bangkok', 'cutting', 'Do', 'nok', 'search', 'tapping', 'Ktc', 'key', 'cried', 'von', 'health', 'recovering', 'identifiers', 'atms', 'Contacted', 'paper', 'con', 'fact', 'peoplenbspnbsp', 'cryptographic', 'able', 'confusedI', 'authors', 'four', 'channels', 'checkin', 'block', 'alongIve', 'occurred', 'sucked', 'fucking', 'holds', 'Reset', 'yellow', 'sympathetic', 'Patriot', 'input', 'SWIFT', 'dare', 'Pump', 'improving', 'disabled', 'Auto', 'posts', 'accounted', 'Prestige', 'Financial', 'amortization', 'Help', 'inside', 'longest', 'Express', 'puts', 'bongtao', 'however', 'show', 'stalling', 'Ieves', 'robots', 'along', 'gone', 'rush', 'perfect', 'TWD', 'tossing', 'exchanges', 'development', 'overnbsp', 'problems', 'Phuket', 'Jmart', 'broken', 'enough', 'citibank', 'independence', 'PayPal', 'Thos', 'compirmation', 'memorized', 'social', 'abalonement', 'planning', 'Thoks', 'inquiring', 'till', 'Extract', 'Fleet', 'summation', 'round', 'keeps', 'city', 'header', 'yous', 'tomorrows', 'wow', 'Theyll', 'Ive', 'lockin', 'ahead', 'Luxe', 'witness', 'AF', 'Manny', 'Wash', 'Okay', 'moments', 'bunshee', 'Sianz', 'disappeared', 'listing', 'cashed', 'daily', 'hundreddollar', 'scbthailandloveWithBBH', 'mask', 'Whether', 'dollars', 'brothers', 'missingappless', 'oldest', 'overtake', 'accountant', 'requires', 'feasible', 'Sietongkum', 'troublemaker', 'short', 'gets', 'hack', 'Face', 'TIP', 'Lastly', 'XDs', 'non', 'BC', 'Tanshats', 'looking', 'busmen', 'Mom', 'Thoroughly', 'ktb', 'oathth', 'Bigc', 'print', 'activated', 'unable', 'intrusion', 'Sass', 'responsible', 'sums', 'evaluated', 'Closed', 'experienced', 'handing', 'weekday', 'thsnbspnbsp', 'omsin', 'transfering', 'necessity', 'held', 'threads', 'description', 'admire', 'Chi', 'right', 'virus', 'talked', 'sleeps', 'gym', 'skip', 'Deductor', 'Dec', 'amampnbspampnbspnbsp', 'Chalida', 'investments', 'Filled', 'billing', 'Kon', 'meafter', 'believed', 'calling', 'Sitting', 'includes', 'renew', 'Want', 'Choose', 'top', 'dollar', 'forward', 'earlier', 'guess', 'delayedtalk', 'obtained', 'The', 'touch', 'benefits', 'longterm', 'Receipt', 'doors', 'plumbing', 'apply', 'netflix', 'value', 'Answer', 'likely', 'beginning', 'flight', 'Long', 'slow', 'watching', 'saw', 'manage', 'updated', 'news', 'cancellation', 'Kaen', 'royal', 'BlC', 'Unnis', 'hardtoconnect', 'Ions', 'truck', 'deducts', 'frustrated', 'Patz', 'Bahtnbspnbsp', 'Umay', 'appointment', 'Any', 'About', 'hacker', 'Neg', 'professional', 'took', 'representative', 'express', 'casual', 'Global', 'AHHHHHHGHT', 'unresolved', 'cheque', 'Simple', 'bass', 'brings', 'sense', 'branches', 'checkout', 'CB', 'invested', 'repeat', 'corporate', 'remove', 'longer', 'covered', 'kicking', 'Rewards', 'pisapim', 'file', 'battle', 'staying', 'scbthailand', 'checklist', 'salesman', 'buy', 'Ouch', 'wellcare', 'huge', 'texting', 'moving', 'Wheres', 'troubles', 'Kowi', 'Mel', 'lift', 'made', 'default', 'evidence', 'plans', 'adjusting', 'High', 'irritating', 'extra', 'agency', 'werent', 'Finally', 'Sign', 'nine', 'secretly', 'Kplus', 'Transferring', 'countries', 'ok', 'tones', 'turned', 'image', 'experience', 'coupon', 'difference', 'rest', 'Waves', 'source', 'wiped', 'better', 'flexi', 'User', 'Lots', 'eppanng', 'fills', 'Tshirts', 'Well', 'He', 'tire', 'came', 'outpost', 'brutal', 'Menu', 'Applying', 'BECs', 'paragon', 'branch', 'decided', 'cryptograph', 'bookbanks', 'bouncing', 'subscribe', 'duty', 'tricked', 'stop', 'PLUS', 'KbankLive', 'twoyear', 'sym', 'shouldnt', 'unexcited', 'BOI', 'Press', 'understanding', 'Add', 'subsidy', 'Revenue', 'Deduct', 'transferor', 'raising', 'could', 'calculations', 'Visastyle', 'impact', 'father', 'Wish', 'misunderstanding', 'summarize', 'perform', 'stabbed', 'Mount', 'common', 'limits', 'oh', 'amendment', 'Still', 'Fei', 'later', 'Germany', 'internet', 'explains', 'Ticket', 'issues', 'compatible', 'convenience', 'Amen', 'tonbspnbsp', 'former', 'ccTLD', 'yelling', 'brighter', 'Rabbit', 'hows', 'shown', 'offer', 'poor', 'SAVINGS', 'android', 'cheated', 'sincerely', 'refills', 'airasia', 'midOctober', 'rings', 'pulled', 'punched', 'Esavings', 'QR', 'Substitute', 'office', 'Insti', 'mother', 'At', 'Write', 'papers', 'superspecial', 'dog', 'attention', 'Reboot', 'Robinson', 'dreamed', 'manager', 'omesin', 'burro', 'coming', 'students', 'KYDog', 'tried', 'depositdeposit', 'combined', 'pick', 'Gvalle', 'happening', 'Banks', 'publish', 'select', 'age', 'combines', 'went', 'stored', 'withdrawn', 'Scary', 'information', 'slip', 'Stable', 'Doing', 'Isus', 'retrieval', 'little', 'reporting', 'rightquot', 'fax', 'Refund', 'logic', 'Alert', 'victim', 'actually', 'borrowed', 'filetypes', 'Show', 'volumes', 'followed', 'born', 'bumper', 'Plus', 'small', 'Nonstop', 'advice', 'denial', 'Manage', 'reason', 'forced', 'second', 'never', 'Sodax', 'daddy', 'anxious', 'Trumoove', 'headache', 'otp', 'juurney', 'authorization', 'confidence', 'fan', 'happened', 'billion', 'Torrong', 'Panishi', 'question', 'termite', 'Srees', 'Application', 'favor', 'cheered', 'gtlt', 'ah', 'damn', 'Korea', 'conversations', 'Howd', 'rains', 'Advisor', 'Messenger', 'SCBS', 'Tour', 'dividend', 'grand', 'PM', 'offthesite', 'refinancing', 'average', 'Paye', 'contents', 'margin', 'conducting', 'Ok', 'Indy', 'locks', 'Coin', 'Working', 'nearest', 'oooo', 'route', 'Yen', 'Suckless', 'Haha', 'prosecution', 'Fun', 'damaged', 'Thugs', 'LINE', 'Nike', 'hiring', 'Fen', 'resigning', 'sucks', 'IPZPAYCOM', 'Save', 'seized', 'various', 'AXA', 'hair', 'grandmothers', 'directors', 'facebook', 'Thongchat', 'Government', 'ampnbspampnbsp', 'tmrw', 'Personally', 'participate', 'luck', 'Nations', 'lt', 'wasteful', 'Payed', 'receipt', 'appears', 'wont', 'friend', 'snack', 'And', 'debitnbspnbsp', 'bored', 'edc', 'Miracle', 'starter', 'hacking', 'Recently', 'accused', 'hells', 'warned', 'Seven', 'Shit', 'provide', 'horse', 'expands', 'throughnbspnbsp', 'camps', 'Afscb', 'salary', 'Ya', 'Cloud', 'teaches', 'unloaded', 'Jesus', 'lowclass', 'walk', 'girlfriends', 'itua', 'usually', 'direct', 'choice', 'yuan', 'Teampnbspampnbspnot', 'shiv', 'Protection', 'communication', 'success', 'viewed', 'kept', 'towed', 'embezzlement', 'laugh', 'robinhood', 'promotional', 'nation', 'Hurry', 'accountOurs', 'Street', 'position', 'Pocket', 'malfunctioning', 'KW', 'httpswww', 'divrari', 'Investing', 'Kowid', 'loss', 'shorter', 'Potify', 'securities', 'Fundclick', 'CDM', 'twoday', 'Generali', 'Tep', 'tmbbankcomcardscreditcardstmbsosmartcardhtmlhtml', 'noted', 'prestigeROP', 'movies', 'XX', 'millions', 'scbsonlinecom', 'overpayed', 'decide', 'thos', 'stateowned', 'restructured', 'Connext', 'management', 'Tbank', 'weply', 'spend', 'KeSaving', 'AOT', 'emoji', 'shortened', 'lock', 'guide', 'disqualified', 'eapp', 'Employees', 'Louis', 'transferred', 'trees', 'Noninterrupted', 'VAT', 'felt', 'iphone', 'final', 'KCyber', 'situation', 'snoopy', 'theplanet', 'prove', 'EOMSIN', 'change', 'besides', 'Declaration', 'centre', 'burglary', 'residence', 'shows', 'checked', 'oclock', 'buys', 'mention', 'forcing', 'Land', 'pocket', 'NL', 'linking', 'South', 'keys', 'Rum', 'package', 'bound', 'amp', 'sure', 'constituents', 'pretty', 'notify', 'kbanks', 'scam', 'shop', 'Services', 'Affirmation', 'PEC', 'Sneaked', 'midsecret', 'respect', 'reinstated', 'Start', 'ID', 'Bung', 'gotten', 'Shinpan', 'yet', 'submitted', 'return', 'Load', 'essay', 'magnetic', 'foundation', 'TMBs', 'Login', 'Received', 'buttercrimes', 'shed', 'OM', 'zipper', 'peaks', 'box', 'balancing', 'mistakes', 'Tsk', 'Nmax', 'recommending', 'cold', 'accept', 'CITI', 'switch', 'fucked', 'Were', 'AEONTS', 'timeMy', 'shops', 'puzzlesWhy', 'Ap', 'Kjourney', 'IDs', 'Pin', 'trunk', 'www', 'issue', 'Lucky', 'ridges', 'bill', 'memory', 'table', 'gain', 'loads', 'theplanetIve', 'Yu', 'sorry', 'straight', 'range', 'Not', 'Authorities', 'ODs', 'guts', 'Deducted', 'authorize', 'invalid', 'Gerror', 'Shes', 'named', 'By', 'hate', 'opportunity', 'temporary', 'suit', 'Easypass', 'Bangkokbank', 'Damn', 'pig', 'Outpost', 'nationality', 'automated', 'crashing', 'portfolio', 'Ports', 'enormous', 'disappears', 'hello', 'Otherwise', 'heading', 'frequent', 'Marhahaha', 'Burmese', 'unique'}\n"
          ]
        }
      ]
    },
    {
      "cell_type": "code",
      "source": [
        "#Encode each document as a sequence of integers\n",
        "tokenizer = Tokenizer()\n",
        "tokenizer.fit_on_texts(train_docs)\n",
        "encoded_docs = tokenizer.texts_to_sequences(train_docs)"
      ],
      "metadata": {
        "id": "N5FTbC2XC1DL"
      },
      "execution_count": 11,
      "outputs": []
    },
    {
      "cell_type": "code",
      "source": [
        "#as each sentences contain different length of words, we need padding to make the sequences the same length before\n",
        "#putting into the embedding layer\n",
        "max_length = max([len(s.split()) for s in train_docs])\n",
        "Xtrain = pad_sequences(encoded_docs, maxlen=max_length, padding='post')\n",
        "ytrain = np.array(train['Human_CategoryID'].tolist())"
      ],
      "metadata": {
        "id": "3YeDCItHEHYY"
      },
      "execution_count": 12,
      "outputs": []
    },
    {
      "cell_type": "code",
      "source": [
        "#do the same as train above for test\n",
        "encoded_docs = tokenizer.texts_to_sequences(test_docs)\n",
        "Xtest = pad_sequences(encoded_docs, maxlen=max_length, padding='post')\n",
        "ytest = np.array(test['Human_CategoryID'].tolist())"
      ],
      "metadata": {
        "id": "AJnuTHopELNp"
      },
      "execution_count": 13,
      "outputs": []
    },
    {
      "cell_type": "code",
      "source": [
        "#defind vocabulary size\n",
        "vocab_size = len(tokenizer.word_index) + 1"
      ],
      "metadata": {
        "id": "fCrq8FIoEk2o"
      },
      "execution_count": 14,
      "outputs": []
    },
    {
      "cell_type": "code",
      "source": [
        "#Count unique classes\n",
        "print(train['Human_CategoryID'].nunique(), test['Human_CategoryID'].nunique())"
      ],
      "metadata": {
        "id": "7XZgjKsuEk9C",
        "colab": {
          "base_uri": "https://localhost:8080/"
        },
        "outputId": "37a8fa7c-6d2e-4d56-dbf8-2ddd7bf6d2de"
      },
      "execution_count": 15,
      "outputs": [
        {
          "output_type": "stream",
          "name": "stdout",
          "text": [
            "13 13\n"
          ]
        }
      ]
    },
    {
      "cell_type": "code",
      "source": [
        "#Count unique classes\n",
        "num_classes = max(train['Human_CategoryID'].nunique(), test['Human_CategoryID'].nunique())\n",
        "print(num_classes)"
      ],
      "metadata": {
        "id": "km56RgrQE0nR",
        "colab": {
          "base_uri": "https://localhost:8080/"
        },
        "outputId": "9e0e5795-19ec-4257-e407-92faf5700f00"
      },
      "execution_count": 16,
      "outputs": [
        {
          "output_type": "stream",
          "name": "stdout",
          "text": [
            "13\n"
          ]
        }
      ]
    },
    {
      "cell_type": "code",
      "source": [
        "from tensorflow.keras.utils import to_categorical\n",
        "\n",
        "#Multi class problems need one-hot encoding on y\n",
        "#why - 1 on ytrain and ytest? can follow the linke below\n",
        "#https://stackoverflow.com/questions/56204731/the-method-np-utils-to-categorical-give-me-an-error/59002957#59002957\n",
        "ytrain =  to_categorical(ytrain-1, num_classes=num_classes)\n",
        "ytest = to_categorical(ytest-1, num_classes=num_classes)"
      ],
      "metadata": {
        "id": "5AkwsOvEE0uS"
      },
      "execution_count": 17,
      "outputs": []
    },
    {
      "cell_type": "code",
      "source": [
        "vocab_size = len(tokenizer.word_index)+1"
      ],
      "metadata": {
        "id": "kxUHJzkyE2Cw"
      },
      "execution_count": 18,
      "outputs": []
    },
    {
      "cell_type": "markdown",
      "source": [
        "#Model"
      ],
      "metadata": {
        "id": "2Wcr5KxLE8W3"
      }
    },
    {
      "cell_type": "markdown",
      "source": [
        "##CNN LSTM GMP1D D13: 62"
      ],
      "metadata": {
        "id": "hVA-lL4TGJLB"
      }
    },
    {
      "cell_type": "code",
      "source": [
        "import tensorflow as tf\n",
        "from keras.models import Sequential\n",
        "from keras.layers.convolutional import Conv1D, MaxPooling1D\n",
        "from keras.layers.pooling import GlobalMaxPooling1D, AveragePooling1D, GlobalAveragePooling1D\n",
        "from keras.layers import Dense, Flatten, Embedding, BatchNormalization, Dropout, LSTM, Bidirectional, TimeDistributed"
      ],
      "metadata": {
        "id": "br4WQmIrG1S3"
      },
      "execution_count": null,
      "outputs": []
    },
    {
      "cell_type": "code",
      "source": [
        "#Define our model\n",
        "model = Sequential()\n",
        "\n",
        "model.add(Embedding(vocab_size, 100, input_length=max_length, trainable=True))\n",
        "model.add(Conv1D(filters=32, kernel_size=3, activation='relu'))\n",
        "model.add(LSTM(50, return_sequences=True))\n",
        "\n",
        "model.add(GlobalMaxPooling1D())\n",
        "model.add(Flatten())\n",
        "\n",
        "model.add(Dense(num_classes, activation='softmax'))\n",
        "print(model.summary())"
      ],
      "metadata": {
        "id": "qBvFAsX4GNXL",
        "colab": {
          "base_uri": "https://localhost:8080/"
        },
        "outputId": "2de7c6a8-c551-4886-b048-23dd6556f36c"
      },
      "execution_count": null,
      "outputs": [
        {
          "output_type": "stream",
          "name": "stdout",
          "text": [
            "Model: \"sequential\"\n",
            "_________________________________________________________________\n",
            " Layer (type)                Output Shape              Param #   \n",
            "=================================================================\n",
            " embedding (Embedding)       (None, 190, 100)          1153600   \n",
            "                                                                 \n",
            " conv1d (Conv1D)             (None, 188, 32)           9632      \n",
            "                                                                 \n",
            " lstm (LSTM)                 (None, 188, 50)           16600     \n",
            "                                                                 \n",
            " global_max_pooling1d (Globa  (None, 50)               0         \n",
            " lMaxPooling1D)                                                  \n",
            "                                                                 \n",
            " flatten (Flatten)           (None, 50)                0         \n",
            "                                                                 \n",
            " dense (Dense)               (None, 13)                663       \n",
            "                                                                 \n",
            "=================================================================\n",
            "Total params: 1,180,495\n",
            "Trainable params: 1,180,495\n",
            "Non-trainable params: 0\n",
            "_________________________________________________________________\n",
            "None\n"
          ]
        }
      ]
    },
    {
      "cell_type": "code",
      "source": [
        "from tensorflow.keras.callbacks import EarlyStopping\n",
        "\n",
        "#put early stopping\n",
        "early_stopping = EarlyStopping(monitor='val_loss', patience=1, mode='min')\n",
        "\n",
        "#Your choices of activation='softmax' in the last layer and compile choice of loss='categorical_crossentropy' \n",
        "#are good for a model to predict multiple mutually-exclusive classes.\n",
        "\n",
        "model.compile(loss='categorical_crossentropy',\n",
        "              optimizer='adam', \n",
        "              metrics=['acc'],)"
      ],
      "metadata": {
        "id": "6h7dkVHjG7CD"
      },
      "execution_count": null,
      "outputs": []
    },
    {
      "cell_type": "code",
      "source": [
        "#Try classweight from this https://datascience.stackexchange.com/questions/13490/how-to-set-class-weights-for-imbalanced-classes-in-keras\n",
        "\n",
        "history = model.fit(Xtrain, ytrain, \n",
        "                    epochs=10, batch_size=32, \n",
        "                    validation_split=0.2,\n",
        "                    callbacks=[early_stopping])"
      ],
      "metadata": {
        "id": "ONM10HAYG9Ho",
        "colab": {
          "base_uri": "https://localhost:8080/"
        },
        "outputId": "4e38bc7e-f5b4-4716-ef21-551f6c9610e7"
      },
      "execution_count": null,
      "outputs": [
        {
          "output_type": "stream",
          "name": "stdout",
          "text": [
            "Epoch 1/10\n",
            "304/304 [==============================] - 19s 13ms/step - loss: 1.9636 - acc: 0.3442 - val_loss: 1.7720 - val_acc: 0.4276\n",
            "Epoch 2/10\n",
            "304/304 [==============================] - 3s 10ms/step - loss: 1.7085 - acc: 0.4520 - val_loss: 1.6945 - val_acc: 0.4588\n",
            "Epoch 3/10\n",
            "304/304 [==============================] - 3s 11ms/step - loss: 1.5387 - acc: 0.5245 - val_loss: 1.6434 - val_acc: 0.4934\n",
            "Epoch 4/10\n",
            "304/304 [==============================] - 3s 11ms/step - loss: 1.3857 - acc: 0.5803 - val_loss: 1.6477 - val_acc: 0.4844\n"
          ]
        }
      ]
    },
    {
      "cell_type": "code",
      "source": [
        "loss, acc = model.evaluate(Xtest, ytest)\n",
        "print('Test Accuracy: %f' % (acc*100))"
      ],
      "metadata": {
        "id": "C_4BpU86HCl5",
        "colab": {
          "base_uri": "https://localhost:8080/"
        },
        "outputId": "e39bbddf-d6dc-46c8-c2a4-ba392aef9431"
      },
      "execution_count": null,
      "outputs": [
        {
          "output_type": "stream",
          "name": "stdout",
          "text": [
            "380/380 [==============================] - 2s 5ms/step - loss: 1.2977 - acc: 0.6121\n",
            "Test Accuracy: 61.209875\n"
          ]
        }
      ]
    },
    {
      "cell_type": "code",
      "source": [
        "history_frame = pd.DataFrame(history.history)\n",
        "history_frame.loc[:, ['loss', 'val_loss']].plot()"
      ],
      "metadata": {
        "id": "frfxlm4bG_H1",
        "colab": {
          "base_uri": "https://localhost:8080/",
          "height": 282
        },
        "outputId": "762bd7dd-bed8-4a6f-af41-179b738cb3e6"
      },
      "execution_count": null,
      "outputs": [
        {
          "output_type": "execute_result",
          "data": {
            "text/plain": [
              "<matplotlib.axes._subplots.AxesSubplot at 0x7f52d4659510>"
            ]
          },
          "metadata": {},
          "execution_count": 24
        },
        {
          "output_type": "display_data",
          "data": {
            "text/plain": [
              "<Figure size 432x288 with 1 Axes>"
            ],
            "image/png": "[encoded data removed]"
          },
          "metadata": {
            "needs_background": "light"
          }
        }
      ]
    },
    {
      "cell_type": "code",
      "source": [
        "history_frame.loc[:, ['acc', 'val_acc']].plot()"
      ],
      "metadata": {
        "id": "BAjnmQlaHAM3",
        "colab": {
          "base_uri": "https://localhost:8080/",
          "height": 282
        },
        "outputId": "b222e2f7-d3ce-40c4-a848-17b672a6c888"
      },
      "execution_count": null,
      "outputs": [
        {
          "output_type": "execute_result",
          "data": {
            "text/plain": [
              "<matplotlib.axes._subplots.AxesSubplot at 0x7f52d40f1b10>"
            ]
          },
          "metadata": {},
          "execution_count": 25
        },
        {
          "output_type": "display_data",
          "data": {
            "text/plain": [
              "<Figure size 432x288 with 1 Axes>"
            ],
            "image/png": "[encoded data removed]"
          },
          "metadata": {
            "needs_background": "light"
          }
        }
      ]
    },
    {
      "cell_type": "code",
      "source": [
        ""
      ],
      "metadata": {
        "id": "zg8XeyeMHDlx"
      },
      "execution_count": null,
      "outputs": []
    },
    {
      "cell_type": "markdown",
      "source": [
        "##BIGRU CNN1 TDD GMP1D D13: 71"
      ],
      "metadata": {
        "id": "m4n3YO7QNfi1"
      }
    },
    {
      "cell_type": "code",
      "source": [
        "from keras.models import Sequential\n",
        "from keras.layers.convolutional import Conv1D, MaxPooling1D\n",
        "from keras.layers.pooling import GlobalMaxPooling1D, AveragePooling1D, GlobalAveragePooling1D\n",
        "from keras.layers import Dense, Flatten, Embedding, BatchNormalization, Dropout, LSTM\n",
        "\n",
        "from tensorflow.keras.layers import TimeDistributed, Bidirectional, GRU"
      ],
      "metadata": {
        "id": "SgEiHxadNsVX"
      },
      "execution_count": 21,
      "outputs": []
    },
    {
      "cell_type": "code",
      "source": [
        "#Define our model\n",
        "\n",
        "model = Sequential()\n",
        "\n",
        "model.add(Embedding(vocab_size, 1000, input_length=max_length, trainable=True))\n",
        "#Bi-GRU with TimeDistributed by Tul \n",
        "model.add(Bidirectional(GRU(units=256,return_sequences=True, dropout=0.2, recurrent_dropout=0.2), merge_mode = 'concat'))\n",
        "\n",
        "model.add(Conv1D(128, 5 , activation='tanh'))\n",
        "model.add(TimeDistributed(Dense(128, activation=\"relu\")))\n",
        "model.add(GlobalMaxPooling1D())\n",
        "\n",
        "model.add(Dense(num_classes, activation='softmax'))\n",
        "\n",
        "print(model.summary())"
      ],
      "metadata": {
        "colab": {
          "base_uri": "https://localhost:8080/"
        },
        "id": "p6plUvQwNoGd",
        "outputId": "5d7caae5-8eb8-4de6-ec24-5684d90f96ec"
      },
      "execution_count": 22,
      "outputs": [
        {
          "output_type": "stream",
          "name": "stdout",
          "text": [
            "WARNING:tensorflow:Layer gru will not use cuDNN kernels since it doesn't meet the criteria. It will use a generic GPU kernel as fallback when running on GPU.\n",
            "WARNING:tensorflow:Layer gru will not use cuDNN kernels since it doesn't meet the criteria. It will use a generic GPU kernel as fallback when running on GPU.\n",
            "WARNING:tensorflow:Layer gru will not use cuDNN kernels since it doesn't meet the criteria. It will use a generic GPU kernel as fallback when running on GPU.\n",
            "Model: \"sequential_1\"\n",
            "_________________________________________________________________\n",
            " Layer (type)                Output Shape              Param #   \n",
            "=================================================================\n",
            " embedding_1 (Embedding)     (None, 190, 1000)         11536000  \n",
            "                                                                 \n",
            " bidirectional (Bidirectiona  (None, 190, 512)         1932288   \n",
            " l)                                                              \n",
            "                                                                 \n",
            " conv1d (Conv1D)             (None, 186, 128)          327808    \n",
            "                                                                 \n",
            " time_distributed (TimeDistr  (None, 186, 128)         16512     \n",
            " ibuted)                                                         \n",
            "                                                                 \n",
            " global_max_pooling1d (Globa  (None, 128)              0         \n",
            " lMaxPooling1D)                                                  \n",
            "                                                                 \n",
            " dense_1 (Dense)             (None, 13)                1677      \n",
            "                                                                 \n",
            "=================================================================\n",
            "Total params: 13,814,285\n",
            "Trainable params: 13,814,285\n",
            "Non-trainable params: 0\n",
            "_________________________________________________________________\n",
            "None\n"
          ]
        }
      ]
    },
    {
      "cell_type": "code",
      "source": [
        "from tensorflow.keras.callbacks import EarlyStopping\n",
        "\n",
        "#put early stopping\n",
        "early_stopping = EarlyStopping(monitor='val_loss', patience=1, mode='min')\n",
        "\n",
        "#Your choices of activation='softmax' in the last layer and compile choice of loss='categorical_crossentropy' \n",
        "#are good for a model to predict multiple mutually-exclusive classes.\n",
        "\n",
        "model.compile(loss='categorical_crossentropy',\n",
        "              optimizer='adam', \n",
        "              metrics=['acc'],)"
      ],
      "metadata": {
        "id": "6CzKcgjsOGYy"
      },
      "execution_count": 23,
      "outputs": []
    },
    {
      "cell_type": "code",
      "source": [
        "#Try classweight from this https://datascience.stackexchange.com/questions/13490/how-to-set-class-weights-for-imbalanced-classes-in-keras\n",
        "#Get the similar results\n",
        "\n",
        "history = model.fit(Xtrain, ytrain, \n",
        "                    epochs=10, batch_size=32, #32, 128 > 8 (worse), 16, 64, 256\n",
        "                    validation_split=0.2,\n",
        "                    callbacks=[early_stopping])"
      ],
      "metadata": {
        "colab": {
          "base_uri": "https://localhost:8080/"
        },
        "outputId": "453ce5c3-1129-4e08-8d76-831751ad6866",
        "id": "RvOjQwYMOGYz"
      },
      "execution_count": 24,
      "outputs": [
        {
          "output_type": "stream",
          "name": "stdout",
          "text": [
            "Epoch 1/10\n",
            "304/304 [==============================] - 564s 2s/step - loss: 1.7667 - acc: 0.4206 - val_loss: 1.5909 - val_acc: 0.4807\n",
            "Epoch 2/10\n",
            "304/304 [==============================] - 534s 2s/step - loss: 1.3800 - acc: 0.5436 - val_loss: 1.4905 - val_acc: 0.5160\n",
            "Epoch 3/10\n",
            "304/304 [==============================] - 524s 2s/step - loss: 1.0751 - acc: 0.6458 - val_loss: 1.5720 - val_acc: 0.4864\n"
          ]
        }
      ]
    },
    {
      "cell_type": "code",
      "source": [
        "loss, acc = model.evaluate(Xtest, ytest)\n",
        "print('Test Accuracy: %f' % (acc*100))"
      ],
      "metadata": {
        "colab": {
          "base_uri": "https://localhost:8080/"
        },
        "outputId": "21c87ce2-8bbb-4d45-80b8-2e53ecbbb053",
        "id": "ILUdo9IBOGYz"
      },
      "execution_count": 25,
      "outputs": [
        {
          "output_type": "stream",
          "name": "stdout",
          "text": [
            "380/380 [==============================] - 49s 130ms/step - loss: 0.9030 - acc: 0.7162\n",
            "Test Accuracy: 71.621400\n"
          ]
        }
      ]
    },
    {
      "cell_type": "code",
      "source": [
        "history_frame = pd.DataFrame(history.history)\n",
        "history_frame.loc[:, ['loss', 'val_loss']].plot()"
      ],
      "metadata": {
        "colab": {
          "base_uri": "https://localhost:8080/",
          "height": 286
        },
        "outputId": "a75e01ab-66a6-47d8-8f4a-522318573940",
        "id": "VO9SYZhpOGY0"
      },
      "execution_count": 26,
      "outputs": [
        {
          "output_type": "execute_result",
          "data": {
            "text/plain": [
              "<matplotlib.axes._subplots.AxesSubplot at 0x7f8c80262fd0>"
            ]
          },
          "metadata": {},
          "execution_count": 26
        },
        {
          "output_type": "display_data",
          "data": {
            "text/plain": [
              "<Figure size 432x288 with 1 Axes>"
            ],
            "image/png": "[encoded data removed]"
          },
          "metadata": {
            "needs_background": "light"
          }
        }
      ]
    },
    {
      "cell_type": "code",
      "source": [
        "history_frame.loc[:, ['acc', 'val_acc']].plot()"
      ],
      "metadata": {
        "colab": {
          "base_uri": "https://localhost:8080/",
          "height": 282
        },
        "outputId": "ea63f27e-b426-47f1-9c94-c7083d019a70",
        "id": "Qm6lkNcgOGY0"
      },
      "execution_count": 27,
      "outputs": [
        {
          "output_type": "execute_result",
          "data": {
            "text/plain": [
              "<matplotlib.axes._subplots.AxesSubplot at 0x7f8c001f4e10>"
            ]
          },
          "metadata": {},
          "execution_count": 27
        },
        {
          "output_type": "display_data",
          "data": {
            "text/plain": [
              "<Figure size 432x288 with 1 Axes>"
            ],
            "image/png": "[encoded data removed]"
          },
          "metadata": {
            "needs_background": "light"
          }
        }
      ]
    },
    {
      "cell_type": "markdown",
      "source": [
        "##BILSTM CNN1 TDD GMP1D D13: 71"
      ],
      "metadata": {
        "id": "IXY0DUEhOs1n"
      }
    },
    {
      "cell_type": "code",
      "source": [
        "from keras.models import Sequential\n",
        "from keras.layers.convolutional import Conv1D, MaxPooling1D\n",
        "from keras.layers.pooling import GlobalMaxPooling1D, AveragePooling1D, GlobalAveragePooling1D\n",
        "from keras.layers import Dense, Flatten, Embedding, BatchNormalization, Dropout\n",
        "\n",
        "from tensorflow.keras.layers import TimeDistributed, Bidirectional, GRU, LSTM"
      ],
      "metadata": {
        "id": "1rb9CsXNOs1o"
      },
      "execution_count": 28,
      "outputs": []
    },
    {
      "cell_type": "code",
      "source": [
        "#Define our model\n",
        "\n",
        "model = Sequential()\n",
        "\n",
        "model.add(Embedding(vocab_size, 1000, input_length=max_length, trainable=True))\n",
        "#Bi-LSTM with TimeDistributed by Tul \n",
        "model.add(Bidirectional(LSTM(units=256,return_sequences=True, dropout=0.2, recurrent_dropout=0.2), merge_mode = 'concat'))\n",
        "\n",
        "model.add(Conv1D(128, 5 , activation='tanh'))\n",
        "model.add(TimeDistributed(Dense(128, activation=\"relu\")))\n",
        "model.add(GlobalMaxPooling1D())\n",
        "\n",
        "model.add(Dense(num_classes, activation='softmax'))\n",
        "\n",
        "print(model.summary())"
      ],
      "metadata": {
        "colab": {
          "base_uri": "https://localhost:8080/"
        },
        "outputId": "c5e7807f-370a-4eaf-90db-0892023c21e3",
        "id": "IJfHvzqOOs1o"
      },
      "execution_count": 29,
      "outputs": [
        {
          "output_type": "stream",
          "name": "stdout",
          "text": [
            "WARNING:tensorflow:Layer lstm will not use cuDNN kernels since it doesn't meet the criteria. It will use a generic GPU kernel as fallback when running on GPU.\n",
            "WARNING:tensorflow:Layer lstm will not use cuDNN kernels since it doesn't meet the criteria. It will use a generic GPU kernel as fallback when running on GPU.\n",
            "WARNING:tensorflow:Layer lstm will not use cuDNN kernels since it doesn't meet the criteria. It will use a generic GPU kernel as fallback when running on GPU.\n",
            "Model: \"sequential_2\"\n",
            "_________________________________________________________________\n",
            " Layer (type)                Output Shape              Param #   \n",
            "=================================================================\n",
            " embedding_2 (Embedding)     (None, 190, 1000)         11536000  \n",
            "                                                                 \n",
            " bidirectional_1 (Bidirectio  (None, 190, 512)         2574336   \n",
            " nal)                                                            \n",
            "                                                                 \n",
            " conv1d_1 (Conv1D)           (None, 186, 128)          327808    \n",
            "                                                                 \n",
            " time_distributed_1 (TimeDis  (None, 186, 128)         16512     \n",
            " tributed)                                                       \n",
            "                                                                 \n",
            " global_max_pooling1d_1 (Glo  (None, 128)              0         \n",
            " balMaxPooling1D)                                                \n",
            "                                                                 \n",
            " dense_3 (Dense)             (None, 13)                1677      \n",
            "                                                                 \n",
            "=================================================================\n",
            "Total params: 14,456,333\n",
            "Trainable params: 14,456,333\n",
            "Non-trainable params: 0\n",
            "_________________________________________________________________\n",
            "None\n"
          ]
        }
      ]
    },
    {
      "cell_type": "code",
      "source": [
        "from tensorflow.keras.callbacks import EarlyStopping\n",
        "\n",
        "#put early stopping\n",
        "early_stopping = EarlyStopping(monitor='val_loss', patience=1, mode='min')\n",
        "\n",
        "#Your choices of activation='softmax' in the last layer and compile choice of loss='categorical_crossentropy' \n",
        "#are good for a model to predict multiple mutually-exclusive classes.\n",
        "\n",
        "model.compile(loss='categorical_crossentropy',\n",
        "              optimizer='adam', \n",
        "              metrics=['acc'],)"
      ],
      "metadata": {
        "id": "eTGGc7VPOs1o"
      },
      "execution_count": 30,
      "outputs": []
    },
    {
      "cell_type": "code",
      "source": [
        "#Try classweight from this https://datascience.stackexchange.com/questions/13490/how-to-set-class-weights-for-imbalanced-classes-in-keras\n",
        "#Get the similar results\n",
        "\n",
        "history = model.fit(Xtrain, ytrain, \n",
        "                    epochs=10, batch_size=32, #32, 128 > 8 (worse), 16, 64, 256\n",
        "                    validation_split=0.2,\n",
        "                    callbacks=[early_stopping])"
      ],
      "metadata": {
        "colab": {
          "base_uri": "https://localhost:8080/"
        },
        "outputId": "2bbff065-4c3d-4515-b80e-16c106c873bb",
        "id": "1MnITCP7Os1o"
      },
      "execution_count": 31,
      "outputs": [
        {
          "output_type": "stream",
          "name": "stdout",
          "text": [
            "Epoch 1/10\n",
            "304/304 [==============================] - 593s 2s/step - loss: 1.7937 - acc: 0.4065 - val_loss: 1.5637 - val_acc: 0.4930\n",
            "Epoch 2/10\n",
            "304/304 [==============================] - 585s 2s/step - loss: 1.3829 - acc: 0.5537 - val_loss: 1.5073 - val_acc: 0.5066\n",
            "Epoch 3/10\n",
            "304/304 [==============================] - 581s 2s/step - loss: 1.0764 - acc: 0.6433 - val_loss: 1.5653 - val_acc: 0.5041\n"
          ]
        }
      ]
    },
    {
      "cell_type": "code",
      "source": [
        "loss, acc = model.evaluate(Xtest, ytest)\n",
        "print('Test Accuracy: %f' % (acc*100))"
      ],
      "metadata": {
        "colab": {
          "base_uri": "https://localhost:8080/"
        },
        "id": "ivxxqu66Os1o",
        "outputId": "47c14511-94ea-4a1c-83af-5985c3f864db"
      },
      "execution_count": 32,
      "outputs": [
        {
          "output_type": "stream",
          "name": "stdout",
          "text": [
            "380/380 [==============================] - 50s 131ms/step - loss: 0.8893 - acc: 0.7177\n",
            "Test Accuracy: 71.769547\n"
          ]
        }
      ]
    },
    {
      "cell_type": "code",
      "source": [
        "history_frame = pd.DataFrame(history.history)\n",
        "history_frame.loc[:, ['loss', 'val_loss']].plot()"
      ],
      "metadata": {
        "colab": {
          "base_uri": "https://localhost:8080/",
          "height": 282
        },
        "id": "iAVneSZdOs1o",
        "outputId": "9e2ce6cc-86a6-4dbe-a1bb-940b6953e5ce"
      },
      "execution_count": 33,
      "outputs": [
        {
          "output_type": "execute_result",
          "data": {
            "text/plain": [
              "<matplotlib.axes._subplots.AxesSubplot at 0x7f8bda17b410>"
            ]
          },
          "metadata": {},
          "execution_count": 33
        },
        {
          "output_type": "display_data",
          "data": {
            "text/plain": [
              "<Figure size 432x288 with 1 Axes>"
            ],
            "image/png": "[encoded data removed]"
          },
          "metadata": {
            "needs_background": "light"
          }
        }
      ]
    },
    {
      "cell_type": "code",
      "source": [
        "history_frame.loc[:, ['acc', 'val_acc']].plot()"
      ],
      "metadata": {
        "colab": {
          "base_uri": "https://localhost:8080/",
          "height": 282
        },
        "id": "20PfMRNfOs1p",
        "outputId": "b9b80dd6-1f9a-40c6-db08-eae5638a63ce"
      },
      "execution_count": 34,
      "outputs": [
        {
          "output_type": "execute_result",
          "data": {
            "text/plain": [
              "<matplotlib.axes._subplots.AxesSubplot at 0x7f8c00147250>"
            ]
          },
          "metadata": {},
          "execution_count": 34
        },
        {
          "output_type": "display_data",
          "data": {
            "text/plain": [
              "<Figure size 432x288 with 1 Axes>"
            ],
            "image/png": "[encoded data removed]"
          },
          "metadata": {
            "needs_background": "light"
          }
        }
      ]
    },
    {
      "cell_type": "markdown",
      "source": [
        "## CNN1 GMP1D D13: 79\n"
      ],
      "metadata": {
        "id": "BX_XQj67E_b6"
      }
    },
    {
      "cell_type": "code",
      "source": [
        "from keras.layers import Dense, Flatten, Embedding, BatchNormalization, Dropout, LSTM, Bidirectional, TimeDistributed\n",
        "from keras.models import Sequential\n",
        "from keras.layers.convolutional import Conv1D, MaxPooling1D\n",
        "from keras.layers.pooling import GlobalMaxPooling1D, AveragePooling1D, GlobalAveragePooling1D\n",
        "import tensorflow as tf"
      ],
      "metadata": {
        "id": "CR-HCnzPFDoe"
      },
      "execution_count": null,
      "outputs": []
    },
    {
      "cell_type": "code",
      "source": [
        "from keras.layers.pooling import GlobalMaxPooling1D\n",
        "#Define our model\n",
        "model = Sequential()\n",
        "\n",
        "model.add(Embedding(vocab_size, 1000, input_length=max_length, trainable=True))\n",
        "model.add(Conv1D(128, 5 , activation='relu'))\n",
        "#Among filters=[64,128,256], 128 is the best. \n",
        "#activation selu, tanh, relu, elu got similar results\n",
        "model.add(GlobalMaxPooling1D()) #Among pooliing, GMP1D is the best.\n",
        "\n",
        "model.add(Dense(num_classes, activation='softmax')) #1 Dense better than 2 Denses\n",
        "print(model.summary())"
      ],
      "metadata": {
        "id": "nddmIhdNFICP",
        "colab": {
          "base_uri": "https://localhost:8080/"
        },
        "outputId": "f32041e8-812c-48be-8ce0-9c9c3e77c47c"
      },
      "execution_count": null,
      "outputs": [
        {
          "output_type": "stream",
          "name": "stdout",
          "text": [
            "Model: \"sequential_1\"\n",
            "_________________________________________________________________\n",
            " Layer (type)                Output Shape              Param #   \n",
            "=================================================================\n",
            " embedding_1 (Embedding)     (None, 190, 1000)         11536000  \n",
            "                                                                 \n",
            " conv1d_1 (Conv1D)           (None, 186, 128)          640128    \n",
            "                                                                 \n",
            " global_max_pooling1d_1 (Glo  (None, 128)              0         \n",
            " balMaxPooling1D)                                                \n",
            "                                                                 \n",
            " dense_1 (Dense)             (None, 13)                1677      \n",
            "                                                                 \n",
            "=================================================================\n",
            "Total params: 12,177,805\n",
            "Trainable params: 12,177,805\n",
            "Non-trainable params: 0\n",
            "_________________________________________________________________\n",
            "None\n"
          ]
        }
      ]
    },
    {
      "cell_type": "code",
      "source": [
        "from tensorflow.keras.callbacks import EarlyStopping\n",
        "\n",
        "#put early stopping\n",
        "early_stopping = EarlyStopping(monitor='val_loss', patience=1, mode='min')\n",
        "\n",
        "#Your choices of activation='softmax' in the last layer and compile choice of loss='categorical_crossentropy' \n",
        "#are good for a model to predict multiple mutually-exclusive classes.\n",
        "\n",
        "model.compile(loss='categorical_crossentropy',\n",
        "              optimizer='adam', \n",
        "              metrics=['acc'],)"
      ],
      "metadata": {
        "id": "Q9yeE8-iFJcL"
      },
      "execution_count": null,
      "outputs": []
    },
    {
      "cell_type": "code",
      "source": [
        "#Try classweight from this https://datascience.stackexchange.com/questions/13490/how-to-set-class-weights-for-imbalanced-classes-in-keras\n",
        "#Get the similar results\n",
        "\n",
        "history = model.fit(Xtrain, ytrain, \n",
        "                    epochs=10, batch_size=32, #32, 128 > 8 (worse), 16, 64, 256\n",
        "                    validation_split=0.2,\n",
        "                    callbacks=[early_stopping])"
      ],
      "metadata": {
        "id": "7pCGbab1FMKr",
        "colab": {
          "base_uri": "https://localhost:8080/"
        },
        "outputId": "4e54bd23-ad84-483d-89c5-66d1175ed426"
      },
      "execution_count": null,
      "outputs": [
        {
          "output_type": "stream",
          "name": "stdout",
          "text": [
            "Epoch 1/10\n",
            "304/304 [==============================] - 6s 17ms/step - loss: 1.7150 - acc: 0.4353 - val_loss: 1.4883 - val_acc: 0.5095\n",
            "Epoch 2/10\n",
            "304/304 [==============================] - 5s 16ms/step - loss: 1.2134 - acc: 0.6051 - val_loss: 1.4630 - val_acc: 0.5103\n",
            "Epoch 3/10\n",
            "304/304 [==============================] - 5s 16ms/step - loss: 0.8292 - acc: 0.7330 - val_loss: 1.4932 - val_acc: 0.5198\n"
          ]
        }
      ]
    },
    {
      "cell_type": "code",
      "source": [
        "loss, acc = model.evaluate(Xtest, ytest)\n",
        "print('Test Accuracy: %f' % (acc*100))"
      ],
      "metadata": {
        "id": "fhmvQ1gcFNxb",
        "colab": {
          "base_uri": "https://localhost:8080/"
        },
        "outputId": "7bd302c0-9834-4598-eb4b-60ecdbb128f5"
      },
      "execution_count": null,
      "outputs": [
        {
          "output_type": "stream",
          "name": "stdout",
          "text": [
            "380/380 [==============================] - 1s 4ms/step - loss: 0.7033 - acc: 0.7901\n",
            "Test Accuracy: 79.012346\n"
          ]
        }
      ]
    },
    {
      "cell_type": "code",
      "source": [
        "history_frame = pd.DataFrame(history.history)\n",
        "history_frame.loc[:, ['loss', 'val_loss']].plot()"
      ],
      "metadata": {
        "id": "hl6XE30MFQpK",
        "colab": {
          "base_uri": "https://localhost:8080/",
          "height": 282
        },
        "outputId": "7cb3e2aa-2b28-4448-eb08-d93b24adde8b"
      },
      "execution_count": null,
      "outputs": [
        {
          "output_type": "execute_result",
          "data": {
            "text/plain": [
              "<matplotlib.axes._subplots.AxesSubplot at 0x7f52d409f610>"
            ]
          },
          "metadata": {},
          "execution_count": 31
        },
        {
          "output_type": "display_data",
          "data": {
            "text/plain": [
              "<Figure size 432x288 with 1 Axes>"
            ],
            "image/png": "[encoded data removed]"
          },
          "metadata": {
            "needs_background": "light"
          }
        }
      ]
    }
  ]
}