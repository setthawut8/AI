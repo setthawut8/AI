{
  "nbformat": 4,
  "nbformat_minor": 0,
  "metadata": {
    "colab": {
      "name": "[TH2EN  EBL CNN] Text Classification_Banking_Data.ipynb",
      "provenance": [],
      "machine_shape": "hm",
      "collapsed_sections": [
        "DKZejA_uh9kv",
        "-Hi7_QknsJKg",
        "SF_gw2udAQY3",
        "1U9_3A4GB3fV",
        "hVA-lL4TGJLB"
      ],
      "authorship_tag": "ABX9TyPPtnxAeq62Fliu0QoDAFrA",
      "include_colab_link": true
    },
    "kernelspec": {
      "name": "python3",
      "display_name": "Python 3"
    },
    "language_info": {
      "name": "python"
    },
    "accelerator": "GPU",
    "gpuClass": "standard"
  },
  "cells": [
    {
      "cell_type": "markdown",
      "metadata": {
        "id": "view-in-github",
        "colab_type": "text"
      },
      "source": [
        "<a href=\"https://colab.research.google.com/github/setthawut8/ai/blob/main/%5BTH2EN_EBL_CNN%5D_Text_Classification_Banking_Data.ipynb\" target=\"_parent\"><img src=\"https://colab.research.google.com/assets/colab-badge.svg\" alt=\"Open In Colab\"/></a>"
      ]
    },
    {
      "cell_type": "markdown",
      "source": [
        "#Download Data and Library Installation"
      ],
      "metadata": {
        "id": "DKZejA_uh9kv"
      }
    },
    {
      "cell_type": "code",
      "execution_count": 1,
      "metadata": {
        "id": "rY0gVkg8ahbS",
        "colab": {
          "base_uri": "https://localhost:8080/"
        },
        "outputId": "0c9886ea-7ffe-4c7c-d25c-e0c21c53636f"
      },
      "outputs": [
        {
          "output_type": "stream",
          "name": "stdout",
          "text": [
            "/usr/local/lib/python3.7/dist-packages/gdown/cli.py:131: FutureWarning: Option `--id` was deprecated in version 4.3.1 and will be removed in 5.0. You don't need to pass it anymore to use a file ID.\n",
            "  category=FutureWarning,\n",
            "Downloading...\n",
            "From: https://drive.google.com/uc?id=1-avUDygRCGvAiPplmc6MundS_PpnohRv\n",
            "To: /content/preprocessed_v1_socialfsi_single_train_sampling12150_20220701.xlsx\n",
            "100% 3.87M/3.87M [00:00<00:00, 294MB/s]\n",
            "/usr/local/lib/python3.7/dist-packages/gdown/cli.py:131: FutureWarning: Option `--id` was deprecated in version 4.3.1 and will be removed in 5.0. You don't need to pass it anymore to use a file ID.\n",
            "  category=FutureWarning,\n",
            "Downloading...\n",
            "From: https://drive.google.com/uc?id=106OVRPIQQBppganRnCZigxQh6-Zyvqit\n",
            "To: /content/preprocessed_v1_socialfsi_single_test_sampling389_20220701.xlsx\n",
            "100% 141k/141k [00:00<00:00, 79.6MB/s]\n",
            "/usr/local/lib/python3.7/dist-packages/gdown/cli.py:131: FutureWarning: Option `--id` was deprecated in version 4.3.1 and will be removed in 5.0. You don't need to pass it anymore to use a file ID.\n",
            "  category=FutureWarning,\n",
            "Downloading...\n",
            "From: https://drive.google.com/uc?id=1hdmLmyVp_-MOmHBKWs4OukuxoyUFxW8X\n",
            "To: /content/train_translated banking data.csv\n",
            "100% 18.7M/18.7M [00:00<00:00, 65.7MB/s]\n",
            "/usr/local/lib/python3.7/dist-packages/gdown/cli.py:131: FutureWarning: Option `--id` was deprecated in version 4.3.1 and will be removed in 5.0. You don't need to pass it anymore to use a file ID.\n",
            "  category=FutureWarning,\n",
            "Downloading...\n",
            "From: https://drive.google.com/uc?id=1Cq3FttnnzZa-RK7vlu94bJTRj8YD6vA5\n",
            "To: /content/test_translated banking data.csv\n",
            "100% 18.7M/18.7M [00:00<00:00, 297MB/s]\n",
            "Looking in indexes: https://pypi.org/simple, https://us-python.pkg.dev/colab-wheels/public/simple/\n",
            "Collecting flair\n",
            "  Downloading flair-0.11.3-py3-none-any.whl (401 kB)\n",
            "\u001b[K     |████████████████████████████████| 401 kB 5.2 MB/s \n",
            "\u001b[?25hRequirement already satisfied: tabulate in /usr/local/lib/python3.7/dist-packages (from flair) (0.8.9)\n",
            "Collecting mpld3==0.3\n",
            "  Downloading mpld3-0.3.tar.gz (788 kB)\n",
            "\u001b[K     |████████████████████████████████| 788 kB 46.7 MB/s \n",
            "\u001b[?25hRequirement already satisfied: matplotlib>=2.2.3 in /usr/local/lib/python3.7/dist-packages (from flair) (3.2.2)\n",
            "Requirement already satisfied: more-itertools in /usr/local/lib/python3.7/dist-packages (from flair) (8.13.0)\n",
            "Collecting deprecated>=1.2.4\n",
            "  Downloading Deprecated-1.2.13-py2.py3-none-any.whl (9.6 kB)\n",
            "Collecting ftfy\n",
            "  Downloading ftfy-6.1.1-py3-none-any.whl (53 kB)\n",
            "\u001b[K     |████████████████████████████████| 53 kB 1.6 MB/s \n",
            "\u001b[?25hCollecting janome\n",
            "  Downloading Janome-0.4.2-py2.py3-none-any.whl (19.7 MB)\n",
            "\u001b[K     |████████████████████████████████| 19.7 MB 349 kB/s \n",
            "\u001b[?25hCollecting huggingface-hub\n",
            "  Downloading huggingface_hub-0.8.1-py3-none-any.whl (101 kB)\n",
            "\u001b[K     |████████████████████████████████| 101 kB 8.2 MB/s \n",
            "\u001b[?25hCollecting pptree\n",
            "  Downloading pptree-3.1.tar.gz (3.0 kB)\n",
            "Requirement already satisfied: tqdm>=4.26.0 in /usr/local/lib/python3.7/dist-packages (from flair) (4.64.0)\n",
            "Collecting sqlitedict>=1.6.0\n",
            "  Downloading sqlitedict-2.0.0.tar.gz (46 kB)\n",
            "\u001b[K     |████████████████████████████████| 46 kB 4.4 MB/s \n",
            "\u001b[?25hCollecting konoha<5.0.0,>=4.0.0\n",
            "  Downloading konoha-4.6.5-py3-none-any.whl (20 kB)\n",
            "Collecting wikipedia-api\n",
            "  Downloading Wikipedia-API-0.5.4.tar.gz (18 kB)\n",
            "Collecting bpemb>=0.3.2\n",
            "  Downloading bpemb-0.3.3-py3-none-any.whl (19 kB)\n",
            "Requirement already satisfied: gdown==4.4.0 in /usr/local/lib/python3.7/dist-packages (from flair) (4.4.0)\n",
            "Collecting segtok>=1.5.7\n",
            "  Downloading segtok-1.5.11-py3-none-any.whl (24 kB)\n",
            "Requirement already satisfied: lxml in /usr/local/lib/python3.7/dist-packages (from flair) (4.2.6)\n",
            "Collecting conllu>=4.0\n",
            "  Downloading conllu-4.4.2-py2.py3-none-any.whl (15 kB)\n",
            "Requirement already satisfied: torch!=1.8,>=1.5.0 in /usr/local/lib/python3.7/dist-packages (from flair) (1.11.0+cu113)\n",
            "Collecting sentencepiece==0.1.95\n",
            "  Downloading sentencepiece-0.1.95-cp37-cp37m-manylinux2014_x86_64.whl (1.2 MB)\n",
            "\u001b[K     |████████████████████████████████| 1.2 MB 64.7 MB/s \n",
            "\u001b[?25hRequirement already satisfied: scikit-learn>=0.21.3 in /usr/local/lib/python3.7/dist-packages (from flair) (1.0.2)\n",
            "Requirement already satisfied: regex in /usr/local/lib/python3.7/dist-packages (from flair) (2022.6.2)\n",
            "Collecting hyperopt>=0.2.7\n",
            "  Downloading hyperopt-0.2.7-py2.py3-none-any.whl (1.6 MB)\n",
            "\u001b[K     |████████████████████████████████| 1.6 MB 55.7 MB/s \n",
            "\u001b[?25hRequirement already satisfied: python-dateutil>=2.6.1 in /usr/local/lib/python3.7/dist-packages (from flair) (2.8.2)\n",
            "Collecting langdetect\n",
            "  Downloading langdetect-1.0.9.tar.gz (981 kB)\n",
            "\u001b[K     |████████████████████████████████| 981 kB 57.5 MB/s \n",
            "\u001b[?25hRequirement already satisfied: gensim>=3.4.0 in /usr/local/lib/python3.7/dist-packages (from flair) (3.6.0)\n",
            "Collecting transformers>=4.0.0\n",
            "  Downloading transformers-4.20.1-py3-none-any.whl (4.4 MB)\n",
            "\u001b[K     |████████████████████████████████| 4.4 MB 65.9 MB/s \n",
            "\u001b[?25hRequirement already satisfied: six in /usr/local/lib/python3.7/dist-packages (from gdown==4.4.0->flair) (1.15.0)\n",
            "Requirement already satisfied: beautifulsoup4 in /usr/local/lib/python3.7/dist-packages (from gdown==4.4.0->flair) (4.6.3)\n",
            "Requirement already satisfied: requests[socks] in /usr/local/lib/python3.7/dist-packages (from gdown==4.4.0->flair) (2.23.0)\n",
            "Requirement already satisfied: filelock in /usr/local/lib/python3.7/dist-packages (from gdown==4.4.0->flair) (3.7.1)\n",
            "Requirement already satisfied: numpy in /usr/local/lib/python3.7/dist-packages (from bpemb>=0.3.2->flair) (1.21.6)\n",
            "Requirement already satisfied: wrapt<2,>=1.10 in /usr/local/lib/python3.7/dist-packages (from deprecated>=1.2.4->flair) (1.14.1)\n",
            "Requirement already satisfied: smart-open>=1.2.1 in /usr/local/lib/python3.7/dist-packages (from gensim>=3.4.0->flair) (5.2.1)\n",
            "Requirement already satisfied: scipy>=0.18.1 in /usr/local/lib/python3.7/dist-packages (from gensim>=3.4.0->flair) (1.4.1)\n",
            "Requirement already satisfied: future in /usr/local/lib/python3.7/dist-packages (from hyperopt>=0.2.7->flair) (0.16.0)\n",
            "Requirement already satisfied: cloudpickle in /usr/local/lib/python3.7/dist-packages (from hyperopt>=0.2.7->flair) (1.3.0)\n",
            "Collecting py4j\n",
            "  Downloading py4j-0.10.9.5-py2.py3-none-any.whl (199 kB)\n",
            "\u001b[K     |████████████████████████████████| 199 kB 84.1 MB/s \n",
            "\u001b[?25hRequirement already satisfied: networkx>=2.2 in /usr/local/lib/python3.7/dist-packages (from hyperopt>=0.2.7->flair) (2.6.3)\n",
            "Collecting requests\n",
            "  Downloading requests-2.28.1-py3-none-any.whl (62 kB)\n",
            "\u001b[K     |████████████████████████████████| 62 kB 1.7 MB/s \n",
            "\u001b[?25hCollecting overrides<4.0.0,>=3.0.0\n",
            "  Downloading overrides-3.1.0.tar.gz (11 kB)\n",
            "Collecting importlib-metadata<4.0.0,>=3.7.0\n",
            "  Downloading importlib_metadata-3.10.1-py3-none-any.whl (14 kB)\n",
            "Requirement already satisfied: typing-extensions>=3.6.4 in /usr/local/lib/python3.7/dist-packages (from importlib-metadata<4.0.0,>=3.7.0->konoha<5.0.0,>=4.0.0->flair) (4.1.1)\n",
            "Requirement already satisfied: zipp>=0.5 in /usr/local/lib/python3.7/dist-packages (from importlib-metadata<4.0.0,>=3.7.0->konoha<5.0.0,>=4.0.0->flair) (3.8.0)\n",
            "Requirement already satisfied: cycler>=0.10 in /usr/local/lib/python3.7/dist-packages (from matplotlib>=2.2.3->flair) (0.11.0)\n",
            "Requirement already satisfied: pyparsing!=2.0.4,!=2.1.2,!=2.1.6,>=2.0.1 in /usr/local/lib/python3.7/dist-packages (from matplotlib>=2.2.3->flair) (3.0.9)\n",
            "Requirement already satisfied: kiwisolver>=1.0.1 in /usr/local/lib/python3.7/dist-packages (from matplotlib>=2.2.3->flair) (1.4.3)\n",
            "Requirement already satisfied: idna<4,>=2.5 in /usr/local/lib/python3.7/dist-packages (from requests->bpemb>=0.3.2->flair) (2.10)\n",
            "Requirement already satisfied: urllib3<1.27,>=1.21.1 in /usr/local/lib/python3.7/dist-packages (from requests->bpemb>=0.3.2->flair) (1.24.3)\n",
            "Requirement already satisfied: certifi>=2017.4.17 in /usr/local/lib/python3.7/dist-packages (from requests->bpemb>=0.3.2->flair) (2022.6.15)\n",
            "Requirement already satisfied: charset-normalizer<3,>=2 in /usr/local/lib/python3.7/dist-packages (from requests->bpemb>=0.3.2->flair) (2.1.0)\n",
            "Requirement already satisfied: threadpoolctl>=2.0.0 in /usr/local/lib/python3.7/dist-packages (from scikit-learn>=0.21.3->flair) (3.1.0)\n",
            "Requirement already satisfied: joblib>=0.11 in /usr/local/lib/python3.7/dist-packages (from scikit-learn>=0.21.3->flair) (1.1.0)\n",
            "Collecting tokenizers!=0.11.3,<0.13,>=0.11.1\n",
            "  Downloading tokenizers-0.12.1-cp37-cp37m-manylinux_2_12_x86_64.manylinux2010_x86_64.whl (6.6 MB)\n",
            "\u001b[K     |████████████████████████████████| 6.6 MB 37.9 MB/s \n",
            "\u001b[?25hRequirement already satisfied: packaging>=20.0 in /usr/local/lib/python3.7/dist-packages (from transformers>=4.0.0->flair) (21.3)\n",
            "Collecting pyyaml>=5.1\n",
            "  Downloading PyYAML-6.0-cp37-cp37m-manylinux_2_5_x86_64.manylinux1_x86_64.manylinux_2_12_x86_64.manylinux2010_x86_64.whl (596 kB)\n",
            "\u001b[K     |████████████████████████████████| 596 kB 66.0 MB/s \n",
            "\u001b[?25hRequirement already satisfied: wcwidth>=0.2.5 in /usr/local/lib/python3.7/dist-packages (from ftfy->flair) (0.2.5)\n",
            "Requirement already satisfied: PySocks!=1.5.7,>=1.5.6 in /usr/local/lib/python3.7/dist-packages (from requests->bpemb>=0.3.2->flair) (1.7.1)\n",
            "Building wheels for collected packages: mpld3, overrides, sqlitedict, langdetect, pptree, wikipedia-api\n",
            "  Building wheel for mpld3 (setup.py) ... \u001b[?25l\u001b[?25hdone\n",
            "  Created wheel for mpld3: filename=mpld3-0.3-py3-none-any.whl size=116702 sha256=f49cdf20e8f178a0cd92081083b1fa1219a00762d8f62ce1416fae34c259205b\n",
            "  Stored in directory: /root/.cache/pip/wheels/26/70/6a/1c79e59951a41b4045497da187b2724f5659ca64033cf4548e\n",
            "  Building wheel for overrides (setup.py) ... \u001b[?25l\u001b[?25hdone\n",
            "  Created wheel for overrides: filename=overrides-3.1.0-py3-none-any.whl size=10187 sha256=20942bebe668c74718416d98431182f0730ec7fd1d8550951c637daaaf1c70f1\n",
            "  Stored in directory: /root/.cache/pip/wheels/3a/0d/38/01a9bc6e20dcfaf0a6a7b552d03137558ba1c38aea47644682\n",
            "  Building wheel for sqlitedict (setup.py) ... \u001b[?25l\u001b[?25hdone\n",
            "  Created wheel for sqlitedict: filename=sqlitedict-2.0.0-py3-none-any.whl size=15736 sha256=1392c81a71445483b8029ee6c29ba3af2d79f3e787c28f5d00f3d397b69fe6fc\n",
            "  Stored in directory: /root/.cache/pip/wheels/96/dd/2e/0ed4a25cb73fc30c7ea8d10b50acb7226175736067e40a7ea3\n",
            "  Building wheel for langdetect (setup.py) ... \u001b[?25l\u001b[?25hdone\n",
            "  Created wheel for langdetect: filename=langdetect-1.0.9-py3-none-any.whl size=993242 sha256=2d6aad25b12d16557fd4294f3c0a17be6b183e4959b99392a8d09c82de03e113\n",
            "  Stored in directory: /root/.cache/pip/wheels/c5/96/8a/f90c59ed25d75e50a8c10a1b1c2d4c402e4dacfa87f3aff36a\n",
            "  Building wheel for pptree (setup.py) ... \u001b[?25l\u001b[?25hdone\n",
            "  Created wheel for pptree: filename=pptree-3.1-py3-none-any.whl size=4629 sha256=fa51ded382b63c9682fd6e85786363be936b2f875c907e829c6681cf12c10990\n",
            "  Stored in directory: /root/.cache/pip/wheels/9e/e8/7d/a9c3c19b4722608a0d8b05a38c36bc3f230c43becd2a46794b\n",
            "  Building wheel for wikipedia-api (setup.py) ... \u001b[?25l\u001b[?25hdone\n",
            "  Created wheel for wikipedia-api: filename=Wikipedia_API-0.5.4-py3-none-any.whl size=13477 sha256=6382fb0cc2ce09ce832b34fc0371be9936f4b934360c2381ecd200b6f1e95a77\n",
            "  Stored in directory: /root/.cache/pip/wheels/d3/24/56/58ba93cf78be162451144e7a9889603f437976ef1ae7013d04\n",
            "Successfully built mpld3 overrides sqlitedict langdetect pptree wikipedia-api\n",
            "Installing collected packages: requests, pyyaml, importlib-metadata, tokenizers, sentencepiece, py4j, overrides, huggingface-hub, wikipedia-api, transformers, sqlitedict, segtok, pptree, mpld3, langdetect, konoha, janome, hyperopt, ftfy, deprecated, conllu, bpemb, flair\n",
            "  Attempting uninstall: requests\n",
            "    Found existing installation: requests 2.23.0\n",
            "    Uninstalling requests-2.23.0:\n",
            "      Successfully uninstalled requests-2.23.0\n",
            "  Attempting uninstall: pyyaml\n",
            "    Found existing installation: PyYAML 3.13\n",
            "    Uninstalling PyYAML-3.13:\n",
            "      Successfully uninstalled PyYAML-3.13\n",
            "  Attempting uninstall: importlib-metadata\n",
            "    Found existing installation: importlib-metadata 4.11.4\n",
            "    Uninstalling importlib-metadata-4.11.4:\n",
            "      Successfully uninstalled importlib-metadata-4.11.4\n",
            "  Attempting uninstall: hyperopt\n",
            "    Found existing installation: hyperopt 0.1.2\n",
            "    Uninstalling hyperopt-0.1.2:\n",
            "      Successfully uninstalled hyperopt-0.1.2\n",
            "\u001b[31mERROR: pip's dependency resolver does not currently take into account all the packages that are installed. This behaviour is the source of the following dependency conflicts.\n",
            "markdown 3.3.7 requires importlib-metadata>=4.4; python_version < \"3.10\", but you have importlib-metadata 3.10.1 which is incompatible.\n",
            "google-colab 1.0.0 requires requests~=2.23.0, but you have requests 2.28.1 which is incompatible.\n",
            "datascience 0.10.6 requires folium==0.2.1, but you have folium 0.8.3 which is incompatible.\u001b[0m\n",
            "Successfully installed bpemb-0.3.3 conllu-4.4.2 deprecated-1.2.13 flair-0.11.3 ftfy-6.1.1 huggingface-hub-0.8.1 hyperopt-0.2.7 importlib-metadata-3.10.1 janome-0.4.2 konoha-4.6.5 langdetect-1.0.9 mpld3-0.3 overrides-3.1.0 pptree-3.1 py4j-0.10.9.5 pyyaml-6.0 requests-2.28.1 segtok-1.5.11 sentencepiece-0.1.95 sqlitedict-2.0.0 tokenizers-0.12.1 transformers-4.20.1 wikipedia-api-0.5.4\n",
            "Looking in indexes: https://pypi.org/simple, https://us-python.pkg.dev/colab-wheels/public/simple/\n",
            "Collecting fairseq\n",
            "  Downloading fairseq-0.12.2-cp37-cp37m-manylinux_2_5_x86_64.manylinux1_x86_64.whl (11.0 MB)\n",
            "\u001b[K     |████████████████████████████████| 11.0 MB 3.4 MB/s \n",
            "\u001b[?25hRequirement already satisfied: numpy in /usr/local/lib/python3.7/dist-packages (from fairseq) (1.21.6)\n",
            "Requirement already satisfied: cffi in /usr/local/lib/python3.7/dist-packages (from fairseq) (1.15.0)\n",
            "Collecting sacrebleu>=1.4.12\n",
            "  Downloading sacrebleu-2.1.0-py3-none-any.whl (92 kB)\n",
            "\u001b[K     |████████████████████████████████| 92 kB 11.5 MB/s \n",
            "\u001b[?25hRequirement already satisfied: regex in /usr/local/lib/python3.7/dist-packages (from fairseq) (2022.6.2)\n",
            "Requirement already satisfied: tqdm in /usr/local/lib/python3.7/dist-packages (from fairseq) (4.64.0)\n",
            "Collecting hydra-core<1.1,>=1.0.7\n",
            "  Downloading hydra_core-1.0.7-py3-none-any.whl (123 kB)\n",
            "\u001b[K     |████████████████████████████████| 123 kB 78.2 MB/s \n",
            "\u001b[?25hRequirement already satisfied: torch in /usr/local/lib/python3.7/dist-packages (from fairseq) (1.11.0+cu113)\n",
            "Collecting omegaconf<2.1\n",
            "  Downloading omegaconf-2.0.6-py3-none-any.whl (36 kB)\n",
            "Requirement already satisfied: torchaudio>=0.8.0 in /usr/local/lib/python3.7/dist-packages (from fairseq) (0.11.0+cu113)\n",
            "Requirement already satisfied: cython in /usr/local/lib/python3.7/dist-packages (from fairseq) (0.29.30)\n",
            "Collecting bitarray\n",
            "  Downloading bitarray-2.5.1-cp37-cp37m-manylinux_2_17_x86_64.manylinux2014_x86_64.whl (236 kB)\n",
            "\u001b[K     |████████████████████████████████| 236 kB 47.2 MB/s \n",
            "\u001b[?25hRequirement already satisfied: importlib-resources in /usr/local/lib/python3.7/dist-packages (from hydra-core<1.1,>=1.0.7->fairseq) (5.7.1)\n",
            "Collecting antlr4-python3-runtime==4.8\n",
            "  Downloading antlr4-python3-runtime-4.8.tar.gz (112 kB)\n",
            "\u001b[K     |████████████████████████████████| 112 kB 89.9 MB/s \n",
            "\u001b[?25hRequirement already satisfied: typing-extensions in /usr/local/lib/python3.7/dist-packages (from omegaconf<2.1->fairseq) (4.1.1)\n",
            "Requirement already satisfied: PyYAML>=5.1.* in /usr/local/lib/python3.7/dist-packages (from omegaconf<2.1->fairseq) (6.0)\n",
            "Collecting colorama\n",
            "  Downloading colorama-0.4.5-py2.py3-none-any.whl (16 kB)\n",
            "Collecting portalocker\n",
            "  Downloading portalocker-2.5.1-py2.py3-none-any.whl (15 kB)\n",
            "Requirement already satisfied: tabulate>=0.8.9 in /usr/local/lib/python3.7/dist-packages (from sacrebleu>=1.4.12->fairseq) (0.8.9)\n",
            "Requirement already satisfied: pycparser in /usr/local/lib/python3.7/dist-packages (from cffi->fairseq) (2.21)\n",
            "Requirement already satisfied: zipp>=3.1.0 in /usr/local/lib/python3.7/dist-packages (from importlib-resources->hydra-core<1.1,>=1.0.7->fairseq) (3.8.0)\n",
            "Building wheels for collected packages: antlr4-python3-runtime\n",
            "  Building wheel for antlr4-python3-runtime (setup.py) ... \u001b[?25l\u001b[?25hdone\n",
            "  Created wheel for antlr4-python3-runtime: filename=antlr4_python3_runtime-4.8-py3-none-any.whl size=141230 sha256=fa3ff8511021c3f9fb1fc587fbd6dbdae9c93e7382e59e91e57485240ad03269\n",
            "  Stored in directory: /root/.cache/pip/wheels/ca/33/b7/336836125fc9bb4ceaa4376d8abca10ca8bc84ddc824baea6c\n",
            "Successfully built antlr4-python3-runtime\n",
            "Installing collected packages: portalocker, omegaconf, colorama, antlr4-python3-runtime, sacrebleu, hydra-core, bitarray, fairseq\n",
            "Successfully installed antlr4-python3-runtime-4.8 bitarray-2.5.1 colorama-0.4.5 fairseq-0.12.2 hydra-core-1.0.7 omegaconf-2.0.6 portalocker-2.5.1 sacrebleu-2.1.0\n",
            "Looking in indexes: https://pypi.org/simple, https://us-python.pkg.dev/colab-wheels/public/simple/\n",
            "Collecting pythainlp\n",
            "  Downloading pythainlp-3.0.8-py3-none-any.whl (11.5 MB)\n",
            "\u001b[K     |████████████████████████████████| 11.5 MB 4.6 MB/s \n",
            "\u001b[?25hCollecting tinydb>=3.0\n",
            "  Downloading tinydb-4.7.0-py3-none-any.whl (24 kB)\n",
            "Requirement already satisfied: requests>=2.22.0 in /usr/local/lib/python3.7/dist-packages (from pythainlp) (2.28.1)\n",
            "Requirement already satisfied: charset-normalizer<3,>=2 in /usr/local/lib/python3.7/dist-packages (from requests>=2.22.0->pythainlp) (2.1.0)\n",
            "Requirement already satisfied: certifi>=2017.4.17 in /usr/local/lib/python3.7/dist-packages (from requests>=2.22.0->pythainlp) (2022.6.15)\n",
            "Requirement already satisfied: urllib3<1.27,>=1.21.1 in /usr/local/lib/python3.7/dist-packages (from requests>=2.22.0->pythainlp) (1.24.3)\n",
            "Requirement already satisfied: idna<4,>=2.5 in /usr/local/lib/python3.7/dist-packages (from requests>=2.22.0->pythainlp) (2.10)\n",
            "Requirement already satisfied: typing-extensions<5.0.0,>=3.10.0 in /usr/local/lib/python3.7/dist-packages (from tinydb>=3.0->pythainlp) (4.1.1)\n",
            "Installing collected packages: tinydb, pythainlp\n",
            "Successfully installed pythainlp-3.0.8 tinydb-4.7.0\n",
            "Looking in indexes: https://pypi.org/simple, https://us-python.pkg.dev/colab-wheels/public/simple/\n",
            "Requirement already satisfied: transformers in /usr/local/lib/python3.7/dist-packages (4.20.1)\n",
            "Requirement already satisfied: regex!=2019.12.17 in /usr/local/lib/python3.7/dist-packages (from transformers) (2022.6.2)\n",
            "Requirement already satisfied: huggingface-hub<1.0,>=0.1.0 in /usr/local/lib/python3.7/dist-packages (from transformers) (0.8.1)\n",
            "Requirement already satisfied: packaging>=20.0 in /usr/local/lib/python3.7/dist-packages (from transformers) (21.3)\n",
            "Requirement already satisfied: requests in /usr/local/lib/python3.7/dist-packages (from transformers) (2.28.1)\n",
            "Requirement already satisfied: tqdm>=4.27 in /usr/local/lib/python3.7/dist-packages (from transformers) (4.64.0)\n",
            "Requirement already satisfied: filelock in /usr/local/lib/python3.7/dist-packages (from transformers) (3.7.1)\n",
            "Requirement already satisfied: pyyaml>=5.1 in /usr/local/lib/python3.7/dist-packages (from transformers) (6.0)\n",
            "Requirement already satisfied: numpy>=1.17 in /usr/local/lib/python3.7/dist-packages (from transformers) (1.21.6)\n",
            "Requirement already satisfied: importlib-metadata in /usr/local/lib/python3.7/dist-packages (from transformers) (3.10.1)\n",
            "Requirement already satisfied: tokenizers!=0.11.3,<0.13,>=0.11.1 in /usr/local/lib/python3.7/dist-packages (from transformers) (0.12.1)\n",
            "Requirement already satisfied: typing-extensions>=3.7.4.3 in /usr/local/lib/python3.7/dist-packages (from huggingface-hub<1.0,>=0.1.0->transformers) (4.1.1)\n",
            "Requirement already satisfied: pyparsing!=3.0.5,>=2.0.2 in /usr/local/lib/python3.7/dist-packages (from packaging>=20.0->transformers) (3.0.9)\n",
            "Requirement already satisfied: zipp>=0.5 in /usr/local/lib/python3.7/dist-packages (from importlib-metadata->transformers) (3.8.0)\n",
            "Requirement already satisfied: idna<4,>=2.5 in /usr/local/lib/python3.7/dist-packages (from requests->transformers) (2.10)\n",
            "Requirement already satisfied: urllib3<1.27,>=1.21.1 in /usr/local/lib/python3.7/dist-packages (from requests->transformers) (1.24.3)\n",
            "Requirement already satisfied: certifi>=2017.4.17 in /usr/local/lib/python3.7/dist-packages (from requests->transformers) (2022.6.15)\n",
            "Requirement already satisfied: charset-normalizer<3,>=2 in /usr/local/lib/python3.7/dist-packages (from requests->transformers) (2.1.0)\n",
            "Looking in indexes: https://pypi.org/simple, https://us-python.pkg.dev/colab-wheels/public/simple/\n",
            "Collecting sacremoses\n",
            "  Downloading sacremoses-0.0.53.tar.gz (880 kB)\n",
            "\u001b[K     |████████████████████████████████| 880 kB 5.1 MB/s \n",
            "\u001b[?25hRequirement already satisfied: sentencepiece in /usr/local/lib/python3.7/dist-packages (0.1.95)\n",
            "Requirement already satisfied: regex in /usr/local/lib/python3.7/dist-packages (from sacremoses) (2022.6.2)\n",
            "Requirement already satisfied: six in /usr/local/lib/python3.7/dist-packages (from sacremoses) (1.15.0)\n",
            "Requirement already satisfied: click in /usr/local/lib/python3.7/dist-packages (from sacremoses) (7.1.2)\n",
            "Requirement already satisfied: joblib in /usr/local/lib/python3.7/dist-packages (from sacremoses) (1.1.0)\n",
            "Requirement already satisfied: tqdm in /usr/local/lib/python3.7/dist-packages (from sacremoses) (4.64.0)\n",
            "Building wheels for collected packages: sacremoses\n",
            "  Building wheel for sacremoses (setup.py) ... \u001b[?25l\u001b[?25hdone\n",
            "  Created wheel for sacremoses: filename=sacremoses-0.0.53-py3-none-any.whl size=895260 sha256=82803dc37d89cb9c2f9660443e3bd5d1d1c9b314b5710c7623cb04371ea648c2\n",
            "  Stored in directory: /root/.cache/pip/wheels/87/39/dd/a83eeef36d0bf98e7a4d1933a4ad2d660295a40613079bafc9\n",
            "Successfully built sacremoses\n",
            "Installing collected packages: sacremoses\n",
            "Successfully installed sacremoses-0.0.53\n"
          ]
        }
      ],
      "source": [
        "#download data\n",
        "#raw\n",
        "!gdown --id 1-avUDygRCGvAiPplmc6MundS_PpnohRv \n",
        "!gdown --id 106OVRPIQQBppganRnCZigxQh6-Zyvqit\n",
        "#raw with translated\n",
        "!gdown --id 1hdmLmyVp_-MOmHBKWs4OukuxoyUFxW8X\n",
        "!gdown --id 1Cq3FttnnzZa-RK7vlu94bJTRj8YD6vA5\n",
        "\n",
        "!pip install flair \n",
        "!pip install fairseq\n",
        "!pip install pythainlp\n",
        "!pip install transformers\n",
        "!pip install sacremoses sentencepiece"
      ]
    },
    {
      "cell_type": "code",
      "source": [
        "#libraby \n",
        "import numpy as np\n",
        "import pandas as pd\n",
        "import seaborn as sns\n",
        "import matplotlib.pyplot as plt\n",
        "\n",
        "import string\n",
        "import os, os.path\n",
        "import pandas as pd\n",
        "import seaborn as sns\n",
        "\n",
        "import nltk\n",
        "nltk.download('stopwords')\n",
        "from nltk.corpus import stopwords\n",
        "\n",
        "from string import punctuation\n",
        "from os import listdir\n",
        "from collections import Counter\n",
        "from nltk.corpus import stopwords\n",
        "\n",
        "from keras.preprocessing.text import Tokenizer\n",
        "from keras_preprocessing.sequence import pad_sequences\n",
        "\n",
        "from keras.layers import Dense\n",
        "from keras.layers import Flatten\n",
        "from keras.layers import Embedding\n",
        "from keras.models import Sequential\n",
        "from keras.utils.vis_utils import plot_model\n",
        "from keras.layers.convolutional import Conv1D\n",
        "from keras.layers.convolutional import MaxPooling1D"
      ],
      "metadata": {
        "id": "cgMb7j8pbNQj",
        "colab": {
          "base_uri": "https://localhost:8080/"
        },
        "outputId": "92b782d1-1a98-4a43-a4f6-8b258022e8ba"
      },
      "execution_count": 2,
      "outputs": [
        {
          "output_type": "stream",
          "name": "stderr",
          "text": [
            "[nltk_data] Downloading package stopwords to /root/nltk_data...\n",
            "[nltk_data]   Unzipping corpora/stopwords.zip.\n"
          ]
        }
      ]
    },
    {
      "cell_type": "code",
      "source": [
        "train = pd.read_csv('/content/train_translated banking data.csv')\n",
        "test = pd.read_csv('/content/test_translated banking data.csv')"
      ],
      "metadata": {
        "id": "ITJldeRSbbc6"
      },
      "execution_count": 3,
      "outputs": []
    },
    {
      "cell_type": "code",
      "source": [
        "train.head(5)"
      ],
      "metadata": {
        "colab": {
          "base_uri": "https://localhost:8080/",
          "height": 582
        },
        "id": "sMuRAAX0b2mv",
        "outputId": "81282069-df30-473a-f474-ed8330289ed1"
      },
      "execution_count": 4,
      "outputs": [
        {
          "output_type": "execute_result",
          "data": {
            "text/plain": [
              "   Unnamed: 0  Unnamed: 0.1  \\\n",
              "0           0             0   \n",
              "1           1             1   \n",
              "2           2             2   \n",
              "3           3             3   \n",
              "4           4             4   \n",
              "\n",
              "                                        TagFile_Path  \\\n",
              "0  SocialFSI_ZE-KTB-Feb-Apr2022_Sampling2244_2022...   \n",
              "1  SocialFSI_v4_0_mutiple_train_sampling8203_2021...   \n",
              "2  SocialFSI_ZE-KTB-Feb-Apr2022_Sampling2244_2022...   \n",
              "3  SocialFSI_v4_0_mutiple_train_sampling8203_2021...   \n",
              "4  SocialFSI_v4_0_mutiple_train_sampling8203_2021...   \n",
              "\n",
              "                                             TagFile SV_CustomerName  \\\n",
              "0  SocialFSI_ZE-KTB-Feb-Apr2022_Sampling1400_2022...  Krungthai_NEXT   \n",
              "1  SocialFSI_TrainDataV4_RetagCLS-12_Sampling53_P...             NaN   \n",
              "2  SocialFSI_ZE-KTB-Feb-Apr2022_Sampling1200_2022...  Krungthai_NEXT   \n",
              "3  SocialFSI_TrainSCB-SocialFilterV2_Sampling2750...             NaN   \n",
              "4  SocialFSI_TrainSCB-SocialFilterV2_Sampling2750...             NaN   \n",
              "\n",
              "                                        Main keyword      Channel SubChannel  \\\n",
              "0  mobile banking+กสิกร,mobile banking+ธนาคารกสิก...  SocialMedia      forum   \n",
              "1                                                NaN  SocialMedia    Twitter   \n",
              "2                                          krungthai  SocialMedia   facebook   \n",
              "3                                                NaN  SocialMedia    Twitter   \n",
              "4                                                NaN  SocialMedia    Twitter   \n",
              "\n",
              "                                 lfdn   verbatim_id     sentence_id  \\\n",
              "0           pantip.com_topic_41249919    Q2207_1549    Q2207_1549_1   \n",
              "1            5fffc6bcb08b583a24679d59  Q202106_5805  Q202106_5805_1   \n",
              "2  10161808181448916_1330115550790924     Q2207_636     Q2207_636_1   \n",
              "3                            27634345   Q202106_961   Q202106_961_1   \n",
              "4                            28297653  Q202106_2021  Q202106_2021_1   \n",
              "\n",
              "                                       Text_original  \\\n",
              "0  สอบถามเรื่องการอายัดบัตรเดบิตของกสิกรค่ะ พอดีว...   \n",
              "1  ปกติจะไม่ชอบlog in ใดๆในคอมคนอื่นหรือสำนักงานใ...   \n",
              "2  Krungthai Care ณ. ตอนนี้ยอดก็ยังไม่เข้าค่ะ ถ้า...   \n",
              "3  @scb_thailand เรียน scb ขอเบอร?ตืดต่อเพราะคุย ...   \n",
              "4  ไอเลิ้บ TMB All Free มาก แต่ช่วยพัฒนาแอพให้สเถ...   \n",
              "\n",
              "                                                Text  \\\n",
              "0  สอบถามเรื่องการอายัดบัตรเดบิตของกสิกรค่ะ พอดีว...   \n",
              "1  ปกติจะไม่ชอบlog in ใดๆในคอมคนอื่นหรือสำนักงานใ...   \n",
              "2  Krungthai Care ณ. ตอนนี้ยอดก็ยังไม่เข้าค่ะ ถ้า...   \n",
              "3  @scb_thailand เรียน scb ขอเบอร?ตืดต่อเพราะคุย ...   \n",
              "4                          ไอเลิ้บ TMB All Free มาก    \n",
              "\n",
              "                             Human_Category  Human_CategoryID Human_Sentiment  \\\n",
              "0  Product and Service, Usage and Condition                 8         neutral   \n",
              "1                                  Security                12         neutral   \n",
              "2               Product and Service, System                 7        negative   \n",
              "3                             Staff Quality                 4        negative   \n",
              "4  Product and Service, Usage and Condition                 8        positive   \n",
              "\n",
              "  Human_SentimentID                                      Text_ws_local  \\\n",
              "0                 o  สอบถาม|เรื่อง|การ|อายัด|บัตรเดบิต|ของ|kbank|ค่...   \n",
              "1                 o  ปกติ|จะ|ไม่ชอบ| |log| |in| |ใดๆ| |ใน|ค|อม|คนอื...   \n",
              "2                 n  ktb| |care| |ณ|.| |ตอนนี้|ยอด|ก็|ยัง|ไม่|เข้า|...   \n",
              "3                 n  scb_thailand| |เรียน| |scb| |ขอ|เบอร| |ตืด|ต่อ...   \n",
              "4                 p                    ไอ|เลิ้บ| |tmb_all_free| |มาก|    \n",
              "\n",
              "                                          translated  \n",
              "0  I've been asking about the debit card holders....  \n",
              "1  Usually don't like logins on any other compute...  \n",
              "2  Krungthai Care as of right now, it's not the t...  \n",
              "3                         @scb_thailand studied scb.  \n",
              "4  Ib TMB All Free. But it helps to improve apps....  "
            ],
            "text/html": [
              "\n",
              "  <div id=\"df-a91184ae-7391-49c5-ae1e-badcb0c7bd11\">\n",
              "    <div class=\"colab-df-container\">\n",
              "      <div>\n",
              "<style scoped>\n",
              "    .dataframe tbody tr th:only-of-type {\n",
              "        vertical-align: middle;\n",
              "    }\n",
              "\n",
              "    .dataframe tbody tr th {\n",
              "        vertical-align: top;\n",
              "    }\n",
              "\n",
              "    .dataframe thead th {\n",
              "        text-align: right;\n",
              "    }\n",
              "</style>\n",
              "<table border=\"1\" class=\"dataframe\">\n",
              "  <thead>\n",
              "    <tr style=\"text-align: right;\">\n",
              "      <th></th>\n",
              "      <th>Unnamed: 0</th>\n",
              "      <th>Unnamed: 0.1</th>\n",
              "      <th>TagFile_Path</th>\n",
              "      <th>TagFile</th>\n",
              "      <th>SV_CustomerName</th>\n",
              "      <th>Main keyword</th>\n",
              "      <th>Channel</th>\n",
              "      <th>SubChannel</th>\n",
              "      <th>lfdn</th>\n",
              "      <th>verbatim_id</th>\n",
              "      <th>sentence_id</th>\n",
              "      <th>Text_original</th>\n",
              "      <th>Text</th>\n",
              "      <th>Human_Category</th>\n",
              "      <th>Human_CategoryID</th>\n",
              "      <th>Human_Sentiment</th>\n",
              "      <th>Human_SentimentID</th>\n",
              "      <th>Text_ws_local</th>\n",
              "      <th>translated</th>\n",
              "    </tr>\n",
              "  </thead>\n",
              "  <tbody>\n",
              "    <tr>\n",
              "      <th>0</th>\n",
              "      <td>0</td>\n",
              "      <td>0</td>\n",
              "      <td>SocialFSI_ZE-KTB-Feb-Apr2022_Sampling2244_2022...</td>\n",
              "      <td>SocialFSI_ZE-KTB-Feb-Apr2022_Sampling1400_2022...</td>\n",
              "      <td>Krungthai_NEXT</td>\n",
              "      <td>mobile banking+กสิกร,mobile banking+ธนาคารกสิก...</td>\n",
              "      <td>SocialMedia</td>\n",
              "      <td>forum</td>\n",
              "      <td>pantip.com_topic_41249919</td>\n",
              "      <td>Q2207_1549</td>\n",
              "      <td>Q2207_1549_1</td>\n",
              "      <td>สอบถามเรื่องการอายัดบัตรเดบิตของกสิกรค่ะ พอดีว...</td>\n",
              "      <td>สอบถามเรื่องการอายัดบัตรเดบิตของกสิกรค่ะ พอดีว...</td>\n",
              "      <td>Product and Service, Usage and Condition</td>\n",
              "      <td>8</td>\n",
              "      <td>neutral</td>\n",
              "      <td>o</td>\n",
              "      <td>สอบถาม|เรื่อง|การ|อายัด|บัตรเดบิต|ของ|kbank|ค่...</td>\n",
              "      <td>I've been asking about the debit card holders....</td>\n",
              "    </tr>\n",
              "    <tr>\n",
              "      <th>1</th>\n",
              "      <td>1</td>\n",
              "      <td>1</td>\n",
              "      <td>SocialFSI_v4_0_mutiple_train_sampling8203_2021...</td>\n",
              "      <td>SocialFSI_TrainDataV4_RetagCLS-12_Sampling53_P...</td>\n",
              "      <td>NaN</td>\n",
              "      <td>NaN</td>\n",
              "      <td>SocialMedia</td>\n",
              "      <td>Twitter</td>\n",
              "      <td>5fffc6bcb08b583a24679d59</td>\n",
              "      <td>Q202106_5805</td>\n",
              "      <td>Q202106_5805_1</td>\n",
              "      <td>ปกติจะไม่ชอบlog in ใดๆในคอมคนอื่นหรือสำนักงานใ...</td>\n",
              "      <td>ปกติจะไม่ชอบlog in ใดๆในคอมคนอื่นหรือสำนักงานใ...</td>\n",
              "      <td>Security</td>\n",
              "      <td>12</td>\n",
              "      <td>neutral</td>\n",
              "      <td>o</td>\n",
              "      <td>ปกติ|จะ|ไม่ชอบ| |log| |in| |ใดๆ| |ใน|ค|อม|คนอื...</td>\n",
              "      <td>Usually don't like logins on any other compute...</td>\n",
              "    </tr>\n",
              "    <tr>\n",
              "      <th>2</th>\n",
              "      <td>2</td>\n",
              "      <td>2</td>\n",
              "      <td>SocialFSI_ZE-KTB-Feb-Apr2022_Sampling2244_2022...</td>\n",
              "      <td>SocialFSI_ZE-KTB-Feb-Apr2022_Sampling1200_2022...</td>\n",
              "      <td>Krungthai_NEXT</td>\n",
              "      <td>krungthai</td>\n",
              "      <td>SocialMedia</td>\n",
              "      <td>facebook</td>\n",
              "      <td>10161808181448916_1330115550790924</td>\n",
              "      <td>Q2207_636</td>\n",
              "      <td>Q2207_636_1</td>\n",
              "      <td>Krungthai Care ณ. ตอนนี้ยอดก็ยังไม่เข้าค่ะ ถ้า...</td>\n",
              "      <td>Krungthai Care ณ. ตอนนี้ยอดก็ยังไม่เข้าค่ะ ถ้า...</td>\n",
              "      <td>Product and Service, System</td>\n",
              "      <td>7</td>\n",
              "      <td>negative</td>\n",
              "      <td>n</td>\n",
              "      <td>ktb| |care| |ณ|.| |ตอนนี้|ยอด|ก็|ยัง|ไม่|เข้า|...</td>\n",
              "      <td>Krungthai Care as of right now, it's not the t...</td>\n",
              "    </tr>\n",
              "    <tr>\n",
              "      <th>3</th>\n",
              "      <td>3</td>\n",
              "      <td>3</td>\n",
              "      <td>SocialFSI_v4_0_mutiple_train_sampling8203_2021...</td>\n",
              "      <td>SocialFSI_TrainSCB-SocialFilterV2_Sampling2750...</td>\n",
              "      <td>NaN</td>\n",
              "      <td>NaN</td>\n",
              "      <td>SocialMedia</td>\n",
              "      <td>Twitter</td>\n",
              "      <td>27634345</td>\n",
              "      <td>Q202106_961</td>\n",
              "      <td>Q202106_961_1</td>\n",
              "      <td>@scb_thailand เรียน scb ขอเบอร?ตืดต่อเพราะคุย ...</td>\n",
              "      <td>@scb_thailand เรียน scb ขอเบอร?ตืดต่อเพราะคุย ...</td>\n",
              "      <td>Staff Quality</td>\n",
              "      <td>4</td>\n",
              "      <td>negative</td>\n",
              "      <td>n</td>\n",
              "      <td>scb_thailand| |เรียน| |scb| |ขอ|เบอร| |ตืด|ต่อ...</td>\n",
              "      <td>@scb_thailand studied scb.</td>\n",
              "    </tr>\n",
              "    <tr>\n",
              "      <th>4</th>\n",
              "      <td>4</td>\n",
              "      <td>4</td>\n",
              "      <td>SocialFSI_v4_0_mutiple_train_sampling8203_2021...</td>\n",
              "      <td>SocialFSI_TrainSCB-SocialFilterV2_Sampling2750...</td>\n",
              "      <td>NaN</td>\n",
              "      <td>NaN</td>\n",
              "      <td>SocialMedia</td>\n",
              "      <td>Twitter</td>\n",
              "      <td>28297653</td>\n",
              "      <td>Q202106_2021</td>\n",
              "      <td>Q202106_2021_1</td>\n",
              "      <td>ไอเลิ้บ TMB All Free มาก แต่ช่วยพัฒนาแอพให้สเถ...</td>\n",
              "      <td>ไอเลิ้บ TMB All Free มาก</td>\n",
              "      <td>Product and Service, Usage and Condition</td>\n",
              "      <td>8</td>\n",
              "      <td>positive</td>\n",
              "      <td>p</td>\n",
              "      <td>ไอ|เลิ้บ| |tmb_all_free| |มาก|</td>\n",
              "      <td>Ib TMB All Free. But it helps to improve apps....</td>\n",
              "    </tr>\n",
              "  </tbody>\n",
              "</table>\n",
              "</div>\n",
              "      <button class=\"colab-df-convert\" onclick=\"convertToInteractive('df-a91184ae-7391-49c5-ae1e-badcb0c7bd11')\"\n",
              "              title=\"Convert this dataframe to an interactive table.\"\n",
              "              style=\"display:none;\">\n",
              "        \n",
              "  <svg xmlns=\"http://www.w3.org/2000/svg\" height=\"24px\"viewBox=\"0 0 24 24\"\n",
              "       width=\"24px\">\n",
              "    <path d=\"M0 0h24v24H0V0z\" fill=\"none\"/>\n",
              "    <path d=\"M18.56 5.44l.94 2.06.94-2.06 2.06-.94-2.06-.94-.94-2.06-.94 2.06-2.06.94zm-11 1L8.5 8.5l.94-2.06 2.06-.94-2.06-.94L8.5 2.5l-.94 2.06-2.06.94zm10 10l.94 2.06.94-2.06 2.06-.94-2.06-.94-.94-2.06-.94 2.06-2.06.94z\"/><path d=\"M17.41 7.96l-1.37-1.37c-.4-.4-.92-.59-1.43-.59-.52 0-1.04.2-1.43.59L10.3 9.45l-7.72 7.72c-.78.78-.78 2.05 0 2.83L4 21.41c.39.39.9.59 1.41.59.51 0 1.02-.2 1.41-.59l7.78-7.78 2.81-2.81c.8-.78.8-2.07 0-2.86zM5.41 20L4 18.59l7.72-7.72 1.47 1.35L5.41 20z\"/>\n",
              "  </svg>\n",
              "      </button>\n",
              "      \n",
              "  <style>\n",
              "    .colab-df-container {\n",
              "      display:flex;\n",
              "      flex-wrap:wrap;\n",
              "      gap: 12px;\n",
              "    }\n",
              "\n",
              "    .colab-df-convert {\n",
              "      background-color: #E8F0FE;\n",
              "      border: none;\n",
              "      border-radius: 50%;\n",
              "      cursor: pointer;\n",
              "      display: none;\n",
              "      fill: #1967D2;\n",
              "      height: 32px;\n",
              "      padding: 0 0 0 0;\n",
              "      width: 32px;\n",
              "    }\n",
              "\n",
              "    .colab-df-convert:hover {\n",
              "      background-color: #E2EBFA;\n",
              "      box-shadow: 0px 1px 2px rgba(60, 64, 67, 0.3), 0px 1px 3px 1px rgba(60, 64, 67, 0.15);\n",
              "      fill: #174EA6;\n",
              "    }\n",
              "\n",
              "    [theme=dark] .colab-df-convert {\n",
              "      background-color: #3B4455;\n",
              "      fill: #D2E3FC;\n",
              "    }\n",
              "\n",
              "    [theme=dark] .colab-df-convert:hover {\n",
              "      background-color: #434B5C;\n",
              "      box-shadow: 0px 1px 3px 1px rgba(0, 0, 0, 0.15);\n",
              "      filter: drop-shadow(0px 1px 2px rgba(0, 0, 0, 0.3));\n",
              "      fill: #FFFFFF;\n",
              "    }\n",
              "  </style>\n",
              "\n",
              "      <script>\n",
              "        const buttonEl =\n",
              "          document.querySelector('#df-a91184ae-7391-49c5-ae1e-badcb0c7bd11 button.colab-df-convert');\n",
              "        buttonEl.style.display =\n",
              "          google.colab.kernel.accessAllowed ? 'block' : 'none';\n",
              "\n",
              "        async function convertToInteractive(key) {\n",
              "          const element = document.querySelector('#df-a91184ae-7391-49c5-ae1e-badcb0c7bd11');\n",
              "          const dataTable =\n",
              "            await google.colab.kernel.invokeFunction('convertToInteractive',\n",
              "                                                     [key], {});\n",
              "          if (!dataTable) return;\n",
              "\n",
              "          const docLinkHtml = 'Like what you see? Visit the ' +\n",
              "            '<a target=\"_blank\" href=https://colab.research.google.com/notebooks/data_table.ipynb>data table notebook</a>'\n",
              "            + ' to learn more about interactive tables.';\n",
              "          element.innerHTML = '';\n",
              "          dataTable['output_type'] = 'display_data';\n",
              "          await google.colab.output.renderOutput(dataTable, element);\n",
              "          const docLink = document.createElement('div');\n",
              "          docLink.innerHTML = docLinkHtml;\n",
              "          element.appendChild(docLink);\n",
              "        }\n",
              "      </script>\n",
              "    </div>\n",
              "  </div>\n",
              "  "
            ]
          },
          "metadata": {},
          "execution_count": 4
        }
      ]
    },
    {
      "cell_type": "code",
      "source": [
        "train['Human_CategoryID'].value_counts().sort_index(ascending=True)"
      ],
      "metadata": {
        "colab": {
          "base_uri": "https://localhost:8080/"
        },
        "id": "HA6bOeakDu5L",
        "outputId": "27a26cd1-7ccc-428f-f083-c1f28289e5e6"
      },
      "execution_count": 5,
      "outputs": [
        {
          "output_type": "execute_result",
          "data": {
            "text/plain": [
              "1      185\n",
              "2       16\n",
              "3      377\n",
              "4      522\n",
              "5     1163\n",
              "6     1109\n",
              "7     3275\n",
              "8     2454\n",
              "9      153\n",
              "10     379\n",
              "11     232\n",
              "12     152\n",
              "13    2133\n",
              "Name: Human_CategoryID, dtype: int64"
            ]
          },
          "metadata": {},
          "execution_count": 5
        }
      ]
    },
    {
      "cell_type": "markdown",
      "source": [
        "#Translation"
      ],
      "metadata": {
        "id": "-Hi7_QknsJKg"
      }
    },
    {
      "cell_type": "code",
      "source": [
        "from pythainlp.translate import Translate\n",
        "th2en = Translate('th', 'en')"
      ],
      "metadata": {
        "id": "N29J9c5W6UcK"
      },
      "execution_count": null,
      "outputs": []
    },
    {
      "cell_type": "code",
      "source": [
        "#processing for 4 hours\n",
        "train['translated'] = train['Text_original'].apply(lambda x: th2en.translate(x))"
      ],
      "metadata": {
        "id": "o77MiHOf68qS"
      },
      "execution_count": null,
      "outputs": []
    },
    {
      "cell_type": "code",
      "source": [
        "train.head(5)"
      ],
      "metadata": {
        "id": "5fR8T_4N8eep"
      },
      "execution_count": null,
      "outputs": []
    },
    {
      "cell_type": "code",
      "source": [
        "train.to_csv('train_translated banking data.csv')"
      ],
      "metadata": {
        "id": "QWoIaW-orWvu"
      },
      "execution_count": null,
      "outputs": []
    },
    {
      "cell_type": "code",
      "source": [
        "#processing for 4 hours\n",
        "test['translated'] = test['Text_original'].apply(lambda x: th2en.translate(x))"
      ],
      "metadata": {
        "id": "p3NK1PIzrqpl"
      },
      "execution_count": null,
      "outputs": []
    },
    {
      "cell_type": "code",
      "source": [
        "test.head(5)"
      ],
      "metadata": {
        "id": "GBR5IGl3r2SQ"
      },
      "execution_count": null,
      "outputs": []
    },
    {
      "cell_type": "code",
      "source": [
        "train.to_csv('test_translated banking data.csv')"
      ],
      "metadata": {
        "id": "QYj8i0mRr3Nh"
      },
      "execution_count": null,
      "outputs": []
    },
    {
      "cell_type": "markdown",
      "source": [
        "#Create a Vocab"
      ],
      "metadata": {
        "id": "SF_gw2udAQY3"
      }
    },
    {
      "cell_type": "code",
      "source": [
        "vocab = Counter()\n",
        "def data_to_vocab(df):\n",
        "  for verbatim in df['translated']:\n",
        "    tokens = verbatim.split()\n",
        "    table = str.maketrans(\"\",\"\",string.punctuation)\n",
        "    tokens = [w.translate(table) for w in tokens]\n",
        "    tokens = [word for word in tokens if word.isalpha()]\n",
        "    stop_words = set(stopwords.words('english'))\n",
        "    tokens = [w for w in tokens if not w in stop_words]\n",
        "    tokens = [word for word in tokens if len(word)>1]\n",
        "    tokens = [word for word in tokens if len(tokens) > 4] \n",
        "    #for EN, 1 or 4 gets similar results. 8 is better for ~ 1%.\n",
        "    vocab.update(tokens)\n",
        "\n",
        "data_to_vocab(train)\n",
        "\n",
        "print(len(vocab))\n",
        "vocab.most_common(10)"
      ],
      "metadata": {
        "id": "dbqj4fz4AhHB",
        "colab": {
          "base_uri": "https://localhost:8080/"
        },
        "outputId": "147bf506-cbb8-4664-d593-45074ba26015"
      },
      "execution_count": 6,
      "outputs": [
        {
          "output_type": "stream",
          "name": "stdout",
          "text": [
            "12205\n"
          ]
        },
        {
          "output_type": "execute_result",
          "data": {
            "text/plain": [
              "[('bank', 3867),\n",
              " ('money', 3366),\n",
              " ('card', 3103),\n",
              " ('Im', 2734),\n",
              " ('account', 2696),\n",
              " ('cant', 2170),\n",
              " ('app', 2129),\n",
              " ('The', 2129),\n",
              " ('Thailand', 2024),\n",
              " ('going', 1861)]"
            ]
          },
          "metadata": {},
          "execution_count": 6
        }
      ]
    },
    {
      "cell_type": "code",
      "source": [
        "min_occurence = 2\n",
        "tokens = [k for k, c in vocab.items() if c >= min_occurence]"
      ],
      "metadata": {
        "id": "lgt5YpKwA4OV"
      },
      "execution_count": 7,
      "outputs": []
    },
    {
      "cell_type": "code",
      "source": [
        "def save_list(lines, filename):\n",
        "  data = '\\n'.join(lines)\n",
        "  file = open(filename, 'w')\n",
        "  file.write(data)\n",
        "  file.close()\n",
        "  \n",
        "save_list(tokens, 'vocab.txt')"
      ],
      "metadata": {
        "id": "6WRSPUDvBSTK"
      },
      "execution_count": 8,
      "outputs": []
    },
    {
      "cell_type": "markdown",
      "source": [
        "#Train Embedding Layer"
      ],
      "metadata": {
        "id": "1U9_3A4GB3fV"
      }
    },
    {
      "cell_type": "code",
      "source": [
        "train_docs = train['translated']\n",
        "test_docs = test['translated']"
      ],
      "metadata": {
        "id": "uHLExRvJDxcL"
      },
      "execution_count": 9,
      "outputs": []
    },
    {
      "cell_type": "code",
      "source": [
        "def load_doc(filename):\n",
        "  file = open(filename, 'r')\n",
        "  text = file.read()\n",
        "  file.close()\n",
        "  return text\n",
        "\n",
        "vocab_filename = 'vocab.txt'\n",
        "vocab = load_doc(vocab_filename)\n",
        "vocab = vocab.split()\n",
        "vocab = set(vocab)\n",
        "print(vocab)"
      ],
      "metadata": {
        "id": "xH_CcW6OB6BF",
        "colab": {
          "base_uri": "https://localhost:8080/"
        },
        "outputId": "afec24a8-5011-4ac6-a8a7-7dcb00cd6f62"
      },
      "execution_count": 10,
      "outputs": [
        {
          "output_type": "stream",
          "name": "stdout",
          "text": [
            "{'leading', 'stimulates', 'unless', 'advanced', 'risks', 'Add', 'authorize', 'anxious', 'Janyu', 'BlC', 'Planet', 'usingampnbspampnbsp', 'prosecution', 'Apps', 'Siriro', 'Pike', 'round', 'FIRST', 'straight', 'Would', 'screens', 'TwittercomxxBXtFRFW', 'KSCBCim', 'Professor', 'Klem', 'Parents', 'abroad', 'neighborhood', 'SPOTIFY', 'remove', 'terrible', 'Kaen', 'About', 'hospital', 'withdrew', 'Ae', 'adjustments', 'Nakhon', 'tire', 'Bua', 'sadboyoxygen', 'US', 'United', 'media', 'bualuang', 'interestingplanet', 'Nothing', 'pawns', 'eating', 'getting', 'prepare', 'Gee', 'sessions', 'Report', 'Sometimes', 'krypto', 'hostess', 'machines', 'sees', 'tens', 'rings', 'businessmans', 'servant', 'confused', 'Krungsri', 'Orange', 'allowance', 'Lazada', 'authors', 'Starbucks', 'came', 'bucks', 'anymore', 'reinstall', 'homeinterest', 'Gosh', 'disturb', 'spay', 'spite', 'khunpinto', 'Claucenter', 'midnight', 'advance', 'Ling', 'formula', 'mart', 'unique', 'Black', 'Cape', 'ipad', 'Damn', 'farm', 'CCSCB', 'halfproject', 'Normal', 'OPDs', 'upload', 'English', 'lazy', 'Internet', 'frequently', 'rise', 'guide', 'CALL', 'Bum', 'favor', 'Care', 'deductive', 'galaxy', 'invoices', 'plan', 'bothering', 'options', 'minor', 'express', 'Invalid', 'lend', 'Nush', 'confiscation', 'prefix', 'novel', 'roughly', 'caller', 'going', 'errands', 'hacked', 'booked', 'faster', 'Face', 'CBACQBUALUANG', 'Sixers', 'Perfect', 'please', 'strong', 'popping', 'adjusting', 'thai', 'Phraya', 'secondsnbspnbsp', 'allowed', 'impossible', 'persons', 'Less', 'AMEX', 'disease', 'sure', 'affiliates', 'concluded', 'cocapitalists', 'large', 'foundation', 'bay', 'jobs', 'converted', 'lawsuit', 'KTz', 'right', 'enterprise', 'man', 'relock', 'Truewallet', 'Refunds', 'Tian', 'preliminary', 'originator', 'Thainext', 'Songkran', 'Login', 'robbers', 'credit', 'AirPay', 'SALE', 'limits', 'moonbackp', 'scans', 'Prepare', 'field', 'reimburst', 'tries', 'Pros', 'tradition', 'LCB', 'splitting', 'tied', 'Syre', 'bookbank', 'Borrowed', 'kmy', 'without', 'lottery', 'Shopee', 'goal', 'Whoevers', 'citibank', 'course', 'Before', 'assessed', 'left', 'Ton', 'snopnat', 'welfare', 'statement', 'village', 'cabinet', 'secure', 'fowwang', 'flowers', 'letters', 'queue', 'Campaign', 'executive', 'golden', 'PASSBOOK', 'Harbor', 'Looks', 'OK', 'terms', 'codes', 'visiting', 'assessments', 'shorter', 'Missing', 'themIve', 'GP', 'transactions', 'politics', 'hardly', 'route', 'World', 'difficult', 'hack', 'recommended', 'Based', 'smoothies', 'script', 'Days', 'Melconfim', 'Ps', 'middle', 'notify', 'boyfriend', 'situation', 'annoyance', 'doublebook', 'loose', 'USD', 'Post', 'Blue', 'Nate', 'Yuckyy', 'technologyregistration', 'EOMSIN', 'PTTGC', 'habits', 'gone', 'Xpress', 'rejected', 'httpstcomRxNaBngxn', 'announcement', 'BsHyuk', 'worlds', 'Ave', 'KSI', 'sharks', 'fly', 'etc', 'besides', 'transferors', 'tick', 'Green', 'illegal', 'Department', 'ranking', 'Repel', 'Mrs', 'reopen', 'Kung', 'wish', 'SWIFT', 'SCBs', 'Ready', 'askif', 'Channel', 'exceeded', 'Finish', 'know', 'bonuses', 'Bye', 'Society', 'Amp', 'person', 'peak', 'badly', 'happy', 'Hard', 'Ha', 'brocli', 'image', 'forward', 'Security', 'Pocket', 'evaluate', 'sympathized', 'sirampnbspnbsp', 'commerce', 'modernity', 'dies', 'Great', 'Protect', 'Honor', 'Ems', 'useful', 'invoice', 'delayed', 'tagging', 'audio', 'usedrnane', 'Ten', 'Prapa', 'thousands', 'financial', 'honor', 'pulls', 'sums', 'GSBSociety', 'whats', 'httpstcocMIspvUkx', 'Bread', 'want', 'Several', 'cash', 'summary', 'Pym', 'Chet', 'swirling', 'mymonbspnbsp', 'replaced', 'threw', 'howispsg', 'Negotiate', 'reset', 'correctly', 'Czech', 'voices', 'Lucky', 'platforms', 'pity', 'denial', 'Payi', 'Cheng', 'ROP', 'KClass', 'rule', 'ago', 'checking', 'Finest', 'rounds', 'Called', 'highflowered', 'enjoy', 'Aah', 'photos', 'Today', 'Filled', 'refilling', 'accepted', 'stressful', 'recheck', 'estimate', 'differently', 'cheated', 'China', 'From', 'moment', 'It', 'scanned', 'spends', 'Citibank', 'decree', 'crews', 'DEO', 'Nates', 'confiscated', 'survived', 'scanner', 'admire', 'todays', 'constantly', 'Osaka', 'charged', 'THB', 'user', 'stacks', 'assistance', 'transferable', 'investing', 'waited', 'dreamed', 'saves', 'Coinsnbspnbsp', 'blur', 'usable', 'moneys', 'knowing', 'troublesome', 'hasnt', 'feed', 'degree', 'wasteful', 'Changing', 'ap', 'Otherwise', 'Guilty', 'Ava', 'Jkt', 'consists', 'Lounge', 'bill', 'Louis', 'grad', 'lapisdotlazuli', 'ScB', 'Nawang', 'Planets', 'noon', 'CAD', 'bot', 'cashier', 'indicating', 'broke', 'seconds', 'shareholders', 'HR', 'conclude', 'hold', 'speaking', 'password', 'Sea', 'Sreedy', 'outlets', 'fe', 'factory', 'Youre', 'mic', 'Izd', 'clip', 'Fei', 'used', 'sometimes', 'Mani', 'buro', 'currently', 'Howd', 'TOPSCENTRAL', 'redoing', 'heal', 'platinum', 'TOP', 'really', 'Investment', 'CITIES', 'deletes', 'sell', 'offbook', 'primary', 'ampnbsp', 'spinning', 'walletpost', 'turning', 'salvage', 'Tech', 'daily', 'recurrence', 'highend', 'remaining', 'sorted', 'ishallu', 'lines', 'Always', 'zipper', 'shipping', 'AHHHHHHGHT', 'LoveReview', 'massacre', 'doctors', 'Remember', 'Sietongkum', 'random', 'Thoroughly', 'reduce', 'cancellations', 'strength', 'type', 'Uh', 'claming', 'Lotus', 'Right', 'page', 'bend', 'bribe', 'arrived', 'caps', 'Transport', 'lowkey', 'miss', 'concern', 'signup', 'Get', 'jewelry', 'Repair', 'introduce', 'dumber', 'downside', 'knowledge', 'Cause', 'itd', 'end', 'restructure', 'fucker', 'amplified', 'ktc', 'declined', 'Corona', 'annoyed', 'Confirm', 'play', 'oathth', 'informed', 'lash', 'sellers', 'cancellation', 'tap', 'Eins', 'homeloan', 'amendment', 'depositdeposit', 'size', 'weekday', 'total', 'You', 'blocked', 'residual', 'wondered', 'require', 'mysterious', 'borrowing', 'Lots', 'divorced', 'lockI', 'toyota', 'Long', 'Thought', 'salaries', 'Driving', 'BBLsubstantial', 'bestIve', 'genus', 'posted', 'taxfree', 'browser', 'Accredited', 'stabbed', 'httpstco', 'advantage', 'cyber', 'yous', 'KPLUS', 'Generali', 'overdose', 'hang', 'notsend', 'meat', 'flights', 'ChoicenbspKTC', 'calm', 'hoping', 'asset', 'privilege', 'addicted', 'principal', 'Union', 'Apply', 'rushing', 'satisfaction', 'retie', 'Exchanging', 'Email', 'speaker', 'ordering', 'emergencies', 'function', 'consider', 'Ktcs', 'Won', 'cutoff', 'category', 'protected', 'campaign', 'works', 'Venice', 'risen', 'authentication', 'stops', 'Thammarat', 'Tell', 'promotion', 'file', 'Settings', 'Press', 'make', 'Earlier', 'Header', 'unlocked', 'Shares', 'registry', 'cuts', 'Personal', 'restaurants', 'investment', 'sides', 'LHnbspnbsp', 'bring', 'Want', 'Manton', 'wrongly', 'Usually', 'Agency', 'Monday', 'Work', 'rookie', 'sounds', 'theplanetIve', 'recent', 'chasing', 'encountered', 'Samut', 'February', 'ps', 'cousins', 'unloaded', 'Choice', 'Website', 'dare', 'Ib', 'daughters', 'noted', 'Kyoto', 'helped', 'CreditnbspnbspSin', 'editors', 'buyandyear', 'men', 'promotions', 'Suphakit', 'Select', 'spears', 'ur', 'Thailandneck', 'busy', 'cars', 'refuel', 'prime', 'friendly', 'fivebaht', 'mosi', 'Coordinating', 'floating', 'Employees', 'manager', 'listing', 'apologize', 'mBanking', 'freefeeing', 'enormous', 'loans', 'Amen', 'esaving', 'aeon', 'authorized', 'planned', 'Patriots', 'ang', 'Many', 'axa', 'Sympathetic', 'dots', 'nine', 'But', 'tapping', 'recommendations', 'credits', 'safest', 'ran', 'Beau', 'waste', 'INVEST', 'employees', 'economy', 'substitutions', 'transferer', 'Do', 'borrower', 'responsibilities', 'slightly', 'ThaiNex', 'Evan', 'applicated', 'source', 'Accumulating', 'Besides', 'directly', 'blogs', 'brings', 'Phetchaburi', 'KContact', 'fault', 'land', 'front', 'Stupid', 'passing', 'apt', 'searched', 'antibank', 'strip', 'voice', 'LIVE', 'delayedtalk', 'mission', 'curve', 'concession', 'nano', 'ais', 'mortgage', 'recently', 'avoiding', 'capability', 'Nepo', 'ability', 'Srihomepro', 'counter', 'Tel', 'self', 'devices', 'ignore', 'Kaya', 'Yuan', 'Everything', 'accounting', 'Soldiers', 'fortune', 'paragon', 'Dip', 'rejecting', 'force', 'refinancing', 'officials', 'Like', 'hackers', 'age', 'thanks', 'Impressive', 'added', 'moon', 'Interfer', 'banksnbsp', 'payphone', 'wasnt', 'third', 'Pong', 'There', 'Walk', 'amazing', 'pele', 'unit', 'dualuang', 'Maybe', 'identities', 'PeckPalitchoke', 'tags', 'rights', 'kb', 'Oct', 'missing', 'reminder', 'offered', 'spouse', 'new', 'paycheck', 'seat', 'vpn', 'MuMilk', 'SCBampnbspampnbsp', 'Dadada', 'hierarchy', 'dayThis', 'kids', 'reapply', 'suitable', 'Inquiry', 'mines', 'owns', 'Information', 'ports', 'managers', 'Fear', 'running', 'Huh', 'horrible', 'Price', 'Max', 'frustrated', 'compartment', 'Udon', 'definitely', 'Thnshat', 'suck', 'million', 'Watching', 'reservation', 'KrungthaiAXA', 'pearl', 'tech', 'Omsin', 'recipient', 'rather', 'Scbeasy', 'Choi', 'omsin', 'KtcPrivilege', 'hour', 'Westgate', 'Naparat', 'consideration', 'apic', 'banking', 'Caps', 'setting', 'Justice', 'abalonenbspnbsp', 'stockholder', 'real', 'Itll', 'accepts', 'Foreign', 'disagree', 'atmdebit', 'previously', 'Namtip', 'shoe', 'weply', 'The', 'unexcited', 'Unusable', 'maintain', 'ep', 'lowpriced', 'chill', 'imagine', 'Banks', 'Fill', 'Busayarat', 'though', 'relief', 'keep', 'Reset', 'sense', 'CASH', 'organization', 'qualifications', 'Cr', 'ask', 'Sris', 'Saris', 'Enter', 'destinations', 'secondary', 'deposits', 'Code', 'accountants', 'Sriyutthayas', 'cry', 'Cigna', 'defaults', 'Agent', 'Bangkhkbankcom', 'vision', 'coworkers', 'shy', 'Sicorn', 'resigning', 'safari', 'appraisal', 'Gerror', 'logging', 'Stand', 'Gray', 'part', 'something', 'planet', 'older', 'owes', 'coex', 'Normally', 'procedure', 'increased', 'withdraws', 'percentage', 'smartphone', 'Latest', 'scb', 'Data', 'callin', 'If', 'rang', 'agree', 'issues', 'threads', 'Say', 'Let', 'repeat', 'alert', 'woke', 'BBLs', 'Android', 'cancelled', 'Well', 'admin', 'pardon', 'KrungsriSimpleKrungthaiCarre', 'Administration', 'government', 'gt', 'savior', 'Eva', 'Wellness', 'Plan', 'date', 'bbl', 'IRS', 'avs', 'younbsp', 'longawaited', 'branch', 'half', 'else', 'results', 'prepaid', 'wash', 'mommy', 'nbspUnionPayTPN', 'diligent', 'instead', 'SEC', 'xx', 'tesco', 'station', 'Finance', 'cents', 'INTERNET', 'pictwittercomBWqGfGyAVn', 'outdated', 'prepared', 'employee', 'upK', 'low', 'scbthailand', 'Overlight', 'accepting', 'printing', 'certificates', 'expenditure', 'GBP', 'bedinthebrain', 'incremental', 'stm', 'Srisawat', 'Good', 'Autobot', 'repurchase', 'wrestling', 'Deposit', 'labeled', 'collecting', 'theme', 'solved', 'Share', 'airport', 'facebook', 'whichever', 'logs', 'Find', 'homes', 'Solves', 'walked', 'misinformed', 'Innie', 'Updating', 'mouth', 'name', 'harder', 'Center', 'gotta', 'breakfast', 'kabang', 'mortgaged', 'Crisis', 'unspeakable', 'alarm', 'iPhones', 'Wang', 'toyubomm', 'Transferring', 'order', 'simplest', 'across', 'act', 'Samsung', 'ghost', 'eat', 'Sarana', 'lift', 'Grow', 'tickets', 'reinstated', 'privileges', 'inside', 'entrepreneur', 'took', 'transfer', 'installments', 'parentheses', 'Same', 'mc', 'bother', 'andKBANK', 'gambling', 'Sell', 'Benefit', 'inbox', 'bk', 'Introducing', 'learn', 'Declaration', 'banknotes', 'rescan', 'avoided', 'Ban', 'amounts', 'canter', 'fine', 'refer', 'hall', 'pulling', 'confirms', 'flows', 'error', 'MyMo', 'lighter', 'barn', 'crash', 'peoplenbspnbsp', 'Deek', 'KMA', 'Thox', 'Nt', 'OR', 'bats', 'Unconditional', 'click', 'reread', 'links', 'returning', 'Fun', 'buyer', 'Okay', 'skip', 'supposed', 'invalid', 'admit', 'motorbike', 'current', 'mental', 'leaves', 'rep', 'West', 'Convert', 'approvals', 'web', 'Laos', 'Mint', 'Surin', 'Industrial', 'tight', 'Wont', 'delighted', 'Fix', 'wait', 'rains', 'latest', 'Article', 'redemption', 'Virtual', 'cloud', 'client', 'Opening', 'chat', 'style', 'mood', 'whove', 'abalonement', 'Easynet', 'queuer', 'Destination', 'Bad', 'Callnbspnbspcenter', 'passesIts', 'notes', 'need', 'logged', 'involved', 'ZIP', 'fucking', 'tones', 'They', 'Kang', 'data', 'invite', 'ideas', 'clear', 'Sen', 'changing', 'Netbank', 'uncle', 'connect', 'personal', 'Srees', 'Friends', 'refuse', 'preservation', 'bit', 'SME', 'completed', 'arrange', 'taste', 'behavior', 'reinterest', 'miles', 'transferred', 'return', 'problemOtan', 'securities', 'tootheturtle', 'FWD', 'advantageous', 'Extract', 'Download', 'BEA', 'digits', 'lifestyle', 'stock', 'ThailandThailand', 'upsetting', 'gather', 'Back', 'den', 'townhouse', 'district', 'Password', 'Just', 'scbpic', 'Incoming', 'stores', 'canals', 'amp', 'gtlt', 'usual', 'Booking', 'robber', 'Short', 'gang', 'JCB', 'stuffed', 'situations', 'erase', 'ltgt', 'mistaken', 'notice', 'ridges', 'Securities', 'addicts', 'SCBS', 'Will', 'July', 'Phase', 'refused', 'overcharge', 'Rewards', 'mm', 'venture', 'delete', 'Commission', 'salary', 'Trick', 'TrueWallet', 'Pey', 'day', 'Clearly', 'wearing', 'clarification', 'AA', 'zwingzet', 'Recently', 'fuzzy', 'code', 'End', 'NDID', 'agencies', 'Destinations', 'package', 'Ibanking', 'location', 'Lost', 'taxed', 'quality', 'mbanking', 'waits', 'Western', 'Scbplanet', 'shoes', 'Thailands', 'Loan', 'plugged', 'Taiampnbspnbspnot', 'rich', 'finds', 'overflowing', 'Dealer', 'httpstcouCVeFjaKHt', 'foreclosure', 'America', 'glitch', 'Hell', 'millions', 'tweet', 'recommend', 'Connext', 'corrections', 'appCard', 'Court', 'prefer', 'pantip', 'sloppy', 'lots', 'Islamic', 'detected', 'KYDog', 'sharing', 'money', 'cardutrip', 'study', 'TBANK', 'Deposits', 'mani', 'Power', 'Ktc', 'overdue', 'Paypal', 'recharge', 'central', 'corporate', 'entering', 'funny', 'candle', 'month', 'Think', 'Transferd', 'eppanng', 'thinks', 'responded', 'bonds', 'handling', 'hires', 'night', 'Gvalle', 'rarely', 'roast', 'Nbsp', 'Ng', 'preorder', 'waiver', 'Exclusive', 'block', 'anyways', 'anyway', 'Remind', 'okay', 'emails', 'hungary', 'someones', 'Bangna', 'convenient', 'invest', 'thursday', 'mybspnbsp', 'ppl', 'Checked', 'bahtyear', 'Search', 'Which', 'sucker', 'CB', 'cc', 'Why', 'receiver', 'Paying', 'Askscbthailand', 'officer', 'Bangkapi', 'unused', 'especially', 'knows', 'trust', 'passable', 'ktb', 'empty', 'Tanshats', 'strange', 'provincial', 'puzzles', 'refunded', 'itnbspnbsp', 'payout', 'human', 'rehashed', 'reputation', 'intention', 'messed', 'East', 'Pic', 'dropping', 'acct', 'tells', 'check', 'speaks', 'crumbs', 'holds', 'run', 'Officials', 'Coin', 'trouble', 'tmbbank', 'Bualuang', 'millionyear', 'Messenger', 'might', 'consult', 'KBANKs', 'always', 'Loans', 'cutout', 'biggest', 'Oruma', 'STM', 'Custommer', 'followup', 'Blah', 'year', 'people', 'KEPT', 'Kowi', 'clearly', 'character', 'emailpass', 'Acumkom', 'Noloyi', 'successful', 'needed', 'emailed', 'open', 'words', 'dorm', 'elderly', 'actual', 'Infinite', 'assistant', 'lock', 'Identify', 'highvalue', 'lying', 'parents', 'responsehow', 'Appreciate', 'Chon', 'Tep', 'enterprises', 'Alipay', 'hungry', 'Scary', 'comparable', 'fucked', 'titanium', 'light', 'bass', 'Show', 'aiming', 'range', 'cells', 'hardest', 'costeffective', 'condominium', 'shes', 'wanting', 'yaoutrip', 'convert', 'key', 'addition', 'Chonburi', 'Whos', 'oldfashioned', 'Scbam', 'dog', 'brave', 'compatible', 'reachI', 'awaiting', 'HiaKoe', 'netflix', 'quite', 'teeth', 'fruitful', 'connected', 'Sunday', 'wiped', 'needing', 'questions', 'Mine', 'GapThananat', 'Each', 'qa', 'thrown', 'tradeIll', 'hassle', 'bite', 'rules', 'lowbuyer', 'Theyre', 'Please', 'Tail', 'considering', 'Drag', 'cheering', 'satisfied', 'shopping', 'expire', 'Ok', 'unionpay', 'Phuket', 'guards', 'totals', 'big', 'Months', 'regularly', 'robinhood', 'reloaded', 'died', 'covit', 'DA', 'contracts', 'clients', 'crosssection', 'renew', 'Takashimaya', 'tone', 'Experience', 'unpacked', 'Lush', 'create', 'High', 'dead', 'rested', 'Ad', 'fails', 'Unfortunately', 'alli', 'brokers', 'weekends', 'We', 'rescue', 'Ministry', 'red', 'teach', 'mechanic', 'adPaid', 'war', 'Chubb', 'twoquarter', 'Land', 'missed', 'Here', 'Too', 'upgraded', 'personnel', 'estimated', 'friday', 'Imperial', 'cried', 'swings', 'Buro', 'grown', 'Srithe', 'computer', 'Kerrys', 'Update', 'THAI', 'Pimp', 'clerk', 'reporter', 'scale', 'drive', 'Changed', 'arrive', 'endings', 'Must', 'airAsias', 'Sree', 'Pakistan', 'property', 'acting', 'Farrook', 'stream', 'notebook', 'maximum', 'Clinic', 'Two', 'Ayad', 'tc', 'highest', 'content', 'envelope', 'conducting', 'merchant', 'arh', 'Almost', 'additional', 'headquarters', 'lazada', 'team', 'tricks', 'holiday', 'recipients', 'Your', 'windowsd', 'bmta', 'chased', 'stood', 'curry', 'canal', 'prize', 'suited', 'provinces', 'issued', 'Did', 'tie', 'Khon', 'Jcb', 'PayPal', 'worked', 'better', 'ten', 'existing', 'short', 'Calling', 'American', 'takes', 'farmers', 'KPlus', 'Jing', 'AC', 'Have', 'awful', 'blah', 'detailed', 'depending', 'giving', 'II', 'mortgages', 'forged', 'Travelling', 'hate', 'relentless', 'call', 'Mao', 'Registered', 'causing', 'Is', 'cupboard', 'nonstrengthening', 'served', 'Trues', 'Thax', 'treatment', 'Ma', 'overdo', 'daddys', 'CARD', 'Eon', 'Nvr', 'Mould', 'daytoday', 'occurred', 'pulled', 'forgot', 'yet', 'alerted', 'ccTLD', 'untruthful', 'Ow', 'cardSCB', 'realme', 'graduating', 'cable', 'claiming', 'thousand', 'restaurant', 'piles', 'towed', 'Binging', 'Mess', 'Sneaked', 'passes', 'subpoena', 'disqualified', 'frozen', 'feasible', 'pushes', 'stadium', 'heading', 'WHA', 'reserved', 'inaccessible', 'skeptical', 'eSAVINGS', 'ever', 'companys', 'SAVINGS', 'buying', 'everything', 'youll', 'Tellesel', 'Todays', 'happening', 'washed', 'complained', 'mistakes', 'Satisfaction', 'zerobahtscb', 'Substitute', 'reserve', 'ordered', 'likely', 'Rabbit', 'amortization', 'uptight', 'suggestions', 'retention', 'wirojlak', 'Mondays', 'yell', 'Ticket', 'Addin', 'general', 'justiceRescue', 'prestigeROP', 'Ubonrat', 'download', 'condition', 'Thoks', 'Mount', 'oooo', 'loss', 'EMERGENCY', 'three', 'Deedy', 'beautiful', 'meantime', 'Mathos', 'little', 'suspend', 'updates', 'must', 'technology', 'disappointed', 'infinix', 'Thorn', 'Bullshit', 'forever', 'httpstconpogaGZbCd', 'faces', 'services', 'MRR', 'boarding', 'BlackPink', 'rid', 'stole', 'Trumov', 'Reference', 'Option', 'quot', 'selecting', 'dm', 'Tao', 'ICBC', 'Signed', 'Another', 'basically', 'restructured', 'husband', 'Kbank', 'Calculate', 'expensive', 'Goat', 'acquaintance', 'shake', 'paste', 'battalion', 'identical', 'stand', 'toampnbspampnbspUpdate', 'jumarn', 'Esavings', 'documents', 'psychiatrist', 'note', 'AIS', 'Candel', 'replace', 'head', 'slow', 'log', 'insteadIt', 'Nikecom', 'Purple', 'separate', 'pray', 'either', 'SCBSETE', 'Nomuranbsp', 'auction', 'ok', 'Oppo', 'rightquot', 'exchanged', 'commenting', 'bag', 'burning', 'sword', 'effective', 'coming', 'upset', 'Eomsin', 'portfolio', 'Jmart', 'cooperatives', 'Ais', 'mainly', 'principle', 'reporting', 'already', 'Patt', 'messy', 'MRTR', 'Paki', 'staring', 'Exchange', 'pretty', 'cassava', 'applied', 'pictured', 'option', 'eapp', 'taxpayers', 'Complaint', 'shocking', 'Iservis', 'metaphor', 'ITMX', 'combines', 'picking', 'Health', 'costing', 'payable', 'fancy', 'This', 'waived', 'personally', 'Market', 'retransmitted', 'Higher', 'Resolved', 'httpstcoCBDHqKhdp', 'showing', 'Fleshie', 'debtors', 'insert', 'split', 'goodbye', 'brokes', 'Jiggy', 'failing', 'aunts', 'word', 'touch', 'CDM', 'Pink', 'comment', 'connext', 'circulation', 'Sri', 'Account', 'By', 'structure', 'Big', 'deducting', 'Even', 'Prime', 'serve', 'mess', 'unusually', 'event', 'scary', 'itIm', 'channels', 'anyone', 'kept', 'informing', 'texting', 'coach', 'Improved', 'Fixed', 'carries', 'believes', 'unscrewed', 'Zhong', 'stuff', 'fooled', 'BDMS', 'Trumanny', 'thick', 'synchronized', 'unsub', 'bang', 'Wiganda', 'salvaged', 'VISA', 'unresolved', 'refills', 'jammed', 'awesome', 'months', 'tell', 'journey', 'BBL', 'eye', 'Move', 'Expires', 'kyc', 'settle', 'bars', 'expo', 'Manage', 'gets', 'ALL', 'automated', 'watching', 'technique', 'transferring', 'Russias', 'sits', 'lockin', 'pair', 'Equy', 'using', 'notifications', 'society', 'clarified', 'sincerity', 'Need', 'thrilled', 'Store', 'brutal', 'Does', 'Village', 'letter', 'estatement', 'FREECIMB', 'SMSSCB', 'Service', 'Ports', 'conceivedAnd', 'putting', 'fan', 'bbbexitt', 'loaded', 'difference', 'average', 'pass', 'brought', 'certified', 'Tong', 'retirement', 'Thaineck', 'Rush', 'Seven', 'Shes', 'speak', 'Institutional', 'disconnected', 'hi', 'disputegroupktb', 'destination', 'hurry', 'global', 'Callcenter', 'rotated', 'PEA', 'callnbspnbsp', 'nod', 'link', 'wallpaper', 'death', 'percent', 'weird', 'earlier', 'Ads', 'Chapter', 'turned', 'parallel', 'Tanshat', 'tough', 'mostly', 'bankslower', 'troublemaker', 'tucall', 'fun', 'Send', 'toiletnbspnbsp', 'proceed', 'ratings', 'reductions', 'AIAs', 'directions', 'button', 'pops', 'Tanchanok', 'Excess', 'costs', 'Waste', 'brothers', 'See', 'writing', 'callcenter', 'reloads', 'fund', 'Cut', 'seal', 'shift', 'buttons', 'GWallet', 'walking', 'wealth', 'silent', 'compensation', 'pump', 'Wish', 'booker', 'Srifurs', 'jpremier', 'Mainly', 'exceeds', 'Vietnam', 'Alerts', 'enters', 'kill', 'CallCenter', 'recruiter', 'claimed', 'bankers', 'transferd', 'oonbs', 'bangs', 'manual', 'entertained', 'hacks', 'others', 'EVERYDAY', 'incoming', 'busyI', 'Shinpan', 'presseduse', 'crisis', 'mama', 'peopleIm', 'helps', 'son', 'necessary', 'subscribe', 'affects', 'buys', 'desperate', 'httpswww', 'unapproved', 'cue', 'inquire', 'ipo', 'reduction', 'looked', 'specials', 'virus', 'guess', 'selected', 'destroyed', 'State', 'acquaintances', 'sym', 'investments', 'nuns', 'Notify', 'zero', 'unavailable', 'huh', 'specify', 'thatI', 'Six', 'SMS', 'BTC', 'Understand', 'subbanks', 'trader', 'Thoms', 'frequent', 'participate', 'white', 'Hour', 'regional', 'UChoose', 'placed', 'RangsitNakkor', 'refinance', 'duty', 'Open', 'sree', 'Air', 'starter', 'Kbanks', 'eruptions', 'suspended', 'members', 'AF', 'Metropolitan', 'shown', 'improves', 'Wuhan', 'scbktb', 'dtac', 'secretly', 'Seaboard', 'developer', 'Theyve', 'Thani', 'condos', 'conscious', 'Bank', 'JTp', 'Weve', 'maids', 'irritating', 'fire', 'week', 'car', 'Superich', 'contacted', 'afford', 'band', 'spare', 'unusable', 'kc', 'jams', 'summation', 'cord', 'Manny', 'demand', 'addresses', 'describe', 'itemSMS', 'booth', 'theyd', 'anything', 'Three', 'documentary', 'Tuesday', 'longer', 'pawning', 'FCMG', 'Live', 'conditions', 'poor', 'Cloud', 'nationality', 'BangkokDental', 'inconsistent', 'XX', 'UCHOOSE', 'centers', 'constituents', 'holding', 'Spoil', 'wad', 'TISCO', 'lt', 'entire', 'truck', 'app', 'mutual', 'Customers', 'butterflyuxu', 'Gateway', 'owner', 'patient', 'Neg', 'currency', 'alerts', 'Every', 'Om', 'shark', 'tried', 'stressed', 'Government', 'minichanchii', 'record', 'banker', 'Walking', 'origin', 'Yes', 'latter', 'read', 'contacting', 'belts', 'cbcream', 'continues', 'wake', 'Pangani', 'famous', 'suspicious', 'parked', 'conjunction', 'encrypted', 'deducted', 'locks', 'hedge', 'towards', 'pile', 'Cao', 'ice', 'Gwallet', 'auto', 'pmnbspnbsp', 'Identification', 'His', 'cat', 'finally', 'typed', 'Hows', 'itThai', 'Teampnbspampnbspnot', 'Covit', 'swear', 'filed', 'build', 'Kino', 'ahjumma', 'suspension', 'boring', 'gonna', 'homepro', 'free', 'Topup', 'Potify', 'CENTER', 'valid', 'homework', 'AIA', 'saying', 'atomorbot', 'collapsed', 'banksubstantial', 'depends', 'unsuccessful', 'keys', 'voluntary', 'liquidity', 'plastic', 'itstaets', 'httpstcoVDJArfSmph', 'Fast', 'Class', 'include', 'Receipt', 'information', 'Commissioner', 'Dad', 'Feb', 'affiliated', 'bye', 'Central', 'breaks', 'Cardless', 'Tshirts', 'Web', 'execute', 'appointments', 'history', 'Asking', 'Sheikh', 'depriving', 'shop', 'guts', 'outstanding', 'cold', 'submit', 'Were', 'country', 'shynbsp', 'backing', 'Speeddy', 'fraud', 'edited', 'Point', 'Ugh', 'remembered', 'SCBplanet', 'serviced', 'reload', 'yuan', 'statements', 'GrabPay', 'inspection', 'puzzled', 'mobile', 'alreadydefined', 'types', 'Easy', 'Records', 'give', 'gwallet', 'Tanachart', 'reviewers', 'loosen', 'threeyear', 'expecting', 'highlighting', 'BANK', 'aia', 'tips', 'card', 'PBV', 'illness', 'transfers', 'graduate', 'Hi', 'communication', 'Wallet', 'clarify', 'accordance', 'lower', 'moments', 'camera', 'DeliciousRendezvous', 'ATMs', 'Axa', 'twoyear', 'Robinhood', 'wrinkled', 'smartphones', 'double', 'Remote', 'settings', 'ATM', 'Secon', 'bitch', 'FUN', 'ordinary', 'Decree', 'public', 'institutions', 'class', 'believed', 'first', 'throw', 'Feels', 'Make', 'spoke', 'Junsompong', 'blame', 'Thank', 'Windy', 'Woody', 'dormitory', 'credibility', 'still', 'recognized', 'platform', 'Charter', 'rebate', 'Subsidiaries', 'When', 'seeing', 'listed', 'service', 'minority', 'Mobile', 'President', 'discuss', 'boat', 'shortened', 'fever', 'kcyber', 'affected', 'excited', 'paypaypal', 'Shoppee', 'Crazy', 'purchased', 'kkp', 'KMyInvest', 'brother', 'discussed', 'Rueantan', 'von', 'royal', 'chance', 'After', 'outside', 'vote', 'cumbersome', 'Poong', 'Af', 'itI', 'branches', 'Airport', 'solve', 'thanking', 'confirming', 'hear', 'thugs', 'Simply', 'surprised', 'decisions', 'zimzalabimjStonenayouung', 'Panisha', 'IP', 'hell', 'seats', 'questioning', 'Wash', 'Apple', 'OD', 'smiles', 'Paotang', 'ads', 'ltltlt', 'DService', 'Taxfree', 'Later', 'drops', 'moneykplus', 'SCBRMGHC', 'scbs', 'inandout', 'talked', 'opened', 'uob', 'advise', 'issue', 'table', 'carnbspnbsp', 'Having', 'Details', 'discounts', 'barcode', 'centre', 'kbank', 'ID', 'secondhands', 'patience', 'filled', 'TIRIGA', 'roads', 'machine', 'target', 'basic', 'Jasmio', 'misdirected', 'La', 'offers', 'SCBnbspnbsp', 'doubted', 'TWD', 'selling', 'combine', 'worker', 'oil', 'Locked', 'spelled', 'connection', 'board', 'rotten', 'concept', 'sims', 'Net', 'Go', 'atm', 'barbucks', 'Except', 'regression', 'AXA', 'scbtailand', 'second', 'surcharge', 'Difficult', 'Mines', 'confirm', 'girlfriend', 'butI', 'automatically', 'Dear', 'shiv', 'PTT', 'Gkivtec', 'tree', 'Gmarket', 'electricity', 'confuse', 'opinion', 'Some', 'plumbing', 'Embanking', 'wheel', 'certificate', 'renting', 'gourmet', 'freemir', 'allow', 'Can', 'touchso', 'Chat', 'numbers', 'retail', 'alternative', 'brogue', 'Savingsin', 'av', 'nonbsp', 'fc', 'Grab', 'gtgt', 'specialist', 'chips', 'tag', 'successfully', 'profit', 'Mail', 'sixdigit', 'far', 'coding', 'comes', 'bada', 'ptts', 'intended', 'Snoopyprinted', 'interested', 'Mina', 'Zealand', 'child', 'proclinics', 'identification', 'kma', 'candidate', 'httpstcoIHvWenBHUB', 'master', 'Festival', 'phase', 'possible', 'noticing', 'overtake', 'chairs', 'wars', 'Overall', 'cashfree', 'DM', 'worse', 'Never', 'Srima', 'engine', 'incompetent', 'adults', 'union', 'Nex', 'troubles', 'Pantip', 'spending', 'discount', 'whereI', 'header', 'none', 'tastes', 'buy', 'Bitcoin', 'teachers', 'usage', 'understood', 'hide', 'system', 'lot', 'dragged', 'thought', 'warranty', 'benefit', 'downloading', 'didnt', 'Panish', 'During', 'costume', 'deed', 'streaming', 'department', 'show', 'offer', 'She', 'mention', 'tmbs', 'Ep', 'Klus', 'edit', 'untied', 'organizations', 'Nan', 'slower', 'sleeping', 'Ferris', 'adding', 'Addmin', 'bankholder', 'lately', 'algorithm', 'updating', 'hunch', 'improved', 'finallyEasy', 'sailors', 'JASIF', 'presentAmaknae', 'interface', 'dividends', 'Noninterrupted', 'totaling', 'Requesting', 'Monthsnbsp', 'departmental', 'littlebearntck', 'LEC', 'gps', 'resigned', 'annoying', 'wins', 'sick', 'Bangkokbank', 'rising', 'bean', 'burglary', 'Express', 'frustrating', 'Office', 'ave', 'bikes', 'Turns', 'dad', 'starting', 'grade', 'housewarming', 'Fund', 'oclock', 'preferred', 'full', 'basics', 'SCb', 'Borrow', 'wealthy', 'announce', 'Advertising', 'hotel', 'understand', 'waterfilled', 'journal', 'repeating', 'evaluation', 'bugger', 'sells', 'unlimited', 'Streaming', 'itThe', 'google', 'reads', 'bonus', 'haniying', 'police', 'creditors', 'Wow', 'manage', 'transferor', 'exchanges', 'nisit', 'tool', 'Transfering', 'Book', 'publicity', 'necessity', 'wifi', 'KFC', 'Visastyle', 'refunds', 'use', 'restoration', 'thank', 'Miss', 'Pick', 'Didnt', 'pins', 'continue', 'refinanced', 'standard', 'Limousine', 'called', 'coin', 'ids', 'upnbspnbsp', 'clinic', 'unreasonable', 'description', 'major', 'banks', 'nations', 'Canceled', 'plain', 'distance', 'Park', 'appears', 'angry', 'fixed', 'capital', 'unpaid', 'Ampnbspnbsp', 'refill', 'lol', 'kbizcontactcentermirrorkasikornbankcom', 'chosen', 'given', 'Maneerung', 'mind', 'gain', 'otherwise', 'thieves', 'Wechat', 'April', 'life', 'unlock', 'mega', 'Delivery', 'refillable', 'complicated', 'camps', 'college', 'Confirming', 'IPO', 'comedy', 'area', 'accountOurs', 'Its', 'spotify', 'item', 'inverted', 'transferees', 'throughnbspnbsp', 'atmquest', 'subscription', 'NPL', 'seems', 'input', 'province', 'Jernies', 'doctor', 'methods', 'carry', 'shutting', 'obsolete', 'asked', 'understands', 'Signature', 'cooperative', 'Kowit', 'erupted', 'Estimated', 'Siam', 'stress', 'blunt', 'Fs', 'SSF', 'dun', 'PEC', 'yelling', 'practice', 'ofnbspnbsp', 'iphone', 'onh', 'Friday', 'Pathom', 'youve', 'nearest', 'number', 'housing', 'seller', 'SheStrong', 'afraid', 'fast', 'limited', 'guys', 'background', 'set', 'several', 'stunned', 'theyre', 'Transfer', 'canceled', 'products', 'question', 'realm', 'Chang', 'depositor', 'Promotion', 'Ladys', 'kbanks', 'Tsk', 'Yen', 'timeout', 'reply', 'requested', 'housewives', 'relatives', 'wood', 'store', 'EasyIve', 'Teenagers', 'covid', 'KBank', 'theyve', 'cardscb', 'sleeps', 'likes', 'remains', 'usedampnbspampnbsp', 'Check', 'Kjourney', 'FF', 'Me', 'loyalty', 'Cups', 'Bitkub', 'rootenergy', 'panel', 'risk', 'MP', 'loaners', 'complete', 'AI', 'common', 'coverage', 'Citibanks', 'food', 'STATEMENT', 'abalone', 'Cares', 'crazy', 'visits', 'AM', 'gave', 'kind', 'mass', 'BK', 'hand', 'scolded', 'true', 'Boo', 'quickest', 'Refund', 'face', 'cane', 'Goo', 'sister', 'searching', 'standards', 'Thursday', 'categories', 'itso', 'Faster', 'COVIDs', 'survive', 'Wednesday', 'popcorn', 'movie', 'Anyone', 'damn', 'eats', 'years', 'transaction', 'cities', 'Jack', 'CITI', 'stable', 'closing', 'bus', 'mile', 'bind', 'normal', 'sterilization', 'asia', 'feels', 'crashing', 'tab', 'fake', 'excluded', 'ticket', 'outofthebox', 'backs', 'answered', 'Allow', 'nakin', 'interesting', 'sharp', 'Bung', 'rough', 'sri', 'Euro', 'suspicion', 'cards', 'grandmothers', 'flight', 'tower', 'messageIt', 'wont', 'LUXE', 'Building', 'register', 'horse', 'prefers', 'base', 'Buntoshi', 'sad', 'Korean', 'traveled', 'straightC', 'handout', 'cui', 'hardtoconnect', 'clears', 'Shit', 'Busy', 'asks', 'related', 'cheap', 'nationals', 'subscribed', 'Look', 'urgently', 'confusion', 'filler', 'cause', 'Buying', 'expenses', 'replacements', 'km', 'Chi', 'sector', 'Hot', 'FREE', 'EZ', 'PA', 'facilitate', 'clicks', 'piece', 'spent', 'fresh', 'boro', 'lotus', 'cheater', 'hows', 'monthly', 'aftersales', 'hiring', 'representative', 'LTF', 'former', 'unsubs', 'popular', 'earnings', 'Date', 'governments', 'orders', 'warning', 'repaid', 'Sluggage', 'simple', 'Paye', 'Eiebe', 'safety', 'remembers', 'Margin', 'pictwittercomRqYUEIQrZJ', 'httpsmoneykapookcomview', 'TEL', 'Imy', 'disappear', 'Thors', 'handicapped', 'loanor', 'kaya', 'South', 'ratingThe', 'names', 'CPF', 'inquiring', 'Crawl', 'switching', 'Sent', 'Try', 'twoweek', 'bed', 'tall', 'initially', 'submitted', 'revenues', 'walk', 'spin', 'debtor', 'consort', 'Rangsit', 'PM', 'Deputy', 'blue', 'backup', 'Chief', 'House', 'callslinephase', 'Capital', 'Up', 'outsourcing', 'EU', 'special', 'splanet', 'Whether', 'dispute', 'KBang', 'hopes', 'except', 'Since', 'Takma', 'More', 'studying', 'messages', 'wellcare', 'reached', 'beginning', 'nbspnsp', 'decision', 'share', 'pressure', 'saw', 'Youtrip', 'tossing', 'warn', 'post', 'prices', 'Airasia', 'bailout', 'programmer', 'KKP', 'whose', 'Kitisak', 'IT', 'NUMber', 'SCBAM', 'lifethreatening', 'Haha', 'casual', 'DTag', 'Gum', 'soon', 'nbsp', 'black', 'looking', 'verified', 'Debit', 'guy', 'familiar', 'worldfamous', 'fellow', 'monk', 'cryptographic', 'Cap', 'Drive', 'Ours', 'NuneNoonieyy', 'stickers', 'dated', 'depositing', 'Starting', 'medical', 'supported', 'sbbtmf', 'servers', 'Travel', 'SCBM', 'wave', 'chopper', 'result', 'Pays', 'elsewhere', 'celebrate', 'reliable', 'Got', 'gross', 'title', 'Citis', 'Cash', 'Aeon', 'rest', 'row', 'slides', 'extras', 'mymos', 'tmb', 'Banking', 'insisted', 'Oh', 'uid', 'criminals', 'guarantee', 'criteria', 'boyzana', 'SIN', 'firstshoe', 'EDC', 'met', 'pic', 'robots', 'goose', 'systems', 'lowincome', 'Use', 'dozens', 'lounge', 'retrieved', 'accidents', 'timeapps', 'screen', 'debit', 'chose', 'adjust', 'reentry', 'Guinea', 'screaming', 'counts', 'retransfer', 'distributed', 'conceived', 'waiting', 'Amortization', 'wear', 'mynxo', 'Khmers', 'Thais', 'threatening', 'KCyber', 'Really', 'compirmation', 'signature', 'disappeared', 'travel', 'MYMO', 'shoots', 'Edog', 'sent', 'dropped', 'fills', 'minimum', 'enrolling', 'Four', 'quit', 'Insurance', 'leader', 'stay', 'Kenzles', 'sitting', 'ah', 'districts', 'businesses', 'SPEEDY', 'reenter', 'requesting', 'Wise', 'nowI', 'KUSXNDQAA', 'amampnbspampnbspnbsp', 'Set', 'Trumooves', 'agriculture', 'savings', 'lighten', 'System', 'Elephant', 'oh', 'Panda', 'evening', 'September', 'crossing', 'matchI', 'kiosk', 'sorry', 'flat', 'advisors', 'po', 'begging', 'leaveofthehour', 'Facebook', 'Hall', 'Third', 'camp', 'appointment', 'accident', 'associated', 'Due', 'plans', 'router', 'Hong', 'bird', 'felt', 'Wallace', 'Seng', 'Sis', 'catch', 'linking', 'Reboot', 'uninstall', 'Taiwans', 'So', 'Not', 'semester', 'invested', 'muzzle', 'sympathetic', 'town', 'Suck', 'eveningnbsp', 'Chap', 'ghosts', 'Sin', 'deceiving', 'heavy', 'dying', 'manages', 'vs', 'nothing', 'blacklist', 'Excited', 'insecure', 'karma', 'multipurpose', 'tip', 'Tips', 'office', 'dealer', 'dick', 'raisin', 'hours', 'times', 'loosens', 'expected', 'Outpost', 'funds', 'VPN', 'Done', 'CIMB', 'moved', 'fell', 'trunk', 'count', 'Mel', 'tow', 'Premium', 'photo', 'TG', 'sucked', 'hearing', 'emptyhanded', 'Equil', 'toss', 'indifferent', 'lote', 'cupboards', 'assessment', 'delivered', 'decade', 'keeps', 'Onerek', 'Student', 'stuck', 'importantly', 'roundI', 'complaint', 'best', 'Thost', 'authenticated', 'weeks', 'Tru', 'reimbursed', 'infinite', 'cannot', 'displayed', 'qr', 'httpswwwcimbthaicomthpersonalproductscardsdebitchipcardsDebitvisaDigitalSaving', 'reconsider', 'reservations', 'forgive', 'httpstcoEQqLRvzJOR', 'staying', 'agoda', 'meafter', 'Amazon', 'PLATINUM', 'ununuchisa', 'recorded', 'Man', 'misunderstood', 'KbankLive', 'opportunity', 'gmarket', 'Powerbuy', 'deliver', 'scratching', 'inquiries', 'berryzbii', 'extending', 'checkpoints', 'evaluated', 'matter', 'Asia', 'remedy', 'appbased', 'ownership', 'motherbaton', 'index', 'rubber', 'refueling', 'Uobs', 'Among', 'trips', 'Bass', 'Spedylond', 'Love', 'Rungruang', 'Patz', 'Card', 'RatchaSun', 'EUR', 'Food', 'mainstream', 'calculated', 'permanently', 'aliay', 'Mostly', 'ready', 'executives', 'deceived', 'cabinets', 'international', 'Panishan', 'KRW', 'birth', 'confusedly', 'cimb', 'Whens', 'extends', 'NL', 'extra', 'motorcycle', 'wallets', 'longdistance', 'Practice', 'Come', 'Been', 'Tucchats', 'probably', 'visas', 'AirAsia', 'Aliexpress', 'take', 'cross', 'cons', 'good', 'Rajohin', 'Wisdoms', 'Expired', 'deduction', 'topic', 'Bangkoks', 'estate', 'goes', 'Rescue', 'Superrich', 'inconvenience', 'Interest', 'twoday', 'Sukhothai', 'tired', 'French', 'Mission', 'fivemonth', 'VAT', 'mi', 'done', 'Tried', 'thsnbspnbsp', 'millionmonth', 'lack', 'texts', 'considered', 'Pass', 'literarydinsor', 'pattern', 'silver', 'Miracle', 'die', 'Yume', 'KTCs', 'Stingy', 'Premier', 'af', 'cashbacks', 'Netflix', 'agent', 'Clear', 'blaming', 'downtown', 'purpose', 'military', 'Av', 'bro', 'battle', 'dessert', 'ConsRefill', 'happen', 'Tour', 'failed', 'Grand', 'able', 'sold', 'concert', 'BTS', 'Personally', 'Cp', 'appnbspnbsp', 'ndid', 'secured', 'BL', 'Amannys', 'venting', 'bound', 'upgrade', 'painter', 'addin', 'coownership', 'yesterday', 'Bay', 'ballet', 'Dmudo', 'Chats', 'rock', 'posts', 'KrungthaiCare', 'tying', 'Rama', 'fool', 'choosing', 'cut', 'Angkid', 'stick', 'ancient', 'belongs', 'In', 'counted', 'Longer', 'job', 'jar', 'incorrect', 'gold', 'sue', 'parking', 'Flexi', 'Peak', 'Ewang', 'trusted', 'commercials', 'Approximately', 'bettervery', 'trunks', 'informs', 'lunch', 'Xin', 'viewed', 'depend', 'purchase', 'DB', 'manually', 'move', 'username', 'pending', 'asking', 'luckily', 'adobe', 'Sriyutthaya', 'develop', 'direct', 'TOT', 'fuss', 'midday', 'single', 'ad', 'QARCOCH', 'kesavings', 'Aww', 'sum', 'yen', 'yordyings', 'improvements', 'Protection', 'filetypes', 'Doraemon', 'taxpayer', 'IDd', 'similar', 'sadly', 'commissioner', 'Kon', 'www', 'serveampnbspampnbsp', 'BaSss', 'midmonth', 'blog', 'citybank', 'mothers', 'Panishi', 'itIll', 'Marvins', 'Beyond', 'message', 'report', 'payin', 'Intreovert', 'via', 'somewhere', 'approves', 'Mai', 'PORT', 'loop', 'SR', 'excuse', 'sirotek', 'decline', 'allI', 'updatingIve', 'Mind', 'Dunno', 'Hmmm', 'swinging', 'interests', 'membership', 'Unnis', 'promote', 'Bache', 'Colcenter', 'Royal', 'everyones', 'closer', 'flying', 'wrong', 'perfect', 'Commercial', 'Nowadays', 'houses', 'Mall', 'Where', 'book', 'curious', 'GMarket', 'files', 'whatever', 'krungsri', 'hull', 'Insti', 'collect', 'Immediate', 'MRT', 'Krungthai', 'trmb', 'Abalone', 'seating', 'finishing', 'noti', 'Doing', 'Departments', 'dividend', 'Diamond', 'brok', 'viu', 'Closing', 'losing', 'Change', 'Confirmed', 'PVD', 'Amanny', 'paint', 'Mega', 'Toyota', 'fingerprints', 'Assistance', 'us', 'books', 'Dolfinampnbspnbsp', 'All', 'surprise', 'together', 'stepped', 'become', 'lifestyles', 'center', 'Demean', 'higher', 'saved', 'autostatement', 'loaned', 'typically', 'Wait', 'Although', 'tmbbankcomcardscreditcardstmbsosmartcardhtmlhtml', 'access', 'Sept', 'limit', 'Charge', 'Sahapat', 'Songkain', 'Thonshat', 'RMF', 'nomination', 'editorial', 'GSB', 'comments', 'needs', 'Blackpink', 'BE', 'trying', 'Main', 'color', 'false', 'memory', 'lose', 'exams', 'tracking', 'Sms', 'suggestion', 'equipment', 'Wdf', 'rate', 'grab', 'music', 'BAAC', 'knocking', 'decided', 'aim', 'mall', 'rent', 'shows', 'KBANK', 'papers', 'Kplus', 'properly', 'USA', 'replacement', 'izei', 'request', 'TMBALLFREE', 'Town', 'Customer', 'suitcase', 'succeeded', 'embarrassed', 'understanding', 'Payrolls', 'cases', 'switched', 'Taiwan', 'victim', 'presssumm', 'answers', 'Mom', 'otp', 'press', 'today', 'TMB', 'exempted', 'cannbsp', 'kerry', 'States', 'VCI', 'Waves', 'settlement', 'advisornbspnbsp', 'measure', 'many', 'living', 'hacking', 'repay', 'ThaiPay', 'IM', 'Project', 'Mon', 'winning', 'Swish', 'private', 'depositremoved', 'locations', 'sleepy', 'write', 'agency', 'sbbs', 'promoted', 'backwards', 'nervous', 'deal', 'banner', 'Meat', 'Luckily', 'load', 'Fuck', 'partner', 'registration', 'picture', 'Umay', 'remember', 'inflation', 'superspecial', 'registers', 'receptionist', 'Bosch', 'known', 'long', 'watch', 'ME', 'gray', 'professional', 'ume', 'compromise', 'net', 'NAV', 'Petchbun', 'medium', 'hacker', 'bills', 'brighter', 'slobbering', 'entered', 'websites', 'driver', 'increase', 'witness', 'recommending', 'accountant', 'Could', 'cancelling', 'Selling', 'Suitable', 'overwhelmed', 'fingers', 'Sign', 'nearby', 'review', 'kcl', 'suggests', 'copies', 'Payy', 'kidney', 'reference', 'Page', 'PRICE', 'wheels', 'Talk', 'example', 'Walletpost', 'opens', 'fifth', 'provide', 'Year', 'BC', 'corrected', 'replyKrungthaiThaiKrungthaiCarre', 'helping', 'wasted', 'among', 'tfx', 'pwittaya', 'juristic', 'offthesite', 'mg', 'ringing', 'Filling', 'Jakarin', 'foster', 'near', 'KBankWhy', 'boxes', 'Berutinomati', 'mortgageInquiring', 'iPad', 'Lets', 'recover', 'inquiry', 'Sorry', 'reboot', 'escaping', 'Renovated', 'rhinoz', 'ATMCurrent', 'told', 'meal', 'Preliminary', 'demanding', 'according', 'smile', 'Thaks', 'guzen', 'ignoring', 'Thanshat', 'rely', 'Tisco', 'deals', 'Bridge', 'allows', 'collects', 'yeah', 'Shop', 'Thailandnbspnbsp', 'failure', 'although', 'Tablet', 'germs', 'bounce', 'dialed', 'Taxi', 'Visa', 'slot', 'fall', 'phones', 'provider', 'identify', 'explain', 'inefficient', 'CPALL', 'term', 'epayment', 'noonzaramjamksp', 'stop', 'pressed', 'tax', 'CC', 'realize', 'voting', 'state', 'bug', 'rewarded', 'flow', 'Silver', 'countries', 'Vvo', 'farming', 'Nonbook', 'Thks', 'activities', 'things', 'umbrella', 'rush', 'problemsother', 'ios', 'era', 'mymo', 'Dan', 'DTAC', 'Sales', 'tourpass', 'hidden', 'turn', 'caused', 'explains', 'snacks', 'KTB', 'Bankurl', 'counters', 'entrance', 'People', 'Tickets', 'authenticating', 'apply', 'Drawstring', 'hope', 'baht', 'OT', 'depressing', 'logic', 'con', 'Amex', 'cute', 'Sim', 'hardworking', 'taught', 'Initially', 'due', 'jars', 'authorities', 'phoenix', 'advantages', 'Nations', 'Ttb', 'auntie', 'buysales', 'kicked', 'put', 'Opened', 'catches', 'normally', 'quietly', 'Benk', 'premier', 'pasted', 'nbspnbspk', 'Staff', 'wife', 'assuming', 'tmrw', 'ion', 'relevant', 'join', 'primer', 'kexpress', 'damage', 'hed', 'root', 'removed', 'minutes', 'king', 'salesman', 'developed', 'Macrow', 'loosened', 'Finanzian', 'port', 'account', 'Takdam', 'managerampnbspampnbsp', 'picks', 'compared', 'advertising', 'Top', 'Who', 'career', 'MobileK', 'countryside', 'summarize', 'stalkers', 'slight', 'borrow', 'Sass', 'Honda', 'transition', 'bothers', 'dca', 'Steaming', 'Recommended', 'Ubon', 'clothes', 'Tevez', 'prodigy', 'consent', 'hesitant', 'Anyway', 'missingappless', 'redund', 'queues', 'Master', 'Lastly', 'pisapim', 'boyfriends', 'steps', 'Id', 'checkout', 'hundreddollar', 'warrant', 'contains', 'period', 'place', 'Child', 'Buayan', 'closest', 'reject', 'id', 'evidence', 'Ill', 'convenience', 'Scbs', 'edc', 'TonsTweetings', 'refuses', 'clubs', 'Thong', 'alcohol', 'feelings', 'ocean', 'durable', 'Lanka', 'Seoi', 'activated', 'pressing', 'motherfucker', 'Nurse', 'Pa', 'Saving', 'electronic', 'huge', 'creditburo', 'aTM', 'Payed', 'Bitch', 'outbreak', 'documentation', 'lucky', 'noncarding', 'engrave', 'httpstcocphyywd', 'Thon', 'Financial', 'Somebody', 'luck', 'changed', 'Suckless', 'ATMdebit', 'offline', 'matches', 'SCBampnbspnbspAmex', 'enabled', 'Japanese', 'sky', 'fully', 'cheered', 'girl', 'omesin', 'spell', 'operate', 'timeMy', 'lag', 'daddy', 'appsEasku', 'Korea', 'Jobs', 'PeDPiPU', 'spins', 'carrying', 'bar', 'nbspampnbsp', 'Aeons', 'Ivra', 'AIRBNB', 'ahead', 'plant', 'EASY', 'Management', 'balance', 'BLACKPINK', 'Fighting', 'raising', 'rude', 'including', 'permission', 'tomorrows', 'units', 'No', 'algorithms', 'fuck', 'He', 'kplus', 'funded', 'honest', 'bankrupt', 'valued', 'unreachable', 'hundred', 'last', 'peoples', 'university', 'httpstcopDMUFkgREN', 'mix', 'Generalis', 'PayPay', 'sms', 'notices', 'Seil', 'Social', 'Colzts', 'QR', 'women', 'murder', 'burdens', 'Instead', 'road', 'smooth', 'point', 'applynbspnbsp', 'Lisa', 'popnidcha', 'Prapaipit', 'reregister', 'overpayment', 'lends', 'modernize', 'father', 'Google', 'happened', 'bail', 'Deduct', 'lost', 'Station', 'complain', 'Next', 'restart', 'puzzlesWhy', 'beat', 'scratched', 'commission', 'cashback', 'somnobless', 'offices', 'thaipanis', 'Marhahaha', 'Swift', 'Isnt', 'charges', 'lightly', 'secret', 'Tevin', 'coffee', 'Identity', 'slowest', 'Adisak', 'renovations', 'applicants', 'areas', 'Answer', 'taxing', 'Thainecks', 'overpay', 'What', 'complaining', 'bankIts', 'suspending', 'intrusion', 'Business', 'bunshee', 'Actually', 'Kbizcontactcenterkasikornbankcom', 'GWalletnbspnbsp', 'Tipyas', 'old', 'tsk', 'passport', 'ceiling', 'Saturdays', 'Military', 'talking', 'dizzy', 'timetable', 'student', 'schools', 'shitscrew', 'another', 'pttgc', 'Canal', 'Dr', 'Bahtnbspnbsp', 'creditor', 'behalf', 'prove', 'troops', 'Definitely', 'responding', 'Tmb', 'divided', 'misunderstanding', 'home', 'Trumoove', 'decorator', 'pull', 'covital', 'school', 'like', 'checked', 'Bahtnbsp', 'feeling', 'find', 'certain', 'installment', 'Ibank', 'places', 'Covid', 'customers', 'indicated', 'agents', 'profits', 'oneI', 'attendant', 'nagoya', 'wrote', 'KSME', 'investors', 'continued', 'parts', 'made', 'driving', 'lamer', 'supportive', 'slipon', 'requests', 'TT', 'Easypass', 'various', 'Kept', 'Japan', 'Prachinburi', 'water', 'itIve', 'circulate', 'halfway', 'memorized', 'netbank', 'worst', 'space', 'changes', 'cousin', 'fact', 'LH', 'workers', 'extension', 'classic', 'ThailandKrungthaiCare', 'processed', 'loved', 'high', 'modify', 'appreciate', 'Ck', 'display', 'Received', 'Manager', 'debitATM', 'NEXT', 'Seeing', 'advertised', 'clips', 'Kebank', 'emoji', 'cover', 'lowclass', 'advised', 'Whoever', 'Application', 'TeddyKung', 'Nae', 'phonenbspnbsp', 'training', 'dispenser', 'Thanks', 'postal', 'longterm', 'Save', 'scbsonline', 'asap', 'dark', 'Most', 'stalling', 'Speaking', 'villagers', 'detect', 'Tc', 'Smart', 'cares', 'acccount', 'dude', 'Between', 'hospitals', 'creditdebit', 'magnetic', 'trustworthy', 'update', 'float', 'TheChlxxx', 'receipts', 'COVID', 'With', 'owed', 'unmanned', 'text', 'Burrows', 'Deuty', 'yelled', 'wants', 'pigs', 'theres', 'fit', 'Kaakura', 'SCB', 'reviewing', 'luggage', 'tomorrow', 'attention', 'Number', 'Ordered', 'forcing', 'Banker', 'shuts', 'Global', 'Angry', 'sexy', 'chip', 'parent', 'wedge', 'Half', 'ET', 'fish', 'whos', 'Cashback', 'loophole', 'frame', 'scheduled', 'enforced', 'future', 'guidance', 'contents', 'disappears', 'jitta', 'bankthe', 'contactless', 'Plangpleng', 'sign', 'AEONTS', 'contractor', 'JLPT', 'credited', 'doubts', 'Month', 'LC', 'steam', 'pages', 'Suggested', 'nok', 'lie', 'list', 'annual', 'refilled', 'nights', 'attm', 'late', 'Chumsiri', 'Charged', 'Car', 'itll', 'inquiryer', 'health', 'com', 'competitive', 'Czechburo', 'Pro', 'Yesterday', 'dress', 'carranty', 'Section', 'peachizen', 'critical', 'Recommend', 'maybe', 'equal', 'KTEF', 'hundreds', 'Secondly', 'Ratchapat', 'cheaper', 'locals', 'drivers', 'institution', 'GHB', 'Nonthaburi', 'Sundays', 'fans', 'bouncing', 'Leasing', 'stolen', 'Unable', 'reaches', 'verifiedampnbspnbsp', 'distribution', 'SEB', 'obtained', 'speedy', 'cutting', 'world', 'Time', 'Remove', 'taxis', 'ATMDebit', 'slap', 'technologically', 'back', 'Cameras', 'Error', 'registered', 'serious', 'Bigc', 'spoken', 'hands', 'highinterest', 'Flow', 'Affirmation', 'oppo', 'Journey', 'conclusion', 'divide', 'backed', 'applying', 'painful', 'Bummer', 'Ickckckckckckck', 'requestsAnd', 'Simple', 'Inter', 'openers', 'humans', 'Shanghai', 'allocation', 'grey', 'Statement', 'Ume', 'malfunctioning', 'argue', 'feel', 'suit', 'Ayun', 'side', 'Isas', 'performance', 'seven', 'Ayutthaya', 'bedding', 'trading', 'Preferred', 'rice', 'clearer', 'helpful', 'star', 'Yong', 'bankslowly', 'Confounded', 'insists', 'merger', 'picked', 'confusing', 'nbspnbspnbsp', 'Product', 'Over', 'operation', 'Baht', 'growing', 'html', 'University', 'Thats', 'easier', 'forget', 'Step', 'Omini', 'pdf', 'DIFFERENT', 'Bun', 'Forget', 'KYC', 'pocket', 'Years', 'neck', 'Revenue', 'OneSiam', 'billed', 'subsidiary', 'Happy', 'Left', 'trend', 'quiet', 'advisable', 'TIP', 'autodeposit', 'Prawich', 'bunch', 'forced', 'party', 'matters', 'amends', 'later', 'shortterm', 'trapped', 'test', 'Scan', 'Arts', 'director', 'Cant', 'joke', 'onwards', 'conflict', 'mango', 'Reverend', 'stamps', 'whole', 'Samutprakarn', 'bringing', 'iBanking', 'submits', 'Front', 'sme', 'stays', 'ideology', 'Projects', 'restoring', 'petition', 'Nonstop', 'MBK', 'debitnbspnbsp', 'exception', 'printed', 'returned', 'Promo', 'Transferwise', 'price', 'buttercrimes', 'Mei', 'Wave', 'midOctober', 'weeps', 'knew', 'say', 'privately', 'closes', 'Chai', 'affiliate', 'sedans', 'blackeyed', 'expires', 'citbank', 'daughter', 'residence', 'philanthropy', 'sucking', 'calculations', 'billing', 'focus', 'experienced', 'ampnbspampnbsp', 'walks', 'officers', 'Authorities', 'complaints', 'solutions', 'iPhone', 'Finally', 'Heres', 'drag', 'Headquarters', 'ending', 'Pinchuo', 'Very', 'lotthog', 'filing', 'coded', 'holidays', 'Homicide', 'actually', 'Or', 'profile', 'noncard', 'organizer', 'reason', 'unspecified', 'buses', 'deducts', 'City', 'Ktb', 'irresponsible', 'bounced', 'Auto', 'National', 'bosss', 'mnptwt', 'everyday', 'hit', 'Pin', 'customer', 'deny', 'rotting', 'crap', 'acceptance', 'clicked', 'schedule', 'cant', 'notified', 'skbank', 'adjusts', 'past', 'excuses', 'SC', 'problemshut', 'Thoknbspnbsp', 'reminds', 'Unyong', 'District', 'bilwmecom', 'crown', 'retrieval', 'saving', 'deep', 'burrow', 'EOM', 'cashed', 'crashes', 'returns', 'states', 'Havent', 'raised', 'ppnnpp', 'bookbanks', 'sat', 'stuffing', 'Thainex', 'zeng', 'unfortunately', 'slip', 'forth', 'protection', 'sometime', 'icon', 'movies', 'Muang', 'wheres', 'Tuctic', 'pm', 'important', 'unpunished', 'ARKK', 'commercial', 'ree', 'ORDER', 'pension', 'Arumati', 'Symnet', 'Dx', 'SRI', 'Bangkok', 'pink', 'bankingmobile', 'Theyll', 'Turn', 'ThaiOmsin', 'specifically', 'spend', 'consulting', 'Paul', 'Verified', 'Scbeasyapp', 'werent', 'Hopefully', 'outpost', 'checklist', 'theater', 'insufficient', 'confident', 'visa', 'comfortableIm', 'original', 'Both', 'ate', 'Choose', 'tea', 'solo', 'Buy', 'Fundclick', 'speech', 'locked', 'four', 'problem', 'rating', 'menus', 'played', 'BO', 'Kcash', 'Keep', 'farmer', 'budget', 'Cancel', 'Suvarnabhumi', 'Something', 'expiration', 'Broke', 'paper', 'responsibility', 'Thai', 'diamonds', 'restarting', 'centerThe', 'hot', 'glad', 'Jan', 'jerk', 'twitter', 'Chinese', 'Grey', 'come', 'scratch', 'Colonel', 'look', 'SO', 'relieve', 'punched', 'admirable', 'expired', 'add', 'telling', 'cryptographer', 'improvement', 'citi', 'sit', 'forest', 'towing', 'rental', 'edition', 'attachment', 'cryptograph', 'product', 'Eaaw', 'Hmm', 'investor', 'silvers', 'systemautomatic', 'language', 'Menu', 'loaner', 'Reward', 'Bought', 'charging', 'accessed', 'theyll', 'Services', 'Yats', 'talk', 'floor', 'Thongchat', 'YOLO', 'however', 'extend', 'answer', 'EP', 'Moneys', 'close', 'improve', 'Gim', 'market', 'tend', 'editing', 'PLANET', 'Robinson', 'aunt', 'reducing', 'constraint', 'Help', 'INOX', 'Germany', 'great', 'alone', 'seen', 'Indy', 'SCBampnbspnbsp', 'Registration', 'Transfered', 'Army', 'redeeming', 'IPZPAYCOM', 'noticed', 'Citigold', 'Boss', 'believe', 'Nike', 'Unlike', 'dates', 'mydaotown', 'select', 'compete', 'Burirum', 'followed', 'Macondo', 'TMBs', 'barely', 'mediated', 'overcharged', 'burdensnbspnbsp', 'redme', 'paperwork', 'WiFi', 'secondhand', 'level', 'Platimun', 'indicates', 'thisIm', 'hair', 'Girls', 'plugs', 'Lottery', 'Kid', 'accused', 'Put', 'Money', 'childrens', 'flexi', 'airpay', 'ass', 'Trade', 'plantscb', 'constraints', 'certification', 'hosts', 'YouTrip', 'login', 'Future', 'cashiers', 'paychecks', 'accept', 'nearly', 'required', 'intake', 'legs', 'quickly', 'ontop', 'conversations', 'incredibly', 'noe', 'barracks', 'notIts', 'entry', 'todayweek', 'shot', 'Buuluang', 'termite', 'abbreviated', 'Chalida', 'Skull', 'SRIs', 'compilation', 'Chanathamakhon', 'reapplying', 'inexpensive', 'authenticates', 'announced', 'erm', 'usually', 'Fortunately', 'Contacted', 'Prestige', 'NooLekMeekPooH', 'refresh', 'manners', 'fooling', 'Senlad', 'Terikyu', 'openings', 'bought', 'Rate', 'alongIve', 'accounted', 'Youve', 'Toss', 'filming', 'UOBs', 'applicant', 'making', 'dry', 'young', 'suggest', 'voila', 'bummer', 'Se', 'sooner', 'Pearl', 'Connectics', 'trick', 'playing', 'neednbspnbsp', 'Tonight', 'cineplex', 'asshole', 'treating', 'Wipada', 'company', 'drama', 'ground', 'IDs', 'starters', 'kicking', 'Also', 'Bag', 'allnbspnbsp', 'Embassy', 'KTC', 'Our', 'UI', 'Shake', 'Zenem', 'lady', 'Updated', 'change', 'sugar', 'blackpink', 'Anybody', 'Advisor', 'sleep', 'KUSAAD', 'security', 'New', 'ampquot', 'went', 'final', 'shut', 'foreign', 'students', 'closed', 'confirmed', 'threemonth', 'Deducted', 'even', 'Dropshipping', 'dads', 'PS', 'website', 'Reloaded', 'sweet', 'truemoney', 'AP', 'nbspnbsp', 'charge', 'buyers', 'exceed', 'premium', 'ThaiUnited', 'trash', 'guaranteed', 'Barcode', 'UD', 'KMy', 'Are', 'billion', 'morningIm', 'Wed', 'leverage', 'verify', 'Mymo', 'door', 'invitation', 'green', 'pros', 'cheating', 'theatre', 'Round', 'makes', 'condo', 'holidaysThis', 'Thomps', 'Successful', 'LINE', 'morning', 'merge', 'cycle', 'checks', 'An', 'throwing', 'BRs', 'Amezon', 'Backup', 'analyze', 'prints', 'minutesThank', 'Thailand', 'rema', 'forgotten', 'Cos', 'companies', 'plug', 'rated', 'Yongmus', 'atms', 'Gigoi', 'poison', 'pop', 'arties', 'yellow', 'lungs', 'easy', 'grow', 'Booked', 'Tbank', 'enrolled', 'begs', 'Close', 'print', 'holder', 'linked', 'Klocenter', 'CoffeeMateZTwinkleproud', 'Syria', 'pin', 'graduated', 'meonK', 'leave', 'Slip', 'children', 'Sale', 'channel', 'transport', 'refund', 'Coordinates', 'crossbank', 'Hello', 'bruised', 'Passed', 'control', 'Any', 'passwords', 'Still', 'Applying', 'ARK', 'passengers', 'Importantly', 'arrow', 'anyones', 'reported', 'attached', 'moms', 'imported', 'busmen', 'Plug', 'unknown', 'Somphon', 'KTBs', 'Chiang', 'Locke', 'tops', 'picky', 'marketers', 'Bgrade', 'Agoda', 'holders', 'cheapest', 'Ah', 'digit', 'Fleet', 'Karen', 'nice', 'Zeng', 'Kong', 'inconvenient', 'method', 'reentered', 'twenty', 'also', 'npl', 'broken', 'hassles', 'userfriendly', 'plane', 'respectively', 'bongtao', 'Users', 'less', 'AUD', 'scbplanet', 'Airways', 'chromosomes', 'burns', 'confirmation', 'stupid', 'crowded', 'fb', 'Thanaca', 'win', 'wasting', 'headache', 'wav', 'lame', 'badass', 'Small', 'send', 'TRADE', 'contract', 'Lone', 'said', 'Contact', 'Ya', 'agreement', 'figure', 'host', 'copying', 'Savings', 'Found', 'license', 'bike', 'socket', 'enough', 'realized', 'switch', 'YouTube', 'Wah', 'Freaky', 'Hold', 'Wheres', 'loading', 'sends', 'fear', 'Bill', 'My', 'slots', 'throughout', 'requires', 'sbbscustomersservicescbcoth', 'apologized', 'brew', 'Bureau', 'safe', 'constant', 'Hokkaido', 'briven', 'Shot', 'clams', 'backtoback', 'Sodax', 'generated', 'says', 'December', 'plate', 'allDoing', 'gives', 'Quality', 'easiest', 'nonincome', 'precious', 'Demeanor', 'chances', 'donation', 'Valet', 'happiness', 'barf', 'repair', 'named', 'finance', 'Siietongkum', 'overseas', 'registering', 'citys', 'affect', 'krungthai', 'ktcs', 'see', 'Alert', 'compare', 'Trust', 'Ourleeedixxx', 'transfered', 'One', 'unlike', 'bribes', 'mean', 'covered', 'batteries', 'analysis', 'isnt', 'pushing', 'organized', 'jaymart', 'cantnbsp', 'working', 'ended', 'could', 'fits', 'juz', 'Beach', 'BEC', 'disabled', 'waive', 'DEA', 'collection', 'November', 'Thongsepee', 'Nbspnbsp', 'collapse', 'SMSEmail', 'SA', 'confusedI', 'True', 'Prairie', 'rescheduled', 'immediate', 'kebank', 'worry', 'cos', 'offering', 'install', 'Ask', 'Read', 'scanning', 'funeral', 'bahtnbspnbspfor', 'pong', 'mother', 'Port', 'Remedy', 'Deductor', 'reinstitutes', 'exclude', 'exchange', 'matched', 'hoursI', 'Load', 'loses', 'hijacking', 'cheat', 'effect', 'twice', 'top', 'law', 'Review', 'SD', 'Sianz', 'agreed', 'document', 'offshore', 'Take', 'bags', 'away', 'burden', 'features', 'walletnbspnbsp', 'postpone', 'Dental', 'screwed', 'held', 'behaved', 'scbam', 'rmf', 'Conglosha', 'Asked', 'temporarily', 'Abbey', 'Counter', 'form', 'yes', 'completes', 'queueing', 'removing', 'Peys', 'thinking', 'covering', 'grownup', 'countrys', 'care', 'KW', 'purple', 'platinumlevel', 'Summary', 'dont', 'Consumers', 'broker', 'negotiating', 'downloaded', 'scan', 'fathers', 'ttb', 'Sari', 'confidence', 'success', 'infuses', 'authorization', 'BLACKPINKFANMEETING', 'determine', 'reviewsIm', 'httpskmyinvestkasikornbankcom', 'ba', 'Dolphin', 'mlive', 'reading', 'Complete', 'DC', 'curves', 'endtoend', 'Morgaged', 'Bou', 'presses', 'days', 'notification', 'accidentally', 'sim', 'xpress', 'combined', 'hits', 'Tip', 'Real', 'Boom', 'careful', 'Kowig', 'Push', 'listen', 'Kowid', 'penny', 'UOB', 'cutter', 'Box', 'allfree', 'eventually', 'Sbito', 'sort', 'Home', 'scbnbspnbsp', 'solution', 'facial', 'spready', 'address', 'ts', 'amount', 'October', 'bedridden', 'Yeah', 'well', 'prevent', 'truth', 'curse', 'Invest', 'worth', 'snoopy', 'auditors', 'payment', 'August', 'forgets', 'sink', 'model', 'marketing', 'Ryla', 'saturday', 'doesnt', 'Bronx', 'Jaymart', 'sisters', 'Condonanda', 'wired', 'jcb', 'Tomorrow', 'speed', 'promptcardMasterCard', 'starts', 'neutral', 'Family', 'midsecret', 'idea', 'authentic', 'means', 'TC', 'dealing', 'EMAIL', 'autonomous', 'Accounts', 'found', 'Payment', 'love', 'unscanned', 'electric', 'apart', 'paying', 'Commerce', 'suddenly', 'Platinum', 'Thos', 'slider', 'business', 'korean', 'wheeled', 'Atm', 'Because', 'topup', 'minus', 'adjustable', 'clean', 'Oil', 'mornings', 'mules', 'rewards', 'siwiam', 'repayment', 'Chan', 'finances', 'Purchased', 'How', 'Treasury', 'standing', 'cardsnbspnbsp', 'bubble', 'succumb', 'bhWhen', 'malls', 'Robin', 'storage', 'Dont', 'Day', 'Mike', 'loads', 'Chantburi', 'wondering', 'swiped', 'countIm', 'ways', 'almost', 'swipes', 'Yearly', 'juurney', 'Lek', 'Rede', 'directs', 'Privilege', 'deposition', 'sir', 'shopee', 'national', 'counsel', 'logins', 'two', 'Expire', 'accessing', 'Kcyber', 'That', 'usdampnbspnbspnbsp', 'Quick', 'bugo', 'delivery', 'sleeper', 'resolved', 'marriage', 'ref', 'Scanning', 'Yu', 'higherbuyer', 'TK', 'game', 'seized', 'SQ', 'Tess', 'TMRW', 'ThailandOmsin', 'January', 'planning', 'wow', 'Ampquot', 'Australia', 'receipt', 'allocated', 'Leave', 'hung', 'movement', 'Registrar', 'highly', 'started', 'younbspnbsp', 'status', 'showed', 'Dec', 'expressway', 'Sch', 'Amymo', 'release', 'advice', 'updated', 'packages', 'laterIm', 'perform', 'connecting', 'building', 'disturbed', 'mail', 'birthday', 'walkie', 'App', 'receiving', 'Life', 'longest', 'havent', 'Zhaprad', 'Pay', 'workkma', 'particular', 'swords', 'purchasesales', 'originally', 'Nomuras', 'responsible', 'capitals', 'section', 'development', 'format', 'Ion', 'income', 'subsidy', 'reader', 'Wongsiwat', 'officebank', 'unregistered', 'Dismiss', 'theplanet', 'Running', 'Precious', 'Gru', 'android', 'passed', 'urgent', 'Has', 'misinformation', 'Refinancing', 'sparey', 'group', 'occurs', 'calendar', 'balances', 'draft', 'providers', 'ofnbsp', 'simplicity', 'geneyan', 'againAll', 'keeping', 'Paragon', 'ow', 'PAYROLL', 'per', 'embezzlement', 'blurred', 'intends', 'bored', 'design', 'hanging', 'Don', 'never', 'develops', 'documented', 'insured', 'lik', 'Apache', 'small', 'debts', 'respect', 'help', 'Transferred', 'available', 'hard', 'gift', 'Scb', 'consultation', 'yanks', 'bluenbspnbsp', 'inquired', 'stateowned', 'Last', 'And', 'interest', 'uncomfortable', 'min', 'Again', 'Mother', 'Dadadada', 'Suddenly', 'mooring', 'joint', 'response', 'Luang', 'debited', 'default', 'eligible', 'unstable', 'damned', 'disconnect', 'reimbursement', 'Touch', 'June', 'recommendation', 'Guarantee', 'dogs', 'bounces', 'appscb', 'elses', 'overpayed', 'pledging', 'apple', 'cardsHuh', 'menu', 'Wall', 'tablet', 'brand', 'Ieves', 'pissed', 'reception', 'passregistration', 'paved', 'lotteries', 'next', 'âa', 'different', 'instructions', 'Netherlands', 'Ap', 'withdrawal', 'latenight', 'Convenient', 'Notification', 'freelance', 'friend', 'trees', 'happens', 'approved', 'proof', 'receives', 'reasons', 'Verify', 'mermorandum', 'Si', 'laugh', 'ODs', 'shocked', 'spread', 'task', 'crying', 'FarSiDistantY', 'collaboration', 'couldnt', 'tofu', 'oo', 'whether', 'Ive', 'friends', 'opening', 'Spotify', 'crashed', 'flower', 'infected', 'programs', 'Questions', 'Omsins', 'vacation', 'loan', 'Rum', 'Signa', 'Volet', 'PepoHimma', 'Vat', 'restructuring', 'Accounting', 'bucketapple', 'Plus', 'Start', 'impressed', 'scam', 'Unionpay', 'Connect', 'shouldnt', 'receive', 'worried', 'main', 'Alienz', 'Retention', 'mistake', 'users', 'krungthaiNext', 'official', 'family', 'wouldnt', 'wonder', 'initial', 'coth', 'Airpay', 'Ministers', 'moving', 'improving', 'Aom', 'colors', 'Hood', 'rebtel', 'blacklisted', 'learning', 'traveling', 'May', 'sites', 'flash', 'ones', 'Nmax', 'ruthless', 'heard', 'taxes', 'overnbsp', 'completely', 'debt', 'Repository', 'avoid', 'admiring', 'sixmonth', 'commented', 'BOI', 'disable', 'Tesco', 'chunk', 'Kanchanaburi', 'lives', 'peaks', 'version', 'bugged', 'zh', 'cancels', 'shared', 'Saturdayweek', 'trade', 'approval', 'Safe', 'puzzling', 'User', 'autograph', 'Other', 'described', 'rural', 'exactly', 'Im', 'reschedule', 'Division', 'shit', 'Rijing', 'bloody', 'crammed', 'expect', 'focused', 'wind', 'irregularity', 'courage', 'responses', 'fee', 'bitIm', 'mad', 'wits', 'Solitaire', 'antibiotics', 'sales', 'wisdom', 'stalking', 'Clearing', 'DOC', 'oncredit', 'pig', 'reopened', 'estimates', 'topnotch', 'DEBIT', 'yearlyIf', 'papal', 'selection', 'adline', 'lane', 'TU', 'quick', 'Retired', 'phonenet', 'support', 'Now', 'non', 'Sure', 'quote', 'Until', 'hello', 'refinan', 'poured', 'fair', 'lowest', 'ridiculous', 'shed', 'Sending', 'trip', 'convince', 'Emquatier', 'projects', 'minute', 'MAKE', 'systemI', 'Using', 'traded', 'Only', 'mom', 'circulating', 'sudden', 'Corcenter', 'approve', 'damaged', 'According', 'andor', 'database', 'Focus', 'slide', 'lonely', 'cycles', 'domestic', 'bases', 'sale', 'BUG', 'Apples', 'exist', 'oldest', 'eightandahalf', 'tonbspnbsp', 'Stm', 'MewtyBear', 'BAY', 'finish', 'Ram', 'hospot', 'uobs', 'MAKEUPS', 'comfort', 'city', 'meeting', 'phone', 'expands', 'search', 'discredited', 'payer', 'overlight', 'safer', 'Asset', 'taken', 'protect', 'overall', 'imfai', 'Question', 'Then', 'rushed', 'essay', 'Absolute', 'Maladkrabang', 'Pronet', 'score', 'connects', 'Suwankhun', 'smoothly', 'much', 'PromptPay', 'correct', 'MasterCard', 'foreigners', 'authenticate', 'records', 'Bush', 'household', 'prior', 'accordingly', 'japan', 'thing', 'groups', 'divrari', 'management', 'afternoon', 'get', 'deleted', 'Checking', 'shops', 'Company', 'pt', 'Once', 'weight', 'crew', 'Foodpanda', 'incomplete', 'paid', 'Waiting', 'carefully', 'reloading', 'ha', 'Amobile', 'messenger', 'Better', 'Tha', 'Byebye', 'go', 'time', 'previous', 'Aw', 'Wrong', 'redo', 'Dreamsaving', 'Buri', 'cardnbspnbsp', 'thos', 'abalones', 'Comico', 'Week', 'debitcredit', 'Macro', 'descriptive', 'NZD', 'summed', 'annoyances', 'wire', 'KTM', 'Fundflow', 'focusing', 'gsb', 'rented', 'ac', 'follows', 'window', 'falls', 'tuition', 'following', 'feature', 'wiser', 'modern', 'JourneyBut', 'goohaha', 'gym', 'correlate', 'ruined', 'deposited', 'gateway', 'falling', 'kjourney', 'figured', 'WOW', 'drawing', 'overhead', 'Spend', 'Ratsaenmueang', 'approvalBut', 'Group', 'girlfriends', 'multiple', 'ACCOUNT', 'Theres', 'story', 'Thaipae', 'As', 'digital', 'deduct', 'risky', 'joys', 'values', 'While', 'signal', 'ride', 'hasslefree', 'stabuck', 'payroll', 'shares', 'symbol', 'transfering', 'warned', 'Trumans', 'gas', 'Bring', 'unable', 'puts', 'least', 'thats', 'owners', 'England', 'weigh', 'copy', 'scbx', 'insurance', 'retailexport', 'permanent', 'decide', 'flatinum', 'idiot', 'comfortable', 'sincerely', 'Chanel', 'supports', 'accounts', 'Lt', 'yesterdays', 'renewed', 'since', 'tour', 'KBankLive', 'Seriously', 'airAsia', 'fines', 'legal', 'UK', 'endofthetown', 'withdrawals', 'hire', 'OTP', 'Call', 'blank', 'match', 'internet', 'appear', 'closet', 'division', 'ease', 'present', 'aert', 'eg', 'ibanking', 'classify', 'Speedy', 'German', 'Reason', 'Refinance', 'Mars', 'identity', 'delays', 'incorrectly', 'cell', 'answering', 'dream', 'extended', 'Twitter', 'mask', 'Jesus', 'continuous', 'pictures', 'let', 'easily', 'Stop', 'airasia', 'adjustment', 'seemed', 'nation', 'filling', 'transferee', 'signed', 'everyone', 'scbscbscbscbscbscbscbscbscbsc', 'Gastor', 'Frog', 'roaming', 'attractive', 'Wei', 'Klangsenna', 'Basically', 'baffling', 'AOT', 'Ipad', 'Agriculture', 'save', 'often', 'prestige', 'drop', 'Give', 'Minister', 'Chanoknan', 'pickup', 'muchThe', 'Weply', 'runs', 'Run', 'parties', 'Going', 'box', 'Heavy', 'redundant', 'Failure', 'shoot', 'immediately', 'benefits', 'detac', 'frankly', 'wfh', 'erased', 'fryer', 'WDP', 'every', 'baby', 'pro', 'practical', 'identifiers', 'provides', 'typical', 'scbthailandloveWithBBH', 'neededIve', 'push', 'arent', 'incident', 'burro', 'Ravel', 'apps', 'cleared', 'online', 'Used', 'Hurry', 'Online', 'break', 'respond', 'Free', 'points', 'requirements', 'APP', 'details', 'assume', 'residents', 'earned', 'anywhere', 'volumes', 'fashion', 'richer', 'areaRating', 'TE', 'Version', 'episodes', 'Banshee', 'expense', 'counting', 'gen', 'Assuming', 'eaten', 'morss', 'shitty', 'opportunities', 'affecting', 'Bang', 'within', 'contacts', 'laa', 'Credit', 'rabbit', 'pod', 'Someone', 'terminal', 'phoneID', 'approveable', 'sympathize', 'troubled', 'Dolfin', 'Seedy', 'disappointing', 'duress', 'VIP', 'tricked', 'tightened', 'kid', 'blocks', 'server', 'overpriced', 'limitA', 'extremely', 'appThis', 'room', 'payments', 'Kev', 'policy', 'overwhelming', 'Should', 'series', 'sucksx', 'Pump', 'NZ', 'toxic', 'odd', 'satisfactory', 'regular', 'thawisupcom', 'Noquotgtgt', 'fined', 'GSCIMB', 'email', 'signing', 'embassy', 'walker', 'insurances', 'reach', 'emergency', 'fill', 'Lott', 'differences', 'hurts', 'Ann', 'raise', 'Afscb', 'comaFjApKPmtg', 'news', 'device', 'periods', 'inform', 'willing', 'feared', 'notifying', 'ewallet', 'Youll', 'Saturday', 'calls', 'everywhere', 'Subscribe', 'paynbspnbsp', 'deposit', 'maps', 'Lose', 'Cupp', 'BECs', 'dial', 'claims', 'pay', 'misplaced', 'Nov', 'snack', 'bitcoin', 'calculation', 'Telephone', 'Cards', 'Mar', 'dangerous', 'posting', 'Contactless', 'Kbankx', 'program', 'nuts', 'measures', 'remind', 'dollars', 'born', 'messiness', 'None', 'responds', 'appliedIm', 'KrungthaiCarre', 'seedy', 'potential', 'Major', 'wed', 'allKTC', 'Squad', 'five', 'mine', 'thread', 'bblam', 'stands', 'Admin', 'Plat', 'Ouch', 'finding', 'Citi', 'First', 'around', 'replied', 'clearing', 'ahold', 'BEM', 'For', 'reward', 'OM', 'PLUS', 'scared', 'tripled', 'unusual', 'retina', 'backups', 'lasts', 'specified', 'Payne', 'blow', 'unemployed', 'monthlyyear', 'house', 'fighting', 'network', 'debitscb', 'stopped', 'street', 'clutter', 'crosscountry', 'Peoples', 'pick', 'mediumsized', 'shipment', 'releases', 'intend', 'sucks', 'moyaya', 'processing', 'vending', 'Banscb', 'scores', 'fifteen', 'freeze', 'tonight', 'Thugs', 'SHOCK', 'minds', 'installed', 'built', 'Stable', 'cheque', 'Automatically', 'decades', 'itch', 'Street', 'Request', 'bad', 'western', 'view', 'based', 'binding', 'stocks', 'administrators', 'reimbursing', 'Sirilak', 'resign', 'Choppy', 'Hes', 'Without', 'withdrawing', 'coupon', 'doors', 'would', 'badit', 'patents', 'Everyone', 'DCA', 'hero', 'eyes', 'Inbox', 'balancing', 'nvr', 'assurance', 'providing', 'early', 'kmekluvyw', 'stored', 'abbreviation', 'site', 'postponed', 'cool', 'Lisas', 'meets', 'itua', 'feestaxes', 'applications', 'sued', 'ends', 'favorite', 'aba', 'fixing', 'Note', 'included', 'functions', 'procedures', 'PhD', 'Working', 'transferers', 'co', 'case', 'Bbl', 'think', 'suggested', 'looks', 'someone', 'Torrong', 'KeSaving', 'value', 'Officer', 'scbeasy', 'super', 'aware', 'includes', 'orange', 'independence', 'ThaiNet', 'turns', 'editor', 'Tmbs', 'These', 'wallet', 'margin', 'ADM', 'Autobots', 'choice', 'brogues', 'pawn', 'basis', 'canceling', 'Lock', 'tricky', 'try', 'fastest', 'Sit', 'bumper', 'bending', 'uhhuh', 'Robo', 'promotional', 'youd', 'provided', 'located', 'calling', 'taking', 'At', 'Bangkokkaya', 'recovering', 'HttpstcoYCjslQvbHO', 'cost', 'seem', 'automatic', 'handed', 'line', 'rejection', 'tiring', 'Billing', 'Rejected', 'Burmese', 'detained', 'directors', 'recommends', 'Gold', 'Europe', 'intending', 'Rela', 'valuable', 'hes', 'Tuatm', 'freezes', 'fourth', 'suction', 'problems', 'NVDR', 'rop', 'Lppbh', 'March', 'vineyards', 'owned', 'behind', 'brain', 'cap', 'follow', 'amonnys', 'Strange', 'uses', 'start', 'bankI', 'progress', 'rates', 'youre', 'Play', 'publish', 'Second', 'Ions', 'Ratchaburi', 'checker', 'operating', 'oilfree', 'rabbbit', 'Sitting', 'items', 'temporary', 'plus', 'Reading', 'numerous', 'written', 'Rai', 'choose', 'caretaker', 'Freelance', 'reviews', 'PTTEP', 'bots', 'vicviickiexz', 'urlOmsin', 'cardscredit', 'airline', 'jail', 'automation', 'Mr', 'exam', 'Luxe', 'Bankers', 'paypal', 'inmoney', 'rear', 'slips', 'grand', 'Sirets', 'Be', 'renovation', 'ampnbspnbsp', 'easytocontact', 'bond', 'regress', 'Of', 'instant', 'taetewyn', 'defective', 'Fine', 'meet', 'exchanging', 'proscons', 'concerned', 'soldiers', 'lifetime', 'Admins', 'commitment', 'mrt', 'Tak', 'Keptby', 'SIM', 'arranged', 'swipe', 'redelete', 'Fen', 'LETT', 'Mastercard', 'overpaying', 'Siri', 'position', 'smart', 'senior', 'bugs', 'Wisdom', 'sbb', 'checkin', 'orbuyer', 'borrowed', 'coins', 'BKampnbspnbsp', 'Grusrik', 'However', 'coordinate', 'deliveries', 'Thorough', 'owe', 'till', 'Octnbspnbsp', 'factor', 'chinese', 'got', 'PIN', 'blooms', 'margins', 'six', 'selfconsciousness', 'inserted', 'member', 'useless', 'dinner', 'bloom', 'active', 'proud', 'assets', 'court', 'outbreaks', 'frogs', 'explanation', 'peace', 'claim', 'Apapa', 'sre', 'staff', 'insist', 'warm', 'guarantees', 'Appointment', 'payrolls', 'reduced', 'doubt', 'launch', 'Livenbspnbsp', 'couple', 'one', 'fees', 'appSCB', 'glowing', 'krw', 'withdraw', 'recording', 'tasting', 'Meek', 'luxury', 'application', 'youtrip', 'heart', 'BCs', 'teaches', 'Write', 'yearly', 'bung', 'vialine', 'retransfered', 'handle', 'EOMS', 'Father', 'hells', 'pays', 'drink', 'skull', 'unremoved', 'Ost', 'Patriot', 'booking', 'cardsbillsmonths', 'withdrawn', 'randomly', 'JSecure', 'Easter', 'fax', 'finished', 'step', 'may', 'dedication', 'canned', 'uh', 'Steam', 'power', 'sqhsn', 'local', 'fight', 'XDs', 'sending', 'released', 'comparenbspnbspLH', 'CP', 'Joe', 'shrimp', 'along', 'seriously', 'avtm', 'ATS', 'wanted', 'gotten', 'Whats', 'chain', 'On', 'lotteriesBut', 'Cuwesa', 'track', 'God', 'activate', 'MOU', 'way', 'Currently', 'Confirmation', 'Thnakac', 'air', 'beyond', 'sound', 'handing', 'freenasus', 'received', 'contact', 'Client', 'thief', 'woken', 'impact', 'social', 'Investing', 'salt', 'obligations', 'Reply', 'cancel', 'To', 'King', 'touched', 'leaving', 'Doi', 'Click', 'enter', 'pantsnbsp', 'Line', 'Therefore', 'Hey', 'TTB', 'fix', 'thsnbsp', 'kinds', 'experience', 'dollar', 'SMs', 'process', 'work', 'weekend', 'Welcome', 'bank', 'summarized', 'entitled', 'Cute', 'Keplus', 'matching', 'Chase', 'mflow', 'live', 'luxe', 'designs', 'Closed', 'deeds', 'Bathong', 'Isus', 'scbsonlinecom', 'spot', 'weve', 'project', 'lets', 'negative', 'Kbiz', 'adjusted', 'crutches', 'delay'}\n"
          ]
        }
      ]
    },
    {
      "cell_type": "code",
      "source": [
        "#Encode each document as a sequence of integers\n",
        "tokenizer = Tokenizer()\n",
        "tokenizer.fit_on_texts(train_docs)\n",
        "encoded_docs = tokenizer.texts_to_sequences(train_docs)"
      ],
      "metadata": {
        "id": "N5FTbC2XC1DL"
      },
      "execution_count": 11,
      "outputs": []
    },
    {
      "cell_type": "code",
      "source": [
        "#as each sentences contain different length of words, we need padding to make the sequences the same length before\n",
        "#putting into the embedding layer\n",
        "max_length = max([len(s.split()) for s in train_docs])\n",
        "Xtrain = pad_sequences(encoded_docs, maxlen=max_length, padding='post')\n",
        "ytrain = np.array(train['Human_CategoryID'].tolist())"
      ],
      "metadata": {
        "id": "3YeDCItHEHYY"
      },
      "execution_count": 12,
      "outputs": []
    },
    {
      "cell_type": "code",
      "source": [
        "#do the same as train above for test\n",
        "encoded_docs = tokenizer.texts_to_sequences(test_docs)\n",
        "Xtest = pad_sequences(encoded_docs, maxlen=max_length, padding='post')\n",
        "ytest = np.array(test['Human_CategoryID'].tolist())"
      ],
      "metadata": {
        "id": "AJnuTHopELNp"
      },
      "execution_count": 13,
      "outputs": []
    },
    {
      "cell_type": "code",
      "source": [
        "#defind vocabulary size\n",
        "vocab_size = len(tokenizer.word_index) + 1"
      ],
      "metadata": {
        "id": "fCrq8FIoEk2o"
      },
      "execution_count": 14,
      "outputs": []
    },
    {
      "cell_type": "code",
      "source": [
        "#Count unique classes\n",
        "print(train['Human_CategoryID'].nunique(), test['Human_CategoryID'].nunique())"
      ],
      "metadata": {
        "id": "7XZgjKsuEk9C",
        "colab": {
          "base_uri": "https://localhost:8080/"
        },
        "outputId": "a55ca000-cfaf-49e2-c8c9-157c13c2796f"
      },
      "execution_count": 15,
      "outputs": [
        {
          "output_type": "stream",
          "name": "stdout",
          "text": [
            "13 13\n"
          ]
        }
      ]
    },
    {
      "cell_type": "code",
      "source": [
        "#Count unique classes\n",
        "num_classes = max(train['Human_CategoryID'].nunique(), test['Human_CategoryID'].nunique())\n",
        "print(num_classes)"
      ],
      "metadata": {
        "id": "km56RgrQE0nR",
        "colab": {
          "base_uri": "https://localhost:8080/"
        },
        "outputId": "ef55ef5d-72dc-41c8-f471-05239f59d4d9"
      },
      "execution_count": 16,
      "outputs": [
        {
          "output_type": "stream",
          "name": "stdout",
          "text": [
            "13\n"
          ]
        }
      ]
    },
    {
      "cell_type": "code",
      "source": [
        "from tensorflow.keras.utils import to_categorical\n",
        "\n",
        "#Multi class problems need one-hot encoding on y\n",
        "#why - 1 on ytrain and ytest? can follow the linke below\n",
        "#https://stackoverflow.com/questions/56204731/the-method-np-utils-to-categorical-give-me-an-error/59002957#59002957\n",
        "ytrain =  to_categorical(ytrain-1, num_classes=num_classes)\n",
        "ytest = to_categorical(ytest-1, num_classes=num_classes)"
      ],
      "metadata": {
        "id": "5AkwsOvEE0uS"
      },
      "execution_count": 17,
      "outputs": []
    },
    {
      "cell_type": "code",
      "source": [
        "vocab_size = len(tokenizer.word_index)+1"
      ],
      "metadata": {
        "id": "kxUHJzkyE2Cw"
      },
      "execution_count": 18,
      "outputs": []
    },
    {
      "cell_type": "markdown",
      "source": [
        "#Model"
      ],
      "metadata": {
        "id": "2Wcr5KxLE8W3"
      }
    },
    {
      "cell_type": "markdown",
      "source": [
        "##CNN LSTM GMP1D D13: 62"
      ],
      "metadata": {
        "id": "hVA-lL4TGJLB"
      }
    },
    {
      "cell_type": "code",
      "source": [
        "import tensorflow as tf\n",
        "from keras.models import Sequential\n",
        "from keras.layers.convolutional import Conv1D, MaxPooling1D\n",
        "from keras.layers.pooling import GlobalMaxPooling1D, AveragePooling1D, GlobalAveragePooling1D\n",
        "from keras.layers import Dense, Flatten, Embedding, BatchNormalization, Dropout, LSTM, Bidirectional, TimeDistributed"
      ],
      "metadata": {
        "id": "br4WQmIrG1S3"
      },
      "execution_count": null,
      "outputs": []
    },
    {
      "cell_type": "code",
      "source": [
        "#Define our model\n",
        "model = Sequential()\n",
        "\n",
        "model.add(Embedding(vocab_size, 100, input_length=max_length, trainable=True))\n",
        "model.add(Conv1D(filters=32, kernel_size=3, activation='relu'))\n",
        "model.add(LSTM(50, return_sequences=True))\n",
        "\n",
        "model.add(GlobalMaxPooling1D())\n",
        "model.add(Flatten())\n",
        "\n",
        "model.add(Dense(num_classes, activation='softmax'))\n",
        "print(model.summary())"
      ],
      "metadata": {
        "id": "qBvFAsX4GNXL",
        "colab": {
          "base_uri": "https://localhost:8080/"
        },
        "outputId": "2de7c6a8-c551-4886-b048-23dd6556f36c"
      },
      "execution_count": null,
      "outputs": [
        {
          "output_type": "stream",
          "name": "stdout",
          "text": [
            "Model: \"sequential\"\n",
            "_________________________________________________________________\n",
            " Layer (type)                Output Shape              Param #   \n",
            "=================================================================\n",
            " embedding (Embedding)       (None, 190, 100)          1153600   \n",
            "                                                                 \n",
            " conv1d (Conv1D)             (None, 188, 32)           9632      \n",
            "                                                                 \n",
            " lstm (LSTM)                 (None, 188, 50)           16600     \n",
            "                                                                 \n",
            " global_max_pooling1d (Globa  (None, 50)               0         \n",
            " lMaxPooling1D)                                                  \n",
            "                                                                 \n",
            " flatten (Flatten)           (None, 50)                0         \n",
            "                                                                 \n",
            " dense (Dense)               (None, 13)                663       \n",
            "                                                                 \n",
            "=================================================================\n",
            "Total params: 1,180,495\n",
            "Trainable params: 1,180,495\n",
            "Non-trainable params: 0\n",
            "_________________________________________________________________\n",
            "None\n"
          ]
        }
      ]
    },
    {
      "cell_type": "code",
      "source": [
        "from tensorflow.keras.callbacks import EarlyStopping\n",
        "\n",
        "#put early stopping\n",
        "early_stopping = EarlyStopping(monitor='val_loss', patience=1, mode='min')\n",
        "\n",
        "#Your choices of activation='softmax' in the last layer and compile choice of loss='categorical_crossentropy' \n",
        "#are good for a model to predict multiple mutually-exclusive classes.\n",
        "\n",
        "model.compile(loss='categorical_crossentropy',\n",
        "              optimizer='adam', \n",
        "              metrics=['acc'],)"
      ],
      "metadata": {
        "id": "6h7dkVHjG7CD"
      },
      "execution_count": null,
      "outputs": []
    },
    {
      "cell_type": "code",
      "source": [
        "#Try classweight from this https://datascience.stackexchange.com/questions/13490/how-to-set-class-weights-for-imbalanced-classes-in-keras\n",
        "\n",
        "history = model.fit(Xtrain, ytrain, \n",
        "                    epochs=10, batch_size=32, \n",
        "                    validation_split=0.2,\n",
        "                    callbacks=[early_stopping])"
      ],
      "metadata": {
        "id": "ONM10HAYG9Ho",
        "colab": {
          "base_uri": "https://localhost:8080/"
        },
        "outputId": "4e38bc7e-f5b4-4716-ef21-551f6c9610e7"
      },
      "execution_count": null,
      "outputs": [
        {
          "output_type": "stream",
          "name": "stdout",
          "text": [
            "Epoch 1/10\n",
            "304/304 [==============================] - 19s 13ms/step - loss: 1.9636 - acc: 0.3442 - val_loss: 1.7720 - val_acc: 0.4276\n",
            "Epoch 2/10\n",
            "304/304 [==============================] - 3s 10ms/step - loss: 1.7085 - acc: 0.4520 - val_loss: 1.6945 - val_acc: 0.4588\n",
            "Epoch 3/10\n",
            "304/304 [==============================] - 3s 11ms/step - loss: 1.5387 - acc: 0.5245 - val_loss: 1.6434 - val_acc: 0.4934\n",
            "Epoch 4/10\n",
            "304/304 [==============================] - 3s 11ms/step - loss: 1.3857 - acc: 0.5803 - val_loss: 1.6477 - val_acc: 0.4844\n"
          ]
        }
      ]
    },
    {
      "cell_type": "code",
      "source": [
        "loss, acc = model.evaluate(Xtest, ytest)\n",
        "print('Test Accuracy: %f' % (acc*100))"
      ],
      "metadata": {
        "id": "C_4BpU86HCl5",
        "colab": {
          "base_uri": "https://localhost:8080/"
        },
        "outputId": "e39bbddf-d6dc-46c8-c2a4-ba392aef9431"
      },
      "execution_count": null,
      "outputs": [
        {
          "output_type": "stream",
          "name": "stdout",
          "text": [
            "380/380 [==============================] - 2s 5ms/step - loss: 1.2977 - acc: 0.6121\n",
            "Test Accuracy: 61.209875\n"
          ]
        }
      ]
    },
    {
      "cell_type": "code",
      "source": [
        "history_frame = pd.DataFrame(history.history)\n",
        "history_frame.loc[:, ['loss', 'val_loss']].plot()"
      ],
      "metadata": {
        "id": "frfxlm4bG_H1",
        "colab": {
          "base_uri": "https://localhost:8080/",
          "height": 282
        },
        "outputId": "762bd7dd-bed8-4a6f-af41-179b738cb3e6"
      },
      "execution_count": null,
      "outputs": [
        {
          "output_type": "execute_result",
          "data": {
            "text/plain": [
              "<matplotlib.axes._subplots.AxesSubplot at 0x7f52d4659510>"
            ]
          },
          "metadata": {},
          "execution_count": 24
        },
        {
          "output_type": "display_data",
          "data": {
            "text/plain": [
              "<Figure size 432x288 with 1 Axes>"
            ],
            "image/png": "[encoded data removed]"
          },
          "metadata": {
            "needs_background": "light"
          }
        }
      ]
    },
    {
      "cell_type": "code",
      "source": [
        "history_frame.loc[:, ['acc', 'val_acc']].plot()"
      ],
      "metadata": {
        "id": "BAjnmQlaHAM3",
        "colab": {
          "base_uri": "https://localhost:8080/",
          "height": 282
        },
        "outputId": "b222e2f7-d3ce-40c4-a848-17b672a6c888"
      },
      "execution_count": null,
      "outputs": [
        {
          "output_type": "execute_result",
          "data": {
            "text/plain": [
              "<matplotlib.axes._subplots.AxesSubplot at 0x7f52d40f1b10>"
            ]
          },
          "metadata": {},
          "execution_count": 25
        },
        {
          "output_type": "display_data",
          "data": {
            "text/plain": [
              "<Figure size 432x288 with 1 Axes>"
            ],
            "image/png": "[encoded data removed]"
          },
          "metadata": {
            "needs_background": "light"
          }
        }
      ]
    },
    {
      "cell_type": "code",
      "source": [
        ""
      ],
      "metadata": {
        "id": "zg8XeyeMHDlx"
      },
      "execution_count": null,
      "outputs": []
    },
    {
      "cell_type": "markdown",
      "source": [
        "##BIGRU CNN1 TDD GMP1D D13: 71"
      ],
      "metadata": {
        "id": "m4n3YO7QNfi1"
      }
    },
    {
      "cell_type": "code",
      "source": [
        "from keras.models import Sequential\n",
        "from keras.layers.convolutional import Conv1D, MaxPooling1D\n",
        "from keras.layers.pooling import GlobalMaxPooling1D, AveragePooling1D, GlobalAveragePooling1D\n",
        "from keras.layers import Dense, Flatten, Embedding, BatchNormalization, Dropout, LSTM\n",
        "\n",
        "from tensorflow.keras.layers import TimeDistributed, Bidirectional, GRU"
      ],
      "metadata": {
        "id": "SgEiHxadNsVX"
      },
      "execution_count": 19,
      "outputs": []
    },
    {
      "cell_type": "code",
      "source": [
        "#Define our model\n",
        "\n",
        "model = Sequential()\n",
        "\n",
        "model.add(Embedding(vocab_size, 1000, input_length=max_length, trainable=True))\n",
        "#Bi-GRU with TimeDistributed by Tul \n",
        "model.add(Bidirectional(GRU(units=256,return_sequences=True, dropout=0.2, recurrent_dropout=0.2), merge_mode = 'concat'))\n",
        "\n",
        "model.add(Conv1D(128, 5 , activation='tanh'))\n",
        "model.add(TimeDistributed(Dense(128, activation=\"relu\")))\n",
        "model.add(GlobalMaxPooling1D())\n",
        "\n",
        "model.add(Dense(num_classes, activation='softmax'))\n",
        "\n",
        "print(model.summary())"
      ],
      "metadata": {
        "colab": {
          "base_uri": "https://localhost:8080/"
        },
        "id": "p6plUvQwNoGd",
        "outputId": "4a9ba36a-db03-427a-d7f9-eb205522f1f0"
      },
      "execution_count": 20,
      "outputs": [
        {
          "output_type": "stream",
          "name": "stdout",
          "text": [
            "WARNING:tensorflow:Layer gru will not use cuDNN kernels since it doesn't meet the criteria. It will use a generic GPU kernel as fallback when running on GPU.\n",
            "WARNING:tensorflow:Layer gru will not use cuDNN kernels since it doesn't meet the criteria. It will use a generic GPU kernel as fallback when running on GPU.\n",
            "WARNING:tensorflow:Layer gru will not use cuDNN kernels since it doesn't meet the criteria. It will use a generic GPU kernel as fallback when running on GPU.\n",
            "Model: \"sequential\"\n",
            "_________________________________________________________________\n",
            " Layer (type)                Output Shape              Param #   \n",
            "=================================================================\n",
            " embedding (Embedding)       (None, 190, 1000)         11536000  \n",
            "                                                                 \n",
            " bidirectional (Bidirectiona  (None, 190, 512)         1932288   \n",
            " l)                                                              \n",
            "                                                                 \n",
            " conv1d (Conv1D)             (None, 186, 128)          327808    \n",
            "                                                                 \n",
            " time_distributed (TimeDistr  (None, 186, 128)         16512     \n",
            " ibuted)                                                         \n",
            "                                                                 \n",
            " global_max_pooling1d (Globa  (None, 128)              0         \n",
            " lMaxPooling1D)                                                  \n",
            "                                                                 \n",
            " dense_1 (Dense)             (None, 13)                1677      \n",
            "                                                                 \n",
            "=================================================================\n",
            "Total params: 13,814,285\n",
            "Trainable params: 13,814,285\n",
            "Non-trainable params: 0\n",
            "_________________________________________________________________\n",
            "None\n"
          ]
        }
      ]
    },
    {
      "cell_type": "code",
      "source": [
        "from tensorflow.keras.callbacks import EarlyStopping\n",
        "\n",
        "#put early stopping\n",
        "early_stopping = EarlyStopping(monitor='val_loss', patience=1, mode='min')\n",
        "\n",
        "#Your choices of activation='softmax' in the last layer and compile choice of loss='categorical_crossentropy' \n",
        "#are good for a model to predict multiple mutually-exclusive classes.\n",
        "\n",
        "model.compile(loss='categorical_crossentropy',\n",
        "              optimizer='adam', \n",
        "              metrics=['acc'],)"
      ],
      "metadata": {
        "id": "6CzKcgjsOGYy"
      },
      "execution_count": 21,
      "outputs": []
    },
    {
      "cell_type": "code",
      "source": [
        "#Try classweight from this https://datascience.stackexchange.com/questions/13490/how-to-set-class-weights-for-imbalanced-classes-in-keras\n",
        "#Get the similar results\n",
        "\n",
        "history = model.fit(Xtrain, ytrain, \n",
        "                    epochs=10, batch_size=32, #32, 128 > 8 (worse), 16, 64, 256\n",
        "                    validation_split=0.2,\n",
        "                    callbacks=[early_stopping])"
      ],
      "metadata": {
        "colab": {
          "base_uri": "https://localhost:8080/"
        },
        "outputId": "f46f63ba-7838-483f-d69a-4327fef8fcb1",
        "id": "RvOjQwYMOGYz"
      },
      "execution_count": 22,
      "outputs": [
        {
          "output_type": "stream",
          "name": "stdout",
          "text": [
            "Epoch 1/10\n",
            "304/304 [==============================] - 491s 2s/step - loss: 1.7524 - acc: 0.4250 - val_loss: 1.5702 - val_acc: 0.4984\n",
            "Epoch 2/10\n",
            "304/304 [==============================] - 467s 2s/step - loss: 1.3834 - acc: 0.5610 - val_loss: 1.5049 - val_acc: 0.4897\n",
            "Epoch 3/10\n",
            "304/304 [==============================] - 460s 2s/step - loss: 1.0986 - acc: 0.6374 - val_loss: 1.5837 - val_acc: 0.4926\n"
          ]
        }
      ]
    },
    {
      "cell_type": "code",
      "source": [
        "loss, acc = model.evaluate(Xtest, ytest)\n",
        "print('Test Accuracy: %f' % (acc*100))"
      ],
      "metadata": {
        "colab": {
          "base_uri": "https://localhost:8080/"
        },
        "outputId": "e77b3982-0aac-436d-87f0-560301f7a227",
        "id": "ILUdo9IBOGYz"
      },
      "execution_count": 23,
      "outputs": [
        {
          "output_type": "stream",
          "name": "stdout",
          "text": [
            "380/380 [==============================] - 41s 109ms/step - loss: 0.9133 - acc: 0.7104\n",
            "Test Accuracy: 71.037036\n"
          ]
        }
      ]
    },
    {
      "cell_type": "code",
      "source": [
        "# loading library\n",
        "import pickle\n",
        "pickle.dump(model, open('CLS_Q2207_1_1_6.pkl', 'wb'))"
      ],
      "metadata": {
        "colab": {
          "base_uri": "https://localhost:8080/"
        },
        "id": "B1Fg55Zprcdx",
        "outputId": "9f50fb30-d13c-4f19-e6db-2a6c0a15c490"
      },
      "execution_count": 24,
      "outputs": [
        {
          "output_type": "stream",
          "name": "stdout",
          "text": [
            "INFO:tensorflow:Assets written to: ram://e3e1d869-e227-4321-a557-647bf0bbddaf/assets\n"
          ]
        },
        {
          "output_type": "stream",
          "name": "stderr",
          "text": [
            "WARNING:absl:<keras.layers.recurrent.GRUCell object at 0x7ff8dad0b410> has the same name 'GRUCell' as a built-in Keras object. Consider renaming <class 'keras.layers.recurrent.GRUCell'> to avoid naming conflicts when loading with `tf.keras.models.load_model`. If renaming is not possible, pass the object in the `custom_objects` parameter of the load function.\n",
            "WARNING:absl:<keras.layers.recurrent.GRUCell object at 0x7ff8dad0bd90> has the same name 'GRUCell' as a built-in Keras object. Consider renaming <class 'keras.layers.recurrent.GRUCell'> to avoid naming conflicts when loading with `tf.keras.models.load_model`. If renaming is not possible, pass the object in the `custom_objects` parameter of the load function.\n"
          ]
        }
      ]
    },
    {
      "cell_type": "code",
      "source": [
        "from google.colab import files\n",
        "files.download('CLS_Q2207_1_1_6.pkl')"
      ],
      "metadata": {
        "colab": {
          "base_uri": "https://localhost:8080/",
          "height": 17
        },
        "id": "9cgzhq2-4blH",
        "outputId": "77b26041-1422-4321-b229-3a902d161c35"
      },
      "execution_count": 27,
      "outputs": [
        {
          "output_type": "display_data",
          "data": {
            "text/plain": [
              "<IPython.core.display.Javascript object>"
            ],
            "application/javascript": [
              "\n",
              "    async function download(id, filename, size) {\n",
              "      if (!google.colab.kernel.accessAllowed) {\n",
              "        return;\n",
              "      }\n",
              "      const div = document.createElement('div');\n",
              "      const label = document.createElement('label');\n",
              "      label.textContent = `Downloading \"${filename}\": `;\n",
              "      div.appendChild(label);\n",
              "      const progress = document.createElement('progress');\n",
              "      progress.max = size;\n",
              "      div.appendChild(progress);\n",
              "      document.body.appendChild(div);\n",
              "\n",
              "      const buffers = [];\n",
              "      let downloaded = 0;\n",
              "\n",
              "      const channel = await google.colab.kernel.comms.open(id);\n",
              "      // Send a message to notify the kernel that we're ready.\n",
              "      channel.send({})\n",
              "\n",
              "      for await (const message of channel.messages) {\n",
              "        // Send a message to notify the kernel that we're ready.\n",
              "        channel.send({})\n",
              "        if (message.buffers) {\n",
              "          for (const buffer of message.buffers) {\n",
              "            buffers.push(buffer);\n",
              "            downloaded += buffer.byteLength;\n",
              "            progress.value = downloaded;\n",
              "          }\n",
              "        }\n",
              "      }\n",
              "      const blob = new Blob(buffers, {type: 'application/binary'});\n",
              "      const a = document.createElement('a');\n",
              "      a.href = window.URL.createObjectURL(blob);\n",
              "      a.download = filename;\n",
              "      div.appendChild(a);\n",
              "      a.click();\n",
              "      div.remove();\n",
              "    }\n",
              "  "
            ]
          },
          "metadata": {}
        },
        {
          "output_type": "display_data",
          "data": {
            "text/plain": [
              "<IPython.core.display.Javascript object>"
            ],
            "application/javascript": [
              "download(\"download_b1257980-924e-454e-9fb7-b46f6579ded9\", \"CLS_Q2207_1_1_6.pkl\", 167864546)"
            ]
          },
          "metadata": {}
        }
      ]
    },
    {
      "cell_type": "code",
      "source": [
        "history_frame = pd.DataFrame(history.history)\n",
        "history_frame.loc[:, ['loss', 'val_loss']].plot()"
      ],
      "metadata": {
        "colab": {
          "base_uri": "https://localhost:8080/",
          "height": 282
        },
        "outputId": "f34ccbe1-05f8-490b-d3b2-1354c832932b",
        "id": "VO9SYZhpOGY0"
      },
      "execution_count": 25,
      "outputs": [
        {
          "output_type": "execute_result",
          "data": {
            "text/plain": [
              "<matplotlib.axes._subplots.AxesSubplot at 0x7ff8301731d0>"
            ]
          },
          "metadata": {},
          "execution_count": 25
        },
        {
          "output_type": "display_data",
          "data": {
            "text/plain": [
              "<Figure size 432x288 with 1 Axes>"
            ],
            "image/png": "[encoded data removed]"
          },
          "metadata": {
            "needs_background": "light"
          }
        }
      ]
    },
    {
      "cell_type": "code",
      "source": [
        "history_frame.loc[:, ['acc', 'val_acc']].plot()"
      ],
      "metadata": {
        "colab": {
          "base_uri": "https://localhost:8080/",
          "height": 282
        },
        "outputId": "69afaefd-0b74-4f6a-f245-af16da0f1950",
        "id": "Qm6lkNcgOGY0"
      },
      "execution_count": 26,
      "outputs": [
        {
          "output_type": "execute_result",
          "data": {
            "text/plain": [
              "<matplotlib.axes._subplots.AxesSubplot at 0x7ff831530690>"
            ]
          },
          "metadata": {},
          "execution_count": 26
        },
        {
          "output_type": "display_data",
          "data": {
            "text/plain": [
              "<Figure size 432x288 with 1 Axes>"
            ],
            "image/png": "[encoded data removed]"
          },
          "metadata": {
            "needs_background": "light"
          }
        }
      ]
    },
    {
      "cell_type": "markdown",
      "source": [
        "##BILSTM CNN1 TDD GMP1D D13: 71"
      ],
      "metadata": {
        "id": "IXY0DUEhOs1n"
      }
    },
    {
      "cell_type": "code",
      "source": [
        "from keras.models import Sequential\n",
        "from keras.layers.convolutional import Conv1D, MaxPooling1D\n",
        "from keras.layers.pooling import GlobalMaxPooling1D, AveragePooling1D, GlobalAveragePooling1D\n",
        "from keras.layers import Dense, Flatten, Embedding, BatchNormalization, Dropout\n",
        "\n",
        "from tensorflow.keras.layers import TimeDistributed, Bidirectional, GRU, LSTM"
      ],
      "metadata": {
        "id": "1rb9CsXNOs1o"
      },
      "execution_count": null,
      "outputs": []
    },
    {
      "cell_type": "code",
      "source": [
        "#Define our model\n",
        "\n",
        "model = Sequential()\n",
        "\n",
        "model.add(Embedding(vocab_size, 1000, input_length=max_length, trainable=True))\n",
        "#Bi-LSTM with TimeDistributed by Tul \n",
        "model.add(Bidirectional(LSTM(units=256,return_sequences=True, dropout=0.2, recurrent_dropout=0.2), merge_mode = 'concat'))\n",
        "\n",
        "model.add(Conv1D(128, 5 , activation='tanh'))\n",
        "model.add(TimeDistributed(Dense(128, activation=\"relu\")))\n",
        "model.add(GlobalMaxPooling1D())\n",
        "\n",
        "model.add(Dense(num_classes, activation='softmax'))\n",
        "\n",
        "print(model.summary())"
      ],
      "metadata": {
        "colab": {
          "base_uri": "https://localhost:8080/"
        },
        "outputId": "c5e7807f-370a-4eaf-90db-0892023c21e3",
        "id": "IJfHvzqOOs1o"
      },
      "execution_count": null,
      "outputs": [
        {
          "output_type": "stream",
          "name": "stdout",
          "text": [
            "WARNING:tensorflow:Layer lstm will not use cuDNN kernels since it doesn't meet the criteria. It will use a generic GPU kernel as fallback when running on GPU.\n",
            "WARNING:tensorflow:Layer lstm will not use cuDNN kernels since it doesn't meet the criteria. It will use a generic GPU kernel as fallback when running on GPU.\n",
            "WARNING:tensorflow:Layer lstm will not use cuDNN kernels since it doesn't meet the criteria. It will use a generic GPU kernel as fallback when running on GPU.\n",
            "Model: \"sequential_2\"\n",
            "_________________________________________________________________\n",
            " Layer (type)                Output Shape              Param #   \n",
            "=================================================================\n",
            " embedding_2 (Embedding)     (None, 190, 1000)         11536000  \n",
            "                                                                 \n",
            " bidirectional_1 (Bidirectio  (None, 190, 512)         2574336   \n",
            " nal)                                                            \n",
            "                                                                 \n",
            " conv1d_1 (Conv1D)           (None, 186, 128)          327808    \n",
            "                                                                 \n",
            " time_distributed_1 (TimeDis  (None, 186, 128)         16512     \n",
            " tributed)                                                       \n",
            "                                                                 \n",
            " global_max_pooling1d_1 (Glo  (None, 128)              0         \n",
            " balMaxPooling1D)                                                \n",
            "                                                                 \n",
            " dense_3 (Dense)             (None, 13)                1677      \n",
            "                                                                 \n",
            "=================================================================\n",
            "Total params: 14,456,333\n",
            "Trainable params: 14,456,333\n",
            "Non-trainable params: 0\n",
            "_________________________________________________________________\n",
            "None\n"
          ]
        }
      ]
    },
    {
      "cell_type": "code",
      "source": [
        "from tensorflow.keras.callbacks import EarlyStopping\n",
        "\n",
        "#put early stopping\n",
        "early_stopping = EarlyStopping(monitor='val_loss', patience=1, mode='min')\n",
        "\n",
        "#Your choices of activation='softmax' in the last layer and compile choice of loss='categorical_crossentropy' \n",
        "#are good for a model to predict multiple mutually-exclusive classes.\n",
        "\n",
        "model.compile(loss='categorical_crossentropy',\n",
        "              optimizer='adam', \n",
        "              metrics=['acc'],)"
      ],
      "metadata": {
        "id": "eTGGc7VPOs1o"
      },
      "execution_count": null,
      "outputs": []
    },
    {
      "cell_type": "code",
      "source": [
        "#Try classweight from this https://datascience.stackexchange.com/questions/13490/how-to-set-class-weights-for-imbalanced-classes-in-keras\n",
        "#Get the similar results\n",
        "\n",
        "history = model.fit(Xtrain, ytrain, \n",
        "                    epochs=10, batch_size=32, #32, 128 > 8 (worse), 16, 64, 256\n",
        "                    validation_split=0.2,\n",
        "                    callbacks=[early_stopping])"
      ],
      "metadata": {
        "colab": {
          "base_uri": "https://localhost:8080/"
        },
        "outputId": "2bbff065-4c3d-4515-b80e-16c106c873bb",
        "id": "1MnITCP7Os1o"
      },
      "execution_count": null,
      "outputs": [
        {
          "output_type": "stream",
          "name": "stdout",
          "text": [
            "Epoch 1/10\n",
            "304/304 [==============================] - 593s 2s/step - loss: 1.7937 - acc: 0.4065 - val_loss: 1.5637 - val_acc: 0.4930\n",
            "Epoch 2/10\n",
            "304/304 [==============================] - 585s 2s/step - loss: 1.3829 - acc: 0.5537 - val_loss: 1.5073 - val_acc: 0.5066\n",
            "Epoch 3/10\n",
            "304/304 [==============================] - 581s 2s/step - loss: 1.0764 - acc: 0.6433 - val_loss: 1.5653 - val_acc: 0.5041\n"
          ]
        }
      ]
    },
    {
      "cell_type": "code",
      "source": [
        "loss, acc = model.evaluate(Xtest, ytest)\n",
        "print('Test Accuracy: %f' % (acc*100))"
      ],
      "metadata": {
        "colab": {
          "base_uri": "https://localhost:8080/"
        },
        "id": "ivxxqu66Os1o",
        "outputId": "47c14511-94ea-4a1c-83af-5985c3f864db"
      },
      "execution_count": null,
      "outputs": [
        {
          "output_type": "stream",
          "name": "stdout",
          "text": [
            "380/380 [==============================] - 50s 131ms/step - loss: 0.8893 - acc: 0.7177\n",
            "Test Accuracy: 71.769547\n"
          ]
        }
      ]
    },
    {
      "cell_type": "code",
      "source": [
        "history_frame = pd.DataFrame(history.history)\n",
        "history_frame.loc[:, ['loss', 'val_loss']].plot()"
      ],
      "metadata": {
        "colab": {
          "base_uri": "https://localhost:8080/",
          "height": 282
        },
        "id": "iAVneSZdOs1o",
        "outputId": "9e2ce6cc-86a6-4dbe-a1bb-940b6953e5ce"
      },
      "execution_count": null,
      "outputs": [
        {
          "output_type": "execute_result",
          "data": {
            "text/plain": [
              "<matplotlib.axes._subplots.AxesSubplot at 0x7f8bda17b410>"
            ]
          },
          "metadata": {},
          "execution_count": 33
        },
        {
          "output_type": "display_data",
          "data": {
            "text/plain": [
              "<Figure size 432x288 with 1 Axes>"
            ],
            "image/png": "[encoded data removed]"
          },
          "metadata": {
            "needs_background": "light"
          }
        }
      ]
    },
    {
      "cell_type": "code",
      "source": [
        "history_frame.loc[:, ['acc', 'val_acc']].plot()"
      ],
      "metadata": {
        "colab": {
          "base_uri": "https://localhost:8080/",
          "height": 282
        },
        "id": "20PfMRNfOs1p",
        "outputId": "b9b80dd6-1f9a-40c6-db08-eae5638a63ce"
      },
      "execution_count": null,
      "outputs": [
        {
          "output_type": "execute_result",
          "data": {
            "text/plain": [
              "<matplotlib.axes._subplots.AxesSubplot at 0x7f8c00147250>"
            ]
          },
          "metadata": {},
          "execution_count": 34
        },
        {
          "output_type": "display_data",
          "data": {
            "text/plain": [
              "<Figure size 432x288 with 1 Axes>"
            ],
            "image/png": "[encoded data removed]"
          },
          "metadata": {
            "needs_background": "light"
          }
        }
      ]
    },
    {
      "cell_type": "markdown",
      "source": [
        "## CNN1 GMP1D D13: 79\n"
      ],
      "metadata": {
        "id": "BX_XQj67E_b6"
      }
    },
    {
      "cell_type": "code",
      "source": [
        "from keras.layers import Dense, Flatten, Embedding, BatchNormalization, Dropout, LSTM, Bidirectional, TimeDistributed\n",
        "from keras.models import Sequential\n",
        "from keras.layers.convolutional import Conv1D, MaxPooling1D\n",
        "from keras.layers.pooling import GlobalMaxPooling1D, AveragePooling1D, GlobalAveragePooling1D\n",
        "import tensorflow as tf"
      ],
      "metadata": {
        "id": "CR-HCnzPFDoe"
      },
      "execution_count": 106,
      "outputs": []
    },
    {
      "cell_type": "code",
      "source": [
        "from keras.layers.pooling import GlobalMaxPooling1D\n",
        "#Define our model\n",
        "model = Sequential()\n",
        "\n",
        "model.add(Embedding(vocab_size, 1000, input_length=max_length, trainable=True))\n",
        "model.add(Conv1D(128, 5 , activation='relu'))\n",
        "#Among filters=[64,128,256], 128 is the best. \n",
        "#activation selu, tanh, relu, elu got similar results\n",
        "model.add(GlobalMaxPooling1D()) #Among pooliing, GMP1D is the best.\n",
        "\n",
        "model.add(Dense(num_classes, activation='softmax')) #1 Dense better than 2 Denses\n",
        "print(model.summary())"
      ],
      "metadata": {
        "id": "nddmIhdNFICP",
        "colab": {
          "base_uri": "https://localhost:8080/"
        },
        "outputId": "47ec9f73-c0cb-439c-ec88-89e511124d01"
      },
      "execution_count": 107,
      "outputs": [
        {
          "output_type": "stream",
          "name": "stdout",
          "text": [
            "Model: \"sequential_1\"\n",
            "_________________________________________________________________\n",
            " Layer (type)                Output Shape              Param #   \n",
            "=================================================================\n",
            " embedding_1 (Embedding)     (None, 190, 1000)         11536000  \n",
            "                                                                 \n",
            " conv1d_1 (Conv1D)           (None, 186, 128)          640128    \n",
            "                                                                 \n",
            " global_max_pooling1d_1 (Glo  (None, 128)              0         \n",
            " balMaxPooling1D)                                                \n",
            "                                                                 \n",
            " dense_1 (Dense)             (None, 13)                1677      \n",
            "                                                                 \n",
            "=================================================================\n",
            "Total params: 12,177,805\n",
            "Trainable params: 12,177,805\n",
            "Non-trainable params: 0\n",
            "_________________________________________________________________\n",
            "None\n"
          ]
        }
      ]
    },
    {
      "cell_type": "code",
      "source": [
        "plot_model(model, to_file='model_plot.png', show_shapes=True, show_layer_names=True)"
      ],
      "metadata": {
        "colab": {
          "base_uri": "https://localhost:8080/",
          "height": 533
        },
        "id": "MGpbRB6uoTXB",
        "outputId": "c28f17cb-9983-4779-f295-89ef0cabb803"
      },
      "execution_count": 108,
      "outputs": [
        {
          "output_type": "execute_result",
          "data": {
            "text/plain": [
              "<IPython.core.display.Image object>"
            ],
            "image/png": "[encoded data removed]"
          },
          "metadata": {},
          "execution_count": 108
        }
      ]
    },
    {
      "cell_type": "code",
      "source": [
        "from google.colab import files\n",
        "files.download('model_plot.png')"
      ],
      "metadata": {
        "colab": {
          "base_uri": "https://localhost:8080/",
          "height": 17
        },
        "id": "H0Yd4X6v90Vg",
        "outputId": "ef05d85b-6751-45d1-adc0-ba7dfb56adb0"
      },
      "execution_count": 109,
      "outputs": [
        {
          "output_type": "display_data",
          "data": {
            "text/plain": [
              "<IPython.core.display.Javascript object>"
            ],
            "application/javascript": [
              "\n",
              "    async function download(id, filename, size) {\n",
              "      if (!google.colab.kernel.accessAllowed) {\n",
              "        return;\n",
              "      }\n",
              "      const div = document.createElement('div');\n",
              "      const label = document.createElement('label');\n",
              "      label.textContent = `Downloading \"${filename}\": `;\n",
              "      div.appendChild(label);\n",
              "      const progress = document.createElement('progress');\n",
              "      progress.max = size;\n",
              "      div.appendChild(progress);\n",
              "      document.body.appendChild(div);\n",
              "\n",
              "      const buffers = [];\n",
              "      let downloaded = 0;\n",
              "\n",
              "      const channel = await google.colab.kernel.comms.open(id);\n",
              "      // Send a message to notify the kernel that we're ready.\n",
              "      channel.send({})\n",
              "\n",
              "      for await (const message of channel.messages) {\n",
              "        // Send a message to notify the kernel that we're ready.\n",
              "        channel.send({})\n",
              "        if (message.buffers) {\n",
              "          for (const buffer of message.buffers) {\n",
              "            buffers.push(buffer);\n",
              "            downloaded += buffer.byteLength;\n",
              "            progress.value = downloaded;\n",
              "          }\n",
              "        }\n",
              "      }\n",
              "      const blob = new Blob(buffers, {type: 'application/binary'});\n",
              "      const a = document.createElement('a');\n",
              "      a.href = window.URL.createObjectURL(blob);\n",
              "      a.download = filename;\n",
              "      div.appendChild(a);\n",
              "      a.click();\n",
              "      div.remove();\n",
              "    }\n",
              "  "
            ]
          },
          "metadata": {}
        },
        {
          "output_type": "display_data",
          "data": {
            "text/plain": [
              "<IPython.core.display.Javascript object>"
            ],
            "application/javascript": [
              "download(\"download_455f1033-a194-4fe8-80ba-c6bf2d9fa080\", \"model_plot.png\", 40419)"
            ]
          },
          "metadata": {}
        }
      ]
    },
    {
      "cell_type": "code",
      "source": [
        "from tensorflow.keras.callbacks import EarlyStopping\n",
        "\n",
        "#put early stopping\n",
        "early_stopping = EarlyStopping(monitor='val_loss', patience=1, mode='min')\n",
        "\n",
        "#Your choices of activation='softmax' in the last layer and compile choice of loss='categorical_crossentropy' \n",
        "#are good for a model to predict multiple mutually-exclusive classes.\n",
        "\n",
        "model.compile(loss='categorical_crossentropy',\n",
        "              optimizer='adam', \n",
        "              metrics=['acc'],)"
      ],
      "metadata": {
        "id": "Q9yeE8-iFJcL"
      },
      "execution_count": 110,
      "outputs": []
    },
    {
      "cell_type": "code",
      "source": [
        "#Try classweight from this https://datascience.stackexchange.com/questions/13490/how-to-set-class-weights-for-imbalanced-classes-in-keras\n",
        "#Get the similar results\n",
        "\n",
        "history = model.fit(Xtrain, ytrain, \n",
        "                    epochs=10, batch_size=32, #32, 128 > 8 (worse), 16, 64, 256\n",
        "                    validation_split=0.2,\n",
        "                    callbacks=[early_stopping])"
      ],
      "metadata": {
        "id": "7pCGbab1FMKr",
        "colab": {
          "base_uri": "https://localhost:8080/"
        },
        "outputId": "984aef1f-3da9-499f-e44d-4922f98a0c68"
      },
      "execution_count": 111,
      "outputs": [
        {
          "output_type": "stream",
          "name": "stdout",
          "text": [
            "Epoch 1/10\n",
            "304/304 [==============================] - 6s 18ms/step - loss: 1.7204 - acc: 0.4343 - val_loss: 1.4800 - val_acc: 0.5115\n",
            "Epoch 2/10\n",
            "304/304 [==============================] - 5s 16ms/step - loss: 1.2149 - acc: 0.5992 - val_loss: 1.4722 - val_acc: 0.5136\n",
            "Epoch 3/10\n",
            "304/304 [==============================] - 5s 16ms/step - loss: 0.8330 - acc: 0.7328 - val_loss: 1.4857 - val_acc: 0.5296\n"
          ]
        }
      ]
    },
    {
      "cell_type": "code",
      "source": [
        "loss, acc = model.evaluate(Xtest, ytest)\n",
        "print('Test Accuracy: %f' % (acc*100))"
      ],
      "metadata": {
        "id": "fhmvQ1gcFNxb",
        "colab": {
          "base_uri": "https://localhost:8080/"
        },
        "outputId": "f7c13758-11fe-4918-d90a-d1c5f2a8186b"
      },
      "execution_count": 112,
      "outputs": [
        {
          "output_type": "stream",
          "name": "stdout",
          "text": [
            "380/380 [==============================] - 1s 4ms/step - loss: 0.6846 - acc: 0.7937\n",
            "Test Accuracy: 79.374486\n"
          ]
        }
      ]
    },
    {
      "cell_type": "code",
      "source": [
        "# loading library\n",
        "import pickle\n",
        "pickle.dump(model, open('CLS_Q2207_1_1_5.pkl', 'wb'))"
      ],
      "metadata": {
        "id": "pwYflISRdVPT",
        "colab": {
          "base_uri": "https://localhost:8080/"
        },
        "outputId": "d21725a2-831b-4248-8a43-25b76a9f3f3c"
      },
      "execution_count": 113,
      "outputs": [
        {
          "output_type": "stream",
          "name": "stdout",
          "text": [
            "INFO:tensorflow:Assets written to: ram://65d9eb50-dd2f-4b2d-a2d9-1f573f5410b5/assets\n"
          ]
        }
      ]
    },
    {
      "cell_type": "code",
      "source": [
        "history_frame = pd.DataFrame(history.history)\n",
        "history_frame.loc[:, ['loss', 'val_loss']].plot()"
      ],
      "metadata": {
        "id": "hl6XE30MFQpK",
        "colab": {
          "base_uri": "https://localhost:8080/",
          "height": 282
        },
        "outputId": "fec72964-2db6-4346-bca5-6429b0889706"
      },
      "execution_count": 114,
      "outputs": [
        {
          "output_type": "execute_result",
          "data": {
            "text/plain": [
              "<matplotlib.axes._subplots.AxesSubplot at 0x7f4efd8cf290>"
            ]
          },
          "metadata": {},
          "execution_count": 114
        },
        {
          "output_type": "display_data",
          "data": {
            "text/plain": [
              "<Figure size 432x288 with 1 Axes>"
            ],
            "image/png": "[encoded data removed]"
          },
          "metadata": {
            "needs_background": "light"
          }
        }
      ]
    },
    {
      "cell_type": "code",
      "source": [
        "#prediction\n",
        "y_pred = model.predict(Xtest)"
      ],
      "metadata": {
        "id": "3fXNJzmNSrVG"
      },
      "execution_count": 115,
      "outputs": []
    },
    {
      "cell_type": "code",
      "source": [
        "#Change one hot answer to be single digit as follows \n",
        "#https://stackoverflow.com/questions/54589669/confusion-matrix-error-classification-metrics-cant-handle-a-mix-of-multilabel\n",
        "\n",
        "rounded_labels_ypred = np.argmax(y_pred, axis=1)\n",
        "rounded_labels_ytest = np.argmax(ytest,axis=1)"
      ],
      "metadata": {
        "id": "wibYusQmU79x"
      },
      "execution_count": 116,
      "outputs": []
    },
    {
      "cell_type": "code",
      "source": [
        "#unique label ids and label names\n",
        "target_names = {key-1:val for key, val in zip(train['Human_CategoryID'],train['Human_Category'])}"
      ],
      "metadata": {
        "id": "KViBsfCWV1tV"
      },
      "execution_count": 117,
      "outputs": []
    },
    {
      "cell_type": "code",
      "source": [
        "target_names"
      ],
      "metadata": {
        "colab": {
          "base_uri": "https://localhost:8080/"
        },
        "id": "saOmhkUKV22P",
        "outputId": "7ebb89d8-169a-4998-9398-574d0df88f86"
      },
      "execution_count": 118,
      "outputs": [
        {
          "output_type": "execute_result",
          "data": {
            "text/plain": [
              "{0: 'Accessibility',\n",
              " 1: 'Facility',\n",
              " 2: 'Company Brand',\n",
              " 3: 'Staff Quality',\n",
              " 4: 'Timing',\n",
              " 5: 'Product and Service, Benefit',\n",
              " 6: 'Product and Service, System',\n",
              " 7: 'Product and Service, Usage and Condition',\n",
              " 8: 'Product and Service, Convenience',\n",
              " 9: 'Product and Service, Variety',\n",
              " 10: 'Product and Service, Decision',\n",
              " 11: 'Security',\n",
              " 12: 'No Category'}"
            ]
          },
          "metadata": {},
          "execution_count": 118
        }
      ]
    },
    {
      "cell_type": "code",
      "source": [
        "target_names=   [ \n",
        "                'Accessibility',\n",
        "                'Facility',\n",
        "                'Company Brand',\n",
        "                'Staff Quality',\n",
        "                'Timing',\n",
        "                'Product and Service, Benefit',\n",
        "                'Product and Service, System',\n",
        "                'Product and Service, Usage and Condition',\n",
        "                'Product and Service, Convenience',\n",
        "                'Product and Service, Variety',\n",
        "                'Product and Service, Decision',\n",
        "                'Security',\n",
        "                'No Category'\n",
        "                ]"
      ],
      "metadata": {
        "id": "FmC8Z-2JXwxy"
      },
      "execution_count": 119,
      "outputs": []
    },
    {
      "cell_type": "code",
      "source": [
        "from sklearn.metrics import classification_report\n",
        "\n",
        "print(classification_report(rounded_labels_ytest, rounded_labels_ypred, target_names=target_names))"
      ],
      "metadata": {
        "colab": {
          "base_uri": "https://localhost:8080/"
        },
        "id": "15fz78OeYAYa",
        "outputId": "5992b778-45cf-4577-d426-cf67a878c115"
      },
      "execution_count": 120,
      "outputs": [
        {
          "output_type": "stream",
          "name": "stdout",
          "text": [
            "                                          precision    recall  f1-score   support\n",
            "\n",
            "                           Accessibility       0.79      0.61      0.69       185\n",
            "                                Facility       1.00      0.38      0.55        16\n",
            "                           Company Brand       0.82      0.59      0.69       377\n",
            "                           Staff Quality       0.79      0.55      0.65       522\n",
            "                                  Timing       0.72      0.72      0.72      1163\n",
            "            Product and Service, Benefit       0.76      0.78      0.77      1109\n",
            "             Product and Service, System       0.81      0.91      0.86      3275\n",
            "Product and Service, Usage and Condition       0.79      0.83      0.81      2454\n",
            "        Product and Service, Convenience       0.78      0.38      0.51       153\n",
            "            Product and Service, Variety       0.82      0.65      0.72       379\n",
            "           Product and Service, Decision       0.71      0.61      0.66       232\n",
            "                                Security       0.77      0.71      0.74       152\n",
            "                             No Category       0.83      0.82      0.82      2133\n",
            "\n",
            "                                accuracy                           0.79     12150\n",
            "                               macro avg       0.80      0.66      0.71     12150\n",
            "                            weighted avg       0.79      0.79      0.79     12150\n",
            "\n"
          ]
        }
      ]
    },
    {
      "cell_type": "code",
      "source": [
        "import seaborn as sns\n",
        "from sklearn.metrics import confusion_matrix\n",
        "import matplotlib.pyplot as plt\n",
        "\n",
        "cf_matrix = confusion_matrix(rounded_labels_ytest, rounded_labels_ypred)\n",
        "\n",
        "fig, ax = plt.subplots(figsize=(10,10))    \n",
        "ax = sns.heatmap(cf_matrix, annot=True, cmap='Blues', ax=ax, fmt=\".1f\")\n",
        "\n",
        "ax.set_title('Seaborn Confusion Matrix with labels\\n\\n');\n",
        "ax.set_xlabel('\\nPredicted Flower Category')\n",
        "ax.set_ylabel('Actual Flower Category ');\n",
        "\n",
        "## Ticket labels - List must be in alphabetical order\n",
        "ax.xaxis.set_ticklabels(target_names, rotation=90)\n",
        "ax.yaxis.set_ticklabels(target_names, rotation=0)\n",
        "\n",
        "## Display the visualization of the Confusion Matrix.\n",
        "plt.show()"
      ],
      "metadata": {
        "colab": {
          "base_uri": "https://localhost:8080/",
          "height": 863
        },
        "id": "dk3GKnBQadwA",
        "outputId": "a56f0dbf-ff1e-4fd9-de37-2bf229bbc455"
      },
      "execution_count": 121,
      "outputs": [
        {
          "output_type": "display_data",
          "data": {
            "text/plain": [
              "<Figure size 720x720 with 2 Axes>"
            ],
            "image/png": "[encoded data removed]"
          },
          "metadata": {
            "needs_background": "light"
          }
        }
      ]
    },
    {
      "cell_type": "code",
      "source": [
        "figure = ax.get_figure()    \n",
        "figure.savefig(\"cf_matrix.png\", pad_inches= 12, dpi=400)"
      ],
      "metadata": {
        "id": "AX3VsO3lgLp2"
      },
      "execution_count": 122,
      "outputs": []
    }
  ]
}