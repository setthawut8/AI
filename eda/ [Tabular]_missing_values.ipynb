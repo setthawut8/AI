{
  "nbformat": 4,
  "nbformat_minor": 0,
  "metadata": {
    "colab": {
      "name": "[PyCaret] Unsupervised Clustering.ipynb",
      "provenance": [],
      "authorship_tag": "ABX9TyMD9Jh9jqN1nsuW+221vk6N",
      "include_colab_link": true
    },
    "kernelspec": {
      "name": "python3",
      "display_name": "Python 3"
    },
    "language_info": {
      "name": "python"
    }
  },
  "cells": [
    {
      "cell_type": "markdown",
      "metadata": {
        "id": "view-in-github",
        "colab_type": "text"
      },
      "source": [
        "<a href=\"https://colab.research.google.com/github/setthawut8/ai/blob/main/eda/%20%5BTabular%5D_missing_values.ipynb\" target=\"_parent\"><img src=\"https://colab.research.google.com/assets/colab-badge.svg\" alt=\"Open In Colab\"/></a>"
      ]
    },
    {
      "cell_type": "markdown",
      "source": [
        "inspiration: \n",
        "\n",
        "https://medium.com/analytics-vidhya/pycaret-101-for-beginners-27d9aefd34c5\n",
        "\n",
        "https://insaid.medium.com/a-complete-guide-to-pycaret-c07b1e51f698"
      ],
      "metadata": {
        "id": "JkH68T1mh9Eo"
      }
    },
    {
      "cell_type": "markdown",
      "source": [
        "#Library and Installation"
      ],
      "metadata": {
        "id": "Q7V_DkD2h7dG"
      }
    },
    {
      "cell_type": "code",
      "source": [
        "!pip install pycaret[full]"
      ],
      "metadata": {
        "id": "s1Tu1PlBh8Rm"
      },
      "execution_count": null,
      "outputs": []
    },
    {
      "cell_type": "code",
      "source": [
        "#Access to kaggle and download the data\n",
        "!gdown --id 19xQX20kpYtwlWbz9WEATDJ2DyDihWbLx #Download Kaggle JSON File\n",
        "\n",
        "! pip install kaggle\n",
        "! mkdir ~/.kaggle\n",
        "! cp kaggle.json ~/.kaggle/\n",
        "! chmod 600 ~/.kaggle/kaggle.json\n",
        "\n",
        "! kaggle competitions download -c tabular-playground-series-jul-2022 #download data from the Kaggle competition"
      ],
      "metadata": {
        "id": "mZnLeB5NiN95"
      },
      "execution_count": null,
      "outputs": []
    },
    {
      "cell_type": "code",
      "source": [
        "#Unzip the data files\n",
        "!unzip '/content/tabular-playground-series-jul-2022.zip'"
      ],
      "metadata": {
        "colab": {
          "base_uri": "https://localhost:8080/"
        },
        "id": "Lm-0RrKciB3z",
        "outputId": "e6deb2f9-f22c-47ec-90ce-5df76fe6faa6"
      },
      "execution_count": 4,
      "outputs": [
        {
          "output_type": "stream",
          "name": "stdout",
          "text": [
            "Archive:  /content/tabular-playground-series-jul-2022.zip\n",
            "  inflating: data.csv                \n",
            "  inflating: sample_submission.csv   \n"
          ]
        }
      ]
    },
    {
      "cell_type": "markdown",
      "source": [
        "#EDA"
      ],
      "metadata": {
        "id": "b-SHwCokj0Uu"
      }
    },
    {
      "cell_type": "code",
      "source": [
        "import numpy as np\n",
        "import pandas as pd\n",
        "import seaborn as sns\n",
        "\n",
        "import matplotlib as plt\n",
        "import matplotlib"
      ],
      "metadata": {
        "id": "RymTWYgBj5Yw"
      },
      "execution_count": 12,
      "outputs": []
    },
    {
      "cell_type": "code",
      "source": [
        "data = pd.read_csv('/content/data.csv')\n",
        "sample_submission = pd.read_csv('/content/sample_submission.csv')"
      ],
      "metadata": {
        "id": "1it6bWSsj0zr"
      },
      "execution_count": 6,
      "outputs": []
    },
    {
      "cell_type": "code",
      "source": [
        "data.head(5)"
      ],
      "metadata": {
        "colab": {
          "base_uri": "https://localhost:8080/",
          "height": 299
        },
        "id": "0jOQzBBFkFYI",
        "outputId": "1b305643-c068-42ed-8fe4-4cccd4cde7a1"
      },
      "execution_count": 7,
      "outputs": [
        {
          "output_type": "execute_result",
          "data": {
            "text/plain": [
              "   id      f_00      f_01      f_02      f_03      f_04      f_05      f_06  \\\n",
              "0   0 -0.389420 -0.912791  0.648951  0.589045 -0.830817  0.733624  2.258560   \n",
              "1   1 -0.689249 -0.453954  0.654175  0.995248 -1.653020  0.863810 -0.090651   \n",
              "2   2  0.809079  0.324568 -1.170602 -0.624491  0.105448  0.783948  1.988301   \n",
              "3   3 -0.500923  0.229049  0.264109  0.231520  0.415012 -1.221269  0.138850   \n",
              "4   4 -0.671268 -1.039533 -0.270155 -1.830264 -0.290108 -1.852809  0.781898   \n",
              "\n",
              "   f_07  f_08  ...      f_19      f_20      f_21      f_22      f_23  \\\n",
              "0     2    13  ... -0.478412 -0.757002 -0.763635 -1.090369  1.142641   \n",
              "1     2     3  ... -0.428791 -0.089908 -1.784204 -0.839474  0.459685   \n",
              "2     5    11  ... -0.413534 -1.602377  1.190984  3.267116 -0.088322   \n",
              "3     6     2  ...  0.619283  1.287801  0.532837  1.036631 -2.041828   \n",
              "4     8     7  ... -1.628830 -0.434948  0.322505  0.284326 -2.438365   \n",
              "\n",
              "       f_24      f_25      f_26      f_27      f_28  \n",
              "0 -0.884274  1.137896  1.309073  1.463002  0.813527  \n",
              "1  1.759412 -0.275422 -0.852168  0.562457 -2.680541  \n",
              "2 -2.168635 -0.974989  1.335763 -1.110655 -3.630723  \n",
              "3  1.440490 -1.900191 -0.630771 -0.050641  0.238333  \n",
              "4  1.473930 -1.044684  1.602686 -0.405263 -1.987263  \n",
              "\n",
              "[5 rows x 30 columns]"
            ],
            "text/html": [
              "\n",
              "  <div id=\"df-7738e226-03a7-4166-9052-eba468c613bf\">\n",
              "    <div class=\"colab-df-container\">\n",
              "      <div>\n",
              "<style scoped>\n",
              "    .dataframe tbody tr th:only-of-type {\n",
              "        vertical-align: middle;\n",
              "    }\n",
              "\n",
              "    .dataframe tbody tr th {\n",
              "        vertical-align: top;\n",
              "    }\n",
              "\n",
              "    .dataframe thead th {\n",
              "        text-align: right;\n",
              "    }\n",
              "</style>\n",
              "<table border=\"1\" class=\"dataframe\">\n",
              "  <thead>\n",
              "    <tr style=\"text-align: right;\">\n",
              "      <th></th>\n",
              "      <th>id</th>\n",
              "      <th>f_00</th>\n",
              "      <th>f_01</th>\n",
              "      <th>f_02</th>\n",
              "      <th>f_03</th>\n",
              "      <th>f_04</th>\n",
              "      <th>f_05</th>\n",
              "      <th>f_06</th>\n",
              "      <th>f_07</th>\n",
              "      <th>f_08</th>\n",
              "      <th>...</th>\n",
              "      <th>f_19</th>\n",
              "      <th>f_20</th>\n",
              "      <th>f_21</th>\n",
              "      <th>f_22</th>\n",
              "      <th>f_23</th>\n",
              "      <th>f_24</th>\n",
              "      <th>f_25</th>\n",
              "      <th>f_26</th>\n",
              "      <th>f_27</th>\n",
              "      <th>f_28</th>\n",
              "    </tr>\n",
              "  </thead>\n",
              "  <tbody>\n",
              "    <tr>\n",
              "      <th>0</th>\n",
              "      <td>0</td>\n",
              "      <td>-0.389420</td>\n",
              "      <td>-0.912791</td>\n",
              "      <td>0.648951</td>\n",
              "      <td>0.589045</td>\n",
              "      <td>-0.830817</td>\n",
              "      <td>0.733624</td>\n",
              "      <td>2.258560</td>\n",
              "      <td>2</td>\n",
              "      <td>13</td>\n",
              "      <td>...</td>\n",
              "      <td>-0.478412</td>\n",
              "      <td>-0.757002</td>\n",
              "      <td>-0.763635</td>\n",
              "      <td>-1.090369</td>\n",
              "      <td>1.142641</td>\n",
              "      <td>-0.884274</td>\n",
              "      <td>1.137896</td>\n",
              "      <td>1.309073</td>\n",
              "      <td>1.463002</td>\n",
              "      <td>0.813527</td>\n",
              "    </tr>\n",
              "    <tr>\n",
              "      <th>1</th>\n",
              "      <td>1</td>\n",
              "      <td>-0.689249</td>\n",
              "      <td>-0.453954</td>\n",
              "      <td>0.654175</td>\n",
              "      <td>0.995248</td>\n",
              "      <td>-1.653020</td>\n",
              "      <td>0.863810</td>\n",
              "      <td>-0.090651</td>\n",
              "      <td>2</td>\n",
              "      <td>3</td>\n",
              "      <td>...</td>\n",
              "      <td>-0.428791</td>\n",
              "      <td>-0.089908</td>\n",
              "      <td>-1.784204</td>\n",
              "      <td>-0.839474</td>\n",
              "      <td>0.459685</td>\n",
              "      <td>1.759412</td>\n",
              "      <td>-0.275422</td>\n",
              "      <td>-0.852168</td>\n",
              "      <td>0.562457</td>\n",
              "      <td>-2.680541</td>\n",
              "    </tr>\n",
              "    <tr>\n",
              "      <th>2</th>\n",
              "      <td>2</td>\n",
              "      <td>0.809079</td>\n",
              "      <td>0.324568</td>\n",
              "      <td>-1.170602</td>\n",
              "      <td>-0.624491</td>\n",
              "      <td>0.105448</td>\n",
              "      <td>0.783948</td>\n",
              "      <td>1.988301</td>\n",
              "      <td>5</td>\n",
              "      <td>11</td>\n",
              "      <td>...</td>\n",
              "      <td>-0.413534</td>\n",
              "      <td>-1.602377</td>\n",
              "      <td>1.190984</td>\n",
              "      <td>3.267116</td>\n",
              "      <td>-0.088322</td>\n",
              "      <td>-2.168635</td>\n",
              "      <td>-0.974989</td>\n",
              "      <td>1.335763</td>\n",
              "      <td>-1.110655</td>\n",
              "      <td>-3.630723</td>\n",
              "    </tr>\n",
              "    <tr>\n",
              "      <th>3</th>\n",
              "      <td>3</td>\n",
              "      <td>-0.500923</td>\n",
              "      <td>0.229049</td>\n",
              "      <td>0.264109</td>\n",
              "      <td>0.231520</td>\n",
              "      <td>0.415012</td>\n",
              "      <td>-1.221269</td>\n",
              "      <td>0.138850</td>\n",
              "      <td>6</td>\n",
              "      <td>2</td>\n",
              "      <td>...</td>\n",
              "      <td>0.619283</td>\n",
              "      <td>1.287801</td>\n",
              "      <td>0.532837</td>\n",
              "      <td>1.036631</td>\n",
              "      <td>-2.041828</td>\n",
              "      <td>1.440490</td>\n",
              "      <td>-1.900191</td>\n",
              "      <td>-0.630771</td>\n",
              "      <td>-0.050641</td>\n",
              "      <td>0.238333</td>\n",
              "    </tr>\n",
              "    <tr>\n",
              "      <th>4</th>\n",
              "      <td>4</td>\n",
              "      <td>-0.671268</td>\n",
              "      <td>-1.039533</td>\n",
              "      <td>-0.270155</td>\n",
              "      <td>-1.830264</td>\n",
              "      <td>-0.290108</td>\n",
              "      <td>-1.852809</td>\n",
              "      <td>0.781898</td>\n",
              "      <td>8</td>\n",
              "      <td>7</td>\n",
              "      <td>...</td>\n",
              "      <td>-1.628830</td>\n",
              "      <td>-0.434948</td>\n",
              "      <td>0.322505</td>\n",
              "      <td>0.284326</td>\n",
              "      <td>-2.438365</td>\n",
              "      <td>1.473930</td>\n",
              "      <td>-1.044684</td>\n",
              "      <td>1.602686</td>\n",
              "      <td>-0.405263</td>\n",
              "      <td>-1.987263</td>\n",
              "    </tr>\n",
              "  </tbody>\n",
              "</table>\n",
              "<p>5 rows × 30 columns</p>\n",
              "</div>\n",
              "      <button class=\"colab-df-convert\" onclick=\"convertToInteractive('df-7738e226-03a7-4166-9052-eba468c613bf')\"\n",
              "              title=\"Convert this dataframe to an interactive table.\"\n",
              "              style=\"display:none;\">\n",
              "        \n",
              "  <svg xmlns=\"http://www.w3.org/2000/svg\" height=\"24px\"viewBox=\"0 0 24 24\"\n",
              "       width=\"24px\">\n",
              "    <path d=\"M0 0h24v24H0V0z\" fill=\"none\"/>\n",
              "    <path d=\"M18.56 5.44l.94 2.06.94-2.06 2.06-.94-2.06-.94-.94-2.06-.94 2.06-2.06.94zm-11 1L8.5 8.5l.94-2.06 2.06-.94-2.06-.94L8.5 2.5l-.94 2.06-2.06.94zm10 10l.94 2.06.94-2.06 2.06-.94-2.06-.94-.94-2.06-.94 2.06-2.06.94z\"/><path d=\"M17.41 7.96l-1.37-1.37c-.4-.4-.92-.59-1.43-.59-.52 0-1.04.2-1.43.59L10.3 9.45l-7.72 7.72c-.78.78-.78 2.05 0 2.83L4 21.41c.39.39.9.59 1.41.59.51 0 1.02-.2 1.41-.59l7.78-7.78 2.81-2.81c.8-.78.8-2.07 0-2.86zM5.41 20L4 18.59l7.72-7.72 1.47 1.35L5.41 20z\"/>\n",
              "  </svg>\n",
              "      </button>\n",
              "      \n",
              "  <style>\n",
              "    .colab-df-container {\n",
              "      display:flex;\n",
              "      flex-wrap:wrap;\n",
              "      gap: 12px;\n",
              "    }\n",
              "\n",
              "    .colab-df-convert {\n",
              "      background-color: #E8F0FE;\n",
              "      border: none;\n",
              "      border-radius: 50%;\n",
              "      cursor: pointer;\n",
              "      display: none;\n",
              "      fill: #1967D2;\n",
              "      height: 32px;\n",
              "      padding: 0 0 0 0;\n",
              "      width: 32px;\n",
              "    }\n",
              "\n",
              "    .colab-df-convert:hover {\n",
              "      background-color: #E2EBFA;\n",
              "      box-shadow: 0px 1px 2px rgba(60, 64, 67, 0.3), 0px 1px 3px 1px rgba(60, 64, 67, 0.15);\n",
              "      fill: #174EA6;\n",
              "    }\n",
              "\n",
              "    [theme=dark] .colab-df-convert {\n",
              "      background-color: #3B4455;\n",
              "      fill: #D2E3FC;\n",
              "    }\n",
              "\n",
              "    [theme=dark] .colab-df-convert:hover {\n",
              "      background-color: #434B5C;\n",
              "      box-shadow: 0px 1px 3px 1px rgba(0, 0, 0, 0.15);\n",
              "      filter: drop-shadow(0px 1px 2px rgba(0, 0, 0, 0.3));\n",
              "      fill: #FFFFFF;\n",
              "    }\n",
              "  </style>\n",
              "\n",
              "      <script>\n",
              "        const buttonEl =\n",
              "          document.querySelector('#df-7738e226-03a7-4166-9052-eba468c613bf button.colab-df-convert');\n",
              "        buttonEl.style.display =\n",
              "          google.colab.kernel.accessAllowed ? 'block' : 'none';\n",
              "\n",
              "        async function convertToInteractive(key) {\n",
              "          const element = document.querySelector('#df-7738e226-03a7-4166-9052-eba468c613bf');\n",
              "          const dataTable =\n",
              "            await google.colab.kernel.invokeFunction('convertToInteractive',\n",
              "                                                     [key], {});\n",
              "          if (!dataTable) return;\n",
              "\n",
              "          const docLinkHtml = 'Like what you see? Visit the ' +\n",
              "            '<a target=\"_blank\" href=https://colab.research.google.com/notebooks/data_table.ipynb>data table notebook</a>'\n",
              "            + ' to learn more about interactive tables.';\n",
              "          element.innerHTML = '';\n",
              "          dataTable['output_type'] = 'display_data';\n",
              "          await google.colab.output.renderOutput(dataTable, element);\n",
              "          const docLink = document.createElement('div');\n",
              "          docLink.innerHTML = docLinkHtml;\n",
              "          element.appendChild(docLink);\n",
              "        }\n",
              "      </script>\n",
              "    </div>\n",
              "  </div>\n",
              "  "
            ]
          },
          "metadata": {},
          "execution_count": 7
        }
      ]
    },
    {
      "cell_type": "code",
      "source": [
        "sample_submission.head(5)"
      ],
      "metadata": {
        "colab": {
          "base_uri": "https://localhost:8080/",
          "height": 206
        },
        "id": "v1ylv4ArkHEo",
        "outputId": "5c0ba2e0-6a53-4a1c-cfab-2f41b782aa53"
      },
      "execution_count": 8,
      "outputs": [
        {
          "output_type": "execute_result",
          "data": {
            "text/plain": [
              "   Id  Predicted\n",
              "0   0          0\n",
              "1   1          0\n",
              "2   2          0\n",
              "3   3          0\n",
              "4   4          0"
            ],
            "text/html": [
              "\n",
              "  <div id=\"df-1fe92ac5-06aa-475a-85e4-ac4f733c18a0\">\n",
              "    <div class=\"colab-df-container\">\n",
              "      <div>\n",
              "<style scoped>\n",
              "    .dataframe tbody tr th:only-of-type {\n",
              "        vertical-align: middle;\n",
              "    }\n",
              "\n",
              "    .dataframe tbody tr th {\n",
              "        vertical-align: top;\n",
              "    }\n",
              "\n",
              "    .dataframe thead th {\n",
              "        text-align: right;\n",
              "    }\n",
              "</style>\n",
              "<table border=\"1\" class=\"dataframe\">\n",
              "  <thead>\n",
              "    <tr style=\"text-align: right;\">\n",
              "      <th></th>\n",
              "      <th>Id</th>\n",
              "      <th>Predicted</th>\n",
              "    </tr>\n",
              "  </thead>\n",
              "  <tbody>\n",
              "    <tr>\n",
              "      <th>0</th>\n",
              "      <td>0</td>\n",
              "      <td>0</td>\n",
              "    </tr>\n",
              "    <tr>\n",
              "      <th>1</th>\n",
              "      <td>1</td>\n",
              "      <td>0</td>\n",
              "    </tr>\n",
              "    <tr>\n",
              "      <th>2</th>\n",
              "      <td>2</td>\n",
              "      <td>0</td>\n",
              "    </tr>\n",
              "    <tr>\n",
              "      <th>3</th>\n",
              "      <td>3</td>\n",
              "      <td>0</td>\n",
              "    </tr>\n",
              "    <tr>\n",
              "      <th>4</th>\n",
              "      <td>4</td>\n",
              "      <td>0</td>\n",
              "    </tr>\n",
              "  </tbody>\n",
              "</table>\n",
              "</div>\n",
              "      <button class=\"colab-df-convert\" onclick=\"convertToInteractive('df-1fe92ac5-06aa-475a-85e4-ac4f733c18a0')\"\n",
              "              title=\"Convert this dataframe to an interactive table.\"\n",
              "              style=\"display:none;\">\n",
              "        \n",
              "  <svg xmlns=\"http://www.w3.org/2000/svg\" height=\"24px\"viewBox=\"0 0 24 24\"\n",
              "       width=\"24px\">\n",
              "    <path d=\"M0 0h24v24H0V0z\" fill=\"none\"/>\n",
              "    <path d=\"M18.56 5.44l.94 2.06.94-2.06 2.06-.94-2.06-.94-.94-2.06-.94 2.06-2.06.94zm-11 1L8.5 8.5l.94-2.06 2.06-.94-2.06-.94L8.5 2.5l-.94 2.06-2.06.94zm10 10l.94 2.06.94-2.06 2.06-.94-2.06-.94-.94-2.06-.94 2.06-2.06.94z\"/><path d=\"M17.41 7.96l-1.37-1.37c-.4-.4-.92-.59-1.43-.59-.52 0-1.04.2-1.43.59L10.3 9.45l-7.72 7.72c-.78.78-.78 2.05 0 2.83L4 21.41c.39.39.9.59 1.41.59.51 0 1.02-.2 1.41-.59l7.78-7.78 2.81-2.81c.8-.78.8-2.07 0-2.86zM5.41 20L4 18.59l7.72-7.72 1.47 1.35L5.41 20z\"/>\n",
              "  </svg>\n",
              "      </button>\n",
              "      \n",
              "  <style>\n",
              "    .colab-df-container {\n",
              "      display:flex;\n",
              "      flex-wrap:wrap;\n",
              "      gap: 12px;\n",
              "    }\n",
              "\n",
              "    .colab-df-convert {\n",
              "      background-color: #E8F0FE;\n",
              "      border: none;\n",
              "      border-radius: 50%;\n",
              "      cursor: pointer;\n",
              "      display: none;\n",
              "      fill: #1967D2;\n",
              "      height: 32px;\n",
              "      padding: 0 0 0 0;\n",
              "      width: 32px;\n",
              "    }\n",
              "\n",
              "    .colab-df-convert:hover {\n",
              "      background-color: #E2EBFA;\n",
              "      box-shadow: 0px 1px 2px rgba(60, 64, 67, 0.3), 0px 1px 3px 1px rgba(60, 64, 67, 0.15);\n",
              "      fill: #174EA6;\n",
              "    }\n",
              "\n",
              "    [theme=dark] .colab-df-convert {\n",
              "      background-color: #3B4455;\n",
              "      fill: #D2E3FC;\n",
              "    }\n",
              "\n",
              "    [theme=dark] .colab-df-convert:hover {\n",
              "      background-color: #434B5C;\n",
              "      box-shadow: 0px 1px 3px 1px rgba(0, 0, 0, 0.15);\n",
              "      filter: drop-shadow(0px 1px 2px rgba(0, 0, 0, 0.3));\n",
              "      fill: #FFFFFF;\n",
              "    }\n",
              "  </style>\n",
              "\n",
              "      <script>\n",
              "        const buttonEl =\n",
              "          document.querySelector('#df-1fe92ac5-06aa-475a-85e4-ac4f733c18a0 button.colab-df-convert');\n",
              "        buttonEl.style.display =\n",
              "          google.colab.kernel.accessAllowed ? 'block' : 'none';\n",
              "\n",
              "        async function convertToInteractive(key) {\n",
              "          const element = document.querySelector('#df-1fe92ac5-06aa-475a-85e4-ac4f733c18a0');\n",
              "          const dataTable =\n",
              "            await google.colab.kernel.invokeFunction('convertToInteractive',\n",
              "                                                     [key], {});\n",
              "          if (!dataTable) return;\n",
              "\n",
              "          const docLinkHtml = 'Like what you see? Visit the ' +\n",
              "            '<a target=\"_blank\" href=https://colab.research.google.com/notebooks/data_table.ipynb>data table notebook</a>'\n",
              "            + ' to learn more about interactive tables.';\n",
              "          element.innerHTML = '';\n",
              "          dataTable['output_type'] = 'display_data';\n",
              "          await google.colab.output.renderOutput(dataTable, element);\n",
              "          const docLink = document.createElement('div');\n",
              "          docLink.innerHTML = docLinkHtml;\n",
              "          element.appendChild(docLink);\n",
              "        }\n",
              "      </script>\n",
              "    </div>\n",
              "  </div>\n",
              "  "
            ]
          },
          "metadata": {},
          "execution_count": 8
        }
      ]
    },
    {
      "cell_type": "markdown",
      "source": [
        "inspiration: https://www.google.com/url?q=https://towardsdatascience.com/advanced-missing-data-imputation-methods-with-sklearn-d9875cbcc6eb&sa=D&source=editors&ust=1658122669195868&usg=AOvVaw3tixP-nsSSzzdRN3DPsfbx"
      ],
      "metadata": {
        "id": "F3Y6RmqiyNJq"
      }
    },
    {
      "cell_type": "code",
      "source": [
        "#Plot to see the missing values\n",
        "\n",
        "#change version of the matplotlib first to be able to enable heatmap as follows:\n",
        "!python -m pip uninstall matplotlib\n",
        "!pip install matplotlib==3.1.3\n",
        "\n",
        "# check for missing values in the\n",
        "sns.heatmap(data.isnull(), cbar=False)"
      ],
      "metadata": {
        "colab": {
          "base_uri": "https://localhost:8080/",
          "height": 299
        },
        "id": "d-vbQMAWkINQ",
        "outputId": "72541d1c-406e-41df-e428-55bc0afa2798"
      },
      "execution_count": 15,
      "outputs": [
        {
          "output_type": "execute_result",
          "data": {
            "text/plain": [
              "<matplotlib.axes._subplots.AxesSubplot at 0x7f08378a0b90>"
            ]
          },
          "metadata": {},
          "execution_count": 15
        },
        {
          "output_type": "display_data",
          "data": {
            "text/plain": [
              "<Figure size 432x288 with 1 Axes>"
            ],
            "image/png": "[encoded data removed]"
          },
          "metadata": {
            "needs_background": "light"
          }
        }
      ]
    },
    {
      "cell_type": "code",
      "source": [
        "#Find mean of is-nulled data\n",
        "data.isnull().mean().sort_values(ascending=False)"
      ],
      "metadata": {
        "colab": {
          "base_uri": "https://localhost:8080/"
        },
        "id": "f7rsXeEFtw2M",
        "outputId": "925fd762-e99c-47fa-ce1d-64ba09a2b310"
      },
      "execution_count": 47,
      "outputs": [
        {
          "output_type": "execute_result",
          "data": {
            "text/plain": [
              "id      0.0\n",
              "f_00    0.0\n",
              "f_27    0.0\n",
              "f_26    0.0\n",
              "f_25    0.0\n",
              "f_24    0.0\n",
              "f_23    0.0\n",
              "f_22    0.0\n",
              "f_21    0.0\n",
              "f_20    0.0\n",
              "f_19    0.0\n",
              "f_18    0.0\n",
              "f_17    0.0\n",
              "f_16    0.0\n",
              "f_15    0.0\n",
              "f_14    0.0\n",
              "f_13    0.0\n",
              "f_12    0.0\n",
              "f_11    0.0\n",
              "f_10    0.0\n",
              "f_09    0.0\n",
              "f_08    0.0\n",
              "f_07    0.0\n",
              "f_06    0.0\n",
              "f_05    0.0\n",
              "f_04    0.0\n",
              "f_03    0.0\n",
              "f_02    0.0\n",
              "f_01    0.0\n",
              "f_28    0.0\n",
              "dtype: float64"
            ]
          },
          "metadata": {},
          "execution_count": 47
        }
      ]
    },
    {
      "cell_type": "code",
      "source": [
        "!pip install missingno"
      ],
      "metadata": {
        "colab": {
          "base_uri": "https://localhost:8080/"
        },
        "id": "-WNXKh7xxHnZ",
        "outputId": "27d9cda7-9158-4718-a85a-2d81dba43838"
      },
      "execution_count": 48,
      "outputs": [
        {
          "output_type": "stream",
          "name": "stdout",
          "text": [
            "Looking in indexes: https://pypi.org/simple, https://us-python.pkg.dev/colab-wheels/public/simple/\n",
            "Requirement already satisfied: missingno in /usr/local/lib/python3.7/dist-packages (0.5.1)\n",
            "Requirement already satisfied: scipy in /usr/local/lib/python3.7/dist-packages (from missingno) (1.5.4)\n",
            "Requirement already satisfied: numpy in /usr/local/lib/python3.7/dist-packages (from missingno) (1.19.5)\n",
            "Requirement already satisfied: matplotlib in /usr/local/lib/python3.7/dist-packages (from missingno) (3.1.3)\n",
            "Requirement already satisfied: seaborn in /usr/local/lib/python3.7/dist-packages (from missingno) (0.11.2)\n",
            "Requirement already satisfied: python-dateutil>=2.1 in /usr/local/lib/python3.7/dist-packages (from matplotlib->missingno) (2.8.2)\n",
            "Requirement already satisfied: cycler>=0.10 in /usr/local/lib/python3.7/dist-packages (from matplotlib->missingno) (0.11.0)\n",
            "Requirement already satisfied: kiwisolver>=1.0.1 in /usr/local/lib/python3.7/dist-packages (from matplotlib->missingno) (1.4.3)\n",
            "Requirement already satisfied: pyparsing!=2.0.4,!=2.1.2,!=2.1.6,>=2.0.1 in /usr/local/lib/python3.7/dist-packages (from matplotlib->missingno) (3.0.9)\n",
            "Requirement already satisfied: typing-extensions in /usr/local/lib/python3.7/dist-packages (from kiwisolver>=1.0.1->matplotlib->missingno) (4.1.1)\n",
            "Requirement already satisfied: six>=1.5 in /usr/local/lib/python3.7/dist-packages (from python-dateutil>=2.1->matplotlib->missingno) (1.15.0)\n",
            "Requirement already satisfied: pandas>=0.23 in /usr/local/lib/python3.7/dist-packages (from seaborn->missingno) (1.3.5)\n",
            "Requirement already satisfied: pytz>=2017.3 in /usr/local/lib/python3.7/dist-packages (from pandas>=0.23->seaborn->missingno) (2022.1)\n"
          ]
        }
      ]
    },
    {
      "cell_type": "code",
      "source": [
        "#the more white spaces, the more missing data.\n",
        "import missingno as msno\n",
        "msno.matrix(data)"
      ],
      "metadata": {
        "colab": {
          "base_uri": "https://localhost:8080/",
          "height": 478
        },
        "id": "FXaSzwQUxPVD",
        "outputId": "f87031b0-90aa-4d03-b562-01cb7e22279f"
      },
      "execution_count": 49,
      "outputs": [
        {
          "output_type": "execute_result",
          "data": {
            "text/plain": [
              "<matplotlib.axes._subplots.AxesSubplot at 0x7f08342dc7d0>"
            ]
          },
          "metadata": {},
          "execution_count": 49
        },
        {
          "output_type": "display_data",
          "data": {
            "text/plain": [
              "<Figure size 1800x720 with 2 Axes>"
            ],
            "image/png": "[encoded data removed]"
          },
          "metadata": {
            "needs_background": "light"
          }
        }
      ]
    },
    {
      "cell_type": "code",
      "source": [
        "#See correlation of others with f_05\n",
        "msno.matrix(data.sort_values(\"f_05\"))"
      ],
      "metadata": {
        "colab": {
          "base_uri": "https://localhost:8080/",
          "height": 478
        },
        "id": "xzw5ec_gxU_R",
        "outputId": "879b2786-3be2-4cb1-b32f-160c65b863a5"
      },
      "execution_count": 53,
      "outputs": [
        {
          "output_type": "execute_result",
          "data": {
            "text/plain": [
              "<matplotlib.axes._subplots.AxesSubplot at 0x7f0834181810>"
            ]
          },
          "metadata": {},
          "execution_count": 53
        },
        {
          "output_type": "display_data",
          "data": {
            "text/plain": [
              "<Figure size 1800x720 with 2 Axes>"
            ],
            "image/png": "[encoded data removed]"
          },
          "metadata": {
            "needs_background": "light"
          }
        }
      ]
    }
  ]
}