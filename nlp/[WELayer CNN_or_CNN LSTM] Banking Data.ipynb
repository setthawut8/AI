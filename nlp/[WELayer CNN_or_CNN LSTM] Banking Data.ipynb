{
  "nbformat": 4,
  "nbformat_minor": 0,
  "metadata": {
    "colab": {
      "name": "[WELayer + CNN/CNN+LSTM] Banking Data.ipynb",
      "provenance": [],
      "collapsed_sections": [],
      "machine_shape": "hm",
      "toc_visible": true,
      "authorship_tag": "ABX9TyOi5MU17/uEDOkHSlFs4RvN",
      "include_colab_link": true
    },
    "kernelspec": {
      "name": "python3",
      "display_name": "Python 3"
    },
    "language_info": {
      "name": "python"
    },
    "gpuClass": "standard",
    "accelerator": "GPU"
  },
  "cells": [
    {
      "cell_type": "markdown",
      "metadata": {
        "id": "view-in-github",
        "colab_type": "text"
      },
      "source": [
        "<a href=\"https://colab.research.google.com/github/setthawut8/ai/blob/main/%5BWELayer_%2B_CNN_CNN%2BLSTM%5D_Banking_Data.ipynb\" target=\"_parent\"><img src=\"https://colab.research.google.com/assets/colab-badge.svg\" alt=\"Open In Colab\"/></a>"
      ]
    },
    {
      "cell_type": "markdown",
      "source": [
        "#Download Data and Library Installation"
      ],
      "metadata": {
        "id": "DKZejA_uh9kv"
      }
    },
    {
      "cell_type": "code",
      "execution_count": 1,
      "metadata": {
        "colab": {
          "base_uri": "https://localhost:8080/"
        },
        "id": "rY0gVkg8ahbS",
        "outputId": "eb537fb2-5eaf-424e-9b2e-a6baba9bf92f"
      },
      "outputs": [
        {
          "output_type": "stream",
          "name": "stdout",
          "text": [
            "/usr/local/lib/python3.7/dist-packages/gdown/cli.py:131: FutureWarning: Option `--id` was deprecated in version 4.3.1 and will be removed in 5.0. You don't need to pass it anymore to use a file ID.\n",
            "  category=FutureWarning,\n",
            "Downloading...\n",
            "From: https://drive.google.com/uc?id=1-avUDygRCGvAiPplmc6MundS_PpnohRv\n",
            "To: /content/preprocessed_v1_socialfsi_single_train_sampling12150_20220701.xlsx\n",
            "100% 3.87M/3.87M [00:00<00:00, 265MB/s]\n",
            "/usr/local/lib/python3.7/dist-packages/gdown/cli.py:131: FutureWarning: Option `--id` was deprecated in version 4.3.1 and will be removed in 5.0. You don't need to pass it anymore to use a file ID.\n",
            "  category=FutureWarning,\n",
            "Downloading...\n",
            "From: https://drive.google.com/uc?id=106OVRPIQQBppganRnCZigxQh6-Zyvqit\n",
            "To: /content/preprocessed_v1_socialfsi_single_test_sampling389_20220701.xlsx\n",
            "100% 141k/141k [00:00<00:00, 108MB/s]\n"
          ]
        }
      ],
      "source": [
        "#download data\n",
        "!gdown --id xx\n",
        "!gdown --id xx"
      ]
    },
    {
      "cell_type": "code",
      "source": [
        "#libraby \n",
        "import numpy as np\n",
        "import pandas as pd\n",
        "import seaborn as sns\n",
        "import matplotlib.pyplot as plt"
      ],
      "metadata": {
        "id": "cgMb7j8pbNQj"
      },
      "execution_count": 2,
      "outputs": []
    },
    {
      "cell_type": "code",
      "source": [
        "train = pd.read_excel('/content/preprocessed_v1_socialfsi_single_train_sampling12150_20220701.xlsx')\n",
        "test = pd.read_excel('/content/preprocessed_v1_socialfsi_single_test_sampling389_20220701.xlsx')"
      ],
      "metadata": {
        "id": "ITJldeRSbbc6"
      },
      "execution_count": 3,
      "outputs": []
    },
    {
      "cell_type": "code",
      "source": [
        "train.head(5)"
      ],
      "metadata": {
        "colab": {
          "base_uri": "https://localhost:8080/",
          "height": 565
        },
        "id": "sMuRAAX0b2mv",
        "outputId": "b28c77cb-9ba6-42ce-d97e-ddd811b31bb0"
      },
      "execution_count": 4,
      "outputs": [
        {
          "output_type": "execute_result",
          "data": {
            "text/plain": [
              "   Unnamed: 0                                       TagFile_Path  \\\n",
              "0           0  SocialFSI_ZE-KTB-Feb-Apr2022_Sampling2244_2022...   \n",
              "1           1  SocialFSI_v4_0_mutiple_train_sampling8203_2021...   \n",
              "2           2  SocialFSI_ZE-KTB-Feb-Apr2022_Sampling2244_2022...   \n",
              "3           3  SocialFSI_v4_0_mutiple_train_sampling8203_2021...   \n",
              "4           4  SocialFSI_v4_0_mutiple_train_sampling8203_2021...   \n",
              "\n",
              "                                             TagFile SV_CustomerName  \\\n",
              "0  SocialFSI_ZE-KTB-Feb-Apr2022_Sampling1400_2022...  Krungthai_NEXT   \n",
              "1  SocialFSI_TrainDataV4_RetagCLS-12_Sampling53_P...             NaN   \n",
              "2  SocialFSI_ZE-KTB-Feb-Apr2022_Sampling1200_2022...  Krungthai_NEXT   \n",
              "3  SocialFSI_TrainSCB-SocialFilterV2_Sampling2750...             NaN   \n",
              "4  SocialFSI_TrainSCB-SocialFilterV2_Sampling2750...             NaN   \n",
              "\n",
              "                                        Main keyword      Channel SubChannel  \\\n",
              "0  mobile banking+กสิกร,mobile banking+ธนาคารกสิก...  SocialMedia      forum   \n",
              "1                                                NaN  SocialMedia    Twitter   \n",
              "2                                          krungthai  SocialMedia   facebook   \n",
              "3                                                NaN  SocialMedia    Twitter   \n",
              "4                                                NaN  SocialMedia    Twitter   \n",
              "\n",
              "                                 lfdn   verbatim_id     sentence_id  \\\n",
              "0           pantip.com_topic_41249919    Q2207_1549    Q2207_1549_1   \n",
              "1            5fffc6bcb08b583a24679d59  Q202106_5805  Q202106_5805_1   \n",
              "2  10161808181448916_1330115550790924     Q2207_636     Q2207_636_1   \n",
              "3                            27634345   Q202106_961   Q202106_961_1   \n",
              "4                            28297653  Q202106_2021  Q202106_2021_1   \n",
              "\n",
              "                                       Text_original  \\\n",
              "0  สอบถามเรื่องการอายัดบัตรเดบิตของกสิกรค่ะ พอดีว...   \n",
              "1  ปกติจะไม่ชอบlog in ใดๆในคอมคนอื่นหรือสำนักงานใ...   \n",
              "2  Krungthai Care ณ. ตอนนี้ยอดก็ยังไม่เข้าค่ะ ถ้า...   \n",
              "3  @scb_thailand เรียน scb ขอเบอร?ตืดต่อเพราะคุย ...   \n",
              "4  ไอเลิ้บ TMB All Free มาก แต่ช่วยพัฒนาแอพให้สเถ...   \n",
              "\n",
              "                                                Text  \\\n",
              "0  สอบถามเรื่องการอายัดบัตรเดบิตของกสิกรค่ะ พอดีว...   \n",
              "1  ปกติจะไม่ชอบlog in ใดๆในคอมคนอื่นหรือสำนักงานใ...   \n",
              "2  Krungthai Care ณ. ตอนนี้ยอดก็ยังไม่เข้าค่ะ ถ้า...   \n",
              "3  @scb_thailand เรียน scb ขอเบอร?ตืดต่อเพราะคุย ...   \n",
              "4                          ไอเลิ้บ TMB All Free มาก    \n",
              "\n",
              "                             Human_Category  Human_CategoryID Human_Sentiment  \\\n",
              "0  Product and Service, Usage and Condition                 8         neutral   \n",
              "1                                  Security                12         neutral   \n",
              "2               Product and Service, System                 7        negative   \n",
              "3                             Staff Quality                 4        negative   \n",
              "4  Product and Service, Usage and Condition                 8        positive   \n",
              "\n",
              "  Human_SentimentID                                      Text_ws_local  \n",
              "0                 o  สอบถาม|เรื่อง|การ|อายัด|บัตรเดบิต|ของ|kbank|ค่...  \n",
              "1                 o  ปกติ|จะ|ไม่ชอบ| |log| |in| |ใดๆ| |ใน|ค|อม|คนอื...  \n",
              "2                 n  ktb| |care| |ณ|.| |ตอนนี้|ยอด|ก็|ยัง|ไม่|เข้า|...  \n",
              "3                 n  scb_thailand| |เรียน| |scb| |ขอ|เบอร| |ตืด|ต่อ...  \n",
              "4                 p                    ไอ|เลิ้บ| |tmb_all_free| |มาก|   "
            ],
            "text/html": [
              "\n",
              "  <div id=\"df-ba095acc-43ec-40ec-bc00-87e4bbc2d75f\">\n",
              "    <div class=\"colab-df-container\">\n",
              "      <div>\n",
              "<style scoped>\n",
              "    .dataframe tbody tr th:only-of-type {\n",
              "        vertical-align: middle;\n",
              "    }\n",
              "\n",
              "    .dataframe tbody tr th {\n",
              "        vertical-align: top;\n",
              "    }\n",
              "\n",
              "    .dataframe thead th {\n",
              "        text-align: right;\n",
              "    }\n",
              "</style>\n",
              "<table border=\"1\" class=\"dataframe\">\n",
              "  <thead>\n",
              "    <tr style=\"text-align: right;\">\n",
              "      <th></th>\n",
              "      <th>Unnamed: 0</th>\n",
              "      <th>TagFile_Path</th>\n",
              "      <th>TagFile</th>\n",
              "      <th>SV_CustomerName</th>\n",
              "      <th>Main keyword</th>\n",
              "      <th>Channel</th>\n",
              "      <th>SubChannel</th>\n",
              "      <th>lfdn</th>\n",
              "      <th>verbatim_id</th>\n",
              "      <th>sentence_id</th>\n",
              "      <th>Text_original</th>\n",
              "      <th>Text</th>\n",
              "      <th>Human_Category</th>\n",
              "      <th>Human_CategoryID</th>\n",
              "      <th>Human_Sentiment</th>\n",
              "      <th>Human_SentimentID</th>\n",
              "      <th>Text_ws_local</th>\n",
              "    </tr>\n",
              "  </thead>\n",
              "  <tbody>\n",
              "    <tr>\n",
              "      <th>0</th>\n",
              "      <td>0</td>\n",
              "      <td>SocialFSI_ZE-KTB-Feb-Apr2022_Sampling2244_2022...</td>\n",
              "      <td>SocialFSI_ZE-KTB-Feb-Apr2022_Sampling1400_2022...</td>\n",
              "      <td>Krungthai_NEXT</td>\n",
              "      <td>mobile banking+กสิกร,mobile banking+ธนาคารกสิก...</td>\n",
              "      <td>SocialMedia</td>\n",
              "      <td>forum</td>\n",
              "      <td>pantip.com_topic_41249919</td>\n",
              "      <td>Q2207_1549</td>\n",
              "      <td>Q2207_1549_1</td>\n",
              "      <td>สอบถามเรื่องการอายัดบัตรเดบิตของกสิกรค่ะ พอดีว...</td>\n",
              "      <td>สอบถามเรื่องการอายัดบัตรเดบิตของกสิกรค่ะ พอดีว...</td>\n",
              "      <td>Product and Service, Usage and Condition</td>\n",
              "      <td>8</td>\n",
              "      <td>neutral</td>\n",
              "      <td>o</td>\n",
              "      <td>สอบถาม|เรื่อง|การ|อายัด|บัตรเดบิต|ของ|kbank|ค่...</td>\n",
              "    </tr>\n",
              "    <tr>\n",
              "      <th>1</th>\n",
              "      <td>1</td>\n",
              "      <td>SocialFSI_v4_0_mutiple_train_sampling8203_2021...</td>\n",
              "      <td>SocialFSI_TrainDataV4_RetagCLS-12_Sampling53_P...</td>\n",
              "      <td>NaN</td>\n",
              "      <td>NaN</td>\n",
              "      <td>SocialMedia</td>\n",
              "      <td>Twitter</td>\n",
              "      <td>5fffc6bcb08b583a24679d59</td>\n",
              "      <td>Q202106_5805</td>\n",
              "      <td>Q202106_5805_1</td>\n",
              "      <td>ปกติจะไม่ชอบlog in ใดๆในคอมคนอื่นหรือสำนักงานใ...</td>\n",
              "      <td>ปกติจะไม่ชอบlog in ใดๆในคอมคนอื่นหรือสำนักงานใ...</td>\n",
              "      <td>Security</td>\n",
              "      <td>12</td>\n",
              "      <td>neutral</td>\n",
              "      <td>o</td>\n",
              "      <td>ปกติ|จะ|ไม่ชอบ| |log| |in| |ใดๆ| |ใน|ค|อม|คนอื...</td>\n",
              "    </tr>\n",
              "    <tr>\n",
              "      <th>2</th>\n",
              "      <td>2</td>\n",
              "      <td>SocialFSI_ZE-KTB-Feb-Apr2022_Sampling2244_2022...</td>\n",
              "      <td>SocialFSI_ZE-KTB-Feb-Apr2022_Sampling1200_2022...</td>\n",
              "      <td>Krungthai_NEXT</td>\n",
              "      <td>krungthai</td>\n",
              "      <td>SocialMedia</td>\n",
              "      <td>facebook</td>\n",
              "      <td>10161808181448916_1330115550790924</td>\n",
              "      <td>Q2207_636</td>\n",
              "      <td>Q2207_636_1</td>\n",
              "      <td>Krungthai Care ณ. ตอนนี้ยอดก็ยังไม่เข้าค่ะ ถ้า...</td>\n",
              "      <td>Krungthai Care ณ. ตอนนี้ยอดก็ยังไม่เข้าค่ะ ถ้า...</td>\n",
              "      <td>Product and Service, System</td>\n",
              "      <td>7</td>\n",
              "      <td>negative</td>\n",
              "      <td>n</td>\n",
              "      <td>ktb| |care| |ณ|.| |ตอนนี้|ยอด|ก็|ยัง|ไม่|เข้า|...</td>\n",
              "    </tr>\n",
              "    <tr>\n",
              "      <th>3</th>\n",
              "      <td>3</td>\n",
              "      <td>SocialFSI_v4_0_mutiple_train_sampling8203_2021...</td>\n",
              "      <td>SocialFSI_TrainSCB-SocialFilterV2_Sampling2750...</td>\n",
              "      <td>NaN</td>\n",
              "      <td>NaN</td>\n",
              "      <td>SocialMedia</td>\n",
              "      <td>Twitter</td>\n",
              "      <td>27634345</td>\n",
              "      <td>Q202106_961</td>\n",
              "      <td>Q202106_961_1</td>\n",
              "      <td>@scb_thailand เรียน scb ขอเบอร?ตืดต่อเพราะคุย ...</td>\n",
              "      <td>@scb_thailand เรียน scb ขอเบอร?ตืดต่อเพราะคุย ...</td>\n",
              "      <td>Staff Quality</td>\n",
              "      <td>4</td>\n",
              "      <td>negative</td>\n",
              "      <td>n</td>\n",
              "      <td>scb_thailand| |เรียน| |scb| |ขอ|เบอร| |ตืด|ต่อ...</td>\n",
              "    </tr>\n",
              "    <tr>\n",
              "      <th>4</th>\n",
              "      <td>4</td>\n",
              "      <td>SocialFSI_v4_0_mutiple_train_sampling8203_2021...</td>\n",
              "      <td>SocialFSI_TrainSCB-SocialFilterV2_Sampling2750...</td>\n",
              "      <td>NaN</td>\n",
              "      <td>NaN</td>\n",
              "      <td>SocialMedia</td>\n",
              "      <td>Twitter</td>\n",
              "      <td>28297653</td>\n",
              "      <td>Q202106_2021</td>\n",
              "      <td>Q202106_2021_1</td>\n",
              "      <td>ไอเลิ้บ TMB All Free มาก แต่ช่วยพัฒนาแอพให้สเถ...</td>\n",
              "      <td>ไอเลิ้บ TMB All Free มาก</td>\n",
              "      <td>Product and Service, Usage and Condition</td>\n",
              "      <td>8</td>\n",
              "      <td>positive</td>\n",
              "      <td>p</td>\n",
              "      <td>ไอ|เลิ้บ| |tmb_all_free| |มาก|</td>\n",
              "    </tr>\n",
              "  </tbody>\n",
              "</table>\n",
              "</div>\n",
              "      <button class=\"colab-df-convert\" onclick=\"convertToInteractive('df-ba095acc-43ec-40ec-bc00-87e4bbc2d75f')\"\n",
              "              title=\"Convert this dataframe to an interactive table.\"\n",
              "              style=\"display:none;\">\n",
              "        \n",
              "  <svg xmlns=\"http://www.w3.org/2000/svg\" height=\"24px\"viewBox=\"0 0 24 24\"\n",
              "       width=\"24px\">\n",
              "    <path d=\"M0 0h24v24H0V0z\" fill=\"none\"/>\n",
              "    <path d=\"M18.56 5.44l.94 2.06.94-2.06 2.06-.94-2.06-.94-.94-2.06-.94 2.06-2.06.94zm-11 1L8.5 8.5l.94-2.06 2.06-.94-2.06-.94L8.5 2.5l-.94 2.06-2.06.94zm10 10l.94 2.06.94-2.06 2.06-.94-2.06-.94-.94-2.06-.94 2.06-2.06.94z\"/><path d=\"M17.41 7.96l-1.37-1.37c-.4-.4-.92-.59-1.43-.59-.52 0-1.04.2-1.43.59L10.3 9.45l-7.72 7.72c-.78.78-.78 2.05 0 2.83L4 21.41c.39.39.9.59 1.41.59.51 0 1.02-.2 1.41-.59l7.78-7.78 2.81-2.81c.8-.78.8-2.07 0-2.86zM5.41 20L4 18.59l7.72-7.72 1.47 1.35L5.41 20z\"/>\n",
              "  </svg>\n",
              "      </button>\n",
              "      \n",
              "  <style>\n",
              "    .colab-df-container {\n",
              "      display:flex;\n",
              "      flex-wrap:wrap;\n",
              "      gap: 12px;\n",
              "    }\n",
              "\n",
              "    .colab-df-convert {\n",
              "      background-color: #E8F0FE;\n",
              "      border: none;\n",
              "      border-radius: 50%;\n",
              "      cursor: pointer;\n",
              "      display: none;\n",
              "      fill: #1967D2;\n",
              "      height: 32px;\n",
              "      padding: 0 0 0 0;\n",
              "      width: 32px;\n",
              "    }\n",
              "\n",
              "    .colab-df-convert:hover {\n",
              "      background-color: #E2EBFA;\n",
              "      box-shadow: 0px 1px 2px rgba(60, 64, 67, 0.3), 0px 1px 3px 1px rgba(60, 64, 67, 0.15);\n",
              "      fill: #174EA6;\n",
              "    }\n",
              "\n",
              "    [theme=dark] .colab-df-convert {\n",
              "      background-color: #3B4455;\n",
              "      fill: #D2E3FC;\n",
              "    }\n",
              "\n",
              "    [theme=dark] .colab-df-convert:hover {\n",
              "      background-color: #434B5C;\n",
              "      box-shadow: 0px 1px 3px 1px rgba(0, 0, 0, 0.15);\n",
              "      filter: drop-shadow(0px 1px 2px rgba(0, 0, 0, 0.3));\n",
              "      fill: #FFFFFF;\n",
              "    }\n",
              "  </style>\n",
              "\n",
              "      <script>\n",
              "        const buttonEl =\n",
              "          document.querySelector('#df-ba095acc-43ec-40ec-bc00-87e4bbc2d75f button.colab-df-convert');\n",
              "        buttonEl.style.display =\n",
              "          google.colab.kernel.accessAllowed ? 'block' : 'none';\n",
              "\n",
              "        async function convertToInteractive(key) {\n",
              "          const element = document.querySelector('#df-ba095acc-43ec-40ec-bc00-87e4bbc2d75f');\n",
              "          const dataTable =\n",
              "            await google.colab.kernel.invokeFunction('convertToInteractive',\n",
              "                                                     [key], {});\n",
              "          if (!dataTable) return;\n",
              "\n",
              "          const docLinkHtml = 'Like what you see? Visit the ' +\n",
              "            '<a target=\"_blank\" href=https://colab.research.google.com/notebooks/data_table.ipynb>data table notebook</a>'\n",
              "            + ' to learn more about interactive tables.';\n",
              "          element.innerHTML = '';\n",
              "          dataTable['output_type'] = 'display_data';\n",
              "          await google.colab.output.renderOutput(dataTable, element);\n",
              "          const docLink = document.createElement('div');\n",
              "          docLink.innerHTML = docLinkHtml;\n",
              "          element.appendChild(docLink);\n",
              "        }\n",
              "      </script>\n",
              "    </div>\n",
              "  </div>\n",
              "  "
            ]
          },
          "metadata": {},
          "execution_count": 4
        }
      ]
    },
    {
      "cell_type": "code",
      "source": [
        "train['Human_CategoryID'].sort_index(ascending=True).value_counts()"
      ],
      "metadata": {
        "colab": {
          "base_uri": "https://localhost:8080/"
        },
        "id": "HA6bOeakDu5L",
        "outputId": "f8cbfb8a-923f-4fab-d593-9f83a1f43cf6"
      },
      "execution_count": 5,
      "outputs": [
        {
          "output_type": "execute_result",
          "data": {
            "text/plain": [
              "7     3275\n",
              "8     2454\n",
              "13    2133\n",
              "5     1163\n",
              "6     1109\n",
              "4      522\n",
              "10     379\n",
              "3      377\n",
              "11     232\n",
              "1      185\n",
              "9      153\n",
              "12     152\n",
              "2       16\n",
              "Name: Human_CategoryID, dtype: int64"
            ]
          },
          "metadata": {},
          "execution_count": 5
        }
      ]
    },
    {
      "cell_type": "markdown",
      "source": [
        "#Create a Vocabulary"
      ],
      "metadata": {
        "id": "3hRruw5Ph59Y"
      }
    },
    {
      "cell_type": "code",
      "source": [
        "from collections import Counter\n",
        "\n",
        "vocab = Counter()\n",
        "def data_to_vocab(df):\n",
        "  for verbatim in df['Text_ws_local']:\n",
        "    tokens = verbatim.split()\n",
        "    tokens = [word for word in tokens if len(tokens) > 4] #at first = 1, CNN GMP is better with >4 for ~2%\n",
        "    vocab.update(tokens)\n",
        "\n",
        "data_to_vocab(train)\n",
        "\n",
        "print(len(vocab))\n",
        "vocab.most_common(20)"
      ],
      "metadata": {
        "colab": {
          "base_uri": "https://localhost:8080/"
        },
        "id": "9KsihNdkb28k",
        "outputId": "6d89d5f4-8f25-44dd-a219-2f4d01044d83"
      },
      "execution_count": 6,
      "outputs": [
        {
          "output_type": "stream",
          "name": "stdout",
          "text": [
            "46943\n"
          ]
        },
        {
          "output_type": "execute_result",
          "data": {
            "text/plain": [
              "[('|scb|', 1518),\n",
              " ('|friendtag|', 625),\n",
              " ('|2|', 512),\n",
              " ('|kbank|', 403),\n",
              " ('|บาท|', 360),\n",
              " ('|1|', 340),\n",
              " ('|3|', 329),\n",
              " ('|5|', 298),\n",
              " ('|tmb|', 251),\n",
              " ('|call_center|', 250),\n",
              " ('|atm|', 249),\n",
              " ('atm|', 245),\n",
              " ('|scb_easy|', 201),\n",
              " ('|telephonetag|', 199),\n",
              " ('|app|', 199),\n",
              " ('|กรุงไทย|', 198),\n",
              " ('|-|', 184),\n",
              " ('|sms|', 178),\n",
              " ('|ktc|', 176),\n",
              " ('|ของ|', 164)]"
            ]
          },
          "metadata": {},
          "execution_count": 6
        }
      ]
    },
    {
      "cell_type": "code",
      "source": [
        "min_occurence = 2\n",
        "tokens = [k for k, c in vocab.items() if c >= min_occurence]"
      ],
      "metadata": {
        "id": "YqxVmTU0hXYD"
      },
      "execution_count": 7,
      "outputs": []
    },
    {
      "cell_type": "code",
      "source": [
        "def save_list(lines, filename):\n",
        "  data = '\\n'.join(lines)\n",
        "  file = open(filename, 'w')\n",
        "  file.write(data)\n",
        "  file.close()\n",
        "  \n",
        "save_list(tokens, 'vocab.txt')"
      ],
      "metadata": {
        "id": "dxb6rJv_gzC1"
      },
      "execution_count": 8,
      "outputs": []
    },
    {
      "cell_type": "markdown",
      "source": [
        "#Train Embedding Layer"
      ],
      "metadata": {
        "id": "WbZ5MsM0iCNr"
      }
    },
    {
      "cell_type": "code",
      "source": [
        "#Load the vocab as above\n",
        "def load_doc(filename):\n",
        "  file = open(filename, 'r')\n",
        "  text = file.read()\n",
        "  file.close()\n",
        "  return text\n",
        "\n",
        "vocab_filename = 'vocab.txt'\n",
        "vocab = load_doc(vocab_filename)\n",
        "vocab = vocab.split()\n",
        "vocab = set(vocab)\n",
        "\n",
        "print(vocab)"
      ],
      "metadata": {
        "colab": {
          "base_uri": "https://localhost:8080/"
        },
        "id": "xWxGiDbLiDjC",
        "outputId": "40512c04-48c4-4bc5-cc52-6a9d3f709c00"
      },
      "execution_count": 9,
      "outputs": [
        {
          "output_type": "stream",
          "name": "stdout",
          "text": [
            "{'|แจ้ง|ธนาคาร|', '|มีข้อดี|', '|แน่นอน', '|เรา|ก็|ไม่สามารถ|ใช้|', '|ประทับใจ|', '|เอ|อ|', '|ซึ่ง|ไม่|ตรงกับ|ที่|โครงการ|ดีล|ไว้|เลย|ครับ|', '|ทอง|', 'ตู้|', '|หักเงิน|ใน|บัญชี|ไป|แล้ว|', '|ผม|ใช้|', '|บาท|ได้|', '|e-mail|', '|หรอ|ครับ|', '|อื่นๆ|', '|bot|', '|scb_my_travel|', '|บาท|ไทย|', '|ไลน์|', 'suphakit|', '|เรา|ไม่|ทิ้ง|กัน', '|major|', '|เขา|เลย|ป|ริ้น|ให้|', '|ธนาคาร|ธนาคารเพื่อการเกษตรและสหกรณ์การเกษตร|', '|แต่|จริงๆ|', '|vpn|', '|201|', 'ทำ|ประกัน|', '|บัตรกดเงินสด|', '|กด|ไม่ได้|', '|ทั้ง|แอป|', '|แอป|ธนาคาร|', '|1.|', '|map|', 'เรียน|', '|มี|.ค|', '|2017|', '|แต่|', '|วัน|นะคะ|', '|เติม|จาก|', '|ป|ล.|', '|เดือน|แล้ว|', '|scb_prime|', '|แล้ว|อย่างนี้|เรา|จะต้อง|ไป|ติดต่อ|ที่ไหน|ดี|คะ', '|อันนี้|ไม่|รู้ว่า|สรุป|เป็น|ยังไง|บ้าง|', '|เลย|ค่ะ', '|society|', '|เร็วๆ', '|60000|', 'ขอบคุณ|ค่ะ|', '|จาก|ทาง|', '|สถาบันการเงิน|ชื่อดัง|', '|ลูกค้า|โอน|จาก|', '|ครั้ง|', '7|', '|ได้|ครับ', '|ที่อยู่|', '|spotify|', '|nav|', '|report|', '|เรา|ไม่|ทิ้ง|กัน|', '|2565|', '|10|k|', '|13.30|', '|counter|', '|ไม่รู้|', '|วันนี้|ครบ|', '|หรือ|เหลือ|แค่นั้น|', '|port|', '|เชียงใหม่|', '|แต่|พอกด|สมัคร|ไป|แล้ว|', '|ปกติ|ที่|ถอน|คือ|', '|ละ|เพิ่ม|', '|แจ้ง|บัญชี|ของ|คุณ|ผิดปกติ|', '|แต่|ไม่ใช่|บัญชี|หลัก|', 'ปิดบัญชี|ฝากประจำ|ก่อนกำหนด|ได้|ไหม|', '|4000|', '|เก็บ|ยิ่ง|นาน|', '|มัน|มี|', '|ได้|ภายใน|', '|เอ้า|', 'คือว่า|ผม|สั่งซื้อ|', '|ก่อน|', '|ลด|ๆ|', '|gmarket', '|แต่|เงิน|ไม่|ออก|', '|กบข.|', '|เพื่อน|ๆ|', '|รอ|ดู|', '|แล้ว|ครับ|', '|-', '|เท่าไหร่|', '|น่าสนใจ|มาก|ครับ|', '|advisor|', '|13.00|', '|14|', '|บัญชี|ปลายทาง|', '|ทำให้|ปลายทาง|ไม่ได้|รับเงิน|', '|แจ้งเตือน|เงินเข้า|ไม่มี|สัก|ข้อความ|เลย|ค่ะ|', '|ไทยพาณิชย์|', '|ธนาคาร|นี้|', '|หักเงิน|ไป|แล้ว|', '|20.57|', '|เอง|ครับ|', '|ครั้ง|แล้ว|', '|ดัน|ใช้ไม่ได้', '|รบกวน|หน่อย|ครับ', '|เช่นกัน|ค่ะ|', '|ของ|', '|ยอด|', '|ก.ค.|', 'ขออนุญาต|', '|รหัส|', '|แล้ว|ว่ะ|', '|เลิก|ใช้|', '|แอป|ควย|', '|เพียง|', '|เฟิร์ส|ช้อย|', '|ไม่สามารถ|ทำ|รายการ|ทางการ|เงินได้|ในขณะนี้|', '|เยอะ|ๆ|', '|ใคร|เข้าระบบ|ได้|มั่ง|ครับ|', '|ง|อง|มาก', '|vs|', '|13|', '|time|', '|น.', '|ตัวเอง|', '|line', '|แลกเงิน|ตาม|โป|ร|', '|ได้|ประมาณ|', '|ตอบ|', '|และ|ไทยพาณิชย์|', 'ขอ|', '|โทร|เช็ค|กับ|ธนาคารกรุงไทย|ชัว|กว่า|ค่ะ|', '|t|1|', '|ไม่|แจ้ง|', '|ผ่อน|กับ|', '|สมัคร|บัตรเครดิต|', '|จาก|ธนาคาร|', '|anan|', '|pro|', '|สรุป|คือ|', '|โทร|ไปหา|', '|mall|', '|ทำให้|', 'mymo|', 'สมัคร|สินเชื่อ|', '|1.|ktc|', '|ไม่|ค่ะ|', '|23163|', '|ไม่สามารถ|ดำเนินการ|ใดๆ|', '|airline|', 'ตาม|หัวข้อ|เลย|ค่ะ|', '|ขึ้น|รหัส|', 'ผ่อน|รถ|กับ|', '|เดียว|', '|touch|', '|ของ|ธนาคาร|bbl|', '|สอบถาม|หน่อย|นะคะ|', '|เมย|', '|ไหน|', '|กว่า|ปี|', '|110|', 'scb_easy|', '|ทำไม|เข้า|ไม่ได้|อะ|', '|สตางค์|', '|อยาก|ถาม|ว่า|', '|เปลี่ยน|มา|', '|แต่|มี|', '|250|', '|กี่|เดือน|', '|ธรรมดา|', '|เลข|', '|คือ|อยู่|ๆ|', '|apple|', 'paotang|', '|มี|แล้ว|', '|ผม|ใช้|มา|', '|smebank|', '|63|', '|ถ้า|มี|บัญชี|', '|เรื่อง|แอป|', '|520|', '|ไม่|เข้า|', '|1|-|3|', '|top|', '|วันนี้|ระบบ|ของ|ธนาคาร|ปรับปรุง|เหรอ|คะ|', '|ลำ|ลูก|กา|', '|เดือน|', '|-|', '|ไม่|รองรับ|', '|2.8|', '|ธนาคาร|แจ้ง|ว่า|', '|truewallet|', '|พอ|', '|โอนเงิน|ไป|', '|17.30|', '|ได้|แล้ว|นะ|ครับ|', '|จะ|ออกบัตร|กด|ฟรี|ได้|อย่างไร|', '|m|', '|ปล่อยกู้|', '|ย|', '|2019|', '|ควย|', '|ร้าน|ป|ริ้น|ยัง|ไม่|เปิด|นี่|เลย|จะ|เปิดบัญชี|เพื่อ|จ่ายเงิน|', '|นานมาก|แล้ว|', '|เป็นไร|วะ|', '|มกราคม|', '|ยื่น|ไป|', '|10', '|สั่ง|อาหาร|', '|พี่|', 'ใช่|ครับ|', '|จะ|ผ่าน|', '|ยู|เมะ|', '|ตก|', '|browser|', '|27000|', '|ฝากประจำ|', '|สุดท้าย|คุณ|ก็|หยอด|จน|เต็ม|', 'เรา|อยากจะ|ติดต่อสอบถาม|เรื่อง|การ|พัก|หนี้|ค่ะ|', '|แล้ว|พอ|', '|เพิ่มเติม|', '|citibankgold|', '|แล้ว|ค่ะ|', '|5500|', '|ที่|จาก|', '|แต่|ของ|', '|เมื่อวาน|อยู่|ที่', '|dm|', '2|', '|scb_easy|', '|scb-m|', '5|', '|จริงๆ|', '|สินเชื่อ|เสริม|พลัง|ฐานราก|', '|อยู่|เลย|ครับ|', '|website|', '|แต่|ใน|', '|t_t|', '|ก็|ยัง|เหมือนเดิม|', '|00.00|', '|บ้าบอ|', '|ใน|', '|ยอดเงิน|', '|swift|', '|margin|', '|อ้าว|', '|รหัสผ่าน|', 'ของ|', '|ดี|ค่ะ|', 'ณ|', '|555', '|e-saving|', '|ค|ห|.|', '|หน่อย|ค่ะ|', '|2020|', '|ไหน|ๆ|', 'kitisak|', '|บาท|อยู่แล้ว|', '|7|-|11|', '|พูดจา|แย่มาก|', '|alipay|', '|กด|สมัคร|', '|reference|', '|คน|', 'วันนี้|', '|ระวัง|หน่อย|', 'atm|', '|ชื่อ|', '|ไม่ได้|สักที|', '11|43|', '|ขนาด|', 'ของ|ผม|', '|ยัง|ไม่ได้|เลย|', 'คำถาม|ที่', 'โอนเงิน|จาก|กรุงไทย|', '|7|', '|ขึ้น|ว่า|ไม่|พบ|ข้อมูล|การ|สมัคร|', '7|-|11|', '|60|', '3|1|', '|limited|', 'ยอมแพ้|ที่', '|แลก|', '|คน|ไม่|เยอะ|', '|ค่าธรรมเนียมรายปี|', 'ktb|', '18|', '|หลาย|รอบ|มาก|', '|อย่าง|', '|แม้แต่|บัตร|', '|ทำ|เรื่อง|', '|หมุนเวียน|และ|สินเชื่อ|ได้|เพิ่ม|', '0|1012564|', '|btc|', '|e|', '|opd|', '|2130|', '|7500|', '|รบกวน|ช่วย|หน่อย|นะคะ', '|ของ|bay|', '27|', '|ถอน|', '|น.|', '|trip|', '|mymo', '|4|-|5|', '8|', '|12.00|', '|บาท|ผ่าน|พร้อมเพย์|', '|65', '|ทั้งที่|มี|', '|5000', '|ไป|ตั้งแต่|วัน|ที่', '|คือ|ไร|อ่ะ', '|แปลกๆ|', '|slip|', 'เมื่อ|วัน|ที่', '|waive|', '|2|', '|อี|เวร|', '|36|', 'ที่|สำคัญ|', '|krungthai_next|', 'หวัง|ว่า|', '|jmart|', '|700|', '|คลิก|เพื่อ|ดู|ข้อความ|ที่ซ่อน|ไว้|ใส่|ข้อความ', '|ปี|คะ|', '|เข้า|', '|ไม่ต้อง|ชำระ|', 'โอ้|', '|ก็ได้|', '|เงินฝากประจำ|กรุงไทย|', '|kbank_live|', '|30|', '|ถ', '|banks|', '|บาท|ต่อ|คะแนน|', '|thailand|', '|18000|', '|125|', '|wow|', '|ด้วย|ละ|อ่า|', '|จนถึง|วันนี้|', '|ไม่มีเงิน|แล้ว|', '|เกี่ยวกับ|', '|สัปดาห์|', 'เอ|อ|', '|เร็วๆ|', '|นะ|ครับ', '|ถ|', '|design|', '|scb_m_live|', '|ใช่|', '|ว่า|เพราะอะไร|', '|นาน|มากๆ|', '|งง', '|pttgc|', '|ไม่มี|กำหนด|หมดอายุ|', '|ก็|ไม่มี|คนรับ|', '|ที่ใช้|', '|bayfirst_choice|', '|เงิน|ไม่|เข้า|ครับ|', '|อาย|เพื่อน', '|ค่า|ประเมิน|', '|910|', '|ผ่าน|มือถือ|ผ่าน|แอป|', '|ต่างประเทศ|', '|คือ|', 'kplus|', '|1900|', '|ผ่อน|รถ|', '|สัก|', '|เอง|', '|โทร|เป็น|ชาติ|', '|ขอบคุณ|', '|ล่ม', '|กอง|เดิม|', '|k-plus|', '|เลิก|ใช้|วอ|เลท', '|อายัด|', '|กรุงไทย', 'bbl|', 'ขอบคุณ|ครับ|', '|ครบ|', 'โอนเงิน|ไป|แล้ว|', '|cash', 'tmb|', '|v|', '|เฮ้อ|', '|prime|', '|บน|มือถือ|', '|เลขที่บัญชี|', '|cpall|', '|2330|-|0000|', '|xx|', '|balance|', 'โหลด|แอป|', '|express|', '|ยัง|ไม่|เข้า|เลย', '|store|', '|ผม|ก็|', '|อีก|', '|5400|', '|ชม.|แล้ว|', '|ลอง|ไป|ศึกษา|ดูก่อน|', '|เป็น|เบอร์|', 'โอน|ไป|', '|pvd|', '|ปี|แล้ว|ครับ|', '|set|', '|ข้าราชการ|', '|หัวใจ|ของ|เรา|มัน|จะต้อง|', '|for|', '|มา|เป็น|', '|เดือน|แรก|', '|นาน|', '|กว่า|หน่วย|', '|ปกติ|จะ|มี|', '|เท่า|', 'ว่าแต่|', '|kbankxblackpink', '|ไม่|เลย|', '|uid|', '|momo|', '|ไม่มี|เลย|', '|fun|', '|ตาม|หัวข้อ|เลย|ค่ะ|', '|check|', '|nikecom|', '|ทั้ง|คนอื่นๆ|', '|หลาย|รอบ|แล้ว|', '|next|', 'เย่|', '|transaction|', '|เกาหลี|', '|หนึ่ง|', '|ทำไม|นาน|จัง|', '|แต่|ไม่|เข้า|บัช|ชี|', 'visa|', '|beyond|', 'อยู่ดีๆ|', '|กด|ตัง|จาก|ตู้|ทหาร|ไทย|ได้|ถูกต้อง|ไหม|', '|เงิน|ฝากออมทรัพย์|แบบ|ไม่มี|สมุด|', '|บาท|ใน|', '|หลังจากนั้น|', '|gsb', '|ไว้|ใน|', '|ไม่ได้|แล้ว|', '|บ|ลา|ๆ|', '|be|', '|เวลา|', '|เสีย|ค่าธรรมเนียม|อีก|', '|ถ่าย|บัตร|', '|ได้|เลย', '|โทร|หลาย|รอบ|', '|แล้ว|โหลด|แอป|', '|no|', '|toyota|', '|ไอ|', '|23|', '|bay', '|k-cyber|', '|ตู้|แต่|ไม่มี|แบงก์|ย่อย|จ่าย|เลย|', '|คำถาม|', 'โทร|', '|อัตโนมัติ|', '|นั่น|คือ|', '|จะต้อง|รอ|ถึง|เมื่อไหร่|', '|จะ|ผ่าน|ไหม|ครับ|', '|บาท|แน่ะ|', '9|', 'scb_first|', '|แต่|บัตร|ใหม่|ที่|เป็น|', '|กัน|แน่|', '|เมื่อวาน|ไป|ทำ|เรื่อง|ก็|ทำไม่ได้|', '|ktb|', '|สีเทา|', '|สมุดบัญชี|', '|ไว้ใจ|เอา|เงิน|ไป|ฝาก|', '|มี|สลิปเงินเดือน|', '|อี|ควาย|', '|เมื่อคืน|', '|รอง|มา|', '|high|', 'ขออนุญาต|สอบถาม|ครับ|', '|ดังนั้น|', '|ios|', '|ไม่ได้|ใช้|', '|ทาง|ธนาคาร|', '|ทุ่ม|กว่า|ๆ|', '|ของ|bbl|', '|customer|', '|ออก|บัตรเดบิต|ไม่ได้|', '|จน|วันนี้|วัน|ที่', '|อ่ะ|ค่ะ|', '|ธนาคาร|อื่นๆ|', '|rate|', 'โทร|หา|คอลเซนเตอร์|', '|อะ|', 'สินเชื่อบ้าน_scb|', '|หมายเลข|อ้างอิง|', '|770|', '|ขอ|ประจาน|ตัวเอง|', '|ที่|', '|the|', '|นะคะ', '|เป็นต้น|', '|50000|', '|ยืนยัน|ตัวตน|ปุ๊บ|', '|บาท|ต่อ|เดือน|', '|ออกมา|', '|187|', '|account|', 'แล้ว|ทำไม|', '|a-mobile|', '|รอบ|ที่', '|จน|วัน|ที่', '|ทำไง|ดี|คะ', '|เบอร์|ผิด|', '|อีกแล้ว|', '|วิ่ง|ก่อน|', 'bay|', '|เรียน|', '|เบอร์|โทรศัพท์|', '|ตอนนี้|โต|แล้ว|', '|เนี่ย|', '|download|', '|ช่วง|เดือน|', '|แถม|', '|200|', '|ทุก|ช่องทาง|', '|first_choice|', 'อยาก|สอบถาม|ว่า|', '|starbucks|', '|luxe|', '|remind|', '|แต่|บัญชี|ปลายทาง|ไม่ได้|รับเงิน|', '|covid-|19|', 'จ่ายเงิน|', 'สอบถาม|คะ|', 'pin|', '|usa|', '|หรือ|อะไร|', '|welcome|', '|โทร|มา|', '|ขอบคุณ', '|ชำระเงิน|', '|ไปที่|', '|ธนาคาร|เลย|', '|หมายถึง|', '|รอ|นาน|ที่สุด|คือ|', '|platinum|', '|ใบ', '|45|-|60|', '|tmb|.|', '|จะ|ร้องไห้', '|or|', '|scb|.|', '|16|', '|6.6|', '|ต่อ|ปี|', '|10.02|', '|เลย|', '|proud|', '|kkp|', '|900|', '|ธนาคาร|ก็|หายเงียบ|ไป|', '|the|1|', '|activate|', 'น้อยๆ|', '|grab|', '|ทุกปี|', '|มูลค่า|', 'ขอ|สอบถาม|ผู้รู้|หน่อย|ครับ|', '|สงสัย|', '|140|', '|เนื่องจาก|บัญชี|นั้น|โดน|ยึด|ไป|ด้วย|ปัญหา|หนี้สิน|', '|โดย|', '|แห|นะ', '|ตอนนี้|วัน|ที่', '|แล้ว|มี|', 'กู้เงิน|กับ|', '|ซื้อของ|', '|ตอนนี้|มี|', '|aeon|', '|ลืม|', '|ตัดเงิน|ใน|บัญชี|แล้ว|', '|ais|', 'วันนี้|เวลา|', '|สีเขียว|', '|โต|ขึ้นมา|คุณ|เลย|เป็น|คน|รู้จัก|อดทนอดกลั้น|', '|เติม|ไป|', '|ทำไง|ดี|คะ|', '|2021|', '|เมื่อ|เทียบกับ|', '|pay|', '|กว่า|บาท|', '|uob|', '|ประเด็น|คือ|', '|แต่|แอป|', '|02|', '|speedy|', '|ตู้|', '|แจ้ง|คอลเซนเตอร์|', '|7|-|8|', '|ของ|tmb|', 'สวัสดี|', '|วัน|แล้ว|ค่ะ|', '|สรุป|', '|ไม่|', '|air|', '|ทำ|ยังไง|ก็|ไม่|ผ่าน|', '|มีเงิน|', '|ป|ล|', '|ละ', 'baac|', '|ตอนนี้|เงินเดือน|', '|ฉบับ|', '|ยากเย็น|', '|ไม่มีปัญหา|เลย|', '|2|-|4|', '|ตั้งแต่|เมื่อวาน|ตอน|', '|ไฟ|', '|ก่อน', '|เปิด|พร้อมกัน|', '|จะ|ผ่าน|ไหม|', '|เซ็ง|มาก', '|ครั้งละ|', '|jitta|', '|kb|', 'เข้า|', '|พยายาม|', '|บัตรเครดิต|', '|kt-ashare|', '|แล้ว|ต้อง|ทำ|อะไรบ้าง|', '|มัน|ขึ้น|ว่า|', '4|363|', '|งง|ไป|หมด|', '|ขอความช่วยเหลือ|', '|แจ้ง|สำเร็จ|', 'รบกวน|สอบถาม|หน่อย|ครับ|', '|จู่ๆ|', '|cap|', '|3500|', '|โอน|จาก|', '|โอน|ไป|', '|จาก|กระทู้|', '|ทำไง|ดี|ค่ะ', '|ประกันสังคม|', '|mou|', '|มากกว่า|', '|โทร|มา|แจ้ง|ยอด|ชำระ|ค่างวดรถ|วัน|ละ|', '|usd|', '|kbank', '|ไป|ค่ะ|', '|59|', '|อ๋อ|', '|callcenter|', '|ไม่|หยิบ|เงิน|ออกจาก|ตู้|', '|ก็|ติดต่อ|ไม่ได้|', '|ava|', 'คุณ|', '|ค|', '|เงียบกริบ|', '19|', '|ของ|ตัวเอง|', '|flow|', '|โหลด|แอป|', '|74|', '|loan|', '|เข้า|ไม่ได้|', '|tech|', '|500|-|600|', 'สอบถาม|เรื่อง|บัตรเครดิต|', '|youth|', '|ซื้อ|', '|2561|', '|โอ้|ย|', '|1.3|', '|เพราะ|เงิน|ออกจาก|ธนาคารกรุงไทย|แล้ว|ครับ|', 'อ|ห|', '|lh|', '|bbl|ค่ะ|', '|ndid|', '|กุมภาพันธ์|', '|app|', '|สมุทรปราการ|', '|รวม|ๆ|', '|to|', '|ดีกว่า|', '|เงินฝาก|', '|scb_mlive|', '|แล้ว|รอ|', '|เปิด|', '|ผม|เปิดบัญชี|', 'ประกัน|', '|2700000|', '|ตั้งแต่|', '|สะสมแต้ม|', '|บริการ|ดี|', '|ล้าง|ข้อมูล|ใน|มือถือ|', '|คิดว่า|', '|ยอด|ไม่|เข้า|', '|master|', '|ธนาคาร|kbank|', '|มายัง|', '|ๆ|ค่ะ|', '|umay|', '|อิ|ห่า|', '|ไป|ยืนยัน|ตัวตน|ที่|ตู้', 'เหมือน|', '|ธ|', '|ตาม|รูป|', 'scb_thailand|', '|งง|มาก', 'atm', '|กับ|กรุงไทย|', '|เพราะ|', '26|', '|ผล|ปรากฏ|ว่า|', '|ฮือ|', '|แม่|ง|', 'ขอ|สอบถาม|หน่อย|ค่ะ|', '|ไม่|เกี่ยวข้องกับ|ข้อมูล|เครดตบู|โร|', '|หายไป|ไหน|', '|ของ|ระบบ|', '|atm|.|', '|โทร|เข้า|', '|ว้อท|', '|เฉยๆ|', '|400000|', '|เรา|ใช้|', '|ติดต่อ|ธนาคาร|เจ้าของ|บัตร|', '|tot|', '|แต่|ยอด|ไม่|เข้า|', '|57|', '|นาที|', '|ในช่วง|', '|มากๆ|', '|simple|', '|ไป|ไทยพาณิชย์|', '|ต้อง|โทร|ไปหา|', '|รวย|', '|e-savings|', '|268|', '|ยากมาก|', '|exchange|', '|ไง|คะ|', '|ทั้งหลาย|', '|กรุงไทย|', '|23|xxx|', '|อยาก|สอบถาม|เพื่อน|ๆ|', '|ktc|', 'ๆ|', '|กลุ่ม|ที่', '|โอน|เวลา|', '|เรา|ก็|งง|', '|ขอบคุณ|มาก|ครับ', '|ประเทศไทย|', '|แจ้ง|ว่า|', '|800|', '|live|', '|g-wallet|', '|ready|', '|ก็|เป็นส่วนหนึ่ง|ครับ', '|bk|', '|ป่ะ|', '|it|', '|ธนาคาร|คือ|', '|ไว้|ไหม|คะ|', '|ใช้เวลา|ประมาณ|', 'callcenter|', '|เดิม|', '1555|', '|ผูก|', '|telephonetag|', '|amount|', '|ไม่|ผ่าน|', '|ป|', '|ต่อ|', '|1700|', 'เจ้าของ|กระทู้|', 'คือ|', '|krungsri_jcb|', '|อาชีพ|', '|หมื่น|บาท|', '|โอน|เข้า|', '|จุก|ๆ|', '|อยากจะ|ผ่อน|คอน|โด|ราคา|', '|สอบถาม|ค่ะ|', '|ยัง|', 'ออกๆ|', '|0|', '|เสร็จ|', '|จนถึง|', '|ทั้งๆ', '|แสก|น|', '|33|', '|krungthai_care', '|ดอกเบี้ย|ยิ่ง|เยอะ|ค่ะ', '|ชอบ|', '|ชม.|', '|fund|', '|ไม่ได้|', '|app', '|ก็|ล่ม|', '|ไม่มี|แอป|', '|scblt|2|', '|ต้อง|รอ|', '|kbank|เอาเปรียบ|บ|ลิงค์|', 'พึ่ง|รู้ว่า|', '|aliexpress|', '|ดี', '|เอทีเอ็ม|', 'ใช่|ค่ะ|', '|ค่า|บ้าน|', '|1000|', '|แพลทินัม|', '|บาท|ครับ|', '|makeups|', '|truemoney|', '|ยัง|ไม่ได้|', '|ได้|ลด|', 'กรุงเทพ|', '|trade|', 'ยกเลิก|', '|ถ้า|แจ้ง|ช่องทาง|ไหน|ครับ|', '|ปิด|เครื่อง|', 'เรา|ใช้|', '|18.11|', '|ยอด|จาก|อนาคต|ตอน|', '|11.30|', '|ktb|กรุงไทย|', '|กลัว|จะ|มีปัญหา|', '|ต้อง|ใช้|', '|ขอโทษ|นะคะ|', 'โอนเงิน|ผ่าน|', '|อี|กรอบ|', 'sms|', 'มี|', '|รบกวน|ทาง|', '|เรา|โอนเงิน|จาก|', '|คิว|ยาว|', 'มึง|', '|ไม่สามารถ|', '|รอบ|', '|กู|', 'เติมเงิน|ผ่าน|แอป|', '|ได้คืน|', '|มี|บัญชี|kbank|', '|วัน|แล้ว|', '|เป็น|จำนวน|', '|ค่ะ', '|ตู้', '|ไม่|ต่ำกว่า|', '|kept|', '|ไม่มีภาระ|หนี้สิน|', '|รบกวน|ด้วย|ครับ', '|ก็ได้|คะแนน|', '|สาย|', '|35000|', '|ยัง|ไม่|เข้า|เลย|ครับ', '|ที่ไหนได้|', '|หุ้น|ไทย|', '|จาก|ตู้', '|จบ|ข่าว|', '|จน|บัดนี้|', '|ชม|', '|16.00|', '|29000|', '|เอกสาร|ครบ|', '|เวลา|ประมาณ|', '|ตอนนี้|เลย|', '|โปรโมชั่น|', '|ลบ|', '|ใช่ไหม|', '|ห่วยแตก', '|จ่าย|ดอก|ทุกเดือน|', '|ทุ่ม|ของ|มึง|เนี่ย|เหมือนกัน|เลย|จ๊ะ|', '|ปลายทาง|kbank|', '|ai|', '|bankkokbank|', '|ไม่เข้าใจ|ว่า|', '|ที่|บริษัท|', '|ได้|เลย|ค่ะ|', '|จะ|', '|แล้ว|เรา|ลงทะเบียน|ไป|วัน|ที่', '|arkk|', 'รี|ล่า|', '|ยืนยัน|', '|มี|เพื่อน|ๆ|', 'เติมเงิน|จาก|', '|เลือก|จ่าย|ด้วย|', '|แล้ว|ทาง|', '-|', '|ฟรี|ค่าธรรมเนียม|', '|เช็ค|สถานะ|', '25|320|', '|บัตร|อนุมัติ|', '|premium|', '|นึกคิด|', '|คน|ทำคนเดียว|กัน|เหรอ|', '|19.35|', '|คือ|ยังไง|', '|นี่|จะ|', 'ติดต่อ|ไปที่|คอลเซนเตอร์|ของ|ทาง|กรุงไทย|', '|แล้ว|ใช้|', '|class|', '|สามารถ|เปลี่ยน|', '|investment|', '|มี|หนี้|บัตร|', '|สินเชื่อหมุนเวียน|', '|เข้ามา|ที่|ไทย|', '|ชาติหน้า|คะ|', '|บาท|อะ|', '|ๆ', '|ใช้จ่าย|', '|อ|ห|', '|ผม|ต้อง|ทำ|อย่างไร', '|leasing|', '|tfex|', '|99|', '|ไม่ก็|', '|mpass|', '|ใบ|', '|พนักงาน|ชาย|', '|มี|ข้อความ|จาก|', 'ไป|ขอ|สินเชื่อ|', '|สะดวก', '|of|', '|ให้|หมด|', 'พร้อมเพย์|ต้อง|ไป|ติดต่อ|กับ|ธนาคาร|เจ้าของ|บัญชี|เพื่อ|ลงทะเบียน|ผูก|บัญชี|เข้ากับ|หมายเลขโทรศัพท์|ครับ|', '|ทำ|บัตร|', '|โดน|', '|อนุมัติ|', '|นะ|', '|play|', '|airways|', '|กรุงไทย_axa|', '|แย่สุดๆ|', '|t-t', '|ทาง|', 'เอ|', '|ต้อง|ทำไง|ค่ะ', '|ใช้|แต่|', '|ktb|.|', '|บอก|ว่า|', '|เปลี่ยน|', '|มือถือ|', '|ใช้ได้|', '|ส่วน|พวก|', '|พวก|', '|ใช่|ค่ะ|', '|ล้าน', '|จน|ผ่านไป|เป็น|เดือน|แล้ว|', '|scb|.', '|อนุมัติ|แล้ว|', '|5000.|-|', '|สแกน|หน้า|', '|ถาม|', '|รอบๆ|', '|ออมทรัพย์|', '|station|', '|scan|', '|ผู้จัดการ|', '|ตี|', '|เติม|เงินเข้า|', '|เท|วินทร์|', '|ผ่าน|แอป|', '|ต.ค.|', '|paste|', '|หรือไม่|', 'โง่|เอง|', '|jaymart|', '|ต้อง|จ่าย|', '|ขออนุญาต|', '|ไป|ธนาคาร|อื่น|', 'ขอ|สอบถาม|หน่อย|ค่า|', '|ผ่อน|เดือน|ละ|', '|ขึ้นมา|', 'ทุกคน|', '|พอดี|', '|qr|', '|ตั้งแต่|วัน|ที่', '|กำไร|', '|ก็|ให้|', '|ต้อง|มี|', '|ขอ|', '|scbtmf|', '|โมโห', '|2645|', '|ไฟแนนซ์|ไทยพาณิชย์|โทร|มา|ทวง|', '|ต้อง|ทำ|ยังไง|คะ|', '|เป็นบ้า|หรอ|', '|ทำไง|ครับ', '|k-esaving|', '|asia|', '|บลจ|', 'พี่|ที่|ธนาคารกรุงไทย|ใจ|ดีมาก|', '|ทำไง|ดี|ครับ|', 'รอ|', '|ตอบ|โจทย์|ที่สุด|', 'ใน|แอป|', '|passbook|', '|จะ|ได้|ไหม|คะ|', '|ข้อเสีย|', '|3.|', '|ไปยัง|bbl|แต่|เงิน|ไม่|เข้า|', '|2.78|', '|ได้|ไหม|', '|my|', '|default|', '|1.6|-|1.8|', '|ไป|แล้ว|', '|20|k|', '|อยู่แล้ว|', '|ทวง|แทน|', '|jitta_wealth|', '|เป็น|อะไร|', '|มาก|', '|-_-', '|mask|', '|ไม่ต้อง|ไป|ธนาคาร|', '|ล่ม|หรือเปล่า|ครับ|', '|อย่าง|เรา|มี|kbank|', '|19', '|web|', '|ธนาคารอาคารสงเคราะห์|', 'เจอ|เหมือนกัน|', 'เป็น|ธนาคาร|', '|ประเมิน|', '|แบบ|ครับ|', 'k|', '|emoji|', '|ชั่วโมง|แล้ว|', '|งวด|ละ|', '|failed|', '|ถึงจะ|สามารถ|เช็ค|ได้|', '|note|', '|backup|', '|คือว่า|', '22|', '|น้อยกว่า|', '|แล้า|', '|นาที|แล้ว|', '|ธนาคารไทยพาณิชย์|', '|ontop|', '|ทำ|ยังไง|ดี|คะ|', 'บัตรเครดิต|', '|kbankxblackpinkfanmeeting', '|ที่ผูก|ไว้|', '|รอบ|แล้ว|ค่ะ|', '|ตลาดนัด|', '|100|', '|ได้|ด้วย|', '|ใช้ง่าย|', '|100|k|', '|หรอ|คะ|', '3|', '|truemoneywallet|', '|จน|ต้อง|ถ่อ|ไปถึง|โร|บิน|สัน|เอง|', '|จ่าย|', 'โทร|ติดต่อ|', '|ให้|รอ|', '|2.3|', '|มั้ง|', '|gift|', '|ดีมาก|เหมือนกัน|', '|one|', '|ลดเหลือ|', '|มี|แอ|ฟ|', '|หรือ|ธนาคาร|', '|กรอก|ข้อมูล|แล้ว|', '|เป็นสมาชิก|', '|ก็|ไม่|เข้า|', '|ประกันชีวิต|', '|โค|วิค|', '|ใช้|บัตร|', '|ยัง|ไม่|ได้รับ|', '|sms|', '|40|k|', '|ตัดยอด|', '|ไป|เข้า|', '|คำถาม|คือ|', '|มิถุนายน|', '|โดยที่|เรา|ไม่ได้|เข้า|', '|จะ|โอนเงิน|', '|ได้|ไหม|ค่ะ', '|1500|', '|จ่าย|ก่อน|', '|ใช่ไหม|ครับ|', '|ทหาร|ไทย|', '|เข้าไป|แด|ใหม่|คะ|', '|kjourney|', '|ทำ|อย่างไร|ได้|บ้าง|คะ|', '|เงิน|ยัง|ไม่|เข้า|เลย|ค่ะ|', '|ส่ง|', '|ก|ย|', 'ติดต่อ|เจ้าหน้าที่|', '|แง|ง', '|merchant|', '|ใน|แอ|ฟ|มัน|เป็น|ออ|มท|ร|พ|ย|์|', '|อะไร|เนี่ย', '|เรา|ติดต่อ|ไปที่|เบอร์|โทร|สำนักงานใหญ่|ไฟแนนซ์|ไทยพาณิชย์|บอก|ว่า|จะ|ติดต่อ|กลับมา|', '|สอบถาม|โทร|', '|ทุกครั้ง|', '|80|', '|ส|ภ|.|', '|บอก|ระบบ|ยังไม่เสร็จ|', '|bdms|', '|apps|', '|ช่วง|', '|มี|นา|', '|โอนเงิน|เข้าบัญชี|', '|krungthai_axa|', 'krungthai_care|', '|ราคา|หุ้น|', '|cdm|', '|so|', '|แต่|เงิน|ไม่|เข้า|ครับ|', '|อย่างเช่น|', '|พนักงาน|บอก|ว่า|', '|นานไป|ไหม|', '|199|', '|แล้ว|อยู่|ๆ|', '|retention|', '|ค่ะ|', '|simplicity|', '|รึ|เปล่า|ครับ|', '|ที่|ลง|', '|กับ|', 'ตาม|หัวข้อ|เลย|', '|เท่านั้น', '|ยอด', '|ktc_jcb|', '|600|', '|บ้าน|แล้ว|ไม่รู้|จะ|เอา|เงิน|ไป|ทำ|อะไร|ก็|ไปหา|ฝาก|ที่นี่|ก่อน', '|ยกเว้น|ของ|scb|', '|จะ|ยกเลิก|สิทธิ์|', '|จริง|', '|copy|', '|รบกวน|', 'scbplanet|', '|รอคิว|นานมาก|', '|ห่วย|ๆ|', 'บัตร|หัว|', '|ป|ต|ท|', '|และ|', '|เงินเดือน|ไม่|ถึง|', '|เม.ย|', '|ไป|เมื่อ|วัน|ที่', '|ปี|ครับ', '|ติดต่อ|ยากมาก|', '|ม|ค|', '|ของ|บัญชีธนาคาร|นิติบุคคล|ที่|ปิด|ไป|แล้ว|ต้อง|ทำ|อย่างไรบ้าง|คะ|', '|ไม่|ขึ้น|ใน|', '|มา|บอก|ว่า|', '|ก็|เห็น|', '|เฮงซวย', '|พอดี|ว่า|', '|ตัดยอด|ทันที|', '|รายการ|', '|kce|', '|โอนเงิน|จาก|', '|ล่ม|ตั้งแต่|เมื่อวาน|', '|แล้ว|ไม่มี|', '|คิว|', '|fwd|', '|ตัด|ไป|', '|invest|', '|พ่อ|', '|k-esavings|', '|วันนี้|', '|ว่า|ตอนนี้|', '|11100|', '|อยากจะ|สอบถาม|ว่า|', '|ได้|แล้ว|', '|youtrip|', '|bbl', '|หมดแล้ว|', '|ทาง|ออนไลน์|', '|พ|น.|', '|อาทิตย์|ละ|', '|20930|', '|ก็|', '|start|', '|เช่น|', 'เป็น|ลูกค้า|', '|จะ|มี|', '|pround|', '|อยู่|ค่ะ|', '|โอ้|ย', '|เป็น|ส่วนลด|', '|โฆษณา|ว่า|', '|ด้วย|', '|saving|', '|19.00|', '|call|', '|พัน|บาท|', '|6|-|7|', '|ems|', '|แย่มาก', '|and|', '|scb|ค่ะ|', '|สอบถาม|หน่อย|ค่ะ|', '|ต้อง|ทำ|ยังไง|บ้าง|คะ|', '|แอ|ฟ|', '13|', '|3|g|', '|โทร|ทุกวัน|', '|ทำไม|เงิน|ไม่|เข้า|', 'ขอบคุณ|', '|เอง', '|น้อง|', '|24|', '|kma|', '|เดือดร้อน|มากๆ|', '|ค|ป|ภ|.|', 'รีวิว|', '|jasif|', '|scb|', '|เงิน|ตั้ง|', '|อีดอก|', '|ปลายทาง|', '|9000|', '|ๆ|', '|180|', '|_', '|เปิด|บัญชีเงินฝาก|', '|เป็น|ตั้ง|แตา|ก่อน|มี|กระแส|', '|หรือ|', '|atmdebit|', '|โฉนด|', '|cashback|', '|lounge|', '|จะ|กู้เงิน|ใน|ไลน์|', '|3|g|4|g|', '|นาที', '|อยู่', '|ต้อง|นำ|บัตร|', '|วัน|ทำการ', '|msig|', '|กทม|', '|10.30|', '|ของ|kbank|', '|เซ็ง', '|4', '|เบื่อ|', '|30|-|40|', '|ผ่อน|ตก|ล้าน|ละ|', '|ไม่|เกิน|', '|แล้ว|กด|', '|แต่กลับ|ไม่มีใคร|โทร|มา|ทวง|เลย|กลับเป็น|ส่ง|', '|กับ|รหัส|', '|สวัสดี|ครับ|', '|มี|แค่|', '|หรือ|ไป|', 'มี|บัตร|', '|1.5|', '25|', 'เรา|สมัคร|', '|ระยะเวลา|', '|10.32|', 'อ่ะ|', '|คำ|ว่า|', '|card|', 'สอบถาม|', '|ยืนยัน|ตัวตน|', '|3|', '|ยัง|เป็น|นิสิต|อยู่|', '|อ่าว|', '|ghb|', '|โอน|เข้า|กรุงไทย|', '|ต้อง|เปิดบัญชี|', '|64|', '|sch|', '|ถาม|จริง|', '|ของ|ธนาคารกรุงไทย|คือ|แย่มาก|', '|บาท|ขึ้นไป|', '|บัตรประชาชน|', '|number|', '|ไม่|ใช้|เงิน|จนกว่า|จะ|เก็บ|ถึง|เป้า|', '22|072019|', '|เรย|', '|up|2|me|', '|got|7|keepspinninginbkk|', '|ขอบคุณ|ค่ะ|', '|แต่|ทาง|', '|ค่ะ|.|', 'kbank|ค่ะ|', '|เปิดบัญชี|ใหม่|', '|1300|', '|ปีนี้|ได้|ไหม|ครับ|', '|ปันผล|', '|แต่|ไม่|เกิน|', '|สุดท้าย|', 'อยาก|ถาม|ว่า|', '|easy|', '|premier|', '|k-express|', '|หมื่น|', 'ควย|', '|พอ|วัน|ที่', '|ครั้ง', '|lazada|', '|ไม่|มีอาชีพ|', '|มาร|', '|ส่ง|มา|', '|fundclick|', '|โมโห|', '|การ|ขอ|เพิ่มวงเงินถาวร|', '|ช่วย|ตอบ|หน่อย|ครับ', '|โอน|เงินเข้า|', 'กดเงิน|', '|เดือน|ค่ะ|', '|shoppee|', '|เสียความรู้สึก|มาก|', '|รอ|ถึง|', '|fee|', '2.|', '|เงินงวด|', 'ขอ|สอบถาม|คะ|', '|นี้|', '|หรือ|พี่|ๆ|', '|ได้|วงเงินรวม|', '|due|', '|ksme|', 'เติมเงิน|ผิด|เบอร์|ค่ะ|', '|wha|', 'สอบถาม|ครับ|', '|ทาง|kbank|', '|bay|', '|สีม่วง|', '|แต่|บัญชี|ปลายทาง|ไม่|ได้รับ|ยอด|', '|ดี|นะ|', '|ไม่พอ|', '|กับ|บัตร|', '|รำคาญ|', '|เป๊ก|ผลิต|โชค|', '|ก็|มี|', '|10.2|', 'สอบถาม|หน่อย|ครับ|', '|ใช่|ๆ|', '|ตั้งแต่|เมื่อวาน|', '|ขอบคุณ|มาก|ค่ะ|', '|วีซ่า|', '|เลือก|', 'น่าจะเป็น|', '|ก็|คือ|', '|edition|', '|ใช้|', '|แสน|ต่อ|เดือน|', '|ขออนุญาต|ถาม|หน่อย|ได้|ไหม|คะ|', '|timeout|', '|จ่าย|ไป|', 'ขอบ|สอบถาม|หน่อย|ค่ะ|', '|ไทยพาณิชย์', '|ขอ|ถาม|หน่อย|ค่ะ|', '|ยอดเงิน|ไม่|เข้า|', '|pttep|', 'สวัสดี|ค่ะ|', '|thai|', '|ขอนแก่น|', '|เท่ากับว่า|', '|ขออภัย|ครับ|', 'เข้า|แอป|', '|แต่|ไม่|สามารถทำได้|', '|เมษา|', '|อยู่|ๆ|', 'เรา|เลย|โทร|ไป|ที่', '|ค่า', '|เจ้าหน้าที่|โทร|มา|ทวง|ค่าบริการ|ชำระ|', '|สวัสดี|', '|มีปัญหา|', '|เสียเวลา', '|2600000|', '|เริ่ม|', '|เช็ค|', '|หรือ|ตาม|แต่ละ|พื้นที่|', '|170|', '|วัน|ๆ|', '|ไม่ได้|เลย|', '|rueantan|', 'แอป|bbl|', '|หรือเปล่า|', '|คัน|', '|service|', 'อี|สัส|', '|เยอะมาก|', '|internetbanking|', '|ซึ่ง|', '|นามสกุล|', '|2212563|', '|money|', 'ทำไม|', '|หงุดหงิด|', '|จบ', '|1.|ผม|ต้อง|แจ้ง|อะไร|กับ|ทาง|', '|อายัด|บัตร|', '|ได้|ไหม', '|ไว้|', '|หมดความอดทน|', '|62|', '|เสีย|', '|ทีนี้|', '|ของ|ธนาคาร|', '|infinite|', '|digital|', '|หรอ|', '|cancel|', '|เงิน|เยียวยา|', '|กดเงิน|ไม่|ใช้|บัตร|ไม่ได้|ค่ะ|', '|และ|ใช้|วงเงิน|ค้ำประกัน|ต่ำสุด|กี่|บาท|ได้|บัตร|ประเภท|ไหน|บ้าง|ครับ', '|ใหม่|', '|1115|', '|แบงก์|', 'บัตรเดบิต|', '|ปัด|ตก|', '|บ้าง|ค่ะ|', '|บน|', '|สัก|ปี|ละ|', '|1599|', '|หมด|', '|เข้า|กรุงไทย|', '|spoil|', 'แนะนำ|', 'grab|', '|จริงๆ', '|ครับผม|', '|เรา|ก็|โทร|เข้าไป|อีก|', '|เงินเข้า|ปกติ|', '|บัตรเครดิต|bbl|', '|9|', '|161|', '|ต้อง|ยืนยัน|', '|32300|', '|ไม่มี|ประวัติ|จ่าย|ช้า|ของ|ใบ|นี้|ครับ', '|scbset|50|', '|อิอิ|', 'เพื่อน|ๆ|', '|ณ|', 'ไฟแนนซ์|', '|ต้องการ|ปิดบัญชี|ไป|เลย|', 'โดน|', '|shopee|', '|จะ|เป็น|', '|ธนาคาร|ล่ม|', '|ก็|ต้อง|มี|ระยะ|รอคอย|', '|ref|.|1|', '|เมื่อ|เวลา|', 'ปิดบัญชี|', '|เซ็ง|มาก|', 'app|', '|จะ|ทำ|อย่างไร|', '|refund|', '|รอ|', '|ได้|ครับ|', '|นั่ง|', '|55|', '|ประทับใจ', '|ฟรี|', '|offer|', '|ไป|ติดต่อ|ธนาคาร|', '|เม.ย.|', '|สำเนา|บัตร|', '|ด|', 'mobile|', '|ดี|ไหม|', '|ธนาคาร|หนู|เงิน|ประมาณ|', '|แต่|ประเด็น|คือ|', '|ต้อง|ติดต่อ|ธนาคาร|', '|mebytmb|', '|กะ|', '|c|', '|journey|', '|3.00|', '|rop|', '|สะดวกมาก|', '|งวด|', '|ทำ|มา|', '|ไม่สำเร็จ|', 'สรุป|', '|ทำไง|ดี', '|ง่าย|ดี|', '|ไม่|สา|มาร|อนุมัติ|บัตรเครดิต|ของ|ท่าน|ได้|เป็นผล|จาก|เกณฑ์|พิจาร|ณ|รา|ของ|บริษัท|เท่านั้น|', '|jlpt|', '|มา|ว่า|', '|scbs|', '|citi_premier|', '|22000|', '|ctw|', '|สด|', '|ต้นๆ|', '|ระหว่าง|', '|ktb', '|2', '|foodpanda|', '|ณ', '|โทร|ติดต่อ|ยากมาก|', '|ก็|ยัง|ไม่ติดต่อ|กลับมา|ตกลง|ไฟแนนซ์|ไทยพาณิชย์|', '|แนะนำ|', '|kbank_wisdom|', '|ช้า|มาก|', '|เซ|ง|', '|พร้อมเพย์|', '|ไม่สนใจ|', '|ลอง|ดูๆ|', '|operator|', '|dca|', '|รักษา|', '|กุ|มีปัญหา|กับ|ไลน์|แมน|อีก|', '|พนักงาน|', '|ให้|', '|เพราะ|ไม่มี|บัตร|', '|ยัง|มี|', '|งง|ค่ะ|', 'เจ้าหน้าที่|', '|สาขา|ใน|สนามบิน|สุวรรณ|ภูมิ|', '|finalodysseyconcert|', '|30000|', '|name|', '|เร็วมาก|', '|badservice', '|อุดรธานี|', 'วัน|ที่', '|ถูก|', '|อี|เหี้ย', '|500|', '|สู้|', '|เป็นต้นไป|', '|ที่|เป็น|', '16|', '|ของ|ผม|', '|ร|ร|', 'เมื่อวาน|', '|ขอบคุณ|นะ|ครับ|', '|เงินเข้า|', '|กด|', '|ล่ม|', '|ktsf|', '|เปลี่ยนเป็น|', '|ญี่ปุ่น|', '|เฮ้อ', '|ช่วงนี้|', 'เจริญ|', '|ไป|ต่าง|ธนาคาร|', '|จ่าย|ด้วย|บัตรเดบิต|ktb|และ|ผม|ได้|ทำ|การยกเลิก|การสั่งซื้อ|ไป|', '|ปี|ค่ะ|', '|แล้ว|มา|สแกน|ใหม่|', '|7000|', '|ค้าง|', '|ปี|ที่แล้ว|', '|ขอบคุณ|ล่วงหน้า|ค่ะ', '|ของ|บัญชี|', '|รอบ|ไม่|ผ่าน|', '|17|-|01|-|2563|', '|กรณี|', '|เงิน|ยัง|ไม่|เข้าบัญชี|', 'อยากให้|', '|เลย|โทร|ไป|', '|เพราะ|กลับ|ไทย|ก็|ไม่ได้|ค่ะ|ตอนนี้', '|อยู่|ที่', '|ทำ|ยังไง|ดี|คะ', '|ของ|scb|', '|จะ|ใช้|เงิน|', '|nzd|', '|ด้วย|ครับ|', '|เข้าบัญชี|', '|เป็นไร|อะ|', 'งง|', '|โอนเงิน|ไม่ได้|', '|ผม|อยาก|ถาม|ผู้รู้|ครับ|ว่า|', '|แรกๆ|', '|เบอร์|ถูก|', '|ลองดู|นะคะ', '|แบบ|', 'ข้อเสีย|ของ|', '|รีวิว|เกาหลี', '|จาก|เดิม|', '|ปิดบัญชี|', '|แล้ว|เข้า|แอป|ไม่ได้|เพราะ|กด|รหัส|ผิด|เกินกำหนด|', '|6896|', '|3000|', '|เดือน|นี้|', '|4|', '|บาท', '|แค่|', '|fast|', '|ขอโทษ|ค่ะ|', '|จอง|', '|มา|หลาย|วัน|', '|.|', '|พอร์ต|', '|ว่า|จะ|ไม่|สมัคร|อีกต่อไป|ละ|', '|e-statement|', '|unionpay|', '|2563|', '|เจ้าหน้า|ที่แจ้ง|ว่า|', '|ทุก|ธนาคาร|', '|ก็|ใช้|', '|บ้าน|', '|ดีๆ|', '|ต|ป|ท|', '|jp|', '|เซ็ง|มากๆ|', '|ปัง|มาก|', '|ทั้งที่|กดเงิน|แล้ว|ไม่|ออก|', '|ก็|คือ|การทำ|ธุรกรรมออนไลน์|ผ่าน|ค|อม|ผ่าน|เวป|', '|จนถึง|ตอนนี้|', '|คอลเซนเตอร์|', '|ตอน|', '|เอ|', '|ได้มา|', '|1851|', '|ก็|สามารถ|', '|tesco|', '|โดยตรง|', '|ชื่อ|เหมือนกัน|', '|ไปรษณีย์|', '|แก้ไข|', '|ล่ม|หรอ|', '|เห้อ|', '|รบกวน|ด้วย|นะคะ|', '|เบอร์|เดิม|', '|scbs', '|uob_privimile|', '|post|', 'แม่|ง|', '|แบน|', '|เอา|บัตร|ป|ป|ช|.|', '|เหลือ|แต่|', '|สาย|ไม่ว่าง|ตลอด|เลย|', '|แล้วก็|ส่งจดหมาย|แจ้ง|ว่า|', '|คือ|ยังไง|คะ|', '|นี่แหละ|', 'แอป|', '|scbm|', '|ไม่มี|สลิป|', '|หรือ|ต้อง|', 'ซื้อ|', 'ธนาคารอาคารสงเคราะห์|', '|d|', '|1|-|2|', '|34|', '|ได้|ค่ะ|', '|แต่|ใช้ไม่ได้|คะ|', '|a|', '|เดือน|ละ|', '|10.28|', '|routing|', '|เกิด|จาก|อะไร|คะ|', '|แต่|เงิน|ไม่|เข้า', '|อาทิตย์|', '|45|', '|ค่าบริการ|', '|ของ|ธนาคาร|อื่นๆ|', '|ก็ได้', '|115000|', '|mail|', 'แต่|', '|บ|', '|ยกเลิก|', '30|', '|หุ้น|', '|เปิดบัญชี|กรุงไทย|', '|ธนาคาร|ก็|ปิด|ทำการ|แล้ว|', '|ตัวอย่าง|', '|ไป|ครับ|', 'พอดี|', '|ถ้า|มัน|ไม่พลาด|ไป|', '|gulf|', '|ติดต่อ|ธนาคาร|', '|two|', '|work|', '|airasia|', '|เรา|ควร|ทำ|ยังไง|', '|23.00|', '|2400|', '|แต่|หมดเขต|วันนี้|แล้ว|', '|ไหม|คับ', '|ไม่เคย|ติด|', '|kfc|', '|เบี้ยประกัน|', '|ขอ|เอกสาร|เพิ่ม|', '|ได้|ไหม|ครับ', '|200000|', '|จ้ะ|', 'ลอง|ไป|ใช้บริการ|กับ|พนักงาน|เค้า|', '|220|', '|ของ|ธนาคาร|ไหน|', 'scb_connect|', '|ล|ฯ|', '|เกือบ|', 'ผม|อยาก|สมัคร|', '|อีก|อย่าง|', '|เงิน|จะ|เข้า|พรุ่งนี้|', '|scb_life|', '|bay|ไม่มี|บัญชี|', '|ขออภัย|', '|ผ่าน|ทาง|แอป|', '|ธนาคาร|อื่น|', '|เพื่อ|สะสมแต้ม|', 'มีปัญหา|ใน|การ|เปิดบัญชี|', '|robo|', '|มา|ดู|', '|ไหม|ครับ|', 'ใบสมัคร|ผม|ก็|จ|พ|หมดอายุ|แล้ว|', '|แก้ไข|อย่างไร|', '|แอป|ล่ม|', 'อยากทราบ|ว่า|', '_carestatus|', '|ก็|ไม่ได้|', '|ก็|แล้ว|', '|ตอน|ตี|', 'ใน|', '|ก็|ไม่มี|', '|เจอ|', '|จน|', '|พนักงาน|เกือบ|ทั้งหมด|พูด|กับ|ลูกค้า|', '|วินาที|', '|ktef|', '|ok|', '22|1163|', '|noti|', '|กด|ใน|', '|scbb|', 'ปกติ|', '|อี|', 'mon|', '|บาท|วันนี้|', '|33000|', '|เข้า|แอป|', '|ก็|ยัง|เงียบ|เหมือนเดิม|จน|เกือบ|ถึง|รอบ|ชำระ|', '2|9|', '|มีปัญหา|หรือไม่|คะ|', '|ชื่อ|ธุรกิจ|โดย|ชื่อ|เจ้าของร้าน|', '|นอกจาก|', '|กดเงิน|ไม่|ใช้|บัตร|', '|37000|', 'คือ|แบบ|', 'ซื้อ|ผ่าน|', '|แล้ว', 'นาๆ|', '|tt|', '|สำหรับ|ผม|', '|32|', '|หักเงิน|อัตโนมัติ|', '|ั|', '|ที่', '|สินเชื่อ|', '|generali|', '|แก้|ด่วน|', '|เป็น|', '|scb_mobile|', '|ถึง|', '|scb_family_plus|', '|mint|', '|แอ|ด|มิ|น|คะ|', '|ก็|ยัง|รู้สึก|ยุ่งยาก|และ|', '|ผม|เลือก|', '|นี้|ก็|', 'ไป|เปิดบัญชี|', 'ตู้', '|tmrw|', '|เพราะ|เรา|', '|ต้อง|ทำ|ยังไง|', '|ใน|ใบแจ้งหนี้|จ่าย|', '|เหม่อ|', '|wisdom|', 'tmb_touch|', '|อยาก|ร้องไห้|', '|จน|เรา|ติดต่อ|เข้าไป|เป็น|ครั้ง|ที่', '|3.5|', '|grabpay|', '|เหมือนกัน|เลย|ค่ะ|', '|พร้อม|ดอกเบี้ย|', '|ต้อง|ให้|หน้า|สมุดบัญชี|ตรงกับ|ผู้ที่|ลงทะเบียน|', '|ง|อง|', '|ภายใน|วัน|ที่', '|taxi|', '|จะ|ได้|เตรียม|เอกสาร|ไป|ให้|ถูก|ครับ|', '|ก็|มา|', '|airbnb|', '|รายเดือน|', '|code', '|แต่|ยัง|ไม่|เข้า|', '|ตัด|บัตร|', '|กล|ต.|', '|ธนชาต|ได้|ไหม|ครับ|', '|ออก|', '|all|', '|พอ|เข้าไป|จะ|สมัคร|จริงๆ|', '|ตอนนี้|ก็|ติดต่อ|สาขา|เจ้าของ|บัญชี|', '|โอน|ไม่ได้|', '|เดือน|ครับ|', '|ตอนนี้|คือ|', '|เพชร|บุรี|', '|อยาก|บอก|ว่า|', '|scbeasyapp|', '|ที่|เป็น|ธนาคาร|', '|ของ|กรุงเทพ|', '|ไม่ได้|ค่ะ|', '|ทุกวัน|', '|จะ|บ้า|ตาย', '|55', '|8700|', '|แย่|จริงๆ|', 'คล้ายๆ|', '|ขั้นต่ำ|เปิด|พอร์ต|ห้า|แสน|บาท|', '|axa|', '|ติด|', '|เป็นมา|', '|สาขา|พระนคร|คีรี|', '|กรุงไทย|ด้วย|', '|โทร|ตั้งแต่|', '|พรบ.|', 'kbank|', '|สอบถาม|นิดนึง|ค่ะ|', '|399|', '|ละ|ตัด|ตัง|ไป|แล้ว|ด้วย', '|ssf|', '|ควร|ทำ|ยังไง|ดี|คะ|', '|44|', '|แสน', '|care|', '|บาท|ต่อ|ปี|', '|บ้าง|คะ|', '|mobile|', '|หัก|', '|ต้อง|ติดต่อ|', 'kept|', '|พัก|ชำระหนี้|', '|ต่าง|สาขา|', '|ไม่มี|สลิปเงินเดือน|', '|ชื่อบัญชี|', '|ทั้ง|', '|wallet|', '|scbam|', '|มัน|', '|เบอร์|โทร|', '14|', '|ขอบคุณ|มาก|ครับ|', '|รบกวน|ตรวจสอบ|ให้|ด้วย|ครับ|ฝ', '|หัว|เว่ย|', '|ตัว|', '|เงินเดือน|ผม|', '|alert|', '|ระบบ|แจ้ง|ว่า|', '|เริ่มต้น|', '|you|', '|ไม่มี|บัตรเครดิต|', '|วัน|ทำการ|', '|up|', '|ก็|ถอย|', '|ขึ้นไป|', '|gen|', '|จะ|ใช้|', '|aia|', '|flexi|', '|จบ|', '|โค|วิด_19', '|2515|', '|นั้น', '|โดน|หัก|ไป|', '|ไป|kbank|', '|105|', '|ตอนนี้|', '|ธนาคาร|ค|', '|เดือน|แล้ว|ค่ะ|', '|หนี้บัตรเครดิต|', '|ลบ|แอป|', '|วัน|ที่', '|เมื่อ|วัน|ที่', '|บาง|ธนาคาร|ต้อง|ใช้|', '|สุด|', '|อายุ|', 'ทาง|', 'สินเชื่อ|', '|make|', 'ได้|', '|สมัคร|ผ่าน|', '|คืนเงิน|', '|cp|', '|ไป|ก่อน|', '|ไป|อีก|', 'ทำไม|แอป|', '|จะ|โดน|หัก|ดอกเบี้ย|รายวัน|ไหม|ครับ|', '|ได้|นะคะ|', '|ผม|มี|ธนาคาร|ในใจ|อยู่แล้ว|', '|ต้อง|รอ|ตรวจสอบ|', '|ท|รู|มูฟ|หรอ|', '|ทั้งๆ|', '|อ่อ|', '|รอบ|นี้|', '|honda|', '|ไป|กรุงไทย|', '|บิ๊ก|ซี|', '|โดน|ไป|', '|cost|', '|แบบนี้|ต้อง|ทำ|อย่างไร|ครับ', '|ได้|หรือไม่|ครับ|', '|bigc|', '|เที่ยงคืน|', 'โทร|หา|', '|ปะ|', '|แต่|อัน|ที่|ท้อป|อัพ|', '|ซึ่ง|ทาง|', '|300|', 'ส่วน|', '|coins|', 'อยาก|ยกเลิก|บัตร|', '|ล่ม|หรอ|คะ|', '|เสือก|บอก|ให้|กุ|ไป|ขอ|รหัสพิน|กับ|ธนาคาร|', 'บัตรเครดิต|bbl|', '|ไม่มี|พนักงาน|รับสาย|', '|เรา|ชนะ', '|ธนาคารกรุงไทย', '|โอน|เมื่อ|วัน|ที่', '|โทร|กลับ|ไทย|ก็|ไม่ได้|', '|1.2|', '|เอา|ดิ|', '|city|', '|40000|', '|ฝ่าย|สินเชื่อ|', '|17|', '|และ|จน|ป่านนี้|', '|โยน|ไป|', '|จำเป็นต้อง|ใช้|เงิน', '|แต่|ถ้า|', '|ได้|วัน|ที่', '|ฮะ|', '|tt', '|แต่|ยอดเงิน|ไม่|เข้า|ปลายทาง|', '|dispute|', '|ไม่ได้|ครับ|', '|ยกเว้น|', '|x|', '|อี|ค|วัย|', 'โอนเงิน|จาก|ธนาคาร|', '|ก.พ.|', '|keptbykrungsri|', '|เสียดาย|', '|tmb_so_smart|', '|70000|', '|ผม|เปิดบัญชี|ตั้งแต่|วัน|ที่', '|ktb_precious_plus|', '|หมุนเวียน|และ|', '|ของ|วัน|ที่', '10|263|', '|109|', '|db|', '|ทุ่ม|ครึ่ง|', 'ktc|', '|ipo|', '|ของ|ธนาคารเพื่อการเกษตรและสหกรณ์การเกษตร|', '|เขตพระราม2|', '|เวลา|ติดต่อ|', '|ขอบคุณ|นะคะ|', '|black|', 'เมื่อ|เช้า|', '|ภายใน|', 'chanathammakhon|', '|easypass|', '|หรือว่า|', '|ผ่าน|บัตร|', '|speedy_cash|', '|ง่ายๆ|', '|ธนาคาร|บอก|ว่า|', '|weply|', '|มา|ใช้|', '|ยืนยัน|ที่|ตู้', '|bls|', '|ซื้อได้|จนถึง|', '|ยัง|เข้า|ไม่ได้|', '|โอเค|', '|ทำได้|', '|5|-|6|', '|ดังนี้|', '|เอา|จริงๆ|', '|2|-|3|', '|แล้ว|นะ|', '|ทราบ|เพราะ|พี่|ข้าง|บ้าน|ทัก|มา|บอก|ใน|ไลน์|', '|ม|ก|รา|', '|เพราะว่า|', 'ถ้า|ใช้|', '|ถาม|เรื่อง|', '|มีโอกาส|', '|citi_ready|', '|2|xxxx|', '|18.30|', '|เงียบกริบ', 'รบกวน|สอบถาม|ครับ|', '|mbanking|', '|ลอง|', '|pin|', '|verify|', '|chat|', '|2018|', '|แฟน|ทำ|เมื่อวาน|ผ่าน|แล้ว|คะ', '|ขอบคุณ|ล่วงหน้า|ค่า', '|ร้องไห้|', '|click|', '|ปี|แรก|', '|มากกว่า', '|มา|', '|ด้วย|ค่ะ|', '|นี่|โอน|จาก|', 'ความคิดเห็น|ที่', '|อีกครั้ง|', '|510|', '|แต่|เงิน|ไม่มี|เข้าบัญชี|', '|รบกวน|แนะนำ|ด้วย|นะคะ|', '|แต่|ภาพ|ไม่|ใช้|', '|ถ้า|ติด|แบล็คลิสต์|', '|ธนาคารกรุงไทย|ได้|', '|personal|', '|เฉลี่ย|', 'cigna|', '|เงิน|ใน|', '|ไร|งี้|', '|เข้า|scb|', '|กรุงไทย|ล่ม|', '|ทั้งสิ้น|', '|เป็นหลัก|', '|2|g|', '|โค|วิท|', '|ได้รับ|', '|ไม่ติด|', '|รับ|', '|privilege|', '|แต่|เงิน|ยัง|ไม่|เข้า|', '|ปี|ขึ้นไป|', '|ก่อน|จะ|มี|โครงการ|พัก|หนี้|ของ|ธนาคาร|ต่างๆ|', '|พบว่า|', '|ขอบคุณ|ล่วงหน้า|ค่ะ|', '|บ้าน|ราคา|', 'มีเงิน|เข้ามา|', '|ธันวาคม|', '|ป่า|รอยต่อ|', '|เยน|', '|ตั้งแต่|ปี|', 'โอน|จาก|กรุงไทย|', '|aot|', '|ฟ|รีๆ|', '|อย่างเดียว|', 'ยืนยัน|ตัวตน|ที่|ตู้', '|xpress|', '|ต้นทาง|', '|ตัว|ท้าย|', '|ไม่ดี|', '|มึง|ติด|', '|ขอบคุณ|คับ', '|ใน|แอป|', '|สอง|รอบ|ละ|ที่|ส่ง|', '|แอป|เป๋า|ตังค์|', '|เป๋า|ตัง|', '|bitkub|', '|kbankxblackpink|', '|17.00|', '|โอนเงิน|มา|ให้|แล้ว|ครับ|', '|bitcoin|', '|ตอน|สมัคร|', '|เพื่อ|เปิดบัญชี|', '|1', 'เติม|เงินเข้า|', '|ขอบคุณ|ครับ', '|google|', '|นานมาก|', '|visa|', '|ๆๆ|', '|080|', '|เกิน|', '|steam|', '|free|', '|คลิก|เพื่อ|ดู|ข้อความ|ที่ซ่อน|ไว้|', '|ของ|ทุกเดือน|', '|k-my|', '|ถัดไป|', '|pbv|', '|สมัคร|', '|reset|', '|อายุงาน|', '|35|', 'next|', '|ลง|เหลือ|', 'โอน|จาก|', '|โท|ร.|', '|วันนี้|วัน|ที่', '|30|-|45|', '|rmf|', '|3|-|6|', '|ต้อง|ใช้|บัตร|', '|ยื่น|สมัคร|ที่|', '|แบบ|แรก|', '|traveloka|', '|rabbit|', '|ดอน|เมือง|', '|เรื่อง|', '|ครั้ง|ที่', '|บริการ|ดี|มากๆ|', '|ก็|ขึ้น|ว่า|', '|เหมือนกัน|', '|เลย|นะคะ|', '15|', '|k|8888|', '|แบบนี้|', '|คนละ|ครึ่ง|เฟส|', '|บอก|ให้|รอ|', '|search|', '|อืม|', '|แบบ|ใช้|', '|งง|', '|กด|ไป|', '|ก็ได้|ค่ะ|', '|buntoshi|', '|รี|ไฟแนนซ์|', '|300000|', '|90000|', '|เดี๋ยว|นะ|', '|fix|', '|จำนวน|', '|หลักๆ|', '|31|', '|มี|เอกสาร|', '|appscb|', '|weverse|', '|คลิก|เพื่อ|ดู|ข้อความ|ที่ซ่อน|ไว้', '|walk|', '|pass|', '|scbsp|500|', '|หน้า|', '|ชาว|พันทิป|', '|แต่|ไม่แน่ใจ|ว่า|', '|ครับ', '|พิจารณา|', '|7|-|14|', '|username|', 'รบกวน|สอบถาม|', '|ล่ม|บ่อย|มาก|', '|23000|', '|เงิน|ไม่|เข้า|', '|เน็ต|', '|แล้ว|บัตร|เก่า|คือ|จ่าย|ออนไลน์|ได้|', '|ktbnext|', '|สำเร็จ|', '|ตาม|', '|วันก่อน|', '|อยากทราบ|ว่า|', '|ขอให้|', '|ถาม|พนักงาน|ที่|สาขา|บอก|ว่า|ใช้ได้|', '|ราย|', '|บอก|ว่า|รีบ|เร็ว|เด่|ว|เต็ม|นะ|', '|นานๆ|', '|in|', '|5', 'ทำ|บัตร|', 'หลักๆ|', '|ทำไม่ได้|', '|แต้ม|', '|ใคร|รู้|บ้าง|', '|พนักงาน|แจ้ง|ว่า|จำนวน|ครั้ง|ที่|เข้า|จะ|นับ|ครั้ง|ตาม|การสรุป|ยอด|เข้า|บ|ช|', '|จน|ป่านนี้|', '|ptt|', '|ไม่เคย|กู้|อะไร|กับ|กรุ|ศรี|คับ|', '|scb_first|', '|transection|', '|กว่า|ปีก่อน|', '|หน่อย|ค่ะ', 'เป็น|', '|wave|', '|เรียกว่า|', '|1333|', '|ไปยัง|', '|ดี|', '|ขอบคุณ|มากๆ|', 'บัญชี|', '|เลย|โทร|ไป|ถาม|', '|ปี|ที่', '|bookbank|', '|งง|ๆ|', '|easynet|', '|ace|', '|ธนาคาร|ไหน|', '|ขอบคุณ|ค่ะ', '|mind|', '|2440|', '|krungthai_care|', '|ดูๆ|', '|mi|', '|ชื่อ|ญาติ|', '|ไม่สามารถ|ทำ|รายการ|ได้|', '|ที่|ชำระเงิน|', '|sim|', '|yolo|', '|ไหม|ค่ะ|', '|สัญญา|ผูกพัน|ธ|์|กับ|ธนาคาร|', '|มี|ค|', '|มา|ให้|', '|ใส่|จำนวนเงิน|', '|ใคร|ที่ใช้|อยู่|รบกวน|แนะนำ|หน่อย|ครับ', '|ไม่ต้อง|ผูก|ใหม่|', '|ก็|เลย|รีบ|กด|รับ|สิทธิ์|เลย|', '|gwallet|', '|ฆ|ษ|ณ|', '|netbank|', '|ให้|ลูกค้า|', '|เดือน', '|ใน|เวลา|', 'พอ|', '|บาท|เอง|', '|จ่าย|ค่า|บัตร|', '|โลตัส|', '|อยาก|ทำ|บัตร|', '|490|', '|uob', '|สรุปว่า|', 'ขอ|สอบถาม|นะคะ|', '|สามารถ|จ่าย|ผ่าน|', 'วันนี้|ไป|ธนาคาร|ถาม|พนักงานธนาคาร|ถึง|การ|นำส่ง|ข้อมูล|บัญชีเงินฝาก|ไปยัง|กรมสรรพากร|ที่|มีเงื่อนไข|ว่า|รับ|โอน|', '|1315|', '|scbx|', '|ไม่ใช่|', '|hr|', '|ไม่มี|บัตรเอทีเอ็ม|', '|ด้วย|ไหม|', '|เลว|', '|เพิ่ม|', '|จำกัด|', '|เลข|อ้างอิง|', '|out|', '|ฮัลโหล|', '|เฟส|', '|ประกันภัย|', '|เป็นไร|อ่ะ|', '|prestige|', '|ขอ|สอบถาม|หน่อย|ค่ะ|', '|บ้าง', '|ของ|ทั้ง', '|data|', '|airpay|', '|สลาก|ธนาคารเพื่อการเกษตรและสหกรณ์การเกษตร|', '|npl|', '|ก|พ|', '|เงิน|โดน|หัก|', '|ปี|', '|ไหม|ครับ', '|แผน|', '|มี|เยอะ|แล้ว|', '|ทำ|ยังไง|', 'มือถือ|จีน|', '|process|', '|ค่า|เทอม|', '|covid|19|', '|โบราณ|จะ|ตาย|ชัก|', '|50|k|', '|ป|ช|ช|.|', '|ผ่าน|ไหม|ค่ะ|หรือ|ใคร|เคย|กู้|บ้าง|เล่า|ประสบการณ์|', '|เห็น|บาง|ธนาคาร|ไม่ต้อง|ใช้|แสตมป์|ภาษีอากร|', '|ดาว|น|์|', '|ยัง|ไม่มี|', '|ผ่าน|มา|', 'มี|บัตรเครดิต|', '|บาท|ทุกเดือน|', 'ฐาน|เงินเดือน|', '|รบกวน|ด้วย|นะคะ', '|รอ|ผล|', '|เอา|ง่ายๆ|', 'จ่ายเงิน|ผ่าน|', '|ไม่ทราบ|ว่า|จะ|ผ่าน|ไหม|คะ|', '|tmb_absolute|', '|โมง|', '|ไม่มี|สมุดบัญชี|', '|ต้อง|ทำ|อย่างไร|', '|citibank', 'ใคร|ใช้|', '|debit|', '|ต้อง|ทำ|ยังไง|ครับ|', '|เลย|ด้วย|', '|รบกวน|ผู้รู้|ทุกท่าน|ด้วย|ค่ะ', '|ไม่สามารถ|เข้า|', '|แต่|ใช้ไม่ได้|', '|by|', 'บัตร|', '|กว่า|ๆ|', '|cimb|', '|เสียความรู้สึก|มาก', '|มี|บัตรเดบิต|', '|เอา|จน|ว่า|รำคาญ|', '|pantip|', '|เพื่อ|ยืนยัน|ตัวตน|', '|ทุกเดือน', 'รบกวน|สอบถาม|ค่ะ|', 'kbank_live|', '|ว่า|', '|ไว้|แล้ว|', '|ได้|ไหม|คะ|', '|50|', '|เรา|ยัง|ไม่ได้|ข้อความ|เหมือนกัน|ค่ะ|', '|830|', '|จ.|เพชรบูรณ์|', '0|', '|ถาม|ทาง|', '|ไว้|ก่อน|', '|net|', '|5000|เรา|ไม่|ทิ้ง|กัน|', '|ตอนนี้|เดือดร้อน|มากๆ|', '|10.32.0|', '21|', '|หลัง|ๆ|', '|อยู่|ครับ|', '|kbanklive|', '|20.00|', '|ทำ|รายการ|ไม่|ตามเวลา|กำหนด|พ่อ|ง|มึง|ดิ', '|โทร|ไป|ก็|ไม่ติด|', '|ครั้ง|และ|ยอดเงิน|', '|scb_thailand|', '|protection|', 'วันนี้|ตอน|', '|ใคร|รู้|บอก|หน่อย|นะคะ|', 'จริงๆ|', '|โอนเงิน|ไป|แล้ว|', '|ทำไง|ดี|', '|งวด|แรก|', '|scbset|50|e|', '|นี่|', '|อยู่ดีๆ|', '|ไป|ไหม|นะ|', '|opened|', 'บริการ|รับฝาก|', '|ltf|', '|g|', '|แสน|บาท|', 'แล้ว|', '|เดือน|ขึ้นไป|', '|กลัว|โดน|หลอก|', 'โอนเงิน|', '|scbsete|', '|ฉะนั้น|', '|แจ้ง|', '|verified|', 'โทร|ไป|', '|ต่อ|ปี', '|thanachart|', '|ถือ|ยาว|', '|coin|', '|ไม่มี|ครับ|', '|20|', '|เลย|ค่ะ|', '|gmarket|', 'มี|เบอร์|', '|ประกัน|สุขภาพ|', '|แล้วจะ|เอา|เงิน|ไป|ทำ|อะไร|ดี|นะ|', 'อยู่|ๆ|', '|รู้|ผล|ปุ๊บ|', '|หายไป|', '|699|', '|อ่าน|เงื่อนไข|อี|กรอบ|', '|ktbnetbank|', '|แต่|ทำไม|', '|ratsaenmueang|', '|บาง|สาขา|', '|บริษัทหลักทรัพย์จัดการกองทุนรวมจำกัด|', '|ขายหมู|', '|คือ|อะไร|คะ|', '|ครึ่ง|', '|320|', '11|', 'เมื่อ|เวลา|', 'สอบถาม|ธนาคาร|', '|ปีนี้|', '|ครับผม', '|โดยเฉพาะ|', 'จาก|', '|save|', '|จ่าย|รายเดือน|', '|bangkokbank|', '|ไม่|ระบุ|แบบ|', '|เช็คยอด|', '|vat|', '|เวลา|ไหน|', '|ธนาคาร|ล่ม', '|กรุงเทพ|ประกันภัย|', '|takashimaya|', '|ไป|เข้าบัญชี|', '|แย่|มากๆ|', '|พรุ่งนี้|', '|ดีจัง|', '|16.30|', 'จำได้|ว่า|', '|หนี้|', '|ฮือ', '|ล่าสุด|', '|เส้า', '|ktb_travel_card|', '|บ|ลา|', '|ใช้งานง่าย|', '|120|', '|payroll|', '|75|', '|amex|', '|ไป|', '|40|', '27|1163|', '|application|', '|25000|', '|เข้าใจ|ว่า|', '3.|', '|สอบถาม|ทาง|', '|ต้นเดือน|', '|ตกลง|', '|cheque|', '|มี|ใคร|พอ|ทราบ|บ้าง|ไหม|คะ|', 'โอนเงิน|พร้อมเพย์|จาก|', '|คุย|กับ|', '|เจ้าหน้าที่|', '|เงิน|ยัง|ไม่|เข้า|เลย|', '|ได้|', '|ซิ|ม|', '|สิ|ครับ|', '|เสีย|ค่าธรรมเนียม|', '|ไม่|เสีย|', '|--', '|ดอก|', '|65|', '|เลือก|ถอนเงิน|ไม่|ใช้|บัตร|', '|ละ|', '|10|m|', '|s|21|', '|ใช่ไหม|คะ', '10|', 'โอน|เงินเข้า|', '|ไป|เลย|', '|บช.|', '|grow|', '|ไม่ได้|นับจำนวน|ครั้ง|ตาม|ลูกค้า|แต่ละคน|โอน|', '|transfer|', '|งับ|', '|update|', '2|8|', '|ระบบ|อัตโนมัติ|', '|นี่|คือ|', '|ๆ|คะ', '|คับ|', '|ขอบพระคุณ|มาก|ครับ', '|เพราะ|มี|', '|พ|.ย|', '|รบกวน|สอบถาม|ค่ะ|', '|คะ', '|ในกรณีที่|', '|มา|kbank|', '|แอป|ค้าง|', '|สูงกว่า|', '|tmb', '|ต้อง|ทำไง|ค่ะ|', '|1.1|', '|จะ|สมัคร|', '|siam|', '|ซ่อม|ศูนย์|', 'จริง|', '|วัน|ทำการ|ครับ|', '|มี|แต่|', '|ธนาคาร|', '|ราคา|', '|chubb|', '|วัน|ครับ|', '|จุด|', '|2500|', 'สอบถาม|เพื่อน|ๆ|', '|จะ|ไม่|ปรับ|สลิป|จิงอ่อส|ลิบ|เอ้|ม|แบงก์|กิ้ง|คือ|ไป|พัก|', '|แต่|ไหม|เข้าบัญชี|', '|จะ|มีโอกาส|ผ่าน|ไหม|ครับ|', '|วัน|ค่ะ|', '|แอป|เป๋า|ตัง|', 'ธนาคาร|อื่น|', '|ไง|', '|scb_jcb|', '|ถ้า|เปิดบัญชี|', 'เติมเงิน|', '|ชั่วโมง|', '|เป็นเวลา|', '|ก็|สมัคร|', 'หุ้น|', '|ปล่อย|', '|หลังจาก|', '|สวัสดี|ค่ะ|', '|everyday|', 'ถ้า|', '|fb|', '|shanghai|', '|มี|การ|เรียกเก็บ|ค่าธรรมเนียมรายปี|', '|press|', '|เพราะ|บัตร|กรุงไทย|ตัวต้นเหตุ|เลย|', '|แต่|เงิน|หาย|', '|เหมือน|สมัยนี้|', '|ก|ยศ|', '|ของ|gsb|แต่|ก็|ไม่มีใคร|รับ|เลย|พนักงาน|ติด|สาย|ทุก|คู่สาย|เป็น|ชั่วโมง|เลย|', '|แล้ว|ครับ', '|checking|', '|robinhood|', '|ตลอด|', '|เอิ่บ', '|26|', '|95|', '|คะแนน|', '|1295|', '1.|', '|เพราะอะไร|', '|cvc|', '|อยาก|ทุบ|นัก|ไอ้|ต้าว|กระปุก|หมู|นี่|', '|km|', '|เลย|ครับ|', '|ช|.ม|', '|wealth|', '|ไม่งั้น|', '|ktc', '|รอ|ไป|', '|หรือ|ไม่มี|', '|ทำไง|ได้|บ้าง|คะ|', '|และ|ให้|เรา|ยืนยัน|ตัวตน|', 'แอป|เป๋า|ตัง|', '|15|', '|แจ้ง|มา|ว่า|', '|ขอบคุณ|มาก|ค่ะ', '|บ่าย|', '|ก|', '|ธ|ค|', '|ตอน|จำเป็นต้อง|ใช้|', '|2300|', '|password|', '|อยากได้|', 'แอป|ธนาคาร|', '|kyc|', '|expense|', '|gs|', '|ฝากเงิน|', '|เงิน|ยัง|ไม่|เข้า|', '|ขีด|', '|พอ|มา|เจอ|ข้อความ|นี้|', '|แก้ไขปัญหา|ให้|เสร็จ|ภายใน|', '|ครั้ง|ตอนนั้น|', 'k|8888|', 'ไหน|ๆ|', '|ปี|ที่ผ่านมา|', '|ที่|ตู้', '|home|', '|ทำ|ยังไง|ได้|บ้าง|คะ|', '|pic|.|twitter|.|comrw|84|ubnuum', '|0.5|', '|โทร|ไป|ถาม|', '|ktz|', '|หักบัญชี|', '|สถานะ|เหมือนเดิม|', '|ยังไง|', '|dolfin|', '|ช|', '|เป็นการ|ผิดพลาด|ใน|การ|ตีพิมพ์|เอกสาร|', '|แทน', '|smart|', '|11000|', '|planetscb|', '|มา|ที่|เบอร์|', '|8.1.2020|', '|ผม|ต้อง|ทำ|ยังไง|ครับ', 'โป|ร|บัตร|', '|พูด|แล้ว|ทั้ง|เศร้า|ทั้ง|โมโห|', '|เรา|', '|เงิน|ไม่|ออก|', '|book|', '|หรือ|บัตรเดบิต|', '|แต่|สมัคร|', '|เอา', '|เติมเงิน|ไป|', '|pttor|', '|รบกวน|ขอคำแนะนำ|ด้วย|ครับ|', '|ไม่รู้|จะ|ทำไง|แล้ว|', '|ลง|', '|บางที|', '|ล่ะ|', '|โปรด|ยืนยัน|ตัวตน|', '|hack|', '|ถ้า|เกิน|', '|ม.|ค|', '|ad|', '|3|-|4|', '|-|19|', '|ไป|ตู้', '|18|k|', '|ไม่สามารถ|ทำ|รายการ|ได้|ในขณะนี้|', '|android|', '|exclusive|', '|0.25|', '|ก่อน|นะ|ครับ', '|oppo|', '|sbc|', '|อิ|', '|แตก|', '|เข้า|kbank|', '|ให้|หน่อย|', 'ไป|', '|เป็น|อะไร|อีก|', '|ก็|ให้|ติดต่อ|', '|บัตร|', 'ผม|เอาไว้|กัน|เวลา|ไป|ต่าง|พื้น|ที่แล้ว|มี|แค่|ตู้|เดียว|', '|โอน|', '|รวมทั้งสิ้น|', '|และ|บัตร|', '|รอบ|ละ|', '|ปรากฏ|', '|ก็ได้|นะ|', '|ขอคำแนะนำ|หน่อย|ค่ะ|', '|1800|', '|บัตร|หมดอายุ|', '|นะ|จ๊ะ', '|ไม่|ผ่าน|เกณฑ์|', '|เป็น|ไฟแนนซ์|ไทยพาณิชย์|ก่อนหน้านี้|', '|record|', '|พนักงาน|บอก|', 'เติมเงิน|ผิด|เบอร์|ครับ|', '|ก่อน|ครับ|', 'ขอบคุณ|มากๆ|', '|ก็|ใช้ได้|ปกติ|ครับ|', '|เท่า|ค่ะ', '|แค่นั้น|', '|แล้ว|ส่วน|ของ|บัตร|', '|เช็ค|จะ|', '|agoda|', '|paotang|', '|6000|', '|signature|', '|ก.|พ|', '|แต่|หักเงิน|จาก|บัญชี|', '|350|', '|ผล|คือ|', '|ไม่ได้|ครับ', '|ห่วย|', '|อี|สัส|', '|รองรับ|', '|ไป|อยู่|ใน|', '|หาย|', 'เมื่อ|', '|ถ้า|ยื่น|กู้|กับ|', '|โอนเงิน|', '|เดือด|ร้อนมาก|', '|netflix|', 'ขอ|สอบถาม|หน่อย|คะ|', '|มือถือ|หาย|', '|ฮ่องกง|', '|โทร|ไม่ติด|ครับ|', 'สมัคร|', '|ถ้า|จ่าย|ด้วย|บัตร|', '|ไม่ทราบ|ว่า|', '|อยู่|ไหม|คะ|', '|เบอร์|แปลก|', '|ใช้เวลา|', '|ตาม|ข้อ|', '|เงิน|ไม่|เข้า|ค่ะ|', 'ตอนนี้|', '|ใคร|เป็น|บ้าง|ครับ|', '|กดเงิน|ไม่ได้|', 'windy|', '|เหรียญ|', '|วัน|เหมือนเดิม|', '|คนละ|ครึ่ง', '|กด|เข้าไป|', '|ไหม|', '|เหลือ|แค่|', '|scb_connect|', '|เท|ค|ไป|', '|got|7|', '|ibanking|', '|แต่|ตอนนี้|', '|เน็ต|ก็|ไม่ได้|', '|user|', '|central|', '|ธนาคาร|ต้นทาง|ของ|เคส|เรา|', '|แบบนี้|เรา|ทำ|ยังไง|ได้|บ้าง|คะ|', '|แรก|', '|2.5|', '|ปลายทาง|ไม่ได้|รับเงิน|', '|ตัวเอง|ได้|', '|ปีก่อน|', '|วัน|ถัดไป|', '|เขา|บอก|', '|นครนายก|', '|ใดๆ|', '|ที่ผ่านมา|', '|เหี้ย|มาก|', '|แค่|ยื่น|บัตร|ให้|', '|5.|', '|ไปมา|', '|ลงทุน|', '|หรือ|ยังไง|', 'ส่วน|บัตร|', '|อีห่า|', '|me|', '|พอกันที|', '|ใคร|ใช้|', '|มา|ใหม่|', 'โทร|ไปหา|', '|บัญชี|ฝากประจำ|ของ|', '|ใบ|ค่ะ|', '|อัพ|', '|โอนเงิน|ผ่าน|', '|ท|รู|มูฟ|', '|อี|เหี้ย|', '|หัก|ต้น|ไป|แค่|เดือน|ละ|', '|ต่างจังหวัด|', '|หมายความว่า|', 'ดอกเบี้ย|ออมทรัพย์|', '|order|', '|โดย|ใช้|', '|คุณ|', '|2.34|', '|ก่อนหน้านี้|', 'นี้|', '|oil|', '|สะดวก|', '|ไป|แจ้งความ|', '|แต่|ไม่มี|สมุดบัญชี|', '|4500|', '|09.00|', '|ได้|ข้อมูล|ปั๊บ|', '|ง|', '|กรุงเทพ|', '|2700|', '|หรือเปล่า|ครับ|', '20|12563|', 'โอน|', 'ผม|ใช้|', '|12000|', '|โคตร|กาก', '|มีนาคม|', '|มี|สลิป|แต่|เงิน|ไม่|เข้า|ทำไง|บอก|ที|และ|จะ|ได้|เงิน|คืน|ไหม|ม', '|บ้าง|ครับ|', '|ปี|แล้ว|ค่ะ|', '|tmb_touch|', '|เป็น|จำนวนเงิน|', '|ชิม|ช้อป|ใช้|', '|28|', '|ติดต่อ|ไม่ได้|', '|ที|', '|baac|', '|100000|', '|กุ|ปวดหัว', '|mrt|', '|point|', '|รอสาย|นานมาก', '|เถอะ|', '|ตลอด', '|mrr|', 'เปิด|', '|300', '|easy_invest|', '|2562|', '|งง|มาก|', '|stm|', '|ขึ้น|วงเงิน|มา|', '|นิดๆ|', '|ว|', '|10000|', 'รอ|ประมาณ|', '|ใหม่ๆ|', '|k-usa-ad|', '|คุย|', '|22|', '|ยอด|เงินออก|แล้ว|', '|confirm|', '|ใน|วัน|ที่', '|internet|', '|gsb|', '|90|', '|bbl|', '|facebook|', 'ได้|ดอกเบี้ย|', '|ล้าน|', '|แต่|บัตรเครดิต|', '|9.00|', '|ได้|หรือไม่|คะ|', 'gsb|', '|เหลือ|ง|', '|ส่วน|', '|ซิ|ตี้|', '|อยาก|', '|link|', '|แปล|ว่า|', '|ก็ได้|ครับ|', '|ไปที่|สาขา|', '|esso|', 'อ้าว|', '|แต่|ทาง|ต้นทาง|', '|แล้ว|คะ|', '|iphone|', '|นะ', '|true|', '|3|bb|', '|ชาย|คน|หนึ่ง|', '|ก็|เป็น|', '|2200|', 'krungsri|', '|เขา|บอก|ว่า|', '|กรุงไทย|ล่ม', '|พอๆ|', 'ช่วงนี้|', '|1.6|', '|มี|.|ค.|', '|booking|', '|mymo|', '|log|', '|error|', '|เลข|บัตรประชาชน|', '|ทะเบียน|พาณิชย์|', '|เติม|ผ่าน|', '|กรุงไทย|เลย|', '|มี|สลิป|', '|เมษายน|', '|โอนเงิน|ออกจาก|บัญชี|เรา|เอง|', '|รูป|สอง|', '|ธนาคาร|แล้ว|', '|กับ|พร้อมเพย์|', '|online|', '|private|', '|และ|ไม่สามารถ|', '|อะไร|', '|passport|', '|นอกนั้น|', '|kbank|ไป|', '|date|', '|บริการ|', '|เห้อ', '|บริษัท|', 'งง|มาก|', '|banking|', '|ใช้ไม่ได้|', '|โทร|ไป|ไม่เคย|ได้|คุย|', '|เป็น|งง|', '|70|', '|plus|', '|2140|', '|คืน|บัตร', 'call_center|', '|ก.|ค|', '|ฝาก|เบอร์|โทร|กลับ|', '|อะไร|วะ|เนี่ย|', '|กด|เงินสด|', '|ขอความกรุณา|', '|ด้วย', 'ghb|', '|ยืน|', '|เปลี่ยนเป็น|เบอร์|', '|แง', '|ใช่|เรื่อง|ไหม|', '|5|g|', '|เกือบ|ทั้ง|องค์กร', '|ก็|ปิด|', '|แจ้ง|ว่า|ระบบ|การ|รับเงิน|ทาง|', '|กรุงไทย|เน็ค|', '|ลุ้น|', '|statement|', '|bualuang|', '|เลิก|เบื่อ|', '|rungruang|', '|เป๋า|ตังค์|', '|โครต|เชง|', '|credit|', '|รบกวน|สอบถาม|', '|twitter|', '|ฉัน|', '|จน|ตอนนี้|วัน|ที่', '|ขออภัย|ค่ะ|', '|เนื่องจาก|เรา|ย้าย|มา|อยู่|', '|paul|', '|contactless|', '|ต้อง|ใช้|อะไรบ้าง|', '|12|', '|กุม|ภา|', '|euro|', '|ขอคำแนะนำ|หน่อย|ค่ะ', '|ปกติ|', '|2750|', '|ม.|ค.|', 'แล้ว|แต่ละ|ธนาคาร|ใช้|เอกสาร|อะไรบ้าง|ครับ|', '|ผิด|เบอร์|', '|หมายเลข|', '|2600|', '|แล้ว|ลง|ใหม่|', '|อยากทราบ|ว่า|เพื่อน|ๆ|', '|63', 'เป๋า|ตัง|', '|atm-|', '|โทร|ไป|คอลเซนเตอร์|', '|02|-|28515|', '|แม่|จะ|จ่าย|งวด|แรก|ให้|ก่อน|แล้ว|ที่เหลือ|หนู|ผ่อน|', '|น', '|ยัง|ไม่ได้|คุย|กับ|เจ้าหน้าที่|เลย|', '|your|', '|มี|ยอด|เงินโอน|เข้า|', '|ทำไม|', '|หรือไม่ก็|อัน|ที่|เทียบเคียง|คับ|', '|ทุกเดือน|', '|แม่|ม|มา|ทำงาน|กัน|บ้าง|เปล่า|วะ|', '|ระบบ|เป็น|อะไร|ครับ|', '4|', '|มี|', 'โทร|เข้า|', '|หรือ|กี่|ปี', '|แอ๊ป|', '|pc|', '|safari|', '|แอป|', '|speedy_loan|', '|8|', '|เข้า|ไม่ได้|เลย|', '|bunnytrader|', '|ทั้ง|เรา|', '|ขัดข้อง|', '|ถ้า|เป็น|', 'scbs|', '|บ้าง|ไหม|คะ|', '|ใช่ไหม|คะ|', '|พอ|กลับมา|ที่|', '|ark|', '|อ้อ|', '|เซ็ง|', 'scb|', '|call_center|', '|ได้|ไหม|ครับ|', '|เต็ม|', '|ซวย|ๆ|', '|ไม่ได้|ค่า|', 'weply|', '|เป๊ก|ผลิต|โชค', 'จ่าย|', '|ไป|พร้อมเพย์|ผูก|กับ|', '|ตาม|หัวข้อ|กระทู้|เลย|', '|เคพลัส|', '|อะ|ค่ะ|', '|แสดง|ว่า|', '|อีกที|', '|ttb|', '|cr|.|', '|แต่|นี่|', '|ผ่อน|ได้|', '|เรา|จะ|ไม่|ทิ้ง|กัน|', 'ผม|เดินบัญชี|กับ|', '|โอน|จาก|kbank|', '|เรา|ชนะ|', 'กด|บัตร|', '|เป็น|อะไร|อ่ะ|', '|สอบถาม|', '|จน|วันนี้|เพิ่ง|มี|หมายศาล|ส่ง|มา|ที่บ้าน|ที่|', '|16.08|', '|เพราะ|บัตร|', '|บัญชี|', '|scb_thailand', '|เป๋า|ตัง', '|ธัน|วา|', '|ได้|ดอกเบี้ย|อยู่|', '|เลขบัญชี|', '|ซึ่ง|สถานการณ์|ตอนนี้|ก็|คือ|ไม่|อยาก|ออกไป|ไหน|เลย|', '|ก็|ไม่มี|ยอด', 'พรุ่งนี้|', '|ท|รู|วอ|ล|เลท|', '|6|', '|ใช้เวลา|กี่|วัน|ครับ|', '|มี|บัตร|', '|แต่|ไม่|เข้า|ปลายทาง|', '|จ่าย|ผ่าน|', '|ไม่ติด|บู|โร|', '|ทุน|', '|ดอกเบี้ย|', '|promptpay|', '|sale|', '|yen|', '|หลัก|', '|login|', '|life|', '|14000|', '|ก็|เข้า|ปกติ|', '|covid|', '|global|', '|365|', '|ของ|วันนี้|', '|ก็|เสือก|ไม่|เข้า|', '|และ|มี|', '|ค|ทบ|', '|scbeasy|', '|กรกฎาคม|', '|จะ|แลกเงิน|อ่า|', '|k-check|', '|โทร|ถาม|', '|เหมือน|', '|bualuang_m_banking|', 'เป็น|เหมือนกัน|ค่ะ|', '|paywave|', '|เฮ้ย|', '|บาท|แล้ว|', '|wechat|', '|อี|หน้า|เหี้ย', '|หรือ|ต้อง|เสีย|เงิน|ไป|เปล่าๆ|', '|1000000|', '|ปรากฏ|ว่า|', '|18.04|', '|เบื้องต้น|', '|ทุกๆ|', '|nagoya|', '|พนักงานธนาคาร|แนะนำ|ให้|ใช้|', '|72|', '|ไหม|คะ', '|blackpink|', '|แต่|ไม่|เข้า|', '|และ|แอป|', '|first|', '|สาขา|ชน|แดน|', '|แง|', '|แสน|', '|ต้อง|ทำ|ยังไง|คะ', '|kbank|', '|ฝาก|', '|ร้อยละ|', '|ยัง|ไม่มีใคร|ติดต่อ|กลับมา|', '|กด|โอนเงิน|', '|โหลด|', '|ต่อมา|', '|ตั้งแต่|ต้นปี|', '|150000|', '|ย้อนหลัง|', '|กอง|', '|งง|อ่ะ|', '|shop|', '|email|', 'โอนเงิน|จาก|แอป|', '|ไป|ธนาคาร|', '|จำนวนเงิน|', '|ขึ้น|', '|ตอนนี้|ใช้|', 'กรุงไทย|', '|parkjihoonfanconinbkk', '|เหมือนกัน|ค่ะ|', '|อยาก|รู้ว่า|ค่าธรรมเนียม|ตรง|', '|โทร|สอบถาม|กับ|bbl|', '|rejected|', '|ทอง|ๆ|', '|transferwise|', '|คืน|', '|มัน|ของ|', 'เซ็ง|', '|เจ้าหน้าที่|บอก|', '|แต่|เงิน|ไม่|เข้า|ปลายทาง|', '|091|', '|จ้า|', '|โทร|ไป|แจ้ง|', '|โป|ร|', '|บาท|ค่ะ', '|อยู่|', '|16000|', '|แต่|ยอดเงิน|ไม่|เข้าบัญชี|ปลายทาง|', '|แง|ง|', '|โทร|ไป|', '|wifi|', '|ต้อง|ทำไง|', '|ตัด|', '|แล้ว|เงิน|ไม่|เข้า|', '|5|-|10|', '|เครื่อง|เก่า|', '|ไม่มี|บัตร|', '|contact|', '|ตอนนั้น|', '|แล้วจะ|ให้|ทำ|ยังไง|ได้|บ้าง|ครับ|', '|ปี', '|หงุดหงิด', '|มาตลอด|', '|tisco|', '|อีก|ประมาณ|', '|แต่|อยู่ดีๆ|', '|ตอนนี้|พอจะ|ผ่อน|เลย|วางเงิน|นิ่ง|ๆ|', '|งง|มาก|ครับ|', 'ร้อนๆ|', '|atm', '6|', '|ของ|กรุงไทย|', '|เรา|สนใจ|และ|อยาก|สอบถาม|ข้อมูล|', 'กัน|', 'แง|', '|2.49|', '|ทุ่ม|กว่า|', '|สำนักงานใหญ่|', '|ติดต่อ|ผ่าน|', '|มาถึง|', '|คล้ายๆ|', '|เดบิต|', '|ล่ม|หมด|', '|ไม่|ช่วย|อะไร|เลย|', 'ltf|', '|วัน|ละ|', '|หรือไม่|ผ่าน|', '|เหอะ|ๆ|', '|เข้า|ใช้งาน|', '|แบบนี้|ก็ได้|เหรอ|', '|เจ้า|', '|0', '|19|', '|max|', '|แต่|เจ้าหน้าที่|', '|8|-|9|', '24|', '|ค่าธรรมเนียม|บัตร|', '|ทั้ง', 'ที่|', '|เปิด|ๆ|', '|support|', '|จะ|ให้|', '|ฯลฯ|', '|เห|น่ย', '|wfh', '|ธนาคาร|ค.|', '|คือ|อะไร|', 'เรา|ชนะ|', '|ธนชาต|', '|84|', '|เหลือ|', 'ใช้|บัตร|', '|dtac|', '|ถ้า|', '|เข้า|พร้อมเพย์|กรุงไทย|', '|กับ|ไทยพาณิชย์|', '|ถือ|บัตร|', '|ไปที่|ตู้', '|streaming|', '|ล่ม|เก่ง|', '|พัน|', '|rewards|', 'อิ|', '|ประมาณ|', '|ธนาคารกรุงไทย|', '|ปี|แล้ว|', '|ไม่ยุ่งยาก|', '|ค่า|', 'คือ|หนู|อายุ|', '|ได้|ค่ะ', '|ยืนยัน|ตัวตน|ไม่ได้|', '|ได้|ไหม|คะ', '|วัน|แล้ว', '|ดู|สรุป|ยอด|ซื้อ|', '|ขอ|ข้อมูล|จาก|ธนาคาร|อื่น|ได้|', '|ช่อง|', '|บอก|เลย|', '|eur|', '|ทำ|ยังไง|ดี|ครับ', '|ถ้า|ส่ง|บัตร|มาแล้ว|ยัง|ใช้ไม่ได้|ใช่ไหม|ครับ|ถ้า|เชื่อม|กับ|แอป|', '|2564|', '|ใช้งาน|ไม่ได้|', '|เหรอ|', '|โอน|วัน|ที่', '|แทน|', '|รอ|มา|', '|kplus', '|.', '|ไม่ได้', '|อันนี้|ก็|แล้วแต่|', '|พอ|กุ|ลบ|โลด|ใหม่|', '|เย็น|', '|หมื่น|อัพ|', 'ธนาคาร|', 'สวัสดี|ครับ|', '|มัน|ขึ้น|แบบนี้|', '|พอ|ถึง|วัน|ที่', '|กู้|', '|ใช้|ของ|', '|3', 'tmrw|', '|หมดอายุ|', '|เสียเวลา|มาก|', '|โทร|กลับ|ไม่|เกิน|วัน|ถัดไป|', '|แม่|', '|27|', '|ถอนเงิน|วันนี้|นะคะ|', '|0.001|', '|30|k|', '|b|', 'ของ|เรา|', '|ipad|', '|แหะๆ|', '|ผม|ว่า|', '|bankingmobile|', '|3|-|5|', '|มี|ประวัติ|ล่าช้า|', '|ก็|ยัง|ไม่|เข้า|', '|ในนาม|บริษัท|', '|ไว้|กับ|', '|line|', '|snoopy|', '|แต่|ไม่มี|บัตร|', '|ขอ|ข้อมูล|', '|เติมเงิน|', '|400|', '|ราคา|บ้าน|', '|ห่วย|มาก|', '|สมาร์ท|', '|แจ้งเตือน|', '|1.30|', '|จ้า', '|อาทิตย์|แล้ว|', '20|', '|ยกตัวอย่างเช่น|', 'ฝาก|ธนาคาร|ก็ได้|ดอกเบี้ย|น้อยนิด|', '|64', '|สามารถ|', '|cigna|', '|ไป|ทำ|ที่|ตู้', '|ไหม|คะ|', '|ช่วงเวลา|', '|วีโว่|', '|00|', '|ของ|รัฐ|', '|0.01|', '|แล้ว|', '|เงิน|', '|เงินเดือน|', '|ต้องการ|', 'เป็น|เหมือนกัน|เลย|ครับ|', 'สมัคร|บัตร|', '|499|', '|version|', '|ล่ม|อีกแล้ว|', '|650|', '|เมื่อก่อน|', '|เงิน|ไม่|เข้า|เลย|ครับ|', '|finnomena|', 'สอบถาม|หน่อย|ค่ะ|', '|ผ่านไป|', '|กันยายน|', '|โมง|เช้า|', '|bts|', '|citibank|', '|ดู|', '|7600|', '|หรือ|ป่าว', '|599|', '|จาก|ต่างประเทศ|', '|connect|', '|pos|', '|bangkok|', '|แล้ว|ค่ะ', '|ตอน|เปิดบัญชี|', '|planet|', '|รึ|', '|รับ|แต่|เงิน|ห|ยวน|ของ|จีน|', '|ตอนนี้|เหลือ|', 'ขออนุญาต|สอบถาม|ค่ะ|', '|20000|', '|โอน|เข้าบัญชี|', '|หมด|เลย|', '|uninstall|', '|ให้|ความ|รู้สึกแย่|จัง', '|คือ|ช้า|มาก|', '|sietongkum|', 'สมัคร|บัตรเครดิต|', '|8900|', '|otp|', '|190|', '|เรียบร้อยแล้ว|', 'ผม|สงสัย|ว่า|', '|1|', '|ทำ|', '|เมลล์|', '|เป็นของ|', '|กับ|bay|', '|บาท|ถ้วน|', '|youtube|', '|sa|', '|เลย', '|ชำระ|', '|ขาย|', '|หน่วย|ละ|', '|หลัง|วัน|ที่', '|ยัง|ไม่|เข้า|', '|savings|', 'สอบถาม|นะคะ|', '|เปิดบัญชี|', '|ออนไลน์|', '|ต้อง|ไป|สาขา|', '|ธนาคาร', '|k-bank|', '|ตราสาร|หนี้|', '|วัน|', 'วันนี้|แอป|', '|เวลา|กลับ|ไปที่|กรม|ทหาร|บ้าน|เก่า|ใน|กรม|มัน|จะ|มี|แต่|ตู้', '|41000|', '|จาก|บัญชี|', '|เงินเข้า|ทันที|', '|ก|ย|ศ.|', '|ผม|', '|payment|', '|มุ|แง|', '|ธนาคาร|ไม่ได้|เป็นเจ้าของ|', '|โทร|หา|', '|ของ|ไทยพาณิชย์|', 'โอนเงิน|วัน|ที่', '|ดอกเบี้ย|ใน|เอกสาร|ใบแจ้งหนี้|', '|สู้|ๆ|', '|อยาก|รู้ว่า|', '|ใบ|ที่', '|เพื่อ|', '|tg|', '|กู้ร่วม|ได้|', '|ไทย|', '|ตุลาคม|', '|precious|', '|รอคิว|', '|เสียไป|', '|ค|ห|', '|ลูกค้า|', 'หนี้|', '|เรียบร้อย|', '|หรือ|มากกว่า|', '|ปิด|', '|-|31|', '|รบกวน|ตรวจสอบ|ให้|ด้วย|ครับ', '|t_t', '|ค่าธรรมเนียม|', '|หรือยัง|คะ|', '|17000|', '|กี่|', '|4|g|', '|เอา|', '|ได้|ดอก|', '|2000|', 'android|', '|ช่วย|หน่อย|ค่ะ|', '|ทาง|เพจ|', '|uk|', '|2.|', '|ของ|ทหาร|ไทย|', '|ก่อน|ค่ะ|', '|product|', 'เวร|ละ|', '|code|', '|จ่าย|ด้วย|', 'โอ้|ย|', '|ฮา|ๆ|', '|เหมือนเดิม|', '|ไม่|ได้รับ|', '|สินเชื่อรถยนต์|', '|11.00|', '|wise|', '|scb', '|แอป|ล่ม|หรอ|', '|มา|ครับ|', '|สินเชื่อ|เพิ่ม|ได้|', '|4.4|', '|scb_easy', '|ตั้ง|นาน|', '|ไป|ยืนยัน|ที่|ตู้', '|แจ้ง|ว่า|ระบบ|มีปัญหา|', '|pending|', 'ที่|เรา|', '|ต้อง|ไป|ทำ|ที่ธนาคาร|', '|ถ้า|เปิด|', '|แล้วก็|', '|เงิน|หัก|จาก|บัญชีธนาคาร|แล้วแต่|ยอด|ใน|แอป|เป๋า|ตัง|ยัง|เป็น|', '|สแกน|จ่าย|', '|อี|ซี่|', '|เสี่ยว|มี่|', 'สอบถาม|ค่ะ|', '|โดยประมาณ|', '|รอบ|แล้ว|', '|150|', '|หัก|ยอด|', '|ชอบมาก|', '|busayarat|', '|ผม|อายุ|', '|1200|', '|อื่น|', '|barcode|', '|เห็น|', '|8000|', '|ฐาน|เงินเดือน|', '|เท่านั้น|', '|ไป|ตอน|', '|นะคะ|', 'ผม|สมัคร|บัตร|', '|61|', '|tmb|', '|ว|ด|ฟ|', '|หน่อย|', '|mastercard|', '|id|', '|บาง|', '|โอนเงิน|จาก|ธนาคาร|', '|กว่า|', '|ลด|', '|ก็|ไม่|ผ่าน|', '|tbank|', '|uchoose|', '|scb_m_luxe|', '|ibank|', '|เหมือน|มีปัญหา|กด|โอนเงิน|ไป|แล้ว|เงิน|เด้ง|', '|ไป|เปิดบัญชี|', '|หลัง|', '|comment|', '|thailand', 'รอสาย|', '|เป็น|เหมือนกัน|ค่ะ|', '|คะ|', '|kplus|', '|adobe|', '|เวรกรรม', 'tmb_all_free|', '|จ่ายเงิน|', '|มี|ไหม|', '|139|', 'citibank|', 'เรื่อง|มีอยู่|ว่า|', '|ทุ่ม|', '|18.00|', '|starbuck|', '|ประทับใจ|มาก|', 'ติดต่อ|', '|เยอะ|', 'รบกวน|', '|อยาก|สอบถาม|ว่า|', '|prestigerop|', '|ต้นทาง|กรุงไทย|', '|inbox|', '|reward|', '|ชั่วโมง', '|1.8|', '|ส่ง|เอกสาร|', '|พัก|ชำระเงินต้น|', '1|', '|พี่|ๆ|', '|วอ|เลต|', '|เจ้าของ|กระทู้|', '|สัญญา|', '|เจ้าหน้าที่|เต็ม|ทุก|คู่สาย|', '|channel|', '45|', 'โทร|ถาม|', '|เมื่อ|', '|ประ|มาน|', 'ผม|มี|', '|ลงท้าย|', '|family|', 'ตอน|', '|ดี|ไหม|คะ|', '|จริง|ค่ะ|', '|ตั้ง|', '|มัน|มีระบบ|คล้ายๆ|', '|ใน|สาขา|', '|ครับ|', '|tmb_all_free|', '|กับ|บัตรกดเงินสด|', '|แต่|เงิน|ไม่|เข้า|', '|เอ่อ|', '|ทิพ|ย|ประกันภัย|', '|dec|', '|ref|.|2|', '|แต่|ก็|นั่นแหละ|', '|ใบ|ของ|kbank|ครับ|', '|ไป|คะ|', '|บ้าง|', '|11|', '|krungthai_connext|', '|รีวอร์ด|', 'เปิดบัญชี|', '|ทุกคน|', '|108|', '|union|', '|ถ้า|อยู่|ใกล้ๆ|', '|อ่ะ|', '|paypal|', '|ไม่|อยากให้|พัก|หนี้|ใช่ไหม|ถึง|ไม่ติดต่อ|กลับมา|ทำไม|ถึง|ติดต่อ|กลับ|ได้|ยากเย็น|เพียงนี้', '|ตามปกติ|', '|เจ|', '|พ|รบ|', 'โอ๊ย|', '|โมง|ครึ่ง|', '|us|', '|tablet|', '|5|', '|gateway|', '|center|', '|โบนัส|', '|แต่|เงิน|ไม่|เข้าบัญชี|ปลายทาง|', '|feedback|', 'สวัสดี|ค่ะ|เพื่อน|ๆ|', '|ของ|บัตรเครดิต|และ|', '|15.30|', '|21|', '|ออ|ป|โป|', '|cc|', '|กองทุน|', '|ไม่|ได้คืน', '|icbc|', '|tower|', '|friendtag|', '|วงเงิน|', '|กระเป๋า|ตังค์|', '|ผ่าน|ทาง|', '|เดือนก่อน|', '|โยน|กัน|ไป|โยน|กัน|มา|', '|atm|', 'ดอกเบี้ย|', '|ผิด|', '|เสียเวลา|', '|10|', '|ตาม|นี้|ครับ|', '|ป|ช|ช|', '|edc|', '|แอป|กรุงไทย|', '|ล่ม|อี|ควาย|', '_', '|ค่ารถ|', 'โอนเงิน|จาก|kbank|', '|2692|', 'krungthai_next|', 'ป|ล|', '|ได้|เลย|', '|นะ|ครับ|', '|krungsri|', 'ผม|', '|sq|', '|จะ|เอา|บัตร|กด|ยัง|ไม่ได้|อีก', '|device|', '|scb_m|', '|ได้แก่|', 'อีก|', '|jcb|', '|ยัง|ไม่|ผ่าน|', '|บ.|ช|.|', '|สาขา|', '|น|', '|ข้อมูล|บัญชี|หาย|ใคร|เป็น|บ้าง|ครับ|', '|เข้า|ทุกเดือน|ไม่ค่อย|มีเงิน|นิ่ง|ๆ|', '|2557|', '|เมื่อวาน|', '|ต้อง|', '|sme|', '|โอนเงิน|ผิด|บัญชี|', '|ติดต่อ|', '|รอ|นานมาก|', '|ats|', '|vi|', '|รอ|ประ|มาน|ครึ่ง|ชม.|', '|5000|', '|หน่อย', '|ยัง|ไว|กว่า|เยอะ|', '|พ.ย.|', '|เพราะ|จริงๆ|', '|เข้า|เมื่อกี้|เลย|', '|เอง|ค่ะ|', 'เตือนภัย|', '|แล้ว|ต้อง|เสีย|อะไร|ไหม|', '|กัน|', '|ยัง|เป็น|', '|เรา|ได้|ทำการ|โอนเงิน|จาก|gsb|ผ่าน|', 'แย่|', '|ซื้อ|หวย|', '|from|', '|ผ่อน|', '|โค|วิด|', '|ผ่าน|มา|เกือบ|', '|น่าจะ|', '|เครดิต|', '|พูด|ง่ายๆ|', '|ธนาคาร|แบบนี้|', '|refinance|', '|เย็น|ๆ|', '|ดู|ยากมาก|', '|งง|เลย', '|มาสเตอร์|การ์ด|', '|wongnai|', '|ต|ค.|', '|แต่|ยอดเงิน|ไม่|เข้า|', '|ขอบคุณ|ครับ|', '|มี|ค.|', '|เมื่อไร|', '|travel|', '|กู้|ได้|', '|เรา|เปลี่ยน|จาก|', '|kbank_live', '|จนถึง|บัดนี้|', '|2545|', '|investing|', '|เบอร์|เติม|ผิด|', '|ต่อ|เดือน|', '|แป๊บเดียว|ได้|เงิน', '|ขอบคุณ|คะ', 'ระบบ|', '|เบอร์|', '|ขอบคุณ|ล่วงหน้า|นะคะ|', '|29|', 'และ|', '|back|', '|เบื่อ|มาก|', '|พูดจา|ดีมาก|', 'ใช้|', '|24000|', '|ครั้งแรก|', '|ซื้อ|ผ่าน|', '|od|', '|เมื่อ|กลางเดือน|ไป|เปลี่ยน|จาก|บัตร|', '|คือ|ถ้า|', '|western|', '|23.48|', '|เช้า|', '|สอง|ล้าน|', '|กองทุนรวม|', '|10.00|', '|รอ|นานมาก', 'ลงทะเบียน|', '|15000|', '|cardless|', '|งวด|ที่', '|got|7|keepspinninginbkk', '|ติดต่อ|เจ้าหน้าที่|', '|ระบบ|', '|และ|บัตร|กดเงิน|', '|อิ|เหี้ย|', '|ขายของ|เช็ค|ยากมาก|ค่ะ|', '|รวม|', 'เบอร์|', '23|', '|ธนาคาร|ghb', '|ขอบคุณ|ล่วงหน้า|ครับ', '|เวง|', '|มาแล้ว|', '|ล่ม|อีก|', '|gbp|', '|itmx|', 'โอนเงิน|จาก|', '|ตัว|ไหน|', 'kbank|ล่ม|หรอ|', '|ไฟล์|', '|ทำไง|ครับ|', '|cash|', '|โทร|', '|แต่|ถ้า|ไม่ใช่|', '|ที่|จ่าย|', '|add|', '|ส่วน|ที่|ไม่ต้อง|เป็น|ผู้โดยสาร|ก็|เข้าไป|ใช้บริการ|ได้|', '|ทั้ง|ทาง|', '|66|', '|unlock|', '|สาธุ|', '|แย่มาก|', '|bank|', '|banking|.|', '|ส่วน|บัตรกดเงินสด|', '|แย่|แย่|แย่', '|จ่ายเงิน|ไม่ได้|', '|kcl|', '|กด|ฟรี|ทุก|ตู้|', '|passion|', '|สมาชิก|ว่า|', '|ของ|วันพรุ่งนี้|', '|ครึ่ง|ชั่วโมง|', '|ผ่าน|', 'ถาม|', '|มา|นาน|', '|big|', '|ละ|อ่อ|', '|อี|เวง|', '|คนละ|ครึ่ง|', '|เจ้าหน้าที่|บอก|ได้|สิ|ท|ธ|์|แล้ว|ค่ะ', '|ต่างๆ|', '|ธนาคาร|หยุด|ไหม|คะ|', '|พฤศจิกายน|', '|ประกัน|', 'ป|ล.|', '|บอก|อี|กว่า|', '|option|', '|ดู|ครับ|', '|บาท|ค่ะ|', 'ยื่น|', '|เครื่อง|', '|ขึ้น|ว่า|', '|ม.|', '|พอ|มี|โครงการ|พัก|หนี้|', '|ส่ง|มา|ว่า|', '|.|co|.|th|', '|ล้าน|บาท|', '|สงสัย|ว่า|', '|โดยที่|ไม่ต้อง|ไป|ธนาคาร|', '|ปี|กว่า|แล้ว|', '|ไม่มี|', '|ไม่|ถึง|', 'uob|', '|banking', '|ก.|ย|.|', '|ทำ|บัตรเสริม|ของ|มาย|', '|kerry|', '|จาก|', '|49|', 'สอบถาม|ด้วย|ครับ|', '|ได้|ไหม|ค่ะ|', '|แต่|ทั้ง', 'tao|', '|t|', '|ติด|ต่อไป|ทาง|', '|บัตรเดบิต|', '|กู้|คนเดียว|', 'ทำ|', '|โอน|เมื่อวาน|ตอน|', '|นี่|นะ|', '|แอร์|เอเชีย|', '|อ|ห', '|อัปเดต|', '|no|.|1|', '|แอป|ฯ|', '|18|', '|บ.|', '|ของ|ประเทศ|', '|อาทิ|', '|วอ|ล|เลต|', '|เลย|นะ|', '|4.|', '|รอสาย|', '|อ|ห|.', '12|', '|แต่|จ่าย|ผ่าน|', '|แต่|ไม่สามารถ|', '|เปน|', '|ที่|สาขา|', '|ไม่|เสีย|ค่าธรรมเนียม|', '|1558|', '|k|', '|card', '|บาท|', '|สัก|เท่าไหร่|', '|ref|', '|ไทย|พา|นิส|', '|ของ|วันนี้|ให้|ลอง|เช็ค|ที่|บัญชี|ปลายทาง|ก่อน|ถ้า|ไม่|ได้รับ|ก็|ให้|เช็ค|พรุ่งนี้|อีกที', '|ปัจจุบัน|', '|วัน', '|เรื่อง|มีอยู่|ว่า|', '|1600|', '|บอก|', '|g-walle|', '|ที่ธนาคาร|', '|25|', '|มาก'}\n"
          ]
        }
      ]
    },
    {
      "cell_type": "code",
      "source": [
        "#Turn Series into lists\n",
        "train_docs = train['Text_ws_local'].tolist()\n",
        "test_docs = test['Text_ws_local'].tolist()"
      ],
      "metadata": {
        "id": "IqgqeKFll7ti"
      },
      "execution_count": 10,
      "outputs": []
    },
    {
      "cell_type": "code",
      "source": [
        "from keras.preprocessing.text import Tokenizer\n",
        "from keras_preprocessing.sequence import pad_sequences\n",
        "\n",
        "tokenizer = Tokenizer()\n",
        "#one hot-enconding for the text like > https://stackoverflow.com/questions/69026891/what-is-keras-tokenizer-fit-on-texts-doing\n",
        "tokenizer.fit_on_texts(train_docs)\n",
        "encoded_docs = tokenizer.texts_to_sequences(train_docs)"
      ],
      "metadata": {
        "id": "A7Hp-D9ijQgZ"
      },
      "execution_count": 11,
      "outputs": []
    },
    {
      "cell_type": "code",
      "source": [
        "#Find the most max lengths of word in verbatims from both train and test\n",
        "max_length_train = max([len(s.split()) for s in train_docs])\n",
        "max_length_test  = max([len(s.split()) for s in test_docs])\n",
        "max_length = max([max_length_train, max_length_test])\n",
        "print(\"Max Length of Words: \", max_length)\n",
        "\n",
        "#Padding in order to equalize some verbatims that do not contain the same length of the max length verbatim\n",
        "Xtrain = pad_sequences(encoded_docs, maxlen=max_length, padding='post')\n",
        "#define the labels\n",
        "ytrain = np.array(train['Human_CategoryID'].tolist())"
      ],
      "metadata": {
        "id": "R7JbQ0qZmf0D",
        "colab": {
          "base_uri": "https://localhost:8080/"
        },
        "outputId": "df4391a3-f243-4038-8b24-9743fe7bb463"
      },
      "execution_count": 12,
      "outputs": [
        {
          "output_type": "stream",
          "name": "stdout",
          "text": [
            "Max Length of Words:  66\n"
          ]
        }
      ]
    },
    {
      "cell_type": "code",
      "source": [
        "#Do the same for the test set\n",
        "encoded_docs_test = tokenizer.texts_to_sequences(test_docs)\n",
        "\n",
        "Xtest = pad_sequences(encoded_docs_test, maxlen=max_length)\n",
        "ytest = np.array(test['Human_CategoryID'].tolist())"
      ],
      "metadata": {
        "id": "oHTspdkypLeF"
      },
      "execution_count": 13,
      "outputs": []
    },
    {
      "cell_type": "code",
      "source": [
        "#Count unique classes\n",
        "print(train['Human_CategoryID'].nunique(), test['Human_CategoryID'].nunique())"
      ],
      "metadata": {
        "colab": {
          "base_uri": "https://localhost:8080/"
        },
        "id": "ILLDKYp3MX65",
        "outputId": "5b2e589b-77be-4daf-cc20-3e58a5da761f"
      },
      "execution_count": 14,
      "outputs": [
        {
          "output_type": "stream",
          "name": "stdout",
          "text": [
            "13 12\n"
          ]
        }
      ]
    },
    {
      "cell_type": "code",
      "source": [
        "#Count unique classes\n",
        "num_classes = max(train['Human_CategoryID'].nunique(), test['Human_CategoryID'].nunique())\n",
        "print(num_classes)"
      ],
      "metadata": {
        "colab": {
          "base_uri": "https://localhost:8080/"
        },
        "id": "VQcD2gdpNwkg",
        "outputId": "42d00b99-ec84-4c63-92dd-ac992a34712a"
      },
      "execution_count": 15,
      "outputs": [
        {
          "output_type": "stream",
          "name": "stdout",
          "text": [
            "13\n"
          ]
        }
      ]
    },
    {
      "cell_type": "code",
      "source": [
        "from tensorflow.keras.utils import to_categorical\n",
        "\n",
        "#Multi class problems need one-hot encoding on y\n",
        "#why - 1 on ytrain and ytest? can follow the linke below\n",
        "#https://stackoverflow.com/questions/56204731/the-method-np-utils-to-categorical-give-me-an-error/59002957#59002957\n",
        "ytrain =  to_categorical(ytrain-1, num_classes=num_classes)\n",
        "ytest = to_categorical(ytest-1, num_classes=num_classes)"
      ],
      "metadata": {
        "id": "BWTwtb6tLUBE"
      },
      "execution_count": 16,
      "outputs": []
    },
    {
      "cell_type": "code",
      "source": [
        "vocab_size = len(tokenizer.word_index)+1"
      ],
      "metadata": {
        "id": "lvFEpT6zp8YY"
      },
      "execution_count": 17,
      "outputs": []
    },
    {
      "cell_type": "markdown",
      "source": [
        "#Model CNN (MaxPooling1D(pool_size=2)) 24.421594"
      ],
      "metadata": {
        "id": "hiGb5p29sWHt"
      }
    },
    {
      "cell_type": "code",
      "source": [
        "from keras.layers import Dense, Flatten, Embedding, BatchNormalization, Dropout\n",
        "from keras.models import Sequential\n",
        "from keras.layers.convolutional import Conv1D, MaxPooling1D"
      ],
      "metadata": {
        "id": "huOisC8Ysz-r"
      },
      "execution_count": 257,
      "outputs": []
    },
    {
      "cell_type": "code",
      "source": [
        "#Define our model\n",
        "model = Sequential()\n",
        "\n",
        "model.add(Embedding(vocab_size, 50, input_length=max_length, trainable=True))\n",
        "model.add(Conv1D(filters=32, kernel_size=3, activation='relu'))\n",
        "model.add(MaxPooling1D())\n",
        "#MaxPool1D: pool_size=2: 28\n",
        "#MaxPool1D: pool_size = 2, strides = 2: 24.421594\n",
        "#MaxPool1D(): w/o specification: 26-30\n",
        "\n",
        "model.add(Flatten())\n",
        "model.add(Dense(256, activation='relu'))\n",
        "model.add(Dropout(0.25))\n",
        "\n",
        "model.add(Dense(num_classes, activation='softmax'))\n",
        "print(model.summary())"
      ],
      "metadata": {
        "id": "Ify0PvZ3sWzS",
        "colab": {
          "base_uri": "https://localhost:8080/"
        },
        "outputId": "b211a782-aafa-47c9-a7be-28161c172511"
      },
      "execution_count": 258,
      "outputs": [
        {
          "output_type": "stream",
          "name": "stdout",
          "text": [
            "Model: \"sequential_30\"\n",
            "_________________________________________________________________\n",
            " Layer (type)                Output Shape              Param #   \n",
            "=================================================================\n",
            " embedding_30 (Embedding)    (None, 66, 50)            630450    \n",
            "                                                                 \n",
            " conv1d_23 (Conv1D)          (None, 64, 32)            4832      \n",
            "                                                                 \n",
            " max_pooling1d_4 (MaxPooling  (None, 32, 32)           0         \n",
            " 1D)                                                             \n",
            "                                                                 \n",
            " flatten_9 (Flatten)         (None, 1024)              0         \n",
            "                                                                 \n",
            " dense_49 (Dense)            (None, 256)               262400    \n",
            "                                                                 \n",
            " dropout_2 (Dropout)         (None, 256)               0         \n",
            "                                                                 \n",
            " dense_50 (Dense)            (None, 13)                3341      \n",
            "                                                                 \n",
            "=================================================================\n",
            "Total params: 901,023\n",
            "Trainable params: 901,023\n",
            "Non-trainable params: 0\n",
            "_________________________________________________________________\n",
            "None\n"
          ]
        }
      ]
    },
    {
      "cell_type": "code",
      "source": [
        "from tensorflow.keras.callbacks import EarlyStopping\n",
        "\n",
        "#put early stopping\n",
        "early_stopping = EarlyStopping(monitor='val_loss', patience=1, mode='min')\n",
        "\n",
        "#Your choices of activation='softmax' in the last layer and compile choice of loss='categorical_crossentropy' \n",
        "#are good for a model to predict multiple mutually-exclusive classes.\n",
        "\n",
        "model.compile(loss='categorical_crossentropy',\n",
        "              optimizer='adam', \n",
        "              metrics=['acc'],)"
      ],
      "metadata": {
        "id": "_VV7d6eRf_AD"
      },
      "execution_count": 259,
      "outputs": []
    },
    {
      "cell_type": "code",
      "source": [
        "#Try classweight from this https://datascience.stackexchange.com/questions/13490/how-to-set-class-weights-for-imbalanced-classes-in-keras\n",
        "\n",
        "history = model.fit(Xtrain, ytrain, \n",
        "                    epochs=10, batch_size=64, \n",
        "                    validation_split=0.2,\n",
        "                    callbacks=[early_stopping])"
      ],
      "metadata": {
        "colab": {
          "base_uri": "https://localhost:8080/"
        },
        "id": "KKmAGyKqECUx",
        "outputId": "31cf4a5e-16c2-4ae9-9fa9-f126e3d13b10"
      },
      "execution_count": 260,
      "outputs": [
        {
          "output_type": "stream",
          "name": "stdout",
          "text": [
            "Epoch 1/10\n",
            "152/152 [==============================] - 1s 5ms/step - loss: 1.9013 - acc: 0.3578 - val_loss: 1.5954 - val_acc: 0.4663\n",
            "Epoch 2/10\n",
            "152/152 [==============================] - 1s 4ms/step - loss: 1.4668 - acc: 0.5271 - val_loss: 1.4421 - val_acc: 0.5309\n",
            "Epoch 3/10\n",
            "152/152 [==============================] - 1s 4ms/step - loss: 1.0903 - acc: 0.6687 - val_loss: 1.3278 - val_acc: 0.5807\n",
            "Epoch 4/10\n",
            "152/152 [==============================] - 1s 4ms/step - loss: 0.7699 - acc: 0.7605 - val_loss: 1.4676 - val_acc: 0.5765\n"
          ]
        }
      ]
    },
    {
      "cell_type": "code",
      "source": [
        "history_frame = pd.DataFrame(history.history)\n",
        "history_frame.loc[:, ['loss', 'val_loss']].plot()"
      ],
      "metadata": {
        "colab": {
          "base_uri": "https://localhost:8080/",
          "height": 282
        },
        "id": "5hrmrMCmUjh2",
        "outputId": "bf72809e-5b69-41e9-bde4-1f377e7503ca"
      },
      "execution_count": 261,
      "outputs": [
        {
          "output_type": "execute_result",
          "data": {
            "text/plain": [
              "<matplotlib.axes._subplots.AxesSubplot at 0x7f83d85b0950>"
            ]
          },
          "metadata": {},
          "execution_count": 261
        },
        {
          "output_type": "display_data",
          "data": {
            "text/plain": [
              "<Figure size 432x288 with 1 Axes>"
            ],
            "image/png": "[encoded data removed]"
          },
          "metadata": {
            "needs_background": "light"
          }
        }
      ]
    },
    {
      "cell_type": "code",
      "source": [
        "history_frame.loc[:, ['acc', 'val_acc']].plot()"
      ],
      "metadata": {
        "colab": {
          "base_uri": "https://localhost:8080/",
          "height": 282
        },
        "id": "qgGNdtfHU3yS",
        "outputId": "b51d354c-7b84-41cf-b443-dae56859f547"
      },
      "execution_count": 262,
      "outputs": [
        {
          "output_type": "execute_result",
          "data": {
            "text/plain": [
              "<matplotlib.axes._subplots.AxesSubplot at 0x7f83d8329750>"
            ]
          },
          "metadata": {},
          "execution_count": 262
        },
        {
          "output_type": "display_data",
          "data": {
            "text/plain": [
              "<Figure size 432x288 with 1 Axes>"
            ],
            "image/png": "[encoded data removed]"
          },
          "metadata": {
            "needs_background": "light"
          }
        }
      ]
    },
    {
      "cell_type": "code",
      "source": [
        "print(Xtest.shape, ytest.shape)"
      ],
      "metadata": {
        "colab": {
          "base_uri": "https://localhost:8080/"
        },
        "id": "uvpjXrbRWKI5",
        "outputId": "d662f694-d54c-47e9-e09b-d007fd410c92"
      },
      "execution_count": 263,
      "outputs": [
        {
          "output_type": "stream",
          "name": "stdout",
          "text": [
            "(389, 66) (389, 13)\n"
          ]
        }
      ]
    },
    {
      "cell_type": "code",
      "source": [
        "loss, acc = model.evaluate(Xtest, ytest)\n",
        "print('Test Accuracy: %f' % (acc*100))"
      ],
      "metadata": {
        "colab": {
          "base_uri": "https://localhost:8080/"
        },
        "id": "5N9TLkdHV0hy",
        "outputId": "c4807357-1ca0-45c1-c2e1-69ce044e79f5"
      },
      "execution_count": 264,
      "outputs": [
        {
          "output_type": "stream",
          "name": "stdout",
          "text": [
            "13/13 [==============================] - 0s 2ms/step - loss: 2.4676 - acc: 0.2339\n",
            "Test Accuracy: 23.393317\n"
          ]
        }
      ]
    },
    {
      "cell_type": "markdown",
      "source": [
        "#Model LSTM + CNN (MaxPooling1D(pool_size=2)) 33.334190"
      ],
      "metadata": {
        "id": "JKTKM23Nn0Vl"
      }
    },
    {
      "cell_type": "code",
      "source": [
        "from keras.layers import Dense, Flatten, Embedding, BatchNormalization, Dropout, LSTM, Bidirectional, TimeDistributed\n",
        "from keras.models import Sequential\n",
        "from keras.layers.convolutional import Conv1D, MaxPooling1D"
      ],
      "metadata": {
        "id": "_Rjnttm7n0Vs"
      },
      "execution_count": 265,
      "outputs": []
    },
    {
      "cell_type": "code",
      "source": [
        "#Define our model\n",
        "model = Sequential()\n",
        "\n",
        "model.add(Embedding(vocab_size, 100, input_length=max_length, trainable=True))\n",
        "model.add(LSTM(50, return_sequences=True))\n",
        "model.add(Conv1D(filters=32, kernel_size=3, activation='relu'))\n",
        "model.add(MaxPooling1D())\n",
        "\n",
        "#CNN + LSTM\n",
        "#MaxPool1D: pool_size=2: 30\n",
        "#MaxPool1D: w/o specification: 30\n",
        "\n",
        "#LSTM + CNN\n",
        "#MaxPool1D: w/o specification: 33.676094\n",
        "\n",
        "model.add(Flatten())\n",
        "\n",
        "model.add(Dense(512, activation='relu'))\n",
        "model.add(Dense(256, activation='relu'))\n",
        "\n",
        "model.add(Dense(num_classes, activation='softmax'))\n",
        "print(model.summary())"
      ],
      "metadata": {
        "colab": {
          "base_uri": "https://localhost:8080/"
        },
        "outputId": "1a66bbcf-2fe2-4894-9674-734b994c64c2",
        "id": "OiHinNUfn0Vs"
      },
      "execution_count": 266,
      "outputs": [
        {
          "output_type": "stream",
          "name": "stdout",
          "text": [
            "Model: \"sequential_31\"\n",
            "_________________________________________________________________\n",
            " Layer (type)                Output Shape              Param #   \n",
            "=================================================================\n",
            " embedding_31 (Embedding)    (None, 66, 100)           1260900   \n",
            "                                                                 \n",
            " lstm_34 (LSTM)              (None, 66, 50)            30200     \n",
            "                                                                 \n",
            " conv1d_24 (Conv1D)          (None, 64, 32)            4832      \n",
            "                                                                 \n",
            " max_pooling1d_5 (MaxPooling  (None, 32, 32)           0         \n",
            " 1D)                                                             \n",
            "                                                                 \n",
            " flatten_10 (Flatten)        (None, 1024)              0         \n",
            "                                                                 \n",
            " dense_51 (Dense)            (None, 512)               524800    \n",
            "                                                                 \n",
            " dense_52 (Dense)            (None, 256)               131328    \n",
            "                                                                 \n",
            " dense_53 (Dense)            (None, 13)                3341      \n",
            "                                                                 \n",
            "=================================================================\n",
            "Total params: 1,955,401\n",
            "Trainable params: 1,955,401\n",
            "Non-trainable params: 0\n",
            "_________________________________________________________________\n",
            "None\n"
          ]
        }
      ]
    },
    {
      "cell_type": "code",
      "source": [
        "from tensorflow.keras.callbacks import EarlyStopping\n",
        "\n",
        "#put early stopping\n",
        "early_stopping = EarlyStopping(monitor='val_loss', patience=1, mode='min')\n",
        "\n",
        "#Your choices of activation='softmax' in the last layer and compile choice of loss='categorical_crossentropy' \n",
        "#are good for a model to predict multiple mutually-exclusive classes.\n",
        "\n",
        "model.compile(loss='categorical_crossentropy',\n",
        "              optimizer='adam', \n",
        "              metrics=['acc'],)"
      ],
      "metadata": {
        "id": "IoNZ97Men0Vs"
      },
      "execution_count": 267,
      "outputs": []
    },
    {
      "cell_type": "code",
      "source": [
        "#Try classweight from this https://datascience.stackexchange.com/questions/13490/how-to-set-class-weights-for-imbalanced-classes-in-keras\n",
        "\n",
        "history = model.fit(Xtrain, ytrain, \n",
        "                    epochs=10, batch_size=32, \n",
        "                    validation_split=0.2,\n",
        "                    callbacks=[early_stopping])"
      ],
      "metadata": {
        "colab": {
          "base_uri": "https://localhost:8080/"
        },
        "outputId": "0068a3bd-d547-4a24-d504-101bbaca8ce6",
        "id": "3i82PMBRn0Vs"
      },
      "execution_count": 268,
      "outputs": [
        {
          "output_type": "stream",
          "name": "stdout",
          "text": [
            "Epoch 1/10\n",
            "304/304 [==============================] - 4s 9ms/step - loss: 1.6521 - acc: 0.4567 - val_loss: 1.3808 - val_acc: 0.5432\n",
            "Epoch 2/10\n",
            "304/304 [==============================] - 2s 7ms/step - loss: 1.1581 - acc: 0.6359 - val_loss: 1.3165 - val_acc: 0.5733\n",
            "Epoch 3/10\n",
            "304/304 [==============================] - 2s 7ms/step - loss: 0.8634 - acc: 0.7171 - val_loss: 1.3723 - val_acc: 0.5770\n"
          ]
        }
      ]
    },
    {
      "cell_type": "code",
      "source": [
        "history_frame = pd.DataFrame(history.history)\n",
        "history_frame.loc[:, ['loss', 'val_loss']].plot()"
      ],
      "metadata": {
        "colab": {
          "base_uri": "https://localhost:8080/",
          "height": 282
        },
        "outputId": "4ff6952d-8953-4ead-a5dd-5cb9d30637f1",
        "id": "2B7E8Xcrn0Vt"
      },
      "execution_count": 269,
      "outputs": [
        {
          "output_type": "execute_result",
          "data": {
            "text/plain": [
              "<matplotlib.axes._subplots.AxesSubplot at 0x7f8474240b50>"
            ]
          },
          "metadata": {},
          "execution_count": 269
        },
        {
          "output_type": "display_data",
          "data": {
            "text/plain": [
              "<Figure size 432x288 with 1 Axes>"
            ],
            "image/png": "[encoded data removed]"
          },
          "metadata": {
            "needs_background": "light"
          }
        }
      ]
    },
    {
      "cell_type": "code",
      "source": [
        "history_frame.loc[:, ['acc', 'val_acc']].plot()"
      ],
      "metadata": {
        "colab": {
          "base_uri": "https://localhost:8080/",
          "height": 282
        },
        "outputId": "6e7961c5-0e89-4e59-a3be-6e8f8f45cc72",
        "id": "BFZ_Lsvrn0Vt"
      },
      "execution_count": 270,
      "outputs": [
        {
          "output_type": "execute_result",
          "data": {
            "text/plain": [
              "<matplotlib.axes._subplots.AxesSubplot at 0x7f8460339290>"
            ]
          },
          "metadata": {},
          "execution_count": 270
        },
        {
          "output_type": "display_data",
          "data": {
            "text/plain": [
              "<Figure size 432x288 with 1 Axes>"
            ],
            "image/png": "[encoded data removed]"
          },
          "metadata": {
            "needs_background": "light"
          }
        }
      ]
    },
    {
      "cell_type": "code",
      "source": [
        "print(ytrain.shape, ytest.shape)"
      ],
      "metadata": {
        "colab": {
          "base_uri": "https://localhost:8080/"
        },
        "outputId": "e4073e91-812c-4ba2-f7b5-c2907d5289f0",
        "id": "84PYJYKMn0Vt"
      },
      "execution_count": 271,
      "outputs": [
        {
          "output_type": "stream",
          "name": "stdout",
          "text": [
            "(12150, 13) (389, 13)\n"
          ]
        }
      ]
    },
    {
      "cell_type": "code",
      "source": [
        "loss, acc = model.evaluate(Xtest, ytest)\n",
        "print('Test Accuracy: %f' % (acc*100))"
      ],
      "metadata": {
        "colab": {
          "base_uri": "https://localhost:8080/"
        },
        "outputId": "123f2ea2-058c-4496-9e41-b8faff022964",
        "id": "At8ST7Ttn0Vu"
      },
      "execution_count": 272,
      "outputs": [
        {
          "output_type": "stream",
          "name": "stdout",
          "text": [
            "13/13 [==============================] - 0s 3ms/step - loss: 2.2924 - acc: 0.2853\n",
            "Test Accuracy: 28.534704\n"
          ]
        }
      ]
    },
    {
      "cell_type": "code",
      "source": [
        ""
      ],
      "metadata": {
        "id": "RETUdyek5asQ"
      },
      "execution_count": 272,
      "outputs": []
    },
    {
      "cell_type": "markdown",
      "source": [
        "#Model CNN + LSTM (GlobalMaxPooling) 47"
      ],
      "metadata": {
        "id": "M7XlF2h5Azpg"
      }
    },
    {
      "cell_type": "code",
      "source": [
        "from keras.layers import Dense, Flatten, Embedding, BatchNormalization, Dropout, LSTM, Bidirectional\n",
        "from keras.models import Sequential\n",
        "from keras.layers.convolutional import Conv1D, MaxPooling1D\n",
        "from keras.layers.pooling import GlobalMaxPooling1D"
      ],
      "metadata": {
        "id": "hFzoz7zyAzpv"
      },
      "execution_count": 281,
      "outputs": []
    },
    {
      "cell_type": "code",
      "source": [
        "#Define our model\n",
        "model = Sequential()\n",
        "\n",
        "model.add(Embedding(vocab_size, 100, input_length=max_length, trainable=True))\n",
        "model.add(Conv1D(filters=32, kernel_size=3, activation='relu'))\n",
        "model.add(LSTM(50, return_sequences=True))\n",
        "\n",
        "model.add(GlobalMaxPooling1D())\n",
        "#CNN LSTM GMP1D(w/o spec): 44, 49\n",
        "#LSTM CNN GMP1D(w/o spec): 38, 47\n",
        "\n",
        "model.add(Flatten())\n",
        "\n",
        "model.add(Dense(512, activation='relu'))\n",
        "model.add(Dense(256, activation='relu'))\n",
        "\n",
        "model.add(Dense(num_classes, activation='softmax'))\n",
        "print(model.summary())"
      ],
      "metadata": {
        "colab": {
          "base_uri": "https://localhost:8080/"
        },
        "outputId": "6b2f50ee-52b7-4d6a-cff2-b128b2471fd8",
        "id": "OOIiaeQTAzpv"
      },
      "execution_count": 282,
      "outputs": [
        {
          "output_type": "stream",
          "name": "stdout",
          "text": [
            "Model: \"sequential_33\"\n",
            "_________________________________________________________________\n",
            " Layer (type)                Output Shape              Param #   \n",
            "=================================================================\n",
            " embedding_33 (Embedding)    (None, 66, 100)           1260900   \n",
            "                                                                 \n",
            " conv1d_26 (Conv1D)          (None, 64, 32)            9632      \n",
            "                                                                 \n",
            " lstm_35 (LSTM)              (None, 64, 50)            16600     \n",
            "                                                                 \n",
            " global_max_pooling1d_11 (Gl  (None, 50)               0         \n",
            " obalMaxPooling1D)                                               \n",
            "                                                                 \n",
            " flatten_12 (Flatten)        (None, 50)                0         \n",
            "                                                                 \n",
            " dense_56 (Dense)            (None, 512)               26112     \n",
            "                                                                 \n",
            " dense_57 (Dense)            (None, 256)               131328    \n",
            "                                                                 \n",
            " dense_58 (Dense)            (None, 13)                3341      \n",
            "                                                                 \n",
            "=================================================================\n",
            "Total params: 1,447,913\n",
            "Trainable params: 1,447,913\n",
            "Non-trainable params: 0\n",
            "_________________________________________________________________\n",
            "None\n"
          ]
        }
      ]
    },
    {
      "cell_type": "code",
      "source": [
        "from tensorflow.keras.callbacks import EarlyStopping\n",
        "\n",
        "#put early stopping\n",
        "early_stopping = EarlyStopping(monitor='val_loss', patience=1, mode='min')\n",
        "\n",
        "#Your choices of activation='softmax' in the last layer and compile choice of loss='categorical_crossentropy' \n",
        "#are good for a model to predict multiple mutually-exclusive classes.\n",
        "\n",
        "model.compile(loss='categorical_crossentropy',\n",
        "              optimizer='adam', \n",
        "              metrics=['acc'],)"
      ],
      "metadata": {
        "id": "fsGwd-BPAzpw"
      },
      "execution_count": 283,
      "outputs": []
    },
    {
      "cell_type": "code",
      "source": [
        "#Try classweight from this https://datascience.stackexchange.com/questions/13490/how-to-set-class-weights-for-imbalanced-classes-in-keras\n",
        "\n",
        "history = model.fit(Xtrain, ytrain, \n",
        "                    epochs=10, batch_size=32, \n",
        "                    validation_split=0.2,\n",
        "                    callbacks=[early_stopping])"
      ],
      "metadata": {
        "colab": {
          "base_uri": "https://localhost:8080/"
        },
        "outputId": "ab4baba3-0611-4c42-8a68-046b53609487",
        "id": "TsVbHf0RAzpw"
      },
      "execution_count": 284,
      "outputs": [
        {
          "output_type": "stream",
          "name": "stdout",
          "text": [
            "Epoch 1/10\n",
            "304/304 [==============================] - 4s 9ms/step - loss: 1.8359 - acc: 0.3572 - val_loss: 1.5820 - val_acc: 0.4733\n",
            "Epoch 2/10\n",
            "304/304 [==============================] - 2s 7ms/step - loss: 1.4173 - acc: 0.5404 - val_loss: 1.4117 - val_acc: 0.5523\n",
            "Epoch 3/10\n",
            "304/304 [==============================] - 2s 7ms/step - loss: 1.0886 - acc: 0.6570 - val_loss: 1.4146 - val_acc: 0.5704\n"
          ]
        }
      ]
    },
    {
      "cell_type": "code",
      "source": [
        "history_frame = pd.DataFrame(history.history)\n",
        "history_frame.loc[:, ['loss', 'val_loss']].plot()"
      ],
      "metadata": {
        "colab": {
          "base_uri": "https://localhost:8080/",
          "height": 0
        },
        "outputId": "13bdfcac-fa81-4343-9acb-55795a0e6e8a",
        "id": "XFAMSdCPAzpx"
      },
      "execution_count": 285,
      "outputs": [
        {
          "output_type": "execute_result",
          "data": {
            "text/plain": [
              "<matplotlib.axes._subplots.AxesSubplot at 0x7f83d9b5e9d0>"
            ]
          },
          "metadata": {},
          "execution_count": 285
        },
        {
          "output_type": "display_data",
          "data": {
            "text/plain": [
              "<Figure size 432x288 with 1 Axes>"
            ],
            "image/png": "[encoded data removed]"
          },
          "metadata": {
            "needs_background": "light"
          }
        }
      ]
    },
    {
      "cell_type": "code",
      "source": [
        "history_frame.loc[:, ['acc', 'val_acc']].plot()"
      ],
      "metadata": {
        "colab": {
          "base_uri": "https://localhost:8080/",
          "height": 0
        },
        "outputId": "afccf72f-6fe1-47f2-fd64-28425718ddd5",
        "id": "q4jxsipNAzpx"
      },
      "execution_count": 286,
      "outputs": [
        {
          "output_type": "execute_result",
          "data": {
            "text/plain": [
              "<matplotlib.axes._subplots.AxesSubplot at 0x7f83db4e0f10>"
            ]
          },
          "metadata": {},
          "execution_count": 286
        },
        {
          "output_type": "display_data",
          "data": {
            "text/plain": [
              "<Figure size 432x288 with 1 Axes>"
            ],
            "image/png": "[encoded data removed]"
          },
          "metadata": {
            "needs_background": "light"
          }
        }
      ]
    },
    {
      "cell_type": "code",
      "source": [
        "print(ytrain.shape, ytest.shape)"
      ],
      "metadata": {
        "colab": {
          "base_uri": "https://localhost:8080/"
        },
        "outputId": "e98fa006-0487-4faf-d6be-1a4d9222b080",
        "id": "PMDF44cfAzpx"
      },
      "execution_count": 287,
      "outputs": [
        {
          "output_type": "stream",
          "name": "stdout",
          "text": [
            "(12150, 13) (389, 13)\n"
          ]
        }
      ]
    },
    {
      "cell_type": "code",
      "source": [
        "loss, acc = model.evaluate(Xtest, ytest)\n",
        "print('Test Accuracy: %f' % (acc*100))"
      ],
      "metadata": {
        "colab": {
          "base_uri": "https://localhost:8080/"
        },
        "outputId": "2f9c0c9c-f5d1-4941-e9b5-6f2af0ed7cbd",
        "id": "KveBiofgAzpy"
      },
      "execution_count": 288,
      "outputs": [
        {
          "output_type": "stream",
          "name": "stdout",
          "text": [
            "13/13 [==============================] - 0s 4ms/step - loss: 1.5673 - acc: 0.5116\n",
            "Test Accuracy: 51.156813\n"
          ]
        }
      ]
    },
    {
      "cell_type": "code",
      "source": [
        ""
      ],
      "metadata": {
        "id": "ctquy1SkFYd3"
      },
      "execution_count": 288,
      "outputs": []
    },
    {
      "cell_type": "markdown",
      "source": [
        "#Model CNN (GlobalMaxPooling) 56.812340"
      ],
      "metadata": {
        "id": "DTOqlQc2_dYe"
      }
    },
    {
      "cell_type": "code",
      "source": [
        "from keras.layers import Dense, Flatten, Embedding, BatchNormalization, Dropout\n",
        "from keras.models import Sequential\n",
        "from keras.layers.convolutional import Conv1D, MaxPooling1D"
      ],
      "metadata": {
        "id": "v5igmxJL_dYf"
      },
      "execution_count": 273,
      "outputs": []
    },
    {
      "cell_type": "code",
      "source": [
        "from keras.layers.pooling import GlobalMaxPooling1D\n",
        "#Define our model\n",
        "model = Sequential()\n",
        "\n",
        "model.add(Embedding(vocab_size, 100, input_length=max_length, trainable=True))\n",
        "\n",
        "model.add(Conv1D(filters=32, kernel_size=3, activation='relu'))\n",
        "model.add(GlobalMaxPooling1D())\n",
        "\n",
        "#CNN GMP1D(w/o spec): 56.812340\n",
        "#2CNN GMP1D(w/o spec): 53.470439\n",
        "#CNN BN GMP1D(w/o spec): 52.956301\n",
        "\n",
        "\n",
        "model.add(Flatten())\n",
        "#Flatten(): 56\n",
        "#w/o Flatten(): 55\n",
        "\n",
        "model.add(Dense(256, activation='relu'))\n",
        "model.add(Dense(num_classes, activation='softmax'))\n",
        "print(model.summary())"
      ],
      "metadata": {
        "colab": {
          "base_uri": "https://localhost:8080/"
        },
        "outputId": "0c919136-657f-463e-b6d6-3d5314e7be03",
        "id": "JH8zxE2N_dYf"
      },
      "execution_count": 274,
      "outputs": [
        {
          "output_type": "stream",
          "name": "stdout",
          "text": [
            "Model: \"sequential_32\"\n",
            "_________________________________________________________________\n",
            " Layer (type)                Output Shape              Param #   \n",
            "=================================================================\n",
            " embedding_32 (Embedding)    (None, 66, 100)           1260900   \n",
            "                                                                 \n",
            " conv1d_25 (Conv1D)          (None, 64, 32)            9632      \n",
            "                                                                 \n",
            " global_max_pooling1d_10 (Gl  (None, 32)               0         \n",
            " obalMaxPooling1D)                                               \n",
            "                                                                 \n",
            " flatten_11 (Flatten)        (None, 32)                0         \n",
            "                                                                 \n",
            " dense_54 (Dense)            (None, 256)               8448      \n",
            "                                                                 \n",
            " dense_55 (Dense)            (None, 13)                3341      \n",
            "                                                                 \n",
            "=================================================================\n",
            "Total params: 1,282,321\n",
            "Trainable params: 1,282,321\n",
            "Non-trainable params: 0\n",
            "_________________________________________________________________\n",
            "None\n"
          ]
        }
      ]
    },
    {
      "cell_type": "code",
      "source": [
        "from tensorflow.keras.callbacks import EarlyStopping\n",
        "\n",
        "#put early stopping\n",
        "early_stopping = EarlyStopping(monitor='val_loss', patience=1, mode='min')\n",
        "\n",
        "#Your choices of activation='softmax' in the last layer and compile choice of loss='categorical_crossentropy' \n",
        "#are good for a model to predict multiple mutually-exclusive classes.\n",
        "\n",
        "model.compile(loss='categorical_crossentropy',\n",
        "              optimizer='adam', \n",
        "              metrics=['acc'],)"
      ],
      "metadata": {
        "id": "-FdHcgGX_dYg"
      },
      "execution_count": 275,
      "outputs": []
    },
    {
      "cell_type": "code",
      "source": [
        "#Try classweight from this https://datascience.stackexchange.com/questions/13490/how-to-set-class-weights-for-imbalanced-classes-in-keras\n",
        "#Current val_loss =  1.24\n",
        "history = model.fit(Xtrain, ytrain, \n",
        "                    epochs=10, batch_size=64, \n",
        "                    validation_split=0.2,\n",
        "                    callbacks=[early_stopping])"
      ],
      "metadata": {
        "colab": {
          "base_uri": "https://localhost:8080/"
        },
        "outputId": "58ca36ba-ee65-4954-bd77-93c87faf073c",
        "id": "8AAA7eBg_dYg"
      },
      "execution_count": 276,
      "outputs": [
        {
          "output_type": "stream",
          "name": "stdout",
          "text": [
            "Epoch 1/10\n",
            "152/152 [==============================] - 1s 5ms/step - loss: 1.9095 - acc: 0.3704 - val_loss: 1.5455 - val_acc: 0.4971\n",
            "Epoch 2/10\n",
            "152/152 [==============================] - 1s 4ms/step - loss: 1.3467 - acc: 0.5815 - val_loss: 1.3000 - val_acc: 0.5860\n",
            "Epoch 3/10\n",
            "152/152 [==============================] - 1s 4ms/step - loss: 0.9939 - acc: 0.6941 - val_loss: 1.2787 - val_acc: 0.5947\n",
            "Epoch 4/10\n",
            "152/152 [==============================] - 1s 4ms/step - loss: 0.6894 - acc: 0.7893 - val_loss: 1.3701 - val_acc: 0.5975\n"
          ]
        }
      ]
    },
    {
      "cell_type": "code",
      "source": [
        "history_frame = pd.DataFrame(history.history)\n",
        "history_frame.loc[:, ['loss', 'val_loss']].plot()"
      ],
      "metadata": {
        "id": "YdaoJmxZ_dYg",
        "colab": {
          "base_uri": "https://localhost:8080/",
          "height": 282
        },
        "outputId": "8e595b15-2401-4097-9323-3b5242d97b65"
      },
      "execution_count": 277,
      "outputs": [
        {
          "output_type": "execute_result",
          "data": {
            "text/plain": [
              "<matplotlib.axes._subplots.AxesSubplot at 0x7f83da67fc50>"
            ]
          },
          "metadata": {},
          "execution_count": 277
        },
        {
          "output_type": "display_data",
          "data": {
            "text/plain": [
              "<Figure size 432x288 with 1 Axes>"
            ],
            "image/png": "[encoded data removed]"
          },
          "metadata": {
            "needs_background": "light"
          }
        }
      ]
    },
    {
      "cell_type": "code",
      "source": [
        "history_frame.loc[:, ['acc', 'val_acc']].plot()"
      ],
      "metadata": {
        "id": "c2rPUDus_dYh",
        "colab": {
          "base_uri": "https://localhost:8080/",
          "height": 282
        },
        "outputId": "d3dd5130-16fd-4506-f20e-fb1d9c177cac"
      },
      "execution_count": 278,
      "outputs": [
        {
          "output_type": "execute_result",
          "data": {
            "text/plain": [
              "<matplotlib.axes._subplots.AxesSubplot at 0x7f83f6220350>"
            ]
          },
          "metadata": {},
          "execution_count": 278
        },
        {
          "output_type": "display_data",
          "data": {
            "text/plain": [
              "<Figure size 432x288 with 1 Axes>"
            ],
            "image/png": "[encoded data removed]"
          },
          "metadata": {
            "needs_background": "light"
          }
        }
      ]
    },
    {
      "cell_type": "code",
      "source": [
        "print(Xtest.shape, ytest.shape)"
      ],
      "metadata": {
        "id": "6cWYrdPP_dYh",
        "colab": {
          "base_uri": "https://localhost:8080/"
        },
        "outputId": "5a2360e5-8ce8-47fb-d0b3-bbbc3d22b30f"
      },
      "execution_count": 279,
      "outputs": [
        {
          "output_type": "stream",
          "name": "stdout",
          "text": [
            "(389, 66) (389, 13)\n"
          ]
        }
      ]
    },
    {
      "cell_type": "code",
      "source": [
        "loss, acc = model.evaluate(Xtest, ytest)\n",
        "print('Test Accuracy: %f' % (acc*100))"
      ],
      "metadata": {
        "id": "K2KkrfNh_dYh",
        "colab": {
          "base_uri": "https://localhost:8080/"
        },
        "outputId": "9d0ca5e8-1e18-4d71-c48a-d040f61df22e"
      },
      "execution_count": 280,
      "outputs": [
        {
          "output_type": "stream",
          "name": "stdout",
          "text": [
            "13/13 [==============================] - 0s 2ms/step - loss: 1.5020 - acc: 0.5630\n",
            "Test Accuracy: 56.298202\n"
          ]
        }
      ]
    },
    {
      "cell_type": "markdown",
      "source": [
        "#Model CNN1 GMP1D D13: 65"
      ],
      "metadata": {
        "id": "gKD476bKEypH"
      }
    },
    {
      "cell_type": "code",
      "source": [
        "from keras.layers import Dense, Flatten, Embedding, BatchNormalization, Dropout, LSTM, Bidirectional, TimeDistributed\n",
        "from keras.models import Sequential\n",
        "from keras.layers.convolutional import Conv1D, MaxPooling1D\n",
        "from keras.layers.pooling import GlobalMaxPooling1D, AveragePooling1D, GlobalAveragePooling1D\n",
        "import tensorflow as tf"
      ],
      "metadata": {
        "id": "d2lQi0YREypT"
      },
      "execution_count": 18,
      "outputs": []
    },
    {
      "cell_type": "code",
      "source": [
        "from keras.layers.pooling import GlobalMaxPooling1D\n",
        "#Define our model\n",
        "model = Sequential()\n",
        "\n",
        "model.add(Embedding(vocab_size, 1000, input_length=max_length, trainable=True))\n",
        "model.add(Conv1D(128, 5 , activation='relu')) #Among filter=[64,128,256], 128 is the best. \n",
        "model.add(GlobalMaxPooling1D()) #Among pooliing, GMP1D is the best.\n",
        "\n",
        "#CNN128,5 GMP1D D130 D13: 59.897172\n",
        "#EM1000 CNN128,5 GMP1D D13: 65\n",
        "\n",
        "model.add(Dense(num_classes, activation='softmax'))\n",
        "print(model.summary())"
      ],
      "metadata": {
        "colab": {
          "base_uri": "https://localhost:8080/"
        },
        "outputId": "05cc538a-0890-4454-9093-fddfd7f67605",
        "id": "EXb3gteMEypT"
      },
      "execution_count": 26,
      "outputs": [
        {
          "output_type": "stream",
          "name": "stdout",
          "text": [
            "Model: \"sequential_1\"\n",
            "_________________________________________________________________\n",
            " Layer (type)                Output Shape              Param #   \n",
            "=================================================================\n",
            " embedding_1 (Embedding)     (None, 66, 1000)          12609000  \n",
            "                                                                 \n",
            " conv1d_1 (Conv1D)           (None, 62, 128)           640128    \n",
            "                                                                 \n",
            " global_max_pooling1d_1 (Glo  (None, 128)              0         \n",
            " balMaxPooling1D)                                                \n",
            "                                                                 \n",
            " dense_1 (Dense)             (None, 13)                1677      \n",
            "                                                                 \n",
            "=================================================================\n",
            "Total params: 13,250,805\n",
            "Trainable params: 13,250,805\n",
            "Non-trainable params: 0\n",
            "_________________________________________________________________\n",
            "None\n"
          ]
        }
      ]
    },
    {
      "cell_type": "code",
      "source": [
        "from tensorflow.keras.callbacks import EarlyStopping\n",
        "\n",
        "#put early stopping\n",
        "early_stopping = EarlyStopping(monitor='val_loss', patience=1, mode='min')\n",
        "\n",
        "#Your choices of activation='softmax' in the last layer and compile choice of loss='categorical_crossentropy' \n",
        "#are good for a model to predict multiple mutually-exclusive classes.\n",
        "\n",
        "model.compile(loss='categorical_crossentropy',\n",
        "              optimizer='adam', \n",
        "              metrics=['acc'],)"
      ],
      "metadata": {
        "id": "8HKUES2PEypT"
      },
      "execution_count": 27,
      "outputs": []
    },
    {
      "cell_type": "code",
      "source": [
        "#Try classweight from this https://datascience.stackexchange.com/questions/13490/how-to-set-class-weights-for-imbalanced-classes-in-keras\n",
        "\n",
        "history = model.fit(Xtrain, ytrain, \n",
        "                    epochs=10, batch_size=32, \n",
        "                    validation_split=0.2,\n",
        "                    callbacks=[early_stopping])"
      ],
      "metadata": {
        "colab": {
          "base_uri": "https://localhost:8080/"
        },
        "outputId": "89f7c8a2-19a5-4d82-9108-2a03067090fd",
        "id": "8DWtx62mEypU"
      },
      "execution_count": 28,
      "outputs": [
        {
          "output_type": "stream",
          "name": "stdout",
          "text": [
            "Epoch 1/10\n",
            "304/304 [==============================] - 3s 9ms/step - loss: 1.4590 - acc: 0.5319 - val_loss: 1.1692 - val_acc: 0.6152\n",
            "Epoch 2/10\n",
            "304/304 [==============================] - 3s 8ms/step - loss: 0.7370 - acc: 0.7647 - val_loss: 1.1311 - val_acc: 0.6416\n",
            "Epoch 3/10\n",
            "304/304 [==============================] - 3s 8ms/step - loss: 0.2362 - acc: 0.9450 - val_loss: 1.1608 - val_acc: 0.6514\n"
          ]
        }
      ]
    },
    {
      "cell_type": "code",
      "source": [
        "history_frame = pd.DataFrame(history.history)\n",
        "history_frame.loc[:, ['loss', 'val_loss']].plot()"
      ],
      "metadata": {
        "colab": {
          "base_uri": "https://localhost:8080/",
          "height": 282
        },
        "outputId": "209459f2-1c6e-4086-a85c-2f18a75bccef",
        "id": "Mq5yfdPZEypU"
      },
      "execution_count": 29,
      "outputs": [
        {
          "output_type": "execute_result",
          "data": {
            "text/plain": [
              "<matplotlib.axes._subplots.AxesSubplot at 0x7faf561364d0>"
            ]
          },
          "metadata": {},
          "execution_count": 29
        },
        {
          "output_type": "display_data",
          "data": {
            "text/plain": [
              "<Figure size 432x288 with 1 Axes>"
            ],
            "image/png": "[encoded data removed]"
          },
          "metadata": {
            "needs_background": "light"
          }
        }
      ]
    },
    {
      "cell_type": "code",
      "source": [
        "history_frame.loc[:, ['acc', 'val_acc']].plot()"
      ],
      "metadata": {
        "colab": {
          "base_uri": "https://localhost:8080/",
          "height": 282
        },
        "outputId": "6d7eb7b3-7767-427a-a1cf-664b03579ee9",
        "id": "DWwX6VhBEypU"
      },
      "execution_count": 30,
      "outputs": [
        {
          "output_type": "execute_result",
          "data": {
            "text/plain": [
              "<matplotlib.axes._subplots.AxesSubplot at 0x7faf6e02da50>"
            ]
          },
          "metadata": {},
          "execution_count": 30
        },
        {
          "output_type": "display_data",
          "data": {
            "text/plain": [
              "<Figure size 432x288 with 1 Axes>"
            ],
            "image/png": "[encoded data removed]"
          },
          "metadata": {
            "needs_background": "light"
          }
        }
      ]
    },
    {
      "cell_type": "code",
      "source": [
        "print(ytrain.shape, ytest.shape)"
      ],
      "metadata": {
        "colab": {
          "base_uri": "https://localhost:8080/"
        },
        "outputId": "842b99d9-b74c-4805-8738-ded3e55f13b6",
        "id": "fDRmIeenEypU"
      },
      "execution_count": 31,
      "outputs": [
        {
          "output_type": "stream",
          "name": "stdout",
          "text": [
            "(12150, 13) (389, 13)\n"
          ]
        }
      ]
    },
    {
      "cell_type": "code",
      "source": [
        "loss, acc = model.evaluate(Xtest, ytest)\n",
        "print('Test Accuracy: %f' % (acc*100))"
      ],
      "metadata": {
        "colab": {
          "base_uri": "https://localhost:8080/"
        },
        "outputId": "f51bbef4-795c-439c-af15-635c1ec09820",
        "id": "tO0kUYvbEypU"
      },
      "execution_count": 32,
      "outputs": [
        {
          "output_type": "stream",
          "name": "stdout",
          "text": [
            "13/13 [==============================] - 0s 3ms/step - loss: 1.2482 - acc: 0.6272\n",
            "Test Accuracy: 62.724936\n"
          ]
        }
      ]
    },
    {
      "cell_type": "code",
      "source": [
        ""
      ],
      "metadata": {
        "id": "T3mwnrnfEypU"
      },
      "execution_count": 25,
      "outputs": []
    }
  ]
}
