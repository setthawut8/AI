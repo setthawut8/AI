{
  "nbformat": 4,
  "nbformat_minor": 0,
  "metadata": {
    "colab": {
      "name": "[Load & Predict] from the saved model.ipynb",
      "provenance": [],
      "collapsed_sections": [],
      "machine_shape": "hm",
      "authorship_tag": "ABX9TyPXzGJ8iKNrwitNevDWXW8I",
      "include_colab_link": true
    },
    "kernelspec": {
      "name": "python3",
      "display_name": "Python 3"
    },
    "language_info": {
      "name": "python"
    },
    "gpuClass": "standard"
  },
  "cells": [
    {
      "cell_type": "markdown",
      "metadata": {
        "id": "view-in-github",
        "colab_type": "text"
      },
      "source": [
        "<a href=\"https://colab.research.google.com/github/setthawut8/ai/blob/main/%5BLoad_%26_Predict%5D_from_the_saved_model.ipynb\" target=\"_parent\"><img src=\"https://colab.research.google.com/assets/colab-badge.svg\" alt=\"Open In Colab\"/></a>"
      ]
    },
    {
      "cell_type": "markdown",
      "source": [
        "#Build Functions for using these loaded model\n",
        "- https://machinelearningmastery.com/save-load-keras-deep-learning-models/\n",
        "- https://colab.research.google.com/github/tensorflow/docs/blob/master/site/en/tutorials/distribute/save_and_load.ipynb#scrollTo=jFcuzsI94bNA\n"
      ],
      "metadata": {
        "id": "ZSwTbZ7LDnvI"
      }
    },
    {
      "cell_type": "code",
      "source": [
        "!gdown --id :) #model\n",
        "!gdown --id :) #test_data\n",
        "!gdown --id :) #tokenizer"
      ],
      "metadata": {
        "id": "VLht-LtWP3ym"
      },
      "execution_count": null,
      "outputs": []
    },
    {
      "cell_type": "code",
      "source": [
        "import pandas as pd\n",
        "test = pd.read_csv('/content/test_translated banking data.csv')"
      ],
      "metadata": {
        "id": "65iRY4DzRAFE"
      },
      "execution_count": 2,
      "outputs": []
    },
    {
      "cell_type": "code",
      "source": [
        "sample_test_x = test['translated'][10:20]"
      ],
      "metadata": {
        "id": "ZM21-357RVHW"
      },
      "execution_count": 3,
      "outputs": []
    },
    {
      "cell_type": "code",
      "source": [
        "from tensorflow.keras.preprocessing.sequence import pad_sequences\n",
        "\n",
        "def text_to_vectors(pickle_path, docs, max_length_of_words):\n",
        "  with open(pickle_path, 'rb') as handle:\n",
        "    tokenizer = pickle.load(handle)\n",
        "  encoded_docs = tokenizer.texts_to_sequences(docs)\n",
        "  max_length = max([len(s.split()) for s in docs])\n",
        "  padded_doc = pad_sequences(encoded_docs, maxlen=max_length_of_words, padding='post')\n",
        "  vocab_size = len(tokenizer.word_index) + 1\n",
        "  return padded_doc, vocab_size"
      ],
      "metadata": {
        "id": "l_tclXh8UhCA"
      },
      "execution_count": 4,
      "outputs": []
    },
    {
      "cell_type": "code",
      "source": [
        "import pickle\n",
        "import numpy as np\n",
        "from keras.utils.np_utils import to_categorical\n",
        "\n",
        "X, vocab_size = text_to_vectors('/content/tokenizer.pickle', sample_test_x, 190)"
      ],
      "metadata": {
        "id": "uCW0Gjx3Op5J"
      },
      "execution_count": 5,
      "outputs": []
    },
    {
      "cell_type": "code",
      "source": [
        "import tensorflow as tf\n",
        "def TH2EN_CNN_prediction(h5_path, text):\n",
        "  #Load the model: https://colab.research.google.com/github/tensorflow/docs/blob/master/site/en/tutorials/keras/save_and_load.ipynb#scrollTo=SkGwf-50zLNn\n",
        "  # Recreate the exact same model, including its weights and the optimizer\n",
        "  new_model = tf.keras.models.load_model(h5_path)\n",
        "  # Show the model architecture\n",
        "  y_pred = new_model.predict(X)\n",
        "  rounded_labels_ypred = np.argmax(y_pred, axis=1)\n",
        "  return rounded_labels_ypred"
      ],
      "metadata": {
        "id": "Dvoyvy5EUlYt"
      },
      "execution_count": 6,
      "outputs": []
    },
    {
      "cell_type": "code",
      "source": [
        "TH2EN_CNN_prediction('/content/my_model.h5', X)"
      ],
      "metadata": {
        "colab": {
          "base_uri": "https://localhost:8080/"
        },
        "id": "obc1yBIBdlPe",
        "outputId": "dd9db5c4-bab9-4c76-bb4d-3150b9bca5bf"
      },
      "execution_count": 7,
      "outputs": [
        {
          "output_type": "execute_result",
          "data": {
            "text/plain": [
              "array([12,  6,  2,  4,  4,  7,  7,  5,  5,  5])"
            ]
          },
          "metadata": {},
          "execution_count": 7
        }
      ]
    }
  ]
}
