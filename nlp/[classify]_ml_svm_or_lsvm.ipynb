{
  "nbformat": 4,
  "nbformat_minor": 0,
  "metadata": {
    "colab": {
      "name": "[classify] ml svm or lsvm.ipynb",
      "provenance": [],
      "collapsed_sections": [],
      "toc_visible": true,
      "machine_shape": "hm",
      "authorship_tag": "ABX9TyMvtWj+1bKEn7S6Mhrr7vFt",
      "include_colab_link": true
    },
    "kernelspec": {
      "name": "python3",
      "display_name": "Python 3"
    },
    "language_info": {
      "name": "python"
    },
    "accelerator": "GPU",
    "gpuClass": "standard"
  },
  "cells": [
    {
      "cell_type": "markdown",
      "metadata": {
        "id": "view-in-github",
        "colab_type": "text"
      },
      "source": [
        "<a href=\"https://colab.research.google.com/github/setthawut8/ai/blob/main/nlp/%5Bclassify%5D_ml_svm_or_lsvm.ipynb\" target=\"_parent\"><img src=\"https://colab.research.google.com/assets/colab-badge.svg\" alt=\"Open In Colab\"/></a>"
      ]
    },
    {
      "cell_type": "markdown",
      "source": [
        "#library"
      ],
      "metadata": {
        "id": "amhXLOoK-GDd"
      }
    },
    {
      "cell_type": "code",
      "source": [
        "import numpy as np\n",
        "import pandas as pd\n",
        "import seaborn as sns\n",
        "import matplotlib.pyplot as plt\n",
        "from sklearn.feature_extraction.text import TfidfVectorizer"
      ],
      "metadata": {
        "id": "Na2c81Ta2o_b"
      },
      "execution_count": 2,
      "outputs": []
    },
    {
      "cell_type": "code",
      "execution_count": 3,
      "metadata": {
        "colab": {
          "base_uri": "https://localhost:8080/"
        },
        "id": "ERoApZWD1p5i",
        "outputId": "7d17cb50-4dd5-4e8d-894f-b594c82d9806"
      },
      "outputs": [
        {
          "output_type": "stream",
          "name": "stdout",
          "text": [
            "/usr/local/lib/python3.7/dist-packages/gdown/cli.py:131: FutureWarning: Option `--id` was deprecated in version 4.3.1 and will be removed in 5.0. You don't need to pass it anymore to use a file ID.\n",
            "  category=FutureWarning,\n",
            "Downloading...\n",
            "From: https://drive.google.com/uc?id=1-avUDygRCGvAiPplmc6MundS_PpnohRv\n",
            "To: /content/preprocessed_v1_socialfsi_single_train_sampling12150_20220701.xlsx\n",
            "100% 3.87M/3.87M [00:00<00:00, 34.0MB/s]\n",
            "/usr/local/lib/python3.7/dist-packages/gdown/cli.py:131: FutureWarning: Option `--id` was deprecated in version 4.3.1 and will be removed in 5.0. You don't need to pass it anymore to use a file ID.\n",
            "  category=FutureWarning,\n",
            "Downloading...\n",
            "From: https://drive.google.com/uc?id=106OVRPIQQBppganRnCZigxQh6-Zyvqit\n",
            "To: /content/preprocessed_v1_socialfsi_single_test_sampling389_20220701.xlsx\n",
            "100% 141k/141k [00:00<00:00, 30.6MB/s]\n",
            "Looking in indexes: https://pypi.org/simple, https://us-python.pkg.dev/colab-wheels/public/simple/\n",
            "Requirement already satisfied: pythainlp in /usr/local/lib/python3.7/dist-packages (3.0.8)\n",
            "Requirement already satisfied: requests>=2.22.0 in /usr/local/lib/python3.7/dist-packages (from pythainlp) (2.23.0)\n",
            "Requirement already satisfied: tinydb>=3.0 in /usr/local/lib/python3.7/dist-packages (from pythainlp) (4.7.0)\n",
            "Requirement already satisfied: certifi>=2017.4.17 in /usr/local/lib/python3.7/dist-packages (from requests>=2.22.0->pythainlp) (2022.6.15)\n",
            "Requirement already satisfied: chardet<4,>=3.0.2 in /usr/local/lib/python3.7/dist-packages (from requests>=2.22.0->pythainlp) (3.0.4)\n",
            "Requirement already satisfied: idna<3,>=2.5 in /usr/local/lib/python3.7/dist-packages (from requests>=2.22.0->pythainlp) (2.10)\n",
            "Requirement already satisfied: urllib3!=1.25.0,!=1.25.1,<1.26,>=1.21.1 in /usr/local/lib/python3.7/dist-packages (from requests>=2.22.0->pythainlp) (1.24.3)\n",
            "Requirement already satisfied: typing-extensions<5.0.0,>=3.10.0 in /usr/local/lib/python3.7/dist-packages (from tinydb>=3.0->pythainlp) (4.1.1)\n"
          ]
        }
      ],
      "source": [
        "#download data\n",
        "!gdown --id 1-avUDygRCGvAiPplmc6MundS_PpnohRv\n",
        "!gdown --id 106OVRPIQQBppganRnCZigxQh6-Zyvqit\n",
        "\n",
        "#pythainlp\n",
        "!pip install pythainlp"
      ]
    },
    {
      "cell_type": "markdown",
      "source": [
        "#data"
      ],
      "metadata": {
        "id": "mSmZgrZr-JEJ"
      }
    },
    {
      "cell_type": "code",
      "source": [
        "train = pd.read_excel('/content/preprocessed_v1_socialfsi_single_train_sampling12150_20220701.xlsx')\n",
        "test = pd.read_excel('/content/preprocessed_v1_socialfsi_single_test_sampling389_20220701.xlsx')"
      ],
      "metadata": {
        "id": "Pwe_obwU21c5"
      },
      "execution_count": 41,
      "outputs": []
    },
    {
      "cell_type": "code",
      "source": [
        "train.head(1)"
      ],
      "metadata": {
        "colab": {
          "base_uri": "https://localhost:8080/",
          "height": 284
        },
        "id": "IcXVLFVV27Kb",
        "outputId": "68351a58-20d9-40cf-b13e-f2a53a27eb3c"
      },
      "execution_count": 42,
      "outputs": [
        {
          "output_type": "execute_result",
          "data": {
            "text/plain": [
              "   Unnamed: 0                                       TagFile_Path  \\\n",
              "0           0  SocialFSI_ZE-KTB-Feb-Apr2022_Sampling2244_2022...   \n",
              "\n",
              "                                             TagFile SV_CustomerName  \\\n",
              "0  SocialFSI_ZE-KTB-Feb-Apr2022_Sampling1400_2022...  Krungthai_NEXT   \n",
              "\n",
              "                                        Main keyword      Channel SubChannel  \\\n",
              "0  mobile banking+กสิกร,mobile banking+ธนาคารกสิก...  SocialMedia      forum   \n",
              "\n",
              "                        lfdn verbatim_id   sentence_id  \\\n",
              "0  pantip.com_topic_41249919  Q2207_1549  Q2207_1549_1   \n",
              "\n",
              "                                       Text_original  \\\n",
              "0  สอบถามเรื่องการอายัดบัตรเดบิตของกสิกรค่ะ พอดีว...   \n",
              "\n",
              "                                                Text  \\\n",
              "0  สอบถามเรื่องการอายัดบัตรเดบิตของกสิกรค่ะ พอดีว...   \n",
              "\n",
              "                             Human_Category  Human_CategoryID Human_Sentiment  \\\n",
              "0  Product and Service, Usage and Condition                 8         neutral   \n",
              "\n",
              "  Human_SentimentID                                      Text_ws_local  \n",
              "0                 o  สอบถาม|เรื่อง|การ|อายัด|บัตรเดบิต|ของ|kbank|ค่...  "
            ],
            "text/html": [
              "\n",
              "  <div id=\"df-cacb975d-8bab-4416-b63d-7f86fd02ec9b\">\n",
              "    <div class=\"colab-df-container\">\n",
              "      <div>\n",
              "<style scoped>\n",
              "    .dataframe tbody tr th:only-of-type {\n",
              "        vertical-align: middle;\n",
              "    }\n",
              "\n",
              "    .dataframe tbody tr th {\n",
              "        vertical-align: top;\n",
              "    }\n",
              "\n",
              "    .dataframe thead th {\n",
              "        text-align: right;\n",
              "    }\n",
              "</style>\n",
              "<table border=\"1\" class=\"dataframe\">\n",
              "  <thead>\n",
              "    <tr style=\"text-align: right;\">\n",
              "      <th></th>\n",
              "      <th>Unnamed: 0</th>\n",
              "      <th>TagFile_Path</th>\n",
              "      <th>TagFile</th>\n",
              "      <th>SV_CustomerName</th>\n",
              "      <th>Main keyword</th>\n",
              "      <th>Channel</th>\n",
              "      <th>SubChannel</th>\n",
              "      <th>lfdn</th>\n",
              "      <th>verbatim_id</th>\n",
              "      <th>sentence_id</th>\n",
              "      <th>Text_original</th>\n",
              "      <th>Text</th>\n",
              "      <th>Human_Category</th>\n",
              "      <th>Human_CategoryID</th>\n",
              "      <th>Human_Sentiment</th>\n",
              "      <th>Human_SentimentID</th>\n",
              "      <th>Text_ws_local</th>\n",
              "    </tr>\n",
              "  </thead>\n",
              "  <tbody>\n",
              "    <tr>\n",
              "      <th>0</th>\n",
              "      <td>0</td>\n",
              "      <td>SocialFSI_ZE-KTB-Feb-Apr2022_Sampling2244_2022...</td>\n",
              "      <td>SocialFSI_ZE-KTB-Feb-Apr2022_Sampling1400_2022...</td>\n",
              "      <td>Krungthai_NEXT</td>\n",
              "      <td>mobile banking+กสิกร,mobile banking+ธนาคารกสิก...</td>\n",
              "      <td>SocialMedia</td>\n",
              "      <td>forum</td>\n",
              "      <td>pantip.com_topic_41249919</td>\n",
              "      <td>Q2207_1549</td>\n",
              "      <td>Q2207_1549_1</td>\n",
              "      <td>สอบถามเรื่องการอายัดบัตรเดบิตของกสิกรค่ะ พอดีว...</td>\n",
              "      <td>สอบถามเรื่องการอายัดบัตรเดบิตของกสิกรค่ะ พอดีว...</td>\n",
              "      <td>Product and Service, Usage and Condition</td>\n",
              "      <td>8</td>\n",
              "      <td>neutral</td>\n",
              "      <td>o</td>\n",
              "      <td>สอบถาม|เรื่อง|การ|อายัด|บัตรเดบิต|ของ|kbank|ค่...</td>\n",
              "    </tr>\n",
              "  </tbody>\n",
              "</table>\n",
              "</div>\n",
              "      <button class=\"colab-df-convert\" onclick=\"convertToInteractive('df-cacb975d-8bab-4416-b63d-7f86fd02ec9b')\"\n",
              "              title=\"Convert this dataframe to an interactive table.\"\n",
              "              style=\"display:none;\">\n",
              "        \n",
              "  <svg xmlns=\"http://www.w3.org/2000/svg\" height=\"24px\"viewBox=\"0 0 24 24\"\n",
              "       width=\"24px\">\n",
              "    <path d=\"M0 0h24v24H0V0z\" fill=\"none\"/>\n",
              "    <path d=\"M18.56 5.44l.94 2.06.94-2.06 2.06-.94-2.06-.94-.94-2.06-.94 2.06-2.06.94zm-11 1L8.5 8.5l.94-2.06 2.06-.94-2.06-.94L8.5 2.5l-.94 2.06-2.06.94zm10 10l.94 2.06.94-2.06 2.06-.94-2.06-.94-.94-2.06-.94 2.06-2.06.94z\"/><path d=\"M17.41 7.96l-1.37-1.37c-.4-.4-.92-.59-1.43-.59-.52 0-1.04.2-1.43.59L10.3 9.45l-7.72 7.72c-.78.78-.78 2.05 0 2.83L4 21.41c.39.39.9.59 1.41.59.51 0 1.02-.2 1.41-.59l7.78-7.78 2.81-2.81c.8-.78.8-2.07 0-2.86zM5.41 20L4 18.59l7.72-7.72 1.47 1.35L5.41 20z\"/>\n",
              "  </svg>\n",
              "      </button>\n",
              "      \n",
              "  <style>\n",
              "    .colab-df-container {\n",
              "      display:flex;\n",
              "      flex-wrap:wrap;\n",
              "      gap: 12px;\n",
              "    }\n",
              "\n",
              "    .colab-df-convert {\n",
              "      background-color: #E8F0FE;\n",
              "      border: none;\n",
              "      border-radius: 50%;\n",
              "      cursor: pointer;\n",
              "      display: none;\n",
              "      fill: #1967D2;\n",
              "      height: 32px;\n",
              "      padding: 0 0 0 0;\n",
              "      width: 32px;\n",
              "    }\n",
              "\n",
              "    .colab-df-convert:hover {\n",
              "      background-color: #E2EBFA;\n",
              "      box-shadow: 0px 1px 2px rgba(60, 64, 67, 0.3), 0px 1px 3px 1px rgba(60, 64, 67, 0.15);\n",
              "      fill: #174EA6;\n",
              "    }\n",
              "\n",
              "    [theme=dark] .colab-df-convert {\n",
              "      background-color: #3B4455;\n",
              "      fill: #D2E3FC;\n",
              "    }\n",
              "\n",
              "    [theme=dark] .colab-df-convert:hover {\n",
              "      background-color: #434B5C;\n",
              "      box-shadow: 0px 1px 3px 1px rgba(0, 0, 0, 0.15);\n",
              "      filter: drop-shadow(0px 1px 2px rgba(0, 0, 0, 0.3));\n",
              "      fill: #FFFFFF;\n",
              "    }\n",
              "  </style>\n",
              "\n",
              "      <script>\n",
              "        const buttonEl =\n",
              "          document.querySelector('#df-cacb975d-8bab-4416-b63d-7f86fd02ec9b button.colab-df-convert');\n",
              "        buttonEl.style.display =\n",
              "          google.colab.kernel.accessAllowed ? 'block' : 'none';\n",
              "\n",
              "        async function convertToInteractive(key) {\n",
              "          const element = document.querySelector('#df-cacb975d-8bab-4416-b63d-7f86fd02ec9b');\n",
              "          const dataTable =\n",
              "            await google.colab.kernel.invokeFunction('convertToInteractive',\n",
              "                                                     [key], {});\n",
              "          if (!dataTable) return;\n",
              "\n",
              "          const docLinkHtml = 'Like what you see? Visit the ' +\n",
              "            '<a target=\"_blank\" href=https://colab.research.google.com/notebooks/data_table.ipynb>data table notebook</a>'\n",
              "            + ' to learn more about interactive tables.';\n",
              "          element.innerHTML = '';\n",
              "          dataTable['output_type'] = 'display_data';\n",
              "          await google.colab.output.renderOutput(dataTable, element);\n",
              "          const docLink = document.createElement('div');\n",
              "          docLink.innerHTML = docLinkHtml;\n",
              "          element.appendChild(docLink);\n",
              "        }\n",
              "      </script>\n",
              "    </div>\n",
              "  </div>\n",
              "  "
            ]
          },
          "metadata": {},
          "execution_count": 42
        }
      ]
    },
    {
      "cell_type": "code",
      "source": [
        "test.head(1)"
      ],
      "metadata": {
        "colab": {
          "base_uri": "https://localhost:8080/",
          "height": 318
        },
        "id": "d_-K5eWF3INq",
        "outputId": "2ef5c54d-9ef1-460d-c29e-7b7acfc0be19"
      },
      "execution_count": 43,
      "outputs": [
        {
          "output_type": "execute_result",
          "data": {
            "text/plain": [
              "   Unnamed: 0                                       TagFile_Path  \\\n",
              "0           0  SocialFSI_v4_0_mutiple_train_sampling8203_2021...   \n",
              "\n",
              "                                             TagFile SV_CustomerName  \\\n",
              "0  SocialFSI_SV-FSI-20201101-29-20201201-25_Sampl...             NaN   \n",
              "\n",
              "  Main keyword      Channel SubChannel                      lfdn  \\\n",
              "0          NaN  SocialMedia     Pantip  5fdb2543b08b582c303ceba3   \n",
              "\n",
              "    verbatim_id     sentence_id  \\\n",
              "0  Q202106_4598  Q202106_4598_1   \n",
              "\n",
              "                                       Text_original  \\\n",
              "0  ในอนาคตธนาคารเกียรตินาคินภัทรจะมีบัตรเครดิตไหม...   \n",
              "\n",
              "                                                Text  \\\n",
              "0  ในอนาคตธนาคารเกียรตินาคินภัทรจะมีบัตรเครดิตไหม...   \n",
              "\n",
              "                 Human_Category  Human_CategoryID Human_Sentiment  \\\n",
              "0  Product and Service, Variety                10         neutral   \n",
              "\n",
              "  Human_SentimentID                                      Text_ws_local  \n",
              "0                 o  ในอนาคต|ธนาคาร|kk|ภัทร|จะ|มี|บัตรเครดิต|ไหม|คร...  "
            ],
            "text/html": [
              "\n",
              "  <div id=\"df-e7226bee-1f74-49de-9789-5b949cdf4772\">\n",
              "    <div class=\"colab-df-container\">\n",
              "      <div>\n",
              "<style scoped>\n",
              "    .dataframe tbody tr th:only-of-type {\n",
              "        vertical-align: middle;\n",
              "    }\n",
              "\n",
              "    .dataframe tbody tr th {\n",
              "        vertical-align: top;\n",
              "    }\n",
              "\n",
              "    .dataframe thead th {\n",
              "        text-align: right;\n",
              "    }\n",
              "</style>\n",
              "<table border=\"1\" class=\"dataframe\">\n",
              "  <thead>\n",
              "    <tr style=\"text-align: right;\">\n",
              "      <th></th>\n",
              "      <th>Unnamed: 0</th>\n",
              "      <th>TagFile_Path</th>\n",
              "      <th>TagFile</th>\n",
              "      <th>SV_CustomerName</th>\n",
              "      <th>Main keyword</th>\n",
              "      <th>Channel</th>\n",
              "      <th>SubChannel</th>\n",
              "      <th>lfdn</th>\n",
              "      <th>verbatim_id</th>\n",
              "      <th>sentence_id</th>\n",
              "      <th>Text_original</th>\n",
              "      <th>Text</th>\n",
              "      <th>Human_Category</th>\n",
              "      <th>Human_CategoryID</th>\n",
              "      <th>Human_Sentiment</th>\n",
              "      <th>Human_SentimentID</th>\n",
              "      <th>Text_ws_local</th>\n",
              "    </tr>\n",
              "  </thead>\n",
              "  <tbody>\n",
              "    <tr>\n",
              "      <th>0</th>\n",
              "      <td>0</td>\n",
              "      <td>SocialFSI_v4_0_mutiple_train_sampling8203_2021...</td>\n",
              "      <td>SocialFSI_SV-FSI-20201101-29-20201201-25_Sampl...</td>\n",
              "      <td>NaN</td>\n",
              "      <td>NaN</td>\n",
              "      <td>SocialMedia</td>\n",
              "      <td>Pantip</td>\n",
              "      <td>5fdb2543b08b582c303ceba3</td>\n",
              "      <td>Q202106_4598</td>\n",
              "      <td>Q202106_4598_1</td>\n",
              "      <td>ในอนาคตธนาคารเกียรตินาคินภัทรจะมีบัตรเครดิตไหม...</td>\n",
              "      <td>ในอนาคตธนาคารเกียรตินาคินภัทรจะมีบัตรเครดิตไหม...</td>\n",
              "      <td>Product and Service, Variety</td>\n",
              "      <td>10</td>\n",
              "      <td>neutral</td>\n",
              "      <td>o</td>\n",
              "      <td>ในอนาคต|ธนาคาร|kk|ภัทร|จะ|มี|บัตรเครดิต|ไหม|คร...</td>\n",
              "    </tr>\n",
              "  </tbody>\n",
              "</table>\n",
              "</div>\n",
              "      <button class=\"colab-df-convert\" onclick=\"convertToInteractive('df-e7226bee-1f74-49de-9789-5b949cdf4772')\"\n",
              "              title=\"Convert this dataframe to an interactive table.\"\n",
              "              style=\"display:none;\">\n",
              "        \n",
              "  <svg xmlns=\"http://www.w3.org/2000/svg\" height=\"24px\"viewBox=\"0 0 24 24\"\n",
              "       width=\"24px\">\n",
              "    <path d=\"M0 0h24v24H0V0z\" fill=\"none\"/>\n",
              "    <path d=\"M18.56 5.44l.94 2.06.94-2.06 2.06-.94-2.06-.94-.94-2.06-.94 2.06-2.06.94zm-11 1L8.5 8.5l.94-2.06 2.06-.94-2.06-.94L8.5 2.5l-.94 2.06-2.06.94zm10 10l.94 2.06.94-2.06 2.06-.94-2.06-.94-.94-2.06-.94 2.06-2.06.94z\"/><path d=\"M17.41 7.96l-1.37-1.37c-.4-.4-.92-.59-1.43-.59-.52 0-1.04.2-1.43.59L10.3 9.45l-7.72 7.72c-.78.78-.78 2.05 0 2.83L4 21.41c.39.39.9.59 1.41.59.51 0 1.02-.2 1.41-.59l7.78-7.78 2.81-2.81c.8-.78.8-2.07 0-2.86zM5.41 20L4 18.59l7.72-7.72 1.47 1.35L5.41 20z\"/>\n",
              "  </svg>\n",
              "      </button>\n",
              "      \n",
              "  <style>\n",
              "    .colab-df-container {\n",
              "      display:flex;\n",
              "      flex-wrap:wrap;\n",
              "      gap: 12px;\n",
              "    }\n",
              "\n",
              "    .colab-df-convert {\n",
              "      background-color: #E8F0FE;\n",
              "      border: none;\n",
              "      border-radius: 50%;\n",
              "      cursor: pointer;\n",
              "      display: none;\n",
              "      fill: #1967D2;\n",
              "      height: 32px;\n",
              "      padding: 0 0 0 0;\n",
              "      width: 32px;\n",
              "    }\n",
              "\n",
              "    .colab-df-convert:hover {\n",
              "      background-color: #E2EBFA;\n",
              "      box-shadow: 0px 1px 2px rgba(60, 64, 67, 0.3), 0px 1px 3px 1px rgba(60, 64, 67, 0.15);\n",
              "      fill: #174EA6;\n",
              "    }\n",
              "\n",
              "    [theme=dark] .colab-df-convert {\n",
              "      background-color: #3B4455;\n",
              "      fill: #D2E3FC;\n",
              "    }\n",
              "\n",
              "    [theme=dark] .colab-df-convert:hover {\n",
              "      background-color: #434B5C;\n",
              "      box-shadow: 0px 1px 3px 1px rgba(0, 0, 0, 0.15);\n",
              "      filter: drop-shadow(0px 1px 2px rgba(0, 0, 0, 0.3));\n",
              "      fill: #FFFFFF;\n",
              "    }\n",
              "  </style>\n",
              "\n",
              "      <script>\n",
              "        const buttonEl =\n",
              "          document.querySelector('#df-e7226bee-1f74-49de-9789-5b949cdf4772 button.colab-df-convert');\n",
              "        buttonEl.style.display =\n",
              "          google.colab.kernel.accessAllowed ? 'block' : 'none';\n",
              "\n",
              "        async function convertToInteractive(key) {\n",
              "          const element = document.querySelector('#df-e7226bee-1f74-49de-9789-5b949cdf4772');\n",
              "          const dataTable =\n",
              "            await google.colab.kernel.invokeFunction('convertToInteractive',\n",
              "                                                     [key], {});\n",
              "          if (!dataTable) return;\n",
              "\n",
              "          const docLinkHtml = 'Like what you see? Visit the ' +\n",
              "            '<a target=\"_blank\" href=https://colab.research.google.com/notebooks/data_table.ipynb>data table notebook</a>'\n",
              "            + ' to learn more about interactive tables.';\n",
              "          element.innerHTML = '';\n",
              "          dataTable['output_type'] = 'display_data';\n",
              "          await google.colab.output.renderOutput(dataTable, element);\n",
              "          const docLink = document.createElement('div');\n",
              "          docLink.innerHTML = docLinkHtml;\n",
              "          element.appendChild(docLink);\n",
              "        }\n",
              "      </script>\n",
              "    </div>\n",
              "  </div>\n",
              "  "
            ]
          },
          "metadata": {},
          "execution_count": 43
        }
      ]
    },
    {
      "cell_type": "markdown",
      "source": [
        "#preprocess"
      ],
      "metadata": {
        "id": "R08U56SE-Qui"
      }
    },
    {
      "cell_type": "code",
      "source": [
        "df = pd.concat([train, test])"
      ],
      "metadata": {
        "id": "N2TWO3kr3Ixm"
      },
      "execution_count": 75,
      "outputs": []
    },
    {
      "cell_type": "code",
      "source": [
        "from sklearn.model_selection import train_test_split\n",
        "\n",
        "x_train, x_test, y_train, y_test = train_test_split(df['Text_ws_local'], df['Human_CategoryID'], stratify=df['Human_CategoryID'])"
      ],
      "metadata": {
        "id": "9e8PvTkS5HRa"
      },
      "execution_count": 76,
      "outputs": []
    },
    {
      "cell_type": "code",
      "source": [
        "def text_tokenizer(text):\n",
        "  from pythainlp.tokenize import word_tokenize\n",
        "  return word_tokenize(text, engine=\"newmm\", keep_whitespace=False)"
      ],
      "metadata": {
        "id": "nxO-S2DE8_UJ"
      },
      "execution_count": 77,
      "outputs": []
    },
    {
      "cell_type": "code",
      "source": [
        "tfidf = TfidfVectorizer(tokenizer=text_tokenizer, ngram_range=(3,4), sublinear_tf=True)\n",
        "x_train = tfidf.fit_transform(x_train)\n",
        "x_test = tfidf.transform(x_test)"
      ],
      "metadata": {
        "id": "CQJIVLAM3VCe"
      },
      "execution_count": 78,
      "outputs": []
    },
    {
      "cell_type": "markdown",
      "source": [
        "#model"
      ],
      "metadata": {
        "id": "yzRYfQbC-L_M"
      }
    },
    {
      "cell_type": "code",
      "source": [
        "from sklearn.svm import SVC, LinearSVC\n",
        "from sklearn.pipeline import make_pipeline\n",
        "from sklearn.preprocessing import StandardScaler"
      ],
      "metadata": {
        "id": "TLTYuT-D3eGA"
      },
      "execution_count": 79,
      "outputs": []
    },
    {
      "cell_type": "code",
      "source": [
        "clf = make_pipeline(StandardScaler(with_mean=False),  LinearSVC(tol=1e-5))\n",
        "\n",
        "##plain word_tokenize, , tol=1e-5\n",
        "#svc = 0.49, ngram(1,2)\n",
        "\n",
        "#lsvc = 0.52, ngram(1,2)\n",
        "#lsvc = 0.57, ngram(3,4)\n",
        "#lsvc = 0.47, ngram(3,10)\n",
        "\n",
        "##word_tokenize = word_tokenize(text, engine=\"newmm\", keep_whitespace=False), , tol=1e-5\n",
        "#lsvc = 0.52, ngram(1,2)\n",
        "\n",
        "#lsvc = 0.59, ngram(3,4)\n",
        "\n",
        "#lsvc = 0.48, ngram(5,6)\n",
        "#lsvc = 0.49, ngram(3,10)"
      ],
      "metadata": {
        "id": "Mf--oqCa3lAW"
      },
      "execution_count": 80,
      "outputs": []
    },
    {
      "cell_type": "code",
      "source": [
        "clf.fit(x_train, y_train)"
      ],
      "metadata": {
        "colab": {
          "base_uri": "https://localhost:8080/"
        },
        "id": "1HLGgZZ23x9O",
        "outputId": "76caf162-f13f-4964-da60-537a531e7527"
      },
      "execution_count": 81,
      "outputs": [
        {
          "output_type": "stream",
          "name": "stderr",
          "text": [
            "/usr/local/lib/python3.7/dist-packages/sklearn/svm/_base.py:1208: ConvergenceWarning: Liblinear failed to converge, increase the number of iterations.\n",
            "  ConvergenceWarning,\n"
          ]
        },
        {
          "output_type": "execute_result",
          "data": {
            "text/plain": [
              "Pipeline(steps=[('standardscaler', StandardScaler(with_mean=False)),\n",
              "                ('linearsvc', LinearSVC(tol=1e-05))])"
            ]
          },
          "metadata": {},
          "execution_count": 81
        }
      ]
    },
    {
      "cell_type": "markdown",
      "source": [
        "#predict and analysis"
      ],
      "metadata": {
        "id": "9pu-R_FK-NM6"
      }
    },
    {
      "cell_type": "code",
      "source": [
        "preds = clf.predict(x_test)"
      ],
      "metadata": {
        "id": "LwcgsKKA30z5"
      },
      "execution_count": 82,
      "outputs": []
    },
    {
      "cell_type": "code",
      "source": [
        "from sklearn.metrics import classification_report\n",
        "\n",
        "print(classification_report(y_test, preds, zero_division=0))"
      ],
      "metadata": {
        "colab": {
          "base_uri": "https://localhost:8080/"
        },
        "id": "VuO5O80R57Hn",
        "outputId": "be8a9b77-f7eb-4f42-90fa-6b5b76eacc30"
      },
      "execution_count": 83,
      "outputs": [
        {
          "output_type": "stream",
          "name": "stdout",
          "text": [
            "              precision    recall  f1-score   support\n",
            "\n",
            "           1       0.86      0.25      0.39        48\n",
            "           2       0.00      0.00      0.00         4\n",
            "           3       0.50      0.06      0.11        97\n",
            "           4       0.72      0.13      0.23       135\n",
            "           5       0.71      0.58      0.64       298\n",
            "           6       0.75      0.55      0.63       285\n",
            "           7       0.67      0.85      0.75       840\n",
            "           8       0.56      0.65      0.60       637\n",
            "           9       0.67      0.10      0.17        41\n",
            "          10       0.40      0.08      0.14        98\n",
            "          11       0.19      0.07      0.10        60\n",
            "          12       0.43      0.08      0.13        39\n",
            "          13       0.38      0.53      0.44       553\n",
            "\n",
            "    accuracy                           0.58      3135\n",
            "   macro avg       0.53      0.30      0.33      3135\n",
            "weighted avg       0.59      0.58      0.55      3135\n",
            "\n"
          ]
        }
      ]
    },
    {
      "cell_type": "code",
      "source": [
        "import seaborn as sns\n",
        "from sklearn.metrics import confusion_matrix\n",
        "import matplotlib.pyplot as plt\n",
        "\n",
        "cf_matrix = confusion_matrix(y_test, preds)\n",
        "\n",
        "fig, ax = plt.subplots(figsize=(10,10))    \n",
        "ax = sns.heatmap(cf_matrix, annot=True, cmap='Blues', ax=ax, fmt=\".1f\")\n",
        "\n",
        "ax.set_title('Seaborn Confusion Matrix with labels\\n\\n');\n",
        "ax.set_xlabel('\\nPredicted Category')\n",
        "ax.set_ylabel('Actual Category ');\n",
        "\n",
        "# ## Ticket labels - List must be in alphabetical order\n",
        "# ax.xaxis.set_ticklabels(classes_array, rotation=90)\n",
        "# ax.yaxis.set_ticklabels(classes_array, rotation=0)\n",
        "\n",
        "## Display the visualization of the Confusion Matrix.\n",
        "plt.show()\n",
        "\n",
        "figure = ax.get_figure()    \n",
        "figure.savefig(\"cf_matrix.png\", pad_inches= 12, dpi=400)"
      ],
      "metadata": {
        "colab": {
          "base_uri": "https://localhost:8080/",
          "height": 663
        },
        "id": "ySlqXEXN6H0G",
        "outputId": "86f53124-49f3-4260-bacb-0d28f3d6596d"
      },
      "execution_count": 84,
      "outputs": [
        {
          "output_type": "display_data",
          "data": {
            "text/plain": [
              "<Figure size 720x720 with 2 Axes>"
            ],
            "image/png": "[encoded data removed]"
          },
          "metadata": {
            "needs_background": "light"
          }
        }
      ]
    },
    {
      "cell_type": "code",
      "source": [
        ""
      ],
      "metadata": {
        "id": "bdi_qTdd7UbQ"
      },
      "execution_count": 84,
      "outputs": []
    }
  ]
}