{
  "cells": [
    {
      "cell_type": "markdown",
      "metadata": {
        "id": "view-in-github",
        "colab_type": "text"
      },
      "source": [
        "<a href=\"https://colab.research.google.com/github/setthawut8/ai/blob/main/nlp/%5Bclassify%5D_TH_EBL_CNN_or_LSTM.ipynb\" target=\"_parent\"><img src=\"https://colab.research.google.com/assets/colab-badge.svg\" alt=\"Open In Colab\"/></a>"
      ]
    },
    {
      "cell_type": "markdown",
      "metadata": {
        "id": "yfHmeUscYyxq"
      },
      "source": [
        "#Best Result: \n",
        "1) 4CNN2 MP2D F DO0.5 D13: 68\n",
        "\n",
        "2) 4CNN1,(128,256,512,1024),(5) 3DO0.5 3GMP1D CONCAT D13 CW P2: 65\n",
        "\n",
        "3) CNN1,(128,5) GMP1D D13: 64\n",
        "\n",
        "=================================================================\n",
        "\n",
        "can copy the name before: and find the model\n",
        "\n",
        "like CNN1,(512,5) GMP1D D13: 64. \n",
        "copy CNN1,(512,5) GMP1D D13 and find below"
      ]
    },
    {
      "cell_type": "markdown",
      "metadata": {
        "id": "KW9pYkzzsA9L"
      },
      "source": [
        "#inspration and core concepts\n",
        "https://medium.com/analytics-vidhya/multiclass-text-classification-using-deep-learning-f25b4b1010e5"
      ]
    },
    {
      "cell_type": "markdown",
      "metadata": {
        "id": "DKZejA_uh9kv"
      },
      "source": [
        "#Download Data and Library Installation"
      ]
    },
    {
      "cell_type": "code",
      "execution_count": 1,
      "metadata": {
        "colab": {
          "base_uri": "https://localhost:8080/"
        },
        "id": "rY0gVkg8ahbS",
        "outputId": "35498dfd-9483-4d02-9542-079eb55c9716"
      },
      "outputs": [
        {
          "output_type": "stream",
          "name": "stdout",
          "text": [
            "/usr/local/lib/python3.7/dist-packages/gdown/cli.py:131: FutureWarning: Option `--id` was deprecated in version 4.3.1 and will be removed in 5.0. You don't need to pass it anymore to use a file ID.\n",
            "  category=FutureWarning,\n",
            "Downloading...\n",
            "From: https://drive.google.com/uc?id=1-avUDygRCGvAiPplmc6MundS_PpnohRv\n",
            "To: /content/preprocessed_v1_socialfsi_single_train_sampling12150_20220701.xlsx\n",
            "100% 3.87M/3.87M [00:00<00:00, 231MB/s]\n",
            "/usr/local/lib/python3.7/dist-packages/gdown/cli.py:131: FutureWarning: Option `--id` was deprecated in version 4.3.1 and will be removed in 5.0. You don't need to pass it anymore to use a file ID.\n",
            "  category=FutureWarning,\n",
            "Downloading...\n",
            "From: https://drive.google.com/uc?id=106OVRPIQQBppganRnCZigxQh6-Zyvqit\n",
            "To: /content/preprocessed_v1_socialfsi_single_test_sampling389_20220701.xlsx\n",
            "100% 141k/141k [00:00<00:00, 80.9MB/s]\n"
          ]
        }
      ],
      "source": [
        "#download data\n",
        "!gdown --id 1-avUDygRCGvAiPplmc6MundS_PpnohRv\n",
        "!gdown --id 106OVRPIQQBppganRnCZigxQh6-Zyvqit"
      ]
    },
    {
      "cell_type": "code",
      "execution_count": 2,
      "metadata": {
        "id": "cgMb7j8pbNQj"
      },
      "outputs": [],
      "source": [
        "#libraby \n",
        "import numpy as np\n",
        "import pandas as pd\n",
        "import seaborn as sns\n",
        "import matplotlib.pyplot as plt\n",
        "\n",
        "from sklearn.utils.class_weight import compute_class_weight\n",
        "from tensorflow.keras.utils import plot_model"
      ]
    },
    {
      "cell_type": "code",
      "execution_count": 3,
      "metadata": {
        "id": "ITJldeRSbbc6"
      },
      "outputs": [],
      "source": [
        "train = pd.read_excel('/content/preprocessed_v1_socialfsi_single_train_sampling12150_20220701.xlsx')\n",
        "test = pd.read_excel('/content/preprocessed_v1_socialfsi_single_test_sampling389_20220701.xlsx')"
      ]
    },
    {
      "cell_type": "code",
      "execution_count": 4,
      "metadata": {
        "colab": {
          "base_uri": "https://localhost:8080/",
          "height": 565
        },
        "id": "sMuRAAX0b2mv",
        "outputId": "b2f5afd7-3ad4-4ae7-acf1-30e0358e61a6"
      },
      "outputs": [
        {
          "output_type": "execute_result",
          "data": {
            "text/plain": [
              "   Unnamed: 0                                       TagFile_Path  \\\n",
              "0           0  SocialFSI_ZE-KTB-Feb-Apr2022_Sampling2244_2022...   \n",
              "1           1  SocialFSI_v4_0_mutiple_train_sampling8203_2021...   \n",
              "2           2  SocialFSI_ZE-KTB-Feb-Apr2022_Sampling2244_2022...   \n",
              "3           3  SocialFSI_v4_0_mutiple_train_sampling8203_2021...   \n",
              "4           4  SocialFSI_v4_0_mutiple_train_sampling8203_2021...   \n",
              "\n",
              "                                             TagFile SV_CustomerName  \\\n",
              "0  SocialFSI_ZE-KTB-Feb-Apr2022_Sampling1400_2022...  Krungthai_NEXT   \n",
              "1  SocialFSI_TrainDataV4_RetagCLS-12_Sampling53_P...             NaN   \n",
              "2  SocialFSI_ZE-KTB-Feb-Apr2022_Sampling1200_2022...  Krungthai_NEXT   \n",
              "3  SocialFSI_TrainSCB-SocialFilterV2_Sampling2750...             NaN   \n",
              "4  SocialFSI_TrainSCB-SocialFilterV2_Sampling2750...             NaN   \n",
              "\n",
              "                                        Main keyword      Channel SubChannel  \\\n",
              "0  mobile banking+กสิกร,mobile banking+ธนาคารกสิก...  SocialMedia      forum   \n",
              "1                                                NaN  SocialMedia    Twitter   \n",
              "2                                          krungthai  SocialMedia   facebook   \n",
              "3                                                NaN  SocialMedia    Twitter   \n",
              "4                                                NaN  SocialMedia    Twitter   \n",
              "\n",
              "                                 lfdn   verbatim_id     sentence_id  \\\n",
              "0           pantip.com_topic_41249919    Q2207_1549    Q2207_1549_1   \n",
              "1            5fffc6bcb08b583a24679d59  Q202106_5805  Q202106_5805_1   \n",
              "2  10161808181448916_1330115550790924     Q2207_636     Q2207_636_1   \n",
              "3                            27634345   Q202106_961   Q202106_961_1   \n",
              "4                            28297653  Q202106_2021  Q202106_2021_1   \n",
              "\n",
              "                                       Text_original  \\\n",
              "0  สอบถามเรื่องการอายัดบัตรเดบิตของกสิกรค่ะ พอดีว...   \n",
              "1  ปกติจะไม่ชอบlog in ใดๆในคอมคนอื่นหรือสำนักงานใ...   \n",
              "2  Krungthai Care ณ. ตอนนี้ยอดก็ยังไม่เข้าค่ะ ถ้า...   \n",
              "3  @scb_thailand เรียน scb ขอเบอร?ตืดต่อเพราะคุย ...   \n",
              "4  ไอเลิ้บ TMB All Free มาก แต่ช่วยพัฒนาแอพให้สเถ...   \n",
              "\n",
              "                                                Text  \\\n",
              "0  สอบถามเรื่องการอายัดบัตรเดบิตของกสิกรค่ะ พอดีว...   \n",
              "1  ปกติจะไม่ชอบlog in ใดๆในคอมคนอื่นหรือสำนักงานใ...   \n",
              "2  Krungthai Care ณ. ตอนนี้ยอดก็ยังไม่เข้าค่ะ ถ้า...   \n",
              "3  @scb_thailand เรียน scb ขอเบอร?ตืดต่อเพราะคุย ...   \n",
              "4                          ไอเลิ้บ TMB All Free มาก    \n",
              "\n",
              "                             Human_Category  Human_CategoryID Human_Sentiment  \\\n",
              "0  Product and Service, Usage and Condition                 8         neutral   \n",
              "1                                  Security                12         neutral   \n",
              "2               Product and Service, System                 7        negative   \n",
              "3                             Staff Quality                 4        negative   \n",
              "4  Product and Service, Usage and Condition                 8        positive   \n",
              "\n",
              "  Human_SentimentID                                      Text_ws_local  \n",
              "0                 o  สอบถาม|เรื่อง|การ|อายัด|บัตรเดบิต|ของ|kbank|ค่...  \n",
              "1                 o  ปกติ|จะ|ไม่ชอบ| |log| |in| |ใดๆ| |ใน|ค|อม|คนอื...  \n",
              "2                 n  ktb| |care| |ณ|.| |ตอนนี้|ยอด|ก็|ยัง|ไม่|เข้า|...  \n",
              "3                 n  scb_thailand| |เรียน| |scb| |ขอ|เบอร| |ตืด|ต่อ...  \n",
              "4                 p                    ไอ|เลิ้บ| |tmb_all_free| |มาก|   "
            ],
            "text/html": [
              "\n",
              "  <div id=\"df-5b10c0bc-85c6-4625-a13f-57966496d8e1\">\n",
              "    <div class=\"colab-df-container\">\n",
              "      <div>\n",
              "<style scoped>\n",
              "    .dataframe tbody tr th:only-of-type {\n",
              "        vertical-align: middle;\n",
              "    }\n",
              "\n",
              "    .dataframe tbody tr th {\n",
              "        vertical-align: top;\n",
              "    }\n",
              "\n",
              "    .dataframe thead th {\n",
              "        text-align: right;\n",
              "    }\n",
              "</style>\n",
              "<table border=\"1\" class=\"dataframe\">\n",
              "  <thead>\n",
              "    <tr style=\"text-align: right;\">\n",
              "      <th></th>\n",
              "      <th>Unnamed: 0</th>\n",
              "      <th>TagFile_Path</th>\n",
              "      <th>TagFile</th>\n",
              "      <th>SV_CustomerName</th>\n",
              "      <th>Main keyword</th>\n",
              "      <th>Channel</th>\n",
              "      <th>SubChannel</th>\n",
              "      <th>lfdn</th>\n",
              "      <th>verbatim_id</th>\n",
              "      <th>sentence_id</th>\n",
              "      <th>Text_original</th>\n",
              "      <th>Text</th>\n",
              "      <th>Human_Category</th>\n",
              "      <th>Human_CategoryID</th>\n",
              "      <th>Human_Sentiment</th>\n",
              "      <th>Human_SentimentID</th>\n",
              "      <th>Text_ws_local</th>\n",
              "    </tr>\n",
              "  </thead>\n",
              "  <tbody>\n",
              "    <tr>\n",
              "      <th>0</th>\n",
              "      <td>0</td>\n",
              "      <td>SocialFSI_ZE-KTB-Feb-Apr2022_Sampling2244_2022...</td>\n",
              "      <td>SocialFSI_ZE-KTB-Feb-Apr2022_Sampling1400_2022...</td>\n",
              "      <td>Krungthai_NEXT</td>\n",
              "      <td>mobile banking+กสิกร,mobile banking+ธนาคารกสิก...</td>\n",
              "      <td>SocialMedia</td>\n",
              "      <td>forum</td>\n",
              "      <td>pantip.com_topic_41249919</td>\n",
              "      <td>Q2207_1549</td>\n",
              "      <td>Q2207_1549_1</td>\n",
              "      <td>สอบถามเรื่องการอายัดบัตรเดบิตของกสิกรค่ะ พอดีว...</td>\n",
              "      <td>สอบถามเรื่องการอายัดบัตรเดบิตของกสิกรค่ะ พอดีว...</td>\n",
              "      <td>Product and Service, Usage and Condition</td>\n",
              "      <td>8</td>\n",
              "      <td>neutral</td>\n",
              "      <td>o</td>\n",
              "      <td>สอบถาม|เรื่อง|การ|อายัด|บัตรเดบิต|ของ|kbank|ค่...</td>\n",
              "    </tr>\n",
              "    <tr>\n",
              "      <th>1</th>\n",
              "      <td>1</td>\n",
              "      <td>SocialFSI_v4_0_mutiple_train_sampling8203_2021...</td>\n",
              "      <td>SocialFSI_TrainDataV4_RetagCLS-12_Sampling53_P...</td>\n",
              "      <td>NaN</td>\n",
              "      <td>NaN</td>\n",
              "      <td>SocialMedia</td>\n",
              "      <td>Twitter</td>\n",
              "      <td>5fffc6bcb08b583a24679d59</td>\n",
              "      <td>Q202106_5805</td>\n",
              "      <td>Q202106_5805_1</td>\n",
              "      <td>ปกติจะไม่ชอบlog in ใดๆในคอมคนอื่นหรือสำนักงานใ...</td>\n",
              "      <td>ปกติจะไม่ชอบlog in ใดๆในคอมคนอื่นหรือสำนักงานใ...</td>\n",
              "      <td>Security</td>\n",
              "      <td>12</td>\n",
              "      <td>neutral</td>\n",
              "      <td>o</td>\n",
              "      <td>ปกติ|จะ|ไม่ชอบ| |log| |in| |ใดๆ| |ใน|ค|อม|คนอื...</td>\n",
              "    </tr>\n",
              "    <tr>\n",
              "      <th>2</th>\n",
              "      <td>2</td>\n",
              "      <td>SocialFSI_ZE-KTB-Feb-Apr2022_Sampling2244_2022...</td>\n",
              "      <td>SocialFSI_ZE-KTB-Feb-Apr2022_Sampling1200_2022...</td>\n",
              "      <td>Krungthai_NEXT</td>\n",
              "      <td>krungthai</td>\n",
              "      <td>SocialMedia</td>\n",
              "      <td>facebook</td>\n",
              "      <td>10161808181448916_1330115550790924</td>\n",
              "      <td>Q2207_636</td>\n",
              "      <td>Q2207_636_1</td>\n",
              "      <td>Krungthai Care ณ. ตอนนี้ยอดก็ยังไม่เข้าค่ะ ถ้า...</td>\n",
              "      <td>Krungthai Care ณ. ตอนนี้ยอดก็ยังไม่เข้าค่ะ ถ้า...</td>\n",
              "      <td>Product and Service, System</td>\n",
              "      <td>7</td>\n",
              "      <td>negative</td>\n",
              "      <td>n</td>\n",
              "      <td>ktb| |care| |ณ|.| |ตอนนี้|ยอด|ก็|ยัง|ไม่|เข้า|...</td>\n",
              "    </tr>\n",
              "    <tr>\n",
              "      <th>3</th>\n",
              "      <td>3</td>\n",
              "      <td>SocialFSI_v4_0_mutiple_train_sampling8203_2021...</td>\n",
              "      <td>SocialFSI_TrainSCB-SocialFilterV2_Sampling2750...</td>\n",
              "      <td>NaN</td>\n",
              "      <td>NaN</td>\n",
              "      <td>SocialMedia</td>\n",
              "      <td>Twitter</td>\n",
              "      <td>27634345</td>\n",
              "      <td>Q202106_961</td>\n",
              "      <td>Q202106_961_1</td>\n",
              "      <td>@scb_thailand เรียน scb ขอเบอร?ตืดต่อเพราะคุย ...</td>\n",
              "      <td>@scb_thailand เรียน scb ขอเบอร?ตืดต่อเพราะคุย ...</td>\n",
              "      <td>Staff Quality</td>\n",
              "      <td>4</td>\n",
              "      <td>negative</td>\n",
              "      <td>n</td>\n",
              "      <td>scb_thailand| |เรียน| |scb| |ขอ|เบอร| |ตืด|ต่อ...</td>\n",
              "    </tr>\n",
              "    <tr>\n",
              "      <th>4</th>\n",
              "      <td>4</td>\n",
              "      <td>SocialFSI_v4_0_mutiple_train_sampling8203_2021...</td>\n",
              "      <td>SocialFSI_TrainSCB-SocialFilterV2_Sampling2750...</td>\n",
              "      <td>NaN</td>\n",
              "      <td>NaN</td>\n",
              "      <td>SocialMedia</td>\n",
              "      <td>Twitter</td>\n",
              "      <td>28297653</td>\n",
              "      <td>Q202106_2021</td>\n",
              "      <td>Q202106_2021_1</td>\n",
              "      <td>ไอเลิ้บ TMB All Free มาก แต่ช่วยพัฒนาแอพให้สเถ...</td>\n",
              "      <td>ไอเลิ้บ TMB All Free มาก</td>\n",
              "      <td>Product and Service, Usage and Condition</td>\n",
              "      <td>8</td>\n",
              "      <td>positive</td>\n",
              "      <td>p</td>\n",
              "      <td>ไอ|เลิ้บ| |tmb_all_free| |มาก|</td>\n",
              "    </tr>\n",
              "  </tbody>\n",
              "</table>\n",
              "</div>\n",
              "      <button class=\"colab-df-convert\" onclick=\"convertToInteractive('df-5b10c0bc-85c6-4625-a13f-57966496d8e1')\"\n",
              "              title=\"Convert this dataframe to an interactive table.\"\n",
              "              style=\"display:none;\">\n",
              "        \n",
              "  <svg xmlns=\"http://www.w3.org/2000/svg\" height=\"24px\"viewBox=\"0 0 24 24\"\n",
              "       width=\"24px\">\n",
              "    <path d=\"M0 0h24v24H0V0z\" fill=\"none\"/>\n",
              "    <path d=\"M18.56 5.44l.94 2.06.94-2.06 2.06-.94-2.06-.94-.94-2.06-.94 2.06-2.06.94zm-11 1L8.5 8.5l.94-2.06 2.06-.94-2.06-.94L8.5 2.5l-.94 2.06-2.06.94zm10 10l.94 2.06.94-2.06 2.06-.94-2.06-.94-.94-2.06-.94 2.06-2.06.94z\"/><path d=\"M17.41 7.96l-1.37-1.37c-.4-.4-.92-.59-1.43-.59-.52 0-1.04.2-1.43.59L10.3 9.45l-7.72 7.72c-.78.78-.78 2.05 0 2.83L4 21.41c.39.39.9.59 1.41.59.51 0 1.02-.2 1.41-.59l7.78-7.78 2.81-2.81c.8-.78.8-2.07 0-2.86zM5.41 20L4 18.59l7.72-7.72 1.47 1.35L5.41 20z\"/>\n",
              "  </svg>\n",
              "      </button>\n",
              "      \n",
              "  <style>\n",
              "    .colab-df-container {\n",
              "      display:flex;\n",
              "      flex-wrap:wrap;\n",
              "      gap: 12px;\n",
              "    }\n",
              "\n",
              "    .colab-df-convert {\n",
              "      background-color: #E8F0FE;\n",
              "      border: none;\n",
              "      border-radius: 50%;\n",
              "      cursor: pointer;\n",
              "      display: none;\n",
              "      fill: #1967D2;\n",
              "      height: 32px;\n",
              "      padding: 0 0 0 0;\n",
              "      width: 32px;\n",
              "    }\n",
              "\n",
              "    .colab-df-convert:hover {\n",
              "      background-color: #E2EBFA;\n",
              "      box-shadow: 0px 1px 2px rgba(60, 64, 67, 0.3), 0px 1px 3px 1px rgba(60, 64, 67, 0.15);\n",
              "      fill: #174EA6;\n",
              "    }\n",
              "\n",
              "    [theme=dark] .colab-df-convert {\n",
              "      background-color: #3B4455;\n",
              "      fill: #D2E3FC;\n",
              "    }\n",
              "\n",
              "    [theme=dark] .colab-df-convert:hover {\n",
              "      background-color: #434B5C;\n",
              "      box-shadow: 0px 1px 3px 1px rgba(0, 0, 0, 0.15);\n",
              "      filter: drop-shadow(0px 1px 2px rgba(0, 0, 0, 0.3));\n",
              "      fill: #FFFFFF;\n",
              "    }\n",
              "  </style>\n",
              "\n",
              "      <script>\n",
              "        const buttonEl =\n",
              "          document.querySelector('#df-5b10c0bc-85c6-4625-a13f-57966496d8e1 button.colab-df-convert');\n",
              "        buttonEl.style.display =\n",
              "          google.colab.kernel.accessAllowed ? 'block' : 'none';\n",
              "\n",
              "        async function convertToInteractive(key) {\n",
              "          const element = document.querySelector('#df-5b10c0bc-85c6-4625-a13f-57966496d8e1');\n",
              "          const dataTable =\n",
              "            await google.colab.kernel.invokeFunction('convertToInteractive',\n",
              "                                                     [key], {});\n",
              "          if (!dataTable) return;\n",
              "\n",
              "          const docLinkHtml = 'Like what you see? Visit the ' +\n",
              "            '<a target=\"_blank\" href=https://colab.research.google.com/notebooks/data_table.ipynb>data table notebook</a>'\n",
              "            + ' to learn more about interactive tables.';\n",
              "          element.innerHTML = '';\n",
              "          dataTable['output_type'] = 'display_data';\n",
              "          await google.colab.output.renderOutput(dataTable, element);\n",
              "          const docLink = document.createElement('div');\n",
              "          docLink.innerHTML = docLinkHtml;\n",
              "          element.appendChild(docLink);\n",
              "        }\n",
              "      </script>\n",
              "    </div>\n",
              "  </div>\n",
              "  "
            ]
          },
          "metadata": {},
          "execution_count": 4
        }
      ],
      "source": [
        "train.head(5)"
      ]
    },
    {
      "cell_type": "code",
      "execution_count": 5,
      "metadata": {
        "colab": {
          "base_uri": "https://localhost:8080/"
        },
        "id": "HA6bOeakDu5L",
        "outputId": "f32cba9a-e7a3-4e50-9aaa-65732ddccd19"
      },
      "outputs": [
        {
          "output_type": "execute_result",
          "data": {
            "text/plain": [
              "7     3275\n",
              "8     2454\n",
              "13    2133\n",
              "5     1163\n",
              "6     1109\n",
              "4      522\n",
              "10     379\n",
              "3      377\n",
              "11     232\n",
              "1      185\n",
              "9      153\n",
              "12     152\n",
              "2       16\n",
              "Name: Human_CategoryID, dtype: int64"
            ]
          },
          "metadata": {},
          "execution_count": 5
        }
      ],
      "source": [
        "train['Human_CategoryID'].sort_index(ascending=True).value_counts()"
      ]
    },
    {
      "cell_type": "markdown",
      "metadata": {
        "id": "3hRruw5Ph59Y"
      },
      "source": [
        "#Create a Vocabulary"
      ]
    },
    {
      "cell_type": "code",
      "execution_count": 148,
      "metadata": {
        "colab": {
          "base_uri": "https://localhost:8080/"
        },
        "id": "9KsihNdkb28k",
        "outputId": "d6efed72-799e-4f38-c8b5-7747445af3d1"
      },
      "outputs": [
        {
          "output_type": "stream",
          "name": "stdout",
          "text": [
            "46943\n"
          ]
        },
        {
          "output_type": "execute_result",
          "data": {
            "text/plain": [
              "[('|scb|', 1518),\n",
              " ('|friendtag|', 625),\n",
              " ('|2|', 512),\n",
              " ('|kbank|', 403),\n",
              " ('|บาท|', 360),\n",
              " ('|1|', 340),\n",
              " ('|3|', 329),\n",
              " ('|5|', 298),\n",
              " ('|tmb|', 251),\n",
              " ('|call_center|', 250),\n",
              " ('|atm|', 249),\n",
              " ('atm|', 245),\n",
              " ('|scb_easy|', 201),\n",
              " ('|telephonetag|', 199),\n",
              " ('|app|', 199),\n",
              " ('|กรุงไทย|', 198),\n",
              " ('|-|', 184),\n",
              " ('|sms|', 178),\n",
              " ('|ktc|', 176),\n",
              " ('|ของ|', 164)]"
            ]
          },
          "metadata": {},
          "execution_count": 148
        }
      ],
      "source": [
        "from collections import Counter\n",
        "\n",
        "vocab = Counter()\n",
        "def data_to_vocab(df):\n",
        "  for verbatim in df['Text_ws_local']:\n",
        "    tokens = verbatim.split()\n",
        "    tokens = [word for word in tokens if len(tokens) > 4] #at first = 1, CNN GMP is better with >4 for ~2%\n",
        "    vocab.update(tokens)\n",
        "\n",
        "data_to_vocab(train)\n",
        "\n",
        "print(len(vocab))\n",
        "vocab.most_common(20)"
      ]
    },
    {
      "cell_type": "code",
      "execution_count": 149,
      "metadata": {
        "id": "YqxVmTU0hXYD"
      },
      "outputs": [],
      "source": [
        "min_occurence = 2\n",
        "tokens = [k for k, c in vocab.items() if c >= min_occurence]"
      ]
    },
    {
      "cell_type": "code",
      "execution_count": 150,
      "metadata": {
        "id": "dxb6rJv_gzC1"
      },
      "outputs": [],
      "source": [
        "def save_list(lines, filename):\n",
        "  data = '\\n'.join(lines)\n",
        "  file = open(filename, 'w')\n",
        "  file.write(data)\n",
        "  file.close()\n",
        "  \n",
        "save_list(tokens, 'vocab.txt')"
      ]
    },
    {
      "cell_type": "markdown",
      "metadata": {
        "id": "WbZ5MsM0iCNr"
      },
      "source": [
        "#Data Processing: Embedding & the Model"
      ]
    },
    {
      "cell_type": "code",
      "execution_count": 151,
      "metadata": {
        "colab": {
          "base_uri": "https://localhost:8080/"
        },
        "id": "xWxGiDbLiDjC",
        "outputId": "d33da1c2-1caf-4430-d2f0-3b2f645df7c2"
      },
      "outputs": [
        {
          "output_type": "stream",
          "name": "stdout",
          "text": [
            "{'|blackpink|', '|หรือ|ตาม|แต่ละ|พื้นที่|', '|เลย|ค่ะ|', '|โทร|ไป|ไม่เคย|ได้|คุย|', '|รีวอร์ด|', '|ตัด|', '|3|-|6|', '|ธนาคาร|แล้ว|', 'สอบถาม|คะ|', '|มัน|มี|', '|19|', '|ยู|เมะ|', '|ผิด|เบอร์|', '|201|', '|กู้|', '|จ่าย|ดอก|ทุกเดือน|', '|บ|ลา|ๆ|', '|ได้|ไหม|ครับ|', '|ทอง|ๆ|', '|ธนาคาร|ก็|หายเงียบ|ไป|', '|20.00|', '|2515|', '|ทั้ง|ทาง|', '|โค|วิค|', '|ได้|ดอก|', 'kbank|ค่ะ|', '|ผล|ปรากฏ|ว่า|', '|แต่|ทาง|ต้นทาง|', '|investing|', '|ใช่|ๆ|', 'โอ๊ย|', '|เขา|บอก|ว่า|', '|service|', '|จะต้อง|รอ|ถึง|เมื่อไหร่|', '|สรุป|คือ|', '|เข้า|kbank|', '|ไทย|', '|เช็ค|สถานะ|', '|นาน|', '|โคตร|กาก', '|ณ|', '22|', '|อายุ|', '|จะ|ผ่าน|', '|ก็|เห็น|', '|สามารถ|เปลี่ยน|', '|22000|', '|วัน|นะคะ|', '|เพราะ|มี|', '|ได้|ไหม|คะ|', '|รอบ|แล้ว|', '|ไม่|ได้คืน', '|ไม่|เกิน|', '|ต่าง|สาขา|', '|truewallet|', '|800|', '|k-usa-ad|', 'สอบถาม|นะคะ|', '|ไป|ไหม|นะ|', '|8900|', '|16.00|', '|อย่างเดียว|', '|อยู่|', '|อิ|ห่า|', 'atm', '|ทำไง|ดี|คะ|', '|ของ|บัญชี|', '|เพื่อ|ยืนยัน|ตัวตน|', '|ช้า|มาก|', '|ปิด|เครื่อง|', '|expense|', '|copy|', '|เอทีเอ็ม|', '|เหมือนกัน|', '|นอกจาก|', '|วีโว่|', '|เป็น|อะไร|', '|friendtag|', '|proud|', '|จุก|ๆ|', '|ทำไง|ครับ', '|ธนาคาร|คือ|', '|แย่สุดๆ|', '|เหี้ย|มาก|', '|อาทิตย์|ละ|', 'เติมเงิน|ผิด|เบอร์|ค่ะ|', '|100|', '|pay|', '|ที่|จ่าย|', 'สอบถาม|หน่อย|ค่ะ|', '|จะ|ให้|', 'จ่ายเงิน|', '|เฮงซวย', '|ต้อง|ติดต่อ|ธนาคาร|', '|กับ|กรุงไทย|', '|thanachart|', '|โอน|เงินเข้า|', '|paotang|', '|qr|', '|หมุนเวียน|และ|', '|ม.|ค.|', '|exclusive|', '|เอง|ค่ะ|', '|เงินเดือน|ไม่|ถึง|', '|เท่าไหร่|', '|ไม่มี|ประวัติ|จ่าย|ช้า|ของ|ใบ|นี้|ครับ', 'ควย|', 'app|', '|ประเทศไทย|', '|เลือก|', '|กับ|พร้อมเพย์|', '|11100|', '|แอร์|เอเชีย|', '|ด้วย|ละ|อ่า|', '|ก็|ถอย|', '|booking|', '|3', '|แต่|ทั้ง', '|ทาง|ออนไลน์|', '20|', '|เงินเข้า|ทันที|', '|ตี|', '|โอน|เวลา|', '|2212563|', '|ค|ป|ภ|.|', '|แอป|เป๋า|ตังค์|', '|prime|', '|สู้|ๆ|', '|พอ|', '|ไป|ตั้งแต่|วัน|ที่', '|นามสกุล|', '|smebank|', '|สินเชื่อ|เพิ่ม|ได้|', '|โอน|จาก|kbank|', '|ม.|ค|', '|ค่า|ประเมิน|', '|ต่อ|เดือน|', '|รูป|สอง|', '|make|', '|อยู่ดีๆ|', '|ได้|เลย|ค่ะ|', '|-|31|', '|edc|', '|ที่ผ่านมา|', '|lounge|', '|rmf|', '|มาก|', 'ไฟแนนซ์|', 'สินเชื่อบ้าน_scb|', '|เสี่ยว|มี่|', 'พึ่ง|รู้ว่า|', '|passbook|', '|ผ่าน|ไหม|ค่ะ|หรือ|ใคร|เคย|กู้|บ้าง|เล่า|ประสบการณ์|', '|kyc|', '|ขึ้น|ว่า|', '|21|', '|ธนาคาร|ต้นทาง|ของ|เคส|เรา|', '|airpay|', '|ก็|ขึ้น|ว่า|', '|โดน|', '|เครดิต|', '|ล้าน|บาท|', '|ก็ได้|ครับ|', '|ผ่าน|ทาง|แอป|', '|ของ|ทุกเดือน|', '|15000|', 'เป็น|เหมือนกัน|เลย|ครับ|', 'suphakit|', '|เลย|โทร|ไป|', '|ก็|สามารถ|', '|6000|', '|โอนเงิน|ผิด|บัญชี|', '|ktb_travel_card|', '|uob', '|โอน|เข้าบัญชี|', 'grab|', '|อยู่แล้ว|', '|rueantan|', '|ต่างประเทศ|', '|17000|', '|ไป|ตอน|', '|091|', '|ไง|', '|สุด|', '|ต้อง|ทำ|ยังไง|คะ', '|ผม|', '|วันนี้|ระบบ|ของ|ธนาคาร|ปรับปรุง|เหรอ|คะ|', '|citibank', '|option|', '|1000000|', '|ได้|ไหม|ค่ะ', '|ของ|กรุงไทย|', '|tmb_so_smart|', '|ปะ|', '|เบอร์|เติม|ผิด|', '|bls|', '|คือ|อยู่|ๆ|', '|jasif|', '|ต้นทาง|กรุงไทย|', '|ไป|พร้อมเพย์|ผูก|กับ|', '|ซิ|ม|', '|ก็|ยัง|ไม่|เข้า|', '|แบบ|ครับ|', '|axa|', '|แต่|ไม่มี|สมุดบัญชี|', '|แอป|ล่ม|หรอ|', '|thailand', '|ให้|หมด|', 'พอดี|', '|ต้อง|จ่าย|', '|2700000|', 'โทร|เข้า|', '|มีเงิน|', '|streaming|', '|เกือบ|', '|3.00|', 'โทร|ติดต่อ|', '|ดี|ไหม|คะ|', '|d|', '|back|', '20|12563|', '|swift|', '|บริการ|', '|อยู่|ที่', 'scb_connect|', '|lh|', '|เหลือ|แค่|', '|แต้ม|', 'ของ|เรา|', '|และ|ไทยพาณิชย์|', '|เอา', '|ทำไง|ดี', '|มี|.ค|', '|เงิน|ยัง|ไม่|เข้า|', '|ของ|tmb|', '|citi_premier|', '|อย่างเช่น|', '|00|', '|อื่นๆ|', '10|', '|เชียงใหม่|', '|770|', '|รอบ|', '|แต่|อยู่ดีๆ|', '|ขอบคุณ|คะ', 'เจ้าหน้าที่|', '|ถึงจะ|สามารถ|เช็ค|ได้|', '|takashimaya|', '|krungthai_care', '|ais|', '|จะ|สมัคร|', '|170|', '|2020|', 'รอสาย|', '|สาขา|ชน|แดน|', '|ตอนนี้|วัน|ที่', '|สิ|ครับ|', '|ทุกปี|', 'สอบถาม|ด้วย|ครับ|', '|จ่าย|ด้วย|บัตรเดบิต|ktb|และ|ผม|ได้|ทำ|การยกเลิก|การสั่งซื้อ|ไป|', 'ใช้|บัตร|', '|ไป|คะ|', '|sim|', '|เที่ยงคืน|', '|เข้า|ใช้งาน|', '|ndid|', '|เพิ่ม|', '|รบกวน|สอบถาม|', '|มี|นา|', '|ประทับใจ|', '|ยอดเงิน|ไม่|เข้า|', '|easy|', '|63', '|ค่ารถ|', '|ขอบคุณ|ล่วงหน้า|ค่ะ', '|ไป|ธนาคาร|อื่น|', '|เม.ย.|', '|นอกนั้น|', '|สัก|เท่าไหร่|', '|เช้า|', '|ไม่ยุ่งยาก|', '|โทร|เป็น|ชาติ|', '|แนะนำ|', '|57|', '|บ้าบอ|', '|กด|ฟรี|ทุก|ตู้|', '|นี่แหละ|', '|ยัง|ไม่ได้|', '|ได้|ประมาณ|', '|แล้ว|ไม่มี|', '|flexi|', '|รอสาย|นานมาก', '|scb_my_travel|', '|โปรโมชั่น|', '|ด้วย|ไหม|', '|เพราะ|', '|แก้|ด่วน|', '|ธนาคาร|ธนาคารเพื่อการเกษตรและสหกรณ์การเกษตร|', '|ทั้ง', '|64|', '|จน|เรา|ติดต่อ|เข้าไป|เป็น|ครั้ง|ที่', '|จาก|กระทู้|', '|payment|', '|เหลือ|', '|นะ', '|อัปเดต|', 'gsb|', '|ยอด', '|มีข้อดี|', '|แจ้ง|ว่า|ระบบ|มีปัญหา|', '|โทร|ไปหา|', '|ครั้งแรก|', '|เวลา|กลับ|ไปที่|กรม|ทหาร|บ้าน|เก่า|ใน|กรม|มัน|จะ|มี|แต่|ตู้', '|มาตลอด|', '|เดือดร้อน|มากๆ|', 'โทร|ไป|', '|ๆ|', '|แต่|ทาง|', '|เหรอ|', '|ปี|กว่า|แล้ว|', '|จาก|ธนาคาร|', '|ได้คืน|', '|วินาที|', '|5.|', '|เคพลัส|', '|ร้าน|ป|ริ้น|ยัง|ไม่|เปิด|นี่|เลย|จะ|เปิดบัญชี|เพื่อ|จ่ายเงิน|', '|จะ|ได้|เตรียม|เอกสาร|ไป|ให้|ถูก|ครับ|', '|แล้า|', 'ไป|เปิดบัญชี|', '|อนุมัติ|แล้ว|', '|เอา|', 'ผม|สมัคร|บัตร|', '|แอป|เป๋า|ตัง|', '|ตามปกติ|', 'mon|', '2|9|', '|appscb|', '|เป็นของ|', '|แต่|ไม่|เข้า|ปลายทาง|', '|scb_family_plus|', '|เรา|ได้|ทำการ|โอนเงิน|จาก|gsb|ผ่าน|', '|ผ่าน|แอป|', '|ผม|เปิดบัญชี|', '|เข้า|ทุกเดือน|ไม่ค่อย|มีเงิน|นิ่ง|ๆ|', 'ตู้', '|ได้|ลด|', '|วัน|ๆ|', '|กดเงิน|ไม่|ใช้|บัตร|', '|ktsf|', '|ขอบคุณ|ล่วงหน้า|นะคะ|', '|บ้าง|ค่ะ|', '|เหมือนกัน|ค่ะ|', '|15.30|', '|ธนาคาร|อื่นๆ|', '|แต่|ยอดเงิน|ไม่|เข้าบัญชี|ปลายทาง|', '|เรา|ชนะ|', '|เป็นต้นไป|', '|คือ|อะไร|', '|หรือไม่ก็|อัน|ที่|เทียบเคียง|คับ|', '|ฝากเงิน|', '|นาน|มากๆ|', '|cdm|', '|บ้าง', '1.|', '|scbset|50|', '|คิดว่า|', '|gmarket|', '|ทาง|ธนาคาร|', 'ออกๆ|', '|k-bank|', '|ไม่|ได้รับ|', '|แม่|ง|', '|โดน|หัก|ไป|', '|เงินเดือน|ผม|', '|อ่ะ|ค่ะ|', '|ทั้งสิ้น|', '|กรุงไทย_axa|', 'ทำ|', '|ไม่|สา|มาร|อนุมัติ|บัตรเครดิต|ของ|ท่าน|ได้|เป็นผล|จาก|เกณฑ์|พิจาร|ณ|รา|ของ|บริษัท|เท่านั้น|', '|เรียน|', '|อยาก|', '|90000|', '|ทุน|', '|ของ|ธนาคาร|bbl|', '|ทำให้|', '|trade|', '|ผ่าน|มา|', '|1|-|2|', '|10.00|', '|ลอง|ดูๆ|', '|เจ้าหน้า|ที่แจ้ง|ว่า|', '|แปล|ว่า|', '|2017|', 'อี|สัส|', '|อ้อ|', '|ธนาคาร|หนู|เงิน|ประมาณ|', '|โค|วิด_19', '|โค|วิด|', 'ผม|อยาก|สมัคร|', '|ตั้งแต่|วัน|ที่', '|care|', '|ไฟ|', '|แง|ง', '|ไป|ก่อน|', 'เป็น|ธนาคาร|', '|บาง|สาขา|', '|มี|เยอะ|แล้ว|', 'เปิดบัญชี|', '|อย่าง|เรา|มี|kbank|', '|แล้ว|นะ|', '|ติดต่อ|ผ่าน|', '|รบกวน|ด้วย|นะคะ', '|อยาก|รู้ว่า|', 'ณ|', 'สวัสดี|', '|ส่วน|บัตรกดเงินสด|', '|ทั้งๆ', 'บัตรเครดิต|', '|26|', '|เป็น|ส่วนลด|', '|ตุลาคม|', '|emoji|', '|set|', '|10.28|', '|ทุกๆ|', '|อี|ค|วัย|', '|เหมือนเดิม|', '|ktc', '|จ้า|', '|แบบนี้|ก็ได้|เหรอ|', '|xx|', '|3|-|4|', '21|', '|ใช้|', '|ไป|ครับ|', '|scb-m|', '|confirm|', '|เสียไป|', 'ซื้อ|', '|margin|', '|เลิก|ใช้|', '|น|', '|เรียบร้อย|', '|ใช่|เรื่อง|ไหม|', '|เงิน|เยียวยา|', '|ครึ่ง|', '|ต้อง|ทำ|อย่างไร|', 'ยกเลิก|', '|รบกวน|ผู้รู้|ทุกท่าน|ด้วย|ค่ะ', '|ทุก|ธนาคาร|', '|เงินฝาก|', '|แง|ง|', 'อยาก|สอบถาม|ว่า|', '|หักเงิน|อัตโนมัติ|', '|ทะเบียน|พาณิชย์|', '|ไม่มี|แอป|', '|กรุงไทย|', '|--', '|74|', 'มึง|', '|คนละ|ครึ่ง|เฟส|', '|easynet|', '|ไม่ได้|แล้ว|', '|20000|', '|payroll|', 'วันนี้|', '|personal|', 'มีเงิน|เข้ามา|', 'kitisak|', '|scb_mobile|', '|ดอกเบี้ย|', 'ทำไม|แอป|', '|finalodysseyconcert|', '|ภายใน|วัน|ที่', '|ktb|กรุงไทย|', '|โทร|ไป|', '|cashback|', '|สู้|', '|ราคา|บ้าน|', '|ยัง|', '|สามารถ|จ่าย|ผ่าน|', '5|', '|0.5|', '|ก็|เข้า|ปกติ|', '|สาขา|พระนคร|คีรี|', '|เขตพระราม2|', 'โอนเงิน|ไป|แล้ว|', 'โอนเงิน|ผ่าน|', '|ล่ม|หรอ|คะ|', '|จนถึง|วันนี้|', '|เจ้าหน้าที่|โทร|มา|ทวง|ค่าบริการ|ชำระ|', '|คือ|', '|ดังนั้น|', '|แค่|ยื่น|บัตร|ให้|', '|4|g|', '|ซึ่ง|', '|เมษายน|', '|หลังจาก|', '|เกิด|จาก|อะไร|คะ|', '|.|', '|แล้วจะ|ให้|ทำ|ยังไง|ได้|บ้าง|ครับ|', '|ธนาคาร|อื่น|', '|money|', '|scan|', '|ก่อน|นะ|ครับ', '|mebytmb|', '|41000|', '|รับ|แต่|เงิน|ห|ยวน|ของ|จีน|', '|เป็นไร|อ่ะ|', '|ค|ห|.|', '|จะ|กู้เงิน|ใน|ไลน์|', '|ควย|', '|1295|', '|ง่ายๆ|', '|ผูก|', '|จน|วัน|ที่', '|nagoya|', '|เพชร|บุรี|', '|หักเงิน|ไป|แล้ว|', '|งง', 'ดอกเบี้ย|', '|เป็น|เหมือนกัน|ค่ะ|', '|แต่|ทำไม|', '|ตัดยอด|ทันที|', '|อ่าน|เงื่อนไข|อี|กรอบ|', '|bts|', 'โดน|', '|ผ่อน|รถ|', '|telephonetag|', '|1.|ผม|ต้อง|แจ้ง|อะไร|กับ|ทาง|', '|1500|', '|1600|', '|mint|', '|ก|ย|ศ.|', '|7|-|14|', '|แจ้ง|สำเร็จ|', '|เป็นไร|อะ|', '|เดือน|แล้ว|ค่ะ|', '|11.00|', '|พอๆ|', '|รองรับ|', '|ผม|เลือก|', 'citibank|', '|วีซ่า|', '|36|', '|high|', '|แอ|ด|มิ|น|คะ|', 'sms|', '|และ|ไม่สามารถ|', '|ตัว|ท้าย|', '|ให้|', '|class|', '|gsb|', 'คุณ|', '|แต่|ไหม|เข้าบัญชี|', 'scb|', 'เรียน|', '|เป็น|งง|', '|อีดอก|', '|ก.ค.|', '|เก็บ|ยิ่ง|นาน|', '|เบอร์|', '|one|', 'เมื่อ|เวลา|', '|anan|', '|pbv|', '|ของ|bay|', '|อาย|เพื่อน', '11|43|', '|ไลน์|', '|1900|', '|แล้ว|บัตร|เก่า|คือ|จ่าย|ออนไลน์|ได้|', '|27000|', 'ป|ล|', '|time|', '|พนักงาน|บอก|ว่า|', '|50|', '|product|', '|350|', '|pround|', '|ava|', 'โอนเงิน|จาก|', '|นานมาก|', '|visa|', '|มา|kbank|', '|support|', '|vat|', '|ช่วย|หน่อย|ค่ะ|', '|เงิน|ยัง|ไม่|เข้า|เลย|', '|g-walle|', '|ก.|ค|', '|ใช้|บัตร|', '|ไม่|ผ่าน|', '|เงิน|โดน|หัก|', '|เห้อ|', '|แสก|น|', '|คำ|ว่า|', '|ผ่าน|มา|เกือบ|', '|krungthai_axa|', '|kbank|', '|บริการ|ดี|', 'เข้า|แอป|', '|เรื่อง|แอป|', '|3|-|5|', '|เช่นกัน|ค่ะ|', '|แล้ว|อย่างนี้|เรา|จะต้อง|ไป|ติดต่อ|ที่ไหน|ดี|คะ', '|20|k|', '|ต้อง|ทำไง|ค่ะ', '|รี|ไฟแนนซ์|', '|ใคร|รู้|บ้าง|', '|tesco|', '|ติดต่อ|ธนาคาร|เจ้าของ|บัตร|', '|g-wallet|', '|mymo', '|ปี|ขึ้นไป|', '|ล่ม', '|facebook|', 'โทร|', '|2.|', '|ไม่|', '|กลุ่ม|ที่', '|ใช้ได้|', '|ของ|scb|', 'จ่ายเงิน|ผ่าน|', '|เฮ้อ', '|ไหม|ครับ', '|เพราะว่า|', '|4|', '|ถือ|บัตร|', '|แต่|ใน|', '|ตกลง|', '|สาธุ|', '|รอ|นาน|ที่สุด|คือ|', '|เมื่อ|เวลา|', 'visa|', '|ณ', '|โทร|ไป|แจ้ง|', '|สมุดบัญชี|', '|ใช้|แต่|', '|precious|', '|เหมือน|สมัยนี้|', '|kbank', '|ค่าบริการ|', '|bitkub|', '|ชั่วโมง|', '|สินเชื่อรถยนต์|', '|99|', '|bangkokbank|', '|banking|', '|คอลเซนเตอร์|', '|น้อง|', '|k-esaving|', '|ไทยพาณิชย์', '|เช่น|', '|ขอ|ข้อมูล|', '|ดู|ยากมาก|', '|coin|', '|เยอะ|', '|เต็ม|', '|งง|', '|ต้นๆ|', '|your|', '|มา|ว่า|', '|ก็|ไม่มี|', '|หัก|', '|13|', '|40|k|', '|คือ|ยังไง|', '|อิ|', '|transferwise|', '|2565|', '|1700|', '|อาชีพ|', 'ระบบ|', '|จน|ตอนนี้|วัน|ที่', 'โอ้|ย|', '|หลัง|วัน|ที่', '|kbank_live|', 'โอนเงิน|พร้อมเพย์|จาก|', '|มี|สลิป|', '|ktc|', '|โทร|ไม่ติด|ครับ|', '|บัญชี|', '|เงิน|ไม่|เข้า|ค่ะ|', '|โทร|มา|แจ้ง|ยอด|ชำระ|ค่างวดรถ|วัน|ละ|', '|เป็นมา|', '|ถ้า|อยู่|ใกล้ๆ|', '|เมื่อไร|', '|ก็|ยัง|เงียบ|เหมือนเดิม|จน|เกือบ|ถึง|รอบ|ชำระ|', '|เรา|ก็|งง|', '|1558|', '|true|', '|หรือ|', '|gbp|', '|ปี|แล้ว|ค่ะ|', '|starbuck|', '|ให้|ลูกค้า|', '|30|-|45|', '|เลข|', '|พ่อ|', '|โมง|เช้า|', '|กรุงไทย|เลย|', '|คะ', '|เมลล์|', '|ขอให้|', 'pin|', '|จะ|', '|ครับ|', '|25000|', '|แล้ว|ค่ะ', '|กรุงเทพ|', '|ยัง|ไม่ได้|คุย|กับ|เจ้าหน้าที่|เลย|', '|card|', '|ต้อง|รอ|', '|4000|', '|in|', '|app|', '|sietongkum|', '|ptt|', '|fee|', 'next|', '|มา|', '|ไป|แล้ว|', '|ผ่าน|ทาง|', '|จน|ป่านนี้|', '|โอน|', '|prestige|', '3|1|', 'ทำไม|', '|นั่ง|', '|แบน|', '|jmart|', 'ได้|', '|dca|', '|ก็|ใช้ได้|ปกติ|ครับ|', '|แม่|', '|ktb|', '|callcenter|', '|เข้า|', 'เมื่อ|เช้า|', 'ตอน|', '|ไม่ต้อง|ผูก|ใหม่|', '|เอกสาร|ครบ|', '|เรา|สนใจ|และ|อยาก|สอบถาม|ข้อมูล|', '|บาท|ได้|', '|อี|เหี้ย', '|ได้|วงเงินรวม|', '|ธนาคาร|ไหน|', '|ใบ|', '|1115|', '|ontop|', '|แล้ว|คะ|', '|18|k|', '|ต้อง|มี|', '|เป็นสมาชิก|', '|ต้อง|ใช้|', '|ข้าราชการ|', '|วัน|แล้ว|', '|passion|', '|สวัสดี|', '|บอก|ว่า|', '|ไม่สามารถ|ทำ|รายการ|ทางการ|เงินได้|ในขณะนี้|', '|วัน|ทำการ', '|19', '|ต้อง|ใช้|อะไรบ้าง|', '|ธนาคารกรุงไทย', 'สอบถาม|ครับ|', '|เรา|ไม่|ทิ้ง|กัน', '|หลัก|', '|เป็น|ตั้ง|แตา|ก่อน|มี|กระแส|', '|scb_life|', '9|', '|บริษัทหลักทรัพย์จัดการกองทุนรวมจำกัด|', '|ของ|ไทยพาณิชย์|', '|17|-|01|-|2563|', '|ของ|ตัวเอง|', '|no|', '|ผ่อน|ตก|ล้าน|ละ|', '|reference|', '|พัก|ชำระหนี้|', '|ละ|อ่อ|', '|ตาม|ข้อ|', '|ออนไลน์|', '|และ|บัตร|', '|ด้วย|', '|กว่า|ๆ|', '|ไม่|ช่วย|อะไร|เลย|', '|โอน|เข้า|กรุงไทย|', '|แอ๊ป|', '|ดี|นะ|', '|ใส่|จำนวนเงิน|', '|ติด|ต่อไป|ทาง|', '7|-|11|', '|ได้|ภายใน|', '|เงิน|ไม่|เข้า|', '27|', '|ค|', 'ฐาน|เงินเดือน|', 'ตอนนี้|', '|กู้|ได้|', 'แอป|เป๋า|ตัง|', '|of|', '|ที่|เป็น|ธนาคาร|', '|อายัด|บัตร|', '|เงิน|ไม่|เข้า|เลย|ครับ|', 'kplus|', '|ไป|ค่ะ|', '|ของ|วันนี้|ให้|ลอง|เช็ค|ที่|บัญชี|ปลายทาง|ก่อน|ถ้า|ไม่|ได้รับ|ก็|ให้|เช็ค|พรุ่งนี้|อีกที', '|ibanking|', '|shopee|', '|ไม่ได้|นับจำนวน|ครั้ง|ตาม|ลูกค้า|แต่ละคน|โอน|', '|2645|', '|ส|ภ|.|', '|ไอ|', '|hack|', 'รบกวน|สอบถาม|', '|ผล|คือ|', '|ขนาด|', '|k-check|', '|พอ|วัน|ที่', '|ว่า|เพราะอะไร|', '|ส่ง|', '|ลบ|แอป|', '|เวลา|ไหน|', '|วันนี้|', '|lazada|', '|ห่วย|มาก|', '|เกิน|', '|ใช้งานง่าย|', '|e|', '|ใคร|ใช้|', '|ประเด็น|คือ|', '|ห่วยแตก', '|ปรากฏ|ว่า|', '|โทร|หา|', '|นะคะ', 'ขอ|สอบถาม|หน่อย|คะ|', '|pttgc|', '|rungruang|', '|แต่|', '|บ้าง|ครับ|', 'บัตรเดบิต|', 'ใบสมัคร|ผม|ก็|จ|พ|หมดอายุ|แล้ว|', '|ม|ก|รา|', '|หลาย|รอบ|มาก|', '|t_t', '|แจ้งเตือน|เงินเข้า|ไม่มี|สัก|ข้อความ|เลย|ค่ะ|', '15|', '|งวด|แรก|', '|ขัดข้อง|', '|พรบ.|', '|187|', '|กด|เงินสด|', '|เฟิร์ส|ช้อย|', 'โทร|ไปหา|', '|มิถุนายน|', '|ขอความกรุณา|', '|ตก|', 'โอนเงิน|', '|กรุงไทย|ด้วย|', '|สมัคร|ผ่าน|', '|เนื่องจาก|บัญชี|นั้น|โดน|ยึด|ไป|ด้วย|ปัญหา|หนี้สิน|', '|ทำ|ยังไง|ดี|คะ', '|เงิน|ยัง|ไม่|เข้าบัญชี|', '|ต.ค.|', '|เขา|บอก|', '|เอ|', '|ไม่สามารถ|เข้า|', '|ต้อง|ติดต่อ|', '|tower|', '|reward|', '|ประทับใจ|มาก|', 'แย่|', '|18.04|', '|วัน|เหมือนเดิม|', '|สาย|', '|เฮ้ย|', '|ช่อง|', '|18.11|', '|มูลค่า|', '|ดีมาก|เหมือนกัน|', '|ยืนยัน|ที่|ตู้', '|express|', '|9000|', '|youtube|', '|น.', '|ส่ง|มา|ว่า|', '|ได้|แล้ว|นะ|ครับ|', '|ก็|ยัง|ไม่ติดต่อ|กลับมา|ตกลง|ไฟแนนซ์|ไทยพาณิชย์|', '|ครั้ง|ที่', '|ไม่|แจ้ง|', '|ทำ|ยังไง|ดี|คะ|', '|200000|', '|ตอนนั้น|', '|หรือยัง|คะ|', '|นี่|นะ|', '|เลย', '|ทั้ง|เรา|', 'บัญชี|', '|ลอง|ไป|ศึกษา|ดูก่อน|', '|แจ้ง|ธนาคาร|', '|แต่|เงิน|ไม่มี|เข้าบัญชี|', '|krungsri_jcb|', '|ฟรี|ค่าธรรมเนียม|', 'ยื่น|', '|เท่ากับว่า|', '|พ|น.|', '|ว่า|จะ|ไม่|สมัคร|อีกต่อไป|ละ|', 'ใน|แอป|', '|โทร|เข้า|', '|โมโห', 'ขอ|สอบถาม|หน่อย|ค่า|', '|jlpt|', '|plus|', '|ตัวอย่าง|', '|atm|.|', '|พนักงานธนาคาร|แนะนำ|ให้|ใช้|', 'ขอบคุณ|ค่ะ|', '|5000|เรา|ไม่|ทิ้ง|กัน|', '|ดีจัง|', '|ผู้จัดการ|', '|หรือ|ธนาคาร|', '|รอ|', '|ค่า|', '|ขอ|ประจาน|ตัวเอง|', 'เรา|ใช้|', '|ของ|บัตรเครดิต|และ|', '|1|', '|pantip|', 'สมัคร|สินเชื่อ|', '|ออกมา|', '|ปี|ค่ะ|', '|ตลาดนัด|', '|ประเมิน|', '|ยืนยัน|', '|งง|มาก', '|เห|น่ย', '|แตก|', '|เพราะ|เงิน|ออกจาก|ธนาคารกรุงไทย|แล้ว|ครับ|', '|wallet|', '|bay|ไม่มี|บัญชี|', '|customer|', '|มี|หนี้|บัตร|', '|ถ้า|แจ้ง|ช่องทาง|ไหน|ครับ|', '|มา|หลาย|วัน|', '|กด|สมัคร|', '|ไทย|พา|นิส|', '|ก็|ให้|', '|วันก่อน|', '|ขอบคุณ|ล่วงหน้า|ครับ', '|นั้น', '|10.02|', '|02|-|28515|', '|วอ|ล|เลต|', '|all|', '|พูด|ง่ายๆ|', '|เอง', 'แอป|bbl|', '|หรอ|', '|เรา|ก็|ไม่สามารถ|ใช้|', 'ถาม|', '|ไป|อยู่|ใน|', '|200|', '|banking|.|', '|sme|', '|ส่ง|เอกสาร|', '|แจ้ง|ว่า|', '|ไม่พอ|', '|ไม่ได้|สักที|', '|45|', '|ต่อ|', '|ขีด|', '|หน่วย|ละ|', '|ค่ะ|', '|ไม่ดี|', 'ถ้า|', '|ช่วย|ตอบ|หน่อย|ครับ', '|ชื่อ|เหมือนกัน|', '|มาก', 'scb_thailand|', '|ที่|จาก|', '|ประทับใจ', '|รายการ|', '|อะไร|เนี่ย', '|มาสเตอร์|การ์ด|', '|เปลี่ยน|', '|เป็นต้น|', '|ไป|ยืนยัน|ที่|ตู้', '|190|', '|รอ|ดู|', '|180|', '|ชาว|พันทิป|', '|6|-|7|', 'สินเชื่อ|', '|badservice', '|10.32|', '|เซ็ง|', '|ทุกคน|', 'เป๋า|ตัง|', '|โป|ร|', '|บาท|ต่อ|คะแนน|', '|แล้ว|เงิน|ไม่|เข้า|', '|ทุ่ม|กว่า|', '|netbank|', 'scbplanet|', '|รับ|', '|30000|', '|3|bb|', '|49|', '|account|', '|ไม่ได้|ครับ|', '|คุย|', 'bbl|', '|นานไป|ไหม|', '|กอง|เดิม|', '|หน่อย|ค่ะ', '|เข้า|แอป|', '|ทำ|รายการ|ไม่|ตามเวลา|กำหนด|พ่อ|ง|มึง|ดิ', '|ขอ|', '|บาท|ค่ะ', '|robo|', '|ดีกว่า|', '|pending|', '|ประกัน|', '|โดย|', '|หงุดหงิด|', '|ลูกค้า|โอน|จาก|', '|เติม|เงินเข้า|', '|เสียความรู้สึก|มาก', '|kbank|ไป|', 'สอบถาม|หน่อย|ครับ|', '|city|', '|itmx|', '|store|', 'kbank|ล่ม|หรอ|', '|1.30|', '|แต่|ถ้า|', '|หน้า|', '|ก็|สมัคร|', '|จน|วันนี้|วัน|ที่', '|rabbit|', '|ฉบับ|', '|7|-|8|', '|netflix|', '|ป|', '|16000|', '|online|', '|สั่ง|อาหาร|', 'ผ่อน|รถ|กับ|', '|นาที', '|ของ|ประเทศ|', '|ทั้ง|แอป|', '|บัญชี|ฝากประจำ|ของ|', '|หมุนเวียน|และ|สินเชื่อ|ได้|เพิ่ม|', '|ไป|ตู้', 'บัตร|', '|สแกน|จ่าย|', '|เมื่อ|', '|โดย|ใช้|', '|เพิ่มเติม|', '|ibank|', '|ทุ่ม|กว่า|ๆ|', '|nav|', '|jaymart|', '|ไป|', '|มั้ง|', '|เสีย|ค่าธรรมเนียม|', '|เดือน', '|banking', '|note|', 'งง|มาก|', '|ปี|', '|ล่ม|ตั้งแต่|เมื่อวาน|', '|sch|', '|บัตร|อนุมัติ|', '|ปันผล|', '|เอ้า|', '|e-statement|', 'อีก|', 'กรุงเทพ|', '|2140|', '|ไป|เข้า|', '|mpass|', '|แต่|ไม่|สามารถทำได้|', '|โค|วิท|', '|amount|', '|citi_ready|', '|ไม่ได้|เลย|', '|ญี่ปุ่น|', '|เดือน|แรก|', '|counter|', 'ที่|สำคัญ|', '|ธนาคาร|บอก|ว่า|', '|ได้|ด้วย|', '|finnomena|', '|เช็คยอด|', '|วัน|แล้ว', '|ปลายทาง|', '|ผม|เปิดบัญชี|ตั้งแต่|วัน|ที่', '|ไม่สนใจ|', '|kplus', '|error|', '|เบอร์|เดิม|', '|wechat|', '|เมษา|', '|ล่ะ|', '|จะ|ร้องไห้', '|gsb', '|failed|', '|ถ้า|เป็น|', '|ไหม|', '|จะ|ผ่าน|ไหม|ครับ|', '|pvd|', '|แต่|เงิน|หาย|', '|ที่ไหนได้|', '|ไม่ใช่|', '|พยายาม|', '|beyond|', '|ค่า|บ้าน|', '|uchoose|', '|กองทุน|', '|ซื้อ|', '|euro|', '|ไม่|ผ่าน|เกณฑ์|', '|หนึ่ง|', '|ของ|วันพรุ่งนี้|', '|บริษัท|', '|7500|', 'ทุกคน|', '|weverse|', '|ไม่|ขึ้น|ใน|', '|35|', '|ไป|ทำ|ที่|ตู้', '|ต่อ|ปี|', '|สำเร็จ|', '|520|', '|เถอะ|', '|kjourney|', '|ยัง|เข้า|ไม่ได้|', '|แสน|ต่อ|เดือน|', '|.', 'ไหน|ๆ|', '|จนถึง|', '|300|', '|ลูกค้า|', '|ใช้เวลา|', '|แต่|อัน|ที่|ท้อป|อัพ|', '|ไม่ได้|ใช้|', '|gen|', '|499|', '|สงสัย|ว่า|', '|2563|', '|5', '|เมย|', '|มัน|ของ|', '|แสน', '|ขออภัย|ครับ|', '|refinance|', '|โอน|วัน|ที่', '|กับ|บัตร|', '|ก่อนหน้านี้|', '|advisor|', '|แจ้ง|ว่า|ระบบ|การ|รับเงิน|ทาง|', '|แอป|ฯ|', '|เสร็จ|', '|มี|.|ค.|', '|จะ|โดน|หัก|ดอกเบี้ย|รายวัน|ไหม|ครับ|', '|ขั้นต่ำ|เปิด|พอร์ต|ห้า|แสน|บาท|', '|ทิพ|ย|ประกันภัย|', '|scb_thailand|', '|9.00|', '|โหลด|แอป|', '|2', '|ตัวเอง|ได้|', '|พ.ย.|', '|65', '|ค่ะ', '|สรุป|', '|เดือน|แล้ว|', '|เซ็ง|มาก', 'กรุงไทย|', '|2562|', '13|', '|ไม่มี|', '|ฮา|ๆ|', '|default|', '|ตอนนี้|โต|แล้ว|', '|เปิด|ๆ|', '|คลิก|เพื่อ|ดู|ข้อความ|ที่ซ่อน|ไว้|ใส่|ข้อความ', '|ดี|', '|ทำ|ยังไง|ดี|ครับ', '|60000|', '|ไว้|ใน|', '|บัตรเครดิต|bbl|', '|search|', '|check|', '|ขึ้น|วงเงิน|มา|', '|makeups|', '|แค่|', '|mind|', '|จ.|เพชรบูรณ์|', '|ทำ|อย่างไร|ได้|บ้าง|คะ|', '|เสียดาย|', '|เลขที่บัญชี|', '|กลัว|โดน|หลอก|', '|แล้ว|รอ|', '|อยู่|ไหม|คะ|', 'ยอมแพ้|ที่', '|easy_invest|', '|xpress|', '|ทำไม|เข้า|ไม่ได้|อะ|', '|สัญญา|ผูกพัน|ธ|์|กับ|ธนาคาร|', '|บอก|ให้|รอ|', '|mbanking|', '|ยัง|มี|', '|ทำไง|ครับ|', '|ผ่านไป|', '|ปี|ที่ผ่านมา|', '|080|', 'ติดต่อ|', '|พรุ่งนี้|', '|สัก|', '|life|', '|ให้|หน่อย|', '|ได้|ไหม|ค่ะ|', '|เลย|นะ|', '|ฝ่าย|สินเชื่อ|', '|vpn|', '|ตั้งแต่|เมื่อวาน|', '|ขอบคุณ|ล่วงหน้า|ค่ะ|', '|ประกัน|สุขภาพ|', '|พูด|แล้ว|ทั้ง|เศร้า|ทั้ง|โมโห|', '|เติม|ผ่าน|', '|5000|', '|ก็|ไม่|ผ่าน|', '|scb_easy', '|ที่|บริษัท|', '|งง|อ่ะ|', '|พอดี|', '|ไม่ได้', 'ขอ|สอบถาม|หน่อย|ค่ะ|', '|หมื่น|', '|2|-|4|', '|เวลา|', '|กับ|bay|', '|ชื่อ|ญาติ|', '|พวก|', '|02|', '|vi|', '|mrt|', '|ตัด|ไป|', '|ไม่|หยิบ|เงิน|ออกจาก|ตู้|', '|ไม่ก็|', 'อิ|', 'นาๆ|', '|save|', '|ยัง|ไม่|เข้า|เลย', 'paotang|', '|10.2|', '|npl|', '|พอ|ถึง|วัน|ที่', 'cigna|', '|เพียง|', '|ต้อง|รอ|ตรวจสอบ|', '|แอป|ล่ม|', '|95|', '|ไว้|ไหม|คะ|', '|ธนาคารกรุงไทย|ได้|', '|จุด|', '|บ้าน|แล้ว|ไม่รู้|จะ|เอา|เงิน|ไป|ทำ|อะไร|ก็|ไปหา|ฝาก|ที่นี่|ก่อน', '|บาท|วันนี้|', '|scb|', '|ได้|ค่ะ|', '|ที่ธนาคาร|', '|เอง|', '|อี|ควาย|', '|บาง|ธนาคาร|ต้อง|ใช้|', 'รบกวน|สอบถาม|ค่ะ|', '|เปิด|พร้อมกัน|', '|เวลา|ติดต่อ|', '|โอนเงิน|ออกจาก|บัญชี|เรา|เอง|', '|ทำ|ยังไง|ก็|ไม่|ผ่าน|', '|ใน|', '|kbank_live', '|steam|', '|600|', '|ถ้า|ติด|แบล็คลิสต์|', '|kma|', '|แจ้ง|บัญชี|ของ|คุณ|ผิดปกติ|', '|rop|', '|แล้ว|ส่วน|ของ|บัตร|', '|บ|ลา|', '_carestatus|', '|ธนาคาร|kbank|', '|2700|', '|ระบบ|อัตโนมัติ|', '|ของ|', '12|', '|simple|', '|ทุ่ม|ของ|มึง|เนี่ย|เหมือนกัน|เลย|จ๊ะ|', '|สำนักงานใหญ่|', '|od|', '|bookbank|', '|เลิก|ใช้|วอ|เลท', '|jitta|', '|jcb|', '|kbank_wisdom|', '|cap|', '|bualuang|', '|ไม่รู้|จะ|ทำไง|แล้ว|', '|starbucks|', '|บน|มือถือ|', '|ก่อน|ครับ|', 'ktc|', '|ใช่ไหม|คะ|', '|bbl', '|gs|', '|ธนาคาร|เลย|', '|จนถึง|บัดนี้|', '|safari|', 'tmb|', '|แง|', '|หมื่น|อัพ|', 'ป|ล.|', '_', '|หายไป|', 'เรา|เลย|โทร|ไป|ที่', '|ทาง|', '|14|', '|มี|ข้อความ|จาก|', '|ป่ะ|', '|โอนเงิน|ไม่ได้|', '|ฮือ|', '|เอา|จน|ว่า|รำคาญ|', '|krungthai_next|', '|จริง|', '|อยู่|เลย|ครับ|', 'ขอ|สอบถาม|ผู้รู้|หน่อย|ครับ|', '|โอนเงิน|เข้าบัญชี|', '|ไป|อีก|', '|ทำไง|ดี|ครับ|', '|ป่า|รอยต่อ|', '|ลง|', '|paul|', '|4', '|ถูก|', '|ถาม|เรื่อง|', '|google|', '|ชำระ|', '|บ|', '|ง่าย|ดี|', '|เงียบกริบ', '|ก.|ย|.|', '|ยัง|ไม่|เข้า|', '|ไม่สามารถ|ดำเนินการ|ใดๆ|', '|เข้า|scb|', 'เติมเงิน|ผิด|เบอร์|ครับ|', '|banks|', '|simplicity|', '|268|', '|61|', '|และ|มี|', '|ไปยัง|bbl|แต่|เงิน|ไม่|เข้า|', '|จะ|มีโอกาส|ผ่าน|ไหม|ครับ|', '|ที|', '|fund|', '|ซ่อม|ศูนย์|', '1|', '|มีโอกาส|', '|aeon|', '|แบบนี้|', '|1333|', '|ต้อง|นำ|บัตร|', 'บัตร|หัว|', 'ปิดบัญชี|', '|ด้วย|ครับ|', '|ใน|วัน|ที่', '|ktb', '|คน|', '|สัปดาห์|', '|ว้อท|', '|หมายถึง|', '|กัน|แน่|', '|แต่|หักเงิน|จาก|บัญชี|', '|เห้อ', '|แล้ว|ต้อง|ทำ|อะไรบ้าง|', '|digital|', '|ใช้ไม่ได้|', '|แสดง|ว่า|', '|พี่|', '|ไม่ต้อง|ไป|ธนาคาร|', '|เลย|ค่ะ', '|generali|', '|line', '|เท่านั้น', '|offer|', '|โทร|กลับ|ไม่|เกิน|วัน|ถัดไป|', '|pro|', '|ตอนนี้|คือ|', 'ๆ|', '|เวรกรรม', '|สงสัย|', '|scb|.', 'ไป|ขอ|สินเชื่อ|', '|eur|', '|ไม่มีภาระ|หนี้สิน|', '|ยกเว้น|', '|citibankgold|', '|10', '|และ|จน|ป่านนี้|', '|ไหม|ค่ะ|', '|k-cyber|', '|ขอบคุณ|นะ|ครับ|', '|1.6|', '|โอนเงิน|ไป|แล้ว|', '|ละ|เพิ่ม|', '|scbtmf|', '|call|', 'หวัง|ว่า|', '|โทร|ไป|ก็|ไม่ติด|', '|_', '|ผม|ใช้|', '|fun|', '|เป็น|อะไร|อ่ะ|', '|บาท|ครับ|', 'ใน|', '|ฟรี|', '|ไม่|เลย|', '|เช็ค|', '|ทำ|ยังไง|', '|ทำไง|ดี|ค่ะ', '|คับ|', '|kbankxblackpink', '|เฮ้อ|', '|bay|', '|for|', '|ด|', '|pass|', '|mask|', '|บลจ|', '|pos|', '|หลังจากนั้น|', '|เป๊ก|ผลิต|โชค|', '|ได้|หรือไม่|ครับ|', '|kept|', '|fb|', '|ใคร|เข้าระบบ|ได้|มั่ง|ครับ|', '|โทร|หลาย|รอบ|', '|สตางค์|', '|2200|', '|มัน|มีระบบ|คล้ายๆ|', '|reset|', 'อยาก|ยกเลิก|บัตร|', '|เอา|บัตร|ป|ป|ช|.|', '|2|-|3|', '|ใหม่|', '|ที่', '|23|xxx|', '|เท่า|ค่ะ', '|t_t|', '|ไหน|', '|atm-|', '|ไป|เข้าบัญชี|', '|สมาร์ท|', '|ง|อง|', 'atm|', '|asia|', '|ไปที่|', '|user|', '|ผม|ว่า|', '|me|', '|ของ|ทหาร|ไทย|', '|เอา|ดิ|', '2.|', '|แก้ไขปัญหา|ให้|เสร็จ|ภายใน|', '|นี่|จะ|', '|post|', '|rewards|', '|ที่|ชำระเงิน|', '|ก|พ|', '|เดือน|ขึ้นไป|', '|ชอบมาก|', '|จ่าย|รายเดือน|', '|ครับ', '|version|', '|noti|', '|ได้|ค่ะ', 'กดเงิน|', '|เรา|ติดต่อ|ไปที่|เบอร์|โทร|สำนักงานใหญ่|ไฟแนนซ์|ไทยพาณิชย์|บอก|ว่า|จะ|ติดต่อ|กลับมา|', '|แล้ว|ทาง|', '|แพลทินัม|', '|ats|', '|ที่|', '|จ่าย|ไป|', '|ทำ|', '|2692|', '|ฟ|รีๆ|', '|ได้|ดอกเบี้ย|อยู่|', '|ธนาคาร|ก็|ปิด|ทำการ|แล้ว|', '|มี|ค.|', '|พอ|กลับมา|ที่|', '|ต่อมา|', '|bay', '|กว่า|บาท|', '|แล้ว|', '|ชั่วโมง', '|ปรากฏ|', '|สถาบันการเงิน|ชื่อดัง|', '|connect|', 'รีวิว|', '|e-saving|', '|เดือน|ครับ|', '|website|', '|ทุกวัน|', '|เวลา|ประมาณ|', '|ก.พ.|', '|บาท|ขึ้นไป|', '|timeout|', '|ไปยัง|', '|อื่น|', '|แย่|จริงๆ|', '|เรา|โอนเงิน|จาก|', '|อยู่', '|ทาง|kbank|', '|เลข|อ้างอิง|', '|momo|', '|พนักงาน|บอก|', '|อี|หน้า|เหี้ย', 'กด|บัตร|', '|โหลด|', '|เปิดบัญชี|กรุงไทย|', '|ซึ่ง|ทาง|', '|ธนาคาร|แบบนี้|', '|เติม|ไป|', '|passport|', '|กว่า|ปีก่อน|', '|บอก|อี|กว่า|', '|จำนวน|', '|ตอนนี้|มี|', '|ซึ่ง|ไม่|ตรงกับ|ที่|โครงการ|ดีล|ไว้|เลย|ครับ|', '|อีก|', '|uk|', '|ของ|ทั้ง', '22|1163|', '|กะ|', '|ไม่มี|กำหนด|หมดอายุ|', '|leasing|', '|pin|', '|ขออภัย|', '|verified|', '|ค่าธรรมเนียมรายปี|', '|ตลอด', '|ไม่มีปัญหา|เลย|', '|exchange|', '23|', '|and|', '|ว่า|', '|รอสาย|', '|kce|', '|เป็นหลัก|', '|kerry|', '|อิ|เหี้ย|', '|ดี|ค่ะ|', '|เดิม|', '|ทุก|ช่องทาง|', '|น.|', '|ssf|', '|family|', '|ai|', '|ข้อเสีย|', '|ขอคำแนะนำ|หน่อย|ค่ะ|', '|จะ|มี|', '|uninstall|', '|ไป|แจ้งความ|', '|ก็|ปิด|', '|แต่|ไม่แน่ใจ|ว่า|', '|พร้อมเพย์|', '24|', '|สะดวก|', '|เป็นไร|วะ|', '|ถาม|', '|ไม่|รองรับ|', '|ได้|ไหม', 'ขออนุญาต|สอบถาม|ครับ|', '|หักเงิน|ใน|บัญชี|ไป|แล้ว|', '|1000|', '|เปิด|บัญชีเงินฝาก|', 'เจ้าของ|กระทู้|', '|ลดเหลือ|', '|นั่น|คือ|', '|บาท|เอง|', '|มี|บัตร|', '|welcome|', '|10.30|', '|ttb|', '|.|co|.|th|', '|ก็|ล่ม|', '|เดือนก่อน|', '|ตาม|นี้|ครับ|', '|ปีก่อน|', '|mastercard|', '|bbl|ค่ะ|', '|แต่|บัญชี|ปลายทาง|ไม่ได้|รับเงิน|', '|และ|ให้|เรา|ยืนยัน|ตัวตน|', '|บ่าย|', '|ป|ช|ช|', '|scbsete|', '|เลย|ด้วย|', 'สมัคร|บัตร|', '|ล่ม|บ่อย|มาก|', '|ใบ|ที่', '|บาท', '|คิว|ยาว|', '|แต่|ไม่สามารถ|', '|ค่าธรรมเนียม|บัตร|', '|แต่กลับ|ไม่มีใคร|โทร|มา|ทวง|เลย|กลับเป็น|ส่ง|', 'เป็น|', '|ขอบคุณ|คับ', '|ทั้งๆ|', '|เห็น|บาง|ธนาคาร|ไม่ต้อง|ใช้|แสตมป์|ภาษีอากร|', '|งวด|ละ|', 'ไป|', '|หักบัญชี|', '|coins|', '|ละ', '|kb|', '|ksme|', '|2330|-|0000|', '|ผิด|', 'จริงๆ|', '|opened|', '|ธนาคารไทยพาณิชย์|', '|contact|', '|1|-|3|', '|แอป|ค้าง|', '|ไหม|ครับ|', '|910|', 'อ่ะ|', '18|', '|นะ|ครับ', '|ได้|ครับ|', '|199|', '|to|', '|ฝาก|', '|ได้แก่|', '|ยากเย็น|', '|easypass|', '|3.|', '|ไม่มี|บัตร|', '|up|', 'คือว่า|ผม|สั่งซื้อ|', '|ปี|คะ|', '|หัก|ต้น|ไป|แค่|เดือน|ละ|', '|ซื้อ|หวย|', '|ก็ได้|คะแนน|', '|มี|ค|', '|ขอบคุณ|มาก|ครับ', '|ล่ม|เก่ง|', '|ของ|ระบบ|', '|หัวใจ|ของ|เรา|มัน|จะต้อง|', '|ก็|เป็นส่วนหนึ่ง|ครับ', '|มัน|', 'เซ็ง|', '|เรา|ก็|โทร|เข้าไป|อีก|', 'ทำ|บัตร|', '|โบราณ|จะ|ตาย|ชัก|', 'มี|', '|ปลายทาง|kbank|', '|tt', '|เมื่อคืน|', 'โทร|ถาม|', '|เครื่อง|', '|ก็|ยัง|รู้สึก|ยุ่งยาก|และ|', 'พร้อมเพย์|ต้อง|ไป|ติดต่อ|กับ|ธนาคาร|เจ้าของ|บัญชี|เพื่อ|ลงทะเบียน|ผูก|บัญชี|เข้ากับ|หมายเลขโทรศัพท์|ครับ|', '|โทร|ไป|คอลเซนเตอร์|', 'ถ้า|ใช้|', '|esso|', '|ยัง|ไม่|ได้รับ|', '|-|19|', '|เช็ค|จะ|', '|แต่|ไม่|เข้า|บัช|ชี|', '|card', '|k-express|', '|เดือด|ร้อนมาก|', '|สินเชื่อ|เสริม|พลัง|ฐานราก|', '|ดอน|เมือง|', '|ใดๆ|', '6|', '|activate|', '|tt|', '|วัน|แล้ว|ค่ะ|', '|ชื่อ|ธุรกิจ|โดย|ชื่อ|เจ้าของร้าน|', '|หมด|เลย|', 'uob|', '|กรกฎาคม|', '|ด้วย|ค่ะ|', '|0.001|', '|เจอ|', '|ได้|หรือไม่|คะ|', '|ยัง|ไม่ได้|เลย|', '|โต|ขึ้นมา|คุณ|เลย|เป็น|คน|รู้จัก|อดทนอดกลั้น|', '|8.1.2020|', '|ท|รู|มูฟ|', '|scbs', '|society|', 'จาก|', '|ตอน|จำเป็นต้อง|ใช้|', '|เน็ต|', '|เรื่อง|มีอยู่|ว่า|', '|วอ|เลต|', '|pttor|', '|ส่วน|พวก|', '|ผม|ก็|', '|บัตรเครดิต|', '|เมื่อ|วัน|ที่', '|ปกติ|ที่|ถอน|คือ|', '|อยาก|ทำ|บัตร|', '|point|', '|honda|', '|จ่ายเงิน|ไม่ได้|', 'ว่าแต่|', '|บาท|ผ่าน|พร้อมเพย์|', '|ทำ|ยังไง|ได้|บ้าง|คะ|', '|ปี|แล้ว|ครับ|', '|เข้าใจ|ว่า|', '|ผม|ต้อง|ทำ|อย่างไร', '|login|', '|ไม่มีเงิน|แล้ว|', '|อันนี้|ไม่|รู้ว่า|สรุป|เป็น|ยังไง|บ้าง|', '|ที่|ลง|', '|บางที|', '|ออ|ป|โป|', '|เงินเข้า|ปกติ|', '|แต่|ของ|', 'เรื่อง|มีอยู่|ว่า|', '|20.57|', '|สแกน|หน้า|', '|scbeasyapp|', '|หน่อย|', '|my|', '|เขา|เลย|ป|ริ้น|ให้|', '|เป็น|เบอร์|', '|ทำไม่ได้|', '|credit|', '|จ่าย|', '|สอบถาม|หน่อย|นะคะ|', '|channel|', '|เป๋า|ตังค์|', '|นี่|', 'ความคิดเห็น|ที่', '|10.32.0|', '|หรือเปล่า|ครับ|', '|เป็น|ไฟแนนซ์|ไทยพาณิชย์|ก่อนหน้านี้|', '|ชั่วโมง|แล้ว|', '|ธนาคาร|', '|ขอความช่วยเหลือ|', '|start|', '|ผม|อายุ|', 'ธนาคาร|อื่น|', '|แล้ว|ลง|ใหม่|', '|ของ|วันนี้|', '|top|', '|คืน|', '|นะ|', '|ต้อง|ไป|ทำ|ที่ธนาคาร|', '|ธนาคาร|ล่ม|', '|เหมือน|มีปัญหา|กด|โอนเงิน|ไป|แล้ว|เงิน|เด้ง|', '|ไปที่|สาขา|', 'ผม|เอาไว้|กัน|เวลา|ไป|ต่าง|พื้น|ที่แล้ว|มี|แค่|ตู้|เดียว|', '|300000|', '|28|', '|max|', '|เจ้าหน้าที่|', '|สมัคร|', '|จะ|ผ่าน|ไหม|', 'เมื่อวาน|', '|หรือ|ป่าว', '|75|', '|เหอะ|ๆ|', '|cigna|', '|big|', '|นะ|ครับ|', '|1.|ktc|', '|ไม่ได้|', '|โอน|จาก|', '|ขึ้น|', 'tao|', '|-', '|bk|', '|รหัสผ่าน|', '|code|', '|แลกเงิน|ตาม|โป|ร|', '|หน่อย|ค่ะ|', '|คือ|ไร|อ่ะ', '|bank|', '|cr|.|', '|คน|ทำคนเดียว|กัน|เหรอ|', '|ratsaenmueang|', '|อี|', '|รอบ|ไม่|ผ่าน|', '|โมง|ครึ่ง|', '|ขอ|สอบถาม|หน่อย|ค่ะ|', '|ต้อง|ไป|สาขา|', '|t|1|', '|35000|', '|หมายเลข|อ้างอิง|', '|อันนี้|ก็|แล้วแต่|', '|ประมาณ|', '|ย|', '|อีกที|', '4|363|', '|debit|', '|ติด|', '|แล้วก็|', '|งับ|', '|บาท|อะ|', '|กรอก|ข้อมูล|แล้ว|', '|อายุงาน|', '|อ่ะ|', '|80|', 'เหมือน|', 'หลักๆ|', '|t|', '|ค่าธรรมเนียม|', '|youth|', '|23000|', '|พอ|เข้าไป|จะ|สมัคร|จริงๆ|', '|planet|', '|email|', '|ยืน|', '|ดู|สรุป|ยอด|ซื้อ|', '|ขายของ|เช็ค|ยากมาก|ค่ะ|', '|be|', '|scb_prime|', '|หมดอายุ|', 'ขอบคุณ|มากๆ|', '|ก็|เสือก|ไม่|เข้า|', '|แต่|เงิน|ไม่|เข้า|', '|แบบ|ใช้|', '|ช่วง|', '|cvc|', '|กลัว|จะ|มีปัญหา|', '|รอ|มา|', '|ๆ|คะ', '|ไม่มี|สมุดบัญชี|', '|1.1|', '|จาก|ตู้', '|วัน|ครับ|', '|1.2|', '|แล้ว|พอ|', 'ใคร|ใช้|', '|due|', '|18.00|', '|รักษา|', '|ล่าสุด|', '|จำกัด|', '|ใช้|ของ|', 'weply|', '|ทวง|แทน|', '|chubb|', '|ก็ได้|ค่ะ|', '|หมด|', '|พิจารณา|', '|เลย|นะคะ|', '|จะ|เป็น|', '|ไหน|ๆ|', '|ได้|เลย|', '|ครบ|', 'รบกวน|', '|โดยเฉพาะ|', '|ประกันสังคม|', '|10000|', '|ไม่|ใช้|เงิน|จนกว่า|จะ|เก็บ|ถึง|เป้า|', '|backup|', '|อัตโนมัติ|', '|1.|', '|สูงกว่า|', '|เริ่ม|', '|มี|เพื่อน|ๆ|', '|เป็นการ|ผิดพลาด|ใน|การ|ตีพิมพ์|เอกสาร|', '|84|', '|speedy_loan|', '|งง|ๆ|', '|ไม่มี|ครับ|', '|สอบถาม|', '|ไม่|อยากให้|พัก|หนี้|ใช่ไหม|ถึง|ไม่ติดต่อ|กลับมา|ทำไม|ถึง|ติดต่อ|กลับ|ได้|ยากเย็น|เพียงนี้', '|twitter|', '|เข้า|เมื่อกี้|เลย|', '|scb|ค่ะ|', '|6|', '|ธนาคาร|นี้|', 'โหลด|แอป|', '|ถ', '|traveloka|', '|kbankxblackpinkfanmeeting', 'ผม|สงสัย|ว่า|', '|รบกวน|', 'แม่|ง|', 'callcenter|', '|1851|', '|รีวิว|เกาหลี', '|ไม่ได้|ครับ', '|ก็|', '|กบข.|', '|เสียความรู้สึก|มาก|', '|ฯลฯ|', '|อ|ห|', '|5400|', '|2400|', '|truemoneywallet|', '|มี|แค่|', '|จน|วันนี้|เพิ่ง|มี|หมายศาล|ส่ง|มา|ที่บ้าน|ที่|', '|ๆๆ|', '|k-my|', '|เซ|ง|', '|ต้นเดือน|', '|23|', '|ktz|', '|มา|ที่|เบอร์|', '|scbeasy|', '|1315|', 'เวร|ละ|', '|เป๋า|ตัง', '|ต้อง|โทร|ไปหา|', '|ชิม|ช้อป|ใช้|', 'โอน|จาก|กรุงไทย|', '|ไม่|ถึง|', '|เงินเข้า|', '|คนละ|ครึ่ง', '|ก็|ใช้|', '|แล้ว|อยู่|ๆ|', '|มือถือ|หาย|', '|โยน|กัน|ไป|โยน|กัน|มา|', '|ไว้|แล้ว|', '|tmrw|', '|ปี|ครับ', '|ถาม|จริง|', '|รอ|ไป|', '|โปรด|ยืนยัน|ตัวตน|', '|got|7|keepspinninginbkk', '|11|', '|wealth|', '|ไม่เคย|กู้|อะไร|กับ|กรุ|ศรี|คับ|', '|ชาติหน้า|คะ|', '|ติดต่อ|ไม่ได้|', '|2.78|', '|ถ้า|เปิด|', '|nikecom|', '|buntoshi|', '|s|21|', 'รบกวน|สอบถาม|หน่อย|ครับ|', '25|', 'ได้|ดอกเบี้ย|', '|ใน|เวลา|', '|มี|สลิป|แต่|เงิน|ไม่|เข้า|ทำไง|บอก|ที|และ|จะ|ได้|เงิน|คืน|ไหม|ม', '|หน่อย', '|400|', '|มี|บัญชี|kbank|', '|อ๋อ|', '|aot|', '|555', '|ล่ม|หรอ|', '|เกือบ|ทั้ง|องค์กร', '|ยกเว้น|ของ|scb|', '|ดูๆ|', '|เร็วๆ', '|covid|', '|ราคา|หุ้น|', '|bitcoin|', '|arkk|', 'รอ|', '|พอดี|ว่า|', '|shanghai|', '19|', '|ดู|ครับ|', '|ปัด|ตก|', '|jitta_wealth|', '|แต่|สมัคร|', '|atmdebit|', '|ธนาคาร|ghb', '|เพื่อ|สะสมแต้ม|', '|รอคิว|', '|oil|', '|ktb|.|', '|กุมภาพันธ์|', '|ผ่าน|', '|so|', '|number|', '|31|', '|5500|', '|flow|', '|fwd|', '|มี|แอ|ฟ|', '|3500|', '|ต้อง|ใช้|บัตร|', '|แบงก์|', 'สวัสดี|ครับ|', '|up|2|me|', '|แต่|เจ้าหน้าที่|', '|เสือก|บอก|ให้|กุ|ไป|ขอ|รหัสพิน|กับ|ธนาคาร|', '|master|', 'เย่|', '|ลำ|ลูก|กา|', '|savings|', '|หรือ|มากกว่า|', '|ก็|ติดต่อ|ไม่ได้|', '|touch|', '|km|', '|ยื่น|ไป|', '|book|', '|หรือ|เหลือ|แค่นั้น|', '|กับ|รหัส|', '|40|', '|ไว้ใจ|เอา|เงิน|ไป|ฝาก|', '|scb_jcb|', '|ก่อน|', '|โครต|เชง|', '|สอบถาม|นิดนึง|ค่ะ|', '|หรอ|คะ|', '|โอนเงิน|มา|ให้|แล้ว|ครับ|', 'ขอบคุณ|', '|แก้ไข|อย่างไร|', '|27|', '|งง|มาก|ครับ|', '|ใช้จ่าย|', '|แต่|ใช้ไม่ได้|คะ|', '|พบว่า|', '|20|', '|มากกว่า', 'kept|', '|mail|', '|tablet|', 'ของ|ผม|', '|ยอด|ไม่|เข้า|', '|ทราบ|เพราะ|พี่|ข้าง|บ้าน|ทัก|มา|บอก|ใน|ไลน์|', '|เงิน|ใน|', '|แต่|เงิน|ยัง|ไม่|เข้า|', '|มี|ไหม|', '|ไร|งี้|', 'แล้ว|แต่ละ|ธนาคาร|ใช้|เอกสาร|อะไรบ้าง|ครับ|', '|ช่วงเวลา|', '|ดี', '|แย่|แย่|แย่', '|ลอง|', '|น่าจะ|', '|อี|สัส|', '|โอนเงิน|', '|ผ่าน|มือถือ|ผ่าน|แอป|', '|thai|', '|เย็น|', '|จะ|ทำ|อย่างไร|', 'คำถาม|ที่', '|report|', '|หัว|เว่ย|', '|มี|สลิปเงินเดือน|', '26|', 'ขอ|', '|เส้า', '|barcode|', '|แต่|บัตร|ใหม่|ที่|เป็น|', 'โอน|เงินเข้า|', '|t-t', '|ยกตัวอย่างเช่น|', '|transaction|', '|name|', '|แล้ว|โหลด|แอป|', '10|263|', '|แต่|ประเด็น|คือ|', '|ชม.|', '|ก็ได้|', '|โฉนด|', '|เมื่อวาน|ไป|ทำ|เรื่อง|ก็|ทำไม่ได้|', '|speedy|', '|เร็วๆ|', '|tmb|.|', 'ฝาก|ธนาคาร|ก็ได้|ดอกเบี้ย|น้อยนิด|', '|out|', '|40000|', '|โท|ร.|', '|6896|', '|บ.|ช|.|', 'มี|บัตรเครดิต|', '|ต้องการ|ปิดบัญชี|ไป|เลย|', '|โบนัส|', '|date|', 'ขออนุญาต|', '|uid|', '|จะ|ใช้|เงิน|', '|ของ|วัน|ที่', '|kkp|', '|ต้อง|', '|ลองดู|นะคะ', '|ขอนแก่น|', '|ยกเลิก|', '|แต่|จ่าย|ผ่าน|', '|yen|', '|แอ|ฟ|', '|ผ่อน|ได้|', '|chat|', '|kbankxblackpink|', '|เปลี่ยน|มา|', '|ระบบ|แจ้ง|ว่า|', '|tmb', '|ยอด|จาก|อนาคต|ตอน|', '|ได้มา|', '|แปลกๆ|', '|ตาม|', '|มี|ประวัติ|ล่าช้า|', '|ชม|', '|ipad|', '|มากกว่า|', '|cpall|', '|แต่|เงิน|ไม่|เข้า|ครับ|', '|ก็|ยัง|เหมือนเดิม|', '|ยืนยัน|ตัวตน|ปุ๊บ|', '|14000|', '|รวม|', '|แม้แต่|บัตร|', 'เตือนภัย|', 'กัน|', '|ประ|มาน|', '|ของ|ธนาคาร|', '|รบกวน|ทาง|', '|คน|ไม่|เยอะ|', '|สมุทรปราการ|', '|kbank|เอาเปรียบ|บ|ลิงค์|', '|wha|', '|โทร|มา|', '|ตัด|บัตร|', 'bay|', '|ครั้ง|แล้ว|', '|ฉัน|', '|แต่|บัญชี|ปลายทาง|ไม่|ได้รับ|ยอด|', 'ช่วงนี้|', '|ก่อน|จะ|มี|โครงการ|พัก|หนี้|ของ|ธนาคาร|ต่างๆ|', '|ป|ล.|', '|slip|', '|13.00|', '|เท|ค|ไป|', 'พี่|ที่|ธนาคารกรุงไทย|ใจ|ดีมาก|', 'งง|', '|โมง|', '|บอก|ว่า|รีบ|เร็ว|เด่|ว|เต็ม|นะ|', '|ชื่อบัญชี|', '|สุดท้าย|คุณ|ก็|หยอด|จน|เต็ม|', 'โอน|จาก|', 'โทร|หา|', '|ok|', '|เท่านั้น|', '|อาทิตย์|', '|เลย|ครับ|', '|90|', '|บัตรเดบิต|', '|1599|', '|อยาก|สอบถาม|ว่า|', '|ซวย|ๆ|', '|2750|', 'krungthai_care|', '|รบกวน|ด้วย|นะคะ|', '|66|', '|scb_m_live|', '|ถัดไป|', '|บัตร|', '|บัตรประชาชน|', '|platinum|', 'เอ|อ|', '|อยาก|ร้องไห้|', '|ต้อง|ให้|หน้า|สมุดบัญชี|ตรงกับ|ผู้ที่|ลงทะเบียน|', 'k|8888|', '|19.35|', 'และ|', '|btc|', '|เข้า|พร้อมเพย์|กรุงไทย|', '|สวัสดี|ค่ะ|', '|65|', '|walk|', '|ตั้งแต่|ปี|', '|มีนาคม|', '|11.30|', '|เมื่อวาน|', '|เงิน|ตั้ง|', '|โดยประมาณ|', '|คัน|', '|ดู|', '|ยอด|', '|หลักๆ|', '|ฆ|ษ|ณ|', '|operator|', '|ถ้า|ยื่น|กู้|กับ|', '|ม|ค|', '|order|', '|vs|', '|bangkok|', '|เนื่องจาก|เรา|ย้าย|มา|อยู่|', '|ร้อยละ|', '|ตั้งแต่|ต้นปี|', '|ผม|ใช้|มา|', '|เอิ่บ', '|เอา|ง่ายๆ|', '|g|', '|ไม่|เกี่ยวข้องกับ|ข้อมูล|เครดตบู|โร|', '|17.00|', '|tmb_touch|', '|ฝากประจำ|', '|กด|โอนเงิน|', '|scblt|2|', '|มือถือ|', '|ท|รู|วอ|ล|เลท|', '|มี|', '|กันยายน|', '|โอน|เข้า|', '|ภายใน|', '|30|-|40|', '|สอบถาม|ทาง|', '|gift|', '|เพราะ|บัตร|กรุงไทย|ตัวต้นเหตุ|เลย|', '|ผ่อน|', '|cost|', '|แค่นั้น|', '|ย้อนหลัง|', '|ค่า|เทอม|', '|pc|', '|รวม|ๆ|', '|หมื่น|บาท|', '|ready|', '|อ่อ|', '|แย่|มากๆ|', '|ทำ|บัตร|', '|ถ้า|มี|บัญชี|', '|ไม่|ค่ะ|', '|ไป|ธนาคาร|', '|ก็|เลย|รีบ|กด|รับ|สิทธิ์|เลย|', 'โทร|หา|คอลเซนเตอร์|', '|ถึง|', '|ใช่ไหม|คะ', '|scb_m|', '|จะ|ยกเลิก|สิทธิ์|', '|อนุมัติ|', 'kbank_live|', '|nzd|', '|scb_easy|', '|100|k|', '|ท|รู|มูฟ|หรอ|', '|ป|ต|ท|', 'ลงทะเบียน|', '|อีก|ประมาณ|', '|เอา|จริงๆ|', '|กุม|ภา|', '|สีม่วง|', '|ของ|บัญชีธนาคาร|นิติบุคคล|ที่|ปิด|ไป|แล้ว|ต้อง|ทำ|อย่างไรบ้าง|คะ|', '7|', '|109|', '|แจ้ง|คอลเซนเตอร์|', '|robinhood|', '|ไว้|ก่อน|', 'สอบถาม|ธนาคาร|', '|ชม.|แล้ว|', '|กับ|ไทยพาณิชย์|', '|มี|เอกสาร|', '|ออก|', '|หรือว่า|', '|internetbanking|', '|72|', '|ทั้งหลาย|', '|ค้าง|', '|ล่ม|อี|ควาย|', '|เรา|ยัง|ไม่ได้|ข้อความ|เหมือนกัน|ค่ะ|', '|ไม่มี|พนักงาน|รับสาย|', '|ขอบคุณ|ครับ', '|แทน|', 'ข้อเสีย|ของ|', '|หมดความอดทน|', '|ขอบคุณ|ค่ะ', '|เสีย|', '|paywave|', '|หรอ|ครับ|', '|สีเทา|', '|opd|', 'อยู่|ๆ|', '|ต่างจังหวัด|', '|บ.|', '|เครื่อง|เก่า|', '|นี่|คือ|', '|รบกวน|ขอคำแนะนำ|ด้วย|ครับ|', '|ใหม่ๆ|', '|ซื้อได้|จนถึง|', '|premier|', '|เซ็ง|มากๆ|', '|snoopy|', '|อะไร|', '|ตอนนี้|เลย|', 'ธนาคาร|', '|ธนาคาร', 'เปิด|', '|เรา|ควร|ทำ|ยังไง|', '|ฮือ', '|เรื่อง|', '|ขอ|เอกสาร|เพิ่ม|', '|ref|.|1|', '|ก.|พ|', '|ครั้ง|', '|จบ', '25|320|', '|ปิด|', '|อ|ห|.', 'สอบถาม|เรื่อง|บัตรเครดิต|', '3|', '|62|', '|7|', '|เท่า|', '|ล้าน|', '|มา|ให้|', '|ktbnetbank|', '|ลด|', 'tmb_touch|', 'ใช้|', '|เรียกว่า|', '|id|', '|อยากได้|', '|ก็|ไม่ได้|', '|dolfin|', '|บช.|', '|หลาย|รอบ|แล้ว|', '|เบื่อ|', '|grow|', '|บอก|', '|ติดต่อ|ธนาคาร|', '|จน|ต้อง|ถ่อ|ไปถึง|โร|บิน|สัน|เอง|', '|inbox|', '|ตัว|ไหน|', '|ใคร|รู้|บอก|หน่อย|นะคะ|', '|ace|', 'อยากทราบ|ว่า|', '|สอบถาม|ค่ะ|', '|เลว|', 'จำได้|ว่า|', '|ขอบคุณ|ค่ะ|', '|การ|ขอ|เพิ่มวงเงินถาวร|', '|kfc|', '|ปีนี้|ได้|ไหม|ครับ|', '|10|m|', '|ตู้|', '|คนละ|ครึ่ง|', '|มา|ใหม่|', '|ปี|แรก|', '|สะดวกมาก|', '|waive|', '|ไว้|กับ|', 'แต่|', '|4|-|5|', '|เรา|', '|เติม|จาก|', '|ของ|gsb|แต่|ก็|ไม่มีใคร|รับ|เลย|พนักงาน|ติด|สาย|ทุก|คู่สาย|เป็น|ชั่วโมง|เลย|', '|สด|', '|hr|', '|แต่|ไม่|เกิน|', '|8|', 'สอบถาม|ค่ะ|', '|แล้ว|ใช้|', '|หรือ|บัตรเดบิต|', '|รบกวน|หน่อย|ครับ', '|ขอบคุณ|มาก|ค่ะ', '|code', '|unlock|', '|ล่ม|หมด|', '|ถ้า|', '|ป|ล|', '|mi|', '|2564|', '|พอกันที|', '|เป็น|', '|or|', 'อยาก|ถาม|ว่า|', '|ก็|ให้|ติดต่อ|', 'น้อยๆ|', '|next|', 'windy|', '|139|', '|ธ|', '|มุ|แง|', '|คำถาม|', '|นะคะ|', '|แต่|เงิน|ไม่|เข้าบัญชี|ปลายทาง|', '|scbam|', 'ลอง|ไป|ใช้บริการ|กับ|พนักงาน|เค้า|', '|เริ่มต้น|', 'กู้เงิน|กับ|', '|the|1|', '|เรา|ใช้|', '|ของ|ธนาคาร|ไหน|', '|แจ้งเตือน|', '|ยัง|เป็น|นิสิต|อยู่|', '|พูดจา|แย่มาก|', '|คือ|ถ้า|', '|วันนี้|วัน|ที่', '|เบอร์|แปลก|', '|ขอบคุณ|มากๆ|', '|jp|', '|เพราะอะไร|', '|220|', '|ของ|กรุงเทพ|', '|รอบ|แล้ว|ค่ะ|', '|อืม|', '|งง|เลย', 'เมื่อ|', '|นึกคิด|', '|wfh', '|two|', '|fast|', '|ก็ได้', '|tmb|', '|29000|', 'แอป|', '|2440|', '|ล่ม|', '|ขออภัย|ค่ะ|', '|แอป|', '|krungsri|', 'สอบถาม|', 'พอ|', '|รายเดือน|', 'สวัสดี|ค่ะ|', '|รบกวน|แนะนำ|ด้วย|นะคะ|', '|ล้าน', '|ใคร|ที่ใช้|อยู่|รบกวน|แนะนำ|หน่อย|ครับ', '|อยาก|สอบถาม|เพื่อน|ๆ|', '|ฝาก|เบอร์|โทร|กลับ|', '|ก็|มี|', '|พัก|ชำระเงินต้น|', '|แต่|เงิน|ไม่|เข้า', '|พนักงาน|แจ้ง|ว่า|จำนวน|ครั้ง|ที่|เข้า|จะ|นับ|ครั้ง|ตาม|การสรุป|ยอด|เข้า|บ|ช|', '|wise|', '|ผม|อยาก|ถาม|ผู้รู้|ครับ|ว่า|', '|ขอโทษ|ค่ะ|', '|ชื่อ|', '|เลิก|เบื่อ|', '|fundclick|', '|ไป|เลย|', 'คือ|', '|คะแนน|', '|tg|', '|เหมือนกัน|เลย|ค่ะ|', '|หรือ|ต้อง|', '|แสน|บาท|', '|โดยตรง|', '|รำคาญ|', 'วันนี้|ไป|ธนาคาร|ถาม|พนักงานธนาคาร|ถึง|การ|นำส่ง|ข้อมูล|บัญชีเงินฝาก|ไปยัง|กรมสรรพากร|ที่|มีเงื่อนไข|ว่า|รับ|โอน|', '|บาท|แล้ว|', '|17|', '|เฉลี่ย|', '|เสีย|ค่าธรรมเนียม|อีก|', 'บริการ|รับฝาก|', '|ง|อง|มาก', '|b|', '|กู|', '|แจ้ง|มา|ว่า|', '|108|', '|ตอน|', 'มีปัญหา|ใน|การ|เปิดบัญชี|', '|ซื้อของ|', '14|', '|6.6|', '|มีปัญหา|', '|หัก|ยอด|', '|โดยที่|ไม่ต้อง|ไป|ธนาคาร|', '|เข้า|ไม่ได้|เลย|', '|มา|ใช้|', '|รบกวน|ตรวจสอบ|ให้|ด้วย|ครับ|ฝ', '|เพราะ|บัตร|', '|64', '|เลย|โทร|ไป|ถาม|', '|travel|', '|จน|บัดนี้|', 'สมัคร|บัตรเครดิต|', '|แต่|มี|', '|tisco|', '|center|', '|ธนาคารกรุงไทย|', '|ทำ|บัตรเสริม|ของ|มาย|', '|อิอิ|', '|อยาก|ทุบ|นัก|ไอ้|ต้าว|กระปุก|หมู|นี่|', '|7|-|11|', '|ประกันภัย|', 'ใช่|ครับ|', '|นครนายก|', 'ธนาคารอาคารสงเคราะห์|', '|ถ้า|ส่ง|บัตร|มาแล้ว|ยัง|ใช้ไม่ได้|ใช่ไหม|ครับ|ถ้า|เชื่อม|กับ|แอป|', '|alipay|', '|ค่ะ|.|', '|ref|.|2|', '|edition|', '|แห|นะ', '|ั|', '|บัญชี|ปลายทาง|', '|ยัง|ไว|กว่า|เยอะ|', '|ถ่าย|บัตร|', '|ตอน|เปิดบัญชี|', '|จ่ายเงิน|', '|alert|', '|5|-|6|', '|อี|กรอบ|', 'เอ|', '|วัน|ทำการ|ครับ|', '|กอง|', '|55|', '|ดอก|', '|tmb_absolute|', '|23163|', '|วัน|ถัดไป|', '|ไม่สามารถ|', '|กดเงิน|ไม่|ใช้|บัตร|ไม่ได้|ค่ะ|', '|รึ|เปล่า|ครับ|', '|นานมาก|แล้ว|', '|ได้|ครับ', '|scb', '|รอ|ผล|', '|แก้ไข|', '|คุย|กับ|', '|2600000|', '|เมื่อ|กลางเดือน|ไป|เปลี่ยน|จาก|บัตร|', '|ระหว่าง|', '|สามารถ|', '|แล้วก็|ส่งจดหมาย|แจ้ง|ว่า|', '|ใช้ง่าย|', '|cancel|', '|โอ้|ย|', 'ตาม|หัวข้อ|เลย|ค่ะ|', '|ทุ่ม|ครึ่ง|', '|7600|', '|โทร|', '|ได้|วัน|ที่', 'ของ|', 'ยืนยัน|ตัวตน|ที่|ตู้', '|ไฟแนนซ์|ไทยพาณิชย์|โทร|มา|ทวง|', '|หรือ|กี่|ปี', '|ผ่อน|กับ|', '|เซ็ง|มาก|', '|bot|', '|v|', '|ตาม|หัวข้อ|เลย|ค่ะ|', '|apps|', '|แอป|กรุงไทย|', '|บาท|แน่ะ|', '|ทั้งที่|มี|', '|paypal|', '|แล้ว|ว่ะ|', '|ไม่งั้น|', '|ไป|กรุงไทย|', '|ไป|kbank|', '|โอเค|', '|30|k|', '|call_center|', '|ก็|มา|', '|อยู่|ๆ|', 'ใช่|ค่ะ|', '|คือว่า|', 'ผม|เดินบัญชี|กับ|', '|ไม่มี|เลย|', '|ขอบคุณ|มาก|ค่ะ|', '|ทั้ง|', 'ปกติ|', '|ทำไม|นาน|จัง|', '|หรือ|ต้อง|เสีย|เงิน|ไป|เปล่าๆ|', '|ลบ|', '|จู่ๆ|', '|ktef|', '|เป๊ก|ผลิต|โชค', '|โทร|เช็ค|กับ|ธนาคารกรุงไทย|ชัว|กว่า|ค่ะ|', '|กทม|', '|2545|', '|นานๆ|', '|มา|ครับ|', '|paste|', 'ขอบคุณ|ครับ|', '|กู้ร่วม|ได้|', '|2557|', '|password|', 'โอน|ไป|', '|ตอนนี้|เงินเดือน|', '|ก็|ไม่มี|ยอด', '|เงียบกริบ|', '|ชาย|คน|หนึ่ง|', '|อยากจะ|สอบถาม|ว่า|', '|นี่|โอน|จาก|', 'วันนี้|ตอน|', '|บัตร|หมดอายุ|', '|และ|บัตร|กดเงิน|', '|เปิดบัญชี|ใหม่|', '|ส่วน|ที่|ไม่ต้อง|เป็น|ผู้โดยสาร|ก็|เข้าไป|ใช้บริการ|ได้|', '|เยน|', '|ได้รับ|', 'เรา|อยากจะ|ติดต่อสอบถาม|เรื่อง|การ|พัก|หนี้|ค่ะ|', '|union|', '|ปลายทาง|ไม่ได้|รับเงิน|', '|สวัสดี|ครับ|', '|kbanklive|', '|บน|', '|contactless|', 'mymo|', '|ติดต่อ|', '|อาทิตย์|แล้ว|', '|ได้|ข้อมูล|ปั๊บ|', '|ควร|ทำ|ยังไง|ดี|คะ|', '|365|', '|อะ|ค่ะ|', '|เสียเวลา|', '|จะ|แลกเงิน|อ่า|', '|115000|', '|ค่า', '|แต่|แอป|', '2|8|', '|ใคร|เป็น|บ้าง|ครับ|', '|ไว้|', '|ซิ|ตี้|', '|60|', '|scb_connect|', '|ลงทุน|', '|คืนเงิน|', '|สำเนา|บัตร|', '|ทาง|เพจ|', '|ก็|คือ|', 'ติดต่อ|ไปที่|คอลเซนเตอร์|ของ|ทาง|กรุงไทย|', '|ก็|แล้ว|', 'เจริญ|', 'เติมเงิน|', '|ในนาม|บริษัท|', '|32300|', '|ยัง|ไม่|เข้า|เลย|ครับ', '|ใช่|ค่ะ|', 'เติมเงิน|ผ่าน|แอป|', '|ห่วย|ๆ|', '|บริการ|ดี|มากๆ|', 'โง่|เอง|', '|ห่วย|', '|ขออนุญาต|ถาม|หน่อย|ได้|ไหม|คะ|', '|แต่|พอกด|สมัคร|ไป|แล้ว|', '|โมโห|', '|remind|', '|งวด|ที่', '|37000|', 'ทำ|ประกัน|', '|ธนาคารอาคารสงเคราะห์|', '|protection|', '|สัญญา|', '|หรือไม่|ผ่าน|', '|iphone|', '|ได้|ไหม|ครับ', '|ได้|ไหม|คะ', '|จะ|โอนเงิน|', '|ไม่ทราบ|ว่า|จะ|ผ่าน|ไหม|คะ|', '|invest|', 'เรา|ชนะ|', '|ๆ', '|หาย|', '|1.6|-|1.8|', '|ผม|มี|ธนาคาร|ในใจ|อยู่แล้ว|', '|34|', '|รอบ|ที่', '|แต่|ถ้า|ไม่ใช่|', '|เรา|ชนะ', '|tbank|', '|sa|', '|oppo|', '|ดี|ไหม|', '|หมดแล้ว|', '|ได้|นะคะ|', '|ของ|bbl|', '|เมื่อ|เทียบกับ|', '|ถ้า|เกิน|', '|แต่|ใช้ไม่ได้|', '|งวด|', '|ล้าง|ข้อมูล|ใน|มือถือ|', '|เห็น|', '|ตั้ง|นาน|', '|ช|', '|22|', '|transfer|', 'ผม|', '|มี|ยอด|เงินโอน|เข้า|', '|รบกวน|ตรวจสอบ|ให้|ด้วย|ครับ', '|4.4|', '|covid|19|', '|tfex|', '|krungthai_connext|', '|prestigerop|', '|59|', '|thailand|', '|สอบถาม|โทร|', '|gulf|', '|แล้ว|มา|สแกน|ใหม่|', '|วิ่ง|ก่อน|', '|k-plus|', '|ขายหมู|', '|23.00|', '|บิ๊ก|ซี|', '|ตอบ|โจทย์|ที่สุด|', '|ark|', 'โอน|', '|จำเป็นต้อง|ใช้|เงิน', '|youtrip|', '|ตัดยอด|', '|ghb|', '|32|', '|browser|', '|ล่ม|อีกแล้ว|', '|เบอร์|ถูก|', '|promptpay|', '|ทั้ง|คนอื่นๆ|', '|click|', '|เจ้าหน้าที่|บอก|ได้|สิ|ท|ธ|์|แล้ว|ค่ะ', '|มัน|ขึ้น|แบบนี้|', '|cash|', '|กรุงไทย|เน็ค|', '|ต้อง|ทำไง|', '|2.3|', '|ไป|ไทยพาณิชย์|', '|เพื่อน|ๆ|', '|มา|บอก|ว่า|', '|เรย|', '|aliexpress|', '|วัน|ละ|', '|ยืนยัน|ตัวตน|ไม่ได้|', 'อยากให้|', '|เม.ย|', 'tmrw|', '|มา|นาน|', '|คือ|ยังไง|คะ|', '|cimb|', '|คุณ|', '|scb_mlive|', '|ของ|kbank|', '|ขอคำแนะนำ|หน่อย|ค่ะ', '|เลขบัญชี|', '|โอนเงิน|จาก|ธนาคาร|', '|ละ|', '|23.48|', '|เมื่อก่อน|', '|gateway|', '|เป็นเวลา|', '|2|g|', '|ตู้|แต่|ไม่มี|แบงก์|ย่อย|จ่าย|เลย|', '|citibank|', 'คือ|แบบ|', '|2500|', '|วงเงิน|', 'เมื่อ|วัน|ที่', '|ซึ่ง|สถานการณ์|ตอนนี้|ก็|คือ|ไม่|อยาก|ออกไป|ไหน|เลย|', '|161|', 'ขออนุญาต|สอบถาม|ค่ะ|', '|แลก|', '|เสียเวลา', '|dtac|', '|กด|', '|18|', '|กำไร|', '|baac|', 'รบกวน|สอบถาม|ครับ|', '|us|', '|cc|', '|1.8|', '|จะ|ได้|ไหม|คะ|', '|เข้า|ไม่ได้|', '|ต้อง|ทำ|ยังไง|ครับ|', '|ซื้อ|ผ่าน|', '|ก็ได้|นะ|', '|แง', '|สรุปว่า|', '|อยาก|บอก|ว่า|', '|เหลือ|แต่|', '|4.|', '|รบกวน|ด้วย|ครับ', '|และ|', '|แต่|หมดเขต|วันนี้|แล้ว|', '|ดังนี้|', '|ขึ้นไป|', '|เรา|ไม่|ทิ้ง|กัน|', '|7000|', '|เปลี่ยนเป็น|', '|pic|.|twitter|.|comrw|84|ubnuum', '|สลาก|ธนาคารเพื่อการเกษตรและสหกรณ์การเกษตร|', '|ฮะ|', '|ทำไง|ดี|คะ', '|ไม่มี|บัตรเครดิต|', '|อ|ห', '|unionpay|', '|เดือน|ค่ะ|', '|กุ|มีปัญหา|กับ|ไลน์|แมน|อีก|', '|บาง|', '|everyday|', '|ลง|เหลือ|', '|ลงท้าย|', '|จ่าย|ค่า|บัตร|', 'chanathammakhon|', '|10|', '|อีกครั้ง|', '|ของ|ธนาคารเพื่อการเกษตรและสหกรณ์การเกษตร|', '|ธนาคาร|หยุด|ไหม|คะ|', '|ของ|ผม|', '|วัน|ทำการ|', '|scb_m_luxe|', '|11000|', 'โอนเงิน|จาก|แอป|', '|มาแล้ว|', '|งง|ไป|หมด|', '|cardless|', '|a-mobile|', '|ติดต่อ|ยากมาก|', '|เกี่ยวกับ|', '|ขอบคุณ|นะคะ|', '|เพราะ|กลับ|ไทย|ก็|ไม่ได้|ค่ะ|ตอนนี้', '|490|', 'น่าจะเป็น|', '|ไม่ได้|ค่า|', '|20930|', '|พอร์ต|', '|ธันวาคม|', '|จริงๆ|', '|ร|ร|', '|ตัว|', '|510|', '|คล้ายๆ|', '|เติมเงิน|', '|งง|ค่ะ|', '|weply|', '|บาท|ถ้วน|', '|bunnytrader|', '|ครับผม', '|แต่|ยอดเงิน|ไม่|เข้า|', '|โอนเงิน|ไป|', '|scb|.|', '|หรือ|ไป|', '|ไหม|คะ|', '|16.08|', '|e-mail|', '|update|', '|ตลอด|', '|แล้ว|ครับ', '|บ้าน|ราคา|', '|จ่าย|ก่อน|', 'ghb|', '|ถ้า|เปิดบัญชี|', '|bualuang_m_banking|', '|ตอนนี้|พอจะ|ผ่อน|เลย|วางเงิน|นิ่ง|ๆ|', '|เอ|อ|', '|ไม่สามารถ|ทำ|รายการ|ได้|', '|ตราสาร|หนี้|', '|e-savings|', '|ตอนนี้|', '|device|', '|ฐาน|เงินเดือน|', '|ก็|เป็น|', '|เหมือน|', '|ช่วง|เดือน|', '|ยากมาก|', '|ขึ้น|ว่า|ไม่|พบ|ข้อมูล|การ|สมัคร|', '|2|', '|วัน|', '|แล้ว|ครับ|', '|อยาก|ถาม|ว่า|', '22|072019|', '|กับ|', '|25|', '|อยากจะ|ผ่อน|คอน|โด|ราคา|', '|speedy_cash|', '|แต่|ตอนนี้|', '|ไม่เข้าใจ|ว่า|', '|ต้อง|ยืนยัน|', '|ตั้งแต่|เมื่อวาน|ตอน|', '|ต|ค.|', '|8700|', '|มา|เป็น|', '|แบบนี้|เรา|ทำ|ยังไง|ได้|บ้าง|คะ|', 'mobile|', 'วันนี้|เวลา|', '|830|', '|เดือน|', '|ยัง|ไม่มีใคร|ติดต่อ|กลับมา|', '|สถานะ|เหมือนเดิม|', '|เงินเดือน|', '|อีห่า|', '|300', '|statement|', '|วัน|ค่ะ|', '|ไม่เคย|ติด|', '|อี|ซี่|', '|เงินฝากประจำ|กรุงไทย|', 'call_center|', '|อ้าว|', '|จะ|บ้า|ตาย', '|เบื้องต้น|', '|เลย|', '|สมัคร|บัตรเครดิต|', '|2000|', '|รอ|นานมาก', '|สะสมแต้ม|', '|หรือ|ไม่มี|', '|5000', '|ดัน|ใช้ไม่ได้', '|จน|ผ่านไป|เป็น|เดือน|แล้ว|', 'มือถือ|จีน|', '|แล้ว|มี|', '|เอง|ครับ|', '|50|k|', '|ระยะเวลา|', '|โทร|ตั้งแต่|', 'เติมเงิน|จาก|', '|อยาก|รู้ว่า|ค่าธรรมเนียม|ตรง|', '|ระวัง|หน่อย|', '|โลตัส|', '|2019|', '|ได้|ไหม|', '|ไม่|ต่ำกว่า|', '|เข้าไป|แด|ใหม่|คะ|', '|ของ|ธนาคารกรุงไทย|คือ|แย่มาก|', 'พรุ่งนี้|', '|dec|', '|กว่า|ปี|', '|บาท|ไทย|', '|เจ้า|', '|กี่|', '|มี|บัตรเดบิต|', '|2130|', '|อ่าว|', '|shoppee|', '|สะดวก', 'ประกัน|', '|a|', '|ถ้า|จ่าย|ด้วย|บัตร|', '|ส่ง|มา|', '|แผน|', '|กล|ต.|', '|1200|', 'krungthai_next|', '|add|', '|map|', '|จาก|ต่างประเทศ|', '|เหรียญ|', '|ส่วน|', 'โอนเงิน|จาก|ธนาคาร|', '|แย่มาก', '|รวย|', 'แนะนำ|', '|scbs|', '|เงิน|ไม่|ออก|', '|ใช่ไหม|', '|เอ่อ|', '|process|', '|บาท|ต่อ|ปี|', '|dm|', '|work|', '|500|', '|ตอนนี้|ใช้|', '|เป็น|อะไร|อีก|', '|จะ|ไม่|ปรับ|สลิป|จิงอ่อส|ลิบ|เอ้|ม|แบงก์|กิ้ง|คือ|ไป|พัก|', '|รู้|ผล|ปุ๊บ|', '|เกาหลี|', '|uob|', '|เดี๋ยว|นะ|', '|privilege|', '2|', '|หลัง|', '|เงิน|ฝากออมทรัพย์|แบบ|ไม่มี|สมุด|', '|sale|', '|western|', '|ตั้ง|', '|เบอร์|โทรศัพท์|', '|คิว|', '|wave|', '|สำหรับ|ผม|', '|press|', '|หุ้น|ไทย|', '|พนักงาน|', '|ขอบคุณ|ล่วงหน้า|ค่า', '|12000|', '|covid-|19|', '|ต้องการ|', '|2300|', '|กองทุนรวม|', '|ขึ้น|รหัส|', '|ref|', '|700|', 'ltf|', '|ที่|สาขา|', 'baac|', '|มาร|', '|ฮ่องกง|', '|ไม่ต้อง|ชำระ|', '|โอน|เมื่อวาน|ตอน|', '|ดอกเบี้ย|ยิ่ง|เยอะ|ค่ะ', 'android|', '|เลือก|จ่าย|ด้วย|', '|ใช่ไหม|ครับ|', '|username|', '|16.30|', '|จะ|ออกบัตร|กด|ฟรี|ได้|อย่างไร|', '|ทั้งที่|กดเงิน|แล้ว|ไม่|ออก|', 'ตาม|หัวข้อ|เลย|', '|ที่ผูก|ไว้|', '|รอบ|ละ|', '|ทำไม|', '|got|7|', '|ไม่มี|สลิป|', 'มี|บัตร|', '|110|', '|แอป|ธนาคาร|', '|33000|', '|ไม่|มีอาชีพ|', '|เฉยๆ|', '|stm|', '|แต่|เงิน|ไม่|เข้า|ปลายทาง|', '|umay|', '|บ้าง|ไหม|คะ|', 'นี้|', '|atm', '|แล้ว|ค่ะ|', '|checking|', '|เดือน|ละ|', '|usd|', '|port|', '|ทีนี้|', '|ก|ยศ|', '|ทำ|เรื่อง|', '|wongnai|', '|ปี|ที่แล้ว|', '|ทำได้|', '|ไทยพาณิชย์|', '|ไม่ติด|บู|โร|', '|1.3|', '|เบื่อ|มาก|', '|เงิน|ยัง|ไม่|เข้า|เลย|ค่ะ|', '|ประกันชีวิต|', '|ป|ช|ช|.|', '|แรกๆ|', 'scb_first|', '|ไม่สามารถ|ทำ|รายการ|ได้|ในขณะนี้|', '|แสน|', '|0', '|ฉะนั้น|', '|ต|ป|ท|', '|ธนชาต|', '|ทำไง|ได้|บ้าง|คะ|', 'เป็น|ลูกค้า|', '|หนี้|', '|09.00|', '|ระบบ|', '|แรก|', '|สอง|ล้าน|', '|db|', '|จ้า', '|น่าสนใจ|มาก|ครับ|', '|journey|', '|planetscb|', '|wisdom|', '|ทุ่ม|', '|ไม่|เสีย|', '|scbm|', '|รึ|', '|พัน|บาท|', '|atm|', '|balance|', '|ไฟล์|', '|ปีนี้|', '|พัน|', '|ค|ทบ|', '|45|-|60|', 'ขอบ|สอบถาม|หน่อย|ค่ะ|', '|เจ้าหน้าที่|เต็ม|ทุก|คู่สาย|', '|แต่|ยัง|ไม่|เข้า|', '|tot|', '|มัน|ขึ้น|ว่า|', '|นี้|ก็|', '|สาขา|ใน|สนามบิน|สุวรรณ|ภูมิ|', '|5|', '|application|', 'แอป|ธนาคาร|', '|mall|', '|แบบ|', '|นี้|', '|ผ่อน|เดือน|ละ|', '|บัตรกดเงินสด|', '|5000.|-|', '|กี่|เดือน|', '|24|', '|ถอนเงิน|วันนี้|นะคะ|', '|2021|', '3.|', '|รอ|นานมาก|', '|รอ|ประ|มาน|ครึ่ง|ชม.|', '|major|', '|หงุดหงิด', '|12|', '|-_-', '|ลด|ๆ|', '|โดยที่|เรา|ไม่ได้|เข้า|', '|ระบบ|เป็น|อะไร|ครับ|', '|siam|', '|สัก|ปี|ละ|', 'เป็น|เหมือนกัน|ค่ะ|', '|home|', '|แล้ว|กด|', '|msig|', '|ไม่ทราบ|ว่า|', '|มี|การ|เรียกเก็บ|ค่าธรรมเนียมรายปี|', '|no|.|1|', '|5|g|', '|เฟส|', '|แถม|', '|เรา|เปลี่ยน|จาก|', '|refund|', '|แม่|ม|มา|ทำงาน|กัน|บ้าง|เปล่า|วะ|', '|ธรรมดา|', '|ล|ฯ|', '|cash', '|ขอบคุณ|มาก|ครับ|', '|แต่|เงิน|ไม่|ออก|', '|63|', '|โดน|ไป|', '|เรา|จะ|ไม่|ทิ้ง|กัน|', 'จ่าย|', '|อะไร|วะ|เนี่ย|', '|cheque|', '|รอบ|นี้|', '|18.30|', '|design|', 'ซื้อ|ผ่าน|', '|เนี่ย|', '|มากๆ|', '|ไป|เปิดบัญชี|', '|29|', '|k|', '|24000|', '|ว่า|ตอนนี้|', '|คลิก|เพื่อ|ดู|ข้อความ|ที่ซ่อน|ไว้', '|2018|', '|ยัง|ไม่มี|', '|รอคิว|นานมาก|', '|ไม่รู้|', '|เมื่อวาน|อยู่|ที่', '|หมายความว่า|', '|และ|ใช้|วงเงิน|ค้ำประกัน|ต่ำสุด|กี่|บาท|ได้|บัตร|ประเภท|ไหน|บ้าง|ครับ', '|amex|', '|ออมทรัพย์|', '|กู้|คนเดียว|', '|mobile|', '|โยน|ไป|', '|busayarat|', '|ขอบคุณ', '|44|', '|ktb_precious_plus|', '|อีก|อย่าง|', '|bankingmobile|', '|เน็ต|ก็|ไม่ได้|', '|วันนี้|ครบ|', '|สีเขียว|', '|คำถาม|คือ|', '|ไง|คะ|', '|12.00|', '|จน|', '8|', 'บัตรเครดิต|bbl|', '|เงิน|จะ|เข้า|พรุ่งนี้|', '|ตู้', '|x|', '|เป๋า|ตัง|', '|comment|', '|signature|', '|central|', '|อยากทราบ|ว่า|', '|18000|', '|scbb|', '|เดบิต|', '|จาก|', '|kcl|', '|เปน|', '|ชอบ|', '|live|', '|ดอกเบี้ย|ใน|เอกสาร|ใบแจ้งหนี้|', '|ไป|ต่าง|ธนาคาร|', '|นะ|จ๊ะ', '|กรุงไทย|ล่ม', '|ครับผม|', '|แต่|ยอดเงิน|ไม่|เข้า|ปลายทาง|', '|900|', '|599|', 'ส่วน|', '|rate|', '|อยู่|ค่ะ|', '|ราคา|', 'รี|ล่า|', '|ขออนุญาต|', '|kplus|', '|พูดจา|ดีมาก|', '|ที่|เป็น|', '|ๆ|ค่ะ|', '|อาทิ|', '|ครึ่ง|ชั่วโมง|', '|ยืนยัน|ตัวตน|', '|ใช้เวลา|กี่|วัน|ครับ|', '|โอ้|ย', '|จ่าย|ด้วย|', '|limited|', '|เพื่อ|เปิดบัญชี|', '|ใช่|', '|ไม่ติด|', '|parkjihoonfanconinbkk', '|19.00|', '|กด|ไป|', '|แต่|จริงๆ|', '|พฤศจิกายน|', 'k|', '|สาย|ไม่ว่าง|ตลอด|เลย|', '|ธ|ค|', '|ตอบ|', '|ครั้ง|ตอนนั้น|', '|แต่|ก็|นั่นแหละ|', 'สมัคร|', '|2.8|', '|k|8888|', '|ได้|เลย', '|30|', '|from|', '|global|', '|2.5|', '|น', '|0|', '|กด|ใน|', '|บาท|ทุกเดือน|', '|ออก|บัตรเดบิต|ไม่ได้|', '|station|', '|เจ้าของ|กระทู้|', 'ที่|', '|มายัง|', '|m|', 'ปิดบัญชี|ฝากประจำ|ก่อนกำหนด|ได้|ไหม|', 'โป|ร|บัตร|', '|ไปมา|', '|fix|', '|มาถึง|', '|ใช้เวลา|ประมาณ|', '|โทร|ติดต่อ|ยากมาก|', '|ตาม|หัวข้อ|กระทู้|เลย|', '|พ|.ย|', '|หนี้บัตรเครดิต|', '|bayfirst_choice|', 'ติดต่อ|เจ้าหน้าที่|', '|รอ|ถึง|', '|ข้อมูล|บัญชี|หาย|ใคร|เป็น|บ้าง|ครับ|', '|เปลี่ยนเป็น|เบอร์|', '|จะ|ใช้|', '|กัน|', '|ครั้ง', 'ทาง|', '|จาก|เดิม|', '|คะ|', '|1.5|', '|แหะๆ|', '|33|', 'เข้า|', '|สอบถาม|หน่อย|ค่ะ|', '|ให้|ความ|รู้สึกแย่|จัง', '|อัพ|', '|เหม่อ|', 'คือ|หนู|อายุ|', '|140|', '|เงิน|หัก|จาก|บัญชีธนาคาร|แล้วแต่|ยอด|ใน|แอป|เป๋า|ตัง|ยัง|เป็น|', '|ธนาคาร|ล่ม', 'ที่|เรา|', '|apple|', '|gmarket', '|เดียว|', 'วัน|ที่', '|แม่|จะ|จ่าย|งวด|แรก|ให้|ก่อน|แล้ว|ที่เหลือ|หนู|ผ่อน|', 'โอ้|', '|airline|', '|จาก|บัญชี|', 'ดอกเบี้ย|ออมทรัพย์|', '|ขอ|ถาม|หน่อย|ค่ะ|', '|ว|ด|ฟ|', '|air|', '|ให้|รอ|', '|ไม่|เข้า|', '|ctw|', '|แจ้ง|', '|ว|', '|ไหม|คะ', '|ไป|เมื่อ|วัน|ที่', '|มา|ดู|', '|spotify|', '|เงินงวด|', '|8000|', '|เพราะ|จริงๆ|', '|krungthai_care|', '|บอก|ระบบ|ยังไม่เสร็จ|', '|แต่|นี่|', '|มี|ใคร|พอ|ทราบ|บ้าง|ไหม|คะ|', '|icbc|', 'kbank|', '|ทุกเดือน|', '|โทร|ถาม|', '|เวง|', '|the|', '|ขอบพระคุณ|มาก|ครับ', '|link|', '|พอ|มี|โครงการ|พัก|หนี้|', '|mrr|', '|จอง|', '|จ่าย|ผ่าน|', '|first_choice|', '0|1012564|', '|กรุงเทพ|ประกันภัย|', '|ขอโทษ|นะคะ|', '|3|g|4|g|', '|routing|', '|หายไป|ไหน|', '|ต่อ|ปี', '30|', '|โทร|ทุกวัน|', 'ktb|', '|50000|', '|2561|', '|ถ|', '|400000|', '|luxe|', '|ติดต่อ|เจ้าหน้าที่|', '|truemoney|', '|หลัง|ๆ|', '|ปล่อย|', 'สวัสดี|ค่ะ|เพื่อน|ๆ|', 'อยู่ดีๆ|', '|scbset|50|e|', '|cp|', '|คืน|บัตร', '|yolo|', '|ล่ม|หรือเปล่า|ครับ|', '|บาท|ต่อ|เดือน|', '|black|', '|มีปัญหา|หรือไม่|คะ|', '|ปี', '|2|xxxx|', '|ใบ|ของ|kbank|ครับ|', '|ธนาคาร|ไม่ได้|เป็นเจ้าของ|', '|-|', '|3|g|', '|ถอน|', '|ปี|ที่', '|ผ่าน|บัตร|', '|มี|แต่|', '|verify|', '|กรุงไทย', '|bigc|', '|ltf|', '|แทน', '|กับ|บัตรกดเงินสด|', '|scbsp|500|', '|saving|', '|sbc|', '|free|', '|เย็น|ๆ|', '|ตอนนี้|เหลือ|', '|แน่นอน', '|ที่ใช้|', '|grabpay|', '|เซ็ง', '|นาที|แล้ว|', '|สมาชิก|ว่า|', '|อี|เวร|', '|เพราะ|ไม่มี|บัตร|', '|หรือเปล่า|', 'หนี้|', '|วัน', '|จบ|ข่าว|', '|เบอร์|ผิด|', '|15|', '|เป็นบ้า|หรอ|', '|ต้อง|ทำไง|ค่ะ|', '|จ้ะ|', 'หุ้น|', '|airways|', '|data|', '|สินเชื่อหมุนเวียน|', 'คล้ายๆ|', '|เดือน|นี้|', '|uob_privimile|', '|internet|', '|ทุกครั้ง|', '|ไป|ยืนยัน|ตัวตน|ที่|ตู้', '|งง|มาก|', '|จาก|ทาง|', 'แล้ว|', '|70|', 'เจอ|เหมือนกัน|', '|หมายเลข|', '|ในกรณีที่|', '|กรณี|', '|เบอร์|โทร|', '|เป็น|จำนวนเงิน|', '|play|', '|5|-|10|', '|ปี|แล้ว|', '|105|', '|มี|แล้ว|', '|ไม่|ระบุ|แบบ|', '|250|', 'อ|ห|', '|scb_thailand', '|premium|', '|ใช้งาน|ไม่ได้|', '|โอน|ไป|', '|ใน|สาขา|', '|ของ|รัฐ|', '|สุดท้าย|', '|ดีๆ|', '|ก็|ต้อง|มี|ระยะ|รอคอย|', '|กระเป๋า|ตังค์|', 'ส่วน|บัตร|', '|125|', '|otp|', 'โอนเงิน|จาก|กรุงไทย|', '|ถาม|พนักงาน|ที่|สาขา|บอก|ว่า|ใช้ได้|', '|aia|', '|toyota|', '|ก|', '|โฆษณา|ว่า|', '|log|', '|2600|', '|เรียบร้อยแล้ว|', '|อยากทราบ|ว่า|เพื่อน|ๆ|', '|ad|', '|จำนวนเงิน|', '|กดเงิน|ไม่ได้|', '|เข้ามา|ที่|ไทย|', '|mou|', '|650|', '|bdms|', 'จริง|', '|ต้อง|ทำ|ยังไง|คะ|', '|อีกแล้ว|', '|อะ|', '|13.30|', 'อ้าว|', '11|', '|ต้อง|ทำ|ยังไง|', '|พร้อม|ดอกเบี้ย|', '|2.49|', '|kt-ashare|', '|เจ|', '|ต้อง|ทำ|ยังไง|บ้าง|คะ|', '|sq|', '|สอง|รอบ|ละ|ที่|ส่ง|', '|ไม่มี|บัตรเอทีเอ็ม|', 'สรุป|', '|gwallet|', '|ไปรษณีย์|', 'ร้อนๆ|', '|ไม่มี|สลิปเงินเดือน|', '|ทำไม|เงิน|ไม่|เข้า|', '|320|', '|c|', '|you|', '|airbnb|', '|ฮัลโหล|', '|พนักงาน|ชาย|', '|ครั้งละ|', '|ตอน|ตี|', '|โอน|เมื่อ|วัน|ที่', '|เลือก|ถอนเงิน|ไม่|ใช้|บัตร|', '0|', 'โอนเงิน|จาก|kbank|', '|00.00|', '|หรือ|พี่|ๆ|', '|แล้ว', '|พอ|กุ|ลบ|โลด|ใหม่|', '|ทำ|มา|', '|airasia|', '|บาท|อยู่แล้ว|', '|เพราะ|เรา|', 'รอ|ประมาณ|', '|อี|เหี้ย|', 'ตู้|', '|กว่า|หน่วย|', '|0.25|', '|วัน|ที่', '|เสียเวลา|มาก|', '|พนักงาน|เกือบ|ทั้งหมด|พูด|กับ|ลูกค้า|', '|ขอบคุณ|ครับ|', '|150|', '|บาท|ค่ะ|', '|3.5|', '|ราย|', '|investment|', '|1800|', '|ทำไง|ดี|', '|แอป|ควย|', '|อายัด|', '|และ|แอป|', '|ไหม|คับ', '|บาท|ใน|', '|แบบนี้|ต้อง|ทำ|อย่างไร|ครับ', '|sms|', '-|', 'ผม|มี|', '|กรุงไทย|ล่ม|', 'สอบถาม|เพื่อน|ๆ|', '|พี่|ๆ|', '|by|', '|ปล่อยกู้|', '|แฟน|ทำ|เมื่อวาน|ผ่าน|แล้ว|คะ', '|ไปที่|ตู้', '|โทร|สอบถาม|กับ|bbl|', '|เงิน|', '|กว่า|', '|70000|', '|17.30|', '|trip|', '|แย่มาก|', 'ขอ|สอบถาม|คะ|', '|รวมทั้งสิ้น|', '|rejected|', '|ลุ้น|', '|ไม่|เสีย|ค่าธรรมเนียม|', '|มึง|ติด|', '|ธนชาต|ได้|ไหม|ครับ|', '|merchant|', '45|', '|ลืม|', '|1300|', '|100000|', '|แต่|ภาพ|ไม่|ใช้|', '|scbx|', '|แล้วจะ|เอา|เงิน|ไป|ทำ|อะไร|ดี|นะ|', '|399|', '|บ้าง|คะ|', '|หุ้น|', '|ใบ|ค่ะ|', '|ทหาร|ไทย|', '|ทอง|', '|หรือ|อะไร|', 'krungsri|', '|ขอ|ข้อมูล|จาก|ธนาคาร|อื่น|ได้|', '|บ้าน|', '|เร็วมาก|', '|เพื่อ|', '|ธัน|วา|', '|private|', '|พอ|มา|เจอ|ข้อความ|นี้|', '|มกราคม|', '|ตาม|รูป|', '|ปกติ|', '|ง|', '|usa|', '|app', '|ละ|ตัด|ตัง|ไป|แล้ว|ด้วย', '|ios|', '|หรือ|ยังไง|', '|แป๊บเดียว|ได้|เงิน', '|ใน|แอ|ฟ|มัน|เป็น|ออ|มท|ร|พ|ย|์|', '16|', '|1', '|16|', '|ช่วงนี้|', '|ขาย|', 'scb_easy|', '|โอนเงิน|ผ่าน|', '|สินเชื่อ|', '|adobe|', '|รบกวน|ช่วย|หน่อย|นะคะ', 'scbs|', '|รบกวน|สอบถาม|ค่ะ|', '|500|-|600|', '|เยอะ|ๆ|', '|ผม|ต้อง|ทำ|ยังไง|ครับ', '27|1163|', '|จนถึง|ตอนนี้|', '|แต่|ไม่|เข้า|', '|ตอน|สมัคร|', '|บ้าง|', '|loan|', 'แง|', '|taxi|', '|ปิดบัญชี|', '|ทุกเดือน', '|ยังไง|', '|bankkokbank|', '|ชำระเงิน|', '|ได้|', '|line|', '|android|', '|ตัดเงิน|ใน|บัญชี|แล้ว|', '|ล่ม|อีก|', '|ที่อยู่|', '|ปกติ|จะ|มี|', '|จะ|เอา|บัตร|กด|ยัง|ไม่ได้|อีก', '|ปัจจุบัน|', '|grab|', '|แล้ว|เรา|ลงทะเบียน|ไป|วัน|ที่', '|คลิก|เพื่อ|ดู|ข้อความ|ที่ซ่อน|ไว้|', '|bbl|', '|แล้ว|เข้า|แอป|ไม่ได้|เพราะ|กด|รหัส|ผิด|เกินกำหนด|', '|จบ|', '|ยอด|เงินออก|แล้ว|', '|อุดรธานี|', '|กุ|ปวดหัว', 'ผม|ใช้|', '|ได้|แล้ว|', '|9|', '|ใน|แอป|', '|smart|', '|ยัง|เป็น|', '|น้อยกว่า|', 'เติม|เงินเข้า|', '|8|-|9|', '|ที่|ตู้', 'ขอ|สอบถาม|นะคะ|', '|แต่|ยอด|ไม่|เข้า|', '|record|', '|รหัส|', 'โอนเงิน|วัน|ที่', '|tech|', '|foodpanda|', '|ดาว|น|์|', '|เหลือ|ง|', 'เพื่อน|ๆ|', '|แต่|ไม่ใช่|บัญชี|หลัก|', '|55', '|first|', '|spoil|', '|แบบ|แรก|', '|ก็|ไม่มี|คนรับ|', '|จริงๆ', '|ทำให้|ปลายทาง|ไม่ได้|รับเงิน|', '|เจ้าหน้าที่|บอก|', '|คือ|อะไร|คะ|', '|net|', '|ก|ย|', '|บอก|เลย|', '|download|', '|เปิด|', '|เป็น|จำนวน|', '|ต่างๆ|', '|ธนาคาร|แจ้ง|ว่า|', '|เงิน|ไม่|เข้า|ครับ|', '|wifi|', '|ems|', '|ตัวเอง|', '|รอบๆ|', '|infinite|', '|เท|วินทร์|', '|3000|', '|shop|', '|ใน|ใบแจ้งหนี้|จ่าย|', '|ค|ห|', '|ถือ|ยาว|', 'แล้ว|ทำไม|', '|กด|เข้าไป|', '4|', '|ipo|', '|ธนาคาร|ค.|', '|agoda|', '|wow|', '|โอน|ไม่ได้|', '|พ|รบ|', '|ถ้า|มัน|ไม่พลาด|ไป|', 'วันนี้|แอป|', '|แล้ว|ต้อง|เสีย|อะไร|ไหม|', '|feedback|', '|scb_first|', '|โทร|ไป|ถาม|', '|k-esavings|', '|โทร|กลับ|ไทย|ก็|ไม่ได้|', '|คือ|ช้า|มาก|', '|ถาม|ทาง|', '|นาที|', '|699|', '|ของ|ธนาคาร|อื่นๆ|', '|ด้วย', '|ktc_jcb|', '|ยอดเงิน|', '|กด|ตัง|จาก|ตู้|ทหาร|ไทย|ได้|ถูกต้อง|ไหม|', '|ในช่วง|', '|ก็|ไม่|เข้า|', '|แต่|บัตรเครดิต|', '|ขอบคุณ|', '|keptbykrungsri|', '|ม.|', '1555|', '|ก่อน', '|ขึ้นมา|', '|ร้องไห้|', '|ตั้งแต่|', '|ตอนนี้|เดือดร้อน|มากๆ|', '|โอนเงิน|จาก|', '|เบี้ยประกัน|', '|ครั้ง|และ|ยอดเงิน|', '|บาท|', 'มี|เบอร์|', '|ใบ', '|เลข|บัตรประชาชน|', '|mymo|', '|รอง|มา|', '|it|', '|3|', '|เยอะมาก|', '|ยื่น|สมัคร|ที่|', '|สาขา|', '|ไป|ติดต่อ|ธนาคาร|', '|web|', '|เข้า|กรุงไทย|', 'เบอร์|', '|ธนาคาร|ค|', '|อย่าง|', '|เข้าบัญชี|', 'tmb_all_free|', '|อยู่|ครับ|', 'เรา|สมัคร|', '|เติมเงิน|ไป|', '|dispute|', '|ต้นทาง|', '|4500|', '|ไม่สำเร็จ|', '|retention|', '|got|7|keepspinninginbkk|', '|ก็|คือ|การทำ|ธุรกรรมออนไลน์|ผ่าน|ค|อม|ผ่าน|เวป|', '|0.01|', '|ตอนนี้|ก็|ติดต่อ|สาขา|เจ้าของ|บัญชี|', '|ปัง|มาก|', '|ต้อง|เปิดบัญชี|', '|ktbnext|', '|ยัง|ไม่|ผ่าน|', '|pttep|', '|ไม่ได้|ค่ะ|', '|150000|', '|อี|เวง|', '|จริง|ค่ะ|', '|120|', '|ช|.ม|', '|แต่|ไม่มี|บัตร|', '|หรือไม่|', '|นิดๆ|', '|เปิดบัญชี|', '|10|k|', '|กด|ไม่ได้|', '|2.34|', '|transection|', '|tmb_all_free|', '|ก่อน|ค่ะ|'}\n"
          ]
        }
      ],
      "source": [
        "#Load the vocab as above\n",
        "def load_doc(filename):\n",
        "  file = open(filename, 'r')\n",
        "  text = file.read()\n",
        "  file.close()\n",
        "  return text\n",
        "\n",
        "vocab_filename = 'vocab.txt'\n",
        "vocab = load_doc(vocab_filename)\n",
        "vocab = vocab.split()\n",
        "vocab = set(vocab)\n",
        "\n",
        "print(vocab)"
      ]
    },
    {
      "cell_type": "code",
      "execution_count": 152,
      "metadata": {
        "id": "IqgqeKFll7ti"
      },
      "outputs": [],
      "source": [
        "#Turn Series into lists\n",
        "train_docs = train['Text_ws_local'].tolist()\n",
        "test_docs = test['Text_ws_local'].tolist()"
      ]
    },
    {
      "cell_type": "code",
      "execution_count": 153,
      "metadata": {
        "id": "A7Hp-D9ijQgZ"
      },
      "outputs": [],
      "source": [
        "from keras.preprocessing.text import Tokenizer\n",
        "from keras_preprocessing.sequence import pad_sequences\n",
        "\n",
        "tokenizer = Tokenizer()\n",
        "#one hot-enconding for the text like > https://stackoverflow.com/questions/69026891/what-is-keras-tokenizer-fit-on-texts-doing\n",
        "tokenizer.fit_on_texts(train_docs)\n",
        "encoded_docs = tokenizer.texts_to_sequences(train_docs)"
      ]
    },
    {
      "cell_type": "markdown",
      "metadata": {
        "id": "MN_Fx2rnrbvc"
      },
      "source": [
        "![0_c1o1ff1yupRvTLkY.png](data:image/png;base64,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)"
      ]
    },
    {
      "cell_type": "code",
      "execution_count": 154,
      "metadata": {
        "colab": {
          "base_uri": "https://localhost:8080/"
        },
        "id": "R7JbQ0qZmf0D",
        "outputId": "13ffa9f9-710a-4187-ede0-5441e48204ae"
      },
      "outputs": [
        {
          "output_type": "stream",
          "name": "stdout",
          "text": [
            "Max Length of Words:  66\n"
          ]
        }
      ],
      "source": [
        "#Find the most max lengths of word in verbatims from both train and test\n",
        "max_length_train = max([len(s.split()) for s in train_docs])\n",
        "max_length_test  = max([len(s.split()) for s in test_docs])\n",
        "max_length = max([max_length_train, max_length_test])\n",
        "print(\"Max Length of Words: \", max_length)\n",
        "\n",
        "#Padding in order to equalize some verbatims that do not contain the same length of the max length verbatim\n",
        "Xtrain = pad_sequences(encoded_docs, maxlen=max_length, padding='post')\n",
        "#define the labels\n",
        "ytrain = np.array(train['Human_CategoryID'].tolist())"
      ]
    },
    {
      "cell_type": "code",
      "execution_count": 155,
      "metadata": {
        "id": "oHTspdkypLeF"
      },
      "outputs": [],
      "source": [
        "#Do the same for the test set\n",
        "encoded_docs_test = tokenizer.texts_to_sequences(test_docs)\n",
        "\n",
        "Xtest = pad_sequences(encoded_docs_test, maxlen=max_length)\n",
        "ytest = np.array(test['Human_CategoryID'].tolist())"
      ]
    },
    {
      "cell_type": "markdown",
      "metadata": {
        "id": "V7EduSmwr2Ss"
      },
      "source": [
        "![0_KL-8g0HlN6tnlMDk.png](data:image/png;base64,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)"
      ]
    },
    {
      "cell_type": "code",
      "execution_count": 156,
      "metadata": {
        "colab": {
          "base_uri": "https://localhost:8080/"
        },
        "id": "ILLDKYp3MX65",
        "outputId": "92c20098-e163-427e-a070-8aae80319898"
      },
      "outputs": [
        {
          "output_type": "stream",
          "name": "stdout",
          "text": [
            "13 12\n"
          ]
        }
      ],
      "source": [
        "#Count unique classes\n",
        "print(train['Human_CategoryID'].nunique(), test['Human_CategoryID'].nunique())"
      ]
    },
    {
      "cell_type": "code",
      "execution_count": 157,
      "metadata": {
        "colab": {
          "base_uri": "https://localhost:8080/"
        },
        "id": "VQcD2gdpNwkg",
        "outputId": "d9d33b54-dc15-429e-8b59-59113f67a97d"
      },
      "outputs": [
        {
          "output_type": "stream",
          "name": "stdout",
          "text": [
            "13\n"
          ]
        }
      ],
      "source": [
        "#Count unique classes\n",
        "num_classes = max(train['Human_CategoryID'].nunique(), test['Human_CategoryID'].nunique())\n",
        "print(num_classes)"
      ]
    },
    {
      "cell_type": "code",
      "execution_count": 158,
      "metadata": {
        "id": "BWTwtb6tLUBE"
      },
      "outputs": [],
      "source": [
        "from tensorflow.keras.utils import to_categorical\n",
        "\n",
        "#Multi class problems need one-hot encoding on y\n",
        "#why - 1 on ytrain and ytest? can follow the linke below\n",
        "#https://stackoverflow.com/questions/56204731/the-method-np-utils-to-categorical-give-me-an-error/59002957#59002957\n",
        "ytrain =  to_categorical(ytrain-1, num_classes=num_classes)\n",
        "ytest = to_categorical(ytest-1, num_classes=num_classes)"
      ]
    },
    {
      "cell_type": "code",
      "execution_count": 159,
      "metadata": {
        "id": "lvFEpT6zp8YY"
      },
      "outputs": [],
      "source": [
        "vocab_size = len(tokenizer.word_index)+1"
      ]
    },
    {
      "cell_type": "markdown",
      "metadata": {
        "id": "8l51AxTXW96K"
      },
      "source": [
        "#model"
      ]
    },
    {
      "cell_type": "markdown",
      "metadata": {
        "id": "hiGb5p29sWHt"
      },
      "source": [
        "##CNN1 MP1D F D256 DO0.25 D13: 24-25"
      ]
    },
    {
      "cell_type": "code",
      "execution_count": null,
      "metadata": {
        "id": "huOisC8Ysz-r"
      },
      "outputs": [],
      "source": [
        "from keras.layers import Dense, Flatten, Embedding, Bidirectional, LSTM, SeqSelAttention\n",
        "from keras.models import Sequential\n",
        "from keras.layers.convolutional import Conv1D, MaxPooling1D"
      ]
    },
    {
      "cell_type": "code",
      "execution_count": null,
      "metadata": {
        "colab": {
          "base_uri": "https://localhost:8080/"
        },
        "id": "Ify0PvZ3sWzS",
        "outputId": "dd4180ba-f995-407f-a661-3e6ae14dd0e9"
      },
      "outputs": [
        {
          "name": "stdout",
          "output_type": "stream",
          "text": [
            "Model: \"sequential\"\n",
            "_________________________________________________________________\n",
            " Layer (type)                Output Shape              Param #   \n",
            "=================================================================\n",
            " embedding (Embedding)       (None, 66, 50)            630450    \n",
            "                                                                 \n",
            " conv1d (Conv1D)             (None, 64, 32)            4832      \n",
            "                                                                 \n",
            " max_pooling1d (MaxPooling1D  (None, 32, 32)           0         \n",
            " )                                                               \n",
            "                                                                 \n",
            " flatten (Flatten)           (None, 1024)              0         \n",
            "                                                                 \n",
            " dense (Dense)               (None, 256)               262400    \n",
            "                                                                 \n",
            " dropout (Dropout)           (None, 256)               0         \n",
            "                                                                 \n",
            " dense_1 (Dense)             (None, 13)                3341      \n",
            "                                                                 \n",
            "=================================================================\n",
            "Total params: 901,023\n",
            "Trainable params: 901,023\n",
            "Non-trainable params: 0\n",
            "_________________________________________________________________\n",
            "None\n"
          ]
        }
      ],
      "source": [
        "#Define our model\n",
        "model = Sequential()\n",
        "\n",
        "model.add(Embedding(vocab_size, 50, input_length=max_length, trainable=True))\n",
        "model.add(Conv1D(filters=32, kernel_size=3, activation='relu'))\n",
        "model.add(MaxPooling1D())\n",
        "#MaxPool1D: pool_size=2: 28\n",
        "#MaxPool1D: pool_size = 2, strides = 2: 24.421594\n",
        "#MaxPool1D(): w/o specification: 26-30\n",
        "\n",
        "model.add(Flatten())\n",
        "model.add(Dense(256, activation='relu'))\n",
        "model.add(Dropout(0.25))\n",
        "\n",
        "model.add(Dense(num_classes, activation='softmax'))\n",
        "print(model.summary())"
      ]
    },
    {
      "cell_type": "code",
      "execution_count": null,
      "metadata": {
        "id": "_VV7d6eRf_AD"
      },
      "outputs": [],
      "source": [
        "from tensorflow.keras.callbacks import EarlyStopping\n",
        "\n",
        "#put early stopping\n",
        "early_stopping = EarlyStopping(monitor='val_loss', patience=1, mode='min')\n",
        "\n",
        "#Your choices of activation='softmax' in the last layer and compile choice of loss='categorical_crossentropy' \n",
        "#are good for a model to predict multiple mutually-exclusive classes.\n",
        "\n",
        "model.compile(loss='categorical_crossentropy',\n",
        "              optimizer='adam', \n",
        "              metrics=['acc'],)"
      ]
    },
    {
      "cell_type": "code",
      "execution_count": null,
      "metadata": {
        "colab": {
          "base_uri": "https://localhost:8080/"
        },
        "id": "KKmAGyKqECUx",
        "outputId": "6a9bf21c-daaa-45a9-edb6-0f95bc997f58"
      },
      "outputs": [
        {
          "name": "stdout",
          "output_type": "stream",
          "text": [
            "Epoch 1/10\n",
            "152/152 [==============================] - 2s 9ms/step - loss: 1.8999 - acc: 0.3620 - val_loss: 1.5850 - val_acc: 0.4695\n",
            "Epoch 2/10\n",
            "152/152 [==============================] - 1s 7ms/step - loss: 1.4251 - acc: 0.5426 - val_loss: 1.3539 - val_acc: 0.5605\n",
            "Epoch 3/10\n",
            "152/152 [==============================] - 1s 7ms/step - loss: 1.0414 - acc: 0.6805 - val_loss: 1.3298 - val_acc: 0.5860\n",
            "Epoch 4/10\n",
            "152/152 [==============================] - 1s 7ms/step - loss: 0.7435 - acc: 0.7690 - val_loss: 1.4171 - val_acc: 0.5893\n"
          ]
        }
      ],
      "source": [
        "#Try classweight from this https://datascience.stackexchange.com/questions/13490/how-to-set-class-weights-for-imbalanced-classes-in-keras\n",
        "\n",
        "history = model.fit(Xtrain, ytrain, \n",
        "                    epochs=10, batch_size=64, \n",
        "                    validation_split=0.2,\n",
        "                    callbacks=[early_stopping])"
      ]
    },
    {
      "cell_type": "code",
      "execution_count": null,
      "metadata": {
        "colab": {
          "base_uri": "https://localhost:8080/",
          "height": 283
        },
        "id": "5hrmrMCmUjh2",
        "outputId": "f0bc94ab-e242-4dc7-a75a-d22fe6e83dca"
      },
      "outputs": [
        {
          "data": {
            "text/plain": [
              "<matplotlib.axes._subplots.AxesSubplot at 0x7fe56c65a390>"
            ]
          },
          "execution_count": 22,
          "metadata": {},
          "output_type": "execute_result"
        },
        {
          "data": {
            "image/png": "[encoded data removed]",
            "text/plain": [
              "<Figure size 432x288 with 1 Axes>"
            ]
          },
          "metadata": {},
          "output_type": "display_data"
        }
      ],
      "source": [
        "history_frame = pd.DataFrame(history.history)\n",
        "history_frame.loc[:, ['loss', 'val_loss']].plot()"
      ]
    },
    {
      "cell_type": "code",
      "execution_count": null,
      "metadata": {
        "colab": {
          "base_uri": "https://localhost:8080/",
          "height": 283
        },
        "id": "qgGNdtfHU3yS",
        "outputId": "f80f3166-6c9d-44e3-ccf2-fe2b3f41105f"
      },
      "outputs": [
        {
          "data": {
            "text/plain": [
              "<matplotlib.axes._subplots.AxesSubplot at 0x7fe596d3ce10>"
            ]
          },
          "execution_count": 23,
          "metadata": {},
          "output_type": "execute_result"
        },
        {
          "data": {
            "image/png": "[encoded data removed]",
            "text/plain": [
              "<Figure size 432x288 with 1 Axes>"
            ]
          },
          "metadata": {},
          "output_type": "display_data"
        }
      ],
      "source": [
        "history_frame.loc[:, ['acc', 'val_acc']].plot()"
      ]
    },
    {
      "cell_type": "code",
      "execution_count": null,
      "metadata": {
        "colab": {
          "base_uri": "https://localhost:8080/"
        },
        "id": "uvpjXrbRWKI5",
        "outputId": "f1a43ba4-1b5d-43b7-8a05-a93eaeec0c40"
      },
      "outputs": [
        {
          "name": "stdout",
          "output_type": "stream",
          "text": [
            "(389, 66) (389, 13)\n"
          ]
        }
      ],
      "source": [
        "print(Xtest.shape, ytest.shape)"
      ]
    },
    {
      "cell_type": "code",
      "execution_count": null,
      "metadata": {
        "colab": {
          "base_uri": "https://localhost:8080/"
        },
        "id": "5N9TLkdHV0hy",
        "outputId": "59562615-9b59-4e87-be34-605008f51ba4"
      },
      "outputs": [
        {
          "name": "stdout",
          "output_type": "stream",
          "text": [
            "13/13 [==============================] - 0s 2ms/step - loss: 2.3612 - acc: 0.2519\n",
            "Test Accuracy: 25.192803\n"
          ]
        }
      ],
      "source": [
        "loss, acc = model.evaluate(Xtest, ytest)\n",
        "print('Test Accuracy: %f' % (acc*100))"
      ]
    },
    {
      "cell_type": "markdown",
      "metadata": {
        "id": "JKTKM23Nn0Vl"
      },
      "source": [
        "##LSTM CNN1 MP1D F D512 D256 D13: 29-40"
      ]
    },
    {
      "cell_type": "code",
      "execution_count": null,
      "metadata": {
        "id": "_Rjnttm7n0Vs"
      },
      "outputs": [],
      "source": [
        "from keras.layers import Dense, Flatten, Embedding, BatchNormalization, Dropout, LSTM, Bidirectional, TimeDistributed\n",
        "from keras.models import Sequential\n",
        "from keras.layers.convolutional import Conv1D, MaxPooling1D"
      ]
    },
    {
      "cell_type": "code",
      "execution_count": null,
      "metadata": {
        "colab": {
          "base_uri": "https://localhost:8080/"
        },
        "id": "OiHinNUfn0Vs",
        "outputId": "79d7a0f2-8465-4979-d3f2-842128e59257"
      },
      "outputs": [
        {
          "name": "stdout",
          "output_type": "stream",
          "text": [
            "Model: \"sequential_1\"\n",
            "_________________________________________________________________\n",
            " Layer (type)                Output Shape              Param #   \n",
            "=================================================================\n",
            " embedding_1 (Embedding)     (None, 66, 100)           1260900   \n",
            "                                                                 \n",
            " lstm (LSTM)                 (None, 66, 50)            30200     \n",
            "                                                                 \n",
            " conv1d_1 (Conv1D)           (None, 64, 32)            4832      \n",
            "                                                                 \n",
            " max_pooling1d_1 (MaxPooling  (None, 32, 32)           0         \n",
            " 1D)                                                             \n",
            "                                                                 \n",
            " flatten_1 (Flatten)         (None, 1024)              0         \n",
            "                                                                 \n",
            " dense_2 (Dense)             (None, 512)               524800    \n",
            "                                                                 \n",
            " dense_3 (Dense)             (None, 256)               131328    \n",
            "                                                                 \n",
            " dense_4 (Dense)             (None, 13)                3341      \n",
            "                                                                 \n",
            "=================================================================\n",
            "Total params: 1,955,401\n",
            "Trainable params: 1,955,401\n",
            "Non-trainable params: 0\n",
            "_________________________________________________________________\n",
            "None\n"
          ]
        }
      ],
      "source": [
        "#Define our model\n",
        "model = Sequential()\n",
        "\n",
        "model.add(Embedding(vocab_size, 100, input_length=max_length, trainable=True))\n",
        "model.add(LSTM(50, return_sequences=True))\n",
        "model.add(Conv1D(filters=32, kernel_size=3, activation='relu'))\n",
        "model.add(MaxPooling1D())\n",
        "\n",
        "#CNN + LSTM\n",
        "#MaxPool1D: pool_size=2: 30\n",
        "#MaxPool1D: w/o specification: 30\n",
        "\n",
        "#LSTM + CNN\n",
        "#MaxPool1D: w/o specification: 33.676094\n",
        "\n",
        "model.add(Flatten())\n",
        "\n",
        "model.add(Dense(512, activation='relu'))\n",
        "model.add(Dense(256, activation='relu'))\n",
        "\n",
        "model.add(Dense(num_classes, activation='softmax'))\n",
        "print(model.summary())"
      ]
    },
    {
      "cell_type": "code",
      "execution_count": null,
      "metadata": {
        "id": "IoNZ97Men0Vs"
      },
      "outputs": [],
      "source": [
        "from tensorflow.keras.callbacks import EarlyStopping\n",
        "\n",
        "#put early stopping\n",
        "early_stopping = EarlyStopping(monitor='val_loss', patience=1, mode='min')\n",
        "\n",
        "#Your choices of activation='softmax' in the last layer and compile choice of loss='categorical_crossentropy' \n",
        "#are good for a model to predict multiple mutually-exclusive classes.\n",
        "\n",
        "model.compile(loss='categorical_crossentropy',\n",
        "              optimizer='adam', \n",
        "              metrics=['acc'],)"
      ]
    },
    {
      "cell_type": "code",
      "execution_count": null,
      "metadata": {
        "colab": {
          "base_uri": "https://localhost:8080/"
        },
        "id": "3i82PMBRn0Vs",
        "outputId": "120c3ae2-9459-44f0-9306-06d5313fdcb5"
      },
      "outputs": [
        {
          "name": "stdout",
          "output_type": "stream",
          "text": [
            "Epoch 1/10\n",
            "304/304 [==============================] - 16s 44ms/step - loss: 1.6961 - acc: 0.4394 - val_loss: 1.4284 - val_acc: 0.5321\n",
            "Epoch 2/10\n",
            "304/304 [==============================] - 14s 45ms/step - loss: 1.2192 - acc: 0.6141 - val_loss: 1.3139 - val_acc: 0.5712\n",
            "Epoch 3/10\n",
            "304/304 [==============================] - 14s 45ms/step - loss: 0.8865 - acc: 0.7144 - val_loss: 1.3730 - val_acc: 0.5835\n"
          ]
        }
      ],
      "source": [
        "#Try classweight from this https://datascience.stackexchange.com/questions/13490/how-to-set-class-weights-for-imbalanced-classes-in-keras\n",
        "\n",
        "history = model.fit(Xtrain, ytrain, \n",
        "                    epochs=10, batch_size=32, \n",
        "                    validation_split=0.2,\n",
        "                    callbacks=[early_stopping])"
      ]
    },
    {
      "cell_type": "code",
      "execution_count": null,
      "metadata": {
        "colab": {
          "base_uri": "https://localhost:8080/",
          "height": 283
        },
        "id": "2B7E8Xcrn0Vt",
        "outputId": "4c61ddcc-ab43-49a2-d151-9c9d6c4e2262"
      },
      "outputs": [
        {
          "data": {
            "text/plain": [
              "<matplotlib.axes._subplots.AxesSubplot at 0x7fe5851e8b90>"
            ]
          },
          "execution_count": 30,
          "metadata": {},
          "output_type": "execute_result"
        },
        {
          "data": {
            "image/png": "[encoded data removed]",
            "text/plain": [
              "<Figure size 432x288 with 1 Axes>"
            ]
          },
          "metadata": {},
          "output_type": "display_data"
        }
      ],
      "source": [
        "history_frame = pd.DataFrame(history.history)\n",
        "history_frame.loc[:, ['loss', 'val_loss']].plot()"
      ]
    },
    {
      "cell_type": "code",
      "execution_count": null,
      "metadata": {
        "colab": {
          "base_uri": "https://localhost:8080/",
          "height": 283
        },
        "id": "BFZ_Lsvrn0Vt",
        "outputId": "a0f462ea-0334-426e-a392-8301af09ad08"
      },
      "outputs": [
        {
          "data": {
            "text/plain": [
              "<matplotlib.axes._subplots.AxesSubplot at 0x7fe5966430d0>"
            ]
          },
          "execution_count": 31,
          "metadata": {},
          "output_type": "execute_result"
        },
        {
          "data": {
            "image/png": "[encoded data removed]",
            "text/plain": [
              "<Figure size 432x288 with 1 Axes>"
            ]
          },
          "metadata": {},
          "output_type": "display_data"
        }
      ],
      "source": [
        "history_frame.loc[:, ['acc', 'val_acc']].plot()"
      ]
    },
    {
      "cell_type": "code",
      "execution_count": null,
      "metadata": {
        "colab": {
          "base_uri": "https://localhost:8080/"
        },
        "id": "84PYJYKMn0Vt",
        "outputId": "3bfb715d-f9d8-4ecd-c0ed-6fcef49ceb08"
      },
      "outputs": [
        {
          "name": "stdout",
          "output_type": "stream",
          "text": [
            "(12150, 13) (389, 13)\n"
          ]
        }
      ],
      "source": [
        "print(ytrain.shape, ytest.shape)"
      ]
    },
    {
      "cell_type": "code",
      "execution_count": null,
      "metadata": {
        "colab": {
          "base_uri": "https://localhost:8080/"
        },
        "id": "At8ST7Ttn0Vu",
        "outputId": "d7385867-fc1e-44e7-f93f-01db476b0460"
      },
      "outputs": [
        {
          "name": "stdout",
          "output_type": "stream",
          "text": [
            "13/13 [==============================] - 0s 10ms/step - loss: 1.8608 - acc: 0.4087\n",
            "Test Accuracy: 40.874037\n"
          ]
        }
      ],
      "source": [
        "loss, acc = model.evaluate(Xtest, ytest)\n",
        "print('Test Accuracy: %f' % (acc*100))"
      ]
    },
    {
      "cell_type": "markdown",
      "metadata": {
        "id": "M7XlF2h5Azpg"
      },
      "source": [
        "##CNN1 LSTM GMP1D F D512 D256 D13: 30-44"
      ]
    },
    {
      "cell_type": "code",
      "execution_count": null,
      "metadata": {
        "id": "hFzoz7zyAzpv"
      },
      "outputs": [],
      "source": [
        "from keras.layers import Dense, Flatten, Embedding, BatchNormalization, Dropout, LSTM, Bidirectional\n",
        "from keras.models import Sequential\n",
        "from keras.layers.convolutional import Conv1D, MaxPooling1D\n",
        "from keras.layers.pooling import GlobalMaxPooling1D"
      ]
    },
    {
      "cell_type": "code",
      "execution_count": null,
      "metadata": {
        "colab": {
          "base_uri": "https://localhost:8080/"
        },
        "id": "OOIiaeQTAzpv",
        "outputId": "460c6805-0d3c-4bf9-f3d5-ca2a134e0970"
      },
      "outputs": [
        {
          "name": "stdout",
          "output_type": "stream",
          "text": [
            "Model: \"sequential_2\"\n",
            "_________________________________________________________________\n",
            " Layer (type)                Output Shape              Param #   \n",
            "=================================================================\n",
            " embedding_2 (Embedding)     (None, 66, 100)           1260900   \n",
            "                                                                 \n",
            " conv1d_2 (Conv1D)           (None, 64, 32)            9632      \n",
            "                                                                 \n",
            " lstm_1 (LSTM)               (None, 64, 50)            16600     \n",
            "                                                                 \n",
            " global_max_pooling1d (Globa  (None, 50)               0         \n",
            " lMaxPooling1D)                                                  \n",
            "                                                                 \n",
            " flatten_2 (Flatten)         (None, 50)                0         \n",
            "                                                                 \n",
            " dense_5 (Dense)             (None, 512)               26112     \n",
            "                                                                 \n",
            " dense_6 (Dense)             (None, 256)               131328    \n",
            "                                                                 \n",
            " dense_7 (Dense)             (None, 13)                3341      \n",
            "                                                                 \n",
            "=================================================================\n",
            "Total params: 1,447,913\n",
            "Trainable params: 1,447,913\n",
            "Non-trainable params: 0\n",
            "_________________________________________________________________\n",
            "None\n"
          ]
        }
      ],
      "source": [
        "#Define our model\n",
        "model = Sequential()\n",
        "\n",
        "model.add(Embedding(vocab_size, 100, input_length=max_length, trainable=True))\n",
        "model.add(Conv1D(filters=32, kernel_size=3, activation='relu'))\n",
        "model.add(LSTM(50, return_sequences=True))\n",
        "\n",
        "model.add(GlobalMaxPooling1D())\n",
        "#CNN LSTM GMP1D(w/o spec): 44, 49\n",
        "#LSTM CNN GMP1D(w/o spec): 38, 47\n",
        "\n",
        "model.add(Flatten())\n",
        "\n",
        "model.add(Dense(512, activation='relu'))\n",
        "model.add(Dense(256, activation='relu'))\n",
        "\n",
        "model.add(Dense(num_classes, activation='softmax'))\n",
        "print(model.summary())"
      ]
    },
    {
      "cell_type": "code",
      "execution_count": null,
      "metadata": {
        "id": "fsGwd-BPAzpw"
      },
      "outputs": [],
      "source": [
        "from tensorflow.keras.callbacks import EarlyStopping\n",
        "\n",
        "#put early stopping\n",
        "early_stopping = EarlyStopping(monitor='val_loss', patience=1, mode='min')\n",
        "\n",
        "#Your choices of activation='softmax' in the last layer and compile choice of loss='categorical_crossentropy' \n",
        "#are good for a model to predict multiple mutually-exclusive classes.\n",
        "\n",
        "model.compile(loss='categorical_crossentropy',\n",
        "              optimizer='adam', \n",
        "              metrics=['acc'],)"
      ]
    },
    {
      "cell_type": "code",
      "execution_count": null,
      "metadata": {
        "colab": {
          "base_uri": "https://localhost:8080/"
        },
        "id": "TsVbHf0RAzpw",
        "outputId": "7f2db70d-6923-4eb1-ed01-57aa2e894ff5"
      },
      "outputs": [
        {
          "name": "stdout",
          "output_type": "stream",
          "text": [
            "Epoch 1/10\n",
            "304/304 [==============================] - 15s 41ms/step - loss: 1.8040 - acc: 0.3795 - val_loss: 1.5383 - val_acc: 0.4996\n",
            "Epoch 2/10\n",
            "304/304 [==============================] - 12s 39ms/step - loss: 1.3708 - acc: 0.5668 - val_loss: 1.4475 - val_acc: 0.5514\n",
            "Epoch 3/10\n",
            "304/304 [==============================] - 12s 39ms/step - loss: 1.0569 - acc: 0.6754 - val_loss: 1.3903 - val_acc: 0.5691\n",
            "Epoch 4/10\n",
            "304/304 [==============================] - 12s 39ms/step - loss: 0.8255 - acc: 0.7393 - val_loss: 1.5630 - val_acc: 0.5547\n"
          ]
        }
      ],
      "source": [
        "#Try classweight from this https://datascience.stackexchange.com/questions/13490/how-to-set-class-weights-for-imbalanced-classes-in-keras\n",
        "\n",
        "history = model.fit(Xtrain, ytrain, \n",
        "                    epochs=10, batch_size=32, \n",
        "                    validation_split=0.2,\n",
        "                    callbacks=[early_stopping])"
      ]
    },
    {
      "cell_type": "code",
      "execution_count": null,
      "metadata": {
        "colab": {
          "base_uri": "https://localhost:8080/",
          "height": 283
        },
        "id": "XFAMSdCPAzpx",
        "outputId": "63a1cf43-6794-4e8b-f18f-8445b2d83d2f"
      },
      "outputs": [
        {
          "data": {
            "text/plain": [
              "<matplotlib.axes._subplots.AxesSubplot at 0x7fe5858c8e90>"
            ]
          },
          "execution_count": 38,
          "metadata": {},
          "output_type": "execute_result"
        },
        {
          "data": {
            "image/png": "[encoded data removed]",
            "text/plain": [
              "<Figure size 432x288 with 1 Axes>"
            ]
          },
          "metadata": {},
          "output_type": "display_data"
        }
      ],
      "source": [
        "history_frame = pd.DataFrame(history.history)\n",
        "history_frame.loc[:, ['loss', 'val_loss']].plot()"
      ]
    },
    {
      "cell_type": "code",
      "execution_count": null,
      "metadata": {
        "colab": {
          "base_uri": "https://localhost:8080/",
          "height": 283
        },
        "id": "q4jxsipNAzpx",
        "outputId": "7a1bbb81-3ed1-47a0-b87f-d5106bc40a54"
      },
      "outputs": [
        {
          "data": {
            "text/plain": [
              "<matplotlib.axes._subplots.AxesSubplot at 0x7fe59649f810>"
            ]
          },
          "execution_count": 39,
          "metadata": {},
          "output_type": "execute_result"
        },
        {
          "data": {
            "image/png": "[encoded data removed]",
            "text/plain": [
              "<Figure size 432x288 with 1 Axes>"
            ]
          },
          "metadata": {},
          "output_type": "display_data"
        }
      ],
      "source": [
        "history_frame.loc[:, ['acc', 'val_acc']].plot()"
      ]
    },
    {
      "cell_type": "code",
      "execution_count": null,
      "metadata": {
        "colab": {
          "base_uri": "https://localhost:8080/"
        },
        "id": "PMDF44cfAzpx",
        "outputId": "e5297432-e975-4197-8fd7-721b52bbefc7"
      },
      "outputs": [
        {
          "name": "stdout",
          "output_type": "stream",
          "text": [
            "(12150, 13) (389, 13)\n"
          ]
        }
      ],
      "source": [
        "print(ytrain.shape, ytest.shape)"
      ]
    },
    {
      "cell_type": "code",
      "execution_count": null,
      "metadata": {
        "colab": {
          "base_uri": "https://localhost:8080/"
        },
        "id": "KveBiofgAzpy",
        "outputId": "be4712e0-d6fe-44e7-8551-17821f614f0c"
      },
      "outputs": [
        {
          "name": "stdout",
          "output_type": "stream",
          "text": [
            "13/13 [==============================] - 0s 9ms/step - loss: 3.5126 - acc: 0.3033\n",
            "Test Accuracy: 30.334190\n"
          ]
        }
      ],
      "source": [
        "loss, acc = model.evaluate(Xtest, ytest)\n",
        "print('Test Accuracy: %f' % (acc*100))"
      ]
    },
    {
      "cell_type": "markdown",
      "metadata": {
        "id": "B6c9hIuLuizO"
      },
      "source": [
        "##CNN1,32(3) GMP1D D256 D13: 55-56"
      ]
    },
    {
      "cell_type": "code",
      "execution_count": null,
      "metadata": {
        "id": "XZPVUSnhuizP"
      },
      "outputs": [],
      "source": [
        "from keras.layers import Dense, Flatten, Embedding, BatchNormalization, Dropout\n",
        "from keras.models import Sequential\n",
        "from keras.layers.convolutional import Conv1D, MaxPooling1D"
      ]
    },
    {
      "cell_type": "code",
      "execution_count": null,
      "metadata": {
        "colab": {
          "base_uri": "https://localhost:8080/"
        },
        "id": "4b7xEhs1uizP",
        "outputId": "8b55c0ef-abfa-4841-b5b2-1b1fe64ecce4"
      },
      "outputs": [
        {
          "name": "stdout",
          "output_type": "stream",
          "text": [
            "Model: \"sequential_3\"\n",
            "_________________________________________________________________\n",
            " Layer (type)                Output Shape              Param #   \n",
            "=================================================================\n",
            " embedding_3 (Embedding)     (None, 66, 100)           1260900   \n",
            "                                                                 \n",
            " conv1d_3 (Conv1D)           (None, 64, 32)            9632      \n",
            "                                                                 \n",
            " global_max_pooling1d_1 (Glo  (None, 32)               0         \n",
            " balMaxPooling1D)                                                \n",
            "                                                                 \n",
            " flatten_3 (Flatten)         (None, 32)                0         \n",
            "                                                                 \n",
            " dense_8 (Dense)             (None, 256)               8448      \n",
            "                                                                 \n",
            " dense_9 (Dense)             (None, 13)                3341      \n",
            "                                                                 \n",
            "=================================================================\n",
            "Total params: 1,282,321\n",
            "Trainable params: 1,282,321\n",
            "Non-trainable params: 0\n",
            "_________________________________________________________________\n",
            "None\n"
          ]
        }
      ],
      "source": [
        "from keras.layers.pooling import GlobalMaxPooling1D\n",
        "#Define our model\n",
        "model = Sequential()\n",
        "\n",
        "model.add(Embedding(vocab_size, 100, input_length=max_length, trainable=True))\n",
        "\n",
        "model.add(Conv1D(filters=32, kernel_size=3, activation='relu'))\n",
        "model.add(GlobalMaxPooling1D())\n",
        "\n",
        "#CNN GMP1D(w/o spec): 56.812340\n",
        "#2CNN GMP1D(w/o spec): 53.470439\n",
        "#CNN BN GMP1D(w/o spec): 52.956301\n",
        "\n",
        "\n",
        "model.add(Flatten())\n",
        "#Flatten(): 56\n",
        "#w/o Flatten(): 55\n",
        "\n",
        "model.add(Dense(256, activation='relu'))\n",
        "model.add(Dense(num_classes, activation='softmax'))\n",
        "print(model.summary())"
      ]
    },
    {
      "cell_type": "code",
      "execution_count": null,
      "metadata": {
        "id": "bG3KfKXWuizP"
      },
      "outputs": [],
      "source": [
        "from tensorflow.keras.callbacks import EarlyStopping\n",
        "\n",
        "#put early stopping\n",
        "early_stopping = EarlyStopping(monitor='val_loss', patience=1, mode='min')\n",
        "\n",
        "#Your choices of activation='softmax' in the last layer and compile choice of loss='categorical_crossentropy' \n",
        "#are good for a model to predict multiple mutually-exclusive classes.\n",
        "\n",
        "model.compile(loss='categorical_crossentropy',\n",
        "              optimizer='adam', \n",
        "              metrics=['acc'],)"
      ]
    },
    {
      "cell_type": "code",
      "execution_count": null,
      "metadata": {
        "colab": {
          "base_uri": "https://localhost:8080/"
        },
        "id": "5qqQD5JruizP",
        "outputId": "8488472a-be92-4054-ea49-f8e8cde2d821"
      },
      "outputs": [
        {
          "name": "stdout",
          "output_type": "stream",
          "text": [
            "Epoch 1/10\n",
            "152/152 [==============================] - 2s 12ms/step - loss: 1.9291 - acc: 0.3521 - val_loss: 1.5956 - val_acc: 0.4741\n",
            "Epoch 2/10\n",
            "152/152 [==============================] - 2s 11ms/step - loss: 1.3895 - acc: 0.5716 - val_loss: 1.3310 - val_acc: 0.5720\n",
            "Epoch 3/10\n",
            "152/152 [==============================] - 2s 11ms/step - loss: 1.0274 - acc: 0.6866 - val_loss: 1.2672 - val_acc: 0.5942\n",
            "Epoch 4/10\n",
            "152/152 [==============================] - 2s 11ms/step - loss: 0.7227 - acc: 0.7754 - val_loss: 1.3490 - val_acc: 0.5897\n"
          ]
        }
      ],
      "source": [
        "#Try classweight from this https://datascience.stackexchange.com/questions/13490/how-to-set-class-weights-for-imbalanced-classes-in-keras\n",
        "#Current val_loss =  1.24\n",
        "history = model.fit(Xtrain, ytrain, \n",
        "                    epochs=10, batch_size=64, \n",
        "                    validation_split=0.2,\n",
        "                    callbacks=[early_stopping])"
      ]
    },
    {
      "cell_type": "code",
      "execution_count": null,
      "metadata": {
        "colab": {
          "base_uri": "https://localhost:8080/"
        },
        "id": "K2KkrfNh_dYh",
        "outputId": "e2f66267-80c0-480e-cbfb-c2e0cc763784"
      },
      "outputs": [
        {
          "name": "stdout",
          "output_type": "stream",
          "text": [
            "13/13 [==============================] - 0s 2ms/step - loss: 1.4382 - acc: 0.5604\n",
            "Test Accuracy: 56.041133\n"
          ]
        }
      ],
      "source": [
        "loss, acc = model.evaluate(Xtest, ytest)\n",
        "print('Test Accuracy: %f' % (acc*100))"
      ]
    },
    {
      "cell_type": "markdown",
      "metadata": {
        "id": "rj8249jXuzp2"
      },
      "source": [
        "##CNN1,128(5) GMP1D D13: 60-64"
      ]
    },
    {
      "cell_type": "code",
      "execution_count": null,
      "metadata": {
        "id": "LsPxxED9uzqA"
      },
      "outputs": [],
      "source": [
        "from keras.layers import Dense, Flatten, Embedding, BatchNormalization, Dropout\n",
        "from keras.models import Sequential\n",
        "from keras.layers.convolutional import Conv1D, MaxPooling1D"
      ]
    },
    {
      "cell_type": "code",
      "execution_count": null,
      "metadata": {
        "colab": {
          "base_uri": "https://localhost:8080/"
        },
        "id": "alpi6avRuzqA",
        "outputId": "1d40aac5-d7d7-4209-d324-70a192b49902"
      },
      "outputs": [
        {
          "name": "stdout",
          "output_type": "stream",
          "text": [
            "Model: \"sequential_4\"\n",
            "_________________________________________________________________\n",
            " Layer (type)                Output Shape              Param #   \n",
            "=================================================================\n",
            " embedding_4 (Embedding)     (None, 66, 1000)          12609000  \n",
            "                                                                 \n",
            " conv1d_4 (Conv1D)           (None, 62, 128)           640128    \n",
            "                                                                 \n",
            " global_max_pooling1d_2 (Glo  (None, 128)              0         \n",
            " balMaxPooling1D)                                                \n",
            "                                                                 \n",
            " dense_10 (Dense)            (None, 13)                1677      \n",
            "                                                                 \n",
            "=================================================================\n",
            "Total params: 13,250,805\n",
            "Trainable params: 13,250,805\n",
            "Non-trainable params: 0\n",
            "_________________________________________________________________\n",
            "None\n"
          ]
        }
      ],
      "source": [
        "from keras.layers.pooling import GlobalMaxPooling1D\n",
        "#Define our model\n",
        "model = Sequential()\n",
        "\n",
        "model.add(Embedding(vocab_size, 1000, input_length=max_length, trainable=True))\n",
        "\n",
        "model.add(Conv1D(filters=128, kernel_size=5, activation='relu'))\n",
        "model.add(GlobalMaxPooling1D())\n",
        "\n",
        "model.add(Dense(num_classes, activation='softmax'))\n",
        "print(model.summary())"
      ]
    },
    {
      "cell_type": "code",
      "execution_count": null,
      "metadata": {
        "id": "L7qLhhuTuzqB"
      },
      "outputs": [],
      "source": [
        "from tensorflow.keras.callbacks import EarlyStopping\n",
        "\n",
        "#put early stopping\n",
        "early_stopping = EarlyStopping(monitor='val_loss', patience=1, mode='min')\n",
        "\n",
        "#Your choices of activation='softmax' in the last layer and compile choice of loss='categorical_crossentropy' \n",
        "#are good for a model to predict multiple mutually-exclusive classes.\n",
        "\n",
        "model.compile(loss='categorical_crossentropy',\n",
        "              optimizer='adam', \n",
        "              metrics=['acc'],)"
      ]
    },
    {
      "cell_type": "code",
      "execution_count": null,
      "metadata": {
        "colab": {
          "base_uri": "https://localhost:8080/"
        },
        "id": "swLzSwyPuzqB",
        "outputId": "378518a5-b5b7-4d5a-e7d3-c22ee4dffda6"
      },
      "outputs": [
        {
          "name": "stdout",
          "output_type": "stream",
          "text": [
            "Epoch 1/10\n",
            "152/152 [==============================] - 14s 90ms/step - loss: 1.5844 - acc: 0.4935 - val_loss: 1.2118 - val_acc: 0.6103\n",
            "Epoch 2/10\n",
            "152/152 [==============================] - 13s 88ms/step - loss: 0.8901 - acc: 0.7209 - val_loss: 1.0843 - val_acc: 0.6379\n",
            "Epoch 3/10\n",
            "152/152 [==============================] - 13s 88ms/step - loss: 0.3994 - acc: 0.8972 - val_loss: 1.1140 - val_acc: 0.6412\n"
          ]
        }
      ],
      "source": [
        "history = model.fit(Xtrain, ytrain, \n",
        "                    epochs=10, batch_size=64, \n",
        "                    validation_split=0.2,\n",
        "                    callbacks=[early_stopping])"
      ]
    },
    {
      "cell_type": "code",
      "execution_count": null,
      "metadata": {
        "colab": {
          "base_uri": "https://localhost:8080/"
        },
        "id": "W7deuZrkuzqB",
        "outputId": "3085ae8a-3279-4383-ed59-70dbb225bc3c"
      },
      "outputs": [
        {
          "name": "stdout",
          "output_type": "stream",
          "text": [
            "13/13 [==============================] - 0s 5ms/step - loss: 1.2131 - acc: 0.6401\n",
            "Test Accuracy: 64.010280\n"
          ]
        }
      ],
      "source": [
        "loss, acc = model.evaluate(Xtest, ytest)\n",
        "print('Test Accuracy: %f' % (acc*100))"
      ]
    },
    {
      "cell_type": "markdown",
      "metadata": {
        "id": "QLnM8ds2X8zg"
      },
      "source": [
        "## CNN1,512&1024,(5,7,10) GMP1D D13: 53-64\n",
        "the best kernel from [5,7,10] = 5"
      ]
    },
    {
      "cell_type": "code",
      "execution_count": null,
      "metadata": {
        "id": "Nuel3LIIc8r7"
      },
      "outputs": [],
      "source": [
        "from keras.layers import Dense, Flatten, Embedding, BatchNormalization, Dropout, LSTM, Bidirectional, TimeDistributed\n",
        "from keras.models import Sequential\n",
        "from keras.layers.convolutional import Conv1D, MaxPooling1D\n",
        "from keras.layers.pooling import GlobalMaxPooling1D, AveragePooling1D, GlobalAveragePooling1D\n",
        "import tensorflow as tf\n",
        "from keras.layers.pooling import GlobalMaxPooling1D\n",
        "from tensorflow.keras.callbacks import EarlyStopping"
      ]
    },
    {
      "cell_type": "code",
      "execution_count": null,
      "metadata": {
        "colab": {
          "base_uri": "https://localhost:8080/"
        },
        "id": "m4e89MFGm0JA",
        "outputId": "c9ef3906-25f7-4650-d523-086bdee272cb"
      },
      "outputs": [
        {
          "name": "stdout",
          "output_type": "stream",
          "text": [
            "Epoch 1/10\n",
            "304/304 [==============================] - 39s 125ms/step - loss: 1.3729 - acc: 0.5581 - val_loss: 1.0888 - val_acc: 0.6424\n",
            "Epoch 2/10\n",
            "304/304 [==============================] - 38s 124ms/step - loss: 0.6178 - acc: 0.8028 - val_loss: 1.1055 - val_acc: 0.6453\n",
            "13/13 [==============================] - 0s 12ms/step - loss: 1.2212 - acc: 0.6401\n",
            "===========================================\n",
            "Filter: 512\n",
            "Kernel: 5\n",
            "Test Accuracy: 64.010280\n",
            "===========================================\n",
            "Epoch 1/10\n",
            "304/304 [==============================] - 47s 154ms/step - loss: 1.3788 - acc: 0.5511 - val_loss: 1.1015 - val_acc: 0.6379\n",
            "Epoch 2/10\n",
            "304/304 [==============================] - 47s 154ms/step - loss: 0.5691 - acc: 0.8230 - val_loss: 1.1063 - val_acc: 0.6444\n",
            "13/13 [==============================] - 0s 16ms/step - loss: 1.2504 - acc: 0.5964\n",
            "===========================================\n",
            "Filter: 512\n",
            "Kernel: 7\n",
            "Test Accuracy: 59.640104\n",
            "===========================================\n",
            "Epoch 1/10\n",
            "304/304 [==============================] - 58s 190ms/step - loss: 1.3776 - acc: 0.5549 - val_loss: 1.1815 - val_acc: 0.6115\n",
            "Epoch 2/10\n",
            "304/304 [==============================] - 57s 188ms/step - loss: 0.5130 - acc: 0.8430 - val_loss: 1.1379 - val_acc: 0.6436\n",
            "Epoch 3/10\n",
            "304/304 [==============================] - 58s 189ms/step - loss: 0.0823 - acc: 0.9844 - val_loss: 1.2257 - val_acc: 0.6519\n",
            "13/13 [==============================] - 0s 18ms/step - loss: 1.5198 - acc: 0.5681\n",
            "===========================================\n",
            "Filter: 512\n",
            "Kernel: 10\n",
            "Test Accuracy: 56.812340\n",
            "===========================================\n",
            "Epoch 1/10\n",
            "304/304 [==============================] - 61s 199ms/step - loss: 1.3529 - acc: 0.5573 - val_loss: 1.0921 - val_acc: 0.6346\n",
            "Epoch 2/10\n",
            "304/304 [==============================] - 60s 198ms/step - loss: 0.5597 - acc: 0.8264 - val_loss: 1.1838 - val_acc: 0.6449\n",
            "13/13 [==============================] - 0s 21ms/step - loss: 1.2990 - acc: 0.6195\n",
            "===========================================\n",
            "Filter: 1024\n",
            "Kernel: 5\n",
            "Test Accuracy: 61.953729\n",
            "===========================================\n",
            "Epoch 1/10\n",
            "304/304 [==============================] - 79s 256ms/step - loss: 1.3533 - acc: 0.5582 - val_loss: 1.1075 - val_acc: 0.6222\n",
            "Epoch 2/10\n",
            "304/304 [==============================] - 82s 268ms/step - loss: 0.4965 - acc: 0.8448 - val_loss: 1.1487 - val_acc: 0.6370\n",
            "13/13 [==============================] - 0s 28ms/step - loss: 1.2764 - acc: 0.6170\n",
            "===========================================\n",
            "Filter: 1024\n",
            "Kernel: 7\n",
            "Test Accuracy: 61.696661\n",
            "===========================================\n",
            "Epoch 1/10\n",
            "304/304 [==============================] - 129s 421ms/step - loss: 1.3557 - acc: 0.5582 - val_loss: 1.1298 - val_acc: 0.6235\n",
            "Epoch 2/10\n",
            "304/304 [==============================] - 143s 472ms/step - loss: 0.4448 - acc: 0.8645 - val_loss: 1.1687 - val_acc: 0.6358\n",
            "13/13 [==============================] - 0s 35ms/step - loss: 1.4803 - acc: 0.5553\n",
            "===========================================\n",
            "Filter: 1024\n",
            "Kernel: 10\n",
            "Test Accuracy: 55.526990\n",
            "===========================================\n"
          ]
        }
      ],
      "source": [
        "filters = [512, 1024]\n",
        "kernels = [5, 7, 10]\n",
        "\n",
        "#Define our model\n",
        "for filter in filters:\n",
        "  for kernel in kernels:\n",
        "    model = Sequential()\n",
        "    model.add(Embedding(vocab_size, 1000, input_length=max_length, trainable=True))\n",
        "    model.add(Conv1D(filter, kernel , activation='relu'))\n",
        "    model.add(GlobalMaxPooling1D())\n",
        "    model.add(Dense(num_classes, activation='softmax'))\n",
        "\n",
        "    #put early stopping\n",
        "    early_stopping = EarlyStopping(monitor='val_loss', patience=1, mode='min')\n",
        "    model.compile(loss='categorical_crossentropy',\n",
        "                  optimizer='adam', \n",
        "                  metrics=['acc'],)\n",
        "    \n",
        "    #train the model\n",
        "    history = model.fit(Xtrain, ytrain, \n",
        "                      epochs=10, batch_size=32, #32, 128 > 8 (worse), 16, 64, 256\n",
        "                      validation_split=0.2,\n",
        "                      callbacks=[early_stopping])\n",
        "  \n",
        "    #evaludate the model\n",
        "    loss, acc = model.evaluate(Xtest, ytest)\n",
        "    print(\"===========================================\")\n",
        "    print(f\"Filter: {filter}\")\n",
        "    print(f\"Kernel: {kernel}\")\n",
        "    print('Test Accuracy: %f' % (acc*100)) #79.333335 (CNN kernel = 10), 78 (CNN kernel = 5)\n",
        "    print(\"===========================================\")"
      ]
    },
    {
      "cell_type": "markdown",
      "metadata": {
        "id": "gKD476bKEypH"
      },
      "source": [
        "##3CNN1,(128,128,128),(6,8,10) 3DO0.1 3GMP1D CONCAT D13 CW: 60-63"
      ]
    },
    {
      "cell_type": "code",
      "execution_count": 18,
      "metadata": {
        "id": "bSBtneaWc33s"
      },
      "outputs": [],
      "source": [
        "import tensorflow as tf\n",
        "from keras.models import Sequential, Model\n",
        "from tensorflow.keras import Input\n",
        "from keras.layers.convolutional import Conv1D, MaxPooling1D\n",
        "from keras.layers.pooling import GlobalMaxPooling1D, AveragePooling1D, GlobalAveragePooling1D\n",
        "from keras.layers import Dense, Flatten, Embedding, BatchNormalization, Dropout, LSTM, Bidirectional, TimeDistributed, concatenate"
      ]
    },
    {
      "cell_type": "markdown",
      "metadata": {
        "id": "PbWlsSRYSjOO"
      },
      "source": [
        "### patience 1: 60-64"
      ]
    },
    {
      "cell_type": "code",
      "execution_count": 19,
      "metadata": {
        "colab": {
          "base_uri": "https://localhost:8080/"
        },
        "id": "lZbW63ODjpT0",
        "outputId": "68a350b3-f97e-4916-96bc-5641ab31d5cf"
      },
      "outputs": [
        {
          "output_type": "stream",
          "name": "stdout",
          "text": [
            "Model: \"model\"\n",
            "__________________________________________________________________________________________________\n",
            " Layer (type)                   Output Shape         Param #     Connected to                     \n",
            "==================================================================================================\n",
            " input_1 (InputLayer)           [(None, 66)]         0           []                               \n",
            "                                                                                                  \n",
            " embedding (Embedding)          (None, 66, 1000)     12609000    ['input_1[0][0]']                \n",
            "                                                                                                  \n",
            " embedding_1 (Embedding)        (None, 66, 1000)     12609000    ['input_1[0][0]']                \n",
            "                                                                                                  \n",
            " embedding_2 (Embedding)        (None, 66, 1000)     12609000    ['input_1[0][0]']                \n",
            "                                                                                                  \n",
            " conv1d (Conv1D)                (None, 61, 128)      768128      ['embedding[0][0]']              \n",
            "                                                                                                  \n",
            " conv1d_1 (Conv1D)              (None, 59, 128)      1024128     ['embedding_1[0][0]']            \n",
            "                                                                                                  \n",
            " conv1d_2 (Conv1D)              (None, 57, 128)      1280128     ['embedding_2[0][0]']            \n",
            "                                                                                                  \n",
            " dropout (Dropout)              (None, 61, 128)      0           ['conv1d[0][0]']                 \n",
            "                                                                                                  \n",
            " dropout_1 (Dropout)            (None, 59, 128)      0           ['conv1d_1[0][0]']               \n",
            "                                                                                                  \n",
            " dropout_2 (Dropout)            (None, 57, 128)      0           ['conv1d_2[0][0]']               \n",
            "                                                                                                  \n",
            " global_max_pooling1d (GlobalMa  (None, 128)         0           ['dropout[0][0]']                \n",
            " xPooling1D)                                                                                      \n",
            "                                                                                                  \n",
            " global_max_pooling1d_1 (Global  (None, 128)         0           ['dropout_1[0][0]']              \n",
            " MaxPooling1D)                                                                                    \n",
            "                                                                                                  \n",
            " global_max_pooling1d_2 (Global  (None, 128)         0           ['dropout_2[0][0]']              \n",
            " MaxPooling1D)                                                                                    \n",
            "                                                                                                  \n",
            " concatenate (Concatenate)      (None, 384)          0           ['global_max_pooling1d[0][0]',   \n",
            "                                                                  'global_max_pooling1d_1[0][0]', \n",
            "                                                                  'global_max_pooling1d_2[0][0]'] \n",
            "                                                                                                  \n",
            " dense (Dense)                  (None, 13)           5005        ['concatenate[0][0]']            \n",
            "                                                                                                  \n",
            "==================================================================================================\n",
            "Total params: 40,904,389\n",
            "Trainable params: 40,904,389\n",
            "Non-trainable params: 0\n",
            "__________________________________________________________________________________________________\n",
            "Epoch 1/10\n",
            "304/304 [==============================] - 61s 196ms/step - loss: 2.0508 - acc: 0.3815 - val_loss: 1.4886 - val_acc: 0.5181\n",
            "Epoch 2/10\n",
            "304/304 [==============================] - 59s 193ms/step - loss: 0.5512 - acc: 0.7639 - val_loss: 1.1513 - val_acc: 0.6218\n",
            "Epoch 3/10\n",
            "304/304 [==============================] - 58s 192ms/step - loss: 0.1178 - acc: 0.9500 - val_loss: 1.0593 - val_acc: 0.6531\n",
            "Epoch 4/10\n",
            "304/304 [==============================] - 58s 192ms/step - loss: 0.0320 - acc: 0.9908 - val_loss: 1.0817 - val_acc: 0.6626\n",
            "13/13 [==============================] - 0s 16ms/step - loss: 1.2148 - acc: 0.6427\n",
            "Test Accuracy: 64.267349\n"
          ]
        }
      ],
      "source": [
        "# create the model\n",
        "model = Sequential()\n",
        "inputs = Input(shape=(max_length,))\n",
        "\n",
        "# channel 1\n",
        "embedding1 = Embedding(vocab_size, 1000, trainable=True)(inputs)\n",
        "conv1 = Conv1D(128, 6, activation='relu')(embedding1)\n",
        "drop1 = Dropout(0.1)(conv1)\n",
        "pool1 = GlobalMaxPooling1D()(drop1)\n",
        "# channel 2\n",
        "embedding2 = Embedding(vocab_size, 1000, trainable=True)(inputs)\n",
        "conv2 = Conv1D(128, 8, activation='relu')(embedding2)\n",
        "drop2 = Dropout(0.1)(conv2)\n",
        "pool2 = GlobalMaxPooling1D()(drop2)\n",
        "# channel 3\n",
        "embedding3 = Embedding(vocab_size, 1000, trainable=True)(inputs)\n",
        "conv3 = Conv1D(128, 10, activation='relu')(embedding3)\n",
        "drop3 = Dropout(0.1)(conv3)\n",
        "pool3 = GlobalMaxPooling1D()(drop3)\n",
        "\n",
        "# merge\n",
        "merged = concatenate([pool1, pool2, pool3])\n",
        "\n",
        "# Fully connected \n",
        "outputs = Dense(num_classes, activation='softmax')(merged) #1 Dense better than 2 or three Denses\n",
        "\n",
        "model = Model(inputs=[inputs], outputs=outputs)\n",
        "model.summary()\n",
        "\n",
        "from tensorflow.keras.callbacks import EarlyStopping\n",
        "\n",
        "#put early stopping\n",
        "early_stopping = EarlyStopping(monitor='val_loss', patience=1, mode='min')\n",
        "\n",
        "#Your choices of activation='softmax' in the last layer and compile choice of loss='categorical_crossentropy' \n",
        "#are good for a model to predict multiple mutually-exclusive classes.\n",
        "\n",
        "#Learning Rate = 0.01, acc = 40%\n",
        "\n",
        "model.compile(loss='categorical_crossentropy',\n",
        "              optimizer='adam', \n",
        "              metrics=['acc'],)\n",
        "\n",
        "train_y = [x-1 for x in train['Human_CategoryID'].tolist()]\n",
        "\n",
        "class_weights = compute_class_weight(\n",
        "                                        class_weight = \"balanced\",\n",
        "                                        classes = np.unique(train_y),\n",
        "                                        y = train_y                                                   \n",
        "                                    )\n",
        "class_weights = dict(zip(np.unique(train_y), class_weights))\n",
        "\n",
        "history = model.fit(Xtrain, ytrain, \n",
        "                    epochs=10, batch_size=32, #32, 128 > 8 (worse), 16, 64, 256\n",
        "                    validation_split=0.2,\n",
        "                    callbacks=[early_stopping],\n",
        "                    class_weight=class_weights)\n",
        "\n",
        "loss, acc = model.evaluate(Xtest, ytest)\n",
        "print('Test Accuracy: %f' % (acc*100))"
      ]
    },
    {
      "cell_type": "markdown",
      "metadata": {
        "id": "HEczlAww7FTb"
      },
      "source": [
        "##3CNN1,(128,256,512),(5) 3DO0.5 3GMP1D CONCAT D13 CW:"
      ]
    },
    {
      "cell_type": "code",
      "execution_count": 22,
      "metadata": {
        "id": "T9G0b6Wk7FTl"
      },
      "outputs": [],
      "source": [
        "import tensorflow as tf\n",
        "from tensorflow.keras import Input\n",
        "from keras.models import Sequential, Model\n",
        "from tensorflow.keras.callbacks import EarlyStopping\n",
        "from keras.layers.convolutional import Conv1D, MaxPooling1D\n",
        "from keras.layers.pooling import GlobalMaxPooling1D, AveragePooling1D, GlobalAveragePooling1D\n",
        "from keras.layers import Dense, Flatten, Embedding, BatchNormalization, Dropout, LSTM, Bidirectional, TimeDistributed, concatenate"
      ]
    },
    {
      "cell_type": "markdown",
      "metadata": {
        "id": "2-p-Mpao7FTl"
      },
      "source": [
        "### patience 1: 63-65"
      ]
    },
    {
      "cell_type": "code",
      "execution_count": 23,
      "metadata": {
        "colab": {
          "base_uri": "https://localhost:8080/"
        },
        "id": "t1fHoJaV7FTl",
        "outputId": "c67b4fe2-007c-4ebb-db8e-d807970ece1c"
      },
      "outputs": [
        {
          "output_type": "stream",
          "name": "stdout",
          "text": [
            "Model: \"model_2\"\n",
            "__________________________________________________________________________________________________\n",
            " Layer (type)                   Output Shape         Param #     Connected to                     \n",
            "==================================================================================================\n",
            " input_3 (InputLayer)           [(None, 66)]         0           []                               \n",
            "                                                                                                  \n",
            " embedding_8 (Embedding)        (None, 66, 1000)     12609000    ['input_3[0][0]']                \n",
            "                                                                                                  \n",
            " embedding_9 (Embedding)        (None, 66, 1000)     12609000    ['input_3[0][0]']                \n",
            "                                                                                                  \n",
            " embedding_10 (Embedding)       (None, 66, 1000)     12609000    ['input_3[0][0]']                \n",
            "                                                                                                  \n",
            " conv1d_7 (Conv1D)              (None, 62, 128)      640128      ['embedding_8[0][0]']            \n",
            "                                                                                                  \n",
            " conv1d_8 (Conv1D)              (None, 62, 256)      1280256     ['embedding_9[0][0]']            \n",
            "                                                                                                  \n",
            " conv1d_9 (Conv1D)              (None, 62, 512)      2560512     ['embedding_10[0][0]']           \n",
            "                                                                                                  \n",
            " dropout_8 (Dropout)            (None, 62, 128)      0           ['conv1d_7[0][0]']               \n",
            "                                                                                                  \n",
            " dropout_9 (Dropout)            (None, 62, 256)      0           ['conv1d_8[0][0]']               \n",
            "                                                                                                  \n",
            " dropout_10 (Dropout)           (None, 62, 512)      0           ['conv1d_9[0][0]']               \n",
            "                                                                                                  \n",
            " global_max_pooling1d_8 (Global  (None, 128)         0           ['dropout_8[0][0]']              \n",
            " MaxPooling1D)                                                                                    \n",
            "                                                                                                  \n",
            " global_max_pooling1d_9 (Global  (None, 256)         0           ['dropout_9[0][0]']              \n",
            " MaxPooling1D)                                                                                    \n",
            "                                                                                                  \n",
            " global_max_pooling1d_10 (Globa  (None, 512)         0           ['dropout_10[0][0]']             \n",
            " lMaxPooling1D)                                                                                   \n",
            "                                                                                                  \n",
            " concatenate_2 (Concatenate)    (None, 896)          0           ['global_max_pooling1d_8[0][0]', \n",
            "                                                                  'global_max_pooling1d_9[0][0]', \n",
            "                                                                  'global_max_pooling1d_10[0][0]']\n",
            "                                                                                                  \n",
            " dense_2 (Dense)                (None, 13)           11661       ['concatenate_2[0][0]']          \n",
            "                                                                                                  \n",
            "==================================================================================================\n",
            "Total params: 42,319,557\n",
            "Trainable params: 42,319,557\n",
            "Non-trainable params: 0\n",
            "__________________________________________________________________________________________________\n",
            "Epoch 1/10\n",
            "304/304 [==============================] - 75s 243ms/step - loss: 2.0730 - acc: 0.3887 - val_loss: 1.7153 - val_acc: 0.4597\n",
            "Epoch 2/10\n",
            "304/304 [==============================] - 74s 243ms/step - loss: 0.6351 - acc: 0.7174 - val_loss: 1.3106 - val_acc: 0.5786\n",
            "Epoch 3/10\n",
            "304/304 [==============================] - 74s 243ms/step - loss: 0.1929 - acc: 0.8988 - val_loss: 1.1501 - val_acc: 0.6222\n",
            "Epoch 4/10\n",
            "304/304 [==============================] - 76s 249ms/step - loss: 0.0722 - acc: 0.9617 - val_loss: 1.0662 - val_acc: 0.6449\n",
            "Epoch 5/10\n",
            "304/304 [==============================] - 76s 249ms/step - loss: 0.0310 - acc: 0.9879 - val_loss: 1.0828 - val_acc: 0.6416\n",
            "13/13 [==============================] - 0s 22ms/step - loss: 1.1439 - acc: 0.6581\n",
            "Test Accuracy: 65.809768\n"
          ]
        }
      ],
      "source": [
        "# create the model\n",
        "model = Sequential()\n",
        "inputs = Input(shape=(max_length,))\n",
        "\n",
        "# channel 1\n",
        "embedding1 = Embedding(vocab_size, 1000, trainable=True)(inputs)\n",
        "conv1 = Conv1D(128, 5, activation='relu')(embedding1)\n",
        "drop1 = Dropout(0.5)(conv1)\n",
        "pool1 = GlobalMaxPooling1D()(drop1)\n",
        "# channel 2\n",
        "embedding2 = Embedding(vocab_size, 1000, trainable=True)(inputs)\n",
        "conv2 = Conv1D(256, 5, activation='relu')(embedding2)\n",
        "drop2 = Dropout(0.5)(conv2)\n",
        "pool2 = GlobalMaxPooling1D()(drop2)\n",
        "# channel 3\n",
        "embedding3 = Embedding(vocab_size, 1000, trainable=True)(inputs)\n",
        "conv3 = Conv1D(512, 5, activation='relu')(embedding3)\n",
        "drop3 = Dropout(0.5)(conv3)\n",
        "pool3 = GlobalMaxPooling1D()(drop3)\n",
        "\n",
        "# merge\n",
        "merged = concatenate([pool1, pool2, pool3])\n",
        "\n",
        "# Fully connected \n",
        "outputs = Dense(num_classes, activation='softmax')(merged) #1 Dense better than 2 or three Denses\n",
        "\n",
        "model = Model(inputs=[inputs], outputs=outputs)\n",
        "model.summary()\n",
        "\n",
        "#put early stopping\n",
        "early_stopping = EarlyStopping(monitor='val_loss', patience=1, mode='min')\n",
        "\n",
        "#Your choices of activation='softmax' in the last layer and compile choice of loss='categorical_crossentropy' \n",
        "#are good for a model to predict multiple mutually-exclusive classes.\n",
        "\n",
        "#Learning Rate = 0.01, acc = 40%\n",
        "\n",
        "model.compile(loss='categorical_crossentropy',\n",
        "              optimizer='adam', \n",
        "              metrics=['acc'],)\n",
        "\n",
        "train_y = [x-1 for x in train['Human_CategoryID'].tolist()]\n",
        "\n",
        "class_weights = compute_class_weight(\n",
        "                                        class_weight = \"balanced\",\n",
        "                                        classes = np.unique(train_y),\n",
        "                                        y = train_y                                                   \n",
        "                                    )\n",
        "class_weights = dict(zip(np.unique(train_y), class_weights))\n",
        "\n",
        "history = model.fit(Xtrain, ytrain, \n",
        "                    epochs=10, batch_size=32, #32, 128 > 8 (worse), 16, 64, 256\n",
        "                    validation_split=0.2,\n",
        "                    callbacks=[early_stopping],\n",
        "                    class_weight=class_weights)\n",
        "\n",
        "loss, acc = model.evaluate(Xtest, ytest)\n",
        "print('Test Accuracy: %f' % (acc*100))"
      ]
    },
    {
      "cell_type": "markdown",
      "metadata": {
        "id": "1A9Q3RLu7FTl"
      },
      "source": [
        "### patience 2: 62"
      ]
    },
    {
      "cell_type": "code",
      "execution_count": 24,
      "metadata": {
        "id": "3JCUpe-h7FTl",
        "colab": {
          "base_uri": "https://localhost:8080/"
        },
        "outputId": "2d63f20e-7e8e-450d-e3c0-d888bf9887f5"
      },
      "outputs": [
        {
          "output_type": "stream",
          "name": "stdout",
          "text": [
            "Model: \"model_3\"\n",
            "__________________________________________________________________________________________________\n",
            " Layer (type)                   Output Shape         Param #     Connected to                     \n",
            "==================================================================================================\n",
            " input_4 (InputLayer)           [(None, 66)]         0           []                               \n",
            "                                                                                                  \n",
            " embedding_11 (Embedding)       (None, 66, 1000)     12609000    ['input_4[0][0]']                \n",
            "                                                                                                  \n",
            " embedding_12 (Embedding)       (None, 66, 1000)     12609000    ['input_4[0][0]']                \n",
            "                                                                                                  \n",
            " embedding_13 (Embedding)       (None, 66, 1000)     12609000    ['input_4[0][0]']                \n",
            "                                                                                                  \n",
            " conv1d_10 (Conv1D)             (None, 62, 128)      640128      ['embedding_11[0][0]']           \n",
            "                                                                                                  \n",
            " conv1d_11 (Conv1D)             (None, 62, 256)      1280256     ['embedding_12[0][0]']           \n",
            "                                                                                                  \n",
            " conv1d_12 (Conv1D)             (None, 62, 512)      2560512     ['embedding_13[0][0]']           \n",
            "                                                                                                  \n",
            " dropout_11 (Dropout)           (None, 62, 128)      0           ['conv1d_10[0][0]']              \n",
            "                                                                                                  \n",
            " dropout_12 (Dropout)           (None, 62, 256)      0           ['conv1d_11[0][0]']              \n",
            "                                                                                                  \n",
            " dropout_13 (Dropout)           (None, 62, 512)      0           ['conv1d_12[0][0]']              \n",
            "                                                                                                  \n",
            " global_max_pooling1d_11 (Globa  (None, 128)         0           ['dropout_11[0][0]']             \n",
            " lMaxPooling1D)                                                                                   \n",
            "                                                                                                  \n",
            " global_max_pooling1d_12 (Globa  (None, 256)         0           ['dropout_12[0][0]']             \n",
            " lMaxPooling1D)                                                                                   \n",
            "                                                                                                  \n",
            " global_max_pooling1d_13 (Globa  (None, 512)         0           ['dropout_13[0][0]']             \n",
            " lMaxPooling1D)                                                                                   \n",
            "                                                                                                  \n",
            " concatenate_3 (Concatenate)    (None, 896)          0           ['global_max_pooling1d_11[0][0]',\n",
            "                                                                  'global_max_pooling1d_12[0][0]',\n",
            "                                                                  'global_max_pooling1d_13[0][0]']\n",
            "                                                                                                  \n",
            " dense_3 (Dense)                (None, 13)           11661       ['concatenate_3[0][0]']          \n",
            "                                                                                                  \n",
            "==================================================================================================\n",
            "Total params: 42,319,557\n",
            "Trainable params: 42,319,557\n",
            "Non-trainable params: 0\n",
            "__________________________________________________________________________________________________\n",
            "Epoch 1/10\n",
            "304/304 [==============================] - 75s 244ms/step - loss: 2.0316 - acc: 0.3948 - val_loss: 1.6322 - val_acc: 0.4770\n",
            "Epoch 2/10\n",
            "304/304 [==============================] - 74s 243ms/step - loss: 0.6113 - acc: 0.7203 - val_loss: 1.2348 - val_acc: 0.6136\n",
            "Epoch 3/10\n",
            "304/304 [==============================] - 74s 244ms/step - loss: 0.1894 - acc: 0.8986 - val_loss: 1.1217 - val_acc: 0.6342\n",
            "Epoch 4/10\n",
            "304/304 [==============================] - 74s 244ms/step - loss: 0.0696 - acc: 0.9647 - val_loss: 1.0773 - val_acc: 0.6444\n",
            "Epoch 5/10\n",
            "304/304 [==============================] - 77s 252ms/step - loss: 0.0314 - acc: 0.9872 - val_loss: 1.0805 - val_acc: 0.6486\n",
            "Epoch 6/10\n",
            "304/304 [==============================] - 71s 233ms/step - loss: 0.0174 - acc: 0.9947 - val_loss: 1.0957 - val_acc: 0.6486\n",
            "13/13 [==============================] - 0s 21ms/step - loss: 1.1306 - acc: 0.6581\n",
            "Test Accuracy: 65.809768\n"
          ]
        }
      ],
      "source": [
        "# create the model\n",
        "model = Sequential()\n",
        "inputs = Input(shape=(max_length,))\n",
        "\n",
        "# channel 1\n",
        "embedding1 = Embedding(vocab_size, 1000, trainable=True)(inputs)\n",
        "conv1 = Conv1D(128, 5, activation='relu')(embedding1)\n",
        "drop1 = Dropout(0.5)(conv1)\n",
        "pool1 = GlobalMaxPooling1D()(drop1)\n",
        "# channel 2\n",
        "embedding2 = Embedding(vocab_size, 1000, trainable=True)(inputs)\n",
        "conv2 = Conv1D(256, 5, activation='relu')(embedding2)\n",
        "drop2 = Dropout(0.5)(conv2)\n",
        "pool2 = GlobalMaxPooling1D()(drop2)\n",
        "# channel 3\n",
        "embedding3 = Embedding(vocab_size, 1000, trainable=True)(inputs)\n",
        "conv3 = Conv1D(512, 5, activation='relu')(embedding3)\n",
        "drop3 = Dropout(0.5)(conv3)\n",
        "pool3 = GlobalMaxPooling1D()(drop3)\n",
        "\n",
        "# merge\n",
        "merged = concatenate([pool1, pool2, pool3])\n",
        "\n",
        "# Fully connected \n",
        "outputs = Dense(num_classes, activation='softmax')(merged) #1 Dense better than 2 or three Denses\n",
        "\n",
        "model = Model(inputs=[inputs], outputs=outputs)\n",
        "model.summary()\n",
        "\n",
        "#put early stopping\n",
        "early_stopping = EarlyStopping(monitor='val_loss', patience=2, mode='min')\n",
        "\n",
        "#Your choices of activation='softmax' in the last layer and compile choice of loss='categorical_crossentropy' \n",
        "#are good for a model to predict multiple mutually-exclusive classes.\n",
        "\n",
        "#Learning Rate = 0.01, acc = 40%\n",
        "\n",
        "model.compile(loss='categorical_crossentropy',\n",
        "              optimizer='adam', \n",
        "              metrics=['acc'],)\n",
        "\n",
        "train_y = [x-1 for x in train['Human_CategoryID'].tolist()]\n",
        "\n",
        "class_weights = compute_class_weight(\n",
        "                                        class_weight = \"balanced\",\n",
        "                                        classes = np.unique(train_y),\n",
        "                                        y = train_y                                                   \n",
        "                                    )\n",
        "class_weights = dict(zip(np.unique(train_y), class_weights))\n",
        "\n",
        "history = model.fit(Xtrain, ytrain, \n",
        "                    epochs=10, batch_size=32, #32, 128 > 8 (worse), 16, 64, 256\n",
        "                    validation_split=0.2,\n",
        "                    callbacks=[early_stopping],\n",
        "                    class_weight=class_weights)\n",
        "\n",
        "loss, acc = model.evaluate(Xtest, ytest)\n",
        "print('Test Accuracy: %f' % (acc*100))"
      ]
    },
    {
      "cell_type": "markdown",
      "metadata": {
        "id": "zH9th0kco1QV"
      },
      "source": [
        "##4CNN1,(128,256,512,1024),(5) 3DO0.5 3GMP1D CONCAT D13 CW"
      ]
    },
    {
      "cell_type": "code",
      "execution_count": null,
      "metadata": {
        "id": "oOv3IhP9o1QW"
      },
      "outputs": [],
      "source": [
        "import tensorflow as tf\n",
        "from tensorflow.keras import Input\n",
        "from keras.models import Sequential, Model\n",
        "from tensorflow.keras.callbacks import EarlyStopping\n",
        "from keras.layers.convolutional import Conv1D, MaxPooling1D\n",
        "from keras.layers.pooling import GlobalMaxPooling1D, AveragePooling1D, GlobalAveragePooling1D\n",
        "from keras.layers import Dense, Flatten, Embedding, BatchNormalization, Dropout, LSTM, Bidirectional, TimeDistributed, concatenate"
      ]
    },
    {
      "cell_type": "markdown",
      "metadata": {
        "id": "UQidm601xeP1"
      },
      "source": [
        "### patience 1: 62"
      ]
    },
    {
      "cell_type": "code",
      "execution_count": null,
      "metadata": {
        "colab": {
          "base_uri": "https://localhost:8080/"
        },
        "id": "ir-HBrU13Mq2",
        "outputId": "8f1bc776-97b7-4a73-b907-ff770c0c3d72"
      },
      "outputs": [
        {
          "name": "stdout",
          "output_type": "stream",
          "text": [
            "Model: \"model_1\"\n",
            "__________________________________________________________________________________________________\n",
            " Layer (type)                   Output Shape         Param #     Connected to                     \n",
            "==================================================================================================\n",
            " input_2 (InputLayer)           [(None, 66)]         0           []                               \n",
            "                                                                                                  \n",
            " embedding_3 (Embedding)        (None, 66, 1000)     12609000    ['input_2[0][0]']                \n",
            "                                                                                                  \n",
            " embedding_4 (Embedding)        (None, 66, 1000)     12609000    ['input_2[0][0]']                \n",
            "                                                                                                  \n",
            " embedding_5 (Embedding)        (None, 66, 1000)     12609000    ['input_2[0][0]']                \n",
            "                                                                                                  \n",
            " embedding_6 (Embedding)        (None, 66, 1000)     12609000    ['input_2[0][0]']                \n",
            "                                                                                                  \n",
            " conv1d_3 (Conv1D)              (None, 62, 128)      640128      ['embedding_3[0][0]']            \n",
            "                                                                                                  \n",
            " conv1d_4 (Conv1D)              (None, 62, 256)      1280256     ['embedding_4[0][0]']            \n",
            "                                                                                                  \n",
            " conv1d_5 (Conv1D)              (None, 62, 512)      2560512     ['embedding_5[0][0]']            \n",
            "                                                                                                  \n",
            " conv1d_6 (Conv1D)              (None, 62, 1024)     5121024     ['embedding_6[0][0]']            \n",
            "                                                                                                  \n",
            " dropout_3 (Dropout)            (None, 62, 128)      0           ['conv1d_3[0][0]']               \n",
            "                                                                                                  \n",
            " dropout_4 (Dropout)            (None, 62, 256)      0           ['conv1d_4[0][0]']               \n",
            "                                                                                                  \n",
            " dropout_5 (Dropout)            (None, 62, 512)      0           ['conv1d_5[0][0]']               \n",
            "                                                                                                  \n",
            " dropout_6 (Dropout)            (None, 62, 1024)     0           ['conv1d_6[0][0]']               \n",
            "                                                                                                  \n",
            " global_max_pooling1d_3 (Global  (None, 128)         0           ['dropout_3[0][0]']              \n",
            " MaxPooling1D)                                                                                    \n",
            "                                                                                                  \n",
            " global_max_pooling1d_4 (Global  (None, 256)         0           ['dropout_4[0][0]']              \n",
            " MaxPooling1D)                                                                                    \n",
            "                                                                                                  \n",
            " global_max_pooling1d_5 (Global  (None, 512)         0           ['dropout_5[0][0]']              \n",
            " MaxPooling1D)                                                                                    \n",
            "                                                                                                  \n",
            " global_max_pooling1d_6 (Global  (None, 1024)        0           ['dropout_6[0][0]']              \n",
            " MaxPooling1D)                                                                                    \n",
            "                                                                                                  \n",
            " concatenate_1 (Concatenate)    (None, 1920)         0           ['global_max_pooling1d_3[0][0]', \n",
            "                                                                  'global_max_pooling1d_4[0][0]', \n",
            "                                                                  'global_max_pooling1d_5[0][0]', \n",
            "                                                                  'global_max_pooling1d_6[0][0]'] \n",
            "                                                                                                  \n",
            " dense_1 (Dense)                (None, 13)           24973       ['concatenate_1[0][0]']          \n",
            "                                                                                                  \n",
            "==================================================================================================\n",
            "Total params: 60,062,893\n",
            "Trainable params: 60,062,893\n",
            "Non-trainable params: 0\n",
            "__________________________________________________________________________________________________\n",
            "Epoch 1/10\n",
            "304/304 [==============================] - 139s 454ms/step - loss: 2.0711 - acc: 0.3722 - val_loss: 1.5615 - val_acc: 0.5012\n",
            "Epoch 2/10\n",
            "304/304 [==============================] - 131s 432ms/step - loss: 0.6038 - acc: 0.7285 - val_loss: 1.1767 - val_acc: 0.6235\n",
            "Epoch 3/10\n",
            "304/304 [==============================] - 130s 428ms/step - loss: 0.1735 - acc: 0.9005 - val_loss: 1.1354 - val_acc: 0.6218\n",
            "Epoch 4/10\n",
            "304/304 [==============================] - 129s 424ms/step - loss: 0.0557 - acc: 0.9689 - val_loss: 1.1342 - val_acc: 0.6288\n",
            "Epoch 5/10\n",
            "304/304 [==============================] - 130s 428ms/step - loss: 0.0217 - acc: 0.9919 - val_loss: 1.1161 - val_acc: 0.6325\n",
            "Epoch 6/10\n",
            "304/304 [==============================] - 130s 426ms/step - loss: 0.0104 - acc: 0.9978 - val_loss: 1.1547 - val_acc: 0.6399\n",
            "13/13 [==============================] - 1s 39ms/step - loss: 1.2385 - acc: 0.6221\n",
            "Test Accuracy: 62.210798\n"
          ]
        }
      ],
      "source": [
        "# create the model\n",
        "model = Sequential()\n",
        "inputs = Input(shape=(max_length,))\n",
        "\n",
        "# channel 1\n",
        "embedding1 = Embedding(vocab_size, 1000, trainable=True)(inputs)\n",
        "conv1 = Conv1D(128, 5, activation='relu')(embedding1)\n",
        "drop1 = Dropout(0.5)(conv1)\n",
        "pool1 = GlobalMaxPooling1D()(drop1)\n",
        "# channel 2\n",
        "embedding2 = Embedding(vocab_size, 1000, trainable=True)(inputs)\n",
        "conv2 = Conv1D(256, 5, activation='relu')(embedding2)\n",
        "drop2 = Dropout(0.5)(conv2)\n",
        "pool2 = GlobalMaxPooling1D()(drop2)\n",
        "# channel 3\n",
        "embedding3 = Embedding(vocab_size, 1000, trainable=True)(inputs)\n",
        "conv3 = Conv1D(512, 5, activation='relu')(embedding3)\n",
        "drop3 = Dropout(0.5)(conv3)\n",
        "pool3 = GlobalMaxPooling1D()(drop3)\n",
        "# channel 4\n",
        "embedding4 = Embedding(vocab_size, 1000, trainable=True)(inputs)\n",
        "conv4 = Conv1D(1024, 5, activation='relu')(embedding4)\n",
        "drop4 = Dropout(0.5)(conv4)\n",
        "pool4 = GlobalMaxPooling1D()(drop4)\n",
        "\n",
        "# merge\n",
        "merged = concatenate([pool1, pool2, pool3, pool4])\n",
        "\n",
        "# Fully connected \n",
        "outputs = Dense(num_classes, activation='softmax')(merged) #1 Dense better than 2 or three Denses\n",
        "\n",
        "model = Model(inputs=[inputs], outputs=outputs)\n",
        "model.summary()\n",
        "\n",
        "#put early stopping\n",
        "early_stopping = EarlyStopping(monitor='val_loss', patience=1, mode='min')\n",
        "\n",
        "#Your choices of activation='softmax' in the last layer and compile choice of loss='categorical_crossentropy' \n",
        "#are good for a model to predict multiple mutually-exclusive classes.\n",
        "\n",
        "#Learning Rate = 0.01, acc = 40%\n",
        "\n",
        "model.compile(loss='categorical_crossentropy',\n",
        "              optimizer='adam', \n",
        "              metrics=['acc'],)\n",
        "\n",
        "train_y = [x-1 for x in train['Human_CategoryID'].tolist()]\n",
        "\n",
        "class_weights = compute_class_weight(\n",
        "                                        class_weight = \"balanced\",\n",
        "                                        classes = np.unique(train_y),\n",
        "                                        y = train_y                                                   \n",
        "                                    )\n",
        "class_weights = dict(zip(np.unique(train_y), class_weights))\n",
        "\n",
        "history = model.fit(Xtrain, ytrain, \n",
        "                    epochs=10, batch_size=32, #32, 128 > 8 (worse), 16, 64, 256\n",
        "                    validation_split=0.2,\n",
        "                    callbacks=[early_stopping],\n",
        "                    class_weight=class_weights)\n",
        "\n",
        "loss, acc = model.evaluate(Xtest, ytest)\n",
        "print('Test Accuracy: %f' % (acc*100))"
      ]
    },
    {
      "cell_type": "markdown",
      "metadata": {
        "id": "BBqiWgrMxWlM"
      },
      "source": [
        "### patience 2: 62-65"
      ]
    },
    {
      "cell_type": "code",
      "execution_count": null,
      "metadata": {
        "colab": {
          "base_uri": "https://localhost:8080/"
        },
        "id": "NNUqJ357O-69",
        "outputId": "4131de5c-cc39-4178-ca52-ac1a310e0408"
      },
      "outputs": [
        {
          "name": "stdout",
          "output_type": "stream",
          "text": [
            "Model: \"model_4\"\n",
            "__________________________________________________________________________________________________\n",
            " Layer (type)                   Output Shape         Param #     Connected to                     \n",
            "==================================================================================================\n",
            " input_5 (InputLayer)           [(None, 66)]         0           []                               \n",
            "                                                                                                  \n",
            " embedding_16 (Embedding)       (None, 66, 1000)     12609000    ['input_5[0][0]']                \n",
            "                                                                                                  \n",
            " embedding_17 (Embedding)       (None, 66, 1000)     12609000    ['input_5[0][0]']                \n",
            "                                                                                                  \n",
            " embedding_18 (Embedding)       (None, 66, 1000)     12609000    ['input_5[0][0]']                \n",
            "                                                                                                  \n",
            " embedding_19 (Embedding)       (None, 66, 1000)     12609000    ['input_5[0][0]']                \n",
            "                                                                                                  \n",
            " conv1d_15 (Conv1D)             (None, 62, 128)      640128      ['embedding_16[0][0]']           \n",
            "                                                                                                  \n",
            " conv1d_16 (Conv1D)             (None, 62, 256)      1280256     ['embedding_17[0][0]']           \n",
            "                                                                                                  \n",
            " conv1d_17 (Conv1D)             (None, 62, 512)      2560512     ['embedding_18[0][0]']           \n",
            "                                                                                                  \n",
            " conv1d_18 (Conv1D)             (None, 62, 1024)     5121024     ['embedding_19[0][0]']           \n",
            "                                                                                                  \n",
            " dropout_16 (Dropout)           (None, 62, 128)      0           ['conv1d_15[0][0]']              \n",
            "                                                                                                  \n",
            " dropout_17 (Dropout)           (None, 62, 256)      0           ['conv1d_16[0][0]']              \n",
            "                                                                                                  \n",
            " dropout_18 (Dropout)           (None, 62, 512)      0           ['conv1d_17[0][0]']              \n",
            "                                                                                                  \n",
            " dropout_19 (Dropout)           (None, 62, 1024)     0           ['conv1d_18[0][0]']              \n",
            "                                                                                                  \n",
            " global_max_pooling1d_16 (Globa  (None, 128)         0           ['dropout_16[0][0]']             \n",
            " lMaxPooling1D)                                                                                   \n",
            "                                                                                                  \n",
            " global_max_pooling1d_17 (Globa  (None, 256)         0           ['dropout_17[0][0]']             \n",
            " lMaxPooling1D)                                                                                   \n",
            "                                                                                                  \n",
            " global_max_pooling1d_18 (Globa  (None, 512)         0           ['dropout_18[0][0]']             \n",
            " lMaxPooling1D)                                                                                   \n",
            "                                                                                                  \n",
            " global_max_pooling1d_19 (Globa  (None, 1024)        0           ['dropout_19[0][0]']             \n",
            " lMaxPooling1D)                                                                                   \n",
            "                                                                                                  \n",
            " concatenate_4 (Concatenate)    (None, 1920)         0           ['global_max_pooling1d_16[0][0]',\n",
            "                                                                  'global_max_pooling1d_17[0][0]',\n",
            "                                                                  'global_max_pooling1d_18[0][0]',\n",
            "                                                                  'global_max_pooling1d_19[0][0]']\n",
            "                                                                                                  \n",
            " dense_4 (Dense)                (None, 13)           24973       ['concatenate_4[0][0]']          \n",
            "                                                                                                  \n",
            "==================================================================================================\n",
            "Total params: 60,062,893\n",
            "Trainable params: 60,062,893\n",
            "Non-trainable params: 0\n",
            "__________________________________________________________________________________________________\n",
            "Epoch 1/10\n",
            "304/304 [==============================] - 130s 422ms/step - loss: 2.0809 - acc: 0.3727 - val_loss: 1.5141 - val_acc: 0.5165\n",
            "Epoch 2/10\n",
            "304/304 [==============================] - 128s 421ms/step - loss: 0.6335 - acc: 0.7226 - val_loss: 1.4073 - val_acc: 0.5305\n",
            "Epoch 3/10\n",
            "304/304 [==============================] - 128s 421ms/step - loss: 0.1789 - acc: 0.8977 - val_loss: 1.1313 - val_acc: 0.6255\n",
            "Epoch 4/10\n",
            "304/304 [==============================] - 128s 421ms/step - loss: 0.0539 - acc: 0.9728 - val_loss: 1.0758 - val_acc: 0.6477\n",
            "Epoch 5/10\n",
            "304/304 [==============================] - 128s 423ms/step - loss: 0.0215 - acc: 0.9927 - val_loss: 1.0800 - val_acc: 0.6510\n",
            "Epoch 6/10\n",
            "304/304 [==============================] - 128s 423ms/step - loss: 0.0115 - acc: 0.9973 - val_loss: 1.1500 - val_acc: 0.6399\n"
          ]
        }
      ],
      "source": [
        "# create the model\n",
        "model = Sequential()\n",
        "inputs = Input(shape=(max_length,))\n",
        "\n",
        "# channel 1\n",
        "embedding1 = Embedding(vocab_size, 1000, trainable=True)(inputs)\n",
        "conv1 = Conv1D(128, 5, activation='relu')(embedding1)\n",
        "drop1 = Dropout(0.5)(conv1)\n",
        "pool1 = GlobalMaxPooling1D()(drop1)\n",
        "# channel 2\n",
        "embedding2 = Embedding(vocab_size, 1000, trainable=True)(inputs)\n",
        "conv2 = Conv1D(256, 5, activation='relu')(embedding2)\n",
        "drop2 = Dropout(0.5)(conv2)\n",
        "pool2 = GlobalMaxPooling1D()(drop2)\n",
        "# channel 3\n",
        "embedding3 = Embedding(vocab_size, 1000, trainable=True)(inputs)\n",
        "conv3 = Conv1D(512, 5, activation='relu')(embedding3)\n",
        "drop3 = Dropout(0.5)(conv3)\n",
        "pool3 = GlobalMaxPooling1D()(drop3)\n",
        "# channel 4\n",
        "embedding4 = Embedding(vocab_size, 1000, trainable=True)(inputs)\n",
        "conv4 = Conv1D(1024, 5, activation='relu')(embedding4)\n",
        "drop4 = Dropout(0.5)(conv4)\n",
        "pool4 = GlobalMaxPooling1D()(drop4)\n",
        "\n",
        "# merge\n",
        "merged = concatenate([pool1, pool2, pool3, pool4])\n",
        "\n",
        "# Fully connected \n",
        "outputs = Dense(num_classes, activation='softmax')(merged) #1 Dense better than 2 or three Denses\n",
        "\n",
        "model = Model(inputs=[inputs], outputs=outputs)\n",
        "model.summary()\n",
        "\n",
        "#put early stopping\n",
        "early_stopping = EarlyStopping(monitor='val_loss', patience=2, mode='min')\n",
        "\n",
        "#Your choices of activation='softmax' in the last layer and compile choice of loss='categorical_crossentropy' \n",
        "#are good for a model to predict multiple mutually-exclusive classes.\n",
        "\n",
        "#Learning Rate = 0.01, acc = 40%\n",
        "\n",
        "model.compile(loss='categorical_crossentropy',\n",
        "              optimizer='adam', \n",
        "              metrics=['acc'],)\n",
        "\n",
        "train_y = [x-1 for x in train['Human_CategoryID'].tolist()]\n",
        "\n",
        "class_weights = compute_class_weight(\n",
        "                                        class_weight = \"balanced\",\n",
        "                                        classes = np.unique(train_y),\n",
        "                                        y = train_y                                                   \n",
        "                                    )\n",
        "class_weights = dict(zip(np.unique(train_y), class_weights))\n",
        "\n",
        "history = model.fit(Xtrain, ytrain, \n",
        "                    epochs=10, batch_size=32, #32, 128 > 8 (worse), 16, 64, 256\n",
        "                    validation_split=0.2,\n",
        "                    callbacks=[early_stopping],\n",
        "                    class_weight=class_weights)"
      ]
    },
    {
      "cell_type": "code",
      "execution_count": null,
      "metadata": {
        "colab": {
          "base_uri": "https://localhost:8080/"
        },
        "id": "X7T3V6UOnlS6",
        "outputId": "c77aba19-407a-497e-9307-e3699fecc975"
      },
      "outputs": [
        {
          "name": "stdout",
          "output_type": "stream",
          "text": [
            "13/13 [==============================] - 1s 39ms/step - loss: 1.2505 - acc: 0.6272\n",
            "Test Accuracy: 62.724936\n"
          ]
        }
      ],
      "source": [
        "loss, acc = model.evaluate(Xtest, ytest)\n",
        "print('Test Accuracy: %f' % (acc*100))"
      ]
    },
    {
      "cell_type": "markdown",
      "metadata": {
        "id": "Nr6TkLvc3P-O"
      },
      "source": [
        "##4CNN1,(256,512,1024, 2048),(5) 3DO0.5 3GMP1D CONCAT D13 CW:"
      ]
    },
    {
      "cell_type": "code",
      "execution_count": null,
      "metadata": {
        "id": "EB_YIqBBc0Aw"
      },
      "outputs": [],
      "source": [
        "import tensorflow as tf\n",
        "from tensorflow.keras import Input\n",
        "from keras.models import Sequential, Model\n",
        "from tensorflow.keras.callbacks import EarlyStopping\n",
        "from keras.layers.convolutional import Conv1D, MaxPooling1D\n",
        "from keras.layers.pooling import GlobalMaxPooling1D, AveragePooling1D, GlobalAveragePooling1D\n",
        "from keras.layers import Dense, Flatten, Embedding, BatchNormalization, Dropout, LSTM, Bidirectional, TimeDistributed, concatenate"
      ]
    },
    {
      "cell_type": "markdown",
      "metadata": {
        "id": "kHZEN6ci3P-P"
      },
      "source": [
        "### patience 1: 61"
      ]
    },
    {
      "cell_type": "code",
      "execution_count": null,
      "metadata": {
        "colab": {
          "base_uri": "https://localhost:8080/"
        },
        "id": "wtEEFmtz3P-P",
        "outputId": "9caaf60b-1e12-4cd9-81d5-b89919efadae"
      },
      "outputs": [
        {
          "name": "stdout",
          "output_type": "stream",
          "text": [
            "Model: \"model_3\"\n",
            "__________________________________________________________________________________________________\n",
            " Layer (type)                   Output Shape         Param #     Connected to                     \n",
            "==================================================================================================\n",
            " input_4 (InputLayer)           [(None, 66)]         0           []                               \n",
            "                                                                                                  \n",
            " embedding_22 (Embedding)       (None, 66, 1000)     12609000    ['input_4[0][0]']                \n",
            "                                                                                                  \n",
            " embedding_23 (Embedding)       (None, 66, 1000)     12609000    ['input_4[0][0]']                \n",
            "                                                                                                  \n",
            " embedding_24 (Embedding)       (None, 66, 1000)     12609000    ['input_4[0][0]']                \n",
            "                                                                                                  \n",
            " embedding_25 (Embedding)       (None, 66, 1000)     12609000    ['input_4[0][0]']                \n",
            "                                                                                                  \n",
            " conv1d_22 (Conv1D)             (None, 62, 256)      1280256     ['embedding_22[0][0]']           \n",
            "                                                                                                  \n",
            " conv1d_23 (Conv1D)             (None, 62, 512)      2560512     ['embedding_23[0][0]']           \n",
            "                                                                                                  \n",
            " conv1d_24 (Conv1D)             (None, 62, 1024)     5121024     ['embedding_24[0][0]']           \n",
            "                                                                                                  \n",
            " conv1d_25 (Conv1D)             (None, 62, 2048)     10242048    ['embedding_25[0][0]']           \n",
            "                                                                                                  \n",
            " dropout_12 (Dropout)           (None, 62, 256)      0           ['conv1d_22[0][0]']              \n",
            "                                                                                                  \n",
            " dropout_13 (Dropout)           (None, 62, 512)      0           ['conv1d_23[0][0]']              \n",
            "                                                                                                  \n",
            " dropout_14 (Dropout)           (None, 62, 1024)     0           ['conv1d_24[0][0]']              \n",
            "                                                                                                  \n",
            " dropout_15 (Dropout)           (None, 62, 2048)     0           ['conv1d_25[0][0]']              \n",
            "                                                                                                  \n",
            " global_max_pooling1d_20 (Globa  (None, 256)         0           ['dropout_12[0][0]']             \n",
            " lMaxPooling1D)                                                                                   \n",
            "                                                                                                  \n",
            " global_max_pooling1d_21 (Globa  (None, 512)         0           ['dropout_13[0][0]']             \n",
            " lMaxPooling1D)                                                                                   \n",
            "                                                                                                  \n",
            " global_max_pooling1d_22 (Globa  (None, 1024)        0           ['dropout_14[0][0]']             \n",
            " lMaxPooling1D)                                                                                   \n",
            "                                                                                                  \n",
            " global_max_pooling1d_23 (Globa  (None, 2048)        0           ['dropout_15[0][0]']             \n",
            " lMaxPooling1D)                                                                                   \n",
            "                                                                                                  \n",
            " concatenate_3 (Concatenate)    (None, 3840)         0           ['global_max_pooling1d_20[0][0]',\n",
            "                                                                  'global_max_pooling1d_21[0][0]',\n",
            "                                                                  'global_max_pooling1d_22[0][0]',\n",
            "                                                                  'global_max_pooling1d_23[0][0]']\n",
            "                                                                                                  \n",
            " dense_20 (Dense)               (None, 13)           49933       ['concatenate_3[0][0]']          \n",
            "                                                                                                  \n",
            "==================================================================================================\n",
            "Total params: 69,689,773\n",
            "Trainable params: 69,689,773\n",
            "Non-trainable params: 0\n",
            "__________________________________________________________________________________________________\n",
            "Epoch 1/10\n",
            "304/304 [==============================] - 223s 730ms/step - loss: 2.1106 - acc: 0.3968 - val_loss: 1.6511 - val_acc: 0.4914\n",
            "Epoch 2/10\n",
            "304/304 [==============================] - 248s 816ms/step - loss: 0.6596 - acc: 0.7207 - val_loss: 1.2919 - val_acc: 0.5613\n",
            "Epoch 3/10\n",
            "304/304 [==============================] - 275s 904ms/step - loss: 0.1525 - acc: 0.9120 - val_loss: 1.1582 - val_acc: 0.6202\n",
            "Epoch 4/10\n",
            "304/304 [==============================] - 259s 853ms/step - loss: 0.0456 - acc: 0.9757 - val_loss: 1.1294 - val_acc: 0.6288\n",
            "Epoch 5/10\n",
            "304/304 [==============================] - 232s 765ms/step - loss: 0.0171 - acc: 0.9934 - val_loss: 1.1357 - val_acc: 0.6379\n",
            "13/13 [==============================] - 1s 69ms/step - loss: 1.2389 - acc: 0.6195\n",
            "Test Accuracy: 61.953729\n"
          ]
        }
      ],
      "source": [
        "# create the model\n",
        "model = Sequential()\n",
        "inputs = Input(shape=(max_length,))\n",
        "\n",
        "# channel 1\n",
        "embedding1 = Embedding(vocab_size, 1000, trainable=True)(inputs)\n",
        "conv1 = Conv1D(256, 5, activation='relu')(embedding1)\n",
        "drop1 = Dropout(0.5)(conv1)\n",
        "pool1 = GlobalMaxPooling1D()(drop1)\n",
        "# channel 2\n",
        "embedding2 = Embedding(vocab_size, 1000, trainable=True)(inputs)\n",
        "conv2 = Conv1D(512, 5, activation='relu')(embedding2)\n",
        "drop2 = Dropout(0.5)(conv2)\n",
        "pool2 = GlobalMaxPooling1D()(drop2)\n",
        "# channel 3\n",
        "embedding3 = Embedding(vocab_size, 1000, trainable=True)(inputs)\n",
        "conv3 = Conv1D(1024, 5, activation='relu')(embedding3)\n",
        "drop3 = Dropout(0.5)(conv3)\n",
        "pool3 = GlobalMaxPooling1D()(drop3)\n",
        "# channel 4\n",
        "embedding4 = Embedding(vocab_size, 1000, trainable=True)(inputs)\n",
        "conv4 = Conv1D(2048, 5, activation='relu')(embedding4)\n",
        "drop4 = Dropout(0.5)(conv4)\n",
        "pool4 = GlobalMaxPooling1D()(drop4)\n",
        "\n",
        "# merge\n",
        "merged = concatenate([pool1, pool2, pool3, pool4])\n",
        "\n",
        "# Fully connected \n",
        "outputs = Dense(num_classes, activation='softmax')(merged) #1 Dense better than 2 or three Denses\n",
        "\n",
        "model = Model(inputs=[inputs], outputs=outputs)\n",
        "model.summary()\n",
        "\n",
        "#put early stopping\n",
        "early_stopping = EarlyStopping(monitor='val_loss', patience=1, mode='min')\n",
        "\n",
        "#Your choices of activation='softmax' in the last layer and compile choice of loss='categorical_crossentropy' \n",
        "#are good for a model to predict multiple mutually-exclusive classes.\n",
        "\n",
        "#Learning Rate = 0.01, acc = 40%\n",
        "\n",
        "model.compile(loss='categorical_crossentropy',\n",
        "              optimizer='adam', \n",
        "              metrics=['acc'],)\n",
        "\n",
        "train_y = [x-1 for x in train['Human_CategoryID'].tolist()]\n",
        "\n",
        "class_weights = compute_class_weight(\n",
        "                                        class_weight = \"balanced\",\n",
        "                                        classes = np.unique(train_y),\n",
        "                                        y = train_y                                                   \n",
        "                                    )\n",
        "class_weights = dict(zip(np.unique(train_y), class_weights))\n",
        "\n",
        "history = model.fit(Xtrain, ytrain, \n",
        "                    epochs=10, batch_size=32, #32, 128 > 8 (worse), 16, 64, 256\n",
        "                    validation_split=0.2,\n",
        "                    callbacks=[early_stopping],\n",
        "                    class_weight=class_weights)\n",
        "\n",
        "loss, acc = model.evaluate(Xtest, ytest)\n",
        "print('Test Accuracy: %f' % (acc*100))"
      ]
    },
    {
      "cell_type": "markdown",
      "metadata": {
        "id": "vQzPQy863P-P"
      },
      "source": [
        "### patience 2: 61"
      ]
    },
    {
      "cell_type": "code",
      "execution_count": null,
      "metadata": {
        "colab": {
          "base_uri": "https://localhost:8080/"
        },
        "id": "cobsGWqqPB3e",
        "outputId": "9ee39e5e-e151-453a-cf93-012bb8f58d87"
      },
      "outputs": [
        {
          "name": "stdout",
          "output_type": "stream",
          "text": [
            "Model: \"model_7\"\n",
            "__________________________________________________________________________________________________\n",
            " Layer (type)                   Output Shape         Param #     Connected to                     \n",
            "==================================================================================================\n",
            " input_8 (InputLayer)           [(None, 66)]         0           []                               \n",
            "                                                                                                  \n",
            " embedding_36 (Embedding)       (None, 66, 1000)     12609000    ['input_8[0][0]']                \n",
            "                                                                                                  \n",
            " embedding_37 (Embedding)       (None, 66, 1000)     12609000    ['input_8[0][0]']                \n",
            "                                                                                                  \n",
            " embedding_38 (Embedding)       (None, 66, 1000)     12609000    ['input_8[0][0]']                \n",
            "                                                                                                  \n",
            " embedding_39 (Embedding)       (None, 66, 1000)     12609000    ['input_8[0][0]']                \n",
            "                                                                                                  \n",
            " conv1d_36 (Conv1D)             (None, 62, 256)      1280256     ['embedding_36[0][0]']           \n",
            "                                                                                                  \n",
            " conv1d_37 (Conv1D)             (None, 62, 512)      2560512     ['embedding_37[0][0]']           \n",
            "                                                                                                  \n",
            " conv1d_38 (Conv1D)             (None, 62, 1024)     5121024     ['embedding_38[0][0]']           \n",
            "                                                                                                  \n",
            " conv1d_39 (Conv1D)             (None, 62, 2048)     10242048    ['embedding_39[0][0]']           \n",
            "                                                                                                  \n",
            " dropout_26 (Dropout)           (None, 62, 256)      0           ['conv1d_36[0][0]']              \n",
            "                                                                                                  \n",
            " dropout_27 (Dropout)           (None, 62, 512)      0           ['conv1d_37[0][0]']              \n",
            "                                                                                                  \n",
            " dropout_28 (Dropout)           (None, 62, 1024)     0           ['conv1d_38[0][0]']              \n",
            "                                                                                                  \n",
            " dropout_29 (Dropout)           (None, 62, 2048)     0           ['conv1d_39[0][0]']              \n",
            "                                                                                                  \n",
            " global_max_pooling1d_34 (Globa  (None, 256)         0           ['dropout_26[0][0]']             \n",
            " lMaxPooling1D)                                                                                   \n",
            "                                                                                                  \n",
            " global_max_pooling1d_35 (Globa  (None, 512)         0           ['dropout_27[0][0]']             \n",
            " lMaxPooling1D)                                                                                   \n",
            "                                                                                                  \n",
            " global_max_pooling1d_36 (Globa  (None, 1024)        0           ['dropout_28[0][0]']             \n",
            " lMaxPooling1D)                                                                                   \n",
            "                                                                                                  \n",
            " global_max_pooling1d_37 (Globa  (None, 2048)        0           ['dropout_29[0][0]']             \n",
            " lMaxPooling1D)                                                                                   \n",
            "                                                                                                  \n",
            " concatenate_7 (Concatenate)    (None, 3840)         0           ['global_max_pooling1d_34[0][0]',\n",
            "                                                                  'global_max_pooling1d_35[0][0]',\n",
            "                                                                  'global_max_pooling1d_36[0][0]',\n",
            "                                                                  'global_max_pooling1d_37[0][0]']\n",
            "                                                                                                  \n",
            " dense_24 (Dense)               (None, 13)           49933       ['concatenate_7[0][0]']          \n",
            "                                                                                                  \n",
            "==================================================================================================\n",
            "Total params: 69,689,773\n",
            "Trainable params: 69,689,773\n",
            "Non-trainable params: 0\n",
            "__________________________________________________________________________________________________\n",
            "Epoch 1/10\n",
            "304/304 [==============================] - 226s 741ms/step - loss: 2.1012 - acc: 0.3905 - val_loss: 1.5374 - val_acc: 0.5016\n",
            "Epoch 2/10\n",
            "304/304 [==============================] - 247s 814ms/step - loss: 0.6196 - acc: 0.7205 - val_loss: 1.2538 - val_acc: 0.5897\n",
            "Epoch 3/10\n",
            "304/304 [==============================] - 269s 884ms/step - loss: 0.1551 - acc: 0.9117 - val_loss: 1.2576 - val_acc: 0.5852\n",
            "Epoch 4/10\n",
            "304/304 [==============================] - 243s 800ms/step - loss: 0.0497 - acc: 0.9722 - val_loss: 1.1453 - val_acc: 0.6206\n",
            "Epoch 5/10\n",
            "304/304 [==============================] - 223s 732ms/step - loss: 0.0173 - acc: 0.9938 - val_loss: 1.1415 - val_acc: 0.6239\n",
            "Epoch 6/10\n",
            "304/304 [==============================] - 222s 729ms/step - loss: 0.0125 - acc: 0.9945 - val_loss: 1.1787 - val_acc: 0.6263\n",
            "Epoch 7/10\n",
            "304/304 [==============================] - 234s 769ms/step - loss: 0.0073 - acc: 0.9987 - val_loss: 1.2516 - val_acc: 0.6292\n",
            "13/13 [==============================] - 1s 70ms/step - loss: 1.3331 - acc: 0.6170\n",
            "Test Accuracy: 61.696661\n"
          ]
        }
      ],
      "source": [
        "# create the model\n",
        "model = Sequential()\n",
        "inputs = Input(shape=(max_length,))\n",
        "\n",
        "# channel 1\n",
        "embedding1 = Embedding(vocab_size, 1000, trainable=True)(inputs)\n",
        "conv1 = Conv1D(256, 5, activation='relu')(embedding1)\n",
        "drop1 = Dropout(0.5)(conv1)\n",
        "pool1 = GlobalMaxPooling1D()(drop1)\n",
        "# channel 2\n",
        "embedding2 = Embedding(vocab_size, 1000, trainable=True)(inputs)\n",
        "conv2 = Conv1D(512, 5, activation='relu')(embedding2)\n",
        "drop2 = Dropout(0.5)(conv2)\n",
        "pool2 = GlobalMaxPooling1D()(drop2)\n",
        "# channel 3\n",
        "embedding3 = Embedding(vocab_size, 1000, trainable=True)(inputs)\n",
        "conv3 = Conv1D(1024, 5, activation='relu')(embedding3)\n",
        "drop3 = Dropout(0.5)(conv3)\n",
        "pool3 = GlobalMaxPooling1D()(drop3)\n",
        "# channel 4\n",
        "embedding4 = Embedding(vocab_size, 1000, trainable=True)(inputs)\n",
        "conv4 = Conv1D(2048, 5, activation='relu')(embedding4)\n",
        "drop4 = Dropout(0.5)(conv4)\n",
        "pool4 = GlobalMaxPooling1D()(drop4)\n",
        "\n",
        "# merge\n",
        "merged = concatenate([pool1, pool2, pool3, pool4])\n",
        "\n",
        "# Fully connected \n",
        "outputs = Dense(num_classes, activation='softmax')(merged) #1 Dense better than 2 or three Denses\n",
        "\n",
        "model = Model(inputs=[inputs], outputs=outputs)\n",
        "model.summary()\n",
        "\n",
        "#put early stopping\n",
        "early_stopping = EarlyStopping(monitor='val_loss', patience=2, mode='min')\n",
        "\n",
        "#Your choices of activation='softmax' in the last layer and compile choice of loss='categorical_crossentropy' \n",
        "#are good for a model to predict multiple mutually-exclusive classes.\n",
        "\n",
        "#Learning Rate = 0.01, acc = 40%\n",
        "\n",
        "model.compile(loss='categorical_crossentropy',\n",
        "              optimizer='adam', \n",
        "              metrics=['acc'],)\n",
        "\n",
        "train_y = [x-1 for x in train['Human_CategoryID'].tolist()]\n",
        "\n",
        "class_weights = compute_class_weight(\n",
        "                                        class_weight = \"balanced\",\n",
        "                                        classes = np.unique(train_y),\n",
        "                                        y = train_y                                                   \n",
        "                                    )\n",
        "class_weights = dict(zip(np.unique(train_y), class_weights))\n",
        "\n",
        "history = model.fit(Xtrain, ytrain, \n",
        "                    epochs=10, batch_size=32, #32, 128 > 8 (worse), 16, 64, 256\n",
        "                    validation_split=0.2,\n",
        "                    callbacks=[early_stopping],\n",
        "                    class_weight=class_weights)\n",
        "\n",
        "loss, acc = model.evaluate(Xtest, ytest)\n",
        "print('Test Accuracy: %f' % (acc*100))"
      ]
    },
    {
      "cell_type": "markdown",
      "metadata": {
        "id": "AIM8bUOW_ZUl"
      },
      "source": [
        "##4CNN2 DO0.5 GMP2D F  D13:60\n",
        "inspiration: \n",
        "\n",
        "https://www.kaggle.com/code/yekenot/2dcnn-textclassifier/notebook\n",
        "\n",
        "[Text CNN] https://towardsdatascience.com/nlp-learning-series-part-3-attention-cnn-and-what-not-for-text-classification-4313930ed566"
      ]
    },
    {
      "cell_type": "code",
      "execution_count": null,
      "metadata": {
        "id": "sjLbq_ad_ZUm"
      },
      "outputs": [],
      "source": [
        "from sklearn.metrics import f1_score\n",
        "from sklearn.model_selection import train_test_split\n",
        "\n",
        "from keras.models import Model\n",
        "\n",
        "from keras.callbacks import Callback, EarlyStopping\n",
        "from keras.preprocessing import text, sequence\n",
        "\n",
        "from keras.layers.pooling import GlobalMaxPooling2D\n",
        "from keras.layers import Input, Embedding, Dense, Conv2D, MaxPool2D, concatenate\n",
        "from keras.layers import Reshape, Flatten, Concatenate, Dropout, SpatialDropout1D"
      ]
    },
    {
      "cell_type": "code",
      "execution_count": null,
      "metadata": {
        "colab": {
          "base_uri": "https://localhost:8080/",
          "height": 284
        },
        "id": "s3jvLFBs_ZUm",
        "outputId": "a003dfa0-f69c-43aa-f157-313574793741"
      },
      "outputs": [
        {
          "data": {
            "text/html": [
              "\n",
              "  <div id=\"df-0d8516b5-2932-4cd6-8238-d54084beb9a2\">\n",
              "    <div class=\"colab-df-container\">\n",
              "      <div>\n",
              "<style scoped>\n",
              "    .dataframe tbody tr th:only-of-type {\n",
              "        vertical-align: middle;\n",
              "    }\n",
              "\n",
              "    .dataframe tbody tr th {\n",
              "        vertical-align: top;\n",
              "    }\n",
              "\n",
              "    .dataframe thead th {\n",
              "        text-align: right;\n",
              "    }\n",
              "</style>\n",
              "<table border=\"1\" class=\"dataframe\">\n",
              "  <thead>\n",
              "    <tr style=\"text-align: right;\">\n",
              "      <th></th>\n",
              "      <th>Unnamed: 0</th>\n",
              "      <th>TagFile_Path</th>\n",
              "      <th>TagFile</th>\n",
              "      <th>SV_CustomerName</th>\n",
              "      <th>Main keyword</th>\n",
              "      <th>Channel</th>\n",
              "      <th>SubChannel</th>\n",
              "      <th>lfdn</th>\n",
              "      <th>verbatim_id</th>\n",
              "      <th>sentence_id</th>\n",
              "      <th>Text_original</th>\n",
              "      <th>Text</th>\n",
              "      <th>Human_Category</th>\n",
              "      <th>Human_CategoryID</th>\n",
              "      <th>Human_Sentiment</th>\n",
              "      <th>Human_SentimentID</th>\n",
              "      <th>Text_ws_local</th>\n",
              "    </tr>\n",
              "  </thead>\n",
              "  <tbody>\n",
              "    <tr>\n",
              "      <th>0</th>\n",
              "      <td>0</td>\n",
              "      <td>SocialFSI_ZE-KTB-Feb-Apr2022_Sampling2244_2022...</td>\n",
              "      <td>SocialFSI_ZE-KTB-Feb-Apr2022_Sampling1400_2022...</td>\n",
              "      <td>Krungthai_NEXT</td>\n",
              "      <td>mobile banking+กสิกร,mobile banking+ธนาคารกสิก...</td>\n",
              "      <td>SocialMedia</td>\n",
              "      <td>forum</td>\n",
              "      <td>pantip.com_topic_41249919</td>\n",
              "      <td>Q2207_1549</td>\n",
              "      <td>Q2207_1549_1</td>\n",
              "      <td>สอบถามเรื่องการอายัดบัตรเดบิตของกสิกรค่ะ พอดีว...</td>\n",
              "      <td>สอบถามเรื่องการอายัดบัตรเดบิตของกสิกรค่ะ พอดีว...</td>\n",
              "      <td>Product and Service, Usage and Condition</td>\n",
              "      <td>8</td>\n",
              "      <td>neutral</td>\n",
              "      <td>o</td>\n",
              "      <td>สอบถาม|เรื่อง|การ|อายัด|บัตรเดบิต|ของ|kbank|ค่...</td>\n",
              "    </tr>\n",
              "  </tbody>\n",
              "</table>\n",
              "</div>\n",
              "      <button class=\"colab-df-convert\" onclick=\"convertToInteractive('df-0d8516b5-2932-4cd6-8238-d54084beb9a2')\"\n",
              "              title=\"Convert this dataframe to an interactive table.\"\n",
              "              style=\"display:none;\">\n",
              "        \n",
              "  <svg xmlns=\"http://www.w3.org/2000/svg\" height=\"24px\"viewBox=\"0 0 24 24\"\n",
              "       width=\"24px\">\n",
              "    <path d=\"M0 0h24v24H0V0z\" fill=\"none\"/>\n",
              "    <path d=\"M18.56 5.44l.94 2.06.94-2.06 2.06-.94-2.06-.94-.94-2.06-.94 2.06-2.06.94zm-11 1L8.5 8.5l.94-2.06 2.06-.94-2.06-.94L8.5 2.5l-.94 2.06-2.06.94zm10 10l.94 2.06.94-2.06 2.06-.94-2.06-.94-.94-2.06-.94 2.06-2.06.94z\"/><path d=\"M17.41 7.96l-1.37-1.37c-.4-.4-.92-.59-1.43-.59-.52 0-1.04.2-1.43.59L10.3 9.45l-7.72 7.72c-.78.78-.78 2.05 0 2.83L4 21.41c.39.39.9.59 1.41.59.51 0 1.02-.2 1.41-.59l7.78-7.78 2.81-2.81c.8-.78.8-2.07 0-2.86zM5.41 20L4 18.59l7.72-7.72 1.47 1.35L5.41 20z\"/>\n",
              "  </svg>\n",
              "      </button>\n",
              "      \n",
              "  <style>\n",
              "    .colab-df-container {\n",
              "      display:flex;\n",
              "      flex-wrap:wrap;\n",
              "      gap: 12px;\n",
              "    }\n",
              "\n",
              "    .colab-df-convert {\n",
              "      background-color: #E8F0FE;\n",
              "      border: none;\n",
              "      border-radius: 50%;\n",
              "      cursor: pointer;\n",
              "      display: none;\n",
              "      fill: #1967D2;\n",
              "      height: 32px;\n",
              "      padding: 0 0 0 0;\n",
              "      width: 32px;\n",
              "    }\n",
              "\n",
              "    .colab-df-convert:hover {\n",
              "      background-color: #E2EBFA;\n",
              "      box-shadow: 0px 1px 2px rgba(60, 64, 67, 0.3), 0px 1px 3px 1px rgba(60, 64, 67, 0.15);\n",
              "      fill: #174EA6;\n",
              "    }\n",
              "\n",
              "    [theme=dark] .colab-df-convert {\n",
              "      background-color: #3B4455;\n",
              "      fill: #D2E3FC;\n",
              "    }\n",
              "\n",
              "    [theme=dark] .colab-df-convert:hover {\n",
              "      background-color: #434B5C;\n",
              "      box-shadow: 0px 1px 3px 1px rgba(0, 0, 0, 0.15);\n",
              "      filter: drop-shadow(0px 1px 2px rgba(0, 0, 0, 0.3));\n",
              "      fill: #FFFFFF;\n",
              "    }\n",
              "  </style>\n",
              "\n",
              "      <script>\n",
              "        const buttonEl =\n",
              "          document.querySelector('#df-0d8516b5-2932-4cd6-8238-d54084beb9a2 button.colab-df-convert');\n",
              "        buttonEl.style.display =\n",
              "          google.colab.kernel.accessAllowed ? 'block' : 'none';\n",
              "\n",
              "        async function convertToInteractive(key) {\n",
              "          const element = document.querySelector('#df-0d8516b5-2932-4cd6-8238-d54084beb9a2');\n",
              "          const dataTable =\n",
              "            await google.colab.kernel.invokeFunction('convertToInteractive',\n",
              "                                                     [key], {});\n",
              "          if (!dataTable) return;\n",
              "\n",
              "          const docLinkHtml = 'Like what you see? Visit the ' +\n",
              "            '<a target=\"_blank\" href=https://colab.research.google.com/notebooks/data_table.ipynb>data table notebook</a>'\n",
              "            + ' to learn more about interactive tables.';\n",
              "          element.innerHTML = '';\n",
              "          dataTable['output_type'] = 'display_data';\n",
              "          await google.colab.output.renderOutput(dataTable, element);\n",
              "          const docLink = document.createElement('div');\n",
              "          docLink.innerHTML = docLinkHtml;\n",
              "          element.appendChild(docLink);\n",
              "        }\n",
              "      </script>\n",
              "    </div>\n",
              "  </div>\n",
              "  "
            ],
            "text/plain": [
              "   Unnamed: 0                                       TagFile_Path  \\\n",
              "0           0  SocialFSI_ZE-KTB-Feb-Apr2022_Sampling2244_2022...   \n",
              "\n",
              "                                             TagFile SV_CustomerName  \\\n",
              "0  SocialFSI_ZE-KTB-Feb-Apr2022_Sampling1400_2022...  Krungthai_NEXT   \n",
              "\n",
              "                                        Main keyword      Channel SubChannel  \\\n",
              "0  mobile banking+กสิกร,mobile banking+ธนาคารกสิก...  SocialMedia      forum   \n",
              "\n",
              "                        lfdn verbatim_id   sentence_id  \\\n",
              "0  pantip.com_topic_41249919  Q2207_1549  Q2207_1549_1   \n",
              "\n",
              "                                       Text_original  \\\n",
              "0  สอบถามเรื่องการอายัดบัตรเดบิตของกสิกรค่ะ พอดีว...   \n",
              "\n",
              "                                                Text  \\\n",
              "0  สอบถามเรื่องการอายัดบัตรเดบิตของกสิกรค่ะ พอดีว...   \n",
              "\n",
              "                             Human_Category  Human_CategoryID Human_Sentiment  \\\n",
              "0  Product and Service, Usage and Condition                 8         neutral   \n",
              "\n",
              "  Human_SentimentID                                      Text_ws_local  \n",
              "0                 o  สอบถาม|เรื่อง|การ|อายัด|บัตรเดบิต|ของ|kbank|ค่...  "
            ]
          },
          "execution_count": 200,
          "metadata": {},
          "output_type": "execute_result"
        }
      ],
      "source": [
        "train.head(1)"
      ]
    },
    {
      "cell_type": "code",
      "execution_count": null,
      "metadata": {
        "id": "jiqjEkq0_ZUn"
      },
      "outputs": [],
      "source": [
        "class F1Evaluation(Callback):\n",
        "    def __init__(self, validation_data=(), interval=1):\n",
        "        super(Callback, self).__init__()\n",
        "\n",
        "        self.interval = interval\n",
        "        self.X_val, self.y_val = validation_data\n",
        "\n",
        "    def on_epoch_end(self, epoch, logs={}):\n",
        "        if epoch % self.interval == 0:\n",
        "            y_pred = self.model.predict(self.X_val, verbose=0)\n",
        "            y_pred = (y_pred > threshold).astype(int)\n",
        "            score = f1_score(self.y_val, y_pred, average='weighted', zero_division=0)\n",
        "            print(\"\\n F1 Score - epoch: %d - score: %.6f \\n\" % (epoch+1, score))"
      ]
    },
    {
      "cell_type": "code",
      "execution_count": null,
      "metadata": {
        "id": "dSKtnUYN_ZUn"
      },
      "outputs": [],
      "source": [
        "#turn pandas.core.series.Series into numpy.ndarray\n",
        "X_train = train[\"Text_ws_local\"].fillna(\"fillna\").values\n",
        "y_train = train[\"Human_CategoryID\"].values\n",
        "X_test = test[\"Text_ws_local\"].fillna(\"fillna\").values\n",
        "y_test = test[\"Human_CategoryID\"].values\n",
        "\n",
        "max_features = 40000\n",
        "maxlen = 70\n",
        "embed_size = 300\n",
        "\n",
        "threshold = 0.35\n",
        "\n",
        "tokenizer = text.Tokenizer(num_words=max_features)\n",
        "tokenizer.fit_on_texts(list(X_train) + list(X_test))\n",
        "X_train = tokenizer.texts_to_sequences(X_train)\n",
        "X_test = tokenizer.texts_to_sequences(X_test)\n",
        "x_train = sequence.pad_sequences(X_train, maxlen=maxlen)\n",
        "x_test = sequence.pad_sequences(X_test, maxlen=maxlen)\n",
        "\n",
        "#multi-class tasks needs one hot for y.\n",
        "y_train = to_categorical(y_train-1, num_classes)\n",
        "y_test = to_categorical(y_test-1, num_classes)\n",
        "\n",
        "train_y = [x-1 for x in train['Human_CategoryID'].tolist()]"
      ]
    },
    {
      "cell_type": "code",
      "execution_count": null,
      "metadata": {
        "id": "Woy5yasI_ZUn"
      },
      "outputs": [],
      "source": [
        "filter_sizes = [1,2,3,5]\n",
        "num_filters = 42\n",
        "\n",
        "inp = Input(shape=(maxlen, ))\n",
        "x = Embedding(max_features, embed_size, trainable=True)(inp)\n",
        "x = Reshape((maxlen, embed_size, 1))(x)\n",
        "\n",
        "conv_0 = Conv2D(num_filters, kernel_size=(filter_sizes[0], embed_size),\n",
        "                              kernel_initializer='he_normal', activation='tanh')(x)\n",
        "conv_1 = Conv2D(num_filters, kernel_size=(filter_sizes[1], embed_size),\n",
        "                              kernel_initializer='he_normal', activation='tanh')(x)\n",
        "conv_2 = Conv2D(num_filters, kernel_size=(filter_sizes[2], embed_size), \n",
        "                              kernel_initializer='he_normal', activation='tanh')(x)\n",
        "conv_3 = Conv2D(num_filters, kernel_size=(filter_sizes[3], embed_size),\n",
        "                              kernel_initializer='he_normal', activation='tanh')(x)\n",
        "\n",
        "drop0 = Dropout(0.5)(conv_0)\n",
        "drop1 = Dropout(0.5)(conv_1)\n",
        "drop2 = Dropout(0.5)(conv_2)\n",
        "drop3 = Dropout(0.5)(conv_0)\n",
        "\n",
        "maxpool_0 = GlobalMaxPooling2D()(drop0)\n",
        "maxpool_1 = GlobalMaxPooling2D()(drop1)\n",
        "maxpool_2 = GlobalMaxPooling2D()(drop2)\n",
        "maxpool_3 = GlobalMaxPooling2D()(drop3)\n",
        "    \n",
        "z = concatenate([maxpool_0, maxpool_1, maxpool_2, maxpool_3])   \n",
        "z = Flatten()(z)\n",
        "# z = Dropout(0.5)(z) #change to 0.5\n",
        "    \n",
        "outp = Dense(num_classes, activation=\"softmax\")(z)\n",
        "\n",
        "model = Model(inputs=inp, outputs=outp)\n",
        "model.compile(loss='categorical_crossentropy',\n",
        "              optimizer='adam',\n",
        "              metrics=['accuracy'])"
      ]
    },
    {
      "cell_type": "code",
      "execution_count": null,
      "metadata": {
        "colab": {
          "base_uri": "https://localhost:8080/"
        },
        "id": "uxjHPS8I_ZUn",
        "outputId": "2d64b162-160b-43fa-a172-9ca9d3decb45"
      },
      "outputs": [
        {
          "name": "stdout",
          "output_type": "stream",
          "text": [
            "Epoch 1/100\n",
            "\n",
            " F1 Score - epoch: 1 - score: 0.127497 \n",
            "\n",
            "38/38 - 6s - loss: 2.0388 - accuracy: 0.3321 - val_loss: 1.8926 - val_accuracy: 0.4658 - 6s/epoch - 146ms/step\n",
            "Epoch 2/100\n",
            "\n",
            " F1 Score - epoch: 2 - score: 0.327942 \n",
            "\n",
            "38/38 - 4s - loss: 1.5480 - accuracy: 0.5280 - val_loss: 1.6132 - val_accuracy: 0.5642 - 4s/epoch - 111ms/step\n",
            "Epoch 3/100\n",
            "\n",
            " F1 Score - epoch: 3 - score: 0.444344 \n",
            "\n",
            "38/38 - 4s - loss: 1.2558 - accuracy: 0.6177 - val_loss: 1.4312 - val_accuracy: 0.6095 - 4s/epoch - 111ms/step\n",
            "Epoch 4/100\n",
            "\n",
            " F1 Score - epoch: 4 - score: 0.499448 \n",
            "\n",
            "38/38 - 4s - loss: 1.0555 - accuracy: 0.6760 - val_loss: 1.3510 - val_accuracy: 0.6210 - 4s/epoch - 111ms/step\n",
            "Epoch 5/100\n",
            "\n",
            " F1 Score - epoch: 5 - score: 0.517545 \n",
            "\n",
            "38/38 - 4s - loss: 0.8956 - accuracy: 0.7222 - val_loss: 1.2958 - val_accuracy: 0.6259 - 4s/epoch - 111ms/step\n",
            "Epoch 6/100\n",
            "\n",
            " F1 Score - epoch: 6 - score: 0.538169 \n",
            "\n",
            "38/38 - 4s - loss: 0.7472 - accuracy: 0.7719 - val_loss: 1.2635 - val_accuracy: 0.6395 - 4s/epoch - 111ms/step\n",
            "Epoch 7/100\n",
            "\n",
            " F1 Score - epoch: 7 - score: 0.545160 \n",
            "\n",
            "38/38 - 4s - loss: 0.6009 - accuracy: 0.8244 - val_loss: 1.2392 - val_accuracy: 0.6350 - 4s/epoch - 111ms/step\n",
            "Epoch 8/100\n",
            "\n",
            " F1 Score - epoch: 8 - score: 0.560278 \n",
            "\n",
            "38/38 - 4s - loss: 0.4833 - accuracy: 0.8637 - val_loss: 1.2225 - val_accuracy: 0.6383 - 4s/epoch - 113ms/step\n",
            "Epoch 9/100\n",
            "\n",
            " F1 Score - epoch: 9 - score: 0.578334 \n",
            "\n",
            "38/38 - 4s - loss: 0.3793 - accuracy: 0.9017 - val_loss: 1.2025 - val_accuracy: 0.6243 - 4s/epoch - 114ms/step\n",
            "Epoch 10/100\n",
            "\n",
            " F1 Score - epoch: 10 - score: 0.577828 \n",
            "\n",
            "38/38 - 4s - loss: 0.3033 - accuracy: 0.9244 - val_loss: 1.2186 - val_accuracy: 0.6222 - 4s/epoch - 113ms/step\n",
            "Epoch 11/100\n",
            "\n",
            " F1 Score - epoch: 11 - score: 0.586998 \n",
            "\n",
            "38/38 - 4s - loss: 0.2434 - accuracy: 0.9459 - val_loss: 1.2204 - val_accuracy: 0.6198 - 4s/epoch - 112ms/step\n",
            "13/13 [==============================] - 0s 3ms/step - loss: 1.3118 - accuracy: 0.6015\n",
            "Test Accuracy: 60.154241\n"
          ]
        }
      ],
      "source": [
        "batch_size = 256\n",
        "epochs = 100\n",
        "\n",
        "X_tra, X_val, y_tra, y_val = train_test_split(x_train, y_train, train_size=0.8,\n",
        "                                              random_state=233)\n",
        "F1_Score = F1Evaluation(validation_data=(X_val, y_val), interval=1)\n",
        "\n",
        "early_stopping = EarlyStopping(monitor='val_loss', patience=2, mode='min')\n",
        "\n",
        "hist = model.fit(X_tra, y_tra, batch_size=batch_size, epochs=epochs,\n",
        "                 validation_data=(X_val, y_val),\n",
        "                 callbacks=[F1_Score, early_stopping], verbose=2)\n",
        "\n",
        "loss, acc = model.evaluate(x_test, y_test)\n",
        "print('Test Accuracy: %f' % (acc*100))\n",
        "\n",
        "Xtest = X_test\n",
        "ytest = y_test"
      ]
    },
    {
      "cell_type": "markdown",
      "metadata": {
        "id": "jv8cYo17warb"
      },
      "source": [
        "##4CNN2 MP2D F DO0.5 D13 (from kaggle): 62\n",
        "inspiration: https://www.kaggle.com/code/yekenot/2dcnn-textclassifier/notebook"
      ]
    },
    {
      "cell_type": "code",
      "execution_count": null,
      "metadata": {
        "id": "m36f18etxRrC"
      },
      "outputs": [],
      "source": [
        "from sklearn.metrics import f1_score\n",
        "from sklearn.model_selection import train_test_split\n",
        "\n",
        "from keras.models import Model\n",
        "\n",
        "from keras.callbacks import Callback, EarlyStopping\n",
        "from keras.preprocessing import text, sequence\n",
        "\n",
        "from keras.layers import Input, Embedding, Dense, Conv2D, MaxPool2D, concatenate\n",
        "from keras.layers import Reshape, Flatten, Concatenate, Dropout, SpatialDropout1D"
      ]
    },
    {
      "cell_type": "code",
      "execution_count": null,
      "metadata": {
        "colab": {
          "base_uri": "https://localhost:8080/",
          "height": 284
        },
        "id": "YcgVUp9fxze8",
        "outputId": "55102e0b-e400-4874-a05b-b1796f348756"
      },
      "outputs": [
        {
          "data": {
            "text/html": [
              "\n",
              "  <div id=\"df-037d7929-855f-4e8a-bab0-4f78ffadc309\">\n",
              "    <div class=\"colab-df-container\">\n",
              "      <div>\n",
              "<style scoped>\n",
              "    .dataframe tbody tr th:only-of-type {\n",
              "        vertical-align: middle;\n",
              "    }\n",
              "\n",
              "    .dataframe tbody tr th {\n",
              "        vertical-align: top;\n",
              "    }\n",
              "\n",
              "    .dataframe thead th {\n",
              "        text-align: right;\n",
              "    }\n",
              "</style>\n",
              "<table border=\"1\" class=\"dataframe\">\n",
              "  <thead>\n",
              "    <tr style=\"text-align: right;\">\n",
              "      <th></th>\n",
              "      <th>Unnamed: 0</th>\n",
              "      <th>TagFile_Path</th>\n",
              "      <th>TagFile</th>\n",
              "      <th>SV_CustomerName</th>\n",
              "      <th>Main keyword</th>\n",
              "      <th>Channel</th>\n",
              "      <th>SubChannel</th>\n",
              "      <th>lfdn</th>\n",
              "      <th>verbatim_id</th>\n",
              "      <th>sentence_id</th>\n",
              "      <th>Text_original</th>\n",
              "      <th>Text</th>\n",
              "      <th>Human_Category</th>\n",
              "      <th>Human_CategoryID</th>\n",
              "      <th>Human_Sentiment</th>\n",
              "      <th>Human_SentimentID</th>\n",
              "      <th>Text_ws_local</th>\n",
              "    </tr>\n",
              "  </thead>\n",
              "  <tbody>\n",
              "    <tr>\n",
              "      <th>0</th>\n",
              "      <td>0</td>\n",
              "      <td>SocialFSI_ZE-KTB-Feb-Apr2022_Sampling2244_2022...</td>\n",
              "      <td>SocialFSI_ZE-KTB-Feb-Apr2022_Sampling1400_2022...</td>\n",
              "      <td>Krungthai_NEXT</td>\n",
              "      <td>mobile banking+กสิกร,mobile banking+ธนาคารกสิก...</td>\n",
              "      <td>SocialMedia</td>\n",
              "      <td>forum</td>\n",
              "      <td>pantip.com_topic_41249919</td>\n",
              "      <td>Q2207_1549</td>\n",
              "      <td>Q2207_1549_1</td>\n",
              "      <td>สอบถามเรื่องการอายัดบัตรเดบิตของกสิกรค่ะ พอดีว...</td>\n",
              "      <td>สอบถามเรื่องการอายัดบัตรเดบิตของกสิกรค่ะ พอดีว...</td>\n",
              "      <td>Product and Service, Usage and Condition</td>\n",
              "      <td>8</td>\n",
              "      <td>neutral</td>\n",
              "      <td>o</td>\n",
              "      <td>สอบถาม|เรื่อง|การ|อายัด|บัตรเดบิต|ของ|kbank|ค่...</td>\n",
              "    </tr>\n",
              "  </tbody>\n",
              "</table>\n",
              "</div>\n",
              "      <button class=\"colab-df-convert\" onclick=\"convertToInteractive('df-037d7929-855f-4e8a-bab0-4f78ffadc309')\"\n",
              "              title=\"Convert this dataframe to an interactive table.\"\n",
              "              style=\"display:none;\">\n",
              "        \n",
              "  <svg xmlns=\"http://www.w3.org/2000/svg\" height=\"24px\"viewBox=\"0 0 24 24\"\n",
              "       width=\"24px\">\n",
              "    <path d=\"M0 0h24v24H0V0z\" fill=\"none\"/>\n",
              "    <path d=\"M18.56 5.44l.94 2.06.94-2.06 2.06-.94-2.06-.94-.94-2.06-.94 2.06-2.06.94zm-11 1L8.5 8.5l.94-2.06 2.06-.94-2.06-.94L8.5 2.5l-.94 2.06-2.06.94zm10 10l.94 2.06.94-2.06 2.06-.94-2.06-.94-.94-2.06-.94 2.06-2.06.94z\"/><path d=\"M17.41 7.96l-1.37-1.37c-.4-.4-.92-.59-1.43-.59-.52 0-1.04.2-1.43.59L10.3 9.45l-7.72 7.72c-.78.78-.78 2.05 0 2.83L4 21.41c.39.39.9.59 1.41.59.51 0 1.02-.2 1.41-.59l7.78-7.78 2.81-2.81c.8-.78.8-2.07 0-2.86zM5.41 20L4 18.59l7.72-7.72 1.47 1.35L5.41 20z\"/>\n",
              "  </svg>\n",
              "      </button>\n",
              "      \n",
              "  <style>\n",
              "    .colab-df-container {\n",
              "      display:flex;\n",
              "      flex-wrap:wrap;\n",
              "      gap: 12px;\n",
              "    }\n",
              "\n",
              "    .colab-df-convert {\n",
              "      background-color: #E8F0FE;\n",
              "      border: none;\n",
              "      border-radius: 50%;\n",
              "      cursor: pointer;\n",
              "      display: none;\n",
              "      fill: #1967D2;\n",
              "      height: 32px;\n",
              "      padding: 0 0 0 0;\n",
              "      width: 32px;\n",
              "    }\n",
              "\n",
              "    .colab-df-convert:hover {\n",
              "      background-color: #E2EBFA;\n",
              "      box-shadow: 0px 1px 2px rgba(60, 64, 67, 0.3), 0px 1px 3px 1px rgba(60, 64, 67, 0.15);\n",
              "      fill: #174EA6;\n",
              "    }\n",
              "\n",
              "    [theme=dark] .colab-df-convert {\n",
              "      background-color: #3B4455;\n",
              "      fill: #D2E3FC;\n",
              "    }\n",
              "\n",
              "    [theme=dark] .colab-df-convert:hover {\n",
              "      background-color: #434B5C;\n",
              "      box-shadow: 0px 1px 3px 1px rgba(0, 0, 0, 0.15);\n",
              "      filter: drop-shadow(0px 1px 2px rgba(0, 0, 0, 0.3));\n",
              "      fill: #FFFFFF;\n",
              "    }\n",
              "  </style>\n",
              "\n",
              "      <script>\n",
              "        const buttonEl =\n",
              "          document.querySelector('#df-037d7929-855f-4e8a-bab0-4f78ffadc309 button.colab-df-convert');\n",
              "        buttonEl.style.display =\n",
              "          google.colab.kernel.accessAllowed ? 'block' : 'none';\n",
              "\n",
              "        async function convertToInteractive(key) {\n",
              "          const element = document.querySelector('#df-037d7929-855f-4e8a-bab0-4f78ffadc309');\n",
              "          const dataTable =\n",
              "            await google.colab.kernel.invokeFunction('convertToInteractive',\n",
              "                                                     [key], {});\n",
              "          if (!dataTable) return;\n",
              "\n",
              "          const docLinkHtml = 'Like what you see? Visit the ' +\n",
              "            '<a target=\"_blank\" href=https://colab.research.google.com/notebooks/data_table.ipynb>data table notebook</a>'\n",
              "            + ' to learn more about interactive tables.';\n",
              "          element.innerHTML = '';\n",
              "          dataTable['output_type'] = 'display_data';\n",
              "          await google.colab.output.renderOutput(dataTable, element);\n",
              "          const docLink = document.createElement('div');\n",
              "          docLink.innerHTML = docLinkHtml;\n",
              "          element.appendChild(docLink);\n",
              "        }\n",
              "      </script>\n",
              "    </div>\n",
              "  </div>\n",
              "  "
            ],
            "text/plain": [
              "   Unnamed: 0                                       TagFile_Path  \\\n",
              "0           0  SocialFSI_ZE-KTB-Feb-Apr2022_Sampling2244_2022...   \n",
              "\n",
              "                                             TagFile SV_CustomerName  \\\n",
              "0  SocialFSI_ZE-KTB-Feb-Apr2022_Sampling1400_2022...  Krungthai_NEXT   \n",
              "\n",
              "                                        Main keyword      Channel SubChannel  \\\n",
              "0  mobile banking+กสิกร,mobile banking+ธนาคารกสิก...  SocialMedia      forum   \n",
              "\n",
              "                        lfdn verbatim_id   sentence_id  \\\n",
              "0  pantip.com_topic_41249919  Q2207_1549  Q2207_1549_1   \n",
              "\n",
              "                                       Text_original  \\\n",
              "0  สอบถามเรื่องการอายัดบัตรเดบิตของกสิกรค่ะ พอดีว...   \n",
              "\n",
              "                                                Text  \\\n",
              "0  สอบถามเรื่องการอายัดบัตรเดบิตของกสิกรค่ะ พอดีว...   \n",
              "\n",
              "                             Human_Category  Human_CategoryID Human_Sentiment  \\\n",
              "0  Product and Service, Usage and Condition                 8         neutral   \n",
              "\n",
              "  Human_SentimentID                                      Text_ws_local  \n",
              "0                 o  สอบถาม|เรื่อง|การ|อายัด|บัตรเดบิต|ของ|kbank|ค่...  "
            ]
          },
          "execution_count": 262,
          "metadata": {},
          "output_type": "execute_result"
        }
      ],
      "source": [
        "train.head(1)"
      ]
    },
    {
      "cell_type": "code",
      "execution_count": null,
      "metadata": {
        "id": "-dFjSkbo7xYV"
      },
      "outputs": [],
      "source": [
        "class F1Evaluation(Callback):\n",
        "    def __init__(self, validation_data=(), interval=1):\n",
        "        super(Callback, self).__init__()\n",
        "\n",
        "        self.interval = interval\n",
        "        self.X_val, self.y_val = validation_data\n",
        "\n",
        "    def on_epoch_end(self, epoch, logs={}):\n",
        "        if epoch % self.interval == 0:\n",
        "            y_pred = self.model.predict(self.X_val, verbose=0)\n",
        "            y_pred = (y_pred > threshold).astype(int)\n",
        "            score = f1_score(self.y_val, y_pred, average='weighted', zero_division=0)\n",
        "            print(\"\\n F1 Score - epoch: %d - score: %.6f \\n\" % (epoch+1, score))"
      ]
    },
    {
      "cell_type": "code",
      "execution_count": null,
      "metadata": {
        "id": "DbfMuI5cxtzo"
      },
      "outputs": [],
      "source": [
        "#turn pandas.core.series.Series into numpy.ndarray\n",
        "X_train = train[\"Text_ws_local\"].fillna(\"fillna\").values\n",
        "y_train = train[\"Human_CategoryID\"].values\n",
        "X_test = test[\"Text_ws_local\"].fillna(\"fillna\").values\n",
        "y_test = test[\"Human_CategoryID\"].values\n",
        "\n",
        "tokenizer = text.Tokenizer(num_words=max_features)\n",
        "tokenizer.fit_on_texts(list(X_train) + list(X_test))\n",
        "X_train = tokenizer.texts_to_sequences(X_train)\n",
        "X_test = tokenizer.texts_to_sequences(X_test)\n",
        "x_train = sequence.pad_sequences(X_train, maxlen=maxlen)\n",
        "x_test = sequence.pad_sequences(X_test, maxlen=maxlen)\n",
        "\n",
        "#multi-class tasks needs one hot for y.\n",
        "y_train = to_categorical(y_train-1, num_classes)\n",
        "y_test = to_categorical(y_test-1, num_classes)\n",
        "\n",
        "train_y = [x-1 for x in train['Human_CategoryID'].tolist()]"
      ]
    },
    {
      "cell_type": "code",
      "execution_count": null,
      "metadata": {
        "id": "WCzKJwm4wgpV"
      },
      "outputs": [],
      "source": [
        "max_features = vocab_size\n",
        "maxlen = max_length\n",
        "embed_size = 1000\n",
        "threshold = 0.35\n",
        "\n",
        "filter_sizes = [1,2,3,5]\n",
        "num_filters = 42\n",
        "\n",
        "inp = Input(shape=(maxlen, ))\n",
        "x = Embedding(max_features, embed_size, trainable=True)(inp)\n",
        "x = Reshape((maxlen, embed_size, 1))(x)\n",
        "\n",
        "conv_0 = Conv2D(num_filters, kernel_size=(filter_sizes[0], embed_size),\n",
        "                              kernel_initializer='he_normal', activation='relu')(x)\n",
        "conv_1 = Conv2D(num_filters, kernel_size=(filter_sizes[1], embed_size),\n",
        "                              kernel_initializer='he_normal', activation='relu')(x)\n",
        "conv_2 = Conv2D(num_filters, kernel_size=(filter_sizes[2], embed_size), \n",
        "                              kernel_initializer='he_normal', activation='relu')(x)\n",
        "conv_3 = Conv2D(num_filters, kernel_size=(filter_sizes[3], embed_size),\n",
        "                              kernel_initializer='he_normal', activation='relu')(x)\n",
        "\n",
        "maxpool_0 = MaxPool2D(pool_size=(maxlen - filter_sizes[0] + 1, 1))(conv_0)\n",
        "maxpool_1 = MaxPool2D(pool_size=(maxlen - filter_sizes[1] + 1, 1))(conv_1)\n",
        "maxpool_2 = MaxPool2D(pool_size=(maxlen - filter_sizes[2] + 1, 1))(conv_2)\n",
        "maxpool_3 = MaxPool2D(pool_size=(maxlen - filter_sizes[3] + 1, 1))(conv_3)\n",
        "    \n",
        "z = Concatenate(axis=1)([maxpool_0, maxpool_1, maxpool_2, maxpool_3])   \n",
        "z = Flatten()(z)\n",
        "z = Dropout(0.5)(z)\n",
        "    \n",
        "outp = Dense(num_classes, activation=\"softmax\")(z)\n",
        "\n",
        "model = Model(inputs=inp, outputs=outp)\n",
        "model.compile(loss='categorical_crossentropy',\n",
        "              optimizer='adam',\n",
        "              metrics=['accuracy'])"
      ]
    },
    {
      "cell_type": "code",
      "execution_count": null,
      "metadata": {
        "colab": {
          "base_uri": "https://localhost:8080/"
        },
        "id": "Fq4fINv949gy",
        "outputId": "a59ae65e-2584-458e-814e-ad3d7d878105"
      },
      "outputs": [
        {
          "name": "stdout",
          "output_type": "stream",
          "text": [
            "Epoch 1/100\n",
            "\n",
            " F1 Score - epoch: 1 - score: 0.338603 \n",
            "\n",
            "34/34 - 11s - loss: 2.0054 - accuracy: 0.3459 - val_loss: 1.6590 - val_accuracy: 0.4615 - 11s/epoch - 318ms/step\n",
            "Epoch 2/100\n",
            "\n",
            " F1 Score - epoch: 2 - score: 0.470095 \n",
            "\n",
            "34/34 - 10s - loss: 1.5249 - accuracy: 0.5183 - val_loss: 1.4127 - val_accuracy: 0.5542 - 10s/epoch - 283ms/step\n",
            "Epoch 3/100\n",
            "\n",
            " F1 Score - epoch: 3 - score: 0.538072 \n",
            "\n",
            "34/34 - 10s - loss: 1.2604 - accuracy: 0.6099 - val_loss: 1.2702 - val_accuracy: 0.5984 - 10s/epoch - 285ms/step\n",
            "Epoch 4/100\n",
            "\n",
            " F1 Score - epoch: 4 - score: 0.561444 \n",
            "\n",
            "34/34 - 10s - loss: 1.0614 - accuracy: 0.6728 - val_loss: 1.2036 - val_accuracy: 0.6148 - 10s/epoch - 289ms/step\n",
            "Epoch 5/100\n",
            "\n",
            " F1 Score - epoch: 5 - score: 0.585553 \n",
            "\n",
            "34/34 - 10s - loss: 0.8706 - accuracy: 0.7336 - val_loss: 1.1472 - val_accuracy: 0.6274 - 10s/epoch - 280ms/step\n",
            "Epoch 6/100\n",
            "\n",
            " F1 Score - epoch: 6 - score: 0.590078 \n",
            "\n",
            "34/34 - 10s - loss: 0.7218 - accuracy: 0.7834 - val_loss: 1.1284 - val_accuracy: 0.6316 - 10s/epoch - 280ms/step\n",
            "Epoch 7/100\n",
            "\n",
            " F1 Score - epoch: 7 - score: 0.598468 \n",
            "\n",
            "34/34 - 9s - loss: 0.5668 - accuracy: 0.8387 - val_loss: 1.1300 - val_accuracy: 0.6299 - 9s/epoch - 279ms/step\n",
            "Epoch 8/100\n",
            "\n",
            " F1 Score - epoch: 8 - score: 0.603829 \n",
            "\n",
            "34/34 - 10s - loss: 0.4510 - accuracy: 0.8761 - val_loss: 1.1446 - val_accuracy: 0.6291 - 10s/epoch - 281ms/step\n",
            "13/13 [==============================] - 0s 6ms/step - loss: 1.1918 - accuracy: 0.6221\n",
            "Test Accuracy: 62.210798\n"
          ]
        }
      ],
      "source": [
        "batch_size = 256\n",
        "epochs = 100\n",
        "\n",
        "X_tra, X_val, y_tra, y_val = train_test_split(x_train, y_train, train_size=0.7,\n",
        "                                              random_state=233)\n",
        "F1_Score = F1Evaluation(validation_data=(X_val, y_val), interval=1)\n",
        "\n",
        "early_stopping = EarlyStopping(monitor='val_loss', patience=2, mode='min')\n",
        "\n",
        "hist = model.fit(X_tra, y_tra, batch_size=batch_size, epochs=epochs,\n",
        "                 validation_data=(X_val, y_val),\n",
        "                 callbacks=[F1_Score, early_stopping], verbose=2)\n",
        "\n",
        "loss, acc = model.evaluate(x_test, y_test)\n",
        "print('Test Accuracy: %f' % (acc*100))"
      ]
    },
    {
      "cell_type": "markdown",
      "metadata": {
        "id": "075FUvtRq-SQ"
      },
      "source": [
        "##EBL40000 R [(CNN2 MP2D)*2] F DO0.5 D13: 60.9\n",
        "\n",
        "EBL40000 R [(CNN2 MP2D)*1] F DO0.5 D13: 59\n",
        "\n",
        "EBL40000 R [(CNN2 MP2D)*3] F DO0.5 D13: 58\n",
        "\n",
        "EBL40000 R [(CNN2 MP2D)*4] F DO0.5 D13: 3"
      ]
    },
    {
      "cell_type": "code",
      "execution_count": null,
      "metadata": {
        "id": "ZhTt041sq-SR"
      },
      "outputs": [],
      "source": [
        "from sklearn.metrics import f1_score\n",
        "from sklearn.model_selection import train_test_split\n",
        "\n",
        "from keras.models import Model\n",
        "\n",
        "from keras.callbacks import Callback, EarlyStopping\n",
        "from keras.preprocessing import text, sequence\n",
        "\n",
        "from keras.layers.pooling import GlobalMaxPooling2D\n",
        "from keras.layers import Input, Embedding, Dense, Conv2D, MaxPool2D, concatenate\n",
        "from keras.layers import Reshape, Flatten, Concatenate, Dropout, SpatialDropout1D"
      ]
    },
    {
      "cell_type": "code",
      "execution_count": null,
      "metadata": {
        "colab": {
          "base_uri": "https://localhost:8080/",
          "height": 284
        },
        "id": "46hJoysJq-SS",
        "outputId": "8208952b-ee25-4f6a-9efa-c48d482fb8d7"
      },
      "outputs": [
        {
          "data": {
            "text/html": [
              "\n",
              "  <div id=\"df-abef8b91-8293-44c5-a4ce-155f0fcdd577\">\n",
              "    <div class=\"colab-df-container\">\n",
              "      <div>\n",
              "<style scoped>\n",
              "    .dataframe tbody tr th:only-of-type {\n",
              "        vertical-align: middle;\n",
              "    }\n",
              "\n",
              "    .dataframe tbody tr th {\n",
              "        vertical-align: top;\n",
              "    }\n",
              "\n",
              "    .dataframe thead th {\n",
              "        text-align: right;\n",
              "    }\n",
              "</style>\n",
              "<table border=\"1\" class=\"dataframe\">\n",
              "  <thead>\n",
              "    <tr style=\"text-align: right;\">\n",
              "      <th></th>\n",
              "      <th>Unnamed: 0</th>\n",
              "      <th>TagFile_Path</th>\n",
              "      <th>TagFile</th>\n",
              "      <th>SV_CustomerName</th>\n",
              "      <th>Main keyword</th>\n",
              "      <th>Channel</th>\n",
              "      <th>SubChannel</th>\n",
              "      <th>lfdn</th>\n",
              "      <th>verbatim_id</th>\n",
              "      <th>sentence_id</th>\n",
              "      <th>Text_original</th>\n",
              "      <th>Text</th>\n",
              "      <th>Human_Category</th>\n",
              "      <th>Human_CategoryID</th>\n",
              "      <th>Human_Sentiment</th>\n",
              "      <th>Human_SentimentID</th>\n",
              "      <th>Text_ws_local</th>\n",
              "    </tr>\n",
              "  </thead>\n",
              "  <tbody>\n",
              "    <tr>\n",
              "      <th>0</th>\n",
              "      <td>0</td>\n",
              "      <td>SocialFSI_ZE-KTB-Feb-Apr2022_Sampling2244_2022...</td>\n",
              "      <td>SocialFSI_ZE-KTB-Feb-Apr2022_Sampling1400_2022...</td>\n",
              "      <td>Krungthai_NEXT</td>\n",
              "      <td>mobile banking+กสิกร,mobile banking+ธนาคารกสิก...</td>\n",
              "      <td>SocialMedia</td>\n",
              "      <td>forum</td>\n",
              "      <td>pantip.com_topic_41249919</td>\n",
              "      <td>Q2207_1549</td>\n",
              "      <td>Q2207_1549_1</td>\n",
              "      <td>สอบถามเรื่องการอายัดบัตรเดบิตของกสิกรค่ะ พอดีว...</td>\n",
              "      <td>สอบถามเรื่องการอายัดบัตรเดบิตของกสิกรค่ะ พอดีว...</td>\n",
              "      <td>Product and Service, Usage and Condition</td>\n",
              "      <td>8</td>\n",
              "      <td>neutral</td>\n",
              "      <td>o</td>\n",
              "      <td>สอบถาม|เรื่อง|การ|อายัด|บัตรเดบิต|ของ|kbank|ค่...</td>\n",
              "    </tr>\n",
              "  </tbody>\n",
              "</table>\n",
              "</div>\n",
              "      <button class=\"colab-df-convert\" onclick=\"convertToInteractive('df-abef8b91-8293-44c5-a4ce-155f0fcdd577')\"\n",
              "              title=\"Convert this dataframe to an interactive table.\"\n",
              "              style=\"display:none;\">\n",
              "        \n",
              "  <svg xmlns=\"http://www.w3.org/2000/svg\" height=\"24px\"viewBox=\"0 0 24 24\"\n",
              "       width=\"24px\">\n",
              "    <path d=\"M0 0h24v24H0V0z\" fill=\"none\"/>\n",
              "    <path d=\"M18.56 5.44l.94 2.06.94-2.06 2.06-.94-2.06-.94-.94-2.06-.94 2.06-2.06.94zm-11 1L8.5 8.5l.94-2.06 2.06-.94-2.06-.94L8.5 2.5l-.94 2.06-2.06.94zm10 10l.94 2.06.94-2.06 2.06-.94-2.06-.94-.94-2.06-.94 2.06-2.06.94z\"/><path d=\"M17.41 7.96l-1.37-1.37c-.4-.4-.92-.59-1.43-.59-.52 0-1.04.2-1.43.59L10.3 9.45l-7.72 7.72c-.78.78-.78 2.05 0 2.83L4 21.41c.39.39.9.59 1.41.59.51 0 1.02-.2 1.41-.59l7.78-7.78 2.81-2.81c.8-.78.8-2.07 0-2.86zM5.41 20L4 18.59l7.72-7.72 1.47 1.35L5.41 20z\"/>\n",
              "  </svg>\n",
              "      </button>\n",
              "      \n",
              "  <style>\n",
              "    .colab-df-container {\n",
              "      display:flex;\n",
              "      flex-wrap:wrap;\n",
              "      gap: 12px;\n",
              "    }\n",
              "\n",
              "    .colab-df-convert {\n",
              "      background-color: #E8F0FE;\n",
              "      border: none;\n",
              "      border-radius: 50%;\n",
              "      cursor: pointer;\n",
              "      display: none;\n",
              "      fill: #1967D2;\n",
              "      height: 32px;\n",
              "      padding: 0 0 0 0;\n",
              "      width: 32px;\n",
              "    }\n",
              "\n",
              "    .colab-df-convert:hover {\n",
              "      background-color: #E2EBFA;\n",
              "      box-shadow: 0px 1px 2px rgba(60, 64, 67, 0.3), 0px 1px 3px 1px rgba(60, 64, 67, 0.15);\n",
              "      fill: #174EA6;\n",
              "    }\n",
              "\n",
              "    [theme=dark] .colab-df-convert {\n",
              "      background-color: #3B4455;\n",
              "      fill: #D2E3FC;\n",
              "    }\n",
              "\n",
              "    [theme=dark] .colab-df-convert:hover {\n",
              "      background-color: #434B5C;\n",
              "      box-shadow: 0px 1px 3px 1px rgba(0, 0, 0, 0.15);\n",
              "      filter: drop-shadow(0px 1px 2px rgba(0, 0, 0, 0.3));\n",
              "      fill: #FFFFFF;\n",
              "    }\n",
              "  </style>\n",
              "\n",
              "      <script>\n",
              "        const buttonEl =\n",
              "          document.querySelector('#df-abef8b91-8293-44c5-a4ce-155f0fcdd577 button.colab-df-convert');\n",
              "        buttonEl.style.display =\n",
              "          google.colab.kernel.accessAllowed ? 'block' : 'none';\n",
              "\n",
              "        async function convertToInteractive(key) {\n",
              "          const element = document.querySelector('#df-abef8b91-8293-44c5-a4ce-155f0fcdd577');\n",
              "          const dataTable =\n",
              "            await google.colab.kernel.invokeFunction('convertToInteractive',\n",
              "                                                     [key], {});\n",
              "          if (!dataTable) return;\n",
              "\n",
              "          const docLinkHtml = 'Like what you see? Visit the ' +\n",
              "            '<a target=\"_blank\" href=https://colab.research.google.com/notebooks/data_table.ipynb>data table notebook</a>'\n",
              "            + ' to learn more about interactive tables.';\n",
              "          element.innerHTML = '';\n",
              "          dataTable['output_type'] = 'display_data';\n",
              "          await google.colab.output.renderOutput(dataTable, element);\n",
              "          const docLink = document.createElement('div');\n",
              "          docLink.innerHTML = docLinkHtml;\n",
              "          element.appendChild(docLink);\n",
              "        }\n",
              "      </script>\n",
              "    </div>\n",
              "  </div>\n",
              "  "
            ],
            "text/plain": [
              "   Unnamed: 0                                       TagFile_Path  \\\n",
              "0           0  SocialFSI_ZE-KTB-Feb-Apr2022_Sampling2244_2022...   \n",
              "\n",
              "                                             TagFile SV_CustomerName  \\\n",
              "0  SocialFSI_ZE-KTB-Feb-Apr2022_Sampling1400_2022...  Krungthai_NEXT   \n",
              "\n",
              "                                        Main keyword      Channel SubChannel  \\\n",
              "0  mobile banking+กสิกร,mobile banking+ธนาคารกสิก...  SocialMedia      forum   \n",
              "\n",
              "                        lfdn verbatim_id   sentence_id  \\\n",
              "0  pantip.com_topic_41249919  Q2207_1549  Q2207_1549_1   \n",
              "\n",
              "                                       Text_original  \\\n",
              "0  สอบถามเรื่องการอายัดบัตรเดบิตของกสิกรค่ะ พอดีว...   \n",
              "\n",
              "                                                Text  \\\n",
              "0  สอบถามเรื่องการอายัดบัตรเดบิตของกสิกรค่ะ พอดีว...   \n",
              "\n",
              "                             Human_Category  Human_CategoryID Human_Sentiment  \\\n",
              "0  Product and Service, Usage and Condition                 8         neutral   \n",
              "\n",
              "  Human_SentimentID                                      Text_ws_local  \n",
              "0                 o  สอบถาม|เรื่อง|การ|อายัด|บัตรเดบิต|ของ|kbank|ค่...  "
            ]
          },
          "execution_count": 105,
          "metadata": {},
          "output_type": "execute_result"
        }
      ],
      "source": [
        "train.head(1)"
      ]
    },
    {
      "cell_type": "code",
      "execution_count": null,
      "metadata": {
        "id": "0fPs6M-2q-SS"
      },
      "outputs": [],
      "source": [
        "class F1Evaluation(Callback):\n",
        "    def __init__(self, validation_data=(), interval=1):\n",
        "        super(Callback, self).__init__()\n",
        "\n",
        "        self.interval = interval\n",
        "        self.X_val, self.y_val = validation_data\n",
        "\n",
        "    def on_epoch_end(self, epoch, logs={}):\n",
        "        if epoch % self.interval == 0:\n",
        "            y_pred = self.model.predict(self.X_val, verbose=0)\n",
        "            y_pred = (y_pred > threshold).astype(int)\n",
        "            score = f1_score(self.y_val, y_pred, average='weighted', zero_division=0)\n",
        "            print(\"\\n F1 Score - epoch: %d - score: %.6f \\n\" % (epoch+1, score))"
      ]
    },
    {
      "cell_type": "code",
      "execution_count": null,
      "metadata": {
        "id": "bzML6wrlq-ST"
      },
      "outputs": [],
      "source": [
        "#turn pandas.core.series.Series into numpy.ndarray\n",
        "X_train = train[\"Text_ws_local\"].fillna(\"fillna\").values\n",
        "y_train = train[\"Human_CategoryID\"].values\n",
        "X_test = test[\"Text_ws_local\"].fillna(\"fillna\").values \n",
        "y_test = test[\"Human_CategoryID\"].values\n",
        "\n",
        "max_features = 40000\n",
        "maxlen = 70\n",
        "embed_size = 400 #ES\n",
        "\n",
        "threshold = 0.35\n",
        "\n",
        "tokenizer = text.Tokenizer(num_words=max_features)\n",
        "tokenizer.fit_on_texts(list(X_train) + list(X_test))\n",
        "X_train = tokenizer.texts_to_sequences(X_train)\n",
        "X_test = tokenizer.texts_to_sequences(X_test)\n",
        "x_train = sequence.pad_sequences(X_train, maxlen=maxlen)\n",
        "x_test = sequence.pad_sequences(X_test, maxlen=maxlen)\n",
        "\n",
        "#multi-class tasks needs one hot for y.\n",
        "y_train = to_categorical(y_train-1, num_classes)\n",
        "y_test = to_categorical(y_test-1, num_classes)\n",
        "\n",
        "train_y = [x-1 for x in train['Human_CategoryID'].tolist()]"
      ]
    },
    {
      "cell_type": "code",
      "execution_count": null,
      "metadata": {
        "id": "eZgQsQHkq-ST"
      },
      "outputs": [],
      "source": [
        "#conv2D *4 in order addressed by https://stackoverflow.com/questions/59791364/keras-conv2d-value-error-negative-dimension-size#:~:text=%2C32%5D.-,Solution%3A,-This%20issue%20can\n",
        "filter_sizes = [5,7,9,11]\n",
        "num_filters = 256 #NF\n",
        "\n",
        "inp = Input(shape=(maxlen, ))\n",
        "x = Embedding(max_features, embed_size, trainable=True)(inp) \n",
        "x = Reshape((maxlen, embed_size, 1))(x)\n",
        "\n",
        "#1st conv only: 59\n",
        "conv_0 = Conv2D(num_filters, kernel_size=(filter_sizes[0], embed_size),\n",
        "                              kernel_initializer='he_normal', padding='same', activation='relu', data_format='channels_first')(x)\n",
        "maxpool_0 = MaxPool2D(pool_size=(maxlen - filter_sizes[0] + 1, 1), padding='same', data_format='channels_last')(conv_0)\n",
        "\n",
        "#2nd conv\n",
        "#[1st, 2nd]: 60.9\n",
        "conv_1 = Conv2D(num_filters, kernel_size=(filter_sizes[1], embed_size),\n",
        "                              kernel_initializer='he_normal', padding='same', activation='relu', data_format='channels_first')(maxpool_0)\n",
        "maxpool_1 = MaxPool2D(pool_size=(maxlen - filter_sizes[1] + 1, 1), padding='same', data_format='channels_last')(conv_1)                              \n",
        "\n",
        "#3rd conv\n",
        "#[1st, 2nd, 3rd]: 58.0\n",
        "conv_2 = Conv2D(num_filters, kernel_size=(filter_sizes[2], embed_size), \n",
        "                              kernel_initializer='he_normal', padding='same', activation='relu', data_format='channels_first')(maxpool_1)\n",
        "maxpool_2 = MaxPool2D(pool_size=(maxlen - filter_sizes[2] + 1, 1), padding='same', data_format='channels_last')(conv_2)\n",
        "\n",
        "# #4th conv\n",
        "# [1st, 2nd, 3rd, 4th]: 3.0\n",
        "conv_3 = Conv2D(num_filters, kernel_size=(filter_sizes[3], embed_size),\n",
        "                              kernel_initializer='he_normal', padding='same', activation='relu', data_format='channels_first')(maxpool_2)\n",
        "maxpool_3 = MaxPool2D(pool_size=(maxlen - filter_sizes[3] + 1, 1), padding='same', data_format='channels_last')(conv_3)\n",
        "\n",
        "z = Flatten()(maxpool_3)\n",
        "z = Dropout(0.5)(z) \n",
        "    \n",
        "outp = Dense(num_classes, activation=\"softmax\")(z)\n",
        "\n",
        "model = Model(inputs=inp, outputs=outp)\n",
        "model.compile(loss='categorical_crossentropy',\n",
        "              optimizer='adam',\n",
        "              metrics=['acc'])"
      ]
    },
    {
      "cell_type": "code",
      "execution_count": null,
      "metadata": {
        "colab": {
          "base_uri": "https://localhost:8080/"
        },
        "id": "QE8udffbq-SU",
        "outputId": "eb3757f7-6d16-4ebd-e90b-2c7f9b5d44d7"
      },
      "outputs": [
        {
          "name": "stdout",
          "output_type": "stream",
          "text": [
            "Epoch 1/100\n",
            "\n",
            " F1 Score - epoch: 1 - score: 0.000000 \n",
            "\n",
            "38/38 - 279s - loss: 2.5501 - acc: 0.0932 - val_loss: 2.5633 - val_acc: 0.0255 - 279s/epoch - 7s/step\n",
            "Epoch 2/100\n",
            "\n",
            " F1 Score - epoch: 2 - score: 0.000000 \n",
            "\n",
            "38/38 - 278s - loss: 2.5484 - acc: 0.0420 - val_loss: 2.5626 - val_acc: 0.0255 - 278s/epoch - 7s/step\n",
            "Epoch 3/100\n",
            "\n",
            " F1 Score - epoch: 3 - score: 0.000000 \n",
            "\n",
            "38/38 - 278s - loss: 2.5494 - acc: 0.0271 - val_loss: 2.5658 - val_acc: 0.0136 - 278s/epoch - 7s/step\n",
            "Epoch 4/100\n",
            "\n",
            " F1 Score - epoch: 4 - score: 0.000000 \n",
            "\n",
            "38/38 - 278s - loss: 2.5484 - acc: 0.0364 - val_loss: 2.5549 - val_acc: 0.0119 - 278s/epoch - 7s/step\n",
            "Epoch 5/100\n",
            "\n",
            " F1 Score - epoch: 5 - score: 0.000000 \n",
            "\n",
            "38/38 - 278s - loss: 2.5490 - acc: 0.1146 - val_loss: 2.5593 - val_acc: 0.1687 - 278s/epoch - 7s/step\n",
            "Epoch 6/100\n",
            "\n",
            " F1 Score - epoch: 6 - score: 0.000000 \n",
            "\n",
            "38/38 - 278s - loss: 2.5490 - acc: 0.0986 - val_loss: 2.5665 - val_acc: 0.0255 - 278s/epoch - 7s/step\n",
            "13/13 [==============================] - 3s 234ms/step - loss: 2.5668 - acc: 0.0308\n",
            "Test Accuracy: 3.084833\n"
          ]
        }
      ],
      "source": [
        "batch_size = 256 #256 = 68\n",
        "epochs = 100\n",
        "\n",
        "X_tra, X_val, y_tra, y_val = train_test_split(x_train, y_train, train_size=0.8,\n",
        "                                              random_state=233)\n",
        "F1_Score = F1Evaluation(validation_data=(X_val, y_val), interval=1)\n",
        "\n",
        "early_stopping = EarlyStopping(monitor='val_loss', patience=2, mode='min')\n",
        "\n",
        "class_weights = compute_class_weight(\n",
        "                                        class_weight = \"balanced\",\n",
        "                                        classes = np.unique(train_y),\n",
        "                                        y = train_y                                                   \n",
        "                                    )\n",
        "class_weights = dict(zip(np.unique(train_y), class_weights))\n",
        "\n",
        "hist = model.fit(X_tra, y_tra, batch_size=batch_size, epochs=epochs,\n",
        "                 validation_data=(X_val, y_val),\n",
        "                 callbacks=[F1_Score, early_stopping], verbose=2, class_weight=class_weights)\n",
        "\n",
        "loss, acc = model.evaluate(x_test, y_test)\n",
        "print('Test Accuracy: %f' % (acc*100))\n",
        "\n",
        "Xtest = x_test\n",
        "ytest = y_test\n",
        "history = hist"
      ]
    },
    {
      "cell_type": "markdown",
      "metadata": {
        "id": "RvfMYlOq8Bib"
      },
      "source": [
        "##EBL40000 4CNN2 MP2D F DO0.5 D13: 66-69\n",
        "\n",
        "EBL40000M0 4CNN2 MP2D F DO0.2 D13: 66\n",
        "\n",
        "EBL40000M0 4CNN2 MP2D F DO0.5 D13: 66\n",
        "\n",
        "EBL40000 4CNN2 MP2D F DO0.4 D13: 67-68\n",
        "\n",
        "EBL40000 4CNN2 MP2D F DO0.2 D13: 67-68\n",
        "\n",
        "\n",
        "\n",
        "inspiration: \n",
        "\n",
        "https://www.kaggle.com/code/yekenot/2dcnn-textclassifier/notebook\n",
        "\n",
        "[Text CNN] https://towardsdatascience.com/nlp-learning-series-part-3-attention-cnn-and-what-not-for-text-classification-4313930ed566"
      ]
    },
    {
      "cell_type": "code",
      "execution_count": 73,
      "metadata": {
        "id": "JDOSbCKb8Bic"
      },
      "outputs": [],
      "source": [
        "from sklearn.metrics import f1_score\n",
        "from sklearn.model_selection import train_test_split\n",
        "\n",
        "from keras.models import Model\n",
        "\n",
        "from keras.callbacks import Callback, EarlyStopping\n",
        "from keras.preprocessing import text, sequence\n",
        "\n",
        "from keras.layers.pooling import GlobalMaxPooling2D\n",
        "from keras.layers import Input, Embedding, Dense, Conv2D, MaxPool2D, concatenate\n",
        "from keras.layers import Reshape, Flatten, Concatenate, Dropout, SpatialDropout1D"
      ]
    },
    {
      "cell_type": "code",
      "execution_count": 74,
      "metadata": {
        "colab": {
          "base_uri": "https://localhost:8080/",
          "height": 284
        },
        "id": "AAH3JB0p8Bic",
        "outputId": "09e1499a-d04d-4752-bee7-5ed2567dbca9"
      },
      "outputs": [
        {
          "output_type": "execute_result",
          "data": {
            "text/plain": [
              "   Unnamed: 0                                       TagFile_Path  \\\n",
              "0           0  SocialFSI_ZE-KTB-Feb-Apr2022_Sampling2244_2022...   \n",
              "\n",
              "                                             TagFile SV_CustomerName  \\\n",
              "0  SocialFSI_ZE-KTB-Feb-Apr2022_Sampling1400_2022...  Krungthai_NEXT   \n",
              "\n",
              "                                        Main keyword      Channel SubChannel  \\\n",
              "0  mobile banking+กสิกร,mobile banking+ธนาคารกสิก...  SocialMedia      forum   \n",
              "\n",
              "                        lfdn verbatim_id   sentence_id  \\\n",
              "0  pantip.com_topic_41249919  Q2207_1549  Q2207_1549_1   \n",
              "\n",
              "                                       Text_original  \\\n",
              "0  สอบถามเรื่องการอายัดบัตรเดบิตของกสิกรค่ะ พอดีว...   \n",
              "\n",
              "                                                Text  \\\n",
              "0  สอบถามเรื่องการอายัดบัตรเดบิตของกสิกรค่ะ พอดีว...   \n",
              "\n",
              "                             Human_Category  Human_CategoryID Human_Sentiment  \\\n",
              "0  Product and Service, Usage and Condition                 8         neutral   \n",
              "\n",
              "  Human_SentimentID                                      Text_ws_local  \n",
              "0                 o  สอบถาม|เรื่อง|การ|อายัด|บัตรเดบิต|ของ|kbank|ค่...  "
            ],
            "text/html": [
              "\n",
              "  <div id=\"df-462aae34-15a6-4134-8dc8-5f625a58db3e\">\n",
              "    <div class=\"colab-df-container\">\n",
              "      <div>\n",
              "<style scoped>\n",
              "    .dataframe tbody tr th:only-of-type {\n",
              "        vertical-align: middle;\n",
              "    }\n",
              "\n",
              "    .dataframe tbody tr th {\n",
              "        vertical-align: top;\n",
              "    }\n",
              "\n",
              "    .dataframe thead th {\n",
              "        text-align: right;\n",
              "    }\n",
              "</style>\n",
              "<table border=\"1\" class=\"dataframe\">\n",
              "  <thead>\n",
              "    <tr style=\"text-align: right;\">\n",
              "      <th></th>\n",
              "      <th>Unnamed: 0</th>\n",
              "      <th>TagFile_Path</th>\n",
              "      <th>TagFile</th>\n",
              "      <th>SV_CustomerName</th>\n",
              "      <th>Main keyword</th>\n",
              "      <th>Channel</th>\n",
              "      <th>SubChannel</th>\n",
              "      <th>lfdn</th>\n",
              "      <th>verbatim_id</th>\n",
              "      <th>sentence_id</th>\n",
              "      <th>Text_original</th>\n",
              "      <th>Text</th>\n",
              "      <th>Human_Category</th>\n",
              "      <th>Human_CategoryID</th>\n",
              "      <th>Human_Sentiment</th>\n",
              "      <th>Human_SentimentID</th>\n",
              "      <th>Text_ws_local</th>\n",
              "    </tr>\n",
              "  </thead>\n",
              "  <tbody>\n",
              "    <tr>\n",
              "      <th>0</th>\n",
              "      <td>0</td>\n",
              "      <td>SocialFSI_ZE-KTB-Feb-Apr2022_Sampling2244_2022...</td>\n",
              "      <td>SocialFSI_ZE-KTB-Feb-Apr2022_Sampling1400_2022...</td>\n",
              "      <td>Krungthai_NEXT</td>\n",
              "      <td>mobile banking+กสิกร,mobile banking+ธนาคารกสิก...</td>\n",
              "      <td>SocialMedia</td>\n",
              "      <td>forum</td>\n",
              "      <td>pantip.com_topic_41249919</td>\n",
              "      <td>Q2207_1549</td>\n",
              "      <td>Q2207_1549_1</td>\n",
              "      <td>สอบถามเรื่องการอายัดบัตรเดบิตของกสิกรค่ะ พอดีว...</td>\n",
              "      <td>สอบถามเรื่องการอายัดบัตรเดบิตของกสิกรค่ะ พอดีว...</td>\n",
              "      <td>Product and Service, Usage and Condition</td>\n",
              "      <td>8</td>\n",
              "      <td>neutral</td>\n",
              "      <td>o</td>\n",
              "      <td>สอบถาม|เรื่อง|การ|อายัด|บัตรเดบิต|ของ|kbank|ค่...</td>\n",
              "    </tr>\n",
              "  </tbody>\n",
              "</table>\n",
              "</div>\n",
              "      <button class=\"colab-df-convert\" onclick=\"convertToInteractive('df-462aae34-15a6-4134-8dc8-5f625a58db3e')\"\n",
              "              title=\"Convert this dataframe to an interactive table.\"\n",
              "              style=\"display:none;\">\n",
              "        \n",
              "  <svg xmlns=\"http://www.w3.org/2000/svg\" height=\"24px\"viewBox=\"0 0 24 24\"\n",
              "       width=\"24px\">\n",
              "    <path d=\"M0 0h24v24H0V0z\" fill=\"none\"/>\n",
              "    <path d=\"M18.56 5.44l.94 2.06.94-2.06 2.06-.94-2.06-.94-.94-2.06-.94 2.06-2.06.94zm-11 1L8.5 8.5l.94-2.06 2.06-.94-2.06-.94L8.5 2.5l-.94 2.06-2.06.94zm10 10l.94 2.06.94-2.06 2.06-.94-2.06-.94-.94-2.06-.94 2.06-2.06.94z\"/><path d=\"M17.41 7.96l-1.37-1.37c-.4-.4-.92-.59-1.43-.59-.52 0-1.04.2-1.43.59L10.3 9.45l-7.72 7.72c-.78.78-.78 2.05 0 2.83L4 21.41c.39.39.9.59 1.41.59.51 0 1.02-.2 1.41-.59l7.78-7.78 2.81-2.81c.8-.78.8-2.07 0-2.86zM5.41 20L4 18.59l7.72-7.72 1.47 1.35L5.41 20z\"/>\n",
              "  </svg>\n",
              "      </button>\n",
              "      \n",
              "  <style>\n",
              "    .colab-df-container {\n",
              "      display:flex;\n",
              "      flex-wrap:wrap;\n",
              "      gap: 12px;\n",
              "    }\n",
              "\n",
              "    .colab-df-convert {\n",
              "      background-color: #E8F0FE;\n",
              "      border: none;\n",
              "      border-radius: 50%;\n",
              "      cursor: pointer;\n",
              "      display: none;\n",
              "      fill: #1967D2;\n",
              "      height: 32px;\n",
              "      padding: 0 0 0 0;\n",
              "      width: 32px;\n",
              "    }\n",
              "\n",
              "    .colab-df-convert:hover {\n",
              "      background-color: #E2EBFA;\n",
              "      box-shadow: 0px 1px 2px rgba(60, 64, 67, 0.3), 0px 1px 3px 1px rgba(60, 64, 67, 0.15);\n",
              "      fill: #174EA6;\n",
              "    }\n",
              "\n",
              "    [theme=dark] .colab-df-convert {\n",
              "      background-color: #3B4455;\n",
              "      fill: #D2E3FC;\n",
              "    }\n",
              "\n",
              "    [theme=dark] .colab-df-convert:hover {\n",
              "      background-color: #434B5C;\n",
              "      box-shadow: 0px 1px 3px 1px rgba(0, 0, 0, 0.15);\n",
              "      filter: drop-shadow(0px 1px 2px rgba(0, 0, 0, 0.3));\n",
              "      fill: #FFFFFF;\n",
              "    }\n",
              "  </style>\n",
              "\n",
              "      <script>\n",
              "        const buttonEl =\n",
              "          document.querySelector('#df-462aae34-15a6-4134-8dc8-5f625a58db3e button.colab-df-convert');\n",
              "        buttonEl.style.display =\n",
              "          google.colab.kernel.accessAllowed ? 'block' : 'none';\n",
              "\n",
              "        async function convertToInteractive(key) {\n",
              "          const element = document.querySelector('#df-462aae34-15a6-4134-8dc8-5f625a58db3e');\n",
              "          const dataTable =\n",
              "            await google.colab.kernel.invokeFunction('convertToInteractive',\n",
              "                                                     [key], {});\n",
              "          if (!dataTable) return;\n",
              "\n",
              "          const docLinkHtml = 'Like what you see? Visit the ' +\n",
              "            '<a target=\"_blank\" href=https://colab.research.google.com/notebooks/data_table.ipynb>data table notebook</a>'\n",
              "            + ' to learn more about interactive tables.';\n",
              "          element.innerHTML = '';\n",
              "          dataTable['output_type'] = 'display_data';\n",
              "          await google.colab.output.renderOutput(dataTable, element);\n",
              "          const docLink = document.createElement('div');\n",
              "          docLink.innerHTML = docLinkHtml;\n",
              "          element.appendChild(docLink);\n",
              "        }\n",
              "      </script>\n",
              "    </div>\n",
              "  </div>\n",
              "  "
            ]
          },
          "metadata": {},
          "execution_count": 74
        }
      ],
      "source": [
        "train.head(1)"
      ]
    },
    {
      "cell_type": "code",
      "execution_count": 75,
      "metadata": {
        "id": "iynFJdPY8Bic"
      },
      "outputs": [],
      "source": [
        "class F1Evaluation(Callback):\n",
        "    def __init__(self, validation_data=(), interval=1):\n",
        "        super(Callback, self).__init__()\n",
        "\n",
        "        self.interval = interval\n",
        "        self.X_val, self.y_val = validation_data\n",
        "\n",
        "    def on_epoch_end(self, epoch, logs={}):\n",
        "        if epoch % self.interval == 0:\n",
        "            y_pred = self.model.predict(self.X_val, verbose=0)\n",
        "            y_pred = (y_pred > threshold).astype(int)\n",
        "            score = f1_score(self.y_val, y_pred, average='weighted', zero_division=0)\n",
        "            print(\"\\n F1 Score - epoch: %d - score: %.6f \\n\" % (epoch+1, score))"
      ]
    },
    {
      "cell_type": "code",
      "execution_count": 76,
      "metadata": {
        "id": "yRDp3y5v8Bid"
      },
      "outputs": [],
      "source": [
        "#turn pandas.core.series.Series into numpy.ndarray\n",
        "X_train = train[\"Text_ws_local\"].fillna(\"fillna\").values\n",
        "y_train = train[\"Human_CategoryID\"].values\n",
        "X_test = test[\"Text_ws_local\"].fillna(\"fillna\").values \n",
        "y_test = test[\"Human_CategoryID\"].values\n",
        "\n",
        "max_features = 40000\n",
        "maxlen = 70\n",
        "embed_size = 400 #ES\n",
        "\n",
        "threshold = 0.35\n",
        "\n",
        "tokenizer = text.Tokenizer(num_words=max_features)\n",
        "tokenizer.fit_on_texts(list(X_train) + list(X_test))\n",
        "X_train = tokenizer.texts_to_sequences(X_train)\n",
        "X_test = tokenizer.texts_to_sequences(X_test)\n",
        "x_train = sequence.pad_sequences(X_train, maxlen=maxlen)\n",
        "x_test = sequence.pad_sequences(X_test, maxlen=maxlen)\n",
        "\n",
        "#multi-class tasks needs one hot for y.\n",
        "y_train = to_categorical(y_train-1, num_classes)\n",
        "y_test = to_categorical(y_test-1, num_classes)\n",
        "\n",
        "train_y = [x-1 for x in train['Human_CategoryID'].tolist()]"
      ]
    },
    {
      "cell_type": "code",
      "execution_count": 77,
      "metadata": {
        "id": "tfIhoaVi8Bid"
      },
      "outputs": [],
      "source": [
        "filter_sizes = [5,7,9,11]\n",
        "num_filters = 256 #NF\n",
        "\n",
        "## filter_sizes = [5,7,9,11]\n",
        "#NF256 ES400 = 0.69\n",
        "\n",
        "### filter_sizes = [2,3,7,10], [3,5,7,10], [2,3,9,10], [3,5,8,10]\n",
        "#NF256 ES400 = 0.65 - 0.66\n",
        "#NF512 ES400 = 0.66\n",
        "\n",
        "### filter_sizes = [2,3,5,10]\n",
        "#NF256 ES400 = 0.68\n",
        "#NF256 ES600 = 0.66 - 0.68\n",
        "#NF256 ES800 = 0.65\n",
        "#NF256 ES1000 = 0.67\n",
        "\n",
        "#NF512 ES400 = 0.65\n",
        "#NF512 ES600 = 0.67\n",
        "#NF1024 ES600 = 0.68\n",
        "\n",
        "#Next\n",
        "#1) Dropout 0.2: 0.68\n",
        "#2) Use Embedding by Wangchan and Word2Vec\n",
        "#3) Conv2D Max in 4 times in order\n",
        "#4) [conv2d maxpool]*2 + [embedding] then CONCAT >> like Resnet for Text Classification\n",
        "\n",
        "inp = Input(shape=(maxlen, ))\n",
        "x = Embedding(max_features, embed_size, trainable=True)(inp) \n",
        "x = Reshape((maxlen, embed_size, 1))(x)\n",
        "\n",
        "conv_0 = Conv2D(num_filters, kernel_size=(filter_sizes[0], embed_size),\n",
        "                              kernel_initializer='he_normal', activation='relu')(x)\n",
        "conv_1 = Conv2D(num_filters, kernel_size=(filter_sizes[1], embed_size),\n",
        "                              kernel_initializer='he_normal', activation='relu')(x)\n",
        "conv_2 = Conv2D(num_filters, kernel_size=(filter_sizes[2], embed_size), \n",
        "                              kernel_initializer='he_normal', activation='relu')(x)\n",
        "conv_3 = Conv2D(num_filters, kernel_size=(filter_sizes[3], embed_size),\n",
        "                              kernel_initializer='he_normal', activation='relu')(x)\n",
        "\n",
        "maxpool_0 = MaxPool2D(pool_size=(maxlen - filter_sizes[0] + 1, 1))(conv_0)\n",
        "maxpool_1 = MaxPool2D(pool_size=(maxlen - filter_sizes[1] + 1, 1))(conv_1)\n",
        "maxpool_2 = MaxPool2D(pool_size=(maxlen - filter_sizes[2] + 1, 1))(conv_2)\n",
        "maxpool_3 = MaxPool2D(pool_size=(maxlen - filter_sizes[3] + 1, 1))(conv_3)\n",
        "    \n",
        "z = concatenate([maxpool_0, maxpool_1, maxpool_2, maxpool_3])\n",
        "z = Flatten()(z)\n",
        "z = Dropout(0.4)(z) \n",
        "    \n",
        "outp = Dense(num_classes, activation=\"softmax\")(z)\n",
        "\n",
        "model = Model(inputs=inp, outputs=outp)\n",
        "model.compile(loss='categorical_crossentropy',\n",
        "              optimizer='adam',\n",
        "              metrics=['acc'])"
      ]
    },
    {
      "cell_type": "code",
      "execution_count": 78,
      "metadata": {
        "colab": {
          "base_uri": "https://localhost:8080/"
        },
        "id": "LmAuneqb8Bid",
        "outputId": "ba3f1416-b415-4ffd-a6d2-3ef47ae2f5c8"
      },
      "outputs": [
        {
          "output_type": "stream",
          "name": "stdout",
          "text": [
            "Epoch 1/100\n",
            "\n",
            " F1 Score - epoch: 1 - score: 0.000000 \n",
            "\n",
            "38/38 - 22s - loss: 2.4918 - acc: 0.1421 - val_loss: 2.3211 - val_acc: 0.3691 - 22s/epoch - 571ms/step\n",
            "Epoch 2/100\n",
            "\n",
            " F1 Score - epoch: 2 - score: 0.288939 \n",
            "\n",
            "38/38 - 20s - loss: 1.8858 - acc: 0.4321 - val_loss: 1.7709 - val_acc: 0.4646 - 20s/epoch - 539ms/step\n",
            "Epoch 3/100\n",
            "\n",
            " F1 Score - epoch: 3 - score: 0.460461 \n",
            "\n",
            "38/38 - 20s - loss: 1.1602 - acc: 0.5825 - val_loss: 1.4122 - val_acc: 0.5383 - 20s/epoch - 539ms/step\n",
            "Epoch 4/100\n",
            "\n",
            " F1 Score - epoch: 4 - score: 0.566908 \n",
            "\n",
            "38/38 - 21s - loss: 0.6701 - acc: 0.7145 - val_loss: 1.2251 - val_acc: 0.5938 - 21s/epoch - 545ms/step\n",
            "Epoch 5/100\n",
            "\n",
            " F1 Score - epoch: 5 - score: 0.635540 \n",
            "\n",
            "38/38 - 21s - loss: 0.3915 - acc: 0.8095 - val_loss: 1.0677 - val_acc: 0.6461 - 21s/epoch - 540ms/step\n",
            "Epoch 6/100\n",
            "\n",
            " F1 Score - epoch: 6 - score: 0.655798 \n",
            "\n",
            "38/38 - 21s - loss: 0.2464 - acc: 0.8822 - val_loss: 1.0456 - val_acc: 0.6523 - 21s/epoch - 542ms/step\n",
            "Epoch 7/100\n",
            "\n",
            " F1 Score - epoch: 7 - score: 0.663837 \n",
            "\n",
            "38/38 - 21s - loss: 0.1623 - acc: 0.9198 - val_loss: 1.0369 - val_acc: 0.6576 - 21s/epoch - 553ms/step\n",
            "Epoch 8/100\n",
            "\n",
            " F1 Score - epoch: 8 - score: 0.662136 \n",
            "\n",
            "38/38 - 21s - loss: 0.1096 - acc: 0.9515 - val_loss: 1.0669 - val_acc: 0.6498 - 21s/epoch - 545ms/step\n",
            "Epoch 9/100\n",
            "\n",
            " F1 Score - epoch: 9 - score: 0.659569 \n",
            "\n",
            "38/38 - 21s - loss: 0.0769 - acc: 0.9692 - val_loss: 1.0758 - val_acc: 0.6593 - 21s/epoch - 543ms/step\n",
            "13/13 [==============================] - 0s 16ms/step - loss: 1.0938 - acc: 0.6555\n",
            "Test Accuracy: 65.552700\n"
          ]
        }
      ],
      "source": [
        "batch_size = 256 #256 = 68\n",
        "epochs = 100\n",
        "\n",
        "X_tra, X_val, y_tra, y_val = train_test_split(x_train, y_train, train_size=0.8,\n",
        "                                              random_state=233)\n",
        "F1_Score = F1Evaluation(validation_data=(X_val, y_val), interval=1)\n",
        "\n",
        "early_stopping = EarlyStopping(monitor='val_loss', patience=2, mode='min')\n",
        "\n",
        "class_weights = compute_class_weight(\n",
        "                                        class_weight = \"balanced\",\n",
        "                                        classes = np.unique(train_y),\n",
        "                                        y = train_y                                                   \n",
        "                                    )\n",
        "class_weights = dict(zip(np.unique(train_y), class_weights))\n",
        "\n",
        "hist = model.fit(X_tra, y_tra, batch_size=batch_size, epochs=epochs,\n",
        "                 validation_data=(X_val, y_val),\n",
        "                 callbacks=[F1_Score, early_stopping], verbose=2, class_weight=class_weights)\n",
        "\n",
        "loss, acc = model.evaluate(x_test, y_test)\n",
        "print('Test Accuracy: %f' % (acc*100))\n",
        "\n",
        "Xtest = x_test\n",
        "ytest = y_test\n",
        "history = hist"
      ]
    },
    {
      "cell_type": "markdown",
      "source": [
        "##CONCATEBL"
      ],
      "metadata": {
        "id": "Uy7wa1JoT8tJ"
      }
    },
    {
      "cell_type": "markdown",
      "metadata": {
        "id": "IV-n-AcpUfVZ"
      },
      "source": [
        "###4CNN1 3DO0.5 3GMP1D CONCATEBL D13 P2 CW: 64"
      ]
    },
    {
      "cell_type": "code",
      "execution_count": 162,
      "metadata": {
        "id": "uw7ivGIIUfVZ"
      },
      "outputs": [],
      "source": [
        "import tensorflow as tf\n",
        "from tensorflow.keras import Input\n",
        "from keras.models import Sequential, Model\n",
        "from tensorflow.keras.callbacks import EarlyStopping\n",
        "from keras.layers.convolutional import Conv1D, MaxPooling1D\n",
        "from keras.layers.pooling import GlobalMaxPooling1D, AveragePooling1D, GlobalAveragePooling1D\n",
        "from keras.layers import Dense, Flatten, Embedding, BatchNormalization, Dropout, LSTM, Bidirectional, TimeDistributed, concatenate"
      ]
    },
    {
      "cell_type": "code",
      "execution_count": 163,
      "metadata": {
        "colab": {
          "base_uri": "https://localhost:8080/"
        },
        "outputId": "c9b58950-4484-40a7-b57b-ece50176bd5e",
        "id": "xihmgp1EUfVa"
      },
      "outputs": [
        {
          "output_type": "stream",
          "name": "stdout",
          "text": [
            "Epoch 1/10\n",
            "76/76 [==============================] - 61s 776ms/step - loss: 2.2999 - acc: 0.2656 - val_loss: 1.8402 - val_acc: 0.4827\n",
            "Epoch 2/10\n",
            "76/76 [==============================] - 58s 768ms/step - loss: 1.0402 - acc: 0.6217 - val_loss: 1.4199 - val_acc: 0.5667\n",
            "Epoch 3/10\n",
            "76/76 [==============================] - 58s 763ms/step - loss: 0.4249 - acc: 0.7991 - val_loss: 1.1910 - val_acc: 0.6292\n",
            "Epoch 4/10\n",
            "76/76 [==============================] - 58s 762ms/step - loss: 0.1795 - acc: 0.9118 - val_loss: 1.1053 - val_acc: 0.6416\n",
            "Epoch 5/10\n",
            "76/76 [==============================] - 57s 746ms/step - loss: 0.0880 - acc: 0.9581 - val_loss: 1.0533 - val_acc: 0.6523\n",
            "Epoch 6/10\n",
            "76/76 [==============================] - 57s 746ms/step - loss: 0.0469 - acc: 0.9824 - val_loss: 1.0498 - val_acc: 0.6564\n",
            "Epoch 7/10\n",
            "76/76 [==============================] - 56s 740ms/step - loss: 0.0284 - acc: 0.9925 - val_loss: 1.0623 - val_acc: 0.6535\n",
            "Epoch 8/10\n",
            "76/76 [==============================] - 57s 752ms/step - loss: 0.0179 - acc: 0.9971 - val_loss: 1.0623 - val_acc: 0.6519\n",
            "13/13 [==============================] - 0s 25ms/step - loss: 1.1508 - acc: 0.6298\n",
            "Test Accuracy: 62.982005\n"
          ]
        }
      ],
      "source": [
        "# create the model\n",
        "model = Sequential()\n",
        "inputs = Input(shape=(max_length,))\n",
        "\n",
        "num_filters = 256\n",
        "# [5,7,9,11] = 64\n",
        "\n",
        "# channel 0\n",
        "embedding0 = Embedding(vocab_size, 1000, trainable=True)(inputs)\n",
        "drop0 = Dropout(0.5)(embedding0)\n",
        "pool0 = GlobalMaxPooling1D()(drop0)\n",
        "# channel 1\n",
        "embedding1 = Embedding(vocab_size, 1000, trainable=True)(inputs)\n",
        "conv1 = Conv1D(num_filters, 2, activation='relu')(embedding1)\n",
        "drop1 = Dropout(0.5)(conv1)\n",
        "pool1 = GlobalMaxPooling1D()(drop1)\n",
        "# channel 2\n",
        "embedding2 = Embedding(vocab_size, 1000, trainable=True)(inputs)\n",
        "conv2 = Conv1D(num_filters, 3, activation='relu')(embedding2)\n",
        "drop2 = Dropout(0.5)(conv2)\n",
        "pool2 = GlobalMaxPooling1D()(drop2)\n",
        "# channel 3\n",
        "embedding3 = Embedding(vocab_size, 1000, trainable=True)(inputs)\n",
        "conv3 = Conv1D(num_filters, 5, activation='relu')(embedding3)\n",
        "drop3 = Dropout(0.5)(conv3)\n",
        "pool3 = GlobalMaxPooling1D()(drop3)\n",
        "# channel 4\n",
        "embedding4 = Embedding(vocab_size, 1000, trainable=True)(inputs)\n",
        "conv4 = Conv1D(num_filters, 10, activation='relu')(embedding4)\n",
        "drop4 = Dropout(0.5)(conv4)\n",
        "pool4 = GlobalMaxPooling1D()(drop4)\n",
        "\n",
        "# merge\n",
        "merged = concatenate([pool1, pool2, pool3, pool4, pool0])\n",
        "\n",
        "# Fully connected \n",
        "outputs = Dense(num_classes, activation='softmax')(merged) #1 Dense better than 2 or three Denses\n",
        "\n",
        "model = Model(inputs=[inputs], outputs=outputs)\n",
        "\n",
        "#put early stopping\n",
        "early_stopping = EarlyStopping(monitor='val_loss', patience=2, mode='min')\n",
        "\n",
        "#Your choices of activation='softmax' in the last layer and compile choice of loss='categorical_crossentropy' \n",
        "#are good for a model to predict multiple mutually-exclusive classes.\n",
        "\n",
        "#Learning Rate = 0.01, acc = 40%\n",
        "\n",
        "model.compile(loss='categorical_crossentropy',\n",
        "              optimizer='adam', \n",
        "              metrics=['acc'],)\n",
        "\n",
        "train_y = [x-1 for x in train['Human_CategoryID'].tolist()]\n",
        "\n",
        "class_weights = compute_class_weight(\n",
        "                                        class_weight = \"balanced\",\n",
        "                                        classes = np.unique(train_y),\n",
        "                                        y = train_y                                                   \n",
        "                                    )\n",
        "class_weights = dict(zip(np.unique(train_y), class_weights))\n",
        "\n",
        "history = model.fit(Xtrain, ytrain, \n",
        "                    epochs=10, batch_size=128, #32, 128 > 8 (worse), 16, 64, 256\n",
        "                    validation_split=0.2,\n",
        "                    callbacks=[early_stopping],\n",
        "                    class_weight=class_weights)\n",
        "\n",
        "loss, acc = model.evaluate(Xtest, ytest)\n",
        "print('Test Accuracy: %f' % (acc*100))"
      ]
    },
    {
      "cell_type": "markdown",
      "metadata": {
        "id": "hHaKIJeKdmRP"
      },
      "source": [
        "###4CNN1,(128,256,512,1024),(5) 3DO0.5 3GMP1D CONCATEBL D13 P2 CW: 63-65"
      ]
    },
    {
      "cell_type": "code",
      "execution_count": 115,
      "metadata": {
        "id": "ues-BOoWdmRR"
      },
      "outputs": [],
      "source": [
        "import tensorflow as tf\n",
        "from tensorflow.keras import Input\n",
        "from keras.models import Sequential, Model\n",
        "from tensorflow.keras.callbacks import EarlyStopping\n",
        "from keras.layers.convolutional import Conv1D, MaxPooling1D\n",
        "from keras.layers.pooling import GlobalMaxPooling1D, AveragePooling1D, GlobalAveragePooling1D\n",
        "from keras.layers import Dense, Flatten, Embedding, BatchNormalization, Dropout, LSTM, Bidirectional, TimeDistributed, concatenate"
      ]
    },
    {
      "cell_type": "code",
      "execution_count": 116,
      "metadata": {
        "colab": {
          "base_uri": "https://localhost:8080/"
        },
        "id": "jqBCOBa5dmRU",
        "outputId": "3f69f72e-1f66-48d6-def1-137df599ac4e"
      },
      "outputs": [
        {
          "output_type": "stream",
          "name": "stdout",
          "text": [
            "Epoch 1/10\n",
            "76/76 [==============================] - 95s 1s/step - loss: 2.2982 - acc: 0.2772 - val_loss: 1.8154 - val_acc: 0.4276\n",
            "Epoch 2/10\n",
            "76/76 [==============================] - 92s 1s/step - loss: 0.8835 - acc: 0.6437 - val_loss: 1.4082 - val_acc: 0.5654\n",
            "Epoch 3/10\n",
            "76/76 [==============================] - 92s 1s/step - loss: 0.3387 - acc: 0.8337 - val_loss: 1.1396 - val_acc: 0.6469\n",
            "Epoch 4/10\n",
            "76/76 [==============================] - 92s 1s/step - loss: 0.1399 - acc: 0.9308 - val_loss: 1.0626 - val_acc: 0.6593\n",
            "Epoch 5/10\n",
            "76/76 [==============================] - 91s 1s/step - loss: 0.0645 - acc: 0.9719 - val_loss: 1.0614 - val_acc: 0.6473\n",
            "Epoch 6/10\n",
            "76/76 [==============================] - 92s 1s/step - loss: 0.0350 - acc: 0.9882 - val_loss: 1.0679 - val_acc: 0.6486\n",
            "Epoch 7/10\n",
            "13/13 [==============================] - 1s 41ms/step - loss: 1.1339 - acc: 0.6530\n",
            "Test Accuracy: 65.295631\n"
          ]
        }
      ],
      "source": [
        "# create the model\n",
        "model = Sequential()\n",
        "inputs = Input(shape=(max_length,))\n",
        "\n",
        "# channel 0\n",
        "embedding0 = Embedding(vocab_size, 1000, trainable=True)(inputs)\n",
        "drop0 = Dropout(0.5)(embedding0)\n",
        "pool0 = GlobalMaxPooling1D()(drop0)\n",
        "# channel 1\n",
        "embedding1 = Embedding(vocab_size, 1000, trainable=True)(inputs)\n",
        "conv1 = Conv1D(128, 5, activation='relu')(embedding1)\n",
        "drop1 = Dropout(0.5)(conv1)\n",
        "pool1 = GlobalMaxPooling1D()(drop1)\n",
        "# channel 2\n",
        "embedding2 = Embedding(vocab_size, 1000, trainable=True)(inputs)\n",
        "conv2 = Conv1D(256, 5, activation='relu')(embedding2)\n",
        "drop2 = Dropout(0.5)(conv2)\n",
        "pool2 = GlobalMaxPooling1D()(drop2)\n",
        "# channel 3\n",
        "embedding3 = Embedding(vocab_size, 1000, trainable=True)(inputs)\n",
        "conv3 = Conv1D(512, 5, activation='relu')(embedding3)\n",
        "drop3 = Dropout(0.5)(conv3)\n",
        "pool3 = GlobalMaxPooling1D()(drop3)\n",
        "# channel 4\n",
        "embedding4 = Embedding(vocab_size, 1000, trainable=True)(inputs)\n",
        "conv4 = Conv1D(1024, 5, activation='relu')(embedding4)\n",
        "drop4 = Dropout(0.5)(conv4)\n",
        "pool4 = GlobalMaxPooling1D()(drop4)\n",
        "\n",
        "# merge\n",
        "merged = concatenate([pool1, pool2, pool3, pool4, pool0])\n",
        "\n",
        "# Fully connected \n",
        "outputs = Dense(num_classes, activation='softmax')(merged) #1 Dense better than 2 or three Denses\n",
        "\n",
        "model = Model(inputs=[inputs], outputs=outputs)\n",
        "\n",
        "#put early stopping\n",
        "early_stopping = EarlyStopping(monitor='val_loss', patience=2, mode='min')\n",
        "\n",
        "#Your choices of activation='softmax' in the last layer and compile choice of loss='categorical_crossentropy' \n",
        "#are good for a model to predict multiple mutually-exclusive classes.\n",
        "\n",
        "#Learning Rate = 0.01, acc = 40%\n",
        "\n",
        "model.compile(loss='categorical_crossentropy',\n",
        "              optimizer='adam', \n",
        "              metrics=['acc'],)\n",
        "\n",
        "train_y = [x-1 for x in train['Human_CategoryID'].tolist()]\n",
        "\n",
        "class_weights = compute_class_weight(\n",
        "                                        class_weight = \"balanced\",\n",
        "                                        classes = np.unique(train_y),\n",
        "                                        y = train_y                                                   \n",
        "                                    )\n",
        "class_weights = dict(zip(np.unique(train_y), class_weights))\n",
        "\n",
        "history = model.fit(Xtrain, ytrain, \n",
        "                    epochs=10, batch_size=128, #32, 128 > 8 (worse), 16, 64, 256\n",
        "                    validation_split=0.2,\n",
        "                    callbacks=[early_stopping],\n",
        "                    class_weight=class_weights)\n",
        "\n",
        "loss, acc = model.evaluate(Xtest, ytest)\n",
        "print('Test Accuracy: %f' % (acc*100))"
      ]
    },
    {
      "cell_type": "code",
      "source": [
        ""
      ],
      "metadata": {
        "id": "Tga4xwhQUfJz"
      },
      "execution_count": 116,
      "outputs": []
    },
    {
      "cell_type": "markdown",
      "metadata": {
        "id": "Xt_EoDlRGCh3"
      },
      "source": [
        "###EBL40000 4CNN2 MP2D F DO0.5 CONCATEBL D13 P2: 65-68 \n",
        "when training in the same dictionary, got better results than without CONCATEBL about 0.05"
      ]
    },
    {
      "cell_type": "code",
      "execution_count": 164,
      "metadata": {
        "id": "nPhQYxoBGCh3"
      },
      "outputs": [],
      "source": [
        "from sklearn.metrics import f1_score\n",
        "from sklearn.model_selection import train_test_split\n",
        "\n",
        "from keras.models import Model\n",
        "\n",
        "from keras.callbacks import Callback, EarlyStopping\n",
        "from keras.preprocessing import text, sequence\n",
        "\n",
        "from keras.layers.pooling import GlobalMaxPooling2D\n",
        "from keras.layers import Input, Embedding, Dense, Conv2D, MaxPool2D, concatenate\n",
        "from keras.layers import Reshape, Flatten, Concatenate, Dropout, SpatialDropout1D"
      ]
    },
    {
      "cell_type": "code",
      "execution_count": 165,
      "metadata": {
        "colab": {
          "base_uri": "https://localhost:8080/",
          "height": 284
        },
        "outputId": "9c5774b5-f53a-4f25-b89d-06c71780337b",
        "id": "qz4WxzgpGCh4"
      },
      "outputs": [
        {
          "output_type": "execute_result",
          "data": {
            "text/plain": [
              "   Unnamed: 0                                       TagFile_Path  \\\n",
              "0           0  SocialFSI_ZE-KTB-Feb-Apr2022_Sampling2244_2022...   \n",
              "\n",
              "                                             TagFile SV_CustomerName  \\\n",
              "0  SocialFSI_ZE-KTB-Feb-Apr2022_Sampling1400_2022...  Krungthai_NEXT   \n",
              "\n",
              "                                        Main keyword      Channel SubChannel  \\\n",
              "0  mobile banking+กสิกร,mobile banking+ธนาคารกสิก...  SocialMedia      forum   \n",
              "\n",
              "                        lfdn verbatim_id   sentence_id  \\\n",
              "0  pantip.com_topic_41249919  Q2207_1549  Q2207_1549_1   \n",
              "\n",
              "                                       Text_original  \\\n",
              "0  สอบถามเรื่องการอายัดบัตรเดบิตของกสิกรค่ะ พอดีว...   \n",
              "\n",
              "                                                Text  \\\n",
              "0  สอบถามเรื่องการอายัดบัตรเดบิตของกสิกรค่ะ พอดีว...   \n",
              "\n",
              "                             Human_Category  Human_CategoryID Human_Sentiment  \\\n",
              "0  Product and Service, Usage and Condition                 8         neutral   \n",
              "\n",
              "  Human_SentimentID                                      Text_ws_local  \n",
              "0                 o  สอบถาม|เรื่อง|การ|อายัด|บัตรเดบิต|ของ|kbank|ค่...  "
            ],
            "text/html": [
              "\n",
              "  <div id=\"df-ee164c1a-9c5a-4eba-b04f-f7748efff817\">\n",
              "    <div class=\"colab-df-container\">\n",
              "      <div>\n",
              "<style scoped>\n",
              "    .dataframe tbody tr th:only-of-type {\n",
              "        vertical-align: middle;\n",
              "    }\n",
              "\n",
              "    .dataframe tbody tr th {\n",
              "        vertical-align: top;\n",
              "    }\n",
              "\n",
              "    .dataframe thead th {\n",
              "        text-align: right;\n",
              "    }\n",
              "</style>\n",
              "<table border=\"1\" class=\"dataframe\">\n",
              "  <thead>\n",
              "    <tr style=\"text-align: right;\">\n",
              "      <th></th>\n",
              "      <th>Unnamed: 0</th>\n",
              "      <th>TagFile_Path</th>\n",
              "      <th>TagFile</th>\n",
              "      <th>SV_CustomerName</th>\n",
              "      <th>Main keyword</th>\n",
              "      <th>Channel</th>\n",
              "      <th>SubChannel</th>\n",
              "      <th>lfdn</th>\n",
              "      <th>verbatim_id</th>\n",
              "      <th>sentence_id</th>\n",
              "      <th>Text_original</th>\n",
              "      <th>Text</th>\n",
              "      <th>Human_Category</th>\n",
              "      <th>Human_CategoryID</th>\n",
              "      <th>Human_Sentiment</th>\n",
              "      <th>Human_SentimentID</th>\n",
              "      <th>Text_ws_local</th>\n",
              "    </tr>\n",
              "  </thead>\n",
              "  <tbody>\n",
              "    <tr>\n",
              "      <th>0</th>\n",
              "      <td>0</td>\n",
              "      <td>SocialFSI_ZE-KTB-Feb-Apr2022_Sampling2244_2022...</td>\n",
              "      <td>SocialFSI_ZE-KTB-Feb-Apr2022_Sampling1400_2022...</td>\n",
              "      <td>Krungthai_NEXT</td>\n",
              "      <td>mobile banking+กสิกร,mobile banking+ธนาคารกสิก...</td>\n",
              "      <td>SocialMedia</td>\n",
              "      <td>forum</td>\n",
              "      <td>pantip.com_topic_41249919</td>\n",
              "      <td>Q2207_1549</td>\n",
              "      <td>Q2207_1549_1</td>\n",
              "      <td>สอบถามเรื่องการอายัดบัตรเดบิตของกสิกรค่ะ พอดีว...</td>\n",
              "      <td>สอบถามเรื่องการอายัดบัตรเดบิตของกสิกรค่ะ พอดีว...</td>\n",
              "      <td>Product and Service, Usage and Condition</td>\n",
              "      <td>8</td>\n",
              "      <td>neutral</td>\n",
              "      <td>o</td>\n",
              "      <td>สอบถาม|เรื่อง|การ|อายัด|บัตรเดบิต|ของ|kbank|ค่...</td>\n",
              "    </tr>\n",
              "  </tbody>\n",
              "</table>\n",
              "</div>\n",
              "      <button class=\"colab-df-convert\" onclick=\"convertToInteractive('df-ee164c1a-9c5a-4eba-b04f-f7748efff817')\"\n",
              "              title=\"Convert this dataframe to an interactive table.\"\n",
              "              style=\"display:none;\">\n",
              "        \n",
              "  <svg xmlns=\"http://www.w3.org/2000/svg\" height=\"24px\"viewBox=\"0 0 24 24\"\n",
              "       width=\"24px\">\n",
              "    <path d=\"M0 0h24v24H0V0z\" fill=\"none\"/>\n",
              "    <path d=\"M18.56 5.44l.94 2.06.94-2.06 2.06-.94-2.06-.94-.94-2.06-.94 2.06-2.06.94zm-11 1L8.5 8.5l.94-2.06 2.06-.94-2.06-.94L8.5 2.5l-.94 2.06-2.06.94zm10 10l.94 2.06.94-2.06 2.06-.94-2.06-.94-.94-2.06-.94 2.06-2.06.94z\"/><path d=\"M17.41 7.96l-1.37-1.37c-.4-.4-.92-.59-1.43-.59-.52 0-1.04.2-1.43.59L10.3 9.45l-7.72 7.72c-.78.78-.78 2.05 0 2.83L4 21.41c.39.39.9.59 1.41.59.51 0 1.02-.2 1.41-.59l7.78-7.78 2.81-2.81c.8-.78.8-2.07 0-2.86zM5.41 20L4 18.59l7.72-7.72 1.47 1.35L5.41 20z\"/>\n",
              "  </svg>\n",
              "      </button>\n",
              "      \n",
              "  <style>\n",
              "    .colab-df-container {\n",
              "      display:flex;\n",
              "      flex-wrap:wrap;\n",
              "      gap: 12px;\n",
              "    }\n",
              "\n",
              "    .colab-df-convert {\n",
              "      background-color: #E8F0FE;\n",
              "      border: none;\n",
              "      border-radius: 50%;\n",
              "      cursor: pointer;\n",
              "      display: none;\n",
              "      fill: #1967D2;\n",
              "      height: 32px;\n",
              "      padding: 0 0 0 0;\n",
              "      width: 32px;\n",
              "    }\n",
              "\n",
              "    .colab-df-convert:hover {\n",
              "      background-color: #E2EBFA;\n",
              "      box-shadow: 0px 1px 2px rgba(60, 64, 67, 0.3), 0px 1px 3px 1px rgba(60, 64, 67, 0.15);\n",
              "      fill: #174EA6;\n",
              "    }\n",
              "\n",
              "    [theme=dark] .colab-df-convert {\n",
              "      background-color: #3B4455;\n",
              "      fill: #D2E3FC;\n",
              "    }\n",
              "\n",
              "    [theme=dark] .colab-df-convert:hover {\n",
              "      background-color: #434B5C;\n",
              "      box-shadow: 0px 1px 3px 1px rgba(0, 0, 0, 0.15);\n",
              "      filter: drop-shadow(0px 1px 2px rgba(0, 0, 0, 0.3));\n",
              "      fill: #FFFFFF;\n",
              "    }\n",
              "  </style>\n",
              "\n",
              "      <script>\n",
              "        const buttonEl =\n",
              "          document.querySelector('#df-ee164c1a-9c5a-4eba-b04f-f7748efff817 button.colab-df-convert');\n",
              "        buttonEl.style.display =\n",
              "          google.colab.kernel.accessAllowed ? 'block' : 'none';\n",
              "\n",
              "        async function convertToInteractive(key) {\n",
              "          const element = document.querySelector('#df-ee164c1a-9c5a-4eba-b04f-f7748efff817');\n",
              "          const dataTable =\n",
              "            await google.colab.kernel.invokeFunction('convertToInteractive',\n",
              "                                                     [key], {});\n",
              "          if (!dataTable) return;\n",
              "\n",
              "          const docLinkHtml = 'Like what you see? Visit the ' +\n",
              "            '<a target=\"_blank\" href=https://colab.research.google.com/notebooks/data_table.ipynb>data table notebook</a>'\n",
              "            + ' to learn more about interactive tables.';\n",
              "          element.innerHTML = '';\n",
              "          dataTable['output_type'] = 'display_data';\n",
              "          await google.colab.output.renderOutput(dataTable, element);\n",
              "          const docLink = document.createElement('div');\n",
              "          docLink.innerHTML = docLinkHtml;\n",
              "          element.appendChild(docLink);\n",
              "        }\n",
              "      </script>\n",
              "    </div>\n",
              "  </div>\n",
              "  "
            ]
          },
          "metadata": {},
          "execution_count": 165
        }
      ],
      "source": [
        "train.head(1)"
      ]
    },
    {
      "cell_type": "code",
      "execution_count": 166,
      "metadata": {
        "id": "rpO6ifZHGCh4"
      },
      "outputs": [],
      "source": [
        "class F1Evaluation(Callback):\n",
        "    def __init__(self, validation_data=(), interval=1):\n",
        "        super(Callback, self).__init__()\n",
        "\n",
        "        self.interval = interval\n",
        "        self.X_val, self.y_val = validation_data\n",
        "\n",
        "    def on_epoch_end(self, epoch, logs={}):\n",
        "        if epoch % self.interval == 0:\n",
        "            y_pred = self.model.predict(self.X_val, verbose=0)\n",
        "            y_pred = (y_pred > threshold).astype(int)\n",
        "            score = f1_score(self.y_val, y_pred, average='weighted', zero_division=0)\n",
        "            print(\"\\n F1 Score - epoch: %d - score: %.6f \\n\" % (epoch+1, score))"
      ]
    },
    {
      "cell_type": "code",
      "execution_count": 167,
      "metadata": {
        "id": "ckPJFtwgGCh4"
      },
      "outputs": [],
      "source": [
        "#turn pandas.core.series.Series into numpy.ndarray\n",
        "X_train = train[\"Text_ws_local\"].fillna(\"fillna\").values\n",
        "y_train = train[\"Human_CategoryID\"].values\n",
        "X_test = test[\"Text_ws_local\"].fillna(\"fillna\").values \n",
        "y_test = test[\"Human_CategoryID\"].values\n",
        "\n",
        "max_features = 40000\n",
        "maxlen = 70\n",
        "embed_size = 400 #ES\n",
        "\n",
        "threshold = 0.35\n",
        "\n",
        "tokenizer = text.Tokenizer(num_words=max_features)\n",
        "tokenizer.fit_on_texts(list(X_train) + list(X_test))\n",
        "X_train = tokenizer.texts_to_sequences(X_train)\n",
        "X_test = tokenizer.texts_to_sequences(X_test)\n",
        "x_train = sequence.pad_sequences(X_train, maxlen=maxlen)\n",
        "x_test = sequence.pad_sequences(X_test, maxlen=maxlen)\n",
        "\n",
        "#multi-class tasks needs one hot for y.\n",
        "y_train = to_categorical(y_train-1, num_classes)\n",
        "y_test = to_categorical(y_test-1, num_classes)\n",
        "\n",
        "train_y = [x-1 for x in train['Human_CategoryID'].tolist()]"
      ]
    },
    {
      "cell_type": "code",
      "execution_count": 168,
      "metadata": {
        "id": "-zoCkbygGCh4"
      },
      "outputs": [],
      "source": [
        "filter_sizes = [5,7,9,11]\n",
        "num_filters = 256 #NF\n",
        "\n",
        "inp = Input(shape=(maxlen, ))\n",
        "x = Embedding(max_features, embed_size, trainable=True)(inp) \n",
        "\n",
        "x = Reshape((maxlen, embed_size, 1))(x)\n",
        "embedding = Reshape((maxlen, embed_size, 1))(x)\n",
        "\n",
        "conv_0 = Conv2D(num_filters, kernel_size=(filter_sizes[0], embed_size),\n",
        "                              kernel_initializer='he_normal', activation='relu')(x)\n",
        "conv_1 = Conv2D(num_filters, kernel_size=(filter_sizes[1], embed_size),\n",
        "                              kernel_initializer='he_normal', activation='relu')(x)\n",
        "conv_2 = Conv2D(num_filters, kernel_size=(filter_sizes[2], embed_size), \n",
        "                              kernel_initializer='he_normal', activation='relu')(x)\n",
        "conv_3 = Conv2D(num_filters, kernel_size=(filter_sizes[3], embed_size),\n",
        "                              kernel_initializer='he_normal', activation='relu')(x)\n",
        "\n",
        "maxpool_a = MaxPool2D(pool_size=(maxlen - filter_sizes[3] + 1, 256))(embedding)\n",
        "maxpool_0 = MaxPool2D(pool_size=(maxlen - filter_sizes[0] + 1, 1))(conv_0)\n",
        "maxpool_1 = MaxPool2D(pool_size=(maxlen - filter_sizes[1] + 1, 1))(conv_1)\n",
        "maxpool_2 = MaxPool2D(pool_size=(maxlen - filter_sizes[2] + 1, 1))(conv_2)\n",
        "maxpool_3 = MaxPool2D(pool_size=(maxlen - filter_sizes[3] + 1, 1))(conv_3)\n",
        "    \n",
        "z = concatenate([maxpool_0, maxpool_1, maxpool_2, maxpool_3, maxpool_a])\n",
        "z = Flatten()(z)\n",
        "z = Dropout(0.4)(z) \n",
        "    \n",
        "outp = Dense(num_classes, activation=\"softmax\")(z)\n",
        "\n",
        "model = Model(inputs=inp, outputs=outp)\n",
        "model.compile(loss='categorical_crossentropy',\n",
        "              optimizer='adam',\n",
        "              metrics=['acc'])"
      ]
    },
    {
      "cell_type": "code",
      "execution_count": 169,
      "metadata": {
        "colab": {
          "base_uri": "https://localhost:8080/"
        },
        "outputId": "edd35b07-ab65-4235-ce88-2fee0f8c9764",
        "id": "idyL80a2GCh5"
      },
      "outputs": [
        {
          "output_type": "stream",
          "name": "stdout",
          "text": [
            "Epoch 1/100\n",
            "\n",
            " F1 Score - epoch: 1 - score: 0.000000 \n",
            "\n",
            "38/38 - 22s - loss: 2.5059 - acc: 0.1565 - val_loss: 2.3323 - val_acc: 0.3428 - 22s/epoch - 590ms/step\n",
            "Epoch 2/100\n",
            "\n",
            " F1 Score - epoch: 2 - score: 0.279602 \n",
            "\n",
            "38/38 - 21s - loss: 1.9089 - acc: 0.4456 - val_loss: 1.7711 - val_acc: 0.4778 - 21s/epoch - 559ms/step\n",
            "Epoch 3/100\n",
            "\n",
            " F1 Score - epoch: 3 - score: 0.479915 \n",
            "\n",
            "38/38 - 21s - loss: 1.1774 - acc: 0.5856 - val_loss: 1.3646 - val_acc: 0.5523 - 21s/epoch - 557ms/step\n",
            "Epoch 4/100\n",
            "\n",
            " F1 Score - epoch: 4 - score: 0.595563 \n",
            "\n",
            "38/38 - 21s - loss: 0.6705 - acc: 0.7179 - val_loss: 1.1746 - val_acc: 0.6156 - 21s/epoch - 562ms/step\n",
            "Epoch 5/100\n",
            "\n",
            " F1 Score - epoch: 5 - score: 0.632745 \n",
            "\n",
            "38/38 - 21s - loss: 0.3890 - acc: 0.8151 - val_loss: 1.0871 - val_acc: 0.6366 - 21s/epoch - 563ms/step\n",
            "Epoch 6/100\n",
            "\n",
            " F1 Score - epoch: 6 - score: 0.653486 \n",
            "\n",
            "38/38 - 21s - loss: 0.2432 - acc: 0.8826 - val_loss: 1.0513 - val_acc: 0.6453 - 21s/epoch - 562ms/step\n",
            "Epoch 7/100\n",
            "\n",
            " F1 Score - epoch: 7 - score: 0.654456 \n",
            "\n",
            "38/38 - 21s - loss: 0.1563 - acc: 0.9247 - val_loss: 1.0434 - val_acc: 0.6572 - 21s/epoch - 560ms/step\n",
            "Epoch 8/100\n",
            "\n",
            " F1 Score - epoch: 8 - score: 0.660076 \n",
            "\n",
            "38/38 - 21s - loss: 0.1076 - acc: 0.9540 - val_loss: 1.0640 - val_acc: 0.6568 - 21s/epoch - 560ms/step\n",
            "13/13 [==============================] - 0s 18ms/step - loss: 1.0721 - acc: 0.6812\n",
            "Test Accuracy: 68.123394\n"
          ]
        }
      ],
      "source": [
        "batch_size = 256 #256 = 67-68, 128 = 66\n",
        "epochs = 100\n",
        "\n",
        "X_tra, X_val, y_tra, y_val = train_test_split(x_train, y_train, train_size=0.8,\n",
        "                                              random_state=233)\n",
        "F1_Score = F1Evaluation(validation_data=(X_val, y_val), interval=1)\n",
        "\n",
        "early_stopping = EarlyStopping(monitor='val_loss', patience=1, mode='min')\n",
        "\n",
        "class_weights = compute_class_weight(\n",
        "                                        class_weight = \"balanced\",\n",
        "                                        classes = np.unique(train_y),\n",
        "                                        y = train_y                                                   \n",
        "                                    )\n",
        "class_weights = dict(zip(np.unique(train_y), class_weights))\n",
        "\n",
        "hist = model.fit(X_tra, y_tra, batch_size=batch_size, epochs=epochs,\n",
        "                 validation_data=(X_val, y_val),\n",
        "                 callbacks=[F1_Score, early_stopping], verbose=2, class_weight=class_weights)\n",
        "\n",
        "loss, acc = model.evaluate(x_test, y_test)\n",
        "print('Test Accuracy: %f' % (acc*100))\n",
        "\n",
        "Xtest = x_test\n",
        "ytest = y_test\n",
        "history = hist"
      ]
    },
    {
      "cell_type": "markdown",
      "metadata": {
        "id": "SbRfLoELzdM1"
      },
      "source": [
        "#Plot Confusion and Classification Report"
      ]
    },
    {
      "cell_type": "code",
      "execution_count": null,
      "metadata": {
        "id": "hlYi95AqParn"
      },
      "outputs": [],
      "source": [
        "#prediction\n",
        "y_pred = model.predict(Xtest)\n",
        "\n",
        "#Change one hot answer to be single digit as follows \n",
        "#https://stackoverflow.com/questions/54589669/confusion-matrix-error-classification-metrics-cant-handle-a-mix-of-multilabel\n",
        "\n",
        "rounded_labels_ypred = np.argmax(y_pred, axis=1)\n",
        "rounded_labels_ytest = np.argmax(ytest,axis=1)"
      ]
    },
    {
      "cell_type": "code",
      "execution_count": null,
      "metadata": {
        "colab": {
          "base_uri": "https://localhost:8080/",
          "height": 1000
        },
        "id": "iMrQHdZlPb44",
        "outputId": "daf0cc00-6988-4dfb-b443-b8d5f48c78f3"
      },
      "outputs": [
        {
          "data": {
            "image/png": "[encoded data removed]",
            "text/plain": [
              "<IPython.core.display.Image object>"
            ]
          },
          "execution_count": 78,
          "metadata": {},
          "output_type": "execute_result"
        }
      ],
      "source": [
        "plot_model(model, to_file='model_plot.png', show_shapes=True, show_layer_names=True)\n",
        "\n",
        "# from google.colab import files\n",
        "# files.download('model_plot.png')"
      ]
    },
    {
      "cell_type": "code",
      "execution_count": null,
      "metadata": {
        "colab": {
          "base_uri": "https://localhost:8080/",
          "height": 282
        },
        "id": "luDmNI6QzdNA",
        "outputId": "3c8dadb9-e87f-4ba3-8d64-05f013577238"
      },
      "outputs": [
        {
          "data": {
            "text/plain": [
              "<matplotlib.axes._subplots.AxesSubplot at 0x7f7cb2296a50>"
            ]
          },
          "execution_count": 79,
          "metadata": {},
          "output_type": "execute_result"
        },
        {
          "data": {
            "image/png": "[encoded data removed]",
            "text/plain": [
              "<Figure size 432x288 with 1 Axes>"
            ]
          },
          "metadata": {},
          "output_type": "display_data"
        }
      ],
      "source": [
        "history_frame = pd.DataFrame(history.history)\n",
        "history_frame.loc[:, ['loss', 'val_loss']].plot()"
      ]
    },
    {
      "cell_type": "code",
      "execution_count": null,
      "metadata": {
        "colab": {
          "base_uri": "https://localhost:8080/",
          "height": 285
        },
        "id": "gzEyQalGb1gY",
        "outputId": "a4e4180b-aa47-4caf-e6fb-d447e1ad6034"
      },
      "outputs": [
        {
          "data": {
            "text/plain": [
              "<matplotlib.axes._subplots.AxesSubplot at 0x7f7d309ef250>"
            ]
          },
          "execution_count": 80,
          "metadata": {},
          "output_type": "execute_result"
        },
        {
          "data": {
            "image/png": "[encoded data removed]",
            "text/plain": [
              "<Figure size 432x288 with 1 Axes>"
            ]
          },
          "metadata": {},
          "output_type": "display_data"
        }
      ],
      "source": [
        "history_frame.loc[:, ['acc', 'val_acc']].plot()"
      ]
    },
    {
      "cell_type": "code",
      "execution_count": null,
      "metadata": {
        "colab": {
          "base_uri": "https://localhost:8080/"
        },
        "id": "mkRNaEHqzdNA",
        "outputId": "f5c1f731-ed9d-49f0-a1d1-187dc0e340b1"
      },
      "outputs": [
        {
          "name": "stdout",
          "output_type": "stream",
          "text": [
            "test_unique_classes\n",
            "12\n"
          ]
        },
        {
          "data": {
            "text/plain": [
              "{0: 'Accessibility',\n",
              " 2: 'Company Brand',\n",
              " 3: 'Staff Quality',\n",
              " 4: 'Timing',\n",
              " 5: 'Product and Service, Benefit',\n",
              " 6: 'Product and Service, System',\n",
              " 7: 'Product and Service, Usage and Condition',\n",
              " 8: 'Product and Service, Convenience',\n",
              " 9: 'Product and Service, Variety',\n",
              " 10: 'Product and Service, Decision',\n",
              " 11: 'Security',\n",
              " 12: 'No Category'}"
            ]
          },
          "execution_count": 81,
          "metadata": {},
          "output_type": "execute_result"
        }
      ],
      "source": [
        "#Find dict of label ids and names.\n",
        "if train['Human_CategoryID'].nunique() < test['Human_CategoryID'].nunique():\n",
        "  print('train_unique_classes')\n",
        "  classes_with_id_dict = {id-1: labels for id, labels in zip(train['Human_CategoryID'], train['Human_Category'])}\n",
        "  print(len(classes_with_id_dict))\n",
        "else:\n",
        "  print('test_unique_classes')\n",
        "  classes_with_id_dict = {id-1: labels for id, labels in zip(test['Human_CategoryID'], test['Human_Category'])}\n",
        "  print(len(classes_with_id_dict))\n",
        "\n",
        "classes_with_id_dict"
      ]
    },
    {
      "cell_type": "code",
      "execution_count": null,
      "metadata": {
        "colab": {
          "base_uri": "https://localhost:8080/"
        },
        "id": "9f07gNQtzdNA",
        "outputId": "d662f691-c725-4c58-f7bb-5c967f2dae9c"
      },
      "outputs": [
        {
          "name": "stdout",
          "output_type": "stream",
          "text": [
            "test_unique_classes\n",
            "12\n"
          ]
        }
      ],
      "source": [
        "#get an labels array in the conseuctive order based on id number.\n",
        "train_unique_classes = train['Human_CategoryID'].nunique()\n",
        "test_unique_classes = test['Human_CategoryID'].nunique()\n",
        "\n",
        "#find the label total\n",
        "if train['Human_CategoryID'].nunique() > test['Human_CategoryID'].nunique():\n",
        "  print('test_unique_classes')\n",
        "  classes_with_id = test_unique_classes\n",
        "else:\n",
        "  print('train_unique_classes')\n",
        "  classes_with_id = train_unique_classes\n",
        "\n",
        "#convert a dict to an array\n",
        "classes_array = [\"\" for x in range(classes_with_id+1)]\n",
        "\n",
        "for id, label in classes_with_id_dict.items():\n",
        "  classes_array[id] = label\n",
        "\n",
        "#delete empty string for classification report\n",
        "classes_array = [label for label in classes_array if label != \"\"]\n",
        "classes_array\n",
        "print(len(classes_array))"
      ]
    },
    {
      "cell_type": "code",
      "execution_count": null,
      "metadata": {
        "colab": {
          "base_uri": "https://localhost:8080/"
        },
        "id": "o-0pRJ0EzdNA",
        "outputId": "c135c4a9-21c5-4c04-8682-7ae93346e317"
      },
      "outputs": [
        {
          "name": "stdout",
          "output_type": "stream",
          "text": [
            "                                          precision    recall  f1-score   support\n",
            "\n",
            "                           Accessibility       0.00      0.00      0.00         7\n",
            "                           Company Brand       0.03      1.00      0.06        12\n",
            "                           Staff Quality       0.00      0.00      0.00        17\n",
            "                                  Timing       0.00      0.00      0.00        28\n",
            "            Product and Service, Benefit       0.00      0.00      0.00        32\n",
            "             Product and Service, System       0.00      0.00      0.00        84\n",
            "Product and Service, Usage and Condition       0.00      0.00      0.00        92\n",
            "        Product and Service, Convenience       0.00      0.00      0.00        11\n",
            "            Product and Service, Variety       0.00      0.00      0.00        12\n",
            "           Product and Service, Decision       0.00      0.00      0.00        10\n",
            "                                Security       0.00      0.00      0.00         3\n",
            "                             No Category       0.00      0.00      0.00        81\n",
            "\n",
            "                                accuracy                           0.03       389\n",
            "                               macro avg       0.00      0.08      0.00       389\n",
            "                            weighted avg       0.00      0.03      0.00       389\n",
            "\n"
          ]
        }
      ],
      "source": [
        "from sklearn.metrics import classification_report\n",
        "\n",
        "print(classification_report(rounded_labels_ytest, rounded_labels_ypred, target_names=classes_array, zero_division=0))"
      ]
    },
    {
      "cell_type": "code",
      "execution_count": null,
      "metadata": {
        "colab": {
          "base_uri": "https://localhost:8080/",
          "height": 863
        },
        "id": "AIjQraqozjG4",
        "outputId": "40d61a4c-1646-4cdf-81b9-9e5f530bf458"
      },
      "outputs": [
        {
          "data": {
            "image/png": "[encoded data removed]",
            "text/plain": [
              "<Figure size 720x720 with 2 Axes>"
            ]
          },
          "metadata": {},
          "output_type": "display_data"
        }
      ],
      "source": [
        "import seaborn as sns\n",
        "from sklearn.metrics import confusion_matrix\n",
        "import matplotlib.pyplot as plt\n",
        "\n",
        "cf_matrix = confusion_matrix(rounded_labels_ytest, rounded_labels_ypred)\n",
        "\n",
        "fig, ax = plt.subplots(figsize=(10,10))    \n",
        "ax = sns.heatmap(cf_matrix, annot=True, cmap='Blues', ax=ax, fmt=\".1f\")\n",
        "\n",
        "ax.set_title('Seaborn Confusion Matrix with labels\\n\\n');\n",
        "ax.set_xlabel('\\nPredicted Category')\n",
        "ax.set_ylabel('Actual Category ');\n",
        "\n",
        "## Ticket labels - List must be in alphabetical order\n",
        "ax.xaxis.set_ticklabels(classes_array, rotation=90)\n",
        "ax.yaxis.set_ticklabels(classes_array, rotation=0)\n",
        "\n",
        "## Display the visualization of the Confusion Matrix.\n",
        "plt.show()\n",
        "\n",
        "figure = ax.get_figure()    \n",
        "figure.savefig(\"cf_matrix.png\", pad_inches= 12, dpi=400)"
      ]
    },
    {
      "cell_type": "markdown",
      "metadata": {
        "id": "lYG5bfsMPkJR"
      },
      "source": [
        "#Post Analysis"
      ]
    },
    {
      "cell_type": "code",
      "execution_count": null,
      "metadata": {
        "id": "cBeYluI_PpLu"
      },
      "outputs": [],
      "source": [
        "!pip install lime\n",
        "!pip install eli5"
      ]
    },
    {
      "cell_type": "code",
      "execution_count": null,
      "metadata": {
        "id": "ZQ9LrOl3PmOe"
      },
      "outputs": [],
      "source": [
        "import eli5\n",
        "from eli5.lime import TextExplainer"
      ]
    },
    {
      "cell_type": "markdown",
      "metadata": {
        "id": "u4ll4vrC4CFi"
      },
      "source": [
        "#Get configs"
      ]
    },
    {
      "cell_type": "code",
      "execution_count": null,
      "metadata": {
        "colab": {
          "base_uri": "https://localhost:8080/"
        },
        "id": "105LY0Kbzmac",
        "outputId": "72e26cb3-73e9-4de6-95cb-155361981a1e"
      },
      "outputs": [
        {
          "data": {
            "text/plain": [
              "{'input_layers': [['input_1', 0, 0]],\n",
              " 'layers': [{'class_name': 'InputLayer',\n",
              "   'config': {'batch_input_shape': (None, 70),\n",
              "    'dtype': 'float32',\n",
              "    'name': 'input_1',\n",
              "    'ragged': False,\n",
              "    'sparse': False},\n",
              "   'inbound_nodes': [],\n",
              "   'name': 'input_1'},\n",
              "  {'class_name': 'Embedding',\n",
              "   'config': {'activity_regularizer': None,\n",
              "    'batch_input_shape': (None, None),\n",
              "    'dtype': 'float32',\n",
              "    'embeddings_constraint': None,\n",
              "    'embeddings_initializer': {'class_name': 'RandomUniform',\n",
              "     'config': {'maxval': 0.05, 'minval': -0.05, 'seed': None}},\n",
              "    'embeddings_regularizer': None,\n",
              "    'input_dim': 40000,\n",
              "    'input_length': None,\n",
              "    'mask_zero': True,\n",
              "    'name': 'embedding',\n",
              "    'output_dim': 400,\n",
              "    'trainable': True},\n",
              "   'inbound_nodes': [[['input_1', 0, 0, {}]]],\n",
              "   'name': 'embedding'},\n",
              "  {'class_name': 'Reshape',\n",
              "   'config': {'dtype': 'float32',\n",
              "    'name': 'reshape',\n",
              "    'target_shape': (70, 400, 1),\n",
              "    'trainable': True},\n",
              "   'inbound_nodes': [[['embedding', 0, 0, {}]]],\n",
              "   'name': 'reshape'},\n",
              "  {'class_name': 'Conv2D',\n",
              "   'config': {'activation': 'relu',\n",
              "    'activity_regularizer': None,\n",
              "    'bias_constraint': None,\n",
              "    'bias_initializer': {'class_name': 'Zeros', 'config': {}},\n",
              "    'bias_regularizer': None,\n",
              "    'data_format': 'channels_last',\n",
              "    'dilation_rate': (1, 1),\n",
              "    'dtype': 'float32',\n",
              "    'filters': 256,\n",
              "    'groups': 1,\n",
              "    'kernel_constraint': None,\n",
              "    'kernel_initializer': {'class_name': 'HeNormal', 'config': {'seed': None}},\n",
              "    'kernel_regularizer': None,\n",
              "    'kernel_size': (5, 400),\n",
              "    'name': 'conv2d',\n",
              "    'padding': 'valid',\n",
              "    'strides': (1, 1),\n",
              "    'trainable': True,\n",
              "    'use_bias': True},\n",
              "   'inbound_nodes': [[['reshape', 0, 0, {}]]],\n",
              "   'name': 'conv2d'},\n",
              "  {'class_name': 'Conv2D',\n",
              "   'config': {'activation': 'relu',\n",
              "    'activity_regularizer': None,\n",
              "    'bias_constraint': None,\n",
              "    'bias_initializer': {'class_name': 'Zeros', 'config': {}},\n",
              "    'bias_regularizer': None,\n",
              "    'data_format': 'channels_last',\n",
              "    'dilation_rate': (1, 1),\n",
              "    'dtype': 'float32',\n",
              "    'filters': 256,\n",
              "    'groups': 1,\n",
              "    'kernel_constraint': None,\n",
              "    'kernel_initializer': {'class_name': 'HeNormal', 'config': {'seed': None}},\n",
              "    'kernel_regularizer': None,\n",
              "    'kernel_size': (7, 400),\n",
              "    'name': 'conv2d_1',\n",
              "    'padding': 'valid',\n",
              "    'strides': (1, 1),\n",
              "    'trainable': True,\n",
              "    'use_bias': True},\n",
              "   'inbound_nodes': [[['reshape', 0, 0, {}]]],\n",
              "   'name': 'conv2d_1'},\n",
              "  {'class_name': 'Conv2D',\n",
              "   'config': {'activation': 'relu',\n",
              "    'activity_regularizer': None,\n",
              "    'bias_constraint': None,\n",
              "    'bias_initializer': {'class_name': 'Zeros', 'config': {}},\n",
              "    'bias_regularizer': None,\n",
              "    'data_format': 'channels_last',\n",
              "    'dilation_rate': (1, 1),\n",
              "    'dtype': 'float32',\n",
              "    'filters': 256,\n",
              "    'groups': 1,\n",
              "    'kernel_constraint': None,\n",
              "    'kernel_initializer': {'class_name': 'HeNormal', 'config': {'seed': None}},\n",
              "    'kernel_regularizer': None,\n",
              "    'kernel_size': (9, 400),\n",
              "    'name': 'conv2d_2',\n",
              "    'padding': 'valid',\n",
              "    'strides': (1, 1),\n",
              "    'trainable': True,\n",
              "    'use_bias': True},\n",
              "   'inbound_nodes': [[['reshape', 0, 0, {}]]],\n",
              "   'name': 'conv2d_2'},\n",
              "  {'class_name': 'Conv2D',\n",
              "   'config': {'activation': 'relu',\n",
              "    'activity_regularizer': None,\n",
              "    'bias_constraint': None,\n",
              "    'bias_initializer': {'class_name': 'Zeros', 'config': {}},\n",
              "    'bias_regularizer': None,\n",
              "    'data_format': 'channels_last',\n",
              "    'dilation_rate': (1, 1),\n",
              "    'dtype': 'float32',\n",
              "    'filters': 256,\n",
              "    'groups': 1,\n",
              "    'kernel_constraint': None,\n",
              "    'kernel_initializer': {'class_name': 'HeNormal', 'config': {'seed': None}},\n",
              "    'kernel_regularizer': None,\n",
              "    'kernel_size': (11, 400),\n",
              "    'name': 'conv2d_3',\n",
              "    'padding': 'valid',\n",
              "    'strides': (1, 1),\n",
              "    'trainable': True,\n",
              "    'use_bias': True},\n",
              "   'inbound_nodes': [[['reshape', 0, 0, {}]]],\n",
              "   'name': 'conv2d_3'},\n",
              "  {'class_name': 'MaxPooling2D',\n",
              "   'config': {'data_format': 'channels_last',\n",
              "    'dtype': 'float32',\n",
              "    'name': 'max_pooling2d',\n",
              "    'padding': 'valid',\n",
              "    'pool_size': (66, 1),\n",
              "    'strides': (66, 1),\n",
              "    'trainable': True},\n",
              "   'inbound_nodes': [[['conv2d', 0, 0, {}]]],\n",
              "   'name': 'max_pooling2d'},\n",
              "  {'class_name': 'MaxPooling2D',\n",
              "   'config': {'data_format': 'channels_last',\n",
              "    'dtype': 'float32',\n",
              "    'name': 'max_pooling2d_1',\n",
              "    'padding': 'valid',\n",
              "    'pool_size': (64, 1),\n",
              "    'strides': (64, 1),\n",
              "    'trainable': True},\n",
              "   'inbound_nodes': [[['conv2d_1', 0, 0, {}]]],\n",
              "   'name': 'max_pooling2d_1'},\n",
              "  {'class_name': 'MaxPooling2D',\n",
              "   'config': {'data_format': 'channels_last',\n",
              "    'dtype': 'float32',\n",
              "    'name': 'max_pooling2d_2',\n",
              "    'padding': 'valid',\n",
              "    'pool_size': (62, 1),\n",
              "    'strides': (62, 1),\n",
              "    'trainable': True},\n",
              "   'inbound_nodes': [[['conv2d_2', 0, 0, {}]]],\n",
              "   'name': 'max_pooling2d_2'},\n",
              "  {'class_name': 'MaxPooling2D',\n",
              "   'config': {'data_format': 'channels_last',\n",
              "    'dtype': 'float32',\n",
              "    'name': 'max_pooling2d_3',\n",
              "    'padding': 'valid',\n",
              "    'pool_size': (60, 1),\n",
              "    'strides': (60, 1),\n",
              "    'trainable': True},\n",
              "   'inbound_nodes': [[['conv2d_3', 0, 0, {}]]],\n",
              "   'name': 'max_pooling2d_3'},\n",
              "  {'class_name': 'Concatenate',\n",
              "   'config': {'axis': -1,\n",
              "    'dtype': 'float32',\n",
              "    'name': 'concatenate',\n",
              "    'trainable': True},\n",
              "   'inbound_nodes': [[['max_pooling2d', 0, 0, {}],\n",
              "     ['max_pooling2d_1', 0, 0, {}],\n",
              "     ['max_pooling2d_2', 0, 0, {}],\n",
              "     ['max_pooling2d_3', 0, 0, {}]]],\n",
              "   'name': 'concatenate'},\n",
              "  {'class_name': 'Flatten',\n",
              "   'config': {'data_format': 'channels_last',\n",
              "    'dtype': 'float32',\n",
              "    'name': 'flatten',\n",
              "    'trainable': True},\n",
              "   'inbound_nodes': [[['concatenate', 0, 0, {}]]],\n",
              "   'name': 'flatten'},\n",
              "  {'class_name': 'Dropout',\n",
              "   'config': {'dtype': 'float32',\n",
              "    'name': 'dropout',\n",
              "    'noise_shape': None,\n",
              "    'rate': 0.5,\n",
              "    'seed': None,\n",
              "    'trainable': True},\n",
              "   'inbound_nodes': [[['flatten', 0, 0, {}]]],\n",
              "   'name': 'dropout'},\n",
              "  {'class_name': 'Dense',\n",
              "   'config': {'activation': 'softmax',\n",
              "    'activity_regularizer': None,\n",
              "    'bias_constraint': None,\n",
              "    'bias_initializer': {'class_name': 'Zeros', 'config': {}},\n",
              "    'bias_regularizer': None,\n",
              "    'dtype': 'float32',\n",
              "    'kernel_constraint': None,\n",
              "    'kernel_initializer': {'class_name': 'GlorotUniform',\n",
              "     'config': {'seed': None}},\n",
              "    'kernel_regularizer': None,\n",
              "    'name': 'dense',\n",
              "    'trainable': True,\n",
              "    'units': 13,\n",
              "    'use_bias': True},\n",
              "   'inbound_nodes': [[['dropout', 0, 0, {}]]],\n",
              "   'name': 'dense'}],\n",
              " 'name': 'model',\n",
              " 'output_layers': [['dense', 0, 0]]}"
            ]
          },
          "execution_count": 32,
          "metadata": {},
          "output_type": "execute_result"
        }
      ],
      "source": [
        "model.get_config()"
      ]
    },
    {
      "cell_type": "code",
      "execution_count": null,
      "metadata": {
        "colab": {
          "base_uri": "https://localhost:8080/",
          "height": 36
        },
        "id": "lMMDkS384PkP",
        "outputId": "7092c7c6-b8e0-4bd6-e5ee-5b34b9b73711"
      },
      "outputs": [
        {
          "data": {
            "application/vnd.google.colaboratory.intrinsic+json": {
              "type": "string"
            },
            "text/plain": [
              "'categorical_crossentropy'"
            ]
          },
          "execution_count": 33,
          "metadata": {},
          "output_type": "execute_result"
        }
      ],
      "source": [
        "model.loss"
      ]
    },
    {
      "cell_type": "code",
      "execution_count": null,
      "metadata": {
        "colab": {
          "base_uri": "https://localhost:8080/"
        },
        "id": "JFOk2Zz_4aBw",
        "outputId": "0fe23dd7-fd78-44b5-d9eb-37aee86fd3e0"
      },
      "outputs": [
        {
          "data": {
            "text/plain": [
              "{'amsgrad': False,\n",
              " 'beta_1': 0.9,\n",
              " 'beta_2': 0.999,\n",
              " 'decay': 0.0,\n",
              " 'epsilon': 1e-07,\n",
              " 'learning_rate': 0.001,\n",
              " 'name': 'Adam'}"
            ]
          },
          "execution_count": 34,
          "metadata": {},
          "output_type": "execute_result"
        }
      ],
      "source": [
        "model.optimizer.get_config()"
      ]
    },
    {
      "cell_type": "code",
      "execution_count": null,
      "metadata": {
        "colab": {
          "base_uri": "https://localhost:8080/"
        },
        "id": "SF7AgsdN4VpF",
        "outputId": "f64b13e5-5875-47dd-ddca-3a9b9a9b4f03"
      },
      "outputs": [
        {
          "data": {
            "text/plain": [
              "{'epochs': 1, 'steps': 13, 'verbose': 0}"
            ]
          },
          "execution_count": 35,
          "metadata": {},
          "output_type": "execute_result"
        }
      ],
      "source": [
        "model.history.params"
      ]
    }
  ],
  "metadata": {
    "accelerator": "TPU",
    "colab": {
      "collapsed_sections": [
        "3hRruw5Ph59Y",
        "WbZ5MsM0iCNr",
        "AIM8bUOW_ZUl",
        "jv8cYo17warb",
        "075FUvtRq-SQ",
        "lYG5bfsMPkJR"
      ],
      "machine_shape": "hm",
      "name": "[classify]  TH_EBL_CNN_or_LSTM.ipynb",
      "toc_visible": true,
      "provenance": [],
      "authorship_tag": "ABX9TyP4LMBGPRfy9LDVl7Tr9lcG",
      "include_colab_link": true
    },
    "gpuClass": "standard",
    "kernelspec": {
      "display_name": "Python 3",
      "name": "python3"
    },
    "language_info": {
      "name": "python"
    }
  },
  "nbformat": 4,
  "nbformat_minor": 0
}