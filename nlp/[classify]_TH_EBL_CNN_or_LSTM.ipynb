{
  "nbformat": 4,
  "nbformat_minor": 0,
  "metadata": {
    "colab": {
      "name": "[classify] _TH_EBL_CNN_or_LSTM.ipynb",
      "provenance": [],
      "collapsed_sections": [],
      "machine_shape": "hm",
      "toc_visible": true,
      "authorship_tag": "ABX9TyP4Vfn41o0ODeKK0jw0QhHR",
      "include_colab_link": true
    },
    "kernelspec": {
      "name": "python3",
      "display_name": "Python 3"
    },
    "language_info": {
      "name": "python"
    },
    "gpuClass": "standard",
    "accelerator": "TPU"
  },
  "cells": [
    {
      "cell_type": "markdown",
      "metadata": {
        "id": "view-in-github",
        "colab_type": "text"
      },
      "source": [
        "<a href=\"https://colab.research.google.com/github/setthawut8/ai/blob/main/nlp/%5Bclassify%5D_TH_EBL_CNN_or_LSTM.ipynb\" target=\"_parent\"><img src=\"https://colab.research.google.com/assets/colab-badge.svg\" alt=\"Open In Colab\"/></a>"
      ]
    },
    {
      "cell_type": "markdown",
      "source": [
        "#Download Data and Library Installation"
      ],
      "metadata": {
        "id": "DKZejA_uh9kv"
      }
    },
    {
      "cell_type": "code",
      "execution_count": 1,
      "metadata": {
        "colab": {
          "base_uri": "https://localhost:8080/"
        },
        "id": "rY0gVkg8ahbS",
        "outputId": "e72867d1-95ad-409b-ef19-9b0c988813f7"
      },
      "outputs": [
        {
          "output_type": "stream",
          "name": "stdout",
          "text": [
            "/usr/local/lib/python3.7/dist-packages/gdown/cli.py:131: FutureWarning: Option `--id` was deprecated in version 4.3.1 and will be removed in 5.0. You don't need to pass it anymore to use a file ID.\n",
            "  category=FutureWarning,\n",
            "Downloading...\n",
            "From: https://drive.google.com/uc?id=1-avUDygRCGvAiPplmc6MundS_PpnohRv\n",
            "To: /content/preprocessed_v1_socialfsi_single_train_sampling12150_20220701.xlsx\n",
            "100% 3.87M/3.87M [00:00<00:00, 266MB/s]\n",
            "/usr/local/lib/python3.7/dist-packages/gdown/cli.py:131: FutureWarning: Option `--id` was deprecated in version 4.3.1 and will be removed in 5.0. You don't need to pass it anymore to use a file ID.\n",
            "  category=FutureWarning,\n",
            "Downloading...\n",
            "From: https://drive.google.com/uc?id=106OVRPIQQBppganRnCZigxQh6-Zyvqit\n",
            "To: /content/preprocessed_v1_socialfsi_single_test_sampling389_20220701.xlsx\n",
            "100% 141k/141k [00:00<00:00, 81.2MB/s]\n"
          ]
        }
      ],
      "source": [
        "#download data\n",
        "!gdown --id 1-avUDygRCGvAiPplmc6MundS_PpnohRv\n",
        "!gdown --id 106OVRPIQQBppganRnCZigxQh6-Zyvqit"
      ]
    },
    {
      "cell_type": "code",
      "source": [
        "#libraby \n",
        "import numpy as np\n",
        "import pandas as pd\n",
        "import seaborn as sns\n",
        "import matplotlib.pyplot as plt\n",
        "\n",
        "from sklearn.utils.class_weight import compute_class_weight\n",
        "from tensorflow.keras.utils import plot_model"
      ],
      "metadata": {
        "id": "cgMb7j8pbNQj"
      },
      "execution_count": 67,
      "outputs": []
    },
    {
      "cell_type": "code",
      "source": [
        "train = pd.read_excel('/content/preprocessed_v1_socialfsi_single_train_sampling12150_20220701.xlsx')\n",
        "test = pd.read_excel('/content/preprocessed_v1_socialfsi_single_test_sampling389_20220701.xlsx')"
      ],
      "metadata": {
        "id": "ITJldeRSbbc6"
      },
      "execution_count": 3,
      "outputs": []
    },
    {
      "cell_type": "code",
      "source": [
        "train.head(5)"
      ],
      "metadata": {
        "colab": {
          "base_uri": "https://localhost:8080/",
          "height": 565
        },
        "id": "sMuRAAX0b2mv",
        "outputId": "5ba95701-2c4c-41ea-e564-0d9319ed9033"
      },
      "execution_count": 4,
      "outputs": [
        {
          "output_type": "execute_result",
          "data": {
            "text/plain": [
              "   Unnamed: 0                                       TagFile_Path  \\\n",
              "0           0  SocialFSI_ZE-KTB-Feb-Apr2022_Sampling2244_2022...   \n",
              "1           1  SocialFSI_v4_0_mutiple_train_sampling8203_2021...   \n",
              "2           2  SocialFSI_ZE-KTB-Feb-Apr2022_Sampling2244_2022...   \n",
              "3           3  SocialFSI_v4_0_mutiple_train_sampling8203_2021...   \n",
              "4           4  SocialFSI_v4_0_mutiple_train_sampling8203_2021...   \n",
              "\n",
              "                                             TagFile SV_CustomerName  \\\n",
              "0  SocialFSI_ZE-KTB-Feb-Apr2022_Sampling1400_2022...  Krungthai_NEXT   \n",
              "1  SocialFSI_TrainDataV4_RetagCLS-12_Sampling53_P...             NaN   \n",
              "2  SocialFSI_ZE-KTB-Feb-Apr2022_Sampling1200_2022...  Krungthai_NEXT   \n",
              "3  SocialFSI_TrainSCB-SocialFilterV2_Sampling2750...             NaN   \n",
              "4  SocialFSI_TrainSCB-SocialFilterV2_Sampling2750...             NaN   \n",
              "\n",
              "                                        Main keyword      Channel SubChannel  \\\n",
              "0  mobile banking+กสิกร,mobile banking+ธนาคารกสิก...  SocialMedia      forum   \n",
              "1                                                NaN  SocialMedia    Twitter   \n",
              "2                                          krungthai  SocialMedia   facebook   \n",
              "3                                                NaN  SocialMedia    Twitter   \n",
              "4                                                NaN  SocialMedia    Twitter   \n",
              "\n",
              "                                 lfdn   verbatim_id     sentence_id  \\\n",
              "0           pantip.com_topic_41249919    Q2207_1549    Q2207_1549_1   \n",
              "1            5fffc6bcb08b583a24679d59  Q202106_5805  Q202106_5805_1   \n",
              "2  10161808181448916_1330115550790924     Q2207_636     Q2207_636_1   \n",
              "3                            27634345   Q202106_961   Q202106_961_1   \n",
              "4                            28297653  Q202106_2021  Q202106_2021_1   \n",
              "\n",
              "                                       Text_original  \\\n",
              "0  สอบถามเรื่องการอายัดบัตรเดบิตของกสิกรค่ะ พอดีว...   \n",
              "1  ปกติจะไม่ชอบlog in ใดๆในคอมคนอื่นหรือสำนักงานใ...   \n",
              "2  Krungthai Care ณ. ตอนนี้ยอดก็ยังไม่เข้าค่ะ ถ้า...   \n",
              "3  @scb_thailand เรียน scb ขอเบอร?ตืดต่อเพราะคุย ...   \n",
              "4  ไอเลิ้บ TMB All Free มาก แต่ช่วยพัฒนาแอพให้สเถ...   \n",
              "\n",
              "                                                Text  \\\n",
              "0  สอบถามเรื่องการอายัดบัตรเดบิตของกสิกรค่ะ พอดีว...   \n",
              "1  ปกติจะไม่ชอบlog in ใดๆในคอมคนอื่นหรือสำนักงานใ...   \n",
              "2  Krungthai Care ณ. ตอนนี้ยอดก็ยังไม่เข้าค่ะ ถ้า...   \n",
              "3  @scb_thailand เรียน scb ขอเบอร?ตืดต่อเพราะคุย ...   \n",
              "4                          ไอเลิ้บ TMB All Free มาก    \n",
              "\n",
              "                             Human_Category  Human_CategoryID Human_Sentiment  \\\n",
              "0  Product and Service, Usage and Condition                 8         neutral   \n",
              "1                                  Security                12         neutral   \n",
              "2               Product and Service, System                 7        negative   \n",
              "3                             Staff Quality                 4        negative   \n",
              "4  Product and Service, Usage and Condition                 8        positive   \n",
              "\n",
              "  Human_SentimentID                                      Text_ws_local  \n",
              "0                 o  สอบถาม|เรื่อง|การ|อายัด|บัตรเดบิต|ของ|kbank|ค่...  \n",
              "1                 o  ปกติ|จะ|ไม่ชอบ| |log| |in| |ใดๆ| |ใน|ค|อม|คนอื...  \n",
              "2                 n  ktb| |care| |ณ|.| |ตอนนี้|ยอด|ก็|ยัง|ไม่|เข้า|...  \n",
              "3                 n  scb_thailand| |เรียน| |scb| |ขอ|เบอร| |ตืด|ต่อ...  \n",
              "4                 p                    ไอ|เลิ้บ| |tmb_all_free| |มาก|   "
            ],
            "text/html": [
              "\n",
              "  <div id=\"df-20fbf217-26b8-4911-b947-9bcd760d49ce\">\n",
              "    <div class=\"colab-df-container\">\n",
              "      <div>\n",
              "<style scoped>\n",
              "    .dataframe tbody tr th:only-of-type {\n",
              "        vertical-align: middle;\n",
              "    }\n",
              "\n",
              "    .dataframe tbody tr th {\n",
              "        vertical-align: top;\n",
              "    }\n",
              "\n",
              "    .dataframe thead th {\n",
              "        text-align: right;\n",
              "    }\n",
              "</style>\n",
              "<table border=\"1\" class=\"dataframe\">\n",
              "  <thead>\n",
              "    <tr style=\"text-align: right;\">\n",
              "      <th></th>\n",
              "      <th>Unnamed: 0</th>\n",
              "      <th>TagFile_Path</th>\n",
              "      <th>TagFile</th>\n",
              "      <th>SV_CustomerName</th>\n",
              "      <th>Main keyword</th>\n",
              "      <th>Channel</th>\n",
              "      <th>SubChannel</th>\n",
              "      <th>lfdn</th>\n",
              "      <th>verbatim_id</th>\n",
              "      <th>sentence_id</th>\n",
              "      <th>Text_original</th>\n",
              "      <th>Text</th>\n",
              "      <th>Human_Category</th>\n",
              "      <th>Human_CategoryID</th>\n",
              "      <th>Human_Sentiment</th>\n",
              "      <th>Human_SentimentID</th>\n",
              "      <th>Text_ws_local</th>\n",
              "    </tr>\n",
              "  </thead>\n",
              "  <tbody>\n",
              "    <tr>\n",
              "      <th>0</th>\n",
              "      <td>0</td>\n",
              "      <td>SocialFSI_ZE-KTB-Feb-Apr2022_Sampling2244_2022...</td>\n",
              "      <td>SocialFSI_ZE-KTB-Feb-Apr2022_Sampling1400_2022...</td>\n",
              "      <td>Krungthai_NEXT</td>\n",
              "      <td>mobile banking+กสิกร,mobile banking+ธนาคารกสิก...</td>\n",
              "      <td>SocialMedia</td>\n",
              "      <td>forum</td>\n",
              "      <td>pantip.com_topic_41249919</td>\n",
              "      <td>Q2207_1549</td>\n",
              "      <td>Q2207_1549_1</td>\n",
              "      <td>สอบถามเรื่องการอายัดบัตรเดบิตของกสิกรค่ะ พอดีว...</td>\n",
              "      <td>สอบถามเรื่องการอายัดบัตรเดบิตของกสิกรค่ะ พอดีว...</td>\n",
              "      <td>Product and Service, Usage and Condition</td>\n",
              "      <td>8</td>\n",
              "      <td>neutral</td>\n",
              "      <td>o</td>\n",
              "      <td>สอบถาม|เรื่อง|การ|อายัด|บัตรเดบิต|ของ|kbank|ค่...</td>\n",
              "    </tr>\n",
              "    <tr>\n",
              "      <th>1</th>\n",
              "      <td>1</td>\n",
              "      <td>SocialFSI_v4_0_mutiple_train_sampling8203_2021...</td>\n",
              "      <td>SocialFSI_TrainDataV4_RetagCLS-12_Sampling53_P...</td>\n",
              "      <td>NaN</td>\n",
              "      <td>NaN</td>\n",
              "      <td>SocialMedia</td>\n",
              "      <td>Twitter</td>\n",
              "      <td>5fffc6bcb08b583a24679d59</td>\n",
              "      <td>Q202106_5805</td>\n",
              "      <td>Q202106_5805_1</td>\n",
              "      <td>ปกติจะไม่ชอบlog in ใดๆในคอมคนอื่นหรือสำนักงานใ...</td>\n",
              "      <td>ปกติจะไม่ชอบlog in ใดๆในคอมคนอื่นหรือสำนักงานใ...</td>\n",
              "      <td>Security</td>\n",
              "      <td>12</td>\n",
              "      <td>neutral</td>\n",
              "      <td>o</td>\n",
              "      <td>ปกติ|จะ|ไม่ชอบ| |log| |in| |ใดๆ| |ใน|ค|อม|คนอื...</td>\n",
              "    </tr>\n",
              "    <tr>\n",
              "      <th>2</th>\n",
              "      <td>2</td>\n",
              "      <td>SocialFSI_ZE-KTB-Feb-Apr2022_Sampling2244_2022...</td>\n",
              "      <td>SocialFSI_ZE-KTB-Feb-Apr2022_Sampling1200_2022...</td>\n",
              "      <td>Krungthai_NEXT</td>\n",
              "      <td>krungthai</td>\n",
              "      <td>SocialMedia</td>\n",
              "      <td>facebook</td>\n",
              "      <td>10161808181448916_1330115550790924</td>\n",
              "      <td>Q2207_636</td>\n",
              "      <td>Q2207_636_1</td>\n",
              "      <td>Krungthai Care ณ. ตอนนี้ยอดก็ยังไม่เข้าค่ะ ถ้า...</td>\n",
              "      <td>Krungthai Care ณ. ตอนนี้ยอดก็ยังไม่เข้าค่ะ ถ้า...</td>\n",
              "      <td>Product and Service, System</td>\n",
              "      <td>7</td>\n",
              "      <td>negative</td>\n",
              "      <td>n</td>\n",
              "      <td>ktb| |care| |ณ|.| |ตอนนี้|ยอด|ก็|ยัง|ไม่|เข้า|...</td>\n",
              "    </tr>\n",
              "    <tr>\n",
              "      <th>3</th>\n",
              "      <td>3</td>\n",
              "      <td>SocialFSI_v4_0_mutiple_train_sampling8203_2021...</td>\n",
              "      <td>SocialFSI_TrainSCB-SocialFilterV2_Sampling2750...</td>\n",
              "      <td>NaN</td>\n",
              "      <td>NaN</td>\n",
              "      <td>SocialMedia</td>\n",
              "      <td>Twitter</td>\n",
              "      <td>27634345</td>\n",
              "      <td>Q202106_961</td>\n",
              "      <td>Q202106_961_1</td>\n",
              "      <td>@scb_thailand เรียน scb ขอเบอร?ตืดต่อเพราะคุย ...</td>\n",
              "      <td>@scb_thailand เรียน scb ขอเบอร?ตืดต่อเพราะคุย ...</td>\n",
              "      <td>Staff Quality</td>\n",
              "      <td>4</td>\n",
              "      <td>negative</td>\n",
              "      <td>n</td>\n",
              "      <td>scb_thailand| |เรียน| |scb| |ขอ|เบอร| |ตืด|ต่อ...</td>\n",
              "    </tr>\n",
              "    <tr>\n",
              "      <th>4</th>\n",
              "      <td>4</td>\n",
              "      <td>SocialFSI_v4_0_mutiple_train_sampling8203_2021...</td>\n",
              "      <td>SocialFSI_TrainSCB-SocialFilterV2_Sampling2750...</td>\n",
              "      <td>NaN</td>\n",
              "      <td>NaN</td>\n",
              "      <td>SocialMedia</td>\n",
              "      <td>Twitter</td>\n",
              "      <td>28297653</td>\n",
              "      <td>Q202106_2021</td>\n",
              "      <td>Q202106_2021_1</td>\n",
              "      <td>ไอเลิ้บ TMB All Free มาก แต่ช่วยพัฒนาแอพให้สเถ...</td>\n",
              "      <td>ไอเลิ้บ TMB All Free มาก</td>\n",
              "      <td>Product and Service, Usage and Condition</td>\n",
              "      <td>8</td>\n",
              "      <td>positive</td>\n",
              "      <td>p</td>\n",
              "      <td>ไอ|เลิ้บ| |tmb_all_free| |มาก|</td>\n",
              "    </tr>\n",
              "  </tbody>\n",
              "</table>\n",
              "</div>\n",
              "      <button class=\"colab-df-convert\" onclick=\"convertToInteractive('df-20fbf217-26b8-4911-b947-9bcd760d49ce')\"\n",
              "              title=\"Convert this dataframe to an interactive table.\"\n",
              "              style=\"display:none;\">\n",
              "        \n",
              "  <svg xmlns=\"http://www.w3.org/2000/svg\" height=\"24px\"viewBox=\"0 0 24 24\"\n",
              "       width=\"24px\">\n",
              "    <path d=\"M0 0h24v24H0V0z\" fill=\"none\"/>\n",
              "    <path d=\"M18.56 5.44l.94 2.06.94-2.06 2.06-.94-2.06-.94-.94-2.06-.94 2.06-2.06.94zm-11 1L8.5 8.5l.94-2.06 2.06-.94-2.06-.94L8.5 2.5l-.94 2.06-2.06.94zm10 10l.94 2.06.94-2.06 2.06-.94-2.06-.94-.94-2.06-.94 2.06-2.06.94z\"/><path d=\"M17.41 7.96l-1.37-1.37c-.4-.4-.92-.59-1.43-.59-.52 0-1.04.2-1.43.59L10.3 9.45l-7.72 7.72c-.78.78-.78 2.05 0 2.83L4 21.41c.39.39.9.59 1.41.59.51 0 1.02-.2 1.41-.59l7.78-7.78 2.81-2.81c.8-.78.8-2.07 0-2.86zM5.41 20L4 18.59l7.72-7.72 1.47 1.35L5.41 20z\"/>\n",
              "  </svg>\n",
              "      </button>\n",
              "      \n",
              "  <style>\n",
              "    .colab-df-container {\n",
              "      display:flex;\n",
              "      flex-wrap:wrap;\n",
              "      gap: 12px;\n",
              "    }\n",
              "\n",
              "    .colab-df-convert {\n",
              "      background-color: #E8F0FE;\n",
              "      border: none;\n",
              "      border-radius: 50%;\n",
              "      cursor: pointer;\n",
              "      display: none;\n",
              "      fill: #1967D2;\n",
              "      height: 32px;\n",
              "      padding: 0 0 0 0;\n",
              "      width: 32px;\n",
              "    }\n",
              "\n",
              "    .colab-df-convert:hover {\n",
              "      background-color: #E2EBFA;\n",
              "      box-shadow: 0px 1px 2px rgba(60, 64, 67, 0.3), 0px 1px 3px 1px rgba(60, 64, 67, 0.15);\n",
              "      fill: #174EA6;\n",
              "    }\n",
              "\n",
              "    [theme=dark] .colab-df-convert {\n",
              "      background-color: #3B4455;\n",
              "      fill: #D2E3FC;\n",
              "    }\n",
              "\n",
              "    [theme=dark] .colab-df-convert:hover {\n",
              "      background-color: #434B5C;\n",
              "      box-shadow: 0px 1px 3px 1px rgba(0, 0, 0, 0.15);\n",
              "      filter: drop-shadow(0px 1px 2px rgba(0, 0, 0, 0.3));\n",
              "      fill: #FFFFFF;\n",
              "    }\n",
              "  </style>\n",
              "\n",
              "      <script>\n",
              "        const buttonEl =\n",
              "          document.querySelector('#df-20fbf217-26b8-4911-b947-9bcd760d49ce button.colab-df-convert');\n",
              "        buttonEl.style.display =\n",
              "          google.colab.kernel.accessAllowed ? 'block' : 'none';\n",
              "\n",
              "        async function convertToInteractive(key) {\n",
              "          const element = document.querySelector('#df-20fbf217-26b8-4911-b947-9bcd760d49ce');\n",
              "          const dataTable =\n",
              "            await google.colab.kernel.invokeFunction('convertToInteractive',\n",
              "                                                     [key], {});\n",
              "          if (!dataTable) return;\n",
              "\n",
              "          const docLinkHtml = 'Like what you see? Visit the ' +\n",
              "            '<a target=\"_blank\" href=https://colab.research.google.com/notebooks/data_table.ipynb>data table notebook</a>'\n",
              "            + ' to learn more about interactive tables.';\n",
              "          element.innerHTML = '';\n",
              "          dataTable['output_type'] = 'display_data';\n",
              "          await google.colab.output.renderOutput(dataTable, element);\n",
              "          const docLink = document.createElement('div');\n",
              "          docLink.innerHTML = docLinkHtml;\n",
              "          element.appendChild(docLink);\n",
              "        }\n",
              "      </script>\n",
              "    </div>\n",
              "  </div>\n",
              "  "
            ]
          },
          "metadata": {},
          "execution_count": 4
        }
      ]
    },
    {
      "cell_type": "code",
      "source": [
        "train['Human_CategoryID'].sort_index(ascending=True).value_counts()"
      ],
      "metadata": {
        "colab": {
          "base_uri": "https://localhost:8080/"
        },
        "id": "HA6bOeakDu5L",
        "outputId": "f8be73f3-a2ce-4352-8657-b7bc075399f6"
      },
      "execution_count": 5,
      "outputs": [
        {
          "output_type": "execute_result",
          "data": {
            "text/plain": [
              "7     3275\n",
              "8     2454\n",
              "13    2133\n",
              "5     1163\n",
              "6     1109\n",
              "4      522\n",
              "10     379\n",
              "3      377\n",
              "11     232\n",
              "1      185\n",
              "9      153\n",
              "12     152\n",
              "2       16\n",
              "Name: Human_CategoryID, dtype: int64"
            ]
          },
          "metadata": {},
          "execution_count": 5
        }
      ]
    },
    {
      "cell_type": "markdown",
      "source": [
        "#Create a Vocabulary"
      ],
      "metadata": {
        "id": "3hRruw5Ph59Y"
      }
    },
    {
      "cell_type": "code",
      "source": [
        "from collections import Counter\n",
        "\n",
        "vocab = Counter()\n",
        "def data_to_vocab(df):\n",
        "  for verbatim in df['Text_ws_local']:\n",
        "    tokens = verbatim.split()\n",
        "    tokens = [word for word in tokens if len(tokens) > 4] #at first = 1, CNN GMP is better with >4 for ~2%\n",
        "    vocab.update(tokens)\n",
        "\n",
        "data_to_vocab(train)\n",
        "\n",
        "print(len(vocab))\n",
        "vocab.most_common(20)"
      ],
      "metadata": {
        "colab": {
          "base_uri": "https://localhost:8080/"
        },
        "id": "9KsihNdkb28k",
        "outputId": "577b20f5-d93a-4499-df4c-75fa0183d0db"
      },
      "execution_count": 6,
      "outputs": [
        {
          "output_type": "stream",
          "name": "stdout",
          "text": [
            "46943\n"
          ]
        },
        {
          "output_type": "execute_result",
          "data": {
            "text/plain": [
              "[('|scb|', 1518),\n",
              " ('|friendtag|', 625),\n",
              " ('|2|', 512),\n",
              " ('|kbank|', 403),\n",
              " ('|บาท|', 360),\n",
              " ('|1|', 340),\n",
              " ('|3|', 329),\n",
              " ('|5|', 298),\n",
              " ('|tmb|', 251),\n",
              " ('|call_center|', 250),\n",
              " ('|atm|', 249),\n",
              " ('atm|', 245),\n",
              " ('|scb_easy|', 201),\n",
              " ('|telephonetag|', 199),\n",
              " ('|app|', 199),\n",
              " ('|กรุงไทย|', 198),\n",
              " ('|-|', 184),\n",
              " ('|sms|', 178),\n",
              " ('|ktc|', 176),\n",
              " ('|ของ|', 164)]"
            ]
          },
          "metadata": {},
          "execution_count": 6
        }
      ]
    },
    {
      "cell_type": "code",
      "source": [
        "min_occurence = 2\n",
        "tokens = [k for k, c in vocab.items() if c >= min_occurence]"
      ],
      "metadata": {
        "id": "YqxVmTU0hXYD"
      },
      "execution_count": 7,
      "outputs": []
    },
    {
      "cell_type": "code",
      "source": [
        "def save_list(lines, filename):\n",
        "  data = '\\n'.join(lines)\n",
        "  file = open(filename, 'w')\n",
        "  file.write(data)\n",
        "  file.close()\n",
        "  \n",
        "save_list(tokens, 'vocab.txt')"
      ],
      "metadata": {
        "id": "dxb6rJv_gzC1"
      },
      "execution_count": 8,
      "outputs": []
    },
    {
      "cell_type": "markdown",
      "source": [
        "#Data Processing: Embedding & the Model"
      ],
      "metadata": {
        "id": "WbZ5MsM0iCNr"
      }
    },
    {
      "cell_type": "code",
      "source": [
        "#Load the vocab as above\n",
        "def load_doc(filename):\n",
        "  file = open(filename, 'r')\n",
        "  text = file.read()\n",
        "  file.close()\n",
        "  return text\n",
        "\n",
        "vocab_filename = 'vocab.txt'\n",
        "vocab = load_doc(vocab_filename)\n",
        "vocab = vocab.split()\n",
        "vocab = set(vocab)\n",
        "\n",
        "print(vocab)"
      ],
      "metadata": {
        "colab": {
          "base_uri": "https://localhost:8080/"
        },
        "id": "xWxGiDbLiDjC",
        "outputId": "4c279a0e-1c9f-46c8-aba9-883230fd8815"
      },
      "execution_count": 9,
      "outputs": [
        {
          "output_type": "stream",
          "name": "stdout",
          "text": [
            "{'|เจ้าหน้าที่|บอก|', '|โอน|เงินเข้า|', '|4000|', '|หรือ|ธนาคาร|', '|ทั้ง|เรา|', '|ชม.|', 'k|', '|check|', '|เมื่อไร|', '|ของ|ธนาคาร|bbl|', '|ไป|ตั้งแต่|วัน|ที่', '|ก็|ขึ้น|ว่า|', '|true|', '|ก็|สมัคร|', '|ก.|ค|', '|ไม่งั้น|', '|ค่า|เทอม|', '|สาขา|พระนคร|คีรี|', '|เกือบ|', '|ๆ|คะ', '|แรก|', 'visa|', '|เงินฝาก|', '|ไม่ได้|ครับ|', '|kbanklive|', '|date|', '|ผม|อยาก|ถาม|ผู้รู้|ครับ|ว่า|', '|นะ|', '|wise|', '|ค่ารถ|', '|ท|รู|มูฟ|หรอ|', 'ตาม|หัวข้อ|เลย|ค่ะ|', '|anan|', '|วัน|แล้ว|ค่ะ|', '|เป็นสมาชิก|', 'เหมือน|', '|งง|มาก|', '|บัตรเครดิต|', '|สอบถาม|ค่ะ|', '|สรุป|คือ|', '|ถ้า|มี|บัญชี|', '|ทุ่ม|ของ|มึง|เนี่ย|เหมือนกัน|เลย|จ๊ะ|', '|ของ|วัน|ที่', '|เอา|', '|activate|', '|ลืม|', '|แย่|จริงๆ|', '|มากกว่า', '|station|', '|adobe|', '|2.78|', '|รบกวน|หน่อย|ครับ', '|ค่าบริการ|', '|ทีนี้|', 'mymo|', '|เหมือน|', '|mbanking|', '|ไป|เมื่อ|วัน|ที่', '|ของ|วันนี้|', '|มี|เยอะ|แล้ว|', '|ลง|เหลือ|', '|อีก|', '|ช้า|มาก|', '|นั้น', '|ฝากประจำ|', '|คืน|บัตร', '|อีดอก|', '|prestigerop|', '|ก|ย|', '|mrt|', '|มี|ประวัติ|ล่าช้า|', '|ป|ช|ช|.|', '|wechat|', '|วัน|ละ|', '|หรือ|ต้อง|เสีย|เงิน|ไป|เปล่าๆ|', '|บาท|ครับ|', '|มี|สลิป|แต่|เงิน|ไม่|เข้า|ทำไง|บอก|ที|และ|จะ|ได้|เงิน|คืน|ไหม|ม', '|มา|ให้|', '|ให้|หน่อย|', '|g|', '|ใช้งานง่าย|', 'งง|', '|830|', 'uob|', '|scb_mlive|', '|savings|', '|krungthai_care|', '|s|21|', '|ระวัง|หน่อย|', '|5|', '|ใน|แอป|', '|วัน|ทำการ', '|อาทิตย์|', '|โมง|ครึ่ง|', '|เวลา|ประมาณ|', '|โทร|ไป|ไม่เคย|ได้|คุย|', '|ก็|ยัง|ไม่ติดต่อ|กลับมา|ตกลง|ไฟแนนซ์|ไทยพาณิชย์|', '|มัน|ขึ้น|ว่า|', '|44|', '|กองทุน|', '|youtrip|', '|ของ|ระบบ|', '|kept|', '|ฉบับ|', '|usd|', '|ต้อง|โทร|ไปหา|', '|เลย|ค่ะ', '|ส่ง|', '|เหรอ|', '|นี่|จะ|', '|23.00|', '|โฉนด|', '|เท่านั้น|', 'สมัคร|บัตรเครดิต|', '|โหลด|', '|ถือ|บัตร|', '|ได้คืน|', 'ได้|ดอกเบี้ย|', '|ที่ผูก|ไว้|', '|operator|', '27|', '|เข้า|ไม่ได้|เลย|', '|เบื่อ|มาก|', 'เจ้าหน้าที่|', '|ดี|ค่ะ|', '|31|', '|แต่|แอป|', '|ของ|ธนาคาร|ไหน|', '|100000|', '|ผ่าน|มา|', '|ไม่พอ|', '|เมื่อวาน|', '|เปลี่ยน|มา|', '|เบอร์|เติม|ผิด|', '|24|', '|ไป|kbank|', '|แสดง|ว่า|', '|กุ|มีปัญหา|กับ|ไลน์|แมน|อีก|', '|เดือน|ครับ|', '|paypal|', '|big|', '|wallet|', '|โค|วิด_19', '|got|7|', '|ติด|', '|แจ้งเตือน|เงินเข้า|ไม่มี|สัก|ข้อความ|เลย|ค่ะ|', '|เพื่อน|ๆ|', '|taxi|', '|ระบบ|แจ้ง|ว่า|', '|jasif|', '|ก็|มา|', '|ผิด|เบอร์|', '|365|', '|promptpay|', '|refund|', 'โทร|ถาม|', '|booking|', '|version|', '|เบื่อ|', '|balance|', '|กองทุนรวม|', '|ทำไม|เข้า|ไม่ได้|อะ|', '|จน|', '|offer|', '|แทน', '|สำหรับ|ผม|', '|ชอบ|', '|เย็น|', '|tmb|.|', '|ไม่สามารถ|เข้า|', '|scb_my_travel|', '|usa|', '|หรือว่า|', '|เงิน|ยัง|ไม่|เข้า|เลย|ค่ะ|', '|ไม่มี|บัตรเครดิต|', '|2700000|', '|2000|', '|1.3|', '|ทำไง|ดี|คะ', '|บาท|ได้|', 'โง่|เอง|', '|10.32.0|', '|เหมือนกัน|ค่ะ|', '|parkjihoonfanconinbkk', '|remind|', '|โอนเงิน|ไป|แล้ว|', '|atm-|', '|รบกวน|สอบถาม|', '|ก็|ถอย|', '|4', '|139|', '|ตลอด|', '|ซึ่ง|ทาง|', '|walk|', '|แง|ง', '|reset|', '|2500|', '|แม่|ง|', 'ใช่|ครับ|', '|post|', '|แต่|ยอด|ไม่|เข้า|', '|bangkok|', '|600|', '|line|', '|starbuck|', '|ไหม|ครับ|', '|ของ|ธนาคาร|อื่นๆ|', '|รักษา|', '|pbv|', '|หรอ|ครับ|', '|t|1|', '|เซ|ง|', '|แอป|', 'รบกวน|สอบถาม|หน่อย|ครับ|', '|1851|', '|เพื่อ|', '|option|', '|ตัว|', 'รบกวน|สอบถาม|', '|ล้าน|บาท|', '|รอ|มา|', '|ล่าสุด|', '|จน|ป่านนี้|', '|อ|ห', '|trip|', '|ตอนนี้|เดือดร้อน|มากๆ|', '|เพื่อ|เปิดบัญชี|', '|out|', '|line', '|ฝาก|', '|เห้อ|', '|เฮ้อ|', 'รี|ล่า|', '|high|', '|ใช้|ของ|', '|ไป|ยืนยัน|ที่|ตู้', '|28|', '|แก้ไข|อย่างไร|', '|บอก|ให้|รอ|', '|แนะนำ|', '24|', '|เอิ่บ', '|เพชร|บุรี|', '|แถม|', '|k-express|', '|รบกวน|ขอคำแนะนำ|ด้วย|ครับ|', 'พึ่ง|รู้ว่า|', '|steam|', '|d|', '|กรุงไทย', '|kbank_live', '|ไม่|ใช้|เงิน|จนกว่า|จะ|เก็บ|ถึง|เป้า|', '|ไป|ไทยพาณิชย์|', '|เหมือนกัน|เลย|ค่ะ|', '|pttep|', '|ไปยัง|bbl|แต่|เงิน|ไม่|เข้า|', '|กรุงไทย_axa|', '|ยัง|ไม่|ผ่าน|', '|ม|ก|รา|', '|กว่า|หน่วย|', '|streaming|', '|599|', '|ว|', '|application|', '|ไหน|', '|ปลายทาง|kbank|', '|คืนเงิน|', '|แต่|นี่|', '|เงิน|ยัง|ไม่|เข้า|เลย|', '|scbs|', '|ง|อง|มาก', '|รวย|', '|callcenter|', '|อื่นๆ|', '|กับ|บัตรกดเงินสด|', '|แต่|หมดเขต|วันนี้|แล้ว|', '|โอนเงิน|มา|ให้|แล้ว|ครับ|', '|airways|', '|เรา|โอนเงิน|จาก|', '|แจ้ง|', '|แล้ว|ทาง|', '|keptbykrungsri|', '|สอบถาม|หน่อย|นะคะ|', '|กด|ตัง|จาก|ตู้|ทหาร|ไทย|ได้|ถูกต้อง|ไหม|', '|ขอบคุณ|นะคะ|', '|ไว้|', 'ใน|', '|ต้อง|ทำ|ยังไง|', '|กุมภาพันธ์|', '|transferwise|', 'แล้ว|', '|ดังนั้น|', '|โอน|จาก|', '|เหมือนเดิม|', '|สอบถาม|ทาง|', '|generali|', '|ผม|มี|ธนาคาร|ในใจ|อยู่แล้ว|', '|gift|', '|อี|เวง|', '|record|', 'และ|', '25|', '|ฟรี|ค่าธรรมเนียม|', '|จ่าย|ค่า|บัตร|', 'ผม|เอาไว้|กัน|เวลา|ไป|ต่าง|พื้น|ที่แล้ว|มี|แค่|ตู้|เดียว|', '|ชม|', '|งวด|', '|เขา|บอก|', '|appscb|', '|ในกรณีที่|', '|support|', '|ถอน|', '|รอบๆ|', '|เบอร์|โทร|', '|จริง|', '|cimb|', '|ตัวเอง|', '|ยืนยัน|ตัวตน|', '|ตอนนั้น|', 'ข้อเสีย|ของ|', '|ตอน|เปิดบัญชี|', '|ครั้ง|', 'ดอกเบี้ย|', '|เลขที่บัญชี|', 'แง|', '|truewallet|', '|ได้|ไหม|คะ', '|ขอ|ข้อมูล|จาก|ธนาคาร|อื่น|ได้|', '11|43|', '|จาก|ต่างประเทศ|', '|ปี|ค่ะ|', '|coin|', '|ต้นๆ|', '|ขึ้น|ว่า|ไม่|พบ|ข้อมูล|การ|สมัคร|', '|shop|', '|rewards|', '|bayfirst_choice|', 'รบกวน|สอบถาม|ค่ะ|', '|gs|', '|รายการ|', '|ยัง|ไม่ได้|เลย|', '-|', '|หน้า|', '|มี|', '|65', '|อายุ|', '|หรือ|ตาม|แต่ละ|พื้นที่|', 'หุ้น|', '|ขอ|ข้อมูล|', '|rueantan|', 'เจอ|เหมือนกัน|', '|6000|', 'เข้า|แอป|', '|ผ่อน|', '|161|', '|เยอะ|ๆ|', '|t|', '|ไม่|เกิน|', '|พนักงาน|เกือบ|ทั้งหมด|พูด|กับ|ลูกค้า|', '|เติม|ผ่าน|', '|ได้|ด้วย|', '|กลัว|โดน|หลอก|', '|แล้ว|บัตร|เก่า|คือ|จ่าย|ออนไลน์|ได้|', '|คิดว่า|', '|timeout|', '|ไปที่|ตู้', '|นี่|คือ|', '|กรุงเทพ|', '|ผ่อน|กับ|', '|apps|', '|50|', '|เม.ย|', '|สัก|เท่าไหร่|', 'เรื่อง|มีอยู่|ว่า|', '|เห้อ', 'ไหน|ๆ|', '|exclusive|', '|ไป|เปิดบัญชี|', '|แต่|ทั้ง', '|airbnb|', '|ปกติ|จะ|มี|', '|บริการ|ดี|', '|ทั้ง|แอป|', '|บาท|ขึ้นไป|', '|แต่|พอกด|สมัคร|ไป|แล้ว|', 'ลงทะเบียน|', '|มีปัญหา|หรือไม่|คะ|', '|3', '|บาท|ต่อ|คะแนน|', 'ขอบ|สอบถาม|หน่อย|ค่ะ|', '|อยู่|ค่ะ|', '|เสียดาย|', '|มาตลอด|', '|เงียบกริบ', '|เป็นต้นไป|', '|จบ|', '|kbankxblackpink', '|ไง|คะ|', '|รอ|', '|ไม่ได้|ค่ะ|', '|13.00|', '|แต่|ไม่|เข้า|', '|10.02|', '|ปัง|มาก|', '|2400|', '|7|-|14|', '|สาย|', '|ละ|ตัด|ตัง|ไป|แล้ว|ด้วย', 'สมัคร|สินเชื่อ|', '|tfex|', '|ค|ป|ภ|.|', '|บัตร|', '|speedy_loan|', '|ประเมิน|', '|สินเชื่อ|เพิ่ม|ได้|', '|krungthai_care', '|แจ้ง|มา|ว่า|', '|พอ|', '|ซิ|ม|', '|น้อยกว่า|', '|เข้า|scb|', '|พอกันที|', '|vi|', '|คิว|', '|จ่าย|ผ่าน|', '|75|', '|ไหม|คะ', '|netbank|', '|เอา|ดิ|', '|อนุมัติ|', '|บัตรเดบิต|', '|เน็ต|', '|ยัง|ไม่มีใคร|ติดต่อ|กลับมา|', '|ไฟแนนซ์|ไทยพาณิชย์|โทร|มา|ทวง|', '|robinhood|', '|เงิน|หัก|จาก|บัญชีธนาคาร|แล้วแต่|ยอด|ใน|แอป|เป๋า|ตัง|ยัง|เป็น|', '|ไม่มี|ประวัติ|จ่าย|ช้า|ของ|ใบ|นี้|ครับ', '|โอนเงิน|ไป|', '|jcb|', '|ยืนยัน|ตัวตน|ไม่ได้|', '8|', '|โบราณ|จะ|ตาย|ชัก|', '|ชั่วโมง|', '|ครับ|', '|user|', 'ๆ|', '|ใช่|', '|จนถึง|', '|สัญญา|', '|เลือก|จ่าย|ด้วย|', '|แต่|เงิน|ไม่|เข้าบัญชี|ปลายทาง|', '|start|', '|ผม|ใช้|', '|เอ|', '|มี|สลิป|', '|cr|.|', '|โทร|กลับ|ไทย|ก็|ไม่ได้|', '|หรือ|ไป|', '|ไม่มีภาระ|หนี้สิน|', '|thanachart|', '|10.00|', '|2565|', '|แต่|บัตร|ใหม่|ที่|เป็น|', '|1|-|3|', '|8.1.2020|', '|ร|ร|', '|แล้ว|มา|สแกน|ใหม่|', '|ktc', '|16000|', '|airline|', '|ใช่ไหม|ครับ|', '|busayarat|', '|easy|', '|เท่า|', '|รอสาย|นานมาก', '|เรื่อง|', 'อีก|', '|สะดวก', '|ผ่อน|รถ|', '|มี|บัตร|', '|มี|เพื่อน|ๆ|', 'kitisak|', '|ไม่สามารถ|', 'เรา|ชนะ|', 'ทาง|', 'ขอบคุณ|ครับ|', '|ประเทศไทย|', '|เป๋า|ตังค์|', '|air|', '|ที่|สาขา|', '|กับ|บัตร|', '|300', '|เข้าไป|แด|ใหม่|คะ|', '|scb_m|', '|16.30|', '|ไป|ธนาคาร|อื่น|', '|เขา|เลย|ป|ริ้น|ให้|', 'ซื้อ|ผ่าน|', '|โอน|เข้าบัญชี|', '|อาทิตย์|แล้ว|', '|ไม่|แจ้ง|', '|live|', '|รอบ|ที่', '|มัน|ขึ้น|แบบนี้|', '|นามสกุล|', '|buntoshi|', 'โอนเงิน|จาก|ธนาคาร|', '|ทั้ง|คนอื่นๆ|', '|รึ|เปล่า|ครับ|', '|ตั้งแต่|ต้นปี|', 'เรียน|', 'โอน|จาก|', '|ธ|', 'ลอง|ไป|ใช้บริการ|กับ|พนักงาน|เค้า|', '|thailand|', '|advisor|', 'เติมเงิน|ผิด|เบอร์|ครับ|', '|โอ้|ย', 'เซ็ง|', '|แล้า|', 'คล้ายๆ|', '|รับ|แต่|เงิน|ห|ยวน|ของ|จีน|', '|พนักงาน|แจ้ง|ว่า|จำนวน|ครั้ง|ที่|เข้า|จะ|นับ|ครั้ง|ตาม|การสรุป|ยอด|เข้า|บ|ช|', '|ไป|อยู่|ใน|', '|สีเขียว|', '|พ่อ|', '|ธันวาคม|', '|ผ่าน|บัตร|', '|ก|ยศ|', '|ชาว|พันทิป|', '|800|', 'ความคิดเห็น|ที่', '|พวก|', '|อยู่แล้ว|', '|หมื่น|อัพ|', '|ทำไง|ดี|ครับ|', '|699|', '|ยืนยัน|ที่|ตู้', '|-|19|', '|ติดต่อ|เจ้าหน้าที่|', '|tmb_so_smart|', '|คอลเซนเตอร์|', '|e-statement|', '|23.48|', '|port|', '|ก็ได้|ค่ะ|', '|ชื่อ|', '|ช่วย|ตอบ|หน่อย|ครับ', '|ต้อง|ใช้|', '|sim|', '|พิจารณา|', '|เงิน|ไม่|เข้า|', '|paul|', '|ก็|แล้ว|', '|loan|', '|beyond|', '|ถาม|เรื่อง|', '|1700|', '|33|', '|personal|', '|กะ|', '|รบกวน|ตรวจสอบ|ให้|ด้วย|ครับ', '|home|', '|backup|', '|เรา|ยัง|ไม่ได้|ข้อความ|เหมือนกัน|ค่ะ|', '|140|', '|kcl|', '|10', '|เงิน|ยัง|ไม่|เข้า|', '|visa|', '|700|', 'โทร|หา|', 'บัญชี|', '|เงิน|ฝากออมทรัพย์|แบบ|ไม่มี|สมุด|', '|margin|', 'ไป|', '|แล้ว', 'วัน|ที่', '|เส้า', '|เช่น|', '|ทุก|ช่องทาง|', '|ที่|ลง|', '|รบกวน|ผู้รู้|ทุกท่าน|ด้วย|ค่ะ', '|เลย|', '|แต่|', '|pc|', '|วัน|ทำการ|', '|ธนาคาร|kbank|', '|กำไร|', '|ตอนนี้|พอจะ|ผ่อน|เลย|วางเงิน|นิ่ง|ๆ|', '|บ|', '|k-plus|', '|itmx|', '|ั|', '|13|', '|ได้มา|', '|ถัดไป|', '|invest|', '|อ่อ|', '|ต.ค.|', '|banking|', '|ไปยัง|', 'ขอ|สอบถาม|หน่อย|ค่ะ|', '|ปรากฏ|', '|uob|', '|พรบ.|', '|tt|', '|49|', 'baac|', '|มีเงิน|', '|มาสเตอร์|การ์ด|', '|scb_m_live|', '|ป|ช|ช|', '|store|', '|19|', '|scb_family_plus|', '|ยื่น|สมัคร|ที่|', '|axa|', '|พนักงานธนาคาร|แนะนำ|ให้|ใช้|', '|ล้าน|', '|scb_m_luxe|', '|ก็ได้', '|อะไร|วะ|เนี่ย|', '|-|', '|เข้า|', '|ดี|ไหม|', '|noti|', '|ธนาคารไทยพาณิชย์|', '|bitkub|', '|download|', '|หรือยัง|คะ|', '|e-savings|', '|ประกันภัย|', '|ทุกวัน|', '|5000|', '|pttor|', '|125|', '|ถึง|', '|เช้า|', '|ขอบคุณ|ล่วงหน้า|นะคะ|', '|ถ้า|ส่ง|บัตร|มาแล้ว|ยัง|ใช้ไม่ได้|ใช่ไหม|ครับ|ถ้า|เชื่อม|กับ|แอป|', '21|', '|ก็ได้|', 'คือ|แบบ|', '|ล่ม|บ่อย|มาก|', '|ktef|', '|9000|', '|เสียเวลา|มาก|', '|แล้ว|นะ|', '|ต้อง|เปิดบัญชี|', '|ของ|ทุกเดือน|', '|ทำ|อย่างไร|ได้|บ้าง|คะ|', '|ทำ|บัตรเสริม|ของ|มาย|', 'ผ่อน|รถ|กับ|', '|alert|', '|ktsf|', '|time|', '|ชั่วโมง|แล้ว|', '|อี|', '|ซื้อ|', '|nikecom|', '|ชั่วโมง', '|contact|', '|msig|', '|จ่าย|', '|speedy_cash|', '|ขออภัย|ครับ|', '|พบว่า|', '|หรอ|คะ|', '|มี|ข้อความ|จาก|', '|คน|', '|fund|', '|เท่าไหร่|', '_carestatus|', '|อีกครั้ง|', '|โปรโมชั่น|', '|takashimaya|', 'โทร|ไปหา|', '|ไม่ติด|', '|แห|นะ', '|จน|วันนี้|วัน|ที่', '|ใน|แอ|ฟ|มัน|เป็น|ออ|มท|ร|พ|ย|์|', '|มีข้อดี|', '|90|', '|ตอนนี้|', '|be|', '|ได้|', '|เป็นไร|อะ|', 'พอ|', '|นาน|', '|84|', '|เซ็ง|มากๆ|', '|ก็|ไม่มี|', '|3.|', '|ถ้า|เกิน|', '|คนละ|ครึ่ง', '|ว้อท|', '|11100|', '|ล|ฯ|', '|welcome|', '|kjourney|', '|เป็น|เบอร์|', '|ว่า|', '|เดือน|ขึ้นไป|', '|ไม่ทราบ|ว่า|จะ|ผ่าน|ไหม|คะ|', '|ยื่น|ไป|', '|name|', '|ไว้|แล้ว|', '|หน่อย|ค่ะ', '|เห็น|บาง|ธนาคาร|ไม่ต้อง|ใช้|แสตมป์|ภาษีอากร|', '|32300|', '|ตอน|', '|แต่|เงิน|ไม่|เข้า|ปลายทาง|', '|แตก|', '|ถ้า|เป็น|', '|paywave|', '|protection|', '|สอบถาม|โทร|', 'ผม|สมัคร|บัตร|', '|อัปเดต|', '|เวง|', '|ตอน|สมัคร|', '|ทำไง|ครับ', '|วัน', '|เจ้าของ|กระทู้|', '|มี|แต่|', '7|-|11|', '|1600|', '|แล้วจะ|เอา|เงิน|ไป|ทำ|อะไร|ดี|นะ|', 'kbank|ล่ม|หรอ|', '|เงียบกริบ|', '|แต่|ใช้ไม่ได้|', '|เข้า|กรุงไทย|', '|infinite|', '|อยากทราบ|ว่า|เพื่อน|ๆ|', '|นาที|', '|แต่|เงิน|ไม่|ออก|', '|แอ|ด|มิ|น|คะ|', '|10.30|', '|10.2|', '|จาก|ธนาคาร|', '|ผ่าน|แอป|', '|ไม่รู้|จะ|ทำไง|แล้ว|', '|เติม|เงินเข้า|', '|บ้าง|คะ|', '|วันนี้|', '|เงินเดือน|ผม|', '|gateway|', '|ธนาคาร|ก็|หายเงียบ|ไป|', '|ตัวอย่าง|', '|มี|.|ค.|', '|ส่วน|พวก|', '|ก็|เห็น|', '|บอก|ว่า|รีบ|เร็ว|เด่|ว|เต็ม|นะ|', '|ครับผม|', '|ธนาคาร', '|เปิด|ๆ|', '|ไม่มี|บัตรเอทีเอ็ม|', 'เป็น|ธนาคาร|', '|ไหม|', '|up|', '|ร้อยละ|', '|เดือน|แล้ว|', '|ดีๆ|', '|โอน|เวลา|', '|ทั้ง|', '|limited|', '|ปล่อยกู้|', 'ยืนยัน|ตัวตน|ที่|ตู้', '|ของ|รัฐ|', '|shoppee|', '|เนื่องจาก|บัญชี|นั้น|โดน|ยึด|ไป|ด้วย|ปัญหา|หนี้สิน|', '|คลิก|เพื่อ|ดู|ข้อความ|ที่ซ่อน|ไว้|ใส่|ข้อความ', '|กี่|เดือน|', '|กบข.|', '|my|', 'gsb|', '|tmb', '|พอดี|', '|หาย|', '|agoda|', '|ไว้ใจ|เอา|เงิน|ไป|ฝาก|', '|_', '|เอา|จริงๆ|', '|เป๊ก|ผลิต|โชค', '|ghb|', '|kbank_live|', '|สัก|ปี|ละ|', '|สมาร์ท|', '|จะ|เอา|บัตร|กด|ยัง|ไม่ได้|อีก', '|520|', '|13.30|', 'สอบถาม|เรื่อง|บัตรเครดิต|', '|amount|', '|ไป|เข้า|', '|สมัคร|บัตรเครดิต|', '|เซ็ง', '|ต้อง|ให้|หน้า|สมุดบัญชี|ตรงกับ|ผู้ที่|ลงทะเบียน|', '|นานมาก|แล้ว|', '|ติดต่อ|ผ่าน|', '|1558|', '|คุย|', '|เดือน|นี้|', '|มี|เอกสาร|', '|3|bb|', '|ก็|สามารถ|', 'สอบถาม|หน่อย|ค่ะ|', '|อ|ห|', '|ผ่อน|ตก|ล้าน|ละ|', 'ใบสมัคร|ผม|ก็|จ|พ|หมดอายุ|แล้ว|', '|work|', '|เป็นการ|ผิดพลาด|ใน|การ|ตีพิมพ์|เอกสาร|', 'แอป|bbl|', 'กรุงไทย|', '|อะไร|', '|อย่าง|', '|ยัง|ไม่|ได้รับ|', '|สามารถ|เปลี่ยน|', '|mymo|', '|โทร|ไป|ถาม|', '|บ้าน|', '|เท่า|ค่ะ', '|เรา|ชนะ', '|ต้อง|ไป|ทำ|ที่ธนาคาร|', '11|', '|kbankxblackpinkfanmeeting', '|ark|', '|card|', '|เรา|ชนะ|', '|ปี|แล้ว|ครับ|', '|จาก|เดิม|', 'suphakit|', '|เลิก|ใช้|วอ|เลท', '|เลิก|เบื่อ|', '|910|', '|atm|', '|จ่าย|ก่อน|', '|ยอดเงิน|', '|แต่|ไหม|เข้าบัญชี|', '|เจ้า|', '|490|', '|บ้าบอ|', '|ธรรมดา|', '|routing|', '|bualuang_m_banking|', '|ก็|ให้|', '|ม.|', '|เลิก|ใช้|', '|คับ|', '|ชื่อ|ญาติ|', 'คือ|', '|เอา|บัตร|ป|ป|ช|.|', '|กว่า|', '|รหัส|', '|จู่ๆ|', '|scb_mobile|', '|เกาหลี|', '|อี|เหี้ย', '|วันก่อน|', '|มา|หลาย|วัน|', '|finalodysseyconcert|', '|7500|', '|จน|บัดนี้|', '|ก็ได้|ครับ|', 'tao|', '|แต่|ยอดเงิน|ไม่|เข้าบัญชี|ปลายทาง|', '|e|', '|บาท|', '|login|', '|euro|', '|ผ่อน|ได้|', '|วัน|ๆ|', '|ทำไม่ได้|', '|top|', 'เติมเงิน|', '|คิว|ยาว|', '|ธนาคาร|อื่น|', '|transaction|', '|ถ้า|มัน|ไม่พลาด|ไป|', '|ล่ม|อีกแล้ว|', '|มี|ค.|', '|3000|', '|บาท|อยู่แล้ว|', '|2440|', '|process|', '|อ|ห|.', '|signature|', '|200|', '|อีห่า|', '|failed|', '|rate|', '|แต่|เงิน|หาย|', '|โอน|ไม่ได้|', '|12000|', '|เปลี่ยนเป็น|เบอร์|', '|19.35|', '|ปี|ที่ผ่านมา|', 'เปิดบัญชี|', '|ดีจัง|', '|ของ|ประเทศ|', '|ต้อง|มี|', '|และ|มี|', '|fun|', '|ได้|ข้อมูล|ปั๊บ|', '|201|', '|ห่วยแตก', '|สแกน|หน้า|', '|หมายความว่า|', '|น.', '|ktb|กรุงไทย|', '|scbs', '|70|', 'รอ|', '|ธนาคารอาคารสงเคราะห์|', '|1599|', '|บาท|แน่ะ|', '|บ้าน|ราคา|', 'ผม|', '|สตางค์|', '|หุ้น|', '|ท|รู|วอ|ล|เลท|', '|สะสมแต้ม|', '|รบกวน|ด้วย|นะคะ', '|บ้าน|แล้ว|ไม่รู้|จะ|เอา|เงิน|ไป|ทำ|อะไร|ก็|ไปหา|ฝาก|ที่นี่|ก่อน', 'เอ|', '|อ่าว|', '|เห|น่ย', '|แต่|ถ้า|', '|.', '|เอ|อ|', '|5400|', '|เลย|โทร|ไป|ถาม|', '|ซื้อได้|จนถึง|', '|110|', '|ฉัน|', '|น่าสนใจ|มาก|ครับ|', 'ขอ|สอบถาม|นะคะ|', '|ติดต่อ|ยากมาก|', '|ขอบคุณ|ล่วงหน้า|ครับ', '|แต่|ไม่|เกิน|', '|เดือน|ค่ะ|', '|แลก|', '|17.30|', '|27000|', '|เพียง|', 'โอน|ไป|', '|โทร|ทุกวัน|', '|ตัว|ไหน|', '|ธนาคาร|ต้นทาง|ของ|เคส|เรา|', '|เรา|ควร|ทำ|ยังไง|', '|ดอน|เมือง|', '|citibank', '|บาท|อะ|', '|ไม่ดี|', '|อุดรธานี|', '|ผ่อน|เดือน|ละ|', '|ค่า|บ้าน|', '|ต่าง|สาขา|', '|sale|', '|เยน|', '|กทม|', '|ตุลาคม|', 'สวัสดี|ค่ะ|เพื่อน|ๆ|', '|ปัด|ตก|', '|20|k|', '|หรือเปล่า|ครับ|', '|3.00|', '|error|', '|iphone|', '|call|', '|สินเชื่อ|', '|แล้ว|ต้อง|เสีย|อะไร|ไหม|', '|ก|พ|', '|เหี้ย|มาก|', '|สินเชื่อหมุนเวียน|', '|เมื่อ|เทียบกับ|', '|23000|', '|บ้าง|', 'อ้าว|', '|อยู่|ที่', '|no|.|1|', '|scb|', '|เยอะ|', '|มา|นาน|', '|ได้แก่|', '|เสียความรู้สึก|มาก|', '|dispute|', '|เรียบร้อยแล้ว|', '|เรย|', '|atm|.|', '|ธ|ค|', '|ธนาคาร|นี้|', '|โอน|วัน|ที่', 'จ่ายเงิน|ผ่าน|', '|major|', '|ออก|บัตรเดบิต|ไม่ได้|', '|mobile|', '|easypass|', '|อี|เวร|', '|8|', '|ทั้งที่|กดเงิน|แล้ว|ไม่|ออก|', '|มี|แอ|ฟ|', '|สาย|ไม่ว่าง|ตลอด|เลย|', '|2212563|', '|money|', '|4.|', '|barcode|', '|kyc|', '|ปันผล|', '|ปี|ที่', '|64|', '|t_t|', '|วัน|แล้ว', '|ปีนี้|ได้|ไหม|ครับ|', '|wealth|', '|scb_easy', '|หนึ่ง|', '|23|xxx|', '|ก่อน|นะ|ครับ', '|x|', '|เข้า|ไม่ได้|', '|เรา|ไม่|ทิ้ง|กัน', '|หรือเปล่า|', '|แพลทินัม|', '|รหัสผ่าน|', '|แบบ|แรก|', 'ที่|', '|tmb_absolute|', '|ไป|ทำ|ที่|ตู้', '|shanghai|', '|เดือน|', '|โลตัส|', '|คืน|', '|เฮ้ย|', '|friendtag|', '|ผม|ก็|', '|หนี้|', '|fix|', '|ถ้า|เปิดบัญชี|', '|ขอความกรุณา|', '|unionpay|', '|จะ|ผ่าน|', '|ใคร|ใช้|', '4|363|', '|ได้|ครับ|', '|ssf|', 'ฐาน|เงินเดือน|', '|ญี่ปุ่น|', '|prestige|', '|ถ้า|', '|ตอนนี้|มี|', '|m|', '|wave|', '|ทำไง|ครับ|', '|max|', '|ต้นทาง|กรุงไทย|', '|แล้ว|ค่ะ', '|หรือ|ต้อง|', '|โยน|กัน|ไป|โยน|กัน|มา|', '|อ๋อ|', '|ฮะ|', '|เลข|บัตรประชาชน|', '|ธนชาต|', '|ร้าน|ป|ริ้น|ยัง|ไม่|เปิด|นี่|เลย|จะ|เปิดบัญชี|เพื่อ|จ่ายเงิน|', '|นิดๆ|', '|ใช้จ่าย|', '|หมุนเวียน|และ|สินเชื่อ|ได้|เพิ่ม|', '|หลักๆ|', '|เบอร์|เดิม|', '|ขอคำแนะนำ|หน่อย|ค่ะ|', '|youth|', 'โอนเงิน|วัน|ที่', '|ตัด|ไป|', '|kb|', '|รบกวน|สอบถาม|ค่ะ|', '|หงุดหงิด|', '|uchoose|', '|ndid|', '|แอป|ล่ม|', '|500|', '|เกี่ยวกับ|', '|ล่ม|หรอ|', '|14|', '|ผม|ว่า|', '|ข้อมูล|บัญชี|หาย|ใคร|เป็น|บ้าง|ครับ|', '|all|', '|bigc|', '|สาขา|ชน|แดน|', '|saving|', '|108|', '|ไป|กรุงไทย|', '|4|', '|ทั้งสิ้น|', '|กด|ไม่ได้|', '|เวลา|กลับ|ไปที่|กรม|ทหาร|บ้าน|เก่า|ใน|กรม|มัน|จะ|มี|แต่|ตู้', '|7|-|11|', '|ถ่าย|บัตร|', '|อ่าน|เงื่อนไข|อี|กรอบ|', '|งง|มาก', '|ad|', '|สด|', '|ได้|ไหม|ค่ะ|', '|apple|', '|โทร|ตั้งแต่|', '|ต|ป|ท|', '|ผม|ต้อง|ทำ|อย่างไร', '|แย่สุดๆ|', '|10|', '|bbl|ค่ะ|', '|เลย|ครับ|', '|ช่อง|', '|โค|วิด|', '|มึง|ติด|', '|g-walle|', '|สั่ง|อาหาร|', '|ตั้งแต่|เมื่อวาน|', '|เป็นมา|', '|จ.|เพชรบูรณ์|', '|ตอนนี้|เลย|', '|ผม|ใช้|มา|', '|โดย|ใช้|', '|0', '|6|-|7|', '|ราย|', '|เมลล์|', '|แม่|จะ|จ่าย|งวด|แรก|ให้|ก่อน|แล้ว|ที่เหลือ|หนู|ผ่อน|', '|ขอบคุณ|ครับ', '|email|', '|70000|', '|ออก|', '|ไม่|มีอาชีพ|', '|เหลือ|', '|650|', '|card', '|แล้ว|ส่วน|ของ|บัตร|', '|ถาม|จริง|', '|bbl|', '|ผม|เลือก|', '|ธนาคาร|ค|', '|กุ|ปวดหัว', '|ยอด', '|พอ|กลับมา|ที่|', '|มาแล้ว|', '|เต็ม|', '|ธนาคาร|', '|everyday|', '|ค|ห|.|', '|tbank|', '|search|', '|18.11|', '|15.30|', '|global|', '|มี|สลิปเงินเดือน|', '|และ|บัตร|', '|ครั้ง|แล้ว|', 'เติมเงิน|ผิด|เบอร์|ค่ะ|', '|cdm|', '|ทุ่ม|กว่า|', '|อยาก|สอบถาม|ว่า|', '|ก็ได้|คะแนน|', '|ทำ|ยังไง|ดี|คะ|', '|ไป|แล้ว|', '|วอ|เลต|', '|เงินเข้า|', '|โอนเงิน|ออกจาก|บัญชี|เรา|เอง|', '|ฟรี|', '|covid|', '|youtube|', '|แต่|ใน|', '|2|-|3|', '|มีโอกาส|', '|แต่|ภาพ|ไม่|ใช้|', '|ยอดเงิน|ไม่|เข้า|', '|channel|', '|บ้าง|ไหม|คะ|', '|statement|', '|amex|', '|0.25|', '|22000|', '|โมโห|', '|easy_invest|', '|99|', '|หมื่น|', '|บ|ลา|ๆ|', '|เป็น|จำนวนเงิน|', '|หุ้น|ไทย|', '|งง|ไป|หมด|', '|พูดจา|ดีมาก|', '|เฮ้อ', '|สมุทรปราการ|', '|นครนายก|', '|gmarket|', '|2564|', '|หลัง|ๆ|', '|30|', '|63|', 'ยื่น|', '|อี|สัส|', '|hr|', '|ได้|วัน|ที่', '|ไม่สนใจ|', '|ทุ่ม|ครึ่ง|', '|wow|', '|baac|', '|siam|', '|บน|', '|ครั้ง|ที่', 'ใคร|ใช้|', '|ของ|กรุงไทย|', '|เสีย|ค่าธรรมเนียม|', '|ซึ่ง|สถานการณ์|ตอนนี้|ก็|คือ|ไม่|อยาก|ออกไป|ไหน|เลย|', '|ไม่ใช่|', '|อยาก|รู้ว่า|ค่าธรรมเนียม|ตรง|', '|ยังไง|', '|แสน|บาท|', '|ค่า|', '|ยอด|ไม่|เข้า|', '|ฮือ|', '|citi_premier|', '|bualuang|', '|starbucks|', '|ยอด|เงินออก|แล้ว|', '|jp|', '|k-check|', '|แจ้ง|ธนาคาร|', '|tisco|', '|ที่|จาก|', '|dca|', '|icbc|', '|ไม่ได้|', '|วัน|ทำการ|ครับ|', '|ขอบคุณ|มาก|ค่ะ|', '|เท่ากับว่า|', '|ใบ|ที่', 'เข้า|', '|ปี|', 'ขอ|สอบถาม|ผู้รู้|หน่อย|ครับ|', '|เปลี่ยน|', '|ระยะเวลา|', '|ธนาคาร|อื่นๆ|', '|555', '|อยากจะ|สอบถาม|ว่า|', '|เข้า|ใช้งาน|', '|ย|', '|พอ|มา|เจอ|ข้อความ|นี้|', '|ตอนนี้|ใช้|', '|bangkokbank|', '|ไม่ติด|บู|โร|', '|วัน|ที่', '|ออกมา|', '|จนถึง|ตอนนี้|', '|ลบ|', '|ใช้เวลา|ประมาณ|', '|สามารถ|', '|โทร|ไม่ติด|ครับ|', 'โทร|ไป|', '|ลด|', '|ต้อง|รอ|', '|yolo|', '|ตัว|ท้าย|', '|of|', '|เมื่อ|เวลา|', '|กด|โอนเงิน|', '|ตาม|ข้อ|', '|5500|', '|ธนาคารกรุงไทย|ได้|', 'ขอ|', 'callcenter|', '|เจอ|', '|ธนาคารกรุงไทย', '|4|g|', 'วันนี้|', '|ส่ง|มา|ว่า|', '|มี|นา|', '|ปีนี้|', '|scb-m|', '|โครต|เชง|', '|ขายของ|เช็ค|ยากมาก|ค่ะ|', '|105|', '|อย่างเดียว|', '|บัตรเครดิต|bbl|', '|ก็|ไม่มี|คนรับ|', '|sme|', '|จาก|ตู้', '|กว่า|ปีก่อน|', '|บัตร|อนุมัติ|', '|พอ|เข้าไป|จะ|สมัคร|จริงๆ|', '|ขอบคุณ|มาก|ครับ|', '|เงิน|จะ|เข้า|พรุ่งนี้|', '|ปิด|เครื่อง|', '|ไม่สามารถ|ทำ|รายการ|ได้|', '|แต่|ยอดเงิน|ไม่|เข้า|', '|แต่|ไม่มี|สมุดบัญชี|', 'สวัสดี|ครับ|', '|รอ|นานมาก|', 'สินเชื่อบ้าน_scb|', '|ๆ|', '|ตอนนี้|โต|แล้ว|', '|ทอง|', '|and|', '20|12563|', '|ไทย|', '|เป็นต้น|', '|เข้า|พร้อมเพย์|กรุงไทย|', '|บาท|ต่อ|ปี|', '|ยัง|ไม่ได้|', '|บลจ|', '|ใคร|เข้าระบบ|ได้|มั่ง|ครับ|', 'รอ|ประมาณ|', '|3500|', '|หักเงิน|ไป|แล้ว|', '|เบอร์|ผิด|', '|คือ|อยู่|ๆ|', '|weverse|', '|express|', '|scb_easy|', '|ของ|tmb|', '|บัญชี|ฝากประจำ|ของ|', '|กับ|กรุงไทย|', '|แต่|ยอดเงิน|ไม่|เข้า|ปลายทาง|', '|ไป|ตอน|', '|ก่อน|จะ|มี|โครงการ|พัก|หนี้|ของ|ธนาคาร|ต่างๆ|', '|ธัน|วา|', '|เฉลี่ย|', '|อัตโนมัติ|', '|55', '|และ|ไม่สามารถ|', '|ดูๆ|', 'กดเงิน|', '|2|', 'โอ๊ย|', '|เหมือนกัน|', '|pantip|', '|15|', '|ต่อ|ปี|', '|แย่|แย่|แย่', '|นาที', '|อยาก|บอก|ว่า|', '|โทร|หลาย|รอบ|', '|ปี', 'ltf|', '|2|-|4|', '|หรือ|บัตรเดบิต|', '|v|', '|ขึ้นไป|', '|220|', '|or|', '|บอก|อี|กว่า|', '|64', '|ซื้อของ|', '|ล่ม|หรอ|คะ|', 'grab|', '|กรอก|ข้อมูล|แล้ว|', '|3.5|', '|t-t', '|ออมทรัพย์|', '|ref|.|1|', '|โอนเงิน|', '|ฮือ', '|ไม่ได้|แล้ว|', '|ซึ่ง|', '|ล่ม|หมด|', '|อื่น|', 'นี้|', '|.|', '|แบบนี้|', '|อยาก|ทุบ|นัก|ไอ้|ต้าว|กระปุก|หมู|นี่|', '|ว่า|จะ|ไม่|สมัคร|อีกต่อไป|ละ|', '|กดเงิน|ไม่|ใช้|บัตร|ไม่ได้|ค่ะ|', '|ไป|ต่าง|ธนาคาร|', '|หัก|', '|ได้|ค่ะ|', '|ควย|', '|tmb_all_free|', '|ไม่ได้', '|แง|ง|', 'scb_easy|', '|ksme|', '|เดือดร้อน|มากๆ|', '|น.|', '|journey|', '|ภายใน|วัน|ที่', 'ทำไม|แอป|', '|300|', '|id|', '|comment|', '2.|', '|ล่ม|', '|ราคา|หุ้น|', '|ค|', '|ค|ห|', '|อยาก|ถาม|ว่า|', '|พ|รบ|', '|โอนเงิน|จาก|ธนาคาร|', '|โหลด|แอป|', 'ขอ|สอบถาม|คะ|', 'ถ้า|ใช้|', '|บัตรประชาชน|', '|ทุกเดือน', '|เรา|ใช้|', '|ตั้ง|นาน|', '|25|', '|ด้วย|ละ|อ่า|', '|เป็น|ส่วนลด|', '|อาทิ|', '|3|-|5|', '|ถ้า|ติด|แบล็คลิสต์|', '|ธนาคาร|ก็|ปิด|ทำการ|แล้ว|', '|แจ้ง|คอลเซนเตอร์|', '|กล|ต.|', 'ขออนุญาต|', '|17.00|', '|คือ|ยังไง|คะ|', '|ไม่|เข้า|', '|ไม่|ต่ำกว่า|', '|in|', '|kkp|', 'วันนี้|เวลา|', '|แต่|มี|', '|00.00|', '|ขีด|', '|สุดท้าย|', 'เปิด|', '|16.08|', '|luxe|', '|แบบนี้|ต้อง|ทำ|อย่างไร|ครับ', '|scb_thailand', '|เซ็ง|มาก', '|got|7|keepspinninginbkk|', '|อาทิตย์|ละ|', '|k|', '|ต้อง|ทำ|ยังไง|คะ', '|c|', '|เจ้าหน้า|ที่แจ้ง|ว่า|', '|เปิดบัญชี|กรุงไทย|', '|แต่กลับ|ไม่มีใคร|โทร|มา|ทวง|เลย|กลับเป็น|ส่ง|', '|เหอะ|ๆ|', 'ช่วงนี้|', '|เพราะ|บัตร|', 'โหลด|แอป|', '|ทำไง|ดี|คะ|', '|เมื่อคืน|', '|banks|', '|14000|', '|passion|', '|โต|ขึ้นมา|คุณ|เลย|เป็น|คน|รู้จัก|อดทนอดกลั้น|', '|ได้|หรือไม่|ครับ|', '|บ้าง|ครับ|', '9|', 'ณ|', '|เรื่อง|มีอยู่|ว่า|', 'เป็น|ลูกค้า|', '|เพราะ|มี|', '|เลย', '|เห็น|', '|ตอบ|โจทย์|ที่สุด|', '|ไม่|รองรับ|', '|android|', '|ไม่ได้|สักที|', '|ก็|ใช้|', '|อะไร|เนี่ย', '|8|-|9|', '|ต้อง|ใช้|บัตร|', '|ก็|เป็นส่วนหนึ่ง|ครับ', '|แล้วก็|', 'scbplanet|', '|กอง|', '|หลัก|', '|ระหว่าง|', 'k|8888|', '|unlock|', '|ก็|เข้า|ปกติ|', '|เป็น|อะไร|', '|ทำ|รายการ|ไม่|ตามเวลา|กำหนด|พ่อ|ง|มึง|ดิ', '|พอ|มี|โครงการ|พัก|หนี้|', '|username|', '|แสน', 'ส่วน|', '|ครบ|', '|นึกคิด|', '|6896|', '|weply|', '|โทร|ไป|แจ้ง|', '|ไป|ตู้', '2|8|', '|ไม่|ผ่าน|', '|ที่ธนาคาร|', '|ai|', '|ช่วย|หน่อย|ค่ะ|', '|แป๊บเดียว|ได้|เงิน', '|แสน|', '|แต่|เงิน|ไม่|เข้า', 'ปกติ|', '|แจ้ง|สำเร็จ|', '|ดาว|น|์|', '|2.5|', '|ต่อ|เดือน|', '|7|', '|0.01|', '|kt-ashare|', '|ครั้งแรก|', '|หรือ|ป่าว', '|bot|', '|ibank|', '|set|', 'มี|บัตรเครดิต|', '|เก็บ|ยิ่ง|นาน|', '|ดู|ครับ|', '|ใบ|ค่ะ|', '|1000000|', '|รอบ|แล้ว|ค่ะ|', '|gwallet|', '|ไม่ก็|', '|เดือด|ร้อนมาก|', '|ตาม|นี้|ครับ|', '|อีก|ประมาณ|', '|เบอร์|แปลก|', '|มูลค่า|', '|โทร|มา|', '|สมัคร|', '|สีเทา|', 'กัน|', '|rop|', '|มายัง|', '|เย็น|ๆ|', '|มา|ใช้|', 'citibank|', '|ktbnext|', '|เป๋า|ตัง|', '|ทาง|เพจ|', '|slip|', '|8000|', '|foodpanda|', '|รวม|', '|edc|', '|แล้ว|', 'next|', '|ทำ|ยังไง|ดี|ครับ', '|a|', '|เที่ยงคืน|', '|คือว่า|', '|ยัง|เป็น|', '|scblt|2|', '|ป|ต|ท|', '|เสีย|', '|สถาบันการเงิน|ชื่อดัง|', '|ไม่ต้อง|ผูก|ใหม่|', '|จอง|', '|แอ๊ป|', '|เสือก|บอก|ให้|กุ|ไป|ขอ|รหัสพิน|กับ|ธนาคาร|', 'จริง|', '|ได้|เลย', '|25000|', '3|', '|เสีย|ค่าธรรมเนียม|อีก|', '|ไป|ครับ|', '|ขอนแก่น|', '|ltf|', 'ใช้|', '|uob_privimile|', '|0.5|', '|ง่าย|ดี|', '|นี้|', '|แอป|เป๋า|ตัง|', '|it|', '|ของ|ธนาคารเพื่อการเกษตรและสหกรณ์การเกษตร|', '|เดบิต|', '|bdms|', '|tmb_touch|', '|กดเงิน|ไม่ได้|', '|วัน|ครับ|', '|30|-|45|', '|เข้าบัญชี|', '|ด้วย|', '|กว่า|บาท|', '|ต้อง|', '|bls|', '|091|', '|เพราะ|เรา|', '|เยอะมาก|', '|อ่ะ|ค่ะ|', '|งง|', '|คัน|', '|วัน|แล้ว|', '|ต้อง|ทำไง|ค่ะ|', 'เป็น|เหมือนกัน|เลย|ครับ|', '|ตาม|หัวข้อ|เลย|ค่ะ|', '|ใช้ไม่ได้|', '|reward|', '|ฯลฯ|', '|2700|', '|ไม่มี|', '|ค่ะ|.|', '|เบื้องต้น|', '|แก้ไข|', '|เอา|ง่ายๆ|', 'tmb_all_free|', '|เดี๋ยว|นะ|', '|ที่ผ่านมา|', 'ธนาคาร|', 'ของ|เรา|', '|เลย|ค่ะ|', '|ไม่มี|บัตร|', '|ผ่านไป|', '|umay|', '|ใน|ใบแจ้งหนี้|จ่าย|', '|ทำ|ยังไง|ก็|ไม่|ผ่าน|', 'weply|', '|ม.|ค|', 'ปิดบัญชี|', 'kbank|ค่ะ|', '|26|', '|บ้าง', '|truemoney|', '|ไม่มี|สลิปเงินเดือน|', '|kbank|เอาเปรียบ|บ|ลิงค์|', '|24000|', '|the|1|', 'วันนี้|ตอน|', 'ติดต่อ|เจ้าหน้าที่|', '|มีปัญหา|', '|vs|', '|ได้|ไหม|ครับ|', '|จะ|กู้เงิน|ใน|ไลน์|', '|ผ่าน|ไหม|ค่ะ|หรือ|ใคร|เคย|กู้|บ้าง|เล่า|ประสบการณ์|', '|internetbanking|', '|gbp|', '|และ|บัตร|กดเงิน|', '|asia|', '|ถือ|ยาว|', '|ครั้งละ|', '|ผู้จัดการ|', '|the|', '|115000|', '|พอๆ|', '|3|-|4|', '|code|', '|no|', '|ตอนนี้|คือ|', '|mpass|', 'อยู่ดีๆ|', 'มีเงิน|เข้ามา|', '|ทำไง|ได้|บ้าง|คะ|', '|scbsete|', '|cancel|', '|ลงท้าย|', '|ครับ', '|rungruang|', '|ตัด|', '|หน่อย|ค่ะ|', '|ได้|ค่ะ', '|care|', '|society|', '|ประมาณ|', '|40|k|', 'สอบถาม|ธนาคาร|', '|easynet|', '|เช็ค|จะ|', 'cigna|', '|20930|', '|ไป|คะ|', '|update|', '|planet|', '|ทั้งหลาย|', '|รอ|ผล|', '|คลิก|เพื่อ|ดู|ข้อความ|ที่ซ่อน|ไว้|', '|สลาก|ธนาคารเพื่อการเกษตรและสหกรณ์การเกษตร|', '|399|', '|ไหม|ค่ะ|', '|mail|', '|ไป|เลย|', '|snoopy|', '|นี่แหละ|', '|ยู|เมะ|', 'พรุ่งนี้|', '|พูด|แล้ว|ทั้ง|เศร้า|ทั้ง|โมโห|', '|ม.|ค.|', '|ที่|บริษัท|', '|badservice', '|ช่วงเวลา|', '|opd|', '|โทร|ถาม|', '|เพราะ|บัตร|กรุงไทย|ตัวต้นเหตุ|เลย|', '2|9|', '|กรุงไทย|ล่ม', '|ชื่อบัญชี|', '|ตอน|ตี|', '|รอบ|ละ|', '|แอป|เป๋า|ตังค์|', '|ก็|ยัง|รู้สึก|ยุ่งยาก|และ|', '|1000|', '|เอง|', 'ไป|ขอ|สินเชื่อ|', '|เร็วๆ|', '|บช.|', 'kept|', '|กรุงไทย|เลย|', '|20.00|', '|2563|', '|retention|', 'ส่วน|บัตร|', '|30|k|', '|จริงๆ', '|ก็|คือ|การทำ|ธุรกรรมออนไลน์|ผ่าน|ค|อม|ผ่าน|เวป|', '|ล่ม|เก่ง|', '|kbank|ไป|', '|น', '|dec|', '|ready|', '|spoil|', 'อยากให้|', 'ใน|แอป|', '|หักบัญชี|', 'ขอบคุณ|ค่ะ|', '|งง|มาก|ครับ|', '|scbx|', 'เมื่อ|เช้า|', '|wisdom|', '|ขออภัย|', '|จำนวน|', '|หน่วย|ละ|', '|อายัด|บัตร|', '|ไปที่|สาขา|', '|เหลือ|แต่|', '|ธนาคาร|แบบนี้|', '|ผม|อายุ|', '|ถาม|ทาง|', '|แล้ว|เรา|ลงทะเบียน|ไป|วัน|ที่', 'น่าจะเป็น|', '|โอน|ไป|', '|truemoneywallet|', '|ไป|แจ้งความ|', '|dm|', 'มีปัญหา|ใน|การ|เปิดบัญชี|', '|ขอโทษ|นะคะ|', '|เอง|ค่ะ|', '|สงสัย|', '|ผม|ต้อง|ทำ|ยังไง|ครับ', '|เงินเข้า|ทันที|', '|มกราคม|', '|ขอบคุณ|ครับ|', '|แปลกๆ|', '|ระบบ|เป็น|อะไร|ครับ|', '|--', '|ครั้ง', '|1900|', '|สอบถาม|', '|robo|', '|gulf|', '|เป็น|งง|', '|copy|', '|due|', '|ตัดยอด|ทันที|', '|scbtmf|', '|11|', '|transfer|', '|kma|', '|ใหม่ๆ|', '|อิ|', '|รี|ไฟแนนซ์|', '|ไหน|ๆ|', '|tmrw|', '|แต่|เงิน|ไม่|เข้า|ครับ|', '|คนละ|ครึ่ง|', '|ใช้|', '|ktb', '|ขอบคุณ|มากๆ|', '|หลัง|', '|ช่วงนี้|', '16|', '|งวด|ที่', '|กอง|เดิม|', '|งง', '|tg|', '|เช็คยอด|', 'ของ|', '|นั่ง|', '|หายไป|ไหน|', 'กรุงเทพ|', 'รบกวน|', '|เอา', 'บัตรเครดิต|bbl|', '|รอบ|นี้|', '|เสี่ยว|มี่|', '|krungsri_jcb|', '|บ่าย|', '|7000|', '|หมดอายุ|', '|verify|', '|แก้ไขปัญหา|ให้|เสร็จ|ภายใน|', '|ฮ่องกง|', '23|', '|ไทยพาณิชย์|', '|ถ|', 'mon|', '|เรา|ได้|ทำการ|โอนเงิน|จาก|gsb|ผ่าน|', '|arkk|', '|12|', '|ล่ะ|', '|แลกเงิน|ตาม|โป|ร|', '|safari|', '|ไม่มี|เลย|', '|รบกวน|ด้วย|นะคะ|', '|cvc|', '|วัน|นะคะ|', '|บ้าง|ค่ะ|', '|เงิน|ไม่|ออก|', '|โอน|เมื่อวาน|ตอน|', '|dolfin|', '|ขอบคุณ|ล่วงหน้า|ค่า', '|จนถึง|บัดนี้|', '|โยน|ไป|', '|กัน|แน่|', '|1|-|2|', '|ตอนนี้|ก็|ติดต่อ|สาขา|เจ้าของ|บัญชี|', '|6|', 'อ่ะ|', '|จุด|', '|honda|', '|ทาง|', '|มา|ที่|เบอร์|', '|ม|ค|', '|มิถุนายน|', '|ขอ|สอบถาม|หน่อย|ค่ะ|', '|แบบ|ครับ|', 'พร้อมเพย์|ต้อง|ไป|ติดต่อ|กับ|ธนาคาร|เจ้าของ|บัญชี|เพื่อ|ลงทะเบียน|ผูก|บัญชี|เข้ากับ|หมายเลขโทรศัพท์|ครับ|', 'จ่ายเงิน|', '|คำถาม|คือ|', '|bitcoin|', '|ไป|', '|ได้|เลย|ค่ะ|', '|18|', '|momo|', '|2.3|', '|คำถาม|', '|ดอก|', 'อยากทราบ|ว่า|', '|ตอนนี้|เหลือ|', '|travel|', '|เมษา|', '|paotang|', '|เวลา|ไหน|', '|หมายเลข|อ้างอิง|', '|วีซ่า|', '|เวลา|ติดต่อ|', '|จาก|บัญชี|', '|ไหม|ครับ', '|คน|ทำคนเดียว|กัน|เหรอ|', '|จะ|ยกเลิก|สิทธิ์|', '|yen|', '|เปิด|', '|เรื่อง|แอป|', '|got|7|keepspinninginbkk', '|สิ|ครับ|', '|เป็นหลัก|', '|ชิม|ช้อป|ใช้|', '|-', '|ของ|วันนี้|ให้|ลอง|เช็ค|ที่|บัญชี|ปลายทาง|ก่อน|ถ้า|ไม่|ได้รับ|ก็|ให้|เช็ค|พรุ่งนี้|อีกที', '|ก็|ยัง|ไม่|เข้า|', '|อ้อ|', '|แล้ว|ค่ะ|', '|ยัง|มี|', '|จ้ะ|', '|ไม่ทราบ|ว่า|', '|จนถึง|วันนี้|', '|สำเนา|บัตร|', '|pos|', '|ทาง|ธนาคาร|', '|อันนี้|ไม่|รู้ว่า|สรุป|เป็น|ยังไง|บ้าง|', '|แบบ|ใช้|', 'ผม|ใช้|', '|kfc|', '|ธนาคาร|ล่ม|', 'tmb_touch|', '|พฤศจิกายน|', '|center|', '|จบ', '|5000', '|ต่างประเทศ|', '0|', '|เลย|นะคะ|', '|170|', '|ยกตัวอย่างเช่น|', '|ทำไม|นาน|จัง|', '|ก็|คือ|', 'ที่|เรา|', '|banking|.|', '|โทร|ไปหา|', '|อีก|อย่าง|', '|เสร็จ|', '|รอ|นาน|ที่สุด|คือ|', '|โทร|หา|', '|ไม่|เกี่ยวข้องกับ|ข้อมูล|เครดตบู|โร|', '|browser|', '|สะดวกมาก|', '|ทำ|เรื่อง|', '|เหรียญ|', '|ipad|', 'ขอบคุณ|มากๆ|', 'มือถือ|จีน|', '|ต่อ|', '|กู้ร่วม|ได้|', '|ไหม|คับ', 'ktb|', '|ก็|เป็น|', '|โอเค|', '|เจ้าหน้าที่|โทร|มา|ทวง|ค่าบริการ|ชำระ|', '|lounge|', '|banking', '|ธนาคาร|หยุด|ไหม|คะ|', '|แน่นอน', '|ไฟล์|', '|รบกวน|แนะนำ|ด้วย|นะคะ|', '|ป่า|รอยต่อ|', '|หมุนเวียน|และ|', '|พอร์ต|', '|note|', '|cp|', 'จ่าย|', '|กู|', '|บ.|ช|.|', '|ผ่าน|มือถือ|ผ่าน|แอป|', '45|', 'ทำ|ประกัน|', '|pro|', '|ตอนนี้|เงินเดือน|', '|krungthai_axa|', '|เป็นไร|วะ|', '|ktbnetbank|', '|ใดๆ|', '|ตอนนี้|วัน|ที่', '|ที่ไหนได้|', '|เซ็ง|', '|ยัง|เป็น|นิสิต|อยู่|', '|ก็|มี|', '|โดยที่|เรา|ไม่ได้|เข้า|', '|อี|หน้า|เหี้ย', '|bank|', '|แม้แต่|บัตร|', '|มี|หนี้|บัตร|', '|e-mail|', 'สมัคร|บัตร|', '|1.30|', '|ใช้ได้|', '|ฝ่าย|สินเชื่อ|', 'ป|ล.|', '|btc|', '|e-saving|', 'ktc|', '|จริง|ค่ะ|', '|หัก|ต้น|ไป|แค่|เดือน|ละ|', '|โทร|สอบถาม|กับ|bbl|', '|mou|', '|ปล่อย|', '|ส่วน|ที่|ไม่ต้อง|เป็น|ผู้โดยสาร|ก็|เข้าไป|ใช้บริการ|ได้|', '|100|', 'ดอกเบี้ย|ออมทรัพย์|', '|บางที|', '|เอ่อ|', '|เข้า|เมื่อกี้|เลย|', '|aot|', '|หมด|เลย|', '|ต้อง|ไป|สาขา|', '|มี|แล้ว|', '|scbm|', '|10000|', '|scb|.', '|mi|', '|เนื่องจาก|เรา|ย้าย|มา|อยู่|', 'โอน|จาก|กรุงไทย|', '|วอ|ล|เลต|', '|กับ|bay|', '|อยู่|ไหม|คะ|', '|one|', 'โดน|', '|ตก|', '|ก็|เสือก|ไม่|เข้า|', '|ได้รับ|', '|ฆ|ษ|ณ|', '|ได้|ไหม', 'มี|', '|โอนเงิน|ไม่ได้|', '|leasing|', '|ขออนุญาต|', '|mint|', '|ให้|', '|เรา|ก็|งง|', '|ace|', '_', '|แอป|ล่ม|หรอ|', '|ไม่|ช่วย|อะไร|เลย|', '|โปรด|ยืนยัน|ตัวตน|', '|พ.ย.|', '|ใน|', '|ไม่ต้อง|ชำระ|', '|แล้วจะ|ให้|ทำ|ยังไง|ได้|บ้าง|ครับ|', '|บ|ลา|', '|ไม่มี|สลิป|', 'chanathammakhon|', '|ข้าราชการ|', '|ป|ล|', '|บิ๊ก|ซี|', '|หลัง|วัน|ที่', '|นะ|จ๊ะ', '|wha|', '|ทั้งๆ', '|ทำไม|เงิน|ไม่|เข้า|', '|ธนาคาร|เลย|', '|แต่|บัญชี|ปลายทาง|ไม่ได้|รับเงิน|', '|scb_jcb|', '|เรา|ก็|โทร|เข้าไป|อีก|', '|เฟส|', '|default|', '|จะ|', '|ไง|', '|book|', '|แต่|ไม่|เข้า|บัช|ชี|', 'ติดต่อ|', '|ไม่ต้อง|ไป|ธนาคาร|', '|เงิน|ยัง|ไม่|เข้าบัญชี|', '|ทวง|แทน|', '|proud|', '|kbank_wisdom|', '|ดอกเบี้ย|ยิ่ง|เยอะ|ค่ะ', '|มา|ครับ|', '|080|', '|customer|', '|หมายถึง|', '|thai|', '|เท|ค|ไป|', '|ก็|ไม่|เข้า|', '|play|', '|ตามปกติ|', '|ใคร|รู้|บอก|หน่อย|นะคะ|', '|ขอบคุณ|มาก|ค่ะ', '|ค่า|ประเมิน|', '|connect|', 'ถาม|', '|พ|.ย|', '|รอบ|แล้ว|', '|บาง|สาขา|', '|number|', '|ฮา|ๆ|', '|แต่|ประเด็น|คือ|', '|นาที|แล้ว|', '|29|', '|ปี|ครับ', '|ยากมาก|', '|18.00|', '|link|', '|k-bank|', '|แทน|', '|จะ|โดน|หัก|ดอกเบี้ย|รายวัน|ไหม|ครับ|', '|40000|', '|แต่|ทาง|', '|waive|', '|5000.|-|', '|คะ|', '|อะ|ค่ะ|', '|touch|', '|23|', '|premier|', '|เรียกว่า|', '|รึ|', 'มี|บัตร|', '|ต่อมา|', '|ใน|สาขา|', '|เหลือ|ง|', '|ต้อง|ทำ|ยังไง|ครับ|', '|และ|', '|ปิดบัญชี|', '|ยัง|ไม่|เข้า|เลย', 'krungsri|', '|เอง|ครับ|', '|ด้วย|ไหม|', '|อยาก|ร้องไห้|', '|ประกัน|สุขภาพ|', 'เรา|ใช้|', '|แต่|บัญชี|ปลายทาง|ไม่|ได้รับ|ยอด|', '|ctw|', '|ส่ง|มา|', '|k-esaving|', '|ธนาคาร|ค.|', '|เดือนก่อน|', '|กี่|', '|ไฟ|', '|ปี|กว่า|แล้ว|', '|ลูกค้า|โอน|จาก|', '|หรือ|ไม่มี|', 'รอสาย|', '20|', '|ดู|', '|ด้วย', '|พนักงาน|ชาย|', '|ล่ม|อี|ควาย|', 'scb_connect|', '|41000|', '|2020|', '|gsb', '|ขัดข้อง|', '|ฟ|รีๆ|', '|traveloka|', '|citibank|', '|แจ้งเตือน|', '|ฮัลโหล|', '|ขึ้น|รหัส|', '|เบี้ยประกัน|', '|ของ|บัญชีธนาคาร|นิติบุคคล|ที่|ปิด|ไป|แล้ว|ต้อง|ทำ|อย่างไรบ้าง|คะ|', '|อืม|', 'เมื่อ|วัน|ที่', '|kerry|', '|จาก|', '|scan|', '|ซึ่ง|ไม่|ตรงกับ|ที่|โครงการ|ดีล|ไว้|เลย|ครับ|', '|หักเงิน|อัตโนมัติ|', '|ไม่สามารถ|ทำ|รายการ|ทางการ|เงินได้|ในขณะนี้|', '|60|', 'ออกๆ|', '|ผล|ปรากฏ|ว่า|', '|code', '|จะ|ได้|เตรียม|เอกสาร|ไป|ให้|ถูก|ครับ|', '|ก็|ติดต่อ|ไม่ได้|', '|20|', '|ชำระเงิน|', '|เช่นกัน|ค่ะ|', '|แปล|ว่า|', 'kbank|', '|ไม่ได้|ใช้|', '|เอทีเอ็ม|', '|counter|', 'หนี้|', '|ตั้งแต่|ปี|', '|gen|', '|62|', '|scb|ค่ะ|', '|rejected|', '|ต|ค.|', '|เลว|', '|2021|', '|citi_ready|', '|จน|วัน|ที่', '|ผิด|', '|จำเป็นต้อง|ใช้|เงิน', 'รีวิว|', '|ของ|บัญชี|', '|คะ', '|covid|19|', '|ของ|ทั้ง', '|น้อง|', '|ต้อง|ทำไง|ค่ะ', '|2.49|', 'สอบถาม|เพื่อน|ๆ|', '|มัน|', 'ทุกคน|', '|สัปดาห์|', '|ยัง|ไม่|เข้า|เลย|ครับ', '|jitta|', '|รำคาญ|', '|ธนาคาร|ธนาคารเพื่อการเกษตรและสหกรณ์การเกษตร|', 'โป|ร|บัตร|', '|ขาย|', '|เหม่อ|', '|1333|', '|แบบนี้|เรา|ทำ|ยังไง|ได้|บ้าง|คะ|', '|scb', '|ของ|ทหาร|ไทย|', '22|072019|', '|สวัสดี|ครับ|', '|ไป|พร้อมเพย์|ผูก|กับ|', '|km|', '25|320|', '|next|', '|contactless|', '|หรือ|กี่|ปี', '|ของ|', '|เกิด|จาก|อะไร|คะ|', 'แอป|', '|อนุมัติ|แล้ว|', '|40|', '|จะ|ผ่าน|ไหม|', '|ฝาก|เบอร์|โทร|กลับ|', '|password|', 'เรา|สมัคร|', '|ใช่|ๆ|', '|มี|.ค|', '|ดีกว่า|', '|scbset|50|', '|จริงๆ|', '|อยู่|', '|ก็|ให้|ติดต่อ|', '|ไร|งี้|', '|รีวิว|เกาหลี', '|ลอง|ไป|ศึกษา|ดูก่อน|', 'รบกวน|สอบถาม|ครับ|', '|1115|', '|นี้|ก็|', '|ธนาคาร|แจ้ง|ว่า|', '|แค่|ยื่น|บัตร|ให้|', '|เป็น|อะไร|อีก|', '|ไป|อีก|', '|ลงทุน|', '|ทั้ง|ทาง|', '|for|', '|แก้|ด่วน|', '|และ|ใช้|วงเงิน|ค้ำประกัน|ต่ำสุด|กี่|บาท|ได้|บัตร|ประเภท|ไหน|บ้าง|ครับ', '|ใช้ง่าย|', '|ได้|หรือไม่|คะ|', 'โอนเงิน|พร้อมเพย์|จาก|', '|ดีมาก|เหมือนกัน|', '|oppo|', '|สมาชิก|ว่า|', '|ชาติหน้า|คะ|', '|เป็น|เหมือนกัน|ค่ะ|', '|2545|', '|eur|', '|ขอให้|', '|สอง|รอบ|ละ|ที่|ส่ง|', '|ขอ|', '|80|', '|66|', '|16|', '|ร้องไห้|', '|ไม่เข้าใจ|ว่า|', '|ขอบคุณ|คะ', '|ktb|.|', '|ห่วย|', '|โอ้|ย|', '|สัก|', '|หลังจาก|', '|cc|', '|ไป|ไหม|นะ|', '|ไม่|ขึ้น|ใน|', '|มัน|มีระบบ|คล้ายๆ|', '|premium|', '|airpay|', '|ลง|', 'ซื้อ|', 'kplus|', '|ออนไลน์|', '|device|', '|cost|', '|นะคะ|', '|แต่|เงิน|ไม่มี|เข้าบัญชี|', '|ยัง|เข้า|ไม่ได้|', '|nzd|', '|life|', '|63', '|ซวย|ๆ|', '|คล้ายๆ|', '|ค่า', 'น้อยๆ|', '|แค่นั้น|', '|ต้อง|รอ|ตรวจสอบ|', '|ค้าง|', '|ตัดเงิน|ใน|บัญชี|แล้ว|', '|วัน|ถัดไป|', '|ได้|เลย|', '|60000|', '|แสน|ต่อ|เดือน|', 'คือว่า|ผม|สั่งซื้อ|', '|เงิน|เยียวยา|', 'วันนี้|ไป|ธนาคาร|ถาม|พนักงานธนาคาร|ถึง|การ|นำส่ง|ข้อมูล|บัญชีเงินฝาก|ไปยัง|กรมสรรพากร|ที่|มีเงื่อนไข|ว่า|รับ|โอน|', '|ใบ|ของ|kbank|ครับ|', 'ไป|เปิดบัญชี|', '|เงิน|ไม่|เข้า|ค่ะ|', '|เป็น|อะไร|อ่ะ|', '|เครื่อง|เก่า|', '|passport|', '|google|', '|และ|แอป|', '|ง|', '|ประทับใจ|', '|นานมาก|', '|sq|', '|ลำ|ลูก|กา|', '|หน่อย|', '|แต่|ไม่|สามารถทำได้|', '|ถูก|', 'แย่|', '|ได้|ดอก|', '|กรุงไทย|ด้วย|', '|ไว้|ก่อน|', '|expense|', '|อย่างเช่น|', '|ทำไง|ดี', '|ref|', '|ไม่ได้|เลย|', '|chat|', '|2692|', '|ไม่สำเร็จ|', '|เงินฝากประจำ|กรุงไทย|', '|หายไป|', '|5.|', '|แต่|ใช้ไม่ได้|คะ|', '|tech|', '|12.00|', 'วันนี้|แอป|', 'โอน|เงินเข้า|', '|debit|', '|app', '|ค่ะ|', '|paste|', '|product|', '|นะ', '|แต่|อยู่ดีๆ|', '|.|co|.|th|', '|2557|', '|bay', '|เดือน', '|scbset|50|e|', '|ไป|เข้าบัญชี|', '|แต่|บัตรเครดิต|', '|bts|', '|1800|', '13|', '|trade|', '|72|', '|คลิก|เพื่อ|ดู|ข้อความ|ที่ซ่อน|ไว้', '|ดอกเบี้ย|ใน|เอกสาร|ใบแจ้งหนี้|', '|การ|ขอ|เพิ่มวงเงินถาวร|', '|ติดต่อ|ธนาคาร|เจ้าของ|บัตร|', '|uninstall|', '|sbc|', '|scb|.|', '|ดู|สรุป|ยอด|ซื้อ|', '|ธนาคาร|คือ|', '|ยกเลิก|', '|ก็|ไม่มี|ยอด', '|เปิดบัญชี|', '|ปิด|', '|สามารถ|จ่าย|ผ่าน|', '|รบกวน|ด้วย|ครับ', '|แต่|ไม่มี|บัตร|', '|ใน|วัน|ที่', '|xpress|', '|ปี|แล้ว|', '|ไป|ติดต่อ|ธนาคาร|', 'scbs|', '|press|', '|โค|วิท|', '|ครึ่ง|ชั่วโมง|', '|เอ้า|', '|pay|', '|บาท|ผ่าน|พร้อมเพย์|', '|ของ|bbl|', '|coins|', '|35000|', '|4|-|5|', '|ครั้ง|และ|ยอดเงิน|', '|บาท|ค่ะ', '|เกิน|', '|รอง|มา|', 'ตู้|', '|พัน|บาท|', '|อยาก|รู้ว่า|', '|ขอบคุณ', '|เป็น|ตั้ง|แตา|ก่อน|มี|กระแส|', '|หรือ|มากกว่า|', '|เบอร์|โทรศัพท์|', '|first_choice|', '|รบกวน|', '|ขอคำแนะนำ|หน่อย|ค่ะ', '|คนละ|ครึ่ง|เฟส|', 'bbl|', '|500|-|600|', '|ทาง|ออนไลน์|', '|ขอบคุณ|มาก|ครับ', '|บาง|ธนาคาร|ต้อง|ใช้|', '|ปลายทาง|', '|กัน|', '|1200|', '|ที่|ชำระเงิน|', '|120|', '|นะ|ครับ|', '|ป|ล.|', '|เคพลัส|', '|master|', '|หัว|เว่ย|', '|ณ|', 'ตู้', 'atm|', '|ก็ได้|นะ|', '|ขอบคุณ|ค่ะ', '|ล่ม', '|kbankxblackpink|', '|ก่อน|ครับ|', '|ค่าธรรมเนียมรายปี|', 'ธนาคาร|อื่น|', '|ตัดยอด|', '|ลอง|', '|net|', 'อ|ห|', '|29000|', '|มัน|ของ|', '|ก.|ย|.|', '|อยาก|', '|ไปรษณีย์|', '|แง|', '|class|', '|10.32|', '|23163|', '|ทำ|', '|เอง', '|วันนี้|ระบบ|ของ|ธนาคาร|ปรับปรุง|เหรอ|คะ|', '|เท|วินทร์|', '|ไม่|เลย|', 'สรุป|', '|ต่างๆ|', 'แต่|', '|ตู้|', '|ไม่|หยิบ|เงิน|ออกจาก|ตู้|', '|ยัง|ไม่ได้|คุย|กับ|เจ้าหน้าที่|เลย|', '|cashback|', '|เงินเข้า|ปกติ|', '|ส่วน|', '|ว|ด|ฟ|', '|ได้|ดอกเบี้ย|อยู่|', '|คุย|กับ|', '|pvd|', '|ใช่ไหม|', '|k-cyber|', '|bk|', '|ปกติ|ที่|ถอน|คือ|', 'จำได้|ว่า|', '|จะ|มี|', 'สวัสดี|', '|แอป|ธนาคาร|', '|หรือไม่|', '|ประทับใจ', '|ขึ้นมา|', '|vpn|', '|โดย|', '|แบงก์|', '|โดยที่|ไม่ต้อง|ไป|ธนาคาร|', '|tmb|', '|เรา|ไม่|ทิ้ง|กัน|', '|2018|', '|ตลอด', '|mask|', '|เมื่อก่อน|', '|นั่น|คือ|', '|34|', '|เอา|จน|ว่า|รำคาญ|', '|เลย|ด้วย|', '|บาท|ทุกเดือน|', '|ละ', '|ก่อน', '|ไม่|ได้รับ|', '|ข้อเสีย|', '|เหลือ|แค่|', '|จ่าย|รายเดือน|', '|ช|', '|กู้|คนเดียว|', '|ใน|เวลา|', '|เช็ค|', '|สำนักงานใหญ่|', '|เจ|', '|9|', '|pass|', 'call_center|', '|จบ|ข่าว|', '|ของ|บัตรเครดิต|และ|', '|เข้า|แอป|', '|smart|', '|รบกวน|ช่วย|หน่อย|นะคะ', '|เป็นไร|อ่ะ|', '|ของ|kbank|', '|แรกๆ|', '|รายเดือน|', '|เฮงซวย', '|แล้ว|ครับ|', '|ธนาคาร|ไหน|', '|มี|ไหม|', '|cigna|', '|กด|', '|11.00|', '|บาท|แล้ว|', '|ผ่าน|', '|ก|ย|ศ.|', '|บาท|ไทย|', '|นานๆ|', '|พัก|ชำระหนี้|', '|ของ|ตัวเอง|', '|passbook|', '|privilege|', '|เติมเงิน|ไป|', '|ไม่|ผ่าน|เกณฑ์|', '|ดี|ไหม|คะ|', '|สรุปว่า|', '|ไม่|', '|เน็ต|ก็|ไม่ได้|', '|นี่|โอน|จาก|', '|ได้|ไหม|ค่ะ', '|หลาย|รอบ|มาก|', '|แย่มาก|', 'แอป|เป๋า|ตัง|', '|เพราะอะไร|', '|17|', '|แม่|', '|ขอ|เอกสาร|เพิ่ม|', '|จะ|มีโอกาส|ผ่าน|ไหม|ครับ|', 'งง|มาก|', '|ไลน์|', '|atmdebit|', 'sms|', '|ครั้ง|ตอนนั้น|', '|เป๋า|ตัง', '|เงิน|ไม่|เข้า|เลย|ครับ|', '|35|', '|180|', '|ใช้งาน|ไม่ได้|', '|แบบ|', '|ทุก|ธนาคาร|', '|เรียน|', 'คุณ|', '|ส่ง|เอกสาร|', '|มี|การ|เรียกเก็บ|ค่าธรรมเนียมรายปี|', '|แล้ว|โหลด|แอป|', '|โทร|', '|merchant|', 'เติมเงิน|จาก|', '|อยู่ดีๆ|', '|เช็ค|สถานะ|', '|ผล|คือ|', 'โทร|', '|ไม่มี|กำหนด|หมดอายุ|', '|platinum|', '|ใบ', '|kce|', 'พอดี|', '|digital|', '|พ|น.|', '|ไม่มีปัญหา|เลย|', '|อยู่|ครับ|', '14|', '|กับ|รหัส|', '|สมัคร|ผ่าน|', '22|1163|', '|เจ้าหน้าที่|เต็ม|ทุก|คู่สาย|', '|จ้า', '|มี|ค|', '|สะดวก|', '|shopee|', '|ที่|เป็น|', 'ควย|', '|ใคร|เป็น|บ้าง|ครับ|', '|sietongkum|', '|แจ้ง|ว่า|ระบบ|มีปัญหา|', '|แต่|เงิน|ยัง|ไม่|เข้า|', '|ในช่วง|', '|ขึ้น|', 'ประกัน|', '|งง|เลย', '7|', '|บอก|', '|บอก|ระบบ|ยังไม่เสร็จ|', '|ติดต่อ|ไม่ได้|', '|เมื่อ|', '|ลด|ๆ|', '|จะ|ผ่าน|ไหม|ครับ|', '|เติม|จาก|', '|พนักงาน|บอก|ว่า|', 'โอ้|', '|สีม่วง|', '|หมด|', '|โทร|เป็น|ชาติ|', '|aliexpress|', '|รองรับ|', '|ซิ|ตี้|', '|ตอน|จำเป็นต้อง|ใช้|', '|รอบ|', 'อยาก|สอบถาม|ว่า|', '|ต้อง|ยืนยัน|', 'ขอ|สอบถาม|หน่อย|คะ|', '|ที่|จ่าย|', '|อายุงาน|', '|แอร์|เอเชีย|', '|เมษายน|', '|กุม|ภา|', '1555|', '|จะ|ไม่|ปรับ|สลิป|จิงอ่อส|ลิบ|เอ้|ม|แบงก์|กิ้ง|คือ|ไป|พัก|', '|2300|', 'สินเชื่อ|', '|อยากจะ|ผ่อน|คอน|โด|ราคา|', '|emoji|', '|สินเชื่อรถยนต์|', 'โอนเงิน|จาก|แอป|', '|แอป|กรุงไทย|', '|ฉะนั้น|', '|ไม่|เสีย|ค่าธรรมเนียม|', '|วันนี้|ครบ|', '|โดน|ไป|', '|bay|ไม่มี|บัญชี|', 'มึง|', '|5|-|10|', '|อย่าง|เรา|มี|kbank|', '|ตั้งแต่|วัน|ที่', '|investment|', '|จะต้อง|รอ|ถึง|เมื่อไหร่|', '|โค|วิค|', '|โมโห', '|2645|', '|ผ่าน|ทาง|', '|ละ|เพิ่ม|', '|ชอบมาก|', '|family|', '|หงุดหงิด', '|sa|', '|จ่ายเงิน|', '|จ่าย|ไป|', '|inbox|', '|7|-|8|', '|เพราะ|เงิน|ออกจาก|ธนาคารกรุงไทย|แล้ว|ครับ|', '|ทหาร|ไทย|', '|atm', 'paotang|', '|ผม|', '|บัญชี|ปลายทาง|', '|blackpink|', '|โทร|มา|แจ้ง|ยอด|ชำระ|ค่างวดรถ|วัน|ละ|', '|ลุ้น|', 'scb|', '|หมายเลข|', '|ไป|ยืนยัน|ตัวตน|ที่|ตู้', 'บัตร|', '|first|', '|ยัง|', 'สอบถาม|คะ|', '|บอก|ว่า|', '|เลขบัญชี|', '|โอน|เมื่อ|วัน|ที่', '|1.6|', '|เร็วๆ', '|มา|ดู|', '|เป็นบ้า|หรอ|', 'มี|เบอร์|', '|kbank|', '|เพราะว่า|', '|เร็วมาก|', '|ต้อง|ติดต่อ|', '|ขอบคุณ|คับ', '|ตกลง|', '|ราคา|บ้าน|', '|หมดแล้ว|', '|วินาที|', '|จ่ายเงิน|ไม่ได้|', '|แล้ว|รอ|', '|2600000|', '|หมดความอดทน|', '|ฝากเงิน|', '|หรือไม่ก็|อัน|ที่|เทียบเคียง|คับ|', '|เปลี่ยนเป็น|', '|สูงกว่า|', '|เงิน|ไม่|เข้า|ครับ|', '|สอง|ล้าน|', '|xx|', '|ก็|ปิด|', '|ชำระ|', '|อยากได้|', '|แต่|ก็|นั่นแหละ|', '|สถานะ|เหมือนเดิม|', '|netflix|', '|เข้า|ทุกเดือน|ไม่ค่อย|มีเงิน|นิ่ง|ๆ|', '|ผม|เปิดบัญชี|ตั้งแต่|วัน|ที่', '|รบกวน|ตรวจสอบ|ให้|ด้วย|ครับ|ฝ', '|add|', '|ว่า|เพราะอะไร|', '|พูด|ง่ายๆ|', '|ตู้|แต่|ไม่มี|แบงก์|ย่อย|จ่าย|เลย|', '|สัญญา|ผูกพัน|ธ|์|กับ|ธนาคาร|', '|ครึ่ง|', '|มี|บัตรเดบิต|', '|ต้อง|ทำ|ยังไง|บ้าง|คะ|', '|50000|', '|reference|', '|ของ|ธนาคาร|', '|เลข|อ้างอิง|', '1|', '|ทำไง|ดี|ค่ะ', '|jlpt|', '|11000|', '|ไม่|ถึง|', '27|1163|', '|ควร|ทำ|ยังไง|ดี|คะ|', '|ยืนยัน|ตัวตน|ปุ๊บ|', '|เดือน|ละ|', 'เจริญ|', '|-|31|', '|ok|', '|มั้ง|', '|ใส่|จำนวนเงิน|', '|กับ|พร้อมเพย์|', '|คือ|', '|หลาย|รอบ|แล้ว|', 'คำถาม|ที่', '|ทอง|ๆ|', '|ยกเว้น|ของ|scb|', 'เป๋า|ตัง|', '|โอนเงิน|ผิด|บัญชี|', '|18.30|', '|150|', '|หรือ|เหลือ|แค่นั้น|', '|อี|ซี่|', '|เปน|', '|เครดิต|', '|โฆษณา|ว่า|', 'tmb|', '|ประทับใจ|มาก|', '|อยู่', 'สอบถาม|หน่อย|ครับ|', '|kplus|', '|ไป|ค่ะ|', '|scb_prime|', '|me|', '|1.|ktc|', '|ล้าน', '|เบอร์|ถูก|', '|report|', '|เดือน|แล้ว|ค่ะ|', '|โทร|ไป|', '|ขอความช่วยเหลือ|', '|ได้|นะคะ|', 'อยู่|ๆ|', '|ทำไง|ดี|', 'เจ้าของ|กระทู้|', '|น|', '|บาท|ค่ะ|', '|22|', '|1315|', '|55|', '|งง|อ่ะ|', '|back|', '|ของ|ธนาคารกรุงไทย|คือ|แย่มาก|', '|อีกแล้ว|', '|เข้ามา|ที่|ไทย|', '|โอนเงิน|ผ่าน|', '|จน|เรา|ติดต่อ|เข้าไป|เป็น|ครั้ง|ที่', 'อิ|', '|ยอด|', '|ไม่สามารถ|ดำเนินการ|ใดๆ|', '|3|g|4|g|', '|ณ', 'scb_thailand|', '|ช่วง|', '|ใคร|รู้|บ้าง|', '|ต้นเดือน|', 'ว่าแต่|', '|wongnai|', '|บริษัทหลักทรัพย์จัดการกองทุนรวมจำกัด|', '|อยาก|สอบถาม|เพื่อน|ๆ|', '|อี|ควาย|', '|1.8|', '|อิอิ|', '|รอ|ไป|', '|จ้า|', '|บาง|', 'บัตร|หัว|', '|ก็|ยัง|เหมือนเดิม|', 'ได้|', '|คือ|ช้า|มาก|', '|น่าจะ|', '|รอบ|ไม่|ผ่าน|', '|โทร|เช็ค|กับ|ธนาคารกรุงไทย|ชัว|กว่า|ค่ะ|', '|grabpay|', '|2.8|', '|เม.ย.|', '|350|', '|เมื่อ|วัน|ที่', '|ห่วย|ๆ|', 'เย่|', '|ธนาคาร|ghb', '|สาขา|', '|1.|', '|เป็นเวลา|', '|ป่ะ|', '|18|k|', '|mebytmb|', '|บัตรกดเงินสด|', '|200000|', '|แล้ว|ลง|ใหม่|', '|กรกฎาคม|', '|เมื่อวาน|อยู่|ที่', '|เป็น|จำนวน|', '|ปีก่อน|', '|ๆๆ|', '|ไม่เคย|ติด|', '|มี|ใคร|พอ|ทราบ|บ้าง|ไหม|คะ|', '|ได้|แล้ว|', '|facebook|', '|จะ|แลกเงิน|อ่า|', '|โอน|', '|ล่ม|ตั้งแต่|เมื่อวาน|', '|รวมทั้งสิ้น|', '|บาท|ถ้วน|', '|เปิด|บัญชีเงินฝาก|', '|งง|ๆ|', '|มุ|แง|', '|ตอบ|', '|ก็|ยัง|เงียบ|เหมือนเดิม|จน|เกือบ|ถึง|รอบ|ชำระ|', 'ผม|มี|', '|ขออนุญาต|ถาม|หน่อย|ได้|ไหม|คะ|', '|private|', '|ไม่ได้|ครับ', '|ก็|ไม่ได้|', '|45|', '|หัก|ยอด|', '|27|', '|แต่|อัน|ที่|ท้อป|อัพ|', '|ktb|', '|พี่|ๆ|', '|จะ|ใช้|เงิน|', '|แอ|ฟ|', '|sms|', '|ธนาคารกรุงไทย|', '|ไหม|คะ|', '|scbb|', '|twitter|', '|oil|', 'โทร|ติดต่อ|', '|2140|', '|อ้าว|', '|เงินเดือน|', '|ติด|ต่อไป|ทาง|', '|krungthai_next|', '|ง|อง|', '|flow|', '|ขายหมู|', '|ไม่รู้|', '|ให้|ลูกค้า|', '|อะ|', '|โดยตรง|', '|โป|ร|', '|คือ|อะไร|คะ|', '|ปกติ|', '|lh|', '|ธนาคาร|แล้ว|', '|เท่านั้น', '|พี่|', '|ของ|กรุงเทพ|', '|ใช้|บัตร|', '|วัน|', '|ยอด|จาก|อนาคต|ตอน|', '|ทุน|', '|cash', '|aia|', '|74|', 'ฝาก|ธนาคาร|ก็ได้|ดอกเบี้ย|น้อยนิด|', '|จะ|บ้า|ตาย', '|ก็|ใช้ได้|ปกติ|ครับ|', '|ขึ้น|วงเงิน|มา|', '|เขา|บอก|ว่า|', '|กรุงไทย|', '|opened|', '|กด|ไป|', '|เลข|', '|uid|', '|เสียเวลา', '|โอน|เข้า|กรุงไทย|', '|มา|ใหม่|', '|จาก|ทาง|', '|เรา|สนใจ|และ|อยาก|สอบถาม|ข้อมูล|', '|จะ|เป็น|', '|ง่ายๆ|', '|โบนัส|', 'เอ|อ|', '|pic|.|twitter|.|comrw|84|ubnuum', '|หมื่น|บาท|', '|ยัง|ไม่มี|', '|กด|ฟรี|ทุก|ตู้|', '|ของ|bay|', '|แล้ว|เข้า|แอป|ไม่ได้|เพราะ|กด|รหัส|ผิด|เกินกำหนด|', '|jaymart|', '|ทั้งๆ|', '|แล้ว|เงิน|ไม่|เข้า|', '|โทร|เข้า|', '|uk|', '|โดน|', '|รู้|ผล|ปุ๊บ|', '|20.57|', '|ขอ|ประจาน|ตัวเอง|', '|ยกเว้น|', '|bunnytrader|', '|1295|', 'ตาม|หัวข้อ|เลย|', '|แต่|จริงๆ|', '|telephonetag|', '|2', 'tmrw|', 'สอบถาม|ด้วย|ครับ|', '|4.4|', '|เปิดบัญชี|ใหม่|', '|พัก|ชำระเงินต้น|', '|2130|', '|กู้|ได้|', '|สแกน|จ่าย|', '|นาน|มากๆ|', 'scb_first|', '|ทุ่ม|', 'ธนาคารอาคารสงเคราะห์|', '|เข้า|kbank|', '|bankingmobile|', '|300000|', '|order|', '|เครื่อง|', '|ขอบคุณ|นะ|ครับ|', '|มากกว่า|', '|ปี|คะ|', '|ใบ|', '|โมง|เช้า|', '|us|', 'เตือนภัย|', '|ชาย|คน|หนึ่ง|', '|ต้อง|จ่าย|', '|ระบบ|อัตโนมัติ|', '|ๆ', '|รูป|สอง|', '|ก็|', '|แย่มาก', '|กันยายน|', '|dtac|', '|ครับผม', '|พอ|ถึง|วัน|ที่', '|268|', '|ไทยพาณิชย์', '|airasia|', '|ไม่ยุ่งยาก|', '|ไป|ก่อน|', '|scbeasy|', 'เป็น|เหมือนกัน|ค่ะ|', '|พอดี|ว่า|', '|ดัน|ใช้ไม่ได้', 'ร้อนๆ|', '|planetscb|', '|เชียงใหม่|', '|จะ|ให้|', '|ibanking|', '|ทุ่ม|กว่า|ๆ|', '|spotify|', '|refinance|', '|ได้|วงเงินรวม|', '|0.001|', '|หักเงิน|ใน|บัญชี|ไป|แล้ว|', '|make|', '|ttb|', '|อี|เหี้ย|', '|รอคิว|นานมาก|', '|mall|', '|แล้ว|อย่างนี้|เรา|จะต้อง|ไป|ติดต่อ|ที่ไหน|ดี|คะ', '|770|', '|เลย|โทร|ไป|', '|แอป|ค้าง|', '|cheque|', '|flexi|', '|หรอ|', '|หรือไม่|ผ่าน|', '|ขอบพระคุณ|มาก|ครับ', '|กู้|', '|ได้|ไหม|', '|jmart|', '|ไอ|', '|scbeasyapp|', '|ทำได้|', '|payroll|', '|ถาม|พนักงาน|ที่|สาขา|บอก|ว่า|ใช้ได้|', 'จาก|', '|จะ|โอนเงิน|', '|สมุดบัญชี|', '|เกือบ|ทั้ง|องค์กร', '|ไม่|สา|มาร|อนุมัติ|บัตรเครดิต|ของ|ท่าน|ได้|เป็นผล|จาก|เกณฑ์|พิจาร|ณ|รา|ของ|บริษัท|เท่านั้น|', '|จน|ผ่านไป|เป็น|เดือน|แล้ว|', '|b|', 'หวัง|ว่า|', '|กว่า|ๆ|', '|grab|', '|36|', '|เจ้าหน้าที่|', '|smebank|', '|โคตร|กาก', '|ผ่าน|มา|เกือบ|', '|บาท|ต่อ|เดือน|', 'ตอนนี้|', '|จน|ต้อง|ถ่อ|ไปถึง|โร|บิน|สัน|เอง|', '|ของ|ผม|', '|ต้อง|ทำ|ยังไง|คะ|', 'เพื่อน|ๆ|', '|krungthai_connext|', '|หน่อย', 'โอนเงิน|ผ่าน|', '|11.30|', 'ระบบ|', '|ทำ|ยังไง|ดี|คะ', '|ใช้เวลา|กี่|วัน|ครับ|', '|61|', '|คำ|ว่า|', '|4500|', '|18000|', '|service|', '|ตี|', '|2600|', 'โทร|เข้า|', 'ขอ|สอบถาม|หน่อย|ค่า|', '|account|', '|ประกันสังคม|', '|จำกัด|', '|บริการ|ดี|มากๆ|', '|pttgc|', '|510|', '|ได้|ประมาณ|', 'เรา|อยากจะ|ติดต่อสอบถาม|เรื่อง|การ|พัก|หนี้|ค่ะ|', '|ที่อยู่|', '|lazada|', '|ทำไม|', '|2200|', 'เวร|ละ|', '|ต้อง|ทำไง|', '|ละ|', 'ผม|เดินบัญชี|กับ|', 'โอนเงิน|ไป|แล้ว|', '|ใช้|แต่|', '|นานไป|ไหม|', '|ขอบคุณ|ล่วงหน้า|ค่ะ', '|ดอกเบี้ย|', '|ธนาคาร|ไม่ได้|เป็นเจ้าของ|', 'สอบถาม|ค่ะ|', '|เรา|จะ|ไม่|ทิ้ง|กัน|', '|เติมเงิน|', '|แต่|ของ|', '|เมื่อ|กลางเดือน|ไป|เปลี่ยน|จาก|บัตร|', '|เสียความรู้สึก|มาก', '|ใช้เวลา|', '|2515|', '|k-esavings|', '|แต่|สมัคร|', '|รวม|ๆ|', '|nav|', 'ทำ|บัตร|', '|อิ|ห่า|', '|เป๊ก|ผลิต|โชค|', '|อัพ|', '|feedback|', '|stm|', '|ขอโทษ|ค่ะ|', '|citibankgold|', '|ให้|หมด|', '|ก.ค.|', '|ktb_precious_plus|', '|plus|', '|ก่อนหน้านี้|', 'นาๆ|', '|สาขา|ใน|สนามบิน|สุวรรณ|ภูมิ|', '|ios|', '|คน|ไม่|เยอะ|', '|02|-|28515|', '|ตลาดนัด|', 'ไฟแนนซ์|', '|2.|', '|city|', '|32|', '3.|', '|ธนชาต|ได้|ไหม|ครับ|', '|โดยประมาณ|', '|ดี', '|สาธุ|', '|investing|', '|บาท|เอง|', '|ratsaenmueang|', '|ไว้|กับ|', '|มัน|มี|', '|bbl', '|ตาม|รูป|', '|ava|', '|black|', '|กับ|', '|มา|', 'โอนเงิน|จาก|กรุงไทย|', '|ไม่มี|ครับ|', 'อยาก|ถาม|ว่า|', '|ที่ใช้|', '|chubb|', '|ลบ|แอป|', '|covid-|19|', '|prime|', '|free|', '|ktz|', '|ktc|', '|เปิด|พร้อมกัน|', '|คือ|ถ้า|', 'บัตรเดบิต|', '|point|', '|ลูกค้า|', 'คือ|หนู|อายุ|', '|ช่วง|เดือน|', '|you|', '|เลย|นะ|', '|ก่อน|ค่ะ|', '|แต่|จ่าย|ผ่าน|', '|ส|ภ|.|', '|ทำ|ยังไง|ได้|บ้าง|คะ|', 'บริการ|รับฝาก|', 'krungthai_next|', '|นี่|นะ|', 'โอนเงิน|จาก|kbank|', '|นอกจาก|', '|17|-|01|-|2563|', '|จุก|ๆ|', '|swift|', '|verified|', 'ถ้า|', '|เพื่อ|สะสมแต้ม|', '|แย่|มากๆ|', '|2|xxxx|', '|3|-|6|', '|ไปที่|', '|เงิน|', '|ได้|ครับ', '|แล้ว|อยู่|ๆ|', 'ผม|อยาก|สมัคร|', '|10|k|', '|พอ|วัน|ที่', 'ผม|สงสัย|ว่า|', '|8700|', '|เมื่อวาน|ไป|ทำ|เรื่อง|ก็|ทำไม่ได้|', '|ตั้ง|', '|เจ้าหน้าที่|บอก|ได้|สิ|ท|ธ|์|แล้ว|ค่ะ', '|ช|.ม|', '|simplicity|', '|fwd|', '|โทร|ติดต่อ|ยากมาก|', 'แล้ว|ทำไม|', '|บริษัท|', '|มา|kbank|', '|วัน|เหมือนเดิม|', '|log|', '|ปรากฏ|ว่า|', '|hack|', 'เมื่อ|', '|เริ่มต้น|', '|so|', '|เขตพระราม2|', '|เพราะ|จริงๆ|', '|สุดท้าย|คุณ|ก็|หยอด|จน|เต็ม|', '|แต่|ทำไม|', '|พร้อมเพย์|', '|65|', '|ถ้า|จ่าย|ด้วย|บัตร|', '|to|', '|แต่|เจ้าหน้าที่|', '|ดังนี้|', '|-_-', '|transection|', '|แสก|น|', '|30|-|40|', '|1300|', '|ล่ม|หรือเปล่า|ครับ|', '|บาท', '|ของ|ไทยพาณิชย์|', '|ตราสาร|หนี้|', '|และ|ให้|เรา|ยืนยัน|ตัวตน|', 'ตอน|', '|แผน|', '|union|', '|ไว้|ใน|', '|2019|', '|ทุกๆ|', '|57|', '|คุณ|', '|รบกวน|ทาง|', '|โอน|จาก|kbank|', '|1.|ผม|ต้อง|แจ้ง|อะไร|กับ|ทาง|', '|จะ|ใช้|', 'mobile|', '|ไม่|ระบุ|แบบ|', '|ด้วย|ค่ะ|', '|payment|', '|ก็|ไม่|ผ่าน|', '|ปลายทาง|ไม่ได้|รับเงิน|', '|ต่อ|ปี', '|ปัจจุบัน|', '22|', '|ไม่มีเงิน|แล้ว|', 'krungthai_care|', '|กรณี|', '|1.5|', '|เสียเวลา|', '|มือถือ|', '|uob', '|ก็|เลย|รีบ|กด|รับ|สิทธิ์|เลย|', '|ผ่าน|ทาง|แอป|', '|แล้ว|มี|', '|16.00|', '|ลอง|ดูๆ|', '|ค่าธรรมเนียม|บัตร|', '|พยายาม|', '|กลัว|จะ|มีปัญหา|', '|ยัง|ไว|กว่า|เยอะ|', '|วิ่ง|ก่อน|', '|bankkokbank|', '|ปี|แล้ว|ค่ะ|', '|ทำ|มา|', '|ของ|วันพรุ่งนี้|', 'kbank_live|', '|บ.|', '|วัน|ค่ะ|', '|ลดเหลือ|', '|ภายใน|', '|ต้อง|ติดต่อ|ธนาคาร|', 'android|', '|ไม่|อยากให้|พัก|หนี้|ใช่ไหม|ถึง|ไม่ติดต่อ|กลับมา|ทำไม|ถึง|ติดต่อ|กลับ|ได้|ยากเย็น|เพียงนี้', '|พอ|กุ|ลบ|โลด|ใหม่|', '|ดี|นะ|', '|หรือ|พี่|ๆ|', '|37000|', 'ที่|สำคัญ|', '|scbsp|500|', '|บาท|ใน|', '|ด้วย|ครับ|', '|ขอบคุณ|', '|ขอบคุณ|ค่ะ|', '|ats|', '|mind|', '|ขึ้น|ว่า|', '|t_t', '|ถ้า|เปิด|', '|precious|', '|แล้ว|ใช้|', '|พรุ่งนี้|', '|แจ้ง|บัญชี|ของ|คุณ|ผิดปกติ|', '|ได้|ลด|', '|aeon|', '|mastercard|', '|สู้|', '|wifi|', '|ต่างจังหวัด|', '|3|', '|up|2|me|', '|ทาง|kbank|', '|199|', '|เงิน|ตั้ง|', '|ไม่เคย|กู้|อะไร|กับ|กรุ|ศรี|คับ|', '|มากๆ|', '12|', '|bookbank|', '|กับ|ไทยพาณิชย์|', '|mrr|', '|หลังจากนั้น|', '|เหมือน|สมัยนี้|', '|หัวใจ|ของ|เรา|มัน|จะต้อง|', '|เมย|', '|สวัสดี|ค่ะ|', '|ต้อง|นำ|บัตร|', '|ของ|gsb|แต่|ก็|ไม่มีใคร|รับ|เลย|พนักงาน|ติด|สาย|ทุก|คู่สาย|เป็น|ชั่วโมง|เลย|', '6|', '|ทะเบียน|พาณิชย์|', '|ผม|เปิดบัญชี|', '|ต้อง|ทำ|อย่างไร|', '|1.2|', '|สวัสดี|', '|190|', '|k-usa-ad|', '|qr|', '|0|', '|tablet|', '|แล้ว|กด|', '|แจ้ง|ว่า|ระบบ|การ|รับเงิน|ทาง|', '|ใช่ไหม|คะ', '|edition|', '|กระเป๋า|ตังค์|', '|ของ|scb|', '|ปี|ขึ้นไป|', '|ก็|ล่ม|', '|90000|', '19|', '|ทำให้|ปลายทาง|ไม่ได้|รับเงิน|', '|โอนเงิน|เข้าบัญชี|', '|ซื้อ|ผ่าน|', '|19', '0|1012564|', '|เดิม|', '|กด|ใน|', '|tt', '|k-my|', '|มี|บัญชี|kbank|', '|จ่าย|ดอก|ทุกเดือน|', '|บัญชี|', '|ไม่สามารถ|ทำ|รายการ|ได้|ในขณะนี้|', '|สรุป|', '|เอกสาร|ครบ|', '|website|', '|นอกนั้น|', '|6.6|', '|ems|', '|มา|เป็น|', 'อยาก|ยกเลิก|บัตร|', '|5|-|6|', 'จริงๆ|', 'ขออนุญาต|สอบถาม|ครับ|', '|1.1|', '|ตาม|', '|ไม่|เสีย|', '|ตั้งแต่|', '|มาก', '|kbank', '|ทำให้|', '|ก.|พ|', '|ตัด|บัตร|', '|ทราบ|เพราะ|พี่|ข้าง|บ้าน|ทัก|มา|บอก|ใน|ไลน์|', '|แล้ว|ไม่มี|', '|ธนาคาร|บอก|ว่า|', '|ที่|ตู้', '|เป็น|ไฟแนนซ์|ไทยพาณิชย์|ก่อนหน้านี้|', '|จน|ตอนนี้|วัน|ที่', '|ดี|', '|กด|เข้าไป|', '|187|', '|อี|ค|วัย|', '|เงิน|ใน|', 'โอน|', '|ส่วน|บัตรกดเงินสด|', '|ถ', '|ยัง|ไม่|เข้า|', '|ยืน|', '|ไม่ได้|นับจำนวน|ครั้ง|ตาม|ลูกค้า|แต่ละคน|โอน|', '|makeups|', '|ขอ|ถาม|หน่อย|ค่ะ|', '|50|k|', 'สอบถาม|นะคะ|', '|ถ้า|แจ้ง|ช่องทาง|ไหน|ครับ|', '|แต่|ทาง|ต้นทาง|', '|two|', '|100|k|', '|สุด|', '10|', '|otp|', '|ขั้นต่ำ|เปิด|พอร์ต|ห้า|แสน|บาท|', '|simple|', '|แล้ว|ต้อง|ทำ|อะไรบ้าง|', '|scb_connect|', '5|', 'เมื่อ|เวลา|', '|ค|ทบ|', '|จะ|ออกบัตร|กด|ฟรี|ได้|อย่างไร|', '|มาก|', '|speedy|', '|แบบนี้|ก็ได้|เหรอ|', '|ล่ม|อีก|', '|แล้ว|คะ|', '|อ่ะ|', '|ไม่มี|พนักงาน|รับสาย|', '|แหะๆ|', '|tot|', '|ขออภัย|ค่ะ|', '|ชื่อ|เหมือนกัน|', '|ซื้อ|หวย|', '|ขอบคุณ|ล่วงหน้า|ค่ะ|', '|สินเชื่อ|เสริม|พลัง|ฐานราก|', '|นี่|', '|9.00|', '|db|', '|33000|', '|ท|รู|มูฟ|', '|map|', 'ขอบคุณ|', '|ระบบ|', '|15000|', '|45|-|60|', '|แล้ว|ว่ะ|', '|แต่|ยัง|ไม่|เข้า|', '|ชม.|แล้ว|', '|ไม่ได้|ค่า|', '|แต่|ไม่สามารถ|', '|เวลา|', '|2561|', '|alipay|', '26|', '|โมง|', '|ก|', '|ก็|ต้อง|มี|ระยะ|รอคอย|', '|สู้|ๆ|', '|วันนี้|วัน|ที่', '|ทั้ง', '|ปะ|', '|ที่|เป็น|ธนาคาร|', '|ห่วย|มาก|', 'เมื่อวาน|', 'โอนเงิน|', 'ยกเลิก|', '|2.34|', '|ใช่|ค่ะ|', '|2562|', '|แต่|ไม่ใช่|บัญชี|หลัก|', '|จะ|ได้|ไหม|คะ|', '|thailand', '|และ|ไทยพาณิชย์|', '|ธนาคาร|ล่ม', '|ไม่|ค่ะ|', '|เฟิร์ส|ช้อย|', '|09.00|', '|scb_thailand|', 'ขออนุญาต|สอบถาม|ค่ะ|', '|แต้ม|', '|ต้อง|ใช้|อะไรบ้าง|', '|จะ|สมัคร|', 'แอป|ธนาคาร|', '|esso|', '|2750|', '|ที่|', 'พี่|ที่|ธนาคารกรุงไทย|ใจ|ดีมาก|', '|5|g|', '|กรุงไทย|เน็ค|', '|ให้|ความ|รู้สึกแย่|จัง', '|ธนาคาร|หนู|เงิน|ประมาณ|', '|vat|', '|รีวอร์ด|', '|อีกที|', '|หรือ|ยังไง|', '|ipo|', '|รอ|ถึง|', '|confirm|', '|เพิ่ม|', '|แอป|ควย|', '|หรือ|', '|รอ|ดู|', '|โท|ร.|', '|คือ|ไร|อ่ะ', '|ยืนยัน|', '|ต้นทาง|', '|เข้าใจ|ว่า|', '|เป็น|', '|คือ|อะไร|', '|เรา|', '|เงินงวด|', '|21|', '|jitta_wealth|', '|ได้|ไหม|คะ|', '|เซ็ง|มาก|', '|เป็นของ|', '|pin|', '|อี|กรอบ|', '|เสียไป|', '|อยู่|ๆ|', '|งับ|', '|1500|', '|หนี้บัตรเครดิต|', '|fee|', '|1.6|-|1.8|', '|ได้|ไหม|ครับ', '|รอ|ประ|มาน|ครึ่ง|ชม.|', '|รอ|นานมาก', '|ไป|ธนาคาร|', '|เงิน|โดน|หัก|', '|ktc_jcb|', '|เพราะ|กลับ|ไทย|ก็|ไม่ได้|ค่ะ|ตอนนี้', '|อายัด|', '|18.04|', '|เฉยๆ|', '|from|', '|2017|', '|2|g|', '|ราคา|', '|ที่', '|กด|สมัคร|', '|พัน|', '|ใคร|ที่ใช้|อยู่|รบกวน|แนะนำ|หน่อย|ครับ', '|ด|', '|ย้อนหลัง|', '|อยาก|ทำ|บัตร|', '|แจ้ง|ว่า|', '|ปี|แรก|', '|โดน|หัก|ไป|', '|3|g|', '|ผูก|', '|gsb|', '|scb_first|', '|ถ้า|ยื่น|กู้|กับ|', '|กดเงิน|ไม่|ใช้|บัตร|', '|ออ|ป|โป|', '|ขนาด|', '|อิ|เหี้ย|', '|ptt|', '|od|', '|แบน|', '|app|', '|อยู่|เลย|ครับ|', '|เติม|ไป|', 'ทำ|', '|400000|', '|เริ่ม|', '|แม่|ม|มา|ทำงาน|กัน|บ้าง|เปล่า|วะ|', '|2330|-|0000|', '|ais|', '15|', '|หรือ|อะไร|', '|ค่าธรรมเนียม|', '|scb_life|', 'กด|บัตร|', 'bay|', '|งวด|ละ|', '1.|', '|เลือก|ถอนเงิน|ไม่|ใช้|บัตร|', 'atm', '|แต่|เงิน|ไม่|เข้า|', '|ตัวเอง|ได้|', '|ป|', '|เหมือน|มีปัญหา|กด|โอนเงิน|ไป|แล้ว|เงิน|เด้ง|', '|ประกัน|', '|เรา|เปลี่ยน|จาก|', '|ยากเย็น|', '|credit|', '|150000|', '|มา|บอก|ว่า|', '|แง', '|rmf|', '|krungsri|', '|อาย|เพื่อน', '|exchange|', '|จะ|ร้องไห้', '|บอก|เลย|', '|แล้ว|ครับ', 'สอบถาม|ครับ|', '|ใช่|เรื่อง|ไหม|', '|1|', '|ปี|ที่แล้ว|', 'ป|ล|', '|เพื่อ|ยืนยัน|ตัวตน|', 'ของ|ผม|', '|ทุกคน|', '|แต่|ถ้า|ไม่ใช่|', '|เดือน|แรก|', '|กลุ่ม|ที่', '|ในนาม|บริษัท|', '|rabbit|', '|เพราะ|ไม่มี|บัตร|', '|งวด|แรก|', 'แนะนำ|', '|ทำ|บัตร|', '|แต่|ไม่แน่ใจ|ว่า|', '|นะคะ', 'ทำไม|', '|โทร|กลับ|ไม่|เกิน|วัน|ถัดไป|', '|ล้าง|ข้อมูล|ใน|มือถือ|', '|fast|', '|grow|', '|ไม่มี|สมุดบัญชี|', '|จำนวนเงิน|', 'สมัคร|', '|8900|', '|data|', '|มาร|', '|กว่า|ปี|', '2|', '|แต่|ไม่|เข้า|ปลายทาง|', '|บน|มือถือ|', '|wfh', 'โทร|หา|คอลเซนเตอร์|', '|อยากทราบ|ว่า|', '|nagoya|', 'ติดต่อ|ไปที่|คอลเซนเตอร์|ของ|ทาง|กรุงไทย|', 'ใช้|บัตร|', '|แต่|หักเงิน|จาก|บัญชี|', 'สอบถาม|', '|cpall|', 'ghb|', 'เติมเงิน|ผ่าน|แอป|', '|ถาม|', '|109|', '|อาชีพ|', '|fundclick|', '|โดยเฉพาะ|', '|ดู|ยากมาก|', '|ทุกเดือน|', '|npl|', '|call_center|', '|400|', 'แล้ว|แต่ละ|ธนาคาร|ใช้|เอกสาร|อะไรบ้าง|ครับ|', '|คือ|ยังไง|', '|ทั้งที่|มี|', '|pround|', '|save|', '|มี|แค่|', '|รับ|', '|scbam|', '|ได้|แล้ว|นะ|ครับ|', 'windy|', '|มีนาคม|', 'เติม|เงินเข้า|', '|แล้วก็|ส่งจดหมาย|แจ้ง|ว่า|', '|ไม่มี|แอป|', '|central|', '|cash|', '|วีโว่|', '|สอบถาม|หน่อย|ค่ะ|', '|ประ|มาน|', '|finnomena|', '|ค่ะ', '|สอบถาม|นิดนึง|ค่ะ|', '|จ่าย|ด้วย|', '|กรุงไทย|ล่ม|', '|sch|', '|by|', '|59|', '|320|', '|กด|เงินสด|', '|รอสาย|', '|1', '|ทิพ|ย|ประกันภัย|', '|ถอนเงิน|วันนี้|นะคะ|', '|ให้|รอ|', 'บัตรเครดิต|', '|มือถือ|หาย|', '18|', 'ยอมแพ้|ที่', '|ลองดู|นะคะ', '|แฟน|ทำ|เมื่อวาน|ผ่าน|แล้ว|คะ', '|gmarket', 'แม่|ง|', 'เป็น|', '|แต่|ตอนนี้|', '|ติดต่อ|ธนาคาร|', '|แอป|ฯ|', '|cardless|', '|เบอร์|', '|00|', '|ถึงจะ|สามารถ|เช็ค|ได้|', '3|1|', '|ตั้งแต่|เมื่อวาน|ตอน|', '|mymo', '|tesco|', '|17000|', '|วงเงิน|', '|โทร|ไป|คอลเซนเตอร์|', '|ทำ|ยังไง|', '|ละ|อ่อ|', 'หลักๆ|', '|สำเร็จ|', '|มาถึง|', '|เนี่ย|', '|จน|วันนี้|เพิ่ง|มี|หมายศาล|ส่ง|มา|ที่บ้าน|ที่|', '|fb|', '|tower|', '|20000|', '|ktb_travel_card|', '|95|', '|เรา|ก็|ไม่สามารถ|ใช้|', '|จ่าย|ด้วย|บัตรเดบิต|ktb|และ|ผม|ได้|ทำ|การยกเลิก|การสั่งซื้อ|ไป|', '|10|m|', '|cap|', '|และ|จน|ป่านนี้|', '|499|', 'โอ้|ย|', '|5', 'เบอร์|', '|19.00|', '|g-wallet|', '10|263|', '|02|', '|ซ่อม|ศูนย์|', '|พร้อม|ดอกเบี้ย|', '|มี|ยอด|เงินโอน|เข้า|', '|ชื่อ|ธุรกิจ|โดย|ชื่อ|เจ้าของร้าน|', '|your|', '|เรียบร้อย|', '|โทร|ไป|ก็|ไม่ติด|', '|pending|', '|a-mobile|', '|western|', '|design|', '|เพราะ|', '|ตู้', '|บริการ|', '|โอนเงิน|จาก|', '|เถอะ|', '|ต้องการ|', '|online|', '|5000|เรา|ไม่|ทิ้ง|กัน|', '|ได้|ภายใน|', '|ไว้|ไหม|คะ|', 'โอนเงิน|จาก|', '|บัตร|หมดอายุ|', '|ว่า|ตอนนี้|', '|ต้องการ|ปิดบัญชี|ไป|เลย|', '|ไม่|ได้คืน', '|toyota|', '|7600|', '|ก.พ.|', '|ไทย|พา|นิส|', '|ฐาน|เงินเดือน|', '|เพิ่มเติม|', '|เลือก|', '|รอคิว|', '|อันนี้|ก็|แล้วแต่|', '|ถ้า|อยู่|ใกล้ๆ|', 'กู้เงิน|กับ|', '|ใช่ไหม|คะ|', '|ontop|', '|กรุงเทพ|ประกันภัย|', '|ก่อน|', '|พนักงาน|บอก|', '|ประเด็น|คือ|', 'app|', '|ประกันชีวิต|', '|internet|', '|ใหม่|', '|30000|', '|ตาม|หัวข้อ|กระทู้|เลย|', '|เรา|ติดต่อ|ไปที่|เบอร์|โทร|สำนักงานใหญ่|ไฟแนนซ์|ไทยพาณิชย์|บอก|ว่า|จะ|ติดต่อ|กลับมา|', '|แค่|', 'pin|', '|10.28|', '|ติดต่อ|', '|สงสัย|ว่า|', 'สวัสดี|ค่ะ|', '|นะ|ครับ', '|k|8888|', '|ทุกปี|', '|งง|ค่ะ|', '|ทุกครั้ง|', '|ๆ|ค่ะ|', '30|', '|แล้ว|พอ|', '|web|', '|พนักงาน|', '|250|', 'เรา|เลย|โทร|ไป|ที่', '4|', '|ref|.|2|', '|จาก|กระทู้|', '|kplus', '|bay|', '|เวรกรรม', '|โอน|เข้า|', '|บาท|วันนี้|', '|เงินเดือน|ไม่|ถึง|', '|มา|ว่า|', '|จะ|ทำ|อย่างไร|', '|ไปมา|', '|เดียว|', '|พูดจา|แย่มาก|', 'ใช่|ค่ะ|', '|click|', '|checking|', 'อี|สัส|', '|คะแนน|', '|ที|', '|900|', 'ปิดบัญชี|ฝากประจำ|ก่อนกำหนด|ได้|ไหม|'}\n"
          ]
        }
      ]
    },
    {
      "cell_type": "code",
      "source": [
        "#Turn Series into lists\n",
        "train_docs = train['Text_ws_local'].tolist()\n",
        "test_docs = test['Text_ws_local'].tolist()"
      ],
      "metadata": {
        "id": "IqgqeKFll7ti"
      },
      "execution_count": 10,
      "outputs": []
    },
    {
      "cell_type": "code",
      "source": [
        "from keras.preprocessing.text import Tokenizer\n",
        "from keras_preprocessing.sequence import pad_sequences\n",
        "\n",
        "tokenizer = Tokenizer()\n",
        "#one hot-enconding for the text like > https://stackoverflow.com/questions/69026891/what-is-keras-tokenizer-fit-on-texts-doing\n",
        "tokenizer.fit_on_texts(train_docs)\n",
        "encoded_docs = tokenizer.texts_to_sequences(train_docs)"
      ],
      "metadata": {
        "id": "A7Hp-D9ijQgZ"
      },
      "execution_count": 11,
      "outputs": []
    },
    {
      "cell_type": "code",
      "source": [
        "#Find the most max lengths of word in verbatims from both train and test\n",
        "max_length_train = max([len(s.split()) for s in train_docs])\n",
        "max_length_test  = max([len(s.split()) for s in test_docs])\n",
        "max_length = max([max_length_train, max_length_test])\n",
        "print(\"Max Length of Words: \", max_length)\n",
        "\n",
        "#Padding in order to equalize some verbatims that do not contain the same length of the max length verbatim\n",
        "Xtrain = pad_sequences(encoded_docs, maxlen=max_length, padding='post')\n",
        "#define the labels\n",
        "ytrain = np.array(train['Human_CategoryID'].tolist())"
      ],
      "metadata": {
        "id": "R7JbQ0qZmf0D",
        "colab": {
          "base_uri": "https://localhost:8080/"
        },
        "outputId": "ea6d4af9-b172-4717-eb72-158f72b0850e"
      },
      "execution_count": 12,
      "outputs": [
        {
          "output_type": "stream",
          "name": "stdout",
          "text": [
            "Max Length of Words:  66\n"
          ]
        }
      ]
    },
    {
      "cell_type": "code",
      "source": [
        "#Do the same for the test set\n",
        "encoded_docs_test = tokenizer.texts_to_sequences(test_docs)\n",
        "\n",
        "Xtest = pad_sequences(encoded_docs_test, maxlen=max_length)\n",
        "ytest = np.array(test['Human_CategoryID'].tolist())"
      ],
      "metadata": {
        "id": "oHTspdkypLeF"
      },
      "execution_count": 13,
      "outputs": []
    },
    {
      "cell_type": "code",
      "source": [
        "#Count unique classes\n",
        "print(train['Human_CategoryID'].nunique(), test['Human_CategoryID'].nunique())"
      ],
      "metadata": {
        "colab": {
          "base_uri": "https://localhost:8080/"
        },
        "id": "ILLDKYp3MX65",
        "outputId": "430455f9-03e7-45ee-bf20-5bca8f90d739"
      },
      "execution_count": 14,
      "outputs": [
        {
          "output_type": "stream",
          "name": "stdout",
          "text": [
            "13 12\n"
          ]
        }
      ]
    },
    {
      "cell_type": "code",
      "source": [
        "#Count unique classes\n",
        "num_classes = max(train['Human_CategoryID'].nunique(), test['Human_CategoryID'].nunique())\n",
        "print(num_classes)"
      ],
      "metadata": {
        "colab": {
          "base_uri": "https://localhost:8080/"
        },
        "id": "VQcD2gdpNwkg",
        "outputId": "f0d37b21-be44-48c8-ecb2-443539d1550d"
      },
      "execution_count": 15,
      "outputs": [
        {
          "output_type": "stream",
          "name": "stdout",
          "text": [
            "13\n"
          ]
        }
      ]
    },
    {
      "cell_type": "code",
      "source": [
        "from tensorflow.keras.utils import to_categorical\n",
        "\n",
        "#Multi class problems need one-hot encoding on y\n",
        "#why - 1 on ytrain and ytest? can follow the linke below\n",
        "#https://stackoverflow.com/questions/56204731/the-method-np-utils-to-categorical-give-me-an-error/59002957#59002957\n",
        "ytrain =  to_categorical(ytrain-1, num_classes=num_classes)\n",
        "ytest = to_categorical(ytest-1, num_classes=num_classes)"
      ],
      "metadata": {
        "id": "BWTwtb6tLUBE"
      },
      "execution_count": 16,
      "outputs": []
    },
    {
      "cell_type": "code",
      "source": [
        "vocab_size = len(tokenizer.word_index)+1"
      ],
      "metadata": {
        "id": "lvFEpT6zp8YY"
      },
      "execution_count": 17,
      "outputs": []
    },
    {
      "cell_type": "markdown",
      "source": [
        "#model"
      ],
      "metadata": {
        "id": "8l51AxTXW96K"
      }
    },
    {
      "cell_type": "markdown",
      "source": [
        "##CNN1 MP1D F D256 DO0.25 D13: 25"
      ],
      "metadata": {
        "id": "hiGb5p29sWHt"
      }
    },
    {
      "cell_type": "code",
      "source": [
        "from keras.layers import Dense, Flatten, Embedding, BatchNormalization, Dropout\n",
        "from keras.models import Sequential\n",
        "from keras.layers.convolutional import Conv1D, MaxPooling1D"
      ],
      "metadata": {
        "id": "huOisC8Ysz-r"
      },
      "execution_count": 18,
      "outputs": []
    },
    {
      "cell_type": "code",
      "source": [
        "#Define our model\n",
        "model = Sequential()\n",
        "\n",
        "model.add(Embedding(vocab_size, 50, input_length=max_length, trainable=True))\n",
        "model.add(Conv1D(filters=32, kernel_size=3, activation='relu'))\n",
        "model.add(MaxPooling1D())\n",
        "#MaxPool1D: pool_size=2: 28\n",
        "#MaxPool1D: pool_size = 2, strides = 2: 24.421594\n",
        "#MaxPool1D(): w/o specification: 26-30\n",
        "\n",
        "model.add(Flatten())\n",
        "model.add(Dense(256, activation='relu'))\n",
        "model.add(Dropout(0.25))\n",
        "\n",
        "model.add(Dense(num_classes, activation='softmax'))\n",
        "print(model.summary())"
      ],
      "metadata": {
        "id": "Ify0PvZ3sWzS",
        "colab": {
          "base_uri": "https://localhost:8080/"
        },
        "outputId": "2cca29d7-32d1-4691-81d6-69b701d07dcd"
      },
      "execution_count": 19,
      "outputs": [
        {
          "output_type": "stream",
          "name": "stdout",
          "text": [
            "Model: \"sequential\"\n",
            "_________________________________________________________________\n",
            " Layer (type)                Output Shape              Param #   \n",
            "=================================================================\n",
            " embedding (Embedding)       (None, 66, 50)            630450    \n",
            "                                                                 \n",
            " conv1d (Conv1D)             (None, 64, 32)            4832      \n",
            "                                                                 \n",
            " max_pooling1d (MaxPooling1D  (None, 32, 32)           0         \n",
            " )                                                               \n",
            "                                                                 \n",
            " flatten (Flatten)           (None, 1024)              0         \n",
            "                                                                 \n",
            " dense (Dense)               (None, 256)               262400    \n",
            "                                                                 \n",
            " dropout (Dropout)           (None, 256)               0         \n",
            "                                                                 \n",
            " dense_1 (Dense)             (None, 13)                3341      \n",
            "                                                                 \n",
            "=================================================================\n",
            "Total params: 901,023\n",
            "Trainable params: 901,023\n",
            "Non-trainable params: 0\n",
            "_________________________________________________________________\n",
            "None\n"
          ]
        }
      ]
    },
    {
      "cell_type": "code",
      "source": [
        "from tensorflow.keras.callbacks import EarlyStopping\n",
        "\n",
        "#put early stopping\n",
        "early_stopping = EarlyStopping(monitor='val_loss', patience=1, mode='min')\n",
        "\n",
        "#Your choices of activation='softmax' in the last layer and compile choice of loss='categorical_crossentropy' \n",
        "#are good for a model to predict multiple mutually-exclusive classes.\n",
        "\n",
        "model.compile(loss='categorical_crossentropy',\n",
        "              optimizer='adam', \n",
        "              metrics=['acc'],)"
      ],
      "metadata": {
        "id": "_VV7d6eRf_AD"
      },
      "execution_count": 20,
      "outputs": []
    },
    {
      "cell_type": "code",
      "source": [
        "#Try classweight from this https://datascience.stackexchange.com/questions/13490/how-to-set-class-weights-for-imbalanced-classes-in-keras\n",
        "\n",
        "history = model.fit(Xtrain, ytrain, \n",
        "                    epochs=10, batch_size=64, \n",
        "                    validation_split=0.2,\n",
        "                    callbacks=[early_stopping])"
      ],
      "metadata": {
        "colab": {
          "base_uri": "https://localhost:8080/"
        },
        "id": "KKmAGyKqECUx",
        "outputId": "f4a3af0c-ea0d-430c-8e33-0c57b935f826"
      },
      "execution_count": 21,
      "outputs": [
        {
          "output_type": "stream",
          "name": "stdout",
          "text": [
            "Epoch 1/10\n",
            "152/152 [==============================] - 3s 12ms/step - loss: 1.9239 - acc: 0.3388 - val_loss: 1.6052 - val_acc: 0.4498\n",
            "Epoch 2/10\n",
            "152/152 [==============================] - 2s 10ms/step - loss: 1.4615 - acc: 0.5315 - val_loss: 1.4092 - val_acc: 0.5366\n",
            "Epoch 3/10\n",
            "152/152 [==============================] - 2s 11ms/step - loss: 1.0798 - acc: 0.6729 - val_loss: 1.3319 - val_acc: 0.5761\n",
            "Epoch 4/10\n",
            "152/152 [==============================] - 2s 11ms/step - loss: 0.7818 - acc: 0.7552 - val_loss: 1.4371 - val_acc: 0.5720\n"
          ]
        }
      ]
    },
    {
      "cell_type": "code",
      "source": [
        "history_frame = pd.DataFrame(history.history)\n",
        "history_frame.loc[:, ['loss', 'val_loss']].plot()"
      ],
      "metadata": {
        "colab": {
          "base_uri": "https://localhost:8080/",
          "height": 282
        },
        "id": "5hrmrMCmUjh2",
        "outputId": "eb7585cd-f4ca-4d9c-cd2d-0bc9432dca2e"
      },
      "execution_count": 22,
      "outputs": [
        {
          "output_type": "execute_result",
          "data": {
            "text/plain": [
              "<matplotlib.axes._subplots.AxesSubplot at 0x7f5573a97090>"
            ]
          },
          "metadata": {},
          "execution_count": 22
        },
        {
          "output_type": "display_data",
          "data": {
            "text/plain": [
              "<Figure size 432x288 with 1 Axes>"
            ],
            "image/png": "[encoded data removed]"
          },
          "metadata": {
            "needs_background": "light"
          }
        }
      ]
    },
    {
      "cell_type": "code",
      "source": [
        "history_frame.loc[:, ['acc', 'val_acc']].plot()"
      ],
      "metadata": {
        "colab": {
          "base_uri": "https://localhost:8080/",
          "height": 282
        },
        "id": "qgGNdtfHU3yS",
        "outputId": "a076f55d-020d-4a99-b092-cd9a0b4c5d27"
      },
      "execution_count": 23,
      "outputs": [
        {
          "output_type": "execute_result",
          "data": {
            "text/plain": [
              "<matplotlib.axes._subplots.AxesSubplot at 0x7f55883a41d0>"
            ]
          },
          "metadata": {},
          "execution_count": 23
        },
        {
          "output_type": "display_data",
          "data": {
            "text/plain": [
              "<Figure size 432x288 with 1 Axes>"
            ],
            "image/png": "[encoded data removed]"
          },
          "metadata": {
            "needs_background": "light"
          }
        }
      ]
    },
    {
      "cell_type": "code",
      "source": [
        "print(Xtest.shape, ytest.shape)"
      ],
      "metadata": {
        "colab": {
          "base_uri": "https://localhost:8080/"
        },
        "id": "uvpjXrbRWKI5",
        "outputId": "b45ca05b-31b1-4cc8-8546-6690bbbaba41"
      },
      "execution_count": 24,
      "outputs": [
        {
          "output_type": "stream",
          "name": "stdout",
          "text": [
            "(389, 66) (389, 13)\n"
          ]
        }
      ]
    },
    {
      "cell_type": "code",
      "source": [
        "loss, acc = model.evaluate(Xtest, ytest)\n",
        "print('Test Accuracy: %f' % (acc*100))"
      ],
      "metadata": {
        "colab": {
          "base_uri": "https://localhost:8080/"
        },
        "id": "5N9TLkdHV0hy",
        "outputId": "ee139388-3184-40be-cbc2-5e7ee11fc474"
      },
      "execution_count": 25,
      "outputs": [
        {
          "output_type": "stream",
          "name": "stdout",
          "text": [
            "13/13 [==============================] - 0s 2ms/step - loss: 2.2708 - acc: 0.2545\n",
            "Test Accuracy: 25.449872\n"
          ]
        }
      ]
    },
    {
      "cell_type": "markdown",
      "source": [
        "##LSTM CNN1 MP1D F D512 D256 D13: 33"
      ],
      "metadata": {
        "id": "JKTKM23Nn0Vl"
      }
    },
    {
      "cell_type": "code",
      "source": [
        "from keras.layers import Dense, Flatten, Embedding, BatchNormalization, Dropout, LSTM, Bidirectional, TimeDistributed\n",
        "from keras.models import Sequential\n",
        "from keras.layers.convolutional import Conv1D, MaxPooling1D"
      ],
      "metadata": {
        "id": "_Rjnttm7n0Vs"
      },
      "execution_count": 26,
      "outputs": []
    },
    {
      "cell_type": "code",
      "source": [
        "#Define our model\n",
        "model = Sequential()\n",
        "\n",
        "model.add(Embedding(vocab_size, 100, input_length=max_length, trainable=True))\n",
        "model.add(LSTM(50, return_sequences=True))\n",
        "model.add(Conv1D(filters=32, kernel_size=3, activation='relu'))\n",
        "model.add(MaxPooling1D())\n",
        "\n",
        "#CNN + LSTM\n",
        "#MaxPool1D: pool_size=2: 30\n",
        "#MaxPool1D: w/o specification: 30\n",
        "\n",
        "#LSTM + CNN\n",
        "#MaxPool1D: w/o specification: 33.676094\n",
        "\n",
        "model.add(Flatten())\n",
        "\n",
        "model.add(Dense(512, activation='relu'))\n",
        "model.add(Dense(256, activation='relu'))\n",
        "\n",
        "model.add(Dense(num_classes, activation='softmax'))\n",
        "print(model.summary())"
      ],
      "metadata": {
        "colab": {
          "base_uri": "https://localhost:8080/"
        },
        "outputId": "2c667fb2-340a-47ef-e18b-8366e14ad597",
        "id": "OiHinNUfn0Vs"
      },
      "execution_count": 27,
      "outputs": [
        {
          "output_type": "stream",
          "name": "stdout",
          "text": [
            "Model: \"sequential_1\"\n",
            "_________________________________________________________________\n",
            " Layer (type)                Output Shape              Param #   \n",
            "=================================================================\n",
            " embedding_1 (Embedding)     (None, 66, 100)           1260900   \n",
            "                                                                 \n",
            " lstm (LSTM)                 (None, 66, 50)            30200     \n",
            "                                                                 \n",
            " conv1d_1 (Conv1D)           (None, 64, 32)            4832      \n",
            "                                                                 \n",
            " max_pooling1d_1 (MaxPooling  (None, 32, 32)           0         \n",
            " 1D)                                                             \n",
            "                                                                 \n",
            " flatten_1 (Flatten)         (None, 1024)              0         \n",
            "                                                                 \n",
            " dense_2 (Dense)             (None, 512)               524800    \n",
            "                                                                 \n",
            " dense_3 (Dense)             (None, 256)               131328    \n",
            "                                                                 \n",
            " dense_4 (Dense)             (None, 13)                3341      \n",
            "                                                                 \n",
            "=================================================================\n",
            "Total params: 1,955,401\n",
            "Trainable params: 1,955,401\n",
            "Non-trainable params: 0\n",
            "_________________________________________________________________\n",
            "None\n"
          ]
        }
      ]
    },
    {
      "cell_type": "code",
      "source": [
        "from tensorflow.keras.callbacks import EarlyStopping\n",
        "\n",
        "#put early stopping\n",
        "early_stopping = EarlyStopping(monitor='val_loss', patience=1, mode='min')\n",
        "\n",
        "#Your choices of activation='softmax' in the last layer and compile choice of loss='categorical_crossentropy' \n",
        "#are good for a model to predict multiple mutually-exclusive classes.\n",
        "\n",
        "model.compile(loss='categorical_crossentropy',\n",
        "              optimizer='adam', \n",
        "              metrics=['acc'],)"
      ],
      "metadata": {
        "id": "IoNZ97Men0Vs"
      },
      "execution_count": 28,
      "outputs": []
    },
    {
      "cell_type": "code",
      "source": [
        "#Try classweight from this https://datascience.stackexchange.com/questions/13490/how-to-set-class-weights-for-imbalanced-classes-in-keras\n",
        "\n",
        "history = model.fit(Xtrain, ytrain, \n",
        "                    epochs=10, batch_size=32, \n",
        "                    validation_split=0.2,\n",
        "                    callbacks=[early_stopping])"
      ],
      "metadata": {
        "colab": {
          "base_uri": "https://localhost:8080/"
        },
        "outputId": "e66fe4a3-9995-471f-c11d-b8388902d7c1",
        "id": "3i82PMBRn0Vs"
      },
      "execution_count": 29,
      "outputs": [
        {
          "output_type": "stream",
          "name": "stdout",
          "text": [
            "Epoch 1/10\n",
            "304/304 [==============================] - 18s 50ms/step - loss: 1.6686 - acc: 0.4402 - val_loss: 1.4007 - val_acc: 0.5494\n",
            "Epoch 2/10\n",
            "304/304 [==============================] - 16s 52ms/step - loss: 1.1711 - acc: 0.6323 - val_loss: 1.2858 - val_acc: 0.5811\n",
            "Epoch 3/10\n",
            "304/304 [==============================] - 16s 52ms/step - loss: 0.8441 - acc: 0.7297 - val_loss: 1.3791 - val_acc: 0.5868\n"
          ]
        }
      ]
    },
    {
      "cell_type": "code",
      "source": [
        "history_frame = pd.DataFrame(history.history)\n",
        "history_frame.loc[:, ['loss', 'val_loss']].plot()"
      ],
      "metadata": {
        "colab": {
          "base_uri": "https://localhost:8080/",
          "height": 282
        },
        "outputId": "741bffc1-338c-4360-d73f-138bd0a33186",
        "id": "2B7E8Xcrn0Vt"
      },
      "execution_count": 30,
      "outputs": [
        {
          "output_type": "execute_result",
          "data": {
            "text/plain": [
              "<matplotlib.axes._subplots.AxesSubplot at 0x7f5576806790>"
            ]
          },
          "metadata": {},
          "execution_count": 30
        },
        {
          "output_type": "display_data",
          "data": {
            "text/plain": [
              "<Figure size 432x288 with 1 Axes>"
            ],
            "image/png": "[encoded data removed]"
          },
          "metadata": {
            "needs_background": "light"
          }
        }
      ]
    },
    {
      "cell_type": "code",
      "source": [
        "history_frame.loc[:, ['acc', 'val_acc']].plot()"
      ],
      "metadata": {
        "colab": {
          "base_uri": "https://localhost:8080/",
          "height": 282
        },
        "outputId": "56390726-1a85-48ea-dffd-e3ebaa4bc780",
        "id": "BFZ_Lsvrn0Vt"
      },
      "execution_count": 31,
      "outputs": [
        {
          "output_type": "execute_result",
          "data": {
            "text/plain": [
              "<matplotlib.axes._subplots.AxesSubplot at 0x7f5587ce7090>"
            ]
          },
          "metadata": {},
          "execution_count": 31
        },
        {
          "output_type": "display_data",
          "data": {
            "text/plain": [
              "<Figure size 432x288 with 1 Axes>"
            ],
            "image/png": "[encoded data removed]"
          },
          "metadata": {
            "needs_background": "light"
          }
        }
      ]
    },
    {
      "cell_type": "code",
      "source": [
        "print(ytrain.shape, ytest.shape)"
      ],
      "metadata": {
        "colab": {
          "base_uri": "https://localhost:8080/"
        },
        "outputId": "7d22cb4a-023b-4712-8ed6-4f6254c3fbcb",
        "id": "84PYJYKMn0Vt"
      },
      "execution_count": 32,
      "outputs": [
        {
          "output_type": "stream",
          "name": "stdout",
          "text": [
            "(12150, 13) (389, 13)\n"
          ]
        }
      ]
    },
    {
      "cell_type": "code",
      "source": [
        "loss, acc = model.evaluate(Xtest, ytest)\n",
        "print('Test Accuracy: %f' % (acc*100))"
      ],
      "metadata": {
        "colab": {
          "base_uri": "https://localhost:8080/"
        },
        "outputId": "82c6c89e-8e47-4dc3-92d4-d6cd356892de",
        "id": "At8ST7Ttn0Vu"
      },
      "execution_count": 33,
      "outputs": [
        {
          "output_type": "stream",
          "name": "stdout",
          "text": [
            "13/13 [==============================] - 0s 11ms/step - loss: 2.0077 - acc: 0.3342\n",
            "Test Accuracy: 33.419022\n"
          ]
        }
      ]
    },
    {
      "cell_type": "markdown",
      "source": [
        "##CNN1 LSTM GMP1D F D512 D256 D13: 44"
      ],
      "metadata": {
        "id": "M7XlF2h5Azpg"
      }
    },
    {
      "cell_type": "code",
      "source": [
        "from keras.layers import Dense, Flatten, Embedding, BatchNormalization, Dropout, LSTM, Bidirectional\n",
        "from keras.models import Sequential\n",
        "from keras.layers.convolutional import Conv1D, MaxPooling1D\n",
        "from keras.layers.pooling import GlobalMaxPooling1D"
      ],
      "metadata": {
        "id": "hFzoz7zyAzpv"
      },
      "execution_count": 34,
      "outputs": []
    },
    {
      "cell_type": "code",
      "source": [
        "#Define our model\n",
        "model = Sequential()\n",
        "\n",
        "model.add(Embedding(vocab_size, 100, input_length=max_length, trainable=True))\n",
        "model.add(Conv1D(filters=32, kernel_size=3, activation='relu'))\n",
        "model.add(LSTM(50, return_sequences=True))\n",
        "\n",
        "model.add(GlobalMaxPooling1D())\n",
        "#CNN LSTM GMP1D(w/o spec): 44, 49\n",
        "#LSTM CNN GMP1D(w/o spec): 38, 47\n",
        "\n",
        "model.add(Flatten())\n",
        "\n",
        "model.add(Dense(512, activation='relu'))\n",
        "model.add(Dense(256, activation='relu'))\n",
        "\n",
        "model.add(Dense(num_classes, activation='softmax'))\n",
        "print(model.summary())"
      ],
      "metadata": {
        "colab": {
          "base_uri": "https://localhost:8080/"
        },
        "outputId": "4a0dc36f-2be8-40fe-c322-4d5692a96573",
        "id": "OOIiaeQTAzpv"
      },
      "execution_count": 35,
      "outputs": [
        {
          "output_type": "stream",
          "name": "stdout",
          "text": [
            "Model: \"sequential_2\"\n",
            "_________________________________________________________________\n",
            " Layer (type)                Output Shape              Param #   \n",
            "=================================================================\n",
            " embedding_2 (Embedding)     (None, 66, 100)           1260900   \n",
            "                                                                 \n",
            " conv1d_2 (Conv1D)           (None, 64, 32)            9632      \n",
            "                                                                 \n",
            " lstm_1 (LSTM)               (None, 64, 50)            16600     \n",
            "                                                                 \n",
            " global_max_pooling1d (Globa  (None, 50)               0         \n",
            " lMaxPooling1D)                                                  \n",
            "                                                                 \n",
            " flatten_2 (Flatten)         (None, 50)                0         \n",
            "                                                                 \n",
            " dense_5 (Dense)             (None, 512)               26112     \n",
            "                                                                 \n",
            " dense_6 (Dense)             (None, 256)               131328    \n",
            "                                                                 \n",
            " dense_7 (Dense)             (None, 13)                3341      \n",
            "                                                                 \n",
            "=================================================================\n",
            "Total params: 1,447,913\n",
            "Trainable params: 1,447,913\n",
            "Non-trainable params: 0\n",
            "_________________________________________________________________\n",
            "None\n"
          ]
        }
      ]
    },
    {
      "cell_type": "code",
      "source": [
        "from tensorflow.keras.callbacks import EarlyStopping\n",
        "\n",
        "#put early stopping\n",
        "early_stopping = EarlyStopping(monitor='val_loss', patience=1, mode='min')\n",
        "\n",
        "#Your choices of activation='softmax' in the last layer and compile choice of loss='categorical_crossentropy' \n",
        "#are good for a model to predict multiple mutually-exclusive classes.\n",
        "\n",
        "model.compile(loss='categorical_crossentropy',\n",
        "              optimizer='adam', \n",
        "              metrics=['acc'],)"
      ],
      "metadata": {
        "id": "fsGwd-BPAzpw"
      },
      "execution_count": 36,
      "outputs": []
    },
    {
      "cell_type": "code",
      "source": [
        "#Try classweight from this https://datascience.stackexchange.com/questions/13490/how-to-set-class-weights-for-imbalanced-classes-in-keras\n",
        "\n",
        "history = model.fit(Xtrain, ytrain, \n",
        "                    epochs=10, batch_size=32, \n",
        "                    validation_split=0.2,\n",
        "                    callbacks=[early_stopping])"
      ],
      "metadata": {
        "colab": {
          "base_uri": "https://localhost:8080/"
        },
        "outputId": "b24215a4-6597-47f3-d01f-08232a3a8f44",
        "id": "TsVbHf0RAzpw"
      },
      "execution_count": 37,
      "outputs": [
        {
          "output_type": "stream",
          "name": "stdout",
          "text": [
            "Epoch 1/10\n",
            "304/304 [==============================] - 17s 48ms/step - loss: 1.8032 - acc: 0.3860 - val_loss: 1.5142 - val_acc: 0.5049\n",
            "Epoch 2/10\n",
            "304/304 [==============================] - 14s 46ms/step - loss: 1.3151 - acc: 0.5926 - val_loss: 1.3291 - val_acc: 0.5840\n",
            "Epoch 3/10\n",
            "304/304 [==============================] - 14s 47ms/step - loss: 1.0169 - acc: 0.6872 - val_loss: 1.3395 - val_acc: 0.5926\n"
          ]
        }
      ]
    },
    {
      "cell_type": "code",
      "source": [
        "history_frame = pd.DataFrame(history.history)\n",
        "history_frame.loc[:, ['loss', 'val_loss']].plot()"
      ],
      "metadata": {
        "colab": {
          "base_uri": "https://localhost:8080/",
          "height": 282
        },
        "outputId": "ee441410-5f89-432a-b860-b65c64cf2599",
        "id": "XFAMSdCPAzpx"
      },
      "execution_count": 38,
      "outputs": [
        {
          "output_type": "execute_result",
          "data": {
            "text/plain": [
              "<matplotlib.axes._subplots.AxesSubplot at 0x7f5576de8450>"
            ]
          },
          "metadata": {},
          "execution_count": 38
        },
        {
          "output_type": "display_data",
          "data": {
            "text/plain": [
              "<Figure size 432x288 with 1 Axes>"
            ],
            "image/png": "[encoded data removed]"
          },
          "metadata": {
            "needs_background": "light"
          }
        }
      ]
    },
    {
      "cell_type": "code",
      "source": [
        "history_frame.loc[:, ['acc', 'val_acc']].plot()"
      ],
      "metadata": {
        "colab": {
          "base_uri": "https://localhost:8080/",
          "height": 285
        },
        "outputId": "9f8d95d3-016f-4954-bac8-b0c5ffeaf908",
        "id": "q4jxsipNAzpx"
      },
      "execution_count": 39,
      "outputs": [
        {
          "output_type": "execute_result",
          "data": {
            "text/plain": [
              "<matplotlib.axes._subplots.AxesSubplot at 0x7f5587a9f290>"
            ]
          },
          "metadata": {},
          "execution_count": 39
        },
        {
          "output_type": "display_data",
          "data": {
            "text/plain": [
              "<Figure size 432x288 with 1 Axes>"
            ],
            "image/png": "[encoded data removed]"
          },
          "metadata": {
            "needs_background": "light"
          }
        }
      ]
    },
    {
      "cell_type": "code",
      "source": [
        "print(ytrain.shape, ytest.shape)"
      ],
      "metadata": {
        "colab": {
          "base_uri": "https://localhost:8080/"
        },
        "outputId": "fac4d30d-9fd7-4346-f61f-fd6cc3d95d62",
        "id": "PMDF44cfAzpx"
      },
      "execution_count": 40,
      "outputs": [
        {
          "output_type": "stream",
          "name": "stdout",
          "text": [
            "(12150, 13) (389, 13)\n"
          ]
        }
      ]
    },
    {
      "cell_type": "code",
      "source": [
        "loss, acc = model.evaluate(Xtest, ytest)\n",
        "print('Test Accuracy: %f' % (acc*100))"
      ],
      "metadata": {
        "colab": {
          "base_uri": "https://localhost:8080/"
        },
        "outputId": "f9e7dbb5-24f9-4316-de65-270eeb35cfa7",
        "id": "KveBiofgAzpy"
      },
      "execution_count": 41,
      "outputs": [
        {
          "output_type": "stream",
          "name": "stdout",
          "text": [
            "13/13 [==============================] - 0s 11ms/step - loss: 1.9175 - acc: 0.4447\n",
            "Test Accuracy: 44.473007\n"
          ]
        }
      ]
    },
    {
      "cell_type": "markdown",
      "source": [
        "##CNN GMP1D D256 D13: 56"
      ],
      "metadata": {
        "id": "DTOqlQc2_dYe"
      }
    },
    {
      "cell_type": "code",
      "source": [
        "from keras.layers import Dense, Flatten, Embedding, BatchNormalization, Dropout\n",
        "from keras.models import Sequential\n",
        "from keras.layers.convolutional import Conv1D, MaxPooling1D"
      ],
      "metadata": {
        "id": "v5igmxJL_dYf"
      },
      "execution_count": 42,
      "outputs": []
    },
    {
      "cell_type": "code",
      "source": [
        "from keras.layers.pooling import GlobalMaxPooling1D\n",
        "#Define our model\n",
        "model = Sequential()\n",
        "\n",
        "model.add(Embedding(vocab_size, 100, input_length=max_length, trainable=True))\n",
        "\n",
        "model.add(Conv1D(filters=32, kernel_size=3, activation='relu'))\n",
        "model.add(GlobalMaxPooling1D())\n",
        "\n",
        "#CNN GMP1D(w/o spec): 56.812340\n",
        "#2CNN GMP1D(w/o spec): 53.470439\n",
        "#CNN BN GMP1D(w/o spec): 52.956301\n",
        "\n",
        "\n",
        "model.add(Flatten())\n",
        "#Flatten(): 56\n",
        "#w/o Flatten(): 55\n",
        "\n",
        "model.add(Dense(256, activation='relu'))\n",
        "model.add(Dense(num_classes, activation='softmax'))\n",
        "print(model.summary())"
      ],
      "metadata": {
        "colab": {
          "base_uri": "https://localhost:8080/"
        },
        "outputId": "848a715a-083e-4a91-cea4-7f978e18df3a",
        "id": "JH8zxE2N_dYf"
      },
      "execution_count": 43,
      "outputs": [
        {
          "output_type": "stream",
          "name": "stdout",
          "text": [
            "Model: \"sequential_3\"\n",
            "_________________________________________________________________\n",
            " Layer (type)                Output Shape              Param #   \n",
            "=================================================================\n",
            " embedding_3 (Embedding)     (None, 66, 100)           1260900   \n",
            "                                                                 \n",
            " conv1d_3 (Conv1D)           (None, 64, 32)            9632      \n",
            "                                                                 \n",
            " global_max_pooling1d_1 (Glo  (None, 32)               0         \n",
            " balMaxPooling1D)                                                \n",
            "                                                                 \n",
            " flatten_3 (Flatten)         (None, 32)                0         \n",
            "                                                                 \n",
            " dense_8 (Dense)             (None, 256)               8448      \n",
            "                                                                 \n",
            " dense_9 (Dense)             (None, 13)                3341      \n",
            "                                                                 \n",
            "=================================================================\n",
            "Total params: 1,282,321\n",
            "Trainable params: 1,282,321\n",
            "Non-trainable params: 0\n",
            "_________________________________________________________________\n",
            "None\n"
          ]
        }
      ]
    },
    {
      "cell_type": "code",
      "source": [
        "from tensorflow.keras.callbacks import EarlyStopping\n",
        "\n",
        "#put early stopping\n",
        "early_stopping = EarlyStopping(monitor='val_loss', patience=1, mode='min')\n",
        "\n",
        "#Your choices of activation='softmax' in the last layer and compile choice of loss='categorical_crossentropy' \n",
        "#are good for a model to predict multiple mutually-exclusive classes.\n",
        "\n",
        "model.compile(loss='categorical_crossentropy',\n",
        "              optimizer='adam', \n",
        "              metrics=['acc'],)"
      ],
      "metadata": {
        "id": "-FdHcgGX_dYg"
      },
      "execution_count": 44,
      "outputs": []
    },
    {
      "cell_type": "code",
      "source": [
        "#Try classweight from this https://datascience.stackexchange.com/questions/13490/how-to-set-class-weights-for-imbalanced-classes-in-keras\n",
        "#Current val_loss =  1.24\n",
        "history = model.fit(Xtrain, ytrain, \n",
        "                    epochs=10, batch_size=64, \n",
        "                    validation_split=0.2,\n",
        "                    callbacks=[early_stopping])"
      ],
      "metadata": {
        "colab": {
          "base_uri": "https://localhost:8080/"
        },
        "outputId": "9c4536b0-94fe-4cce-d120-895df95be2e3",
        "id": "8AAA7eBg_dYg"
      },
      "execution_count": 45,
      "outputs": [
        {
          "output_type": "stream",
          "name": "stdout",
          "text": [
            "Epoch 1/10\n",
            "152/152 [==============================] - 3s 15ms/step - loss: 1.9412 - acc: 0.3547 - val_loss: 1.6184 - val_acc: 0.4695\n",
            "Epoch 2/10\n",
            "152/152 [==============================] - 2s 13ms/step - loss: 1.4102 - acc: 0.5634 - val_loss: 1.3184 - val_acc: 0.5757\n",
            "Epoch 3/10\n",
            "152/152 [==============================] - 2s 13ms/step - loss: 1.0083 - acc: 0.6940 - val_loss: 1.2897 - val_acc: 0.5938\n",
            "Epoch 4/10\n",
            "152/152 [==============================] - 2s 13ms/step - loss: 0.6871 - acc: 0.7913 - val_loss: 1.3680 - val_acc: 0.5984\n"
          ]
        }
      ]
    },
    {
      "cell_type": "code",
      "source": [
        "history_frame = pd.DataFrame(history.history)\n",
        "history_frame.loc[:, ['loss', 'val_loss']].plot()"
      ],
      "metadata": {
        "id": "YdaoJmxZ_dYg",
        "colab": {
          "base_uri": "https://localhost:8080/",
          "height": 286
        },
        "outputId": "807094d2-c510-4793-e352-129345a00b7f"
      },
      "execution_count": 46,
      "outputs": [
        {
          "output_type": "execute_result",
          "data": {
            "text/plain": [
              "<matplotlib.axes._subplots.AxesSubplot at 0x7f5577805590>"
            ]
          },
          "metadata": {},
          "execution_count": 46
        },
        {
          "output_type": "display_data",
          "data": {
            "text/plain": [
              "<Figure size 432x288 with 1 Axes>"
            ],
            "image/png": "[encoded data removed]"
          },
          "metadata": {
            "needs_background": "light"
          }
        }
      ]
    },
    {
      "cell_type": "code",
      "source": [
        "history_frame.loc[:, ['acc', 'val_acc']].plot()"
      ],
      "metadata": {
        "id": "c2rPUDus_dYh",
        "colab": {
          "base_uri": "https://localhost:8080/",
          "height": 282
        },
        "outputId": "96e1e694-01eb-44f7-a813-02ca2ca4fec9"
      },
      "execution_count": 47,
      "outputs": [
        {
          "output_type": "execute_result",
          "data": {
            "text/plain": [
              "<matplotlib.axes._subplots.AxesSubplot at 0x7f5577821fd0>"
            ]
          },
          "metadata": {},
          "execution_count": 47
        },
        {
          "output_type": "display_data",
          "data": {
            "text/plain": [
              "<Figure size 432x288 with 1 Axes>"
            ],
            "image/png": "[encoded data removed]"
          },
          "metadata": {
            "needs_background": "light"
          }
        }
      ]
    },
    {
      "cell_type": "code",
      "source": [
        "print(Xtest.shape, ytest.shape)"
      ],
      "metadata": {
        "id": "6cWYrdPP_dYh",
        "colab": {
          "base_uri": "https://localhost:8080/"
        },
        "outputId": "23d73fda-5925-4116-8c3f-111bf3b165c2"
      },
      "execution_count": 48,
      "outputs": [
        {
          "output_type": "stream",
          "name": "stdout",
          "text": [
            "(389, 66) (389, 13)\n"
          ]
        }
      ]
    },
    {
      "cell_type": "code",
      "source": [
        "loss, acc = model.evaluate(Xtest, ytest)\n",
        "print('Test Accuracy: %f' % (acc*100))"
      ],
      "metadata": {
        "id": "K2KkrfNh_dYh",
        "colab": {
          "base_uri": "https://localhost:8080/"
        },
        "outputId": "ce8bc37b-0c35-4129-e57a-6f6c64261b46"
      },
      "execution_count": 49,
      "outputs": [
        {
          "output_type": "stream",
          "name": "stdout",
          "text": [
            "13/13 [==============================] - 0s 3ms/step - loss: 1.4314 - acc: 0.5681\n",
            "Test Accuracy: 56.812340\n"
          ]
        }
      ]
    },
    {
      "cell_type": "markdown",
      "source": [
        "##3CNN1 3DO0.1 3GP1D D256 D13: 62 (with class weights)\n",
        "inspiration: [click](https://machinelearningmastery.com/develop-n-gram-multichannel-convolutional-neural-network-sentiment-analysis/#:~:text=REPLY-,Francesco,-January%2025%2C%202018%20at%209%3A13) "
      ],
      "metadata": {
        "id": "h2JLuWw7XPmZ"
      }
    },
    {
      "cell_type": "markdown",
      "source": [
        "##CNN1 GMP1D D13: 63"
      ],
      "metadata": {
        "id": "gKD476bKEypH"
      }
    },
    {
      "cell_type": "code",
      "source": [
        "import tensorflow as tf\n",
        "from keras.models import Sequential\n",
        "from keras.layers.convolutional import Conv1D, MaxPooling1D\n",
        "from keras.layers.pooling import GlobalMaxPooling1D, AveragePooling1D, GlobalAveragePooling1D\n",
        "from keras.layers import Dense, Flatten, Embedding, BatchNormalization, Dropout, LSTM, Bidirectional, TimeDistributed"
      ],
      "metadata": {
        "id": "d2lQi0YREypT"
      },
      "execution_count": 50,
      "outputs": []
    },
    {
      "cell_type": "code",
      "source": [
        "from keras.layers.pooling import GlobalMaxPooling1D\n",
        "#Define our model\n",
        "model = Sequential()\n",
        "\n",
        "model.add(Embedding(vocab_size, 1000, input_length=max_length, trainable=True))\n",
        "model.add(Conv1D(128, 5 , activation='relu'))\n",
        "#Among filters=[64,128,256], 128 is the best. \n",
        "#activation selu, tanh, relu, elu got similar results\n",
        "model.add(GlobalMaxPooling1D()) #Among pooliing, GMP1D is the best.\n",
        "\n",
        "model.add(Dense(num_classes, activation='softmax')) #1 Dense better than 2 Denses\n",
        "print(model.summary())\n",
        "\n",
        "#Result\n",
        "#CNN128,5 GMP1D D130 D13: 59.897172\n",
        "#EM1000 CNN128,5 GMP1D D13: 65\n",
        "#EM1000 CNN128,5 GMP1D D13 CWS: 65 (CWS = class weights)"
      ],
      "metadata": {
        "colab": {
          "base_uri": "https://localhost:8080/"
        },
        "outputId": "63754494-2b54-414e-d1f6-86a4d9125bf0",
        "id": "EXb3gteMEypT"
      },
      "execution_count": 51,
      "outputs": [
        {
          "output_type": "stream",
          "name": "stdout",
          "text": [
            "Model: \"sequential_4\"\n",
            "_________________________________________________________________\n",
            " Layer (type)                Output Shape              Param #   \n",
            "=================================================================\n",
            " embedding_4 (Embedding)     (None, 66, 1000)          12609000  \n",
            "                                                                 \n",
            " conv1d_4 (Conv1D)           (None, 62, 128)           640128    \n",
            "                                                                 \n",
            " global_max_pooling1d_2 (Glo  (None, 128)              0         \n",
            " balMaxPooling1D)                                                \n",
            "                                                                 \n",
            " dense_10 (Dense)            (None, 13)                1677      \n",
            "                                                                 \n",
            "=================================================================\n",
            "Total params: 13,250,805\n",
            "Trainable params: 13,250,805\n",
            "Non-trainable params: 0\n",
            "_________________________________________________________________\n",
            "None\n"
          ]
        }
      ]
    },
    {
      "cell_type": "code",
      "source": [
        "from tensorflow.keras.callbacks import EarlyStopping\n",
        "\n",
        "#put early stopping\n",
        "early_stopping = EarlyStopping(monitor='val_loss', patience=1, mode='min')\n",
        "\n",
        "#Your choices of activation='softmax' in the last layer and compile choice of loss='categorical_crossentropy' \n",
        "#are good for a model to predict multiple mutually-exclusive classes.\n",
        "\n",
        "model.compile(loss='categorical_crossentropy',\n",
        "              optimizer='adam', \n",
        "              metrics=['acc'],)"
      ],
      "metadata": {
        "id": "8HKUES2PEypT"
      },
      "execution_count": 52,
      "outputs": []
    },
    {
      "cell_type": "code",
      "source": [
        "#Try classweight from this https://datascience.stackexchange.com/questions/13490/how-to-set-class-weights-for-imbalanced-classes-in-keras\n",
        "\n",
        "history = model.fit(Xtrain, ytrain, \n",
        "                    epochs=10, batch_size=32, #32, 128 > 8 (worse), 16, 64, 256\n",
        "                    validation_split=0.2,\n",
        "                    callbacks=[early_stopping])"
      ],
      "metadata": {
        "colab": {
          "base_uri": "https://localhost:8080/"
        },
        "outputId": "a6f3f0c1-9c8a-433c-9c0a-31a1ba3f4334",
        "id": "8DWtx62mEypU"
      },
      "execution_count": 53,
      "outputs": [
        {
          "output_type": "stream",
          "name": "stdout",
          "text": [
            "Epoch 1/10\n",
            "304/304 [==============================] - 23s 74ms/step - loss: 1.4771 - acc: 0.5295 - val_loss: 1.1481 - val_acc: 0.6239\n",
            "Epoch 2/10\n",
            "304/304 [==============================] - 22s 73ms/step - loss: 0.7459 - acc: 0.7678 - val_loss: 1.1115 - val_acc: 0.6551\n",
            "Epoch 3/10\n",
            "304/304 [==============================] - 22s 73ms/step - loss: 0.2433 - acc: 0.9409 - val_loss: 1.1815 - val_acc: 0.6383\n"
          ]
        }
      ]
    },
    {
      "cell_type": "code",
      "source": [
        "loss, acc = model.evaluate(Xtest, ytest)\n",
        "print('Test Accuracy: %f' % (acc*100)) #with class weights = 0.64, w/o = 65"
      ],
      "metadata": {
        "colab": {
          "base_uri": "https://localhost:8080/"
        },
        "outputId": "f6378b89-d102-4430-9457-074505a37d6a",
        "id": "tO0kUYvbEypU"
      },
      "execution_count": 54,
      "outputs": [
        {
          "output_type": "stream",
          "name": "stdout",
          "text": [
            "13/13 [==============================] - 0s 8ms/step - loss: 1.2726 - acc: 0.6324\n",
            "Test Accuracy: 63.239074\n"
          ]
        }
      ]
    },
    {
      "cell_type": "code",
      "source": [
        "history_frame = pd.DataFrame(history.history)\n",
        "history_frame.loc[:, ['loss', 'val_loss']].plot()"
      ],
      "metadata": {
        "colab": {
          "base_uri": "https://localhost:8080/",
          "height": 282
        },
        "outputId": "8172bf04-f52c-4026-ff45-076b7022cbf3",
        "id": "Mq5yfdPZEypU"
      },
      "execution_count": 55,
      "outputs": [
        {
          "output_type": "execute_result",
          "data": {
            "text/plain": [
              "<matplotlib.axes._subplots.AxesSubplot at 0x7f5577eca1d0>"
            ]
          },
          "metadata": {},
          "execution_count": 55
        },
        {
          "output_type": "display_data",
          "data": {
            "text/plain": [
              "<Figure size 432x288 with 1 Axes>"
            ],
            "image/png": "[encoded data removed]"
          },
          "metadata": {
            "needs_background": "light"
          }
        }
      ]
    },
    {
      "cell_type": "code",
      "source": [
        "history_frame.loc[:, ['acc', 'val_acc']].plot()"
      ],
      "metadata": {
        "colab": {
          "base_uri": "https://localhost:8080/",
          "height": 282
        },
        "outputId": "6ee70a40-7fb3-4a16-d3d1-afa68a9fcb65",
        "id": "DWwX6VhBEypU"
      },
      "execution_count": 56,
      "outputs": [
        {
          "output_type": "execute_result",
          "data": {
            "text/plain": [
              "<matplotlib.axes._subplots.AxesSubplot at 0x7f5577eba910>"
            ]
          },
          "metadata": {},
          "execution_count": 56
        },
        {
          "output_type": "display_data",
          "data": {
            "text/plain": [
              "<Figure size 432x288 with 1 Axes>"
            ],
            "image/png": "[encoded data removed]"
          },
          "metadata": {
            "needs_background": "light"
          }
        }
      ]
    },
    {
      "cell_type": "code",
      "execution_count": 57,
      "metadata": {
        "id": "mtyeQSWKtwnr"
      },
      "outputs": [],
      "source": [
        "from keras.layers import Dense, Flatten, Embedding, BatchNormalization, Dropout, LSTM, Bidirectional, TimeDistributed, concatenate\n",
        "from keras.models import Sequential, Model\n",
        "from keras.layers.convolutional import Conv1D, MaxPooling1D\n",
        "from keras.layers.pooling import GlobalMaxPooling1D, AveragePooling1D, GlobalAveragePooling1D\n",
        "import tensorflow as tf\n",
        "import keras\n",
        "from tensorflow.keras import Input\n",
        "from tensorflow.keras.optimizers import Adam"
      ]
    },
    {
      "cell_type": "code",
      "execution_count": 58,
      "metadata": {
        "colab": {
          "base_uri": "https://localhost:8080/"
        },
        "id": "tP_twuR1t0uX",
        "outputId": "7380b3dc-5900-4785-a396-2d9f89b5470e"
      },
      "outputs": [
        {
          "output_type": "stream",
          "name": "stdout",
          "text": [
            "Model: \"model\"\n",
            "__________________________________________________________________________________________________\n",
            " Layer (type)                   Output Shape         Param #     Connected to                     \n",
            "==================================================================================================\n",
            " input_1 (InputLayer)           [(None, 66)]         0           []                               \n",
            "                                                                                                  \n",
            " embedding_5 (Embedding)        (None, 66, 1000)     12609000    ['input_1[0][0]']                \n",
            "                                                                                                  \n",
            " embedding_6 (Embedding)        (None, 66, 1000)     12609000    ['input_1[0][0]']                \n",
            "                                                                                                  \n",
            " embedding_7 (Embedding)        (None, 66, 1000)     12609000    ['input_1[0][0]']                \n",
            "                                                                                                  \n",
            " conv1d_5 (Conv1D)              (None, 61, 128)      768128      ['embedding_5[0][0]']            \n",
            "                                                                                                  \n",
            " conv1d_6 (Conv1D)              (None, 59, 128)      1024128     ['embedding_6[0][0]']            \n",
            "                                                                                                  \n",
            " conv1d_7 (Conv1D)              (None, 57, 128)      1280128     ['embedding_7[0][0]']            \n",
            "                                                                                                  \n",
            " dropout_1 (Dropout)            (None, 61, 128)      0           ['conv1d_5[0][0]']               \n",
            "                                                                                                  \n",
            " dropout_2 (Dropout)            (None, 59, 128)      0           ['conv1d_6[0][0]']               \n",
            "                                                                                                  \n",
            " dropout_3 (Dropout)            (None, 57, 128)      0           ['conv1d_7[0][0]']               \n",
            "                                                                                                  \n",
            " global_max_pooling1d_3 (Global  (None, 128)         0           ['dropout_1[0][0]']              \n",
            " MaxPooling1D)                                                                                    \n",
            "                                                                                                  \n",
            " global_max_pooling1d_4 (Global  (None, 128)         0           ['dropout_2[0][0]']              \n",
            " MaxPooling1D)                                                                                    \n",
            "                                                                                                  \n",
            " global_max_pooling1d_5 (Global  (None, 128)         0           ['dropout_3[0][0]']              \n",
            " MaxPooling1D)                                                                                    \n",
            "                                                                                                  \n",
            " concatenate (Concatenate)      (None, 384)          0           ['global_max_pooling1d_3[0][0]', \n",
            "                                                                  'global_max_pooling1d_4[0][0]', \n",
            "                                                                  'global_max_pooling1d_5[0][0]'] \n",
            "                                                                                                  \n",
            " dense_11 (Dense)               (None, 13)           5005        ['concatenate[0][0]']            \n",
            "                                                                                                  \n",
            "==================================================================================================\n",
            "Total params: 40,904,389\n",
            "Trainable params: 40,904,389\n",
            "Non-trainable params: 0\n",
            "__________________________________________________________________________________________________\n"
          ]
        }
      ],
      "source": [
        "# create the model\n",
        "model = Sequential()\n",
        "inputs = Input(shape=(max_length,))\n",
        "\n",
        "# channel 1\n",
        "embedding1 = Embedding(vocab_size, 1000, trainable=True)(inputs)\n",
        "conv1 = Conv1D(128, 6, activation='relu')(embedding1)\n",
        "drop1 = Dropout(0.1)(conv1)\n",
        "pool1 = GlobalMaxPooling1D()(drop1)\n",
        "# channel 2\n",
        "embedding2 = Embedding(vocab_size, 1000, trainable=True)(inputs)\n",
        "conv2 = Conv1D(128, 8, activation='relu')(embedding2)\n",
        "drop2 = Dropout(0.1)(conv2)\n",
        "pool2 = GlobalMaxPooling1D()(drop2)\n",
        "# channel 3\n",
        "embedding3 = Embedding(vocab_size, 1000, trainable=True)(inputs)\n",
        "conv3 = Conv1D(128, 10, activation='relu')(embedding3)\n",
        "drop3 = Dropout(0.1)(conv3)\n",
        "pool3 = GlobalMaxPooling1D()(drop3)\n",
        "\n",
        "# merge\n",
        "merged = concatenate([pool1, pool2, pool3])\n",
        "\n",
        "# Fully connected \n",
        "outputs = Dense(num_classes, activation='softmax')(merged) #1 Dense better than 2 or three Denses\n",
        "\n",
        "model = Model(inputs=[inputs], outputs=outputs)\n",
        "model.summary()"
      ]
    },
    {
      "cell_type": "code",
      "execution_count": 59,
      "metadata": {
        "id": "VBVOATtruCJB"
      },
      "outputs": [],
      "source": [
        "from tensorflow.keras.callbacks import EarlyStopping\n",
        "\n",
        "#put early stopping\n",
        "early_stopping = EarlyStopping(monitor='val_loss', patience=1, mode='min')\n",
        "\n",
        "#Your choices of activation='softmax' in the last layer and compile choice of loss='categorical_crossentropy' \n",
        "#are good for a model to predict multiple mutually-exclusive classes.\n",
        "\n",
        "#Learning Rate = 0.01, acc = 40%\n",
        "\n",
        "model.compile(loss='categorical_crossentropy',\n",
        "              optimizer='adam', \n",
        "              metrics=['acc'],)"
      ]
    },
    {
      "cell_type": "code",
      "source": [
        "train_y = [x-1 for x in train['Human_CategoryID'].tolist()]\n",
        "\n",
        "class_weights = compute_class_weight(\n",
        "                                        class_weight = \"balanced\",\n",
        "                                        classes = np.unique(train_y),\n",
        "                                        y = train_y                                                   \n",
        "                                    )\n",
        "class_weights = dict(zip(np.unique(train_y), class_weights))"
      ],
      "metadata": {
        "id": "V7iIQ1MXuMpn"
      },
      "execution_count": 62,
      "outputs": []
    },
    {
      "cell_type": "code",
      "execution_count": 63,
      "metadata": {
        "colab": {
          "base_uri": "https://localhost:8080/"
        },
        "id": "dwxEcVlFuGDD",
        "outputId": "8844837e-ebeb-4eb3-b803-c3b8e4c208d8"
      },
      "outputs": [
        {
          "output_type": "stream",
          "name": "stdout",
          "text": [
            "Epoch 1/10\n",
            "304/304 [==============================] - 53s 170ms/step - loss: 2.0390 - acc: 0.3711 - val_loss: 1.5151 - val_acc: 0.5082\n",
            "Epoch 2/10\n",
            "304/304 [==============================] - 50s 163ms/step - loss: 0.5509 - acc: 0.7629 - val_loss: 1.1582 - val_acc: 0.6123\n",
            "Epoch 3/10\n",
            "304/304 [==============================] - 48s 159ms/step - loss: 0.1207 - acc: 0.9495 - val_loss: 1.0721 - val_acc: 0.6506\n",
            "Epoch 4/10\n",
            "304/304 [==============================] - 63s 208ms/step - loss: 0.0337 - acc: 0.9912 - val_loss: 1.0871 - val_acc: 0.6494\n"
          ]
        }
      ],
      "source": [
        "#Try classweight from this https://datascience.stackexchange.com/questions/13490/how-to-set-class-weights-for-imbalanced-classes-in-keras\n",
        "#Get the similar results\n",
        "\n",
        "history = model.fit(Xtrain, ytrain, \n",
        "                    epochs=10, batch_size=32, #32, 128 > 8 (worse), 16, 64, 256\n",
        "                    validation_split=0.2,\n",
        "                    callbacks=[early_stopping],\n",
        "                    class_weight=class_weights)"
      ]
    },
    {
      "cell_type": "code",
      "execution_count": 64,
      "metadata": {
        "colab": {
          "base_uri": "https://localhost:8080/"
        },
        "id": "LQu7qz5ZuJFC",
        "outputId": "0be5826c-31b4-4640-f762-413fb3a38cc9"
      },
      "outputs": [
        {
          "output_type": "stream",
          "name": "stdout",
          "text": [
            "13/13 [==============================] - 0s 29ms/step - loss: 1.1873 - acc: 0.6298\n",
            "Test Accuracy: 62.982005\n"
          ]
        }
      ],
      "source": [
        "loss, acc = model.evaluate(Xtest, ytest)\n",
        "print('Test Accuracy: %f' % (acc*100))"
      ]
    },
    {
      "cell_type": "code",
      "execution_count": 65,
      "metadata": {
        "id": "FF_Ngjc1Y3wa"
      },
      "outputs": [],
      "source": [
        "#prediction\n",
        "y_pred = model.predict(Xtest)\n",
        "\n",
        "#Change one hot answer to be single digit as follows \n",
        "#https://stackoverflow.com/questions/54589669/confusion-matrix-error-classification-metrics-cant-handle-a-mix-of-multilabel\n",
        "\n",
        "rounded_labels_ypred = np.argmax(y_pred, axis=1)\n",
        "rounded_labels_ytest = np.argmax(ytest,axis=1)"
      ]
    },
    {
      "cell_type": "markdown",
      "source": [
        ""
      ],
      "metadata": {
        "id": "QLnM8ds2X8zg"
      }
    },
    {
      "cell_type": "markdown",
      "metadata": {
        "id": "m_qi39uZCbtV"
      },
      "source": [
        "#Plot Confusion and Classification Report"
      ]
    },
    {
      "cell_type": "code",
      "execution_count": 68,
      "metadata": {
        "colab": {
          "base_uri": "https://localhost:8080/",
          "height": 487
        },
        "id": "5usjDWqJCiZ2",
        "outputId": "b9f768af-ca9f-4cdb-8fc4-9c83a1109e2f"
      },
      "outputs": [
        {
          "output_type": "execute_result",
          "data": {
            "text/plain": [
              "<IPython.core.display.Image object>"
            ],
            "image/png": "[encoded data removed]"
          },
          "metadata": {},
          "execution_count": 68
        }
      ],
      "source": [
        "plot_model(model, to_file='model_plot.png', show_shapes=True, show_layer_names=True)\n",
        "\n",
        "# from google.colab import files\n",
        "# files.download('model_plot.png')"
      ]
    },
    {
      "cell_type": "code",
      "execution_count": 69,
      "metadata": {
        "colab": {
          "base_uri": "https://localhost:8080/",
          "height": 282
        },
        "id": "5ixGTFSFCliW",
        "outputId": "36f68add-3873-4d8c-e495-979ce3301a4e"
      },
      "outputs": [
        {
          "output_type": "execute_result",
          "data": {
            "text/plain": [
              "<matplotlib.axes._subplots.AxesSubplot at 0x7f5587ecfcd0>"
            ]
          },
          "metadata": {},
          "execution_count": 69
        },
        {
          "output_type": "display_data",
          "data": {
            "text/plain": [
              "<Figure size 432x288 with 1 Axes>"
            ],
            "image/png": "[encoded data removed]"
          },
          "metadata": {
            "needs_background": "light"
          }
        }
      ],
      "source": [
        "history_frame = pd.DataFrame(history.history)\n",
        "history_frame.loc[:, ['loss', 'val_loss']].plot()"
      ]
    },
    {
      "cell_type": "code",
      "execution_count": 70,
      "metadata": {
        "colab": {
          "base_uri": "https://localhost:8080/",
          "height": 282
        },
        "id": "O7I-ceIkDobB",
        "outputId": "8f3cf079-553a-4456-9dd3-8029ddeb4da5"
      },
      "outputs": [
        {
          "output_type": "execute_result",
          "data": {
            "text/plain": [
              "<matplotlib.axes._subplots.AxesSubplot at 0x7f5576ec3250>"
            ]
          },
          "metadata": {},
          "execution_count": 70
        },
        {
          "output_type": "display_data",
          "data": {
            "text/plain": [
              "<Figure size 432x288 with 1 Axes>"
            ],
            "image/png": "[encoded data removed]"
          },
          "metadata": {
            "needs_background": "light"
          }
        }
      ],
      "source": [
        "history_frame.loc[:, ['acc', 'val_acc']].plot()"
      ]
    },
    {
      "cell_type": "code",
      "execution_count": 72,
      "metadata": {
        "colab": {
          "base_uri": "https://localhost:8080/"
        },
        "id": "NVboaPbubrjH",
        "outputId": "d3c78cca-781a-4e09-f616-0e6ea23b67f5"
      },
      "outputs": [
        {
          "output_type": "stream",
          "name": "stdout",
          "text": [
            "test_unique_classes\n",
            "12\n"
          ]
        },
        {
          "output_type": "execute_result",
          "data": {
            "text/plain": [
              "{0: 'Accessibility',\n",
              " 2: 'Company Brand',\n",
              " 3: 'Staff Quality',\n",
              " 4: 'Timing',\n",
              " 5: 'Product and Service, Benefit',\n",
              " 6: 'Product and Service, System',\n",
              " 7: 'Product and Service, Usage and Condition',\n",
              " 8: 'Product and Service, Convenience',\n",
              " 9: 'Product and Service, Variety',\n",
              " 10: 'Product and Service, Decision',\n",
              " 11: 'Security',\n",
              " 12: 'No Category'}"
            ]
          },
          "metadata": {},
          "execution_count": 72
        }
      ],
      "source": [
        "#Find dict of label ids and names.\n",
        "if train['Human_CategoryID'].nunique() < test['Human_CategoryID'].nunique():\n",
        "  print('train_unique_classes')\n",
        "  classes_with_id_dict = {id-1: labels for id, labels in zip(train['Human_CategoryID'], train['Human_Category'])}\n",
        "  print(len(classes_with_id_dict))\n",
        "else:\n",
        "  print('test_unique_classes')\n",
        "  classes_with_id_dict = {id-1: labels for id, labels in zip(test['Human_CategoryID'], test['Human_Category'])}\n",
        "  print(len(classes_with_id_dict))\n",
        "\n",
        "classes_with_id_dict"
      ]
    },
    {
      "cell_type": "code",
      "execution_count": 73,
      "metadata": {
        "colab": {
          "base_uri": "https://localhost:8080/"
        },
        "id": "ehUDl4vs5pq0",
        "outputId": "685a8718-9d2b-49bd-e61b-738fad10469d"
      },
      "outputs": [
        {
          "output_type": "stream",
          "name": "stdout",
          "text": [
            "test_unique_classes\n",
            "12\n"
          ]
        }
      ],
      "source": [
        "#get an labels array in the conseuctive order based on id number.\n",
        "train_unique_classes = train['Human_CategoryID'].nunique()\n",
        "test_unique_classes = test['Human_CategoryID'].nunique()\n",
        "\n",
        "#find the label total\n",
        "if train['Human_CategoryID'].nunique() > test['Human_CategoryID'].nunique():\n",
        "  print('test_unique_classes')\n",
        "  classes_with_id = test_unique_classes\n",
        "else:\n",
        "  print('train_unique_classes')\n",
        "  classes_with_id = train_unique_classes\n",
        "\n",
        "#convert a dict to an array\n",
        "classes_array = [\"\" for x in range(classes_with_id+1)]\n",
        "\n",
        "for id, label in classes_with_id_dict.items():\n",
        "  classes_array[id] = label\n",
        "\n",
        "#delete empty string for classification report\n",
        "classes_array = [label for label in classes_array if label != \"\"]\n",
        "classes_array\n",
        "print(len(classes_array))"
      ]
    },
    {
      "cell_type": "code",
      "execution_count": 75,
      "metadata": {
        "colab": {
          "base_uri": "https://localhost:8080/"
        },
        "id": "QEYGOtoXzi-b",
        "outputId": "b7e88be9-68d3-4a94-84d4-8b1c60cb7437"
      },
      "outputs": [
        {
          "output_type": "stream",
          "name": "stdout",
          "text": [
            "                                          precision    recall  f1-score   support\n",
            "\n",
            "                           Accessibility       0.50      0.43      0.46         7\n",
            "                           Company Brand       0.38      0.42      0.40        12\n",
            "                           Staff Quality       0.47      0.47      0.47        17\n",
            "                                  Timing       0.64      0.75      0.69        28\n",
            "            Product and Service, Benefit       0.73      0.59      0.66        32\n",
            "             Product and Service, System       0.71      0.88      0.79        84\n",
            "Product and Service, Usage and Condition       0.62      0.70      0.65        92\n",
            "        Product and Service, Convenience       0.50      0.18      0.27        11\n",
            "            Product and Service, Variety       0.38      0.42      0.40        12\n",
            "           Product and Service, Decision       0.44      0.40      0.42        10\n",
            "                                Security       0.67      0.67      0.67         3\n",
            "                             No Category       0.67      0.47      0.55        81\n",
            "\n",
            "                                accuracy                           0.63       389\n",
            "                               macro avg       0.56      0.53      0.54       389\n",
            "                            weighted avg       0.63      0.63      0.62       389\n",
            "\n"
          ]
        }
      ],
      "source": [
        "from sklearn.metrics import classification_report\n",
        "\n",
        "print(classification_report(rounded_labels_ytest, rounded_labels_ypred, target_names=classes_array, zero_division=0))"
      ]
    },
    {
      "cell_type": "code",
      "execution_count": 76,
      "metadata": {
        "colab": {
          "base_uri": "https://localhost:8080/",
          "height": 863
        },
        "id": "bt6jwSuSzi-b",
        "outputId": "b0b5ec1e-5c6d-4b21-98bf-ab29153c04d2"
      },
      "outputs": [
        {
          "output_type": "display_data",
          "data": {
            "text/plain": [
              "<Figure size 720x720 with 2 Axes>"
            ],
            "image/png": "[encoded data removed]"
          },
          "metadata": {
            "needs_background": "light"
          }
        }
      ],
      "source": [
        "import seaborn as sns\n",
        "from sklearn.metrics import confusion_matrix\n",
        "import matplotlib.pyplot as plt\n",
        "\n",
        "cf_matrix = confusion_matrix(rounded_labels_ytest, rounded_labels_ypred)\n",
        "\n",
        "fig, ax = plt.subplots(figsize=(10,10))    \n",
        "ax = sns.heatmap(cf_matrix, annot=True, cmap='Blues', ax=ax, fmt=\".1f\")\n",
        "\n",
        "ax.set_title('Seaborn Confusion Matrix with labels\\n\\n');\n",
        "ax.set_xlabel('\\nPredicted Flower Category')\n",
        "ax.set_ylabel('Actual Flower Category ');\n",
        "\n",
        "## Ticket labels - List must be in alphabetical order\n",
        "ax.xaxis.set_ticklabels(classes_array, rotation=90)\n",
        "ax.yaxis.set_ticklabels(classes_array, rotation=0)\n",
        "\n",
        "## Display the visualization of the Confusion Matrix.\n",
        "plt.show()\n",
        "\n",
        "figure = ax.get_figure()    \n",
        "figure.savefig(\"cf_matrix.png\", pad_inches= 12, dpi=400)"
      ]
    }
  ]
}