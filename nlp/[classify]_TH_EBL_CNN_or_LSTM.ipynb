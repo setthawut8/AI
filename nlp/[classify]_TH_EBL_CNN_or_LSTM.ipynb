{
  "nbformat": 4,
  "nbformat_minor": 0,
  "metadata": {
    "colab": {
      "name": "[classify]  TH_EBL_CNN_or_LSTM.ipynb",
      "provenance": [],
      "collapsed_sections": [],
      "machine_shape": "hm",
      "toc_visible": true,
      "authorship_tag": "ABX9TyNemem2q831oXa3WFrSXkCp",
      "include_colab_link": true
    },
    "kernelspec": {
      "name": "python3",
      "display_name": "Python 3"
    },
    "language_info": {
      "name": "python"
    },
    "gpuClass": "standard",
    "accelerator": "TPU"
  },
  "cells": [
    {
      "cell_type": "markdown",
      "metadata": {
        "id": "view-in-github",
        "colab_type": "text"
      },
      "source": [
        "<a href=\"https://colab.research.google.com/github/setthawut8/ai/blob/main/nlp/%5Bclassify%5D_TH_EBL_CNN_or_LSTM.ipynb\" target=\"_parent\"><img src=\"https://colab.research.google.com/assets/colab-badge.svg\" alt=\"Open In Colab\"/></a>"
      ]
    },
    {
      "cell_type": "markdown",
      "source": [
        "#Best Result: \n",
        "1) 4CNN2 MP2D F DO0.5 D13: 68\n",
        "\n",
        "2) 4CNN1,(128,256,512,1024),(5) 3DO0.5 3GMP1D CONCAT D13 CW P2: 65\n",
        "\n",
        "3) CNN1,(128,5) GMP1D D13: 64\n",
        "\n",
        "=================================================================\n",
        "\n",
        "can copy the name before: and find the model\n",
        "\n",
        "like CNN1,(512,5) GMP1D D13: 64. \n",
        "copy CNN1,(512,5) GMP1D D13 and find below"
      ],
      "metadata": {
        "id": "yfHmeUscYyxq"
      }
    },
    {
      "cell_type": "markdown",
      "source": [
        "#Download Data and Library Installation"
      ],
      "metadata": {
        "id": "DKZejA_uh9kv"
      }
    },
    {
      "cell_type": "code",
      "execution_count": 1,
      "metadata": {
        "colab": {
          "base_uri": "https://localhost:8080/"
        },
        "id": "rY0gVkg8ahbS",
        "outputId": "bf065432-630e-4d95-80d3-215212b13810"
      },
      "outputs": [
        {
          "output_type": "stream",
          "name": "stdout",
          "text": [
            "/usr/local/lib/python3.7/dist-packages/gdown/cli.py:131: FutureWarning: Option `--id` was deprecated in version 4.3.1 and will be removed in 5.0. You don't need to pass it anymore to use a file ID.\n",
            "  category=FutureWarning,\n",
            "Downloading...\n",
            "From: https://drive.google.com/uc?id=1-avUDygRCGvAiPplmc6MundS_PpnohRv\n",
            "To: /content/preprocessed_v1_socialfsi_single_train_sampling12150_20220701.xlsx\n",
            "100% 3.87M/3.87M [00:00<00:00, 216MB/s]\n",
            "/usr/local/lib/python3.7/dist-packages/gdown/cli.py:131: FutureWarning: Option `--id` was deprecated in version 4.3.1 and will be removed in 5.0. You don't need to pass it anymore to use a file ID.\n",
            "  category=FutureWarning,\n",
            "Downloading...\n",
            "From: https://drive.google.com/uc?id=106OVRPIQQBppganRnCZigxQh6-Zyvqit\n",
            "To: /content/preprocessed_v1_socialfsi_single_test_sampling389_20220701.xlsx\n",
            "100% 141k/141k [00:00<00:00, 79.5MB/s]\n"
          ]
        }
      ],
      "source": [
        "#download data\n"
      ]
    },
    {
      "cell_type": "code",
      "source": [
        "#libraby \n",
        "import numpy as np\n",
        "import pandas as pd\n",
        "import seaborn as sns\n",
        "import matplotlib.pyplot as plt\n",
        "\n",
        "from sklearn.utils.class_weight import compute_class_weight\n",
        "from tensorflow.keras.utils import plot_model"
      ],
      "metadata": {
        "id": "cgMb7j8pbNQj"
      },
      "execution_count": 2,
      "outputs": []
    },
    {
      "cell_type": "code",
      "source": [
        "train = pd.read_excel('/content/preprocessed_v1_socialfsi_single_train_sampling12150_20220701.xlsx')\n",
        "test = pd.read_excel('/content/preprocessed_v1_socialfsi_single_test_sampling389_20220701.xlsx')"
      ],
      "metadata": {
        "id": "ITJldeRSbbc6"
      },
      "execution_count": 3,
      "outputs": []
    },
    {
      "cell_type": "code",
      "source": [
        "train.head(5)"
      ],
      "metadata": {
        "colab": {
          "base_uri": "https://localhost:8080/",
          "height": 565
        },
        "id": "sMuRAAX0b2mv",
        "outputId": "84bd918f-39d6-4113-9c99-c999767f1060"
      },
      "execution_count": 4,
      "outputs": [
        {
          "output_type": "execute_result",
          "data": {
            "text/plain": [
              "   Unnamed: 0                                       TagFile_Path  \\\n",
              "0           0  SocialFSI_ZE-KTB-Feb-Apr2022_Sampling2244_2022...   \n",
              "1           1  SocialFSI_v4_0_mutiple_train_sampling8203_2021...   \n",
              "2           2  SocialFSI_ZE-KTB-Feb-Apr2022_Sampling2244_2022...   \n",
              "3           3  SocialFSI_v4_0_mutiple_train_sampling8203_2021...   \n",
              "4           4  SocialFSI_v4_0_mutiple_train_sampling8203_2021...   \n",
              "\n",
              "                                             TagFile SV_CustomerName  \\\n",
              "0  SocialFSI_ZE-KTB-Feb-Apr2022_Sampling1400_2022...  Krungthai_NEXT   \n",
              "1  SocialFSI_TrainDataV4_RetagCLS-12_Sampling53_P...             NaN   \n",
              "2  SocialFSI_ZE-KTB-Feb-Apr2022_Sampling1200_2022...  Krungthai_NEXT   \n",
              "3  SocialFSI_TrainSCB-SocialFilterV2_Sampling2750...             NaN   \n",
              "4  SocialFSI_TrainSCB-SocialFilterV2_Sampling2750...             NaN   \n",
              "\n",
              "                                        Main keyword      Channel SubChannel  \\\n",
              "0  mobile banking+กสิกร,mobile banking+ธนาคารกสิก...  SocialMedia      forum   \n",
              "1                                                NaN  SocialMedia    Twitter   \n",
              "2                                          krungthai  SocialMedia   facebook   \n",
              "3                                                NaN  SocialMedia    Twitter   \n",
              "4                                                NaN  SocialMedia    Twitter   \n",
              "\n",
              "                                 lfdn   verbatim_id     sentence_id  \\\n",
              "0           pantip.com_topic_41249919    Q2207_1549    Q2207_1549_1   \n",
              "1            5fffc6bcb08b583a24679d59  Q202106_5805  Q202106_5805_1   \n",
              "2  10161808181448916_1330115550790924     Q2207_636     Q2207_636_1   \n",
              "3                            27634345   Q202106_961   Q202106_961_1   \n",
              "4                            28297653  Q202106_2021  Q202106_2021_1   \n",
              "\n",
              "                                       Text_original  \\\n",
              "0  สอบถามเรื่องการอายัดบัตรเดบิตของกสิกรค่ะ พอดีว...   \n",
              "1  ปกติจะไม่ชอบlog in ใดๆในคอมคนอื่นหรือสำนักงานใ...   \n",
              "2  Krungthai Care ณ. ตอนนี้ยอดก็ยังไม่เข้าค่ะ ถ้า...   \n",
              "3  @scb_thailand เรียน scb ขอเบอร?ตืดต่อเพราะคุย ...   \n",
              "4  ไอเลิ้บ TMB All Free มาก แต่ช่วยพัฒนาแอพให้สเถ...   \n",
              "\n",
              "                                                Text  \\\n",
              "0  สอบถามเรื่องการอายัดบัตรเดบิตของกสิกรค่ะ พอดีว...   \n",
              "1  ปกติจะไม่ชอบlog in ใดๆในคอมคนอื่นหรือสำนักงานใ...   \n",
              "2  Krungthai Care ณ. ตอนนี้ยอดก็ยังไม่เข้าค่ะ ถ้า...   \n",
              "3  @scb_thailand เรียน scb ขอเบอร?ตืดต่อเพราะคุย ...   \n",
              "4                          ไอเลิ้บ TMB All Free มาก    \n",
              "\n",
              "                             Human_Category  Human_CategoryID Human_Sentiment  \\\n",
              "0  Product and Service, Usage and Condition                 8         neutral   \n",
              "1                                  Security                12         neutral   \n",
              "2               Product and Service, System                 7        negative   \n",
              "3                             Staff Quality                 4        negative   \n",
              "4  Product and Service, Usage and Condition                 8        positive   \n",
              "\n",
              "  Human_SentimentID                                      Text_ws_local  \n",
              "0                 o  สอบถาม|เรื่อง|การ|อายัด|บัตรเดบิต|ของ|kbank|ค่...  \n",
              "1                 o  ปกติ|จะ|ไม่ชอบ| |log| |in| |ใดๆ| |ใน|ค|อม|คนอื...  \n",
              "2                 n  ktb| |care| |ณ|.| |ตอนนี้|ยอด|ก็|ยัง|ไม่|เข้า|...  \n",
              "3                 n  scb_thailand| |เรียน| |scb| |ขอ|เบอร| |ตืด|ต่อ...  \n",
              "4                 p                    ไอ|เลิ้บ| |tmb_all_free| |มาก|   "
            ],
            "text/html": [
              "\n",
              "  <div id=\"df-5edc407a-8502-4eb3-85a7-2852c00c95c3\">\n",
              "    <div class=\"colab-df-container\">\n",
              "      <div>\n",
              "<style scoped>\n",
              "    .dataframe tbody tr th:only-of-type {\n",
              "        vertical-align: middle;\n",
              "    }\n",
              "\n",
              "    .dataframe tbody tr th {\n",
              "        vertical-align: top;\n",
              "    }\n",
              "\n",
              "    .dataframe thead th {\n",
              "        text-align: right;\n",
              "    }\n",
              "</style>\n",
              "<table border=\"1\" class=\"dataframe\">\n",
              "  <thead>\n",
              "    <tr style=\"text-align: right;\">\n",
              "      <th></th>\n",
              "      <th>Unnamed: 0</th>\n",
              "      <th>TagFile_Path</th>\n",
              "      <th>TagFile</th>\n",
              "      <th>SV_CustomerName</th>\n",
              "      <th>Main keyword</th>\n",
              "      <th>Channel</th>\n",
              "      <th>SubChannel</th>\n",
              "      <th>lfdn</th>\n",
              "      <th>verbatim_id</th>\n",
              "      <th>sentence_id</th>\n",
              "      <th>Text_original</th>\n",
              "      <th>Text</th>\n",
              "      <th>Human_Category</th>\n",
              "      <th>Human_CategoryID</th>\n",
              "      <th>Human_Sentiment</th>\n",
              "      <th>Human_SentimentID</th>\n",
              "      <th>Text_ws_local</th>\n",
              "    </tr>\n",
              "  </thead>\n",
              "  <tbody>\n",
              "    <tr>\n",
              "      <th>0</th>\n",
              "      <td>0</td>\n",
              "      <td>SocialFSI_ZE-KTB-Feb-Apr2022_Sampling2244_2022...</td>\n",
              "      <td>SocialFSI_ZE-KTB-Feb-Apr2022_Sampling1400_2022...</td>\n",
              "      <td>Krungthai_NEXT</td>\n",
              "      <td>mobile banking+กสิกร,mobile banking+ธนาคารกสิก...</td>\n",
              "      <td>SocialMedia</td>\n",
              "      <td>forum</td>\n",
              "      <td>pantip.com_topic_41249919</td>\n",
              "      <td>Q2207_1549</td>\n",
              "      <td>Q2207_1549_1</td>\n",
              "      <td>สอบถามเรื่องการอายัดบัตรเดบิตของกสิกรค่ะ พอดีว...</td>\n",
              "      <td>สอบถามเรื่องการอายัดบัตรเดบิตของกสิกรค่ะ พอดีว...</td>\n",
              "      <td>Product and Service, Usage and Condition</td>\n",
              "      <td>8</td>\n",
              "      <td>neutral</td>\n",
              "      <td>o</td>\n",
              "      <td>สอบถาม|เรื่อง|การ|อายัด|บัตรเดบิต|ของ|kbank|ค่...</td>\n",
              "    </tr>\n",
              "    <tr>\n",
              "      <th>1</th>\n",
              "      <td>1</td>\n",
              "      <td>SocialFSI_v4_0_mutiple_train_sampling8203_2021...</td>\n",
              "      <td>SocialFSI_TrainDataV4_RetagCLS-12_Sampling53_P...</td>\n",
              "      <td>NaN</td>\n",
              "      <td>NaN</td>\n",
              "      <td>SocialMedia</td>\n",
              "      <td>Twitter</td>\n",
              "      <td>5fffc6bcb08b583a24679d59</td>\n",
              "      <td>Q202106_5805</td>\n",
              "      <td>Q202106_5805_1</td>\n",
              "      <td>ปกติจะไม่ชอบlog in ใดๆในคอมคนอื่นหรือสำนักงานใ...</td>\n",
              "      <td>ปกติจะไม่ชอบlog in ใดๆในคอมคนอื่นหรือสำนักงานใ...</td>\n",
              "      <td>Security</td>\n",
              "      <td>12</td>\n",
              "      <td>neutral</td>\n",
              "      <td>o</td>\n",
              "      <td>ปกติ|จะ|ไม่ชอบ| |log| |in| |ใดๆ| |ใน|ค|อม|คนอื...</td>\n",
              "    </tr>\n",
              "    <tr>\n",
              "      <th>2</th>\n",
              "      <td>2</td>\n",
              "      <td>SocialFSI_ZE-KTB-Feb-Apr2022_Sampling2244_2022...</td>\n",
              "      <td>SocialFSI_ZE-KTB-Feb-Apr2022_Sampling1200_2022...</td>\n",
              "      <td>Krungthai_NEXT</td>\n",
              "      <td>krungthai</td>\n",
              "      <td>SocialMedia</td>\n",
              "      <td>facebook</td>\n",
              "      <td>10161808181448916_1330115550790924</td>\n",
              "      <td>Q2207_636</td>\n",
              "      <td>Q2207_636_1</td>\n",
              "      <td>Krungthai Care ณ. ตอนนี้ยอดก็ยังไม่เข้าค่ะ ถ้า...</td>\n",
              "      <td>Krungthai Care ณ. ตอนนี้ยอดก็ยังไม่เข้าค่ะ ถ้า...</td>\n",
              "      <td>Product and Service, System</td>\n",
              "      <td>7</td>\n",
              "      <td>negative</td>\n",
              "      <td>n</td>\n",
              "      <td>ktb| |care| |ณ|.| |ตอนนี้|ยอด|ก็|ยัง|ไม่|เข้า|...</td>\n",
              "    </tr>\n",
              "    <tr>\n",
              "      <th>3</th>\n",
              "      <td>3</td>\n",
              "      <td>SocialFSI_v4_0_mutiple_train_sampling8203_2021...</td>\n",
              "      <td>SocialFSI_TrainSCB-SocialFilterV2_Sampling2750...</td>\n",
              "      <td>NaN</td>\n",
              "      <td>NaN</td>\n",
              "      <td>SocialMedia</td>\n",
              "      <td>Twitter</td>\n",
              "      <td>27634345</td>\n",
              "      <td>Q202106_961</td>\n",
              "      <td>Q202106_961_1</td>\n",
              "      <td>@scb_thailand เรียน scb ขอเบอร?ตืดต่อเพราะคุย ...</td>\n",
              "      <td>@scb_thailand เรียน scb ขอเบอร?ตืดต่อเพราะคุย ...</td>\n",
              "      <td>Staff Quality</td>\n",
              "      <td>4</td>\n",
              "      <td>negative</td>\n",
              "      <td>n</td>\n",
              "      <td>scb_thailand| |เรียน| |scb| |ขอ|เบอร| |ตืด|ต่อ...</td>\n",
              "    </tr>\n",
              "    <tr>\n",
              "      <th>4</th>\n",
              "      <td>4</td>\n",
              "      <td>SocialFSI_v4_0_mutiple_train_sampling8203_2021...</td>\n",
              "      <td>SocialFSI_TrainSCB-SocialFilterV2_Sampling2750...</td>\n",
              "      <td>NaN</td>\n",
              "      <td>NaN</td>\n",
              "      <td>SocialMedia</td>\n",
              "      <td>Twitter</td>\n",
              "      <td>28297653</td>\n",
              "      <td>Q202106_2021</td>\n",
              "      <td>Q202106_2021_1</td>\n",
              "      <td>ไอเลิ้บ TMB All Free มาก แต่ช่วยพัฒนาแอพให้สเถ...</td>\n",
              "      <td>ไอเลิ้บ TMB All Free มาก</td>\n",
              "      <td>Product and Service, Usage and Condition</td>\n",
              "      <td>8</td>\n",
              "      <td>positive</td>\n",
              "      <td>p</td>\n",
              "      <td>ไอ|เลิ้บ| |tmb_all_free| |มาก|</td>\n",
              "    </tr>\n",
              "  </tbody>\n",
              "</table>\n",
              "</div>\n",
              "      <button class=\"colab-df-convert\" onclick=\"convertToInteractive('df-5edc407a-8502-4eb3-85a7-2852c00c95c3')\"\n",
              "              title=\"Convert this dataframe to an interactive table.\"\n",
              "              style=\"display:none;\">\n",
              "        \n",
              "  <svg xmlns=\"http://www.w3.org/2000/svg\" height=\"24px\"viewBox=\"0 0 24 24\"\n",
              "       width=\"24px\">\n",
              "    <path d=\"M0 0h24v24H0V0z\" fill=\"none\"/>\n",
              "    <path d=\"M18.56 5.44l.94 2.06.94-2.06 2.06-.94-2.06-.94-.94-2.06-.94 2.06-2.06.94zm-11 1L8.5 8.5l.94-2.06 2.06-.94-2.06-.94L8.5 2.5l-.94 2.06-2.06.94zm10 10l.94 2.06.94-2.06 2.06-.94-2.06-.94-.94-2.06-.94 2.06-2.06.94z\"/><path d=\"M17.41 7.96l-1.37-1.37c-.4-.4-.92-.59-1.43-.59-.52 0-1.04.2-1.43.59L10.3 9.45l-7.72 7.72c-.78.78-.78 2.05 0 2.83L4 21.41c.39.39.9.59 1.41.59.51 0 1.02-.2 1.41-.59l7.78-7.78 2.81-2.81c.8-.78.8-2.07 0-2.86zM5.41 20L4 18.59l7.72-7.72 1.47 1.35L5.41 20z\"/>\n",
              "  </svg>\n",
              "      </button>\n",
              "      \n",
              "  <style>\n",
              "    .colab-df-container {\n",
              "      display:flex;\n",
              "      flex-wrap:wrap;\n",
              "      gap: 12px;\n",
              "    }\n",
              "\n",
              "    .colab-df-convert {\n",
              "      background-color: #E8F0FE;\n",
              "      border: none;\n",
              "      border-radius: 50%;\n",
              "      cursor: pointer;\n",
              "      display: none;\n",
              "      fill: #1967D2;\n",
              "      height: 32px;\n",
              "      padding: 0 0 0 0;\n",
              "      width: 32px;\n",
              "    }\n",
              "\n",
              "    .colab-df-convert:hover {\n",
              "      background-color: #E2EBFA;\n",
              "      box-shadow: 0px 1px 2px rgba(60, 64, 67, 0.3), 0px 1px 3px 1px rgba(60, 64, 67, 0.15);\n",
              "      fill: #174EA6;\n",
              "    }\n",
              "\n",
              "    [theme=dark] .colab-df-convert {\n",
              "      background-color: #3B4455;\n",
              "      fill: #D2E3FC;\n",
              "    }\n",
              "\n",
              "    [theme=dark] .colab-df-convert:hover {\n",
              "      background-color: #434B5C;\n",
              "      box-shadow: 0px 1px 3px 1px rgba(0, 0, 0, 0.15);\n",
              "      filter: drop-shadow(0px 1px 2px rgba(0, 0, 0, 0.3));\n",
              "      fill: #FFFFFF;\n",
              "    }\n",
              "  </style>\n",
              "\n",
              "      <script>\n",
              "        const buttonEl =\n",
              "          document.querySelector('#df-5edc407a-8502-4eb3-85a7-2852c00c95c3 button.colab-df-convert');\n",
              "        buttonEl.style.display =\n",
              "          google.colab.kernel.accessAllowed ? 'block' : 'none';\n",
              "\n",
              "        async function convertToInteractive(key) {\n",
              "          const element = document.querySelector('#df-5edc407a-8502-4eb3-85a7-2852c00c95c3');\n",
              "          const dataTable =\n",
              "            await google.colab.kernel.invokeFunction('convertToInteractive',\n",
              "                                                     [key], {});\n",
              "          if (!dataTable) return;\n",
              "\n",
              "          const docLinkHtml = 'Like what you see? Visit the ' +\n",
              "            '<a target=\"_blank\" href=https://colab.research.google.com/notebooks/data_table.ipynb>data table notebook</a>'\n",
              "            + ' to learn more about interactive tables.';\n",
              "          element.innerHTML = '';\n",
              "          dataTable['output_type'] = 'display_data';\n",
              "          await google.colab.output.renderOutput(dataTable, element);\n",
              "          const docLink = document.createElement('div');\n",
              "          docLink.innerHTML = docLinkHtml;\n",
              "          element.appendChild(docLink);\n",
              "        }\n",
              "      </script>\n",
              "    </div>\n",
              "  </div>\n",
              "  "
            ]
          },
          "metadata": {},
          "execution_count": 4
        }
      ]
    },
    {
      "cell_type": "code",
      "source": [
        "train['Human_CategoryID'].sort_index(ascending=True).value_counts()"
      ],
      "metadata": {
        "colab": {
          "base_uri": "https://localhost:8080/"
        },
        "id": "HA6bOeakDu5L",
        "outputId": "96eca8ef-b420-43fd-c8bb-7493a96e1b88"
      },
      "execution_count": 5,
      "outputs": [
        {
          "output_type": "execute_result",
          "data": {
            "text/plain": [
              "7     3275\n",
              "8     2454\n",
              "13    2133\n",
              "5     1163\n",
              "6     1109\n",
              "4      522\n",
              "10     379\n",
              "3      377\n",
              "11     232\n",
              "1      185\n",
              "9      153\n",
              "12     152\n",
              "2       16\n",
              "Name: Human_CategoryID, dtype: int64"
            ]
          },
          "metadata": {},
          "execution_count": 5
        }
      ]
    },
    {
      "cell_type": "markdown",
      "source": [
        "#Create a Vocabulary"
      ],
      "metadata": {
        "id": "3hRruw5Ph59Y"
      }
    },
    {
      "cell_type": "code",
      "source": [
        "from collections import Counter\n",
        "\n",
        "vocab = Counter()\n",
        "def data_to_vocab(df):\n",
        "  for verbatim in df['Text_ws_local']:\n",
        "    tokens = verbatim.split()\n",
        "    tokens = [word for word in tokens if len(tokens) > 4] #at first = 1, CNN GMP is better with >4 for ~2%\n",
        "    vocab.update(tokens)\n",
        "\n",
        "data_to_vocab(train)\n",
        "\n",
        "print(len(vocab))\n",
        "vocab.most_common(20)"
      ],
      "metadata": {
        "colab": {
          "base_uri": "https://localhost:8080/"
        },
        "id": "9KsihNdkb28k",
        "outputId": "f86aaa24-9dfd-476c-a2c8-b4bf51f2a9a8"
      },
      "execution_count": 6,
      "outputs": [
        {
          "output_type": "stream",
          "name": "stdout",
          "text": [
            "46943\n"
          ]
        },
        {
          "output_type": "execute_result",
          "data": {
            "text/plain": [
              "[('|scb|', 1518),\n",
              " ('|friendtag|', 625),\n",
              " ('|2|', 512),\n",
              " ('|kbank|', 403),\n",
              " ('|บาท|', 360),\n",
              " ('|1|', 340),\n",
              " ('|3|', 329),\n",
              " ('|5|', 298),\n",
              " ('|tmb|', 251),\n",
              " ('|call_center|', 250),\n",
              " ('|atm|', 249),\n",
              " ('atm|', 245),\n",
              " ('|scb_easy|', 201),\n",
              " ('|telephonetag|', 199),\n",
              " ('|app|', 199),\n",
              " ('|กรุงไทย|', 198),\n",
              " ('|-|', 184),\n",
              " ('|sms|', 178),\n",
              " ('|ktc|', 176),\n",
              " ('|ของ|', 164)]"
            ]
          },
          "metadata": {},
          "execution_count": 6
        }
      ]
    },
    {
      "cell_type": "code",
      "source": [
        "min_occurence = 2\n",
        "tokens = [k for k, c in vocab.items() if c >= min_occurence]"
      ],
      "metadata": {
        "id": "YqxVmTU0hXYD"
      },
      "execution_count": 7,
      "outputs": []
    },
    {
      "cell_type": "code",
      "source": [
        "def save_list(lines, filename):\n",
        "  data = '\\n'.join(lines)\n",
        "  file = open(filename, 'w')\n",
        "  file.write(data)\n",
        "  file.close()\n",
        "  \n",
        "save_list(tokens, 'vocab.txt')"
      ],
      "metadata": {
        "id": "dxb6rJv_gzC1"
      },
      "execution_count": 8,
      "outputs": []
    },
    {
      "cell_type": "markdown",
      "source": [
        "#Data Processing: Embedding & the Model"
      ],
      "metadata": {
        "id": "WbZ5MsM0iCNr"
      }
    },
    {
      "cell_type": "code",
      "source": [
        "#Load the vocab as above\n",
        "def load_doc(filename):\n",
        "  file = open(filename, 'r')\n",
        "  text = file.read()\n",
        "  file.close()\n",
        "  return text\n",
        "\n",
        "vocab_filename = 'vocab.txt'\n",
        "vocab = load_doc(vocab_filename)\n",
        "vocab = vocab.split()\n",
        "vocab = set(vocab)\n",
        "\n",
        "print(vocab)"
      ],
      "metadata": {
        "colab": {
          "base_uri": "https://localhost:8080/"
        },
        "id": "xWxGiDbLiDjC",
        "outputId": "45291a79-beac-4d2c-8b28-fcf6f9393eab"
      },
      "execution_count": 9,
      "outputs": [
        {
          "output_type": "stream",
          "name": "stdout",
          "text": [
            "{'|รำคาญ|', '|2017|', '|จ้า|', '|password|', '|copy|', 'tmb_all_free|', '|pic|.|twitter|.|comrw|84|ubnuum', '|30|-|40|', '|scbs|', '|กว่า|ๆ|', '|icbc|', '|ถือ|ยาว|', '|scblt|2|', '|ซึ่ง|สถานการณ์|ตอนนี้|ก็|คือ|ไม่|อยาก|ออกไป|ไหน|เลย|', '|tesco|', '|ประกันชีวิต|', '|ใช่|เรื่อง|ไหม|', '|download|', '|g-wallet|', '|หรือไม่ก็|อัน|ที่|เทียบเคียง|คับ|', '|ปี|แรก|', '|1115|', '|คุณ|', '|แต่|เงิน|หาย|', '|fee|', 'สมัคร|บัตรเครดิต|', '|record|', '|ต่อ|เดือน|', '|แผน|', 'แย่|', '|back|', '|ชื่อ|เหมือนกัน|', '|แย่มาก|', '|ก็|ยัง|รู้สึก|ยุ่งยาก|และ|', 'ยื่น|', 'คุณ|', '|เพราะ|เงิน|ออกจาก|ธนาคารกรุงไทย|แล้ว|ครับ|', '|ใคร|รู้|บ้าง|', '|จริงๆ', '|ใคร|เป็น|บ้าง|ครับ|', '|บาท|แล้ว|', '|16000|', 'โทร|เข้า|', '|มี|แอ|ฟ|', '|อย่างเดียว|', 'ขอ|', '|ก็ได้|คะแนน|', '|gbp|', '|k|', '|งง|มาก|ครับ|', '|กรุงไทย|เน็ค|', '|จาก|ต่างประเทศ|', '|คน|ทำคนเดียว|กัน|เหรอ|', '|รบกวน|หน่อย|ครับ', '|บ้าน|ราคา|', '|รวย|', '|แต่|ใน|', '|finnomena|', '|ไม่มี|สมุดบัญชี|', '|190|', 'บัตรเครดิต|', '|ให้|หน่อย|', '|ไป|ธนาคาร|', '|tablet|', '|km|', '|ฝาก|', '|ไลน์|', '|699|', '|verify|', '|scbset|50|e|', 'เมื่อวาน|', '|หัวใจ|ของ|เรา|มัน|จะต้อง|', '|prestigerop|', '|ผม|ใช้|มา|', '|เงิน|ยัง|ไม่|เข้า|', '|ais|', '|ผ่าน|', 'ของ|ผม|', 'เอ|', '|พี่|', '|ธนาคาร|ไหน|', '|nagoya|', '|เคพลัส|', '|คำถาม|', '|150|', '|date|', '|ระบบ|แจ้ง|ว่า|', '|แบบนี้|ต้อง|ทำ|อย่างไร|ครับ', '|เงิน|ยัง|ไม่|เข้า|เลย|ค่ะ|', '|เป็น|อะไร|', '|เรื่อง|มีอยู่|ว่า|', '|รบกวน|สอบถาม|', '|พนักงาน|เกือบ|ทั้งหมด|พูด|กับ|ลูกค้า|', '|mou|', '|ธนชาต|', '|visa|', '|ภายใน|', '|แต่|อัน|ที่|ท้อป|อัพ|', 'เรา|เลย|โทร|ไป|ที่', '|เปิดบัญชี|กรุงไทย|', '|ป|ช|ช|', '|มี|นา|', '|ขอบคุณ|คะ', '|แต่|ไม่แน่ใจ|ว่า|', '|ไม่|รองรับ|', '|72|', '|เมื่อ|วัน|ที่', '|กรุงไทย|เลย|', '|64', '|by|', '|2700|', '|555', '|โมง|ครึ่ง|', '|bay|', '|กรกฎาคม|', '|เห้อ|', '|แต่|ใช้ไม่ได้|คะ|', '|พูด|แล้ว|ทั้ง|เศร้า|ทั้ง|โมโห|', '|109|', '|ไม่|ระบุ|แบบ|', '|ก็ได้|ค่ะ|', '|ก็|ยัง|เหมือนเดิม|', 'โอน|ไป|', '|กับ|กรุงไทย|', '|เอา|ดิ|', '|ชื่อ|ธุรกิจ|โดย|ชื่อ|เจ้าของร้าน|', '|ยากมาก|', '|ก็|ไม่มี|ยอด', '|ไม่ได้|ค่ะ|', '|หมุนเวียน|และ|', '|เมย|', '|แล้ว|ทาง|', '|ปรากฏ|ว่า|', '|สวัสดี|ค่ะ|', '|ชื่อ|ญาติ|', '|เอา|ง่ายๆ|', '|note|', '|ทั้ง|เรา|', '|37000|', '|amount|', 'สมัคร|บัตร|', '|บัตรประชาชน|', '|คัน|', '|ชม.|แล้ว|', 'ไป|', '|d|', '|โปรด|ยืนยัน|ตัวตน|', '|ไม่สำเร็จ|', '|พรุ่งนี้|', '|แบบ|แรก|', '|มา|ให้|', '|ฮัลโหล|', '|internetbanking|', 'มี|เบอร์|', '|จำนวน|', 'เรา|ใช้|', '|air|', '|ถ้า|ยื่น|กู้|กับ|', '|ใช้เวลา|กี่|วัน|ครับ|', '|65', '|มา|', '|ทุ่ม|', '|10.2|', '|ขออภัย|ค่ะ|', '|2|xxxx|', 'รบกวน|สอบถาม|หน่อย|ครับ|', '|ไอ|', '|โอนเงิน|ไป|แล้ว|', '|ผ่อน|เดือน|ละ|', '|170|', '|แน่นอน', '|รบกวน|ด้วย|นะคะ', '|2700000|', '|แต่|ไม่|เกิน|', '|มี|การ|เรียกเก็บ|ค่าธรรมเนียมรายปี|', '|สมุดบัญชี|', '|scbx|', '|uk|', '|easy_invest|', '|ไม่ก็|', '|ส่ง|', '|เหรียญ|', '|19|', '|ของ|วันพรุ่งนี้|', '|2000|', '|paywave|', '|หลักๆ|', '|high|', '|โอนเงิน|', '|บาท', '|เจ้าหน้าที่|โทร|มา|ทวง|ค่าบริการ|ชำระ|', '|email|', '|ต้นทาง|กรุงไทย|', '|แต่|ยอดเงิน|ไม่|เข้าบัญชี|ปลายทาง|', '|จบ', '|แต่|เงิน|ไม่|เข้าบัญชี|ปลายทาง|', '|7|-|8|', '|มา|ว่า|', 'ช่วงนี้|', '|อายุงาน|', '|8|', 'จ่ายเงิน|', '|เหลือ|แค่|', '|พ|.ย|', '|เป๋า|ตัง', '|ktz|', 'ยอมแพ้|ที่', '|ปี|ขึ้นไป|', '|ipo|', '|ทหาร|ไทย|', '|99|', '|เจ้าของ|กระทู้|', '|ทำไง|ดี|ค่ะ', '|transaction|', '|ขอคำแนะนำ|หน่อย|ค่ะ|', '|ลบ|', '|เงิน|', '|save|', '|งง|อ่ะ|', '|00.00|', '|จะ|ผ่าน|ไหม|', '|พนักงาน|แจ้ง|ว่า|จำนวน|ครั้ง|ที่|เข้า|จะ|นับ|ครั้ง|ตาม|การสรุป|ยอด|เข้า|บ|ช|', '|mi|', 'พึ่ง|รู้ว่า|', '|tower|', '|19.00|', '|หน่อย|ค่ะ', '|เรียกว่า|', '|45|-|60|', '|อะ|', '|krungthai_axa|', '|เหม่อ|', '|รอ|นาน|ที่สุด|คือ|', '|ด้วย|ไหม|', '|1', 'เจ้าของ|กระทู้|', '|life|', '|เดือน|แล้ว|', '|หมายถึง|', '|platinum|', '|ลุ้น|', '|scb_first|', '|แพลทินัม|', 'ขอบคุณ|มากๆ|', '|v|', '|ช่วย|ตอบ|หน่อย|ครับ', '|gen|', '|2|g|', '|ระบบ|', '|ก็|', '|108|', '|prestige|', '|โบนัส|', '|uchoose|', '|วอ|ล|เลต|', '|สลาก|ธนาคารเพื่อการเกษตรและสหกรณ์การเกษตร|', 'รอ|ประมาณ|', '|reference|', '|ต|ค.|', '|ครั้ง|และ|ยอดเงิน|', '|จ่าย|ก่อน|', '|แอ|ฟ|', '|personal|', '|ผ่าน|ทาง|แอป|', '|จะ|แลกเงิน|อ่า|', '|เกี่ยวกับ|', '|ต้องการ|ปิดบัญชี|ไป|เลย|', '3.|', '|ธนาคาร|', '|หลัก|', '|m|', '|opd|', '|32|', '|ประกัน|', '|savings|', '|ขอบคุณ|ล่วงหน้า|นะคะ|', '|scb_mlive|', '|scbeasy|', '|trip|', '|ยอด', '|ก่อน', '|ยอดเงิน|', '|น.|', '|ปรากฏ|', '|mebytmb|', '|ของ|', '|ขึ้น|รหัส|', '|oil|', 'ปิดบัญชี|ฝากประจำ|ก่อนกำหนด|ได้|ไหม|', '|ถ้า|แจ้ง|ช่องทาง|ไหน|ครับ|', '|ละ|', '|ของ|kbank|', '|ติดต่อ|เจ้าหน้าที่|', '|สำหรับ|ผม|', '|ธนาคาร|ค.|', 'สอบถาม|คะ|', '|ยื่น|สมัคร|ที่|', '|ล่ม|ตั้งแต่|เมื่อวาน|', '|generali|', '|16.30|', '|ยืนยัน|ตัวตน|ไม่ได้|', '|เหมือนกัน|', '|150000|', '|ทำ|ยังไง|ก็|ไม่|ผ่าน|', '|คือ|ไร|อ่ะ', '|8.1.2020|', '|แต่|บัตรเครดิต|', '|กับ|', '|และ|จน|ป่านนี้|', '|ต้อง|ยืนยัน|', '|เพราะ|กลับ|ไทย|ก็|ไม่ได้|ค่ะ|ตอนนี้', '|ขีด|', '|uninstall|', '|9|', '|13.30|', 'ขอ|สอบถาม|คะ|', '|18.00|', '|ใช้ไม่ได้|', '|เปลี่ยน|', 'โอน|จาก|', '|ลบ|แอป|', 'มีปัญหา|ใน|การ|เปิดบัญชี|', '|10', '|ไร|งี้|', '|เสียความรู้สึก|มาก|', '|ตลอด|', '|ghb|', '|บอก|เลย|', '|rabbit|', '|ใช้ได้|', '|และ|ไทยพาณิชย์|', '|counter|', '|friendtag|', '|ตกลง|', '|สถาบันการเงิน|ชื่อดัง|', '|ใช้|', '|10|', 'เจอ|เหมือนกัน|', '|คนละ|ครึ่ง|เฟส|', '|บาท|ครับ|', '|21|', '|มี|ยอด|เงินโอน|เข้า|', '|ผู้จัดการ|', '|eur|', '|3|-|4|', '|ปี|แล้ว|', '|ออมทรัพย์|', '|ต้อง|ใช้|', '|ปลายทาง|ไม่ได้|รับเงิน|', '|db|', 'ยกเลิก|', '|แจ้ง|บัญชี|ของ|คุณ|ผิดปกติ|', '|11100|', '|ว่า|จะ|ไม่|สมัคร|อีกต่อไป|ละ|', '|citibankgold|', '|ขอบคุณ|คับ', '|มี|ใคร|พอ|ทราบ|บ้าง|ไหม|คะ|', '|จาก|', '|ทำ|ยังไง|ได้|บ้าง|คะ|', 'ปกติ|', '|ป่า|รอยต่อ|', '|ไม่|ค่ะ|', '|0', '|เลขที่บัญชี|', '|รับ|แต่|เงิน|ห|ยวน|ของ|จีน|', '|ซื้อของ|', '|ผม|ต้อง|ทำ|อย่างไร', '|เหลือ|ง|', '|ปัด|ตก|', '|paul|', '|ผ่อน|', '|ยัง|เป็น|', 'หลักๆ|', '|พ|น.|', '|แอป|เป๋า|ตังค์|', '|kept|', '-|', '|ต้อง|ทำ|ยังไง|คะ', '|tmb', '|คลิก|เพื่อ|ดู|ข้อความ|ที่ซ่อน|ไว้', '|passport|', '|สู้|ๆ|', '|ขอบพระคุณ|มาก|ครับ', '|เลย|ด้วย|', '|ไม่สามารถ|ทำ|รายการ|ได้|', '|ยอด|เงินออก|แล้ว|', '|2545|', '|ทะเบียน|พาณิชย์|', '|wealth|', '|ต้อง|', '|วัน|ที่', '|บัตรเดบิต|', '|อยู่ดีๆ|', '|นะคะ', '|ลอง|', '|ปกติ|', '|เลย|ค่ะ|', 'ธนาคาร|อื่น|', '|29000|', '|citi_ready|', '|ให้|หมด|', '|ทั้ง|คนอื่นๆ|', '|mail|', '|channel|', '|cr|.|', '|อยากทราบ|ว่า|', '|e-statement|', '|kcl|', '|เสร็จ|', '|xx|', '|3', '|พอ|กุ|ลบ|โลด|ใหม่|', '|ยกเว้น|', '|เฮ้อ|', '|29|', '|aeon|', '|เปิดบัญชี|', '|70|', '|play|', '|บอก|ให้|รอ|', '|ใคร|ใช้|', '|แง|ง|', '|อยาก|ทำ|บัตร|', '|แต่|ทาง|ต้นทาง|', '|คลิก|เพื่อ|ดู|ข้อความ|ที่ซ่อน|ไว้|', '|ขอคำแนะนำ|หน่อย|ค่ะ', '|ดี', '|19.35|', 'โอนเงิน|จาก|กรุงไทย|', '|ถาม|', '|สวัสดี|ครับ|', '|ไม่งั้น|', '|เป็นสมาชิก|', '|เซ็ง|มากๆ|', '|ดี|', '|opened|', '|สะดวกมาก|', '|ชิม|ช้อป|ใช้|', '|two|', 'อ่ะ|', '|scb_connect|', '|product|', '|มา|นาน|', '|เรียบร้อย|', '|ได้|ไหม|คะ', '|โครต|เชง|', '|พบว่า|', '|49|', '|ใบ|', '|ช้า|มาก|', '|เซ็ง|', '|ป|ช|ช|.|', '|สอบถาม|โทร|', '|scb_mobile|', 'เรา|สมัคร|', '|ก็|ยัง|ไม่ติดต่อ|กลับมา|ตกลง|ไฟแนนซ์|ไทยพาณิชย์|', '|ไว้|', 'ธนาคาร|', '|ฝาก|เบอร์|โทร|กลับ|', '|ktb_precious_plus|', '|เพื่อ|เปิดบัญชี|', '|อะ|ค่ะ|', '|k|8888|', '|ถ', '|เพราะ|บัตร|', '|บ้าง|คะ|', '|เงินเข้า|ทันที|', 'ขอบคุณ|ค่ะ|', '|แสน', '|ยากเย็น|', '|ย้อนหลัง|', '|swift|', '|สอบถาม|นิดนึง|ค่ะ|', '|ถ่าย|บัตร|', '|กู้|', '|edition|', 'ขออนุญาต|', '|770|', 'atm', '|สำเร็จ|', '|ถูก|', '|ถ้า|จ่าย|ด้วย|บัตร|', '|operator|', '0|1012564|', '|uob|', '|เมื่อไร|', '|ก.|ย|.|', 'ใช่|ครับ|', '|max|', '|nikecom|', '|ดี|ไหม|', '|14|', '|ทำไง|ดี', '|พนักงานธนาคาร|แนะนำ|ให้|ใช้|', '|ที่|', '|ก็|ให้|ติดต่อ|', '|ยัง|ไว|กว่า|เยอะ|', '|31|', '|ไปที่|ตู้', '|ไป|พร้อมเพย์|ผูก|กับ|', '|ไป|ตั้งแต่|วัน|ที่', '|แล้ว|เงิน|ไม่|เข้า|', '|5500|', '|ไม่ติด|', 'ป|ล.|', '|เถอะ|', '|จนถึง|ตอนนี้|', '|จ่ายเงิน|ไม่ได้|', '|อนุมัติ|', '|press|', '|เหอะ|ๆ|', '|2', '|4|-|5|', '|scbam|', '|หรอ|คะ|', '|coins|', '|siam|', '|กับ|พร้อมเพย์|', '|บาง|ธนาคาร|ต้อง|ใช้|', 'ซื้อ|ผ่าน|', '|จาก|ธนาคาร|', '|โยน|กัน|ไป|โยน|กัน|มา|', '|krungsri_jcb|', 'โอนเงิน|จาก|kbank|', '|เบอร์|เติม|ผิด|', 'เปิดบัญชี|', '|pos|', '|2515|', '|ก็|ยัง|เงียบ|เหมือนเดิม|จน|เกือบ|ถึง|รอบ|ชำระ|', 'ผม|สงสัย|ว่า|', '|2564|', '|ทุ่ม|ของ|มึง|เนี่ย|เหมือนกัน|เลย|จ๊ะ|', '|ก|ยศ|', 'แง|', '|kbanklive|', '|22|', '|เลิก|ใช้|วอ|เลท', '|เข้า|แอป|', '|อี|เหี้ย', '|โอน|เข้า|', '25|320|', 'ติดต่อ|เจ้าหน้าที่|', '|ตัดเงิน|ใน|บัญชี|แล้ว|', 'คล้ายๆ|', '|เป็นการ|ผิดพลาด|ใน|การ|ตีพิมพ์|เอกสาร|', '|ครั้ง', '|ดัน|ใช้ไม่ได้', '|เรา|โอนเงิน|จาก|', 'สวัสดี|ค่ะ|', '|กุ|มีปัญหา|กับ|ไลน์|แมน|อีก|', '|จะ|ผ่าน|', '|5400|', '|ช|', 'รบกวน|สอบถาม|ค่ะ|', '|ก่อน|ค่ะ|', 'ทาง|', '|ถ้า|เปิด|', 'เติมเงิน|ผิด|เบอร์|ค่ะ|', '|ในนาม|บริษัท|', '|แต่|ตอนนี้|', '|20|', '|399|', '|มิถุนายน|', '|โอ้|ย|', '|ก่อน|ครับ|', '|ยัง|ไม่|เข้า|เลย', '|ของ|รัฐ|', '|banking', '|7|', '|ป|ล|', '|ก็|ต้อง|มี|ระยะ|รอคอย|', '|โทร|มา|', '|แก้ไข|อย่างไร|', '|kerry|', '|cost|', '|ครับผม|', '|กด|ใน|', '|2563|', 'บัตร|', '|เงินเดือน|', '|ได้|นะคะ|', '|ไม่สามารถ|เข้า|', '|bk|', '|เดือน|แล้ว|ค่ะ|', '27|1163|', '|นาที|แล้ว|', '|ไป|ก่อน|', '|แจ้ง|มา|ว่า|', '|ล่ม|หรอ|คะ|', '|paypal|', '|cimb|', '|โอนเงิน|ไม่ได้|', '|เขา|บอก|', '|แล้ว|อย่างนี้|เรา|จะต้อง|ไป|ติดต่อ|ที่ไหน|ดี|คะ', '|ขอบคุณ|ล่วงหน้า|ค่า', '|ปีนี้|', '|โดน|ไป|', '|นาที', '|อ|ห|', '|t_t|', '|scb_my_travel|', '|โดยเฉพาะ|', '|ผม|ก็|', '|ไม่|ได้รับ|', '|เวลา|ติดต่อ|', '|thailand', '|แบบนี้|ก็ได้|เหรอ|', '|ขอ|ถาม|หน่อย|ค่ะ|', '|ดู|ยากมาก|', '|ซิ|ตี้|', '|ได้|ข้อมูล|ปั๊บ|', '|ครั้งแรก|', '|บอก|ว่า|', '|หรือ|มากกว่า|', '|ขอความกรุณา|', '|จน|วันนี้|เพิ่ง|มี|หมายศาล|ส่ง|มา|ที่บ้าน|ที่|', 'ใน|แอป|', '|แล้ว|มี|', '|ใดๆ|', '|แต่|ของ|', '|โดยที่|ไม่ต้อง|ไป|ธนาคาร|', '|ยัง|มี|', '|ผม|ใช้|', '|โหลด|แอป|', '|คือ|อยู่|ๆ|', '|ตอนนี้|เดือดร้อน|มากๆ|', '|pbv|', '|20000|', 'สอบถาม|หน่อย|ค่ะ|', '|มัน|', '|ล่ม|หมด|', '|มี|บัญชี|kbank|', '|นึกคิด|', '|ksme|', '|แทน|', '|ไม่|เสีย|', '|อื่นๆ|', '|20930|', '|ป่ะ|', '|เดือน|ครับ|', '|ก็|เห็น|', '|4|', '|วีซ่า|', '|ผล|ปรากฏ|ว่า|', '|amex|', '|จำกัด|', '7|-|11|', '|201|', '|home|', '|00|', '|มาสเตอร์|การ์ด|', '|ส่ง|เอกสาร|', '|กับ|บัตรกดเงินสด|', '|อยู่|', 'ไป|ขอ|สินเชื่อ|', '|เรา|ก็|ไม่สามารถ|ใช้|', '|1.5|', '|ถ้า|อยู่|ใกล้ๆ|', '|หักเงิน|ไป|แล้ว|', '|อาย|เพื่อน', '|มึง|ติด|', '|ตัดยอด|ทันที|', '|เมษายน|', 'เป็น|', '|ไปยัง|', 'วันนี้|แอป|', '|scb_thailand', '|master|', '|ก็|ยัง|ไม่|เข้า|', '|เกิน|', '|ส่วน|ที่|ไม่ต้อง|เป็น|ผู้โดยสาร|ก็|เข้าไป|ใช้บริการ|ได้|', '|เลว|', '|กุมภาพันธ์|', '|ตัด|ไป|', '|เปิดบัญชี|ใหม่|', '|เงิน|เยียวยา|', '|บาท|ต่อ|ปี|', '|ไป|คะ|', '|tmb|.|', '|เอง|ค่ะ|', '|log|', '|น.', '|ก็|ติดต่อ|ไม่ได้|', '|ธนาคาร|เลย|', '|ช่อง|', '|ธนาคารกรุงไทย', '|11.00|', 'งง|', '45|', '|wechat|', '|ณ', '|10.28|', '|พูด|ง่ายๆ|', '|-|31|', '|booking|', '|ต้อง|ให้|หน้า|สมุดบัญชี|ตรงกับ|ผู้ที่|ลงทะเบียน|', '|นานมาก|แล้ว|', '|wfh', '|kb|', '|gateway|', '|กู้ร่วม|ได้|', '|default|', '|เอา|จริงๆ|', '|ยัง|ไม่|ได้รับ|', '|นานๆ|', '|ญี่ปุ่น|', '|flow|', '|จ่าย|ด้วย|', '|ใช่|ๆ|', '|ยอดเงิน|ไม่|เข้า|', '|ก็|ไม่มี|คนรับ|', '|ฯลฯ|', '|เปลี่ยนเป็น|', '|asia|', '|6000|', '|ใบ|ที่', '|บัตรเครดิต|', '|6|-|7|', '|ตอบ|', '|t_t', '|นานไป|ไหม|', '|ตอน|เปิดบัญชี|', '|สีเขียว|', '|ปี|ที่แล้ว|', '|อาทิ|', '|เพิ่ม|', '|sch|', '|ยืนยัน|ตัวตน|ปุ๊บ|', '|airways|', 'ltf|', '|ปลายทาง|kbank|', '|ณ|', 'โอนเงิน|จาก|แอป|', '|แก้|ด่วน|', '|7500|', 'โอน|จาก|กรุงไทย|', '|เรา|ไม่|ทิ้ง|กัน', '|สะดวก', '|อัพ|', '|เจ้าหน้าที่|บอก|ได้|สิ|ท|ธ|์|แล้ว|ค่ะ', '|มี|เยอะ|แล้ว|', '|โอน|ไม่ได้|', '|ก็|เลย|รีบ|กด|รับ|สิทธิ์|เลย|', '|rungruang|', '|กุ|ปวดหัว', '|e|', '|shoppee|', 'kbank_live|', 'โทร|ถาม|', '|ผ่อน|ตก|ล้าน|ละ|', '|ยัง|ไม่|เข้า|', '|จะ|เอา|บัตร|กด|ยัง|ไม่ได้|อีก', '|mastercard|', '|บ้าง|ค่ะ|', '|110|', '|ประกัน|สุขภาพ|', '|ก็|คือ|', '|520|', '|krungthai_next|', '|kma|', '|4.4|', '|ที่ผ่านมา|', '|09.00|', '|แปลกๆ|', '|ขอบคุณ|ล่วงหน้า|ค่ะ', 'ทำ|ประกัน|', 'แอป|เป๋า|ตัง|', '|ชาติหน้า|คะ|', '|เอ|', 'เติมเงิน|ผิด|เบอร์|ครับ|', '|ต้นๆ|', 'ขอ|สอบถาม|หน่อย|ค่า|', '|แอป|เป๋า|ตัง|', '|blackpink|', '|ontop|', '|หรือไม่|ผ่าน|', '|ละ|อ่อ|', 'พอดี|', '|30000|', 'หุ้น|', '|125|', '|gsb', 'เอ|อ|', '|90000|', 'สวัสดี|ค่ะ|เพื่อน|ๆ|', '|พวก|', 'ใช้|บัตร|', '|สัปดาห์|', '|barcode|', '|ใคร|เข้าระบบ|ได้|มั่ง|ครับ|', '|ทุกเดือน', '|ค่ารถ|', '|แล้ว|นะ|', 'รบกวน|สอบถาม|', '|เพราะ|บัตร|กรุงไทย|ตัวต้นเหตุ|เลย|', '|มี|หนี้|บัตร|', '|เป๊ก|ผลิต|โชค', '|รวม|', '|airline|', '|น่าจะ|', '|อ|ห', '|เสียดาย|', '|แต่|ยอด|ไม่|เข้า|', '|คือ|ยังไง|คะ|', '|ktc_jcb|', '|ktb_travel_card|', '|75|', '|แล้ว|มา|สแกน|ใหม่|', '|luxe|', '|ava|', 'เรา|อยากจะ|ติดต่อสอบถาม|เรื่อง|การ|พัก|หนี้|ค่ะ|', '|ห่วย|ๆ|', '|city|', '|แสดง|ว่า|', 'scb_first|', '24|', '|คะแนน|', '|95|', '|หน่อย|ค่ะ|', '|shop|', '|ถ้า|ส่ง|บัตร|มาแล้ว|ยัง|ใช้ไม่ได้|ใช่ไหม|ครับ|ถ้า|เชื่อม|กับ|แอป|', '|ควร|ทำ|ยังไง|ดี|คะ|', '|แจ้ง|คอลเซนเตอร์|', '|number|', '|ตอน|สมัคร|', '|takashimaya|', '|แต่|จ่าย|ผ่าน|', '|แสน|', '|ธนาคาร|แบบนี้|', '|มี|ค.|', '|1200|', '|จ.|เพชรบูรณ์|', '|แค่|', '|ตั้งแต่|เมื่อวาน|', '|กรุงไทย_axa|', '|250|', '|หัว|เว่ย|', '|mbanking|', '|ตัว|', '|ซึ่ง|', '|นะ', '|2600|', '|แม่|ม|มา|ทำงาน|กัน|บ้าง|เปล่า|วะ|', 'windy|', '|จะ|ได้|เตรียม|เอกสาร|ไป|ให้|ถูก|ครับ|', '|บ้าง', '|e-savings|', '|แล้วจะ|ให้|ทำ|ยังไง|ได้|บ้าง|ครับ|', '|ktb|', '|k-plus|', '|1558|', '|ไม่ทราบ|ว่า|', '|2021|', '15|', '|ทำไง|ดี|', 'เรียน|', '|รบกวน|ขอคำแนะนำ|ด้วย|ครับ|', '|scb_life|', '|บอก|อี|กว่า|', '|ไม่ได้|ครับ|', '12|', '|320|', '|5|', '|เชียงใหม่|', '|ธนาคาร|ล่ม|', '|จ่าย|รายเดือน|', '|หมายเลข|อ้างอิง|', '|รอ|มา|', '|มา|ใหม่|', '|แย่|จริงๆ|', 'ผม|อยาก|สมัคร|', '|ได้แก่|', '|ltf|', 'เข้า|แอป|', '|พ่อ|', '|bay', '|เวลา|ไหน|', '|easypass|', '|ดี|ค่ะ|', '|เป็น|ตั้ง|แตา|ก่อน|มี|กระแส|', '|post|', '|od|', '|ทุน|', '|เงิน|ตั้ง|', '|ลดเหลือ|', '|มี|เอกสาร|', '|ล่ม', 'ถ้า|', '|ขอ|', '|ไม่รู้|', '|เติม|ไป|', 'พี่|ที่|ธนาคารกรุงไทย|ใจ|ดีมาก|', '|ไทยพาณิชย์', '11|', '|ตอนนี้|วัน|ที่', '|premium|', '|ไม่มี|บัตรเอทีเอ็ม|', '|แต่|บัตร|ใหม่|ที่|เป็น|', '|สมุทรปราการ|', '|easynet|', '|ก็|ปิด|', '|สมัคร|ผ่าน|', '|หายไป|', '|routing|', '|unlock|', '|ส่วน|พวก|', '|6|', '|พัน|บาท|', '|บัตร|อนุมัติ|', '|อี|เวง|', '11|43|', '|krungthai_care|', '|เป็นหลัก|', '|ข้อมูล|บัญชี|หาย|ใคร|เป็น|บ้าง|ครับ|', '|time|', '|ไปที่|สาขา|', '|ช่วง|', '|เท|ค|ไป|', '|3|g|4|g|', '|เซ็ง|มาก|', 'กัน|', '|tech|', '|วัน|แล้ว|ค่ะ|', '|23|xxx|', '|ไหม|ครับ|', 'ร้อนๆ|', 'อยาก|ยกเลิก|บัตร|', '|อยาก|สอบถาม|เพื่อน|ๆ|', '|ต|ป|ท|', '|covid|19|', '|ไหม|คับ', '|umay|', '|ถ้า|มี|บัญชี|', '|youtrip|', '|bankkokbank|', '|แบบ|', '|3000|', '|1.3|', '|backup|', '|ไม่|ขึ้น|ใน|', '|ยกเลิก|', '|สีม่วง|', '|200000|', '|you|', '|10.30|', '|ทาง|เพจ|', '|อื่น|', '|ตาม|หัวข้อ|เลย|ค่ะ|', '|โคตร|กาก', '|5000', '|kbank_wisdom|', '|900|', '|แม้แต่|บัตร|', '|30|', '|ขอ|เอกสาร|เพิ่ม|', '|หนี้|', '|สำเนา|บัตร|', '|มี|ข้อความ|จาก|', 'โอนเงิน|จาก|ธนาคาร|', '|checking|', '|ตอนนี้|พอจะ|ผ่อน|เลย|วางเงิน|นิ่ง|ๆ|', '|4|g|', '|ของ|ธนาคารกรุงไทย|คือ|แย่มาก|', '|ปัง|มาก|', '|trade|', '|แล้ว|ครับ|', '|ใน|', '|18.04|', '|ค|', '|มี|ประวัติ|ล่าช้า|', '|สตางค์|', '|อยาก|ถาม|ว่า|', 'มี|บัตรเครดิต|', '|ฆ|ษ|ณ|', '|แต่|สมัคร|', '|ต้องการ|', '|กัน|', '|โดยที่|เรา|ไม่ได้|เข้า|', '|pay|', '|ธนาคาร|kbank|', '|ไม่เคย|กู้|อะไร|กับ|กรุ|ศรี|คับ|', '|รีวิว|เกาหลี', '|บ้าง|ครับ|', '|แค่|ยื่น|บัตร|ให้|', '|แต่|เงิน|ยัง|ไม่|เข้า|', '|ก็|คือ|การทำ|ธุรกรรมออนไลน์|ผ่าน|ค|อม|ผ่าน|เวป|', '|โทร|กลับ|ไม่|เกิน|วัน|ถัดไป|', '|proud|', '|ขอ|ข้อมูล|จาก|ธนาคาร|อื่น|ได้|', '|1851|', '|หน่อย|', '|ว่า|', '|ไม่สามารถ|', '|คิว|ยาว|', '|ไป|เข้า|', 'โง่|เอง|', '|แล้ว|ใช้|', '|ไง|คะ|', 'เหมือน|', 'mobile|', '|ใช้งาน|ไม่ได้|', '|45|', '|หมายความว่า|', '|มีข้อดี|', '|ทุก|ธนาคาร|', '|3.00|', '|เครื่อง|', '|ๆ|คะ', '|waive|', '|internet|', '|ธนาคาร|ไม่ได้|เป็นเจ้าของ|', '|2.3|', '|ม.|', 'อยู่ดีๆ|', '|ไม่|เข้า|', '|พูดจา|ดีมาก|', '|อาทิตย์|แล้ว|', '|ไม่|ได้คืน', '|ระวัง|หน่อย|', '|โอน|', '|หรอ|', '|180|', 'ได้|ดอกเบี้ย|', '|ไป|ยืนยัน|ที่|ตู้', '|badservice', '|center|', '|ขออภัย|', 'ไหน|ๆ|', 'โอนเงิน|ไป|แล้ว|', '|k-usa-ad|', '|กะ|', '|อี|ซี่|', 'แล้ว|แต่ละ|ธนาคาร|ใช้|เอกสาร|อะไรบ้าง|ครับ|', '|ชื่อบัญชี|', '|10|k|', 'baac|', '|ไป|เลย|', '|อี|เหี้ย|', '|ง|อง|มาก', '|พยายาม|', '|scbsete|', '|บ.|ช|.|', '|แต่|ทำไม|', '|ขออภัย|ครับ|', '|paste|', '|ก่อนหน้านี้|', '|ละ|ตัด|ตัง|ไป|แล้ว|ด้วย', '|รอ|นานมาก|', '|5000|', '|พอๆ|', '|อิ|เหี้ย|', '|รอง|มา|', '|กรุงไทย|ล่ม|', '20|', '|scb|.', '21|', '|คน|', '|โอน|วัน|ที่', '|350|', '|ตั้งแต่|เมื่อวาน|ตอน|', '|sa|', '|เหมือน|', 'k|', 'krungthai_care|', '|ที่อยู่|', '|รบกวน|ด้วย|นะคะ|', '|ตัด|บัตร|', '|bualuang|', '|วัน|ๆ|', '|กรณี|', '|retention|', '|ดอน|เมือง|', '|scb_m_luxe|', '|ใหม่ๆ|', '|แล้ว|รอ|', '|หน่อย', '|ได้|ลด|', '|bangkok|', '|จน|ผ่านไป|เป็น|เดือน|แล้ว|', '|airasia|', '23|', '|อีดอก|', '|เท่านั้น|', '|จน|ป่านนี้|', '|เฟิร์ส|ช้อย|', '|0.01|', '|หน่วย|ละ|', '|บาง|', '|และ|ให้|เรา|ยืนยัน|ตัวตน|', '|เดือน|แรก|', '|4', '|class|', '|กว่า|ปีก่อน|', '|พอ|กลับมา|ที่|', '|กัน|แน่|', '|--', '|นอกนั้น|', 'พร้อมเพย์|ต้อง|ไป|ติดต่อ|กับ|ธนาคาร|เจ้าของ|บัญชี|เพื่อ|ลงทะเบียน|ผูก|บัญชี|เข้ากับ|หมายเลขโทรศัพท์|ครับ|', '|สอบถาม|หน่อย|นะคะ|', 'kplus|', 'ทำไม|แอป|', '|แต่|อยู่ดีๆ|', 'พอ|', '|อ่ะ|', '|ปลายทาง|', '|นครนายก|', '|ธนาคาร|ก็|หายเงียบ|ไป|', '|สาขา|พระนคร|คีรี|', 'กู้เงิน|กับ|', '|ไม่ได้|ครับ', '|jitta|', '|scb_jcb|', '|เดือน', '|มือถือ|', '|115000|', '|2018|', '|bbl', 'แอป|ธนาคาร|', '|เดือดร้อน|มากๆ|', '|ตัวเอง|ได้|', '|yolo|', '|ได้|หรือไม่|คะ|', '|แต่|ถ้า|ไม่ใช่|', '|เมื่อ|เวลา|', '|แต่|ทาง|', '|planet|', '|ไทย|พา|นิส|', '|online|', '|5.|', '|ใช้งานง่าย|', 'โทร|ไป|', '|แหะๆ|', '|65|', '|ฉะนั้น|', '|จะ|มีโอกาส|ผ่าน|ไหม|ครับ|', '|เรา|ชนะ|', '|jaymart|', '|จะ|ให้|', '|แต่|เงิน|ไม่|เข้า', 'kbank|', '|หรือเปล่า|ครับ|', '|เรา|ก็|โทร|เข้าไป|อีก|', '|ทำไม|เงิน|ไม่|เข้า|', '|customer|', '|bayfirst_choice|', '|port|', '|กลุ่ม|ที่', '|ยัง|ไม่ได้|คุย|กับ|เจ้าหน้าที่|เลย|', '|1.2|', '|63|', '|อี|หน้า|เหี้ย', 'เมื่อ|วัน|ที่', '|อีก|อย่าง|', '|สิ|ครับ|', '|อย่าง|เรา|มี|kbank|', '|เข้าใจ|ว่า|', '|สงสัย|ว่า|', '|ทอง|', '|ค่าธรรมเนียมรายปี|', '|ไปรษณีย์|', '|ส่ง|มา|', '|ios|', '|หมดอายุ|', '|comment|', '|แล้ว|ค่ะ|', '|3|g|', '|กรุงเทพ|', '|ใช้จ่าย|', '|robinhood|', '|เอ่อ|', 'โอน|', '|จ่ายเงิน|', '|24000|', '|twitter|', '|slip|', '|ตอนนี้|มี|', '|code|', '|tmrw|', '|25000|', '|ปี', '|ไว้|แล้ว|', '|0.001|', '1.|', 'ระบบ|', '|paotang|', '|btc|', '|รักษา|', '|margin|', '|app|', 'ไฟแนนซ์|', '|ไม่|หยิบ|เงิน|ออกจาก|ตู้|', '|pvd|', '|dm|', '|mymo|', '|ทำไง|ดี|คะ|', '|มายัง|', '|ดี|ไหม|คะ|', '|แล้วจะ|เอา|เงิน|ไป|ทำ|อะไร|ดี|นะ|', '|หมดแล้ว|', '|ก็|ใช้|', '|จ่าย|ด้วย|บัตรเดบิต|ktb|และ|ผม|ได้|ทำ|การยกเลิก|การสั่งซื้อ|ไป|', 'อี|สัส|', '|ตอน|', '|สงสัย|', '|เวลา|ประมาณ|', '|ใช่ไหม|คะ', '|วัน|ทำการ|', '|bbl|', '|อัปเดต|', '|k-bank|', '|ไม่ใช่|', '|gmarket|', '|แต่|เงิน|ไม่|เข้า|', '|บัตร|หมดอายุ|', '|ครั้ง|ที่', '|k-cyber|', '|shanghai|', '|transferwise|', '|โหลด|', '|18.30|', '|แบบนี้|', '|ก็|สมัคร|', '|ไป|ธนาคาร|อื่น|', '|ต้อง|ทำ|ยังไง|', '|ฟ|รีๆ|', '|ปี|ที่ผ่านมา|', '18|', '|เอง|', '|อยากจะ|สอบถาม|ว่า|', '|tmb_so_smart|', '|ผม|มี|ธนาคาร|ในใจ|อยู่แล้ว|', '|เช้า|', '|รบกวน|แนะนำ|ด้วย|นะคะ|', '|ได้มา|', '|เดือน|นี้|', '|งวด|ที่', '|เม.ย|', '|ที่|บริษัท|', '|bbl|ค่ะ|', '|มา|บอก|ว่า|', '|โอน|เวลา|', 'คำถาม|ที่', 'กดเงิน|', '|ไป|kbank|', '|ใช่ไหม|คะ|', '|me|', '|แสก|น|', 'เติมเงิน|ผ่าน|แอป|', '|พ|รบ|', '|ได้|แล้ว|นะ|ครับ|', '|thanachart|', '|ของ|บัญชี|', '|ตู้', '|6896|', '|k-check|', '|ทำ|เรื่อง|', '|แต่|ประเด็น|คือ|', '|iphone|', '|ทำ|ยังไง|ดี|คะ', 'เปิด|', '|ช่วย|หน่อย|ค่ะ|', '|rmf|', '|ยัง|ไม่|เข้า|เลย|ครับ', '|เงินงวด|', '|เย็น|ๆ|', '|fundclick|', '|ติดต่อ|ผ่าน|', '|mymo', '|เพราะ|', '|us|', '|truewallet|', '|ดอกเบี้ย|ใน|เอกสาร|ใบแจ้งหนี้|', '22|', '|ของ|ตัวเอง|', '|แทน', '|ตัวอย่าง|', '|ด้วย|ครับ|', 'bay|', '|hack|', '|ข้อเสีย|', '|ไหน|', '|alipay|', '|ไป|ติดต่อ|ธนาคาร|', '|ต่างจังหวัด|', 'แต่|', '|อยาก|บอก|ว่า|', '|เมื่อก่อน|', '|พูดจา|แย่มาก|', '|ไม่มีปัญหา|เลย|', '|40|', '|พิจารณา|', '|หรือ|อะไร|', '|ใช้|แต่|', '|ชาย|คน|หนึ่ง|', '|ไหม|คะ', '|truemoneywallet|', '|ก.|พ|', '|อันนี้|ไม่|รู้ว่า|สรุป|เป็น|ยังไง|บ้าง|', '|เป็น|จำนวน|', '|ก็|ล่ม|', '|sbc|', '|ของ|บัญชีธนาคาร|นิติบุคคล|ที่|ปิด|ไป|แล้ว|ต้อง|ทำ|อย่างไรบ้าง|คะ|', '|รบกวน|ช่วย|หน่อย|นะคะ', '|บัญชี|', '|ที่|ตู้', '|กด|ไป|', '|ครับผม', '|ก็ได้', '|ผ่าน|ทาง|', '|gsb|', '|รอบๆ|', '19|', '|เย็น|', '|ขอบคุณ', '|k-express|', '|atm|', 'visa|', '|โอนเงิน|ผ่าน|', '|-_-', '|หรือไม่|', '|23163|', '|เดี๋ยว|นะ|', '|เติม|จาก|', '|ไหม|', '|ซึ่ง|ไม่|ตรงกับ|ที่|โครงการ|ดีล|ไว้|เลย|ครับ|', '|ชม|', '|ไม่|ต่ำกว่า|', '|พร้อมเพย์|', '|นี้|', '|ลำ|ลูก|กา|', '|อยู่|ครับ|', '|rate|', '|คน|ไม่|เยอะ|', '|โค|วิด|', '|apple|', '|ผิด|เบอร์|', '|เป็นบ้า|หรอ|', '|กดเงิน|ไม่ได้|', 'งง|มาก|', '|นอกจาก|', '|ขายหมู|', '|โอนเงิน|เข้าบัญชี|', '|ปี|แล้ว|ค่ะ|', '|2|-|3|', '|wallet|', '|ไว้|ไหม|คะ|', '|9000|', '|dispute|', '|แม่|', '|เหี้ย|มาก|', '|เบอร์|ถูก|', '|ref|', '|สรุปว่า|', '|กว่า|ปี|', '|เกิด|จาก|อะไร|คะ|', '|อี|', '|เลย|โทร|ไป|ถาม|', '|the|', 'สมัคร|', 'หนี้|', '|ตอนนี้|เลย|', '|ai|', 'พรุ่งนี้|', '|เงินเข้า|ปกติ|', '|ได้|ไหม|', 'รบกวน|สอบถาม|ครับ|', '|แต้ม|', '|เช่น|', '|ของ|วันนี้|', '|out|', 'ผม|เอาไว้|กัน|เวลา|ไป|ต่าง|พื้น|ที่แล้ว|มี|แค่|ตู้|เดียว|', '|เท่า|', '|ั|', 'app|', '|830|', '|weply|', '|รบกวน|ตรวจสอบ|ให้|ด้วย|ครับ', '|b|', 'รอสาย|', '|or|', '|ซื้อ|หวย|', '|สินเชื่อ|เสริม|พลัง|ฐานราก|', '|กว่า|หน่วย|', '8|', '|ไม่พอ|', '|ธนาคาร|บอก|ว่า|', '|ใช้เวลา|', '|ฮ่องกง|', 'callcenter|', '|จาก|บัญชี|', '|แจ้งเตือน|เงินเข้า|ไม่มี|สัก|ข้อความ|เลย|ค่ะ|', '|ทุกคน|', '|facebook|', 'ผม|เดินบัญชี|กับ|', '|point|', '|1.6|', '|แย่|แย่|แย่', '|สอบถาม|ทาง|', '|rewards|', 'gsb|', '|เงิน|ฝากออมทรัพย์|แบบ|ไม่มี|สมุด|', '|ยัง|ไม่|ผ่าน|', '|เฮ้อ', '|activate|', '|ตัว|ไหน|', '|ตาม|รูป|', '|เยอะ|ๆ|', '|ems|', 'tmb_touch|', '|vi|', '|เอา|บัตร|ป|ป|ช|.|', '|ดังนี้|', '|หรือ|ต้อง|', '|1|', '|2750|', '|ไม่ติด|บู|โร|', '|ท|รู|มูฟ|', '|จะ|สมัคร|', '|ของ|tmb|', '|เดือน|ค่ะ|', '|บาท|ได้|', '|แต่|ยอดเงิน|ไม่|เข้า|ปลายทาง|', '|นะ|', '|แต่|ไม่|เข้า|ปลายทาง|', '|grab|', '|ของ|bbl|', '|โดยตรง|', '|แจ้ง|ธนาคาร|', '|แต่|ยัง|ไม่|เข้า|', '|ทั้งสิ้น|', '|ได้|แล้ว|', '|เลิก|ใช้|', '|0|', '|ค่า|บ้าน|', '|บ้าน|', '|หรือ|ไป|', '|บาท|ถ้วน|', '|รายเดือน|', '|เป็น|จำนวนเงิน|', '|บาง|สาขา|', '|ไม่มี|ครับ|', '|70000|', '|วัน|ครับ|', '|อ่ะ|ค่ะ|', '|จนถึง|วันนี้|', '|หัก|', '|ไม่ได้|แล้ว|', '|แง', '|หรือ|เหลือ|แค่นั้น|', '|เข้า|ทุกเดือน|ไม่ค่อย|มีเงิน|นิ่ง|ๆ|', 'สอบถาม|เพื่อน|ๆ|', '|ก็|ขึ้น|ว่า|', '|และ|', '|มีปัญหา|หรือไม่|คะ|', '|pttgc|', 'บัตร|หัว|', '|เกือบ|', '|fund|', 'ทำไม|', 'ของ|', '|35|', '|ใช้ง่าย|', '|ต่างๆ|', '|กุม|ภา|', '|โทร|เข้า|', '|เยน|', 'uob|', '|ก|ย|', '|ให้|', '|_', '|t|1|', '|ไปที่|', '|ระยะเวลา|', '|เสียเวลา|มาก|', '|อยากได้|', '|เลขบัญชี|', '|refund|', '|อ่าน|เงื่อนไข|อี|กรอบ|', '|30|k|', 'ผม|ใช้|', '|เมื่อ|', '|ของ|ธนาคารเพื่อการเกษตรและสหกรณ์การเกษตร|', '|chubb|', '|starbuck|', '|cap|', '|บาท|ผ่าน|พร้อมเพย์|', '|ล้าน', '|2|', '|ทำไง|ดี|คะ', '|t|', 'ป|ล|', '|invest|', '|atmdebit|', '|รบกวน|ตรวจสอบ|ให้|ด้วย|ครับ|ฝ', '|ทั้งที่|มี|', '|400000|', '|ดอกเบี้ย|', '|cpall|', '|ออ|ป|โป|', '|ขอบคุณ|ครับ', '|400|', 'อ|ห|', '|ย|', '|infinite|', '|มีปัญหา|', '|ดอก|', '|vs|', '|cardless|', '|ส|ภ|.|', '|สอบถาม|', '|หรือ|', '|อะไร|วะ|เนี่ย|', '|simple|', 'ขอบ|สอบถาม|หน่อย|ค่ะ|', '|โทร|เช็ค|กับ|ธนาคารกรุงไทย|ชัว|กว่า|ค่ะ|', '|ขอบคุณ|ล่วงหน้า|ค่ะ|', '|e-mail|', '4|', '|ปิด|เครื่อง|', '|ทำ|บัตร|', '|ตัวเอง|', '|ได้|ค่ะ|', '|โดน|หัก|ไป|', '|ทอง|ๆ|', '|700|', '|ธนาคาร|คือ|', '|สาขา|ชน|แดน|', '|first_choice|', '|กอง|', '|แต่|พอกด|สมัคร|ไป|แล้ว|', 'เจ้าหน้าที่|', '|3|-|6|', '|ด้วย|ค่ะ|', '|เฟส|', '6|', '|your|', '|เลย|', '|ปิดบัญชี|', '|ชอบมาก|', '|ครั้ง|', '|5|-|10|', '|ขึ้น|ว่า|ไม่|พบ|ข้อมูล|การ|สมัคร|', '|17|-|01|-|2563|', '|กู้|คนเดียว|', '|station|', '|payroll|', '|วันนี้|ระบบ|ของ|ธนาคาร|ปรับปรุง|เหรอ|คะ|', '|35000|', '|แย่สุดๆ|', '|แอป|ค้าง|', '|57|', '|เพื่อ|สะสมแต้ม|', '|แต่|ไม่สามารถ|', '|กู|', '|ไม่|มีอาชีพ|', 'โอน|เงินเข้า|', '|application|', '|อายุ|', '|the|1|', 'สวัสดี|', '|speedy_cash|', 'ขออนุญาต|สอบถาม|ค่ะ|', '|แต่|เงิน|ไม่|เข้า|ครับ|', '|แต่|มี|', '|33000|', '|แต่|บัญชี|ปลายทาง|ไม่ได้|รับเงิน|', '|สาธุ|', 'ส่วน|', '|sietongkum|', '|เพชร|บุรี|', 'โอนเงิน|จาก|', '|คลิก|เพื่อ|ดู|ข้อความ|ที่ซ่อน|ไว้|ใส่|ข้อความ', '|ไทย|', '|โมง|', '|ขอบคุณ|มาก|ค่ะ|', '|ออนไลน์|', '|ครึ่ง|ชั่วโมง|', '|ต่อ|ปี|', '|เป็น|ไฟแนนซ์|ไทยพาณิชย์|ก่อนหน้านี้|', '|beyond|', '|ยัง|ไม่มี|', '|ได้|ไหม|ครับ|', '|ติด|', '|คะ', '|ทำไม|นาน|จัง|', '|starbucks|', 'scb_connect|', '|ขอโทษ|นะคะ|', '|ปี|ค่ะ|', '|บาท|ทุกเดือน|', '|อยาก|ร้องไห้|', '|งวด|ละ|', '|ผ่าน|มือถือ|ผ่าน|แอป|', '|สะสมแต้ม|', '|เหรอ|', '|ทำ|', '|ถาม|ทาง|', '|อิอิ|', '|จำเป็นต้อง|ใช้|เงิน', '|c|', '|e-saving|', '|แต่|ถ้า|', '|ไม่มีภาระ|หนี้สิน|', '|มากกว่า|', '|เดือน|', '|everyday|', '|ktb', '|.|co|.|th|', '|บัตร|', '|60000|', '|ห่วย|', '|scbs', '|เจ้าหน้าที่|เต็ม|ทุก|คู่สาย|', '|4500|', '|kplus', 'ขออนุญาต|สอบถาม|ครับ|', '|พนักงาน|บอก|ว่า|', '|thailand|', '|โอนเงิน|จาก|', '|ทุก|ช่องทาง|', '|ถ้า|', '|ละ|เพิ่ม|', '|ทุ่ม|ครึ่ง|', 'สวัสดี|ครับ|', '|เมลล์|', '|28|', '|คล้ายๆ|', '|ถ|', '|รอสาย|', '|gulf|', '27|', '|สอง|ล้าน|', '|ไม่|', '|20.57|', '|เหมือนเดิม|', '|1.|ktc|', '|ธนชาต|ได้|ไหม|ครับ|', '|ครั้งละ|', '|10.00|', '|สมาร์ท|', '|กับ|รหัส|', '|netbank|', '|19', '|ไม่ได้|สักที|', '|ผ่อน|กับ|', 'เมื่อ|', '|kbank|เอาเปรียบ|บ|ลิงค์|', '|ค่ะ|.|', '|4.|', '|gs|', '|เป็น|เหมือนกัน|ค่ะ|', '|wise|', '|net|', '|หัก|ต้น|ไป|แค่|เดือน|ละ|', '|สาขา|ใน|สนามบิน|สุวรรณ|ภูมิ|', '|wongnai|', '|13|', '|ปะ|', '|นี้|ก็|', '|กี่|', '|โทร|เป็น|ชาติ|', 'suphakit|', '|อยากทราบ|ว่า|เพื่อน|ๆ|', '|ได้|เลย|ค่ะ|', '|เมษา|', '|แป๊บเดียว|ได้|เงิน', '|เป็น|', '|จะ|เป็น|', '|ทำให้|', '|หรือ|ป่าว', 'ktc|', 'สอบถาม|ครับ|', '|เงิน|ไม่|เข้า|ครับ|', '|รอ|ถึง|', '|เลย|นะ|', '|ทุกเดือน|', '|หมุนเวียน|และ|สินเชื่อ|ได้|เพิ่ม|', '|สู้|', '|ไม่ทราบ|ว่า|จะ|ผ่าน|ไหม|คะ|', '|ไม่สามารถ|ทำ|รายการ|ทางการ|เงินได้|ในขณะนี้|', '|ได้|ประมาณ|', 'สอบถาม|หน่อย|ครับ|', '|ต.ค.|', 'ขอบคุณ|', '|เข้า|kbank|', '|แล้ว|ว่ะ|', 'มี|บัตร|', '|protection|', '|ไม่มี|แอป|', '|kkp|', '|ธนาคาร|แล้ว|', 'เข้า|', '|simplicity|', '|มัน|มี|', '|เลข|', '5|', '|จ้า', 'ถาม|', '|kbankxblackpinkfanmeeting', '|บาท|ใน|', '|ไม่เคย|ติด|', '|fast|', '|เงิน|ใน|', '|grabpay|', '|vpn|', '|ไป|ไหม|นะ|', '|ได้|วัน|ที่', '|ยืนยัน|ที่|ตู้', '|1|-|3|', '|พอ|มา|เจอ|ข้อความ|นี้|', '|safari|', 'เวร|ละ|', '|มี|สลิป|แต่|เงิน|ไม่|เข้า|ทำไง|บอก|ที|และ|จะ|ได้|เงิน|คืน|ไหม|ม', '|รับ|', '|ค|ทบ|', '|precious|', '|เปิด|', '|ฝากประจำ|', '|ทราบ|เพราะ|พี่|ข้าง|บ้าน|ทัก|มา|บอก|ใน|ไลน์|', '|เดือด|ร้อนมาก|', '|so|', '|ได้|ไหม|ค่ะ|', '|ตั้งแต่|ปี|', '|order|', '|สุดท้าย|', '|รอ|ผล|', '|เป็นเวลา|', '|jp|', '|ปี|ที่', '|พอกันที|', '|up|', 'ทำ|บัตร|', '|กองทุน|', '|เงิน|ไม่|เข้า|', '|ร้องไห้|', '|จะ|บ้า|ตาย', '|ก|พ|', '|ได้|ไหม|ค่ะ', '|report|', '|ต้อง|ทำ|ยังไง|ครับ|', '|เข้า|กรุงไทย|', '|แบบ|ใช้|', '|ready|', '|เงิน|ยัง|ไม่|เข้า|เลย|', '|ตู้|แต่|ไม่มี|แบงก์|ย่อย|จ่าย|เลย|', '|โอน|เมื่อวาน|ตอน|', '|a|', '|เลข|บัตรประชาชน|', '|ติดต่อ|ธนาคาร|เจ้าของ|บัตร|', '|กด|', '|x|', '|พอ|เข้าไป|จะ|สมัคร|จริงๆ|', '|ผิด|', 'krungthai_next|', '|อี|ควาย|', '|เติม|ผ่าน|', '|เป็นของ|', '|fwd|', '|ภายใน|วัน|ที่', '|แจ้งเตือน|', '|4000|', '|50|', '|ฝ่าย|สินเชื่อ|', '|แลกเงิน|ตาม|โป|ร|', '|แสน|บาท|', '|เช็ค|จะ|', '|รูป|สอง|', '|signature|', '|บาท|', '|บ|ลา|ๆ|', '|ให้|รอ|', '|นาน|', '|3.|', '|3500|', '|ล่ม|อีกแล้ว|', '|mall|', '|tg|', '|contactless|', '|esso|', '|เหมือนกัน|เลย|ค่ะ|', 'เติม|เงินเข้า|', '|จาก|กระทู้|', '|100|k|', '|จะ|', '|อ่อ|', '|รอบ|ไม่|ผ่าน|', '|ก็|แล้ว|', 'ผ่อน|รถ|กับ|', '|ผม|เปิดบัญชี|ตั้งแต่|วัน|ที่', '|uob', '|ไม่|เลย|', '|ติดต่อ|ไม่ได้|', '|บาท|ค่ะ', '|ยัง|ไม่ได้|เลย|', 'scb_thailand|', '|หลาย|รอบ|มาก|', '|ขอบคุณ|ค่ะ', '|กี่|เดือน|', '|มาร|', '|ทำได้|', '|55|', '|welcome|', '|ตาม|หัวข้อ|กระทู้|เลย|', '|scbeasyapp|', '|ไป|แล้ว|', '|reward|', '|ง่ายๆ|', '|ค้าง|', '|ใส่|จำนวนเงิน|', '|service|', '|sms|', '|2.|', 'ติดต่อ|', '|นี่|นะ|', '|เมื่อ|เทียบกับ|', '|แรก|', '|อีห่า|', 'วันนี้|', '|ของ|วันนี้|ให้|ลอง|เช็ค|ที่|บัญชี|ปลายทาง|ก่อน|ถ้า|ไม่|ได้รับ|ก็|ให้|เช็ค|พรุ่งนี้|อีกที', '|ref|.|2|', '|2212563|', '|ยัง|ไม่ได้|', '|investing|', '|ด้วย|ละ|อ่า|', '|เป๋า|ตัง|', '|-|19|', '|kbank', '|support|', '|กด|เข้าไป|', 'เย่|', '|แต่|เจ้าหน้าที่|', '|รองรับ|', '|มาถึง|', '|มุ|แง|', '|เข้า|ใช้งาน|', '|shopee|', '|ครับ|', '|ขึ้น|', '|ลูกค้า|โอน|จาก|', '|appscb|', '|ชำระเงิน|', '|bualuang_m_banking|', '|สาย|', '|kyc|', '2|9|', '|จ่าย|ดอก|ทุกเดือน|', '|and|', '|หมื่น|บาท|', '|ร้อยละ|', '|ท|รู|วอ|ล|เลท|', '|อีกครั้ง|', '|3|', '|ทาง|kbank|', '|อยู่', '|แต่|จริงๆ|', '|เบอร์|', '|เดือน|ละ|', '|ได้|หรือไม่|ครับ|', '|อี|สัส|', '|traveloka|', '|sim|', '|ม|ก|รา|', '|ตัด|', '|แต่|หมดเขต|วันนี้|แล้ว|', '|offer|', '|โทร|ไป|ก็|ไม่ติด|', '|ค่าธรรมเนียม|บัตร|', '|click|', '|ก็|เสือก|ไม่|เข้า|', 'krungsri|', '|2600000|', '|oppo|', '|จะ|โอนเงิน|', '|be|', '|แฟน|ทำ|เมื่อวาน|ผ่าน|แล้ว|คะ', '|ทุกครั้ง|', '|data|', '|แต่|ไม่มี|บัตร|', '|ไว้|ใน|', '|cashback|', '|แอป|กรุงไทย|', '|black|', '|จะ|ไม่|ปรับ|สลิป|จิงอ่อส|ลิบ|เอ้|ม|แบงก์|กิ้ง|คือ|ไป|พัก|', '|jlpt|', '|ไม่|ช่วย|อะไร|เลย|', '|16.00|', '|ที่|ลง|', '|เพิ่มเติม|', '|ใน|แอป|', '|ปีนี้|ได้|ไหม|ครับ|', 'tao|', '|ผ่อน|ได้|', '|พัก|ชำระหนี้|', '|แอป|', '|chat|', '|ให้|ลูกค้า|', '|แสน|ต่อ|เดือน|', '|เรื่อง|แอป|', '|ช่วงเวลา|', '|เขตพระราม2|', '|แล้ว|ส่วน|ของ|บัตร|', '|คอลเซนเตอร์|', '|เข้าไป|แด|ใหม่|คะ|', '|ได้|ไหม|คะ|', '|ถอนเงิน|วันนี้|นะคะ|', '|เป็นต้นไป|', '|จะ|ออกบัตร|กด|ฟรี|ได้|อย่างไร|', '|เข้า|', '|มี|แต่|', '|ธัน|วา|', '|ref|.|1|', '|ยัง|เป็น|นิสิต|อยู่|', '|รอสาย|นานมาก', '|ก็|ให้|', '|หัก|ยอด|', '|tisco|', '|มี|ไหม|', '|จะ|มี|', 'เป็น|เหมือนกัน|เลย|ครับ|', 'ประกัน|', 'วันนี้|ไป|ธนาคาร|ถาม|พนักงานธนาคาร|ถึง|การ|นำส่ง|ข้อมูล|บัญชีเงินฝาก|ไปยัง|กรมสรรพากร|ที่|มีเงื่อนไข|ว่า|รับ|โอน|', '|จะ|ได้|ไหม|คะ|', '|ที่|จาก|', '|ฉัน|', '|plus|', 'จ่ายเงิน|ผ่าน|', '|uid|', '|scbsp|500|', '|เลือก|', '|เรียบร้อยแล้ว|', '|for|', 'ยืนยัน|ตัวตน|ที่|ตู้', '|ที่ใช้|', '|lh|', '|แบบ|ครับ|', '|หรือว่า|', '|เสียความรู้สึก|มาก', '|อยู่แล้ว|', '|ได้|ภายใน|', '|โทร|ไม่ติด|ครับ|', '|แอป|ฯ|', '|นั่ง|', '|ป|ล.|', '|ก.|ค|', '|expense|', '|sq|', '|จ่าย|', '|kbank_live|', '|ตลาดนัด|', '|ค่า', '|ช่วงนี้|', '|ดีๆ|', '|02|', '|ไม่มีเงิน|แล้ว|', '|mint|', 'ใน|', '|งับ|', '|ใหม่|', '|สถานะ|เหมือนเดิม|', 'ออกๆ|', '|ก็|ไม่ได้|', '|โมง|เช้า|', '|bts|', '|ล้าน|', '|บอก|', '|เงินเดือน|ผม|', 'นี้|', 'ขอ|สอบถาม|หน่อย|ค่ะ|', 'ผม|สมัคร|บัตร|', '3|', '|ใบ|ของ|kbank|ครับ|', '|เบื่อ|', '|หรือยัง|คะ|', '|covid-|19|', '|เนื่องจาก|บัญชี|นั้น|โดน|ยึด|ไป|ด้วย|ปัญหา|หนี้สิน|', '_', '|ผม|', '|ไม่|เสีย|ค่าธรรมเนียม|', '|ใช่ไหม|ครับ|', '|มากๆ|', '|ตก|', '|ฟรี|ค่าธรรมเนียม|', '|ในช่วง|', '|บาท|วันนี้|', '|ธนาคาร|ก็|ปิด|ทำการ|แล้ว|', '|กด|เงินสด|', 'scb_easy|', '|แอ๊ป|', '|ไป|อีก|', 'ตู้', '|ใช่|ค่ะ|', '|ไม่เข้าใจ|ว่า|', '|นานมาก|', '|ทำ|อย่างไร|ได้|บ้าง|คะ|', '|ส่วน|', '|บ.|', '|ยืนยัน|ตัวตน|', '|ไง|', '|in|', '|จ่าย|ผ่าน|', '|บริษัท|', '|ขอบคุณ|', '|เท่ากับว่า|', '|สินเชื่อ|', '|ทำ|ยังไง|', '|ดูๆ|', '|rejected|', '|ซื้อ|', '|10.32|', '|เพราะอะไร|', '|ข้าราชการ|', '|จะ|ร้องไห้', 'ขอ|สอบถาม|หน่อย|คะ|', '|อี|ค|วัย|', '|งง|เลย', '|มัน|ขึ้น|ว่า|', '|เบี้ยประกัน|', '|น้อง|', '|300000|', '|คุย|กับ|', '|ไม่สามารถ|ดำเนินการ|ใดๆ|', '|digital|', 'แนะนำ|', '|โทร|ติดต่อ|ยากมาก|', '|make|', 'แอป|bbl|', '|ถอน|', '|ดีมาก|เหมือนกัน|', '|ใน|เวลา|', '|bunnytrader|', '|ถ้า|เป็น|', '|หุ้น|', '|tfex|', '|เริ่ม|', '|ทำ|บัตรเสริม|ของ|มาย|', '|ได้|วงเงินรวม|', 'วันนี้|ตอน|', '|เก็บ|ยิ่ง|นาน|', '|199|', '|ใบ|ค่ะ|', 'สอบถาม|เรื่อง|บัตรเครดิต|', '|33|', '|เป๋า|ตังค์|', '|บอก|ว่า|รีบ|เร็ว|เด่|ว|เต็ม|นะ|', '|มี|.|ค.|', '|เปิด|บัญชีเงินฝาก|', '|หักบัญชี|', '|tot|', '|ไป|ต่าง|ธนาคาร|', '|ตอน|ตี|', '|weverse|', '|โทร|ถาม|', 'นาๆ|', '|เอา', '|11000|', 'จ่าย|', '_carestatus|', '|เดบิต|', '14|', '|ไม่|ใช้|เงิน|จนกว่า|จะ|เก็บ|ถึง|เป้า|', '|กด|ตัง|จาก|ตู้|ทหาร|ไทย|ได้|ถูกต้อง|ไหม|', '|510|', '|.|', '|สะดวก|', '|เลย|ครับ|', '|บน|', '|เป็นต้น|', '|easy|', '|กันยายน|', '|กดเงิน|ไม่|ใช้|บัตร|', '|ก็|มี|', 'ควย|', '|โฉนด|', '|โทร|ตั้งแต่|', '|นิดๆ|', '|บัญชี|ฝากประจำ|ของ|', '|140|', '|จริง|', '|ดังนั้น|', '|ไม่|ผ่าน|', '|ประทับใจ|มาก|', '|2.49|', '|kbankxblackpink', '|เม.ย.|', '|ประทับใจ', '|เครดิต|', '|10.32.0|', '|พอ|วัน|ที่', '|ของ|bay|', 'รีวิว|', '|เมื่อวาน|ไป|ทำ|เรื่อง|ก็|ทำไม่ได้|', '|ราย|', '|23|', '|23.00|', '|ขออนุญาต|', '|ตอนนี้|โต|แล้ว|', '|จน|วันนี้|วัน|ที่', '|บช.|', '|สแกน|หน้า|', '|scan|', '|scb|', '|เห็น|', '|ark|', '|อุดรธานี|', '|ลองดู|นะคะ', '|มากกว่า', '|บ้าง|ไหม|คะ|', '|มาก', 'mymo|', '|ถ้า|เกิน|', '|59|', '|และ|ไม่สามารถ|', '|แจ้ง|ว่า|ระบบ|การ|รับเงิน|ทาง|', '|เป็นไร|อ่ะ|', '|และ|แอป|', '|ก็|เข้า|ปกติ|', '|ไปมา|', '|youth|', '|ขอความช่วยเหลือ|', '|ตามปกติ|', '|ใน|แอ|ฟ|มัน|เป็น|ออ|มท|ร|พ|ย|์|', '|wave|', '|ถัดไป|', '|สินเชื่อหมุนเวียน|', '|got|7|keepspinninginbkk|', '|หงุดหงิด', '|อยาก|รู้ว่า|ค่าธรรมเนียม|ตรง|', '|หงุดหงิด|', '|ที่|เป็น|ธนาคาร|', '|สาขา|', '|18|', '|big|', 'ทำ|', '|ต้อง|โทร|ไปหา|', '|นี่|คือ|', '|1000|', '|remind|', '|tmb_all_free|', '|มี|', 'หวัง|ว่า|', '|ถึง|', '|แล้ว|คะ|', '|แบน|', 'กรุงเทพ|', '|ตอนนี้|เงินเดือน|', '|น|', '9|', '|care|', '|เมื่อวาน|', 'grab|', '|แอป|ล่ม|หรอ|', '|คืน|', '|คำ|ว่า|', '|สินเชื่อ|เพิ่ม|ได้|', 'ลอง|ไป|ใช้บริการ|กับ|พนักงาน|เค้า|', '|user|', '|รอคิว|นานมาก|', '|ต่อมา|', '|scbb|', '|ต้อง|เปิดบัญชี|', '|กลัว|โดน|หลอก|', '|ใคร|ที่ใช้|อยู่|รบกวน|แนะนำ|หน่อย|ครับ', '|อัตโนมัติ|', '|ต่างประเทศ|', '|เบอร์|ผิด|', '|กด|สมัคร|', '|เลย|นะคะ|', '|กบข.|', '|ค่า|เทอม|', '|aia|', '|เติม|เงินเข้า|', '|เรา|ชนะ', '|สุดท้าย|คุณ|ก็|หยอด|จน|เต็ม|', '|ป|ต|ท|', '16|', '|สัก|เท่าไหร่|', '|top|', '|ได้|เลย', '|ก.ค.|', '|จนถึง|', 'คือ|', '|โอน|เมื่อ|วัน|ที่', '|อีกแล้ว|', '|thai|', '|มี|สลิปเงินเดือน|', '1555|', '|เฉลี่ย|', '|22000|', '|10.02|', '|ล้าน|บาท|', '|process|', '|เบื้องต้น|', '|adobe|', '|โอนเงิน|ไป|', '|ธนาคาร|ต้นทาง|ของ|เคส|เรา|', '|ลอง|ไป|ศึกษา|ดูก่อน|', '|โค|วิด_19', '|smart|', 'อิ|', '|1600|', '|บาท|ขึ้นไป|', '|เดือนก่อน|', '|ไม่|แจ้ง|', '|ของ|ธนาคาร|', '|ต่อ|', '|หรือ|กี่|ปี', '|ชาว|พันทิป|', '|รอ|ประ|มาน|ครึ่ง|ชม.|', '|งง|มาก', 'และ|', '|สุด|', '|it|', '|แล้ว|ลง|ใหม่|', '|รอ|นานมาก', '|no|', '|สั่ง|อาหาร|', '|บ|', '|เข้าบัญชี|', '|เรา|เปลี่ยน|จาก|', '|ระบบ|อัตโนมัติ|', '|ล่ม|เก่ง|', '|airpay|', '|ออกมา|', '|แต่|เงิน|ไม่|เข้า|ปลายทาง|', '|จาก|ทาง|', '|banks|', '|lazada|', 'ที่|สำคัญ|', '|งง|', '|ก็|สามารถ|', '|แต่|ไม่มี|สมุดบัญชี|', '|add|', '|momo|', '|แง|', '|จะต้อง|รอ|ถึง|เมื่อไหร่|', '|เงิน|ยัง|ไม่|เข้าบัญชี|', '|เฉยๆ|', '|ครั้ง|ตอนนั้น|', '|23000|', '|ก็|ใช้ได้|ปกติ|ครับ|', '|scb_family_plus|', '|โทร|ไปหา|', '|ทั้งๆ', '|เพราะ|มี|', '|steam|', '|บ้าบอ|', '|เบื่อ|มาก|', '|ต้อง|มี|', '|เงียบกริบ|', '|16.08|', 'ktb|', '|1295|', '|8|-|9|', 'แล้ว|ทำไม|', '|ไป|ยืนยัน|ตัวตน|ที่|ตู้', '|ยอด|', '|wow|', '|ด้วย|', '|callcenter|', '|travel|', 'เติมเงิน|', '|bitkub|', '|2.8|', '|บิ๊ก|ซี|', '|โยน|ไป|', '|ไม่ได้|', '|ก.พ.|', '|ยกเว้น|ของ|scb|', '|ดาว|น|์|', '|ok|', '|ประกันภัย|', '|เต็ม|', '|telephonetag|', '|ตั้ง|นาน|', 'เรื่อง|มีอยู่|ว่า|', '|ก็|ถอย|', '|family|', '|ถึงจะ|สามารถ|เช็ค|ได้|', 'ไป|เปิดบัญชี|', '|ไม่สามารถ|ทำ|รายการ|ได้|ในขณะนี้|', '|เนี่ย|', '|advisor|', '|8000|', 'sms|', '|noti|', '|ถาม|พนักงาน|ที่|สาขา|บอก|ว่า|ใช้ได้|', '|ยกตัวอย่างเช่น|', '|เป็น|ส่วนลด|', '|2|-|4|', '|scb-m|', '|เข้า|ไม่ได้|', '|กับ|บัตร|', '|ธนาคาร|ธนาคารเพื่อการเกษตรและสหกรณ์การเกษตร|', '|ssf|', 'เบอร์|', '|เป็น|อะไร|อีก|', '|วัน|ทำการ', '|11.30|', '|เป็น|งง|', '|central|', '|ดู|ครับ|', '26|', 'ส่วน|บัตร|', '|แต่|ใช้ไม่ได้|', '|หรือเปล่า|', '|บ|ลา|', '|ราคา|', '|อยู่|ไหม|คะ|', '30|', '|มา|kbank|', 'ฝาก|ธนาคาร|ก็ได้|ดอกเบี้ย|น้อยนิด|', '|เอง', '|161|', '|ไม่มี|สลิปเงินเดือน|', '|name|', '|อนุมัติ|แล้ว|', '|หลังจากนั้น|', '|ประเมิน|', '|เน็ต|', '|หรือ|พี่|ๆ|', '|ไว้|ก่อน|', '|ลด|ๆ|', '|ตอนนี้|คือ|', '|แปล|ว่า|', '|แล้ว|เรา|ลงทะเบียน|ไป|วัน|ที่', '|ไม่ได้|ใช้|', '|15.30|', 'สอบถาม|ธนาคาร|', '|7|-|14|', '|กู้|ได้|', '|220|', '|ktc', '|2330|-|0000|', '|ขอ|ประจาน|ตัวเอง|', '|คือ|ถ้า|', '|7|-|11|', '|cdm|', '|แรกๆ|', '|due|', '|แล้วก็|', '|option|', '|มี|ค|', '|7600|', '|username|', '|ดีจัง|', '|mind|', '|บ่าย|', '|ๆๆ|', '|lounge|', '|spotify|', '10|', '|เข้ามา|ที่|ไทย|', '|เขา|เลย|ป|ริ้น|ให้|', '|tbank|', '|อยู่|ที่', '|bay|ไม่มี|บัญชี|', '|เสี่ยว|มี่|', '|ทำ|รายการ|ไม่|ตามเวลา|กำหนด|พ่อ|ง|มึง|ดิ', '|ชั่วโมง|แล้ว|', '|ประกันสังคม|', '|ที่|สาขา|', '|กรุงไทย', '|20.00|', '22|1163|', '|จอง|', '|เวรกรรม', '|ลืม|', '|แจ้ง|', '|มี|แล้ว|', '|แล้ว', '|แจ้ง|ว่า|', '|ไม่ได้', '|ซวย|ๆ|', 'ใคร|ใช้|', '|จริงๆ|', '|snoopy|', '|ผม|เลือก|', '|กว่า|บาท|', '|บาท|แน่ะ|', 'kbank|ค่ะ|', '|ต้อง|ใช้|อะไรบ้าง|', '|ชั่วโมง', 'โอนเงิน|ผ่าน|', '|ไม่มี|กำหนด|หมดอายุ|', '|ก็|เป็นส่วนหนึ่ง|ครับ', '|โบราณ|จะ|ตาย|ชัก|', '|แต่|หักเงิน|จาก|บัญชี|', '|ล่ม|อีก|', '|สามารถ|จ่าย|ผ่าน|', '|เปิด|พร้อมกัน|', '|tt', '|ไทยพาณิชย์|', 'ดอกเบี้ย|', 'บัตรเครดิต|bbl|', '|vat|', '|ชื่อ|', '|หมดความอดทน|', '|นะ|ครับ', '|ธนาคาร|หนู|เงิน|ประมาณ|', '|แล้วก็|ส่งจดหมาย|แจ้ง|ว่า|', '|cc|', 'โอนเงิน|พร้อมเพย์|จาก|', 'โทร|ติดต่อ|', '|จาก|เดิม|', '|ฐาน|เงินเดือน|', '|50|k|', '|คือ|ช้า|มาก|', '|smebank|', '|8900|', '|หาย|', 'บัญชี|', 'next|', '|.', '|16|', '|ใบ', '|search|', '|ปล่อย|', '|โทร|ทุกวัน|', '|ถือ|บัตร|', '|ล่ะ|', '|atm-|', '|2300|', '|scb', '|first|', '|สัญญา|', '|ง่าย|ดี|', '|kbank_live', '|merchant|', '|02|-|28515|', 'k|8888|', '|วัน|แล้ว|', 'ลงทะเบียน|', '|ขอนแก่น|', '|คำถาม|คือ|', '|ค่าบริการ|', '|เพื่อ|', '|ของ|ทหาร|ไทย|', '|ผล|คือ|', '|kbank|', '|dolfin|', 'สอบถาม|ค่ะ|', '|เบอร์|แปลก|', '|ฮะ|', '|uob_privimile|', '|ไป|ค่ะ|', '|105|', '|ตราสาร|หนี้|', '|t-t', 'ข้อเสีย|ของ|', '|สมาชิก|ว่า|', '|ล|ฯ|', '|ฮา|ๆ|', '|1700|', '|เป็น|เบอร์|', '|to|', '25|', '|ktb|กรุงไทย|', '|1.30|', '|เฮ้ย|', '|อยาก|รู้ว่า|', '|แล้ว|ครับ', '|อะไร|', '|งวด|แรก|', '|แล้ว|ต้อง|ทำ|อะไรบ้าง|', '|เงิน|โดน|หัก|', '|g|', '|จน|', '|62|', '|41000|', '|เปน|', '|ถ้า|มัน|ไม่พลาด|ไป|', '|เนื่องจาก|เรา|ย้าย|มา|อยู่|', '|เรา|สนใจ|และ|อยาก|สอบถาม|ข้อมูล|', 'มีเงิน|เข้ามา|', '|of|', '|aliexpress|', '|cash', '|18.11|', '|cvc|', '|โอน|เงินเข้า|', '|ตอบ|โจทย์|ที่สุด|', '|ห่วย|มาก|', '|ซื้อได้|จนถึง|', '|เอา|จน|ว่า|รำคาญ|', '|วัน', '|แต่|ภาพ|ไม่|ใช้|', '|หักเงิน|อัตโนมัติ|', '|เงิน|หัก|จาก|บัญชีธนาคาร|แล้วแต่|ยอด|ใน|แอป|เป๋า|ตัง|ยัง|เป็น|', '|ใช้เวลา|ประมาณ|', '|เขา|บอก|ว่า|', '|ตอนนี้|เหลือ|', '|รอบ|แล้ว|', '|เสียเวลา|', '|ขึ้น|วงเงิน|มา|', '|อีก|ประมาณ|', '|ibanking|', 'สินเชื่อ|', '|วัน|ละ|', '|ว่า|เพราะอะไร|', '|จะ|ใช้|เงิน|', '|ธนาคารอาคารสงเคราะห์|', '|ว้อท|', '|หักเงิน|ใน|บัญชี|ไป|แล้ว|', '|แล้ว|ต้อง|เสีย|อะไร|ไหม|', '|ตั้ง|', '|covid|', '|login|', '|ของ|ผม|', '|scb|ค่ะ|', '|ปัจจุบัน|', '|จะ|ใช้|', '|2.34|', '|แนะนำ|', '|20|k|', '|balance|', '|บลจ|', '|ไปยัง|bbl|แต่|เงิน|ไม่|เข้า|', '|ไม่รู้|จะ|ทำไง|แล้ว|', '|ช่วง|เดือน|', '|มาตลอด|', 'อยากให้|', '|ว่า|ตอนนี้|', '|สามารถ|', '|โทร|ไป|แจ้ง|', '|17.30|', '|pin|', 'จริงๆ|', '|mask|', '|สรุป|คือ|', '|บัญชี|ปลายทาง|', '|cp|', '|40000|', '|เหมือน|สมัยนี้|', '|ไว้ใจ|เอา|เงิน|ไป|ฝาก|', '|อ|ห|.', '|ของ|ประเทศ|', '|ก็ได้|', '|ทาง|ออนไลน์|', 'ฐาน|เงินเดือน|', '|สีเทา|', '|โทร|สอบถาม|กับ|bbl|', '|ด้วย', '|มา|เป็น|', '|งวด|', '|เวลา|กลับ|ไปที่|กรม|ทหาร|บ้าน|เก่า|ใน|กรม|มัน|จะ|มี|แต่|ตู้', '|ได้|ครับ', 'ซื้อ|', '|แต่|ทั้ง', '|เพื่อ|ยืนยัน|ตัวตน|', '|ndid|', '|เริ่มต้น|', '|268|', 'ตู้|', '|ของ|ธนาคาร|ไหน|', '|my|', '|เดิม|', '|รึ|เปล่า|ครับ|', '|ได้|ไหม|ครับ', '|ipad|', '|ทั้ง|ทาง|', '|pttor|', '|แล้ว|บัตร|เก่า|คือ|จ่าย|ออนไลน์|ได้|', '|honda|', 'ใช้|', '|ค|ห|.|', '|ครั้ง|แล้ว|', '|2440|', '|ทำไง|ครับ', '|120|', '|ปล่อยกู้|', '|แม่|ง|', 'อยากทราบ|ว่า|', '|สมัคร|', '|กด|ไม่ได้|', '|เรียน|', '|เข้า|scb|', '|ผ่าน|บัตร|', '|แอป|ล่ม|', '|499|', '|ไม่มี|เลย|', '|ปี|', '|ไป|เปิดบัญชี|', '|from|', '|จะ|กู้เงิน|ใน|ไลน์|', '|ตลอด', '|ตอนนี้|ใช้|', '|ไป|เข้าบัญชี|', '|สมัคร|บัตรเครดิต|', '|banking|.|', 'โทร|หา|', '|ตาม|', '|scb_m|', '|สอบถาม|ค่ะ|', '|เห้อ', '|มาแล้ว|', '|เพียง|', 'รอ|', 'โทร|', '|เลิก|เบื่อ|', '|บาท|ต่อ|เดือน|', '|ออก|บัตรเดบิต|ไม่ได้|', '|kce|', '|คะ|', '|ไฟ|', '|otp|', 'android|', '|เร็วมาก|', '|โมโห|', '|ลงทุน|', '|เมื่อ|กลางเดือน|ไป|เปลี่ยน|จาก|บัตร|', '|อิ|ห่า|', '|รอบ|ละ|', '|ใน|วัน|ที่', '|กองทุนรวม|', '|โฆษณา|ว่า|', '|นั้น', '|ฮือ|', '|ยัง|', '|อันนี้|ก็|แล้วแต่|', '|การ|ขอ|เพิ่มวงเงินถาวร|', '|สัญญา|ผูกพัน|ธ|์|กับ|ธนาคาร|', '|feedback|', '|หรือ|บัตรเดบิต|', '|ใช้|บัตร|', '|พนักงาน|', '|เจอ|', '|ธ|ค|', '|tt|', '|ไม่มี|ประวัติ|จ่าย|ช้า|ของ|ใบ|นี้|ครับ', 'chanathammakhon|', 'อีก|', '|แล้ว|อยู่|ๆ|', '|วัน|ค่ะ|', '|ต้อง|จ่าย|', 'scb|', '|ต่อ|ปี', '|ที|', '|พนักงาน|บอก|', '|จน|เรา|ติดต่อ|เข้าไป|เป็น|ครั้ง|ที่', '|saving|', '|เสีย|', '|rop|', '|แต่|นี่|', 'เซ็ง|', '|gift|', '|ทำไง|ได้|บ้าง|คะ|', '|เที่ยงคืน|', '|รหัสผ่าน|', '|version|', 'บัตรเดบิต|', '|โลตัส|', '|คนละ|ครึ่ง', '|66|', '|ประมาณ|', 'อยาก|ถาม|ว่า|', '|ทั้งหลาย|', '|แค่นั้น|', '|bitcoin|', 'เป็น|ธนาคาร|', '|เท่านั้น', '|2557|', '|2140|', '|ats|', '|ผ่าน|ไหม|ค่ะ|หรือ|ใคร|เคย|กู้|บ้าง|เล่า|ประสบการณ์|', '|ไป|ไทยพาณิชย์|', '|โดย|', 'ของ|เรา|', '|55', '|ก็|ไม่|เข้า|', '|โปรโมชั่น|', '|หลาย|รอบ|แล้ว|', '|youtube|', '|จน|วัน|ที่', '|โอ้|ย', 'สรุป|', '|ล่ม|หรอ|', '|คือ|', '|เรา|', '|ธนาคาร|อื่นๆ|', 'น้อยๆ|', '|ปี|กว่า|แล้ว|', '|ไม่สนใจ|', '|passion|', '|ktef|', 'มึง|', '|พอดี|', '|เรา|ยัง|ไม่ได้|ข้อความ|เหมือนกัน|ค่ะ|', '|ธนาคาร|แจ้ง|ว่า|', '|ซิ|ม|', '|ของ|ธนาคาร|bbl|', '|ปกติ|ที่|ถอน|คือ|', '|exclusive|', '|agoda|', '|อยู่|ๆ|', 'น่าจะเป็น|', '|กระเป๋า|ตังค์|', '|กด|ฟรี|ทุก|ตู้|', '|scb|.|', '|ลงท้าย|', '|คิดว่า|', '|15|', '|12.00|', '|ผ่านไป|', '|ไม่ต้อง|ชำระ|', '|ลง|เหลือ|', '|ของ|ระบบ|', '|ค่ะ', '|อีกที|', '|edc|', '|nav|', 'cigna|', '|ละ', '|ดอกเบี้ย|ยิ่ง|เยอะ|ค่ะ', '|ไม่มี|บัตรเครดิต|', '|กรุงไทย|', '|วัน|เหมือนเดิม|', '|5000.|-|', '|scbset|50|', '|failed|', '|เจ|', '|wifi|', '|17000|', 'โอนเงิน|วัน|ที่', '|ธันวาคม|', '|พอ|มี|โครงการ|พัก|หนี้|', '|หน้า|', '|จบ|ข่าว|', '|store|', '|มีโอกาส|', '|major|', '|กล|ต.|', '|ขอบคุณ|นะ|ครับ|', '|ตี|', '|ไหน|ๆ|', '|เร็วๆ', '|limited|', '|40|k|', '|มา|ที่|เบอร์|', 'โทร|หา|คอลเซนเตอร์|', '|พนักงาน|ชาย|', '|ไม่|ผ่าน|เกณฑ์|', '|ร้าน|ป|ริ้น|ยัง|ไม่|เปิด|นี่|เลย|จะ|เปิดบัญชี|เพื่อ|จ่ายเงิน|', '|pc|', '|debit|', '|ก็ได้|นะ|', '|เยอะมาก|', '|dtac|', '|tmb_touch|', 'ปิดบัญชี|', '|เหลือ|แต่|', '|ต้นเดือน|', '|scb_easy', '|buntoshi|', '|ค|ห|', '|confirm|', '|jasif|', '|2692|', '|ก็|ไม่มี|', '|น่าสนใจ|มาก|ครับ|', '|1000000|', '|ครึ่ง|', '|มี|เพื่อน|ๆ|', '|ของ|ทั้ง', '|private|', '|ของ|ไทยพาณิชย์|', '|kt-ashare|', 'อยาก|สอบถาม|ว่า|', '|แต่|ไม่|เข้า|', '|ธนาคาร', '|อย่าง|', '|อายัด|บัตร|', '|up|2|me|', '|เพราะว่า|', '|baac|', '|fb|', '|ก่อน|', '|cash|', '|เห็น|บาง|ธนาคาร|ไม่ต้อง|ใช้|แสตมป์|ภาษีอากร|', '|เลย|โทร|ไป|', '|ยังไง|', '|เหลือ|', '|นี่|โอน|จาก|', '|สัก|ปี|ละ|', '|ขอให้|', '|ได้คืน|', '|เฮงซวย', '|080|', '|ครบ|', '|ไหม|ค่ะ|', '|ptt|', '|โดยประมาณ|', '|ได้|ไหม', '|ที่ผูก|ไว้|', '|เหมือนกัน|ค่ะ|', '|ผ่าน|มา|', '|ง|อง|', '|ได้|ค่ะ', '|foodpanda|', '|ชอบ|', '|สาย|ไม่ว่าง|ตลอด|เลย|', 'weply|', '|เงิน|ไม่|ออก|', '|ต้อง|นำ|บัตร|', '|ธนาคารกรุงไทย|ได้|', '|ประเทศไทย|', '|statement|', '|คิว|', '|จน|ตอนนี้|วัน|ที่', '|2130|', '|อยาก|สอบถาม|ว่า|', '|ส่วน|บัตรกดเงินสด|', 'เมื่อ|เวลา|', '|บัตรกดเงินสด|', '|ถ้า|ติด|แบล็คลิสต์|', '|citi_premier|', '|fun|', 'bbl|', '|banking|', '|ไป|ทำ|ที่|ตู้', '|600|', '|เรื่อง|', '|1900|', 'scbs|', '|วงเงิน|', '|keptbykrungsri|', '|ซ่อม|ศูนย์|', '|พัน|', '|ธรรมดา|', '|ทีนี้|', '|วัน|ถัดไป|', '|ประทับใจ|', '|ขึ้น|ว่า|', '|จะ|ทำ|อย่างไร|', '|kfc|', '|7000|', '|รี|ไฟแนนซ์|', '|ถาม|เรื่อง|', '|เท่าไหร่|', '|เจ้า|', '|gwallet|', '|มา|ใช้|', '3|1|', '|ลด|', '|ผม|เปิดบัญชี|', '|ขอ|ข้อมูล|', '|รวมทั้งสิ้น|', '|ก็|ไม่|ผ่าน|', '|ไป|ตอน|', '|-', '|axa|', '|ธนาคารไทยพาณิชย์|', 'เตือนภัย|', 'tmrw|', '|website|', '|wisdom|', '|browser|', '|อี|เวร|', '|นี่|จะ|', '|ผม|อายุ|', '|3.5|', '|ง|', '|เมื่อคืน|', '|บาท|ค่ะ|', '|ปกติ|จะ|มี|', 'เป็น|ลูกค้า|', '|มกราคม|', 'เป๋า|ตัง|', '|เรา|ติดต่อ|ไปที่|เบอร์|โทร|สำนักงานใหญ่|ไฟแนนซ์|ไทยพาณิชย์|บอก|ว่า|จะ|ติดต่อ|กลับมา|', '|18000|', '|63', '|เช็คยอด|', '|2.78|', '|money|', '|โทร|ไป|', '|busayarat|', 'โอ้|', '|bls|', '|ยอด|จาก|อนาคต|ตอน|', '|ติดต่อ|', '|ไป|', '|ม|ค|', '|งง', '|ktsf|', '|2400|', '|1333|', '|100000|', '|loan|', '|ปี|แล้ว|ครับ|', '|ของ|ทุกเดือน|', '|สด|', '|จาก|ตู้', '|กรุงไทย|ล่ม', '|เดียว|', 'รบกวน|', '|ขนาด|', '|anan|', '|คับ|', '|910|', '|ทาง|ธนาคาร|', '|แล้ว|โหลด|แอป|', '|dca|', '|planetscb|', '|อาทิตย์|', '|หรือ|ธนาคาร|', '|ซื้อ|ผ่าน|', '|krungsri|', '|nzd|', '|ตั้งแต่|ต้นปี|', '|สูงกว่า|', '|เสียไป|', '|grow|', 'mon|', '|ทั้ง|', '|speedy_loan|', '|เช่นกัน|ค่ะ|', '|yen|', '|scb_easy|', '|ไป|เมื่อ|วัน|ที่', '|แจ้ง|สำเร็จ|', '|ช|.ม|', '|ไป|กรุงไทย|', '|2645|', '|วันนี้|วัน|ที่', '|free|', '|จบ|', '|บริการ|ดี|มากๆ|', '|สอง|รอบ|ละ|ที่|ส่ง|', 'เติมเงิน|จาก|', '|bangkokbank|', '|โอน|ไป|', '|ปิด|', '|-|', '|26|', '|อะไร|เนี่ย', '|วินาที|', '|มูลค่า|', 'เป็น|เหมือนกัน|ค่ะ|', '|เอา|', '|ของ|gsb|แต่|ก็|ไม่มีใคร|รับ|เลย|พนักงาน|ติด|สาย|ทุก|คู่สาย|เป็น|ชั่วโมง|เลย|', '|10000|', '|atm|.|', '|ลอง|ดูๆ|', 'paotang|', '|ล่ม|อี|ควาย|', 'ที่|', 'ว่าแต่|', '|design|', '|ชำระ|', '|นี่|', '|ขอบคุณ|ค่ะ|', '|และ|มี|', '|got|7|keepspinninginbkk', '|bigc|', '|บ้าง|', '|ktbnext|', 'สินเชื่อบ้าน_scb|', '|ไป|ตู้', '|เส้า', '|ไม่ดี|', '|ตุลาคม|', '|เปลี่ยน|มา|', '|scbtmf|', '|ไหม|คะ|', 'โป|ร|บัตร|', '|อาทิตย์|ละ|', '|society|', '|หมายเลข|', '|แต่|', '|ได้|', '|usa|', '|27|', '|ทวง|แทน|', '|จะ|ยกเลิก|สิทธิ์|', '|ธ|', '|แห|นะ', '|contact|', '|เท่า|ค่ะ', '|คุย|', '|บาท|เอง|', '|เข้า|เมื่อกี้|เลย|', '|speedy|', '|อีก|', '|work|', '|ดู|', '|ttb|', '|บัตรเครดิต|bbl|', 'pin|', 'ได้|', '|จริง|ค่ะ|', '|กทม|', '|cancel|', 'ธนาคารอาคารสงเคราะห์|', '|ประ|มาน|', '|ขอบคุณ|มาก|ครับ', '|27000|', '|ธนาคาร|ghb', '|1.8|', '|ปีก่อน|', '|เอกสาร|ครบ|', '|mobile|', '|กดเงิน|ไม่|ใช้|บัตร|ไม่ได้|ค่ะ|', '|ออก|', '|ติดต่อ|ธนาคาร|', 'อยู่|ๆ|', '|เลข|อ้างอิง|', 'ถ้า|ใช้|', '|เรา|จะ|ไม่|ทิ้ง|กัน|', 'โดน|', '|1|-|2|', '|25|', '|จน|ต้อง|ถ่อ|ไปถึง|โร|บิน|สัน|เอง|', '|ต้อง|รอ|ตรวจสอบ|', '|แลก|', '|ขอ|สอบถาม|หน่อย|ค่ะ|', '|ad|', '2|', '|ธนาคาร|ค|', '|pttep|', '|โทร|ไป|คอลเซนเตอร์|', '|60|', '|งง|ไป|หมด|', '|โมโห', '|รอ|ไป|', '|1.6|-|1.8|', '|wha|', '|ผม|อยาก|ถาม|ผู้รู้|ครับ|ว่า|', '|ใช้|ของ|', '|มัน|ของ|', 'ตาม|หัวข้อ|เลย|', '|ดู|สรุป|ยอด|ซื้อ|', '|3|bb|', '|ทำให้|ปลายทาง|ไม่ได้|รับเงิน|', '|ได้รับ|', '|อยาก|', '|เลือก|ถอนเงิน|ไม่|ใช้|บัตร|', '|จ่าย|ไป|', '|ดี|นะ|', '|หรอ|ครับ|', '|มี|.ค|', '|bdms|', 'บริการ|รับฝาก|', '|5', 'คือ|แบบ|', '|map|', '|ค่ะ|', '13|', '|รอ|ดู|', '|หุ้น|ไทย|', '|3|-|5|', '|5|-|6|', '|เรย|', '|transfer|', '|ชม.|', '|วัน|', '|ไม่|อยากให้|พัก|หนี้|ใช่ไหม|ถึง|ไม่ติดต่อ|กลับมา|ทำไม|ถึง|ติดต่อ|กลับ|ได้|ยากเย็น|เพียงนี้', 'มือถือ|จีน|', '|streaming|', '|ที่', '|ม.|ค.|', '|บางที|', '|15000|', '|ทุกปี|', '|ขอโทษ|ค่ะ|', '|ของ|บัตรเครดิต|และ|', '|toyota|', '|แต่|ไหม|เข้าบัญชี|', '|บ้าน|แล้ว|ไม่รู้|จะ|เอา|เงิน|ไป|ทำ|อะไร|ก็|ไปหา|ฝาก|ที่นี่|ก่อน', '|1.|ผม|ต้อง|แจ้ง|อะไร|กับ|ทาง|', '|ต้อง|ใช้|บัตร|', '|ถ้า|เปิดบัญชี|', '|แต่|ไม่ใช่|บัญชี|หลัก|', '|ace|', '|หรือ|ไม่มี|', '|อืม|', 'สอบถาม|นะคะ|', '|bankingmobile|', '|ใช่|', '|ใน|สาขา|', '|ผ่าน|แอป|', '|ให้|ความ|รู้สึกแย่|จัง', '|9.00|', '|ไป|ครับ|', '|คือ|อะไร|', 'ที่|เรา|', '|อิ|', '|1500|', '|61|', 'สมัคร|สินเชื่อ|', '|ต้อง|ติดต่อ|', '|western|', '|ค|ป|ภ|.|', '|ทุ่ม|กว่า|ๆ|', '|หลัง|', '|17.00|', '|2565|', '|23.48|', '|บน|มือถือ|', '|ทำ|มา|', '|10|m|', '|transection|', '|ขายของ|เช็ค|ยากมาก|ค่ะ|', '|alert|', '|ล้าง|ข้อมูล|ใน|มือถือ|', '|มา|ดู|', '|ตอนนั้น|', '|เอ้า|', '|บาท|ต่อ|คะแนน|', '|citibank', '|มือถือ|หาย|', '|ผม|ว่า|', '|ได้|ดอกเบี้ย|อยู่|', '|book|', '|next|', '|รอ|', '|มี|บัตร|', '|ที่ธนาคาร|', '|ๆ', '|วิ่ง|ก่อน|', 'ขอ|สอบถาม|ผู้รู้|หน่อย|ครับ|', '|490|', '|all|', '|ๆ|', '|139|', '|เสียเวลา', '|ตอนนี้|', '|bank|', '|เซ|ง|', '|1300|', '|30|-|45|', '|ทุกๆ|', '|โอนเงิน|จาก|ธนาคาร|', 'โอ๊ย|', '|cigna|', '|เงินฝาก|', '|ติด|ต่อไป|ทาง|', '|สรุป|', '|ไม่ได้|นับจำนวน|ครั้ง|ตาม|ลูกค้า|แต่ละคน|โอน|', '|2562|', '|ยอด|ไม่|เข้า|', '|live|', '|ต้อง|ทำไง|ค่ะ|', '|อ๋อ|', '|ขึ้นมา|', '|investment|', 'สอบถาม|', '|krungthai_care', '|timeout|', '|ไม่มี|', '|เป็นมา|', '7|', '|จนถึง|บัดนี้|', '|เปลี่ยนเป็น|เบอร์|', '|เปิด|ๆ|', '|365|', '|เช็ค|สถานะ|', '|ทั้ง|แอป|', '|500|-|600|', '|200|', '|นาน|มากๆ|', '|ต้อง|ไป|ทำ|ที่ธนาคาร|', '|มั้ง|', '|ฟรี|', '|44|', '|ขอบคุณ|นะคะ|', '2|8|', '|ธนาคาร|ล่ม', 'ณ|', '|ดีกว่า|', '|18|k|', '|ซึ่ง|ทาง|', '|ก็|เป็น|', '|ได้|ด้วย|', '|device|', '|a-mobile|', '|อยากจะ|ผ่อน|คอน|โด|ราคา|', '|เป็นไร|วะ|', 'เจริญ|', '|ตั้งแต่|', '|วัน|แล้ว', '|เป๊ก|ผลิต|โชค|', '|โทร|กลับ|ไทย|ก็|ไม่ได้|', '|ของ|กรุงไทย|', 'scbplanet|', '4|363|', '|รอบ|', 'คือว่า|ผม|สั่งซื้อ|', '|กับ|bay|', '|ขาย|', '|หมื่น|', '|call|', '|ถาม|จริง|', '|ก่อน|จะ|มี|โครงการ|พัก|หนี้|ของ|ธนาคาร|ต่างๆ|', '|k-my|', '|rueantan|', '|รบกวน|สอบถาม|ค่ะ|', '|เงินเข้า|', 'ๆ|', '|เข้า|พร้อมเพย์|กรุงไทย|', '2.|', '|500|', '|one|', '|ต้อง|ทำไง|ค่ะ', '|เพราะ|จริงๆ|', '|kjourney|', '|link|', '|taxi|', '|เจ้าหน้าที่|บอก|', '|ทุ่ม|กว่า|', '|line', '|เกาหลี|', '|ได้|ดอก|', '|connect|', '|11|', '|เอิ่บ', '|แม่|จะ|จ่าย|งวด|แรก|ให้|ก่อน|แล้ว|ที่เหลือ|หนู|ผ่อน|', '|ไม่ได้|ค่า|', '1|', '|k-esaving|', '|และ|ใช้|วงเงิน|ค้ำประกัน|ต่ำสุด|กี่|บาท|ได้|บัตร|ประเภท|ไหน|บ้าง|ครับ', '|ตอน|จำเป็นต้อง|ใช้|', '|จำนวนเงิน|', '|g-walle|', 'โอนเงิน|', '|น้อยกว่า|', '|รอบ|ที่', '|tmb|', '|ibank|', '|เอทีเอ็ม|', '|มา|หลาย|วัน|', '|ไม่ต้อง|ผูก|ใหม่|', '|pantip|', '|ปันผล|', '|กอง|เดิม|', '|ล่ม|', '|โอนเงิน|ผิด|บัญชี|', '|น', '|แล้ว|กด|', '|หายไป|ไหน|', '|airbnb|', '|ไป|แจ้งความ|', '|ๆ|ค่ะ|', '|แล้ว|', '|จะ|โดน|หัก|ดอกเบี้ย|รายวัน|ไหม|ครับ|', '|ก|', '|ไว้|กับ|', '|นั่น|คือ|', '|0.5|', '|ไม่ได้|เลย|', '|พรบ.|', 'kbank|ล่ม|หรอ|', '|ผ่าน|มา|เกือบ|', '|รอบ|แล้ว|ค่ะ|', '|ไม่|สา|มาร|อนุมัติ|บัตรเครดิต|ของ|ท่าน|ได้|เป็นผล|จาก|เกณฑ์|พิจาร|ณ|รา|ของ|บริษัท|เท่านั้น|', '|journey|', '|ของ|scb|', '|เป็นไร|อะ|', '|account|', '|ขึ้นไป|', '|13.00|', '|ไม่|เกี่ยวข้องกับ|ข้อมูล|เครดตบู|โร|', '|cheque|', '|คนละ|ครึ่ง|', '|call_center|', '|2561|', '|ตาม|นี้|ครับ|', 'แม่|ง|', '|ธนาคารกรุงไทย|', '|แย่|มากๆ|', '|ว|', '|ต้นทาง|', '|17|', '|makeups|', '|start|', '|วัน|ทำการ|ครับ|', '|npl|', '|วันก่อน|', '|แต่|แอป|', '|แต่|บัญชี|ปลายทาง|ไม่|ได้รับ|ยอด|', '|300', '|ไม่ยุ่งยาก|', 'kept|', '|เงียบกริบ', '|1.1|', '|1315|', '|dec|', '|ยัง|เข้า|ไม่ได้|', '|got|7|', '|เรา|ได้|ทำการ|โอนเงิน|จาก|gsb|ผ่าน|', '|รบกวน|', 'จำได้|ว่า|', '|ที่ไหนได้|', '|กับ|ไทยพาณิชย์|', '|เงินฝากประจำ|กรุงไทย|', '|หลัง|ๆ|', '|เร็วๆ|', '|อ้าว|', '|ของ|ธนาคาร|อื่นๆ|', '|ต้อง|ไป|สาขา|', '|รึ|', '|atm', '|งง|ค่ะ|', '|เอง|ครับ|', '|แก้ไข|', '|ที่|เป็น|', '|สามารถ|เปลี่ยน|', '|scbm|', '|ครับ', '|ขอบคุณ|มากๆ|', '|80|', '|มี|บัตรเดบิต|', '|ทำไม่ได้|', '|2200|', '|spoil|', '|แต่|ไม่|เข้า|บัช|ชี|', '|90|', '|โทร|หา|', '|เพราะ|เรา|', '|android|', '|mpass|', '|prime|', '|ติดต่อ|ยากมาก|', '|ประเด็น|คือ|', '|ก่อน|นะ|ครับ', '|โค|วิค|', '|พฤศจิกายน|', '|card|', '|ระหว่าง|', '|พอร์ต|', '|coin|', '|แล้ว|ค่ะ', '|ยืนยัน|', '|ปี|ครับ', '|หรือ|ต้อง|เสีย|เงิน|ไป|เปล่าๆ|', '|แล้ว|พอ|', '|sale|', '|เท|วินทร์|', '|krungthai_connext|', '|แถม|', '|ทิพ|ย|ประกันภัย|', '|เพื่อน|ๆ|', '|จุด|', '|รหัส|', '|โอน|เข้า|กรุงไทย|', '|ตัดยอด|', '|ในกรณีที่|', '|msig|', 'เมื่อ|เช้า|', '|โอน|จาก|', '|ล่ม|บ่อย|มาก|', '|scb_m_live|', 'มี|', '|sme|', '|parkjihoonfanconinbkk', '|พอ|ถึง|วัน|ที่', '|650|', '|apps|', '|รวม|ๆ|', '|แต่|เงิน|ไม่|ออก|', '|ชั่วโมง|', '|pround|', '|2500|', '|ท|รู|มูฟ|หรอ|', '|เวลา|', '|ยู|เมะ|', '|แอป|ควย|', '|อยาก|ทุบ|นัก|ไอ้|ต้าว|กระปุก|หมู|นี่|', '|34|', '|มี|แค่|', '|นาที|', '|ทุกวัน|', '|ราคา|บ้าน|', 'ดอกเบี้ย|ออมทรัพย์|', '|error|', '|ไป|อยู่|ใน|', '|ทำไง|ดี|ครับ|', '|แตก|', '|กลัว|จะ|มีปัญหา|', '|ล่าสุด|', '|จ้ะ|', '|แล้า|', '|หมด|', '|84|', '|บาท|อะ|', '|payment|', 'เพื่อน|ๆ|', '|ตอนนี้|ก็|ติดต่อ|สาขา|เจ้าของ|บัญชี|', '|แบบนี้|เรา|ทำ|ยังไง|ได้|บ้าง|คะ|', '|premier|', 'กรุงไทย|', 'จาก|', '|เข้า|ไม่ได้|เลย|', '|จู่ๆ|', '|แย่มาก', '|74|', '|reset|', '|โทร|ไป|ถาม|', '|หลังจาก|', '0|', '|หมื่น|อัพ|', '|credit|', '|กรุงไทย|ด้วย|', '|line|', '|วีโว่|', '|8700|', '|web|', '|อายัด|', '|ใคร|รู้|บอก|หน่อย|นะคะ|', '|pending|', '|usd|', '|ขอบคุณ|ล่วงหน้า|ครับ', '|true|', '|qr|', '|บริการ|ดี|', '|กรุงเทพ|ประกันภัย|', '|อาชีพ|', '|ตู้|', '|flexi|', '|ของ|วัน|ที่', '|วัน|นะคะ|', 'tmb|', 'สอบถาม|ด้วย|ครับ|', '|12000|', '|เรา|ควร|ทำ|ยังไง|', '|ต้อง|ทำ|ยังไง|บ้าง|คะ|', '|โทร|หลาย|รอบ|', '|หรือ|ยังไง|', '|เช็ค|', 'ขอ|สอบถาม|นะคะ|', '|บริการ|', '|set|', '|stm|', '|ค่าธรรมเนียม|', '|ไม่|เกิน|', 'ผม|', '|สวัสดี|', 'ความคิดเห็น|ที่', '|อี|กรอบ|', '|ว|ด|ฟ|', '|กว่า|', '|เสีย|ค่าธรรมเนียม|', '|ผ่อน|รถ|', '|บาท|อยู่แล้ว|', '|ห่วยแตก', '|ธนาคาร|อื่น|', '|tmb_absolute|', '|ไฟแนนซ์|ไทยพาณิชย์|โทร|มา|ทวง|', '|อยู่|ค่ะ|', '|โท|ร.|', '|โทร|ไป|ไม่เคย|ได้|คุย|', '|ตั้งแต่|วัน|ที่', 'ghb|', '|สัก|', '|เลย|ค่ะ', '|เอ|อ|', 'โอ้|ย|', '|pass|', '|คืน|บัตร', '|นะ|ครับ|', 'ขอบคุณ|ครับ|', '|ทั้งๆ|', '|refinance|', '|ต้อง|ติดต่อ|ธนาคาร|', '|kbank|ไป|', '|kbankxblackpink|', '|ได้|เลย|', '|card', '|kplus|', '|รบกวน|ทาง|', '|ไม่|ถึง|', '|สอบถาม|หน่อย|ค่ะ|', '|เสือก|บอก|ให้|กุ|ไป|ขอ|รหัสพิน|กับ|ธนาคาร|', '|จะ|ผ่าน|ไหม|ครับ|', '|มัน|ขึ้น|แบบนี้|', 'จริง|', '22|072019|', '|จ่าย|ค่า|บัตร|', '|แต่|ไม่|สามารถทำได้|', '|netflix|', '|สแกน|จ่าย|', '|โป|ร|', '|jcb|', '|โอนเงิน|ออกจาก|บัญชี|เรา|เอง|', '|ไม่มี|สลิป|', '|ใช่ไหม|', '|เจ้าหน้า|ที่แจ้ง|ว่า|', '|ได้|ครับ|', '|300|', '|เบอร์|เดิม|', '|touch|', '|scb_prime|', '|เวง|', '|ธนาคาร|นี้|', '|รายการ|', '|ทำไม|เข้า|ไม่ได้|อะ|', 'ผม|มี|', '|โอนเงิน|มา|ให้|แล้ว|ครับ|', '|ไม่มี|พนักงาน|รับสาย|', '|ธนาคาร|หยุด|ไหม|คะ|', '|และ|บัตร|กดเงิน|', 'atm|', '|ส่ง|มา|ว่า|', 'อ้าว|', '|เซ็ง|มาก', '|5|g|', '|ขอบคุณ|ครับ|', 'ใช่|ค่ะ|', '|1599|', '|เหมือน|มีปัญหา|กด|โอนเงิน|ไป|แล้ว|เงิน|เด้ง|', '|emoji|', '|leasing|', '|express|', '|มีนาคม|', '|งง|ๆ|', '|คือ|อะไร|คะ|', '|วอ|เลต|', '|robo|', '|แต่กลับ|ไม่มีใคร|โทร|มา|ทวง|เลย|กลับเป็น|ส่ง|', '|ต่าง|สาขา|', '|อยู่|เลย|ครับ|', '|พร้อม|ดอกเบี้ย|', '|check|', '|มา|ครับ|', '|finalodysseyconcert|', '|แล้ว|ไม่มี|', '|ktbnetbank|', '|ม.|ค|', '|อ้อ|', '|ร|ร|', '|พัก|ชำระเงินต้น|', '|และ|บัตร|', '|promptpay|', 'ตอนนี้|', '|มาก|', '|โดน|', '10|263|', '|ทาง|', '|ไม่มี|บัตร|', '|ตาม|ข้อ|', '|app', '|เติมเงิน|', '|เสีย|ค่าธรรมเนียม|อีก|', '|คืนเงิน|', '|ค่า|', '|ควย|', '|privilege|', 'call_center|', '|64|', '|ที่|ชำระเงิน|', '|รอบ|นี้|', '|14000|', '|fix|', '|ทำไม|', '|code', '|ด|', '|ขั้นต่ำ|เปิด|พอร์ต|ห้า|แสน|บาท|', '|โอเค|', '|hr|', '|s|21|', '|id|', '|12|', '|หนี้บัตรเครดิต|', '|scb_thailand|', '|ผม|ต้อง|ทำ|ยังไง|ครับ', '|599|', '|exchange|', '|แอป|ธนาคาร|', '|ขอบคุณ|มาก|ค่ะ', '|ไม่ต้อง|ไป|ธนาคาร|', '|อ่าว|', '|เงิน|ไม่|เข้า|เลย|ครับ|', '|ขัดข้อง|', '|พ.ย.|', '|คือ|ยังไง|', '|ก็|มา|', '20|12563|', '|มีเงิน|', '|เน็ต|ก็|ไม่ได้|', '|bot|', '|แต่|ก็|นั่นแหละ|', '|โทร|', '|1800|', '|แอ|ด|มิ|น|คะ|', 'วันนี้|เวลา|', '|นามสกุล|', '|แจ้ง|ว่า|ระบบ|มีปัญหา|', '|187|', '|คือว่า|', '|สำนักงานใหญ่|', '|091|', '|เงิน|ไม่|เข้า|ค่ะ|', '|ทั้ง', '|โดย|ใช้|', 'รี|ล่า|', '|มัน|มีระบบ|คล้ายๆ|', '|เบอร์|โทรศัพท์|', '|walk|', '|2.5|', '|ปี|คะ|', '|pro|', '|ล่ม|หรือเปล่า|ครับ|', '|เลย', '|5000|เรา|ไม่|ทิ้ง|กัน|', '|ระบบ|เป็น|อะไร|ครับ|', '|100|', 'ตอน|', '|google|', 'แล้ว|', '|36|', '|xpress|', '|เครื่อง|เก่า|', '|นะคะ|', '|เรา|ใช้|', '|แล้ว|เข้า|แอป|ไม่ได้|เพราะ|กด|รหัส|ผิด|เกินกำหนด|', '|mrr|', '|ktc|', '|ยื่น|ไป|', '|เรา|ไม่|ทิ้ง|กัน|', '|inbox|', '|800|', '|ทำ|ยังไง|ดี|คะ|', '|ตัว|ท้าย|', '|โค|วิท|', '|ต้อง|ทำ|ยังไง|คะ|', '|union|', '|แก้ไขปัญหา|ให้|เสร็จ|ภายใน|', 'แอป|', '|โอน|จาก|kbank|', '|เบอร์|โทร|', '|พอดี|ว่า|', '|truemoney|', 'ติดต่อ|ไปที่|คอลเซนเตอร์|ของ|ทาง|กรุงไทย|', '|เงิน|จะ|เข้า|พรุ่งนี้|', '|รบกวน|ด้วย|ครับ', '|0.25|', '|รอคิว|', '|เงินเดือน|ไม่|ถึง|', '|ต้อง|ทำ|อย่างไร|', '|กด|โอนเงิน|', '|ฮือ', 'โหลด|แอป|', 'ใบสมัคร|ผม|ก็|จ|พ|หมดอายุ|แล้ว|', '|อย่างเช่น|', '|ป|', '|หนึ่ง|', '|หรือ|ตาม|แต่ละ|พื้นที่|', '|แต่|เงิน|ไม่มี|เข้าบัญชี|', '|รีวอร์ด|', '|aot|', '|ทำ|ยังไง|ดี|ครับ', '|รบกวน|ผู้รู้|ทุกท่าน|ด้วย|ค่ะ', '|no|.|1|', '|2020|', '|ยัง|ไม่มีใคร|ติดต่อ|กลับมา|', '|ยืน|', '|jmart|', '|งง|มาก|', 'คือ|หนู|อายุ|', '|ลง|', '|เมื่อวาน|อยู่|ที่', '|เจ้าหน้าที่|', '|itmx|', '|ต้อง|รอ|', '|แอร์|เอเชีย|', '|bookbank|', '|ต้อง|ทำไง|', '|กรอก|ข้อมูล|แล้ว|', '|ฝากเงิน|', '|arkk|', '|บริษัทหลักทรัพย์จัดการกองทุนรวมจำกัด|', '|โต|ขึ้นมา|คุณ|เลย|เป็น|คน|รู้จัก|อดทนอดกลั้น|', '|บอก|ระบบ|ยังไม่เสร็จ|', '|50000|', '|gmarket', '|ktb|.|', '|รู้|ผล|ปุ๊บ|', '|ทำไง|ครับ|', '|เลือก|จ่าย|ด้วย|', '|verified|', '|วันนี้|ครบ|', '|ราคา|หุ้น|', 'kitisak|', '|ค่า|ประเมิน|', '|k-esavings|', '|พี่|ๆ|', '|มี|สลิป|', 'วัน|ที่', '|นี่แหละ|', '|เยอะ|', '|euro|', 'โทร|ไปหา|', '|mrt|', '|เติมเงิน|ไป|', '|เห|น่ย', '|หมด|เลย|', '|เดือน|ขึ้นไป|', '|ผูก|', '|2019|', '|สินเชื่อรถยนต์|', 'ตาม|หัวข้อ|เลย|ค่ะ|', 'ทุกคน|', '|24|', '|พอ|', '|เกือบ|ทั้ง|องค์กร', 'เรา|ชนะ|', '|jitta_wealth|', '|ไฟล์|', '|แบงก์|', 'กด|บัตร|', '|global|', '|citibank|', '|ที่|จ่าย|', '|เป็น|อะไร|อ่ะ|', '|ใน|ใบแจ้งหนี้|จ่าย|', '|6.6|', '|ไหม|ครับ', 'citibank|', '|ก็ได้|ครับ|', '|วันนี้|', '|เซ็ง', '|ขอบคุณ|มาก|ครับ|', '|ก|ย|ศ.|', '|โอน|เข้าบัญชี|', '|ทั้งที่|กดเงิน|แล้ว|ไม่|ออก|', '|ขออนุญาต|ถาม|หน่อย|ได้|ไหม|คะ|', '|จน|บัดนี้|', '|เรา|ก็|งง|', '|ctw|', '|หลัง|วัน|ที่', '|ลูกค้า|', '|ของ|กรุงเทพ|', '|โทร|มา|แจ้ง|ยอด|ชำระ|ค่างวดรถ|วัน|ละ|', '|เพราะ|ไม่มี|บัตร|', '|ratsaenmueang|', '|passbook|', '|1.|', '|update|', '|ฉบับ|', '|บาท|ไทย|', '|กำไร|', '|แต่|ยอดเงิน|ไม่|เข้า|', '|32300|', '|นะ|จ๊ะ', '|จุก|ๆ|', '|unionpay|', '|แง|ง'}\n"
          ]
        }
      ]
    },
    {
      "cell_type": "code",
      "source": [
        "#Turn Series into lists\n",
        "train_docs = train['Text_ws_local'].tolist()\n",
        "test_docs = test['Text_ws_local'].tolist()"
      ],
      "metadata": {
        "id": "IqgqeKFll7ti"
      },
      "execution_count": 10,
      "outputs": []
    },
    {
      "cell_type": "code",
      "source": [
        "from keras.preprocessing.text import Tokenizer\n",
        "from keras_preprocessing.sequence import pad_sequences\n",
        "\n",
        "tokenizer = Tokenizer()\n",
        "#one hot-enconding for the text like > https://stackoverflow.com/questions/69026891/what-is-keras-tokenizer-fit-on-texts-doing\n",
        "tokenizer.fit_on_texts(train_docs)\n",
        "encoded_docs = tokenizer.texts_to_sequences(train_docs)"
      ],
      "metadata": {
        "id": "A7Hp-D9ijQgZ"
      },
      "execution_count": 11,
      "outputs": []
    },
    {
      "cell_type": "code",
      "source": [
        "#Find the most max lengths of word in verbatims from both train and test\n",
        "max_length_train = max([len(s.split()) for s in train_docs])\n",
        "max_length_test  = max([len(s.split()) for s in test_docs])\n",
        "max_length = max([max_length_train, max_length_test])\n",
        "print(\"Max Length of Words: \", max_length)\n",
        "\n",
        "#Padding in order to equalize some verbatims that do not contain the same length of the max length verbatim\n",
        "Xtrain = pad_sequences(encoded_docs, maxlen=max_length, padding='post')\n",
        "#define the labels\n",
        "ytrain = np.array(train['Human_CategoryID'].tolist())"
      ],
      "metadata": {
        "id": "R7JbQ0qZmf0D",
        "colab": {
          "base_uri": "https://localhost:8080/"
        },
        "outputId": "76d67880-b37a-4307-c060-c8a5a354cc5b"
      },
      "execution_count": 12,
      "outputs": [
        {
          "output_type": "stream",
          "name": "stdout",
          "text": [
            "Max Length of Words:  66\n"
          ]
        }
      ]
    },
    {
      "cell_type": "code",
      "source": [
        "#Do the same for the test set\n",
        "encoded_docs_test = tokenizer.texts_to_sequences(test_docs)\n",
        "\n",
        "Xtest = pad_sequences(encoded_docs_test, maxlen=max_length)\n",
        "ytest = np.array(test['Human_CategoryID'].tolist())"
      ],
      "metadata": {
        "id": "oHTspdkypLeF"
      },
      "execution_count": 13,
      "outputs": []
    },
    {
      "cell_type": "code",
      "source": [
        "#Count unique classes\n",
        "print(train['Human_CategoryID'].nunique(), test['Human_CategoryID'].nunique())"
      ],
      "metadata": {
        "colab": {
          "base_uri": "https://localhost:8080/"
        },
        "id": "ILLDKYp3MX65",
        "outputId": "2d4b91e8-a95e-4d5b-92cb-9b437a720b5d"
      },
      "execution_count": 14,
      "outputs": [
        {
          "output_type": "stream",
          "name": "stdout",
          "text": [
            "13 12\n"
          ]
        }
      ]
    },
    {
      "cell_type": "code",
      "source": [
        "#Count unique classes\n",
        "num_classes = max(train['Human_CategoryID'].nunique(), test['Human_CategoryID'].nunique())\n",
        "print(num_classes)"
      ],
      "metadata": {
        "colab": {
          "base_uri": "https://localhost:8080/"
        },
        "id": "VQcD2gdpNwkg",
        "outputId": "2a5fa8c7-4481-410e-c89b-87a6f807b7fd"
      },
      "execution_count": 15,
      "outputs": [
        {
          "output_type": "stream",
          "name": "stdout",
          "text": [
            "13\n"
          ]
        }
      ]
    },
    {
      "cell_type": "code",
      "source": [
        "from tensorflow.keras.utils import to_categorical\n",
        "\n",
        "#Multi class problems need one-hot encoding on y\n",
        "#why - 1 on ytrain and ytest? can follow the linke below\n",
        "#https://stackoverflow.com/questions/56204731/the-method-np-utils-to-categorical-give-me-an-error/59002957#59002957\n",
        "ytrain =  to_categorical(ytrain-1, num_classes=num_classes)\n",
        "ytest = to_categorical(ytest-1, num_classes=num_classes)"
      ],
      "metadata": {
        "id": "BWTwtb6tLUBE"
      },
      "execution_count": 16,
      "outputs": []
    },
    {
      "cell_type": "code",
      "source": [
        "vocab_size = len(tokenizer.word_index)+1"
      ],
      "metadata": {
        "id": "lvFEpT6zp8YY"
      },
      "execution_count": 17,
      "outputs": []
    },
    {
      "cell_type": "markdown",
      "source": [
        "#model"
      ],
      "metadata": {
        "id": "8l51AxTXW96K"
      }
    },
    {
      "cell_type": "markdown",
      "source": [
        "##CNN1 MP1D F D256 DO0.25 D13: 24-25"
      ],
      "metadata": {
        "id": "hiGb5p29sWHt"
      }
    },
    {
      "cell_type": "code",
      "source": [
        "from keras.layers import Dense, Flatten, Embedding, BatchNormalization, Dropout\n",
        "from keras.models import Sequential\n",
        "from keras.layers.convolutional import Conv1D, MaxPooling1D"
      ],
      "metadata": {
        "id": "huOisC8Ysz-r"
      },
      "execution_count": null,
      "outputs": []
    },
    {
      "cell_type": "code",
      "source": [
        "#Define our model\n",
        "model = Sequential()\n",
        "\n",
        "model.add(Embedding(vocab_size, 50, input_length=max_length, trainable=True))\n",
        "model.add(Conv1D(filters=32, kernel_size=3, activation='relu'))\n",
        "model.add(MaxPooling1D())\n",
        "#MaxPool1D: pool_size=2: 28\n",
        "#MaxPool1D: pool_size = 2, strides = 2: 24.421594\n",
        "#MaxPool1D(): w/o specification: 26-30\n",
        "\n",
        "model.add(Flatten())\n",
        "model.add(Dense(256, activation='relu'))\n",
        "model.add(Dropout(0.25))\n",
        "\n",
        "model.add(Dense(num_classes, activation='softmax'))\n",
        "print(model.summary())"
      ],
      "metadata": {
        "id": "Ify0PvZ3sWzS",
        "colab": {
          "base_uri": "https://localhost:8080/"
        },
        "outputId": "dd4180ba-f995-407f-a661-3e6ae14dd0e9"
      },
      "execution_count": null,
      "outputs": [
        {
          "output_type": "stream",
          "name": "stdout",
          "text": [
            "Model: \"sequential\"\n",
            "_________________________________________________________________\n",
            " Layer (type)                Output Shape              Param #   \n",
            "=================================================================\n",
            " embedding (Embedding)       (None, 66, 50)            630450    \n",
            "                                                                 \n",
            " conv1d (Conv1D)             (None, 64, 32)            4832      \n",
            "                                                                 \n",
            " max_pooling1d (MaxPooling1D  (None, 32, 32)           0         \n",
            " )                                                               \n",
            "                                                                 \n",
            " flatten (Flatten)           (None, 1024)              0         \n",
            "                                                                 \n",
            " dense (Dense)               (None, 256)               262400    \n",
            "                                                                 \n",
            " dropout (Dropout)           (None, 256)               0         \n",
            "                                                                 \n",
            " dense_1 (Dense)             (None, 13)                3341      \n",
            "                                                                 \n",
            "=================================================================\n",
            "Total params: 901,023\n",
            "Trainable params: 901,023\n",
            "Non-trainable params: 0\n",
            "_________________________________________________________________\n",
            "None\n"
          ]
        }
      ]
    },
    {
      "cell_type": "code",
      "source": [
        "from tensorflow.keras.callbacks import EarlyStopping\n",
        "\n",
        "#put early stopping\n",
        "early_stopping = EarlyStopping(monitor='val_loss', patience=1, mode='min')\n",
        "\n",
        "#Your choices of activation='softmax' in the last layer and compile choice of loss='categorical_crossentropy' \n",
        "#are good for a model to predict multiple mutually-exclusive classes.\n",
        "\n",
        "model.compile(loss='categorical_crossentropy',\n",
        "              optimizer='adam', \n",
        "              metrics=['acc'],)"
      ],
      "metadata": {
        "id": "_VV7d6eRf_AD"
      },
      "execution_count": null,
      "outputs": []
    },
    {
      "cell_type": "code",
      "source": [
        "#Try classweight from this https://datascience.stackexchange.com/questions/13490/how-to-set-class-weights-for-imbalanced-classes-in-keras\n",
        "\n",
        "history = model.fit(Xtrain, ytrain, \n",
        "                    epochs=10, batch_size=64, \n",
        "                    validation_split=0.2,\n",
        "                    callbacks=[early_stopping])"
      ],
      "metadata": {
        "colab": {
          "base_uri": "https://localhost:8080/"
        },
        "id": "KKmAGyKqECUx",
        "outputId": "6a9bf21c-daaa-45a9-edb6-0f95bc997f58"
      },
      "execution_count": null,
      "outputs": [
        {
          "output_type": "stream",
          "name": "stdout",
          "text": [
            "Epoch 1/10\n",
            "152/152 [==============================] - 2s 9ms/step - loss: 1.8999 - acc: 0.3620 - val_loss: 1.5850 - val_acc: 0.4695\n",
            "Epoch 2/10\n",
            "152/152 [==============================] - 1s 7ms/step - loss: 1.4251 - acc: 0.5426 - val_loss: 1.3539 - val_acc: 0.5605\n",
            "Epoch 3/10\n",
            "152/152 [==============================] - 1s 7ms/step - loss: 1.0414 - acc: 0.6805 - val_loss: 1.3298 - val_acc: 0.5860\n",
            "Epoch 4/10\n",
            "152/152 [==============================] - 1s 7ms/step - loss: 0.7435 - acc: 0.7690 - val_loss: 1.4171 - val_acc: 0.5893\n"
          ]
        }
      ]
    },
    {
      "cell_type": "code",
      "source": [
        "history_frame = pd.DataFrame(history.history)\n",
        "history_frame.loc[:, ['loss', 'val_loss']].plot()"
      ],
      "metadata": {
        "colab": {
          "base_uri": "https://localhost:8080/",
          "height": 283
        },
        "id": "5hrmrMCmUjh2",
        "outputId": "f0bc94ab-e242-4dc7-a75a-d22fe6e83dca"
      },
      "execution_count": null,
      "outputs": [
        {
          "output_type": "execute_result",
          "data": {
            "text/plain": [
              "<matplotlib.axes._subplots.AxesSubplot at 0x7fe56c65a390>"
            ]
          },
          "metadata": {},
          "execution_count": 22
        },
        {
          "output_type": "display_data",
          "data": {
            "text/plain": [
              "<Figure size 432x288 with 1 Axes>"
            ],
            "image/png": "[encoded data removed]"
          },
          "metadata": {
            "needs_background": "light"
          }
        }
      ]
    },
    {
      "cell_type": "code",
      "source": [
        "history_frame.loc[:, ['acc', 'val_acc']].plot()"
      ],
      "metadata": {
        "colab": {
          "base_uri": "https://localhost:8080/",
          "height": 283
        },
        "id": "qgGNdtfHU3yS",
        "outputId": "f80f3166-6c9d-44e3-ccf2-fe2b3f41105f"
      },
      "execution_count": null,
      "outputs": [
        {
          "output_type": "execute_result",
          "data": {
            "text/plain": [
              "<matplotlib.axes._subplots.AxesSubplot at 0x7fe596d3ce10>"
            ]
          },
          "metadata": {},
          "execution_count": 23
        },
        {
          "output_type": "display_data",
          "data": {
            "text/plain": [
              "<Figure size 432x288 with 1 Axes>"
            ],
            "image/png": "[encoded data removed]"
          },
          "metadata": {
            "needs_background": "light"
          }
        }
      ]
    },
    {
      "cell_type": "code",
      "source": [
        "print(Xtest.shape, ytest.shape)"
      ],
      "metadata": {
        "colab": {
          "base_uri": "https://localhost:8080/"
        },
        "id": "uvpjXrbRWKI5",
        "outputId": "f1a43ba4-1b5d-43b7-8a05-a93eaeec0c40"
      },
      "execution_count": null,
      "outputs": [
        {
          "output_type": "stream",
          "name": "stdout",
          "text": [
            "(389, 66) (389, 13)\n"
          ]
        }
      ]
    },
    {
      "cell_type": "code",
      "source": [
        "loss, acc = model.evaluate(Xtest, ytest)\n",
        "print('Test Accuracy: %f' % (acc*100))"
      ],
      "metadata": {
        "colab": {
          "base_uri": "https://localhost:8080/"
        },
        "id": "5N9TLkdHV0hy",
        "outputId": "59562615-9b59-4e87-be34-605008f51ba4"
      },
      "execution_count": null,
      "outputs": [
        {
          "output_type": "stream",
          "name": "stdout",
          "text": [
            "13/13 [==============================] - 0s 2ms/step - loss: 2.3612 - acc: 0.2519\n",
            "Test Accuracy: 25.192803\n"
          ]
        }
      ]
    },
    {
      "cell_type": "markdown",
      "source": [
        "##LSTM CNN1 MP1D F D512 D256 D13: 29-40"
      ],
      "metadata": {
        "id": "JKTKM23Nn0Vl"
      }
    },
    {
      "cell_type": "code",
      "source": [
        "from keras.layers import Dense, Flatten, Embedding, BatchNormalization, Dropout, LSTM, Bidirectional, TimeDistributed\n",
        "from keras.models import Sequential\n",
        "from keras.layers.convolutional import Conv1D, MaxPooling1D"
      ],
      "metadata": {
        "id": "_Rjnttm7n0Vs"
      },
      "execution_count": null,
      "outputs": []
    },
    {
      "cell_type": "code",
      "source": [
        "#Define our model\n",
        "model = Sequential()\n",
        "\n",
        "model.add(Embedding(vocab_size, 100, input_length=max_length, trainable=True))\n",
        "model.add(LSTM(50, return_sequences=True))\n",
        "model.add(Conv1D(filters=32, kernel_size=3, activation='relu'))\n",
        "model.add(MaxPooling1D())\n",
        "\n",
        "#CNN + LSTM\n",
        "#MaxPool1D: pool_size=2: 30\n",
        "#MaxPool1D: w/o specification: 30\n",
        "\n",
        "#LSTM + CNN\n",
        "#MaxPool1D: w/o specification: 33.676094\n",
        "\n",
        "model.add(Flatten())\n",
        "\n",
        "model.add(Dense(512, activation='relu'))\n",
        "model.add(Dense(256, activation='relu'))\n",
        "\n",
        "model.add(Dense(num_classes, activation='softmax'))\n",
        "print(model.summary())"
      ],
      "metadata": {
        "colab": {
          "base_uri": "https://localhost:8080/"
        },
        "outputId": "79d7a0f2-8465-4979-d3f2-842128e59257",
        "id": "OiHinNUfn0Vs"
      },
      "execution_count": null,
      "outputs": [
        {
          "output_type": "stream",
          "name": "stdout",
          "text": [
            "Model: \"sequential_1\"\n",
            "_________________________________________________________________\n",
            " Layer (type)                Output Shape              Param #   \n",
            "=================================================================\n",
            " embedding_1 (Embedding)     (None, 66, 100)           1260900   \n",
            "                                                                 \n",
            " lstm (LSTM)                 (None, 66, 50)            30200     \n",
            "                                                                 \n",
            " conv1d_1 (Conv1D)           (None, 64, 32)            4832      \n",
            "                                                                 \n",
            " max_pooling1d_1 (MaxPooling  (None, 32, 32)           0         \n",
            " 1D)                                                             \n",
            "                                                                 \n",
            " flatten_1 (Flatten)         (None, 1024)              0         \n",
            "                                                                 \n",
            " dense_2 (Dense)             (None, 512)               524800    \n",
            "                                                                 \n",
            " dense_3 (Dense)             (None, 256)               131328    \n",
            "                                                                 \n",
            " dense_4 (Dense)             (None, 13)                3341      \n",
            "                                                                 \n",
            "=================================================================\n",
            "Total params: 1,955,401\n",
            "Trainable params: 1,955,401\n",
            "Non-trainable params: 0\n",
            "_________________________________________________________________\n",
            "None\n"
          ]
        }
      ]
    },
    {
      "cell_type": "code",
      "source": [
        "from tensorflow.keras.callbacks import EarlyStopping\n",
        "\n",
        "#put early stopping\n",
        "early_stopping = EarlyStopping(monitor='val_loss', patience=1, mode='min')\n",
        "\n",
        "#Your choices of activation='softmax' in the last layer and compile choice of loss='categorical_crossentropy' \n",
        "#are good for a model to predict multiple mutually-exclusive classes.\n",
        "\n",
        "model.compile(loss='categorical_crossentropy',\n",
        "              optimizer='adam', \n",
        "              metrics=['acc'],)"
      ],
      "metadata": {
        "id": "IoNZ97Men0Vs"
      },
      "execution_count": null,
      "outputs": []
    },
    {
      "cell_type": "code",
      "source": [
        "#Try classweight from this https://datascience.stackexchange.com/questions/13490/how-to-set-class-weights-for-imbalanced-classes-in-keras\n",
        "\n",
        "history = model.fit(Xtrain, ytrain, \n",
        "                    epochs=10, batch_size=32, \n",
        "                    validation_split=0.2,\n",
        "                    callbacks=[early_stopping])"
      ],
      "metadata": {
        "colab": {
          "base_uri": "https://localhost:8080/"
        },
        "outputId": "120c3ae2-9459-44f0-9306-06d5313fdcb5",
        "id": "3i82PMBRn0Vs"
      },
      "execution_count": null,
      "outputs": [
        {
          "output_type": "stream",
          "name": "stdout",
          "text": [
            "Epoch 1/10\n",
            "304/304 [==============================] - 16s 44ms/step - loss: 1.6961 - acc: 0.4394 - val_loss: 1.4284 - val_acc: 0.5321\n",
            "Epoch 2/10\n",
            "304/304 [==============================] - 14s 45ms/step - loss: 1.2192 - acc: 0.6141 - val_loss: 1.3139 - val_acc: 0.5712\n",
            "Epoch 3/10\n",
            "304/304 [==============================] - 14s 45ms/step - loss: 0.8865 - acc: 0.7144 - val_loss: 1.3730 - val_acc: 0.5835\n"
          ]
        }
      ]
    },
    {
      "cell_type": "code",
      "source": [
        "history_frame = pd.DataFrame(history.history)\n",
        "history_frame.loc[:, ['loss', 'val_loss']].plot()"
      ],
      "metadata": {
        "colab": {
          "base_uri": "https://localhost:8080/",
          "height": 283
        },
        "outputId": "4c61ddcc-ab43-49a2-d151-9c9d6c4e2262",
        "id": "2B7E8Xcrn0Vt"
      },
      "execution_count": null,
      "outputs": [
        {
          "output_type": "execute_result",
          "data": {
            "text/plain": [
              "<matplotlib.axes._subplots.AxesSubplot at 0x7fe5851e8b90>"
            ]
          },
          "metadata": {},
          "execution_count": 30
        },
        {
          "output_type": "display_data",
          "data": {
            "text/plain": [
              "<Figure size 432x288 with 1 Axes>"
            ],
            "image/png": "[encoded data removed]"
          },
          "metadata": {
            "needs_background": "light"
          }
        }
      ]
    },
    {
      "cell_type": "code",
      "source": [
        "history_frame.loc[:, ['acc', 'val_acc']].plot()"
      ],
      "metadata": {
        "colab": {
          "base_uri": "https://localhost:8080/",
          "height": 283
        },
        "outputId": "a0f462ea-0334-426e-a392-8301af09ad08",
        "id": "BFZ_Lsvrn0Vt"
      },
      "execution_count": null,
      "outputs": [
        {
          "output_type": "execute_result",
          "data": {
            "text/plain": [
              "<matplotlib.axes._subplots.AxesSubplot at 0x7fe5966430d0>"
            ]
          },
          "metadata": {},
          "execution_count": 31
        },
        {
          "output_type": "display_data",
          "data": {
            "text/plain": [
              "<Figure size 432x288 with 1 Axes>"
            ],
            "image/png": "[encoded data removed]"
          },
          "metadata": {
            "needs_background": "light"
          }
        }
      ]
    },
    {
      "cell_type": "code",
      "source": [
        "print(ytrain.shape, ytest.shape)"
      ],
      "metadata": {
        "colab": {
          "base_uri": "https://localhost:8080/"
        },
        "outputId": "3bfb715d-f9d8-4ecd-c0ed-6fcef49ceb08",
        "id": "84PYJYKMn0Vt"
      },
      "execution_count": null,
      "outputs": [
        {
          "output_type": "stream",
          "name": "stdout",
          "text": [
            "(12150, 13) (389, 13)\n"
          ]
        }
      ]
    },
    {
      "cell_type": "code",
      "source": [
        "loss, acc = model.evaluate(Xtest, ytest)\n",
        "print('Test Accuracy: %f' % (acc*100))"
      ],
      "metadata": {
        "colab": {
          "base_uri": "https://localhost:8080/"
        },
        "outputId": "d7385867-fc1e-44e7-f93f-01db476b0460",
        "id": "At8ST7Ttn0Vu"
      },
      "execution_count": null,
      "outputs": [
        {
          "output_type": "stream",
          "name": "stdout",
          "text": [
            "13/13 [==============================] - 0s 10ms/step - loss: 1.8608 - acc: 0.4087\n",
            "Test Accuracy: 40.874037\n"
          ]
        }
      ]
    },
    {
      "cell_type": "markdown",
      "source": [
        "##CNN1 LSTM GMP1D F D512 D256 D13: 30-44"
      ],
      "metadata": {
        "id": "M7XlF2h5Azpg"
      }
    },
    {
      "cell_type": "code",
      "source": [
        "from keras.layers import Dense, Flatten, Embedding, BatchNormalization, Dropout, LSTM, Bidirectional\n",
        "from keras.models import Sequential\n",
        "from keras.layers.convolutional import Conv1D, MaxPooling1D\n",
        "from keras.layers.pooling import GlobalMaxPooling1D"
      ],
      "metadata": {
        "id": "hFzoz7zyAzpv"
      },
      "execution_count": null,
      "outputs": []
    },
    {
      "cell_type": "code",
      "source": [
        "#Define our model\n",
        "model = Sequential()\n",
        "\n",
        "model.add(Embedding(vocab_size, 100, input_length=max_length, trainable=True))\n",
        "model.add(Conv1D(filters=32, kernel_size=3, activation='relu'))\n",
        "model.add(LSTM(50, return_sequences=True))\n",
        "\n",
        "model.add(GlobalMaxPooling1D())\n",
        "#CNN LSTM GMP1D(w/o spec): 44, 49\n",
        "#LSTM CNN GMP1D(w/o spec): 38, 47\n",
        "\n",
        "model.add(Flatten())\n",
        "\n",
        "model.add(Dense(512, activation='relu'))\n",
        "model.add(Dense(256, activation='relu'))\n",
        "\n",
        "model.add(Dense(num_classes, activation='softmax'))\n",
        "print(model.summary())"
      ],
      "metadata": {
        "colab": {
          "base_uri": "https://localhost:8080/"
        },
        "outputId": "460c6805-0d3c-4bf9-f3d5-ca2a134e0970",
        "id": "OOIiaeQTAzpv"
      },
      "execution_count": null,
      "outputs": [
        {
          "output_type": "stream",
          "name": "stdout",
          "text": [
            "Model: \"sequential_2\"\n",
            "_________________________________________________________________\n",
            " Layer (type)                Output Shape              Param #   \n",
            "=================================================================\n",
            " embedding_2 (Embedding)     (None, 66, 100)           1260900   \n",
            "                                                                 \n",
            " conv1d_2 (Conv1D)           (None, 64, 32)            9632      \n",
            "                                                                 \n",
            " lstm_1 (LSTM)               (None, 64, 50)            16600     \n",
            "                                                                 \n",
            " global_max_pooling1d (Globa  (None, 50)               0         \n",
            " lMaxPooling1D)                                                  \n",
            "                                                                 \n",
            " flatten_2 (Flatten)         (None, 50)                0         \n",
            "                                                                 \n",
            " dense_5 (Dense)             (None, 512)               26112     \n",
            "                                                                 \n",
            " dense_6 (Dense)             (None, 256)               131328    \n",
            "                                                                 \n",
            " dense_7 (Dense)             (None, 13)                3341      \n",
            "                                                                 \n",
            "=================================================================\n",
            "Total params: 1,447,913\n",
            "Trainable params: 1,447,913\n",
            "Non-trainable params: 0\n",
            "_________________________________________________________________\n",
            "None\n"
          ]
        }
      ]
    },
    {
      "cell_type": "code",
      "source": [
        "from tensorflow.keras.callbacks import EarlyStopping\n",
        "\n",
        "#put early stopping\n",
        "early_stopping = EarlyStopping(monitor='val_loss', patience=1, mode='min')\n",
        "\n",
        "#Your choices of activation='softmax' in the last layer and compile choice of loss='categorical_crossentropy' \n",
        "#are good for a model to predict multiple mutually-exclusive classes.\n",
        "\n",
        "model.compile(loss='categorical_crossentropy',\n",
        "              optimizer='adam', \n",
        "              metrics=['acc'],)"
      ],
      "metadata": {
        "id": "fsGwd-BPAzpw"
      },
      "execution_count": null,
      "outputs": []
    },
    {
      "cell_type": "code",
      "source": [
        "#Try classweight from this https://datascience.stackexchange.com/questions/13490/how-to-set-class-weights-for-imbalanced-classes-in-keras\n",
        "\n",
        "history = model.fit(Xtrain, ytrain, \n",
        "                    epochs=10, batch_size=32, \n",
        "                    validation_split=0.2,\n",
        "                    callbacks=[early_stopping])"
      ],
      "metadata": {
        "colab": {
          "base_uri": "https://localhost:8080/"
        },
        "outputId": "7f2db70d-6923-4eb1-ed01-57aa2e894ff5",
        "id": "TsVbHf0RAzpw"
      },
      "execution_count": null,
      "outputs": [
        {
          "output_type": "stream",
          "name": "stdout",
          "text": [
            "Epoch 1/10\n",
            "304/304 [==============================] - 15s 41ms/step - loss: 1.8040 - acc: 0.3795 - val_loss: 1.5383 - val_acc: 0.4996\n",
            "Epoch 2/10\n",
            "304/304 [==============================] - 12s 39ms/step - loss: 1.3708 - acc: 0.5668 - val_loss: 1.4475 - val_acc: 0.5514\n",
            "Epoch 3/10\n",
            "304/304 [==============================] - 12s 39ms/step - loss: 1.0569 - acc: 0.6754 - val_loss: 1.3903 - val_acc: 0.5691\n",
            "Epoch 4/10\n",
            "304/304 [==============================] - 12s 39ms/step - loss: 0.8255 - acc: 0.7393 - val_loss: 1.5630 - val_acc: 0.5547\n"
          ]
        }
      ]
    },
    {
      "cell_type": "code",
      "source": [
        "history_frame = pd.DataFrame(history.history)\n",
        "history_frame.loc[:, ['loss', 'val_loss']].plot()"
      ],
      "metadata": {
        "colab": {
          "base_uri": "https://localhost:8080/",
          "height": 283
        },
        "outputId": "63a1cf43-6794-4e8b-f18f-8445b2d83d2f",
        "id": "XFAMSdCPAzpx"
      },
      "execution_count": null,
      "outputs": [
        {
          "output_type": "execute_result",
          "data": {
            "text/plain": [
              "<matplotlib.axes._subplots.AxesSubplot at 0x7fe5858c8e90>"
            ]
          },
          "metadata": {},
          "execution_count": 38
        },
        {
          "output_type": "display_data",
          "data": {
            "text/plain": [
              "<Figure size 432x288 with 1 Axes>"
            ],
            "image/png": "[encoded data removed]"
          },
          "metadata": {
            "needs_background": "light"
          }
        }
      ]
    },
    {
      "cell_type": "code",
      "source": [
        "history_frame.loc[:, ['acc', 'val_acc']].plot()"
      ],
      "metadata": {
        "colab": {
          "base_uri": "https://localhost:8080/",
          "height": 283
        },
        "outputId": "7a1bbb81-3ed1-47a0-b87f-d5106bc40a54",
        "id": "q4jxsipNAzpx"
      },
      "execution_count": null,
      "outputs": [
        {
          "output_type": "execute_result",
          "data": {
            "text/plain": [
              "<matplotlib.axes._subplots.AxesSubplot at 0x7fe59649f810>"
            ]
          },
          "metadata": {},
          "execution_count": 39
        },
        {
          "output_type": "display_data",
          "data": {
            "text/plain": [
              "<Figure size 432x288 with 1 Axes>"
            ],
            "image/png": "[encoded data removed]"
          },
          "metadata": {
            "needs_background": "light"
          }
        }
      ]
    },
    {
      "cell_type": "code",
      "source": [
        "print(ytrain.shape, ytest.shape)"
      ],
      "metadata": {
        "colab": {
          "base_uri": "https://localhost:8080/"
        },
        "outputId": "e5297432-e975-4197-8fd7-721b52bbefc7",
        "id": "PMDF44cfAzpx"
      },
      "execution_count": null,
      "outputs": [
        {
          "output_type": "stream",
          "name": "stdout",
          "text": [
            "(12150, 13) (389, 13)\n"
          ]
        }
      ]
    },
    {
      "cell_type": "code",
      "source": [
        "loss, acc = model.evaluate(Xtest, ytest)\n",
        "print('Test Accuracy: %f' % (acc*100))"
      ],
      "metadata": {
        "colab": {
          "base_uri": "https://localhost:8080/"
        },
        "outputId": "be4712e0-d6fe-44e7-8551-17821f614f0c",
        "id": "KveBiofgAzpy"
      },
      "execution_count": null,
      "outputs": [
        {
          "output_type": "stream",
          "name": "stdout",
          "text": [
            "13/13 [==============================] - 0s 9ms/step - loss: 3.5126 - acc: 0.3033\n",
            "Test Accuracy: 30.334190\n"
          ]
        }
      ]
    },
    {
      "cell_type": "markdown",
      "source": [
        "##CNN1,32(3) GMP1D D256 D13: 55-56"
      ],
      "metadata": {
        "id": "B6c9hIuLuizO"
      }
    },
    {
      "cell_type": "code",
      "source": [
        "from keras.layers import Dense, Flatten, Embedding, BatchNormalization, Dropout\n",
        "from keras.models import Sequential\n",
        "from keras.layers.convolutional import Conv1D, MaxPooling1D"
      ],
      "metadata": {
        "id": "XZPVUSnhuizP"
      },
      "execution_count": null,
      "outputs": []
    },
    {
      "cell_type": "code",
      "source": [
        "from keras.layers.pooling import GlobalMaxPooling1D\n",
        "#Define our model\n",
        "model = Sequential()\n",
        "\n",
        "model.add(Embedding(vocab_size, 100, input_length=max_length, trainable=True))\n",
        "\n",
        "model.add(Conv1D(filters=32, kernel_size=3, activation='relu'))\n",
        "model.add(GlobalMaxPooling1D())\n",
        "\n",
        "#CNN GMP1D(w/o spec): 56.812340\n",
        "#2CNN GMP1D(w/o spec): 53.470439\n",
        "#CNN BN GMP1D(w/o spec): 52.956301\n",
        "\n",
        "\n",
        "model.add(Flatten())\n",
        "#Flatten(): 56\n",
        "#w/o Flatten(): 55\n",
        "\n",
        "model.add(Dense(256, activation='relu'))\n",
        "model.add(Dense(num_classes, activation='softmax'))\n",
        "print(model.summary())"
      ],
      "metadata": {
        "colab": {
          "base_uri": "https://localhost:8080/"
        },
        "outputId": "8b55c0ef-abfa-4841-b5b2-1b1fe64ecce4",
        "id": "4b7xEhs1uizP"
      },
      "execution_count": null,
      "outputs": [
        {
          "output_type": "stream",
          "name": "stdout",
          "text": [
            "Model: \"sequential_3\"\n",
            "_________________________________________________________________\n",
            " Layer (type)                Output Shape              Param #   \n",
            "=================================================================\n",
            " embedding_3 (Embedding)     (None, 66, 100)           1260900   \n",
            "                                                                 \n",
            " conv1d_3 (Conv1D)           (None, 64, 32)            9632      \n",
            "                                                                 \n",
            " global_max_pooling1d_1 (Glo  (None, 32)               0         \n",
            " balMaxPooling1D)                                                \n",
            "                                                                 \n",
            " flatten_3 (Flatten)         (None, 32)                0         \n",
            "                                                                 \n",
            " dense_8 (Dense)             (None, 256)               8448      \n",
            "                                                                 \n",
            " dense_9 (Dense)             (None, 13)                3341      \n",
            "                                                                 \n",
            "=================================================================\n",
            "Total params: 1,282,321\n",
            "Trainable params: 1,282,321\n",
            "Non-trainable params: 0\n",
            "_________________________________________________________________\n",
            "None\n"
          ]
        }
      ]
    },
    {
      "cell_type": "code",
      "source": [
        "from tensorflow.keras.callbacks import EarlyStopping\n",
        "\n",
        "#put early stopping\n",
        "early_stopping = EarlyStopping(monitor='val_loss', patience=1, mode='min')\n",
        "\n",
        "#Your choices of activation='softmax' in the last layer and compile choice of loss='categorical_crossentropy' \n",
        "#are good for a model to predict multiple mutually-exclusive classes.\n",
        "\n",
        "model.compile(loss='categorical_crossentropy',\n",
        "              optimizer='adam', \n",
        "              metrics=['acc'],)"
      ],
      "metadata": {
        "id": "bG3KfKXWuizP"
      },
      "execution_count": null,
      "outputs": []
    },
    {
      "cell_type": "code",
      "source": [
        "#Try classweight from this https://datascience.stackexchange.com/questions/13490/how-to-set-class-weights-for-imbalanced-classes-in-keras\n",
        "#Current val_loss =  1.24\n",
        "history = model.fit(Xtrain, ytrain, \n",
        "                    epochs=10, batch_size=64, \n",
        "                    validation_split=0.2,\n",
        "                    callbacks=[early_stopping])"
      ],
      "metadata": {
        "colab": {
          "base_uri": "https://localhost:8080/"
        },
        "outputId": "8488472a-be92-4054-ea49-f8e8cde2d821",
        "id": "5qqQD5JruizP"
      },
      "execution_count": null,
      "outputs": [
        {
          "output_type": "stream",
          "name": "stdout",
          "text": [
            "Epoch 1/10\n",
            "152/152 [==============================] - 2s 12ms/step - loss: 1.9291 - acc: 0.3521 - val_loss: 1.5956 - val_acc: 0.4741\n",
            "Epoch 2/10\n",
            "152/152 [==============================] - 2s 11ms/step - loss: 1.3895 - acc: 0.5716 - val_loss: 1.3310 - val_acc: 0.5720\n",
            "Epoch 3/10\n",
            "152/152 [==============================] - 2s 11ms/step - loss: 1.0274 - acc: 0.6866 - val_loss: 1.2672 - val_acc: 0.5942\n",
            "Epoch 4/10\n",
            "152/152 [==============================] - 2s 11ms/step - loss: 0.7227 - acc: 0.7754 - val_loss: 1.3490 - val_acc: 0.5897\n"
          ]
        }
      ]
    },
    {
      "cell_type": "code",
      "source": [
        "loss, acc = model.evaluate(Xtest, ytest)\n",
        "print('Test Accuracy: %f' % (acc*100))"
      ],
      "metadata": {
        "id": "K2KkrfNh_dYh",
        "colab": {
          "base_uri": "https://localhost:8080/"
        },
        "outputId": "e2f66267-80c0-480e-cbfb-c2e0cc763784"
      },
      "execution_count": null,
      "outputs": [
        {
          "output_type": "stream",
          "name": "stdout",
          "text": [
            "13/13 [==============================] - 0s 2ms/step - loss: 1.4382 - acc: 0.5604\n",
            "Test Accuracy: 56.041133\n"
          ]
        }
      ]
    },
    {
      "cell_type": "markdown",
      "source": [
        "##CNN1,128(5) GMP1D D13: 60-64"
      ],
      "metadata": {
        "id": "rj8249jXuzp2"
      }
    },
    {
      "cell_type": "code",
      "source": [
        "from keras.layers import Dense, Flatten, Embedding, BatchNormalization, Dropout\n",
        "from keras.models import Sequential\n",
        "from keras.layers.convolutional import Conv1D, MaxPooling1D"
      ],
      "metadata": {
        "id": "LsPxxED9uzqA"
      },
      "execution_count": null,
      "outputs": []
    },
    {
      "cell_type": "code",
      "source": [
        "from keras.layers.pooling import GlobalMaxPooling1D\n",
        "#Define our model\n",
        "model = Sequential()\n",
        "\n",
        "model.add(Embedding(vocab_size, 1000, input_length=max_length, trainable=True))\n",
        "\n",
        "model.add(Conv1D(filters=128, kernel_size=5, activation='relu'))\n",
        "model.add(GlobalMaxPooling1D())\n",
        "\n",
        "model.add(Dense(num_classes, activation='softmax'))\n",
        "print(model.summary())"
      ],
      "metadata": {
        "colab": {
          "base_uri": "https://localhost:8080/"
        },
        "outputId": "1d40aac5-d7d7-4209-d324-70a192b49902",
        "id": "alpi6avRuzqA"
      },
      "execution_count": null,
      "outputs": [
        {
          "output_type": "stream",
          "name": "stdout",
          "text": [
            "Model: \"sequential_4\"\n",
            "_________________________________________________________________\n",
            " Layer (type)                Output Shape              Param #   \n",
            "=================================================================\n",
            " embedding_4 (Embedding)     (None, 66, 1000)          12609000  \n",
            "                                                                 \n",
            " conv1d_4 (Conv1D)           (None, 62, 128)           640128    \n",
            "                                                                 \n",
            " global_max_pooling1d_2 (Glo  (None, 128)              0         \n",
            " balMaxPooling1D)                                                \n",
            "                                                                 \n",
            " dense_10 (Dense)            (None, 13)                1677      \n",
            "                                                                 \n",
            "=================================================================\n",
            "Total params: 13,250,805\n",
            "Trainable params: 13,250,805\n",
            "Non-trainable params: 0\n",
            "_________________________________________________________________\n",
            "None\n"
          ]
        }
      ]
    },
    {
      "cell_type": "code",
      "source": [
        "from tensorflow.keras.callbacks import EarlyStopping\n",
        "\n",
        "#put early stopping\n",
        "early_stopping = EarlyStopping(monitor='val_loss', patience=1, mode='min')\n",
        "\n",
        "#Your choices of activation='softmax' in the last layer and compile choice of loss='categorical_crossentropy' \n",
        "#are good for a model to predict multiple mutually-exclusive classes.\n",
        "\n",
        "model.compile(loss='categorical_crossentropy',\n",
        "              optimizer='adam', \n",
        "              metrics=['acc'],)"
      ],
      "metadata": {
        "id": "L7qLhhuTuzqB"
      },
      "execution_count": null,
      "outputs": []
    },
    {
      "cell_type": "code",
      "source": [
        "history = model.fit(Xtrain, ytrain, \n",
        "                    epochs=10, batch_size=64, \n",
        "                    validation_split=0.2,\n",
        "                    callbacks=[early_stopping])"
      ],
      "metadata": {
        "colab": {
          "base_uri": "https://localhost:8080/"
        },
        "outputId": "378518a5-b5b7-4d5a-e7d3-c22ee4dffda6",
        "id": "swLzSwyPuzqB"
      },
      "execution_count": null,
      "outputs": [
        {
          "output_type": "stream",
          "name": "stdout",
          "text": [
            "Epoch 1/10\n",
            "152/152 [==============================] - 14s 90ms/step - loss: 1.5844 - acc: 0.4935 - val_loss: 1.2118 - val_acc: 0.6103\n",
            "Epoch 2/10\n",
            "152/152 [==============================] - 13s 88ms/step - loss: 0.8901 - acc: 0.7209 - val_loss: 1.0843 - val_acc: 0.6379\n",
            "Epoch 3/10\n",
            "152/152 [==============================] - 13s 88ms/step - loss: 0.3994 - acc: 0.8972 - val_loss: 1.1140 - val_acc: 0.6412\n"
          ]
        }
      ]
    },
    {
      "cell_type": "code",
      "source": [
        "loss, acc = model.evaluate(Xtest, ytest)\n",
        "print('Test Accuracy: %f' % (acc*100))"
      ],
      "metadata": {
        "colab": {
          "base_uri": "https://localhost:8080/"
        },
        "outputId": "3085ae8a-3279-4383-ed59-70dbb225bc3c",
        "id": "W7deuZrkuzqB"
      },
      "execution_count": null,
      "outputs": [
        {
          "output_type": "stream",
          "name": "stdout",
          "text": [
            "13/13 [==============================] - 0s 5ms/step - loss: 1.2131 - acc: 0.6401\n",
            "Test Accuracy: 64.010280\n"
          ]
        }
      ]
    },
    {
      "cell_type": "markdown",
      "source": [
        "## CNN1,512&1024,(5,7,10) GMP1D D13: 53-64\n",
        "the best kernel from [5,7,10] = 5"
      ],
      "metadata": {
        "id": "QLnM8ds2X8zg"
      }
    },
    {
      "cell_type": "code",
      "source": [
        "from keras.layers import Dense, Flatten, Embedding, BatchNormalization, Dropout, LSTM, Bidirectional, TimeDistributed\n",
        "from keras.models import Sequential\n",
        "from keras.layers.convolutional import Conv1D, MaxPooling1D\n",
        "from keras.layers.pooling import GlobalMaxPooling1D, AveragePooling1D, GlobalAveragePooling1D\n",
        "import tensorflow as tf\n",
        "from keras.layers.pooling import GlobalMaxPooling1D\n",
        "from tensorflow.keras.callbacks import EarlyStopping"
      ],
      "metadata": {
        "id": "Nuel3LIIc8r7"
      },
      "execution_count": null,
      "outputs": []
    },
    {
      "cell_type": "code",
      "source": [
        "filters = [512, 1024]\n",
        "kernels = [5, 7, 10]\n",
        "\n",
        "#Define our model\n",
        "for filter in filters:\n",
        "  for kernel in kernels:\n",
        "    model = Sequential()\n",
        "    model.add(Embedding(vocab_size, 1000, input_length=max_length, trainable=True))\n",
        "    model.add(Conv1D(filter, kernel , activation='relu'))\n",
        "    model.add(GlobalMaxPooling1D())\n",
        "    model.add(Dense(num_classes, activation='softmax'))\n",
        "\n",
        "    #put early stopping\n",
        "    early_stopping = EarlyStopping(monitor='val_loss', patience=1, mode='min')\n",
        "    model.compile(loss='categorical_crossentropy',\n",
        "                  optimizer='adam', \n",
        "                  metrics=['acc'],)\n",
        "    \n",
        "    #train the model\n",
        "    history = model.fit(Xtrain, ytrain, \n",
        "                      epochs=10, batch_size=32, #32, 128 > 8 (worse), 16, 64, 256\n",
        "                      validation_split=0.2,\n",
        "                      callbacks=[early_stopping])\n",
        "  \n",
        "    #evaludate the model\n",
        "    loss, acc = model.evaluate(Xtest, ytest)\n",
        "    print(\"===========================================\")\n",
        "    print(f\"Filter: {filter}\")\n",
        "    print(f\"Kernel: {kernel}\")\n",
        "    print('Test Accuracy: %f' % (acc*100)) #79.333335 (CNN kernel = 10), 78 (CNN kernel = 5)\n",
        "    print(\"===========================================\")"
      ],
      "metadata": {
        "colab": {
          "base_uri": "https://localhost:8080/"
        },
        "id": "m4e89MFGm0JA",
        "outputId": "c9ef3906-25f7-4650-d523-086bdee272cb"
      },
      "execution_count": null,
      "outputs": [
        {
          "output_type": "stream",
          "name": "stdout",
          "text": [
            "Epoch 1/10\n",
            "304/304 [==============================] - 39s 125ms/step - loss: 1.3729 - acc: 0.5581 - val_loss: 1.0888 - val_acc: 0.6424\n",
            "Epoch 2/10\n",
            "304/304 [==============================] - 38s 124ms/step - loss: 0.6178 - acc: 0.8028 - val_loss: 1.1055 - val_acc: 0.6453\n",
            "13/13 [==============================] - 0s 12ms/step - loss: 1.2212 - acc: 0.6401\n",
            "===========================================\n",
            "Filter: 512\n",
            "Kernel: 5\n",
            "Test Accuracy: 64.010280\n",
            "===========================================\n",
            "Epoch 1/10\n",
            "304/304 [==============================] - 47s 154ms/step - loss: 1.3788 - acc: 0.5511 - val_loss: 1.1015 - val_acc: 0.6379\n",
            "Epoch 2/10\n",
            "304/304 [==============================] - 47s 154ms/step - loss: 0.5691 - acc: 0.8230 - val_loss: 1.1063 - val_acc: 0.6444\n",
            "13/13 [==============================] - 0s 16ms/step - loss: 1.2504 - acc: 0.5964\n",
            "===========================================\n",
            "Filter: 512\n",
            "Kernel: 7\n",
            "Test Accuracy: 59.640104\n",
            "===========================================\n",
            "Epoch 1/10\n",
            "304/304 [==============================] - 58s 190ms/step - loss: 1.3776 - acc: 0.5549 - val_loss: 1.1815 - val_acc: 0.6115\n",
            "Epoch 2/10\n",
            "304/304 [==============================] - 57s 188ms/step - loss: 0.5130 - acc: 0.8430 - val_loss: 1.1379 - val_acc: 0.6436\n",
            "Epoch 3/10\n",
            "304/304 [==============================] - 58s 189ms/step - loss: 0.0823 - acc: 0.9844 - val_loss: 1.2257 - val_acc: 0.6519\n",
            "13/13 [==============================] - 0s 18ms/step - loss: 1.5198 - acc: 0.5681\n",
            "===========================================\n",
            "Filter: 512\n",
            "Kernel: 10\n",
            "Test Accuracy: 56.812340\n",
            "===========================================\n",
            "Epoch 1/10\n",
            "304/304 [==============================] - 61s 199ms/step - loss: 1.3529 - acc: 0.5573 - val_loss: 1.0921 - val_acc: 0.6346\n",
            "Epoch 2/10\n",
            "304/304 [==============================] - 60s 198ms/step - loss: 0.5597 - acc: 0.8264 - val_loss: 1.1838 - val_acc: 0.6449\n",
            "13/13 [==============================] - 0s 21ms/step - loss: 1.2990 - acc: 0.6195\n",
            "===========================================\n",
            "Filter: 1024\n",
            "Kernel: 5\n",
            "Test Accuracy: 61.953729\n",
            "===========================================\n",
            "Epoch 1/10\n",
            "304/304 [==============================] - 79s 256ms/step - loss: 1.3533 - acc: 0.5582 - val_loss: 1.1075 - val_acc: 0.6222\n",
            "Epoch 2/10\n",
            "304/304 [==============================] - 82s 268ms/step - loss: 0.4965 - acc: 0.8448 - val_loss: 1.1487 - val_acc: 0.6370\n",
            "13/13 [==============================] - 0s 28ms/step - loss: 1.2764 - acc: 0.6170\n",
            "===========================================\n",
            "Filter: 1024\n",
            "Kernel: 7\n",
            "Test Accuracy: 61.696661\n",
            "===========================================\n",
            "Epoch 1/10\n",
            "304/304 [==============================] - 129s 421ms/step - loss: 1.3557 - acc: 0.5582 - val_loss: 1.1298 - val_acc: 0.6235\n",
            "Epoch 2/10\n",
            "304/304 [==============================] - 143s 472ms/step - loss: 0.4448 - acc: 0.8645 - val_loss: 1.1687 - val_acc: 0.6358\n",
            "13/13 [==============================] - 0s 35ms/step - loss: 1.4803 - acc: 0.5553\n",
            "===========================================\n",
            "Filter: 1024\n",
            "Kernel: 10\n",
            "Test Accuracy: 55.526990\n",
            "===========================================\n"
          ]
        }
      ]
    },
    {
      "cell_type": "markdown",
      "source": [
        "##3CNN1,(128,128,128),(6,8,10) 3DO0.1 3GMP1D CONCAT D13 CW: 60-63"
      ],
      "metadata": {
        "id": "gKD476bKEypH"
      }
    },
    {
      "cell_type": "code",
      "source": [
        "import tensorflow as tf\n",
        "from keras.models import Sequential, Model\n",
        "from tensorflow.keras import Input\n",
        "from keras.layers.convolutional import Conv1D, MaxPooling1D\n",
        "from keras.layers.pooling import GlobalMaxPooling1D, AveragePooling1D, GlobalAveragePooling1D\n",
        "from keras.layers import Dense, Flatten, Embedding, BatchNormalization, Dropout, LSTM, Bidirectional, TimeDistributed, concatenate"
      ],
      "metadata": {
        "id": "bSBtneaWc33s"
      },
      "execution_count": null,
      "outputs": []
    },
    {
      "cell_type": "markdown",
      "source": [
        "### patience 1: 60"
      ],
      "metadata": {
        "id": "PbWlsSRYSjOO"
      }
    },
    {
      "cell_type": "code",
      "source": [
        "# create the model\n",
        "model = Sequential()\n",
        "inputs = Input(shape=(max_length,))\n",
        "\n",
        "# channel 1\n",
        "embedding1 = Embedding(vocab_size, 1000, trainable=True)(inputs)\n",
        "conv1 = Conv1D(128, 6, activation='relu')(embedding1)\n",
        "drop1 = Dropout(0.1)(conv1)\n",
        "pool1 = GlobalMaxPooling1D()(drop1)\n",
        "# channel 2\n",
        "embedding2 = Embedding(vocab_size, 1000, trainable=True)(inputs)\n",
        "conv2 = Conv1D(128, 8, activation='relu')(embedding2)\n",
        "drop2 = Dropout(0.1)(conv2)\n",
        "pool2 = GlobalMaxPooling1D()(drop2)\n",
        "# channel 3\n",
        "embedding3 = Embedding(vocab_size, 1000, trainable=True)(inputs)\n",
        "conv3 = Conv1D(128, 10, activation='relu')(embedding3)\n",
        "drop3 = Dropout(0.1)(conv3)\n",
        "pool3 = GlobalMaxPooling1D()(drop3)\n",
        "\n",
        "# merge\n",
        "merged = concatenate([pool1, pool2, pool3])\n",
        "\n",
        "# Fully connected \n",
        "outputs = Dense(num_classes, activation='softmax')(merged) #1 Dense better than 2 or three Denses\n",
        "\n",
        "model = Model(inputs=[inputs], outputs=outputs)\n",
        "model.summary()\n",
        "\n",
        "from tensorflow.keras.callbacks import EarlyStopping\n",
        "\n",
        "#put early stopping\n",
        "early_stopping = EarlyStopping(monitor='val_loss', patience=1, mode='min')\n",
        "\n",
        "#Your choices of activation='softmax' in the last layer and compile choice of loss='categorical_crossentropy' \n",
        "#are good for a model to predict multiple mutually-exclusive classes.\n",
        "\n",
        "#Learning Rate = 0.01, acc = 40%\n",
        "\n",
        "model.compile(loss='categorical_crossentropy',\n",
        "              optimizer='adam', \n",
        "              metrics=['acc'],)\n",
        "\n",
        "train_y = [x-1 for x in train['Human_CategoryID'].tolist()]\n",
        "\n",
        "class_weights = compute_class_weight(\n",
        "                                        class_weight = \"balanced\",\n",
        "                                        classes = np.unique(train_y),\n",
        "                                        y = train_y                                                   \n",
        "                                    )\n",
        "class_weights = dict(zip(np.unique(train_y), class_weights))\n",
        "\n",
        "history = model.fit(Xtrain, ytrain, \n",
        "                    epochs=10, batch_size=32, #32, 128 > 8 (worse), 16, 64, 256\n",
        "                    validation_split=0.2,\n",
        "                    callbacks=[early_stopping],\n",
        "                    class_weight=class_weights)\n",
        "\n",
        "loss, acc = model.evaluate(Xtest, ytest)\n",
        "print('Test Accuracy: %f' % (acc*100))"
      ],
      "metadata": {
        "colab": {
          "base_uri": "https://localhost:8080/"
        },
        "id": "lZbW63ODjpT0",
        "outputId": "48972dfc-c0dc-410f-b699-b9c8de350318"
      },
      "execution_count": null,
      "outputs": [
        {
          "output_type": "stream",
          "name": "stdout",
          "text": [
            "Model: \"model\"\n",
            "__________________________________________________________________________________________________\n",
            " Layer (type)                   Output Shape         Param #     Connected to                     \n",
            "==================================================================================================\n",
            " input_1 (InputLayer)           [(None, 66)]         0           []                               \n",
            "                                                                                                  \n",
            " embedding_11 (Embedding)       (None, 66, 1000)     12609000    ['input_1[0][0]']                \n",
            "                                                                                                  \n",
            " embedding_12 (Embedding)       (None, 66, 1000)     12609000    ['input_1[0][0]']                \n",
            "                                                                                                  \n",
            " embedding_13 (Embedding)       (None, 66, 1000)     12609000    ['input_1[0][0]']                \n",
            "                                                                                                  \n",
            " conv1d_11 (Conv1D)             (None, 61, 128)      768128      ['embedding_11[0][0]']           \n",
            "                                                                                                  \n",
            " conv1d_12 (Conv1D)             (None, 59, 128)      1024128     ['embedding_12[0][0]']           \n",
            "                                                                                                  \n",
            " conv1d_13 (Conv1D)             (None, 57, 128)      1280128     ['embedding_13[0][0]']           \n",
            "                                                                                                  \n",
            " dropout_1 (Dropout)            (None, 61, 128)      0           ['conv1d_11[0][0]']              \n",
            "                                                                                                  \n",
            " dropout_2 (Dropout)            (None, 59, 128)      0           ['conv1d_12[0][0]']              \n",
            "                                                                                                  \n",
            " dropout_3 (Dropout)            (None, 57, 128)      0           ['conv1d_13[0][0]']              \n",
            "                                                                                                  \n",
            " global_max_pooling1d_9 (Global  (None, 128)         0           ['dropout_1[0][0]']              \n",
            " MaxPooling1D)                                                                                    \n",
            "                                                                                                  \n",
            " global_max_pooling1d_10 (Globa  (None, 128)         0           ['dropout_2[0][0]']              \n",
            " lMaxPooling1D)                                                                                   \n",
            "                                                                                                  \n",
            " global_max_pooling1d_11 (Globa  (None, 128)         0           ['dropout_3[0][0]']              \n",
            " lMaxPooling1D)                                                                                   \n",
            "                                                                                                  \n",
            " concatenate (Concatenate)      (None, 384)          0           ['global_max_pooling1d_9[0][0]', \n",
            "                                                                  'global_max_pooling1d_10[0][0]',\n",
            "                                                                  'global_max_pooling1d_11[0][0]']\n",
            "                                                                                                  \n",
            " dense_17 (Dense)               (None, 13)           5005        ['concatenate[0][0]']            \n",
            "                                                                                                  \n",
            "==================================================================================================\n",
            "Total params: 40,904,389\n",
            "Trainable params: 40,904,389\n",
            "Non-trainable params: 0\n",
            "__________________________________________________________________________________________________\n",
            "Epoch 1/10\n",
            "304/304 [==============================] - 73s 238ms/step - loss: 2.0654 - acc: 0.3815 - val_loss: 1.4514 - val_acc: 0.5091\n",
            "Epoch 2/10\n",
            "304/304 [==============================] - 77s 253ms/step - loss: 0.5705 - acc: 0.7537 - val_loss: 1.1695 - val_acc: 0.6111\n",
            "Epoch 3/10\n",
            "304/304 [==============================] - 83s 273ms/step - loss: 0.1221 - acc: 0.9474 - val_loss: 1.0971 - val_acc: 0.6444\n",
            "Epoch 4/10\n",
            "304/304 [==============================] - 86s 284ms/step - loss: 0.0346 - acc: 0.9902 - val_loss: 1.0839 - val_acc: 0.6588\n",
            "Epoch 5/10\n",
            "304/304 [==============================] - 82s 271ms/step - loss: 0.0141 - acc: 0.9981 - val_loss: 1.1117 - val_acc: 0.6588\n",
            "13/13 [==============================] - 0s 17ms/step - loss: 1.2680 - acc: 0.6067\n",
            "Test Accuracy: 60.668379\n"
          ]
        }
      ]
    },
    {
      "cell_type": "markdown",
      "source": [
        "##3CNN1,(128,256,512),(5) 3DO0.5 3GMP1D CONCAT D13 CW:"
      ],
      "metadata": {
        "id": "HEczlAww7FTb"
      }
    },
    {
      "cell_type": "code",
      "source": [
        "import tensorflow as tf\n",
        "from tensorflow.keras import Input\n",
        "from keras.models import Sequential, Model\n",
        "from tensorflow.keras.callbacks import EarlyStopping\n",
        "from keras.layers.convolutional import Conv1D, MaxPooling1D\n",
        "from keras.layers.pooling import GlobalMaxPooling1D, AveragePooling1D, GlobalAveragePooling1D\n",
        "from keras.layers import Dense, Flatten, Embedding, BatchNormalization, Dropout, LSTM, Bidirectional, TimeDistributed, concatenate"
      ],
      "metadata": {
        "id": "T9G0b6Wk7FTl"
      },
      "execution_count": null,
      "outputs": []
    },
    {
      "cell_type": "markdown",
      "source": [
        "### patience 1: 63"
      ],
      "metadata": {
        "id": "2-p-Mpao7FTl"
      }
    },
    {
      "cell_type": "code",
      "source": [
        "# create the model\n",
        "model = Sequential()\n",
        "inputs = Input(shape=(max_length,))\n",
        "\n",
        "# channel 1\n",
        "embedding1 = Embedding(vocab_size, 1000, trainable=True)(inputs)\n",
        "conv1 = Conv1D(128, 5, activation='relu')(embedding1)\n",
        "drop1 = Dropout(0.5)(conv1)\n",
        "pool1 = GlobalMaxPooling1D()(drop1)\n",
        "# channel 2\n",
        "embedding2 = Embedding(vocab_size, 1000, trainable=True)(inputs)\n",
        "conv2 = Conv1D(256, 5, activation='relu')(embedding2)\n",
        "drop2 = Dropout(0.5)(conv2)\n",
        "pool2 = GlobalMaxPooling1D()(drop2)\n",
        "# channel 3\n",
        "embedding3 = Embedding(vocab_size, 1000, trainable=True)(inputs)\n",
        "conv3 = Conv1D(512, 5, activation='relu')(embedding3)\n",
        "drop3 = Dropout(0.5)(conv3)\n",
        "pool3 = GlobalMaxPooling1D()(drop3)\n",
        "\n",
        "# merge\n",
        "merged = concatenate([pool1, pool2, pool3])\n",
        "\n",
        "# Fully connected \n",
        "outputs = Dense(num_classes, activation='softmax')(merged) #1 Dense better than 2 or three Denses\n",
        "\n",
        "model = Model(inputs=[inputs], outputs=outputs)\n",
        "model.summary()\n",
        "\n",
        "#put early stopping\n",
        "early_stopping = EarlyStopping(monitor='val_loss', patience=1, mode='min')\n",
        "\n",
        "#Your choices of activation='softmax' in the last layer and compile choice of loss='categorical_crossentropy' \n",
        "#are good for a model to predict multiple mutually-exclusive classes.\n",
        "\n",
        "#Learning Rate = 0.01, acc = 40%\n",
        "\n",
        "model.compile(loss='categorical_crossentropy',\n",
        "              optimizer='adam', \n",
        "              metrics=['acc'],)\n",
        "\n",
        "train_y = [x-1 for x in train['Human_CategoryID'].tolist()]\n",
        "\n",
        "class_weights = compute_class_weight(\n",
        "                                        class_weight = \"balanced\",\n",
        "                                        classes = np.unique(train_y),\n",
        "                                        y = train_y                                                   \n",
        "                                    )\n",
        "class_weights = dict(zip(np.unique(train_y), class_weights))\n",
        "\n",
        "history = model.fit(Xtrain, ytrain, \n",
        "                    epochs=10, batch_size=32, #32, 128 > 8 (worse), 16, 64, 256\n",
        "                    validation_split=0.2,\n",
        "                    callbacks=[early_stopping],\n",
        "                    class_weight=class_weights)\n",
        "\n",
        "loss, acc = model.evaluate(Xtest, ytest)\n",
        "print('Test Accuracy: %f' % (acc*100))"
      ],
      "metadata": {
        "colab": {
          "base_uri": "https://localhost:8080/"
        },
        "id": "t1fHoJaV7FTl",
        "outputId": "a6066029-7dcd-4294-fe5c-05080d78781a"
      },
      "execution_count": null,
      "outputs": [
        {
          "output_type": "stream",
          "name": "stdout",
          "text": [
            "Model: \"model\"\n",
            "__________________________________________________________________________________________________\n",
            " Layer (type)                   Output Shape         Param #     Connected to                     \n",
            "==================================================================================================\n",
            " input_1 (InputLayer)           [(None, 66)]         0           []                               \n",
            "                                                                                                  \n",
            " embedding (Embedding)          (None, 66, 1000)     12609000    ['input_1[0][0]']                \n",
            "                                                                                                  \n",
            " embedding_1 (Embedding)        (None, 66, 1000)     12609000    ['input_1[0][0]']                \n",
            "                                                                                                  \n",
            " embedding_2 (Embedding)        (None, 66, 1000)     12609000    ['input_1[0][0]']                \n",
            "                                                                                                  \n",
            " conv1d (Conv1D)                (None, 62, 128)      640128      ['embedding[0][0]']              \n",
            "                                                                                                  \n",
            " conv1d_1 (Conv1D)              (None, 62, 256)      1280256     ['embedding_1[0][0]']            \n",
            "                                                                                                  \n",
            " conv1d_2 (Conv1D)              (None, 62, 512)      2560512     ['embedding_2[0][0]']            \n",
            "                                                                                                  \n",
            " dropout (Dropout)              (None, 62, 128)      0           ['conv1d[0][0]']                 \n",
            "                                                                                                  \n",
            " dropout_1 (Dropout)            (None, 62, 256)      0           ['conv1d_1[0][0]']               \n",
            "                                                                                                  \n",
            " dropout_2 (Dropout)            (None, 62, 512)      0           ['conv1d_2[0][0]']               \n",
            "                                                                                                  \n",
            " global_max_pooling1d (GlobalMa  (None, 128)         0           ['dropout[0][0]']                \n",
            " xPooling1D)                                                                                      \n",
            "                                                                                                  \n",
            " global_max_pooling1d_1 (Global  (None, 256)         0           ['dropout_1[0][0]']              \n",
            " MaxPooling1D)                                                                                    \n",
            "                                                                                                  \n",
            " global_max_pooling1d_2 (Global  (None, 512)         0           ['dropout_2[0][0]']              \n",
            " MaxPooling1D)                                                                                    \n",
            "                                                                                                  \n",
            " concatenate (Concatenate)      (None, 896)          0           ['global_max_pooling1d[0][0]',   \n",
            "                                                                  'global_max_pooling1d_1[0][0]', \n",
            "                                                                  'global_max_pooling1d_2[0][0]'] \n",
            "                                                                                                  \n",
            " dense (Dense)                  (None, 13)           11661       ['concatenate[0][0]']            \n",
            "                                                                                                  \n",
            "==================================================================================================\n",
            "Total params: 42,319,557\n",
            "Trainable params: 42,319,557\n",
            "Non-trainable params: 0\n",
            "__________________________________________________________________________________________________\n",
            "Epoch 1/10\n",
            "304/304 [==============================] - 51s 164ms/step - loss: 2.0352 - acc: 0.3795 - val_loss: 1.9086 - val_acc: 0.3679\n",
            "Epoch 2/10\n",
            "304/304 [==============================] - 49s 160ms/step - loss: 0.6668 - acc: 0.7099 - val_loss: 1.2767 - val_acc: 0.5963\n",
            "Epoch 3/10\n",
            "304/304 [==============================] - 48s 159ms/step - loss: 0.1942 - acc: 0.8975 - val_loss: 1.1740 - val_acc: 0.6103\n",
            "Epoch 4/10\n",
            " 24/304 [=>............................] - ETA: 43s - loss: 0.0899 - acc: 0.9453"
          ]
        }
      ]
    },
    {
      "cell_type": "markdown",
      "source": [
        "### patience 2: 62"
      ],
      "metadata": {
        "id": "1A9Q3RLu7FTl"
      }
    },
    {
      "cell_type": "code",
      "source": [
        "# create the model\n",
        "model = Sequential()\n",
        "inputs = Input(shape=(max_length,))\n",
        "\n",
        "# channel 1\n",
        "embedding1 = Embedding(vocab_size, 1000, trainable=True)(inputs)\n",
        "conv1 = Conv1D(128, 5, activation='relu')(embedding1)\n",
        "drop1 = Dropout(0.5)(conv1)\n",
        "pool1 = GlobalMaxPooling1D()(drop1)\n",
        "# channel 2\n",
        "embedding2 = Embedding(vocab_size, 1000, trainable=True)(inputs)\n",
        "conv2 = Conv1D(256, 5, activation='relu')(embedding2)\n",
        "drop2 = Dropout(0.5)(conv2)\n",
        "pool2 = GlobalMaxPooling1D()(drop2)\n",
        "# channel 3\n",
        "embedding3 = Embedding(vocab_size, 1000, trainable=True)(inputs)\n",
        "conv3 = Conv1D(512, 5, activation='relu')(embedding3)\n",
        "drop3 = Dropout(0.5)(conv3)\n",
        "pool3 = GlobalMaxPooling1D()(drop3)\n",
        "\n",
        "# merge\n",
        "merged = concatenate([pool1, pool2, pool3])\n",
        "\n",
        "# Fully connected \n",
        "outputs = Dense(num_classes, activation='softmax')(merged) #1 Dense better than 2 or three Denses\n",
        "\n",
        "model = Model(inputs=[inputs], outputs=outputs)\n",
        "model.summary()\n",
        "\n",
        "#put early stopping\n",
        "early_stopping = EarlyStopping(monitor='val_loss', patience=2, mode='min')\n",
        "\n",
        "#Your choices of activation='softmax' in the last layer and compile choice of loss='categorical_crossentropy' \n",
        "#are good for a model to predict multiple mutually-exclusive classes.\n",
        "\n",
        "#Learning Rate = 0.01, acc = 40%\n",
        "\n",
        "model.compile(loss='categorical_crossentropy',\n",
        "              optimizer='adam', \n",
        "              metrics=['acc'],)\n",
        "\n",
        "train_y = [x-1 for x in train['Human_CategoryID'].tolist()]\n",
        "\n",
        "class_weights = compute_class_weight(\n",
        "                                        class_weight = \"balanced\",\n",
        "                                        classes = np.unique(train_y),\n",
        "                                        y = train_y                                                   \n",
        "                                    )\n",
        "class_weights = dict(zip(np.unique(train_y), class_weights))\n",
        "\n",
        "history = model.fit(Xtrain, ytrain, \n",
        "                    epochs=10, batch_size=32, #32, 128 > 8 (worse), 16, 64, 256\n",
        "                    validation_split=0.2,\n",
        "                    callbacks=[early_stopping],\n",
        "                    class_weight=class_weights)\n",
        "\n",
        "loss, acc = model.evaluate(Xtest, ytest)\n",
        "print('Test Accuracy: %f' % (acc*100))"
      ],
      "metadata": {
        "colab": {
          "base_uri": "https://localhost:8080/"
        },
        "id": "3JCUpe-h7FTl",
        "outputId": "219bf802-8745-422f-e2c5-47890b37ea3b"
      },
      "execution_count": null,
      "outputs": [
        {
          "output_type": "stream",
          "name": "stdout",
          "text": [
            "Model: \"model_6\"\n",
            "__________________________________________________________________________________________________\n",
            " Layer (type)                   Output Shape         Param #     Connected to                     \n",
            "==================================================================================================\n",
            " input_7 (InputLayer)           [(None, 66)]         0           []                               \n",
            "                                                                                                  \n",
            " embedding_33 (Embedding)       (None, 66, 1000)     12609000    ['input_7[0][0]']                \n",
            "                                                                                                  \n",
            " embedding_34 (Embedding)       (None, 66, 1000)     12609000    ['input_7[0][0]']                \n",
            "                                                                                                  \n",
            " embedding_35 (Embedding)       (None, 66, 1000)     12609000    ['input_7[0][0]']                \n",
            "                                                                                                  \n",
            " conv1d_33 (Conv1D)             (None, 62, 128)      640128      ['embedding_33[0][0]']           \n",
            "                                                                                                  \n",
            " conv1d_34 (Conv1D)             (None, 62, 256)      1280256     ['embedding_34[0][0]']           \n",
            "                                                                                                  \n",
            " conv1d_35 (Conv1D)             (None, 62, 512)      2560512     ['embedding_35[0][0]']           \n",
            "                                                                                                  \n",
            " dropout_23 (Dropout)           (None, 62, 128)      0           ['conv1d_33[0][0]']              \n",
            "                                                                                                  \n",
            " dropout_24 (Dropout)           (None, 62, 256)      0           ['conv1d_34[0][0]']              \n",
            "                                                                                                  \n",
            " dropout_25 (Dropout)           (None, 62, 512)      0           ['conv1d_35[0][0]']              \n",
            "                                                                                                  \n",
            " global_max_pooling1d_31 (Globa  (None, 128)         0           ['dropout_23[0][0]']             \n",
            " lMaxPooling1D)                                                                                   \n",
            "                                                                                                  \n",
            " global_max_pooling1d_32 (Globa  (None, 256)         0           ['dropout_24[0][0]']             \n",
            " lMaxPooling1D)                                                                                   \n",
            "                                                                                                  \n",
            " global_max_pooling1d_33 (Globa  (None, 512)         0           ['dropout_25[0][0]']             \n",
            " lMaxPooling1D)                                                                                   \n",
            "                                                                                                  \n",
            " concatenate_6 (Concatenate)    (None, 896)          0           ['global_max_pooling1d_31[0][0]',\n",
            "                                                                  'global_max_pooling1d_32[0][0]',\n",
            "                                                                  'global_max_pooling1d_33[0][0]']\n",
            "                                                                                                  \n",
            " dense_23 (Dense)               (None, 13)           11661       ['concatenate_6[0][0]']          \n",
            "                                                                                                  \n",
            "==================================================================================================\n",
            "Total params: 42,319,557\n",
            "Trainable params: 42,319,557\n",
            "Non-trainable params: 0\n",
            "__________________________________________________________________________________________________\n",
            "Epoch 1/10\n",
            "304/304 [==============================] - 70s 226ms/step - loss: 2.1012 - acc: 0.3633 - val_loss: 1.6558 - val_acc: 0.4757\n",
            "Epoch 2/10\n",
            "304/304 [==============================] - 69s 226ms/step - loss: 0.6566 - acc: 0.7136 - val_loss: 1.2806 - val_acc: 0.5996\n",
            "Epoch 3/10\n",
            "304/304 [==============================] - 68s 225ms/step - loss: 0.1955 - acc: 0.8943 - val_loss: 1.1130 - val_acc: 0.6342\n",
            "Epoch 4/10\n",
            "304/304 [==============================] - 68s 225ms/step - loss: 0.0715 - acc: 0.9635 - val_loss: 1.1084 - val_acc: 0.6366\n",
            "Epoch 5/10\n",
            "304/304 [==============================] - 69s 225ms/step - loss: 0.0340 - acc: 0.9833 - val_loss: 1.0753 - val_acc: 0.6399\n",
            "Epoch 6/10\n",
            "304/304 [==============================] - 68s 225ms/step - loss: 0.0168 - acc: 0.9958 - val_loss: 1.1082 - val_acc: 0.6420\n",
            "Epoch 7/10\n",
            "304/304 [==============================] - 69s 226ms/step - loss: 0.0103 - acc: 0.9979 - val_loss: 1.1262 - val_acc: 0.6420\n",
            "13/13 [==============================] - 0s 19ms/step - loss: 1.2465 - acc: 0.6221\n",
            "Test Accuracy: 62.210798\n"
          ]
        }
      ]
    },
    {
      "cell_type": "markdown",
      "source": [
        "##4CNN1,(128,256,512,1024),(5) 3DO0.5 3GMP1D CONCAT D13 CW"
      ],
      "metadata": {
        "id": "zH9th0kco1QV"
      }
    },
    {
      "cell_type": "code",
      "source": [
        "import tensorflow as tf\n",
        "from tensorflow.keras import Input\n",
        "from keras.models import Sequential, Model\n",
        "from tensorflow.keras.callbacks import EarlyStopping\n",
        "from keras.layers.convolutional import Conv1D, MaxPooling1D\n",
        "from keras.layers.pooling import GlobalMaxPooling1D, AveragePooling1D, GlobalAveragePooling1D\n",
        "from keras.layers import Dense, Flatten, Embedding, BatchNormalization, Dropout, LSTM, Bidirectional, TimeDistributed, concatenate"
      ],
      "metadata": {
        "id": "oOv3IhP9o1QW"
      },
      "execution_count": null,
      "outputs": []
    },
    {
      "cell_type": "markdown",
      "source": [
        "### patience 1: 62"
      ],
      "metadata": {
        "id": "UQidm601xeP1"
      }
    },
    {
      "cell_type": "code",
      "source": [
        "# create the model\n",
        "model = Sequential()\n",
        "inputs = Input(shape=(max_length,))\n",
        "\n",
        "# channel 1\n",
        "embedding1 = Embedding(vocab_size, 1000, trainable=True)(inputs)\n",
        "conv1 = Conv1D(128, 5, activation='relu')(embedding1)\n",
        "drop1 = Dropout(0.5)(conv1)\n",
        "pool1 = GlobalMaxPooling1D()(drop1)\n",
        "# channel 2\n",
        "embedding2 = Embedding(vocab_size, 1000, trainable=True)(inputs)\n",
        "conv2 = Conv1D(256, 5, activation='relu')(embedding2)\n",
        "drop2 = Dropout(0.5)(conv2)\n",
        "pool2 = GlobalMaxPooling1D()(drop2)\n",
        "# channel 3\n",
        "embedding3 = Embedding(vocab_size, 1000, trainable=True)(inputs)\n",
        "conv3 = Conv1D(512, 5, activation='relu')(embedding3)\n",
        "drop3 = Dropout(0.5)(conv3)\n",
        "pool3 = GlobalMaxPooling1D()(drop3)\n",
        "# channel 4\n",
        "embedding4 = Embedding(vocab_size, 1000, trainable=True)(inputs)\n",
        "conv4 = Conv1D(1024, 5, activation='relu')(embedding4)\n",
        "drop4 = Dropout(0.5)(conv4)\n",
        "pool4 = GlobalMaxPooling1D()(drop4)\n",
        "\n",
        "# merge\n",
        "merged = concatenate([pool1, pool2, pool3, pool4])\n",
        "\n",
        "# Fully connected \n",
        "outputs = Dense(num_classes, activation='softmax')(merged) #1 Dense better than 2 or three Denses\n",
        "\n",
        "model = Model(inputs=[inputs], outputs=outputs)\n",
        "model.summary()\n",
        "\n",
        "#put early stopping\n",
        "early_stopping = EarlyStopping(monitor='val_loss', patience=1, mode='min')\n",
        "\n",
        "#Your choices of activation='softmax' in the last layer and compile choice of loss='categorical_crossentropy' \n",
        "#are good for a model to predict multiple mutually-exclusive classes.\n",
        "\n",
        "#Learning Rate = 0.01, acc = 40%\n",
        "\n",
        "model.compile(loss='categorical_crossentropy',\n",
        "              optimizer='adam', \n",
        "              metrics=['acc'],)\n",
        "\n",
        "train_y = [x-1 for x in train['Human_CategoryID'].tolist()]\n",
        "\n",
        "class_weights = compute_class_weight(\n",
        "                                        class_weight = \"balanced\",\n",
        "                                        classes = np.unique(train_y),\n",
        "                                        y = train_y                                                   \n",
        "                                    )\n",
        "class_weights = dict(zip(np.unique(train_y), class_weights))\n",
        "\n",
        "history = model.fit(Xtrain, ytrain, \n",
        "                    epochs=10, batch_size=32, #32, 128 > 8 (worse), 16, 64, 256\n",
        "                    validation_split=0.2,\n",
        "                    callbacks=[early_stopping],\n",
        "                    class_weight=class_weights)\n",
        "\n",
        "loss, acc = model.evaluate(Xtest, ytest)\n",
        "print('Test Accuracy: %f' % (acc*100))"
      ],
      "metadata": {
        "colab": {
          "base_uri": "https://localhost:8080/"
        },
        "id": "ir-HBrU13Mq2",
        "outputId": "70c3fdd7-6e00-4eae-fb23-b921dc0162d7"
      },
      "execution_count": null,
      "outputs": [
        {
          "output_type": "stream",
          "name": "stdout",
          "text": [
            "Model: \"model_1\"\n",
            "__________________________________________________________________________________________________\n",
            " Layer (type)                   Output Shape         Param #     Connected to                     \n",
            "==================================================================================================\n",
            " input_2 (InputLayer)           [(None, 66)]         0           []                               \n",
            "                                                                                                  \n",
            " embedding_14 (Embedding)       (None, 66, 1000)     12609000    ['input_2[0][0]']                \n",
            "                                                                                                  \n",
            " embedding_15 (Embedding)       (None, 66, 1000)     12609000    ['input_2[0][0]']                \n",
            "                                                                                                  \n",
            " embedding_16 (Embedding)       (None, 66, 1000)     12609000    ['input_2[0][0]']                \n",
            "                                                                                                  \n",
            " embedding_17 (Embedding)       (None, 66, 1000)     12609000    ['input_2[0][0]']                \n",
            "                                                                                                  \n",
            " conv1d_14 (Conv1D)             (None, 62, 128)      640128      ['embedding_14[0][0]']           \n",
            "                                                                                                  \n",
            " conv1d_15 (Conv1D)             (None, 62, 256)      1280256     ['embedding_15[0][0]']           \n",
            "                                                                                                  \n",
            " conv1d_16 (Conv1D)             (None, 62, 512)      2560512     ['embedding_16[0][0]']           \n",
            "                                                                                                  \n",
            " conv1d_17 (Conv1D)             (None, 62, 1024)     5121024     ['embedding_17[0][0]']           \n",
            "                                                                                                  \n",
            " dropout_4 (Dropout)            (None, 62, 128)      0           ['conv1d_14[0][0]']              \n",
            "                                                                                                  \n",
            " dropout_5 (Dropout)            (None, 62, 256)      0           ['conv1d_15[0][0]']              \n",
            "                                                                                                  \n",
            " dropout_6 (Dropout)            (None, 62, 512)      0           ['conv1d_16[0][0]']              \n",
            "                                                                                                  \n",
            " dropout_7 (Dropout)            (None, 62, 1024)     0           ['conv1d_17[0][0]']              \n",
            "                                                                                                  \n",
            " global_max_pooling1d_12 (Globa  (None, 128)         0           ['dropout_4[0][0]']              \n",
            " lMaxPooling1D)                                                                                   \n",
            "                                                                                                  \n",
            " global_max_pooling1d_13 (Globa  (None, 256)         0           ['dropout_5[0][0]']              \n",
            " lMaxPooling1D)                                                                                   \n",
            "                                                                                                  \n",
            " global_max_pooling1d_14 (Globa  (None, 512)         0           ['dropout_6[0][0]']              \n",
            " lMaxPooling1D)                                                                                   \n",
            "                                                                                                  \n",
            " global_max_pooling1d_15 (Globa  (None, 1024)        0           ['dropout_7[0][0]']              \n",
            " lMaxPooling1D)                                                                                   \n",
            "                                                                                                  \n",
            " concatenate_1 (Concatenate)    (None, 1920)         0           ['global_max_pooling1d_12[0][0]',\n",
            "                                                                  'global_max_pooling1d_13[0][0]',\n",
            "                                                                  'global_max_pooling1d_14[0][0]',\n",
            "                                                                  'global_max_pooling1d_15[0][0]']\n",
            "                                                                                                  \n",
            " dense_18 (Dense)               (None, 13)           24973       ['concatenate_1[0][0]']          \n",
            "                                                                                                  \n",
            "==================================================================================================\n",
            "Total params: 60,062,893\n",
            "Trainable params: 60,062,893\n",
            "Non-trainable params: 0\n",
            "__________________________________________________________________________________________________\n",
            "Epoch 1/10\n",
            "304/304 [==============================] - 173s 564ms/step - loss: 2.0765 - acc: 0.3815 - val_loss: 1.4883 - val_acc: 0.5218\n",
            "Epoch 2/10\n",
            "304/304 [==============================] - 147s 483ms/step - loss: 0.6172 - acc: 0.7293 - val_loss: 1.2067 - val_acc: 0.6021\n",
            "Epoch 3/10\n",
            "304/304 [==============================] - 156s 514ms/step - loss: 0.1623 - acc: 0.9117 - val_loss: 1.1117 - val_acc: 0.6309\n",
            "Epoch 4/10\n",
            "304/304 [==============================] - 135s 443ms/step - loss: 0.0508 - acc: 0.9754 - val_loss: 1.0914 - val_acc: 0.6432\n",
            "Epoch 5/10\n",
            "304/304 [==============================] - 125s 411ms/step - loss: 0.0225 - acc: 0.9918 - val_loss: 1.1755 - val_acc: 0.6066\n",
            "13/13 [==============================] - 1s 38ms/step - loss: 1.2144 - acc: 0.6298\n",
            "Test Accuracy: 62.982005\n"
          ]
        }
      ]
    },
    {
      "cell_type": "markdown",
      "source": [
        "### patience 2: 65"
      ],
      "metadata": {
        "id": "BBqiWgrMxWlM"
      }
    },
    {
      "cell_type": "code",
      "source": [
        "# create the model\n",
        "model = Sequential()\n",
        "inputs = Input(shape=(max_length,))\n",
        "\n",
        "# channel 1\n",
        "embedding1 = Embedding(vocab_size, 1000, trainable=True)(inputs)\n",
        "conv1 = Conv1D(128, 5, activation='relu')(embedding1)\n",
        "drop1 = Dropout(0.5)(conv1)\n",
        "pool1 = GlobalMaxPooling1D()(drop1)\n",
        "# channel 2\n",
        "embedding2 = Embedding(vocab_size, 1000, trainable=True)(inputs)\n",
        "conv2 = Conv1D(256, 5, activation='relu')(embedding2)\n",
        "drop2 = Dropout(0.5)(conv2)\n",
        "pool2 = GlobalMaxPooling1D()(drop2)\n",
        "# channel 3\n",
        "embedding3 = Embedding(vocab_size, 1000, trainable=True)(inputs)\n",
        "conv3 = Conv1D(512, 5, activation='relu')(embedding3)\n",
        "drop3 = Dropout(0.5)(conv3)\n",
        "pool3 = GlobalMaxPooling1D()(drop3)\n",
        "# channel 4\n",
        "embedding4 = Embedding(vocab_size, 1000, trainable=True)(inputs)\n",
        "conv4 = Conv1D(1024, 5, activation='relu')(embedding4)\n",
        "drop4 = Dropout(0.5)(conv4)\n",
        "pool4 = GlobalMaxPooling1D()(drop4)\n",
        "\n",
        "# merge\n",
        "merged = concatenate([pool1, pool2, pool3, pool4])\n",
        "\n",
        "# Fully connected \n",
        "outputs = Dense(num_classes, activation='softmax')(merged) #1 Dense better than 2 or three Denses\n",
        "\n",
        "model = Model(inputs=[inputs], outputs=outputs)\n",
        "model.summary()\n",
        "\n",
        "#put early stopping\n",
        "early_stopping = EarlyStopping(monitor='val_loss', patience=2, mode='min')\n",
        "\n",
        "#Your choices of activation='softmax' in the last layer and compile choice of loss='categorical_crossentropy' \n",
        "#are good for a model to predict multiple mutually-exclusive classes.\n",
        "\n",
        "#Learning Rate = 0.01, acc = 40%\n",
        "\n",
        "model.compile(loss='categorical_crossentropy',\n",
        "              optimizer='adam', \n",
        "              metrics=['acc'],)\n",
        "\n",
        "train_y = [x-1 for x in train['Human_CategoryID'].tolist()]\n",
        "\n",
        "class_weights = compute_class_weight(\n",
        "                                        class_weight = \"balanced\",\n",
        "                                        classes = np.unique(train_y),\n",
        "                                        y = train_y                                                   \n",
        "                                    )\n",
        "class_weights = dict(zip(np.unique(train_y), class_weights))\n",
        "\n",
        "history = model.fit(Xtrain, ytrain, \n",
        "                    epochs=10, batch_size=32, #32, 128 > 8 (worse), 16, 64, 256\n",
        "                    validation_split=0.2,\n",
        "                    callbacks=[early_stopping],\n",
        "                    class_weight=class_weights)\n",
        "\n",
        "loss, acc = model.evaluate(Xtest, ytest)\n",
        "print('Test Accuracy: %f' % (acc*100))"
      ],
      "metadata": {
        "colab": {
          "base_uri": "https://localhost:8080/"
        },
        "id": "NNUqJ357O-69",
        "outputId": "8f08d989-f19b-4eb0-a092-abc9965074b2"
      },
      "execution_count": null,
      "outputs": [
        {
          "output_type": "stream",
          "name": "stdout",
          "text": [
            "Model: \"model_8\"\n",
            "__________________________________________________________________________________________________\n",
            " Layer (type)                   Output Shape         Param #     Connected to                     \n",
            "==================================================================================================\n",
            " input_9 (InputLayer)           [(None, 66)]         0           []                               \n",
            "                                                                                                  \n",
            " embedding_40 (Embedding)       (None, 66, 1000)     12609000    ['input_9[0][0]']                \n",
            "                                                                                                  \n",
            " embedding_41 (Embedding)       (None, 66, 1000)     12609000    ['input_9[0][0]']                \n",
            "                                                                                                  \n",
            " embedding_42 (Embedding)       (None, 66, 1000)     12609000    ['input_9[0][0]']                \n",
            "                                                                                                  \n",
            " embedding_43 (Embedding)       (None, 66, 1000)     12609000    ['input_9[0][0]']                \n",
            "                                                                                                  \n",
            " conv1d_40 (Conv1D)             (None, 62, 128)      640128      ['embedding_40[0][0]']           \n",
            "                                                                                                  \n",
            " conv1d_41 (Conv1D)             (None, 62, 256)      1280256     ['embedding_41[0][0]']           \n",
            "                                                                                                  \n",
            " conv1d_42 (Conv1D)             (None, 62, 512)      2560512     ['embedding_42[0][0]']           \n",
            "                                                                                                  \n",
            " conv1d_43 (Conv1D)             (None, 62, 1024)     5121024     ['embedding_43[0][0]']           \n",
            "                                                                                                  \n",
            " dropout_30 (Dropout)           (None, 62, 128)      0           ['conv1d_40[0][0]']              \n",
            "                                                                                                  \n",
            " dropout_31 (Dropout)           (None, 62, 256)      0           ['conv1d_41[0][0]']              \n",
            "                                                                                                  \n",
            " dropout_32 (Dropout)           (None, 62, 512)      0           ['conv1d_42[0][0]']              \n",
            "                                                                                                  \n",
            " dropout_33 (Dropout)           (None, 62, 1024)     0           ['conv1d_43[0][0]']              \n",
            "                                                                                                  \n",
            " global_max_pooling1d_38 (Globa  (None, 128)         0           ['dropout_30[0][0]']             \n",
            " lMaxPooling1D)                                                                                   \n",
            "                                                                                                  \n",
            " global_max_pooling1d_39 (Globa  (None, 256)         0           ['dropout_31[0][0]']             \n",
            " lMaxPooling1D)                                                                                   \n",
            "                                                                                                  \n",
            " global_max_pooling1d_40 (Globa  (None, 512)         0           ['dropout_32[0][0]']             \n",
            " lMaxPooling1D)                                                                                   \n",
            "                                                                                                  \n",
            " global_max_pooling1d_41 (Globa  (None, 1024)        0           ['dropout_33[0][0]']             \n",
            " lMaxPooling1D)                                                                                   \n",
            "                                                                                                  \n",
            " concatenate_8 (Concatenate)    (None, 1920)         0           ['global_max_pooling1d_38[0][0]',\n",
            "                                                                  'global_max_pooling1d_39[0][0]',\n",
            "                                                                  'global_max_pooling1d_40[0][0]',\n",
            "                                                                  'global_max_pooling1d_41[0][0]']\n",
            "                                                                                                  \n",
            " dense_25 (Dense)               (None, 13)           24973       ['concatenate_8[0][0]']          \n",
            "                                                                                                  \n",
            "==================================================================================================\n",
            "Total params: 60,062,893\n",
            "Trainable params: 60,062,893\n",
            "Non-trainable params: 0\n",
            "__________________________________________________________________________________________________\n",
            "Epoch 1/10\n",
            "304/304 [==============================] - 128s 416ms/step - loss: 2.0464 - acc: 0.3983 - val_loss: 1.5959 - val_acc: 0.4774\n",
            "Epoch 2/10\n",
            "304/304 [==============================] - 128s 420ms/step - loss: 0.5899 - acc: 0.7353 - val_loss: 1.3225 - val_acc: 0.5654\n",
            "Epoch 3/10\n",
            "304/304 [==============================] - 125s 412ms/step - loss: 0.1518 - acc: 0.9159 - val_loss: 1.1856 - val_acc: 0.6099\n",
            "Epoch 4/10\n",
            "304/304 [==============================] - 126s 414ms/step - loss: 0.0537 - acc: 0.9718 - val_loss: 1.1141 - val_acc: 0.6305\n",
            "Epoch 5/10\n",
            "304/304 [==============================] - 125s 410ms/step - loss: 0.0227 - acc: 0.9913 - val_loss: 1.1245 - val_acc: 0.6358\n",
            "Epoch 6/10\n",
            "304/304 [==============================] - 124s 409ms/step - loss: 0.0113 - acc: 0.9970 - val_loss: 1.1323 - val_acc: 0.6391\n",
            "13/13 [==============================] - 1s 38ms/step - loss: 1.1651 - acc: 0.6555\n",
            "Test Accuracy: 65.552700\n"
          ]
        }
      ]
    },
    {
      "cell_type": "markdown",
      "source": [
        "##4CNN1,(256,512,1024, 2048),(5) 3DO0.5 3GMP1D CONCAT D13 CW:"
      ],
      "metadata": {
        "id": "Nr6TkLvc3P-O"
      }
    },
    {
      "cell_type": "code",
      "source": [
        "import tensorflow as tf\n",
        "from tensorflow.keras import Input\n",
        "from keras.models import Sequential, Model\n",
        "from tensorflow.keras.callbacks import EarlyStopping\n",
        "from keras.layers.convolutional import Conv1D, MaxPooling1D\n",
        "from keras.layers.pooling import GlobalMaxPooling1D, AveragePooling1D, GlobalAveragePooling1D\n",
        "from keras.layers import Dense, Flatten, Embedding, BatchNormalization, Dropout, LSTM, Bidirectional, TimeDistributed, concatenate"
      ],
      "metadata": {
        "id": "EB_YIqBBc0Aw"
      },
      "execution_count": null,
      "outputs": []
    },
    {
      "cell_type": "markdown",
      "source": [
        "### patience 1: 61"
      ],
      "metadata": {
        "id": "kHZEN6ci3P-P"
      }
    },
    {
      "cell_type": "code",
      "source": [
        "# create the model\n",
        "model = Sequential()\n",
        "inputs = Input(shape=(max_length,))\n",
        "\n",
        "# channel 1\n",
        "embedding1 = Embedding(vocab_size, 1000, trainable=True)(inputs)\n",
        "conv1 = Conv1D(256, 5, activation='relu')(embedding1)\n",
        "drop1 = Dropout(0.5)(conv1)\n",
        "pool1 = GlobalMaxPooling1D()(drop1)\n",
        "# channel 2\n",
        "embedding2 = Embedding(vocab_size, 1000, trainable=True)(inputs)\n",
        "conv2 = Conv1D(512, 5, activation='relu')(embedding2)\n",
        "drop2 = Dropout(0.5)(conv2)\n",
        "pool2 = GlobalMaxPooling1D()(drop2)\n",
        "# channel 3\n",
        "embedding3 = Embedding(vocab_size, 1000, trainable=True)(inputs)\n",
        "conv3 = Conv1D(1024, 5, activation='relu')(embedding3)\n",
        "drop3 = Dropout(0.5)(conv3)\n",
        "pool3 = GlobalMaxPooling1D()(drop3)\n",
        "# channel 4\n",
        "embedding4 = Embedding(vocab_size, 1000, trainable=True)(inputs)\n",
        "conv4 = Conv1D(2048, 5, activation='relu')(embedding4)\n",
        "drop4 = Dropout(0.5)(conv4)\n",
        "pool4 = GlobalMaxPooling1D()(drop4)\n",
        "\n",
        "# merge\n",
        "merged = concatenate([pool1, pool2, pool3, pool4])\n",
        "\n",
        "# Fully connected \n",
        "outputs = Dense(num_classes, activation='softmax')(merged) #1 Dense better than 2 or three Denses\n",
        "\n",
        "model = Model(inputs=[inputs], outputs=outputs)\n",
        "model.summary()\n",
        "\n",
        "#put early stopping\n",
        "early_stopping = EarlyStopping(monitor='val_loss', patience=1, mode='min')\n",
        "\n",
        "#Your choices of activation='softmax' in the last layer and compile choice of loss='categorical_crossentropy' \n",
        "#are good for a model to predict multiple mutually-exclusive classes.\n",
        "\n",
        "#Learning Rate = 0.01, acc = 40%\n",
        "\n",
        "model.compile(loss='categorical_crossentropy',\n",
        "              optimizer='adam', \n",
        "              metrics=['acc'],)\n",
        "\n",
        "train_y = [x-1 for x in train['Human_CategoryID'].tolist()]\n",
        "\n",
        "class_weights = compute_class_weight(\n",
        "                                        class_weight = \"balanced\",\n",
        "                                        classes = np.unique(train_y),\n",
        "                                        y = train_y                                                   \n",
        "                                    )\n",
        "class_weights = dict(zip(np.unique(train_y), class_weights))\n",
        "\n",
        "history = model.fit(Xtrain, ytrain, \n",
        "                    epochs=10, batch_size=32, #32, 128 > 8 (worse), 16, 64, 256\n",
        "                    validation_split=0.2,\n",
        "                    callbacks=[early_stopping],\n",
        "                    class_weight=class_weights)\n",
        "\n",
        "loss, acc = model.evaluate(Xtest, ytest)\n",
        "print('Test Accuracy: %f' % (acc*100))"
      ],
      "metadata": {
        "colab": {
          "base_uri": "https://localhost:8080/"
        },
        "id": "wtEEFmtz3P-P",
        "outputId": "9caaf60b-1e12-4cd9-81d5-b89919efadae"
      },
      "execution_count": null,
      "outputs": [
        {
          "output_type": "stream",
          "name": "stdout",
          "text": [
            "Model: \"model_3\"\n",
            "__________________________________________________________________________________________________\n",
            " Layer (type)                   Output Shape         Param #     Connected to                     \n",
            "==================================================================================================\n",
            " input_4 (InputLayer)           [(None, 66)]         0           []                               \n",
            "                                                                                                  \n",
            " embedding_22 (Embedding)       (None, 66, 1000)     12609000    ['input_4[0][0]']                \n",
            "                                                                                                  \n",
            " embedding_23 (Embedding)       (None, 66, 1000)     12609000    ['input_4[0][0]']                \n",
            "                                                                                                  \n",
            " embedding_24 (Embedding)       (None, 66, 1000)     12609000    ['input_4[0][0]']                \n",
            "                                                                                                  \n",
            " embedding_25 (Embedding)       (None, 66, 1000)     12609000    ['input_4[0][0]']                \n",
            "                                                                                                  \n",
            " conv1d_22 (Conv1D)             (None, 62, 256)      1280256     ['embedding_22[0][0]']           \n",
            "                                                                                                  \n",
            " conv1d_23 (Conv1D)             (None, 62, 512)      2560512     ['embedding_23[0][0]']           \n",
            "                                                                                                  \n",
            " conv1d_24 (Conv1D)             (None, 62, 1024)     5121024     ['embedding_24[0][0]']           \n",
            "                                                                                                  \n",
            " conv1d_25 (Conv1D)             (None, 62, 2048)     10242048    ['embedding_25[0][0]']           \n",
            "                                                                                                  \n",
            " dropout_12 (Dropout)           (None, 62, 256)      0           ['conv1d_22[0][0]']              \n",
            "                                                                                                  \n",
            " dropout_13 (Dropout)           (None, 62, 512)      0           ['conv1d_23[0][0]']              \n",
            "                                                                                                  \n",
            " dropout_14 (Dropout)           (None, 62, 1024)     0           ['conv1d_24[0][0]']              \n",
            "                                                                                                  \n",
            " dropout_15 (Dropout)           (None, 62, 2048)     0           ['conv1d_25[0][0]']              \n",
            "                                                                                                  \n",
            " global_max_pooling1d_20 (Globa  (None, 256)         0           ['dropout_12[0][0]']             \n",
            " lMaxPooling1D)                                                                                   \n",
            "                                                                                                  \n",
            " global_max_pooling1d_21 (Globa  (None, 512)         0           ['dropout_13[0][0]']             \n",
            " lMaxPooling1D)                                                                                   \n",
            "                                                                                                  \n",
            " global_max_pooling1d_22 (Globa  (None, 1024)        0           ['dropout_14[0][0]']             \n",
            " lMaxPooling1D)                                                                                   \n",
            "                                                                                                  \n",
            " global_max_pooling1d_23 (Globa  (None, 2048)        0           ['dropout_15[0][0]']             \n",
            " lMaxPooling1D)                                                                                   \n",
            "                                                                                                  \n",
            " concatenate_3 (Concatenate)    (None, 3840)         0           ['global_max_pooling1d_20[0][0]',\n",
            "                                                                  'global_max_pooling1d_21[0][0]',\n",
            "                                                                  'global_max_pooling1d_22[0][0]',\n",
            "                                                                  'global_max_pooling1d_23[0][0]']\n",
            "                                                                                                  \n",
            " dense_20 (Dense)               (None, 13)           49933       ['concatenate_3[0][0]']          \n",
            "                                                                                                  \n",
            "==================================================================================================\n",
            "Total params: 69,689,773\n",
            "Trainable params: 69,689,773\n",
            "Non-trainable params: 0\n",
            "__________________________________________________________________________________________________\n",
            "Epoch 1/10\n",
            "304/304 [==============================] - 223s 730ms/step - loss: 2.1106 - acc: 0.3968 - val_loss: 1.6511 - val_acc: 0.4914\n",
            "Epoch 2/10\n",
            "304/304 [==============================] - 248s 816ms/step - loss: 0.6596 - acc: 0.7207 - val_loss: 1.2919 - val_acc: 0.5613\n",
            "Epoch 3/10\n",
            "304/304 [==============================] - 275s 904ms/step - loss: 0.1525 - acc: 0.9120 - val_loss: 1.1582 - val_acc: 0.6202\n",
            "Epoch 4/10\n",
            "304/304 [==============================] - 259s 853ms/step - loss: 0.0456 - acc: 0.9757 - val_loss: 1.1294 - val_acc: 0.6288\n",
            "Epoch 5/10\n",
            "304/304 [==============================] - 232s 765ms/step - loss: 0.0171 - acc: 0.9934 - val_loss: 1.1357 - val_acc: 0.6379\n",
            "13/13 [==============================] - 1s 69ms/step - loss: 1.2389 - acc: 0.6195\n",
            "Test Accuracy: 61.953729\n"
          ]
        }
      ]
    },
    {
      "cell_type": "markdown",
      "source": [
        "### patience 2: 61"
      ],
      "metadata": {
        "id": "vQzPQy863P-P"
      }
    },
    {
      "cell_type": "code",
      "source": [
        "# create the model\n",
        "model = Sequential()\n",
        "inputs = Input(shape=(max_length,))\n",
        "\n",
        "# channel 1\n",
        "embedding1 = Embedding(vocab_size, 1000, trainable=True)(inputs)\n",
        "conv1 = Conv1D(256, 5, activation='relu')(embedding1)\n",
        "drop1 = Dropout(0.5)(conv1)\n",
        "pool1 = GlobalMaxPooling1D()(drop1)\n",
        "# channel 2\n",
        "embedding2 = Embedding(vocab_size, 1000, trainable=True)(inputs)\n",
        "conv2 = Conv1D(512, 5, activation='relu')(embedding2)\n",
        "drop2 = Dropout(0.5)(conv2)\n",
        "pool2 = GlobalMaxPooling1D()(drop2)\n",
        "# channel 3\n",
        "embedding3 = Embedding(vocab_size, 1000, trainable=True)(inputs)\n",
        "conv3 = Conv1D(1024, 5, activation='relu')(embedding3)\n",
        "drop3 = Dropout(0.5)(conv3)\n",
        "pool3 = GlobalMaxPooling1D()(drop3)\n",
        "# channel 4\n",
        "embedding4 = Embedding(vocab_size, 1000, trainable=True)(inputs)\n",
        "conv4 = Conv1D(2048, 5, activation='relu')(embedding4)\n",
        "drop4 = Dropout(0.5)(conv4)\n",
        "pool4 = GlobalMaxPooling1D()(drop4)\n",
        "\n",
        "# merge\n",
        "merged = concatenate([pool1, pool2, pool3, pool4])\n",
        "\n",
        "# Fully connected \n",
        "outputs = Dense(num_classes, activation='softmax')(merged) #1 Dense better than 2 or three Denses\n",
        "\n",
        "model = Model(inputs=[inputs], outputs=outputs)\n",
        "model.summary()\n",
        "\n",
        "#put early stopping\n",
        "early_stopping = EarlyStopping(monitor='val_loss', patience=2, mode='min')\n",
        "\n",
        "#Your choices of activation='softmax' in the last layer and compile choice of loss='categorical_crossentropy' \n",
        "#are good for a model to predict multiple mutually-exclusive classes.\n",
        "\n",
        "#Learning Rate = 0.01, acc = 40%\n",
        "\n",
        "model.compile(loss='categorical_crossentropy',\n",
        "              optimizer='adam', \n",
        "              metrics=['acc'],)\n",
        "\n",
        "train_y = [x-1 for x in train['Human_CategoryID'].tolist()]\n",
        "\n",
        "class_weights = compute_class_weight(\n",
        "                                        class_weight = \"balanced\",\n",
        "                                        classes = np.unique(train_y),\n",
        "                                        y = train_y                                                   \n",
        "                                    )\n",
        "class_weights = dict(zip(np.unique(train_y), class_weights))\n",
        "\n",
        "history = model.fit(Xtrain, ytrain, \n",
        "                    epochs=10, batch_size=32, #32, 128 > 8 (worse), 16, 64, 256\n",
        "                    validation_split=0.2,\n",
        "                    callbacks=[early_stopping],\n",
        "                    class_weight=class_weights)\n",
        "\n",
        "loss, acc = model.evaluate(Xtest, ytest)\n",
        "print('Test Accuracy: %f' % (acc*100))"
      ],
      "metadata": {
        "colab": {
          "base_uri": "https://localhost:8080/"
        },
        "id": "cobsGWqqPB3e",
        "outputId": "9ee39e5e-e151-453a-cf93-012bb8f58d87"
      },
      "execution_count": null,
      "outputs": [
        {
          "output_type": "stream",
          "name": "stdout",
          "text": [
            "Model: \"model_7\"\n",
            "__________________________________________________________________________________________________\n",
            " Layer (type)                   Output Shape         Param #     Connected to                     \n",
            "==================================================================================================\n",
            " input_8 (InputLayer)           [(None, 66)]         0           []                               \n",
            "                                                                                                  \n",
            " embedding_36 (Embedding)       (None, 66, 1000)     12609000    ['input_8[0][0]']                \n",
            "                                                                                                  \n",
            " embedding_37 (Embedding)       (None, 66, 1000)     12609000    ['input_8[0][0]']                \n",
            "                                                                                                  \n",
            " embedding_38 (Embedding)       (None, 66, 1000)     12609000    ['input_8[0][0]']                \n",
            "                                                                                                  \n",
            " embedding_39 (Embedding)       (None, 66, 1000)     12609000    ['input_8[0][0]']                \n",
            "                                                                                                  \n",
            " conv1d_36 (Conv1D)             (None, 62, 256)      1280256     ['embedding_36[0][0]']           \n",
            "                                                                                                  \n",
            " conv1d_37 (Conv1D)             (None, 62, 512)      2560512     ['embedding_37[0][0]']           \n",
            "                                                                                                  \n",
            " conv1d_38 (Conv1D)             (None, 62, 1024)     5121024     ['embedding_38[0][0]']           \n",
            "                                                                                                  \n",
            " conv1d_39 (Conv1D)             (None, 62, 2048)     10242048    ['embedding_39[0][0]']           \n",
            "                                                                                                  \n",
            " dropout_26 (Dropout)           (None, 62, 256)      0           ['conv1d_36[0][0]']              \n",
            "                                                                                                  \n",
            " dropout_27 (Dropout)           (None, 62, 512)      0           ['conv1d_37[0][0]']              \n",
            "                                                                                                  \n",
            " dropout_28 (Dropout)           (None, 62, 1024)     0           ['conv1d_38[0][0]']              \n",
            "                                                                                                  \n",
            " dropout_29 (Dropout)           (None, 62, 2048)     0           ['conv1d_39[0][0]']              \n",
            "                                                                                                  \n",
            " global_max_pooling1d_34 (Globa  (None, 256)         0           ['dropout_26[0][0]']             \n",
            " lMaxPooling1D)                                                                                   \n",
            "                                                                                                  \n",
            " global_max_pooling1d_35 (Globa  (None, 512)         0           ['dropout_27[0][0]']             \n",
            " lMaxPooling1D)                                                                                   \n",
            "                                                                                                  \n",
            " global_max_pooling1d_36 (Globa  (None, 1024)        0           ['dropout_28[0][0]']             \n",
            " lMaxPooling1D)                                                                                   \n",
            "                                                                                                  \n",
            " global_max_pooling1d_37 (Globa  (None, 2048)        0           ['dropout_29[0][0]']             \n",
            " lMaxPooling1D)                                                                                   \n",
            "                                                                                                  \n",
            " concatenate_7 (Concatenate)    (None, 3840)         0           ['global_max_pooling1d_34[0][0]',\n",
            "                                                                  'global_max_pooling1d_35[0][0]',\n",
            "                                                                  'global_max_pooling1d_36[0][0]',\n",
            "                                                                  'global_max_pooling1d_37[0][0]']\n",
            "                                                                                                  \n",
            " dense_24 (Dense)               (None, 13)           49933       ['concatenate_7[0][0]']          \n",
            "                                                                                                  \n",
            "==================================================================================================\n",
            "Total params: 69,689,773\n",
            "Trainable params: 69,689,773\n",
            "Non-trainable params: 0\n",
            "__________________________________________________________________________________________________\n",
            "Epoch 1/10\n",
            "304/304 [==============================] - 226s 741ms/step - loss: 2.1012 - acc: 0.3905 - val_loss: 1.5374 - val_acc: 0.5016\n",
            "Epoch 2/10\n",
            "304/304 [==============================] - 247s 814ms/step - loss: 0.6196 - acc: 0.7205 - val_loss: 1.2538 - val_acc: 0.5897\n",
            "Epoch 3/10\n",
            "304/304 [==============================] - 269s 884ms/step - loss: 0.1551 - acc: 0.9117 - val_loss: 1.2576 - val_acc: 0.5852\n",
            "Epoch 4/10\n",
            "304/304 [==============================] - 243s 800ms/step - loss: 0.0497 - acc: 0.9722 - val_loss: 1.1453 - val_acc: 0.6206\n",
            "Epoch 5/10\n",
            "304/304 [==============================] - 223s 732ms/step - loss: 0.0173 - acc: 0.9938 - val_loss: 1.1415 - val_acc: 0.6239\n",
            "Epoch 6/10\n",
            "304/304 [==============================] - 222s 729ms/step - loss: 0.0125 - acc: 0.9945 - val_loss: 1.1787 - val_acc: 0.6263\n",
            "Epoch 7/10\n",
            "304/304 [==============================] - 234s 769ms/step - loss: 0.0073 - acc: 0.9987 - val_loss: 1.2516 - val_acc: 0.6292\n",
            "13/13 [==============================] - 1s 70ms/step - loss: 1.3331 - acc: 0.6170\n",
            "Test Accuracy: 61.696661\n"
          ]
        }
      ]
    },
    {
      "cell_type": "markdown",
      "source": [
        "##4CNN2 DO0.5 GMP2D F  D13:60\n",
        "inspiration: \n",
        "\n",
        "https://www.kaggle.com/code/yekenot/2dcnn-textclassifier/notebook\n",
        "\n",
        "[Text CNN] https://towardsdatascience.com/nlp-learning-series-part-3-attention-cnn-and-what-not-for-text-classification-4313930ed566"
      ],
      "metadata": {
        "id": "AIM8bUOW_ZUl"
      }
    },
    {
      "cell_type": "code",
      "source": [
        "from sklearn.metrics import f1_score\n",
        "from sklearn.model_selection import train_test_split\n",
        "\n",
        "from keras.models import Model\n",
        "\n",
        "from keras.callbacks import Callback, EarlyStopping\n",
        "from keras.preprocessing import text, sequence\n",
        "\n",
        "from keras.layers.pooling import GlobalMaxPooling2D\n",
        "from keras.layers import Input, Embedding, Dense, Conv2D, MaxPool2D, concatenate\n",
        "from keras.layers import Reshape, Flatten, Concatenate, Dropout, SpatialDropout1D"
      ],
      "metadata": {
        "id": "sjLbq_ad_ZUm"
      },
      "execution_count": 199,
      "outputs": []
    },
    {
      "cell_type": "code",
      "source": [
        "train.head(1)"
      ],
      "metadata": {
        "colab": {
          "base_uri": "https://localhost:8080/",
          "height": 284
        },
        "outputId": "a003dfa0-f69c-43aa-f157-313574793741",
        "id": "s3jvLFBs_ZUm"
      },
      "execution_count": 200,
      "outputs": [
        {
          "output_type": "execute_result",
          "data": {
            "text/plain": [
              "   Unnamed: 0                                       TagFile_Path  \\\n",
              "0           0  SocialFSI_ZE-KTB-Feb-Apr2022_Sampling2244_2022...   \n",
              "\n",
              "                                             TagFile SV_CustomerName  \\\n",
              "0  SocialFSI_ZE-KTB-Feb-Apr2022_Sampling1400_2022...  Krungthai_NEXT   \n",
              "\n",
              "                                        Main keyword      Channel SubChannel  \\\n",
              "0  mobile banking+กสิกร,mobile banking+ธนาคารกสิก...  SocialMedia      forum   \n",
              "\n",
              "                        lfdn verbatim_id   sentence_id  \\\n",
              "0  pantip.com_topic_41249919  Q2207_1549  Q2207_1549_1   \n",
              "\n",
              "                                       Text_original  \\\n",
              "0  สอบถามเรื่องการอายัดบัตรเดบิตของกสิกรค่ะ พอดีว...   \n",
              "\n",
              "                                                Text  \\\n",
              "0  สอบถามเรื่องการอายัดบัตรเดบิตของกสิกรค่ะ พอดีว...   \n",
              "\n",
              "                             Human_Category  Human_CategoryID Human_Sentiment  \\\n",
              "0  Product and Service, Usage and Condition                 8         neutral   \n",
              "\n",
              "  Human_SentimentID                                      Text_ws_local  \n",
              "0                 o  สอบถาม|เรื่อง|การ|อายัด|บัตรเดบิต|ของ|kbank|ค่...  "
            ],
            "text/html": [
              "\n",
              "  <div id=\"df-0d8516b5-2932-4cd6-8238-d54084beb9a2\">\n",
              "    <div class=\"colab-df-container\">\n",
              "      <div>\n",
              "<style scoped>\n",
              "    .dataframe tbody tr th:only-of-type {\n",
              "        vertical-align: middle;\n",
              "    }\n",
              "\n",
              "    .dataframe tbody tr th {\n",
              "        vertical-align: top;\n",
              "    }\n",
              "\n",
              "    .dataframe thead th {\n",
              "        text-align: right;\n",
              "    }\n",
              "</style>\n",
              "<table border=\"1\" class=\"dataframe\">\n",
              "  <thead>\n",
              "    <tr style=\"text-align: right;\">\n",
              "      <th></th>\n",
              "      <th>Unnamed: 0</th>\n",
              "      <th>TagFile_Path</th>\n",
              "      <th>TagFile</th>\n",
              "      <th>SV_CustomerName</th>\n",
              "      <th>Main keyword</th>\n",
              "      <th>Channel</th>\n",
              "      <th>SubChannel</th>\n",
              "      <th>lfdn</th>\n",
              "      <th>verbatim_id</th>\n",
              "      <th>sentence_id</th>\n",
              "      <th>Text_original</th>\n",
              "      <th>Text</th>\n",
              "      <th>Human_Category</th>\n",
              "      <th>Human_CategoryID</th>\n",
              "      <th>Human_Sentiment</th>\n",
              "      <th>Human_SentimentID</th>\n",
              "      <th>Text_ws_local</th>\n",
              "    </tr>\n",
              "  </thead>\n",
              "  <tbody>\n",
              "    <tr>\n",
              "      <th>0</th>\n",
              "      <td>0</td>\n",
              "      <td>SocialFSI_ZE-KTB-Feb-Apr2022_Sampling2244_2022...</td>\n",
              "      <td>SocialFSI_ZE-KTB-Feb-Apr2022_Sampling1400_2022...</td>\n",
              "      <td>Krungthai_NEXT</td>\n",
              "      <td>mobile banking+กสิกร,mobile banking+ธนาคารกสิก...</td>\n",
              "      <td>SocialMedia</td>\n",
              "      <td>forum</td>\n",
              "      <td>pantip.com_topic_41249919</td>\n",
              "      <td>Q2207_1549</td>\n",
              "      <td>Q2207_1549_1</td>\n",
              "      <td>สอบถามเรื่องการอายัดบัตรเดบิตของกสิกรค่ะ พอดีว...</td>\n",
              "      <td>สอบถามเรื่องการอายัดบัตรเดบิตของกสิกรค่ะ พอดีว...</td>\n",
              "      <td>Product and Service, Usage and Condition</td>\n",
              "      <td>8</td>\n",
              "      <td>neutral</td>\n",
              "      <td>o</td>\n",
              "      <td>สอบถาม|เรื่อง|การ|อายัด|บัตรเดบิต|ของ|kbank|ค่...</td>\n",
              "    </tr>\n",
              "  </tbody>\n",
              "</table>\n",
              "</div>\n",
              "      <button class=\"colab-df-convert\" onclick=\"convertToInteractive('df-0d8516b5-2932-4cd6-8238-d54084beb9a2')\"\n",
              "              title=\"Convert this dataframe to an interactive table.\"\n",
              "              style=\"display:none;\">\n",
              "        \n",
              "  <svg xmlns=\"http://www.w3.org/2000/svg\" height=\"24px\"viewBox=\"0 0 24 24\"\n",
              "       width=\"24px\">\n",
              "    <path d=\"M0 0h24v24H0V0z\" fill=\"none\"/>\n",
              "    <path d=\"M18.56 5.44l.94 2.06.94-2.06 2.06-.94-2.06-.94-.94-2.06-.94 2.06-2.06.94zm-11 1L8.5 8.5l.94-2.06 2.06-.94-2.06-.94L8.5 2.5l-.94 2.06-2.06.94zm10 10l.94 2.06.94-2.06 2.06-.94-2.06-.94-.94-2.06-.94 2.06-2.06.94z\"/><path d=\"M17.41 7.96l-1.37-1.37c-.4-.4-.92-.59-1.43-.59-.52 0-1.04.2-1.43.59L10.3 9.45l-7.72 7.72c-.78.78-.78 2.05 0 2.83L4 21.41c.39.39.9.59 1.41.59.51 0 1.02-.2 1.41-.59l7.78-7.78 2.81-2.81c.8-.78.8-2.07 0-2.86zM5.41 20L4 18.59l7.72-7.72 1.47 1.35L5.41 20z\"/>\n",
              "  </svg>\n",
              "      </button>\n",
              "      \n",
              "  <style>\n",
              "    .colab-df-container {\n",
              "      display:flex;\n",
              "      flex-wrap:wrap;\n",
              "      gap: 12px;\n",
              "    }\n",
              "\n",
              "    .colab-df-convert {\n",
              "      background-color: #E8F0FE;\n",
              "      border: none;\n",
              "      border-radius: 50%;\n",
              "      cursor: pointer;\n",
              "      display: none;\n",
              "      fill: #1967D2;\n",
              "      height: 32px;\n",
              "      padding: 0 0 0 0;\n",
              "      width: 32px;\n",
              "    }\n",
              "\n",
              "    .colab-df-convert:hover {\n",
              "      background-color: #E2EBFA;\n",
              "      box-shadow: 0px 1px 2px rgba(60, 64, 67, 0.3), 0px 1px 3px 1px rgba(60, 64, 67, 0.15);\n",
              "      fill: #174EA6;\n",
              "    }\n",
              "\n",
              "    [theme=dark] .colab-df-convert {\n",
              "      background-color: #3B4455;\n",
              "      fill: #D2E3FC;\n",
              "    }\n",
              "\n",
              "    [theme=dark] .colab-df-convert:hover {\n",
              "      background-color: #434B5C;\n",
              "      box-shadow: 0px 1px 3px 1px rgba(0, 0, 0, 0.15);\n",
              "      filter: drop-shadow(0px 1px 2px rgba(0, 0, 0, 0.3));\n",
              "      fill: #FFFFFF;\n",
              "    }\n",
              "  </style>\n",
              "\n",
              "      <script>\n",
              "        const buttonEl =\n",
              "          document.querySelector('#df-0d8516b5-2932-4cd6-8238-d54084beb9a2 button.colab-df-convert');\n",
              "        buttonEl.style.display =\n",
              "          google.colab.kernel.accessAllowed ? 'block' : 'none';\n",
              "\n",
              "        async function convertToInteractive(key) {\n",
              "          const element = document.querySelector('#df-0d8516b5-2932-4cd6-8238-d54084beb9a2');\n",
              "          const dataTable =\n",
              "            await google.colab.kernel.invokeFunction('convertToInteractive',\n",
              "                                                     [key], {});\n",
              "          if (!dataTable) return;\n",
              "\n",
              "          const docLinkHtml = 'Like what you see? Visit the ' +\n",
              "            '<a target=\"_blank\" href=https://colab.research.google.com/notebooks/data_table.ipynb>data table notebook</a>'\n",
              "            + ' to learn more about interactive tables.';\n",
              "          element.innerHTML = '';\n",
              "          dataTable['output_type'] = 'display_data';\n",
              "          await google.colab.output.renderOutput(dataTable, element);\n",
              "          const docLink = document.createElement('div');\n",
              "          docLink.innerHTML = docLinkHtml;\n",
              "          element.appendChild(docLink);\n",
              "        }\n",
              "      </script>\n",
              "    </div>\n",
              "  </div>\n",
              "  "
            ]
          },
          "metadata": {},
          "execution_count": 200
        }
      ]
    },
    {
      "cell_type": "code",
      "source": [
        "class F1Evaluation(Callback):\n",
        "    def __init__(self, validation_data=(), interval=1):\n",
        "        super(Callback, self).__init__()\n",
        "\n",
        "        self.interval = interval\n",
        "        self.X_val, self.y_val = validation_data\n",
        "\n",
        "    def on_epoch_end(self, epoch, logs={}):\n",
        "        if epoch % self.interval == 0:\n",
        "            y_pred = self.model.predict(self.X_val, verbose=0)\n",
        "            y_pred = (y_pred > threshold).astype(int)\n",
        "            score = f1_score(self.y_val, y_pred, average='weighted', zero_division=0)\n",
        "            print(\"\\n F1 Score - epoch: %d - score: %.6f \\n\" % (epoch+1, score))"
      ],
      "metadata": {
        "id": "jiqjEkq0_ZUn"
      },
      "execution_count": 201,
      "outputs": []
    },
    {
      "cell_type": "code",
      "source": [
        "#turn pandas.core.series.Series into numpy.ndarray\n",
        "X_train = train[\"Text_ws_local\"].fillna(\"fillna\").values\n",
        "y_train = train[\"Human_CategoryID\"].values\n",
        "X_test = test[\"Text_ws_local\"].fillna(\"fillna\").values\n",
        "y_test = test[\"Human_CategoryID\"].values\n",
        "\n",
        "max_features = 40000\n",
        "maxlen = 70\n",
        "embed_size = 300\n",
        "\n",
        "threshold = 0.35\n",
        "\n",
        "tokenizer = text.Tokenizer(num_words=max_features)\n",
        "tokenizer.fit_on_texts(list(X_train) + list(X_test))\n",
        "X_train = tokenizer.texts_to_sequences(X_train)\n",
        "X_test = tokenizer.texts_to_sequences(X_test)\n",
        "x_train = sequence.pad_sequences(X_train, maxlen=maxlen)\n",
        "x_test = sequence.pad_sequences(X_test, maxlen=maxlen)\n",
        "\n",
        "#multi-class tasks needs one hot for y.\n",
        "y_train = to_categorical(y_train-1, num_classes)\n",
        "y_test = to_categorical(y_test-1, num_classes)\n",
        "\n",
        "train_y = [x-1 for x in train['Human_CategoryID'].tolist()]"
      ],
      "metadata": {
        "id": "dSKtnUYN_ZUn"
      },
      "execution_count": 202,
      "outputs": []
    },
    {
      "cell_type": "code",
      "source": [
        "filter_sizes = [1,2,3,5]\n",
        "num_filters = 42\n",
        "\n",
        "inp = Input(shape=(maxlen, ))\n",
        "x = Embedding(max_features, embed_size, trainable=True)(inp)\n",
        "x = Reshape((maxlen, embed_size, 1))(x)\n",
        "\n",
        "conv_0 = Conv2D(num_filters, kernel_size=(filter_sizes[0], embed_size),\n",
        "                              kernel_initializer='he_normal', activation='tanh')(x)\n",
        "conv_1 = Conv2D(num_filters, kernel_size=(filter_sizes[1], embed_size),\n",
        "                              kernel_initializer='he_normal', activation='tanh')(x)\n",
        "conv_2 = Conv2D(num_filters, kernel_size=(filter_sizes[2], embed_size), \n",
        "                              kernel_initializer='he_normal', activation='tanh')(x)\n",
        "conv_3 = Conv2D(num_filters, kernel_size=(filter_sizes[3], embed_size),\n",
        "                              kernel_initializer='he_normal', activation='tanh')(x)\n",
        "\n",
        "drop0 = Dropout(0.5)(conv_0)\n",
        "drop1 = Dropout(0.5)(conv_1)\n",
        "drop2 = Dropout(0.5)(conv_2)\n",
        "drop3 = Dropout(0.5)(conv_0)\n",
        "\n",
        "maxpool_0 = GlobalMaxPooling2D()(drop0)\n",
        "maxpool_1 = GlobalMaxPooling2D()(drop1)\n",
        "maxpool_2 = GlobalMaxPooling2D()(drop2)\n",
        "maxpool_3 = GlobalMaxPooling2D()(drop3)\n",
        "    \n",
        "z = concatenate([maxpool_0, maxpool_1, maxpool_2, maxpool_3])   \n",
        "z = Flatten()(z)\n",
        "# z = Dropout(0.5)(z) #change to 0.5\n",
        "    \n",
        "outp = Dense(num_classes, activation=\"softmax\")(z)\n",
        "\n",
        "model = Model(inputs=inp, outputs=outp)\n",
        "model.compile(loss='categorical_crossentropy',\n",
        "              optimizer='adam',\n",
        "              metrics=['accuracy'])"
      ],
      "metadata": {
        "id": "Woy5yasI_ZUn"
      },
      "execution_count": 203,
      "outputs": []
    },
    {
      "cell_type": "code",
      "source": [
        "batch_size = 256\n",
        "epochs = 100\n",
        "\n",
        "X_tra, X_val, y_tra, y_val = train_test_split(x_train, y_train, train_size=0.8,\n",
        "                                              random_state=233)\n",
        "F1_Score = F1Evaluation(validation_data=(X_val, y_val), interval=1)\n",
        "\n",
        "early_stopping = EarlyStopping(monitor='val_loss', patience=2, mode='min')\n",
        "\n",
        "hist = model.fit(X_tra, y_tra, batch_size=batch_size, epochs=epochs,\n",
        "                 validation_data=(X_val, y_val),\n",
        "                 callbacks=[F1_Score, early_stopping], verbose=2)\n",
        "\n",
        "loss, acc = model.evaluate(x_test, y_test)\n",
        "print('Test Accuracy: %f' % (acc*100))\n",
        "\n",
        "Xtest = X_test\n",
        "ytest = y_test"
      ],
      "metadata": {
        "colab": {
          "base_uri": "https://localhost:8080/"
        },
        "outputId": "2d64b162-160b-43fa-a172-9ca9d3decb45",
        "id": "uxjHPS8I_ZUn"
      },
      "execution_count": 204,
      "outputs": [
        {
          "output_type": "stream",
          "name": "stdout",
          "text": [
            "Epoch 1/100\n",
            "\n",
            " F1 Score - epoch: 1 - score: 0.127497 \n",
            "\n",
            "38/38 - 6s - loss: 2.0388 - accuracy: 0.3321 - val_loss: 1.8926 - val_accuracy: 0.4658 - 6s/epoch - 146ms/step\n",
            "Epoch 2/100\n",
            "\n",
            " F1 Score - epoch: 2 - score: 0.327942 \n",
            "\n",
            "38/38 - 4s - loss: 1.5480 - accuracy: 0.5280 - val_loss: 1.6132 - val_accuracy: 0.5642 - 4s/epoch - 111ms/step\n",
            "Epoch 3/100\n",
            "\n",
            " F1 Score - epoch: 3 - score: 0.444344 \n",
            "\n",
            "38/38 - 4s - loss: 1.2558 - accuracy: 0.6177 - val_loss: 1.4312 - val_accuracy: 0.6095 - 4s/epoch - 111ms/step\n",
            "Epoch 4/100\n",
            "\n",
            " F1 Score - epoch: 4 - score: 0.499448 \n",
            "\n",
            "38/38 - 4s - loss: 1.0555 - accuracy: 0.6760 - val_loss: 1.3510 - val_accuracy: 0.6210 - 4s/epoch - 111ms/step\n",
            "Epoch 5/100\n",
            "\n",
            " F1 Score - epoch: 5 - score: 0.517545 \n",
            "\n",
            "38/38 - 4s - loss: 0.8956 - accuracy: 0.7222 - val_loss: 1.2958 - val_accuracy: 0.6259 - 4s/epoch - 111ms/step\n",
            "Epoch 6/100\n",
            "\n",
            " F1 Score - epoch: 6 - score: 0.538169 \n",
            "\n",
            "38/38 - 4s - loss: 0.7472 - accuracy: 0.7719 - val_loss: 1.2635 - val_accuracy: 0.6395 - 4s/epoch - 111ms/step\n",
            "Epoch 7/100\n",
            "\n",
            " F1 Score - epoch: 7 - score: 0.545160 \n",
            "\n",
            "38/38 - 4s - loss: 0.6009 - accuracy: 0.8244 - val_loss: 1.2392 - val_accuracy: 0.6350 - 4s/epoch - 111ms/step\n",
            "Epoch 8/100\n",
            "\n",
            " F1 Score - epoch: 8 - score: 0.560278 \n",
            "\n",
            "38/38 - 4s - loss: 0.4833 - accuracy: 0.8637 - val_loss: 1.2225 - val_accuracy: 0.6383 - 4s/epoch - 113ms/step\n",
            "Epoch 9/100\n",
            "\n",
            " F1 Score - epoch: 9 - score: 0.578334 \n",
            "\n",
            "38/38 - 4s - loss: 0.3793 - accuracy: 0.9017 - val_loss: 1.2025 - val_accuracy: 0.6243 - 4s/epoch - 114ms/step\n",
            "Epoch 10/100\n",
            "\n",
            " F1 Score - epoch: 10 - score: 0.577828 \n",
            "\n",
            "38/38 - 4s - loss: 0.3033 - accuracy: 0.9244 - val_loss: 1.2186 - val_accuracy: 0.6222 - 4s/epoch - 113ms/step\n",
            "Epoch 11/100\n",
            "\n",
            " F1 Score - epoch: 11 - score: 0.586998 \n",
            "\n",
            "38/38 - 4s - loss: 0.2434 - accuracy: 0.9459 - val_loss: 1.2204 - val_accuracy: 0.6198 - 4s/epoch - 112ms/step\n",
            "13/13 [==============================] - 0s 3ms/step - loss: 1.3118 - accuracy: 0.6015\n",
            "Test Accuracy: 60.154241\n"
          ]
        }
      ]
    },
    {
      "cell_type": "markdown",
      "source": [
        "##4CNN2 MP2D F DO0.5 D13 (from kaggle): 62\n",
        "inspiration: https://www.kaggle.com/code/yekenot/2dcnn-textclassifier/notebook"
      ],
      "metadata": {
        "id": "jv8cYo17warb"
      }
    },
    {
      "cell_type": "code",
      "source": [
        "from sklearn.metrics import f1_score\n",
        "from sklearn.model_selection import train_test_split\n",
        "\n",
        "from keras.models import Model\n",
        "\n",
        "from keras.callbacks import Callback, EarlyStopping\n",
        "from keras.preprocessing import text, sequence\n",
        "\n",
        "from keras.layers import Input, Embedding, Dense, Conv2D, MaxPool2D, concatenate\n",
        "from keras.layers import Reshape, Flatten, Concatenate, Dropout, SpatialDropout1D"
      ],
      "metadata": {
        "id": "m36f18etxRrC"
      },
      "execution_count": 261,
      "outputs": []
    },
    {
      "cell_type": "code",
      "source": [
        "train.head(1)"
      ],
      "metadata": {
        "colab": {
          "base_uri": "https://localhost:8080/",
          "height": 284
        },
        "id": "YcgVUp9fxze8",
        "outputId": "55102e0b-e400-4874-a05b-b1796f348756"
      },
      "execution_count": 262,
      "outputs": [
        {
          "output_type": "execute_result",
          "data": {
            "text/plain": [
              "   Unnamed: 0                                       TagFile_Path  \\\n",
              "0           0  SocialFSI_ZE-KTB-Feb-Apr2022_Sampling2244_2022...   \n",
              "\n",
              "                                             TagFile SV_CustomerName  \\\n",
              "0  SocialFSI_ZE-KTB-Feb-Apr2022_Sampling1400_2022...  Krungthai_NEXT   \n",
              "\n",
              "                                        Main keyword      Channel SubChannel  \\\n",
              "0  mobile banking+กสิกร,mobile banking+ธนาคารกสิก...  SocialMedia      forum   \n",
              "\n",
              "                        lfdn verbatim_id   sentence_id  \\\n",
              "0  pantip.com_topic_41249919  Q2207_1549  Q2207_1549_1   \n",
              "\n",
              "                                       Text_original  \\\n",
              "0  สอบถามเรื่องการอายัดบัตรเดบิตของกสิกรค่ะ พอดีว...   \n",
              "\n",
              "                                                Text  \\\n",
              "0  สอบถามเรื่องการอายัดบัตรเดบิตของกสิกรค่ะ พอดีว...   \n",
              "\n",
              "                             Human_Category  Human_CategoryID Human_Sentiment  \\\n",
              "0  Product and Service, Usage and Condition                 8         neutral   \n",
              "\n",
              "  Human_SentimentID                                      Text_ws_local  \n",
              "0                 o  สอบถาม|เรื่อง|การ|อายัด|บัตรเดบิต|ของ|kbank|ค่...  "
            ],
            "text/html": [
              "\n",
              "  <div id=\"df-037d7929-855f-4e8a-bab0-4f78ffadc309\">\n",
              "    <div class=\"colab-df-container\">\n",
              "      <div>\n",
              "<style scoped>\n",
              "    .dataframe tbody tr th:only-of-type {\n",
              "        vertical-align: middle;\n",
              "    }\n",
              "\n",
              "    .dataframe tbody tr th {\n",
              "        vertical-align: top;\n",
              "    }\n",
              "\n",
              "    .dataframe thead th {\n",
              "        text-align: right;\n",
              "    }\n",
              "</style>\n",
              "<table border=\"1\" class=\"dataframe\">\n",
              "  <thead>\n",
              "    <tr style=\"text-align: right;\">\n",
              "      <th></th>\n",
              "      <th>Unnamed: 0</th>\n",
              "      <th>TagFile_Path</th>\n",
              "      <th>TagFile</th>\n",
              "      <th>SV_CustomerName</th>\n",
              "      <th>Main keyword</th>\n",
              "      <th>Channel</th>\n",
              "      <th>SubChannel</th>\n",
              "      <th>lfdn</th>\n",
              "      <th>verbatim_id</th>\n",
              "      <th>sentence_id</th>\n",
              "      <th>Text_original</th>\n",
              "      <th>Text</th>\n",
              "      <th>Human_Category</th>\n",
              "      <th>Human_CategoryID</th>\n",
              "      <th>Human_Sentiment</th>\n",
              "      <th>Human_SentimentID</th>\n",
              "      <th>Text_ws_local</th>\n",
              "    </tr>\n",
              "  </thead>\n",
              "  <tbody>\n",
              "    <tr>\n",
              "      <th>0</th>\n",
              "      <td>0</td>\n",
              "      <td>SocialFSI_ZE-KTB-Feb-Apr2022_Sampling2244_2022...</td>\n",
              "      <td>SocialFSI_ZE-KTB-Feb-Apr2022_Sampling1400_2022...</td>\n",
              "      <td>Krungthai_NEXT</td>\n",
              "      <td>mobile banking+กสิกร,mobile banking+ธนาคารกสิก...</td>\n",
              "      <td>SocialMedia</td>\n",
              "      <td>forum</td>\n",
              "      <td>pantip.com_topic_41249919</td>\n",
              "      <td>Q2207_1549</td>\n",
              "      <td>Q2207_1549_1</td>\n",
              "      <td>สอบถามเรื่องการอายัดบัตรเดบิตของกสิกรค่ะ พอดีว...</td>\n",
              "      <td>สอบถามเรื่องการอายัดบัตรเดบิตของกสิกรค่ะ พอดีว...</td>\n",
              "      <td>Product and Service, Usage and Condition</td>\n",
              "      <td>8</td>\n",
              "      <td>neutral</td>\n",
              "      <td>o</td>\n",
              "      <td>สอบถาม|เรื่อง|การ|อายัด|บัตรเดบิต|ของ|kbank|ค่...</td>\n",
              "    </tr>\n",
              "  </tbody>\n",
              "</table>\n",
              "</div>\n",
              "      <button class=\"colab-df-convert\" onclick=\"convertToInteractive('df-037d7929-855f-4e8a-bab0-4f78ffadc309')\"\n",
              "              title=\"Convert this dataframe to an interactive table.\"\n",
              "              style=\"display:none;\">\n",
              "        \n",
              "  <svg xmlns=\"http://www.w3.org/2000/svg\" height=\"24px\"viewBox=\"0 0 24 24\"\n",
              "       width=\"24px\">\n",
              "    <path d=\"M0 0h24v24H0V0z\" fill=\"none\"/>\n",
              "    <path d=\"M18.56 5.44l.94 2.06.94-2.06 2.06-.94-2.06-.94-.94-2.06-.94 2.06-2.06.94zm-11 1L8.5 8.5l.94-2.06 2.06-.94-2.06-.94L8.5 2.5l-.94 2.06-2.06.94zm10 10l.94 2.06.94-2.06 2.06-.94-2.06-.94-.94-2.06-.94 2.06-2.06.94z\"/><path d=\"M17.41 7.96l-1.37-1.37c-.4-.4-.92-.59-1.43-.59-.52 0-1.04.2-1.43.59L10.3 9.45l-7.72 7.72c-.78.78-.78 2.05 0 2.83L4 21.41c.39.39.9.59 1.41.59.51 0 1.02-.2 1.41-.59l7.78-7.78 2.81-2.81c.8-.78.8-2.07 0-2.86zM5.41 20L4 18.59l7.72-7.72 1.47 1.35L5.41 20z\"/>\n",
              "  </svg>\n",
              "      </button>\n",
              "      \n",
              "  <style>\n",
              "    .colab-df-container {\n",
              "      display:flex;\n",
              "      flex-wrap:wrap;\n",
              "      gap: 12px;\n",
              "    }\n",
              "\n",
              "    .colab-df-convert {\n",
              "      background-color: #E8F0FE;\n",
              "      border: none;\n",
              "      border-radius: 50%;\n",
              "      cursor: pointer;\n",
              "      display: none;\n",
              "      fill: #1967D2;\n",
              "      height: 32px;\n",
              "      padding: 0 0 0 0;\n",
              "      width: 32px;\n",
              "    }\n",
              "\n",
              "    .colab-df-convert:hover {\n",
              "      background-color: #E2EBFA;\n",
              "      box-shadow: 0px 1px 2px rgba(60, 64, 67, 0.3), 0px 1px 3px 1px rgba(60, 64, 67, 0.15);\n",
              "      fill: #174EA6;\n",
              "    }\n",
              "\n",
              "    [theme=dark] .colab-df-convert {\n",
              "      background-color: #3B4455;\n",
              "      fill: #D2E3FC;\n",
              "    }\n",
              "\n",
              "    [theme=dark] .colab-df-convert:hover {\n",
              "      background-color: #434B5C;\n",
              "      box-shadow: 0px 1px 3px 1px rgba(0, 0, 0, 0.15);\n",
              "      filter: drop-shadow(0px 1px 2px rgba(0, 0, 0, 0.3));\n",
              "      fill: #FFFFFF;\n",
              "    }\n",
              "  </style>\n",
              "\n",
              "      <script>\n",
              "        const buttonEl =\n",
              "          document.querySelector('#df-037d7929-855f-4e8a-bab0-4f78ffadc309 button.colab-df-convert');\n",
              "        buttonEl.style.display =\n",
              "          google.colab.kernel.accessAllowed ? 'block' : 'none';\n",
              "\n",
              "        async function convertToInteractive(key) {\n",
              "          const element = document.querySelector('#df-037d7929-855f-4e8a-bab0-4f78ffadc309');\n",
              "          const dataTable =\n",
              "            await google.colab.kernel.invokeFunction('convertToInteractive',\n",
              "                                                     [key], {});\n",
              "          if (!dataTable) return;\n",
              "\n",
              "          const docLinkHtml = 'Like what you see? Visit the ' +\n",
              "            '<a target=\"_blank\" href=https://colab.research.google.com/notebooks/data_table.ipynb>data table notebook</a>'\n",
              "            + ' to learn more about interactive tables.';\n",
              "          element.innerHTML = '';\n",
              "          dataTable['output_type'] = 'display_data';\n",
              "          await google.colab.output.renderOutput(dataTable, element);\n",
              "          const docLink = document.createElement('div');\n",
              "          docLink.innerHTML = docLinkHtml;\n",
              "          element.appendChild(docLink);\n",
              "        }\n",
              "      </script>\n",
              "    </div>\n",
              "  </div>\n",
              "  "
            ]
          },
          "metadata": {},
          "execution_count": 262
        }
      ]
    },
    {
      "cell_type": "code",
      "source": [
        "class F1Evaluation(Callback):\n",
        "    def __init__(self, validation_data=(), interval=1):\n",
        "        super(Callback, self).__init__()\n",
        "\n",
        "        self.interval = interval\n",
        "        self.X_val, self.y_val = validation_data\n",
        "\n",
        "    def on_epoch_end(self, epoch, logs={}):\n",
        "        if epoch % self.interval == 0:\n",
        "            y_pred = self.model.predict(self.X_val, verbose=0)\n",
        "            y_pred = (y_pred > threshold).astype(int)\n",
        "            score = f1_score(self.y_val, y_pred, average='weighted', zero_division=0)\n",
        "            print(\"\\n F1 Score - epoch: %d - score: %.6f \\n\" % (epoch+1, score))"
      ],
      "metadata": {
        "id": "-dFjSkbo7xYV"
      },
      "execution_count": 267,
      "outputs": []
    },
    {
      "cell_type": "code",
      "source": [
        "#turn pandas.core.series.Series into numpy.ndarray\n",
        "X_train = train[\"Text_ws_local\"].fillna(\"fillna\").values\n",
        "y_train = train[\"Human_CategoryID\"].values\n",
        "X_test = test[\"Text_ws_local\"].fillna(\"fillna\").values\n",
        "y_test = test[\"Human_CategoryID\"].values\n",
        "\n",
        "tokenizer = text.Tokenizer(num_words=max_features)\n",
        "tokenizer.fit_on_texts(list(X_train) + list(X_test))\n",
        "X_train = tokenizer.texts_to_sequences(X_train)\n",
        "X_test = tokenizer.texts_to_sequences(X_test)\n",
        "x_train = sequence.pad_sequences(X_train, maxlen=maxlen)\n",
        "x_test = sequence.pad_sequences(X_test, maxlen=maxlen)\n",
        "\n",
        "#multi-class tasks needs one hot for y.\n",
        "y_train = to_categorical(y_train-1, num_classes)\n",
        "y_test = to_categorical(y_test-1, num_classes)\n",
        "\n",
        "train_y = [x-1 for x in train['Human_CategoryID'].tolist()]"
      ],
      "metadata": {
        "id": "DbfMuI5cxtzo"
      },
      "execution_count": 268,
      "outputs": []
    },
    {
      "cell_type": "code",
      "source": [
        "max_features = vocab_size\n",
        "maxlen = max_length\n",
        "embed_size = 1000\n",
        "threshold = 0.35\n",
        "\n",
        "filter_sizes = [1,2,3,5]\n",
        "num_filters = 42\n",
        "\n",
        "inp = Input(shape=(maxlen, ))\n",
        "x = Embedding(max_features, embed_size, trainable=True)(inp)\n",
        "x = Reshape((maxlen, embed_size, 1))(x)\n",
        "\n",
        "conv_0 = Conv2D(num_filters, kernel_size=(filter_sizes[0], embed_size),\n",
        "                              kernel_initializer='he_normal', activation='relu')(x)\n",
        "conv_1 = Conv2D(num_filters, kernel_size=(filter_sizes[1], embed_size),\n",
        "                              kernel_initializer='he_normal', activation='relu')(x)\n",
        "conv_2 = Conv2D(num_filters, kernel_size=(filter_sizes[2], embed_size), \n",
        "                              kernel_initializer='he_normal', activation='relu')(x)\n",
        "conv_3 = Conv2D(num_filters, kernel_size=(filter_sizes[3], embed_size),\n",
        "                              kernel_initializer='he_normal', activation='relu')(x)\n",
        "\n",
        "maxpool_0 = MaxPool2D(pool_size=(maxlen - filter_sizes[0] + 1, 1))(conv_0)\n",
        "maxpool_1 = MaxPool2D(pool_size=(maxlen - filter_sizes[1] + 1, 1))(conv_1)\n",
        "maxpool_2 = MaxPool2D(pool_size=(maxlen - filter_sizes[2] + 1, 1))(conv_2)\n",
        "maxpool_3 = MaxPool2D(pool_size=(maxlen - filter_sizes[3] + 1, 1))(conv_3)\n",
        "    \n",
        "z = Concatenate(axis=1)([maxpool_0, maxpool_1, maxpool_2, maxpool_3])   \n",
        "z = Flatten()(z)\n",
        "z = Dropout(0.5)(z)\n",
        "    \n",
        "outp = Dense(num_classes, activation=\"softmax\")(z)\n",
        "\n",
        "model = Model(inputs=inp, outputs=outp)\n",
        "model.compile(loss='categorical_crossentropy',\n",
        "              optimizer='adam',\n",
        "              metrics=['accuracy'])"
      ],
      "metadata": {
        "id": "WCzKJwm4wgpV"
      },
      "execution_count": 269,
      "outputs": []
    },
    {
      "cell_type": "code",
      "source": [
        "batch_size = 256\n",
        "epochs = 100\n",
        "\n",
        "X_tra, X_val, y_tra, y_val = train_test_split(x_train, y_train, train_size=0.7,\n",
        "                                              random_state=233)\n",
        "F1_Score = F1Evaluation(validation_data=(X_val, y_val), interval=1)\n",
        "\n",
        "early_stopping = EarlyStopping(monitor='val_loss', patience=2, mode='min')\n",
        "\n",
        "hist = model.fit(X_tra, y_tra, batch_size=batch_size, epochs=epochs,\n",
        "                 validation_data=(X_val, y_val),\n",
        "                 callbacks=[F1_Score, early_stopping], verbose=2)\n",
        "\n",
        "loss, acc = model.evaluate(x_test, y_test)\n",
        "print('Test Accuracy: %f' % (acc*100))"
      ],
      "metadata": {
        "colab": {
          "base_uri": "https://localhost:8080/"
        },
        "id": "Fq4fINv949gy",
        "outputId": "a59ae65e-2584-458e-814e-ad3d7d878105"
      },
      "execution_count": 270,
      "outputs": [
        {
          "output_type": "stream",
          "name": "stdout",
          "text": [
            "Epoch 1/100\n",
            "\n",
            " F1 Score - epoch: 1 - score: 0.338603 \n",
            "\n",
            "34/34 - 11s - loss: 2.0054 - accuracy: 0.3459 - val_loss: 1.6590 - val_accuracy: 0.4615 - 11s/epoch - 318ms/step\n",
            "Epoch 2/100\n",
            "\n",
            " F1 Score - epoch: 2 - score: 0.470095 \n",
            "\n",
            "34/34 - 10s - loss: 1.5249 - accuracy: 0.5183 - val_loss: 1.4127 - val_accuracy: 0.5542 - 10s/epoch - 283ms/step\n",
            "Epoch 3/100\n",
            "\n",
            " F1 Score - epoch: 3 - score: 0.538072 \n",
            "\n",
            "34/34 - 10s - loss: 1.2604 - accuracy: 0.6099 - val_loss: 1.2702 - val_accuracy: 0.5984 - 10s/epoch - 285ms/step\n",
            "Epoch 4/100\n",
            "\n",
            " F1 Score - epoch: 4 - score: 0.561444 \n",
            "\n",
            "34/34 - 10s - loss: 1.0614 - accuracy: 0.6728 - val_loss: 1.2036 - val_accuracy: 0.6148 - 10s/epoch - 289ms/step\n",
            "Epoch 5/100\n",
            "\n",
            " F1 Score - epoch: 5 - score: 0.585553 \n",
            "\n",
            "34/34 - 10s - loss: 0.8706 - accuracy: 0.7336 - val_loss: 1.1472 - val_accuracy: 0.6274 - 10s/epoch - 280ms/step\n",
            "Epoch 6/100\n",
            "\n",
            " F1 Score - epoch: 6 - score: 0.590078 \n",
            "\n",
            "34/34 - 10s - loss: 0.7218 - accuracy: 0.7834 - val_loss: 1.1284 - val_accuracy: 0.6316 - 10s/epoch - 280ms/step\n",
            "Epoch 7/100\n",
            "\n",
            " F1 Score - epoch: 7 - score: 0.598468 \n",
            "\n",
            "34/34 - 9s - loss: 0.5668 - accuracy: 0.8387 - val_loss: 1.1300 - val_accuracy: 0.6299 - 9s/epoch - 279ms/step\n",
            "Epoch 8/100\n",
            "\n",
            " F1 Score - epoch: 8 - score: 0.603829 \n",
            "\n",
            "34/34 - 10s - loss: 0.4510 - accuracy: 0.8761 - val_loss: 1.1446 - val_accuracy: 0.6291 - 10s/epoch - 281ms/step\n",
            "13/13 [==============================] - 0s 6ms/step - loss: 1.1918 - accuracy: 0.6221\n",
            "Test Accuracy: 62.210798\n"
          ]
        }
      ]
    },
    {
      "cell_type": "markdown",
      "source": [
        "##4CNN2 MP2D F DO0.5 D13: 68\n",
        "inspiration: \n",
        "\n",
        "https://www.kaggle.com/code/yekenot/2dcnn-textclassifier/notebook\n",
        "\n",
        "[Text CNN] https://towardsdatascience.com/nlp-learning-series-part-3-attention-cnn-and-what-not-for-text-classification-4313930ed566"
      ],
      "metadata": {
        "id": "RvfMYlOq8Bib"
      }
    },
    {
      "cell_type": "code",
      "source": [
        "from sklearn.metrics import f1_score\n",
        "from sklearn.model_selection import train_test_split\n",
        "\n",
        "from keras.models import Model\n",
        "\n",
        "from keras.callbacks import Callback, EarlyStopping\n",
        "from keras.preprocessing import text, sequence\n",
        "\n",
        "from keras.layers.pooling import GlobalMaxPooling2D\n",
        "from keras.layers import Input, Embedding, Dense, Conv2D, MaxPool2D, concatenate\n",
        "from keras.layers import Reshape, Flatten, Concatenate, Dropout, SpatialDropout1D"
      ],
      "metadata": {
        "id": "JDOSbCKb8Bic"
      },
      "execution_count": 367,
      "outputs": []
    },
    {
      "cell_type": "code",
      "source": [
        "train.head(1)"
      ],
      "metadata": {
        "colab": {
          "base_uri": "https://localhost:8080/",
          "height": 284
        },
        "outputId": "4fce078d-78f8-45db-983c-f4c76698e041",
        "id": "AAH3JB0p8Bic"
      },
      "execution_count": 368,
      "outputs": [
        {
          "output_type": "execute_result",
          "data": {
            "text/plain": [
              "   Unnamed: 0                                       TagFile_Path  \\\n",
              "0           0  SocialFSI_ZE-KTB-Feb-Apr2022_Sampling2244_2022...   \n",
              "\n",
              "                                             TagFile SV_CustomerName  \\\n",
              "0  SocialFSI_ZE-KTB-Feb-Apr2022_Sampling1400_2022...  Krungthai_NEXT   \n",
              "\n",
              "                                        Main keyword      Channel SubChannel  \\\n",
              "0  mobile banking+กสิกร,mobile banking+ธนาคารกสิก...  SocialMedia      forum   \n",
              "\n",
              "                        lfdn verbatim_id   sentence_id  \\\n",
              "0  pantip.com_topic_41249919  Q2207_1549  Q2207_1549_1   \n",
              "\n",
              "                                       Text_original  \\\n",
              "0  สอบถามเรื่องการอายัดบัตรเดบิตของกสิกรค่ะ พอดีว...   \n",
              "\n",
              "                                                Text  \\\n",
              "0  สอบถามเรื่องการอายัดบัตรเดบิตของกสิกรค่ะ พอดีว...   \n",
              "\n",
              "                             Human_Category  Human_CategoryID Human_Sentiment  \\\n",
              "0  Product and Service, Usage and Condition                 8         neutral   \n",
              "\n",
              "  Human_SentimentID                                      Text_ws_local  \n",
              "0                 o  สอบถาม|เรื่อง|การ|อายัด|บัตรเดบิต|ของ|kbank|ค่...  "
            ],
            "text/html": [
              "\n",
              "  <div id=\"df-2b2bc61e-825f-473a-935b-43a8c5e8fd09\">\n",
              "    <div class=\"colab-df-container\">\n",
              "      <div>\n",
              "<style scoped>\n",
              "    .dataframe tbody tr th:only-of-type {\n",
              "        vertical-align: middle;\n",
              "    }\n",
              "\n",
              "    .dataframe tbody tr th {\n",
              "        vertical-align: top;\n",
              "    }\n",
              "\n",
              "    .dataframe thead th {\n",
              "        text-align: right;\n",
              "    }\n",
              "</style>\n",
              "<table border=\"1\" class=\"dataframe\">\n",
              "  <thead>\n",
              "    <tr style=\"text-align: right;\">\n",
              "      <th></th>\n",
              "      <th>Unnamed: 0</th>\n",
              "      <th>TagFile_Path</th>\n",
              "      <th>TagFile</th>\n",
              "      <th>SV_CustomerName</th>\n",
              "      <th>Main keyword</th>\n",
              "      <th>Channel</th>\n",
              "      <th>SubChannel</th>\n",
              "      <th>lfdn</th>\n",
              "      <th>verbatim_id</th>\n",
              "      <th>sentence_id</th>\n",
              "      <th>Text_original</th>\n",
              "      <th>Text</th>\n",
              "      <th>Human_Category</th>\n",
              "      <th>Human_CategoryID</th>\n",
              "      <th>Human_Sentiment</th>\n",
              "      <th>Human_SentimentID</th>\n",
              "      <th>Text_ws_local</th>\n",
              "    </tr>\n",
              "  </thead>\n",
              "  <tbody>\n",
              "    <tr>\n",
              "      <th>0</th>\n",
              "      <td>0</td>\n",
              "      <td>SocialFSI_ZE-KTB-Feb-Apr2022_Sampling2244_2022...</td>\n",
              "      <td>SocialFSI_ZE-KTB-Feb-Apr2022_Sampling1400_2022...</td>\n",
              "      <td>Krungthai_NEXT</td>\n",
              "      <td>mobile banking+กสิกร,mobile banking+ธนาคารกสิก...</td>\n",
              "      <td>SocialMedia</td>\n",
              "      <td>forum</td>\n",
              "      <td>pantip.com_topic_41249919</td>\n",
              "      <td>Q2207_1549</td>\n",
              "      <td>Q2207_1549_1</td>\n",
              "      <td>สอบถามเรื่องการอายัดบัตรเดบิตของกสิกรค่ะ พอดีว...</td>\n",
              "      <td>สอบถามเรื่องการอายัดบัตรเดบิตของกสิกรค่ะ พอดีว...</td>\n",
              "      <td>Product and Service, Usage and Condition</td>\n",
              "      <td>8</td>\n",
              "      <td>neutral</td>\n",
              "      <td>o</td>\n",
              "      <td>สอบถาม|เรื่อง|การ|อายัด|บัตรเดบิต|ของ|kbank|ค่...</td>\n",
              "    </tr>\n",
              "  </tbody>\n",
              "</table>\n",
              "</div>\n",
              "      <button class=\"colab-df-convert\" onclick=\"convertToInteractive('df-2b2bc61e-825f-473a-935b-43a8c5e8fd09')\"\n",
              "              title=\"Convert this dataframe to an interactive table.\"\n",
              "              style=\"display:none;\">\n",
              "        \n",
              "  <svg xmlns=\"http://www.w3.org/2000/svg\" height=\"24px\"viewBox=\"0 0 24 24\"\n",
              "       width=\"24px\">\n",
              "    <path d=\"M0 0h24v24H0V0z\" fill=\"none\"/>\n",
              "    <path d=\"M18.56 5.44l.94 2.06.94-2.06 2.06-.94-2.06-.94-.94-2.06-.94 2.06-2.06.94zm-11 1L8.5 8.5l.94-2.06 2.06-.94-2.06-.94L8.5 2.5l-.94 2.06-2.06.94zm10 10l.94 2.06.94-2.06 2.06-.94-2.06-.94-.94-2.06-.94 2.06-2.06.94z\"/><path d=\"M17.41 7.96l-1.37-1.37c-.4-.4-.92-.59-1.43-.59-.52 0-1.04.2-1.43.59L10.3 9.45l-7.72 7.72c-.78.78-.78 2.05 0 2.83L4 21.41c.39.39.9.59 1.41.59.51 0 1.02-.2 1.41-.59l7.78-7.78 2.81-2.81c.8-.78.8-2.07 0-2.86zM5.41 20L4 18.59l7.72-7.72 1.47 1.35L5.41 20z\"/>\n",
              "  </svg>\n",
              "      </button>\n",
              "      \n",
              "  <style>\n",
              "    .colab-df-container {\n",
              "      display:flex;\n",
              "      flex-wrap:wrap;\n",
              "      gap: 12px;\n",
              "    }\n",
              "\n",
              "    .colab-df-convert {\n",
              "      background-color: #E8F0FE;\n",
              "      border: none;\n",
              "      border-radius: 50%;\n",
              "      cursor: pointer;\n",
              "      display: none;\n",
              "      fill: #1967D2;\n",
              "      height: 32px;\n",
              "      padding: 0 0 0 0;\n",
              "      width: 32px;\n",
              "    }\n",
              "\n",
              "    .colab-df-convert:hover {\n",
              "      background-color: #E2EBFA;\n",
              "      box-shadow: 0px 1px 2px rgba(60, 64, 67, 0.3), 0px 1px 3px 1px rgba(60, 64, 67, 0.15);\n",
              "      fill: #174EA6;\n",
              "    }\n",
              "\n",
              "    [theme=dark] .colab-df-convert {\n",
              "      background-color: #3B4455;\n",
              "      fill: #D2E3FC;\n",
              "    }\n",
              "\n",
              "    [theme=dark] .colab-df-convert:hover {\n",
              "      background-color: #434B5C;\n",
              "      box-shadow: 0px 1px 3px 1px rgba(0, 0, 0, 0.15);\n",
              "      filter: drop-shadow(0px 1px 2px rgba(0, 0, 0, 0.3));\n",
              "      fill: #FFFFFF;\n",
              "    }\n",
              "  </style>\n",
              "\n",
              "      <script>\n",
              "        const buttonEl =\n",
              "          document.querySelector('#df-2b2bc61e-825f-473a-935b-43a8c5e8fd09 button.colab-df-convert');\n",
              "        buttonEl.style.display =\n",
              "          google.colab.kernel.accessAllowed ? 'block' : 'none';\n",
              "\n",
              "        async function convertToInteractive(key) {\n",
              "          const element = document.querySelector('#df-2b2bc61e-825f-473a-935b-43a8c5e8fd09');\n",
              "          const dataTable =\n",
              "            await google.colab.kernel.invokeFunction('convertToInteractive',\n",
              "                                                     [key], {});\n",
              "          if (!dataTable) return;\n",
              "\n",
              "          const docLinkHtml = 'Like what you see? Visit the ' +\n",
              "            '<a target=\"_blank\" href=https://colab.research.google.com/notebooks/data_table.ipynb>data table notebook</a>'\n",
              "            + ' to learn more about interactive tables.';\n",
              "          element.innerHTML = '';\n",
              "          dataTable['output_type'] = 'display_data';\n",
              "          await google.colab.output.renderOutput(dataTable, element);\n",
              "          const docLink = document.createElement('div');\n",
              "          docLink.innerHTML = docLinkHtml;\n",
              "          element.appendChild(docLink);\n",
              "        }\n",
              "      </script>\n",
              "    </div>\n",
              "  </div>\n",
              "  "
            ]
          },
          "metadata": {},
          "execution_count": 368
        }
      ]
    },
    {
      "cell_type": "code",
      "source": [
        "class F1Evaluation(Callback):\n",
        "    def __init__(self, validation_data=(), interval=1):\n",
        "        super(Callback, self).__init__()\n",
        "\n",
        "        self.interval = interval\n",
        "        self.X_val, self.y_val = validation_data\n",
        "\n",
        "    def on_epoch_end(self, epoch, logs={}):\n",
        "        if epoch % self.interval == 0:\n",
        "            y_pred = self.model.predict(self.X_val, verbose=0)\n",
        "            y_pred = (y_pred > threshold).astype(int)\n",
        "            score = f1_score(self.y_val, y_pred, average='weighted', zero_division=0)\n",
        "            print(\"\\n F1 Score - epoch: %d - score: %.6f \\n\" % (epoch+1, score))"
      ],
      "metadata": {
        "id": "iynFJdPY8Bic"
      },
      "execution_count": 369,
      "outputs": []
    },
    {
      "cell_type": "code",
      "source": [
        "#turn pandas.core.series.Series into numpy.ndarray\n",
        "X_train = train[\"Text_ws_local\"].fillna(\"fillna\").values\n",
        "y_train = train[\"Human_CategoryID\"].values\n",
        "X_test = test[\"Text_ws_local\"].fillna(\"fillna\").values \n",
        "y_test = test[\"Human_CategoryID\"].values\n",
        "\n",
        "max_features = 40000\n",
        "maxlen = 70\n",
        "embed_size = 400 #ES\n",
        "\n",
        "threshold = 0.35\n",
        "\n",
        "tokenizer = text.Tokenizer(num_words=max_features)\n",
        "tokenizer.fit_on_texts(list(X_train) + list(X_test))\n",
        "X_train = tokenizer.texts_to_sequences(X_train)\n",
        "X_test = tokenizer.texts_to_sequences(X_test)\n",
        "x_train = sequence.pad_sequences(X_train, maxlen=maxlen)\n",
        "x_test = sequence.pad_sequences(X_test, maxlen=maxlen)\n",
        "\n",
        "#multi-class tasks needs one hot for y.\n",
        "y_train = to_categorical(y_train-1, num_classes)\n",
        "y_test = to_categorical(y_test-1, num_classes)\n",
        "\n",
        "train_y = [x-1 for x in train['Human_CategoryID'].tolist()]"
      ],
      "metadata": {
        "id": "yRDp3y5v8Bid"
      },
      "execution_count": 370,
      "outputs": []
    },
    {
      "cell_type": "code",
      "source": [
        "filter_sizes = [2,3,5,10]\n",
        "num_filters = 256 #NF\n",
        "\n",
        "### filter_sizes = [3,5,8,10]\n",
        "#NF256 ES600 = 0.67\n",
        "\n",
        "### filter_sizes = [2,3,7,10]\n",
        "#NF256 ES600 = 0.66\n",
        "\n",
        "### filter_sizes = [2,3,5,10]\n",
        "#NF256 ES400 = 0.68\n",
        "#NF256 ES600 = 0.66 - 0.68\n",
        "#NF256 ES800 = 0.65\n",
        "#NF256 ES1000 = 0.67\n",
        "\n",
        "#NF512 ES600 = 0.67, \n",
        "#NF1024 ES600 = 0.68\n",
        "\n",
        "inp = Input(shape=(maxlen, ))\n",
        "x = Embedding(max_features, embed_size, trainable=True)(inp)\n",
        "x = Reshape((maxlen, embed_size, 1))(x)\n",
        "\n",
        "conv_0 = Conv2D(num_filters, kernel_size=(filter_sizes[0], embed_size),\n",
        "                              kernel_initializer='he_normal', activation='relu')(x)\n",
        "conv_1 = Conv2D(num_filters, kernel_size=(filter_sizes[1], embed_size),\n",
        "                              kernel_initializer='he_normal', activation='relu')(x)\n",
        "conv_2 = Conv2D(num_filters, kernel_size=(filter_sizes[2], embed_size), \n",
        "                              kernel_initializer='he_normal', activation='relu')(x)\n",
        "conv_3 = Conv2D(num_filters, kernel_size=(filter_sizes[3], embed_size),\n",
        "                              kernel_initializer='he_normal', activation='relu')(x)\n",
        "\n",
        "maxpool_0 = MaxPool2D(pool_size=(maxlen - filter_sizes[0] + 1, 1))(conv_0)\n",
        "maxpool_1 = MaxPool2D(pool_size=(maxlen - filter_sizes[1] + 1, 1))(conv_1)\n",
        "maxpool_2 = MaxPool2D(pool_size=(maxlen - filter_sizes[2] + 1, 1))(conv_2)\n",
        "maxpool_3 = MaxPool2D(pool_size=(maxlen - filter_sizes[3] + 1, 1))(conv_3)\n",
        "    \n",
        "z = concatenate([maxpool_0, maxpool_1, maxpool_2, maxpool_3])   \n",
        "z = Flatten()(z)\n",
        "z = Dropout(0.5)(z)\n",
        "    \n",
        "outp = Dense(num_classes, activation=\"softmax\")(z)\n",
        "\n",
        "model = Model(inputs=inp, outputs=outp)\n",
        "model.compile(loss='categorical_crossentropy',\n",
        "              optimizer='adam',\n",
        "              metrics=['acc'])"
      ],
      "metadata": {
        "id": "tfIhoaVi8Bid"
      },
      "execution_count": 371,
      "outputs": []
    },
    {
      "cell_type": "code",
      "source": [
        "batch_size = 256 #try 128\n",
        "epochs = 100\n",
        "\n",
        "X_tra, X_val, y_tra, y_val = train_test_split(x_train, y_train, train_size=0.8,\n",
        "                                              random_state=233)\n",
        "F1_Score = F1Evaluation(validation_data=(X_val, y_val), interval=1)\n",
        "\n",
        "early_stopping = EarlyStopping(monitor='val_loss', patience=2, mode='min')\n",
        "\n",
        "class_weights = compute_class_weight(\n",
        "                                        class_weight = \"balanced\",\n",
        "                                        classes = np.unique(train_y),\n",
        "                                        y = train_y                                                   \n",
        "                                    )\n",
        "class_weights = dict(zip(np.unique(train_y), class_weights))\n",
        "\n",
        "hist = model.fit(X_tra, y_tra, batch_size=batch_size, epochs=epochs,\n",
        "                 validation_data=(X_val, y_val),\n",
        "                 callbacks=[F1_Score, early_stopping], verbose=2, class_weight=class_weights)\n",
        "\n",
        "loss, acc = model.evaluate(x_test, y_test)\n",
        "print('Test Accuracy: %f' % (acc*100))\n",
        "\n",
        "Xtest = x_test\n",
        "ytest = y_test\n",
        "history = hist"
      ],
      "metadata": {
        "colab": {
          "base_uri": "https://localhost:8080/"
        },
        "outputId": "90bb7136-e905-4594-8aff-4189304502a4",
        "id": "LmAuneqb8Bid"
      },
      "execution_count": 372,
      "outputs": [
        {
          "output_type": "stream",
          "name": "stdout",
          "text": [
            "Epoch 1/100\n",
            "\n",
            " F1 Score - epoch: 1 - score: 0.000000 \n",
            "\n",
            "38/38 - 16s - loss: 2.5101 - acc: 0.1455 - val_loss: 2.3441 - val_acc: 0.3621 - 16s/epoch - 434ms/step\n",
            "Epoch 2/100\n",
            "\n",
            " F1 Score - epoch: 2 - score: 0.225526 \n",
            "\n",
            "38/38 - 15s - loss: 2.0154 - acc: 0.4216 - val_loss: 1.9312 - val_acc: 0.4251 - 15s/epoch - 398ms/step\n",
            "Epoch 3/100\n",
            "\n",
            " F1 Score - epoch: 3 - score: 0.390895 \n",
            "\n",
            "38/38 - 15s - loss: 1.4368 - acc: 0.5220 - val_loss: 1.5628 - val_acc: 0.5156 - 15s/epoch - 400ms/step\n",
            "Epoch 4/100\n",
            "\n",
            " F1 Score - epoch: 4 - score: 0.499233 \n",
            "\n",
            "38/38 - 15s - loss: 0.9586 - acc: 0.6187 - val_loss: 1.3159 - val_acc: 0.5621 - 15s/epoch - 400ms/step\n",
            "Epoch 5/100\n",
            "\n",
            " F1 Score - epoch: 5 - score: 0.588889 \n",
            "\n",
            "38/38 - 15s - loss: 0.6376 - acc: 0.7184 - val_loss: 1.1785 - val_acc: 0.6082 - 15s/epoch - 401ms/step\n",
            "Epoch 6/100\n",
            "\n",
            " F1 Score - epoch: 6 - score: 0.628783 \n",
            "\n",
            "38/38 - 15s - loss: 0.4289 - acc: 0.7931 - val_loss: 1.0794 - val_acc: 0.6416 - 15s/epoch - 401ms/step\n",
            "Epoch 7/100\n",
            "\n",
            " F1 Score - epoch: 7 - score: 0.649409 \n",
            "\n",
            "38/38 - 15s - loss: 0.3011 - acc: 0.8484 - val_loss: 1.0477 - val_acc: 0.6560 - 15s/epoch - 402ms/step\n",
            "Epoch 8/100\n",
            "\n",
            " F1 Score - epoch: 8 - score: 0.657619 \n",
            "\n",
            "38/38 - 15s - loss: 0.2131 - acc: 0.8926 - val_loss: 1.0464 - val_acc: 0.6551 - 15s/epoch - 402ms/step\n",
            "Epoch 9/100\n",
            "\n",
            " F1 Score - epoch: 9 - score: 0.659007 \n",
            "\n",
            "38/38 - 15s - loss: 0.1601 - acc: 0.9226 - val_loss: 1.0556 - val_acc: 0.6593 - 15s/epoch - 402ms/step\n",
            "Epoch 10/100\n",
            "\n",
            " F1 Score - epoch: 10 - score: 0.656513 \n",
            "\n",
            "38/38 - 15s - loss: 0.1177 - acc: 0.9434 - val_loss: 1.0699 - val_acc: 0.6576 - 15s/epoch - 401ms/step\n",
            "13/13 [==============================] - 0s 11ms/step - loss: 1.0533 - acc: 0.6864\n",
            "Test Accuracy: 68.637532\n"
          ]
        }
      ]
    },
    {
      "cell_type": "markdown",
      "metadata": {
        "id": "SbRfLoELzdM1"
      },
      "source": [
        "#Plot Confusion and Classification Report"
      ]
    },
    {
      "cell_type": "code",
      "source": [
        "#prediction\n",
        "y_pred = model.predict(Xtest)\n",
        "\n",
        "#Change one hot answer to be single digit as follows \n",
        "#https://stackoverflow.com/questions/54589669/confusion-matrix-error-classification-metrics-cant-handle-a-mix-of-multilabel\n",
        "\n",
        "rounded_labels_ypred = np.argmax(y_pred, axis=1)\n",
        "rounded_labels_ytest = np.argmax(ytest,axis=1)"
      ],
      "metadata": {
        "id": "hlYi95AqParn"
      },
      "execution_count": 373,
      "outputs": []
    },
    {
      "cell_type": "code",
      "source": [
        "plot_model(model, to_file='model_plot.png', show_shapes=True, show_layer_names=True)\n",
        "\n",
        "# from google.colab import files\n",
        "# files.download('model_plot.png')"
      ],
      "metadata": {
        "id": "iMrQHdZlPb44",
        "colab": {
          "base_uri": "https://localhost:8080/",
          "height": 660
        },
        "outputId": "2b2aeadd-deb8-4bb0-fb49-1c01c003dc88"
      },
      "execution_count": 374,
      "outputs": [
        {
          "output_type": "execute_result",
          "data": {
            "text/plain": [
              "<IPython.core.display.Image object>"
            ],
            "image/png": "[encoded data removed]"
          },
          "metadata": {},
          "execution_count": 374
        }
      ]
    },
    {
      "cell_type": "code",
      "execution_count": 375,
      "metadata": {
        "id": "luDmNI6QzdNA",
        "colab": {
          "base_uri": "https://localhost:8080/",
          "height": 282
        },
        "outputId": "4a45d6aa-4118-4980-9f1f-4a9bd7b8ab8f"
      },
      "outputs": [
        {
          "output_type": "execute_result",
          "data": {
            "text/plain": [
              "<matplotlib.axes._subplots.AxesSubplot at 0x7f2eb49492d0>"
            ]
          },
          "metadata": {},
          "execution_count": 375
        },
        {
          "output_type": "display_data",
          "data": {
            "text/plain": [
              "<Figure size 432x288 with 1 Axes>"
            ],
            "image/png": "[encoded data removed]"
          },
          "metadata": {
            "needs_background": "light"
          }
        }
      ],
      "source": [
        "history_frame = pd.DataFrame(history.history)\n",
        "history_frame.loc[:, ['loss', 'val_loss']].plot()"
      ]
    },
    {
      "cell_type": "code",
      "source": [
        "history_frame.loc[:, ['acc', 'val_acc']].plot()"
      ],
      "metadata": {
        "id": "gzEyQalGb1gY",
        "colab": {
          "base_uri": "https://localhost:8080/",
          "height": 282
        },
        "outputId": "93f1759c-bfbc-4205-bfb2-9febc8894676"
      },
      "execution_count": 376,
      "outputs": [
        {
          "output_type": "execute_result",
          "data": {
            "text/plain": [
              "<matplotlib.axes._subplots.AxesSubplot at 0x7f2f4acca050>"
            ]
          },
          "metadata": {},
          "execution_count": 376
        },
        {
          "output_type": "display_data",
          "data": {
            "text/plain": [
              "<Figure size 432x288 with 1 Axes>"
            ],
            "image/png": "[encoded data removed]"
          },
          "metadata": {
            "needs_background": "light"
          }
        }
      ]
    },
    {
      "cell_type": "code",
      "execution_count": 377,
      "metadata": {
        "id": "mkRNaEHqzdNA",
        "colab": {
          "base_uri": "https://localhost:8080/"
        },
        "outputId": "043127c0-a5b6-44b9-a59d-2bd93c2ca53b"
      },
      "outputs": [
        {
          "output_type": "stream",
          "name": "stdout",
          "text": [
            "test_unique_classes\n",
            "12\n"
          ]
        },
        {
          "output_type": "execute_result",
          "data": {
            "text/plain": [
              "{0: 'Accessibility',\n",
              " 2: 'Company Brand',\n",
              " 3: 'Staff Quality',\n",
              " 4: 'Timing',\n",
              " 5: 'Product and Service, Benefit',\n",
              " 6: 'Product and Service, System',\n",
              " 7: 'Product and Service, Usage and Condition',\n",
              " 8: 'Product and Service, Convenience',\n",
              " 9: 'Product and Service, Variety',\n",
              " 10: 'Product and Service, Decision',\n",
              " 11: 'Security',\n",
              " 12: 'No Category'}"
            ]
          },
          "metadata": {},
          "execution_count": 377
        }
      ],
      "source": [
        "#Find dict of label ids and names.\n",
        "if train['Human_CategoryID'].nunique() < test['Human_CategoryID'].nunique():\n",
        "  print('train_unique_classes')\n",
        "  classes_with_id_dict = {id-1: labels for id, labels in zip(train['Human_CategoryID'], train['Human_Category'])}\n",
        "  print(len(classes_with_id_dict))\n",
        "else:\n",
        "  print('test_unique_classes')\n",
        "  classes_with_id_dict = {id-1: labels for id, labels in zip(test['Human_CategoryID'], test['Human_Category'])}\n",
        "  print(len(classes_with_id_dict))\n",
        "\n",
        "classes_with_id_dict"
      ]
    },
    {
      "cell_type": "code",
      "execution_count": 378,
      "metadata": {
        "id": "9f07gNQtzdNA",
        "colab": {
          "base_uri": "https://localhost:8080/"
        },
        "outputId": "7955104d-00e4-437f-cc84-8076f46d8533"
      },
      "outputs": [
        {
          "output_type": "stream",
          "name": "stdout",
          "text": [
            "test_unique_classes\n",
            "12\n"
          ]
        }
      ],
      "source": [
        "#get an labels array in the conseuctive order based on id number.\n",
        "train_unique_classes = train['Human_CategoryID'].nunique()\n",
        "test_unique_classes = test['Human_CategoryID'].nunique()\n",
        "\n",
        "#find the label total\n",
        "if train['Human_CategoryID'].nunique() > test['Human_CategoryID'].nunique():\n",
        "  print('test_unique_classes')\n",
        "  classes_with_id = test_unique_classes\n",
        "else:\n",
        "  print('train_unique_classes')\n",
        "  classes_with_id = train_unique_classes\n",
        "\n",
        "#convert a dict to an array\n",
        "classes_array = [\"\" for x in range(classes_with_id+1)]\n",
        "\n",
        "for id, label in classes_with_id_dict.items():\n",
        "  classes_array[id] = label\n",
        "\n",
        "#delete empty string for classification report\n",
        "classes_array = [label for label in classes_array if label != \"\"]\n",
        "classes_array\n",
        "print(len(classes_array))"
      ]
    },
    {
      "cell_type": "code",
      "execution_count": 379,
      "metadata": {
        "id": "o-0pRJ0EzdNA",
        "colab": {
          "base_uri": "https://localhost:8080/"
        },
        "outputId": "f71dc2a9-7133-474d-df6c-c6d187b151d7"
      },
      "outputs": [
        {
          "output_type": "stream",
          "name": "stdout",
          "text": [
            "                                          precision    recall  f1-score   support\n",
            "\n",
            "                           Accessibility       0.83      0.71      0.77         7\n",
            "                           Company Brand       0.83      0.42      0.56        12\n",
            "                           Staff Quality       0.43      0.71      0.53        17\n",
            "                                  Timing       0.72      0.64      0.68        28\n",
            "            Product and Service, Benefit       0.60      0.66      0.63        32\n",
            "             Product and Service, System       0.79      0.92      0.85        84\n",
            "Product and Service, Usage and Condition       0.73      0.72      0.72        92\n",
            "        Product and Service, Convenience       1.00      0.27      0.43        11\n",
            "            Product and Service, Variety       0.50      0.33      0.40        12\n",
            "           Product and Service, Decision       0.50      0.50      0.50        10\n",
            "                                Security       1.00      0.67      0.80         3\n",
            "                             No Category       0.63      0.60      0.62        81\n",
            "\n",
            "                                accuracy                           0.69       389\n",
            "                               macro avg       0.71      0.60      0.62       389\n",
            "                            weighted avg       0.70      0.69      0.68       389\n",
            "\n"
          ]
        }
      ],
      "source": [
        "from sklearn.metrics import classification_report\n",
        "\n",
        "print(classification_report(rounded_labels_ytest, rounded_labels_ypred, target_names=classes_array, zero_division=0))"
      ]
    },
    {
      "cell_type": "code",
      "source": [
        "import seaborn as sns\n",
        "from sklearn.metrics import confusion_matrix\n",
        "import matplotlib.pyplot as plt\n",
        "\n",
        "cf_matrix = confusion_matrix(rounded_labels_ytest, rounded_labels_ypred)\n",
        "\n",
        "fig, ax = plt.subplots(figsize=(10,10))    \n",
        "ax = sns.heatmap(cf_matrix, annot=True, cmap='Blues', ax=ax, fmt=\".1f\")\n",
        "\n",
        "ax.set_title('Seaborn Confusion Matrix with labels\\n\\n');\n",
        "ax.set_xlabel('\\nPredicted Category')\n",
        "ax.set_ylabel('Actual Category ');\n",
        "\n",
        "## Ticket labels - List must be in alphabetical order\n",
        "ax.xaxis.set_ticklabels(classes_array, rotation=90)\n",
        "ax.yaxis.set_ticklabels(classes_array, rotation=0)\n",
        "\n",
        "## Display the visualization of the Confusion Matrix.\n",
        "plt.show()\n",
        "\n",
        "figure = ax.get_figure()    \n",
        "figure.savefig(\"cf_matrix.png\", pad_inches= 12, dpi=400)"
      ],
      "metadata": {
        "id": "AIjQraqozjG4",
        "colab": {
          "base_uri": "https://localhost:8080/",
          "height": 863
        },
        "outputId": "1605a432-f533-49b5-926e-9c116939f67a"
      },
      "execution_count": 380,
      "outputs": [
        {
          "output_type": "display_data",
          "data": {
            "text/plain": [
              "<Figure size 720x720 with 2 Axes>"
            ],
            "image/png": "[encoded data removed]"
          },
          "metadata": {
            "needs_background": "light"
          }
        }
      ]
    },
    {
      "cell_type": "markdown",
      "source": [
        "#Post Analysis"
      ],
      "metadata": {
        "id": "lYG5bfsMPkJR"
      }
    },
    {
      "cell_type": "code",
      "source": [
        "!pip install lime\n",
        "!pip install eli5"
      ],
      "metadata": {
        "id": "cBeYluI_PpLu"
      },
      "execution_count": null,
      "outputs": []
    },
    {
      "cell_type": "code",
      "source": [
        "import eli5\n",
        "from eli5.lime import TextExplainer"
      ],
      "metadata": {
        "id": "ZQ9LrOl3PmOe"
      },
      "execution_count": null,
      "outputs": []
    },
    {
      "cell_type": "markdown",
      "source": [
        "#Get configs"
      ],
      "metadata": {
        "id": "u4ll4vrC4CFi"
      }
    },
    {
      "cell_type": "code",
      "source": [
        "model.get_config()"
      ],
      "metadata": {
        "colab": {
          "base_uri": "https://localhost:8080/"
        },
        "id": "105LY0Kbzmac",
        "outputId": "e8690014-5438-4e44-8900-6ebeeb6b1302"
      },
      "execution_count": null,
      "outputs": [
        {
          "output_type": "execute_result",
          "data": {
            "text/plain": [
              "{'input_layers': [['input_9', 0, 0]],\n",
              " 'layers': [{'class_name': 'InputLayer',\n",
              "   'config': {'batch_input_shape': (None, 66),\n",
              "    'dtype': 'float32',\n",
              "    'name': 'input_9',\n",
              "    'ragged': False,\n",
              "    'sparse': False},\n",
              "   'inbound_nodes': [],\n",
              "   'name': 'input_9'},\n",
              "  {'class_name': 'Embedding',\n",
              "   'config': {'activity_regularizer': None,\n",
              "    'batch_input_shape': (None, None),\n",
              "    'dtype': 'float32',\n",
              "    'embeddings_constraint': None,\n",
              "    'embeddings_initializer': {'class_name': 'RandomUniform',\n",
              "     'config': {'maxval': 0.05, 'minval': -0.05, 'seed': None}},\n",
              "    'embeddings_regularizer': None,\n",
              "    'input_dim': 12609,\n",
              "    'input_length': None,\n",
              "    'mask_zero': False,\n",
              "    'name': 'embedding_40',\n",
              "    'output_dim': 1000,\n",
              "    'trainable': True},\n",
              "   'inbound_nodes': [[['input_9', 0, 0, {}]]],\n",
              "   'name': 'embedding_40'},\n",
              "  {'class_name': 'Embedding',\n",
              "   'config': {'activity_regularizer': None,\n",
              "    'batch_input_shape': (None, None),\n",
              "    'dtype': 'float32',\n",
              "    'embeddings_constraint': None,\n",
              "    'embeddings_initializer': {'class_name': 'RandomUniform',\n",
              "     'config': {'maxval': 0.05, 'minval': -0.05, 'seed': None}},\n",
              "    'embeddings_regularizer': None,\n",
              "    'input_dim': 12609,\n",
              "    'input_length': None,\n",
              "    'mask_zero': False,\n",
              "    'name': 'embedding_41',\n",
              "    'output_dim': 1000,\n",
              "    'trainable': True},\n",
              "   'inbound_nodes': [[['input_9', 0, 0, {}]]],\n",
              "   'name': 'embedding_41'},\n",
              "  {'class_name': 'Embedding',\n",
              "   'config': {'activity_regularizer': None,\n",
              "    'batch_input_shape': (None, None),\n",
              "    'dtype': 'float32',\n",
              "    'embeddings_constraint': None,\n",
              "    'embeddings_initializer': {'class_name': 'RandomUniform',\n",
              "     'config': {'maxval': 0.05, 'minval': -0.05, 'seed': None}},\n",
              "    'embeddings_regularizer': None,\n",
              "    'input_dim': 12609,\n",
              "    'input_length': None,\n",
              "    'mask_zero': False,\n",
              "    'name': 'embedding_42',\n",
              "    'output_dim': 1000,\n",
              "    'trainable': True},\n",
              "   'inbound_nodes': [[['input_9', 0, 0, {}]]],\n",
              "   'name': 'embedding_42'},\n",
              "  {'class_name': 'Embedding',\n",
              "   'config': {'activity_regularizer': None,\n",
              "    'batch_input_shape': (None, None),\n",
              "    'dtype': 'float32',\n",
              "    'embeddings_constraint': None,\n",
              "    'embeddings_initializer': {'class_name': 'RandomUniform',\n",
              "     'config': {'maxval': 0.05, 'minval': -0.05, 'seed': None}},\n",
              "    'embeddings_regularizer': None,\n",
              "    'input_dim': 12609,\n",
              "    'input_length': None,\n",
              "    'mask_zero': False,\n",
              "    'name': 'embedding_43',\n",
              "    'output_dim': 1000,\n",
              "    'trainable': True},\n",
              "   'inbound_nodes': [[['input_9', 0, 0, {}]]],\n",
              "   'name': 'embedding_43'},\n",
              "  {'class_name': 'Conv1D',\n",
              "   'config': {'activation': 'relu',\n",
              "    'activity_regularizer': None,\n",
              "    'bias_constraint': None,\n",
              "    'bias_initializer': {'class_name': 'Zeros', 'config': {}},\n",
              "    'bias_regularizer': None,\n",
              "    'data_format': 'channels_last',\n",
              "    'dilation_rate': (1,),\n",
              "    'dtype': 'float32',\n",
              "    'filters': 128,\n",
              "    'groups': 1,\n",
              "    'kernel_constraint': None,\n",
              "    'kernel_initializer': {'class_name': 'GlorotUniform',\n",
              "     'config': {'seed': None}},\n",
              "    'kernel_regularizer': None,\n",
              "    'kernel_size': (5,),\n",
              "    'name': 'conv1d_40',\n",
              "    'padding': 'valid',\n",
              "    'strides': (1,),\n",
              "    'trainable': True,\n",
              "    'use_bias': True},\n",
              "   'inbound_nodes': [[['embedding_40', 0, 0, {}]]],\n",
              "   'name': 'conv1d_40'},\n",
              "  {'class_name': 'Conv1D',\n",
              "   'config': {'activation': 'relu',\n",
              "    'activity_regularizer': None,\n",
              "    'bias_constraint': None,\n",
              "    'bias_initializer': {'class_name': 'Zeros', 'config': {}},\n",
              "    'bias_regularizer': None,\n",
              "    'data_format': 'channels_last',\n",
              "    'dilation_rate': (1,),\n",
              "    'dtype': 'float32',\n",
              "    'filters': 256,\n",
              "    'groups': 1,\n",
              "    'kernel_constraint': None,\n",
              "    'kernel_initializer': {'class_name': 'GlorotUniform',\n",
              "     'config': {'seed': None}},\n",
              "    'kernel_regularizer': None,\n",
              "    'kernel_size': (5,),\n",
              "    'name': 'conv1d_41',\n",
              "    'padding': 'valid',\n",
              "    'strides': (1,),\n",
              "    'trainable': True,\n",
              "    'use_bias': True},\n",
              "   'inbound_nodes': [[['embedding_41', 0, 0, {}]]],\n",
              "   'name': 'conv1d_41'},\n",
              "  {'class_name': 'Conv1D',\n",
              "   'config': {'activation': 'relu',\n",
              "    'activity_regularizer': None,\n",
              "    'bias_constraint': None,\n",
              "    'bias_initializer': {'class_name': 'Zeros', 'config': {}},\n",
              "    'bias_regularizer': None,\n",
              "    'data_format': 'channels_last',\n",
              "    'dilation_rate': (1,),\n",
              "    'dtype': 'float32',\n",
              "    'filters': 512,\n",
              "    'groups': 1,\n",
              "    'kernel_constraint': None,\n",
              "    'kernel_initializer': {'class_name': 'GlorotUniform',\n",
              "     'config': {'seed': None}},\n",
              "    'kernel_regularizer': None,\n",
              "    'kernel_size': (5,),\n",
              "    'name': 'conv1d_42',\n",
              "    'padding': 'valid',\n",
              "    'strides': (1,),\n",
              "    'trainable': True,\n",
              "    'use_bias': True},\n",
              "   'inbound_nodes': [[['embedding_42', 0, 0, {}]]],\n",
              "   'name': 'conv1d_42'},\n",
              "  {'class_name': 'Conv1D',\n",
              "   'config': {'activation': 'relu',\n",
              "    'activity_regularizer': None,\n",
              "    'bias_constraint': None,\n",
              "    'bias_initializer': {'class_name': 'Zeros', 'config': {}},\n",
              "    'bias_regularizer': None,\n",
              "    'data_format': 'channels_last',\n",
              "    'dilation_rate': (1,),\n",
              "    'dtype': 'float32',\n",
              "    'filters': 1024,\n",
              "    'groups': 1,\n",
              "    'kernel_constraint': None,\n",
              "    'kernel_initializer': {'class_name': 'GlorotUniform',\n",
              "     'config': {'seed': None}},\n",
              "    'kernel_regularizer': None,\n",
              "    'kernel_size': (5,),\n",
              "    'name': 'conv1d_43',\n",
              "    'padding': 'valid',\n",
              "    'strides': (1,),\n",
              "    'trainable': True,\n",
              "    'use_bias': True},\n",
              "   'inbound_nodes': [[['embedding_43', 0, 0, {}]]],\n",
              "   'name': 'conv1d_43'},\n",
              "  {'class_name': 'Dropout',\n",
              "   'config': {'dtype': 'float32',\n",
              "    'name': 'dropout_30',\n",
              "    'noise_shape': None,\n",
              "    'rate': 0.5,\n",
              "    'seed': None,\n",
              "    'trainable': True},\n",
              "   'inbound_nodes': [[['conv1d_40', 0, 0, {}]]],\n",
              "   'name': 'dropout_30'},\n",
              "  {'class_name': 'Dropout',\n",
              "   'config': {'dtype': 'float32',\n",
              "    'name': 'dropout_31',\n",
              "    'noise_shape': None,\n",
              "    'rate': 0.5,\n",
              "    'seed': None,\n",
              "    'trainable': True},\n",
              "   'inbound_nodes': [[['conv1d_41', 0, 0, {}]]],\n",
              "   'name': 'dropout_31'},\n",
              "  {'class_name': 'Dropout',\n",
              "   'config': {'dtype': 'float32',\n",
              "    'name': 'dropout_32',\n",
              "    'noise_shape': None,\n",
              "    'rate': 0.5,\n",
              "    'seed': None,\n",
              "    'trainable': True},\n",
              "   'inbound_nodes': [[['conv1d_42', 0, 0, {}]]],\n",
              "   'name': 'dropout_32'},\n",
              "  {'class_name': 'Dropout',\n",
              "   'config': {'dtype': 'float32',\n",
              "    'name': 'dropout_33',\n",
              "    'noise_shape': None,\n",
              "    'rate': 0.5,\n",
              "    'seed': None,\n",
              "    'trainable': True},\n",
              "   'inbound_nodes': [[['conv1d_43', 0, 0, {}]]],\n",
              "   'name': 'dropout_33'},\n",
              "  {'class_name': 'GlobalMaxPooling1D',\n",
              "   'config': {'data_format': 'channels_last',\n",
              "    'dtype': 'float32',\n",
              "    'keepdims': False,\n",
              "    'name': 'global_max_pooling1d_38',\n",
              "    'trainable': True},\n",
              "   'inbound_nodes': [[['dropout_30', 0, 0, {}]]],\n",
              "   'name': 'global_max_pooling1d_38'},\n",
              "  {'class_name': 'GlobalMaxPooling1D',\n",
              "   'config': {'data_format': 'channels_last',\n",
              "    'dtype': 'float32',\n",
              "    'keepdims': False,\n",
              "    'name': 'global_max_pooling1d_39',\n",
              "    'trainable': True},\n",
              "   'inbound_nodes': [[['dropout_31', 0, 0, {}]]],\n",
              "   'name': 'global_max_pooling1d_39'},\n",
              "  {'class_name': 'GlobalMaxPooling1D',\n",
              "   'config': {'data_format': 'channels_last',\n",
              "    'dtype': 'float32',\n",
              "    'keepdims': False,\n",
              "    'name': 'global_max_pooling1d_40',\n",
              "    'trainable': True},\n",
              "   'inbound_nodes': [[['dropout_32', 0, 0, {}]]],\n",
              "   'name': 'global_max_pooling1d_40'},\n",
              "  {'class_name': 'GlobalMaxPooling1D',\n",
              "   'config': {'data_format': 'channels_last',\n",
              "    'dtype': 'float32',\n",
              "    'keepdims': False,\n",
              "    'name': 'global_max_pooling1d_41',\n",
              "    'trainable': True},\n",
              "   'inbound_nodes': [[['dropout_33', 0, 0, {}]]],\n",
              "   'name': 'global_max_pooling1d_41'},\n",
              "  {'class_name': 'Concatenate',\n",
              "   'config': {'axis': -1,\n",
              "    'dtype': 'float32',\n",
              "    'name': 'concatenate_8',\n",
              "    'trainable': True},\n",
              "   'inbound_nodes': [[['global_max_pooling1d_38', 0, 0, {}],\n",
              "     ['global_max_pooling1d_39', 0, 0, {}],\n",
              "     ['global_max_pooling1d_40', 0, 0, {}],\n",
              "     ['global_max_pooling1d_41', 0, 0, {}]]],\n",
              "   'name': 'concatenate_8'},\n",
              "  {'class_name': 'Dense',\n",
              "   'config': {'activation': 'softmax',\n",
              "    'activity_regularizer': None,\n",
              "    'bias_constraint': None,\n",
              "    'bias_initializer': {'class_name': 'Zeros', 'config': {}},\n",
              "    'bias_regularizer': None,\n",
              "    'dtype': 'float32',\n",
              "    'kernel_constraint': None,\n",
              "    'kernel_initializer': {'class_name': 'GlorotUniform',\n",
              "     'config': {'seed': None}},\n",
              "    'kernel_regularizer': None,\n",
              "    'name': 'dense_25',\n",
              "    'trainable': True,\n",
              "    'units': 13,\n",
              "    'use_bias': True},\n",
              "   'inbound_nodes': [[['concatenate_8', 0, 0, {}]]],\n",
              "   'name': 'dense_25'}],\n",
              " 'name': 'model_8',\n",
              " 'output_layers': [['dense_25', 0, 0]]}"
            ]
          },
          "metadata": {},
          "execution_count": 85
        }
      ]
    },
    {
      "cell_type": "code",
      "source": [
        "model.loss"
      ],
      "metadata": {
        "colab": {
          "base_uri": "https://localhost:8080/",
          "height": 37
        },
        "id": "lMMDkS384PkP",
        "outputId": "6d703cc1-78d6-49f6-b80a-3f520c6432a3"
      },
      "execution_count": null,
      "outputs": [
        {
          "output_type": "execute_result",
          "data": {
            "text/plain": [
              "'categorical_crossentropy'"
            ],
            "application/vnd.google.colaboratory.intrinsic+json": {
              "type": "string"
            }
          },
          "metadata": {},
          "execution_count": 86
        }
      ]
    },
    {
      "cell_type": "code",
      "source": [
        "model.optimizer.get_config()"
      ],
      "metadata": {
        "colab": {
          "base_uri": "https://localhost:8080/"
        },
        "id": "JFOk2Zz_4aBw",
        "outputId": "2cc9f452-9c2b-49b8-d4a8-04a011eb1d1d"
      },
      "execution_count": null,
      "outputs": [
        {
          "output_type": "execute_result",
          "data": {
            "text/plain": [
              "{'amsgrad': False,\n",
              " 'beta_1': 0.9,\n",
              " 'beta_2': 0.999,\n",
              " 'decay': 0.0,\n",
              " 'epsilon': 1e-07,\n",
              " 'learning_rate': 0.001,\n",
              " 'name': 'Adam'}"
            ]
          },
          "metadata": {},
          "execution_count": 88
        }
      ]
    },
    {
      "cell_type": "code",
      "source": [
        "model.history.params"
      ],
      "metadata": {
        "colab": {
          "base_uri": "https://localhost:8080/"
        },
        "id": "SF7AgsdN4VpF",
        "outputId": "983eee8b-c851-4ead-94f6-785ffe9f8b5b"
      },
      "execution_count": null,
      "outputs": [
        {
          "output_type": "execute_result",
          "data": {
            "text/plain": [
              "{'epochs': 1, 'steps': 13, 'verbose': 0}"
            ]
          },
          "metadata": {},
          "execution_count": 91
        }
      ]
    }
  ]
}