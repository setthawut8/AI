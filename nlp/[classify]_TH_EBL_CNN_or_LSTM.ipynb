{
  "nbformat": 4,
  "nbformat_minor": 0,
  "metadata": {
    "colab": {
      "name": "[classify] _TH_EBL_CNN_or_LSTM.ipynb",
      "provenance": [],
      "collapsed_sections": [],
      "machine_shape": "hm",
      "toc_visible": true,
      "authorship_tag": "ABX9TyN9eXqin8gugly+KKxcLOQu",
      "include_colab_link": true
    },
    "kernelspec": {
      "name": "python3",
      "display_name": "Python 3"
    },
    "language_info": {
      "name": "python"
    },
    "gpuClass": "standard",
    "accelerator": "TPU"
  },
  "cells": [
    {
      "cell_type": "markdown",
      "metadata": {
        "id": "view-in-github",
        "colab_type": "text"
      },
      "source": [
        "<a href=\"https://colab.research.google.com/github/setthawut8/ai/blob/main/nlp/%5Bclassify%5D__TH_EBL_CNN_or_LSTM.ipynb\" target=\"_parent\"><img src=\"https://colab.research.google.com/assets/colab-badge.svg\" alt=\"Open In Colab\"/></a>"
      ]
    },
    {
      "cell_type": "markdown",
      "source": [
        "#Download Data and Library Installation"
      ],
      "metadata": {
        "id": "DKZejA_uh9kv"
      }
    },
    {
      "cell_type": "code",
      "execution_count": 1,
      "metadata": {
        "colab": {
          "base_uri": "https://localhost:8080/"
        },
        "id": "rY0gVkg8ahbS",
        "outputId": "916d1b5d-b79e-406c-ea76-fae8926c83dd"
      },
      "outputs": [
        {
          "output_type": "stream",
          "name": "stdout",
          "text": [
            "/usr/local/lib/python3.7/dist-packages/gdown/cli.py:131: FutureWarning: Option `--id` was deprecated in version 4.3.1 and will be removed in 5.0. You don't need to pass it anymore to use a file ID.\n",
            "  category=FutureWarning,\n",
            "Downloading...\n",
            "From: https://drive.google.com/uc?id=1-avUDygRCGvAiPplmc6MundS_PpnohRv\n",
            "To: /content/preprocessed_v1_socialfsi_single_train_sampling12150_20220701.xlsx\n",
            "100% 3.87M/3.87M [00:00<00:00, 197MB/s]\n",
            "/usr/local/lib/python3.7/dist-packages/gdown/cli.py:131: FutureWarning: Option `--id` was deprecated in version 4.3.1 and will be removed in 5.0. You don't need to pass it anymore to use a file ID.\n",
            "  category=FutureWarning,\n",
            "Downloading...\n",
            "From: https://drive.google.com/uc?id=106OVRPIQQBppganRnCZigxQh6-Zyvqit\n",
            "To: /content/preprocessed_v1_socialfsi_single_test_sampling389_20220701.xlsx\n",
            "100% 141k/141k [00:00<00:00, 86.7MB/s]\n"
          ]
        }
      ],
      "source": [
        "#download data\n",
        "!gdown --id :) \n",
        "!gdown --id :) "
      ]
    },
    {
      "cell_type": "code",
      "source": [
        "#libraby \n",
        "import numpy as np\n",
        "import pandas as pd\n",
        "import seaborn as sns\n",
        "import matplotlib.pyplot as plt\n",
        "\n",
        "from sklearn.utils.class_weight import compute_class_weight\n",
        "from tensorflow.keras.utils import plot_model"
      ],
      "metadata": {
        "id": "cgMb7j8pbNQj"
      },
      "execution_count": 2,
      "outputs": []
    },
    {
      "cell_type": "code",
      "source": [
        "train = pd.read_excel('/content/preprocessed_v1_socialfsi_single_train_sampling12150_20220701.xlsx')\n",
        "test = pd.read_excel('/content/preprocessed_v1_socialfsi_single_test_sampling389_20220701.xlsx')"
      ],
      "metadata": {
        "id": "ITJldeRSbbc6"
      },
      "execution_count": 3,
      "outputs": []
    },
    {
      "cell_type": "code",
      "source": [
        "train.head(5)"
      ],
      "metadata": {
        "colab": {
          "base_uri": "https://localhost:8080/",
          "height": 565
        },
        "id": "sMuRAAX0b2mv",
        "outputId": "49ed5975-4a6b-4de3-d63b-35e06c182851"
      },
      "execution_count": 4,
      "outputs": [
        {
          "output_type": "execute_result",
          "data": {
            "text/plain": [
              "   Unnamed: 0                                       TagFile_Path  \\\n",
              "0           0  SocialFSI_ZE-KTB-Feb-Apr2022_Sampling2244_2022...   \n",
              "1           1  SocialFSI_v4_0_mutiple_train_sampling8203_2021...   \n",
              "2           2  SocialFSI_ZE-KTB-Feb-Apr2022_Sampling2244_2022...   \n",
              "3           3  SocialFSI_v4_0_mutiple_train_sampling8203_2021...   \n",
              "4           4  SocialFSI_v4_0_mutiple_train_sampling8203_2021...   \n",
              "\n",
              "                                             TagFile SV_CustomerName  \\\n",
              "0  SocialFSI_ZE-KTB-Feb-Apr2022_Sampling1400_2022...  Krungthai_NEXT   \n",
              "1  SocialFSI_TrainDataV4_RetagCLS-12_Sampling53_P...             NaN   \n",
              "2  SocialFSI_ZE-KTB-Feb-Apr2022_Sampling1200_2022...  Krungthai_NEXT   \n",
              "3  SocialFSI_TrainSCB-SocialFilterV2_Sampling2750...             NaN   \n",
              "4  SocialFSI_TrainSCB-SocialFilterV2_Sampling2750...             NaN   \n",
              "\n",
              "                                        Main keyword      Channel SubChannel  \\\n",
              "0  mobile banking+กสิกร,mobile banking+ธนาคารกสิก...  SocialMedia      forum   \n",
              "1                                                NaN  SocialMedia    Twitter   \n",
              "2                                          krungthai  SocialMedia   facebook   \n",
              "3                                                NaN  SocialMedia    Twitter   \n",
              "4                                                NaN  SocialMedia    Twitter   \n",
              "\n",
              "                                 lfdn   verbatim_id     sentence_id  \\\n",
              "0           pantip.com_topic_41249919    Q2207_1549    Q2207_1549_1   \n",
              "1            5fffc6bcb08b583a24679d59  Q202106_5805  Q202106_5805_1   \n",
              "2  10161808181448916_1330115550790924     Q2207_636     Q2207_636_1   \n",
              "3                            27634345   Q202106_961   Q202106_961_1   \n",
              "4                            28297653  Q202106_2021  Q202106_2021_1   \n",
              "\n",
              "                                       Text_original  \\\n",
              "0  สอบถามเรื่องการอายัดบัตรเดบิตของกสิกรค่ะ พอดีว...   \n",
              "1  ปกติจะไม่ชอบlog in ใดๆในคอมคนอื่นหรือสำนักงานใ...   \n",
              "2  Krungthai Care ณ. ตอนนี้ยอดก็ยังไม่เข้าค่ะ ถ้า...   \n",
              "3  @scb_thailand เรียน scb ขอเบอร?ตืดต่อเพราะคุย ...   \n",
              "4  ไอเลิ้บ TMB All Free มาก แต่ช่วยพัฒนาแอพให้สเถ...   \n",
              "\n",
              "                                                Text  \\\n",
              "0  สอบถามเรื่องการอายัดบัตรเดบิตของกสิกรค่ะ พอดีว...   \n",
              "1  ปกติจะไม่ชอบlog in ใดๆในคอมคนอื่นหรือสำนักงานใ...   \n",
              "2  Krungthai Care ณ. ตอนนี้ยอดก็ยังไม่เข้าค่ะ ถ้า...   \n",
              "3  @scb_thailand เรียน scb ขอเบอร?ตืดต่อเพราะคุย ...   \n",
              "4                          ไอเลิ้บ TMB All Free มาก    \n",
              "\n",
              "                             Human_Category  Human_CategoryID Human_Sentiment  \\\n",
              "0  Product and Service, Usage and Condition                 8         neutral   \n",
              "1                                  Security                12         neutral   \n",
              "2               Product and Service, System                 7        negative   \n",
              "3                             Staff Quality                 4        negative   \n",
              "4  Product and Service, Usage and Condition                 8        positive   \n",
              "\n",
              "  Human_SentimentID                                      Text_ws_local  \n",
              "0                 o  สอบถาม|เรื่อง|การ|อายัด|บัตรเดบิต|ของ|kbank|ค่...  \n",
              "1                 o  ปกติ|จะ|ไม่ชอบ| |log| |in| |ใดๆ| |ใน|ค|อม|คนอื...  \n",
              "2                 n  ktb| |care| |ณ|.| |ตอนนี้|ยอด|ก็|ยัง|ไม่|เข้า|...  \n",
              "3                 n  scb_thailand| |เรียน| |scb| |ขอ|เบอร| |ตืด|ต่อ...  \n",
              "4                 p                    ไอ|เลิ้บ| |tmb_all_free| |มาก|   "
            ],
            "text/html": [
              "\n",
              "  <div id=\"df-fe40f8cb-0906-4acf-9575-5dc3ecfe25c2\">\n",
              "    <div class=\"colab-df-container\">\n",
              "      <div>\n",
              "<style scoped>\n",
              "    .dataframe tbody tr th:only-of-type {\n",
              "        vertical-align: middle;\n",
              "    }\n",
              "\n",
              "    .dataframe tbody tr th {\n",
              "        vertical-align: top;\n",
              "    }\n",
              "\n",
              "    .dataframe thead th {\n",
              "        text-align: right;\n",
              "    }\n",
              "</style>\n",
              "<table border=\"1\" class=\"dataframe\">\n",
              "  <thead>\n",
              "    <tr style=\"text-align: right;\">\n",
              "      <th></th>\n",
              "      <th>Unnamed: 0</th>\n",
              "      <th>TagFile_Path</th>\n",
              "      <th>TagFile</th>\n",
              "      <th>SV_CustomerName</th>\n",
              "      <th>Main keyword</th>\n",
              "      <th>Channel</th>\n",
              "      <th>SubChannel</th>\n",
              "      <th>lfdn</th>\n",
              "      <th>verbatim_id</th>\n",
              "      <th>sentence_id</th>\n",
              "      <th>Text_original</th>\n",
              "      <th>Text</th>\n",
              "      <th>Human_Category</th>\n",
              "      <th>Human_CategoryID</th>\n",
              "      <th>Human_Sentiment</th>\n",
              "      <th>Human_SentimentID</th>\n",
              "      <th>Text_ws_local</th>\n",
              "    </tr>\n",
              "  </thead>\n",
              "  <tbody>\n",
              "    <tr>\n",
              "      <th>0</th>\n",
              "      <td>0</td>\n",
              "      <td>SocialFSI_ZE-KTB-Feb-Apr2022_Sampling2244_2022...</td>\n",
              "      <td>SocialFSI_ZE-KTB-Feb-Apr2022_Sampling1400_2022...</td>\n",
              "      <td>Krungthai_NEXT</td>\n",
              "      <td>mobile banking+กสิกร,mobile banking+ธนาคารกสิก...</td>\n",
              "      <td>SocialMedia</td>\n",
              "      <td>forum</td>\n",
              "      <td>pantip.com_topic_41249919</td>\n",
              "      <td>Q2207_1549</td>\n",
              "      <td>Q2207_1549_1</td>\n",
              "      <td>สอบถามเรื่องการอายัดบัตรเดบิตของกสิกรค่ะ พอดีว...</td>\n",
              "      <td>สอบถามเรื่องการอายัดบัตรเดบิตของกสิกรค่ะ พอดีว...</td>\n",
              "      <td>Product and Service, Usage and Condition</td>\n",
              "      <td>8</td>\n",
              "      <td>neutral</td>\n",
              "      <td>o</td>\n",
              "      <td>สอบถาม|เรื่อง|การ|อายัด|บัตรเดบิต|ของ|kbank|ค่...</td>\n",
              "    </tr>\n",
              "    <tr>\n",
              "      <th>1</th>\n",
              "      <td>1</td>\n",
              "      <td>SocialFSI_v4_0_mutiple_train_sampling8203_2021...</td>\n",
              "      <td>SocialFSI_TrainDataV4_RetagCLS-12_Sampling53_P...</td>\n",
              "      <td>NaN</td>\n",
              "      <td>NaN</td>\n",
              "      <td>SocialMedia</td>\n",
              "      <td>Twitter</td>\n",
              "      <td>5fffc6bcb08b583a24679d59</td>\n",
              "      <td>Q202106_5805</td>\n",
              "      <td>Q202106_5805_1</td>\n",
              "      <td>ปกติจะไม่ชอบlog in ใดๆในคอมคนอื่นหรือสำนักงานใ...</td>\n",
              "      <td>ปกติจะไม่ชอบlog in ใดๆในคอมคนอื่นหรือสำนักงานใ...</td>\n",
              "      <td>Security</td>\n",
              "      <td>12</td>\n",
              "      <td>neutral</td>\n",
              "      <td>o</td>\n",
              "      <td>ปกติ|จะ|ไม่ชอบ| |log| |in| |ใดๆ| |ใน|ค|อม|คนอื...</td>\n",
              "    </tr>\n",
              "    <tr>\n",
              "      <th>2</th>\n",
              "      <td>2</td>\n",
              "      <td>SocialFSI_ZE-KTB-Feb-Apr2022_Sampling2244_2022...</td>\n",
              "      <td>SocialFSI_ZE-KTB-Feb-Apr2022_Sampling1200_2022...</td>\n",
              "      <td>Krungthai_NEXT</td>\n",
              "      <td>krungthai</td>\n",
              "      <td>SocialMedia</td>\n",
              "      <td>facebook</td>\n",
              "      <td>10161808181448916_1330115550790924</td>\n",
              "      <td>Q2207_636</td>\n",
              "      <td>Q2207_636_1</td>\n",
              "      <td>Krungthai Care ณ. ตอนนี้ยอดก็ยังไม่เข้าค่ะ ถ้า...</td>\n",
              "      <td>Krungthai Care ณ. ตอนนี้ยอดก็ยังไม่เข้าค่ะ ถ้า...</td>\n",
              "      <td>Product and Service, System</td>\n",
              "      <td>7</td>\n",
              "      <td>negative</td>\n",
              "      <td>n</td>\n",
              "      <td>ktb| |care| |ณ|.| |ตอนนี้|ยอด|ก็|ยัง|ไม่|เข้า|...</td>\n",
              "    </tr>\n",
              "    <tr>\n",
              "      <th>3</th>\n",
              "      <td>3</td>\n",
              "      <td>SocialFSI_v4_0_mutiple_train_sampling8203_2021...</td>\n",
              "      <td>SocialFSI_TrainSCB-SocialFilterV2_Sampling2750...</td>\n",
              "      <td>NaN</td>\n",
              "      <td>NaN</td>\n",
              "      <td>SocialMedia</td>\n",
              "      <td>Twitter</td>\n",
              "      <td>27634345</td>\n",
              "      <td>Q202106_961</td>\n",
              "      <td>Q202106_961_1</td>\n",
              "      <td>@scb_thailand เรียน scb ขอเบอร?ตืดต่อเพราะคุย ...</td>\n",
              "      <td>@scb_thailand เรียน scb ขอเบอร?ตืดต่อเพราะคุย ...</td>\n",
              "      <td>Staff Quality</td>\n",
              "      <td>4</td>\n",
              "      <td>negative</td>\n",
              "      <td>n</td>\n",
              "      <td>scb_thailand| |เรียน| |scb| |ขอ|เบอร| |ตืด|ต่อ...</td>\n",
              "    </tr>\n",
              "    <tr>\n",
              "      <th>4</th>\n",
              "      <td>4</td>\n",
              "      <td>SocialFSI_v4_0_mutiple_train_sampling8203_2021...</td>\n",
              "      <td>SocialFSI_TrainSCB-SocialFilterV2_Sampling2750...</td>\n",
              "      <td>NaN</td>\n",
              "      <td>NaN</td>\n",
              "      <td>SocialMedia</td>\n",
              "      <td>Twitter</td>\n",
              "      <td>28297653</td>\n",
              "      <td>Q202106_2021</td>\n",
              "      <td>Q202106_2021_1</td>\n",
              "      <td>ไอเลิ้บ TMB All Free มาก แต่ช่วยพัฒนาแอพให้สเถ...</td>\n",
              "      <td>ไอเลิ้บ TMB All Free มาก</td>\n",
              "      <td>Product and Service, Usage and Condition</td>\n",
              "      <td>8</td>\n",
              "      <td>positive</td>\n",
              "      <td>p</td>\n",
              "      <td>ไอ|เลิ้บ| |tmb_all_free| |มาก|</td>\n",
              "    </tr>\n",
              "  </tbody>\n",
              "</table>\n",
              "</div>\n",
              "      <button class=\"colab-df-convert\" onclick=\"convertToInteractive('df-fe40f8cb-0906-4acf-9575-5dc3ecfe25c2')\"\n",
              "              title=\"Convert this dataframe to an interactive table.\"\n",
              "              style=\"display:none;\">\n",
              "        \n",
              "  <svg xmlns=\"http://www.w3.org/2000/svg\" height=\"24px\"viewBox=\"0 0 24 24\"\n",
              "       width=\"24px\">\n",
              "    <path d=\"M0 0h24v24H0V0z\" fill=\"none\"/>\n",
              "    <path d=\"M18.56 5.44l.94 2.06.94-2.06 2.06-.94-2.06-.94-.94-2.06-.94 2.06-2.06.94zm-11 1L8.5 8.5l.94-2.06 2.06-.94-2.06-.94L8.5 2.5l-.94 2.06-2.06.94zm10 10l.94 2.06.94-2.06 2.06-.94-2.06-.94-.94-2.06-.94 2.06-2.06.94z\"/><path d=\"M17.41 7.96l-1.37-1.37c-.4-.4-.92-.59-1.43-.59-.52 0-1.04.2-1.43.59L10.3 9.45l-7.72 7.72c-.78.78-.78 2.05 0 2.83L4 21.41c.39.39.9.59 1.41.59.51 0 1.02-.2 1.41-.59l7.78-7.78 2.81-2.81c.8-.78.8-2.07 0-2.86zM5.41 20L4 18.59l7.72-7.72 1.47 1.35L5.41 20z\"/>\n",
              "  </svg>\n",
              "      </button>\n",
              "      \n",
              "  <style>\n",
              "    .colab-df-container {\n",
              "      display:flex;\n",
              "      flex-wrap:wrap;\n",
              "      gap: 12px;\n",
              "    }\n",
              "\n",
              "    .colab-df-convert {\n",
              "      background-color: #E8F0FE;\n",
              "      border: none;\n",
              "      border-radius: 50%;\n",
              "      cursor: pointer;\n",
              "      display: none;\n",
              "      fill: #1967D2;\n",
              "      height: 32px;\n",
              "      padding: 0 0 0 0;\n",
              "      width: 32px;\n",
              "    }\n",
              "\n",
              "    .colab-df-convert:hover {\n",
              "      background-color: #E2EBFA;\n",
              "      box-shadow: 0px 1px 2px rgba(60, 64, 67, 0.3), 0px 1px 3px 1px rgba(60, 64, 67, 0.15);\n",
              "      fill: #174EA6;\n",
              "    }\n",
              "\n",
              "    [theme=dark] .colab-df-convert {\n",
              "      background-color: #3B4455;\n",
              "      fill: #D2E3FC;\n",
              "    }\n",
              "\n",
              "    [theme=dark] .colab-df-convert:hover {\n",
              "      background-color: #434B5C;\n",
              "      box-shadow: 0px 1px 3px 1px rgba(0, 0, 0, 0.15);\n",
              "      filter: drop-shadow(0px 1px 2px rgba(0, 0, 0, 0.3));\n",
              "      fill: #FFFFFF;\n",
              "    }\n",
              "  </style>\n",
              "\n",
              "      <script>\n",
              "        const buttonEl =\n",
              "          document.querySelector('#df-fe40f8cb-0906-4acf-9575-5dc3ecfe25c2 button.colab-df-convert');\n",
              "        buttonEl.style.display =\n",
              "          google.colab.kernel.accessAllowed ? 'block' : 'none';\n",
              "\n",
              "        async function convertToInteractive(key) {\n",
              "          const element = document.querySelector('#df-fe40f8cb-0906-4acf-9575-5dc3ecfe25c2');\n",
              "          const dataTable =\n",
              "            await google.colab.kernel.invokeFunction('convertToInteractive',\n",
              "                                                     [key], {});\n",
              "          if (!dataTable) return;\n",
              "\n",
              "          const docLinkHtml = 'Like what you see? Visit the ' +\n",
              "            '<a target=\"_blank\" href=https://colab.research.google.com/notebooks/data_table.ipynb>data table notebook</a>'\n",
              "            + ' to learn more about interactive tables.';\n",
              "          element.innerHTML = '';\n",
              "          dataTable['output_type'] = 'display_data';\n",
              "          await google.colab.output.renderOutput(dataTable, element);\n",
              "          const docLink = document.createElement('div');\n",
              "          docLink.innerHTML = docLinkHtml;\n",
              "          element.appendChild(docLink);\n",
              "        }\n",
              "      </script>\n",
              "    </div>\n",
              "  </div>\n",
              "  "
            ]
          },
          "metadata": {},
          "execution_count": 4
        }
      ]
    },
    {
      "cell_type": "code",
      "source": [
        "train['Human_CategoryID'].sort_index(ascending=True).value_counts()"
      ],
      "metadata": {
        "colab": {
          "base_uri": "https://localhost:8080/"
        },
        "id": "HA6bOeakDu5L",
        "outputId": "c7870638-3312-4ebe-d2ed-360639df1e51"
      },
      "execution_count": 5,
      "outputs": [
        {
          "output_type": "execute_result",
          "data": {
            "text/plain": [
              "7     3275\n",
              "8     2454\n",
              "13    2133\n",
              "5     1163\n",
              "6     1109\n",
              "4      522\n",
              "10     379\n",
              "3      377\n",
              "11     232\n",
              "1      185\n",
              "9      153\n",
              "12     152\n",
              "2       16\n",
              "Name: Human_CategoryID, dtype: int64"
            ]
          },
          "metadata": {},
          "execution_count": 5
        }
      ]
    },
    {
      "cell_type": "markdown",
      "source": [
        "#Create a Vocabulary"
      ],
      "metadata": {
        "id": "3hRruw5Ph59Y"
      }
    },
    {
      "cell_type": "code",
      "source": [
        "from collections import Counter\n",
        "\n",
        "vocab = Counter()\n",
        "def data_to_vocab(df):\n",
        "  for verbatim in df['Text_ws_local']:\n",
        "    tokens = verbatim.split()\n",
        "    tokens = [word for word in tokens if len(tokens) > 4] #at first = 1, CNN GMP is better with >4 for ~2%\n",
        "    vocab.update(tokens)\n",
        "\n",
        "data_to_vocab(train)\n",
        "\n",
        "print(len(vocab))\n",
        "vocab.most_common(20)"
      ],
      "metadata": {
        "colab": {
          "base_uri": "https://localhost:8080/"
        },
        "id": "9KsihNdkb28k",
        "outputId": "3a415de3-ca28-471c-c341-66fae7d772af"
      },
      "execution_count": 6,
      "outputs": [
        {
          "output_type": "stream",
          "name": "stdout",
          "text": [
            "46943\n"
          ]
        },
        {
          "output_type": "execute_result",
          "data": {
            "text/plain": [
              "[('|scb|', 1518),\n",
              " ('|friendtag|', 625),\n",
              " ('|2|', 512),\n",
              " ('|kbank|', 403),\n",
              " ('|บาท|', 360),\n",
              " ('|1|', 340),\n",
              " ('|3|', 329),\n",
              " ('|5|', 298),\n",
              " ('|tmb|', 251),\n",
              " ('|call_center|', 250),\n",
              " ('|atm|', 249),\n",
              " ('atm|', 245),\n",
              " ('|scb_easy|', 201),\n",
              " ('|telephonetag|', 199),\n",
              " ('|app|', 199),\n",
              " ('|กรุงไทย|', 198),\n",
              " ('|-|', 184),\n",
              " ('|sms|', 178),\n",
              " ('|ktc|', 176),\n",
              " ('|ของ|', 164)]"
            ]
          },
          "metadata": {},
          "execution_count": 6
        }
      ]
    },
    {
      "cell_type": "code",
      "source": [
        "min_occurence = 2\n",
        "tokens = [k for k, c in vocab.items() if c >= min_occurence]"
      ],
      "metadata": {
        "id": "YqxVmTU0hXYD"
      },
      "execution_count": 7,
      "outputs": []
    },
    {
      "cell_type": "code",
      "source": [
        "def save_list(lines, filename):\n",
        "  data = '\\n'.join(lines)\n",
        "  file = open(filename, 'w')\n",
        "  file.write(data)\n",
        "  file.close()\n",
        "  \n",
        "save_list(tokens, 'vocab.txt')"
      ],
      "metadata": {
        "id": "dxb6rJv_gzC1"
      },
      "execution_count": 8,
      "outputs": []
    },
    {
      "cell_type": "markdown",
      "source": [
        "#Data Processing: Embedding & the Model"
      ],
      "metadata": {
        "id": "WbZ5MsM0iCNr"
      }
    },
    {
      "cell_type": "code",
      "source": [
        "#Load the vocab as above\n",
        "def load_doc(filename):\n",
        "  file = open(filename, 'r')\n",
        "  text = file.read()\n",
        "  file.close()\n",
        "  return text\n",
        "\n",
        "vocab_filename = 'vocab.txt'\n",
        "vocab = load_doc(vocab_filename)\n",
        "vocab = vocab.split()\n",
        "vocab = set(vocab)\n",
        "\n",
        "print(vocab)"
      ],
      "metadata": {
        "colab": {
          "base_uri": "https://localhost:8080/"
        },
        "id": "xWxGiDbLiDjC",
        "outputId": "2d32a31d-8144-4266-ddc8-e88afb1eeb38"
      },
      "execution_count": 9,
      "outputs": [
        {
          "output_type": "stream",
          "name": "stdout",
          "text": [
            "{'|สถาบันการเงิน|ชื่อดัง|', '|spotify|', '|ธนาคารไทยพาณิชย์|', '|ร้าน|ป|ริ้น|ยัง|ไม่|เปิด|นี่|เลย|จะ|เปิดบัญชี|เพื่อ|จ่ายเงิน|', '|ไม่|ได้รับ|', '|ติด|', '|gwallet|', '|ไม่ทราบ|ว่า|', '|ยัง|เป็น|นิสิต|อยู่|', '|ไม่มี|สมุดบัญชี|', '|กรุงไทย_axa|', '|20.00|', '|scb_first|', '|ไป|ไหม|นะ|', '|ก็|ล่ม|', '|ฮือ|', '|ค่าบริการ|', '|อี|หน้า|เหี้ย', '|pin|', '|กด|เข้าไป|', '|กด|ไม่ได้|', '|pass|', '|เขา|บอก|', '6|', 'พอดี|', '|โค|วิท|', '|ค่า|', '|ทั้งๆ', '|ขอบคุณ|ครับ', '|ยกตัวอย่างเช่น|', '|ไป|ตั้งแต่|วัน|ที่', '|bls|', '|ขั้นต่ำ|เปิด|พอร์ต|ห้า|แสน|บาท|', '13|', '|61|', '|พอร์ต|', '|express|', '|ดอกเบี้ย|ยิ่ง|เยอะ|ค่ะ', '|โค|วิด_19', '|ต้นๆ|', '|rabbit|', '|ยืนยัน|ตัวตน|ปุ๊บ|', '|ครั้งแรก|', '|tot|', '|ต้อง|ไป|สาขา|', '|all|', '|download|', '|มี|ค|', '|สินเชื่อ|', '|1.|', '|งง', '|ใน|แอ|ฟ|มัน|เป็น|ออ|มท|ร|พ|ย|์|', '|ให้|', '|ที่|ตู้', '|ลองดู|นะคะ', '|verify|', '|มี|ไหม|', '|ล่ม|อีก|', '|0|', '|ปลายทาง|kbank|', '|ค่ะ|', '|ยัง|ไม่|เข้า|เลย|ครับ', '|passion|', '|scbeasyapp|', '|พวก|', '|กดเงิน|ไม่|ใช้|บัตร|ไม่ได้|ค่ะ|', '|ทุกเดือน|', '|ได้|ไหม|ครับ', '|ขอบพระคุณ|มาก|ครับ', '|เติมเงิน|', '22|', 'ขอบคุณ|ครับ|', '|45|-|60|', '|น้อยกว่า|', '|ประมาณ|', '|ชำระเงิน|', '|ตอนนี้|เลย|', 'เติม|เงินเข้า|', '|ระหว่าง|', '|0.5|', '|อีกที|', 'โอนเงิน|จาก|kbank|', '|110|', '|พ|น.|', '|option|', '|ขัดข้อง|', '|เลย|ด้วย|', '|walk|', '|ครึ่ง|', '|สินเชื่อ|เพิ่ม|ได้|', '|เรา|ชนะ|', '|พนักงาน|บอก|ว่า|', '|5|-|6|', '20|', '|คัน|', '|ต้อง|', '|บาท|ค่ะ|', '|โอนเงิน|ผิด|บัญชี|', '|contact|', '|robo|', '|โลตัส|', '|savings|', '|ยัง|ไม่|เข้า|เลย', '|เอา|ง่ายๆ|', '|แค่|ยื่น|บัตร|ให้|', '|ไม่|สา|มาร|อนุมัติ|บัตรเครดิต|ของ|ท่าน|ได้|เป็นผล|จาก|เกณฑ์|พิจาร|ณ|รา|ของ|บริษัท|เท่านั้น|', 'kitisak|', '|ธนาคาร|หยุด|ไหม|คะ|', '|จาก|ทาง|', '|ร้องไห้|', '|ทุกครั้ง|', '|มีโอกาส|', '|รอ|', 'เรา|อยากจะ|ติดต่อสอบถาม|เรื่อง|การ|พัก|หนี้|ค่ะ|', '|app|', '|ตัว|', '|สำเนา|บัตร|', '|เลข|', '|พี่|', '|ดีๆ|', '|แอป|', '|599|', '|cc|', '|support|', '|มี|เพื่อน|ๆ|', '|ตามปกติ|', '|ขออภัย|', '|usa|', '|เจ้าหน้าที่|บอก|', '|830|', '|ล่ม|หรอ|คะ|', '|ต้อง|รอ|ตรวจสอบ|', '|ตอนนี้|คือ|', '|citi_premier|', '|refinance|', '|private|', '|ทุ่ม|ครึ่ง|', '|คืนเงิน|', '|ธนาคาร|', '|น|', '|ส่ง|มา|ว่า|', '|พอ|ถึง|วัน|ที่', '|ซึ่ง|สถานการณ์|ตอนนี้|ก็|คือ|ไม่|อยาก|ออกไป|ไหน|เลย|', '|125|', '|คิดว่า|', '|มี|เอกสาร|', '|ของ|bay|', 'bbl|', '|400|', '|ก่อน|จะ|มี|โครงการ|พัก|หนี้|ของ|ธนาคาร|ต่างๆ|', '|ยัง|มี|', '|up|', '|รำคาญ|', '|note|', '|bitkub|', '|ขอโทษ|ค่ะ|', 'สมัคร|บัตร|', '|สอบถาม|หน่อย|ค่ะ|', '|pending|', '|save|', '|mint|', '|ค่ะ|.|', '|กดเงิน|ไม่ได้|', '|gulf|', '|ไม่ได้|ครับ', '|เข้ามา|ที่|ไทย|', '|streaming|', '|สิ|ครับ|', '|ป่า|รอยต่อ|', '|ผ่าน|มา|เกือบ|', 'scbs|', '|ของ|ธนาคาร|bbl|', '10|', '|ktsf|', '|ผ่าน|', '|โยน|ไป|', '|ล่ม|เก่ง|', '|สด|', '|ก็|เสือก|ไม่|เข้า|', '|fee|', '|ลด|', '|ทำไง|ดี|คะ', '|ใบ', '|รายเดือน|', '|วัน|ทำการ', '|อยาก|รู้ว่า|ค่าธรรมเนียม|ตรง|', 'callcenter|', '|mi|', 'โทร|เข้า|', '|แม่|ง|', 'ฝาก|ธนาคาร|ก็ได้|ดอกเบี้ย|น้อยนิด|', '|ต้อง|ให้|หน้า|สมุดบัญชี|ตรงกับ|ผู้ที่|ลงทะเบียน|', '|airasia|', '|คำถาม|', '|ทำ|ยังไง|ดี|คะ|', '|ready|', '|covid-|19|', '|ไอ|', '|wifi|', '|โอ้|ย', '|ตัด|', '|เสียเวลา|มาก|', '|เหมือน|', '|กด|', 'ปิดบัญชี|', '|หรือเปล่า|', '|station|', '|เม.ย|', '|จาก|บัญชี|', '|29|', '|กรอก|ข้อมูล|แล้ว|', '|thanachart|', '|mail|', '|g-wallet|', '|เหลือ|แค่|', '|default|', '|โทร|ไป|คอลเซนเตอร์|', '|เบอร์|เติม|ผิด|', '|pos|', '|อีก|ประมาณ|', '|นะคะ|', '|ไว้|', '|bankkokbank|', '|กรุงเทพ|ประกันภัย|', '|อี|เวง|', '|โฉนด|', 'ของ|ผม|', '|คือ|ถ้า|', '|แค่นั้น|', '|fun|', '|update|', 'อ|ห|', '|atm|', '|18000|', '|ปรากฏ|', '|ได้|ค่ะ|', 'k|', '|bitcoin|', '|อนุมัติ|แล้ว|', '|ไป|เปิดบัญชี|', '|ไม่|มีอาชีพ|', '|ใช้งาน|ไม่ได้|', '|โอน|เมื่อ|วัน|ที่', '|ไม่มี|เลย|', '|บาท|ไทย|', '|กว่า|ๆ|', '|call|', '|2561|', 'โอนเงิน|จาก|ธนาคาร|', '|คุย|กับ|', '|เงิน|ยัง|ไม่|เข้า|', '|ธนาคาร|ค.|', 'เอ|', 'แอป|', '|shanghai|', '|ผ่าน|ทาง|แอป|', '|อาชีพ|', '|ส่ง|', '|บ้าง|ค่ะ|', '|แล้ว|กด|', '|แล้ว|พอ|', 'เติมเงิน|ผ่าน|แอป|', '|เลือก|', '|รอ|ดู|', '|โอน|ไป|', '|netbank|', '|wow|', '|กว่า|ปี|', '|เลย|', '|แบบ|ครับ|', '|17|', '|ใน|', '|ไม่ได้|สักที|', '|scb-m|', '|momo|', '|ธนาคาร|แบบนี้|', '|chat|', '|ref|.|1|', '|เสียความรู้สึก|มาก|', '|อะไร|เนี่ย', '|ปี|ที่ผ่านมา|', '|2140|', '|เป็น|อะไร|', '45|', 'scb_first|', '|หมายถึง|', '|เข้า|ไม่ได้|', 'เมื่อ|วัน|ที่', 'พึ่ง|รู้ว่า|', '|ห่วยแตก', '|เปิดบัญชี|', '|ขีด|', '|ตอนนี้|', '|หลัง|', '|24000|', '|ได้|หรือไม่|ครับ|', '|ล่ม|อีกแล้ว|', '|ทั้ง|ทาง|', '|digital|', '|หรือ|ตาม|แต่ละ|พื้นที่|', '|ทำ|ยังไง|ก็|ไม่|ผ่าน|', '|reference|', '|หมุนเวียน|และ|', '|ไปมา|', '|เพราะ|กลับ|ไทย|ก็|ไม่ได้|ค่ะ|ตอนนี้', '|นานๆ|', '|ส่ง|เอกสาร|', '|kept|', '|หลัง|วัน|ที่', '|15|', '|ขึ้น|รหัส|', '|ทุก|ธนาคาร|', '|ตาม|หัวข้อ|กระทู้|เลย|', '|passbook|', '|ใช่ไหม|คะ', '|บอก|ว่า|รีบ|เร็ว|เด่|ว|เต็ม|นะ|', '|ลอง|', '|ยัง|เข้า|ไม่ได้|', '|d|', '|ตอนนี้|ใช้|', '|net|', 'โทร|ไป|', '|33000|', 'scbplanet|', '|ตู้', '|ทอง|', '|ขายหมู|', '|ปล่อย|', '|society|', '|ของ|ประเทศ|', '|grow|', '|ธนาคารกรุงไทย', '|โอน|ไม่ได้|', '|ดังนั้น|', '|ก่อน', '|กรุงไทย|', '|อาทิ|', '|k|8888|', '|ไป|แล้ว|', '|ขอ|ถาม|หน่อย|ค่ะ|', '|ครับผม|', '|จน|วันนี้|เพิ่ง|มี|หมายศาล|ส่ง|มา|ที่บ้าน|ที่|', 'ตู้|', '|เหลือ|', '|แก้ไข|', '|ไม่ได้|ครับ|', '|นี่|', '|verified|', '|top|', '|ดอกเบี้ย|', '|23.48|', '|ดี|', 'ขออนุญาต|สอบถาม|ค่ะ|', '|ก็|ปิด|', '|ปลายทาง|ไม่ได้|รับเงิน|', '|จนถึง|วันนี้|', '|thai|', '|ต่อ|', '|คับ|', '|งง|เลย', '|29000|', '|ชิม|ช้อป|ใช้|', '|อยากทราบ|ว่า|เพื่อน|ๆ|', '|ไม่มีปัญหา|เลย|', '|exchange|', '|33|', '|เห็น|บาง|ธนาคาร|ไม่ต้อง|ใช้|แสตมป์|ภาษีอากร|', '|ทาง|ออนไลน์|', '|อ่าว|', '|เพิ่ม|', '|699|', '|ไป|เข้า|', '|18.11|', '|ปกติ|จะ|มี|', '|ได้แก่|', '|เข้า|kbank|', '|ชาว|พันทิป|', '|แล้ว|ครับ|', '|ตก|', '|โป|ร|', '|kbankxblackpink', '|limited|', '|ธนาคาร|ธนาคารเพื่อการเกษตรและสหกรณ์การเกษตร|', '|ดังนี้|', '|จน|วันนี้|วัน|ที่', '|ขอความช่วยเหลือ|', '|รับ|แต่|เงิน|ห|ยวน|ของ|จีน|', '|ลืม|', '|paul|', '|scb_life|', '|ทุ่ม|', '|ทำ|รายการ|ไม่|ตามเวลา|กำหนด|พ่อ|ง|มึง|ดิ', '|ไป|เข้าบัญชี|', '|ลบ|', '|ดีมาก|เหมือนกัน|', '|กู้|คนเดียว|', '|บาง|สาขา|', '|จะ|ออกบัตร|กด|ฟรี|ได้|อย่างไร|', '|บาท|ต่อ|ปี|', '|พ่อ|', '|นะ|ครับ|', '|k-express|', '|ผม|เปิดบัญชี|ตั้งแต่|วัน|ที่', '|เซ็ง|', '|เป็น|งง|', '|ก็|ยัง|ไม่ติดต่อ|กลับมา|ตกลง|ไฟแนนซ์|ไทยพาณิชย์|', '|รึ|เปล่า|ครับ|', '|วัน|', '|อยาก|สอบถาม|ว่า|', 'ตาม|หัวข้อ|เลย|ค่ะ|', 'ผม|สงสัย|ว่า|', '|ดีจัง|', '|5000|', '|13|', '|ขอบคุณ|คะ', '|แทน|', '|be|', 'พร้อมเพย์|ต้อง|ไป|ติดต่อ|กับ|ธนาคาร|เจ้าของ|บัญชี|เพื่อ|ลงทะเบียน|ผูก|บัญชี|เข้ากับ|หมายเลขโทรศัพท์|ครับ|', '|65', '|pc|', '|2515|', 'มือถือ|จีน|', '|5|', '|ค่า|ประเมิน|', '|od|', 'โป|ร|บัตร|', '|ต|ค.|', '|ทำไง|ดี|คะ|', '|citibank', '|ไม่สามารถ|ทำ|รายการ|ได้|ในขณะนี้|', '|ปี|แล้ว|', '|เครื่อง|เก่า|', '|เข้าบัญชี|', '|โมโห', '|รวม|ๆ|', '|-_-', '|อยู่|ค่ะ|', '|มี|ประวัติ|ล่าช้า|', '|แปล|ว่า|', '|ต้อง|ติดต่อ|ธนาคาร|', '|บาท|ทุกเดือน|', '|ทุกเดือน', '|สมาร์ท|', '|ขอบคุณ|นะ|ครับ|', '|ก็ได้|ค่ะ|', '|โมง|ครึ่ง|', '|ขอบคุณ|มาก|ครับ|', 'เรา|สมัคร|', '|รับ|', '|ง่ายๆ|', '|ฟรี|ค่าธรรมเนียม|', '|wisdom|', 'คือ|แบบ|', '|แบบนี้|ต้อง|ทำ|อย่างไร|ครับ', '|โอนเงิน|ไป|', '|เดียว|', '|อี|เหี้ย', '|bualuang|', '|เป็นต้นไป|', 'ยอมแพ้|ที่', '|takashimaya|', 'คุณ|', '|เป็น|อะไร|อีก|', '|scb_easy', '|ไม่สามารถ|ทำ|รายการ|ทางการ|เงินได้|ในขณะนี้|', '|เที่ยงคืน|', '|กุ|มีปัญหา|กับ|ไลน์|แมน|อีก|', '|แล้ว|ทาง|', '|วัน|เหมือนเดิม|', '|เซ็ง|มากๆ|', '|ก็|สามารถ|', '|ใน|ใบแจ้งหนี้|จ่าย|', '|ไปที่|', '|จู่ๆ|', '|ทำไม|เข้า|ไม่ได้|อะ|', '|ก็|เลย|รีบ|กด|รับ|สิทธิ์|เลย|', '|โค|วิด|', '|900|', '|ปี|แรก|', '|ด้วย|', '|2557|', '|แย่|จริงๆ|', '|อาทิตย์|ละ|', '|กรุงไทย', '|ได้|เลย', '|เบอร์|โทรศัพท์|', '|7600|', '|แลก|', '|t|', '|sbc|', 'suphakit|', '|service|', '|เป๋า|ตัง', '|ถึง|', '|แสน|', '|e-statement|', '|ขอบคุณ|ล่วงหน้า|นะคะ|', '|แต่|ไม่สามารถ|', '|เปิด|บัญชีเงินฝาก|', '|วีซ่า|', '|เลย|ค่ะ', '|ipo|', '|แต่|เจ้าหน้าที่|', '|เท่านั้น', '|รวย|', '|ขอบคุณ|ค่ะ|', '|32|', '|ชื่อ|ธุรกิจ|โดย|ชื่อ|เจ้าของร้าน|', '|booking|', '|แบบ|แรก|', '|ซึ่ง|ไม่|ตรงกับ|ที่|โครงการ|ดีล|ไว้|เลย|ครับ|', '|70000|', '|ไป|kbank|', '|ได้|ไหม|', '|ลอง|ดูๆ|', '|หรอ|คะ|', '|ทำไง|ดี|', '|63|', '|เงิน|ยัง|ไม่|เข้าบัญชี|', '|ปี|ที่', 'โทร|หา|', '|อันนี้|ไม่|รู้ว่า|สรุป|เป็น|ยังไง|บ้าง|', '|เกิด|จาก|อะไร|คะ|', '|สมาชิก|ว่า|', '|แต่|เงิน|ไม่|เข้า|ปลายทาง|', '|แรก|', '|ตกลง|', '|jp|', '|baac|', '|1900|', '|ลงท้าย|', '|เลขบัญชี|', 'ทุกคน|', '|ของ|ธนาคารกรุงไทย|คือ|แย่มาก|', '|scb_mobile|', '|scb_m|', '|สั่ง|อาหาร|', '|จะ|กู้เงิน|ใน|ไลน์|', '|520|', '|กด|สมัคร|', '|มายัง|', '|db|', '|พนักงานธนาคาร|แนะนำ|ให้|ใช้|', '|ส่ง|มา|', '|รบกวน|ด้วย|นะคะ|', '|บางที|', '|หมายเลข|', '|ที่อยู่|', '|เกี่ยวกับ|', '|คือ|อะไร|', '|รูป|สอง|', '|ไม่ดี|', '|ล่ม|บ่อย|มาก|', '|ใคร|ที่ใช้|อยู่|รบกวน|แนะนำ|หน่อย|ครับ', '|ขอ|เอกสาร|เพิ่ม|', '|ตอบ|', '|วิ่ง|ก่อน|', '|มา|kbank|', '|เดือน', '|center|', '|มี|เยอะ|แล้ว|', '|book|', 'k|8888|', '|e-savings|', '|ยัง|ไม่ได้|เลย|', '|atm|.|', '|ดู|', '|ห่วย|', '|365|', '|facebook|', '|ก.|พ|', '|km|', '|-|19|', 'แล้ว|ทำไม|', '|b|', '|ทำ|ยังไง|ได้|บ้าง|คะ|', '|ใช้|', '|รักษา|', '|จน|วัน|ที่', '|ที่ธนาคาร|', '|โดยประมาณ|', '|หมื่น|บาท|', '|มัน|มี|', '|ป|ล|', '|แม่|จะ|จ่าย|งวด|แรก|ให้|ก่อน|แล้ว|ที่เหลือ|หนู|ผ่อน|', '|รบกวน|สอบถาม|ค่ะ|', '|ลดเหลือ|', '|ฉะนั้น|', '|ค่าธรรมเนียมรายปี|', '|100|', '|ขอบคุณ', '|ดี|ค่ะ|', '|ดู|สรุป|ยอด|ซื้อ|', '|ktb_travel_card|', '|ใหม่|', '|กุมภาพันธ์|', '|แล้ว|นะ|', '|59|', '|ผ่าน|ไหม|ค่ะ|หรือ|ใคร|เคย|กู้|บ้าง|เล่า|ประสบการณ์|', '|ค|ห|', '|เท่า|', '|หมุนเวียน|และ|สินเชื่อ|ได้|เพิ่ม|', '|ก็|ขึ้น|ว่า|', 'กรุงไทย|', '|เรา|ยัง|ไม่ได้|ข้อความ|เหมือนกัน|ค่ะ|', '|เงิน|จะ|เข้า|พรุ่งนี้|', '|จำเป็นต้อง|ใช้|เงิน', '|เท่าไหร่|', '|scbb|', '|ว้อท|', '|บาท|', '|k-esaving|', 'ได้|', '|ก.พ.|', '|ก่อนหน้านี้|', '|ต้อง|ทำ|ยังไง|ครับ|', '|ได้|วัน|ที่', '|speedy|', '|อ่ะ|ค่ะ|', '|กับ|ไทยพาณิชย์|', '|2021|', '|ขอคำแนะนำ|หน่อย|ค่ะ|', '|งวด|แรก|', '|ไหม|ค่ะ|', '|อาทิตย์|', '|ละ', '|64', '|รบกวน|ทาง|', '|ก็|เป็น|', '|15000|', '|ไร|งี้|', '|line|', 'กู้เงิน|กับ|', '|โอน|', '|ของ|วันนี้|ให้|ลอง|เช็ค|ที่|บัญชี|ปลายทาง|ก่อน|ถ้า|ไม่|ได้รับ|ก็|ให้|เช็ค|พรุ่งนี้|อีกที', '|จะ|โอนเงิน|', '|เลือก|ถอนเงิน|ไม่|ใช้|บัตร|', '|ก็|ไม่ได้|', '|ม.|ค.|', '|ต้องการ|ปิดบัญชี|ไป|เลย|', '|mymo|', '|kkp|', '|ตาม|ข้อ|', '|90000|', '|ย|', '|2400|', '|เลว|', '|2645|', '|เปิดบัญชี|ใหม่|', '|scbs', '|อ|ห', '|แผน|', '|number|', '|รอบ|ที่', '|พอ|', '|tisco|', '|รอสาย|', '|ไทยพาณิชย์|', '|easy|', '|ต้นเดือน|', '9|', 'พี่|ที่|ธนาคารกรุงไทย|ใจ|ดีมาก|', '|ทั้งๆ|', '|เหมือน|สมัยนี้|', '|กู้|ได้|', '|ผม|ว่า|', '|ได้|ดอกเบี้ย|อยู่|', '|บาท', '|1.6|', '|2|xxxx|', '|คืน|บัตร', '|ต่าง|สาขา|', '|สาขา|ชน|แดน|', '|แต่|บัญชี|ปลายทาง|ไม่|ได้รับ|ยอด|', 'ประกัน|', '|ชม|', '|จะ|ให้|', '|แล้วจะ|เอา|เงิน|ไป|ทำ|อะไร|ดี|นะ|', 'scb_easy|', '|ของ|ธนาคารเพื่อการเกษตรและสหกรณ์การเกษตร|', '|อะ|', '|ลง|', '|ไฟล์|', '|4|-|5|', '|ให้|หมด|', 'มี|', '|vat|', '|wongnai|', '|barcode|', '|บาท|เอง|', '|แสก|น|', 'ที่|เรา|', '|ต.ค.|', '|trade|', '|operator|', '|ซื้อได้|จนถึง|', '|แต่|ใช้ไม่ได้|คะ|', '|ยัง|ไว|กว่า|เยอะ|', '|port|', '|เรา|ได้|ทำการ|โอนเงิน|จาก|gsb|ผ่าน|', '|เดือน|', '|card|', 'kept|', '|จ้า|', '|2|-|3|', '|วัน|ทำการ|ครับ|', '|ล่ม|', '|fwd|', '|เสียความรู้สึก|มาก', '|ไม่มี|บัตรเอทีเอ็ม|', '|ของ|kbank|', '|ไม่|เกี่ยวข้องกับ|ข้อมูล|เครดตบู|โร|', '|9|', '|มี|แต่|', '|2565|', 'ซื้อ|ผ่าน|', '|อยาก|บอก|ว่า|', '|ก็|คือ|', '|โทร|มา|', '|2600000|', '|ไป|แจ้งความ|', '|เพราะอะไร|', '|e-mail|', '|แต่|เงิน|ไม่|เข้าบัญชี|ปลายทาง|', '|ขอบคุณ|ล่วงหน้า|ค่ะ|', '|บิ๊ก|ซี|', '|บริการ|ดี|', '|เต็ม|', '|apps|', '|ขอบคุณ|ล่วงหน้า|ครับ', '|แล้ว|คะ|', '|เมษายน|', '|บาท|ได้|', '|inbox|', '|ล่ม', '|แจ้ง|มา|ว่า|', '|arkk|', '|ของ|ไทยพาณิชย์|', '|ก็|ใช้ได้|ปกติ|ครับ|', '|จ่าย|ก่อน|', '|ไหม|ครับ|', 'พรุ่งนี้|', '|ตัด|บัตร|', '|กอง|เดิม|', '14|', '|busayarat|', '|แบบนี้|เรา|ทำ|ยังไง|ได้|บ้าง|คะ|', '|14|', '|เร็วมาก|', '|ต้อง|ทำ|อย่างไร|', '|สำนักงานใหญ่|', '|นามสกุล|', '|งวด|ที่', '|โทร|ไป|แจ้ง|', '|จน|ป่านนี้|', '|ได้มา|', '|โอนเงิน|ไม่ได้|', '|ใหม่ๆ|', '|5|g|', '|หนี้|', '|ขอบคุณ|ค่ะ', '|ใช้ไม่ได้|', '|amex|', 'วันนี้|', '|แอ|ฟ|', 'paotang|', '|คือว่า|', '|my|', '|เบอร์|ผิด|', '|ควร|ทำ|ยังไง|ดี|คะ|', 'สอบถาม|ครับ|', '|มาตลอด|', '|หักเงิน|ใน|บัญชี|ไป|แล้ว|', 'ใน|แอป|', '|1.|ผม|ต้อง|แจ้ง|อะไร|กับ|ทาง|', '|เสียเวลา', '3|1|', '20|12563|', '|แอป|ล่ม|หรอ|', '|gsb', '|เพื่อ|สะสมแต้ม|', '|ผ่อน|รถ|', '|proud|', '|ของ|', '|เมื่อ|เวลา|', '|แล้ว|อยู่|ๆ|', '|ไปที่|สาขา|', 'กดเงิน|', 'pin|', '|ไม่มี|สลิป|', '|oil|', '|a-mobile|', '|เบอร์|แปลก|', '|อยู่|ที่', '|หรือไม่|ผ่าน|', '|ตู้|แต่|ไม่มี|แบงก์|ย่อย|จ่าย|เลย|', '|sietongkum|', '|4|', '|เขา|บอก|ว่า|', '|จ่ายเงิน|ไม่ได้|', '|spoil|', '|50|k|', '|ของ|รัฐ|', '|planet|', '|name|', '|หมื่น|', 'ใช่|ค่ะ|', '|ktef|', 'atm', '|หายไป|', 'มีปัญหา|ใน|การ|เปิดบัญชี|', '|โปรด|ยืนยัน|ตัวตน|', '|3|', '|ตัว|ไหน|', '|เรา|', '|เอา|ดิ|', '|ทีนี้|', '|ไว้|แล้ว|', '|จาก|ต่างประเทศ|', '|ปี|ค่ะ|', '|080|', '|ลบ|แอป|', '|ฟรี|', 'gsb|', '|เป๊ก|ผลิต|โชค|', '23|', 'เป็น|ลูกค้า|', '|27000|', '|ndid|', '|รหัส|', '|หาย|', '|paypal|', 'uob|', '|รบกวน|ผู้รู้|ทุกท่าน|ด้วย|ค่ะ', '|หลักๆ|', '|ต้อง|ทำ|ยังไง|', '|ตลอด', '|2.3|', '|ติดต่อ|ธนาคาร|', '|ปันผล|', '|prestigerop|', '|กู้ร่วม|ได้|', '|bigc|', '11|', '|เน็ต|', '|ของ|กรุงไทย|', '|เข้า|พร้อมเพย์|กรุงไทย|', '|มากกว่า|', '|ได้|เลย|', '|ฉบับ|', '|หัว|เว่ย|', '|กี่|เดือน|', 'อยาก|ยกเลิก|บัตร|', '|770|', '|กรุงไทย|ล่ม', '|kbank|เอาเปรียบ|บ|ลิงค์|', 'สอบถาม|คะ|', '|kplus|', 'เป็น|เหมือนกัน|เลย|ครับ|', '|จะ|ได้|เตรียม|เอกสาร|ไป|ให้|ถูก|ครับ|', '|ปกติ|ที่|ถอน|คือ|', '|everyday|', '|เรา|โอนเงิน|จาก|', '|เอา|จน|ว่า|รำคาญ|', 'ผ่อน|รถ|กับ|', '|ล้าน', '|สามารถ|จ่าย|ผ่าน|', '|ทำได้|', '|สอง|รอบ|ละ|ที่|ส่ง|', '22|1163|', '|ประทับใจ', '|510|', '|ไม่ได้|', '|ปิดบัญชี|', '|8700|', '|ชั่วโมง|แล้ว|', '|ผู้จัดการ|', '|ถาม|จริง|', 'ผม|เดินบัญชี|กับ|', '|จ่าย|ด้วย|', '|sq|', '|สินเชื่อรถยนต์|', '|keptbykrungsri|', '|aia|', '|ซ่อม|ศูนย์|', '|สรุป|', 'ผม|ใช้|', '|อีก|', '|12000|', '|ไป|อยู่|ใน|', '|the|1|', '|โทร|เข้า|', '|แอป|ค้าง|', '|2750|', '|atmdebit|', '|ผ่อน|เดือน|ละ|', '|เวง|', '|scb|ค่ะ|', '|11.30|', 'ยกเลิก|', '|สอบถาม|', '|3|-|4|', '|1.5|', 'เรา|ชนะ|', 'ควย|', '|พอๆ|', '|ตอน|', '|หรือ|พี่|ๆ|', '|k-cyber|', '|ไม่|', '|remind|', '|bot|', 'โอ้|ย|', '|4.4|', '|หายไป|ไหน|', '|4|g|', '|ประเทศไทย|', '|ไฟ|', '|แต่|จริงๆ|', 'ป|ล|', '|จะ|ทำ|อย่างไร|', 'เพื่อน|ๆ|', '|ไม่เข้าใจ|ว่า|', '|up|2|me|', '|อยาก|', '|อีกครั้ง|', '|จุก|ๆ|', '|ก็|ติดต่อ|ไม่ได้|', '|you|', '|ต้อง|ทำไง|ค่ะ', '|ลุ้น|', '|paywave|', '|เดือน|แล้ว|', '|finalodysseyconcert|', '|code', '|9000|', '|น่าจะ|', '|ได้|แล้ว|', '|28|', '|งวด|', '|เฟส|', '2|9|', '|แต่|ไม่มี|สมุดบัญชี|', '|me|', '1|', '|091|', '|ไม่มี|ครับ|', '|ปีก่อน|', '|โอน|เข้าบัญชี|', '|และ|', '|ช่วย|หน่อย|ค่ะ|', '|ผม|ต้อง|ทำ|ยังไง|ครับ', '|ไม่|เสีย|', '|โอ้|ย|', '|400000|', '|rueantan|', '|play|', '|บอก|ว่า|', '|เป๊ก|ผลิต|โชค', '|เจ|', 'ดอกเบี้ย|', '|ก็|ยัง|เงียบ|เหมือนเดิม|จน|เกือบ|ถึง|รอบ|ชำระ|', '|ref|', 'มีเงิน|เข้ามา|', '|ไป|ยืนยัน|ตัวตน|ที่|ตู้', '|ใช้|ของ|', '|แต่|บัญชี|ปลายทาง|ไม่ได้|รับเงิน|', '|พัน|', '|ฉัน|', '|18.30|', '|ถาม|ทาง|', '|k-plus|', '|ต่อ|เดือน|', '|ท|รู|มูฟ|หรอ|', '|เงิน|ยัง|ไม่|เข้า|เลย|', 'เติมเงิน|', '|grabpay|', '|ธนาคาร|แจ้ง|ว่า|', '|ไม่รู้|', '|อ่อ|', '|browser|', '|แล้ว|บัตร|เก่า|คือ|จ่าย|ออนไลน์|ได้|', '|ไม่สามารถ|เข้า|', '|ขึ้น|ว่า|ไม่|พบ|ข้อมูล|การ|สมัคร|', '|ชื่อบัญชี|', '|อายุ|', '|transferwise|', '|นิดๆ|', '|web|', 'ณ|', '|ธนาคาร|นี้|', '|-|', '|ของ|ธนาคาร|ไหน|', '|30|-|40|', '|จะ|บ้า|ตาย', 'มี|บัตร|', 'scb_connect|', 'แง|', '|มีเงิน|', '|บ|', '|แสดง|ว่า|', '|ยื่น|ไป|', '|precious|', '|1851|', 'เติมเงิน|ผิด|เบอร์|ครับ|', '|คือ|ยังไง|คะ|', '|มัน|', '|650|', '|ทำไง|ครับ|', '|10.30|', '|ไม่มี|พนักงาน|รับสาย|', '|แค่|', '|ได้|ด้วย|', '|ฮา|ๆ|', '|นะ|', '|ตุลาคม|', '|แอป|ฯ|', '|โฆษณา|ว่า|', '|บริการ|ดี|มากๆ|', '|23.00|', '|อิ|ห่า|', '|ขออภัย|ครับ|', '|เรา|ควร|ทำ|ยังไง|', '|ง|อง|', '|บัตร|อนุมัติ|', '|credit|', '|ไม่รู้|จะ|ทำไง|แล้ว|', '|เรียบร้อยแล้ว|', '|เงิน|ยัง|ไม่|เข้า|เลย|ค่ะ|', '|wallet|', '|เงินฝากประจำ|กรุงไทย|', '|วัน|นะคะ|', '|เอา', '|เพราะ|จริงๆ|', '|วอ|เลต|', '|jaymart|', '|bankingmobile|', '|ไป|ทำ|ที่|ตู้', '|เปิด|ๆ|', '|แต่|ทาง|ต้นทาง|', '|จน|ต้อง|ถ่อ|ไปถึง|โร|บิน|สัน|เอง|', '|ตอนนี้|มี|', '|เฮ้อ', '|2017|', '|150000|', '|grab|', '|first|', '|1|', '|อยากได้|', '|ไม่|ต่ำกว่า|', '|ปี|ขึ้นไป|', '|สอบถาม|ทาง|', '|หลาย|รอบ|แล้ว|', '|ก็|เห็น|', 'อยาก|สอบถาม|ว่า|', '|ติดต่อ|ผ่าน|', '|code|', '|ต้อง|มี|', 'บัญชี|', 'ข้อเสีย|ของ|', 'อีก|', '|วอ|ล|เลต|', '|ออกมา|', '|เหมือนกัน|เลย|ค่ะ|', '|มา|', 'ลอง|ไป|ใช้บริการ|กับ|พนักงาน|เค้า|', '|งง|ๆ|', 'รบกวน|สอบถาม|ครับ|', '|ไป|คะ|', '|ระวัง|หน่อย|', '|จนถึง|ตอนนี้|', '|ค้าง|', '|ท|รู|มูฟ|', '|ผม|เลือก|', '|โหลด|', '|channel|', '|พฤศจิกายน|', '|500|', '|ไม่|ใช้|เงิน|จนกว่า|จะ|เก็บ|ถึง|เป้า|', '|tmb|.|', '|ต้อง|จ่าย|', '|2.|', '|ใคร|รู้|บอก|หน่อย|นะคะ|', '|slip|', '|ksme|', '|ไป|ติดต่อ|ธนาคาร|', 'สินเชื่อบ้าน_scb|', '|เรื่อง|', '|แอร์|เอเชีย|', '|นะ', 'ใน|', '|ค|ทบ|', '|ธนาคาร|หนู|เงิน|ประมาณ|', '|18.04|', '|ละ|เพิ่ม|', 'งง|มาก|', '|edc|', '|แต่|หมดเขต|วันนี้|แล้ว|', 'รอ|ประมาณ|', '|พอ|เข้าไป|จะ|สมัคร|จริงๆ|', 'จำได้|ว่า|', '|thailand', '|อื่นๆ|', 'ขอ|สอบถาม|ผู้รู้|หน่อย|ครับ|', '|kbankxblackpink|', '|และ|ไทยพาณิชย์|', '|dca|', '|ที่|บริษัท|', '|พร้อม|ดอกเบี้ย|', '|มัน|ของ|', '|ชั่วโมง|', '|max|', '|ตลอด|', '4|363|', '24|', '|ของ|ระบบ|', '|โทร|ไป|ถาม|', '|มี|.|ค.|', '|เปลี่ยน|', '|usd|', '|cash', '|ของ|บัญชีธนาคาร|นิติบุคคล|ที่|ปิด|ไป|แล้ว|ต้อง|ทำ|อย่างไรบ้าง|คะ|', '|รอ|นานมาก|', 'บัตรเดบิต|', '|npl|', '|เมลล์|', '|นานมาก|แล้ว|', '|คนละ|ครึ่ง|', '|โอเค|', '|ต้อง|ใช้|บัตร|', '|ตัวอย่าง|', '|union|', '|รอ|นาน|ที่สุด|คือ|', '|jitta_wealth|', '|backup|', '|ปี|กว่า|แล้ว|', '|เลิก|ใช้|', '|ถ้า|', '|เดือด|ร้อนมาก|', '|เขา|เลย|ป|ริ้น|ให้|', '|เบอร์|ถูก|', 'ขอบคุณ|', '|โมง|', '|อย่างเดียว|', '|scb_family_plus|', 'ดอกเบี้ย|ออมทรัพย์|', '|ais|', '|25000|', '|คน|ไม่|เยอะ|', '|ats|', '|ดู|ยากมาก|', '|มือถือ|หาย|', '|ล|ฯ|', '|จะ|ไม่|ปรับ|สลิป|จิงอ่อส|ลิบ|เอ้|ม|แบงก์|กิ้ง|คือ|ไป|พัก|', '|unionpay|', '|ทุกปี|', '|คะ', '|ต้อง|ทำไง|', '|268|', '|คะ|', '|กุม|ภา|', '|บริการ|', '|คนละ|ครึ่ง', 'หุ้น|', '|มัน|ขึ้น|แบบนี้|', '|เกาหลี|', '|มีนาคม|', '|19|', '|ไม่สามารถ|ดำเนินการ|ใดๆ|', '|หัก|ยอด|', '|ๆ', '|ตาม|นี้|ครับ|', '|อยู่ดีๆ|', '|60|', '|emoji|', '|กับ|กรุงไทย|', '|ได้|ลด|', '|bay|ไม่มี|บัญชี|', 'สวัสดี|ค่ะ|', '|cost|', '|fast|', '|check|', '|จ.|เพชรบูรณ์|', '|margin|', 'grab|', '|มา|หลาย|วัน|', '|แล้ว|รอ|', '|มี|ค.|', '|เรียน|', '|บ้าน|แล้ว|ไม่รู้|จะ|เอา|เงิน|ไป|ทำ|อะไร|ก็|ไปหา|ฝาก|ที่นี่|ก่อน', '|บัตรประชาชน|', '|t|1|', 'ขอ|สอบถาม|นะคะ|', '|ทำไม|', '|ซื้อ|ผ่าน|', '|ยืน|', '|40|', '|อีดอก|', '|โคตร|กาก', '|เหอะ|ๆ|', '|พร้อมเพย์|', '|จุด|', '|139|', '|ตอนนั้น|', '|ถ้า|จ่าย|ด้วย|บัตร|', '|02|-|28515|', 'อยู่|ๆ|', '|แต่|ของ|', '|ล่ม|หรือเปล่า|ครับ|', '|มาถึง|', '|ก่อน|นะ|ครับ', '|ที่|', '|ที่|ลง|', '|1.6|-|1.8|', '|ขึ้น|ว่า|', '|the|', 'แย่|', 'โอน|จาก|กรุงไทย|', 'scb_thailand|', '|0', '|ktbnext|', '|เงิน|ไม่|เข้า|เลย|ครับ|', '|ยอด|จาก|อนาคต|ตอน|', 'เซ็ง|', '|40000|', '|ธนาคาร|ก็|หายเงียบ|ไป|', '|หรือ|เหลือ|แค่นั้น|', '|กำไร|', '|ธนาคารกรุงไทย|ได้|', '|point|', '|แต่|อัน|ที่|ท้อป|อัพ|', '|ไม่ได้|แล้ว|', '|รอง|มา|', '|7|-|11|', '|เอง', '|ใช้จ่าย|', '|เสีย|', '|ไทยพาณิชย์', '|ให้|ความ|รู้สึกแย่|จัง', '|1.1|', 'โทร|หา|คอลเซนเตอร์|', '|t_t|', '|ไป|พร้อมเพย์|ผูก|กับ|', '|ตั้งแต่|วัน|ที่', '|ของ|วันพรุ่งนี้|', '|edition|', '|23000|', '|ม.|ค|', '|เช่นกัน|ค่ะ|', '|parkjihoonfanconinbkk', '|reset|', '|.', '|ๆ|คะ', 'สรุป|', '|1', 'ไป|เปิดบัญชี|', '|scbtmf|', '|ออ|ป|โป|', '|เปลี่ยนเป็น|', '|ไง|', '|เป็นการ|ผิดพลาด|ใน|การ|ตีพิมพ์|เอกสาร|', '|แง|ง', '|วัน', '|เสร็จ|', '|108|', 'ใคร|ใช้|', '|ผ่อน|ตก|ล้าน|ละ|', '|ผล|คือ|', '|โอนเงิน|จาก|ธนาคาร|', '|โทร|ทุกวัน|', '|scan|', '|easy_invest|', 'ติดต่อ|', '|money|', '|โทร|ไป|', '|invest|', '|wealth|', '|ตอนนี้|เงินเดือน|', '|youtube|', '|เช็คยอด|', '|แย่|แย่|แย่', '|2.34|', '|oppo|', '|ยัง|ไม่ได้|คุย|กับ|เจ้าหน้าที่|เลย|', '|map|', '|generali|', 'สินเชื่อ|', '|ยัง|ไม่มีใคร|ติดต่อ|กลับมา|', '|cancel|', '|2.49|', '|ยอด|เงินออก|แล้ว|', '|ละ|อ่อ|', '|5.|', '|ผม|มี|ธนาคาร|ในใจ|อยู่แล้ว|', '|date|', '|ประกันชีวิต|', '|ทะเบียน|พาณิชย์|', '|ปี', '|แต้ม|', '|weverse|', '|แต่|ก็|นั่นแหละ|', '|ทราบ|เพราะ|พี่|ข้าง|บ้าน|ทัก|มา|บอก|ใน|ไลน์|', '|เป๋า|ตังค์|', '|8|', '|routing|', '|scbsete|', '|ซึ่ง|', '|kbank_wisdom|', '|ป|ล.|', '|แต่|ยอดเงิน|ไม่|เข้า|ปลายทาง|', 'เป็น|เหมือนกัน|ค่ะ|', '|รีวอร์ด|', '|มี|สลิปเงินเดือน|', '|ไม่มี|ประวัติ|จ่าย|ช้า|ของ|ใบ|นี้|ครับ', '|มากกว่า', '|บ้าง|ครับ|', '|cashback|', '|8900|', '|simplicity|', '|แต่|ไม่ใช่|บัญชี|หลัก|', '|อีห่า|', '|cpall|', '|ก็ได้|', '|สินเชื่อหมุนเวียน|', '|กรุงไทย|เลย|', 'ltf|', '|หรือ|ไม่มี|', '|ตอนนี้|วัน|ที่', '|สมุทรปราการ|', '|จะ|ผ่าน|ไหม|', '|ผ่อน|กับ|', '|สีเขียว|', '|scb|.|', '|เอา|บัตร|ป|ป|ช|.|', '|10', '|ไหม|คับ', '|จน|เรา|ติดต่อ|เข้าไป|เป็น|ครั้ง|ที่', '|wfh', '|สาขา|ใน|สนามบิน|สุวรรณ|ภูมิ|', '|ฮือ', '|นั่ง|', '|เพราะ|ไม่มี|บัตร|', '|ไม่ต้อง|ชำระ|', '|g|', '|เมื่อ|กลางเดือน|ไป|เปลี่ยน|จาก|บัตร|', 'โอนเงิน|ไป|แล้ว|', '|kb|', '|สรุป|คือ|', '|ดี|ไหม|คะ|', '|ใน|สาขา|', 'เรา|เลย|โทร|ไป|ที่', '|dolfin|', '|citibank|', '|western|', '|รอ|ถึง|', '|อะ|ค่ะ|', 'เข้า|', '|ต|ป|ท|', '|ตัวเอง|ได้|', '|ปัง|มาก|', '|cimb|', '|คน|ทำคนเดียว|กัน|เหรอ|', '|passport|', '|แน่นอน', 'สวัสดี|ค่ะ|เพื่อน|ๆ|', '|ธนาคาร|ล่ม|', '|เงิน|ไม่|ออก|', '|ต่างๆ|', '|เซ็ง', 'แอป|ธนาคาร|', '|โอน|เมื่อวาน|ตอน|', 'kbank_live|', '|มา|ครับ|', '|1600|', '|แห|นะ', '|แง|ง|', '|banks|', '|rop|', '|คุณ|', '|ssf|', '|ง|', '|ยกเลิก|', '30|', '|ติดต่อ|เจ้าหน้าที่|', '|บ้าบอ|', '|กรุงไทย|ล่ม|', '|ย้อนหลัง|', '|ทำไง|ดี', '|ตอนนี้|ก็|ติดต่อ|สาขา|เจ้าของ|บัญชี|', '|ยกเว้น|ของ|scb|', 'ธนาคาร|อื่น|', '|อย่าง|', 'โอ้|', '|20|k|', '|ยัง|', '|ktb|.|', '|อยาก|รู้ว่า|', '|ตอบ|โจทย์|ที่สุด|', '|เพราะ|เรา|', '|30|', '|ด้วย|ไหม|', '|ถ้า|มี|บัญชี|', '|ทั้งที่|มี|', '|ktc', '|ก่อน|ครับ|', '|ไป|เมื่อ|วัน|ที่', '|scb|.', '|ชื่อ|ญาติ|', '|อาย|เพื่อน', '|บัตรเครดิต|', '|8.1.2020|', '|kbank|ไป|', '|gs|', '|k-esavings|', '|of|', 'วันนี้|ไป|ธนาคาร|ถาม|พนักงานธนาคาร|ถึง|การ|นำส่ง|ข้อมูล|บัญชีเงินฝาก|ไปยัง|กรมสรรพากร|ที่|มีเงื่อนไข|ว่า|รับ|โอน|', '|โทร|หลาย|รอบ|', '|มี|การ|เรียกเก็บ|ค่าธรรมเนียมรายปี|', '|ทั้ง', '|อะไร|วะ|เนี่ย|', '|uob_privimile|', '|ก็|ไม่มี|ยอด', '|เดือน|ขึ้นไป|', '|3.|', 'เหมือน|', '|งง|มาก|ครับ|', '|ทำ|', '|ไม่งั้น|', '|msig|', '|หรอ|', '|ไหน|', '|1115|', '|scbs|', '|40|k|', '|บอก|อี|กว่า|', '|ยัง|ไม่ได้|', '|scb_my_travel|', '|ระบบ|แจ้ง|ว่า|', '|2545|', '|จาก|ธนาคาร|', '|เงิน|ไม่|เข้า|ค่ะ|', '|2200|', '|ใช้เวลา|', '|ที่ใช้|', '|ซึ่ง|ทาง|', '|วัน|แล้ว|', '|ยืนยัน|ตัวตน|ไม่ได้|', '|ไป|ก่อน|', '|ใบ|ของ|kbank|ครับ|', '|4500|', '|แต่|ภาพ|ไม่|ใช้|', '21|', '|ถอน|', '|มีปัญหา|', '27|', '|ล้าน|บาท|', '|บอก|เลย|', '|ยัง|ไม่|ผ่าน|', '|tmb', '|ช่อง|', '|ผ่าน|แอป|', '|เยน|', '|โมง|เช้า|', '|xx|', '|22000|', '|รอบๆ|', 'โทร|ไปหา|', '|loan|', '|สามารถ|เปลี่ยน|', '|ต้อง|ติดต่อ|', '|บาท|อะ|', '|ปี|คะ|', '|confirm|', '|และ|ใช้|วงเงิน|ค้ำประกัน|ต่ำสุด|กี่|บาท|ได้|บัตร|ประเภท|ไหน|บ้าง|ครับ', '|timeout|', '|กระเป๋า|ตังค์|', '|มา|ที่|เบอร์|', '|บ้าน|', '|ธนาคาร|ghb', '|02|', '|kbanklive|', '|แต่|ไม่แน่ใจ|ว่า|', '|เงียบกริบ|', '|ยื่น|สมัคร|ที่|', '|ทำให้|ปลายทาง|ไม่ได้|รับเงิน|', '|รีวิว|เกาหลี', '|พนักงาน|บอก|', '|aot|', '|set|', 'ขอ|สอบถาม|หน่อย|ค่ะ|', 'จาก|', '|เกือบ|', '|จำนวนเงิน|', '|easynet|', '|scblt|2|', '|ใน|วัน|ที่', '|ไม่|รองรับ|', '|krungthai_care', '|class|', 'โอนเงิน|พร้อมเพย์|จาก|', '|callcenter|', '|74|', '|ทุน|', 'ตาม|หัวข้อ|เลย|', '|72|', '|-', '|ไทย|', '|ท|รู|วอ|ล|เลท|', '|scbset|50|e|', '|ทำ|มา|', '|กับ|', '|คิว|ยาว|', '|itmx|', '|เพราะ|บัตร|กรุงไทย|ตัวต้นเหตุ|เลย|', '|โมโห|', '|transection|', '|investing|', 'ผม|มี|', '|แต่|', '|พนักงาน|เกือบ|ทั้งหมด|พูด|กับ|ลูกค้า|', '|ok|', '|เข้า|ทุกเดือน|ไม่ค่อย|มีเงิน|นิ่ง|ๆ|', 'ปิดบัญชี|ฝากประจำ|ก่อนกำหนด|ได้|ไหม|', '|หน่อย|', '|แต่|ทำไม|', '|อิ|เหี้ย|', '|เมย|', '|nikecom|', '|บาง|', '|ช่วงนี้|', 'kbank|ล่ม|หรอ|', '|14000|', '|การ|ขอ|เพิ่มวงเงินถาวร|', 'ตอน|', '|หรือ|ยังไง|', '|ระบบ|', '|rejected|', '|คือ|ยังไง|', '|ก็|เป็นส่วนหนึ่ง|ครับ', '|จนถึง|', '|320|', '|เฮ้อ|', '|banking|', '|เหมือนกัน|ค่ะ|', '|เพราะว่า|', '|รอบ|นี้|', '|ล่าสุด|', '|จะ|ใช้|เงิน|', '|ไม่ได้|ใช้|', '|7|-|14|', '|s|21|', '|steam|', '|ได้|ภายใน|', '|อาทิตย์|แล้ว|', '|k-bank|', '|ไม่ได้|เลย|', '|หรือ|กี่|ปี', '|26|', '|ติดต่อ|ยากมาก|', '|บัตรกดเงินสด|', '|แต่|อยู่ดีๆ|', '|บอก|ให้|รอ|', 'รี|ล่า|', '|ก็ได้|นะ|', 'atm|', '|จะ|ผ่าน|ไหม|ครับ|', '|โดน|หัก|ไป|', '|แย่มาก', '|ง|อง|มาก', '|ของ|tmb|', '|ลูกค้า|', 'tmb_all_free|', '|ออมทรัพย์|', '|เมื่อวาน|', '|alert|', '|จริง|', '|ชาย|คน|หนึ่ง|', '|สแกน|จ่าย|', 'บัตร|', '|พยายาม|', '|จ้ะ|', '|ถ้า|อยู่|ใกล้ๆ|', 'สมัคร|สินเชื่อ|', '|พอ|วัน|ที่', '|ถ|', '|เป็นไร|อะ|', '|มี|สลิป|', '|ขอ|ข้อมูล|จาก|ธนาคาร|อื่น|ได้|', '|สตางค์|', '|payment|', '|กด|ตัง|จาก|ตู้|ทหาร|ไทย|ได้|ถูกต้อง|ไหม|', '|บาท|ต่อ|เดือน|', '|vi|', '|คิว|', '|รอบ|ละ|', '|โบราณ|จะ|ตาย|ชัก|', '|ถ้า|เปิดบัญชี|', '|ม|ก|รา|', '|จะ|ได้|ไหม|คะ|', '|ล้าง|ข้อมูล|ใน|มือถือ|', '|rewards|', '|m|', '|อี|กรอบ|', '|หักเงิน|อัตโนมัติ|', '|ใช่|ค่ะ|', '|tg|', '|ได้|ไหม|คะ|', '_', '|dispute|', '|ซื้อ|หวย|', '|nzd|', '|แต่|แอป|', '|24|', '|ระยะเวลา|', '|no|.|1|', '|โท|ร.|', '|ก็ได้', '|tmb_absolute|', '|แต่|ยอด|ไม่|เข้า|', 'สอบถาม|', '|เงินเดือน|ผม|', '|ค่า|บ้าน|', '|หรือว่า|', '|ร|ร|', 'เปิด|', '1555|', '|ไม่มีเงิน|แล้ว|', '|แล้วก็|', 'ปกติ|', 'โดน|', '|ธ|ค|', '|dm|', '|หมด|', '|เปิดบัญชี|กรุงไทย|', '|มาก', '|shop|', '|blackpink|', '|6000|', 'บริการ|รับฝาก|', '|ปี|', '|ได้|หรือไม่|คะ|', '|กลัว|จะ|มีปัญหา|', '|ไม่ได้|นับจำนวน|ครั้ง|ตาม|ลูกค้า|แต่ละคน|โอน|', '|one|', '|ai|', '|debit|', '|เฟิร์ส|ช้อย|', '|ขอบคุณ|นะคะ|', '|แล้ว|เข้า|แอป|ไม่ได้|เพราะ|กด|รหัส|ผิด|เกินกำหนด|', '|อี|', '|กลัว|โดน|หลอก|', 'tmb_touch|', '|รอ|มา|', '|ด|', '|เอกสาร|ครบ|', '|หรือ|ธนาคาร|', '|50000|', '|เหมือนกัน|', '|scb_m_live|', '|เลย', '|ถาม|พนักงาน|ที่|สาขา|บอก|ว่า|ใช้ได้|', '|หัก|', '|พัก|ชำระเงินต้น|', '|v|', '|sale|', '|cardless|', '|ต้อง|ทำ|ยังไง|คะ|', '|ใคร|ใช้|', '|scbeasy|', '|เรื่อง|มีอยู่|ว่า|', '|ป่ะ|', '|60000|', '|ใช้เวลา|ประมาณ|', '|เยอะ|', '|ขอบคุณ|มาก|ครับ', '|เฉยๆ|', '|cheque|', '|kerry|', '|ที|', '|กด|ไป|', '|เติม|ไป|', '|ธันวาคม|', '|ขอบคุณ|มากๆ|', '|journey|', '|สงสัย|ว่า|', '|นะ|ครับ', '|tech|', '|ประกันสังคม|', '|เซ|ง|', '|ก.|ค|', '|7000|', '|อิ|', 'ร้อนๆ|', 'ความคิดเห็น|ที่', '|9.00|', '|นี่|คือ|', '|lounge|', '|หรือไม่ก็|อัน|ที่|เทียบเคียง|คับ|', '|in|', '|สลาก|ธนาคารเพื่อการเกษตรและสหกรณ์การเกษตร|', '|เป๋า|ตัง|', '|บช.|', '|ทั้ง|แอป|', '|20000|', '|รบกวน|สอบถาม|', '|นี้|ก็|', '|เปน|', '|แจ้ง|ว่า|ระบบ|มีปัญหา|', '|เมื่อก่อน|', '|ตอนนี้|โต|แล้ว|', '|ของ|วัน|ที่', '|วัน|ครับ|', '|scbx|', '|โดยที่|ไม่ต้อง|ไป|ธนาคาร|', 'รอสาย|', '|สาขา|พระนคร|คีรี|', '0|', '19|', 'ๆ|', '|เพราะ|บัตร|', '|โอน|เข้า|กรุงไทย|', '|retention|', '|โอน|จาก|', '|ม.|', '|ขอ|', '|online|', '|เปลี่ยน|มา|', '|pttor|', '|555', '|bbl|', '|ก็|ต้อง|มี|ระยะ|รอคอย|', '|จาก|เดิม|', '|ถ้า|แจ้ง|ช่องทาง|ไหน|ครับ|', '|ไง|คะ|', '|ttb|', '|ไม่สามารถ|', '|ปีนี้|', '|เดือน|ละ|', '|เสี่ยว|มี่|', '|from|', '|ปี|ครับ', '|อี|ซี่|', '|35000|', '|ผิด|เบอร์|', '|ได้รับ|', '|ครั้ง', 'เป็น|ธนาคาร|', '|mpass|', '|โทร|เช็ค|กับ|ธนาคารกรุงไทย|ชัว|กว่า|ค่ะ|', '|.|co|.|th|', '|กว่า|หน่วย|', '|euro|', '|สำหรับ|ผม|', '|แล้ว', '|ด้วย|ค่ะ|', '|iphone|', '|ต้นทาง|กรุงไทย|', '|ทั้ง|เรา|', '|จะ|ใช้|', '|เดือดร้อน|มากๆ|', '|ทำไง|ได้|บ้าง|คะ|', '|เป็นมา|', '|นาที|แล้ว|', '|โดน|ไป|', '|scb', '|แล้ว|โหลด|แอป|', '|โดน|', '|ถาม|', '|ถือ|บัตร|', 'ยื่น|', 'วันนี้|แอป|', '|ร้อยละ|', '|balance|', '|นะ|จ๊ะ', '|แรกๆ|', '|ไม่ใช่|', '|หรือ|ต้อง|', '|scb_jcb|', '|ตัดยอด|ทันที|', '|เฮงซวย', '|เอง|', 'บัตรเครดิต|', '|เติม|เงินเข้า|', '|ทุกๆ|', '|time|', 'รบกวน|สอบถาม|ค่ะ|', '|ธนาคาร|ค|', '|หมด|เลย|', '|2130|', '|ใบ|ที่', '|gateway|', '|รอ|ผล|', '8|', '|30|-|45|', '|tmb_all_free|', 'ใบสมัคร|ผม|ก็|จ|พ|หมดอายุ|แล้ว|', '|บัตรเดบิต|', '|ของ|scb|', '|แอป|ควย|', '|kbank_live', '|mall|', 'โอนเงิน|จาก|กรุงไทย|', 'โง่|เอง|', '|นั้น', '|failed|', '|record|', '|ไหม|', '|ดูๆ|', 'มี|บัตรเครดิต|', '|เงิน|ไม่|เข้า|', '|btc|', '|โอน|วัน|ที่', '|ตัดเงิน|ใน|บัญชี|แล้ว|', '|ตัว|ท้าย|', '|3', '|น.', '|แจ้ง|ว่า|ระบบ|การ|รับเงิน|ทาง|', 'android|', '|500|-|600|', '|วัน|แล้ว|ค่ะ|', '|ios|', '|ชอบมาก|', '|travel|', '|กองทุนรวม|', '|อยาก|ทุบ|นัก|ไอ้|ต้าว|กระปุก|หมู|นี่|', '|แสน|บาท|', '|ๆๆ|', '|เพราะ|เงิน|ออกจาก|ธนาคารกรุงไทย|แล้ว|ครับ|', '|ไป|ครับ|', '|20.57|', '|เจ้าหน้า|ที่แจ้ง|ว่า|', '|17.00|', '|โต|ขึ้นมา|คุณ|เลย|เป็น|คน|รู้จัก|อดทนอดกลั้น|', '|ใช้เวลา|กี่|วัน|ครับ|', '|cap|', '|รวม|', 'โอนเงิน|วัน|ที่', '|บ|ลา|', '|เหลือ|แต่|', '|ผม|ก็|', '|แต่|เงิน|ไม่|เข้า|', '|บ.|ช|.|', '|dec|', '|ธนาคาร', 'sms|', '|ไป|ไทยพาณิชย์|', '|เนี่ย|', '|จ่าย|รายเดือน|', '|kbankxblackpinkfanmeeting', '|ค่าธรรมเนียม|', '|น', '|2300|', '|เลย|ครับ|', '|สอบถาม|โทร|', '|ล่ม|หมด|', '|แต่|ไม่|สามารถทำได้|', '|น.|', '|ประทับใจ|', '|ถ', '|ไป|ตอน|', '|โอนเงิน|ผ่าน|', '|เบอร์|โทร|', '|เสียดาย|', '|แม่|ม|มา|ทำงาน|กัน|บ้าง|เปล่า|วะ|', '|ทิพ|ย|ประกันภัย|', '|แจ้ง|บัญชี|ของ|คุณ|ผิดปกติ|', '|หรือ|อะไร|', '|trip|', '|ฝาก|', '|อ้าว|', '|ขนาด|', '|16.08|', '|170|', '|161|', '|แล้ว|ลง|ใหม่|', '|หมดแล้ว|', '|แอป|กรุงไทย|', '|ครบ|', '|ก|ยศ|', '|17.30|', '|เจ้าหน้าที่|', '|dtac|', '|ส่วน|พวก|', '|1558|', '|27|', '|กันยายน|', 'ทำไม|', '|โทร|ติดต่อ|ยากมาก|', '|จะ|', 'bay|', '|ทำ|ยังไง|', '|ไว้|ไหม|คะ|', '|อยู่|เลย|ครับ|', '|back|', '|traveloka|', '|airpay|', '|19.00|', '|หรือ|ไป|', '|มกราคม|', '|opd|', '|app', '|tbank|', '|16|', '|และ|ให้|เรา|ยืนยัน|ตัวตน|', '|บ้าง|คะ|', '|คือ|ช้า|มาก|', '|umay|', '|1.30|', '|kfc|', '|ขอ|ประจาน|ตัวเอง|', '|ทำ|บัตรเสริม|ของ|มาย|', '|เมื่อ|เทียบกับ|', '|มาก|', '|pbv|', '|แต่กลับ|ไม่มีใคร|โทร|มา|ทวง|เลย|กลับเป็น|ส่ง|', 'ใช่|ครับ|', '|start|', '|uninstall|', '|ล่ม|อี|ควาย|', '|it|', 'ลงทะเบียน|', '|ตั้ง|นาน|', '|หักบัญชี|', '|ตั้งแต่|', '|ด้วย|ละ|อ่า|', '|cr|.|', '|แต่|เงิน|ยัง|ไม่|เข้า|', '|planetscb|', '|2600|', '|เรา|สนใจ|และ|อยาก|สอบถาม|ข้อมูล|', '|มี|ยอด|เงินโอน|เข้า|', '|ใช้|แต่|', '|เหี้ย|มาก|', '|ดี|นะ|', '|เจ้า|', '|ด้วย', '|เรย|', '|มูลค่า|', '|10.02|', '|พูด|ง่ายๆ|', '|ผิด|', '|สาย|ไม่ว่าง|ตลอด|เลย|', '|ตั้งแต่|ต้นปี|', '|ไม่สำเร็จ|', '|10.2|', '|ได้|ครับ|', '|ผูก|', '|เพราะ|มี|', '|เป็นไร|วะ|', '|ได้|ครับ', '|ก|', '|1333|', '|ค่า', '|แล้ว|ใช้|', '|flow|', '|สัญญา|', '|ไปที่|ตู้', '|สาย|', '|uk|', '|ได้|ประมาณ|', '|toyota|', '|ลงทุน|', '|ต่อ|ปี', '|โดยตรง|', '|ใช่|เรื่อง|ไหม|', '|ม|ค|', '|ซื้อของ|', '|ก|ย|ศ.|', 'โอน|เงินเข้า|', '|โยน|กัน|ไป|โยน|กัน|มา|', '|bk|', '|smart|', '|มี|ใคร|พอ|ทราบ|บ้าง|ไหม|คะ|', '|โปรโมชั่น|', '|investment|', '|t_t', '|จ้า', '|เวลา|ไหน|', '|ธนาคารกรุงไทย|', '|เพื่อ|', '|หมื่น|อัพ|', '|บัญชี|ฝากประจำ|ของ|', '|free|', '|contactless|', '|กด|เงินสด|', '|account|', '|mastercard|', '|เบี้ยประกัน|', '|nagoya|', '|รวมทั้งสิ้น|', 'โอน|ไป|', '|ใน|แอป|', '|airbnb|', '|แล้ว|ส่วน|ของ|บัตร|', '|เฉลี่ย|', '|wise|', '|6|', '5|', '|visa|', '|ใช่ไหม|', '|บัญชี|ปลายทาง|', '|รองรับ|', '|ว่า|ตอนนี้|', '|ไม่มีภาระ|หนี้สิน|', '|62|', '|หลังจากนั้น|', 'เป็น|', 'จริงๆ|', '15|', '|รอ|ประ|มาน|ครึ่ง|ชม.|', '|speedy_cash|', '|วัน|แล้ว', '|ควย|', '|เงินงวด|', '|design|', 'ของ|', '|งง|มาก|', '|อ๋อ|', '|มี|แค่|', '|แบบ|ใช้|', '|ibanking|', '|wha|', '|หุ้น|ไทย|', '|จ่ายเงิน|', '|เดือน|ค่ะ|', '|saving|', '|อ่ะ|', '|ธนาคาร|ต้นทาง|ของ|เคส|เรา|', 'ซื้อ|', '|บ้าน|ราคา|', '|ตี|', '|home|', '|เรา|ชนะ', '|กด|โอนเงิน|', '|แต่|เงิน|หาย|', '|ง่าย|ดี|', '|pay|', '|23163|', '|1500|', '|490|', 'เรา|ใช้|', '|mrr|', '|เดือนก่อน|', '|ก็|ไม่|เข้า|', '|37000|', '|10|', 'ถ้า|', '|เอ้า|', '|บน|', '|8|-|9|', '|2692|', '|twitter|', '|first_choice|', '|บ้าง|', '|a|', '|pttep|', '|วัน|ทำการ|', '|12|', '|เมษา|', '|เนื่องจาก|บัญชี|นั้น|โดน|ยึด|ไป|ด้วย|ปัญหา|หนี้สิน|', '|มั้ง|', '3.|', '|มา|นาน|', '|ไป|ค่ะ|', '|order|', '|แต่|ตอนนี้|', '|noti|', '|ปล่อยกู้|', '|บลจ|', '|มี|บัตร|', '|งง|ค่ะ|', '|อายัด|บัตร|', '|เข้า|ไม่ได้|เลย|', '|ktz|', '|honda|', '|device|', '|ส|ภ|.|', '|sms|', '|โอน|เงินเข้า|', 'แอป|เป๋า|ตัง|', '|เห็น|', '|activate|', '|hr|', '|ทั้งที่|กดเงิน|แล้ว|ไม่|ออก|', '|เรา|เปลี่ยน|จาก|', '|ใดๆ|', '|7|', 'visa|', '|mbanking|', '|สัก|เท่าไหร่|', '|มี|นา|', '|รบกวน|ช่วย|หน่อย|นะคะ', 'เจริญ|', '|-|31|', '|ขอโทษ|นะคะ|', '|uchoose|', '|ไว้ใจ|เอา|เงิน|ไป|ฝาก|', '|23|xxx|', '|ฮัลโหล|', '|เซ็ง|มาก|', '|ประ|มาน|', '|kjourney|', '|ตัด|ไป|', '|จะ|เป็น|', '|ทั้ง|', '|ต่างประเทศ|', 'app|', 'ของ|เรา|', '|ตัดยอด|', '|ไป|เลย|', '|ธนาคาร|ไม่ได้|เป็นเจ้าของ|', '|เอิ่บ', '|ก็|', '|_', '|2019|', '|ตอน|สมัคร|', '|two|', '|ไว้|ใน|', '|ทำให้|', '|เป็น|ตั้ง|แตา|ก่อน|มี|กระแส|', '|ช่วง|เดือน|', '|email|', '|200000|', '|to|', '|ตั้งแต่|ปี|', '|kbank|', 'น่าจะเป็น|', '|ฯลฯ|', '|บาท|อยู่แล้ว|', '|โทร|ตั้งแต่|', 'ถ้า|ใช้|', '|เงินฝาก|', '|มือถือ|', '|flexi|', '|เอา|จริงๆ|', '12|', '|ไม่สามารถ|ทำ|รายการ|ได้|', '|และ|มี|', '|เป็นต้น|', '|ก|ย|', '|วันนี้|', '|เงินเข้า|ทันที|', '|เปิด|พร้อมกัน|', '|90|', '|กรณี|', '|ltf|', '|uid|', 'เตือนภัย|', '|ไปรษณีย์|', '|ไหม|ครับ', '|ใคร|เข้าระบบ|ได้|มั่ง|ครับ|', '|นึกคิด|', '|จะ|มีโอกาส|ผ่าน|ไหม|ครับ|', '|คอลเซนเตอร์|', '|ยัง|เป็น|', 'ktc|', '|บอก|ระบบ|ยังไม่เสร็จ|', '|สอง|ล้าน|', '|จริงๆ|', '|เน็ต|ก็|ไม่ได้|', '|จ่าย|ค่า|บัตร|', '|so|', '|ต้อง|ทำ|ยังไง|คะ', '|เติม|ผ่าน|', '|120|', '|ไปยัง|bbl|แต่|เงิน|ไม่|เข้า|', 'กด|บัตร|', '|6.6|', '|เบอร์|', '|bay|', '|แบน|', '|แสน', '|application|', '|ยัง|ไม่|เข้า|', '|เอง|ค่ะ|', '|นอกนั้น|', '|เพชร|บุรี|', '|700|', '|โค|วิค|', '|บน|มือถือ|', '|ใคร|รู้|บ้าง|', '|ขออนุญาต|', '|กับ|บัตร|', '|ตาม|หัวข้อ|เลย|ค่ะ|', '|11000|', '|คะแนน|', '|กดเงิน|ไม่|ใช้|บัตร|', '|ข้าราชการ|', '|แป๊บเดียว|ได้|เงิน', '|เข้า|เมื่อกี้|เลย|', '|ใบ|', 'เติมเงิน|จาก|', '|เจ้าหน้าที่|เต็ม|ทุก|คู่สาย|', '|พบว่า|', '|ไม่|เลย|', '|call_center|', '|ครั้ง|', 'สอบถาม|นะคะ|', '|โบนัส|', '|7|-|8|', 'cigna|', '|ทำไง|ดี|ค่ะ', 'เข้า|แอป|', '|อันนี้|ก็|แล้วแต่|', '|4.|', '|พิจารณา|', '|เงียบกริบ', '|งง|อ่ะ|', '|ไม่มี|กำหนด|หมดอายุ|', '|ทำไม|นาน|จัง|', '|รบกวน|ตรวจสอบ|ให้|ด้วย|ครับ', '|ในช่วง|', '26|', '|atm-|', '|สามารถ|', '|และ|บัตร|', '|คลิก|เพื่อ|ดู|ข้อความ|ที่ซ่อน|ไว้|', '|ต้อง|ไป|ทำ|ที่ธนาคาร|', '|ของ|บัญชี|', '|sme|', '|10.00|', '|พอ|กลับมา|ที่|', '|mrt|', '|tt', '|google|', '|mymo', '|มา|ว่า|', '|ซวย|ๆ|', 'เวร|ละ|', '|fund|', '|ไม่ได้|ค่ะ|', '|แลกเงิน|ตาม|โป|ร|', '|เอ|', '|10000|', '|2564|', '|ใส่|จำนวนเงิน|', '|เหรียญ|', '|มา|ใช้|', '|ช่วย|ตอบ|หน่อย|ครับ', '|จะ|แลกเงิน|อ่า|', '|ที่ไหนได้|', '|ธนาคาร|บอก|ว่า|', '|ของ|gsb|แต่|ก็|ไม่มีใคร|รับ|เลย|พนักงาน|ติด|สาย|ทุก|คู่สาย|เป็น|ชั่วโมง|เลย|', '|ให้|ลูกค้า|', '|ผม|อยาก|ถาม|ผู้รู้|ครับ|ว่า|', '|ติด|ต่อไป|ทาง|', '|major|', '|ได้|ค่ะ', '|ไม่มี|', '|internet|', '|800|', '|หุ้น|', '|ได้|ดอก|', 'แต่|', '1.|', '|ยัง|ไม่|ได้รับ|', '|ฮะ|', '|เช็ค|', '|2440|', '2|', '|เนื่องจาก|เรา|ย้าย|มา|อยู่|', '|บาท|ขึ้นไป|', '|ตอน|จำเป็นต้อง|ใช้|', '|ถัดไป|', 'weply|', '|ทุ่ม|กว่า|', '|600|', '|prime|', '|สมัคร|', 'อ่ะ|', '|ทำไม|เงิน|ไม่|เข้า|', '|แต่|ไม่|เกิน|', 'นี้|', '|ขอนแก่น|', '|2', '|t-t', 'โทร|ถาม|', 'โอน|จาก|', '|ข้อเสีย|', '|และ|จน|ป่านนี้|', '|รายการ|', '|ซิ|ตี้|', '|บาท|ใน|', '|กัน|แน่|', '|สำเร็จ|', '|ที่|เป็น|ธนาคาร|', '|จาก|', 'แอป|bbl|', '|แจ้ง|', '|mobile|', '|got|7|', '|เงิน|ฝากออมทรัพย์|แบบ|ไม่มี|สมุด|', '2|8|', '|krungsri|', '|โทร|กลับ|ไทย|ก็|ไม่ได้|', '|ทำ|ยังไง|ดี|ครับ', '|ratsaenmueang|', '|ผ่าน|ทาง|', '|รบกวน|ขอคำแนะนำ|ด้วย|ครับ|', '|จอง|', 'นาๆ|', '|ดู|ครับ|', '|ontop|', '|cash|', '|อายุงาน|', '|แต่|ถ้า|ไม่ใช่|', '|ขึ้นมา|', '|ผ่อน|ได้|', 'รีวิว|', '|ออก|บัตรเดบิต|ไม่ได้|', '|0.001|', '|49|', '|19', '|สะดวก', '|อยาก|ถาม|ว่า|', '|10|m|', 'ติดต่อ|ไปที่|คอลเซนเตอร์|ของ|ทาง|กรุงไทย|', '|แล้ว|ต้อง|ทำ|อะไรบ้าง|', '|1315|', '|เรียกว่า|', '|แตก|', '|ขึ้นไป|', '|ต้อง|ทำ|ยังไง|บ้าง|คะ|', '|ไม่|ช่วย|อะไร|เลย|', '|นานมาก|', '|got|7|keepspinninginbkk|', '|airways|', '|finnomena|', '|jitta|', '|แล้ว|อย่างนี้|เรา|จะต้อง|ไป|ติดต่อ|ที่ไหน|ดี|คะ', '|ใช้ได้|', '|ref|.|2|', '|กรุงไทย|เน็ค|', '|ถาม|เรื่อง|', '|ญี่ปุ่น|', '|หน่อย|ค่ะ', '|bangkokbank|', '|แทน', '|ค่ารถ|', '|hack|', '|เรา|ไม่|ทิ้ง|กัน|', '|เขตพระราม2|', '|คือ|อะไร|คะ|', '|สูงกว่า|', '|ช|', '|ก็|ให้|ติดต่อ|', 'โอนเงิน|จาก|', '|login|', '|ลูกค้า|โอน|จาก|', '|shopee|', '|100|k|', '|ก|พ|', '|gsb|', '|รอบ|', '|สีม่วง|', '|ธนาคาร|ก็|ปิด|ทำการ|แล้ว|', '|จน|บัดนี้|', '|ปิด|', '|ไม่|อยากให้|พัก|หนี้|ใช่ไหม|ถึง|ไม่ติดต่อ|กลับมา|ทำไม|ถึง|ติดต่อ|กลับ|ได้|ยากเย็น|เพียงนี้', '|ห่วย|มาก|', '|ซิ|ม|', '|chubb|', '|kyc|', '|โครต|เชง|', '|เรา|ติดต่อ|ไปที่|เบอร์|โทร|สำนักงานใหญ่|ไฟแนนซ์|ไทยพาณิชย์|บอก|ว่า|จะ|ติดต่อ|กลับมา|', '|ล่ะ|', '|bunnytrader|', '|ประกันภัย|', '|เท่านั้น|', '|e-saving|', 'บัตรเครดิต|bbl|', '|swift|', '|เงิน|ใน|', '|พอกันที|', '|ได้|ไหม', '|ถ้า|ยื่น|กู้|กับ|', '|ด้วย|ครับ|', '|อยู่แล้ว|', '|อี|ค|วัย|', '|พอดี|ว่า|', '|มาสเตอร์|การ์ด|', '|จน|', '|ได้|ไหม|ครับ|', '|อ|ห|.', '|prestige|', '|กองทุน|', '|yolo|', '|เป็น|', '|next|', '|3.00|', '|id|', '|error|', '|ไหน|ๆ|', '|2000|', '|ไว้|ก่อน|', '|ปกติ|', '|comment|', '|ทำ|อย่างไร|ได้|บ้าง|คะ|', '|cvc|', '|--', '|รหัสผ่าน|', '|งง|', '|ดัน|ใช้ไม่ได้', '|แต่|ใช้ไม่ได้|', 'krungthai_care|', '|post|', '|201|', '|แก้|ด่วน|', '|ทวง|แทน|', '|qr|', 'krungthai_next|', '|ชม.|แล้ว|', 'ระบบ|', '|เงินเดือน|', '|ล้าน|', '|ระบบ|อัตโนมัติ|', '|สแกน|หน้า|', 'สอบถาม|ค่ะ|', '|c|', '|นอกจาก|', '|3|g|', '|ghb|', '|กับ|รหัส|', 'ทำไม|แอป|', '|mebytmb|', '|เป็นบ้า|หรอ|', '|ช่วง|', '|65|', '|or|', '|มาแล้ว|', '|internetbanking|', '|มา|ดู|', '|telephonetag|', '|หมดความอดทน|', '|10.32|', '|ทอง|ๆ|', '|10|k|', '|เอา|', '|tesco|', 'วันนี้|เวลา|', '|109|', '|ของ|ผม|', '|1|-|2|', '|95|', '|ไม่มี|บัตรเครดิต|', '|เรา|ไม่|ทิ้ง|กัน', '|เดิม|', '|transaction|', '|ไฟแนนซ์|ไทยพาณิชย์|โทร|มา|ทวง|', '|โดยเฉพาะ|', '|ไม่|ค่ะ|', '_carestatus|', '|แต่|ไม่|เข้า|บัช|ชี|', '|ไม่|แจ้ง|', '|แจ้ง|คอลเซนเตอร์|', '|press|', '|35|', '|เข้า|scb|', '|เป็น|ส่วนลด|', '|ไหม|คะ|', '|กรกฎาคม|', 'ขอ|สอบถาม|คะ|', '|ของ|กรุงเทพ|', '|ไป|ธนาคาร|', '|เอทีเอ็ม|', '|ขออภัย|ค่ะ|', '|คลิก|เพื่อ|ดู|ข้อความ|ที่ซ่อน|ไว้', '|ใช่ไหม|ครับ|', '0|1012564|', '|ผม|ต้อง|ทำ|อย่างไร', '|แหะๆ|', '|kplus', '|bayfirst_choice|', '|เท|ค|ไป|', '|1.8|', '|เมื่อวาน|ไป|ทำ|เรื่อง|ก็|ทำไม่ได้|', '|ก็|เข้า|ปกติ|', '|25|', '|จ่าย|ด้วย|บัตรเดบิต|ktb|และ|ผม|ได้|ทำ|การยกเลิก|การสั่งซื้อ|ไป|', '|1700|', '|ฆ|ษ|ณ|', '-|', '|เพราะ|', '|ได้|ไหม|คะ', '|เรื่อง|แอป|', '|kbank_live|', '|มา|ใหม่|', '|scbm|', '|ดอก|', '|ระบบ|เป็น|อะไร|ครับ|', '|ป|ช|ช|', '|มี|บัญชี|kbank|', '|ctw|', 'อยากทราบ|ว่า|', '|ทำไม่ได้|', '|ems|', '|opened|', '|ปีนี้|ได้|ไหม|ครับ|', 'รอ|', '|แต่|ไม่มี|บัตร|', '|อยากทราบ|ว่า|', '|ที่|สาขา|', '|เลิก|เบื่อ|', '|เย็น|ๆ|', 'วัน|ที่', '|กู้|', '|ava|', '|โอนเงิน|ออกจาก|บัญชี|เรา|เอง|', '|187|', '|แพลทินัม|', '|ไม่|ถึง|', '|ace|', '|รบกวน|ตรวจสอบ|ให้|ด้วย|ครับ|ฝ', '|4000|', '|จบ|ข่าว|', '|แอ|ด|มิ|น|คะ|', '|บริษัทหลักทรัพย์จัดการกองทุนรวมจำกัด|', '|เป็นเวลา|', '|เหมือนเดิม|', 'พอ|', '|starbucks|', '|bbl|ค่ะ|', 'ไป|', '|41000|', 'tmb|', '|ประเด็น|คือ|', '|ไม่ทราบ|ว่า|จะ|ผ่าน|ไหม|คะ|', '|มี|แล้ว|', '|เครื่อง|', '|starbuck|', '|ธนชาต|', '|scb_connect|', '|แล้ว|เงิน|ไม่|เข้า|', '|ขอบคุณ|ล่วงหน้า|ค่า', '|นาที', '|จ่าย|ไป|', 'ทำ|บัตร|', '|นาน|มากๆ|', '|ยู|เมะ|', '|3000|', '|premium|', '|เกือบ|ทั้ง|องค์กร', '|หรือไม่|', '|bookbank|', '|ผ่านไป|', '|ได้|ไหม|ค่ะ', '|16000|', '|ค|ป|ภ|.|', '|5', '|เลือก|จ่าย|ด้วย|', 'baac|', '|ธนาคาร|แล้ว|', 'ขอบคุณ|ค่ะ|', '|กบข.|', 'สอบถาม|หน่อย|ครับ|', 'กัน|', '|airline|', '|จะ|ผ่าน|', '|งวด|ละ|', '|paste|', '|มาร|', '|รบกวน|', '|กอง|', '|ตอน|เปิดบัญชี|', '|นะคะ', '|สวัสดี|ค่ะ|', 'รบกวน|สอบถาม|', '|พูดจา|แย่มาก|', 'แล้ว|แต่ละ|ธนาคาร|ใช้|เอกสาร|อะไรบ้าง|ครับ|', '|84|', '|แล้วจะ|ให้|ทำ|ยังไง|ได้|บ้าง|ครับ|', '|บ้าง', '|วันนี้|ระบบ|ของ|ธนาคาร|ปรับปรุง|เหรอ|คะ|', '|บัญชี|', '7|-|11|', '|เลข|อ้างอิง|', '|ตอนนี้|เดือดร้อน|มากๆ|', '|แม้แต่|บัตร|', '|beyond|', '|สมัคร|บัตรเครดิต|', '|badservice', '|กทม|', '|ตั้งแต่|เมื่อวาน|', '|250|', '|32300|', '|smebank|', '|ในกรณีที่|', '|นานไป|ไหม|', 'ktb|', '|16.30|', '|บัตร|', '|ทำไง|ดี|ครับ|', '|live|', 'แนะนำ|', '|300', '|scb_mlive|', '|ธนาคาร|kbank|', '|lazada|', '|ไป|', '|ขายของ|เช็ค|ยากมาก|ค่ะ|', '|pic|.|twitter|.|comrw|84|ubnuum', '|105|', '|2020|', '|ใช่|ๆ|', '|รอบ|แล้ว|', '|ไม่เคย|ติด|', '|ไม่มี|สลิปเงินเดือน|', '|กี่|', '|พัก|ชำระหนี้|', '|ยัง|ไม่มี|', '|username|', '|แอ๊ป|', '|เห้อ', '|รบกวน|หน่อย|ครับ', '|ไป|กรุงไทย|', 'kbank|ค่ะ|', '|infinite|', '|appscb|', '|เพื่อ|เปิดบัญชี|', 'น้อยๆ|', '|ธรรมดา|', '|ไม่|ผ่าน|', '|uob', '|รบกวน|แนะนำ|ด้วย|นะคะ|', '|sa|', '|ชาติหน้า|คะ|', '|รอคิว|นานมาก|', '|global|', '|3500|', '|กะ|', '|ได้|ไหม|ค่ะ|', 'โทร|', 'เมื่อ|เวลา|', '|พูด|แล้ว|ทั้ง|เศร้า|ทั้ง|โมโห|', '|จะต้อง|รอ|ถึง|เมื่อไหร่|', '|บาท|ถ้วน|', '|cigna|', '|เร็วๆ', '|ตาม|', '|ก็|แล้ว|', '|จบ', '|กด|ใน|', 'ที่|สำคัญ|', '|e|', '|140|', '|จน|ตอนนี้|วัน|ที่', '|แต่|นี่|', '|customer|', '|ใช่|', '|เป็น|อะไร|อ่ะ|', 'เจอ|เหมือนกัน|', '|หรือยัง|คะ|', '|เริ่มต้น|', '|tower|', '|signature|', '|เจ้าหน้าที่|โทร|มา|ทวง|ค่าบริการ|ชำระ|', '|fix|', '|สอบถาม|นิดนึง|ค่ะ|', '|jcb|', '|ทุก|ช่องทาง|', '|สัก|', '|วงเงิน|', '|amount|', '|kbank', '|ถ้า|ส่ง|บัตร|มาแล้ว|ยัง|ใช้ไม่ได้|ใช่ไหม|ครับ|ถ้า|เชื่อม|กับ|แอป|', '|ที่ผ่านมา|', '|บอก|', '|ยังไง|', '|910|', '|อยากจะ|ผ่อน|คอน|โด|ราคา|', '|leasing|', '|หรือ|', '|search|', '|23|', '|bank|', '|และ|แอป|', '|น่าสนใจ|มาก|ครับ|', '|ยืนยัน|', '|จ่าย|', '|350|', '|ต้อง|ยืนยัน|', '|uob|', '|เข้า|แอป|', '|ครับ|', '|ถ้า|เปิด|', '|ผม|เปิดบัญชี|', '|หลังจาก|', '|2563|', '|k-check|', '|ไม่พอ|', '|ว|', 'next|', '|agoda|', 'ขออนุญาต|', '|ใน|เวลา|', '|ผ่าน|บัตร|', '|17000|', 'ขอบคุณ|มากๆ|', '|กัน|', '|krungthai_axa|', '|รอ|นานมาก', '|tt|', '|6|-|7|', '|pttgc|', 'รบกวน|', '|ฝ่าย|สินเชื่อ|', '|personal|', 'แล้ว|', '|ราย|', '|checking|', '|หรือ|ป่าว', '|จะ|ยกเลิก|สิทธิ์|', 'mobile|', 'จ่าย|', '|scb|', '|ก็|ยัง|เหมือนเดิม|', '|บัตร|หมดอายุ|', '|18|k|', '|foodpanda|', '|user|', 'รบกวน|สอบถาม|หน่อย|ครับ|', '|34|', 'windy|', '|log|', '|ขอความกรุณา|', '|ไม่ยุ่งยาก|', '|เปิด|', '|ไม่สนใจ|', '|แฟน|ทำ|เมื่อวาน|ผ่าน|แล้ว|คะ', '|rate|', '|เรา|ก็|ไม่สามารถ|ใช้|', '|รบกวน|ด้วย|ครับ', 'โอนเงิน|', '|ก็|คือ|การทำ|ธุรกรรมออนไลน์|ผ่าน|ค|อม|ผ่าน|เวป|', '|3|g|4|g|', '|jlpt|', '|เงินเข้า|ปกติ|', '|สุดท้าย|', '|ฝากเงิน|', '|แต่|ประเด็น|คือ|', '|pvd|', '|ขอบคุณ|', 'ธนาคาร|', '|มี|หนี้|บัตร|', '|ของ|ทั้ง', '|รอบ|แล้ว|ค่ะ|', 'บัตร|หัว|', '|เบื่อ|มาก|', '|ได้|แล้ว|นะ|ครับ|', '|android|', '|ออนไลน์|', '|ไม่|เข้า|', '|มี|แอ|ฟ|', '|อีกแล้ว|', '|ฮ่องกง|', '|pro|', '|สวัสดี|', '|ktb|กรุงไทย|', '|taxi|', '|แต่|เงิน|ไม่|ออก|', '|4', '|out|', '|โอน|เวลา|', '|โทร|ถาม|', '|เจ้าของ|กระทู้|', '|อยู่|', '|shoppee|', '|อย่าง|เรา|มี|kbank|', 'และ|', 'เอ|อ|', '|ณ|', '|ไปยัง|', '|scb_easy|', '|ครั้งละ|', '|ถ่าย|บัตร|', '|แต่|หักเงิน|จาก|บัญชี|', 'คือว่า|ผม|สั่งซื้อ|', '|ของ|ทุกเดือน|', '|ยอด|', '|55', '|ครั้ง|และ|ยอดเงิน|', '|คน|', 'krungsri|', '|เลข|บัตรประชาชน|', '|จ่าย|ดอก|ทุกเดือน|', '|air|', '|ก็|มา|', '|us|', '|lh|', '|refund|', '|16.00|', '|ไม่มี|แอป|', '|kt-ashare|', '|3.5|', '|ธนาคาร|ไหน|', '|ได้|วงเงินรวม|', '|ธนาคาร|ล่ม', '|แต่|ยอดเงิน|ไม่|เข้า|', '|เคพลัส|', 'เปิดบัญชี|', '|ลำ|ลูก|กา|', '|พนักงาน|แจ้ง|ว่า|จำนวน|ครั้ง|ที่|เข้า|จะ|นับ|ครั้ง|ตาม|การสรุป|ยอด|เข้า|บ|ช|', '|แต่|เงิน|ไม่|เข้า|ครับ|', 'แม่|ง|', '|เลย|นะคะ|', '|ทุ่ม|ของ|มึง|เนี่ย|เหมือนกัน|เลย|จ๊ะ|', '|กรุงเทพ|', '|ยืนยัน|ตัวตน|', '|เหรอ|', '|ราคา|หุ้น|', '|eur|', '|จะ|ร้องไห้', '|ทั้งสิ้น|', '|แง|', '|line', '|coins|', '|เป็น|เหมือนกัน|ค่ะ|', '|จะ|มี|', '|อยาก|ร้องไห้|', '|63', '|ตลาดนัด|', '|เงิน|ไม่|เข้า|ครับ|', '|เป็นสมาชิก|', '|หัก|ต้น|ไป|แค่|เดือน|ละ|', '|กว่า|', 'สอบถาม|ธนาคาร|', '|youth|', 'ตู้', '|เพียง|', 'ผม|สมัคร|บัตร|', '|master|', '|อุดรธานี|', '|พอ|กุ|ลบ|โลด|ใหม่|', '|1.2|', '|wechat|', '|พอ|มา|เจอ|ข้อความ|นี้|', '|อยาก|ทำ|บัตร|', '|ที่|ชำระเงิน|', '|มี|', '|สีเทา|', '|จน|ผ่านไป|เป็น|เดือน|แล้ว|', '|work|', '|โอนเงิน|', '|paotang|', '|ลง|เหลือ|', '|มีปัญหา|หรือไม่|คะ|', '|แง', '|statement|', '|ส่วน|ที่|ไม่ต้อง|เป็น|ผู้โดยสาร|ก็|เข้าไป|ใช้บริการ|ได้|', '|โอนเงิน|มา|ให้|แล้ว|ครับ|', '|ที่|เป็น|', 'จริง|', '|scbam|', '|ต้อง|ใช้|', '|ครับ', '|คล้ายๆ|', '|มี|สลิป|แต่|เงิน|ไม่|เข้า|ทำไง|บอก|ที|และ|จะ|ได้|เงิน|คืน|ไหม|ม', 'จ่ายเงิน|', '|รอบ|ไม่|ผ่าน|', '|ผ่าน|มือถือ|ผ่าน|แอป|', '|easypass|', '|bts|', 'โอน|', '|ซื้อ|', '|gen|', '|ละ|', '|22|', '|ต่างจังหวัด|', '|เอ่อ|', '|k-my|', '|งง|มาก', '|แนะนำ|', '|ภายใน|วัน|ที่', '|ยอดเงิน|', '|k-usa-ad|', '|20930|', '|ว่า|เพราะอะไร|', '|เป็น|เบอร์|', '|โทร|สอบถาม|กับ|bbl|', 'มึง|', '|ktbnetbank|', 'สอบถาม|เรื่อง|บัตรเครดิต|', '|true|', '|bdms|', '|บ่าย|', '|โทร|ไป|ไม่เคย|ได้|คุย|', '|ทหาร|ไทย|', '|truemoney|', '|ไม่|ระบุ|แบบ|', '|80|', '|ชั่วโมง', '|มี|บัตรเดบิต|', '|13.00|', '|เสียไป|', '|งง|ไป|หมด|', '|หลาย|รอบ|มาก|', '|scbsp|500|', '|499|', '|citibankgold|', 'ธนาคารอาคารสงเคราะห์|', '|แล้ว|', '|waive|', 'ถาม|', '|อ้อ|', '|ขอบคุณ|ครับ|', '|เดือน|นี้|', '|ไม่ต้อง|ไป|ธนาคาร|', '|gmarket|', '|high|', '|2.8|', '|กลุ่ม|ที่', '|มัน|มีระบบ|คล้ายๆ|', '|ตราสาร|หนี้|', '|00.00|', '|merchant|', '|ipad|', '|เดี๋ยว|นะ|', '|เถอะ|', '|19.35|', '|คำถาม|คือ|', 'kbank|', '|จ่าย|ผ่าน|', '|tmrw|', '|no|', '|หรือ|มากกว่า|', '|สัญญา|ผูกพัน|ธ|์|กับ|ธนาคาร|', '16|', '|ใช้|บัตร|', '|เมื่อ|', '|หมายความว่า|', '|เป็น|จำนวนเงิน|', '|ลด|ๆ|', '|หน่อย', '2.|', '|แต่|มี|', '|ไม่|ได้คืน', '|อีก|อย่าง|', 'tao|', '|กว่า|ปีก่อน|', '|expense|', '|แบบนี้|ก็ได้|เหรอ|', '|ชื่อ|', '|โทร|เป็น|ชาติ|', '|อย่างเช่น|', '|วัน|ละ|', '|จริงๆ', '|fundclick|', '|ตั้ง|', '|เปลี่ยนเป็น|เบอร์|', 'สวัสดี|', '|เวลา|', '|เจอ|', '|30000|', '|covid|', '|ขอให้|', '|due|', '|เงิน|', '|วีโว่|', '|tmb_so_smart|', '|g-walle|', '|central|', '|วัน|ค่ะ|', '|200|', '|process|', '|product|', 'สอบถาม|หน่อย|ค่ะ|', '|พ|.ย|', '|ทาง|เพจ|', 'หวัง|ว่า|', '|จำนวน|', '|ให้|รอ|', '|55|', '|ยกเว้น|', '|คำ|ว่า|', '|นาที|', '|ต้อง|รอ|', '|ถ้า|ติด|แบล็คลิสต์|', 'ผม|', '|big|', '|เซ็ง|มาก', '|ผล|ปรากฏ|ว่า|', '|เสีย|ค่าธรรมเนียม|', '|ครั้ง|แล้ว|', '|เข้า|ใช้งาน|', '|36|', '|โทร|หา|', '|แต่|จ่าย|ผ่าน|', '|เหลือ|ง|', '|snoopy|', '|แต่|ใน|', '|09.00|', '|อยาก|สอบถาม|เพื่อน|ๆ|', '11|43|', '|หนี้บัตรเครดิต|', '|pround|', '|ได้|นะคะ|', '|fb|', '|ก็|ใช้|', '|เรา|จะ|ไม่|ทิ้ง|กัน|', '|โอนเงิน|จาก|', '|ในนาม|บริษัท|', '|เหม่อ|', '|กุ|ปวดหัว', '|399|', 'kplus|', '|ktb', '|11100|', 'ใช้|', '|เป็น|จำนวน|', '|เลิก|ใช้|วอ|เลท', '|เข้าไป|แด|ใหม่|คะ|', '|ป|ต|ท|', '|covid|19|', '|ขอบคุณ|มาก|ค่ะ|', '|sch|', '|rungruang|', '|แต่|ไม่|เข้า|ปลายทาง|', '|scb_thailand', '|เช่น|', '|สุด|', '|แล้ว|ค่ะ|', '|5400|', 'ทำ|', '|แล้า|', 'ส่วน|', '|เข้า|กรุงไทย|', '|ก็ได้|คะแนน|', '|น้อง|', '|ว่า|', '|tmb|', '|เหมือน|มีปัญหา|กด|โอนเงิน|ไป|แล้ว|เงิน|เด้ง|', '|แจ้ง|ธนาคาร|', '|ชม.|', '|เย็น|', '|อี|สัส|', '|kma|', '|ให้|หน่อย|', '|เป็นของ|', '|แปลกๆ|', '|เบื่อ|', '|ธนาคาร|เลย|', '|ยากเย็น|', '|plus|', '|อัตโนมัติ|', '|ทาง|', '|วินาที|', '|scb_thailand|', '|youtrip|', '|เลย|ค่ะ|', '|แล้ว|ไม่มี|', '|1|-|3|', '|รอคิว|', '|21|', '|ก็|สมัคร|', '|เลขที่บัญชี|', '|offer|', '|รอ|ไป|', '|เยอะมาก|', '|บ้าง|ไหม|คะ|', '|พนักงาน|', 'ขอ|สอบถาม|หน่อย|ค่า|', '|แก้ไขปัญหา|ให้|เสร็จ|ภายใน|', '|ข้อมูล|บัญชี|หาย|ใคร|เป็น|บ้าง|ครับ|', '|protection|', '|สัก|ปี|ละ|', '|robinhood|', '|ของ|ธนาคาร|', '|แต่|บัตร|ใหม่|ที่|เป็น|', '|tmb_touch|', '|บาท|ครับ|', '|อยู่|ๆ|', 'ขอบ|สอบถาม|หน่อย|ค่ะ|', '|คลิก|เพื่อ|ดู|ข้อความ|ที่ซ่อน|ไว้|ใส่|ข้อความ', 'ไฟแนนซ์|', '|เท่ากับว่า|', 'เมื่อวาน|', '|kce|', '|life|', '|ทำ|ยังไง|ดี|คะ', '|มุ|แง|', '|พ.ย.|', '|counter|', '|แล้ว|ต้อง|เสีย|อะไร|ไหม|', '|ของ|ทหาร|ไทย|', '|unlock|', '|เดือน|แรก|', '|31|', '|คือ|ไร|อ่ะ', '|มากๆ|', '|icbc|', '|ติดต่อ|', '|yen|', '|แย่|มากๆ|', '|เร็วๆ|', '|อื่น|', '|otp|', '|ดี|ไหม|', '|ptt|', '|2212563|', '|5000|เรา|ไม่|ทิ้ง|กัน|', 'งง|', '|เท่า|ค่ะ', '|bangkok|', '|ถ้า|เกิน|', '|แต่|ทั้ง', '|mask|', '|ั|', '|จบ|', '|ทำ|บัตร|', '|13.30|', '|2018|', '|2562|', '|ปี|แล้ว|ครับ|', '|ของ|วันนี้|', '|เลย|โทร|ไป|', '|ไหม|คะ', '|ถอนเงิน|วันนี้|นะคะ|', 'จ่ายเงิน|ผ่าน|', '|ธนาคารอาคารสงเคราะห์|', '|gmarket', '|ปัด|ตก|', '|อนุมัติ|', '|50|', '|โดย|', '|tablet|', 'ยืนยัน|ตัวตน|ที่|ตู้', '|1800|', '|เครดิต|', '|30|k|', '|ถือ|ยาว|', '|จนถึง|บัดนี้|', '|coin|', '|ทุกคน|', '|เป็นหลัก|', '|เจ้าหน้าที่|บอก|ได้|สิ|ท|ธ|์|แล้ว|ค่ะ', '|cp|', '|ขอบคุณ|มาก|ค่ะ', '|พ|รบ|', '|ผม|ใช้|มา|', '|ที่|จ่าย|', '|เห้อ|', '|ktb|', '|สะสมแต้ม|', '25|320|', '|5000', '|ตอนนี้|พอจะ|ผ่อน|เลย|วางเงิน|นิ่ง|ๆ|', '|แอป|ธนาคาร|', '|มี|.ค|', '|เลย|นะ|', '|ค่า|เทอม|', '|ธ|', '|หน้า|', '|wave|', '|advisor|', '|platinum|', '|bay', '|ต้องการ|', '|เห|น่ย', '|ยากมาก|', '|ไป|ธนาคาร|อื่น|', '|รอสาย|นานมาก', '|ใช้ง่าย|', 'เป๋า|ตัง|', 'ฐาน|เงินเดือน|', '|แต่|ถ้า|', '|mou|', '|ได้|เลย|ค่ะ|', '|นครนายก|', '|เข้า|', 'ที่|', '|หลัง|ๆ|', '|ก็|ให้|', '|เช็ค|จะ|', '|แต่|สมัคร|', '|netflix|', '|เดือน|ครับ|', '|วันนี้|ครบ|', '|card', '|ธนาคาร|อื่น|', '|krungsri_jcb|', '|ห่วย|ๆ|', '|ดาว|น|์|', '|พนักงาน|ชาย|', '|ฐาน|เงินเดือน|', '|สุดท้าย|คุณ|ก็|หยอด|จน|เต็ม|', 'ตอนนี้|', '|ขออนุญาต|ถาม|หน่อย|ได้|ไหม|คะ|', '|ขึ้น|วงเงิน|มา|', '18|', '|copy|', 'อิ|', '|ก.|ย|.|', '|jmart|', '|แจ้ง|ว่า|', 'เมื่อ|เช้า|', '|feedback|', '|วัน|ๆ|', '|แต่|ไม่|เข้า|', '|gbp|', '|ปี|ที่แล้ว|', '|วันก่อน|', '|3|-|6|', '|ออก|', '|kcl|', 'หลักๆ|', '|แล้ว|มี|', '|พอดี|', '|ละ|ตัด|ตัง|ไป|แล้ว|ด้วย', '|ไม่|ผ่าน|เกณฑ์|', '|300|', '|หัวใจ|ของ|เรา|มัน|จะต้อง|', '|bbl', '|anan|', '|โดยที่|เรา|ไม่ได้|เข้า|', '|ที่|จาก|', 'ขอ|สอบถาม|หน่อย|คะ|', 'โหลด|แอป|', '|safari|', 'ขออนุญาต|สอบถาม|ครับ|', '|ก.ค.|', '|แบบนี้|', '|premier|', 'เมื่อ|', '|เริ่ม|', '|ยอด', '|ปิด|เครื่อง|', '|ไลน์|', '|สู้|ๆ|', '|data|', '|siam|', '|มิถุนายน|', '|คือ|อยู่|ๆ|', 'ส่วน|บัตร|', '|ประทับใจ|มาก|', 'อี|สัส|', '|ประกัน|สุขภาพ|', '|ได้|ข้อมูล|ปั๊บ|', '|จาก|ตู้', '|truemoneywallet|', '|1295|', '|ใบ|ค่ะ|', '|จาก|กระทู้|', '|ก็|ถอย|', '|นี้|', '|ktc_jcb|', '|ป|', '|ทำไง|ครับ', '|อี|เหี้ย|', '|makeups|', '|หักเงิน|ไป|แล้ว|', '10|263|', '|sim|', '|ปะ|', '|แอป|เป๋า|ตัง|', '|esso|', '|ผม|', '|ทาง|kbank|', '|atm', '|แล้ว|ครับ', '|งับ|', '|password|', '|speedy_loan|', '|คุย|', '|แต่|ทาง|', 'คือ|', '|12.00|', '|store|', '|กู|', '|ก็|ไม่มี|', '|nav|', '|อยู่|ไหม|คะ|', '|version|', '|ibank|', '|เรา|ก็|งง|', '|44|', '|115000|', 'mymo|', '|เป็นไร|อ่ะ|', '|ครับผม', '|นี่แหละ|', '|รู้|ผล|ปุ๊บ|', '|x|', 'เจ้าหน้าที่|', '|แล้ว|ว่ะ|', '|แล้วก็|ส่งจดหมาย|แจ้ง|ว่า|', '|connect|', '|pantip|', '|วัน|ที่', 'สมัคร|', '|exclusive|', 'โทร|ติดต่อ|', '|มึง|ติด|', '|ธนาคาร|คือ|', '|เมื่อไร|', '|0.01|', '|เงินเข้า|', '|เรียบร้อย|', '|ไป|ยืนยัน|ที่|ตู้', '|ไม่เคย|กู้|อะไร|กับ|กรุ|ศรี|คับ|', '|ขึ้น|', 'ช่วงนี้|', '|เสียเวลา|', '3|', '|ตอนนี้|เหลือ|', '|reward|', '|70|', '|แม่|', '|report|', '|แต่|ยอดเงิน|ไม่|เข้าบัญชี|ปลายทาง|', '|สาธุ|', '|สอบถาม|หน่อย|นะคะ|', '|แก้ไข|อย่างไร|', '|ค่าธรรมเนียม|บัตร|', '|ถึงจะ|สามารถ|เช็ค|ได้|', '|จำกัด|', '|ราคา|บ้าน|', '|banking|.|', '|ktc|', 'ติดต่อ|เจ้าหน้าที่|', '|พูดจา|ดีมาก|', '|1300|', '|เสือก|บอก|ให้|กุ|ไป|ขอ|รหัสพิน|กับ|ธนาคาร|', 'วันนี้|ตอน|', '|แจ้งเตือน|เงินเข้า|ไม่มี|สัก|ข้อความ|เลย|ค่ะ|', '|ส่วน|', '|ก็|ไม่มี|คนรับ|', '|1599|', '|เติมเงิน|ไป|', '|เพื่อ|ยืนยัน|ตัวตน|', '|weply|', '|ขอบคุณ|ล่วงหน้า|ค่ะ', '|แถม|', '|เงินเดือน|ไม่|ถึง|', '|ไป|ต่าง|ธนาคาร|', '|11.00|', '|transfer|', 'อยู่ดีๆ|', '|แต่|พอกด|สมัคร|ไป|แล้ว|', '|2500|', '|ก่อน|ค่ะ|', '|แย่มาก|', '|ต่อมา|', '|มัน|ขึ้น|ว่า|', '|website|', '|promptpay|', '|gift|', '|นี่|จะ|', '|17|-|01|-|2563|', '|หมดอายุ|', '|ค|ห|.|', '|99|', '|ถ้า|เป็น|', '|แสน|ต่อ|เดือน|', 'อยาก|ถาม|ว่า|', '22|072019|', '|privilege|', '|แจ้งเตือน|', '|บริษัท|', '|ช่วงเวลา|', '|เมื่อคืน|', '|โอนเงิน|เข้าบัญชี|', '|xpress|', '|ทาง|ธนาคาร|', '|นั่น|คือ|', '|6896|', '|ไม่ต้อง|ผูก|ใหม่|', '|บาท|ค่ะ', '|1.3|', '|โทร|มา|แจ้ง|ยอด|ชำระ|ค่างวดรถ|วัน|ละ|', '|เมื่อ|วัน|ที่', '|ต้อง|โทร|ไปหา|', '|แบงก์|', 'ไป|ขอ|สินเชื่อ|', '|เมื่อวาน|อยู่|ที่', '|100000|', '|vpn|', '|แต่|บัตรเครดิต|', '|ส่วน|บัตรกดเงินสด|', '7|', '|2330|-|0000|', '|alipay|', '|5500|', '|city|', '|อายัด|', '|หงุดหงิด|', '|cdm|', '|ลอง|ไป|ศึกษา|ดูก่อน|', '|กับ|พร้อมเพย์|', '|เป็น|ไฟแนนซ์|ไทยพาณิชย์|ก่อนหน้านี้|', '|เช็ค|สถานะ|', '|2.78|', '|ติดต่อ|ไม่ได้|', '|เดือน|แล้ว|ค่ะ|', 'ผม|อยาก|สมัคร|', '|บาท|วันนี้|', '|truewallet|', '|ถูก|', '|ตอน|ตี|', '|ถ้า|มัน|ไม่พลาด|ไป|', 'โอนเงิน|จาก|แอป|', '|โดย|ใช้|', '|บ|ลา|ๆ|', '|ครั้ง|ที่', '|พี่|ๆ|', 'สอบถาม|ด้วย|ครับ|', '|aeon|', '|ของ|ตัวเอง|', '|เพิ่มเติม|', '|หลัก|', '|อัพ|', '|64|', '|ไป|อีก|', 'เบอร์|', '|57|', '|ขอ|สอบถาม|หน่อย|ค่ะ|', '|180|', 'โอนเงิน|ผ่าน|', '|150|', '|for|', '|simple|', '|ล่ม|ตั้งแต่|เมื่อวาน|', '|45|', 'สอบถาม|เพื่อน|ๆ|', '|สมุดบัญชี|', '|นี่|โอน|จาก|', '|ประเมิน|', '|แล้ว|เรา|ลงทะเบียน|ไป|วัน|ที่', '|อืม|', '|เช้า|', '|สู้|', '|ad|', '|family|', '|banking', '|ต้อง|ใช้|อะไรบ้าง|', '|ก็|มี|', '|18.00|', '|กล|ต.|', 'อ้าว|', 'เติมเงิน|ผิด|เบอร์|ค่ะ|', 'ใช้|บัตร|', '|เบอร์|เดิม|', 'ว่าแต่|', '|ผ่อน|', '|ได้|', '|click|', '|โอน|จาก|kbank|', '|เติม|จาก|', '|and|', '|โทร|ไป|ก็|ไม่ติด|', '|199|', '|โทร|กลับ|ไม่|เกิน|วัน|ถัดไป|', '|เวลา|ประมาณ|', '|เวลา|ติดต่อ|', '|by|', '|buntoshi|', '|ไม่|เกิน|', 'สวัสดี|ครับ|', '|ปรากฏ|ว่า|', '|ดอกเบี้ย|ใน|เอกสาร|ใบแจ้งหนี้|', '|ทั้งหลาย|', '|ไม่|เสีย|ค่าธรรมเนียม|', '|หรือเปล่า|ครับ|', '|scbset|50|', '|ก็|ไม่|ผ่าน|', '|แต่|ยัง|ไม่|เข้า|', '|เม.ย.|', '|scb_m_luxe|', '|หนึ่ง|', '4|', '|ครึ่ง|ชั่วโมง|', '|ดี', '|ของ|ธนาคาร|อื่นๆ|', '|krungthai_connext|', '|5000.|-|', 'เย่|', '|axa|', '|friendtag|', '|ใคร|เป็น|บ้าง|ครับ|', '|แอป|ล่ม|', '|vs|', '|ราคา|', '|สวัสดี|ครับ|', '|citi_ready|', '|10.28|', '|วัน|ถัดไป|', '|หรือ|บัตรเดบิต|', '|แล้ว|มา|สแกน|ใหม่|', '|touch|', '|ธัน|วา|', 'ทำ|ประกัน|', '|1000000|', '|อ่าน|เงื่อนไข|อี|กรอบ|', '|กรุงไทย|ด้วย|', '|ปัจจุบัน|', 'call_center|', '|3|-|5|', '|ไม่ได้', '|krungthai_next|', '|ฝากประจำ|', '|0.25|', 'คือ|หนู|อายุ|', '|มา|บอก|ว่า|', 'tmrw|', '25|', '|ก็ได้|ครับ|', '|สะดวก|', '|นี่|นะ|', '|00|', '|จะ|สมัคร|', '|เยอะ|ๆ|', '|ยืนยัน|ที่|ตู้', '|ติดต่อ|ธนาคาร|เจ้าของ|บัตร|', '|กด|ฟรี|ทุก|ตู้|', 'มี|เบอร์|', '|ธนาคาร|อื่นๆ|', '|ค|', '|3|bb|', '|เก็บ|ยิ่ง|นาน|', '|tfex|', '|สรุปว่า|', '|rmf|', '|aliexpress|', '|ขอคำแนะนำ|หน่อย|ค่ะ', '|.|', '|กับ|bay|', '|เท|วินทร์|', '|แต่|เงิน|ไม่มี|เข้าบัญชี|', 'คำถาม|ที่', '|และ|บัตร|กดเงิน|', '|asia|', '|แจ้ง|สำเร็จ|', '|ต้อง|นำ|บัตร|', '|7500|', '|วันนี้|วัน|ที่', '|บัตรเครดิต|bbl|', '|เวรกรรม', '|เฮ้ย|', '|และ|ไม่สามารถ|', '|ฟ|รีๆ|', 'ขอ|', '|krungthai_care|', '|ณ', 'scb|', 'หนี้|', '|ไทย|พา|นิส|', '|ของ|บัตรเครดิต|และ|', '|1200|', '|ไม่ได้|ค่า|', '|อี|เวร|', '|190|', '|ผม|อายุ|', '|พอ|มี|โครงการ|พัก|หนี้|', '|แย่สุดๆ|', '|อัปเดต|', '|ทำ|เรื่อง|', 'คล้ายๆ|', '|ต่อ|ปี|', '|ๆ|ค่ะ|', '|ไม่ติด|บู|โร|', '|adobe|', '|mind|', '|ทุ่ม|กว่า|ๆ|', '|ยอด|ไม่|เข้า|', '|2|-|4|', '|เบื้องต้น|', '|แต่|ไหม|เข้าบัญชี|', 'citibank|', '|bualuang_m_banking|', '|20|', '|ไว้|กับ|', '|ของ|bbl|', '|your|', '|เรา|ใช้|', '|บาท|แล้ว|', '|ไม่ก็|', '|apple|', '|ตัวเอง|', '|สาขา|', '|ทั้ง|คนอื่นๆ|', '|แล้ว|ค่ะ', '|ไป|ตู้', 'ป|ล.|', '|มีข้อดี|', '|welcome|', '|k|', '|อยู่|ครับ|', 'ทาง|', '|อะไร|', '|ตาม|รูป|', '|เข้าใจ|ว่า|', '|5|-|10|', '|สัปดาห์|', '|ชอบ|', '|โอน|เข้า|', '|หน่วย|ละ|', '|ต้อง|ทำไง|ค่ะ|', '|ใช้งานง่าย|', '|ชื่อ|เหมือนกัน|', '|พรบ.|', '|สงสัย|', '|เงิน|ตั้ง|', '|โทร|', '|หรือ|ต้อง|เสีย|เงิน|ไป|เปล่าๆ|', '|jasif|', '|75|', '|ป|ช|ช|.|', '|11|', '|10.32.0|', '27|1163|', '|link|', '|add|', '|stm|', 'เรื่อง|มีอยู่|ว่า|', '|แอป|เป๋า|ตังค์|', '|แบบ|', '|care|', 'chanathammakhon|', '|จริง|ค่ะ|', '|ใช่ไหม|คะ|', '|สถานะ|เหมือนเดิม|', '|ไม่|ขึ้น|ใน|', '|18|', '|scb_prime|', '|ล่ม|หรอ|', '|อยากจะ|สอบถาม|ว่า|', '|2700|', '|2|g|', '|มี|ข้อความ|จาก|', '|ต้นทาง|', '|รึ|', '|สอบถาม|ค่ะ|', 'สมัคร|บัตรเครดิต|', '|220|', '|ช้า|มาก|', '|เรา|ก็|โทร|เข้าไป|อีก|', 'เรียน|', '|ก็|ยัง|ไม่|เข้า|', '|2|', '|ขอ|ข้อมูล|', 'ไหน|ๆ|', 'อยากให้|', '|ตู้|', '|อิอิ|', '|หน่อย|ค่ะ|', 'ผม|เอาไว้|กัน|เวลา|ไป|ต่าง|พื้น|ที่แล้ว|มี|แค่|ตู้|เดียว|', '|บาท|แน่ะ|', '|บาท|ต่อ|คะแนน|', '|ธนชาต|ได้|ไหม|ครับ|', '|ก็|ยัง|รู้สึก|ยุ่งยาก|และ|', '|เวลา|กลับ|ไปที่|กรม|ทหาร|บ้าน|เก่า|ใน|กรม|มัน|จะ|มี|แต่|ตู้', '|ทุกวัน|', 'ได้|ดอกเบี้ย|', '|ว|ด|ฟ|', '|โหลด|แอป|', '|make|', '|ครั้ง|ตอนนั้น|', '|เพื่อน|ๆ|', 'กรุงเทพ|', '|ktb_precious_plus|', '|ไม่มี|บัตร|', 'ghb|', '|เส้า', '|เอ|อ|', '|นาน|', '|เงิน|หัก|จาก|บัญชีธนาคาร|แล้วแต่|ยอด|ใน|แอป|เป๋า|ตัง|ยัง|เป็น|', '|ที่ผูก|ไว้|', '|เชียงใหม่|', '|ขาย|', '|พรุ่งนี้|', '|เอง|ครับ|', '|คนละ|ครึ่ง|เฟส|', '|กับ|บัตรกดเงินสด|', '|ขอบคุณ|คับ', 'เจ้าของ|กระทู้|', '|สินเชื่อ|เสริม|พลัง|ฐานราก|', '|มา|เป็น|', '|เงิน|เยียวยา|', '|กว่า|บาท|', '|เกิน|', '|ไม่|หยิบ|เงิน|ออกจาก|ตู้|', '|เดบิต|', '|ปี|แล้ว|ค่ะ|', '|โอนเงิน|ไป|แล้ว|', '|พัน|บาท|', '|อ|ห|', '|ภายใน|', '|2700000|', '|ก่อน|', '|รี|ไฟแนนซ์|', '|ต้อง|เปิดบัญชี|', '|คือ|', '|เสีย|ค่าธรรมเนียม|อีก|', '|จะ|โดน|หัก|ดอกเบี้ย|รายวัน|ไหม|ครับ|', '|ตั้งแต่|เมื่อวาน|ตอน|', 'ออกๆ|', '|ดีกว่า|', 'โอ๊ย|', '|ช|.ม|', '|โทร|ไปหา|', '|thailand|', '|2.5|', '|แต่|เงิน|ไม่|เข้า', '|ๆ|', '|สมัคร|ผ่าน|', '|อยู่', '|ฝาก|เบอร์|โทร|กลับ|', '|ผม|ใช้|', '|หมายเลข|อ้างอิง|', '|ที่', '|ได้คืน|', '|ประกัน|', '|หรอ|ครับ|', '|300000|', '|1000|', '|ไม่ติด|', '|รบกวน|ด้วย|นะคะ', '|จะ|เอา|บัตร|กด|ยัง|ไม่ได้|อีก', '|ปลายทาง|', '|สะดวกมาก|', 'mon|', '|ชำระ|', '|15.30|', '|ยอดเงิน|ไม่|เข้า|', '|ว่า|จะ|ไม่|สมัคร|อีกต่อไป|ละ|', '|โทร|ไม่ติด|ครับ|', '|payroll|', '|ค่ะ', '|บาง|ธนาคาร|ต้อง|ใช้|', '|8000|', '|มา|ให้|', '|คืน|', '|66|', '|ผ่าน|มา|', '|เงิน|โดน|หัก|', '|บ.|', '|ark|', '|อี|ควาย|', '|got|7|keepspinninginbkk', '|ดอน|เมือง|', '|หงุดหงิด', '|เลย|โทร|ไป|ถาม|', '|black|', '|luxe|', '|บาท|ผ่าน|พร้อมเพย์|', '|1.|ktc|'}\n"
          ]
        }
      ]
    },
    {
      "cell_type": "code",
      "source": [
        "#Turn Series into lists\n",
        "train_docs = train['Text_ws_local'].tolist()\n",
        "test_docs = test['Text_ws_local'].tolist()"
      ],
      "metadata": {
        "id": "IqgqeKFll7ti"
      },
      "execution_count": 10,
      "outputs": []
    },
    {
      "cell_type": "code",
      "source": [
        "from keras.preprocessing.text import Tokenizer\n",
        "from keras_preprocessing.sequence import pad_sequences\n",
        "\n",
        "tokenizer = Tokenizer()\n",
        "#one hot-enconding for the text like > https://stackoverflow.com/questions/69026891/what-is-keras-tokenizer-fit-on-texts-doing\n",
        "tokenizer.fit_on_texts(train_docs)\n",
        "encoded_docs = tokenizer.texts_to_sequences(train_docs)"
      ],
      "metadata": {
        "id": "A7Hp-D9ijQgZ"
      },
      "execution_count": 11,
      "outputs": []
    },
    {
      "cell_type": "code",
      "source": [
        "#Find the most max lengths of word in verbatims from both train and test\n",
        "max_length_train = max([len(s.split()) for s in train_docs])\n",
        "max_length_test  = max([len(s.split()) for s in test_docs])\n",
        "max_length = max([max_length_train, max_length_test])\n",
        "print(\"Max Length of Words: \", max_length)\n",
        "\n",
        "#Padding in order to equalize some verbatims that do not contain the same length of the max length verbatim\n",
        "Xtrain = pad_sequences(encoded_docs, maxlen=max_length, padding='post')\n",
        "#define the labels\n",
        "ytrain = np.array(train['Human_CategoryID'].tolist())"
      ],
      "metadata": {
        "id": "R7JbQ0qZmf0D",
        "colab": {
          "base_uri": "https://localhost:8080/"
        },
        "outputId": "97cf27ee-90d3-4333-877a-d0f548e8256e"
      },
      "execution_count": 12,
      "outputs": [
        {
          "output_type": "stream",
          "name": "stdout",
          "text": [
            "Max Length of Words:  66\n"
          ]
        }
      ]
    },
    {
      "cell_type": "code",
      "source": [
        "#Do the same for the test set\n",
        "encoded_docs_test = tokenizer.texts_to_sequences(test_docs)\n",
        "\n",
        "Xtest = pad_sequences(encoded_docs_test, maxlen=max_length)\n",
        "ytest = np.array(test['Human_CategoryID'].tolist())"
      ],
      "metadata": {
        "id": "oHTspdkypLeF"
      },
      "execution_count": 13,
      "outputs": []
    },
    {
      "cell_type": "code",
      "source": [
        "#Count unique classes\n",
        "print(train['Human_CategoryID'].nunique(), test['Human_CategoryID'].nunique())"
      ],
      "metadata": {
        "colab": {
          "base_uri": "https://localhost:8080/"
        },
        "id": "ILLDKYp3MX65",
        "outputId": "3f2d0a70-1a10-4fda-a823-3d20403fded5"
      },
      "execution_count": 14,
      "outputs": [
        {
          "output_type": "stream",
          "name": "stdout",
          "text": [
            "13 12\n"
          ]
        }
      ]
    },
    {
      "cell_type": "code",
      "source": [
        "#Count unique classes\n",
        "num_classes = max(train['Human_CategoryID'].nunique(), test['Human_CategoryID'].nunique())\n",
        "print(num_classes)"
      ],
      "metadata": {
        "colab": {
          "base_uri": "https://localhost:8080/"
        },
        "id": "VQcD2gdpNwkg",
        "outputId": "b9c888d3-67a6-45e4-a6af-c41fec78c436"
      },
      "execution_count": 15,
      "outputs": [
        {
          "output_type": "stream",
          "name": "stdout",
          "text": [
            "13\n"
          ]
        }
      ]
    },
    {
      "cell_type": "code",
      "source": [
        "from tensorflow.keras.utils import to_categorical\n",
        "\n",
        "#Multi class problems need one-hot encoding on y\n",
        "#why - 1 on ytrain and ytest? can follow the linke below\n",
        "#https://stackoverflow.com/questions/56204731/the-method-np-utils-to-categorical-give-me-an-error/59002957#59002957\n",
        "ytrain =  to_categorical(ytrain-1, num_classes=num_classes)\n",
        "ytest = to_categorical(ytest-1, num_classes=num_classes)"
      ],
      "metadata": {
        "id": "BWTwtb6tLUBE"
      },
      "execution_count": 16,
      "outputs": []
    },
    {
      "cell_type": "code",
      "source": [
        "vocab_size = len(tokenizer.word_index)+1"
      ],
      "metadata": {
        "id": "lvFEpT6zp8YY"
      },
      "execution_count": 17,
      "outputs": []
    },
    {
      "cell_type": "markdown",
      "source": [
        "#model"
      ],
      "metadata": {
        "id": "8l51AxTXW96K"
      }
    },
    {
      "cell_type": "markdown",
      "source": [
        "##CNN1 MP1D F D256 DO0.25 D13: 25"
      ],
      "metadata": {
        "id": "hiGb5p29sWHt"
      }
    },
    {
      "cell_type": "code",
      "source": [
        "from keras.layers import Dense, Flatten, Embedding, BatchNormalization, Dropout\n",
        "from keras.models import Sequential\n",
        "from keras.layers.convolutional import Conv1D, MaxPooling1D"
      ],
      "metadata": {
        "id": "huOisC8Ysz-r"
      },
      "execution_count": null,
      "outputs": []
    },
    {
      "cell_type": "code",
      "source": [
        "#Define our model\n",
        "model = Sequential()\n",
        "\n",
        "model.add(Embedding(vocab_size, 50, input_length=max_length, trainable=True))\n",
        "model.add(Conv1D(filters=32, kernel_size=3, activation='relu'))\n",
        "model.add(MaxPooling1D())\n",
        "#MaxPool1D: pool_size=2: 28\n",
        "#MaxPool1D: pool_size = 2, strides = 2: 24.421594\n",
        "#MaxPool1D(): w/o specification: 26-30\n",
        "\n",
        "model.add(Flatten())\n",
        "model.add(Dense(256, activation='relu'))\n",
        "model.add(Dropout(0.25))\n",
        "\n",
        "model.add(Dense(num_classes, activation='softmax'))\n",
        "print(model.summary())"
      ],
      "metadata": {
        "id": "Ify0PvZ3sWzS",
        "colab": {
          "base_uri": "https://localhost:8080/"
        },
        "outputId": "2cca29d7-32d1-4691-81d6-69b701d07dcd"
      },
      "execution_count": null,
      "outputs": [
        {
          "output_type": "stream",
          "name": "stdout",
          "text": [
            "Model: \"sequential\"\n",
            "_________________________________________________________________\n",
            " Layer (type)                Output Shape              Param #   \n",
            "=================================================================\n",
            " embedding (Embedding)       (None, 66, 50)            630450    \n",
            "                                                                 \n",
            " conv1d (Conv1D)             (None, 64, 32)            4832      \n",
            "                                                                 \n",
            " max_pooling1d (MaxPooling1D  (None, 32, 32)           0         \n",
            " )                                                               \n",
            "                                                                 \n",
            " flatten (Flatten)           (None, 1024)              0         \n",
            "                                                                 \n",
            " dense (Dense)               (None, 256)               262400    \n",
            "                                                                 \n",
            " dropout (Dropout)           (None, 256)               0         \n",
            "                                                                 \n",
            " dense_1 (Dense)             (None, 13)                3341      \n",
            "                                                                 \n",
            "=================================================================\n",
            "Total params: 901,023\n",
            "Trainable params: 901,023\n",
            "Non-trainable params: 0\n",
            "_________________________________________________________________\n",
            "None\n"
          ]
        }
      ]
    },
    {
      "cell_type": "code",
      "source": [
        "from tensorflow.keras.callbacks import EarlyStopping\n",
        "\n",
        "#put early stopping\n",
        "early_stopping = EarlyStopping(monitor='val_loss', patience=1, mode='min')\n",
        "\n",
        "#Your choices of activation='softmax' in the last layer and compile choice of loss='categorical_crossentropy' \n",
        "#are good for a model to predict multiple mutually-exclusive classes.\n",
        "\n",
        "model.compile(loss='categorical_crossentropy',\n",
        "              optimizer='adam', \n",
        "              metrics=['acc'],)"
      ],
      "metadata": {
        "id": "_VV7d6eRf_AD"
      },
      "execution_count": null,
      "outputs": []
    },
    {
      "cell_type": "code",
      "source": [
        "#Try classweight from this https://datascience.stackexchange.com/questions/13490/how-to-set-class-weights-for-imbalanced-classes-in-keras\n",
        "\n",
        "history = model.fit(Xtrain, ytrain, \n",
        "                    epochs=10, batch_size=64, \n",
        "                    validation_split=0.2,\n",
        "                    callbacks=[early_stopping])"
      ],
      "metadata": {
        "colab": {
          "base_uri": "https://localhost:8080/"
        },
        "id": "KKmAGyKqECUx",
        "outputId": "f4a3af0c-ea0d-430c-8e33-0c57b935f826"
      },
      "execution_count": null,
      "outputs": [
        {
          "output_type": "stream",
          "name": "stdout",
          "text": [
            "Epoch 1/10\n",
            "152/152 [==============================] - 3s 12ms/step - loss: 1.9239 - acc: 0.3388 - val_loss: 1.6052 - val_acc: 0.4498\n",
            "Epoch 2/10\n",
            "152/152 [==============================] - 2s 10ms/step - loss: 1.4615 - acc: 0.5315 - val_loss: 1.4092 - val_acc: 0.5366\n",
            "Epoch 3/10\n",
            "152/152 [==============================] - 2s 11ms/step - loss: 1.0798 - acc: 0.6729 - val_loss: 1.3319 - val_acc: 0.5761\n",
            "Epoch 4/10\n",
            "152/152 [==============================] - 2s 11ms/step - loss: 0.7818 - acc: 0.7552 - val_loss: 1.4371 - val_acc: 0.5720\n"
          ]
        }
      ]
    },
    {
      "cell_type": "code",
      "source": [
        "history_frame = pd.DataFrame(history.history)\n",
        "history_frame.loc[:, ['loss', 'val_loss']].plot()"
      ],
      "metadata": {
        "colab": {
          "base_uri": "https://localhost:8080/",
          "height": 282
        },
        "id": "5hrmrMCmUjh2",
        "outputId": "eb7585cd-f4ca-4d9c-cd2d-0bc9432dca2e"
      },
      "execution_count": null,
      "outputs": [
        {
          "output_type": "execute_result",
          "data": {
            "text/plain": [
              "<matplotlib.axes._subplots.AxesSubplot at 0x7f5573a97090>"
            ]
          },
          "metadata": {},
          "execution_count": 22
        },
        {
          "output_type": "display_data",
          "data": {
            "text/plain": [
              "<Figure size 432x288 with 1 Axes>"
            ],
            "image/png": "[encoded data removed]"
          },
          "metadata": {
            "needs_background": "light"
          }
        }
      ]
    },
    {
      "cell_type": "code",
      "source": [
        "history_frame.loc[:, ['acc', 'val_acc']].plot()"
      ],
      "metadata": {
        "colab": {
          "base_uri": "https://localhost:8080/",
          "height": 282
        },
        "id": "qgGNdtfHU3yS",
        "outputId": "a076f55d-020d-4a99-b092-cd9a0b4c5d27"
      },
      "execution_count": null,
      "outputs": [
        {
          "output_type": "execute_result",
          "data": {
            "text/plain": [
              "<matplotlib.axes._subplots.AxesSubplot at 0x7f55883a41d0>"
            ]
          },
          "metadata": {},
          "execution_count": 23
        },
        {
          "output_type": "display_data",
          "data": {
            "text/plain": [
              "<Figure size 432x288 with 1 Axes>"
            ],
            "image/png": "[encoded data removed]"
          },
          "metadata": {
            "needs_background": "light"
          }
        }
      ]
    },
    {
      "cell_type": "code",
      "source": [
        "print(Xtest.shape, ytest.shape)"
      ],
      "metadata": {
        "colab": {
          "base_uri": "https://localhost:8080/"
        },
        "id": "uvpjXrbRWKI5",
        "outputId": "b45ca05b-31b1-4cc8-8546-6690bbbaba41"
      },
      "execution_count": null,
      "outputs": [
        {
          "output_type": "stream",
          "name": "stdout",
          "text": [
            "(389, 66) (389, 13)\n"
          ]
        }
      ]
    },
    {
      "cell_type": "code",
      "source": [
        "loss, acc = model.evaluate(Xtest, ytest)\n",
        "print('Test Accuracy: %f' % (acc*100))"
      ],
      "metadata": {
        "colab": {
          "base_uri": "https://localhost:8080/"
        },
        "id": "5N9TLkdHV0hy",
        "outputId": "ee139388-3184-40be-cbc2-5e7ee11fc474"
      },
      "execution_count": null,
      "outputs": [
        {
          "output_type": "stream",
          "name": "stdout",
          "text": [
            "13/13 [==============================] - 0s 2ms/step - loss: 2.2708 - acc: 0.2545\n",
            "Test Accuracy: 25.449872\n"
          ]
        }
      ]
    },
    {
      "cell_type": "markdown",
      "source": [
        "##LSTM CNN1 MP1D F D512 D256 D13: 33"
      ],
      "metadata": {
        "id": "JKTKM23Nn0Vl"
      }
    },
    {
      "cell_type": "code",
      "source": [
        "from keras.layers import Dense, Flatten, Embedding, BatchNormalization, Dropout, LSTM, Bidirectional, TimeDistributed\n",
        "from keras.models import Sequential\n",
        "from keras.layers.convolutional import Conv1D, MaxPooling1D"
      ],
      "metadata": {
        "id": "_Rjnttm7n0Vs"
      },
      "execution_count": null,
      "outputs": []
    },
    {
      "cell_type": "code",
      "source": [
        "#Define our model\n",
        "model = Sequential()\n",
        "\n",
        "model.add(Embedding(vocab_size, 100, input_length=max_length, trainable=True))\n",
        "model.add(LSTM(50, return_sequences=True))\n",
        "model.add(Conv1D(filters=32, kernel_size=3, activation='relu'))\n",
        "model.add(MaxPooling1D())\n",
        "\n",
        "#CNN + LSTM\n",
        "#MaxPool1D: pool_size=2: 30\n",
        "#MaxPool1D: w/o specification: 30\n",
        "\n",
        "#LSTM + CNN\n",
        "#MaxPool1D: w/o specification: 33.676094\n",
        "\n",
        "model.add(Flatten())\n",
        "\n",
        "model.add(Dense(512, activation='relu'))\n",
        "model.add(Dense(256, activation='relu'))\n",
        "\n",
        "model.add(Dense(num_classes, activation='softmax'))\n",
        "print(model.summary())"
      ],
      "metadata": {
        "colab": {
          "base_uri": "https://localhost:8080/"
        },
        "outputId": "2c667fb2-340a-47ef-e18b-8366e14ad597",
        "id": "OiHinNUfn0Vs"
      },
      "execution_count": null,
      "outputs": [
        {
          "output_type": "stream",
          "name": "stdout",
          "text": [
            "Model: \"sequential_1\"\n",
            "_________________________________________________________________\n",
            " Layer (type)                Output Shape              Param #   \n",
            "=================================================================\n",
            " embedding_1 (Embedding)     (None, 66, 100)           1260900   \n",
            "                                                                 \n",
            " lstm (LSTM)                 (None, 66, 50)            30200     \n",
            "                                                                 \n",
            " conv1d_1 (Conv1D)           (None, 64, 32)            4832      \n",
            "                                                                 \n",
            " max_pooling1d_1 (MaxPooling  (None, 32, 32)           0         \n",
            " 1D)                                                             \n",
            "                                                                 \n",
            " flatten_1 (Flatten)         (None, 1024)              0         \n",
            "                                                                 \n",
            " dense_2 (Dense)             (None, 512)               524800    \n",
            "                                                                 \n",
            " dense_3 (Dense)             (None, 256)               131328    \n",
            "                                                                 \n",
            " dense_4 (Dense)             (None, 13)                3341      \n",
            "                                                                 \n",
            "=================================================================\n",
            "Total params: 1,955,401\n",
            "Trainable params: 1,955,401\n",
            "Non-trainable params: 0\n",
            "_________________________________________________________________\n",
            "None\n"
          ]
        }
      ]
    },
    {
      "cell_type": "code",
      "source": [
        "from tensorflow.keras.callbacks import EarlyStopping\n",
        "\n",
        "#put early stopping\n",
        "early_stopping = EarlyStopping(monitor='val_loss', patience=1, mode='min')\n",
        "\n",
        "#Your choices of activation='softmax' in the last layer and compile choice of loss='categorical_crossentropy' \n",
        "#are good for a model to predict multiple mutually-exclusive classes.\n",
        "\n",
        "model.compile(loss='categorical_crossentropy',\n",
        "              optimizer='adam', \n",
        "              metrics=['acc'],)"
      ],
      "metadata": {
        "id": "IoNZ97Men0Vs"
      },
      "execution_count": null,
      "outputs": []
    },
    {
      "cell_type": "code",
      "source": [
        "#Try classweight from this https://datascience.stackexchange.com/questions/13490/how-to-set-class-weights-for-imbalanced-classes-in-keras\n",
        "\n",
        "history = model.fit(Xtrain, ytrain, \n",
        "                    epochs=10, batch_size=32, \n",
        "                    validation_split=0.2,\n",
        "                    callbacks=[early_stopping])"
      ],
      "metadata": {
        "colab": {
          "base_uri": "https://localhost:8080/"
        },
        "outputId": "e66fe4a3-9995-471f-c11d-b8388902d7c1",
        "id": "3i82PMBRn0Vs"
      },
      "execution_count": null,
      "outputs": [
        {
          "output_type": "stream",
          "name": "stdout",
          "text": [
            "Epoch 1/10\n",
            "304/304 [==============================] - 18s 50ms/step - loss: 1.6686 - acc: 0.4402 - val_loss: 1.4007 - val_acc: 0.5494\n",
            "Epoch 2/10\n",
            "304/304 [==============================] - 16s 52ms/step - loss: 1.1711 - acc: 0.6323 - val_loss: 1.2858 - val_acc: 0.5811\n",
            "Epoch 3/10\n",
            "304/304 [==============================] - 16s 52ms/step - loss: 0.8441 - acc: 0.7297 - val_loss: 1.3791 - val_acc: 0.5868\n"
          ]
        }
      ]
    },
    {
      "cell_type": "code",
      "source": [
        "history_frame = pd.DataFrame(history.history)\n",
        "history_frame.loc[:, ['loss', 'val_loss']].plot()"
      ],
      "metadata": {
        "colab": {
          "base_uri": "https://localhost:8080/",
          "height": 282
        },
        "outputId": "741bffc1-338c-4360-d73f-138bd0a33186",
        "id": "2B7E8Xcrn0Vt"
      },
      "execution_count": null,
      "outputs": [
        {
          "output_type": "execute_result",
          "data": {
            "text/plain": [
              "<matplotlib.axes._subplots.AxesSubplot at 0x7f5576806790>"
            ]
          },
          "metadata": {},
          "execution_count": 30
        },
        {
          "output_type": "display_data",
          "data": {
            "text/plain": [
              "<Figure size 432x288 with 1 Axes>"
            ],
            "image/png": "[encoded data removed]"
          },
          "metadata": {
            "needs_background": "light"
          }
        }
      ]
    },
    {
      "cell_type": "code",
      "source": [
        "history_frame.loc[:, ['acc', 'val_acc']].plot()"
      ],
      "metadata": {
        "colab": {
          "base_uri": "https://localhost:8080/",
          "height": 282
        },
        "outputId": "56390726-1a85-48ea-dffd-e3ebaa4bc780",
        "id": "BFZ_Lsvrn0Vt"
      },
      "execution_count": null,
      "outputs": [
        {
          "output_type": "execute_result",
          "data": {
            "text/plain": [
              "<matplotlib.axes._subplots.AxesSubplot at 0x7f5587ce7090>"
            ]
          },
          "metadata": {},
          "execution_count": 31
        },
        {
          "output_type": "display_data",
          "data": {
            "text/plain": [
              "<Figure size 432x288 with 1 Axes>"
            ],
            "image/png": "[encoded data removed]"
          },
          "metadata": {
            "needs_background": "light"
          }
        }
      ]
    },
    {
      "cell_type": "code",
      "source": [
        "print(ytrain.shape, ytest.shape)"
      ],
      "metadata": {
        "colab": {
          "base_uri": "https://localhost:8080/"
        },
        "outputId": "7d22cb4a-023b-4712-8ed6-4f6254c3fbcb",
        "id": "84PYJYKMn0Vt"
      },
      "execution_count": null,
      "outputs": [
        {
          "output_type": "stream",
          "name": "stdout",
          "text": [
            "(12150, 13) (389, 13)\n"
          ]
        }
      ]
    },
    {
      "cell_type": "code",
      "source": [
        "loss, acc = model.evaluate(Xtest, ytest)\n",
        "print('Test Accuracy: %f' % (acc*100))"
      ],
      "metadata": {
        "colab": {
          "base_uri": "https://localhost:8080/"
        },
        "outputId": "82c6c89e-8e47-4dc3-92d4-d6cd356892de",
        "id": "At8ST7Ttn0Vu"
      },
      "execution_count": null,
      "outputs": [
        {
          "output_type": "stream",
          "name": "stdout",
          "text": [
            "13/13 [==============================] - 0s 11ms/step - loss: 2.0077 - acc: 0.3342\n",
            "Test Accuracy: 33.419022\n"
          ]
        }
      ]
    },
    {
      "cell_type": "markdown",
      "source": [
        "##CNN1 LSTM GMP1D F D512 D256 D13: 44"
      ],
      "metadata": {
        "id": "M7XlF2h5Azpg"
      }
    },
    {
      "cell_type": "code",
      "source": [
        "from keras.layers import Dense, Flatten, Embedding, BatchNormalization, Dropout, LSTM, Bidirectional\n",
        "from keras.models import Sequential\n",
        "from keras.layers.convolutional import Conv1D, MaxPooling1D\n",
        "from keras.layers.pooling import GlobalMaxPooling1D"
      ],
      "metadata": {
        "id": "hFzoz7zyAzpv"
      },
      "execution_count": null,
      "outputs": []
    },
    {
      "cell_type": "code",
      "source": [
        "#Define our model\n",
        "model = Sequential()\n",
        "\n",
        "model.add(Embedding(vocab_size, 100, input_length=max_length, trainable=True))\n",
        "model.add(Conv1D(filters=32, kernel_size=3, activation='relu'))\n",
        "model.add(LSTM(50, return_sequences=True))\n",
        "\n",
        "model.add(GlobalMaxPooling1D())\n",
        "#CNN LSTM GMP1D(w/o spec): 44, 49\n",
        "#LSTM CNN GMP1D(w/o spec): 38, 47\n",
        "\n",
        "model.add(Flatten())\n",
        "\n",
        "model.add(Dense(512, activation='relu'))\n",
        "model.add(Dense(256, activation='relu'))\n",
        "\n",
        "model.add(Dense(num_classes, activation='softmax'))\n",
        "print(model.summary())"
      ],
      "metadata": {
        "colab": {
          "base_uri": "https://localhost:8080/"
        },
        "outputId": "4a0dc36f-2be8-40fe-c322-4d5692a96573",
        "id": "OOIiaeQTAzpv"
      },
      "execution_count": null,
      "outputs": [
        {
          "output_type": "stream",
          "name": "stdout",
          "text": [
            "Model: \"sequential_2\"\n",
            "_________________________________________________________________\n",
            " Layer (type)                Output Shape              Param #   \n",
            "=================================================================\n",
            " embedding_2 (Embedding)     (None, 66, 100)           1260900   \n",
            "                                                                 \n",
            " conv1d_2 (Conv1D)           (None, 64, 32)            9632      \n",
            "                                                                 \n",
            " lstm_1 (LSTM)               (None, 64, 50)            16600     \n",
            "                                                                 \n",
            " global_max_pooling1d (Globa  (None, 50)               0         \n",
            " lMaxPooling1D)                                                  \n",
            "                                                                 \n",
            " flatten_2 (Flatten)         (None, 50)                0         \n",
            "                                                                 \n",
            " dense_5 (Dense)             (None, 512)               26112     \n",
            "                                                                 \n",
            " dense_6 (Dense)             (None, 256)               131328    \n",
            "                                                                 \n",
            " dense_7 (Dense)             (None, 13)                3341      \n",
            "                                                                 \n",
            "=================================================================\n",
            "Total params: 1,447,913\n",
            "Trainable params: 1,447,913\n",
            "Non-trainable params: 0\n",
            "_________________________________________________________________\n",
            "None\n"
          ]
        }
      ]
    },
    {
      "cell_type": "code",
      "source": [
        "from tensorflow.keras.callbacks import EarlyStopping\n",
        "\n",
        "#put early stopping\n",
        "early_stopping = EarlyStopping(monitor='val_loss', patience=1, mode='min')\n",
        "\n",
        "#Your choices of activation='softmax' in the last layer and compile choice of loss='categorical_crossentropy' \n",
        "#are good for a model to predict multiple mutually-exclusive classes.\n",
        "\n",
        "model.compile(loss='categorical_crossentropy',\n",
        "              optimizer='adam', \n",
        "              metrics=['acc'],)"
      ],
      "metadata": {
        "id": "fsGwd-BPAzpw"
      },
      "execution_count": null,
      "outputs": []
    },
    {
      "cell_type": "code",
      "source": [
        "#Try classweight from this https://datascience.stackexchange.com/questions/13490/how-to-set-class-weights-for-imbalanced-classes-in-keras\n",
        "\n",
        "history = model.fit(Xtrain, ytrain, \n",
        "                    epochs=10, batch_size=32, \n",
        "                    validation_split=0.2,\n",
        "                    callbacks=[early_stopping])"
      ],
      "metadata": {
        "colab": {
          "base_uri": "https://localhost:8080/"
        },
        "outputId": "b24215a4-6597-47f3-d01f-08232a3a8f44",
        "id": "TsVbHf0RAzpw"
      },
      "execution_count": null,
      "outputs": [
        {
          "output_type": "stream",
          "name": "stdout",
          "text": [
            "Epoch 1/10\n",
            "304/304 [==============================] - 17s 48ms/step - loss: 1.8032 - acc: 0.3860 - val_loss: 1.5142 - val_acc: 0.5049\n",
            "Epoch 2/10\n",
            "304/304 [==============================] - 14s 46ms/step - loss: 1.3151 - acc: 0.5926 - val_loss: 1.3291 - val_acc: 0.5840\n",
            "Epoch 3/10\n",
            "304/304 [==============================] - 14s 47ms/step - loss: 1.0169 - acc: 0.6872 - val_loss: 1.3395 - val_acc: 0.5926\n"
          ]
        }
      ]
    },
    {
      "cell_type": "code",
      "source": [
        "history_frame = pd.DataFrame(history.history)\n",
        "history_frame.loc[:, ['loss', 'val_loss']].plot()"
      ],
      "metadata": {
        "colab": {
          "base_uri": "https://localhost:8080/",
          "height": 282
        },
        "outputId": "ee441410-5f89-432a-b860-b65c64cf2599",
        "id": "XFAMSdCPAzpx"
      },
      "execution_count": null,
      "outputs": [
        {
          "output_type": "execute_result",
          "data": {
            "text/plain": [
              "<matplotlib.axes._subplots.AxesSubplot at 0x7f5576de8450>"
            ]
          },
          "metadata": {},
          "execution_count": 38
        },
        {
          "output_type": "display_data",
          "data": {
            "text/plain": [
              "<Figure size 432x288 with 1 Axes>"
            ],
            "image/png": "[encoded data removed]"
          },
          "metadata": {
            "needs_background": "light"
          }
        }
      ]
    },
    {
      "cell_type": "code",
      "source": [
        "history_frame.loc[:, ['acc', 'val_acc']].plot()"
      ],
      "metadata": {
        "colab": {
          "base_uri": "https://localhost:8080/",
          "height": 285
        },
        "outputId": "9f8d95d3-016f-4954-bac8-b0c5ffeaf908",
        "id": "q4jxsipNAzpx"
      },
      "execution_count": null,
      "outputs": [
        {
          "output_type": "execute_result",
          "data": {
            "text/plain": [
              "<matplotlib.axes._subplots.AxesSubplot at 0x7f5587a9f290>"
            ]
          },
          "metadata": {},
          "execution_count": 39
        },
        {
          "output_type": "display_data",
          "data": {
            "text/plain": [
              "<Figure size 432x288 with 1 Axes>"
            ],
            "image/png": "[encoded data removed]"
          },
          "metadata": {
            "needs_background": "light"
          }
        }
      ]
    },
    {
      "cell_type": "code",
      "source": [
        "print(ytrain.shape, ytest.shape)"
      ],
      "metadata": {
        "colab": {
          "base_uri": "https://localhost:8080/"
        },
        "outputId": "fac4d30d-9fd7-4346-f61f-fd6cc3d95d62",
        "id": "PMDF44cfAzpx"
      },
      "execution_count": null,
      "outputs": [
        {
          "output_type": "stream",
          "name": "stdout",
          "text": [
            "(12150, 13) (389, 13)\n"
          ]
        }
      ]
    },
    {
      "cell_type": "code",
      "source": [
        "loss, acc = model.evaluate(Xtest, ytest)\n",
        "print('Test Accuracy: %f' % (acc*100))"
      ],
      "metadata": {
        "colab": {
          "base_uri": "https://localhost:8080/"
        },
        "outputId": "f9e7dbb5-24f9-4316-de65-270eeb35cfa7",
        "id": "KveBiofgAzpy"
      },
      "execution_count": null,
      "outputs": [
        {
          "output_type": "stream",
          "name": "stdout",
          "text": [
            "13/13 [==============================] - 0s 11ms/step - loss: 1.9175 - acc: 0.4447\n",
            "Test Accuracy: 44.473007\n"
          ]
        }
      ]
    },
    {
      "cell_type": "markdown",
      "source": [
        "##CNN1, 32 GMP1D D256 D13: 56"
      ],
      "metadata": {
        "id": "B6c9hIuLuizO"
      }
    },
    {
      "cell_type": "code",
      "source": [
        "from keras.layers import Dense, Flatten, Embedding, BatchNormalization, Dropout\n",
        "from keras.models import Sequential\n",
        "from keras.layers.convolutional import Conv1D, MaxPooling1D"
      ],
      "metadata": {
        "id": "XZPVUSnhuizP"
      },
      "execution_count": null,
      "outputs": []
    },
    {
      "cell_type": "code",
      "source": [
        "from keras.layers.pooling import GlobalMaxPooling1D\n",
        "#Define our model\n",
        "model = Sequential()\n",
        "\n",
        "model.add(Embedding(vocab_size, 100, input_length=max_length, trainable=True))\n",
        "\n",
        "model.add(Conv1D(filters=32, kernel_size=3, activation='relu'))\n",
        "model.add(GlobalMaxPooling1D())\n",
        "\n",
        "#CNN GMP1D(w/o spec): 56.812340\n",
        "#2CNN GMP1D(w/o spec): 53.470439\n",
        "#CNN BN GMP1D(w/o spec): 52.956301\n",
        "\n",
        "\n",
        "model.add(Flatten())\n",
        "#Flatten(): 56\n",
        "#w/o Flatten(): 55\n",
        "\n",
        "model.add(Dense(256, activation='relu'))\n",
        "model.add(Dense(num_classes, activation='softmax'))\n",
        "print(model.summary())"
      ],
      "metadata": {
        "colab": {
          "base_uri": "https://localhost:8080/"
        },
        "outputId": "848a715a-083e-4a91-cea4-7f978e18df3a",
        "id": "4b7xEhs1uizP"
      },
      "execution_count": null,
      "outputs": [
        {
          "output_type": "stream",
          "name": "stdout",
          "text": [
            "Model: \"sequential_3\"\n",
            "_________________________________________________________________\n",
            " Layer (type)                Output Shape              Param #   \n",
            "=================================================================\n",
            " embedding_3 (Embedding)     (None, 66, 100)           1260900   \n",
            "                                                                 \n",
            " conv1d_3 (Conv1D)           (None, 64, 32)            9632      \n",
            "                                                                 \n",
            " global_max_pooling1d_1 (Glo  (None, 32)               0         \n",
            " balMaxPooling1D)                                                \n",
            "                                                                 \n",
            " flatten_3 (Flatten)         (None, 32)                0         \n",
            "                                                                 \n",
            " dense_8 (Dense)             (None, 256)               8448      \n",
            "                                                                 \n",
            " dense_9 (Dense)             (None, 13)                3341      \n",
            "                                                                 \n",
            "=================================================================\n",
            "Total params: 1,282,321\n",
            "Trainable params: 1,282,321\n",
            "Non-trainable params: 0\n",
            "_________________________________________________________________\n",
            "None\n"
          ]
        }
      ]
    },
    {
      "cell_type": "code",
      "source": [
        "from tensorflow.keras.callbacks import EarlyStopping\n",
        "\n",
        "#put early stopping\n",
        "early_stopping = EarlyStopping(monitor='val_loss', patience=1, mode='min')\n",
        "\n",
        "#Your choices of activation='softmax' in the last layer and compile choice of loss='categorical_crossentropy' \n",
        "#are good for a model to predict multiple mutually-exclusive classes.\n",
        "\n",
        "model.compile(loss='categorical_crossentropy',\n",
        "              optimizer='adam', \n",
        "              metrics=['acc'],)"
      ],
      "metadata": {
        "id": "bG3KfKXWuizP"
      },
      "execution_count": null,
      "outputs": []
    },
    {
      "cell_type": "code",
      "source": [
        "#Try classweight from this https://datascience.stackexchange.com/questions/13490/how-to-set-class-weights-for-imbalanced-classes-in-keras\n",
        "#Current val_loss =  1.24\n",
        "history = model.fit(Xtrain, ytrain, \n",
        "                    epochs=10, batch_size=64, \n",
        "                    validation_split=0.2,\n",
        "                    callbacks=[early_stopping])"
      ],
      "metadata": {
        "colab": {
          "base_uri": "https://localhost:8080/"
        },
        "outputId": "9c4536b0-94fe-4cce-d120-895df95be2e3",
        "id": "5qqQD5JruizP"
      },
      "execution_count": null,
      "outputs": [
        {
          "output_type": "stream",
          "name": "stdout",
          "text": [
            "Epoch 1/10\n",
            "152/152 [==============================] - 3s 15ms/step - loss: 1.9412 - acc: 0.3547 - val_loss: 1.6184 - val_acc: 0.4695\n",
            "Epoch 2/10\n",
            "152/152 [==============================] - 2s 13ms/step - loss: 1.4102 - acc: 0.5634 - val_loss: 1.3184 - val_acc: 0.5757\n",
            "Epoch 3/10\n",
            "152/152 [==============================] - 2s 13ms/step - loss: 1.0083 - acc: 0.6940 - val_loss: 1.2897 - val_acc: 0.5938\n",
            "Epoch 4/10\n",
            "152/152 [==============================] - 2s 13ms/step - loss: 0.6871 - acc: 0.7913 - val_loss: 1.3680 - val_acc: 0.5984\n"
          ]
        }
      ]
    },
    {
      "cell_type": "code",
      "source": [
        "loss, acc = model.evaluate(Xtest, ytest)\n",
        "print('Test Accuracy: %f' % (acc*100))"
      ],
      "metadata": {
        "id": "K2KkrfNh_dYh",
        "colab": {
          "base_uri": "https://localhost:8080/"
        },
        "outputId": "ce8bc37b-0c35-4129-e57a-6f6c64261b46"
      },
      "execution_count": null,
      "outputs": [
        {
          "output_type": "stream",
          "name": "stdout",
          "text": [
            "13/13 [==============================] - 0s 3ms/step - loss: 1.4314 - acc: 0.5681\n",
            "Test Accuracy: 56.812340\n"
          ]
        }
      ]
    },
    {
      "cell_type": "markdown",
      "source": [
        "##CNN1,128(5) GMP1D D13: 60"
      ],
      "metadata": {
        "id": "rj8249jXuzp2"
      }
    },
    {
      "cell_type": "code",
      "source": [
        "from keras.layers import Dense, Flatten, Embedding, BatchNormalization, Dropout\n",
        "from keras.models import Sequential\n",
        "from keras.layers.convolutional import Conv1D, MaxPooling1D"
      ],
      "metadata": {
        "id": "LsPxxED9uzqA"
      },
      "execution_count": 52,
      "outputs": []
    },
    {
      "cell_type": "code",
      "source": [
        "from keras.layers.pooling import GlobalMaxPooling1D\n",
        "#Define our model\n",
        "model = Sequential()\n",
        "\n",
        "model.add(Embedding(vocab_size, 1000, input_length=max_length, trainable=True))\n",
        "\n",
        "model.add(Conv1D(filters=128, kernel_size=5, activation='relu'))\n",
        "model.add(GlobalMaxPooling1D())\n",
        "\n",
        "model.add(Dense(num_classes, activation='softmax'))\n",
        "print(model.summary())"
      ],
      "metadata": {
        "colab": {
          "base_uri": "https://localhost:8080/"
        },
        "outputId": "2148f1f2-8819-4722-9248-16d145e460fc",
        "id": "alpi6avRuzqA"
      },
      "execution_count": 53,
      "outputs": [
        {
          "output_type": "stream",
          "name": "stdout",
          "text": [
            "Model: \"sequential_30\"\n",
            "_________________________________________________________________\n",
            " Layer (type)                Output Shape              Param #   \n",
            "=================================================================\n",
            " embedding_34 (Embedding)    (None, 66, 1000)          12609000  \n",
            "                                                                 \n",
            " conv1d_34 (Conv1D)          (None, 62, 128)           640128    \n",
            "                                                                 \n",
            " global_max_pooling1d_33 (Gl  (None, 128)              0         \n",
            " obalMaxPooling1D)                                               \n",
            "                                                                 \n",
            " dense_26 (Dense)            (None, 13)                1677      \n",
            "                                                                 \n",
            "=================================================================\n",
            "Total params: 13,250,805\n",
            "Trainable params: 13,250,805\n",
            "Non-trainable params: 0\n",
            "_________________________________________________________________\n",
            "None\n"
          ]
        }
      ]
    },
    {
      "cell_type": "code",
      "source": [
        "from tensorflow.keras.callbacks import EarlyStopping\n",
        "\n",
        "#put early stopping\n",
        "early_stopping = EarlyStopping(monitor='val_loss', patience=1, mode='min')\n",
        "\n",
        "#Your choices of activation='softmax' in the last layer and compile choice of loss='categorical_crossentropy' \n",
        "#are good for a model to predict multiple mutually-exclusive classes.\n",
        "\n",
        "model.compile(loss='categorical_crossentropy',\n",
        "              optimizer='adam', \n",
        "              metrics=['acc'],)"
      ],
      "metadata": {
        "id": "L7qLhhuTuzqB"
      },
      "execution_count": 54,
      "outputs": []
    },
    {
      "cell_type": "code",
      "source": [
        "#Try classweight from this https://datascience.stackexchange.com/questions/13490/how-to-set-class-weights-for-imbalanced-classes-in-keras\n",
        "#Current val_loss =  1.24\n",
        "history = model.fit(Xtrain, ytrain, \n",
        "                    epochs=10, batch_size=64, \n",
        "                    validation_split=0.2,\n",
        "                    callbacks=[early_stopping])"
      ],
      "metadata": {
        "colab": {
          "base_uri": "https://localhost:8080/"
        },
        "outputId": "a0d05bde-4c72-422c-81ea-403d13cf4c93",
        "id": "swLzSwyPuzqB"
      },
      "execution_count": 55,
      "outputs": [
        {
          "output_type": "stream",
          "name": "stdout",
          "text": [
            "Epoch 1/10\n",
            "152/152 [==============================] - 25s 158ms/step - loss: 1.5796 - acc: 0.4867 - val_loss: 1.2106 - val_acc: 0.5938\n",
            "Epoch 2/10\n",
            "152/152 [==============================] - 23s 155ms/step - loss: 0.8955 - acc: 0.7140 - val_loss: 1.0973 - val_acc: 0.6346\n",
            "Epoch 3/10\n",
            "152/152 [==============================] - 24s 158ms/step - loss: 0.4050 - acc: 0.8940 - val_loss: 1.1123 - val_acc: 0.6436\n"
          ]
        }
      ]
    },
    {
      "cell_type": "code",
      "source": [
        "loss, acc = model.evaluate(Xtest, ytest)\n",
        "print('Test Accuracy: %f' % (acc*100))"
      ],
      "metadata": {
        "colab": {
          "base_uri": "https://localhost:8080/"
        },
        "outputId": "9178cfba-8eab-4485-958b-0fe246cb91a4",
        "id": "W7deuZrkuzqB"
      },
      "execution_count": 56,
      "outputs": [
        {
          "output_type": "stream",
          "name": "stdout",
          "text": [
            "13/13 [==============================] - 0s 13ms/step - loss: 1.2650 - acc: 0.6067\n",
            "Test Accuracy: 60.668379\n"
          ]
        }
      ]
    },
    {
      "cell_type": "markdown",
      "source": [
        "## CNN1,512&1024,(5,7,10) GMP1D D13: 53-61"
      ],
      "metadata": {
        "id": "QLnM8ds2X8zg"
      }
    },
    {
      "cell_type": "code",
      "source": [
        "from keras.layers import Dense, Flatten, Embedding, BatchNormalization, Dropout, LSTM, Bidirectional, TimeDistributed\n",
        "from keras.models import Sequential\n",
        "from keras.layers.convolutional import Conv1D, MaxPooling1D\n",
        "from keras.layers.pooling import GlobalMaxPooling1D, AveragePooling1D, GlobalAveragePooling1D\n",
        "import tensorflow as tf\n",
        "from keras.layers.pooling import GlobalMaxPooling1D\n",
        "from tensorflow.keras.callbacks import EarlyStopping"
      ],
      "metadata": {
        "id": "Nuel3LIIc8r7"
      },
      "execution_count": 18,
      "outputs": []
    },
    {
      "cell_type": "code",
      "source": [
        "filters = [512, 1024]\n",
        "kernels = [5, 7, 10]\n",
        "\n",
        "#Define our model\n",
        "for filter in filters:\n",
        "  for kernel in kernels:\n",
        "    model = Sequential()\n",
        "    model.add(Embedding(vocab_size, 1000, input_length=max_length, trainable=True))\n",
        "    model.add(Conv1D(filter, kernel , activation='relu'))\n",
        "    model.add(GlobalMaxPooling1D())\n",
        "    model.add(Dense(num_classes, activation='softmax'))\n",
        "\n",
        "    #put early stopping\n",
        "    early_stopping = EarlyStopping(monitor='val_loss', patience=1, mode='min')\n",
        "    model.compile(loss='categorical_crossentropy',\n",
        "                  optimizer='adam', \n",
        "                  metrics=['acc'],)\n",
        "    \n",
        "    #train the model\n",
        "    history = model.fit(Xtrain, ytrain, \n",
        "                      epochs=10, batch_size=32, #32, 128 > 8 (worse), 16, 64, 256\n",
        "                      validation_split=0.2,\n",
        "                      callbacks=[early_stopping])\n",
        "  \n",
        "    #evaludate the model\n",
        "    loss, acc = model.evaluate(Xtest, ytest)\n",
        "    print(\"===========================================\")\n",
        "    print(f\"Filter: {filter}\")\n",
        "    print(f\"Kernel: {kernel}\")\n",
        "    print('Test Accuracy: %f' % (acc*100)) #79.333335 (CNN kernel = 10), 78 (CNN kernel = 5)\n",
        "    print(\"===========================================\")"
      ],
      "metadata": {
        "colab": {
          "base_uri": "https://localhost:8080/"
        },
        "id": "m4e89MFGm0JA",
        "outputId": "fe9e58a6-9a31-4ade-d978-5705fd64ed5c"
      },
      "execution_count": 37,
      "outputs": [
        {
          "output_type": "stream",
          "name": "stdout",
          "text": [
            "Epoch 1/10\n",
            "304/304 [==============================] - 61s 199ms/step - loss: 1.3817 - acc: 0.5477 - val_loss: 1.0934 - val_acc: 0.6362\n",
            "Epoch 2/10\n",
            "304/304 [==============================] - 61s 199ms/step - loss: 0.6120 - acc: 0.8087 - val_loss: 1.1308 - val_acc: 0.6407\n",
            "13/13 [==============================] - 0s 19ms/step - loss: 1.3208 - acc: 0.6015\n",
            "Filter: 512\n",
            "Kernel: 5\n",
            "Test Accuracy: 60.154241\n",
            "===========================================\n",
            "Epoch 1/10\n",
            "304/304 [==============================] - 89s 290ms/step - loss: 1.3679 - acc: 0.5516 - val_loss: 1.0922 - val_acc: 0.6407\n",
            "Epoch 2/10\n",
            "304/304 [==============================] - 87s 287ms/step - loss: 0.4972 - acc: 0.8489 - val_loss: 1.1390 - val_acc: 0.6444\n",
            "13/13 [==============================] - 0s 29ms/step - loss: 1.3592 - acc: 0.5861\n",
            "Filter: 512\n",
            "Kernel: 10\n",
            "Test Accuracy: 58.611828\n",
            "===========================================\n",
            "Epoch 1/10\n",
            "304/304 [==============================] - 86s 281ms/step - loss: 1.3469 - acc: 0.5615 - val_loss: 1.0992 - val_acc: 0.6362\n",
            "Epoch 2/10\n",
            "304/304 [==============================] - 85s 280ms/step - loss: 0.5593 - acc: 0.8252 - val_loss: 1.2207 - val_acc: 0.6374\n",
            "13/13 [==============================] - 0s 30ms/step - loss: 1.3459 - acc: 0.6144\n",
            "Filter: 1024\n",
            "Kernel: 5\n",
            "Test Accuracy: 61.439592\n",
            "===========================================\n",
            "Epoch 1/10\n",
            "304/304 [==============================] - 142s 464ms/step - loss: 1.3578 - acc: 0.5546 - val_loss: 1.1063 - val_acc: 0.6296\n",
            "Epoch 2/10\n",
            "304/304 [==============================] - 142s 466ms/step - loss: 0.4301 - acc: 0.8744 - val_loss: 1.1786 - val_acc: 0.6272\n",
            "13/13 [==============================] - 1s 49ms/step - loss: 1.4636 - acc: 0.5398\n",
            "Filter: 1024\n",
            "Kernel: 10\n",
            "Test Accuracy: 53.984576\n",
            "===========================================\n"
          ]
        }
      ]
    },
    {
      "cell_type": "code",
      "source": [
        "#prediction\n",
        "y_pred = model.predict(Xtest)\n",
        "\n",
        "#Change one hot answer to be single digit as follows \n",
        "#https://stackoverflow.com/questions/54589669/confusion-matrix-error-classification-metrics-cant-handle-a-mix-of-multilabel\n",
        "\n",
        "rounded_labels_ypred = np.argmax(y_pred, axis=1)\n",
        "rounded_labels_ytest = np.argmax(ytest,axis=1)"
      ],
      "metadata": {
        "id": "XYVUUP4PkCHV"
      },
      "execution_count": null,
      "outputs": []
    },
    {
      "cell_type": "markdown",
      "source": [
        "##3CNN1,(128,128,128),(6,8,10) 3DO0.1 3GMP1D CONCAT D13: 61"
      ],
      "metadata": {
        "id": "gKD476bKEypH"
      }
    },
    {
      "cell_type": "code",
      "source": [
        "import tensorflow as tf\n",
        "from keras.models import Sequential, Model\n",
        "from tensorflow.keras import Input\n",
        "from keras.layers.convolutional import Conv1D, MaxPooling1D\n",
        "from keras.layers.pooling import GlobalMaxPooling1D, AveragePooling1D, GlobalAveragePooling1D\n",
        "from keras.layers import Dense, Flatten, Embedding, BatchNormalization, Dropout, LSTM, Bidirectional, TimeDistributed, concatenate"
      ],
      "metadata": {
        "id": "d2lQi0YREypT"
      },
      "execution_count": 50,
      "outputs": []
    },
    {
      "cell_type": "code",
      "source": [
        "max_length_train = max([len(s.split()) for s in train_docs])\n",
        "max_length_test  = max([len(s.split()) for s in test_docs])\n",
        "max_length = max([max_length_train, max_length_test])\n",
        "print(\"Max Length of Words: \", max_length)"
      ],
      "metadata": {
        "colab": {
          "base_uri": "https://localhost:8080/"
        },
        "id": "O-mbCpgVs7_A",
        "outputId": "c61ca9c4-1613-443d-a789-8044c0197d16"
      },
      "execution_count": 44,
      "outputs": [
        {
          "output_type": "stream",
          "name": "stdout",
          "text": [
            "Max Length of Words:  66\n"
          ]
        }
      ]
    },
    {
      "cell_type": "code",
      "source": [
        "# create the model\n",
        "model = Sequential()\n",
        "inputs = Input(shape=(max_length,))\n",
        "\n",
        "# channel 1\n",
        "embedding1 = Embedding(vocab_size, 1000, trainable=True)(inputs)\n",
        "conv1 = Conv1D(128, 6, activation='relu')(embedding1)\n",
        "drop1 = Dropout(0.1)(conv1)\n",
        "pool1 = GlobalMaxPooling1D()(drop1)\n",
        "# channel 2\n",
        "embedding2 = Embedding(vocab_size, 1000, trainable=True)(inputs)\n",
        "conv2 = Conv1D(128, 8, activation='relu')(embedding2)\n",
        "drop2 = Dropout(0.1)(conv2)\n",
        "pool2 = GlobalMaxPooling1D()(drop2)\n",
        "# channel 3\n",
        "embedding3 = Embedding(vocab_size, 1000, trainable=True)(inputs)\n",
        "conv3 = Conv1D(128, 10, activation='relu')(embedding3)\n",
        "drop3 = Dropout(0.1)(conv3)\n",
        "pool3 = GlobalMaxPooling1D()(drop3)\n",
        "\n",
        "# merge\n",
        "merged = concatenate([pool1, pool2, pool3])\n",
        "\n",
        "# Fully connected \n",
        "outputs = Dense(num_classes, activation='softmax')(merged) #1 Dense better than 2 or three Denses\n",
        "\n",
        "model = Model(inputs=[inputs], outputs=outputs)\n",
        "model.summary()\n",
        "\n",
        "from tensorflow.keras.callbacks import EarlyStopping\n",
        "\n",
        "#put early stopping\n",
        "early_stopping = EarlyStopping(monitor='val_loss', patience=1, mode='min')\n",
        "\n",
        "#Your choices of activation='softmax' in the last layer and compile choice of loss='categorical_crossentropy' \n",
        "#are good for a model to predict multiple mutually-exclusive classes.\n",
        "\n",
        "#Learning Rate = 0.01, acc = 40%\n",
        "\n",
        "model.compile(loss='categorical_crossentropy',\n",
        "              optimizer='adam', \n",
        "              metrics=['acc'],)\n",
        "\n",
        "train_y = [x-1 for x in train['Human_CategoryID'].tolist()]\n",
        "\n",
        "class_weights = compute_class_weight(\n",
        "                                        class_weight = \"balanced\",\n",
        "                                        classes = np.unique(train_y),\n",
        "                                        y = train_y                                                   \n",
        "                                    )\n",
        "class_weights = dict(zip(np.unique(train_y), class_weights))\n",
        "\n",
        "history = model.fit(Xtrain, ytrain, \n",
        "                    epochs=10, batch_size=32, #32, 128 > 8 (worse), 16, 64, 256\n",
        "                    validation_split=0.2,\n",
        "                    callbacks=[early_stopping],\n",
        "                    class_weight=class_weights)\n",
        "\n",
        "loss, acc = model.evaluate(Xtest, ytest)\n",
        "print('Test Accuracy: %f' % (acc*100))"
      ],
      "metadata": {
        "colab": {
          "base_uri": "https://localhost:8080/"
        },
        "id": "lZbW63ODjpT0",
        "outputId": "7609cdf7-fc44-4b71-bc43-143ad39234a4"
      },
      "execution_count": 51,
      "outputs": [
        {
          "output_type": "stream",
          "name": "stdout",
          "text": [
            "Model: \"model\"\n",
            "__________________________________________________________________________________________________\n",
            " Layer (type)                   Output Shape         Param #     Connected to                     \n",
            "==================================================================================================\n",
            " input_3 (InputLayer)           [(None, 66)]         0           []                               \n",
            "                                                                                                  \n",
            " embedding_31 (Embedding)       (None, 66, 1000)     12609000    ['input_3[0][0]']                \n",
            "                                                                                                  \n",
            " embedding_32 (Embedding)       (None, 66, 1000)     12609000    ['input_3[0][0]']                \n",
            "                                                                                                  \n",
            " embedding_33 (Embedding)       (None, 66, 1000)     12609000    ['input_3[0][0]']                \n",
            "                                                                                                  \n",
            " conv1d_31 (Conv1D)             (None, 61, 128)      768128      ['embedding_31[0][0]']           \n",
            "                                                                                                  \n",
            " conv1d_32 (Conv1D)             (None, 59, 128)      1024128     ['embedding_32[0][0]']           \n",
            "                                                                                                  \n",
            " conv1d_33 (Conv1D)             (None, 57, 128)      1280128     ['embedding_33[0][0]']           \n",
            "                                                                                                  \n",
            " dropout_6 (Dropout)            (None, 61, 128)      0           ['conv1d_31[0][0]']              \n",
            "                                                                                                  \n",
            " dropout_7 (Dropout)            (None, 59, 128)      0           ['conv1d_32[0][0]']              \n",
            "                                                                                                  \n",
            " dropout_8 (Dropout)            (None, 57, 128)      0           ['conv1d_33[0][0]']              \n",
            "                                                                                                  \n",
            " global_max_pooling1d_30 (Globa  (None, 128)         0           ['dropout_6[0][0]']              \n",
            " lMaxPooling1D)                                                                                   \n",
            "                                                                                                  \n",
            " global_max_pooling1d_31 (Globa  (None, 128)         0           ['dropout_7[0][0]']              \n",
            " lMaxPooling1D)                                                                                   \n",
            "                                                                                                  \n",
            " global_max_pooling1d_32 (Globa  (None, 128)         0           ['dropout_8[0][0]']              \n",
            " lMaxPooling1D)                                                                                   \n",
            "                                                                                                  \n",
            " concatenate_1 (Concatenate)    (None, 384)          0           ['global_max_pooling1d_30[0][0]',\n",
            "                                                                  'global_max_pooling1d_31[0][0]',\n",
            "                                                                  'global_max_pooling1d_32[0][0]']\n",
            "                                                                                                  \n",
            " dense_25 (Dense)               (None, 13)           5005        ['concatenate_1[0][0]']          \n",
            "                                                                                                  \n",
            "==================================================================================================\n",
            "Total params: 40,904,389\n",
            "Trainable params: 40,904,389\n",
            "Non-trainable params: 0\n",
            "__________________________________________________________________________________________________\n",
            "Epoch 1/10\n",
            "304/304 [==============================] - 70s 226ms/step - loss: 2.0720 - acc: 0.3352 - val_loss: 1.4748 - val_acc: 0.5173\n",
            "Epoch 2/10\n",
            "304/304 [==============================] - 68s 225ms/step - loss: 0.5769 - acc: 0.7621 - val_loss: 1.2172 - val_acc: 0.6029\n",
            "Epoch 3/10\n",
            "304/304 [==============================] - 68s 225ms/step - loss: 0.1260 - acc: 0.9460 - val_loss: 1.0769 - val_acc: 0.6436\n",
            "Epoch 4/10\n",
            "304/304 [==============================] - 69s 226ms/step - loss: 0.0342 - acc: 0.9902 - val_loss: 1.0905 - val_acc: 0.6494\n",
            "13/13 [==============================] - 0s 27ms/step - loss: 1.2204 - acc: 0.6118\n",
            "Test Accuracy: 61.182517\n"
          ]
        }
      ]
    },
    {
      "cell_type": "markdown",
      "metadata": {
        "id": "m_qi39uZCbtV"
      },
      "source": [
        "#Plot Confusion and Classification Report"
      ]
    },
    {
      "cell_type": "code",
      "execution_count": null,
      "metadata": {
        "colab": {
          "base_uri": "https://localhost:8080/",
          "height": 487
        },
        "id": "5usjDWqJCiZ2",
        "outputId": "b9f768af-ca9f-4cdb-8fc4-9c83a1109e2f"
      },
      "outputs": [
        {
          "output_type": "execute_result",
          "data": {
            "text/plain": [
              "<IPython.core.display.Image object>"
            ],
            "image/png": "[encoded data removed]"
          },
          "metadata": {},
          "execution_count": 68
        }
      ],
      "source": [
        "plot_model(model, to_file='model_plot.png', show_shapes=True, show_layer_names=True)\n",
        "\n",
        "# from google.colab import files\n",
        "# files.download('model_plot.png')"
      ]
    },
    {
      "cell_type": "code",
      "execution_count": null,
      "metadata": {
        "colab": {
          "base_uri": "https://localhost:8080/",
          "height": 282
        },
        "id": "5ixGTFSFCliW",
        "outputId": "36f68add-3873-4d8c-e495-979ce3301a4e"
      },
      "outputs": [
        {
          "output_type": "execute_result",
          "data": {
            "text/plain": [
              "<matplotlib.axes._subplots.AxesSubplot at 0x7f5587ecfcd0>"
            ]
          },
          "metadata": {},
          "execution_count": 69
        },
        {
          "output_type": "display_data",
          "data": {
            "text/plain": [
              "<Figure size 432x288 with 1 Axes>"
            ],
            "image/png": "[encoded data removed]"
          },
          "metadata": {
            "needs_background": "light"
          }
        }
      ],
      "source": [
        "history_frame = pd.DataFrame(history.history)\n",
        "history_frame.loc[:, ['loss', 'val_loss']].plot()"
      ]
    },
    {
      "cell_type": "code",
      "execution_count": null,
      "metadata": {
        "colab": {
          "base_uri": "https://localhost:8080/",
          "height": 282
        },
        "id": "O7I-ceIkDobB",
        "outputId": "8f3cf079-553a-4456-9dd3-8029ddeb4da5"
      },
      "outputs": [
        {
          "output_type": "execute_result",
          "data": {
            "text/plain": [
              "<matplotlib.axes._subplots.AxesSubplot at 0x7f5576ec3250>"
            ]
          },
          "metadata": {},
          "execution_count": 70
        },
        {
          "output_type": "display_data",
          "data": {
            "text/plain": [
              "<Figure size 432x288 with 1 Axes>"
            ],
            "image/png": "[encoded data removed]"
          },
          "metadata": {
            "needs_background": "light"
          }
        }
      ],
      "source": [
        "history_frame.loc[:, ['acc', 'val_acc']].plot()"
      ]
    },
    {
      "cell_type": "code",
      "execution_count": null,
      "metadata": {
        "colab": {
          "base_uri": "https://localhost:8080/"
        },
        "id": "NVboaPbubrjH",
        "outputId": "d3c78cca-781a-4e09-f616-0e6ea23b67f5"
      },
      "outputs": [
        {
          "output_type": "stream",
          "name": "stdout",
          "text": [
            "test_unique_classes\n",
            "12\n"
          ]
        },
        {
          "output_type": "execute_result",
          "data": {
            "text/plain": [
              "{0: 'Accessibility',\n",
              " 2: 'Company Brand',\n",
              " 3: 'Staff Quality',\n",
              " 4: 'Timing',\n",
              " 5: 'Product and Service, Benefit',\n",
              " 6: 'Product and Service, System',\n",
              " 7: 'Product and Service, Usage and Condition',\n",
              " 8: 'Product and Service, Convenience',\n",
              " 9: 'Product and Service, Variety',\n",
              " 10: 'Product and Service, Decision',\n",
              " 11: 'Security',\n",
              " 12: 'No Category'}"
            ]
          },
          "metadata": {},
          "execution_count": 72
        }
      ],
      "source": [
        "#Find dict of label ids and names.\n",
        "if train['Human_CategoryID'].nunique() < test['Human_CategoryID'].nunique():\n",
        "  print('train_unique_classes')\n",
        "  classes_with_id_dict = {id-1: labels for id, labels in zip(train['Human_CategoryID'], train['Human_Category'])}\n",
        "  print(len(classes_with_id_dict))\n",
        "else:\n",
        "  print('test_unique_classes')\n",
        "  classes_with_id_dict = {id-1: labels for id, labels in zip(test['Human_CategoryID'], test['Human_Category'])}\n",
        "  print(len(classes_with_id_dict))\n",
        "\n",
        "classes_with_id_dict"
      ]
    },
    {
      "cell_type": "code",
      "execution_count": null,
      "metadata": {
        "colab": {
          "base_uri": "https://localhost:8080/"
        },
        "id": "ehUDl4vs5pq0",
        "outputId": "685a8718-9d2b-49bd-e61b-738fad10469d"
      },
      "outputs": [
        {
          "output_type": "stream",
          "name": "stdout",
          "text": [
            "test_unique_classes\n",
            "12\n"
          ]
        }
      ],
      "source": [
        "#get an labels array in the conseuctive order based on id number.\n",
        "train_unique_classes = train['Human_CategoryID'].nunique()\n",
        "test_unique_classes = test['Human_CategoryID'].nunique()\n",
        "\n",
        "#find the label total\n",
        "if train['Human_CategoryID'].nunique() > test['Human_CategoryID'].nunique():\n",
        "  print('test_unique_classes')\n",
        "  classes_with_id = test_unique_classes\n",
        "else:\n",
        "  print('train_unique_classes')\n",
        "  classes_with_id = train_unique_classes\n",
        "\n",
        "#convert a dict to an array\n",
        "classes_array = [\"\" for x in range(classes_with_id+1)]\n",
        "\n",
        "for id, label in classes_with_id_dict.items():\n",
        "  classes_array[id] = label\n",
        "\n",
        "#delete empty string for classification report\n",
        "classes_array = [label for label in classes_array if label != \"\"]\n",
        "classes_array\n",
        "print(len(classes_array))"
      ]
    },
    {
      "cell_type": "code",
      "execution_count": null,
      "metadata": {
        "colab": {
          "base_uri": "https://localhost:8080/"
        },
        "id": "QEYGOtoXzi-b",
        "outputId": "b7e88be9-68d3-4a94-84d4-8b1c60cb7437"
      },
      "outputs": [
        {
          "output_type": "stream",
          "name": "stdout",
          "text": [
            "                                          precision    recall  f1-score   support\n",
            "\n",
            "                           Accessibility       0.50      0.43      0.46         7\n",
            "                           Company Brand       0.38      0.42      0.40        12\n",
            "                           Staff Quality       0.47      0.47      0.47        17\n",
            "                                  Timing       0.64      0.75      0.69        28\n",
            "            Product and Service, Benefit       0.73      0.59      0.66        32\n",
            "             Product and Service, System       0.71      0.88      0.79        84\n",
            "Product and Service, Usage and Condition       0.62      0.70      0.65        92\n",
            "        Product and Service, Convenience       0.50      0.18      0.27        11\n",
            "            Product and Service, Variety       0.38      0.42      0.40        12\n",
            "           Product and Service, Decision       0.44      0.40      0.42        10\n",
            "                                Security       0.67      0.67      0.67         3\n",
            "                             No Category       0.67      0.47      0.55        81\n",
            "\n",
            "                                accuracy                           0.63       389\n",
            "                               macro avg       0.56      0.53      0.54       389\n",
            "                            weighted avg       0.63      0.63      0.62       389\n",
            "\n"
          ]
        }
      ],
      "source": [
        "from sklearn.metrics import classification_report\n",
        "\n",
        "print(classification_report(rounded_labels_ytest, rounded_labels_ypred, target_names=classes_array, zero_division=0))"
      ]
    },
    {
      "cell_type": "code",
      "execution_count": null,
      "metadata": {
        "colab": {
          "base_uri": "https://localhost:8080/",
          "height": 863
        },
        "id": "bt6jwSuSzi-b",
        "outputId": "b0b5ec1e-5c6d-4b21-98bf-ab29153c04d2"
      },
      "outputs": [
        {
          "output_type": "display_data",
          "data": {
            "text/plain": [
              "<Figure size 720x720 with 2 Axes>"
            ],
            "image/png": "[encoded data removed]"
          },
          "metadata": {
            "needs_background": "light"
          }
        }
      ],
      "source": [
        "import seaborn as sns\n",
        "from sklearn.metrics import confusion_matrix\n",
        "import matplotlib.pyplot as plt\n",
        "\n",
        "cf_matrix = confusion_matrix(rounded_labels_ytest, rounded_labels_ypred)\n",
        "\n",
        "fig, ax = plt.subplots(figsize=(10,10))    \n",
        "ax = sns.heatmap(cf_matrix, annot=True, cmap='Blues', ax=ax, fmt=\".1f\")\n",
        "\n",
        "ax.set_title('Seaborn Confusion Matrix with labels\\n\\n');\n",
        "ax.set_xlabel('\\nPredicted Flower Category')\n",
        "ax.set_ylabel('Actual Flower Category ');\n",
        "\n",
        "## Ticket labels - List must be in alphabetical order\n",
        "ax.xaxis.set_ticklabels(classes_array, rotation=90)\n",
        "ax.yaxis.set_ticklabels(classes_array, rotation=0)\n",
        "\n",
        "## Display the visualization of the Confusion Matrix.\n",
        "plt.show()\n",
        "\n",
        "figure = ax.get_figure()    \n",
        "figure.savefig(\"cf_matrix.png\", pad_inches= 12, dpi=400)"
      ]
    }
  ]
}
