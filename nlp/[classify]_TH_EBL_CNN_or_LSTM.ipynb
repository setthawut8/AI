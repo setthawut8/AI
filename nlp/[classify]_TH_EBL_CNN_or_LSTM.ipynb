{
  "nbformat": 4,
  "nbformat_minor": 0,
  "metadata": {
    "colab": {
      "name": "[classify] _TH_EBL_CNN_or_LSTM.ipynb",
      "provenance": [],
      "collapsed_sections": [
        "DKZejA_uh9kv",
        "3hRruw5Ph59Y",
        "WbZ5MsM0iCNr"
      ],
      "machine_shape": "hm",
      "toc_visible": true,
      "authorship_tag": "ABX9TyNNEdNeEwFi75k3c+NucZ3n",
      "include_colab_link": true
    },
    "kernelspec": {
      "name": "python3",
      "display_name": "Python 3"
    },
    "language_info": {
      "name": "python"
    },
    "gpuClass": "standard",
    "accelerator": "TPU"
  },
  "cells": [
    {
      "cell_type": "markdown",
      "metadata": {
        "id": "view-in-github",
        "colab_type": "text"
      },
      "source": [
        "<a href=\"https://colab.research.google.com/github/setthawut8/ai/blob/main/nlp/%5Bclassify%5D__TH_EBL_CNN_or_LSTM.ipynb\" target=\"_parent\"><img src=\"https://colab.research.google.com/assets/colab-badge.svg\" alt=\"Open In Colab\"/></a>"
      ]
    },
    {
      "cell_type": "markdown",
      "source": [
        "#Best Result: \n",
        "4CNN1,(128,256,512,1024),(5) 3DO0.5 3GMP1D CONCAT D13 CW P2: 65\n",
        "\n",
        "CNN1,(128,5) GMP1D D13: 64\n",
        "\n",
        "CNN1,(512,5) GMP1D D13: 64"
      ],
      "metadata": {
        "id": "yfHmeUscYyxq"
      }
    },
    {
      "cell_type": "markdown",
      "source": [
        "#Download Data and Library Installation"
      ],
      "metadata": {
        "id": "DKZejA_uh9kv"
      }
    },
    {
      "cell_type": "code",
      "execution_count": 1,
      "metadata": {
        "colab": {
          "base_uri": "https://localhost:8080/"
        },
        "id": "rY0gVkg8ahbS",
        "outputId": "14c53135-ae1e-4600-cf68-ad522306b91c"
      },
      "outputs": [
        {
          "output_type": "stream",
          "name": "stdout",
          "text": [
            "/usr/local/lib/python3.7/dist-packages/gdown/cli.py:131: FutureWarning: Option `--id` was deprecated in version 4.3.1 and will be removed in 5.0. You don't need to pass it anymore to use a file ID.\n",
            "  category=FutureWarning,\n",
            "Downloading...\n",
            "From: https://drive.google.com/uc?id=1-avUDygRCGvAiPplmc6MundS_PpnohRv\n",
            "To: /content/preprocessed_v1_socialfsi_single_train_sampling12150_20220701.xlsx\n",
            "100% 3.87M/3.87M [00:00<00:00, 211MB/s]\n",
            "/usr/local/lib/python3.7/dist-packages/gdown/cli.py:131: FutureWarning: Option `--id` was deprecated in version 4.3.1 and will be removed in 5.0. You don't need to pass it anymore to use a file ID.\n",
            "  category=FutureWarning,\n",
            "Downloading...\n",
            "From: https://drive.google.com/uc?id=106OVRPIQQBppganRnCZigxQh6-Zyvqit\n",
            "To: /content/preprocessed_v1_socialfsi_single_test_sampling389_20220701.xlsx\n",
            "100% 141k/141k [00:00<00:00, 75.2MB/s]\n"
          ]
        }
      ],
      "source": [
        "#download data\n",
        "!gdown --id :) \n",
        "!gdown --id :) "
      ]
    },
    {
      "cell_type": "code",
      "source": [
        "#libraby \n",
        "import numpy as np\n",
        "import pandas as pd\n",
        "import seaborn as sns\n",
        "import matplotlib.pyplot as plt\n",
        "\n",
        "from sklearn.utils.class_weight import compute_class_weight\n",
        "from tensorflow.keras.utils import plot_model"
      ],
      "metadata": {
        "id": "cgMb7j8pbNQj"
      },
      "execution_count": 2,
      "outputs": []
    },
    {
      "cell_type": "code",
      "source": [
        "train = pd.read_excel('/content/preprocessed_v1_socialfsi_single_train_sampling12150_20220701.xlsx')\n",
        "test = pd.read_excel('/content/preprocessed_v1_socialfsi_single_test_sampling389_20220701.xlsx')"
      ],
      "metadata": {
        "id": "ITJldeRSbbc6"
      },
      "execution_count": 3,
      "outputs": []
    },
    {
      "cell_type": "code",
      "source": [
        "train.head(5)"
      ],
      "metadata": {
        "colab": {
          "base_uri": "https://localhost:8080/",
          "height": 565
        },
        "id": "sMuRAAX0b2mv",
        "outputId": "d37c5448-2de6-45cc-8f9d-3a07c0377a67"
      },
      "execution_count": 4,
      "outputs": [
        {
          "output_type": "execute_result",
          "data": {
            "text/plain": [
              "   Unnamed: 0                                       TagFile_Path  \\\n",
              "0           0  SocialFSI_ZE-KTB-Feb-Apr2022_Sampling2244_2022...   \n",
              "1           1  SocialFSI_v4_0_mutiple_train_sampling8203_2021...   \n",
              "2           2  SocialFSI_ZE-KTB-Feb-Apr2022_Sampling2244_2022...   \n",
              "3           3  SocialFSI_v4_0_mutiple_train_sampling8203_2021...   \n",
              "4           4  SocialFSI_v4_0_mutiple_train_sampling8203_2021...   \n",
              "\n",
              "                                             TagFile SV_CustomerName  \\\n",
              "0  SocialFSI_ZE-KTB-Feb-Apr2022_Sampling1400_2022...  Krungthai_NEXT   \n",
              "1  SocialFSI_TrainDataV4_RetagCLS-12_Sampling53_P...             NaN   \n",
              "2  SocialFSI_ZE-KTB-Feb-Apr2022_Sampling1200_2022...  Krungthai_NEXT   \n",
              "3  SocialFSI_TrainSCB-SocialFilterV2_Sampling2750...             NaN   \n",
              "4  SocialFSI_TrainSCB-SocialFilterV2_Sampling2750...             NaN   \n",
              "\n",
              "                                        Main keyword      Channel SubChannel  \\\n",
              "0  mobile banking+กสิกร,mobile banking+ธนาคารกสิก...  SocialMedia      forum   \n",
              "1                                                NaN  SocialMedia    Twitter   \n",
              "2                                          krungthai  SocialMedia   facebook   \n",
              "3                                                NaN  SocialMedia    Twitter   \n",
              "4                                                NaN  SocialMedia    Twitter   \n",
              "\n",
              "                                 lfdn   verbatim_id     sentence_id  \\\n",
              "0           pantip.com_topic_41249919    Q2207_1549    Q2207_1549_1   \n",
              "1            5fffc6bcb08b583a24679d59  Q202106_5805  Q202106_5805_1   \n",
              "2  10161808181448916_1330115550790924     Q2207_636     Q2207_636_1   \n",
              "3                            27634345   Q202106_961   Q202106_961_1   \n",
              "4                            28297653  Q202106_2021  Q202106_2021_1   \n",
              "\n",
              "                                       Text_original  \\\n",
              "0  สอบถามเรื่องการอายัดบัตรเดบิตของกสิกรค่ะ พอดีว...   \n",
              "1  ปกติจะไม่ชอบlog in ใดๆในคอมคนอื่นหรือสำนักงานใ...   \n",
              "2  Krungthai Care ณ. ตอนนี้ยอดก็ยังไม่เข้าค่ะ ถ้า...   \n",
              "3  @scb_thailand เรียน scb ขอเบอร?ตืดต่อเพราะคุย ...   \n",
              "4  ไอเลิ้บ TMB All Free มาก แต่ช่วยพัฒนาแอพให้สเถ...   \n",
              "\n",
              "                                                Text  \\\n",
              "0  สอบถามเรื่องการอายัดบัตรเดบิตของกสิกรค่ะ พอดีว...   \n",
              "1  ปกติจะไม่ชอบlog in ใดๆในคอมคนอื่นหรือสำนักงานใ...   \n",
              "2  Krungthai Care ณ. ตอนนี้ยอดก็ยังไม่เข้าค่ะ ถ้า...   \n",
              "3  @scb_thailand เรียน scb ขอเบอร?ตืดต่อเพราะคุย ...   \n",
              "4                          ไอเลิ้บ TMB All Free มาก    \n",
              "\n",
              "                             Human_Category  Human_CategoryID Human_Sentiment  \\\n",
              "0  Product and Service, Usage and Condition                 8         neutral   \n",
              "1                                  Security                12         neutral   \n",
              "2               Product and Service, System                 7        negative   \n",
              "3                             Staff Quality                 4        negative   \n",
              "4  Product and Service, Usage and Condition                 8        positive   \n",
              "\n",
              "  Human_SentimentID                                      Text_ws_local  \n",
              "0                 o  สอบถาม|เรื่อง|การ|อายัด|บัตรเดบิต|ของ|kbank|ค่...  \n",
              "1                 o  ปกติ|จะ|ไม่ชอบ| |log| |in| |ใดๆ| |ใน|ค|อม|คนอื...  \n",
              "2                 n  ktb| |care| |ณ|.| |ตอนนี้|ยอด|ก็|ยัง|ไม่|เข้า|...  \n",
              "3                 n  scb_thailand| |เรียน| |scb| |ขอ|เบอร| |ตืด|ต่อ...  \n",
              "4                 p                    ไอ|เลิ้บ| |tmb_all_free| |มาก|   "
            ],
            "text/html": [
              "\n",
              "  <div id=\"df-f3f276df-90c4-49f7-b8a6-fda02d48e61f\">\n",
              "    <div class=\"colab-df-container\">\n",
              "      <div>\n",
              "<style scoped>\n",
              "    .dataframe tbody tr th:only-of-type {\n",
              "        vertical-align: middle;\n",
              "    }\n",
              "\n",
              "    .dataframe tbody tr th {\n",
              "        vertical-align: top;\n",
              "    }\n",
              "\n",
              "    .dataframe thead th {\n",
              "        text-align: right;\n",
              "    }\n",
              "</style>\n",
              "<table border=\"1\" class=\"dataframe\">\n",
              "  <thead>\n",
              "    <tr style=\"text-align: right;\">\n",
              "      <th></th>\n",
              "      <th>Unnamed: 0</th>\n",
              "      <th>TagFile_Path</th>\n",
              "      <th>TagFile</th>\n",
              "      <th>SV_CustomerName</th>\n",
              "      <th>Main keyword</th>\n",
              "      <th>Channel</th>\n",
              "      <th>SubChannel</th>\n",
              "      <th>lfdn</th>\n",
              "      <th>verbatim_id</th>\n",
              "      <th>sentence_id</th>\n",
              "      <th>Text_original</th>\n",
              "      <th>Text</th>\n",
              "      <th>Human_Category</th>\n",
              "      <th>Human_CategoryID</th>\n",
              "      <th>Human_Sentiment</th>\n",
              "      <th>Human_SentimentID</th>\n",
              "      <th>Text_ws_local</th>\n",
              "    </tr>\n",
              "  </thead>\n",
              "  <tbody>\n",
              "    <tr>\n",
              "      <th>0</th>\n",
              "      <td>0</td>\n",
              "      <td>SocialFSI_ZE-KTB-Feb-Apr2022_Sampling2244_2022...</td>\n",
              "      <td>SocialFSI_ZE-KTB-Feb-Apr2022_Sampling1400_2022...</td>\n",
              "      <td>Krungthai_NEXT</td>\n",
              "      <td>mobile banking+กสิกร,mobile banking+ธนาคารกสิก...</td>\n",
              "      <td>SocialMedia</td>\n",
              "      <td>forum</td>\n",
              "      <td>pantip.com_topic_41249919</td>\n",
              "      <td>Q2207_1549</td>\n",
              "      <td>Q2207_1549_1</td>\n",
              "      <td>สอบถามเรื่องการอายัดบัตรเดบิตของกสิกรค่ะ พอดีว...</td>\n",
              "      <td>สอบถามเรื่องการอายัดบัตรเดบิตของกสิกรค่ะ พอดีว...</td>\n",
              "      <td>Product and Service, Usage and Condition</td>\n",
              "      <td>8</td>\n",
              "      <td>neutral</td>\n",
              "      <td>o</td>\n",
              "      <td>สอบถาม|เรื่อง|การ|อายัด|บัตรเดบิต|ของ|kbank|ค่...</td>\n",
              "    </tr>\n",
              "    <tr>\n",
              "      <th>1</th>\n",
              "      <td>1</td>\n",
              "      <td>SocialFSI_v4_0_mutiple_train_sampling8203_2021...</td>\n",
              "      <td>SocialFSI_TrainDataV4_RetagCLS-12_Sampling53_P...</td>\n",
              "      <td>NaN</td>\n",
              "      <td>NaN</td>\n",
              "      <td>SocialMedia</td>\n",
              "      <td>Twitter</td>\n",
              "      <td>5fffc6bcb08b583a24679d59</td>\n",
              "      <td>Q202106_5805</td>\n",
              "      <td>Q202106_5805_1</td>\n",
              "      <td>ปกติจะไม่ชอบlog in ใดๆในคอมคนอื่นหรือสำนักงานใ...</td>\n",
              "      <td>ปกติจะไม่ชอบlog in ใดๆในคอมคนอื่นหรือสำนักงานใ...</td>\n",
              "      <td>Security</td>\n",
              "      <td>12</td>\n",
              "      <td>neutral</td>\n",
              "      <td>o</td>\n",
              "      <td>ปกติ|จะ|ไม่ชอบ| |log| |in| |ใดๆ| |ใน|ค|อม|คนอื...</td>\n",
              "    </tr>\n",
              "    <tr>\n",
              "      <th>2</th>\n",
              "      <td>2</td>\n",
              "      <td>SocialFSI_ZE-KTB-Feb-Apr2022_Sampling2244_2022...</td>\n",
              "      <td>SocialFSI_ZE-KTB-Feb-Apr2022_Sampling1200_2022...</td>\n",
              "      <td>Krungthai_NEXT</td>\n",
              "      <td>krungthai</td>\n",
              "      <td>SocialMedia</td>\n",
              "      <td>facebook</td>\n",
              "      <td>10161808181448916_1330115550790924</td>\n",
              "      <td>Q2207_636</td>\n",
              "      <td>Q2207_636_1</td>\n",
              "      <td>Krungthai Care ณ. ตอนนี้ยอดก็ยังไม่เข้าค่ะ ถ้า...</td>\n",
              "      <td>Krungthai Care ณ. ตอนนี้ยอดก็ยังไม่เข้าค่ะ ถ้า...</td>\n",
              "      <td>Product and Service, System</td>\n",
              "      <td>7</td>\n",
              "      <td>negative</td>\n",
              "      <td>n</td>\n",
              "      <td>ktb| |care| |ณ|.| |ตอนนี้|ยอด|ก็|ยัง|ไม่|เข้า|...</td>\n",
              "    </tr>\n",
              "    <tr>\n",
              "      <th>3</th>\n",
              "      <td>3</td>\n",
              "      <td>SocialFSI_v4_0_mutiple_train_sampling8203_2021...</td>\n",
              "      <td>SocialFSI_TrainSCB-SocialFilterV2_Sampling2750...</td>\n",
              "      <td>NaN</td>\n",
              "      <td>NaN</td>\n",
              "      <td>SocialMedia</td>\n",
              "      <td>Twitter</td>\n",
              "      <td>27634345</td>\n",
              "      <td>Q202106_961</td>\n",
              "      <td>Q202106_961_1</td>\n",
              "      <td>@scb_thailand เรียน scb ขอเบอร?ตืดต่อเพราะคุย ...</td>\n",
              "      <td>@scb_thailand เรียน scb ขอเบอร?ตืดต่อเพราะคุย ...</td>\n",
              "      <td>Staff Quality</td>\n",
              "      <td>4</td>\n",
              "      <td>negative</td>\n",
              "      <td>n</td>\n",
              "      <td>scb_thailand| |เรียน| |scb| |ขอ|เบอร| |ตืด|ต่อ...</td>\n",
              "    </tr>\n",
              "    <tr>\n",
              "      <th>4</th>\n",
              "      <td>4</td>\n",
              "      <td>SocialFSI_v4_0_mutiple_train_sampling8203_2021...</td>\n",
              "      <td>SocialFSI_TrainSCB-SocialFilterV2_Sampling2750...</td>\n",
              "      <td>NaN</td>\n",
              "      <td>NaN</td>\n",
              "      <td>SocialMedia</td>\n",
              "      <td>Twitter</td>\n",
              "      <td>28297653</td>\n",
              "      <td>Q202106_2021</td>\n",
              "      <td>Q202106_2021_1</td>\n",
              "      <td>ไอเลิ้บ TMB All Free มาก แต่ช่วยพัฒนาแอพให้สเถ...</td>\n",
              "      <td>ไอเลิ้บ TMB All Free มาก</td>\n",
              "      <td>Product and Service, Usage and Condition</td>\n",
              "      <td>8</td>\n",
              "      <td>positive</td>\n",
              "      <td>p</td>\n",
              "      <td>ไอ|เลิ้บ| |tmb_all_free| |มาก|</td>\n",
              "    </tr>\n",
              "  </tbody>\n",
              "</table>\n",
              "</div>\n",
              "      <button class=\"colab-df-convert\" onclick=\"convertToInteractive('df-f3f276df-90c4-49f7-b8a6-fda02d48e61f')\"\n",
              "              title=\"Convert this dataframe to an interactive table.\"\n",
              "              style=\"display:none;\">\n",
              "        \n",
              "  <svg xmlns=\"http://www.w3.org/2000/svg\" height=\"24px\"viewBox=\"0 0 24 24\"\n",
              "       width=\"24px\">\n",
              "    <path d=\"M0 0h24v24H0V0z\" fill=\"none\"/>\n",
              "    <path d=\"M18.56 5.44l.94 2.06.94-2.06 2.06-.94-2.06-.94-.94-2.06-.94 2.06-2.06.94zm-11 1L8.5 8.5l.94-2.06 2.06-.94-2.06-.94L8.5 2.5l-.94 2.06-2.06.94zm10 10l.94 2.06.94-2.06 2.06-.94-2.06-.94-.94-2.06-.94 2.06-2.06.94z\"/><path d=\"M17.41 7.96l-1.37-1.37c-.4-.4-.92-.59-1.43-.59-.52 0-1.04.2-1.43.59L10.3 9.45l-7.72 7.72c-.78.78-.78 2.05 0 2.83L4 21.41c.39.39.9.59 1.41.59.51 0 1.02-.2 1.41-.59l7.78-7.78 2.81-2.81c.8-.78.8-2.07 0-2.86zM5.41 20L4 18.59l7.72-7.72 1.47 1.35L5.41 20z\"/>\n",
              "  </svg>\n",
              "      </button>\n",
              "      \n",
              "  <style>\n",
              "    .colab-df-container {\n",
              "      display:flex;\n",
              "      flex-wrap:wrap;\n",
              "      gap: 12px;\n",
              "    }\n",
              "\n",
              "    .colab-df-convert {\n",
              "      background-color: #E8F0FE;\n",
              "      border: none;\n",
              "      border-radius: 50%;\n",
              "      cursor: pointer;\n",
              "      display: none;\n",
              "      fill: #1967D2;\n",
              "      height: 32px;\n",
              "      padding: 0 0 0 0;\n",
              "      width: 32px;\n",
              "    }\n",
              "\n",
              "    .colab-df-convert:hover {\n",
              "      background-color: #E2EBFA;\n",
              "      box-shadow: 0px 1px 2px rgba(60, 64, 67, 0.3), 0px 1px 3px 1px rgba(60, 64, 67, 0.15);\n",
              "      fill: #174EA6;\n",
              "    }\n",
              "\n",
              "    [theme=dark] .colab-df-convert {\n",
              "      background-color: #3B4455;\n",
              "      fill: #D2E3FC;\n",
              "    }\n",
              "\n",
              "    [theme=dark] .colab-df-convert:hover {\n",
              "      background-color: #434B5C;\n",
              "      box-shadow: 0px 1px 3px 1px rgba(0, 0, 0, 0.15);\n",
              "      filter: drop-shadow(0px 1px 2px rgba(0, 0, 0, 0.3));\n",
              "      fill: #FFFFFF;\n",
              "    }\n",
              "  </style>\n",
              "\n",
              "      <script>\n",
              "        const buttonEl =\n",
              "          document.querySelector('#df-f3f276df-90c4-49f7-b8a6-fda02d48e61f button.colab-df-convert');\n",
              "        buttonEl.style.display =\n",
              "          google.colab.kernel.accessAllowed ? 'block' : 'none';\n",
              "\n",
              "        async function convertToInteractive(key) {\n",
              "          const element = document.querySelector('#df-f3f276df-90c4-49f7-b8a6-fda02d48e61f');\n",
              "          const dataTable =\n",
              "            await google.colab.kernel.invokeFunction('convertToInteractive',\n",
              "                                                     [key], {});\n",
              "          if (!dataTable) return;\n",
              "\n",
              "          const docLinkHtml = 'Like what you see? Visit the ' +\n",
              "            '<a target=\"_blank\" href=https://colab.research.google.com/notebooks/data_table.ipynb>data table notebook</a>'\n",
              "            + ' to learn more about interactive tables.';\n",
              "          element.innerHTML = '';\n",
              "          dataTable['output_type'] = 'display_data';\n",
              "          await google.colab.output.renderOutput(dataTable, element);\n",
              "          const docLink = document.createElement('div');\n",
              "          docLink.innerHTML = docLinkHtml;\n",
              "          element.appendChild(docLink);\n",
              "        }\n",
              "      </script>\n",
              "    </div>\n",
              "  </div>\n",
              "  "
            ]
          },
          "metadata": {},
          "execution_count": 4
        }
      ]
    },
    {
      "cell_type": "code",
      "source": [
        "train['Human_CategoryID'].sort_index(ascending=True).value_counts()"
      ],
      "metadata": {
        "colab": {
          "base_uri": "https://localhost:8080/"
        },
        "id": "HA6bOeakDu5L",
        "outputId": "07331f46-7181-47c2-bdf4-1236319f5c6d"
      },
      "execution_count": 5,
      "outputs": [
        {
          "output_type": "execute_result",
          "data": {
            "text/plain": [
              "7     3275\n",
              "8     2454\n",
              "13    2133\n",
              "5     1163\n",
              "6     1109\n",
              "4      522\n",
              "10     379\n",
              "3      377\n",
              "11     232\n",
              "1      185\n",
              "9      153\n",
              "12     152\n",
              "2       16\n",
              "Name: Human_CategoryID, dtype: int64"
            ]
          },
          "metadata": {},
          "execution_count": 5
        }
      ]
    },
    {
      "cell_type": "markdown",
      "source": [
        "#Create a Vocabulary"
      ],
      "metadata": {
        "id": "3hRruw5Ph59Y"
      }
    },
    {
      "cell_type": "code",
      "source": [
        "from collections import Counter\n",
        "\n",
        "vocab = Counter()\n",
        "def data_to_vocab(df):\n",
        "  for verbatim in df['Text_ws_local']:\n",
        "    tokens = verbatim.split()\n",
        "    tokens = [word for word in tokens if len(tokens) > 4] #at first = 1, CNN GMP is better with >4 for ~2%\n",
        "    vocab.update(tokens)\n",
        "\n",
        "data_to_vocab(train)\n",
        "\n",
        "print(len(vocab))\n",
        "vocab.most_common(20)"
      ],
      "metadata": {
        "colab": {
          "base_uri": "https://localhost:8080/"
        },
        "id": "9KsihNdkb28k",
        "outputId": "a8bdd007-cf5a-4a96-822b-33fa2de9aaae"
      },
      "execution_count": 6,
      "outputs": [
        {
          "output_type": "stream",
          "name": "stdout",
          "text": [
            "46943\n"
          ]
        },
        {
          "output_type": "execute_result",
          "data": {
            "text/plain": [
              "[('|scb|', 1518),\n",
              " ('|friendtag|', 625),\n",
              " ('|2|', 512),\n",
              " ('|kbank|', 403),\n",
              " ('|บาท|', 360),\n",
              " ('|1|', 340),\n",
              " ('|3|', 329),\n",
              " ('|5|', 298),\n",
              " ('|tmb|', 251),\n",
              " ('|call_center|', 250),\n",
              " ('|atm|', 249),\n",
              " ('atm|', 245),\n",
              " ('|scb_easy|', 201),\n",
              " ('|telephonetag|', 199),\n",
              " ('|app|', 199),\n",
              " ('|กรุงไทย|', 198),\n",
              " ('|-|', 184),\n",
              " ('|sms|', 178),\n",
              " ('|ktc|', 176),\n",
              " ('|ของ|', 164)]"
            ]
          },
          "metadata": {},
          "execution_count": 6
        }
      ]
    },
    {
      "cell_type": "code",
      "source": [
        "min_occurence = 2\n",
        "tokens = [k for k, c in vocab.items() if c >= min_occurence]"
      ],
      "metadata": {
        "id": "YqxVmTU0hXYD"
      },
      "execution_count": 7,
      "outputs": []
    },
    {
      "cell_type": "code",
      "source": [
        "def save_list(lines, filename):\n",
        "  data = '\\n'.join(lines)\n",
        "  file = open(filename, 'w')\n",
        "  file.write(data)\n",
        "  file.close()\n",
        "  \n",
        "save_list(tokens, 'vocab.txt')"
      ],
      "metadata": {
        "id": "dxb6rJv_gzC1"
      },
      "execution_count": 8,
      "outputs": []
    },
    {
      "cell_type": "markdown",
      "source": [
        "#Data Processing: Embedding & the Model"
      ],
      "metadata": {
        "id": "WbZ5MsM0iCNr"
      }
    },
    {
      "cell_type": "code",
      "source": [
        "#Load the vocab as above\n",
        "def load_doc(filename):\n",
        "  file = open(filename, 'r')\n",
        "  text = file.read()\n",
        "  file.close()\n",
        "  return text\n",
        "\n",
        "vocab_filename = 'vocab.txt'\n",
        "vocab = load_doc(vocab_filename)\n",
        "vocab = vocab.split()\n",
        "vocab = set(vocab)\n",
        "\n",
        "print(vocab)"
      ],
      "metadata": {
        "colab": {
          "base_uri": "https://localhost:8080/"
        },
        "id": "xWxGiDbLiDjC",
        "outputId": "c7c2edec-67a0-41ea-88e7-69120c1a9c75"
      },
      "execution_count": 9,
      "outputs": [
        {
          "output_type": "stream",
          "name": "stdout",
          "text": [
            "{'|ได้|เลย', '|แต่|เงิน|หาย|', '|รบกวน|ด้วย|ครับ', '|เอ่อ|', '|อืม|', '|17|', '|จน|วันนี้|เพิ่ง|มี|หมายศาล|ส่ง|มา|ที่บ้าน|ที่|', '|เพราะ|จริงๆ|', '|ซิ|ม|', '|ต้นทาง|กรุงไทย|', '|weverse|', '|ก็ได้|คะแนน|', '|คน|', '|18.30|', '|1.|ผม|ต้อง|แจ้ง|อะไร|กับ|ทาง|', '|ผ่าน|', '|ยกเว้น|', '|ipo|', '|มัน|ของ|', '|อ้อ|', '|ถ้า|แจ้ง|ช่องทาง|ไหน|ครับ|', '|krungthai_care|', '|bk|', '|2645|', '|ก่อน|นะ|ครับ', '|makeups|', '|เฮ้ย|', '|coins|', '|ที่|จ่าย|', '|บ้าบอ|', '|รบกวน|ด้วย|นะคะ', '|km|', '|ไป|ตอน|', '|uninstall|', '|truemoneywallet|', '|แบบนี้|เรา|ทำ|ยังไง|ได้|บ้าง|คะ|', '|western|', '|ตู้|แต่|ไม่มี|แบงก์|ย่อย|จ่าย|เลย|', '|scb_thailand', '|20930|', '|ของ|วัน|ที่', '|tbank|', '|bay', '|ต.ค.|', '|รับ|แต่|เงิน|ห|ยวน|ของ|จีน|', '|มี|สลิป|แต่|เงิน|ไม่|เข้า|ทำไง|บอก|ที|และ|จะ|ได้|เงิน|คืน|ไหม|ม', '|น.|', '|spoil|', '|เขา|เลย|ป|ริ้น|ให้|', '|ใช่ไหม|', 'ไฟแนนซ์|', '|ฝากประจำ|', '|งง|', '|สาขา|พระนคร|คีรี|', '|mind|', '|แบงก์|', '|ตัวเอง|ได้|', '|เอง|ค่ะ|', '|1.3|', '|ใน|สาขา|', '|ขอ|ประจาน|ตัวเอง|', '|ก็ได้|นะ|', '|เพียง|', '|วัน|ละ|', '|ก็|ไม่มี|คนรับ|', '|usd|', '|แต่|เงิน|ไม่|ออก|', '|ทุกวัน|', 'จริง|', '|อิ|เหี้ย|', '|เบี้ยประกัน|', '|วัน', '|กรุงไทย', '|เงิน|ไม่|เข้า|เลย|ครับ|', '|อยู่|ที่', '|ktc|', '|ใช้ไม่ได้|', '|เจ้าหน้าที่|บอก|ได้|สิ|ท|ธ|์|แล้ว|ค่ะ', '|ไปรษณีย์|', '|ไม่|เสีย|ค่าธรรมเนียม|', '|ส่วน|บัตรกดเงินสด|', '|499|', '|merchant|', '|ค|ทบ|', '|ยากมาก|', '|ทำไง|ดี', '|หายไป|', '|ระบบ|อัตโนมัติ|', '|ล้าน|บาท|', '|ณ|', '|45|', '|บัตรเครดิต|', '|มี|แอ|ฟ|', '|เพราะ|มี|', '|ไปยัง|', '|mobile|', '|banking|.|', '|kkp|', '|ต้อง|ทำ|ยังไง|บ้าง|คะ|', '24|', 'จ่าย|', '|แล้ว|กด|', '|บอก|เลย|', '|8700|', '|แล้ว', '|แล้ว|บัตร|เก่า|คือ|จ่าย|ออนไลน์|ได้|', '|ก็|ยัง|ไม่ติดต่อ|กลับมา|ตกลง|ไฟแนนซ์|ไทยพาณิชย์|', '|ยื่น|สมัคร|ที่|', '|ตัวเอง|', '|เข้า|kbank|', '|99|', '|ปกติ|', '|ไม่|ได้รับ|', '|press|', '|ไป|ต่าง|ธนาคาร|', 'ปิดบัญชี|', '|และ|', '|108|', '|private|', '|ของ|ทหาร|ไทย|', '|ใน|', '|ไม่|มีอาชีพ|', '|กับ|บัตร|', '|จะ|ออกบัตร|กด|ฟรี|ได้|อย่างไร|', '|บ.|ช|.|', '|เหี้ย|มาก|', '|scb_connect|', '|limited|', '|ใหม่ๆ|', '|nav|', '|ร|ร|', '|14000|', '|เข้า|ไม่ได้|', '|icbc|', '|เลือก|จ่าย|ด้วย|', '|หมายถึง|', 'สมัคร|', '|แต่|ไม่|เข้า|ปลายทาง|', '|เดือน|ละ|', '|หาย|', '|ไม่|เลย|', '|เงิน|ไม่|เข้า|', 'ซื้อ|', '|ติด|ต่อไป|ทาง|', '|หมดอายุ|', '|รอ|นานมาก', '|ส่ง|มา|', '|เอา|บัตร|ป|ป|ช|.|', '|เห|น่ย', '|กล|ต.|', '|sme|', '|วันนี้|', 'ผม|เดินบัญชี|กับ|', '2|9|', '|ฝากเงิน|', '|shoppee|', '|หรือ|อะไร|', '|ของ|กรุงเทพ|', '|คืนเงิน|', '|บอก|ว่า|', '|บ้าง|', '|citibank|', '|บอก|ให้|รอ|', '|เฉยๆ|', '|ธนาคาร|ไม่ได้|เป็นเจ้าของ|', '|เป็นของ|', '|อี|เหี้ย|', '|50|k|', '|ไม่สามารถ|ดำเนินการ|ใดๆ|', '|scbtmf|', '|เขา|บอก|', '|1.6|-|1.8|', '|พอกันที|', '|อยากทราบ|ว่า|เพื่อน|ๆ|', 'ขอบคุณ|มากๆ|', '|ร้าน|ป|ริ้น|ยัง|ไม่|เปิด|นี่|เลย|จะ|เปิดบัญชี|เพื่อ|จ่ายเงิน|', 'โทร|เข้า|', '|เงิน|โดน|หัก|', '|2140|', '|major|', '|สมัคร|', '|นะคะ|', '|จาก|บัญชี|', '|ibanking|', '|ดอกเบี้ย|ใน|เอกสาร|ใบแจ้งหนี้|', '|bangkok|', '|cancel|', '|ปี|แล้ว|ค่ะ|', '|option|', '|ขอบคุณ|นะ|ครับ|', '|vi|', '|โอ้|ย|', '|3000|', '|และ|บัตร|กดเงิน|', 'อีก|', '|พรุ่งนี้|', '|เงิน|', '|แก้ไข|อย่างไร|', 'ๆ|', '|ปี|แล้ว|', '|ถ้า|เป็น|', '|เฉลี่ย|', '|ซึ่ง|ไม่|ตรงกับ|ที่|โครงการ|ดีล|ไว้|เลย|ครับ|', '|kept|', '|สัญญา|ผูกพัน|ธ|์|กับ|ธนาคาร|', '|แล้ว|มา|สแกน|ใหม่|', '|tmb|', '|ปิด|เครื่อง|', '11|43|', '|ไม่|อยากให้|พัก|หนี้|ใช่ไหม|ถึง|ไม่ติดต่อ|กลับมา|ทำไม|ถึง|ติดต่อ|กลับ|ได้|ยากเย็น|เพียงนี้', '|กด|ฟรี|ทุก|ตู้|', '|ทุ่ม|กว่า|ๆ|', '|โค|วิท|', '|เลย|โทร|ไป|ถาม|', '|หรือ|เหลือ|แค่นั้น|', '|taxi|', '|ไป|ตั้งแต่|วัน|ที่', '|ต้อง|ทำ|ยังไง|คะ', '|อีดอก|', '|ธ|ค|', '|เป็น|จำนวน|', '|ตราสาร|หนี้|', '|ref|', 'ผ่อน|รถ|กับ|', '|0.001|', '|เดือน|นี้|', '|kbank|', '|3|bb|', '|เป็น|อะไร|อ่ะ|', '|10.32|', '|จะ|ให้|', '|เสียไป|', '25|320|', '|od|', '|nzd|', 'ทำไม|แอป|', '|งวด|ละ|', '|ทำ|ยังไง|ได้|บ้าง|คะ|', '|ว่า|ตอนนี้|', '|covid-|19|', '|to|', '|ด้วย|', '|ซ่อม|ศูนย์|', '|19.00|', '|พ|.ย|', '|จ่ายเงิน|', '|ไหม|คับ', '|คิดว่า|', '|ก็|ปิด|', '|ม.|ค.|', '|จะต้อง|รอ|ถึง|เมื่อไหร่|', '|life|', '|กว่า|', '|gsb|', '|ผิด|', '|ส่วน|พวก|', '|สอบถาม|โทร|', '|ทำไม|เข้า|ไม่ได้|อะ|', '|got|7|keepspinninginbkk|', '|แม่|', '|wifi|', '|กรกฎาคม|', '|150000|', '|ก็|ยัง|เหมือนเดิม|', 'สมัคร|บัตรเครดิต|', '|ไม่|ได้คืน', '|call|', '|กันยายน|', '|จน|วันนี้|วัน|ที่', '|โทร|ไป|ก็|ไม่ติด|', '|ขอบคุณ|มาก|ครับ|', '|บาท|ไทย|', '|for|', '|แต่|หมดเขต|วันนี้|แล้ว|', '|1000|', '|id|', '|แจ้ง|มา|ว่า|', 'ป|ล.|', '|ด้วย', '|ใน|วัน|ที่', '|โดยที่|เรา|ไม่ได้|เข้า|', '|krungthai_connext|', '|ง่ายๆ|', '|ไทยพาณิชย์', '|หรือ|บัตรเดบิต|', '|เสร็จ|', '|แจ้ง|สำเร็จ|', 'โทร|ไป|', '|ไป|ยืนยัน|ตัวตน|ที่|ตู้', '|โอนเงิน|', '|แจ้ง|คอลเซนเตอร์|', '|อีก|ประมาณ|', '|ทั้ง|', '|1|-|3|', '|transaction|', '|ไม่มี|สลิป|', '|ขอ|ข้อมูล|', '|วินาที|', 'kplus|', '|บัตรเดบิต|', '|ต้องการ|ปิดบัญชี|ไป|เลย|', '|เหมือนกัน|', '|2|-|3|', '|ป|ช|ช|', '|30|', '|กว่า|ปีก่อน|', '|มี|', '|รบกวน|สอบถาม|ค่ะ|', '|paotang|', '|jaymart|', '|ขอบคุณ|นะคะ|', '|งง|อ่ะ|', '|นาที', '|กัน|แน่|', '|scb-m|', '|1900|', 'กดเงิน|', '|ต้อง|ทำไง|ค่ะ|', '|ติด|', '|wave|', '|2|g|', '|โลตัส|', '|ยากเย็น|', '|ที่|เป็น|ธนาคาร|', '|ไม่|เกิน|', '|นี่|คือ|', '|scbset|50|e|', '|กดเงิน|ไม่ได้|', '|ส่วน|ที่|ไม่ต้อง|เป็น|ผู้โดยสาร|ก็|เข้าไป|ใช้บริการ|ได้|', 'วันนี้|ไป|ธนาคาร|ถาม|พนักงานธนาคาร|ถึง|การ|นำส่ง|ข้อมูล|บัญชีเงินฝาก|ไปยัง|กรมสรรพากร|ที่|มีเงื่อนไข|ว่า|รับ|โอน|', '|บ้าง|ไหม|คะ|', '|krungsri_jcb|', '|ธนาคาร|หนู|เงิน|ประมาณ|', '|appscb|', '|ของ|tmb|', 'โหลด|แอป|', '|bbl|ค่ะ|', '|tmb_so_smart|', '|หรือ|ต้อง|เสีย|เงิน|ไป|เปล่าๆ|', '|username|', '|ดอกเบี้ย|ยิ่ง|เยอะ|ค่ะ', '|แปล|ว่า|', '|ไป|เลย|', 'kbank|ค่ะ|', '|เอง|ครับ|', 'gsb|', '|มี|การ|เรียกเก็บ|ค่าธรรมเนียมรายปี|', '|ยอด|จาก|อนาคต|ตอน|', '|อี|เหี้ย', '|จ่าย|ไป|', '|ปี|ค่ะ|', 'ว่าแต่|', '|ละ|เพิ่ม|', '|เสีย|ค่าธรรมเนียม|', '|x|', '|รึ|', '|กี่|เดือน|', '|โทร|ทุกวัน|', '|เพราะ|เรา|', '|bankkokbank|', 'ธนาคาร|', '|coin|', '|25|', '|ญี่ปุ่น|', '|scb_easy|', '|แต่|', '|ผม|ใช้|มา|', '|บาท', '|หัก|', '|ค่าธรรมเนียมรายปี|', '|20.57|', '|ลดเหลือ|', '|เฮงซวย', '|ไม่มี|สลิปเงินเดือน|', '|เพราะ|เงิน|ออกจาก|ธนาคารกรุงไทย|แล้ว|ครับ|', '|ขายของ|เช็ค|ยากมาก|ค่ะ|', '3.|', '|เหรอ|', '|กุมภาพันธ์|', '|มี|ค|', 'สอบถาม|เรื่อง|บัตรเครดิต|', 'เบอร์|', '|นะ', '|วีโว่|', 'k|8888|', '|โดยเฉพาะ|', '|แง|ง|', '|ต้อง|ติดต่อ|', '|หมื่น|', '|lounge|', '|แล้ว|โหลด|แอป|', '|อยาก|ถาม|ว่า|', 'android|', '|ฝ่าย|สินเชื่อ|', '|ราคา|', 'ไป|ขอ|สินเชื่อ|', '|mail|', '|ล้าง|ข้อมูล|ใน|มือถือ|', '|ไม่ได้|', '|แต่|บัตร|ใหม่|ที่|เป็น|', 'ktc|', '|ทุกเดือน', '|120|', '|ตลอด|', '|กอง|เดิม|', '|บ้าน|ราคา|', '|net|', '|แต่|เงิน|ไม่|เข้า|ปลายทาง|', '|ถ้า|ส่ง|บัตร|มาแล้ว|ยัง|ใช้ไม่ได้|ใช่ไหม|ครับ|ถ้า|เชื่อม|กับ|แอป|', '|ใช่ไหม|คะ|', 'ที่|', '|ไป|แล้ว|', 'เอ|', '|เท่า|ค่ะ', 'มี|', '|เสียเวลา|', '|keptbykrungsri|', '|เพิ่มเติม|', '|บัตรกดเงินสด|', '|ต้อง|ให้|หน้า|สมุดบัญชี|ตรงกับ|ผู้ที่|ลงทะเบียน|', 'ข้อเสีย|ของ|', '|2.|', '|พวก|', '|เจ|', '|ช่วง|', '|คือ|', '|ktb|กรุงไทย|', '|ptt|', '|มี|ข้อความ|จาก|', '|baac|', '|ธนาคาร|แล้ว|', '|asia|', '|ยัง|เป็น|นิสิต|อยู่|', '|พูด|แล้ว|ทั้ง|เศร้า|ทั้ง|โมโห|', '|จ่าย|ค่า|บัตร|', 'ปิดบัญชี|ฝากประจำ|ก่อนกำหนด|ได้|ไหม|', '|robinhood|', '|ktc', '|ทำไม|เงิน|ไม่|เข้า|', '|ผ่านไป|', '|fundclick|', '|ต้อง|ทำไง|ค่ะ', '|ad|', '|19|', '|bualuang_m_banking|', '|จุด|', '|วันก่อน|', '|next|', '|ผม|อยาก|ถาม|ผู้รู้|ครับ|ว่า|', 'แล้ว|แต่ละ|ธนาคาร|ใช้|เอกสาร|อะไรบ้าง|ครับ|', '|youtube|', '|แก้|ด่วน|', '|ยัง|ไม่ได้|เลย|', '-|', 'ทุกคน|', '|adobe|', '|log|', '|เห็น|บาง|ธนาคาร|ไม่ต้อง|ใช้|แสตมป์|ภาษีอากร|', '|เสีย|', '|สำนักงานใหญ่|', '|ชำระ|', '|45|-|60|', '|แต่|ไม่|สามารถทำได้|', '|gwallet|', '|เวง|', '|ธนาคารกรุงไทย|ได้|', '|รอ|ถึง|', 'จำได้|ว่า|', 'อยู่|ๆ|', '|จะ|กู้เงิน|ใน|ไลน์|', '|แห|นะ', '|34|', '|พัก|ชำระหนี้|', '|กรุงเทพ|', '|ปี|ขึ้นไป|', '|บาท|ผ่าน|พร้อมเพย์|', 'รีวิว|', '|invest|', '|โอนเงิน|ผ่าน|', '|balance|', '|แต่|ยอดเงิน|ไม่|เข้า|', '|it|', 'เจอ|เหมือนกัน|', '|สอบถาม|ทาง|', '|แอป|ธนาคาร|', '|ai|', '|amount|', '|หักเงิน|อัตโนมัติ|', '|refund|', '|exclusive|', '|ทั้งๆ|', 'บัตร|หัว|', '|ไป|ธนาคาร|อื่น|', 'เติมเงิน|', '|มี|บัตร|', '|วัน|ถัดไป|', '|ตัว|', '|180|', 'อ่ะ|', '|บาท|', '|ใคร|ที่ใช้|อยู่|รบกวน|แนะนำ|หน่อย|ครับ', '|mymo', '|ตอนนี้|วัน|ที่', '7|', 'แม่|ง|', '|รอบ|แล้ว|', 'ltf|', '|ตอนนี้|คือ|', '|ที่', '|ใช่|ค่ะ|', '|ทุ่ม|กว่า|', '|กู|', '|ขีด|', 'ผม|มี|', '|สอบถาม|ค่ะ|', '|ยืน|', '|ใช่|ๆ|', '|ไป|ติดต่อ|ธนาคาร|', '|5|g|', 'แอป|bbl|', '|เบอร์|โทร|', 'ตาม|หัวข้อ|เลย|', '|ต้อง|ไป|ทำ|ที่ธนาคาร|', '|สะดวก|', '|ทำไง|ดี|', '|blackpink|', '|ล่ม|อี|ควาย|', '|ทุก|ธนาคาร|', '|scb_m_live|', '|อาทิตย์|ละ|', '|นี่|จะ|', 'ตาม|หัวข้อ|เลย|ค่ะ|', '|ของ|รัฐ|', '|ก็|ให้|ติดต่อ|', '|ไม่มี|เลย|', '|เงิน|ยัง|ไม่|เข้า|', '|scb_prime|', '|อะไร|เนี่ย', '|40|k|', '|เมื่อ|', '|ตกลง|', '|พ|รบ|', '|ipad|', '|ถอนเงิน|วันนี้|นะคะ|', '|ktb_precious_plus|', '|ทำไง|ดี|ครับ|', '|ทอง|', '|ไม่ได้|แล้ว|', '|ยืนยัน|', '|57|', '|easy_invest|', '|retention|', '|ไทย|พา|นิส|', '|เวลา|กลับ|ไปที่|กรม|ทหาร|บ้าน|เก่า|ใน|กรม|มัน|จะ|มี|แต่|ตู้', 'กัน|', '|รบกวน|ช่วย|หน่อย|นะคะ', '|pay|', '|หมุนเวียน|และ|', 'อยากทราบ|ว่า|', '|bitkub|', '|ช|.ม|', '|ปัจจุบัน|', '|ชื่อ|เหมือนกัน|', '|3', '|-|31|', '|ใช้|ของ|', '|55|', '|25000|', '|ก่อน|', '|easynet|', '|ไม่มีปัญหา|เลย|', '|บริการ|ดี|', '|หรือ|มากกว่า|', '|ทะเบียน|พาณิชย์|', '|66|', '|ที่อยู่|', '|เงิน|ไม่|เข้า|ค่ะ|', '|มา|บอก|ว่า|', '|-', '|online|', '|k-my|', '|2400|', 'ลอง|ไป|ใช้บริการ|กับ|พนักงาน|เค้า|', 'ฝาก|ธนาคาร|ก็ได้|ดอกเบี้ย|น้อยนิด|', '|ใบ|ที่', '|ยอด|เงินออก|แล้ว|', '|ธนาคาร|ล่ม', '|ฮือ|', '|มาร|', '|touch|', 'คำถาม|ที่', '|product|', '|mebytmb|', '|ธนชาต|', '|สตางค์|', '|ระบบ|', '|สมุทรปราการ|', '|เริ่ม|', '|จ่ายเงิน|ไม่ได้|', '|สาย|ไม่ว่าง|ตลอด|เลย|', '|สัก|', '|ขึ้น|วงเงิน|มา|', '|จ่าย|ผ่าน|', 'grab|', '|02|-|28515|', '|วอ|ล|เลต|', '|ส่ง|เอกสาร|', '|ไม่ได้|ใช้|', '|pbv|', '|จาก|ทาง|', '|bbl', '|ต|ป|ท|', '|โปรด|ยืนยัน|ตัวตน|', '|พูดจา|แย่มาก|', 'เมื่อ|เวลา|', '|ไป|kbank|', 'เติมเงิน|จาก|', '|อายุงาน|', '|เบื่อ|', '|รหัสผ่าน|', '|ok|', '|ลอง|', '|ระบบ|แจ้ง|ว่า|', 'ยืนยัน|ตัวตน|ที่|ตู้', '|netflix|', '|grow|', '|เข้ามา|ที่|ไทย|', '|0.25|', '|ก็ได้|ครับ|', 'แอป|เป๋า|ตัง|', '|ธนาคาร|หยุด|ไหม|คะ|', '|มี|สลิปเงินเดือน|', '|นอกนั้น|', '|กับ|รหัส|', '|300000|', '|save|', '|ชาว|พันทิป|', '|เหมือน|', '|signature|', '|lazada|', '|อยู่|ไหม|คะ|', '|opened|', '|จาก|เดิม|', '|140|', '|อีกที|', '|จ่าย|ดอก|ทุกเดือน|', '|pttor|', '|ตัด|', '|ล่ม|หรอ|คะ|', '|ไม่สามารถ|ทำ|รายการ|ได้|ในขณะนี้|', '|comment|', 'ใช้|บัตร|', '30|', '|app', '|แบบ|แรก|', 'สอบถาม|นะคะ|', '|รอบ|ที่', '|โอนเงิน|เข้าบัญชี|', '|หน่วย|ละ|', '|your|', '|ติดต่อ|ผ่าน|', 'เมื่อ|เช้า|', '|บาท|ครับ|', '|device|', '|อิ|ห่า|', '|ตอนนี้|เงินเดือน|', 'มีเงิน|เข้ามา|', '|ibank|', 'ปกติ|', 'weply|', '|นาที|แล้ว|', '|cheque|', '|กด|สมัคร|', '|17.30|', '|ต้อง|ใช้|บัตร|', '|ร้อยละ|', '|first|', '|จาก|ตู้', '|3500|', '|ล้าน', '|ไอ|', '|ประเมิน|', '|ค|', '|90|', '|เป๊ก|ผลิต|โชค|', '|ประกันภัย|', '|ของ|ธนาคารเพื่อการเกษตรและสหกรณ์การเกษตร|', '|ฉบับ|', '|.', '|อีห่า|', '|jlpt|', '|ได้|หรือไม่|คะ|', '|และ|จน|ป่านนี้|', '|card|', '|หรือ|', '|บน|มือถือ|', '|จ่าย|ด้วย|', '|แอป|เป๋า|ตัง|', 'ขอ|สอบถาม|คะ|', '|เปิดบัญชี|ใหม่|', '|จน|ป่านนี้|', '|คุย|กับ|', '|16.08|', '|scb_mobile|', '|ตี|', '|18.00|', '|contact|', 'ขออนุญาต|สอบถาม|ครับ|', '|ครั้ง|แล้ว|', '|มี|หนี้|บัตร|', '|amex|', '|anan|', '|family|', '|ทุ่ม|ครึ่ง|', '|ออนไลน์|', '|dispute|', 'มีปัญหา|ใน|การ|เปิดบัญชี|', '|ชอบมาก|', '|400|', '|ค่าบริการ|', '|สรุป|', '|22000|', '|ก็|เลย|รีบ|กด|รับ|สิทธิ์|เลย|', '|84|', '|สินเชื่อหมุนเวียน|', '|ไทยพาณิชย์|', '|ถอน|', '|อี|ควาย|', '|รบกวน|ทาง|', 'รบกวน|สอบถาม|ค่ะ|', '|อี|ค|วัย|', 'โอน|จาก|กรุงไทย|', '|banking|', '|อัปเดต|', '|220|', '|ขอบคุณ|ล่วงหน้า|ค่ะ|', '|23.00|', '|ขอบคุณ|ล่วงหน้า|ครับ', '|scb_m|', 'bay|', 'ตอน|', '|ไฟ|', '|วงเงิน|', '4|', '|mi|', '|ปล่อย|', '|ธนาคาร|บอก|ว่า|', '|สินเชื่อ|เพิ่ม|ได้|', '|ระวัง|หน่อย|', '|ไม่ติด|', '|โมง|เช้า|', '|ธนชาต|ได้|ไหม|ครับ|', '|เดือน|ค่ะ|', '|ล่ม|อีกแล้ว|', '|pending|', '|สีเขียว|', '|11.00|', '|สีม่วง|', '|จาก|ธนาคาร|', '|เลว|', '|มูลค่า|', '|dca|', '|ไม่ได้|ค่า|', '|และ|ไทยพาณิชย์|', 'โทร|หา|คอลเซนเตอร์|', '|report|', '|กู้|ได้|', '|จริงๆ|', '|ลบ|แอป|', '|มี|เพื่อน|ๆ|', '|lh|', '|ชั่วโมง|แล้ว|', '|so|', 'โอนเงิน|จาก|kbank|', '|ก็|ขึ้น|ว่า|', '|be|', '|ธนาคาร|ghb', 'ยื่น|', '|ในนาม|บริษัท|', 'tmb_touch|', '|770|', 'ผม|อยาก|สมัคร|', '|atmdebit|', '|time|', '|เพื่อ|ยืนยัน|ตัวตน|', '|ส่ง|มา|ว่า|', '|คลิก|เพื่อ|ดู|ข้อความ|ที่ซ่อน|ไว้', '|โอน|เข้าบัญชี|', '|เจอ|', '|มุ|แง|', '|ทำ|บัตร|', '|make|', '|ทุ่ม|', '|เป็นบ้า|หรอ|', '|ขอ|', 'ไป|เปิดบัญชี|', '|มีเงิน|', '|ctw|', 'kitisak|', '|ๆ', '|แย่มาก', '|ทำให้|', '|ก.พ.|', '|1', '|เถอะ|', '|รอ|นานมาก|', '|edc|', '|เข้า|', 'แง|', '|มัน|มีระบบ|คล้ายๆ|', '|520|', '|ห่วยแตก', '|smart|', '|wfh', '|ต้อง|มี|', '|ทำ|บัตรเสริม|ของ|มาย|', 'โทร|ถาม|', '|หน่อย|ค่ะ|', '|exchange|', 'scb_connect|', '|เดือน|ครับ|', '|ทำ|มา|', '|อยาก|รู้ว่า|ค่าธรรมเนียม|ตรง|', '|agoda|', '|sietongkum|', '|62|', '|.|co|.|th|', '|ลง|', '|นานๆ|', '|ยัง|มี|', '|เป๋า|ตัง|', 'สรุป|', '|ให้|ลูกค้า|', '|rungruang|', '|thai|', '6|', '|ซึ่ง|', '|ก็|ไม่มี|', '|รบกวน|แนะนำ|ด้วย|นะคะ|', '|youtrip|', '|มีโอกาส|', 'ธนาคารอาคารสงเคราะห์|', '|อย่าง|เรา|มี|kbank|', '|ผ่าน|ไหม|ค่ะ|หรือ|ใคร|เคย|กู้|บ้าง|เล่า|ประสบการณ์|', '|700|', '|ถ้า|ติด|แบล็คลิสต์|', '|covid|', '|ใช้เวลา|ประมาณ|', '|ได้|ด้วย|', '|เมื่อไร|', 'สินเชื่อ|', '|internetbanking|', '|ถ้า|มี|บัญชี|', '|เบอร์|เดิม|', '|หน้า|', '|เหมือนกัน|ค่ะ|', '|ครับผม|', 'พรุ่งนี้|', '|แล้ว|ว่ะ|', '|starbuck|', '|เมื่อ|เทียบกับ|', 'ขอบคุณ|ครับ|', '|ให้|หมด|', '|เซ็ง', '|แอร์|เอเชีย|', '|มี|ค.|', '|ไปยัง|bbl|แต่|เงิน|ไม่|เข้า|', '|ทำให้|ปลายทาง|ไม่ได้|รับเงิน|', '|มา|ให้|', '|ออก|', '|เนี่ย|', '|ติดต่อ|', '|gsb', '|สะสมแต้ม|', '|ค|ห|.|', '|เรา|โอนเงิน|จาก|', '|uob_privimile|', 'scbs|', '|พนักงาน|บอก|', '|2600|', 'สมัคร|สินเชื่อ|', 'จาก|', '|900|', '|line', '|แสน|', '|แต่|ไม่สามารถ|', '|work|', '|โทร|กลับ|ไทย|ก็|ไม่ได้|', '|ที่|จาก|', '|สงสัย|', '|เจ้าของ|กระทู้|', 'citibank|', '|ปลายทาง|ไม่ได้|รับเงิน|', '|ช่วย|ตอบ|หน่อย|ครับ', '|วิ่ง|ก่อน|', '|code|', 'bbl|', '|ก|ยศ|', 'วันนี้|', 'สวัสดี|ครับ|', '|บาท|ทุกเดือน|', '|เมื่อ|เวลา|', '|ปล่อยกู้|', '|ไม่มี|แอป|', 'พอดี|', 'ขอ|สอบถาม|นะคะ|', '|สด|', '|กรุงไทย|เลย|', '|งง|ค่ะ|', '|มา|ที่|เบอร์|', '|หลาย|รอบ|แล้ว|', '|เท|วินทร์|', 'เย่|', 'ร้อนๆ|', '|ไม่ก็|', '|ปี|ที่ผ่านมา|', '|ดีจัง|', '|4', '|เรียน|', '|city|', 'โอนเงิน|พร้อมเพย์|จาก|', '|ดังนี้|', '|100000|', '1|', '|note|', '|800|', '|ปะ|', '|ราคา|หุ้น|', '|จ้ะ|', 'อี|สัส|', '|หงุดหงิด|', '|emoji|', '|ว้อท|', '|kma|', 'คือ|', '|เงินเดือน|', '|e-savings|', '|แหะๆ|', '|ขายหมู|', '|simplicity|', '|ที่|ลง|', '|ผ่อน|ตก|ล้าน|ละ|', '|ถ', '|e|', '|1333|', '|เข้า|ไม่ได้|เลย|', 'โอนเงิน|ไป|แล้ว|', 'ดอกเบี้ย|', '|umay|', '|npl|', '|น้อง|', '|bualuang|', '|หลัง|วัน|ที่', '|น่าจะ|', '|แง|', '|black|', 'ยกเลิก|', 'น้อยๆ|', '|ก็|ถอย|', 'สวัสดี|ค่ะ|', '|personal|', '|รวม|', '|ฝาก|', '|version|', '|ได้|เลย|ค่ะ|', '|ล่ม|หมด|', '|ขอบคุณ|', '|ตั้ง|นาน|', '|ถาม|ทาง|', 'บัญชี|', '|คือ|อะไร|', '|opd|', '|tech|', '|แอป|', '|สำเร็จ|', '|ส่ง|', '|kbankxblackpink|', '|ซวย|ๆ|', '|1.2|', '|ไม่มี|สมุดบัญชี|', '|mask|', '|หมื่น|บาท|', '|100|k|', '|เท่านั้น', 'บัตรเครดิต|bbl|', '|18.04|', '27|1163|', '|ได้|ไหม', '|นี่|', '|เหอะ|ๆ|', '|fwd|', '|ได้|วัน|ที่', '|เข้า|scb|', '|เลย|โทร|ไป|', '|รูป|สอง|', '|ฟ|รีๆ|', '|8000|', '|กด|ตัง|จาก|ตู้|ทหาร|ไทย|ได้|ถูกต้อง|ไหม|', '|เมษา|', '|กองทุน|', '|ออมทรัพย์|', '|6|', '|mint|', '|pos|', '|ตอนนี้|ใช้|', '|scb|.|', '|ชำระเงิน|', '|ผ่อน|เดือน|ละ|', '|data|', '|ใบ|ของ|kbank|ครับ|', '|นอกจาก|', '|แรก|', '|ต้อง|รอ|ตรวจสอบ|', '|เป็น|เบอร์|', '|รวย|', '|ซิ|ตี้|', 'โอน|ไป|', '|us|', '|toyota|', '|หุ้น|', '|กรณี|', '|ขออภัย|ครับ|', '|ทราบ|เพราะ|พี่|ข้าง|บ้าน|ทัก|มา|บอก|ใน|ไลน์|', '|5400|', '|หมด|', 'krungsri|', '|แล้วก็|', '|ทำไง|ดี|คะ|', '|ส่วน|', '|กลัว|โดน|หลอก|', '|top|', '|ทุกๆ|', 'คือว่า|ผม|สั่งซื้อ|', '|ก็ได้', '|beyond|', '|center|', '|routing|', '|ปีนี้|', '|ไป|ยืนยัน|ที่|ตู้', '|โทร|ตั้งแต่|', '|72|', '|2700|', '|500|-|600|', '26|', '|ตัว|ไหน|', '|ผ่อน|รถ|', '|แสน|ต่อ|เดือน|', '|เติม|ไป|', '|ขาย|', '|65', 'ผม|สมัคร|บัตร|', '|ครั้งละ|', '|เพราะว่า|', '|trade|', '|ถ้า|อยู่|ใกล้ๆ|', '|นานมาก|แล้ว|', '|อยาก|ทุบ|นัก|ไอ้|ต้าว|กระปุก|หมู|นี่|', '|ค่ารถ|', '|หรือ|ตาม|แต่ละ|พื้นที่|', '|tmb|.|', '|ปี|', '|ธนาคาร|ก็|หายเงียบ|ไป|', 'เมื่อ|', '|ค่ะ|', '|เป็น|ตั้ง|แตา|ก่อน|มี|กระแส|', '|scblt|2|', '|confirm|', '|ค่าธรรมเนียม|', '|dolfin|', '|arkk|', '|อี|', '|อีก|อย่าง|', '|เงิน|จะ|เข้า|พรุ่งนี้|', '|nikecom|', '|application|', '|เป็น|ส่วนลด|', '|ทั้งๆ', '|เงิน|ยัง|ไม่|เข้า|เลย|ค่ะ|', '|งง|มาก', '|เมื่อวาน|อยู่|ที่', '|น้อยกว่า|', '|express|', '|ทุกคน|', '|แฟน|ทำ|เมื่อวาน|ผ่าน|แล้ว|คะ', '|แบบนี้|', '|mrt|', '|ดีมาก|เหมือนกัน|', '|ตัด|บัตร|', '|ต้อง|โทร|ไปหา|', '|ก็|ไม่|เข้า|', '|ช่วงนี้|', '|fund|', '|ก่อน|ค่ะ|', '|แสน', '|เปิด|ๆ|', '|ขอบคุณ', '|เปน|', '|website|', '|แล้ว|ครับ|', '|เรา|ใช้|', '|ฟรี|', '|หรือเปล่า|', '|ครั้ง|และ|ยอดเงิน|', '|cashback|', '|inbox|', '|เหมือนเดิม|', '|เดือน|แล้ว|', '|และ|บัตร|', '|ชาติหน้า|คะ|', '|เงิน|ตั้ง|', '|thanachart|', '|เลขที่บัญชี|', '|สุดท้าย|', '|ชื่อ|ญาติ|', '|scb_first|', '|เสียดาย|', '|ได้|ไหม|ค่ะ|', '|ไม่ต้อง|ชำระ|', '|ของ|ธนาคาร|อื่นๆ|', '|รบกวน|สอบถาม|', '|บาท|ต่อ|ปี|', '|โทร|ถาม|', '|เรา|ก็|โทร|เข้าไป|อีก|', '|passbook|', '|6.6|', 'app|', '|ทาง|ออนไลน์|', '|แล้วจะ|เอา|เงิน|ไป|ทำ|อะไร|ดี|นะ|', '|ด้วย|ค่ะ|', '|bangkokbank|', '|ได้|ภายใน|', '|ตัว|ท้าย|', '|อีกแล้ว|', '|point|', '|ได้|ครับ', '|สอบถาม|หน่อย|นะคะ|', '|40000|', '|เรา|ได้|ทำการ|โอนเงิน|จาก|gsb|ผ่าน|', '|แล้า|', '|โอน|จาก|', '|เอา|ดิ|', '|up|2|me|', '|เหมือนกัน|เลย|ค่ะ|', '|พฤศจิกายน|', '|พบว่า|', '|ใช่ไหม|ครับ|', '|5|-|10|', '|edition|', '|เรย|', '|ฝาก|เบอร์|โทร|กลับ|', '|ห่วย|ๆ|', '|แต่|ใช้ไม่ได้|คะ|', '|ktb', '|ใคร|รู้|บ้าง|', '|อยู่|ค่ะ|', '|1.30|', '|เกิด|จาก|อะไร|คะ|', 'กรุงไทย|', '|โทร|ไปหา|', '|ก็|ล่ม|', '|remind|', '|บาง|ธนาคาร|ต้อง|ใช้|', '|สแกน|จ่าย|', '|ไป|อีก|', 'คือ|หนู|อายุ|', '|ว่า|จะ|ไม่|สมัคร|อีกต่อไป|ละ|', '|sa|', '|หรือ|ไป|', '|รบกวน|ตรวจสอบ|ให้|ด้วย|ครับ|ฝ', '|เข้า|เมื่อกี้|เลย|', '|ละ', '|แบน|', 'suphakit|', '|โท|ร.|', '|uchoose|', '|ตั้งแต่|เมื่อวาน|ตอน|', '|ธนาคาร|ก็|ปิด|ทำการ|แล้ว|', '|เงิน|ไม่|ออก|', '|มัน|ขึ้น|ว่า|', '|all|', '|ไป|พร้อมเพย์|ผูก|กับ|', '|และ|ใช้|วงเงิน|ค้ำประกัน|ต่ำสุด|กี่|บาท|ได้|บัตร|ประเภท|ไหน|บ้าง|ครับ', '|ล|ฯ|', '|ไม่ได้|นับจำนวน|ครั้ง|ตาม|ลูกค้า|แต่ละคน|โอน|', '|โดยที่|ไม่ต้อง|ไป|ธนาคาร|', '|เปิดบัญชี|กรุงไทย|', '|-|19|', '|คุย|', '|proud|', '|320|', '7|-|11|', '|บ้าน|แล้ว|ไม่รู้|จะ|เอา|เงิน|ไป|ทำ|อะไร|ก็|ไปหา|ฝาก|ที่นี่|ก่อน', '|ๆๆ|', '|รบกวน|หน่อย|ครับ', '|เริ่มต้น|', 'คล้ายๆ|', '|unionpay|', 'เรื่อง|มีอยู่|ว่า|', '|ติดต่อ|ธนาคาร|เจ้าของ|บัตร|', '|scb_easy', '|nagoya|', 'ได้|', '|เลย|ครับ|', '|เหมือน|มีปัญหา|กด|โอนเงิน|ไป|แล้ว|เงิน|เด้ง|', '|โดย|ใช้|', '|เงินเข้า|ปกติ|', '|เลย|นะคะ|', '|เจ้าหน้าที่|', '|จะ|ได้|ไหม|คะ|', '|เงินเดือน|ไม่|ถึง|', '|จะ|เอา|บัตร|กด|ยัง|ไม่ได้|อีก', '|ช|', '|โอน|ไป|', '|sch|', '|ใหม่|', '|ontop|', '|แล้ว|เข้า|แอป|ไม่ได้|เพราะ|กด|รหัส|ผิด|เกินกำหนด|', '|ให้|รอ|', '|กรุงไทย|ด้วย|', '|xpress|', '|ขอให้|', '|ผิด|เบอร์|', '|เพื่อ|สะสมแต้ม|', 'เข้า|แอป|', '|backup|', '|แต่|หักเงิน|จาก|บัญชี|', '|ผม|ใช้|', '|ghb|', '|บาท|ขึ้นไป|', '|แจ้ง|ว่า|ระบบ|การ|รับเงิน|ทาง|', '|bbl|', '|จะ|โดน|หัก|ดอกเบี้ย|รายวัน|ไหม|ครับ|', '|ม|ก|รา|', '|ให้|ความ|รู้สึกแย่|จัง', '|แล้ว|พอ|', '|พนักงาน|บอก|ว่า|', '|เลข|บัตรประชาชน|', '|ใส่|จำนวนเงิน|', '|no|', '|grabpay|', '|aot|', '|ก็|มี|', '|พอ|วัน|ที่', 'ประกัน|', '|เอา|ง่ายๆ|', '|64|', '|13|', '|เอง|', '|พ่อ|', '|แย่มาก|', 'scbplanet|', 'งง|', '|ได้|แล้ว|', '|มีปัญหา|หรือไม่|คะ|', '|1.8|', '|แต่|ประเด็น|คือ|', '|1599|', '|ไปที่|สาขา|', '|krungthai_axa|', '|สาขา|', '|แค่|ยื่น|บัตร|ให้|', '|17.00|', '|มิถุนายน|', 'หวัง|ว่า|', '|บัญชี|ปลายทาง|', '|กรุงไทย|ล่ม|', '|จะ|เป็น|', '|699|', '|ห่วย|', '|มา|kbank|', '|ใน|ใบแจ้งหนี้|จ่าย|', '|เดบิต|', '|ลองดู|นะคะ', '|20|k|', '|ไม่|เกี่ยวข้องกับ|ข้อมูล|เครดตบู|โร|', '|ไว้ใจ|เอา|เงิน|ไป|ฝาก|', '|แต่|ไม่มี|บัตร|', '|หัว|เว่ย|', 'น่าจะเป็น|', '|คำถาม|คือ|', '|แต่|ไหม|เข้าบัญชี|', '|กับ|พร้อมเพย์|', '|ไป|คะ|', '|cimb|', '|promptpay|', '|protection|', 'ของ|', 'ตอนนี้|', '|gmarket', '|ออก|บัตรเดบิต|ไม่ได้|', '|กว่า|ปี|', '|ปรากฏ|ว่า|', '|หมดแล้ว|', 'visa|', '|10|', 'กด|บัตร|', '|ขอบคุณ|ล่วงหน้า|ค่า', '|0', '|จะ|สมัคร|', '|ใบ|', '|ประเด็น|คือ|', 'รอ|', '|msig|', 'หลักๆ|', '|master|', '|ไร|งี้|', '|มึง|ติด|', '|แล้ว|ครับ', '|ของ|ทั้ง', '|3.00|', '|copy|', 'tmrw|', '|global|', '|ace|', 'บริการ|รับฝาก|', '|prestige|', '|starbucks|', '|kbank_live', '|แอ|ด|มิ|น|คะ|', '|wechat|', '|อยากทราบ|ว่า|', '|กองทุนรวม|', '|เงินฝาก|', '|ปี|ที่', '|เติม|เงินเข้า|', '|แต่|อยู่ดีๆ|', '|บอก|ว่า|รีบ|เร็ว|เด่|ว|เต็ม|นะ|', '|traveloka|', '|ต้นทาง|', '|btc|', '|ล้าน|', '|เอกสาร|ครบ|', '|ขอบคุณ|ล่วงหน้า|ค่ะ', 'อยาก|ยกเลิก|บัตร|', 'สอบถาม|', '|เงิน|ยัง|ไม่|เข้าบัญชี|', '|ยืนยัน|ตัวตน|', '|3|-|4|', '|ล่ม|', '|ios|', 'เหมือน|', '|อยู่|ครับ|', '19|', 'โอ๊ย|', '18|', '|ม.|ค|', '|1800|', '|ผ่อน|', '|วัน|ค่ะ|', '|เครื่อง|เก่า|', 'paotang|', '|จ้า|', '|ตั้งแต่|', '|โอน|เมื่อ|วัน|ที่', '|เปลี่ยน|มา|', '|ถ้า|จ่าย|ด้วย|บัตร|', '|นะ|จ๊ะ', 'อิ|', '|วัน|ทำการ', '|หนึ่ง|', '|แต่|ยอดเงิน|ไม่|เข้า|ปลายทาง|', '|เน็ต|ก็|ไม่ได้|', '|16.00|', 'โอน|', '|ไหม|ค่ะ|', 'tmb|', '|paul|', '|อ่าน|เงื่อนไข|อี|กรอบ|', '|โดย|', '|16.30|', '|5000', '|process|', '|หมายเลข|', 'ณ|', '|db|', '|ประทับใจ', '|เวลา|ไหน|', '|uk|', '|ไว้|ใน|', '|13.00|', '|คืน|', '|facebook|', '|600|', '|กุ|ปวดหัว', '|คับ|', '|5|', '|-_-', '|ขึ้น|ว่า|ไม่|พบ|ข้อมูล|การ|สมัคร|', '|name|', '|พนักงานธนาคาร|แนะนำ|ให้|ใช้|', '|อยาก|สอบถาม|เพื่อน|ๆ|', '|ไม่มี|บัตรเอทีเอ็ม|', '|5.|', '|ผู้จัดการ|', 'เจริญ|', '|ไป|เปิดบัญชี|', 'เอ|อ|', '|น่าสนใจ|มาก|ครับ|', '|ktef|', '|tmb', '|ไม่|ค่ะ|', '|จนถึง|', '|61|', '|ดีๆ|', 'คุณ|', '|care|', '|เลย|', '|กบข.|', '|and|', '|apple|', '|wise|', '|ติดต่อ|ธนาคาร|', '|เอ|อ|', '|ถือ|บัตร|', '|jasif|', '|ไป|ไทยพาณิชย์|', '|โดน|ไป|', '|ตอนนั้น|', '|ฮัลโหล|', 'เพื่อน|ๆ|', '|กรอก|ข้อมูล|แล้ว|', '|อยาก|', '|เบอร์|แปลก|', '|อยู่|ๆ|', '|6000|', 'baac|', '|โมง|', '|truewallet|', '|พร้อมเพย์|', '|สั่ง|อาหาร|', '|ไว้|ก่อน|', '|แจ้ง|บัญชี|ของ|คุณ|ผิดปกติ|', 'โอนเงิน|จาก|', 'มี|บัตรเครดิต|', '|ไม่|เข้า|', 'เป็น|ธนาคาร|', '|เงิน|ยัง|ไม่|เข้า|เลย|', '|ผล|คือ|', '|ตอนนี้|เลย|', '|350|', '|รองรับ|', '|งง|ไป|หมด|', '|มี|บัญชี|kbank|', '|เรา|ก็|งง|', '|tisco|', '|fast|', '|ไม่|ขึ้น|ใน|', '|หลาย|รอบ|มาก|', '|เท|ค|ไป|', '|2019|', '|ตอน|ตี|', '|วัน|เหมือนเดิม|', '|ของ|กรุงไทย|', 'โอนเงิน|ผ่าน|', '|ทิพ|ย|ประกันภัย|', '|คล้ายๆ|', '|ขอ|เอกสาร|เพิ่ม|', '|แล้ว|นะ|', '|slip|', '|มี|แค่|', '|pro|', '|1|-|2|', '|ค่า', '|ตอนนี้|เดือดร้อน|มากๆ|', '|เงิน|ใน|', '|บอก|ระบบ|ยังไม่เสร็จ|', '|ก็|เสือก|ไม่|เข้า|', '|คือ|อยู่|ๆ|', '|ถาม|พนักงาน|ที่|สาขา|บอก|ว่า|ใช้ได้|', '|ดาว|น|์|', '|ขึ้น|ว่า|', 'วันนี้|เวลา|', '|ธนาคารกรุงไทย|', '|เช็คยอด|', '|เอา|จน|ว่า|รำคาญ|', '|สำหรับ|ผม|', '|อ|ห|.', '|บ้าน|', '|เป็นไร|อ่ะ|', '|เย็น|ๆ|', '|ง|', '|ไหม|คะ|', '|จำนวน|', '|หมายความว่า|', '|email|', '|สาขา|ชน|แดน|', '|ช่วงเวลา|', '|everyday|', 'ลงทะเบียน|', '|3|-|6|', '|esso|', '|หรือเปล่า|ครับ|', '|9.00|', '|ไป|', '|201|', '|ตั้งแต่|วัน|ที่', '|2017|', '|momo|', '|รู้|ผล|ปุ๊บ|', '|of|', '|7500|', '|200|', '|เมื่อคืน|', '|อยาก|บอก|ว่า|', '|ได้|ค่ะ', '|ใช้ได้|', '|พอ|มา|เจอ|ข้อความ|นี้|', '|ปกติ|ที่|ถอน|คือ|', '|g-wallet|', '|ปีนี้|ได้|ไหม|ครับ|', '|รอบๆ|', '|แนะนำ|', '|จำเป็นต้อง|ใช้|เงิน', '|คลิก|เพื่อ|ดู|ข้อความ|ที่ซ่อน|ไว้|', '|ฯลฯ|', 'โอน|จาก|', '|มากๆ|', '|นี้|', 'next|', '|ค|ป|ภ|.|', '20|12563|', '|bot|', '|fee|', '|connect|', '|สิ|ครับ|', '|บาง|สาขา|', '|125|', '|รอบ|', '|ชิม|ช้อป|ใช้|', '|00|', '|ที|', '|cigna|', '|สูงกว่า|', '|ชื่อ|ธุรกิจ|โดย|ชื่อ|เจ้าของร้าน|', '|ตั้งแต่|ปี|', '|ต้อง|นำ|บัตร|', 'สวัสดี|ค่ะ|เพื่อน|ๆ|', '|ป|ต|ท|', 'สอบถาม|ด้วย|ครับ|', '|ทั้ง|ทาง|', '|พอ|', '|150|', '|ของ|ธนาคารกรุงไทย|คือ|แย่มาก|', 'เติม|เงินเข้า|', '|ปรากฏ|', '|ไม่มี|ครับ|', '|อยากจะ|สอบถาม|ว่า|', '14|', '|mbanking|', '|ไม่มี|', '|268|', '|ตลาดนัด|', '|ก็|เข้า|ปกติ|', '|เนื่องจาก|บัญชี|นั้น|โดน|ยึด|ไป|ด้วย|ปัญหา|หนี้สิน|', '|กับ|บัตรกดเงินสด|', '|passion|', '|อะ|ค่ะ|', 'k|', '|bigc|', '|ไง|', '|ยกเว้น|ของ|scb|', '|รอบ|ไม่|ผ่าน|', '|s|21|', '|airpay|', '|bunnytrader|', 'เป๋า|ตัง|', '|snoopy|', '|รอสาย|', '|เรา|จะ|ไม่|ทิ้ง|กัน|', '|60000|', '|dec|', '|1200|', '|ถูก|', '|เยอะ|ๆ|', '|ได้|', 'นี้|', '|20|', '|คนละ|ครึ่ง|', '|vpn|', '|ราย|', '|google|', '|ชั่วโมง', '|33000|', '|apps|', '|กรุงไทย_axa|', '|ไม่ได้', '|เรา|ไม่|ทิ้ง|กัน|', '|code', '|high|', '|แต่|ยอด|ไม่|เข้า|', '|เอา|จริงๆ|', 'mon|', '|เจ้าหน้าที่|บอก|', '|นานไป|ไหม|', '|ไม่|ต่ำกว่า|', '|rewards|', '|ยัง|ไม่|ผ่าน|', '|เลข|อ้างอิง|', '|เท่ากับว่า|', '|ไม่พอ|', '|เลือก|ถอนเงิน|ไม่|ใช้|บัตร|', '|อาทิตย์|', '|ได้|ไหม|ค่ะ', '|ได้|ดอก|', '|มี|.ค|', '|activate|', '|ทำได้|', '|2600000|', '|2|', '|payroll|', '|โหลด|แอป|', 'เป็น|เหมือนกัน|ค่ะ|', '|มาแล้ว|', '|จะ|ทำ|อย่างไร|', '|กี่|', '|โทร|', '|sq|', '|ref|.|2|', '|otp|', '|แต้ม|', '|ของ|บัตรเครดิต|และ|', '|eur|', '|cardless|', '|เติมเงิน|', '|card', '|ของ|kbank|', '|โทร|ไป|แจ้ง|', '|เรา|', '|นั้น', '|อีก|', '|14|', '|.|', '|19', '|ของ|ผม|', '|scbsp|500|', '|5500|', '|ผ่าน|มา|', '|cvc|', '|ธนาคาร|แจ้ง|ว่า|', '|usa|', '|tfex|', '|จบ|', '|ของ|ธนาคาร|bbl|', '|เที่ยงคืน|', 'ขออนุญาต|', '|นาที|', '|พัก|ชำระเงินต้น|', '|รำคาญ|', '|เพิ่ม|', '|เพราะ|', '|เฟส|', '|10.02|', '|599|', '|ขั้นต่ำ|เปิด|พอร์ต|ห้า|แสน|บาท|', '|ทำไง|ดี|ค่ะ', '|33|', '|ได้|ประมาณ|', '|ล่ม|อีก|', '|ndid|', '|rejected|', '|เฮ้อ|', '|แจ้ง|', '|1.|ktc|', '|thailand', '|เป็นหลัก|', '|7|-|8|', '|ถือ|ยาว|', '|aia|', '|เงียบกริบ|', '|ทหาร|ไทย|', '|เดิม|', '|เห้อ|', '|มีข้อดี|', '|ด้วย|ละ|อ่า|', '|รี|ไฟแนนซ์|', '|ตาม|หัวข้อ|กระทู้|เลย|', '|มี|ไหม|', '|ใช่|', '|ไฟแนนซ์|ไทยพาณิชย์|โทร|มา|ทวง|', '|ไม่สามารถ|เข้า|', '|ธนาคาร', '|ต้อง|ติดต่อ|ธนาคาร|', '|ไม่สามารถ|ทำ|รายการ|ได้|', '|บาท|ค่ะ', '|นั่ง|', '|เห้อ', 'ติดต่อ|ไปที่|คอลเซนเตอร์|ของ|ทาง|กรุงไทย|', '|ก.|พ|', '|ป่ะ|', '|ไม่สามารถ|ทำ|รายการ|ทางการ|เงินได้|ในขณะนี้|', '|รบกวน|ผู้รู้|ทุกท่าน|ด้วย|ค่ะ', '|ปัง|มาก|', '|or|', '|ไป|ค่ะ|', '|ย้อนหลัง|', '|สวัสดี|ค่ะ|', '|จ.|เพชรบูรณ์|', '|บ่าย|', '|เดือน', '|30|-|45|', '|ผ่าน|มือถือ|ผ่าน|แอป|', '|1700|', '|เข้าไป|แด|ใหม่|คะ|', '|510|', '|truemoney|', '|ติดต่อ|เจ้าหน้าที่|', '|แง|ง', '|bayfirst_choice|', '|เยอะ|', '|ทำ|รายการ|ไม่|ตามเวลา|กำหนด|พ่อ|ง|มึง|ดิ', '|checking|', '|มี|ใคร|พอ|ทราบ|บ้าง|ไหม|คะ|', '|จะ|โอนเงิน|', '|fun|', 'แย่|', '|paywave|', '|เหลือ|แค่|', '|คะแนน|', '|ใน|เวลา|', 'มึง|', '|แต่|ไม่|เข้า|', '|ดู|ครับ|', '|หรือ|ไม่มี|', 'จ่ายเงิน|ผ่าน|', '|ทาง|ธนาคาร|', '|ราคา|บ้าน|', '|แบบนี้|ก็ได้|เหรอ|', '|axa|', '|ไม่เคย|ติด|', '|fix|', '|ใช่ไหม|คะ', '|เป็นการ|ผิดพลาด|ใน|การ|ตีพิมพ์|เอกสาร|', '|หรือ|ธนาคาร|', '|scbb|', '|31|', '|pin|', 'ยอมแพ้|ที่', '|สามารถ|', '|rabbit|', '|ใบ', '|chubb|', '|คำถาม|', '|ใช้|แต่|', '|ผ่าน|แอป|', '|ขอบพระคุณ|มาก|ครับ', '|oppo|', '|ยัง|เป็น|', 'ใบสมัคร|ผม|ก็|จ|พ|หมดอายุ|แล้ว|', '|ธัน|วา|', '|แทน', '|ก็|ยัง|รู้สึก|ยุ่งยาก|และ|', 'ktb|', '|finnomena|', '|ไหน|', '|tower|', 'สวัสดี|', '|อื่น|', '|โทร|ไป|ถาม|', '|สอบถาม|', '|kbanklive|', '|design|', '|ktb|.|', '|ต้อง|ทำ|ยังไง|ครับ|', '|70000|', '|สินเชื่อรถยนต์|', '|k-express|', '|krungthai_care', 'krungthai_care|', '|บางที|', '|ถ้า|มัน|ไม่พลาด|ไป|', '|นะ|ครับ|', '|ฮะ|', '|ซื้อ|ผ่าน|', '|2018|', '|_', '|no|.|1|', '|ใน|แอ|ฟ|มัน|เป็น|ออ|มท|ร|พ|ย|์|', 'call_center|', '|เพื่อ|เปิดบัญชี|', '|ชาย|คน|หนึ่ง|', 'ถ้า|ใช้|', '|krungthai_next|', '|port|', '|ได้|ข้อมูล|ปั๊บ|', 'ใคร|ใช้|', '|add|', '|เดือนก่อน|', '|ระหว่าง|', '|scbm|', '|เดือน|ขึ้นไป|', 'scb_easy|', '|โทร|เป็น|ชาติ|', '|ยืนยัน|ตัวตน|ปุ๊บ|', '|ท|รู|วอ|ล|เลท|', '|โอนเงิน|มา|ให้|แล้ว|ครับ|', '|ที่ใช้|', '|union|', '|ประทับใจ|มาก|', '|เรื่อง|มีอยู่|ว่า|', '|ดี|', '|ทุกเดือน|', 'โดน|', 'ขอ|สอบถาม|ผู้รู้|หน่อย|ครับ|', '|แจ้ง|ธนาคาร|', '|มาสเตอร์|การ์ด|', '|first_choice|', '|สัก|เท่าไหร่|', '|ได้|วงเงินรวม|', 'โทร|ติดต่อ|', '|หักบัญชี|', '|grab|', '|บัญชี|', '|ห่วย|มาก|', '8|', '|ต่อมา|', '|ก่อน|ครับ|', '|ของ|scb|', 'atm', '|tg|', '|ไปที่|', '|22|', '|เพื่อ|', '|timeout|', '|นั่น|คือ|', '|บาท|อยู่แล้ว|', '|เปลี่ยนเป็น|', '|อ|ห', '|ๆ|ค่ะ|', 'แอป|ธนาคาร|', '|ธนาคาร|แบบนี้|', '|ผม|อายุ|', 'ฐาน|เงินเดือน|', '|สถานะ|เหมือนเดิม|', '|kplus', '|v|', '|ktb|', '|ตอบ|โจทย์|ที่สุด|', '|wealth|', '|แต่|บัตรเครดิต|', 'แต่|', '|เขตพระราม2|', '|คะ|', '|เมื่อวาน|', '|ไหม|', '|555', '|ธนาคาร|คือ|', '|uob|', '|กด|ไม่ได้|', '|หรือไม่|ผ่าน|', '|ธนาคาร|ธนาคารเพื่อการเกษตรและสหกรณ์การเกษตร|', '|นิดๆ|', '|รอ|ผล|', '|ผ่อน|ได้|', '|เช่นกัน|ค่ะ|', '|mpass|', '|งง|เลย', '|2|-|4|', '|ตาม|', '|กว่า|หน่วย|', '|ต้นเดือน|', '|2565|', '|แล้ว|มี|', '|โดยประมาณ|', '|แต่|บัญชี|ปลายทาง|ไม่|ได้รับ|ยอด|', '|หลัก|', '|ซึ่ง|ทาง|', '|parkjihoonfanconinbkk', '|ถ้า|เกิน|', '|ลำ|ลูก|กา|', '|อายุ|', '|แต่|สมัคร|', '|กู้|คนเดียว|', '|เพราะ|กลับ|ไทย|ก็|ไม่ได้|ค่ะ|ตอนนี้', '|หรือ|ต้อง|', '|ไม่|รองรับ|', '|ปีก่อน|', '|16000|', '|เป็นไร|วะ|', '|โฉนด|', '|ขอบคุณ|ครับ', '|ตอนนี้|โต|แล้ว|', '|โมโห', '|ได้มา|', '|7|-|11|', '|โอนเงิน|ไป|แล้ว|', '|1.1|', '|advisor|', '|29|', '|บาท|ค่ะ|', '|กับ|bay|', '|งง|มาก|', '|ไม่มี|พนักงาน|รับสาย|', '|8900|', '|จ่าย|ด้วย|บัตรเดบิต|ktb|และ|ผม|ได้|ทำ|การยกเลิก|การสั่งซื้อ|ไป|', '|pround|', '|พร้อม|ดอกเบี้ย|', '|พนักงาน|เกือบ|ทั้งหมด|พูด|กับ|ลูกค้า|', '|ยัง|เข้า|ไม่ได้|', '|ไม่สามารถ|', '|รายการ|', '|พอ|ถึง|วัน|ที่', '|เหม่อ|', '|ประกันสังคม|', '|ทำ|ยังไง|ก็|ไม่|ผ่าน|', '|รอ|มา|', '|ก็|เห็น|', '|12|', '|เมื่อวาน|ไป|ทำ|เรื่อง|ก็|ทำไม่ได้|', '|ก็|ยัง|เงียบ|เหมือนเดิม|จน|เกือบ|ถึง|รอบ|ชำระ|', '|ค่า|', '|ไม่งั้น|', 'คือ|แบบ|', '|ต้องการ|', '|ได้|ครับ|', '|เรา|ติดต่อ|ไปที่|เบอร์|โทร|สำนักงานใหญ่|ไฟแนนซ์|ไทยพาณิชย์|บอก|ว่า|จะ|ติดต่อ|กลับมา|', '|วีซ่า|', 'สอบถาม|หน่อย|ค่ะ|', '|scbeasyapp|', '|เสี่ยว|มี่|', '|speedy_cash|', '|ขอบคุณ|ค่ะ', '|ยกเลิก|', '|ขอ|ข้อมูล|จาก|ธนาคาร|อื่น|ได้|', '|แบบ|ครับ|', '|kcl|', '|กรุงเทพ|ประกันภัย|', '|kyc|', '|เงิน|ไม่|เข้า|ครับ|', '|กู้ร่วม|ได้|', '|ปลายทาง|', '|reward|', '|นี้|ก็|', '|ก็ได้|', '|และ|มี|', '|ขึ้น|รหัส|', '|มัน|ขึ้น|แบบนี้|', '|คือ|ช้า|มาก|', '|สัก|ปี|ละ|', '|หลังจาก|', '|ชม|', '|ผล|ปรากฏ|ว่า|', '|15000|', '|click|', '|ทำ|เรื่อง|', '|หงุดหงิด', 'ผม|ใช้|', '|atm|', '|gateway|', 'ขอบคุณ|ค่ะ|', 'โอน|เงินเข้า|', '|ที่|สาขา|', '|ได้|แล้ว|นะ|ครับ|', '|โหลด|', '|ไม่สำเร็จ|', '|pass|', '|ช้า|มาก|', '|k-esavings|', '|2.34|', '|โอน|เวลา|', '|50|', '|ยืนยัน|ที่|ตู้', '|weply|', '|30000|', '|ทอง|ๆ|', '|2212563|', '21|', '|เก็บ|ยิ่ง|นาน|', '|ว่า|เพราะอะไร|', '|ปัด|ตก|', '|น|', '|ขอ|ถาม|หน่อย|ค่ะ|', '|check|', '|ประกัน|', '|รึ|เปล่า|ครับ|', '|แต่กลับ|ไม่มีใคร|โทร|มา|ทวง|เลย|กลับเป็น|ส่ง|', '|แผน|', 'ส่วน|บัตร|', '|คือ|อะไร|คะ|', '|แสดง|ว่า|', '|มีปัญหา|', '|ark|', '|ค่ะ|.|', '|ใช่|เรื่อง|ไหม|', '|ทำ|ยังไง|ดี|ครับ', '|true|', '|walk|', '|กด|เงินสด|', '|paste|', '|คือว่า|', '|live|', '|แล้วจะ|ให้|ทำ|ยังไง|ได้|บ้าง|ครับ|', '|ก|ย|ศ.|', '|จ้า', '|ป|ล.|', '|เป็น|อะไร|อีก|', '|50000|', '|airasia|', '|36|', '|คนละ|ครึ่ง|เฟส|', '|อย่างเช่น|', '|order|', '|2692|', '|เป็นเวลา|', '|ไม่ได้|ครับ', '|บอก|', '|ตอน|สมัคร|', 'เมื่อวาน|', '|รอสาย|นานมาก', '|ก็ได้|ค่ะ|', '|atm|.|', '|คลิก|เพื่อ|ดู|ข้อความ|ที่ซ่อน|ไว้|ใส่|ข้อความ', '|กทม|', '|10000|', '|ผม|ต้อง|ทำ|อย่างไร', 'แนะนำ|', '|e-saving|', '|flexi|', '|scb|', '|robo|', '|เบอร์|ผิด|', '|กว่า|ๆ|', '|ดี|ค่ะ|', '|เช็ค|', '|เงินเข้า|', '|สามารถ|เปลี่ยน|', '|visa|', '|my|', 'สอบถาม|เพื่อน|ๆ|', '|อายัด|', '|ธนาคาร|นี้|', '|2021|', '|10', '|airbnb|', '|9000|', '|date|', '|แต่|ไม่|เข้า|บัช|ชี|', '|สินเชื่อ|เสริม|พลัง|ฐานราก|', '|ฮือ', '|ละ|ตัด|ตัง|ไป|แล้ว|ด้วย', '|ไว้|', '|เอ้า|', '|ของ|bbl|', '|ผม|เปิดบัญชี|', '|ได้|ไหม|ครับ|', 'สินเชื่อบ้าน_scb|', 'โอนเงิน|', '|24000|', '|ได้รับ|', '|ไม่เคย|กู้|อะไร|กับ|กรุ|ศรี|คับ|', '|รอง|มา|', '|บาท|ถ้วน|', 'อยาก|สอบถาม|ว่า|', '|ล่ม|เก่ง|', '|ผม|มี|ธนาคาร|ในใจ|อยู่แล้ว|', '|พูดจา|ดีมาก|', '|set|', '|telephonetag|', '|k-plus|', '|ช่วย|หน่อย|ค่ะ|', '|มี|นา|', '|youth|', '|มา|ดู|', '|cpall|', '|จริง|ค่ะ|', '|หลัง|ๆ|', '|ย|', '|รอ|', '|ครับผม', '|โทร|สอบถาม|กับ|bbl|', '|พูด|ง่ายๆ|', '|ขัดข้อง|', '|ได้|นะคะ|', 'เวร|ละ|', '|ตามปกติ|', '|ไป|เมื่อ|วัน|ที่', '|สมัคร|ผ่าน|', '|tmb_touch|', '|contactless|', '|bts|', '|scbs', '|สวัสดี|', '|ltf|', '|เอิ่บ', '|สัญญา|', '|แจ้งเตือน|', '|ต่อ|เดือน|', '|ดังนั้น|', '|สาย|', '|จะ|มีโอกาส|ผ่าน|ไหม|ครับ|', '|11|', '|gulf|', '|ตอนนี้|มี|', '|จะ|ผ่าน|ไหม|ครับ|', '|สแกน|หน้า|', '|แรกๆ|', 'ใช่|ค่ะ|', '|4.4|', '|big|', '|สถาบันการเงิน|ชื่อดัง|', '|ไป|ก่อน|', '|65|', '|ถาม|เรื่อง|', '|มา|ว่า|', '|บัตรประชาชน|', '|โมง|ครึ่ง|', '|แปลกๆ|', '|งง|ๆ|', '|จำกัด|', '|อนุมัติ|', '1555|', '|1000000|', 'เรา|เลย|โทร|ไป|ที่', '|up|', '|ใช้งานง่าย|', '|prestigerop|', '|105|', '|จะ|มี|', '|1.|', '|ดู|', '|24|', '|ได้แก่|', '|มี|บัตรเดบิต|', '|waive|', '|แจ้ง|ว่า|ระบบ|มีปัญหา|', 'ซื้อ|ผ่าน|', '|หลังจากนั้น|', '|เอง', '|ไม่ต้อง|ไป|ธนาคาร|', '|สัปดาห์|', '|เข้า|แอป|', '13|', '|โทร|ไป|ไม่เคย|ได้|คุย|', 'เตือนภัย|', 'ทำ|บัตร|', '|อยาก|รู้ว่า|', '|โป|ร|', '|แอป|ล่ม|', '|2.5|', '|ktbnetbank|', '|ก็|ไม่ได้|', '|ready|', '|ทุกปี|', '|แล้ว|ต้อง|เสีย|อะไร|ไหม|', 'sms|', '|4|-|5|', '|เลย', '|ค่ะ', '|ประกัน|สุขภาพ|', '|กอง|', '|18.11|', '|t|1|', '|บริการ|ดี|มากๆ|', '|ตอนนี้|ก็|ติดต่อ|สาขา|เจ้าของ|บัญชี|', '|แต่|นี่|', '|paypal|', '|4000|', '|แต่|เงิน|ไม่|เข้าบัญชี|ปลายทาง|', '|เอทีเอ็ม|', '|ไว้|กับ|', '|เอา|', '|bitcoin|', '|airways|', '|fb|', '|35|', '|วัน|แล้ว|ค่ะ|', '|เมื่อ|กลางเดือน|ไป|เปลี่ยน|จาก|บัตร|', '|pic|.|twitter|.|comrw|84|ubnuum', '|บ|ลา|ๆ|', '|ไป|กรุงไทย|', '|อยู่|', '|เอา', '|เปิดบัญชี|', '|แล้ว|', '|ไม่รู้|', '|และ|ไม่สามารถ|', '|3|g|4|g|', '|ไม่ได้|เลย|', '|ปี|กว่า|แล้ว|', 'สอบถาม|ค่ะ|', '|115000|', '|อาย|เพื่อน', '|scb_jcb|', '|scbam|', '|luxe|', '|ผม|ว่า|', '|อนุมัติ|แล้ว|', '|ก็|สมัคร|', '|transfer|', '|แป๊บเดียว|ได้|เงิน', '|แค่|', '|เวรกรรม', '|--', '|หนี้บัตรเครดิต|', '|in|', '|2440|', '|ธนาคารอาคารสงเคราะห์|', '|generali|', '|64', '|2330|-|0000|', '|ได้|ลด|', '|วัน|แล้ว|', '|โฆษณา|ว่า|', '|แล้ว|ทาง|', '|ไว้|แล้ว|', '|โอนเงิน|ไป|', 'kbank|ล่ม|หรอ|', '|อยู่', '|ก็|ให้|', '|ข้าราชการ|', '|ไม่|ถึง|', '|ตั้งแต่|ต้นปี|', '|แต่|ทำไม|', '|บัตรเครดิต|bbl|', '|แต่|เงิน|ไม่มี|เข้าบัญชี|', '|ปี|แรก|', 'เป็น|เหมือนกัน|เลย|ครับ|', '|อัตโนมัติ|', '|7600|', '|วันนี้|วัน|ที่', '|พยายาม|', 'วัน|ที่', '|1115|', '|ปี|ที่แล้ว|', '|เนื่องจาก|เรา|ย้าย|มา|อยู่|', '|ลง|เหลือ|', '|oil|', '|เท่าไหร่|', '|ปกติ|จะ|มี|', '|ธนาคาร|อื่นๆ|', '|scbset|50|', '|ไปมา|', '|record|', '|jitta|', 'ใน|แอป|', '|ไม่มี|กำหนด|หมดอายุ|', '|ของ|วันนี้|ให้|ลอง|เช็ค|ที่|บัญชี|ปลายทาง|ก่อน|ถ้า|ไม่|ได้รับ|ก็|ให้|เช็ค|พรุ่งนี้|อีกที', '|เลย|ด้วย|', 'เรา|อยากจะ|ติดต่อสอบถาม|เรื่อง|การ|พัก|หนี้|ค่ะ|', '|บาท|แน่ะ|', '|ั|', '|3|', 'โง่|เอง|', '|ไป|ไหม|นะ|', '|ยัง|ไม่มี|', '|55', '|vat|', '|3|-|5|', '|เดือด|ร้อนมาก|', '|32|', '|line|', '|300', '|แก้ไขปัญหา|ให้|เสร็จ|ภายใน|', '|-|', '|a|', '|ยกตัวอย่างเช่น|', 'แล้ว|ทำไม|', '|แอ๊ป|', '|4|g|', 'อยู่ดีๆ|', '|เรียกว่า|', '|กด|เข้าไป|', 'ถาม|', '|กดเงิน|ไม่|ใช้|บัตร|', '|1|', '|จาก|กระทู้|', '|เช็ค|จะ|', '|ด้วย|ไหม|', '|ฮ่องกง|', '|2.3|', 'ส่วน|', '|scbx|', '|2200|', '|แบบ|', '|เปิด|', '|75|', '|scb_thailand|', '|มี|.|ค.|', '|ทั้ง', '|ของ|gsb|แต่|ก็|ไม่มีใคร|รับ|เลย|พนักงาน|ติด|สาย|ทุก|คู่สาย|เป็น|ชั่วโมง|เลย|', '|อยู่|เลย|ครับ|', '|ธนาคาร|อื่น|', '|คือ|ยังไง|คะ|', '|mall|', '|ไทย|', '|สู้|ๆ|', '|สมุดบัญชี|', '|เหรียญ|', '|เกือบ|ทั้ง|องค์กร', 'ธนาคาร|อื่น|', '|อี|เวง|', '|ตอบ|', '|เบอร์|', '|ได้|เลย|', '|อื่นๆ|', '|พรบ.|', '|k-check|', '|จู่ๆ|', '|1500|', '|ม.|', '|11000|', '|คิว|ยาว|', '|แต่|มี|', '|เครื่อง|', '|สุด|', '|tesco|', '|ของ|ธนาคาร|ไหน|', '|ava|', '|ไหม|ครับ', '|เลย|ค่ะ|', '|เสียเวลา|มาก|', '|63|', '|หรือ|กี่|ปี', '|ไม่ยุ่งยาก|', 'ผม|เอาไว้|กัน|เวลา|ไป|ต่าง|พื้น|ที่แล้ว|มี|แค่|ตู้|เดียว|', '|โต|ขึ้นมา|คุณ|เลย|เป็น|คน|รู้จัก|อดทนอดกลั้น|', '|21|', '|passport|', 'อ|ห|', '|ซื้อ|', '|สมาชิก|ว่า|', '|bookbank|', '|ลูกค้า|', '|เท่านั้น|', '|ส|ภ|.|', '|flow|', '|170|', '|สอง|รอบ|ละ|ที่|ส่ง|', '|ไหม|คะ', '|250|', '|ประมาณ|', 'โอนเงิน|จาก|กรุงไทย|', '|2562|', '|update|', '|นะคะ', '|ตุลาคม|', '|อี|ซี่|', '|ดอก|', '|ยัง|ไว|กว่า|เยอะ|', '|หรือว่า|', 'โอนเงิน|จาก|ธนาคาร|', '|user|', '0|1012564|', 'uob|', '|ซื้อ|หวย|', '|วันนี้|ระบบ|ของ|ธนาคาร|ปรับปรุง|เหรอ|คะ|', '12|', '|ได้|ดอกเบี้ย|อยู่|', 'ที่|เรา|', '|ทำ|ยังไง|ดี|คะ', '|หน่อย|', '|139|', '|yen|', '|ยอด', '|เร็วๆ|', 'krungthai_next|', '|เงิน|ฝากออมทรัพย์|แบบ|ไม่มี|สมุด|', '|gen|', '|อี|เวร|', '|ไม่มี|บัตร|', '|เอ|', 'ขอ|สอบถาม|หน่อย|คะ|', '|ร้องไห้|', '|แต่|ก็|นั่นแหละ|', '2|8|', '|อะไร|วะ|เนี่ย|', '|jcb|', '|c|', '|covid|19|', '|ระยะเวลา|', '|ยืนยัน|ตัวตน|ไม่ได้|', '|ขึ้น|', '|เย็น|', '|มา|ใช้|', '|ตัดยอด|', '|ดู|ยากมาก|', '|กรุงไทย|เน็ค|', '|thailand|', '|รอคิว|นานมาก|', '|ปิดบัญชี|', '|channel|', '|ยอดเงิน|', '|พอดี|ว่า|', '|ที่ผ่านมา|', '|ล่ะ|', '|โมโห|', '|16|', '|ผ่อน|กับ|', '|แต่|เงิน|ไม่|เข้า', '|ธนาคาร|', '|อี|กรอบ|', '|ให้|', '|ครบ|', '|banking', '|เดียว|', 'จ่ายเงิน|', '|ละ|อ่อ|', '|alipay|', '|ข้อเสีย|', '|ของ|วันนี้|', '|บาท|ได้|', '|แตก|', '|สีเทา|', '|โทร|กลับ|ไม่|เกิน|วัน|ถัดไป|', '|โทร|ไม่ติด|ครับ|', '|ผม|เปิดบัญชี|ตั้งแต่|วัน|ที่', '|travel|', 'จริงๆ|', '|ที่|ตู้', '|3.|', '|จุก|ๆ|', '|ตาม|ข้อ|', '10|', '|d|', '|09.00|', '|ถ้า|ยื่น|กู้|กับ|', '|welcome|', '|จะ|', '|จน|', '|มาตลอด|', '|ไง|คะ|', '|1295|', '|bay|ไม่มี|บัญชี|', 'windy|', 'ถ้า|', '|หรือ|พี่|ๆ|', '|ยัง|ไม่|เข้า|', '|บาง|', '|44|', '|เจ้าหน้า|ที่แจ้ง|ว่า|', '|refinance|', '|ค่า|ประเมิน|', '|มี|สลิป|', '|ล่ม', '|500|', '|ถ้า|', '2.|', '|ขอบคุณ|มากๆ|', '0|', '|18|k|', '|อย่างเดียว|', '|แต่|ถ้า|ไม่ใช่|', '|200000|', '|365|', '|itmx|', '|จะ|ไม่|ปรับ|สลิป|จิงอ่อส|ลิบ|เอ้|ม|แบงก์|กิ้ง|คือ|ไป|พัก|', '|aeon|', '|โอน|จาก|kbank|', '|tot|', '|บัตร|หมดอายุ|', '|ได้|หรือไม่|ครับ|', '|นครนายก|', '|ktz|', '|ทำ|ยังไง|', '|น.', '|60|', '|ล่ม|ตั้งแต่|เมื่อวาน|', '|12000|', '|อะไร|', '|ดี|ไหม|คะ|', '|ไฟล์|', '|shopee|', '|จะ|ได้|เตรียม|เอกสาร|ไป|ให้|ถูก|ครับ|', '|เงิน|เยียวยา|', '|รายเดือน|', '|17000|', '|เกี่ยวกับ|', '|มือถือ|', '|ลืม|', '|อยู่แล้ว|', '|m|', '|ติดต่อ|ไม่ได้|', '|dm|', '|ก็|ใช้|', '|27|', '|8.1.2020|', '|kjourney|', '|งับ|', '|แต่|ถ้า|', '|2', '|กระเป๋า|ตังค์|', '|บาท|เอง|', 'ขอบคุณ|', '|พัน|บาท|', '|cost|', 'ขอ|', '10|263|', '|เห็น|', '|ยัง|ไม่|ได้รับ|', '|ผม|ต้อง|ทำ|ยังไง|ครับ', '|wha|', '|อาทิตย์|แล้ว|', '|ก.|ค|', '|k-cyber|', '|ขอ|สอบถาม|หน่อย|ค่ะ|', '|แล้ว|ส่วน|ของ|บัตร|', 'แล้ว|', '|ของ|ประเทศ|', '|แค่นั้น|', '|หักเงิน|ไป|แล้ว|', '|อ่อ|', '|ทั้งที่|กดเงิน|แล้ว|ไม่|ออก|', '|kbank_live|', '|บช.|', '|กลัว|จะ|มีปัญหา|', '|เกิน|', '20|', '|บอก|อี|กว่า|', '|ตั้งแต่|เมื่อวาน|', '|k|8888|', '|t_t', '|max|', '|ควร|ทำ|ยังไง|ดี|คะ|', '|jitta_wealth|', '|บน|', '|ได้|ค่ะ|', '|sim|', '|เรา|เปลี่ยน|จาก|', '|เหลือ|แต่|', '|transferwise|', '|sbc|', '|แอป|กรุงไทย|', '|spotify|', 'รบกวน|', '|ชม.|แล้ว|', '|รบกวน|ขอคำแนะนำ|ด้วย|ครับ|', '|2000|', '|ประทับใจ|', '|web|', '22|072019|', '|ต้อง|ใช้|', '|rop|', '|ทีนี้|', '|กุม|ภา|', '|โทร|หลาย|รอบ|', '|ลด|', '|easypass|', '|มากกว่า|', 'เป็น|', '|จะ|ผ่าน|ไหม|', '|ทำ|ยังไง|ดี|คะ|', '|kerry|', 'kbank_live|', '|สาธุ|', '|โทร|มา|', '|เช้า|', '|เมย|', '|แต่|ใน|', '|โดยตรง|', '|110|', '|ทั้งสิ้น|', '|ใช้|บัตร|', '|มา|นาน|', '|ผูก|', '|เบื้องต้น|', '|ทำไม|', '|ช่อง|', '|โค|วิด_19', '|login|', 'โอนเงิน|จาก|แอป|', '|counter|', '|kt-ashare|', '|ให้|หน่อย|', '|เป็น|เหมือนกัน|ค่ะ|', '|citi_premier|', '|ก|ย|', '|จะ|ใช้|เงิน|', '|2.8|', '|มา|หลาย|วัน|', '|ทำไม่ได้|', '|หัวใจ|ของ|เรา|มัน|จะต้อง|', '|วันนี้|ครบ|', '|อุดรธานี|', '|พ.ย.|', '|มี|แต่|', '|ก็|', '|กด|ใน|', '9|', '|พนักงาน|', '|ลด|ๆ|', '|from|', '|เรา|สนใจ|และ|อยาก|สอบถาม|ข้อมูล|', '|ใบ|ค่ะ|', 'ติดต่อ|', '|ก่อน|จะ|มี|โครงการ|พัก|หนี้|ของ|ธนาคาร|ต่างๆ|', '|ป|ล|', 'scb_thailand|', '|two|', '|เหมือน|สมัยนี้|', 'พร้อมเพย์|ต้อง|ไป|ติดต่อ|กับ|ธนาคาร|เจ้าของ|บัญชี|เพื่อ|ลงทะเบียน|ผูก|บัญชี|เข้ากับ|หมายเลขโทรศัพท์|ครับ|', '|finalodysseyconcert|', '|stm|', '|อาชีพ|', 'อยากให้|', 'รอ|ประมาณ|', '|you|', '|ไป|ตู้', '|yolo|', '|แต่|เงิน|ไม่|เข้า|', '|ทาง|kbank|', '|เพราะ|ไม่มี|บัตร|', '|ค่าธรรมเนียม|บัตร|', '|แบบนี้|ต้อง|ทำ|อย่างไร|ครับ', '|โทร|หา|', '|rueantan|', '|ฟรี|ค่าธรรมเนียม|', '|ถาม|', '|หลัง|', '|margin|', '|เติมเงิน|ไป|', '|bay|', '|by|', '|โอ้|ย', '|เบอร์|เติม|ผิด|', '|เติม|จาก|', '|เต็ม|', '|7|', '|เดือดร้อน|มากๆ|', '|ว|ด|ฟ|', '|นาน|', '|อี|หน้า|เหี้ย', '|ประ|มาน|', '|อี|สัส|', '|เช่น|', '|ตอน|จำเป็นต้อง|ใช้|', '|คัน|', '|ใคร|ใช้|', 'ติดต่อ|เจ้าหน้าที่|', '|26|', '|หมื่น|อัพ|', '|บาท|อะ|', '|บ้าง|คะ|', '|และ|แอป|', '|โปรโมชั่น|', '|เข้า|กรุงไทย|', '|ตอนนี้|', '|อาทิ|', '|ขอคำแนะนำ|หน่อย|ค่ะ|', 'พึ่ง|รู้ว่า|', '|โอนเงิน|จาก|', '|ว|', '|premium|', '|โอน|', '|2700000|', '|40|', '|ครับ|', '|search|', '|อัพ|', '|ทำไม|นาน|จัง|', '|speedy|', '|book|', '|มือถือ|หาย|', '|service|', '|1851|', '|out|', '|จริง|', '|กดเงิน|ไม่|ใช้|บัตร|ไม่ได้|ค่ะ|', '|หมด|เลย|', '|ขอนแก่น|', '|ก|พ|', '|ขอบคุณ|มาก|ครับ', '|แสก|น|', '|รอบ|นี้|', '|อ้าว|', '|ละ|', '|080|', '|pc|', '|credit|', '|ใคร|เป็น|บ้าง|ครับ|', 'ความคิดเห็น|ที่', '|scbs|', '|9|', '|หมุนเวียน|และ|สินเชื่อ|ได้|เพิ่ม|', '|ถ้า|เปิดบัญชี|', '|ที่ไหนได้|', '|บ้าง|ค่ะ|', '|พอ|เข้าไป|จะ|สมัคร|จริงๆ|', '|ที่ธนาคาร|', '|รักษา|', '|910|', '|premier|', '|แย่สุดๆ|', '|บาท|ต่อ|คะแนน|', '|store|', '|เสือก|บอก|ให้|กุ|ไป|ขอ|รหัสพิน|กับ|ธนาคาร|', '|ขออนุญาต|', '|เงินฝากประจำ|กรุงไทย|', '|37000|', '|เคพลัส|', 'เติมเงิน|ผิด|เบอร์|ครับ|', 'ขอ|สอบถาม|หน่อย|ค่า|', '|เบื่อ|มาก|', '|งง|มาก|ครับ|', '|เพราะ|บัตร|', '|แต่|จ่าย|ผ่าน|', 'ดอกเบี้ย|ออมทรัพย์|', '|bdms|', '|ล่ม|หรือเปล่า|ครับ|', '|เป็น|อะไร|', '|got|7|keepspinninginbkk', '|ธนาคาร|ค|', '|ผ่าน|ทาง|แอป|', '|แอป|ควย|', '|ais|', '|2020|', '|11.30|', '|นี่|นะ|', '|leasing|', '|1558|', '|หรือไม่|', '|ได้|ไหม|คะ|', '|30|-|40|', '|พอ|กลับมา|ที่|', '|โครต|เชง|', '|ในช่วง|', '|siam|', '|ภายใน|', '|uob', '|รหัส|', '|400000|', '|สลาก|ธนาคารเพื่อการเกษตรและสหกรณ์การเกษตร|', '|มี|ยอด|เงินโอน|เข้า|', '|จบ|ข่าว|', '|20000|', '|เฮ้อ', '|chat|', '|scb_family_plus|', '|มี|แล้ว|', '|เงียบกริบ', '|คือ|ถ้า|', '|จาก|', '|kbank', 'ใช้|', '|aliexpress|', '|จน|ผ่านไป|เป็น|เดือน|แล้ว|', '16|', 'ตู้', '|กลุ่ม|ที่', '|expense|', '|แต่|แอป|', '|เรื่อง|', 'อยาก|ถาม|ว่า|', '|จอง|', '|central|', '|ก็|ติดต่อ|ไม่ได้|', '|5000.|-|', '|ถึงจะ|สามารถ|เช็ค|ได้|', '|ไป|เข้าบัญชี|', '|ratsaenmueang|', '|k|', '|หัก|ยอด|', 'มี|เบอร์|', '|ก|', '|5000|เรา|ไม่|ทิ้ง|กัน|', '|บัตร|อนุมัติ|', '|kb|', 'วันนี้|ตอน|', '|pttgc|', '|เปิด|บัญชีเงินฝาก|', '|wongnai|', '|hr|', '|default|', 'ทำไม|', '|4.|', '|00.00|', '|ธนาคาร|เลย|', '|สะดวก', '|30|k|', '|แจ้งเตือน|เงินเข้า|ไม่มี|สัก|ข้อความ|เลย|ค่ะ|', '|คืน|บัตร', '|ครึ่ง|', '|kce|', '|ขอบคุณ|มาก|ค่ะ|', '|จ่าย|ก่อน|', '|รบกวน|ตรวจสอบ|ให้|ด้วย|ครับ', '|ที่|', '|euro|', '|ทั้งหลาย|', '|เกาหลี|', '|investing|', '|โอน|เข้า|', '|play|', '|ถ|', '|อ่าว|', 'ของ|เรา|', '|2515|', '|ตั้ง|', '|air|', '|scbsete|', '|กรุงไทย|ล่ม', '|เดือน|', '|เลิก|เบื่อ|', '|แต่|อัน|ที่|ท้อป|อัพ|', '|แต่|ของ|', '|เบอร์|โทรศัพท์|', '|ปี|คะ|', 'tmb_all_free|', '|เลข|', '|เป็น|', '|สอบถาม|หน่อย|ค่ะ|', '|bank|', '|นี่แหละ|', '|jmart|', '|ไม่|สา|มาร|อนุมัติ|บัตรเครดิต|ของ|ท่าน|ได้|เป็นผล|จาก|เกณฑ์|พิจาร|ณ|รา|ของ|บริษัท|เท่านั้น|', '|scan|', '|scb_life|', '|ยื่น|ไป|', 'ได้|ดอกเบี้ย|', '|ภายใน|วัน|ที่', '|ก.|ย|.|', '|แสน|บาท|', '|แม่|จะ|จ่าย|งวด|แรก|ให้|ก่อน|แล้ว|ที่เหลือ|หนู|ผ่อน|', '|ktsf|', '|ksme|', '|แล้ว|คะ|', '|อ่ะ|', '|3|g|', '|ทำ|อย่างไร|ได้|บ้าง|คะ|', '|7|-|14|', '|download|', '|ยัง|ไม่ได้|คุย|กับ|เจ้าหน้าที่|เลย|', '|บัญชี|ฝากประจำ|ของ|', '|ปิด|', '|ต้อง|ไป|สาขา|', '|ทาง|เพจ|', '|มากกว่า', '|mymo|', '|แถม|', '|ยังไง|', 'สอบถาม|ครับ|', '|29000|', '|95|', '|krungsri|', '|ตอนนี้|พอจะ|ผ่อน|เลย|วางเงิน|นิ่ง|ๆ|', '|ไป|เข้า|', '|แอป|ฯ|', '|เซ็ง|มากๆ|', '|ไม่ทราบ|ว่า|', '|0.01|', '|อันนี้|ก็|แล้วแต่|', '|แล้ว|ไม่มี|', '|เพื่อน|ๆ|', '|honda|', '|อย่าง|', '|จะ|ผ่าน|', '|บาท|แล้ว|', '|ทั้ง|คนอื่นๆ|', '|199|', '|แต่|ไม่|เกิน|', '|เสียความรู้สึก|มาก|', '|ดัน|ใช้ไม่ได้', '|นาน|มากๆ|', '|โอนเงิน|ออกจาก|บัญชี|เรา|เอง|', '|ว่า|', 'เรา|สมัคร|', '|จ่าย|', '|scb|.', '|ซึ่ง|สถานการณ์|ตอนนี้|ก็|คือ|ไม่|อยาก|ออกไป|ไหน|เลย|', '|2300|', '|7000|', '|ใช้|', '|สงสัย|ว่า|', '|สวัสดี|ครับ|', 'pin|', '|ช่วง|เดือน|', '|ผ่าน|บัตร|', '|netbank|', '|เดี๋ยว|นะ|', '|ก็|ไม่|ผ่าน|', '|pvd|', '|ก็|คือ|การทำ|ธุรกรรมออนไลน์|ผ่าน|ค|อม|ผ่าน|เวป|', '|อ๋อ|', '|อ่ะ|ค่ะ|', '|kbank_wisdom|', '|atm-|', '|2.49|', '|หน่อย|ค่ะ', '|t|', '|ลงทุน|', '|มั้ง|', '|5|-|6|', '|ง|อง|', '|23000|', '|เรา|ชนะ|', '|ไป|ธนาคาร|', '|วัน|นะคะ|', '|10.2|', '|ชม.|', '|บริการ|', '|ของ|ธนาคาร|', '|เป็นสมาชิก|', '|kbank|เอาเปรียบ|บ|ลิงค์|', '|มาถึง|', '|call_center|', '|ครั้งแรก|', '|2500|', '|ก.ค.|', '|สะดวกมาก|', 'พี่|ที่|ธนาคารกรุงไทย|ใจ|ดีมาก|', '|บ|', '|อ|ห|', '|แต่|ยัง|ไม่|เข้า|', '|เติม|ผ่าน|', '|ทำไง|ได้|บ้าง|คะ|', '|เยน|', 'รบกวน|สอบถาม|', '|ใช้ง่าย|', '|ทำไง|ครับ|', '|พัน|', '|35000|', '|แทน|', '|เสีย|ค่าธรรมเนียม|อีก|', '|รอบ|แล้ว|ค่ะ|', '|2750|', '|โคตร|กาก', '|ครั้ง', 'โอ้|ย|', '|ต้นๆ|', '|สาขา|ใน|สนามบิน|สุวรรณ|ภูมิ|', '|โทร|ติดต่อ|ยากมาก|', '|link|', '|เวลา|ประมาณ|', '|บาท|ใน|', '|เข้าบัญชี|', '|ทั้ง|เรา|', '|ทั้งที่|มี|', '|เวลา|', '|เจ้า|', '|เมลล์|', '|นะ|ครับ', '|ธนาคาร|kbank|', '|speedy_loan|', '|friendtag|', '|jp|', '|ไหม|ครับ|', '|ไม่|ช่วย|อะไร|เลย|', '_carestatus|', '|ต้อง|', '|คน|ทำคนเดียว|กัน|เหรอ|', '|10.00|', '|แอป|ล่ม|หรอ|', '|1.6|', 'สมัคร|บัตร|', 'ใช่|ครับ|', '|จะ|ร้องไห้', '|ก็|ยัง|ไม่|เข้า|', '|ไป|ครับ|', '|จนถึง|ตอนนี้|', '|mou|', '|32300|', '|สรุป|คือ|', '|ยอด|ไม่|เข้า|', '|เจ้าหน้าที่|เต็ม|ทุก|คู่สาย|', '|โอน|เงินเข้า|', '|ครึ่ง|ชั่วโมง|', '|จน|วัน|ที่', '|80|', '|2557|', '|เซ็ง|มาก|', '4|363|', '|bankingmobile|', '|4|', '|ใช้เวลา|', '|เปิด|พร้อมกัน|', '|ก็|สามารถ|', '|อยาก|ทำ|บัตร|', '|แบบ|ใช้|', '|จน|ตอนนี้|วัน|ที่', '|dtac|', 'mymo|', '|ฆ|ษ|ณ|', 'ทำ|', '|investment|', '|ตู้', '|ไม่|ผ่าน|เกณฑ์|', '|หักเงิน|ใน|บัญชี|ไป|แล้ว|', '|กุ|มีปัญหา|กับ|ไลน์|แมน|อีก|', '|8|-|9|', '|คือ|ยังไง|', 'เปิดบัญชี|', '|แม่|ม|มา|ทำงาน|กัน|บ้าง|เปล่า|วะ|', 'เรา|ชนะ|', '|t_t|', '|ปี', '|ธนาคาร|ต้นทาง|ของ|เคส|เรา|', '|เลย|ค่ะ', '|จน|ต้อง|ถ่อ|ไปถึง|โร|บิน|สัน|เอง|', '|ไม่มี|ประวัติ|จ่าย|ช้า|ของ|ใบ|นี้|ครับ', '|ลอง|ดูๆ|', '|บาท|ต่อ|เดือน|', '|วัน|ครับ|', '|คนละ|ครึ่ง', '|หรือ|ป่าว', '|กว่า|บาท|', '|หรือยัง|คะ|', '|ssf|', '|วัน|ทำการ|', '|infinite|', '|ใคร|รู้|บอก|หน่อย|นะคะ|', '|18|', '|การ|ขอ|เพิ่มวงเงินถาวร|', 'tao|', '|ต้อง|จ่าย|', '|ประเทศไทย|', '|รอ|นาน|ที่สุด|คือ|', '|ได้คืน|', '|นะ|', '|start|', '|เร็วมาก|', '|จนถึง|บัดนี้|', '|แล้วก็|ส่งจดหมาย|แจ้ง|ว่า|', '|บ้าง', '|plus|', '|ประกันชีวิต|', '|airline|', '|เรื่อง|แอป|', 'บัตรเครดิต|', 'และ|', '|หัก|ต้น|ไป|แค่|เดือน|ละ|', '|แต่|เงิน|ไม่|เข้า|ครับ|', '|ก็|มา|', '|พี่|ๆ|', '|ขอบคุณ|มาก|ค่ะ', '|buntoshi|', '|ไป|อยู่|ใน|', '|hack|', '|offer|', '|ในกรณีที่|', '|ก็|แล้ว|', '|ผม|เลือก|', '|กะ|', '|journey|', '|ของ|bay|', '|สำเนา|บัตร|', '|tmb_all_free|', '|ธนาคาร|ค.|', '22|1163|', '|โอน|เมื่อวาน|ตอน|', '|แอป|เป๋า|ตังค์|', '|ต่อ|ปี', '|ไม่ได้|ครับ|', '|59|', '|ออ|ป|โป|', '|กรุงไทย|', '|49|', '3|1|', '|ยู|เมะ|', '|ไม่ใช่|', '|เน็ต|', '|ไม่|ใช้|เงิน|จนกว่า|จะ|เก็บ|ถึง|เป้า|', '|due|', '|ล่าสุด|', '|password|', '|ขอบคุณ|ล่วงหน้า|นะคะ|', '|บาท|วันนี้|', '|t-t', '|planet|', '|สรุปว่า|', '|ใช้เวลา|กี่|วัน|ครับ|', '|gs|', '|ท|รู|มูฟ|หรอ|', '|สุดท้าย|คุณ|ก็|หยอด|จน|เต็ม|', '|ตอน|', '|กำไร|', '|ต่างประเทศ|', '|รอ|ดู|', '|หรือ|ยังไง|', '|ขอบคุณ|ค่ะ|', '|alert|', 'วันนี้|แอป|', 'ขออนุญาต|สอบถาม|ค่ะ|', '|หรอ|', '|แต่|ทั้ง', '|เวลา|ติดต่อ|', '|ได้|ไหม|คะ', '|ขนาด|', '|บลจ|', '|ขึ้นมา|', '|ถ้า|เปิด|', 'สอบถาม|หน่อย|ครับ|', 'โอ้|', '|อะ|', '|คุณ|', '|4500|', '|pantip|', '|187|', '|แต่|จริงๆ|', '|6|-|7|', '|planetscb|', '2|', '|เม.ย.|', '|แม่|ง|', '|หุ้น|ไทย|', '|0.5|', '|พอ|กุ|ลบ|โลด|ใหม่|', '|โทร|มา|แจ้ง|ยอด|ชำระ|ค่างวดรถ|วัน|ละ|', '|มา|ครับ|', '|เลือก|', 'เติมเงิน|ผิด|เบอร์|ค่ะ|', '|เลิก|ใช้|', '|แง', '|foodpanda|', 'เซ็ง|', 'มือถือ|จีน|', '|ktbnext|', '|เป็น|งง|', '1.|', '|เม.ย|', '|11100|', '|จะ|แลกเงิน|อ่า|', '|ลงท้าย|', '|8|', '|กด|', '|พี่|', '|เป๋า|ตัง', 'chanathammakhon|', '|ไม่ดี|', 'เจ้าหน้าที่|', '|แล้ว|ค่ะ', '|เงินเข้า|ทันที|', '|ไม่มี|บัตรเครดิต|', '|mastercard|', '|ธนาคาร|ล่ม|', '|ณ', '|12.00|', '|เรา|ไม่|ทิ้ง|กัน', '|แล้ว|อย่างนี้|เรา|จะต้อง|ไป|ติดต่อ|ที่ไหน|ดี|คะ', '|digital|', '|เลิก|ใช้|วอ|เลท', '|tablet|', '|ออกมา|', '|มา|เป็น|', '|650|', '|gift|', '|หมายเลข|อ้างอิง|', '|sale|', '|ต้อง|เปิดบัญชี|', '|เลย|นะ|', '|แต่|ใช้ไม่ได้|', '|ไม่ได้|สักที|', '|mrr|', 'ที่|สำคัญ|', 'บัตร|', '|ต้อง|ทำ|อย่างไร|', 'สอบถาม|คะ|', '|ก่อน', '|แต่|ทาง|ต้นทาง|', '|ของ|', '|ตัด|ไป|', '|pttep|', '3|', '|แก้ไข|', 'callcenter|', '|แย่|แย่|แย่', '|เซ็ง|', '27|', '|กับ|', '|จะ|ใช้|', '|มัน|', '|support|', '|เรา|ยัง|ไม่ได้|ข้อความ|เหมือนกัน|ค่ะ|', '|490|', '|takashimaya|', 'บัตรเดบิต|', '|ยัง|', '|ลบ|', 'mobile|', '|โดน|', '|failed|', '|ค|ห|', '|free|', '|ทำ|', '|แพลทินัม|', '|แล้ว|ลง|ใหม่|', '|เดือน|แล้ว|ค่ะ|', '|ที่|บริษัท|', '|ยัง|ไม่|เข้า|เลย', '|ทั้ง|แอป|', '|barcode|', '|reset|', '|ชื่อบัญชี|', '|มี|เยอะ|แล้ว|', '|smebank|', 'เมื่อ|วัน|ที่', '|one|', '|ไม่|ผ่าน|', '|28|', '|ทุ่ม|ของ|มึง|เนี่ย|เหมือนกัน|เลย|จ๊ะ|', '|รวม|ๆ|', '|reference|', '|วอ|เลต|', '|ดอกเบี้ย|', '|ตลอด', '|คิว|', '|ทาง|', '|บ.|', '11|', '|โค|วิด|', '|twitter|', '|ต้อง|ทำ|ยังไง|คะ|', '|ขอบคุณ|คับ', '|โอน|วัน|ที่', 'ช่วงนี้|', '|ไม่|หยิบ|เงิน|ออกจาก|ตู้|', '|k-usa-ad|', '|เปลี่ยน|', '|b|', '|2130|', '|ไม่ติด|บู|โร|', '|2|xxxx|', '|เป็นมา|', '|บริษัท|', '|แล้ว|ค่ะ|', '|gbp|', 'หุ้น|', '|ไม่ได้|ค่ะ|', '|พิจารณา|', '|kplus|', '|กู้|', '|พอดี|', '|23|', '|ของ|ตัวเอง|', '|society|', '|cdm|', 'นาๆ|', '|เรียบร้อยแล้ว|', '|cp|', 'โทร|', '|loan|', '|trip|', '|shanghai|', '|300|', '|คะ', '|ต่อ|', '|ต่างๆ|', '|กับ|กรุงไทย|', '|มี|เอกสาร|', 'ควย|', '|19.35|', '|ท|รู|มูฟ|', '|atm', '|กด|โอนเงิน|', '|ครั้ง|', 'รอสาย|', 'ผม|สงสัย|ว่า|', '|ที่|เป็น|', '5|', 'ตู้|', '|หรอ|ครับ|', 'แอป|', '|ถาม|จริง|', '|ใดๆ|', '|เข้า|ใช้งาน|', '|ถ่าย|บัตร|', '|banks|', '|platinum|', '|e-statement|', '|1.5|', 'พอ|', '|15|', '|2545|', '|ป|', '|ktb_travel_card|', '|ขอความช่วยเหลือ|', '|พอร์ต|', '|ชอบ|', '|ตอน|เปิดบัญชี|', '|โอน|เข้า|กรุงไทย|', '|statement|', '|แอ|ฟ|', '22|', '|เป็นต้นไป|', '|ธนาคาร|ไหน|', '|27000|', '|เรียบร้อย|', '|debit|', '|ฮา|ๆ|', '|ก็|คือ|', '|เจ้าหน้าที่|โทร|มา|ทวง|ค่าบริการ|ชำระ|', '|เยอะมาก|', '|ดี|นะ|', '|จะ|ยกเลิก|สิทธิ์|', '|prime|', '|ถึง|', '|ต้อง|รอ|', '|ของ|ระบบ|', '|23163|', '|มี|ประวัติ|ล่าช้า|', '|number|', '|แจ้ง|ว่า|', '|ไม่มีเงิน|แล้ว|', '|ครั้ง|ที่', '|cap|', '|rate|', '|โบนัส|', '|โทร|ไป|คอลเซนเตอร์|', '|17|-|01|-|2563|', '|สามารถ|จ่าย|ผ่าน|', '|นานมาก|', '|41000|', '|qr|', '|บ|ลา|', '|5', '|5000|', '|ธนาคารไทยพาณิชย์|', '|simple|', '|มา|ใหม่|', 'เติมเงิน|ผ่าน|แอป|', '|แม้แต่|บัตร|', '|จน|บัดนี้|', '|ยัง|ไม่|เข้า|เลย|ครับ', '|ไป|ทำ|ที่|ตู้', '|ชั่วโมง|', '|มายัง|', '|tt|', '|ธ|', '|verified|', '|แต่|ไม่มี|สมุดบัญชี|', '|ผม|', '|ไหน|ๆ|', '|เดือน|แรก|', '|จบ', '|ตัวอย่าง|', 'ทำ|ประกัน|', '|รอ|ประ|มาน|ครึ่ง|ชม.|', '|บริษัทหลักทรัพย์จัดการกองทุนรวมจำกัด|', '|citibank', '|18000|', '|noti|', '|มาก|', '|ครับ', '|ได้|ไหม|', '|วัน|ที่', '|citi_ready|', '|อยาก|ร้องไห้|', '|1300|', '|ตาม|นี้|ครับ|', '|จนถึง|วันนี้|', '|ใช้งาน|ไม่ได้|', '|สอง|ล้าน|', '|คำ|ว่า|', '|gmarket|', '|shop|', '|ลุ้น|', '|android|', '|190|', '|ยัง|ไม่ได้|', '|เส้า', '|ทำไง|ครับ', '|ขออนุญาต|ถาม|หน่อย|ได้|ไหม|คะ|', '|เป็นต้น|', '|เซ|ง|', '|เมื่อก่อน|', '|เงินเดือน|ผม|', '|precious|', '|ปี|แล้ว|ครับ|', '|เพชร|บุรี|', '|ฐาน|เงินเดือน|', '|1315|', 'ขอบ|สอบถาม|หน่อย|ค่ะ|', '|เพราะ|บัตร|กรุงไทย|ตัวต้นเหตุ|เลย|', '|ไม่มีภาระ|หนี้สิน|', '23|', '|แต่|ไม่แน่ใจ|ว่า|', '|xx|', '|ขอความกรุณา|', '|แต่|ภาพ|ไม่|ใช้|', '|เข้าใจ|ว่า|', '|home|', '|มัน|มี|', '|23.48|', '|พ|น.|', '|อยากจะ|ผ่อน|คอน|โด|ราคา|', '|ซื้อได้|จนถึง|', '|ซื้อของ|', '|วัน|', '|ดี|ไหม|', '|ต้อง|ใช้|อะไรบ้าง|', '|คอลเซนเตอร์|', '|money|', 'เป็น|ลูกค้า|', '|หลักๆ|', '|ค่า|เทอม|', '|unlock|', '|ที่ผูก|ไว้|', 'กู้เงิน|กับ|', '|ล่ม|หรอ|', '|ขอโทษ|ค่ะ|', '|post|', '|ขึ้นไป|', '|cc|', '|แต่|ยอดเงิน|ไม่|เข้าบัญชี|ปลายทาง|', '|back|', '|161|', '|tmrw|', '|เหลือ|', '|ธรรมดา|', '|สมาร์ท|', '|ทวง|แทน|', '|รอคิว|', '|รบกวน|ด้วย|นะคะ|', '|the|', '|ด้วย|ครับ|', '|ค้าง|', '|นามสกุล|', '|wallet|', '|จะ|บ้า|ตาย', 'kept|', '|ได้|ไหม|ครับ', 'กรุงเทพ|', '|map|', '|ของ|ไทยพาณิชย์|', '|จน|เรา|ติดต่อ|เข้าไป|เป็น|ครั้ง|ที่', '|ก็|เป็นส่วนหนึ่ง|ครับ', 'งง|มาก|', '|ป|ช|ช|.|', '|มีนาคม|', '|เมื่อ|วัน|ที่', '|รอบ|ละ|', '|ต้อง|ทำ|ยังไง|', '|ems|', '|ข้อมูล|บัญชี|หาย|ใคร|เป็น|บ้าง|ครับ|', '|ต|ค.|', '|งวด|ที่', '|ของ|ทุกเดือน|', '|02|', '|ผม|ก็|', '|อิ|', '|แล้ว|เงิน|ไม่|เข้า|', 'ของ|ผม|', '|ats|', '|2.78|', '|ครั้ง|ตอนนั้น|', '|ดีกว่า|', '|แล้ว|ใช้|', '|พอ|มี|โครงการ|พัก|หนี้|', '|สินเชื่อ|', '|เขา|บอก|ว่า|', 'ระบบ|', '|10.30|', '|ระบบ|เป็น|อะไร|ครับ|', '|ทำไง|ดี|คะ', '|streaming|', '|74|', '|งง', '|และ|ให้|เรา|ยืนยัน|ตัวตน|', '|ติดต่อ|ยากมาก|', '|อยากได้|', '|ๆ|คะ', '|ตัดยอด|ทันที|', '|รับ|', '|อยู่ดีๆ|', '|20.00|', '45|', '|เสียเวลา', '|ถัดไป|', '|เข้า|ทุกเดือน|ไม่ค่อย|มีเงิน|นิ่ง|ๆ|', '|หายไป|ไหน|', '|โทร|เข้า|', '|สอบถาม|นิดนึง|ค่ะ|', 'เจ้าของ|กระทู้|', 'ghb|', '|โยน|กัน|ไป|โยน|กัน|มา|', '|ดู|สรุป|ยอด|ซื้อ|', '|เปลี่ยนเป็น|เบอร์|', '|งวด|แรก|', '|citibankgold|', '|โอนเงิน|ผิด|บัญชี|', '|จาก|ต่างประเทศ|', 'รบกวน|สอบถาม|หน่อย|ครับ|', 'ขอ|สอบถาม|หน่อย|ค่ะ|', '|kfc|', '|จ่าย|รายเดือน|', '|kbankxblackpink', 'เปิด|', '|ใช้จ่าย|', '|g|', '|easy|', '|bls|', '|แอป|ค้าง|', '|เท่า|', '15|', '|scb_m_luxe|', '|830|', '|เครดิต|', '|หนี้|', '|อันนี้|ไม่|รู้ว่า|สรุป|เป็น|ยังไง|บ้าง|', '|เงิน|หัก|จาก|บัญชีธนาคาร|แล้วแต่|ยอด|ใน|แอป|เป๋า|ตัง|ยัง|เป็น|', '|แต่|เงิน|ยัง|ไม่|เข้า|', '_', '|app|', '|ฉะนั้น|', '|rmf|', '|ต่างจังหวัด|', '|แต่|เจ้าหน้าที่|', '|แล้ว|อยู่|ๆ|', '|ดอน|เมือง|', 'ใน|', '|tt', 'cigna|', '|ไว้|ไหม|คะ|', '|ไม่|แจ้ง|', '|เข้า|พร้อมเพย์|กรุงไทย|', '|เซ็ง|มาก', '|scb|ค่ะ|', '|เป๊ก|ผลิต|โชค', '|เบอร์|ถูก|', '|13.30|', 'รบกวน|สอบถาม|ครับ|', 'เรา|ใช้|', '|operator|', '|1600|', '|ไม่ต้อง|ผูก|ใหม่|', '|ktc_jcb|', '|k-esaving|', '|ใคร|เข้าระบบ|ได้|มั่ง|ครับ|', '|scb', '|เหลือ|ง|', '|ง่าย|ดี|', '|เรา|ชนะ', '|10.28|', '|109|', '|wisdom|', '|พนักงาน|แจ้ง|ว่า|จำนวน|ครั้ง|ที่|เข้า|จะ|นับ|ครั้ง|ตาม|การสรุป|ยอด|เข้า|บ|ช|', '|จริงๆ', '|got|7|', '|กด|ไป|', '|วัน|ทำการ|ครับ|', '|โทร|ไป|', '|10|k|', '|รอ|ไป|', '|คือ|ไร|อ่ะ', '|หรือไม่ก็|อัน|ที่|เทียบเคียง|คับ|', '|ขอบคุณ|ครับ|', '|ต้อง|ทำไง|', '|โอนเงิน|จาก|ธนาคาร|', '|ทุกครั้ง|', '|สมัคร|บัตรเครดิต|', '|class|', '|อิอิ|', '|badservice', '|แล้ว|ต้อง|ทำ|อะไรบ้าง|', 'ออกๆ|', '|ไม่|ระบุ|แบบ|', '|บัตร|', '|ผ่าน|มา|เกือบ|', '|23|xxx|', '|อีกครั้ง|', '|มาก', '|ผ่าน|ทาง|', '|ขอคำแนะนำ|หน่อย|ค่ะ', 'scb|', '|ก็|ต้อง|มี|ระยะ|รอคอย|', '|ขอโทษ|นะคะ|', 'อ้าว|', '|เพราะอะไร|', '|กับ|ไทยพาณิชย์|', '|แล้ว|เรา|ลงทะเบียน|ไป|วัน|ที่', 'ไหน|ๆ|', '|ม|ค|', '|savings|', '|หรอ|คะ|', 'atm|', '|ตอนนี้|เหลือ|', '|cr|.|', '|แลก|', '|10.32.0|', '|me|', '|wow|', '|e-mail|', '|the|1|', '|ชื่อ|', '|แต่|ตอนนี้|', '|kbank|ไป|', '|399|', '|ไป|แจ้งความ|', '|ธันวาคม|', '|browser|', '|ป่า|รอยต่อ|', '|โค|วิค|', '|verify|', '|โอนเงิน|ไม่ได้|', '|โยน|ไป|', '|มกราคม|', '|ง|อง|มาก', '|น', '|privilege|', '|ไม่เข้าใจ|ว่า|', '|vs|', '|โอน|ไม่ได้|', '|0|', '|customer|', '|ใน|แอป|', '|ก่อนหน้านี้|', '|scbeasy|', 'หนี้|', '|ttb|', 'โอนเงิน|วัน|ที่', '|cash|', '|ขออภัย|', '|ก็|ไม่มี|ยอด', '|รีวิว|เกาหลี', '|100|', 'scb_first|', '|error|', '|feedback|', '|swift|', '|ขออภัย|ค่ะ|', '|payment|', '|iphone|', 'เรียน|', '|ทุก|ช่องทาง|', '|ไลน์|', '|ยัง|ไม่มีใคร|ติดต่อ|กลับมา|', '|ตู้|', '|3.5|', '|internet|', 'โทร|ไปหา|', '|ไปที่|ตู้', '|เลขบัญชี|', '|90000|', 'โป|ร|บัตร|', '|เรา|ควร|ทำ|ยังไง|', '|ฉัน|', '|ขอบคุณ|คะ', 'สอบถาม|ธนาคาร|', '25|', '|แต่|บัญชี|ปลายทาง|ไม่ได้|รับเงิน|', 'โทร|หา|', '|6896|', '|เงินงวด|', '|scb_mlive|', '|10|m|', '|saving|', '|เป็นไร|อะ|', '|ไม่|เสีย|', '|นี่|โอน|จาก|', '|ด|', '|2563|', '|เป๋า|ตังค์|', '|ที่|ชำระเงิน|', '|พอๆ|', '|อยาก|สอบถาม|ว่า|', '|63', '|2561|', '|พนักงาน|ชาย|', '|แน่นอน', '|เช็ค|สถานะ|', '|งวด|', '|วัน|แล้ว', '|อายัด|บัตร|', '|เป็น|จำนวนเงิน|', '|ค่า|บ้าน|', '|scb_my_travel|', '|ของ|บัญชี|', '|เรา|ก็|ไม่สามารถ|ใช้|', '|k-bank|', '|โอเค|', '|ref|.|1|', '|เป็น|ไฟแนนซ์|ไทยพาณิชย์|ก่อนหน้านี้|', '|บ้าง|ครับ|', '|แต่|ทาง|', '|ล่ม|บ่อย|มาก|', '|ๆ|', '|account|', '|callcenter|', '|คน|ไม่|เยอะ|', '|uid|', '|ปันผล|', '|ดี', 'เข้า|', '|แย่|มากๆ|', '|รบกวน|', '|โดน|หัก|ไป|', '|ของ|วันพรุ่งนี้|', '|ต่อ|ปี|', '|หมดความอดทน|', 'ผม|', '|ควย|', '|ไม่รู้|จะ|ทำไง|แล้ว|', '|70|', '|ลอง|ไป|ศึกษา|ดูก่อน|', '|ไม่|', '|safari|', '|tmb_absolute|', '|รวมทั้งสิ้น|', '|แลกเงิน|ตาม|โป|ร|', '|sms|', '|busayarat|', '|แต่|พอกด|สมัคร|ไป|แล้ว|', '|ปี|ครับ', '|โบราณ|จะ|ตาย|ชัก|', '|ยอด|', 'มี|บัตร|', 'ไป|', '|เมษายน|', '|จำนวนเงิน|', '|booking|', '|ต้อง|ยืนยัน|', '|091|', '|กัน|', '|ก็|เป็น|', '|แล้ว|รอ|', '|หน่อย', '|a-mobile|', '|เสียความรู้สึก|มาก', '|ตาม|รูป|', 'kbank|', '|g-walle|', '|ปลายทาง|kbank|', '|เกือบ|', '|ไม่ทราบ|ว่า|จะ|ผ่าน|ไหม|คะ|', '|15.30|', '|สู้|', '|ตก|', '|นึกคิด|', '|วัน|ๆ|', '|แต่|ไม่ใช่|บัญชี|หลัก|', '|ยอดเงิน|ไม่|เข้า|', '|ก็|ใช้ได้|ปกติ|ครับ|', '|2564|', 'ป|ล|', '|ไม่สนใจ|', '|kbankxblackpinkfanmeeting', '|ของ|บัญชีธนาคาร|นิติบุคคล|ที่|ปิด|ไป|แล้ว|ต้อง|ทำ|อย่างไรบ้าง|คะ|', '|รีวอร์ด|', '|เร็วๆ', '|ธนาคารกรุงไทย', '|ดูๆ|', 'ทาง|', '|ตาม|หัวข้อ|เลย|ค่ะ|', '|มา|', '|transection|', '|ลูกค้า|โอน|จาก|', '|บิ๊ก|ซี|', '|ตัดเงิน|ใน|บัญชี|แล้ว|', 'รี|ล่า|', '|cash', '|ทุน|', '|เฟิร์ส|ช้อย|', '|เชียงใหม่|', '|โทร|เช็ค|กับ|ธนาคารกรุงไทย|ชัว|กว่า|ค่ะ|', '|station|', '|ต่าง|สาขา|', '|แย่|จริงๆ|', '|steam|'}\n"
          ]
        }
      ]
    },
    {
      "cell_type": "code",
      "source": [
        "#Turn Series into lists\n",
        "train_docs = train['Text_ws_local'].tolist()\n",
        "test_docs = test['Text_ws_local'].tolist()"
      ],
      "metadata": {
        "id": "IqgqeKFll7ti"
      },
      "execution_count": 10,
      "outputs": []
    },
    {
      "cell_type": "code",
      "source": [
        "from keras.preprocessing.text import Tokenizer\n",
        "from keras_preprocessing.sequence import pad_sequences\n",
        "\n",
        "tokenizer = Tokenizer()\n",
        "#one hot-enconding for the text like > https://stackoverflow.com/questions/69026891/what-is-keras-tokenizer-fit-on-texts-doing\n",
        "tokenizer.fit_on_texts(train_docs)\n",
        "encoded_docs = tokenizer.texts_to_sequences(train_docs)"
      ],
      "metadata": {
        "id": "A7Hp-D9ijQgZ"
      },
      "execution_count": 11,
      "outputs": []
    },
    {
      "cell_type": "code",
      "source": [
        "#Find the most max lengths of word in verbatims from both train and test\n",
        "max_length_train = max([len(s.split()) for s in train_docs])\n",
        "max_length_test  = max([len(s.split()) for s in test_docs])\n",
        "max_length = max([max_length_train, max_length_test])\n",
        "print(\"Max Length of Words: \", max_length)\n",
        "\n",
        "#Padding in order to equalize some verbatims that do not contain the same length of the max length verbatim\n",
        "Xtrain = pad_sequences(encoded_docs, maxlen=max_length, padding='post')\n",
        "#define the labels\n",
        "ytrain = np.array(train['Human_CategoryID'].tolist())"
      ],
      "metadata": {
        "id": "R7JbQ0qZmf0D",
        "colab": {
          "base_uri": "https://localhost:8080/"
        },
        "outputId": "40849bcd-0f89-46b6-f1bf-2d01a89789d0"
      },
      "execution_count": 12,
      "outputs": [
        {
          "output_type": "stream",
          "name": "stdout",
          "text": [
            "Max Length of Words:  66\n"
          ]
        }
      ]
    },
    {
      "cell_type": "code",
      "source": [
        "#Do the same for the test set\n",
        "encoded_docs_test = tokenizer.texts_to_sequences(test_docs)\n",
        "\n",
        "Xtest = pad_sequences(encoded_docs_test, maxlen=max_length)\n",
        "ytest = np.array(test['Human_CategoryID'].tolist())"
      ],
      "metadata": {
        "id": "oHTspdkypLeF"
      },
      "execution_count": 13,
      "outputs": []
    },
    {
      "cell_type": "code",
      "source": [
        "#Count unique classes\n",
        "print(train['Human_CategoryID'].nunique(), test['Human_CategoryID'].nunique())"
      ],
      "metadata": {
        "colab": {
          "base_uri": "https://localhost:8080/"
        },
        "id": "ILLDKYp3MX65",
        "outputId": "cf3b13cf-2812-41f9-f36a-429eb134bd00"
      },
      "execution_count": 14,
      "outputs": [
        {
          "output_type": "stream",
          "name": "stdout",
          "text": [
            "13 12\n"
          ]
        }
      ]
    },
    {
      "cell_type": "code",
      "source": [
        "#Count unique classes\n",
        "num_classes = max(train['Human_CategoryID'].nunique(), test['Human_CategoryID'].nunique())\n",
        "print(num_classes)"
      ],
      "metadata": {
        "colab": {
          "base_uri": "https://localhost:8080/"
        },
        "id": "VQcD2gdpNwkg",
        "outputId": "7e59ab08-a8eb-4d09-dbe8-7382712f50de"
      },
      "execution_count": 15,
      "outputs": [
        {
          "output_type": "stream",
          "name": "stdout",
          "text": [
            "13\n"
          ]
        }
      ]
    },
    {
      "cell_type": "code",
      "source": [
        "from tensorflow.keras.utils import to_categorical\n",
        "\n",
        "#Multi class problems need one-hot encoding on y\n",
        "#why - 1 on ytrain and ytest? can follow the linke below\n",
        "#https://stackoverflow.com/questions/56204731/the-method-np-utils-to-categorical-give-me-an-error/59002957#59002957\n",
        "ytrain =  to_categorical(ytrain-1, num_classes=num_classes)\n",
        "ytest = to_categorical(ytest-1, num_classes=num_classes)"
      ],
      "metadata": {
        "id": "BWTwtb6tLUBE"
      },
      "execution_count": 16,
      "outputs": []
    },
    {
      "cell_type": "code",
      "source": [
        "vocab_size = len(tokenizer.word_index)+1"
      ],
      "metadata": {
        "id": "lvFEpT6zp8YY"
      },
      "execution_count": 17,
      "outputs": []
    },
    {
      "cell_type": "markdown",
      "source": [
        "#model"
      ],
      "metadata": {
        "id": "8l51AxTXW96K"
      }
    },
    {
      "cell_type": "markdown",
      "source": [
        "##CNN1 MP1D F D256 DO0.25 D13: 24-25"
      ],
      "metadata": {
        "id": "hiGb5p29sWHt"
      }
    },
    {
      "cell_type": "code",
      "source": [
        "from keras.layers import Dense, Flatten, Embedding, BatchNormalization, Dropout\n",
        "from keras.models import Sequential\n",
        "from keras.layers.convolutional import Conv1D, MaxPooling1D"
      ],
      "metadata": {
        "id": "huOisC8Ysz-r"
      },
      "execution_count": 18,
      "outputs": []
    },
    {
      "cell_type": "code",
      "source": [
        "#Define our model\n",
        "model = Sequential()\n",
        "\n",
        "model.add(Embedding(vocab_size, 50, input_length=max_length, trainable=True))\n",
        "model.add(Conv1D(filters=32, kernel_size=3, activation='relu'))\n",
        "model.add(MaxPooling1D())\n",
        "#MaxPool1D: pool_size=2: 28\n",
        "#MaxPool1D: pool_size = 2, strides = 2: 24.421594\n",
        "#MaxPool1D(): w/o specification: 26-30\n",
        "\n",
        "model.add(Flatten())\n",
        "model.add(Dense(256, activation='relu'))\n",
        "model.add(Dropout(0.25))\n",
        "\n",
        "model.add(Dense(num_classes, activation='softmax'))\n",
        "print(model.summary())"
      ],
      "metadata": {
        "id": "Ify0PvZ3sWzS",
        "colab": {
          "base_uri": "https://localhost:8080/"
        },
        "outputId": "dd4180ba-f995-407f-a661-3e6ae14dd0e9"
      },
      "execution_count": 19,
      "outputs": [
        {
          "output_type": "stream",
          "name": "stdout",
          "text": [
            "Model: \"sequential\"\n",
            "_________________________________________________________________\n",
            " Layer (type)                Output Shape              Param #   \n",
            "=================================================================\n",
            " embedding (Embedding)       (None, 66, 50)            630450    \n",
            "                                                                 \n",
            " conv1d (Conv1D)             (None, 64, 32)            4832      \n",
            "                                                                 \n",
            " max_pooling1d (MaxPooling1D  (None, 32, 32)           0         \n",
            " )                                                               \n",
            "                                                                 \n",
            " flatten (Flatten)           (None, 1024)              0         \n",
            "                                                                 \n",
            " dense (Dense)               (None, 256)               262400    \n",
            "                                                                 \n",
            " dropout (Dropout)           (None, 256)               0         \n",
            "                                                                 \n",
            " dense_1 (Dense)             (None, 13)                3341      \n",
            "                                                                 \n",
            "=================================================================\n",
            "Total params: 901,023\n",
            "Trainable params: 901,023\n",
            "Non-trainable params: 0\n",
            "_________________________________________________________________\n",
            "None\n"
          ]
        }
      ]
    },
    {
      "cell_type": "code",
      "source": [
        "from tensorflow.keras.callbacks import EarlyStopping\n",
        "\n",
        "#put early stopping\n",
        "early_stopping = EarlyStopping(monitor='val_loss', patience=1, mode='min')\n",
        "\n",
        "#Your choices of activation='softmax' in the last layer and compile choice of loss='categorical_crossentropy' \n",
        "#are good for a model to predict multiple mutually-exclusive classes.\n",
        "\n",
        "model.compile(loss='categorical_crossentropy',\n",
        "              optimizer='adam', \n",
        "              metrics=['acc'],)"
      ],
      "metadata": {
        "id": "_VV7d6eRf_AD"
      },
      "execution_count": 20,
      "outputs": []
    },
    {
      "cell_type": "code",
      "source": [
        "#Try classweight from this https://datascience.stackexchange.com/questions/13490/how-to-set-class-weights-for-imbalanced-classes-in-keras\n",
        "\n",
        "history = model.fit(Xtrain, ytrain, \n",
        "                    epochs=10, batch_size=64, \n",
        "                    validation_split=0.2,\n",
        "                    callbacks=[early_stopping])"
      ],
      "metadata": {
        "colab": {
          "base_uri": "https://localhost:8080/"
        },
        "id": "KKmAGyKqECUx",
        "outputId": "6a9bf21c-daaa-45a9-edb6-0f95bc997f58"
      },
      "execution_count": 21,
      "outputs": [
        {
          "output_type": "stream",
          "name": "stdout",
          "text": [
            "Epoch 1/10\n",
            "152/152 [==============================] - 2s 9ms/step - loss: 1.8999 - acc: 0.3620 - val_loss: 1.5850 - val_acc: 0.4695\n",
            "Epoch 2/10\n",
            "152/152 [==============================] - 1s 7ms/step - loss: 1.4251 - acc: 0.5426 - val_loss: 1.3539 - val_acc: 0.5605\n",
            "Epoch 3/10\n",
            "152/152 [==============================] - 1s 7ms/step - loss: 1.0414 - acc: 0.6805 - val_loss: 1.3298 - val_acc: 0.5860\n",
            "Epoch 4/10\n",
            "152/152 [==============================] - 1s 7ms/step - loss: 0.7435 - acc: 0.7690 - val_loss: 1.4171 - val_acc: 0.5893\n"
          ]
        }
      ]
    },
    {
      "cell_type": "code",
      "source": [
        "history_frame = pd.DataFrame(history.history)\n",
        "history_frame.loc[:, ['loss', 'val_loss']].plot()"
      ],
      "metadata": {
        "colab": {
          "base_uri": "https://localhost:8080/",
          "height": 283
        },
        "id": "5hrmrMCmUjh2",
        "outputId": "f0bc94ab-e242-4dc7-a75a-d22fe6e83dca"
      },
      "execution_count": 22,
      "outputs": [
        {
          "output_type": "execute_result",
          "data": {
            "text/plain": [
              "<matplotlib.axes._subplots.AxesSubplot at 0x7fe56c65a390>"
            ]
          },
          "metadata": {},
          "execution_count": 22
        },
        {
          "output_type": "display_data",
          "data": {
            "text/plain": [
              "<Figure size 432x288 with 1 Axes>"
            ],
            "image/png": "[encoded data removed]"
          },
          "metadata": {
            "needs_background": "light"
          }
        }
      ]
    },
    {
      "cell_type": "code",
      "source": [
        "history_frame.loc[:, ['acc', 'val_acc']].plot()"
      ],
      "metadata": {
        "colab": {
          "base_uri": "https://localhost:8080/",
          "height": 283
        },
        "id": "qgGNdtfHU3yS",
        "outputId": "f80f3166-6c9d-44e3-ccf2-fe2b3f41105f"
      },
      "execution_count": 23,
      "outputs": [
        {
          "output_type": "execute_result",
          "data": {
            "text/plain": [
              "<matplotlib.axes._subplots.AxesSubplot at 0x7fe596d3ce10>"
            ]
          },
          "metadata": {},
          "execution_count": 23
        },
        {
          "output_type": "display_data",
          "data": {
            "text/plain": [
              "<Figure size 432x288 with 1 Axes>"
            ],
            "image/png": "[encoded data removed]"
          },
          "metadata": {
            "needs_background": "light"
          }
        }
      ]
    },
    {
      "cell_type": "code",
      "source": [
        "print(Xtest.shape, ytest.shape)"
      ],
      "metadata": {
        "colab": {
          "base_uri": "https://localhost:8080/"
        },
        "id": "uvpjXrbRWKI5",
        "outputId": "f1a43ba4-1b5d-43b7-8a05-a93eaeec0c40"
      },
      "execution_count": 24,
      "outputs": [
        {
          "output_type": "stream",
          "name": "stdout",
          "text": [
            "(389, 66) (389, 13)\n"
          ]
        }
      ]
    },
    {
      "cell_type": "code",
      "source": [
        "loss, acc = model.evaluate(Xtest, ytest)\n",
        "print('Test Accuracy: %f' % (acc*100))"
      ],
      "metadata": {
        "colab": {
          "base_uri": "https://localhost:8080/"
        },
        "id": "5N9TLkdHV0hy",
        "outputId": "59562615-9b59-4e87-be34-605008f51ba4"
      },
      "execution_count": 25,
      "outputs": [
        {
          "output_type": "stream",
          "name": "stdout",
          "text": [
            "13/13 [==============================] - 0s 2ms/step - loss: 2.3612 - acc: 0.2519\n",
            "Test Accuracy: 25.192803\n"
          ]
        }
      ]
    },
    {
      "cell_type": "markdown",
      "source": [
        "##LSTM CNN1 MP1D F D512 D256 D13: 29-40"
      ],
      "metadata": {
        "id": "JKTKM23Nn0Vl"
      }
    },
    {
      "cell_type": "code",
      "source": [
        "from keras.layers import Dense, Flatten, Embedding, BatchNormalization, Dropout, LSTM, Bidirectional, TimeDistributed\n",
        "from keras.models import Sequential\n",
        "from keras.layers.convolutional import Conv1D, MaxPooling1D"
      ],
      "metadata": {
        "id": "_Rjnttm7n0Vs"
      },
      "execution_count": 26,
      "outputs": []
    },
    {
      "cell_type": "code",
      "source": [
        "#Define our model\n",
        "model = Sequential()\n",
        "\n",
        "model.add(Embedding(vocab_size, 100, input_length=max_length, trainable=True))\n",
        "model.add(LSTM(50, return_sequences=True))\n",
        "model.add(Conv1D(filters=32, kernel_size=3, activation='relu'))\n",
        "model.add(MaxPooling1D())\n",
        "\n",
        "#CNN + LSTM\n",
        "#MaxPool1D: pool_size=2: 30\n",
        "#MaxPool1D: w/o specification: 30\n",
        "\n",
        "#LSTM + CNN\n",
        "#MaxPool1D: w/o specification: 33.676094\n",
        "\n",
        "model.add(Flatten())\n",
        "\n",
        "model.add(Dense(512, activation='relu'))\n",
        "model.add(Dense(256, activation='relu'))\n",
        "\n",
        "model.add(Dense(num_classes, activation='softmax'))\n",
        "print(model.summary())"
      ],
      "metadata": {
        "colab": {
          "base_uri": "https://localhost:8080/"
        },
        "outputId": "79d7a0f2-8465-4979-d3f2-842128e59257",
        "id": "OiHinNUfn0Vs"
      },
      "execution_count": 27,
      "outputs": [
        {
          "output_type": "stream",
          "name": "stdout",
          "text": [
            "Model: \"sequential_1\"\n",
            "_________________________________________________________________\n",
            " Layer (type)                Output Shape              Param #   \n",
            "=================================================================\n",
            " embedding_1 (Embedding)     (None, 66, 100)           1260900   \n",
            "                                                                 \n",
            " lstm (LSTM)                 (None, 66, 50)            30200     \n",
            "                                                                 \n",
            " conv1d_1 (Conv1D)           (None, 64, 32)            4832      \n",
            "                                                                 \n",
            " max_pooling1d_1 (MaxPooling  (None, 32, 32)           0         \n",
            " 1D)                                                             \n",
            "                                                                 \n",
            " flatten_1 (Flatten)         (None, 1024)              0         \n",
            "                                                                 \n",
            " dense_2 (Dense)             (None, 512)               524800    \n",
            "                                                                 \n",
            " dense_3 (Dense)             (None, 256)               131328    \n",
            "                                                                 \n",
            " dense_4 (Dense)             (None, 13)                3341      \n",
            "                                                                 \n",
            "=================================================================\n",
            "Total params: 1,955,401\n",
            "Trainable params: 1,955,401\n",
            "Non-trainable params: 0\n",
            "_________________________________________________________________\n",
            "None\n"
          ]
        }
      ]
    },
    {
      "cell_type": "code",
      "source": [
        "from tensorflow.keras.callbacks import EarlyStopping\n",
        "\n",
        "#put early stopping\n",
        "early_stopping = EarlyStopping(monitor='val_loss', patience=1, mode='min')\n",
        "\n",
        "#Your choices of activation='softmax' in the last layer and compile choice of loss='categorical_crossentropy' \n",
        "#are good for a model to predict multiple mutually-exclusive classes.\n",
        "\n",
        "model.compile(loss='categorical_crossentropy',\n",
        "              optimizer='adam', \n",
        "              metrics=['acc'],)"
      ],
      "metadata": {
        "id": "IoNZ97Men0Vs"
      },
      "execution_count": 28,
      "outputs": []
    },
    {
      "cell_type": "code",
      "source": [
        "#Try classweight from this https://datascience.stackexchange.com/questions/13490/how-to-set-class-weights-for-imbalanced-classes-in-keras\n",
        "\n",
        "history = model.fit(Xtrain, ytrain, \n",
        "                    epochs=10, batch_size=32, \n",
        "                    validation_split=0.2,\n",
        "                    callbacks=[early_stopping])"
      ],
      "metadata": {
        "colab": {
          "base_uri": "https://localhost:8080/"
        },
        "outputId": "120c3ae2-9459-44f0-9306-06d5313fdcb5",
        "id": "3i82PMBRn0Vs"
      },
      "execution_count": 29,
      "outputs": [
        {
          "output_type": "stream",
          "name": "stdout",
          "text": [
            "Epoch 1/10\n",
            "304/304 [==============================] - 16s 44ms/step - loss: 1.6961 - acc: 0.4394 - val_loss: 1.4284 - val_acc: 0.5321\n",
            "Epoch 2/10\n",
            "304/304 [==============================] - 14s 45ms/step - loss: 1.2192 - acc: 0.6141 - val_loss: 1.3139 - val_acc: 0.5712\n",
            "Epoch 3/10\n",
            "304/304 [==============================] - 14s 45ms/step - loss: 0.8865 - acc: 0.7144 - val_loss: 1.3730 - val_acc: 0.5835\n"
          ]
        }
      ]
    },
    {
      "cell_type": "code",
      "source": [
        "history_frame = pd.DataFrame(history.history)\n",
        "history_frame.loc[:, ['loss', 'val_loss']].plot()"
      ],
      "metadata": {
        "colab": {
          "base_uri": "https://localhost:8080/",
          "height": 283
        },
        "outputId": "4c61ddcc-ab43-49a2-d151-9c9d6c4e2262",
        "id": "2B7E8Xcrn0Vt"
      },
      "execution_count": 30,
      "outputs": [
        {
          "output_type": "execute_result",
          "data": {
            "text/plain": [
              "<matplotlib.axes._subplots.AxesSubplot at 0x7fe5851e8b90>"
            ]
          },
          "metadata": {},
          "execution_count": 30
        },
        {
          "output_type": "display_data",
          "data": {
            "text/plain": [
              "<Figure size 432x288 with 1 Axes>"
            ],
            "image/png": "[encoded data removed]"
          },
          "metadata": {
            "needs_background": "light"
          }
        }
      ]
    },
    {
      "cell_type": "code",
      "source": [
        "history_frame.loc[:, ['acc', 'val_acc']].plot()"
      ],
      "metadata": {
        "colab": {
          "base_uri": "https://localhost:8080/",
          "height": 283
        },
        "outputId": "a0f462ea-0334-426e-a392-8301af09ad08",
        "id": "BFZ_Lsvrn0Vt"
      },
      "execution_count": 31,
      "outputs": [
        {
          "output_type": "execute_result",
          "data": {
            "text/plain": [
              "<matplotlib.axes._subplots.AxesSubplot at 0x7fe5966430d0>"
            ]
          },
          "metadata": {},
          "execution_count": 31
        },
        {
          "output_type": "display_data",
          "data": {
            "text/plain": [
              "<Figure size 432x288 with 1 Axes>"
            ],
            "image/png": "[encoded data removed]"
          },
          "metadata": {
            "needs_background": "light"
          }
        }
      ]
    },
    {
      "cell_type": "code",
      "source": [
        "print(ytrain.shape, ytest.shape)"
      ],
      "metadata": {
        "colab": {
          "base_uri": "https://localhost:8080/"
        },
        "outputId": "3bfb715d-f9d8-4ecd-c0ed-6fcef49ceb08",
        "id": "84PYJYKMn0Vt"
      },
      "execution_count": 32,
      "outputs": [
        {
          "output_type": "stream",
          "name": "stdout",
          "text": [
            "(12150, 13) (389, 13)\n"
          ]
        }
      ]
    },
    {
      "cell_type": "code",
      "source": [
        "loss, acc = model.evaluate(Xtest, ytest)\n",
        "print('Test Accuracy: %f' % (acc*100))"
      ],
      "metadata": {
        "colab": {
          "base_uri": "https://localhost:8080/"
        },
        "outputId": "d7385867-fc1e-44e7-f93f-01db476b0460",
        "id": "At8ST7Ttn0Vu"
      },
      "execution_count": 33,
      "outputs": [
        {
          "output_type": "stream",
          "name": "stdout",
          "text": [
            "13/13 [==============================] - 0s 10ms/step - loss: 1.8608 - acc: 0.4087\n",
            "Test Accuracy: 40.874037\n"
          ]
        }
      ]
    },
    {
      "cell_type": "markdown",
      "source": [
        "##CNN1 LSTM GMP1D F D512 D256 D13: 30-44"
      ],
      "metadata": {
        "id": "M7XlF2h5Azpg"
      }
    },
    {
      "cell_type": "code",
      "source": [
        "from keras.layers import Dense, Flatten, Embedding, BatchNormalization, Dropout, LSTM, Bidirectional\n",
        "from keras.models import Sequential\n",
        "from keras.layers.convolutional import Conv1D, MaxPooling1D\n",
        "from keras.layers.pooling import GlobalMaxPooling1D"
      ],
      "metadata": {
        "id": "hFzoz7zyAzpv"
      },
      "execution_count": 34,
      "outputs": []
    },
    {
      "cell_type": "code",
      "source": [
        "#Define our model\n",
        "model = Sequential()\n",
        "\n",
        "model.add(Embedding(vocab_size, 100, input_length=max_length, trainable=True))\n",
        "model.add(Conv1D(filters=32, kernel_size=3, activation='relu'))\n",
        "model.add(LSTM(50, return_sequences=True))\n",
        "\n",
        "model.add(GlobalMaxPooling1D())\n",
        "#CNN LSTM GMP1D(w/o spec): 44, 49\n",
        "#LSTM CNN GMP1D(w/o spec): 38, 47\n",
        "\n",
        "model.add(Flatten())\n",
        "\n",
        "model.add(Dense(512, activation='relu'))\n",
        "model.add(Dense(256, activation='relu'))\n",
        "\n",
        "model.add(Dense(num_classes, activation='softmax'))\n",
        "print(model.summary())"
      ],
      "metadata": {
        "colab": {
          "base_uri": "https://localhost:8080/"
        },
        "outputId": "460c6805-0d3c-4bf9-f3d5-ca2a134e0970",
        "id": "OOIiaeQTAzpv"
      },
      "execution_count": 35,
      "outputs": [
        {
          "output_type": "stream",
          "name": "stdout",
          "text": [
            "Model: \"sequential_2\"\n",
            "_________________________________________________________________\n",
            " Layer (type)                Output Shape              Param #   \n",
            "=================================================================\n",
            " embedding_2 (Embedding)     (None, 66, 100)           1260900   \n",
            "                                                                 \n",
            " conv1d_2 (Conv1D)           (None, 64, 32)            9632      \n",
            "                                                                 \n",
            " lstm_1 (LSTM)               (None, 64, 50)            16600     \n",
            "                                                                 \n",
            " global_max_pooling1d (Globa  (None, 50)               0         \n",
            " lMaxPooling1D)                                                  \n",
            "                                                                 \n",
            " flatten_2 (Flatten)         (None, 50)                0         \n",
            "                                                                 \n",
            " dense_5 (Dense)             (None, 512)               26112     \n",
            "                                                                 \n",
            " dense_6 (Dense)             (None, 256)               131328    \n",
            "                                                                 \n",
            " dense_7 (Dense)             (None, 13)                3341      \n",
            "                                                                 \n",
            "=================================================================\n",
            "Total params: 1,447,913\n",
            "Trainable params: 1,447,913\n",
            "Non-trainable params: 0\n",
            "_________________________________________________________________\n",
            "None\n"
          ]
        }
      ]
    },
    {
      "cell_type": "code",
      "source": [
        "from tensorflow.keras.callbacks import EarlyStopping\n",
        "\n",
        "#put early stopping\n",
        "early_stopping = EarlyStopping(monitor='val_loss', patience=1, mode='min')\n",
        "\n",
        "#Your choices of activation='softmax' in the last layer and compile choice of loss='categorical_crossentropy' \n",
        "#are good for a model to predict multiple mutually-exclusive classes.\n",
        "\n",
        "model.compile(loss='categorical_crossentropy',\n",
        "              optimizer='adam', \n",
        "              metrics=['acc'],)"
      ],
      "metadata": {
        "id": "fsGwd-BPAzpw"
      },
      "execution_count": 36,
      "outputs": []
    },
    {
      "cell_type": "code",
      "source": [
        "#Try classweight from this https://datascience.stackexchange.com/questions/13490/how-to-set-class-weights-for-imbalanced-classes-in-keras\n",
        "\n",
        "history = model.fit(Xtrain, ytrain, \n",
        "                    epochs=10, batch_size=32, \n",
        "                    validation_split=0.2,\n",
        "                    callbacks=[early_stopping])"
      ],
      "metadata": {
        "colab": {
          "base_uri": "https://localhost:8080/"
        },
        "outputId": "7f2db70d-6923-4eb1-ed01-57aa2e894ff5",
        "id": "TsVbHf0RAzpw"
      },
      "execution_count": 37,
      "outputs": [
        {
          "output_type": "stream",
          "name": "stdout",
          "text": [
            "Epoch 1/10\n",
            "304/304 [==============================] - 15s 41ms/step - loss: 1.8040 - acc: 0.3795 - val_loss: 1.5383 - val_acc: 0.4996\n",
            "Epoch 2/10\n",
            "304/304 [==============================] - 12s 39ms/step - loss: 1.3708 - acc: 0.5668 - val_loss: 1.4475 - val_acc: 0.5514\n",
            "Epoch 3/10\n",
            "304/304 [==============================] - 12s 39ms/step - loss: 1.0569 - acc: 0.6754 - val_loss: 1.3903 - val_acc: 0.5691\n",
            "Epoch 4/10\n",
            "304/304 [==============================] - 12s 39ms/step - loss: 0.8255 - acc: 0.7393 - val_loss: 1.5630 - val_acc: 0.5547\n"
          ]
        }
      ]
    },
    {
      "cell_type": "code",
      "source": [
        "history_frame = pd.DataFrame(history.history)\n",
        "history_frame.loc[:, ['loss', 'val_loss']].plot()"
      ],
      "metadata": {
        "colab": {
          "base_uri": "https://localhost:8080/",
          "height": 283
        },
        "outputId": "63a1cf43-6794-4e8b-f18f-8445b2d83d2f",
        "id": "XFAMSdCPAzpx"
      },
      "execution_count": 38,
      "outputs": [
        {
          "output_type": "execute_result",
          "data": {
            "text/plain": [
              "<matplotlib.axes._subplots.AxesSubplot at 0x7fe5858c8e90>"
            ]
          },
          "metadata": {},
          "execution_count": 38
        },
        {
          "output_type": "display_data",
          "data": {
            "text/plain": [
              "<Figure size 432x288 with 1 Axes>"
            ],
            "image/png": "[encoded data removed]"
          },
          "metadata": {
            "needs_background": "light"
          }
        }
      ]
    },
    {
      "cell_type": "code",
      "source": [
        "history_frame.loc[:, ['acc', 'val_acc']].plot()"
      ],
      "metadata": {
        "colab": {
          "base_uri": "https://localhost:8080/",
          "height": 283
        },
        "outputId": "7a1bbb81-3ed1-47a0-b87f-d5106bc40a54",
        "id": "q4jxsipNAzpx"
      },
      "execution_count": 39,
      "outputs": [
        {
          "output_type": "execute_result",
          "data": {
            "text/plain": [
              "<matplotlib.axes._subplots.AxesSubplot at 0x7fe59649f810>"
            ]
          },
          "metadata": {},
          "execution_count": 39
        },
        {
          "output_type": "display_data",
          "data": {
            "text/plain": [
              "<Figure size 432x288 with 1 Axes>"
            ],
            "image/png": "[encoded data removed]"
          },
          "metadata": {
            "needs_background": "light"
          }
        }
      ]
    },
    {
      "cell_type": "code",
      "source": [
        "print(ytrain.shape, ytest.shape)"
      ],
      "metadata": {
        "colab": {
          "base_uri": "https://localhost:8080/"
        },
        "outputId": "e5297432-e975-4197-8fd7-721b52bbefc7",
        "id": "PMDF44cfAzpx"
      },
      "execution_count": 40,
      "outputs": [
        {
          "output_type": "stream",
          "name": "stdout",
          "text": [
            "(12150, 13) (389, 13)\n"
          ]
        }
      ]
    },
    {
      "cell_type": "code",
      "source": [
        "loss, acc = model.evaluate(Xtest, ytest)\n",
        "print('Test Accuracy: %f' % (acc*100))"
      ],
      "metadata": {
        "colab": {
          "base_uri": "https://localhost:8080/"
        },
        "outputId": "be4712e0-d6fe-44e7-8551-17821f614f0c",
        "id": "KveBiofgAzpy"
      },
      "execution_count": 41,
      "outputs": [
        {
          "output_type": "stream",
          "name": "stdout",
          "text": [
            "13/13 [==============================] - 0s 9ms/step - loss: 3.5126 - acc: 0.3033\n",
            "Test Accuracy: 30.334190\n"
          ]
        }
      ]
    },
    {
      "cell_type": "markdown",
      "source": [
        "##CNN1,32(3) GMP1D D256 D13: 55-56"
      ],
      "metadata": {
        "id": "B6c9hIuLuizO"
      }
    },
    {
      "cell_type": "code",
      "source": [
        "from keras.layers import Dense, Flatten, Embedding, BatchNormalization, Dropout\n",
        "from keras.models import Sequential\n",
        "from keras.layers.convolutional import Conv1D, MaxPooling1D"
      ],
      "metadata": {
        "id": "XZPVUSnhuizP"
      },
      "execution_count": 42,
      "outputs": []
    },
    {
      "cell_type": "code",
      "source": [
        "from keras.layers.pooling import GlobalMaxPooling1D\n",
        "#Define our model\n",
        "model = Sequential()\n",
        "\n",
        "model.add(Embedding(vocab_size, 100, input_length=max_length, trainable=True))\n",
        "\n",
        "model.add(Conv1D(filters=32, kernel_size=3, activation='relu'))\n",
        "model.add(GlobalMaxPooling1D())\n",
        "\n",
        "#CNN GMP1D(w/o spec): 56.812340\n",
        "#2CNN GMP1D(w/o spec): 53.470439\n",
        "#CNN BN GMP1D(w/o spec): 52.956301\n",
        "\n",
        "\n",
        "model.add(Flatten())\n",
        "#Flatten(): 56\n",
        "#w/o Flatten(): 55\n",
        "\n",
        "model.add(Dense(256, activation='relu'))\n",
        "model.add(Dense(num_classes, activation='softmax'))\n",
        "print(model.summary())"
      ],
      "metadata": {
        "colab": {
          "base_uri": "https://localhost:8080/"
        },
        "outputId": "8b55c0ef-abfa-4841-b5b2-1b1fe64ecce4",
        "id": "4b7xEhs1uizP"
      },
      "execution_count": 43,
      "outputs": [
        {
          "output_type": "stream",
          "name": "stdout",
          "text": [
            "Model: \"sequential_3\"\n",
            "_________________________________________________________________\n",
            " Layer (type)                Output Shape              Param #   \n",
            "=================================================================\n",
            " embedding_3 (Embedding)     (None, 66, 100)           1260900   \n",
            "                                                                 \n",
            " conv1d_3 (Conv1D)           (None, 64, 32)            9632      \n",
            "                                                                 \n",
            " global_max_pooling1d_1 (Glo  (None, 32)               0         \n",
            " balMaxPooling1D)                                                \n",
            "                                                                 \n",
            " flatten_3 (Flatten)         (None, 32)                0         \n",
            "                                                                 \n",
            " dense_8 (Dense)             (None, 256)               8448      \n",
            "                                                                 \n",
            " dense_9 (Dense)             (None, 13)                3341      \n",
            "                                                                 \n",
            "=================================================================\n",
            "Total params: 1,282,321\n",
            "Trainable params: 1,282,321\n",
            "Non-trainable params: 0\n",
            "_________________________________________________________________\n",
            "None\n"
          ]
        }
      ]
    },
    {
      "cell_type": "code",
      "source": [
        "from tensorflow.keras.callbacks import EarlyStopping\n",
        "\n",
        "#put early stopping\n",
        "early_stopping = EarlyStopping(monitor='val_loss', patience=1, mode='min')\n",
        "\n",
        "#Your choices of activation='softmax' in the last layer and compile choice of loss='categorical_crossentropy' \n",
        "#are good for a model to predict multiple mutually-exclusive classes.\n",
        "\n",
        "model.compile(loss='categorical_crossentropy',\n",
        "              optimizer='adam', \n",
        "              metrics=['acc'],)"
      ],
      "metadata": {
        "id": "bG3KfKXWuizP"
      },
      "execution_count": 44,
      "outputs": []
    },
    {
      "cell_type": "code",
      "source": [
        "#Try classweight from this https://datascience.stackexchange.com/questions/13490/how-to-set-class-weights-for-imbalanced-classes-in-keras\n",
        "#Current val_loss =  1.24\n",
        "history = model.fit(Xtrain, ytrain, \n",
        "                    epochs=10, batch_size=64, \n",
        "                    validation_split=0.2,\n",
        "                    callbacks=[early_stopping])"
      ],
      "metadata": {
        "colab": {
          "base_uri": "https://localhost:8080/"
        },
        "outputId": "8488472a-be92-4054-ea49-f8e8cde2d821",
        "id": "5qqQD5JruizP"
      },
      "execution_count": 45,
      "outputs": [
        {
          "output_type": "stream",
          "name": "stdout",
          "text": [
            "Epoch 1/10\n",
            "152/152 [==============================] - 2s 12ms/step - loss: 1.9291 - acc: 0.3521 - val_loss: 1.5956 - val_acc: 0.4741\n",
            "Epoch 2/10\n",
            "152/152 [==============================] - 2s 11ms/step - loss: 1.3895 - acc: 0.5716 - val_loss: 1.3310 - val_acc: 0.5720\n",
            "Epoch 3/10\n",
            "152/152 [==============================] - 2s 11ms/step - loss: 1.0274 - acc: 0.6866 - val_loss: 1.2672 - val_acc: 0.5942\n",
            "Epoch 4/10\n",
            "152/152 [==============================] - 2s 11ms/step - loss: 0.7227 - acc: 0.7754 - val_loss: 1.3490 - val_acc: 0.5897\n"
          ]
        }
      ]
    },
    {
      "cell_type": "code",
      "source": [
        "loss, acc = model.evaluate(Xtest, ytest)\n",
        "print('Test Accuracy: %f' % (acc*100))"
      ],
      "metadata": {
        "id": "K2KkrfNh_dYh",
        "colab": {
          "base_uri": "https://localhost:8080/"
        },
        "outputId": "e2f66267-80c0-480e-cbfb-c2e0cc763784"
      },
      "execution_count": 46,
      "outputs": [
        {
          "output_type": "stream",
          "name": "stdout",
          "text": [
            "13/13 [==============================] - 0s 2ms/step - loss: 1.4382 - acc: 0.5604\n",
            "Test Accuracy: 56.041133\n"
          ]
        }
      ]
    },
    {
      "cell_type": "markdown",
      "source": [
        "##CNN1,128(5) GMP1D D13: 60-64"
      ],
      "metadata": {
        "id": "rj8249jXuzp2"
      }
    },
    {
      "cell_type": "code",
      "source": [
        "from keras.layers import Dense, Flatten, Embedding, BatchNormalization, Dropout\n",
        "from keras.models import Sequential\n",
        "from keras.layers.convolutional import Conv1D, MaxPooling1D"
      ],
      "metadata": {
        "id": "LsPxxED9uzqA"
      },
      "execution_count": 47,
      "outputs": []
    },
    {
      "cell_type": "code",
      "source": [
        "from keras.layers.pooling import GlobalMaxPooling1D\n",
        "#Define our model\n",
        "model = Sequential()\n",
        "\n",
        "model.add(Embedding(vocab_size, 1000, input_length=max_length, trainable=True))\n",
        "\n",
        "model.add(Conv1D(filters=128, kernel_size=5, activation='relu'))\n",
        "model.add(GlobalMaxPooling1D())\n",
        "\n",
        "model.add(Dense(num_classes, activation='softmax'))\n",
        "print(model.summary())"
      ],
      "metadata": {
        "colab": {
          "base_uri": "https://localhost:8080/"
        },
        "outputId": "1d40aac5-d7d7-4209-d324-70a192b49902",
        "id": "alpi6avRuzqA"
      },
      "execution_count": 48,
      "outputs": [
        {
          "output_type": "stream",
          "name": "stdout",
          "text": [
            "Model: \"sequential_4\"\n",
            "_________________________________________________________________\n",
            " Layer (type)                Output Shape              Param #   \n",
            "=================================================================\n",
            " embedding_4 (Embedding)     (None, 66, 1000)          12609000  \n",
            "                                                                 \n",
            " conv1d_4 (Conv1D)           (None, 62, 128)           640128    \n",
            "                                                                 \n",
            " global_max_pooling1d_2 (Glo  (None, 128)              0         \n",
            " balMaxPooling1D)                                                \n",
            "                                                                 \n",
            " dense_10 (Dense)            (None, 13)                1677      \n",
            "                                                                 \n",
            "=================================================================\n",
            "Total params: 13,250,805\n",
            "Trainable params: 13,250,805\n",
            "Non-trainable params: 0\n",
            "_________________________________________________________________\n",
            "None\n"
          ]
        }
      ]
    },
    {
      "cell_type": "code",
      "source": [
        "from tensorflow.keras.callbacks import EarlyStopping\n",
        "\n",
        "#put early stopping\n",
        "early_stopping = EarlyStopping(monitor='val_loss', patience=1, mode='min')\n",
        "\n",
        "#Your choices of activation='softmax' in the last layer and compile choice of loss='categorical_crossentropy' \n",
        "#are good for a model to predict multiple mutually-exclusive classes.\n",
        "\n",
        "model.compile(loss='categorical_crossentropy',\n",
        "              optimizer='adam', \n",
        "              metrics=['acc'],)"
      ],
      "metadata": {
        "id": "L7qLhhuTuzqB"
      },
      "execution_count": 49,
      "outputs": []
    },
    {
      "cell_type": "code",
      "source": [
        "history = model.fit(Xtrain, ytrain, \n",
        "                    epochs=10, batch_size=64, \n",
        "                    validation_split=0.2,\n",
        "                    callbacks=[early_stopping])"
      ],
      "metadata": {
        "colab": {
          "base_uri": "https://localhost:8080/"
        },
        "outputId": "378518a5-b5b7-4d5a-e7d3-c22ee4dffda6",
        "id": "swLzSwyPuzqB"
      },
      "execution_count": 50,
      "outputs": [
        {
          "output_type": "stream",
          "name": "stdout",
          "text": [
            "Epoch 1/10\n",
            "152/152 [==============================] - 14s 90ms/step - loss: 1.5844 - acc: 0.4935 - val_loss: 1.2118 - val_acc: 0.6103\n",
            "Epoch 2/10\n",
            "152/152 [==============================] - 13s 88ms/step - loss: 0.8901 - acc: 0.7209 - val_loss: 1.0843 - val_acc: 0.6379\n",
            "Epoch 3/10\n",
            "152/152 [==============================] - 13s 88ms/step - loss: 0.3994 - acc: 0.8972 - val_loss: 1.1140 - val_acc: 0.6412\n"
          ]
        }
      ]
    },
    {
      "cell_type": "code",
      "source": [
        "loss, acc = model.evaluate(Xtest, ytest)\n",
        "print('Test Accuracy: %f' % (acc*100))"
      ],
      "metadata": {
        "colab": {
          "base_uri": "https://localhost:8080/"
        },
        "outputId": "3085ae8a-3279-4383-ed59-70dbb225bc3c",
        "id": "W7deuZrkuzqB"
      },
      "execution_count": 51,
      "outputs": [
        {
          "output_type": "stream",
          "name": "stdout",
          "text": [
            "13/13 [==============================] - 0s 5ms/step - loss: 1.2131 - acc: 0.6401\n",
            "Test Accuracy: 64.010280\n"
          ]
        }
      ]
    },
    {
      "cell_type": "markdown",
      "source": [
        "## CNN1,512&1024,(5,7,10) GMP1D D13: 53-64\n",
        "the best kernel from [5,7,10] = 5"
      ],
      "metadata": {
        "id": "QLnM8ds2X8zg"
      }
    },
    {
      "cell_type": "code",
      "source": [
        "from keras.layers import Dense, Flatten, Embedding, BatchNormalization, Dropout, LSTM, Bidirectional, TimeDistributed\n",
        "from keras.models import Sequential\n",
        "from keras.layers.convolutional import Conv1D, MaxPooling1D\n",
        "from keras.layers.pooling import GlobalMaxPooling1D, AveragePooling1D, GlobalAveragePooling1D\n",
        "import tensorflow as tf\n",
        "from keras.layers.pooling import GlobalMaxPooling1D\n",
        "from tensorflow.keras.callbacks import EarlyStopping"
      ],
      "metadata": {
        "id": "Nuel3LIIc8r7"
      },
      "execution_count": 52,
      "outputs": []
    },
    {
      "cell_type": "code",
      "source": [
        "filters = [512, 1024]\n",
        "kernels = [5, 7, 10]\n",
        "\n",
        "#Define our model\n",
        "for filter in filters:\n",
        "  for kernel in kernels:\n",
        "    model = Sequential()\n",
        "    model.add(Embedding(vocab_size, 1000, input_length=max_length, trainable=True))\n",
        "    model.add(Conv1D(filter, kernel , activation='relu'))\n",
        "    model.add(GlobalMaxPooling1D())\n",
        "    model.add(Dense(num_classes, activation='softmax'))\n",
        "\n",
        "    #put early stopping\n",
        "    early_stopping = EarlyStopping(monitor='val_loss', patience=1, mode='min')\n",
        "    model.compile(loss='categorical_crossentropy',\n",
        "                  optimizer='adam', \n",
        "                  metrics=['acc'],)\n",
        "    \n",
        "    #train the model\n",
        "    history = model.fit(Xtrain, ytrain, \n",
        "                      epochs=10, batch_size=32, #32, 128 > 8 (worse), 16, 64, 256\n",
        "                      validation_split=0.2,\n",
        "                      callbacks=[early_stopping])\n",
        "  \n",
        "    #evaludate the model\n",
        "    loss, acc = model.evaluate(Xtest, ytest)\n",
        "    print(\"===========================================\")\n",
        "    print(f\"Filter: {filter}\")\n",
        "    print(f\"Kernel: {kernel}\")\n",
        "    print('Test Accuracy: %f' % (acc*100)) #79.333335 (CNN kernel = 10), 78 (CNN kernel = 5)\n",
        "    print(\"===========================================\")"
      ],
      "metadata": {
        "colab": {
          "base_uri": "https://localhost:8080/"
        },
        "id": "m4e89MFGm0JA",
        "outputId": "c9ef3906-25f7-4650-d523-086bdee272cb"
      },
      "execution_count": 53,
      "outputs": [
        {
          "output_type": "stream",
          "name": "stdout",
          "text": [
            "Epoch 1/10\n",
            "304/304 [==============================] - 39s 125ms/step - loss: 1.3729 - acc: 0.5581 - val_loss: 1.0888 - val_acc: 0.6424\n",
            "Epoch 2/10\n",
            "304/304 [==============================] - 38s 124ms/step - loss: 0.6178 - acc: 0.8028 - val_loss: 1.1055 - val_acc: 0.6453\n",
            "13/13 [==============================] - 0s 12ms/step - loss: 1.2212 - acc: 0.6401\n",
            "===========================================\n",
            "Filter: 512\n",
            "Kernel: 5\n",
            "Test Accuracy: 64.010280\n",
            "===========================================\n",
            "Epoch 1/10\n",
            "304/304 [==============================] - 47s 154ms/step - loss: 1.3788 - acc: 0.5511 - val_loss: 1.1015 - val_acc: 0.6379\n",
            "Epoch 2/10\n",
            "304/304 [==============================] - 47s 154ms/step - loss: 0.5691 - acc: 0.8230 - val_loss: 1.1063 - val_acc: 0.6444\n",
            "13/13 [==============================] - 0s 16ms/step - loss: 1.2504 - acc: 0.5964\n",
            "===========================================\n",
            "Filter: 512\n",
            "Kernel: 7\n",
            "Test Accuracy: 59.640104\n",
            "===========================================\n",
            "Epoch 1/10\n",
            "304/304 [==============================] - 58s 190ms/step - loss: 1.3776 - acc: 0.5549 - val_loss: 1.1815 - val_acc: 0.6115\n",
            "Epoch 2/10\n",
            "304/304 [==============================] - 57s 188ms/step - loss: 0.5130 - acc: 0.8430 - val_loss: 1.1379 - val_acc: 0.6436\n",
            "Epoch 3/10\n",
            "304/304 [==============================] - 58s 189ms/step - loss: 0.0823 - acc: 0.9844 - val_loss: 1.2257 - val_acc: 0.6519\n",
            "13/13 [==============================] - 0s 18ms/step - loss: 1.5198 - acc: 0.5681\n",
            "===========================================\n",
            "Filter: 512\n",
            "Kernel: 10\n",
            "Test Accuracy: 56.812340\n",
            "===========================================\n",
            "Epoch 1/10\n",
            "304/304 [==============================] - 61s 199ms/step - loss: 1.3529 - acc: 0.5573 - val_loss: 1.0921 - val_acc: 0.6346\n",
            "Epoch 2/10\n",
            "304/304 [==============================] - 60s 198ms/step - loss: 0.5597 - acc: 0.8264 - val_loss: 1.1838 - val_acc: 0.6449\n",
            "13/13 [==============================] - 0s 21ms/step - loss: 1.2990 - acc: 0.6195\n",
            "===========================================\n",
            "Filter: 1024\n",
            "Kernel: 5\n",
            "Test Accuracy: 61.953729\n",
            "===========================================\n",
            "Epoch 1/10\n",
            "304/304 [==============================] - 79s 256ms/step - loss: 1.3533 - acc: 0.5582 - val_loss: 1.1075 - val_acc: 0.6222\n",
            "Epoch 2/10\n",
            "304/304 [==============================] - 82s 268ms/step - loss: 0.4965 - acc: 0.8448 - val_loss: 1.1487 - val_acc: 0.6370\n",
            "13/13 [==============================] - 0s 28ms/step - loss: 1.2764 - acc: 0.6170\n",
            "===========================================\n",
            "Filter: 1024\n",
            "Kernel: 7\n",
            "Test Accuracy: 61.696661\n",
            "===========================================\n",
            "Epoch 1/10\n",
            "304/304 [==============================] - 129s 421ms/step - loss: 1.3557 - acc: 0.5582 - val_loss: 1.1298 - val_acc: 0.6235\n",
            "Epoch 2/10\n",
            "304/304 [==============================] - 143s 472ms/step - loss: 0.4448 - acc: 0.8645 - val_loss: 1.1687 - val_acc: 0.6358\n",
            "13/13 [==============================] - 0s 35ms/step - loss: 1.4803 - acc: 0.5553\n",
            "===========================================\n",
            "Filter: 1024\n",
            "Kernel: 10\n",
            "Test Accuracy: 55.526990\n",
            "===========================================\n"
          ]
        }
      ]
    },
    {
      "cell_type": "markdown",
      "source": [
        "##3CNN1,(128,128,128),(6,8,10) 3DO0.1 3GMP1D CONCAT D13 CW: 60-63"
      ],
      "metadata": {
        "id": "gKD476bKEypH"
      }
    },
    {
      "cell_type": "markdown",
      "source": [
        "### patience 1: 60"
      ],
      "metadata": {
        "id": "PbWlsSRYSjOO"
      }
    },
    {
      "cell_type": "code",
      "source": [
        "import tensorflow as tf\n",
        "from keras.models import Sequential, Model\n",
        "from tensorflow.keras import Input\n",
        "from keras.layers.convolutional import Conv1D, MaxPooling1D\n",
        "from keras.layers.pooling import GlobalMaxPooling1D, AveragePooling1D, GlobalAveragePooling1D\n",
        "from keras.layers import Dense, Flatten, Embedding, BatchNormalization, Dropout, LSTM, Bidirectional, TimeDistributed, concatenate"
      ],
      "metadata": {
        "id": "d2lQi0YREypT"
      },
      "execution_count": 54,
      "outputs": []
    },
    {
      "cell_type": "code",
      "source": [
        "# create the model\n",
        "model = Sequential()\n",
        "inputs = Input(shape=(max_length,))\n",
        "\n",
        "# channel 1\n",
        "embedding1 = Embedding(vocab_size, 1000, trainable=True)(inputs)\n",
        "conv1 = Conv1D(128, 6, activation='relu')(embedding1)\n",
        "drop1 = Dropout(0.1)(conv1)\n",
        "pool1 = GlobalMaxPooling1D()(drop1)\n",
        "# channel 2\n",
        "embedding2 = Embedding(vocab_size, 1000, trainable=True)(inputs)\n",
        "conv2 = Conv1D(128, 8, activation='relu')(embedding2)\n",
        "drop2 = Dropout(0.1)(conv2)\n",
        "pool2 = GlobalMaxPooling1D()(drop2)\n",
        "# channel 3\n",
        "embedding3 = Embedding(vocab_size, 1000, trainable=True)(inputs)\n",
        "conv3 = Conv1D(128, 10, activation='relu')(embedding3)\n",
        "drop3 = Dropout(0.1)(conv3)\n",
        "pool3 = GlobalMaxPooling1D()(drop3)\n",
        "\n",
        "# merge\n",
        "merged = concatenate([pool1, pool2, pool3])\n",
        "\n",
        "# Fully connected \n",
        "outputs = Dense(num_classes, activation='softmax')(merged) #1 Dense better than 2 or three Denses\n",
        "\n",
        "model = Model(inputs=[inputs], outputs=outputs)\n",
        "model.summary()\n",
        "\n",
        "from tensorflow.keras.callbacks import EarlyStopping\n",
        "\n",
        "#put early stopping\n",
        "early_stopping = EarlyStopping(monitor='val_loss', patience=1, mode='min')\n",
        "\n",
        "#Your choices of activation='softmax' in the last layer and compile choice of loss='categorical_crossentropy' \n",
        "#are good for a model to predict multiple mutually-exclusive classes.\n",
        "\n",
        "#Learning Rate = 0.01, acc = 40%\n",
        "\n",
        "model.compile(loss='categorical_crossentropy',\n",
        "              optimizer='adam', \n",
        "              metrics=['acc'],)\n",
        "\n",
        "train_y = [x-1 for x in train['Human_CategoryID'].tolist()]\n",
        "\n",
        "class_weights = compute_class_weight(\n",
        "                                        class_weight = \"balanced\",\n",
        "                                        classes = np.unique(train_y),\n",
        "                                        y = train_y                                                   \n",
        "                                    )\n",
        "class_weights = dict(zip(np.unique(train_y), class_weights))\n",
        "\n",
        "history = model.fit(Xtrain, ytrain, \n",
        "                    epochs=10, batch_size=32, #32, 128 > 8 (worse), 16, 64, 256\n",
        "                    validation_split=0.2,\n",
        "                    callbacks=[early_stopping],\n",
        "                    class_weight=class_weights)\n",
        "\n",
        "loss, acc = model.evaluate(Xtest, ytest)\n",
        "print('Test Accuracy: %f' % (acc*100))"
      ],
      "metadata": {
        "colab": {
          "base_uri": "https://localhost:8080/"
        },
        "id": "lZbW63ODjpT0",
        "outputId": "48972dfc-c0dc-410f-b699-b9c8de350318"
      },
      "execution_count": 55,
      "outputs": [
        {
          "output_type": "stream",
          "name": "stdout",
          "text": [
            "Model: \"model\"\n",
            "__________________________________________________________________________________________________\n",
            " Layer (type)                   Output Shape         Param #     Connected to                     \n",
            "==================================================================================================\n",
            " input_1 (InputLayer)           [(None, 66)]         0           []                               \n",
            "                                                                                                  \n",
            " embedding_11 (Embedding)       (None, 66, 1000)     12609000    ['input_1[0][0]']                \n",
            "                                                                                                  \n",
            " embedding_12 (Embedding)       (None, 66, 1000)     12609000    ['input_1[0][0]']                \n",
            "                                                                                                  \n",
            " embedding_13 (Embedding)       (None, 66, 1000)     12609000    ['input_1[0][0]']                \n",
            "                                                                                                  \n",
            " conv1d_11 (Conv1D)             (None, 61, 128)      768128      ['embedding_11[0][0]']           \n",
            "                                                                                                  \n",
            " conv1d_12 (Conv1D)             (None, 59, 128)      1024128     ['embedding_12[0][0]']           \n",
            "                                                                                                  \n",
            " conv1d_13 (Conv1D)             (None, 57, 128)      1280128     ['embedding_13[0][0]']           \n",
            "                                                                                                  \n",
            " dropout_1 (Dropout)            (None, 61, 128)      0           ['conv1d_11[0][0]']              \n",
            "                                                                                                  \n",
            " dropout_2 (Dropout)            (None, 59, 128)      0           ['conv1d_12[0][0]']              \n",
            "                                                                                                  \n",
            " dropout_3 (Dropout)            (None, 57, 128)      0           ['conv1d_13[0][0]']              \n",
            "                                                                                                  \n",
            " global_max_pooling1d_9 (Global  (None, 128)         0           ['dropout_1[0][0]']              \n",
            " MaxPooling1D)                                                                                    \n",
            "                                                                                                  \n",
            " global_max_pooling1d_10 (Globa  (None, 128)         0           ['dropout_2[0][0]']              \n",
            " lMaxPooling1D)                                                                                   \n",
            "                                                                                                  \n",
            " global_max_pooling1d_11 (Globa  (None, 128)         0           ['dropout_3[0][0]']              \n",
            " lMaxPooling1D)                                                                                   \n",
            "                                                                                                  \n",
            " concatenate (Concatenate)      (None, 384)          0           ['global_max_pooling1d_9[0][0]', \n",
            "                                                                  'global_max_pooling1d_10[0][0]',\n",
            "                                                                  'global_max_pooling1d_11[0][0]']\n",
            "                                                                                                  \n",
            " dense_17 (Dense)               (None, 13)           5005        ['concatenate[0][0]']            \n",
            "                                                                                                  \n",
            "==================================================================================================\n",
            "Total params: 40,904,389\n",
            "Trainable params: 40,904,389\n",
            "Non-trainable params: 0\n",
            "__________________________________________________________________________________________________\n",
            "Epoch 1/10\n",
            "304/304 [==============================] - 73s 238ms/step - loss: 2.0654 - acc: 0.3815 - val_loss: 1.4514 - val_acc: 0.5091\n",
            "Epoch 2/10\n",
            "304/304 [==============================] - 77s 253ms/step - loss: 0.5705 - acc: 0.7537 - val_loss: 1.1695 - val_acc: 0.6111\n",
            "Epoch 3/10\n",
            "304/304 [==============================] - 83s 273ms/step - loss: 0.1221 - acc: 0.9474 - val_loss: 1.0971 - val_acc: 0.6444\n",
            "Epoch 4/10\n",
            "304/304 [==============================] - 86s 284ms/step - loss: 0.0346 - acc: 0.9902 - val_loss: 1.0839 - val_acc: 0.6588\n",
            "Epoch 5/10\n",
            "304/304 [==============================] - 82s 271ms/step - loss: 0.0141 - acc: 0.9981 - val_loss: 1.1117 - val_acc: 0.6588\n",
            "13/13 [==============================] - 0s 17ms/step - loss: 1.2680 - acc: 0.6067\n",
            "Test Accuracy: 60.668379\n"
          ]
        }
      ]
    },
    {
      "cell_type": "markdown",
      "source": [
        "##3CNN1,(128,256,512),(5) 3DO0.5 3GMP1D CONCAT D13 CW:"
      ],
      "metadata": {
        "id": "HEczlAww7FTb"
      }
    },
    {
      "cell_type": "code",
      "source": [
        "import tensorflow as tf\n",
        "from tensorflow.keras import Input\n",
        "from keras.models import Sequential, Model\n",
        "from tensorflow.keras.callbacks import EarlyStopping\n",
        "from keras.layers.convolutional import Conv1D, MaxPooling1D\n",
        "from keras.layers.pooling import GlobalMaxPooling1D, AveragePooling1D, GlobalAveragePooling1D\n",
        "from keras.layers import Dense, Flatten, Embedding, BatchNormalization, Dropout, LSTM, Bidirectional, TimeDistributed, concatenate"
      ],
      "metadata": {
        "id": "T9G0b6Wk7FTl"
      },
      "execution_count": 70,
      "outputs": []
    },
    {
      "cell_type": "markdown",
      "source": [
        "### patience 1: 63"
      ],
      "metadata": {
        "id": "2-p-Mpao7FTl"
      }
    },
    {
      "cell_type": "code",
      "source": [
        "# create the model\n",
        "model = Sequential()\n",
        "inputs = Input(shape=(max_length,))\n",
        "\n",
        "# channel 1\n",
        "embedding1 = Embedding(vocab_size, 1000, trainable=True)(inputs)\n",
        "conv1 = Conv1D(128, 5, activation='relu')(embedding1)\n",
        "drop1 = Dropout(0.5)(conv1)\n",
        "pool1 = GlobalMaxPooling1D()(drop1)\n",
        "# channel 2\n",
        "embedding2 = Embedding(vocab_size, 1000, trainable=True)(inputs)\n",
        "conv2 = Conv1D(256, 5, activation='relu')(embedding2)\n",
        "drop2 = Dropout(0.5)(conv2)\n",
        "pool2 = GlobalMaxPooling1D()(drop2)\n",
        "# channel 3\n",
        "embedding3 = Embedding(vocab_size, 1000, trainable=True)(inputs)\n",
        "conv3 = Conv1D(512, 5, activation='relu')(embedding3)\n",
        "drop3 = Dropout(0.5)(conv3)\n",
        "pool3 = GlobalMaxPooling1D()(drop3)\n",
        "\n",
        "# merge\n",
        "merged = concatenate([pool1, pool2, pool3])\n",
        "\n",
        "# Fully connected \n",
        "outputs = Dense(num_classes, activation='softmax')(merged) #1 Dense better than 2 or three Denses\n",
        "\n",
        "model = Model(inputs=[inputs], outputs=outputs)\n",
        "model.summary()\n",
        "\n",
        "#put early stopping\n",
        "early_stopping = EarlyStopping(monitor='val_loss', patience=1, mode='min')\n",
        "\n",
        "#Your choices of activation='softmax' in the last layer and compile choice of loss='categorical_crossentropy' \n",
        "#are good for a model to predict multiple mutually-exclusive classes.\n",
        "\n",
        "#Learning Rate = 0.01, acc = 40%\n",
        "\n",
        "model.compile(loss='categorical_crossentropy',\n",
        "              optimizer='adam', \n",
        "              metrics=['acc'],)\n",
        "\n",
        "train_y = [x-1 for x in train['Human_CategoryID'].tolist()]\n",
        "\n",
        "class_weights = compute_class_weight(\n",
        "                                        class_weight = \"balanced\",\n",
        "                                        classes = np.unique(train_y),\n",
        "                                        y = train_y                                                   \n",
        "                                    )\n",
        "class_weights = dict(zip(np.unique(train_y), class_weights))\n",
        "\n",
        "history = model.fit(Xtrain, ytrain, \n",
        "                    epochs=10, batch_size=32, #32, 128 > 8 (worse), 16, 64, 256\n",
        "                    validation_split=0.2,\n",
        "                    callbacks=[early_stopping],\n",
        "                    class_weight=class_weights)\n",
        "\n",
        "loss, acc = model.evaluate(Xtest, ytest)\n",
        "print('Test Accuracy: %f' % (acc*100))"
      ],
      "metadata": {
        "colab": {
          "base_uri": "https://localhost:8080/"
        },
        "id": "t1fHoJaV7FTl",
        "outputId": "ea70c6e3-2a45-480a-9673-bf109477d1d8"
      },
      "execution_count": 71,
      "outputs": [
        {
          "output_type": "stream",
          "name": "stdout",
          "text": [
            "Model: \"model_5\"\n",
            "__________________________________________________________________________________________________\n",
            " Layer (type)                   Output Shape         Param #     Connected to                     \n",
            "==================================================================================================\n",
            " input_6 (InputLayer)           [(None, 66)]         0           []                               \n",
            "                                                                                                  \n",
            " embedding_30 (Embedding)       (None, 66, 1000)     12609000    ['input_6[0][0]']                \n",
            "                                                                                                  \n",
            " embedding_31 (Embedding)       (None, 66, 1000)     12609000    ['input_6[0][0]']                \n",
            "                                                                                                  \n",
            " embedding_32 (Embedding)       (None, 66, 1000)     12609000    ['input_6[0][0]']                \n",
            "                                                                                                  \n",
            " conv1d_30 (Conv1D)             (None, 62, 128)      640128      ['embedding_30[0][0]']           \n",
            "                                                                                                  \n",
            " conv1d_31 (Conv1D)             (None, 62, 256)      1280256     ['embedding_31[0][0]']           \n",
            "                                                                                                  \n",
            " conv1d_32 (Conv1D)             (None, 62, 512)      2560512     ['embedding_32[0][0]']           \n",
            "                                                                                                  \n",
            " dropout_20 (Dropout)           (None, 62, 128)      0           ['conv1d_30[0][0]']              \n",
            "                                                                                                  \n",
            " dropout_21 (Dropout)           (None, 62, 256)      0           ['conv1d_31[0][0]']              \n",
            "                                                                                                  \n",
            " dropout_22 (Dropout)           (None, 62, 512)      0           ['conv1d_32[0][0]']              \n",
            "                                                                                                  \n",
            " global_max_pooling1d_28 (Globa  (None, 128)         0           ['dropout_20[0][0]']             \n",
            " lMaxPooling1D)                                                                                   \n",
            "                                                                                                  \n",
            " global_max_pooling1d_29 (Globa  (None, 256)         0           ['dropout_21[0][0]']             \n",
            " lMaxPooling1D)                                                                                   \n",
            "                                                                                                  \n",
            " global_max_pooling1d_30 (Globa  (None, 512)         0           ['dropout_22[0][0]']             \n",
            " lMaxPooling1D)                                                                                   \n",
            "                                                                                                  \n",
            " concatenate_5 (Concatenate)    (None, 896)          0           ['global_max_pooling1d_28[0][0]',\n",
            "                                                                  'global_max_pooling1d_29[0][0]',\n",
            "                                                                  'global_max_pooling1d_30[0][0]']\n",
            "                                                                                                  \n",
            " dense_22 (Dense)               (None, 13)           11661       ['concatenate_5[0][0]']          \n",
            "                                                                                                  \n",
            "==================================================================================================\n",
            "Total params: 42,319,557\n",
            "Trainable params: 42,319,557\n",
            "Non-trainable params: 0\n",
            "__________________________________________________________________________________________________\n",
            "Epoch 1/10\n",
            "304/304 [==============================] - 71s 231ms/step - loss: 2.0730 - acc: 0.3929 - val_loss: 1.6838 - val_acc: 0.4531\n",
            "Epoch 2/10\n",
            "304/304 [==============================] - 69s 228ms/step - loss: 0.6452 - acc: 0.7134 - val_loss: 1.3928 - val_acc: 0.5547\n",
            "Epoch 3/10\n",
            "304/304 [==============================] - 69s 227ms/step - loss: 0.1976 - acc: 0.8951 - val_loss: 1.1249 - val_acc: 0.6296\n",
            "Epoch 4/10\n",
            "304/304 [==============================] - 69s 227ms/step - loss: 0.0736 - acc: 0.9618 - val_loss: 1.1408 - val_acc: 0.6115\n",
            "13/13 [==============================] - 0s 19ms/step - loss: 1.1794 - acc: 0.6375\n",
            "Test Accuracy: 63.753211\n"
          ]
        }
      ]
    },
    {
      "cell_type": "markdown",
      "source": [
        "### patience 2: 62"
      ],
      "metadata": {
        "id": "1A9Q3RLu7FTl"
      }
    },
    {
      "cell_type": "code",
      "source": [
        "# create the model\n",
        "model = Sequential()\n",
        "inputs = Input(shape=(max_length,))\n",
        "\n",
        "# channel 1\n",
        "embedding1 = Embedding(vocab_size, 1000, trainable=True)(inputs)\n",
        "conv1 = Conv1D(128, 5, activation='relu')(embedding1)\n",
        "drop1 = Dropout(0.5)(conv1)\n",
        "pool1 = GlobalMaxPooling1D()(drop1)\n",
        "# channel 2\n",
        "embedding2 = Embedding(vocab_size, 1000, trainable=True)(inputs)\n",
        "conv2 = Conv1D(256, 5, activation='relu')(embedding2)\n",
        "drop2 = Dropout(0.5)(conv2)\n",
        "pool2 = GlobalMaxPooling1D()(drop2)\n",
        "# channel 3\n",
        "embedding3 = Embedding(vocab_size, 1000, trainable=True)(inputs)\n",
        "conv3 = Conv1D(512, 5, activation='relu')(embedding3)\n",
        "drop3 = Dropout(0.5)(conv3)\n",
        "pool3 = GlobalMaxPooling1D()(drop3)\n",
        "\n",
        "# merge\n",
        "merged = concatenate([pool1, pool2, pool3])\n",
        "\n",
        "# Fully connected \n",
        "outputs = Dense(num_classes, activation='softmax')(merged) #1 Dense better than 2 or three Denses\n",
        "\n",
        "model = Model(inputs=[inputs], outputs=outputs)\n",
        "model.summary()\n",
        "\n",
        "#put early stopping\n",
        "early_stopping = EarlyStopping(monitor='val_loss', patience=2, mode='min')\n",
        "\n",
        "#Your choices of activation='softmax' in the last layer and compile choice of loss='categorical_crossentropy' \n",
        "#are good for a model to predict multiple mutually-exclusive classes.\n",
        "\n",
        "#Learning Rate = 0.01, acc = 40%\n",
        "\n",
        "model.compile(loss='categorical_crossentropy',\n",
        "              optimizer='adam', \n",
        "              metrics=['acc'],)\n",
        "\n",
        "train_y = [x-1 for x in train['Human_CategoryID'].tolist()]\n",
        "\n",
        "class_weights = compute_class_weight(\n",
        "                                        class_weight = \"balanced\",\n",
        "                                        classes = np.unique(train_y),\n",
        "                                        y = train_y                                                   \n",
        "                                    )\n",
        "class_weights = dict(zip(np.unique(train_y), class_weights))\n",
        "\n",
        "history = model.fit(Xtrain, ytrain, \n",
        "                    epochs=10, batch_size=32, #32, 128 > 8 (worse), 16, 64, 256\n",
        "                    validation_split=0.2,\n",
        "                    callbacks=[early_stopping],\n",
        "                    class_weight=class_weights)\n",
        "\n",
        "loss, acc = model.evaluate(Xtest, ytest)\n",
        "print('Test Accuracy: %f' % (acc*100))"
      ],
      "metadata": {
        "colab": {
          "base_uri": "https://localhost:8080/"
        },
        "id": "3JCUpe-h7FTl",
        "outputId": "219bf802-8745-422f-e2c5-47890b37ea3b"
      },
      "execution_count": 72,
      "outputs": [
        {
          "output_type": "stream",
          "name": "stdout",
          "text": [
            "Model: \"model_6\"\n",
            "__________________________________________________________________________________________________\n",
            " Layer (type)                   Output Shape         Param #     Connected to                     \n",
            "==================================================================================================\n",
            " input_7 (InputLayer)           [(None, 66)]         0           []                               \n",
            "                                                                                                  \n",
            " embedding_33 (Embedding)       (None, 66, 1000)     12609000    ['input_7[0][0]']                \n",
            "                                                                                                  \n",
            " embedding_34 (Embedding)       (None, 66, 1000)     12609000    ['input_7[0][0]']                \n",
            "                                                                                                  \n",
            " embedding_35 (Embedding)       (None, 66, 1000)     12609000    ['input_7[0][0]']                \n",
            "                                                                                                  \n",
            " conv1d_33 (Conv1D)             (None, 62, 128)      640128      ['embedding_33[0][0]']           \n",
            "                                                                                                  \n",
            " conv1d_34 (Conv1D)             (None, 62, 256)      1280256     ['embedding_34[0][0]']           \n",
            "                                                                                                  \n",
            " conv1d_35 (Conv1D)             (None, 62, 512)      2560512     ['embedding_35[0][0]']           \n",
            "                                                                                                  \n",
            " dropout_23 (Dropout)           (None, 62, 128)      0           ['conv1d_33[0][0]']              \n",
            "                                                                                                  \n",
            " dropout_24 (Dropout)           (None, 62, 256)      0           ['conv1d_34[0][0]']              \n",
            "                                                                                                  \n",
            " dropout_25 (Dropout)           (None, 62, 512)      0           ['conv1d_35[0][0]']              \n",
            "                                                                                                  \n",
            " global_max_pooling1d_31 (Globa  (None, 128)         0           ['dropout_23[0][0]']             \n",
            " lMaxPooling1D)                                                                                   \n",
            "                                                                                                  \n",
            " global_max_pooling1d_32 (Globa  (None, 256)         0           ['dropout_24[0][0]']             \n",
            " lMaxPooling1D)                                                                                   \n",
            "                                                                                                  \n",
            " global_max_pooling1d_33 (Globa  (None, 512)         0           ['dropout_25[0][0]']             \n",
            " lMaxPooling1D)                                                                                   \n",
            "                                                                                                  \n",
            " concatenate_6 (Concatenate)    (None, 896)          0           ['global_max_pooling1d_31[0][0]',\n",
            "                                                                  'global_max_pooling1d_32[0][0]',\n",
            "                                                                  'global_max_pooling1d_33[0][0]']\n",
            "                                                                                                  \n",
            " dense_23 (Dense)               (None, 13)           11661       ['concatenate_6[0][0]']          \n",
            "                                                                                                  \n",
            "==================================================================================================\n",
            "Total params: 42,319,557\n",
            "Trainable params: 42,319,557\n",
            "Non-trainable params: 0\n",
            "__________________________________________________________________________________________________\n",
            "Epoch 1/10\n",
            "304/304 [==============================] - 70s 226ms/step - loss: 2.1012 - acc: 0.3633 - val_loss: 1.6558 - val_acc: 0.4757\n",
            "Epoch 2/10\n",
            "304/304 [==============================] - 69s 226ms/step - loss: 0.6566 - acc: 0.7136 - val_loss: 1.2806 - val_acc: 0.5996\n",
            "Epoch 3/10\n",
            "304/304 [==============================] - 68s 225ms/step - loss: 0.1955 - acc: 0.8943 - val_loss: 1.1130 - val_acc: 0.6342\n",
            "Epoch 4/10\n",
            "304/304 [==============================] - 68s 225ms/step - loss: 0.0715 - acc: 0.9635 - val_loss: 1.1084 - val_acc: 0.6366\n",
            "Epoch 5/10\n",
            "304/304 [==============================] - 69s 225ms/step - loss: 0.0340 - acc: 0.9833 - val_loss: 1.0753 - val_acc: 0.6399\n",
            "Epoch 6/10\n",
            "304/304 [==============================] - 68s 225ms/step - loss: 0.0168 - acc: 0.9958 - val_loss: 1.1082 - val_acc: 0.6420\n",
            "Epoch 7/10\n",
            "304/304 [==============================] - 69s 226ms/step - loss: 0.0103 - acc: 0.9979 - val_loss: 1.1262 - val_acc: 0.6420\n",
            "13/13 [==============================] - 0s 19ms/step - loss: 1.2465 - acc: 0.6221\n",
            "Test Accuracy: 62.210798\n"
          ]
        }
      ]
    },
    {
      "cell_type": "markdown",
      "source": [
        "##4CNN1,(128,256,512,1024),(5) 3DO0.5 3GMP1D CONCAT D13 CW"
      ],
      "metadata": {
        "id": "zH9th0kco1QV"
      }
    },
    {
      "cell_type": "code",
      "source": [
        "import tensorflow as tf\n",
        "from tensorflow.keras import Input\n",
        "from keras.models import Sequential, Model\n",
        "from tensorflow.keras.callbacks import EarlyStopping\n",
        "from keras.layers.convolutional import Conv1D, MaxPooling1D\n",
        "from keras.layers.pooling import GlobalMaxPooling1D, AveragePooling1D, GlobalAveragePooling1D\n",
        "from keras.layers import Dense, Flatten, Embedding, BatchNormalization, Dropout, LSTM, Bidirectional, TimeDistributed, concatenate"
      ],
      "metadata": {
        "id": "oOv3IhP9o1QW"
      },
      "execution_count": 56,
      "outputs": []
    },
    {
      "cell_type": "markdown",
      "source": [
        "### patience 1: 62"
      ],
      "metadata": {
        "id": "UQidm601xeP1"
      }
    },
    {
      "cell_type": "code",
      "source": [
        "# create the model\n",
        "model = Sequential()\n",
        "inputs = Input(shape=(max_length,))\n",
        "\n",
        "# channel 1\n",
        "embedding1 = Embedding(vocab_size, 1000, trainable=True)(inputs)\n",
        "conv1 = Conv1D(128, 5, activation='relu')(embedding1)\n",
        "drop1 = Dropout(0.5)(conv1)\n",
        "pool1 = GlobalMaxPooling1D()(drop1)\n",
        "# channel 2\n",
        "embedding2 = Embedding(vocab_size, 1000, trainable=True)(inputs)\n",
        "conv2 = Conv1D(256, 5, activation='relu')(embedding2)\n",
        "drop2 = Dropout(0.5)(conv2)\n",
        "pool2 = GlobalMaxPooling1D()(drop2)\n",
        "# channel 3\n",
        "embedding3 = Embedding(vocab_size, 1000, trainable=True)(inputs)\n",
        "conv3 = Conv1D(512, 5, activation='relu')(embedding3)\n",
        "drop3 = Dropout(0.5)(conv3)\n",
        "pool3 = GlobalMaxPooling1D()(drop3)\n",
        "# channel 4\n",
        "embedding4 = Embedding(vocab_size, 1000, trainable=True)(inputs)\n",
        "conv4 = Conv1D(1024, 5, activation='relu')(embedding4)\n",
        "drop4 = Dropout(0.5)(conv4)\n",
        "pool4 = GlobalMaxPooling1D()(drop4)\n",
        "\n",
        "# merge\n",
        "merged = concatenate([pool1, pool2, pool3, pool4])\n",
        "\n",
        "# Fully connected \n",
        "outputs = Dense(num_classes, activation='softmax')(merged) #1 Dense better than 2 or three Denses\n",
        "\n",
        "model = Model(inputs=[inputs], outputs=outputs)\n",
        "model.summary()\n",
        "\n",
        "#put early stopping\n",
        "early_stopping = EarlyStopping(monitor='val_loss', patience=1, mode='min')\n",
        "\n",
        "#Your choices of activation='softmax' in the last layer and compile choice of loss='categorical_crossentropy' \n",
        "#are good for a model to predict multiple mutually-exclusive classes.\n",
        "\n",
        "#Learning Rate = 0.01, acc = 40%\n",
        "\n",
        "model.compile(loss='categorical_crossentropy',\n",
        "              optimizer='adam', \n",
        "              metrics=['acc'],)\n",
        "\n",
        "train_y = [x-1 for x in train['Human_CategoryID'].tolist()]\n",
        "\n",
        "class_weights = compute_class_weight(\n",
        "                                        class_weight = \"balanced\",\n",
        "                                        classes = np.unique(train_y),\n",
        "                                        y = train_y                                                   \n",
        "                                    )\n",
        "class_weights = dict(zip(np.unique(train_y), class_weights))\n",
        "\n",
        "history = model.fit(Xtrain, ytrain, \n",
        "                    epochs=10, batch_size=32, #32, 128 > 8 (worse), 16, 64, 256\n",
        "                    validation_split=0.2,\n",
        "                    callbacks=[early_stopping],\n",
        "                    class_weight=class_weights)\n",
        "\n",
        "loss, acc = model.evaluate(Xtest, ytest)\n",
        "print('Test Accuracy: %f' % (acc*100))"
      ],
      "metadata": {
        "colab": {
          "base_uri": "https://localhost:8080/"
        },
        "id": "ir-HBrU13Mq2",
        "outputId": "70c3fdd7-6e00-4eae-fb23-b921dc0162d7"
      },
      "execution_count": 57,
      "outputs": [
        {
          "output_type": "stream",
          "name": "stdout",
          "text": [
            "Model: \"model_1\"\n",
            "__________________________________________________________________________________________________\n",
            " Layer (type)                   Output Shape         Param #     Connected to                     \n",
            "==================================================================================================\n",
            " input_2 (InputLayer)           [(None, 66)]         0           []                               \n",
            "                                                                                                  \n",
            " embedding_14 (Embedding)       (None, 66, 1000)     12609000    ['input_2[0][0]']                \n",
            "                                                                                                  \n",
            " embedding_15 (Embedding)       (None, 66, 1000)     12609000    ['input_2[0][0]']                \n",
            "                                                                                                  \n",
            " embedding_16 (Embedding)       (None, 66, 1000)     12609000    ['input_2[0][0]']                \n",
            "                                                                                                  \n",
            " embedding_17 (Embedding)       (None, 66, 1000)     12609000    ['input_2[0][0]']                \n",
            "                                                                                                  \n",
            " conv1d_14 (Conv1D)             (None, 62, 128)      640128      ['embedding_14[0][0]']           \n",
            "                                                                                                  \n",
            " conv1d_15 (Conv1D)             (None, 62, 256)      1280256     ['embedding_15[0][0]']           \n",
            "                                                                                                  \n",
            " conv1d_16 (Conv1D)             (None, 62, 512)      2560512     ['embedding_16[0][0]']           \n",
            "                                                                                                  \n",
            " conv1d_17 (Conv1D)             (None, 62, 1024)     5121024     ['embedding_17[0][0]']           \n",
            "                                                                                                  \n",
            " dropout_4 (Dropout)            (None, 62, 128)      0           ['conv1d_14[0][0]']              \n",
            "                                                                                                  \n",
            " dropout_5 (Dropout)            (None, 62, 256)      0           ['conv1d_15[0][0]']              \n",
            "                                                                                                  \n",
            " dropout_6 (Dropout)            (None, 62, 512)      0           ['conv1d_16[0][0]']              \n",
            "                                                                                                  \n",
            " dropout_7 (Dropout)            (None, 62, 1024)     0           ['conv1d_17[0][0]']              \n",
            "                                                                                                  \n",
            " global_max_pooling1d_12 (Globa  (None, 128)         0           ['dropout_4[0][0]']              \n",
            " lMaxPooling1D)                                                                                   \n",
            "                                                                                                  \n",
            " global_max_pooling1d_13 (Globa  (None, 256)         0           ['dropout_5[0][0]']              \n",
            " lMaxPooling1D)                                                                                   \n",
            "                                                                                                  \n",
            " global_max_pooling1d_14 (Globa  (None, 512)         0           ['dropout_6[0][0]']              \n",
            " lMaxPooling1D)                                                                                   \n",
            "                                                                                                  \n",
            " global_max_pooling1d_15 (Globa  (None, 1024)        0           ['dropout_7[0][0]']              \n",
            " lMaxPooling1D)                                                                                   \n",
            "                                                                                                  \n",
            " concatenate_1 (Concatenate)    (None, 1920)         0           ['global_max_pooling1d_12[0][0]',\n",
            "                                                                  'global_max_pooling1d_13[0][0]',\n",
            "                                                                  'global_max_pooling1d_14[0][0]',\n",
            "                                                                  'global_max_pooling1d_15[0][0]']\n",
            "                                                                                                  \n",
            " dense_18 (Dense)               (None, 13)           24973       ['concatenate_1[0][0]']          \n",
            "                                                                                                  \n",
            "==================================================================================================\n",
            "Total params: 60,062,893\n",
            "Trainable params: 60,062,893\n",
            "Non-trainable params: 0\n",
            "__________________________________________________________________________________________________\n",
            "Epoch 1/10\n",
            "304/304 [==============================] - 173s 564ms/step - loss: 2.0765 - acc: 0.3815 - val_loss: 1.4883 - val_acc: 0.5218\n",
            "Epoch 2/10\n",
            "304/304 [==============================] - 147s 483ms/step - loss: 0.6172 - acc: 0.7293 - val_loss: 1.2067 - val_acc: 0.6021\n",
            "Epoch 3/10\n",
            "304/304 [==============================] - 156s 514ms/step - loss: 0.1623 - acc: 0.9117 - val_loss: 1.1117 - val_acc: 0.6309\n",
            "Epoch 4/10\n",
            "304/304 [==============================] - 135s 443ms/step - loss: 0.0508 - acc: 0.9754 - val_loss: 1.0914 - val_acc: 0.6432\n",
            "Epoch 5/10\n",
            "304/304 [==============================] - 125s 411ms/step - loss: 0.0225 - acc: 0.9918 - val_loss: 1.1755 - val_acc: 0.6066\n",
            "13/13 [==============================] - 1s 38ms/step - loss: 1.2144 - acc: 0.6298\n",
            "Test Accuracy: 62.982005\n"
          ]
        }
      ]
    },
    {
      "cell_type": "markdown",
      "source": [
        "### patience 2: 65"
      ],
      "metadata": {
        "id": "BBqiWgrMxWlM"
      }
    },
    {
      "cell_type": "code",
      "source": [
        "# create the model\n",
        "model = Sequential()\n",
        "inputs = Input(shape=(max_length,))\n",
        "\n",
        "# channel 1\n",
        "embedding1 = Embedding(vocab_size, 1000, trainable=True)(inputs)\n",
        "conv1 = Conv1D(128, 5, activation='relu')(embedding1)\n",
        "drop1 = Dropout(0.5)(conv1)\n",
        "pool1 = GlobalMaxPooling1D()(drop1)\n",
        "# channel 2\n",
        "embedding2 = Embedding(vocab_size, 1000, trainable=True)(inputs)\n",
        "conv2 = Conv1D(256, 5, activation='relu')(embedding2)\n",
        "drop2 = Dropout(0.5)(conv2)\n",
        "pool2 = GlobalMaxPooling1D()(drop2)\n",
        "# channel 3\n",
        "embedding3 = Embedding(vocab_size, 1000, trainable=True)(inputs)\n",
        "conv3 = Conv1D(512, 5, activation='relu')(embedding3)\n",
        "drop3 = Dropout(0.5)(conv3)\n",
        "pool3 = GlobalMaxPooling1D()(drop3)\n",
        "# channel 4\n",
        "embedding4 = Embedding(vocab_size, 1000, trainable=True)(inputs)\n",
        "conv4 = Conv1D(1024, 5, activation='relu')(embedding4)\n",
        "drop4 = Dropout(0.5)(conv4)\n",
        "pool4 = GlobalMaxPooling1D()(drop4)\n",
        "\n",
        "# merge\n",
        "merged = concatenate([pool1, pool2, pool3, pool4])\n",
        "\n",
        "# Fully connected \n",
        "outputs = Dense(num_classes, activation='softmax')(merged) #1 Dense better than 2 or three Denses\n",
        "\n",
        "model = Model(inputs=[inputs], outputs=outputs)\n",
        "model.summary()\n",
        "\n",
        "#put early stopping\n",
        "early_stopping = EarlyStopping(monitor='val_loss', patience=2, mode='min')\n",
        "\n",
        "#Your choices of activation='softmax' in the last layer and compile choice of loss='categorical_crossentropy' \n",
        "#are good for a model to predict multiple mutually-exclusive classes.\n",
        "\n",
        "#Learning Rate = 0.01, acc = 40%\n",
        "\n",
        "model.compile(loss='categorical_crossentropy',\n",
        "              optimizer='adam', \n",
        "              metrics=['acc'],)\n",
        "\n",
        "train_y = [x-1 for x in train['Human_CategoryID'].tolist()]\n",
        "\n",
        "class_weights = compute_class_weight(\n",
        "                                        class_weight = \"balanced\",\n",
        "                                        classes = np.unique(train_y),\n",
        "                                        y = train_y                                                   \n",
        "                                    )\n",
        "class_weights = dict(zip(np.unique(train_y), class_weights))\n",
        "\n",
        "history = model.fit(Xtrain, ytrain, \n",
        "                    epochs=10, batch_size=32, #32, 128 > 8 (worse), 16, 64, 256\n",
        "                    validation_split=0.2,\n",
        "                    callbacks=[early_stopping],\n",
        "                    class_weight=class_weights)\n",
        "\n",
        "loss, acc = model.evaluate(Xtest, ytest)\n",
        "print('Test Accuracy: %f' % (acc*100))"
      ],
      "metadata": {
        "colab": {
          "base_uri": "https://localhost:8080/"
        },
        "id": "NNUqJ357O-69",
        "outputId": "8f08d989-f19b-4eb0-a092-abc9965074b2"
      },
      "execution_count": 74,
      "outputs": [
        {
          "output_type": "stream",
          "name": "stdout",
          "text": [
            "Model: \"model_8\"\n",
            "__________________________________________________________________________________________________\n",
            " Layer (type)                   Output Shape         Param #     Connected to                     \n",
            "==================================================================================================\n",
            " input_9 (InputLayer)           [(None, 66)]         0           []                               \n",
            "                                                                                                  \n",
            " embedding_40 (Embedding)       (None, 66, 1000)     12609000    ['input_9[0][0]']                \n",
            "                                                                                                  \n",
            " embedding_41 (Embedding)       (None, 66, 1000)     12609000    ['input_9[0][0]']                \n",
            "                                                                                                  \n",
            " embedding_42 (Embedding)       (None, 66, 1000)     12609000    ['input_9[0][0]']                \n",
            "                                                                                                  \n",
            " embedding_43 (Embedding)       (None, 66, 1000)     12609000    ['input_9[0][0]']                \n",
            "                                                                                                  \n",
            " conv1d_40 (Conv1D)             (None, 62, 128)      640128      ['embedding_40[0][0]']           \n",
            "                                                                                                  \n",
            " conv1d_41 (Conv1D)             (None, 62, 256)      1280256     ['embedding_41[0][0]']           \n",
            "                                                                                                  \n",
            " conv1d_42 (Conv1D)             (None, 62, 512)      2560512     ['embedding_42[0][0]']           \n",
            "                                                                                                  \n",
            " conv1d_43 (Conv1D)             (None, 62, 1024)     5121024     ['embedding_43[0][0]']           \n",
            "                                                                                                  \n",
            " dropout_30 (Dropout)           (None, 62, 128)      0           ['conv1d_40[0][0]']              \n",
            "                                                                                                  \n",
            " dropout_31 (Dropout)           (None, 62, 256)      0           ['conv1d_41[0][0]']              \n",
            "                                                                                                  \n",
            " dropout_32 (Dropout)           (None, 62, 512)      0           ['conv1d_42[0][0]']              \n",
            "                                                                                                  \n",
            " dropout_33 (Dropout)           (None, 62, 1024)     0           ['conv1d_43[0][0]']              \n",
            "                                                                                                  \n",
            " global_max_pooling1d_38 (Globa  (None, 128)         0           ['dropout_30[0][0]']             \n",
            " lMaxPooling1D)                                                                                   \n",
            "                                                                                                  \n",
            " global_max_pooling1d_39 (Globa  (None, 256)         0           ['dropout_31[0][0]']             \n",
            " lMaxPooling1D)                                                                                   \n",
            "                                                                                                  \n",
            " global_max_pooling1d_40 (Globa  (None, 512)         0           ['dropout_32[0][0]']             \n",
            " lMaxPooling1D)                                                                                   \n",
            "                                                                                                  \n",
            " global_max_pooling1d_41 (Globa  (None, 1024)        0           ['dropout_33[0][0]']             \n",
            " lMaxPooling1D)                                                                                   \n",
            "                                                                                                  \n",
            " concatenate_8 (Concatenate)    (None, 1920)         0           ['global_max_pooling1d_38[0][0]',\n",
            "                                                                  'global_max_pooling1d_39[0][0]',\n",
            "                                                                  'global_max_pooling1d_40[0][0]',\n",
            "                                                                  'global_max_pooling1d_41[0][0]']\n",
            "                                                                                                  \n",
            " dense_25 (Dense)               (None, 13)           24973       ['concatenate_8[0][0]']          \n",
            "                                                                                                  \n",
            "==================================================================================================\n",
            "Total params: 60,062,893\n",
            "Trainable params: 60,062,893\n",
            "Non-trainable params: 0\n",
            "__________________________________________________________________________________________________\n",
            "Epoch 1/10\n",
            "304/304 [==============================] - 128s 416ms/step - loss: 2.0464 - acc: 0.3983 - val_loss: 1.5959 - val_acc: 0.4774\n",
            "Epoch 2/10\n",
            "304/304 [==============================] - 128s 420ms/step - loss: 0.5899 - acc: 0.7353 - val_loss: 1.3225 - val_acc: 0.5654\n",
            "Epoch 3/10\n",
            "304/304 [==============================] - 125s 412ms/step - loss: 0.1518 - acc: 0.9159 - val_loss: 1.1856 - val_acc: 0.6099\n",
            "Epoch 4/10\n",
            "304/304 [==============================] - 126s 414ms/step - loss: 0.0537 - acc: 0.9718 - val_loss: 1.1141 - val_acc: 0.6305\n",
            "Epoch 5/10\n",
            "304/304 [==============================] - 125s 410ms/step - loss: 0.0227 - acc: 0.9913 - val_loss: 1.1245 - val_acc: 0.6358\n",
            "Epoch 6/10\n",
            "304/304 [==============================] - 124s 409ms/step - loss: 0.0113 - acc: 0.9970 - val_loss: 1.1323 - val_acc: 0.6391\n",
            "13/13 [==============================] - 1s 38ms/step - loss: 1.1651 - acc: 0.6555\n",
            "Test Accuracy: 65.552700\n"
          ]
        }
      ]
    },
    {
      "cell_type": "markdown",
      "source": [
        "##4CNN1,(256,512,1024, 2048),(5) 3DO0.5 3GMP1D CONCAT D13 CW:"
      ],
      "metadata": {
        "id": "Nr6TkLvc3P-O"
      }
    },
    {
      "cell_type": "code",
      "source": [
        "import tensorflow as tf\n",
        "from tensorflow.keras import Input\n",
        "from keras.models import Sequential, Model\n",
        "from tensorflow.keras.callbacks import EarlyStopping\n",
        "from keras.layers.convolutional import Conv1D, MaxPooling1D\n",
        "from keras.layers.pooling import GlobalMaxPooling1D, AveragePooling1D, GlobalAveragePooling1D\n",
        "from keras.layers import Dense, Flatten, Embedding, BatchNormalization, Dropout, LSTM, Bidirectional, TimeDistributed, concatenate"
      ],
      "metadata": {
        "id": "Ve1NurIt3P-O"
      },
      "execution_count": null,
      "outputs": []
    },
    {
      "cell_type": "markdown",
      "source": [
        "### patience 1: 61"
      ],
      "metadata": {
        "id": "kHZEN6ci3P-P"
      }
    },
    {
      "cell_type": "code",
      "source": [
        "# create the model\n",
        "model = Sequential()\n",
        "inputs = Input(shape=(max_length,))\n",
        "\n",
        "# channel 1\n",
        "embedding1 = Embedding(vocab_size, 1000, trainable=True)(inputs)\n",
        "conv1 = Conv1D(256, 5, activation='relu')(embedding1)\n",
        "drop1 = Dropout(0.5)(conv1)\n",
        "pool1 = GlobalMaxPooling1D()(drop1)\n",
        "# channel 2\n",
        "embedding2 = Embedding(vocab_size, 1000, trainable=True)(inputs)\n",
        "conv2 = Conv1D(512, 5, activation='relu')(embedding2)\n",
        "drop2 = Dropout(0.5)(conv2)\n",
        "pool2 = GlobalMaxPooling1D()(drop2)\n",
        "# channel 3\n",
        "embedding3 = Embedding(vocab_size, 1000, trainable=True)(inputs)\n",
        "conv3 = Conv1D(1024, 5, activation='relu')(embedding3)\n",
        "drop3 = Dropout(0.5)(conv3)\n",
        "pool3 = GlobalMaxPooling1D()(drop3)\n",
        "# channel 4\n",
        "embedding4 = Embedding(vocab_size, 1000, trainable=True)(inputs)\n",
        "conv4 = Conv1D(2048, 5, activation='relu')(embedding4)\n",
        "drop4 = Dropout(0.5)(conv4)\n",
        "pool4 = GlobalMaxPooling1D()(drop4)\n",
        "\n",
        "# merge\n",
        "merged = concatenate([pool1, pool2, pool3, pool4])\n",
        "\n",
        "# Fully connected \n",
        "outputs = Dense(num_classes, activation='softmax')(merged) #1 Dense better than 2 or three Denses\n",
        "\n",
        "model = Model(inputs=[inputs], outputs=outputs)\n",
        "model.summary()\n",
        "\n",
        "#put early stopping\n",
        "early_stopping = EarlyStopping(monitor='val_loss', patience=1, mode='min')\n",
        "\n",
        "#Your choices of activation='softmax' in the last layer and compile choice of loss='categorical_crossentropy' \n",
        "#are good for a model to predict multiple mutually-exclusive classes.\n",
        "\n",
        "#Learning Rate = 0.01, acc = 40%\n",
        "\n",
        "model.compile(loss='categorical_crossentropy',\n",
        "              optimizer='adam', \n",
        "              metrics=['acc'],)\n",
        "\n",
        "train_y = [x-1 for x in train['Human_CategoryID'].tolist()]\n",
        "\n",
        "class_weights = compute_class_weight(\n",
        "                                        class_weight = \"balanced\",\n",
        "                                        classes = np.unique(train_y),\n",
        "                                        y = train_y                                                   \n",
        "                                    )\n",
        "class_weights = dict(zip(np.unique(train_y), class_weights))\n",
        "\n",
        "history = model.fit(Xtrain, ytrain, \n",
        "                    epochs=10, batch_size=32, #32, 128 > 8 (worse), 16, 64, 256\n",
        "                    validation_split=0.2,\n",
        "                    callbacks=[early_stopping],\n",
        "                    class_weight=class_weights)\n",
        "\n",
        "loss, acc = model.evaluate(Xtest, ytest)\n",
        "print('Test Accuracy: %f' % (acc*100))"
      ],
      "metadata": {
        "colab": {
          "base_uri": "https://localhost:8080/"
        },
        "id": "wtEEFmtz3P-P",
        "outputId": "9caaf60b-1e12-4cd9-81d5-b89919efadae"
      },
      "execution_count": 60,
      "outputs": [
        {
          "output_type": "stream",
          "name": "stdout",
          "text": [
            "Model: \"model_3\"\n",
            "__________________________________________________________________________________________________\n",
            " Layer (type)                   Output Shape         Param #     Connected to                     \n",
            "==================================================================================================\n",
            " input_4 (InputLayer)           [(None, 66)]         0           []                               \n",
            "                                                                                                  \n",
            " embedding_22 (Embedding)       (None, 66, 1000)     12609000    ['input_4[0][0]']                \n",
            "                                                                                                  \n",
            " embedding_23 (Embedding)       (None, 66, 1000)     12609000    ['input_4[0][0]']                \n",
            "                                                                                                  \n",
            " embedding_24 (Embedding)       (None, 66, 1000)     12609000    ['input_4[0][0]']                \n",
            "                                                                                                  \n",
            " embedding_25 (Embedding)       (None, 66, 1000)     12609000    ['input_4[0][0]']                \n",
            "                                                                                                  \n",
            " conv1d_22 (Conv1D)             (None, 62, 256)      1280256     ['embedding_22[0][0]']           \n",
            "                                                                                                  \n",
            " conv1d_23 (Conv1D)             (None, 62, 512)      2560512     ['embedding_23[0][0]']           \n",
            "                                                                                                  \n",
            " conv1d_24 (Conv1D)             (None, 62, 1024)     5121024     ['embedding_24[0][0]']           \n",
            "                                                                                                  \n",
            " conv1d_25 (Conv1D)             (None, 62, 2048)     10242048    ['embedding_25[0][0]']           \n",
            "                                                                                                  \n",
            " dropout_12 (Dropout)           (None, 62, 256)      0           ['conv1d_22[0][0]']              \n",
            "                                                                                                  \n",
            " dropout_13 (Dropout)           (None, 62, 512)      0           ['conv1d_23[0][0]']              \n",
            "                                                                                                  \n",
            " dropout_14 (Dropout)           (None, 62, 1024)     0           ['conv1d_24[0][0]']              \n",
            "                                                                                                  \n",
            " dropout_15 (Dropout)           (None, 62, 2048)     0           ['conv1d_25[0][0]']              \n",
            "                                                                                                  \n",
            " global_max_pooling1d_20 (Globa  (None, 256)         0           ['dropout_12[0][0]']             \n",
            " lMaxPooling1D)                                                                                   \n",
            "                                                                                                  \n",
            " global_max_pooling1d_21 (Globa  (None, 512)         0           ['dropout_13[0][0]']             \n",
            " lMaxPooling1D)                                                                                   \n",
            "                                                                                                  \n",
            " global_max_pooling1d_22 (Globa  (None, 1024)        0           ['dropout_14[0][0]']             \n",
            " lMaxPooling1D)                                                                                   \n",
            "                                                                                                  \n",
            " global_max_pooling1d_23 (Globa  (None, 2048)        0           ['dropout_15[0][0]']             \n",
            " lMaxPooling1D)                                                                                   \n",
            "                                                                                                  \n",
            " concatenate_3 (Concatenate)    (None, 3840)         0           ['global_max_pooling1d_20[0][0]',\n",
            "                                                                  'global_max_pooling1d_21[0][0]',\n",
            "                                                                  'global_max_pooling1d_22[0][0]',\n",
            "                                                                  'global_max_pooling1d_23[0][0]']\n",
            "                                                                                                  \n",
            " dense_20 (Dense)               (None, 13)           49933       ['concatenate_3[0][0]']          \n",
            "                                                                                                  \n",
            "==================================================================================================\n",
            "Total params: 69,689,773\n",
            "Trainable params: 69,689,773\n",
            "Non-trainable params: 0\n",
            "__________________________________________________________________________________________________\n",
            "Epoch 1/10\n",
            "304/304 [==============================] - 223s 730ms/step - loss: 2.1106 - acc: 0.3968 - val_loss: 1.6511 - val_acc: 0.4914\n",
            "Epoch 2/10\n",
            "304/304 [==============================] - 248s 816ms/step - loss: 0.6596 - acc: 0.7207 - val_loss: 1.2919 - val_acc: 0.5613\n",
            "Epoch 3/10\n",
            "304/304 [==============================] - 275s 904ms/step - loss: 0.1525 - acc: 0.9120 - val_loss: 1.1582 - val_acc: 0.6202\n",
            "Epoch 4/10\n",
            "304/304 [==============================] - 259s 853ms/step - loss: 0.0456 - acc: 0.9757 - val_loss: 1.1294 - val_acc: 0.6288\n",
            "Epoch 5/10\n",
            "304/304 [==============================] - 232s 765ms/step - loss: 0.0171 - acc: 0.9934 - val_loss: 1.1357 - val_acc: 0.6379\n",
            "13/13 [==============================] - 1s 69ms/step - loss: 1.2389 - acc: 0.6195\n",
            "Test Accuracy: 61.953729\n"
          ]
        }
      ]
    },
    {
      "cell_type": "markdown",
      "source": [
        "### patience 2: 61"
      ],
      "metadata": {
        "id": "vQzPQy863P-P"
      }
    },
    {
      "cell_type": "code",
      "source": [
        "# create the model\n",
        "model = Sequential()\n",
        "inputs = Input(shape=(max_length,))\n",
        "\n",
        "# channel 1\n",
        "embedding1 = Embedding(vocab_size, 1000, trainable=True)(inputs)\n",
        "conv1 = Conv1D(256, 5, activation='relu')(embedding1)\n",
        "drop1 = Dropout(0.5)(conv1)\n",
        "pool1 = GlobalMaxPooling1D()(drop1)\n",
        "# channel 2\n",
        "embedding2 = Embedding(vocab_size, 1000, trainable=True)(inputs)\n",
        "conv2 = Conv1D(512, 5, activation='relu')(embedding2)\n",
        "drop2 = Dropout(0.5)(conv2)\n",
        "pool2 = GlobalMaxPooling1D()(drop2)\n",
        "# channel 3\n",
        "embedding3 = Embedding(vocab_size, 1000, trainable=True)(inputs)\n",
        "conv3 = Conv1D(1024, 5, activation='relu')(embedding3)\n",
        "drop3 = Dropout(0.5)(conv3)\n",
        "pool3 = GlobalMaxPooling1D()(drop3)\n",
        "# channel 4\n",
        "embedding4 = Embedding(vocab_size, 1000, trainable=True)(inputs)\n",
        "conv4 = Conv1D(2048, 5, activation='relu')(embedding4)\n",
        "drop4 = Dropout(0.5)(conv4)\n",
        "pool4 = GlobalMaxPooling1D()(drop4)\n",
        "\n",
        "# merge\n",
        "merged = concatenate([pool1, pool2, pool3, pool4])\n",
        "\n",
        "# Fully connected \n",
        "outputs = Dense(num_classes, activation='softmax')(merged) #1 Dense better than 2 or three Denses\n",
        "\n",
        "model = Model(inputs=[inputs], outputs=outputs)\n",
        "model.summary()\n",
        "\n",
        "#put early stopping\n",
        "early_stopping = EarlyStopping(monitor='val_loss', patience=2, mode='min')\n",
        "\n",
        "#Your choices of activation='softmax' in the last layer and compile choice of loss='categorical_crossentropy' \n",
        "#are good for a model to predict multiple mutually-exclusive classes.\n",
        "\n",
        "#Learning Rate = 0.01, acc = 40%\n",
        "\n",
        "model.compile(loss='categorical_crossentropy',\n",
        "              optimizer='adam', \n",
        "              metrics=['acc'],)\n",
        "\n",
        "train_y = [x-1 for x in train['Human_CategoryID'].tolist()]\n",
        "\n",
        "class_weights = compute_class_weight(\n",
        "                                        class_weight = \"balanced\",\n",
        "                                        classes = np.unique(train_y),\n",
        "                                        y = train_y                                                   \n",
        "                                    )\n",
        "class_weights = dict(zip(np.unique(train_y), class_weights))\n",
        "\n",
        "history = model.fit(Xtrain, ytrain, \n",
        "                    epochs=10, batch_size=32, #32, 128 > 8 (worse), 16, 64, 256\n",
        "                    validation_split=0.2,\n",
        "                    callbacks=[early_stopping],\n",
        "                    class_weight=class_weights)\n",
        "\n",
        "loss, acc = model.evaluate(Xtest, ytest)\n",
        "print('Test Accuracy: %f' % (acc*100))"
      ],
      "metadata": {
        "colab": {
          "base_uri": "https://localhost:8080/"
        },
        "id": "cobsGWqqPB3e",
        "outputId": "9ee39e5e-e151-453a-cf93-012bb8f58d87"
      },
      "execution_count": 73,
      "outputs": [
        {
          "output_type": "stream",
          "name": "stdout",
          "text": [
            "Model: \"model_7\"\n",
            "__________________________________________________________________________________________________\n",
            " Layer (type)                   Output Shape         Param #     Connected to                     \n",
            "==================================================================================================\n",
            " input_8 (InputLayer)           [(None, 66)]         0           []                               \n",
            "                                                                                                  \n",
            " embedding_36 (Embedding)       (None, 66, 1000)     12609000    ['input_8[0][0]']                \n",
            "                                                                                                  \n",
            " embedding_37 (Embedding)       (None, 66, 1000)     12609000    ['input_8[0][0]']                \n",
            "                                                                                                  \n",
            " embedding_38 (Embedding)       (None, 66, 1000)     12609000    ['input_8[0][0]']                \n",
            "                                                                                                  \n",
            " embedding_39 (Embedding)       (None, 66, 1000)     12609000    ['input_8[0][0]']                \n",
            "                                                                                                  \n",
            " conv1d_36 (Conv1D)             (None, 62, 256)      1280256     ['embedding_36[0][0]']           \n",
            "                                                                                                  \n",
            " conv1d_37 (Conv1D)             (None, 62, 512)      2560512     ['embedding_37[0][0]']           \n",
            "                                                                                                  \n",
            " conv1d_38 (Conv1D)             (None, 62, 1024)     5121024     ['embedding_38[0][0]']           \n",
            "                                                                                                  \n",
            " conv1d_39 (Conv1D)             (None, 62, 2048)     10242048    ['embedding_39[0][0]']           \n",
            "                                                                                                  \n",
            " dropout_26 (Dropout)           (None, 62, 256)      0           ['conv1d_36[0][0]']              \n",
            "                                                                                                  \n",
            " dropout_27 (Dropout)           (None, 62, 512)      0           ['conv1d_37[0][0]']              \n",
            "                                                                                                  \n",
            " dropout_28 (Dropout)           (None, 62, 1024)     0           ['conv1d_38[0][0]']              \n",
            "                                                                                                  \n",
            " dropout_29 (Dropout)           (None, 62, 2048)     0           ['conv1d_39[0][0]']              \n",
            "                                                                                                  \n",
            " global_max_pooling1d_34 (Globa  (None, 256)         0           ['dropout_26[0][0]']             \n",
            " lMaxPooling1D)                                                                                   \n",
            "                                                                                                  \n",
            " global_max_pooling1d_35 (Globa  (None, 512)         0           ['dropout_27[0][0]']             \n",
            " lMaxPooling1D)                                                                                   \n",
            "                                                                                                  \n",
            " global_max_pooling1d_36 (Globa  (None, 1024)        0           ['dropout_28[0][0]']             \n",
            " lMaxPooling1D)                                                                                   \n",
            "                                                                                                  \n",
            " global_max_pooling1d_37 (Globa  (None, 2048)        0           ['dropout_29[0][0]']             \n",
            " lMaxPooling1D)                                                                                   \n",
            "                                                                                                  \n",
            " concatenate_7 (Concatenate)    (None, 3840)         0           ['global_max_pooling1d_34[0][0]',\n",
            "                                                                  'global_max_pooling1d_35[0][0]',\n",
            "                                                                  'global_max_pooling1d_36[0][0]',\n",
            "                                                                  'global_max_pooling1d_37[0][0]']\n",
            "                                                                                                  \n",
            " dense_24 (Dense)               (None, 13)           49933       ['concatenate_7[0][0]']          \n",
            "                                                                                                  \n",
            "==================================================================================================\n",
            "Total params: 69,689,773\n",
            "Trainable params: 69,689,773\n",
            "Non-trainable params: 0\n",
            "__________________________________________________________________________________________________\n",
            "Epoch 1/10\n",
            "304/304 [==============================] - 226s 741ms/step - loss: 2.1012 - acc: 0.3905 - val_loss: 1.5374 - val_acc: 0.5016\n",
            "Epoch 2/10\n",
            "304/304 [==============================] - 247s 814ms/step - loss: 0.6196 - acc: 0.7205 - val_loss: 1.2538 - val_acc: 0.5897\n",
            "Epoch 3/10\n",
            "304/304 [==============================] - 269s 884ms/step - loss: 0.1551 - acc: 0.9117 - val_loss: 1.2576 - val_acc: 0.5852\n",
            "Epoch 4/10\n",
            "304/304 [==============================] - 243s 800ms/step - loss: 0.0497 - acc: 0.9722 - val_loss: 1.1453 - val_acc: 0.6206\n",
            "Epoch 5/10\n",
            "304/304 [==============================] - 223s 732ms/step - loss: 0.0173 - acc: 0.9938 - val_loss: 1.1415 - val_acc: 0.6239\n",
            "Epoch 6/10\n",
            "304/304 [==============================] - 222s 729ms/step - loss: 0.0125 - acc: 0.9945 - val_loss: 1.1787 - val_acc: 0.6263\n",
            "Epoch 7/10\n",
            "304/304 [==============================] - 234s 769ms/step - loss: 0.0073 - acc: 0.9987 - val_loss: 1.2516 - val_acc: 0.6292\n",
            "13/13 [==============================] - 1s 70ms/step - loss: 1.3331 - acc: 0.6170\n",
            "Test Accuracy: 61.696661\n"
          ]
        }
      ]
    },
    {
      "cell_type": "markdown",
      "metadata": {
        "id": "SbRfLoELzdM1"
      },
      "source": [
        "#Plot Confusion and Classification Report"
      ]
    },
    {
      "cell_type": "code",
      "source": [
        "#prediction\n",
        "y_pred = model.predict(Xtest)\n",
        "\n",
        "#Change one hot answer to be single digit as follows \n",
        "#https://stackoverflow.com/questions/54589669/confusion-matrix-error-classification-metrics-cant-handle-a-mix-of-multilabel\n",
        "\n",
        "rounded_labels_ypred = np.argmax(y_pred, axis=1)\n",
        "rounded_labels_ytest = np.argmax(ytest,axis=1)"
      ],
      "metadata": {
        "id": "hlYi95AqParn"
      },
      "execution_count": 75,
      "outputs": []
    },
    {
      "cell_type": "code",
      "source": [
        "plot_model(model, to_file='model_plot.png', show_shapes=True, show_layer_names=True)\n",
        "\n",
        "# from google.colab import files\n",
        "# files.download('model_plot.png')"
      ],
      "metadata": {
        "colab": {
          "base_uri": "https://localhost:8080/",
          "height": 330
        },
        "id": "iMrQHdZlPb44",
        "outputId": "1c422aa5-f0d3-4ed6-af2b-51854580f342"
      },
      "execution_count": 76,
      "outputs": [
        {
          "output_type": "execute_result",
          "data": {
            "text/plain": [
              "<IPython.core.display.Image object>"
            ],
            "image/png": "[encoded data removed]"
          },
          "metadata": {},
          "execution_count": 76
        }
      ]
    },
    {
      "cell_type": "code",
      "execution_count": 77,
      "metadata": {
        "colab": {
          "base_uri": "https://localhost:8080/",
          "height": 283
        },
        "id": "luDmNI6QzdNA",
        "outputId": "8bea7fd6-9664-4879-d7be-9b4bbf271fb9"
      },
      "outputs": [
        {
          "output_type": "execute_result",
          "data": {
            "text/plain": [
              "<matplotlib.axes._subplots.AxesSubplot at 0x7fe596853b90>"
            ]
          },
          "metadata": {},
          "execution_count": 77
        },
        {
          "output_type": "display_data",
          "data": {
            "text/plain": [
              "<Figure size 432x288 with 1 Axes>"
            ],
            "image/png": "[encoded data removed]"
          },
          "metadata": {
            "needs_background": "light"
          }
        }
      ],
      "source": [
        "history_frame = pd.DataFrame(history.history)\n",
        "history_frame.loc[:, ['loss', 'val_loss']].plot()"
      ]
    },
    {
      "cell_type": "code",
      "source": [
        "history_frame.loc[:, ['acc', 'val_acc']].plot()"
      ],
      "metadata": {
        "colab": {
          "base_uri": "https://localhost:8080/",
          "height": 283
        },
        "id": "gzEyQalGb1gY",
        "outputId": "64e65e5a-dae8-4f9f-a3e6-fb657eeb016a"
      },
      "execution_count": 80,
      "outputs": [
        {
          "output_type": "execute_result",
          "data": {
            "text/plain": [
              "<matplotlib.axes._subplots.AxesSubplot at 0x7fe5855a0c50>"
            ]
          },
          "metadata": {},
          "execution_count": 80
        },
        {
          "output_type": "display_data",
          "data": {
            "text/plain": [
              "<Figure size 432x288 with 1 Axes>"
            ],
            "image/png": "[encoded data removed]"
          },
          "metadata": {
            "needs_background": "light"
          }
        }
      ]
    },
    {
      "cell_type": "code",
      "execution_count": 81,
      "metadata": {
        "colab": {
          "base_uri": "https://localhost:8080/"
        },
        "id": "mkRNaEHqzdNA",
        "outputId": "f67ffc0d-af67-4f66-ad61-fc00b08d6ad3"
      },
      "outputs": [
        {
          "output_type": "stream",
          "name": "stdout",
          "text": [
            "test_unique_classes\n",
            "12\n"
          ]
        },
        {
          "output_type": "execute_result",
          "data": {
            "text/plain": [
              "{0: 'Accessibility',\n",
              " 2: 'Company Brand',\n",
              " 3: 'Staff Quality',\n",
              " 4: 'Timing',\n",
              " 5: 'Product and Service, Benefit',\n",
              " 6: 'Product and Service, System',\n",
              " 7: 'Product and Service, Usage and Condition',\n",
              " 8: 'Product and Service, Convenience',\n",
              " 9: 'Product and Service, Variety',\n",
              " 10: 'Product and Service, Decision',\n",
              " 11: 'Security',\n",
              " 12: 'No Category'}"
            ]
          },
          "metadata": {},
          "execution_count": 81
        }
      ],
      "source": [
        "#Find dict of label ids and names.\n",
        "if train['Human_CategoryID'].nunique() < test['Human_CategoryID'].nunique():\n",
        "  print('train_unique_classes')\n",
        "  classes_with_id_dict = {id-1: labels for id, labels in zip(train['Human_CategoryID'], train['Human_Category'])}\n",
        "  print(len(classes_with_id_dict))\n",
        "else:\n",
        "  print('test_unique_classes')\n",
        "  classes_with_id_dict = {id-1: labels for id, labels in zip(test['Human_CategoryID'], test['Human_Category'])}\n",
        "  print(len(classes_with_id_dict))\n",
        "\n",
        "classes_with_id_dict"
      ]
    },
    {
      "cell_type": "code",
      "execution_count": 82,
      "metadata": {
        "colab": {
          "base_uri": "https://localhost:8080/"
        },
        "id": "9f07gNQtzdNA",
        "outputId": "639656e3-5e18-43fb-8518-b734813d20ae"
      },
      "outputs": [
        {
          "output_type": "stream",
          "name": "stdout",
          "text": [
            "test_unique_classes\n",
            "12\n"
          ]
        }
      ],
      "source": [
        "#get an labels array in the conseuctive order based on id number.\n",
        "train_unique_classes = train['Human_CategoryID'].nunique()\n",
        "test_unique_classes = test['Human_CategoryID'].nunique()\n",
        "\n",
        "#find the label total\n",
        "if train['Human_CategoryID'].nunique() > test['Human_CategoryID'].nunique():\n",
        "  print('test_unique_classes')\n",
        "  classes_with_id = test_unique_classes\n",
        "else:\n",
        "  print('train_unique_classes')\n",
        "  classes_with_id = train_unique_classes\n",
        "\n",
        "#convert a dict to an array\n",
        "classes_array = [\"\" for x in range(classes_with_id+1)]\n",
        "\n",
        "for id, label in classes_with_id_dict.items():\n",
        "  classes_array[id] = label\n",
        "\n",
        "#delete empty string for classification report\n",
        "classes_array = [label for label in classes_array if label != \"\"]\n",
        "classes_array\n",
        "print(len(classes_array))"
      ]
    },
    {
      "cell_type": "code",
      "execution_count": 83,
      "metadata": {
        "colab": {
          "base_uri": "https://localhost:8080/"
        },
        "id": "o-0pRJ0EzdNA",
        "outputId": "a31f0513-9c40-4c9f-f2f3-af6c30f72e67"
      },
      "outputs": [
        {
          "output_type": "stream",
          "name": "stdout",
          "text": [
            "                                          precision    recall  f1-score   support\n",
            "\n",
            "                           Accessibility       0.67      0.57      0.62         7\n",
            "                           Company Brand       0.38      0.42      0.40        12\n",
            "                           Staff Quality       0.43      0.71      0.53        17\n",
            "                                  Timing       0.71      0.71      0.71        28\n",
            "            Product and Service, Benefit       0.65      0.62      0.63        32\n",
            "             Product and Service, System       0.78      0.90      0.84        84\n",
            "Product and Service, Usage and Condition       0.68      0.72      0.70        92\n",
            "        Product and Service, Convenience       0.80      0.36      0.50        11\n",
            "            Product and Service, Variety       0.50      0.33      0.40        12\n",
            "           Product and Service, Decision       0.42      0.50      0.45        10\n",
            "                                Security       0.50      1.00      0.67         3\n",
            "                             No Category       0.63      0.44      0.52        81\n",
            "\n",
            "                                accuracy                           0.66       389\n",
            "                               macro avg       0.60      0.61      0.58       389\n",
            "                            weighted avg       0.66      0.66      0.65       389\n",
            "\n"
          ]
        }
      ],
      "source": [
        "from sklearn.metrics import classification_report\n",
        "\n",
        "print(classification_report(rounded_labels_ytest, rounded_labels_ypred, target_names=classes_array, zero_division=0))"
      ]
    },
    {
      "cell_type": "code",
      "source": [
        "import seaborn as sns\n",
        "from sklearn.metrics import confusion_matrix\n",
        "import matplotlib.pyplot as plt\n",
        "\n",
        "cf_matrix = confusion_matrix(rounded_labels_ytest, rounded_labels_ypred)\n",
        "\n",
        "fig, ax = plt.subplots(figsize=(10,10))    \n",
        "ax = sns.heatmap(cf_matrix, annot=True, cmap='Blues', ax=ax, fmt=\".1f\")\n",
        "\n",
        "ax.set_title('Seaborn Confusion Matrix with labels\\n\\n');\n",
        "ax.set_xlabel('\\nPredicted Category')\n",
        "ax.set_ylabel('Actual Category ');\n",
        "\n",
        "## Ticket labels - List must be in alphabetical order\n",
        "ax.xaxis.set_ticklabels(classes_array, rotation=90)\n",
        "ax.yaxis.set_ticklabels(classes_array, rotation=0)\n",
        "\n",
        "## Display the visualization of the Confusion Matrix.\n",
        "plt.show()\n",
        "\n",
        "figure = ax.get_figure()    \n",
        "figure.savefig(\"cf_matrix.png\", pad_inches= 12, dpi=400)"
      ],
      "metadata": {
        "colab": {
          "base_uri": "https://localhost:8080/",
          "height": 863
        },
        "id": "AIjQraqozjG4",
        "outputId": "62d1b576-8605-4c39-ba34-b424d94506d3"
      },
      "execution_count": 84,
      "outputs": [
        {
          "output_type": "display_data",
          "data": {
            "text/plain": [
              "<Figure size 720x720 with 2 Axes>"
            ],
            "image/png": "[encoded data removed]"
          },
          "metadata": {
            "needs_background": "light"
          }
        }
      ]
    },
    {
      "cell_type": "markdown",
      "source": [
        "#Get configs"
      ],
      "metadata": {
        "id": "u4ll4vrC4CFi"
      }
    },
    {
      "cell_type": "code",
      "source": [
        "model.get_config()"
      ],
      "metadata": {
        "colab": {
          "base_uri": "https://localhost:8080/"
        },
        "id": "105LY0Kbzmac",
        "outputId": "e8690014-5438-4e44-8900-6ebeeb6b1302"
      },
      "execution_count": 85,
      "outputs": [
        {
          "output_type": "execute_result",
          "data": {
            "text/plain": [
              "{'input_layers': [['input_9', 0, 0]],\n",
              " 'layers': [{'class_name': 'InputLayer',\n",
              "   'config': {'batch_input_shape': (None, 66),\n",
              "    'dtype': 'float32',\n",
              "    'name': 'input_9',\n",
              "    'ragged': False,\n",
              "    'sparse': False},\n",
              "   'inbound_nodes': [],\n",
              "   'name': 'input_9'},\n",
              "  {'class_name': 'Embedding',\n",
              "   'config': {'activity_regularizer': None,\n",
              "    'batch_input_shape': (None, None),\n",
              "    'dtype': 'float32',\n",
              "    'embeddings_constraint': None,\n",
              "    'embeddings_initializer': {'class_name': 'RandomUniform',\n",
              "     'config': {'maxval': 0.05, 'minval': -0.05, 'seed': None}},\n",
              "    'embeddings_regularizer': None,\n",
              "    'input_dim': 12609,\n",
              "    'input_length': None,\n",
              "    'mask_zero': False,\n",
              "    'name': 'embedding_40',\n",
              "    'output_dim': 1000,\n",
              "    'trainable': True},\n",
              "   'inbound_nodes': [[['input_9', 0, 0, {}]]],\n",
              "   'name': 'embedding_40'},\n",
              "  {'class_name': 'Embedding',\n",
              "   'config': {'activity_regularizer': None,\n",
              "    'batch_input_shape': (None, None),\n",
              "    'dtype': 'float32',\n",
              "    'embeddings_constraint': None,\n",
              "    'embeddings_initializer': {'class_name': 'RandomUniform',\n",
              "     'config': {'maxval': 0.05, 'minval': -0.05, 'seed': None}},\n",
              "    'embeddings_regularizer': None,\n",
              "    'input_dim': 12609,\n",
              "    'input_length': None,\n",
              "    'mask_zero': False,\n",
              "    'name': 'embedding_41',\n",
              "    'output_dim': 1000,\n",
              "    'trainable': True},\n",
              "   'inbound_nodes': [[['input_9', 0, 0, {}]]],\n",
              "   'name': 'embedding_41'},\n",
              "  {'class_name': 'Embedding',\n",
              "   'config': {'activity_regularizer': None,\n",
              "    'batch_input_shape': (None, None),\n",
              "    'dtype': 'float32',\n",
              "    'embeddings_constraint': None,\n",
              "    'embeddings_initializer': {'class_name': 'RandomUniform',\n",
              "     'config': {'maxval': 0.05, 'minval': -0.05, 'seed': None}},\n",
              "    'embeddings_regularizer': None,\n",
              "    'input_dim': 12609,\n",
              "    'input_length': None,\n",
              "    'mask_zero': False,\n",
              "    'name': 'embedding_42',\n",
              "    'output_dim': 1000,\n",
              "    'trainable': True},\n",
              "   'inbound_nodes': [[['input_9', 0, 0, {}]]],\n",
              "   'name': 'embedding_42'},\n",
              "  {'class_name': 'Embedding',\n",
              "   'config': {'activity_regularizer': None,\n",
              "    'batch_input_shape': (None, None),\n",
              "    'dtype': 'float32',\n",
              "    'embeddings_constraint': None,\n",
              "    'embeddings_initializer': {'class_name': 'RandomUniform',\n",
              "     'config': {'maxval': 0.05, 'minval': -0.05, 'seed': None}},\n",
              "    'embeddings_regularizer': None,\n",
              "    'input_dim': 12609,\n",
              "    'input_length': None,\n",
              "    'mask_zero': False,\n",
              "    'name': 'embedding_43',\n",
              "    'output_dim': 1000,\n",
              "    'trainable': True},\n",
              "   'inbound_nodes': [[['input_9', 0, 0, {}]]],\n",
              "   'name': 'embedding_43'},\n",
              "  {'class_name': 'Conv1D',\n",
              "   'config': {'activation': 'relu',\n",
              "    'activity_regularizer': None,\n",
              "    'bias_constraint': None,\n",
              "    'bias_initializer': {'class_name': 'Zeros', 'config': {}},\n",
              "    'bias_regularizer': None,\n",
              "    'data_format': 'channels_last',\n",
              "    'dilation_rate': (1,),\n",
              "    'dtype': 'float32',\n",
              "    'filters': 128,\n",
              "    'groups': 1,\n",
              "    'kernel_constraint': None,\n",
              "    'kernel_initializer': {'class_name': 'GlorotUniform',\n",
              "     'config': {'seed': None}},\n",
              "    'kernel_regularizer': None,\n",
              "    'kernel_size': (5,),\n",
              "    'name': 'conv1d_40',\n",
              "    'padding': 'valid',\n",
              "    'strides': (1,),\n",
              "    'trainable': True,\n",
              "    'use_bias': True},\n",
              "   'inbound_nodes': [[['embedding_40', 0, 0, {}]]],\n",
              "   'name': 'conv1d_40'},\n",
              "  {'class_name': 'Conv1D',\n",
              "   'config': {'activation': 'relu',\n",
              "    'activity_regularizer': None,\n",
              "    'bias_constraint': None,\n",
              "    'bias_initializer': {'class_name': 'Zeros', 'config': {}},\n",
              "    'bias_regularizer': None,\n",
              "    'data_format': 'channels_last',\n",
              "    'dilation_rate': (1,),\n",
              "    'dtype': 'float32',\n",
              "    'filters': 256,\n",
              "    'groups': 1,\n",
              "    'kernel_constraint': None,\n",
              "    'kernel_initializer': {'class_name': 'GlorotUniform',\n",
              "     'config': {'seed': None}},\n",
              "    'kernel_regularizer': None,\n",
              "    'kernel_size': (5,),\n",
              "    'name': 'conv1d_41',\n",
              "    'padding': 'valid',\n",
              "    'strides': (1,),\n",
              "    'trainable': True,\n",
              "    'use_bias': True},\n",
              "   'inbound_nodes': [[['embedding_41', 0, 0, {}]]],\n",
              "   'name': 'conv1d_41'},\n",
              "  {'class_name': 'Conv1D',\n",
              "   'config': {'activation': 'relu',\n",
              "    'activity_regularizer': None,\n",
              "    'bias_constraint': None,\n",
              "    'bias_initializer': {'class_name': 'Zeros', 'config': {}},\n",
              "    'bias_regularizer': None,\n",
              "    'data_format': 'channels_last',\n",
              "    'dilation_rate': (1,),\n",
              "    'dtype': 'float32',\n",
              "    'filters': 512,\n",
              "    'groups': 1,\n",
              "    'kernel_constraint': None,\n",
              "    'kernel_initializer': {'class_name': 'GlorotUniform',\n",
              "     'config': {'seed': None}},\n",
              "    'kernel_regularizer': None,\n",
              "    'kernel_size': (5,),\n",
              "    'name': 'conv1d_42',\n",
              "    'padding': 'valid',\n",
              "    'strides': (1,),\n",
              "    'trainable': True,\n",
              "    'use_bias': True},\n",
              "   'inbound_nodes': [[['embedding_42', 0, 0, {}]]],\n",
              "   'name': 'conv1d_42'},\n",
              "  {'class_name': 'Conv1D',\n",
              "   'config': {'activation': 'relu',\n",
              "    'activity_regularizer': None,\n",
              "    'bias_constraint': None,\n",
              "    'bias_initializer': {'class_name': 'Zeros', 'config': {}},\n",
              "    'bias_regularizer': None,\n",
              "    'data_format': 'channels_last',\n",
              "    'dilation_rate': (1,),\n",
              "    'dtype': 'float32',\n",
              "    'filters': 1024,\n",
              "    'groups': 1,\n",
              "    'kernel_constraint': None,\n",
              "    'kernel_initializer': {'class_name': 'GlorotUniform',\n",
              "     'config': {'seed': None}},\n",
              "    'kernel_regularizer': None,\n",
              "    'kernel_size': (5,),\n",
              "    'name': 'conv1d_43',\n",
              "    'padding': 'valid',\n",
              "    'strides': (1,),\n",
              "    'trainable': True,\n",
              "    'use_bias': True},\n",
              "   'inbound_nodes': [[['embedding_43', 0, 0, {}]]],\n",
              "   'name': 'conv1d_43'},\n",
              "  {'class_name': 'Dropout',\n",
              "   'config': {'dtype': 'float32',\n",
              "    'name': 'dropout_30',\n",
              "    'noise_shape': None,\n",
              "    'rate': 0.5,\n",
              "    'seed': None,\n",
              "    'trainable': True},\n",
              "   'inbound_nodes': [[['conv1d_40', 0, 0, {}]]],\n",
              "   'name': 'dropout_30'},\n",
              "  {'class_name': 'Dropout',\n",
              "   'config': {'dtype': 'float32',\n",
              "    'name': 'dropout_31',\n",
              "    'noise_shape': None,\n",
              "    'rate': 0.5,\n",
              "    'seed': None,\n",
              "    'trainable': True},\n",
              "   'inbound_nodes': [[['conv1d_41', 0, 0, {}]]],\n",
              "   'name': 'dropout_31'},\n",
              "  {'class_name': 'Dropout',\n",
              "   'config': {'dtype': 'float32',\n",
              "    'name': 'dropout_32',\n",
              "    'noise_shape': None,\n",
              "    'rate': 0.5,\n",
              "    'seed': None,\n",
              "    'trainable': True},\n",
              "   'inbound_nodes': [[['conv1d_42', 0, 0, {}]]],\n",
              "   'name': 'dropout_32'},\n",
              "  {'class_name': 'Dropout',\n",
              "   'config': {'dtype': 'float32',\n",
              "    'name': 'dropout_33',\n",
              "    'noise_shape': None,\n",
              "    'rate': 0.5,\n",
              "    'seed': None,\n",
              "    'trainable': True},\n",
              "   'inbound_nodes': [[['conv1d_43', 0, 0, {}]]],\n",
              "   'name': 'dropout_33'},\n",
              "  {'class_name': 'GlobalMaxPooling1D',\n",
              "   'config': {'data_format': 'channels_last',\n",
              "    'dtype': 'float32',\n",
              "    'keepdims': False,\n",
              "    'name': 'global_max_pooling1d_38',\n",
              "    'trainable': True},\n",
              "   'inbound_nodes': [[['dropout_30', 0, 0, {}]]],\n",
              "   'name': 'global_max_pooling1d_38'},\n",
              "  {'class_name': 'GlobalMaxPooling1D',\n",
              "   'config': {'data_format': 'channels_last',\n",
              "    'dtype': 'float32',\n",
              "    'keepdims': False,\n",
              "    'name': 'global_max_pooling1d_39',\n",
              "    'trainable': True},\n",
              "   'inbound_nodes': [[['dropout_31', 0, 0, {}]]],\n",
              "   'name': 'global_max_pooling1d_39'},\n",
              "  {'class_name': 'GlobalMaxPooling1D',\n",
              "   'config': {'data_format': 'channels_last',\n",
              "    'dtype': 'float32',\n",
              "    'keepdims': False,\n",
              "    'name': 'global_max_pooling1d_40',\n",
              "    'trainable': True},\n",
              "   'inbound_nodes': [[['dropout_32', 0, 0, {}]]],\n",
              "   'name': 'global_max_pooling1d_40'},\n",
              "  {'class_name': 'GlobalMaxPooling1D',\n",
              "   'config': {'data_format': 'channels_last',\n",
              "    'dtype': 'float32',\n",
              "    'keepdims': False,\n",
              "    'name': 'global_max_pooling1d_41',\n",
              "    'trainable': True},\n",
              "   'inbound_nodes': [[['dropout_33', 0, 0, {}]]],\n",
              "   'name': 'global_max_pooling1d_41'},\n",
              "  {'class_name': 'Concatenate',\n",
              "   'config': {'axis': -1,\n",
              "    'dtype': 'float32',\n",
              "    'name': 'concatenate_8',\n",
              "    'trainable': True},\n",
              "   'inbound_nodes': [[['global_max_pooling1d_38', 0, 0, {}],\n",
              "     ['global_max_pooling1d_39', 0, 0, {}],\n",
              "     ['global_max_pooling1d_40', 0, 0, {}],\n",
              "     ['global_max_pooling1d_41', 0, 0, {}]]],\n",
              "   'name': 'concatenate_8'},\n",
              "  {'class_name': 'Dense',\n",
              "   'config': {'activation': 'softmax',\n",
              "    'activity_regularizer': None,\n",
              "    'bias_constraint': None,\n",
              "    'bias_initializer': {'class_name': 'Zeros', 'config': {}},\n",
              "    'bias_regularizer': None,\n",
              "    'dtype': 'float32',\n",
              "    'kernel_constraint': None,\n",
              "    'kernel_initializer': {'class_name': 'GlorotUniform',\n",
              "     'config': {'seed': None}},\n",
              "    'kernel_regularizer': None,\n",
              "    'name': 'dense_25',\n",
              "    'trainable': True,\n",
              "    'units': 13,\n",
              "    'use_bias': True},\n",
              "   'inbound_nodes': [[['concatenate_8', 0, 0, {}]]],\n",
              "   'name': 'dense_25'}],\n",
              " 'name': 'model_8',\n",
              " 'output_layers': [['dense_25', 0, 0]]}"
            ]
          },
          "metadata": {},
          "execution_count": 85
        }
      ]
    },
    {
      "cell_type": "code",
      "source": [
        "model.loss"
      ],
      "metadata": {
        "colab": {
          "base_uri": "https://localhost:8080/",
          "height": 37
        },
        "id": "lMMDkS384PkP",
        "outputId": "6d703cc1-78d6-49f6-b80a-3f520c6432a3"
      },
      "execution_count": 86,
      "outputs": [
        {
          "output_type": "execute_result",
          "data": {
            "text/plain": [
              "'categorical_crossentropy'"
            ],
            "application/vnd.google.colaboratory.intrinsic+json": {
              "type": "string"
            }
          },
          "metadata": {},
          "execution_count": 86
        }
      ]
    },
    {
      "cell_type": "code",
      "source": [
        "model.optimizer.get_config()"
      ],
      "metadata": {
        "colab": {
          "base_uri": "https://localhost:8080/"
        },
        "id": "JFOk2Zz_4aBw",
        "outputId": "2cc9f452-9c2b-49b8-d4a8-04a011eb1d1d"
      },
      "execution_count": 88,
      "outputs": [
        {
          "output_type": "execute_result",
          "data": {
            "text/plain": [
              "{'amsgrad': False,\n",
              " 'beta_1': 0.9,\n",
              " 'beta_2': 0.999,\n",
              " 'decay': 0.0,\n",
              " 'epsilon': 1e-07,\n",
              " 'learning_rate': 0.001,\n",
              " 'name': 'Adam'}"
            ]
          },
          "metadata": {},
          "execution_count": 88
        }
      ]
    },
    {
      "cell_type": "code",
      "source": [
        "model.history.params"
      ],
      "metadata": {
        "colab": {
          "base_uri": "https://localhost:8080/"
        },
        "id": "SF7AgsdN4VpF",
        "outputId": "983eee8b-c851-4ead-94f6-785ffe9f8b5b"
      },
      "execution_count": 91,
      "outputs": [
        {
          "output_type": "execute_result",
          "data": {
            "text/plain": [
              "{'epochs': 1, 'steps': 13, 'verbose': 0}"
            ]
          },
          "metadata": {},
          "execution_count": 91
        }
      ]
    }
  ]
}
