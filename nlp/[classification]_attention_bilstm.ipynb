{
  "nbformat": 4,
  "nbformat_minor": 0,
  "metadata": {
    "colab": {
      "name": "[classification] attention bilstm.ipynb",
      "provenance": [],
      "toc_visible": true,
      "machine_shape": "hm",
      "collapsed_sections": [],
      "authorship_tag": "ABX9TyOKGJxX2HdVwWUt5Ov6/tIH",
      "include_colab_link": true
    },
    "kernelspec": {
      "name": "python3",
      "display_name": "Python 3"
    },
    "language_info": {
      "name": "python"
    },
    "accelerator": "TPU",
    "gpuClass": "standard"
  },
  "cells": [
    {
      "cell_type": "markdown",
      "metadata": {
        "id": "view-in-github",
        "colab_type": "text"
      },
      "source": [
        "<a href=\"https://colab.research.google.com/github/setthawut8/ai/blob/main/nlp/%5Bclassification%5D_attention_bilstm.ipynb\" target=\"_parent\"><img src=\"https://colab.research.google.com/assets/colab-badge.svg\" alt=\"Open In Colab\"/></a>"
      ]
    },
    {
      "cell_type": "markdown",
      "source": [
        "## attention Layer\n",
        "\n",
        "Bset Model:\n",
        "\n"
      ],
      "metadata": {
        "id": "-T8I9W1Z4JQw"
      }
    },
    {
      "cell_type": "markdown",
      "source": [
        "#library and installation"
      ],
      "metadata": {
        "id": "lTV7mgvGlAA2"
      }
    },
    {
      "cell_type": "code",
      "source": [
        "#download data\n",
        "!gdown --id :) \n",
        "!gdown --id :) \n",
        "\n",
        "!pip install keras-self-attention"
      ],
      "metadata": {
        "colab": {
          "base_uri": "https://localhost:8080/"
        },
        "id": "dSrQBjAXknl_",
        "outputId": "6c8dc1c8-8ede-44d0-a10d-0daa2ba24d6c"
      },
      "execution_count": 1,
      "outputs": [
        {
          "output_type": "stream",
          "name": "stdout",
          "text": [
            "/usr/local/lib/python3.7/dist-packages/gdown/cli.py:131: FutureWarning: Option `--id` was deprecated in version 4.3.1 and will be removed in 5.0. You don't need to pass it anymore to use a file ID.\n",
            "  category=FutureWarning,\n",
            "Downloading...\n",
            "From: https://drive.google.com/uc?id=1-avUDygRCGvAiPplmc6MundS_PpnohRv\n",
            "To: /content/preprocessed_v1_socialfsi_single_train_sampling12150_20220701.xlsx\n",
            "100% 3.87M/3.87M [00:00<00:00, 190MB/s]\n",
            "/usr/local/lib/python3.7/dist-packages/gdown/cli.py:131: FutureWarning: Option `--id` was deprecated in version 4.3.1 and will be removed in 5.0. You don't need to pass it anymore to use a file ID.\n",
            "  category=FutureWarning,\n",
            "Downloading...\n",
            "From: https://drive.google.com/uc?id=106OVRPIQQBppganRnCZigxQh6-Zyvqit\n",
            "To: /content/preprocessed_v1_socialfsi_single_test_sampling389_20220701.xlsx\n",
            "100% 141k/141k [00:00<00:00, 69.0MB/s]\n"
          ]
        }
      ]
    },
    {
      "cell_type": "code",
      "source": [
        "import numpy as np\n",
        "import pandas as pd\n",
        "import seaborn as sns"
      ],
      "metadata": {
        "id": "nmloIa2flCpf"
      },
      "execution_count": 2,
      "outputs": []
    },
    {
      "cell_type": "code",
      "source": [
        "train = pd.read_excel('/content/preprocessed_v1_socialfsi_single_train_sampling12150_20220701.xlsx')\n",
        "test = pd.read_excel('/content/preprocessed_v1_socialfsi_single_test_sampling389_20220701.xlsx')"
      ],
      "metadata": {
        "id": "qRFA_iV8lthT"
      },
      "execution_count": 3,
      "outputs": []
    },
    {
      "cell_type": "code",
      "source": [
        "train.head(1)"
      ],
      "metadata": {
        "colab": {
          "base_uri": "https://localhost:8080/",
          "height": 283
        },
        "id": "O5XnP-FDl1I_",
        "outputId": "6f8a0040-6270-428d-9f1d-493c424c09e0"
      },
      "execution_count": 4,
      "outputs": [
        {
          "output_type": "execute_result",
          "data": {
            "text/plain": [
              "   Unnamed: 0                                       TagFile_Path  \\\n",
              "0           0  SocialFSI_ZE-KTB-Feb-Apr2022_Sampling2244_2022...   \n",
              "\n",
              "                                             TagFile SV_CustomerName  \\\n",
              "0  SocialFSI_ZE-KTB-Feb-Apr2022_Sampling1400_2022...  Krungthai_NEXT   \n",
              "\n",
              "                                        Main keyword      Channel SubChannel  \\\n",
              "0  mobile banking+กสิกร,mobile banking+ธนาคารกสิก...  SocialMedia      forum   \n",
              "\n",
              "                        lfdn verbatim_id   sentence_id  \\\n",
              "0  pantip.com_topic_41249919  Q2207_1549  Q2207_1549_1   \n",
              "\n",
              "                                       Text_original  \\\n",
              "0  สอบถามเรื่องการอายัดบัตรเดบิตของกสิกรค่ะ พอดีว...   \n",
              "\n",
              "                                                Text  \\\n",
              "0  สอบถามเรื่องการอายัดบัตรเดบิตของกสิกรค่ะ พอดีว...   \n",
              "\n",
              "                             Human_Category  Human_CategoryID Human_Sentiment  \\\n",
              "0  Product and Service, Usage and Condition                 8         neutral   \n",
              "\n",
              "  Human_SentimentID                                      Text_ws_local  \n",
              "0                 o  สอบถาม|เรื่อง|การ|อายัด|บัตรเดบิต|ของ|kbank|ค่...  "
            ],
            "text/html": [
              "\n",
              "  <div id=\"df-255085cc-e277-4b93-8cdb-15738c34cba5\">\n",
              "    <div class=\"colab-df-container\">\n",
              "      <div>\n",
              "<style scoped>\n",
              "    .dataframe tbody tr th:only-of-type {\n",
              "        vertical-align: middle;\n",
              "    }\n",
              "\n",
              "    .dataframe tbody tr th {\n",
              "        vertical-align: top;\n",
              "    }\n",
              "\n",
              "    .dataframe thead th {\n",
              "        text-align: right;\n",
              "    }\n",
              "</style>\n",
              "<table border=\"1\" class=\"dataframe\">\n",
              "  <thead>\n",
              "    <tr style=\"text-align: right;\">\n",
              "      <th></th>\n",
              "      <th>Unnamed: 0</th>\n",
              "      <th>TagFile_Path</th>\n",
              "      <th>TagFile</th>\n",
              "      <th>SV_CustomerName</th>\n",
              "      <th>Main keyword</th>\n",
              "      <th>Channel</th>\n",
              "      <th>SubChannel</th>\n",
              "      <th>lfdn</th>\n",
              "      <th>verbatim_id</th>\n",
              "      <th>sentence_id</th>\n",
              "      <th>Text_original</th>\n",
              "      <th>Text</th>\n",
              "      <th>Human_Category</th>\n",
              "      <th>Human_CategoryID</th>\n",
              "      <th>Human_Sentiment</th>\n",
              "      <th>Human_SentimentID</th>\n",
              "      <th>Text_ws_local</th>\n",
              "    </tr>\n",
              "  </thead>\n",
              "  <tbody>\n",
              "    <tr>\n",
              "      <th>0</th>\n",
              "      <td>0</td>\n",
              "      <td>SocialFSI_ZE-KTB-Feb-Apr2022_Sampling2244_2022...</td>\n",
              "      <td>SocialFSI_ZE-KTB-Feb-Apr2022_Sampling1400_2022...</td>\n",
              "      <td>Krungthai_NEXT</td>\n",
              "      <td>mobile banking+กสิกร,mobile banking+ธนาคารกสิก...</td>\n",
              "      <td>SocialMedia</td>\n",
              "      <td>forum</td>\n",
              "      <td>pantip.com_topic_41249919</td>\n",
              "      <td>Q2207_1549</td>\n",
              "      <td>Q2207_1549_1</td>\n",
              "      <td>สอบถามเรื่องการอายัดบัตรเดบิตของกสิกรค่ะ พอดีว...</td>\n",
              "      <td>สอบถามเรื่องการอายัดบัตรเดบิตของกสิกรค่ะ พอดีว...</td>\n",
              "      <td>Product and Service, Usage and Condition</td>\n",
              "      <td>8</td>\n",
              "      <td>neutral</td>\n",
              "      <td>o</td>\n",
              "      <td>สอบถาม|เรื่อง|การ|อายัด|บัตรเดบิต|ของ|kbank|ค่...</td>\n",
              "    </tr>\n",
              "  </tbody>\n",
              "</table>\n",
              "</div>\n",
              "      <button class=\"colab-df-convert\" onclick=\"convertToInteractive('df-255085cc-e277-4b93-8cdb-15738c34cba5')\"\n",
              "              title=\"Convert this dataframe to an interactive table.\"\n",
              "              style=\"display:none;\">\n",
              "        \n",
              "  <svg xmlns=\"http://www.w3.org/2000/svg\" height=\"24px\"viewBox=\"0 0 24 24\"\n",
              "       width=\"24px\">\n",
              "    <path d=\"M0 0h24v24H0V0z\" fill=\"none\"/>\n",
              "    <path d=\"M18.56 5.44l.94 2.06.94-2.06 2.06-.94-2.06-.94-.94-2.06-.94 2.06-2.06.94zm-11 1L8.5 8.5l.94-2.06 2.06-.94-2.06-.94L8.5 2.5l-.94 2.06-2.06.94zm10 10l.94 2.06.94-2.06 2.06-.94-2.06-.94-.94-2.06-.94 2.06-2.06.94z\"/><path d=\"M17.41 7.96l-1.37-1.37c-.4-.4-.92-.59-1.43-.59-.52 0-1.04.2-1.43.59L10.3 9.45l-7.72 7.72c-.78.78-.78 2.05 0 2.83L4 21.41c.39.39.9.59 1.41.59.51 0 1.02-.2 1.41-.59l7.78-7.78 2.81-2.81c.8-.78.8-2.07 0-2.86zM5.41 20L4 18.59l7.72-7.72 1.47 1.35L5.41 20z\"/>\n",
              "  </svg>\n",
              "      </button>\n",
              "      \n",
              "  <style>\n",
              "    .colab-df-container {\n",
              "      display:flex;\n",
              "      flex-wrap:wrap;\n",
              "      gap: 12px;\n",
              "    }\n",
              "\n",
              "    .colab-df-convert {\n",
              "      background-color: #E8F0FE;\n",
              "      border: none;\n",
              "      border-radius: 50%;\n",
              "      cursor: pointer;\n",
              "      display: none;\n",
              "      fill: #1967D2;\n",
              "      height: 32px;\n",
              "      padding: 0 0 0 0;\n",
              "      width: 32px;\n",
              "    }\n",
              "\n",
              "    .colab-df-convert:hover {\n",
              "      background-color: #E2EBFA;\n",
              "      box-shadow: 0px 1px 2px rgba(60, 64, 67, 0.3), 0px 1px 3px 1px rgba(60, 64, 67, 0.15);\n",
              "      fill: #174EA6;\n",
              "    }\n",
              "\n",
              "    [theme=dark] .colab-df-convert {\n",
              "      background-color: #3B4455;\n",
              "      fill: #D2E3FC;\n",
              "    }\n",
              "\n",
              "    [theme=dark] .colab-df-convert:hover {\n",
              "      background-color: #434B5C;\n",
              "      box-shadow: 0px 1px 3px 1px rgba(0, 0, 0, 0.15);\n",
              "      filter: drop-shadow(0px 1px 2px rgba(0, 0, 0, 0.3));\n",
              "      fill: #FFFFFF;\n",
              "    }\n",
              "  </style>\n",
              "\n",
              "      <script>\n",
              "        const buttonEl =\n",
              "          document.querySelector('#df-255085cc-e277-4b93-8cdb-15738c34cba5 button.colab-df-convert');\n",
              "        buttonEl.style.display =\n",
              "          google.colab.kernel.accessAllowed ? 'block' : 'none';\n",
              "\n",
              "        async function convertToInteractive(key) {\n",
              "          const element = document.querySelector('#df-255085cc-e277-4b93-8cdb-15738c34cba5');\n",
              "          const dataTable =\n",
              "            await google.colab.kernel.invokeFunction('convertToInteractive',\n",
              "                                                     [key], {});\n",
              "          if (!dataTable) return;\n",
              "\n",
              "          const docLinkHtml = 'Like what you see? Visit the ' +\n",
              "            '<a target=\"_blank\" href=https://colab.research.google.com/notebooks/data_table.ipynb>data table notebook</a>'\n",
              "            + ' to learn more about interactive tables.';\n",
              "          element.innerHTML = '';\n",
              "          dataTable['output_type'] = 'display_data';\n",
              "          await google.colab.output.renderOutput(dataTable, element);\n",
              "          const docLink = document.createElement('div');\n",
              "          docLink.innerHTML = docLinkHtml;\n",
              "          element.appendChild(docLink);\n",
              "        }\n",
              "      </script>\n",
              "    </div>\n",
              "  </div>\n",
              "  "
            ]
          },
          "metadata": {},
          "execution_count": 4
        }
      ]
    },
    {
      "cell_type": "code",
      "source": [
        "test.head(1)"
      ],
      "metadata": {
        "colab": {
          "base_uri": "https://localhost:8080/",
          "height": 318
        },
        "id": "K90TNNiOl2J1",
        "outputId": "7bb09b82-5fc8-4f2e-8d58-eb3b989367fc"
      },
      "execution_count": 5,
      "outputs": [
        {
          "output_type": "execute_result",
          "data": {
            "text/plain": [
              "   Unnamed: 0                                       TagFile_Path  \\\n",
              "0           0  SocialFSI_v4_0_mutiple_train_sampling8203_2021...   \n",
              "\n",
              "                                             TagFile SV_CustomerName  \\\n",
              "0  SocialFSI_SV-FSI-20201101-29-20201201-25_Sampl...             NaN   \n",
              "\n",
              "  Main keyword      Channel SubChannel                      lfdn  \\\n",
              "0          NaN  SocialMedia     Pantip  5fdb2543b08b582c303ceba3   \n",
              "\n",
              "    verbatim_id     sentence_id  \\\n",
              "0  Q202106_4598  Q202106_4598_1   \n",
              "\n",
              "                                       Text_original  \\\n",
              "0  ในอนาคตธนาคารเกียรตินาคินภัทรจะมีบัตรเครดิตไหม...   \n",
              "\n",
              "                                                Text  \\\n",
              "0  ในอนาคตธนาคารเกียรตินาคินภัทรจะมีบัตรเครดิตไหม...   \n",
              "\n",
              "                 Human_Category  Human_CategoryID Human_Sentiment  \\\n",
              "0  Product and Service, Variety                10         neutral   \n",
              "\n",
              "  Human_SentimentID                                      Text_ws_local  \n",
              "0                 o  ในอนาคต|ธนาคาร|kk|ภัทร|จะ|มี|บัตรเครดิต|ไหม|คร...  "
            ],
            "text/html": [
              "\n",
              "  <div id=\"df-1aef81d4-ac9a-40ed-9aa2-af50e79a348b\">\n",
              "    <div class=\"colab-df-container\">\n",
              "      <div>\n",
              "<style scoped>\n",
              "    .dataframe tbody tr th:only-of-type {\n",
              "        vertical-align: middle;\n",
              "    }\n",
              "\n",
              "    .dataframe tbody tr th {\n",
              "        vertical-align: top;\n",
              "    }\n",
              "\n",
              "    .dataframe thead th {\n",
              "        text-align: right;\n",
              "    }\n",
              "</style>\n",
              "<table border=\"1\" class=\"dataframe\">\n",
              "  <thead>\n",
              "    <tr style=\"text-align: right;\">\n",
              "      <th></th>\n",
              "      <th>Unnamed: 0</th>\n",
              "      <th>TagFile_Path</th>\n",
              "      <th>TagFile</th>\n",
              "      <th>SV_CustomerName</th>\n",
              "      <th>Main keyword</th>\n",
              "      <th>Channel</th>\n",
              "      <th>SubChannel</th>\n",
              "      <th>lfdn</th>\n",
              "      <th>verbatim_id</th>\n",
              "      <th>sentence_id</th>\n",
              "      <th>Text_original</th>\n",
              "      <th>Text</th>\n",
              "      <th>Human_Category</th>\n",
              "      <th>Human_CategoryID</th>\n",
              "      <th>Human_Sentiment</th>\n",
              "      <th>Human_SentimentID</th>\n",
              "      <th>Text_ws_local</th>\n",
              "    </tr>\n",
              "  </thead>\n",
              "  <tbody>\n",
              "    <tr>\n",
              "      <th>0</th>\n",
              "      <td>0</td>\n",
              "      <td>SocialFSI_v4_0_mutiple_train_sampling8203_2021...</td>\n",
              "      <td>SocialFSI_SV-FSI-20201101-29-20201201-25_Sampl...</td>\n",
              "      <td>NaN</td>\n",
              "      <td>NaN</td>\n",
              "      <td>SocialMedia</td>\n",
              "      <td>Pantip</td>\n",
              "      <td>5fdb2543b08b582c303ceba3</td>\n",
              "      <td>Q202106_4598</td>\n",
              "      <td>Q202106_4598_1</td>\n",
              "      <td>ในอนาคตธนาคารเกียรตินาคินภัทรจะมีบัตรเครดิตไหม...</td>\n",
              "      <td>ในอนาคตธนาคารเกียรตินาคินภัทรจะมีบัตรเครดิตไหม...</td>\n",
              "      <td>Product and Service, Variety</td>\n",
              "      <td>10</td>\n",
              "      <td>neutral</td>\n",
              "      <td>o</td>\n",
              "      <td>ในอนาคต|ธนาคาร|kk|ภัทร|จะ|มี|บัตรเครดิต|ไหม|คร...</td>\n",
              "    </tr>\n",
              "  </tbody>\n",
              "</table>\n",
              "</div>\n",
              "      <button class=\"colab-df-convert\" onclick=\"convertToInteractive('df-1aef81d4-ac9a-40ed-9aa2-af50e79a348b')\"\n",
              "              title=\"Convert this dataframe to an interactive table.\"\n",
              "              style=\"display:none;\">\n",
              "        \n",
              "  <svg xmlns=\"http://www.w3.org/2000/svg\" height=\"24px\"viewBox=\"0 0 24 24\"\n",
              "       width=\"24px\">\n",
              "    <path d=\"M0 0h24v24H0V0z\" fill=\"none\"/>\n",
              "    <path d=\"M18.56 5.44l.94 2.06.94-2.06 2.06-.94-2.06-.94-.94-2.06-.94 2.06-2.06.94zm-11 1L8.5 8.5l.94-2.06 2.06-.94-2.06-.94L8.5 2.5l-.94 2.06-2.06.94zm10 10l.94 2.06.94-2.06 2.06-.94-2.06-.94-.94-2.06-.94 2.06-2.06.94z\"/><path d=\"M17.41 7.96l-1.37-1.37c-.4-.4-.92-.59-1.43-.59-.52 0-1.04.2-1.43.59L10.3 9.45l-7.72 7.72c-.78.78-.78 2.05 0 2.83L4 21.41c.39.39.9.59 1.41.59.51 0 1.02-.2 1.41-.59l7.78-7.78 2.81-2.81c.8-.78.8-2.07 0-2.86zM5.41 20L4 18.59l7.72-7.72 1.47 1.35L5.41 20z\"/>\n",
              "  </svg>\n",
              "      </button>\n",
              "      \n",
              "  <style>\n",
              "    .colab-df-container {\n",
              "      display:flex;\n",
              "      flex-wrap:wrap;\n",
              "      gap: 12px;\n",
              "    }\n",
              "\n",
              "    .colab-df-convert {\n",
              "      background-color: #E8F0FE;\n",
              "      border: none;\n",
              "      border-radius: 50%;\n",
              "      cursor: pointer;\n",
              "      display: none;\n",
              "      fill: #1967D2;\n",
              "      height: 32px;\n",
              "      padding: 0 0 0 0;\n",
              "      width: 32px;\n",
              "    }\n",
              "\n",
              "    .colab-df-convert:hover {\n",
              "      background-color: #E2EBFA;\n",
              "      box-shadow: 0px 1px 2px rgba(60, 64, 67, 0.3), 0px 1px 3px 1px rgba(60, 64, 67, 0.15);\n",
              "      fill: #174EA6;\n",
              "    }\n",
              "\n",
              "    [theme=dark] .colab-df-convert {\n",
              "      background-color: #3B4455;\n",
              "      fill: #D2E3FC;\n",
              "    }\n",
              "\n",
              "    [theme=dark] .colab-df-convert:hover {\n",
              "      background-color: #434B5C;\n",
              "      box-shadow: 0px 1px 3px 1px rgba(0, 0, 0, 0.15);\n",
              "      filter: drop-shadow(0px 1px 2px rgba(0, 0, 0, 0.3));\n",
              "      fill: #FFFFFF;\n",
              "    }\n",
              "  </style>\n",
              "\n",
              "      <script>\n",
              "        const buttonEl =\n",
              "          document.querySelector('#df-1aef81d4-ac9a-40ed-9aa2-af50e79a348b button.colab-df-convert');\n",
              "        buttonEl.style.display =\n",
              "          google.colab.kernel.accessAllowed ? 'block' : 'none';\n",
              "\n",
              "        async function convertToInteractive(key) {\n",
              "          const element = document.querySelector('#df-1aef81d4-ac9a-40ed-9aa2-af50e79a348b');\n",
              "          const dataTable =\n",
              "            await google.colab.kernel.invokeFunction('convertToInteractive',\n",
              "                                                     [key], {});\n",
              "          if (!dataTable) return;\n",
              "\n",
              "          const docLinkHtml = 'Like what you see? Visit the ' +\n",
              "            '<a target=\"_blank\" href=https://colab.research.google.com/notebooks/data_table.ipynb>data table notebook</a>'\n",
              "            + ' to learn more about interactive tables.';\n",
              "          element.innerHTML = '';\n",
              "          dataTable['output_type'] = 'display_data';\n",
              "          await google.colab.output.renderOutput(dataTable, element);\n",
              "          const docLink = document.createElement('div');\n",
              "          docLink.innerHTML = docLinkHtml;\n",
              "          element.appendChild(docLink);\n",
              "        }\n",
              "      </script>\n",
              "    </div>\n",
              "  </div>\n",
              "  "
            ]
          },
          "metadata": {},
          "execution_count": 5
        }
      ]
    },
    {
      "cell_type": "code",
      "source": [
        ""
      ],
      "metadata": {
        "id": "G1l_eGJ_l3Ci"
      },
      "execution_count": null,
      "outputs": []
    },
    {
      "cell_type": "markdown",
      "source": [
        "#create a Vocabulary"
      ],
      "metadata": {
        "id": "3hRruw5Ph59Y"
      }
    },
    {
      "cell_type": "code",
      "source": [
        "from collections import Counter\n",
        "\n",
        "vocab = Counter()\n",
        "def data_to_vocab(df):\n",
        "  for verbatim in df['Text_ws_local']:\n",
        "    tokens = verbatim.split()\n",
        "    tokens = [word for word in tokens if len(tokens) > 4] #at first = 1, CNN GMP is better with >4 for ~2%\n",
        "    vocab.update(tokens)\n",
        "\n",
        "data_to_vocab(train)\n",
        "\n",
        "print(len(vocab))\n",
        "vocab.most_common(20)"
      ],
      "metadata": {
        "colab": {
          "base_uri": "https://localhost:8080/"
        },
        "id": "9KsihNdkb28k",
        "outputId": "10b59740-48db-4dc2-dba7-8e6e04b5d251"
      },
      "execution_count": 15,
      "outputs": [
        {
          "output_type": "stream",
          "name": "stdout",
          "text": [
            "46943\n"
          ]
        },
        {
          "output_type": "execute_result",
          "data": {
            "text/plain": [
              "[('|scb|', 1518),\n",
              " ('|friendtag|', 625),\n",
              " ('|2|', 512),\n",
              " ('|kbank|', 403),\n",
              " ('|บาท|', 360),\n",
              " ('|1|', 340),\n",
              " ('|3|', 329),\n",
              " ('|5|', 298),\n",
              " ('|tmb|', 251),\n",
              " ('|call_center|', 250),\n",
              " ('|atm|', 249),\n",
              " ('atm|', 245),\n",
              " ('|scb_easy|', 201),\n",
              " ('|telephonetag|', 199),\n",
              " ('|app|', 199),\n",
              " ('|กรุงไทย|', 198),\n",
              " ('|-|', 184),\n",
              " ('|sms|', 178),\n",
              " ('|ktc|', 176),\n",
              " ('|ของ|', 164)]"
            ]
          },
          "metadata": {},
          "execution_count": 15
        }
      ]
    },
    {
      "cell_type": "code",
      "source": [
        "min_occurence = 2\n",
        "tokens = [k for k, c in vocab.items() if c >= min_occurence]"
      ],
      "metadata": {
        "id": "YqxVmTU0hXYD"
      },
      "execution_count": 16,
      "outputs": []
    },
    {
      "cell_type": "code",
      "source": [
        "def save_list(lines, filename):\n",
        "  data = '\\n'.join(lines)\n",
        "  file = open(filename, 'w')\n",
        "  file.write(data)\n",
        "  file.close()\n",
        "  \n",
        "save_list(tokens, 'vocab.txt')"
      ],
      "metadata": {
        "id": "dxb6rJv_gzC1"
      },
      "execution_count": 17,
      "outputs": []
    },
    {
      "cell_type": "code",
      "source": [
        ""
      ],
      "metadata": {
        "id": "VZp4xWhQnZgQ"
      },
      "execution_count": 17,
      "outputs": []
    },
    {
      "cell_type": "markdown",
      "source": [
        "#preprocessing"
      ],
      "metadata": {
        "id": "WbZ5MsM0iCNr"
      }
    },
    {
      "cell_type": "code",
      "source": [
        "#Load the vocab as above\n",
        "def load_doc(filename):\n",
        "  file = open(filename, 'r')\n",
        "  text = file.read()\n",
        "  file.close()\n",
        "  return text\n",
        "\n",
        "vocab_filename = 'vocab.txt'\n",
        "vocab = load_doc(vocab_filename)\n",
        "vocab = vocab.split()\n",
        "vocab = set(vocab)\n",
        "\n",
        "print(vocab)"
      ],
      "metadata": {
        "colab": {
          "base_uri": "https://localhost:8080/"
        },
        "id": "xWxGiDbLiDjC",
        "outputId": "0b15029f-b3f7-4c15-a521-49cfad241de2"
      },
      "execution_count": 18,
      "outputs": [
        {
          "output_type": "stream",
          "name": "stdout",
          "text": [
            "{'|ชื่อ|ญาติ|', '|จ้า', '|เป็นไร|วะ|', '|แล้วจะ|เอา|เงิน|ไป|ทำ|อะไร|ดี|นะ|', '|อี|ควาย|', '|precious|', '|ถือ|บัตร|', '|แบบ|ครับ|', '|ธนาคาร|แจ้ง|ว่า|', '|เกิด|จาก|อะไร|คะ|', '|ม|ค|', '|บ|ลา|', '|เบอร์|', '|จาก|ธนาคาร|', '|รอบ|นี้|', '|สินเชื่อ|', '|แย่|แย่|แย่', '|เป็นมา|', '|เรา|ได้|ทำการ|โอนเงิน|จาก|gsb|ผ่าน|', '|ระบบ|เป็น|อะไร|ครับ|', '|อยากจะ|สอบถาม|ว่า|', 'รอสาย|', '|บริการ|', 'บัตรเครดิต|', '|แบบนี้|ก็ได้|เหรอ|', '|ก็ได้|', '|ของ|วันนี้|', '|แต่|จริงๆ|', '|krungthai_care|', '15|', '|อ|ห|', '|ขอบพระคุณ|มาก|ครับ', '|investment|', 'atm|', 'รบกวน|สอบถาม|ค่ะ|', '|ล่ม', '|ซึ่ง|สถานการณ์|ตอนนี้|ก็|คือ|ไม่|อยาก|ออกไป|ไหน|เลย|', '|บ้าง|ครับ|', '|ดู|สรุป|ยอด|ซื้อ|', '|แบบนี้|เรา|ทำ|ยังไง|ได้|บ้าง|คะ|', 'โอนเงิน|จาก|กรุงไทย|', '|first|', '|เรียบร้อย|', 'ของ|เรา|', '|เงิน|ไม่|เข้า|เลย|ครับ|', '|ธนาคาร|นี้|', '|จะ|โอนเงิน|', '|วันนี้|ครบ|', '|ปี|แรก|', '|โอนเงิน|ไม่ได้|', '|atm|', '|เป็นต้นไป|', '|แอป|เป๋า|ตัง|', '|ฝ่าย|สินเชื่อ|', '|บอก|ว่า|', '|0.25|', '|ตัวอย่าง|', 'นี้|', '|9.00|', 'ผม|เดินบัญชี|กับ|', 'ลงทะเบียน|', '|ทำให้|', '|เปิดบัญชี|กรุงไทย|', '|20.57|', '|qr|', '|งง|ๆ|', '|aeon|', '|รับ|แต่|เงิน|ห|ยวน|ของ|จีน|', '|แต่|แอป|', '16|', '|pin|', '|citibank', 'โง่|เอง|', '|ใช้|บัตร|', '|แจ้ง|มา|ว่า|', '|แอป|ล่ม|หรอ|', '|waive|', '|จน|วัน|ที่', '|นานๆ|', '|3|-|6|', '|แต่|บัญชี|ปลายทาง|ไม่|ได้รับ|ยอด|', '|ระยะเวลา|', '|ลุ้น|', '|กอง|เดิม|', '18|', '|ดี|ไหม|', 'เรา|สมัคร|', '|walk|', '|มาก', '|ก่อน|นะ|ครับ', '|ibanking|', '|ของ|วันพรุ่งนี้|', '|kplus', '|เสียความรู้สึก|มาก', '|balance|', '|ไม่สามารถ|ทำ|รายการ|ได้|ในขณะนี้|', '|นะคะ', '|สะดวก', '|กดเงิน|ไม่ได้|', '|ถึงจะ|สามารถ|เช็ค|ได้|', '|เฉยๆ|', '|ปัจจุบัน|', 'bay|', 'ได้|ดอกเบี้ย|', '|จบ|', '|เป๋า|ตัง', '|ป|ช|ช|.|', '|นี่|นะ|', 'สรุป|', '|กรุงไทย_axa|', '|หมุนเวียน|และ|', '|น้อง|', '|ยกเลิก|', '|paul|', '|opened|', '|leasing|', '|ต้อง|ทำ|ยังไง|บ้าง|คะ|', '|ห่วยแตก', '|อยู่ดีๆ|', '|ไม่ได้|ครับ|', '|kbanklive|', '|แบบ|', '|เหี้ย|มาก|', '|ธนาคารอาคารสงเคราะห์|', '|37000|', '|ยืนยัน|', '|กด|ใน|', '|อี|เหี้ย', '|พูดจา|แย่มาก|', 'callcenter|', '|เป็น|จำนวนเงิน|', '|mrt|', 'วันนี้|แอป|', '|มี|แต่|', 'เป็น|', 'เตือนภัย|', '|กอง|', '|โค|วิท|', '|map|', '|พอร์ต|', '|อะ|', '|ทำ|ยังไง|ก็|ไม่|ผ่าน|', '|ปี|กว่า|แล้ว|', '|makeups|', '|ั|', 'คุณ|', 'suphakit|', '|แต่|ถ้า|ไม่ใช่|', '|เปิด|', '|-_-', '|scbm|', '|แอป|ควย|', '|ใช้งานง่าย|', '|xpress|', '|ขอบคุณ|คับ', '|ครั้ง|ตอนนั้น|', '|ขอบคุณ|มากๆ|', '|มัน|ของ|', '|คะ', '|ไหม|คะ|', '|t-t', '|ปี|แล้ว|', '|สมัคร|', '|กัน|แน่|', '|ติด|', '0|', '|เพื่อ|', 'สอบถาม|เพื่อน|ๆ|', '|โทร|ทุกวัน|', '|ระวัง|หน่อย|', '|operator|', '|เฟิร์ส|ช้อย|', '|ชื่อ|ธุรกิจ|โดย|ชื่อ|เจ้าของร้าน|', '|vat|', 'windy|', '|ของ|ทั้ง', '|65', '|มา|หลาย|วัน|', '|สีเขียว|', '|หลาย|รอบ|แล้ว|', '|ง่ายๆ|', '|นี้|', '|กับ|', '|เพราะ|เงิน|ออกจาก|ธนาคารกรุงไทย|แล้ว|ครับ|', '|finalodysseyconcert|', '|วัน|', '|ก็|ติดต่อ|ไม่ได้|', '|อนุมัติ|แล้ว|', 'ทำ|บัตร|', '|bookbank|', '|แลก|', '|เมื่อ|เทียบกับ|', '|my|', '|แล้ว|ใช้|', '|เหมือน|', '|ปิด|', '|อะไร|เนี่ย', '|เวลา|ไหน|', '|365|', '|แต่|บัตร|ใหม่|ที่|เป็น|', 'เป๋า|ตัง|', '|ป|ต|ท|', '|bay', '|ได้|ภายใน|', '|ง่าย|ดี|', '|ไฟล์|', '|ของ|กรุงไทย|', '|แจ้ง|คอลเซนเตอร์|', '|19', '|id|', '|แต่|อยู่ดีๆ|', '|เขา|บอก|', '|krungthai_axa|', '|esso|', '|mymo', '|ถ้า|อยู่|ใกล้ๆ|', 'เมื่อวาน|', '|จะ|ทำ|อย่างไร|', '|โทร|สอบถาม|กับ|bbl|', '|เรา|ไม่|ทิ้ง|กัน|', '|สอบถาม|ค่ะ|', '|เงิน|ยัง|ไม่|เข้า|เลย|', '|ถาม|เรื่อง|', '|ใคร|เป็น|บ้าง|ครับ|', '|สำนักงานใหญ่|', '|ยืนยัน|ตัวตน|ไม่ได้|', 'มี|บัตร|', '|ประเมิน|', '|เลขบัญชี|', '|11000|', '|499|', '|ลด|', '3.|', '|แต่|หมดเขต|วันนี้|แล้ว|', '|ใน|แอ|ฟ|มัน|เป็น|ออ|มท|ร|พ|ย|์|', '|ใคร|รู้|บ้าง|', '|ใน|วัน|ที่', '|พิจารณา|', '|ได้|ด้วย|', '|ผม|ใช้|', '|ark|', '|gulf|', '|รวย|', '|สตางค์|', '|24000|', '|อ่อ|', 'ใบสมัคร|ผม|ก็|จ|พ|หมดอายุ|แล้ว|', '|ขอบคุณ|ล่วงหน้า|ค่ะ|', 'ว่าแต่|', '_carestatus|', '|รอคิว|นานมาก|', '|cimb|', '|user|', '|slip|', '|พนักงานธนาคาร|แนะนำ|ให้|ใช้|', 'จ่ายเงิน|ผ่าน|', '|22|', '|ก็ได้|ครับ|', '|ก็|ไม่|เข้า|', '|kce|', '|เมษายน|', '|cash', '|alert|', '|ตอนนี้|เงินเดือน|', 'บัตรเครดิต|bbl|', '|1558|', '|8|', '|ต้อง|ไป|สาขา|', '|รบกวน|', '|ตอบ|', '|ตอนนี้|พอจะ|ผ่อน|เลย|วางเงิน|นิ่ง|ๆ|', '|เพราะอะไร|', '|บาท|ค่ะ|', '|วัน|ทำการ|ครับ|', '|พร้อมเพย์|', '|พนักงาน|แจ้ง|ว่า|จำนวน|ครั้ง|ที่|เข้า|จะ|นับ|ครั้ง|ตาม|การสรุป|ยอด|เข้า|บ|ช|', '|ไม่ได้|ครับ', '|ซิ|ม|', '|ต้อง|ใช้|', '|แอป|ล่ม|', '|โดยที่|ไม่ต้อง|ไป|ธนาคาร|', '|ธ|ค|', '|และ|ใช้|วงเงิน|ค้ำประกัน|ต่ำสุด|กี่|บาท|ได้|บัตร|ประเภท|ไหน|บ้าง|ครับ', '_', '|สถานะ|เหมือนเดิม|', '|กรกฎาคม|', '|ท|รู|มูฟ|', '|ช่วงเวลา|', '|ต้อง|ใช้|อะไรบ้าง|', '|เย็น|ๆ|', '9|', '|ก็|ให้|', '|วินาที|', '|จะ|ออกบัตร|กด|ฟรี|ได้|อย่างไร|', '|ธนาคาร|เลย|', '|โดน|หัก|ไป|', '|ผ่าน|มือถือ|ผ่าน|แอป|', '|banks|', '|ตลาดนัด|', '|กรุงเทพ|ประกันภัย|', '|แล้ว|บัตร|เก่า|คือ|จ่าย|ออนไลน์|ได้|', '|รายการ|', '|หักบัญชี|', '|2020|', '|อื่น|', '|cheque|', 'น่าจะเป็น|', '|ที่ธนาคาร|', '|300|', '|ไม่มี|พนักงาน|รับสาย|', 'เรา|ใช้|', '|7000|', '|wisdom|', '|เมษา|', '|เมื่อวาน|ไป|ทำ|เรื่อง|ก็|ทำไม่ได้|', 'โอนเงิน|พร้อมเพย์|จาก|', '|mint|', '|k-cyber|', '|ปลายทาง|', '|แต่|ภาพ|ไม่|ใช้|', '|เลย|ค่ะ|', '|ถอนเงิน|วันนี้|นะคะ|', '|ตั้งแต่|ต้นปี|', '|ก|พ|', '|ตลอด', '|หาย|', '|1599|', 'ของ|', '|แล้ว|มี|', '|ก็|ใช้ได้|ปกติ|ครับ|', '|อี|กรอบ|', '|มัน|มี|', '|ที่|สาขา|', 'ใน|', '|a|', '|เชียงใหม่|', '|โทร|ติดต่อ|ยากมาก|', '|เงินฝากประจำ|กรุงไทย|', 'สอบถาม|คะ|', '|mall|', '|home|', '|พัก|ชำระหนี้|', '|life|', '|โดยที่|เรา|ไม่ได้|เข้า|', '|ที่|จาก|', '|ได้|ไหม|ครับ|', '|อื่นๆ|', '|เช็ค|สถานะ|', 'โอน|เงินเข้า|', '|callcenter|', '|แก้ไข|', '|mymo|', '|มีนาคม|', '|แนะนำ|', '|smart|', '19|', '|เงิน|หัก|จาก|บัญชีธนาคาร|แล้วแต่|ยอด|ใน|แอป|เป๋า|ตัง|ยัง|เป็น|', 'ktc|', '|มี|หนี้|บัตร|', '|black|', '|ย|', '|ก|ย|ศ.|', '|wise|', '|190|', '|ทำไง|ครับ', '|สอบถาม|นิดนึง|ค่ะ|', '|กด|สมัคร|', '|รอ|นานมาก', '|25000|', '|เหลือ|ง|', '|แล้ว|กด|', '|3|-|4|', '|ตั้งแต่|', '|เรย|', '|ใช้งาน|ไม่ได้|', '|แบบ|แรก|', '|เบี้ยประกัน|', '|cigna|', '|สูงกว่า|', 'จ่าย|', '|โอน|เข้า|', '|ไป|กรุงไทย|', '|ต้อง|ทำ|อย่างไร|', 'โอ้|', '|รบกวน|สอบถาม|', '|g-walle|', '|ขอ|ข้อมูล|', '|แต่|บัตรเครดิต|', 'พร้อมเพย์|ต้อง|ไป|ติดต่อ|กับ|ธนาคาร|เจ้าของ|บัญชี|เพื่อ|ลงทะเบียน|ผูก|บัญชี|เข้ากับ|หมายเลขโทรศัพท์|ครับ|', 'สมัคร|สินเชื่อ|', '|อยาก|บอก|ว่า|', '|บัตร|', '|ลำ|ลูก|กา|', '|ลงทุน|', '|ยืน|', '|bbl', '|แค่|ยื่น|บัตร|ให้|', '|ส่วน|บัตรกดเงินสด|', '|ราคา|', '|kplus|', '|เฉลี่ย|', 'โทร|ติดต่อ|', '|easy_invest|', '|ถือ|ยาว|', '|เจ้า|', '|facebook|', '|3.|', '-|', '|กรุงไทย|', '|รบกวน|ช่วย|หน่อย|นะคะ', '|ทำไง|ดี|ครับ|', '|โปรด|ยืนยัน|ตัวตน|', '|2700000|', '|ยัง|ไม่มี|', '|ผ่าน|แอป|', '|หนึ่ง|', '|17.30|', '|ไม่ได้|ใช้|', '|ต้องการ|ปิดบัญชี|ไป|เลย|', 'scb_easy|', '|เสือก|บอก|ให้|กุ|ไป|ขอ|รหัสพิน|กับ|ธนาคาร|', '|ไม่สำเร็จ|', '|สินเชื่อ|เสริม|พลัง|ฐานราก|', '|วอ|เลต|', '|เร็วๆ', '|ธนาคาร|kbank|', '|ควร|ทำ|ยังไง|ดี|คะ|', 'tmrw|', '|เฮงซวย', '|steam|', '|ไหม|คับ', 'เรา|อยากจะ|ติดต่อสอบถาม|เรื่อง|การ|พัก|หนี้|ค่ะ|', '|เข้า|ไม่ได้|', '|เมลล์|', '|30000|', '|มี|ไหม|', 'โอน|จาก|', '|ตาม|หัวข้อ|กระทู้|เลย|', '|สะสมแต้ม|', '|แจ้ง|สำเร็จ|', '|เดี๋ยว|นะ|', 'สอบถาม|หน่อย|ค่ะ|', '|วันนี้|ระบบ|ของ|ธนาคาร|ปรับปรุง|เหรอ|คะ|', '|เติม|ไป|', '|jcb|', '|cap|', '|บริษัทหลักทรัพย์จัดการกองทุนรวมจำกัด|', '|หงุดหงิด', '|ทะเบียน|พาณิชย์|', '|0.5|', '|private|', '|ต่างๆ|', '|กองทุนรวม|', '|3500|', 'ฝาก|ธนาคาร|ก็ได้|ดอกเบี้ย|น้อยนิด|', '|g-wallet|', '|อยู่|ไหม|คะ|', '|มาตลอด|', '|2|-|4|', '|พอดี|', '|บาท|ผ่าน|พร้อมเพย์|', '|จำเป็นต้อง|ใช้|เงิน', '|โอน|วัน|ที่', '|แต่|ทำไม|', '|ซื้อของ|', '|อีห่า|', '|เป็นหลัก|', '|ผม|ว่า|', '|อันนี้|ไม่|รู้ว่า|สรุป|เป็น|ยังไง|บ้าง|', '|in|', '|gmarket|', '|ทั้ง|', 'เจอ|เหมือนกัน|', '|tmb|.|', '|ตอนนี้|เดือดร้อน|มากๆ|', '|อยาก|ถาม|ว่า|', '|ดอกเบี้ย|ยิ่ง|เยอะ|ค่ะ', '|15.30|', '|2.78|', '|scblt|2|', '|เข้า|ไม่ได้|เลย|', '|ฮา|ๆ|', '|แก้ไข|อย่างไร|', '|ยัง|เป็น|นิสิต|อยู่|', '|แต่|ไม่มี|สมุดบัญชี|', '|e-mail|', 'ถ้า|', '|cvc|', '|ทำไง|ได้|บ้าง|คะ|', '|ก|', '|หัก|ยอด|', '|อี|เหี้ย|', 'โอนเงิน|จาก|แอป|', '|ไม่|ค่ะ|', '|อิ|', '|พรุ่งนี้|', '|ถึง|', '|เรา|ใช้|', '|พ.ย.|', '|หมด|', '|transaction|', '|scbtmf|', '|ถัดไป|', '|ยอด', '|จ่าย|รายเดือน|', '|usd|', '4|', '|555', '|บาท|ขึ้นไป|', '|เป็นของ|', '|ใช้เวลา|กี่|วัน|ครับ|', '|gen|', '|จน|ผ่านไป|เป็น|เดือน|แล้ว|', '|society|', '|เป็นสมาชิก|', '|จน|เรา|ติดต่อ|เข้าไป|เป็น|ครั้ง|ที่', '|ไม่ได้|เลย|', '|ไว้|ไหม|คะ|', '|สวัสดี|', '|แอร์|เอเชีย|', '|สุดท้าย|คุณ|ก็|หยอด|จน|เต็ม|', '|แต่|ไม่สามารถ|', '|25|', '|ธนาคาร|คือ|', '|ทาง|ธนาคาร|', 'ผม|สมัคร|บัตร|', '|transection|', '|yolo|', '|krungsri_jcb|', '|ได้|ครับ|', '|jasif|', '|ต้อง|นำ|บัตร|', '|95|', '|6|', '|ลดเหลือ|', '|แล้า|', '|ค่า|บ้าน|', 'โทร|ไป|', '|busayarat|', '|t|', '|แล้ว|พอ|', '|ไม่ได้', '|คิว|ยาว|', '|ผ่อน|รถ|', '|แล้ว|ไม่มี|', '|กด|เข้าไป|', '|jmart|', '|tmb_so_smart|', '|ต่อ|', 'สมัคร|บัตร|', '|63|', 'น้อยๆ|', '|dca|', '|เดือน|แรก|', '|ก็|', '|customer|', '|มีเงิน|', '|merchant|', '|อาทิตย์|ละ|', '|มูลค่า|', '|opd|', '|กี่|เดือน|', '|หมื่น|อัพ|', '|ธนาคารกรุงไทย|', '|ครบ|', '|beyond|', '|ระบบ|อัตโนมัติ|', '|ต่อ|ปี|', '|ขอ|', '|อ่ะ|ค่ะ|', '|copy|', '|แบงก์|', '|เพื่อ|เปิดบัญชี|', '|ติดต่อ|ธนาคาร|เจ้าของ|บัตร|', '|savings|', '|ktc|', '|ค่า', '|อยู่|ครับ|', '|7500|', '|แจ้ง|ว่า|ระบบ|มีปัญหา|', '|ipo|', '|เมื่อคืน|', 'วันนี้|ตอน|', '|เยอะ|', '|ใคร|เข้าระบบ|ได้|มั่ง|ครับ|', '|นานไป|ไหม|', '|อีกครั้ง|', '|ไม่|แจ้ง|', '|ท|รู|วอ|ล|เลท|', '|จะ|กู้เงิน|ใน|ไลน์|', '|ก็|ไม่ได้|', '|บช.|', '|อันนี้|ก็|แล้วแต่|', '|krungthai_care', 'mon|', '|4|g|', '|สำหรับ|ผม|', '|3.5|', '|1.1|', '|แต่|เงิน|ไม่|เข้า|ครับ|', '|พอดี|ว่า|', 'โอน|จาก|กรุงไทย|', '|ขอบคุณ|มาก|ครับ|', '|เคพลัส|', '|สีเทา|', '|line|', '|คือ|อะไร|', '|หรือ|ป่าว', '|รบกวน|แนะนำ|ด้วย|นะคะ|', '|ไม่ทราบ|ว่า|จะ|ผ่าน|ไหม|คะ|', '|ขอคำแนะนำ|หน่อย|ค่ะ|', '|ไป|ค่ะ|', '|โอน|จาก|', '|ถ้า|เปิดบัญชี|', '|เงิน|ยัง|ไม่|เข้า|เลย|ค่ะ|', 'ฐาน|เงินเดือน|', '|ทำไม|นาน|จัง|', '|แทน', 'ตอนนี้|', '|เป็น|ตั้ง|แตา|ก่อน|มี|กระแส|', '|ประมาณ|', '|ทำ|รายการ|ไม่|ตามเวลา|กำหนด|พ่อ|ง|มึง|ดิ', '|ถ|', '|asia|', '|บาท|ต่อ|ปี|', '|euro|', '|เช้า|', '|23163|', '|scan|', '|ธนาคาร|ไหน|', '|tower|', '|บ|', '|บาง|สาขา|', '|reference|', '|โดน|ไป|', '|global|', '|book|', '2|9|', '|ม.|', '|บัญชี|ฝากประจำ|ของ|', 'เรียน|', '|29000|', '|be|', '|สำเร็จ|', '|เลขที่บัญชี|', '|เรา|ก็|งง|', '|mbanking|', 'วันนี้|', '|เขา|เลย|ป|ริ้น|ให้|', '|net|', '|ลืม|', '|พฤศจิกายน|', '|uninstall|', '|สาธุ|', 'เป็น|ธนาคาร|', 'ขอบ|สอบถาม|หน่อย|ค่ะ|', '|จน|วันนี้|เพิ่ง|มี|หมายศาล|ส่ง|มา|ที่บ้าน|ที่|', '|กับ|bay|', '|มี|สลิป|', '|เป็น|อะไร|', '|โอนเงิน|ออกจาก|บัญชี|เรา|เอง|', '|นาที', '|ได้แก่|', '|รอบ|แล้ว|', '|อะ|ค่ะ|', '|พนักงาน|เกือบ|ทั้งหมด|พูด|กับ|ลูกค้า|', 'คล้ายๆ|', '|จะ|เป็น|', '|และ|มี|', '|ไม่|สา|มาร|อนุมัติ|บัตรเครดิต|ของ|ท่าน|ได้|เป็นผล|จาก|เกณฑ์|พิจาร|ณ|รา|ของ|บริษัท|เท่านั้น|', '|มีโอกาส|', '|บ้าง|ค่ะ|', '|งวด|แรก|', '|ตอนนี้|วัน|ที่', '|ดาว|น|์|', '|ไป|ก่อน|', '|โอน|เมื่อวาน|ตอน|', '|แต่|ตอนนี้|', '|ตามปกติ|', '|1000000|', '|ยืนยัน|ตัวตน|ปุ๊บ|', 'ทาง|', '|booking|', '|การ|ขอ|เพิ่มวงเงินถาวร|', '|ไม่ใช่|', 'แอป|', '|จ.|เพชรบูรณ์|', '|เจ้าของ|กระทู้|', '|data|', '|แม่|ง|', '|00.00|', '|พร้อม|ดอกเบี้ย|', '|น.', '|โอเค|', '|26|', '|แล้ว|ต้อง|ทำ|อะไรบ้าง|', '|รอ|ผล|', '|streaming|', '|ตอน|เปิดบัญชี|', '|ก็|ไม่มี|ยอด', '|สินเชื่อหมุนเวียน|', '|บน|มือถือ|', '|คือ|ถ้า|', '|siam|', '|จนถึง|', '|ตาม|', '|100000|', '|พี่|', '|scb_connect|', '|ได้|ไหม|คะ', '|ธนาคาร|ธนาคารเพื่อการเกษตรและสหกรณ์การเกษตร|', '|66|', '|เป็น|งง|', '|แอป|กรุงไทย|', '|มากกว่า|', '|2|g|', '|city|', '|หัก|ต้น|ไป|แค่|เดือน|ละ|', '|ลองดู|นะคะ', '|เบอร์|ผิด|', '|10.32.0|', 'ลอง|ไป|ใช้บริการ|กับ|พนักงาน|เค้า|', '|เอทีเอ็ม|', '|speedy|', '|เม.ย|', 'ขออนุญาต|สอบถาม|ครับ|', '|บัญชี|ปลายทาง|', '|plus|', '|dtac|', 'พี่|ที่|ธนาคารกรุงไทย|ใจ|ดีมาก|', '3|', '|33|', '|นี่|โอน|จาก|', 'ขอ|สอบถาม|หน่อย|ค่า|', '|วงเงิน|', '|อาทิตย์|แล้ว|', '|เอ|', 'ณ|', '|ใช่|ๆ|', '|กระเป๋า|ตังค์|', '|1000|', '|ประทับใจ', '|ไป|ตั้งแต่|วัน|ที่', '|ksme|', '10|', '|ได้|หรือไม่|คะ|', '|activate|', '|ในช่วง|', '|bank|', '|ก.พ.|', '|report|', '|grab|', '|name|', 'atm', '|ช|', '|ไป|ยืนยัน|ตัวตน|ที่|ตู้', '|bdms|', '|emoji|', '|อยาก|รู้ว่า|ค่าธรรมเนียม|ตรง|', '|เพื่อน|ๆ|', '|เสียเวลา', '|สุด|', '|แย่สุดๆ|', '|margin|', '|ชอบมาก|', '|300000|', '|ค่าธรรมเนียมรายปี|', '|ก็|เป็นส่วนหนึ่ง|ครับ', '|ทุ่ม|กว่า|', '|ยื่น|สมัคร|ที่|', '|ทาง|เพจ|', '|สามารถ|จ่าย|ผ่าน|', '|airbnb|', '|งง|มาก|ครับ|', 'ยอมแพ้|ที่', '|ช่อง|', '|มัน|', '|touch|', '|first_choice|', '|เหลือ|แค่|', '|tmb_touch|', '|มา|เป็น|', '|2400|', '|จน|วันนี้|วัน|ที่', '|เป็น|อะไร|อ่ะ|', '|paypal|', '|คือว่า|', '|วัน|ทำการ', '|ไป|อีก|', '|ดี', '|ต้อง|จ่าย|', '|ถ่าย|บัตร|', '|900|', '|จะ|ได้|ไหม|คะ|', '|เข้า|', '|ม|ก|รา|', '|krungsri|', '|gmarket', '|เดือน|', '|5', '|ถอน|', '|unionpay|', '|ผ่านไป|', '|วัน|ๆ|', '|record|', '|2.34|', '|ขอโทษ|ค่ะ|', '|ว่า|ตอนนี้|', '|จำนวน|', '|จน|ต้อง|ถ่อ|ไปถึง|โร|บิน|สัน|เอง|', '|ตอนนี้|เลย|', '|ตกลง|', '|ใช้|แต่|', '|ios|', '|34|', '|สัก|', '|เอ้า|', '|robo|', '|ถาม|ทาง|', '|แต่|บัญชี|ปลายทาง|ไม่ได้|รับเงิน|', '|เดือนก่อน|', '|free|', '|เยน|', '|ปีนี้|', '|เดือดร้อน|มากๆ|', 'android|', '|time|', '|สาขา|', '|citibankgold|', '|คืน|บัตร', 'เอ|อ|', '|click|', '|lh|', 'ขอบคุณ|ค่ะ|', '|ได้|', '|ธนาคาร|แบบนี้|', 'โทร|หา|', '|ใหม่|', '|aia|', '|21|', 'รบกวน|สอบถาม|', '|โครต|เชง|', '|เงิน|', '|kbank|เอาเปรียบ|บ|ลิงค์|', '|0.001|', '|10|', '|ห่วย|มาก|', '|7600|', '|km|', '|ที่อยู่|', 'เมื่อ|', '|ตั้งแต่|เมื่อวาน|', '|กับ|ไทยพาณิชย์|', '|ยัง|ไม่|เข้า|เลย', '|จาก|กระทู้|', '|คิดว่า|', '|ทั้ง|ทาง|', '|cancel|', '|ล่ม|หรอ|คะ|', '|คืนเงิน|', '|700|', '|weply|', '|ก็|ปิด|', '|s|21|', '|แต่|เจ้าหน้าที่|', 'ไหน|ๆ|', '|ก็|ขึ้น|ว่า|', '|passion|', '|ไป|ติดต่อ|ธนาคาร|', '|โอนเงิน|จาก|ธนาคาร|', '|มี|ยอด|เงินโอน|เข้า|', '|ก็|เข้า|ปกติ|', '|แต่|ไหม|เข้าบัญชี|', '|เลย|ค่ะ', '|union|', '|fwd|', '|สด|', '|มัน|มีระบบ|คล้ายๆ|', '|โต|ขึ้นมา|คุณ|เลย|เป็น|คน|รู้จัก|อดทนอดกลั้น|', 'sms|', '|ต้อง|ให้|หน้า|สมุดบัญชี|ตรงกับ|ผู้ที่|ลงทะเบียน|', '|ให้|รอ|', '|number|', 'มีปัญหา|ใน|การ|เปิดบัญชี|', '|เงิน|ฝากออมทรัพย์|แบบ|ไม่มี|สมุด|', '|บาท|แน่ะ|', '|พอ|มา|เจอ|ข้อความ|นี้|', 'หลักๆ|', '|ไม่|ใช้|เงิน|จนกว่า|จะ|เก็บ|ถึง|เป้า|', '|แต่กลับ|ไม่มีใคร|โทร|มา|ทวง|เลย|กลับเป็น|ส่ง|', '|เข้ามา|ที่|ไทย|', '|ไม่ทราบ|ว่า|', '|ไม่ดี|', '|ด้วย|ครับ|', '|ประทับใจ|มาก|', '|อยู่|เลย|ครับ|', '|ktbnext|', '|55', '|jp|', '|2140|', '|เข้า|kbank|', '|ประกัน|', '|แสน|', '|พ|น.|', '|ไม่รู้|', '|ไม่ต้อง|ชำระ|', '|note|', '|transfer|', '|ขอบคุณ|ครับ|', '|ที่ผ่านมา|', '|เพราะว่า|', '|โอน|', '|ไปที่|ตู้', '|ยืนยัน|ที่|ตู้', '|แล้ว|คะ|', '|จริงๆ', '|ปี|แล้ว|ครับ|', '|pbv|', '|me|', '|ไม่|เข้า|', '|ออกมา|', '|transferwise|', '|โมโห|', '|งง|ค่ะ|', '|อายุงาน|', '|ลง|เหลือ|', '|เบอร์|ถูก|', '|15|', '|บัตรเครดิต|bbl|', '|ตู้|แต่|ไม่มี|แบงก์|ย่อย|จ่าย|เลย|', '|ใช่ไหม|', '|chubb|', 'ผม|อยาก|สมัคร|', '|ค|ห|', '|แย่มาก', '|จะ|', '|16.30|', '|2.|', '|ผม|', '|สอบถาม|หน่อย|นะคะ|', '|108|', '|youtube|', '|มี|ค.|', '|เอา', '|มา|kbank|', 'กรุงไทย|', '|ref|.|2|', '|ไหม|ค่ะ|', '|เบื่อ|มาก|', '|k|', '|ธนชาต|', '|เลย|ครับ|', '|ฝากเงิน|', '|แล้ว|ลง|ใหม่|', '|ธรรมดา|', '|เครดิต|', 'ถ้า|ใช้|', '|โอนเงิน|ผ่าน|', '|foodpanda|', '|pay|', '|update|', '|บ้าน|', '|บาท|ได้|', '|โอนเงิน|ไป|แล้ว|', '|แสดง|ว่า|', '|scbset|50|', 'ใคร|ใช้|', '|เงินเข้า|ทันที|', '|แค่นั้น|', '|62|', '|friendtag|', '|ซื้อ|ผ่าน|', '|ค่ะ|', '|login|', '|ครั้ง|ที่', '|กรุงไทย|เลย|', '|momo|', '|แสก|น|', '|เฮ้อ|', '|family|', '|ไม่|ระบุ|แบบ|', '|starbucks|', '|thailand|', '|your|', '|กล|ต.|', '|รอ|ดู|', '|หรือ|ตาม|แต่ละ|พื้นที่|', '|จะ|ได้|เตรียม|เอกสาร|ไป|ให้|ถูก|ครับ|', '|center|', '|ปัง|มาก|', '|code', '|ออ|ป|โป|', '|ต้อง|ทำ|ยังไง|ครับ|', 'จริง|', '|พอกันที|', '|ด้วย|ละ|อ่า|', 'อิ|', '|หรือเปล่า|ครับ|', '|น้อยกว่า|', '|ต้อง|ติดต่อ|ธนาคาร|', '|welcome|', '|flow|', '|มา|ดู|', '|แอ๊ป|', '|edc|', '|เอา|ง่ายๆ|', '|เบื่อ|', '|ก.ค.|', '|เอง|ค่ะ|', 'เจริญ|', '|ธนชาต|ได้|ไหม|ครับ|', '|ของ|bay|', '|ของ|ระบบ|', '|ค่า|เทอม|', '|e|', '|ขายหมู|', '|กรุงเทพ|', '|มกราคม|', '|โค|วิด|', '|กับ|กรุงไทย|', 'ผม|', 'สอบถาม|หน่อย|ครับ|', '|10000|', '|เพราะ|', '|เจ้าหน้าที่|', '|ไม่|รองรับ|', '|ของ|', '|tmb_all_free|', '|ให้|ลูกค้า|', '|class|', '|ธนาคาร|อื่นๆ|', '|ต้อง|รอ|ตรวจสอบ|', '|ต่างประเทศ|', '|10.02|', '|ตัดยอด|ทันที|', '|ทำ|มา|', '|ก่อน|ค่ะ|', '|หรือเปล่า|', '|ที่|ตู้', '|ดี|นะ|', '|scbset|50|e|', '|ละ|ตัด|ตัง|ไป|แล้ว|ด้วย', '|scb_m|', '|0', 'เข้า|', '|กลุ่ม|ที่', '|7|-|14|', '|ขายของ|เช็ค|ยากมาก|ค่ะ|', '|next|', '|ไป|ทำ|ที่|ตู้', '|scb|', '|แก้|ด่วน|', '|เสียความรู้สึก|มาก|', '|high|', '|scb_jcb|', '|ทุ่ม|กว่า|ๆ|', '|ดีจัง|', '|แจ้งเตือน|', '|ทาง|kbank|', '|15000|', '|sms|', 'ผ่อน|รถ|กับ|', '|ธนาคาร|ก็|หายเงียบ|ไป|', '|หมายเลข|อ้างอิง|', '|แต่|ยอดเงิน|ไม่|เข้า|ปลายทาง|', 'แนะนำ|', '|แล้ว|โหลด|แอป|', '|ผม|ต้อง|ทำ|ยังไง|ครับ', '|หรือ|ธนาคาร|', 'call_center|', '|rate|', '|8.1.2020|', '|5000.|-|', '|อ่าน|เงื่อนไข|อี|กรอบ|', '|ได้|ไหม', '|one|', '|แม่|จะ|จ่าย|งวด|แรก|ให้|ก่อน|แล้ว|ที่เหลือ|หนู|ผ่อน|', '|dec|', '|ตัว|', '|1.6|-|1.8|', '|เงิน|ยัง|ไม่|เข้า|', '|อยาก|รู้ว่า|', 'สมัคร|บัตรเครดิต|', '|เริ่ม|', '|บาท|ใน|', '|หลังจากนั้น|', '|ไป|kbank|', 'krungthai_care|', '|เยอะ|ๆ|', '|ไปที่|', '|ก็|ยัง|ไม่ติดต่อ|กลับมา|ตกลง|ไฟแนนซ์|ไทยพาณิชย์|', '|ตัดเงิน|ใน|บัญชี|แล้ว|', '|atm', '|บ้าง|คะ|', '|28|', '|โทร|ไม่ติด|ครับ|', '|takashimaya|', '|ราย|', '|แง|ง|', '|โอน|เข้า|กรุงไทย|', '|แอป|เป๋า|ตังค์|', '|scbsete|', '|ได้|เลย|', '|มี|ข้อความ|จาก|', '|เหมือน|สมัยนี้|', '|card|', '|170|', '|ติดต่อ|', '|ไม่|หยิบ|เงิน|ออกจาก|ตู้|', '|2130|', 'โอนเงิน|วัน|ที่', 'ขอบคุณ|มากๆ|', '|honda|', '|ว่า|เพราะอะไร|', '|ป่า|รอยต่อ|', 'ขอ|สอบถาม|ผู้รู้|หน่อย|ครับ|', '|ใช้เวลา|ประมาณ|', '|สรุป|', '|ฝากประจำ|', '|shop|', 'โอ้|ย|', '|คำถาม|', '|ต้อง|ทำไง|', 'grab|', '|เรา|ก็|ไม่สามารถ|ใช้|', '|expense|', '|กรุงไทย|ล่ม', '|bunnytrader|', '|ไทยพาณิชย์|', '|115000|', '|ตุลาคม|', '|ไทย|', '|ไอ|', '|scbb|', '|นอกจาก|', 'โอนเงิน|', '|2645|', '|บริษัท|', '|วันก่อน|', '|เปลี่ยน|มา|', 'อ้าว|', 'ขอ|', '|ล่ม|อีกแล้ว|', '|ไม่ติด|บู|โร|', '|offer|', 'ขอบคุณ|', '|fast|', '|ส่วน|ที่|ไม่ต้อง|เป็น|ผู้โดยสาร|ก็|เข้าไป|ใช้บริการ|ได้|', '|error|', '|ตาม|รูป|', '|max|', '|wealth|', '|ไม่ติด|', '|ภายใน|', '|ไหน|ๆ|', '|เกือบ|', '|59|', '|ยื่น|ไป|', '|รอ|ถึง|', '22|1163|', '|ญี่ปุ่น|', '|เสีย|ค่าธรรมเนียม|', 'เบอร์|', 'ไป|', 'อีก|', '|โอนเงิน|ไป|', '|ขอบคุณ|คะ', '|พูดจา|ดีมาก|', '|station|', '|แบน|', '|ประเทศไทย|', 'scb_connect|', '|กลัว|โดน|หลอก|', '|105|', '|ขอบคุณ|นะคะ|', '|ทวง|แทน|', '|สาขา|ชน|แดน|', '|ขอบคุณ|ครับ', '|d|', '|เป็นไร|อ่ะ|', '|ขอบคุณ|มาก|ครับ', 'กู้เงิน|กับ|', '|ใบ|ที่', '|โดยประมาณ|', '|ปลายทาง|ไม่ได้|รับเงิน|', '|ก็|เลย|รีบ|กด|รับ|สิทธิ์|เลย|', '|แสน|บาท|', '|ยอดเงิน|', '|รอ|ไป|', '|ไป|ตู้', '|สมาชิก|ว่า|', '|remind|', 'รบกวน|', '|ของ|ตัวเอง|', '|ล้าง|ข้อมูล|ใน|มือถือ|', '|swift|', '|มึง|ติด|', '|โทร|กลับ|ไทย|ก็|ไม่ได้|', '|ต้อง|ไป|ทำ|ที่ธนาคาร|', '|ปี|ที่', '|for|', '|วัน|แล้ว|', '|uob|', '|bayfirst_choice|', '|ติดต่อ|ยากมาก|', 'รอ|', '|rewards|', '|ทำไง|ดี', '|เป็นเวลา|', '|ก|ยศ|', 'ติดต่อ|', '|ไม่สามารถ|ดำเนินการ|ใดๆ|', '|bts|', '|line', '|หรือ|อะไร|', '|9|', '|agoda|', '|ทาง|', '|mail|', '|ตก|', '|หรือ|กี่|ปี', '|โทร|ถาม|', '|barcode|', '|1.|ผม|ต้อง|แจ้ง|อะไร|กับ|ทาง|', '|badservice', '|ไม่สามารถ|เข้า|', '|เริ่มต้น|', '|แจ้ง|บัญชี|ของ|คุณ|ผิดปกติ|', '|no|', '|ตัวเอง|', '|กับ|พร้อมเพย์|', '|เดือน|ค่ะ|', '|วัน|ครับ|', 'สวัสดี|ครับ|', '|ครับผม|', '|dispute|', '|น.|', '|แย่มาก|', '|ลอง|ไป|ศึกษา|ดูก่อน|', '|เรา|', '|ไม่|เกี่ยวข้องกับ|ข้อมูล|เครดตบู|โร|', '|สอบถาม|โทร|', 'ๆ|', '|ไว้|แล้ว|', '|up|2|me|', '|กุ|ปวดหัว', '|ค่าธรรมเนียม|บัตร|', '|และ|ให้|เรา|ยืนยัน|ตัวตน|', '|ที่|จ่าย|', '|รู้|ผล|ปุ๊บ|', '|โทร|เช็ค|กับ|ธนาคารกรุงไทย|ชัว|กว่า|ค่ะ|', '|connect|', '|แปล|ว่า|', '|นั่น|คือ|', '|มี|.|ค.|', '|หน่อย|ค่ะ', '|บน|', '|ref|.|1|', '|ขึ้น|', '|910|', '|200|', '|เมื่อ|วัน|ที่', '|หรือยัง|คะ|', '|ใส่|จำนวนเงิน|', '|ต่อ|เดือน|', '|icbc|', '|ตอนนี้|โต|แล้ว|', '|หรือไม่|', 'โทร|', '|verified|', '|หน่วย|ละ|', '23|', '|เดือน|ละ|', '|เช็ค|จะ|', '|ละ|เพิ่ม|', '|ava|', '|เงิน|โดน|หัก|', '|เบอร์|เติม|ผิด|', '|ทำไง|ดี|คะ|', '|ขอบคุณ|ล่วงหน้า|ค่ะ', '|แล้ว|ต้อง|เสีย|อะไร|ไหม|', '|ธัน|วา|', 'เวร|ละ|', '|spotify|', '|scb|.', '|1500|', '|31|', '|เลข|อ้างอิง|', '|ผูก|', '|ย้อนหลัง|', '|และ|ไทยพาณิชย์|', '|digital|', '|kbank_live', '|สัก|เท่าไหร่|', '|นี่|จะ|', '|แต่|จ่าย|ผ่าน|', '|งง|เลย', '|ๆๆ|', '|3|g|4|g|', '|ฝาก|', '|หมดความอดทน|', '|ยัง|ไม่|ผ่าน|', '|เพราะ|กลับ|ไทย|ก็|ไม่ได้|ค่ะ|ตอนนี้', 'สวัสดี|ค่ะ|', 'ที่|สำคัญ|', '|บัตรเดบิต|', '|เร็วๆ|', '|blackpink|', '|เห|น่ย', '|rueantan|', 'เรื่อง|มีอยู่|ว่า|', '|คนละ|ครึ่ง', 'อ|ห|', '|510|', '|device|', '|โฆษณา|ว่า|', '|pic|.|twitter|.|comrw|84|ubnuum', '|โอน|เวลา|', '|all|', '|แล้วก็|ส่งจดหมาย|แจ้ง|ว่า|', '|v|', '|ทั้งหลาย|', 'ขออนุญาต|สอบถาม|ค่ะ|', '|prime|', '|อี|', '|เมื่อ|กลางเดือน|ไป|เปลี่ยน|จาก|บัตร|', '|pos|', '|ด้วย|ไหม|', '|วัน|ค่ะ|', '|เรื่อง|แอป|', '|เวลา|ประมาณ|', '|sale|', '|มิถุนายน|', '|scb_family_plus|', '|ไม่ได้|ค่า|', '|toyota|', '|ผม|ใช้|มา|', '|โทร|ไป|ไม่เคย|ได้|คุย|', '|เลย|', '|trip|', '|kjourney|', '|พ|รบ|', '|บาท|ค่ะ', '|fb|', 'งง|', '|shoppee|', '|0|', '|od|', '|robinhood|', '|เหมือนเดิม|', '|uob_privimile|', '|แต่|เงิน|ไม่|เข้า|ปลายทาง|', '|spoil|', 'scbs|', '|เข้า|พร้อมเพย์|กรุงไทย|', '|wow|', '|scbsp|500|', '|kbank_wisdom|', '|หลัง|', '|ก็ได้|นะ|', '|ที่ผูก|ไว้|', '|อย่าง|เรา|มี|kbank|', '|คือ|', '|ตาม|ข้อ|', '5|', '|เสีย|ค่าธรรมเนียม|อีก|', '|ฟ|รีๆ|', '|รอสาย|นานมาก', '|กรุงไทย', '|มีข้อดี|', '|20|k|', '|ทุ่ม|', '|ผม|เปิดบัญชี|', 'tmb|', '|tmrw|', '|ไปมา|', '|ดีกว่า|', '|ธนาคาร|ghb', '|แล้ว|อยู่|ๆ|', '|ทำไม่ได้|', '|ไม่|เสีย|', '|มี|สลิปเงินเดือน|', '|scb_m_luxe|', 'นาๆ|', '|ปล่อยกู้|', '|tesco|', '|เพราะ|บัตร|', '|โทร|ไป|ถาม|', '|itmx|', '|m|', '|ผู้จัดการ|', '|เติม|ผ่าน|', '|ต่างจังหวัด|', '|นิดๆ|', '|ไม่ได้|', '|prestigerop|', '|35000|', '|บอก|', '|3', '|สอง|ล้าน|', '|แอป|ค้าง|', '|ลบ|แอป|', '|covid|', '|ขอบคุณ|ล่วงหน้า|ครับ', '|เพียง|', '|ส่ง|เอกสาร|', '|นะ|', '|ก็|ถอย|', '|99|', '|scb_easy|', '|มี|นา|', 'และ|', '|คน|ไม่|เยอะ|', '|it|', '|คุณ|', '|สู้|ๆ|', '|2700|', '|ผม|อยาก|ถาม|ผู้รู้|ครับ|ว่า|', '|ไม่เข้าใจ|ว่า|', '|ไปยัง|', 'ใช้|', '|k-bank|', '|90000|', '|มากกว่า', '2.|', '|app', '|ค|ป|ภ|.|', '|รบกวน|ผู้รู้|ทุกท่าน|ด้วย|ค่ะ', '|ไทยพาณิชย์', '|แลกเงิน|ตาม|โป|ร|', '|ป|ช|ช|', '|-|', '|ปี|คะ|', '|คืน|', '|สัก|ปี|ละ|', '|สรุป|คือ|', '|ไม่มีปัญหา|เลย|', '|140|', '|500|', '|ทุกเดือน|', '|ชิม|ช้อป|ใช้|', '|มา|ใช้|', '|air|', '|หมดแล้ว|', '|ก็ได้|ค่ะ|', '|บ้าง|', '|คือ|ยังไง|', '|ปันผล|', '|ไม่สามารถ|', '|จ่าย|ด้วย|บัตรเดบิต|ktb|และ|ผม|ได้|ทำ|การยกเลิก|การสั่งซื้อ|ไป|', 'โหลด|แอป|', '|ปัด|ตก|', '|อุดรธานี|', '|ร|ร|', '|200000|', '|ล่ม|ตั้งแต่|เมื่อวาน|', '|วิ่ง|ก่อน|', '|5.|', '|back|', '|tmb|', 'คือ|', '|เป็น|จำนวน|', '|the|', '|ดี|', '|ปี|ที่แล้ว|', '|airasia|', '|เป็น|อะไร|อีก|', '|นาน|', '|นะ|ครับ|', '|แง|ง', '|process|', '|pttgc|', '|มา|', '|10|k|', '|ก็|มี|', '|ไม่|ต่ำกว่า|', '|คนละ|ครึ่ง|', '|เยอะมาก|', '|เวลา|ติดต่อ|', '|ขึ้น|วงเงิน|มา|', '|ไม่เคย|กู้|อะไร|กับ|กรุ|ศรี|คับ|', '|บาง|', '|แล้ว|รอ|', '|เปิด|พร้อมกัน|', '|ต|ค.|', '|ats|', '|youth|', '|ขอบคุณ|ล่วงหน้า|ค่า', '|ลูกค้า|', '|เดือน|แล้ว|', 'เป็น|เหมือนกัน|เลย|ครับ|', '|แบบนี้|ต้อง|ทำ|อย่างไร|ครับ', 'ขอบคุณ|ครับ|', '|แปลกๆ|', 'scb_first|', '|ที่|บริษัท|', '|เย็น|', '|มา|บอก|ว่า|', '|ไป|เข้า|', '|ปีนี้|ได้|ไหม|ครับ|', '|ๆ|คะ', '|เครื่อง|เก่า|', '|แต่|เงิน|ไม่|เข้า|', '|ที่ใช้|', 'ที่|เรา|', '|ktc_jcb|', '|ของ|kbank|', '|คะ|', '|รอสาย|', '|เต็ม|', '|วัน|นะคะ|', '|จาก|', '|มี|เอกสาร|', '|rop|', '|finnomena|', '|signature|', '|ชื่อบัญชี|', '|เรียน|', 'ใช้|บัตร|', '|830|', '|บริการ|ดี|', 'kbank_live|', 'กดเงิน|', '|650|', '|เป็นการ|ผิดพลาด|ใน|การ|ตีพิมพ์|เอกสาร|', '|จู่ๆ|', '|พอ|กลับมา|ที่|', '|พนักงาน|', '|bangkok|', 'แล้ว|แต่ละ|ธนาคาร|ใช้|เอกสาร|อะไรบ้าง|ครับ|', '|up|', '|จาก|ทาง|', '|เอา|ดิ|', '|traveloka|', 'cigna|', '|อืม|', '|tech|', '|อี|ค|วัย|', '|ทาง|ออนไลน์|', '|ทุกวัน|', '|โค|วิด_19', 'ltf|', '|บ้าน|แล้ว|ไม่รู้|จะ|เอา|เงิน|ไป|ทำ|อะไร|ก็|ไปหา|ฝาก|ที่นี่|ก่อน', '|เกิน|', '|ref|', '|ไป|ยืนยัน|ที่|ตู้', '|โทร|เข้า|', '|เซ็ง|', '|web|', '|แพลทินัม|', '|ปี|ครับ', '|บอก|ว่า|รีบ|เร็ว|เด่|ว|เต็ม|นะ|', '|ถาม|จริง|', '|20000|', '|เสีย|', '|สมุดบัญชี|', '|promptpay|', '|bankingmobile|', '|กุม|ภา|', '|091|', '|ไม่มี|สลิปเงินเดือน|', 'อยาก|สอบถาม|ว่า|', '|เป็น|ส่วนลด|', 'ปิดบัญชี|ฝากประจำ|ก่อนกำหนด|ได้|ไหม|', '|แห|นะ', '|scbam|', '|ตัด|บัตร|', 'scb|', '|or|', '22|', '|เลย', '|คน|ทำคนเดียว|กัน|เหรอ|', '|64', '|เขา|บอก|ว่า|', '|visa|', '|แล้ว|อย่างนี้|เรา|จะต้อง|ไป|ติดต่อ|ที่ไหน|ดี|คะ', '|scbs', '|2515|', '|หน้า|', '|หัว|เว่ย|', '|18.30|', '|counter|', '|เรียกว่า|', 'เติมเงิน|ผิด|เบอร์|ครับ|', '|นะ|ครับ', '|หรือ|พี่|ๆ|', '|ดู|ยากมาก|', '|lounge|', '|แต่|ยอด|ไม่|เข้า|', '|ฟรี|', '|ธนาคาร|ล่ม', '|ใน|สาขา|', '|กว่า|ปีก่อน|', '|ถ้า|เปิด|', '|ไม่|ขึ้น|ใน|', '|ที่|ชำระเงิน|', '|ต่อมา|', '|ใช้ได้|', '|shopee|', '|ตอนนี้|มี|', '|เป็น|เหมือนกัน|ค่ะ|', 'อยู่|ๆ|', '|store|', '|ต้อง|ทำไง|ค่ะ', 'ร้อนๆ|', '|ขอ|ข้อมูล|จาก|ธนาคาร|อื่น|ได้|', '|ace|', '|ยัง|ไม่ได้|คุย|กับ|เจ้าหน้าที่|เลย|', '|ต้นๆ|', '|เข้า|แอป|', '|เดือน|ขึ้นไป|', '|tot|', '|k-usa-ad|', '|ก็|ให้|ติดต่อ|', '|ต้อง|ใช้|บัตร|', '|สวัสดี|ค่ะ|', '|แม่|ม|มา|ทำงาน|กัน|บ้าง|เปล่า|วะ|', '|youtrip|', '|ไปยัง|bbl|แต่|เงิน|ไม่|เข้า|', '|พอ|มี|โครงการ|พัก|หนี้|', '|11|', '|ทำไม|เข้า|ไม่ได้|อะ|', '|พยายาม|', '|ลูกค้า|โอน|จาก|', '|แจ้ง|ว่า|', '|ธนาคาร|', 'ควย|', '|แล้วจะ|ให้|ทำ|ยังไง|ได้|บ้าง|ครับ|', '|comment|', '|ในกรณีที่|', '|ง|อง|มาก', '|ของ|ไทยพาณิชย์|', '|ธันวาคม|', '|ใช่|เรื่อง|ไหม|', '|เป๋า|ตังค์|', '|ดอก|', '|ว|ด|ฟ|', '|สอบถาม|ทาง|', '|งวด|ที่', '|ค|', '|1700|', '|privilege|', '|วัน|ละ|', '|มี|ค|', '|scb_life|', '|เติมเงิน|', '|truemoneywallet|', '|พัน|บาท|', '|16.08|', '|ด|', '|เก็บ|ยิ่ง|นาน|', '|มี|บัตร|', '|loan|', '|ของ|ทหาร|ไทย|', 'หวัง|ว่า|', 'ส่วน|', '|ผ่าน|ทาง|', '|ต้อง|รอ|', '|arkk|', '|-', '|เรา|ยัง|ไม่ได้|ข้อความ|เหมือนกัน|ค่ะ|', '|300', '|16000|', '|out|', '|อยู่|ที่', '|นาน|มากๆ|', '|scb|ค่ะ|', '|ตอนนี้|', '|ไม่|ผ่าน|', '|เข้า|กรุงไทย|', '|สงสัย|ว่า|', '|พี่|ๆ|', '|ยังไง|', '|110|', '|mask|', '|pvd|', '|ยัง|', '|planetscb|', '|ฝาก|เบอร์|โทร|กลับ|', '|ทำ|เรื่อง|', '|ชอบ|', '|ไม่ยุ่งยาก|', '|ร้อยละ|', '|ก็|ยัง|รู้สึก|ยุ่งยาก|และ|', '|ท|รู|มูฟ|หรอ|', '|ติดต่อ|เจ้าหน้าที่|', '|ล้าน', '|75|', '|pantip|', '|เลย|โทร|ไป|', '|ประกัน|สุขภาพ|', '|card', '|username|', '|ให้|หมด|', 'บัญชี|', '|พนักงาน|บอก|ว่า|', '|ร้าน|ป|ริ้น|ยัง|ไม่|เปิด|นี่|เลย|จะ|เปิดบัญชี|เพื่อ|จ่ายเงิน|', '|วัน|ที่', '|passport|', '|โดย|', '|100|', '|แล้ว|ครับ|', 'อยาก|ยกเลิก|บัตร|', '|งง|ไป|หมด|', '|ฆ|ษ|ณ|', '|แต่|ยัง|ไม่|เข้า|', '|bay|', '|ยืนยัน|ตัวตน|', '|เช่นกัน|ค่ะ|', 'ยืนยัน|ตัวตน|ที่|ตู้', '|ยัง|มี|', '|ไป|พร้อมเพย์|ผูก|กับ|', '|นะคะ|', '|และ|แอป|', '|ทุน|', '|1115|', '|โทร|ไป|คอลเซนเตอร์|', '|เนื่องจาก|บัญชี|นั้น|โดน|ยึด|ไป|ด้วย|ปัญหา|หนี้สิน|', '8|', '|alipay|', '|18.00|', '|รบกวน|ด้วย|นะคะ', 'ติดต่อ|ไปที่|คอลเซนเตอร์|ของ|ทาง|กรุงไทย|', '|เห้อ|', '|ธนาคาร', '|ได้|ครับ', '26|', '|t_t', '|โบนัส|', '|1|', '|60|', '|โอนเงิน|จาก|', '|easynet|', '|อยู่|', 'ของ|ผม|', '|แจ้ง|ธนาคาร|', '|มา|นาน|', '|มาถึง|', '|atm|.|', '|hr|', '25|', '|g|', '|19.35|', '|เงิน|ไม่|ออก|', '|2557|', '|care|', '|2564|', '|6|-|7|', '|jitta|', '|และ|บัตร|กดเงิน|', '|กัน|', '|ยอด|เงินออก|แล้ว|', '|ทหาร|ไทย|', '|วัน|แล้ว', '|อี|สัส|', '|ประกันสังคม|', '|อยาก|ร้องไห้|', '|เข้า|ใช้งาน|', '|เติม|เงินเข้า|', '|ใน|ใบแจ้งหนี้|จ่าย|', '|ละ', '|11.00|', '|1.8|', '|เลิก|ใช้|วอ|เลท', '|cdm|', '|4|-|5|', '|กุมภาพันธ์|', '|กดเงิน|ไม่|ใช้|บัตร|ไม่ได้|ค่ะ|', '|โท|ร.|', '|เดือน|ครับ|', '|9000|', '|โทร|หลาย|รอบ|', '|บาท|วันนี้|', '|หมุนเวียน|และ|สินเชื่อ|ได้|เพิ่ม|', '|kbankxblackpink', '|ค้าง|', '|ทำไม|', '|งง|มาก', '|เอง|ครับ|', '|16.00|', '|จ่าย|ค่า|บัตร|', 'ยกเลิก|', '|นี่แหละ|', '|ต้อง|ทำ|ยังไง|คะ', '|ที่', '|code|', '|ไหน|', '|mobile|', '|pending|', '|เท่ากับว่า|', '|wha|', '3|1|', '|ทำให้|ปลายทาง|ไม่ได้|รับเงิน|', '|หรอ|คะ|', '|ประ|มาน|', '|ต้นเดือน|', '|อาชีพ|', '|wifi|', '|รอ|นานมาก|', '|ดัน|ใช้ไม่ได้', '|สิ|ครับ|', '|แต่|ก็|นั่นแหละ|', '|มี|.ค|', '|ฮัลโหล|', '|หมายเลข|', '|และ|', '|scb_m_live|', '|คือ|ยังไง|คะ|', '|โอน|เมื่อ|วัน|ที่', '|baac|', '|รวม|ๆ|', 'โอนเงิน|ผ่าน|', '|ไป|', '|stm|', '|anan|', '|บริการ|ดี|มากๆ|', '|5500|', '|ทำ|ยังไง|ดี|คะ|', 'เรา|เลย|โทร|ไป|ที่', '|10', '|20930|', '|ดังนั้น|', '|สัญญา|ผูกพัน|ธ|์|กับ|ธนาคาร|', '|คล้ายๆ|', 'อ่ะ|', '|2017|', '|นอกนั้น|', '|กด|โอนเงิน|', '|ใช้|', '|wallet|', '|ไง|คะ|', '|ยัง|ไม่ได้|เลย|', '|ห่วย|ๆ|', '|22000|', '|กด|', '|set|', '|ทั้งที่|มี|', '|เดือน|นี้|', '|แล้ว|ส่วน|ของ|บัตร|', '|vpn|', '|จะ|มี|', '|โอน|จาก|kbank|', '|ไม่มี|เลย|', '|อย่าง|', '|แต่|นี่|', '|log|', '|kbank|', '|เป็น|', '|พอ|วัน|ที่', '|ทุกปี|', '|จาก|บัญชี|', '|ละ|อ่อ|', '|สู้|', '|บ้าง', '|จ้า|', '|ผ่าน|', '12|', '|chat|', '|รายเดือน|', '|กรุงไทย|เน็ค|', '|ครับ', '|บัตร|หมดอายุ|', '|อยากได้|', 'รีวิว|', '|bualuang|', '|แล้วก็|', '|rungruang|', '|ตัวเอง|ได้|', '|19.00|', '|เมย|', '|kyc|', '|บาท|อยู่แล้ว|', 'chanathammakhon|', '|บลจ|', '|อยากจะ|ผ่อน|คอน|โด|ราคา|', '|หรือ|', '|sietongkum|', '|1600|', 'โทร|ไปหา|', 'bbl|', '|ktb|.|', '|ส่วน|', '|aot|', '|บอก|ระบบ|ยังไม่เสร็จ|', '|รอบๆ|', '|ไม่มี|กำหนด|หมดอายุ|', '|ค่ารถ|', '|ไหม|', '20|12563|', '|วีโว่|', '|4', '7|', '|twitter|', '|เหมือนกัน|เลย|ค่ะ|', '|เอ|อ|', '|รอ|ประ|มาน|ครึ่ง|ชม.|', '|kbank', '|จะ|ใช้|เงิน|', '|ผ่อน|', '|ก็|สามารถ|', 'เซ็ง|', '|telephonetag|', '|no|.|1|', '|ผม|เลือก|', '|ก็|เสือก|ไม่|เข้า|', '|parkjihoonfanconinbkk', '|ทั้งๆ', 'เจ้าหน้าที่|', '|จ่าย|ดอก|ทุกเดือน|', '|18|', '|พอๆ|', '|บ่าย|', '|ลง|', '|scb-m|', '|point|', '|งับ|', 'baac|', '|2300|', '|599|', '|แรกๆ|', '|start|', '|fun|', '|cp|', '|reward|', '|บัตรเครดิต|', '|จะ|ใช้|', '|ชม.|แล้ว|', '|นึกคิด|', '|ไม่สนใจ|', '|cc|', '|ขออภัย|', '|ไม่ได้|แล้ว|', '|ว้อท|', '|ครึ่ง|', '|พอ|เข้าไป|จะ|สมัคร|จริงๆ|', '|ในนาม|บริษัท|', '|ได้|เลย', '|เวง|', '|บัตรประชาชน|', '|มาแล้ว|', '|17|-|01|-|2563|', '|จะ|ยกเลิก|สิทธิ์|', '|ป|ล.|', '|แง|', '|everyday|', '|cost|', '|nav|', '|มี|บัญชี|kbank|', '|งวด|ละ|', '|ยอด|ไม่|เข้า|', '|bbl|', '|แล้ว|ค่ะ', '|checking|', '|ของ|ธนาคาร|ไหน|', '|18|k|', 'โดน|', '|10|m|', '|1.5|', '|ใช่ไหม|ครับ|', '|ผ่อน|ได้|', '|44|', '|64|', '|ไม่มี|สมุดบัญชี|', '|รวมทั้งสิ้น|', '|ไม่|เสีย|ค่าธรรมเนียม|', '|แทน|', '|internet|', 'kbank|ล่ม|หรอ|', '|บอก|ให้|รอ|', '|ได้|ประมาณ|', '|เข้าใจ|ว่า|', 'หุ้น|', '|อี|เวง|', '|คลิก|เพื่อ|ดู|ข้อความ|ที่ซ่อน|ไว้', '|ktb|', '|ภายใน|วัน|ที่', '|scb_first|', '|ตัด|ไป|', '|ครั้ง', '|เรา|ชนะ|', '|investing|', '|-|19|', '|พรบ.|', '|journey|', 'ถาม|', 'รบกวน|สอบถาม|หน่อย|ครับ|', '|ถูก|', '|major|', '|ได้|ไหม|', '|ม.|ค|', '|อัตโนมัติ|', '|ทำไง|ดี|คะ', 'โทร|หา|คอลเซนเตอร์|', '|หรือ|มากกว่า|', '|ทั้ง', '|แต่|พอกด|สมัคร|ไป|แล้ว|', '|อีก|ประมาณ|', '|จะ|มีโอกาส|ผ่าน|ไหม|ครับ|', '|xx|', '|payroll|', '|ได้มา|', '27|', '|รอ|มา|', 'แย่|', '|บาท|ครับ|', '|50000|', '|กะ|', '|speedy_loan|', '|หายไป|', '|ไม่|ได้คืน', '|แล้ว|เรา|ลงทะเบียน|ไป|วัน|ที่', '|ยัง|ไม่|ได้รับ|', '|เท|วินทร์|', '|ของ|บัญชี|', '|ปลายทาง|kbank|', '|7|-|8|', '|link|', 'เมื่อ|เช้า|', '|วัน', 'โอนเงิน|ไป|แล้ว|', '|ยอด|', '|6896|', 'มือถือ|จีน|', '|รี|ไฟแนนซ์|', '14|', '|จะ|ผ่าน|ไหม|ครับ|', '|รำคาญ|', '|แต้ม|', '|จ้ะ|', '|ทำ|บัตรเสริม|ของ|มาย|', '|otp|', '|2600000|', '|ไป|เข้าบัญชี|', '|แต่|ของ|', '|android|', '|หมด|เลย|', '|ตอนนี้|คือ|', '|appscb|', '|นาที|', '|ธ|', '|ktbnetbank|', '|ขึ้นมา|', '|make|', '|ติด|ต่อไป|ทาง|', '|เท|ค|ไป|', '|เงิน|เยียวยา|', '|ontop|', '|ปี|แล้ว|ค่ะ|', '|ทั้งสิ้น|', '|k-check|', '|มา|ว่า|', 'ผม|เอาไว้|กัน|เวลา|ไป|ต่าง|พื้น|ที่แล้ว|มี|แค่|ตู้|เดียว|', '|บาท|ถ้วน|', '|ใบ', '|23|', '|บ|ลา|ๆ|', '|โปรโมชั่น|', '|บ.|ช|.|', '|สั่ง|อาหาร|', '|order|', '|rabbit|', '|sch|', 'ออกๆ|', '|โดน|', '|น่าสนใจ|มาก|ครับ|', '|เปลี่ยนเป็น|', 'พึ่ง|รู้ว่า|', '|แง', '|fee|', '|uk|', '|วัน|เหมือนเดิม|', '|เงิน|จะ|เข้า|พรุ่งนี้|', '|gift|', '|ส่ง|มา|', '|ขอ|สอบถาม|หน่อย|ค่ะ|', '|อยู่', '|ต.ค.|', '|41000|', '|ได้|แล้ว|นะ|ครับ|', '|น|', '|เงิน|ไม่|เข้า|', '|หรือไม่|ผ่าน|', '|ธนาคาร|หนู|เงิน|ประมาณ|', '|แต่|สมัคร|', '|wfh', '|นาที|แล้ว|', '|amount|', '|paotang|', '|เป็น|ไฟแนนซ์|ไทยพาณิชย์|ก่อนหน้านี้|', '|45|-|60|', '|โป|ร|', '|2692|', '|18000|', '|แต่|ไม่|เกิน|', '|ผล|ปรากฏ|ว่า|', '|เบอร์|เดิม|', '|2200|', 'พอ|', '|service|', '11|43|', '|2750|', '|กด|เงินสด|', '|ยอดเงิน|ไม่|เข้า|', '|เป๊ก|ผลิต|โชค|', '|แต่|ไม่แน่ใจ|ว่า|', '|50|', '|กองทุน|', 'ธนาคาร|อื่น|', '|อาทิ|', '|หรือ|เหลือ|แค่นั้น|', '|บ้าบอ|', '|คับ|', '|ง|', '|แอ|ด|มิ|น|คะ|', '|จ่าย|ด้วย|', '|ขอนแก่น|', '|โดยตรง|', '|ยกเว้น|', '|กว่า|หน่วย|', '|หลังจาก|', '|ต้อง|เปิดบัญชี|', 'โป|ร|บัตร|', '|ว่า|', '|เพิ่ม|', '|ไม่ได้|ค่ะ|', '|ไม่|เลย|', '|เจ้าหน้า|ที่แจ้ง|ว่า|', '|ตอน|สมัคร|', '|gs|', '|29|', '|ไป|คะ|', '|เลือก|', '|จะ|เอา|บัตร|กด|ยัง|ไม่ได้|อีก', '|ktc', '|33000|', '6|', 'กด|บัตร|', '|4.|', '|ปี', '|ขึ้น|ว่า|', '|23.00|', '|บาท|ต่อ|เดือน|', '|โทร|กลับ|ไม่|เกิน|วัน|ถัดไป|', '|1.6|', '|ค่าธรรมเนียม|', '|ตลอด|', '|490|', '|1300|', 'ไฟแนนซ์|', '|advisor|', '|เท่านั้น', '|ไป|เมื่อ|วัน|ที่', '|เที่ยงคืน|', '|กว่า|ปี|', '|ทั้งๆ|', '|หักเงิน|ใน|บัญชี|ไป|แล้ว|', '|ตอน|ตี|', '|แต่|ไม่มี|บัตร|', '|คัน|', '|ล่ม|อีก|', '|11.30|', '|ปกติ|', '|เอง|', '|inbox|', '|invest|', '|รอบ|แล้ว|ค่ะ|', '|18.11|', '|exchange|', 'tmb_touch|', '|ได้|ไหม|คะ|', 'เมื่อ|วัน|ที่', '|150|', '|ธนาคาร|หยุด|ไหม|คะ|', '|ถ้า|', '|1', '|ถาม|', 'เติมเงิน|ผิด|เบอร์|ค่ะ|', '|เพราะ|บัตร|กรุงไทย|ตัวต้นเหตุ|เลย|', '|หรือ|บัตรเดบิต|', '|ทุกครั้ง|', '|เหรอ|', '|ขึ้น|รหัส|', '|เบื้องต้น|', '|เอา|จน|ว่า|รำคาญ|', '|บาท', '|คือ|ไร|อ่ะ', '|63', '|sbc|', '|ดอกเบี้ย|ใน|เอกสาร|ใบแจ้งหนี้|', '|big|', '|ขอบคุณ|นะ|ครับ|', '|วัน|แล้ว|ค่ะ|', '|ผม|มี|ธนาคาร|ในใจ|อยู่แล้ว|', '|vi|', 'โอน|', '|ส่ง|มา|ว่า|', 'ตู้|', '|โมง|ครึ่ง|', 'ทำ|ประกัน|', '|ประกันชีวิต|', '|เพราะ|เรา|', '|พนักงาน|บอก|', '|กลัว|จะ|มีปัญหา|', '|keptbykrungsri|', '|อ่าว|', '|จบ|ข่าว|', '|120|', '|2563|', '|เงินเดือน|ผม|', '|pround|', '|ทำ|อย่างไร|ได้|บ้าง|คะ|', 'ghb|', '|แต่|ทั้ง', '|หมื่น|', '|แบบ|ใช้|', '|โอน|เงินเข้า|', '|ก็|ยัง|เหมือนเดิม|', '|คือ|ช้า|มาก|', '|amex|', '|bangkokbank|', '|พ่อ|', '|smebank|', '|19|', '|atm-|', '|นี้|ก็|', '|ก่อน', '|รบกวน|ทาง|', '|ขาย|', '|คลิก|เพื่อ|ดู|ข้อความ|ที่ซ่อน|ไว้|', '|ตอนนี้|ก็|ติดต่อ|สาขา|เจ้าของ|บัญชี|', '|ครับ|', '|ดีมาก|เหมือนกัน|', '|and|', '|09.00|', '|แรก|', 'วัน|ที่', '|ล่าสุด|', '|13.00|', '|ktsf|', '|แล้ว|เข้า|แอป|ไม่ได้|เพราะ|กด|รหัส|ผิด|เกินกำหนด|', '|มี|สลิป|แต่|เงิน|ไม่|เข้า|ทำไง|บอก|ที|และ|จะ|ได้|เงิน|คืน|ไหม|ม', '|ตัด|', '|บ.|', '|20|', '|western|', '|เหอะ|ๆ|', '|หักเงิน|ไป|แล้ว|', '|ใช่|', '|wongnai|', '|เป๋า|ตัง|', '|master|', '|ไม่|ช่วย|อะไร|เลย|', '|หรือ|ยังไง|', 'มี|บัตรเครดิต|', '|ธนาคาร|ค.|', '|สัปดาห์|', '|pro|', '|ยากมาก|', '|ghb|', '21|', 'ไป|เปิดบัญชี|', '|2212563|', '|kcl|', '|ทั้งที่|กดเงิน|แล้ว|ไม่|ออก|', '|กว่า|บาท|', '|ซวย|ๆ|', '|2021|', '|แม่|', '|sme|', '|สอบถาม|', '|uob', '|กู้|คนเดียว|', '|12000|', '|เจอ|', '|เมื่อไร|', '|ผม|อายุ|', '|ซิ|ตี้|', '|ม.|ค.|', '|personal|', '|โยน|ไป|', '|ครึ่ง|ชั่วโมง|', '|ถ้า|แจ้ง|ช่องทาง|ไหน|ครับ|', '|ต้อง|ทำไง|ค่ะ|', '|ของ|วันนี้|ให้|ลอง|เช็ค|ที่|บัญชี|ปลายทาง|ก่อน|ถ้า|ไม่|ได้รับ|ก็|ให้|เช็ค|พรุ่งนี้|อีกที', '|โมโห', '|พวก|', '|อยากทราบ|ว่า|', '|หรอ|ครับ|', '|ขอความกรุณา|', '|ทั้ง|คนอื่นๆ|', '|เพื่อ|ยืนยัน|ตัวตน|', '|ฉบับ|', '|easypass|', '|5|g|', '|กำไร|', '|ไม่|มีอาชีพ|', '|เมื่อวาน|อยู่|ที่', '|internetbanking|', 'สอบถาม|', '|sq|', '|ด้วย|', '|เลข|', '|24|', '|เท่านั้น|', '|กด|ไม่ได้|', '|ยัง|ไม่|เข้า|เลย|ครับ', '|check|', '|ตอบ|โจทย์|ที่สุด|', '|ก็|ใช้|', '|จาก|ต่างประเทศ|', 'kbank|ค่ะ|', '|จาก|เดิม|', '|บาท|อะ|', '|แต่|ใน|', '|อะไร|', '|ติดต่อ|ไม่ได้|', 'แอป|ธนาคาร|', '|ไม่สามารถ|ทำ|รายการ|ทางการ|เงินได้|ในขณะนี้|', '|ง|อง|', '|อายัด|บัตร|', '|ตัว|ท้าย|', '|ของ|ธนาคาร|อื่นๆ|', '|นี่|', '|channel|', 'gsb|', '|ได้|แล้ว|', '|ก็|แล้ว|', '|90|', '|หลักๆ|', '|23|xxx|', '|ขึ้นไป|', '|อีดอก|', '|ลบ|', 'ดอกเบี้ย|ออมทรัพย์|', '|db|', '|ก่อน|ครับ|', '|ฐาน|เงินเดือน|', '|บาท|', '|เข้าไป|แด|ใหม่|คะ|', '|แอป|', 'งง|มาก|', '|ด้วย|ค่ะ|', '|โบราณ|จะ|ตาย|ชัก|', '|ไลน์|', '|เป็นบ้า|หรอ|', '|ขอ|ประจาน|ตัวเอง|', '|เดียว|', '|ทอง|', '|วีซ่า|', '|central|', '|ประเด็น|คือ|', '|รีวิว|เกาหลี', '24|', '|เอา|บัตร|ป|ป|ช|.|', '|สถาบันการเงิน|ชื่อดัง|', '|30|', '|โทร|ไปหา|', '|แต่|เงิน|ไม่|เข้า', '|ขอบคุณ|มาก|ค่ะ', '|อิ|เหี้ย|', '|ของ|ธนาคาร|bbl|', '|เป็น|เบอร์|', '|14000|', '|เป็นไร|อะ|', '|8700|', '|เข้า|เมื่อกี้|เลย|', '|ก็|ยัง|เงียบ|เหมือนเดิม|จน|เกือบ|ถึง|รอบ|ชำระ|', '|เบอร์|โทร|', '|_', '|ขัดข้อง|', '|ตั้งแต่|ปี|', '|สีม่วง|', '|เซ|ง|', '|ไม่มีภาระ|หนี้สิน|', '|นามสกุล|', '|ข้อเสีย|', '|gbp|', 'ทุกคน|', '|ประกันภัย|', '|แหะๆ|', '|ซ่อม|ศูนย์|', 'จาก|', 'จ่ายเงิน|', '|18.04|', '|scbeasyapp|', '|32300|', '|หน่อย|', '|ชั่วโมง', '|ณ', '|rmf|', '|statement|', '|3|-|5|', '|45|', '|อยาก|', '|เลย|นะ|', '|ได้|ค่ะ', '|จะ|แลกเงิน|อ่า|', '|หลัง|วัน|ที่', '|มากๆ|', '|ต้อง|ทำ|ยังไง|', '|gsb', '|เลือก|จ่าย|ด้วย|', '|ก|ย|', '|ทำ|ยังไง|ดี|คะ', '|ของ|บัตรเครดิต|และ|', '|เข้า|scb|', '|ก็ได้', '|.', '|hack|', '|แย่|จริงๆ|', '|ผล|คือ|', '|เจ้าหน้าที่|โทร|มา|ทวง|ค่าบริการ|ชำระ|', '|มี|ประวัติ|ล่าช้า|', '|buntoshi|', '|ล่ม|หรอ|', '|พอ|ถึง|วัน|ที่', '|taxi|', 'ปกติ|', 'mobile|', '|ล้าน|บาท|', '|โทร|ตั้งแต่|', '|unlock|', '|กี่|', '|เฮ้อ', '|รับ|', '|คุย|', '|live|', '|debit|', '|พัน|', '|tbank|', '|เรา|ติดต่อ|ไปที่|เบอร์|โทร|สำนักงานใหญ่|ไฟแนนซ์|ไทยพาณิชย์|บอก|ว่า|จะ|ติดต่อ|กลับมา|', '|เงิน|ยัง|ไม่|เข้าบัญชี|', '|สาขา|ใน|สนามบิน|สุวรรณ|ภูมิ|', '|มี|เยอะ|แล้ว|', '|got|7|', '|ไปรษณีย์|', '|ธนาคาร|ไม่ได้|เป็นเจ้าของ|', '|ใน|แอป|', '|tablet|', '|เงียบกริบ', '|อนุมัติ|', '|ผิด|เบอร์|', '|x|', '|ipad|', '|axa|', 'ระบบ|', '|บอก|เลย|', '|พูด|แล้ว|ทั้ง|เศร้า|ทั้ง|โมโห|', '|เนื่องจาก|เรา|ย้าย|มา|อยู่|', '|scb_prime|', '|ขอคำแนะนำ|หน่อย|ค่ะ', '|pc|', '|โอนเงิน|เข้าบัญชี|', '|14|', '|เดือด|ร้อนมาก|', '|contact|', 'รบกวน|สอบถาม|ครับ|', '|พูด|ง่ายๆ|', '|ค่าบริการ|', '|ctw|', '|kbankxblackpinkfanmeeting', '|ตราสาร|หนี้|', '|แต่|ใช้ไม่ได้|คะ|', '|มี|บัตรเดบิต|', '|ดูๆ|', '|หมดอายุ|', '|2545|', '|feedback|', 'ตาม|หัวข้อ|เลย|ค่ะ|', '|1333|', '|1.30|', 'กรุงเทพ|', 'krungthai_next|', '|ครั้งแรก|', 'เปิด|', '|krungthai_next|', '|หรือ|ไม่มี|', 'ติดต่อ|เจ้าหน้าที่|', '|หรือไม่ก็|อัน|ที่|เทียบเคียง|คับ|', '2|', 'ขออนุญาต|', '|50|k|', '|คำถาม|คือ|', '|วัน|ทำการ|', '|ก็|ต้อง|มี|ระยะ|รอคอย|', '|เจ้าหน้าที่|เต็ม|ทุก|คู่สาย|', '|4500|', '|ผ่าน|มา|', '|ใช่ไหม|คะ|', '|รบกวน|ด้วย|นะคะ|', '|ที่|ลง|', '|ตาม|นี้|ครับ|', '|coins|', '|1|-|3|', '|รีวอร์ด|', '|หรือว่า|', '|ไป|แจ้งความ|', '|แอป|ธนาคาร|', '|wave|', '|ล่ม|อี|ควาย|', 'krungsri|', 'แอป|เป๋า|ตัง|', '|แต่|ไม่|สามารถทำได้|', '|โทร|เป็น|ชาติ|', '|thai|', '|เกือบ|ทั้ง|องค์กร', '|design|', '|ใน|', '|เมื่อวาน|', '|banking', '|kbankxblackpink|', '|แต่|เงิน|ไม่|เข้าบัญชี|ปลายทาง|', '|ตู้', '|โอนเงิน|มา|ให้|แล้ว|ครับ|', '|จ่ายเงิน|', '|the|1|', '|ตอนนี้|เหลือ|', '|ไป|เปิดบัญชี|', 'tmb_all_free|', '|โลตัส|', '|ของ|ทุกเดือน|', '|หมื่น|บาท|', '|อยู่|ค่ะ|', '|เกี่ยวกับ|', '|ไป|ไหม|นะ|', '|จำกัด|', '|refinance|', '|080|', '|แผน|', '|รหัสผ่าน|', '|ตั้งแต่|วัน|ที่', '|เข้าบัญชี|', '|ล่ะ|', '|เปลี่ยนเป็น|เบอร์|', '|ทำ|ยังไง|ได้|บ้าง|คะ|', 'ซื้อ|ผ่าน|', '|นานมาก|แล้ว|', '|699|', '|งง|มาก|', '|truemoney|', '|msig|', '|5|', 'โอ๊ย|', '|ว|', 'ยื่น|', '|อีกที|', '|ถ้า|จ่าย|ด้วย|บัตร|', '|นะ', '|ให้|หน่อย|', 'ธนาคารอาคารสงเคราะห์|', '|2440|', '|a-mobile|', '|ไม่|อยากให้|พัก|หนี้|ใช่ไหม|ถึง|ไม่ติดต่อ|กลับมา|ทำไม|ถึง|ติดต่อ|กลับ|ได้|ยากเย็น|เพียงนี้', '|online|', '|เงินเดือน|ไม่|ถึง|', '|แฟน|ทำ|เมื่อวาน|ผ่าน|แล้ว|คะ', 'ป|ล.|', '|k-my|', '|gwallet|', '|scb', '|600|', '|lazada|', '|jaymart|', '|npl|', '|คลิก|เพื่อ|ดู|ข้อความ|ที่ซ่อน|ไว้|ใส่|ข้อความ', 'แอป|bbl|', '|kb|', '|หมายถึง|', '|ไป|ธนาคาร|อื่น|', '|1295|', '|27|', '|safari|', 'วันนี้|เวลา|', 'เย่|', '|ที่|เป็น|ธนาคาร|', '|timeout|', '25|320|', 'k|8888|', '|กับ|รหัส|', '|ตั้ง|', '|ได้|ไหม|ค่ะ', '|exclusive|', '|ให้|', 'สอบถาม|ครับ|', '|ที่ไหนได้|', '|ทำ|บัตร|', '|แต่|ไม่|เข้า|ปลายทาง|', '|cardless|', '|bls|', '|จนถึง|บัดนี้|', '|call|', '|1900|', '|ครั้ง|และ|ยอดเงิน|', 'อยาก|ถาม|ว่า|', '|80|', '|k-plus|', '|เปน|', '|ขออนุญาต|ถาม|หน่อย|ได้|ไหม|คะ|', '|ล้าน|', 'visa|', '|ป่ะ|', '|website|', '|ผ่าน|ทาง|แอป|', '|จน|', '|เพราะ|มี|', '|มา|ให้|', '|บิ๊ก|ซี|', '|got|7|keepspinninginbkk', '|สะดวก|', '|infinite|', '|ยอด|จาก|อนาคต|ตอน|', '|ก็|มา|', '|2330|-|0000|', '|รูป|สอง|', '|ต้องการ|', 'เจ้าของ|กระทู้|', '|7|', '|หรือ|ไป|', '|scbx|', 'ส่วน|บัตร|', '|อย่างเช่น|', '|เดิม|', '|ก็|ไม่|ผ่าน|', '|โหลด|', '|30|-|40|', '|งง|', '|cash|', '|ไปที่|สาขา|', '|ดังนี้|', '|ตอนนั้น|', '|mind|', '|เซ็ง', '|หน่อย', '|3000|', '|บาท|ทุกเดือน|', '|ฮ่องกง|', 'เติม|เงินเข้า|', '|1800|', '|tfex|', '|จ่าย|ผ่าน|', '|นานมาก|', '|ทุก|ช่องทาง|', '|ขอโทษ|นะคะ|', '|ได้|นะคะ|', '|airpay|', '|e-statement|', '|ไม่พอ|', 'next|', '|speedy_cash|', '|4|', '|มี|เพื่อน|ๆ|', '|ปล่อย|', '|saving|', '|ใคร|ใช้|', '|รอคิว|', '|แต่|ประเด็น|คือ|', '|อ๋อ|', '|ไม่มี|', '|ktb_travel_card|', '|หรือ|ต้อง|เสีย|เงิน|ไป|เปล่าๆ|', 'mymo|', '|gateway|', '|โทร|ไป|ก็|ไม่ติด|', '|ชำระ|', '|ใน|เวลา|', '|ทอง|ๆ|', '|เรา|ชนะ', '|due|', '|ทุก|ธนาคาร|', '|ณ|', '|ออก|', '|citi_premier|', '|พัก|ชำระเงินต้น|', '|ไหม|คะ', '|กรอก|ข้อมูล|แล้ว|', '|ไม่งั้น|', '|บาง|ธนาคาร|ต้อง|ใช้|', '|ตั้งแต่|เมื่อวาน|ตอน|', '|จะ|ผ่าน|ไหม|', 'สอบถาม|นะคะ|', '|ๆ', '|account|', '|บาท|ต่อ|คะแนน|', 'สินเชื่อบ้าน_scb|', '|ลงท้าย|', '1|', '|กทม|', 'ตอน|', '|ออมทรัพย์|', 'เปิดบัญชี|', '|57|', '|ยัง|ไว|กว่า|เยอะ|', '|เพราะ|ไม่มี|บัตร|', '|40000|', 'มี|เบอร์|', '|ttb|', '|เน็ต|', '|โดยเฉพาะ|', '|รบกวน|ตรวจสอบ|ให้|ด้วย|ครับ', '|180|', '|usa|', '|จ่าย|ก่อน|', '|ได้|เลย|ค่ะ|', '|so|', '|เน็ต|ก็|ไม่ได้|', '|เติมเงิน|ไป|', '22|072019|', '|สมาร์ท|', '|ได้|วัน|ที่', '|ลด|ๆ|', 'แต่|', '|จ่ายเงิน|ไม่ได้|', '|ส่ง|', 'วันนี้|ไป|ธนาคาร|ถาม|พนักงานธนาคาร|ถึง|การ|นำส่ง|ข้อมูล|บัญชีเงินฝาก|ไปยัง|กรมสรรพากร|ที่|มีเงื่อนไข|ว่า|รับ|โอน|', '|ใช้เวลา|', '|ไทย|พา|นิส|', '|ไม่มี|บัตรเอทีเอ็ม|', '|1.2|', '|โทร|ไป|', '|ไม่|เกิน|', '|แอป|ฯ|', '|ต้นทาง|กรุงไทย|', '|เซ็ง|มากๆ|', '|ไม่มี|แอป|', '|เนี่ย|', '|paste|', '|port|', '|ไหม|ครับ', '|เรื่อง|มีอยู่|ว่า|', '|ทำไง|ครับ|', '|กรุงไทย|ด้วย|', '|press|', '|ปิด|เครื่อง|', '|หรอ|', '|บัญชี|', '|ห่วย|', '|ก็|คือ|การทำ|ธุรกรรมออนไลน์|ผ่าน|ค|อม|ผ่าน|เวป|', '|จาก|ตู้', '|ปี|ขึ้นไป|', '|17.00|', '|65|', '|proud|', '|premium|', '|k|8888|', '|ได้|ดอก|', '|bay|ไม่มี|บัญชี|', '|covid|19|', '|น', '|ทำ|', '|จะ|สมัคร|', 'กัน|', '|ก็|เห็น|', '|จน|ป่านนี้|', '|นะ|จ๊ะ', '|ดู|', '|planet|', '|โอน|ไป|', '|krungthai_connext|', '|1315|', '|อยาก|ทำ|บัตร|', '|เวลา|', '|เช็คยอด|', '|35|', '4|363|', '|ผม|ต้อง|ทำ|อย่างไร', '|คอลเซนเตอร์|', '|รอบ|ไม่|ผ่าน|', '|ขออนุญาต|', '|จะ|ให้|', '|พนักงาน|ชาย|', '|มัน|ขึ้น|ว่า|', '|มาก|', '|ซื้อ|', '|อี|หน้า|เหี้ย', '|หัก|', 'จริงๆ|', '|ส|ภ|.|', '|เวลา|กลับ|ไปที่|กรม|ทหาร|บ้าน|เก่า|ใน|กรม|มัน|จะ|มี|แต่|ตู้', '|นั่ง|', '|อีก|อย่าง|', '|เปิด|บัญชีเงินฝาก|', '|อาย|เพื่อน', '|oppo|', '|ไง|', 'ดอกเบี้ย|', '|ต้อง|โทร|ไปหา|', '|สุดท้าย|', '|ais|', '|ธนาคาร|อื่น|', '|โทร|มา|แจ้ง|ยอด|ชำระ|ค่างวดรถ|วัน|ละ|', '|ไม่มี|ประวัติ|จ่าย|ช้า|ของ|ใบ|นี้|ครับ', '|bitkub|', '|ได้คืน|', '|ขนาด|', '|ทุกเดือน', '|e-saving|', 'ป|ล|', '|bankkokbank|', '|protection|', '|เท่า|ค่ะ', 'คือ|หนู|อายุ|', '|อ่ะ|', '|มี|', '|ผม|ก็|', '|60000|', '|บัตรกดเงินสด|', '|ไว้ใจ|เอา|เงิน|ไป|ฝาก|', '|weverse|', '|from|', '|uid|', '|reset|', 'สินเชื่อ|', '|ก็|ล่ม|', '|ยู|เมะ|', '|of|', 'จำได้|ว่า|', '|kma|', '|ยกเว้น|ของ|scb|', '|กู|', '|ทำ|ยังไง|', 'อยากทราบ|ว่า|', '|จะ|โดน|หัก|ดอกเบี้ย|รายวัน|ไหม|ครับ|', '|ต้อง|ทำ|ยังไง|คะ|', '|got|7|keepspinninginbkk|', 'พอดี|', '|top|', '|ออนไลน์|', '|ถ้า|ยื่น|กู้|กับ|', '|ช่วย|หน่อย|ค่ะ|', '|30|k|', '|เจ้าหน้าที่|บอก|', '|ทำ|ยังไง|ดี|ครับ', 'kbank|', '|ไม่รู้|จะ|ทำไง|แล้ว|', '|แต่|เงิน|ยัง|ไม่|เข้า|', '|เหม่อ|', 'uob|', 'ซื้อ|', '|พอ|', '|มีปัญหา|หรือไม่|คะ|', '|เรา|ควร|ทำ|ยังไง|', '|umay|', '|2.5|', '|ไม่ต้อง|ผูก|ใหม่|', '|ได้|ค่ะ|', '|โอน|ไม่ได้|', '|จะต้อง|รอ|ถึง|เมื่อไหร่|', '|grow|', '|รอบ|ละ|', 'โทร|ถาม|', '|tmb', '|ทีนี้|', '|พบว่า|', '|187|', '|kerry|', '|คะแนน|', '|ทำไง|ดี|ค่ะ', '|จริง|', '|2.3|', '|โหลด|แอป|', '|10.2|', '|เงียบกริบ|', '|00|', '|เสียเวลา|', '|อ้าว|', '|จะ|ผ่าน|', '|2|', '|2|xxxx|', '|luxe|', '|รอง|มา|', 'citibank|', '|161|', '|เพชร|บุรี|', '|เสี่ยว|มี่|', '|btc|', '|มา|ใหม่|', '|ก็|ยัง|ไม่|เข้า|', '|noti|', '|ไว้|ใน|', '|เอกสาร|ครบ|', '|add|', 'ข้อเสีย|ของ|', 'รี|ล่า|', '|t_t|', 'หนี้|', '|บางที|', '|กุ|มีปัญหา|กับ|ไลน์|แมน|อีก|', '|เหลือ|', '|ขอบคุณ|', '|truewallet|', '|จอง|', '|หายไป|ไหน|', 'มีเงิน|เข้ามา|', '|เรา|โอนเงิน|จาก|', '|ยัง|ไม่ได้|', '|เอิ่บ', 'แล้ว|ทำไม|', '|kbank|ไป|', '|ของ|ผม|', '|fundclick|', 'ขอ|สอบถาม|คะ|', '|แต่|มี|', '|หัวใจ|ของ|เรา|มัน|จะต้อง|', '|ใช้ง่าย|', '|ปิดบัญชี|', '|8000|', '|บ้าน|ราคา|', '|download|', 'สอบถาม|ค่ะ|', '|แล้ว|มา|สแกน|ใหม่|', '|โอ้|ย|', '|ชม.|', '|ดอน|เมือง|', '|จน|ตอนนี้|วัน|ที่', '|โทร|ไป|แจ้ง|', '|มือถือ|หาย|', '|ไป|แล้ว|', '|flexi|', 'อยากให้|', '|ค่ะ|.|', '|scb_easy', 'ทำไม|', '|ได้|ดอกเบี้ย|อยู่|', '|sim|', '|by|', '|เม.ย.|', '|ธนาคาร|ค|', '|ไฟ|', '|เฟส|', '|travel|', '|17000|', '|ของ|รัฐ|', '|แม้แต่|บัตร|', '|เวรกรรม', '|จน|บัดนี้|', '|ใคร|รู้|บอก|หน่อย|นะคะ|', '|สอง|รอบ|ละ|ที่|ส่ง|', '|ใคร|ที่ใช้|อยู่|รบกวน|แนะนำ|หน่อย|ครับ', '|โยน|กัน|ไป|โยน|กัน|มา|', '|คือ|อะไร|คะ|', '|30|-|45|', '|บ้าง|ไหม|คะ|', '|ดี|ไหม|คะ|', '|รหัส|', '|ขอ|ถาม|หน่อย|ค่ะ|', 'ความคิดเห็น|ที่', '|ถ้า|มัน|ไม่พลาด|ไป|', 'บัตร|', '|jlpt|', '|เจ|', 'kitisak|', '|ยัง|เป็น|', '|เลิก|ใช้|', '|ชื่อ|เหมือนกัน|', '|ktz|', '|ปีก่อน|', 'บริการ|รับฝาก|', '|mi|', '|โดย|ใช้|', '|version|', '|2.8|', 'ธนาคาร|', '30|', '7|-|11|', '|2500|', '|ไป|ธนาคาร|', '|แย่|มากๆ|', '|ktb_precious_plus|', '|ผ่าน|ไหม|ค่ะ|หรือ|ใคร|เคย|กู้|บ้าง|เล่า|ประสบการณ์|', '|1.|', '|แล้ว|ว่ะ|', '|กับ|บัตรกดเงินสด|', '|อี|เวร|', '|scb_my_travel|', '|400|', '|premier|', '|ราคา|หุ้น|', '|แต่|ทาง|', '|คุย|กับ|', '|ดีๆ|', '|เมื่อ|เวลา|', '|รอ|', '|2565|', '|400000|', '|5400|', '|1|-|2|', 'ขอ|สอบถาม|หน่อย|คะ|', '|100|k|', '|scbs|', '|แล้ว', '|ตัดยอด|', '|เมื่อก่อน|', '|น่าจะ|', '|ค|ทบ|', '|199|', '|airline|', 'ที่|', '|โอ้|ย', '|และ|บัตร|', '|us|', '|บาท|ไทย|', 'weply|', '|email|', '|ปกติ|จะ|มี|', '|ถ้า|ติด|แบล็คลิสต์|', '|ไม่มี|บัตรเครดิต|', '|kt-ashare|', '|ad|', '|เปิดบัญชี|', '|17|', '|ทั้ง|แอป|', '|ซึ่ง|ไม่|ตรงกับ|ที่|โครงการ|ดีล|ไว้|เลย|ครับ|', '|snoopy|', 'ใช่|ครับ|', '|40|k|', 'สอบถาม|เรื่อง|บัตรเครดิต|', '|สแกน|จ่าย|', '|4.4|', '|ธนาคารกรุงไทย|ได้|', '|สวัสดี|ครับ|', '|3|g|', '|ก.|ย|.|', '|bualuang_m_banking|', '|2018|', '|มั้ง|', '|fix|', '|อิ|ห่า|', '|ตอน|จำเป็นต้อง|ใช้|', '|5000|เรา|ไม่|ทิ้ง|กัน|', '|ฟรี|ค่าธรรมเนียม|', '|แต่|ใช้ไม่ได้|', 'สวัสดี|', '|ไป|ไทยพาณิชย์|', '|จนถึง|วันนี้|', '|และ|จน|ป่านนี้|', '|เอา|จริงๆ|', '|sa|', 'พรุ่งนี้|', '|ก็|คือ|', '|งวด|', 'สวัสดี|ค่ะ|เพื่อน|ๆ|', '|thailand', '|mrr|', '|ขออภัย|ครับ|', '|งง|อ่ะ|', '|กู้|', '|ธนาคาร|บอก|ว่า|', '|eur|', '|scb_thailand', '|money|', '|ก็|ไม่มี|คนรับ|', '|ไป|ต่าง|ธนาคาร|', '|ชื่อ|', 'k|', '|ปี|ค่ะ|', '|เสร็จ|', '|ชั่วโมง|', '|ไม่เคย|ติด|', '|จริง|ค่ะ|', '|แถม|', '|ทิพ|ย|ประกันภัย|', '|1851|', '|10.00|', '|ค่า|ประเมิน|', '|routing|', '|ขึ้น|ว่า|ไม่|พบ|ข้อมูล|การ|สมัคร|', '|5000|', '|800|', '|เช็ค|', 'ไป|ขอ|สินเชื่อ|', '|เฮ้ย|', '|covid-|19|', '|shanghai|', '|.|', '|นครนายก|', '|แอ|ฟ|', '|ชำระเงิน|', 'รอ|ประมาณ|', '|ของ|scb|', '|ฯลฯ|', '|เปลี่ยน|', '|ออก|บัตรเดบิต|ไม่ได้|', '|ต้อง|', '|รึ|เปล่า|ครับ|', '|ready|', '|เลย|ด้วย|', '|ตอน|', '|อ้อ|', 'โอน|ไป|', '|20.00|', '|เรียบร้อยแล้ว|', '|แล้ว|เงิน|ไม่|เข้า|', '|แต่|ถ้า|', '|ก.|พ|', '|มี|แล้ว|', '|จนถึง|ตอนนี้|', '|คน|', '0|1012564|', '|เป็นต้น|', '|สามารถ|', '|รบกวน|สอบถาม|ค่ะ|', '|13.30|', '27|1163|', '|สรุปว่า|', '|ต้นทาง|', '|กับ|บัตร|', '|ptt|', '|ขอบคุณ', '|เท่าไหร่|', '|เท่า|', '|ก่อน|จะ|มี|โครงการ|พัก|หนี้|ของ|ธนาคาร|ต่างๆ|', '|scb|.|', '|รบกวน|หน่อย|ครับ', '|แต่|', '|true|', '|มุ|แง|', '|ขอความช่วยเหลือ|', '|passbook|', '|แตก|', '|รวม|', '|ชม|', '|คำ|ว่า|', '|กด|ตัง|จาก|ตู้|ทหาร|ไทย|ได้|ถูกต้อง|ไหม|', '|กู้|ได้|', '|ยกตัวอย่างเช่น|', '|คือ|อยู่|ๆ|', '|โทร|มา|', '|บัตร|อนุมัติ|', '|ค่ะ', '|simple|', '|อยาก|ทุบ|นัก|ไอ้|ต้าว|กระปุก|หมู|นี่|', '|ตั้ง|นาน|', 'เหมือน|', '|bbl|ค่ะ|', '|เร็วมาก|', '|8900|', '|jitta_wealth|', '|dm|', '|สมุทรปราการ|', '|ได้|ไหม|ครับ', '|0.01|', '|อายุ|', '|ถ้า|มี|บัญชี|', '|ไป|เลย|', '|เอา|', '|แต่|อัน|ที่|ท้อป|อัพ|', '|b|', '|เพื่อ|สะสมแต้ม|', '|ผ่าน|บัตร|', 'โทร|เข้า|', '|gsb|', '|ไม่|ได้รับ|', '|23000|', '|ไม่ต้อง|ไป|ธนาคาร|', '|โมง|', '|อยาก|สอบถาม|ว่า|', '|play|', '|ไม่|ผ่าน|เกณฑ์|', '|เหมือน|มีปัญหา|กด|โอนเงิน|ไป|แล้ว|เงิน|เด้ง|', '|ช|.ม|', '|36|', '|ครั้ง|', '|ปี|', '|ทราบ|เพราะ|พี่|ข้าง|บ้าน|ทัก|มา|บอก|ใน|ไลน์|', '|ครับผม', '|แล้ว|ค่ะ|', '|application|', '|109|', '|netbank|', '|ชาย|คน|หนึ่ง|', '|option|', '|อยากทราบ|ว่า|เพื่อน|ๆ|', '|pass|', 'ขอ|สอบถาม|นะคะ|', '|399|', '|โฉนด|', 'เป็น|ลูกค้า|', '|เรา|ก็|โทร|เข้าไป|อีก|', '|อยู่แล้ว|', '|ไหม|ครับ|', '|มายัง|', '|bk|', '|เห้อ', '|เกาหลี|', '|4000|', 'ผม|สงสัย|ว่า|', 'เข้า|แอป|', '|พ|.ย|', '11|', '|ไม่สามารถ|ทำ|รายการ|ได้|', '|ป|', '|simplicity|', '|268|', '|k-esaving|', '|72|', 'pin|', '45|', '|ไม่ก็|', '|ต้อง|มี|', '|ยากเย็น|', '|call_center|', '|12.00|', '|ดี|ค่ะ|', '|ปรากฏ|', '|10.28|', '|ไม่ได้|สักที|', '|สะดวกมาก|', '|แต่|ยอดเงิน|ไม่|เข้า|', '|อยาก|สอบถาม|เพื่อน|ๆ|', '|to|', '|อะไร|วะ|เนี่ย|', '|ใช้ไม่ได้|', '|61|', '|ถ้า|ส่ง|บัตร|มาแล้ว|ยัง|ใช้ไม่ได้|ใช่ไหม|ครับ|ถ้า|เชื่อม|กับ|แอป|', '20|', 'สอบถาม|ด้วย|ครับ|', '|แล้ว|ครับ', '|สำเนา|บัตร|', '|ได้รับ|', '|grabpay|', '|ถ', '|แต่|หักเงิน|จาก|บัญชี|', '|เลว|', '|airways|', '|มี|ใคร|พอ|ทราบ|บ้าง|ไหม|คะ|', '|250|', '|หมายความว่า|', '|มือถือ|', '|ธนาคาร|ล่ม|', '|-|31|', '|ไม่|', '|ขอบคุณ|ค่ะ|', '|เอง', '|ซึ่ง|', '|11100|', '|แป๊บเดียว|ได้|เงิน', '|เจ้าหน้าที่|บอก|ได้|สิ|ท|ธ|์|แล้ว|ค่ะ', '|สามารถ|เปลี่ยน|', '|ชั่วโมง|แล้ว|', '|5000', '|ของ|กรุงเทพ|', '|ใช่|ค่ะ|', '|ได้|ไหม|ค่ะ|', '|ดอกเบี้ย|', '|เรื่อง|', '|ซื้อ|หวย|', 'paotang|', '|เงินเข้า|', '|รบกวน|ด้วย|ครับ', 'สมัคร|', 'แม่|ง|', 'ผม|มี|', '|รองรับ|', '|อาทิตย์|', '|มัน|ขึ้น|แบบนี้|', '|โมง|เช้า|', '|apple|', '|ระบบ|แจ้ง|ว่า|', '|สอบถาม|หน่อย|ค่ะ|', 'scbplanet|', '|ใบ|ของ|kbank|ครับ|', '|ละ|', '|6000|', '|มาร|', '|โอน|เข้าบัญชี|', '|ได้|หรือไม่|ครับ|', '|ไป|อยู่|ใน|', 'คำถาม|ที่', '|เรา|เปลี่ยน|จาก|', '|แจ้ง|ว่า|ระบบ|การ|รับเงิน|ทาง|', '|ของ|bbl|', '|refund|', '|สมัคร|บัตรเครดิต|', '|scbeasy|', '|ktb', 'คือว่า|ผม|สั่งซื้อ|', '|ทุกคน|', '|จะ|บ้า|ตาย', '|55|', '|ควย|', '|2019|', 'แล้ว|', '|เลิก|เบื่อ|', '|scb_mlive|', '|รอบ|ที่', '|ของ|ธนาคารเพื่อการเกษตรและสหกรณ์การเกษตร|', '|backup|', '|ฮือ', '|ไม่มี|สลิป|', '|ก็ได้|คะแนน|', '|--', '|ปรากฏ|ว่า|', '|แล้ว|', '|scb_mobile|', '|cr|.|', '|mebytmb|', '|ใช่ไหม|คะ', '|ฮือ|', '|ไร|งี้|', '|7|-|11|', '|เรา|จะ|ไม่|ทิ้ง|กัน|', '|ธนาคาร|ก็|ปิด|ทำการ|แล้ว|', 'เรา|ชนะ|', '|ได้|ลด|', '|bigc|', '|ตาม|หัวข้อ|เลย|ค่ะ|', '|แสน', '|เลย|นะคะ|', '|ใช้|ของ|', '|ฉะนั้น|', '|ร้องไห้|', '|edition|', '|ไม่ได้|นับจำนวน|ครั้ง|ตาม|ลูกค้า|แต่ละคน|โอน|', '|citi_ready|', '|ทุ่ม|ของ|มึง|เนี่ย|เหมือนกัน|เลย|จ๊ะ|', 'เอ|', '|เหลือ|แต่|', '|อีก|', '|k-express|', '|ทุ่ม|ครึ่ง|', '|apps|', '|จ่าย|ไป|', '|770|', '|แล้ว|นะ|', '|70000|', '|kept|', '|search|', '|.|co|.|th|', '|หุ้น|ไทย|', '|เงิน|ใน|', '|เสียดาย|', '|หรือ|ต้อง|', '|easy|', '|เส้า', '|ล่ม|หรือเปล่า|ครับ|', '|mpass|', '|หลัก|', '|เงินงวด|', '|ใดๆ|', '|ผ่าน|มา|เกือบ|', '|จบ', '|work|', '|84|', '|มา|ที่|เบอร์|', '|1200|', 'ประกัน|', 'เป็น|เหมือนกัน|ค่ะ|', '|รอบ|', '|ssf|', '|ครั้งละ|', '|8|-|9|', '|จำนวนเงิน|', '|ค|ห|.|', '|ๆ|', '|กรุงไทย|ล่ม|', '|3|bb|', '|ทั้ง|เรา|', 'เพื่อน|ๆ|', '|16|', '|แต่|ทาง|ต้นทาง|', 'แง|', '|yen|', '|เงิน|ตั้ง|', 'มึง|', '|1.3|', '10|263|', '|ต้อง|ยืนยัน|', '|มา|ครับ|', '|บาท|เอง|', '|product|', '|กู้ร่วม|ได้|', '|ของ|tmb|', '|เพิ่มเติม|', '|vs|', '|อิอิ|', '|งง', 'kplus|', '|อัปเดต|', 'ทำไม|แอป|', '|banking|', '|มาสเตอร์|การ์ด|', '|ขั้นต่ำ|เปิด|พอร์ต|ห้า|แสน|บาท|', '|คนละ|ครึ่ง|เฟส|', 'สอบถาม|ธนาคาร|', '|27000|', '|เงิน|ไม่|เข้า|ครับ|', '|201|', '|paywave|', '|iphone|', 'อี|สัส|', '|หน่อย|ค่ะ|', '|ประทับใจ|', '|เซ็ง|มาก|', '|ต่อ|ปี', '|ฉัน|', '|ครั้ง|แล้ว|', '|ชาติหน้า|คะ|', '|แล้ว|ทาง|', '|สาขา|พระนคร|คีรี|', '|หลัง|ๆ|', '|ล่ม|เก่ง|', '|ได้|ข้อมูล|ปั๊บ|', 'เติมเงิน|', '|ยัง|ไม่|เข้า|', '|password|', '|เรา|ไม่|ทิ้ง|กัน', '|c|', '|ไม่มี|ครับ|', '|ที|', '|กรณี|', '|ช้า|มาก|', 'โอนเงิน|จาก|ธนาคาร|', '|ที่|เป็น|', '|ขออภัย|ค่ะ|', '|รอ|นาน|ที่สุด|คือ|', '|ไฟแนนซ์|ไทยพาณิชย์|โทร|มา|ทวง|', '|ขอบคุณ|ล่วงหน้า|นะคะ|', '|หักเงิน|อัตโนมัติ|', '|ของ|วัน|ที่', '|เงินฝาก|', '|สินเชื่อ|เพิ่ม|ได้|', '|2|-|3|', '|ปี|ที่ผ่านมา|', '|oil|', '|ตัว|ไหน|', '|ผิด|', '|tt|', 'ทำ|', '|cpall|', '|โอนเงิน|ผิด|บัญชี|', '|two|', '|ตอนนี้|ใช้|', '|ช่วย|ตอบ|หน่อย|ครับ', '|เรา|สนใจ|และ|อยาก|สอบถาม|ข้อมูล|', '|วันนี้|วัน|ที่', '|ของ|บัญชีธนาคาร|นิติบุคคล|ที่|ปิด|ไป|แล้ว|ต้อง|ทำ|อย่างไรบ้าง|คะ|', '|กว่า|ๆ|', '|70|', '|2600|', '|40|', '|generali|', '|verify|', '|เลย|โทร|ไป|ถาม|', '|5|-|10|', '|6.6|', '|ป|ล|', '|เอ่อ|', '|ของ|ธนาคารกรุงไทย|คือ|แย่มาก|', '|เดบิต|', '|ขอ|เอกสาร|เพิ่ม|', '|ยัง|ไม่มีใคร|ติดต่อ|กลับมา|', '|หงุดหงิด|', '|แต่|ไม่|เข้า|', '|uchoose|', '|ช่วง|', '|support|', '|ๆ|ค่ะ|', '|ktb|กรุงไทย|', '|ที่|', '|ของ|gsb|แต่|ก็|ไม่มีใคร|รับ|เลย|พนักงาน|ติด|สาย|ทุก|คู่สาย|เป็น|ชั่วโมง|เลย|', '|2', '|ให้|ความ|รู้สึกแย่|จัง', '|ก็|ไม่มี|', '|ratsaenmueang|', '|netflix|', 'โอนเงิน|จาก|', '|กด|ฟรี|ทุก|ตู้|', '|failed|', '|ระหว่าง|', '|320|', '|แก้ไขปัญหา|ให้|เสร็จ|ภายใน|', '|มีปัญหา|', '|fund|', 'ผม|ใช้|', '|ติดต่อ|ธนาคาร|', '|เหมือนกัน|ค่ะ|', '|จุก|ๆ|', '|สินเชื่อรถยนต์|', '|คิว|', '|สงสัย|', 'เติมเงิน|ผ่าน|แอป|', '|ธนาคาร|แล้ว|', '|wechat|', '|ธนาคารกรุงไทย', '|หนี้|', '|เงินเข้า|ปกติ|', '|ไม่|ถึง|', '|ใช้จ่าย|', '|dolfin|', '|ใบ|ค่ะ|', '|ของ|ประเทศ|', '|kkp|', '|confirm|', '|จะ|ไม่|ปรับ|สลิป|จิงอ่อส|ลิบ|เอ้|ม|แบงก์|กิ้ง|คือ|ไป|พัก|', '|ยัง|เข้า|ไม่ได้|', '|ฮะ|', '|แจ้ง|', '|ก่อนหน้านี้|', '|rejected|', '|หุ้น|', '|ปกติ|ที่|ถอน|คือ|', '|tmb_absolute|', 'ช่วงนี้|', '1555|', '|2562|', '|k-esavings|', '2|8|', '|ถาม|พนักงาน|ที่|สาขา|บอก|ว่า|ใช้ได้|', 'ktb|', '|ขอบคุณ|มาก|ค่ะ|', '|เบอร์|โทรศัพท์|', '|เปิด|ๆ|', '|10.32|', '|ndid|', '|tg|', '|ไป|ครับ|', '|ล่ม|', '|เถอะ|', '|nzd|', '|อายัด|', '|แต่|ไม่ใช่|บัญชี|หลัก|', '|ข้าราชการ|', '|125|', '|139|', '|ส่วน|พวก|', '|เช่น|', '|ems|', '|สาย|', '|อัพ|', '|ทำได้|', '|แต่|เงิน|ไม่|ออก|', 'kept|', '|ขอบคุณ|ค่ะ', '|thanachart|', '|150000|', '|เซ็ง|มาก', '|adobe|', 'เมื่อ|เวลา|', '|แบบนี้|', '|ไป|ตอน|', '|รักษา|', 'โอนเงิน|จาก|kbank|', '|ตี|', 'ได้|', '|google|', '|เป๊ก|ผลิต|โชค', '|สาย|ไม่ว่าง|ตลอด|เลย|', 'มี|', '|ก็|สมัคร|', '|ไว้|', 'อยู่ดีๆ|', '|ไว้|กับ|', 'app|', '|ถ้า|เกิน|', '|บอก|อี|กว่า|', '|โทร|หา|', '|ต้อง|ติดต่อ|', '1.|', '|2000|', '|ก็|เป็น|', '|app|', '|เลข|บัตรประชาชน|', '|เห็น|', '|สลาก|ธนาคารเพื่อการเกษตรและสหกรณ์การเกษตร|', '|bitcoin|', '|ช่วงนี้|', '|aliexpress|', '|2561|', '|ขีด|', 'scb_thailand|', '|เสียไป|', '|ผ่อน|กับ|', '|เดือน|แล้ว|ค่ะ|', '13|', '|สัญญา|', '|atmdebit|', '|default|', '|หลาย|รอบ|มาก|', '|ai|', 'ปิดบัญชี|', 'ตู้', '|ถ้า|เป็น|', '|ผม|เปิดบัญชี|ตั้งแต่|วัน|ที่', '|platinum|', '|520|', '|ปะ|', '|แสน|ต่อ|เดือน|', '|วัน|ถัดไป|', '|อีกแล้ว|', '|กันยายน|', '|มี|การ|เรียกเก็บ|ค่าธรรมเนียมรายปี|', '|สแกน|หน้า|', '|ช่วง|เดือน|', '|t|1|', '|ผ่อน|เดือน|ละ|', 'ตาม|หัวข้อ|เลย|', 'ขอ|สอบถาม|หน่อย|ค่ะ|', 'ใน|แอป|', '|49|', '|220|', '|ล่ม|บ่อย|มาก|', '|แต่|เงิน|หาย|', '|ทำไม|เงิน|ไม่|เข้า|', '|1.|ktc|', '|500|-|600|', '|ล่ม|หมด|', '|ล|ฯ|', '|ibank|', '|tisco|', '|credit|', '|โค|วิค|', '|เติม|จาก|', '|รบกวน|ตรวจสอบ|ให้|ด้วย|ครับ|ฝ', '|pttep|', '|12|', '|โคตร|กาก', '|ทำไง|ดี|', '|ทุกๆ|', '|post|', '|cashback|', '|แต่|ไม่|เข้า|บัช|ชี|', '|ลอง|', '|ธนาคารไทยพาณิชย์|', '|อ|ห', '|อ|ห|.', '|เงิน|ไม่|เข้า|ค่ะ|', '|ราคา|บ้าน|', '|กว่า|', '|ลอง|ดูๆ|', '|ไว้|ก่อน|', '|เงินเดือน|', '|you|', '|payment|', '|kfc|', '|เข้า|ทุกเดือน|ไม่ค่อย|มีเงิน|นิ่ง|ๆ|', '|browser|', '|จ่าย|', '|เหรียญ|', '|ตู้|', '|13|', '|มี|แค่|', '|ขอให้|', '|bot|', '|ซื้อได้|จนถึง|', '|เพราะ|จริงๆ|', '|แค่|', '|ด้วย', '|อี|ซี่|', '|e-savings|', '|pttor|', '|3.00|', '|ก.|ค|', '|tt', '|สมัคร|ผ่าน|', '|02|-|28515|', '|starbuck|', '|nikecom|', '|kbank_live|', '|74|', '|5|-|6|', '|จุด|', '|เมื่อ|', '|โทร|', '|ว่า|จะ|ไม่|สมัคร|อีกต่อไป|ละ|', '|ผ่อน|ตก|ล้าน|ละ|', '|save|', '|อย่างเดียว|', '|banking|.|', '|date|', 'คือ|แบบ|', '|3|', '|เดือน', '|ชาว|พันทิป|', '|ใบ|', '|23.48|', '|limited|', '|พอ|กุ|ลบ|โลด|ใหม่|', 'เติมเงิน|จาก|', '|mou|', '|อยู่|ๆ|', '|มี|แอ|ฟ|', '|citibank|', '|แต่|ยอดเงิน|ไม่|เข้าบัญชี|ปลายทาง|', 'ใช่|ค่ะ|', '|วอ|ล|เลต|', '|ltf|', '|เบอร์|แปลก|', '|coin|', '|กด|ไป|', '|หนี้บัตรเครดิต|', '|2.49|', '|scb_thailand|', '|ข้อมูล|บัญชี|หาย|ใคร|เป็น|บ้าง|ครับ|', '|ไม่มีเงิน|แล้ว|', '|นั้น', '|ได้|วงเงินรวม|', '|ธนาคาร|ต้นทาง|ของ|เคส|เรา|', '|ktef|', '|กบข.|', '|mastercard|', '|เห็น|บาง|ธนาคาร|ไม่ต้อง|ใช้|แสตมป์|ภาษีอากร|', '|วันนี้|', '|ติดต่อ|ผ่าน|', '|บาท|แล้ว|', 'tao|', '|รบกวน|ขอคำแนะนำ|ด้วย|ครับ|', '|ดู|ครับ|', '|10.30|', '|นี่|คือ|', '|32|', '|เปิดบัญชี|ใหม่|', '|ใหม่ๆ|', '|retention|', '|ของ|ธนาคาร|', '|02|', '|ok|', '|กดเงิน|ไม่|ใช้|บัตร|', 'บัตร|หัว|', '|แต่|เงิน|ไม่มี|เข้าบัญชี|', '|แจ้งเตือน|เงินเข้า|ไม่มี|สัก|ข้อความ|เลย|ค่ะ|', '|contactless|', '|express|', '|เครื่อง|', '|จะ|ร้องไห้', '|และ|ไม่สามารถ|', '|ต่าง|สาขา|', '|โอนเงิน|', '|prestige|', '|ซึ่ง|ทาง|', '|รึ|', '|trade|', '|เสียเวลา|มาก|', 'บัตรเดบิต|', '|เขตพระราม2|', '|ค่า|', '|ระบบ|', '|ไม่มี|บัตร|', '|เหมือนกัน|', '|เลือก|ถอนเงิน|ไม่|ใช้|บัตร|', '|nagoya|', '|จริงๆ|', '|ต|ป|ท|', '|แน่นอน', '|ก่อน|', '|350|'}\n"
          ]
        }
      ]
    },
    {
      "cell_type": "code",
      "source": [
        "#Turn Series into lists\n",
        "train_docs = train['Text_ws_local'].tolist()\n",
        "test_docs = test['Text_ws_local'].tolist()"
      ],
      "metadata": {
        "id": "IqgqeKFll7ti"
      },
      "execution_count": 19,
      "outputs": []
    },
    {
      "cell_type": "code",
      "source": [
        "from keras.preprocessing.text import Tokenizer\n",
        "from keras_preprocessing.sequence import pad_sequences\n",
        "\n",
        "tokenizer = Tokenizer()\n",
        "#one hot-enconding for the text like > https://stackoverflow.com/questions/69026891/what-is-keras-tokenizer-fit-on-texts-doing\n",
        "tokenizer.fit_on_texts(train_docs)\n",
        "encoded_docs = tokenizer.texts_to_sequences(train_docs)"
      ],
      "metadata": {
        "id": "A7Hp-D9ijQgZ"
      },
      "execution_count": 20,
      "outputs": []
    },
    {
      "cell_type": "code",
      "source": [
        "#Find the most max lengths of word in verbatims from both train and test\n",
        "max_length_train = max([len(s.split()) for s in train_docs])\n",
        "max_length_test  = max([len(s.split()) for s in test_docs])\n",
        "max_length = max([max_length_train, max_length_test])\n",
        "print(\"Max Length of Words: \", max_length)\n",
        "\n",
        "#Padding in order to equalize some verbatims that do not contain the same length of the max length verbatim\n",
        "Xtrain = pad_sequences(encoded_docs, maxlen=max_length, padding='post')\n",
        "#define the labels\n",
        "ytrain = np.array(train['Human_CategoryID'].tolist())"
      ],
      "metadata": {
        "id": "R7JbQ0qZmf0D",
        "colab": {
          "base_uri": "https://localhost:8080/"
        },
        "outputId": "9792e3dc-9dbe-4005-ee23-95c594c49271"
      },
      "execution_count": 21,
      "outputs": [
        {
          "output_type": "stream",
          "name": "stdout",
          "text": [
            "Max Length of Words:  66\n"
          ]
        }
      ]
    },
    {
      "cell_type": "code",
      "source": [
        "#Do the same for the test set\n",
        "encoded_docs_test = tokenizer.texts_to_sequences(test_docs)\n",
        "\n",
        "Xtest = pad_sequences(encoded_docs_test, maxlen=max_length)\n",
        "ytest = np.array(test['Human_CategoryID'].tolist())"
      ],
      "metadata": {
        "id": "oHTspdkypLeF"
      },
      "execution_count": 22,
      "outputs": []
    },
    {
      "cell_type": "code",
      "source": [
        "#Count unique classes\n",
        "print(train['Human_CategoryID'].nunique(), test['Human_CategoryID'].nunique())"
      ],
      "metadata": {
        "colab": {
          "base_uri": "https://localhost:8080/"
        },
        "id": "ILLDKYp3MX65",
        "outputId": "8df179c8-a759-49fb-b68b-f139ffc7c20b"
      },
      "execution_count": 23,
      "outputs": [
        {
          "output_type": "stream",
          "name": "stdout",
          "text": [
            "13 12\n"
          ]
        }
      ]
    },
    {
      "cell_type": "code",
      "source": [
        "#Count unique classes\n",
        "num_classes = max(train['Human_CategoryID'].nunique(), test['Human_CategoryID'].nunique())\n",
        "print(num_classes)"
      ],
      "metadata": {
        "colab": {
          "base_uri": "https://localhost:8080/"
        },
        "id": "VQcD2gdpNwkg",
        "outputId": "2ff49454-06c8-4961-9209-69e5a9d91b66"
      },
      "execution_count": 24,
      "outputs": [
        {
          "output_type": "stream",
          "name": "stdout",
          "text": [
            "13\n"
          ]
        }
      ]
    },
    {
      "cell_type": "code",
      "source": [
        "from tensorflow.keras.utils import to_categorical\n",
        "\n",
        "#Multi class problems need one-hot encoding on y\n",
        "#why - 1 on ytrain and ytest? can follow the linke below\n",
        "#https://stackoverflow.com/questions/56204731/the-method-np-utils-to-categorical-give-me-an-error/59002957#59002957\n",
        "ytrain =  to_categorical(ytrain-1, num_classes=num_classes)\n",
        "ytest = to_categorical(ytest-1, num_classes=num_classes)"
      ],
      "metadata": {
        "id": "BWTwtb6tLUBE"
      },
      "execution_count": 25,
      "outputs": []
    },
    {
      "cell_type": "code",
      "source": [
        "vocab_size = len(tokenizer.word_index)+1"
      ],
      "metadata": {
        "id": "lvFEpT6zp8YY"
      },
      "execution_count": 26,
      "outputs": []
    },
    {
      "cell_type": "markdown",
      "source": [
        "#model"
      ],
      "metadata": {
        "id": "i7bgt_mSnqCc"
      }
    },
    {
      "cell_type": "markdown",
      "source": [
        "##EL100 BILSTM128 M SSA F D13: 59\n",
        "inspiration: \n",
        "\n",
        "https://datascience.stackexchange.com/questions/89884/the-use-of-keras-self-attention-module"
      ],
      "metadata": {
        "id": "oRUyWi19DakB"
      }
    },
    {
      "cell_type": "code",
      "source": [
        "import tensorflow as tf\n",
        "\n",
        "from sklearn.utils.class_weight import compute_class_weight\n",
        "\n",
        "from tensorflow.keras import Input\n",
        "from keras.models import Sequential, Model\n",
        "from keras_self_attention import SeqSelfAttention\n",
        "from keras.layers.pooling import GlobalMaxPooling1D, AveragePooling1D, GlobalAveragePooling1D\n",
        "from tensorflow.keras.layers import Dense, Dropout,Bidirectional,Masking,LSTM, Embedding, Flatten, concatenate, Conv1D, MultiHeadAttention"
      ],
      "metadata": {
        "id": "6sAXm_1_DakB"
      },
      "execution_count": 153,
      "outputs": []
    },
    {
      "cell_type": "code",
      "source": [
        "model = Sequential()\n",
        "\n",
        "model.add(Embedding(vocab_size, 100, input_length=max_length, trainable=True))\n",
        "model.add(Bidirectional(LSTM(units=256, return_sequences=True, dropout=0.5, recurrent_dropout=0.7)))\n",
        "model.add(Masking(mask_value=0.0)) #msdk sgyrt LSTM bettering the results\n",
        "model.add(SeqSelfAttention(attention_activation='sigmoid'))\n",
        "model.add(Flatten())\n",
        "model.add(Dense(num_classes, activation='softmax'))\n",
        "model.summary()"
      ],
      "metadata": {
        "colab": {
          "base_uri": "https://localhost:8080/"
        },
        "outputId": "cd3718f3-80fb-42df-b839-1ebf691b04de",
        "id": "Ol_8ErTvDakC"
      },
      "execution_count": 154,
      "outputs": [
        {
          "output_type": "stream",
          "name": "stdout",
          "text": [
            "Model: \"sequential_32\"\n",
            "_________________________________________________________________\n",
            " Layer (type)                Output Shape              Param #   \n",
            "=================================================================\n",
            " embedding_29 (Embedding)    (None, 66, 100)           1260900   \n",
            "                                                                 \n",
            " bidirectional_28 (Bidirecti  (None, 66, 256)          234496    \n",
            " onal)                                                           \n",
            "                                                                 \n",
            " masking (Masking)           (None, 66, 256)           0         \n",
            "                                                                 \n",
            " seq_self_attention_27 (SeqS  (None, 66, 256)          16449     \n",
            " elfAttention)                                                   \n",
            "                                                                 \n",
            " flatten_16 (Flatten)        (None, 16896)             0         \n",
            "                                                                 \n",
            " dense_31 (Dense)            (None, 13)                219661    \n",
            "                                                                 \n",
            "=================================================================\n",
            "Total params: 1,731,506\n",
            "Trainable params: 1,731,506\n",
            "Non-trainable params: 0\n",
            "_________________________________________________________________\n"
          ]
        }
      ]
    },
    {
      "cell_type": "code",
      "source": [
        "from tensorflow.keras.callbacks import EarlyStopping\n",
        "\n",
        "#put early stopping\n",
        "early_stopping = EarlyStopping(monitor='val_loss', patience=1, mode='min')\n",
        "\n",
        "#Your choices of activation='softmax' in the last layer and compile choice of loss='categorical_crossentropy' \n",
        "#are good for a model to predict multiple mutually-exclusive classes.\n",
        "\n",
        "model.compile(loss='categorical_crossentropy',\n",
        "              optimizer='adam', \n",
        "              metrics=['acc'],)"
      ],
      "metadata": {
        "id": "P-7Wc9jZDakC"
      },
      "execution_count": 155,
      "outputs": []
    },
    {
      "cell_type": "code",
      "source": [
        "#when using class weights, it reduced acc significantly.\n",
        "\n",
        "history = model.fit(Xtrain, ytrain, \n",
        "                    epochs=10, batch_size=64, \n",
        "                    validation_split=0.2,\n",
        "                    callbacks=[early_stopping],)"
      ],
      "metadata": {
        "colab": {
          "base_uri": "https://localhost:8080/"
        },
        "outputId": "f2feabbe-cce0-4d69-b8a7-41b0b5e30f79",
        "id": "EdWl5flrDakC"
      },
      "execution_count": 156,
      "outputs": [
        {
          "output_type": "stream",
          "name": "stdout",
          "text": [
            "Epoch 1/10\n",
            "152/152 [==============================] - 70s 412ms/step - loss: 1.8045 - acc: 0.3900 - val_loss: 1.4003 - val_acc: 0.5391\n",
            "Epoch 2/10\n",
            "152/152 [==============================] - 61s 401ms/step - loss: 1.2098 - acc: 0.6142 - val_loss: 1.2888 - val_acc: 0.5872\n",
            "Epoch 3/10\n",
            "152/152 [==============================] - 58s 381ms/step - loss: 0.8921 - acc: 0.7129 - val_loss: 1.2460 - val_acc: 0.6177\n",
            "Epoch 4/10\n",
            "152/152 [==============================] - 58s 380ms/step - loss: 0.6469 - acc: 0.7908 - val_loss: 1.3927 - val_acc: 0.5922\n"
          ]
        }
      ]
    },
    {
      "cell_type": "code",
      "source": [
        "loss, acc = model.evaluate(Xtest, ytest)\n",
        "print('Test Accuracy: %f' % (acc*100))"
      ],
      "metadata": {
        "colab": {
          "base_uri": "https://localhost:8080/"
        },
        "outputId": "bc71f700-7b94-4a7c-9a05-dfad1978280a",
        "id": "Zb2bllBxDakC"
      },
      "execution_count": 157,
      "outputs": [
        {
          "output_type": "stream",
          "name": "stdout",
          "text": [
            "13/13 [==============================] - 1s 58ms/step - loss: 1.3368 - acc: 0.5938\n",
            "Test Accuracy: 59.383035\n"
          ]
        }
      ]
    },
    {
      "cell_type": "markdown",
      "source": [
        "##EL100M0 BILSTM128 SSA AP1D F D13: 60"
      ],
      "metadata": {
        "id": "ps9DoElf6-hE"
      }
    },
    {
      "cell_type": "code",
      "source": [
        "import tensorflow as tf\n",
        "\n",
        "from sklearn.utils.class_weight import compute_class_weight\n",
        "\n",
        "from tensorflow.keras import Input\n",
        "from keras.models import Sequential, Model\n",
        "from keras_self_attention import SeqSelfAttention\n",
        "from keras.layers.pooling import GlobalMaxPooling1D, AveragePooling1D, GlobalAveragePooling1D\n",
        "from tensorflow.keras.layers import Dense, Dropout,Bidirectional,Masking,LSTM, Embedding, Flatten, concatenate, Conv1D"
      ],
      "metadata": {
        "id": "9AxRrH8U6-hO"
      },
      "execution_count": 163,
      "outputs": []
    },
    {
      "cell_type": "code",
      "source": [
        "model = Sequential()\n",
        "model.add(Embedding(vocab_size, 100, input_length=max_length, trainable=True, mask_zero=True))\n",
        "model.add(Bidirectional(LSTM(units=128, return_sequences=True, dropout=0.5, recurrent_dropout=0.7)))\n",
        "model.add(SeqSelfAttention(attention_activation='sigmoid'))\n",
        "model.add(AveragePooling1D()) \n",
        "\n",
        "### w/o CNN1D\n",
        "#GMP1D = 24.9\n",
        "#GAP1D = 31.1\n",
        "#AP1D = 55\n",
        "\n",
        "### w/o CNN1D, with mask_zero = True\n",
        "#AP1D = 60\n",
        "\n",
        "### with CNN1D(512, 5)\n",
        "#AP1D = 53\n",
        "\n",
        "model.add(Flatten())\n",
        "model.add(Dense(num_classes, activation='softmax'))\n",
        "model.summary()"
      ],
      "metadata": {
        "colab": {
          "base_uri": "https://localhost:8080/"
        },
        "outputId": "a9424bb1-7ac1-42dd-ee30-6164b6c67de1",
        "id": "nM7qujZp6-hP"
      },
      "execution_count": 164,
      "outputs": [
        {
          "output_type": "stream",
          "name": "stdout",
          "text": [
            "Model: \"sequential_34\"\n",
            "_________________________________________________________________\n",
            " Layer (type)                Output Shape              Param #   \n",
            "=================================================================\n",
            " embedding_31 (Embedding)    (None, 66, 100)           1260900   \n",
            "                                                                 \n",
            " bidirectional_30 (Bidirecti  (None, 66, 256)          234496    \n",
            " onal)                                                           \n",
            "                                                                 \n",
            " seq_self_attention_29 (SeqS  (None, 66, 256)          16449     \n",
            " elfAttention)                                                   \n",
            "                                                                 \n",
            " average_pooling1d_2 (Averag  (None, 33, 256)          0         \n",
            " ePooling1D)                                                     \n",
            "                                                                 \n",
            " flatten_18 (Flatten)        (None, 8448)              0         \n",
            "                                                                 \n",
            " dense_33 (Dense)            (None, 13)                109837    \n",
            "                                                                 \n",
            "=================================================================\n",
            "Total params: 1,621,682\n",
            "Trainable params: 1,621,682\n",
            "Non-trainable params: 0\n",
            "_________________________________________________________________\n"
          ]
        }
      ]
    },
    {
      "cell_type": "code",
      "source": [
        "from tensorflow.keras.callbacks import EarlyStopping\n",
        "\n",
        "#put early stopping\n",
        "early_stopping = EarlyStopping(monitor='val_loss', patience=1, mode='min')\n",
        "\n",
        "#Your choices of activation='softmax' in the last layer and compile choice of loss='categorical_crossentropy' \n",
        "#are good for a model to predict multiple mutually-exclusive classes.\n",
        "\n",
        "model.compile(loss='categorical_crossentropy',\n",
        "              optimizer='adam', \n",
        "              metrics=['acc'],)"
      ],
      "metadata": {
        "id": "pnKT8YSJ6-hP"
      },
      "execution_count": 165,
      "outputs": []
    },
    {
      "cell_type": "code",
      "source": [
        "#when using class weights, it reduced acc significantly.\n",
        "\n",
        "history = model.fit(Xtrain, ytrain, \n",
        "                    epochs=10, batch_size=64, \n",
        "                    validation_split=0.2,\n",
        "                    callbacks=[early_stopping],)"
      ],
      "metadata": {
        "colab": {
          "base_uri": "https://localhost:8080/"
        },
        "outputId": "f8b1e158-629e-4c60-b753-e72c40a8aafe",
        "id": "jxkYUwJb6-hP"
      },
      "execution_count": 166,
      "outputs": [
        {
          "output_type": "stream",
          "name": "stdout",
          "text": [
            "Epoch 1/10\n",
            "152/152 [==============================] - 80s 473ms/step - loss: 1.6510 - acc: 0.4555 - val_loss: 1.2627 - val_acc: 0.5778\n",
            "Epoch 2/10\n",
            "152/152 [==============================] - 70s 460ms/step - loss: 1.0516 - acc: 0.6532 - val_loss: 1.1662 - val_acc: 0.6103\n",
            "Epoch 3/10\n",
            "152/152 [==============================] - 70s 463ms/step - loss: 0.7455 - acc: 0.7529 - val_loss: 1.2220 - val_acc: 0.6111\n"
          ]
        }
      ]
    },
    {
      "cell_type": "code",
      "source": [
        "loss, acc = model.evaluate(Xtest, ytest)\n",
        "print('Test Accuracy: %f' % (acc*100))"
      ],
      "metadata": {
        "colab": {
          "base_uri": "https://localhost:8080/"
        },
        "outputId": "932c29f7-4a7c-4d34-f2c8-1f7f5174da69",
        "id": "nTCV0jmO6-hP"
      },
      "execution_count": 167,
      "outputs": [
        {
          "output_type": "stream",
          "name": "stdout",
          "text": [
            "13/13 [==============================] - 1s 69ms/step - loss: 1.2410 - acc: 0.6015\n",
            "Test Accuracy: 60.154241\n"
          ]
        }
      ]
    },
    {
      "cell_type": "markdown",
      "source": [
        "##EL100 BILSTM128 SSA F D13: 61\n",
        "inspiration:\n",
        "\n",
        "https://towardsdatascience.com/nlp-learning-series-part-3-attention-cnn-and-what-not-for-text-classification-4313930ed566\n",
        "\n",
        "+\n",
        "\n",
        " https://medium.com/analytics-vidhya/https-medium-com-understanding-attention-mechanism-natural-language-processing-9744ab6aed6a\n"
      ],
      "metadata": {
        "id": "q65gGjZ-qsrY"
      }
    },
    {
      "cell_type": "code",
      "source": [
        "import tensorflow as tf\n",
        "\n",
        "from sklearn.utils.class_weight import compute_class_weight\n",
        "\n",
        "from tensorflow.keras import Input\n",
        "from keras.models import Sequential, Model\n",
        "from keras_self_attention import SeqSelfAttention\n",
        "from keras.layers.pooling import GlobalMaxPooling1D, AveragePooling1D, GlobalAveragePooling1D\n",
        "from tensorflow.keras.layers import Dense, Dropout,Bidirectional,Masking,LSTM, Embedding, Flatten, concatenate"
      ],
      "metadata": {
        "id": "AlRAmokkrsC9"
      },
      "execution_count": 158,
      "outputs": []
    },
    {
      "cell_type": "code",
      "source": [
        "model = Sequential()\n",
        "model.add(Embedding(vocab_size, 1000, input_length=max_length, trainable=True))\n",
        "model.add(Bidirectional(LSTM(units=256, return_sequences=True, dropout=0.5, recurrent_dropout=0.7)))\n",
        "\n",
        "## Embedding size = 100\n",
        "#BiLSTM128 = 57\n",
        "#BiLSTM256 = 60\n",
        "#BiLSTM512 = 60\n",
        "\n",
        "## Embedding size = 1000\n",
        "#BiLSTM256 = 61\n",
        "\n",
        "model.add(SeqSelfAttention(attention_activation='sigmoid'))\n",
        "model.add(Flatten())\n",
        "model.add(Dense(num_classes, activation='softmax'))\n",
        "model.summary()"
      ],
      "metadata": {
        "colab": {
          "base_uri": "https://localhost:8080/"
        },
        "id": "IQvrxiH7nqy0",
        "outputId": "f69d8df5-0ac4-454c-f3a1-1e8ac4db79a4"
      },
      "execution_count": 159,
      "outputs": [
        {
          "output_type": "stream",
          "name": "stdout",
          "text": [
            "Model: \"sequential_33\"\n",
            "_________________________________________________________________\n",
            " Layer (type)                Output Shape              Param #   \n",
            "=================================================================\n",
            " embedding_30 (Embedding)    (None, 66, 1000)          12609000  \n",
            "                                                                 \n",
            " bidirectional_29 (Bidirecti  (None, 66, 512)          2574336   \n",
            " onal)                                                           \n",
            "                                                                 \n",
            " seq_self_attention_28 (SeqS  (None, 66, 512)          32833     \n",
            " elfAttention)                                                   \n",
            "                                                                 \n",
            " flatten_17 (Flatten)        (None, 33792)             0         \n",
            "                                                                 \n",
            " dense_32 (Dense)            (None, 13)                439309    \n",
            "                                                                 \n",
            "=================================================================\n",
            "Total params: 15,655,478\n",
            "Trainable params: 15,655,478\n",
            "Non-trainable params: 0\n",
            "_________________________________________________________________\n"
          ]
        }
      ]
    },
    {
      "cell_type": "code",
      "source": [
        "from tensorflow.keras.callbacks import EarlyStopping\n",
        "\n",
        "#put early stopping\n",
        "early_stopping = EarlyStopping(monitor='val_loss', patience=2, mode='min')\n",
        "\n",
        "#Your choices of activation='softmax' in the last layer and compile choice of loss='categorical_crossentropy' \n",
        "#are good for a model to predict multiple mutually-exclusive classes.\n",
        "\n",
        "model.compile(loss='categorical_crossentropy',\n",
        "              optimizer='adam', \n",
        "              metrics=['acc'],)"
      ],
      "metadata": {
        "id": "wYW3WevGpbUS"
      },
      "execution_count": 160,
      "outputs": []
    },
    {
      "cell_type": "code",
      "source": [
        "#when using class weights, it reduced acc significantly.\n",
        "\n",
        "history = model.fit(Xtrain, ytrain, \n",
        "                    epochs=10, batch_size=64, \n",
        "                    validation_split=0.2,\n",
        "                    callbacks=[early_stopping],)"
      ],
      "metadata": {
        "colab": {
          "base_uri": "https://localhost:8080/"
        },
        "id": "f8mO9IdUqApD",
        "outputId": "8f91aad4-719c-41f6-d1a6-601f59ac5413"
      },
      "execution_count": 161,
      "outputs": [
        {
          "output_type": "stream",
          "name": "stdout",
          "text": [
            "Epoch 1/10\n",
            "152/152 [==============================] - 199s 1s/step - loss: 1.6045 - acc: 0.4670 - val_loss: 1.2183 - val_acc: 0.6053\n",
            "Epoch 2/10\n",
            "152/152 [==============================] - 186s 1s/step - loss: 0.9325 - acc: 0.6953 - val_loss: 1.1845 - val_acc: 0.6243\n",
            "Epoch 3/10\n",
            "152/152 [==============================] - 186s 1s/step - loss: 0.5289 - acc: 0.8278 - val_loss: 1.3356 - val_acc: 0.6284\n",
            "Epoch 4/10\n",
            "152/152 [==============================] - 187s 1s/step - loss: 0.2935 - acc: 0.9029 - val_loss: 1.6976 - val_acc: 0.6070\n"
          ]
        }
      ]
    },
    {
      "cell_type": "code",
      "source": [
        "loss, acc = model.evaluate(Xtest, ytest)\n",
        "print('Test Accuracy: %f' % (acc*100))"
      ],
      "metadata": {
        "colab": {
          "base_uri": "https://localhost:8080/"
        },
        "id": "-0q-Vx2YqAuY",
        "outputId": "d2cc706c-b998-4e41-e481-e86d0721ce85"
      },
      "execution_count": 162,
      "outputs": [
        {
          "output_type": "stream",
          "name": "stdout",
          "text": [
            "13/13 [==============================] - 3s 199ms/step - loss: 1.7451 - acc: 0.6118\n",
            "Test Accuracy: 61.182517\n"
          ]
        }
      ]
    },
    {
      "cell_type": "markdown",
      "source": [
        "#classification report and confusion matrix"
      ],
      "metadata": {
        "id": "UoRFB9AI6Ry4"
      }
    },
    {
      "cell_type": "code",
      "source": [
        "from tensorflow.keras.utils import plot_model"
      ],
      "metadata": {
        "id": "zj90nuOs7EBx"
      },
      "execution_count": 112,
      "outputs": []
    },
    {
      "cell_type": "code",
      "source": [
        "#prediction\n",
        "y_pred = model.predict(Xtest)\n",
        "\n",
        "#Change one hot answer to be single digit as follows \n",
        "#https://stackoverflow.com/questions/54589669/confusion-matrix-error-classification-metrics-cant-handle-a-mix-of-multilabel\n",
        "\n",
        "rounded_labels_ypred = np.argmax(y_pred, axis=1)\n",
        "rounded_labels_ytest = np.argmax(ytest,axis=1)"
      ],
      "metadata": {
        "id": "ffOdDz646TQb"
      },
      "execution_count": 106,
      "outputs": []
    },
    {
      "cell_type": "code",
      "source": [
        "plot_model(model, to_file='model_plot.png', show_shapes=True, show_layer_names=True)\n",
        "\n",
        "# from google.colab import files\n",
        "# files.download('model_plot.png')"
      ],
      "metadata": {
        "colab": {
          "base_uri": "https://localhost:8080/",
          "height": 644
        },
        "id": "MRWKSFhG6Y2Y",
        "outputId": "0754ad89-d429-4945-f98f-cac46f15a5bf"
      },
      "execution_count": 113,
      "outputs": [
        {
          "output_type": "execute_result",
          "data": {
            "text/plain": [
              "<IPython.core.display.Image object>"
            ],
            "image/png": "[encoded data removed]"
          },
          "metadata": {},
          "execution_count": 113
        }
      ]
    },
    {
      "cell_type": "code",
      "source": [
        "#Find dict of label ids and names.\n",
        "if train['Human_CategoryID'].nunique() < test['Human_CategoryID'].nunique():\n",
        "  print('train_unique_classes')\n",
        "  classes_with_id_dict = {id-1: labels for id, labels in zip(train['Human_CategoryID'], train['Human_Category'])}\n",
        "  print(len(classes_with_id_dict))\n",
        "else:\n",
        "  print('test_unique_classes')\n",
        "  classes_with_id_dict = {id-1: labels for id, labels in zip(test['Human_CategoryID'], test['Human_Category'])}\n",
        "  print(len(classes_with_id_dict))\n",
        "\n",
        "classes_with_id_dict"
      ],
      "metadata": {
        "colab": {
          "base_uri": "https://localhost:8080/"
        },
        "id": "YKCkfmYt6e4l",
        "outputId": "17e05ca9-7aa4-4798-86b6-dc614d6dd719"
      },
      "execution_count": 108,
      "outputs": [
        {
          "output_type": "stream",
          "name": "stdout",
          "text": [
            "test_unique_classes\n",
            "12\n"
          ]
        },
        {
          "output_type": "execute_result",
          "data": {
            "text/plain": [
              "{0: 'Accessibility',\n",
              " 2: 'Company Brand',\n",
              " 3: 'Staff Quality',\n",
              " 4: 'Timing',\n",
              " 5: 'Product and Service, Benefit',\n",
              " 6: 'Product and Service, System',\n",
              " 7: 'Product and Service, Usage and Condition',\n",
              " 8: 'Product and Service, Convenience',\n",
              " 9: 'Product and Service, Variety',\n",
              " 10: 'Product and Service, Decision',\n",
              " 11: 'Security',\n",
              " 12: 'No Category'}"
            ]
          },
          "metadata": {},
          "execution_count": 108
        }
      ]
    },
    {
      "cell_type": "code",
      "execution_count": 109,
      "metadata": {
        "id": "9f07gNQtzdNA",
        "colab": {
          "base_uri": "https://localhost:8080/"
        },
        "outputId": "144d285a-4a59-4be5-b288-d1854c2f24ac"
      },
      "outputs": [
        {
          "output_type": "stream",
          "name": "stdout",
          "text": [
            "test_unique_classes\n",
            "12\n"
          ]
        }
      ],
      "source": [
        "#get an labels array in the conseuctive order based on id number.\n",
        "train_unique_classes = train['Human_CategoryID'].nunique()\n",
        "test_unique_classes = test['Human_CategoryID'].nunique()\n",
        "\n",
        "#find the label total\n",
        "if train['Human_CategoryID'].nunique() > test['Human_CategoryID'].nunique():\n",
        "  print('test_unique_classes')\n",
        "  classes_with_id = test_unique_classes\n",
        "else:\n",
        "  print('train_unique_classes')\n",
        "  classes_with_id = train_unique_classes\n",
        "\n",
        "#convert a dict to an array\n",
        "classes_array = [\"\" for x in range(classes_with_id+1)]\n",
        "\n",
        "for id, label in classes_with_id_dict.items():\n",
        "  classes_array[id] = label\n",
        "\n",
        "#delete empty string for classification report\n",
        "classes_array = [label for label in classes_array if label != \"\"]\n",
        "classes_array\n",
        "print(len(classes_array))"
      ]
    },
    {
      "cell_type": "code",
      "execution_count": 110,
      "metadata": {
        "id": "o-0pRJ0EzdNA",
        "colab": {
          "base_uri": "https://localhost:8080/"
        },
        "outputId": "da57fa3c-0a31-4469-dd14-44a56787b290"
      },
      "outputs": [
        {
          "output_type": "stream",
          "name": "stdout",
          "text": [
            "                                          precision    recall  f1-score   support\n",
            "\n",
            "                           Accessibility       0.75      0.43      0.55         7\n",
            "                           Company Brand       0.11      0.08      0.10        12\n",
            "                           Staff Quality       0.42      0.29      0.34        17\n",
            "                                  Timing       0.69      0.71      0.70        28\n",
            "            Product and Service, Benefit       0.49      0.69      0.57        32\n",
            "             Product and Service, System       0.76      0.79      0.77        84\n",
            "Product and Service, Usage and Condition       0.63      0.57      0.60        92\n",
            "        Product and Service, Convenience       1.00      0.18      0.31        11\n",
            "            Product and Service, Variety       0.25      0.17      0.20        12\n",
            "           Product and Service, Decision       1.00      0.20      0.33        10\n",
            "                                Security       0.00      0.00      0.00         3\n",
            "                             No Category       0.45      0.60      0.52        81\n",
            "\n",
            "                                accuracy                           0.58       389\n",
            "                               macro avg       0.55      0.39      0.42       389\n",
            "                            weighted avg       0.59      0.58      0.56       389\n",
            "\n"
          ]
        }
      ],
      "source": [
        "from sklearn.metrics import classification_report\n",
        "\n",
        "print(classification_report(rounded_labels_ytest, rounded_labels_ypred, target_names=classes_array, zero_division=0))"
      ]
    },
    {
      "cell_type": "code",
      "source": [
        "import seaborn as sns\n",
        "from sklearn.metrics import confusion_matrix\n",
        "import matplotlib.pyplot as plt\n",
        "\n",
        "cf_matrix = confusion_matrix(rounded_labels_ytest, rounded_labels_ypred)\n",
        "\n",
        "fig, ax = plt.subplots(figsize=(10,10))    \n",
        "ax = sns.heatmap(cf_matrix, annot=True, cmap='Blues', ax=ax, fmt=\".1f\")\n",
        "\n",
        "ax.set_title('Seaborn Confusion Matrix with labels\\n\\n');\n",
        "ax.set_xlabel('\\nPredicted Category')\n",
        "ax.set_ylabel('Actual Category ');\n",
        "\n",
        "## Ticket labels - List must be in alphabetical order\n",
        "ax.xaxis.set_ticklabels(classes_array, rotation=90)\n",
        "ax.yaxis.set_ticklabels(classes_array, rotation=0)\n",
        "\n",
        "## Display the visualization of the Confusion Matrix.\n",
        "plt.show()\n",
        "\n",
        "figure = ax.get_figure()    \n",
        "figure.savefig(\"cf_matrix.png\", pad_inches= 12, dpi=400)"
      ],
      "metadata": {
        "id": "AIjQraqozjG4",
        "colab": {
          "base_uri": "https://localhost:8080/",
          "height": 863
        },
        "outputId": "eb5147c9-811b-4e95-d5df-1e8fc9c747c1"
      },
      "execution_count": 111,
      "outputs": [
        {
          "output_type": "display_data",
          "data": {
            "text/plain": [
              "<Figure size 720x720 with 2 Axes>"
            ],
            "image/png": "[encoded data removed]"
          },
          "metadata": {
            "needs_background": "light"
          }
        }
      ]
    }
  ]
}
