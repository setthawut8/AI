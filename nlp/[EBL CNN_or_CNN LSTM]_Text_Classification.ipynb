{
  "nbformat": 4,
  "nbformat_minor": 0,
  "metadata": {
    "colab": {
      "name": "[WELayer + CNN/CNN+LSTM] Banking Data.ipynb",
      "provenance": [],
      "collapsed_sections": [],
      "machine_shape": "hm",
      "toc_visible": true,
      "authorship_tag": "ABX9TyOWwBMyYtLFytVDcZWtw/OE",
      "include_colab_link": true
    },
    "kernelspec": {
      "name": "python3",
      "display_name": "Python 3"
    },
    "language_info": {
      "name": "python"
    },
    "gpuClass": "standard",
    "accelerator": "GPU"
  },
  "cells": [
    {
      "cell_type": "markdown",
      "metadata": {
        "id": "view-in-github",
        "colab_type": "text"
      },
      "source": [
        "<a href=\"https://colab.research.google.com/github/setthawut8/ai/blob/main/%5BWELayer%20CNN_or_CNN%20LSTM%5D%20Banking%20Data.ipynb\" target=\"_parent\"><img src=\"https://colab.research.google.com/assets/colab-badge.svg\" alt=\"Open In Colab\"/></a>"
      ]
    },
    {
      "cell_type": "markdown",
      "source": [
        "#Download Data and Library Installation"
      ],
      "metadata": {
        "id": "DKZejA_uh9kv"
      }
    },
    {
      "cell_type": "code",
      "execution_count": 1,
      "metadata": {
        "colab": {
          "base_uri": "https://localhost:8080/"
        },
        "id": "rY0gVkg8ahbS",
        "outputId": "5906753f-6910-41b1-8a26-4c1f57cd4462"
      },
      "outputs": [
        {
          "output_type": "stream",
          "name": "stdout",
          "text": [
            "/usr/local/lib/python3.7/dist-packages/gdown/cli.py:131: FutureWarning: Option `--id` was deprecated in version 4.3.1 and will be removed in 5.0. You don't need to pass it anymore to use a file ID.\n",
            "  category=FutureWarning,\n",
            "Downloading...\n",
            "From: https://drive.google.com/uc?id=1-avUDygRCGvAiPplmc6MundS_PpnohRv\n",
            "To: /content/preprocessed_v1_socialfsi_single_train_sampling12150_20220701.xlsx\n",
            "100% 3.87M/3.87M [00:00<00:00, 200MB/s]\n",
            "/usr/local/lib/python3.7/dist-packages/gdown/cli.py:131: FutureWarning: Option `--id` was deprecated in version 4.3.1 and will be removed in 5.0. You don't need to pass it anymore to use a file ID.\n",
            "  category=FutureWarning,\n",
            "Downloading...\n",
            "From: https://drive.google.com/uc?id=106OVRPIQQBppganRnCZigxQh6-Zyvqit\n",
            "To: /content/preprocessed_v1_socialfsi_single_test_sampling389_20220701.xlsx\n",
            "100% 141k/141k [00:00<00:00, 77.3MB/s]\n"
          ]
        }
      ],
      "source": [
        "#download data\n",
        "!gdown --id xx\n",
        "!gdown --id xx"
      ]
    },
    {
      "cell_type": "code",
      "source": [
        "#libraby \n",
        "import numpy as np\n",
        "import pandas as pd\n",
        "import seaborn as sns\n",
        "import matplotlib.pyplot as plt"
      ],
      "metadata": {
        "id": "cgMb7j8pbNQj"
      },
      "execution_count": 2,
      "outputs": []
    },
    {
      "cell_type": "code",
      "source": [
        "train = pd.read_excel('/content/preprocessed_v1_socialfsi_single_train_sampling12150_20220701.xlsx')\n",
        "test = pd.read_excel('/content/preprocessed_v1_socialfsi_single_test_sampling389_20220701.xlsx')"
      ],
      "metadata": {
        "id": "ITJldeRSbbc6"
      },
      "execution_count": 3,
      "outputs": []
    },
    {
      "cell_type": "code",
      "source": [
        "train.head(5)"
      ],
      "metadata": {
        "colab": {
          "base_uri": "https://localhost:8080/",
          "height": 0
        },
        "id": "sMuRAAX0b2mv",
        "outputId": "ef16e47c-9041-4ea3-97c3-1f7a08e7a273"
      },
      "execution_count": 4,
      "outputs": [
        {
          "output_type": "execute_result",
          "data": {
            "text/plain": [
              "   Unnamed: 0                                       TagFile_Path  \\\n",
              "0           0  SocialFSI_ZE-KTB-Feb-Apr2022_Sampling2244_2022...   \n",
              "1           1  SocialFSI_v4_0_mutiple_train_sampling8203_2021...   \n",
              "2           2  SocialFSI_ZE-KTB-Feb-Apr2022_Sampling2244_2022...   \n",
              "3           3  SocialFSI_v4_0_mutiple_train_sampling8203_2021...   \n",
              "4           4  SocialFSI_v4_0_mutiple_train_sampling8203_2021...   \n",
              "\n",
              "                                             TagFile SV_CustomerName  \\\n",
              "0  SocialFSI_ZE-KTB-Feb-Apr2022_Sampling1400_2022...  Krungthai_NEXT   \n",
              "1  SocialFSI_TrainDataV4_RetagCLS-12_Sampling53_P...             NaN   \n",
              "2  SocialFSI_ZE-KTB-Feb-Apr2022_Sampling1200_2022...  Krungthai_NEXT   \n",
              "3  SocialFSI_TrainSCB-SocialFilterV2_Sampling2750...             NaN   \n",
              "4  SocialFSI_TrainSCB-SocialFilterV2_Sampling2750...             NaN   \n",
              "\n",
              "                                        Main keyword      Channel SubChannel  \\\n",
              "0  mobile banking+กสิกร,mobile banking+ธนาคารกสิก...  SocialMedia      forum   \n",
              "1                                                NaN  SocialMedia    Twitter   \n",
              "2                                          krungthai  SocialMedia   facebook   \n",
              "3                                                NaN  SocialMedia    Twitter   \n",
              "4                                                NaN  SocialMedia    Twitter   \n",
              "\n",
              "                                 lfdn   verbatim_id     sentence_id  \\\n",
              "0           pantip.com_topic_41249919    Q2207_1549    Q2207_1549_1   \n",
              "1            5fffc6bcb08b583a24679d59  Q202106_5805  Q202106_5805_1   \n",
              "2  10161808181448916_1330115550790924     Q2207_636     Q2207_636_1   \n",
              "3                            27634345   Q202106_961   Q202106_961_1   \n",
              "4                            28297653  Q202106_2021  Q202106_2021_1   \n",
              "\n",
              "                                       Text_original  \\\n",
              "0  สอบถามเรื่องการอายัดบัตรเดบิตของกสิกรค่ะ พอดีว...   \n",
              "1  ปกติจะไม่ชอบlog in ใดๆในคอมคนอื่นหรือสำนักงานใ...   \n",
              "2  Krungthai Care ณ. ตอนนี้ยอดก็ยังไม่เข้าค่ะ ถ้า...   \n",
              "3  @scb_thailand เรียน scb ขอเบอร?ตืดต่อเพราะคุย ...   \n",
              "4  ไอเลิ้บ TMB All Free มาก แต่ช่วยพัฒนาแอพให้สเถ...   \n",
              "\n",
              "                                                Text  \\\n",
              "0  สอบถามเรื่องการอายัดบัตรเดบิตของกสิกรค่ะ พอดีว...   \n",
              "1  ปกติจะไม่ชอบlog in ใดๆในคอมคนอื่นหรือสำนักงานใ...   \n",
              "2  Krungthai Care ณ. ตอนนี้ยอดก็ยังไม่เข้าค่ะ ถ้า...   \n",
              "3  @scb_thailand เรียน scb ขอเบอร?ตืดต่อเพราะคุย ...   \n",
              "4                          ไอเลิ้บ TMB All Free มาก    \n",
              "\n",
              "                             Human_Category  Human_CategoryID Human_Sentiment  \\\n",
              "0  Product and Service, Usage and Condition                 8         neutral   \n",
              "1                                  Security                12         neutral   \n",
              "2               Product and Service, System                 7        negative   \n",
              "3                             Staff Quality                 4        negative   \n",
              "4  Product and Service, Usage and Condition                 8        positive   \n",
              "\n",
              "  Human_SentimentID                                      Text_ws_local  \n",
              "0                 o  สอบถาม|เรื่อง|การ|อายัด|บัตรเดบิต|ของ|kbank|ค่...  \n",
              "1                 o  ปกติ|จะ|ไม่ชอบ| |log| |in| |ใดๆ| |ใน|ค|อม|คนอื...  \n",
              "2                 n  ktb| |care| |ณ|.| |ตอนนี้|ยอด|ก็|ยัง|ไม่|เข้า|...  \n",
              "3                 n  scb_thailand| |เรียน| |scb| |ขอ|เบอร| |ตืด|ต่อ...  \n",
              "4                 p                    ไอ|เลิ้บ| |tmb_all_free| |มาก|   "
            ],
            "text/html": [
              "\n",
              "  <div id=\"df-be97bbc1-1840-49ab-aa0b-6a935132c95e\">\n",
              "    <div class=\"colab-df-container\">\n",
              "      <div>\n",
              "<style scoped>\n",
              "    .dataframe tbody tr th:only-of-type {\n",
              "        vertical-align: middle;\n",
              "    }\n",
              "\n",
              "    .dataframe tbody tr th {\n",
              "        vertical-align: top;\n",
              "    }\n",
              "\n",
              "    .dataframe thead th {\n",
              "        text-align: right;\n",
              "    }\n",
              "</style>\n",
              "<table border=\"1\" class=\"dataframe\">\n",
              "  <thead>\n",
              "    <tr style=\"text-align: right;\">\n",
              "      <th></th>\n",
              "      <th>Unnamed: 0</th>\n",
              "      <th>TagFile_Path</th>\n",
              "      <th>TagFile</th>\n",
              "      <th>SV_CustomerName</th>\n",
              "      <th>Main keyword</th>\n",
              "      <th>Channel</th>\n",
              "      <th>SubChannel</th>\n",
              "      <th>lfdn</th>\n",
              "      <th>verbatim_id</th>\n",
              "      <th>sentence_id</th>\n",
              "      <th>Text_original</th>\n",
              "      <th>Text</th>\n",
              "      <th>Human_Category</th>\n",
              "      <th>Human_CategoryID</th>\n",
              "      <th>Human_Sentiment</th>\n",
              "      <th>Human_SentimentID</th>\n",
              "      <th>Text_ws_local</th>\n",
              "    </tr>\n",
              "  </thead>\n",
              "  <tbody>\n",
              "    <tr>\n",
              "      <th>0</th>\n",
              "      <td>0</td>\n",
              "      <td>SocialFSI_ZE-KTB-Feb-Apr2022_Sampling2244_2022...</td>\n",
              "      <td>SocialFSI_ZE-KTB-Feb-Apr2022_Sampling1400_2022...</td>\n",
              "      <td>Krungthai_NEXT</td>\n",
              "      <td>mobile banking+กสิกร,mobile banking+ธนาคารกสิก...</td>\n",
              "      <td>SocialMedia</td>\n",
              "      <td>forum</td>\n",
              "      <td>pantip.com_topic_41249919</td>\n",
              "      <td>Q2207_1549</td>\n",
              "      <td>Q2207_1549_1</td>\n",
              "      <td>สอบถามเรื่องการอายัดบัตรเดบิตของกสิกรค่ะ พอดีว...</td>\n",
              "      <td>สอบถามเรื่องการอายัดบัตรเดบิตของกสิกรค่ะ พอดีว...</td>\n",
              "      <td>Product and Service, Usage and Condition</td>\n",
              "      <td>8</td>\n",
              "      <td>neutral</td>\n",
              "      <td>o</td>\n",
              "      <td>สอบถาม|เรื่อง|การ|อายัด|บัตรเดบิต|ของ|kbank|ค่...</td>\n",
              "    </tr>\n",
              "    <tr>\n",
              "      <th>1</th>\n",
              "      <td>1</td>\n",
              "      <td>SocialFSI_v4_0_mutiple_train_sampling8203_2021...</td>\n",
              "      <td>SocialFSI_TrainDataV4_RetagCLS-12_Sampling53_P...</td>\n",
              "      <td>NaN</td>\n",
              "      <td>NaN</td>\n",
              "      <td>SocialMedia</td>\n",
              "      <td>Twitter</td>\n",
              "      <td>5fffc6bcb08b583a24679d59</td>\n",
              "      <td>Q202106_5805</td>\n",
              "      <td>Q202106_5805_1</td>\n",
              "      <td>ปกติจะไม่ชอบlog in ใดๆในคอมคนอื่นหรือสำนักงานใ...</td>\n",
              "      <td>ปกติจะไม่ชอบlog in ใดๆในคอมคนอื่นหรือสำนักงานใ...</td>\n",
              "      <td>Security</td>\n",
              "      <td>12</td>\n",
              "      <td>neutral</td>\n",
              "      <td>o</td>\n",
              "      <td>ปกติ|จะ|ไม่ชอบ| |log| |in| |ใดๆ| |ใน|ค|อม|คนอื...</td>\n",
              "    </tr>\n",
              "    <tr>\n",
              "      <th>2</th>\n",
              "      <td>2</td>\n",
              "      <td>SocialFSI_ZE-KTB-Feb-Apr2022_Sampling2244_2022...</td>\n",
              "      <td>SocialFSI_ZE-KTB-Feb-Apr2022_Sampling1200_2022...</td>\n",
              "      <td>Krungthai_NEXT</td>\n",
              "      <td>krungthai</td>\n",
              "      <td>SocialMedia</td>\n",
              "      <td>facebook</td>\n",
              "      <td>10161808181448916_1330115550790924</td>\n",
              "      <td>Q2207_636</td>\n",
              "      <td>Q2207_636_1</td>\n",
              "      <td>Krungthai Care ณ. ตอนนี้ยอดก็ยังไม่เข้าค่ะ ถ้า...</td>\n",
              "      <td>Krungthai Care ณ. ตอนนี้ยอดก็ยังไม่เข้าค่ะ ถ้า...</td>\n",
              "      <td>Product and Service, System</td>\n",
              "      <td>7</td>\n",
              "      <td>negative</td>\n",
              "      <td>n</td>\n",
              "      <td>ktb| |care| |ณ|.| |ตอนนี้|ยอด|ก็|ยัง|ไม่|เข้า|...</td>\n",
              "    </tr>\n",
              "    <tr>\n",
              "      <th>3</th>\n",
              "      <td>3</td>\n",
              "      <td>SocialFSI_v4_0_mutiple_train_sampling8203_2021...</td>\n",
              "      <td>SocialFSI_TrainSCB-SocialFilterV2_Sampling2750...</td>\n",
              "      <td>NaN</td>\n",
              "      <td>NaN</td>\n",
              "      <td>SocialMedia</td>\n",
              "      <td>Twitter</td>\n",
              "      <td>27634345</td>\n",
              "      <td>Q202106_961</td>\n",
              "      <td>Q202106_961_1</td>\n",
              "      <td>@scb_thailand เรียน scb ขอเบอร?ตืดต่อเพราะคุย ...</td>\n",
              "      <td>@scb_thailand เรียน scb ขอเบอร?ตืดต่อเพราะคุย ...</td>\n",
              "      <td>Staff Quality</td>\n",
              "      <td>4</td>\n",
              "      <td>negative</td>\n",
              "      <td>n</td>\n",
              "      <td>scb_thailand| |เรียน| |scb| |ขอ|เบอร| |ตืด|ต่อ...</td>\n",
              "    </tr>\n",
              "    <tr>\n",
              "      <th>4</th>\n",
              "      <td>4</td>\n",
              "      <td>SocialFSI_v4_0_mutiple_train_sampling8203_2021...</td>\n",
              "      <td>SocialFSI_TrainSCB-SocialFilterV2_Sampling2750...</td>\n",
              "      <td>NaN</td>\n",
              "      <td>NaN</td>\n",
              "      <td>SocialMedia</td>\n",
              "      <td>Twitter</td>\n",
              "      <td>28297653</td>\n",
              "      <td>Q202106_2021</td>\n",
              "      <td>Q202106_2021_1</td>\n",
              "      <td>ไอเลิ้บ TMB All Free มาก แต่ช่วยพัฒนาแอพให้สเถ...</td>\n",
              "      <td>ไอเลิ้บ TMB All Free มาก</td>\n",
              "      <td>Product and Service, Usage and Condition</td>\n",
              "      <td>8</td>\n",
              "      <td>positive</td>\n",
              "      <td>p</td>\n",
              "      <td>ไอ|เลิ้บ| |tmb_all_free| |มาก|</td>\n",
              "    </tr>\n",
              "  </tbody>\n",
              "</table>\n",
              "</div>\n",
              "      <button class=\"colab-df-convert\" onclick=\"convertToInteractive('df-be97bbc1-1840-49ab-aa0b-6a935132c95e')\"\n",
              "              title=\"Convert this dataframe to an interactive table.\"\n",
              "              style=\"display:none;\">\n",
              "        \n",
              "  <svg xmlns=\"http://www.w3.org/2000/svg\" height=\"24px\"viewBox=\"0 0 24 24\"\n",
              "       width=\"24px\">\n",
              "    <path d=\"M0 0h24v24H0V0z\" fill=\"none\"/>\n",
              "    <path d=\"M18.56 5.44l.94 2.06.94-2.06 2.06-.94-2.06-.94-.94-2.06-.94 2.06-2.06.94zm-11 1L8.5 8.5l.94-2.06 2.06-.94-2.06-.94L8.5 2.5l-.94 2.06-2.06.94zm10 10l.94 2.06.94-2.06 2.06-.94-2.06-.94-.94-2.06-.94 2.06-2.06.94z\"/><path d=\"M17.41 7.96l-1.37-1.37c-.4-.4-.92-.59-1.43-.59-.52 0-1.04.2-1.43.59L10.3 9.45l-7.72 7.72c-.78.78-.78 2.05 0 2.83L4 21.41c.39.39.9.59 1.41.59.51 0 1.02-.2 1.41-.59l7.78-7.78 2.81-2.81c.8-.78.8-2.07 0-2.86zM5.41 20L4 18.59l7.72-7.72 1.47 1.35L5.41 20z\"/>\n",
              "  </svg>\n",
              "      </button>\n",
              "      \n",
              "  <style>\n",
              "    .colab-df-container {\n",
              "      display:flex;\n",
              "      flex-wrap:wrap;\n",
              "      gap: 12px;\n",
              "    }\n",
              "\n",
              "    .colab-df-convert {\n",
              "      background-color: #E8F0FE;\n",
              "      border: none;\n",
              "      border-radius: 50%;\n",
              "      cursor: pointer;\n",
              "      display: none;\n",
              "      fill: #1967D2;\n",
              "      height: 32px;\n",
              "      padding: 0 0 0 0;\n",
              "      width: 32px;\n",
              "    }\n",
              "\n",
              "    .colab-df-convert:hover {\n",
              "      background-color: #E2EBFA;\n",
              "      box-shadow: 0px 1px 2px rgba(60, 64, 67, 0.3), 0px 1px 3px 1px rgba(60, 64, 67, 0.15);\n",
              "      fill: #174EA6;\n",
              "    }\n",
              "\n",
              "    [theme=dark] .colab-df-convert {\n",
              "      background-color: #3B4455;\n",
              "      fill: #D2E3FC;\n",
              "    }\n",
              "\n",
              "    [theme=dark] .colab-df-convert:hover {\n",
              "      background-color: #434B5C;\n",
              "      box-shadow: 0px 1px 3px 1px rgba(0, 0, 0, 0.15);\n",
              "      filter: drop-shadow(0px 1px 2px rgba(0, 0, 0, 0.3));\n",
              "      fill: #FFFFFF;\n",
              "    }\n",
              "  </style>\n",
              "\n",
              "      <script>\n",
              "        const buttonEl =\n",
              "          document.querySelector('#df-be97bbc1-1840-49ab-aa0b-6a935132c95e button.colab-df-convert');\n",
              "        buttonEl.style.display =\n",
              "          google.colab.kernel.accessAllowed ? 'block' : 'none';\n",
              "\n",
              "        async function convertToInteractive(key) {\n",
              "          const element = document.querySelector('#df-be97bbc1-1840-49ab-aa0b-6a935132c95e');\n",
              "          const dataTable =\n",
              "            await google.colab.kernel.invokeFunction('convertToInteractive',\n",
              "                                                     [key], {});\n",
              "          if (!dataTable) return;\n",
              "\n",
              "          const docLinkHtml = 'Like what you see? Visit the ' +\n",
              "            '<a target=\"_blank\" href=https://colab.research.google.com/notebooks/data_table.ipynb>data table notebook</a>'\n",
              "            + ' to learn more about interactive tables.';\n",
              "          element.innerHTML = '';\n",
              "          dataTable['output_type'] = 'display_data';\n",
              "          await google.colab.output.renderOutput(dataTable, element);\n",
              "          const docLink = document.createElement('div');\n",
              "          docLink.innerHTML = docLinkHtml;\n",
              "          element.appendChild(docLink);\n",
              "        }\n",
              "      </script>\n",
              "    </div>\n",
              "  </div>\n",
              "  "
            ]
          },
          "metadata": {},
          "execution_count": 4
        }
      ]
    },
    {
      "cell_type": "code",
      "source": [
        "train['Human_CategoryID'].sort_index(ascending=True).value_counts()"
      ],
      "metadata": {
        "colab": {
          "base_uri": "https://localhost:8080/"
        },
        "id": "HA6bOeakDu5L",
        "outputId": "ef4dd318-8d64-4ac9-fff7-e7539ae425c6"
      },
      "execution_count": 5,
      "outputs": [
        {
          "output_type": "execute_result",
          "data": {
            "text/plain": [
              "7     3275\n",
              "8     2454\n",
              "13    2133\n",
              "5     1163\n",
              "6     1109\n",
              "4      522\n",
              "10     379\n",
              "3      377\n",
              "11     232\n",
              "1      185\n",
              "9      153\n",
              "12     152\n",
              "2       16\n",
              "Name: Human_CategoryID, dtype: int64"
            ]
          },
          "metadata": {},
          "execution_count": 5
        }
      ]
    },
    {
      "cell_type": "markdown",
      "source": [
        "#Create a Vocabulary"
      ],
      "metadata": {
        "id": "3hRruw5Ph59Y"
      }
    },
    {
      "cell_type": "code",
      "source": [
        "from collections import Counter\n",
        "\n",
        "vocab = Counter()\n",
        "def data_to_vocab(df):\n",
        "  for verbatim in df['Text_ws_local']:\n",
        "    tokens = verbatim.split()\n",
        "    tokens = [word for word in tokens if len(tokens) > 4] #at first = 1, CNN GMP is better with >4 for ~2%\n",
        "    vocab.update(tokens)\n",
        "\n",
        "data_to_vocab(train)\n",
        "\n",
        "print(len(vocab))\n",
        "vocab.most_common(20)"
      ],
      "metadata": {
        "colab": {
          "base_uri": "https://localhost:8080/"
        },
        "id": "9KsihNdkb28k",
        "outputId": "5c6efeb4-f31a-42cf-ff82-40e7cc2c8a2d"
      },
      "execution_count": 6,
      "outputs": [
        {
          "output_type": "stream",
          "name": "stdout",
          "text": [
            "46943\n"
          ]
        },
        {
          "output_type": "execute_result",
          "data": {
            "text/plain": [
              "[('|scb|', 1518),\n",
              " ('|friendtag|', 625),\n",
              " ('|2|', 512),\n",
              " ('|kbank|', 403),\n",
              " ('|บาท|', 360),\n",
              " ('|1|', 340),\n",
              " ('|3|', 329),\n",
              " ('|5|', 298),\n",
              " ('|tmb|', 251),\n",
              " ('|call_center|', 250),\n",
              " ('|atm|', 249),\n",
              " ('atm|', 245),\n",
              " ('|scb_easy|', 201),\n",
              " ('|telephonetag|', 199),\n",
              " ('|app|', 199),\n",
              " ('|กรุงไทย|', 198),\n",
              " ('|-|', 184),\n",
              " ('|sms|', 178),\n",
              " ('|ktc|', 176),\n",
              " ('|ของ|', 164)]"
            ]
          },
          "metadata": {},
          "execution_count": 6
        }
      ]
    },
    {
      "cell_type": "code",
      "source": [
        "min_occurence = 2\n",
        "tokens = [k for k, c in vocab.items() if c >= min_occurence]"
      ],
      "metadata": {
        "id": "YqxVmTU0hXYD"
      },
      "execution_count": 7,
      "outputs": []
    },
    {
      "cell_type": "code",
      "source": [
        "def save_list(lines, filename):\n",
        "  data = '\\n'.join(lines)\n",
        "  file = open(filename, 'w')\n",
        "  file.write(data)\n",
        "  file.close()\n",
        "  \n",
        "save_list(tokens, 'vocab.txt')"
      ],
      "metadata": {
        "id": "dxb6rJv_gzC1"
      },
      "execution_count": 8,
      "outputs": []
    },
    {
      "cell_type": "markdown",
      "source": [
        "#Train Embedding Layer"
      ],
      "metadata": {
        "id": "WbZ5MsM0iCNr"
      }
    },
    {
      "cell_type": "code",
      "source": [
        "#Load the vocab as above\n",
        "def load_doc(filename):\n",
        "  file = open(filename, 'r')\n",
        "  text = file.read()\n",
        "  file.close()\n",
        "  return text\n",
        "\n",
        "vocab_filename = 'vocab.txt'\n",
        "vocab = load_doc(vocab_filename)\n",
        "vocab = vocab.split()\n",
        "vocab = set(vocab)\n",
        "\n",
        "print(vocab)"
      ],
      "metadata": {
        "colab": {
          "base_uri": "https://localhost:8080/"
        },
        "id": "xWxGiDbLiDjC",
        "outputId": "ff1c0354-0bf5-4d73-a55d-12253878d276"
      },
      "execution_count": 9,
      "outputs": [
        {
          "output_type": "stream",
          "name": "stdout",
          "text": [
            "{'|โครต|เชง|', '|ปี|ค่ะ|', '|bitkub|', '|เลข|อ้างอิง|', '|ขึ้น|ว่า|', 'โอนเงิน|จาก|kbank|', '|mind|', '|แค่|ยื่น|บัตร|ให้|', '|ให้|หมด|', '|ไป|เมื่อ|วัน|ที่', '|เงิน|ไม่|เข้า|ค่ะ|', '|เรียบร้อยแล้ว|', '|ทุกปี|', '|วัน|ทำการ|ครับ|', '|ลงทุน|', '|1600|', '|โอนเงิน|ไป|แล้ว|', '|พอ|มี|โครงการ|พัก|หนี้|', '|15.30|', '|ช|', '|ถ้า|ยื่น|กู้|กับ|', '|อี|ค|วัย|', '|บอก|ว่า|', '|ais|', '2|9|', 'ขอ|สอบถาม|หน่อย|ค่า|', '|เปิด|', '|ทุ่ม|ครึ่ง|', '|ฮือ|', '|ปี|ครับ', '|แต่|เจ้าหน้าที่|', '|telephonetag|', '|เข้า|ทุกเดือน|ไม่ค่อย|มีเงิน|นิ่ง|ๆ|', '|คือ|ยังไง|', '|ธนชาต|', '|ค|ห|', '|k-esaving|', '|โดยตรง|', '|ad|', '|ลด|', '|มา|kbank|', '|เครื่อง|', '|ยืนยัน|ที่|ตู้', '|โทร|ตั้งแต่|', '|ครับผม|', '|มาแล้ว|', '|แย่มาก|', '|bk|', '|2300|', '|atmdebit|', 'scbs|', '|คนละ|ครึ่ง|เฟส|', '|อยู่|ค่ะ|', '|taxi|', '|แห|นะ', '|เงิน|ใน|', '|แต่|เงิน|ไม่|เข้า|ปลายทาง|', '|เบื้องต้น|', '|pro|', '|ธนาคาร|ก็|ปิด|ทำการ|แล้ว|', '|เครื่อง|เก่า|', '|ต้อง|เปิดบัญชี|', '|ไหม|', '|ktbnext|', '|เดือน|นี้|', 'ฝาก|ธนาคาร|ก็ได้|ดอกเบี้ย|น้อยนิด|', '|ต้นๆ|', '|ธัน|วา|', 'ขออนุญาต|สอบถาม|ครับ|', '|balance|', '|start|', '|หลักๆ|', '|ของ|กรุงเทพ|', '|ถาม|', '|กับ|กรุงไทย|', '|work|', 'มีเงิน|เข้ามา|', 'วัน|ที่', '|จาก|', '|e-savings|', '|เลย|นะ|', '|พฤศจิกายน|', '|ของ|ไทยพาณิชย์|', '|สัก|ปี|ละ|', '|2440|', '|บาท|อะ|', '|0|', '|พนักงาน|บอก|', '|แต่|ทำไม|', '|ๆ|', '|ตอนนี้|เลย|', '|ห่วยแตก', '|2.|', '|ถึงจะ|สามารถ|เช็ค|ได้|', '|ง่าย|ดี|', '|เข้า|scb|', '|แผน|', '|ช่วงนี้|', '|แต่|มี|', '|ด้วย|ละ|อ่า|', '|ต่อ|เดือน|', '|พอ|ถึง|วัน|ที่', '|แม่|ม|มา|ทำงาน|กัน|บ้าง|เปล่า|วะ|', '|ขายของ|เช็ค|ยากมาก|ค่ะ|', '|ถาม|จริง|', '|fee|', '|ร้องไห้|', '|แอป|ธนาคาร|', '|จะ|แลกเงิน|อ่า|', '|เป๊ก|ผลิต|โชค', 'สอบถาม|คะ|', '|d|', 'เอ|อ|', '|bayfirst_choice|', '|ทอง|', '|อี|เหี้ย|', '|ผ่าน|มา|เกือบ|', '|ปัด|ตก|', '|big|', '|เครดิต|', '|2562|', '|ไม่สามารถ|เข้า|', '|ไป|', 'เป๋า|ตัง|', '|ให้|หน่อย|', '|shanghai|', '|อาย|เพื่อน', '|เมษายน|', '|2565|', '|ทั้ง|คนอื่นๆ|', '|ได้|ค่ะ|', '|ก็|เข้า|ปกติ|', 'ๆ|', '22|1163|', '|ของ|ตัวเอง|', '|ถ้า|มี|บัญชี|', '|ถาม|เรื่อง|', '|ก็ได้|คะแนน|', '|promptpay|', '|0.01|', '|ค่ะ|', '|จน|วันนี้|วัน|ที่', '|easy|', '|ได้รับ|', '|กด|เงินสด|', '|บาท|วันนี้|', '|วงเงิน|', '|ส|ภ|.|', '|โปรโมชั่น|', '|online|', '|โอน|เข้า|กรุงไทย|', '|บ้าง|', '|แล้ว|รอ|', '|นี้|ก็|', '|ขอบคุณ|ค่ะ', '|ใช้ง่าย|', '|ok|', '|paypal|', '|ไม่สามารถ|ทำ|รายการ|ทางการ|เงินได้|ในขณะนี้|', '|หายไป|', '|น้อยกว่า|', '|บ้าง|คะ|', '|ประเทศไทย|', '|เร็วมาก|', '|bot|', 'ถาม|', '|ล่ม|หรอ|', '|atm-|', '|family|', '|ผม|ใช้|', '|จ่าย|ค่า|บัตร|', '|00|', '|อี|สัส|', '|lh|', '|ทำ|รายการ|ไม่|ตามเวลา|กำหนด|พ่อ|ง|มึง|ดิ', '|ย|', '|ออก|บัตรเดบิต|ไม่ได้|', '|bankingmobile|', '|ทำ|ยังไง|ก็|ไม่|ผ่าน|', '|ขอ|ข้อมูล|จาก|ธนาคาร|อื่น|ได้|', '|banking|.|', '|4500|', '|ถือ|บัตร|', '|ธนาคาร|ต้นทาง|ของ|เคส|เรา|', '|2|', '|อ้าว|', '|ใช้ได้|', '|ทั้งที่|มี|', '|ก็|เห็น|', '|ที่|สาขา|', '|ก็|ไม่มี|ยอด', '|ช่วง|เดือน|', '|เหอะ|ๆ|', '|ขอบคุณ|ล่วงหน้า|ค่ะ', '|thanachart|', '|เช็ค|จะ|', '|ไหม|คะ', '|ยัง|ไม่|ได้รับ|', '|ของ|scb|', '|ไป|แล้ว|', '|18|', '|ลืม|', '|store|', '|jmart|', '|50|', '|ต้อง|ทำ|ยังไง|บ้าง|คะ|', '|ว้อท|', 'โทร|ถาม|', '|แนะนำ|', '|คือ|ช้า|มาก|', '|two|', '|ขอบคุณ|', '|มี|', '|นี่|จะ|', '|เสียความรู้สึก|มาก', 'เปิดบัญชี|', '|20|k|', '|ทำ|บัตรเสริม|ของ|มาย|', '|wallet|', '|android|', 'เรา|ชนะ|', '|โอนเงิน|ไม่ได้|', '|ใคร|เป็น|บ้าง|ครับ|', '|เขตพระราม2|', '|บัญชี|ฝากประจำ|ของ|', '|map|', '|จาก|ธนาคาร|', '|แต่|ทาง|ต้นทาง|', 'น้อยๆ|', '|ครบ|', '|wfh', '|touch|', '|60|', '|scbam|', '|ขีด|', '|ref|.|1|', '|กุม|ภา|', '|กรุงไทย|ล่ม', '|จ่าย|ไป|', '|แล้ว|ต้อง|เสีย|อะไร|ไหม|', '|finnomena|', '|อย่างเช่น|', '|คับ|', 'ltf|', '|ต้อง|ทำไง|ค่ะ', '|จน|วัน|ที่', '|ต้อง|ติดต่อ|ธนาคาร|', '|บัตร|อนุมัติ|', '|ถ้า|แจ้ง|ช่องทาง|ไหน|ครับ|', '|เหี้ย|มาก|', '|มี|แค่|', '|apple|', '|code', '|ช่วง|', '|k|', '|สีม่วง|', '|จะ|ยกเลิก|สิทธิ์|', '|chat|', '|ดังนี้|', '|5|-|6|', '|อนุมัติ|', '|ได้|ไหม|ครับ|', '|แจ้ง|ว่า|ระบบ|มีปัญหา|', '|โดน|หัก|ไป|', '|ระบบ|อัตโนมัติ|', '|โท|ร.|', '|แจ้ง|', '|robo|', '|และ|บัตร|กดเงิน|', '|เม.ย.|', '|ป่ะ|', '|t_t|', 'visa|', '|แง', '|แล้ว|มา|สแกน|ใหม่|', '|จะ|ไม่|ปรับ|สลิป|จิงอ่อส|ลิบ|เอ้|ม|แบงก์|กิ้ง|คือ|ไป|พัก|', '|33|', '|โทร|ไป|ไม่เคย|ได้|คุย|', '|เริ่ม|', 'ผม|สงสัย|ว่า|', '|no|.|1|', '|มาก|', '|ผล|คือ|', '|wealth|', '|แบน|', '|ตราสาร|หนี้|', 'tmb_touch|', '|พูด|ง่ายๆ|', '|และ|ไทยพาณิชย์|', '|เจ้าหน้าที่|บอก|', '|ทำไง|ได้|บ้าง|คะ|', '|cr|.|', '|ติดต่อ|ยากมาก|', '|investment|', '|wechat|', 'สมัคร|บัตร|', '|อายุ|', '|สัก|เท่าไหร่|', '|แก้ไขปัญหา|ให้|เสร็จ|ภายใน|', '|ทุ่ม|กว่า|', 'เข้า|', '|ใน|แอ|ฟ|มัน|เป็น|ออ|มท|ร|พ|ย|์|', '|เรา|โอนเงิน|จาก|', '|ชื่อบัญชี|', '|2557|', '|หลังจากนั้น|', '|150000|', '|ธนาคาร|แล้ว|', '|เช้า|', '|วัน|ๆ|', '|บาท|ใน|', '|ผม|ต้อง|ทำ|อย่างไร', 'ทำ|บัตร|', 'รบกวน|สอบถาม|ค่ะ|', '|ลง|เหลือ|', '|แต่|เงิน|ไม่|เข้า', '|ต้องการ|ปิดบัญชี|ไป|เลย|', '|loan|', '|bangkok|', '|ไม่สนใจ|', '|สรุปว่า|', '|ประกันภัย|', '|ทำ|อย่างไร|ได้|บ้าง|คะ|', '|ไม่มีปัญหา|เลย|', 'แอป|bbl|', '|xx|', 'ตอนนี้|', '|สาขา|ชน|แดน|', '|โอนเงิน|ออกจาก|บัญชี|เรา|เอง|', '|3|g|4|g|', '|ทั้ง|เรา|', '|จาก|กระทู้|', '|พิจารณา|', '|แถม|', '|ขอบคุณ|คะ', '|ได้|ไหม|', '|k|8888|', '|รอ|ถึง|', '|master|', '|ได้|ดอก|', 'ทำ|ประกัน|', '|ติดต่อ|', '|มา|บอก|ว่า|', '|ไม่มี|', '|ยืนยัน|ตัวตน|ปุ๊บ|', '|ลำ|ลูก|กา|', '|ยู|เมะ|', 'คือ|', '|กองทุนรวม|', '|ล่ม|อีก|', '|ksme|', '|หาย|', 'ลงทะเบียน|', '|krungthai_connext|', '|คน|ไม่|เยอะ|', '|กด|โอนเงิน|', '|scb_m_luxe|', '|ไว้|', '|บัตรเครดิต|', '|1.|ktc|', '|พรบ.|', '|แต่|เงิน|ไม่มี|เข้าบัญชี|', '|555', 'โอน|', '|จน|บัดนี้|', '|bualuang|', '|line|', '|ตัด|', 'scbplanet|', '|เสียความรู้สึก|มาก|', '|22000|', '|ไหน|ๆ|', 'สวัสดี|ครับ|', 'ทาง|', '|คุย|กับ|', '|ขัดข้อง|', 'ไป|เปิดบัญชี|', '|2000|', '|11000|', '|2692|', '|ค่าธรรมเนียมรายปี|', '|เป็น|จำนวนเงิน|', '|ณ|', 'สรุป|', '|5000|', 'sms|', '|k-plus|', '|ได้มา|', '|699|', '|หมุนเวียน|และ|สินเชื่อ|ได้|เพิ่ม|', '|ขอบคุณ|ล่วงหน้า|นะคะ|', '|ไม่ติด|', '|statement|', '|หรือ|บัตรเดบิต|', '|นี่|', '|ใช้|บัตร|', 'ติดต่อ|เจ้าหน้าที่|', '|cancel|', '|ก|ย|', '|ต|ค.|', '|ก็|มี|', '|esso|', '|02|-|28515|', '|2|-|3|', '|ครั้ง|', '1555|', '|23|xxx|', '2|', '|5', '|มาตลอด|', '|kbanklive|', 'ระบบ|', '|ไม่|เกี่ยวข้องกับ|ข้อมูล|เครดตบู|โร|', '|ไม่ต้อง|ชำระ|', '|แล้ว|', 'สอบถาม|ค่ะ|', '|10.32.0|', '|วัน|ค่ะ|', '|operator|', '|expense|', '|เงิน|ไม่|เข้า|เลย|ครับ|', '|ประ|มาน|', '|ghb|', '|เนื่องจาก|เรา|ย้าย|มา|อยู่|', '|ล้าน|', '|refund|', 'weply|', '|รอ|ประ|มาน|ครึ่ง|ชม.|', '|มี|.ค|', 'โอนเงิน|จาก|', '|note|', '|99|', '|19|', '|4|', '|เงินเข้า|ปกติ|', '|บ้าง|ไหม|คะ|', '|หลังจาก|', '|บ|ลา|', '|พัน|', '|64|', '|เงินฝาก|', '|170|', '|ขอบคุณ', '|thailand|', '|กรณี|', '|ต้อง|', '|สอบถาม|โทร|', 'พี่|ที่|ธนาคารกรุงไทย|ใจ|ดีมาก|', '|แปลกๆ|', '|จะ|กู้เงิน|ใน|ไลน์|', '|365|', '|สาขา|ใน|สนามบิน|สุวรรณ|ภูมิ|', '|มี|สลิป|แต่|เงิน|ไม่|เข้า|ทำไง|บอก|ที|และ|จะ|ได้|เงิน|คืน|ไหม|ม', '|ไม่ก็|', 'tao|', '|จ่ายเงิน|ไม่ได้|', '|paul|', '|แน่นอน', 'รอ|', 'คือ|แบบ|', '|หลัง|วัน|ที่', '|ชำระ|', '|กระเป๋า|ตังค์|', '-|', '|ใน|', '|ทหาร|ไทย|', '|fund|', '|ทาง|ออนไลน์|', '|เลย|ด้วย|', '|จ่าย|ผ่าน|', '|fun|', '|13.00|', '|alipay|', '|โมโห|', '|เย็น|ๆ|', '|สอบถาม|ค่ะ|', '|เงิน|', '|5000.|-|', '|ซวย|ๆ|', '|แจ้งเตือน|เงินเข้า|ไม่มี|สัก|ข้อความ|เลย|ค่ะ|', '|ผ่าน|ทาง|', '|ref|', '|มา|ดู|', '|13.30|', '|อันนี้|ก็|แล้วแต่|', '|3|-|4|', '|14000|', '|สแกน|จ่าย|', '|เรา|สนใจ|และ|อยาก|สอบถาม|ข้อมูล|', '|สัญญา|ผูกพัน|ธ|์|กับ|ธนาคาร|', 'ส่วน|บัตร|', 'วันนี้|', '|search|', '|พูด|แล้ว|ทั้ง|เศร้า|ทั้ง|โมโห|', 'paotang|', '|เดือดร้อน|มากๆ|', '|กรุงไทย|ด้วย|', '|งง|ไป|หมด|', '|ขึ้นมา|', '|buntoshi|', '|sq|', '|คืน|บัตร', '|ได้|ครับ|', '|ต้นทาง|', 'คือ|หนู|อายุ|', '|ครั้ง|แล้ว|', '|refinance|', '|มี|แต่|', '|กองทุน|', '|เข้า|kbank|', 'ซื้อ|', '|เพราะ|บัตร|กรุงไทย|ตัวต้นเหตุ|เลย|', '|เปลี่ยน|', '|ดอกเบี้ย|', '|ก็|ปิด|', '|ก็|คือ|การทำ|ธุรกรรมออนไลน์|ผ่าน|ค|อม|ผ่าน|เวป|', 'พอดี|', '|คนละ|ครึ่ง', '|ของ|ระบบ|', '|ก|พ|', '|แต่|', '|สามารถ|เปลี่ยน|', '|class|', '|ถ้า|เปิดบัญชี|', '|pending|', '|กุ|มีปัญหา|กับ|ไลน์|แมน|อีก|', '|กด|สมัคร|', '|แล้ว|ไม่มี|', '|เอง', '|callcenter|', '|2561|', '|ราคา|', '|เลิก|ใช้|', '|ฉัน|', '|ทั้ง|แอป|', '|บ้าง|ครับ|', '|ktc_jcb|', '|เพราะ|ไม่มี|บัตร|', '|เติม|จาก|', 'โทร|ไป|', '|ไม่มี|พนักงาน|รับสาย|', '|แต่|พอกด|สมัคร|ไป|แล้ว|', 'จริง|', '|ธนาคาร|แบบนี้|', '|บาท|ผ่าน|พร้อมเพย์|', '|เกือบ|ทั้ง|องค์กร', '|ทำไง|ครับ', 'มือถือ|จีน|', '|ธนาคารอาคารสงเคราะห์|', '|6000|', '|ง|อง|มาก', 'อยากทราบ|ว่า|', '|krungthai_next|', '|แต่|อยู่ดีๆ|', '|เมื่อ|เวลา|', '|ออนไลน์|', '|บช.|', '|เอา|จริงๆ|', '|สีเขียว|', '|อยาก|ร้องไห้|', '|ธ|ค|', '|kbankxblackpinkfanmeeting', '|เบอร์|ผิด|', '|โอน|เมื่อวาน|ตอน|', '|สำเร็จ|', '|google|', '|เลย|ค่ะ|', '|ตอนนี้|มี|', '|b|', '|ก็|ใช้|', '|และ|จน|ป่านนี้|', '|เฮงซวย', '|วันก่อน|', '|คะ|', 'โอน|ไป|', '|ไม่เข้าใจ|ว่า|', '|flexi|', '|ทุ่ม|กว่า|ๆ|', '|ชม.|แล้ว|', '|ต้อง|ทำไง|', '|bbl|', '|ล่าสุด|', '|ดอกเบี้ย|ยิ่ง|เยอะ|ค่ะ', '|น่าสนใจ|มาก|ครับ|', 'สอบถาม|หน่อย|ครับ|', '|เงิน|ยัง|ไม่|เข้า|เลย|', '|400|', '|กลัว|จะ|มีปัญหา|', '|dca|', '|เปิดบัญชี|กรุงไทย|', '|เมื่อไร|', '|สำนักงานใหญ่|', '|หรือ|ไป|', '|จริง|ค่ะ|', 'ได้|', '|1500|', '|nagoya|', '|มาสเตอร์|การ์ด|', '|บัญชี|ปลายทาง|', '|จอง|', '|grabpay|', '|เอง|ค่ะ|', 'โอนเงิน|จาก|แอป|', '|เหรียญ|', '|finalodysseyconcert|', '|tmb_so_smart|', '|ปกติ|จะ|มี|', '|ก็ได้|', '|ไม่รู้|', '|นั้น', '|เป๋า|ตัง|', '|jcb|', '|ขออภัย|ครับ|', '|รำคาญ|', '|-', '|aliexpress|', '|product|', 'ขออนุญาต|', '|ฮัลโหล|', '|เติมเงิน|ไป|', '|บน|มือถือ|', '|wha|', '|หรือ|ตาม|แต่ละ|พื้นที่|', '|ได้|ไหม|ค่ะ', '|rueantan|', '|พี่|ๆ|', '|easy_invest|', '|ยื่น|สมัคร|ที่|', '|รอบ|ละ|', '|190|', '|รบกวน|หน่อย|ครับ', '|โทร|ไป|ก็|ไม่ติด|', '|เส้า', 'สอบถาม|เรื่อง|บัตรเครดิต|', '|หลัก|', '|เบื่อ|มาก|', '|แต่|ก็|นั่นแหละ|', 'แนะนำ|', '|23|', '|ของ|tmb|', '|cash|', '|top|', '|โอน|', '|ผ่อน|ได้|', '|แล้ว|คะ|', '|ปิด|เครื่อง|', 'ร้อนๆ|', '|ยากมาก|', 'คำถาม|ที่', '|110|', '|ๆ', '|ก็|ไม่ได้|', '|mail|', '|2212563|', '|ไหม|ครับ|', 'เวร|ละ|', '22|', '|อุดรธานี|', '|โหลด|', '|the|', '|ไป|กรุงไทย|', '|first|', '2|8|', '|noti|', '|เสียเวลา|', '|ต้อง|ให้|หน้า|สมุดบัญชี|ตรงกับ|ผู้ที่|ลงทะเบียน|', 'โอ้|ย|', '|edition|', '|หรือ|ยังไง|', '|หัว|เว่ย|', '|รบกวน|แนะนำ|ด้วย|นะคะ|', '|พ่อ|', 'kbank|ล่ม|หรอ|', '|รับ|แต่|เงิน|ห|ยวน|ของ|จีน|', '|1.|', '|1.8|', '|ไม่|เข้า|', '|reward|', '|kbank', '|เบื่อ|', '|ก็|ยัง|รู้สึก|ยุ่งยาก|และ|', '|ใช่|ค่ะ|', '|อยาก|สอบถาม|ว่า|', '|พ|น.|', '|แต่|ภาพ|ไม่|ใช้|', '|counter|', '|ครั้ง', '|ค่า|เทอม|', '|อยากได้|', '|แอป|ฯ|', '|truemoneywallet|', '|บ.|', '|ผ่าน|มือถือ|ผ่าน|แอป|', '|ชื่อ|', '|เต็ม|', '|บาท|แล้ว|', '|เบอร์|ถูก|', '|ตอน|เปิดบัญชี|', '|ซึ่ง|ทาง|', '|โทร|เช็ค|กับ|ธนาคารกรุงไทย|ชัว|กว่า|ค่ะ|', '|จะ|ทำ|อย่างไร|', '|180|', '|db|', '|ที่ไหนได้|', 'เป็น|ลูกค้า|', '|โมโห', '|มี|บัญชี|kbank|', 'โทร|หา|', '|อยู่|ครับ|', '|m|', '|แบบ|ครับ|', '|โอน|จาก|', '|เมื่อวาน|', '|sa|', '|โดน|ไป|', '|ซื้อ|', '|ได้|วงเงินรวม|', '|ว่า|', '|bigc|', '|เกิน|', '|kkp|', '|ก่อน|', 'ถ้า|ใช้|', '|เรื่อง|', '|twitter|', '|tmb|', '|k-check|', '|091|', '|ขอบคุณ|ครับ|', '|สมัคร|', '|น่าจะ|', '|ทุกวัน|', '|post|', '|login|', '|kce|', '|รบกวน|ด้วย|นะคะ', 'เติมเงิน|ผิด|เบอร์|ครับ|', '|เดือน|ครับ|', '|chubb|', '|ยากเย็น|', '|number|', '|ktb_travel_card|', '|เงิน|ยัง|ไม่|เข้า|', '|พอกันที|', '|จริง|', 'เป็น|เหมือนกัน|เลย|ครับ|', '3|', '|รายเดือน|', '|ลอง|ไป|ศึกษา|ดูก่อน|', '|luxe|', '|2.34|', '|พวก|', '|ที่|ชำระเงิน|', '|youth|', '|ที่ใช้|', '|วัน|ทำการ|', '|ผ่าน|มา|', '|830|', '|กล|ต.|', '|มี|ค|', '|ตอนนี้|', '|ไม่|เสีย|', '|2700000|', '15|', '|bbl|ค่ะ|', 'โหลด|แอป|', '|ต้องการ|', '|ชอบมาก|', 'สินเชื่อ|', '|เท่า|ค่ะ', '|date|', 'เติม|เงินเข้า|', '|and|', '|เข้า|ใช้งาน|', '|app', '|เรา|เปลี่ยน|จาก|', '|โอนเงิน|ผ่าน|', '|ก่อน|นะ|ครับ', '|อีก|อย่าง|', '|อนุมัติ|แล้ว|', '|เงิน|ยัง|ไม่|เข้า|เลย|ค่ะ|', '|ปัจจุบัน|', '|ของ|kbank|', '|แล้ว|ส่วน|ของ|บัตร|', '|ค|ป|ภ|.|', '|หรือ|ธนาคาร|', '|กรุงไทย|ล่ม|', '|uid|', '|25000|', '|ธนชาต|ได้|ไหม|ครับ|', '|ปีนี้|', '|ยังไง|', '|ไง|คะ|', '|60000|', '|โอน|เมื่อ|วัน|ที่', '|citibank|', '|มา|ว่า|', '|aot|', '|เจ้าหน้าที่|บอก|ได้|สิ|ท|ธ|์|แล้ว|ค่ะ', 'จำได้|ว่า|', '|ตัว|ไหน|', '|อ|ห|.', '|kbank|', '|แลก|', '|โคตร|กาก', '|สอบถาม|', '|ยอดเงิน|', '|เข้า|กรุงไทย|', '|tmb_touch|', '|browser|', '|ตก|', '|โทร|กลับ|ไทย|ก็|ไม่ได้|', '|ios|', '|บัตรเดบิต|', '|ai|', '|แต่|บัญชี|ปลายทาง|ไม่|ได้รับ|ยอด|', '|สวัสดี|ครับ|', '|ผม|มี|ธนาคาร|ในใจ|อยู่แล้ว|', '|ช่อง|', '|แต่|ตอนนี้|', '|84|', '|ขอ|เอกสาร|เพิ่ม|', '|หรือ|ต้อง|', '|ต้อง|ใช้|อะไรบ้าง|', '|จาก|ทาง|', '|k-usa-ad|', '|1.30|', '|weply|', '|ปี|', '|โมง|เช้า|', 'โอนเงิน|จาก|กรุงไทย|', '|อี|เวร|', '|510|', '|6|', '|vi|', 'ไป|', '|feedback|', '|ทำไง|ดี|ครับ|', '|prime|', '|yen|', '|ขอบคุณ|มาก|ครับ', '|v|', '|เมษา|', '|ตอบ|โจทย์|ที่สุด|', '|พบว่า|', '|ไป|ไทยพาณิชย์|', '|เพิ่ม|', '|หน่อย|', '|ว|ด|ฟ|', '|มัน|มี|', '|ยัง|', '|1.|ผม|ต้อง|แจ้ง|อะไร|กับ|ทาง|', '|ใช่|ๆ|', '|ของ|ธนาคาร|', '|หงุดหงิด', '|ได้คืน|', '|flow|', '|name|', '|ไฟล์|', '|ถอน|', '|ลบ|', '|ท|รู|วอ|ล|เลท|', '|pos|', '|money|', '|2564|', '|แต่|นี่|', '|น.', 'โทร|', '|yolo|', '|ทำไง|ดี|คะ', '|ต้อง|จ่าย|', '|ตัดยอด|ทันที|', '|งับ|', '|shop|', '|16|', '|วัน|ทำการ', '|เกือบ|', '|57|', '|cigna|', '|ไป|เปิดบัญชี|', '|krungthai_care|', '|ปันผล|', '|ปี|ที่ผ่านมา|', '7|-|11|', '|ดูๆ|', '|โอน|เข้าบัญชี|', '|ตอนนี้|พอจะ|ผ่อน|เลย|วางเงิน|นิ่ง|ๆ|', '|พัก|ชำระเงินต้น|', '|ตอนนี้|เดือดร้อน|มากๆ|', '|แล้ว|พอ|', '|unionpay|', '|ถ่าย|บัตร|', '|ผ่อน|รถ|', '|ทั้งที่|กดเงิน|แล้ว|ไม่|ออก|', '|ktb_precious_plus|', '|1.6|-|1.8|', '|scb|.', '|tisco|', '|บาง|', '|edc|', '|ถ้า|จ่าย|ด้วย|บัตร|', '|starbucks|', '|kb|', '|ปรากฏ|ว่า|', '|rmf|', '|g-wallet|', '|ฟ|รีๆ|', '|scb_first|', '|เป็น|งง|', '|ktb|', 'ฐาน|เงินเดือน|', '|จน|ต้อง|ถ่อ|ไปถึง|โร|บิน|สัน|เอง|', '|trade|', '|ลบ|แอป|', '|เที่ยงคืน|', '|personal|', '|เปิดบัญชี|', '|ทราบ|เพราะ|พี่|ข้าง|บ้าน|ทัก|มา|บอก|ใน|ไลน์|', '|ต้อง|โทร|ไปหา|', '|เริ่มต้น|', '|เช็คยอด|', '|busayarat|', '4|363|', '|opd|', '|ใบ|ที่', '|scb_thailand', '|เมื่อวาน|อยู่|ที่', '|ได้|ไหม|คะ|', '|ธนาคาร|บอก|ว่า|', '|ปี', 'ทำ|', '|เรย|', '|กบข.|', '|ตลอด|', '|advisor|', '|ไม่มี|แอป|', '|krungthai_axa|', '|หรอ|', '|ออก|', '|ทวง|แทน|', '|call|', '|กว่า|หน่วย|', '|อยาก|รู้ว่า|ค่าธรรมเนียม|ตรง|', '|โบราณ|จะ|ตาย|ชัก|', '|ปกติ|ที่|ถอน|คือ|', '|ธนาคาร|เลย|', '|1700|', '|ยืน|', '|จะ|ใช้|', '|gift|', '|ตอนนี้|ก็|ติดต่อ|สาขา|เจ้าของ|บัญชี|', '|ได้|ไหม', '|เป็นไร|อ่ะ|', '|speedy|', '|tower|', '|kbank_live', '|กว่า|', '|mymo|', '|187|', '|แล้ว|ใช้|', '|เห|น่ย', '|เบอร์|เดิม|', 'เมื่อ|เวลา|', '|จนถึง|วันนี้|', '|24000|', '|แง|ง|', '|reset|', 'โอ๊ย|', '|ค่าธรรมเนียม|', '|ไว้|แล้ว|', '|ตอน|สมัคร|', '|sim|', '|ยัง|เข้า|ไม่ได้|', '|ipad|', 'อีก|', '|high|', '|ก็|เป็น|', '|เดือน|', '|เบอร์|โทรศัพท์|', '|หมดอายุ|', '|แก้ไข|', 'รีวิว|', '|30|-|45|', 'ผม|เดินบัญชี|กับ|', '|เอา|', '3|1|', '|แล้ว|นะ|', 'ธนาคาร|อื่น|', '|เมื่อก่อน|', '|ทำไง|ดี|คะ|', '|910|', '|airpay|', '|central|', '|เซ็ง', '|กดเงิน|ไม่|ใช้|บัตร|', '|ราคา|บ้าน|', '|สงสัย|', '|มี|นา|', '|ตาม|หัวข้อ|กระทู้|เลย|', '|ไฟ|', '|รูป|สอง|', '|scbsp|500|', '|11.30|', '|kplus', '|แล้ว|เงิน|ไม่|เข้า|', '|ขอบคุณ|มาก|ค่ะ|', '|ไม่สามารถ|ทำ|รายการ|ได้|ในขณะนี้|', '|ไง|', '|หักบัญชี|', '|ทำได้|', '|ที่|เป็น|', '|ไป|อยู่|ใน|', '|ตาม|นี้|ครับ|', '|หักเงิน|ไป|แล้ว|', '|ง|', '|อยากทราบ|ว่า|เพื่อน|ๆ|', '|scbeasyapp|', '|อะ|ค่ะ|', '|verify|', '|rop|', '|ล่ม|ตั้งแต่|เมื่อวาน|', '|15|', '|ตั้ง|นาน|', '|09.00|', '|ลุ้น|', '|ฮะ|', '|เดียว|', '|ไป|ก่อน|', '|ช่วย|หน่อย|ค่ะ|', '|fwd|', '|แทน', '|3|-|6|', '|ไม่สามารถ|', '|เพราะ|กลับ|ไทย|ก็|ไม่ได้|ค่ะ|ตอนนี้', '|scb|ค่ะ|', '|คำ|ว่า|', '|เบอร์|', '|slip|', '|speedy_loan|', '|คือ|ไร|อ่ะ', '|ดู|ครับ|', '|คน|ทำคนเดียว|กัน|เหรอ|', '|ปี|ที่', '|citibank', '|โทร|ไป|แจ้ง|', '|pin|', '|นิดๆ|', '|ก็|ต้อง|มี|ระยะ|รอคอย|', '|ซึ่ง|สถานการณ์|ตอนนี้|ก็|คือ|ไม่|อยาก|ออกไป|ไหน|เลย|', '|11.00|', '|สาย|ไม่ว่าง|ตลอด|เลย|', 'โทร|หา|คอลเซนเตอร์|', '|ที่|จาก|', '|ได้|', '|โอเค|', '|ผ่าน|ไหม|ค่ะ|หรือ|ใคร|เคย|กู้|บ้าง|เล่า|ประสบการณ์|', '|พี่|', '|ตัวเอง|', '|private|', '|ชื่อ|เหมือนกัน|', '|ลอง|', 'ktb|', '|msig|', '|uchoose|', '|ว่า|จะ|ไม่|สมัคร|อีกต่อไป|ละ|', '|เท่ากับว่า|', '|รหัสผ่าน|', '|makeups|', '|saving|', '|นั่น|คือ|', '|16.00|', '|โดย|ใช้|', '|เรียบร้อย|', '|เรา|', '|shoppee|', '|ก็|เสือก|ไม่|เข้า|', '|ทุน|', '|อยู่|', '|ktbnetbank|', '|แรกๆ|', '|เดือน|ขึ้นไป|', '|ไม่|อยากให้|พัก|หนี้|ใช่ไหม|ถึง|ไม่ติดต่อ|กลับมา|ทำไม|ถึง|ติดต่อ|กลับ|ได้|ยากเย็น|เพียงนี้', '|เสียไป|', '|บาท|ค่ะ', '|หน่อย', '|18000|', 'ไฟแนนซ์|', '|ไม่|ค่ะ|', 'ยกเลิก|', '|gmarket|', '|ส่วน|พวก|', '|26|', '|ก็|ติดต่อ|ไม่ได้|', '|ctw|', '|อยู่|เลย|ครับ|', '|เอา', '|simplicity|', '|-|', '|เงิน|ฝากออมทรัพย์|แบบ|ไม่มี|สมุด|', '|สั่ง|อาหาร|', '|500|-|600|', '|โอน|เข้า|', '|g-walle|', 'โอนเงิน|', '|ไม่|ได้คืน', 'app|', '|ใคร|เข้าระบบ|ได้|มั่ง|ครับ|', '|ต้อง|รอ|ตรวจสอบ|', 'เย่|', '|คืนเงิน|', '|10|m|', '|ไม่มี|บัตรเครดิต|', '|เอา|ดิ|', '|ไม่มี|กำหนด|หมดอายุ|', '|1|', '|สรุป|', '|บาท|แน่ะ|', '|โทร|ไป|', '|ต่าง|สาขา|', '|และ|แอป|', '|และ|บัตร|', '|rewards|', '|ด้วย|', '|grab|', '|115000|', 'ธนาคาร|', '|ไปที่|ตู้', '|กับ|บัตรกดเงินสด|', '|เงินเดือน|ไม่|ถึง|', '|set|', '|หลัง|', '|เพชร|บุรี|', '|5|-|10|', '|ktc|', '|คน|', '|กลัว|โดน|หลอก|', '|อยาก|ทำ|บัตร|', '|ตู้|', '|0', '|ได้|เลย|', '|ซึ่ง|ไม่|ตรงกับ|ที่|โครงการ|ดีล|ไว้|เลย|ครับ|', '|ตอนนั้น|', '|ป|ล|', '|เมื่อ|เทียบกับ|', '|ดี|นะ|', '|time|', '|ทั้งสิ้น|', 'ธนาคารอาคารสงเคราะห์|', '|ขอบคุณ|มาก|ค่ะ', 'รบกวน|สอบถาม|หน่อย|ครับ|', '|ยอดเงิน|ไม่|เข้า|', '|ต.ค.|', '|ใช้จ่าย|', '|ปีนี้|ได้|ไหม|ครับ|', '|ผม|', '|ๆๆ|', '|กรุงไทย|เลย|', '|pttor|', '|ล่ม|', '|prestigerop|', '|black|', '|ขายหมู|', '|krungthai_care', '|อี|ควาย|', '|จน|ตอนนี้|วัน|ที่', '|ยกเว้น|ของ|scb|', '|อีก|ประมาณ|', '|นครนายก|', '|1200|', '|ทุกเดือน|', '|scbset|50|e|', '|พูดจา|ดีมาก|', '|ตั้งแต่|ต้นปี|', '|ปี|แล้ว|ค่ะ|', '|k-esavings|', '|โค|วิท|', '|covid|19|', 'จริงๆ|', '|มี|เยอะ|แล้ว|', '|ของ|วันนี้|', '|default|', '|weverse|', '|เรา|ติดต่อ|ไปที่|เบอร์|โทร|สำนักงานใหญ่|ไฟแนนซ์|ไทยพาณิชย์|บอก|ว่า|จะ|ติดต่อ|กลับมา|', '|uob|', '|บาท|ไทย|', '|ของ|ธนาคาร|อื่นๆ|', '|scb_m|', '|baac|', '|toyota|', '|ติดต่อ|ธนาคาร|', '|เวลา|ไหน|', '|ของ|gsb|แต่|ก็|ไม่มีใคร|รับ|เลย|พนักงาน|ติด|สาย|ทุก|คู่สาย|เป็น|ชั่วโมง|เลย|', '|เหม่อ|', '|หรอ|คะ|', '|ยัง|ไว|กว่า|เยอะ|', '|ของ|ธนาคารเพื่อการเกษตรและสหกรณ์การเกษตร|', '|จบ', 'ออกๆ|', '|พ|รบ|', '|k-bank|', '|ด้วย', 'อยาก|สอบถาม|ว่า|', '|usa|', '|เปลี่ยนเป็น|', '|คลิก|เพื่อ|ดู|ข้อความ|ที่ซ่อน|ไว้|', '|แบบนี้|เรา|ทำ|ยังไง|ได้|บ้าง|คะ|', '|หรือไม่|', '|10.30|', '|700|', 'kplus|', '|ล้าน|บาท|', '|ขนาด|', '|trip|', '|ประกันสังคม|', 'กด|บัตร|', '|ฯลฯ|', '|ใช้ไม่ได้|', '|อยาก|สอบถาม|เพื่อน|ๆ|', '|ประเด็น|คือ|', '|ธนาคารกรุงไทย', '|ratsaenmueang|', '|planet|', '|เงิน|ยัง|ไม่|เข้าบัญชี|', '|ไม่มี|สมุดบัญชี|', '|scan|', '|10', 'หวัง|ว่า|', '|ที่ผ่านมา|', 'หนี้|', '|ไม่|สา|มาร|อนุมัติ|บัตรเครดิต|ของ|ท่าน|ได้|เป็นผล|จาก|เกณฑ์|พิจาร|ณ|รา|ของ|บริษัท|เท่านั้น|', '|เนื่องจาก|บัญชี|นั้น|โดน|ยึด|ไป|ด้วย|ปัญหา|หนี้สิน|', 'โดน|', '|อ|ห', '|ปล่อย|', '|แง|ง', '|หรือ|', '|ท|รู|มูฟ|', '|41000|', '|rungruang|', '|ยืนยัน|ตัวตน|', '|ละ|ตัด|ตัง|ไป|แล้ว|ด้วย', '|พนักงาน|ชาย|', '|พนักงาน|แจ้ง|ว่า|จำนวน|ครั้ง|ที่|เข้า|จะ|นับ|ครั้ง|ตาม|การสรุป|ยอด|เข้า|บ|ช|', '|มา|เป็น|', '|cp|', '|smart|', '|จะ|สมัคร|', '|สวัสดี|', '|precious|', '|c|', '|ไปมา|', '|waive|', '|8|-|9|', '|อยาก|ถาม|ว่า|', '|ถ้า|อยู่|ใกล้ๆ|', '|รอบ|นี้|', '|ทำไง|ดี', '|ไม่มีเงิน|แล้ว|', 'อ่ะ|', '|อยากจะ|สอบถาม|ว่า|', '|แย่มาก', '|airbnb|', '|มี|หนี้|บัตร|', '|หมดความอดทน|', '|แล้ว|ครับ', '|งวด|ละ|', '|4.|', '|copy|', '|เป็นสมาชิก|', '|ก็|มา|', '|65', '|เรา|ได้|ทำการ|โอนเงิน|จาก|gsb|ผ่าน|', '|amex|', '|-_-', '|แต่|เงิน|หาย|', '|หน่วย|ละ|', '|พอ|กุ|ลบ|โลด|ใหม่|', '|กทม|', '|สู้|ๆ|', 'mon|', '|คือ|อยู่|ๆ|', '|ตู้', '|75|', '|งง|ค่ะ|', '|1000000|', '|รักษา|', '|xpress|', '|ktz|', '|โฆษณา|ว่า|', '|ไทย|', '|proud|', '|นอกนั้น|', '|ดี', '|8000|', '|สามารถ|', '|18.04|', '|ง่ายๆ|', '|และ|ให้|เรา|ยืนยัน|ตัวตน|', '|honda|', '|ส่ง|เอกสาร|', '|เติมเงิน|', '|รอ|', '|วัน|แล้ว|', '|แรก|', '|k-cyber|', '|ผ่าน|แอป|', '|65|', '|เขา|บอก|', '|เรา|ชนะ|', '|คือว่า|', '|ได้|ข้อมูล|ปั๊บ|', '|เพียง|', '|ล่ม|อี|ควาย|', '|cvc|', '|coins|', '|เจ้าหน้าที่|โทร|มา|ทวง|ค่าบริการ|ชำระ|', '|bbl', 'กดเงิน|', '|จะ|บ้า|ตาย', '|ว่า|เพราะอะไร|', '|ละ|อ่อ|', '|ก็|คือ|', '|แจ้ง|ว่า|', '|แสน|', '|เงินเดือน|', '|บาท|อยู่แล้ว|', '|นี้|', '|อี|กรอบ|', '|1.1|', '|tot|', '|สาขา|', '|savings|', '|แต่|ไม่|เข้า|บัช|ชี|', '|สอง|รอบ|ละ|ที่|ส่ง|', '|ต้อง|ทำไง|ค่ะ|', '|แอป|ค้าง|', '|express|', '|เปิดบัญชี|ใหม่|', '|มีปัญหา|', '|reference|', '|debit|', '|จ่าย|', '|fundclick|', '20|12563|', '|ดู|ยากมาก|', '|โลตัส|', '|รบกวน|ด้วย|ครับ', '|ktb|.|', '|มัน|ขึ้น|แบบนี้|', '|หรือไม่ก็|อัน|ที่|เทียบเคียง|คับ|', '|เรา|ก็|งง|', '|1.6|', '|kcl|', '|โดย|', '|1558|', '|เช่น|', '|17.00|', '|มี|.|ค.|', '|ติดต่อ|ผ่าน|', '|lazada|', '|ใน|แอป|', '|59|', '|transection|', '|ก็ได้|นะ|', '|paotang|', '|รี|ไฟแนนซ์|', '|unlock|', '|มีนาคม|', '|งง|อ่ะ|', '20|', '|ผ่อน|', '|ออกมา|', '|mi|', '|แอร์|เอเชีย|', '|เป็น|อะไร|อ่ะ|', 'ตู้', '|กรุงเทพ|ประกันภัย|', '|งง|ๆ|', '|cc|', '|banking', '|หน้า|', '|จุก|ๆ|', '|ไม่พอ|', '|0.25|', '|ธนาคาร|คือ|', 'เรา|สมัคร|', '|ไม่ทราบ|ว่า|จะ|ผ่าน|ไหม|คะ|', '|พยายาม|', '|union|', '|ดู|', '|ตอบ|', '|premium|', '|ไม่มี|เลย|', '|โป|ร|', '|ไป|ค่ะ|', '|เยอะ|', '|ทุ่ม|', '|ล่ม', '|alert|', '|เหมือน|มีปัญหา|กด|โอนเงิน|ไป|แล้ว|เงิน|เด้ง|', '|สุด|', '|2563|', '|เลิก|ใช้|วอ|เลท', '|งง|มาก|', '|เพราะ|', '|ต้อง|นำ|บัตร|', '|ขึ้น|', '|หักเงิน|อัตโนมัติ|', '|kept|', '|ปกติ|', '|ทุก|ช่องทาง|', '|mebytmb|', '|mou|', 'ขอบคุณ|ครับ|', '|dtac|', '|หมดแล้ว|', '|k-express|', '|ลด|ๆ|', '|พนักงานธนาคาร|แนะนำ|ให้|ใช้|', '|เสียเวลา', '|fb|', '|แล้ว|อยู่|ๆ|', '|4|-|5|', '|เบี้ยประกัน|', '|ก็ได้|ค่ะ|', '|ครึ่ง|ชั่วโมง|', '|ที่', '|pbv|', 'พรุ่งนี้|', '|จะ|ผ่าน|ไหม|ครับ|', '|เอา|จน|ว่า|รำคาญ|', '|ละ', '|ตี|', '|ชั่วโมง|แล้ว|', '|บ่าย|', '|กู้|คนเดียว|', '|อี|หน้า|เหี้ย', '|กด|', '3.|', '|นาน|', '|ทุกๆ|', '|ระบบ|', '|รบกวน|สอบถาม|ค่ะ|', '|เจ้าของ|กระทู้|', '|premier|', '|จะ|มีโอกาส|ผ่าน|ไหม|ครับ|', '|139|', '|mastercard|', '|สะสมแต้ม|', '12|', 'เหมือน|', '|ฝากเงิน|', '|ทุก|ธนาคาร|', '|ผู้จัดการ|', '|ขอบคุณ|ล่วงหน้า|ค่า', 'ขอ|สอบถาม|หน่อย|ค่ะ|', '|แบบ|', '|สินเชื่อ|', '|ขึ้น|วงเงิน|มา|', 'ใช่|ครับ|', '|3|bb|', '|บาท|ได้|', '|failed|', '|ชอบ|', '|ทำ|ยังไง|', '|ได้|ดอกเบี้ย|อยู่|', '|จนถึง|', '|ธนาคาร|ล่ม|', '|พัน|บาท|', '|comment|', '|300', '|service|', '|ats|', '|travel|', '|ก็|ยัง|ไม่ติดต่อ|กลับมา|ตกลง|ไฟแนนซ์|ไทยพาณิชย์|', '|กด|ไม่ได้|', '|เลข|บัตรประชาชน|', '|ยอด|เงินออก|แล้ว|', '|แอ|ด|มิ|น|คะ|', '|ม|ก|รา|', 'ผม|เอาไว้|กัน|เวลา|ไป|ต่าง|พื้น|ที่แล้ว|มี|แค่|ตู้|เดียว|', '|จริงๆ|', '|อิอิ|', '|ไม่|ถึง|', '|3|', '|atm', '|กรุงไทย|', '|เรียกว่า|', '|เป็นของ|', 'มี|', '|ค่ะ', '|point|', 'สอบถาม|ครับ|', '|eur|', '|รอบ|ที่', '6|', 'mobile|', '|scb_easy', '|mall|', '|ไม่งั้น|', '|หมายเลข|อ้างอิง|', '|next|', '|เปน|', '|ขออภัย|ค่ะ|', '|จะ|ได้|ไหม|คะ|', '|เย็น|', '|nav|', '|สมาร์ท|', '|จุด|', '_carestatus|', '|connect|', '|--', '|ไว้|ก่อน|', '|มี|สลิป|', '|ข้าราชการ|', '|เลือก|จ่าย|ด้วย|', '|air|', '|220|', '|netbank|', '|เหรอ|', '|ทิพ|ย|ประกันภัย|', '|7500|', '|s|21|', 'ใบสมัคร|ผม|ก็|จ|พ|หมดอายุ|แล้ว|', '|ยัง|ไม่|เข้า|เลย', '|บัตรเครดิต|bbl|', '|รอสาย|', '|ทำไม่ได้|', '|kbankxblackpink|', '|9000|', '|ขอบคุณ|ล่วงหน้า|ครับ', 'วันนี้|ตอน|', '|ต้อง|ใช้|', '|signature|', '|16.30|', '|วัน|ถัดไป|', '|uninstall|', '|ที่|ลง|', 'scb|', '|ถ้า|เกิน|', '|161|', '|spotify|', '|ตอนนี้|โต|แล้ว|', '|วัน|แล้ว', 'ประกัน|', '|18.30|', '|ไม่|ขึ้น|ใน|', '|เก็บ|ยิ่ง|นาน|', '|แต่|บัญชี|ปลายทาง|ไม่ได้|รับเงิน|', '|และ|', '|แล้ว', '|สัญญา|', '|90000|', 'kitisak|', '|เป็นการ|ผิดพลาด|ใน|การ|ตีพิมพ์|เอกสาร|', '|ธนาคาร|ghb', '|ทาง|kbank|', '|โอ้|ย|', 'มี|เบอร์|', '|คิว|ยาว|', '|เยน|', '|สอบถาม|นิดนึง|ค่ะ|', '|ธนาคาร|ธนาคารเพื่อการเกษตรและสหกรณ์การเกษตร|', '|ชม|', '|krungsri_jcb|', '|โทร|มา|', 'ซื้อ|ผ่าน|', '|แล้วจะ|ให้|ทำ|ยังไง|ได้|บ้าง|ครับ|', '|merchant|', '|อันนี้|ไม่|รู้ว่า|สรุป|เป็น|ยังไง|บ้าง|', '|แอป|เป๋า|ตัง|', '|pass|', '|คุย|', '|เป็นไร|วะ|', '|ซ่อม|ศูนย์|', '|ปี|กว่า|แล้ว|', '|ชื่อ|ธุรกิจ|โดย|ชื่อ|เจ้าของร้าน|', '|เหมือน|สมัยนี้|', '|ตอนนี้|ใช้|', 'ช่วงนี้|', '|gs|', '|แล้ว|บัตร|เก่า|คือ|จ่าย|ออนไลน์|ได้|', '|ทำ|', '|ของ|ทหาร|ไทย|', '|scb_easy|', '|to|', '|รบกวน|ช่วย|หน่อย|นะคะ', '|ดีมาก|เหมือนกัน|', '|ธ|', 'เมื่อ|เช้า|', '|the|1|', '|ต้อง|ไป|ทำ|ที่ธนาคาร|', '|ยัง|ไม่ได้|เลย|', '|ถ้า|เปิด|', '|จ่าย|ด้วย|', '|center|', '|port|', '|สแกน|หน้า|', '|life|', 'สวัสดี|', '|อีกครั้ง|', '|เพื่อ|ยืนยัน|ตัวตน|', '|พรุ่งนี้|', '|รายการ|', '|สงสัย|ว่า|', '|appscb|', 'ผม|มี|', '|ตาม|ข้อ|', '|card|', '|อ๋อ|', 'จ่ายเงิน|ผ่าน|', '|อยากจะ|ผ่อน|คอน|โด|ราคา|', 'แอป|', 'โป|ร|บัตร|', '|บาท|เอง|', '|อยู่', '|เมื่อ|วัน|ที่', '|มี|ยอด|เงินโอน|เข้า|', '|apps|', '|พนักงาน|เกือบ|ทั้งหมด|พูด|กับ|ลูกค้า|', '|กัน|แน่|', '|2.3|', '|ผม|เปิดบัญชี|', 'ได้|ดอกเบี้ย|', '|กู|', '|airways|', '|ไม่มี|ประวัติ|จ่าย|ช้า|ของ|ใบ|นี้|ครับ', 'kbank|ค่ะ|', '|งวด|ที่', '|จะ|ร้องไห้', '|wifi|', '|ขอ|สอบถาม|หน่อย|ค่ะ|', '|เดือน|ละ|', '|checking|', '|แก้|ด่วน|', '|เอ้า|', '10|263|', '|พอ|', '|72|', 'ที่|สำคัญ|', 'ขอบคุณ|', '|จะ|โอนเงิน|', '|กับ|พร้อมเพย์|', 'เรา|อยากจะ|ติดต่อสอบถาม|เรื่อง|การ|พัก|หนี้|ค่ะ|', '|5400|', 'น่าจะเป็น|', '11|43|', '|พอดี|', '|แจ้ง|ธนาคาร|', '|จาก|ตู้', '|อ่ะ|ค่ะ|', '|บ้าง', '|aia|', '|เอทีเอ็ม|', '|ต้อง|ทำ|ยังไง|คะ|', '|เงียบกริบ', '|ได้|เลย|ค่ะ|', '|2600|', '|เป็น|อะไร|อีก|', '|หรือ|กี่|ปี', '|กรุงเทพ|', '|นะ|ครับ|', '|got|7|keepspinninginbkk', '|บ้าน|', '|หุ้น|', 'สมัคร|สินเชื่อ|', '|36|', 'ขอ|สอบถาม|คะ|', '|ทำไม|นาน|จัง|', '|wow|', 'ไป|ขอ|สินเชื่อ|', 'เติมเงิน|', '|ก.|พ|', 'ตอน|', '|นะ|', '|ฐาน|เงินเดือน|', 'ป|ล|', '|จำกัด|', 'ขอ|สอบถาม|หน่อย|คะ|', 'ขอบคุณ|ค่ะ|', '|covid-|19|', 'grab|', '|แอ๊ป|', '|max|', '|ใช้เวลา|กี่|วัน|ครับ|', '|268|', '|โบนัส|', '|จะ|', '|อยู่|ไหม|คะ|', '|18|k|', '|1000|', 'k|', '|นาที', 'gsb|', '|speedy_cash|', '|เป็น|เหมือนกัน|ค่ะ|', '|ชั่วโมง', '|ทุกครั้ง|', '|มัน|ขึ้น|ว่า|', '|3', '|เปิด|บัญชีเงินฝาก|', '|ก็|เลย|รีบ|กด|รับ|สิทธิ์|เลย|', '|แบบ|ใช้|', '|cashback|', '|2.78|', '|.|co|.|th|', '|งวด|', '|1.5|', 'เป็น|เหมือนกัน|ค่ะ|', '|มีโอกาส|', '|card', '|แตก|', 'แม่|ง|', '|ธนาคาร|อื่น|', '|ktc', '|สอบถาม|ทาง|', '|รอคิว|', '|netflix|', '|ไทยพาณิชย์|', '|สินเชื่อ|เสริม|พลัง|ฐานราก|', '|ไม่ติด|บู|โร|', '|ผ่านไป|', 'สมัคร|บัตรเครดิต|', '|ใช้เวลา|', '|passion|', '|แย่|มากๆ|', '|otp|', 'ณ|', '|อิ|ห่า|', '|บัตร|หมดอายุ|', '|เปลี่ยนเป็น|เบอร์|', '|ทำไม|เข้า|ไม่ได้|อะ|', '|หมื่น|อัพ|', '|od|', '|10.28|', '|โทร|ถาม|', '|เป็นต้นไป|', 'baac|', '|ไป|คะ|', '|ถึง|', '|แจ้ง|คอลเซนเตอร์|', '|มายัง|', 'สมัคร|', '|ทาง|', 'tmrw|', '|13|', '|k-my|', '|2545|', '|ก็|ไม่|ผ่าน|', '|เสี่ยว|มี่|', '|24|', '|770|', '|เซ็ง|มากๆ|', '|ใหม่|', '24|', '|ใช้|ของ|', '|เวลา|ติดต่อ|', '|ขออภัย|', '|ขอความกรุณา|', '|ใช่ไหม|คะ|', '|routing|', '|โทร|', '|ระหว่าง|', '|35|', '|บอก|ให้|รอ|', '|call_center|', '|kbank|ไป|', '|ดอก|', '|โอนเงิน|', '|ทีนี้|', '|บริการ|ดี|มากๆ|', '|2500|', '25|', '|108|', '|ที่|', '|แบบนี้|ก็ได้|เหรอ|', '|หรือว่า|', '|ปลายทาง|', '|download|', '|order|', '10|', '|uob_privimile|', 'ผม|', '|ไป|ตั้งแต่|วัน|ที่', '|scb|.|', '|ต่างประเทศ|', '|มีปัญหา|หรือไม่|คะ|', '18|', '|gateway|', '|มัน|ของ|', '|16000|', '|by|', '|tmb', '|เปิด|พร้อมกัน|', '|ล่ม|หรือเปล่า|ครับ|', '|banks|', '|jlpt|', '|ที่|จ่าย|', '|อ่อ|', 'โทร|เข้า|', 'ควย|', '|แต่|ถ้า|', '|ready|', '|16.08|', '|ใช่|เรื่อง|ไหม|', '|journey|', '|takashimaya|', '|หนึ่ง|', '|เงินฝากประจำ|กรุงไทย|', '|ต|ป|ท|', '|mrr|', '|พอร์ต|', '|ค|ห|.|', '|กุมภาพันธ์|', '|เห็น|บาง|ธนาคาร|ไม่ต้อง|ใช้|แสตมป์|ภาษีอากร|', '|ปัง|มาก|', 'พึ่ง|รู้ว่า|', '|bangkokbank|', '|เห็น|', 'อ้าว|', '|เอง|', '|ก็|ใช้ได้|ปกติ|ครับ|', '|ปลายทาง|ไม่ได้|รับเงิน|', '|kbank_live|', '|scb_jcb|', '|มา|ใหม่|', '|ใบ|ของ|kbank|ครับ|', '|เพราะว่า|', '|ค่า|บ้าน|', '|โทร|กลับ|ไม่|เกิน|วัน|ถัดไป|', '|wave|', '|20|', 'krungsri|', '|ยอด', '|เลข|', '|ถ', '|ถาม|ทาง|', '|12.00|', '|เกี่ยวกับ|', '|เงินงวด|', '|up|2|me|', '|in|', '|รอ|นานมาก', '|ไม่ได้|แล้ว|', '|infinite|', '|ไป|ต่าง|ธนาคาร|', '|โอนเงิน|จาก|', '|กรกฎาคม|', '|2', '|ผม|ใช้|มา|', '|wongnai|', '|อย่าง|เรา|มี|kbank|', '|นี่|คือ|', '|สลาก|ธนาคารเพื่อการเกษตรและสหกรณ์การเกษตร|', '|จ้ะ|', '|วัน|ครับ|', '|pttgc|', '|kplus|', '|ถ้า|เป็น|', '|ไม่ใช่|', '|บอก|อี|กว่า|', '|ภายใน|วัน|ที่', '|แอป|ล่ม|', '|พนักงาน|บอก|ว่า|', '|โทร|ติดต่อ|ยากมาก|', '|เซ็ง|มาก', '|ก่อนหน้านี้|', '|coin|', '|thailand', 'เซ็ง|', '|tmb_absolute|', '_', '|ระยะเวลา|', '|ปี|แล้ว|ครับ|', '|120|', '|ฮา|ๆ|', 'krungthai_care|', '|แบบ|แรก|', '|ก็|สามารถ|', '|cap|', '|0.5|', '|5|', '|ไทยพาณิชย์', '7|', '|17000|', '|ไม่สามารถ|ดำเนินการ|ใดๆ|', '|55|', '|นะ|ครับ', '|ทุ่ม|ของ|มึง|เนี่ย|เหมือนกัน|เลย|จ๊ะ|', '|โฉนด|', '|เหมือนกัน|เลย|ค่ะ|', '|คือ|ยังไง|คะ|', '|แต่|บัตรเครดิต|', '|1599|', '|barcode|', '|pantip|', '|นาที|', '|streaming|', '|2645|', '|คัน|', '|จำนวน|', '|เพราะ|จริงๆ|', '|กด|ตัง|จาก|ตู้|ทหาร|ไทย|ได้|ถูกต้อง|ไหม|', '|สินเชื่อรถยนต์|', '|shopee|', '|เพื่อ|เปิดบัญชี|', '|sme|', '|ยอด|', '|ไปยัง|bbl|แต่|เงิน|ไม่|เข้า|', '|อีห่า|', '|เวง|', '|ซิ|ตี้|', '|แต่|ยอดเงิน|ไม่|เข้า|ปลายทาง|', '|parkjihoonfanconinbkk', 'สอบถาม|นะคะ|', '|บน|', '|เช็ค|สถานะ|', '|บาง|ธนาคาร|ต้อง|ใช้|', '|exclusive|', 'ที่|เรา|', '|ดี|ไหม|คะ|', 'จ่ายเงิน|', '|5000', '|คืน|', '|0.001|', '|140|', '|29000|', '|ต้อง|ใช้|บัตร|', '|ไหน|', '|ธนาคาร|นี้|', '|airasia|', '|หมด|', '|ของ|วัน|ที่', '|ให้|ความ|รู้สึกแย่|จัง', '|covid|', '|แต่|ไม่มี|สมุดบัญชี|', '|tfex|', 'เติมเงิน|จาก|', '|รีวอร์ด|', '|กว่า|บาท|', '|ควร|ทำ|ยังไง|ดี|คะ|', '|3500|', '|adobe|', '|มุ|แง|', '|15000|', '|back|', '|เสียดาย|', '|ทุกคน|', '|600|', '|ไหม|คะ|', '|aeon|', '|เฟิร์ส|ช้อย|', '|เจ้าหน้าที่|เต็ม|ทุก|คู่สาย|', '|เม.ย|', '|แบงก์|', '|19.00|', '|ขึ้น|รหัส|', '|1315|', '|me|', '|ทำไง|ดี|', '|ก็|ถอย|', '|cash', '|scb_connect|', '|เพื่อ|สะสมแต้ม|', '|ก่อน', '|verified|', '|แต่|ยัง|ไม่|เข้า|', '|ไม่ได้', '|ยื่น|ไป|', '|เข้าไป|แด|ใหม่|คะ|', '|mbanking|', '|400000|', 'ว่าแต่|', '|จะ|ได้|เตรียม|เอกสาร|ไป|ให้|ถูก|ครับ|', '|6|-|7|', '|เรียน|', '|ผม|ต้อง|ทำ|ยังไง|ครับ', '|btc|', '|กับ|บัตร|', '|2020|', '|ndid|', '|ได้|นะคะ|', '|เฉยๆ|', '|4.4|', '|ตัวอย่าง|', '|แจ้งเตือน|', '|มี|ค.|', '|หมื่น|บาท|', '|ผิด|เบอร์|', '|ไป|เข้า|', '|วันนี้|ครบ|', '|ทำ|ยังไง|ได้|บ้าง|คะ|', '|แต่|ยอดเงิน|ไม่|เข้าบัญชี|ปลายทาง|', '|scbsete|', '|แจ้ง|ว่า|ระบบ|การ|รับเงิน|ทาง|', '|foodpanda|', '|agoda|', '|30|-|40|', '|อีกที|', '|กี่|เดือน|', 'บัตร|หัว|', 'ของ|เรา|', '|website|', '|เป็นมา|', '|log|', '|ไม่ยุ่งยาก|', '|จ่าย|ดอก|ทุกเดือน|', '|ทำ|เรื่อง|', 'โง่|เอง|', '|bank|', '|สมุดบัญชี|', '|jitta|', '|บริการ|ดี|', '|gbp|', '|ว|', 'bbl|', 'มี|บัตร|', '|vpn|', '|ใช้|', '|walk|', '|เอา|บัตร|ป|ป|ช|.|', '|95|', '|mrt|', '|27000|', 'scb_connect|', '|เดือน|ค่ะ|', '|สีเทา|', '|ของ|ธนาคาร|ไหน|', 'เมื่อ|', '|ทั้งๆ', '27|', '|เลว|', '|เงิน|เยียวยา|', '|ขอให้|', '1|', 'งง|มาก|', '|invest|', '|ธนาคารกรุงไทย|', '|2330|-|0000|', '|ยัง|เป็น|นิสิต|อยู่|', '|แต่|แอป|', '|ก.พ.|', '|ไม่ได้|สักที|', '|ล่ม|อีกแล้ว|', '|อะไร|เนี่ย', '|ผ่าน|บัตร|', '|45|-|60|', '|เคพลัส|', '|ตัดเงิน|ใน|บัญชี|แล้ว|', '|tech|', '|ว่า|ตอนนี้|', '|105|', '|โดยเฉพาะ|', '|จะ|เอา|บัตร|กด|ยัง|ไม่ได้|อีก', '|เสียเวลา|มาก|', '|ปีก่อน|', '|รบกวน|สอบถาม|', '|จะ|ผ่าน|ไหม|', '|รวม|ๆ|', '|เป็น|อะไร|', '|ด้วย|ค่ะ|', '|กับ|ไทยพาณิชย์|', '|โทร|มา|แจ้ง|ยอด|ชำระ|ค่างวดรถ|วัน|ละ|', '|ไป|ติดต่อ|ธนาคาร|', '|เป๊ก|ผลิต|โชค|', 'พร้อมเพย์|ต้อง|ไป|ติดต่อ|กับ|ธนาคาร|เจ้าของ|บัญชี|เพื่อ|ลงทะเบียน|ผูก|บัญชี|เข้ากับ|หมายเลขโทรศัพท์|ครับ|', '|momo|', '|หัก|ยอด|', '|หมายถึง|', '|ช่วย|ตอบ|หน่อย|ครับ', '|internet|', '|ไม่ได้|ค่ะ|', '|เข้า|', '|โค|วิค|', '|ได้|หรือไม่|คะ|', '|มากกว่า', '|ธนาคาร|หยุด|ไหม|คะ|', 'ทำไม|', '|scbm|', '|pround|', '|เวรกรรม', '|สมัคร|บัตรเครดิต|', '|นี่|โอน|จาก|', '|เฮ้อ|', '|ตัด|ไป|', '|สาย|', '|lounge|', '|save|', '|เลย|โทร|ไป|ถาม|', '|ไว้|กับ|', 'เติมเงิน|ผ่าน|แอป|', '|bls|', '|transaction|', '|เงินเข้า|ทันที|', 'มีปัญหา|ใน|การ|เปิดบัญชี|', '|มา|ที่|เบอร์|', '|รีวิว|เกาหลี', '|ems|', '|แต่|ไม่ใช่|บัญชี|หลัก|', '|click|', '|uob', '|บ้าบอ|', '|อ้อ|', '|3|g|', '|ไป|ธนาคาร|', 'ป|ล.|', '|rate|', '|starbuck|', '|วินาที|', '|ติดต่อ|ธนาคาร|เจ้าของ|บัตร|', '|เท่าไหร่|', '|ขอบคุณ|ล่วงหน้า|ค่ะ|', 'chanathammakhon|', '|สะดวก|', '|บ้าน|ราคา|', '|ต้อง|ทำ|ยังไง|', '|ตอน|จำเป็นต้อง|ใช้|', '|application|', 'ดอกเบี้ย|', '|support|', '|booking|', '|ก่อน|ครับ|', '|11100|', '|แต้ม|', '|มี|เอกสาร|', '|31|', 'เจ้าของ|กระทู้|', 'จ่าย|', '|generali|', '|นาน|มากๆ|', '|พ.ย.|', '|เบอร์|แปลก|', '0|', '|งง|มาก', '|cdm|', '|ขอบคุณ|มากๆ|', '|10.32|', 'ปิดบัญชี|ฝากประจำ|ก่อนกำหนด|ได้|ไหม|', '|ของ|', '|ใช้งานง่าย|', '|โดยที่|ไม่ต้อง|ไป|ธนาคาร|', '|ทำให้|ปลายทาง|ไม่ได้|รับเงิน|', '|โอน|วัน|ที่', '|เหมือน|', '|บาท|ทุกเดือน|', '|ใช่|', '|app|', '|รอ|ไป|', '|kt-ashare|', '|17|-|01|-|2563|', '|สวัสดี|ค่ะ|', '|เมื่อวาน|ไป|ทำ|เรื่อง|ก็|ทำไม่ได้|', '|ค|ทบ|', 'รบกวน|สอบถาม|', '|เพื่อ|', '|34|', '|อายุงาน|', '|free|', '|รบกวน|ทาง|', '|30000|', '|ของ|bay|', '|หรือยัง|คะ|', '|transfer|', '|you|', '|300000|', '|สาขา|พระนคร|คีรี|', '|add|', '|พอ|วัน|ที่', '|ข้อเสีย|', '|ไม่|เลย|', '|2515|', '|rejected|', '|ต้อง|ติดต่อ|', '|ใคร|ที่ใช้|อยู่|รบกวน|แนะนำ|หน่อย|ครับ', '|stm|', '|1333|', '|icbc|', '|ต้นเดือน|', '|contactless|', '|10.2|', '|ต่างจังหวัด|', '|เสร็จ|', '|ไม่ได้|นับจำนวน|ครั้ง|ตาม|ลูกค้า|แต่ละคน|โอน|', '|แต่|ไม่|เข้า|ปลายทาง|', '|สถานะ|เหมือนเดิม|', '|โดน|', '|แม่|ง|', '|เงิน|โดน|หัก|', '|ั|', '|จะ|เป็น|', '|แต่|เงิน|ไม่|เข้าบัญชี|ปลายทาง|', 'มึง|', '|ไหม|คับ', '|น|', '|สัก|', '26|', '|live|', '|bdms|', '|33000|', 'หุ้น|', '|due|', '|ค่าธรรมเนียม|บัตร|', '|พอๆ|', '|วีซ่า|', '|ขึ้น|ว่า|ไม่|พบ|ข้อมูล|การ|สมัคร|', '|เน็ต|', 'pin|', '|1|-|2|', '|ผ่าน|ทาง|แอป|', '|ไป|พร้อมเพย์|ผูก|กับ|', '|ขอ|', '|.', '|รู้|ผล|ปุ๊บ|', '|แล้ว|ค่ะ|', '|ibanking|', '|bay|ไม่มี|บัญชี|', '|40|', '|แต่|ไม่มี|บัตร|', '|ปี|ที่แล้ว|', '|โต|ขึ้นมา|คุณ|เลย|เป็น|คน|รู้จัก|อดทนอดกลั้น|', '|ท|รู|มูฟ|หรอ|', '|แบบนี้|ต้อง|ทำ|อย่างไร|ครับ', '|คือ|อะไร|คะ|', '|อาชีพ|', '|ให้|ลูกค้า|', '|ไม่มี|บัตรเอทีเอ็ม|', '|ref|.|2|', '|kyc|', '|ipo|', '|ก็ได้|ครับ|', '|ใน|เวลา|', '|device|', '|ถ|', '|report|', 'ขอบ|สอบถาม|หน่อย|ค่ะ|', 'เรียน|', '|ขอบพระคุณ|มาก|ครับ', '|asia|', '|49|', '|ล่ม|หมด|', 'uob|', '|ฟรี|ค่าธรรมเนียม|', '|scblt|2|', '|ผ่าน|', '|และ|มี|', '|ยอด|ไม่|เข้า|', '|เพราะ|เงิน|ออกจาก|ธนาคารกรุงไทย|แล้ว|ครับ|', '|rabbit|', '|ครั้ง|ที่', '|ยืนยัน|ตัวตน|ไม่ได้|', '|บัตรประชาชน|', '|จน|ป่านนี้|', '|ต้อง|มี|', '|บ้าน|แล้ว|ไม่รู้|จะ|เอา|เงิน|ไป|ทำ|อะไร|ก็|ไปหา|ฝาก|ที่นี่|ก่อน', '|ตอนนี้|เหลือ|', '|อยู่|ๆ|', '|citibankgold|', 'โอนเงิน|ผ่าน|', '|x|', '|7|-|14|', '|gulf|', '|ฆ|ษ|ณ|', '|บาท|ถ้วน|', '|check|', '|scb_mobile|', '|ใช้งาน|ไม่ได้|', '|ป|ต|ท|', '|ใน|สาขา|', '|เท่า|', '|ใหม่ๆ|', '|080|', '|ประกันชีวิต|', '|เป็น|เบอร์|', '|รอ|นาน|ที่สุด|คือ|', 'เมื่อ|วัน|ที่', '|exchange|', '|น้อง|', '|วัน|ละ|', '|ontop|', '|ต่อ|', '|ลูกค้า|โอน|จาก|', '|ไม่รู้|จะ|ทำไง|แล้ว|', '|ช|.ม|', '|โค|วิด|', '|500|', '|นี่แหละ|', '|เรื่อง|มีอยู่|ว่า|', '|ส่ง|มา|ว่า|', '|ป|ช|ช|.|', '|gsb|', '5|', '|74|', '|มา|หลาย|วัน|', '|ไม่|แจ้ง|', 'และ|', '|1', '|เอ|อ|', '|ได้|แล้ว|', '|แย่|จริงๆ|', '|ไฟแนนซ์|ไทยพาณิชย์|โทร|มา|ทวง|', 'บัตรเดบิต|', '|ค่า|ประเมิน|', '|มี|บัตร|', '|ธนาคาร', '|499|', '|ห่วย|มาก|', '|รอบ|', '|ที|', '|ไม่มี|สลิป|', 'คุณ|', '|ดีกว่า|', '|มีข้อดี|', '|แล้ว|ค่ะ', 'โอนเงิน|ไป|แล้ว|', '|npl|', '|ขอความช่วยเหลือ|', '|ที่|ตู้', '|-|31|', '|มาถึง|', 'งง|', '|90|', '|150|', '|bts|', '|แต่|เงิน|ไม่|ออก|', '|สำเนา|บัตร|', '|โทร|ทุกวัน|', '|เดือด|ร้อนมาก|', '|โอนเงิน|จาก|ธนาคาร|', '|เซ็ง|', '|แย่สุดๆ|', '|internetbanking|', '|กี่|', '|สอบถาม|หน่อย|นะคะ|', '|12000|', '|ทำไง|ดี|ค่ะ', 'เตือนภัย|', '|เสีย|ค่าธรรมเนียม|อีก|', '|แต่|ไม่|เกิน|', '|ltf|', '|กับ|bay|', 'ปกติ|', '|ลูกค้า|', 'เบอร์|', 'ยืนยัน|ตัวตน|ที่|ตู้', '|cpall|', '|a|', '|ครั้ง|ตอนนั้น|', '|โอนเงิน|มา|ให้|แล้ว|ครับ|', '|ไม่ต้อง|ไป|ธนาคาร|', '|ฝากประจำ|', '|กับ|รหัส|', '|หนี้บัตรเครดิต|', '|300|', '|เงินเดือน|ผม|', '|จ่าย|รายเดือน|', '|ก็|ไม่มี|', '|ธรรมดา|', '|qr|', '|201|', '|ร|ร|', '|everyday|', '|ออ|ป|โป|', '|เป๋า|ตัง', '|อีก|', '|swift|', '|ของ|ธนาคาร|bbl|', '|ก่อน|จะ|มี|โครงการ|พัก|หนี้|ของ|ธนาคาร|ต่างๆ|', '|ไม่มี|บัตร|', '|ประทับใจ|', '|tmb_all_free|', '|นามสกุล|', '|ค้าง|', '|มึง|ติด|', '|ส่วน|ที่|ไม่ต้อง|เป็น|ผู้โดยสาร|ก็|เข้าไป|ใช้บริการ|ได้|', '|ต่างๆ|', '|คำถาม|คือ|', '|มาก', '|25|', '|สามารถ|จ่าย|ผ่าน|', '|หมายความว่า|', '|ซื้อของ|', '|บ.|ช|.|', '|เงิน|จะ|เข้า|พรุ่งนี้|', '|ๆ|คะ', '|โดยที่|เรา|ไม่ได้|เข้า|', 'รบกวน|', '|up|', '|อยู่แล้ว|', '|ใน|ใบแจ้งหนี้|จ่าย|', '|dm|', '|2140|', '|พอ|มา|เจอ|ข้อความ|นี้|', 'citibank|', '|รบกวน|ผู้รู้|ทุกท่าน|ด้วย|ค่ะ', '|วัน|เหมือนเดิม|', '|2.8|', '|7000|', '|599|', '|35000|', '|โอนเงิน|ไป|', '|ใช้|แต่|', '|3000|', '|ไป|อีก|', 'โอนเงิน|พร้อมเพย์|จาก|', 'ถ้า|', '|ซื้อได้|จนถึง|', '|dolfin|', '|บริษัท|', '|พูดจา|แย่มาก|', '|เช่นกัน|ค่ะ|', '|กรุงไทย', '|ของ|ทุกเดือน|', '|ตั้งแต่|ปี|', '|แล้วจะ|เอา|เงิน|ไป|ทำ|อะไร|ดี|นะ|', '|ราคา|หุ้น|', '|รบกวน|', '|scb-m|', '|1115|', '|4|g|', '|เจ้าหน้าที่|', '|axa|', '|แต่|ใช้ไม่ได้|', '|เซ็ง|มาก|', 'สอบถาม|ด้วย|ครับ|', '|ดี|', '|book|', '|อีดอก|', '|อาทิตย์|', '|ป|', '|19.35|', '|t_t', '|t|', '|เดี๋ยว|นะ|', '|โอนเงิน|เข้าบัญชี|', '|แล้ว|โหลด|แอป|', '|ซื้อ|ผ่าน|', '|ประมาณ|', '|บ|ลา|ๆ|', '|ชาย|คน|หนึ่ง|', '|_', '|อ่ะ|', '|มัน|', 'ใช่|ค่ะ|', '|1.2|', '|เจ้าหน้า|ที่แจ้ง|ว่า|', '|เรา|ไม่|ทิ้ง|กัน|', '|กด|ไป|', '14|', '|e-statement|', '|steam|', '|เงิน|ไม่|เข้า|', '|กุ|ปวดหัว', '|ภายใน|', '|true|', '|กดเงิน|ไม่ได้|', '|ดาว|น|์|', '|ใน|วัน|ที่', '|2600000|', '|ถ้า|', '|หรือ|มากกว่า|', 'เข้า|แอป|', '|bookbank|', 'เจอ|เหมือนกัน|', '|ที่|เป็น|ธนาคาร|', '|ทาง|เพจ|', '|เหลือ|แค่|', '|ไว้|ไหม|คะ|', 'สอบถาม|ธนาคาร|', '27|1163|', '|ทั้งๆ|', '|ครับ|', '|ครับ', '|t|1|', '|โยน|กัน|ไป|โยน|กัน|มา|', '|รอบ|แล้ว|ค่ะ|', '|เลขที่บัญชี|', '|รอ|มา|', '|แต่|ใช้ไม่ได้|คะ|', '|กอง|', '|ล่ม|เก่ง|', '|pvd|', '|แสก|น|', '|จ้า|', '|62|', '|เดือน', '|sms|', '|ธนาคาร|ไหน|', '|ktb', '|เบอร์|โทร|', '|ม.|ค|', '|เรา|ชนะ', '|ผม|อยาก|ถาม|ผู้รู้|ครับ|ว่า|', '|ก|ยศ|', '|ได้|แล้ว|นะ|ครับ|', '|เหมือนกัน|', '|เหมือนเดิม|', '|kbankxblackpink', '|หายไป|ไหน|', '|ไป|ทำ|ที่|ตู้', '|สำหรับ|ผม|', '|privilege|', '|ก|ย|ศ.|', '|บิ๊ก|ซี|', '|เป็น|', '|ตั้งแต่|เมื่อวาน|', '|ผม|เลือก|', '|ใดๆ|', '|retention|', '22|072019|', '|เรา|ควร|ทำ|ยังไง|', '|สินเชื่อหมุนเวียน|', '|วันนี้|', '|วอ|ล|เลต|', '|อะไร|', '|10|k|', '|แจ้ง|บัญชี|ของ|คุณ|ผิดปกติ|', '|ของ|ธนาคารกรุงไทย|คือ|แย่มาก|', '|ยัง|ไม่มีใคร|ติดต่อ|กลับมา|', '|ล้าน', '|แย่|แย่|แย่', '|ได้|ไหม|ครับ', '|สตางค์|', '|อยาก|', 'callcenter|', '|วันนี้|ระบบ|ของ|ธนาคาร|ปรับปรุง|เหรอ|คะ|', '|หน่อย|ค่ะ', '|บอก|ระบบ|ยังไม่เสร็จ|', '|นะ|จ๊ะ', '|play|', '|2|g|', '|อิ|', '|นะคะ|', '|ของ|ประเทศ|', '|ibank|', 'ขออนุญาต|สอบถาม|ค่ะ|', '|เหลือ|ง|', '|ในนาม|บริษัท|', '|ตู้|แต่|ไม่มี|แบงก์|ย่อย|จ่าย|เลย|', '|passport|', '|เลย|โทร|ไป|', '|นี่|นะ|', 'ทำไม|แอป|', '|650|', '|18.00|', 'เติมเงิน|ผิด|เบอร์|ค่ะ|', '|ธนาคาร|แจ้ง|ว่า|', '|ดังนั้น|', '|from|', '|ขั้นต่ำ|เปิด|พอร์ต|ห้า|แสน|บาท|', '|mask|', '|2200|', '|ฝาก|', '|แล้วก็|', '|สุดท้าย|คุณ|ก็|หยอด|จน|เต็ม|', '|เดบิต|', '|ต้อง|ทำ|ยังไง|ครับ|', 'ไหน|ๆ|', '|แบบนี้|', '|easynet|', '|กด|เข้าไป|', '|แล้ว|กด|', '|200|', '|เท่านั้น', '|รหัส|', '|รอ|นานมาก|', '|เลือก|', '|27|', '|badservice', 'บัญชี|', '|งง|มาก|ครับ|', '|ssf|', '|ก็|ยัง|เงียบ|เหมือนเดิม|จน|เกือบ|ถึง|รอบ|ชำระ|', '|วอ|เลต|', '|ช่วงเวลา|', '|จะ|โดน|หัก|ดอกเบี้ย|รายวัน|ไหม|ครับ|', '|ตัวเอง|ได้|', '|เข้า|ไม่ได้|', '|thai|', '|ไม่|หยิบ|เงิน|ออกจาก|ตู้|', '|id|', '|tmb|.|', 'พอ|', '|มี|ข้อความ|จาก|', '|ปี|แล้ว|', '|ไม่ต้อง|ผูก|ใหม่|', '|จนถึง|ตอนนี้|', '|กด|ฟรี|ทุก|ตู้|', '|7600|', '|หุ้น|ไทย|', '|city|', '|11|', '|ต่อ|ปี', '|44|', '|confirm|', '|เป็นหลัก|', '|เบอร์|เติม|ผิด|', '|และ|ไม่สามารถ|', 'โอนเงิน|จาก|ธนาคาร|', '|ให้|รอ|', '|เงิน|หัก|จาก|บัญชีธนาคาร|แล้วแต่|ยอด|ใน|แอป|เป๋า|ตัง|ยัง|เป็น|', '|มีเงิน|', '|youtube|', '|ล่ม|หรอ|คะ|', '|แต่|สมัคร|', '|คิว|', '|wisdom|', 'โอน|จาก|กรุงไทย|', '|mint|', '|เมื่อคืน|', '|ไม่เคย|กู้|อะไร|กับ|กรุ|ศรี|คับ|', '|โยน|ไป|', '|ขอคำแนะนำ|หน่อย|ค่ะ|', '|มี|ใคร|พอ|ทราบ|บ้าง|ไหม|คะ|', '|น', '|จะต้อง|รอ|ถึง|เมื่อไหร่|', 'อ|ห|', '|ค่า', '|data|', '|พัก|ชำระหนี้|', '|contact|', '|ปี|คะ|', 'โอ้|', '|รวย|', '9|', '|5|g|', '|คนละ|ครึ่ง|', 'เป็น|ธนาคาร|', '|บาท|ต่อ|ปี|', '|แป๊บเดียว|ได้|เงิน', '|ก็|ไม่มี|คนรับ|', '|แล้ว|เรา|ลงทะเบียน|ไป|วัน|ที่', '|บอก|เลย|', '|ชื่อ|ญาติ|', 'ใน|', '|2.5|', '|แต่|เงิน|ไม่|เข้า|', '|เดือน|แล้ว|ค่ะ|', '|พร้อม|ดอกเบี้ย|', '|19', '|ผม|อายุ|', '|ระบบ|เป็น|อะไร|ครับ|', '|อิ|เหี้ย|', '|วัน', '|ก.|ย|.|', '|ทำ|มา|', '|your|', '|เป็น|ส่วนลด|', '|หน่อย|ค่ะ|', '|อื่นๆ|', '|bankkokbank|', '|ขอนแก่น|', '|มา|ครับ|', '|บาท|ครับ|', '|ไม่มี|ครับ|', '|update|', '|เลย|นะคะ|', '|แล้ว|ว่ะ|', 'call_center|', '|จน|วันนี้|เพิ่ง|มี|หมายศาล|ส่ง|มา|ที่บ้าน|ที่|', '|ถูก|', '|วิ่ง|ก่อน|', '|ตาม|รูป|', '|opened|', '|แฟน|ทำ|เมื่อวาน|ผ่าน|แล้ว|คะ', '|บริการ|', '|โอ้|ย', '|ขอบคุณ|มาก|ครับ|', '|ก่อน|ค่ะ|', 'แล้ว|', '|my|', '|21|', '|tt|', '|คะแนน|', '|เท่านั้น|', '|แค่นั้น|', '|ไม่สามารถ|ทำ|รายการ|ได้|', '|mpass|', '|ดู|สรุป|ยอด|ซื้อ|', '|แต่|อัน|ที่|ท้อป|อัพ|', '|ใคร|ใช้|', '|ได้|เลย', '|truewallet|', '|ส่วน|บัตรกดเงินสด|', '|มือถือ|หาย|', '|มัน|มีระบบ|คล้ายๆ|', '|แม้แต่|บัตร|', '|70000|', '|อี|เหี้ย', '|ตัด|บัตร|', '|อี|เวง|', '|ขาย|', '|900|', '|scb_thailand|', '|ยัง|ไม่ได้|คุย|กับ|เจ้าหน้าที่|เลย|', '|จาก|บัญชี|', '|โทร|ไป|คอลเซนเตอร์|', '|ทอง|ๆ|', '|ขึ้นไป|', '|it|', '|ตาม|หัวข้อ|เลย|ค่ะ|', '|รอสาย|นานมาก', '|กรอก|ข้อมูล|แล้ว|', 'ใคร|ใช้|', '|แอป|กรุงไทย|', '|คือ|อะไร|', '|มือถือ|', '|เชียงใหม่|', '|มี|ไหม|', '|ถาม|พนักงาน|ที่|สาขา|บอก|ว่า|ใช้ได้|', '|ณ', '|64', '|วีโว่|', '|link|', '|เขา|บอก|ว่า|', 'แต่|', '|จำนวนเงิน|', '|บาท|ต่อ|เดือน|', '|ไร|งี้|', '|แล้ว|มี|', '|credit|', 'อยู่|ๆ|', '|ใช้เวลา|ประมาณ|', '|รบกวน|ด้วย|นะคะ|', '|web|', '|station|', '|สุดท้าย|', '|บอก|ว่า|รีบ|เร็ว|เด่|ว|เต็ม|นะ|', '|ก็|ล่ม|', '|protection|', '|แต่|จริงๆ|', 'ผ่อน|รถ|กับ|', '|tmrw|', '|พอดี|ว่า|', '|23.00|', '|เงียบกริบ|', '|เน็ต|ก็|ไม่ได้|', 'เอ|', 'atm|', '|transferwise|', '|cheque|', '|smebank|', '|limited|', '|sbc|', '|บัตร|', '|ป|ล.|', 'สอบถาม|', '|คอลเซนเตอร์|', '|20.57|', '|ง|อง|', '|399|', '|kma|', '|e-mail|', '|payment|', '|ทำ|บัตร|', 'โอน|จาก|', '|อาทิ|', '|บ้าง|ค่ะ|', '|เหลือ|', 'โทร|ไปหา|', '|32300|', '|visa|', '|society|', '|ไปยัง|', '4|', 'ของ|', '|40|k|', '|ลง|', '|มี|แอ|ฟ|', '|mobile|', '|ได้แก่|', '|โอน|เวลา|', 'แล้ว|ทำไม|', '|บาท', '|รวมทั้งสิ้น|', '|แสดง|ว่า|', '|เพื่อน|ๆ|', '|ดีๆ|', '|ขอบคุณ|คับ', '|บาท|ต่อ|คะแนน|', '|ไทย|พา|นิส|', '|เข้าบัญชี|', '|blackpink|', 'แอป|ธนาคาร|', '|สมัคร|ผ่าน|', '|2750|', 'แย่|', '|ใคร|รู้|บอก|หน่อย|นะคะ|', '|เมลล์|', '|jaymart|', '|wise|', '|scbs', '|30|', '|จบ|', '|แล้วก็|ส่งจดหมาย|แจ้ง|ว่า|', '|ด้วย|ไหม|', '|ไปที่|', '|cimb|', '|ยกตัวอย่างเช่น|', '|ซื้อ|หวย|', '|4', '|2019|', '|70|', '|หัก|', '|แสน', '|ธนาคาร|อื่นๆ|', '|ทะเบียน|พาณิชย์|', '|23.48|', '|ไม่|ผ่าน|เกณฑ์|', 'วันนี้|ไป|ธนาคาร|ถาม|พนักงานธนาคาร|ถึง|การ|นำส่ง|ข้อมูล|บัญชีเงินฝาก|ไปยัง|กรมสรรพากร|ที่|มีเงื่อนไข|ว่า|รับ|โอน|', '|ก็ได้', '|ถัดไป|', '|แพลทินัม|', '|ต้อง|ยืนยัน|', '|gmarket', '|ไป|ไหม|นะ|', '|มั้ง|', '|การ|ขอ|เพิ่มวงเงินถาวร|', '|customer|', '|atm|.|', '|28|', '|พอ|กลับมา|ที่|', '30|', '|ไม่|ต่ำกว่า|', '|กว่า|ๆ|', '|เสีย|', '|ไม่เคย|ติด|', '|มา|นาน|', '|ถอนเงิน|วันนี้|นะคะ|', '|ไปที่|สาขา|', '|สอบถาม|หน่อย|ค่ะ|', '|รบกวน|ขอคำแนะนำ|ด้วย|ครับ|', '|ชาติหน้า|คะ|', '|euro|', 'เปิด|', '|เข้า|ไม่ได้|เลย|', '|แลกเงิน|ตาม|โป|ร|', '|ตลาดนัด|', '|of|', '|320|', '|เสีย|ค่าธรรมเนียม|', '|ดอกเบี้ย|ใน|เอกสาร|ใบแจ้งหนี้|', '|ไม่|ผ่าน|', 'ผม|สมัคร|บัตร|', '|100000|', '|จริงๆ', '|ขอ|ข้อมูล|', '|ด้วย|ครับ|', '|รบกวน|ตรวจสอบ|ให้|ด้วย|ครับ|ฝ', '|bitcoin|', 'suphakit|', '|ส่วน|', 'ของ|ผม|', '|ช้า|มาก|', '|ไลน์|', 'ยื่น|', '|ไม่ทราบ|ว่า|', '|ไม่ได้|เลย|', '|อายัด|', '|ไอ|', '|ไป|ยืนยัน|ตัวตน|ที่|ตู้', '|นานมาก|แล้ว|', '|ktb|กรุงไทย|', '|ก็|สมัคร|', 'scb_easy|', '|เวลา|กลับ|ไปที่|กรม|ทหาร|บ้าน|เก่า|ใน|กรม|มัน|จะ|มี|แต่|ตู้', '|investing|', '|เป็นบ้า|หรอ|', '|เยอะ|ๆ|', '|รอบ|ไม่|ผ่าน|', '|ขอบคุณ|ค่ะ|', '|ของ|วันพรุ่งนี้|', '|ยัง|ไม่ได้|', '|ต่อ|ปี|', '|หรือไม่|ผ่าน|', '|umay|', '|scbset|50|', '|ตั้งแต่|', '|ทำให้|', '|เมื่อ|กลางเดือน|ไป|เปลี่ยน|จาก|บัตร|', '|เติม|เงินเข้า|', '|ได้|วัน|ที่', '|8|', '|แต่|ทาง|', '|ห่วย|', '|และ|ใช้|วงเงิน|ค้ำประกัน|ต่ำสุด|กี่|บาท|ได้|บัตร|ประเภท|ไหน|บ้าง|ครับ', '|dec|', 'ผม|อยาก|สมัคร|', '|scb_prime|', '|ถ้า|ส่ง|บัตร|มาแล้ว|ยัง|ใช้ไม่ได้|ใช่ไหม|ครับ|ถ้า|เชื่อม|กับ|แอป|', '|เป็นต้น|', '|สมาชิก|ว่า|', 'เพื่อน|ๆ|', 'บัตร|', '|3.|', '|20.00|', '|นานมาก|', '|กะ|', '|คำถาม|', '|520|', '|1|-|3|', '|37000|', '|scbx|', '|10.00|', '|50|k|', '|ไป|ครับ|', '|ด|', '|นาที|แล้ว|', '|ไป|ธนาคาร|อื่น|', '|ktsf|', '|a-mobile|', '|ก็|ให้|ติดต่อ|', '|หัก|ต้น|ไป|แค่|เดือน|ละ|', '|arkk|', '|10|', '|ที่|บริษัท|', '|โทร|เข้า|', '|ห่วย|ๆ|', '|ทั้ง', '|ก็|ยัง|ไม่|เข้า|', '|เป็นไร|อะ|', '|2130|', '|grow|', '|traveloka|', '|offer|', '|109|', '|แจ้ง|มา|ว่า|', '|แต่|ยอด|ไม่|เข้า|', '|design|', '|เถอะ|', '|จบ|ข่าว|', '|หลัง|ๆ|', '|ทาง|ธนาคาร|', '|นะ', '|ม.|ค.|', '|ยัง|มี|', '|อะ|', '|เท|วินทร์|', '8|', '|ผ่อน|ตก|ล้าน|ละ|', '|user|', '|แง|', 'ขอบคุณ|มากๆ|', 'ปิดบัญชี|', '|อ|ห|', '|ดี|ไหม|', '|ตัว|', '|youtrip|', '|ได้|ครับ', '|ลองดู|นะคะ', '|เพิ่มเติม|', '|ไม่|ได้รับ|', '|แต่|หักเงิน|จาก|บัญชี|', '|รองรับ|', '|30|k|', '|ก็|', '|siam|', '|โทร|หลาย|รอบ|', '|แล้า|', '|ธนาคาร|ค|', '|1295|', '|กรุงไทย|เน็ค|', '|จ.|เพชรบูรณ์|', '|มี|บัตรเดบิต|', 'อิ|', '|ปลายทาง|kbank|', '|margin|', 'เรา|เลย|โทร|ไป|ที่', '|เดิม|', '|2700|', '|หักเงิน|ใน|บัญชี|ไป|แล้ว|', '|ติด|', '|แต่|เงิน|ยัง|ไม่|เข้า|', '|truemoney|', '|มา|', '|cost|', '|ไม่ดี|', '|ได้|ค่ะ', '|02|', '|หรือ|อะไร|', '|วัน|นะคะ|', '|amount|', '|เฟส|', '|kbank|เอาเปรียบ|บ|ลิงค์|', '|scb_m_live|', '|ผม|ก็|', '|global|', '|nikecom|', 'ทุกคน|', '|1800|', '|ข้อมูล|บัญชี|หาย|ใคร|เป็น|บ้าง|ครับ|', '|9.00|', '|ใบ|ค่ะ|', '|เขา|เลย|ป|ริ้น|ให้|', '|tesco|', '|หลาย|รอบ|แล้ว|', '|ราย|', '|ได้|ประมาณ|', 'windy|', '|สัปดาห์|', '|ไม่|', '|ล่ะ|', '|เลย', '|มูลค่า|', '|17|', '|เช็ค|', '|จ้า', '|แต่|ไม่|เข้า|', '|keptbykrungsri|', '|ก็|ไม่|เข้า|', '|100|k|', '|โอน|จาก|kbank|', '|ฮ่องกง|', '|ผูก|', '|จะ|ผ่าน|', '|ก|', '|40000|', '|prestige|', '|ตัว|ท้าย|', '|process|', '|ละ|', '|ไม่ได้|', '|paste|', '|เปิด|ๆ|', '|ไป|เลย|', '|อายัด|บัตร|', '|อัปเดต|', '|ขออนุญาต|', '|ครั้ง|และ|ยอดเงิน|', '|อาทิตย์|แล้ว|', '|พ|.ย|', '25|320|', '|นอกจาก|', '|ลดเหลือ|', '|หรือเปล่า|', 'krungthai_next|', '|บาท|', '|ก็|เป็นส่วนหนึ่ง|ครับ', '|ของ|บัญชี|', '|ace|', '|20930|', '|ยัง|ไม่|เข้า|', '|scb_my_travel|', '|ทำไม|', '|beyond|', 'เป็น|', '|ต้อง|รอ|', '|พอ|เข้าไป|จะ|สมัคร|จริงๆ|', '|iphone|', '|เข้าใจ|ว่า|', '|care|', 'อยากให้|', '19|', '|ธนาคาร|หนู|เงิน|ประมาณ|', '|สรุป|คือ|', '|2.49|', '|ตั้ง|', '|facebook|', '|โมง|ครึ่ง|', '|สถาบันการเงิน|ชื่อดัง|', '|9|', '|วัน|ที่', '|ค่าบริการ|', '|ava|', '|ใช่ไหม|', '|บลจ|', '|out|', '|major|', '|บางที|', '|นะคะ', 'cigna|', '|ฉะนั้น|', '|โทร|ไปหา|', '|เรา|จะ|ไม่|ทิ้ง|กัน|', '|อยาก|ทุบ|นัก|ไอ้|ต้าว|กระปุก|หมู|นี่|', '|ไม่|รองรับ|', '|โทร|เป็น|ชาติ|', '|กด|ใน|', '|paywave|', '|ละ|เพิ่ม|', '|ดีจัง|', '|บ|', '|งวด|แรก|', '|ประทับใจ', '|นานไป|ไหม|', '|ม.|', '|western|', '|หัวใจ|ของ|เรา|มัน|จะต้อง|', '|bunnytrader|', '|อื่น|', '|ไม่ได้|ค่า|', '|มี|แล้ว|', '|ttb|', '|ไม่ได้|ครับ|', '|ร้าน|ป|ริ้น|ยัง|ไม่|เปิด|นี่|เลย|จะ|เปิดบัญชี|เพื่อ|จ่ายเงิน|', '|เอกสาร|ครบ|', '|โทร|หา|', '|เท|ค|ไป|', '|ของ|ทั้ง', '|125|', '|ตอน|', '|timeout|', '|ธนาคาร|ล่ม', '|-|19|', '|เยอะมาก|', '|ค่า|', '|ควย|', '|แล้ว|เข้า|แอป|ไม่ได้|เพราะ|กด|รหัส|ผิด|เกินกำหนด|', '|ส่ง|', '|เกาหลี|', '|tg|', '|inbox|', '|ใช่ไหม|ครับ|', '|ของ|bbl|', '|ทั้ง|', '|ยกเลิก|', 'kbank_live|', '|จำเป็นต้อง|ใช้|เงิน', '|รึ|', '|หรือ|ต้อง|เสีย|เงิน|ไป|เปล่าๆ|', 'รบกวน|สอบถาม|ครับ|', '|ฉบับ|', '|ไป|ตู้', '|gen|', '|เป็น|ไฟแนนซ์|ไทยพาณิชย์|ก่อนหน้านี้|', 'กรุงเทพ|', '|จาก|เดิม|', 'ติดต่อ|ไปที่|คอลเซนเตอร์|ของ|ทาง|กรุงไทย|', '|นานๆ|', 'tmb_all_free|', '|กันยายน|', '|จน|เรา|ติดต่อ|เข้าไป|เป็น|ครั้ง|ที่', '|ครั้งละ|', 'จาก|', '|เลือก|ถอนเงิน|ไม่|ใช้|บัตร|', '|ขอ|ถาม|หน่อย|ค่ะ|', 'สินเชื่อบ้าน_scb|', '|แต่|หมดเขต|วันนี้|แล้ว|', '|ประเมิน|', '|ต้อง|ทำ|อย่างไร|', '|บาง|สาขา|', '|easypass|', '|ไว้|ใน|', '|โอน|เงินเข้า|', '|friendtag|', 'ลอง|ไป|ใช้บริการ|กับ|พนักงาน|เค้า|', '|ส่ง|มา|', '|g|', '|สะดวกมาก|', '|วัน|แล้ว|ค่ะ|', '23|', '|แค่|', '|จู่ๆ|', '|ธนาคาร|ไม่ได้|เป็นเจ้าของ|', '|ซิ|ม|', '|แหะๆ|', '|เพราะอะไร|', '|gsb', '|10.02|', '|hack|', '|63', '|หมุนเวียน|และ|', 'android|', '|ถ้า|ติด|แบล็คลิสต์|', '|แปล|ว่า|', 'ขอ|', '|เลขบัญชี|', '|ไม่|ระบุ|แบบ|', '|ค่ารถ|', 'เมื่อวาน|', '|ใคร|รู้|บ้าง|', '|ไป|ยืนยัน|ที่|ตู้', '|เปลี่ยน|มา|', '|แต่|ของ|', '|ระบบ|แจ้ง|ว่า|', '|ยัง|ไม่|เข้า|เลย|ครับ', '|ค|', '|แล้ว|ครับ|', '|เหมือนกัน|ค่ะ|', '|for|', '|เห้อ', '|jp|', '|00.00|', '|.|', '|ได้|ไหม|ค่ะ|', '|citi_ready|', 'scb_first|', '|option|', '|จนถึง|บัดนี้|', '|ย้อนหลัง|', '|ยืนยัน|', '|press|', '|คุณ|', '|usd|', '|หมายเลข|', '|citi_premier|', '|490|', '|ยัง|เป็น|', '|fix|', '|emoji|', '|หมื่น|', '|เฮ้อ', '|อี|', '|ขอคำแนะนำ|หน่อย|ค่ะ', '|backup|', '|8900|', '|3.5|', 'ใน|แอป|', '|โค|วิด_19', '|tt', '|จน|ผ่านไป|เป็น|เดือน|แล้ว|', '|3|-|5|', '|ทำ|ยังไง|ดี|ครับ', '|เป็นเวลา|', '|อ่าว|', '|ขอบคุณ|นะคะ|', '|นึกคิด|', '|kfc|', '|แก้ไข|อย่างไร|', '|แอป|ควย|', '|โทร|สอบถาม|กับ|bbl|', '|vat|', 'มี|บัตรเครดิต|', '|เรา|ยัง|ไม่ได้|ข้อความ|เหมือนกัน|ค่ะ|', '|เงิน|ไม่|ออก|', '|กับ|', '|ล่ม|บ่อย|มาก|', 'สวัสดี|ค่ะ|', '|ธนาคาร|', '|ติดต่อ|เจ้าหน้าที่|', '|คือ|ถ้า|', '|โทร|ไป|ถาม|', '|เนี่ย|', '|ไม่|ช่วย|อะไร|เลย|', '|บอก|', 'ghb|', '0|1012564|', '|17.30|', '|ไม่|เสีย|ค่าธรรมเนียม|', '|เจอ|', '|vs|', '|ติดต่อ|ไม่ได้|', '|got|7|keepspinninginbkk|', '|ปี|ขึ้นไป|', '|รบกวน|ตรวจสอบ|ให้|ด้วย|ครับ', '|เฉลี่ย|', '|เฮ้ย|', '|ธันวาคม|', '|เกิด|จาก|อะไร|คะ|', '|ไม่มี|สลิปเงินเดือน|', '|เรา|ไม่|ทิ้ง|กัน', '|ดัน|ใช้ไม่ได้', '|bualuang_m_banking|', '|atm|', '|ต้อง|ทำ|ยังไง|คะ', 'ติดต่อ|', '|e-saving|', '|ทำ|ยังไง|ดี|คะ|', 'tmb|', '|6896|', '|spoil|', 'แอป|เป๋า|ตัง|', '|ปิดบัญชี|', '|1300|', '|ยกเว้น|', '|ของ|บัญชีธนาคาร|นิติบุคคล|ที่|ปิด|ไป|แล้ว|ต้อง|ทำ|อย่างไรบ้าง|คะ|', '|รึ|เปล่า|ครับ|', '|หมด|เลย|', '|anan|', '|ใส่|จำนวนเงิน|', '|scb_mlive|', 'บัตรเครดิต|bbl|', '|scb|', '|itmx|', '|เข้ามา|ที่|ไทย|', 'รอ|ประมาณ|', 'เรา|ใช้|', '|code|', '|ทั้งหลาย|', '11|', '|1851|', '|ธนาคารกรุงไทย|ได้|', '|อ่าน|เงื่อนไข|อี|กรอบ|', '|pttep|', '|สอง|ล้าน|', '|jasif|', '|banking|', '|สด|', '|แต่|ไม่แน่ใจ|ว่า|', 'kbank|', '|ขอโทษ|นะคะ|', '|ตกลง|', '|นั่ง|', '|รอ|ดู|', '|mymo', 'next|', 'ยอมแพ้|ที่', '|ผม|เปิดบัญชี|ตั้งแต่|วัน|ที่', '|กัน|', '|8700|', '|คะ', '|เพราะ|บัตร|', '|กว่า|ปีก่อน|', 'ตาม|หัวข้อ|เลย|ค่ะ|', '|มากๆ|', '|งง|', '|แต่|ไม่|สามารถทำได้|', '|ใบ|', 'คล้ายๆ|', '|เงินเข้า|', '|ทำไม|เงิน|ไม่|เข้า|', 'คือว่า|ผม|สั่งซื้อ|', 'โอนเงิน|วัน|ที่', '|แต่|ถ้า|ไม่ใช่|', '|32|', '|oil|', '|โอน|ไป|', '|เซ|ง|', '|jitta_wealth|', '|45|', '|เจ|', '|คล้ายๆ|', '|แต่กลับ|ไม่มีใคร|โทร|มา|ทวง|เลย|กลับเป็น|ส่ง|', '|ของ|บัตรเครดิต|และ|', '|ป่า|รอยต่อ|', '|2400|', '|อีกแล้ว|', '|ประทับใจ|มาก|', '|มกราคม|', '|one|', '|ประกัน|', '|ใบ', '|ที่ธนาคาร|', '|tbank|', '|email|', '|วัน|', '|ออมทรัพย์|', '|digital|', '|มาร|', '|uk|', '|อาทิตย์|ละ|', '|error|', '|แล้ว|อย่างนี้|เรา|จะต้อง|ไป|ติดต่อ|ที่ไหน|ดี|คะ', '|welcome|', '|ไว้ใจ|เอา|เงิน|ไป|ฝาก|', '|ต้อง|ไป|สาขา|', 'ตาม|หัวข้อ|เลย|', '|เลิก|เบื่อ|', 'อยาก|ยกเลิก|บัตร|', '|ชั่วโมง|', 'ดอกเบี้ย|ออมทรัพย์|', '|gwallet|', 'แล้ว|แต่ละ|ธนาคาร|ใช้|เอกสาร|อะไรบ้าง|ครับ|', '|ได้|ด้วย|', '|krungsri|', '|หรือ|เหลือ|แค่นั้น|', '|สิ|ครับ|', '|แอป|ล่ม|หรอ|', '|ก็|ขึ้น|ว่า|', '|ก.ค.|', '|ล|ฯ|', '|หรือ|ป่าว', '|ตาม|', '|5500|', '|ถ้า|มัน|ไม่พลาด|ไป|', '|มี|ประวัติ|ล่าช้า|', 'เจ้าหน้าที่|', 'เจริญ|', '|เติม|ไป|', '|แต่|ประเด็น|คือ|', '|planetscb|', '|ไปรษณีย์|', '|เห้อ|', '|scb_family_plus|', '|ฮือ', '|คิดว่า|', '|bay|', '|จะ|มี|', 'ส่วน|', 'ใช้|', '|account|', '|กู้|ได้|', '|สมุทรปราการ|', '|มี|สลิปเงินเดือน|', '|14|', 'กรุงไทย|', '|เรื่อง|แอป|', '|ไป|kbank|', '|มิถุนายน|', '|platinum|', '|800|', 'กู้เงิน|กับ|', '|ตั้งแต่|วัน|ที่', '|tablet|', '|ครั้งแรก|', '|ฝ่าย|สินเชื่อ|', '|เดือน|แรก|', '|แอป|', '|จน|', '|ป|ช|ช|', '|เรา|ก็|ไม่สามารถ|ใช้|', '|กู้ร่วม|ได้|', '|6.6|', '|เอา|ง่ายๆ|', '|2018|', '|leasing|', 'ตู้|', '|แต่|ไหม|เข้าบัญชี|', '|ไม่|มีอาชีพ|', '|โปรด|ยืนยัน|ตัวตน|', '|ครับผม', '|5000|เรา|ไม่|ทิ้ง|กัน|', '|66|', 'บริการ|รับฝาก|', 'โอน|เงินเข้า|', '|ธนาคารไทยพาณิชย์|', '|บาท|ขึ้นไป|', '|แต่|ใน|', '|เอ่อ|', '|e|', '|ไม่|เกิน|', '|ใช่ไหม|คะ', '|โอนเงิน|ผิด|บัญชี|', '|แล้ว|ต้อง|ทำ|อะไรบ้าง|', '|โมง|', '|อย่างเดียว|', '|ผ่อน|กับ|', '|3.00|', '|got|7|', '|สะดวก', '|ชิม|ช้อป|ใช้|', '|55', '|ต้นทาง|กรุงไทย|', '|fast|', '|ตั้งแต่|เมื่อวาน|ตอน|', '|เพราะ|มี|', '|ไม่ได้|ใช้|', '|199|', '|เอง|ครับ|', '|มากกว่า|', '|ปิด|', 'กัน|', '|net|', '|ครึ่ง|', '|scbeasy|', '|1.3|', '|ปะ|', '|รวม|', '|บัตรกดเงินสด|', '|มี|การ|เรียกเก็บ|ค่าธรรมเนียมรายปี|', '|เข้า|เมื่อกี้|เลย|', 'รอสาย|', '|รอง|มา|', '|อยู่ดีๆ|', '13|', '|แต่|ทั้ง', '|เติม|ผ่าน|', '|มา|ใช้|', '|scbs|', '|รอ|ผล|', '|จะ|ใช้|เงิน|', '|ตอนนี้|เงินเดือน|', '|record|', '|รอบๆ|', '|ยัง|ไม่|ผ่าน|', '|แอ|ฟ|', '|7|-|8|', '|ทำไง|ครับ|', 'ขอ|สอบถาม|นะคะ|', '|ธนาคาร|ค.|', '|โอน|ไม่ได้|', '|ไหม|ครับ', 'kept|', '|เอ|', '|ตอนนี้|วัน|ที่', '|km|', '|simple|', '|หงุดหงิด|', '|เมย|', '|พร้อมเพย์|', '|กอง|เดิม|', 'ความคิดเห็น|ที่', '|โหลด|แอป|', '|อย่าง|', '2.|', '|พนักงาน|', '|เข้า|แอป|', '|ก็|ยัง|เหมือนเดิม|', '|เดือน|แล้ว|', 'สวัสดี|ค่ะ|เพื่อน|ๆ|', '|หลาย|รอบ|มาก|', '|โดยประมาณ|', '|เมื่อ|', '|63|', '|กรุงไทย_axa|', '|บัญชี|', '|ญี่ปุ่น|', '|ได้|ไหม|คะ', '|2017|', 'mymo|', '|ก.|ค|', '|dispute|', 'ktc|', '|กำไร|', '|ระวัง|หน่อย|', '|first_choice|', '|remind|', '|เลย|ครับ|', '|หรอ|ครับ|', 'สอบถาม|เพื่อน|ๆ|', '|scb_life|', '|ธนาคาร|ก็|หายเงียบ|ไป|', 'นาๆ|', '|กว่า|ปี|', '|บาท|ค่ะ|', '|be|', 'ขอ|สอบถาม|ผู้รู้|หน่อย|ครับ|', '|ตุลาคม|', '|อัตโนมัติ|', '|100|', '|2|xxxx|', '|จ่าย|ด้วย|บัตรเดบิต|ktb|และ|ผม|ได้|ทำ|การยกเลิก|การสั่งซื้อ|ไป|', '|ลอง|ดูๆ|', '|แจ้ง|สำเร็จ|', '|pay|', '|ได้|ภายใน|', '|ขออนุญาต|ถาม|หน่อย|ได้|ไหม|คะ|', '|คลิก|เพื่อ|ดู|ข้อความ|ที่ซ่อน|ไว้', '|อยากทราบ|ว่า|', 'atm', '|ของ|ผม|', '|safari|', '|คือ|', 'bay|', '|ร้อยละ|', '|หรือเปล่า|ครับ|', '|channel|', '|home|', '|ptt|', 'อยู่ดีๆ|', '|ไป|เข้าบัญชี|', 'ข้อเสีย|ของ|', '|บริษัทหลักทรัพย์จัดการกองทุนรวมจำกัด|', '|ธนาคาร|kbank|', '|robinhood|', '|ผ่อน|เดือน|ละ|', '|ปรากฏ|', '|ถือ|ยาว|', '|pc|', '|ยัง|ไม่มี|', 'k|8888|', '|ชำระเงิน|', '|รอคิว|นานมาก|', '|เงิน|ตั้ง|', '|200000|', '|ทำ|ยังไง|ดี|คะ', '|วันนี้|วัน|ที่', '|เป๋า|ตังค์|', '|bay', '|50000|', '|18.11|', '|ktef|', '|ในกรณีที่|', '|อยาก|รู้ว่า|', 'scb_thailand|', '45|', '|2021|', '|kerry|', '|ตลอด', '|แม่|', '|password|', '|250|', '|ark|', '|แต่|ไม่สามารถ|', '|จะ|ออกบัตร|กด|ฟรี|ได้|อย่างไร|', '|ลงท้าย|', '|activate|', '|scbb|', '|ตามปกติ|', '|สูงกว่า|', '|ค่ะ|.|', '|รับ|', '|ล้าง|ข้อมูล|ใน|มือถือ|', '|เพราะ|เรา|', '|ขอบคุณ|ครับ', 'สอบถาม|หน่อย|ค่ะ|', '|ได้|ลด|', '|งง|เลย', '|เรา|ใช้|', '|snoopy|', '|ก็|ให้|', 'นี้|', '|so|', '|ฟรี|', '|us|', '|22|', 'โทร|ติดต่อ|', '|เจ้า|', '|เวลา|ประมาณ|', '|ๆ|ค่ะ|', 'ที่|', '|sale|', '|make|', '|no|', '|passbook|', '|แทน|', '|เลย|', '|อี|ซี่|', '|ตอนนี้|คือ|', '|scbtmf|', '|แต่|จ่าย|ผ่าน|', '|ซึ่ง|', '|ในช่วง|', '|ก็|แล้ว|', '|10000|', '|ไม่|ใช้|เงิน|จนกว่า|จะ|เก็บ|ถึง|เป้า|', '|แต่|บัตร|ใหม่|ที่|เป็น|', 'บัตรเครดิต|', '|กลุ่ม|ที่', '|ม|ค|', '|หรือ|ไม่มี|', '|เหลือ|แต่|', '|เร็วๆ', '|1900|', '|airline|', '|23000|', '|เป็น|จำนวน|', '|sietongkum|', 'อี|สัส|', '|ที่อยู่|', '|ไม่ได้|ครับ', '|all|', '|ขอบคุณ|นะ|ครับ|', '|cardless|', '|สาธุ|', '|แต่|ยอดเงิน|ไม่|เข้า|', '|หนี้|', '|เวลา|', '|กู้|', '|คลิก|เพื่อ|ดู|ข้อความ|ที่ซ่อน|ไว้|ใส่|ข้อความ', '|แล้ว|ทาง|', '|จ่ายเงิน|', '|pic|.|twitter|.|comrw|84|ubnuum', '|แล้ว|ลง|ใหม่|', '|เรา|ก็|โทร|เข้าไป|อีก|', '|ติด|ต่อไป|ทาง|', '|12|', '|อยาก|บอก|ว่า|', '|ผล|ปรากฏ|ว่า|', '|จ่าย|ก่อน|', '|แสน|บาท|', '|7|', '|ทั้ง|ทาง|', '|2|-|4|', '16|', '|ทุกเดือน', '|username|', '|line', '|จาก|ต่างประเทศ|', '|สู้|', '21|', '|รอบ|แล้ว|', '|oppo|', '|แม่|จะ|จ่าย|งวด|แรก|ให้|ก่อน|แล้ว|ที่เหลือ|หนู|ผ่อน|', '|เดือนก่อน|', '|ให้|', '|7|-|11|', '|kbank_wisdom|', 'หลักๆ|', '|ยอด|จาก|อนาคต|ตอน|', 'อยาก|ถาม|ว่า|', '|เงิน|ไม่|เข้า|ครับ|', '|น.|', '|5.|', '|ดอน|เมือง|', '|ไม่มีภาระ|หนี้สิน|', '|ปล่อยกู้|', '|เร็วๆ|', '|แต่|เงิน|ไม่|เข้า|ครับ|', '|4000|', '|or|', '|ขอ|ประจาน|ตัวเอง|', '|ชาว|พันทิป|', 'ใช้|บัตร|', 'วันนี้|เวลา|', '|plus|', '|29|', '|โทร|ไม่ติด|ครับ|', '|อัพ|', '|ไหม|ค่ะ|', '|เอิ่บ', '|hr|', '|ที่ผูก|ไว้|', '|23163|', '|ชม.|', '|80|', '|ดี|ค่ะ|', 'แง|', '|ของ|กรุงไทย|', '|ฝาก|เบอร์|โทร|กลับ|', '|ของ|รัฐ|', '|กดเงิน|ไม่|ใช้|บัตร|ไม่ได้|ค่ะ|', 'วันนี้|แอป|', '|ตอน|ตี|', '|เสือก|บอก|ให้|กุ|ไป|ขอ|รหัสพิน|กับ|ธนาคาร|', '|ไป|แจ้งความ|', '|8.1.2020|', '|payroll|', 'ผม|ใช้|', '|ไป|ตอน|', 'เรื่อง|มีอยู่|ว่า|', '|สินเชื่อ|เพิ่ม|ได้|', '|nzd|', 'รี|ล่า|', '|ได้|หรือไม่|ครับ|', '|ไม่สำเร็จ|', '|ขอโทษ|ค่ะ|', '|61|', '|อยู่|ที่', '|อะไร|วะ|เนี่ย|', '1.|', '|ประกัน|สุขภาพ|', '|เลย|ค่ะ', '|ตัดยอด|', '|แอป|เป๋า|ตังค์|', '|อืม|', '|มา|ให้|', '|แสน|ต่อ|เดือน|', '|เป็น|ตั้ง|แตา|ก่อน|มี|กระแส|', '|จะ|ให้|', '|version|', '|scb', '|350|', '|งง', '|เข้า|พร้อมเพย์|กรุงไทย|', '|t-t', '|มี|เพื่อน|ๆ|', '|ปี|แรก|', '|หรือ|พี่|ๆ|', '|ผม|ว่า|', '|kjourney|', '|ต่อมา|', '|ของ|วันนี้|ให้|ลอง|เช็ค|ที่|บัญชี|ปลายทาง|ก่อน|ถ้า|ไม่|ได้รับ|ก็|ให้|เช็ค|พรุ่งนี้|อีกที', '|sch|', '|20000|', '|ผิด|'}\n"
          ]
        }
      ]
    },
    {
      "cell_type": "code",
      "source": [
        "#Turn Series into lists\n",
        "train_docs = train['Text_ws_local'].tolist()\n",
        "test_docs = test['Text_ws_local'].tolist()"
      ],
      "metadata": {
        "id": "IqgqeKFll7ti"
      },
      "execution_count": 10,
      "outputs": []
    },
    {
      "cell_type": "code",
      "source": [
        "from keras.preprocessing.text import Tokenizer\n",
        "from keras_preprocessing.sequence import pad_sequences\n",
        "\n",
        "tokenizer = Tokenizer()\n",
        "#one hot-enconding for the text like > https://stackoverflow.com/questions/69026891/what-is-keras-tokenizer-fit-on-texts-doing\n",
        "tokenizer.fit_on_texts(train_docs)\n",
        "encoded_docs = tokenizer.texts_to_sequences(train_docs)"
      ],
      "metadata": {
        "id": "A7Hp-D9ijQgZ"
      },
      "execution_count": 11,
      "outputs": []
    },
    {
      "cell_type": "code",
      "source": [
        "#Find the most max lengths of word in verbatims from both train and test\n",
        "max_length_train = max([len(s.split()) for s in train_docs])\n",
        "max_length_test  = max([len(s.split()) for s in test_docs])\n",
        "max_length = max([max_length_train, max_length_test])\n",
        "print(\"Max Length of Words: \", max_length)\n",
        "\n",
        "#Padding in order to equalize some verbatims that do not contain the same length of the max length verbatim\n",
        "Xtrain = pad_sequences(encoded_docs, maxlen=max_length, padding='post')\n",
        "#define the labels\n",
        "ytrain = np.array(train['Human_CategoryID'].tolist())"
      ],
      "metadata": {
        "id": "R7JbQ0qZmf0D",
        "colab": {
          "base_uri": "https://localhost:8080/"
        },
        "outputId": "81a64c40-2ef0-4525-aab3-2591d7ce8b28"
      },
      "execution_count": 12,
      "outputs": [
        {
          "output_type": "stream",
          "name": "stdout",
          "text": [
            "Max Length of Words:  66\n"
          ]
        }
      ]
    },
    {
      "cell_type": "code",
      "source": [
        "#Do the same for the test set\n",
        "encoded_docs_test = tokenizer.texts_to_sequences(test_docs)\n",
        "\n",
        "Xtest = pad_sequences(encoded_docs_test, maxlen=max_length)\n",
        "ytest = np.array(test['Human_CategoryID'].tolist())"
      ],
      "metadata": {
        "id": "oHTspdkypLeF"
      },
      "execution_count": 13,
      "outputs": []
    },
    {
      "cell_type": "code",
      "source": [
        "#Count unique classes\n",
        "print(train['Human_CategoryID'].nunique(), test['Human_CategoryID'].nunique())"
      ],
      "metadata": {
        "colab": {
          "base_uri": "https://localhost:8080/"
        },
        "id": "ILLDKYp3MX65",
        "outputId": "449e1a2c-11ff-4bb8-8a47-1397cc8f3617"
      },
      "execution_count": 14,
      "outputs": [
        {
          "output_type": "stream",
          "name": "stdout",
          "text": [
            "13 12\n"
          ]
        }
      ]
    },
    {
      "cell_type": "code",
      "source": [
        "#Count unique classes\n",
        "num_classes = max(train['Human_CategoryID'].nunique(), test['Human_CategoryID'].nunique())\n",
        "print(num_classes)"
      ],
      "metadata": {
        "colab": {
          "base_uri": "https://localhost:8080/"
        },
        "id": "VQcD2gdpNwkg",
        "outputId": "3762e052-96bb-4111-92ff-53b267769f01"
      },
      "execution_count": 15,
      "outputs": [
        {
          "output_type": "stream",
          "name": "stdout",
          "text": [
            "13\n"
          ]
        }
      ]
    },
    {
      "cell_type": "code",
      "source": [
        "from tensorflow.keras.utils import to_categorical\n",
        "\n",
        "#Multi class problems need one-hot encoding on y\n",
        "#why - 1 on ytrain and ytest? can follow the linke below\n",
        "#https://stackoverflow.com/questions/56204731/the-method-np-utils-to-categorical-give-me-an-error/59002957#59002957\n",
        "ytrain =  to_categorical(ytrain-1, num_classes=num_classes)\n",
        "ytest = to_categorical(ytest-1, num_classes=num_classes)"
      ],
      "metadata": {
        "id": "BWTwtb6tLUBE"
      },
      "execution_count": 16,
      "outputs": []
    },
    {
      "cell_type": "code",
      "source": [
        "vocab_size = len(tokenizer.word_index)+1"
      ],
      "metadata": {
        "id": "lvFEpT6zp8YY"
      },
      "execution_count": 17,
      "outputs": []
    },
    {
      "cell_type": "markdown",
      "source": [
        "#Model CNN (MaxPooling1D(pool_size=2)) 24.421594"
      ],
      "metadata": {
        "id": "hiGb5p29sWHt"
      }
    },
    {
      "cell_type": "code",
      "source": [
        "from keras.layers import Dense, Flatten, Embedding, BatchNormalization, Dropout\n",
        "from keras.models import Sequential\n",
        "from keras.layers.convolutional import Conv1D, MaxPooling1D"
      ],
      "metadata": {
        "id": "huOisC8Ysz-r"
      },
      "execution_count": null,
      "outputs": []
    },
    {
      "cell_type": "code",
      "source": [
        "#Define our model\n",
        "model = Sequential()\n",
        "\n",
        "model.add(Embedding(vocab_size, 50, input_length=max_length, trainable=True))\n",
        "model.add(Conv1D(filters=32, kernel_size=3, activation='relu'))\n",
        "model.add(MaxPooling1D())\n",
        "#MaxPool1D: pool_size=2: 28\n",
        "#MaxPool1D: pool_size = 2, strides = 2: 24.421594\n",
        "#MaxPool1D(): w/o specification: 26-30\n",
        "\n",
        "model.add(Flatten())\n",
        "model.add(Dense(256, activation='relu'))\n",
        "model.add(Dropout(0.25))\n",
        "\n",
        "model.add(Dense(num_classes, activation='softmax'))\n",
        "print(model.summary())"
      ],
      "metadata": {
        "id": "Ify0PvZ3sWzS",
        "colab": {
          "base_uri": "https://localhost:8080/"
        },
        "outputId": "b211a782-aafa-47c9-a7be-28161c172511"
      },
      "execution_count": null,
      "outputs": [
        {
          "output_type": "stream",
          "name": "stdout",
          "text": [
            "Model: \"sequential_30\"\n",
            "_________________________________________________________________\n",
            " Layer (type)                Output Shape              Param #   \n",
            "=================================================================\n",
            " embedding_30 (Embedding)    (None, 66, 50)            630450    \n",
            "                                                                 \n",
            " conv1d_23 (Conv1D)          (None, 64, 32)            4832      \n",
            "                                                                 \n",
            " max_pooling1d_4 (MaxPooling  (None, 32, 32)           0         \n",
            " 1D)                                                             \n",
            "                                                                 \n",
            " flatten_9 (Flatten)         (None, 1024)              0         \n",
            "                                                                 \n",
            " dense_49 (Dense)            (None, 256)               262400    \n",
            "                                                                 \n",
            " dropout_2 (Dropout)         (None, 256)               0         \n",
            "                                                                 \n",
            " dense_50 (Dense)            (None, 13)                3341      \n",
            "                                                                 \n",
            "=================================================================\n",
            "Total params: 901,023\n",
            "Trainable params: 901,023\n",
            "Non-trainable params: 0\n",
            "_________________________________________________________________\n",
            "None\n"
          ]
        }
      ]
    },
    {
      "cell_type": "code",
      "source": [
        "from tensorflow.keras.callbacks import EarlyStopping\n",
        "\n",
        "#put early stopping\n",
        "early_stopping = EarlyStopping(monitor='val_loss', patience=1, mode='min')\n",
        "\n",
        "#Your choices of activation='softmax' in the last layer and compile choice of loss='categorical_crossentropy' \n",
        "#are good for a model to predict multiple mutually-exclusive classes.\n",
        "\n",
        "model.compile(loss='categorical_crossentropy',\n",
        "              optimizer='adam', \n",
        "              metrics=['acc'],)"
      ],
      "metadata": {
        "id": "_VV7d6eRf_AD"
      },
      "execution_count": null,
      "outputs": []
    },
    {
      "cell_type": "code",
      "source": [
        "#Try classweight from this https://datascience.stackexchange.com/questions/13490/how-to-set-class-weights-for-imbalanced-classes-in-keras\n",
        "\n",
        "history = model.fit(Xtrain, ytrain, \n",
        "                    epochs=10, batch_size=64, \n",
        "                    validation_split=0.2,\n",
        "                    callbacks=[early_stopping])"
      ],
      "metadata": {
        "colab": {
          "base_uri": "https://localhost:8080/"
        },
        "id": "KKmAGyKqECUx",
        "outputId": "31cf4a5e-16c2-4ae9-9fa9-f126e3d13b10"
      },
      "execution_count": null,
      "outputs": [
        {
          "output_type": "stream",
          "name": "stdout",
          "text": [
            "Epoch 1/10\n",
            "152/152 [==============================] - 1s 5ms/step - loss: 1.9013 - acc: 0.3578 - val_loss: 1.5954 - val_acc: 0.4663\n",
            "Epoch 2/10\n",
            "152/152 [==============================] - 1s 4ms/step - loss: 1.4668 - acc: 0.5271 - val_loss: 1.4421 - val_acc: 0.5309\n",
            "Epoch 3/10\n",
            "152/152 [==============================] - 1s 4ms/step - loss: 1.0903 - acc: 0.6687 - val_loss: 1.3278 - val_acc: 0.5807\n",
            "Epoch 4/10\n",
            "152/152 [==============================] - 1s 4ms/step - loss: 0.7699 - acc: 0.7605 - val_loss: 1.4676 - val_acc: 0.5765\n"
          ]
        }
      ]
    },
    {
      "cell_type": "code",
      "source": [
        "history_frame = pd.DataFrame(history.history)\n",
        "history_frame.loc[:, ['loss', 'val_loss']].plot()"
      ],
      "metadata": {
        "colab": {
          "base_uri": "https://localhost:8080/",
          "height": 282
        },
        "id": "5hrmrMCmUjh2",
        "outputId": "bf72809e-5b69-41e9-bde4-1f377e7503ca"
      },
      "execution_count": null,
      "outputs": [
        {
          "output_type": "execute_result",
          "data": {
            "text/plain": [
              "<matplotlib.axes._subplots.AxesSubplot at 0x7f83d85b0950>"
            ]
          },
          "metadata": {},
          "execution_count": 261
        },
        {
          "output_type": "display_data",
          "data": {
            "text/plain": [
              "<Figure size 432x288 with 1 Axes>"
            ],
            "image/png": "[encoded data removed]"
          },
          "metadata": {
            "needs_background": "light"
          }
        }
      ]
    },
    {
      "cell_type": "code",
      "source": [
        "history_frame.loc[:, ['acc', 'val_acc']].plot()"
      ],
      "metadata": {
        "colab": {
          "base_uri": "https://localhost:8080/",
          "height": 282
        },
        "id": "qgGNdtfHU3yS",
        "outputId": "b51d354c-7b84-41cf-b443-dae56859f547"
      },
      "execution_count": null,
      "outputs": [
        {
          "output_type": "execute_result",
          "data": {
            "text/plain": [
              "<matplotlib.axes._subplots.AxesSubplot at 0x7f83d8329750>"
            ]
          },
          "metadata": {},
          "execution_count": 262
        },
        {
          "output_type": "display_data",
          "data": {
            "text/plain": [
              "<Figure size 432x288 with 1 Axes>"
            ],
            "image/png": "[encoded data removed]"
          },
          "metadata": {
            "needs_background": "light"
          }
        }
      ]
    },
    {
      "cell_type": "code",
      "source": [
        "print(Xtest.shape, ytest.shape)"
      ],
      "metadata": {
        "colab": {
          "base_uri": "https://localhost:8080/"
        },
        "id": "uvpjXrbRWKI5",
        "outputId": "d662f694-d54c-47e9-e09b-d007fd410c92"
      },
      "execution_count": null,
      "outputs": [
        {
          "output_type": "stream",
          "name": "stdout",
          "text": [
            "(389, 66) (389, 13)\n"
          ]
        }
      ]
    },
    {
      "cell_type": "code",
      "source": [
        "loss, acc = model.evaluate(Xtest, ytest)\n",
        "print('Test Accuracy: %f' % (acc*100))"
      ],
      "metadata": {
        "colab": {
          "base_uri": "https://localhost:8080/"
        },
        "id": "5N9TLkdHV0hy",
        "outputId": "c4807357-1ca0-45c1-c2e1-69ce044e79f5"
      },
      "execution_count": null,
      "outputs": [
        {
          "output_type": "stream",
          "name": "stdout",
          "text": [
            "13/13 [==============================] - 0s 2ms/step - loss: 2.4676 - acc: 0.2339\n",
            "Test Accuracy: 23.393317\n"
          ]
        }
      ]
    },
    {
      "cell_type": "markdown",
      "source": [
        "#Model LSTM + CNN (MaxPooling1D(pool_size=2)) 33.334190"
      ],
      "metadata": {
        "id": "JKTKM23Nn0Vl"
      }
    },
    {
      "cell_type": "code",
      "source": [
        "from keras.layers import Dense, Flatten, Embedding, BatchNormalization, Dropout, LSTM, Bidirectional, TimeDistributed\n",
        "from keras.models import Sequential\n",
        "from keras.layers.convolutional import Conv1D, MaxPooling1D"
      ],
      "metadata": {
        "id": "_Rjnttm7n0Vs"
      },
      "execution_count": null,
      "outputs": []
    },
    {
      "cell_type": "code",
      "source": [
        "#Define our model\n",
        "model = Sequential()\n",
        "\n",
        "model.add(Embedding(vocab_size, 100, input_length=max_length, trainable=True))\n",
        "model.add(LSTM(50, return_sequences=True))\n",
        "model.add(Conv1D(filters=32, kernel_size=3, activation='relu'))\n",
        "model.add(MaxPooling1D())\n",
        "\n",
        "#CNN + LSTM\n",
        "#MaxPool1D: pool_size=2: 30\n",
        "#MaxPool1D: w/o specification: 30\n",
        "\n",
        "#LSTM + CNN\n",
        "#MaxPool1D: w/o specification: 33.676094\n",
        "\n",
        "model.add(Flatten())\n",
        "\n",
        "model.add(Dense(512, activation='relu'))\n",
        "model.add(Dense(256, activation='relu'))\n",
        "\n",
        "model.add(Dense(num_classes, activation='softmax'))\n",
        "print(model.summary())"
      ],
      "metadata": {
        "colab": {
          "base_uri": "https://localhost:8080/"
        },
        "outputId": "1a66bbcf-2fe2-4894-9674-734b994c64c2",
        "id": "OiHinNUfn0Vs"
      },
      "execution_count": null,
      "outputs": [
        {
          "output_type": "stream",
          "name": "stdout",
          "text": [
            "Model: \"sequential_31\"\n",
            "_________________________________________________________________\n",
            " Layer (type)                Output Shape              Param #   \n",
            "=================================================================\n",
            " embedding_31 (Embedding)    (None, 66, 100)           1260900   \n",
            "                                                                 \n",
            " lstm_34 (LSTM)              (None, 66, 50)            30200     \n",
            "                                                                 \n",
            " conv1d_24 (Conv1D)          (None, 64, 32)            4832      \n",
            "                                                                 \n",
            " max_pooling1d_5 (MaxPooling  (None, 32, 32)           0         \n",
            " 1D)                                                             \n",
            "                                                                 \n",
            " flatten_10 (Flatten)        (None, 1024)              0         \n",
            "                                                                 \n",
            " dense_51 (Dense)            (None, 512)               524800    \n",
            "                                                                 \n",
            " dense_52 (Dense)            (None, 256)               131328    \n",
            "                                                                 \n",
            " dense_53 (Dense)            (None, 13)                3341      \n",
            "                                                                 \n",
            "=================================================================\n",
            "Total params: 1,955,401\n",
            "Trainable params: 1,955,401\n",
            "Non-trainable params: 0\n",
            "_________________________________________________________________\n",
            "None\n"
          ]
        }
      ]
    },
    {
      "cell_type": "code",
      "source": [
        "from tensorflow.keras.callbacks import EarlyStopping\n",
        "\n",
        "#put early stopping\n",
        "early_stopping = EarlyStopping(monitor='val_loss', patience=1, mode='min')\n",
        "\n",
        "#Your choices of activation='softmax' in the last layer and compile choice of loss='categorical_crossentropy' \n",
        "#are good for a model to predict multiple mutually-exclusive classes.\n",
        "\n",
        "model.compile(loss='categorical_crossentropy',\n",
        "              optimizer='adam', \n",
        "              metrics=['acc'],)"
      ],
      "metadata": {
        "id": "IoNZ97Men0Vs"
      },
      "execution_count": null,
      "outputs": []
    },
    {
      "cell_type": "code",
      "source": [
        "#Try classweight from this https://datascience.stackexchange.com/questions/13490/how-to-set-class-weights-for-imbalanced-classes-in-keras\n",
        "\n",
        "history = model.fit(Xtrain, ytrain, \n",
        "                    epochs=10, batch_size=32, \n",
        "                    validation_split=0.2,\n",
        "                    callbacks=[early_stopping])"
      ],
      "metadata": {
        "colab": {
          "base_uri": "https://localhost:8080/"
        },
        "outputId": "0068a3bd-d547-4a24-d504-101bbaca8ce6",
        "id": "3i82PMBRn0Vs"
      },
      "execution_count": null,
      "outputs": [
        {
          "output_type": "stream",
          "name": "stdout",
          "text": [
            "Epoch 1/10\n",
            "304/304 [==============================] - 4s 9ms/step - loss: 1.6521 - acc: 0.4567 - val_loss: 1.3808 - val_acc: 0.5432\n",
            "Epoch 2/10\n",
            "304/304 [==============================] - 2s 7ms/step - loss: 1.1581 - acc: 0.6359 - val_loss: 1.3165 - val_acc: 0.5733\n",
            "Epoch 3/10\n",
            "304/304 [==============================] - 2s 7ms/step - loss: 0.8634 - acc: 0.7171 - val_loss: 1.3723 - val_acc: 0.5770\n"
          ]
        }
      ]
    },
    {
      "cell_type": "code",
      "source": [
        "history_frame = pd.DataFrame(history.history)\n",
        "history_frame.loc[:, ['loss', 'val_loss']].plot()"
      ],
      "metadata": {
        "colab": {
          "base_uri": "https://localhost:8080/",
          "height": 282
        },
        "outputId": "4ff6952d-8953-4ead-a5dd-5cb9d30637f1",
        "id": "2B7E8Xcrn0Vt"
      },
      "execution_count": null,
      "outputs": [
        {
          "output_type": "execute_result",
          "data": {
            "text/plain": [
              "<matplotlib.axes._subplots.AxesSubplot at 0x7f8474240b50>"
            ]
          },
          "metadata": {},
          "execution_count": 269
        },
        {
          "output_type": "display_data",
          "data": {
            "text/plain": [
              "<Figure size 432x288 with 1 Axes>"
            ],
            "image/png": "[encoded data removed]"
          },
          "metadata": {
            "needs_background": "light"
          }
        }
      ]
    },
    {
      "cell_type": "code",
      "source": [
        "history_frame.loc[:, ['acc', 'val_acc']].plot()"
      ],
      "metadata": {
        "colab": {
          "base_uri": "https://localhost:8080/",
          "height": 282
        },
        "outputId": "6e7961c5-0e89-4e59-a3be-6e8f8f45cc72",
        "id": "BFZ_Lsvrn0Vt"
      },
      "execution_count": null,
      "outputs": [
        {
          "output_type": "execute_result",
          "data": {
            "text/plain": [
              "<matplotlib.axes._subplots.AxesSubplot at 0x7f8460339290>"
            ]
          },
          "metadata": {},
          "execution_count": 270
        },
        {
          "output_type": "display_data",
          "data": {
            "text/plain": [
              "<Figure size 432x288 with 1 Axes>"
            ],
            "image/png": "[encoded data removed]"
          },
          "metadata": {
            "needs_background": "light"
          }
        }
      ]
    },
    {
      "cell_type": "code",
      "source": [
        "print(ytrain.shape, ytest.shape)"
      ],
      "metadata": {
        "colab": {
          "base_uri": "https://localhost:8080/"
        },
        "outputId": "e4073e91-812c-4ba2-f7b5-c2907d5289f0",
        "id": "84PYJYKMn0Vt"
      },
      "execution_count": null,
      "outputs": [
        {
          "output_type": "stream",
          "name": "stdout",
          "text": [
            "(12150, 13) (389, 13)\n"
          ]
        }
      ]
    },
    {
      "cell_type": "code",
      "source": [
        "loss, acc = model.evaluate(Xtest, ytest)\n",
        "print('Test Accuracy: %f' % (acc*100))"
      ],
      "metadata": {
        "colab": {
          "base_uri": "https://localhost:8080/"
        },
        "outputId": "123f2ea2-058c-4496-9e41-b8faff022964",
        "id": "At8ST7Ttn0Vu"
      },
      "execution_count": null,
      "outputs": [
        {
          "output_type": "stream",
          "name": "stdout",
          "text": [
            "13/13 [==============================] - 0s 3ms/step - loss: 2.2924 - acc: 0.2853\n",
            "Test Accuracy: 28.534704\n"
          ]
        }
      ]
    },
    {
      "cell_type": "code",
      "source": [
        ""
      ],
      "metadata": {
        "id": "RETUdyek5asQ"
      },
      "execution_count": null,
      "outputs": []
    },
    {
      "cell_type": "markdown",
      "source": [
        "#Model CNN + LSTM (GlobalMaxPooling) 47"
      ],
      "metadata": {
        "id": "M7XlF2h5Azpg"
      }
    },
    {
      "cell_type": "code",
      "source": [
        "from keras.layers import Dense, Flatten, Embedding, BatchNormalization, Dropout, LSTM, Bidirectional\n",
        "from keras.models import Sequential\n",
        "from keras.layers.convolutional import Conv1D, MaxPooling1D\n",
        "from keras.layers.pooling import GlobalMaxPooling1D"
      ],
      "metadata": {
        "id": "hFzoz7zyAzpv"
      },
      "execution_count": null,
      "outputs": []
    },
    {
      "cell_type": "code",
      "source": [
        "#Define our model\n",
        "model = Sequential()\n",
        "\n",
        "model.add(Embedding(vocab_size, 100, input_length=max_length, trainable=True))\n",
        "model.add(Conv1D(filters=32, kernel_size=3, activation='relu'))\n",
        "model.add(LSTM(50, return_sequences=True))\n",
        "\n",
        "model.add(GlobalMaxPooling1D())\n",
        "#CNN LSTM GMP1D(w/o spec): 44, 49\n",
        "#LSTM CNN GMP1D(w/o spec): 38, 47\n",
        "\n",
        "model.add(Flatten())\n",
        "\n",
        "model.add(Dense(512, activation='relu'))\n",
        "model.add(Dense(256, activation='relu'))\n",
        "\n",
        "model.add(Dense(num_classes, activation='softmax'))\n",
        "print(model.summary())"
      ],
      "metadata": {
        "colab": {
          "base_uri": "https://localhost:8080/"
        },
        "outputId": "6b2f50ee-52b7-4d6a-cff2-b128b2471fd8",
        "id": "OOIiaeQTAzpv"
      },
      "execution_count": null,
      "outputs": [
        {
          "output_type": "stream",
          "name": "stdout",
          "text": [
            "Model: \"sequential_33\"\n",
            "_________________________________________________________________\n",
            " Layer (type)                Output Shape              Param #   \n",
            "=================================================================\n",
            " embedding_33 (Embedding)    (None, 66, 100)           1260900   \n",
            "                                                                 \n",
            " conv1d_26 (Conv1D)          (None, 64, 32)            9632      \n",
            "                                                                 \n",
            " lstm_35 (LSTM)              (None, 64, 50)            16600     \n",
            "                                                                 \n",
            " global_max_pooling1d_11 (Gl  (None, 50)               0         \n",
            " obalMaxPooling1D)                                               \n",
            "                                                                 \n",
            " flatten_12 (Flatten)        (None, 50)                0         \n",
            "                                                                 \n",
            " dense_56 (Dense)            (None, 512)               26112     \n",
            "                                                                 \n",
            " dense_57 (Dense)            (None, 256)               131328    \n",
            "                                                                 \n",
            " dense_58 (Dense)            (None, 13)                3341      \n",
            "                                                                 \n",
            "=================================================================\n",
            "Total params: 1,447,913\n",
            "Trainable params: 1,447,913\n",
            "Non-trainable params: 0\n",
            "_________________________________________________________________\n",
            "None\n"
          ]
        }
      ]
    },
    {
      "cell_type": "code",
      "source": [
        "from tensorflow.keras.callbacks import EarlyStopping\n",
        "\n",
        "#put early stopping\n",
        "early_stopping = EarlyStopping(monitor='val_loss', patience=1, mode='min')\n",
        "\n",
        "#Your choices of activation='softmax' in the last layer and compile choice of loss='categorical_crossentropy' \n",
        "#are good for a model to predict multiple mutually-exclusive classes.\n",
        "\n",
        "model.compile(loss='categorical_crossentropy',\n",
        "              optimizer='adam', \n",
        "              metrics=['acc'],)"
      ],
      "metadata": {
        "id": "fsGwd-BPAzpw"
      },
      "execution_count": null,
      "outputs": []
    },
    {
      "cell_type": "code",
      "source": [
        "#Try classweight from this https://datascience.stackexchange.com/questions/13490/how-to-set-class-weights-for-imbalanced-classes-in-keras\n",
        "\n",
        "history = model.fit(Xtrain, ytrain, \n",
        "                    epochs=10, batch_size=32, \n",
        "                    validation_split=0.2,\n",
        "                    callbacks=[early_stopping])"
      ],
      "metadata": {
        "colab": {
          "base_uri": "https://localhost:8080/"
        },
        "outputId": "ab4baba3-0611-4c42-8a68-046b53609487",
        "id": "TsVbHf0RAzpw"
      },
      "execution_count": null,
      "outputs": [
        {
          "output_type": "stream",
          "name": "stdout",
          "text": [
            "Epoch 1/10\n",
            "304/304 [==============================] - 4s 9ms/step - loss: 1.8359 - acc: 0.3572 - val_loss: 1.5820 - val_acc: 0.4733\n",
            "Epoch 2/10\n",
            "304/304 [==============================] - 2s 7ms/step - loss: 1.4173 - acc: 0.5404 - val_loss: 1.4117 - val_acc: 0.5523\n",
            "Epoch 3/10\n",
            "304/304 [==============================] - 2s 7ms/step - loss: 1.0886 - acc: 0.6570 - val_loss: 1.4146 - val_acc: 0.5704\n"
          ]
        }
      ]
    },
    {
      "cell_type": "code",
      "source": [
        "history_frame = pd.DataFrame(history.history)\n",
        "history_frame.loc[:, ['loss', 'val_loss']].plot()"
      ],
      "metadata": {
        "colab": {
          "base_uri": "https://localhost:8080/"
        },
        "outputId": "13bdfcac-fa81-4343-9acb-55795a0e6e8a",
        "id": "XFAMSdCPAzpx"
      },
      "execution_count": null,
      "outputs": [
        {
          "output_type": "execute_result",
          "data": {
            "text/plain": [
              "<matplotlib.axes._subplots.AxesSubplot at 0x7f83d9b5e9d0>"
            ]
          },
          "metadata": {},
          "execution_count": 285
        },
        {
          "output_type": "display_data",
          "data": {
            "text/plain": [
              "<Figure size 432x288 with 1 Axes>"
            ],
            "image/png": "[encoded data removed]"
          },
          "metadata": {
            "needs_background": "light"
          }
        }
      ]
    },
    {
      "cell_type": "code",
      "source": [
        "history_frame.loc[:, ['acc', 'val_acc']].plot()"
      ],
      "metadata": {
        "colab": {
          "base_uri": "https://localhost:8080/"
        },
        "outputId": "afccf72f-6fe1-47f2-fd64-28425718ddd5",
        "id": "q4jxsipNAzpx"
      },
      "execution_count": null,
      "outputs": [
        {
          "output_type": "execute_result",
          "data": {
            "text/plain": [
              "<matplotlib.axes._subplots.AxesSubplot at 0x7f83db4e0f10>"
            ]
          },
          "metadata": {},
          "execution_count": 286
        },
        {
          "output_type": "display_data",
          "data": {
            "text/plain": [
              "<Figure size 432x288 with 1 Axes>"
            ],
            "image/png": "[encoded data removed]"
          },
          "metadata": {
            "needs_background": "light"
          }
        }
      ]
    },
    {
      "cell_type": "code",
      "source": [
        "print(ytrain.shape, ytest.shape)"
      ],
      "metadata": {
        "colab": {
          "base_uri": "https://localhost:8080/"
        },
        "outputId": "e98fa006-0487-4faf-d6be-1a4d9222b080",
        "id": "PMDF44cfAzpx"
      },
      "execution_count": null,
      "outputs": [
        {
          "output_type": "stream",
          "name": "stdout",
          "text": [
            "(12150, 13) (389, 13)\n"
          ]
        }
      ]
    },
    {
      "cell_type": "code",
      "source": [
        "loss, acc = model.evaluate(Xtest, ytest)\n",
        "print('Test Accuracy: %f' % (acc*100))"
      ],
      "metadata": {
        "colab": {
          "base_uri": "https://localhost:8080/"
        },
        "outputId": "2f9c0c9c-f5d1-4941-e9b5-6f2af0ed7cbd",
        "id": "KveBiofgAzpy"
      },
      "execution_count": null,
      "outputs": [
        {
          "output_type": "stream",
          "name": "stdout",
          "text": [
            "13/13 [==============================] - 0s 4ms/step - loss: 1.5673 - acc: 0.5116\n",
            "Test Accuracy: 51.156813\n"
          ]
        }
      ]
    },
    {
      "cell_type": "code",
      "source": [
        ""
      ],
      "metadata": {
        "id": "ctquy1SkFYd3"
      },
      "execution_count": null,
      "outputs": []
    },
    {
      "cell_type": "markdown",
      "source": [
        "#Model CNN (GlobalMaxPooling) 56.812340"
      ],
      "metadata": {
        "id": "DTOqlQc2_dYe"
      }
    },
    {
      "cell_type": "code",
      "source": [
        "from keras.layers import Dense, Flatten, Embedding, BatchNormalization, Dropout\n",
        "from keras.models import Sequential\n",
        "from keras.layers.convolutional import Conv1D, MaxPooling1D"
      ],
      "metadata": {
        "id": "v5igmxJL_dYf"
      },
      "execution_count": null,
      "outputs": []
    },
    {
      "cell_type": "code",
      "source": [
        "from keras.layers.pooling import GlobalMaxPooling1D\n",
        "#Define our model\n",
        "model = Sequential()\n",
        "\n",
        "model.add(Embedding(vocab_size, 100, input_length=max_length, trainable=True))\n",
        "\n",
        "model.add(Conv1D(filters=32, kernel_size=3, activation='relu'))\n",
        "model.add(GlobalMaxPooling1D())\n",
        "\n",
        "#CNN GMP1D(w/o spec): 56.812340\n",
        "#2CNN GMP1D(w/o spec): 53.470439\n",
        "#CNN BN GMP1D(w/o spec): 52.956301\n",
        "\n",
        "\n",
        "model.add(Flatten())\n",
        "#Flatten(): 56\n",
        "#w/o Flatten(): 55\n",
        "\n",
        "model.add(Dense(256, activation='relu'))\n",
        "model.add(Dense(num_classes, activation='softmax'))\n",
        "print(model.summary())"
      ],
      "metadata": {
        "colab": {
          "base_uri": "https://localhost:8080/"
        },
        "outputId": "0c919136-657f-463e-b6d6-3d5314e7be03",
        "id": "JH8zxE2N_dYf"
      },
      "execution_count": null,
      "outputs": [
        {
          "output_type": "stream",
          "name": "stdout",
          "text": [
            "Model: \"sequential_32\"\n",
            "_________________________________________________________________\n",
            " Layer (type)                Output Shape              Param #   \n",
            "=================================================================\n",
            " embedding_32 (Embedding)    (None, 66, 100)           1260900   \n",
            "                                                                 \n",
            " conv1d_25 (Conv1D)          (None, 64, 32)            9632      \n",
            "                                                                 \n",
            " global_max_pooling1d_10 (Gl  (None, 32)               0         \n",
            " obalMaxPooling1D)                                               \n",
            "                                                                 \n",
            " flatten_11 (Flatten)        (None, 32)                0         \n",
            "                                                                 \n",
            " dense_54 (Dense)            (None, 256)               8448      \n",
            "                                                                 \n",
            " dense_55 (Dense)            (None, 13)                3341      \n",
            "                                                                 \n",
            "=================================================================\n",
            "Total params: 1,282,321\n",
            "Trainable params: 1,282,321\n",
            "Non-trainable params: 0\n",
            "_________________________________________________________________\n",
            "None\n"
          ]
        }
      ]
    },
    {
      "cell_type": "code",
      "source": [
        "from tensorflow.keras.callbacks import EarlyStopping\n",
        "\n",
        "#put early stopping\n",
        "early_stopping = EarlyStopping(monitor='val_loss', patience=1, mode='min')\n",
        "\n",
        "#Your choices of activation='softmax' in the last layer and compile choice of loss='categorical_crossentropy' \n",
        "#are good for a model to predict multiple mutually-exclusive classes.\n",
        "\n",
        "model.compile(loss='categorical_crossentropy',\n",
        "              optimizer='adam', \n",
        "              metrics=['acc'],)"
      ],
      "metadata": {
        "id": "-FdHcgGX_dYg"
      },
      "execution_count": null,
      "outputs": []
    },
    {
      "cell_type": "code",
      "source": [
        "#Try classweight from this https://datascience.stackexchange.com/questions/13490/how-to-set-class-weights-for-imbalanced-classes-in-keras\n",
        "#Current val_loss =  1.24\n",
        "history = model.fit(Xtrain, ytrain, \n",
        "                    epochs=10, batch_size=64, \n",
        "                    validation_split=0.2,\n",
        "                    callbacks=[early_stopping])"
      ],
      "metadata": {
        "colab": {
          "base_uri": "https://localhost:8080/"
        },
        "outputId": "58ca36ba-ee65-4954-bd77-93c87faf073c",
        "id": "8AAA7eBg_dYg"
      },
      "execution_count": null,
      "outputs": [
        {
          "output_type": "stream",
          "name": "stdout",
          "text": [
            "Epoch 1/10\n",
            "152/152 [==============================] - 1s 5ms/step - loss: 1.9095 - acc: 0.3704 - val_loss: 1.5455 - val_acc: 0.4971\n",
            "Epoch 2/10\n",
            "152/152 [==============================] - 1s 4ms/step - loss: 1.3467 - acc: 0.5815 - val_loss: 1.3000 - val_acc: 0.5860\n",
            "Epoch 3/10\n",
            "152/152 [==============================] - 1s 4ms/step - loss: 0.9939 - acc: 0.6941 - val_loss: 1.2787 - val_acc: 0.5947\n",
            "Epoch 4/10\n",
            "152/152 [==============================] - 1s 4ms/step - loss: 0.6894 - acc: 0.7893 - val_loss: 1.3701 - val_acc: 0.5975\n"
          ]
        }
      ]
    },
    {
      "cell_type": "code",
      "source": [
        "history_frame = pd.DataFrame(history.history)\n",
        "history_frame.loc[:, ['loss', 'val_loss']].plot()"
      ],
      "metadata": {
        "id": "YdaoJmxZ_dYg",
        "colab": {
          "base_uri": "https://localhost:8080/",
          "height": 282
        },
        "outputId": "8e595b15-2401-4097-9323-3b5242d97b65"
      },
      "execution_count": null,
      "outputs": [
        {
          "output_type": "execute_result",
          "data": {
            "text/plain": [
              "<matplotlib.axes._subplots.AxesSubplot at 0x7f83da67fc50>"
            ]
          },
          "metadata": {},
          "execution_count": 277
        },
        {
          "output_type": "display_data",
          "data": {
            "text/plain": [
              "<Figure size 432x288 with 1 Axes>"
            ],
            "image/png": "[encoded data removed]"
          },
          "metadata": {
            "needs_background": "light"
          }
        }
      ]
    },
    {
      "cell_type": "code",
      "source": [
        "history_frame.loc[:, ['acc', 'val_acc']].plot()"
      ],
      "metadata": {
        "id": "c2rPUDus_dYh",
        "colab": {
          "base_uri": "https://localhost:8080/",
          "height": 282
        },
        "outputId": "d3dd5130-16fd-4506-f20e-fb1d9c177cac"
      },
      "execution_count": null,
      "outputs": [
        {
          "output_type": "execute_result",
          "data": {
            "text/plain": [
              "<matplotlib.axes._subplots.AxesSubplot at 0x7f83f6220350>"
            ]
          },
          "metadata": {},
          "execution_count": 278
        },
        {
          "output_type": "display_data",
          "data": {
            "text/plain": [
              "<Figure size 432x288 with 1 Axes>"
            ],
            "image/png": "[encoded data removed]"
          },
          "metadata": {
            "needs_background": "light"
          }
        }
      ]
    },
    {
      "cell_type": "code",
      "source": [
        "print(Xtest.shape, ytest.shape)"
      ],
      "metadata": {
        "id": "6cWYrdPP_dYh",
        "colab": {
          "base_uri": "https://localhost:8080/"
        },
        "outputId": "5a2360e5-8ce8-47fb-d0b3-bbbc3d22b30f"
      },
      "execution_count": null,
      "outputs": [
        {
          "output_type": "stream",
          "name": "stdout",
          "text": [
            "(389, 66) (389, 13)\n"
          ]
        }
      ]
    },
    {
      "cell_type": "code",
      "source": [
        "loss, acc = model.evaluate(Xtest, ytest)\n",
        "print('Test Accuracy: %f' % (acc*100))"
      ],
      "metadata": {
        "id": "K2KkrfNh_dYh",
        "colab": {
          "base_uri": "https://localhost:8080/"
        },
        "outputId": "9d0ca5e8-1e18-4d71-c48a-d040f61df22e"
      },
      "execution_count": null,
      "outputs": [
        {
          "output_type": "stream",
          "name": "stdout",
          "text": [
            "13/13 [==============================] - 0s 2ms/step - loss: 1.5020 - acc: 0.5630\n",
            "Test Accuracy: 56.298202\n"
          ]
        }
      ]
    },
    {
      "cell_type": "markdown",
      "source": [
        "#Model CNN1 GMP1D D13: 65"
      ],
      "metadata": {
        "id": "gKD476bKEypH"
      }
    },
    {
      "cell_type": "code",
      "source": [
        "from keras.layers import Dense, Flatten, Embedding, BatchNormalization, Dropout, LSTM, Bidirectional, TimeDistributed\n",
        "from keras.models import Sequential\n",
        "from keras.layers.convolutional import Conv1D, MaxPooling1D\n",
        "from keras.layers.pooling import GlobalMaxPooling1D, AveragePooling1D, GlobalAveragePooling1D\n",
        "import tensorflow as tf"
      ],
      "metadata": {
        "id": "d2lQi0YREypT"
      },
      "execution_count": 18,
      "outputs": []
    },
    {
      "cell_type": "code",
      "source": [
        "from keras.layers.pooling import GlobalMaxPooling1D\n",
        "#Define our model\n",
        "model = Sequential()\n",
        "\n",
        "model.add(Embedding(vocab_size, 1000, input_length=max_length, trainable=True))\n",
        "model.add(Conv1D(128, 5 , activation='relu'))\n",
        "#Among filters=[64,128,256], 128 is the best. \n",
        "#activation selu, tanh, relu, elu got similar results\n",
        "model.add(GlobalMaxPooling1D()) #Among pooliing, GMP1D is the best.\n",
        "\n",
        "model.add(Dense(num_classes, activation='softmax')) #1 Dense better than 2 Denses\n",
        "print(model.summary())\n",
        "\n",
        "#Result\n",
        "#CNN128,5 GMP1D D130 D13: 59.897172\n",
        "#EM1000 CNN128,5 GMP1D D13: 65\n",
        "#EM1000 CNN128,5 GMP1D D13 CWS: 65 (CWS = class weights)"
      ],
      "metadata": {
        "colab": {
          "base_uri": "https://localhost:8080/"
        },
        "outputId": "ca08e104-0c5e-4ab7-e3d4-49e418c01793",
        "id": "EXb3gteMEypT"
      },
      "execution_count": 19,
      "outputs": [
        {
          "output_type": "stream",
          "name": "stdout",
          "text": [
            "Model: \"sequential\"\n",
            "_________________________________________________________________\n",
            " Layer (type)                Output Shape              Param #   \n",
            "=================================================================\n",
            " embedding (Embedding)       (None, 66, 1000)          12609000  \n",
            "                                                                 \n",
            " conv1d (Conv1D)             (None, 62, 128)           640128    \n",
            "                                                                 \n",
            " global_max_pooling1d (Globa  (None, 128)              0         \n",
            " lMaxPooling1D)                                                  \n",
            "                                                                 \n",
            " dense (Dense)               (None, 13)                1677      \n",
            "                                                                 \n",
            "=================================================================\n",
            "Total params: 13,250,805\n",
            "Trainable params: 13,250,805\n",
            "Non-trainable params: 0\n",
            "_________________________________________________________________\n",
            "None\n"
          ]
        }
      ]
    },
    {
      "cell_type": "code",
      "source": [
        "from tensorflow.keras.callbacks import EarlyStopping\n",
        "\n",
        "#put early stopping\n",
        "early_stopping = EarlyStopping(monitor='val_loss', patience=1, mode='min')\n",
        "\n",
        "#Your choices of activation='softmax' in the last layer and compile choice of loss='categorical_crossentropy' \n",
        "#are good for a model to predict multiple mutually-exclusive classes.\n",
        "\n",
        "model.compile(loss='categorical_crossentropy',\n",
        "              optimizer='adam', \n",
        "              metrics=['acc'],)"
      ],
      "metadata": {
        "id": "8HKUES2PEypT"
      },
      "execution_count": 20,
      "outputs": []
    },
    {
      "cell_type": "code",
      "source": [
        "#Try classweight from this https://datascience.stackexchange.com/questions/13490/how-to-set-class-weights-for-imbalanced-classes-in-keras\n",
        "\n",
        "history = model.fit(Xtrain, ytrain, \n",
        "                    epochs=10, batch_size=32, #32, 128 > 8 (worse), 16, 64, 256\n",
        "                    validation_split=0.2,\n",
        "                    callbacks=[early_stopping])"
      ],
      "metadata": {
        "colab": {
          "base_uri": "https://localhost:8080/"
        },
        "outputId": "e5abfc51-2985-4723-97a4-5a5569d3de7c",
        "id": "8DWtx62mEypU"
      },
      "execution_count": 22,
      "outputs": [
        {
          "output_type": "stream",
          "name": "stdout",
          "text": [
            "Epoch 1/10\n",
            "76/76 [==============================] - 3s 18ms/step - loss: 1.7277 - acc: 0.4437 - val_loss: 1.3273 - val_acc: 0.5737\n",
            "Epoch 2/10\n",
            "76/76 [==============================] - 1s 14ms/step - loss: 1.0607 - acc: 0.6666 - val_loss: 1.1272 - val_acc: 0.6296\n",
            "Epoch 3/10\n",
            "76/76 [==============================] - 1s 15ms/step - loss: 0.6185 - acc: 0.8199 - val_loss: 1.0938 - val_acc: 0.6531\n",
            "Epoch 4/10\n",
            "76/76 [==============================] - 1s 15ms/step - loss: 0.2923 - acc: 0.9400 - val_loss: 1.1299 - val_acc: 0.6416\n"
          ]
        }
      ]
    },
    {
      "cell_type": "code",
      "source": [
        "loss, acc = model.evaluate(Xtest, ytest)\n",
        "print('Test Accuracy: %f' % (acc*100)) #with class weights = 0.64, w/o = 65"
      ],
      "metadata": {
        "colab": {
          "base_uri": "https://localhost:8080/"
        },
        "outputId": "21a48793-1ebe-4286-cfd5-afa6ef597624",
        "id": "tO0kUYvbEypU"
      },
      "execution_count": 23,
      "outputs": [
        {
          "output_type": "stream",
          "name": "stdout",
          "text": [
            "13/13 [==============================] - 0s 4ms/step - loss: 1.1961 - acc: 0.6504\n",
            "Test Accuracy: 65.038562\n"
          ]
        }
      ]
    },
    {
      "cell_type": "code",
      "source": [
        "history_frame = pd.DataFrame(history.history)\n",
        "history_frame.loc[:, ['loss', 'val_loss']].plot()"
      ],
      "metadata": {
        "colab": {
          "base_uri": "https://localhost:8080/",
          "height": 282
        },
        "outputId": "930451ba-056e-4d08-8427-e04d1119552c",
        "id": "Mq5yfdPZEypU"
      },
      "execution_count": 24,
      "outputs": [
        {
          "output_type": "execute_result",
          "data": {
            "text/plain": [
              "<matplotlib.axes._subplots.AxesSubplot at 0x7fe6f6141810>"
            ]
          },
          "metadata": {},
          "execution_count": 24
        },
        {
          "output_type": "display_data",
          "data": {
            "text/plain": [
              "<Figure size 432x288 with 1 Axes>"
            ],
            "image/png": "[encoded data removed]"
          },
          "metadata": {
            "needs_background": "light"
          }
        }
      ]
    },
    {
      "cell_type": "code",
      "source": [
        "history_frame.loc[:, ['acc', 'val_acc']].plot()"
      ],
      "metadata": {
        "colab": {
          "base_uri": "https://localhost:8080/",
          "height": 282
        },
        "outputId": "b06c8be5-4a09-4377-c6fd-e3c94b2e5717",
        "id": "DWwX6VhBEypU"
      },
      "execution_count": 25,
      "outputs": [
        {
          "output_type": "execute_result",
          "data": {
            "text/plain": [
              "<matplotlib.axes._subplots.AxesSubplot at 0x7fe6e3fa0210>"
            ]
          },
          "metadata": {},
          "execution_count": 25
        },
        {
          "output_type": "display_data",
          "data": {
            "text/plain": [
              "<Figure size 432x288 with 1 Axes>"
            ],
            "image/png": "[encoded data removed]"
          },
          "metadata": {
            "needs_background": "light"
          }
        }
      ]
    },
    {
      "cell_type": "code",
      "source": [
        ""
      ],
      "metadata": {
        "id": "cfTPBGiQgq0f"
      },
      "execution_count": 25,
      "outputs": []
    }
  ]
}
