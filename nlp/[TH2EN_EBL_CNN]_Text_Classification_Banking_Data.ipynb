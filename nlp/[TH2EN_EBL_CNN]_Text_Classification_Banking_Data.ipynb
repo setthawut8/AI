{
  "nbformat": 4,
  "nbformat_minor": 0,
  "metadata": {
    "colab": {
      "name": "[TH2EN  EBL CNN] Text Classification_Banking_Data.ipynb",
      "provenance": [],
      "machine_shape": "hm",
      "collapsed_sections": [
        "DKZejA_uh9kv",
        "-Hi7_QknsJKg",
        "SF_gw2udAQY3",
        "1U9_3A4GB3fV",
        "hVA-lL4TGJLB"
      ],
      "toc_visible": true,
      "authorship_tag": "ABX9TyNFv9SUyve/nIJDqZ71Qj/e",
      "include_colab_link": true
    },
    "kernelspec": {
      "name": "python3",
      "display_name": "Python 3"
    },
    "language_info": {
      "name": "python"
    },
    "accelerator": "GPU",
    "gpuClass": "standard"
  },
  "cells": [
    {
      "cell_type": "markdown",
      "metadata": {
        "id": "view-in-github",
        "colab_type": "text"
      },
      "source": [
        "<a href=\"https://colab.research.google.com/github/setthawut8/ai/blob/main/%5BTH2EN_EBL_CNN%5D_Text_Classification_Banking_Data.ipynb\" target=\"_parent\"><img src=\"https://colab.research.google.com/assets/colab-badge.svg\" alt=\"Open In Colab\"/></a>"
      ]
    },
    {
      "cell_type": "markdown",
      "source": [
        "#Download Data and Library Installation"
      ],
      "metadata": {
        "id": "DKZejA_uh9kv"
      }
    },
    {
      "cell_type": "code",
      "execution_count": 1,
      "metadata": {
        "id": "rY0gVkg8ahbS",
        "colab": {
          "base_uri": "https://localhost:8080/"
        },
        "outputId": "f464b96f-5db3-4a0e-9c34-535c9b502f28"
      },
      "outputs": [
        {
          "output_type": "stream",
          "name": "stdout",
          "text": [
            "/usr/local/lib/python3.7/dist-packages/gdown/cli.py:131: FutureWarning: Option `--id` was deprecated in version 4.3.1 and will be removed in 5.0. You don't need to pass it anymore to use a file ID.\n",
            "  category=FutureWarning,\n",
            "Downloading...\n",
            "From: https://drive.google.com/uc?id=1-avUDygRCGvAiPplmc6MundS_PpnohRv\n",
            "To: /content/preprocessed_v1_socialfsi_single_train_sampling12150_20220701.xlsx\n",
            "100% 3.87M/3.87M [00:00<00:00, 143MB/s]\n",
            "/usr/local/lib/python3.7/dist-packages/gdown/cli.py:131: FutureWarning: Option `--id` was deprecated in version 4.3.1 and will be removed in 5.0. You don't need to pass it anymore to use a file ID.\n",
            "  category=FutureWarning,\n",
            "Downloading...\n",
            "From: https://drive.google.com/uc?id=106OVRPIQQBppganRnCZigxQh6-Zyvqit\n",
            "To: /content/preprocessed_v1_socialfsi_single_test_sampling389_20220701.xlsx\n",
            "100% 141k/141k [00:00<00:00, 69.1MB/s]\n",
            "/usr/local/lib/python3.7/dist-packages/gdown/cli.py:131: FutureWarning: Option `--id` was deprecated in version 4.3.1 and will be removed in 5.0. You don't need to pass it anymore to use a file ID.\n",
            "  category=FutureWarning,\n",
            "Downloading...\n",
            "From: https://drive.google.com/uc?id=1hdmLmyVp_-MOmHBKWs4OukuxoyUFxW8X\n",
            "To: /content/train_translated banking data.csv\n",
            "100% 18.7M/18.7M [00:00<00:00, 142MB/s] \n",
            "/usr/local/lib/python3.7/dist-packages/gdown/cli.py:131: FutureWarning: Option `--id` was deprecated in version 4.3.1 and will be removed in 5.0. You don't need to pass it anymore to use a file ID.\n",
            "  category=FutureWarning,\n",
            "Downloading...\n",
            "From: https://drive.google.com/uc?id=1Cq3FttnnzZa-RK7vlu94bJTRj8YD6vA5\n",
            "To: /content/test_translated banking data.csv\n",
            "100% 18.7M/18.7M [00:00<00:00, 323MB/s]\n",
            "Looking in indexes: https://pypi.org/simple, https://us-python.pkg.dev/colab-wheels/public/simple/\n",
            "Collecting flair\n",
            "  Downloading flair-0.11.3-py3-none-any.whl (401 kB)\n",
            "\u001b[K     |████████████████████████████████| 401 kB 4.0 MB/s \n",
            "\u001b[?25hCollecting ftfy\n",
            "  Downloading ftfy-6.1.1-py3-none-any.whl (53 kB)\n",
            "\u001b[K     |████████████████████████████████| 53 kB 1.9 MB/s \n",
            "\u001b[?25hRequirement already satisfied: tabulate in /usr/local/lib/python3.7/dist-packages (from flair) (0.8.9)\n",
            "Requirement already satisfied: torch!=1.8,>=1.5.0 in /usr/local/lib/python3.7/dist-packages (from flair) (1.11.0+cu113)\n",
            "Collecting sqlitedict>=1.6.0\n",
            "  Downloading sqlitedict-2.0.0.tar.gz (46 kB)\n",
            "\u001b[K     |████████████████████████████████| 46 kB 4.4 MB/s \n",
            "\u001b[?25hCollecting conllu>=4.0\n",
            "  Downloading conllu-4.4.2-py2.py3-none-any.whl (15 kB)\n",
            "Requirement already satisfied: gensim>=3.4.0 in /usr/local/lib/python3.7/dist-packages (from flair) (3.6.0)\n",
            "Requirement already satisfied: lxml in /usr/local/lib/python3.7/dist-packages (from flair) (4.2.6)\n",
            "Collecting sentencepiece==0.1.95\n",
            "  Downloading sentencepiece-0.1.95-cp37-cp37m-manylinux2014_x86_64.whl (1.2 MB)\n",
            "\u001b[K     |████████████████████████████████| 1.2 MB 51.4 MB/s \n",
            "\u001b[?25hRequirement already satisfied: scikit-learn>=0.21.3 in /usr/local/lib/python3.7/dist-packages (from flair) (1.0.2)\n",
            "Collecting janome\n",
            "  Downloading Janome-0.4.2-py2.py3-none-any.whl (19.7 MB)\n",
            "\u001b[K     |████████████████████████████████| 19.7 MB 58.5 MB/s \n",
            "\u001b[?25hRequirement already satisfied: python-dateutil>=2.6.1 in /usr/local/lib/python3.7/dist-packages (from flair) (2.8.2)\n",
            "Requirement already satisfied: tqdm>=4.26.0 in /usr/local/lib/python3.7/dist-packages (from flair) (4.64.0)\n",
            "Requirement already satisfied: more-itertools in /usr/local/lib/python3.7/dist-packages (from flair) (8.13.0)\n",
            "Collecting konoha<5.0.0,>=4.0.0\n",
            "  Downloading konoha-4.6.5-py3-none-any.whl (20 kB)\n",
            "Requirement already satisfied: gdown==4.4.0 in /usr/local/lib/python3.7/dist-packages (from flair) (4.4.0)\n",
            "Collecting hyperopt>=0.2.7\n",
            "  Downloading hyperopt-0.2.7-py2.py3-none-any.whl (1.6 MB)\n",
            "\u001b[K     |████████████████████████████████| 1.6 MB 39.0 MB/s \n",
            "\u001b[?25hCollecting deprecated>=1.2.4\n",
            "  Downloading Deprecated-1.2.13-py2.py3-none-any.whl (9.6 kB)\n",
            "Collecting huggingface-hub\n",
            "  Downloading huggingface_hub-0.8.1-py3-none-any.whl (101 kB)\n",
            "\u001b[K     |████████████████████████████████| 101 kB 12.4 MB/s \n",
            "\u001b[?25hCollecting transformers>=4.0.0\n",
            "  Downloading transformers-4.20.1-py3-none-any.whl (4.4 MB)\n",
            "\u001b[K     |████████████████████████████████| 4.4 MB 33.4 MB/s \n",
            "\u001b[?25hRequirement already satisfied: matplotlib>=2.2.3 in /usr/local/lib/python3.7/dist-packages (from flair) (3.2.2)\n",
            "Collecting mpld3==0.3\n",
            "  Downloading mpld3-0.3.tar.gz (788 kB)\n",
            "\u001b[K     |████████████████████████████████| 788 kB 63.1 MB/s \n",
            "\u001b[?25hCollecting segtok>=1.5.7\n",
            "  Downloading segtok-1.5.11-py3-none-any.whl (24 kB)\n",
            "Collecting wikipedia-api\n",
            "  Downloading Wikipedia-API-0.5.4.tar.gz (18 kB)\n",
            "Collecting langdetect\n",
            "  Downloading langdetect-1.0.9.tar.gz (981 kB)\n",
            "\u001b[K     |████████████████████████████████| 981 kB 35.2 MB/s \n",
            "\u001b[?25hCollecting pptree\n",
            "  Downloading pptree-3.1.tar.gz (3.0 kB)\n",
            "Requirement already satisfied: regex in /usr/local/lib/python3.7/dist-packages (from flair) (2022.6.2)\n",
            "Collecting bpemb>=0.3.2\n",
            "  Downloading bpemb-0.3.3-py3-none-any.whl (19 kB)\n",
            "Requirement already satisfied: beautifulsoup4 in /usr/local/lib/python3.7/dist-packages (from gdown==4.4.0->flair) (4.6.3)\n",
            "Requirement already satisfied: six in /usr/local/lib/python3.7/dist-packages (from gdown==4.4.0->flair) (1.15.0)\n",
            "Requirement already satisfied: filelock in /usr/local/lib/python3.7/dist-packages (from gdown==4.4.0->flair) (3.7.1)\n",
            "Requirement already satisfied: requests[socks] in /usr/local/lib/python3.7/dist-packages (from gdown==4.4.0->flair) (2.23.0)\n",
            "Requirement already satisfied: numpy in /usr/local/lib/python3.7/dist-packages (from bpemb>=0.3.2->flair) (1.21.6)\n",
            "Requirement already satisfied: wrapt<2,>=1.10 in /usr/local/lib/python3.7/dist-packages (from deprecated>=1.2.4->flair) (1.14.1)\n",
            "Requirement already satisfied: smart-open>=1.2.1 in /usr/local/lib/python3.7/dist-packages (from gensim>=3.4.0->flair) (5.2.1)\n",
            "Requirement already satisfied: scipy>=0.18.1 in /usr/local/lib/python3.7/dist-packages (from gensim>=3.4.0->flair) (1.4.1)\n",
            "Requirement already satisfied: future in /usr/local/lib/python3.7/dist-packages (from hyperopt>=0.2.7->flair) (0.16.0)\n",
            "Collecting py4j\n",
            "  Downloading py4j-0.10.9.5-py2.py3-none-any.whl (199 kB)\n",
            "\u001b[K     |████████████████████████████████| 199 kB 41.7 MB/s \n",
            "\u001b[?25hRequirement already satisfied: networkx>=2.2 in /usr/local/lib/python3.7/dist-packages (from hyperopt>=0.2.7->flair) (2.6.3)\n",
            "Requirement already satisfied: cloudpickle in /usr/local/lib/python3.7/dist-packages (from hyperopt>=0.2.7->flair) (1.3.0)\n",
            "Collecting importlib-metadata<4.0.0,>=3.7.0\n",
            "  Downloading importlib_metadata-3.10.1-py3-none-any.whl (14 kB)\n",
            "Collecting overrides<4.0.0,>=3.0.0\n",
            "  Downloading overrides-3.1.0.tar.gz (11 kB)\n",
            "Collecting requests\n",
            "  Downloading requests-2.28.1-py3-none-any.whl (62 kB)\n",
            "\u001b[K     |████████████████████████████████| 62 kB 1.6 MB/s \n",
            "\u001b[?25hRequirement already satisfied: typing-extensions>=3.6.4 in /usr/local/lib/python3.7/dist-packages (from importlib-metadata<4.0.0,>=3.7.0->konoha<5.0.0,>=4.0.0->flair) (4.1.1)\n",
            "Requirement already satisfied: zipp>=0.5 in /usr/local/lib/python3.7/dist-packages (from importlib-metadata<4.0.0,>=3.7.0->konoha<5.0.0,>=4.0.0->flair) (3.8.0)\n",
            "Requirement already satisfied: pyparsing!=2.0.4,!=2.1.2,!=2.1.6,>=2.0.1 in /usr/local/lib/python3.7/dist-packages (from matplotlib>=2.2.3->flair) (3.0.9)\n",
            "Requirement already satisfied: kiwisolver>=1.0.1 in /usr/local/lib/python3.7/dist-packages (from matplotlib>=2.2.3->flair) (1.4.3)\n",
            "Requirement already satisfied: cycler>=0.10 in /usr/local/lib/python3.7/dist-packages (from matplotlib>=2.2.3->flair) (0.11.0)\n",
            "Requirement already satisfied: idna<4,>=2.5 in /usr/local/lib/python3.7/dist-packages (from requests->bpemb>=0.3.2->flair) (2.10)\n",
            "Requirement already satisfied: urllib3<1.27,>=1.21.1 in /usr/local/lib/python3.7/dist-packages (from requests->bpemb>=0.3.2->flair) (1.24.3)\n",
            "Requirement already satisfied: charset-normalizer<3,>=2 in /usr/local/lib/python3.7/dist-packages (from requests->bpemb>=0.3.2->flair) (2.1.0)\n",
            "Requirement already satisfied: certifi>=2017.4.17 in /usr/local/lib/python3.7/dist-packages (from requests->bpemb>=0.3.2->flair) (2022.6.15)\n",
            "Requirement already satisfied: threadpoolctl>=2.0.0 in /usr/local/lib/python3.7/dist-packages (from scikit-learn>=0.21.3->flair) (3.1.0)\n",
            "Requirement already satisfied: joblib>=0.11 in /usr/local/lib/python3.7/dist-packages (from scikit-learn>=0.21.3->flair) (1.1.0)\n",
            "Requirement already satisfied: packaging>=20.0 in /usr/local/lib/python3.7/dist-packages (from transformers>=4.0.0->flair) (21.3)\n",
            "Collecting pyyaml>=5.1\n",
            "  Downloading PyYAML-6.0-cp37-cp37m-manylinux_2_5_x86_64.manylinux1_x86_64.manylinux_2_12_x86_64.manylinux2010_x86_64.whl (596 kB)\n",
            "\u001b[K     |████████████████████████████████| 596 kB 52.8 MB/s \n",
            "\u001b[?25hCollecting tokenizers!=0.11.3,<0.13,>=0.11.1\n",
            "  Downloading tokenizers-0.12.1-cp37-cp37m-manylinux_2_12_x86_64.manylinux2010_x86_64.whl (6.6 MB)\n",
            "\u001b[K     |████████████████████████████████| 6.6 MB 29.7 MB/s \n",
            "\u001b[?25hRequirement already satisfied: wcwidth>=0.2.5 in /usr/local/lib/python3.7/dist-packages (from ftfy->flair) (0.2.5)\n",
            "Requirement already satisfied: PySocks!=1.5.7,>=1.5.6 in /usr/local/lib/python3.7/dist-packages (from requests->bpemb>=0.3.2->flair) (1.7.1)\n",
            "Building wheels for collected packages: mpld3, overrides, sqlitedict, langdetect, pptree, wikipedia-api\n",
            "  Building wheel for mpld3 (setup.py) ... \u001b[?25l\u001b[?25hdone\n",
            "  Created wheel for mpld3: filename=mpld3-0.3-py3-none-any.whl size=116702 sha256=8af2b6de38a32599274d2260f37677fd7d0dec00d9ee554087a80767282930fd\n",
            "  Stored in directory: /root/.cache/pip/wheels/26/70/6a/1c79e59951a41b4045497da187b2724f5659ca64033cf4548e\n",
            "  Building wheel for overrides (setup.py) ... \u001b[?25l\u001b[?25hdone\n",
            "  Created wheel for overrides: filename=overrides-3.1.0-py3-none-any.whl size=10187 sha256=c98718415f802c9ad294a133a9ca4ffa3dc5d29cd55cd3b80de51417500dca76\n",
            "  Stored in directory: /root/.cache/pip/wheels/3a/0d/38/01a9bc6e20dcfaf0a6a7b552d03137558ba1c38aea47644682\n",
            "  Building wheel for sqlitedict (setup.py) ... \u001b[?25l\u001b[?25hdone\n",
            "  Created wheel for sqlitedict: filename=sqlitedict-2.0.0-py3-none-any.whl size=15736 sha256=52ba17c4d67e7c7521f429f691a6103171f5228740290824a814dd57a5fd45ae\n",
            "  Stored in directory: /root/.cache/pip/wheels/96/dd/2e/0ed4a25cb73fc30c7ea8d10b50acb7226175736067e40a7ea3\n",
            "  Building wheel for langdetect (setup.py) ... \u001b[?25l\u001b[?25hdone\n",
            "  Created wheel for langdetect: filename=langdetect-1.0.9-py3-none-any.whl size=993242 sha256=20cea7d179c42dde2f008e498a3314c0e27e3efb97f35c270b2f59fc18cf33bb\n",
            "  Stored in directory: /root/.cache/pip/wheels/c5/96/8a/f90c59ed25d75e50a8c10a1b1c2d4c402e4dacfa87f3aff36a\n",
            "  Building wheel for pptree (setup.py) ... \u001b[?25l\u001b[?25hdone\n",
            "  Created wheel for pptree: filename=pptree-3.1-py3-none-any.whl size=4629 sha256=b37444f7bd59d45573970e62fea811901da9e00c8add11a778267c2b7f658386\n",
            "  Stored in directory: /root/.cache/pip/wheels/9e/e8/7d/a9c3c19b4722608a0d8b05a38c36bc3f230c43becd2a46794b\n",
            "  Building wheel for wikipedia-api (setup.py) ... \u001b[?25l\u001b[?25hdone\n",
            "  Created wheel for wikipedia-api: filename=Wikipedia_API-0.5.4-py3-none-any.whl size=13477 sha256=747c6c87a207ea523afa42786f8471c31fb0c705d9a42c519423d6ad7aa21781\n",
            "  Stored in directory: /root/.cache/pip/wheels/d3/24/56/58ba93cf78be162451144e7a9889603f437976ef1ae7013d04\n",
            "Successfully built mpld3 overrides sqlitedict langdetect pptree wikipedia-api\n",
            "Installing collected packages: requests, pyyaml, importlib-metadata, tokenizers, sentencepiece, py4j, overrides, huggingface-hub, wikipedia-api, transformers, sqlitedict, segtok, pptree, mpld3, langdetect, konoha, janome, hyperopt, ftfy, deprecated, conllu, bpemb, flair\n",
            "  Attempting uninstall: requests\n",
            "    Found existing installation: requests 2.23.0\n",
            "    Uninstalling requests-2.23.0:\n",
            "      Successfully uninstalled requests-2.23.0\n",
            "  Attempting uninstall: pyyaml\n",
            "    Found existing installation: PyYAML 3.13\n",
            "    Uninstalling PyYAML-3.13:\n",
            "      Successfully uninstalled PyYAML-3.13\n",
            "  Attempting uninstall: importlib-metadata\n",
            "    Found existing installation: importlib-metadata 4.11.4\n",
            "    Uninstalling importlib-metadata-4.11.4:\n",
            "      Successfully uninstalled importlib-metadata-4.11.4\n",
            "  Attempting uninstall: hyperopt\n",
            "    Found existing installation: hyperopt 0.1.2\n",
            "    Uninstalling hyperopt-0.1.2:\n",
            "      Successfully uninstalled hyperopt-0.1.2\n",
            "\u001b[31mERROR: pip's dependency resolver does not currently take into account all the packages that are installed. This behaviour is the source of the following dependency conflicts.\n",
            "markdown 3.3.7 requires importlib-metadata>=4.4; python_version < \"3.10\", but you have importlib-metadata 3.10.1 which is incompatible.\n",
            "google-colab 1.0.0 requires requests~=2.23.0, but you have requests 2.28.1 which is incompatible.\n",
            "datascience 0.10.6 requires folium==0.2.1, but you have folium 0.8.3 which is incompatible.\u001b[0m\n",
            "Successfully installed bpemb-0.3.3 conllu-4.4.2 deprecated-1.2.13 flair-0.11.3 ftfy-6.1.1 huggingface-hub-0.8.1 hyperopt-0.2.7 importlib-metadata-3.10.1 janome-0.4.2 konoha-4.6.5 langdetect-1.0.9 mpld3-0.3 overrides-3.1.0 pptree-3.1 py4j-0.10.9.5 pyyaml-6.0 requests-2.28.1 segtok-1.5.11 sentencepiece-0.1.95 sqlitedict-2.0.0 tokenizers-0.12.1 transformers-4.20.1 wikipedia-api-0.5.4\n",
            "Looking in indexes: https://pypi.org/simple, https://us-python.pkg.dev/colab-wheels/public/simple/\n",
            "Collecting fairseq\n",
            "  Downloading fairseq-0.12.2-cp37-cp37m-manylinux_2_5_x86_64.manylinux1_x86_64.whl (11.0 MB)\n",
            "\u001b[K     |████████████████████████████████| 11.0 MB 4.3 MB/s \n",
            "\u001b[?25hRequirement already satisfied: cffi in /usr/local/lib/python3.7/dist-packages (from fairseq) (1.15.0)\n",
            "Requirement already satisfied: cython in /usr/local/lib/python3.7/dist-packages (from fairseq) (0.29.30)\n",
            "Requirement already satisfied: tqdm in /usr/local/lib/python3.7/dist-packages (from fairseq) (4.64.0)\n",
            "Requirement already satisfied: numpy in /usr/local/lib/python3.7/dist-packages (from fairseq) (1.21.6)\n",
            "Requirement already satisfied: torch in /usr/local/lib/python3.7/dist-packages (from fairseq) (1.11.0+cu113)\n",
            "Requirement already satisfied: torchaudio>=0.8.0 in /usr/local/lib/python3.7/dist-packages (from fairseq) (0.11.0+cu113)\n",
            "Requirement already satisfied: regex in /usr/local/lib/python3.7/dist-packages (from fairseq) (2022.6.2)\n",
            "Collecting bitarray\n",
            "  Downloading bitarray-2.5.1-cp37-cp37m-manylinux_2_17_x86_64.manylinux2014_x86_64.whl (236 kB)\n",
            "\u001b[K     |████████████████████████████████| 236 kB 52.7 MB/s \n",
            "\u001b[?25hCollecting sacrebleu>=1.4.12\n",
            "  Downloading sacrebleu-2.1.0-py3-none-any.whl (92 kB)\n",
            "\u001b[K     |████████████████████████████████| 92 kB 11.2 MB/s \n",
            "\u001b[?25hCollecting omegaconf<2.1\n",
            "  Downloading omegaconf-2.0.6-py3-none-any.whl (36 kB)\n",
            "Collecting hydra-core<1.1,>=1.0.7\n",
            "  Downloading hydra_core-1.0.7-py3-none-any.whl (123 kB)\n",
            "\u001b[K     |████████████████████████████████| 123 kB 54.1 MB/s \n",
            "\u001b[?25hRequirement already satisfied: importlib-resources in /usr/local/lib/python3.7/dist-packages (from hydra-core<1.1,>=1.0.7->fairseq) (5.7.1)\n",
            "Collecting antlr4-python3-runtime==4.8\n",
            "  Downloading antlr4-python3-runtime-4.8.tar.gz (112 kB)\n",
            "\u001b[K     |████████████████████████████████| 112 kB 61.5 MB/s \n",
            "\u001b[?25hRequirement already satisfied: PyYAML>=5.1.* in /usr/local/lib/python3.7/dist-packages (from omegaconf<2.1->fairseq) (6.0)\n",
            "Requirement already satisfied: typing-extensions in /usr/local/lib/python3.7/dist-packages (from omegaconf<2.1->fairseq) (4.1.1)\n",
            "Collecting colorama\n",
            "  Downloading colorama-0.4.5-py2.py3-none-any.whl (16 kB)\n",
            "Requirement already satisfied: tabulate>=0.8.9 in /usr/local/lib/python3.7/dist-packages (from sacrebleu>=1.4.12->fairseq) (0.8.9)\n",
            "Collecting portalocker\n",
            "  Downloading portalocker-2.5.1-py2.py3-none-any.whl (15 kB)\n",
            "Requirement already satisfied: pycparser in /usr/local/lib/python3.7/dist-packages (from cffi->fairseq) (2.21)\n",
            "Requirement already satisfied: zipp>=3.1.0 in /usr/local/lib/python3.7/dist-packages (from importlib-resources->hydra-core<1.1,>=1.0.7->fairseq) (3.8.0)\n",
            "Building wheels for collected packages: antlr4-python3-runtime\n",
            "  Building wheel for antlr4-python3-runtime (setup.py) ... \u001b[?25l\u001b[?25hdone\n",
            "  Created wheel for antlr4-python3-runtime: filename=antlr4_python3_runtime-4.8-py3-none-any.whl size=141230 sha256=061c08c184fb61ac3cf404bb4ad480ecba263dc9caa6df7d33454d170b43c2ac\n",
            "  Stored in directory: /root/.cache/pip/wheels/ca/33/b7/336836125fc9bb4ceaa4376d8abca10ca8bc84ddc824baea6c\n",
            "Successfully built antlr4-python3-runtime\n",
            "Installing collected packages: portalocker, omegaconf, colorama, antlr4-python3-runtime, sacrebleu, hydra-core, bitarray, fairseq\n",
            "Successfully installed antlr4-python3-runtime-4.8 bitarray-2.5.1 colorama-0.4.5 fairseq-0.12.2 hydra-core-1.0.7 omegaconf-2.0.6 portalocker-2.5.1 sacrebleu-2.1.0\n",
            "Looking in indexes: https://pypi.org/simple, https://us-python.pkg.dev/colab-wheels/public/simple/\n",
            "Collecting pythainlp\n",
            "  Downloading pythainlp-3.0.8-py3-none-any.whl (11.5 MB)\n",
            "\u001b[K     |████████████████████████████████| 11.5 MB 4.2 MB/s \n",
            "\u001b[?25hRequirement already satisfied: requests>=2.22.0 in /usr/local/lib/python3.7/dist-packages (from pythainlp) (2.28.1)\n",
            "Collecting tinydb>=3.0\n",
            "  Downloading tinydb-4.7.0-py3-none-any.whl (24 kB)\n",
            "Requirement already satisfied: idna<4,>=2.5 in /usr/local/lib/python3.7/dist-packages (from requests>=2.22.0->pythainlp) (2.10)\n",
            "Requirement already satisfied: charset-normalizer<3,>=2 in /usr/local/lib/python3.7/dist-packages (from requests>=2.22.0->pythainlp) (2.1.0)\n",
            "Requirement already satisfied: certifi>=2017.4.17 in /usr/local/lib/python3.7/dist-packages (from requests>=2.22.0->pythainlp) (2022.6.15)\n",
            "Requirement already satisfied: urllib3<1.27,>=1.21.1 in /usr/local/lib/python3.7/dist-packages (from requests>=2.22.0->pythainlp) (1.24.3)\n",
            "Requirement already satisfied: typing-extensions<5.0.0,>=3.10.0 in /usr/local/lib/python3.7/dist-packages (from tinydb>=3.0->pythainlp) (4.1.1)\n",
            "Installing collected packages: tinydb, pythainlp\n",
            "Successfully installed pythainlp-3.0.8 tinydb-4.7.0\n",
            "Looking in indexes: https://pypi.org/simple, https://us-python.pkg.dev/colab-wheels/public/simple/\n",
            "Requirement already satisfied: transformers in /usr/local/lib/python3.7/dist-packages (4.20.1)\n",
            "Requirement already satisfied: importlib-metadata in /usr/local/lib/python3.7/dist-packages (from transformers) (3.10.1)\n",
            "Requirement already satisfied: numpy>=1.17 in /usr/local/lib/python3.7/dist-packages (from transformers) (1.21.6)\n",
            "Requirement already satisfied: filelock in /usr/local/lib/python3.7/dist-packages (from transformers) (3.7.1)\n",
            "Requirement already satisfied: pyyaml>=5.1 in /usr/local/lib/python3.7/dist-packages (from transformers) (6.0)\n",
            "Requirement already satisfied: regex!=2019.12.17 in /usr/local/lib/python3.7/dist-packages (from transformers) (2022.6.2)\n",
            "Requirement already satisfied: requests in /usr/local/lib/python3.7/dist-packages (from transformers) (2.28.1)\n",
            "Requirement already satisfied: huggingface-hub<1.0,>=0.1.0 in /usr/local/lib/python3.7/dist-packages (from transformers) (0.8.1)\n",
            "Requirement already satisfied: packaging>=20.0 in /usr/local/lib/python3.7/dist-packages (from transformers) (21.3)\n",
            "Requirement already satisfied: tqdm>=4.27 in /usr/local/lib/python3.7/dist-packages (from transformers) (4.64.0)\n",
            "Requirement already satisfied: tokenizers!=0.11.3,<0.13,>=0.11.1 in /usr/local/lib/python3.7/dist-packages (from transformers) (0.12.1)\n",
            "Requirement already satisfied: typing-extensions>=3.7.4.3 in /usr/local/lib/python3.7/dist-packages (from huggingface-hub<1.0,>=0.1.0->transformers) (4.1.1)\n",
            "Requirement already satisfied: pyparsing!=3.0.5,>=2.0.2 in /usr/local/lib/python3.7/dist-packages (from packaging>=20.0->transformers) (3.0.9)\n",
            "Requirement already satisfied: zipp>=0.5 in /usr/local/lib/python3.7/dist-packages (from importlib-metadata->transformers) (3.8.0)\n",
            "Requirement already satisfied: certifi>=2017.4.17 in /usr/local/lib/python3.7/dist-packages (from requests->transformers) (2022.6.15)\n",
            "Requirement already satisfied: charset-normalizer<3,>=2 in /usr/local/lib/python3.7/dist-packages (from requests->transformers) (2.1.0)\n",
            "Requirement already satisfied: urllib3<1.27,>=1.21.1 in /usr/local/lib/python3.7/dist-packages (from requests->transformers) (1.24.3)\n",
            "Requirement already satisfied: idna<4,>=2.5 in /usr/local/lib/python3.7/dist-packages (from requests->transformers) (2.10)\n",
            "Looking in indexes: https://pypi.org/simple, https://us-python.pkg.dev/colab-wheels/public/simple/\n",
            "Collecting sacremoses\n",
            "  Downloading sacremoses-0.0.53.tar.gz (880 kB)\n",
            "\u001b[K     |████████████████████████████████| 880 kB 4.2 MB/s \n",
            "\u001b[?25hRequirement already satisfied: sentencepiece in /usr/local/lib/python3.7/dist-packages (0.1.95)\n",
            "Requirement already satisfied: regex in /usr/local/lib/python3.7/dist-packages (from sacremoses) (2022.6.2)\n",
            "Requirement already satisfied: six in /usr/local/lib/python3.7/dist-packages (from sacremoses) (1.15.0)\n",
            "Requirement already satisfied: click in /usr/local/lib/python3.7/dist-packages (from sacremoses) (7.1.2)\n",
            "Requirement already satisfied: joblib in /usr/local/lib/python3.7/dist-packages (from sacremoses) (1.1.0)\n",
            "Requirement already satisfied: tqdm in /usr/local/lib/python3.7/dist-packages (from sacremoses) (4.64.0)\n",
            "Building wheels for collected packages: sacremoses\n",
            "  Building wheel for sacremoses (setup.py) ... \u001b[?25l\u001b[?25hdone\n",
            "  Created wheel for sacremoses: filename=sacremoses-0.0.53-py3-none-any.whl size=895260 sha256=3a01b934a16efb03792db657deb7f1cc792d67f55f736c82fc8b99f28d18717b\n",
            "  Stored in directory: /root/.cache/pip/wheels/87/39/dd/a83eeef36d0bf98e7a4d1933a4ad2d660295a40613079bafc9\n",
            "Successfully built sacremoses\n",
            "Installing collected packages: sacremoses\n",
            "Successfully installed sacremoses-0.0.53\n"
          ]
        }
      ],
      "source": [
        "#download data\n",
        "#raw\n",
        "!gdown --id :)\n",
        "!gdown --id :)\n",
        "#raw with translated\n",
        "!gdown --id :)\n",
        "!gdown --id :)\n",
        "\n",
        "!pip install flair \n",
        "!pip install fairseq\n",
        "!pip install pythainlp\n",
        "!pip install transformers\n",
        "!pip install sacremoses sentencepiece"
      ]
    },
    {
      "cell_type": "code",
      "source": [
        "#libraby \n",
        "import numpy as np\n",
        "import pandas as pd\n",
        "import seaborn as sns\n",
        "import matplotlib.pyplot as plt\n",
        "\n",
        "import string\n",
        "import os, os.path\n",
        "import pandas as pd\n",
        "import seaborn as sns\n",
        "\n",
        "import nltk\n",
        "nltk.download('stopwords')\n",
        "from nltk.corpus import stopwords\n",
        "\n",
        "from string import punctuation\n",
        "from os import listdir\n",
        "from collections import Counter\n",
        "from nltk.corpus import stopwords\n",
        "\n",
        "from keras.preprocessing.text import Tokenizer\n",
        "from keras_preprocessing.sequence import pad_sequences\n",
        "\n",
        "from keras.layers import Dense\n",
        "from keras.layers import Flatten\n",
        "from keras.layers import Embedding\n",
        "from keras.models import Sequential\n",
        "from keras.utils.vis_utils import plot_model\n",
        "from keras.layers.convolutional import Conv1D\n",
        "from keras.layers.convolutional import MaxPooling1D"
      ],
      "metadata": {
        "id": "cgMb7j8pbNQj",
        "colab": {
          "base_uri": "https://localhost:8080/"
        },
        "outputId": "2bc7ac2c-a33b-425a-a70f-15bcc84d6b8e"
      },
      "execution_count": 2,
      "outputs": [
        {
          "output_type": "stream",
          "name": "stderr",
          "text": [
            "[nltk_data] Downloading package stopwords to /root/nltk_data...\n",
            "[nltk_data]   Unzipping corpora/stopwords.zip.\n"
          ]
        }
      ]
    },
    {
      "cell_type": "code",
      "source": [
        "train = pd.read_csv('/content/train_translated banking data.csv')\n",
        "test = pd.read_csv('/content/test_translated banking data.csv')"
      ],
      "metadata": {
        "id": "ITJldeRSbbc6"
      },
      "execution_count": 3,
      "outputs": []
    },
    {
      "cell_type": "code",
      "source": [
        "train.head(5)"
      ],
      "metadata": {
        "colab": {
          "base_uri": "https://localhost:8080/",
          "height": 582
        },
        "id": "sMuRAAX0b2mv",
        "outputId": "b27843c3-b537-45b2-a880-5e0bdb24c5ee"
      },
      "execution_count": 4,
      "outputs": [
        {
          "output_type": "execute_result",
          "data": {
            "text/plain": [
              "   Unnamed: 0  Unnamed: 0.1  \\\n",
              "0           0             0   \n",
              "1           1             1   \n",
              "2           2             2   \n",
              "3           3             3   \n",
              "4           4             4   \n",
              "\n",
              "                                        TagFile_Path  \\\n",
              "0  SocialFSI_ZE-KTB-Feb-Apr2022_Sampling2244_2022...   \n",
              "1  SocialFSI_v4_0_mutiple_train_sampling8203_2021...   \n",
              "2  SocialFSI_ZE-KTB-Feb-Apr2022_Sampling2244_2022...   \n",
              "3  SocialFSI_v4_0_mutiple_train_sampling8203_2021...   \n",
              "4  SocialFSI_v4_0_mutiple_train_sampling8203_2021...   \n",
              "\n",
              "                                             TagFile SV_CustomerName  \\\n",
              "0  SocialFSI_ZE-KTB-Feb-Apr2022_Sampling1400_2022...  Krungthai_NEXT   \n",
              "1  SocialFSI_TrainDataV4_RetagCLS-12_Sampling53_P...             NaN   \n",
              "2  SocialFSI_ZE-KTB-Feb-Apr2022_Sampling1200_2022...  Krungthai_NEXT   \n",
              "3  SocialFSI_TrainSCB-SocialFilterV2_Sampling2750...             NaN   \n",
              "4  SocialFSI_TrainSCB-SocialFilterV2_Sampling2750...             NaN   \n",
              "\n",
              "                                        Main keyword      Channel SubChannel  \\\n",
              "0  mobile banking+กสิกร,mobile banking+ธนาคารกสิก...  SocialMedia      forum   \n",
              "1                                                NaN  SocialMedia    Twitter   \n",
              "2                                          krungthai  SocialMedia   facebook   \n",
              "3                                                NaN  SocialMedia    Twitter   \n",
              "4                                                NaN  SocialMedia    Twitter   \n",
              "\n",
              "                                 lfdn   verbatim_id     sentence_id  \\\n",
              "0           pantip.com_topic_41249919    Q2207_1549    Q2207_1549_1   \n",
              "1            5fffc6bcb08b583a24679d59  Q202106_5805  Q202106_5805_1   \n",
              "2  10161808181448916_1330115550790924     Q2207_636     Q2207_636_1   \n",
              "3                            27634345   Q202106_961   Q202106_961_1   \n",
              "4                            28297653  Q202106_2021  Q202106_2021_1   \n",
              "\n",
              "                                       Text_original  \\\n",
              "0  สอบถามเรื่องการอายัดบัตรเดบิตของกสิกรค่ะ พอดีว...   \n",
              "1  ปกติจะไม่ชอบlog in ใดๆในคอมคนอื่นหรือสำนักงานใ...   \n",
              "2  Krungthai Care ณ. ตอนนี้ยอดก็ยังไม่เข้าค่ะ ถ้า...   \n",
              "3  @scb_thailand เรียน scb ขอเบอร?ตืดต่อเพราะคุย ...   \n",
              "4  ไอเลิ้บ TMB All Free มาก แต่ช่วยพัฒนาแอพให้สเถ...   \n",
              "\n",
              "                                                Text  \\\n",
              "0  สอบถามเรื่องการอายัดบัตรเดบิตของกสิกรค่ะ พอดีว...   \n",
              "1  ปกติจะไม่ชอบlog in ใดๆในคอมคนอื่นหรือสำนักงานใ...   \n",
              "2  Krungthai Care ณ. ตอนนี้ยอดก็ยังไม่เข้าค่ะ ถ้า...   \n",
              "3  @scb_thailand เรียน scb ขอเบอร?ตืดต่อเพราะคุย ...   \n",
              "4                          ไอเลิ้บ TMB All Free มาก    \n",
              "\n",
              "                             Human_Category  Human_CategoryID Human_Sentiment  \\\n",
              "0  Product and Service, Usage and Condition                 8         neutral   \n",
              "1                                  Security                12         neutral   \n",
              "2               Product and Service, System                 7        negative   \n",
              "3                             Staff Quality                 4        negative   \n",
              "4  Product and Service, Usage and Condition                 8        positive   \n",
              "\n",
              "  Human_SentimentID                                      Text_ws_local  \\\n",
              "0                 o  สอบถาม|เรื่อง|การ|อายัด|บัตรเดบิต|ของ|kbank|ค่...   \n",
              "1                 o  ปกติ|จะ|ไม่ชอบ| |log| |in| |ใดๆ| |ใน|ค|อม|คนอื...   \n",
              "2                 n  ktb| |care| |ณ|.| |ตอนนี้|ยอด|ก็|ยัง|ไม่|เข้า|...   \n",
              "3                 n  scb_thailand| |เรียน| |scb| |ขอ|เบอร| |ตืด|ต่อ...   \n",
              "4                 p                    ไอ|เลิ้บ| |tmb_all_free| |มาก|    \n",
              "\n",
              "                                          translated  \n",
              "0  I've been asking about the debit card holders....  \n",
              "1  Usually don't like logins on any other compute...  \n",
              "2  Krungthai Care as of right now, it's not the t...  \n",
              "3                         @scb_thailand studied scb.  \n",
              "4  Ib TMB All Free. But it helps to improve apps....  "
            ],
            "text/html": [
              "\n",
              "  <div id=\"df-0a8f8fd4-21b5-47fa-9d79-34a2aa82f26a\">\n",
              "    <div class=\"colab-df-container\">\n",
              "      <div>\n",
              "<style scoped>\n",
              "    .dataframe tbody tr th:only-of-type {\n",
              "        vertical-align: middle;\n",
              "    }\n",
              "\n",
              "    .dataframe tbody tr th {\n",
              "        vertical-align: top;\n",
              "    }\n",
              "\n",
              "    .dataframe thead th {\n",
              "        text-align: right;\n",
              "    }\n",
              "</style>\n",
              "<table border=\"1\" class=\"dataframe\">\n",
              "  <thead>\n",
              "    <tr style=\"text-align: right;\">\n",
              "      <th></th>\n",
              "      <th>Unnamed: 0</th>\n",
              "      <th>Unnamed: 0.1</th>\n",
              "      <th>TagFile_Path</th>\n",
              "      <th>TagFile</th>\n",
              "      <th>SV_CustomerName</th>\n",
              "      <th>Main keyword</th>\n",
              "      <th>Channel</th>\n",
              "      <th>SubChannel</th>\n",
              "      <th>lfdn</th>\n",
              "      <th>verbatim_id</th>\n",
              "      <th>sentence_id</th>\n",
              "      <th>Text_original</th>\n",
              "      <th>Text</th>\n",
              "      <th>Human_Category</th>\n",
              "      <th>Human_CategoryID</th>\n",
              "      <th>Human_Sentiment</th>\n",
              "      <th>Human_SentimentID</th>\n",
              "      <th>Text_ws_local</th>\n",
              "      <th>translated</th>\n",
              "    </tr>\n",
              "  </thead>\n",
              "  <tbody>\n",
              "    <tr>\n",
              "      <th>0</th>\n",
              "      <td>0</td>\n",
              "      <td>0</td>\n",
              "      <td>SocialFSI_ZE-KTB-Feb-Apr2022_Sampling2244_2022...</td>\n",
              "      <td>SocialFSI_ZE-KTB-Feb-Apr2022_Sampling1400_2022...</td>\n",
              "      <td>Krungthai_NEXT</td>\n",
              "      <td>mobile banking+กสิกร,mobile banking+ธนาคารกสิก...</td>\n",
              "      <td>SocialMedia</td>\n",
              "      <td>forum</td>\n",
              "      <td>pantip.com_topic_41249919</td>\n",
              "      <td>Q2207_1549</td>\n",
              "      <td>Q2207_1549_1</td>\n",
              "      <td>สอบถามเรื่องการอายัดบัตรเดบิตของกสิกรค่ะ พอดีว...</td>\n",
              "      <td>สอบถามเรื่องการอายัดบัตรเดบิตของกสิกรค่ะ พอดีว...</td>\n",
              "      <td>Product and Service, Usage and Condition</td>\n",
              "      <td>8</td>\n",
              "      <td>neutral</td>\n",
              "      <td>o</td>\n",
              "      <td>สอบถาม|เรื่อง|การ|อายัด|บัตรเดบิต|ของ|kbank|ค่...</td>\n",
              "      <td>I've been asking about the debit card holders....</td>\n",
              "    </tr>\n",
              "    <tr>\n",
              "      <th>1</th>\n",
              "      <td>1</td>\n",
              "      <td>1</td>\n",
              "      <td>SocialFSI_v4_0_mutiple_train_sampling8203_2021...</td>\n",
              "      <td>SocialFSI_TrainDataV4_RetagCLS-12_Sampling53_P...</td>\n",
              "      <td>NaN</td>\n",
              "      <td>NaN</td>\n",
              "      <td>SocialMedia</td>\n",
              "      <td>Twitter</td>\n",
              "      <td>5fffc6bcb08b583a24679d59</td>\n",
              "      <td>Q202106_5805</td>\n",
              "      <td>Q202106_5805_1</td>\n",
              "      <td>ปกติจะไม่ชอบlog in ใดๆในคอมคนอื่นหรือสำนักงานใ...</td>\n",
              "      <td>ปกติจะไม่ชอบlog in ใดๆในคอมคนอื่นหรือสำนักงานใ...</td>\n",
              "      <td>Security</td>\n",
              "      <td>12</td>\n",
              "      <td>neutral</td>\n",
              "      <td>o</td>\n",
              "      <td>ปกติ|จะ|ไม่ชอบ| |log| |in| |ใดๆ| |ใน|ค|อม|คนอื...</td>\n",
              "      <td>Usually don't like logins on any other compute...</td>\n",
              "    </tr>\n",
              "    <tr>\n",
              "      <th>2</th>\n",
              "      <td>2</td>\n",
              "      <td>2</td>\n",
              "      <td>SocialFSI_ZE-KTB-Feb-Apr2022_Sampling2244_2022...</td>\n",
              "      <td>SocialFSI_ZE-KTB-Feb-Apr2022_Sampling1200_2022...</td>\n",
              "      <td>Krungthai_NEXT</td>\n",
              "      <td>krungthai</td>\n",
              "      <td>SocialMedia</td>\n",
              "      <td>facebook</td>\n",
              "      <td>10161808181448916_1330115550790924</td>\n",
              "      <td>Q2207_636</td>\n",
              "      <td>Q2207_636_1</td>\n",
              "      <td>Krungthai Care ณ. ตอนนี้ยอดก็ยังไม่เข้าค่ะ ถ้า...</td>\n",
              "      <td>Krungthai Care ณ. ตอนนี้ยอดก็ยังไม่เข้าค่ะ ถ้า...</td>\n",
              "      <td>Product and Service, System</td>\n",
              "      <td>7</td>\n",
              "      <td>negative</td>\n",
              "      <td>n</td>\n",
              "      <td>ktb| |care| |ณ|.| |ตอนนี้|ยอด|ก็|ยัง|ไม่|เข้า|...</td>\n",
              "      <td>Krungthai Care as of right now, it's not the t...</td>\n",
              "    </tr>\n",
              "    <tr>\n",
              "      <th>3</th>\n",
              "      <td>3</td>\n",
              "      <td>3</td>\n",
              "      <td>SocialFSI_v4_0_mutiple_train_sampling8203_2021...</td>\n",
              "      <td>SocialFSI_TrainSCB-SocialFilterV2_Sampling2750...</td>\n",
              "      <td>NaN</td>\n",
              "      <td>NaN</td>\n",
              "      <td>SocialMedia</td>\n",
              "      <td>Twitter</td>\n",
              "      <td>27634345</td>\n",
              "      <td>Q202106_961</td>\n",
              "      <td>Q202106_961_1</td>\n",
              "      <td>@scb_thailand เรียน scb ขอเบอร?ตืดต่อเพราะคุย ...</td>\n",
              "      <td>@scb_thailand เรียน scb ขอเบอร?ตืดต่อเพราะคุย ...</td>\n",
              "      <td>Staff Quality</td>\n",
              "      <td>4</td>\n",
              "      <td>negative</td>\n",
              "      <td>n</td>\n",
              "      <td>scb_thailand| |เรียน| |scb| |ขอ|เบอร| |ตืด|ต่อ...</td>\n",
              "      <td>@scb_thailand studied scb.</td>\n",
              "    </tr>\n",
              "    <tr>\n",
              "      <th>4</th>\n",
              "      <td>4</td>\n",
              "      <td>4</td>\n",
              "      <td>SocialFSI_v4_0_mutiple_train_sampling8203_2021...</td>\n",
              "      <td>SocialFSI_TrainSCB-SocialFilterV2_Sampling2750...</td>\n",
              "      <td>NaN</td>\n",
              "      <td>NaN</td>\n",
              "      <td>SocialMedia</td>\n",
              "      <td>Twitter</td>\n",
              "      <td>28297653</td>\n",
              "      <td>Q202106_2021</td>\n",
              "      <td>Q202106_2021_1</td>\n",
              "      <td>ไอเลิ้บ TMB All Free มาก แต่ช่วยพัฒนาแอพให้สเถ...</td>\n",
              "      <td>ไอเลิ้บ TMB All Free มาก</td>\n",
              "      <td>Product and Service, Usage and Condition</td>\n",
              "      <td>8</td>\n",
              "      <td>positive</td>\n",
              "      <td>p</td>\n",
              "      <td>ไอ|เลิ้บ| |tmb_all_free| |มาก|</td>\n",
              "      <td>Ib TMB All Free. But it helps to improve apps....</td>\n",
              "    </tr>\n",
              "  </tbody>\n",
              "</table>\n",
              "</div>\n",
              "      <button class=\"colab-df-convert\" onclick=\"convertToInteractive('df-0a8f8fd4-21b5-47fa-9d79-34a2aa82f26a')\"\n",
              "              title=\"Convert this dataframe to an interactive table.\"\n",
              "              style=\"display:none;\">\n",
              "        \n",
              "  <svg xmlns=\"http://www.w3.org/2000/svg\" height=\"24px\"viewBox=\"0 0 24 24\"\n",
              "       width=\"24px\">\n",
              "    <path d=\"M0 0h24v24H0V0z\" fill=\"none\"/>\n",
              "    <path d=\"M18.56 5.44l.94 2.06.94-2.06 2.06-.94-2.06-.94-.94-2.06-.94 2.06-2.06.94zm-11 1L8.5 8.5l.94-2.06 2.06-.94-2.06-.94L8.5 2.5l-.94 2.06-2.06.94zm10 10l.94 2.06.94-2.06 2.06-.94-2.06-.94-.94-2.06-.94 2.06-2.06.94z\"/><path d=\"M17.41 7.96l-1.37-1.37c-.4-.4-.92-.59-1.43-.59-.52 0-1.04.2-1.43.59L10.3 9.45l-7.72 7.72c-.78.78-.78 2.05 0 2.83L4 21.41c.39.39.9.59 1.41.59.51 0 1.02-.2 1.41-.59l7.78-7.78 2.81-2.81c.8-.78.8-2.07 0-2.86zM5.41 20L4 18.59l7.72-7.72 1.47 1.35L5.41 20z\"/>\n",
              "  </svg>\n",
              "      </button>\n",
              "      \n",
              "  <style>\n",
              "    .colab-df-container {\n",
              "      display:flex;\n",
              "      flex-wrap:wrap;\n",
              "      gap: 12px;\n",
              "    }\n",
              "\n",
              "    .colab-df-convert {\n",
              "      background-color: #E8F0FE;\n",
              "      border: none;\n",
              "      border-radius: 50%;\n",
              "      cursor: pointer;\n",
              "      display: none;\n",
              "      fill: #1967D2;\n",
              "      height: 32px;\n",
              "      padding: 0 0 0 0;\n",
              "      width: 32px;\n",
              "    }\n",
              "\n",
              "    .colab-df-convert:hover {\n",
              "      background-color: #E2EBFA;\n",
              "      box-shadow: 0px 1px 2px rgba(60, 64, 67, 0.3), 0px 1px 3px 1px rgba(60, 64, 67, 0.15);\n",
              "      fill: #174EA6;\n",
              "    }\n",
              "\n",
              "    [theme=dark] .colab-df-convert {\n",
              "      background-color: #3B4455;\n",
              "      fill: #D2E3FC;\n",
              "    }\n",
              "\n",
              "    [theme=dark] .colab-df-convert:hover {\n",
              "      background-color: #434B5C;\n",
              "      box-shadow: 0px 1px 3px 1px rgba(0, 0, 0, 0.15);\n",
              "      filter: drop-shadow(0px 1px 2px rgba(0, 0, 0, 0.3));\n",
              "      fill: #FFFFFF;\n",
              "    }\n",
              "  </style>\n",
              "\n",
              "      <script>\n",
              "        const buttonEl =\n",
              "          document.querySelector('#df-0a8f8fd4-21b5-47fa-9d79-34a2aa82f26a button.colab-df-convert');\n",
              "        buttonEl.style.display =\n",
              "          google.colab.kernel.accessAllowed ? 'block' : 'none';\n",
              "\n",
              "        async function convertToInteractive(key) {\n",
              "          const element = document.querySelector('#df-0a8f8fd4-21b5-47fa-9d79-34a2aa82f26a');\n",
              "          const dataTable =\n",
              "            await google.colab.kernel.invokeFunction('convertToInteractive',\n",
              "                                                     [key], {});\n",
              "          if (!dataTable) return;\n",
              "\n",
              "          const docLinkHtml = 'Like what you see? Visit the ' +\n",
              "            '<a target=\"_blank\" href=https://colab.research.google.com/notebooks/data_table.ipynb>data table notebook</a>'\n",
              "            + ' to learn more about interactive tables.';\n",
              "          element.innerHTML = '';\n",
              "          dataTable['output_type'] = 'display_data';\n",
              "          await google.colab.output.renderOutput(dataTable, element);\n",
              "          const docLink = document.createElement('div');\n",
              "          docLink.innerHTML = docLinkHtml;\n",
              "          element.appendChild(docLink);\n",
              "        }\n",
              "      </script>\n",
              "    </div>\n",
              "  </div>\n",
              "  "
            ]
          },
          "metadata": {},
          "execution_count": 4
        }
      ]
    },
    {
      "cell_type": "code",
      "source": [
        "train['Human_CategoryID'].value_counts().sort_index(ascending=True)"
      ],
      "metadata": {
        "colab": {
          "base_uri": "https://localhost:8080/"
        },
        "id": "HA6bOeakDu5L",
        "outputId": "390f9bee-884b-40cb-9499-7f16a979fd96"
      },
      "execution_count": 5,
      "outputs": [
        {
          "output_type": "execute_result",
          "data": {
            "text/plain": [
              "1      185\n",
              "2       16\n",
              "3      377\n",
              "4      522\n",
              "5     1163\n",
              "6     1109\n",
              "7     3275\n",
              "8     2454\n",
              "9      153\n",
              "10     379\n",
              "11     232\n",
              "12     152\n",
              "13    2133\n",
              "Name: Human_CategoryID, dtype: int64"
            ]
          },
          "metadata": {},
          "execution_count": 5
        }
      ]
    },
    {
      "cell_type": "markdown",
      "source": [
        "#Translation"
      ],
      "metadata": {
        "id": "-Hi7_QknsJKg"
      }
    },
    {
      "cell_type": "code",
      "source": [
        "from pythainlp.translate import Translate\n",
        "th2en = Translate('th', 'en')"
      ],
      "metadata": {
        "id": "N29J9c5W6UcK"
      },
      "execution_count": null,
      "outputs": []
    },
    {
      "cell_type": "code",
      "source": [
        "#processing for 4 hours\n",
        "train['translated'] = train['Text_original'].apply(lambda x: th2en.translate(x))"
      ],
      "metadata": {
        "id": "o77MiHOf68qS"
      },
      "execution_count": null,
      "outputs": []
    },
    {
      "cell_type": "code",
      "source": [
        "train.head(5)"
      ],
      "metadata": {
        "id": "5fR8T_4N8eep"
      },
      "execution_count": null,
      "outputs": []
    },
    {
      "cell_type": "code",
      "source": [
        "train.to_csv('train_translated banking data.csv')"
      ],
      "metadata": {
        "id": "QWoIaW-orWvu"
      },
      "execution_count": null,
      "outputs": []
    },
    {
      "cell_type": "code",
      "source": [
        "#processing for 4 hours\n",
        "test['translated'] = test['Text_original'].apply(lambda x: th2en.translate(x))"
      ],
      "metadata": {
        "id": "p3NK1PIzrqpl"
      },
      "execution_count": null,
      "outputs": []
    },
    {
      "cell_type": "code",
      "source": [
        "test.head(5)"
      ],
      "metadata": {
        "id": "GBR5IGl3r2SQ"
      },
      "execution_count": null,
      "outputs": []
    },
    {
      "cell_type": "code",
      "source": [
        "train.to_csv('test_translated banking data.csv')"
      ],
      "metadata": {
        "id": "QYj8i0mRr3Nh"
      },
      "execution_count": null,
      "outputs": []
    },
    {
      "cell_type": "markdown",
      "source": [
        "#Create a Vocab"
      ],
      "metadata": {
        "id": "SF_gw2udAQY3"
      }
    },
    {
      "cell_type": "code",
      "source": [
        "vocab = Counter()\n",
        "def data_to_vocab(df):\n",
        "  for verbatim in df['translated']:\n",
        "    tokens = verbatim.split()\n",
        "    table = str.maketrans(\"\",\"\",string.punctuation)\n",
        "    tokens = [w.translate(table) for w in tokens]\n",
        "    tokens = [word for word in tokens if word.isalpha()]\n",
        "    stop_words = set(stopwords.words('english'))\n",
        "    tokens = [w for w in tokens if not w in stop_words]\n",
        "    tokens = [word for word in tokens if len(word)>1]\n",
        "    tokens = [word for word in tokens if len(tokens) > 4] \n",
        "    #for EN, 1 or 4 gets similar results. 8 is better for ~ 1%.\n",
        "    vocab.update(tokens)\n",
        "\n",
        "data_to_vocab(train)\n",
        "\n",
        "print(len(vocab))\n",
        "vocab.most_common(10)"
      ],
      "metadata": {
        "id": "dbqj4fz4AhHB",
        "colab": {
          "base_uri": "https://localhost:8080/"
        },
        "outputId": "a090bd7e-548d-41ef-f43e-06dee1c0df9b"
      },
      "execution_count": 6,
      "outputs": [
        {
          "output_type": "stream",
          "name": "stdout",
          "text": [
            "12205\n"
          ]
        },
        {
          "output_type": "execute_result",
          "data": {
            "text/plain": [
              "[('bank', 3867),\n",
              " ('money', 3366),\n",
              " ('card', 3103),\n",
              " ('Im', 2734),\n",
              " ('account', 2696),\n",
              " ('cant', 2170),\n",
              " ('app', 2129),\n",
              " ('The', 2129),\n",
              " ('Thailand', 2024),\n",
              " ('going', 1861)]"
            ]
          },
          "metadata": {},
          "execution_count": 6
        }
      ]
    },
    {
      "cell_type": "code",
      "source": [
        "min_occurence = 2\n",
        "tokens = [k for k, c in vocab.items() if c >= min_occurence]"
      ],
      "metadata": {
        "id": "lgt5YpKwA4OV"
      },
      "execution_count": 7,
      "outputs": []
    },
    {
      "cell_type": "code",
      "source": [
        "def save_list(lines, filename):\n",
        "  data = '\\n'.join(lines)\n",
        "  file = open(filename, 'w')\n",
        "  file.write(data)\n",
        "  file.close()\n",
        "  \n",
        "save_list(tokens, 'vocab.txt')"
      ],
      "metadata": {
        "id": "6WRSPUDvBSTK"
      },
      "execution_count": 8,
      "outputs": []
    },
    {
      "cell_type": "markdown",
      "source": [
        "#Train Embedding Layer"
      ],
      "metadata": {
        "id": "1U9_3A4GB3fV"
      }
    },
    {
      "cell_type": "code",
      "source": [
        "train_docs = train['translated']\n",
        "test_docs = test['translated']"
      ],
      "metadata": {
        "id": "uHLExRvJDxcL"
      },
      "execution_count": 9,
      "outputs": []
    },
    {
      "cell_type": "code",
      "source": [
        "def load_doc(filename):\n",
        "  file = open(filename, 'r')\n",
        "  text = file.read()\n",
        "  file.close()\n",
        "  return text\n",
        "\n",
        "vocab_filename = 'vocab.txt'\n",
        "vocab = load_doc(vocab_filename)\n",
        "vocab = vocab.split()\n",
        "vocab = set(vocab)\n",
        "print(vocab)"
      ],
      "metadata": {
        "id": "xH_CcW6OB6BF",
        "colab": {
          "base_uri": "https://localhost:8080/"
        },
        "outputId": "6cb5dc42-8bf4-42f2-a062-32b7cdaa6fbf"
      },
      "execution_count": 10,
      "outputs": [
        {
          "output_type": "stream",
          "name": "stdout",
          "text": [
            "{'parking', 'fill', 'onwards', 'inspection', 'negative', 'booth', 'farming', 'find', 'extends', 'meets', 'battle', 'Mega', 'dumber', 'Callcenter', 'Whoever', 'product', 'catch', 'Nate', 'runs', 'Dmudo', 'puts', 'Coordinating', 'figure', 'recently', 'request', 'estimates', 'Oppo', 'reenter', 'Application', 'crews', 'accused', 'another', 'stick', 'Rajohin', 'connects', 'WDP', 'funny', 'everyday', 'comes', 'province', 'Pa', 'tire', 'changes', 'pictures', 'backing', 'Inquiry', 'loose', 'Ayad', 'teachers', 'salt', 'lt', 'flatinum', 'Tmbs', 'form', 'Reward', 'lately', 'Emquatier', 'Lisa', 'Cancel', 'blue', 'unscrewed', 'heard', 'Ickckckckckckck', 'stand', 'weigh', 'annoyance', 'Most', 'besides', 'tough', 'Trumanny', 'UChoose', 'confirmed', 'expecting', 'responsehow', 'KUSXNDQAA', 'beautiful', 'mart', 'pull', 'richer', 'Fill', 'failure', 'Refinancing', 'swear', 'restructuring', 'screens', 'memorized', 'Office', 'Patt', 'different', 'millionmonth', 'SCBnbspnbsp', 'Introducing', 'designs', 'serious', 'Muang', 'retransmitted', 'programmer', 'ts', 'saving', 'Nvr', 'heal', 'shutting', 'realize', 'approves', 'government', 'Yesterday', 'calculated', 'crash', 'announce', 'publish', 'Less', 'AHHHHHHGHT', 'covering', 'rented', 'dun', 'safety', 'PM', 'amonnys', 'Lastly', 'stimulates', 'directs', 'share', 'Chase', 'yet', 'Basically', 'redelete', 'bus', 'shortterm', 'deed', 'Ost', 'Successful', 'living', 'pulls', 'asked', 'mask', 'rushed', 'Max', 'refueling', 'EMAIL', 'kaya', 'offers', 'qualifications', 'Convert', 'BRs', 'usually', 'Banks', 'applicants', 'finances', 'problemshut', 'wallets', 'tomorrows', 'Howd', 'DTAC', 'TT', 'sadly', 'recent', 'secondhands', 'Service', 'passport', 'died', 'dark', 'gym', 'Autobot', 'Preferred', 'Filling', 'infuses', 'lives', 'brok', 'didnt', 'floor', 'impossible', 'mobile', 'ontop', 'return', 'head', 'LC', 'debitATM', 'mynxo', 'Wongsiwat', 'surprise', 'Push', 'door', 'mechanic', 'Broke', 'entire', 'Citi', 'Ill', 'stress', 'ref', 'Scbplanet', 'visa', 'scratching', 'postponed', 'rarely', 'computer', 'figured', 'con', 'pretty', 'krypto', 'attm', 'publicity', 'cat', 'condition', 'badly', 'noted', 'channel', 'authentication', 'processed', 'Noquotgtgt', 'liquidity', 'important', 'teach', 'minor', 'Cupp', 'slight', 'gray', 'chill', 'though', 'printed', 'sweet', 'KrungthaiCare', 'help', 'walkie', 'took', 'centers', 'No', 'missingappless', 'Wei', 'broken', 'Charge', 'CDM', 'allnbspnbsp', 'doublebook', 'cases', 'logic', 'detailed', 'Kcash', 'rop', 'meonK', 'Axa', 'boarding', 'denial', 'KPLUS', 'registration', 'promptcardMasterCard', 'Yong', 'talk', 'merger', 'galaxy', 'divorced', 'authenticating', 'Canal', 'prepare', 'Klem', 'wasnt', 'funds', 'Teampnbspampnbspnot', 'permission', 'twenty', 'cry', 'gwallet', 'mermorandum', 'zero', 'updated', 'AM', 'Impressive', 'At', 'exchanging', 'none', 'American', 'Used', 'mrt', 'trmb', 'okay', 'booker', 'move', 'Officer', 'prior', 'bitcoin', 'nbspampnbsp', 'dispute', 'repayment', 'protection', 'Negotiate', 'five', 'February', 'possible', 'Seng', 'Eomsin', 'analyze', 'additional', 'banknotes', 'cash', 'anything', 'ap', 'guess', 'million', 'non', 'behalf', 'Investment', 'IM', 'towards', 'confident', 'extra', 'factory', 'offering', 'Klocenter', 'running', 'impressed', 'According', 'Point', 'training', 'Administration', 'tomorrow', 'FIRST', 'dragged', 'retirement', 'Nothing', 'outofthebox', 'wrinkled', 'things', 'saying', 'canter', 'nbspnbspk', 'crew', 'Global', 'prefix', 'local', 'Focus', 'Connect', 'Pangani', 'unused', 'course', 'All', 'warn', 'original', 'Poong', 'roast', 'Thost', 'appreciate', 'Mr', 'incredibly', 'taught', 'Dadadada', 'bedridden', 'categories', 'embezzlement', 'Read', 'estimated', 'accidents', 'TEL', 'currency', 'SSF', 'unapproved', 'lose', 'haniying', 'Amex', 'splanet', 'This', 'Sis', 'relief', 'Father', 'waive', 'speaking', 'Transferd', 'Six', 'Bronx', 'asshole', 'payrolls', 'automatic', 'THB', 'dozens', 'krw', 'petition', 'Forget', 'times', 'Based', 'sides', 'cooperatives', 'Bill', 'necessity', 'reloads', 'thousand', 'filing', 'bankIts', 'Pic', 'sbb', 'Well', 'website', 'fault', 'Dolphin', 'avs', 'creditdebit', 'fighting', 'courage', 'systemautomatic', 'shuts', 'worked', 'depressing', 'goose', 'legs', 'Bitkub', 'OD', 'realm', 'stupid', 'responded', 'wood', 'Really', 'BCs', 'ordering', 'stockholder', 'sym', 'matched', 'habits', 'Lazada', 'bosss', 'BANK', 'continues', 'parties', 'convenient', 'inflation', 'Employees', 'losing', 'Precious', 'features', 'Benk', 'Face', 'Nations', 'transaction', 'abalonenbspnbsp', 'cupboards', 'union', 'requirements', 'soon', 'Sending', 'try', 'yen', 'thick', 'compared', 'cities', 'Kong', 'scanner', 'fastest', 'secret', 'ampnbspampnbsp', 'specify', 'Request', 'Commerce', 'werent', 'persons', 'Sale', 'burro', 'Both', 'indicating', 'key', 'Project', 'extremely', 'Truewallet', 'Wed', 'huh', 'existing', 'commitment', 'background', 'tree', 'canceled', 'team', 'lift', 'refilling', 'Ayun', 'Ampquot', 'viu', 'errands', 'Something', 'comparenbspnbspLH', 'saves', 'horse', 'MYMO', 'KSI', 'balances', 'Card', 'counsel', 'latenight', 'March', 'battalion', 'Lounge', 'paved', 'transport', 'agency', 'movement', 'Wallace', 'purchasesales', 'Islamic', 'reloaded', 'fast', 'scbthailandloveWithBBH', 'replaced', 'frame', 'Krungsri', 'NL', 'uptight', 'named', 'funded', 'confidence', 'pictured', 'lotus', 'putting', 'sympathized', 'Friday', 'caused', 'rural', 'Borrowed', 'bean', 'hide', 'affiliated', 'projects', 'opens', 'Payment', 'numbers', 'ps', 'payin', 'Latest', 'Scan', 'wars', 'Thugs', 'handicapped', 'passregistration', 'allow', 'willing', 'rounds', 'pmnbspnbsp', 'End', 'completely', 'hoping', 'email', 'reason', 'BlackPink', 'Chat', 'Bush', 'policy', 'Gim', 'cane', 'Walletpost', 'urlOmsin', 'INOX', 'plumbing', 'periods', 'Google', 'dividends', 'Weply', 'crazy', 'graduated', 'Closed', 'Omsins', 'fight', 'unfortunately', 'Want', 'documentary', 'Foodpanda', 'STATEMENT', 'venting', 'admiring', 'extend', 'thinks', 'shake', 'saved', 'Omsin', 'user', 'cool', 'business', 'options', 'fixing', 'picture', 'accountants', 'Diamond', 'Cr', 'always', 'baby', 'Ratchapat', 'far', 'given', 'renting', 'KMy', 'theyd', 'measures', 'inbox', 'Booking', 'ThaiUnited', 'Port', 'Click', 'doubts', 'Iservis', 'consulting', 'couple', 'security', 'wanted', 'www', 'Coinsnbspnbsp', 'special', 'older', 'substitutions', 'Lottery', 'Vietnam', 'necessary', 'subscribed', 'domestic', 'held', 'fryer', 'CreditnbspnbspSin', 'debtors', 'Metropolitan', 'splitting', 'invest', 'complete', 'thisIm', 'shift', 'Pump', 'lowbuyer', 'love', 'plus', 'saw', 'Petchbun', 'billed', 'looking', 'transferd', 'toyota', 'sorry', 'Green', 'Retention', 'marriage', 'depositremoved', 'Repair', 'received', 'arranged', 'CITIES', 'however', 'patient', 'itIm', 'Asset', 'Tevez', 'graduate', 'emoji', 'notsend', 'jar', 'mile', 'selected', 'walks', 'urgently', 'imported', 'central', 'subbanks', 'fifth', 'exchange', 'lazada', 'require', 'autodeposit', 'dialed', 'Srifurs', 'conjunction', 'authenticated', 'claim', 'plain', 'extension', 'strip', 'duress', 'Some', 'rated', 'thaipanis', 'sadboyoxygen', 'consists', 'Does', 'remember', 'worried', 'days', 'metaphor', 'auditors', 'reviewers', 'Oct', 'answered', 'departmental', 'sits', 'trash', 'operating', 'week', 'question', 'specialist', 'real', 'filming', 'bankI', 'unlimited', 'withdrawn', 'pulling', 'shoot', 'advertised', 'officebank', 'device', 'wish', 'strange', 'BEM', 'failed', 'npl', 'relatives', 'change', 'Ions', 'clear', 'weeks', 'dividend', 'shitty', 'admin', 'stopped', 'muzzle', 'letter', 'eveningnbsp', 'ume', 'shown', 'reporter', 'accounts', 'Express', 'angry', 'corrected', 'scratch', 'Tuesday', 'KrungthaiAXA', 'refuel', 'SMSEmail', 'belongs', 'spins', 'lighter', 'debts', 'reinstitutes', 'causing', 'Fleshie', 'arrived', 'leverage', 'appointment', 'AMEX', 'Zenem', 'atms', 'control', 'Protection', 'hardtoconnect', 'customer', 'KTCs', 'Make', 'LCB', 'cantnbsp', 'canned', 'along', 'requests', 'delay', 'life', 'MyMo', 'tmbbank', 'dude', 'Mastercard', 'rather', 'reopened', 'FUN', 'However', 'Class', 'notify', 'GSBSociety', 'fathers', 'sympathetic', 'defaults', 'stocks', 'row', 'krungsri', 'Gray', 'system', 'Friends', 'Union', 'image', 'Wrong', 'margin', 'tops', 'hour', 'verify', 'Nonstop', 'clean', 'psychiatrist', 'Sometimes', 'apologized', 'After', 'notified', 'inquiries', 'walletpost', 'Mould', 'unreachable', 'pearl', 'Thai', 'trapped', 'plantscb', 'nowI', 'late', 'degree', 'forward', 'England', 'Boo', 'yordyings', 'inside', 'signed', 'TTB', 'Turn', 'theatre', 'holder', 'mess', 'wedge', 'evaluation', 'plans', 'Av', 'canal', 'fine', 'Livenbspnbsp', 'sucker', 'Bigc', 'APP', 'debitscb', 'Deedy', 'gen', 'leave', 'nearest', 'axa', 'Of', 'Search', 'appsEasku', 'already', 'High', 'automatically', 'launch', 'weird', 'insurance', 'Officials', 'lifestyle', 'Years', 'Complaint', 'pension', 'returned', 'Interest', 'wasteful', 'verifiedampnbspnbsp', 'Junsompong', 'Expire', 'Imperial', 'refinance', 'Sin', 'sedans', 'database', 'technologyregistration', 'score', 'Whens', 'Macondo', 'gang', 'waived', 'immediately', 'Covid', 'mortgage', 'Chubb', 'sites', 'experience', 'Advertising', 'Bgrade', 'random', 'Remote', 'suited', 'contains', 'Buri', 'bad', 'identifiers', 'exam', 'INVEST', 'several', 'Chet', 'opened', 'daytoday', 'position', 'commented', 'po', 'acquaintance', 'Transferred', 'scbtailand', 'Cheng', 'Revenue', 'Secon', 'die', 'checker', 'terms', 'sat', 'secondary', 'friday', 'ThaiOmsin', 'That', 'receipts', 'serve', 'promote', 'Close', 'Panda', 'hotel', 'remove', 'Save', 'disputegroupktb', 'editing', 'Ktc', 'calculations', 'conducting', 'httpstcoVDJArfSmph', 'deal', 'Payne', 'fear', 'subpoena', 'Silver', 'management', 'Ready', 'iPhones', 'music', 'sirampnbspnbsp', 'piece', 'sums', 'Cardless', 'Second', 'reserve', 'NAV', 'eg', 'Choppy', 'switching', 'deeds', 'annoyances', 'retrieved', 'Signed', 'mani', 'Heavy', 'reception', 'appear', 'old', 'third', 'searched', 'frustrating', 'premier', 'towed', 'become', 'Sunday', 'guts', 'thousands', 'successfully', 'durable', 'closest', 'refillable', 'addicts', 'SCBampnbspampnbsp', 'pardon', 'loosens', 'Society', 'Oil', 'monthly', 'Siietongkum', 'robots', 'queueing', 'cause', 'omesin', 'show', 'Busayarat', 'mortgaged', 'payphone', 'PAYROLL', 'SMSSCB', 'onh', 'fuzzy', 'privilege', 'managerampnbspampnbsp', 'socket', 'Theyll', 'Requesting', 'omsin', 'enrolling', 'Sim', 'breaks', 'banker', 'Renovated', 'mommy', 'Give', 'halfway', 'chance', 'National', 'JASIF', 'peoples', 'Clear', 'logged', 'groups', 'Walking', 'Havent', 'cheated', 'rewards', 'affiliates', 'follows', 'doubted', 'Zhong', 'iPhone', 'technologically', 'mooring', 'kbizcontactcentermirrorkasikornbankcom', 'lend', 'speaker', 'bmta', 'automation', 'Connectics', 'logins', 'mango', 'Onerek', 'barbucks', 'screaming', 'Samutprakarn', 'everything', 'upload', 'Somphon', 'announced', 'Clearly', 'troublesome', 'giving', 'match', 'mBanking', 'cried', 'mass', 'insert', 'neededIve', 'Kon', 'filling', 'accountant', 'behaved', 'PeDPiPU', 'krungthaiNext', 'umbrella', 'BOI', 'dollars', 'clicks', 'See', 'lockI', 'tags', 'counted', 'clutter', 'depending', 'sme', 'weekends', 'results', 'accessed', 'sucked', 'Deputy', 'Round', 'interesting', 'Inbox', 'Anyway', 'unregistered', 'seized', 'reviewing', 'Pathom', 'sit', 'BUG', 'state', 'reset', 'Kaen', 'Major', 'DEO', 'If', 'conceived', 'please', 'error', 'proscons', 'employee', 'TC', 'hurry', 'draft', 'Jakarin', 'cutoff', 'visas', 'Court', 'cant', 'PeckPalitchoke', 'ass', 'Colcenter', 'Scbeasyapp', 'httpskmyinvestkasikornbankcom', 'amampnbspampnbspnbsp', 'heading', 'thos', 'protected', 'Generalis', 'digits', 'quickest', 'Apples', 'guidance', 'applying', 'Investing', 'longawaited', 'boat', 'bag', 'menus', 'Sch', 'bankthe', 'confusedI', 'slipon', 'Pink', 'PASSBOOK', 'project', 'lowclass', 'Earlier', 'within', 'unstable', 'prints', 'sister', 'PEC', 'ideology', 'KBang', 'tying', 'mnptwt', 'war', 'Complete', 'spare', 'Financial', 'ratings', 'salaries', 'endofthetown', 'Suggested', 'preservation', 'work', 'cardutrip', 'dca', 'bro', 'Admins', 'abalone', 'Subsidiaries', 'Intreovert', 'worldfamous', 'Ban', 'younbsp', 'Pym', 'shops', 'issues', 'Fast', 'fee', 'ThailandOmsin', 'businesses', 'turn', 'PTTGC', 'Send', 'Ivra', 'refilled', 'Imy', 'doctor', 'lotteries', 'UOBs', 'Fund', 'frozen', 'sri', 'hold', 'Sept', 'ease', 'GHB', 'GSCIMB', 'carries', 'ten', 'venture', 'skeptical', 'Paypal', 'arh', 'Called', 'twoquarter', 'seconds', 'Store', 'fivebaht', 'curve', 'Buy', 'workkma', 'bind', 'fortune', 'Apapa', 'code', 'according', 'identity', 'Nakhon', 'hassle', 'Wdf', 'gave', 'presseduse', 'allowance', 'washed', 'ow', 'compilation', 'Trade', 'Ton', 'His', 'rent', 'line', 'restructured', 'theyve', 'coupon', 'teeth', 'every', 'starting', 'branch', 'feature', 'NPL', 'Maneerung', 'without', 'howispsg', 'passed', 'crutches', 'entrepreneur', 'kabang', 'withdraw', 'Small', 'behind', 'leader', 'buttons', 'postal', 'Corcenter', 'Eiebe', 'gather', 'choosing', 'unique', 'stock', 'solved', 'Management', 'frankly', 'dizzy', 'supported', 'regression', 'Notify', 'CB', 'quiet', 'Settings', 'Short', 'uncomfortable', 'apple', 'TMBALLFREE', 'opinion', 'mydaotown', 'creditors', 'Tmb', 'SheStrong', 'kc', 'Change', 'tall', 'USD', 'Corona', 'Nmax', 'Sriyutthayas', 'proud', 'Master', 'hurts', 'mi', 'thrown', 'blacklist', 'know', 'transferring', 'Saturday', 'afford', 'wake', 'theres', 'Rai', 'needs', 'Health', 'Tuatm', 'flat', 'Press', 'Saris', 'popcorn', 'November', 'Amymo', 'SEC', 'SCBRMGHC', 'risk', 'zipper', 'movies', 'hung', 'anyway', 'Chief', 'lines', 'side', 'executives', 'Ubonrat', 'Amortization', 'adjusts', 'townhouse', 'waited', 'Cause', 'Freaky', 'adding', 'firstshoe', 'ways', 'clearing', 'paperwork', 'WiFi', 'common', 'Plug', 'hardly', 'informs', 'January', 'stole', 'activate', 'tofu', 'exceed', 'deleted', 'UK', 'puzzles', 'coding', 'OK', 'remembers', 'SCBampnbspnbspAmex', 'irresponsible', 'across', 'presentAmaknae', 'express', 'average', 'Thailands', 'BAY', 'afternoon', 'AEONTS', 'Buying', 'barracks', 'sucking', 'advised', 'Military', 'oilfree', 'Ubon', 'block', 'jcb', 'Kbizcontactcenterkasikornbankcom', 'rid', 'display', 'ThailandKrungthaiCare', 'feelings', 'provinces', 'Isus', 'rescan', 'combines', 'cap', 'Taxi', 'focused', 'occurs', 'clothes', 'carry', 'tmb', 'spouse', 'covid', 'Amazon', 'details', 'Lucky', 'appCard', 'yesterday', 'Gkivtec', 'looks', 'Run', 'Records', 'Incoming', 'finishing', 'Fortunately', 'familiar', 'confiscation', 'last', 'MAKE', 'whos', 'Instead', 'Reference', 'Stable', 'Margin', 'pump', 'withdrawals', 'AI', 'districts', 'recurrence', 'built', 'brutal', 'ok', 'mainly', 'files', 'taetewyn', 'nonbsp', 'korean', 'Tsk', 'CC', 'year', 'Lotus', 'dangerous', 'family', 'balancing', 'Symnet', 'mosi', 'La', 'yelled', 'Korea', 'Honda', 'names', 'Bummer', 'warm', 'Three', 'anymore', 'KKP', 'Will', 'scolded', 'nomination', 'fowwang', 'costeffective', 'ITMX', 'Preliminary', 'cover', 'simplest', 'theplanetIve', 'MP', 'Me', 'Each', 'Play', 'center', 'entertained', 'noticed', 'KBANKs', 'organization', 'format', 'live', 'thrilled', 'incoming', 'road', 'Prawich', 'lotteriesBut', 'Cards', 'differences', 'Ah', 'penny', 'lottery', 'met', 'Tablet', 'krungthai', 'upK', 'bugo', 'Government', 'spears', 'Amen', 'Bum', 'person', 'arrive', 'irritating', 'helps', 'replyKrungthaiThaiKrungthaiCarre', 'traveling', 'copies', 'savior', 'seemed', 'covit', 'Wish', 'Perfect', 'bounced', 'Receipt', 'otp', 'titanium', 'uobs', 'prepaid', 'coordinate', 'Unable', 'Dr', 'atomorbot', 'Rate', 'Kowid', 'towing', 'hard', 'inquiryer', 'prevent', 'overpay', 'Opened', 'private', 'Rangsit', 'Dismiss', 'apt', 'bike', 'foreigners', 'ones', 'hosts', 'throughnbspnbsp', 'Pros', 'sbbs', 'FF', 'signal', 'field', 'cares', 'declined', 'Leave', 'EasyIve', 'LIVE', 'Kowig', 'requesting', 'stream', 'recorded', 'CCSCB', 'selling', 'overdose', 'Step', 'Front', 'Kebank', 'Sell', 'hesitant', 'dualuang', 'Number', 'Wednesday', 'ghosts', 'division', 'TE', 'seeing', 'ppnnpp', 'searching', 'Or', 'Closing', 'tablet', 'ttb', 'SCBs', 'phoenix', 'hanging', 'girlfriend', 'Finally', 'passing', 'taxed', 'Paul', 'youre', 'keeps', 'collect', 'Messenger', 'volumes', 'refresh', 'retransfer', 'available', 'preliminary', 'Acumkom', 'Transferring', 'flying', 'wrote', 'engrave', 'Information', 'invalid', 'Great', 'wow', 'Asking', 'Good', 'algorithm', 'fire', 'kjourney', 'Then', 'inquire', 'TheChlxxx', 'Unyong', 'gift', 'intrusion', 'Kaya', 'Thomps', 'cheat', 'frequently', 'capitals', 'mom', 'Thursday', 'favor', 'provider', 'displayed', 'tricks', 'changed', 'borrowing', 'updatingIve', 'ibanking', 'remaining', 'wiser', 'Security', 'midnight', 'Thonshat', 'evidence', 'bookbank', 'locations', 'summed', 'suggest', 'Bureau', 'member', 'deals', 'kind', 'Top', 'hasslefree', 'Selling', 'improve', 'eating', 'mymos', 'misinformation', 'returning', 'Powerbuy', 'Busy', 'BBL', 'ceiling', 'considering', 'first', 'multiple', 'bats', 'closing', 'Currently', 'Feels', 'ios', 'Turns', 'httpstcouCVeFjaKHt', 'Ep', 'IDd', 'vote', 'victim', 'bang', 'phonenet', 'illness', 'model', 'top', 'Banshee', 'Prestige', 'Senlad', 'except', 'moonbackp', 'sessions', 'journey', 'friends', 'Mina', 'cashier', 'word', 'correctly', 'restart', 'Keplus', 'wirojlak', 'fuck', 'Kid', 'rules', 'Tech', 'villagers', 'oh', 'delayedtalk', 'BTC', 'bettervery', 'Clinic', 'hair', 'pressing', 'arrow', 'bird', 'Sianz', 'cards', 'hacker', 'Phraya', 'GP', 'Help', 'master', 'audio', 'conversations', 'sterilization', 'wfh', 'arrange', 'serviced', 'grand', 'village', 'Korean', 'bank', 'confused', 'enormous', 'continuous', 'hed', 'holidays', 'leading', 'reputation', 'unlock', 'working', 'Yats', 'Srees', 'Thongsepee', 'Ouch', 'hero', 'Tak', 'themIve', 'ur', 'Hall', 'transferers', 'everyones', 'Chanel', 'finding', 'allfree', 'someone', 'agoda', 'incident', 'Thongchat', 'air', 'people', 'motorbike', 'TMBs', 'clarify', 'involved', 'annoying', 'shrimp', 'renovation', 'spends', 'dont', 'Net', 'Say', 'bblam', 'theme', 'October', 'result', 'abroad', 'want', 'informing', 'Louis', 'wash', 'honor', 'wheels', 'receives', 'swipe', 'PTT', 'Lone', 'longest', 'overhead', 'What', 'explains', 'Tong', 'OM', 'Left', 'starter', 'sold', 'Experience', 'almost', 'sellers', 'Subscribe', 'Flow', 'adjusted', 'delayed', 'months', 'expenditure', 'period', 'concession', 'curious', 'release', 'ThaiNex', 'authors', 'vision', 'viewed', 'Users', 'let', 'Invest', 'reject', 'Gateway', 'corrections', 'unsubs', 'advise', 'Its', 'Yu', 'Find', 'TMRW', 'button', 'double', 'hospot', 'instead', 'trip', 'KBank', 'Exchanging', 'fifteen', 'open', 'pwittaya', 'need', 'specifically', 'Apply', 'guide', 'stalling', 'downloaded', 'spending', 'description', 'moon', 'trade', 'broker', 'wants', 'benefits', 'alternative', 'Longer', 'Theyve', 'fooled', 'crossbank', 'Child', 'Facebook', 'itch', 'Next', 'ipo', 'bed', 'forcing', 'convert', 'AP', 'page', 'ARKK', 'usedampnbspampnbsp', 'Bad', 'checking', 'indicated', 'tmbs', 'thai', 'rewarded', 'add', 'pops', 'switch', 'VIP', 'passes', 'assistance', 'cycles', 'principal', 'jams', 'Car', 'patents', 'overdo', 'leaveofthehour', 'asset', 'stays', 'damn', 'ROP', 'mines', 'advantageous', 'Isnt', 'gain', 'contacts', 'bucks', 'listing', 'Let', 'suitcase', 'Group', 'incremental', 'texts', 'balance', 'funeral', 'Better', 'cousin', 'checked', 'minichanchii', 'debtor', 'cars', 'hacked', 'caps', 'supportive', 'Mine', 'pages', 'PayPal', 'drawing', 'Telephone', 'Were', 'suggestion', 'pros', 'Theres', 'lapisdotlazuli', 'Gru', 'deny', 'showed', 'safe', 'driver', 'Hong', 'fe', 'Benefit', 'Solves', 'Janyu', 'appointments', 'replacement', 'Free', 'Deuty', 'Comico', 'whats', 'thieves', 'sometimes', 'Bread', 'hands', 'randomly', 'Deposits', 'embassy', 'morss', 'erase', 'sleeps', 'ICBC', 'To', 'cannot', 'Choose', 'Tc', 'service', 'normally', 'izei', 'kcyber', 'discussed', 'hundreddollar', 'indifferent', 'mental', 'regularly', 'sleep', 'join', 'luxe', 'ampnbsp', 'fake', 'sell', 'cleared', 'Load', 'indicates', 'cancel', 'together', 'minus', 'smile', 'editorial', 'divrari', 'EOM', 'snacks', 'likes', 'crashed', 'upset', 'hows', 'MRR', 'debt', 'easily', 'html', 'smartphone', 'Hows', 'estate', 'pending', 'remains', 'rejecting', 'Never', 'Thats', 'history', 'infinite', 'thsnbsp', 'taxpayers', 'scores', 'Identify', 'messy', 'default', 'debit', 'repeat', 'Airport', 'investor', 'bit', 'av', 'Fs', 'Consumers', 'Ampnbspnbsp', 'wouldnt', 'schedule', 'Kanchanaburi', 'SWIFT', 'new', 'buses', 'Checking', 'swinging', 'Confirmation', 'scan', 'uhhuh', 'Berutinomati', 'Normal', 'openings', 'paint', 'TMB', 'shut', 'transfers', 'sometime', 'bills', 'definitely', 'Bung', 'excited', 'words', 'itso', 'Leasing', 'envelope', 'Luang', 'twice', 'plastic', 'wiped', 'pass', 'view', 'queues', 'Wipada', 'wasting', 'purchased', 'stunned', 'watch', 'month', 'manners', 'Alienz', 'Transfering', 'followed', 'scam', 'rush', 'owners', 'GMarket', 'manages', 'free', 'Yuckyy', 'Shit', 'erupted', 'ChoicenbspKTC', 'restructure', 'input', 'nbspnbsp', 'scale', 'transferable', 'sree', 'engine', 'On', 'sugar', 'Maybe', 'KFC', 'preferred', 'closed', 'playing', 'fivemonth', 'complicated', 'photos', 'Manager', 'Start', 'SAVINGS', 'Shot', 'Eaaw', 'Ports', 'lying', 'fund', 'institution', 'TISCO', 'give', 'Eon', 'Burrows', 'Unfortunately', 'afraid', 'filetypes', 'Remember', 'bankrupt', 'Meat', 'worry', 'temporary', 'jerk', 'event', 'Gastor', 'suck', 'capital', 'worlds', 'wheeled', 'sailors', 'mflow', 'Gwallet', 'prize', 'rejected', 'Open', 'Plus', 'bars', 'Sri', 'economy', 'feared', 'laugh', 'Reverend', 'Tel', 'dealing', 'transfered', 'Tshirts', 'autostatement', 'Fixed', 'LINE', 'ringing', 'SRI', 'Dadada', 'accepted', 'ids', 'Price', 'reads', 'terminal', 'painter', 'red', 'provides', 'Besides', 'Thos', 'commenting', 'tfx', 'review', 'Toss', 'son', 'Simple', 'airport', 'ununuchisa', 'approvals', 'much', 'helped', 'scbs', 'Apple', 'Where', 'Mostly', 'scb', 'sent', 'performance', 'contactless', 'Everyone', 'disconnect', 'Scbam', 'Importantly', 'yell', 'reasons', 'survive', 'documentation', 'Ayutthaya', 'Line', 'dog', 'focusing', 'tmbbankcomcardscreditcardstmbsosmartcardhtmlhtml', 'burning', 'support', 'Spend', 'carrying', 'answer', 'deduct', 'sixdigit', 'Been', 'clubs', 'sharp', 'younbspnbsp', 'Travelling', 'concluded', 'fines', 'covital', 'install', 'growing', 'systemI', 'facilitate', 'motherfucker', 'Octnbspnbsp', 'Whoevers', 'Gum', 'bualuang', 'Happy', 'trunks', 'Have', 'played', 'scheduled', 'DA', 'von', 'Ewang', 'speedy', 'IRS', 'Chumsiri', 'Shoppee', 'understood', 'Almost', 'Apache', 'final', 'Wall', 'illegal', 'Savings', 'post', 'case', 'allowed', 'EVERYDAY', 'PA', 'tour', 'restaurants', 'file', 'sims', 'Loans', 'cimb', 'painful', 'unsub', 'Askscbthailand', 'replacements', 'Toyota', 'merge', 'pictwittercomBWqGfGyAVn', 'nvr', 'shot', 'Waves', 'basically', 'couldnt', 'smooth', 'bk', 'hours', 'ktcs', 'Post', 'hardest', 'particular', 'Since', 'offshore', 'trips', 'millionyear', 'acting', 'throw', 'knew', 'select', 'Yen', 'fined', 'Updated', 'drag', 'yuan', 'interest', 'dads', 'alongIve', 'touchso', 'scbeasy', 'Family', 'Hot', 'voila', 'Care', 'institutions', 'accordingly', 'apart', 'Soldiers', 'Agent', 'Harbor', 'fuss', 'luck', 'excuse', 'planning', 'lunch', 'primary', 'KClass', 'personal', 'deletes', 'confuse', 'problemsother', 'Pike', 'inquiry', 'burdensnbspnbsp', 'voluntary', 'highend', 'Claucenter', 'court', 'improved', 'summarize', 'DEBIT', 'reference', 'ThaiNet', 'linked', 'Udon', 'past', 'Finance', 'records', 'Byebye', 'Except', 'Orange', 'small', 'condo', 'consideration', 'peopleIm', 'taking', 'Izd', 'inaccessible', 'fucked', 'She', 'assets', 'Client', 'behavior', 'CAD', 'ATMdebit', 'percent', 'deceiving', 'Colzts', 'loosen', 'Report', 'expiration', 'app', 'shortened', 'Authorities', 'frustrated', 'announcement', 'Taiwan', 'misunderstanding', 'pttgc', 'invested', 'rema', 'authentic', 'Mom', 'keep', 'choice', 'hire', 'barn', 'zeng', 'kplus', 'ask', 'Thainecks', 'oonbs', 'loads', 'amplified', 'beginning', 'For', 'heavy', 'Ng', 'Saving', 'deposits', 'constituents', 'booked', 'rate', 'yellow', 'Vat', 'say', 'urgent', 'cycle', 'recover', 'header', 'Strange', 'enrolled', 'bankholder', 'AA', 'Signa', 'Miracle', 'worker', 'reservation', 'task', 'delays', 'You', 'Refinance', 'Citigold', 'bruised', 'scbplanet', 'like', 'ipad', 'closer', 'property', 'determine', 'expired', 'Mother', 'famous', 'ends', 'Arumati', 'paying', 'logs', 'license', 'rushing', 'gmarket', 'ran', 'writing', 'truth', 'language', 'located', 'attractive', 'Nike', 'filler', 'TU', 'comfortable', 'reinterest', 'virus', 'Stm', 'hostess', 'cross', 'shareholders', 'Thammarat', 'sharks', 'RatchaSun', 'gotta', 'star', 'hierarchy', 'resigning', 'Si', 'User', 'study', 'yesterdays', 'equal', 'note', 'ATM', 'Chai', 'succeeded', 'box', 'Ae', 'Ordered', 'way', 'issued', 'parked', 'swirling', 'reschedule', 'servant', 'thief', 'reading', 'repay', 'askif', 'Decree', 'BL', 'Tucchats', 'expands', 'retrieval', 'Edog', 'wheel', 'VCI', 'CBACQBUALUANG', 'Cloud', 'Assuming', 'Banker', 'daughters', 'Market', 'Prapa', 'refused', 'notes', 'repaid', 'BaSss', 'turning', 'Crazy', 'Cos', 'blow', 'fair', 'providers', 'amount', 'tie', 'simple', 'basis', 'treatment', 'benefit', 'grown', 'bestIve', 'character', 'damage', 'Lisas', 'ree', 'category', 'Aeons', 'horrible', 'SMs', 'conclusion', 'wallpaper', 'robinhood', 'noticing', 'Thainex', 'safari', 'LHnbspnbsp', 'cui', 'airasia', 'memory', 'used', 'tagging', 'Sure', 'China', 'July', 'Deduct', 'global', 'loss', 'zerobahtscb', 'fucking', 'circulation', 'reconsider', 'Pick', 'Youtrip', 'agreed', 'depositor', 'tonbspnbsp', 'costing', 'Torrong', 'overpriced', 'cancellation', 'ago', 'youtrip', 'There', 'Thoks', 'hand', 'tripled', 'floating', 'reimbursement', 'kidney', 'police', 'Chang', 'dad', 'subscribe', 'shopping', 'tower', 'assume', 'card', 'Connext', 'Bangkokbank', 'apologize', 'httpsmoneykapookcomview', 'transferee', 'cos', 'Neg', 'even', 'game', 'repeating', 'hungry', 'dinner', 'think', 'claming', 'Campaign', 'Huh', 'permanently', 'girlfriends', 'threw', 'humans', 'threemonth', 'marketing', 'UI', 'platinum', 'Working', 'Pass', 'personnel', 'burns', 'suddenly', 'Patriots', 'Repel', 'ScB', 'Look', 'Thoknbspnbsp', 'hello', 'Securities', 'start', 'Pro', 'Jiggy', 'Summary', 'although', 'protect', 'Om', 'smiles', 'miles', 'bass', 'apic', 'strong', 'Autobots', 'mention', 'BBLsubstantial', 'asia', 'picking', 'requestsAnd', 'doors', 'incorrectly', 'scbpic', 'wifi', 'mad', 'againAll', 'ordinary', 'discounts', 'Refund', 'Songkran', 'two', 'Russias', 'caller', 'Actually', 'So', 'BC', 'fills', 'massacre', 'print', 'spotify', 'connecting', 'ended', 'renovations', 'low', 'jammed', 'eSAVINGS', 'Yearly', 'flowers', 'friend', 'luxury', 'developed', 'Mail', 'text', 'Confirming', 'legal', 'Thoroughly', 'happened', 'calls', 'operation', 'charges', 'Justice', 'husband', 'disable', 'pressure', 'trouble', 'pissed', 'chased', 'paypaypal', 'Demeanor', 'retie', 'exchanged', 'scratched', 'KRW', 'Tickets', 'But', 'enough', 'April', 'privately', 'Convenient', 'photo', 'collapse', 'seating', 'vacation', 'Japan', 'dots', 'Vvo', 'director', 'zh', 'Youre', 'rabbbit', 'divided', 'Ps', 'jail', 'accept', 'acceptance', 'next', 'EZ', 'reductions', 'brew', 'iphone', 'Keep', 'donation', 'Going', 'owes', 'claims', 'modernize', 'comedy', 'clips', 'Verified', 'confirmation', 'food', 'Date', 'answers', 'redoing', 'weight', 'design', 'KbankLive', 'preorder', 'flower', 'weeps', 'Aww', 'ads', 'insufficient', 'cheating', 'Ladys', 'workers', 'alli', 'miss', 'ability', 'space', 'formula', 'Trumans', 'tone', 'bitIm', 'compartment', 'eats', 'many', 'signature', 'DM', 'truemoney', 'left', 'comfortableIm', 'stores', 'lifestyles', 'Pong', 'tightened', 'combined', 'Due', 'aliay', 'Swift', 'typical', 'weve', 'Valet', 'seems', 'valued', 'Grand', 'minutes', 'quickly', 'BAAC', 'seller', 'DC', 'Air', 'deposition', 'Mar', 'Shares', 'Driving', 'esaving', 'fool', 'size', 'visiting', 'loved', 'booking', 'Recommend', 'Jernies', 'autonomous', 'kmy', 'Tisco', 'activated', 'later', 'Treasury', 'showing', 'lowincome', 'bringing', 'phoneID', 'believe', 'packages', 'From', 'queue', 'tell', 'pin', 'poor', 'mybspnbsp', 'waiver', 'forgive', 'topic', 'exactly', 'paycheck', 'pantsnbsp', 'Therefore', 'freezes', 'cardsHuh', 'selection', 'callnbspnbsp', 'alarm', 'Book', 'Marhahaha', 'renew', 'Later', 'renewed', 'receptionist', 'cashback', 'Farrook', 'reward', 'orange', 'Cash', 'tool', 'Retired', 'conflict', 'managers', 'KBankWhy', 'put', 'In', 'brings', 'httpstcoCBDHqKhdp', 'neck', 'Recommended', 'Automatically', 'Lt', 'senior', 'canceling', 'Nush', 'Thaineck', 'admire', 'passwords', 'factor', 'juristic', 'QARCOCH', 'refill', 'unsuccessful', 'Ais', 'morning', 'bond', 'kid', 'Angkid', 'sink', 'unit', 'Need', 'GSB', 'easiest', 'parts', 'rabbit', 'boro', 'evaluated', 'due', 'grandmothers', 'right', 'mean', 'ltltlt', 'Wang', 'Destination', 'register', 'Running', 'installment', 'oldfashioned', 'cancels', 'registered', 'woken', 'dormitory', 'Update', 'picked', 'mouth', 'Limousine', 'recommended', 'promotions', 'blur', 'Potify', 'applynbspnbsp', 'somnobless', 'Visa', 'SC', 'analysis', 'roughly', 'band', 'affecting', 'condominium', 'summarized', 'passable', 'ODs', 'Tevin', 'Aw', 'Wont', 'Expires', 'super', 'passesIts', 'savings', 'fc', 'dtac', 'distance', 'blogs', 'coownership', 'VPN', 'threatening', 'Thks', 'truck', 'tend', 'spay', 'correct', 'commissioner', 'Fighting', 'Our', 'falls', 'banksubstantial', 'TOT', 'bonuses', 'authorities', 'tweet', 'converted', 'pays', 'Ktcs', 'initial', 'tmrw', 'going', 'earlier', 'daily', 'longdistance', 'PS', 'rubber', 'flights', 'answering', 'Grusrik', 'EUR', 'id', 'Over', 'mlive', 'posted', 'True', 'itThai', 'Chiang', 'eppanng', 'manage', 'nationals', 'Rijing', 'iPad', 'knowing', 'drive', 'Whats', 'Songkain', 'UCHOOSE', 'Right', 'authorize', 'Jack', 'commercials', 'salvage', 'station', 'Af', 'Check', 'collaboration', 'toiletnbspnbsp', 'anyone', 'Chan', 'Done', 'Wisdoms', 'beat', 'steps', 'carnbspnbsp', 'SALE', 'butterflyuxu', 'ais', 'Admin', 'Declaration', 'ktc', 'practical', 'tones', 'Ave', 'method', 'Bbl', 'AIRBNB', 'Real', 'US', 'brogue', 'stored', 'expense', 'lowpriced', 'access', 'mama', 'holiday', 'Finest', 'None', 'likely', 'shark', 'realme', 'toxic', 'rock', 'Hmmm', 'anyones', 'Mani', 'Rush', 'PEA', 'Cups', 'green', 'disappointed', 'solve', 'crosssection', 'candidate', 'consultation', 'hundred', 'among', 'panel', 'sisters', 'amp', 'wealth', 'NUMber', 'provided', 'Week', 'Manny', 'German', 'foster', 'karma', 'blocks', 'insecure', 'Trumooves', 'offered', 'documents', 'plate', 'rule', 'eightandahalf', 'Easter', 'night', 'money', 'spell', 'Thong', 'interests', 'Any', 'blacklisted', 'cuts', 'resolved', 'bummer', 'treating', 'Download', 'clears', 'calendar', 'brogues', 'Student', 'SCBAM', 'says', 'accepts', 'mortgages', 'Cant', 'Excited', 'expensive', 'develop', 'sympathize', 'Embanking', 'car', 'Account', 'bonds', 'former', 'Seoi', 'tea', 'Youve', 'PTTEP', 'including', 'itIve', 'millions', 'Sahapat', 'Aliexpress', 'robbers', 'itemSMS', 'Blackpink', 'alreadydefined', 'SCBampnbspnbsp', 'eye', 'directly', 'four', 'intend', 'profits', 'starts', 'index', 'Euro', 'trusted', 'chat', 'search', 'buyer', 'least', 'Won', 'Sicorn', 'FREE', 'editor', 'Sodax', 'disappear', 'investing', 'plug', 'fourth', 'avoided', 'brothers', 'USA', 'goohaha', 'meafter', 'SD', 'meat', 'stepped', 'Got', 'Contact', 'Purchased', 'isnt', 'Khon', 'OTP', 'JLPT', 'Mess', 'public', 'links', 'Why', 'worst', 'blooms', 'Reboot', 'fellow', 'today', 'moments', 'SIN', 'outdated', 'applicant', 'Today', 'story', 'rings', 'Rum', 'Venice', 'filled', 'KeSaving', 'Found', 'kbank', 'responsibilities', 'process', 'easy', 'responds', 'Nan', 'Pronet', 'brighter', 'valid', 'monthlyyear', 'using', 'Mines', 'redund', 'concerned', 'PayPay', 'postpone', 'goes', 'glad', 'inmoney', 'EMERGENCY', 'doctors', 'freenasus', 'completed', 'Use', 'girl', 'doesnt', 'trunk', 'Agriculture', 'binding', 'statements', 'mail', 'connect', 'Stupid', 'Lush', 'waiting', 'camp', 'BTS', 'alert', 'Once', 'deducting', 'Select', 'reload', 'Add', 'switched', 'Do', 'borrower', 'oooo', 'continued', 'handling', 'NuneNoonieyy', 'shes', 'replied', 'Jmart', 'LoveReview', 'nearby', 'end', 'inefficient', 'English', 'Dunno', 'Sbito', 'better', 'phase', 'ignoring', 'aeon', 'wallet', 'Thaks', 'forth', 'ground', 'summary', 'paypal', 'Mall', 'INTERNET', 'caretaker', 'Damn', 'httpstco', 'wrong', 'introduce', 'shipping', 'citys', 'French', 'reduce', 'town', 'speaks', 'asks', 'secured', 'Kjourney', 'twoweek', 'unusual', 'Questions', 'diligent', 'tastes', 'Kev', 'thanks', 'scary', 'obligations', 'street', 'Prairie', 'light', 'rise', 'Heres', 'HR', 'highvalue', 'plugs', 'passengers', 'theplanet', 'went', 'fraud', 'tech', 'Scary', 'NZD', 'expect', 'Reloaded', 'setting', 'limits', 'host', 'items', 'Amp', 'FWD', 'Woody', 'manual', 'example', 'Transferwise', 'stands', 'Ram', 'subsidy', 'coffee', 'developer', 'certain', 'specified', 'finished', 'Robinson', 'semester', 'DEA', 'message', 'Having', 'respectively', 'Think', 'bahtyear', 'Mei', 'edit', 'camera', 'hackers', 'Easy', 'walletnbspnbsp', 'Samsung', 'Anyone', 'nuns', 'retention', 'antibiotics', 'Klus', 'anyways', 'Drive', 'Bangkokkaya', 'untruthful', 'click', 'Coin', 'lamer', 'cheap', 'af', 'loaners', 'conditions', 'Filled', 'wait', 'aftersales', 'version', 'emailpass', 'aba', 'shorter', 'situation', 'rotting', 'cutout', 'Lots', 'cutter', 'Coordinates', 'college', 'Excess', 'adPaid', 'careful', 'buying', 'store', 'Has', 'series', 'brave', 'guzen', 'inserted', 'women', 'Festival', 'Ava', 'RangsitNakkor', 'tag', 'Page', 'KBankLive', 'Melconfim', 'releases', 'cut', 'cabinets', 'account', 'addition', 'encountered', 'speak', 'Exclusive', 'atm', 'satisfied', 'moyaya', 'Se', 'constraints', 'Shes', 'sword', 'concert', 'decisions', 'Review', 'budget', 'cbcream', 'netbank', 'Ticket', 'fax', 'CPALL', 'banner', 'hacks', 'Sietongkum', 'loosened', 'Shopee', 'representative', 'notIts', 'scans', 'router', 'Until', 'Are', 'Kino', 'invoices', 'burdens', 'paychecks', 'blah', 'reader', 'philanthropy', 'initially', 'failing', 'especially', 'Amannys', 'critical', 'cloud', 'officials', 'seen', 'entry', 'importantly', 'pig', 'speed', 'chip', 'Remove', 'mistake', 'BlC', 'airpay', 'Fix', 'Life', 'Sea', 'recheck', 'destinations', 'walk', 'Option', 'huge', 'AIA', 'reducing', 'addresses', 'pro', 'phone', 'clarified', 'freefeeing', 'could', 'restaurant', 'correlate', 'take', 'Theyre', 'flow', 'Wheres', 'backed', 'cousins', 'privileges', 'theater', 'leaving', 'Mel', 'Nex', 'Loan', 'holding', 'fans', 'submits', 'peoplenbspnbsp', 'timeapps', 'Between', 'scbktb', 'ice', 'criminals', 'constraint', 'Taiwans', 'typically', 'TWD', 'equipment', 'electricity', 'Park', 'highest', 'Exchange', 'skull', 'peachizen', 'dm', 'oclock', 'scbsonline', 'value', 'suitable', 'bring', 'taxing', 'cord', 'Tipyas', 'loan', 'cupboard', 'seal', 'bedding', 'members', 'boyzana', 'zwingzet', 'cocapitalists', 'Charged', 'Wuhan', 'disabled', 'makes', 'digital', 'Bitcoin', 'Overall', 'Buayan', 'rotated', 'rep', 'status', 'Panish', 'kexpress', 'Robinhood', 'contacted', 'invite', 'wind', 'eventually', 'fan', 'insists', 'joys', 'claimed', 'buys', 'costume', 'swipes', 'agreement', 'unionpay', 'paper', 'higher', 'Repository', 'Get', 'direct', 'Mon', 'come', 'supports', 'Rabbit', 'advance', 'Pimp', 'toyubomm', 'BsHyuk', 'documented', 'Fuck', 'pisapim', 'seats', 'raised', 'Windy', 'IPZPAYCOM', 'PRICE', 'lends', 'starters', 'brand', 'nok', 'approved', 'Adisak', 'Kbiz', 'Tips', 'fingers', 'Credit', 'sense', 'nation', 'gateway', 'restarting', 'progress', 'redeeming', 'essay', 'mall', 'focus', 'step', 'atmquest', 'cold', 'Transfer', 'KrungthaiCarre', 'assessed', 'entitled', 'arent', 'disturb', 'ID', 'accounted', 'Someone', 'tick', 'Resolved', 'issue', 'promotional', 'reentry', 'transferees', 'Auto', 'dispenser', 'type', 'feestaxes', 'Dreamsaving', 'BECs', 'rude', 'Journey', 'comfort', 'ET', 'Sneaked', 'studying', 'plan', 'Finish', 'locked', 'Signature', 'airline', 'salvaged', 'vending', 'dial', 'pickup', 'Ibanking', 'happening', 'Rescue', 'returns', 'investments', 'weply', 'recommending', 'FCMG', 'Airasia', 'colors', 'Departments', 'brought', 'LTF', 'walked', 'SIM', 'wearing', 'mbanking', 'cashed', 'Thnakac', 'Suvarnabhumi', 'slot', 'fucker', 'Thani', 'coex', 'Srisawat', 'homepro', 'information', 'reminds', 'bbl', 'payments', 'Welcome', 'stickers', 'serveampnbspampnbsp', 'TeddyKung', 'infected', 'kinds', 'clarification', 'DTag', 'transition', 'Too', 'collecting', 'reminder', 'Every', 'Freelance', 'deduction', 'manager', 'God', 'prestige', 'awful', 'billion', 'Goo', 'hassles', 'mysterious', 'oldest', 'offbook', 'bucketapple', 'authenticate', 'THAI', 'unresolved', 'purple', 'Mymo', 'guy', 'System', 'include', 'wits', 'asking', 'wisdom', 'ordered', 'noonzaramjamksp', 'unscanned', 'XDs', 'pt', 'Details', 'clinic', 'Capital', 'Now', 'Bun', 'sick', 'reinstall', 'KCyber', 'Login', 'thanking', 'mission', 'finance', 'Remedy', 'cable', 'Counter', 'revenues', 'statement', 'Guarantee', 'Protect', 'chromosomes', 'proof', 'Safe', 'household', 'Deposit', 'adobe', 'regular', 'Tonight', 'Higher', 'Nae', 'death', 'Royal', 'remind', 'AIAs', 'also', 'loans', 'immediate', 'Sari', 'Power', 'deducts', 'sitting', 'compromise', 'barely', 'piles', 'waits', 'avoid', 'sre', 'ATMCurrent', 'expire', 'Amanny', 'Home', 'Blue', 'aunts', 'era', 'suggests', 'Embassy', 'rely', 'outbreaks', 'germs', 'Rama', 'questioning', 'updates', 'Asia', 'chips', 'moved', 'Don', 'geneyan', 'circulate', 'transferred', 'repurchase', 'portfolio', 'dogs', 'Parents', 'sqhsn', 'doubt', 'usable', 'bail', 'Addin', 'calling', 'App', 'Macro', 'Tian', 'Cut', 'shouldnt', 'terrible', 'advertising', 'Western', 'Homicide', 'HiaKoe', 'demanding', 'written', 'per', 'competitive', 'parentheses', 'December', 'operate', 'sad', 'farm', 'May', 'attached', 'badass', 'signing', 'misunderstood', 'SCBplanet', 'chances', 'safest', 'Jkt', 'Accounts', 'Wallet', 'smart', 'via', 'expressway', 'June', 'shoe', 'kcl', 'bothers', 'Marvins', 'acct', 'cardnbspnbsp', 'mymonbspnbsp', 'letters', 'Kaakura', 'Love', 'noti', 'charging', 'Fine', 'damaged', 'well', 'apps', 'eaten', 'traveled', 'threads', 'Interfer', 'Understand', 'reservations', 'guaranteed', 'hopes', 'reduced', 'uninstall', 'duty', 'editors', 'Ministers', 'dates', 'Pey', 'SA', 'smartphones', 'unpacked', 'overflowing', 'Central', 'Write', 'Could', 'around', 'cashbacks', 'Fun', 'crosscountry', 'Skull', 'eligible', 'Who', 'complaints', 'closes', 'Germany', 'understanding', 'Tour', 'amazing', 'lag', 'whove', 'responding', 'pledging', 'ampquot', 'curse', 'identification', 'payer', 'Hold', 'pong', 'thatI', 'menu', 'check', 'alone', 'save', 'contractor', 'neednbspnbsp', 'Backup', 'leaves', 'grab', 'arties', 'mm', 'fails', 'cabinet', 'redo', 'criteria', 'ADM', 'AUD', 'Keptby', 'deceived', 'andor', 'curves', 'trend', 'age', 'comaFjApKPmtg', 'driving', 'prefers', 'quot', 'faster', 'dealer', 'longterm', 'forest', 'Article', 'KSME', 'agriculture', 'helpful', 'combine', 'meantime', 'half', 'crown', 'yelling', 'checkin', 'ConsRefill', 'overwhelming', 'refinancing', 'told', 'Netflix', 'Future', 'QR', 'Identification', 'hear', 'Ieves', 'kmekluvyw', 'monk', 'Gvalle', 'Platimun', 'ccTLD', 'motherbaton', 'Thought', 'Mao', 'tickets', 'Youll', 'CallCenter', 'vpn', 'Ad', 'purpose', 'exist', 'window', 'robber', 'unexcited', 'Wave', 'skip', 'lets', 'withdrawing', 'Tomorrow', 'VAT', 'transferor', 'respond', 'desperate', 'lol', 'lady', 'Still', 'emailed', 'Share', 'compirmation', 'II', 'odd', 'TOPSCENTRAL', 'KtcPrivilege', 'national', 'Speeddy', 'nothing', 'applied', 'men', 'medium', 'Bangkok', 'lot', 'great', 'western', 'sleeper', 'deliver', 'inverted', 'adjusting', 'justiceRescue', 'channels', 'rice', 'borrow', 'flexi', 'spready', 'PromptPay', 'advice', 'EOMSIN', 'certification', 'ofnbsp', 'complaining', 'slide', 'baht', 'Whether', 'born', 'Dolfin', 'force', 'rmf', 'Unconditional', 'Premium', 'remedy', 'Czechburo', 'bribes', 'EP', 'misdirected', 'shocked', 'Same', 'moment', 'Email', 'deliveries', 'ac', 'seriously', 'Takashimaya', 'KMyInvest', 'stadium', 'honest', 'mutual', 'descriptive', 'said', 'questions', 'SO', 'installments', 'short', 'password', 'Syria', 'Indy', 'cancelled', 'sale', 'PIN', 'blunt', 'promotion', 'reimbursing', 'matters', 'clerk', 'Travel', 'km', 'fever', 'Secondly', 'recharge', 'taxes', 'Tru', 'cheered', 'insisted', 'Ume', 'sudden', 'amounts', 'talked', 'PVD', 'finally', 'visits', 'problems', 'SCb', 'Sign', 'Hard', 'Booked', 'Eva', 'messages', 'voice', 'throughout', 'Mint', 'Zealand', 'pray', 'appliedIm', 'Sukhothai', 'hoursI', 'My', 'vs', 'followup', 'Taiampnbspnbspnot', 'inconvenience', 'happen', 'damned', 'profit', 'Manton', 'They', 'Work', 'decorator', 'Dropshipping', 'abalonement', 'homework', 'intake', 'When', 'vineyards', 'installed', 'Kung', 'nagoya', 'BEC', 'University', 'How', 'AIS', 'Privilege', 'Srithe', 'Starting', 'incomplete', 'mymo', 'thawisupcom', 'breakfast', 'itstaets', 'youll', 'advantages', 'fully', 'Days', 'picky', 'Ion', 'bluenbspnbsp', 'spite', 'cryptograph', 'address', 'walking', 'would', 'notification', 'Trumov', 'Registration', 'years', 'jobs', 'ready', 'World', 'Nbsp', 'tips', 'yearlyIf', 'never', 'risky', 'divide', 'previously', 'best', 'Rede', 'edition', 'Sorry', 'bhWhen', 'Abalone', 'interface', 'Online', 'fish', 'DService', 'depends', 'minutesThank', 'mg', 'Goat', 'Assistance', 'personally', 'Shinpan', 'affiliate', 'nine', 'topup', 'Flexi', 'suction', 'earnings', 'midmonth', 'tootheturtle', 'SEB', 'Luxe', 'convince', 'busyI', 'Netherlands', 'bookbanks', 'siwiam', 'patience', 'Joe', 'DeliciousRendezvous', 'drink', 'day', 'outbreak', 'Personally', 'affect', 'laterIm', 'MOU', 'placed', 'tasting', 'offer', 'debitnbspnbsp', 'halfproject', 'situations', 'unreasonable', 'linking', 'co', 'suspending', 'Doraemon', 'mind', 'major', 'platinumlevel', 'signup', 'Sluggage', 'Cao', 'Feb', 'Ems', 'Yongmus', 'unmanned', 'executive', 'itIll', 'offthesite', 'dead', 'morningIm', 'Prepare', 'Thoms', 'CALL', 'governments', 'regional', 'improvements', 'detac', 'countrys', 'purchase', 'Tuctic', 'improves', 'burden', 'true', 'participate', 'made', 'removed', 'stressful', 'cons', 'locals', 'entering', 'nonstrengthening', 'brain', 'directions', 'Third', 'lazy', 'snoopy', 'Candel', 'succumb', 'Lost', 'insist', 'Nonbook', 'stuck', 'aiming', 'Bangna', 'avoiding', 'allocation', 'blackpink', 'sucksx', 'completes', 'Kbankx', 'potential', 'outlets', 'financial', 'ATMDebit', 'motorcycle', 'scbx', 'otherwise', 'papal', 'dry', 'various', 'relieve', 'Always', 'suspicious', 'Grey', 'emptyhanded', 'straightC', 'ewallet', 'adjustment', 'insurances', 'Bahtnbsp', 'texting', 'Hello', 'JSecure', 'residence', 'camps', 'EASY', 'Sixers', 'suspension', 'recovering', 'Whos', 'During', 'tradition', 'standards', 'knocking', 'sbbtmf', 'timeout', 'hardworking', 'attachment', 'good', 'Bangkapi', 'Sris', 'Addmin', 'rough', 'keeping', 'run', 'thank', 'KEPT', 'forgets', 'Sass', 'minute', 'charge', 'authorization', 'Deek', 'payable', 'allows', 'Section', 'quality', 'PBV', 'pattern', 'nakin', 'timeMy', 'SCBM', 'Nikecom', 'Ow', 'upnbspnbsp', 'COVIDs', 'encrypted', 'Thailand', 'OneSiam', 'collects', 'States', 'machine', 'administrators', 'khunpinto', 'classic', 'twoyear', 'turns', 'HttpstcoYCjslQvbHO', 'juurney', 'probably', 'grow', 'pocket', 'slider', 'confusing', 'served', 'barcode', 'network', 'kyc', 'trustworthy', 'Fundclick', 'source', 'Namtip', 'insured', 'stable', 'enterprise', 'creditburo', 'Ugh', 'httpstcopDMUFkgREN', 'sue', 'noncarding', 'mules', 'gambling', 'standard', 'rebate', 'forgot', 'clip', 'decide', 'excluded', 'confirm', 'called', 'wondered', 'misinformed', 'Pantip', 'solo', 'home', 'codes', 'oil', 'TOP', 'Tail', 'Thainext', 'chose', 'unlike', 'maybe', 'Alerts', 'beyond', 'citbank', 'amends', 'retransfered', 'understands', 'thats', 'consult', 'Aah', 'guarantee', 'bongtao', 'forget', 'authenticates', 'ion', 'interestingplanet', 'Evan', 'fingerprints', 'missed', 'handing', 'prefer', 'Europe', 'Debit', 'needing', 'chinese', 'Seedy', 'incorrect', 'luckily', 'Siam', 'reimbursed', 'cashiers', 'ballet', 'kerry', 'As', 'Product', 'BLACKPINK', 'Mrs', 'Prime', 'Speaking', 'Minister', 'known', 'tired', 'Four', 'GWalletnbspnbsp', 'Sheikh', 'hope', 'cardsnbspnbsp', 'provincial', 'taste', 'hunch', 'occurred', 'Nawang', 'Scbs', 'Speedy', 'Borrow', 'Buntoshi', 'contract', 'Peys', 'Infinite', 'wasted', 'Wow', 'Up', 'STM', 'tab', 'charged', 'Mars', 'quick', 'assistant', 'marketers', 'Kplus', 'sum', 'escaping', 'suit', 'kbanks', 'Doing', 'backtoback', 'Tess', 'maximum', 'Smart', 'Jing', 'city', 'CARD', 'fun', 'Sriyutthaya', 'function', 'nights', 'Jcb', 'Ads', 'slow', 'Cap', 'checkpoints', 'appears', 'blank', 'pick', 'provide', 'usual', 'Street', 'asap', 'seven', 'BangkokDental', 'selfconsciousness', 'branches', 'ACCOUNT', 'notice', 'Without', 'coming', 'EU', 'outstanding', 'havent', 'link', 'convenience', 'obtained', 'android', 'whether', 'transfering', 'Is', 'get', 'Angry', 'refunds', 'brokes', 'loses', 'lock', 'swiped', 'thread', 'Sundays', 'TK', 'slips', 'Burirum', 'partner', 'journal', 'pair', 'shitscrew', 'shared', 'Thanaca', 'inquired', 'Cute', 'listed', 'create', 'littlebearntck', 'KPlus', 'chasing', 'edited', 'Accounting', 'trader', 'safer', 'debitcredit', 'casual', 'inconvenient', 'AOT', 'Airpay', 'superspecial', 'areas', 'coth', 'matching', 'happens', 'harder', 'highly', 'meal', 'thsnbspnbsp', 'district', 'accounting', 'recommends', 'Services', 'Locke', 'Easynet', 'CoffeeMateZTwinkleproud', 'Xin', 'Generali', 'Payi', 'MasterCard', 'independence', 'Alipay', 'yearly', 'often', 'Alert', 'Shop', 'unpunished', 'blocked', 'Normally', 'Binging', 'Ck', 'bumper', 'overseas', 'track', 'rich', 'sector', 'rested', 'insteadIt', 'theyll', 'class', 'headquarters', 'bankingmobile', 'rescheduled', 'numerous', 'Thais', 'peak', 'Lock', 'âa', 'responsibility', 'appraisal', 'payroll', 'fact', 'GBP', 'Didnt', 'traded', 'inandout', 'compatible', 'tiring', 'enjoy', 'notebook', 'reopen', 'reaches', 'weekday', 'kicked', 'pawn', 'unemployed', 'Phase', 'transferors', 'PLUS', 'screen', 'bounce', 'foundation', 'fall', 'forgotten', 'includes', 'begs', 'Trick', 'demand', 'float', 'browser', 'rates', 'hull', 'Tao', 'Version', 'retail', 'script', 'Kept', 'allocated', 'diamonds', 'knowledge', 'counts', 'Jan', 'identities', 'receipt', 'JTp', 'contacting', 'gas', 'dick', 'go', 'twoday', 'symbol', 'Paki', 'apply', 'Zeng', 'finds', 'ocean', 'Uobs', 'Watching', 'report', 'dollar', 'Touch', 'Uh', 'connection', 'stop', 'server', 'ideas', 'nations', 'highinterest', 'alerts', 'Enter', 'feel', 'depriving', 'Gmarket', 'Amezon', 'imfai', 'daddy', 'market', 'KUSAAD', 'Monthsnbsp', 'userfriendly', 'content', 'term', 'military', 'reinstated', 'cheaper', 'Bay', 'Ryla', 'professional', 'facial', 'Choice', 'banksnbsp', 'Jesus', 'advisors', 'tonight', 'Wah', 'Bangkhkbankcom', 'Half', 'responsible', 'paynbspnbsp', 'land', 'Recently', 'District', 'Locked', 'unusable', 'appSCB', 'something', 'canals', 'bunshee', 'httpswww', 'Improved', 'Confounded', 'witness', 'Ourleeedixxx', 'scared', 'document', 'ATMs', 'faces', 'Accredited', 'overdue', 'profile', 'Takma', 'withdraws', 'fresh', 'problemOtan', 'owed', 'receiving', 'useless', 'seem', 'nice', 'Deducted', 'Chi', 'ptts', 'improvement', 'estatement', 'lightly', 'meet', 'streaming', 'Come', 'eapp', 'alerted', 'YOLO', 'clearly', 'decline', 'Thon', 'power', 'Chantburi', 'prestigeROP', 'Unlike', 'Sree', 'entrance', 'principle', 'foreign', 'begging', 'Scbeasy', 'till', 'seat', 'soldiers', 'Itll', 'BBLs', 'Ok', 'burglary', 'fooling', 'Tanshats', 'Invalid', 'Wash', 'loaded', 'see', 'pressed', 'world', 'intended', 'walker', 'cassava', 'auto', 'confusion', 'feeling', 'President', 'develops', 'Colonel', 'sexy', 'contracts', 'Did', 'posting', 'points', 'reached', 'Hopefully', 'listen', 'mic', 'tricked', 'cheque', 'Terikyu', 'jewelry', 'Lanka', 'hell', 'popnidcha', 'abalones', 'burrow', 'KTEF', 'toss', 'username', 'suspended', 'wav', 'middle', 'proclinics', 'backup', 'Todays', 'black', 'youd', 'httpstconpogaGZbCd', 'large', 'Dan', 'Reset', 'suspicion', 'Spedylond', 'PORT', 'electronic', 'Panisha', 'ZIP', 'level', 'Baht', 'Missing', 'rhinoz', 'ahjumma', 'BLACKPINKFANMEETING', 'Somebody', 'wellcare', 'organized', 'ORDER', 'calm', 'withdrew', 'credits', 'Nomuras', 'Kerrys', 'pawning', 'Applying', 'destroyed', 'costs', 'warrant', 'reapply', 'Waiting', 'Robin', 'related', 'discredited', 'Allow', 'title', 'Pay', 'gotten', 'Innie', 'interested', 'popping', 'Fear', 'Ktb', 'complain', 'delivery', 'Data', 'aunt', 'blaming', 'matter', 'approve', 'housewarming', 'KYC', 'Hmm', 'theyre', 'since', 'bunch', 'extending', 'might', 'continue', 'Siri', 'Syre', 'creditor', 'Bankers', 'salesman', 'takes', 'Delivery', 'wad', 'compare', 'epayment', 'hacking', 'hiring', 'investment', 'pink', 'inexpensive', 'Lek', 'recipient', 'Girls', 'Frog', 'blame', 'Bangkoks', 'reapplying', 'spin', 'mega', 'prove', 'TrueWallet', 'surcharge', 'outside', 'Squad', 'hang', 'warranty', 'Yes', 'TBANK', 'rehashed', 'Ibank', 'yes', 'rookie', 'follow', 'autograph', 'ThaiPay', 'Custommer', 'daughter', 'previous', 'Cashback', 'Business', 'Karen', 'agree', 'silvers', 'SPEEDY', 'People', 'Chats', 'Android', 'buysales', 'waste', 'Dx', 'bugged', 'hospital', 'range', 'Meek', 'break', 'Barcode', 'emails', 'hate', 'fix', 'Banking', 'lowkey', 'lik', 'gsb', 'write', 'hires', 'ME', 'cents', 'internet', 'oathth', 'Nonthaburi', 'Shanghai', 'date', 'ah', 'rightquot', 'students', 'Center', 'dreamed', 'bugs', 'KTM', 'requested', 'usingampnbspampnbsp', 'Foreign', 'typed', 'drama', 'SCB', 'owner', 'enter', 'owe', 'society', 'Premier', 'dated', 'bored', 'ancient', 'PLATINUM', 'prime', 'Inter', 'gives', 'Received', 'blackeyed', 'covered', 'Food', 'Bass', 'adline', 'Dont', 'Covit', 'ending', 'barf', 'presses', 'someones', 'stuffed', 'depositdeposit', 'One', 'grad', 'programs', 'Drag', 'prepared', 'handout', 'comment', 'Affirmation', 'Headquarters', 'overlight', 'included', 'electric', 'compensation', 'raisin', 'hundreds', 'notifications', 'certificate', 'Header', 'Definitely', 'Planets', 'paste', 'lower', 'shows', 'banks', 'tc', 'heart', 'parent', 'applicated', 'Eins', 'wire', 'holders', 'registry', 'Mai', 'laa', 'Ministry', 'specials', 'abbreviation', 'Burmese', 'active', 'bill', 'general', 'MobileK', 'plant', 'wheres', 'Naparat', 'Srihomepro', 'borrowed', 'rights', 'We', 'grey', 'Volet', 'loanor', 'Channel', 'Superich', 'stabbed', 'Boss', 'Manage', 'download', 'bay', 'hot', 'fell', 'dropped', 'Absolute', 'ppl', 'japan', 'hedge', 'capability', 'Box', 'Website', 'stuffing', 'Changed', 'holidaysThis', 'SPOTIFY', 'AirPay', 'problem', 'bubble', 'sleeping', 'informed', 'Teenagers', 'Lppbh', 'make', 'admirable', 'erm', 'overpayment', 'Im', 'Saturdays', 'loading', 'Prapaipit', 'ba', 'risen', 'Sympathetic', 'flash', 'backwards', 'assessments', 'Tanchanok', 'Choi', 'really', 'dies', 'cooperative', 'puzzlesWhy', 'expires', 'accepting', 'SR', 'downside', 'politics', 'billing', 'Practice', 'messageIt', 'reentered', 'Commercial', 'Trues', 'Cameras', 'modernity', 'Gold', 'neutral', 'rang', 'Yeah', 'types', 'explain', 'higherbuyer', 'whichever', 'usdampnbspnbspnbsp', 'care', 'whose', 'Easypass', 'Clearing', 'hasnt', 'outpost', 'Aeon', 'high', 'abbreviated', 'media', 'Institutional', 'Bathong', 'talking', 'neighborhood', 'started', 'KTB', 'WHA', 'roundI', 'tracking', 'bedinthebrain', 'butI', 'chunk', 'program', 'style', 'Australia', 'Beach', 'reviewsIm', 'future', 'secondhand', 'procedures', 'securities', 'gone', 'Land', 'minds', 'stay', 'intending', 'Dec', 'bung', 'refund', 'assurance', 'bugger', 'wrestling', 'manually', 'KBANK', 'understand', 'pasted', 'classify', 'cashfree', 'spent', 'exclude', 'wins', 'bot', 'easytocontact', 'xx', 'reporting', 'push', 'identify', 'brother', 'unremoved', 'adjustments', 'career', 'lucky', 'Samut', 'algorithms', 'Stand', 'gt', 'chosen', 'expenses', 'Platinum', 'Noninterrupted', 'found', 'advanced', 'Netbank', 'Beyond', 'smoothly', 'bother', 'opportunities', 'Contactless', 'rootenergy', 'school', 'bots', 'trees', 'boyfriend', 'increased', 'number', 'While', 'extended', 'attention', 'tow', 'unspecified', 'done', 'raise', 'Plangpleng', 'Anybody', 'Tell', 'Company', 'popular', 'bangs', 'excuses', 'Kowit', 'todayweek', 'VISA', 'Gigoi', 'Drawstring', 'Laos', 'emergency', 'Thors', 'contents', 'Kang', 'recording', 'simplicity', 'settlement', 'nisit', 'Because', 'ever', 'cancelling', 'Aom', 'Topup', 'hall', 'KTz', 'Honor', 'meeting', 'main', 'upsetting', 'Dolfinampnbspnbsp', 'companies', 'bankslower', 'touched', 'feed', 'Month', 'unlocked', 'annual', 'SRIs', 'deposit', 'Unusable', 'books', 'bailout', 'Nbspnbsp', 'suggestions', 'coin', 'stood', 'point', 'scbnbspnbsp', 'Phetchaburi', 'mother', 'secretly', 'Billing', 'percentage', 'ratingThe', 'believed', 'lawsuit', 'ahead', 'scbthailand', 'Luckily', 'Thanks', 'trust', 'tries', 'Tesco', 'Unnis', 'Extract', 'housewives', 'TonsTweetings', 'Failure', 'man', 'automated', 'ruthless', 'Try', 'satisfaction', 'Town', 'enters', 'consent', 'disappears', 'following', 'functions', 'unknown', 'Charter', 'icon', 'skbank', 'mediumsized', 'Blah', 'spelled', 'NDID', 'Back', 'paragon', 'Takdam', 'DOC', 'false', 'discount', 'margins', 'Caps', 'coworkers', 'JourneyBut', 'bags', 'Bou', 'incompetent', 'sincerely', 'resign', 'aia', 'Usually', 'us', 'LUXE', 'luggage', 'auction', 'else', 'argue', 'unable', 'clicked', 'came', 'downloading', 'Among', 'ignore', 'difference', 'httpstcoIHvWenBHUB', 'countryside', 'cardsbillsmonths', 'SME', 'Bridge', 'Boom', 'AF', 'Jobs', 'Abbey', 'Asked', 'elses', 'frequent', 'getting', 'Kenzles', 'Sms', 'news', 'Dad', 'adjustable', 'avtm', 'messenger', 'Question', 'Pinchuo', 'sincerity', 'Set', 'thinking', 'bouncing', 'episodes', 'hi', 'Panishi', 'Krungthai', 'precious', 'Tbank', 'Password', 'price', 'Monday', 'instructions', 'Twitter', 'hijacking', 'bilwmecom', 'holds', 'Sarana', 'secure', 'Tanshat', 'Appreciate', 'homes', 'noe', 'cutting', 'Chap', 'smoothies', 'admit', 'confusedly', 'Ttb', 'Bye', 'muchThe', 'kicking', 'opening', 'platform', 'conscious', 'Seil', 'aim', 'Building', 'lifetime', 'oncredit', 'platforms', 'department', 'boring', 'press', 'Conglosha', 'difficult', 'troops', 'confiscated', 'king', 'stalkers', 'Immediate', 'six', 'bounces', 'headache', 'pushes', 'pay', 'eat', 'sees', 'expected', 'Code', 'Moneys', 'Savingsin', 'nervous', 'credited', 'Xpress', 'Purple', 'bankslowly', 'basics', 'Insurance', 'kesavings', 'elderly', 'self', 'brokers', 'inquiring', 'Registrar', 'BEA', 'restoration', 'approvalBut', 'upgraded', 'certificates', 'sued', 'three', 'Also', 'whole', 'Chon', 'welfare', 'ARK', 'delivered', 'Callnbspnbspcenter', 'intends', 'withdrawal', 'minimum', 'hits', 'reduction', 'sloppy', 'claiming', 'concept', 'Social', 'Hi', 'Menu', 'tsk', 'DB', 'Using', 'Before', 'Passed', 'restoring', 'slobbering', 'happiness', 'Planet', 'redemption', 'white', 'chain', 'counter', 'YouTrip', 'assuming', 'making', 'pigs', 'updating', 'recommend', 'summation', 'accessing', 'freeze', 'accidentally', 'unspeakable', 'lounge', 'fees', 'bonus', 'spend', 'cheater', 'Error', 'Crawl', 'mine', 'thursday', 'FarSiDistantY', 'mood', 'Jasmio', 'lonely', 'detect', 'sharing', 'Mainly', 'mix', 'Money', 'forced', 'submit', 'Several', 'mediated', 'addin', 'clams', 'NVDR', 'Agoda', 'broke', 'antibank', 'site', 'novel', 'ridiculous', 'pop', 'cryptographic', 'EDC', 'owned', 'office', 'den', 'scbam', 'instant', 'others', 'section', 'com', 'explanation', 'swings', 'Quick', 'nationality', 'bloom', 'cardscredit', 'cryptographer', 'cheapest', 'Mobile', 'Dealer', 'Advisor', 'ndid', 'forged', 'lash', 'touch', 'connext', 'company', 'submitted', 'Virtual', 'awaiting', 'lame', 'accordance', 'calculation', 'login', 'Visastyle', 'New', 'Projects', 'root', 'trick', 'promoted', 'buyers', 'Months', 'uses', 'Ling', 'batteries', 'badit', 'grade', 'Insti', 'freelance', 'hes', 'Chalida', 'ave', 'sbbscustomersservicescbcoth', 'misplaced', 'payout', 'lie', 'Pays', 'dropping', 'IP', 'Bualuang', 'parents', 'Spotify', 'released', 'Again', 'Rungruang', 'constant', 'berryzbii', 'juz', 'decision', 'Suck', 'credibility', 'Accumulating', 'one', 'Hey', 'Tip', 'kids', 'organizer', 'countries', 'accountOurs', 'min', 'primer', 'refuse', 'nbspUnionPayTPN', 'coverage', 'Stop', 'useful', 'sim', 'jaymart', 'shares', 'windowsd', 'Banscb', 'disappeared', 'PhD', 'retailexport', 'loyalty', 'identical', 'Citibank', 'notices', 'IDs', 'cardSCB', 'act', 'eyes', 'Estimated', 'spoken', 'Ha', 'suspend', 'increase', 'helping', 'bound', 'deducted', 'Streaming', 'reserved', 'respect', 'snopnat', 'youve', 'place', 'Ravel', 'decided', 'unloaded', 'pawns', 'belts', 'kiosk', 'stuff', 'Apps', 'toampnbspampnbspUpdate', 'Ma', 'buy', 'glitch', 'connected', 'bitch', 'perfect', 'Payy', 'exams', 'NooLekMeekPooH', 'limited', 'salary', 'tapping', 'empty', 'Cape', 'Everything', 'earned', 'Black', 'normal', 'yous', 'maids', 'net', 'refer', 'oo', 'roads', 'directors', 'Citis', 'East', 'nbspnsp', 'places', 'citi', 'approval', 'residual', 'httpstcomRxNaBngxn', 'inform', 'silent', 'remembered', 'Personal', 'itI', 'MuMilk', 'house', 'Ive', 'messiness', 'movie', 'BO', 'Initially', 'idiot', 'Condonanda', 'web', 'Destinations', 'sucks', 'slowest', 'membership', 'able', 'waterfilled', 'GWallet', 'route', 'staying', 'Live', 'AXA', 'gold', 'valuable', 'briven', 'yanks', 'build', 'rotten', 'carefully', 'homeloan', 'vialine', 'Demean', 'Internet', 'stacks', 'NEXT', 'deposited', 'Gosh', 'reach', 'Srima', 'choose', 'fits', 'BDMS', 'LETT', 'mornings', 'nbsp', 'describe', 'room', 'worse', 'satisfactory', 'solutions', 'Buro', 'An', 'negotiating', 'Hour', 'FREECIMB', 'whereI', 'Surin', 'sales', 'CENTER', 'reply', 'Ann', 'cc', 'houses', 'UOB', 'currently', 'Ratchaburi', 'LH', 'boxes', 'sparey', 'comments', 'lungs', 'perform', 'Mathos', 'bye', 'felt', 'Bahtnbspnbsp', 'Reading', 'defective', 'lasts', 'dorm', 'refuses', 'obsolete', 'tied', 'shop', 'phonenbspnbsp', 'lack', 'agents', 'curry', 'shoes', 'baffling', 'Many', 'Arts', 'close', 'UD', 'screwed', 'gtlt', 'read', 'Amobile', 'Hokkaido', 'water', 'puzzled', 'delighted', 'Taxfree', 'shynbsp', 'jumarn', 'Bag', 'Bitch', 'catches', 'bending', 'Jaymart', 'peace', 'DCA', 'win', 'Mount', 'strength', 'nonincome', 'selecting', 'snack', 'eruptions', 'Tried', 'puzzling', 'rising', 'Other', 'phones', 'wont', 'transactions', 'Rejected', 'endtoend', 'confirming', 'confirms', 'shopee', 'CP', 'goodbye', 'depend', 'Bankurl', 'Must', 'planned', 'bend', 'Fundflow', 'Peak', 'either', 'whatever', 'Rueantan', 'cute', 'ad', 'works', 'children', 'graduating', 'Ib', 'refinan', 'enforced', 'awesome', 'Kyoto', 'Transport', 'set', 'State', 'weekend', 'Nurse', 'taken', 'count', 'Quality', 'practice', 'Checked', 'Time', 'XX', 'Saturdayweek', 'BKampnbspnbsp', 'scanned', 'methods', 'merchant', 'Calculate', 'effective', 'finallyEasy', 'single', 'printing', 'rejection', 'complaint', 'childrens', 'pod', 'MRTR', 'Japanese', 'Can', 'farmers', 'warning', 'magnetic', 'Suphakit', 'bought', 'recommendation', 'OT', 'mistaken', 'Stingy', 'Gerror', 'shoots', 'slides', 'King', 'knows', 'fancy', 'separate', 'execute', 'quit', 'yeah', 'shit', 'ang', 'Year', 'modern', 'Although', 'Unionpay', 'near', 'mothers', 'Village', 'Department', 'port', 'gets', 'application', 'party', 'Okay', 'winning', 'orders', 'tried', 'crossing', 'KContact', 'cannbsp', 'Here', 'name', 'mostly', 'Robo', 'totals', 'Not', 'cost', 'Suwankhun', 'EOMS', 'father', 'disturbed', 'September', 'Only', 'Satisfaction', 'saturday', 'Macrow', 'nano', 'must', 'bahtnbspnbspfor', 'improving', 'yaoutrip', 'color', 'Outpost', 'Thorough', 'Wechat', 'ltgt', 'acccount', 'itd', 'Seaboard', 'Grow', 'tourpass', 'structure', 'Another', 'settle', 'digit', 'advisornbspnbsp', 'TIP', 'record', 'bada', 'August', 'murder', 'scbsonlinecom', 'evening', 'Id', 'favorite', 'full', 'timetable', 'income', 'Transfered', 'recipients', 'crammed', 'officers', 'coins', 'pele', 'mc', 'malls', 'prices', 'solution', 'openers', 'Chapter', 'Kowi', 'Wiganda', 'transferer', 'bbbexitt', 'communication', 'limit', 'foreclosure', 'reported', 'emergencies', 'Yuan', 'aTM', 'cheering', 'test', 'Zhaprad', 'Miss', 'tight', 'secondsnbspnbsp', 'crisis', 'Thanshat', 'sending', 'face', 'Man', 'Put', 'child', 'midday', 'poison', 'rebtel', 'kebank', 'CPF', 'Superrich', 'overcharge', 'busy', 'The', 'DIFFERENT', 'shed', 'google', 'technique', 'Lose', 'refunded', 'latter', 'freemir', 'requires', 'troubles', 'exempted', 'httpstcocMIspvUkx', 'elsewhere', 'uncle', 'frogs', 'andKBANK', 'YouTube', 'callslinephase', 'ha', 'Overlight', 'vicviickiexz', 'university', 'homeinterest', 'employees', 'reread', 'Opening', 'joint', 'products', 'buttercrimes', 'mistakes', 'actual', 'AC', 'counters', 'bug', 'uid', 'imagine', 'facebook', 'premium', 'slower', 'consort', 'hospitals', 'part', 'SHOCK', 'House', 'consider', 'atmdebit', 'tricky', 'originator', 'checkout', 'bar', 'mainstream', 'refinanced', 'Kbanks', 'split', 'sms', 'conclude', 'Paye', 'minority', 'bite', 'pins', 'complained', 'logging', 'Thnshat', 'etc', 'allDoing', 'similar', 'pic', 'birth', 'COVID', 'Updating', 'second', 'callcenter', 'Changing', 'dayThis', 'Move', 'option', 'reliable', 'Patriot', 'boyfriends', 'Klangsenna', 'Grab', 'Solitaire', 'measure', 'speech', 'City', 'Paotang', 'Show', 'somewhere', 'Registered', 'dare', 'SCBSETE', 'advantage', 'itll', 'Sreedy', 'round', 'early', 'replace', 'processing', 'cancellations', 'reimburst', 'labeled', 'origin', 'hells', 'crumbs', 'dedication', 'residents', 'lockin', 'Oruma', 'human', 'retina', 'annoyed', 'lighten', 'PepoHimma', 'coach', 'circulating', 'midOctober', 'flight', 'steam', 'item', 'Reply', 'ep', 'Sirilak', 'devices', 'MewtyBear', 'tossing', 'usedrnane', 'TRADE', 'hit', 'SQ', 'total', 'drop', 'peaks', 'loaner', 'relock', 'changing', 'buyandyear', 'termite', 'Answer', 'Reason', 'golden', 'Approximately', 'finish', 'Bua', 'trying', 'ruined', 'appbased', 'development', 'Citibanks', 'zimzalabimjStonenayouung', 'wonder', 'Seven', 'Note', 'concern', 'BE', 'Cigna', 'agencies', 'Umay', 'distribution', 'success', 'housing', 'Nt', 'crowded', 'dying', 'guarantees', 'erased', 'ThailandThailand', 'handle', 'Confirm', 'Mind', 'fit', 'stops', 'Commissioner', 'httpswwwcimbthaicomthpersonalproductscardsdebitchipcardsDebitvisaDigitalSaving', 'posts', 'Two', 'lowest', 'added', 'commission', 'Substitute', 'kept', 'Even', 'Nowadays', 'genus', 'sirotek', 'slip', 'country', 'removing', 'Oh', 'Scanning', 'services', 'Bring', 'area', 'wrongly', 'online', 'KMA', 'woke', 'shocking', 'reregister', 'looked', 'Hurry', 'social', 'quietly', 'redme', 'building', 'Web', 'Dip', 'httpstcoEQqLRvzJOR', 'Thax', 'tradeIll', 'BK', 'lane', 'TG', 'opportunity', 'companys', 'Statement', 'LEC', 'less', 'addicted', 'He', 'Hes', 'And', 'loaned', 'Last', 'ampnbspnbsp', 'embarrassed', 'Division', 'intention', 'CIMB', 'Thailandnbspnbsp', 'oppo', 'tuition', 'everywhere', 'pantip', 'overcharged', 'easier', 'backs', 'moms', 'use', 'Steaming', 'Shake', 'Bought', 'airAsia', 'uh', 'usage', 'ahold', 'gourmet', 'modify', 'checks', 'Isas', 'worth', 'jpremier', 'organizations', 'Morgaged', 'tucall', 'By', 'moneykplus', 'orbuyer', 'comparable', 'enabled', 'todays', 'Day', 'MRT', 'base', 'overpayed', 'stolen', 'Gee', 'OR', 'nearly', 'disappointing', 'attendant', 'Beau', 'Take', 'rains', 'paid', 'invitation', 'experienced', 'collapsed', 'enterprises', 'Equy', 'entered', 'decade', 'call', 'data', 'subscription', 'Bullshit', 'Cuwesa', 'Spoil', 'Would', 'bases', 'nbspnbspnbsp', 'KrungsriSimpleKrungthaiCarre', 'technology', 'approveable', 'telling', 'sends', 'poured', 'surprised', 'suggested', 'CITI', 'expo', 'twitter', 'sir', 'unavailable', 'overpaying', 'messed', 'Verify', 'reachI', 'exceeded', 'procedure', 'Peoples', 'centerThe', 'international', 'totaling', 'quote', 'exceeds', 'Otherwise', 'front', 'threeyear', 'Lets', 'Slip', 'Looks', 'Difficult', 'dream', 'KYDog', 'drivers', 'moneys', 'latest', 'overnbsp', 'medical', 'Crisis', 'Ask', 'auntie', 'Contacted', 'acquaintances', 'citibank', 'anywhere', 'Swish', 'Canceled', 'accident', 'forever', 'Fleet', 'Thaipae', 'feels', 'young', 'fashion', 'spot', 'gross', 'values', 'Waste', 'Nomuranbsp', 'Customer', 'learning', 'means', 'subsidiary', 'reloading', 'rescue', 'banking', 'properly', 'TIRIGA', 'ticket', 'ishallu', 'may', 'carranty', 'dessert', 'appscb', 'handed', 'Tanachart', 'Ap', 'noon', 'slap', 'thugs', 'candle', 'West', 'loop', 'owns', 'With', 'permanent', 'invoice', 'Pakistan', 'highflowered', 'ghost', 'credit', 'joke', 'spread', 'celebrate', 'taxpayer', 'gonna', 'America', 'certified', 'away', 'First', 'detected', 'hack', 'hungary', 'impact', 'Nepo', 'Czech', 'settings', 'exception', 'Nates', 'Paying', 'kma', 'affected', 'location', 'units', 'Seriously', 'offices', 'Calling', 'ATS', 'differently', 'Be', 'update', 'Your', 'relevant', 'appnbspnbsp', 'ate', 'countIm', 'sound', 'reboot', 'receiver', 'refills', 'Prachinburi', 'supposed', 'midsecret', 'Cp', 'believes', 'Notification', 'buro', 'fixed', 'parallel', 'ports', 'matchI', 'relentless', 'busmen', 'maps', 'decree', 'affects', 'glowing', 'voices', 'JCB', 'present', 'associated', 'crying', 'jitta', 'Plan', 'GrabPay', 'Sit', 'Seeing', 'citybank', 'daddys', 'grownup', 'Chanoknan', 'lifethreatening', 'sleepy', 'mortgageInquiring', 'turned', 'recommendations', 'troublemaker', 'Mike', 'Payed', 'proceed', 'commerce', 'tens', 'NZ', 'fb', 'Bosch', 'lotthog', 'sorted', 'storage', 'bloody', 'Phuket', 'It', 'Pocket', 'sells', 'amendment', 'discuss', 'Wait', 'Tep', 'voting', 'shy', 'commercial', 'Sirets', 'silver', 'lots', 'staff', 'shiv', 'Ipad', 'infinix', 'GapThananat', 'survived', 'Confirmed', 'Guinea', 'assessment', 'schools', 'South', 'Hell', 'biggest', 'brocli', 'untied', 'Simply', 'based', 'sixmonth', 'debited', 'These', 'jars', 'everyone', 'pdf', 'royal', 'stamps', 'Very', 'Go', 'ofnbspnbsp', 'KTC', 'wear', 'Talk', 'maintain', 'SMS', 'contact', 'sooner', 'unpaid', 'queuer', 'disease', 'ktb', 'Tellesel', 'downtown', 'ALL', 'users', 'crap', 'WOW', 'estimate', 'standing', 'guards', 'cue', 'United', 'stateowned', 'Faster', 'ride', 'Westgate', 'transfer', 'prosecution', 'nod', 'RMF', 'teaches', 'stalking', 'repair', 'pile', 'Nov', 'checklist', 'pulled', 'Dear', 'httpstcocphyywd', 'Steam', 'actually', 'gps', 'receive', 'callin', 'Lott', 'Suddenly', 'exchanges', 'Long', 'counting', 'conceivedAnd', 'KSCBCim', 'cumbersome', 'clearer', 'risks', 'coded', 'oneI', 'bribe', 'Suitable', 'ridges', 'Atm', 'Promo', 'lost', 'blurred', 'overall', 'trading', 'Which', 'originally', 'temporarily', 'tells', 'raising', 'states', 'drops', 'Fei', 'chopper', 'papers', 'seedy', 'recruiter', 'Haha', 'farmer', 'Agency', 'adjust', 'Maladkrabang', 'Chonburi', 'distributed', 'generated', 'About', 'Commission', 'detained', 'tip', 'hidden', 'Refunds', 'punched', 'thought', 'PLANET', 'look', 'anxious', 'copy', 'machines', 'MAKEUPS', 'list', 'Yume', 'slots', 'idea', 'destination', 'customers', 'uob', 'table', 'delete', 'netflix', 'Please', 'notifying', 'spinning', 'allKTC', 'Rela', 'Remind', 'TwittercomxxBXtFRFW', 'rating', 'bikes', 'matches', 'Panishan', 'overtake', 'picks', 'Trumoove', 'adults', 'corporate', 'edc', 'Ten', 'birthday', 'Mondays', 'upgrade', 'travel', 'scbscbscbscbscbscbscbscbscbsc', 'Paragon', 'required', 'Kbank', 'qr', 'job', 'clients', 'Trust', 'Staff', 'redundant', 'law', 'nuts', 'blog', 'aware', 'OPDs', 'agent', 'CASH', 'crashes', 'unusually', 'falling', 'decades', 'current', 'Like', 'providing', 'guys', 'Sales', 'warned', 'Wellness', 'Snoopyprinted', 'deep', 'activities', 'MBK', 'reviews', 'Siriro', 'Call', 'investors', 'servers', 'roaming', 'book', 'pity', 'Starbucks', 'Chinese', 'sky', 'stressed', 'Station', 'registering', 'wed', 'Should', 'KTBs', 'KW', 'quite', 'iBanking', 'client', 'successful', 'rest', 'endings', 'Doi', 'Identity', 'taxfree', 'Dental', 'Big', 'disagree', 'Hood', 'planet', 'limitA', 'Walk', 'rental', 'basic', 'wealthy', 'cells', 'kb', 'Ya', 'Mission', 'Bang', 'airAsias', 'centre', 'friendly', 'offline', 'IT', 'ownership', 'websites', 'Army', 'tax', 'tap', 'lote', 'businessmans', 'compete', 'Promotion', 'thing', 'Main', 'constantly', 'depositing', 'Ours', 'realized', 'More', 'order', 'applications', 'group', 'Deductor', 'Rewards', 'allI', 'loophole', 'Weve', 'SCBS', 'dress', 'deductive', 'prodigy', 'Elephant', 'effect', 'evaluate', 'ranking', 'spoke', 'pm', 'wanting', 'Chanathamakhon', 'advisable', 'Sitting', 'Wise', 'Thorn', 'fly', 'kkp', 'Esavings', 'Equil', 'time', 'Patz', 'resigned', 'areaRating', 'wired', 'Wisdom', 'student', 'cardscb', 'registers', 'highlighting', 'feasible', 'moving', 'backups', 'goal', 'taxis', 'Thailandneck', 'pushing', 'bothering', 'pictwittercomRqYUEIQrZJ', 'keys', 'learn', 'Appointment', 'swords', 'payment', 'campaign', 'xpress', 'irregularity', 'overwhelmed', 'scanning', 'Scb', 'big', 'regress', 'Buuluang', 'Thank', 'Osaka', 'slightly', 'described', 'Bache', 'Ferris', 'presssumm', 'IPO', 'Expired', 'stabuck', 'Guilty', 'Tha', 'gtgt', 'Suckless', 'missing', 'Industrial', 'sort', 'Noloyi', 'Afscb', 'got', 'hearing', 'filed', 'officer', 'cyber', 'Bank', 'Khmers', 'condos', 'disconnected', 'literarydinsor', 'shipment', 'wave', 'topnotch', 'disqualified', 'Plat', 'stm', 'responses', 'log', 'Sent', 'amortization', 'throwing', 'response', 'package', 'unless', 'staring', 'authorized', 'sure', 'Ratsaenmueang', 'rear', 'Payrolls', 'Customers', 'load', 'Airways', 'considered', 'board', 'health', 'Thox', 'Professor', 'itnbspnbsp', 'cell', 'itua', 'locks', 'recognized', 'Pin', 'AirAsia', 'Fen', 'play', 'Pearl', 'bankers', 'wife', 'aert', 'verified', 'Finanzian', 'synchronized', 'systems', 'Just', 'Cares', 'official', 'still', 'tesco', 'back', 'watching', 'Kitisak', 'itThe', 'needed', 'Omini', 'plugged', 'multipurpose', 'target', 'inconsistent', 'crashing', 'noncard', 'troubled', 'wondering', 'kill', 'qa', 'little', 'copying', 'outsourcing', 'straight', 'sign', 'plane', 'malfunctioning', 'Kcyber', 'closet', 'fruitful', 'long', 'cineplex', 'chairs', 'send', 'collection', 'happy', 'longer', 'appThis', 'alcohol', 'extras', 'flows', 'sounds', 'Sen'}\n"
          ]
        }
      ]
    },
    {
      "cell_type": "code",
      "source": [
        "#Encode each document as a sequence of integers\n",
        "tokenizer = Tokenizer()\n",
        "tokenizer.fit_on_texts(train_docs)\n",
        "encoded_docs = tokenizer.texts_to_sequences(train_docs)"
      ],
      "metadata": {
        "id": "N5FTbC2XC1DL"
      },
      "execution_count": 11,
      "outputs": []
    },
    {
      "cell_type": "code",
      "source": [
        "#as each sentences contain different length of words, we need padding to make the sequences the same length before\n",
        "#putting into the embedding layer\n",
        "max_length = max([len(s.split()) for s in train_docs])\n",
        "Xtrain = pad_sequences(encoded_docs, maxlen=max_length, padding='post')\n",
        "ytrain = np.array(train['Human_CategoryID'].tolist())"
      ],
      "metadata": {
        "id": "3YeDCItHEHYY"
      },
      "execution_count": 12,
      "outputs": []
    },
    {
      "cell_type": "code",
      "source": [
        "#do the same as train above for test\n",
        "encoded_docs = tokenizer.texts_to_sequences(test_docs)\n",
        "Xtest = pad_sequences(encoded_docs, maxlen=max_length, padding='post')\n",
        "ytest = np.array(test['Human_CategoryID'].tolist())"
      ],
      "metadata": {
        "id": "AJnuTHopELNp"
      },
      "execution_count": 13,
      "outputs": []
    },
    {
      "cell_type": "code",
      "source": [
        "#defind vocabulary size\n",
        "vocab_size = len(tokenizer.word_index) + 1"
      ],
      "metadata": {
        "id": "fCrq8FIoEk2o"
      },
      "execution_count": 14,
      "outputs": []
    },
    {
      "cell_type": "code",
      "source": [
        "#Count unique classes\n",
        "print(train['Human_CategoryID'].nunique(), test['Human_CategoryID'].nunique())"
      ],
      "metadata": {
        "id": "7XZgjKsuEk9C",
        "colab": {
          "base_uri": "https://localhost:8080/"
        },
        "outputId": "72130740-de6d-4a50-d20d-0b40725c806c"
      },
      "execution_count": 15,
      "outputs": [
        {
          "output_type": "stream",
          "name": "stdout",
          "text": [
            "13 13\n"
          ]
        }
      ]
    },
    {
      "cell_type": "code",
      "source": [
        "#Count unique classes\n",
        "num_classes = max(train['Human_CategoryID'].nunique(), test['Human_CategoryID'].nunique())\n",
        "print(num_classes)"
      ],
      "metadata": {
        "id": "km56RgrQE0nR",
        "colab": {
          "base_uri": "https://localhost:8080/"
        },
        "outputId": "38334faf-9de0-4be1-d6c2-6222fa281f53"
      },
      "execution_count": 16,
      "outputs": [
        {
          "output_type": "stream",
          "name": "stdout",
          "text": [
            "13\n"
          ]
        }
      ]
    },
    {
      "cell_type": "code",
      "source": [
        "from tensorflow.keras.utils import to_categorical\n",
        "\n",
        "#Multi class problems need one-hot encoding on y\n",
        "#why - 1 on ytrain and ytest? can follow the linke below\n",
        "#https://stackoverflow.com/questions/56204731/the-method-np-utils-to-categorical-give-me-an-error/59002957#59002957\n",
        "ytrain =  to_categorical(ytrain-1, num_classes=num_classes)\n",
        "ytest = to_categorical(ytest-1, num_classes=num_classes)"
      ],
      "metadata": {
        "id": "5AkwsOvEE0uS"
      },
      "execution_count": 17,
      "outputs": []
    },
    {
      "cell_type": "code",
      "source": [
        "vocab_size = len(tokenizer.word_index)+1"
      ],
      "metadata": {
        "id": "kxUHJzkyE2Cw"
      },
      "execution_count": 18,
      "outputs": []
    },
    {
      "cell_type": "markdown",
      "source": [
        "#Model"
      ],
      "metadata": {
        "id": "2Wcr5KxLE8W3"
      }
    },
    {
      "cell_type": "markdown",
      "source": [
        "##CNN LSTM GMP1D D13: 62"
      ],
      "metadata": {
        "id": "hVA-lL4TGJLB"
      }
    },
    {
      "cell_type": "code",
      "source": [
        "import tensorflow as tf\n",
        "from keras.models import Sequential\n",
        "from keras.layers.convolutional import Conv1D, MaxPooling1D\n",
        "from keras.layers.pooling import GlobalMaxPooling1D, AveragePooling1D, GlobalAveragePooling1D\n",
        "from keras.layers import Dense, Flatten, Embedding, BatchNormalization, Dropout, LSTM, Bidirectional, TimeDistributed"
      ],
      "metadata": {
        "id": "br4WQmIrG1S3"
      },
      "execution_count": null,
      "outputs": []
    },
    {
      "cell_type": "code",
      "source": [
        "#Define our model\n",
        "model = Sequential()\n",
        "\n",
        "model.add(Embedding(vocab_size, 100, input_length=max_length, trainable=True))\n",
        "model.add(Conv1D(filters=32, kernel_size=3, activation='relu'))\n",
        "model.add(LSTM(50, return_sequences=True))\n",
        "\n",
        "model.add(GlobalMaxPooling1D())\n",
        "model.add(Flatten())\n",
        "\n",
        "model.add(Dense(num_classes, activation='softmax'))\n",
        "print(model.summary())"
      ],
      "metadata": {
        "id": "qBvFAsX4GNXL",
        "colab": {
          "base_uri": "https://localhost:8080/"
        },
        "outputId": "2de7c6a8-c551-4886-b048-23dd6556f36c"
      },
      "execution_count": null,
      "outputs": [
        {
          "output_type": "stream",
          "name": "stdout",
          "text": [
            "Model: \"sequential\"\n",
            "_________________________________________________________________\n",
            " Layer (type)                Output Shape              Param #   \n",
            "=================================================================\n",
            " embedding (Embedding)       (None, 190, 100)          1153600   \n",
            "                                                                 \n",
            " conv1d (Conv1D)             (None, 188, 32)           9632      \n",
            "                                                                 \n",
            " lstm (LSTM)                 (None, 188, 50)           16600     \n",
            "                                                                 \n",
            " global_max_pooling1d (Globa  (None, 50)               0         \n",
            " lMaxPooling1D)                                                  \n",
            "                                                                 \n",
            " flatten (Flatten)           (None, 50)                0         \n",
            "                                                                 \n",
            " dense (Dense)               (None, 13)                663       \n",
            "                                                                 \n",
            "=================================================================\n",
            "Total params: 1,180,495\n",
            "Trainable params: 1,180,495\n",
            "Non-trainable params: 0\n",
            "_________________________________________________________________\n",
            "None\n"
          ]
        }
      ]
    },
    {
      "cell_type": "code",
      "source": [
        "from tensorflow.keras.callbacks import EarlyStopping\n",
        "\n",
        "#put early stopping\n",
        "early_stopping = EarlyStopping(monitor='val_loss', patience=1, mode='min')\n",
        "\n",
        "#Your choices of activation='softmax' in the last layer and compile choice of loss='categorical_crossentropy' \n",
        "#are good for a model to predict multiple mutually-exclusive classes.\n",
        "\n",
        "model.compile(loss='categorical_crossentropy',\n",
        "              optimizer='adam', \n",
        "              metrics=['acc'],)"
      ],
      "metadata": {
        "id": "6h7dkVHjG7CD"
      },
      "execution_count": null,
      "outputs": []
    },
    {
      "cell_type": "code",
      "source": [
        "#Try classweight from this https://datascience.stackexchange.com/questions/13490/how-to-set-class-weights-for-imbalanced-classes-in-keras\n",
        "\n",
        "history = model.fit(Xtrain, ytrain, \n",
        "                    epochs=10, batch_size=32, \n",
        "                    validation_split=0.2,\n",
        "                    callbacks=[early_stopping])"
      ],
      "metadata": {
        "id": "ONM10HAYG9Ho",
        "colab": {
          "base_uri": "https://localhost:8080/"
        },
        "outputId": "4e38bc7e-f5b4-4716-ef21-551f6c9610e7"
      },
      "execution_count": null,
      "outputs": [
        {
          "output_type": "stream",
          "name": "stdout",
          "text": [
            "Epoch 1/10\n",
            "304/304 [==============================] - 19s 13ms/step - loss: 1.9636 - acc: 0.3442 - val_loss: 1.7720 - val_acc: 0.4276\n",
            "Epoch 2/10\n",
            "304/304 [==============================] - 3s 10ms/step - loss: 1.7085 - acc: 0.4520 - val_loss: 1.6945 - val_acc: 0.4588\n",
            "Epoch 3/10\n",
            "304/304 [==============================] - 3s 11ms/step - loss: 1.5387 - acc: 0.5245 - val_loss: 1.6434 - val_acc: 0.4934\n",
            "Epoch 4/10\n",
            "304/304 [==============================] - 3s 11ms/step - loss: 1.3857 - acc: 0.5803 - val_loss: 1.6477 - val_acc: 0.4844\n"
          ]
        }
      ]
    },
    {
      "cell_type": "code",
      "source": [
        "loss, acc = model.evaluate(Xtest, ytest)\n",
        "print('Test Accuracy: %f' % (acc*100))"
      ],
      "metadata": {
        "id": "C_4BpU86HCl5",
        "colab": {
          "base_uri": "https://localhost:8080/"
        },
        "outputId": "e39bbddf-d6dc-46c8-c2a4-ba392aef9431"
      },
      "execution_count": null,
      "outputs": [
        {
          "output_type": "stream",
          "name": "stdout",
          "text": [
            "380/380 [==============================] - 2s 5ms/step - loss: 1.2977 - acc: 0.6121\n",
            "Test Accuracy: 61.209875\n"
          ]
        }
      ]
    },
    {
      "cell_type": "code",
      "source": [
        "history_frame = pd.DataFrame(history.history)\n",
        "history_frame.loc[:, ['loss', 'val_loss']].plot()"
      ],
      "metadata": {
        "id": "frfxlm4bG_H1",
        "colab": {
          "base_uri": "https://localhost:8080/",
          "height": 282
        },
        "outputId": "762bd7dd-bed8-4a6f-af41-179b738cb3e6"
      },
      "execution_count": null,
      "outputs": [
        {
          "output_type": "execute_result",
          "data": {
            "text/plain": [
              "<matplotlib.axes._subplots.AxesSubplot at 0x7f52d4659510>"
            ]
          },
          "metadata": {},
          "execution_count": 24
        },
        {
          "output_type": "display_data",
          "data": {
            "text/plain": [
              "<Figure size 432x288 with 1 Axes>"
            ],
            "image/png": "[encoded data removed]"
          },
          "metadata": {
            "needs_background": "light"
          }
        }
      ]
    },
    {
      "cell_type": "code",
      "source": [
        "history_frame.loc[:, ['acc', 'val_acc']].plot()"
      ],
      "metadata": {
        "id": "BAjnmQlaHAM3",
        "colab": {
          "base_uri": "https://localhost:8080/",
          "height": 282
        },
        "outputId": "b222e2f7-d3ce-40c4-a848-17b672a6c888"
      },
      "execution_count": null,
      "outputs": [
        {
          "output_type": "execute_result",
          "data": {
            "text/plain": [
              "<matplotlib.axes._subplots.AxesSubplot at 0x7f52d40f1b10>"
            ]
          },
          "metadata": {},
          "execution_count": 25
        },
        {
          "output_type": "display_data",
          "data": {
            "text/plain": [
              "<Figure size 432x288 with 1 Axes>"
            ],
            "image/png": "[encoded data removed]"
          },
          "metadata": {
            "needs_background": "light"
          }
        }
      ]
    },
    {
      "cell_type": "code",
      "source": [
        ""
      ],
      "metadata": {
        "id": "zg8XeyeMHDlx"
      },
      "execution_count": null,
      "outputs": []
    },
    {
      "cell_type": "markdown",
      "source": [
        "##BIGRU CNN1 TDD GMP1D D13: 71"
      ],
      "metadata": {
        "id": "m4n3YO7QNfi1"
      }
    },
    {
      "cell_type": "code",
      "source": [
        "from keras.models import Sequential\n",
        "from keras.layers.convolutional import Conv1D, MaxPooling1D\n",
        "from keras.layers.pooling import GlobalMaxPooling1D, AveragePooling1D, GlobalAveragePooling1D\n",
        "from keras.layers import Dense, Flatten, Embedding, BatchNormalization, Dropout, LSTM\n",
        "\n",
        "from tensorflow.keras.layers import TimeDistributed, Bidirectional, GRU"
      ],
      "metadata": {
        "id": "SgEiHxadNsVX"
      },
      "execution_count": 19,
      "outputs": []
    },
    {
      "cell_type": "code",
      "source": [
        "#Define our model\n",
        "\n",
        "model = Sequential()\n",
        "\n",
        "model.add(Embedding(vocab_size, 1000, input_length=max_length, trainable=True))\n",
        "#Bi-GRU with TimeDistributed by Tul \n",
        "model.add(Bidirectional(GRU(units=256,return_sequences=True, dropout=0.2, recurrent_dropout=0.2), merge_mode = 'concat'))\n",
        "\n",
        "model.add(Conv1D(128, 5 , activation='tanh'))\n",
        "model.add(TimeDistributed(Dense(128, activation=\"relu\")))\n",
        "model.add(GlobalMaxPooling1D())\n",
        "\n",
        "model.add(Dense(num_classes, activation='softmax'))\n",
        "\n",
        "print(model.summary())"
      ],
      "metadata": {
        "colab": {
          "base_uri": "https://localhost:8080/"
        },
        "id": "p6plUvQwNoGd",
        "outputId": "4a9ba36a-db03-427a-d7f9-eb205522f1f0"
      },
      "execution_count": 20,
      "outputs": [
        {
          "output_type": "stream",
          "name": "stdout",
          "text": [
            "WARNING:tensorflow:Layer gru will not use cuDNN kernels since it doesn't meet the criteria. It will use a generic GPU kernel as fallback when running on GPU.\n",
            "WARNING:tensorflow:Layer gru will not use cuDNN kernels since it doesn't meet the criteria. It will use a generic GPU kernel as fallback when running on GPU.\n",
            "WARNING:tensorflow:Layer gru will not use cuDNN kernels since it doesn't meet the criteria. It will use a generic GPU kernel as fallback when running on GPU.\n",
            "Model: \"sequential\"\n",
            "_________________________________________________________________\n",
            " Layer (type)                Output Shape              Param #   \n",
            "=================================================================\n",
            " embedding (Embedding)       (None, 190, 1000)         11536000  \n",
            "                                                                 \n",
            " bidirectional (Bidirectiona  (None, 190, 512)         1932288   \n",
            " l)                                                              \n",
            "                                                                 \n",
            " conv1d (Conv1D)             (None, 186, 128)          327808    \n",
            "                                                                 \n",
            " time_distributed (TimeDistr  (None, 186, 128)         16512     \n",
            " ibuted)                                                         \n",
            "                                                                 \n",
            " global_max_pooling1d (Globa  (None, 128)              0         \n",
            " lMaxPooling1D)                                                  \n",
            "                                                                 \n",
            " dense_1 (Dense)             (None, 13)                1677      \n",
            "                                                                 \n",
            "=================================================================\n",
            "Total params: 13,814,285\n",
            "Trainable params: 13,814,285\n",
            "Non-trainable params: 0\n",
            "_________________________________________________________________\n",
            "None\n"
          ]
        }
      ]
    },
    {
      "cell_type": "code",
      "source": [
        "from tensorflow.keras.callbacks import EarlyStopping\n",
        "\n",
        "#put early stopping\n",
        "early_stopping = EarlyStopping(monitor='val_loss', patience=1, mode='min')\n",
        "\n",
        "#Your choices of activation='softmax' in the last layer and compile choice of loss='categorical_crossentropy' \n",
        "#are good for a model to predict multiple mutually-exclusive classes.\n",
        "\n",
        "model.compile(loss='categorical_crossentropy',\n",
        "              optimizer='adam', \n",
        "              metrics=['acc'],)"
      ],
      "metadata": {
        "id": "6CzKcgjsOGYy"
      },
      "execution_count": 21,
      "outputs": []
    },
    {
      "cell_type": "code",
      "source": [
        "#Try classweight from this https://datascience.stackexchange.com/questions/13490/how-to-set-class-weights-for-imbalanced-classes-in-keras\n",
        "#Get the similar results\n",
        "\n",
        "history = model.fit(Xtrain, ytrain, \n",
        "                    epochs=10, batch_size=32, #32, 128 > 8 (worse), 16, 64, 256\n",
        "                    validation_split=0.2,\n",
        "                    callbacks=[early_stopping])"
      ],
      "metadata": {
        "colab": {
          "base_uri": "https://localhost:8080/"
        },
        "outputId": "f46f63ba-7838-483f-d69a-4327fef8fcb1",
        "id": "RvOjQwYMOGYz"
      },
      "execution_count": 22,
      "outputs": [
        {
          "output_type": "stream",
          "name": "stdout",
          "text": [
            "Epoch 1/10\n",
            "304/304 [==============================] - 491s 2s/step - loss: 1.7524 - acc: 0.4250 - val_loss: 1.5702 - val_acc: 0.4984\n",
            "Epoch 2/10\n",
            "304/304 [==============================] - 467s 2s/step - loss: 1.3834 - acc: 0.5610 - val_loss: 1.5049 - val_acc: 0.4897\n",
            "Epoch 3/10\n",
            "304/304 [==============================] - 460s 2s/step - loss: 1.0986 - acc: 0.6374 - val_loss: 1.5837 - val_acc: 0.4926\n"
          ]
        }
      ]
    },
    {
      "cell_type": "code",
      "source": [
        "loss, acc = model.evaluate(Xtest, ytest)\n",
        "print('Test Accuracy: %f' % (acc*100))"
      ],
      "metadata": {
        "colab": {
          "base_uri": "https://localhost:8080/"
        },
        "outputId": "e77b3982-0aac-436d-87f0-560301f7a227",
        "id": "ILUdo9IBOGYz"
      },
      "execution_count": 23,
      "outputs": [
        {
          "output_type": "stream",
          "name": "stdout",
          "text": [
            "380/380 [==============================] - 41s 109ms/step - loss: 0.9133 - acc: 0.7104\n",
            "Test Accuracy: 71.037036\n"
          ]
        }
      ]
    },
    {
      "cell_type": "code",
      "source": [
        "# loading library\n",
        "import pickle\n",
        "pickle.dump(model, open('CLS_Q2207_1_1_6.pkl', 'wb'))"
      ],
      "metadata": {
        "colab": {
          "base_uri": "https://localhost:8080/"
        },
        "id": "B1Fg55Zprcdx",
        "outputId": "9f50fb30-d13c-4f19-e6db-2a6c0a15c490"
      },
      "execution_count": 24,
      "outputs": [
        {
          "output_type": "stream",
          "name": "stdout",
          "text": [
            "INFO:tensorflow:Assets written to: ram://e3e1d869-e227-4321-a557-647bf0bbddaf/assets\n"
          ]
        },
        {
          "output_type": "stream",
          "name": "stderr",
          "text": [
            "WARNING:absl:<keras.layers.recurrent.GRUCell object at 0x7ff8dad0b410> has the same name 'GRUCell' as a built-in Keras object. Consider renaming <class 'keras.layers.recurrent.GRUCell'> to avoid naming conflicts when loading with `tf.keras.models.load_model`. If renaming is not possible, pass the object in the `custom_objects` parameter of the load function.\n",
            "WARNING:absl:<keras.layers.recurrent.GRUCell object at 0x7ff8dad0bd90> has the same name 'GRUCell' as a built-in Keras object. Consider renaming <class 'keras.layers.recurrent.GRUCell'> to avoid naming conflicts when loading with `tf.keras.models.load_model`. If renaming is not possible, pass the object in the `custom_objects` parameter of the load function.\n"
          ]
        }
      ]
    },
    {
      "cell_type": "code",
      "source": [
        "from google.colab import files\n",
        "files.download('CLS_Q2207_1_1_6.pkl')"
      ],
      "metadata": {
        "colab": {
          "base_uri": "https://localhost:8080/",
          "height": 17
        },
        "id": "9cgzhq2-4blH",
        "outputId": "77b26041-1422-4321-b229-3a902d161c35"
      },
      "execution_count": 27,
      "outputs": [
        {
          "output_type": "display_data",
          "data": {
            "text/plain": [
              "<IPython.core.display.Javascript object>"
            ],
            "application/javascript": [
              "\n",
              "    async function download(id, filename, size) {\n",
              "      if (!google.colab.kernel.accessAllowed) {\n",
              "        return;\n",
              "      }\n",
              "      const div = document.createElement('div');\n",
              "      const label = document.createElement('label');\n",
              "      label.textContent = `Downloading \"${filename}\": `;\n",
              "      div.appendChild(label);\n",
              "      const progress = document.createElement('progress');\n",
              "      progress.max = size;\n",
              "      div.appendChild(progress);\n",
              "      document.body.appendChild(div);\n",
              "\n",
              "      const buffers = [];\n",
              "      let downloaded = 0;\n",
              "\n",
              "      const channel = await google.colab.kernel.comms.open(id);\n",
              "      // Send a message to notify the kernel that we're ready.\n",
              "      channel.send({})\n",
              "\n",
              "      for await (const message of channel.messages) {\n",
              "        // Send a message to notify the kernel that we're ready.\n",
              "        channel.send({})\n",
              "        if (message.buffers) {\n",
              "          for (const buffer of message.buffers) {\n",
              "            buffers.push(buffer);\n",
              "            downloaded += buffer.byteLength;\n",
              "            progress.value = downloaded;\n",
              "          }\n",
              "        }\n",
              "      }\n",
              "      const blob = new Blob(buffers, {type: 'application/binary'});\n",
              "      const a = document.createElement('a');\n",
              "      a.href = window.URL.createObjectURL(blob);\n",
              "      a.download = filename;\n",
              "      div.appendChild(a);\n",
              "      a.click();\n",
              "      div.remove();\n",
              "    }\n",
              "  "
            ]
          },
          "metadata": {}
        },
        {
          "output_type": "display_data",
          "data": {
            "text/plain": [
              "<IPython.core.display.Javascript object>"
            ],
            "application/javascript": [
              "download(\"download_b1257980-924e-454e-9fb7-b46f6579ded9\", \"CLS_Q2207_1_1_6.pkl\", 167864546)"
            ]
          },
          "metadata": {}
        }
      ]
    },
    {
      "cell_type": "code",
      "source": [
        "history_frame = pd.DataFrame(history.history)\n",
        "history_frame.loc[:, ['loss', 'val_loss']].plot()"
      ],
      "metadata": {
        "colab": {
          "base_uri": "https://localhost:8080/",
          "height": 282
        },
        "outputId": "f34ccbe1-05f8-490b-d3b2-1354c832932b",
        "id": "VO9SYZhpOGY0"
      },
      "execution_count": 25,
      "outputs": [
        {
          "output_type": "execute_result",
          "data": {
            "text/plain": [
              "<matplotlib.axes._subplots.AxesSubplot at 0x7ff8301731d0>"
            ]
          },
          "metadata": {},
          "execution_count": 25
        },
        {
          "output_type": "display_data",
          "data": {
            "text/plain": [
              "<Figure size 432x288 with 1 Axes>"
            ],
            "image/png": "[encoded data removed]"
          },
          "metadata": {
            "needs_background": "light"
          }
        }
      ]
    },
    {
      "cell_type": "code",
      "source": [
        "history_frame.loc[:, ['acc', 'val_acc']].plot()"
      ],
      "metadata": {
        "colab": {
          "base_uri": "https://localhost:8080/",
          "height": 282
        },
        "outputId": "69afaefd-0b74-4f6a-f245-af16da0f1950",
        "id": "Qm6lkNcgOGY0"
      },
      "execution_count": 26,
      "outputs": [
        {
          "output_type": "execute_result",
          "data": {
            "text/plain": [
              "<matplotlib.axes._subplots.AxesSubplot at 0x7ff831530690>"
            ]
          },
          "metadata": {},
          "execution_count": 26
        },
        {
          "output_type": "display_data",
          "data": {
            "text/plain": [
              "<Figure size 432x288 with 1 Axes>"
            ],
            "image/png": "[encoded data removed]"
          },
          "metadata": {
            "needs_background": "light"
          }
        }
      ]
    },
    {
      "cell_type": "markdown",
      "source": [
        "##BILSTM CNN1 TDD GMP1D D13: 71"
      ],
      "metadata": {
        "id": "IXY0DUEhOs1n"
      }
    },
    {
      "cell_type": "code",
      "source": [
        "from keras.models import Sequential\n",
        "from keras.layers.convolutional import Conv1D, MaxPooling1D\n",
        "from keras.layers.pooling import GlobalMaxPooling1D, AveragePooling1D, GlobalAveragePooling1D\n",
        "from keras.layers import Dense, Flatten, Embedding, BatchNormalization, Dropout\n",
        "\n",
        "from tensorflow.keras.layers import TimeDistributed, Bidirectional, GRU, LSTM"
      ],
      "metadata": {
        "id": "1rb9CsXNOs1o"
      },
      "execution_count": null,
      "outputs": []
    },
    {
      "cell_type": "code",
      "source": [
        "#Define our model\n",
        "\n",
        "model = Sequential()\n",
        "\n",
        "model.add(Embedding(vocab_size, 1000, input_length=max_length, trainable=True))\n",
        "#Bi-LSTM with TimeDistributed by Tul \n",
        "model.add(Bidirectional(LSTM(units=256,return_sequences=True, dropout=0.2, recurrent_dropout=0.2), merge_mode = 'concat'))\n",
        "\n",
        "model.add(Conv1D(128, 5 , activation='tanh'))\n",
        "model.add(TimeDistributed(Dense(128, activation=\"relu\")))\n",
        "model.add(GlobalMaxPooling1D())\n",
        "\n",
        "model.add(Dense(num_classes, activation='softmax'))\n",
        "\n",
        "print(model.summary())"
      ],
      "metadata": {
        "colab": {
          "base_uri": "https://localhost:8080/"
        },
        "outputId": "c5e7807f-370a-4eaf-90db-0892023c21e3",
        "id": "IJfHvzqOOs1o"
      },
      "execution_count": null,
      "outputs": [
        {
          "output_type": "stream",
          "name": "stdout",
          "text": [
            "WARNING:tensorflow:Layer lstm will not use cuDNN kernels since it doesn't meet the criteria. It will use a generic GPU kernel as fallback when running on GPU.\n",
            "WARNING:tensorflow:Layer lstm will not use cuDNN kernels since it doesn't meet the criteria. It will use a generic GPU kernel as fallback when running on GPU.\n",
            "WARNING:tensorflow:Layer lstm will not use cuDNN kernels since it doesn't meet the criteria. It will use a generic GPU kernel as fallback when running on GPU.\n",
            "Model: \"sequential_2\"\n",
            "_________________________________________________________________\n",
            " Layer (type)                Output Shape              Param #   \n",
            "=================================================================\n",
            " embedding_2 (Embedding)     (None, 190, 1000)         11536000  \n",
            "                                                                 \n",
            " bidirectional_1 (Bidirectio  (None, 190, 512)         2574336   \n",
            " nal)                                                            \n",
            "                                                                 \n",
            " conv1d_1 (Conv1D)           (None, 186, 128)          327808    \n",
            "                                                                 \n",
            " time_distributed_1 (TimeDis  (None, 186, 128)         16512     \n",
            " tributed)                                                       \n",
            "                                                                 \n",
            " global_max_pooling1d_1 (Glo  (None, 128)              0         \n",
            " balMaxPooling1D)                                                \n",
            "                                                                 \n",
            " dense_3 (Dense)             (None, 13)                1677      \n",
            "                                                                 \n",
            "=================================================================\n",
            "Total params: 14,456,333\n",
            "Trainable params: 14,456,333\n",
            "Non-trainable params: 0\n",
            "_________________________________________________________________\n",
            "None\n"
          ]
        }
      ]
    },
    {
      "cell_type": "code",
      "source": [
        "from tensorflow.keras.callbacks import EarlyStopping\n",
        "\n",
        "#put early stopping\n",
        "early_stopping = EarlyStopping(monitor='val_loss', patience=1, mode='min')\n",
        "\n",
        "#Your choices of activation='softmax' in the last layer and compile choice of loss='categorical_crossentropy' \n",
        "#are good for a model to predict multiple mutually-exclusive classes.\n",
        "\n",
        "model.compile(loss='categorical_crossentropy',\n",
        "              optimizer='adam', \n",
        "              metrics=['acc'],)"
      ],
      "metadata": {
        "id": "eTGGc7VPOs1o"
      },
      "execution_count": null,
      "outputs": []
    },
    {
      "cell_type": "code",
      "source": [
        "#Try classweight from this https://datascience.stackexchange.com/questions/13490/how-to-set-class-weights-for-imbalanced-classes-in-keras\n",
        "#Get the similar results\n",
        "\n",
        "history = model.fit(Xtrain, ytrain, \n",
        "                    epochs=10, batch_size=32, #32, 128 > 8 (worse), 16, 64, 256\n",
        "                    validation_split=0.2,\n",
        "                    callbacks=[early_stopping])"
      ],
      "metadata": {
        "colab": {
          "base_uri": "https://localhost:8080/"
        },
        "outputId": "2bbff065-4c3d-4515-b80e-16c106c873bb",
        "id": "1MnITCP7Os1o"
      },
      "execution_count": null,
      "outputs": [
        {
          "output_type": "stream",
          "name": "stdout",
          "text": [
            "Epoch 1/10\n",
            "304/304 [==============================] - 593s 2s/step - loss: 1.7937 - acc: 0.4065 - val_loss: 1.5637 - val_acc: 0.4930\n",
            "Epoch 2/10\n",
            "304/304 [==============================] - 585s 2s/step - loss: 1.3829 - acc: 0.5537 - val_loss: 1.5073 - val_acc: 0.5066\n",
            "Epoch 3/10\n",
            "304/304 [==============================] - 581s 2s/step - loss: 1.0764 - acc: 0.6433 - val_loss: 1.5653 - val_acc: 0.5041\n"
          ]
        }
      ]
    },
    {
      "cell_type": "code",
      "source": [
        "loss, acc = model.evaluate(Xtest, ytest)\n",
        "print('Test Accuracy: %f' % (acc*100))"
      ],
      "metadata": {
        "colab": {
          "base_uri": "https://localhost:8080/"
        },
        "id": "ivxxqu66Os1o",
        "outputId": "47c14511-94ea-4a1c-83af-5985c3f864db"
      },
      "execution_count": null,
      "outputs": [
        {
          "output_type": "stream",
          "name": "stdout",
          "text": [
            "380/380 [==============================] - 50s 131ms/step - loss: 0.8893 - acc: 0.7177\n",
            "Test Accuracy: 71.769547\n"
          ]
        }
      ]
    },
    {
      "cell_type": "code",
      "source": [
        "history_frame = pd.DataFrame(history.history)\n",
        "history_frame.loc[:, ['loss', 'val_loss']].plot()"
      ],
      "metadata": {
        "colab": {
          "base_uri": "https://localhost:8080/",
          "height": 282
        },
        "id": "iAVneSZdOs1o",
        "outputId": "9e2ce6cc-86a6-4dbe-a1bb-940b6953e5ce"
      },
      "execution_count": null,
      "outputs": [
        {
          "output_type": "execute_result",
          "data": {
            "text/plain": [
              "<matplotlib.axes._subplots.AxesSubplot at 0x7f8bda17b410>"
            ]
          },
          "metadata": {},
          "execution_count": 33
        },
        {
          "output_type": "display_data",
          "data": {
            "text/plain": [
              "<Figure size 432x288 with 1 Axes>"
            ],
            "image/png": "[encoded data removed]"
          },
          "metadata": {
            "needs_background": "light"
          }
        }
      ]
    },
    {
      "cell_type": "code",
      "source": [
        "history_frame.loc[:, ['acc', 'val_acc']].plot()"
      ],
      "metadata": {
        "colab": {
          "base_uri": "https://localhost:8080/",
          "height": 282
        },
        "id": "20PfMRNfOs1p",
        "outputId": "b9b80dd6-1f9a-40c6-db08-eae5638a63ce"
      },
      "execution_count": null,
      "outputs": [
        {
          "output_type": "execute_result",
          "data": {
            "text/plain": [
              "<matplotlib.axes._subplots.AxesSubplot at 0x7f8c00147250>"
            ]
          },
          "metadata": {},
          "execution_count": 34
        },
        {
          "output_type": "display_data",
          "data": {
            "text/plain": [
              "<Figure size 432x288 with 1 Axes>"
            ],
            "image/png": "[encoded data removed]"
          },
          "metadata": {
            "needs_background": "light"
          }
        }
      ]
    },
    {
      "cell_type": "markdown",
      "source": [
        "## CNN1 GMP1D D13: 79\n"
      ],
      "metadata": {
        "id": "BX_XQj67E_b6"
      }
    },
    {
      "cell_type": "code",
      "source": [
        "from keras.layers import Dense, Flatten, Embedding, BatchNormalization, Dropout, LSTM, Bidirectional, TimeDistributed\n",
        "from keras.models import Sequential\n",
        "from keras.layers.convolutional import Conv1D, MaxPooling1D\n",
        "from keras.layers.pooling import GlobalMaxPooling1D, AveragePooling1D, GlobalAveragePooling1D\n",
        "import tensorflow as tf"
      ],
      "metadata": {
        "id": "CR-HCnzPFDoe"
      },
      "execution_count": 31,
      "outputs": []
    },
    {
      "cell_type": "code",
      "source": [
        "from keras.layers.pooling import GlobalMaxPooling1D\n",
        "#Define our model\n",
        "model = Sequential()\n",
        "\n",
        "model.add(Embedding(vocab_size, 1000, input_length=max_length, trainable=True))\n",
        "model.add(Conv1D(128, 5 , activation='relu'))\n",
        "#Among filters=[64,128,256], 128 is the best. \n",
        "#activation selu, tanh, relu, elu got similar results\n",
        "model.add(GlobalMaxPooling1D()) #Among pooliing, GMP1D is the best.\n",
        "\n",
        "model.add(Dense(num_classes, activation='softmax')) #1 Dense better than 2 Denses\n",
        "print(model.summary())"
      ],
      "metadata": {
        "id": "nddmIhdNFICP",
        "colab": {
          "base_uri": "https://localhost:8080/"
        },
        "outputId": "6db0c50e-339b-4022-cd97-8047e0abb144"
      },
      "execution_count": 32,
      "outputs": [
        {
          "output_type": "stream",
          "name": "stdout",
          "text": [
            "Model: \"sequential_2\"\n",
            "_________________________________________________________________\n",
            " Layer (type)                Output Shape              Param #   \n",
            "=================================================================\n",
            " embedding_2 (Embedding)     (None, 190, 1000)         11536000  \n",
            "                                                                 \n",
            " conv1d_2 (Conv1D)           (None, 186, 128)          640128    \n",
            "                                                                 \n",
            " global_max_pooling1d_2 (Glo  (None, 128)              0         \n",
            " balMaxPooling1D)                                                \n",
            "                                                                 \n",
            " dense_3 (Dense)             (None, 13)                1677      \n",
            "                                                                 \n",
            "=================================================================\n",
            "Total params: 12,177,805\n",
            "Trainable params: 12,177,805\n",
            "Non-trainable params: 0\n",
            "_________________________________________________________________\n",
            "None\n"
          ]
        }
      ]
    },
    {
      "cell_type": "code",
      "source": [
        "plot_model(model, to_file='model_plot.png', show_shapes=True, show_layer_names=True)"
      ],
      "metadata": {
        "colab": {
          "base_uri": "https://localhost:8080/",
          "height": 533
        },
        "id": "MGpbRB6uoTXB",
        "outputId": "c9d6fc96-d1de-4ff0-f473-1d51ca63b400"
      },
      "execution_count": 33,
      "outputs": [
        {
          "output_type": "execute_result",
          "data": {
            "text/plain": [
              "<IPython.core.display.Image object>"
            ],
            "image/png": "[encoded data removed]"
          },
          "metadata": {},
          "execution_count": 33
        }
      ]
    },
    {
      "cell_type": "code",
      "source": [
        "from google.colab import files\n",
        "files.download('model_plot.png')"
      ],
      "metadata": {
        "id": "H0Yd4X6v90Vg"
      },
      "execution_count": null,
      "outputs": []
    },
    {
      "cell_type": "code",
      "source": [
        "from tensorflow.keras.callbacks import EarlyStopping\n",
        "\n",
        "#put early stopping\n",
        "early_stopping = EarlyStopping(monitor='val_loss', patience=1, mode='min')\n",
        "\n",
        "#Your choices of activation='softmax' in the last layer and compile choice of loss='categorical_crossentropy' \n",
        "#are good for a model to predict multiple mutually-exclusive classes.\n",
        "\n",
        "model.compile(loss='categorical_crossentropy',\n",
        "              optimizer='adam', \n",
        "              metrics=['acc'],)"
      ],
      "metadata": {
        "id": "Q9yeE8-iFJcL"
      },
      "execution_count": 64,
      "outputs": []
    },
    {
      "cell_type": "code",
      "source": [
        "#Try classweight from this https://datascience.stackexchange.com/questions/13490/how-to-set-class-weights-for-imbalanced-classes-in-keras\n",
        "#Get the similar results\n",
        "\n",
        "history = model.fit(Xtrain, ytrain, \n",
        "                    epochs=10, batch_size=32, #32, 128 > 8 (worse), 16, 64, 256\n",
        "                    validation_split=0.2,\n",
        "                    callbacks=[early_stopping])"
      ],
      "metadata": {
        "id": "7pCGbab1FMKr",
        "colab": {
          "base_uri": "https://localhost:8080/"
        },
        "outputId": "2097a2ea-334f-4c7b-d08e-73a750fad065"
      },
      "execution_count": 65,
      "outputs": [
        {
          "output_type": "stream",
          "name": "stdout",
          "text": [
            "Epoch 1/10\n",
            "304/304 [==============================] - 4s 12ms/step - loss: 1.7134 - acc: 0.4368 - val_loss: 1.5060 - val_acc: 0.5128\n",
            "Epoch 2/10\n",
            "304/304 [==============================] - 3s 11ms/step - loss: 1.2217 - acc: 0.6033 - val_loss: 1.4565 - val_acc: 0.5251\n",
            "Epoch 3/10\n",
            "304/304 [==============================] - 3s 11ms/step - loss: 0.8276 - acc: 0.7354 - val_loss: 1.5305 - val_acc: 0.5103\n"
          ]
        }
      ]
    },
    {
      "cell_type": "code",
      "source": [
        "loss, acc = model.evaluate(Xtest, ytest)\n",
        "print('Test Accuracy: %f' % (acc*100))"
      ],
      "metadata": {
        "id": "fhmvQ1gcFNxb",
        "colab": {
          "base_uri": "https://localhost:8080/"
        },
        "outputId": "5581a5a2-f3f7-49c9-b64d-9e617257debb"
      },
      "execution_count": 66,
      "outputs": [
        {
          "output_type": "stream",
          "name": "stdout",
          "text": [
            "380/380 [==============================] - 1s 4ms/step - loss: 0.7040 - acc: 0.7900\n",
            "Test Accuracy: 79.004115\n"
          ]
        }
      ]
    },
    {
      "cell_type": "code",
      "source": [
        "# loading library\n",
        "import pickle\n",
        "pickle.dump(model, open('CLS_Q2207_1_1_5.pkl', 'wb'))"
      ],
      "metadata": {
        "id": "pwYflISRdVPT",
        "colab": {
          "base_uri": "https://localhost:8080/"
        },
        "outputId": "da23a8ab-bc1b-4625-e1ce-15fd342149ce"
      },
      "execution_count": 69,
      "outputs": [
        {
          "output_type": "stream",
          "name": "stdout",
          "text": [
            "INFO:tensorflow:Assets written to: ram://bdc2b9ab-79c2-4b20-822f-5fff13dc6e55/assets\n"
          ]
        }
      ]
    },
    {
      "cell_type": "code",
      "source": [
        "history_frame = pd.DataFrame(history.history)\n",
        "history_frame.loc[:, ['loss', 'val_loss']].plot()"
      ],
      "metadata": {
        "id": "hl6XE30MFQpK",
        "colab": {
          "base_uri": "https://localhost:8080/",
          "height": 282
        },
        "outputId": "ef827161-ab1f-44ad-a22a-d862484c1301"
      },
      "execution_count": 68,
      "outputs": [
        {
          "output_type": "execute_result",
          "data": {
            "text/plain": [
              "<matplotlib.axes._subplots.AxesSubplot at 0x7f16a04c7d50>"
            ]
          },
          "metadata": {},
          "execution_count": 68
        },
        {
          "output_type": "display_data",
          "data": {
            "text/plain": [
              "<Figure size 432x288 with 1 Axes>"
            ],
            "image/png": "[encoded data removed]"
          },
          "metadata": {
            "needs_background": "light"
          }
        }
      ]
    }
  ]
}
