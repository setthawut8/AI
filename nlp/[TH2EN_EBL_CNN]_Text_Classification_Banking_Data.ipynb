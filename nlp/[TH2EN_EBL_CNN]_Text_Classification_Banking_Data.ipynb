{
  "nbformat": 4,
  "nbformat_minor": 0,
  "metadata": {
    "colab": {
      "name": "[TH2EN  EBL CNN] Text Classification_Banking_Data.ipynb",
      "provenance": [],
      "machine_shape": "hm",
      "collapsed_sections": [
        "DKZejA_uh9kv",
        "-Hi7_QknsJKg",
        "SF_gw2udAQY3",
        "1U9_3A4GB3fV",
        "hVA-lL4TGJLB"
      ],
      "authorship_tag": "ABX9TyPgRMffjBDza8EgaAlqHP0F",
      "include_colab_link": true
    },
    "kernelspec": {
      "name": "python3",
      "display_name": "Python 3"
    },
    "language_info": {
      "name": "python"
    },
    "accelerator": "GPU",
    "gpuClass": "standard"
  },
  "cells": [
    {
      "cell_type": "markdown",
      "metadata": {
        "id": "view-in-github",
        "colab_type": "text"
      },
      "source": [
        "<a href=\"https://colab.research.google.com/github/setthawut8/ai/blob/main/%5BTH2EN_EBL_CNN%5D_Text_Classification_Banking_Data.ipynb\" target=\"_parent\"><img src=\"https://colab.research.google.com/assets/colab-badge.svg\" alt=\"Open In Colab\"/></a>"
      ]
    },
    {
      "cell_type": "markdown",
      "source": [
        "#Download Data and Library Installation"
      ],
      "metadata": {
        "id": "DKZejA_uh9kv"
      }
    },
    {
      "cell_type": "code",
      "execution_count": 1,
      "metadata": {
        "id": "rY0gVkg8ahbS",
        "colab": {
          "base_uri": "https://localhost:8080/"
        },
        "outputId": "c27c9a09-1aa4-45c3-d467-359efc1c5ded"
      },
      "outputs": [
        {
          "output_type": "stream",
          "name": "stdout",
          "text": [
            "/usr/local/lib/python3.7/dist-packages/gdown/cli.py:131: FutureWarning: Option `--id` was deprecated in version 4.3.1 and will be removed in 5.0. You don't need to pass it anymore to use a file ID.\n",
            "  category=FutureWarning,\n",
            "Downloading...\n",
            "From: https://drive.google.com/uc?id=1-avUDygRCGvAiPplmc6MundS_PpnohRv\n",
            "To: /content/preprocessed_v1_socialfsi_single_train_sampling12150_20220701.xlsx\n",
            "100% 3.87M/3.87M [00:00<00:00, 282MB/s]\n",
            "/usr/local/lib/python3.7/dist-packages/gdown/cli.py:131: FutureWarning: Option `--id` was deprecated in version 4.3.1 and will be removed in 5.0. You don't need to pass it anymore to use a file ID.\n",
            "  category=FutureWarning,\n",
            "Downloading...\n",
            "From: https://drive.google.com/uc?id=106OVRPIQQBppganRnCZigxQh6-Zyvqit\n",
            "To: /content/preprocessed_v1_socialfsi_single_test_sampling389_20220701.xlsx\n",
            "100% 141k/141k [00:00<00:00, 99.4MB/s]\n",
            "/usr/local/lib/python3.7/dist-packages/gdown/cli.py:131: FutureWarning: Option `--id` was deprecated in version 4.3.1 and will be removed in 5.0. You don't need to pass it anymore to use a file ID.\n",
            "  category=FutureWarning,\n",
            "Downloading...\n",
            "From: https://drive.google.com/uc?id=1hdmLmyVp_-MOmHBKWs4OukuxoyUFxW8X\n",
            "To: /content/train_translated banking data.csv\n",
            "100% 18.7M/18.7M [00:00<00:00, 219MB/s]\n",
            "/usr/local/lib/python3.7/dist-packages/gdown/cli.py:131: FutureWarning: Option `--id` was deprecated in version 4.3.1 and will be removed in 5.0. You don't need to pass it anymore to use a file ID.\n",
            "  category=FutureWarning,\n",
            "Downloading...\n",
            "From: https://drive.google.com/uc?id=1Cq3FttnnzZa-RK7vlu94bJTRj8YD6vA5\n",
            "To: /content/test_translated banking data.csv\n",
            "100% 18.7M/18.7M [00:00<00:00, 269MB/s]\n",
            "Looking in indexes: https://pypi.org/simple, https://us-python.pkg.dev/colab-wheels/public/simple/\n",
            "Collecting flair\n",
            "  Downloading flair-0.11.3-py3-none-any.whl (401 kB)\n",
            "\u001b[K     |████████████████████████████████| 401 kB 7.6 MB/s \n",
            "\u001b[?25hCollecting ftfy\n",
            "  Downloading ftfy-6.1.1-py3-none-any.whl (53 kB)\n",
            "\u001b[K     |████████████████████████████████| 53 kB 2.0 MB/s \n",
            "\u001b[?25hCollecting conllu>=4.0\n",
            "  Downloading conllu-4.5-py2.py3-none-any.whl (15 kB)\n",
            "Requirement already satisfied: gensim>=3.4.0 in /usr/local/lib/python3.7/dist-packages (from flair) (3.6.0)\n",
            "Collecting janome\n",
            "  Downloading Janome-0.4.2-py2.py3-none-any.whl (19.7 MB)\n",
            "\u001b[K     |████████████████████████████████| 19.7 MB 406 kB/s \n",
            "\u001b[?25hCollecting sqlitedict>=1.6.0\n",
            "  Downloading sqlitedict-2.0.0.tar.gz (46 kB)\n",
            "\u001b[K     |████████████████████████████████| 46 kB 4.8 MB/s \n",
            "\u001b[?25hCollecting sentencepiece==0.1.95\n",
            "  Downloading sentencepiece-0.1.95-cp37-cp37m-manylinux2014_x86_64.whl (1.2 MB)\n",
            "\u001b[K     |████████████████████████████████| 1.2 MB 72.8 MB/s \n",
            "\u001b[?25hRequirement already satisfied: matplotlib>=2.2.3 in /usr/local/lib/python3.7/dist-packages (from flair) (3.2.2)\n",
            "Requirement already satisfied: regex in /usr/local/lib/python3.7/dist-packages (from flair) (2022.6.2)\n",
            "Requirement already satisfied: scikit-learn>=0.21.3 in /usr/local/lib/python3.7/dist-packages (from flair) (1.0.2)\n",
            "Collecting pptree\n",
            "  Downloading pptree-3.1.tar.gz (3.0 kB)\n",
            "Collecting bpemb>=0.3.2\n",
            "  Downloading bpemb-0.3.3-py3-none-any.whl (19 kB)\n",
            "Collecting mpld3==0.3\n",
            "  Downloading mpld3-0.3.tar.gz (788 kB)\n",
            "\u001b[K     |████████████████████████████████| 788 kB 51.1 MB/s \n",
            "\u001b[?25hRequirement already satisfied: torch!=1.8,>=1.5.0 in /usr/local/lib/python3.7/dist-packages (from flair) (1.12.0+cu113)\n",
            "Requirement already satisfied: python-dateutil>=2.6.1 in /usr/local/lib/python3.7/dist-packages (from flair) (2.8.2)\n",
            "Requirement already satisfied: tqdm>=4.26.0 in /usr/local/lib/python3.7/dist-packages (from flair) (4.64.0)\n",
            "Collecting langdetect\n",
            "  Downloading langdetect-1.0.9.tar.gz (981 kB)\n",
            "\u001b[K     |████████████████████████████████| 981 kB 65.7 MB/s \n",
            "\u001b[?25hCollecting segtok>=1.5.7\n",
            "  Downloading segtok-1.5.11-py3-none-any.whl (24 kB)\n",
            "Requirement already satisfied: tabulate in /usr/local/lib/python3.7/dist-packages (from flair) (0.8.10)\n",
            "Collecting huggingface-hub\n",
            "  Downloading huggingface_hub-0.8.1-py3-none-any.whl (101 kB)\n",
            "\u001b[K     |████████████████████████████████| 101 kB 12.5 MB/s \n",
            "\u001b[?25hCollecting hyperopt>=0.2.7\n",
            "  Downloading hyperopt-0.2.7-py2.py3-none-any.whl (1.6 MB)\n",
            "\u001b[K     |████████████████████████████████| 1.6 MB 60.6 MB/s \n",
            "\u001b[?25hCollecting konoha<5.0.0,>=4.0.0\n",
            "  Downloading konoha-4.6.5-py3-none-any.whl (20 kB)\n",
            "Collecting transformers>=4.0.0\n",
            "  Downloading transformers-4.20.1-py3-none-any.whl (4.4 MB)\n",
            "\u001b[K     |████████████████████████████████| 4.4 MB 47.5 MB/s \n",
            "\u001b[?25hRequirement already satisfied: gdown==4.4.0 in /usr/local/lib/python3.7/dist-packages (from flair) (4.4.0)\n",
            "Requirement already satisfied: lxml in /usr/local/lib/python3.7/dist-packages (from flair) (4.2.6)\n",
            "Collecting wikipedia-api\n",
            "  Downloading Wikipedia-API-0.5.4.tar.gz (18 kB)\n",
            "Collecting deprecated>=1.2.4\n",
            "  Downloading Deprecated-1.2.13-py2.py3-none-any.whl (9.6 kB)\n",
            "Requirement already satisfied: more-itertools in /usr/local/lib/python3.7/dist-packages (from flair) (8.13.0)\n",
            "Requirement already satisfied: six in /usr/local/lib/python3.7/dist-packages (from gdown==4.4.0->flair) (1.15.0)\n",
            "Requirement already satisfied: beautifulsoup4 in /usr/local/lib/python3.7/dist-packages (from gdown==4.4.0->flair) (4.6.3)\n",
            "Requirement already satisfied: filelock in /usr/local/lib/python3.7/dist-packages (from gdown==4.4.0->flair) (3.7.1)\n",
            "Requirement already satisfied: requests[socks] in /usr/local/lib/python3.7/dist-packages (from gdown==4.4.0->flair) (2.23.0)\n",
            "Requirement already satisfied: numpy in /usr/local/lib/python3.7/dist-packages (from bpemb>=0.3.2->flair) (1.21.6)\n",
            "Requirement already satisfied: wrapt<2,>=1.10 in /usr/local/lib/python3.7/dist-packages (from deprecated>=1.2.4->flair) (1.14.1)\n",
            "Requirement already satisfied: smart-open>=1.2.1 in /usr/local/lib/python3.7/dist-packages (from gensim>=3.4.0->flair) (5.2.1)\n",
            "Requirement already satisfied: scipy>=0.18.1 in /usr/local/lib/python3.7/dist-packages (from gensim>=3.4.0->flair) (1.5.4)\n",
            "Requirement already satisfied: future in /usr/local/lib/python3.7/dist-packages (from hyperopt>=0.2.7->flair) (0.16.0)\n",
            "Requirement already satisfied: networkx>=2.2 in /usr/local/lib/python3.7/dist-packages (from hyperopt>=0.2.7->flair) (2.6.3)\n",
            "Collecting py4j\n",
            "  Downloading py4j-0.10.9.5-py2.py3-none-any.whl (199 kB)\n",
            "\u001b[K     |████████████████████████████████| 199 kB 69.4 MB/s \n",
            "\u001b[?25hRequirement already satisfied: cloudpickle in /usr/local/lib/python3.7/dist-packages (from hyperopt>=0.2.7->flair) (1.3.0)\n",
            "Collecting requests\n",
            "  Downloading requests-2.28.1-py3-none-any.whl (62 kB)\n",
            "\u001b[K     |████████████████████████████████| 62 kB 1.7 MB/s \n",
            "\u001b[?25hCollecting importlib-metadata<4.0.0,>=3.7.0\n",
            "  Downloading importlib_metadata-3.10.1-py3-none-any.whl (14 kB)\n",
            "Collecting overrides<4.0.0,>=3.0.0\n",
            "  Downloading overrides-3.1.0.tar.gz (11 kB)\n",
            "Requirement already satisfied: zipp>=0.5 in /usr/local/lib/python3.7/dist-packages (from importlib-metadata<4.0.0,>=3.7.0->konoha<5.0.0,>=4.0.0->flair) (3.8.0)\n",
            "Requirement already satisfied: typing-extensions>=3.6.4 in /usr/local/lib/python3.7/dist-packages (from importlib-metadata<4.0.0,>=3.7.0->konoha<5.0.0,>=4.0.0->flair) (4.1.1)\n",
            "Requirement already satisfied: kiwisolver>=1.0.1 in /usr/local/lib/python3.7/dist-packages (from matplotlib>=2.2.3->flair) (1.4.3)\n",
            "Requirement already satisfied: cycler>=0.10 in /usr/local/lib/python3.7/dist-packages (from matplotlib>=2.2.3->flair) (0.11.0)\n",
            "Requirement already satisfied: pyparsing!=2.0.4,!=2.1.2,!=2.1.6,>=2.0.1 in /usr/local/lib/python3.7/dist-packages (from matplotlib>=2.2.3->flair) (3.0.9)\n",
            "Requirement already satisfied: certifi>=2017.4.17 in /usr/local/lib/python3.7/dist-packages (from requests->bpemb>=0.3.2->flair) (2022.6.15)\n",
            "Requirement already satisfied: charset-normalizer<3,>=2 in /usr/local/lib/python3.7/dist-packages (from requests->bpemb>=0.3.2->flair) (2.1.0)\n",
            "Requirement already satisfied: idna<4,>=2.5 in /usr/local/lib/python3.7/dist-packages (from requests->bpemb>=0.3.2->flair) (2.10)\n",
            "Requirement already satisfied: urllib3<1.27,>=1.21.1 in /usr/local/lib/python3.7/dist-packages (from requests->bpemb>=0.3.2->flair) (1.24.3)\n",
            "Requirement already satisfied: threadpoolctl>=2.0.0 in /usr/local/lib/python3.7/dist-packages (from scikit-learn>=0.21.3->flair) (3.1.0)\n",
            "Requirement already satisfied: joblib>=0.11 in /usr/local/lib/python3.7/dist-packages (from scikit-learn>=0.21.3->flair) (1.1.0)\n",
            "Collecting pyyaml>=5.1\n",
            "  Downloading PyYAML-6.0-cp37-cp37m-manylinux_2_5_x86_64.manylinux1_x86_64.manylinux_2_12_x86_64.manylinux2010_x86_64.whl (596 kB)\n",
            "\u001b[K     |████████████████████████████████| 596 kB 63.4 MB/s \n",
            "\u001b[?25hRequirement already satisfied: packaging>=20.0 in /usr/local/lib/python3.7/dist-packages (from transformers>=4.0.0->flair) (21.3)\n",
            "Collecting tokenizers!=0.11.3,<0.13,>=0.11.1\n",
            "  Downloading tokenizers-0.12.1-cp37-cp37m-manylinux_2_12_x86_64.manylinux2010_x86_64.whl (6.6 MB)\n",
            "\u001b[K     |████████████████████████████████| 6.6 MB 64.0 MB/s \n",
            "\u001b[?25hRequirement already satisfied: wcwidth>=0.2.5 in /usr/local/lib/python3.7/dist-packages (from ftfy->flair) (0.2.5)\n",
            "Requirement already satisfied: PySocks!=1.5.7,>=1.5.6 in /usr/local/lib/python3.7/dist-packages (from requests->bpemb>=0.3.2->flair) (1.7.1)\n",
            "Building wheels for collected packages: mpld3, overrides, sqlitedict, langdetect, pptree, wikipedia-api\n",
            "  Building wheel for mpld3 (setup.py) ... \u001b[?25l\u001b[?25hdone\n",
            "  Created wheel for mpld3: filename=mpld3-0.3-py3-none-any.whl size=116702 sha256=55b505adf08be6e972979313f73df736309c6a944c108e84f9a5c009b0f245bb\n",
            "  Stored in directory: /root/.cache/pip/wheels/26/70/6a/1c79e59951a41b4045497da187b2724f5659ca64033cf4548e\n",
            "  Building wheel for overrides (setup.py) ... \u001b[?25l\u001b[?25hdone\n",
            "  Created wheel for overrides: filename=overrides-3.1.0-py3-none-any.whl size=10187 sha256=154f75eae5004ef06be1367b8d069aa63895809b52d65334ae41aee148f53170\n",
            "  Stored in directory: /root/.cache/pip/wheels/3a/0d/38/01a9bc6e20dcfaf0a6a7b552d03137558ba1c38aea47644682\n",
            "  Building wheel for sqlitedict (setup.py) ... \u001b[?25l\u001b[?25hdone\n",
            "  Created wheel for sqlitedict: filename=sqlitedict-2.0.0-py3-none-any.whl size=15736 sha256=0740f6091f9ac138b2ff86bf4d26ec260ea727c29c940b6871d69002cf816db6\n",
            "  Stored in directory: /root/.cache/pip/wheels/96/dd/2e/0ed4a25cb73fc30c7ea8d10b50acb7226175736067e40a7ea3\n",
            "  Building wheel for langdetect (setup.py) ... \u001b[?25l\u001b[?25hdone\n",
            "  Created wheel for langdetect: filename=langdetect-1.0.9-py3-none-any.whl size=993242 sha256=4772ec172b6fc1866cefb3c769c62da3662583fc2b77cf91ab6fbd04ce2ba9d8\n",
            "  Stored in directory: /root/.cache/pip/wheels/c5/96/8a/f90c59ed25d75e50a8c10a1b1c2d4c402e4dacfa87f3aff36a\n",
            "  Building wheel for pptree (setup.py) ... \u001b[?25l\u001b[?25hdone\n",
            "  Created wheel for pptree: filename=pptree-3.1-py3-none-any.whl size=4629 sha256=7f41ed468602406fb7849b89ba3b919ad3a8982a26d3c24bebc60c374f4090ee\n",
            "  Stored in directory: /root/.cache/pip/wheels/9e/e8/7d/a9c3c19b4722608a0d8b05a38c36bc3f230c43becd2a46794b\n",
            "  Building wheel for wikipedia-api (setup.py) ... \u001b[?25l\u001b[?25hdone\n",
            "  Created wheel for wikipedia-api: filename=Wikipedia_API-0.5.4-py3-none-any.whl size=13477 sha256=e1b3cfee59a7f0501dbf39adef2af33500fd3c08a9334d4af543f81c198df613\n",
            "  Stored in directory: /root/.cache/pip/wheels/d3/24/56/58ba93cf78be162451144e7a9889603f437976ef1ae7013d04\n",
            "Successfully built mpld3 overrides sqlitedict langdetect pptree wikipedia-api\n",
            "Installing collected packages: requests, pyyaml, importlib-metadata, tokenizers, sentencepiece, py4j, overrides, huggingface-hub, wikipedia-api, transformers, sqlitedict, segtok, pptree, mpld3, langdetect, konoha, janome, hyperopt, ftfy, deprecated, conllu, bpemb, flair\n",
            "  Attempting uninstall: requests\n",
            "    Found existing installation: requests 2.23.0\n",
            "    Uninstalling requests-2.23.0:\n",
            "      Successfully uninstalled requests-2.23.0\n",
            "  Attempting uninstall: pyyaml\n",
            "    Found existing installation: PyYAML 3.13\n",
            "    Uninstalling PyYAML-3.13:\n",
            "      Successfully uninstalled PyYAML-3.13\n",
            "  Attempting uninstall: importlib-metadata\n",
            "    Found existing installation: importlib-metadata 4.12.0\n",
            "    Uninstalling importlib-metadata-4.12.0:\n",
            "      Successfully uninstalled importlib-metadata-4.12.0\n",
            "  Attempting uninstall: hyperopt\n",
            "    Found existing installation: hyperopt 0.1.2\n",
            "    Uninstalling hyperopt-0.1.2:\n",
            "      Successfully uninstalled hyperopt-0.1.2\n",
            "\u001b[31mERROR: pip's dependency resolver does not currently take into account all the packages that are installed. This behaviour is the source of the following dependency conflicts.\n",
            "markdown 3.3.7 requires importlib-metadata>=4.4; python_version < \"3.10\", but you have importlib-metadata 3.10.1 which is incompatible.\n",
            "google-colab 1.0.0 requires requests~=2.23.0, but you have requests 2.28.1 which is incompatible.\n",
            "datascience 0.10.6 requires folium==0.2.1, but you have folium 0.8.3 which is incompatible.\u001b[0m\n",
            "Successfully installed bpemb-0.3.3 conllu-4.5 deprecated-1.2.13 flair-0.11.3 ftfy-6.1.1 huggingface-hub-0.8.1 hyperopt-0.2.7 importlib-metadata-3.10.1 janome-0.4.2 konoha-4.6.5 langdetect-1.0.9 mpld3-0.3 overrides-3.1.0 pptree-3.1 py4j-0.10.9.5 pyyaml-6.0 requests-2.28.1 segtok-1.5.11 sentencepiece-0.1.95 sqlitedict-2.0.0 tokenizers-0.12.1 transformers-4.20.1 wikipedia-api-0.5.4\n",
            "Looking in indexes: https://pypi.org/simple, https://us-python.pkg.dev/colab-wheels/public/simple/\n",
            "Collecting fairseq\n",
            "  Downloading fairseq-0.12.2-cp37-cp37m-manylinux_2_5_x86_64.manylinux1_x86_64.whl (11.0 MB)\n",
            "\u001b[K     |████████████████████████████████| 11.0 MB 6.6 MB/s \n",
            "\u001b[?25hCollecting omegaconf<2.1\n",
            "  Downloading omegaconf-2.0.6-py3-none-any.whl (36 kB)\n",
            "Requirement already satisfied: tqdm in /usr/local/lib/python3.7/dist-packages (from fairseq) (4.64.0)\n",
            "Requirement already satisfied: torchaudio>=0.8.0 in /usr/local/lib/python3.7/dist-packages (from fairseq) (0.12.0+cu113)\n",
            "Collecting sacrebleu>=1.4.12\n",
            "  Downloading sacrebleu-2.1.0-py3-none-any.whl (92 kB)\n",
            "\u001b[K     |████████████████████████████████| 92 kB 14.6 MB/s \n",
            "\u001b[?25hRequirement already satisfied: cffi in /usr/local/lib/python3.7/dist-packages (from fairseq) (1.15.1)\n",
            "Requirement already satisfied: numpy in /usr/local/lib/python3.7/dist-packages (from fairseq) (1.21.6)\n",
            "Requirement already satisfied: cython in /usr/local/lib/python3.7/dist-packages (from fairseq) (0.29.30)\n",
            "Collecting hydra-core<1.1,>=1.0.7\n",
            "  Downloading hydra_core-1.0.7-py3-none-any.whl (123 kB)\n",
            "\u001b[K     |████████████████████████████████| 123 kB 82.8 MB/s \n",
            "\u001b[?25hCollecting bitarray\n",
            "  Downloading bitarray-2.5.1-cp37-cp37m-manylinux_2_17_x86_64.manylinux2014_x86_64.whl (236 kB)\n",
            "\u001b[K     |████████████████████████████████| 236 kB 70.6 MB/s \n",
            "\u001b[?25hRequirement already satisfied: regex in /usr/local/lib/python3.7/dist-packages (from fairseq) (2022.6.2)\n",
            "Requirement already satisfied: torch in /usr/local/lib/python3.7/dist-packages (from fairseq) (1.12.0+cu113)\n",
            "Collecting antlr4-python3-runtime==4.8\n",
            "  Downloading antlr4-python3-runtime-4.8.tar.gz (112 kB)\n",
            "\u001b[K     |████████████████████████████████| 112 kB 78.4 MB/s \n",
            "\u001b[?25hRequirement already satisfied: importlib-resources in /usr/local/lib/python3.7/dist-packages (from hydra-core<1.1,>=1.0.7->fairseq) (5.8.0)\n",
            "Requirement already satisfied: PyYAML>=5.1.* in /usr/local/lib/python3.7/dist-packages (from omegaconf<2.1->fairseq) (6.0)\n",
            "Requirement already satisfied: typing-extensions in /usr/local/lib/python3.7/dist-packages (from omegaconf<2.1->fairseq) (4.1.1)\n",
            "Requirement already satisfied: tabulate>=0.8.9 in /usr/local/lib/python3.7/dist-packages (from sacrebleu>=1.4.12->fairseq) (0.8.10)\n",
            "Collecting portalocker\n",
            "  Downloading portalocker-2.5.1-py2.py3-none-any.whl (15 kB)\n",
            "Collecting colorama\n",
            "  Downloading colorama-0.4.5-py2.py3-none-any.whl (16 kB)\n",
            "Requirement already satisfied: pycparser in /usr/local/lib/python3.7/dist-packages (from cffi->fairseq) (2.21)\n",
            "Requirement already satisfied: zipp>=3.1.0 in /usr/local/lib/python3.7/dist-packages (from importlib-resources->hydra-core<1.1,>=1.0.7->fairseq) (3.8.0)\n",
            "Building wheels for collected packages: antlr4-python3-runtime\n",
            "  Building wheel for antlr4-python3-runtime (setup.py) ... \u001b[?25l\u001b[?25hdone\n",
            "  Created wheel for antlr4-python3-runtime: filename=antlr4_python3_runtime-4.8-py3-none-any.whl size=141230 sha256=74216651a919e435371629a3ec071e46f7ea794b3722afb6d03f51e6f55f92c8\n",
            "  Stored in directory: /root/.cache/pip/wheels/ca/33/b7/336836125fc9bb4ceaa4376d8abca10ca8bc84ddc824baea6c\n",
            "Successfully built antlr4-python3-runtime\n",
            "Installing collected packages: portalocker, omegaconf, colorama, antlr4-python3-runtime, sacrebleu, hydra-core, bitarray, fairseq\n",
            "Successfully installed antlr4-python3-runtime-4.8 bitarray-2.5.1 colorama-0.4.5 fairseq-0.12.2 hydra-core-1.0.7 omegaconf-2.0.6 portalocker-2.5.1 sacrebleu-2.1.0\n",
            "Looking in indexes: https://pypi.org/simple, https://us-python.pkg.dev/colab-wheels/public/simple/\n",
            "Collecting pythainlp\n",
            "  Downloading pythainlp-3.0.8-py3-none-any.whl (11.5 MB)\n",
            "\u001b[K     |████████████████████████████████| 11.5 MB 6.3 MB/s \n",
            "\u001b[?25hRequirement already satisfied: requests>=2.22.0 in /usr/local/lib/python3.7/dist-packages (from pythainlp) (2.28.1)\n",
            "Collecting tinydb>=3.0\n",
            "  Downloading tinydb-4.7.0-py3-none-any.whl (24 kB)\n",
            "Requirement already satisfied: certifi>=2017.4.17 in /usr/local/lib/python3.7/dist-packages (from requests>=2.22.0->pythainlp) (2022.6.15)\n",
            "Requirement already satisfied: urllib3<1.27,>=1.21.1 in /usr/local/lib/python3.7/dist-packages (from requests>=2.22.0->pythainlp) (1.24.3)\n",
            "Requirement already satisfied: charset-normalizer<3,>=2 in /usr/local/lib/python3.7/dist-packages (from requests>=2.22.0->pythainlp) (2.1.0)\n",
            "Requirement already satisfied: idna<4,>=2.5 in /usr/local/lib/python3.7/dist-packages (from requests>=2.22.0->pythainlp) (2.10)\n",
            "Requirement already satisfied: typing-extensions<5.0.0,>=3.10.0 in /usr/local/lib/python3.7/dist-packages (from tinydb>=3.0->pythainlp) (4.1.1)\n",
            "Installing collected packages: tinydb, pythainlp\n",
            "Successfully installed pythainlp-3.0.8 tinydb-4.7.0\n",
            "Looking in indexes: https://pypi.org/simple, https://us-python.pkg.dev/colab-wheels/public/simple/\n",
            "Requirement already satisfied: transformers in /usr/local/lib/python3.7/dist-packages (4.20.1)\n",
            "Requirement already satisfied: filelock in /usr/local/lib/python3.7/dist-packages (from transformers) (3.7.1)\n",
            "Requirement already satisfied: tqdm>=4.27 in /usr/local/lib/python3.7/dist-packages (from transformers) (4.64.0)\n",
            "Requirement already satisfied: packaging>=20.0 in /usr/local/lib/python3.7/dist-packages (from transformers) (21.3)\n",
            "Requirement already satisfied: regex!=2019.12.17 in /usr/local/lib/python3.7/dist-packages (from transformers) (2022.6.2)\n",
            "Requirement already satisfied: importlib-metadata in /usr/local/lib/python3.7/dist-packages (from transformers) (3.10.1)\n",
            "Requirement already satisfied: tokenizers!=0.11.3,<0.13,>=0.11.1 in /usr/local/lib/python3.7/dist-packages (from transformers) (0.12.1)\n",
            "Requirement already satisfied: requests in /usr/local/lib/python3.7/dist-packages (from transformers) (2.28.1)\n",
            "Requirement already satisfied: numpy>=1.17 in /usr/local/lib/python3.7/dist-packages (from transformers) (1.21.6)\n",
            "Requirement already satisfied: pyyaml>=5.1 in /usr/local/lib/python3.7/dist-packages (from transformers) (6.0)\n",
            "Requirement already satisfied: huggingface-hub<1.0,>=0.1.0 in /usr/local/lib/python3.7/dist-packages (from transformers) (0.8.1)\n",
            "Requirement already satisfied: typing-extensions>=3.7.4.3 in /usr/local/lib/python3.7/dist-packages (from huggingface-hub<1.0,>=0.1.0->transformers) (4.1.1)\n",
            "Requirement already satisfied: pyparsing!=3.0.5,>=2.0.2 in /usr/local/lib/python3.7/dist-packages (from packaging>=20.0->transformers) (3.0.9)\n",
            "Requirement already satisfied: zipp>=0.5 in /usr/local/lib/python3.7/dist-packages (from importlib-metadata->transformers) (3.8.0)\n",
            "Requirement already satisfied: charset-normalizer<3,>=2 in /usr/local/lib/python3.7/dist-packages (from requests->transformers) (2.1.0)\n",
            "Requirement already satisfied: certifi>=2017.4.17 in /usr/local/lib/python3.7/dist-packages (from requests->transformers) (2022.6.15)\n",
            "Requirement already satisfied: urllib3<1.27,>=1.21.1 in /usr/local/lib/python3.7/dist-packages (from requests->transformers) (1.24.3)\n",
            "Requirement already satisfied: idna<4,>=2.5 in /usr/local/lib/python3.7/dist-packages (from requests->transformers) (2.10)\n",
            "Looking in indexes: https://pypi.org/simple, https://us-python.pkg.dev/colab-wheels/public/simple/\n",
            "Collecting sacremoses\n",
            "  Downloading sacremoses-0.0.53.tar.gz (880 kB)\n",
            "\u001b[K     |████████████████████████████████| 880 kB 7.1 MB/s \n",
            "\u001b[?25hRequirement already satisfied: sentencepiece in /usr/local/lib/python3.7/dist-packages (0.1.95)\n",
            "Requirement already satisfied: regex in /usr/local/lib/python3.7/dist-packages (from sacremoses) (2022.6.2)\n",
            "Requirement already satisfied: six in /usr/local/lib/python3.7/dist-packages (from sacremoses) (1.15.0)\n",
            "Requirement already satisfied: click in /usr/local/lib/python3.7/dist-packages (from sacremoses) (7.1.2)\n",
            "Requirement already satisfied: joblib in /usr/local/lib/python3.7/dist-packages (from sacremoses) (1.1.0)\n",
            "Requirement already satisfied: tqdm in /usr/local/lib/python3.7/dist-packages (from sacremoses) (4.64.0)\n",
            "Building wheels for collected packages: sacremoses\n",
            "  Building wheel for sacremoses (setup.py) ... \u001b[?25l\u001b[?25hdone\n",
            "  Created wheel for sacremoses: filename=sacremoses-0.0.53-py3-none-any.whl size=895260 sha256=d1cd54326f8e9b6b1856b2be7ad5124859010839bd82dcc684c84a6c98488a15\n",
            "  Stored in directory: /root/.cache/pip/wheels/87/39/dd/a83eeef36d0bf98e7a4d1933a4ad2d660295a40613079bafc9\n",
            "Successfully built sacremoses\n",
            "Installing collected packages: sacremoses\n",
            "Successfully installed sacremoses-0.0.53\n"
          ]
        }
      ],
      "source": [
        "#download data\n",
        "#raw\n",
        "!gdown --id :) \n",
        "!gdown --id :) \n",
        "#raw with translated\n",
        "!gdown --id :) \n",
        "!gdown --id :) \n",
        "\n",
        "!pip install flair \n",
        "!pip install fairseq\n",
        "!pip install pythainlp\n",
        "!pip install transformers\n",
        "!pip install sacremoses sentencepiece"
      ]
    },
    {
      "cell_type": "code",
      "source": [
        "#libraby \n",
        "import numpy as np\n",
        "import pandas as pd\n",
        "import seaborn as sns\n",
        "import matplotlib.pyplot as plt\n",
        "\n",
        "import string\n",
        "import os, os.path\n",
        "import pandas as pd\n",
        "import seaborn as sns\n",
        "\n",
        "import nltk\n",
        "nltk.download('stopwords')\n",
        "from nltk.corpus import stopwords\n",
        "\n",
        "from string import punctuation\n",
        "from os import listdir\n",
        "from collections import Counter\n",
        "from nltk.corpus import stopwords\n",
        "\n",
        "from keras.preprocessing.text import Tokenizer\n",
        "from keras_preprocessing.sequence import pad_sequences\n",
        "\n",
        "from keras.layers import Dense\n",
        "from keras.layers import Flatten\n",
        "from keras.layers import Embedding\n",
        "from keras.models import Sequential\n",
        "from keras.utils.vis_utils import plot_model\n",
        "from keras.layers.convolutional import Conv1D\n",
        "from keras.layers.convolutional import MaxPooling1D"
      ],
      "metadata": {
        "id": "cgMb7j8pbNQj",
        "colab": {
          "base_uri": "https://localhost:8080/"
        },
        "outputId": "c22dc6fe-977c-438c-df2a-5e99a7ac988e"
      },
      "execution_count": 2,
      "outputs": [
        {
          "output_type": "stream",
          "name": "stderr",
          "text": [
            "[nltk_data] Downloading package stopwords to /root/nltk_data...\n",
            "[nltk_data]   Unzipping corpora/stopwords.zip.\n"
          ]
        }
      ]
    },
    {
      "cell_type": "code",
      "source": [
        "train = pd.read_csv('/content/train_translated banking data.csv')\n",
        "test = pd.read_csv('/content/test_translated banking data.csv')"
      ],
      "metadata": {
        "id": "ITJldeRSbbc6"
      },
      "execution_count": 3,
      "outputs": []
    },
    {
      "cell_type": "code",
      "source": [
        "train.head(5)"
      ],
      "metadata": {
        "colab": {
          "base_uri": "https://localhost:8080/",
          "height": 0
        },
        "id": "sMuRAAX0b2mv",
        "outputId": "c309eac1-89f2-4e1a-e3de-6aaf6eb96c8f"
      },
      "execution_count": 4,
      "outputs": [
        {
          "output_type": "execute_result",
          "data": {
            "text/plain": [
              "   Unnamed: 0  Unnamed: 0.1  \\\n",
              "0           0             0   \n",
              "1           1             1   \n",
              "2           2             2   \n",
              "3           3             3   \n",
              "4           4             4   \n",
              "\n",
              "                                        TagFile_Path  \\\n",
              "0  SocialFSI_ZE-KTB-Feb-Apr2022_Sampling2244_2022...   \n",
              "1  SocialFSI_v4_0_mutiple_train_sampling8203_2021...   \n",
              "2  SocialFSI_ZE-KTB-Feb-Apr2022_Sampling2244_2022...   \n",
              "3  SocialFSI_v4_0_mutiple_train_sampling8203_2021...   \n",
              "4  SocialFSI_v4_0_mutiple_train_sampling8203_2021...   \n",
              "\n",
              "                                             TagFile SV_CustomerName  \\\n",
              "0  SocialFSI_ZE-KTB-Feb-Apr2022_Sampling1400_2022...  Krungthai_NEXT   \n",
              "1  SocialFSI_TrainDataV4_RetagCLS-12_Sampling53_P...             NaN   \n",
              "2  SocialFSI_ZE-KTB-Feb-Apr2022_Sampling1200_2022...  Krungthai_NEXT   \n",
              "3  SocialFSI_TrainSCB-SocialFilterV2_Sampling2750...             NaN   \n",
              "4  SocialFSI_TrainSCB-SocialFilterV2_Sampling2750...             NaN   \n",
              "\n",
              "                                        Main keyword      Channel SubChannel  \\\n",
              "0  mobile banking+กสิกร,mobile banking+ธนาคารกสิก...  SocialMedia      forum   \n",
              "1                                                NaN  SocialMedia    Twitter   \n",
              "2                                          krungthai  SocialMedia   facebook   \n",
              "3                                                NaN  SocialMedia    Twitter   \n",
              "4                                                NaN  SocialMedia    Twitter   \n",
              "\n",
              "                                 lfdn   verbatim_id     sentence_id  \\\n",
              "0           pantip.com_topic_41249919    Q2207_1549    Q2207_1549_1   \n",
              "1            5fffc6bcb08b583a24679d59  Q202106_5805  Q202106_5805_1   \n",
              "2  10161808181448916_1330115550790924     Q2207_636     Q2207_636_1   \n",
              "3                            27634345   Q202106_961   Q202106_961_1   \n",
              "4                            28297653  Q202106_2021  Q202106_2021_1   \n",
              "\n",
              "                                       Text_original  \\\n",
              "0  สอบถามเรื่องการอายัดบัตรเดบิตของกสิกรค่ะ พอดีว...   \n",
              "1  ปกติจะไม่ชอบlog in ใดๆในคอมคนอื่นหรือสำนักงานใ...   \n",
              "2  Krungthai Care ณ. ตอนนี้ยอดก็ยังไม่เข้าค่ะ ถ้า...   \n",
              "3  @scb_thailand เรียน scb ขอเบอร?ตืดต่อเพราะคุย ...   \n",
              "4  ไอเลิ้บ TMB All Free มาก แต่ช่วยพัฒนาแอพให้สเถ...   \n",
              "\n",
              "                                                Text  \\\n",
              "0  สอบถามเรื่องการอายัดบัตรเดบิตของกสิกรค่ะ พอดีว...   \n",
              "1  ปกติจะไม่ชอบlog in ใดๆในคอมคนอื่นหรือสำนักงานใ...   \n",
              "2  Krungthai Care ณ. ตอนนี้ยอดก็ยังไม่เข้าค่ะ ถ้า...   \n",
              "3  @scb_thailand เรียน scb ขอเบอร?ตืดต่อเพราะคุย ...   \n",
              "4                          ไอเลิ้บ TMB All Free มาก    \n",
              "\n",
              "                             Human_Category  Human_CategoryID Human_Sentiment  \\\n",
              "0  Product and Service, Usage and Condition                 8         neutral   \n",
              "1                                  Security                12         neutral   \n",
              "2               Product and Service, System                 7        negative   \n",
              "3                             Staff Quality                 4        negative   \n",
              "4  Product and Service, Usage and Condition                 8        positive   \n",
              "\n",
              "  Human_SentimentID                                      Text_ws_local  \\\n",
              "0                 o  สอบถาม|เรื่อง|การ|อายัด|บัตรเดบิต|ของ|kbank|ค่...   \n",
              "1                 o  ปกติ|จะ|ไม่ชอบ| |log| |in| |ใดๆ| |ใน|ค|อม|คนอื...   \n",
              "2                 n  ktb| |care| |ณ|.| |ตอนนี้|ยอด|ก็|ยัง|ไม่|เข้า|...   \n",
              "3                 n  scb_thailand| |เรียน| |scb| |ขอ|เบอร| |ตืด|ต่อ...   \n",
              "4                 p                    ไอ|เลิ้บ| |tmb_all_free| |มาก|    \n",
              "\n",
              "                                          translated  \n",
              "0  I've been asking about the debit card holders....  \n",
              "1  Usually don't like logins on any other compute...  \n",
              "2  Krungthai Care as of right now, it's not the t...  \n",
              "3                         @scb_thailand studied scb.  \n",
              "4  Ib TMB All Free. But it helps to improve apps....  "
            ],
            "text/html": [
              "\n",
              "  <div id=\"df-014d0922-b569-49b1-8376-fa3abd013774\">\n",
              "    <div class=\"colab-df-container\">\n",
              "      <div>\n",
              "<style scoped>\n",
              "    .dataframe tbody tr th:only-of-type {\n",
              "        vertical-align: middle;\n",
              "    }\n",
              "\n",
              "    .dataframe tbody tr th {\n",
              "        vertical-align: top;\n",
              "    }\n",
              "\n",
              "    .dataframe thead th {\n",
              "        text-align: right;\n",
              "    }\n",
              "</style>\n",
              "<table border=\"1\" class=\"dataframe\">\n",
              "  <thead>\n",
              "    <tr style=\"text-align: right;\">\n",
              "      <th></th>\n",
              "      <th>Unnamed: 0</th>\n",
              "      <th>Unnamed: 0.1</th>\n",
              "      <th>TagFile_Path</th>\n",
              "      <th>TagFile</th>\n",
              "      <th>SV_CustomerName</th>\n",
              "      <th>Main keyword</th>\n",
              "      <th>Channel</th>\n",
              "      <th>SubChannel</th>\n",
              "      <th>lfdn</th>\n",
              "      <th>verbatim_id</th>\n",
              "      <th>sentence_id</th>\n",
              "      <th>Text_original</th>\n",
              "      <th>Text</th>\n",
              "      <th>Human_Category</th>\n",
              "      <th>Human_CategoryID</th>\n",
              "      <th>Human_Sentiment</th>\n",
              "      <th>Human_SentimentID</th>\n",
              "      <th>Text_ws_local</th>\n",
              "      <th>translated</th>\n",
              "    </tr>\n",
              "  </thead>\n",
              "  <tbody>\n",
              "    <tr>\n",
              "      <th>0</th>\n",
              "      <td>0</td>\n",
              "      <td>0</td>\n",
              "      <td>SocialFSI_ZE-KTB-Feb-Apr2022_Sampling2244_2022...</td>\n",
              "      <td>SocialFSI_ZE-KTB-Feb-Apr2022_Sampling1400_2022...</td>\n",
              "      <td>Krungthai_NEXT</td>\n",
              "      <td>mobile banking+กสิกร,mobile banking+ธนาคารกสิก...</td>\n",
              "      <td>SocialMedia</td>\n",
              "      <td>forum</td>\n",
              "      <td>pantip.com_topic_41249919</td>\n",
              "      <td>Q2207_1549</td>\n",
              "      <td>Q2207_1549_1</td>\n",
              "      <td>สอบถามเรื่องการอายัดบัตรเดบิตของกสิกรค่ะ พอดีว...</td>\n",
              "      <td>สอบถามเรื่องการอายัดบัตรเดบิตของกสิกรค่ะ พอดีว...</td>\n",
              "      <td>Product and Service, Usage and Condition</td>\n",
              "      <td>8</td>\n",
              "      <td>neutral</td>\n",
              "      <td>o</td>\n",
              "      <td>สอบถาม|เรื่อง|การ|อายัด|บัตรเดบิต|ของ|kbank|ค่...</td>\n",
              "      <td>I've been asking about the debit card holders....</td>\n",
              "    </tr>\n",
              "    <tr>\n",
              "      <th>1</th>\n",
              "      <td>1</td>\n",
              "      <td>1</td>\n",
              "      <td>SocialFSI_v4_0_mutiple_train_sampling8203_2021...</td>\n",
              "      <td>SocialFSI_TrainDataV4_RetagCLS-12_Sampling53_P...</td>\n",
              "      <td>NaN</td>\n",
              "      <td>NaN</td>\n",
              "      <td>SocialMedia</td>\n",
              "      <td>Twitter</td>\n",
              "      <td>5fffc6bcb08b583a24679d59</td>\n",
              "      <td>Q202106_5805</td>\n",
              "      <td>Q202106_5805_1</td>\n",
              "      <td>ปกติจะไม่ชอบlog in ใดๆในคอมคนอื่นหรือสำนักงานใ...</td>\n",
              "      <td>ปกติจะไม่ชอบlog in ใดๆในคอมคนอื่นหรือสำนักงานใ...</td>\n",
              "      <td>Security</td>\n",
              "      <td>12</td>\n",
              "      <td>neutral</td>\n",
              "      <td>o</td>\n",
              "      <td>ปกติ|จะ|ไม่ชอบ| |log| |in| |ใดๆ| |ใน|ค|อม|คนอื...</td>\n",
              "      <td>Usually don't like logins on any other compute...</td>\n",
              "    </tr>\n",
              "    <tr>\n",
              "      <th>2</th>\n",
              "      <td>2</td>\n",
              "      <td>2</td>\n",
              "      <td>SocialFSI_ZE-KTB-Feb-Apr2022_Sampling2244_2022...</td>\n",
              "      <td>SocialFSI_ZE-KTB-Feb-Apr2022_Sampling1200_2022...</td>\n",
              "      <td>Krungthai_NEXT</td>\n",
              "      <td>krungthai</td>\n",
              "      <td>SocialMedia</td>\n",
              "      <td>facebook</td>\n",
              "      <td>10161808181448916_1330115550790924</td>\n",
              "      <td>Q2207_636</td>\n",
              "      <td>Q2207_636_1</td>\n",
              "      <td>Krungthai Care ณ. ตอนนี้ยอดก็ยังไม่เข้าค่ะ ถ้า...</td>\n",
              "      <td>Krungthai Care ณ. ตอนนี้ยอดก็ยังไม่เข้าค่ะ ถ้า...</td>\n",
              "      <td>Product and Service, System</td>\n",
              "      <td>7</td>\n",
              "      <td>negative</td>\n",
              "      <td>n</td>\n",
              "      <td>ktb| |care| |ณ|.| |ตอนนี้|ยอด|ก็|ยัง|ไม่|เข้า|...</td>\n",
              "      <td>Krungthai Care as of right now, it's not the t...</td>\n",
              "    </tr>\n",
              "    <tr>\n",
              "      <th>3</th>\n",
              "      <td>3</td>\n",
              "      <td>3</td>\n",
              "      <td>SocialFSI_v4_0_mutiple_train_sampling8203_2021...</td>\n",
              "      <td>SocialFSI_TrainSCB-SocialFilterV2_Sampling2750...</td>\n",
              "      <td>NaN</td>\n",
              "      <td>NaN</td>\n",
              "      <td>SocialMedia</td>\n",
              "      <td>Twitter</td>\n",
              "      <td>27634345</td>\n",
              "      <td>Q202106_961</td>\n",
              "      <td>Q202106_961_1</td>\n",
              "      <td>@scb_thailand เรียน scb ขอเบอร?ตืดต่อเพราะคุย ...</td>\n",
              "      <td>@scb_thailand เรียน scb ขอเบอร?ตืดต่อเพราะคุย ...</td>\n",
              "      <td>Staff Quality</td>\n",
              "      <td>4</td>\n",
              "      <td>negative</td>\n",
              "      <td>n</td>\n",
              "      <td>scb_thailand| |เรียน| |scb| |ขอ|เบอร| |ตืด|ต่อ...</td>\n",
              "      <td>@scb_thailand studied scb.</td>\n",
              "    </tr>\n",
              "    <tr>\n",
              "      <th>4</th>\n",
              "      <td>4</td>\n",
              "      <td>4</td>\n",
              "      <td>SocialFSI_v4_0_mutiple_train_sampling8203_2021...</td>\n",
              "      <td>SocialFSI_TrainSCB-SocialFilterV2_Sampling2750...</td>\n",
              "      <td>NaN</td>\n",
              "      <td>NaN</td>\n",
              "      <td>SocialMedia</td>\n",
              "      <td>Twitter</td>\n",
              "      <td>28297653</td>\n",
              "      <td>Q202106_2021</td>\n",
              "      <td>Q202106_2021_1</td>\n",
              "      <td>ไอเลิ้บ TMB All Free มาก แต่ช่วยพัฒนาแอพให้สเถ...</td>\n",
              "      <td>ไอเลิ้บ TMB All Free มาก</td>\n",
              "      <td>Product and Service, Usage and Condition</td>\n",
              "      <td>8</td>\n",
              "      <td>positive</td>\n",
              "      <td>p</td>\n",
              "      <td>ไอ|เลิ้บ| |tmb_all_free| |มาก|</td>\n",
              "      <td>Ib TMB All Free. But it helps to improve apps....</td>\n",
              "    </tr>\n",
              "  </tbody>\n",
              "</table>\n",
              "</div>\n",
              "      <button class=\"colab-df-convert\" onclick=\"convertToInteractive('df-014d0922-b569-49b1-8376-fa3abd013774')\"\n",
              "              title=\"Convert this dataframe to an interactive table.\"\n",
              "              style=\"display:none;\">\n",
              "        \n",
              "  <svg xmlns=\"http://www.w3.org/2000/svg\" height=\"24px\"viewBox=\"0 0 24 24\"\n",
              "       width=\"24px\">\n",
              "    <path d=\"M0 0h24v24H0V0z\" fill=\"none\"/>\n",
              "    <path d=\"M18.56 5.44l.94 2.06.94-2.06 2.06-.94-2.06-.94-.94-2.06-.94 2.06-2.06.94zm-11 1L8.5 8.5l.94-2.06 2.06-.94-2.06-.94L8.5 2.5l-.94 2.06-2.06.94zm10 10l.94 2.06.94-2.06 2.06-.94-2.06-.94-.94-2.06-.94 2.06-2.06.94z\"/><path d=\"M17.41 7.96l-1.37-1.37c-.4-.4-.92-.59-1.43-.59-.52 0-1.04.2-1.43.59L10.3 9.45l-7.72 7.72c-.78.78-.78 2.05 0 2.83L4 21.41c.39.39.9.59 1.41.59.51 0 1.02-.2 1.41-.59l7.78-7.78 2.81-2.81c.8-.78.8-2.07 0-2.86zM5.41 20L4 18.59l7.72-7.72 1.47 1.35L5.41 20z\"/>\n",
              "  </svg>\n",
              "      </button>\n",
              "      \n",
              "  <style>\n",
              "    .colab-df-container {\n",
              "      display:flex;\n",
              "      flex-wrap:wrap;\n",
              "      gap: 12px;\n",
              "    }\n",
              "\n",
              "    .colab-df-convert {\n",
              "      background-color: #E8F0FE;\n",
              "      border: none;\n",
              "      border-radius: 50%;\n",
              "      cursor: pointer;\n",
              "      display: none;\n",
              "      fill: #1967D2;\n",
              "      height: 32px;\n",
              "      padding: 0 0 0 0;\n",
              "      width: 32px;\n",
              "    }\n",
              "\n",
              "    .colab-df-convert:hover {\n",
              "      background-color: #E2EBFA;\n",
              "      box-shadow: 0px 1px 2px rgba(60, 64, 67, 0.3), 0px 1px 3px 1px rgba(60, 64, 67, 0.15);\n",
              "      fill: #174EA6;\n",
              "    }\n",
              "\n",
              "    [theme=dark] .colab-df-convert {\n",
              "      background-color: #3B4455;\n",
              "      fill: #D2E3FC;\n",
              "    }\n",
              "\n",
              "    [theme=dark] .colab-df-convert:hover {\n",
              "      background-color: #434B5C;\n",
              "      box-shadow: 0px 1px 3px 1px rgba(0, 0, 0, 0.15);\n",
              "      filter: drop-shadow(0px 1px 2px rgba(0, 0, 0, 0.3));\n",
              "      fill: #FFFFFF;\n",
              "    }\n",
              "  </style>\n",
              "\n",
              "      <script>\n",
              "        const buttonEl =\n",
              "          document.querySelector('#df-014d0922-b569-49b1-8376-fa3abd013774 button.colab-df-convert');\n",
              "        buttonEl.style.display =\n",
              "          google.colab.kernel.accessAllowed ? 'block' : 'none';\n",
              "\n",
              "        async function convertToInteractive(key) {\n",
              "          const element = document.querySelector('#df-014d0922-b569-49b1-8376-fa3abd013774');\n",
              "          const dataTable =\n",
              "            await google.colab.kernel.invokeFunction('convertToInteractive',\n",
              "                                                     [key], {});\n",
              "          if (!dataTable) return;\n",
              "\n",
              "          const docLinkHtml = 'Like what you see? Visit the ' +\n",
              "            '<a target=\"_blank\" href=https://colab.research.google.com/notebooks/data_table.ipynb>data table notebook</a>'\n",
              "            + ' to learn more about interactive tables.';\n",
              "          element.innerHTML = '';\n",
              "          dataTable['output_type'] = 'display_data';\n",
              "          await google.colab.output.renderOutput(dataTable, element);\n",
              "          const docLink = document.createElement('div');\n",
              "          docLink.innerHTML = docLinkHtml;\n",
              "          element.appendChild(docLink);\n",
              "        }\n",
              "      </script>\n",
              "    </div>\n",
              "  </div>\n",
              "  "
            ]
          },
          "metadata": {},
          "execution_count": 4
        }
      ]
    },
    {
      "cell_type": "code",
      "source": [
        "train['Human_CategoryID'].value_counts().sort_index(ascending=True)"
      ],
      "metadata": {
        "colab": {
          "base_uri": "https://localhost:8080/"
        },
        "id": "HA6bOeakDu5L",
        "outputId": "bc800f26-48b1-4d2d-a40c-67b46397544c"
      },
      "execution_count": 5,
      "outputs": [
        {
          "output_type": "execute_result",
          "data": {
            "text/plain": [
              "1      185\n",
              "2       16\n",
              "3      377\n",
              "4      522\n",
              "5     1163\n",
              "6     1109\n",
              "7     3275\n",
              "8     2454\n",
              "9      153\n",
              "10     379\n",
              "11     232\n",
              "12     152\n",
              "13    2133\n",
              "Name: Human_CategoryID, dtype: int64"
            ]
          },
          "metadata": {},
          "execution_count": 5
        }
      ]
    },
    {
      "cell_type": "markdown",
      "source": [
        "#Translation"
      ],
      "metadata": {
        "id": "-Hi7_QknsJKg"
      }
    },
    {
      "cell_type": "code",
      "source": [
        "from pythainlp.translate import Translate\n",
        "th2en = Translate('th', 'en')"
      ],
      "metadata": {
        "id": "N29J9c5W6UcK"
      },
      "execution_count": null,
      "outputs": []
    },
    {
      "cell_type": "code",
      "source": [
        "#processing for 4 hours\n",
        "train['translated'] = train['Text_original'].apply(lambda x: th2en.translate(x))"
      ],
      "metadata": {
        "id": "o77MiHOf68qS"
      },
      "execution_count": null,
      "outputs": []
    },
    {
      "cell_type": "code",
      "source": [
        "train.head(5)"
      ],
      "metadata": {
        "id": "5fR8T_4N8eep"
      },
      "execution_count": null,
      "outputs": []
    },
    {
      "cell_type": "code",
      "source": [
        "train.to_csv('train_translated banking data.csv')"
      ],
      "metadata": {
        "id": "QWoIaW-orWvu"
      },
      "execution_count": null,
      "outputs": []
    },
    {
      "cell_type": "code",
      "source": [
        "#processing for 4 hours\n",
        "test['translated'] = test['Text_original'].apply(lambda x: th2en.translate(x))"
      ],
      "metadata": {
        "id": "p3NK1PIzrqpl"
      },
      "execution_count": null,
      "outputs": []
    },
    {
      "cell_type": "code",
      "source": [
        "test.head(5)"
      ],
      "metadata": {
        "id": "GBR5IGl3r2SQ"
      },
      "execution_count": null,
      "outputs": []
    },
    {
      "cell_type": "code",
      "source": [
        "train.to_csv('test_translated banking data.csv')"
      ],
      "metadata": {
        "id": "QYj8i0mRr3Nh"
      },
      "execution_count": null,
      "outputs": []
    },
    {
      "cell_type": "markdown",
      "source": [
        "#Create a Vocab"
      ],
      "metadata": {
        "id": "SF_gw2udAQY3"
      }
    },
    {
      "cell_type": "code",
      "source": [
        "vocab = Counter()\n",
        "def data_to_vocab(df):\n",
        "  for verbatim in df['translated']:\n",
        "    tokens = verbatim.split()\n",
        "    table = str.maketrans(\"\",\"\",string.punctuation)\n",
        "    tokens = [w.translate(table) for w in tokens]\n",
        "    tokens = [word for word in tokens if word.isalpha()]\n",
        "    stop_words = set(stopwords.words('english'))\n",
        "    tokens = [w for w in tokens if not w in stop_words]\n",
        "    tokens = [word for word in tokens if len(word)>1]\n",
        "    tokens = [word for word in tokens if len(tokens) > 4] \n",
        "    #for EN, 1 or 4 gets similar results. 8 is better for ~ 1%.\n",
        "    vocab.update(tokens)\n",
        "\n",
        "data_to_vocab(train)\n",
        "\n",
        "print(len(vocab))\n",
        "vocab.most_common(10)"
      ],
      "metadata": {
        "id": "dbqj4fz4AhHB",
        "colab": {
          "base_uri": "https://localhost:8080/"
        },
        "outputId": "319de3cf-02d4-42d2-8991-7d77bbba6cb7"
      },
      "execution_count": 6,
      "outputs": [
        {
          "output_type": "stream",
          "name": "stdout",
          "text": [
            "12205\n"
          ]
        },
        {
          "output_type": "execute_result",
          "data": {
            "text/plain": [
              "[('bank', 3867),\n",
              " ('money', 3366),\n",
              " ('card', 3103),\n",
              " ('Im', 2734),\n",
              " ('account', 2696),\n",
              " ('cant', 2170),\n",
              " ('app', 2129),\n",
              " ('The', 2129),\n",
              " ('Thailand', 2024),\n",
              " ('going', 1861)]"
            ]
          },
          "metadata": {},
          "execution_count": 6
        }
      ]
    },
    {
      "cell_type": "code",
      "source": [
        "min_occurence = 2\n",
        "tokens = [k for k, c in vocab.items() if c >= min_occurence]"
      ],
      "metadata": {
        "id": "lgt5YpKwA4OV"
      },
      "execution_count": 7,
      "outputs": []
    },
    {
      "cell_type": "code",
      "source": [
        "def save_list(lines, filename):\n",
        "  data = '\\n'.join(lines)\n",
        "  file = open(filename, 'w')\n",
        "  file.write(data)\n",
        "  file.close()\n",
        "  \n",
        "save_list(tokens, 'vocab.txt')"
      ],
      "metadata": {
        "id": "6WRSPUDvBSTK"
      },
      "execution_count": 8,
      "outputs": []
    },
    {
      "cell_type": "markdown",
      "source": [
        "#Train Embedding Layer"
      ],
      "metadata": {
        "id": "1U9_3A4GB3fV"
      }
    },
    {
      "cell_type": "code",
      "source": [
        "train_docs = train['translated']\n",
        "test_docs = test['translated']"
      ],
      "metadata": {
        "id": "uHLExRvJDxcL"
      },
      "execution_count": 9,
      "outputs": []
    },
    {
      "cell_type": "code",
      "source": [
        "def load_doc(filename):\n",
        "  file = open(filename, 'r')\n",
        "  text = file.read()\n",
        "  file.close()\n",
        "  return text\n",
        "\n",
        "vocab_filename = 'vocab.txt'\n",
        "vocab = load_doc(vocab_filename)\n",
        "vocab = vocab.split()\n",
        "vocab = set(vocab)\n",
        "print(vocab)"
      ],
      "metadata": {
        "id": "xH_CcW6OB6BF",
        "colab": {
          "base_uri": "https://localhost:8080/"
        },
        "outputId": "2d5aae07-5b77-465c-9666-5015d0d67975"
      },
      "execution_count": 10,
      "outputs": [
        {
          "output_type": "stream",
          "name": "stdout",
          "text": [
            "{'Fighting', 'wood', 'advance', 'Investing', 'prize', 'Money', 'header', 'conclude', 'Everyone', 'enterprises', 'Shot', 'repair', 'familiar', 'cashback', 'car', 'bird', 'KBankLive', 'sorted', 'System', 'store', 'Infinite', 'happen', 'receptionist', 'Thoknbspnbsp', 'Master', 'vision', 'purchasesales', 'Tevin', 'gtgt', 'worse', 'Ow', 'highend', 'towed', 'invalid', 'invoices', 'refilled', 'bbbexitt', 'control', 'cutter', 'Taiwans', 'noted', 'divorced', 'Bad', 'Canal', 'noonzaramjamksp', 'SCBplanet', 'drops', 'mooring', 'mediated', 'travel', 'bitch', 'Promo', 'initially', 'von', 'smoothies', 'percentage', 'suspension', 'pledging', 'evidence', 'httpswwwcimbthaicomthpersonalproductscardsdebitchipcardsDebitvisaDigitalSaving', 'xx', 'loss', 'Acumkom', 'Retired', 'coupon', 'strip', 'Bankurl', 'tfx', 'cells', 'Abalone', 'redeeming', 'SEC', 'Then', 'certificate', 'cardutrip', 'Turns', 'EMERGENCY', 'margin', 'locked', 'way', 'alone', 'bending', 'SSF', 'Ton', 'everyday', 'abalones', 'identities', 'offer', 'luxe', 'blooms', 'released', 'student', 'SR', 'pin', 'Ost', 'Years', 'connects', 'taxed', 'fuss', 'Ouch', 'estatement', 'Ok', 'properly', 'daddy', 'computer', 'pity', 'age', 'Load', 'Pathom', 'nowI', 'paint', 'match', 'Rate', 'yellow', 'Step', 'men', 'Mother', 'shocking', 'town', 'cc', 'longest', 'spay', 'Nations', 'Klocenter', 'onwards', 'preorder', 'jail', 'language', 'Mai', 'citybank', 'copies', 'inquiring', 'team', 'ending', 'cloud', 'Grand', 'Dunno', 'halfproject', 'cineplex', 'feasible', 'Yong', 'aunts', 'Thanks', 'angry', 'android', 'Om', 'Sen', 'afford', 'neighborhood', 'might', 'Live', 'band', 'Max', 'salary', 'messiness', 'rising', 'unapproved', 'adjustable', 'Extract', 'within', 'Hows', 'Reference', 'rent', 'support', 'wealthy', 'Theyre', 'approves', 'gsb', 'subscribe', 'WOW', 'manually', 'Chief', 'combined', 'prodigy', 'Longer', 'anyone', 'Skull', 'httpstcomRxNaBngxn', 'increase', 'notifications', 'Girls', 'concerned', 'Difficult', 'nights', 'closest', 'Thaipae', 'renew', 'cutout', 'Yeah', 'track', 'partner', 'periods', 'ORDER', 'Yen', 'investing', 'Commissioner', 'ever', 'NuneNoonieyy', 'useless', 'Commerce', 'Also', 'lasts', 'Yuckyy', 'frustrated', 'opened', 'sleep', 'timeapps', 'arrow', 'gets', 'notsend', 'Mom', 'Wont', 'advertised', 'constant', 'scbam', 'death', 'responses', 'refer', 'theyre', 'delay', 'handicapped', 'also', 'KSCBCim', 'New', 'Kbiz', 'institutions', 'ice', 'Express', 'mani', 'Telephone', 'itso', 'refueling', 'login', 'loading', 'sum', 'Im', 'spent', 'next', 'ordering', 'STM', 'Subsidiaries', 'credits', 'speaking', 'Prapa', 'slightly', 'Won', 'worry', 'outofthebox', 'daytoday', 'doubted', 'fucker', 'approval', 'tagging', 'pink', 'Watching', 'mom', 'semester', 'decisions', 'printing', 'determine', 'Laos', 'shed', 'bases', 'stuffed', 'unregistered', 'bond', 'exist', 'Before', 'platforms', 'courage', 'Corcenter', 'tmb', 'expected', 'Point', 'Phuket', 'checker', 'cashbacks', 'known', 'cares', 'Today', 'Hall', 'Lisa', 'infected', 'bay', 'Renovated', 'BE', 'detained', 'years', 'galaxy', 'Channel', 'caller', 'pissed', 'Rejected', 'IM', 'Bring', 'allocated', 'ree', 'supportive', 'Most', 'zwingzet', 'record', 'cupboards', 'prior', 'quickest', 'handed', 'special', 'patents', 'told', 'fashion', 'records', 'Week', 'mention', 'ttb', 'responsible', 'OneSiam', 'Foodpanda', 'chromosomes', 'vicviickiexz', 'brutal', 'ts', 'Remote', 'highvalue', 'accounts', 'ahjumma', 'taken', 'fits', 'irritating', 'peoplenbspnbsp', 'peoples', 'bosss', 'Corona', 'procedures', 'taxes', 'Tess', 'acquaintance', 'Say', 'itI', 'seller', 'continued', 'renewed', 'Airport', 'Tisco', 'Global', 'comment', 'copy', 'Spoil', 'username', 'explain', 'Since', 'Macrow', 'SCBnbspnbsp', 'Bahtnbsp', 'IDd', 'Transfering', 'misunderstanding', 'experience', 'recheck', 'scanned', 'typically', 'untruthful', 'outstanding', 'gave', 'net', 'life', 'fines', 'Condonanda', 'EVERYDAY', 'small', 'DC', 'Expires', 'Sch', 'stabbed', 'Faster', 'netflix', 'mi', 'scratched', 'PBV', 'Cut', 'roast', 'slots', 'inandout', 'Payne', 'wanting', 'instant', 'ave', 'police', 'confidence', 'sends', 'high', 'Dreamsaving', 'Successful', 'goohaha', 'valid', 'reads', 'German', 'tripled', 'benefit', 'Senlad', 'coex', 'stood', 'ignoring', 'reception', 'usually', 'canceled', 'accident', 'preservation', 'sure', 'slobbering', 'apt', 'airline', 'Scbs', 'inquiries', 'insecure', 'Topup', 'Any', 'oonbs', 'lines', 'digits', 'encountered', 'kabang', 'cashiers', 'deceived', 'pending', 'buying', 'intrusion', 'FWD', 'stored', 'Busy', 'closing', 'Ng', 'American', 'waiver', 'convenience', 'Dont', 'pictures', 'voila', 'Wang', 'debts', 'collapsed', 'middle', 'frame', 'Ktcs', 'take', 'mama', 'APP', 'replyKrungthaiThaiKrungthaiCarre', 'spend', 'fact', 'presseduse', 'Hopefully', 'savior', 'ofnbsp', 'refuses', 'appointment', 'try', 'indifferent', 'character', 'owes', 'sre', 'movement', 'Mint', 'minichanchii', 'Basically', 'hung', 'grand', 'elderly', 'fathers', 'renovations', 'Gmarket', 'redo', 'cumbersome', 'filetypes', 'mind', 'disappeared', 'flowers', 'adobe', 'discredited', 'addicted', 'secondary', 'CBACQBUALUANG', 'diamonds', 'hair', 'clarification', 'Klem', 'KBang', 'khunpinto', 'TIP', 'Hello', 'contacting', 'foundation', 'operation', 'according', 'available', 'claimed', 'Ion', 'instructions', 'bhWhen', 'PORT', 'Whats', 'rested', 'hearing', 'edition', 'Stm', 'pawning', 'bus', 'philanthropy', 'daily', 'banks', 'cyber', 'forward', 'pisapim', 'evening', 'MasterCard', 'sparey', 'rough', 'Big', 'Booked', 'Ttb', 'father', 'transport', 'membership', 'finallyEasy', 'platform', 'mysterious', 'episodes', 'Seoi', 'Jan', 'tootheturtle', 'DTAC', 'mainly', 'workkma', 'weve', 'axa', 'Only', 'sterilization', 'designs', 'attm', 'registering', 'Ports', 'write', 'restarting', 'oclock', 'thsnbspnbsp', 'Panisha', 'waits', 'titanium', 'AirAsia', 'refuse', 'first', 'Covit', 'kicking', 'TheChlxxx', 'dumber', 'Just', 'bail', 'Aeon', 'speech', 'cars', 'certificates', 'Vietnam', 'July', 'else', 'Savings', 'Practice', 'annoyed', 'closer', 'Colzts', 'God', 'Street', 'removing', 'piles', 'cardnbspnbsp', 'around', 'basic', 'hosts', 'royal', 'boarding', 'Less', 'skbank', 'understands', 'Bung', 'future', 'Si', 'JourneyBut', 'preferred', 'httpswww', 'rejecting', 'trust', 'king', 'NooLekMeekPooH', 'Phraya', 'file', 'Excess', 'Scan', 'want', 'blacklisted', 'punched', 'documentary', 'settings', 'announce', 'Beach', 'officers', 'todays', 'Left', 'Wipada', 'soldiers', 'Patz', 'Same', 'Japanese', 'bats', 'suddenly', 'FREECIMB', 'BBLsubstantial', 'hoping', 'Wed', 'Many', 'Administration', 'explanation', 'Eiebe', 'waterfilled', 'overall', 'logged', 'green', 'Signed', 'stream', 'CALL', 'mines', 'exceeded', 'looking', 'others', 'followed', 'SRI', 'appears', 'favor', 'yanks', 'Siri', 'servant', 'straight', 'murder', 'renovation', 'threeyear', 'Been', 'considered', 'tricks', 'bankIts', 'expressway', 'user', 'tries', 'frustrating', 'technologyregistration', 'hold', 'ghosts', 'wedge', 'safari', 'icon', 'Insurance', 'pass', 'irregularity', 'cannot', 'calls', 'Yes', 'everyone', 'CPALL', 'Experience', 'NUMber', 'Version', 'Apapa', 'mission', 'She', 'Privilege', 'Thaineck', 'celebrate', 'tens', 'truth', 'selling', 'KYDog', 'covit', 'generated', 'sleeping', 'secret', 'erase', 'TG', 'Thost', 'memorized', 'factor', 'Aeons', 'questions', 'enrolling', 'paying', 'scbsonlinecom', 'vote', 'lowkey', 'Thainext', 'puzzled', 'overtake', 'dedication', 'temporary', 'sincerity', 'ballet', 'apologize', 'happiness', 'autograph', 'took', 'Whether', 'DEBIT', 'Remove', 'brocli', 'need', 'Beyond', 'sees', 'repeating', 'bugged', 'bettervery', 'precious', 'How', 'Sign', 'papers', 'picture', 'providing', 'reloads', 'yaoutrip', 'summed', 'noe', 'emergencies', 'Kaakura', 'An', 'stalkers', 'Lets', 'division', 'specialist', 'accordingly', 'ruined', 'couple', 'hurry', 'presentAmaknae', 'lotthog', 'Feels', 'User', 'cuts', 'chased', 'Morgaged', 'com', 'departmental', 'transferor', 'statement', 'together', 'requesting', 'EASY', 'uid', 'automatically', 'doctors', 'NPL', 'fool', 'Taiwan', 'risk', 'accidentally', 'week', 'restaurant', 'attendant', 'collect', 'visits', 'ordinary', 'escaping', 'Customers', 'Seil', 'At', 'ridges', 'Thaks', 'informs', 'machine', 'figured', 'countryside', 'Definitely', 'Departments', 'entering', 'charging', 'succumb', 'disappointing', 'Dec', 'advanced', 'fix', 'unloaded', 'Delivery', 'prepaid', 'arrived', 'Goo', 'twoyear', 'Time', 'Tail', 'issued', 'year', 'Post', 'trade', 'Rewards', 'UChoose', 'expands', 'tech', 'refilling', 'carefully', 'Messenger', 'Pearl', 'Closed', 'nervous', 'Elephant', 'Srima', 'Meat', 'postponed', 'Chantburi', 'coffee', 'airpay', 'Whoever', 'inaccessible', 'returning', 'Rijing', 'district', 'troublesome', 'Care', 'whos', 'room', 'learning', 'Neg', 'emptyhanded', 'Sass', 'confiscation', 'popping', 'Pros', 'splanet', 'calculation', 'door', 'probably', 'Write', 'trunks', 'Central', 'citi', 'gtlt', 'interface', 'Sriyutthaya', 'crosscountry', 'balancing', 'sri', 'values', 'posted', 'transfered', 'paid', 'cheque', 'threw', 'psychiatrist', 'Zhong', 'GSBSociety', 'identity', 'Mrs', 'Orange', 'carry', 'Banscb', 'Identity', 'Decree', 'mine', 'super', 'happening', 'thieves', 'AIA', 'Premier', 'collapse', 'Arts', 'fifteen', 'CENTER', 'remains', 'dying', 'Lose', 'cheated', 'edit', 'toampnbspampnbspUpdate', 'pt', 'facial', 'electronic', 'Prachinburi', 'phoneID', 'contact', 'wrong', 'accessed', 'fingers', 'Recommend', 'lotteriesBut', 'AF', 'US', 'essay', 'PM', 'outbreak', 'benefits', 'deletes', 'replacements', 'suspend', 'stupid', 'asap', 'circulation', 'secure', 'refinancing', 'kcl', 'Rush', 'seconds', 'province', 'exchanged', 'Hes', 'SCBM', 'Coin', 'hardtoconnect', 'Debit', 'bounced', 'coownership', 'Ferris', 'Nikecom', 'anyones', 'limits', 'decade', 'AOT', 'cut', 'counsel', 'estimated', 'solo', 'foster', 'certified', 'Manage', 'Due', 'tesco', 'con', 'device', 'banksnbsp', 'den', 'safer', 'presses', 'fees', 'blah', 'Jack', 'yesterday', 'sbb', 'overpayed', 'Klus', 'Assistance', 'thrown', 'Alerts', 'family', 'flow', 'ones', 'Sending', 'Bay', 'realm', 'hello', 'Bua', 'nano', 'Chan', 'blow', 'upnbspnbsp', 'satisfactory', 'Gru', 'numerous', 'salvage', 'guards', 'Alert', 'Cute', 'mflow', 'selected', 'crashes', 'battalion', 'slower', 'Mind', 'unable', 'calculated', 'web', 'shares', 'seeing', 'Users', 'die', 'bluenbspnbsp', 'Hokkaido', 'Tru', 'transferred', 'peak', 'ltltlt', 'tells', 'tightened', 'great', 'convert', 'KFC', 'Youre', 'ghost', 'Bangkoks', 'abroad', 'sadboyoxygen', 'Nush', 'minutes', 'cashfree', 'less', 'including', 'shutting', 'approve', 'representative', 'brother', 'chasing', 'guide', 'hot', 'younbsp', 'declined', 'Dr', 'blacklist', 'fish', 'nice', 'AXA', 'across', 'amounts', 'Khmers', 'ontop', 'beyond', 'choosing', 'shrimp', 'doesnt', 'ipo', 'gas', 'message', 'recommended', 'national', 'saturday', 'frequent', 'bite', 'study', 'highinterest', 'withdrew', 'Calculate', 'To', 'copying', 'anxious', 'Peak', 'af', 'receiving', 'requested', 'ref', 'authenticates', 'autostatement', 'BK', 'upsetting', 'citys', 'notification', 'Android', 'Tc', 'overwhelming', 'period', 'Introducing', 'concern', 'Takdam', 'box', 'moving', 'signal', 'wind', 'immediate', 'CITIES', 'stalking', 'empty', 'fee', 'clearer', 'Mission', 'tap', 'millionmonth', 'delete', 'capability', 'Dropshipping', 'filling', 'heard', 'leverage', 'yet', 'report', 'obsolete', 'color', 'insurances', 'Prime', 'dtac', 'flights', 'deposits', 'blank', 'maximum', 'throughout', 'applicated', 'Normally', 'Filling', 'cancels', 'BC', 'businessmans', 'robots', 'Almost', 'Fleet', 'Scbeasyapp', 'aeon', 'ampquot', 'press', 'anymore', 'mask', 'signed', 'Up', 'correlate', 'ZIP', 'Email', 'stressful', 'speed', 'Fundclick', 'eruptions', 'Solves', 'guarantee', 'html', 'coach', 'kcyber', 'girlfriends', 'With', 'nbspnbspnbsp', 'Sunday', 'Mould', 'come', 'Thos', 'raised', 'Pakistan', 'manual', 'Affirmation', 'bribes', 'Box', 'unlimited', 'Deuty', 'Initially', 'situations', 'Found', 'Start', 'iPhones', 'swear', 'Cupp', 'cancelled', 'valued', 'Must', 'President', 'sixmonth', 'kyc', 'korean', 'bmta', 'SCBS', 'purchased', 'Bridge', 'splitting', 'sat', 'cold', 'Transferred', 'ishallu', 'humans', 'metaphor', 'Take', 'Over', 'entry', 'mostly', 'twoday', 'scam', 'moneykplus', 'Allow', 'example', 'subbanks', 'publicity', 'points', 'failing', 'Society', 'involved', 'theyve', 'PayPal', 'reinstall', 'invested', 'grey', 'products', 'Unable', 'condominium', 'best', 'Mostly', 'registered', 'earned', 'past', 'Tak', 'Swish', 'lifestyles', 'women', 'asked', 'Kowid', 'theyd', 'thos', 'PayPay', 'millionyear', 'urgent', 'Admins', 'popcorn', 'port', 'Long', 'slipon', 'practice', 'headache', 'Weply', 'unresolved', 'Got', 'roughly', 'Outpost', 'pension', 'permanent', 'bada', 'offbook', 'logging', 'painful', 'PS', 'common', 'reasons', 'PAYROLL', 'transferees', 'felt', 'completely', 'cleared', 'walk', 'dont', 'sink', 'karma', 'EU', 'lend', 'invitation', 'Resolved', 'plantscb', 'muzzle', 'reinstitutes', 'dreamed', 'guy', 'thousand', 'retie', 'chances', 'modern', 'provides', 'clears', 'bualuang', 'httpstcoCBDHqKhdp', 'bed', 'existing', 'Tuctic', 'Are', 'crowded', 'debtor', 'pantsnbsp', 'expensive', 'Wallace', 'autonomous', 'technique', 'reapplying', 'confirmation', 'Repair', 'refill', 'neededIve', 'unless', 'Guilty', 'recovering', 'KKP', 'Contacted', 'hostess', 'survived', 'Questions', 'cutting', 'mess', 'Haha', 'tax', 'original', 'search', 'Report', 'content', 'patience', 'mermorandum', 'ratingThe', 'Valet', 'another', 'unscrewed', 'answers', 'tucall', 'Baht', 'loop', 'rushed', 'allKTC', 'like', 'freemir', 'mlive', 'thank', 'PhD', 'Nex', 'mortgages', 'services', 'Chanoknan', 'ThaiUnited', 'Drive', 'rules', 'double', 'Drawstring', 'Mail', 'Ems', 'Noloyi', 'confirm', 'invest', 'IDs', 'nationality', 'reloaded', 'MobileK', 'townhouse', 'checkin', 'clinic', 'nearly', 'unlock', 'email', 'SA', 'They', 'refills', 'Black', 'recording', 'wow', 'debited', 'Crisis', 'Dolfin', 'situation', 'paycheck', 'authorized', 'warm', 'Where', 'Pick', 'raising', 'feel', 'Poong', 'liquidity', 'GMarket', 'PASSBOOK', 'zerobahtscb', 'debit', 'scbx', 'improves', 'ITMX', 'Samutprakarn', 'seen', 'applicant', 'join', 'patient', 'Class', 'marriage', 'Zeng', 'TwittercomxxBXtFRFW', 'krungthaiNext', 'walks', 'Pym', 'didnt', 'numbers', 'Connext', 'consort', 'TrueWallet', 'Expire', 'program', 'scores', 'cupboard', 'spotify', 'CASH', 'realize', 'allows', 'pressing', 'set', 'Run', 'adline', 'added', 'submits', 'exceeds', 'country', 'TeddyKung', 'redund', 'Clearing', 'passesIts', 'helped', 'besides', 'market', 'Joe', 'gps', 'Preferred', 'primary', 'Europe', 'hour', 'MyMo', 'kicked', 'alert', 'satisfaction', 'brew', 'Failure', 'item', 'based', 'appbased', 'Ktc', 'carries', 'Addin', 'BANK', 'white', 'Imperial', 'Yats', 'appsEasku', 'standing', 'thai', 'Generalis', 'regional', 'airasia', 'Jcb', 'Bangkok', 'Code', 'Suwankhun', 'key', 'bummer', 'switch', 'matchI', 'VCI', 'sbbtmf', 'farm', 'Toyota', 'named', 'owner', 'motherfucker', 'lazada', 'fresh', 'reschedule', 'simplest', 'hero', 'funded', 'keeping', 'clarified', 'KCyber', 'Nt', 'downloaded', 'second', 'pick', 'Article', 'view', 'acceptance', 'taught', 'Signa', 'Rueantan', 'extended', 'insurance', 'mistake', 'wonder', 'Yume', 'success', 'wasteful', 'ununuchisa', 'Wait', 'Tanachart', 'Done', 'Other', 'httpstcoVDJArfSmph', 'Requesting', 'lazy', 'doors', 'easily', 'commission', 'State', 'Pronet', 'Saving', 'Cap', 'Good', 'PVD', 'looks', 'Stupid', 'sree', 'Buy', 'number', 'crossing', 'fund', 'split', 'adPaid', 'nisit', 'picky', 'plugs', 'Jobs', 'transferer', 'nbspnsp', 'located', 'rmf', 'toiletnbspnbsp', 'keeps', 'deduction', 'dropped', 'cheered', 'sucks', 'execute', 'Finally', 'weird', 'RatchaSun', 'kinds', 'illegal', 'Kaen', 'Damn', 'LH', 'gone', 'tones', 'combines', 'Kong', 'paved', 'claiming', 'Marhahaha', 'Line', 'requests', 'aunt', 'fans', 'Incoming', 'tree', 'behaved', 'listed', 'coded', 'agriculture', 'disputegroupktb', 'Need', 'Refinancing', 'buyers', 'costs', 'overseas', 'cancel', 'prices', 'basis', 'applied', 'nationals', 'changes', 'complaint', 'Somphon', 'parts', 'confirms', 'Lastly', 'Investment', 'complain', 'Syria', 'worried', 'Destinations', 'Panish', 'Statement', 'ease', 'baht', 'occurred', 'ignore', 'solution', 'management', 'Otherwise', 'Klangsenna', 'Flow', 'obligations', 'Yuan', 'presssumm', 'weight', 'Wongsiwat', 'Expired', 'Kbanks', 'principal', 'circulate', 'roaming', 'TC', 'assurance', 'compromise', 'Does', 'SMSEmail', 'Ministers', 'Some', 'CPF', 'atomorbot', 'topic', 'kb', 'complicated', 'awaiting', 'Exclusive', 'miles', 'cheater', 'edc', 'except', 'jaymart', 'shoes', 'realme', 'aiming', 'consideration', 'EOMSIN', 'Prestige', 'OPDs', 'Visa', 'Secondly', 'satisfied', 'KUSXNDQAA', 'Zenem', 'Advisor', 'fully', 'Thonshat', 'share', 'Child', 'inmoney', 'speaker', 'areas', 'SCBampnbspnbsp', 'Personally', 'database', 'mechanic', 'updating', 'purchase', 'This', 'Tour', 'Connect', 'BUG', 'accountOurs', 'reductions', 'Life', 'useful', 'robinhood', 'Employees', 'DService', 'holding', 'Lots', 'brogues', 'Town', 'It', 'shitty', 'screens', 'banksubstantial', 'Angkid', 'Clear', 'mistakes', 'trips', 'float', 'complained', 'Peys', 'protection', 'tmbs', 'Convert', 'title', 'planning', 'Deedy', 'free', 'streaming', 'Byebye', 'idiot', 'Edog', 'comfort', 'display', 'mean', 'regularly', 'BEM', 'loaded', 'calling', 'coverage', 'trick', 'apply', 'Ram', 'nine', 'texts', 'Nawang', 'Shares', 'Panda', 'headquarters', 'Amannys', 'ATMDebit', 'bothering', 'reducing', 'rebtel', 'Mar', 'fowwang', 'connext', 'Doraemon', 'youll', 'lote', 'formula', 'yuan', 'rhinoz', 'built', 'suggestion', 'met', 'residents', 'arrange', 'credited', 'signup', 'rented', 'theme', 'secondsnbspnbsp', 'shift', 'Clearly', 'force', 'offers', 'luggage', 'times', 'aliay', 'Cameras', 'drop', 'Atm', 'talking', 'sick', 'Union', 'stadium', 'linking', 'wish', 'Lush', 'recommending', 'youve', 'run', 'bought', 'For', 'seriously', 'died', 'entitled', 'originator', 'Third', 'Harbor', 'Mymo', 'identify', 'slow', 'matches', 'ptts', 'bugger', 'Whoevers', 'choice', 'agree', 'casual', 'mc', 'Wallet', 'annoyances', 'wits', 'interested', 'problemsother', 'states', 'wirojlak', 'buro', 'robber', 'improving', 'MYMO', 'router', 'senior', 'Ubonrat', 'Unfortunately', 'Cheng', 'sucking', 'worked', 'unspecified', 'sbbs', 'fast', 'mainstream', 'Sris', 'overcharged', 'tight', 'offthesite', 'organized', 'performance', 'boxes', 'TonsTweetings', 'Germany', 'Wall', 'rich', 'holiday', 'concession', 'theplanetIve', 'budget', 'total', 'trip', 'Want', 'falls', 'Top', 'direct', 'completes', 'Rungruang', 'expired', 'shoot', 'Court', 'sister', 'eye', 'bookbanks', 'MOU', 'suggests', 'outsourcing', 'drive', 'fax', 'boyfriend', 'uptight', 'step', 'fuck', 'Shanghai', 'answer', 'Dismiss', 'Oruma', 'When', 'inefficient', 'SCBRMGHC', 'flatinum', 'change', 'signature', 'Songkran', 'day', 'various', 'debitcredit', 'wfh', 'attractive', 'notIts', 'socket', 'comfortableIm', 'rotated', 'Thnshat', 'smart', 'Request', 'waive', 'think', 'cousins', 'againAll', 'believed', 'let', 'appointments', 'Student', 'always', 'Equy', 'recipient', 'DOC', 'say', 'pulled', 'estimates', 'PIN', 'Chumsiri', 'trouble', 'trend', 'Dx', 'constraint', 'Khon', 'moyaya', 'results', 'disabled', 'sleepy', 'Cant', 'sounds', 'FF', 'nvr', 'loophole', 'Nurse', 'Reverend', 'Page', 'spread', 'era', 'JCB', 'effect', 'locals', 'payrolls', 'appear', 'viu', 'EasyIve', 'Volet', 'SPEEDY', 'today', 'Lucky', 'towards', 'Sreedy', 'thousands', 'ceiling', 'Tanshats', 'Takma', 'Plangpleng', 'reserved', 'Goat', 'Village', 'reserve', 'scbscbscbscbscbscbscbscbscbsc', 'little', 'days', 'customers', 'snacks', 'scbplanet', 'possible', 'raisin', 'officials', 'Hour', 'graduate', 'member', 'Commission', 'Another', 'flying', 'INTERNET', 'level', 'mass', 'Youve', 'extra', 'messy', 'Instead', 'trustworthy', 'rightquot', 'Safe', 'Finance', 'itThe', 'curves', 'outside', 'comfortable', 'Thoroughly', 'similar', 'Kowig', 'option', 'That', 'costeffective', 'scbpic', 'gotten', 'nonincome', 'Treasury', 'cancelling', 'massacre', 'Umay', 'difference', 'hull', 'Overlight', 'chose', 'somewhere', 'went', 'ThaiNet', 'bang', 'shynbsp', 'Osaka', 'countries', 'shuts', 'measures', 'Bum', 'thugs', 'returned', 'hesitant', 'Bathong', 'thick', 'housewarming', 'increased', 'CallCenter', 'scans', 'touch', 'avoided', 'seat', 'Tellesel', 'Repel', 'act', 'spare', 'reset', 'text', 'aware', 'DTag', 'overnbsp', 'Thnakac', 'mm', 'deliver', 'checklist', 'approvals', 'releases', 'Keplus', 'richer', 'kbank', 'wife', 'Mao', 'rate', 'break', 'passengers', 'meantime', 'Symnet', 'eligible', 'dial', 'Exchanging', 'manners', 'tossing', 'comparenbspnbspLH', 'KTEF', 'stand', 'Department', 'spin', 'plan', 'cashier', 'mornings', 'cheap', 'modernity', 'depositing', 'sexy', 'settlement', 'Passed', 'recently', 'plus', 'Your', 'calm', 'follows', 'improvement', 'USD', 'Krungthai', 'Once', 'Amezon', 'insists', 'Ma', 'unemployed', 'brave', 'What', 'freenasus', 'required', 'callnbspnbsp', 'Really', 'Use', 'forgot', 'lounge', 'locks', 'roads', 'Leave', 'bit', 'problemOtan', 'rotting', 'Reset', 'fly', 'nbsp', 'alerted', 'AMEX', 'embassy', 'TK', 'appliedIm', 'plans', 'bother', 'Reply', 'Arumati', 'Nonthaburi', 'contract', 'Overall', 'needing', 'ThaiNex', 'Manny', 'password', 'passes', 'Satisfaction', 'grab', 'package', 'Id', 'Clinic', 'standard', 'Mina', 'modernize', 'impressed', 'overwhelmed', 'logins', 'atmquest', 'httpstcoIHvWenBHUB', 'Share', 'Naparat', 'slips', 'wait', 'Website', 'handle', 'smartphone', 'frequently', 'wake', 'Backup', 'bank', 'improved', 'plumbing', 'office', 'biggest', 'summation', 'Chat', 'tried', 'apps', 'kesavings', 'Rum', 'cryptograph', 'discounts', 'Locked', 'CreditnbspnbspSin', 'flight', 'Working', 'citibank', 'commercials', 'Isas', 'stockholder', 'go', 'fault', 'warning', 'wouldnt', 'Metropolitan', 'CARD', 'Booking', 'Foreign', 'Rela', 'esaving', 'per', 'timetable', 'hungry', 'classic', 'sent', 'Ladys', 'Sms', 'staring', 'marketers', 'Repository', 'EDC', 'hate', 'curious', 'promptcardMasterCard', 'erupted', 'Thailands', 'remembers', 'hire', 'schools', 'unsuccessful', 'Sluggage', 'Tel', 'works', 'TOP', 'Payment', 'cardsbillsmonths', 'payable', 'bugo', 'receive', 'pile', 'DM', 'addicts', 'shows', 'Substitute', 'near', 'barf', 'Chats', 'KEPT', 'planet', 'hi', 'fourth', 'exception', 'confuse', 'necessary', 'offering', 'pays', 'owners', 'adjust', 'bankI', 'tricked', 'approveable', 'location', 'Keptby', 'kind', 'certain', 'Cardless', 'decline', 'Bangna', 'platinum', 'threemonth', 'creditors', 'inconvenient', 'frankly', 'dog', 'Cause', 'Royal', 'online', 'Lek', 'shops', 'Ava', 'awesome', 'detect', 'chosen', 'usedampnbspampnbsp', 'believe', 'goal', 'methods', 'Asked', 'exchanging', 'Cups', 'Grusrik', 'starters', 'fucked', 'disconnect', 'lonely', 'present', 'premier', 'Wei', 'lifestyle', 'girl', 'reservations', 'sits', 'especially', 'exactly', 'unreasonable', 'Its', 'None', 'nothing', 'Set', 'charged', 'Both', 'receiver', 'visa', 'hoursI', 'many', 'withdraw', 'whole', 'kbanks', 'freeze', 'Ep', 'payphone', 'inconvenience', 'sucksx', 'cross', 'Generali', 'linked', 'EUR', 'corrected', 'seem', 'described', 'weply', 'Emquatier', 'post', 'dates', 'incremental', 'callin', 'scary', 'compirmation', 'Institutional', 'Because', 'enough', 'carranty', 'izei', 'Internet', 'would', 'Korean', 'loaned', 'Scbplanet', 'book', 'Asia', 'weeks', 'differently', 'reader', 'term', 'telling', 'Four', 'picked', 'party', 'put', 'differences', 'soon', 'joke', 'Nan', 'logic', 'Whos', 'CoffeeMateZTwinkleproud', 'Bang', 'Ayun', 'aftersales', 'Whens', 'delighted', 'tweet', 'mortgaged', 'EP', 'Kcyber', 'treatment', 'time', 'Improved', 'Simple', 'Seng', 'consultation', 'seal', 'date', 'make', 'krypto', 'purpose', 'Hell', 'blunt', 'Margin', 'admirable', 'prepare', 'stock', 'motorbike', 'mortgage', 'Tha', 'bestIve', 'part', 'word', 'starts', 'GHB', 'Bill', 'public', 'Maybe', 'authorize', 'whereI', 'loosened', 'criminals', 'CDM', 'roundI', 'maids', 'salvaged', 'Oct', 'bringing', 'facebook', 'Do', 'booker', 'luckily', 'Confirmation', 'Ordered', 'places', 'Diamond', 'Records', 'network', 'huh', 'wallets', 'remember', 'TMRW', 'stress', 'Sirilak', 'version', 'auntie', 'brought', 'sms', 'click', 'itd', 'every', 'particular', 'lighten', 'Authorities', 'usdampnbspnbspnbsp', 'food', 'boyfriends', 'Netflix', 'Kenzles', 'desperate', 'bunch', 'authenticating', 'ended', 'currency', 'purple', 'Preliminary', 'Retention', 'visiting', 'wear', 'otherwise', 'Livenbspnbsp', 'QR', 'passed', 'eppanng', 'Between', 'batteries', 'Thax', 'Transfer', 'omesin', 'drink', 'fc', 'till', 'refund', 'quit', 'updates', 'Asking', 'slide', 'provide', 'termite', 'yen', 'Mines', 'stacks', 'downtown', 'halfway', 'qa', 'degree', 'Kjourney', 'po', 'working', 'Eaaw', 'Omsins', 'solved', 'Why', 'fixing', 'Howd', 'domestic', 'Declaration', 'hedge', 'discount', 'Srihomepro', 'case', 'bitcoin', 'Easypass', 'trees', 'considering', 'Walk', 'minimum', 'World', 'comments', 'manager', 'Walletpost', 'Choppy', 'ATMCurrent', 'Google', 'dun', 'Have', 'third', 'lighter', 'allocation', 'houses', 'Mount', 'Lone', 'sometime', 'Thongchat', 'mental', 'floor', 'confirmed', 'ndid', 'saving', 'Janyu', 'Reloaded', 'chairs', 'cash', 'agents', 'dated', 'debitnbspnbsp', 'SIN', 'SRIs', 'clients', 'held', 'KW', 'misinformation', 'offices', 'bro', 'Man', 'coworkers', 'accused', 'camps', 'although', 'Slip', 'genus', 'upset', 'runs', 'links', 'received', 'mic', 'wheres', 'extras', 'notified', 'negotiating', 'recurrence', 'stepped', 'baby', 'outdated', 'divided', 'Fortunately', 'interest', 'eg', 'WiFi', 'refuel', 'floating', 'rookie', 'broken', 'expire', 'hardest', 'last', 'snopnat', 'uobs', 'paste', 'ewallet', 'entrepreneur', 'enter', 'borrowing', 'airport', 'SIM', 'unreachable', 'hierarchy', 'Approximately', 'busmen', 'Windy', 'mybspnbsp', 'PRICE', 'oathth', 'restructuring', 'Lppbh', 'Choose', 'lane', 'Nowadays', 'Sympathetic', 'dealer', 'Zealand', 'red', 'bots', 'pictwittercomRqYUEIQrZJ', 'DEO', 'whove', 'Powerbuy', 'balances', 'fit', 'swirling', 'KrungthaiCare', 'converted', 'Shinpan', 'incident', 'Superich', 'golden', 'fills', 'ARK', 'engrave', 'coins', 'secured', 'apple', 'thanks', 'previously', 'normally', 'Tipyas', 'screwed', 'bankthe', 'Even', 'illness', 'us', 'worst', 'quality', 'dessert', 'war', 'habits', 'Bitkub', 'ltgt', 'experienced', 'hells', 'wont', 'KTC', 'disconnected', 'comaFjApKPmtg', 'detailed', 'Covid', 'AIRBNB', 'function', 'begging', 'Open', 'Fen', 'KSME', 'assets', 'whose', 'notes', 'meeting', 'Aww', 'amendment', 'papal', 'Chase', 'fooling', 'mommy', 'confusedly', 'Comico', 'Plat', 'Wisdoms', 'lifethreatening', 'politics', 'managerampnbspampnbsp', 'friday', 'clarify', 'debtors', 'atmdebit', 'deliveries', 'guarantees', 'Reading', 'star', 'Sree', 'Thailandnbspnbsp', 'nations', 'KContact', 'gives', 'aba', 'winning', 'Mei', 'loosen', 'curve', 'badit', 'plastic', 'schedule', 'iphone', 'kmekluvyw', 'mothers', 'backups', 'bedinthebrain', 'skip', 'Try', 'bilwmecom', 'aia', 'full', 'percent', 'disappointed', 'ThaiPay', 'sold', 'Crawl', 'Sit', 'pttgc', 'attached', 'Real', 'whether', 'unpaid', 'buttons', 'Date', 'scb', 'blaming', 'thinking', 'bend', 'Thoks', 'true', 'Ivra', 'chip', 'Bangkhkbankcom', 'may', 'Kaya', 'lucky', 'primer', 'ang', 'Port', 'hear', 'Deductor', 'comparable', 'tonight', 'cable', 'society', 'debt', 'stopped', 'pulling', 'BOI', 'person', 'candidate', 'brings', 'endings', 'redundant', 'Sneaked', 'successfully', 'reminder', 'Header', 'Please', 'extends', 'visas', 'yell', 'kexpress', 'noticed', 'bahtyear', 'ah', 'bedridden', 'delayed', 'ac', 'transferd', 'privilege', 'SWIFT', 'removed', 'rebate', 'distributed', 'Tanchanok', 'annoying', 'allDoing', 'verify', 'plain', 'reject', 'iBanking', 'Mastercard', 'Paying', 'pearl', 'losing', 'Reward', 'ppl', 'Lottery', 'usual', 'sharp', 'subsidiary', 'cost', 'uses', 'lying', 'MP', 'ais', 'Jesus', 'residence', 'advisable', 'Yongmus', 'far', 'provided', 'Check', 'Thorn', 'Manager', 'Section', 'look', 'ampnbspampnbsp', 'appraisal', 'Panishi', 'TMBALLFREE', 'itstaets', 'About', 'ppnnpp', 'Wise', 'prime', 'gateway', 'Taiampnbspnbspnot', 'Ask', 'Bigc', 'final', 'Based', 'Banking', 'trunk', 'Jernies', 'Anyway', 'Bag', 'cried', 'dragged', 'Bgrade', 'everyones', 'novel', 'response', 'Ratchaburi', 'defaults', 'Shes', 'Amex', 'resolved', 'expiration', 'thief', 'costume', 'spending', 'Headquarters', 'saying', 'youre', 'Sim', 'job', 'midday', 'using', 'Burmese', 'cheating', 'In', 'puzzling', 'Ratsaenmueang', 'sucker', 'letters', 'oilfree', 'reimbursing', 'nagoya', 'sword', 'moment', 'beat', 'Promotion', 'FUN', 'director', 'must', 'Appointment', 'PTT', 'health', 'secondhands', 'midOctober', 'FIRST', 'opens', 'reach', 'Oppo', 'Cloud', 'cancellation', 'confusion', 'grad', 'Superrich', 'unionpay', 'position', 'companies', 'redelete', 'Tsk', 'CCSCB', 'banner', 'top', 'six', 'juz', 'Airpay', 'machines', 'continues', 'cases', 'topnotch', 'Usually', 'insteadIt', 'Terikyu', 'Youtrip', 'Advertising', 'endofthetown', 'envelope', 'If', 'multiple', 'feelings', 'land', 'constantly', 'searching', 'requires', 'correct', 'made', 'quick', 'monthly', 'transferring', 'ThailandKrungthaiCare', 'March', 'scbnbspnbsp', 'Immediate', 'Staff', 'Back', 'admiring', 'Ah', 'Identify', 'long', 'stole', 'Store', 'editors', 'taetewyn', 'shorter', 'joys', 'fill', 'directors', 'BEA', 'dad', 'Office', 'Pro', 'Fixed', 'bankholder', 'Noquotgtgt', 'Feb', 'due', 'rootenergy', 'classify', 'JASIF', 'Scanning', 'Thox', 'delayedtalk', 'Hong', 'Put', 'replace', 'vpn', 'constituents', 'document', 'Limousine', 'cane', 'bye', 'Speeddy', 'Teenagers', 'Streaming', 'sales', 'pardon', 'Boo', 'Exchange', 'Netbank', 'America', 'wondered', 'sharing', 'poor', 'nbspnbspk', 'Ratchapat', 'supports', 'zimzalabimjStonenayouung', 'Short', 'District', 'companys', 'Thought', 'pressed', 'abalonenbspnbsp', 'Receipt', 'filming', 'worker', 'balance', 'pasted', 'resign', 'notebook', 'qr', 'cardscb', 'ocean', 'Agency', 'Tmb', 'simple', 'students', 'Se', 'Banker', 'BCs', 'found', 'cancellations', 'repayment', 'Izd', 'abalonement', 'Waiting', 'depositor', 'daughters', 'shown', 'clerk', 'Let', 'ass', 'blocks', 'Pey', 'dogs', 'orange', 'ID', 'Lost', 'associated', 'taking', 'misunderstood', 'notifying', 'style', 'Sixers', 'morss', 'sky', 'By', 'Counter', 'forget', 'Guarantee', 'specifically', 'ME', 'Accumulating', 'Thats', 'burning', 'Trade', 'mynxo', 'Later', 'give', 'reward', 'via', 'hospitals', 'pdf', 'Second', 'exempted', 'basically', 'messageIt', 'comedy', 'somnobless', 'spoke', 'closes', 'depressing', 'Kbank', 'fortune', 'cocapitalists', 'list', 'Bangkokkaya', 'hasslefree', 'center', 'knowledge', 'Suddenly', 'downside', 'filler', 'overdue', 'Bought', 'funds', 'changed', 'Major', 'prefer', 'KeSaving', 'lowclass', 'bloom', 'specials', 'heart', 'Gim', 'inquire', 'theplanet', 'problemshut', 'pulls', 'diligent', 'marketing', 'staying', 'mBanking', 'LCB', 'rise', 'COVIDs', 'surcharge', 'college', 'deducted', 'rang', 'index', 'insured', 'descriptive', 'gang', 'feels', 'Paki', 'lack', 'Kev', 'aTM', 'Jkt', 'Sodax', 'revenues', 'TEL', 'importantly', 'reply', 'attention', 'among', 'backing', 'scbtailand', 'bag', 'slight', 'data', 'bankers', 'requirements', 'mother', 'Updating', 'risky', 'theres', 'housing', 'Sitting', 'decree', 'Sometimes', 'Ave', 'Very', 'current', 'holidays', 'business', 'three', 'VAT', 'Mainly', 'frozen', 'mail', 'reading', 'reopen', 'couldnt', 'hard', 'service', 'Although', 'Phase', 'amp', 'Pinchuo', 'paperwork', 'building', 'Looks', 'Go', 'Potify', 'decide', 'programmer', 'administrators', 'Beau', 'GBP', 'Finest', 'Gastor', 'son', 'MAKEUPS', 'Imy', 'peachizen', 'MBK', 'Purchased', 'system', 'fucking', 'loads', 'Cr', 'conversations', 'collects', 'local', 'DEA', 'rema', 'nonstrengthening', 'officebank', 'eventually', 'suspended', 'Charged', 'holds', 'ume', 'cardsnbspnbsp', 'vialine', 'scbthailandloveWithBBH', 'oneI', 'product', 'remove', 'talk', 'false', 'RangsitNakkor', 'circulating', 'alcohol', 'Management', 'Gateway', 'know', 'several', 'fair', 'fivemonth', 'refinanced', 'Bangkapi', 'redme', 'SCBSETE', 'juristic', 'brogue', 'Social', 'stops', 'billed', 'suction', 'Travelling', 'OK', 'luxury', 'Protection', 'played', 'Ais', 'reentered', 'throwing', 'Bun', 'oldfashioned', 'maintain', 'cbcream', 'forth', 'range', 'group', 'Planet', 'vacation', 'Innie', 'Iservis', 'TOPSCENTRAL', 'ow', 'types', 'non', 'paychecks', 'coin', 'dinner', 'Phetchaburi', 'PA', 'Ions', 'scbs', 'Spotify', 'connected', 'duress', 'latenight', 'alli', 'matters', 'conscious', 'heal', 'upload', 'tofu', 'tapping', 'KtcPrivilege', 'toyubomm', 'ThaiOmsin', 'discuss', 'popnidcha', 'misplaced', 'admit', 'relatives', 'worlds', 'Trues', 'posting', 'board', 'rewarded', 'husband', 'officer', 'repurchase', 'yeah', 'risen', 'facilitate', 'notice', 'slides', 'happened', 'epayment', 'develops', 'delays', 'boring', 'ion', 'forest', 'exchanges', 'hardworking', 'Tesco', 'cimb', 'prosecution', 'NEXT', 'suitcase', 'justiceRescue', 'KrungthaiAXA', 'wallet', 'wellcare', 'Customer', 'cause', 'eveningnbsp', 'retrieved', 'eyes', 'jpremier', 'Tucchats', 'new', 'Patriots', 'Citigold', 'Srisawat', 'assessment', 'section', 'Cards', 'feared', 'ATMdebit', 'THB', 'insufficient', 'systems', 'button', 'Ume', 'Fs', 'alreadydefined', 'thisIm', 'synchronized', 'tip', 'jitta', 'Panishan', 'decision', 'windowsd', 'Prairie', 'JSecure', 'crews', 'lame', 'Used', 'Officer', 'codes', 'ccTLD', 'driver', 'heading', 'turn', 'intake', 'maybe', 'French', 'topup', 'returns', 'teaches', 'face', 'regress', 'Business', 'withdrawals', 'employee', 'audio', 'SPOTIFY', 'slowest', 'proof', 'Zhaprad', 'BaSss', 'Speaking', 'Solitaire', 'Tech', 'puzzles', 'compared', 'Simply', 'passport', 'scbsonline', 'needs', 'ipad', 'features', 'Heres', 'Colcenter', 'Westgate', 'KMy', 'perform', 'usage', 'Deputy', 'selection', 'Group', 'pickup', 'private', 'Thailand', 'Mess', 'Sure', 'MAKE', 'Manton', 'disturb', 'Apply', 'Sis', 'insisted', 'load', 'Amobile', 'strong', 'image', 'proceed', 'magnetic', 'table', 'Afscb', 'PTTEP', 'equal', 'ago', 'Bureau', 'hotel', 'origin', 'jar', 'Freaky', 'scratch', 'Ours', 'rop', 'May', 'kjourney', 'moved', 'overhead', 'registry', 'Coordinates', 'foreign', 'hijacking', 'Visastyle', 'continue', 'unpunished', 'worth', 'understanding', 'Thongsepee', 'Saturdayweek', 'Show', 'lets', 'tmrw', 'serious', 'verifiedampnbspnbsp', 'kkp', 'needed', 'minutesThank', 'Deduct', 'buyer', 'Rajohin', 'Freelance', 'authentication', 'Touch', 'grownup', 'clicks', 'Precious', 'plant', 'affected', 'Consumers', 'sirampnbspnbsp', 'Number', 'ride', 'wrinkled', 'entered', 'Transferring', 'Lounge', 'canter', 'booth', 'payment', 'Chubb', 'mymos', 'advantages', 'Air', 'Virtual', 'graduating', 'withdrawn', 'space', 'suspicious', 'Mon', 'battle', 'instead', 'woke', 'dead', 'auction', 'Impressive', 'Evan', 'tour', 'itua', 'Enter', 'phoenix', 'lose', 'prefers', 'Sbito', 'Sianz', 'excuses', 'donation', 'NZD', 'clearing', 'KYC', 'hacker', 'putting', 'catch', 'Amortization', 'category', 'depend', 'western', 'dualuang', 'Bread', 'shouldnt', 'tracking', 'likely', 'Can', 'tower', 'fruitful', 'HR', 'shit', 'hall', 'Cash', 'Kerrys', 'items', 'businesses', 'trash', 'Thon', 'Wiganda', 'Sundays', 'extremely', 'mymonbspnbsp', 'applications', 'expenses', 'owed', 'SCBAM', 'claming', 'lockI', 'blogs', 'Eins', 'Verified', 'phonenbspnbsp', 'young', 'meal', 'progress', 'directly', 'value', 'profile', 'forever', 'counter', 'planned', 'leave', 'Trumoove', 'inquiry', 'Eon', 'Assuming', 'acct', 'profits', 'Alienz', 'Srithe', 'usingampnbspampnbsp', 'UK', 'review', 'sitting', 'Food', 'amends', 'allow', 'respectively', 'Change', 'erm', 'Samsung', 'mouth', 'advisors', 'intention', 'promotion', 'proud', 'lt', 'Has', 'backed', 'distribution', 'YOLO', 'EOM', 'maps', 'midmonth', 'Callcenter', 'hacked', 'Future', 'Tanshat', 'appnbspnbsp', 'host', 'field', 'slider', 'picks', 'responds', 'United', 'Remind', 'customer', 'Invalid', 'My', 'clams', 'lots', 'slip', 'ofnbspnbsp', 'turns', 'twenty', 'buy', 'Boom', 'retransfer', 'Dear', 'allowance', 'responsibility', 'Shop', 'sixdigit', 'ATM', 'bucketapple', 'doctor', 'billion', 'preliminary', 'official', 'relevant', 'Aliexpress', 'Axa', 'tmbbank', 'werent', 'andKBANK', 'adding', 'download', 'law', 'friendly', 'Heavy', 'Professor', 'prevent', 'active', 'type', 'tone', 'intends', 'necessity', 'TRADE', 'raise', 'MRR', 'checking', 'hide', 'Until', 'Destination', 'shopee', 'paypal', 'browser', 'welfare', 'Currently', 'coding', 'Pic', 'Click', 'procedure', 'VPN', 'smile', 'shitscrew', 'labeled', 'reimburst', 'improvements', 'wasnt', 'SMS', 'everywhere', 'Jiggy', 'itIve', 'informing', 'Bass', 'lower', 'banking', 'horse', 'High', 'disable', 'FREE', 'GP', 'ground', 'Complete', 'First', 'countIm', 'surprised', 'Nonstop', 'twoquarter', 'work', 'often', 'Ten', 'scratching', 'ios', 'rural', 'financial', 'parents', 'world', 'LHnbspnbsp', 'Application', 'moonbackp', 'dm', 'knowing', 'ahead', 'hacking', 'something', 'military', 'delivered', 'Months', 'uob', 'Autobot', 'gwallet', 'quickly', 'Close', 'unusual', 'repaid', 'Smart', 'Siietongkum', 'tastes', 'Fear', 'appSCB', 'nearest', 'Flexi', 'errands', 'care', 'server', 'gmarket', 'auto', 'advised', 'thread', 'Every', 'refinan', 'incorrectly', 'AP', 'Apps', 'MewtyBear', 'Buying', 'deeds', 'Come', 'Uobs', 'doublebook', 'freefeeing', 'Kplus', 'explains', 'insert', 'Ready', 'price', 'venting', 'supported', 'kept', 'reentry', 'security', 'invoice', 'Citi', 'cat', 'Pocket', 'five', 'infinix', 'functions', 'Platinum', 'corporate', 'asshole', 'Monthsnbsp', 'LETT', 'hardly', 'deny', 'authenticate', 'Army', 'never', 'Except', 'iPhone', 'hospot', 'nod', 'Pa', 'FCMG', 'reporter', 'concluded', 'PLANET', 'Patt', 'head', 'reason', 'lapisdotlazuli', 'Lotus', 'Didnt', 'tool', 'Sale', 'Oil', 'informed', 'wheels', 'BKampnbspnbsp', 'damaged', 'Nomuranbsp', 'pro', 'straightC', 'combine', 'Estimated', 'Notification', 'former', 'card', 'get', 'enabled', 'Waste', 'dozens', 'Australia', 'Tao', 'bankingmobile', 'whatever', 'areaRating', 'legal', 'Hurry', 'limit', 'line', 'XDs', 'unmanned', 'reload', 'merge', 'compartment', 'krw', 'choose', 'Welcome', 'lends', 'Intreovert', 'iPad', 'Paypal', 'blurred', 'Ickckckckckckck', 'describe', 'tonbspnbsp', 'borrowed', 'INOX', 'shes', 'updatingIve', 'names', 'books', 'reread', 'countrys', 'Amen', 'Secon', 'Company', 'emergency', 'Thailandneck', 'finding', 'Unionpay', 'accepting', 'important', 'Octnbspnbsp', 'tow', 'stolen', 'tops', 'clubs', 'rear', 'specify', 'excuse', 'QARCOCH', 'overdose', 'callcenter', 'meonK', 'recipients', 'responding', 'cantnbsp', 'checks', 'crammed', 'incomplete', 'caretaker', 'Thanaca', 'drama', 'crew', 'messages', 'focused', 'motorcycle', 'Chang', 'andor', 'queueing', 'born', 'pros', 'min', 'lockin', 'swords', 'KBankWhy', 'dude', 'discussed', 'kc', 'sugar', 'Hi', 'everything', 'usable', 'speak', 'plane', 'real', 'catches', 'Identification', 'bugs', 'payout', 'Or', 'effective', 'abalone', 'kill', 'Angry', 'portfolio', 'operating', 'foreigners', 'prestigeROP', 'PeDPiPU', 'waste', 'Ryla', 'lunch', 'competitive', 'spends', 'express', 'Small', 'luck', 'shot', 'mutual', 'parent', 'sisters', 'Seaboard', 'itll', 'behalf', 'Changing', 'Health', 'estate', 'refinance', 'half', 'Seven', 'knocking', 'reapply', 'summary', 'walletnbspnbsp', 'Tried', 'Ampquot', 'Planets', 'mistaken', 'consists', 'confused', 'got', 'thought', 'Mr', 'homes', 'paypaypal', 'ahold', 'clicked', 'served', 'indicated', 'ate', 'slot', 'SME', 'randomly', 'Paotang', 'hundreds', 'Chalida', 'Quality', 'registration', 'forcing', 'Confirm', 'source', 'Division', 'Soldiers', 'processing', 'handling', 'Half', 'closed', 'theyll', 'quiet', 'salaries', 'busyI', 'LoveReview', 'Make', 'stop', 'safest', 'return', 'switched', 'Plus', 'Thainex', 'Project', 'texting', 'itIm', 'MRT', 'ampnbsp', 'Nate', 'breakfast', 'serve', 'AirPay', 'Registration', 'tablet', 'written', 'BDMS', 'Theyll', 'waiting', 'branches', 'CC', 'traveling', 'SMs', 'AM', 'dots', 'certification', 'unspeakable', 'nbspampnbsp', 'overpay', 'forgotten', 'teachers', 'Accredited', 'condos', 'www', 'Payrolls', 'warrant', 'Citis', 'helps', 'throw', 'Amp', 'Wisdom', 'almost', 'thanking', 'twitter', 'seedy', 'replied', 'itch', 'contactless', 'Pin', 'advertising', 'fraud', 'One', 'AA', 'covered', 'live', 'contracts', 'SCB', 'friend', 'flat', 'refresh', 'alternative', 'sound', 'Torrong', 'dormitory', 'privileges', 'Eva', 'mobile', 'correctly', 'hassles', 'print', 'meafter', 'brand', 'oooo', 'weekends', 'berryzbii', 'searched', 'someone', 'stateowned', 'housewives', 'Yearly', 'ads', 'Press', 'Candel', 'calculations', 'dropping', 'reviewing', 'downloading', 'fe', 'OR', 'update', 'CITI', 'Revenue', 'defective', 'Ann', 'Sriyutthayas', 'advisornbspnbsp', 'collection', 'BangkokDental', 'lowbuyer', 'You', 'Sell', 'CP', 'Buayan', 'graduated', 'disturbed', 'cannbsp', 'concert', 'scbeasy', 'constraints', 'Luckily', 'According', 'cryptographic', 'bankslower', 'untied', 'Snoopyprinted', 'sme', 'harder', 'longterm', 'afternoon', 'commercial', 'noon', 'cons', 'ibanking', 'convince', 'overpriced', 'Omini', 'TMBs', 'plate', 'apologized', 'carrying', 'sim', 'wheeled', 'broker', 'Data', 'messed', 'identifiers', 'Dmudo', 'become', 'Prawich', 'Nmax', 'checked', 'accept', 'Received', 'street', 'entertained', 'Ap', 'queue', 'deep', 'pictured', 'BsHyuk', 'wrestling', 'Yesterday', 'processed', 'create', 'viewed', 'highlighting', 'wasted', 'destroyed', 'Wrong', 'puts', 'Ticket', 'shipping', 'cos', 'Should', 'BBLs', 'win', 'retirement', 'Vvo', 'technology', 'amortization', 'hows', 'rings', 'parentheses', 'rep', 'Jing', 'mart', 'safety', 'rude', 'Sept', 'Nates', 'nbspUnionPayTPN', 'issue', 'Updated', 'jumarn', 'information', 'follow', 'Pays', 'started', 'Shit', 'payin', 'End', 'Hard', 'professional', 'score', 'begs', 'teeth', 'channels', 'relief', 'fined', 'Applying', 'npl', 'blog', 'commented', 'English', 'slap', 'wired', 'glowing', 'chips', 'potential', 'funeral', 'suitable', 'Paragon', 'happy', 'allnbspnbsp', 'userfriendly', 'ThailandOmsin', 'commenting', 'filed', 'On', 'burglary', 'fails', 'statements', 'refused', 'hospital', 'trading', 'bongtao', 'IT', 'Paul', 'bung', 'BBL', 'consult', 'admin', 'DA', 'highflowered', 'meet', 'quietly', 'Bush', 'smooth', 'gift', 'People', 'abbreviated', 'Broke', 'centre', 'serveampnbspampnbsp', 'agent', 'passregistration', 'BL', 'lotus', 'Missing', 'deposited', 'ROP', 'crashing', 'firstshoe', 'Ampnbspnbsp', 'mediumsized', 'reenter', 'Finanzian', 'terms', 'Well', 'higher', 'lives', 'help', 'emails', 'Apple', 'Financial', 'format', 'cabinet', 'Everything', 'Facebook', 'expenditure', 'upgrade', 'reconsider', 'erased', 'flexi', 'Never', 'bk', 'Mel', 'adjusts', 'rescan', 'faces', 'problem', 'Chet', 'affecting', 'imagine', 'policy', 'inquiryer', 'busy', 'reference', 'Work', 'channel', 'So', 'independence', 'wire', 'fine', 'photo', 'lawsuit', 'emailed', 'Namtip', 'exchange', 'Like', 'Grab', 'crown', 'buttercrimes', 'submit', 'adjustment', 'Several', 'sudden', 'launch', 'large', 'Fun', 'mango', 'SD', 'pictwittercomBWqGfGyAVn', 'banknotes', 'Buro', 'sqhsn', 'convenient', 'Gkivtec', 'Tian', 'stalling', 'adults', 'Sari', 'succeeded', 'annoyance', 'allI', 'Minister', 'highly', 'resigned', 'Fix', 'starting', 'Transferd', 'listen', 'fear', 'Stingy', 'phonenet', 'Trumooves', 'order', 'swings', 'Xpress', 'canal', 'kerry', 'Isnt', 'pawns', 'ad', 'link', 'power', 'helping', 'affects', 'Help', 'sort', 'themIve', 'Talk', 'Be', 'bike', 'playing', 'Honda', 'elsewhere', 'Nakhon', 'Jasmio', 'reimbursed', 'uninstall', 'collaboration', 'form', 'Anybody', 'living', 'posts', 'kma', 'National', 'Chanel', 'KTB', 'accessing', 'signing', 'sincerely', 'deduct', 'Prapaipit', 'screen', 'helpful', 'Dip', 'pmnbspnbsp', 'flower', 'allowed', 'Wave', 'finances', 'condo', 'TE', 'Services', 'crumbs', 'Stand', 'seats', 'Give', 'training', 'Thomps', 'inconsistent', 'movie', 'please', 'fell', 'loosens', 'directions', 'rated', 'dangerous', 'send', 'confident', 'pocket', 'postal', 'holders', 'editorial', 'measure', 'rounds', 'timeMy', 'II', 'upK', 'Thammarat', 'sleeper', 'going', 'road', 'menu', 'unusually', 'fingerprints', 'lady', 'atm', 'shiv', 'sympathize', 'Airasia', 'development', 'pretty', 'sums', 'build', 'village', 'dies', 'spoken', 'oncredit', 'weekend', 'hack', 'bill', 'SCBampnbspampnbsp', 'Uh', 'light', 'good', 'chat', 'Reason', 'however', 'Nae', 'theater', 'higherbuyer', 'commerce', 'eat', 'unusable', 'anyways', 'Thoms', 'Complaint', 'confusedI', 'voting', 'Confirming', 'Client', 'thing', 'httpstconpogaGZbCd', 'pattern', 'Frog', 'improve', 'love', 'Running', 'dispute', 'Always', 'suck', 'amount', 'University', 'BlackPink', 'Euro', 'actually', 'shoe', 'wheel', 'cycles', 'extension', 'unit', 'holidaysThis', 'Monday', 'Ads', 'Theres', 'default', 'Ayad', 'filing', 'Dadadada', 'usedrnane', 'deposit', 'witness', 'people', 'dialed', 'tend', 'Bye', 'Mani', 'enforced', 'rates', 'Contactless', 'accepted', 'script', 'sit', 'disease', 'rather', 'neck', 'Login', 'Prepare', 'files', 'feed', 'feeling', 'bar', 'Gerror', 'Dadada', 'butterflyuxu', 'dispenser', 'withdrawing', 'Suitable', 'buys', 'Doi', 'major', 'Siam', 'awful', 'Peoples', 'touchso', 'kiosk', 'SCb', 'shortterm', 'lowpriced', 'robbers', 'His', 'design', 'career', 'fighting', 'unknown', 'daughter', 'badly', 'thaipanis', 'start', 'Checked', 'months', 'Importantly', 'Tuatm', 'saw', 'million', 'treating', 'says', 'CAD', 'outpost', 'As', 'delivery', 'credibility', 'Platimun', 'truck', 'older', 'childrens', 'morningIm', 'wiser', 'ampnbspnbsp', 'dry', 'previous', 'keep', 'unsub', 'Hood', 'Demeanor', 'multipurpose', 'thats', 'finally', 'agreed', 'Spend', 'Sukhothai', 'parallel', 'payments', 'idea', 'Payed', 'crap', 'whichever', 'Bosch', 'Tips', 'steps', 'rains', 'âa', 'contractor', 'orders', 'Calling', 'atms', 'Mine', 'find', 'bounces', 'seems', 'Rede', 'condition', 'Accounts', 'calendar', 'permission', 'NAV', 'Thai', 'loans', 'expense', 'Would', 'scale', 'two', 'investments', 'twoweek', 'tradeIll', 'KTz', 'fever', 'stay', 'jars', 'incredibly', 'neutral', 'dads', 'funny', 'Nvr', 'toss', 'call', 'Park', 'distance', 'systemautomatic', 'scheduled', 'central', 'ok', 'stamps', 'fall', 'morning', 'Focus', 'easytocontact', 'BO', 'agency', 'rock', 'Thong', 'burdens', 'Robin', 'XX', 'Forget', 'approved', 'Kyoto', 'peopleIm', 'sells', 'All', 'hang', 'AIS', 'Berutinomati', 'different', 'skeptical', 'Todays', 'organization', 'walking', 'camp', 'assume', 'believes', 'Suphakit', 'burden', 'Wah', 'protected', 'Kitisak', 'jams', 'demanding', 'followup', 'publish', 'early', 'Burirum', 'Dolfinampnbspnbsp', 'called', 'Save', 'Louis', 'eating', 'Kebank', 'spot', 'Easter', 'VISA', 'openers', 'happens', 'inexpensive', 'bikes', 'Moneys', 'wearing', 'Guinea', 'beginning', 'Gee', 'handing', 'bblam', 'right', 'Inquiry', 'symbol', 'since', 'Trumov', 'getting', 'See', 'growing', 'bug', 'Easynet', 'Registered', 'fryer', 'receipts', 'jcb', 'notices', 'Nonbook', 'result', 'reduced', 'reputation', 'supposed', 'MRTR', 'recommendation', 'meets', 'malfunctioning', 'makes', 'freezes', 'indicates', 'rush', 'mood', 'recognized', 'could', 'Commercial', 'apic', 'shareholders', 'shocked', 'matched', 'Havent', 'guzen', 'Parents', 'accidents', 'Invest', 'offshore', 'stable', 'open', 'birthday', 'behavior', 'sign', 'Thorough', 'Dan', 'programs', 'badass', 'gain', 'misinformed', 'seven', 'Love', 'electric', 'Benk', 'members', 'Three', 'victim', 'auditors', 'standards', 'storage', 'provinces', 'initial', 'Honor', 'Lisas', 'decades', 'Buntoshi', 'lik', 'Station', 'Demean', 'contacts', 'conflict', 'scan', 'wrongly', 'Closing', 'Going', 'okay', 'todayweek', 'bahtnbspnbspfor', 'wasting', 'August', 'LEC', 'application', 'Opened', 'netbank', 'grow', 'arent', 'Ministry', 'able', 'ATMs', 'urlOmsin', 'approvalBut', 'Surin', 'Paye', 'ep', 'authentic', 'relentless', 'spite', 'Were', 'guys', 'proclinics', 'Pink', 'evaluate', 'Canceled', 'Mega', 'ends', 'midnight', 'antibiotics', 'troubled', 'trader', 'NDID', 'There', 'Alipay', 'Kid', 'YouTrip', 'conceived', 'Dealer', 'umbrella', 'Scbam', 'whats', 'nakin', 'Okay', 'Lock', 'indicating', 'coth', 'Addmin', 'SQ', 'play', 'governments', 'talked', 'Kbankx', 'requestsAnd', 'Somebody', 'background', 'Our', 'daddys', 'scbktb', 'Wednesday', 'Registrar', 'MuMilk', 'Price', 'equipment', 'compilation', 'problems', 'read', 'Unusable', 'watch', 'decided', 'deductive', 'appCard', 'property', 'swinging', 'Citibank', 'broke', 'walletpost', 'KPLUS', 'Ugh', 'COVID', 'Checking', 'Purple', 'Tbank', 'cardSCB', 'restructure', 'PTTGC', 'Notify', 'clear', 'Friends', 'Trick', 'stickers', 'infinite', 'wave', 'tie', 'JLPT', 'Transferwise', 'Scbeasy', 'borrow', 'Tell', 'error', 'printed', 'google', 'disappear', 'margins', 'twice', 'Remember', 'HiaKoe', 'traded', 'add', 'tired', 'evaluation', 'immediately', 'hell', 'goes', 'platinumlevel', 'messenger', 'managers', 'developed', 'announcement', 'checkpoints', 'THAI', 'King', 'Normal', 'provincial', 'ready', 'closet', 'Leasing', 'Ae', 'transition', 'Reboot', 'Great', 'Nov', 'fellow', 'Unyong', 'contains', 'internet', 'rubber', 'Tuesday', 'Face', 'Eomsin', 'branch', 'oldest', 'xpress', 'LTF', 'Accounting', 'We', 'gotta', 'test', 'figure', 'parked', 'warned', 'mymo', 'Wdf', 'finishing', 'KClass', 'Option', 'successful', 'smiles', 'modify', 'Callnbspnbspcenter', 'transferee', 'yordyings', 'wifi', 'Government', 'Tong', 'recorded', 'warn', 'leaveofthehour', 'behind', 'asset', 'Aom', 'Ill', 'walkie', 'shop', 'Earlier', 'menus', 'nation', 'literarydinsor', 'homeinterest', 'Projects', 'Sales', 'recent', 'itnbspnbsp', 'submitted', 'watching', 'bonuses', 'filled', 'answered', 'meat', 'reviews', 'running', 'Car', 'dress', 'replacement', 'Mike', 'detac', 'SALE', 'damn', 'switching', 'lock', 'expires', 'personnel', 'cooperative', 'leader', 'horrible', 'Think', 'Mobile', 'Sicorn', 'status', 'includes', 'Wash', 'ha', 'grown', 'billing', 'premium', 'leading', 'pushes', 'applynbspnbsp', 'Robinson', 'reachI', 'course', 'England', 'Coinsnbspnbsp', 'ICBC', 'Locke', 'Kbizcontactcenterkasikornbankcom', 'things', 'TWD', 'letter', 'retailexport', 'carnbspnbsp', 'Pimp', 'documented', 'school', 'loses', 'bind', 'assessed', 'base', 'packages', 'blame', 'BEC', 'barcode', 'PLATINUM', 'bruised', 'Turn', 'borrower', 'sooner', 'pressure', 'Jmart', 'enrolled', 'grandmothers', 'home', 'executive', 'avtm', 'askif', 'settle', 'permanently', 'paynbspnbsp', 'Amymo', 'main', 'sense', 'id', 'given', 'arrive', 'mg', 'Steam', 'canceling', 'waived', 'shoots', 'appThis', 'save', 'bound', 'lash', 'Look', 'evaluated', 'Grow', 'yesterdays', 'surprise', 'Interest', 'City', 'Suggested', 'rely', 'ODs', 'saves', 'belts', 'consider', 'fancy', 'history', 'advice', 'Ps', 'website', 'Sorry', 'Suck', 'old', 'hungary', 'GrabPay', 'transactions', 'focusing', 'failed', 'employees', 'interests', 'confusing', 'Center', 'Shoppee', 'sad', 'handout', 'photos', 'backtoback', 'opportunities', 'fake', 'Rama', 'draft', 'Recently', 'volumes', 'thursday', 'scanner', 'moon', 'dare', 'man', 'sell', 'debitATM', 'buysales', 'skull', 'inbox', 'options', 'pod', 'collecting', 'TISCO', 'personal', 'cities', 'salesman', 'reimbursement', 'neednbspnbsp', 'UOB', 'Interfer', 'durable', 'stabuck', 'difficult', 'Journey', 'yearly', 'already', 'big', 'driving', 'scbthailand', 'BTS', 'ability', 'spell', 'loaner', 'lottery', 'reduction', 'krungthai', 'Festival', 'select', 'leaves', 'ridiculous', 'guts', 'complaining', 'unused', 'assessments', 'baffling', 'tall', 'documents', 'drawing', 'crash', 'investors', 'hope', 'Ck', 'gym', 'cry', 'superspecial', 'Spedylond', 'hopes', 'unscanned', 'Using', 'barn', 'blocked', 'youtrip', 'hidden', 'Crazy', 'cap', 'BAAC', 'embarrassed', 'venture', 'Building', 'show', 'loose', 'incompetent', 'intending', 'stores', 'favorite', 'Thank', 'introduce', 'cheat', 'cutoff', 'tab', 'summarize', 'interestingplanet', 'Silver', 'actual', 'Summary', 'Don', 'guess', 'lifetime', 'adjusting', 'connection', 'shy', 'damned', 'Lt', 'burdensnbspnbsp', 'Gosh', 'infuses', 'omsin', 'back', 'BTC', 'PeckPalitchoke', 'continuous', 'summarized', 'tradition', 'really', 'clutter', 'trying', 'etc', 'Hmmm', 'Bitch', 'postpone', 'wondering', 'solutions', 'bills', 'dividends', 'categories', 'Father', 'rejected', 'Easy', 'taxis', 'DIFFERENT', 'touched', 'serviced', 'PepoHimma', 'DCA', 'Fuck', 'movies', 'Remedy', 'Kon', 'government', 'hasnt', 'yearlyIf', 'stunned', 'Thais', 'mydaotown', 'bothers', 'youd', 'otp', 'crossbank', 'cool', 'jerk', 'Military', 'owns', 'shipment', 'automatic', 'factory', 'fb', 'Appreciate', 'pushing', 'Omsin', 'Bankers', 'abbreviation', 'Siriro', 'buyandyear', 'Among', 'short', 'friends', 'Could', 'House', 'thatI', 'cardsHuh', 'KTM', 'safe', 'EMAIL', 'KMyInvest', 'farming', 'ADM', 'Sent', 'sending', 'Esavings', 'international', 'Chanathamakhon', 'cheaper', 'compensation', 'dayThis', 'doubt', 'Driving', 'compare', 'Pangani', 'Miss', 'finance', 'Woody', 'Kung', 'Tickets', 'release', 'inserted', 'pay', 'pops', 'Taxi', 'heavy', 'exceed', 'brighter', 'lot', 'uncomfortable', 'totals', 'totaling', 'Embanking', 'Bou', 'ap', 'farmers', 'ports', 'promoted', 'ConsRefill', 'gather', 'cord', 'easiest', 'kidney', 'Bache', 'Conglosha', 'opinion', 'puzzlesWhy', 'Cigna', 'turned', 'Chiang', 'wallpaper', 'After', 'block', 'privately', 'gt', 'NZ', 'inside', 'KrungthaiCarre', 'intended', 'booking', 'sucked', 'Onerek', 'onh', 'suggested', 'Quick', 'Af', 'Ling', 'perfect', 'goose', 'qualifications', 'shared', 'Isus', 'ways', 'affect', 'alarm', 'seemed', 'department', 'use', 'quite', 'ET', 'piece', 'Xin', 'better', 'He', 'latter', 'Melconfim', 'nonbsp', 'contents', 'parties', 'KSI', 'sweet', 'laugh', 'girlfriend', 'From', 'Besides', 'Strange', 'ktc', 'And', 'unavailable', 'curse', 'Deposit', 'motherbaton', 'retention', 'phones', 'Having', 'highest', 'spins', 'thsnbsp', 'creditor', 'connect', 'candle', 'Sarana', 'remedy', 'Understand', 'accounting', 'additional', 'Wechat', 'Cos', 'unsubs', 'economy', 'identical', 'Luang', 'Wow', 'Called', 'elses', 'Colonel', 'Officials', 'Refund', 'arranged', 'divide', 'Changed', 'appscb', 'deals', 'SC', 'costing', 'Apache', 'websites', 'counted', 'following', 'proscons', 'birth', 'respect', 'Kept', 'simplicity', 'restructured', 'method', 'Tep', 'amonnys', 'UOBs', 'bonus', 'lift', 'imfai', 'fuzzy', 'Subscribe', 'children', 'servers', 'charges', 'Plan', 'prove', 'hes', 'Ieves', 'Takashimaya', 'tough', 'retail', 'Aah', 'institution', 'Get', 'principle', 'zeng', 'guaranteed', 'minority', 'January', 'Petchbun', 'havent', 'Kanchanaburi', 'Travel', 'even', 'wrote', 'Here', 'restart', 'enters', 'matter', 'Askscbthailand', 'hiring', 'page', 'overflowing', 'throughnbspnbsp', 'openings', 'coming', 'scolded', 'taxfree', 'misdirected', 'Latest', 'recommend', 'WHA', 'Mars', 'Blah', 'millions', 'reviewsIm', 'Jaymart', 'honor', 'knows', 'eats', 'AEONTS', 'strength', 'prestige', 'rule', 'recommends', 'Note', 'counts', 'request', 'rest', 'stands', 'sym', 'Ban', 'toyota', 'Unnis', 'setting', 'unique', 'scared', 'theatre', 'Card', 'separate', 'districts', 'ten', 'Bitcoin', 'aim', 'covering', 'unlike', 'bring', 'krungsri', 'Patriot', 'Cashback', 'offline', 'Security', 'bubble', 'retransfered', 'recruiter', 'Wuhan', 'installments', 'household', 'smoothly', 'Teampnbspampnbspnot', 'PromptPay', 'BlC', 'LIVE', 'Youll', 'state', 'Cancel', 'mall', 'description', 'GSB', 'Weve', 'passing', 'chill', 'RMF', 'groups', 'tickets', 'Signature', 'amazing', 'inspection', 'capital', 'rabbit', 'entire', 'payer', 'consulting', 'Inter', 'words', 'itIll', 'shark', 'reinstated', 'critical', 'nearby', 'nomination', 'human', 'Tevez', 'howispsg', 'ARKK', 'brok', 'Loan', 'agoda', 'sbbscustomersservicescbcoth', 'transfering', 'boat', 'curry', 'recommendations', 'rotten', 'Korea', 'Swift', 'Thanshat', 'Ibank', 'done', 'Selling', 'size', 'air', 'Web', 'huge', 'unlocked', 'camera', 'Tomorrow', 'keys', 'entrance', 'front', 'Admin', 'cryptographer', 'belongs', 'Syre', 'Perfect', 'Front', 'Nike', 'truemoney', 'lightly', 'suggestions', 'child', 'NL', 'EOMS', 'details', 'stm', 'thawisupcom', 'boro', 'outlets', 'making', 'painter', 'edited', 'ATS', 'Next', 'shut', 'httpstcocMIspvUkx', 'cents', 'Six', 'Czech', 'passwords', 'Miracle', 'showed', 'AC', 'promotions', 'lamer', 'Embassy', 'cardscredit', 'question', 'area', 'steam', 'kids', 'count', 'STATEMENT', 'Scary', 'spouse', 'transfer', 'installed', 'campaign', 'tasting', 'TBANK', 'nbspnbsp', 'irresponsible', 'yous', 'LUXE', 'Homicide', 'Nbspnbsp', 'Chonburi', 'Industrial', 'rescheduled', 'bailout', 'booked', 'Western', 'receives', 'Account', 'accountants', 'least', 'tag', 'answering', 'KPlus', 'Abbey', 'SCBampnbspnbspAmex', 'reduce', 'Chap', 'digital', 'KTBs', 'DB', 'BECs', 'towing', 'Macondo', 'Gvalle', 'remind', 'OM', 'Chon', 'speedy', 'late', 'IPO', 'station', 'brokers', 'backs', 'bonds', 'tags', 'wash', 'inquired', 'Thks', 'Personal', 'Ya', 'BLACKPINK', 'fan', 'Claucenter', 'However', 'blue', 'Ib', 'assuming', 'Cares', 'peaks', 'fight', 'sleeps', 'mix', 'reservation', 'monk', 'crying', 'VIP', 'Still', 'Starting', 'endtoend', 'suspicion', 'check', 'Something', 'cover', 'Premium', 'Did', 'grade', 'SHOCK', 'lotteries', 'lowest', 'push', 'Ipad', 'notify', 'Ubon', 'destinations', 'September', 'troops', 'cousin', 'nok', 'university', 'coordinate', 'Payi', 'Tonight', 'popular', 'Land', 'residual', 'automation', 'deleted', 'event', 'ran', 'Payy', 'Oh', 'changing', 'bars', 'claims', 'penny', 'Sahapat', 'admire', 'weekday', 'activities', 'Right', 'dca', 'flows', 'longdistance', 'rating', 'younbspnbsp', 'voices', 'Bronx', 'agencies', 'During', 'wiped', 'communication', 'ratings', 'emailpass', 'silver', 'writing', 'SEB', 'stays', 'digit', 'journal', 'sedans', 'fire', 'originally', 'focus', 'average', 'excited', 'toxic', 'briven', 'lol', 'ancient', 'expect', 'normal', 'thinks', 'restoration', 'co', 'suspending', 'Agoda', 'quote', 'yelled', 'Family', 'terminal', 'httpskmyinvestkasikornbankcom', 'reinterest', 'subpoena', 'well', 'relieve', 'timeout', 'Japan', 'troublemaker', 'remaining', 'expo', 'amplified', 'Shopee', 'Power', 'relock', 'agreement', 'medium', 'KRW', 'one', 'hit', 'airAsias', 'yes', 'UD', 'authors', 'dizzy', 'Islamic', 'ur', 'arh', 'Rai', 'httpstco', 'connecting', 'sector', 'duty', 'Srees', 'Service', 'mbanking', 'Chi', 'minds', 'Ha', 'Twitter', 'minus', 'freelance', 'creditburo', 'ScB', 'Sietongkum', 'plug', 'Will', 'depends', 'typed', 'brain', 'rushing', 'mules', 'Chapter', 'Buuluang', 'assistance', 'asia', 'code', 'cycle', 'amampnbspampnbspnbsp', 'low', 'exclude', 'crutches', 'occurs', 'exam', 'Wheres', 'tips', 'single', 'cards', 'sites', 'side', 'ordered', 'farmer', 'These', 'vending', 'criteria', 'adjusted', 'complaints', 'deed', 'breaks', 'DeliciousRendezvous', 'opportunity', 'upgraded', 'Pong', 'issues', 'imported', 'chopper', 'earnings', 'ALL', 'sue', 'confirming', 'access', 'shake', 'Thugs', 'divrari', 'hanging', 'App', 'Noninterrupted', 'dick', 'gray', 'develop', 'realized', 'without', 'gourmet', 'hurts', 'sued', 'km', 'KMA', 'conditions', 'mosi', 'uh', 'taste', 'Opening', 'malls', 'Equil', 'providers', 'AIAs', 'Green', 'Banks', 'redemption', 'project', 'walker', 'sir', 'Thursday', 'later', 'Hot', 'wins', 'Gum', 'Indy', 'impossible', 'activated', 'Error', 'Netherlands', 'night', 'responded', 'reloading', 'Fei', 'sympathized', 'understand', 'airAsia', 'Cao', 'silent', 'suited', 'stimulates', 'Ad', 'depriving', 'addresses', 'retransmitted', 'manage', 'Ktb', 'EZ', 'ideology', 'hand', 'accounted', 'automated', 'Rangsit', 'binding', 'Convenient', 'bucks', 'Settings', 'UI', 'easy', 'noticing', 'engine', 'avs', 'haniying', 'corrections', 'Lott', 'Answer', 'Speedy', 'oh', 'kplus', 'vineyards', 'refillable', 'rice', 'authenticated', 'mrt', 'name', 'editor', 'authorities', 'story', 'devices', 'journey', 'Play', 'estimate', 'someones', 'zipper', 'East', 'beautiful', 'assistant', 'Grey', 'Maladkrabang', 'queues', 'littlebearntck', 'executives', 'general', 'Hold', 'projects', 'personally', 'applying', 'causing', 'LINE', 'sims', 'limited', 'matching', 'KBANK', 'Friday', 'Kcash', 'editing', 'swiped', 'trapped', 'embezzlement', 'Agent', 'httpstcopDMUFkgREN', 'miss', 'missingappless', 'include', 'Sin', 'placed', 'Ayutthaya', 'moments', 'suggest', 'lie', 'inverted', 'stocks', 'traveled', 'honest', 'Billing', 'overlight', 'pages', 'bass', 'Asset', 'see', 'questioning', 'missing', 'Suvarnabhumi', 'While', 'log', 'round', 'impact', 'ranking', 'eightandahalf', 'Tip', 'app', 'ACCOUNT', 'oppo', 'bot', 'shortened', 'pwittaya', 'vs', 'affiliated', 'pic', 'Stop', 'understood', 'conceivedAnd', 'secondhand', 'Sri', 'Verify', 'Pass', 'doubts', 'much', 'oo', 'asks', 'Search', 'Benefit', 'Transport', 'bbl', 'The', 'Each', 'wad', 'tea', 'burro', 'refunded', 'Transfered', 'commissioner', 'intend', 'threatening', 'June', 'wisdom', 'units', 'gambling', 'Excited', 'cute', 'crosssection', 'flash', 'dealing', 'refunds', 'Negotiate', 'fun', 'chunk', 'Boss', 'Marvins', 'compatible', 'Book', 'canned', 'centerThe', 'glad', 'Airways', 'overpayment', 'Kowit', 'afraid', 'global', 'used', 'master', 'recover', 'solve', 'Nepo', 'Actually', 'rehashed', 'Custommer', 'court', 'Filled', 'reliable', 'Borrow', 'kebank', 'Taxfree', 'black', 'registers', 'CB', 'advantage', 'Main', 'promotional', 'Saturday', 'rejection', 'Refunds', 'selecting', 'series', 'withdraws', 'Deposits', 'leaving', 'falling', 'Bbl', 'Now', 'eaten', 'sometimes', 'alongIve', 'advise', 'Deducted', 'germs', 'rights', 'complete', 'tomorrow', 'Pike', 'extending', 'Gwallet', 'aert', 'locations', 'lag', 'spinning', 'damage', 'none', 'looked', 'tiring', 'union', 'Sea', 'cue', 'bitIm', 'displayed', 'Confirmed', 'Home', 'allfree', 'clearly', 'mega', 'smartphones', 'buses', 'said', 'phone', 'AI', 'ownership', 'odd', 'feature', 'logs', 'caps', 'ktb', 'pawn', 'renting', 'finish', 'ps', 'missed', 'LC', 'willing', 'Chinese', 'drivers', 'cabinets', 'showing', 'plugged', 'crazy', 'systemI', 'tied', 'PEC', 'extend', 'Higher', 'Nbsp', 'bouncing', 'tc', 'BAY', 'TT', 'legs', 'Refinance', 'sale', 'strange', 'Who', 'Again', 'Trust', 'KTCs', 'money', 'provider', 'virus', 'root', 'cheering', 'Apples', 'failure', 'subscribed', 'homeloan', 'demand', 'urgently', 'Not', 'loved', 'transferable', 'Dental', 'organizations', 'claim', 'noti', 'stuff', 'SheStrong', 'securities', 'Mathos', 'gold', 'debitscb', 'barbucks', 'hours', 'overcharge', 'citbank', 'TTB', 'Better', 'window', 'Fill', 'hed', 'applicants', 'bags', 'cassava', 'along', 'takes', 'Loans', 'weeps', 'States', 'profit', 'ticket', 'eapp', 'tmbbankcomcardscreditcardstmbsosmartcardhtmlhtml', 'phase', 'woken', 'Nothing', 'opening', 'Robo', 'medical', 'chain', 'random', 'muchThe', 'listing', 'weigh', 'fifth', 'Borrowed', 'pair', 'speaks', 'scanning', 'studying', 'completed', 'parking', 'manages', 'easier', 'Gold', 'Cp', 'mnptwt', 'joint', 'technologically', 'pong', 'chance', 'Pay', 'Itll', 'annual', 'tourpass', 'rarely', 'Agriculture', 'Unlike', 'Justice', 'Bummer', 'mad', 'pull', 'Too', 'rewards', 'Inbox', 'CIMB', 'related', 'brokes', 'zh', 'forgive', 'compete', 'clips', 'promote', 'Amazon', 'Busayarat', 'taxpayer', 'dark', 'avoid', 'rabbbit', 'ask', 'Vat', 'Choice', 'INVEST', 'Drag', 'hundreddollar', 'hunch', 'savings', 'deducts', 'likes', 'Fine', 'Which', 'Select', 'regular', 'Seedy', 'accountant', 'pop', 'GWalletnbspnbsp', 'media', 'Junsompong', 'Menu', 'latest', 'trmb', 'users', 'Adisak', 'AUD', 'wealth', 'analyze', 'unfortunately', 'stressed', 'deal', 'documentation', 'Me', 'Aw', 'ChoicenbspKTC', 'knew', 'homepro', 'target', 'Happy', 'Details', 'regression', 'lowincome', 'Trumanny', 'bunshee', 'charge', 'Charter', 'organizer', 'httpsmoneykapookcomview', 'unremoved', 'redoing', 'Ewang', 'queuer', 'verified', 'Burrows', 'banker', 'responsehow', 'Wish', 'ba', 'Rescue', 'noncard', 'Online', 'Tablet', 'specified', 'spready', 'Someone', 'asking', 'license', 'November', 'input', 'practical', 'attachment', 'paragon', 'February', 'httpstcouCVeFjaKHt', 'rid', 'geneyan', 'Fleshie', 'Nomuras', 'Move', 'burns', 'gonna', 'Starbucks', 'Caps', 'December', 'Farrook', 'pantip', 'giving', 'Finish', 'threads', 'holder', 'either', 'finished', 'emoji', 'advantageous', 'commitment', 'bounce', 'oil', 'Auto', 'restaurants', 'limitA', 'tuition', 'task', 'activate', 'petition', 'Password', 'trusted', 'Coordinating', 'Karen', 'jammed', 'capitals', 'deceiving', 'IRS', 'Robinhood', 'goodbye', 'jewelry', 'swipes', 'UCHOOSE', 'Suckless', 'Fundflow', 'Thani', 'nuts', 'foreclosure', 'tire', 'No', 'though', 'Fund', 'stick', 'fivebaht', 'account', 'Year', 'paper', 'ruthless', 'Cuwesa', 'famous', 'water', 'guidance', 'alerts', 'consent', 'developer', 'receipt', 'subscription', 'TU', 'Czechburo', 'tricky', 'hires', 'Last', 'panel', 'barely', 'swipe', 'Confounded', 'addin', 'repay', 'saved', 'Net', 'unpacked', 'Blue', 'credit', 'Add', 'fastest', 'Download', 'Choi', 'bookbank', 'temporarily', 'seating', 'screaming', 'Squad', 'Tmbs', 'decorator', 'outbreaks', 'withdrawal', 'noncarding', 'Unconditional', 'move', 'bad', 'ktcs', 'hands', 'checkout', 'kid', 'Ive', 'disagree', 'WDP', 'loanor', 'bangs', 'argue', 'reregister', 'Charge', 'row', 'model', 'inflation', 'sorry', 'More', 'subsidy', 'Recommended', 'income', 'pins', 'Saturdays', 'rental', 'Of', 'JTp', 'longawaited', 'appreciate', 'close', 'reporting', 'confiscated', 'voluntary', 'mortgageInquiring', 'Venice', 'risks', 'reached', 'clothes', 'moneys', 'longer', 'reviewers', 'acquaintances', 'lost', 'sides', 'sadly', 'Steaming', 'Sheikh', 'Scb', 'poison', 'FarSiDistantY', 'Day', 'replaced', 'cant', 'memory', 'exams', 'Pantip', 'prints', 'resigning', 'sellers', 'worldfamous', 'Without', 'Information', 'owned', 'Macro', 'seized', 'laterIm', 'httpstcocphyywd', 'bumper', 'waited', 'staff', 'substitutions', 'spelled', 'acting', 'minute', 'incoming', 'payroll', 'Chai', 'Kang', 'YouTube', 'reported', 'kbizcontactcentermirrorkasikornbankcom', 'recharge', 'Savingsin', 'reminds', 'enjoy', 'conclusion', 'Gray', 'anything', 'workers', 'register', 'Automatically', 'structure', 'dorm', 'Jakarin', 'zero', 'learn', 'mile', 'anyway', 'centers', 'counters', 'selfconsciousness', 'backwards', 'excluded', 'Ravel', 'minor', 'counting', 'japan', 'Blackpink', 'Pump', 'salt', 'pigs', 'announced', 'Walking', 'updated', 'left', 'eSAVINGS', 'encrypted', 'address', 'avoiding', 'Autobots', 'Connectics', 'hits', 'cashed', 'lately', 'acccount', 'cui', 'route', 'denial', 'Plug', 'Capital', 'True', 'persons', 'month', 'Seeing', 'definitely', 'accordance', 'install', 'thrilled', 'anywhere', 'came', 'require', 'disqualified', 'Credit', 'TIRIGA', 'participate', 'SMSSCB', 'depositremoved', 'Absolute', 'enterprise', 'callslinephase', 'blackeyed', 'Buri', 'Round', 'site', 'IP', 'crashed', 'Two', 'Banshee', 'faster', 'Month', 'protect', 'disappears', 'prepared', 'blackpink', 'basics', 'Call', 'Anyone', 'interesting', 'forged', 'Russias', 'yelling', 'apart', 'creditdebit', 'gross', 'orbuyer', 'Meek', 'But', 'bloody', 'valuable', 'Kino', 'burrow', 'taxpayers', 'TOT', 'BLACKPINKFANMEETING', 'Citibanks', 'April', 'covid', 'peace', 'uhhuh', 'Huh', 'Dolphin', 'means', 'villagers', 'HttpstcoYCjslQvbHO', 'poured', 'Push', 'passable', 'retina', 'loaners', 'OTP', 'chinese', 'BRs', 'NVDR', 'music', 'overpaying', 'bored', 'sessions', 'Krungsri', 'game', 'OT', 'clip', 'Lazada', 'crisis', 'careful', 'unexcited', 'affiliate', 'lungs', 'respond', 'remembered', 'KbankLive', 'Thors', 'arties', 'hassle', 'itThai', 'AHHHHHHGHT', 'installment', 'Days', 'prefix', 'Barcode', 'point', 'depending', 'rescue', 'La', 'Gigoi', 'note', 'SCBs', 'adjustments', 'deposition', 'pig', 'brothers', 'bankrupt', 'Samut', 'KUSAAD', 'cheapest', 'Muang', 'still', 'cell', 'caused', 'analysis', 'autodeposit', 'barracks', 'news', 'PEA', 'class', 'wants', 'secretly', 'warranty', 'Yu', 'transfers', 'earlier', 'snoopy', 'responsibilities', 'cooperatives', 'pray', 'reboot', 'butI', 'sharks', 'itemSMS', 'av', 'Shake', 'wav', 'forced', 'sailors', 'Lanka', 'covital', 'laa', 'Thainecks', 'pele', 'wars', 'investment', 'GapThananat', 'Stable', 'Deek', 'Fast', 'dream', 'Songkain', 'detected', 'USA', 'house', 'four', 'bribe', 'Theyve', 'self', 'retrieval', 'Rabbit', 'OD', 'suit', 'siwiam', 'SO', 'authorization', 'snack', 'Toss', 'October', 'wed', 'accepts', 'transaction', 'process', 'transferors', 'clean', 'city', 'algorithm', 'Bahtnbspnbsp', 'tomorrows', 'Maneerung', 'KBANKs', 'owe', 'monthlyyear', 'midsecret', 'depositdeposit', 'tying', 'ideas', 'Mondays', 'walked', 'Find', 'bean', 'client', 'Send', 'ids', 'Kowi', 'Hey', 'directs', 'place', 'Truewallet', 'KBank', 'conjunction', 'Contact', 'pm', 'hackers', 'deducting', 'Keep', 'Ibanking', 'blur', 'repeat', 'Trumans', 'quot', 'comes', 'addition', 'Amanny', 'investor', 'Product', 'Hmm', 'unstable', 'merchant', 'GWallet', 'Dad', 'feestaxes', 'concept', 'loan', 'juurney', 'typical', 'backup', 'isnt', 'negative', 'IPZPAYCOM', 'tsk', 'uncle', 'KrungsriSimpleKrungthaiCarre', 'drag', 'tell', 'invite', 'incorrect', 'boyzana', 'antibank', 'SAVINGS', 'China', 'kaya', 'dollars', 'obtained', 'currently', 'ThailandThailand', 'Srifurs', 'canals', 'ringing', 'operate', 'colors', 'Free', 'sympathetic', 'Tshirts', 'forgets', 'Bangkokbank', 'moms', 'restoring', 'terrible', 'stuffing', 'dollar', 'Insti', 'Mall', 'Cape', 'kmy', 'Luxe', 'Securities', 'Waves', 'Binging', 'social', 'West', 'voice', 'gen', 'overdo', 'end', 'Sirets', 'wanted', 'bedding', 'stuck', 'electricity', 'Therefore', 'Market', 'affiliates', 'fooled', 'sirotek', 'GSCIMB', 'httpstcoEQqLRvzJOR', 'merger', 'Review', 'Question', 'starter', 'hundred', 'Update', 'Protect', 'Campaign', 'Wellness', 'pump', 'TMB', 'Bank', 'included', 'reaches', 'Bualuang', 'offered', 'Seriously', 'spears', 'contacted', 'identification', 'away', 'finds', 'reopened', 'Saris', 'shopping', 'dividend', 'taxing', 'Bullshit', 'homework', 'company', 'hacks', 'troubles', 'glitch', 'destination', 'South', 'picking', 'fixed', 'survive', 'PLUS', 'frogs', 'insist', 'nuns', 'conducting', 'sloppy', 'bankslowly', 'turning', 'Udon', 'teach', 'transferers', 'Is', 'Ourleeedixxx', 'expecting', 'loyalty', 'Doing', 'washed', 'inform', 'tick', 'jobs', 'algorithms', 'Read', 'Av', 'silvers', 'enormous'}\n"
          ]
        }
      ]
    },
    {
      "cell_type": "code",
      "source": [
        "#Encode each document as a sequence of integers\n",
        "tokenizer = Tokenizer()\n",
        "tokenizer.fit_on_texts(train_docs)\n",
        "encoded_docs = tokenizer.texts_to_sequences(train_docs)"
      ],
      "metadata": {
        "id": "N5FTbC2XC1DL"
      },
      "execution_count": 11,
      "outputs": []
    },
    {
      "cell_type": "code",
      "source": [
        "#as each sentences contain different length of words, we need padding to make the sequences the same length before\n",
        "#putting into the embedding layer\n",
        "max_length = max([len(s.split()) for s in train_docs])\n",
        "Xtrain = pad_sequences(encoded_docs, maxlen=max_length, padding='post')\n",
        "ytrain = np.array(train['Human_CategoryID'].tolist())"
      ],
      "metadata": {
        "id": "3YeDCItHEHYY"
      },
      "execution_count": 12,
      "outputs": []
    },
    {
      "cell_type": "code",
      "source": [
        "#do the same as train above for test\n",
        "encoded_docs = tokenizer.texts_to_sequences(test_docs)\n",
        "Xtest = pad_sequences(encoded_docs, maxlen=max_length, padding='post')\n",
        "ytest = np.array(test['Human_CategoryID'].tolist())"
      ],
      "metadata": {
        "id": "AJnuTHopELNp"
      },
      "execution_count": 13,
      "outputs": []
    },
    {
      "cell_type": "code",
      "source": [
        "#defind vocabulary size\n",
        "vocab_size = len(tokenizer.word_index) + 1"
      ],
      "metadata": {
        "id": "fCrq8FIoEk2o"
      },
      "execution_count": 14,
      "outputs": []
    },
    {
      "cell_type": "code",
      "source": [
        "#Count unique classes\n",
        "print(train['Human_CategoryID'].nunique(), test['Human_CategoryID'].nunique())"
      ],
      "metadata": {
        "id": "7XZgjKsuEk9C",
        "colab": {
          "base_uri": "https://localhost:8080/"
        },
        "outputId": "10dfa1a0-42a4-430a-e0c9-dcdaf15799d3"
      },
      "execution_count": 15,
      "outputs": [
        {
          "output_type": "stream",
          "name": "stdout",
          "text": [
            "13 13\n"
          ]
        }
      ]
    },
    {
      "cell_type": "code",
      "source": [
        "#Count unique classes\n",
        "num_classes = max(train['Human_CategoryID'].nunique(), test['Human_CategoryID'].nunique())\n",
        "print(num_classes)"
      ],
      "metadata": {
        "id": "km56RgrQE0nR",
        "colab": {
          "base_uri": "https://localhost:8080/"
        },
        "outputId": "5cd80f61-7251-4e31-8312-ee0a7f304ee3"
      },
      "execution_count": 16,
      "outputs": [
        {
          "output_type": "stream",
          "name": "stdout",
          "text": [
            "13\n"
          ]
        }
      ]
    },
    {
      "cell_type": "code",
      "source": [
        "from tensorflow.keras.utils import to_categorical\n",
        "\n",
        "#Multi class problems need one-hot encoding on y\n",
        "#why - 1 on ytrain and ytest? can follow the linke below\n",
        "#https://stackoverflow.com/questions/56204731/the-method-np-utils-to-categorical-give-me-an-error/59002957#59002957\n",
        "ytrain =  to_categorical(ytrain-1, num_classes=num_classes)\n",
        "ytest = to_categorical(ytest-1, num_classes=num_classes)"
      ],
      "metadata": {
        "id": "5AkwsOvEE0uS"
      },
      "execution_count": 17,
      "outputs": []
    },
    {
      "cell_type": "code",
      "source": [
        "vocab_size = len(tokenizer.word_index)+1"
      ],
      "metadata": {
        "id": "kxUHJzkyE2Cw"
      },
      "execution_count": 18,
      "outputs": []
    },
    {
      "cell_type": "markdown",
      "source": [
        "#Model"
      ],
      "metadata": {
        "id": "2Wcr5KxLE8W3"
      }
    },
    {
      "cell_type": "markdown",
      "source": [
        "##CNN LSTM GMP1D D13: 62"
      ],
      "metadata": {
        "id": "hVA-lL4TGJLB"
      }
    },
    {
      "cell_type": "code",
      "source": [
        "import tensorflow as tf\n",
        "from keras.models import Sequential\n",
        "from keras.layers.convolutional import Conv1D, MaxPooling1D\n",
        "from keras.layers.pooling import GlobalMaxPooling1D, AveragePooling1D, GlobalAveragePooling1D\n",
        "from keras.layers import Dense, Flatten, Embedding, BatchNormalization, Dropout, LSTM, Bidirectional, TimeDistributed"
      ],
      "metadata": {
        "id": "br4WQmIrG1S3"
      },
      "execution_count": null,
      "outputs": []
    },
    {
      "cell_type": "code",
      "source": [
        "#Define our model\n",
        "model = Sequential()\n",
        "\n",
        "model.add(Embedding(vocab_size, 100, input_length=max_length, trainable=True))\n",
        "model.add(Conv1D(filters=32, kernel_size=3, activation='relu'))\n",
        "model.add(LSTM(50, return_sequences=True))\n",
        "\n",
        "model.add(GlobalMaxPooling1D())\n",
        "model.add(Flatten())\n",
        "\n",
        "model.add(Dense(num_classes, activation='softmax'))\n",
        "print(model.summary())"
      ],
      "metadata": {
        "id": "qBvFAsX4GNXL",
        "colab": {
          "base_uri": "https://localhost:8080/"
        },
        "outputId": "2de7c6a8-c551-4886-b048-23dd6556f36c"
      },
      "execution_count": null,
      "outputs": [
        {
          "output_type": "stream",
          "name": "stdout",
          "text": [
            "Model: \"sequential\"\n",
            "_________________________________________________________________\n",
            " Layer (type)                Output Shape              Param #   \n",
            "=================================================================\n",
            " embedding (Embedding)       (None, 190, 100)          1153600   \n",
            "                                                                 \n",
            " conv1d (Conv1D)             (None, 188, 32)           9632      \n",
            "                                                                 \n",
            " lstm (LSTM)                 (None, 188, 50)           16600     \n",
            "                                                                 \n",
            " global_max_pooling1d (Globa  (None, 50)               0         \n",
            " lMaxPooling1D)                                                  \n",
            "                                                                 \n",
            " flatten (Flatten)           (None, 50)                0         \n",
            "                                                                 \n",
            " dense (Dense)               (None, 13)                663       \n",
            "                                                                 \n",
            "=================================================================\n",
            "Total params: 1,180,495\n",
            "Trainable params: 1,180,495\n",
            "Non-trainable params: 0\n",
            "_________________________________________________________________\n",
            "None\n"
          ]
        }
      ]
    },
    {
      "cell_type": "code",
      "source": [
        "from tensorflow.keras.callbacks import EarlyStopping\n",
        "\n",
        "#put early stopping\n",
        "early_stopping = EarlyStopping(monitor='val_loss', patience=1, mode='min')\n",
        "\n",
        "#Your choices of activation='softmax' in the last layer and compile choice of loss='categorical_crossentropy' \n",
        "#are good for a model to predict multiple mutually-exclusive classes.\n",
        "\n",
        "model.compile(loss='categorical_crossentropy',\n",
        "              optimizer='adam', \n",
        "              metrics=['acc'],)"
      ],
      "metadata": {
        "id": "6h7dkVHjG7CD"
      },
      "execution_count": null,
      "outputs": []
    },
    {
      "cell_type": "code",
      "source": [
        "#Try classweight from this https://datascience.stackexchange.com/questions/13490/how-to-set-class-weights-for-imbalanced-classes-in-keras\n",
        "\n",
        "history = model.fit(Xtrain, ytrain, \n",
        "                    epochs=10, batch_size=32, \n",
        "                    validation_split=0.2,\n",
        "                    callbacks=[early_stopping])"
      ],
      "metadata": {
        "id": "ONM10HAYG9Ho",
        "colab": {
          "base_uri": "https://localhost:8080/"
        },
        "outputId": "4e38bc7e-f5b4-4716-ef21-551f6c9610e7"
      },
      "execution_count": null,
      "outputs": [
        {
          "output_type": "stream",
          "name": "stdout",
          "text": [
            "Epoch 1/10\n",
            "304/304 [==============================] - 19s 13ms/step - loss: 1.9636 - acc: 0.3442 - val_loss: 1.7720 - val_acc: 0.4276\n",
            "Epoch 2/10\n",
            "304/304 [==============================] - 3s 10ms/step - loss: 1.7085 - acc: 0.4520 - val_loss: 1.6945 - val_acc: 0.4588\n",
            "Epoch 3/10\n",
            "304/304 [==============================] - 3s 11ms/step - loss: 1.5387 - acc: 0.5245 - val_loss: 1.6434 - val_acc: 0.4934\n",
            "Epoch 4/10\n",
            "304/304 [==============================] - 3s 11ms/step - loss: 1.3857 - acc: 0.5803 - val_loss: 1.6477 - val_acc: 0.4844\n"
          ]
        }
      ]
    },
    {
      "cell_type": "code",
      "source": [
        "loss, acc = model.evaluate(Xtest, ytest)\n",
        "print('Test Accuracy: %f' % (acc*100))"
      ],
      "metadata": {
        "id": "C_4BpU86HCl5",
        "colab": {
          "base_uri": "https://localhost:8080/"
        },
        "outputId": "e39bbddf-d6dc-46c8-c2a4-ba392aef9431"
      },
      "execution_count": null,
      "outputs": [
        {
          "output_type": "stream",
          "name": "stdout",
          "text": [
            "380/380 [==============================] - 2s 5ms/step - loss: 1.2977 - acc: 0.6121\n",
            "Test Accuracy: 61.209875\n"
          ]
        }
      ]
    },
    {
      "cell_type": "code",
      "source": [
        "history_frame = pd.DataFrame(history.history)\n",
        "history_frame.loc[:, ['loss', 'val_loss']].plot()"
      ],
      "metadata": {
        "id": "frfxlm4bG_H1",
        "colab": {
          "base_uri": "https://localhost:8080/",
          "height": 282
        },
        "outputId": "762bd7dd-bed8-4a6f-af41-179b738cb3e6"
      },
      "execution_count": null,
      "outputs": [
        {
          "output_type": "execute_result",
          "data": {
            "text/plain": [
              "<matplotlib.axes._subplots.AxesSubplot at 0x7f52d4659510>"
            ]
          },
          "metadata": {},
          "execution_count": 24
        },
        {
          "output_type": "display_data",
          "data": {
            "text/plain": [
              "<Figure size 432x288 with 1 Axes>"
            ],
            "image/png": "[encoded data removed]"
          },
          "metadata": {
            "needs_background": "light"
          }
        }
      ]
    },
    {
      "cell_type": "code",
      "source": [
        "history_frame.loc[:, ['acc', 'val_acc']].plot()"
      ],
      "metadata": {
        "id": "BAjnmQlaHAM3",
        "colab": {
          "base_uri": "https://localhost:8080/",
          "height": 282
        },
        "outputId": "b222e2f7-d3ce-40c4-a848-17b672a6c888"
      },
      "execution_count": null,
      "outputs": [
        {
          "output_type": "execute_result",
          "data": {
            "text/plain": [
              "<matplotlib.axes._subplots.AxesSubplot at 0x7f52d40f1b10>"
            ]
          },
          "metadata": {},
          "execution_count": 25
        },
        {
          "output_type": "display_data",
          "data": {
            "text/plain": [
              "<Figure size 432x288 with 1 Axes>"
            ],
            "image/png": "[encoded data removed]"
          },
          "metadata": {
            "needs_background": "light"
          }
        }
      ]
    },
    {
      "cell_type": "code",
      "source": [
        ""
      ],
      "metadata": {
        "id": "zg8XeyeMHDlx"
      },
      "execution_count": null,
      "outputs": []
    },
    {
      "cell_type": "markdown",
      "source": [
        "##BIGRU CNN1 TDD GMP1D D13: 71"
      ],
      "metadata": {
        "id": "m4n3YO7QNfi1"
      }
    },
    {
      "cell_type": "code",
      "source": [
        "from keras.models import Sequential\n",
        "from keras.layers.convolutional import Conv1D, MaxPooling1D\n",
        "from keras.layers.pooling import GlobalMaxPooling1D, AveragePooling1D, GlobalAveragePooling1D\n",
        "from keras.layers import Dense, Flatten, Embedding, BatchNormalization, Dropout, LSTM\n",
        "\n",
        "from tensorflow.keras.layers import TimeDistributed, Bidirectional, GRU"
      ],
      "metadata": {
        "id": "SgEiHxadNsVX"
      },
      "execution_count": null,
      "outputs": []
    },
    {
      "cell_type": "code",
      "source": [
        "#Define our model\n",
        "\n",
        "model = Sequential()\n",
        "\n",
        "model.add(Embedding(vocab_size, 1000, input_length=max_length, trainable=True))\n",
        "#Bi-GRU with TimeDistributed by Tul \n",
        "model.add(Bidirectional(GRU(units=256,return_sequences=True, dropout=0.2, recurrent_dropout=0.2), merge_mode = 'concat'))\n",
        "\n",
        "model.add(Conv1D(128, 5 , activation='tanh'))\n",
        "model.add(TimeDistributed(Dense(128, activation=\"relu\")))\n",
        "model.add(GlobalMaxPooling1D())\n",
        "\n",
        "model.add(Dense(num_classes, activation='softmax'))\n",
        "\n",
        "print(model.summary())"
      ],
      "metadata": {
        "colab": {
          "base_uri": "https://localhost:8080/"
        },
        "id": "p6plUvQwNoGd",
        "outputId": "4a9ba36a-db03-427a-d7f9-eb205522f1f0"
      },
      "execution_count": null,
      "outputs": [
        {
          "output_type": "stream",
          "name": "stdout",
          "text": [
            "WARNING:tensorflow:Layer gru will not use cuDNN kernels since it doesn't meet the criteria. It will use a generic GPU kernel as fallback when running on GPU.\n",
            "WARNING:tensorflow:Layer gru will not use cuDNN kernels since it doesn't meet the criteria. It will use a generic GPU kernel as fallback when running on GPU.\n",
            "WARNING:tensorflow:Layer gru will not use cuDNN kernels since it doesn't meet the criteria. It will use a generic GPU kernel as fallback when running on GPU.\n",
            "Model: \"sequential\"\n",
            "_________________________________________________________________\n",
            " Layer (type)                Output Shape              Param #   \n",
            "=================================================================\n",
            " embedding (Embedding)       (None, 190, 1000)         11536000  \n",
            "                                                                 \n",
            " bidirectional (Bidirectiona  (None, 190, 512)         1932288   \n",
            " l)                                                              \n",
            "                                                                 \n",
            " conv1d (Conv1D)             (None, 186, 128)          327808    \n",
            "                                                                 \n",
            " time_distributed (TimeDistr  (None, 186, 128)         16512     \n",
            " ibuted)                                                         \n",
            "                                                                 \n",
            " global_max_pooling1d (Globa  (None, 128)              0         \n",
            " lMaxPooling1D)                                                  \n",
            "                                                                 \n",
            " dense_1 (Dense)             (None, 13)                1677      \n",
            "                                                                 \n",
            "=================================================================\n",
            "Total params: 13,814,285\n",
            "Trainable params: 13,814,285\n",
            "Non-trainable params: 0\n",
            "_________________________________________________________________\n",
            "None\n"
          ]
        }
      ]
    },
    {
      "cell_type": "code",
      "source": [
        "from tensorflow.keras.callbacks import EarlyStopping\n",
        "\n",
        "#put early stopping\n",
        "early_stopping = EarlyStopping(monitor='val_loss', patience=1, mode='min')\n",
        "\n",
        "#Your choices of activation='softmax' in the last layer and compile choice of loss='categorical_crossentropy' \n",
        "#are good for a model to predict multiple mutually-exclusive classes.\n",
        "\n",
        "model.compile(loss='categorical_crossentropy',\n",
        "              optimizer='adam', \n",
        "              metrics=['acc'],)"
      ],
      "metadata": {
        "id": "6CzKcgjsOGYy"
      },
      "execution_count": null,
      "outputs": []
    },
    {
      "cell_type": "code",
      "source": [
        "#Try classweight from this https://datascience.stackexchange.com/questions/13490/how-to-set-class-weights-for-imbalanced-classes-in-keras\n",
        "#Get the similar results\n",
        "\n",
        "history = model.fit(Xtrain, ytrain, \n",
        "                    epochs=10, batch_size=32, #32, 128 > 8 (worse), 16, 64, 256\n",
        "                    validation_split=0.2,\n",
        "                    callbacks=[early_stopping])"
      ],
      "metadata": {
        "colab": {
          "base_uri": "https://localhost:8080/"
        },
        "outputId": "f46f63ba-7838-483f-d69a-4327fef8fcb1",
        "id": "RvOjQwYMOGYz"
      },
      "execution_count": null,
      "outputs": [
        {
          "output_type": "stream",
          "name": "stdout",
          "text": [
            "Epoch 1/10\n",
            "304/304 [==============================] - 491s 2s/step - loss: 1.7524 - acc: 0.4250 - val_loss: 1.5702 - val_acc: 0.4984\n",
            "Epoch 2/10\n",
            "304/304 [==============================] - 467s 2s/step - loss: 1.3834 - acc: 0.5610 - val_loss: 1.5049 - val_acc: 0.4897\n",
            "Epoch 3/10\n",
            "304/304 [==============================] - 460s 2s/step - loss: 1.0986 - acc: 0.6374 - val_loss: 1.5837 - val_acc: 0.4926\n"
          ]
        }
      ]
    },
    {
      "cell_type": "code",
      "source": [
        "loss, acc = model.evaluate(Xtest, ytest)\n",
        "print('Test Accuracy: %f' % (acc*100))"
      ],
      "metadata": {
        "colab": {
          "base_uri": "https://localhost:8080/"
        },
        "outputId": "e77b3982-0aac-436d-87f0-560301f7a227",
        "id": "ILUdo9IBOGYz"
      },
      "execution_count": null,
      "outputs": [
        {
          "output_type": "stream",
          "name": "stdout",
          "text": [
            "380/380 [==============================] - 41s 109ms/step - loss: 0.9133 - acc: 0.7104\n",
            "Test Accuracy: 71.037036\n"
          ]
        }
      ]
    },
    {
      "cell_type": "code",
      "source": [
        "# loading library\n",
        "import pickle\n",
        "pickle.dump(model, open('CLS_Q2207_1_1_6.pkl', 'wb'))"
      ],
      "metadata": {
        "colab": {
          "base_uri": "https://localhost:8080/"
        },
        "id": "B1Fg55Zprcdx",
        "outputId": "9f50fb30-d13c-4f19-e6db-2a6c0a15c490"
      },
      "execution_count": null,
      "outputs": [
        {
          "output_type": "stream",
          "name": "stdout",
          "text": [
            "INFO:tensorflow:Assets written to: ram://e3e1d869-e227-4321-a557-647bf0bbddaf/assets\n"
          ]
        },
        {
          "output_type": "stream",
          "name": "stderr",
          "text": [
            "WARNING:absl:<keras.layers.recurrent.GRUCell object at 0x7ff8dad0b410> has the same name 'GRUCell' as a built-in Keras object. Consider renaming <class 'keras.layers.recurrent.GRUCell'> to avoid naming conflicts when loading with `tf.keras.models.load_model`. If renaming is not possible, pass the object in the `custom_objects` parameter of the load function.\n",
            "WARNING:absl:<keras.layers.recurrent.GRUCell object at 0x7ff8dad0bd90> has the same name 'GRUCell' as a built-in Keras object. Consider renaming <class 'keras.layers.recurrent.GRUCell'> to avoid naming conflicts when loading with `tf.keras.models.load_model`. If renaming is not possible, pass the object in the `custom_objects` parameter of the load function.\n"
          ]
        }
      ]
    },
    {
      "cell_type": "code",
      "source": [
        "from google.colab import files\n",
        "files.download('CLS_Q2207_1_1_6.pkl')"
      ],
      "metadata": {
        "colab": {
          "base_uri": "https://localhost:8080/",
          "height": 17
        },
        "id": "9cgzhq2-4blH",
        "outputId": "77b26041-1422-4321-b229-3a902d161c35"
      },
      "execution_count": null,
      "outputs": [
        {
          "output_type": "display_data",
          "data": {
            "text/plain": [
              "<IPython.core.display.Javascript object>"
            ],
            "application/javascript": [
              "\n",
              "    async function download(id, filename, size) {\n",
              "      if (!google.colab.kernel.accessAllowed) {\n",
              "        return;\n",
              "      }\n",
              "      const div = document.createElement('div');\n",
              "      const label = document.createElement('label');\n",
              "      label.textContent = `Downloading \"${filename}\": `;\n",
              "      div.appendChild(label);\n",
              "      const progress = document.createElement('progress');\n",
              "      progress.max = size;\n",
              "      div.appendChild(progress);\n",
              "      document.body.appendChild(div);\n",
              "\n",
              "      const buffers = [];\n",
              "      let downloaded = 0;\n",
              "\n",
              "      const channel = await google.colab.kernel.comms.open(id);\n",
              "      // Send a message to notify the kernel that we're ready.\n",
              "      channel.send({})\n",
              "\n",
              "      for await (const message of channel.messages) {\n",
              "        // Send a message to notify the kernel that we're ready.\n",
              "        channel.send({})\n",
              "        if (message.buffers) {\n",
              "          for (const buffer of message.buffers) {\n",
              "            buffers.push(buffer);\n",
              "            downloaded += buffer.byteLength;\n",
              "            progress.value = downloaded;\n",
              "          }\n",
              "        }\n",
              "      }\n",
              "      const blob = new Blob(buffers, {type: 'application/binary'});\n",
              "      const a = document.createElement('a');\n",
              "      a.href = window.URL.createObjectURL(blob);\n",
              "      a.download = filename;\n",
              "      div.appendChild(a);\n",
              "      a.click();\n",
              "      div.remove();\n",
              "    }\n",
              "  "
            ]
          },
          "metadata": {}
        },
        {
          "output_type": "display_data",
          "data": {
            "text/plain": [
              "<IPython.core.display.Javascript object>"
            ],
            "application/javascript": [
              "download(\"download_b1257980-924e-454e-9fb7-b46f6579ded9\", \"CLS_Q2207_1_1_6.pkl\", 167864546)"
            ]
          },
          "metadata": {}
        }
      ]
    },
    {
      "cell_type": "code",
      "source": [
        "history_frame = pd.DataFrame(history.history)\n",
        "history_frame.loc[:, ['loss', 'val_loss']].plot()"
      ],
      "metadata": {
        "colab": {
          "base_uri": "https://localhost:8080/",
          "height": 282
        },
        "outputId": "f34ccbe1-05f8-490b-d3b2-1354c832932b",
        "id": "VO9SYZhpOGY0"
      },
      "execution_count": null,
      "outputs": [
        {
          "output_type": "execute_result",
          "data": {
            "text/plain": [
              "<matplotlib.axes._subplots.AxesSubplot at 0x7ff8301731d0>"
            ]
          },
          "metadata": {},
          "execution_count": 25
        },
        {
          "output_type": "display_data",
          "data": {
            "text/plain": [
              "<Figure size 432x288 with 1 Axes>"
            ],
            "image/png": "[encoded data removed]"
          },
          "metadata": {
            "needs_background": "light"
          }
        }
      ]
    },
    {
      "cell_type": "code",
      "source": [
        "history_frame.loc[:, ['acc', 'val_acc']].plot()"
      ],
      "metadata": {
        "colab": {
          "base_uri": "https://localhost:8080/",
          "height": 282
        },
        "outputId": "69afaefd-0b74-4f6a-f245-af16da0f1950",
        "id": "Qm6lkNcgOGY0"
      },
      "execution_count": null,
      "outputs": [
        {
          "output_type": "execute_result",
          "data": {
            "text/plain": [
              "<matplotlib.axes._subplots.AxesSubplot at 0x7ff831530690>"
            ]
          },
          "metadata": {},
          "execution_count": 26
        },
        {
          "output_type": "display_data",
          "data": {
            "text/plain": [
              "<Figure size 432x288 with 1 Axes>"
            ],
            "image/png": "[encoded data removed]"
          },
          "metadata": {
            "needs_background": "light"
          }
        }
      ]
    },
    {
      "cell_type": "markdown",
      "source": [
        "##BILSTM CNN1 TDD GMP1D D13: 71"
      ],
      "metadata": {
        "id": "IXY0DUEhOs1n"
      }
    },
    {
      "cell_type": "code",
      "source": [
        "from keras.models import Sequential\n",
        "from keras.layers.convolutional import Conv1D, MaxPooling1D\n",
        "from keras.layers.pooling import GlobalMaxPooling1D, AveragePooling1D, GlobalAveragePooling1D\n",
        "from keras.layers import Dense, Flatten, Embedding, BatchNormalization, Dropout\n",
        "\n",
        "from tensorflow.keras.layers import TimeDistributed, Bidirectional, GRU, LSTM"
      ],
      "metadata": {
        "id": "1rb9CsXNOs1o"
      },
      "execution_count": null,
      "outputs": []
    },
    {
      "cell_type": "code",
      "source": [
        "#Define our model\n",
        "\n",
        "model = Sequential()\n",
        "\n",
        "model.add(Embedding(vocab_size, 1000, input_length=max_length, trainable=True))\n",
        "#Bi-LSTM with TimeDistributed by Tul \n",
        "model.add(Bidirectional(LSTM(units=256,return_sequences=True, dropout=0.2, recurrent_dropout=0.2), merge_mode = 'concat'))\n",
        "\n",
        "model.add(Conv1D(128, 5 , activation='tanh'))\n",
        "model.add(TimeDistributed(Dense(128, activation=\"relu\")))\n",
        "model.add(GlobalMaxPooling1D())\n",
        "\n",
        "model.add(Dense(num_classes, activation='softmax'))\n",
        "\n",
        "print(model.summary())"
      ],
      "metadata": {
        "colab": {
          "base_uri": "https://localhost:8080/"
        },
        "outputId": "c5e7807f-370a-4eaf-90db-0892023c21e3",
        "id": "IJfHvzqOOs1o"
      },
      "execution_count": null,
      "outputs": [
        {
          "output_type": "stream",
          "name": "stdout",
          "text": [
            "WARNING:tensorflow:Layer lstm will not use cuDNN kernels since it doesn't meet the criteria. It will use a generic GPU kernel as fallback when running on GPU.\n",
            "WARNING:tensorflow:Layer lstm will not use cuDNN kernels since it doesn't meet the criteria. It will use a generic GPU kernel as fallback when running on GPU.\n",
            "WARNING:tensorflow:Layer lstm will not use cuDNN kernels since it doesn't meet the criteria. It will use a generic GPU kernel as fallback when running on GPU.\n",
            "Model: \"sequential_2\"\n",
            "_________________________________________________________________\n",
            " Layer (type)                Output Shape              Param #   \n",
            "=================================================================\n",
            " embedding_2 (Embedding)     (None, 190, 1000)         11536000  \n",
            "                                                                 \n",
            " bidirectional_1 (Bidirectio  (None, 190, 512)         2574336   \n",
            " nal)                                                            \n",
            "                                                                 \n",
            " conv1d_1 (Conv1D)           (None, 186, 128)          327808    \n",
            "                                                                 \n",
            " time_distributed_1 (TimeDis  (None, 186, 128)         16512     \n",
            " tributed)                                                       \n",
            "                                                                 \n",
            " global_max_pooling1d_1 (Glo  (None, 128)              0         \n",
            " balMaxPooling1D)                                                \n",
            "                                                                 \n",
            " dense_3 (Dense)             (None, 13)                1677      \n",
            "                                                                 \n",
            "=================================================================\n",
            "Total params: 14,456,333\n",
            "Trainable params: 14,456,333\n",
            "Non-trainable params: 0\n",
            "_________________________________________________________________\n",
            "None\n"
          ]
        }
      ]
    },
    {
      "cell_type": "code",
      "source": [
        "from tensorflow.keras.callbacks import EarlyStopping\n",
        "\n",
        "#put early stopping\n",
        "early_stopping = EarlyStopping(monitor='val_loss', patience=1, mode='min')\n",
        "\n",
        "#Your choices of activation='softmax' in the last layer and compile choice of loss='categorical_crossentropy' \n",
        "#are good for a model to predict multiple mutually-exclusive classes.\n",
        "\n",
        "model.compile(loss='categorical_crossentropy',\n",
        "              optimizer='adam', \n",
        "              metrics=['acc'],)"
      ],
      "metadata": {
        "id": "eTGGc7VPOs1o"
      },
      "execution_count": null,
      "outputs": []
    },
    {
      "cell_type": "code",
      "source": [
        "#Try classweight from this https://datascience.stackexchange.com/questions/13490/how-to-set-class-weights-for-imbalanced-classes-in-keras\n",
        "#Get the similar results\n",
        "\n",
        "history = model.fit(Xtrain, ytrain, \n",
        "                    epochs=10, batch_size=32, #32, 128 > 8 (worse), 16, 64, 256\n",
        "                    validation_split=0.2,\n",
        "                    callbacks=[early_stopping])"
      ],
      "metadata": {
        "colab": {
          "base_uri": "https://localhost:8080/"
        },
        "outputId": "2bbff065-4c3d-4515-b80e-16c106c873bb",
        "id": "1MnITCP7Os1o"
      },
      "execution_count": null,
      "outputs": [
        {
          "output_type": "stream",
          "name": "stdout",
          "text": [
            "Epoch 1/10\n",
            "304/304 [==============================] - 593s 2s/step - loss: 1.7937 - acc: 0.4065 - val_loss: 1.5637 - val_acc: 0.4930\n",
            "Epoch 2/10\n",
            "304/304 [==============================] - 585s 2s/step - loss: 1.3829 - acc: 0.5537 - val_loss: 1.5073 - val_acc: 0.5066\n",
            "Epoch 3/10\n",
            "304/304 [==============================] - 581s 2s/step - loss: 1.0764 - acc: 0.6433 - val_loss: 1.5653 - val_acc: 0.5041\n"
          ]
        }
      ]
    },
    {
      "cell_type": "code",
      "source": [
        "loss, acc = model.evaluate(Xtest, ytest)\n",
        "print('Test Accuracy: %f' % (acc*100))"
      ],
      "metadata": {
        "colab": {
          "base_uri": "https://localhost:8080/"
        },
        "id": "ivxxqu66Os1o",
        "outputId": "47c14511-94ea-4a1c-83af-5985c3f864db"
      },
      "execution_count": null,
      "outputs": [
        {
          "output_type": "stream",
          "name": "stdout",
          "text": [
            "380/380 [==============================] - 50s 131ms/step - loss: 0.8893 - acc: 0.7177\n",
            "Test Accuracy: 71.769547\n"
          ]
        }
      ]
    },
    {
      "cell_type": "code",
      "source": [
        "history_frame = pd.DataFrame(history.history)\n",
        "history_frame.loc[:, ['loss', 'val_loss']].plot()"
      ],
      "metadata": {
        "colab": {
          "base_uri": "https://localhost:8080/",
          "height": 282
        },
        "id": "iAVneSZdOs1o",
        "outputId": "9e2ce6cc-86a6-4dbe-a1bb-940b6953e5ce"
      },
      "execution_count": null,
      "outputs": [
        {
          "output_type": "execute_result",
          "data": {
            "text/plain": [
              "<matplotlib.axes._subplots.AxesSubplot at 0x7f8bda17b410>"
            ]
          },
          "metadata": {},
          "execution_count": 33
        },
        {
          "output_type": "display_data",
          "data": {
            "text/plain": [
              "<Figure size 432x288 with 1 Axes>"
            ],
            "image/png": "[encoded data removed]"
          },
          "metadata": {
            "needs_background": "light"
          }
        }
      ]
    },
    {
      "cell_type": "code",
      "source": [
        "history_frame.loc[:, ['acc', 'val_acc']].plot()"
      ],
      "metadata": {
        "colab": {
          "base_uri": "https://localhost:8080/",
          "height": 282
        },
        "id": "20PfMRNfOs1p",
        "outputId": "b9b80dd6-1f9a-40c6-db08-eae5638a63ce"
      },
      "execution_count": null,
      "outputs": [
        {
          "output_type": "execute_result",
          "data": {
            "text/plain": [
              "<matplotlib.axes._subplots.AxesSubplot at 0x7f8c00147250>"
            ]
          },
          "metadata": {},
          "execution_count": 34
        },
        {
          "output_type": "display_data",
          "data": {
            "text/plain": [
              "<Figure size 432x288 with 1 Axes>"
            ],
            "image/png": "[encoded data removed]"
          },
          "metadata": {
            "needs_background": "light"
          }
        }
      ]
    },
    {
      "cell_type": "markdown",
      "source": [
        "## CNN1 GMP1D D13: 79\n"
      ],
      "metadata": {
        "id": "BX_XQj67E_b6"
      }
    },
    {
      "cell_type": "code",
      "source": [
        "from keras.layers import Dense, Flatten, Embedding, BatchNormalization, Dropout, LSTM, Bidirectional, TimeDistributed\n",
        "from keras.models import Sequential\n",
        "from keras.layers.convolutional import Conv1D, MaxPooling1D\n",
        "from keras.layers.pooling import GlobalMaxPooling1D, AveragePooling1D, GlobalAveragePooling1D\n",
        "import tensorflow as tf"
      ],
      "metadata": {
        "id": "CR-HCnzPFDoe"
      },
      "execution_count": 19,
      "outputs": []
    },
    {
      "cell_type": "code",
      "source": [
        "from keras.layers.pooling import GlobalMaxPooling1D\n",
        "#Define our model\n",
        "model = Sequential()\n",
        "\n",
        "model.add(Embedding(vocab_size, 1000, input_length=max_length, trainable=True))\n",
        "model.add(Conv1D(128, 5 , activation='relu'))\n",
        "#Among filters=[64,128,256], 128 is the best. \n",
        "#activation selu, tanh, relu, elu got similar results\n",
        "model.add(GlobalMaxPooling1D()) #Among pooliing, GMP1D is the best.\n",
        "\n",
        "model.add(Dense(num_classes, activation='softmax')) #1 Dense better than 2 Denses\n",
        "print(model.summary())"
      ],
      "metadata": {
        "id": "nddmIhdNFICP",
        "colab": {
          "base_uri": "https://localhost:8080/"
        },
        "outputId": "6955ba42-e120-4559-a342-0d8de4fe675e"
      },
      "execution_count": 20,
      "outputs": [
        {
          "output_type": "stream",
          "name": "stdout",
          "text": [
            "Model: \"sequential\"\n",
            "_________________________________________________________________\n",
            " Layer (type)                Output Shape              Param #   \n",
            "=================================================================\n",
            " embedding (Embedding)       (None, 190, 1000)         11536000  \n",
            "                                                                 \n",
            " conv1d (Conv1D)             (None, 186, 128)          640128    \n",
            "                                                                 \n",
            " global_max_pooling1d (Globa  (None, 128)              0         \n",
            " lMaxPooling1D)                                                  \n",
            "                                                                 \n",
            " dense (Dense)               (None, 13)                1677      \n",
            "                                                                 \n",
            "=================================================================\n",
            "Total params: 12,177,805\n",
            "Trainable params: 12,177,805\n",
            "Non-trainable params: 0\n",
            "_________________________________________________________________\n",
            "None\n"
          ]
        }
      ]
    },
    {
      "cell_type": "code",
      "source": [
        "plot_model(model, to_file='model_plot.png', show_shapes=True, show_layer_names=True)"
      ],
      "metadata": {
        "colab": {
          "base_uri": "https://localhost:8080/",
          "height": 533
        },
        "id": "MGpbRB6uoTXB",
        "outputId": "d7fc34c6-5949-4953-d58c-a76c6b1c9e3f"
      },
      "execution_count": 21,
      "outputs": [
        {
          "output_type": "execute_result",
          "data": {
            "text/plain": [
              "<IPython.core.display.Image object>"
            ],
            "image/png": "[encoded data removed]"
          },
          "metadata": {},
          "execution_count": 21
        }
      ]
    },
    {
      "cell_type": "code",
      "source": [
        "from google.colab import files\n",
        "files.download('model_plot.png')"
      ],
      "metadata": {
        "colab": {
          "base_uri": "https://localhost:8080/",
          "height": 17
        },
        "id": "H0Yd4X6v90Vg",
        "outputId": "e4461050-8e64-43e5-c974-290c96222774"
      },
      "execution_count": 22,
      "outputs": [
        {
          "output_type": "display_data",
          "data": {
            "text/plain": [
              "<IPython.core.display.Javascript object>"
            ],
            "application/javascript": [
              "\n",
              "    async function download(id, filename, size) {\n",
              "      if (!google.colab.kernel.accessAllowed) {\n",
              "        return;\n",
              "      }\n",
              "      const div = document.createElement('div');\n",
              "      const label = document.createElement('label');\n",
              "      label.textContent = `Downloading \"${filename}\": `;\n",
              "      div.appendChild(label);\n",
              "      const progress = document.createElement('progress');\n",
              "      progress.max = size;\n",
              "      div.appendChild(progress);\n",
              "      document.body.appendChild(div);\n",
              "\n",
              "      const buffers = [];\n",
              "      let downloaded = 0;\n",
              "\n",
              "      const channel = await google.colab.kernel.comms.open(id);\n",
              "      // Send a message to notify the kernel that we're ready.\n",
              "      channel.send({})\n",
              "\n",
              "      for await (const message of channel.messages) {\n",
              "        // Send a message to notify the kernel that we're ready.\n",
              "        channel.send({})\n",
              "        if (message.buffers) {\n",
              "          for (const buffer of message.buffers) {\n",
              "            buffers.push(buffer);\n",
              "            downloaded += buffer.byteLength;\n",
              "            progress.value = downloaded;\n",
              "          }\n",
              "        }\n",
              "      }\n",
              "      const blob = new Blob(buffers, {type: 'application/binary'});\n",
              "      const a = document.createElement('a');\n",
              "      a.href = window.URL.createObjectURL(blob);\n",
              "      a.download = filename;\n",
              "      div.appendChild(a);\n",
              "      a.click();\n",
              "      div.remove();\n",
              "    }\n",
              "  "
            ]
          },
          "metadata": {}
        },
        {
          "output_type": "display_data",
          "data": {
            "text/plain": [
              "<IPython.core.display.Javascript object>"
            ],
            "application/javascript": [
              "download(\"download_0fa31c3b-3155-48f4-b1ce-02214b347b73\", \"model_plot.png\", 39392)"
            ]
          },
          "metadata": {}
        }
      ]
    },
    {
      "cell_type": "code",
      "source": [
        "from tensorflow.keras.callbacks import EarlyStopping\n",
        "\n",
        "#put early stopping\n",
        "early_stopping = EarlyStopping(monitor='val_loss', patience=1, mode='min')\n",
        "\n",
        "#Your choices of activation='softmax' in the last layer and compile choice of loss='categorical_crossentropy' \n",
        "#are good for a model to predict multiple mutually-exclusive classes.\n",
        "\n",
        "model.compile(loss='categorical_crossentropy',\n",
        "              optimizer='adam', \n",
        "              metrics=['acc'],)"
      ],
      "metadata": {
        "id": "Q9yeE8-iFJcL"
      },
      "execution_count": 23,
      "outputs": []
    },
    {
      "cell_type": "code",
      "source": [
        "#Try classweight from this https://datascience.stackexchange.com/questions/13490/how-to-set-class-weights-for-imbalanced-classes-in-keras\n",
        "#Get the similar results\n",
        "\n",
        "history = model.fit(Xtrain, ytrain, \n",
        "                    epochs=10, batch_size=32, #32, 128 > 8 (worse), 16, 64, 256\n",
        "                    validation_split=0.2,\n",
        "                    callbacks=[early_stopping])"
      ],
      "metadata": {
        "id": "7pCGbab1FMKr",
        "colab": {
          "base_uri": "https://localhost:8080/"
        },
        "outputId": "ba399619-4154-4647-fb0e-e548d8f26a03"
      },
      "execution_count": 24,
      "outputs": [
        {
          "output_type": "stream",
          "name": "stdout",
          "text": [
            "Epoch 1/10\n",
            "304/304 [==============================] - 15s 11ms/step - loss: 1.7109 - acc: 0.4390 - val_loss: 1.5614 - val_acc: 0.4852\n",
            "Epoch 2/10\n",
            "304/304 [==============================] - 3s 11ms/step - loss: 1.2243 - acc: 0.6007 - val_loss: 1.4618 - val_acc: 0.5173\n",
            "Epoch 3/10\n",
            "304/304 [==============================] - 3s 11ms/step - loss: 0.8314 - acc: 0.7355 - val_loss: 1.4785 - val_acc: 0.5210\n"
          ]
        }
      ]
    },
    {
      "cell_type": "code",
      "source": [
        "loss, acc = model.evaluate(Xtest, ytest)\n",
        "print('Test Accuracy: %f' % (acc*100))"
      ],
      "metadata": {
        "id": "fhmvQ1gcFNxb",
        "colab": {
          "base_uri": "https://localhost:8080/"
        },
        "outputId": "2fd0573f-1a93-4d81-8906-e5e172989b44"
      },
      "execution_count": 25,
      "outputs": [
        {
          "output_type": "stream",
          "name": "stdout",
          "text": [
            "380/380 [==============================] - 1s 3ms/step - loss: 0.6826 - acc: 0.7922\n",
            "Test Accuracy: 79.218107\n"
          ]
        }
      ]
    },
    {
      "cell_type": "code",
      "source": [
        "# loading library\n",
        "import pickle\n",
        "pickle.dump(model, open('CLS_Q2207_1_1_5.pkl', 'wb'))"
      ],
      "metadata": {
        "id": "pwYflISRdVPT",
        "colab": {
          "base_uri": "https://localhost:8080/"
        },
        "outputId": "d7fd5d55-5798-4c50-f32d-4234fb38f0db"
      },
      "execution_count": 26,
      "outputs": [
        {
          "output_type": "stream",
          "name": "stdout",
          "text": [
            "INFO:tensorflow:Assets written to: ram://e9a2e705-f15f-41ad-b533-c078a04e5e7f/assets\n"
          ]
        }
      ]
    },
    {
      "cell_type": "code",
      "source": [
        "history_frame = pd.DataFrame(history.history)\n",
        "history_frame.loc[:, ['loss', 'val_loss']].plot()"
      ],
      "metadata": {
        "id": "hl6XE30MFQpK",
        "colab": {
          "base_uri": "https://localhost:8080/",
          "height": 283
        },
        "outputId": "bb30e34c-1176-4874-aa2e-5c3146e9e3a5"
      },
      "execution_count": 27,
      "outputs": [
        {
          "output_type": "execute_result",
          "data": {
            "text/plain": [
              "<matplotlib.axes._subplots.AxesSubplot at 0x7f05fda2b490>"
            ]
          },
          "metadata": {},
          "execution_count": 27
        },
        {
          "output_type": "display_data",
          "data": {
            "text/plain": [
              "<Figure size 432x288 with 1 Axes>"
            ],
            "image/png": "[encoded data removed]"
          },
          "metadata": {
            "needs_background": "light"
          }
        }
      ]
    },
    {
      "cell_type": "code",
      "source": [
        "#prediction\n",
        "y_pred = model.predict(Xtest)"
      ],
      "metadata": {
        "id": "3fXNJzmNSrVG"
      },
      "execution_count": 28,
      "outputs": []
    },
    {
      "cell_type": "code",
      "source": [
        "#Change one hot answer to be single digit as follows \n",
        "#https://stackoverflow.com/questions/54589669/confusion-matrix-error-classification-metrics-cant-handle-a-mix-of-multilabel\n",
        "\n",
        "rounded_labels_ypred = np.argmax(y_pred, axis=1)\n",
        "rounded_labels_ytest = np.argmax(ytest,axis=1)"
      ],
      "metadata": {
        "id": "wibYusQmU79x"
      },
      "execution_count": 29,
      "outputs": []
    },
    {
      "cell_type": "code",
      "source": [
        "#unique label ids and label names\n",
        "target_names = {key-1:val for key, val in zip(train['Human_CategoryID'],train['Human_Category'])}"
      ],
      "metadata": {
        "id": "KViBsfCWV1tV"
      },
      "execution_count": 30,
      "outputs": []
    },
    {
      "cell_type": "code",
      "source": [
        "target_names=   [ \n",
        "                'Accessibility',\n",
        "                'Facility',\n",
        "                'Company Brand',\n",
        "                'Staff Quality',\n",
        "                'Timing',\n",
        "                'Product and Service, Benefit',\n",
        "                'Product and Service, System',\n",
        "                'Product and Service, Usage and Condition',\n",
        "                'Product and Service, Convenience',\n",
        "                'Product and Service, Variety',\n",
        "                'Product and Service, Decision',\n",
        "                'Security',\n",
        "                'No Category'\n",
        "                ]"
      ],
      "metadata": {
        "id": "saOmhkUKV22P"
      },
      "execution_count": null,
      "outputs": []
    },
    {
      "cell_type": "code",
      "source": [
        "from sklearn.metrics import classification_report\n",
        "\n",
        "print(classification_report(rounded_labels_ytest, rounded_labels_ypred, target_names=target_names))"
      ],
      "metadata": {
        "colab": {
          "base_uri": "https://localhost:8080/"
        },
        "id": "15fz78OeYAYa",
        "outputId": "8d493b57-da75-4be0-c988-f4fe2e3d8a66"
      },
      "execution_count": 33,
      "outputs": [
        {
          "output_type": "stream",
          "name": "stdout",
          "text": [
            "                                          precision    recall  f1-score   support\n",
            "\n",
            "                           Accessibility       0.70      0.70      0.70       185\n",
            "                                Facility       1.00      0.31      0.48        16\n",
            "                           Company Brand       0.75      0.63      0.69       377\n",
            "                           Staff Quality       0.74      0.57      0.64       522\n",
            "                                  Timing       0.76      0.68      0.72      1163\n",
            "            Product and Service, Benefit       0.81      0.73      0.77      1109\n",
            "             Product and Service, System       0.81      0.91      0.86      3275\n",
            "Product and Service, Usage and Condition       0.76      0.85      0.80      2454\n",
            "        Product and Service, Convenience       0.69      0.51      0.59       153\n",
            "            Product and Service, Variety       0.82      0.64      0.72       379\n",
            "           Product and Service, Decision       0.77      0.60      0.68       232\n",
            "                                Security       0.86      0.67      0.75       152\n",
            "                             No Category       0.83      0.80      0.82      2133\n",
            "\n",
            "                                accuracy                           0.79     12150\n",
            "                               macro avg       0.79      0.66      0.71     12150\n",
            "                            weighted avg       0.79      0.79      0.79     12150\n",
            "\n"
          ]
        }
      ]
    },
    {
      "cell_type": "code",
      "source": [
        "import seaborn as sns\n",
        "from sklearn.metrics import confusion_matrix\n",
        "import matplotlib.pyplot as plt\n",
        "\n",
        "cf_matrix = confusion_matrix(rounded_labels_ytest, rounded_labels_ypred)\n",
        "\n",
        "fig, ax = plt.subplots(figsize=(10,10))    \n",
        "ax = sns.heatmap(cf_matrix, annot=True, cmap='Blues', ax=ax, fmt=\".1f\")\n",
        "\n",
        "ax.set_title('Seaborn Confusion Matrix with labels\\n\\n');\n",
        "ax.set_xlabel('\\nPredicted Flower Category')\n",
        "ax.set_ylabel('Actual Flower Category ');\n",
        "\n",
        "## Ticket labels - List must be in alphabetical order\n",
        "ax.xaxis.set_ticklabels(target_names, rotation=90)\n",
        "ax.yaxis.set_ticklabels(target_names, rotation=0)\n",
        "\n",
        "## Display the visualization of the Confusion Matrix.\n",
        "plt.show()\n",
        "\n",
        "figure = ax.get_figure()    \n",
        "figure.savefig(\"cf_matrix.png\", pad_inches= 12, dpi=400)"
      ],
      "metadata": {
        "colab": {
          "base_uri": "https://localhost:8080/",
          "height": 863
        },
        "id": "dk3GKnBQadwA",
        "outputId": "8abd665a-6d4d-47aa-fb5f-8eaaad2bdc3d"
      },
      "execution_count": 34,
      "outputs": [
        {
          "output_type": "display_data",
          "data": {
            "text/plain": [
              "<Figure size 720x720 with 2 Axes>"
            ],
            "image/png": "[encoded data removed]"
          },
          "metadata": {
            "needs_background": "light"
          }
        }
      ]
    },
    {
      "cell_type": "code",
      "source": [
        "test['prediction'] = rounded_labels_ypred+1\n",
        "test.to_excel('CNN_prediction.xlsx')\n",
        "\n",
        "files.download('CNN_prediction.xlsx')"
      ],
      "metadata": {
        "id": "AX3VsO3lgLp2"
      },
      "execution_count": 35,
      "outputs": []
    }
  ]
}
