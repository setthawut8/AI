{
  "nbformat": 4,
  "nbformat_minor": 0,
  "metadata": {
    "colab": {
      "name": "Feedback180_Filtering_Relevant_or_Irrelevant.ipynb",
      "provenance": [],
      "toc_visible": true,
      "machine_shape": "hm",
      "authorship_tag": "ABX9TyPQ6LdLgpytXC6cp216KmTc",
      "include_colab_link": true
    },
    "kernelspec": {
      "name": "python3",
      "display_name": "Python 3"
    },
    "language_info": {
      "name": "python"
    },
    "accelerator": "GPU",
    "gpuClass": "standard"
  },
  "cells": [
    {
      "cell_type": "markdown",
      "metadata": {
        "id": "view-in-github",
        "colab_type": "text"
      },
      "source": [
        "<a href=\"https://colab.research.google.com/github/setthawut8/ai/blob/main/%5BBinary%20Text%20Classification%5D%20downsampling_bert\" target=\"_parent\"><img src=\"https://colab.research.google.com/assets/colab-badge.svg\" alt=\"Open In Colab\"/></a>"
      ]
    },
    {
      "cell_type": "markdown",
      "source": [
        "Inspiration: https://youtu.be/hOCDJyZ6quA"
      ],
      "metadata": {
        "id": "nXzCIKdlHdF1"
      }
    },
    {
      "cell_type": "markdown",
      "source": [
        "#Library and Installation"
      ],
      "metadata": {
        "id": "3E-gbs9GfpqW"
      }
    },
    {
      "cell_type": "code",
      "execution_count": null,
      "metadata": {
        "id": "LWSIHhQyasto"
      },
      "outputs": [],
      "source": [
        "!pip install fairseq\n",
        "!pip install pythainlp\n",
        "!pip install sacremoses\n",
        "!pip install transformers\n",
        "!pip install sentencepiece\n",
        "!pip install tensorflow-text\n",
        "!gdown --id xx",
        "!gdown --id xx"
      ]
    },
    {
      "cell_type": "code",
      "source": [
        "import numpy as np\n",
        "import pandas as pd\n",
        "import seaborn as sns\n",
        "from matplotlib import pyplot as plt\n",
        "\n",
        "import tensorflow as tf\n",
        "import tensorflow_hub as hub\n",
        "import tensorflow_text as text\n",
        "\n",
        "from pythainlp.translate import Translate\n",
        "\n",
        "\n",
        "from sklearn.model_selection import train_test_split\n",
        "from sklearn.metrics.pairwise import cosine_similarity\n",
        "from sklearn.metrics import confusion_matrix, classification_report"
      ],
      "metadata": {
        "id": "Z3EeLvwgf8bz"
      },
      "execution_count": 97,
      "outputs": []
    },
    {
      "cell_type": "code",
      "source": [
        "train = pd.read_excel('/content/SET_Filtering_preprocessed_train_sampling1898_20220622.xlsx', engine='openpyxl')\n",
        "test = pd.read_excel('/content/SET_Filtering_preprocessed_test_sampling335_20220622.xlsx', engine='openpyxl')"
      ],
      "metadata": {
        "id": "mYoz2DNKfsXD"
      },
      "execution_count": 2,
      "outputs": []
    },
    {
      "cell_type": "code",
      "source": [
        "train.head(2)"
      ],
      "metadata": {
        "colab": {
          "base_uri": "https://localhost:8080/",
          "height": 112
        },
        "id": "Q9CZgU9zme8G",
        "outputId": "9057a084-919a-496c-878a-4c26518c0151"
      },
      "execution_count": 3,
      "outputs": [
        {
          "output_type": "execute_result",
          "data": {
            "text/plain": [
              "                       verbatim_id  \\\n",
              "0  524121789376412_397916622205355   \n",
              "1              1520537844074577921   \n",
              "\n",
              "                                            verbatim Filtering  \\\n",
              "0  กำไร bitkub ดีต่อหุ้นของ bitkub ไม่ใช่เหรียญ k...  Relevant   \n",
              "1  HUG available at @foundation!  Reserve price 0...  Relevant   \n",
              "\n",
              "                                       Text_ws_local  \n",
              "0  กำไร| |bitkub| |ดี|ต่อ|หุ้น|ของ| |bitkub| |ไม่...  \n",
              "1  hug| |available| |at| |friendtag| |reserve| |p...  "
            ],
            "text/html": [
              "\n",
              "  <div id=\"df-7ed6e421-1f11-4d27-a319-43905b3f5e60\">\n",
              "    <div class=\"colab-df-container\">\n",
              "      <div>\n",
              "<style scoped>\n",
              "    .dataframe tbody tr th:only-of-type {\n",
              "        vertical-align: middle;\n",
              "    }\n",
              "\n",
              "    .dataframe tbody tr th {\n",
              "        vertical-align: top;\n",
              "    }\n",
              "\n",
              "    .dataframe thead th {\n",
              "        text-align: right;\n",
              "    }\n",
              "</style>\n",
              "<table border=\"1\" class=\"dataframe\">\n",
              "  <thead>\n",
              "    <tr style=\"text-align: right;\">\n",
              "      <th></th>\n",
              "      <th>verbatim_id</th>\n",
              "      <th>verbatim</th>\n",
              "      <th>Filtering</th>\n",
              "      <th>Text_ws_local</th>\n",
              "    </tr>\n",
              "  </thead>\n",
              "  <tbody>\n",
              "    <tr>\n",
              "      <th>0</th>\n",
              "      <td>524121789376412_397916622205355</td>\n",
              "      <td>กำไร bitkub ดีต่อหุ้นของ bitkub ไม่ใช่เหรียญ k...</td>\n",
              "      <td>Relevant</td>\n",
              "      <td>กำไร| |bitkub| |ดี|ต่อ|หุ้น|ของ| |bitkub| |ไม่...</td>\n",
              "    </tr>\n",
              "    <tr>\n",
              "      <th>1</th>\n",
              "      <td>1520537844074577921</td>\n",
              "      <td>HUG available at @foundation!  Reserve price 0...</td>\n",
              "      <td>Relevant</td>\n",
              "      <td>hug| |available| |at| |friendtag| |reserve| |p...</td>\n",
              "    </tr>\n",
              "  </tbody>\n",
              "</table>\n",
              "</div>\n",
              "      <button class=\"colab-df-convert\" onclick=\"convertToInteractive('df-7ed6e421-1f11-4d27-a319-43905b3f5e60')\"\n",
              "              title=\"Convert this dataframe to an interactive table.\"\n",
              "              style=\"display:none;\">\n",
              "        \n",
              "  <svg xmlns=\"http://www.w3.org/2000/svg\" height=\"24px\"viewBox=\"0 0 24 24\"\n",
              "       width=\"24px\">\n",
              "    <path d=\"M0 0h24v24H0V0z\" fill=\"none\"/>\n",
              "    <path d=\"M18.56 5.44l.94 2.06.94-2.06 2.06-.94-2.06-.94-.94-2.06-.94 2.06-2.06.94zm-11 1L8.5 8.5l.94-2.06 2.06-.94-2.06-.94L8.5 2.5l-.94 2.06-2.06.94zm10 10l.94 2.06.94-2.06 2.06-.94-2.06-.94-.94-2.06-.94 2.06-2.06.94z\"/><path d=\"M17.41 7.96l-1.37-1.37c-.4-.4-.92-.59-1.43-.59-.52 0-1.04.2-1.43.59L10.3 9.45l-7.72 7.72c-.78.78-.78 2.05 0 2.83L4 21.41c.39.39.9.59 1.41.59.51 0 1.02-.2 1.41-.59l7.78-7.78 2.81-2.81c.8-.78.8-2.07 0-2.86zM5.41 20L4 18.59l7.72-7.72 1.47 1.35L5.41 20z\"/>\n",
              "  </svg>\n",
              "      </button>\n",
              "      \n",
              "  <style>\n",
              "    .colab-df-container {\n",
              "      display:flex;\n",
              "      flex-wrap:wrap;\n",
              "      gap: 12px;\n",
              "    }\n",
              "\n",
              "    .colab-df-convert {\n",
              "      background-color: #E8F0FE;\n",
              "      border: none;\n",
              "      border-radius: 50%;\n",
              "      cursor: pointer;\n",
              "      display: none;\n",
              "      fill: #1967D2;\n",
              "      height: 32px;\n",
              "      padding: 0 0 0 0;\n",
              "      width: 32px;\n",
              "    }\n",
              "\n",
              "    .colab-df-convert:hover {\n",
              "      background-color: #E2EBFA;\n",
              "      box-shadow: 0px 1px 2px rgba(60, 64, 67, 0.3), 0px 1px 3px 1px rgba(60, 64, 67, 0.15);\n",
              "      fill: #174EA6;\n",
              "    }\n",
              "\n",
              "    [theme=dark] .colab-df-convert {\n",
              "      background-color: #3B4455;\n",
              "      fill: #D2E3FC;\n",
              "    }\n",
              "\n",
              "    [theme=dark] .colab-df-convert:hover {\n",
              "      background-color: #434B5C;\n",
              "      box-shadow: 0px 1px 3px 1px rgba(0, 0, 0, 0.15);\n",
              "      filter: drop-shadow(0px 1px 2px rgba(0, 0, 0, 0.3));\n",
              "      fill: #FFFFFF;\n",
              "    }\n",
              "  </style>\n",
              "\n",
              "      <script>\n",
              "        const buttonEl =\n",
              "          document.querySelector('#df-7ed6e421-1f11-4d27-a319-43905b3f5e60 button.colab-df-convert');\n",
              "        buttonEl.style.display =\n",
              "          google.colab.kernel.accessAllowed ? 'block' : 'none';\n",
              "\n",
              "        async function convertToInteractive(key) {\n",
              "          const element = document.querySelector('#df-7ed6e421-1f11-4d27-a319-43905b3f5e60');\n",
              "          const dataTable =\n",
              "            await google.colab.kernel.invokeFunction('convertToInteractive',\n",
              "                                                     [key], {});\n",
              "          if (!dataTable) return;\n",
              "\n",
              "          const docLinkHtml = 'Like what you see? Visit the ' +\n",
              "            '<a target=\"_blank\" href=https://colab.research.google.com/notebooks/data_table.ipynb>data table notebook</a>'\n",
              "            + ' to learn more about interactive tables.';\n",
              "          element.innerHTML = '';\n",
              "          dataTable['output_type'] = 'display_data';\n",
              "          await google.colab.output.renderOutput(dataTable, element);\n",
              "          const docLink = document.createElement('div');\n",
              "          docLink.innerHTML = docLinkHtml;\n",
              "          element.appendChild(docLink);\n",
              "        }\n",
              "      </script>\n",
              "    </div>\n",
              "  </div>\n",
              "  "
            ]
          },
          "metadata": {},
          "execution_count": 3
        }
      ]
    },
    {
      "cell_type": "markdown",
      "source": [
        "#EDA"
      ],
      "metadata": {
        "id": "npYT6OzGfur1"
      }
    },
    {
      "cell_type": "code",
      "source": [
        "train.info()"
      ],
      "metadata": {
        "colab": {
          "base_uri": "https://localhost:8080/"
        },
        "id": "YotMOqJVft3f",
        "outputId": "7e84739b-dc43-4ad4-99e1-9d0880cdfb14"
      },
      "execution_count": 4,
      "outputs": [
        {
          "output_type": "stream",
          "name": "stdout",
          "text": [
            "<class 'pandas.core.frame.DataFrame'>\n",
            "RangeIndex: 1898 entries, 0 to 1897\n",
            "Data columns (total 4 columns):\n",
            " #   Column         Non-Null Count  Dtype \n",
            "---  ------         --------------  ----- \n",
            " 0   verbatim_id    1898 non-null   object\n",
            " 1   verbatim       1898 non-null   object\n",
            " 2   Filtering      1898 non-null   object\n",
            " 3   Text_ws_local  1898 non-null   object\n",
            "dtypes: object(4)\n",
            "memory usage: 59.4+ KB\n"
          ]
        }
      ]
    },
    {
      "cell_type": "code",
      "source": [
        "test.info()"
      ],
      "metadata": {
        "colab": {
          "base_uri": "https://localhost:8080/"
        },
        "id": "7A7p0HIUlxHh",
        "outputId": "e181d451-99be-4c5e-e471-0326c94200d5"
      },
      "execution_count": 5,
      "outputs": [
        {
          "output_type": "stream",
          "name": "stdout",
          "text": [
            "<class 'pandas.core.frame.DataFrame'>\n",
            "RangeIndex: 335 entries, 0 to 334\n",
            "Data columns (total 4 columns):\n",
            " #   Column         Non-Null Count  Dtype \n",
            "---  ------         --------------  ----- \n",
            " 0   verbatim_id    335 non-null    object\n",
            " 1   verbatim       335 non-null    object\n",
            " 2   Filtering      335 non-null    object\n",
            " 3   Text_ws_local  335 non-null    object\n",
            "dtypes: object(4)\n",
            "memory usage: 10.6+ KB\n"
          ]
        }
      ]
    },
    {
      "cell_type": "code",
      "source": [
        "train['Filtering'].value_counts().sort_values(ascending=False).plot(kind='bar',grid=True)"
      ],
      "metadata": {
        "colab": {
          "base_uri": "https://localhost:8080/",
          "height": 334
        },
        "id": "ECrfQhkn8lxo",
        "outputId": "b8085447-6471-4385-9731-314b6fd3ecb1"
      },
      "execution_count": 15,
      "outputs": [
        {
          "output_type": "execute_result",
          "data": {
            "text/plain": [
              "<matplotlib.axes._subplots.AxesSubplot at 0x7ff3a56fcbd0>"
            ]
          },
          "metadata": {},
          "execution_count": 15
        },
        {
          "output_type": "display_data",
          "data": {
            "text/plain": [
              "<Figure size 432x288 with 1 Axes>"
            ],
            "image/png": "[encoded data removed]"
          },
          "metadata": {
            "needs_background": "light"
          }
        }
      ]
    },
    {
      "cell_type": "markdown",
      "source": [
        "##Downsampling"
      ],
      "metadata": {
        "id": "iI5yLdRvmZM2"
      }
    },
    {
      "cell_type": "code",
      "source": [
        "df_relevant = train[train['Filtering']=='Relevant'] \n",
        "df_irrelevant = train[train['Filtering']=='Not relevant']"
      ],
      "metadata": {
        "id": "RxoI7_9Q759v"
      },
      "execution_count": 12,
      "outputs": []
    },
    {
      "cell_type": "code",
      "source": [
        "print(train['Filtering'].value_counts())\n",
        "print(df_relevant.shape, df_irrelevant.shape)\n",
        "df_relevant_downsampled = df_relevant.sample(df_irrelevant.shape[0])\n",
        "print(df_relevant_downsampled.shape)"
      ],
      "metadata": {
        "colab": {
          "base_uri": "https://localhost:8080/"
        },
        "id": "ZfFMEJ2e8KPF",
        "outputId": "114376e7-1b29-4e5e-ecef-5eab81585185"
      },
      "execution_count": 14,
      "outputs": [
        {
          "output_type": "stream",
          "name": "stdout",
          "text": [
            "Relevant        1215\n",
            "Not relevant     683\n",
            "Name: Filtering, dtype: int64\n",
            "(1215, 4) (683, 4)\n"
          ]
        }
      ]
    },
    {
      "cell_type": "code",
      "source": [
        "df_balanced = pd.concat([df_irrelevant, df_relevant_downsampled])\n",
        "print(df_balanced['Filtering'].value_counts())\n",
        "df_balanced['relevant'] = df_balanced['Filtering'].apply(lambda x: 1 if x =='Relevant' else 0)\n",
        "df_balanced.sample(10)"
      ],
      "metadata": {
        "colab": {
          "base_uri": "https://localhost:8080/",
          "height": 632
        },
        "id": "2UuhQ1Jf9G6N",
        "outputId": "29245652-3645-4404-96f5-0e604ba6aa46"
      },
      "execution_count": 24,
      "outputs": [
        {
          "output_type": "stream",
          "name": "stdout",
          "text": [
            "Not relevant    683\n",
            "Relevant        683\n",
            "Name: Filtering, dtype: int64\n"
          ]
        },
        {
          "output_type": "execute_result",
          "data": {
            "text/plain": [
              "                                   verbatim_id  \\\n",
              "1343         4ff6dfc17352edc30b6d9cb97c375000_   \n",
              "517                        1521726711456759809   \n",
              "89            287839984997170_1435667773547713   \n",
              "995           128368057282830_4956857507767170   \n",
              "1158          567755971375910_3143197902596379   \n",
              "943          10160503654928291_410947210869406   \n",
              "273                        1521169152194805760   \n",
              "467          d6fb59489421bf8c14061a334dfa9e23_   \n",
              "1676          261923537346273_2056811684524107   \n",
              "289   2960813594_CdBQc6toZkT_18016630801385562   \n",
              "\n",
              "                                               verbatim     Filtering  \\\n",
              "1343  อุตสาหกรรมประสานเสียงตอบรับเห็นด้วย มีเพียงเอไ...  Not relevant   \n",
              "517   ไม่อยากได้nft อยากได้ 10fight10 BNK48 55555555...  Not relevant   \n",
              "89    ในโอกาสที่เราจะเปิดใช้งานระบบ ก็ต้องแจก NFT กั...      Relevant   \n",
              "995   #เปิดรับสมัครแล้ว ========================== #...  Not relevant   \n",
              "1158              Bitkub ต่างจาก binance ตรงไหนบ้างครับ      Relevant   \n",
              "943   อันนี้ประกาศจากทาง Bitkub  หัวข้อ  กรณีคณะกรรม...      Relevant   \n",
              "273   #เหรินเจียหลุน​ [นักลงทุนผู้เปล่งประกาย​ ตอนที...  Not relevant   \n",
              "467   ดัชนีและภาวะตลาดหุ้น น้ำมัน ทองคำ และตลาดเงินต...      Relevant   \n",
              "1676  กองทุน K-VIETNAM-RMF ✅เป็นอีกทางเลือกสำหรับผู้...      Relevant   \n",
              "289   Do you know that you can start earning $25,000...      Relevant   \n",
              "\n",
              "                                          Text_ws_local  relevant  \n",
              "1343  อุตสาหกรรม|ประสานเสียง|ตอบรับ|เห็นด้วย| |มี|เพ...         0  \n",
              "517   ไม่|อยากได้| |nft| |อยากได้| |10|fight|10| |bn...         0  \n",
              "89    ใน|โอกาส|ที่|เรา|จะ|เปิด|ใช้งาน|ระบบ| |ก็|ต้อง...         1  \n",
              "995   เปิด|รับสมัคร|แล้ว| |คอร์ส| |online| |รุ่น| |6...         0  \n",
              "1158     bitkub| |ต่าง|จาก| |binance| |ตรงไหน|บ้าง|ครับ         1  \n",
              "943   อันนี้|ประกาศ|จาก|ทาง| |bitkub| |หัวข้อ| |กรณี...         1  \n",
              "273   เห|ริน|เจียห|ลุ|น| |นักลงทุน|ผู้|เปล่งประกาย| ...         0  \n",
              "467   ดัชนี|และ|ภาวะ|ตลาดหุ้น| |น้ำมัน| |ทองคำ| |และ...         1  \n",
              "1676  กองทุน| |k-vietnam-rmf| |เป็น|อีก|ทางเลือก|สำห...         1  \n",
              "289   do| |you| |know| |that| |you| |can| |start| |e...         1  "
            ],
            "text/html": [
              "\n",
              "  <div id=\"df-54c5db40-ea60-4db9-9f82-6dbdd8c0b31b\">\n",
              "    <div class=\"colab-df-container\">\n",
              "      <div>\n",
              "<style scoped>\n",
              "    .dataframe tbody tr th:only-of-type {\n",
              "        vertical-align: middle;\n",
              "    }\n",
              "\n",
              "    .dataframe tbody tr th {\n",
              "        vertical-align: top;\n",
              "    }\n",
              "\n",
              "    .dataframe thead th {\n",
              "        text-align: right;\n",
              "    }\n",
              "</style>\n",
              "<table border=\"1\" class=\"dataframe\">\n",
              "  <thead>\n",
              "    <tr style=\"text-align: right;\">\n",
              "      <th></th>\n",
              "      <th>verbatim_id</th>\n",
              "      <th>verbatim</th>\n",
              "      <th>Filtering</th>\n",
              "      <th>Text_ws_local</th>\n",
              "      <th>relevant</th>\n",
              "    </tr>\n",
              "  </thead>\n",
              "  <tbody>\n",
              "    <tr>\n",
              "      <th>1343</th>\n",
              "      <td>4ff6dfc17352edc30b6d9cb97c375000_</td>\n",
              "      <td>อุตสาหกรรมประสานเสียงตอบรับเห็นด้วย มีเพียงเอไ...</td>\n",
              "      <td>Not relevant</td>\n",
              "      <td>อุตสาหกรรม|ประสานเสียง|ตอบรับ|เห็นด้วย| |มี|เพ...</td>\n",
              "      <td>0</td>\n",
              "    </tr>\n",
              "    <tr>\n",
              "      <th>517</th>\n",
              "      <td>1521726711456759809</td>\n",
              "      <td>ไม่อยากได้nft อยากได้ 10fight10 BNK48 55555555...</td>\n",
              "      <td>Not relevant</td>\n",
              "      <td>ไม่|อยากได้| |nft| |อยากได้| |10|fight|10| |bn...</td>\n",
              "      <td>0</td>\n",
              "    </tr>\n",
              "    <tr>\n",
              "      <th>89</th>\n",
              "      <td>287839984997170_1435667773547713</td>\n",
              "      <td>ในโอกาสที่เราจะเปิดใช้งานระบบ ก็ต้องแจก NFT กั...</td>\n",
              "      <td>Relevant</td>\n",
              "      <td>ใน|โอกาส|ที่|เรา|จะ|เปิด|ใช้งาน|ระบบ| |ก็|ต้อง...</td>\n",
              "      <td>1</td>\n",
              "    </tr>\n",
              "    <tr>\n",
              "      <th>995</th>\n",
              "      <td>128368057282830_4956857507767170</td>\n",
              "      <td>#เปิดรับสมัครแล้ว ========================== #...</td>\n",
              "      <td>Not relevant</td>\n",
              "      <td>เปิด|รับสมัคร|แล้ว| |คอร์ส| |online| |รุ่น| |6...</td>\n",
              "      <td>0</td>\n",
              "    </tr>\n",
              "    <tr>\n",
              "      <th>1158</th>\n",
              "      <td>567755971375910_3143197902596379</td>\n",
              "      <td>Bitkub ต่างจาก binance ตรงไหนบ้างครับ</td>\n",
              "      <td>Relevant</td>\n",
              "      <td>bitkub| |ต่าง|จาก| |binance| |ตรงไหน|บ้าง|ครับ</td>\n",
              "      <td>1</td>\n",
              "    </tr>\n",
              "    <tr>\n",
              "      <th>943</th>\n",
              "      <td>10160503654928291_410947210869406</td>\n",
              "      <td>อันนี้ประกาศจากทาง Bitkub  หัวข้อ  กรณีคณะกรรม...</td>\n",
              "      <td>Relevant</td>\n",
              "      <td>อันนี้|ประกาศ|จาก|ทาง| |bitkub| |หัวข้อ| |กรณี...</td>\n",
              "      <td>1</td>\n",
              "    </tr>\n",
              "    <tr>\n",
              "      <th>273</th>\n",
              "      <td>1521169152194805760</td>\n",
              "      <td>#เหรินเจียหลุน​ [นักลงทุนผู้เปล่งประกาย​ ตอนที...</td>\n",
              "      <td>Not relevant</td>\n",
              "      <td>เห|ริน|เจียห|ลุ|น| |นักลงทุน|ผู้|เปล่งประกาย| ...</td>\n",
              "      <td>0</td>\n",
              "    </tr>\n",
              "    <tr>\n",
              "      <th>467</th>\n",
              "      <td>d6fb59489421bf8c14061a334dfa9e23_</td>\n",
              "      <td>ดัชนีและภาวะตลาดหุ้น น้ำมัน ทองคำ และตลาดเงินต...</td>\n",
              "      <td>Relevant</td>\n",
              "      <td>ดัชนี|และ|ภาวะ|ตลาดหุ้น| |น้ำมัน| |ทองคำ| |และ...</td>\n",
              "      <td>1</td>\n",
              "    </tr>\n",
              "    <tr>\n",
              "      <th>1676</th>\n",
              "      <td>261923537346273_2056811684524107</td>\n",
              "      <td>กองทุน K-VIETNAM-RMF ✅เป็นอีกทางเลือกสำหรับผู้...</td>\n",
              "      <td>Relevant</td>\n",
              "      <td>กองทุน| |k-vietnam-rmf| |เป็น|อีก|ทางเลือก|สำห...</td>\n",
              "      <td>1</td>\n",
              "    </tr>\n",
              "    <tr>\n",
              "      <th>289</th>\n",
              "      <td>2960813594_CdBQc6toZkT_18016630801385562</td>\n",
              "      <td>Do you know that you can start earning $25,000...</td>\n",
              "      <td>Relevant</td>\n",
              "      <td>do| |you| |know| |that| |you| |can| |start| |e...</td>\n",
              "      <td>1</td>\n",
              "    </tr>\n",
              "  </tbody>\n",
              "</table>\n",
              "</div>\n",
              "      <button class=\"colab-df-convert\" onclick=\"convertToInteractive('df-54c5db40-ea60-4db9-9f82-6dbdd8c0b31b')\"\n",
              "              title=\"Convert this dataframe to an interactive table.\"\n",
              "              style=\"display:none;\">\n",
              "        \n",
              "  <svg xmlns=\"http://www.w3.org/2000/svg\" height=\"24px\"viewBox=\"0 0 24 24\"\n",
              "       width=\"24px\">\n",
              "    <path d=\"M0 0h24v24H0V0z\" fill=\"none\"/>\n",
              "    <path d=\"M18.56 5.44l.94 2.06.94-2.06 2.06-.94-2.06-.94-.94-2.06-.94 2.06-2.06.94zm-11 1L8.5 8.5l.94-2.06 2.06-.94-2.06-.94L8.5 2.5l-.94 2.06-2.06.94zm10 10l.94 2.06.94-2.06 2.06-.94-2.06-.94-.94-2.06-.94 2.06-2.06.94z\"/><path d=\"M17.41 7.96l-1.37-1.37c-.4-.4-.92-.59-1.43-.59-.52 0-1.04.2-1.43.59L10.3 9.45l-7.72 7.72c-.78.78-.78 2.05 0 2.83L4 21.41c.39.39.9.59 1.41.59.51 0 1.02-.2 1.41-.59l7.78-7.78 2.81-2.81c.8-.78.8-2.07 0-2.86zM5.41 20L4 18.59l7.72-7.72 1.47 1.35L5.41 20z\"/>\n",
              "  </svg>\n",
              "      </button>\n",
              "      \n",
              "  <style>\n",
              "    .colab-df-container {\n",
              "      display:flex;\n",
              "      flex-wrap:wrap;\n",
              "      gap: 12px;\n",
              "    }\n",
              "\n",
              "    .colab-df-convert {\n",
              "      background-color: #E8F0FE;\n",
              "      border: none;\n",
              "      border-radius: 50%;\n",
              "      cursor: pointer;\n",
              "      display: none;\n",
              "      fill: #1967D2;\n",
              "      height: 32px;\n",
              "      padding: 0 0 0 0;\n",
              "      width: 32px;\n",
              "    }\n",
              "\n",
              "    .colab-df-convert:hover {\n",
              "      background-color: #E2EBFA;\n",
              "      box-shadow: 0px 1px 2px rgba(60, 64, 67, 0.3), 0px 1px 3px 1px rgba(60, 64, 67, 0.15);\n",
              "      fill: #174EA6;\n",
              "    }\n",
              "\n",
              "    [theme=dark] .colab-df-convert {\n",
              "      background-color: #3B4455;\n",
              "      fill: #D2E3FC;\n",
              "    }\n",
              "\n",
              "    [theme=dark] .colab-df-convert:hover {\n",
              "      background-color: #434B5C;\n",
              "      box-shadow: 0px 1px 3px 1px rgba(0, 0, 0, 0.15);\n",
              "      filter: drop-shadow(0px 1px 2px rgba(0, 0, 0, 0.3));\n",
              "      fill: #FFFFFF;\n",
              "    }\n",
              "  </style>\n",
              "\n",
              "      <script>\n",
              "        const buttonEl =\n",
              "          document.querySelector('#df-54c5db40-ea60-4db9-9f82-6dbdd8c0b31b button.colab-df-convert');\n",
              "        buttonEl.style.display =\n",
              "          google.colab.kernel.accessAllowed ? 'block' : 'none';\n",
              "\n",
              "        async function convertToInteractive(key) {\n",
              "          const element = document.querySelector('#df-54c5db40-ea60-4db9-9f82-6dbdd8c0b31b');\n",
              "          const dataTable =\n",
              "            await google.colab.kernel.invokeFunction('convertToInteractive',\n",
              "                                                     [key], {});\n",
              "          if (!dataTable) return;\n",
              "\n",
              "          const docLinkHtml = 'Like what you see? Visit the ' +\n",
              "            '<a target=\"_blank\" href=https://colab.research.google.com/notebooks/data_table.ipynb>data table notebook</a>'\n",
              "            + ' to learn more about interactive tables.';\n",
              "          element.innerHTML = '';\n",
              "          dataTable['output_type'] = 'display_data';\n",
              "          await google.colab.output.renderOutput(dataTable, element);\n",
              "          const docLink = document.createElement('div');\n",
              "          docLink.innerHTML = docLinkHtml;\n",
              "          element.appendChild(docLink);\n",
              "        }\n",
              "      </script>\n",
              "    </div>\n",
              "  </div>\n",
              "  "
            ]
          },
          "metadata": {},
          "execution_count": 24
        }
      ]
    },
    {
      "cell_type": "code",
      "source": [
        "###Aimming to translate thai to eng first\n",
        "# th2en = Translate('th','en')\n",
        "# th2en.translate(df_balanced['verbatim'].loc[517])"
      ],
      "metadata": {
        "id": "gRvLQZ-4G6tJ"
      },
      "execution_count": 72,
      "outputs": []
    },
    {
      "cell_type": "code",
      "source": [
        "df_balanced['verbatim_en'] = "
      ],
      "metadata": {
        "id": "6xRV5WeeF7he"
      },
      "execution_count": null,
      "outputs": []
    },
    {
      "cell_type": "code",
      "source": [
        "X_train, X_test, y_train, y_test = train_test_split(df_balanced['verbatim'], df_balanced['relevant'], stratify=df_balanced['relevant'])"
      ],
      "metadata": {
        "id": "GCGVk0qS9-t8"
      },
      "execution_count": 28,
      "outputs": []
    },
    {
      "cell_type": "markdown",
      "source": [
        "#Model"
      ],
      "metadata": {
        "id": "5Xwvd0frfvh5"
      }
    },
    {
      "cell_type": "code",
      "source": [
        "txt1 = df_balanced['verbatim'].loc[1343]\n",
        "txt2 = df_balanced['verbatim'].loc[517]\n",
        "get_sentence_embedding([txt1,txt2])"
      ],
      "metadata": {
        "id": "BfWcu6XdCUsE"
      },
      "execution_count": 50,
      "outputs": []
    },
    {
      "cell_type": "code",
      "source": [
        "e = get_sentence_embedding([\n",
        "                            \"กล้วย\",\n",
        "                            \"องุ่น\",\n",
        "                            \"มะม่วง\",\n",
        "                            \"เจฟ เบซอส\",\n",
        "                            \"อีรอน มัคส์\",\n",
        "                            \"บิล เกตต์\",\n",
        "])\n",
        "cosine_similarity([e[0]],[e[2]])"
      ],
      "metadata": {
        "id": "VuORGxfiCael"
      },
      "execution_count": 51,
      "outputs": []
    },
    {
      "cell_type": "code",
      "source": [
        "bert_preprocess = hub.KerasLayer(\"https://tfhub.dev/tensorflow/bert_en_uncased_preprocess/3\")\n",
        "bert_encoder = hub.KerasLayer(\"https://tfhub.dev/tensorflow/bert_en_uncased_L-12_H-768_A-12/4\")"
      ],
      "metadata": {
        "id": "TV88nJGAAPYz"
      },
      "execution_count": 29,
      "outputs": []
    },
    {
      "cell_type": "code",
      "source": [
        "def get_sentence_embedding(sentences):\n",
        "  preprocessed_text = bert_preprocess(sentences)\n",
        "  return bert_encoder(preprocessed_text)['pooled_output']"
      ],
      "metadata": {
        "id": "FXhRA71P7L95"
      },
      "execution_count": 48,
      "outputs": []
    },
    {
      "cell_type": "code",
      "source": [
        "#Bert Layer\n",
        "text_input = tf.keras.layers.Input(shape=(), dtype=tf.string, name='text')\n",
        "preprocessed_text = bert_preprocess(text_input)\n",
        "outputs = bert_encoder(preprocessed_text)\n",
        "\n",
        "#Neural Network Layers\n",
        "l = tf.keras.layers.Dropout(0.1, name='dropout')(outputs['pooled_output'])\n",
        "l = tf.keras.layers.Dense(1, activation='sigmoid',name='output')(l)\n",
        "\n",
        "#construcut a final model\n",
        "model = tf.keras.Model(inputs=[text_input], outputs=[l])"
      ],
      "metadata": {
        "id": "kqwjMopNDCql"
      },
      "execution_count": 81,
      "outputs": []
    },
    {
      "cell_type": "code",
      "source": [
        "model.summary()"
      ],
      "metadata": {
        "colab": {
          "base_uri": "https://localhost:8080/"
        },
        "id": "Fhcbx4HxEzO6",
        "outputId": "57a2c24b-13b9-4609-ef81-ee5c3c1e52fc"
      },
      "execution_count": 82,
      "outputs": [
        {
          "output_type": "stream",
          "name": "stdout",
          "text": [
            "Model: \"model_1\"\n",
            "__________________________________________________________________________________________________\n",
            " Layer (type)                   Output Shape         Param #     Connected to                     \n",
            "==================================================================================================\n",
            " text (InputLayer)              [(None,)]            0           []                               \n",
            "                                                                                                  \n",
            " keras_layer_2 (KerasLayer)     {'input_type_ids':   0           ['text[0][0]']                   \n",
            "                                (None, 128),                                                      \n",
            "                                 'input_mask': (Non                                               \n",
            "                                e, 128),                                                          \n",
            "                                 'input_word_ids':                                                \n",
            "                                (None, 128)}                                                      \n",
            "                                                                                                  \n",
            " keras_layer_3 (KerasLayer)     {'pooled_output': (  109482241   ['keras_layer_2[4][0]',          \n",
            "                                None, 768),                       'keras_layer_2[4][1]',          \n",
            "                                 'encoder_outputs':               'keras_layer_2[4][2]']          \n",
            "                                 [(None, 128, 768),                                               \n",
            "                                 (None, 128, 768),                                                \n",
            "                                 (None, 128, 768),                                                \n",
            "                                 (None, 128, 768),                                                \n",
            "                                 (None, 128, 768),                                                \n",
            "                                 (None, 128, 768),                                                \n",
            "                                 (None, 128, 768),                                                \n",
            "                                 (None, 128, 768),                                                \n",
            "                                 (None, 128, 768),                                                \n",
            "                                 (None, 128, 768),                                                \n",
            "                                 (None, 128, 768),                                                \n",
            "                                 (None, 128, 768)],                                               \n",
            "                                 'sequence_output':                                               \n",
            "                                 (None, 128, 768),                                                \n",
            "                                 'default': (None,                                                \n",
            "                                768)}                                                             \n",
            "                                                                                                  \n",
            " dropout (Dropout)              (None, 768)          0           ['keras_layer_3[4][13]']         \n",
            "                                                                                                  \n",
            " output (Dense)                 (None, 1)            769         ['dropout[0][0]']                \n",
            "                                                                                                  \n",
            "==================================================================================================\n",
            "Total params: 109,483,010\n",
            "Trainable params: 769\n",
            "Non-trainable params: 109,482,241\n",
            "__________________________________________________________________________________________________\n"
          ]
        }
      ]
    },
    {
      "cell_type": "code",
      "source": [
        "METRICS = [\n",
        "           tf.keras.metrics.BinaryAccuracy(name='accuracy'),\n",
        "           tf.keras.metrics.Precision(name='precision'),\n",
        "           tf.keras.metrics.Recall(name='recall')\n",
        "]\n",
        "\n",
        "model.compile(optimizer='adam',\n",
        "              loss='binary_crossentropy',\n",
        "              metrics=METRICS\n",
        "              )"
      ],
      "metadata": {
        "id": "vRvgmJGOJ0d4"
      },
      "execution_count": 83,
      "outputs": []
    },
    {
      "cell_type": "code",
      "source": [
        "model.fit(X_train, y_train, epochs=10)"
      ],
      "metadata": {
        "colab": {
          "base_uri": "https://localhost:8080/"
        },
        "id": "okvRgDPEKgYB",
        "outputId": "2f2f4f82-a2f5-4670-946a-90526259de1c"
      },
      "execution_count": 84,
      "outputs": [
        {
          "output_type": "stream",
          "name": "stdout",
          "text": [
            "Epoch 1/10\n",
            "32/32 [==============================] - 20s 258ms/step - loss: 0.6996 - accuracy: 0.5557 - precision: 0.5529 - recall: 0.5820\n",
            "Epoch 2/10\n",
            "32/32 [==============================] - 8s 238ms/step - loss: 0.7105 - accuracy: 0.5312 - precision: 0.5335 - recall: 0.4980\n",
            "Epoch 3/10\n",
            "32/32 [==============================] - 8s 254ms/step - loss: 0.6704 - accuracy: 0.5791 - precision: 0.5692 - recall: 0.6504\n",
            "Epoch 4/10\n",
            "32/32 [==============================] - 9s 264ms/step - loss: 0.6758 - accuracy: 0.5781 - precision: 0.5766 - recall: 0.5879\n",
            "Epoch 5/10\n",
            "32/32 [==============================] - 8s 250ms/step - loss: 0.6631 - accuracy: 0.6045 - precision: 0.6103 - recall: 0.5781\n",
            "Epoch 6/10\n",
            "32/32 [==============================] - 8s 251ms/step - loss: 0.6538 - accuracy: 0.6338 - precision: 0.6179 - recall: 0.7012\n",
            "Epoch 7/10\n",
            "32/32 [==============================] - 8s 248ms/step - loss: 0.6429 - accuracy: 0.6562 - precision: 0.6527 - recall: 0.6680\n",
            "Epoch 8/10\n",
            "32/32 [==============================] - 8s 237ms/step - loss: 0.6330 - accuracy: 0.6543 - precision: 0.6436 - recall: 0.6914\n",
            "Epoch 9/10\n",
            "32/32 [==============================] - 8s 236ms/step - loss: 0.6423 - accuracy: 0.6465 - precision: 0.6369 - recall: 0.6816\n",
            "Epoch 10/10\n",
            "32/32 [==============================] - 8s 237ms/step - loss: 0.6402 - accuracy: 0.6348 - precision: 0.6287 - recall: 0.6582\n"
          ]
        },
        {
          "output_type": "execute_result",
          "data": {
            "text/plain": [
              "<keras.callbacks.History at 0x7ff1f100b350>"
            ]
          },
          "metadata": {},
          "execution_count": 84
        }
      ]
    },
    {
      "cell_type": "code",
      "source": [
        "model.evaluate(X_test, y_test)"
      ],
      "metadata": {
        "colab": {
          "base_uri": "https://localhost:8080/"
        },
        "id": "hVPL6OesKi1b",
        "outputId": "c6263a69-e31d-4699-cbe9-8170f08bae51"
      },
      "execution_count": 85,
      "outputs": [
        {
          "output_type": "stream",
          "name": "stdout",
          "text": [
            "11/11 [==============================] - 4s 242ms/step - loss: 0.6412 - accuracy: 0.6374 - precision: 0.6516 - recall: 0.5906\n"
          ]
        },
        {
          "output_type": "execute_result",
          "data": {
            "text/plain": [
              "[0.6412084698677063,\n",
              " 0.6374269127845764,\n",
              " 0.6516128778457642,\n",
              " 0.5906432867050171]"
            ]
          },
          "metadata": {},
          "execution_count": 85
        }
      ]
    },
    {
      "cell_type": "code",
      "source": [
        "y_predicted = model.predict(X_test)\n",
        "y_predicted = y_predicted.flatten()"
      ],
      "metadata": {
        "colab": {
          "base_uri": "https://localhost:8080/"
        },
        "id": "jIJoJDtxKsMs",
        "outputId": "27f67ce6-ad37-49a5-d2c6-9385125c9a39"
      },
      "execution_count": 89,
      "outputs": [
        {
          "output_type": "stream",
          "name": "stdout",
          "text": [
            "11/11 [==============================] - 3s 243ms/step\n"
          ]
        }
      ]
    },
    {
      "cell_type": "code",
      "source": [
        "y_predicted = np.where(y_predicted > 0.5, 1, 0)\n",
        "y_predicted"
      ],
      "metadata": {
        "colab": {
          "base_uri": "https://localhost:8080/"
        },
        "id": "NAsIQa2XLIfm",
        "outputId": "0860917e-97b4-4f41-dd6e-cffc9f9c2a02"
      },
      "execution_count": 94,
      "outputs": [
        {
          "output_type": "execute_result",
          "data": {
            "text/plain": [
              "array([0, 0, 1, 1, 1, 0, 1, 0, 1, 1, 0, 1, 1, 0, 0, 0, 0, 0, 0, 1, 1, 1,\n",
              "       1, 1, 1, 0, 0, 0, 0, 1, 1, 1, 1, 1, 0, 0, 1, 1, 0, 1, 1, 1, 0, 0,\n",
              "       0, 1, 0, 0, 0, 0, 1, 0, 1, 1, 1, 1, 1, 0, 1, 0, 1, 0, 0, 1, 0, 1,\n",
              "       0, 1, 1, 0, 0, 0, 0, 0, 0, 0, 0, 0, 0, 1, 1, 0, 0, 0, 1, 1, 0, 1,\n",
              "       1, 1, 1, 0, 1, 0, 0, 0, 1, 0, 0, 0, 1, 0, 0, 0, 1, 1, 0, 1, 1, 0,\n",
              "       0, 1, 1, 0, 1, 0, 1, 0, 0, 1, 1, 1, 1, 1, 0, 1, 0, 1, 0, 0, 0, 1,\n",
              "       0, 1, 1, 0, 1, 1, 0, 0, 0, 0, 1, 0, 0, 1, 1, 1, 1, 1, 1, 1, 0, 0,\n",
              "       0, 0, 1, 0, 1, 0, 0, 0, 1, 0, 1, 1, 1, 1, 0, 0, 1, 0, 0, 0, 0, 0,\n",
              "       1, 0, 0, 1, 1, 0, 0, 0, 0, 1, 0, 0, 1, 1, 0, 0, 0, 0, 0, 1, 0, 0,\n",
              "       1, 0, 1, 0, 0, 1, 0, 0, 1, 0, 1, 0, 0, 1, 1, 1, 1, 1, 0, 0, 0, 0,\n",
              "       0, 0, 0, 0, 0, 0, 1, 0, 0, 1, 0, 1, 1, 1, 0, 0, 1, 0, 0, 1, 1, 0,\n",
              "       1, 0, 0, 1, 1, 0, 0, 0, 0, 0, 1, 1, 1, 0, 0, 0, 0, 0, 1, 1, 0, 1,\n",
              "       1, 1, 0, 0, 1, 0, 1, 1, 0, 0, 0, 0, 0, 1, 0, 0, 1, 1, 1, 1, 1, 1,\n",
              "       0, 1, 0, 1, 0, 0, 1, 1, 0, 1, 1, 0, 0, 0, 0, 0, 0, 1, 1, 0, 0, 0,\n",
              "       0, 0, 0, 0, 1, 1, 1, 0, 0, 0, 1, 0, 1, 1, 0, 0, 0, 0, 0, 1, 1, 0,\n",
              "       1, 0, 1, 1, 0, 1, 1, 0, 1, 1, 1, 1])"
            ]
          },
          "metadata": {},
          "execution_count": 94
        }
      ]
    },
    {
      "cell_type": "code",
      "source": [
        "cm = confusion_matrix(y_test, y_predicted)\n",
        "cm"
      ],
      "metadata": {
        "colab": {
          "base_uri": "https://localhost:8080/"
        },
        "id": "XFJU5DZgLqwA",
        "outputId": "9166aa38-c640-48fd-b5f4-27d509e7bb80"
      },
      "execution_count": 98,
      "outputs": [
        {
          "output_type": "execute_result",
          "data": {
            "text/plain": [
              "array([[117,  54],\n",
              "       [ 70, 101]])"
            ]
          },
          "metadata": {},
          "execution_count": 98
        }
      ]
    },
    {
      "cell_type": "code",
      "source": [
        "sns.heatmap(cm, annot=True, fmt='d')\n",
        "plt.xlabel('Predicted')\n",
        "plt.ylabel('Actual')"
      ],
      "metadata": {
        "colab": {
          "base_uri": "https://localhost:8080/",
          "height": 296
        },
        "id": "lkNICbUgLrf0",
        "outputId": "4876e1ad-79f0-4073-c231-576e7b0b8fd5"
      },
      "execution_count": 99,
      "outputs": [
        {
          "output_type": "execute_result",
          "data": {
            "text/plain": [
              "Text(33.0, 0.5, 'Actual')"
            ]
          },
          "metadata": {},
          "execution_count": 99
        },
        {
          "output_type": "display_data",
          "data": {
            "text/plain": [
              "<Figure size 432x288 with 2 Axes>"
            ],
            "image/png": "[encoded data removed]"
          },
          "metadata": {
            "needs_background": "light"
          }
        }
      ]
    },
    {
      "cell_type": "code",
      "source": [
        "print(classification_report(y_test,y_predicted))"
      ],
      "metadata": {
        "colab": {
          "base_uri": "https://localhost:8080/"
        },
        "id": "3HMGcG2FMMwZ",
        "outputId": "9272cf88-962d-4a5e-a710-7de7e96c5525"
      },
      "execution_count": 100,
      "outputs": [
        {
          "output_type": "stream",
          "name": "stdout",
          "text": [
            "              precision    recall  f1-score   support\n",
            "\n",
            "           0       0.63      0.68      0.65       171\n",
            "           1       0.65      0.59      0.62       171\n",
            "\n",
            "    accuracy                           0.64       342\n",
            "   macro avg       0.64      0.64      0.64       342\n",
            "weighted avg       0.64      0.64      0.64       342\n",
            "\n"
          ]
        }
      ]
    }
  ]
}
