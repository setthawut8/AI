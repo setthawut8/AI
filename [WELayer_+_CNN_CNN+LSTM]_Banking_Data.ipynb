{
  "nbformat": 4,
  "nbformat_minor": 0,
  "metadata": {
    "colab": {
      "name": "[WELayer + CNN/CNN+LSTM] Banking Data.ipynb",
      "provenance": [],
      "collapsed_sections": [],
      "machine_shape": "hm",
      "toc_visible": true,
      "authorship_tag": "ABX9TyNYFPx1mGmb9xxaTLfoWrSI",
      "include_colab_link": true
    },
    "kernelspec": {
      "name": "python3",
      "display_name": "Python 3"
    },
    "language_info": {
      "name": "python"
    },
    "accelerator": "GPU",
    "gpuClass": "standard"
  },
  "cells": [
    {
      "cell_type": "markdown",
      "metadata": {
        "id": "view-in-github",
        "colab_type": "text"
      },
      "source": [
        "<a href=\"https://colab.research.google.com/github/setthawut8/ai/blob/main/%5BWELayer_%2B_CNN_CNN%2BLSTM%5D_Banking_Data.ipynb\" target=\"_parent\"><img src=\"https://colab.research.google.com/assets/colab-badge.svg\" alt=\"Open In Colab\"/></a>"
      ]
    },
    {
      "cell_type": "markdown",
      "source": [
        "#Download Data and Library Installation"
      ],
      "metadata": {
        "id": "DKZejA_uh9kv"
      }
    },
    {
      "cell_type": "code",
      "execution_count": 1,
      "metadata": {
        "colab": {
          "base_uri": "https://localhost:8080/"
        },
        "id": "rY0gVkg8ahbS",
        "outputId": "489f3fc1-e146-4d85-ebb3-a9eaa859035d"
      },
      "outputs": [
        {
          "output_type": "stream",
          "name": "stdout",
          "text": [
            "/usr/local/lib/python3.7/dist-packages/gdown/cli.py:131: FutureWarning: Option `--id` was deprecated in version 4.3.1 and will be removed in 5.0. You don't need to pass it anymore to use a file ID.\n",
            "  category=FutureWarning,\n",
            "Downloading...\n",
            "From: https://drive.google.com/uc?id=1-avUDygRCGvAiPplmc6MundS_PpnohRv\n",
            "To: /content/preprocessed_v1_socialfsi_single_train_sampling12150_20220701.xlsx\n",
            "100% 3.87M/3.87M [00:00<00:00, 282MB/s]\n",
            "/usr/local/lib/python3.7/dist-packages/gdown/cli.py:131: FutureWarning: Option `--id` was deprecated in version 4.3.1 and will be removed in 5.0. You don't need to pass it anymore to use a file ID.\n",
            "  category=FutureWarning,\n",
            "Downloading...\n",
            "From: https://drive.google.com/uc?id=106OVRPIQQBppganRnCZigxQh6-Zyvqit\n",
            "To: /content/preprocessed_v1_socialfsi_single_test_sampling389_20220701.xlsx\n",
            "100% 141k/141k [00:00<00:00, 69.1MB/s]\n"
          ]
        }
      ],
      "source": [
        "#download data\n",
        "!gdown --id 1-avUDygRCGvAiPplmc6MundS_PpnohRv\n",
        "!gdown --id 106OVRPIQQBppganRnCZigxQh6-Zyvqit"
      ]
    },
    {
      "cell_type": "code",
      "source": [
        "#libraby \n",
        "import numpy as np\n",
        "import pandas as pd\n",
        "import seaborn as sns\n",
        "import matplotlib.pyplot as plt"
      ],
      "metadata": {
        "id": "cgMb7j8pbNQj"
      },
      "execution_count": 2,
      "outputs": []
    },
    {
      "cell_type": "code",
      "source": [
        "train = pd.read_excel('/content/preprocessed_v1_socialfsi_single_train_sampling12150_20220701.xlsx')\n",
        "test = pd.read_excel('/content/preprocessed_v1_socialfsi_single_test_sampling389_20220701.xlsx')"
      ],
      "metadata": {
        "id": "ITJldeRSbbc6"
      },
      "execution_count": 3,
      "outputs": []
    },
    {
      "cell_type": "code",
      "source": [
        "train.head(5)"
      ],
      "metadata": {
        "colab": {
          "base_uri": "https://localhost:8080/",
          "height": 565
        },
        "id": "sMuRAAX0b2mv",
        "outputId": "63a875f9-f595-4b69-e024-03c3fcf4567d"
      },
      "execution_count": 4,
      "outputs": [
        {
          "output_type": "execute_result",
          "data": {
            "text/plain": [
              "   Unnamed: 0                                       TagFile_Path  \\\n",
              "0           0  SocialFSI_ZE-KTB-Feb-Apr2022_Sampling2244_2022...   \n",
              "1           1  SocialFSI_v4_0_mutiple_train_sampling8203_2021...   \n",
              "2           2  SocialFSI_ZE-KTB-Feb-Apr2022_Sampling2244_2022...   \n",
              "3           3  SocialFSI_v4_0_mutiple_train_sampling8203_2021...   \n",
              "4           4  SocialFSI_v4_0_mutiple_train_sampling8203_2021...   \n",
              "\n",
              "                                             TagFile SV_CustomerName  \\\n",
              "0  SocialFSI_ZE-KTB-Feb-Apr2022_Sampling1400_2022...  Krungthai_NEXT   \n",
              "1  SocialFSI_TrainDataV4_RetagCLS-12_Sampling53_P...             NaN   \n",
              "2  SocialFSI_ZE-KTB-Feb-Apr2022_Sampling1200_2022...  Krungthai_NEXT   \n",
              "3  SocialFSI_TrainSCB-SocialFilterV2_Sampling2750...             NaN   \n",
              "4  SocialFSI_TrainSCB-SocialFilterV2_Sampling2750...             NaN   \n",
              "\n",
              "                                        Main keyword      Channel SubChannel  \\\n",
              "0  mobile banking+กสิกร,mobile banking+ธนาคารกสิก...  SocialMedia      forum   \n",
              "1                                                NaN  SocialMedia    Twitter   \n",
              "2                                          krungthai  SocialMedia   facebook   \n",
              "3                                                NaN  SocialMedia    Twitter   \n",
              "4                                                NaN  SocialMedia    Twitter   \n",
              "\n",
              "                                 lfdn   verbatim_id     sentence_id  \\\n",
              "0           pantip.com_topic_41249919    Q2207_1549    Q2207_1549_1   \n",
              "1            5fffc6bcb08b583a24679d59  Q202106_5805  Q202106_5805_1   \n",
              "2  10161808181448916_1330115550790924     Q2207_636     Q2207_636_1   \n",
              "3                            27634345   Q202106_961   Q202106_961_1   \n",
              "4                            28297653  Q202106_2021  Q202106_2021_1   \n",
              "\n",
              "                                       Text_original  \\\n",
              "0  สอบถามเรื่องการอายัดบัตรเดบิตของกสิกรค่ะ พอดีว...   \n",
              "1  ปกติจะไม่ชอบlog in ใดๆในคอมคนอื่นหรือสำนักงานใ...   \n",
              "2  Krungthai Care ณ. ตอนนี้ยอดก็ยังไม่เข้าค่ะ ถ้า...   \n",
              "3  @scb_thailand เรียน scb ขอเบอร?ตืดต่อเพราะคุย ...   \n",
              "4  ไอเลิ้บ TMB All Free มาก แต่ช่วยพัฒนาแอพให้สเถ...   \n",
              "\n",
              "                                                Text  \\\n",
              "0  สอบถามเรื่องการอายัดบัตรเดบิตของกสิกรค่ะ พอดีว...   \n",
              "1  ปกติจะไม่ชอบlog in ใดๆในคอมคนอื่นหรือสำนักงานใ...   \n",
              "2  Krungthai Care ณ. ตอนนี้ยอดก็ยังไม่เข้าค่ะ ถ้า...   \n",
              "3  @scb_thailand เรียน scb ขอเบอร?ตืดต่อเพราะคุย ...   \n",
              "4                          ไอเลิ้บ TMB All Free มาก    \n",
              "\n",
              "                             Human_Category  Human_CategoryID Human_Sentiment  \\\n",
              "0  Product and Service, Usage and Condition                 8         neutral   \n",
              "1                                  Security                12         neutral   \n",
              "2               Product and Service, System                 7        negative   \n",
              "3                             Staff Quality                 4        negative   \n",
              "4  Product and Service, Usage and Condition                 8        positive   \n",
              "\n",
              "  Human_SentimentID                                      Text_ws_local  \n",
              "0                 o  สอบถาม|เรื่อง|การ|อายัด|บัตรเดบิต|ของ|kbank|ค่...  \n",
              "1                 o  ปกติ|จะ|ไม่ชอบ| |log| |in| |ใดๆ| |ใน|ค|อม|คนอื...  \n",
              "2                 n  ktb| |care| |ณ|.| |ตอนนี้|ยอด|ก็|ยัง|ไม่|เข้า|...  \n",
              "3                 n  scb_thailand| |เรียน| |scb| |ขอ|เบอร| |ตืด|ต่อ...  \n",
              "4                 p                    ไอ|เลิ้บ| |tmb_all_free| |มาก|   "
            ],
            "text/html": [
              "\n",
              "  <div id=\"df-9d38f51b-fd65-47eb-bf1d-6b09775d238c\">\n",
              "    <div class=\"colab-df-container\">\n",
              "      <div>\n",
              "<style scoped>\n",
              "    .dataframe tbody tr th:only-of-type {\n",
              "        vertical-align: middle;\n",
              "    }\n",
              "\n",
              "    .dataframe tbody tr th {\n",
              "        vertical-align: top;\n",
              "    }\n",
              "\n",
              "    .dataframe thead th {\n",
              "        text-align: right;\n",
              "    }\n",
              "</style>\n",
              "<table border=\"1\" class=\"dataframe\">\n",
              "  <thead>\n",
              "    <tr style=\"text-align: right;\">\n",
              "      <th></th>\n",
              "      <th>Unnamed: 0</th>\n",
              "      <th>TagFile_Path</th>\n",
              "      <th>TagFile</th>\n",
              "      <th>SV_CustomerName</th>\n",
              "      <th>Main keyword</th>\n",
              "      <th>Channel</th>\n",
              "      <th>SubChannel</th>\n",
              "      <th>lfdn</th>\n",
              "      <th>verbatim_id</th>\n",
              "      <th>sentence_id</th>\n",
              "      <th>Text_original</th>\n",
              "      <th>Text</th>\n",
              "      <th>Human_Category</th>\n",
              "      <th>Human_CategoryID</th>\n",
              "      <th>Human_Sentiment</th>\n",
              "      <th>Human_SentimentID</th>\n",
              "      <th>Text_ws_local</th>\n",
              "    </tr>\n",
              "  </thead>\n",
              "  <tbody>\n",
              "    <tr>\n",
              "      <th>0</th>\n",
              "      <td>0</td>\n",
              "      <td>SocialFSI_ZE-KTB-Feb-Apr2022_Sampling2244_2022...</td>\n",
              "      <td>SocialFSI_ZE-KTB-Feb-Apr2022_Sampling1400_2022...</td>\n",
              "      <td>Krungthai_NEXT</td>\n",
              "      <td>mobile banking+กสิกร,mobile banking+ธนาคารกสิก...</td>\n",
              "      <td>SocialMedia</td>\n",
              "      <td>forum</td>\n",
              "      <td>pantip.com_topic_41249919</td>\n",
              "      <td>Q2207_1549</td>\n",
              "      <td>Q2207_1549_1</td>\n",
              "      <td>สอบถามเรื่องการอายัดบัตรเดบิตของกสิกรค่ะ พอดีว...</td>\n",
              "      <td>สอบถามเรื่องการอายัดบัตรเดบิตของกสิกรค่ะ พอดีว...</td>\n",
              "      <td>Product and Service, Usage and Condition</td>\n",
              "      <td>8</td>\n",
              "      <td>neutral</td>\n",
              "      <td>o</td>\n",
              "      <td>สอบถาม|เรื่อง|การ|อายัด|บัตรเดบิต|ของ|kbank|ค่...</td>\n",
              "    </tr>\n",
              "    <tr>\n",
              "      <th>1</th>\n",
              "      <td>1</td>\n",
              "      <td>SocialFSI_v4_0_mutiple_train_sampling8203_2021...</td>\n",
              "      <td>SocialFSI_TrainDataV4_RetagCLS-12_Sampling53_P...</td>\n",
              "      <td>NaN</td>\n",
              "      <td>NaN</td>\n",
              "      <td>SocialMedia</td>\n",
              "      <td>Twitter</td>\n",
              "      <td>5fffc6bcb08b583a24679d59</td>\n",
              "      <td>Q202106_5805</td>\n",
              "      <td>Q202106_5805_1</td>\n",
              "      <td>ปกติจะไม่ชอบlog in ใดๆในคอมคนอื่นหรือสำนักงานใ...</td>\n",
              "      <td>ปกติจะไม่ชอบlog in ใดๆในคอมคนอื่นหรือสำนักงานใ...</td>\n",
              "      <td>Security</td>\n",
              "      <td>12</td>\n",
              "      <td>neutral</td>\n",
              "      <td>o</td>\n",
              "      <td>ปกติ|จะ|ไม่ชอบ| |log| |in| |ใดๆ| |ใน|ค|อม|คนอื...</td>\n",
              "    </tr>\n",
              "    <tr>\n",
              "      <th>2</th>\n",
              "      <td>2</td>\n",
              "      <td>SocialFSI_ZE-KTB-Feb-Apr2022_Sampling2244_2022...</td>\n",
              "      <td>SocialFSI_ZE-KTB-Feb-Apr2022_Sampling1200_2022...</td>\n",
              "      <td>Krungthai_NEXT</td>\n",
              "      <td>krungthai</td>\n",
              "      <td>SocialMedia</td>\n",
              "      <td>facebook</td>\n",
              "      <td>10161808181448916_1330115550790924</td>\n",
              "      <td>Q2207_636</td>\n",
              "      <td>Q2207_636_1</td>\n",
              "      <td>Krungthai Care ณ. ตอนนี้ยอดก็ยังไม่เข้าค่ะ ถ้า...</td>\n",
              "      <td>Krungthai Care ณ. ตอนนี้ยอดก็ยังไม่เข้าค่ะ ถ้า...</td>\n",
              "      <td>Product and Service, System</td>\n",
              "      <td>7</td>\n",
              "      <td>negative</td>\n",
              "      <td>n</td>\n",
              "      <td>ktb| |care| |ณ|.| |ตอนนี้|ยอด|ก็|ยัง|ไม่|เข้า|...</td>\n",
              "    </tr>\n",
              "    <tr>\n",
              "      <th>3</th>\n",
              "      <td>3</td>\n",
              "      <td>SocialFSI_v4_0_mutiple_train_sampling8203_2021...</td>\n",
              "      <td>SocialFSI_TrainSCB-SocialFilterV2_Sampling2750...</td>\n",
              "      <td>NaN</td>\n",
              "      <td>NaN</td>\n",
              "      <td>SocialMedia</td>\n",
              "      <td>Twitter</td>\n",
              "      <td>27634345</td>\n",
              "      <td>Q202106_961</td>\n",
              "      <td>Q202106_961_1</td>\n",
              "      <td>@scb_thailand เรียน scb ขอเบอร?ตืดต่อเพราะคุย ...</td>\n",
              "      <td>@scb_thailand เรียน scb ขอเบอร?ตืดต่อเพราะคุย ...</td>\n",
              "      <td>Staff Quality</td>\n",
              "      <td>4</td>\n",
              "      <td>negative</td>\n",
              "      <td>n</td>\n",
              "      <td>scb_thailand| |เรียน| |scb| |ขอ|เบอร| |ตืด|ต่อ...</td>\n",
              "    </tr>\n",
              "    <tr>\n",
              "      <th>4</th>\n",
              "      <td>4</td>\n",
              "      <td>SocialFSI_v4_0_mutiple_train_sampling8203_2021...</td>\n",
              "      <td>SocialFSI_TrainSCB-SocialFilterV2_Sampling2750...</td>\n",
              "      <td>NaN</td>\n",
              "      <td>NaN</td>\n",
              "      <td>SocialMedia</td>\n",
              "      <td>Twitter</td>\n",
              "      <td>28297653</td>\n",
              "      <td>Q202106_2021</td>\n",
              "      <td>Q202106_2021_1</td>\n",
              "      <td>ไอเลิ้บ TMB All Free มาก แต่ช่วยพัฒนาแอพให้สเถ...</td>\n",
              "      <td>ไอเลิ้บ TMB All Free มาก</td>\n",
              "      <td>Product and Service, Usage and Condition</td>\n",
              "      <td>8</td>\n",
              "      <td>positive</td>\n",
              "      <td>p</td>\n",
              "      <td>ไอ|เลิ้บ| |tmb_all_free| |มาก|</td>\n",
              "    </tr>\n",
              "  </tbody>\n",
              "</table>\n",
              "</div>\n",
              "      <button class=\"colab-df-convert\" onclick=\"convertToInteractive('df-9d38f51b-fd65-47eb-bf1d-6b09775d238c')\"\n",
              "              title=\"Convert this dataframe to an interactive table.\"\n",
              "              style=\"display:none;\">\n",
              "        \n",
              "  <svg xmlns=\"http://www.w3.org/2000/svg\" height=\"24px\"viewBox=\"0 0 24 24\"\n",
              "       width=\"24px\">\n",
              "    <path d=\"M0 0h24v24H0V0z\" fill=\"none\"/>\n",
              "    <path d=\"M18.56 5.44l.94 2.06.94-2.06 2.06-.94-2.06-.94-.94-2.06-.94 2.06-2.06.94zm-11 1L8.5 8.5l.94-2.06 2.06-.94-2.06-.94L8.5 2.5l-.94 2.06-2.06.94zm10 10l.94 2.06.94-2.06 2.06-.94-2.06-.94-.94-2.06-.94 2.06-2.06.94z\"/><path d=\"M17.41 7.96l-1.37-1.37c-.4-.4-.92-.59-1.43-.59-.52 0-1.04.2-1.43.59L10.3 9.45l-7.72 7.72c-.78.78-.78 2.05 0 2.83L4 21.41c.39.39.9.59 1.41.59.51 0 1.02-.2 1.41-.59l7.78-7.78 2.81-2.81c.8-.78.8-2.07 0-2.86zM5.41 20L4 18.59l7.72-7.72 1.47 1.35L5.41 20z\"/>\n",
              "  </svg>\n",
              "      </button>\n",
              "      \n",
              "  <style>\n",
              "    .colab-df-container {\n",
              "      display:flex;\n",
              "      flex-wrap:wrap;\n",
              "      gap: 12px;\n",
              "    }\n",
              "\n",
              "    .colab-df-convert {\n",
              "      background-color: #E8F0FE;\n",
              "      border: none;\n",
              "      border-radius: 50%;\n",
              "      cursor: pointer;\n",
              "      display: none;\n",
              "      fill: #1967D2;\n",
              "      height: 32px;\n",
              "      padding: 0 0 0 0;\n",
              "      width: 32px;\n",
              "    }\n",
              "\n",
              "    .colab-df-convert:hover {\n",
              "      background-color: #E2EBFA;\n",
              "      box-shadow: 0px 1px 2px rgba(60, 64, 67, 0.3), 0px 1px 3px 1px rgba(60, 64, 67, 0.15);\n",
              "      fill: #174EA6;\n",
              "    }\n",
              "\n",
              "    [theme=dark] .colab-df-convert {\n",
              "      background-color: #3B4455;\n",
              "      fill: #D2E3FC;\n",
              "    }\n",
              "\n",
              "    [theme=dark] .colab-df-convert:hover {\n",
              "      background-color: #434B5C;\n",
              "      box-shadow: 0px 1px 3px 1px rgba(0, 0, 0, 0.15);\n",
              "      filter: drop-shadow(0px 1px 2px rgba(0, 0, 0, 0.3));\n",
              "      fill: #FFFFFF;\n",
              "    }\n",
              "  </style>\n",
              "\n",
              "      <script>\n",
              "        const buttonEl =\n",
              "          document.querySelector('#df-9d38f51b-fd65-47eb-bf1d-6b09775d238c button.colab-df-convert');\n",
              "        buttonEl.style.display =\n",
              "          google.colab.kernel.accessAllowed ? 'block' : 'none';\n",
              "\n",
              "        async function convertToInteractive(key) {\n",
              "          const element = document.querySelector('#df-9d38f51b-fd65-47eb-bf1d-6b09775d238c');\n",
              "          const dataTable =\n",
              "            await google.colab.kernel.invokeFunction('convertToInteractive',\n",
              "                                                     [key], {});\n",
              "          if (!dataTable) return;\n",
              "\n",
              "          const docLinkHtml = 'Like what you see? Visit the ' +\n",
              "            '<a target=\"_blank\" href=https://colab.research.google.com/notebooks/data_table.ipynb>data table notebook</a>'\n",
              "            + ' to learn more about interactive tables.';\n",
              "          element.innerHTML = '';\n",
              "          dataTable['output_type'] = 'display_data';\n",
              "          await google.colab.output.renderOutput(dataTable, element);\n",
              "          const docLink = document.createElement('div');\n",
              "          docLink.innerHTML = docLinkHtml;\n",
              "          element.appendChild(docLink);\n",
              "        }\n",
              "      </script>\n",
              "    </div>\n",
              "  </div>\n",
              "  "
            ]
          },
          "metadata": {},
          "execution_count": 4
        }
      ]
    },
    {
      "cell_type": "code",
      "source": [
        "train['Human_CategoryID'].sort_index(ascending=True).value_counts()"
      ],
      "metadata": {
        "colab": {
          "base_uri": "https://localhost:8080/"
        },
        "id": "HA6bOeakDu5L",
        "outputId": "a38a4afd-496d-4076-e0a5-c177ea3fb0ff"
      },
      "execution_count": 5,
      "outputs": [
        {
          "output_type": "execute_result",
          "data": {
            "text/plain": [
              "7     3275\n",
              "8     2454\n",
              "13    2133\n",
              "5     1163\n",
              "6     1109\n",
              "4      522\n",
              "10     379\n",
              "3      377\n",
              "11     232\n",
              "1      185\n",
              "9      153\n",
              "12     152\n",
              "2       16\n",
              "Name: Human_CategoryID, dtype: int64"
            ]
          },
          "metadata": {},
          "execution_count": 5
        }
      ]
    },
    {
      "cell_type": "markdown",
      "source": [
        "#Create a Vocabulary"
      ],
      "metadata": {
        "id": "3hRruw5Ph59Y"
      }
    },
    {
      "cell_type": "code",
      "source": [
        "from collections import Counter\n",
        "\n",
        "vocab = Counter()\n",
        "def data_to_vocab(df):\n",
        "  for verbatim in df['Text_ws_local']:\n",
        "    tokens = verbatim.split()\n",
        "    tokens = [word for word in tokens if len(tokens) > 1]\n",
        "    vocab.update(tokens)\n",
        "\n",
        "data_to_vocab(train)\n",
        "\n",
        "print(len(vocab))\n",
        "vocab.most_common(20)"
      ],
      "metadata": {
        "colab": {
          "base_uri": "https://localhost:8080/"
        },
        "id": "9KsihNdkb28k",
        "outputId": "6406b404-8dc5-42ce-f596-dac3b1d7267e"
      },
      "execution_count": 6,
      "outputs": [
        {
          "output_type": "stream",
          "name": "stdout",
          "text": [
            "54928\n"
          ]
        },
        {
          "output_type": "execute_result",
          "data": {
            "text/plain": [
              "[('|scb|', 1811),\n",
              " ('|friendtag|', 902),\n",
              " ('|2|', 536),\n",
              " ('|kbank|', 462),\n",
              " ('scb|', 372),\n",
              " ('|บาท|', 368),\n",
              " ('|1|', 355),\n",
              " ('|3|', 348),\n",
              " ('|5|', 315),\n",
              " ('atm|', 301),\n",
              " ('|call_center|', 294),\n",
              " ('|tmb|', 291),\n",
              " ('scb_thailand|', 287),\n",
              " ('|atm|', 283),\n",
              " ('|scb_easy|', 226),\n",
              " ('|telephonetag|', 224),\n",
              " ('|กรุงไทย|', 218),\n",
              " ('ktb|', 213),\n",
              " ('|app|', 213),\n",
              " ('|care|', 206)]"
            ]
          },
          "metadata": {},
          "execution_count": 6
        }
      ]
    },
    {
      "cell_type": "code",
      "source": [
        "min_occurence = 2\n",
        "tokens = [k for k, c in vocab.items() if c >= min_occurence]"
      ],
      "metadata": {
        "id": "YqxVmTU0hXYD"
      },
      "execution_count": 7,
      "outputs": []
    },
    {
      "cell_type": "code",
      "source": [
        "def save_list(lines, filename):\n",
        "  data = '\\n'.join(lines)\n",
        "  file = open(filename, 'w')\n",
        "  file.write(data)\n",
        "  file.close()\n",
        "  \n",
        "save_list(tokens, 'vocab.txt')"
      ],
      "metadata": {
        "id": "dxb6rJv_gzC1"
      },
      "execution_count": 8,
      "outputs": []
    },
    {
      "cell_type": "markdown",
      "source": [
        "#Train Embedding Layer"
      ],
      "metadata": {
        "id": "WbZ5MsM0iCNr"
      }
    },
    {
      "cell_type": "code",
      "source": [
        "#Load the vocab as above\n",
        "def load_doc(filename):\n",
        "  file = open(filename, 'r')\n",
        "  text = file.read()\n",
        "  file.close()\n",
        "  return text\n",
        "\n",
        "vocab_filename = 'vocab.txt'\n",
        "vocab = load_doc(vocab_filename)\n",
        "vocab = vocab.split()\n",
        "vocab = set(vocab)\n",
        "\n",
        "print(vocab)"
      ],
      "metadata": {
        "colab": {
          "base_uri": "https://localhost:8080/"
        },
        "id": "xWxGiDbLiDjC",
        "outputId": "f87a0206-fcce-42a4-99d3-76ade715bd7a"
      },
      "execution_count": 9,
      "outputs": [
        {
          "output_type": "stream",
          "name": "stdout",
          "text": [
            "{'|เดือน|แล้ว|ค่ะ|', '|asia|', '|12|', '|คือ|อยู่|ๆ|', '|ได้|ค่ะ', '|aia|', '25|', '|ด|', '|มาถึง|', '|ไม่สามารถ|ทำ|รายการ|ได้|ในขณะนี้|', 'เติมเงิน|ผ่าน|แอป|', '|บริษัท|', '|รอคิว|นานมาก|', 'อยู่|ๆ|', '|แต่|นานมาก|', 'คือว่า|ผม|สั่งซื้อ|', 'มี|เบอร์|', '|อยู่แล้ว|', '|c|', '|มัน|มี|', '|travel|', '|ทั้งที่|กดเงิน|แล้ว|ไม่|ออก|', '|ให้|', '|ตลาดนัด|', '|ย|', '|หลัง|วัน|ที่', '|passbook|', '18|', '|bualuang_m_banking|', '|แล้ว|เรา|ลงทะเบียน|ไป|วัน|ที่', '|95|', '5|', 'ขอบคุณ|มาก|ครับ|', '|ทำไง|ดี|', 'ลงทะเบียน|', 'โอนเงิน|จาก|แอป|', '|ยกเว้น|ของ|scb|', '|แต่|แอป|', '|ไม่มี|พนักงาน|รับสาย|', '|kbank_live', '|10.2|', '|พอ|กลับมา|ที่|', '|อีก|ประมาณ|', '|650|', '|x|', '|ตอนนี้|เงินเดือน|', '|5000.|-|', '|บาง|ธนาคาร|ต้อง|ใช้|', '|retention|', '|scbb|', 'สอบถาม|ค่ะ|', '|ใช่|', '|ดอกเบี้ย|ใน|เอกสาร|ใบแจ้งหนี้|', '|อิ|เหี้ย|', '|โมง|เช้า|', '|หุ้น|', '|kbanklive|', '|website|', '10|263|', '|คล้ายๆ|', '|ของ|เรา|', '|ค่ะ|.|', '|ไม่มีเงิน|แล้ว|', '|mbanking|', '20|', '|หลักๆ|', '|ล่ม|หรือเปล่า|ครับ|', '|จะ|ซื้อ|หวย|', '|แล้ว|ค่ะ|', '|contact|', '|6|-|7|', '|gen|', '|เซ|ง', '|กัน|แน่|', '|23.48|', '|แล้ว|ว่ะ|', '|ปกติ', '|ไม่เคย|เจอ|ปัญหา', '|แล้ว|บัตร|เก่า|คือ|จ่าย|ออนไลน์|ได้|', 'โอนเงิน|ไม่ได้|', '|กรุงเทพ|ประกันภัย|', '|10', '|ลด|', '|เอา|จน|ว่า|รำคาญ|', '|ไม่|หยิบ|เงิน|ออกจาก|ตู้|', '|แจ้ง|ว่า|ระบบ|การ|รับเงิน|ทาง|', '|อาทิตย์|', '|เรื่อง|', '-|', '|20.57|', '|โทร|ไม่ติด', '|8|-|9|', '|ล่ม|บ่อย|มาก|', '|ไม่ได้|ใช้|', '|ดัน|ใช้ไม่ได้', '|vat|', 'ว่าแต่|', '|60000|', '|ยอดเงิน|', '|ห่วย', '|ธัน|วา|', '|เรา|เที่ยว|ด้วยกัน|', 'วิธี|เก็บเงิน|ที่|ดี|มาก', '|ราคา|บ้าน|', '|pttgc|', '|จะ|ออกบัตร|กด|ฟรี|ได้|อย่างไร|', '|ผ่าน|บัตร|', '|บริษัทหลักทรัพย์จัดการกองทุนรวมจำกัด|', '|opened|', '|ค|', '|ทั้ง|', '|1.1|', '|นะ|', 'พี่|ที่|ธนาคารกรุงไทย|ใจ|ดีมาก|', '|ไหม|ครับ', '|โหลด|', '|ลดเหลือ|', '|เลือก|ถอนเงิน|ไม่|ใช้|บัตร|', '|jitta_wealth|', '|ทำไม|เข้า|ไม่ได้|อะ|', 'ใช่|ๆ|', '|click|', '|มายัง|', '|ตราสาร|หนี้|', '|จะ|แลกเงิน|อ่า|', '|25|', '|18000|', '|-|19|', '|จะ|ทำ|อย่างไร|', '|ต้อง|ยอมรับว่า|เป็น|ธนาคาร|ที่|เชย|ที่สุด|', '|ก็|เห็น|', '|scbsete|', '|เจ้าหน้าที่|บอก|ได้|สิ|ท|ธ|์|แล้ว|ค่ะ', '|บ้าน|ราคา|', '|เจ้าหน้า|ที่แจ้ง|ว่า|', '|แต่|ไม่มี|บัตร|', '|หนี้บัตรเครดิต|', '|ก|', '|ธ|ค|', '|ตก|', '|คลิก|เพื่อ|ดู|ข้อความ|ที่ซ่อน|ไว้', '|ก็ได้|คะแนน|', '|แต่|ยอดเงิน|ไม่|เข้าบัญชี|ปลายทาง|', '2|', '|ไม่|ได้รับ|', '|2700000|', '|ล่ม|อีก|ละ|หรอ|', '|เมื่อ|กลางเดือน|ไป|เปลี่ยน|จาก|บัตร|', '|ได้|ด้วย|', 'ไป|เปิดบัญชี|', '|จน|ป่านนี้|', '|นอกจาก|', '|ดาว|น|์|', '|งับ|', '|จะ|ผ่าน|ไหม|', '|เป็นไร|อ่ะ|', '|ขึ้น|ว่า|ไม่|พบ|ข้อมูล|การ|สมัคร|', 'โอนเงิน|จาก|ธนาคาร|', 'คือ|แบบ|', '|report|', '|เรื่อง|มีอยู่|ว่า|', '|แล้ว|กด|', '|ซื้อของ|', '|bayfirst_choice|', 'ประกัน|', '|bay', '|kbank|', 'เมื่อ|เวลา|', '|walk|', '|150000|', '|รี|ไฟแนนซ์|', '|true|', '|อยาก|รู้ว่า|ค่าธรรมเนียม|ตรง|', '|from|', '|ปิด|', 'scbplanet|', '|union|', '2.|', '14|', 'นี่|ใช้|', '|ltf|', '|เฮงซวย', '|คน|ไม่|เยอะ|', '|45|-|60|', '|โค|วิท|', '|uninstall|', '|เฉยๆ|', '|เงิน|ไม่|เข้า', '|10.30|', '|uob_privimile|', '|ประกันภัย|', '|ล่ม|หรอ', '|backup|', '|check|', '|ล่ม|ใช่ไหม|', '|ก็|ล่ม|', '|ท|รู|วอ|ล|เลท|', '|วงเงิน|', '|3|-|5|', '|แต่|ทาง|', '|มาก|ค่ะ|', '|มา|หลาย|วัน|', 'มีเงิน|เข้ามา|', '|ค|ป|ภ|.|', '|วัน|แล้ว|ค่ะ|', '|โทร|ไป|คอลเซนเตอร์|', 'แอป|เป๋า|ตัง|', '|770|', 'scbs|', '|สัก|เท่าไหร่|', '|สรุปว่า|', '|แต่|ถ้า|ไม่ใช่|', '|ปิดบัญชี|', '|ที่ใช้|', '|ได้|ไหม|ครับ|', '|ปรากฏ|ว่า|', '|ที่ผูก|ไว้|', 'โอ๊ย|', '|กระแสรายวัน|ไม่ได้|', 'แห|ม่|', '|บาท', '|ทั้ง|ทาง|', '|ธนาคารอาคารสงเคราะห์|', 'ทำไม|คน|แห่|ไป|gsb|กัน|อะ|วันนี้|', 'ghb|', '|ปี|แรก|', '|อันนี้|ไม่|รู้ว่า|สรุป|เป็น|ยังไง|บ้าง|', '|แต่|เงิน|ไม่|เข้าบัญชี|ปลายทาง|', '|17000|', 'ได้|', '_', '|เพียง|', '|510|', '|แลก|', '|เพราะ|ไม่มี|บัตร|', '|แอป|ล่ม|หรอ|', 'พี่|ใช้|', '|แต่|เงิน|ไม่|เข้า|', '|facebook|', '|300000|', '|scbtmf|', '|ทำ|ยังไง|ดี|คะ|', '|รอบ|', '|thai|', 'ระบบ|', '|ของ|ธนาคาร|ไหน|', '|บาท|วันนี้|', '|เปิด|ๆ|', '|ลง|เหลือ|', '|cdm|', '|ใช้|', '|ทาง|ออนไลน์|', 'jitta_wealth|', '|ต้อง|ไป|สาขา|', '|gift|', '|ขอบคุณ|ทุกๆ|', '|เอง|ค่ะ|', '|yen|', '|ad|', '|เป็นมา|', '|กับ|พร้อมเพย์|', '|10.02|', '|ณ|', '|kbank|ล่ม', '|ครับ|', '|คน|เยอะ|', '|เลือก|จ่าย|ด้วย|', '|บริการ|ดี|มากๆ|', '|เป็น|ไฟแนนซ์|ไทยพาณิชย์|ก่อนหน้านี้|', '|ใน|แอป|', '|ได้รับ|', '|ที่|เป็น|บัตร|เก่า|รหัส|', '|เป๊ก|ผลิต|โชค|', '|bualuang|', '|มี|ประวัติ|ล่าช้า|', '|นาน|มากๆ|', '|เงิน|หัก|แล้ว|', '|platinum|', '|ขึ้น|ว่า|', '|otp|', '|ธนาคาร|ค.|', '|มี|เพื่อน|ๆ|', '|ไม่มี|ครับ|', '|ธนาคาร|หนู|เงิน|ประมาณ|', '|เพิ่ม|', '|และ|', '|เรา|จะ|ไม่|ทิ้ง|กัน|', 'บัตร|หัว|', '|ธ|', '|ปี|คะ|', '|แต่|ถ้า|', 'รหัส|', '|จะ|ให้|', '|เรา|ไม่|ทิ้ง|กัน', '|เย็น|ๆ|', '|พิจารณา|', '|ของ|ธนาคารเพื่อการเกษตรและสหกรณ์การเกษตร|', '|12.00|', '|scbx|', '|เครื่อง|', '|ได้|เลย|ครับ|', '|แล้ว|โหลด|แอป|', '|มา|ใช้|', 'สอบถาม|', 'scb_thailand|', '|banks|', '|ก็|สามารถ|', '|s|21|', '|1000|', '|cloud|', '|ผม|เปิดบัญชี|', 'โอน|เงินเข้า|กรุงไทย|ตอน|', '|ล่ม|ทุกวัน|', '|รอ|มา|', '|ขออภัย|ครับ|', '|ลงท้าย|', '|02|-|28515|', '|แบบนี้|ต้อง|ทำ|อย่างไร|ครับ', '|ให้|ลูกค้า|', '|ibanking|', '|เงิน|หัก|จาก|บัญชีธนาคาร|แล้วแต่|ยอด|ใน|แอป|เป๋า|ตัง|ยัง|เป็น|', '|โทร|ไป|แจ้ง|', '|ลอง|หลายครั้ง|แล้ว', '|ต่อ|ปี', 'จะ|ซื้อ|', '|ไม่สามารถ|ทำ|รายการ|ได้|', '|k-bank|', 'ขออนุญาต|', '|ลง|', '|1295|', '|ktc', '|ก็|ไม่ติด', '|it|', '|ผ่อน|เดือน|ละ|', '|ซื้อได้|จนถึง|', '|กับ|บัตรกดเงินสด|', '|50|k|', '|เรา|ชนะ', 'แต่|', '|kbank|ครับ|', '|ไม่ก็|', '|20.00|', 'กดเงิน|', '|40|', 'ตอนนี้|', '|40000|', '|แต่|อยู่ดีๆ|', '|เรา|ก็|โอน|ไป|', '|งง|มาก|ครับ|', '|cvc|', '|3|bb|', '|เกาหลี|', '|โอนเงิน|จาก|ธนาคาร|', '|2212563|', '|อาทิตย์|แล้ว|', '|e-statement|', '|ของ|บัตรเครดิต|และ|', '|ref|.|1|', '|ถ่าย|บัตร|', '|ยัง|มี|', '|เหมือน|มีปัญหา|กด|โอนเงิน|ไป|แล้ว|เงิน|เด้ง|', '|หน้า|', 'next|', '|1700|', '|หาก|ไม่ได้|', '|หมุน|ติ้ว|ๆ|', 'ไป|ถาม|', '|password|', '|มา|ค่ะ|', '|bankingmobile|', '|จ่าย|', 'อี|', '|หลัก|', 'เรา|อยากจะ|ติดต่อสอบถาม|เรื่อง|การ|พัก|หนี้|ค่ะ|', '|แจ้ง|', '|ธนาคาร|ล่ม', '|ลองดู|นะคะ', 'ต่อไป|จะ|ส่ง|ผู้ช่วย|ช่าง|มา|กดบัตรคิว|รอ|ที่|ธนาคารกรุงไทย|แล้ว|แหละ|มา|เมื่อไหร่|ก็|', '|เติม|', '|กด|ใน|', 'ผ่อน|รถ|กับ|', '|ของ|ธนาคารกรุงไทย|คือ|แย่มาก|', 'ktb-axa|', 'jack|', '|tablet|', '|v|', '|เงียบกริบ|', '|โอน|เมื่อวาน|ตอน|', '|กับ|bay|', '|krw|', '|easy|', 'เวร|ละ|', 'รบกวน|', '|sms|', '|robo|', 'ความคิดเห็น|ที่', '|รวม|', '|เหี้ย|มาก|', '|เงิน|ตั้ง|', '|วัน|นะคะ|', '|9|', 'bay|', '|เงินเข้า|', '|น.', '|ทิพ|ย|ประกันภัย|', '|ตัดยอด|', '|dolfin|', '|ไม่รู้|จะ|ทำไง|แล้ว|', '|ขอบคุณ|มากๆ|', '|18|', '|ชำระ|', '|กว่า|บาท', '|ดี|ไหม|', '|kyc|', '|ของ|ทุกเดือน|', '|30|-|40|', 'ขอ|สอบถาม|นะคะ|', '|ร|ร|', '|ให้|หมด|', '|หรือเปล่า|ครับ|', '|มี|ยอด|เงินโอน|เข้า|', '|ไม่ต้อง|ผูก|ใหม่|', '|เลย|โทร|ไป|', '|เปิด|บัญชีเงินฝาก|', '|2021|', '|108|', '|แต่|ยอดเงิน|ไม่|เข้า|', '|bay|ไม่มี|บัญชี|', '|f|', '|หรือ|ธนาคาร|', '|us|', '|ดอก|', '|มา|ละ|', '|บัตรเครดิต|bbl|', '|อีกแล้ว|', '|ตอนนี้|เลย|', '|จะ|ยกเลิก|สิทธิ์|', '|เพิ่มเติม|', '|stm|', '|กด|เข้าไป|', '|ทุกปี|', '|อายัด|บัตร|', '|ถ้า|มัน|ไม่พลาด|ไป|', '|สถาบันการเงิน|ชื่อดัง|', '|โดยที่|ไม่ต้อง|ไป|ธนาคาร|', '|ครึ่ง|ชั่วโมง|', '|เวร|เอ้|ย', '|ark|', '|ได้|หรือไม่|คะ|', 'scb|', '|ละ|อ่อ|', '|line', '|protection|', '|ถอนเงิน|วันนี้|นะคะ|', '|แล้า|', '|western|', '|เพราะ|มี|', 'ขอ|สอบถาม|หน่อย|ค่า|', '|pending|', '|ต้อง|ให้|หน้า|สมุดบัญชี|ตรงกับ|ผู้ที่|ลงทะเบียน|', '|baac', '|11100|', '|เงิน|ฝากออมทรัพย์|แบบ|ไม่มี|สมุด|', '|365|', '|offer|', 'สมัคร|', '|แปล|ว่า|', '|จะ|ใช้|เงิน|', '|ประกันสังคม|', '|start|', '|ยัง|ไม่ได้|', '|2750|', '|scbm|', '|ผล|คือ|', '|23163|', '|จาก|กระทู้|', '|ค่ารถ|', '|ถ้า|ส่ง|บัตร|มาแล้ว|ยัง|ใช้ไม่ได้|ใช่ไหม|ครับ|ถ้า|เชื่อม|กับ|แอป|', '|เมลล์|', '|ผม|อยาก|ถาม|ผู้รู้|ครับ|ว่า|', '|อยาก|สอบถาม|ว่า|', '|บาท|ค่ะ|', '|แสดง|ว่า|', '|พ่อ|', '|cr|.|', '13|', '|planetscb|', '|ค่า|', '|ต้อง|ทำไง|', 'เปลี่ยน|เบอร์|โทร|', 'ยอมแพ้|ที่', 'หวัง|ว่า|', '|ถ้า|เป็น|', '|สอบถาม|', '|ก็ได้|ครับ|', '|ผล|ปรากฏ|ว่า|', '|สงสัย|ว่า|', '|cost|', '|เสียเวลา', 'ป|ล.|', '|โดน|', 'call_center|', '|เวรกรรม', '|scbset|50|e|', '|contactless|', '|แม่|ม|มา|ทำงาน|กัน|บ้าง|เปล่า|วะ|', '7|-|11|', '|เข้าใจ|ว่า|', '|อี|เวร|', '|ยัง|ไม่|ผ่าน|', '|23.00|', '|31|', '|ต้อง|ทำไง|คะ', '|ไป|ติดต่อ|ธนาคาร|', '|ขอบคุณ|ล่วงหน้า|ค่า', '|มี|ค่าธรรมเนียม|', '|หรือ|ไม่มี|', '|ค่าธรรมเนียม|', '|แล้ว|รอบ|พิเศษ|แบบ|ดิจิทัล|กับ|แบบ|ไป|ซื้อ|หน้า|เคาน์เตอร์|มัน|ต่างกัน|หรือเปล่า|', '|สัญญา|', '|เขา|บอก|ว่า|', '|เลขที่บัญชี|', '|เลิก|ใช้|วอ|เลท|', 'กรุงไทย|นี่|กาก|ตั้งแต่|ระบบ|ยัน|พนักงาน|เลย|หรอ|', '|ฉัน|', '|สมัคร|บัตรเครดิต|', '|cp|', 'ใช้|', '|ฝากประจำ|', '|ฐาน|เงินเดือน|', '|wechat|', '|ตอบ|', '|k-plus|', '|11.30|', '|ทุกคน|', '|link|', '|แม่|จะ|จ่าย|งวด|แรก|ให้|ก่อน|แล้ว|ที่เหลือ|หนู|ผ่อน|', '|7|', '|1000000|', '|109|', '|ปิด|เครื่อง|', '|เนื่องจาก|', '|พวก|', '|23|xxx|', 'เข้า|', '|โปรด|ยืนยัน|ตัวตน|', '|นี่|', '|ได้|ครับ', '|netflix|', '|fix|', '|แต่|ไม่|สามารถทำได้|', '|ขอบคุณ|คะ', '|ก็|ยัง|เหมือนเดิม|', '|พ|.ย|', '|ว|ด|ฟ', '|dtac|', '|091|', 'เป็น|ธนาคาร|', '|จะ|บ้า|ตาย|', '|เม.ย.|', '|ไม่มี|สลิปเงินเดือน|', '|รึ|', '|ยู|เมะ|', '|แล้ว|เงิน|ไม่|เข้า|', '|ใช่ไหม|คะ|', '|เข้าไป|แด|ใหม่|คะ|', '|kjourney|', '|งง|มาก|', '|ชั่วโมง|แล้ว|', 'สวัสดี|ค่ะ|', '|1.2|', 'เซ็ง|', '|copy|', '|ยื่น|ไป|', '|ซึ่ง|', '|ทุกๆ|', '|citi_cash_back|', '|เลย|ครับ|', '|savings|', '|ผ่าน|มา|', '|บอก|ให้|รอ|', 'ถาม|', '|กด|', '|citibank|', 'พอ|ยัง|ใช้|บัตร|', '|หมุนเวียน|และ|สินเชื่อ|ได้|เพิ่ม|', '|งง|ๆ|', '|ผม|เปิดบัญชี|ตั้งแต่|วัน|ที่', '|คำ|ว่า|', '|ไปที่|ตู้', '|scbsp|500|', '|ล|ฯ|', '|เสีย|ค่าธรรมเนียม|', '|ถ้า|มี|บัญชี|', '|กุ|ปวดหัว', '|18.04|', '|ระบบ|มีปัญหา|หรือเปล่า|คะ', '|เงินฝากประจำ|กรุงไทย|', '|ตัด|ไป|', '|มี|ค.|', '|ล่ม|ตั้งแต่|เมื่อวาน|', '|แสน|ต่อ|เดือน|', '|หนี้|', '|ตุลาคม|', 'ดอกเบี้ย|ออมทรัพย์|', '45|', '|สินเชื่อ|เพิ่ม|ได้|', '|username|', '|ทำ|ยังไง|ได้|บ้าง|คะ|', '|ผ่าน|', 'กำลังจะ|', '|เรียบร้อยแล้ว|', '|5.|', '|refund|', '|แต่|ไม่มี|สมุดบัญชี|', '|ประกัน|', '|ไว้|กับ|', '|ใช้|ไม่|ครับ', '|ไม่สำเร็จ|', '|อิ|ห่า|', 'รบกวน|สอบถาม|ครับ|', '|โยน|ไป|', '|ธนาคาร', '|mind|', 'ขอ|สอบถาม|ค่ะ|', '|พัน|', '|shopee|', 'รบกวน|สอบถาม|ค่ะ|', '|tmb', '|ขอบคุณ|ค่ะ|', '|id|', 'ว|ร|วรรณ|', '|ktb_precious_plus|', '|ยัง|ไม่|ได้รับ|', '|ตอน|ตี|', '|เรา|ติดต่อ|ไปที่|เบอร์|โทร|สำนักงานใหญ่|ไฟแนนซ์|ไทยพาณิชย์|บอก|ว่า|จะ|ติดต่อ|กลับมา|', '|แล้ว|มี|', '|แต่|หักเงิน|จาก|บัญชี|', '|โครต|เชง|', '|57|', '|จะ|ผ่าน|', 'ถ้า|', 'เป๋า|ตัง|', '|มี|เอกสาร|', '|ทุก|ช่องทาง|', '|first|', 'ตาม|หัวข้อ|เลย|', '|หรือ|มากกว่า|', '|banking', '|คน|', '|เป็นไร|วะ|', '|แบบนี้|ต้อง|ทำ|ยังไง|คะ', '|ทั้งสิ้น|', '|ไว้|ไหม|คะ|', '|t_t|', '|ยัง|เป็น|นิสิต|อยู่|', '|airasia|', '|สั่ง|อาหาร|', '|blackpink|', '|แบบ|แรก|', '|ก็ได้', 'โอนเงิน|ไป|แล้ว|', '|บ้าง|ค่ะ|', 'ทุกคน|', 'ณ|', 'จ่าย|บิท|บัตรเครดิต|ของ|กรุงไทย|', '|ติดต่อ|ทาง|', '|ktc_jcb|', '|mrr|', '|ยอด|เงินออก|แล้ว|', 'ตู้|', '|prestige|', '|พนักงาน|บอก|ว่า|', '|รอ|นาน|ที่สุด|คือ|', '|เป็นไร|อะ|', '|หักเงิน|อัตโนมัติ|', '|20930|', 'kitisak|', '|เงิน|ยัง|ไม่|เข้า', '|มา|ตอบ|', '|ครั้ง|', '|เข้า|', '|กับ|บัตร|', '|gmarket', '|ktbnetbank|', '|scb_easy|', 'ธนาคารอาคารสงเคราะห์|', '|ครับผม', '|ถาม|', '|ได้|ประมาณ|', '|ai|', '|เดือน', '|25000|', '|bts|', '|อ|ห|.', '|k-my|', '|6|', '|ใช่ไหม|คะ', '|วัน|ครับ|', '|krungsri|', '|พบว่า|', '|เข้า|เมื่อกี้|เลย|', '|คือ|อะไร|คะ|', '|ผม|มี|ธนาคาร|ในใจ|อยู่แล้ว|', '|ทำไง|ครับ', '|usa|', '|ชำระเงิน|', '|เลว|', '|มาก', '|cap|', '|ขอบคุณ', '|แสน', 'สอบถาม|ผู้รู้|ค่ะ|', '|ต้อง|วิ่ง|ไป|จ่าย|ที่|ตู้|หน้า|ธนาคาร|', '|399|', '|ksme|', '|สอบถาม|หน่อย|ค่ะ|', '|internetbanking|', '|หน่อย|ค่ะ|', 'ขอบคุณ|มากๆ|', '|cash', '|ของ|ธนาคาร|bbl|', '|loan|', '|125|', '|ครั้งละ|', '|แล้ว|ทาง|', '|จน|วัน|ที่', '|ธนาคาร|ธนาคารเพื่อการเกษตรและสหกรณ์การเกษตร|', '|110|', '|โดน|ไป|', '|พี่|ๆ|', '|ขอบคุณ|ล่วงหน้า|ครับ', '|ธนาคารกรุงไทย|ไม่ได้|', '|ต้อง|ใช้|อะไรบ้าง|คะ', '|ติด|', '|ghb|', '|เหมือน|สมัยนี้|', '|เลขบัญชี|', '|สมัคร|', '|แถม|', '|วัน|แล้ว|', '|ครั้ง|แล้ว|', '|pay|', '|มา|ว่า|', '|bls|', '|20|', '|แจ้ง|ว่า|', '|โดยตรง|', '|เงิน|ไม่|เข้า|', '|แล้ว|พอ|', '|18.11|', '|นอกนั้น|', '|เบอร์|ถูก|', '|login|', '|dispute|', 'ขอโทษ|นะคะ|', '|บาท|อะ|', '|เอกสาร|ครบ|', '|ก.ค.|', 'แล้วก็|', '|เข้า|ไม่ได้|อะ|', '|201|', '|น', '|ไฟล์|', '|เขา|เลย|ป|ริ้น|ให้|', '|เดียว|', '|พนักงาน|แจ้ง|ว่า|จำนวน|ครั้ง|ที่|เข้า|จะ|นับ|ครั้ง|ตาม|การสรุป|ยอด|เข้า|บ|ช|', '|2563|', '|1333|', 'tao|', '|หรือเปล่า|', '|activate|', '|เครื่อง|เก่า|', '|3|-|4|', '|อยากทราบ|ว่า|เพื่อน|ๆ|', '|ไฟแนนซ์|ไทยพาณิชย์|โทร|มา|ทวง|', '|คะ|', '|amex|', '|twitter|', '|พูด|ง่ายๆ|', 'ktb_travel_card|', '|ไง|', '|ซื้อของออนไลน์|', '|ทำไง|ดี|ค่ะ', '|default|', '|ถาม|ทาง|', '|แล้ว|อย่างนี้|เรา|จะต้อง|ไป|ติดต่อ|ที่ไหน|ดี|คะ', '|ได้|', '|1.|', '|บาท|ต่อ|ปี|', '|เมื่อ|เวลา|', '|ประมาณ|กี่|วัน|', '|หมดอายุ|', '|บัตร|อนุมัติ|', '|แต่|เจ้าหน้าที่|', '|เหมือนกัน', '|ขอ|สอบถาม|หน่อย|ค่ะ|', '|advisor|', '|ui|', '|axa|', '|ซึ่ง|ไม่|ตรงกับ|ที่|โครงการ|ดีล|ไว้|เลย|ครับ|', '|สะดวกมาก|', '|ออ|ป|โป|', '|prime|', '|paotang|', 'อ้อ|', '|จะ|ร้องไห้', '|ติดต่อ|ยากมาก|', '|ref|.|2|', '|สาขา|เซ็น|ท|รัล|บาง|นา|', '|paul|', '|หลังจากนั้น|', '|โอนเงิน|ไม่ได้|เลย', '|เก่า|', '|3.00|', 'ผม|ก็|โดน|', '|ของ|gsb|แต่|ก็|ไม่มีใคร|รับ|เลย|พนักงาน|ติด|สาย|ทุก|คู่สาย|เป็น|ชั่วโมง|เลย|', '|ฮา|ๆ|', '|สมาร์ท|', '|เรา|ยัง|ไม่ได้|ข้อความ|เหมือนกัน|ค่ะ|', 'มึง|', '|3|-|6|', '|hack|', '|จน|วันนี้|วัน|ที่', '|sch|', '|บาท|เอง|', '|อ่าน|เงื่อนไข|อี|กรอบ|', '|19.35|', '|feedback|', '|time|', '|ห่วย|', '|หรือ|กี่|ปี', '|บัญชี|', '|เห็น|', '|อย่าง|เรา|มี|kbank|', '|เซ|ง|', '|ibank|', '|แจ้งเตือน|เงินเข้า|ไม่มี|สัก|ข้อความ|เลย|ค่ะ|', '|อนุมัติ|แล้ว|', '|first_choice|', 'นี้|', 'ติดต่อ|เจ้าหน้าที่|', '|เอา', '|แล้ว|', '|ธนาคาร|ค|', '|อยากจะ|สอบถาม|ว่า|', '|หลัง|', '|โลตัส|', '|99|', '|google|', '|เดิม|', '|เสียเวลา|', '|bk|', '|ที่อยู่|', '|อาชีพ|', 'ขอ|', '|adobe|', '|7000|', '|62|', '|พนักงาน|', '|slip|', '|banking|', '|แป๊บเดียว|ได้|เงิน', '|ของ|ประเทศ|', '|airpay|', '|ให้|หน่อย|', '|ธนาคารกรุงไทย|ได้|', '|5000', '|ภายใน|', '|รบกวน|หน่อย|ครับ', '|ไปยัง|', '|ผู้จัดการ|', '|ผ่อน|ได้|', 'จะ|โอนเงิน|', '|26|', 'tmb|', 'แรงมาก|', '|เงินเข้า|ทันที|', '|ได้|ภายใน|', '|ไม่|ค่ะ|', '|หรือไม่ก็|อัน|ที่|เทียบเคียง|คับ|', '|แย่|จริงๆ|', '|ของ|ทหาร|ไทย|', '|ถ้า|เกิน|', '|0.5|', '|แตก|', '|เป็น|อะไร|อีก|', '|เป็น|', '|tbank|', '|มีข้อดี|', '|บริการ|', '|มี|ข้อความ|จาก|', '|ค่ะ|', '|covid|19|', '|scb', '|น่าเบื่อมาก', '|ตั้งแต่|วัน|ที่', '|ซื้อ|', '|ขั้นต่ำ|เปิด|พอร์ต|ห้า|แสน|บาท|', '|ต้อง|มี|', '|ที่|ชำระเงิน|', '|ๆ|คะ', '|แต่|ใช้ไม่ได้|', '|อยาก|บอก|ว่า|', '|ชื่อ|ธุรกิจ|โดย|ชื่อ|เจ้าของร้าน|', '|กรุงเทพ|', '|เสร็จ|', '|bangkok|', '|เดือน|ละ|', '|และ|แอป|', '|ขอบคุณ|ครับ|', '|เริ่ม|', '|แปลกๆ|', '|วัน|', '|เงินฝาก|', '|ดู|', '|อีกครั้ง|', '|1315|', '|อัพ|', '|เช่น|', '|กรกฎาคม|', '|27|', '|อยาก|ร้องไห้|', '|แก้ไข|ยังไง|คะ|', '|199|', '|ทำ|อย่างไร|ได้|บ้าง|คะ|', '|แบบนี้|', '|ไม่|เสีย|', '|เสียดาย|', '|แต่|เงิน|ยัง|ไม่|เข้า|', '|แพงมาก|', '|promptpay|', '|บาท|ถ้วน|', '|มี|แอ|ฟ|', '|เหมือนกัน|ครับ|', '|นั่น|คือ|', '|กระเป๋า|ตังค์|', '|กบข.|', '|เป็นเวลา|', '|หัก|ยอด|', '|confirm|', '|นึก|ว่า|เป็น|คนเดียว|', 'เรา|ชนะ|', '|keptbykrungsri|', '|2565|', '|point|', '|จำกัด|', '|2|g|', '|reference|', '|เรา|ควร|ทำ|ยังไง|', '|cigna|', '|ไม่|มีอาชีพ|', '|พอ|เข้าไป|จะ|สมัคร|จริงๆ|', '|ไม่|สา|มาร|อนุมัติ|บัตรเครดิต|ของ|ท่าน|ได้|เป็นผล|จาก|เกณฑ์|พิจาร|ณ|รา|ของ|บริษัท|เท่านั้น|', '|grow|', '|แล้ว|ยัง|ไม่|เข้า|เลย', '|มาร|', '|ktsf|', '|แล้ว|ครับ|', 'แอ|ฟ|', '|พัก|ชำระเงินต้น|', '|ธนาคาร|หยุด|ไหม|คะ|', '|อ๋อ|', '|ตาม|หัวข้อ|กระทู้|เลย|', '|63', 'ทำไม|', '|journey|', '|วัน|ถัดไป|', '|โป|ร|', '|ๆ|ค่ะ|', '|9.00|', '|service|', '|นที|สถิต|ย|์|ธาร|', '|คือ|ช้า|มาก|', '|ครบ|', '|กทม|', 'โทร|ติดต่อ|', '|ได้|หรือไม่|ครับ|', '|ไม่|ช่วย|อะไร|เลย|', '|นี่|จะ|', '|19.00|', '|เหลือ|', '|ไม่เคย|ติด|', '|บาท|ทุกเดือน|', '|ที่|จ่าย|', '|ที่|บริษัท|', '|1.6|', '|เข้า|พร้อมเพย์|กรุงไทย|', '|gkivtec|', '|gsb', 'โอนเงิน|วัน|ที่', '|มาแล้ว|', 'ไป|ตู้', '|แย่มาก', '|เท่า|ค่ะ', 'โทร|ถาม|', '|0|', 'สมัคร|บัตรเครดิต|', '|ระยะเวลา|', '|private|', '|งง|ไป|หมด|', '|70000|', '|เชียงใหม่|', '|33|', '|จะ|', 'ธนาคาร|', 'แอป|', '|ใบ|', '|port|', 'รบกวน|สอบถาม|หน่อย|ครับ|', 'weply|', 'ผ่อน|บ้าน|กับ|', '|product|', '|ธนาคารกรุงไทย|', '|ทำ|บัตรเสริม|ของ|มาย|', '|ไป|แจ้งความ|', '|6000|', '|verify|', '|ดี|', '|gbp|', 'คล้ายๆ|', '|next', '|ผ่านไป|', '|มุ|แง|', 'หนี้|', '|พ|น.|', '|ใน|ใบแจ้งหนี้|จ่าย|', '|ได้|ครับ|', 'k|8888|', 'ไหน|ๆ|', '|เจ|', '|บลจ|', '|ช่วง|เดือน|', '|มาสเตอร์|การ์ด|', 'หลักๆ|', '|2500|', '|จะ|กู้เงิน|ใน|ไลน์|', '|66|', '|แหะๆ|', '|ไหม|', '|หรือ|พี่|ๆ|', 'ติดต่อ|คอลเซนเตอร์|', '|14|', '|เงินเข้า|ปกติ|', '|grabpay|', '|net|', '|โบราณ|จะ|ตาย|ชัก|', '|ข้อเสีย|', '|play|', '|amount|', '|ส่ง|มา|', '|apps|', '|ปลายทาง|', '|โทร|ไปหา|', '|คือ|อะไร', 'เติม|เงินเข้า|แอป|เป๋า|ตัง|ไป|', '|jitta|', '|ซื้อ|ผ่าน|', '|มากกว่า', '|ธนาคาร|ล่ม|', '|barcode|', '|เขา|บอก|', '|sme|', '|city|', '|ง่าย|สุด|', '|ไหม|คะ', 'และ|', 'ถาม|จริงๆ|', 'ส่วน|บัตร|', '|ได้|ค่ะ|', '|tg|', '|เยอะ|', '|คุย|กับ|', '|payment|', '|ktb|กรุงไทย|', '|call|', '|ยืนยัน|ตัวตน|ไม่ได้|', '|วัน|ที่', '|ในช่วง|', 'ผม|สงสัย|ว่า|', '|ปี|ขึ้นไป|', '|จ้า', '|แต่|ทั้ง', '|หัวใจ|ของ|เรา|มัน|จะต้อง|', 'cc|', 'บัตร|', '|ปกติ|', '|อยาก|ทุบ|นัก|ไอ้|ต้าว|กระปุก|หมู|นี่|', '|นานๆ|', '|มา|ดู|', '|2.|', '|ของ|bay|', '|300|', '|kept|', '|balance|', '|ส่วน|ที่|ไม่ต้อง|เป็น|ผู้โดยสาร|ก็|เข้าไป|ใช้บริการ|ได้|', '|ง|อง|', '|สามารถ|', 'ที่|สำคัญ|', '|in|', '|ก.|พ|', 'cimb|', '|หรือ|เหลือ|แค่นั้น|', '|t-t', 'บัตรเดบิต|', '|ธนาคาร|แล้ว|', '|rabbit|', '|300', '|master|', '|top|', '|รอ|นานมาก', '|หักบัญชี|', 'อยาก|ถาม|ว่า|', '|m|', '|เยอะ|ๆ|', '|luxe|', '|สำหรับ|ผม|', '|เป็นไร|', '|make|', '|เสียไป|', '|เส้า', 'suphakit|', '|หมุนเวียน|และ|', '|บัตรประชาชน|', '|ก็|แล้ว|', '|big|', '|เข้า|กรุงไทย|', '|เปิดบัญชี|กรุงไทย|', '|มี|สลิปเงินเดือน|', '|counter|', '|2600|', 'โอ้|ย|', '|จู่ๆ|', '|ธนาคาร|', '|กรุงไทย|ล่ม', '|รายเดือน|', '|490|', '|ขออภัย|ค่ะ|', '|ต้อง|จ่าย|', '|ได้|ไหม|', 'ดอกเบี้ย|', '|กด|โอนเงิน|', '|แล้ว|ต้อง|เสีย|อะไร|ไหม|', '|หน่อย', '|ก่อน|นะ|ครับ', '|เงิน|ก็|ไม่|เข้า|', '|เอ|อ|', '|พยายาม|', '|ยังไง|หรอ|คะ|', '|กอง|เดิม|', '|a-mobile|', '|อีห่า|', '|แล้ว|ต้อง|ทำ|อะไรบ้าง|', '|บาท|ต่อ|คะแนน|', '|หมดเวลา|การใช้งาน|ตลอด|ครับ', '|วัน|ค่ะ|', '|truemoneywallet|', '|แอป|ล่ม|', '|งี้|', '|4', '|transferwise|', '|ใคร|เป็น|บ้าง|ครับ|', '|ไม่ได้|แล้ว|', 'atm|', '|ไป|', '|speedy_loan|', '|ยอด|', '|web|', '|ทำ|มา|', '|shanghai|', '|สาย|ไม่ว่าง|ตลอด|', '|android|', '|iphone|', '|express|', '|ไม่|อนุมัติ|', '|ต|ค.|', '|เบอร์|แปลก|', '|สอบถาม|นิดนึง|ค่ะ|', '|2300|', '|kb|', '|มี|แค่|', '|วอ|ล|เลต|', '|ขออนุญาต|ถาม|หน่อย|ได้|ไหม|คะ|', '|โค|วิด_19', '|รอบ|ก็|ไม่|ผ่าน|', '|แต่|ไม่ใช่|บัญชี|หลัก|', '|ขีด|', '|visa|', '|ตั้ง|นาน|', '|มี|หนี้|บัตร|', '|ลงทุน|', '|ก็|มี|', '|ใช่|เรื่อง|ไหม|', '|ของ|รัฐ|', '|global|', '|10.28|', 'ขอบคุณ|ค่ะ|', '|ทั้ง|คนอื่นๆ|', '|ใช่ไหม|', 'โอน|เงินออก|', '|ชื่อ|เหมือนกัน|', '|แล้ว|นะ|', '|ทั้งหลาย|', '|ไม่|ใช้|เงิน|จนกว่า|จะ|เก็บ|ถึง|เป้า|', '|วุ่นวาย|มาก|', '22|', 'ขอ|สอบถาม|หน่อย|', '|ชม|', '|น่าจะ|', '|cancel|', '|โอนเงิน|ไม่ได้', 'คือ|หนู|อายุ|', '|ปลายทาง|ไม่|ได้รับ|', '|แอป|เป๋า|ตังค์|', '|od|', '|rejected|', '|paypal|', '|ก็ได้|นะ|', '|เงิน|ไม่|เข้าบัญชี|', '|อ|ห', '|วัน|ทำการ|', '|ปัง|มาก', '|เวลา|กลับ|ไปที่|กรม|ทหาร|บ้าน|เก่า|ใน|กรม|มัน|จะ|มี|แต่|ตู้', '|8700|', '|ไม่|เข้า|', '|ค่า', '|2330|-|0000|', '|นะ|จ๊ะ', '|เข้า|ไม่ได้', 'ช่วงนี้|', '|รบกวน|ทาง|', '|เอา|บัตร|ป|ป|ช|.|', 'ติดต่อ|ไปที่|คอลเซนเตอร์|ของ|ทาง|กรุงไทย|', '|จ่าย|ค่า|บัตร|', '|bankkokbank|', 'บัตรเครดิต|', '|หรือ|ต้อง|เสีย|เงิน|ไป|เปล่าๆ|', '|ไป|kbank|', '|opd|', '|ธนาคาร|ไหน|', '|บน|มือถือ|', '|kbank|เอาเปรียบ|บ|ลิงค์|', '|หัก|', '|แจ้ง|ว่า|ระบบ|มีปัญหา|', 'scb_jcb|', '|ไม่|ผ่าน|', 'tmb_touch|', '|ใหม|ครับ|', '|ป่ะ|', 'grab|', '|เข้า|ใช้งาน|', '|lazada|', '|แต่|จ่าย|ผ่าน|', '|แต่|เงิน|ไม่|เข้า', '|เงิน|ไม่|ออก|', '|ต้อง|ติดต่อ|', '|วัน|ละ|', '|21|', '|ก็|สมัคร|', '|ใน|', '|2557|', '|ถาม|จริง|', 'ขอบคุณ|ครับ|', '|--', '|เวลา|ติดต่อ|', '|ป|ล.|', '|pass|', '|ยอดเงิน|ไม่|เข้า|', 'โป|ร|บัตร|', '|t|1|', '|นาที|แล้ว|', '|ipo|', '|ขอ|ข้อมูล|จาก|ธนาคาร|อื่น|ได้|', '|k-esaving|', '|ส่วน|', '|ล้าน|บาท|', '|เลย|โทร|ไป|ถาม|', '|หัก|ต้น|ไป|แค่|เดือน|ละ|', '|สมัคร|ผ่าน|', '|22000|', '|15.45|', '|rmf|', '|เฉลี่ย|', '|scblt|2|', '|รอสาย|นานมาก', 'ที่|เรา|', '|เป๋า|ตังค์|', '|g-walle|', 'อ้าว|', '|12000|', '|แบบนี้|เรา|ทำ|ยังไง|ได้|บ้าง|คะ|', '|ติดต่อ|ไม่ได้|ค่ะ', '|จริงๆ|', '|45|', '|โอ้|ย|', '|connect|', '|ที่ผ่านมา|', '|เกือบ|', 'เจ้าหน้าที่|กรุงไทย|', '|tisco|', '|งง|มาก', '|60|', '|แต่|เงิน|ไม่|เข้า|ครับ|', 'กรุงไทย|', '|ซ่อม|ศูนย์|', '|41000|', '|ไป|เข้าบัญชี|', '|ก็|ไม่มีใคร|รับสาย', '|ไม่มี|เลย|', '|เหลือ|แต่|', '|37000|', 'aeon|', '|22|', '|set|', '|แต่|บัญชี|ปลายทาง|ไม่|ได้รับ|ยอด|', '|name|', 'จ่ายไม่ได้|', '|browser|', '|ยัง|เป็น|', '|ทำให้|ปลายทาง|ไม่ได้|รับเงิน|', '|แอ๊ป|', '|ดี|ไหม|คะ|', '|แต่|นี่|', '|ธนาคาร|คือ|', '|555', '|เท่าไหร่|', '|edc|', '|ดวง|ชม|ภู|', '|ลำ|ลูก|กา|', '|ปัด|ตก|', '|ติดต่อ|ผ่าน|', 'โดน|', 'เมื่อวาน|', '|account|', '|citibank', '|or|', '|อี|เวง|', 'บริการ|รับฝาก|', '|beyond|', '|กรุงไทย|บอก|ภายใน|', '|33000|', '|g|', '|90|', '|สำเนา|บัตร|', 'kept|', '|ทีนี้|', '|คืน|', '|pin|', '|ได้|ข้อมูล|ปั๊บ|', '1.|', '|งง', '|บ้าง', '|เงินเดือน|ผม|', 'ส่วน|', '|กลัว|โดน|หลอก|', '|เงิน|ไม่|เพิ่ม|ค่ะ', '|เมื่อวาน|อยู่|ที่', '|ทั้ง', 'ล่ม|อีก|ละ|', '|กรุงไทย|ล่ม|', '|อี|ค|วัย|', '|ได้|ไหม|ครับ', '|และ|ไม่สามารถ|', '|กด|อะไร|ไม่ได้|เลย', 'เป็น|นักศึกษา|', '|72|', '|สาย|ไม่ว่าง|ตลอด|เลย|', '|จบ|', 'โอนเงิน|จาก|ไทยพาณิชย์|', '|บาท|ผ่าน|พร้อมเพย์|', '|6.6|', '|เซ็ง|มาก', '|170|', '|itmx|', '|3.|', '|กด|สมัคร|', '|0.001|', '|อัตโนมัติ|', '|t_t', 'เบื่อ|', '|โคตร|กาก', '|คัน|', '|เข้า|ไม่ได้|', '|ปี|แล้ว|', '|บ่าย|', '|เจ้าหน้าที่|เต็ม|ทุก|คู่สาย|', '|ไป|ค่ะ|', '|ก็|น่า|ส|น|', 'โอน|จาก|กรุงไทย|', 'สอบถาม|เรื่อง|บัตรเครดิต|', '|โทร|กลับ|ไทย|ก็|ไม่ได้|', '|ipad|', '|อี|กรอบ|', '|ก่อน', '|ก็|ไม่|เข้า|', '|ต้อง|ทำไง|ค่ะ|', '|นี่แหละ|', '|ต้อง|นำ|บัตร|', '|ทาง|เพจ|', '|ของ|วันนี้|', '|ต่อ|', '|เป็น|เหมือนกัน|เลย|ค่ะ|', '|หรือไม่|ผ่าน|', '|ตอนนี้|เงิน|ยัง|ไม่|เข้า', '|มะ|', '|10000|', 'สนใจ|', '|โอน|ตัง|ไม่ได้|', '|ถ้า|ติด|แบล็คลิสต์|', '|ต้นทาง|', '|เป็นของ|', '|หาย|', 'ไม่ทราบ|ว่า|', '|รบกวน|ตรวจสอบ|ให้|ด้วย|ครับ|ฝ', '|umay|', '|ทอง|', '|แต่|บัญชี|ปลายทาง|ไม่ได้|รับเงิน|', '|ให้|ความ|รู้สึกแย่|จัง', '|ปี|ที่ผ่านมา|', '|1800|', '|black|', '|home|', '|scbeasyapp|', '|5|-|10|', '|ไม่ได้|ครับ', '|online|', '|เป็น|เบอร์|', '|jcb|', 'ซื้อ|ผ่าน|', '|kt-ashare|', '|tmb_all_free|', '|เวลา|', '|3|', '|กู้|', '|shoppee|', 'ไป|ขอ|สินเชื่อ|', '|เพราะ|กลับ|ไทย|ก็|ไม่ได้|ค่ะ|ตอนนี้', '|5400|', '|ได้|ลด|', 'โอนเงิน|', '|ยกเลิก|', '|ไป|ธนาคาร|', '|บาท|แน่ะ|', '|ถึง|', '|ค่า|ประเมิน|', '|24|', '|สาขา|ชน|แดน|', 'บัตรเครดิต|bbl|บัตร|แอร์|เอเชีย|ยอดฮิต|', '|800|', '|หมื่น|', '|ไป|แล้ว|', '|ส่วน|พวก|', '|oppo|', '|เช็ค|ยังไง|', '|รหัสผ่าน|', '|ทำไม|เข้า|ไม่ได้|', '|ผ่าน|มา|เกือบ|', '|แย่|ๆ|', '|รับ|แต่|เงิน|ห|ยวน|ของ|จีน|', '|ชาย|คน|หนึ่ง|', '|sbc|', '|truewallet|', 'พอ|', '|พรุ่งนี้|', '|โอน|เข้าบัญชี|', '|ตี|', '|vi|', '|ละ|นะ|', '|ผิด|', '|ล่ม|', '|แต่|อัน|ที่|ท้อป|อัพ|', '|เมื่อวาน|', '|d|', '|ถัดไป|', '|got|7|', '|เบอร์|โทร|', '|11000|', '|โทร|ไม่ติด|', '|kbank', '|pvd|', '|รบกวน|สอบถาม|', 'จ้า|', '|_', '|ไม่|เกิน|', '|สีเทา|', '|2017|', '|กี่|เดือน|', '|เห็น|บาง|ธนาคาร|ไม่ต้อง|ใช้|แสตมป์|ภาษีอากร|', '|b|', '|transection|', 'กรณี|', '|ไว้', '|ดีกว่า|เยอะ', '|6896|', '|อยากทราบ|ว่า|', '|ขอบคุณ|ล่วงหน้า|นะคะ|', 'จ่ายเงิน|ผ่าน|แอป|', '|reset|', '|ติดต่อ|ธนาคาร|เจ้าของ|บัตร|', '|อีดอก|', '|money|', '|trade|', '|100|', 'ป|ล|', '|ต่อมา|', '|me|', '|เก็บ|', '|ค|ห|', '|gateway|', '|16|', '|ถือ|บัตร|', '|justicetourbangkok', '|ผ่อน|ตก|ล้าน|ละ|', '|หรือ|ป่าว', '|เดือน|ครับ|', '|pttep|', '|ไม่มี|บัญชี|', 'รอ|', '|30|-|45|', '|จริง|ค่ะ|', '|ฮัลโหล|', '|กี่|', '|แค่|', '|190|', 'scb_m|', 'เรา|สมัคร|', '|บาท|ใน|', '|ไร|งี้|', '|จะ|สมัคร|', 'เปิด|', '|ก็|ปิด|', '|เมษายน|', '|cimb|', '|ไม่มี|แอป|', '|นี้|', '|บัญชี|ปลายทาง|', '|noti|', '|120|', '|สแกน|จ่าย|', '|here|', '|ขออนุญาต|', '|กับ|กรุงไทย|', '|หัว|จะ|ปวด|', '|pro|', '|ตามปกติ|', '|บ|ลา|ๆ|', '|buntoshi|', '|ทุกครั้ง|', '|ยัง|ไม่|เข้า|เลย|ครับ', '|ครั้งแรก|', '|qr|', '|ถ|', '|ace|', '|ผม|ใช้|', '|ชื่อ|', '|ยืนยัน|ตัวตน|ปุ๊บ|', '|มี|ค|', '|นะ|ครับ', '|ktc|', '|ตู้|แต่|ไม่มี|แบงก์|ย่อย|จ่าย|เลย|', '|โอน|วัน|ที่', '|a|', '|uk|', '|ธนาคารกรุงไทย', '|ก.พ.|', '|8|', '|ตอบ|โจทย์|ที่สุด|', '|1.3|', 'ได้|ดอกเบี้ย|', '|แน่นอน|', '|หรือ|ตาม|แต่ละ|พื้นที่|', '|ฉบับ|', '|ฉะนั้น|', '|you|', '|หน่อย|', '|เหลือ|แค่|', '|ผม|ต้อง|ทำ|ยังไง|บ้าง|ครับ', '|830|', '|กับ|บัตรประชาชน|', '|สามารถ|เปลี่ยน|', '|pin', '|อะ', '|ว่า|จะ|ไม่|สมัคร|อีกต่อไป|ละ|', '|อยาก|สอบถาม|เพื่อน|ๆ|', '|ดีมาก|เหมือนกัน|', '|เซ็ง', '|อี|เวน|', '|ทุก|ธนาคาร|', '|ทำ|บัตร|', '|23000|', '|อะไร|เนี่ย', '|ชอบ|', 'ทำ|', '|log|', 'ktb|', '|ไม่|ระบุ|แบบ|', '|บอก|ว่า|รีบ|เร็ว|เด่|ว|เต็ม|นะ|', '|สงสัย|', '|โอน|', '|ฯลฯ|', '|ต่างประเทศ|', 'พรุ่งนี้|', '1555|', '|scan|', '|ไม่|ขึ้น|', '|รองรับ|', '|generali|', '|ธนาคาร|ghb', '|ปีก่อน|', '|ใช้ได้|', '|แง้|', '|เรา|สนใจ|และ|อยาก|สอบถาม|ข้อมูล|', 'โอนเงิน|จาก|kbank|', '|โอนเงิน|ผ่าน|', '|เพราะ|เรา|', '|ไม่สามารถ|ดำเนินการ|ใดๆ|', '|แต่|ภาพ|ไม่|ใช้|', '|หรือว่า|', '|ขอนแก่น|', '|แย่|แย่|แย่', '|ขอความช่วยเหลือ|', '|มา|kbank|', '|mobile|', '|โมง|ครึ่ง|', 'ทำไม|ถอนเงิน|ผ่าน|', '|ของ|ตัวเอง|', 'ktc|', '|เพื่อ|เปิดบัญชี|', '|1|-|3|', '|1.|ผม|ต้อง|แจ้ง|อะไร|กับ|ทาง|', '|หายไป|ไหน|', '|ไม่ได้|ครับ|', '|สามารถ|จ่าย|ผ่าน|', '|ใช้เวลา|กี่|วัน|ครับ|', '|version|', '|โทร|ทุกวัน|', '|โอนเงิน|ไม่ได้|', '|ไม่|ผ่าน|เกณฑ์|', '|เงิน|ยัง|ไม่|เข้า|', '|mint|', '|ที่|เป็น|ธนาคาร|', 'ส่วน|ทาง|', '|ไป|ทำ|ที่|ตู้', '|ปี|แล้ว|ครับ|', '|โท|ร.|', '|ใหม่ๆ|', '|design|', '|บาง|สาขา|', '|อยากจะ|ผ่อน|คอน|โด|ราคา|', '|ก็|ต้อง|มี|ระยะ|รอคอย|', '|จน|วันนี้|เพิ่ง|มี|หมายศาล|ส่ง|มา|ที่บ้าน|ที่|', 'อยู่ดีๆ|', '|ก็|มา|', '|วัน|ๆ|', '|7|-|8|', '|ยัง|ๆ|', '|ไม่ไหว|', '|สอบถาม|ทาง|', '|ขอบคุณ|', '|23|', '|มา|ให้|', '|สุดท้าย|คุณ|ก็|หยอด|จน|เต็ม|', '|หมายเลข|อ้างอิง|', '|จะ|โอนเงิน|', '|นิดๆ|', '|ไม่มี|กำหนด|หมดอายุ|', '|หมายถึง|', '|เป็น|จำนวนเงิน|', 'วันนี้|แอป|', '|แบงก์|', '|คะแนน|', '|ก็|ถอย|', '|1600|', '|นานไป|ไหม|', '|atm|', '|ไม่มี|บัตรเอทีเอ็ม|', '|โทร|ไป|ถาม|', '|จะ|ไม่|ปรับ|สลิป|จิงอ่อส|ลิบ|เอ้|ม|แบงก์|กิ้ง|คือ|ไป|พัก|', '0|1012564|', '|ผ่าน|ทาง|แอป|', '|เข้าบัญชี|', '|ฝาก|', '|ใช้|แต่|', '|ต้อง|เสีย|เงิน|กี่|บาท|ครับ|', '|ละ|', '|e-savings|', '|ถึงจะ|ได้|', '|พี่|', 'กรุงไทย|ล่ม|หรอ|', 'แล้ว|', '|ตอนนี้|วัน|ที่', '|อะไร', 'วันนี้|เวลา|', '|พอดี|', '|ค่า|บ้าน|', '|400|', '|ได้|แล้ว|นะ|ครับ|', '|รบกวน|ด้วย|นะคะ|', '|truemoney|', '|bbl|', '|ปล่อย|', '|ที่ธนาคาร|', '|ผิด|เบอร์|', '|ของ|บัญชีธนาคาร|นิติบุคคล|ที่|ปิด|ไป|แล้ว|ต้อง|ทำ|อย่างไรบ้าง|คะ|', '|คน|ทำคนเดียว|กัน|เหรอ|', '|ขออภัย|', 'เตือนภัย|', '|ปีนี้|', '|ใคร|เข้าระบบ|ได้|มั่ง|ครับ|', '|kplus', 'atm', '|ท|รู|มูฟ|', '|จน|ต้อง|ถ่อ|ไปถึง|โร|บิน|สัน|เอง|', 'อยากทราบ|ว่า|', '|แค่|ยื่น|บัตร|ให้|', '|09.00|', '|หนึ่ง|', '|เงิน|โดน|หัก|', '|ไม่|ถึง|', '|สัปดาห์|', '|งง|ค่ะ|', '|มา|ที่|เบอร์|', '|อาย|เพื่อน', '|ล้าน|', 'มี|บัตรเครดิต|', '|11.00|', '|มัน|', '|the|1|', '|บัตรเครดิต|', 'ขออนุญาต|สอบถาม|นะคะ|', '|ไม่ได้|คะ', '|17|', '|ขอบคุณ|ค่ะ', 'รีวิว|', '|สวัสดี|ค่ะ|', '|แล้ว|ไม่มี|', '|gs|', '|ไม่สามารถ|', '|ขึ้น|', '|ต้อง|ทำ|ยังไง', '|ตกลง|', '|tech|', '|เมื่อ|', '|ขอโทษ|ค่ะ|', '|ปรากฏ|', '|ตาม|นี้|ครับ|', 'krungthai_care|', '|เหมือนกัน|', '|ดอกเบี้ย|', '|สถานะ|เหมือนเดิม|', '|จำปา|รัต|น|์|', '|ava|', '|ประมาณ|', '|แอป|กรุงไทย|', '|passport|', '|910|', '|เพราะอะไร|', '|โทร|ไป|ไม่เคย|ได้|คุย|', 'คุณ|', '|แก้|ด่วน|', '|เป๋า|ตัง', '|ค่าธรรมเนียมรายปี|', '|เป็นการ|ผิดพลาด|ใน|การ|ตีพิมพ์|เอกสาร|', '|2|-|4|', '|free|', '|ไว้|ใน|', '|ยืนยัน|ตัวตน|', '|ก็|ขึ้น|ว่า|', '|โดย|ใช้|', 'สอบถาม|นะคะ|', '|finnomena|', '|covid-|19|', '|ซิ|ม|', 'โทร|เข้า|', '|แต่|บัตร|ใหม่|ที่|เป็น|', '|350|', '|อุดรธานี|', '|รอสาย|', 'kbank_live|', '|rop|', '|scb_prime|', '|นี่|คือ|', '|งวด|ละ|', '|line|', '|e|', '|หลาย|รอบ|มาก|', '|ktb_travel_card|', '|เหรอ|', '|อยู่|ๆ|', '|520|', '|premier|', '|เป็น|อะไร|', 'นวล|จันทร์|', 'visa|', '|ไป|อีก|', '|รบกวน|ด้วย|ครับ', '|4500|', '|back|', '|มีปัญหา|', 'ถึงว่า|', '|ตอนนี้|เหลือ|', '|บาท|ค่ะ', '|คุณ|', '|kbank_wisdom|', '|บช.|', '|app|', '|uob|', '|scb_easy', '|care', '|1200|', '|ของ|ระบบ|', '|ใส่|จำนวนเงิน|', '|ผ่อน|', '|ไป|ธนาคาร|อื่น|', '|ระบบ|เป็น|อะไร|ครับ|', '|วอ|เลต|', '|ไม่ได้|ค่ะ|', '|แต่|เงิน|ไม่|ออก|', '|สอง|ล้าน|', '|ไม่รู้|', 'แล้วก็|นะ|', '|ต้อง|ทำไง|ครับ|', '|จบ|ข่าว|', '|โมโห|', '|ต้นทาง|กรุงไทย|', '|115000|', '|ขัดข้อง|', '|อายุงาน|', '|รอบ|ไม่|ผ่าน|', '|เลย|ค่ะ|', '|parkjihoonfanconinbkk', '|เงิน|ไม่|เข้า|เลย|ครับ|', '|society', '|ใช่|ๆ|', '|ทวง|แทน|', '|ตั้งแต่|ปี|', '|กด|ฟรี|ทุก|ตู้|', 'โอเค|', '|ใบ|ที่', '|เปน|ไร|วะ', '|มี|นา|', '|ว|ด|ฟ|', 'ตอน|', '|กด|เงินสด|', 'มิน่า|', '|เท|ค|ไป|', '|smebank|', '|ผม|ต้อง|ทำ|อย่างไร', '|โอนเงิน|ผิด|บัญชี|', '|จ่าย|ก่อน|', '|นี่|โอน|จาก|', '|หน่อย|ค่ะ', '|rungruang|', '|และ|บัตร|กดเงิน|', '|แง้', 'kplus|', '|อย่างเดียว|', '|ระบบ|', '|ฟ|รีๆ|', 'ขอ|สอบถาม|ผู้รู้|หน่อย|ครับ|', '|bangkokbank|', '|support|', '|of|', '|society|', '|busayarat|', 'เพื่อน|ๆ|', '|ไม่ทราบ|ว่า|', 'เวร|', '|ยัง|ไว|กว่า|เยอะ|', '|บัตร|หมดอายุ|', '|ต้อง|', '|shop|', '|มี|แล้ว|', '|แต่|บัตรเครดิต|', '|ดู|ครับ|', '|ทุ่ม|ของ|มึง|เนี่ย|เหมือนกัน|เลย|จ๊ะ|', '|ค่ะ', '|สอบถาม|ค่ะ|', '|ผูก|', '|uob', 'บัตรเครดิต|bbl|', '|จาก|บัญชี|', '|ใช้งาน|ไม่ได้|', 'นี่|ได้|ดอกเบี้ย|มา|', '|signature|', '|แล้ว|คะ|', '|ถ้า|เปิด|', '|1599|', '|เพราะว่า|', '|และ|ให้|เรา|ยืนยัน|ตัวตน|', '|นี้|ก็|', 'ตาม|หัวข้อ|กระทู้|เลย|ค่ะ|', '|1.30|', '|16.30|', '|นี่แหละ', '|บ.|ช|.|', '|g-wallet|', '|ต่อ|เดือน|', '|มี|.|ค.|', '|ก็|ใช้ได้|ปกติ|ครับ|', '|พนักงาน|เกือบ|ทั้งหมด|พูด|กับ|ลูกค้า|', '|icbc|', '|ล่ม|เหรอ', '|แล้วก็|', '|ต้อง|รอ|ตรวจสอบ|', '|ต่างๆ|', '|ขอคำแนะนำ|หน่อย|ค่ะ|', 'ขอ|สอบถาม|หน่อย|ค่ะ|', '|17|-|01|-|2563|', '|ตอน|เปิดบัญชี|', '|station|', '|ช|', '|4|g|', 'โทร|หา|', '|the|', '|โทร|', '|มี|ไหม|', '|ล่ม|เก่ง', '|อาทิ|', '|steam|', '|สู้|', 'เติมเงิน|', '|เนี่ย|', '|สลาก|ธนาคารเพื่อการเกษตรและสหกรณ์การเกษตร|', '|bdms|', '|ขึ้นไป|', '|-', 'คำถาม|คือ|', '|รบกวน|ขอคำแนะนำ|ด้วย|ครับ|', '|ท|รู|มูฟ|หรอ|', '|k-express|', '|7|-|14|', '|เดี๋ยว|นะ|', '|ก่อนหน้านี้|', '|ลง|แอป|', '|แต่|ประเด็น|คือ|', '|ไม่เข้าใจ|', '|2561|', '|เรียบร้อย|', '|สวัสดี|ครับ|', '|cardless|', '|fc|', '|7|-|11|', '|แล้วจะ|ให้|ทำ|ยังไง|ได้|บ้าง|ครับ|', 'วันนี้|ไป|ธนาคาร|ถาม|พนักงานธนาคาร|ถึง|การ|นำส่ง|ข้อมูล|บัญชีเงินฝาก|ไปยัง|กรมสรรพากร|ที่|มีเงื่อนไข|ว่า|รับ|โอน|', 'เหลือ|', '|ค่าธรรมเนียม|บัตร|', '|เดือนก่อน|', '|แต่|ยอด|ไม่|เข้า|', 'ที่|', '|รีวิว|เกาหลี', '|จะ|เอา|บัตร|กด|ยัง|ไม่ได้|อีก', '|คิดว่า|', '|จ่ายเงิน|', '|ใช้จ่าย|', '|บาง|', '|ย้อนหลัง|', 'แล้ว|ทำไม|', 'มาๆ|', '|แต่|มี|', '|แง', '|ธันวาคม|', '|อย่า|หวัง|ว่า|กด|โอน|เงินได้|สำเร็จ', 'ค่ะ|', '|alert|', '|64|', '|โอ้|ย', 'ขอ|สอบถาม|คะ|', 'สอบถาม|หน่อย|ค่ะ|', '|ไม่ติด|เลย', 'รอสาย|', '|ไม่มีปัญหา|เลย|', '|7500|', '|โยน|กัน|ไป|โยน|กัน|มา|', '|ndid|', '|ค่า|เทอม|', '|75|', 'ปกติ|', '|จบ', '|ล่ม|หมด|', 'สอบถาม|คะ|', '|คือ|อะไร|', '|100', 'กด|บัตร|', '|นาที|', '|ตอนนี้|พอจะ|ผ่อน|เลย|วางเงิน|นิ่ง|ๆ|', '|กันยายน|', '|ปกติ|ที่|ถอน|คือ|', '|e-mail|', '|มีเงิน|', '|จะ|ผ่าน|ไหม|ครับ|', 'คอลเซนเตอร์|', '27|', 'mon|', '|พอร์ต|', '|แต่|สมัคร|', '|รบกวน|ตรวจสอบ|ให้|ด้วย|ครับ', '|กัน|', '|your|', '|พอ|กุ|ลบ|โลด|ใหม่|', '|ต้อง|ทำ|ยังไง|คะ|', '|ธนชาต|', '|มัน|มีระบบ|คล้ายๆ|', '|เอา|จริงๆ|', '|scb_mobile|', '|วัน|แล้ว', '|กับ|', '|ทั้งๆ|', '|ที่|สาขา|', 'นาๆ|', '|4|-|5|', '|ก|ย|ศ.|', '|ดู|ยากมาก|', '|k-cyber|', '|30|', '|ais|', '|1', '|กรุงไทย|ค่า', '|ไป|เมื่อ|วัน|ที่', '|กด|ตัง|จาก|ตู้|ทหาร|ไทย|ได้|ถูกต้อง|ไหม|', '|จาก|ธนาคาร|', 'เติมเงิน|ผิด|เบอร์|ค่ะ|', 'ผม|ใช้|', '|เดือดร้อน|มากๆ|', 'แอป|kbank|', '|oil|', '|leasing|', '|major|', '|สูงกว่า|', '|bigc|', '|welcome|', '|จ่ายเงิน|ไม่ได้|', '|ของ|กรุงเทพ|', '3.|', '|ตั้ง|', '|คือ|', '|อยู่ดีๆ|', '|24000|', '|เสียความรู้สึก|มาก|', '|แก้ไข|', '|infinite|', 'windy|', '|เพื่อ|ยืนยัน|ตัวตน|', '|ของ|วัน|ที่', '|จริง|', '|kbankxblackpink|', '|เลย', 'อ|ห|', '|สาย|', 'tmrw|', '|ลูกค้า|โอน|จาก|', '|จนถึง|บัดนี้|', '|เปิด|พร้อมกัน|', '|cashback|', '|ยกเว้น|', 'ประ|วิช|', '|พ|รบ|', '|แบน|', '|mask|', 'เคย|มี|', '|ดี', '|320|', '|100|k|', '|ยัง|ไม่|เข้า|', '|aot|', '|ใน|แอ|ฟ|มัน|เป็น|ออ|มท|ร|พ|ย|์|', '|ใช้ง่าย|', '|โทร|ไป|', '|process|', '|เพราะ|บัตร|', '|มือถือ|', '|wealth|', '|สุดท้าย|', '|vpn|', '|ไป|ตอน|', '|หงุดหงิด', '|up|2|me|', '|.|co|.|th|', '|55', 'พวก|', '|ล่ม|ทุกครั้ง|', '|ในกรณีที่|', '|สินเชื่อ|เสริม|พลัง|ฐานราก|', '|และ|มี|', 'ผม|อยาก|สมัคร|', 'gsb|', '|trip|', 'โอ้|', '|ทำ|ยังไง|ดี|คะ', '|ห่วย|ๆ|', '|mi|', '|planet', '|code|', '|failed|', '|lh|', 'โทร|', 'wallet|', '|ขอ|ข้อมูล|', '|เรา|ใช้|', '|euro|', '|เมื่อ|วัน|ที่', '|youtube|', 'โหลด|แอป|', 'แนะนำ|', '|เมื่อก่อน|', 'ล่ม|เก่ง|', '|16.08|', '|เปน|', '|ems|', 'แอป|bbl|', '|แต่|ไม่|เกิน|', '|สัก|ปี|ละ|', '|ล่ม|อ่อ|', '|บ้าง|ครับ|', '|3500|', '|เมื่อไร|', '|digital|', '|กลัว|จะ|มีปัญหา|', '|กด|ไม่ได้|', '|หมด|', '|ทำ|ยังไง|', '|ตาม|', '|ฝาก|เบอร์|โทร|กลับ|', '|โว้ย|', '|รอ|ดู|', 'จริง|ค่ะ|', '|ปล่อยกู้|', '|19|', '|scb|ค่ะ', 'สวัสดี|คะ|', '|ลอง|ไป|ศึกษา|ดูก่อน|', '|kbank|ไป|', 'baac|', '|เปลี่ยนเป็น|เบอร์|', '|ล่ม|อีกแล้ว|จ้า', '|ตอนนี้|', '|อื่น|', '|เลย|นะ|', '|add|', '|yolo|', '|รอคิว|', '|ไป|ก่อน|', '|cc|', '|จะ|บ้า|ตาย', '|โดยประมาณ|', '|บัตร|', '|scb_my_travel|', '|เช็ค|จะ|', '|kbankxblackpinkfanmeeting', '|29|', '|275|', '|เหลือ|ง|', '|fund|', '|เวง|', '|สำนักงานใหญ่|', '|เกี่ยวกับ|', '|เกิน|', '|สิ|ครับ|', '|rewards|', '|2692|', '23|', 'chanathammakhon|', '|ปี|ที่', '|ต้อง|ทำ|ยังไง|', '|พฤศจิกายน|', '|no|', '|ครั้ง|ที่', '|10|m|', '|โทร|เช็ค|กับ|ธนาคารกรุงไทย|ชัว|กว่า|ค่ะ|', '|jmart|', '|weverse|', '|kkp|', '|ล่ม|อี|ควาย|', '|โดย|', '|citi_ready|', '|usd|', '|ขอบพระคุณ|มาก|ครับ', '|รึ|เปล่า|ครับ|', '|premium|', '|เงิน|ยัง|ไม่|เข้า|เลย|ค่ะ|', '|ใคร|เป็น|บ้าง', '|ช่วง|', '|ตัดเงิน|ใน|บัญชี|แล้ว|', '|เมย|', 'ของ|ผม|', '|600|', '|high|', '|16000|', '|แต่|ใช้ไม่ได้|คะ|', 'citibank|', '|บัญชี|ฝากประจำ|ของ|', 'ขออนุญาต|สอบถาม|ครับ|', '|rueantan|', '|เดือดร้อน|', '|ผม|ก็|', '|ไม่งั้น|', '|ว่า|ตอนนี้|', 'ถ้า|จ่าย|', '|bitkub|', '|pround|', '|ต.ค.|', 'พอดี|', 'สอบถาม|หน่อย|ครับ|', '|ไม่ได้', '|ของ|วันนี้|ให้|ลอง|เช็ค|ที่|บัญชี|ปลายทาง|ก่อน|ถ้า|ไม่|ได้รับ|ก็|ให้|เช็ค|พรุ่งนี้|อีกที', '|เสีย|ค่าธรรมเนียม|อีก|', '|ของ|ธนาคาร|อื่นๆ|', '|msig|', '|uchoose|', '|เบื่อ|', '|ทั้ง|เรา|', '|เป็นสมาชิก|', 'โอน|', 'android|', '|โอน|เข้า|กรุงไทย|', '|กู|', '|หมายความว่า|', '|ธนาคาร|แจ้ง|ว่า|', '|ทุกเดือน|', '|tmb_touch|', '|scbam|', 'รอ|ประมาณ|', '|เสือก|บอก|ให้|กุ|ไป|ขอ|รหัสพิน|กับ|ธนาคาร|', '|เถอะ|', 'หุ้น|', '|โทร|ไป|ก็|ไม่ติด|', '|toyota|', '|โค|วิค|', '|ไหม|ครับ|', 'spoil|', '|care|', '|คิว|ยาว|', '|ดีจัง|', '|บิ๊ก|ซี|', 'ผ่าน|มา|', '|ด้วย|ละ|อ่า|', '|ล่ม|อีก|', '|หมายความว่า|ยังไง|คะ|', 'ผม|เดินบัญชี|กับ|', '|tmb|', 'ใน|แอป|', '|ขอบคุณ|ล่วงหน้า|ค่ะ|', '|snoopy|', '|เท่านั้น|', 'application|', 'ผม|สมัคร|บัตร|', '|edition|', '|ฆ|ษ|ณ|', '|โทร|ตั้งแต่|', '|เน็ต|', '|กรุงไทย|', '|ง|อง|มาก', '|and|', '|ได้|มั๊ย|', '|ไหม|คะ|', '|วันนี้|', '|จัง|', 'เติมเงิน|ผิด|เบอร์|ครับ|', '|เลิก|เบื่อ|', '|ได้|วงเงินรวม|', '|หรอ|คะ|', '|บริการ|ดี|', '|แต่|ไม่|เข้า|บัช|ชี|', '|เพราะ|เงิน|ออกจาก|ธนาคารกรุงไทย|แล้ว|ครับ|', '|starbuck|', '|callcenter|', '|set|50|', '|comment|', '|ขนาด|', '|ก็|', '|อี|หน้า|เหี้ย', '|chubb|', '|เช็ค|', '|ไปรษณีย์|', 'kbank|', '|หรือ|ต้อง|', '|ไฟ|', '|611|', '|ขายของ|เช็ค|ยากมาก|ค่ะ|', '|ติดต่อ|ไม่ได้|', '|order|', '|ในนาม|บริษัท|', '|scb-m|', '24|', '|live|', '|ใน|วัน|ที่', '|เฮ้อ', '|เป็น|อะไร|อ่ะ|', '|อ่ะ', '|ต้นๆ|', '|gsb|', '|โฆษณา|ว่า|', '|เกือบ|ทั้ง|องค์กร', '|nav|', '|10|k|', '|ต้อง|เปิดบัญชี|', '|ontop|', '|ก็|ไม่มี|คนรับ|', '|ios|', '|ไทยพาณิชย์|', '|ไม่ได้|', 'แล้ว|แต่ละ|ธนาคาร|ใช้|เอกสาร|อะไรบ้าง|ครับ|', '|wha|', '|กดเงิน|ไม่|ใช้|บัตร|ไม่ได้|ค่ะ|', '|ตะกี๊|จะ|จ่าย|ค่า|บัตรเครดิต|ก็|ไม่ได้|', '|tower|', '|อย่าง|', '|แง|', '|error|', '|ละ|เพิ่ม|', 'รี|ล่า|', '|เหมือน|', '|3|g|4|g|', '|ญี่ปุ่น|', '|โทร|ไม่ติด|ครับ|', '|2|-|3|', '|เปิด|', 'สินเชื่อบ้าน_scb|', '|พอ|ถึง|วัน|ที่', '|มาก|', '|นะ', '|ข้าราชการ|', '|krungthai_care|', '|pic|.|twitter|.|comrw|84|ubnuum', 'ล่ม|เก่ง|มาก|', '|scb|.|', 'เจ้าของ|กระทู้|', '|เพิ่ง|โทร|ถาม|ktb|เขา|บอก|แปล|ว่า|สนาม|สอบ|นั้น|เต็ม|แล้ว', '|รักษา|', '|น้อง|', '|ทุ่ม|กว่า|ๆ|', '|wifi|', '|2.49|', '|เรา|ชนะ|', '|ของ|bbl|', 'เจริญ|', '|เปิดบัญชี|ไม่ได้|', '|ของ|kbank|', '|มือถือ|หาย|', 'เอ้|อ|', '|เหอะ|ๆ|', '|8.1.2020|', '|ทำไง|ครับ|', '|4.|', '|customer|', 'swift|', '|โปรโมชั่น|', '|หรือ|ยังไง|', '|ธนาคาร|บอก|ว่า|', '|35000|', '22|072019|', '|กู้|ได้|', '|โอนเงิน|มา|ให้|แล้ว|ครับ|', '|ที่|เป็น|', '|ฮ่องกง|', '|เข้า|แล้ว|นะคะ|', '|หมายเลข|', '|ประเด็น|คือ|', '|มีปัญหา|อะไร|', '|ติดต่อ|ธนาคาร|', '|มัน|ขึ้น|ว่า|', '|แล้วก็|ส่งจดหมาย|แจ้ง|ว่า|', '|อิอิ|', '|ไป|ครับ|', 'โอน|ผ่าน|แอป|', '|streaming|', '|มิถุนายน|', '|ที่|จาก|', '|ใดๆ|', '|จาก|ตู้', '|สอง|รอบ|ละ|ที่|ส่ง|', '|เห้อ|', '|bookbank|', '|เกิด|จาก|อะไร|คะ|', '|ใน|สาขา|', '|ช่วงนี้|', '|ชาว|พันทิป|', '|payroll|', '|และ|จน|ป่านนี้|', 'ได้|ครับ|', '|ไทยพาณิชย์', '|สรุป|', '|-|31|', '|ช่อง|', '|dec|', 'ออกๆ|', '|63|', '|ใช้|ของ|', '|หรอ|ครับ|', '|มี|.ค|', '|จ่าย|ผ่าน|', '|margin|', '|ระวัง|หน่อย|', '|ข้อมูล|บัญชี|หาย|ใคร|เป็น|บ้าง|ครับ|', '|หักเงิน|ไป|แล้ว|', '|mebytmb|', '|ถาม|พนักงาน|ที่|สาขา|บอก|ว่า|ใช้ได้|', '|บอก|ว่า|', '|ออก|', '|100000|', '|เซ็ง|มากๆ|', '|เป็น|ส่วนลด|', '|มากกว่า|', '|เอ่อ|', '|80|', '11|43|', '|ไม่ได้|เลย|', '|ของ|ไทยพาณิชย์|', 'เป็น|เหมือนกัน|เลย|ครับ|', 'scb_easy|', '|ของ|วันพรุ่งนี้|', '|friendtag|', '|dca|', '|รอ|ถึง|', '|268|', '|จำนวน|', '|store|', '|2600000|', '|คืน|บัตร', '|โดยที่|เรา|ไม่ได้|เข้า|', '|แรกๆ|', 'เหมือน|', '|มี|บัตร|', '|option|', '|ดีจริง|', '|74|', '|ขอบคุณ|คับ', '|เวลา|เดินทาง|ไป|ต่าง|พื้น|ที่แล้ว|ใน|พื้นที่|นั้น|มี|ตู้|ของ|ธนาคาร|อื่น|ไม่ใช่|ธนาคาร|ที่|เรา|เปิด|ไว้|มัน|ก็|กด|ตังค์|ไม่ได้|ถูก|หรือเปล่า|ล่ะ', '|วันก่อน|', '|ชื่อ|ญาติ|', '|คลิก|เพื่อ|ดู|ข้อความ|ที่ซ่อน|ไว้|', '|มีปัญหา|หรือไม่|คะ|', '|tfex|', '|700|', '|ทอง|ๆ|', '|จน|ผ่านไป|เป็น|เดือน|แล้ว|', '|ไม่ทราบ|ว่า|จะ|ผ่าน|ไหม|คะ|', '|ส|ภ|.|', '|โอนเงิน|จาก|', '|แต่|ยัง|ไม่|เข้า|', '|ได้|ไหม|คะ', '|บาท|', '|อี|เหี้ย', '|ไม่มี|ประวัติ|จ่าย|ช้า|ของ|ใบ|นี้|ครับ', '|ไม่|', '|จน|ตอนนี้|วัน|ที่', '|0', '|ธนาคารไทยพาณิชย์|', '|พอดี|ว่า|', '|ปี|กว่า|แล้ว|', '|สวัสดี|', 'เอ|', '|user|', '|aliexpress|', '|เสี่ยว|มี่|', '|ต้อง|ใช้|อะไรบ้าง|', '|ออก|บัตรเดบิต|ไม่ได้|', '|ไม่|ต่ำกว่า|', 'tmb_all_free|', '|เป็นต้น|', '|แม่|ง|', '|รอบ|แล้ว|ค่ะ|', '|ลอง|', '|ทำ|ยังไง|ดี|ครับ', '|แต่|ยอดเงิน|ไม่|เข้า|ปลายทาง|', '|starbucks|', '|ก็|เป็น|', '|กรุงไทย|ด้วย|', '|สแกน|หน้า|', '|และ|ใช้|วงเงิน|ค้ำประกัน|ต่ำสุด|กี่|บาท|ได้|บัตร|ประเภท|ไหน|บ้าง|ครับ', '|อยู่|ที่', 'ผม|มี|', 'เมื่อ|เช้า|', '|kcl|', '|ใบ', 'ใบสมัคร|ผม|ก็|จ|พ|หมดอายุ|แล้ว|', '|5|-|6|', 'เบอร์|', '|อีห่า', '|เอ้า|', '|แล้ว|รอ|', '|เงิน|', '|สุด|', '|ต้อง|ใช้|', '|แต่|ก็|นั่นแหละ|', '|เลย|ไม่มีปัญหา|', '|จ้า|', '30|', '|ตั้งแต่|เมื่อวาน|', '|13.30|', '|ต้อง|ทำไง|ค่ะ', '|hr|', '|เหมือนเดิม|', '|ปันผล|', 'อยาก|ยกเลิก|บัตร|', 'bbl|', '|เพราะ|บัตร|กรุงไทย|ตัวต้นเหตุ|เลย|', '|statement|', '|เอง|ครับ|', '|เบี้ยประกัน|', '|ก็|ไม่มี|', '|เลย|นะคะ|', '|แต้ม|', 'จ่ายเงิน|ผ่าน|', '|save|', '|ผ่าน|ทาง|', '|ไหม|ค่ะ|', '|ปี|ค่ะ|', '|ได้แก่|', '|ต้อง|ทำ|ยังไง|ครับ|', '|อยาก|ถาม|ว่า|', '|เอทีเอ็ม|', '|ลด|ๆ|', '|แล้ว|อยู่|ๆ|', '|กดเงิน|ไม่|ใช้|บัตร|', 'มี|บัตร|', '|atm', '|emoji|', '|แรก|', '|sietongkum|', '|เหม่อ|', '|นาน|', '|จะ|ได้|ไหม|คะ|', '|ซึ่ง|สถานการณ์|ตอนนี้|ก็|คือ|ไม่|อยาก|ออกไป|ไหน|เลย|', '|ถ้า|', 'ทำ|ประกัน|', '|-_-', '|agoda|', '|จะ|ใช้|', '|คือ|ไร|อ่ะ', '|ล่ม|อีกแล้ว|', '|จน|บัดนี้|', '|หมดแล้ว|', 'ไป|', '|ผ่าน|แอป|', '|citi_premier|', '|เปิดบัญชี|', '|update|', '|ว่า|', '|บ้าบอ|', '|ไป|พร้อมเพย์|ผูก|กับ|', '|มา|ใหม่|', '|กว่า|ปี|', '|เอา|', '|ptt|', '|fee|', '|รอบ|แล้ว|', '|call_center|.|', '|life|', '|เรา|ก็|งง|', '|2140|', '|app', 'ยกเลิก|', '|เป็น|งง|', 'ปิดบัญชี|', '|precious|', '|คือว่า|', '|ทุน|', '|เดือน|แล้ว|', '|เท่ากับว่า|', '|db|', '|thanachart|', '|มีโอกาส|', '|เป็น|ตั้ง|แตา|ก่อน|มี|กระแส|', '|ได้|เลย', '|3000|', '|ก็|ไม่ได้|', 'ใน|', '|แล้วจะ|เอา|เงิน|ไป|ทำ|อะไร|ดี|นะ|', '|scb_m', '|ว่า|เพราะอะไร|', '|badservice', '|ไม่|เสีย|ค่าธรรมเนียม|', '|2.8|', '|ล่ม', '|ต้อง|ทำไง', '|คนละ|ครึ่ง', '|up|', '|wisdom|', '|โทร|มา|แจ้ง|ยอด|ชำระ|ค่างวดรถ|วัน|ละ|', '|สตางค์|', '|แจ้ง|ธนาคาร|', '|พอ|', '|เป็นบ้า|หรอ|', '|ยากเย็น|', '|กว่า|ปีก่อน|', 'จ่าย|ผ่าน|', '|central|', '|กุ|มีปัญหา|กับ|ไลน์|แมน|อีก|', '|arkk|', '|00|', '|2700|', '|ปี|ที่แล้ว|', '|ธนาคาร|อื่นๆ|', '|เช้า|', '|fun|', '|date|', 'โอนเงิน|พร้อมเพย์|', '|แต่|ไหม|เข้าบัญชี|', '|ป|ล|', '|แต่|', '|2515|', 'เรา|ใช้|', '|รวม|ๆ|', '|เจอ|', '|เบื่อ', '|ทำไม|เติม|เงินเข้า|', '|press|', '|499|', 'เอ|อ|', 'jakarin|', '|อยู่|', '|ตัวเอง|', '|flexi|', '|jlpt|', '|และ|ไทยพาณิชย์|', '|ล่ม|อีกแล้ว|หรอ|', '|ผ่าน', '|ขึ้น|รหัส|', '|สีม่วง|', '|แล้ว|ใช้|', '|จ่ายไม่ได้', '|ธนาคารกรุงไทย|เท่านั้น', '|be|1|st|', '|wallet|', '|มากๆ|', '|ได้|วัน|ที่', '|2019|', '|saving|', '|กรี๊ด|', '|พอ|วัน|ที่', '|อ|ห|', 'สมัคร|บัตร|', '|กรุงไทย', '|ทำ|รายการ|ไม่|ตามเวลา|กำหนด|พ่อ|ง|มึง|ดิ', '|exchange|', '|max|', '|ก็ได้|', '|mou|', 'ใคร|มี|บัตร|', 'scb_connect|', '|เข้า|แอป|', '|ถ้า|เปิดบัญชี|', '|ซึ่ง|ทาง|', 'สรุป|', '|npl|', 'วันนี้|', '|ไม่|แจ้ง|', '|ให้|รอ|', '|โดน|แฮค|', '|ของ|บัญชี|', '|2.3|', '|มี|สลิป|แต่|เงิน|ไม่|เข้า|ทำไง|บอก|ที|และ|จะ|ได้|เงิน|คืน|ไหม|ม', '|โอนเงิน|เข้าบัญชี|กรุงไทย|', '|ลุ้น|', '|plus|', '|บ.|', '|checking|', '|สอบถาม|หน่อย|นะคะ|', '4|363|', '|ลา|ก่อ|ย|', '|หรือ|', '|scb_first|', '|เย็น|', '|พร้อม|ดอกเบี้ย|', '|โค|วิด|', '|email|', '|เซ็ง|', '|ติดต่อ|เจ้าหน้าที่|', '|อ้อ|', '|7600|', '|ไม่|เกี่ยวข้องกับ|ข้อมูล|เครดตบู|โร|', '|มี|สลิป|', '|so|', '|กรุงไทย|เลย|', '|ก็|เป็นส่วนหนึ่ง|ครับ', '|คะ', '|ประเมิน|', 'แอป|ธนาคาร|', '|ประทับใจ|มาก|', '|ไป|คะ|', '|หมื่น|บาท|', '|ค้าง|', '|ก็|ใช้|', '|all|', 'kbank|ค่ะ|', '|นั่ง|', 'โอนเงิน|แล้ว|', '|เป็นต้นไป|', '|กรุงไทย_axa|', '|number|', '|หักเงิน|ใน|บัญชี|ไป|แล้ว|', '|ctw|', 'cigna|', '|covid|', '|อายัด|', '|2.34|', '|บ|', '|ร้องไห้|', '|ละ|ตัด|ตัง|ไป|แล้ว|ด้วย', '|เอง|', '|ล้าง|ข้อมูล|ใน|มือถือ|', '|privilege|', '15|', '|หมด|เลย|', '|แบบ|ครับ|', '|jaymart|', '|ttb|', '|transfer|', '|18.00|', '|ต้องการ|ปิดบัญชี|ไป|เลย|', '|แล้ว|ครับ', '|ขอ|ประจาน|ตัวเอง|', 'สมัคร|สินเชื่อ|', '|ปี', '|เมื่อ|เทียบกับ|', '|เมื่อวาน|ไป|ทำ|เรื่อง|ก็|ทำไม่ได้|', '3|', '|นะ|ครับ|', 'โอน|ตั้งแต่|เมื่อวาน|แล้ว|เงิน|บัญชี|กรุงไทย|ถูก|ตัด|แต่|ยอด|ยัง|ไม่|เข้า|gsb|', '|ซื้อ|หวย|', '|1115|', '|เลย|', '|ได้|ไหม|คะ|', '|remind|', '|อ่ะ|ค่ะ|', '|krungthai_connext|', '|เหนื่อย|', '|นามสกุล|', 'มี|ยอด|โอน|เข้า|', '|เร็วๆ', '|ทุ่ม|กว่า|', '|ktb', '|or', '|เท่า|', '|ใหม่|', 'กดเงิน|ไม่|ใช้|บัตร|', 'โทร|ไปหา|', '|simple|', '|แต่|ไม่|เข้า|', '|ป|ช|ช|', '|หมดความอดทน|', '|มา|เป็น|', '|ขอ|เอกสาร|เพิ่ม|', '|wise|', '|ต้อง|เป็น|ลูกค้า|', '|ชื่อบัญชี|', '|fb|', '|บาท|ไทย|', '|ยืน|', '|อย่างเช่น|', '|คือ|ยังไง|คะ|', '|ทำให้|', '|atmdebit|', '|ช่วงเวลา|', '|84|', '|เร็วๆ|', '|เช็คยอด|', '|limited|', '|สินเชื่อ|รถ|ย|น|', '|paywave|', 'โอนเงิน|จาก|', '|ที่|ลง|', '|2440|', '|เก็บ|ยิ่ง|นาน|', 'สมัคร|ผ่าน|', '|แต่|ทำไม|', '|เลิก|ใช้|', '|ด้วย|ค่ะ|', '|ของ|scb|', '|ไป|ตู้', '|เน็ต|ก็|ไม่ได้|', '|ๆ', '|tmb_absolute|', '|ใช้ไม่ได้|', '|5500|', '|เพราะ|จริงๆ|', '|เลย|ด้วย|', '|ชม.|แล้ว|', '|จ่าย|ไป|', '|5000|', 'ผม|', '|scb|ค่ะ|', '25|320|', '|mpass|', '|เปลี่ยน|มา|', '|anan|', '12|', '|คืนเงิน|', 'เมื่อ|วัน|ที่', 'sms|', '|การ|ขอ|เพิ่มวงเงินถาวร|', 'สอบถาม|เพื่อน|ๆ|', '|รบกวน|', '|airbnb|', '|ถึงจะ|สามารถ|เช็ค|ได้|', 'ใคร|ใช้|', '|booking|', '|แย่|มากๆ|', '|ขอ|', '|application|', '|เติมเงิน|ไป|', '|พูดจา|ดีมาก|', '|merchant|', '|paste|', '|มีนาคม|', '|ธนาคาร|kbank|', '|ถ้า|แจ้ง|ช่องทาง|ไหน|ครับ|', '|ตอนนี้|ใช้ได้|แล้ว|ค่ะ', '|เร็ว|', '|ได้คืน|', '|งง|', '|ตอน|สมัคร|', '|เรียน|', '|เข้า|ไม่ได้|เลย|', '|ได้|ดอกเบี้ย|อยู่|', '|ใคร|ที่ใช้|อยู่|รบกวน|แนะนำ|หน่อย|ครับ', '|passion|', '|ล่ม|หรอ|', '|ก็|ไม่มี|คน|ติด|ต่อมา|', '|กู้|คนเดียว|', 'เจอ|เหมือนกัน|', '|ยืนยัน|', '|fwd|', 'พร้อมเพย์|', '|mail|', '|k|', '|cheque|', '|161|', '|ฟรี|', '|ขายหมู|', '|พัน|บาท|', '|ง่าย|ดี|', '|ว|', '|ดูๆ|', '|ไม่เคย|กู้|อะไร|กับ|กรุ|ศรี|คับ|', '|appscb|', 'แย่|', 'ควย|', '|1.|ktc|', '|swift|', '|5|g|', '|ก็|ยัง|เงียบ|เหมือนเดิม|จน|เกือบ|ถึง|รอบ|ชำระ|', '|ดังนี้|', '|เท|วินทร์|', '|fundclick|', '|กุมภาพันธ์|', '|scb_thailand|', '|ธันวาคม|นี้|ค่ะ|', '|แจ้ง|สำเร็จ|', '|มี|เยอะ|แล้ว|', '|2545|', '|sale|', '|รวย|', '|เอา|ง่ายๆ|', '|ไม่ได้|สักที|', '|ยัง|ไม่ได้|เลย|', '|แย่มาก|', '|แต่|ตอนนี้|', 'เติม|เงินเข้า|', '|จาก|เดิม|', '|ktz|', '|เสีย|', '|ละ', 'mobile|', '|investing|', '|pantip|', '|uid|', '|เงิน|ใน|', '|taxi|', '|เงิน|ยัง|ไม่|เข้า|เลย', '|เบอร์|โทรศัพท์|', '|เดือน|แรก|', '|ตัว|ไหน|', '|jasif|', '|atm-|', '|แต่|หมดเขต|วันนี้|แล้ว|', '|ไม่ได้|ค่ะ', '|baac|', '|สมุทรปราการ|', '|คือ|ยังไง|', '|14000|', '|ต้อง|ให้|เจ้าตัว|มา|เอง|', '|มี|บัตรเดบิต|', 'โอนเงิน|พร้อมเพย์|จาก|', '|กว่า|', '|ฮือ|', '|ดี|ค่ะ|', 'งง|', '|ทำไง|ดี|คะ', '|1.8|', '|วันนี้|วัน|ที่', '|เงิน|ยัง|ไม่|เข้า|เลย|', '|1300|', '|ต้อง|ทำ|ยังไง|คะ', 'wtf|', '|แล้ว|ค่ะ', '|ไม่ได้|ค่า|', '|ลอง|ดูๆ|', 'งง|มาก|', 'ฐาน|เงินเดือน|', '|ไม่|รองรับ|', '|ต้อง|ทำ|ยังไง|ค่ะ', '|เลิก|ใช้|วอ|เลท', 'ann|', '|รำคาญ|', '|ยืนยัน|ที่|ตู้', '|29000|', '|รอ|', 'โอนเงิน|ผ่าน|', '|แผน|', '|โอน|ไม่ได้|', '|แห|นะ', '|ssf|', '|เบอร์|เดิม|', '|จะ|โดน|หัก|ดอกเบี้ย|รายวัน|ไหม|ครับ|', '|ghb', '|เรา|ก็|ไม่สามารถ|ใช้|', '|ทาง|', 'line|', '|เงิน|ยัง|ไม่|เข้าบัญชี|เลย|', '|บาท|ครับ|', '|ref|', '|ของ|ทั้ง', '|sim|', '|นะคะ|', '|ที่', '|สะสมแต้ม|', '|ลอง|หลาย|รอบ|', 'ถ้า|ใช้|', '|โมโห', '|จาก|ต่างประเทศ|', '|โทร|ถาม|', '|รบกวน|แนะนำ|ด้วย|นะคะ|', '|อายุ|', '|debit|', 'มือถือ|จีน|', '|จำนวนเงิน|', '|ตอน|จำเป็นต้อง|ใช้|', '|plangpleng|', '|เต็ม|', '|ก|ยศ|', '|16.00|', 'make|', '|ด้วย|', '|ม.|ค.|', '|เติม|เงินเข้า|', '|timeout|', '|exclusive|', '|ด้วย|ไหม|', '|1900|', '|ตลอด|', '|คือ|ไร|', '4|', '|กุม|ภา|', '|สีเขียว|', '|แจ้งเตือน|', 'อิ|', '|น|', '|อ่า|', '|ผ่าน|มือถือ|ผ่าน|แอป|', '|พอ|มา|เจอ|ข้อความ|นี้|', '|ครั้ง', 'ui|', '|ล้าน', '|โมง|', '|น.|', '|pic|.|twitter|.|comrqyueiqrzj', '|ตอนนี้|โต|แล้ว|', '|90000|', '|weply|', '|13.00|', '|2130|', '|15.30|', '|ตัว|ท้าย|', '|got|7|keepspinninginbkk', '|call_center|', 'โอน|ไป|', '|สะดวก|', '|อะ|ค่ะ|', '|ก็|ไม่|ผ่าน|', '|1.5|', '|สัญญา|ผูกพัน|ธ|์|กับ|ธนาคาร|', '|อย่างเดียว', '|ไปที่|สาขา|', '|เร็วมาก|', '|ที่|ตู้', '|takashimaya|', '|ไป|เข้า|', '|ควร|ทำ|ยังไง|ดี|คะ|', '|ปลายทาง|kbank|', '|ปี|แล้ว|ค่ะ|', '|ก่อน|ครับ|', '|nikecom|', '|ถาม|เรื่อง|', '|สะดวก', '|ยัง|ไม่มี|', '|verified|', '|เดือน|ขึ้นไป|', '|แอป|', '|เรา|ไม่|ทิ้ง|กัน|', '|ทั้งๆ', '|คอลเซนเตอร์|', '|บาท|อยู่แล้ว|', '|ทำไง|คะ|', '|ขอบคุณ|มาก|ครับ', '|ผ่าน|ไหม|ค่ะ|หรือ|ใคร|เคย|กู้|บ้าง|เล่า|ประสบการณ์|', '|ระบบ|มีปัญหา|รึ|ป่าว|คะ|', '|wfh', '|book|', '|อยู่|เลย|ครับ|', '|my|', '|เรา|', 'พึ่ง|รู้ว่า|', '|km|', '|โหลด|แอป|', '|jp|', '|โอ๊ย', 'จริง|ครับ|', '7|', 'sme|', '|investment|', '|แจ้ง|บัญชี|ของ|คุณ|ผิดปกติ|', '|kerry|', '|เพชร|บุรี|', 'หิวข้าว|', '2|8|', '|วัน|เหมือนเดิม|', '|จ่าย|ด้วย|', 'กู้เงิน|กับ|', '|หน่วย|ละ|', 'บัตร|กรุงไทย|', '|new|', '|ถ้า|อยู่|ใกล้ๆ|', '|honda|', '|ของ|tmb|', '|ห่วยแตก', 'รบกวน|สอบถาม|', 'สวัสดี|', '|ชิม|ช้อป|ใช้|', '|แอป|ควย|', '|ง|', '|ออนไลน์|', '|ธนาคาร|ต้นทาง|ของ|เคส|เรา|', '|ไป|ตั้งแต่|วัน|ที่', '|มา|ครับ|', '|thailand|', 'จริงๆ|', '|scbam', '|ก|ย|', '|tesco|', '|ทำ|ยังไง|คะ', 'สวัสดี|ครับ|', 'โทร|หา|คอลเซนเตอร์|', '|reward|', 'ขออนุญาต|สอบถาม|ค่ะ|', '|ถอน|', '|ชั่วโมง|', '|หรือ|อะไร|', '|ลบ|แอป|', '|got|7|keepspinninginbkk|', '|ถ้า|ยื่น|กู้|กับ|', 'สินเชื่อ|', '|traveloka|', '|จุก|ๆ|', '|มี|อะไร|', '|ทั้ง|แอป|', 'ใช้|บัตร|', '|ได้|ไหม|ค่ะ', 'สมัคร|บัตรเครดิตแบบค้ำ|ประกัน|เงินฝาก|', '|4.4|', '|bbl|ค่ะ|', '|250|', '|ตาม|รูป|', '|400000|', '|2020|', '|internet|', '|พนักงาน|บอก|', '|ลูกค้า|', '|ไป|เปิดบัญชี|', '|ประ|มาน|', '|ต้อง|ทำ|อย่างไร|', '|ตู้|', '|49|', '|โอนเงิน|ออกจาก|บัญชี|เรา|เอง|', '|โทร|มา|', '|แอร์|เอเชีย|', '|แสน|บาท|', '|ขาย|', '|ธนาคาร|ก็|หายเงียบ|ไป|', '|พ.ย.|', '|มา|', '|เจ้า|', '|เน็ก|', '|แต่|ใน|', '|จาก|kbank|', '|แบบ|ใช้|', '|ผ่อน|รถ|', '|จ่าย|ดอก|ทุกเดือน|', '|ประกัน|สุขภาพ|', '|เที่ยงคืน|', '|ktb|', '|รอบ|ที่', '|ออกมา|', '|ktef|', '|รอบ|ละ|', '|อยาก|ทำ|บัตร|', '|27000|', '|ลืม|', '|ไม่ได้|นับจำนวน|ครั้ง|ตาม|ลูกค้า|แต่ละคน|โอน|', '|inbox|', '|2.78|', 'ของ|', '|ปกติ|จะ|มี|', '|kplus|', 'ไป|ยืนยัน|ที่|ตู้', '|พร้อมเพย์|', '|65', 'ลอง|ไป|ใช้บริการ|กับ|พนักงาน|เค้า|', '|easynet|', '|banking|.|', '|ktb|.|', '|ไป|อยู่|ใน|', '|เยอะมาก|', '|ทำ|ยังไง', '|กรณี|', '|scb_connect|', '|nzd|', '|ตลอด', '|ชอบมาก|', '|หลายๆ|', '|พรบ.|', '|bbl', '|sa|', '|105|', '|080|', '|จนถึง|', '|ต่างจังหวัด|', '3|1|', '22|1163|', '|สินเชื่อหมุนเวียน|', '|200000|', '|699|', '|for|', '|โอน|เข้า|', '|เติม|ผ่าน|', '|เช็ค|สถานะ|', '|ระบบ|แจ้ง|ว่า|', '|18|k|', '|citibankgold|', '|4000|', '|class|', '|แต่|ไม่สามารถ|', '|รอ|ไป|', '|2018|', '|ผม|ต้อง|ทำ|ยังไง|ครับ', '|แต่|เงิน|หาย|', '|กับ|รหัส|', '|tmrw|', '|ไหน|ๆ|', 'มี|บัญชี|', '|ต้อง|ทำ|ยังไง|บ้าง|คะ|', '|แบบ|', '|mastercard|', '|ตัวอย่าง|', '|เขตพระราม2|', '|แล้ว', '|ทำไม่ได้|', 'ของ|เรา|', '|ปี|', '|bay|', '|500|-|600|', 'อี|สัส|', '|ๆ|', '11|', '|card', '|ก|พ|', '|ไป|ยืนยัน|ตัวตน|ที่|ตู้', 'บัญชี|', '|เอ|', '|จำเป็นต้อง|ใช้|เงิน', '|airline|', '|เป็นสิบๆ|', '|ด้วย|ครับ|', '|ยอด|ไม่|เข้า|', 'จ่ายเงิน|', '|tt|', '|ที่ไหนได้|', '|ยัง|ไม่ได้|คุย|กับ|เจ้าหน้าที่|เลย|', '|ธนาคาร|ก็|ปิด|ทำการ|แล้ว|', '|บอก|ระบบ|ยังไม่เสร็จ|', '|แค่นั้น|', '|waive|', '|ขอความกรุณา|', 'โอน|จาก|', '|วิ่ง|ก่อน|', '|เป็น|เหมือนกัน|ค่ะ|', '|ตั้งแต่|', '|tt', '|bitcoin|', '|ปลายทาง|ไม่ได้|รับเงิน|', '|กรุงไทย|เน็ค|', 'krungthai_next|', '|หรอ|', '|xx|', '27|1163|', 'แอป|กรุงไทย|', '|touch|', '|สาขา|พระนคร|คีรี|', '|one|', '|อื่นๆ|', '|อยู่|ครับ|', '26|', '|เดบิต|', '|ว้อท|', '|50|', '|น่าสนใจ|มาก|ครับ|', '|มัน|ขึ้น|แบบนี้|', '|กด|ไป|', '|เป๋า|ตัง|', '|ทำไง|ดี|คะ|', '|ได้มา|', '|pos|', '|step|', '|เหมือนกัน|เลย|ค่ะ|', '|โอนเงิน|ไป|', '|note|', '|safari|', '|credit|', '|ค|ทบ|', '|2400|', '|speedy|', '|ก็|ให้|ติดต่อ|', 'ยืนยัน|ตัวตน|ที่|ตู้', '|be|', '|นครนายก|', '|transaction|', 'วันนี้|ตอน|', '|เพื่อ|สะสมแต้ม|', '|โบนัส|', 'สอบถาม|ธนาคาร|', '|เบื้องต้น|', '|9000|', '|ไม่ยุ่งยาก|', '|อีก|', '|youth|', '|device|', 'เอ้า|', '|ราคา|', 'เปิดบัญชี|ใหม่|', '|34|', '|เห้อ', '|จุด|', '|65|', '|44|', '|ค่าบริการ|', 'น้อยๆ|', '|สู้|ๆ|', '|หมื่น|อัพ|', '|ไว้|แล้ว|', '|รอ|นานมาก|', '|140|', '|โทร|หา|', '|no|.|1|', '|จ่าย|ด้วย|บัตรเดบิต|ktb|และ|ผม|ได้|ทำ|การยกเลิก|การสั่งซื้อ|ไป|', '|กะ|', '|ขอบคุณ|มาก|ครับ|', '|จน|', '|ต้อง|ทำ|ยังไง|บ้าง|ค่ะ|', '|ready|', '|แจ้ง|มา|ว่า|', '|งวด|', '|เช่นกัน|ค่ะ|', '|ขอบคุณ|ครับ', '|32300|', '|out|', '|ไว้ใจ|เอา|เงิน|ไป|ฝาก|', '|ผ่อน|กับ|', '|ratsaenmueang|', '|foodpanda|', 'จริง|', '|เอง', 'บาง|', '|ติดต่อ|', '|ไง|คะ|', '|รูป|สอง|', '|ป|ต|ท|', '|แจ้ง|คอลเซนเตอร์|', '|กว่า|หน่วย|', '|ห่วย|มากๆ|', '|มา|นาน|', '|36|', '|แอป|ล่ม|หรอ', '|139|', 'โอน|เงินเข้า|', '|กับ|ธนาคาร|', '|เริ่มต้น|', 'สอบถาม|คับ|', '|ั|', '|เรื่อง|แอป|', '|ใช้|บัตร|', '|เป็น|อะไร|เนี่ย|', '|ไม่มีภาระ|หนี้สิน|', '|มา|กด|', '|แฟน|ทำ|เมื่อวาน|ผ่าน|แล้ว|คะ', '|momo|', '|อี|สัส|', '|ไป|กรุงไทย|', '|ตั้งแต่|เมื่อวาน|ตอน|', '|youtrip|', '|ป่า|รอยต่อ|', '|นั้น', '|ต้อง|ไป|ธนาคาร|', '|ชั่วโมง', '|data|', '|ถ้า|จ่าย|ด้วย|บัตร|', '|เบอร์|ผิด|', '|500', '|จนถึง|ตอนนี้|', '|แทน', 'เรท|ดี|', '|ไหน|', 'planet|', '|ธนาคาร|ไม่ได้|เป็นเจ้าของ|', 'ข้อ|', '|โดน|หัก|ไป|', '|เหมือนกัน|ค่ะ|', '|แย่มาก|ครับ', '|2|', 'ซื้อ|', '|ทุกเดือน', '|มั้ง|', '|59|', '|ทหาร|ไทย|', '|unionpay|', 'ผม|ก็|ไม่|ผ่าน|', '|599|', '|ยอด', '|อี|', '|ติด|ต่อไป|ทาง|', '|ส่วน|บัตรกดเงินสด|', '|ไม่ได้|อะ|', '|วีโว่|', '|เมื่อคืน|', '|โอนเงิน|', '|อนุมัติ|', '|เพราะ|', '|0.25|', '|ก็|เสือก|ไม่|เข้า|', '|rate|', 'แง|', 'เป็น|เหมือนกัน|ค่ะ|', '|grab|', '|มาตลอด|', '|เรา|โอนเงิน|จาก|', '|จ่าย|รายเดือน|', '6|', '|ที่|', '|ats|', '|pbv|', '|บาท|ต่อ|เดือน|', '|1.9|', '|แต่|ไม่แน่ใจ|ว่า|', '|เซ|ง|มาก|', '|ได้|แล้ว|', '|เงิน|จะ|เข้า|พรุ่งนี้|', '|คลิก|เพื่อ|ดู|ข้อความ|ที่ซ่อน|ไว้|ใส่|ข้อความ', '|อีกที|', '|ยอด|จาก|อนาคต|ตอน|', '|เนื่องจาก|บัญชี|นั้น|โดน|ยึด|ไป|ด้วย|ปัญหา|หนี้สิน|', '|ปิด|ปรับปรุง|', '|simplicity|', '|vs|', '|แต่|ทาง|ต้นทาง|', '|due|', '|ไม่สะดวก|เข้าไป|ธนาคาร|บ่อยๆ|', '|โดยเฉพาะ|', 'ไม่เข้าใจ|', '|ป|ช|ช|.|', '|บ้าง|ไหม|คะ|', 'กรุงเทพ|', '|spotify|', '|30|k|', '|คือ|ถ้า|', '|รู้|ผล|ปุ๊บ|', '|8900|', '|หรือยัง|คะ|', 'callcenter|', '|แล้ว|นะคะ', '|ประทับใจ', '|xpress|', '|2200|', '|พอกันที|', '|ใช้งานง่าย|', '|2000|', '|เป็นหลัก|', '|ไป|เลย|', '|มี|แต่|', '|แต่|พอกด|สมัคร|ไป|แล้ว|', '|จริงๆ', '|โอเค|', '|ธนาคาร|เลย|', '|หลัง|ๆ|', '|ใช่ไหม|ครับ|', '|ดังนั้น|', 'อยากให้|', '|นะคะ', '|ได้|ใช่ไหม|คะ', '|scb|', 'ผม|ว่า|', '|ประกันชีวิต|', '|fast|', '|แน่นอน', '|คิว|', '|ยกตัวอย่างเช่น|', '10|', '|รอบๆ|', '|ไม่เข้าใจ|ว่า|', '|ทาง|ธนาคาร|', '|esso|', '|gwallet|', '|easypass|', '|กว่า|ๆ|', '|เท่านั้น', 'kbank|ล่ม|หรอ|', '|bot|', '|อิ|', 'โห|', '|ปะ|', '|ขอบคุณ|นะคะ|', '|เวลา|ประมาณ|', 'ขอ|สอบถาม|หน่อย|คะ|', '|ธนาคาร|นี้|', '|netbank|', '|35|', '|ก็|ยัง|ไม่ติดต่อ|กลับมา|ตกลง|ไฟแนนซ์|ไทยพาณิชย์|', '|personal|', '|รอ|ประ|มาน|ครึ่ง|ชม.|', '|cash|', '|บัตร|สวัสดิการ|', '|น่ะ|ค่ะ|', '|ขึ้น|วงเงิน|มา|', 'เข้า|แอป|ไม่ได้|', '|ดอน|เมือง|', '|ชาติหน้า|คะ|', '|นึกคิด|', '|เม.ย|', 'คือ|', '|family|', '|ใช้เวลา|', '|ออกจาก|', '|โอน|จาก|', '|แต่|เงิน|ไม่|เข้า|ปลายทาง|', '|มึง|ติด|', '|ปีนี้|ได้|ไหม|ครับ|', '|เดือด|ร้อนมาก|', '|มูลค่า|', '|แอป|ธนาคาร|', '|อี|เหี้ย|', '|ถูก|', '|เลือก|', '|ทำไง|ได้|บ้าง|คะ|', '|telephonetag|', '|เบอร์|', '|อยาก|', '|อาทิตย์|ละ|', 'ตู้', '|aeon|', '|บ|ลา|', '|บ้าง|คะ|', 'เข้า|แอป|', '|งง|อ่ะ|', '|mymo', '|ตั้งแต่|ต้นปี|', '|lounge|', '|เงิน|เยียวยา|', '|ม|ก|รา|', '|prestigerop|', '|อยู่|ค่ะ|', '|อยู่', '|เงิน|ไม่|เข้า|ค่ะ|', '|อีก|อย่าง|', '|แม้แต่|บัตร|', 'kbank|ล่ม|', '|18.30|', '|เลย|นะ|ครับ', 'ไป|สมัคร|', '|คับ|', 'ล่ม|อีกแล้ว|หรอ|', '|ควร|ทำ|อย่างไร|คะ|', '|ก.|ค|', '|ส่ง|', '|อยู่|ไหม|คะ|', '|รบกวน|ด้วย|นะคะ', '|pttor|', '|ฮะ|', '|ไม่ดี|', '|โอน|เมื่อ|วัน|ที่', '|มี|', '|28|', '|เรา|ได้|ทำการ|โอนเงิน|จาก|gsb|ผ่าน|', '|ล่ม|เหรอ|', '|ตอนนี้|เดือดร้อน|มากๆ|', '|apple|', '|17.00|', '|ช้า|มาก|', '|channel|', '|ไทย|พา|นิส|', '|ไม่ติด|', '|ต่อ|ปี|', 'ผม|เอาไว้|กัน|เวลา|ไป|ต่าง|พื้น|ที่แล้ว|มี|แค่|ตู้|เดียว|', '|พูด|แล้ว|ทั้ง|เศร้า|ทั้ง|โมโห|', '|นานมาก|', '|ทุ่ม|ครึ่ง|', 'พร้อมเพย์|ต้อง|ไป|ติดต่อ|กับ|ธนาคาร|เจ้าของ|บัญชี|เพื่อ|ลงทะเบียน|ผูก|บัญชี|เข้ากับ|หมายเลขโทรศัพท์|ครับ|', '|ไม่มี|สลิป|', '|แอป|ฯ|', '|เข้า|kbank|', '|สำเร็จ|', '|ต้อง|ติดต่อ|ธนาคาร|', '|เติม|ไป|', '|แอ|ด|มิ|น|คะ|', '|เงินเดือน|', 'k|', '|64', '|k-usa-ad|', '|กว่า|บาท|', '|อยากทราบ|', '|btc|', '|ไปที่|', '|download|', '|เหรียญ|', '|ทุกวัน|', '|scb_planet_card|', '|เซ็ง|มาก|', '|เข้า|scb|', '|1851|', '|อะไร|วะ|เนี่ย|', '|อันนี้|ก็|แล้วแต่|', '|ตัด|บัตร|', 'ไทยพาณิชย์|', '|แก้ไขปัญหา|ให้|เสร็จ|ภายใน|', '|อ่อ|', '|แบบนี้|ก็ได้|เหรอ|', '|gps|', 'เปิดบัญชี|', '|จะ|เป็น|', 'ขอบคุณ|', '|วีซ่า|', '|ณ', '|ตัดยอด|ทันที|', '|ไปมา|', 'มี|', '|krungthai_axa|', 'โอนเงิน|จาก|กรุงไทย|', '|ไม่สามารถ|เข้า|', '|แสน|', '|แล้ว|เข้า|แอป|ไม่ได้|เพราะ|กด|รหัส|ผิด|เกินกำหนด|', '|.', '|200|', 'กัน|', '|แนะนำ|', '|ก็|ให้|', '|ล่ะ|', '|ของ|ผม|', '|เงิน|ไม่|เข้า|ครับ|', '|20000|', '|ผม|ว่า|', '|ปัง|มาก|', '|อัปเดต|', '|โอนเงิน|ไป|แล้ว|', '|เข้า|ทุกเดือน|ไม่ค่อย|มีเงิน|นิ่ง|ๆ|', '|ของ|ธนาคาร|', '|พูดจา|แย่มาก|', '|ติดต่อ|แล้ว|ค่ะ|', '|two|', 'ทำไม|ธนาคาร|', '|บัตรกดเงินสด|', '|ใช้ไม่ได้', '|ครับ', '|บาท|แล้ว|', '|ไม่|เลย|', '|wow|', '|kma|', '|เลย|ค่ะ', '|ก่อน|ค่ะ|', '|ก็|คือ|', '|บ้าน|แล้ว|ไม่รู้|จะ|เอา|เงิน|ไป|ทำ|อะไร|ก็|ไปหา|ฝาก|ที่นี่|ก่อน', '|ไม่สนใจ|', '|กล|ต.|', '|ขอบคุณ|มาก|ค่ะ|', '|วัน|ทำการ|ครับ|', '|กรอก|ข้อมูล|แล้ว|', '|scb_m|', '|ใน|เวลา|', '|แล้ว|ส่วน|ของ|บัตร|', '|coins|', '|scbs', '|เปลี่ยน|', '|planet|', '|atm|.|', '|scb_thailand', '|30000|', '|makeups|', 'ตี|', 'pin|', '|ก็|ยัง|รู้สึก|ยุ่งยาก|และ|', '|wongnai|', 'พอดี|ว่า|ได้|อ่าน|อีก|กระทู้|หนึ่ง|เห็นว่า|ของ|kbank|และ|ไทยพาณิชย์|ต้อง|เข้าไป|ธนาคาร|และ|เซ็นต์|เอกสาร|ต่างๆ|', 'โง่|เอง|', '|40|k|', '|เวลา|ไหน|', '|2562|', '|รอ|ผล|', '|ไว้|ก่อน|', '|รบกวน|ผู้รู้|ทุกท่าน|ด้วย|ค่ะ', 'เรา|เลย|โทร|ไป|ที่', '|ไม่มี|บัตรเครดิต|', 'คำถาม|ที่', '|ทุ่ม|', 'เย่|', '|unlock|', '|รีวอร์ด|', '|ซวย|ๆ|', 'จำได้|ว่า|', 'ทำไม|แอป|', '|ไม่|ขึ้น|ใน|', '|โอน|เวลา|', '|flow|', '|air|', '|ก็|เลย|รีบ|กด|รับ|สิทธิ์|เลย|', '|ล่ม|หรอ|คะ|', '|เดือน|นี้|', '|โดยตรง|ครับ|', '|ล่ม|ทุกเดือน|', '|ได้|เลย|', '|เรียกว่า|', '|มัน|ของ|', 'เมื่อก่อน|', '|ก่อน|', '|โทร|กลับ|ไม่|เกิน|วัน|ถัดไป|', 'อ่ะ|', '|แอป|ค้าง|', '|เลข|บัตรประชาชน|', '|bank|', '|2|xxxx|', '|ยังไง|', '|อ้าว|', '|โทร|ติดต่อ|ยากมาก|', '|ฝ่าย|สินเชื่อ|', '|32|', '|scbs|', '|โทร|หลาย|รอบ|', '|mall|', 'เจ้าหน้าที่|', '|ขอบคุณ|นะ|ครับ|', '|โอนเงิน|แล้ว|ไม่|เข้า|ปลายทาง|', '|tot|', '|ไม่มี|', '|บ้าน|', '|500|', '|nagoya|', '|ธนาคาร|แบบนี้|', '|everyday|', '|ต่าง|สาขา|', '|3', '|-|', '|krungsri_jcb|', '|ก.|ย|.|', '|โฉนด|', '|งวด|ที่', '|10.32|', 'ตาม|หัวข้อ|เลย|ค่ะ|', 'อยาก|สอบถาม|ว่า|', '|ยากมาก|', '|สาธุ|', 'สอบถาม|ด้วย|ครับ|', '|scb_life|', '|ค|ห|.|', '|ก็|ติดต่อ|ไม่ได้|', '|จะต้อง|รอ|ถึง|เมื่อไหร่|', '|นานมาก', '|scb|.', '|ktbnext|', '|เงินงวด|', '|ครั้ง|และ|ยอดเงิน|', '|kbank_live|', '|ไว้|', 'ธนาคาร|อื่น|', '|ล่ม|เก่ง|', '|00.00|', '|ไป|ไทยพาณิชย์|', '|ต้นเดือน|', '|หรือ|ไป|', 'เดี๋ยวนี้|', '|แต่|จริงๆ|', '|11|', '|เนื่องจาก|เรา|ย้าย|มา|อยู่|', 'เติมเงิน|จาก|', '|scbeasy|', '|เฟส|', '|รบกวน|ตอบ|ด้วย|นะคะ|', '|ธรรมดา|', 'uob|', '|canter|', '|แลกเงิน|ตาม|โป|ร|', '|เพื่อน|ๆ|', '|scb_jcb|', '|ซิ|ตี้|', '|โต|ขึ้นมา|คุณ|เลย|เป็น|คน|รู้จัก|อดทนอดกลั้น|', '|center|', '|ควย|', '|ง|อง', '|เติม|จาก|', '|proud|', 'จ่าย|', '|ขอโทษ|นะคะ|', 'เรท|', '|เจ้าของ|กระทู้|', '|มี|บัญชี|kbank|', '|900|', '|ได้|เลย|ค่ะ|', '|นานมาก|แล้ว|', '|เงิน|ยัง|ไม่|เข้าบัญชี|', '|ต้อง|รอ|', '|220|', 'เรื่อง|มีอยู่|ว่า|', '|ตาม|หัวข้อ|เลย|ค่ะ|', '|ทั้งที่|มี|', '|ก็|คือ|การทำ|ธุรกรรมออนไลน์|ผ่าน|ค|อม|ผ่าน|เวป|', '|มา|บอก|ว่า|', '|สินเชื่อ|', '|ธนาคารกรุงไทย|.|', '|19', '|ดี|นะ|', '|ยัง|', '|จ.|เพชรบูรณ์|', '|20|k|', '|เงินเดือน|ไม่|ถึง|', '|ล่ม|ทำไม|', '|ไม่มี|บัตร|', '|1|-|2|', '|คุย|', '|เบอร์|เติม|ผิด|', '|หายไป|', '|ขึ้นมา|', '|tourpass|', '|อี|ควาย|', '|แอป|เป๋า|ตัง|', '|ประทับใจ|', '|scb_family_plus|', '|5000|เรา|ไม่|ทิ้ง|กัน|', '|พอๆ|', '|ก็ได้|ค่ะ|', '|หุ้น|ไทย|', '|หลาย|รอบ|พอดี|ว่า|เวลาทำงาน|แล้ว|หา|วันหยุด|ยาก|นะ|ว่า|หยุด|ไม่|', '|hold|', '|ทำไม|', '|อืม|', '|ไม่สามารถ|ทำ|รายการ|ทางการ|เงินได้|ในขณะนี้|', 'อีก|', '|โดน|ไป|หก|พัน|', '|ม|ค|', '|ดีกว่า|', '|2645|', '|ขอบคุณ|มาก|ค่ะ', '|เป็น|อัลไล|', '|1|', '|bunnytrader|', '|จอง|', '|เพื่อ|', '|ตอน|', '|8000|', 'แบบ|นี้แหละ|ครับผม|เลย|อยากจะ|เปิดบัญชี|ไว้|กับ|ทุก|ธนาคาร|เพื่อ|ป้องกัน|เหตุฉุกเฉิน|', '|ครั้ง|ตอนนั้น|', 'วัน|ที่', '|ของ|', '|k|8888|', '|บาท|ได้|', '|ธนชาต|ได้|ไหม|ครับ|', '|รหัส|', '|next|', '|บอก|อี|กว่า|', '|scbset|50|', 'เรียน|', '|จะ|มี|', '|ตู้', '|ทำไม|นาน|จัง|', '|ที่|ธนาคารกรุงไทย|', '|ม.|', 'ร้อนๆ|', 'สงสัย|ว่า|', 'จาก|', '|เรย|', '|คนละ|ครึ่ง|เฟส|', '|ปี|ครับ', '|และ|บัตร|', '|ช่วย|หน่อย|ค่ะ|', '|ขอบคุณ|นะคะ', '|บน|', '|สมุดบัญชี|', '|k-check|', '|ฝากเงิน|', '8|', '|ห่วย|มาก|', '1|', '|ภายใน|วัน|ที่', '|187|', '|หรือ|บัตรเดบิต|', '|ต้อง|ไป|ทำ|ที่ธนาคาร|', '|work|', '|อ่ะ|', 'krungsri|', '|ยัง|ไม่มีใคร|ติดต่อ|กลับมา|', '|วันนี้|ครบ|', '|15|', '|ร้อยละ|', '|ระหว่าง|', '|เดือน|', '|ผ่าน|แอป|กรุงไทย|คะ|', '|ระบบ|อัตโนมัติ|', '|ทาง|kbank|', '|สัส', '|ไม่ต้อง|ไป|ธนาคาร|', '|expense|', '|ไม่พอ|', '|บางที|', '|.|', '|รบกวน|สอบถาม|ค่ะ|', 'ไฟแนนซ์|', '|หรือไม่|', '|ประเทศไทย|', '|เคพลัส|', 'ขอบ|สอบถาม|หน่อย|ค่ะ|', 'paotang|', '|mrt|', '|แย่สุดๆ|', '|tmb_so_smart|', '|เห|น่ย', '|ก็|ไม่มี|ยอด', '|ได้|นะคะ|', '|0.01|', '|แสก|น|', '|ไป|ต่าง|ธนาคาร|', '|คำถาม|', '|เยน|', '|50000|', '|61|', '|นี่|นะ|', '|ต้อง|ใช้|บัตร|', '|by|', '|รบกวน|ช่วย|หน่อย|นะคะ', '|dm|', '|สาขา|ใน|สนามบิน|สุวรรณ|ภูมิ|', '|เปิดบัญชี|ใหม่|', '|เอา|ดิ|', '|ขายของ|เช็ค|ยากมาก|ค่ะ', '|ok|', '|ใบ|ค่ะ|', '|refinance|', '|ดีๆ|', '|70|', '|เฮ้ย|', 'ปิดบัญชี|ฝากประจำ|ก่อนกำหนด|ได้|ไหม|', '|เฮ้อ|', '|เรา|เปลี่ยน|จาก|', '|พนักงานธนาคาร|แนะนำ|ให้|ใช้|', '|tmb|.|', '|ทำไง|ดี|ครับ|', '|กู้ร่วม|ได้|', '|krungthai_care', '|speedy_cash|', '|ออมทรัพย์|', '|บ้าง|', '|card|', '|scb_m_live|', '|แง|ง|', '|1200', '|ต|ป|ท|', '|180|', '|แอ|ฟ|', '|2100|', 'เมื่อไหร่|', '|ไทย|', 'โทร|ไป|', '|15000|', '|งง|เลย', '|เดือน|ค่ะ|', '|55|', '|กลุ่ม|ที่', '|ธนาคาร|ไหน|ดี|', '|ใบ|ของ|kbank|ครับ|', '|เรา|ก็|โทร|เข้าไป|อีก|', '|เลข|', '|routing|', '|ไอ|', '|ๆๆ|', '|ดอกเบี้ย|ยิ่ง|เยอะ|ค่ะ', '|finalodysseyconcert|', '|เบื่อ|มาก|', '|ช่วย|ตอบ|หน่อย|ครับ', '|สรุป|คือ|', '|เติมเงิน|', '|kbankxblackpink', '|scb_mlive|', 'ทาง|', '|ถือ|ยาว|', '|k-esavings|', '|จะ|ได้|เตรียม|เอกสาร|ไป|ให้|ถูก|ครับ|', '|ใช่|ค่า|', '|ทะเบียน|พาณิชย์|', '|ตัด|', '|เอิ่บ', '|โอน|ไป|', '|ช้า|จัง', '|coin|', '|thailand', '|ตอนนี้|มี|', '|chat|', '|ขอคำแนะนำ|หน่อย|ค่ะ', '|เสียเวลา|มาก|', '|ของ|กรุงไทย|', '|มี|การ|เรียกเก็บ|ค่าธรรมเนียมรายปี|', '|ได้|ไหม', '|แก้ไข|อย่างไร|', 'ฝาก|ธนาคาร|ก็ได้|ดอกเบี้ย|น้อยนิด|', 'สงสัย|ค่ะ|', '|gmarket|', '|แบบนี้|ต้อง|ทำ|ยังไง|คะ|', '|วัน', '|เปลี่ยนเป็น|', '|ใคร|รู้|บอก|หน่อย|นะคะ|', '|ไปยัง|bbl|แต่|เงิน|ไม่|เข้า|', '|ต้อง|โทร|ไปหา|', '|ใคร|ใช้|', '|10.32.0|', '|รวมทั้งสิ้น|', 'โทร|ไป|เบอร์|', '|โอน|เงินเข้า|', '|หลังจาก|', '|ตอนนี้|ใช้|', '|17.30|', '|ป|', 'อายุ|', '|จาก|ทาง|', '|ไม่ติด|บู|โร|', '|ไม่ต้อง|ชำระ|', '|ขอ|ถาม|หน่อย|ค่ะ|', 'ๆ|', '|แง|ง', '|มกราคม|', '|02|', '|อยาก|รู้ว่า|', 'น่าจะเป็น|', '|กับ|ไทยพาณิชย์|', '|แต่|เงิน|ไม่มี|เข้าบัญชี|', '|s|', 'สวัสดี|ค่ะ|เพื่อน|ๆ|', '|เจ้าหน้าที่|โทร|มา|ทวง|ค่าบริการ|ชำระ|', '|ต้อง|ยืนยัน|', '|แม่|', '|แทน|', '|พอ|มี|โครงการ|พัก|หนี้|', '|ทำ|', '|10.00|', '|สด|', '|ได้|ดอก|', '|อยากได้|', 'บริการ|ของ|', '|ลบ|', '16|', '|อะไร|', '|สัก|', '|แพลทินัม|', 'จิง|', '|ใช่|ค่ะ|', '|ฮือ', '|smart|', '|คนละ|ครึ่ง|', '|ราคา|หุ้น|', '|ต้องการ|', '|scb_m_luxe|', '|อ่าว|', '|ก็|ยัง|ไม่|เข้า|', '|3.5|', '|2564|', '|ขอให้|', '|กองทุน|', '|1558|', '|โอ๊ย|', '|บอก|', '|ทำ|ยังไง|ก็|ไม่|ผ่าน|', '|แต่|ไม่|เข้า|ปลายทาง|', '|ทำ|เรื่อง|', '|ทราบ|เพราะ|พี่|ข้าง|บ้าน|ทัก|มา|บอก|ใน|ไลน์|', '|ถ', '|คำถาม|คือ|', 'ทำ|บัตร|', '|วัน|ทำการ', '|ราย|', '|ยัง|ไม่|เข้า|เลย|ค่ะ|', '|ร้าน|ป|ริ้น|ยัง|ไม่|เปิด|นี่|เลย|จะ|เปิดบัญชี|เพื่อ|จ่ายเงิน|', '|1500|', '|จ่าย|ใน|แอป|kbank|ได้|ไหม|จะ|เอา|สิ|ท|ให้|รู้|บ้าง|', '|สมาชิก|ว่า|', '|ไลน์|', '|บาท|ขึ้นไป|', '|แย่', '|หรือ|ต้อง|เว้น|ระยะเวลา|กี่|เดือน', '|ตาม|ข้อ|', '|สาขา|', '|mymo|', '|เจ้าหน้าที่|', '|อะ|', 'แม่|ง|', '|นาที', '|record|', '|ไป|ยืนยัน|ที่|ตู้', 'มีปัญหา|ใน|การ|เปิดบัญชี|', '|เข้ามา|ที่|ไทย|', '|วินาที|', '|พนักงาน|ชาย|', 'ใช่|ครับ|', '|วันนี้|ระบบ|ของ|ธนาคาร|ปรับปรุง|เหรอ|คะ|', '|โอนเงิน|เข้าบัญชี|', '|150|', '|โทร|สอบถาม|กับ|bbl|', 'ltf|', '|pc|', '|ตอนนี้|ก็|ติดต่อ|สาขา|เจ้าของ|บัญชี|', '|ครึ่ง|', '|โอน|จาก|kbank|', '|แต่กลับ|ไม่มีใคร|โทร|มา|ทวง|เลย|กลับเป็น|ส่ง|', '|กองทุนรวม|', '|ล่าสุด|', '|แต่|ของ|', '|มี|ธนาคาร|ไหน|บ้าง|ที่|สามารถ|สมัคร|และ|ส่ง|เอกสาร|ภายใน|วัน|เดียว|ได้|และ|รอ|ฟัง|ผล|ไ|เ้|เลย|ครับ|', '|สอบถาม|โทร|', '|alipay|', '|เสียความรู้สึก|มาก', '|บัตรเดบิต|', '|ปัจจุบัน|', '|ก่อน|จะ|มี|โครงการ|พัก|หนี้|ของ|ธนาคาร|ต่างๆ|', '|5|', '|ตัว|', 'เป็น|', '|invest|', '|ตอนนั้น|', 'แต่|พนักงาน|', '|เมษา|', '|สินเชื่อรถยนต์|', '|งวด|แรก|', '|ไป|ไหม|นะ|', '|แล้ว|ลง|ใหม่|', '|เครดิต|', '|ครับผม|', '|ทำได้|', '|ผม|ใช้|มา|', '|ชม.|', '|ตัวเอง|ได้|', '|sq|', '|map|', '|ก|ยศ', '|จาก|', '|ผม|', '|โทร|เข้า|', '|robinhood|', '|บอก|เลย|', '19|', '|10|', '|4|', '|กดเงิน|ไม่ได้|', 'ใช่|ค่ะ|', '|หงุดหงิด|', '|gulf|', '|5', '|krungthai_next|', '|น้อยกว่า|', '|รอบ|นี้|', '|ใช้เวลา|ประมาณ|', '|ทำไม|เงิน|ไม่|เข้า|', '|โอนเงิน|แล้ว|ยอด|ไม่|เข้า|', 'ติดต่อ|', '|ด้วย', '|ยื่น|สมัคร|ที่|', '|code', '2|9|', '|ที|', 'สอบถาม|ครับ|', '|siam|', '|รอง|มา|', '|airways|', '|e-saving|', '|มี|ใคร|พอ|ทราบ|บ้าง|ไหม|คะ|', '|ง่ายๆ|', '|ม.|ค|', '|ธนาคาร|อื่น|', '|2.5|', 'mymo|', 'เมื่อ|', '|spoil|', '|ได้|ไหม|ค่ะ|', '|ไหม|คับ', '|easy_invest|', '|เป็น|จำนวน|', '|เงียบกริบ', '|ยัง|ไม่|เข้า|เลย', '|อิ|เวน', 'บอก|ตรงๆ|', '|อี|ซี่|', '|กำไร|', '0|', '|ตอนนี้|คือ|', '|หลาย|รอบ|แล้ว|', 'scb_first|', '|ไม่|ได้คืน', 'app|', '|ขอบคุณ|ล่วงหน้า|ค่ะ', '|กอง|', '|ส่ง|มา|ว่า|', 'หลัง|ๆ|', '|ไม่มี|สมุดบัญชี|', '|ดู|สรุป|ยอด|ซื้อ|', '|ฟรี|ค่าธรรมเนียม|', '|ช|.ม|', '|เป๊ก|ผลิต|โชค', '|ใคร|รู้|บ้าง|', '|search|', 'ข้อเสีย|ของ|', '|หัว|เว่ย|', '|3|g|', '|t|', '|ไม่|อยากให้|พัก|หนี้|ใช่ไหม|ถึง|ไม่ติดต่อ|กลับมา|ทำไม|ถึง|ติดต่อ|กลับ|ได้|ยากเย็น|เพียงนี้', '|จนถึง|วันนี้|', '|cpall|', '9|', 'เอา|บัตร|', '|เฟิร์ส|ช้อย|', '|เพราะ|แม่|ขอ|เบิก|แอลกอฮอล์|แล้วก็|น้ำ|ยาฆ่าเชื้อ|มา|ให้|', '|ก็|เข้า|ปกติ|', '|operator|', '|ส่ง|เอกสาร|', '|to|', '_carestatus|', '|eur|', '|รายการ|', '|เลข|อ้างอิง|', '|จ้ะ|', '|kce|', '|เป๋า|ตัง|ล่ม|', '|เจ้าหน้าที่|บอก|', 'ยื่น|', '|รับ|', '|งง|เสียเวลา|มาก', '|13|', '|kfc|', '|ผม|อายุ|', '|จะ|มีโอกาส|ผ่าน|ไหม|ครับ|', '|จน|เรา|ติดต่อ|เข้าไป|เป็น|ครั้ง|ที่', '|โทร|เป็น|ชาติ|', '|ยัง|เข้า|ไม่ได้|', '|ทำไง|ดี', '|ต้อง|ทำ|อย่างไร', '|ไม่ใช่|', 'เป็น|ลูกค้า|', '|post|', '|ผม|เลือก|', '20|12563|', '|1.6|-|1.8|', '21|', '|แล้ว|มา|สแกน|ใหม่|', '|wave|', '|2', '|พัก|ชำระหนี้|'}\n"
          ]
        }
      ]
    },
    {
      "cell_type": "code",
      "source": [
        "#Turn Series into lists\n",
        "train_docs = train['Text_ws_local'].tolist()\n",
        "test_docs = test['Text_ws_local'].tolist()"
      ],
      "metadata": {
        "id": "IqgqeKFll7ti"
      },
      "execution_count": 10,
      "outputs": []
    },
    {
      "cell_type": "code",
      "source": [
        "from keras.preprocessing.text import Tokenizer\n",
        "from keras_preprocessing.sequence import pad_sequences\n",
        "\n",
        "tokenizer = Tokenizer()\n",
        "#one hot-enconding for the text like > https://stackoverflow.com/questions/69026891/what-is-keras-tokenizer-fit-on-texts-doing\n",
        "tokenizer.fit_on_texts(train_docs)\n",
        "encoded_docs = tokenizer.texts_to_sequences(train_docs)"
      ],
      "metadata": {
        "id": "A7Hp-D9ijQgZ"
      },
      "execution_count": 11,
      "outputs": []
    },
    {
      "cell_type": "code",
      "source": [
        "#Find the most max lengths of word in verbatims from both train and test\n",
        "max_length_train = max([len(s.split()) for s in train_docs])\n",
        "max_length_test  = max([len(s.split()) for s in test_docs])\n",
        "max_length = max([max_length_train, max_length_test])\n",
        "\n",
        "#Padding in order to equalize some verbatims that do not contain the same length of the max length verbatim\n",
        "Xtrain = pad_sequences(encoded_docs, maxlen=max_length, padding='post')\n",
        "#define the labels\n",
        "ytrain = np.array(train['Human_CategoryID'].tolist())"
      ],
      "metadata": {
        "id": "R7JbQ0qZmf0D"
      },
      "execution_count": 12,
      "outputs": []
    },
    {
      "cell_type": "code",
      "source": [
        "#Do the same for the test set\n",
        "encoded_docs_test = tokenizer.texts_to_sequences(test_docs)\n",
        "\n",
        "Xtest = pad_sequences(encoded_docs_test, maxlen=max_length)\n",
        "ytest = np.array(test['Human_CategoryID'].tolist())"
      ],
      "metadata": {
        "id": "oHTspdkypLeF"
      },
      "execution_count": 13,
      "outputs": []
    },
    {
      "cell_type": "code",
      "source": [
        "#Count unique classes\n",
        "print(train['Human_CategoryID'].nunique(), test['Human_CategoryID'].nunique())"
      ],
      "metadata": {
        "colab": {
          "base_uri": "https://localhost:8080/"
        },
        "id": "ILLDKYp3MX65",
        "outputId": "a6136a54-e139-4da9-84e9-f5c89040cad5"
      },
      "execution_count": 14,
      "outputs": [
        {
          "output_type": "stream",
          "name": "stdout",
          "text": [
            "13 12\n"
          ]
        }
      ]
    },
    {
      "cell_type": "code",
      "source": [
        "#Count unique classes\n",
        "num_classes = max(train['Human_CategoryID'].nunique(), test['Human_CategoryID'].nunique())\n",
        "print(num_classes)"
      ],
      "metadata": {
        "colab": {
          "base_uri": "https://localhost:8080/"
        },
        "id": "VQcD2gdpNwkg",
        "outputId": "26926c4b-7137-4380-b991-b5fe892ad5df"
      },
      "execution_count": 15,
      "outputs": [
        {
          "output_type": "stream",
          "name": "stdout",
          "text": [
            "13\n"
          ]
        }
      ]
    },
    {
      "cell_type": "code",
      "source": [
        "from tensorflow.keras.utils import to_categorical\n",
        "\n",
        "#Multi class problems need one-hot encoding on y\n",
        "#why - 1 on ytrain and ytest? can follow the linke below\n",
        "#https://stackoverflow.com/questions/56204731/the-method-np-utils-to-categorical-give-me-an-error/59002957#59002957\n",
        "ytrain =  to_categorical(ytrain-1, num_classes=num_classes)\n",
        "ytest = to_categorical(ytest-1, num_classes=num_classes)"
      ],
      "metadata": {
        "id": "BWTwtb6tLUBE"
      },
      "execution_count": 16,
      "outputs": []
    },
    {
      "cell_type": "code",
      "source": [
        "vocab_size = len(tokenizer.word_index)+1"
      ],
      "metadata": {
        "id": "lvFEpT6zp8YY"
      },
      "execution_count": 17,
      "outputs": []
    },
    {
      "cell_type": "markdown",
      "source": [
        "#Model CNN"
      ],
      "metadata": {
        "id": "hiGb5p29sWHt"
      }
    },
    {
      "cell_type": "code",
      "source": [
        "from keras.layers import Dense, Flatten, Embedding, BatchNormalization, Dropout\n",
        "from keras.models import Sequential\n",
        "from keras.layers.convolutional import Conv1D, MaxPooling1D"
      ],
      "metadata": {
        "id": "huOisC8Ysz-r"
      },
      "execution_count": 18,
      "outputs": []
    },
    {
      "cell_type": "code",
      "source": [
        "#Define our model\n",
        "model = Sequential()\n",
        "\n",
        "model.add(Embedding(vocab_size, 50, input_length=max_length, trainable=True))\n",
        "model.add(Conv1D(filters=32, kernel_size=3, activation='relu'))\n",
        "model.add(MaxPooling1D(pool_size=2, strides=2))\n",
        "\n",
        "model.add(Flatten())\n",
        "model.add(Dense(256, activation='relu'))\n",
        "model.add(Dropout(0.25))\n",
        "\n",
        "model.add(Dense(num_classes, activation='softmax'))\n",
        "print(model.summary())"
      ],
      "metadata": {
        "id": "Ify0PvZ3sWzS",
        "colab": {
          "base_uri": "https://localhost:8080/"
        },
        "outputId": "45a41542-29e4-443c-af47-4cfb3256d5d8"
      },
      "execution_count": 19,
      "outputs": [
        {
          "output_type": "stream",
          "name": "stdout",
          "text": [
            "Model: \"sequential\"\n",
            "_________________________________________________________________\n",
            " Layer (type)                Output Shape              Param #   \n",
            "=================================================================\n",
            " embedding (Embedding)       (None, 66, 50)            630450    \n",
            "                                                                 \n",
            " conv1d (Conv1D)             (None, 64, 32)            4832      \n",
            "                                                                 \n",
            " max_pooling1d (MaxPooling1D  (None, 32, 32)           0         \n",
            " )                                                               \n",
            "                                                                 \n",
            " flatten (Flatten)           (None, 1024)              0         \n",
            "                                                                 \n",
            " dense (Dense)               (None, 256)               262400    \n",
            "                                                                 \n",
            " dropout (Dropout)           (None, 256)               0         \n",
            "                                                                 \n",
            " dense_1 (Dense)             (None, 13)                3341      \n",
            "                                                                 \n",
            "=================================================================\n",
            "Total params: 901,023\n",
            "Trainable params: 901,023\n",
            "Non-trainable params: 0\n",
            "_________________________________________________________________\n",
            "None\n"
          ]
        }
      ]
    },
    {
      "cell_type": "code",
      "source": [
        "from tensorflow.keras.callbacks import EarlyStopping\n",
        "\n",
        "#put early stopping\n",
        "early_stopping = EarlyStopping(monitor='val_loss', patience=1, mode='min')\n",
        "\n",
        "#Your choices of activation='softmax' in the last layer and compile choice of loss='categorical_crossentropy' \n",
        "#are good for a model to predict multiple mutually-exclusive classes.\n",
        "\n",
        "model.compile(loss='categorical_crossentropy',\n",
        "              optimizer='adam', \n",
        "              metrics=['acc'],)"
      ],
      "metadata": {
        "id": "_VV7d6eRf_AD"
      },
      "execution_count": 20,
      "outputs": []
    },
    {
      "cell_type": "code",
      "source": [
        "#Try classweight from this https://datascience.stackexchange.com/questions/13490/how-to-set-class-weights-for-imbalanced-classes-in-keras\n",
        "\n",
        "history = model.fit(Xtrain, ytrain, \n",
        "                    epochs=10, batch_size=64, \n",
        "                    validation_split=0.2,\n",
        "                    callbacks=[early_stopping])"
      ],
      "metadata": {
        "colab": {
          "base_uri": "https://localhost:8080/"
        },
        "id": "KKmAGyKqECUx",
        "outputId": "cd974d76-4465-41d5-ddbf-b2348fb0098a"
      },
      "execution_count": 21,
      "outputs": [
        {
          "output_type": "stream",
          "name": "stdout",
          "text": [
            "Epoch 1/10\n",
            "152/152 [==============================] - 14s 8ms/step - loss: 1.9117 - acc: 0.3485 - val_loss: 1.5962 - val_acc: 0.4650\n",
            "Epoch 2/10\n",
            "152/152 [==============================] - 1s 5ms/step - loss: 1.4189 - acc: 0.5454 - val_loss: 1.3563 - val_acc: 0.5514\n",
            "Epoch 3/10\n",
            "152/152 [==============================] - 1s 4ms/step - loss: 1.0485 - acc: 0.6770 - val_loss: 1.3097 - val_acc: 0.5802\n",
            "Epoch 4/10\n",
            "152/152 [==============================] - 1s 5ms/step - loss: 0.7574 - acc: 0.7643 - val_loss: 1.3977 - val_acc: 0.5984\n"
          ]
        }
      ]
    },
    {
      "cell_type": "code",
      "source": [
        "history_frame = pd.DataFrame(history.history)\n",
        "history_frame.loc[:, ['loss', 'val_loss']].plot()"
      ],
      "metadata": {
        "colab": {
          "base_uri": "https://localhost:8080/",
          "height": 282
        },
        "id": "5hrmrMCmUjh2",
        "outputId": "2437003e-2478-4e65-cabf-8b3538e59df6"
      },
      "execution_count": 22,
      "outputs": [
        {
          "output_type": "execute_result",
          "data": {
            "text/plain": [
              "<matplotlib.axes._subplots.AxesSubplot at 0x7f493226ff90>"
            ]
          },
          "metadata": {},
          "execution_count": 22
        },
        {
          "output_type": "display_data",
          "data": {
            "text/plain": [
              "<Figure size 432x288 with 1 Axes>"
            ],
            "image/png": "[encoded data removed]"
          },
          "metadata": {
            "needs_background": "light"
          }
        }
      ]
    },
    {
      "cell_type": "code",
      "source": [
        "history_frame.loc[:, ['acc', 'val_acc']].plot()"
      ],
      "metadata": {
        "colab": {
          "base_uri": "https://localhost:8080/",
          "height": 282
        },
        "id": "qgGNdtfHU3yS",
        "outputId": "fa951721-b438-4f47-8891-be89d0caa415"
      },
      "execution_count": 23,
      "outputs": [
        {
          "output_type": "execute_result",
          "data": {
            "text/plain": [
              "<matplotlib.axes._subplots.AxesSubplot at 0x7f4932178d50>"
            ]
          },
          "metadata": {},
          "execution_count": 23
        },
        {
          "output_type": "display_data",
          "data": {
            "text/plain": [
              "<Figure size 432x288 with 1 Axes>"
            ],
            "image/png": "[encoded data removed]"
          },
          "metadata": {
            "needs_background": "light"
          }
        }
      ]
    },
    {
      "cell_type": "code",
      "source": [
        "print(Xtest.shape, ytest.shape)"
      ],
      "metadata": {
        "colab": {
          "base_uri": "https://localhost:8080/"
        },
        "id": "uvpjXrbRWKI5",
        "outputId": "2d93874a-d794-4dbd-9071-44438a10e593"
      },
      "execution_count": 24,
      "outputs": [
        {
          "output_type": "stream",
          "name": "stdout",
          "text": [
            "(389, 66) (389, 13)\n"
          ]
        }
      ]
    },
    {
      "cell_type": "code",
      "source": [
        "loss, acc = model.evaluate(Xtest, ytest)\n",
        "print('Test Accuracy: %f' % (acc*100))"
      ],
      "metadata": {
        "colab": {
          "base_uri": "https://localhost:8080/"
        },
        "id": "5N9TLkdHV0hy",
        "outputId": "7a49159f-c757-4553-a503-fc0015ecf4cc"
      },
      "execution_count": 25,
      "outputs": [
        {
          "output_type": "stream",
          "name": "stdout",
          "text": [
            "13/13 [==============================] - 0s 4ms/step - loss: 2.2245 - acc: 0.2442\n",
            "Test Accuracy: 24.421594\n"
          ]
        }
      ]
    },
    {
      "cell_type": "markdown",
      "source": [
        "#Model CNN + LSTM"
      ],
      "metadata": {
        "id": "JKTKM23Nn0Vl"
      }
    },
    {
      "cell_type": "code",
      "source": [
        "from keras.layers import Dense, Flatten, Embedding, BatchNormalization, Dropout, LSTM, Bidirectional\n",
        "from keras.models import Sequential\n",
        "from keras.layers.convolutional import Conv1D, MaxPooling1D"
      ],
      "metadata": {
        "id": "_Rjnttm7n0Vs"
      },
      "execution_count": 26,
      "outputs": []
    },
    {
      "cell_type": "code",
      "source": [
        "#Define our model\n",
        "model = Sequential()\n",
        "\n",
        "model.add(Embedding(vocab_size, 100, input_length=max_length, trainable=True))\n",
        "model.add(Conv1D(filters=32, kernel_size=3, activation='relu'))\n",
        "model.add(MaxPooling1D(pool_size=2))\n",
        "model.add(LSTM(50, return_sequences=True))\n",
        "\n",
        "model.add(Flatten())\n",
        "model.add(Dense(512, activation='relu'))\n",
        "model.add(Dense(256, activation='relu'))\n",
        "\n",
        "model.add(Dense(num_classes, activation='softmax'))\n",
        "print(model.summary())"
      ],
      "metadata": {
        "colab": {
          "base_uri": "https://localhost:8080/"
        },
        "outputId": "878b8f8b-2b50-4114-b7c7-d3bd2b0ba0f8",
        "id": "OiHinNUfn0Vs"
      },
      "execution_count": 27,
      "outputs": [
        {
          "output_type": "stream",
          "name": "stdout",
          "text": [
            "Model: \"sequential_1\"\n",
            "_________________________________________________________________\n",
            " Layer (type)                Output Shape              Param #   \n",
            "=================================================================\n",
            " embedding_1 (Embedding)     (None, 66, 100)           1260900   \n",
            "                                                                 \n",
            " conv1d_1 (Conv1D)           (None, 64, 32)            9632      \n",
            "                                                                 \n",
            " max_pooling1d_1 (MaxPooling  (None, 32, 32)           0         \n",
            " 1D)                                                             \n",
            "                                                                 \n",
            " lstm (LSTM)                 (None, 32, 50)            16600     \n",
            "                                                                 \n",
            " flatten_1 (Flatten)         (None, 1600)              0         \n",
            "                                                                 \n",
            " dense_2 (Dense)             (None, 512)               819712    \n",
            "                                                                 \n",
            " dense_3 (Dense)             (None, 256)               131328    \n",
            "                                                                 \n",
            " dense_4 (Dense)             (None, 13)                3341      \n",
            "                                                                 \n",
            "=================================================================\n",
            "Total params: 2,241,513\n",
            "Trainable params: 2,241,513\n",
            "Non-trainable params: 0\n",
            "_________________________________________________________________\n",
            "None\n"
          ]
        }
      ]
    },
    {
      "cell_type": "code",
      "source": [
        "from tensorflow.keras.callbacks import EarlyStopping\n",
        "\n",
        "#put early stopping\n",
        "early_stopping = EarlyStopping(monitor='val_loss', patience=1, mode='min')\n",
        "\n",
        "#Your choices of activation='softmax' in the last layer and compile choice of loss='categorical_crossentropy' \n",
        "#are good for a model to predict multiple mutually-exclusive classes.\n",
        "\n",
        "model.compile(loss='categorical_crossentropy',\n",
        "              optimizer='adam', \n",
        "              metrics=['acc'],)"
      ],
      "metadata": {
        "id": "IoNZ97Men0Vs"
      },
      "execution_count": 28,
      "outputs": []
    },
    {
      "cell_type": "code",
      "source": [
        "#Try classweight from this https://datascience.stackexchange.com/questions/13490/how-to-set-class-weights-for-imbalanced-classes-in-keras\n",
        "\n",
        "history = model.fit(Xtrain, ytrain, \n",
        "                    epochs=10, batch_size=32, \n",
        "                    validation_split=0.2,\n",
        "                    callbacks=[early_stopping])"
      ],
      "metadata": {
        "colab": {
          "base_uri": "https://localhost:8080/"
        },
        "outputId": "5f02a6af-2474-4893-9978-e5f8269fe260",
        "id": "3i82PMBRn0Vs"
      },
      "execution_count": 29,
      "outputs": [
        {
          "output_type": "stream",
          "name": "stdout",
          "text": [
            "Epoch 1/10\n",
            "304/304 [==============================] - 5s 8ms/step - loss: 1.6842 - acc: 0.4423 - val_loss: 1.3680 - val_acc: 0.5580\n",
            "Epoch 2/10\n",
            "304/304 [==============================] - 2s 6ms/step - loss: 1.1278 - acc: 0.6432 - val_loss: 1.3071 - val_acc: 0.5914\n",
            "Epoch 3/10\n",
            "304/304 [==============================] - 2s 6ms/step - loss: 0.7324 - acc: 0.7607 - val_loss: 1.3789 - val_acc: 0.5889\n"
          ]
        }
      ]
    },
    {
      "cell_type": "code",
      "source": [
        "history_frame = pd.DataFrame(history.history)\n",
        "history_frame.loc[:, ['loss', 'val_loss']].plot()"
      ],
      "metadata": {
        "colab": {
          "base_uri": "https://localhost:8080/",
          "height": 282
        },
        "outputId": "c84198ba-13ed-4d91-a427-616885f53464",
        "id": "2B7E8Xcrn0Vt"
      },
      "execution_count": 30,
      "outputs": [
        {
          "output_type": "execute_result",
          "data": {
            "text/plain": [
              "<matplotlib.axes._subplots.AxesSubplot at 0x7f492beeb490>"
            ]
          },
          "metadata": {},
          "execution_count": 30
        },
        {
          "output_type": "display_data",
          "data": {
            "text/plain": [
              "<Figure size 432x288 with 1 Axes>"
            ],
            "image/png": "[encoded data removed]"
          },
          "metadata": {
            "needs_background": "light"
          }
        }
      ]
    },
    {
      "cell_type": "code",
      "source": [
        "history_frame.loc[:, ['acc', 'val_acc']].plot()"
      ],
      "metadata": {
        "colab": {
          "base_uri": "https://localhost:8080/",
          "height": 282
        },
        "outputId": "26004a0b-8ae5-47b7-94ce-fc82bb3de076",
        "id": "BFZ_Lsvrn0Vt"
      },
      "execution_count": 31,
      "outputs": [
        {
          "output_type": "execute_result",
          "data": {
            "text/plain": [
              "<matplotlib.axes._subplots.AxesSubplot at 0x7f492df00f50>"
            ]
          },
          "metadata": {},
          "execution_count": 31
        },
        {
          "output_type": "display_data",
          "data": {
            "text/plain": [
              "<Figure size 432x288 with 1 Axes>"
            ],
            "image/png": "[encoded data removed]"
          },
          "metadata": {
            "needs_background": "light"
          }
        }
      ]
    },
    {
      "cell_type": "code",
      "source": [
        "print(ytrain.shape, ytest.shape)"
      ],
      "metadata": {
        "colab": {
          "base_uri": "https://localhost:8080/"
        },
        "outputId": "686e32f4-03dd-476f-e8f2-1b76bfe69340",
        "id": "84PYJYKMn0Vt"
      },
      "execution_count": 32,
      "outputs": [
        {
          "output_type": "stream",
          "name": "stdout",
          "text": [
            "(12150, 13) (389, 13)\n"
          ]
        }
      ]
    },
    {
      "cell_type": "code",
      "source": [
        "loss, acc = model.evaluate(Xtest, ytest)\n",
        "print('Test Accuracy: %f' % (acc*100))"
      ],
      "metadata": {
        "colab": {
          "base_uri": "https://localhost:8080/"
        },
        "outputId": "6c5bb53a-1eb8-49ab-97be-fec627655f88",
        "id": "At8ST7Ttn0Vu"
      },
      "execution_count": 33,
      "outputs": [
        {
          "output_type": "stream",
          "name": "stdout",
          "text": [
            "13/13 [==============================] - 0s 7ms/step - loss: 2.2705 - acc: 0.3213\n",
            "Test Accuracy: 32.133675\n"
          ]
        }
      ]
    }
  ]
}